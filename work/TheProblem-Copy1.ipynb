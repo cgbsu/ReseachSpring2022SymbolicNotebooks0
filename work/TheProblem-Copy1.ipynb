{
 "cells": [
  {
   "cell_type": "code",
   "execution_count": 1,
   "id": "71ed11dd-4138-49e9-9f4d-d41c62e04013",
   "metadata": {},
   "outputs": [],
   "source": [
    "import sympy as sp"
   ]
  },
  {
   "cell_type": "code",
   "execution_count": null,
   "id": "be62fcc5-871c-4529-b011-3525b498b263",
   "metadata": {},
   "outputs": [],
   "source": []
  },
  {
   "cell_type": "code",
   "execution_count": 2,
   "id": "4ebbc7f3-d728-4b3b-815e-f945a309a954",
   "metadata": {},
   "outputs": [],
   "source": [
    "B0, B1, x, L_0, L_1, k_1, Bt0, Br0, B1t, B1r, A1, N1, Ct1, Cr1 = sp.symbols(\"B_0 B_1 x L_0 L_1 k_1 B_{t_0} B_{r_0} B_{t_1} B_{r_1} A_1 N_1 C_{t_1} C_{r_1}\")"
   ]
  },
  {
   "cell_type": "code",
   "execution_count": 3,
   "id": "12755499-91a1-4352-9499-c50287bdf910",
   "metadata": {},
   "outputs": [],
   "source": [
    "fpsi_1 = sp.Function(\"psi_1\")(x)"
   ]
  },
  {
   "cell_type": "code",
   "execution_count": 4,
   "id": "fae526be-213b-4a1c-9550-8a5ec2aa9099",
   "metadata": {},
   "outputs": [],
   "source": [
    "psi_1 = sp.Eq(fpsi_1, A1 * (Ct1 * sp.exp(x * k_1) + Cr1 * sp.exp(-x * k_1)))"
   ]
  },
  {
   "cell_type": "code",
   "execution_count": 5,
   "id": "e263c560-4c05-4461-945c-273c2838a955",
   "metadata": {},
   "outputs": [
    {
     "data": {
      "text/latex": [
       "$\\displaystyle \\psi_{1}{\\left(x \\right)} = A_{1} \\left(C_{r_1} e^{- k_{1} x} + C_{t_1} e^{k_{1} x}\\right)$"
      ],
      "text/plain": [
       "Eq(psi_1(x), A_1*(C_{r_1}*exp(-k_1*x) + C_{t_1}*exp(k_1*x)))"
      ]
     },
     "execution_count": 5,
     "metadata": {},
     "output_type": "execute_result"
    }
   ],
   "source": [
    "psi_1"
   ]
  },
  {
   "cell_type": "code",
   "execution_count": null,
   "id": "19152cc9-9dd2-4f69-a3ae-00201aa00020",
   "metadata": {},
   "outputs": [],
   "source": []
  },
  {
   "cell_type": "code",
   "execution_count": 6,
   "id": "ffd7065d-4bca-4e8c-bce5-8177effd16e7",
   "metadata": {},
   "outputs": [],
   "source": [
    "psi_1_N = sp.Eq(N1, sp.integrate(psi_1.rhs * psi_1.rhs, L_0, L_1))"
   ]
  },
  {
   "cell_type": "code",
   "execution_count": 7,
   "id": "d1ff5c7a-abb5-4903-8573-092e4e25014b",
   "metadata": {},
   "outputs": [
    {
     "data": {
      "text/latex": [
       "$\\displaystyle N_{1} = A_{1}^{2} L_{0} L_{1} \\left(C_{r_1} e^{- k_{1} x} + C_{t_1} e^{k_{1} x}\\right)^{2}$"
      ],
      "text/plain": [
       "Eq(N_1, A_1**2*L_0*L_1*(C_{r_1}*exp(-k_1*x) + C_{t_1}*exp(k_1*x))**2)"
      ]
     },
     "execution_count": 7,
     "metadata": {},
     "output_type": "execute_result"
    }
   ],
   "source": [
    "psi_1_N"
   ]
  },
  {
   "cell_type": "code",
   "execution_count": 8,
   "id": "27e20f55-1afb-45a0-98ee-cfe1f350d7b5",
   "metadata": {},
   "outputs": [],
   "source": [
    "Cr1sols = sp.solve(psi_1_N, Cr1)"
   ]
  },
  {
   "cell_type": "code",
   "execution_count": 9,
   "id": "eb385346-ab11-4d5a-b5ff-288ec55661d6",
   "metadata": {},
   "outputs": [
    {
     "data": {
      "text/latex": [
       "$\\displaystyle - C_{t_1} e^{2 k_{1} x} - \\frac{\\sqrt{L_{0} L_{1} N_{1} e^{2 k_{1} x}}}{A_{1} L_{0} L_{1}}$"
      ],
      "text/plain": [
       "-C_{t_1}*exp(2*k_1*x) - sqrt(L_0*L_1*N_1*exp(2*k_1*x))/(A_1*L_0*L_1)"
      ]
     },
     "execution_count": 9,
     "metadata": {},
     "output_type": "execute_result"
    }
   ],
   "source": [
    "Cr1sols[0]"
   ]
  },
  {
   "cell_type": "code",
   "execution_count": 10,
   "id": "424346cb-9a6a-4cb5-871c-27e42d5a8ae7",
   "metadata": {},
   "outputs": [
    {
     "data": {
      "text/latex": [
       "$\\displaystyle - C_{t_1} e^{2 k_{1} x} + \\frac{\\sqrt{L_{0} L_{1} N_{1} e^{2 k_{1} x}}}{A_{1} L_{0} L_{1}}$"
      ],
      "text/plain": [
       "-C_{t_1}*exp(2*k_1*x) + sqrt(L_0*L_1*N_1*exp(2*k_1*x))/(A_1*L_0*L_1)"
      ]
     },
     "execution_count": 10,
     "metadata": {},
     "output_type": "execute_result"
    }
   ],
   "source": [
    "Cr1sols[1]"
   ]
  },
  {
   "cell_type": "code",
   "execution_count": 11,
   "id": "33b39775-b352-4778-bb66-005dc1a44717",
   "metadata": {},
   "outputs": [],
   "source": [
    "B0eq = sp.Eq(B0, A1 * (Ct1 * sp.exp(L_0 * k_1) + Cr1 * sp.exp(-L_0 * k_1)))"
   ]
  },
  {
   "cell_type": "code",
   "execution_count": 12,
   "id": "9d1179ad-2ccf-4dec-adc7-8e9ebd82e48c",
   "metadata": {},
   "outputs": [
    {
     "data": {
      "text/latex": [
       "$\\displaystyle B_{0} = A_{1} \\left(C_{r_1} e^{- L_{0} k_{1}} + C_{t_1} e^{L_{0} k_{1}}\\right)$"
      ],
      "text/plain": [
       "Eq(B_0, A_1*(C_{r_1}*exp(-L_0*k_1) + C_{t_1}*exp(L_0*k_1)))"
      ]
     },
     "execution_count": 12,
     "metadata": {},
     "output_type": "execute_result"
    }
   ],
   "source": [
    "B0eq"
   ]
  },
  {
   "cell_type": "code",
   "execution_count": 13,
   "id": "d36a69b2-5f89-4728-8664-6318d06b2437",
   "metadata": {},
   "outputs": [],
   "source": [
    "B1eq = sp.Eq(B1, A1 * (Ct1 * sp.exp(L_1 * k_1) + Cr1 * sp.exp(-L_1 * k_1)))"
   ]
  },
  {
   "cell_type": "code",
   "execution_count": 14,
   "id": "ef8e4985-afa1-486a-84aa-0b7eeac296f5",
   "metadata": {},
   "outputs": [
    {
     "data": {
      "text/latex": [
       "$\\displaystyle B_{1} = A_{1} \\left(C_{r_1} e^{- L_{1} k_{1}} + C_{t_1} e^{L_{1} k_{1}}\\right)$"
      ],
      "text/plain": [
       "Eq(B_1, A_1*(C_{r_1}*exp(-L_1*k_1) + C_{t_1}*exp(L_1*k_1)))"
      ]
     },
     "execution_count": 14,
     "metadata": {},
     "output_type": "execute_result"
    }
   ],
   "source": [
    "B1eq"
   ]
  },
  {
   "cell_type": "code",
   "execution_count": 15,
   "id": "38f95304-4fdb-47ed-b61f-2aea359312f8",
   "metadata": {},
   "outputs": [],
   "source": [
    "sols = sp.solve([psi_1_N, B1eq, B0eq], [Ct1, Cr1])"
   ]
  },
  {
   "cell_type": "code",
   "execution_count": 16,
   "id": "668884bc-a0dd-45ae-9bb5-0234a8360897",
   "metadata": {},
   "outputs": [
    {
     "data": {
      "text/plain": [
       "[]"
      ]
     },
     "execution_count": 16,
     "metadata": {},
     "output_type": "execute_result"
    }
   ],
   "source": [
    "sols ### See \"the problem\"?"
   ]
  },
  {
   "cell_type": "code",
   "execution_count": null,
   "id": "5171e7c2-f4c1-43ed-9b94-9840e5921714",
   "metadata": {},
   "outputs": [],
   "source": []
  },
  {
   "cell_type": "code",
   "execution_count": 17,
   "id": "35b851c3-aeb2-40f7-b447-aca90666b615",
   "metadata": {},
   "outputs": [
    {
     "data": {
      "text/latex": [
       "$\\displaystyle \\psi_{1}{\\left(x \\right)} = A_{1} \\left(C_{r_1} e^{- k_{1} x} + C_{t_1} e^{k_{1} x}\\right)$"
      ],
      "text/plain": [
       "Eq(psi_1(x), A_1*(C_{r_1}*exp(-k_1*x) + C_{t_1}*exp(k_1*x)))"
      ]
     },
     "execution_count": 17,
     "metadata": {},
     "output_type": "execute_result"
    }
   ],
   "source": [
    "psi_1"
   ]
  },
  {
   "cell_type": "code",
   "execution_count": 18,
   "id": "715400fe-2926-4815-8a2d-787742b12ae4",
   "metadata": {},
   "outputs": [],
   "source": [
    "B0sol = [B0eq.subs({Cr1 : Cr1sols[0]}).simplify(), B0eq.subs({Cr1 : Cr1sols[1]}).simplify()]"
   ]
  },
  {
   "cell_type": "code",
   "execution_count": 19,
   "id": "f20a9f4a-615c-47b7-bedf-2e40d4e0eeda",
   "metadata": {},
   "outputs": [
    {
     "data": {
      "text/latex": [
       "$\\displaystyle B_{0} = A_{1} C_{t_1} e^{L_{0} k_{1}} - A_{1} C_{t_1} e^{- L_{0} k_{1} + 2 k_{1} x} - \\frac{\\sqrt{L_{0} L_{1} N_{1} e^{2 k_{1} x}} e^{- L_{0} k_{1}}}{L_{0} L_{1}}$"
      ],
      "text/plain": [
       "Eq(B_0, A_1*C_{t_1}*exp(L_0*k_1) - A_1*C_{t_1}*exp(-L_0*k_1 + 2*k_1*x) - sqrt(L_0*L_1*N_1*exp(2*k_1*x))*exp(-L_0*k_1)/(L_0*L_1))"
      ]
     },
     "execution_count": 19,
     "metadata": {},
     "output_type": "execute_result"
    }
   ],
   "source": [
    "B0sol[0]"
   ]
  },
  {
   "cell_type": "code",
   "execution_count": 20,
   "id": "82ede8ad-ae99-46a7-8778-5b775b718b01",
   "metadata": {},
   "outputs": [
    {
     "data": {
      "text/latex": [
       "$\\displaystyle B_{0} = A_{1} C_{t_1} e^{L_{0} k_{1}} - A_{1} C_{t_1} e^{- L_{0} k_{1} + 2 k_{1} x} + \\frac{\\sqrt{L_{0} L_{1} N_{1} e^{2 k_{1} x}} e^{- L_{0} k_{1}}}{L_{0} L_{1}}$"
      ],
      "text/plain": [
       "Eq(B_0, A_1*C_{t_1}*exp(L_0*k_1) - A_1*C_{t_1}*exp(-L_0*k_1 + 2*k_1*x) + sqrt(L_0*L_1*N_1*exp(2*k_1*x))*exp(-L_0*k_1)/(L_0*L_1))"
      ]
     },
     "execution_count": 20,
     "metadata": {},
     "output_type": "execute_result"
    }
   ],
   "source": [
    "B0sol[1]"
   ]
  },
  {
   "cell_type": "code",
   "execution_count": 21,
   "id": "c1f3937a-ec1f-4712-9d47-bb15e4801b75",
   "metadata": {},
   "outputs": [],
   "source": [
    "B02sol = sp.Eq(B0 ** 2, (B0sol[0].rhs * B0sol[1].rhs).expand().subs({x : L_0}).simplify())"
   ]
  },
  {
   "cell_type": "code",
   "execution_count": 22,
   "id": "42d68475-d04f-4db7-8860-4a19c43696f7",
   "metadata": {},
   "outputs": [
    {
     "data": {
      "text/latex": [
       "$\\displaystyle B_{0}^{2} = - \\frac{N_{1}}{L_{0} L_{1}}$"
      ],
      "text/plain": [
       "Eq(B_0**2, -N_1/(L_0*L_1))"
      ]
     },
     "execution_count": 22,
     "metadata": {},
     "output_type": "execute_result"
    }
   ],
   "source": [
    "B02sol"
   ]
  },
  {
   "cell_type": "code",
   "execution_count": 24,
   "id": "a7a5c6d2-18ef-4d66-8090-924bae68018c",
   "metadata": {},
   "outputs": [],
   "source": [
    "Ct1Sqared = sp.solve(B02sol, Ct1**2)"
   ]
  },
  {
   "cell_type": "code",
   "execution_count": 25,
   "id": "14598572-55e7-47c2-b603-4b2fbe741dca",
   "metadata": {},
   "outputs": [
    {
     "data": {
      "text/plain": [
       "[]"
      ]
     },
     "execution_count": 25,
     "metadata": {},
     "output_type": "execute_result"
    }
   ],
   "source": [
    "Ct1Sqared"
   ]
  },
  {
   "cell_type": "code",
   "execution_count": 26,
   "id": "1a9275fb-f9ef-4a47-8587-bac34e576ac7",
   "metadata": {},
   "outputs": [],
   "source": [
    "B1sol = [B1eq.subs({Cr1 : Cr1sols[0]}).simplify(), B1eq.subs({Cr1 : Cr1sols[1]}).simplify()]"
   ]
  },
  {
   "cell_type": "code",
   "execution_count": 27,
   "id": "c2f36432-c5fd-4991-8b63-d36cbe18c706",
   "metadata": {},
   "outputs": [],
   "source": [
    "B12sol = sp.Eq(B1 ** 2, (B1sol[0].rhs * B1sol[1].rhs).expand().subs({x : L_1}).simplify())"
   ]
  },
  {
   "cell_type": "code",
   "execution_count": 28,
   "id": "7356f68d-044e-4442-8bdb-ec32bc8cf798",
   "metadata": {},
   "outputs": [
    {
     "data": {
      "text/latex": [
       "$\\displaystyle B_{1}^{2} = - \\frac{N_{1}}{L_{0} L_{1}}$"
      ],
      "text/plain": [
       "Eq(B_1**2, -N_1/(L_0*L_1))"
      ]
     },
     "execution_count": 28,
     "metadata": {},
     "output_type": "execute_result"
    }
   ],
   "source": [
    "B12sol"
   ]
  },
  {
   "cell_type": "code",
   "execution_count": null,
   "id": "71190a83-5004-4a7d-9a11-60accb6062c9",
   "metadata": {},
   "outputs": [],
   "source": []
  }
 ],
 "metadata": {
  "kernelspec": {
   "display_name": "Python 3 (ipykernel)",
   "language": "python",
   "name": "python3"
  },
  "language_info": {
   "codemirror_mode": {
    "name": "ipython",
    "version": 3
   },
   "file_extension": ".py",
   "mimetype": "text/x-python",
   "name": "python",
   "nbconvert_exporter": "python",
   "pygments_lexer": "ipython3",
   "version": "3.10.5"
  }
 },
 "nbformat": 4,
 "nbformat_minor": 5
}
