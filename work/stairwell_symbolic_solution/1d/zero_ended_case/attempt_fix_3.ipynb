{
 "cells": [
  {
   "cell_type": "code",
   "execution_count": 1,
   "id": "9da4ca07-5038-40fc-b597-27be53769384",
   "metadata": {},
   "outputs": [],
   "source": [
    "import sympy as sp"
   ]
  },
  {
   "cell_type": "code",
   "execution_count": 2,
   "id": "bbd2fd19-a4e7-44c8-ba72-b83d5ae065ea",
   "metadata": {},
   "outputs": [],
   "source": [
    "import sympy.physics.units.quantities as sq"
   ]
  },
  {
   "cell_type": "code",
   "execution_count": 3,
   "id": "3b8c39ff-3668-4ef3-9add-b334784a3333",
   "metadata": {},
   "outputs": [],
   "source": [
    "from sympy.physics.quantum.constants import hbar"
   ]
  },
  {
   "cell_type": "code",
   "execution_count": 4,
   "id": "75e40f13-aa6e-41d1-9ced-7a90df52a98e",
   "metadata": {},
   "outputs": [],
   "source": [
    "import numpy as np"
   ]
  },
  {
   "cell_type": "code",
   "execution_count": 5,
   "id": "acfd29f5-00db-41bb-941a-2054f1f75120",
   "metadata": {},
   "outputs": [],
   "source": [
    "import matplotlib.pyplot as plt"
   ]
  },
  {
   "cell_type": "code",
   "execution_count": 6,
   "id": "1111e70c-3b09-49ae-8391-96b64b287e33",
   "metadata": {},
   "outputs": [],
   "source": [
    "from copy import deepcopy"
   ]
  },
  {
   "cell_type": "code",
   "execution_count": null,
   "id": "dc9bc350-c331-43aa-bdd9-9b2d117bf211",
   "metadata": {},
   "outputs": [],
   "source": []
  },
  {
   "cell_type": "code",
   "execution_count": 7,
   "id": "82f14997-b75d-4dd8-baf6-d565f0b12bd1",
   "metadata": {},
   "outputs": [],
   "source": [
    "from custom_libraries.stepper import *"
   ]
  },
  {
   "cell_type": "code",
   "execution_count": 8,
   "id": "100adb60-1868-493c-bbe9-9b2dd1bf5af6",
   "metadata": {},
   "outputs": [],
   "source": [
    "from custom_libraries.schrodinger import *"
   ]
  },
  {
   "cell_type": "code",
   "execution_count": 9,
   "id": "4d10ab16-1b4f-402a-bcd5-8029292865bc",
   "metadata": {},
   "outputs": [],
   "source": [
    "from custom_libraries.utilities import *"
   ]
  },
  {
   "cell_type": "code",
   "execution_count": null,
   "id": "95748091-3fe2-45a3-beaa-0e56ac4e61f9",
   "metadata": {},
   "outputs": [],
   "source": []
  },
  {
   "cell_type": "code",
   "execution_count": 10,
   "id": "151680e1-cc8c-4f02-9fbc-32cb1b19f56f",
   "metadata": {},
   "outputs": [],
   "source": [
    "def real_harmonics( _ ):\n",
    "    assumptions = standard_harmonic_assumptions( _ );\n",
    "    assumptions.update( { 'real' : True } )\n",
    "    return assumptions"
   ]
  },
  {
   "cell_type": "code",
   "execution_count": null,
   "id": "20bc043c-2168-45b2-b95d-32fcdb201da9",
   "metadata": {},
   "outputs": [],
   "source": []
  },
  {
   "cell_type": "code",
   "execution_count": 11,
   "id": "8984696f-ac0b-4d68-8f5f-036778be011f",
   "metadata": {},
   "outputs": [],
   "source": [
    "stairwell_solver = TimeIndependentSchrodingerConstantPotentials1D( \n",
    "        StairWell.default_non_uniform_length_potential_table(), \n",
    "        tuple( StairWell.default_non_uniform_length_potential_table().keys() )[ -1 ], \n",
    "        make_psis = make_psi_numbered, \n",
    "        harmonics_assumptions = real_harmonics, \n",
    "        repeating = False, \n",
    "        as_distances = True, \n",
    "        #as_distances = False, \n",
    "        #normalization_conjugate_not_squared_absolute_value = False\n",
    "    )"
   ]
  },
  {
   "cell_type": "code",
   "execution_count": null,
   "id": "2e946e04-0121-448e-8269-4e69ba4e1c28",
   "metadata": {},
   "outputs": [],
   "source": []
  },
  {
   "cell_type": "code",
   "execution_count": 12,
   "id": "012de83f-543a-49d4-b421-ff2d2400121d",
   "metadata": {},
   "outputs": [
    {
     "data": {
      "text/plain": [
       "(('BoundryZeroConditions', {\\psi_{0}(0): 0, \\psi_{2}(L_2): 0}),\n",
       " ('BoundryZeroConditions', {\\psi_{0}(0): 0, \\psi_{2}(L_2): 0}))"
      ]
     },
     "execution_count": 12,
     "metadata": {},
     "output_type": "execute_result"
    }
   ],
   "source": [
    "stairwell_solver.impose_zero_conditions_to_ends()"
   ]
  },
  {
   "cell_type": "code",
   "execution_count": null,
   "id": "78798fb3-fd83-40b7-9180-c8da0dbe588e",
   "metadata": {},
   "outputs": [],
   "source": []
  },
  {
   "cell_type": "code",
   "execution_count": 13,
   "id": "bc51b09a-c161-4008-b763-81f71b487841",
   "metadata": {},
   "outputs": [
    {
     "data": {
      "text/latex": [
       "$\\displaystyle - k_{0}^{2} \\psi_{0}{\\left(x \\right)} + \\frac{d^{2}}{d x^{2}} \\psi_{0}{\\left(x \\right)} = 0$"
      ],
      "text/plain": [
       "Eq(-k_0**2*\\psi_{0}(x) + Derivative(\\psi_{0}(x), (x, 2)), 0)"
      ]
     },
     "metadata": {},
     "output_type": "display_data"
    },
    {
     "data": {
      "text/latex": [
       "$\\displaystyle - k_{1}^{2} \\psi_{1}{\\left(x \\right)} + \\frac{d^{2}}{d x^{2}} \\psi_{1}{\\left(x \\right)} = 0$"
      ],
      "text/plain": [
       "Eq(-k_1**2*\\psi_{1}(x) + Derivative(\\psi_{1}(x), (x, 2)), 0)"
      ]
     },
     "metadata": {},
     "output_type": "display_data"
    },
    {
     "data": {
      "text/latex": [
       "$\\displaystyle - k_{2}^{2} \\psi_{2}{\\left(x \\right)} + \\frac{d^{2}}{d x^{2}} \\psi_{2}{\\left(x \\right)} = 0$"
      ],
      "text/plain": [
       "Eq(-k_2**2*\\psi_{2}(x) + Derivative(\\psi_{2}(x), (x, 2)), 0)"
      ]
     },
     "metadata": {},
     "output_type": "display_data"
    }
   ],
   "source": [
    "display_steps( stairwell_solver.equations )"
   ]
  },
  {
   "cell_type": "code",
   "execution_count": null,
   "id": "a0757648-d8b4-4a28-b351-221f4830ff75",
   "metadata": {},
   "outputs": [],
   "source": []
  },
  {
   "cell_type": "code",
   "execution_count": 14,
   "id": "28d85323-24e4-49cb-93e6-54953e6104c7",
   "metadata": {},
   "outputs": [
    {
     "data": {
      "text/latex": [
       "$\\displaystyle k_{0} = \\frac{\\sqrt{2} \\sqrt{- E + V_{0}} \\sqrt{\\text{m}}}{\\hbar}$"
      ],
      "text/plain": [
       "Eq(k_0, sqrt(2)*sqrt(m)*sqrt(-E + V_0)/hbar)"
      ]
     },
     "metadata": {},
     "output_type": "display_data"
    },
    {
     "data": {
      "text/latex": [
       "$\\displaystyle k_{1} = \\frac{\\sqrt{2} \\sqrt{- E + V_{1}} \\sqrt{\\text{m}}}{\\hbar}$"
      ],
      "text/plain": [
       "Eq(k_1, sqrt(2)*sqrt(m)*sqrt(-E + V_1)/hbar)"
      ]
     },
     "metadata": {},
     "output_type": "display_data"
    },
    {
     "data": {
      "text/latex": [
       "$\\displaystyle k_{2} = \\frac{\\sqrt{2} \\sqrt{- E + V_{2}} \\sqrt{\\text{m}}}{\\hbar}$"
      ],
      "text/plain": [
       "Eq(k_2, sqrt(2)*sqrt(m)*sqrt(-E + V_2)/hbar)"
      ]
     },
     "metadata": {},
     "output_type": "display_data"
    }
   ],
   "source": [
    "display_in( stairwell_solver.harmonic_constants )"
   ]
  },
  {
   "cell_type": "code",
   "execution_count": 15,
   "id": "20f53166-87ec-4057-932d-5b0947a3427b",
   "metadata": {},
   "outputs": [
    {
     "data": {
      "text/plain": [
       "{'ContinuityConditions': {\\psi_{0}(L_0): \\psi_{1}(0),\n",
       "  \\psi_{1}(L_1): \\psi_{2}(0)},\n",
       " 'BoundryZeroConditions': {\\psi_{0}(0): 0, \\psi_{2}(L_2): 0}}"
      ]
     },
     "execution_count": 15,
     "metadata": {},
     "output_type": "execute_result"
    }
   ],
   "source": [
    "stairwell_solver.boundries.boundries"
   ]
  },
  {
   "cell_type": "code",
   "execution_count": 16,
   "id": "9fe5cbdc-ea5a-4ca1-a54f-a70e30069bec",
   "metadata": {},
   "outputs": [
    {
     "data": {
      "text/plain": [
       "{\\psi_{0}(L_0): \\psi_{1}(0), \\psi_{1}(L_1): \\psi_{2}(0)}"
      ]
     },
     "execution_count": 16,
     "metadata": {},
     "output_type": "execute_result"
    }
   ],
   "source": [
    "stairwell_solver.boundries.ContinuityConditions"
   ]
  },
  {
   "cell_type": "code",
   "execution_count": null,
   "id": "1cee42e4-0490-4850-b52f-3b6b9547e3f1",
   "metadata": {},
   "outputs": [],
   "source": []
  },
  {
   "cell_type": "code",
   "execution_count": 17,
   "id": "d78132f8-2d0a-438c-a94d-3c5d1b79786d",
   "metadata": {},
   "outputs": [
    {
     "data": {
      "text/plain": [
       "{\\psi_{0}(0): 0, \\psi_{2}(L_2): 0}"
      ]
     },
     "execution_count": 17,
     "metadata": {},
     "output_type": "execute_result"
    }
   ],
   "source": [
    "stairwell_solver.boundries.BoundryZeroConditions"
   ]
  },
  {
   "cell_type": "code",
   "execution_count": null,
   "id": "519623f3-e044-4ce4-89ce-0bf045971c69",
   "metadata": {},
   "outputs": [],
   "source": []
  },
  {
   "cell_type": "code",
   "execution_count": 18,
   "id": "bad0d660-061c-4402-af40-79303da747d0",
   "metadata": {},
   "outputs": [
    {
     "data": {
      "text/plain": [
       "('LastUpdatedAllBoundryConditions',\n",
       " {\\psi_{0}(L_0): \\psi_{1}(0),\n",
       "  \\psi_{1}(L_1): \\psi_{2}(0),\n",
       "  \\psi_{0}(0): 0,\n",
       "  \\psi_{2}(L_2): 0})"
      ]
     },
     "execution_count": 18,
     "metadata": {},
     "output_type": "execute_result"
    }
   ],
   "source": [
    "stairwell_solver.boundries.update_all_boundry_conditions()"
   ]
  },
  {
   "cell_type": "code",
   "execution_count": null,
   "id": "7da0e1b5-1c97-4329-bd28-5b9447f76641",
   "metadata": {},
   "outputs": [],
   "source": []
  },
  {
   "cell_type": "code",
   "execution_count": 19,
   "id": "03f1960a-88b6-4ef2-9101-fb89a936000a",
   "metadata": {},
   "outputs": [
    {
     "data": {
      "text/plain": [
       "'ContinuityConditions'"
      ]
     },
     "metadata": {},
     "output_type": "display_data"
    },
    {
     "data": {
      "text/latex": [
       "$\\displaystyle \\psi_{0}{\\left(L_{0} \\right)} = \\psi_{1}{\\left(0 \\right)}$"
      ],
      "text/plain": [
       "Eq(\\psi_{0}(L_0), \\psi_{1}(0))"
      ]
     },
     "metadata": {},
     "output_type": "display_data"
    },
    {
     "data": {
      "text/latex": [
       "$\\displaystyle \\psi_{1}{\\left(L_{1} \\right)} = \\psi_{2}{\\left(0 \\right)}$"
      ],
      "text/plain": [
       "Eq(\\psi_{1}(L_1), \\psi_{2}(0))"
      ]
     },
     "metadata": {},
     "output_type": "display_data"
    },
    {
     "data": {
      "text/plain": [
       "'BoundryZeroConditions'"
      ]
     },
     "metadata": {},
     "output_type": "display_data"
    },
    {
     "data": {
      "text/latex": [
       "$\\displaystyle \\psi_{0}{\\left(0 \\right)} = 0$"
      ],
      "text/plain": [
       "Eq(\\psi_{0}(0), 0)"
      ]
     },
     "metadata": {},
     "output_type": "display_data"
    },
    {
     "data": {
      "text/latex": [
       "$\\displaystyle \\psi_{2}{\\left(L_{2} \\right)} = 0$"
      ],
      "text/plain": [
       "Eq(\\psi_{2}(L_2), 0)"
      ]
     },
     "metadata": {},
     "output_type": "display_data"
    },
    {
     "data": {
      "text/plain": [
       "'LastUpdatedAllBoundryConditions'"
      ]
     },
     "metadata": {},
     "output_type": "display_data"
    },
    {
     "data": {
      "text/latex": [
       "$\\displaystyle \\psi_{0}{\\left(L_{0} \\right)} = \\psi_{1}{\\left(0 \\right)}$"
      ],
      "text/plain": [
       "Eq(\\psi_{0}(L_0), \\psi_{1}(0))"
      ]
     },
     "metadata": {},
     "output_type": "display_data"
    },
    {
     "data": {
      "text/latex": [
       "$\\displaystyle \\psi_{1}{\\left(L_{1} \\right)} = \\psi_{2}{\\left(0 \\right)}$"
      ],
      "text/plain": [
       "Eq(\\psi_{1}(L_1), \\psi_{2}(0))"
      ]
     },
     "metadata": {},
     "output_type": "display_data"
    },
    {
     "data": {
      "text/latex": [
       "$\\displaystyle \\psi_{0}{\\left(0 \\right)} = 0$"
      ],
      "text/plain": [
       "Eq(\\psi_{0}(0), 0)"
      ]
     },
     "metadata": {},
     "output_type": "display_data"
    },
    {
     "data": {
      "text/latex": [
       "$\\displaystyle \\psi_{2}{\\left(L_{2} \\right)} = 0$"
      ],
      "text/plain": [
       "Eq(\\psi_{2}(L_2), 0)"
      ]
     },
     "metadata": {},
     "output_type": "display_data"
    }
   ],
   "source": [
    "stairwell_solver.boundries.display()"
   ]
  },
  {
   "cell_type": "code",
   "execution_count": 20,
   "id": "3fc0fbd1-a832-4ef7-803b-814812d18099",
   "metadata": {},
   "outputs": [
    {
     "data": {
      "text/plain": [
       "<custom_libraries.schrodinger.TimeIndependentSchrodingerConstantPotentials1D at 0x7f6f75efb340>"
      ]
     },
     "execution_count": 20,
     "metadata": {},
     "output_type": "execute_result"
    }
   ],
   "source": [
    "stairwell_solver"
   ]
  },
  {
   "cell_type": "code",
   "execution_count": 21,
   "id": "0f4574ca-54c8-4820-9212-d94622eab763",
   "metadata": {
    "tags": []
   },
   "outputs": [],
   "source": [
    "solutions = stairwell_solver.solve_odes()"
   ]
  },
  {
   "cell_type": "code",
   "execution_count": null,
   "id": "f1a5e157-8b2f-4d4f-bb64-268ebfba1344",
   "metadata": {},
   "outputs": [],
   "source": []
  },
  {
   "cell_type": "code",
   "execution_count": 22,
   "id": "906f8879-c568-484d-b095-81bbdaf9fce3",
   "metadata": {},
   "outputs": [
    {
     "data": {
      "text/latex": [
       "$\\displaystyle \\psi_{0}{\\left(x \\right)} = \\frac{\\psi_{1}{\\left(0 \\right)} e^{L_{0} k_{0}} e^{k_{0} x}}{e^{2 L_{0} k_{0}} - 1} - \\frac{\\psi_{1}{\\left(0 \\right)} e^{L_{0} k_{0}} e^{- k_{0} x}}{e^{2 L_{0} k_{0}} - 1}$"
      ],
      "text/plain": [
       "Eq(\\psi_{0}(x), \\psi_{1}(0)*exp(L_0*k_0)*exp(k_0*x)/(exp(2*L_0*k_0) - 1) - \\psi_{1}(0)*exp(L_0*k_0)*exp(-k_0*x)/(exp(2*L_0*k_0) - 1))"
      ]
     },
     "metadata": {},
     "output_type": "display_data"
    },
    {
     "data": {
      "text/latex": [
       "$\\displaystyle \\psi_{1}{\\left(x \\right)} = \\frac{\\left(\\psi_{0}{\\left(L_{0} \\right)} e^{2 L_{1} k_{1}} - \\psi_{2}{\\left(0 \\right)} e^{L_{1} k_{1}}\\right) e^{- k_{1} x}}{e^{2 L_{1} k_{1}} - 1} + \\frac{\\left(- \\psi_{0}{\\left(L_{0} \\right)} + \\psi_{2}{\\left(0 \\right)} e^{L_{1} k_{1}}\\right) e^{k_{1} x}}{e^{2 L_{1} k_{1}} - 1}$"
      ],
      "text/plain": [
       "Eq(\\psi_{1}(x), (\\psi_{0}(L_0)*exp(2*L_1*k_1) - \\psi_{2}(0)*exp(L_1*k_1))*exp(-k_1*x)/(exp(2*L_1*k_1) - 1) + (-\\psi_{0}(L_0) + \\psi_{2}(0)*exp(L_1*k_1))*exp(k_1*x)/(exp(2*L_1*k_1) - 1))"
      ]
     },
     "metadata": {},
     "output_type": "display_data"
    },
    {
     "data": {
      "text/latex": [
       "$\\displaystyle \\psi_{2}{\\left(x \\right)} = \\frac{\\psi_{1}{\\left(L_{1} \\right)} e^{2 L_{2} k_{2}} e^{- k_{2} x}}{e^{2 L_{2} k_{2}} - 1} - \\frac{\\psi_{1}{\\left(L_{1} \\right)} e^{k_{2} x}}{e^{2 L_{2} k_{2}} - 1}$"
      ],
      "text/plain": [
       "Eq(\\psi_{2}(x), \\psi_{1}(L_1)*exp(2*L_2*k_2)*exp(-k_2*x)/(exp(2*L_2*k_2) - 1) - \\psi_{1}(L_1)*exp(k_2*x)/(exp(2*L_2*k_2) - 1))"
      ]
     },
     "metadata": {},
     "output_type": "display_data"
    }
   ],
   "source": [
    "display_in( solutions )"
   ]
  },
  {
   "cell_type": "code",
   "execution_count": null,
   "id": "ef29aa28-b22b-42c9-8dd1-0da0829d2f6a",
   "metadata": {},
   "outputs": [],
   "source": []
  },
  {
   "cell_type": "code",
   "execution_count": null,
   "id": "3db66496-1231-4a4f-8bc1-f6b10f2c6753",
   "metadata": {},
   "outputs": [],
   "source": []
  },
  {
   "cell_type": "code",
   "execution_count": 23,
   "id": "e0ca1cc1-1b0f-4d1b-a646-1cce6caf6eed",
   "metadata": {},
   "outputs": [],
   "source": [
    "#stairwell_solver.substitute_wave_functions_into_normalizations()"
   ]
  },
  {
   "cell_type": "code",
   "execution_count": 24,
   "id": "ca842015-740c-4620-be56-3d5b61b0a685",
   "metadata": {},
   "outputs": [],
   "source": [
    "#stairwell_solver.boundries_in_expression_to_constants()"
   ]
  },
  {
   "cell_type": "code",
   "execution_count": 25,
   "id": "f398e39e-055e-4981-9740-8513148b9789",
   "metadata": {},
   "outputs": [
    {
     "data": {
      "text/latex": [
       "$\\displaystyle \\psi_{0}{\\left(x \\right)} = \\frac{\\psi_{1}{\\left(0 \\right)} e^{L_{0} k_{0}} e^{k_{0} x}}{e^{2 L_{0} k_{0}} - 1} - \\frac{\\psi_{1}{\\left(0 \\right)} e^{L_{0} k_{0}} e^{- k_{0} x}}{e^{2 L_{0} k_{0}} - 1}$"
      ],
      "text/plain": [
       "Eq(\\psi_{0}(x), \\psi_{1}(0)*exp(L_0*k_0)*exp(k_0*x)/(exp(2*L_0*k_0) - 1) - \\psi_{1}(0)*exp(L_0*k_0)*exp(-k_0*x)/(exp(2*L_0*k_0) - 1))"
      ]
     },
     "metadata": {},
     "output_type": "display_data"
    },
    {
     "data": {
      "text/latex": [
       "$\\displaystyle \\psi_{1}{\\left(x \\right)} = \\frac{\\left(\\psi_{0}{\\left(L_{0} \\right)} e^{2 L_{1} k_{1}} - \\psi_{2}{\\left(0 \\right)} e^{L_{1} k_{1}}\\right) e^{- k_{1} x}}{e^{2 L_{1} k_{1}} - 1} + \\frac{\\left(- \\psi_{0}{\\left(L_{0} \\right)} + \\psi_{2}{\\left(0 \\right)} e^{L_{1} k_{1}}\\right) e^{k_{1} x}}{e^{2 L_{1} k_{1}} - 1}$"
      ],
      "text/plain": [
       "Eq(\\psi_{1}(x), (\\psi_{0}(L_0)*exp(2*L_1*k_1) - \\psi_{2}(0)*exp(L_1*k_1))*exp(-k_1*x)/(exp(2*L_1*k_1) - 1) + (-\\psi_{0}(L_0) + \\psi_{2}(0)*exp(L_1*k_1))*exp(k_1*x)/(exp(2*L_1*k_1) - 1))"
      ]
     },
     "metadata": {},
     "output_type": "display_data"
    },
    {
     "data": {
      "text/latex": [
       "$\\displaystyle \\psi_{2}{\\left(x \\right)} = \\frac{\\psi_{1}{\\left(L_{1} \\right)} e^{2 L_{2} k_{2}} e^{- k_{2} x}}{e^{2 L_{2} k_{2}} - 1} - \\frac{\\psi_{1}{\\left(L_{1} \\right)} e^{k_{2} x}}{e^{2 L_{2} k_{2}} - 1}$"
      ],
      "text/plain": [
       "Eq(\\psi_{2}(x), \\psi_{1}(L_1)*exp(2*L_2*k_2)*exp(-k_2*x)/(exp(2*L_2*k_2) - 1) - \\psi_{1}(L_1)*exp(k_2*x)/(exp(2*L_2*k_2) - 1))"
      ]
     },
     "metadata": {},
     "output_type": "display_data"
    }
   ],
   "source": [
    "display_steps( stairwell_solver.equations )"
   ]
  },
  {
   "cell_type": "code",
   "execution_count": null,
   "id": "ace409f1-a01c-4d97-9401-2172db2159ac",
   "metadata": {},
   "outputs": [],
   "source": []
  },
  {
   "cell_type": "code",
   "execution_count": 26,
   "id": "1bf6f05f-281a-43cb-a04a-9083533ab05b",
   "metadata": {},
   "outputs": [
    {
     "data": {
      "text/latex": [
       "$\\displaystyle \\int\\limits_{0}^{L_{0}} \\psi_{0}{\\left(x \\right)} \\overline{\\psi_{0}{\\left(x \\right)}}\\, dx = N_{0}$"
      ],
      "text/plain": [
       "Eq(Integral(\\psi_{0}(x)*conjugate(\\psi_{0}(x)), (x, 0, L_0)), N_0)"
      ]
     },
     "metadata": {},
     "output_type": "display_data"
    },
    {
     "data": {
      "text/latex": [
       "$\\displaystyle \\int\\limits_{0}^{L_{1}} \\psi_{1}{\\left(x \\right)} \\overline{\\psi_{1}{\\left(x \\right)}}\\, dx = N_{1}$"
      ],
      "text/plain": [
       "Eq(Integral(\\psi_{1}(x)*conjugate(\\psi_{1}(x)), (x, 0, L_1)), N_1)"
      ]
     },
     "metadata": {},
     "output_type": "display_data"
    },
    {
     "data": {
      "text/latex": [
       "$\\displaystyle \\int\\limits_{0}^{L_{2}} \\psi_{2}{\\left(x \\right)} \\overline{\\psi_{2}{\\left(x \\right)}}\\, dx = N_{2}$"
      ],
      "text/plain": [
       "Eq(Integral(\\psi_{2}(x)*conjugate(\\psi_{2}(x)), (x, 0, L_2)), N_2)"
      ]
     },
     "metadata": {},
     "output_type": "display_data"
    }
   ],
   "source": [
    "display_steps( stairwell_solver.normalizations )"
   ]
  },
  {
   "cell_type": "code",
   "execution_count": null,
   "id": "a5778d6d-6d9c-44d1-a1fe-81d7bca05adb",
   "metadata": {},
   "outputs": [],
   "source": []
  },
  {
   "cell_type": "code",
   "execution_count": 27,
   "id": "d5978865-87f0-4109-a59d-7c9cc59eb804",
   "metadata": {},
   "outputs": [
    {
     "data": {
      "text/latex": [
       "$\\displaystyle \\psi_{0}{\\left(x \\right)} = \\frac{\\psi_{1}{\\left(0 \\right)} e^{L_{0} k_{0}} e^{k_{0} x}}{e^{2 L_{0} k_{0}} - 1} - \\frac{\\psi_{1}{\\left(0 \\right)} e^{L_{0} k_{0}} e^{- k_{0} x}}{e^{2 L_{0} k_{0}} - 1}$"
      ],
      "text/plain": [
       "Eq(\\psi_{0}(x), \\psi_{1}(0)*exp(L_0*k_0)*exp(k_0*x)/(exp(2*L_0*k_0) - 1) - \\psi_{1}(0)*exp(L_0*k_0)*exp(-k_0*x)/(exp(2*L_0*k_0) - 1))"
      ]
     },
     "metadata": {},
     "output_type": "display_data"
    },
    {
     "data": {
      "text/latex": [
       "$\\displaystyle \\psi_{1}{\\left(x \\right)} = \\frac{\\left(\\psi_{0}{\\left(L_{0} \\right)} e^{2 L_{1} k_{1}} - \\psi_{2}{\\left(0 \\right)} e^{L_{1} k_{1}}\\right) e^{- k_{1} x}}{e^{2 L_{1} k_{1}} - 1} + \\frac{\\left(- \\psi_{0}{\\left(L_{0} \\right)} + \\psi_{2}{\\left(0 \\right)} e^{L_{1} k_{1}}\\right) e^{k_{1} x}}{e^{2 L_{1} k_{1}} - 1}$"
      ],
      "text/plain": [
       "Eq(\\psi_{1}(x), (\\psi_{0}(L_0)*exp(2*L_1*k_1) - \\psi_{2}(0)*exp(L_1*k_1))*exp(-k_1*x)/(exp(2*L_1*k_1) - 1) + (-\\psi_{0}(L_0) + \\psi_{2}(0)*exp(L_1*k_1))*exp(k_1*x)/(exp(2*L_1*k_1) - 1))"
      ]
     },
     "metadata": {},
     "output_type": "display_data"
    },
    {
     "data": {
      "text/latex": [
       "$\\displaystyle \\psi_{2}{\\left(x \\right)} = \\frac{\\psi_{1}{\\left(L_{1} \\right)} e^{2 L_{2} k_{2}} e^{- k_{2} x}}{e^{2 L_{2} k_{2}} - 1} - \\frac{\\psi_{1}{\\left(L_{1} \\right)} e^{k_{2} x}}{e^{2 L_{2} k_{2}} - 1}$"
      ],
      "text/plain": [
       "Eq(\\psi_{2}(x), \\psi_{1}(L_1)*exp(2*L_2*k_2)*exp(-k_2*x)/(exp(2*L_2*k_2) - 1) - \\psi_{1}(L_1)*exp(k_2*x)/(exp(2*L_2*k_2) - 1))"
      ]
     },
     "metadata": {},
     "output_type": "display_data"
    }
   ],
   "source": [
    "display_steps( stairwell_solver.equations )"
   ]
  },
  {
   "cell_type": "code",
   "execution_count": null,
   "id": "afe7253f-7594-4d7f-9ddc-63957f41a597",
   "metadata": {},
   "outputs": [],
   "source": []
  },
  {
   "cell_type": "code",
   "execution_count": 28,
   "id": "c9df8cc2-778f-4d0a-b734-c297a2430ea6",
   "metadata": {},
   "outputs": [
    {
     "data": {
      "text/plain": [
       "([<custom_libraries.stepper.Stepper at 0x7f6f75ef9120>,\n",
       "  <custom_libraries.stepper.Stepper at 0x7f6f75ef9480>,\n",
       "  <custom_libraries.stepper.Stepper at 0x7f6f75ef90c0>],\n",
       " [<custom_libraries.stepper.Stepper at 0x7f6f75f3b040>,\n",
       "  <custom_libraries.stepper.Stepper at 0x7f6f75f3aaa0>,\n",
       "  <custom_libraries.stepper.Stepper at 0x7f6f75f3af80>],\n",
       " {'Before': [['TimeIndependentSchrodingerConstantPotentials1DCheckPointBeforeBoundryToConstantSubstitution91',\n",
       "    'TimeIndependentSchrodingerConstantPotentials1DCheckPointBeforeBoundryToConstantSubstitution91',\n",
       "    'TimeIndependentSchrodingerConstantPotentials1DCheckPointBeforeBoundryToConstantSubstitution91'],\n",
       "   ['TimeIndependentSchrodingerConstantPotentials1DCheckPointBeforeBoundryToConstantSubstitution91',\n",
       "    'TimeIndependentSchrodingerConstantPotentials1DCheckPointBeforeBoundryToConstantSubstitution91',\n",
       "    'TimeIndependentSchrodingerConstantPotentials1DCheckPointBeforeBoundryToConstantSubstitution91']],\n",
       "  'Post': [['TimeIndependentSchrodingerConstantPotentials1DCheckPointPostBoundryToConstantSubstitution98',\n",
       "    'TimeIndependentSchrodingerConstantPotentials1DCheckPointPostBoundryToConstantSubstitution98',\n",
       "    'TimeIndependentSchrodingerConstantPotentials1DCheckPointPostBoundryToConstantSubstitution98'],\n",
       "   ['TimeIndependentSchrodingerConstantPotentials1DCheckPointPostBoundryToConstantSubstitution98',\n",
       "    'TimeIndependentSchrodingerConstantPotentials1DCheckPointPostBoundryToConstantSubstitution98',\n",
       "    'TimeIndependentSchrodingerConstantPotentials1DCheckPointPostBoundryToConstantSubstitution98']]})"
      ]
     },
     "execution_count": 28,
     "metadata": {},
     "output_type": "execute_result"
    }
   ],
   "source": [
    "stairwell_solver.boundries_in_expression_to_constants()"
   ]
  },
  {
   "cell_type": "code",
   "execution_count": 29,
   "id": "56c71688-3bbd-4e97-9a17-e7a417f40c1e",
   "metadata": {},
   "outputs": [
    {
     "data": {
      "text/latex": [
       "$\\displaystyle \\psi_{0}{\\left(x \\right)} = \\frac{B_{0} e^{L_{0} k_{0}} e^{k_{0} x}}{e^{2 L_{0} k_{0}} - 1} - \\frac{B_{0} e^{L_{0} k_{0}} e^{- k_{0} x}}{e^{2 L_{0} k_{0}} - 1}$"
      ],
      "text/plain": [
       "Eq(\\psi_{0}(x), B_{0}*exp(L_0*k_0)*exp(k_0*x)/(exp(2*L_0*k_0) - 1) - B_{0}*exp(L_0*k_0)*exp(-k_0*x)/(exp(2*L_0*k_0) - 1))"
      ]
     },
     "metadata": {},
     "output_type": "display_data"
    },
    {
     "data": {
      "text/latex": [
       "$\\displaystyle \\psi_{1}{\\left(x \\right)} = \\frac{\\left(- B_{0} + B_{1} e^{L_{1} k_{1}}\\right) e^{k_{1} x}}{e^{2 L_{1} k_{1}} - 1} + \\frac{\\left(B_{0} e^{2 L_{1} k_{1}} - B_{1} e^{L_{1} k_{1}}\\right) e^{- k_{1} x}}{e^{2 L_{1} k_{1}} - 1}$"
      ],
      "text/plain": [
       "Eq(\\psi_{1}(x), (-B_{0} + B_{1}*exp(L_1*k_1))*exp(k_1*x)/(exp(2*L_1*k_1) - 1) + (B_{0}*exp(2*L_1*k_1) - B_{1}*exp(L_1*k_1))*exp(-k_1*x)/(exp(2*L_1*k_1) - 1))"
      ]
     },
     "metadata": {},
     "output_type": "display_data"
    },
    {
     "data": {
      "text/latex": [
       "$\\displaystyle \\psi_{2}{\\left(x \\right)} = \\frac{B_{1} e^{2 L_{2} k_{2}} e^{- k_{2} x}}{e^{2 L_{2} k_{2}} - 1} - \\frac{B_{1} e^{k_{2} x}}{e^{2 L_{2} k_{2}} - 1}$"
      ],
      "text/plain": [
       "Eq(\\psi_{2}(x), B_{1}*exp(2*L_2*k_2)*exp(-k_2*x)/(exp(2*L_2*k_2) - 1) - B_{1}*exp(k_2*x)/(exp(2*L_2*k_2) - 1))"
      ]
     },
     "metadata": {},
     "output_type": "display_data"
    }
   ],
   "source": [
    "display_steps( stairwell_solver.equations )"
   ]
  },
  {
   "cell_type": "code",
   "execution_count": null,
   "id": "a6d679a9-cfb9-4af3-b30e-d988ad513d0a",
   "metadata": {},
   "outputs": [],
   "source": []
  }
 ],
 "metadata": {
  "kernelspec": {
   "display_name": "Python 3 (ipykernel)",
   "language": "python",
   "name": "python3"
  },
  "language_info": {
   "codemirror_mode": {
    "name": "ipython",
    "version": 3
   },
   "file_extension": ".py",
   "mimetype": "text/x-python",
   "name": "python",
   "nbconvert_exporter": "python",
   "pygments_lexer": "ipython3",
   "version": "3.10.4"
  }
 },
 "nbformat": 4,
 "nbformat_minor": 5
}
