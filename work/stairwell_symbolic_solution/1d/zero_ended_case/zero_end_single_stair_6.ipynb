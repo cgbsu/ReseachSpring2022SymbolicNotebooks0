{
 "cells": [
  {
   "cell_type": "code",
   "execution_count": 1,
   "id": "9da4ca07-5038-40fc-b597-27be53769384",
   "metadata": {},
   "outputs": [],
   "source": [
    "import sympy as sp"
   ]
  },
  {
   "cell_type": "code",
   "execution_count": 2,
   "id": "bbd2fd19-a4e7-44c8-ba72-b83d5ae065ea",
   "metadata": {},
   "outputs": [],
   "source": [
    "import sympy.physics.units.quantities as sq"
   ]
  },
  {
   "cell_type": "code",
   "execution_count": 3,
   "id": "3b8c39ff-3668-4ef3-9add-b334784a3333",
   "metadata": {},
   "outputs": [],
   "source": [
    "from sympy.physics.quantum.constants import hbar"
   ]
  },
  {
   "cell_type": "code",
   "execution_count": null,
   "id": "75e40f13-aa6e-41d1-9ced-7a90df52a98e",
   "metadata": {},
   "outputs": [],
   "source": []
  },
  {
   "cell_type": "code",
   "execution_count": 4,
   "id": "82f14997-b75d-4dd8-baf6-d565f0b12bd1",
   "metadata": {},
   "outputs": [],
   "source": [
    "from custom_libraries.stepper import *"
   ]
  },
  {
   "cell_type": "code",
   "execution_count": 5,
   "id": "100adb60-1868-493c-bbe9-9b2dd1bf5af6",
   "metadata": {},
   "outputs": [],
   "source": [
    "from custom_libraries.schrodinger import *"
   ]
  },
  {
   "cell_type": "code",
   "execution_count": 6,
   "id": "4d10ab16-1b4f-402a-bcd5-8029292865bc",
   "metadata": {},
   "outputs": [],
   "source": [
    "from custom_libraries.utilities import *"
   ]
  },
  {
   "cell_type": "code",
   "execution_count": null,
   "id": "95748091-3fe2-45a3-beaa-0e56ac4e61f9",
   "metadata": {},
   "outputs": [],
   "source": []
  },
  {
   "cell_type": "code",
   "execution_count": 7,
   "id": "151680e1-cc8c-4f02-9fbc-32cb1b19f56f",
   "metadata": {},
   "outputs": [],
   "source": [
    "def real_harmonics( _ ):\n",
    "    assumptions = standard_harmonic_assumptions( _ );\n",
    "    assumptions.update( { 'real' : True } )\n",
    "    return assumptions"
   ]
  },
  {
   "cell_type": "code",
   "execution_count": null,
   "id": "20bc043c-2168-45b2-b95d-32fcdb201da9",
   "metadata": {},
   "outputs": [],
   "source": []
  },
  {
   "cell_type": "code",
   "execution_count": 8,
   "id": "8984696f-ac0b-4d68-8f5f-036778be011f",
   "metadata": {},
   "outputs": [],
   "source": [
    "stairwell_solver = TimeIndependentSchrodingerConstantPotentials1D( \n",
    "        StairWell.default_non_uniform_length_potential_table(), \n",
    "        tuple( StairWell.default_non_uniform_length_potential_table().keys() )[ -1 ], \n",
    "        make_psis = make_psi_numbered, \n",
    "        harmonics_assumptions = real_harmonics, \n",
    "        repeating = False, \n",
    "        as_distances = True, \n",
    "        #as_distances = False, \n",
    "        #normalization_conjugate_not_squared_absolute_value = False\n",
    "    )"
   ]
  },
  {
   "cell_type": "code",
   "execution_count": null,
   "id": "2e946e04-0121-448e-8269-4e69ba4e1c28",
   "metadata": {},
   "outputs": [],
   "source": []
  },
  {
   "cell_type": "code",
   "execution_count": 9,
   "id": "012de83f-543a-49d4-b421-ff2d2400121d",
   "metadata": {},
   "outputs": [
    {
     "data": {
      "text/plain": [
       "(('BoundryZeroConditions', {\\psi_{0}(0): 0, \\psi_{2}(L_2): 0}),\n",
       " ('BoundryZeroConditions', {\\psi_{0}(0): 0, \\psi_{2}(L_2): 0}))"
      ]
     },
     "execution_count": 9,
     "metadata": {},
     "output_type": "execute_result"
    }
   ],
   "source": [
    "stairwell_solver.impose_zero_conditions_to_ends()"
   ]
  },
  {
   "cell_type": "code",
   "execution_count": null,
   "id": "78798fb3-fd83-40b7-9180-c8da0dbe588e",
   "metadata": {},
   "outputs": [],
   "source": []
  },
  {
   "cell_type": "code",
   "execution_count": 10,
   "id": "bc51b09a-c161-4008-b763-81f71b487841",
   "metadata": {},
   "outputs": [
    {
     "data": {
      "text/latex": [
       "$\\displaystyle - k_{0}^{2} \\psi_{0}{\\left(x \\right)} + \\frac{d^{2}}{d x^{2}} \\psi_{0}{\\left(x \\right)} = 0$"
      ],
      "text/plain": [
       "Eq(-k_0**2*\\psi_{0}(x) + Derivative(\\psi_{0}(x), (x, 2)), 0)"
      ]
     },
     "metadata": {},
     "output_type": "display_data"
    },
    {
     "data": {
      "text/latex": [
       "$\\displaystyle - k_{1}^{2} \\psi_{1}{\\left(x \\right)} + \\frac{d^{2}}{d x^{2}} \\psi_{1}{\\left(x \\right)} = 0$"
      ],
      "text/plain": [
       "Eq(-k_1**2*\\psi_{1}(x) + Derivative(\\psi_{1}(x), (x, 2)), 0)"
      ]
     },
     "metadata": {},
     "output_type": "display_data"
    },
    {
     "data": {
      "text/latex": [
       "$\\displaystyle - k_{2}^{2} \\psi_{2}{\\left(x \\right)} + \\frac{d^{2}}{d x^{2}} \\psi_{2}{\\left(x \\right)} = 0$"
      ],
      "text/plain": [
       "Eq(-k_2**2*\\psi_{2}(x) + Derivative(\\psi_{2}(x), (x, 2)), 0)"
      ]
     },
     "metadata": {},
     "output_type": "display_data"
    }
   ],
   "source": [
    "display_steps( stairwell_solver.equations )"
   ]
  },
  {
   "cell_type": "code",
   "execution_count": null,
   "id": "a0757648-d8b4-4a28-b351-221f4830ff75",
   "metadata": {},
   "outputs": [],
   "source": []
  },
  {
   "cell_type": "code",
   "execution_count": 11,
   "id": "28d85323-24e4-49cb-93e6-54953e6104c7",
   "metadata": {},
   "outputs": [
    {
     "data": {
      "text/latex": [
       "$\\displaystyle k_{0} = \\frac{\\sqrt{2} \\sqrt{- E + V_{0}} \\sqrt{\\text{m}}}{\\hbar}$"
      ],
      "text/plain": [
       "Eq(k_0, sqrt(2)*sqrt(m)*sqrt(-E + V_0)/hbar)"
      ]
     },
     "metadata": {},
     "output_type": "display_data"
    },
    {
     "data": {
      "text/latex": [
       "$\\displaystyle k_{1} = \\frac{\\sqrt{2} \\sqrt{- E + V_{1}} \\sqrt{\\text{m}}}{\\hbar}$"
      ],
      "text/plain": [
       "Eq(k_1, sqrt(2)*sqrt(m)*sqrt(-E + V_1)/hbar)"
      ]
     },
     "metadata": {},
     "output_type": "display_data"
    },
    {
     "data": {
      "text/latex": [
       "$\\displaystyle k_{2} = \\frac{\\sqrt{2} \\sqrt{- E + V_{2}} \\sqrt{\\text{m}}}{\\hbar}$"
      ],
      "text/plain": [
       "Eq(k_2, sqrt(2)*sqrt(m)*sqrt(-E + V_2)/hbar)"
      ]
     },
     "metadata": {},
     "output_type": "display_data"
    }
   ],
   "source": [
    "display_in( stairwell_solver.harmonic_constants )"
   ]
  },
  {
   "cell_type": "code",
   "execution_count": 12,
   "id": "20f53166-87ec-4057-932d-5b0947a3427b",
   "metadata": {},
   "outputs": [
    {
     "data": {
      "text/plain": [
       "{'ContinuityConditions': {\\psi_{0}(L_0): \\psi_{1}(0),\n",
       "  \\psi_{1}(L_1): \\psi_{2}(0)},\n",
       " 'BoundryZeroConditions': {\\psi_{0}(0): 0, \\psi_{2}(L_2): 0}}"
      ]
     },
     "execution_count": 12,
     "metadata": {},
     "output_type": "execute_result"
    }
   ],
   "source": [
    "stairwell_solver.boundries.boundries"
   ]
  },
  {
   "cell_type": "code",
   "execution_count": 13,
   "id": "9fe5cbdc-ea5a-4ca1-a54f-a70e30069bec",
   "metadata": {},
   "outputs": [
    {
     "data": {
      "text/plain": [
       "{\\psi_{0}(L_0): \\psi_{1}(0), \\psi_{1}(L_1): \\psi_{2}(0)}"
      ]
     },
     "execution_count": 13,
     "metadata": {},
     "output_type": "execute_result"
    }
   ],
   "source": [
    "stairwell_solver.boundries.ContinuityConditions"
   ]
  },
  {
   "cell_type": "code",
   "execution_count": null,
   "id": "1cee42e4-0490-4850-b52f-3b6b9547e3f1",
   "metadata": {},
   "outputs": [],
   "source": []
  },
  {
   "cell_type": "code",
   "execution_count": 14,
   "id": "d78132f8-2d0a-438c-a94d-3c5d1b79786d",
   "metadata": {},
   "outputs": [
    {
     "data": {
      "text/plain": [
       "{\\psi_{0}(0): 0, \\psi_{2}(L_2): 0}"
      ]
     },
     "execution_count": 14,
     "metadata": {},
     "output_type": "execute_result"
    }
   ],
   "source": [
    "stairwell_solver.boundries.BoundryZeroConditions"
   ]
  },
  {
   "cell_type": "code",
   "execution_count": null,
   "id": "519623f3-e044-4ce4-89ce-0bf045971c69",
   "metadata": {},
   "outputs": [],
   "source": []
  },
  {
   "cell_type": "code",
   "execution_count": 15,
   "id": "bad0d660-061c-4402-af40-79303da747d0",
   "metadata": {},
   "outputs": [
    {
     "data": {
      "text/plain": [
       "('LastUpdatedAllBoundryConditions',\n",
       " {\\psi_{0}(L_0): \\psi_{1}(0),\n",
       "  \\psi_{1}(L_1): \\psi_{2}(0),\n",
       "  \\psi_{0}(0): 0,\n",
       "  \\psi_{2}(L_2): 0})"
      ]
     },
     "execution_count": 15,
     "metadata": {},
     "output_type": "execute_result"
    }
   ],
   "source": [
    "stairwell_solver.boundries.update_all_boundry_conditions()"
   ]
  },
  {
   "cell_type": "code",
   "execution_count": null,
   "id": "7da0e1b5-1c97-4329-bd28-5b9447f76641",
   "metadata": {},
   "outputs": [],
   "source": []
  },
  {
   "cell_type": "code",
   "execution_count": 16,
   "id": "03f1960a-88b6-4ef2-9101-fb89a936000a",
   "metadata": {},
   "outputs": [
    {
     "data": {
      "text/plain": [
       "'ContinuityConditions'"
      ]
     },
     "metadata": {},
     "output_type": "display_data"
    },
    {
     "data": {
      "text/latex": [
       "$\\displaystyle \\psi_{0}{\\left(L_{0} \\right)} = \\psi_{1}{\\left(0 \\right)}$"
      ],
      "text/plain": [
       "Eq(\\psi_{0}(L_0), \\psi_{1}(0))"
      ]
     },
     "metadata": {},
     "output_type": "display_data"
    },
    {
     "data": {
      "text/latex": [
       "$\\displaystyle \\psi_{1}{\\left(L_{1} \\right)} = \\psi_{2}{\\left(0 \\right)}$"
      ],
      "text/plain": [
       "Eq(\\psi_{1}(L_1), \\psi_{2}(0))"
      ]
     },
     "metadata": {},
     "output_type": "display_data"
    },
    {
     "data": {
      "text/plain": [
       "'BoundryZeroConditions'"
      ]
     },
     "metadata": {},
     "output_type": "display_data"
    },
    {
     "data": {
      "text/latex": [
       "$\\displaystyle \\psi_{0}{\\left(0 \\right)} = 0$"
      ],
      "text/plain": [
       "Eq(\\psi_{0}(0), 0)"
      ]
     },
     "metadata": {},
     "output_type": "display_data"
    },
    {
     "data": {
      "text/latex": [
       "$\\displaystyle \\psi_{2}{\\left(L_{2} \\right)} = 0$"
      ],
      "text/plain": [
       "Eq(\\psi_{2}(L_2), 0)"
      ]
     },
     "metadata": {},
     "output_type": "display_data"
    },
    {
     "data": {
      "text/plain": [
       "'LastUpdatedAllBoundryConditions'"
      ]
     },
     "metadata": {},
     "output_type": "display_data"
    },
    {
     "data": {
      "text/latex": [
       "$\\displaystyle \\psi_{0}{\\left(L_{0} \\right)} = \\psi_{1}{\\left(0 \\right)}$"
      ],
      "text/plain": [
       "Eq(\\psi_{0}(L_0), \\psi_{1}(0))"
      ]
     },
     "metadata": {},
     "output_type": "display_data"
    },
    {
     "data": {
      "text/latex": [
       "$\\displaystyle \\psi_{1}{\\left(L_{1} \\right)} = \\psi_{2}{\\left(0 \\right)}$"
      ],
      "text/plain": [
       "Eq(\\psi_{1}(L_1), \\psi_{2}(0))"
      ]
     },
     "metadata": {},
     "output_type": "display_data"
    },
    {
     "data": {
      "text/latex": [
       "$\\displaystyle \\psi_{0}{\\left(0 \\right)} = 0$"
      ],
      "text/plain": [
       "Eq(\\psi_{0}(0), 0)"
      ]
     },
     "metadata": {},
     "output_type": "display_data"
    },
    {
     "data": {
      "text/latex": [
       "$\\displaystyle \\psi_{2}{\\left(L_{2} \\right)} = 0$"
      ],
      "text/plain": [
       "Eq(\\psi_{2}(L_2), 0)"
      ]
     },
     "metadata": {},
     "output_type": "display_data"
    }
   ],
   "source": [
    "stairwell_solver.boundries.display()"
   ]
  },
  {
   "cell_type": "code",
   "execution_count": 17,
   "id": "3fc0fbd1-a832-4ef7-803b-814812d18099",
   "metadata": {},
   "outputs": [
    {
     "data": {
      "text/plain": [
       "<custom_libraries.schrodinger.TimeIndependentSchrodingerConstantPotentials1D at 0x7f0e7327cb80>"
      ]
     },
     "execution_count": 17,
     "metadata": {},
     "output_type": "execute_result"
    }
   ],
   "source": [
    "stairwell_solver"
   ]
  },
  {
   "cell_type": "code",
   "execution_count": 18,
   "id": "0f4574ca-54c8-4820-9212-d94622eab763",
   "metadata": {
    "tags": []
   },
   "outputs": [],
   "source": [
    "solutions = stairwell_solver.solve_odes()"
   ]
  },
  {
   "cell_type": "code",
   "execution_count": null,
   "id": "f1a5e157-8b2f-4d4f-bb64-268ebfba1344",
   "metadata": {},
   "outputs": [],
   "source": []
  },
  {
   "cell_type": "code",
   "execution_count": 19,
   "id": "906f8879-c568-484d-b095-81bbdaf9fce3",
   "metadata": {},
   "outputs": [
    {
     "data": {
      "text/latex": [
       "$\\displaystyle \\psi_{0}{\\left(x \\right)} = \\frac{\\psi_{1}{\\left(0 \\right)} e^{L_{0} k_{0}} e^{k_{0} x}}{e^{2 L_{0} k_{0}} - 1} - \\frac{\\psi_{1}{\\left(0 \\right)} e^{L_{0} k_{0}} e^{- k_{0} x}}{e^{2 L_{0} k_{0}} - 1}$"
      ],
      "text/plain": [
       "Eq(\\psi_{0}(x), \\psi_{1}(0)*exp(L_0*k_0)*exp(k_0*x)/(exp(2*L_0*k_0) - 1) - \\psi_{1}(0)*exp(L_0*k_0)*exp(-k_0*x)/(exp(2*L_0*k_0) - 1))"
      ]
     },
     "metadata": {},
     "output_type": "display_data"
    },
    {
     "data": {
      "text/latex": [
       "$\\displaystyle \\psi_{1}{\\left(x \\right)} = \\frac{\\left(\\psi_{0}{\\left(L_{0} \\right)} e^{2 L_{1} k_{1}} - \\psi_{2}{\\left(0 \\right)} e^{L_{1} k_{1}}\\right) e^{- k_{1} x}}{e^{2 L_{1} k_{1}} - 1} + \\frac{\\left(- \\psi_{0}{\\left(L_{0} \\right)} + \\psi_{2}{\\left(0 \\right)} e^{L_{1} k_{1}}\\right) e^{k_{1} x}}{e^{2 L_{1} k_{1}} - 1}$"
      ],
      "text/plain": [
       "Eq(\\psi_{1}(x), (\\psi_{0}(L_0)*exp(2*L_1*k_1) - \\psi_{2}(0)*exp(L_1*k_1))*exp(-k_1*x)/(exp(2*L_1*k_1) - 1) + (-\\psi_{0}(L_0) + \\psi_{2}(0)*exp(L_1*k_1))*exp(k_1*x)/(exp(2*L_1*k_1) - 1))"
      ]
     },
     "metadata": {},
     "output_type": "display_data"
    },
    {
     "data": {
      "text/latex": [
       "$\\displaystyle \\psi_{2}{\\left(x \\right)} = \\frac{\\psi_{1}{\\left(L_{1} \\right)} e^{2 L_{2} k_{2}} e^{- k_{2} x}}{e^{2 L_{2} k_{2}} - 1} - \\frac{\\psi_{1}{\\left(L_{1} \\right)} e^{k_{2} x}}{e^{2 L_{2} k_{2}} - 1}$"
      ],
      "text/plain": [
       "Eq(\\psi_{2}(x), \\psi_{1}(L_1)*exp(2*L_2*k_2)*exp(-k_2*x)/(exp(2*L_2*k_2) - 1) - \\psi_{1}(L_1)*exp(k_2*x)/(exp(2*L_2*k_2) - 1))"
      ]
     },
     "metadata": {},
     "output_type": "display_data"
    }
   ],
   "source": [
    "display_in( solutions )"
   ]
  },
  {
   "cell_type": "code",
   "execution_count": null,
   "id": "84e87233-5ba7-4cb7-a3f7-370403e55bb0",
   "metadata": {},
   "outputs": [],
   "source": []
  },
  {
   "cell_type": "code",
   "execution_count": 20,
   "id": "e0ca1cc1-1b0f-4d1b-a646-1cce6caf6eed",
   "metadata": {},
   "outputs": [
    {
     "data": {
      "text/plain": [
       "[<custom_libraries.stepper.Stepper at 0x7f0e73276260>,\n",
       " <custom_libraries.stepper.Stepper at 0x7f0e73277ca0>,\n",
       " <custom_libraries.stepper.Stepper at 0x7f0e732754b0>]"
      ]
     },
     "execution_count": 20,
     "metadata": {},
     "output_type": "execute_result"
    }
   ],
   "source": [
    "stairwell_solver.substitute_wave_functions_into_normalizations()"
   ]
  },
  {
   "cell_type": "code",
   "execution_count": 21,
   "id": "ca842015-740c-4620-be56-3d5b61b0a685",
   "metadata": {},
   "outputs": [
    {
     "data": {
      "text/plain": [
       "([<custom_libraries.stepper.Stepper at 0x7f0e7327c9a0>,\n",
       "  <custom_libraries.stepper.Stepper at 0x7f0e7327c8e0>,\n",
       "  <custom_libraries.stepper.Stepper at 0x7f0ef4203c10>],\n",
       " [<custom_libraries.stepper.Stepper at 0x7f0e73276260>,\n",
       "  <custom_libraries.stepper.Stepper at 0x7f0e73277ca0>,\n",
       "  <custom_libraries.stepper.Stepper at 0x7f0e732754b0>],\n",
       " {'Before': [['TimeIndependentSchrodingerConstantPotentials1DCheckPointBeforeBoundryToConstantSubstitution105',\n",
       "    'TimeIndependentSchrodingerConstantPotentials1DCheckPointBeforeBoundryToConstantSubstitution105',\n",
       "    'TimeIndependentSchrodingerConstantPotentials1DCheckPointBeforeBoundryToConstantSubstitution105'],\n",
       "   ['TimeIndependentSchrodingerConstantPotentials1DCheckPointBeforeBoundryToConstantSubstitution105',\n",
       "    'TimeIndependentSchrodingerConstantPotentials1DCheckPointBeforeBoundryToConstantSubstitution105',\n",
       "    'TimeIndependentSchrodingerConstantPotentials1DCheckPointBeforeBoundryToConstantSubstitution105']],\n",
       "  'Post': [['TimeIndependentSchrodingerConstantPotentials1DCheckPointPostBoundryToConstantSubstitution112',\n",
       "    'TimeIndependentSchrodingerConstantPotentials1DCheckPointPostBoundryToConstantSubstitution112',\n",
       "    'TimeIndependentSchrodingerConstantPotentials1DCheckPointPostBoundryToConstantSubstitution112'],\n",
       "   ['TimeIndependentSchrodingerConstantPotentials1DCheckPointPostBoundryToConstantSubstitution112',\n",
       "    'TimeIndependentSchrodingerConstantPotentials1DCheckPointPostBoundryToConstantSubstitution112',\n",
       "    'TimeIndependentSchrodingerConstantPotentials1DCheckPointPostBoundryToConstantSubstitution112']]})"
      ]
     },
     "execution_count": 21,
     "metadata": {},
     "output_type": "execute_result"
    }
   ],
   "source": [
    "stairwell_solver.boundries_in_expression_to_constants()"
   ]
  },
  {
   "cell_type": "code",
   "execution_count": 22,
   "id": "f398e39e-055e-4981-9740-8513148b9789",
   "metadata": {},
   "outputs": [
    {
     "data": {
      "text/latex": [
       "$\\displaystyle \\psi_{0}{\\left(x \\right)} = \\frac{B_{0} e^{L_{0} k_{0}} e^{k_{0} x}}{e^{2 L_{0} k_{0}} - 1} - \\frac{B_{0} e^{L_{0} k_{0}} e^{- k_{0} x}}{e^{2 L_{0} k_{0}} - 1}$"
      ],
      "text/plain": [
       "Eq(\\psi_{0}(x), B_{0}*exp(L_0*k_0)*exp(k_0*x)/(exp(2*L_0*k_0) - 1) - B_{0}*exp(L_0*k_0)*exp(-k_0*x)/(exp(2*L_0*k_0) - 1))"
      ]
     },
     "metadata": {},
     "output_type": "display_data"
    },
    {
     "data": {
      "text/latex": [
       "$\\displaystyle \\psi_{1}{\\left(x \\right)} = \\frac{\\left(- B_{0} + B_{1} e^{L_{1} k_{1}}\\right) e^{k_{1} x}}{e^{2 L_{1} k_{1}} - 1} + \\frac{\\left(B_{0} e^{2 L_{1} k_{1}} - B_{1} e^{L_{1} k_{1}}\\right) e^{- k_{1} x}}{e^{2 L_{1} k_{1}} - 1}$"
      ],
      "text/plain": [
       "Eq(\\psi_{1}(x), (-B_{0} + B_{1}*exp(L_1*k_1))*exp(k_1*x)/(exp(2*L_1*k_1) - 1) + (B_{0}*exp(2*L_1*k_1) - B_{1}*exp(L_1*k_1))*exp(-k_1*x)/(exp(2*L_1*k_1) - 1))"
      ]
     },
     "metadata": {},
     "output_type": "display_data"
    },
    {
     "data": {
      "text/latex": [
       "$\\displaystyle \\psi_{2}{\\left(x \\right)} = \\frac{B_{1} e^{2 L_{2} k_{2}} e^{- k_{2} x}}{e^{2 L_{2} k_{2}} - 1} - \\frac{B_{1} e^{k_{2} x}}{e^{2 L_{2} k_{2}} - 1}$"
      ],
      "text/plain": [
       "Eq(\\psi_{2}(x), B_{1}*exp(2*L_2*k_2)*exp(-k_2*x)/(exp(2*L_2*k_2) - 1) - B_{1}*exp(k_2*x)/(exp(2*L_2*k_2) - 1))"
      ]
     },
     "metadata": {},
     "output_type": "display_data"
    }
   ],
   "source": [
    "display_steps( stairwell_solver.equations )"
   ]
  },
  {
   "cell_type": "code",
   "execution_count": null,
   "id": "ace409f1-a01c-4d97-9401-2172db2159ac",
   "metadata": {},
   "outputs": [],
   "source": []
  },
  {
   "cell_type": "code",
   "execution_count": 23,
   "id": "1bf6f05f-281a-43cb-a04a-9083533ab05b",
   "metadata": {},
   "outputs": [
    {
     "data": {
      "text/latex": [
       "$\\displaystyle \\int\\limits_{0}^{L_{0}} \\left(\\frac{B_{0} e^{L_{0} k_{0}} e^{k_{0} x}}{e^{2 L_{0} k_{0}} - 1} - \\frac{B_{0} e^{L_{0} k_{0}} e^{- k_{0} x}}{e^{2 L_{0} k_{0}} - 1}\\right) \\left(\\frac{e^{L_{0} k_{0}} e^{k_{0} x} \\overline{B_{0}}}{e^{2 L_{0} k_{0}} - 1} - \\frac{e^{L_{0} k_{0}} e^{- k_{0} x} \\overline{B_{0}}}{e^{2 L_{0} k_{0}} - 1}\\right)\\, dx = N_{0}$"
      ],
      "text/plain": [
       "Eq(Integral((B_{0}*exp(L_0*k_0)*exp(k_0*x)/(exp(2*L_0*k_0) - 1) - B_{0}*exp(L_0*k_0)*exp(-k_0*x)/(exp(2*L_0*k_0) - 1))*(exp(L_0*k_0)*exp(k_0*x)*conjugate(B_{0})/(exp(2*L_0*k_0) - 1) - exp(L_0*k_0)*exp(-k_0*x)*conjugate(B_{0})/(exp(2*L_0*k_0) - 1)), (x, 0, L_0)), N_0)"
      ]
     },
     "metadata": {},
     "output_type": "display_data"
    },
    {
     "data": {
      "text/latex": [
       "$\\displaystyle \\int\\limits_{0}^{L_{1}} \\left(\\frac{\\left(- B_{0} + B_{1} e^{L_{1} k_{1}}\\right) e^{k_{1} x}}{e^{2 L_{1} k_{1}} - 1} + \\frac{\\left(B_{0} e^{2 L_{1} k_{1}} - B_{1} e^{L_{1} k_{1}}\\right) e^{- k_{1} x}}{e^{2 L_{1} k_{1}} - 1}\\right) \\left(\\frac{\\left(e^{L_{1} k_{1}} \\overline{B_{1}} - \\overline{B_{0}}\\right) e^{k_{1} x}}{e^{2 L_{1} k_{1}} - 1} + \\frac{\\left(e^{2 L_{1} k_{1}} \\overline{B_{0}} - e^{L_{1} k_{1}} \\overline{B_{1}}\\right) e^{- k_{1} x}}{e^{2 L_{1} k_{1}} - 1}\\right)\\, dx = N_{1}$"
      ],
      "text/plain": [
       "Eq(Integral(((-B_{0} + B_{1}*exp(L_1*k_1))*exp(k_1*x)/(exp(2*L_1*k_1) - 1) + (B_{0}*exp(2*L_1*k_1) - B_{1}*exp(L_1*k_1))*exp(-k_1*x)/(exp(2*L_1*k_1) - 1))*((exp(L_1*k_1)*conjugate(B_{1}) - conjugate(B_{0}))*exp(k_1*x)/(exp(2*L_1*k_1) - 1) + (exp(2*L_1*k_1)*conjugate(B_{0}) - exp(L_1*k_1)*conjugate(B_{1}))*exp(-k_1*x)/(exp(2*L_1*k_1) - 1)), (x, 0, L_1)), N_1)"
      ]
     },
     "metadata": {},
     "output_type": "display_data"
    },
    {
     "data": {
      "text/latex": [
       "$\\displaystyle \\int\\limits_{0}^{L_{2}} \\left(\\frac{B_{1} e^{2 L_{2} k_{2}} e^{- k_{2} x}}{e^{2 L_{2} k_{2}} - 1} - \\frac{B_{1} e^{k_{2} x}}{e^{2 L_{2} k_{2}} - 1}\\right) \\left(\\frac{e^{2 L_{2} k_{2}} e^{- k_{2} x} \\overline{B_{1}}}{e^{2 L_{2} k_{2}} - 1} - \\frac{e^{k_{2} x} \\overline{B_{1}}}{e^{2 L_{2} k_{2}} - 1}\\right)\\, dx = N_{2}$"
      ],
      "text/plain": [
       "Eq(Integral((B_{1}*exp(2*L_2*k_2)*exp(-k_2*x)/(exp(2*L_2*k_2) - 1) - B_{1}*exp(k_2*x)/(exp(2*L_2*k_2) - 1))*(exp(2*L_2*k_2)*exp(-k_2*x)*conjugate(B_{1})/(exp(2*L_2*k_2) - 1) - exp(k_2*x)*conjugate(B_{1})/(exp(2*L_2*k_2) - 1)), (x, 0, L_2)), N_2)"
      ]
     },
     "metadata": {},
     "output_type": "display_data"
    }
   ],
   "source": [
    "display_steps( stairwell_solver.normalizations )"
   ]
  },
  {
   "cell_type": "code",
   "execution_count": null,
   "id": "f2fc26d5-b90e-4238-ad46-75f0fb1d40a9",
   "metadata": {},
   "outputs": [],
   "source": []
  },
  {
   "cell_type": "code",
   "execution_count": 24,
   "id": "c50eb079-fda5-4b1c-a242-8a0ffea46bb8",
   "metadata": {},
   "outputs": [],
   "source": [
    "group_constants_data = []\n",
    "grouped_constants = {}"
   ]
  },
  {
   "cell_type": "code",
   "execution_count": 25,
   "id": "2b713b2e-f5ee-4206-9e8b-1ade8af2f913",
   "metadata": {},
   "outputs": [],
   "source": [
    "for normalization in stairwell_solver.normalizations: \n",
    "    result, constants = group_constants( \n",
    "            normalization.last_step(), \n",
    "            [ stairwell_solver.position ] \\\n",
    "                    + stairwell_solver.boundry_constant_symbols, \n",
    "            'Q', \n",
    "            grouped_constants \n",
    "        )\n",
    "    group_constants_data.append( ( result, constants ) )\n",
    "    normalization.add_step( result )"
   ]
  },
  {
   "cell_type": "code",
   "execution_count": 26,
   "id": "0994b8f5-57cc-4a1e-82ee-2c84576fbd5e",
   "metadata": {},
   "outputs": [
    {
     "data": {
      "text/plain": [
       "{1/(exp(2*L_0*k_0) - 1): Q_{0},\n",
       " exp(L_0*k_0): Q_{1},\n",
       " k_0: Q_{2},\n",
       " Q_{0}*Q_{1}: Q_{3},\n",
       " 1/(exp(2*L_1*k_1) - 1): Q_{4},\n",
       " exp(L_1*k_1): Q_{5},\n",
       " Q_{5}: Q_{6},\n",
       " k_1: Q_{7},\n",
       " Q_{4}: Q_{8},\n",
       " exp(2*L_1*k_1): Q_{9},\n",
       " Q_{9}: Q_{10},\n",
       " 1/(exp(2*L_2*k_2) - 1): Q_{11},\n",
       " k_2: Q_{12},\n",
       " Q_{11}: Q_{13},\n",
       " exp(2*L_2*k_2): Q_{14},\n",
       " Q_{11}*Q_{14}: Q_{15}}"
      ]
     },
     "execution_count": 26,
     "metadata": {},
     "output_type": "execute_result"
    }
   ],
   "source": [
    "grouped_constants"
   ]
  },
  {
   "cell_type": "code",
   "execution_count": 27,
   "id": "c0e808a9-50ed-47d0-8dec-cf5ee7d22f19",
   "metadata": {},
   "outputs": [
    {
     "data": {
      "text/latex": [
       "$\\displaystyle \\int\\limits_{0}^{L_{0}} \\left(B_{0} Q_{3} e^{Q_{2} x} - B_{0} Q_{3} e^{- Q_{2} x}\\right) \\left(Q_{3} e^{Q_{2} x} \\overline{B_{0}} - Q_{3} e^{- Q_{2} x} \\overline{B_{0}}\\right)\\, dx = N_{0}$"
      ],
      "text/plain": [
       "Eq(Integral((B_{0}*Q_{3}*exp(Q_{2}*x) - B_{0}*Q_{3}*exp(-Q_{2}*x))*(Q_{3}*exp(Q_{2}*x)*conjugate(B_{0}) - Q_{3}*exp(-Q_{2}*x)*conjugate(B_{0})), (x, 0, L_0)), N_0)"
      ]
     },
     "metadata": {},
     "output_type": "display_data"
    },
    {
     "data": {
      "text/latex": [
       "$\\displaystyle \\int\\limits_{0}^{L_{1}} \\left(Q_{8} \\left(- B_{0} + B_{1} Q_{6}\\right) e^{Q_{7} x} + Q_{8} \\left(B_{0} Q_{10} - B_{1} Q_{6}\\right) e^{- Q_{7} x}\\right) \\left(Q_{8} \\left(Q_{10} \\overline{B_{0}} - Q_{6} \\overline{B_{1}}\\right) e^{- Q_{7} x} + Q_{8} \\left(Q_{6} \\overline{B_{1}} - \\overline{B_{0}}\\right) e^{Q_{7} x}\\right)\\, dx = N_{1}$"
      ],
      "text/plain": [
       "Eq(Integral((Q_{8}*(-B_{0} + B_{1}*Q_{6})*exp(Q_{7}*x) + Q_{8}*(B_{0}*Q_{10} - B_{1}*Q_{6})*exp(-Q_{7}*x))*(Q_{8}*(Q_{10}*conjugate(B_{0}) - Q_{6}*conjugate(B_{1}))*exp(-Q_{7}*x) + Q_{8}*(Q_{6}*conjugate(B_{1}) - conjugate(B_{0}))*exp(Q_{7}*x)), (x, 0, L_1)), N_1)"
      ]
     },
     "metadata": {},
     "output_type": "display_data"
    },
    {
     "data": {
      "text/latex": [
       "$\\displaystyle \\int\\limits_{0}^{L_{2}} \\left(- B_{1} Q_{13} e^{Q_{12} x} + B_{1} Q_{15} e^{- Q_{12} x}\\right) \\left(- Q_{13} e^{Q_{12} x} \\overline{B_{1}} + Q_{15} e^{- Q_{12} x} \\overline{B_{1}}\\right)\\, dx = N_{2}$"
      ],
      "text/plain": [
       "Eq(Integral((-B_{1}*Q_{13}*exp(Q_{12}*x) + B_{1}*Q_{15}*exp(-Q_{12}*x))*(-Q_{13}*exp(Q_{12}*x)*conjugate(B_{1}) + Q_{15}*exp(-Q_{12}*x)*conjugate(B_{1})), (x, 0, L_2)), N_2)"
      ]
     },
     "metadata": {},
     "output_type": "display_data"
    }
   ],
   "source": [
    "display_steps( stairwell_solver.normalizations )"
   ]
  },
  {
   "cell_type": "code",
   "execution_count": null,
   "id": "a74ef523-c928-4109-86c7-baede7df3468",
   "metadata": {},
   "outputs": [],
   "source": []
  },
  {
   "cell_type": "code",
   "execution_count": null,
   "id": "add3910c-5045-4408-8bfb-a4a62a448d9c",
   "metadata": {},
   "outputs": [],
   "source": []
  },
  {
   "cell_type": "code",
   "execution_count": 28,
   "id": "61c3e519-2b4c-44fb-b3fa-798b27962863",
   "metadata": {},
   "outputs": [],
   "source": [
    "display_table = lambda table : [ ( display( key ), display_steps( table[ key ] ) ) for key in table ]"
   ]
  },
  {
   "cell_type": "code",
   "execution_count": null,
   "id": "d692aa09-c51b-4ad8-a453-3d0e36408850",
   "metadata": {},
   "outputs": [],
   "source": []
  },
  {
   "cell_type": "code",
   "execution_count": 29,
   "id": "1bb4830a-944a-470e-b6b2-a65bcc22fa6d",
   "metadata": {},
   "outputs": [
    {
     "name": "stdout",
     "output_type": "stream",
     "text": [
      "Has  B_{0}\n",
      "Solutions:  [Piecewise((-sqrt(2)*sqrt(-N_0*Q_{2}/(Q_{3}**2*(4*L_0*Q_{2}*exp(2*L_0*Q_{2}) - exp(4*L_0*Q_{2}) + 1)))*exp(L_0*Q_{2}), Ne(Q_{2}, 0)), (nan, True)), Piecewise((sqrt(2)*sqrt(-N_0*Q_{2}/(Q_{3}**2*(4*L_0*Q_{2}*exp(2*L_0*Q_{2}) - exp(4*L_0*Q_{2}) + 1)))*exp(L_0*Q_{2}), Ne(Q_{2}, 0)), (nan, True))]\n"
     ]
    },
    {
     "data": {
      "text/latex": [
       "$\\displaystyle B_{0}$"
      ],
      "text/plain": [
       "B_{0}"
      ]
     },
     "metadata": {},
     "output_type": "display_data"
    },
    {
     "name": "stdout",
     "output_type": "stream",
     "text": [
      "I have sols!\n"
     ]
    },
    {
     "data": {
      "text/latex": [
       "$\\displaystyle \\begin{cases} - \\sqrt{2} \\sqrt{- \\frac{N_{0} Q_{2}}{Q_{3}^{2} \\cdot \\left(4 L_{0} Q_{2} e^{2 L_{0} Q_{2}} - e^{4 L_{0} Q_{2}} + 1\\right)}} e^{L_{0} Q_{2}} & \\text{for}\\: Q_{2} \\neq 0 \\\\\\text{NaN} & \\text{otherwise} \\end{cases}$"
      ],
      "text/plain": [
       "Piecewise((-sqrt(2)*sqrt(-N_0*Q_{2}/(Q_{3}**2*(4*L_0*Q_{2}*exp(2*L_0*Q_{2}) - exp(4*L_0*Q_{2}) + 1)))*exp(L_0*Q_{2}), Ne(Q_{2}, 0)), (nan, True))"
      ]
     },
     "metadata": {},
     "output_type": "display_data"
    },
    {
     "data": {
      "text/latex": [
       "$\\displaystyle \\begin{cases} \\sqrt{2} \\sqrt{- \\frac{N_{0} Q_{2}}{Q_{3}^{2} \\cdot \\left(4 L_{0} Q_{2} e^{2 L_{0} Q_{2}} - e^{4 L_{0} Q_{2}} + 1\\right)}} e^{L_{0} Q_{2}} & \\text{for}\\: Q_{2} \\neq 0 \\\\\\text{NaN} & \\text{otherwise} \\end{cases}$"
      ],
      "text/plain": [
       "Piecewise((sqrt(2)*sqrt(-N_0*Q_{2}/(Q_{3}**2*(4*L_0*Q_{2}*exp(2*L_0*Q_{2}) - exp(4*L_0*Q_{2}) + 1)))*exp(L_0*Q_{2}), Ne(Q_{2}, 0)), (nan, True))"
      ]
     },
     "metadata": {},
     "output_type": "display_data"
    },
    {
     "name": "stdout",
     "output_type": "stream",
     "text": [
      "Solved for  B_{0}\n"
     ]
    }
   ],
   "source": [
    "auto_solved = {}\n",
    "auto_solved[ 0 ] = stairwell_solver.solve_boundry_constants_from_equation( stairwell_solver.normalizations[ 0 ] )"
   ]
  },
  {
   "cell_type": "code",
   "execution_count": 30,
   "id": "7aaaaa91-91e0-4bc5-a298-bd97dd460a91",
   "metadata": {},
   "outputs": [
    {
     "data": {
      "text/latex": [
       "$\\displaystyle B_{0}$"
      ],
      "text/plain": [
       "B_{0}"
      ]
     },
     "metadata": {},
     "output_type": "display_data"
    },
    {
     "data": {
      "text/latex": [
       "$\\displaystyle \\begin{cases} - \\sqrt{2} \\sqrt{- \\frac{N_{0} Q_{2}}{Q_{3}^{2} \\cdot \\left(4 L_{0} Q_{2} e^{2 L_{0} Q_{2}} - e^{4 L_{0} Q_{2}} + 1\\right)}} e^{L_{0} Q_{2}} & \\text{for}\\: Q_{2} \\neq 0 \\\\\\text{NaN} & \\text{otherwise} \\end{cases}$"
      ],
      "text/plain": [
       "Piecewise((-sqrt(2)*sqrt(-N_0*Q_{2}/(Q_{3}**2*(4*L_0*Q_{2}*exp(2*L_0*Q_{2}) - exp(4*L_0*Q_{2}) + 1)))*exp(L_0*Q_{2}), Ne(Q_{2}, 0)), (nan, True))"
      ]
     },
     "metadata": {},
     "output_type": "display_data"
    },
    {
     "data": {
      "text/latex": [
       "$\\displaystyle \\begin{cases} \\sqrt{2} \\sqrt{- \\frac{N_{0} Q_{2}}{Q_{3}^{2} \\cdot \\left(4 L_{0} Q_{2} e^{2 L_{0} Q_{2}} - e^{4 L_{0} Q_{2}} + 1\\right)}} e^{L_{0} Q_{2}} & \\text{for}\\: Q_{2} \\neq 0 \\\\\\text{NaN} & \\text{otherwise} \\end{cases}$"
      ],
      "text/plain": [
       "Piecewise((sqrt(2)*sqrt(-N_0*Q_{2}/(Q_{3}**2*(4*L_0*Q_{2}*exp(2*L_0*Q_{2}) - exp(4*L_0*Q_{2}) + 1)))*exp(L_0*Q_{2}), Ne(Q_{2}, 0)), (nan, True))"
      ]
     },
     "metadata": {},
     "output_type": "display_data"
    },
    {
     "data": {
      "text/plain": [
       "[(None, None)]"
      ]
     },
     "execution_count": 30,
     "metadata": {},
     "output_type": "execute_result"
    }
   ],
   "source": [
    "display_table( auto_solved[ 0 ] )"
   ]
  },
  {
   "cell_type": "code",
   "execution_count": null,
   "id": "e6353287-8fa1-478a-b194-411f1cbbb7a5",
   "metadata": {},
   "outputs": [],
   "source": []
  },
  {
   "cell_type": "code",
   "execution_count": 31,
   "id": "e6aa6498-015c-4775-bbc6-8dc452e6b058",
   "metadata": {},
   "outputs": [],
   "source": [
    "#auto_solved[ 1 ] = stairwell_solver.solve_boundry_constants_from_equation( stairwell_solver.normalizations[ 1 ] )"
   ]
  },
  {
   "cell_type": "code",
   "execution_count": 32,
   "id": "5305e392-df62-4e81-ace3-0408b6f685ad",
   "metadata": {},
   "outputs": [],
   "source": [
    "#display_table( auto_solved[ 1 ] )"
   ]
  },
  {
   "cell_type": "code",
   "execution_count": null,
   "id": "ff71ad59-46a7-45a0-ba68-a873691b3e41",
   "metadata": {},
   "outputs": [],
   "source": []
  },
  {
   "cell_type": "code",
   "execution_count": 33,
   "id": "4762c658-4c1f-4471-8141-32d5994bc888",
   "metadata": {},
   "outputs": [],
   "source": [
    "#auto_solved[ 2 ] = stairwell_solver.solve_boundry_constants_from_equation( stairwell_solver.normalizations[ 2 ] )"
   ]
  },
  {
   "cell_type": "code",
   "execution_count": 34,
   "id": "5cdb1c4a-f3ac-4e36-aec9-d8c34173d13c",
   "metadata": {},
   "outputs": [],
   "source": [
    "#display_table( auto_solved[ 2 ] )"
   ]
  },
  {
   "cell_type": "code",
   "execution_count": null,
   "id": "90465dce-3266-41b4-a0dd-58bd544aab24",
   "metadata": {},
   "outputs": [],
   "source": []
  },
  {
   "cell_type": "code",
   "execution_count": 35,
   "id": "d543c859-2b16-47d1-bfd8-565cbe0dc837",
   "metadata": {},
   "outputs": [],
   "source": [
    "def square( solutions ): \n",
    "    solutions_ = list( solutions.values() )[ 0 ]\n",
    "    return sp.Eq( sp.Abs( list( solutions.keys() )[ 0 ] ) ** 2, \n",
    "            solutions_[ 0 ].last_step().args[ 0 ].args[ 0 ] \\\n",
    "            * solutions_[ 1 ].last_step().args[ 0 ].args[ 0 ] \n",
    "        )"
   ]
  },
  {
   "cell_type": "code",
   "execution_count": 36,
   "id": "bf02b7f3-2a3f-47ed-bbda-d89efa5abf17",
   "metadata": {},
   "outputs": [],
   "source": [
    "b_0 = square( auto_solved[ 0 ] )"
   ]
  },
  {
   "cell_type": "code",
   "execution_count": 37,
   "id": "8c289a7a-ad74-4a1f-bd9e-e6f661366369",
   "metadata": {},
   "outputs": [
    {
     "data": {
      "text/latex": [
       "$\\displaystyle \\left|{B_{0}}\\right|^{2} = - 2 \\left(- \\frac{N_{0} Q_{2}}{Q_{3}^{2} \\cdot \\left(4 L_{0} Q_{2} e^{2 L_{0} Q_{2}} - e^{4 L_{0} Q_{2}} + 1\\right)}\\right) e^{2 L_{0} Q_{2}}$"
      ],
      "text/plain": [
       "Eq(Abs(B_{0})**2, -2*(-N_0*Q_{2}/(Q_{3}**2*(4*L_0*Q_{2}*exp(2*L_0*Q_{2}) - exp(4*L_0*Q_{2}) + 1)))*exp(2*L_0*Q_{2}))"
      ]
     },
     "execution_count": 37,
     "metadata": {},
     "output_type": "execute_result"
    }
   ],
   "source": [
    "b_0"
   ]
  },
  {
   "cell_type": "code",
   "execution_count": 38,
   "id": "519320ce-37c5-452a-8647-f62656416928",
   "metadata": {},
   "outputs": [],
   "source": [
    "ungrouped_b_0_squared = ungroup_constants(b_0.rhs, grouped_constants)"
   ]
  },
  {
   "cell_type": "code",
   "execution_count": 39,
   "id": "a2dbd7e4-4372-48e7-ab35-ce0af9969db7",
   "metadata": {},
   "outputs": [
    {
     "data": {
      "text/latex": [
       "$\\displaystyle \\frac{2 N_{0} k_{0} \\left(e^{2 L_{0} k_{0}} - 1\\right)^{2}}{4 L_{0} k_{0} e^{2 L_{0} k_{0}} - e^{4 L_{0} k_{0}} + 1}$"
      ],
      "text/plain": [
       "2*N_0*k_0*(exp(2*L_0*k_0) - 1)**2/(4*L_0*k_0*exp(2*L_0*k_0) - exp(4*L_0*k_0) + 1)"
      ]
     },
     "execution_count": 39,
     "metadata": {},
     "output_type": "execute_result"
    }
   ],
   "source": [
    "ungrouped_b_0_squared"
   ]
  },
  {
   "cell_type": "code",
   "execution_count": 83,
   "id": "3756fd97-fe3f-436c-89b5-56a2de033cf5",
   "metadata": {},
   "outputs": [],
   "source": [
    "b_0_squared = sp.Eq( sp.Abs( b_0_symbol ) ** 2, ungrouped_b_0_squared )"
   ]
  },
  {
   "cell_type": "code",
   "execution_count": 84,
   "id": "098b3a7a-3662-4c6c-9d1f-bc359dd0d337",
   "metadata": {},
   "outputs": [
    {
     "data": {
      "text/latex": [
       "$\\displaystyle \\left|{B_{0}}\\right|^{2} = \\frac{2 N_{0} k_{0} \\left(e^{2 L_{0} k_{0}} - 1\\right)^{2}}{4 L_{0} k_{0} e^{2 L_{0} k_{0}} - e^{4 L_{0} k_{0}} + 1}$"
      ],
      "text/plain": [
       "Eq(Abs(B_{0})**2, 2*N_0*k_0*(exp(2*L_0*k_0) - 1)**2/(4*L_0*k_0*exp(2*L_0*k_0) - exp(4*L_0*k_0) + 1))"
      ]
     },
     "execution_count": 84,
     "metadata": {},
     "output_type": "execute_result"
    }
   ],
   "source": [
    "b_0_squared"
   ]
  },
  {
   "cell_type": "code",
   "execution_count": null,
   "id": "8f32248e-f732-4415-812c-ebdb89297080",
   "metadata": {},
   "outputs": [],
   "source": []
  },
  {
   "cell_type": "code",
   "execution_count": 40,
   "id": "857ff833-46fa-4059-9568-cf22daf0b9d2",
   "metadata": {},
   "outputs": [
    {
     "data": {
      "text/latex": [
       "$\\displaystyle \\psi_{0}{\\left(x \\right)} = \\frac{B_{0} e^{L_{0} k_{0}} e^{k_{0} x}}{e^{2 L_{0} k_{0}} - 1} - \\frac{B_{0} e^{L_{0} k_{0}} e^{- k_{0} x}}{e^{2 L_{0} k_{0}} - 1}$"
      ],
      "text/plain": [
       "Eq(\\psi_{0}(x), B_{0}*exp(L_0*k_0)*exp(k_0*x)/(exp(2*L_0*k_0) - 1) - B_{0}*exp(L_0*k_0)*exp(-k_0*x)/(exp(2*L_0*k_0) - 1))"
      ]
     },
     "metadata": {},
     "output_type": "display_data"
    },
    {
     "data": {
      "text/latex": [
       "$\\displaystyle \\psi_{1}{\\left(x \\right)} = \\frac{\\left(- B_{0} + B_{1} e^{L_{1} k_{1}}\\right) e^{k_{1} x}}{e^{2 L_{1} k_{1}} - 1} + \\frac{\\left(B_{0} e^{2 L_{1} k_{1}} - B_{1} e^{L_{1} k_{1}}\\right) e^{- k_{1} x}}{e^{2 L_{1} k_{1}} - 1}$"
      ],
      "text/plain": [
       "Eq(\\psi_{1}(x), (-B_{0} + B_{1}*exp(L_1*k_1))*exp(k_1*x)/(exp(2*L_1*k_1) - 1) + (B_{0}*exp(2*L_1*k_1) - B_{1}*exp(L_1*k_1))*exp(-k_1*x)/(exp(2*L_1*k_1) - 1))"
      ]
     },
     "metadata": {},
     "output_type": "display_data"
    },
    {
     "data": {
      "text/latex": [
       "$\\displaystyle \\psi_{2}{\\left(x \\right)} = \\frac{B_{1} e^{2 L_{2} k_{2}} e^{- k_{2} x}}{e^{2 L_{2} k_{2}} - 1} - \\frac{B_{1} e^{k_{2} x}}{e^{2 L_{2} k_{2}} - 1}$"
      ],
      "text/plain": [
       "Eq(\\psi_{2}(x), B_{1}*exp(2*L_2*k_2)*exp(-k_2*x)/(exp(2*L_2*k_2) - 1) - B_{1}*exp(k_2*x)/(exp(2*L_2*k_2) - 1))"
      ]
     },
     "metadata": {},
     "output_type": "display_data"
    }
   ],
   "source": [
    "display_steps( stairwell_solver.equations )"
   ]
  },
  {
   "cell_type": "code",
   "execution_count": 41,
   "id": "ac2733b6-9242-4f37-8d63-1b610efe3bb2",
   "metadata": {},
   "outputs": [
    {
     "data": {
      "text/plain": [
       "sympy.core.relational.Equality"
      ]
     },
     "execution_count": 41,
     "metadata": {},
     "output_type": "execute_result"
    }
   ],
   "source": [
    "sp.core.relational.Equality"
   ]
  },
  {
   "cell_type": "code",
   "execution_count": 42,
   "id": "e05490d7-e13e-44b9-be98-1aad2d31d2be",
   "metadata": {},
   "outputs": [
    {
     "name": "stdout",
     "output_type": "stream",
     "text": [
      "<class 'sympy.logic.boolalg.BooleanTrue'>\n",
      "<class 'sympy.core.relational.Equality'>\n",
      "<class 'sympy.core.relational.Equality'>\n",
      "<class 'sympy.core.relational.Equality'>\n",
      "<class 'sympy.core.relational.Equality'>\n",
      "<class 'sympy.core.relational.Equality'>\n"
     ]
    }
   ],
   "source": [
    "( wave_function_substitutions, normalization_substitutions ) = stairwell_solver.make_substitution_solution( 0 )"
   ]
  },
  {
   "cell_type": "code",
   "execution_count": null,
   "id": "2036921e-823e-4c30-8363-202be55e6065",
   "metadata": {},
   "outputs": [],
   "source": []
  },
  {
   "cell_type": "code",
   "execution_count": null,
   "id": "fb541ce9-5558-4d84-ba0a-a3cf2c112b7d",
   "metadata": {},
   "outputs": [],
   "source": []
  },
  {
   "cell_type": "code",
   "execution_count": 43,
   "id": "71ea641c-2b58-4abe-ae27-b43ec5c65f90",
   "metadata": {},
   "outputs": [
    {
     "data": {
      "text/latex": [
       "$\\displaystyle B_{0} = \\frac{- B_{0} + B_{1} e^{L_{1} k_{1}}}{e^{2 L_{1} k_{1}} - 1} + \\frac{B_{0} e^{2 L_{1} k_{1}} - B_{1} e^{L_{1} k_{1}}}{e^{2 L_{1} k_{1}} - 1}$"
      ],
      "text/plain": [
       "Eq(B_{0}, (-B_{0} + B_{1}*exp(L_1*k_1))/(exp(2*L_1*k_1) - 1) + (B_{0}*exp(2*L_1*k_1) - B_{1}*exp(L_1*k_1))/(exp(2*L_1*k_1) - 1))"
      ]
     },
     "metadata": {},
     "output_type": "display_data"
    },
    {
     "data": {
      "text/latex": [
       "$\\displaystyle B_{1} = \\frac{B_{1} e^{2 L_{2} k_{2}}}{e^{2 L_{2} k_{2}} - 1} - \\frac{B_{1}}{e^{2 L_{2} k_{2}} - 1}$"
      ],
      "text/plain": [
       "Eq(B_{1}, B_{1}*exp(2*L_2*k_2)/(exp(2*L_2*k_2) - 1) - B_{1}/(exp(2*L_2*k_2) - 1))"
      ]
     },
     "metadata": {},
     "output_type": "display_data"
    }
   ],
   "source": [
    "for equation in wave_function_substitutions: \n",
    "    display( equation )"
   ]
  },
  {
   "cell_type": "code",
   "execution_count": 44,
   "id": "324c4092-a660-4c82-9b19-2a9cf68c2bd7",
   "metadata": {},
   "outputs": [
    {
     "data": {
      "text/latex": [
       "$\\displaystyle N_{0} = \\begin{cases} \\frac{B_{0} Q_{3}^{2} \\left(- 4 L_{0} Q_{2} e^{2 L_{0} Q_{2}} + e^{4 L_{0} Q_{2}} - 1\\right) e^{- 2 L_{0} Q_{2}} \\overline{B_{0}}}{2 Q_{2}} & \\text{for}\\: B_{2} \\neq Q_{2} \\\\0 & \\text{otherwise} \\end{cases}$"
      ],
      "text/plain": [
       "Eq(N_0, Piecewise((B_{0}*Q_{3}**2*(-4*L_0*Q_{2}*exp(2*L_0*Q_{2}) + exp(4*L_0*Q_{2}) - 1)*exp(-2*L_0*Q_{2})*conjugate(B_{0})/(2*Q_{2}), Ne(B_{2}, Q_{2})), (0, True)))"
      ]
     },
     "metadata": {},
     "output_type": "display_data"
    },
    {
     "data": {
      "text/latex": [
       "$\\displaystyle N_{1} = \\int\\limits_{B_{2}}^{L_{1}} \\left(Q_{8} \\left(- B_{0} + B_{1} Q_{6}\\right) e^{Q_{7} x} + Q_{8} \\left(B_{0} Q_{10} - B_{1} Q_{6}\\right) e^{- Q_{7} x}\\right) \\left(Q_{8} \\left(Q_{10} \\overline{B_{0}} - Q_{6} \\overline{B_{1}}\\right) e^{- Q_{7} x} + Q_{8} \\left(Q_{6} \\overline{B_{1}} - \\overline{B_{0}}\\right) e^{Q_{7} x}\\right)\\, dx$"
      ],
      "text/plain": [
       "Eq(N_1, Integral((Q_{8}*(-B_{0} + B_{1}*Q_{6})*exp(Q_{7}*x) + Q_{8}*(B_{0}*Q_{10} - B_{1}*Q_{6})*exp(-Q_{7}*x))*(Q_{8}*(Q_{10}*conjugate(B_{0}) - Q_{6}*conjugate(B_{1}))*exp(-Q_{7}*x) + Q_{8}*(Q_{6}*conjugate(B_{1}) - conjugate(B_{0}))*exp(Q_{7}*x)), (x, B_{2}, L_1)))"
      ]
     },
     "metadata": {},
     "output_type": "display_data"
    },
    {
     "data": {
      "text/latex": [
       "$\\displaystyle N_{2} = \\int\\limits_{B_{2}}^{L_{2}} \\left(- B_{1} Q_{13} e^{Q_{12} x} + B_{1} Q_{15} e^{- Q_{12} x}\\right) \\left(- Q_{13} e^{Q_{12} x} \\overline{B_{1}} + Q_{15} e^{- Q_{12} x} \\overline{B_{1}}\\right)\\, dx$"
      ],
      "text/plain": [
       "Eq(N_2, Integral((-B_{1}*Q_{13}*exp(Q_{12}*x) + B_{1}*Q_{15}*exp(-Q_{12}*x))*(-Q_{13}*exp(Q_{12}*x)*conjugate(B_{1}) + Q_{15}*exp(-Q_{12}*x)*conjugate(B_{1})), (x, B_{2}, L_2)))"
      ]
     },
     "metadata": {},
     "output_type": "display_data"
    }
   ],
   "source": [
    "for equation in normalization_substitutions: \n",
    "    display( equation.simplify() )"
   ]
  },
  {
   "cell_type": "code",
   "execution_count": 45,
   "id": "55a95fb4-937e-47da-946c-c3117d8588dd",
   "metadata": {},
   "outputs": [
    {
     "data": {
      "text/latex": [
       "$\\displaystyle \\psi_{0}{\\left(x \\right)} = \\frac{B_{0} e^{L_{0} k_{0}} e^{k_{0} x}}{e^{2 L_{0} k_{0}} - 1} - \\frac{B_{0} e^{L_{0} k_{0}} e^{- k_{0} x}}{e^{2 L_{0} k_{0}} - 1}$"
      ],
      "text/plain": [
       "Eq(\\psi_{0}(x), B_{0}*exp(L_0*k_0)*exp(k_0*x)/(exp(2*L_0*k_0) - 1) - B_{0}*exp(L_0*k_0)*exp(-k_0*x)/(exp(2*L_0*k_0) - 1))"
      ]
     },
     "metadata": {},
     "output_type": "display_data"
    },
    {
     "data": {
      "text/latex": [
       "$\\displaystyle \\psi_{1}{\\left(x \\right)} = \\frac{\\left(- B_{0} + B_{1} e^{L_{1} k_{1}}\\right) e^{k_{1} x}}{e^{2 L_{1} k_{1}} - 1} + \\frac{\\left(B_{0} e^{2 L_{1} k_{1}} - B_{1} e^{L_{1} k_{1}}\\right) e^{- k_{1} x}}{e^{2 L_{1} k_{1}} - 1}$"
      ],
      "text/plain": [
       "Eq(\\psi_{1}(x), (-B_{0} + B_{1}*exp(L_1*k_1))*exp(k_1*x)/(exp(2*L_1*k_1) - 1) + (B_{0}*exp(2*L_1*k_1) - B_{1}*exp(L_1*k_1))*exp(-k_1*x)/(exp(2*L_1*k_1) - 1))"
      ]
     },
     "metadata": {},
     "output_type": "display_data"
    },
    {
     "data": {
      "text/latex": [
       "$\\displaystyle \\psi_{2}{\\left(x \\right)} = \\frac{B_{1} e^{2 L_{2} k_{2}} e^{- k_{2} x}}{e^{2 L_{2} k_{2}} - 1} - \\frac{B_{1} e^{k_{2} x}}{e^{2 L_{2} k_{2}} - 1}$"
      ],
      "text/plain": [
       "Eq(\\psi_{2}(x), B_{1}*exp(2*L_2*k_2)*exp(-k_2*x)/(exp(2*L_2*k_2) - 1) - B_{1}*exp(k_2*x)/(exp(2*L_2*k_2) - 1))"
      ]
     },
     "metadata": {},
     "output_type": "display_data"
    }
   ],
   "source": [
    "display_steps( stairwell_solver.equations )"
   ]
  },
  {
   "cell_type": "code",
   "execution_count": null,
   "id": "e7cb804c-fc8d-4922-b33e-c06e5071963d",
   "metadata": {},
   "outputs": [],
   "source": []
  },
  {
   "cell_type": "code",
   "execution_count": 46,
   "id": "b58d476d-263e-4aa1-a24c-bc31df6558cb",
   "metadata": {},
   "outputs": [
    {
     "data": {
      "text/latex": [
       "$\\displaystyle - 2 B_{0} L_{0} Q_{3}^{2} \\overline{B_{0}} + \\begin{cases} \\frac{B_{0} Q_{3}^{2} \\overline{B_{0}}}{2 Q_{2}} - \\frac{B_{0} Q_{3}^{2} e^{- 2 L_{0} Q_{2}} \\overline{B_{0}}}{2 Q_{2}} & \\text{for}\\: Q_{2} \\neq 0 \\\\B_{0} L_{0} Q_{3}^{2} \\overline{B_{0}} & \\text{otherwise} \\end{cases} + \\begin{cases} \\frac{B_{0} Q_{3}^{2} e^{2 L_{0} Q_{2}} \\overline{B_{0}}}{2 Q_{2}} - \\frac{B_{0} Q_{3}^{2} \\overline{B_{0}}}{2 Q_{2}} & \\text{for}\\: Q_{2} \\neq 0 \\\\B_{0} L_{0} Q_{3}^{2} \\overline{B_{0}} & \\text{otherwise} \\end{cases} = N_{0}$"
      ],
      "text/plain": [
       "Eq(-2*B_{0}*L_0*Q_{3}**2*conjugate(B_{0}) + Piecewise((B_{0}*Q_{3}**2*conjugate(B_{0})/(2*Q_{2}) - B_{0}*Q_{3}**2*exp(-2*L_0*Q_{2})*conjugate(B_{0})/(2*Q_{2}), Ne(Q_{2}, 0)), (B_{0}*L_0*Q_{3}**2*conjugate(B_{0}), True)) + Piecewise((B_{0}*Q_{3}**2*exp(2*L_0*Q_{2})*conjugate(B_{0})/(2*Q_{2}) - B_{0}*Q_{3}**2*conjugate(B_{0})/(2*Q_{2}), Ne(Q_{2}, 0)), (B_{0}*L_0*Q_{3}**2*conjugate(B_{0}), True)), N_0)"
      ]
     },
     "metadata": {},
     "output_type": "display_data"
    },
    {
     "data": {
      "text/latex": [
       "$\\displaystyle \\int\\limits_{0}^{L_{1}} \\left(Q_{8} \\left(- B_{0} + B_{1} Q_{6}\\right) e^{Q_{7} x} + Q_{8} \\left(B_{0} Q_{10} - B_{1} Q_{6}\\right) e^{- Q_{7} x}\\right) \\left(Q_{8} \\left(Q_{10} \\overline{B_{0}} - Q_{6} \\overline{B_{1}}\\right) e^{- Q_{7} x} + Q_{8} \\left(Q_{6} \\overline{B_{1}} - \\overline{B_{0}}\\right) e^{Q_{7} x}\\right)\\, dx = N_{1}$"
      ],
      "text/plain": [
       "Eq(Integral((Q_{8}*(-B_{0} + B_{1}*Q_{6})*exp(Q_{7}*x) + Q_{8}*(B_{0}*Q_{10} - B_{1}*Q_{6})*exp(-Q_{7}*x))*(Q_{8}*(Q_{10}*conjugate(B_{0}) - Q_{6}*conjugate(B_{1}))*exp(-Q_{7}*x) + Q_{8}*(Q_{6}*conjugate(B_{1}) - conjugate(B_{0}))*exp(Q_{7}*x)), (x, 0, L_1)), N_1)"
      ]
     },
     "metadata": {},
     "output_type": "display_data"
    },
    {
     "data": {
      "text/latex": [
       "$\\displaystyle \\int\\limits_{0}^{L_{2}} \\left(- B_{1} Q_{13} e^{Q_{12} x} + B_{1} Q_{15} e^{- Q_{12} x}\\right) \\left(- Q_{13} e^{Q_{12} x} \\overline{B_{1}} + Q_{15} e^{- Q_{12} x} \\overline{B_{1}}\\right)\\, dx = N_{2}$"
      ],
      "text/plain": [
       "Eq(Integral((-B_{1}*Q_{13}*exp(Q_{12}*x) + B_{1}*Q_{15}*exp(-Q_{12}*x))*(-Q_{13}*exp(Q_{12}*x)*conjugate(B_{1}) + Q_{15}*exp(-Q_{12}*x)*conjugate(B_{1})), (x, 0, L_2)), N_2)"
      ]
     },
     "metadata": {},
     "output_type": "display_data"
    }
   ],
   "source": [
    "display_steps( stairwell_solver.normalizations )"
   ]
  },
  {
   "cell_type": "code",
   "execution_count": null,
   "id": "2282a9a0-a45a-4bc8-8b0b-981e1ffe1a81",
   "metadata": {},
   "outputs": [],
   "source": []
  },
  {
   "cell_type": "code",
   "execution_count": null,
   "id": "f45de047-ed20-40fe-8971-4668a40d48d2",
   "metadata": {},
   "outputs": [],
   "source": []
  },
  {
   "cell_type": "code",
   "execution_count": null,
   "id": "80d2ff21-af72-4521-992e-835821a1d1c4",
   "metadata": {},
   "outputs": [],
   "source": []
  },
  {
   "cell_type": "code",
   "execution_count": 47,
   "id": "794a7e0c-1325-475e-ad5a-fef3ec75398c",
   "metadata": {},
   "outputs": [],
   "source": [
    "for equation in stairwell_solver.equations: \n",
    "    #equation.undo()\n",
    "    equation.manipulate( lambda step : step.subs( stairwell_solver.position, stairwell_solver.regions()[ 0 ] ) )"
   ]
  },
  {
   "cell_type": "code",
   "execution_count": 48,
   "id": "60dca177-ef9a-41d7-a1ea-851e844a5c69",
   "metadata": {},
   "outputs": [
    {
     "data": {
      "text/latex": [
       "$\\displaystyle \\psi_{0}{\\left(L_{0} \\right)} = \\frac{B_{0} e^{2 L_{0} k_{0}}}{e^{2 L_{0} k_{0}} - 1} - \\frac{B_{0}}{e^{2 L_{0} k_{0}} - 1}$"
      ],
      "text/plain": [
       "Eq(\\psi_{0}(L_0), B_{0}*exp(2*L_0*k_0)/(exp(2*L_0*k_0) - 1) - B_{0}/(exp(2*L_0*k_0) - 1))"
      ]
     },
     "metadata": {},
     "output_type": "display_data"
    },
    {
     "data": {
      "text/latex": [
       "$\\displaystyle \\psi_{1}{\\left(L_{0} \\right)} = \\frac{\\left(- B_{0} + B_{1} e^{L_{1} k_{1}}\\right) e^{L_{0} k_{1}}}{e^{2 L_{1} k_{1}} - 1} + \\frac{\\left(B_{0} e^{2 L_{1} k_{1}} - B_{1} e^{L_{1} k_{1}}\\right) e^{- L_{0} k_{1}}}{e^{2 L_{1} k_{1}} - 1}$"
      ],
      "text/plain": [
       "Eq(\\psi_{1}(L_0), (-B_{0} + B_{1}*exp(L_1*k_1))*exp(L_0*k_1)/(exp(2*L_1*k_1) - 1) + (B_{0}*exp(2*L_1*k_1) - B_{1}*exp(L_1*k_1))*exp(-L_0*k_1)/(exp(2*L_1*k_1) - 1))"
      ]
     },
     "metadata": {},
     "output_type": "display_data"
    },
    {
     "data": {
      "text/latex": [
       "$\\displaystyle \\psi_{2}{\\left(L_{0} \\right)} = - \\frac{B_{1} e^{L_{0} k_{2}}}{e^{2 L_{2} k_{2}} - 1} + \\frac{B_{1} e^{- L_{0} k_{2}} e^{2 L_{2} k_{2}}}{e^{2 L_{2} k_{2}} - 1}$"
      ],
      "text/plain": [
       "Eq(\\psi_{2}(L_0), -B_{1}*exp(L_0*k_2)/(exp(2*L_2*k_2) - 1) + B_{1}*exp(-L_0*k_2)*exp(2*L_2*k_2)/(exp(2*L_2*k_2) - 1))"
      ]
     },
     "metadata": {},
     "output_type": "display_data"
    }
   ],
   "source": [
    "display_steps( stairwell_solver.equations )"
   ]
  },
  {
   "cell_type": "code",
   "execution_count": 49,
   "id": "951cad29-cf01-4b06-9ade-a121e0703483",
   "metadata": {},
   "outputs": [],
   "source": [
    "first_codition = Stepper( sp.Eq( stairwell_solver.equations[ 0 ].last_step().rhs, stairwell_solver.equations[ 1 ].last_step().rhs ) )"
   ]
  },
  {
   "cell_type": "code",
   "execution_count": 50,
   "id": "2490aad7-31fd-4f3b-b05e-ec842bc94c6a",
   "metadata": {},
   "outputs": [
    {
     "data": {
      "text/latex": [
       "$\\displaystyle \\frac{B_{0} e^{2 L_{0} k_{0}}}{e^{2 L_{0} k_{0}} - 1} - \\frac{B_{0}}{e^{2 L_{0} k_{0}} - 1} = \\frac{\\left(- B_{0} + B_{1} e^{L_{1} k_{1}}\\right) e^{L_{0} k_{1}}}{e^{2 L_{1} k_{1}} - 1} + \\frac{\\left(B_{0} e^{2 L_{1} k_{1}} - B_{1} e^{L_{1} k_{1}}\\right) e^{- L_{0} k_{1}}}{e^{2 L_{1} k_{1}} - 1}$"
      ],
      "text/plain": [
       "Eq(B_{0}*exp(2*L_0*k_0)/(exp(2*L_0*k_0) - 1) - B_{0}/(exp(2*L_0*k_0) - 1), (-B_{0} + B_{1}*exp(L_1*k_1))*exp(L_0*k_1)/(exp(2*L_1*k_1) - 1) + (B_{0}*exp(2*L_1*k_1) - B_{1}*exp(L_1*k_1))*exp(-L_0*k_1)/(exp(2*L_1*k_1) - 1))"
      ]
     },
     "execution_count": 50,
     "metadata": {},
     "output_type": "execute_result"
    }
   ],
   "source": [
    "first_codition.last_step()"
   ]
  },
  {
   "cell_type": "code",
   "execution_count": 51,
   "id": "cfc3d818-d0fd-4356-bd82-9f9f0fb68839",
   "metadata": {},
   "outputs": [],
   "source": [
    "b_0_symbol = stairwell_solver.boundries.BoundryConstantTable[ stairwell_solver.psis[ 1 ].func( 0 ) ]"
   ]
  },
  {
   "cell_type": "code",
   "execution_count": 52,
   "id": "44c441ca-de99-4de9-878b-f2e0f7cd06f9",
   "metadata": {},
   "outputs": [
    {
     "data": {
      "text/latex": [
       "$\\displaystyle B_{0}$"
      ],
      "text/plain": [
       "B_{0}"
      ]
     },
     "execution_count": 52,
     "metadata": {},
     "output_type": "execute_result"
    }
   ],
   "source": [
    "b_0_symbol"
   ]
  },
  {
   "cell_type": "code",
   "execution_count": 53,
   "id": "c3d764a2-1074-4cd1-94bf-a54f9e1a6af3",
   "metadata": {},
   "outputs": [],
   "source": [
    "b_0_solution = sp.solve( first_codition.last_step(), b_0_symbol )"
   ]
  },
  {
   "cell_type": "code",
   "execution_count": 54,
   "id": "d2a5e453-1016-4531-a03c-33a60f1024d4",
   "metadata": {},
   "outputs": [
    {
     "data": {
      "text/plain": [
       "[B_{1}*(exp(L_0*k_1) + 1)*exp(L_1*k_1)/(exp(L_0*k_1) + exp(2*L_1*k_1))]"
      ]
     },
     "execution_count": 54,
     "metadata": {},
     "output_type": "execute_result"
    }
   ],
   "source": [
    "b_0_solution"
   ]
  },
  {
   "cell_type": "code",
   "execution_count": 55,
   "id": "46efc93c-1c7d-4a20-9511-0d84db30a654",
   "metadata": {},
   "outputs": [],
   "source": [
    "b_0_solution = sp.Eq( b_0_symbol, b_0_solution[ 0 ] )"
   ]
  },
  {
   "cell_type": "code",
   "execution_count": 56,
   "id": "263adb6c-2e69-467a-b578-1c60c876dc38",
   "metadata": {},
   "outputs": [
    {
     "data": {
      "text/latex": [
       "$\\displaystyle B_{0} = \\frac{B_{1} \\left(e^{L_{0} k_{1}} + 1\\right) e^{L_{1} k_{1}}}{e^{L_{0} k_{1}} + e^{2 L_{1} k_{1}}}$"
      ],
      "text/plain": [
       "Eq(B_{0}, B_{1}*(exp(L_0*k_1) + 1)*exp(L_1*k_1)/(exp(L_0*k_1) + exp(2*L_1*k_1)))"
      ]
     },
     "execution_count": 56,
     "metadata": {},
     "output_type": "execute_result"
    }
   ],
   "source": [
    "b_0_solution"
   ]
  },
  {
   "cell_type": "code",
   "execution_count": null,
   "id": "a1781851-e3ba-4d76-9946-0c8f406aca66",
   "metadata": {},
   "outputs": [],
   "source": []
  },
  {
   "cell_type": "code",
   "execution_count": 85,
   "id": "4d420095-da18-453f-8b1d-a7fc91f97361",
   "metadata": {},
   "outputs": [],
   "source": [
    "b_0_solution = b_0_solution.subs( b_0_symbol, sp.sqrt( b_0_squared.rhs ) )"
   ]
  },
  {
   "cell_type": "code",
   "execution_count": 86,
   "id": "cb0b6a42-e74c-42f2-8819-7a22dbc075a8",
   "metadata": {},
   "outputs": [
    {
     "data": {
      "text/latex": [
       "$\\displaystyle \\sqrt{2} \\sqrt{\\frac{N_{0} k_{0}}{4 L_{0} k_{0} e^{2 L_{0} k_{0}} - e^{4 L_{0} k_{0}} + 1}} \\left|{e^{2 L_{0} k_{0}} - 1}\\right| = \\frac{B_{1} \\left(e^{L_{0} k_{1}} + 1\\right) e^{L_{1} k_{1}}}{e^{L_{0} k_{1}} + e^{2 L_{1} k_{1}}}$"
      ],
      "text/plain": [
       "Eq(sqrt(2)*sqrt(N_0*k_0/(4*L_0*k_0*exp(2*L_0*k_0) - exp(4*L_0*k_0) + 1))*Abs(exp(2*L_0*k_0) - 1), B_{1}*(exp(L_0*k_1) + 1)*exp(L_1*k_1)/(exp(L_0*k_1) + exp(2*L_1*k_1)))"
      ]
     },
     "execution_count": 86,
     "metadata": {},
     "output_type": "execute_result"
    }
   ],
   "source": [
    "b_0_solution"
   ]
  },
  {
   "cell_type": "code",
   "execution_count": 87,
   "id": "aa952a0e-1b3d-4ce4-b412-7eb5a8c37ef9",
   "metadata": {},
   "outputs": [],
   "source": [
    "b_1_solution_from_b_0_solution = sp.solve( b_0_solution, b_1_symbol )"
   ]
  },
  {
   "cell_type": "code",
   "execution_count": 88,
   "id": "c5e9af64-1448-437c-a1b3-8af51d1c2e91",
   "metadata": {},
   "outputs": [
    {
     "data": {
      "text/plain": [
       "[sqrt(2)*sqrt(N_0*k_0/(4*L_0*k_0*exp(2*L_0*k_0) - exp(4*L_0*k_0) + 1))*(exp(L_0*k_1) + exp(2*L_1*k_1))*exp(-L_1*k_1)*Abs(exp(2*L_0*k_0) - 1)/(exp(L_0*k_1) + 1)]"
      ]
     },
     "execution_count": 88,
     "metadata": {},
     "output_type": "execute_result"
    }
   ],
   "source": [
    "b_1_solution_from_b_0_solution"
   ]
  },
  {
   "cell_type": "code",
   "execution_count": 89,
   "id": "3bf58481-06e0-4a07-ba66-213f299b0d53",
   "metadata": {},
   "outputs": [
    {
     "data": {
      "text/latex": [
       "$\\displaystyle \\frac{\\sqrt{2} \\sqrt{\\frac{N_{0} k_{0}}{4 L_{0} k_{0} e^{2 L_{0} k_{0}} - e^{4 L_{0} k_{0}} + 1}} \\left(e^{L_{0} k_{1}} + e^{2 L_{1} k_{1}}\\right) e^{- L_{1} k_{1}} \\left|{e^{2 L_{0} k_{0}} - 1}\\right|}{e^{L_{0} k_{1}} + 1}$"
      ],
      "text/plain": [
       "sqrt(2)*sqrt(N_0*k_0/(4*L_0*k_0*exp(2*L_0*k_0) - exp(4*L_0*k_0) + 1))*(exp(L_0*k_1) + exp(2*L_1*k_1))*exp(-L_1*k_1)*Abs(exp(2*L_0*k_0) - 1)/(exp(L_0*k_1) + 1)"
      ]
     },
     "execution_count": 89,
     "metadata": {},
     "output_type": "execute_result"
    }
   ],
   "source": [
    "b_1_solution_from_b_0_solution[ 0 ]"
   ]
  },
  {
   "cell_type": "code",
   "execution_count": 91,
   "id": "e498a1d2-fd7b-4c02-9bda-0266d078822e",
   "metadata": {},
   "outputs": [],
   "source": [
    "b_1_solution_from_b_0_solution = sp.Eq( b_1_symbol, b_1_solution_from_b_0_solution[ 0 ] )"
   ]
  },
  {
   "cell_type": "code",
   "execution_count": 92,
   "id": "b64a5663-21a6-424a-aee4-c7ce92cb0653",
   "metadata": {},
   "outputs": [
    {
     "data": {
      "text/latex": [
       "$\\displaystyle B_{1} = \\frac{\\sqrt{2} \\sqrt{\\frac{N_{0} k_{0}}{4 L_{0} k_{0} e^{2 L_{0} k_{0}} - e^{4 L_{0} k_{0}} + 1}} \\left(e^{L_{0} k_{1}} + e^{2 L_{1} k_{1}}\\right) e^{- L_{1} k_{1}} \\left|{e^{2 L_{0} k_{0}} - 1}\\right|}{e^{L_{0} k_{1}} + 1}$"
      ],
      "text/plain": [
       "Eq(B_{1}, sqrt(2)*sqrt(N_0*k_0/(4*L_0*k_0*exp(2*L_0*k_0) - exp(4*L_0*k_0) + 1))*(exp(L_0*k_1) + exp(2*L_1*k_1))*exp(-L_1*k_1)*Abs(exp(2*L_0*k_0) - 1)/(exp(L_0*k_1) + 1))"
      ]
     },
     "execution_count": 92,
     "metadata": {},
     "output_type": "execute_result"
    }
   ],
   "source": [
    "b_1_solution_from_b_0_solution"
   ]
  },
  {
   "cell_type": "code",
   "execution_count": null,
   "id": "db4db7eb-865c-46d4-b50a-108da9241575",
   "metadata": {},
   "outputs": [],
   "source": []
  }
 ],
 "metadata": {
  "kernelspec": {
   "display_name": "Python 3 (ipykernel)",
   "language": "python",
   "name": "python3"
  },
  "language_info": {
   "codemirror_mode": {
    "name": "ipython",
    "version": 3
   },
   "file_extension": ".py",
   "mimetype": "text/x-python",
   "name": "python",
   "nbconvert_exporter": "python",
   "pygments_lexer": "ipython3",
   "version": "3.10.4"
  }
 },
 "nbformat": 4,
 "nbformat_minor": 5
}
