{
 "cells": [
  {
   "cell_type": "code",
   "execution_count": 1,
   "id": "2938f258-5292-4382-ab7a-93308456cb3c",
   "metadata": {},
   "outputs": [],
   "source": [
    "from dataclasses import dataclass"
   ]
  },
  {
   "cell_type": "code",
   "execution_count": 2,
   "id": "f945bddf-cdf5-4491-accb-147a8c79d1ad",
   "metadata": {},
   "outputs": [],
   "source": [
    "import sympy as sp"
   ]
  },
  {
   "cell_type": "code",
   "execution_count": 3,
   "id": "a5dcd6d6-b0c4-4d3d-904a-2bd7dd052ebd",
   "metadata": {},
   "outputs": [],
   "source": [
    "from sympy import solveset, nonlinsolve, linsolve"
   ]
  },
  {
   "cell_type": "code",
   "execution_count": 4,
   "id": "6601cbc5-334c-47cd-af4d-ca1e996fccde",
   "metadata": {},
   "outputs": [],
   "source": [
    "import new_attempt.stateless as q"
   ]
  },
  {
   "cell_type": "code",
   "execution_count": 5,
   "id": "f7895958-7c43-4407-9d23-e28a7227b7c0",
   "metadata": {},
   "outputs": [],
   "source": [
    "import custom_libraries.utilities as u"
   ]
  },
  {
   "cell_type": "code",
   "execution_count": null,
   "id": "f90afd96-2710-434f-a0f3-7069f7d4a963",
   "metadata": {},
   "outputs": [],
   "source": []
  },
  {
   "cell_type": "code",
   "execution_count": 6,
   "id": "2b0e5c88-c9b7-40d5-abd4-a07621fb7f01",
   "metadata": {},
   "outputs": [],
   "source": [
    "regionCount = 3"
   ]
  },
  {
   "cell_type": "code",
   "execution_count": 7,
   "id": "5cea598d-8e6b-49bc-aa4b-555fe8779763",
   "metadata": {},
   "outputs": [],
   "source": [
    "regions = q.createPreliminaryData(regionCount)"
   ]
  },
  {
   "cell_type": "code",
   "execution_count": 8,
   "id": "3ce60152-bac5-4757-a0a1-025c5494645d",
   "metadata": {},
   "outputs": [
    {
     "data": {
      "text/plain": [
       "{'transmissionReflectionGenerator': <function new_attempt.stateless.makeCoefficentsFromHarmonicConstants(from_: new_attempt.stateless.RegionSymbols, to: new_attempt.stateless.RegionSymbols) -> dict>,\n",
       " 'regionSymbols': [<new_attempt.stateless.RegionSymbols at 0x7f4f3ffb9420>,\n",
       "  <new_attempt.stateless.RegionSymbols at 0x7f4f3ffba1d0>,\n",
       "  <new_attempt.stateless.RegionSymbols at 0x7f4f3ffba620>,\n",
       "  <new_attempt.stateless.RegionSymbols at 0x7f4f3ffbaa70>,\n",
       "  <new_attempt.stateless.RegionSymbols at 0x7f4f3ffbae90>],\n",
       " 'waveEquations': [Eq(V_0*psi_0(x) - hbarX**2*Derivative(psi_0(x), (x, 2))/(2*m), E_{total}*psi_0(x)),\n",
       "  Eq(V_1*psi_1(x) - hbarX**2*Derivative(psi_1(x), (x, 2))/(2*m), E_{total}*psi_1(x)),\n",
       "  Eq(V_2*psi_2(x) - hbarX**2*Derivative(psi_2(x), (x, 2))/(2*m), E_{total}*psi_2(x))],\n",
       " 'normalizations': [Eq(Integral(psi_0(x)*conjugate(psi_0(x)), (x, L_-1, L_0)), N_0),\n",
       "  Eq(Integral(psi_1(x)*conjugate(psi_1(x)), (x, L_0, L_1)), N_1),\n",
       "  Eq(Integral(psi_2(x)*conjugate(psi_2(x)), (x, L_1, L_2)), N_2)],\n",
       " 'generalSolutions': [{'boundries': {psi_0(L_-1): B_0, psi_0(L_0): B_1},\n",
       "   'harmonicConstantEquation': Eq(k_0, sqrt(2)*sqrt(m)*sqrt(-E_{total} + V_0)/hbarX),\n",
       "   'generalSolution': Eq(psi_0(x), (B_0*exp(L_-1*k_0)/(exp(2*L_-1*k_0) - exp(2*L_0*k_0)) - B_1*exp(L_0*k_0)/(exp(2*L_-1*k_0) - exp(2*L_0*k_0)))*exp(k_0*x) + (-B_0*exp(L_-1*k_0)*exp(2*L_0*k_0)/(exp(2*L_-1*k_0) - exp(2*L_0*k_0)) + B_1*exp(2*L_-1*k_0)*exp(L_0*k_0)/(exp(2*L_-1*k_0) - exp(2*L_0*k_0)))*exp(-k_0*x))},\n",
       "  {'boundries': {psi_1(L_0): B_1, psi_1(L_1): B_2},\n",
       "   'harmonicConstantEquation': Eq(k_1, sqrt(2)*sqrt(m)*sqrt(-E_{total} + V_1)/hbarX),\n",
       "   'generalSolution': Eq(psi_1(x), (B_1*exp(L_0*k_1)/(exp(2*L_0*k_1) - exp(2*L_1*k_1)) - B_2*exp(L_1*k_1)/(exp(2*L_0*k_1) - exp(2*L_1*k_1)))*exp(k_1*x) + (-B_1*exp(L_0*k_1)*exp(2*L_1*k_1)/(exp(2*L_0*k_1) - exp(2*L_1*k_1)) + B_2*exp(2*L_0*k_1)*exp(L_1*k_1)/(exp(2*L_0*k_1) - exp(2*L_1*k_1)))*exp(-k_1*x))},\n",
       "  {'boundries': {psi_2(L_1): B_2, psi_2(L_2): B_3},\n",
       "   'harmonicConstantEquation': Eq(k_2, sqrt(2)*sqrt(m)*sqrt(-E_{total} + V_2)/hbarX),\n",
       "   'generalSolution': Eq(psi_2(x), (B_2*exp(L_1*k_2)/(exp(2*L_1*k_2) - exp(2*L_2*k_2)) - B_3*exp(L_2*k_2)/(exp(2*L_1*k_2) - exp(2*L_2*k_2)))*exp(k_2*x) + (-B_2*exp(L_1*k_2)*exp(2*L_2*k_2)/(exp(2*L_1*k_2) - exp(2*L_2*k_2)) + B_3*exp(2*L_1*k_2)*exp(L_2*k_2)/(exp(2*L_1*k_2) - exp(2*L_2*k_2)))*exp(-k_2*x))}]}"
      ]
     },
     "execution_count": 8,
     "metadata": {},
     "output_type": "execute_result"
    }
   ],
   "source": [
    "regions"
   ]
  },
  {
   "cell_type": "code",
   "execution_count": 9,
   "id": "c8ef138f-c109-4536-97fd-06ad2d26c6c5",
   "metadata": {},
   "outputs": [],
   "source": [
    "generalSolutions = regions[\"generalSolutions\"]"
   ]
  },
  {
   "cell_type": "code",
   "execution_count": 10,
   "id": "dbb20c61-60f9-434a-9c32-d82c4a181559",
   "metadata": {},
   "outputs": [
    {
     "data": {
      "text/latex": [
       "$\\displaystyle \\psi_{0}{\\left(x \\right)} = \\left(\\frac{B_{0} e^{L_{-1} k_{0}}}{e^{2 L_{-1} k_{0}} - e^{2 L_{0} k_{0}}} - \\frac{B_{1} e^{L_{0} k_{0}}}{e^{2 L_{-1} k_{0}} - e^{2 L_{0} k_{0}}}\\right) e^{k_{0} x} + \\left(- \\frac{B_{0} e^{L_{-1} k_{0}} e^{2 L_{0} k_{0}}}{e^{2 L_{-1} k_{0}} - e^{2 L_{0} k_{0}}} + \\frac{B_{1} e^{2 L_{-1} k_{0}} e^{L_{0} k_{0}}}{e^{2 L_{-1} k_{0}} - e^{2 L_{0} k_{0}}}\\right) e^{- k_{0} x}$"
      ],
      "text/plain": [
       "Eq(psi_0(x), (B_0*exp(L_-1*k_0)/(exp(2*L_-1*k_0) - exp(2*L_0*k_0)) - B_1*exp(L_0*k_0)/(exp(2*L_-1*k_0) - exp(2*L_0*k_0)))*exp(k_0*x) + (-B_0*exp(L_-1*k_0)*exp(2*L_0*k_0)/(exp(2*L_-1*k_0) - exp(2*L_0*k_0)) + B_1*exp(2*L_-1*k_0)*exp(L_0*k_0)/(exp(2*L_-1*k_0) - exp(2*L_0*k_0)))*exp(-k_0*x))"
      ]
     },
     "metadata": {},
     "output_type": "display_data"
    },
    {
     "data": {
      "text/latex": [
       "$\\displaystyle \\psi_{1}{\\left(x \\right)} = \\left(\\frac{B_{1} e^{L_{0} k_{1}}}{e^{2 L_{0} k_{1}} - e^{2 L_{1} k_{1}}} - \\frac{B_{2} e^{L_{1} k_{1}}}{e^{2 L_{0} k_{1}} - e^{2 L_{1} k_{1}}}\\right) e^{k_{1} x} + \\left(- \\frac{B_{1} e^{L_{0} k_{1}} e^{2 L_{1} k_{1}}}{e^{2 L_{0} k_{1}} - e^{2 L_{1} k_{1}}} + \\frac{B_{2} e^{2 L_{0} k_{1}} e^{L_{1} k_{1}}}{e^{2 L_{0} k_{1}} - e^{2 L_{1} k_{1}}}\\right) e^{- k_{1} x}$"
      ],
      "text/plain": [
       "Eq(psi_1(x), (B_1*exp(L_0*k_1)/(exp(2*L_0*k_1) - exp(2*L_1*k_1)) - B_2*exp(L_1*k_1)/(exp(2*L_0*k_1) - exp(2*L_1*k_1)))*exp(k_1*x) + (-B_1*exp(L_0*k_1)*exp(2*L_1*k_1)/(exp(2*L_0*k_1) - exp(2*L_1*k_1)) + B_2*exp(2*L_0*k_1)*exp(L_1*k_1)/(exp(2*L_0*k_1) - exp(2*L_1*k_1)))*exp(-k_1*x))"
      ]
     },
     "metadata": {},
     "output_type": "display_data"
    },
    {
     "data": {
      "text/latex": [
       "$\\displaystyle \\psi_{2}{\\left(x \\right)} = \\left(\\frac{B_{2} e^{L_{1} k_{2}}}{e^{2 L_{1} k_{2}} - e^{2 L_{2} k_{2}}} - \\frac{B_{3} e^{L_{2} k_{2}}}{e^{2 L_{1} k_{2}} - e^{2 L_{2} k_{2}}}\\right) e^{k_{2} x} + \\left(- \\frac{B_{2} e^{L_{1} k_{2}} e^{2 L_{2} k_{2}}}{e^{2 L_{1} k_{2}} - e^{2 L_{2} k_{2}}} + \\frac{B_{3} e^{2 L_{1} k_{2}} e^{L_{2} k_{2}}}{e^{2 L_{1} k_{2}} - e^{2 L_{2} k_{2}}}\\right) e^{- k_{2} x}$"
      ],
      "text/plain": [
       "Eq(psi_2(x), (B_2*exp(L_1*k_2)/(exp(2*L_1*k_2) - exp(2*L_2*k_2)) - B_3*exp(L_2*k_2)/(exp(2*L_1*k_2) - exp(2*L_2*k_2)))*exp(k_2*x) + (-B_2*exp(L_1*k_2)*exp(2*L_2*k_2)/(exp(2*L_1*k_2) - exp(2*L_2*k_2)) + B_3*exp(2*L_1*k_2)*exp(L_2*k_2)/(exp(2*L_1*k_2) - exp(2*L_2*k_2)))*exp(-k_2*x))"
      ]
     },
     "metadata": {},
     "output_type": "display_data"
    }
   ],
   "source": [
    "for region in generalSolutions: \n",
    "    display(region[\"generalSolution\"])"
   ]
  },
  {
   "cell_type": "code",
   "execution_count": 11,
   "id": "a29cef4e-ea83-401e-8502-2c6636dd1b18",
   "metadata": {},
   "outputs": [
    {
     "data": {
      "text/latex": [
       "$\\displaystyle 0 = - B_{0} + \\frac{B_{0} e^{2 L_{-1} k_{0}}}{e^{2 L_{-1} k_{0}} - e^{2 L_{0} k_{0}}} - \\frac{B_{0} e^{2 L_{0} k_{0}}}{e^{2 L_{-1} k_{0}} - e^{2 L_{0} k_{0}}}$"
      ],
      "text/plain": [
       "Eq(0, -B_0 + B_0*exp(2*L_-1*k_0)/(exp(2*L_-1*k_0) - exp(2*L_0*k_0)) - B_0*exp(2*L_0*k_0)/(exp(2*L_-1*k_0) - exp(2*L_0*k_0)))"
      ]
     },
     "metadata": {},
     "output_type": "display_data"
    },
    {
     "data": {
      "text/latex": [
       "$\\displaystyle 0 = - B_{1} + \\frac{B_{1} e^{2 L_{-1} k_{0}}}{e^{2 L_{-1} k_{0}} - e^{2 L_{0} k_{0}}} - \\frac{B_{1} e^{2 L_{0} k_{0}}}{e^{2 L_{-1} k_{0}} - e^{2 L_{0} k_{0}}}$"
      ],
      "text/plain": [
       "Eq(0, -B_1 + B_1*exp(2*L_-1*k_0)/(exp(2*L_-1*k_0) - exp(2*L_0*k_0)) - B_1*exp(2*L_0*k_0)/(exp(2*L_-1*k_0) - exp(2*L_0*k_0)))"
      ]
     },
     "metadata": {},
     "output_type": "display_data"
    },
    {
     "data": {
      "text/latex": [
       "$\\displaystyle 0 = - B_{1} + \\frac{B_{1} e^{2 L_{0} k_{1}}}{e^{2 L_{0} k_{1}} - e^{2 L_{1} k_{1}}} - \\frac{B_{1} e^{2 L_{1} k_{1}}}{e^{2 L_{0} k_{1}} - e^{2 L_{1} k_{1}}}$"
      ],
      "text/plain": [
       "Eq(0, -B_1 + B_1*exp(2*L_0*k_1)/(exp(2*L_0*k_1) - exp(2*L_1*k_1)) - B_1*exp(2*L_1*k_1)/(exp(2*L_0*k_1) - exp(2*L_1*k_1)))"
      ]
     },
     "metadata": {},
     "output_type": "display_data"
    },
    {
     "data": {
      "text/latex": [
       "$\\displaystyle 0 = - B_{2} + \\frac{B_{2} e^{2 L_{0} k_{1}}}{e^{2 L_{0} k_{1}} - e^{2 L_{1} k_{1}}} - \\frac{B_{2} e^{2 L_{1} k_{1}}}{e^{2 L_{0} k_{1}} - e^{2 L_{1} k_{1}}}$"
      ],
      "text/plain": [
       "Eq(0, -B_2 + B_2*exp(2*L_0*k_1)/(exp(2*L_0*k_1) - exp(2*L_1*k_1)) - B_2*exp(2*L_1*k_1)/(exp(2*L_0*k_1) - exp(2*L_1*k_1)))"
      ]
     },
     "metadata": {},
     "output_type": "display_data"
    },
    {
     "data": {
      "text/latex": [
       "$\\displaystyle 0 = - B_{2} + \\frac{B_{2} e^{2 L_{1} k_{2}}}{e^{2 L_{1} k_{2}} - e^{2 L_{2} k_{2}}} - \\frac{B_{2} e^{2 L_{2} k_{2}}}{e^{2 L_{1} k_{2}} - e^{2 L_{2} k_{2}}}$"
      ],
      "text/plain": [
       "Eq(0, -B_2 + B_2*exp(2*L_1*k_2)/(exp(2*L_1*k_2) - exp(2*L_2*k_2)) - B_2*exp(2*L_2*k_2)/(exp(2*L_1*k_2) - exp(2*L_2*k_2)))"
      ]
     },
     "metadata": {},
     "output_type": "display_data"
    },
    {
     "data": {
      "text/latex": [
       "$\\displaystyle 0 = - B_{3} + \\frac{B_{3} e^{2 L_{1} k_{2}}}{e^{2 L_{1} k_{2}} - e^{2 L_{2} k_{2}}} - \\frac{B_{3} e^{2 L_{2} k_{2}}}{e^{2 L_{1} k_{2}} - e^{2 L_{2} k_{2}}}$"
      ],
      "text/plain": [
       "Eq(0, -B_3 + B_3*exp(2*L_1*k_2)/(exp(2*L_1*k_2) - exp(2*L_2*k_2)) - B_3*exp(2*L_2*k_2)/(exp(2*L_1*k_2) - exp(2*L_2*k_2)))"
      ]
     },
     "metadata": {},
     "output_type": "display_data"
    }
   ],
   "source": [
    "boundrySystemOfEquations = []\n",
    "for region in generalSolutions: \n",
    "    for key, boundry in region[\"boundries\"].items(): \n",
    "        generalSolution = region[\"generalSolution\"]\n",
    "        boundrySystemOfEquations.append(sp.Eq(0, (generalSolution.rhs.subs({q.POSITION_SYMBOL : key.args[0]}) - boundry).expand()))\n",
    "        display(boundrySystemOfEquations[-1])"
   ]
  },
  {
   "cell_type": "code",
   "execution_count": 12,
   "id": "f892e590-ce46-434b-9435-9d591acdd4b8",
   "metadata": {},
   "outputs": [],
   "source": [
    "def makeBoundrySets(generalSolutions : list[dict]) -> set[sp.Symbol]: \n",
    "    return [set(generalSolution[\"boundries\"].values()) for generalSolution in generalSolutions]"
   ]
  },
  {
   "cell_type": "code",
   "execution_count": 13,
   "id": "4044163b-6b8b-4103-9df1-dd6e61640608",
   "metadata": {},
   "outputs": [],
   "source": [
    "def getBoundries(generalSolutions : list[dict]) -> list[sp.Symbol]: \n",
    "    boundrySets = makeBoundrySets(generalSolutions)\n",
    "    boundries = {}\n",
    "    for boundrySet in boundrySets: \n",
    "        boundries |= {str(symbol) : symbol for symbol in list(boundrySet)}\n",
    "    boundries = [boundries[name] for name in q.orderNames(list(boundries.keys()))]\n",
    "    return boundries"
   ]
  },
  {
   "cell_type": "code",
   "execution_count": 14,
   "id": "df2fd5ef-9feb-4707-9034-23eb473e5735",
   "metadata": {},
   "outputs": [],
   "source": [
    "def getUnkownBoundries(generalSolutions : list[dict]) -> set[sp.Symbol]: \n",
    "    boundrySets = makeBoundrySets(generalSolutions)\n",
    "    unkownBoundries = [boundrySets[ii + 1] & boundrySets[ii] for ii in range(len(boundrySets) - 1)]\n",
    "    unkownBoundriesSet = set()\n",
    "    for unkownBoundrySet in unkownBoundries: \n",
    "        unkownBoundriesSet |= unkownBoundrySet\n",
    "    return unkownBoundriesSet"
   ]
  },
  {
   "cell_type": "code",
   "execution_count": 15,
   "id": "53967154-cba5-4c64-89b4-b3121e18acf2",
   "metadata": {},
   "outputs": [],
   "source": [
    "boundries = getBoundries(generalSolutions)"
   ]
  },
  {
   "cell_type": "code",
   "execution_count": 16,
   "id": "cae960ae-69d8-48f6-a33e-06465c3c68f8",
   "metadata": {},
   "outputs": [
    {
     "data": {
      "text/plain": [
       "[B_0, B_1, B_2, B_3]"
      ]
     },
     "execution_count": 16,
     "metadata": {},
     "output_type": "execute_result"
    }
   ],
   "source": [
    "boundries"
   ]
  },
  {
   "cell_type": "code",
   "execution_count": 17,
   "id": "2f01d576-64b1-4684-9656-7ce194969765",
   "metadata": {},
   "outputs": [],
   "source": [
    "boundrySystemOfEquations = [sp.Eq(equation.lhs, equation.rhs.collect(boundries)) for equation in boundrySystemOfEquations]"
   ]
  },
  {
   "cell_type": "code",
   "execution_count": 18,
   "id": "1043bbba-df78-49df-8ebc-c6b154b586b9",
   "metadata": {},
   "outputs": [
    {
     "name": "stdout",
     "output_type": "stream",
     "text": [
      "0 = B_{0} \\left(-1 + \\frac{e^{2 L_{-1} k_{0}}}{e^{2 L_{-1} k_{0}} - e^{2 L_{0} k_{0}}} - \\frac{e^{2 L_{0} k_{0}}}{e^{2 L_{-1} k_{0}} - e^{2 L_{0} k_{0}}}\\right)\n"
     ]
    },
    {
     "data": {
      "text/latex": [
       "$\\displaystyle 0 = B_{0} \\left(-1 + \\frac{e^{2 L_{-1} k_{0}}}{e^{2 L_{-1} k_{0}} - e^{2 L_{0} k_{0}}} - \\frac{e^{2 L_{0} k_{0}}}{e^{2 L_{-1} k_{0}} - e^{2 L_{0} k_{0}}}\\right)$"
      ],
      "text/plain": [
       "Eq(0, B_0*(-1 + exp(2*L_-1*k_0)/(exp(2*L_-1*k_0) - exp(2*L_0*k_0)) - exp(2*L_0*k_0)/(exp(2*L_-1*k_0) - exp(2*L_0*k_0))))"
      ]
     },
     "metadata": {},
     "output_type": "display_data"
    },
    {
     "name": "stdout",
     "output_type": "stream",
     "text": [
      "0 = B_{1} \\left(-1 + \\frac{e^{2 L_{-1} k_{0}}}{e^{2 L_{-1} k_{0}} - e^{2 L_{0} k_{0}}} - \\frac{e^{2 L_{0} k_{0}}}{e^{2 L_{-1} k_{0}} - e^{2 L_{0} k_{0}}}\\right)\n"
     ]
    },
    {
     "data": {
      "text/latex": [
       "$\\displaystyle 0 = B_{1} \\left(-1 + \\frac{e^{2 L_{-1} k_{0}}}{e^{2 L_{-1} k_{0}} - e^{2 L_{0} k_{0}}} - \\frac{e^{2 L_{0} k_{0}}}{e^{2 L_{-1} k_{0}} - e^{2 L_{0} k_{0}}}\\right)$"
      ],
      "text/plain": [
       "Eq(0, B_1*(-1 + exp(2*L_-1*k_0)/(exp(2*L_-1*k_0) - exp(2*L_0*k_0)) - exp(2*L_0*k_0)/(exp(2*L_-1*k_0) - exp(2*L_0*k_0))))"
      ]
     },
     "metadata": {},
     "output_type": "display_data"
    },
    {
     "name": "stdout",
     "output_type": "stream",
     "text": [
      "0 = B_{1} \\left(-1 + \\frac{e^{2 L_{0} k_{1}}}{e^{2 L_{0} k_{1}} - e^{2 L_{1} k_{1}}} - \\frac{e^{2 L_{1} k_{1}}}{e^{2 L_{0} k_{1}} - e^{2 L_{1} k_{1}}}\\right)\n"
     ]
    },
    {
     "data": {
      "text/latex": [
       "$\\displaystyle 0 = B_{1} \\left(-1 + \\frac{e^{2 L_{0} k_{1}}}{e^{2 L_{0} k_{1}} - e^{2 L_{1} k_{1}}} - \\frac{e^{2 L_{1} k_{1}}}{e^{2 L_{0} k_{1}} - e^{2 L_{1} k_{1}}}\\right)$"
      ],
      "text/plain": [
       "Eq(0, B_1*(-1 + exp(2*L_0*k_1)/(exp(2*L_0*k_1) - exp(2*L_1*k_1)) - exp(2*L_1*k_1)/(exp(2*L_0*k_1) - exp(2*L_1*k_1))))"
      ]
     },
     "metadata": {},
     "output_type": "display_data"
    },
    {
     "name": "stdout",
     "output_type": "stream",
     "text": [
      "0 = B_{2} \\left(-1 + \\frac{e^{2 L_{0} k_{1}}}{e^{2 L_{0} k_{1}} - e^{2 L_{1} k_{1}}} - \\frac{e^{2 L_{1} k_{1}}}{e^{2 L_{0} k_{1}} - e^{2 L_{1} k_{1}}}\\right)\n"
     ]
    },
    {
     "data": {
      "text/latex": [
       "$\\displaystyle 0 = B_{2} \\left(-1 + \\frac{e^{2 L_{0} k_{1}}}{e^{2 L_{0} k_{1}} - e^{2 L_{1} k_{1}}} - \\frac{e^{2 L_{1} k_{1}}}{e^{2 L_{0} k_{1}} - e^{2 L_{1} k_{1}}}\\right)$"
      ],
      "text/plain": [
       "Eq(0, B_2*(-1 + exp(2*L_0*k_1)/(exp(2*L_0*k_1) - exp(2*L_1*k_1)) - exp(2*L_1*k_1)/(exp(2*L_0*k_1) - exp(2*L_1*k_1))))"
      ]
     },
     "metadata": {},
     "output_type": "display_data"
    },
    {
     "name": "stdout",
     "output_type": "stream",
     "text": [
      "0 = B_{2} \\left(-1 + \\frac{e^{2 L_{1} k_{2}}}{e^{2 L_{1} k_{2}} - e^{2 L_{2} k_{2}}} - \\frac{e^{2 L_{2} k_{2}}}{e^{2 L_{1} k_{2}} - e^{2 L_{2} k_{2}}}\\right)\n"
     ]
    },
    {
     "data": {
      "text/latex": [
       "$\\displaystyle 0 = B_{2} \\left(-1 + \\frac{e^{2 L_{1} k_{2}}}{e^{2 L_{1} k_{2}} - e^{2 L_{2} k_{2}}} - \\frac{e^{2 L_{2} k_{2}}}{e^{2 L_{1} k_{2}} - e^{2 L_{2} k_{2}}}\\right)$"
      ],
      "text/plain": [
       "Eq(0, B_2*(-1 + exp(2*L_1*k_2)/(exp(2*L_1*k_2) - exp(2*L_2*k_2)) - exp(2*L_2*k_2)/(exp(2*L_1*k_2) - exp(2*L_2*k_2))))"
      ]
     },
     "metadata": {},
     "output_type": "display_data"
    },
    {
     "name": "stdout",
     "output_type": "stream",
     "text": [
      "0 = B_{3} \\left(-1 + \\frac{e^{2 L_{1} k_{2}}}{e^{2 L_{1} k_{2}} - e^{2 L_{2} k_{2}}} - \\frac{e^{2 L_{2} k_{2}}}{e^{2 L_{1} k_{2}} - e^{2 L_{2} k_{2}}}\\right)\n"
     ]
    },
    {
     "data": {
      "text/latex": [
       "$\\displaystyle 0 = B_{3} \\left(-1 + \\frac{e^{2 L_{1} k_{2}}}{e^{2 L_{1} k_{2}} - e^{2 L_{2} k_{2}}} - \\frac{e^{2 L_{2} k_{2}}}{e^{2 L_{1} k_{2}} - e^{2 L_{2} k_{2}}}\\right)$"
      ],
      "text/plain": [
       "Eq(0, B_3*(-1 + exp(2*L_1*k_2)/(exp(2*L_1*k_2) - exp(2*L_2*k_2)) - exp(2*L_2*k_2)/(exp(2*L_1*k_2) - exp(2*L_2*k_2))))"
      ]
     },
     "metadata": {},
     "output_type": "display_data"
    }
   ],
   "source": [
    "for equation in boundrySystemOfEquations: \n",
    "    print(sp.latex(equation))\n",
    "    display(equation)"
   ]
  },
  {
   "cell_type": "code",
   "execution_count": 19,
   "id": "2e16503e-eb74-48d3-b48c-a958f8ba7938",
   "metadata": {},
   "outputs": [],
   "source": [
    "unkownBoundries = getUnkownBoundries(generalSolutions)"
   ]
  },
  {
   "cell_type": "code",
   "execution_count": 20,
   "id": "8a0297f3-8c64-44cf-b115-ed7c17ad8b46",
   "metadata": {},
   "outputs": [
    {
     "data": {
      "text/plain": [
       "{B_1, B_2}"
      ]
     },
     "execution_count": 20,
     "metadata": {},
     "output_type": "execute_result"
    }
   ],
   "source": [
    "unkownBoundries"
   ]
  },
  {
   "cell_type": "code",
   "execution_count": 21,
   "id": "f871784a-6e8e-4c2b-85e2-7767990314e3",
   "metadata": {},
   "outputs": [],
   "source": [
    "def getLengths(regionSymbols : list[q.RegionSymbols]) -> list[sp.Symbol]: \n",
    "    return [region.distance for region in regionSymbols]"
   ]
  },
  {
   "cell_type": "code",
   "execution_count": 22,
   "id": "8a427bb8-fe82-4235-8872-10c934aeee93",
   "metadata": {},
   "outputs": [],
   "source": [
    "lengths = getLengths(regions[\"regionSymbols\"])"
   ]
  },
  {
   "cell_type": "code",
   "execution_count": 23,
   "id": "9c030195-3493-4174-9e0b-4850ddff4b44",
   "metadata": {},
   "outputs": [
    {
     "data": {
      "text/plain": [
       "[L_-1, L_0, L_1, L_2, L_3]"
      ]
     },
     "execution_count": 23,
     "metadata": {},
     "output_type": "execute_result"
    }
   ],
   "source": [
    "lengths"
   ]
  },
  {
   "cell_type": "code",
   "execution_count": 24,
   "id": "d52da2a5-ab80-440f-8dba-7d1976cf8ba7",
   "metadata": {},
   "outputs": [],
   "source": [
    "def getHarmonicConstants(regions : list[q.RegionSymbols]) -> list[sp.Symbol]: \n",
    "    return [region.harmonicConstant for region in regions]"
   ]
  },
  {
   "cell_type": "code",
   "execution_count": 25,
   "id": "29b02b42-c4c3-43e2-88bb-1e8e8aef6765",
   "metadata": {},
   "outputs": [],
   "source": [
    "harmonicConstants = getHarmonicConstants(regions[\"regionSymbols\"])"
   ]
  },
  {
   "cell_type": "code",
   "execution_count": 26,
   "id": "eb2dba7b-96b3-4093-8ba8-7e2e1bb6cbfa",
   "metadata": {},
   "outputs": [
    {
     "data": {
      "text/plain": [
       "[k_-1, k_0, k_1, k_2, k_3]"
      ]
     },
     "execution_count": 26,
     "metadata": {},
     "output_type": "execute_result"
    }
   ],
   "source": [
    "harmonicConstants"
   ]
  },
  {
   "cell_type": "code",
   "execution_count": 27,
   "id": "5468199c-8d4e-4c19-9cc8-0370f4f87e64",
   "metadata": {},
   "outputs": [],
   "source": [
    "@dataclass\n",
    "class BoundrySymbols: \n",
    "    boundry : sp.Symbol\n",
    "    harmonicConstant : sp.Symbol\n",
    "    length : sp.Symbol"
   ]
  },
  {
   "cell_type": "code",
   "execution_count": null,
   "id": "b81bc297-9879-46b2-9f58-46ae8e894c2f",
   "metadata": {},
   "outputs": [],
   "source": []
  },
  {
   "cell_type": "code",
   "execution_count": 28,
   "id": "d9ae8a96-083e-40d7-9ed2-f118217d18d8",
   "metadata": {},
   "outputs": [],
   "source": [
    "def makeBoundrySymbols(\n",
    "            boundry : list[sp.Symbol], \n",
    "            harmonicConstant : list[sp.Symbol], \n",
    "            length : list[sp.Symbol]\n",
    "        ) -> list[BoundrySymbols]: \n",
    "    return tuple(BoundrySymbols(symbols[0], symbols[1], symbols[2]) \\\n",
    "                 for symbols in zip(boundries, harmonicConstants, lengths)\n",
    "            )"
   ]
  },
  {
   "cell_type": "code",
   "execution_count": 29,
   "id": "e80eb060-dbba-4f4e-af7c-7f8e22390953",
   "metadata": {},
   "outputs": [],
   "source": [
    "boundrySymbols = makeBoundrySymbols(boundries, harmonicConstants, lengths)"
   ]
  },
  {
   "cell_type": "code",
   "execution_count": 30,
   "id": "ec01be50-bc08-4a9a-8e20-af8c874111fb",
   "metadata": {},
   "outputs": [
    {
     "data": {
      "text/plain": [
       "(BoundrySymbols(boundry=B_0, harmonicConstant=k_-1, length=L_-1),\n",
       " BoundrySymbols(boundry=B_1, harmonicConstant=k_0, length=L_0),\n",
       " BoundrySymbols(boundry=B_2, harmonicConstant=k_1, length=L_1),\n",
       " BoundrySymbols(boundry=B_3, harmonicConstant=k_2, length=L_2))"
      ]
     },
     "execution_count": 30,
     "metadata": {},
     "output_type": "execute_result"
    }
   ],
   "source": [
    "boundrySymbols"
   ]
  },
  {
   "cell_type": "code",
   "execution_count": 83,
   "id": "9d95eba8-d224-4f4f-be96-1fd7eb23717d",
   "metadata": {},
   "outputs": [],
   "source": [
    "def extractBoundryParameters(\n",
    "            index : int, \n",
    "            boundrySymbols : list[BoundrySymbols], \n",
    "            boundryEquation : sp.Eq\n",
    "        ) -> dict: \n",
    "    this = boundrySymbols[index]\n",
    "    next_ = boundrySymbols[index + 1]\n",
    "    denomonator = sp.exp(2 * this.length * next_.harmonicConstant) \\\n",
    "            - sp.exp(2 * next_.length * next_.harmonicConstant)\n",
    "    numerators = (\n",
    "            sp.exp(2 * this.length * next_.harmonicConstant), \n",
    "            sp.exp(2 * next_.length * next_.harmonicConstant)\n",
    "        )\n",
    "    constant = numerators[0] / denomonator - numerators[1] / denomonator\n",
    "    return boundryEquation, constant, display((boundryEquation.rhs / this.boundry).matches(numerators[0] / denomonator))"
   ]
  },
  {
   "cell_type": "code",
   "execution_count": 84,
   "id": "b6fbc35d-112a-46ed-ab37-78e9195d35b3",
   "metadata": {},
   "outputs": [
    {
     "data": {
      "text/plain": [
       "None"
      ]
     },
     "metadata": {},
     "output_type": "display_data"
    }
   ],
   "source": [
    "a, b, c = extractBoundryParameters(0, boundrySymbols, boundrySystemOfEquations[0])"
   ]
  },
  {
   "cell_type": "code",
   "execution_count": 72,
   "id": "99e73248-4336-412c-a6f9-556ddc935551",
   "metadata": {},
   "outputs": [
    {
     "data": {
      "text/latex": [
       "$\\displaystyle 0 = B_{0} \\left(-1 + \\frac{e^{2 L_{-1} k_{0}}}{e^{2 L_{-1} k_{0}} - e^{2 L_{0} k_{0}}} - \\frac{e^{2 L_{0} k_{0}}}{e^{2 L_{-1} k_{0}} - e^{2 L_{0} k_{0}}}\\right)$"
      ],
      "text/plain": [
       "Eq(0, B_0*(-1 + exp(2*L_-1*k_0)/(exp(2*L_-1*k_0) - exp(2*L_0*k_0)) - exp(2*L_0*k_0)/(exp(2*L_-1*k_0) - exp(2*L_0*k_0))))"
      ]
     },
     "execution_count": 72,
     "metadata": {},
     "output_type": "execute_result"
    }
   ],
   "source": [
    "a"
   ]
  },
  {
   "cell_type": "code",
   "execution_count": 73,
   "id": "e707e528-a238-4522-b280-6e0f0394f05e",
   "metadata": {},
   "outputs": [
    {
     "data": {
      "text/latex": [
       "$\\displaystyle \\frac{e^{2 L_{-1} k_{0}}}{e^{2 L_{-1} k_{0}} - e^{2 L_{0} k_{0}}} - \\frac{e^{2 L_{0} k_{0}}}{e^{2 L_{-1} k_{0}} - e^{2 L_{0} k_{0}}}$"
      ],
      "text/plain": [
       "exp(2*L_-1*k_0)/(exp(2*L_-1*k_0) - exp(2*L_0*k_0)) - exp(2*L_0*k_0)/(exp(2*L_-1*k_0) - exp(2*L_0*k_0))"
      ]
     },
     "execution_count": 73,
     "metadata": {},
     "output_type": "execute_result"
    }
   ],
   "source": [
    "b"
   ]
  },
  {
   "cell_type": "code",
   "execution_count": 74,
   "id": "72143ef4-b0af-40cb-b6a2-ddbd4ec28e2c",
   "metadata": {},
   "outputs": [],
   "source": [
    "c"
   ]
  },
  {
   "cell_type": "code",
   "execution_count": 33,
   "id": "595ff695-e6b4-4086-bd56-694439da8837",
   "metadata": {},
   "outputs": [],
   "source": [
    "def solveBoundries(regionSymbols, boundrySystemOfEquations, boundries): \n",
    "    virtualRegions = (boundrySystemOfEquations[0], boundrySystemOfEquations[-1])\n",
    "    previous = virtualRegions[0]\n",
    "    solutions = []\n",
    "    lengths\n",
    "    for ii in range(len(boundrySystemOfEquations)): \n",
    "        #solutions.append(sp.Eq(boundrySystemOfEquations[ii].rhs, previous.rhs))\n",
    "        display(boundrySystemOfEquations[ii].rhs.as_two_terms()[1])\n",
    "    return solutions"
   ]
  },
  {
   "cell_type": "code",
   "execution_count": 34,
   "id": "1c148961-dd8b-420d-8492-9104224f0230",
   "metadata": {},
   "outputs": [
    {
     "ename": "TypeError",
     "evalue": "solveBoundries() missing 1 required positional argument: 'boundries'",
     "output_type": "error",
     "traceback": [
      "\u001b[0;31m---------------------------------------------------------------------------\u001b[0m",
      "\u001b[0;31mTypeError\u001b[0m                                 Traceback (most recent call last)",
      "Input \u001b[0;32mIn [34]\u001b[0m, in \u001b[0;36m<cell line: 1>\u001b[0;34m()\u001b[0m\n\u001b[0;32m----> 1\u001b[0m \u001b[43msolveBoundries\u001b[49m\u001b[43m(\u001b[49m\u001b[43mboundrySystemOfEquations\u001b[49m\u001b[43m,\u001b[49m\u001b[43m \u001b[49m\u001b[43mboundries\u001b[49m\u001b[43m)\u001b[49m\n",
      "\u001b[0;31mTypeError\u001b[0m: solveBoundries() missing 1 required positional argument: 'boundries'"
     ]
    }
   ],
   "source": [
    "solveBoundries(boundrySystemOfEquations, boundries)"
   ]
  },
  {
   "cell_type": "code",
   "execution_count": null,
   "id": "a7abffbb-b8e5-4e19-9070-bb7cbed500d4",
   "metadata": {},
   "outputs": [],
   "source": []
  },
  {
   "cell_type": "code",
   "execution_count": null,
   "id": "b7983ad4-33cc-4d43-90e8-f3d33607b67c",
   "metadata": {},
   "outputs": [],
   "source": []
  }
 ],
 "metadata": {
  "kernelspec": {
   "display_name": "Python 3 (ipykernel)",
   "language": "python",
   "name": "python3"
  },
  "language_info": {
   "codemirror_mode": {
    "name": "ipython",
    "version": 3
   },
   "file_extension": ".py",
   "mimetype": "text/x-python",
   "name": "python",
   "nbconvert_exporter": "python",
   "pygments_lexer": "ipython3",
   "version": "3.10.5"
  }
 },
 "nbformat": 4,
 "nbformat_minor": 5
}
