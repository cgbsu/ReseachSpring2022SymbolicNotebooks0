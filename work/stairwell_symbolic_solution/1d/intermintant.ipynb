{
 "cells": [
  {
   "cell_type": "code",
   "execution_count": 1,
   "id": "22e67c19-01be-4af4-8170-03e2264f7884",
   "metadata": {},
   "outputs": [],
   "source": [
    "import sympy as sp"
   ]
  },
  {
   "cell_type": "code",
   "execution_count": 2,
   "id": "2b128a66-5d73-46b0-a45f-d088df02dcdf",
   "metadata": {},
   "outputs": [],
   "source": [
    "from custom_libraries.stepper import *"
   ]
  },
  {
   "cell_type": "code",
   "execution_count": 3,
   "id": "fb491dad-7803-44c2-b4ae-2fe2d3e7f6fc",
   "metadata": {},
   "outputs": [],
   "source": [
    "x, k, A1, A2, B1, B2, C1, C2, V, E, L = sp.symbols( \"x k A1 A2 B1 B2 C1 C2 V E L\" )"
   ]
  },
  {
   "cell_type": "code",
   "execution_count": 4,
   "id": "cda04595-74f6-4d15-96ac-e8297c99b48b",
   "metadata": {},
   "outputs": [],
   "source": [
    "exponential = lambda position, k, first_coefficent, second_coefficent : ( first_coefficent * sp.exp( k * position ) ) + ( second_coefficent * sp.exp( -k * position ) )"
   ]
  },
  {
   "cell_type": "code",
   "execution_count": 5,
   "id": "a318cc0a-a752-4067-b9bb-473c87a3e7ad",
   "metadata": {},
   "outputs": [],
   "source": [
    "ex0 = exponential( x, k, B1, B2 )"
   ]
  },
  {
   "cell_type": "code",
   "execution_count": 6,
   "id": "bf0c9188-87bb-4915-92ff-96c08737fa25",
   "metadata": {},
   "outputs": [
    {
     "data": {
      "text/latex": [
       "$\\displaystyle B_{1} e^{k x} + B_{2} e^{- k x}$"
      ],
      "text/plain": [
       "B1*exp(k*x) + B2*exp(-k*x)"
      ]
     },
     "execution_count": 6,
     "metadata": {},
     "output_type": "execute_result"
    }
   ],
   "source": [
    "ex0"
   ]
  },
  {
   "cell_type": "code",
   "execution_count": null,
   "id": "5a6ba97b-39a8-42cc-9479-740bd3cd88ff",
   "metadata": {},
   "outputs": [],
   "source": []
  },
  {
   "cell_type": "code",
   "execution_count": 7,
   "id": "e4c46a91-3b67-4c97-ac63-d5333f0ba364",
   "metadata": {},
   "outputs": [],
   "source": [
    "A = sp.Symbol( 'A' )"
   ]
  },
  {
   "cell_type": "code",
   "execution_count": 8,
   "id": "ad7e3a80-d0ed-4be4-b2d4-5b4efd681186",
   "metadata": {},
   "outputs": [],
   "source": [
    "ex1 = exponential( 0, k, A1, A2 ).subs( { A1 + A2 : A } )"
   ]
  },
  {
   "cell_type": "code",
   "execution_count": 9,
   "id": "2dd95a28-6971-413e-ac87-77c75168428c",
   "metadata": {},
   "outputs": [],
   "source": [
    "ex2 = exponential( L, k, C1, C2 )\n"
   ]
  },
  {
   "cell_type": "code",
   "execution_count": 10,
   "id": "98aec744-c986-4b08-9283-ce725fbe22f1",
   "metadata": {},
   "outputs": [
    {
     "data": {
      "text/latex": [
       "$\\displaystyle A$"
      ],
      "text/plain": [
       "A"
      ]
     },
     "execution_count": 10,
     "metadata": {},
     "output_type": "execute_result"
    }
   ],
   "source": [
    "ex1"
   ]
  },
  {
   "cell_type": "code",
   "execution_count": null,
   "id": "80e6dca2-5a89-4470-accb-37f53c9ab069",
   "metadata": {},
   "outputs": [],
   "source": []
  },
  {
   "cell_type": "code",
   "execution_count": 11,
   "id": "f7abf17b-8271-4a1a-b116-bc5d4899c437",
   "metadata": {},
   "outputs": [],
   "source": [
    "b1s = sp.Eq( B1, sp.solve( [ sp.Eq( ex1, ex2 ), sp.Eq( ex1, ex0 ) ], [ B1, B2 ] )[ B1 ] )"
   ]
  },
  {
   "cell_type": "code",
   "execution_count": 12,
   "id": "cb752ec7-245b-46e1-a74f-5f45a5a4d347",
   "metadata": {},
   "outputs": [
    {
     "data": {
      "text/latex": [
       "$\\displaystyle B_{1} = A e^{- k x} - B_{2} e^{- 2 k x}$"
      ],
      "text/plain": [
       "Eq(B1, A*exp(-k*x) - B2*exp(-2*k*x))"
      ]
     },
     "execution_count": 12,
     "metadata": {},
     "output_type": "execute_result"
    }
   ],
   "source": [
    "b1s"
   ]
  },
  {
   "cell_type": "code",
   "execution_count": 13,
   "id": "1f0ebd3b-0f8a-4583-9de1-0d736f11169f",
   "metadata": {},
   "outputs": [],
   "source": [
    "B = sp.Symbol( 'B' )\n",
    "b_sub = sp.Eq( ex0, ex0.subs( { B1 : B, B2 : 1 } ) )"
   ]
  },
  {
   "cell_type": "code",
   "execution_count": 14,
   "id": "fb892df9-ca8c-4958-9cde-ec6ad32e140b",
   "metadata": {},
   "outputs": [],
   "source": [
    "beq = sp.Eq( B, sp.solve( b_sub, B )[ 0 ] )"
   ]
  },
  {
   "cell_type": "code",
   "execution_count": 15,
   "id": "e6defc50-5090-4a04-b5ae-d2f506af02d6",
   "metadata": {},
   "outputs": [],
   "source": [
    "C = sp.Symbol( 'C' )"
   ]
  },
  {
   "cell_type": "code",
   "execution_count": 16,
   "id": "365a1daf-cf0a-4500-91cd-9a6be945cee4",
   "metadata": {},
   "outputs": [],
   "source": [
    "ceq = sp.Eq( C, sp.solve( sp.Eq( ex2, ex2.subs( { C1 : C, C2 : 1 } ) ), C )[ 0 ] )"
   ]
  },
  {
   "cell_type": "code",
   "execution_count": 17,
   "id": "2c6948ea-ea67-407d-9b8a-10f68706c7d6",
   "metadata": {},
   "outputs": [
    {
     "data": {
      "text/latex": [
       "$\\displaystyle C = \\left(C_{1} e^{2 L k} + C_{2} - 1\\right) e^{- 2 L k}$"
      ],
      "text/plain": [
       "Eq(C, (C1*exp(2*L*k) + C2 - 1)*exp(-2*L*k))"
      ]
     },
     "execution_count": 17,
     "metadata": {},
     "output_type": "execute_result"
    }
   ],
   "source": [
    "ceq"
   ]
  },
  {
   "cell_type": "code",
   "execution_count": 18,
   "id": "61d7232f-5032-45a0-b85c-b7f6027e1a1f",
   "metadata": {},
   "outputs": [],
   "source": [
    "times_2 = sp.Eq( 2 * ex0, ceq.rhs + ex1 )"
   ]
  },
  {
   "cell_type": "code",
   "execution_count": 19,
   "id": "0bae4de9-f13f-4357-ada5-2ec4b14f027f",
   "metadata": {},
   "outputs": [
    {
     "data": {
      "text/latex": [
       "$\\displaystyle 2 B_{1} e^{k x} + 2 B_{2} e^{- k x} = A + \\left(C_{1} e^{2 L k} + C_{2} - 1\\right) e^{- 2 L k}$"
      ],
      "text/plain": [
       "Eq(2*B1*exp(k*x) + 2*B2*exp(-k*x), A + (C1*exp(2*L*k) + C2 - 1)*exp(-2*L*k))"
      ]
     },
     "execution_count": 19,
     "metadata": {},
     "output_type": "execute_result"
    }
   ],
   "source": [
    "times_2"
   ]
  },
  {
   "cell_type": "code",
   "execution_count": null,
   "id": "837c3520-8924-4725-970c-7b1ac51efcb8",
   "metadata": {},
   "outputs": [],
   "source": []
  },
  {
   "cell_type": "code",
   "execution_count": 20,
   "id": "c7c96785-b4c0-464e-955d-2e920ca7d7b3",
   "metadata": {},
   "outputs": [],
   "source": [
    "norm = sp.integrate( times_2.lhs / 2 ** 2, ( x, 0, L ) )"
   ]
  },
  {
   "cell_type": "code",
   "execution_count": 21,
   "id": "09d4d48d-d7d4-4d88-9917-41230c42bfe9",
   "metadata": {},
   "outputs": [
    {
     "data": {
      "text/latex": [
       "$\\displaystyle \\begin{cases} - \\frac{2 B_{1} k - 2 B_{2} k}{4 k^{2}} + \\frac{2 B_{1} k e^{L k} - 2 B_{2} k e^{- L k}}{4 k^{2}} & \\text{for}\\: k > -\\infty \\wedge k < \\infty \\wedge k \\neq 0 \\\\L \\left(\\frac{B_{1}}{2} + \\frac{B_{2}}{2}\\right) & \\text{otherwise} \\end{cases}$"
      ],
      "text/plain": [
       "Piecewise((-(2*B1*k - 2*B2*k)/(4*k**2) + (2*B1*k*exp(L*k) - 2*B2*k*exp(-L*k))/(4*k**2), (k > -oo) & (k < oo) & Ne(k, 0)), (L*(B1/2 + B2/2), True))"
      ]
     },
     "execution_count": 21,
     "metadata": {},
     "output_type": "execute_result"
    }
   ],
   "source": [
    "norm"
   ]
  },
  {
   "cell_type": "code",
   "execution_count": 22,
   "id": "f7fcd1e9-cbcd-483f-aac1-f76db1c59b32",
   "metadata": {},
   "outputs": [
    {
     "data": {
      "text/plain": [
       "[]"
      ]
     },
     "execution_count": 22,
     "metadata": {},
     "output_type": "execute_result"
    }
   ],
   "source": [
    "sp.solve( [ sp.Eq( norm, 1 ), times_2 ], [ B1, B2 ] )"
   ]
  },
  {
   "cell_type": "code",
   "execution_count": 23,
   "id": "39bf22ab-6388-4bb2-b431-b6681def58b6",
   "metadata": {},
   "outputs": [
    {
     "data": {
      "text/latex": [
       "$\\displaystyle A = C_{1} e^{L k} + C_{2} e^{- L k}$"
      ],
      "text/plain": [
       "Eq(A, C1*exp(L*k) + C2*exp(-L*k))"
      ]
     },
     "execution_count": 23,
     "metadata": {},
     "output_type": "execute_result"
    }
   ],
   "source": [
    "sp.Eq( ex1, ex2 )"
   ]
  },
  {
   "cell_type": "code",
   "execution_count": 24,
   "id": "a6ef63a4-91e5-448c-8f3e-30a08d5b2c0f",
   "metadata": {},
   "outputs": [],
   "source": [
    "zero = sp.Eq( L * ( ( B1 / 2 ) + B2 / 2 ), A )"
   ]
  },
  {
   "cell_type": "code",
   "execution_count": 25,
   "id": "00443ac4-0f56-45aa-a5fe-2865b4f57167",
   "metadata": {},
   "outputs": [],
   "source": [
    "P = sp.Symbol( 'P' )\n",
    "\n",
    "norm = sp.Eq( norm.args[ 0 ].args[ 0 ], P )"
   ]
  },
  {
   "cell_type": "code",
   "execution_count": 26,
   "id": "dbb4f911-f13a-447e-8a72-f81fa8e17a03",
   "metadata": {},
   "outputs": [
    {
     "data": {
      "text/latex": [
       "$\\displaystyle - \\frac{2 B_{1} k - 2 B_{2} k}{4 k^{2}} + \\frac{2 B_{1} k e^{L k} - 2 B_{2} k e^{- L k}}{4 k^{2}} = P$"
      ],
      "text/plain": [
       "Eq(-(2*B1*k - 2*B2*k)/(4*k**2) + (2*B1*k*exp(L*k) - 2*B2*k*exp(-L*k))/(4*k**2), P)"
      ]
     },
     "execution_count": 26,
     "metadata": {},
     "output_type": "execute_result"
    }
   ],
   "source": [
    "norm"
   ]
  },
  {
   "cell_type": "code",
   "execution_count": 27,
   "id": "be815ab3-0319-4b81-9dc5-ae40d94a3244",
   "metadata": {},
   "outputs": [
    {
     "data": {
      "text/latex": [
       "$\\displaystyle 2 B_{1} e^{k x} + 2 B_{2} e^{- k x} = A + \\left(C_{1} e^{2 L k} + C_{2} - 1\\right) e^{- 2 L k}$"
      ],
      "text/plain": [
       "Eq(2*B1*exp(k*x) + 2*B2*exp(-k*x), A + (C1*exp(2*L*k) + C2 - 1)*exp(-2*L*k))"
      ]
     },
     "execution_count": 27,
     "metadata": {},
     "output_type": "execute_result"
    }
   ],
   "source": [
    "times_2"
   ]
  },
  {
   "cell_type": "code",
   "execution_count": 28,
   "id": "82733d89-bdad-4471-8d5e-d4d39f89b6cb",
   "metadata": {},
   "outputs": [],
   "source": [
    "eq02 = sp.Eq( ex0.subs( { x : L } ), ex2 )"
   ]
  },
  {
   "cell_type": "code",
   "execution_count": 29,
   "id": "6656e512-685c-48d7-ae94-209f67a3c187",
   "metadata": {},
   "outputs": [
    {
     "data": {
      "text/latex": [
       "$\\displaystyle B_{1} e^{L k} + B_{2} e^{- L k} = C_{1} e^{L k} + C_{2} e^{- L k}$"
      ],
      "text/plain": [
       "Eq(B1*exp(L*k) + B2*exp(-L*k), C1*exp(L*k) + C2*exp(-L*k))"
      ]
     },
     "execution_count": 29,
     "metadata": {},
     "output_type": "execute_result"
    }
   ],
   "source": [
    "eq02"
   ]
  },
  {
   "cell_type": "code",
   "execution_count": 30,
   "id": "f1f571f0-104f-4a4c-be2f-cccf2ff5a652",
   "metadata": {},
   "outputs": [],
   "source": [
    "eq01 = sp.Eq( ex0.subs( { x : 0 } ), ex1 )"
   ]
  },
  {
   "cell_type": "code",
   "execution_count": 31,
   "id": "e09df3fa-bfcc-4b0e-8152-efdeac20b6f6",
   "metadata": {},
   "outputs": [],
   "source": [
    "b2s = sp.Eq( B2, sp.solve( eq01, B2 )[ 0 ] )"
   ]
  },
  {
   "cell_type": "code",
   "execution_count": 32,
   "id": "95d9c948-ba57-40f2-8b98-b489ce4f82f5",
   "metadata": {},
   "outputs": [
    {
     "data": {
      "text/latex": [
       "$\\displaystyle B_{2} = A - B_{1}$"
      ],
      "text/plain": [
       "Eq(B2, A - B1)"
      ]
     },
     "execution_count": 32,
     "metadata": {},
     "output_type": "execute_result"
    }
   ],
   "source": [
    "b2s"
   ]
  },
  {
   "cell_type": "code",
   "execution_count": null,
   "id": "1d71173d-ca1b-4b0d-8e5b-40e6aad37cbe",
   "metadata": {},
   "outputs": [],
   "source": []
  },
  {
   "cell_type": "code",
   "execution_count": 33,
   "id": "5e682841-8c89-4815-9597-74172f6682a3",
   "metadata": {},
   "outputs": [],
   "source": [
    "eq02 = eq02.subs( { B2 : b2s.rhs } )"
   ]
  },
  {
   "cell_type": "code",
   "execution_count": 34,
   "id": "1b2cf7a9-91a0-4e9a-9cff-750fe8f6a42d",
   "metadata": {},
   "outputs": [
    {
     "data": {
      "text/latex": [
       "$\\displaystyle B_{1} e^{L k} + \\left(A - B_{1}\\right) e^{- L k} = C_{1} e^{L k} + C_{2} e^{- L k}$"
      ],
      "text/plain": [
       "Eq(B1*exp(L*k) + (A - B1)*exp(-L*k), C1*exp(L*k) + C2*exp(-L*k))"
      ]
     },
     "execution_count": 34,
     "metadata": {},
     "output_type": "execute_result"
    }
   ],
   "source": [
    "eq02"
   ]
  },
  {
   "cell_type": "code",
   "execution_count": null,
   "id": "e27daca5-e68e-450e-83c2-63e4c67cb1c1",
   "metadata": {},
   "outputs": [],
   "source": []
  },
  {
   "cell_type": "code",
   "execution_count": 35,
   "id": "4567f043-4209-46f8-b4e9-ec76a7337db4",
   "metadata": {},
   "outputs": [],
   "source": [
    "norm = norm.subs( { B2 : b2s.rhs } )"
   ]
  },
  {
   "cell_type": "code",
   "execution_count": 36,
   "id": "484e5533-c688-4b4c-9b1c-9cfc16ab0a56",
   "metadata": {},
   "outputs": [
    {
     "data": {
      "text/latex": [
       "$\\displaystyle - \\frac{2 B_{1} k - 2 k \\left(A - B_{1}\\right)}{4 k^{2}} + \\frac{2 B_{1} k e^{L k} - 2 k \\left(A - B_{1}\\right) e^{- L k}}{4 k^{2}} = P$"
      ],
      "text/plain": [
       "Eq(-(2*B1*k - 2*k*(A - B1))/(4*k**2) + (2*B1*k*exp(L*k) - 2*k*(A - B1)*exp(-L*k))/(4*k**2), P)"
      ]
     },
     "execution_count": 36,
     "metadata": {},
     "output_type": "execute_result"
    }
   ],
   "source": [
    "norm"
   ]
  },
  {
   "cell_type": "code",
   "execution_count": null,
   "id": "79507955-c027-4fe1-8cf4-acbff3343671",
   "metadata": {},
   "outputs": [],
   "source": []
  },
  {
   "cell_type": "code",
   "execution_count": 37,
   "id": "afe3094c-6ece-4370-b755-1995926576a8",
   "metadata": {},
   "outputs": [],
   "source": [
    "times_2 = times_2.subs( { B2 : b2s.rhs } )"
   ]
  },
  {
   "cell_type": "code",
   "execution_count": 38,
   "id": "b7e66caf-0748-4841-bf36-40fa00ea5031",
   "metadata": {},
   "outputs": [
    {
     "data": {
      "text/latex": [
       "$\\displaystyle 2 B_{1} e^{k x} + 2 \\left(A - B_{1}\\right) e^{- k x} = A + \\left(C_{1} e^{2 L k} + C_{2} - 1\\right) e^{- 2 L k}$"
      ],
      "text/plain": [
       "Eq(2*B1*exp(k*x) + 2*(A - B1)*exp(-k*x), A + (C1*exp(2*L*k) + C2 - 1)*exp(-2*L*k))"
      ]
     },
     "execution_count": 38,
     "metadata": {},
     "output_type": "execute_result"
    }
   ],
   "source": [
    "times_2"
   ]
  },
  {
   "cell_type": "code",
   "execution_count": null,
   "id": "2e5e9fd6-adad-4200-ada7-28538aa5d17e",
   "metadata": {},
   "outputs": [],
   "source": []
  },
  {
   "cell_type": "code",
   "execution_count": 39,
   "id": "80aadd2b-75c1-49fc-9c0c-f7e99af0bbb1",
   "metadata": {},
   "outputs": [],
   "source": [
    "bsols = sp.solve( [ eq02.subs( { B2 : b2s.rhs } ), norm.subs( { B2 : b2s.rhs } ), times_2.subs( { B2 : b2s.rhs } ) ], B1 )"
   ]
  },
  {
   "cell_type": "code",
   "execution_count": null,
   "id": "40bc0d91-ee09-4fb1-830a-83f16d1c4650",
   "metadata": {},
   "outputs": [],
   "source": []
  },
  {
   "cell_type": "code",
   "execution_count": 40,
   "id": "a21b5481-eacb-4c05-9e35-e78d9bd9a9d9",
   "metadata": {},
   "outputs": [],
   "source": [
    "eq02 = sp.Eq( eq02.expand().lhs.collect( B1 ), eq02.rhs )"
   ]
  },
  {
   "cell_type": "code",
   "execution_count": 41,
   "id": "9b31facd-58d5-425d-9b43-0c84f2a703d2",
   "metadata": {},
   "outputs": [
    {
     "data": {
      "text/latex": [
       "$\\displaystyle A e^{- L k} + B_{1} \\left(e^{L k} - e^{- L k}\\right) = C_{1} e^{L k} + C_{2} e^{- L k}$"
      ],
      "text/plain": [
       "Eq(A*exp(-L*k) + B1*(exp(L*k) - exp(-L*k)), C1*exp(L*k) + C2*exp(-L*k))"
      ]
     },
     "execution_count": 41,
     "metadata": {},
     "output_type": "execute_result"
    }
   ],
   "source": [
    "eq02"
   ]
  },
  {
   "cell_type": "code",
   "execution_count": 42,
   "id": "70c5f129-24fb-4141-9224-50da3da93d90",
   "metadata": {},
   "outputs": [],
   "source": [
    "eq02 = sp.Eq( eq02.lhs.args[ 1 ], eq02.rhs - eq02.lhs.args[ 0 ] )"
   ]
  },
  {
   "cell_type": "code",
   "execution_count": 43,
   "id": "5fdb4568-586f-489a-9342-53094d1acf9d",
   "metadata": {},
   "outputs": [
    {
     "data": {
      "text/latex": [
       "$\\displaystyle B_{1} \\left(e^{L k} - e^{- L k}\\right) = - A e^{- L k} + C_{1} e^{L k} + C_{2} e^{- L k}$"
      ],
      "text/plain": [
       "Eq(B1*(exp(L*k) - exp(-L*k)), -A*exp(-L*k) + C1*exp(L*k) + C2*exp(-L*k))"
      ]
     },
     "execution_count": 43,
     "metadata": {},
     "output_type": "execute_result"
    }
   ],
   "source": [
    "eq02"
   ]
  },
  {
   "cell_type": "code",
   "execution_count": 44,
   "id": "69239b2a-2f30-41a4-a973-bf171b5f1510",
   "metadata": {},
   "outputs": [],
   "source": [
    "eq02 = sp.Eq( eq02.lhs.args[ 0 ], eq02.rhs / eq02.lhs.args[ 1 ] )"
   ]
  },
  {
   "cell_type": "code",
   "execution_count": 45,
   "id": "e16a047d-8ed2-4909-af37-d559791067fc",
   "metadata": {},
   "outputs": [
    {
     "data": {
      "text/latex": [
       "$\\displaystyle B_{1} = \\frac{- A e^{- L k} + C_{1} e^{L k} + C_{2} e^{- L k}}{e^{L k} - e^{- L k}}$"
      ],
      "text/plain": [
       "Eq(B1, (-A*exp(-L*k) + C1*exp(L*k) + C2*exp(-L*k))/(exp(L*k) - exp(-L*k)))"
      ]
     },
     "execution_count": 45,
     "metadata": {},
     "output_type": "execute_result"
    }
   ],
   "source": [
    "eq02"
   ]
  },
  {
   "cell_type": "code",
   "execution_count": 47,
   "id": "10dddff6-228f-4e32-9a77-f8d53538b246",
   "metadata": {},
   "outputs": [],
   "source": [
    "#^^^ THIS COULD BE USED FOR A TRANSFER MATRIX LIKE METHOD"
   ]
  },
  {
   "cell_type": "code",
   "execution_count": 46,
   "id": "50022fae-dab6-4017-beba-2b292f4280b8",
   "metadata": {},
   "outputs": [],
   "source": [
    "# COULD ALSO DO ANALYIICAL SOLUTIONS BY SUBBING!!"
   ]
  },
  {
   "cell_type": "code",
   "execution_count": null,
   "id": "74fc86a2-e3eb-4127-ab28-893d96b3b07d",
   "metadata": {},
   "outputs": [],
   "source": []
  },
  {
   "cell_type": "code",
   "execution_count": null,
   "id": "4fd42759-27b6-4876-8661-0d068c491eb7",
   "metadata": {},
   "outputs": [],
   "source": []
  }
 ],
 "metadata": {
  "kernelspec": {
   "display_name": "Python 3 (ipykernel)",
   "language": "python",
   "name": "python3"
  },
  "language_info": {
   "codemirror_mode": {
    "name": "ipython",
    "version": 3
   },
   "file_extension": ".py",
   "mimetype": "text/x-python",
   "name": "python",
   "nbconvert_exporter": "python",
   "pygments_lexer": "ipython3",
   "version": "3.9.10"
  }
 },
 "nbformat": 4,
 "nbformat_minor": 5
}
