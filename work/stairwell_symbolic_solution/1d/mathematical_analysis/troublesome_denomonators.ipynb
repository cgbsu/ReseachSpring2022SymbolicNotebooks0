{
 "cells": [
  {
   "cell_type": "code",
   "execution_count": 1,
   "id": "19dd7cdd-b893-40cc-ba05-bb3125a65533",
   "metadata": {},
   "outputs": [],
   "source": [
    "import sympy as sp"
   ]
  },
  {
   "cell_type": "code",
   "execution_count": 2,
   "id": "9de9d642-bc08-4787-8711-3714bba954db",
   "metadata": {},
   "outputs": [],
   "source": [
    "from sympy.abc import * "
   ]
  },
  {
   "cell_type": "code",
   "execution_count": 3,
   "id": "1ede2a8d-a7c4-42f5-912e-0e3e8e3befac",
   "metadata": {},
   "outputs": [],
   "source": [
    "import numpy as np"
   ]
  },
  {
   "cell_type": "code",
   "execution_count": 4,
   "id": "4bd3ca36-931c-449d-b132-236b8df6fe4b",
   "metadata": {},
   "outputs": [],
   "source": [
    "import matplotlib.pyplot as plt"
   ]
  },
  {
   "cell_type": "code",
   "execution_count": null,
   "id": "6824d945-de6a-4005-97ad-255d659fb549",
   "metadata": {},
   "outputs": [],
   "source": []
  },
  {
   "cell_type": "code",
   "execution_count": 5,
   "id": "c0a1c3b5-2220-4253-ae30-e4a717158f8b",
   "metadata": {},
   "outputs": [],
   "source": [
    "from custom_libraries.stepper import *"
   ]
  },
  {
   "cell_type": "code",
   "execution_count": null,
   "id": "6c283caa-1671-465a-a24f-c313ea30b3da",
   "metadata": {},
   "outputs": [],
   "source": []
  },
  {
   "cell_type": "code",
   "execution_count": 6,
   "id": "56793e7c-2498-4996-a32f-6161cd4640dd",
   "metadata": {},
   "outputs": [],
   "source": [
    "generate_expression = lambda constant : sp.Eq( constant * x * sp.exp( 2 * x ) - sp.exp( 4 * x ) + 1, 0 )"
   ]
  },
  {
   "cell_type": "code",
   "execution_count": 7,
   "id": "bd33cd6d-5fd6-461d-9bd2-5e025a6dd32f",
   "metadata": {},
   "outputs": [],
   "source": [
    "equation = Stepper( generate_expression( 4 ) )"
   ]
  },
  {
   "cell_type": "code",
   "execution_count": 8,
   "id": "749a651f-3d28-47a6-a789-ad91ff0b4d79",
   "metadata": {},
   "outputs": [
    {
     "data": {
      "text/latex": [
       "$\\displaystyle 4 x e^{2 x} - e^{4 x} + 1 = 0$"
      ],
      "text/plain": [
       "Eq(4*x*exp(2*x) - exp(4*x) + 1, 0)"
      ]
     },
     "execution_count": 8,
     "metadata": {},
     "output_type": "execute_result"
    }
   ],
   "source": [
    "equation.last_step()"
   ]
  },
  {
   "cell_type": "code",
   "execution_count": 9,
   "id": "96bedc68-8caf-4e74-9cf8-8689c8388ac0",
   "metadata": {},
   "outputs": [],
   "source": [
    "get_term = lambda expression, term_index : expression.as_terms()[ 0 ][ term_index ][ 0 ]"
   ]
  },
  {
   "cell_type": "code",
   "execution_count": null,
   "id": "62379817-47d5-4c0c-b8ba-589d9aa2cd3a",
   "metadata": {},
   "outputs": [],
   "source": []
  },
  {
   "cell_type": "code",
   "execution_count": 10,
   "id": "35d1a488-b754-459d-9442-0ce67b3423ce",
   "metadata": {},
   "outputs": [],
   "source": [
    "#c4 -= get_term( c4.last_step().lhs, 1 )"
   ]
  },
  {
   "cell_type": "code",
   "execution_count": null,
   "id": "281c1c69-9391-434e-a713-7fba46c25e2b",
   "metadata": {},
   "outputs": [],
   "source": []
  },
  {
   "cell_type": "code",
   "execution_count": 11,
   "id": "d93ff8cd-0173-433b-9512-30ec19349130",
   "metadata": {},
   "outputs": [
    {
     "data": {
      "text/latex": [
       "$\\displaystyle 4 x e^{2 x} - e^{4 x} + 1 = 0$"
      ],
      "text/plain": [
       "Eq(4*x*exp(2*x) - exp(4*x) + 1, 0)"
      ]
     },
     "execution_count": 11,
     "metadata": {},
     "output_type": "execute_result"
    }
   ],
   "source": [
    "equation.last_step()"
   ]
  },
  {
   "cell_type": "code",
   "execution_count": 12,
   "id": "5cfab4bf-6afb-4be0-9490-e9d190577a02",
   "metadata": {},
   "outputs": [
    {
     "data": {
      "text/latex": [
       "$\\displaystyle 4 x e^{2 x} - e^{4 x} + 1 = 0$"
      ],
      "text/plain": [
       "Eq(4*x*exp(2*x) - exp(4*x) + 1, 0)"
      ]
     },
     "execution_count": 12,
     "metadata": {},
     "output_type": "execute_result"
    }
   ],
   "source": [
    "equation.last_step()"
   ]
  },
  {
   "cell_type": "code",
   "execution_count": 13,
   "id": "1bff0abb-3ebe-44a7-81e5-774a4dafdf6f",
   "metadata": {},
   "outputs": [],
   "source": [
    "numerical = sp.lambdify( x, equation.last_step().lhs, \"numpy\" )"
   ]
  },
  {
   "cell_type": "code",
   "execution_count": 14,
   "id": "c9ee018f-75dd-49cf-a130-19753652e0cc",
   "metadata": {},
   "outputs": [],
   "source": [
    "x_domain = np.arange( -1, 1, 1e-4 )"
   ]
  },
  {
   "cell_type": "code",
   "execution_count": 15,
   "id": "fbc6b9cd-97be-4ad2-9528-c01ccd715f8d",
   "metadata": {},
   "outputs": [],
   "source": [
    "data = numerical( x_domain )"
   ]
  },
  {
   "cell_type": "code",
   "execution_count": 16,
   "id": "b232bdb5-718d-4f28-a19c-9208eaf3a524",
   "metadata": {},
   "outputs": [
    {
     "data": {
      "text/plain": [
       "[<matplotlib.lines.Line2D at 0x7f0cddbf8f70>]"
      ]
     },
     "execution_count": 16,
     "metadata": {},
     "output_type": "execute_result"
    },
    {
     "data": {
      "image/png": "[encoded data removed]",
      "text/plain": [
       "<Figure size 432x288 with 1 Axes>"
      ]
     },
     "metadata": {
      "needs_background": "light"
     },
     "output_type": "display_data"
    }
   ],
   "source": [
    "plt.plot( x_domain, data )"
   ]
  },
  {
   "cell_type": "code",
   "execution_count": 37,
   "id": "68d1e4bb-e8e8-49f7-a599-9c2523b7812d",
   "metadata": {},
   "outputs": [],
   "source": [
    "data_squared = numerical( x_domain ) ** 2"
   ]
  },
  {
   "cell_type": "code",
   "execution_count": 38,
   "id": "05eddd86-6dc0-44fb-baa5-1dafbd0d6f19",
   "metadata": {},
   "outputs": [
    {
     "data": {
      "text/plain": [
       "[<matplotlib.lines.Line2D at 0x7f0cd4b1e280>]"
      ]
     },
     "execution_count": 38,
     "metadata": {},
     "output_type": "execute_result"
    },
    {
     "data": {
      "image/png": "[encoded data removed]",
      "text/plain": [
       "<Figure size 432x288 with 1 Axes>"
      ]
     },
     "metadata": {
      "needs_background": "light"
     },
     "output_type": "display_data"
    }
   ],
   "source": [
    "plt.plot( x_domain, data_squared )"
   ]
  },
  {
   "cell_type": "code",
   "execution_count": null,
   "id": "9f47a058-6705-4e11-b017-ec023be78fbd",
   "metadata": {},
   "outputs": [],
   "source": []
  },
  {
   "cell_type": "code",
   "execution_count": 18,
   "id": "470a16cb-6edc-40f7-b219-3cd41189b4a8",
   "metadata": {},
   "outputs": [],
   "source": [
    "other_equation = Stepper( sp.Eq( sp.exp( 2 * x ) - 2.0 * sp.exp( 4 * x ) + 1, 0 ) )"
   ]
  },
  {
   "cell_type": "code",
   "execution_count": 19,
   "id": "1c3d1f1c-9282-4677-a1ba-d9f30d2a88ed",
   "metadata": {},
   "outputs": [
    {
     "data": {
      "text/latex": [
       "$\\displaystyle - 2.0 e^{4 x} + e^{2 x} + 1 = 0$"
      ],
      "text/plain": [
       "Eq(-2.0*exp(4*x) + exp(2*x) + 1, 0)"
      ]
     },
     "execution_count": 19,
     "metadata": {},
     "output_type": "execute_result"
    }
   ],
   "source": [
    "other_equation.last_step()"
   ]
  },
  {
   "cell_type": "code",
   "execution_count": null,
   "id": "968d5cef-aad4-466a-b86e-4c23bfe664e5",
   "metadata": {},
   "outputs": [],
   "source": []
  },
  {
   "cell_type": "code",
   "execution_count": 20,
   "id": "b52bbba6-6c53-4925-973d-a07d3f5abb53",
   "metadata": {},
   "outputs": [],
   "source": [
    "other_numerical = sp.lambdify( x, other_equation.last_step().lhs, \"numpy\" )"
   ]
  },
  {
   "cell_type": "code",
   "execution_count": null,
   "id": "8bdc0a8d-8954-49bc-8df6-ad54ebefc4af",
   "metadata": {},
   "outputs": [],
   "source": []
  },
  {
   "cell_type": "code",
   "execution_count": 30,
   "id": "e1b2731b-11ae-4168-a442-fafe72829053",
   "metadata": {},
   "outputs": [],
   "source": [
    "x_domain = np.arange( -1, 1, 1e-4 )"
   ]
  },
  {
   "cell_type": "code",
   "execution_count": 31,
   "id": "238b7e8c-23c4-49d3-8819-fb3a9fc1b805",
   "metadata": {},
   "outputs": [],
   "source": [
    "other_data = other_numerical( x_domain )"
   ]
  },
  {
   "cell_type": "code",
   "execution_count": 32,
   "id": "05e2025f-c31a-4c92-87ff-ce2c92b30254",
   "metadata": {},
   "outputs": [
    {
     "data": {
      "text/plain": [
       "[<matplotlib.lines.Line2D at 0x7f0cd4dc2580>]"
      ]
     },
     "execution_count": 32,
     "metadata": {},
     "output_type": "execute_result"
    },
    {
     "data": {
      "image/png": "[encoded data removed]",
      "text/plain": [
       "<Figure size 432x288 with 1 Axes>"
      ]
     },
     "metadata": {
      "needs_background": "light"
     },
     "output_type": "display_data"
    }
   ],
   "source": [
    "plt.plot( x_domain, other_data )"
   ]
  },
  {
   "cell_type": "code",
   "execution_count": null,
   "id": "4296dffe-9387-4528-a79d-1f823aa48352",
   "metadata": {},
   "outputs": [],
   "source": []
  },
  {
   "cell_type": "code",
   "execution_count": null,
   "id": "2d9a4acd-1b4b-4165-959b-d886eff5de1f",
   "metadata": {},
   "outputs": [],
   "source": []
  },
  {
   "cell_type": "code",
   "execution_count": 34,
   "id": "86fc6d43-e2ce-4ef5-8b66-6e85aa69acda",
   "metadata": {},
   "outputs": [
    {
     "data": {
      "text/plain": [
       "0.0"
      ]
     },
     "execution_count": 34,
     "metadata": {},
     "output_type": "execute_result"
    }
   ],
   "source": [
    "other_numerical( 0 )"
   ]
  },
  {
   "cell_type": "code",
   "execution_count": 35,
   "id": "de13cad8-47b1-4a88-8117-6fa8ee03a443",
   "metadata": {},
   "outputs": [],
   "source": [
    "other_data_squared = other_numerical( x_domain ) ** 2"
   ]
  },
  {
   "cell_type": "code",
   "execution_count": 36,
   "id": "e268dfa0-4e0a-49df-8248-8fe4fd085f77",
   "metadata": {},
   "outputs": [
    {
     "data": {
      "text/plain": [
       "[<matplotlib.lines.Line2D at 0x7f0cd4d5d220>]"
      ]
     },
     "execution_count": 36,
     "metadata": {},
     "output_type": "execute_result"
    },
    {
     "data": {
      "image/png": "[encoded data removed]",
      "text/plain": [
       "<Figure size 432x288 with 1 Axes>"
      ]
     },
     "metadata": {
      "needs_background": "light"
     },
     "output_type": "display_data"
    }
   ],
   "source": [
    "plt.plot( x_domain, other_data_squared )"
   ]
  },
  {
   "cell_type": "code",
   "execution_count": 39,
   "id": "f54138e1-5e04-468d-a652-e6dbaf1808ab",
   "metadata": {},
   "outputs": [
    {
     "data": {
      "image/png": "[encoded data removed]",
      "text/plain": [
       "<Figure size 432x288 with 1 Axes>"
      ]
     },
     "metadata": {
      "needs_background": "light"
     },
     "output_type": "display_data"
    },
    {
     "data": {
      "text/plain": [
       "<sympy.plotting.plot.Plot at 0x7f0cd4b438b0>"
      ]
     },
     "execution_count": 39,
     "metadata": {},
     "output_type": "execute_result"
    }
   ],
   "source": [
    "sp.plot( sp.ln( x ) + sp.ln( 2 ) )"
   ]
  },
  {
   "cell_type": "code",
   "execution_count": 40,
   "id": "5d2cd033-e317-43c7-a960-d40a9a8d247d",
   "metadata": {},
   "outputs": [
    {
     "data": {
      "image/png": "[encoded data removed]",
      "text/plain": [
       "<Figure size 432x288 with 1 Axes>"
      ]
     },
     "metadata": {
      "needs_background": "light"
     },
     "output_type": "display_data"
    },
    {
     "data": {
      "text/plain": [
       "<sympy.plotting.plot.Plot at 0x7f0cd4b43430>"
      ]
     },
     "execution_count": 40,
     "metadata": {},
     "output_type": "execute_result"
    }
   ],
   "source": [
    "sp.plot( x + sp.ln( x ) + sp.ln( 2 ) )"
   ]
  },
  {
   "cell_type": "code",
   "execution_count": 41,
   "id": "764b30ca-ff03-4f96-804e-9395e22d9b3b",
   "metadata": {},
   "outputs": [
    {
     "data": {
      "image/png": "[encoded data removed]",
      "text/plain": [
       "<Figure size 432x288 with 1 Axes>"
      ]
     },
     "metadata": {
      "needs_background": "light"
     },
     "output_type": "display_data"
    },
    {
     "data": {
      "text/plain": [
       "<sympy.plotting.plot.Plot at 0x7f0cd4ab6610>"
      ]
     },
     "execution_count": 41,
     "metadata": {},
     "output_type": "execute_result"
    }
   ],
   "source": [
    "sp.plot( x + sp.ln( x ) + sp.ln( 4 ) )"
   ]
  },
  {
   "cell_type": "code",
   "execution_count": 42,
   "id": "0d192e26-06f7-45a9-bab3-a941522006e7",
   "metadata": {},
   "outputs": [
    {
     "data": {
      "image/png": "[encoded data removed]",
      "text/plain": [
       "<Figure size 432x288 with 1 Axes>"
      ]
     },
     "metadata": {
      "needs_background": "light"
     },
     "output_type": "display_data"
    },
    {
     "data": {
      "text/plain": [
       "<sympy.plotting.plot.Plot at 0x7f0cd4a2d6d0>"
      ]
     },
     "execution_count": 42,
     "metadata": {},
     "output_type": "execute_result"
    }
   ],
   "source": [
    "sp.plot( sp.ln( x ) + sp.ln( 4 ) )"
   ]
  },
  {
   "cell_type": "code",
   "execution_count": null,
   "id": "90679104-1613-44ca-ad33-4ea491dd75d6",
   "metadata": {},
   "outputs": [],
   "source": [
    "\n",
    "\n",
    "\n"
   ]
  },
  {
   "cell_type": "code",
   "execution_count": null,
   "id": "cc14b38e-80a0-4e43-86bf-21cd5c33eebd",
   "metadata": {},
   "outputs": [],
   "source": []
  },
  {
   "cell_type": "code",
   "execution_count": null,
   "id": "b9b49365-de05-4c43-89fe-2c4fbadb4e86",
   "metadata": {},
   "outputs": [],
   "source": []
  },
  {
   "cell_type": "code",
   "execution_count": null,
   "id": "f309de07-56f5-46e8-be60-117524b61a11",
   "metadata": {},
   "outputs": [],
   "source": []
  },
  {
   "cell_type": "code",
   "execution_count": null,
   "id": "4740c4b1-8984-4d09-b17e-e40daa5b980e",
   "metadata": {},
   "outputs": [],
   "source": []
  },
  {
   "cell_type": "code",
   "execution_count": null,
   "id": "d3d7fd3c-e5b5-4038-80de-b039e63352d2",
   "metadata": {},
   "outputs": [],
   "source": []
  },
  {
   "cell_type": "code",
   "execution_count": null,
   "id": "e254c921-7874-4877-8b86-684c6428a0d8",
   "metadata": {},
   "outputs": [],
   "source": []
  }
 ],
 "metadata": {
  "kernelspec": {
   "display_name": "Python 3 (ipykernel)",
   "language": "python",
   "name": "python3"
  },
  "language_info": {
   "codemirror_mode": {
    "name": "ipython",
    "version": 3
   },
   "file_extension": ".py",
   "mimetype": "text/x-python",
   "name": "python",
   "nbconvert_exporter": "python",
   "pygments_lexer": "ipython3",
   "version": "3.10.4"
  }
 },
 "nbformat": 4,
 "nbformat_minor": 5
}
