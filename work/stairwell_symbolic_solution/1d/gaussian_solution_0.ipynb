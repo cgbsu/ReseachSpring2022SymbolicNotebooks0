{
 "cells": [
  {
   "cell_type": "code",
   "execution_count": 1,
   "id": "2938f258-5292-4382-ab7a-93308456cb3c",
   "metadata": {},
   "outputs": [],
   "source": [
    "from dataclasses import dataclass"
   ]
  },
  {
   "cell_type": "code",
   "execution_count": 2,
   "id": "f945bddf-cdf5-4491-accb-147a8c79d1ad",
   "metadata": {},
   "outputs": [],
   "source": [
    "import sympy as sp"
   ]
  },
  {
   "cell_type": "code",
   "execution_count": 3,
   "id": "a5dcd6d6-b0c4-4d3d-904a-2bd7dd052ebd",
   "metadata": {},
   "outputs": [],
   "source": [
    "from sympy import solveset, nonlinsolve, linsolve"
   ]
  },
  {
   "cell_type": "code",
   "execution_count": 4,
   "id": "6601cbc5-334c-47cd-af4d-ca1e996fccde",
   "metadata": {},
   "outputs": [],
   "source": [
    "import new_attempt.stateless as q"
   ]
  },
  {
   "cell_type": "code",
   "execution_count": 5,
   "id": "f7895958-7c43-4407-9d23-e28a7227b7c0",
   "metadata": {},
   "outputs": [],
   "source": [
    "import custom_libraries.utilities as u"
   ]
  },
  {
   "cell_type": "code",
   "execution_count": null,
   "id": "f90afd96-2710-434f-a0f3-7069f7d4a963",
   "metadata": {},
   "outputs": [],
   "source": []
  },
  {
   "cell_type": "code",
   "execution_count": 6,
   "id": "b7983ad4-33cc-4d43-90e8-f3d33607b67c",
   "metadata": {},
   "outputs": [],
   "source": [
    "regionCount = 3"
   ]
  },
  {
   "cell_type": "code",
   "execution_count": 7,
   "id": "49cb6e97-e4de-4dd0-870f-f8bd7203061e",
   "metadata": {},
   "outputs": [],
   "source": [
    "regions = q.createPreliminaryData(regionCount)"
   ]
  },
  {
   "cell_type": "code",
   "execution_count": 8,
   "id": "e18e6cc3-1a79-436b-8c5f-dd67a9b80358",
   "metadata": {},
   "outputs": [
    {
     "data": {
      "text/plain": [
       "{'transmissionReflectionGenerator': <function new_attempt.stateless.makeCoefficentsFromHarmonicConstants(from_: new_attempt.stateless.RegionSymbols, to: new_attempt.stateless.RegionSymbols) -> dict>,\n",
       " 'regionSymbols': [<new_attempt.stateless.RegionSymbols at 0x7fe3f204e080>,\n",
       "  <new_attempt.stateless.RegionSymbols at 0x7fe3f204f1c0>,\n",
       "  <new_attempt.stateless.RegionSymbols at 0x7fe3f204f610>,\n",
       "  <new_attempt.stateless.RegionSymbols at 0x7fe3f204fb80>,\n",
       "  <new_attempt.stateless.RegionSymbols at 0x7fe3f204ff10>],\n",
       " 'waveEquations': [Eq(V_0*psi_0(x) - hbarX**2*Derivative(psi_0(x), (x, 2))/(2*m), E_{total}*psi_0(x)),\n",
       "  Eq(V_1*psi_1(x) - hbarX**2*Derivative(psi_1(x), (x, 2))/(2*m), E_{total}*psi_1(x)),\n",
       "  Eq(V_2*psi_2(x) - hbarX**2*Derivative(psi_2(x), (x, 2))/(2*m), E_{total}*psi_2(x))],\n",
       " 'normalizations': [Eq(Integral(psi_0(x)*conjugate(psi_0(x)), (x, L_-1, L_0)), N_0),\n",
       "  Eq(Integral(psi_1(x)*conjugate(psi_1(x)), (x, L_0, L_1)), N_1),\n",
       "  Eq(Integral(psi_2(x)*conjugate(psi_2(x)), (x, L_1, L_2)), N_2)],\n",
       " 'generalSolutions': [{'boundries': {psi_0(L_-1): B_0, psi_0(L_0): B_1},\n",
       "   'harmonicConstantEquation': Eq(k_0, sqrt(2)*sqrt(m)*sqrt(-E_{total} + V_0)/hbarX),\n",
       "   'generalSolution': Eq(psi_0(x), (B_0*exp(L_-1*k_0)/(exp(2*L_-1*k_0) - exp(2*L_0*k_0)) - B_1*exp(L_0*k_0)/(exp(2*L_-1*k_0) - exp(2*L_0*k_0)))*exp(k_0*x) + (-B_0*exp(L_-1*k_0)*exp(2*L_0*k_0)/(exp(2*L_-1*k_0) - exp(2*L_0*k_0)) + B_1*exp(2*L_-1*k_0)*exp(L_0*k_0)/(exp(2*L_-1*k_0) - exp(2*L_0*k_0)))*exp(-k_0*x))},\n",
       "  {'boundries': {psi_1(L_0): B_1, psi_1(L_1): B_2},\n",
       "   'harmonicConstantEquation': Eq(k_1, sqrt(2)*sqrt(m)*sqrt(-E_{total} + V_1)/hbarX),\n",
       "   'generalSolution': Eq(psi_1(x), (B_1*exp(L_0*k_1)/(exp(2*L_0*k_1) - exp(2*L_1*k_1)) - B_2*exp(L_1*k_1)/(exp(2*L_0*k_1) - exp(2*L_1*k_1)))*exp(k_1*x) + (-B_1*exp(L_0*k_1)*exp(2*L_1*k_1)/(exp(2*L_0*k_1) - exp(2*L_1*k_1)) + B_2*exp(2*L_0*k_1)*exp(L_1*k_1)/(exp(2*L_0*k_1) - exp(2*L_1*k_1)))*exp(-k_1*x))},\n",
       "  {'boundries': {psi_2(L_1): B_2, psi_2(L_2): B_3},\n",
       "   'harmonicConstantEquation': Eq(k_2, sqrt(2)*sqrt(m)*sqrt(-E_{total} + V_2)/hbarX),\n",
       "   'generalSolution': Eq(psi_2(x), (B_2*exp(L_1*k_2)/(exp(2*L_1*k_2) - exp(2*L_2*k_2)) - B_3*exp(L_2*k_2)/(exp(2*L_1*k_2) - exp(2*L_2*k_2)))*exp(k_2*x) + (-B_2*exp(L_1*k_2)*exp(2*L_2*k_2)/(exp(2*L_1*k_2) - exp(2*L_2*k_2)) + B_3*exp(2*L_1*k_2)*exp(L_2*k_2)/(exp(2*L_1*k_2) - exp(2*L_2*k_2)))*exp(-k_2*x))}]}"
      ]
     },
     "execution_count": 8,
     "metadata": {},
     "output_type": "execute_result"
    }
   ],
   "source": [
    "regions"
   ]
  },
  {
   "cell_type": "code",
   "execution_count": null,
   "id": "5c3c87d9-a283-48a2-94bd-d3306ba3f4c5",
   "metadata": {},
   "outputs": [],
   "source": []
  },
  {
   "cell_type": "code",
   "execution_count": 9,
   "id": "c4a92678-c9ed-4517-9620-e44cdf2d2efb",
   "metadata": {},
   "outputs": [],
   "source": [
    "generalSolutions = regions[\"generalSolutions\"]"
   ]
  },
  {
   "cell_type": "code",
   "execution_count": 10,
   "id": "acf84261-344d-4bb6-b9df-2eff3354e97e",
   "metadata": {},
   "outputs": [],
   "source": [
    "harmonicConstants = q.getHarmonicConstants(regions[\"regionSymbols\"])"
   ]
  },
  {
   "cell_type": "code",
   "execution_count": 11,
   "id": "ca12e900-85ec-424c-9e55-b3f3651100e2",
   "metadata": {},
   "outputs": [
    {
     "data": {
      "text/plain": [
       "[k_-1, k_0, k_1, k_2, k_3]"
      ]
     },
     "execution_count": 11,
     "metadata": {},
     "output_type": "execute_result"
    }
   ],
   "source": [
    "harmonicConstants"
   ]
  },
  {
   "cell_type": "code",
   "execution_count": 12,
   "id": "5fe166e1-aa71-4e2a-885a-0f0208ae840a",
   "metadata": {},
   "outputs": [],
   "source": [
    "exponentials = [q.solveUnconstrainedParticularSolution(regions[\"regionSymbols\"][ii], generalSolutions[ii - 1])[\"exponential\"] \\\n",
    "                for ii in range(1, len(regions[\"regionSymbols\"]) - 1)]"
   ]
  },
  {
   "cell_type": "code",
   "execution_count": 13,
   "id": "ce562ad8-1dea-45c7-8142-8812982f58dc",
   "metadata": {},
   "outputs": [
    {
     "data": {
      "text/latex": [
       "$\\displaystyle \\psi_{0}{\\left(x \\right)} = C_{{0}_r} e^{- k_{0} x} + C_{{0}_t} e^{k_{0} x}$"
      ],
      "text/plain": [
       "Eq(psi_0(x), C_{{0}_r}*exp(-k_0*x) + C_{{0}_t}*exp(k_0*x))"
      ]
     },
     "execution_count": 13,
     "metadata": {},
     "output_type": "execute_result"
    }
   ],
   "source": [
    "exponentials[0]"
   ]
  },
  {
   "cell_type": "code",
   "execution_count": 14,
   "id": "c29946f3-6d36-42f5-944b-ed4325713f0f",
   "metadata": {},
   "outputs": [
    {
     "data": {
      "text/latex": [
       "$\\displaystyle \\psi_{1}{\\left(x \\right)} = C_{{1}_r} e^{- k_{1} x} + C_{{1}_t} e^{k_{1} x}$"
      ],
      "text/plain": [
       "Eq(psi_1(x), C_{{1}_r}*exp(-k_1*x) + C_{{1}_t}*exp(k_1*x))"
      ]
     },
     "execution_count": 14,
     "metadata": {},
     "output_type": "execute_result"
    }
   ],
   "source": [
    "exponentials[1]"
   ]
  },
  {
   "cell_type": "code",
   "execution_count": 15,
   "id": "ca981940-e84f-45cc-ab49-bb425040ca18",
   "metadata": {},
   "outputs": [],
   "source": [
    "boundrySymbols = q.makeBoundrySymbolsFromPreliminaryData(regions)"
   ]
  },
  {
   "cell_type": "code",
   "execution_count": 16,
   "id": "25fe4f1b-c709-40a3-840f-26ae99944043",
   "metadata": {},
   "outputs": [
    {
     "data": {
      "text/plain": [
       "(BoundrySymbols(boundry=B_0, harmonicConstant=k_-1, length=L_-1),\n",
       " BoundrySymbols(boundry=B_1, harmonicConstant=k_0, length=L_0),\n",
       " BoundrySymbols(boundry=B_2, harmonicConstant=k_1, length=L_1),\n",
       " BoundrySymbols(boundry=B_3, harmonicConstant=k_2, length=L_2))"
      ]
     },
     "execution_count": 16,
     "metadata": {},
     "output_type": "execute_result"
    }
   ],
   "source": [
    "boundrySymbols"
   ]
  },
  {
   "cell_type": "code",
   "execution_count": 17,
   "id": "c1262cd8-b703-4302-9949-1880405a59db",
   "metadata": {},
   "outputs": [],
   "source": [
    "e0b0 = sp.Eq(boundrySymbols[1].boundry, exponentials[0].subs({q.POSITION_SYMBOL : boundrySymbols[1].length}).rhs)"
   ]
  },
  {
   "cell_type": "code",
   "execution_count": 18,
   "id": "4f6246ac-b9e7-4a74-ba7e-789336e3c17c",
   "metadata": {},
   "outputs": [
    {
     "data": {
      "text/latex": [
       "$\\displaystyle B_{1} = C_{{0}_r} e^{- L_{0} k_{0}} + C_{{0}_t} e^{L_{0} k_{0}}$"
      ],
      "text/plain": [
       "Eq(B_1, C_{{0}_r}*exp(-L_0*k_0) + C_{{0}_t}*exp(L_0*k_0))"
      ]
     },
     "execution_count": 18,
     "metadata": {},
     "output_type": "execute_result"
    }
   ],
   "source": [
    "e0b0"
   ]
  },
  {
   "cell_type": "code",
   "execution_count": 19,
   "id": "cade81d9-88ba-450d-a601-b0908276b968",
   "metadata": {},
   "outputs": [],
   "source": [
    "e1b0 = sp.Eq(boundrySymbols[1].boundry, exponentials[1].subs({q.POSITION_SYMBOL : boundrySymbols[1].length}).rhs)"
   ]
  },
  {
   "cell_type": "code",
   "execution_count": 20,
   "id": "c32d80d6-141e-4112-b744-ba6c9c0a8303",
   "metadata": {},
   "outputs": [
    {
     "data": {
      "text/latex": [
       "$\\displaystyle B_{1} = C_{{1}_r} e^{- L_{0} k_{1}} + C_{{1}_t} e^{L_{0} k_{1}}$"
      ],
      "text/plain": [
       "Eq(B_1, C_{{1}_r}*exp(-L_0*k_1) + C_{{1}_t}*exp(L_0*k_1))"
      ]
     },
     "execution_count": 20,
     "metadata": {},
     "output_type": "execute_result"
    }
   ],
   "source": [
    "e1b0"
   ]
  },
  {
   "cell_type": "code",
   "execution_count": 21,
   "id": "1b82f48c-9ea7-4a6c-8d4b-064d0c9d2ca9",
   "metadata": {},
   "outputs": [],
   "source": [
    "transfer = q.transferWithHarmonicConstants(regions[\"regionSymbols\"][3], regions[\"regionSymbols\"][2])"
   ]
  },
  {
   "cell_type": "code",
   "execution_count": 22,
   "id": "f8437bd8-e9eb-41cb-a1e8-ae5c27dcd388",
   "metadata": {},
   "outputs": [
    {
     "data": {
      "text/latex": [
       "$\\displaystyle \\left[\\begin{matrix}\\psi_{1 t}{\\left(L_{0} \\right)}\\\\\\psi_{1 r}{\\left(L_{0} \\right)}\\end{matrix}\\right] = \\left[\\begin{matrix}\\left(\\sqrt{2} \\sqrt{\\frac{k_{2}}{k_{1} + k_{2}}} - \\frac{\\sqrt{2} \\left(- k_{1} + k_{2}\\right)}{2 \\sqrt{\\frac{k_{2}}{k_{1} + k_{2}}} \\left(k_{1} + k_{2}\\right)}\\right) \\psi_{2 t}{\\left(L_{1} \\right)} + \\frac{\\sqrt{2} \\sqrt{\\frac{- k_{1} + k_{2}}{k_{1} + k_{2}}} \\psi_{2 r}{\\left(L_{1} \\right)}}{2 \\sqrt{\\frac{k_{2}}{k_{1} + k_{2}}}}\\\\- \\frac{\\sqrt{2} \\sqrt{\\frac{- k_{1} + k_{2}}{k_{1} + k_{2}}} \\psi_{2 t}{\\left(L_{1} \\right)}}{2 \\sqrt{\\frac{k_{2}}{k_{1} + k_{2}}}} + \\frac{\\sqrt{2} \\psi_{2 r}{\\left(L_{1} \\right)}}{2 \\sqrt{\\frac{k_{2}}{k_{1} + k_{2}}}}\\end{matrix}\\right]$"
      ],
      "text/plain": [
       "Eq(Matrix([\n",
       "[psi_1_t(L_0)],\n",
       "[psi_1_r(L_0)]]), Matrix([\n",
       "[(sqrt(2)*sqrt(k_2/(k_1 + k_2)) - sqrt(2)*(-k_1 + k_2)/(2*sqrt(k_2/(k_1 + k_2))*(k_1 + k_2)))*psi_2_t(L_1) + sqrt(2)*sqrt((-k_1 + k_2)/(k_1 + k_2))*psi_2_r(L_1)/(2*sqrt(k_2/(k_1 + k_2)))],\n",
       "[                                                          -sqrt(2)*sqrt((-k_1 + k_2)/(k_1 + k_2))*psi_2_t(L_1)/(2*sqrt(k_2/(k_1 + k_2))) + sqrt(2)*psi_2_r(L_1)/(2*sqrt(k_2/(k_1 + k_2)))]]))"
      ]
     },
     "execution_count": 22,
     "metadata": {},
     "output_type": "execute_result"
    }
   ],
   "source": [
    "transfer[\"transfer\"]"
   ]
  },
  {
   "cell_type": "code",
   "execution_count": 23,
   "id": "e6631e9c-efae-4027-bda0-861ab3c7fd86",
   "metadata": {},
   "outputs": [
    {
     "name": "stdout",
     "output_type": "stream",
     "text": [
      "\\left[\\begin{matrix}\\psi_{1 t}{\\left(L_{0} \\right)}\\\\\\psi_{1 r}{\\left(L_{0} \\right)}\\end{matrix}\\right] = \\left[\\begin{matrix}\\left(\\sqrt{2} \\sqrt{\\frac{k_{2}}{k_{1} + k_{2}}} - \\frac{\\sqrt{2} \\left(- k_{1} + k_{2}\\right)}{2 \\sqrt{\\frac{k_{2}}{k_{1} + k_{2}}} \\left(k_{1} + k_{2}\\right)}\\right) \\psi_{2 t}{\\left(L_{1} \\right)} + \\frac{\\sqrt{2} \\sqrt{\\frac{- k_{1} + k_{2}}{k_{1} + k_{2}}} \\psi_{2 r}{\\left(L_{1} \\right)}}{2 \\sqrt{\\frac{k_{2}}{k_{1} + k_{2}}}}\\\\- \\frac{\\sqrt{2} \\sqrt{\\frac{- k_{1} + k_{2}}{k_{1} + k_{2}}} \\psi_{2 t}{\\left(L_{1} \\right)}}{2 \\sqrt{\\frac{k_{2}}{k_{1} + k_{2}}}} + \\frac{\\sqrt{2} \\psi_{2 r}{\\left(L_{1} \\right)}}{2 \\sqrt{\\frac{k_{2}}{k_{1} + k_{2}}}}\\end{matrix}\\right]\n"
     ]
    }
   ],
   "source": [
    "print(sp.latex(transfer[\"transfer\"]))"
   ]
  },
  {
   "cell_type": "code",
   "execution_count": 24,
   "id": "4f85827a-e132-4d1c-bb20-12cd6d61da54",
   "metadata": {},
   "outputs": [],
   "source": [
    "transfer = q.generalTransfer(regions[\"regionSymbols\"][3], regions[\"regionSymbols\"][2])"
   ]
  },
  {
   "cell_type": "code",
   "execution_count": 25,
   "id": "34b48f69-bb96-4b0a-83ac-bcd6cfdbbc6f",
   "metadata": {},
   "outputs": [
    {
     "data": {
      "text/latex": [
       "$\\displaystyle \\left[\\begin{matrix}\\psi_{1 t}{\\left(L_{0} \\right)}\\\\\\psi_{1 r}{\\left(L_{0} \\right)}\\end{matrix}\\right] = \\left[\\begin{matrix}\\frac{\\sqrt{R_{2 1}} \\psi_{2 r}{\\left(L_{1} \\right)}}{\\sqrt{\\overline{T_{2 1}}}} + \\left(- \\frac{\\sqrt{R_{2 1}} \\sqrt{\\overline{R_{2 1}}}}{\\sqrt{\\overline{T_{2 1}}}} + \\sqrt{T_{2 1}}\\right) \\psi_{2 t}{\\left(L_{1} \\right)}\\\\\\frac{\\psi_{2 r}{\\left(L_{1} \\right)}}{\\sqrt{\\overline{T_{2 1}}}} - \\frac{\\psi_{2 t}{\\left(L_{1} \\right)} \\sqrt{\\overline{R_{2 1}}}}{\\sqrt{\\overline{T_{2 1}}}}\\end{matrix}\\right]$"
      ],
      "text/plain": [
       "Eq(Matrix([\n",
       "[psi_1_t(L_0)],\n",
       "[psi_1_r(L_0)]]), Matrix([\n",
       "[sqrt(R_2_1)*psi_2_r(L_1)/sqrt(conjugate(T_2_1)) + (-sqrt(R_2_1)*sqrt(conjugate(R_2_1))/sqrt(conjugate(T_2_1)) + sqrt(T_2_1))*psi_2_t(L_1)],\n",
       "[                                         psi_2_r(L_1)/sqrt(conjugate(T_2_1)) - psi_2_t(L_1)*sqrt(conjugate(R_2_1))/sqrt(conjugate(T_2_1))]]))"
      ]
     },
     "execution_count": 25,
     "metadata": {},
     "output_type": "execute_result"
    }
   ],
   "source": [
    "transfer[\"transfer\"]"
   ]
  },
  {
   "cell_type": "code",
   "execution_count": 26,
   "id": "dbbb821b-618b-49bb-b618-69608f370eef",
   "metadata": {},
   "outputs": [
    {
     "name": "stdout",
     "output_type": "stream",
     "text": [
      "\\left[\\begin{matrix}\\psi_{1 t}{\\left(L_{0} \\right)}\\\\\\psi_{1 r}{\\left(L_{0} \\right)}\\end{matrix}\\right] = \\left[\\begin{matrix}\\frac{\\sqrt{R_{2 1}} \\psi_{2 r}{\\left(L_{1} \\right)}}{\\sqrt{\\overline{T_{2 1}}}} + \\left(- \\frac{\\sqrt{R_{2 1}} \\sqrt{\\overline{R_{2 1}}}}{\\sqrt{\\overline{T_{2 1}}}} + \\sqrt{T_{2 1}}\\right) \\psi_{2 t}{\\left(L_{1} \\right)}\\\\\\frac{\\psi_{2 r}{\\left(L_{1} \\right)}}{\\sqrt{\\overline{T_{2 1}}}} - \\frac{\\psi_{2 t}{\\left(L_{1} \\right)} \\sqrt{\\overline{R_{2 1}}}}{\\sqrt{\\overline{T_{2 1}}}}\\end{matrix}\\right]\n"
     ]
    }
   ],
   "source": [
    "print(sp.latex(transfer[\"transfer\"]))"
   ]
  },
  {
   "cell_type": "code",
   "execution_count": 27,
   "id": "75ddebb7-3558-4e4e-92d9-cecedbe8b99b",
   "metadata": {},
   "outputs": [
    {
     "data": {
      "text/plain": [
       "{'from': <new_attempt.stateless.RegionSymbols at 0x7fe3f204fb80>,\n",
       " 'to': <new_attempt.stateless.RegionSymbols at 0x7fe3f204f610>,\n",
       " 'inputs': ['k_2', 'k_1'],\n",
       " 'outputs': ['T_2_1', 'R_2_1'],\n",
       " 'computations': {'T_2_1': <function _lambdifygenerated(k_2, k_1)>,\n",
       "  'R_2_1': <function _lambdifygenerated(k_2, k_1)>},\n",
       " 'transmission': 2*k_2/(k_1 + k_2),\n",
       " 'reflection': (-k_1 + k_2)/(k_1 + k_2)}"
      ]
     },
     "execution_count": 27,
     "metadata": {},
     "output_type": "execute_result"
    }
   ],
   "source": [
    "q.makeCoefficentsFromHarmonicConstants(regions[\"regionSymbols\"][3], regions[\"regionSymbols\"][2])"
   ]
  },
  {
   "cell_type": "code",
   "execution_count": 28,
   "id": "8eae5ff7-975e-4b99-87e6-0756a90bd2f8",
   "metadata": {},
   "outputs": [],
   "source": [
    "ace = q.solveUnconstrainedParticularSolution(\n",
    "        regions[\"regionSymbols\"][1], \n",
    "        generalSolutions[0]\n",
    "    )"
   ]
  },
  {
   "cell_type": "code",
   "execution_count": 29,
   "id": "9b504f92-4d86-4276-8c25-deff20c5ac22",
   "metadata": {},
   "outputs": [
    {
     "data": {
      "text/plain": [
       "{'generalSolution': {'boundries': {psi_0(L_-1): B_0, psi_0(L_0): B_1},\n",
       "  'harmonicConstantEquation': Eq(k_0, sqrt(2)*sqrt(m)*sqrt(-E_{total} + V_0)/hbarX),\n",
       "  'generalSolution': Eq(psi_0(x), (B_0*exp(L_-1*k_0)/(exp(2*L_-1*k_0) - exp(2*L_0*k_0)) - B_1*exp(L_0*k_0)/(exp(2*L_-1*k_0) - exp(2*L_0*k_0)))*exp(k_0*x) + (-B_0*exp(L_-1*k_0)*exp(2*L_0*k_0)/(exp(2*L_-1*k_0) - exp(2*L_0*k_0)) + B_1*exp(2*L_-1*k_0)*exp(L_0*k_0)/(exp(2*L_-1*k_0) - exp(2*L_0*k_0)))*exp(-k_0*x))},\n",
       " 'exponential': Eq(psi_0(x), C_{{0}_r}*exp(-k_0*x) + C_{{0}_t}*exp(k_0*x)),\n",
       " 'amplitudes': {'transmission': B_0*exp(L_-1*k_0)/(exp(2*L_-1*k_0) - exp(2*L_0*k_0)) - B_1*exp(L_0*k_0)/(exp(2*L_-1*k_0) - exp(2*L_0*k_0)),\n",
       "  'reflection': -B_0*exp(L_-1*k_0)*exp(2*L_0*k_0)/(exp(2*L_-1*k_0) - exp(2*L_0*k_0)) + B_1*exp(2*L_-1*k_0)*exp(L_0*k_0)/(exp(2*L_-1*k_0) - exp(2*L_0*k_0)),\n",
       "  'harmonicConstant': k_0}}"
      ]
     },
     "execution_count": 29,
     "metadata": {},
     "output_type": "execute_result"
    }
   ],
   "source": [
    "ace"
   ]
  },
  {
   "cell_type": "code",
   "execution_count": null,
   "id": "74de80d3-3b9f-49e0-b1e6-c826d066882d",
   "metadata": {},
   "outputs": [],
   "source": []
  },
  {
   "cell_type": "code",
   "execution_count": 30,
   "id": "4b73d075-9bea-43d8-8c17-0d696b8e4049",
   "metadata": {},
   "outputs": [
    {
     "data": {
      "text/latex": [
       "$\\displaystyle \\frac{B_{0} e^{L_{-1} k_{0}}}{e^{2 L_{-1} k_{0}} - e^{2 L_{0} k_{0}}} - \\frac{B_{1} e^{L_{0} k_{0}}}{e^{2 L_{-1} k_{0}} - e^{2 L_{0} k_{0}}}$"
      ],
      "text/plain": [
       "B_0*exp(L_-1*k_0)/(exp(2*L_-1*k_0) - exp(2*L_0*k_0)) - B_1*exp(L_0*k_0)/(exp(2*L_-1*k_0) - exp(2*L_0*k_0))"
      ]
     },
     "execution_count": 30,
     "metadata": {},
     "output_type": "execute_result"
    }
   ],
   "source": [
    "ace[\"amplitudes\"][\"transmission\"]"
   ]
  },
  {
   "cell_type": "code",
   "execution_count": 31,
   "id": "ea6e75d4-f552-4e7d-af67-9c880d8868af",
   "metadata": {},
   "outputs": [
    {
     "data": {
      "text/latex": [
       "$\\displaystyle - \\frac{B_{0} e^{L_{-1} k_{0}} e^{2 L_{0} k_{0}}}{e^{2 L_{-1} k_{0}} - e^{2 L_{0} k_{0}}} + \\frac{B_{1} e^{2 L_{-1} k_{0}} e^{L_{0} k_{0}}}{e^{2 L_{-1} k_{0}} - e^{2 L_{0} k_{0}}}$"
      ],
      "text/plain": [
       "-B_0*exp(L_-1*k_0)*exp(2*L_0*k_0)/(exp(2*L_-1*k_0) - exp(2*L_0*k_0)) + B_1*exp(2*L_-1*k_0)*exp(L_0*k_0)/(exp(2*L_-1*k_0) - exp(2*L_0*k_0))"
      ]
     },
     "execution_count": 31,
     "metadata": {},
     "output_type": "execute_result"
    }
   ],
   "source": [
    "ace[\"amplitudes\"][\"reflection\"]"
   ]
  },
  {
   "cell_type": "code",
   "execution_count": 32,
   "id": "4cf452af-7822-47d3-af5a-be93d1ce6d0d",
   "metadata": {},
   "outputs": [],
   "source": [
    "# Bug identified"
   ]
  },
  {
   "cell_type": "code",
   "execution_count": null,
   "id": "add03897-df52-4e95-ab0f-3db2213f3c90",
   "metadata": {},
   "outputs": [],
   "source": []
  }
 ],
 "metadata": {
  "kernelspec": {
   "display_name": "Python 3 (ipykernel)",
   "language": "python",
   "name": "python3"
  },
  "language_info": {
   "codemirror_mode": {
    "name": "ipython",
    "version": 3
   },
   "file_extension": ".py",
   "mimetype": "text/x-python",
   "name": "python",
   "nbconvert_exporter": "python",
   "pygments_lexer": "ipython3",
   "version": "3.10.5"
  }
 },
 "nbformat": 4,
 "nbformat_minor": 5
}
