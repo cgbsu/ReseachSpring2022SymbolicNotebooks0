{
 "cells": [
  {
   "cell_type": "code",
   "execution_count": 1,
   "id": "9da4ca07-5038-40fc-b597-27be53769384",
   "metadata": {},
   "outputs": [],
   "source": [
    "import sympy as sp"
   ]
  },
  {
   "cell_type": "code",
   "execution_count": 2,
   "id": "bbd2fd19-a4e7-44c8-ba72-b83d5ae065ea",
   "metadata": {},
   "outputs": [],
   "source": [
    "import sympy.physics.units.quantities as sq"
   ]
  },
  {
   "cell_type": "code",
   "execution_count": 3,
   "id": "3b8c39ff-3668-4ef3-9add-b334784a3333",
   "metadata": {},
   "outputs": [],
   "source": [
    "from sympy.physics.quantum.constants import hbar"
   ]
  },
  {
   "cell_type": "code",
   "execution_count": null,
   "id": "75e40f13-aa6e-41d1-9ced-7a90df52a98e",
   "metadata": {},
   "outputs": [],
   "source": []
  },
  {
   "cell_type": "code",
   "execution_count": 4,
   "id": "82f14997-b75d-4dd8-baf6-d565f0b12bd1",
   "metadata": {},
   "outputs": [],
   "source": [
    "from custom_libraries.stepper import *"
   ]
  },
  {
   "cell_type": "code",
   "execution_count": 5,
   "id": "100adb60-1868-493c-bbe9-9b2dd1bf5af6",
   "metadata": {},
   "outputs": [],
   "source": [
    "from custom_libraries.schrodinger import *"
   ]
  },
  {
   "cell_type": "code",
   "execution_count": null,
   "id": "95748091-3fe2-45a3-beaa-0e56ac4e61f9",
   "metadata": {},
   "outputs": [],
   "source": []
  },
  {
   "cell_type": "code",
   "execution_count": null,
   "id": "06f01602-335d-41e6-ad5b-ce87cb94df00",
   "metadata": {},
   "outputs": [],
   "source": []
  },
  {
   "cell_type": "code",
   "execution_count": 6,
   "id": "151680e1-cc8c-4f02-9fbc-32cb1b19f56f",
   "metadata": {},
   "outputs": [],
   "source": [
    "def real_harmonics( _ ):\n",
    "    assumptions = standard_harmonic_assumptions( _ );\n",
    "    print( assumptions )\n",
    "    assumptions.update( { 'real' : True } )\n",
    "    return assumptions"
   ]
  },
  {
   "cell_type": "code",
   "execution_count": 7,
   "id": "e987eec4-b24e-40e6-8b2c-b3f9e35e12ee",
   "metadata": {},
   "outputs": [
    {
     "name": "stdout",
     "output_type": "stream",
     "text": [
      "{'real': True, 'finite': True, 'nonzero': True}\n",
      "{'real': True, 'finite': True, 'nonzero': True}\n"
     ]
    }
   ],
   "source": [
    "print( real_harmonics( 0 ) )"
   ]
  },
  {
   "cell_type": "code",
   "execution_count": null,
   "id": "bfb382d5-86f8-4a9e-a880-476bb3d650c8",
   "metadata": {},
   "outputs": [],
   "source": []
  },
  {
   "cell_type": "code",
   "execution_count": 8,
   "id": "8984696f-ac0b-4d68-8f5f-036778be011f",
   "metadata": {},
   "outputs": [],
   "source": [
    "stairwell_solver = TimeIndependentSchrodingerConstantPotentials1D( \n",
    "        StairWell.default_non_uniform_length_potential_table(), \n",
    "        tuple( StairWell.default_non_uniform_length_potential_table().keys() )[ -1 ], \n",
    "        make_psis = make_psi_numbered, \n",
    "        #harmonics_assumptions = , \n",
    "        repeating = True, \n",
    "        as_distances = True, \n",
    "        #normalization_conjugate_not_squared_absolute_value = False\n",
    "    )"
   ]
  },
  {
   "cell_type": "code",
   "execution_count": null,
   "id": "2e946e04-0121-448e-8269-4e69ba4e1c28",
   "metadata": {},
   "outputs": [],
   "source": []
  },
  {
   "cell_type": "code",
   "execution_count": 9,
   "id": "bc51b09a-c161-4008-b763-81f71b487841",
   "metadata": {},
   "outputs": [
    {
     "data": {
      "text/latex": [
       "$\\displaystyle - k_{0}^{2} \\psi_{0}{\\left(x \\right)} + \\frac{d^{2}}{d x^{2}} \\psi_{0}{\\left(x \\right)} = 0$"
      ],
      "text/plain": [
       "Eq(-k_0**2*\\psi_{0}(x) + Derivative(\\psi_{0}(x), (x, 2)), 0)"
      ]
     },
     "metadata": {},
     "output_type": "display_data"
    },
    {
     "data": {
      "text/latex": [
       "$\\displaystyle - k_{1}^{2} \\psi_{1}{\\left(x \\right)} + \\frac{d^{2}}{d x^{2}} \\psi_{1}{\\left(x \\right)} = 0$"
      ],
      "text/plain": [
       "Eq(-k_1**2*\\psi_{1}(x) + Derivative(\\psi_{1}(x), (x, 2)), 0)"
      ]
     },
     "metadata": {},
     "output_type": "display_data"
    },
    {
     "data": {
      "text/latex": [
       "$\\displaystyle - k_{2}^{2} \\psi_{2}{\\left(x \\right)} + \\frac{d^{2}}{d x^{2}} \\psi_{2}{\\left(x \\right)} = 0$"
      ],
      "text/plain": [
       "Eq(-k_2**2*\\psi_{2}(x) + Derivative(\\psi_{2}(x), (x, 2)), 0)"
      ]
     },
     "metadata": {},
     "output_type": "display_data"
    }
   ],
   "source": [
    "display_steps( stairwell_solver.equations )"
   ]
  },
  {
   "cell_type": "code",
   "execution_count": null,
   "id": "a0757648-d8b4-4a28-b351-221f4830ff75",
   "metadata": {},
   "outputs": [],
   "source": []
  },
  {
   "cell_type": "code",
   "execution_count": 10,
   "id": "28d85323-24e4-49cb-93e6-54953e6104c7",
   "metadata": {},
   "outputs": [
    {
     "data": {
      "text/latex": [
       "$\\displaystyle k_{0} = \\frac{\\sqrt{2} \\sqrt{- E + V_{0}} \\sqrt{\\text{m}}}{\\hbar}$"
      ],
      "text/plain": [
       "Eq(k_0, sqrt(2)*sqrt(m)*sqrt(-E + V_0)/hbar)"
      ]
     },
     "metadata": {},
     "output_type": "display_data"
    },
    {
     "data": {
      "text/latex": [
       "$\\displaystyle k_{1} = \\frac{\\sqrt{2} \\sqrt{- E + V_{1}} \\sqrt{\\text{m}}}{\\hbar}$"
      ],
      "text/plain": [
       "Eq(k_1, sqrt(2)*sqrt(m)*sqrt(-E + V_1)/hbar)"
      ]
     },
     "metadata": {},
     "output_type": "display_data"
    },
    {
     "data": {
      "text/latex": [
       "$\\displaystyle k_{2} = \\frac{\\sqrt{2} \\sqrt{- E + V_{2}} \\sqrt{\\text{m}}}{\\hbar}$"
      ],
      "text/plain": [
       "Eq(k_2, sqrt(2)*sqrt(m)*sqrt(-E + V_2)/hbar)"
      ]
     },
     "metadata": {},
     "output_type": "display_data"
    }
   ],
   "source": [
    "display_in( stairwell_solver.harmonic_constants )"
   ]
  },
  {
   "cell_type": "code",
   "execution_count": 11,
   "id": "20f53166-87ec-4057-932d-5b0947a3427b",
   "metadata": {},
   "outputs": [
    {
     "data": {
      "text/plain": [
       "{'ContinuityConditions': {\\psi_{0}(L_0): \\psi_{1}(0),\n",
       "  \\psi_{1}(L_1): \\psi_{2}(0)},\n",
       " 'RepeatingPotentialsCondition': {\\psi_{0}(0): \\psi_{2}(L_2)}}"
      ]
     },
     "execution_count": 11,
     "metadata": {},
     "output_type": "execute_result"
    }
   ],
   "source": [
    "stairwell_solver.boundries.boundries"
   ]
  },
  {
   "cell_type": "code",
   "execution_count": 12,
   "id": "9fe5cbdc-ea5a-4ca1-a54f-a70e30069bec",
   "metadata": {},
   "outputs": [
    {
     "data": {
      "text/plain": [
       "{\\psi_{0}(L_0): \\psi_{1}(0), \\psi_{1}(L_1): \\psi_{2}(0)}"
      ]
     },
     "execution_count": 12,
     "metadata": {},
     "output_type": "execute_result"
    }
   ],
   "source": [
    "stairwell_solver.boundries.ContinuityConditions"
   ]
  },
  {
   "cell_type": "code",
   "execution_count": null,
   "id": "1cee42e4-0490-4850-b52f-3b6b9547e3f1",
   "metadata": {},
   "outputs": [],
   "source": []
  },
  {
   "cell_type": "code",
   "execution_count": 13,
   "id": "d78132f8-2d0a-438c-a94d-3c5d1b79786d",
   "metadata": {},
   "outputs": [
    {
     "data": {
      "text/plain": [
       "{\\psi_{0}(0): \\psi_{2}(L_2)}"
      ]
     },
     "execution_count": 13,
     "metadata": {},
     "output_type": "execute_result"
    }
   ],
   "source": [
    "stairwell_solver.boundries.RepeatingPotentialsCondition"
   ]
  },
  {
   "cell_type": "code",
   "execution_count": null,
   "id": "519623f3-e044-4ce4-89ce-0bf045971c69",
   "metadata": {},
   "outputs": [],
   "source": []
  },
  {
   "cell_type": "code",
   "execution_count": 14,
   "id": "bad0d660-061c-4402-af40-79303da747d0",
   "metadata": {},
   "outputs": [
    {
     "data": {
      "text/plain": [
       "('LastUpdatedAllBoundryConditions',\n",
       " {\\psi_{0}(L_0): \\psi_{1}(0),\n",
       "  \\psi_{1}(L_1): \\psi_{2}(0),\n",
       "  \\psi_{0}(0): \\psi_{2}(L_2)})"
      ]
     },
     "execution_count": 14,
     "metadata": {},
     "output_type": "execute_result"
    }
   ],
   "source": [
    "stairwell_solver.boundries.update_all_boundry_conditions()"
   ]
  },
  {
   "cell_type": "code",
   "execution_count": 15,
   "id": "4b7fbdf2-6c1c-4e13-bd4d-a8a90fbb6f43",
   "metadata": {},
   "outputs": [
    {
     "data": {
      "text/plain": [
       "[\\psi_{0}(L_0), \\psi_{1}(L_1), \\psi_{0}(0)]"
      ]
     },
     "execution_count": 15,
     "metadata": {},
     "output_type": "execute_result"
    }
   ],
   "source": [
    "list( stairwell_solver.boundries.update_all_boundry_conditions()[ 1 ].keys() )"
   ]
  },
  {
   "cell_type": "code",
   "execution_count": 16,
   "id": "03f1960a-88b6-4ef2-9101-fb89a936000a",
   "metadata": {},
   "outputs": [
    {
     "data": {
      "text/plain": [
       "'ContinuityConditions'"
      ]
     },
     "metadata": {},
     "output_type": "display_data"
    },
    {
     "data": {
      "text/latex": [
       "$\\displaystyle \\psi_{0}{\\left(L_{0} \\right)} = \\psi_{1}{\\left(0 \\right)}$"
      ],
      "text/plain": [
       "Eq(\\psi_{0}(L_0), \\psi_{1}(0))"
      ]
     },
     "metadata": {},
     "output_type": "display_data"
    },
    {
     "data": {
      "text/latex": [
       "$\\displaystyle \\psi_{1}{\\left(L_{1} \\right)} = \\psi_{2}{\\left(0 \\right)}$"
      ],
      "text/plain": [
       "Eq(\\psi_{1}(L_1), \\psi_{2}(0))"
      ]
     },
     "metadata": {},
     "output_type": "display_data"
    },
    {
     "data": {
      "text/plain": [
       "'RepeatingPotentialsCondition'"
      ]
     },
     "metadata": {},
     "output_type": "display_data"
    },
    {
     "data": {
      "text/latex": [
       "$\\displaystyle \\psi_{0}{\\left(0 \\right)} = \\psi_{2}{\\left(L_{2} \\right)}$"
      ],
      "text/plain": [
       "Eq(\\psi_{0}(0), \\psi_{2}(L_2))"
      ]
     },
     "metadata": {},
     "output_type": "display_data"
    },
    {
     "data": {
      "text/plain": [
       "'LastUpdatedAllBoundryConditions'"
      ]
     },
     "metadata": {},
     "output_type": "display_data"
    },
    {
     "data": {
      "text/latex": [
       "$\\displaystyle \\psi_{0}{\\left(L_{0} \\right)} = \\psi_{1}{\\left(0 \\right)}$"
      ],
      "text/plain": [
       "Eq(\\psi_{0}(L_0), \\psi_{1}(0))"
      ]
     },
     "metadata": {},
     "output_type": "display_data"
    },
    {
     "data": {
      "text/latex": [
       "$\\displaystyle \\psi_{1}{\\left(L_{1} \\right)} = \\psi_{2}{\\left(0 \\right)}$"
      ],
      "text/plain": [
       "Eq(\\psi_{1}(L_1), \\psi_{2}(0))"
      ]
     },
     "metadata": {},
     "output_type": "display_data"
    },
    {
     "data": {
      "text/latex": [
       "$\\displaystyle \\psi_{0}{\\left(0 \\right)} = \\psi_{2}{\\left(L_{2} \\right)}$"
      ],
      "text/plain": [
       "Eq(\\psi_{0}(0), \\psi_{2}(L_2))"
      ]
     },
     "metadata": {},
     "output_type": "display_data"
    }
   ],
   "source": [
    "stairwell_solver.boundries.display()"
   ]
  },
  {
   "cell_type": "code",
   "execution_count": 17,
   "id": "e1d9be74-c024-4e4a-b5ec-963ebbb5009a",
   "metadata": {},
   "outputs": [
    {
     "data": {
      "text/latex": [
       "$\\displaystyle - k_{0}^{2} \\psi_{0}{\\left(x \\right)} + \\frac{d^{2}}{d x^{2}} \\psi_{0}{\\left(x \\right)} = 0$"
      ],
      "text/plain": [
       "Eq(-k_0**2*\\psi_{0}(x) + Derivative(\\psi_{0}(x), (x, 2)), 0)"
      ]
     },
     "execution_count": 17,
     "metadata": {},
     "output_type": "execute_result"
    }
   ],
   "source": [
    "stairwell_solver.equations[ 0 ].last_step()"
   ]
  },
  {
   "cell_type": "code",
   "execution_count": null,
   "id": "3fc0fbd1-a832-4ef7-803b-814812d18099",
   "metadata": {},
   "outputs": [],
   "source": []
  },
  {
   "cell_type": "code",
   "execution_count": 18,
   "id": "0f4574ca-54c8-4820-9212-d94622eab763",
   "metadata": {
    "tags": []
   },
   "outputs": [],
   "source": [
    "solutions = stairwell_solver.solve_odes()"
   ]
  },
  {
   "cell_type": "code",
   "execution_count": null,
   "id": "f1a5e157-8b2f-4d4f-bb64-268ebfba1344",
   "metadata": {},
   "outputs": [],
   "source": []
  },
  {
   "cell_type": "code",
   "execution_count": 19,
   "id": "906f8879-c568-484d-b095-81bbdaf9fce3",
   "metadata": {},
   "outputs": [
    {
     "data": {
      "text/latex": [
       "$\\displaystyle \\psi_{0}{\\left(x \\right)} = \\frac{\\left(- \\psi_{1}{\\left(0 \\right)} e^{L_{0} k_{0}} + \\psi_{2}{\\left(L_{2} \\right)} e^{2 L_{0} k_{0}}\\right) e^{- k_{0} x}}{e^{2 L_{0} k_{0}} - 1} + \\frac{\\left(\\psi_{1}{\\left(0 \\right)} e^{L_{0} k_{0}} - \\psi_{2}{\\left(L_{2} \\right)}\\right) e^{k_{0} x}}{e^{2 L_{0} k_{0}} - 1}$"
      ],
      "text/plain": [
       "Eq(\\psi_{0}(x), (-\\psi_{1}(0)*exp(L_0*k_0) + \\psi_{2}(L_2)*exp(2*L_0*k_0))*exp(-k_0*x)/(exp(2*L_0*k_0) - 1) + (\\psi_{1}(0)*exp(L_0*k_0) - \\psi_{2}(L_2))*exp(k_0*x)/(exp(2*L_0*k_0) - 1))"
      ]
     },
     "metadata": {},
     "output_type": "display_data"
    },
    {
     "data": {
      "text/latex": [
       "$\\displaystyle \\psi_{1}{\\left(x \\right)} = \\frac{\\left(\\psi_{0}{\\left(L_{0} \\right)} e^{2 L_{1} k_{1}} - \\psi_{2}{\\left(0 \\right)} e^{L_{1} k_{1}}\\right) e^{- k_{1} x}}{e^{2 L_{1} k_{1}} - 1} + \\frac{\\left(- \\psi_{0}{\\left(L_{0} \\right)} + \\psi_{2}{\\left(0 \\right)} e^{L_{1} k_{1}}\\right) e^{k_{1} x}}{e^{2 L_{1} k_{1}} - 1}$"
      ],
      "text/plain": [
       "Eq(\\psi_{1}(x), (\\psi_{0}(L_0)*exp(2*L_1*k_1) - \\psi_{2}(0)*exp(L_1*k_1))*exp(-k_1*x)/(exp(2*L_1*k_1) - 1) + (-\\psi_{0}(L_0) + \\psi_{2}(0)*exp(L_1*k_1))*exp(k_1*x)/(exp(2*L_1*k_1) - 1))"
      ]
     },
     "metadata": {},
     "output_type": "display_data"
    },
    {
     "data": {
      "text/latex": [
       "$\\displaystyle \\psi_{2}{\\left(x \\right)} = \\frac{\\left(- \\psi_{0}{\\left(0 \\right)} e^{L_{2} k_{2}} + \\psi_{1}{\\left(L_{1} \\right)} e^{2 L_{2} k_{2}}\\right) e^{- k_{2} x}}{e^{2 L_{2} k_{2}} - 1} + \\frac{\\left(\\psi_{0}{\\left(0 \\right)} e^{L_{2} k_{2}} - \\psi_{1}{\\left(L_{1} \\right)}\\right) e^{k_{2} x}}{e^{2 L_{2} k_{2}} - 1}$"
      ],
      "text/plain": [
       "Eq(\\psi_{2}(x), (-\\psi_{0}(0)*exp(L_2*k_2) + \\psi_{1}(L_1)*exp(2*L_2*k_2))*exp(-k_2*x)/(exp(2*L_2*k_2) - 1) + (\\psi_{0}(0)*exp(L_2*k_2) - \\psi_{1}(L_1))*exp(k_2*x)/(exp(2*L_2*k_2) - 1))"
      ]
     },
     "metadata": {},
     "output_type": "display_data"
    }
   ],
   "source": [
    "display_in( solutions )"
   ]
  },
  {
   "cell_type": "code",
   "execution_count": null,
   "id": "84e87233-5ba7-4cb7-a3f7-370403e55bb0",
   "metadata": {},
   "outputs": [],
   "source": []
  },
  {
   "cell_type": "code",
   "execution_count": 20,
   "id": "e0ca1cc1-1b0f-4d1b-a646-1cce6caf6eed",
   "metadata": {},
   "outputs": [
    {
     "data": {
      "text/plain": [
       "[<custom_libraries.stepper.Stepper at 0x7f363c0b87c0>,\n",
       " <custom_libraries.stepper.Stepper at 0x7f3592969a60>,\n",
       " <custom_libraries.stepper.Stepper at 0x7f35929698e0>]"
      ]
     },
     "execution_count": 20,
     "metadata": {},
     "output_type": "execute_result"
    }
   ],
   "source": [
    "stairwell_solver.substitute_wave_functions_into_normalizations()"
   ]
  },
  {
   "cell_type": "code",
   "execution_count": 21,
   "id": "ca842015-740c-4620-be56-3d5b61b0a685",
   "metadata": {},
   "outputs": [
    {
     "data": {
      "text/plain": [
       "([<custom_libraries.stepper.Stepper at 0x7f359293dca0>,\n",
       "  <custom_libraries.stepper.Stepper at 0x7f363c0b8b80>,\n",
       "  <custom_libraries.stepper.Stepper at 0x7f359295ba90>],\n",
       " [<custom_libraries.stepper.Stepper at 0x7f363c0b87c0>,\n",
       "  <custom_libraries.stepper.Stepper at 0x7f3592969a60>,\n",
       "  <custom_libraries.stepper.Stepper at 0x7f35929698e0>])"
      ]
     },
     "execution_count": 21,
     "metadata": {},
     "output_type": "execute_result"
    }
   ],
   "source": [
    "stairwell_solver.boundries_in_expression_to_constants()"
   ]
  },
  {
   "cell_type": "code",
   "execution_count": 22,
   "id": "f398e39e-055e-4981-9740-8513148b9789",
   "metadata": {},
   "outputs": [
    {
     "data": {
      "text/latex": [
       "$\\displaystyle \\psi_{0}{\\left(x \\right)} = \\frac{\\left(- B_{0} e^{L_{0} k_{0}} + B_{2} e^{2 L_{0} k_{0}}\\right) e^{- k_{0} x}}{e^{2 L_{0} k_{0}} - 1} + \\frac{\\left(B_{0} e^{L_{0} k_{0}} - B_{2}\\right) e^{k_{0} x}}{e^{2 L_{0} k_{0}} - 1}$"
      ],
      "text/plain": [
       "Eq(\\psi_{0}(x), (-B_{0}*exp(L_0*k_0) + B_{2}*exp(2*L_0*k_0))*exp(-k_0*x)/(exp(2*L_0*k_0) - 1) + (B_{0}*exp(L_0*k_0) - B_{2})*exp(k_0*x)/(exp(2*L_0*k_0) - 1))"
      ]
     },
     "metadata": {},
     "output_type": "display_data"
    },
    {
     "data": {
      "text/latex": [
       "$\\displaystyle \\psi_{1}{\\left(x \\right)} = \\frac{\\left(- B_{0} + B_{1} e^{L_{1} k_{1}}\\right) e^{k_{1} x}}{e^{2 L_{1} k_{1}} - 1} + \\frac{\\left(B_{0} e^{2 L_{1} k_{1}} - B_{1} e^{L_{1} k_{1}}\\right) e^{- k_{1} x}}{e^{2 L_{1} k_{1}} - 1}$"
      ],
      "text/plain": [
       "Eq(\\psi_{1}(x), (-B_{0} + B_{1}*exp(L_1*k_1))*exp(k_1*x)/(exp(2*L_1*k_1) - 1) + (B_{0}*exp(2*L_1*k_1) - B_{1}*exp(L_1*k_1))*exp(-k_1*x)/(exp(2*L_1*k_1) - 1))"
      ]
     },
     "metadata": {},
     "output_type": "display_data"
    },
    {
     "data": {
      "text/latex": [
       "$\\displaystyle \\psi_{2}{\\left(x \\right)} = \\frac{\\left(- B_{1} + B_{2} e^{L_{2} k_{2}}\\right) e^{k_{2} x}}{e^{2 L_{2} k_{2}} - 1} + \\frac{\\left(B_{1} e^{2 L_{2} k_{2}} - B_{2} e^{L_{2} k_{2}}\\right) e^{- k_{2} x}}{e^{2 L_{2} k_{2}} - 1}$"
      ],
      "text/plain": [
       "Eq(\\psi_{2}(x), (-B_{1} + B_{2}*exp(L_2*k_2))*exp(k_2*x)/(exp(2*L_2*k_2) - 1) + (B_{1}*exp(2*L_2*k_2) - B_{2}*exp(L_2*k_2))*exp(-k_2*x)/(exp(2*L_2*k_2) - 1))"
      ]
     },
     "metadata": {},
     "output_type": "display_data"
    }
   ],
   "source": [
    "display_steps( stairwell_solver.equations )"
   ]
  },
  {
   "cell_type": "code",
   "execution_count": null,
   "id": "7ea23960-ba86-43bc-a99c-5e774c324bfa",
   "metadata": {},
   "outputs": [],
   "source": []
  },
  {
   "cell_type": "code",
   "execution_count": 23,
   "id": "1bf6f05f-281a-43cb-a04a-9083533ab05b",
   "metadata": {},
   "outputs": [
    {
     "data": {
      "text/latex": [
       "$\\displaystyle \\int\\limits_{0}^{L_{0}} \\left(\\frac{\\left(- B_{0} e^{L_{0} k_{0}} + B_{2} e^{2 L_{0} k_{0}}\\right) e^{- k_{0} x}}{e^{2 L_{0} k_{0}} - 1} + \\frac{\\left(B_{0} e^{L_{0} k_{0}} - B_{2}\\right) e^{k_{0} x}}{e^{2 L_{0} k_{0}} - 1}\\right) \\left(\\frac{\\left(e^{k_{0} \\overline{L_{0}}} \\overline{B_{0}} - \\overline{B_{2}}\\right) e^{k_{0} x}}{e^{2 k_{0} \\overline{L_{0}}} - 1} + \\frac{\\left(e^{2 k_{0} \\overline{L_{0}}} \\overline{B_{2}} - e^{k_{0} \\overline{L_{0}}} \\overline{B_{0}}\\right) e^{- k_{0} x}}{e^{2 k_{0} \\overline{L_{0}}} - 1}\\right)\\, dx = N_{0}$"
      ],
      "text/plain": [
       "Eq(Integral(((-B_{0}*exp(L_0*k_0) + B_{2}*exp(2*L_0*k_0))*exp(-k_0*x)/(exp(2*L_0*k_0) - 1) + (B_{0}*exp(L_0*k_0) - B_{2})*exp(k_0*x)/(exp(2*L_0*k_0) - 1))*((exp(k_0*conjugate(L_0))*conjugate(B_{0}) - conjugate(B_{2}))*exp(k_0*x)/(exp(2*k_0*conjugate(L_0)) - 1) + (exp(2*k_0*conjugate(L_0))*conjugate(B_{2}) - exp(k_0*conjugate(L_0))*conjugate(B_{0}))*exp(-k_0*x)/(exp(2*k_0*conjugate(L_0)) - 1)), (x, 0, L_0)), N_{0})"
      ]
     },
     "metadata": {},
     "output_type": "display_data"
    },
    {
     "data": {
      "text/latex": [
       "$\\displaystyle \\int\\limits_{0}^{L_{1}} \\left(\\frac{\\left(- B_{0} + B_{1} e^{L_{1} k_{1}}\\right) e^{k_{1} x}}{e^{2 L_{1} k_{1}} - 1} + \\frac{\\left(B_{0} e^{2 L_{1} k_{1}} - B_{1} e^{L_{1} k_{1}}\\right) e^{- k_{1} x}}{e^{2 L_{1} k_{1}} - 1}\\right) \\left(\\frac{\\left(e^{k_{1} \\overline{L_{1}}} \\overline{B_{1}} - \\overline{B_{0}}\\right) e^{k_{1} x}}{e^{2 k_{1} \\overline{L_{1}}} - 1} + \\frac{\\left(e^{2 k_{1} \\overline{L_{1}}} \\overline{B_{0}} - e^{k_{1} \\overline{L_{1}}} \\overline{B_{1}}\\right) e^{- k_{1} x}}{e^{2 k_{1} \\overline{L_{1}}} - 1}\\right)\\, dx = N_{1}$"
      ],
      "text/plain": [
       "Eq(Integral(((-B_{0} + B_{1}*exp(L_1*k_1))*exp(k_1*x)/(exp(2*L_1*k_1) - 1) + (B_{0}*exp(2*L_1*k_1) - B_{1}*exp(L_1*k_1))*exp(-k_1*x)/(exp(2*L_1*k_1) - 1))*((exp(k_1*conjugate(L_1))*conjugate(B_{1}) - conjugate(B_{0}))*exp(k_1*x)/(exp(2*k_1*conjugate(L_1)) - 1) + (exp(2*k_1*conjugate(L_1))*conjugate(B_{0}) - exp(k_1*conjugate(L_1))*conjugate(B_{1}))*exp(-k_1*x)/(exp(2*k_1*conjugate(L_1)) - 1)), (x, 0, L_1)), N_{1})"
      ]
     },
     "metadata": {},
     "output_type": "display_data"
    },
    {
     "data": {
      "text/latex": [
       "$\\displaystyle \\int\\limits_{0}^{L_{2}} \\left(\\frac{\\left(- B_{1} + B_{2} e^{L_{2} k_{2}}\\right) e^{k_{2} x}}{e^{2 L_{2} k_{2}} - 1} + \\frac{\\left(B_{1} e^{2 L_{2} k_{2}} - B_{2} e^{L_{2} k_{2}}\\right) e^{- k_{2} x}}{e^{2 L_{2} k_{2}} - 1}\\right) \\left(\\frac{\\left(e^{k_{2} \\overline{L_{2}}} \\overline{B_{2}} - \\overline{B_{1}}\\right) e^{k_{2} x}}{e^{2 k_{2} \\overline{L_{2}}} - 1} + \\frac{\\left(e^{2 k_{2} \\overline{L_{2}}} \\overline{B_{1}} - e^{k_{2} \\overline{L_{2}}} \\overline{B_{2}}\\right) e^{- k_{2} x}}{e^{2 k_{2} \\overline{L_{2}}} - 1}\\right)\\, dx = N_{2}$"
      ],
      "text/plain": [
       "Eq(Integral(((-B_{1} + B_{2}*exp(L_2*k_2))*exp(k_2*x)/(exp(2*L_2*k_2) - 1) + (B_{1}*exp(2*L_2*k_2) - B_{2}*exp(L_2*k_2))*exp(-k_2*x)/(exp(2*L_2*k_2) - 1))*((exp(k_2*conjugate(L_2))*conjugate(B_{2}) - conjugate(B_{1}))*exp(k_2*x)/(exp(2*k_2*conjugate(L_2)) - 1) + (exp(2*k_2*conjugate(L_2))*conjugate(B_{1}) - exp(k_2*conjugate(L_2))*conjugate(B_{2}))*exp(-k_2*x)/(exp(2*k_2*conjugate(L_2)) - 1)), (x, 0, L_2)), N_{2})"
      ]
     },
     "metadata": {},
     "output_type": "display_data"
    }
   ],
   "source": [
    "display_steps( stairwell_solver.normalizations )"
   ]
  },
  {
   "cell_type": "code",
   "execution_count": null,
   "id": "63140ef9-eb52-47c2-823b-4943baff870a",
   "metadata": {},
   "outputs": [],
   "source": []
  },
  {
   "cell_type": "code",
   "execution_count": 24,
   "id": "5862b61c-a438-4e68-830d-4065c68fc73f",
   "metadata": {},
   "outputs": [],
   "source": [
    "k_0 = stairwell_solver.harmonic_constants[ 0 ].lhs"
   ]
  },
  {
   "cell_type": "code",
   "execution_count": 25,
   "id": "4451c24d-e804-41a4-8c9f-4e6d67d0f219",
   "metadata": {},
   "outputs": [
    {
     "data": {
      "text/plain": [
       "{'real': True,\n",
       " 'infinite': False,\n",
       " 'complex': True,\n",
       " 'imaginary': False,\n",
       " 'finite': True,\n",
       " 'commutative': True,\n",
       " 'extended_real': True,\n",
       " 'hermitian': True,\n",
       " 'nonzero': True,\n",
       " 'zero': False,\n",
       " 'extended_nonzero': True}"
      ]
     },
     "execution_count": 25,
     "metadata": {},
     "output_type": "execute_result"
    }
   ],
   "source": [
    "k_0.assumptions0"
   ]
  },
  {
   "cell_type": "code",
   "execution_count": null,
   "id": "a8652d27-2859-4dc2-b42e-2582c6e4275c",
   "metadata": {},
   "outputs": [],
   "source": []
  },
  {
   "cell_type": "code",
   "execution_count": 26,
   "id": "f70dc5f3-db53-4d21-8077-9c00b4fc2d1e",
   "metadata": {},
   "outputs": [
    {
     "data": {
      "text/plain": [
       "{'real': True,\n",
       " 'infinite': False,\n",
       " 'complex': True,\n",
       " 'imaginary': False,\n",
       " 'finite': True,\n",
       " 'commutative': True,\n",
       " 'extended_real': True,\n",
       " 'hermitian': True,\n",
       " 'nonzero': True,\n",
       " 'zero': False,\n",
       " 'extended_nonzero': True}"
      ]
     },
     "execution_count": 26,
     "metadata": {},
     "output_type": "execute_result"
    }
   ],
   "source": [
    "sp.Symbol( 'Q', **{ 'real' : True, 'finite' : True, 'nonzero' : True } ).assumptions0"
   ]
  },
  {
   "cell_type": "code",
   "execution_count": null,
   "id": "cac82e4a-33ea-4789-a116-3f5e2c0cbc7b",
   "metadata": {},
   "outputs": [],
   "source": []
  },
  {
   "cell_type": "code",
   "execution_count": 27,
   "id": "ed27e3d0-6067-4105-b131-20b9b6919193",
   "metadata": {},
   "outputs": [],
   "source": [
    "harmonic_0_assumptions = sp.Q.lt( k_0, sp.oo ) & sp.Q.gt( k_0, -sp.oo ) & sp.Q.nonzero( k_0 )"
   ]
  },
  {
   "cell_type": "code",
   "execution_count": 28,
   "id": "abdd7381-010e-4d0a-be82-478efcac1b5c",
   "metadata": {},
   "outputs": [
    {
     "data": {
      "text/latex": [
       "$\\displaystyle Q.gt(k_{0}, -\\infty) \\wedge Q.lt(k_{0}, \\infty) \\wedge Q.nonzero(k_{0})$"
      ],
      "text/plain": [
       "Q.nonzero(k_0) & Q.gt(k_0, -oo) & Q.lt(k_0, oo)"
      ]
     },
     "execution_count": 28,
     "metadata": {},
     "output_type": "execute_result"
    }
   ],
   "source": [
    "harmonic_0_assumptions"
   ]
  },
  {
   "cell_type": "code",
   "execution_count": 29,
   "id": "266d6d54-eba1-4966-ad51-378c61fd7910",
   "metadata": {},
   "outputs": [],
   "source": [
    "test = stairwell_solver.normalizations[ 0 ].last_step().expand()"
   ]
  },
  {
   "cell_type": "code",
   "execution_count": 30,
   "id": "6e190490-0703-4859-a0a9-024db09a7ac0",
   "metadata": {},
   "outputs": [
    {
     "data": {
      "text/latex": [
       "$\\displaystyle \\int\\limits_{0}^{L_{0}} \\frac{B_{2} e^{2 k_{0} x} \\overline{B_{2}}}{e^{2 L_{0} k_{0}} e^{2 k_{0} \\overline{L_{0}}} - e^{2 L_{0} k_{0}} - e^{2 k_{0} \\overline{L_{0}}} + 1}\\, dx + \\int\\limits_{0}^{L_{0}} \\left(- \\frac{B_{0} e^{L_{0} k_{0}} e^{2 k_{0} x} \\overline{B_{2}}}{e^{2 L_{0} k_{0}} e^{2 k_{0} \\overline{L_{0}}} - e^{2 L_{0} k_{0}} - e^{2 k_{0} \\overline{L_{0}}} + 1}\\right)\\, dx + \\int\\limits_{0}^{L_{0}} \\frac{B_{0} e^{L_{0} k_{0}} e^{k_{0} x} \\overline{B_{2}}}{e^{2 L_{0} k_{0}} e^{k_{0} x} e^{2 k_{0} \\overline{L_{0}}} - e^{2 L_{0} k_{0}} e^{k_{0} x} - e^{k_{0} x} e^{2 k_{0} \\overline{L_{0}}} + e^{k_{0} x}}\\, dx + \\int\\limits_{0}^{L_{0}} \\frac{B_{0} e^{L_{0} k_{0}} e^{k_{0} \\overline{L_{0}}} \\overline{B_{0}}}{e^{2 L_{0} k_{0}} e^{2 k_{0} x} e^{2 k_{0} \\overline{L_{0}}} - e^{2 L_{0} k_{0}} e^{2 k_{0} x} - e^{2 k_{0} x} e^{2 k_{0} \\overline{L_{0}}} + e^{2 k_{0} x}}\\, dx + \\int\\limits_{0}^{L_{0}} \\left(- \\frac{B_{0} e^{L_{0} k_{0}} e^{2 k_{0} \\overline{L_{0}}} \\overline{B_{2}}}{e^{2 L_{0} k_{0}} e^{2 k_{0} x} e^{2 k_{0} \\overline{L_{0}}} - e^{2 L_{0} k_{0}} e^{2 k_{0} x} - e^{2 k_{0} x} e^{2 k_{0} \\overline{L_{0}}} + e^{2 k_{0} x}}\\right)\\, dx + \\int\\limits_{0}^{L_{0}} \\left(- \\frac{B_{2} e^{2 k_{0} x} e^{k_{0} \\overline{L_{0}}} \\overline{B_{0}}}{e^{2 L_{0} k_{0}} e^{2 k_{0} \\overline{L_{0}}} - e^{2 L_{0} k_{0}} - e^{2 k_{0} \\overline{L_{0}}} + 1}\\right)\\, dx + \\int\\limits_{0}^{L_{0}} \\left(- \\frac{B_{2} e^{2 L_{0} k_{0}} e^{k_{0} x} \\overline{B_{2}}}{e^{2 L_{0} k_{0}} e^{k_{0} x} e^{2 k_{0} \\overline{L_{0}}} - e^{2 L_{0} k_{0}} e^{k_{0} x} - e^{k_{0} x} e^{2 k_{0} \\overline{L_{0}}} + e^{k_{0} x}}\\right)\\, dx + \\int\\limits_{0}^{L_{0}} \\frac{B_{2} e^{k_{0} x} e^{k_{0} \\overline{L_{0}}} \\overline{B_{0}}}{e^{2 L_{0} k_{0}} e^{k_{0} x} e^{2 k_{0} \\overline{L_{0}}} - e^{2 L_{0} k_{0}} e^{k_{0} x} - e^{k_{0} x} e^{2 k_{0} \\overline{L_{0}}} + e^{k_{0} x}}\\, dx + \\int\\limits_{0}^{L_{0}} \\left(- \\frac{B_{2} e^{k_{0} x} e^{2 k_{0} \\overline{L_{0}}} \\overline{B_{2}}}{e^{2 L_{0} k_{0}} e^{k_{0} x} e^{2 k_{0} \\overline{L_{0}}} - e^{2 L_{0} k_{0}} e^{k_{0} x} - e^{k_{0} x} e^{2 k_{0} \\overline{L_{0}}} + e^{k_{0} x}}\\right)\\, dx + \\int\\limits_{0}^{L_{0}} \\left(- \\frac{B_{2} e^{2 L_{0} k_{0}} e^{k_{0} \\overline{L_{0}}} \\overline{B_{0}}}{e^{2 L_{0} k_{0}} e^{2 k_{0} x} e^{2 k_{0} \\overline{L_{0}}} - e^{2 L_{0} k_{0}} e^{2 k_{0} x} - e^{2 k_{0} x} e^{2 k_{0} \\overline{L_{0}}} + e^{2 k_{0} x}}\\right)\\, dx + \\int\\limits_{0}^{L_{0}} \\frac{B_{2} e^{2 L_{0} k_{0}} e^{2 k_{0} \\overline{L_{0}}} \\overline{B_{2}}}{e^{2 L_{0} k_{0}} e^{2 k_{0} x} e^{2 k_{0} \\overline{L_{0}}} - e^{2 L_{0} k_{0}} e^{2 k_{0} x} - e^{2 k_{0} x} e^{2 k_{0} \\overline{L_{0}}} + e^{2 k_{0} x}}\\, dx + \\int\\limits_{0}^{L_{0}} \\frac{B_{0} e^{L_{0} k_{0}} e^{2 k_{0} x} e^{k_{0} \\overline{L_{0}}} \\overline{B_{0}}}{e^{2 L_{0} k_{0}} e^{2 k_{0} \\overline{L_{0}}} - e^{2 L_{0} k_{0}} - e^{2 k_{0} \\overline{L_{0}}} + 1}\\, dx + \\int\\limits_{0}^{L_{0}} \\left(- \\frac{2 B_{0} e^{L_{0} k_{0}} e^{k_{0} x} e^{k_{0} \\overline{L_{0}}} \\overline{B_{0}}}{e^{2 L_{0} k_{0}} e^{k_{0} x} e^{2 k_{0} \\overline{L_{0}}} - e^{2 L_{0} k_{0}} e^{k_{0} x} - e^{k_{0} x} e^{2 k_{0} \\overline{L_{0}}} + e^{k_{0} x}}\\right)\\, dx + \\int\\limits_{0}^{L_{0}} \\frac{B_{0} e^{L_{0} k_{0}} e^{k_{0} x} e^{2 k_{0} \\overline{L_{0}}} \\overline{B_{2}}}{e^{2 L_{0} k_{0}} e^{k_{0} x} e^{2 k_{0} \\overline{L_{0}}} - e^{2 L_{0} k_{0}} e^{k_{0} x} - e^{k_{0} x} e^{2 k_{0} \\overline{L_{0}}} + e^{k_{0} x}}\\, dx + \\int\\limits_{0}^{L_{0}} \\frac{B_{2} e^{2 L_{0} k_{0}} e^{k_{0} x} e^{k_{0} \\overline{L_{0}}} \\overline{B_{0}}}{e^{2 L_{0} k_{0}} e^{k_{0} x} e^{2 k_{0} \\overline{L_{0}}} - e^{2 L_{0} k_{0}} e^{k_{0} x} - e^{k_{0} x} e^{2 k_{0} \\overline{L_{0}}} + e^{k_{0} x}}\\, dx = N_{0}$"
      ],
      "text/plain": [
       "Eq(Integral(B_{2}*exp(2*k_0*x)*conjugate(B_{2})/(exp(2*L_0*k_0)*exp(2*k_0*conjugate(L_0)) - exp(2*L_0*k_0) - exp(2*k_0*conjugate(L_0)) + 1), (x, 0, L_0)) + Integral(-B_{0}*exp(L_0*k_0)*exp(2*k_0*x)*conjugate(B_{2})/(exp(2*L_0*k_0)*exp(2*k_0*conjugate(L_0)) - exp(2*L_0*k_0) - exp(2*k_0*conjugate(L_0)) + 1), (x, 0, L_0)) + Integral(B_{0}*exp(L_0*k_0)*exp(k_0*x)*conjugate(B_{2})/(exp(2*L_0*k_0)*exp(k_0*x)*exp(2*k_0*conjugate(L_0)) - exp(2*L_0*k_0)*exp(k_0*x) - exp(k_0*x)*exp(2*k_0*conjugate(L_0)) + exp(k_0*x)), (x, 0, L_0)) + Integral(B_{0}*exp(L_0*k_0)*exp(k_0*conjugate(L_0))*conjugate(B_{0})/(exp(2*L_0*k_0)*exp(2*k_0*x)*exp(2*k_0*conjugate(L_0)) - exp(2*L_0*k_0)*exp(2*k_0*x) - exp(2*k_0*x)*exp(2*k_0*conjugate(L_0)) + exp(2*k_0*x)), (x, 0, L_0)) + Integral(-B_{0}*exp(L_0*k_0)*exp(2*k_0*conjugate(L_0))*conjugate(B_{2})/(exp(2*L_0*k_0)*exp(2*k_0*x)*exp(2*k_0*conjugate(L_0)) - exp(2*L_0*k_0)*exp(2*k_0*x) - exp(2*k_0*x)*exp(2*k_0*conjugate(L_0)) + exp(2*k_0*x)), (x, 0, L_0)) + Integral(-B_{2}*exp(2*k_0*x)*exp(k_0*conjugate(L_0))*conjugate(B_{0})/(exp(2*L_0*k_0)*exp(2*k_0*conjugate(L_0)) - exp(2*L_0*k_0) - exp(2*k_0*conjugate(L_0)) + 1), (x, 0, L_0)) + Integral(-B_{2}*exp(2*L_0*k_0)*exp(k_0*x)*conjugate(B_{2})/(exp(2*L_0*k_0)*exp(k_0*x)*exp(2*k_0*conjugate(L_0)) - exp(2*L_0*k_0)*exp(k_0*x) - exp(k_0*x)*exp(2*k_0*conjugate(L_0)) + exp(k_0*x)), (x, 0, L_0)) + Integral(B_{2}*exp(k_0*x)*exp(k_0*conjugate(L_0))*conjugate(B_{0})/(exp(2*L_0*k_0)*exp(k_0*x)*exp(2*k_0*conjugate(L_0)) - exp(2*L_0*k_0)*exp(k_0*x) - exp(k_0*x)*exp(2*k_0*conjugate(L_0)) + exp(k_0*x)), (x, 0, L_0)) + Integral(-B_{2}*exp(k_0*x)*exp(2*k_0*conjugate(L_0))*conjugate(B_{2})/(exp(2*L_0*k_0)*exp(k_0*x)*exp(2*k_0*conjugate(L_0)) - exp(2*L_0*k_0)*exp(k_0*x) - exp(k_0*x)*exp(2*k_0*conjugate(L_0)) + exp(k_0*x)), (x, 0, L_0)) + Integral(-B_{2}*exp(2*L_0*k_0)*exp(k_0*conjugate(L_0))*conjugate(B_{0})/(exp(2*L_0*k_0)*exp(2*k_0*x)*exp(2*k_0*conjugate(L_0)) - exp(2*L_0*k_0)*exp(2*k_0*x) - exp(2*k_0*x)*exp(2*k_0*conjugate(L_0)) + exp(2*k_0*x)), (x, 0, L_0)) + Integral(B_{2}*exp(2*L_0*k_0)*exp(2*k_0*conjugate(L_0))*conjugate(B_{2})/(exp(2*L_0*k_0)*exp(2*k_0*x)*exp(2*k_0*conjugate(L_0)) - exp(2*L_0*k_0)*exp(2*k_0*x) - exp(2*k_0*x)*exp(2*k_0*conjugate(L_0)) + exp(2*k_0*x)), (x, 0, L_0)) + Integral(B_{0}*exp(L_0*k_0)*exp(2*k_0*x)*exp(k_0*conjugate(L_0))*conjugate(B_{0})/(exp(2*L_0*k_0)*exp(2*k_0*conjugate(L_0)) - exp(2*L_0*k_0) - exp(2*k_0*conjugate(L_0)) + 1), (x, 0, L_0)) + Integral(-2*B_{0}*exp(L_0*k_0)*exp(k_0*x)*exp(k_0*conjugate(L_0))*conjugate(B_{0})/(exp(2*L_0*k_0)*exp(k_0*x)*exp(2*k_0*conjugate(L_0)) - exp(2*L_0*k_0)*exp(k_0*x) - exp(k_0*x)*exp(2*k_0*conjugate(L_0)) + exp(k_0*x)), (x, 0, L_0)) + Integral(B_{0}*exp(L_0*k_0)*exp(k_0*x)*exp(2*k_0*conjugate(L_0))*conjugate(B_{2})/(exp(2*L_0*k_0)*exp(k_0*x)*exp(2*k_0*conjugate(L_0)) - exp(2*L_0*k_0)*exp(k_0*x) - exp(k_0*x)*exp(2*k_0*conjugate(L_0)) + exp(k_0*x)), (x, 0, L_0)) + Integral(B_{2}*exp(2*L_0*k_0)*exp(k_0*x)*exp(k_0*conjugate(L_0))*conjugate(B_{0})/(exp(2*L_0*k_0)*exp(k_0*x)*exp(2*k_0*conjugate(L_0)) - exp(2*L_0*k_0)*exp(k_0*x) - exp(k_0*x)*exp(2*k_0*conjugate(L_0)) + exp(k_0*x)), (x, 0, L_0)), N_{0})"
      ]
     },
     "execution_count": 30,
     "metadata": {},
     "output_type": "execute_result"
    }
   ],
   "source": [
    "test"
   ]
  },
  {
   "cell_type": "code",
   "execution_count": null,
   "id": "11669d9c-f3f7-4374-a605-07c7451ed5c9",
   "metadata": {},
   "outputs": [],
   "source": []
  },
  {
   "cell_type": "code",
   "execution_count": null,
   "id": "e6997138-f66f-4ddc-9dcb-48a8cce9e3a2",
   "metadata": {},
   "outputs": [],
   "source": []
  },
  {
   "cell_type": "code",
   "execution_count": 31,
   "id": "6023ffb4-40cb-48bd-9b2f-f10d3a53f5e6",
   "metadata": {},
   "outputs": [],
   "source": [
    "#with sp.assuming( harmonic_0_assumptions ): \n",
    "#    test = stairwell_solver.normalizations[ 0 ].last_step().expand().simplify()\n",
    "#    test.refine( harmonic_0_assumptions )"
   ]
  },
  {
   "cell_type": "code",
   "execution_count": null,
   "id": "14162c68-b308-4678-acae-8acfe9366d1a",
   "metadata": {},
   "outputs": [],
   "source": []
  },
  {
   "cell_type": "code",
   "execution_count": null,
   "id": "061f7e65-c58b-4869-8919-4639e71d7956",
   "metadata": {},
   "outputs": [],
   "source": []
  },
  {
   "cell_type": "code",
   "execution_count": null,
   "id": "1d608ef3-2b54-489a-9b1e-ef339c5a5407",
   "metadata": {},
   "outputs": [],
   "source": []
  }
 ],
 "metadata": {
  "kernelspec": {
   "display_name": "Python 3 (ipykernel)",
   "language": "python",
   "name": "python3"
  },
  "language_info": {
   "codemirror_mode": {
    "name": "ipython",
    "version": 3
   },
   "file_extension": ".py",
   "mimetype": "text/x-python",
   "name": "python",
   "nbconvert_exporter": "python",
   "pygments_lexer": "ipython3",
   "version": "3.9.10"
  }
 },
 "nbformat": 4,
 "nbformat_minor": 5
}
