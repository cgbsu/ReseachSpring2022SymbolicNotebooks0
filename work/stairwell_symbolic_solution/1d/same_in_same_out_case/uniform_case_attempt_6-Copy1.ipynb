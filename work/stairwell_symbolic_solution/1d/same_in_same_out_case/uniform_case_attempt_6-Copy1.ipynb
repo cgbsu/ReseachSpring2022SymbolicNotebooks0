{
 "cells": [
  {
   "cell_type": "code",
   "execution_count": 1,
   "id": "9da4ca07-5038-40fc-b597-27be53769384",
   "metadata": {},
   "outputs": [],
   "source": [
    "import sympy as sp"
   ]
  },
  {
   "cell_type": "code",
   "execution_count": 2,
   "id": "bbd2fd19-a4e7-44c8-ba72-b83d5ae065ea",
   "metadata": {},
   "outputs": [],
   "source": [
    "import sympy.physics.units.quantities as sq"
   ]
  },
  {
   "cell_type": "code",
   "execution_count": 3,
   "id": "3b8c39ff-3668-4ef3-9add-b334784a3333",
   "metadata": {},
   "outputs": [],
   "source": [
    "from sympy.physics.quantum.constants import hbar"
   ]
  },
  {
   "cell_type": "code",
   "execution_count": null,
   "id": "75e40f13-aa6e-41d1-9ced-7a90df52a98e",
   "metadata": {},
   "outputs": [],
   "source": []
  },
  {
   "cell_type": "code",
   "execution_count": 4,
   "id": "82f14997-b75d-4dd8-baf6-d565f0b12bd1",
   "metadata": {},
   "outputs": [],
   "source": [
    "from custom_libraries.stepper import *"
   ]
  },
  {
   "cell_type": "code",
   "execution_count": 5,
   "id": "100adb60-1868-493c-bbe9-9b2dd1bf5af6",
   "metadata": {},
   "outputs": [],
   "source": [
    "from custom_libraries.schrodinger import *"
   ]
  },
  {
   "cell_type": "code",
   "execution_count": null,
   "id": "95748091-3fe2-45a3-beaa-0e56ac4e61f9",
   "metadata": {},
   "outputs": [],
   "source": []
  },
  {
   "cell_type": "code",
   "execution_count": 6,
   "id": "151680e1-cc8c-4f02-9fbc-32cb1b19f56f",
   "metadata": {},
   "outputs": [],
   "source": [
    "def real_harmonics( _ ):\n",
    "    assumptions = standard_harmonic_assumptions( _ );\n",
    "    assumptions.update( { 'real' : True } )\n",
    "    return assumptions"
   ]
  },
  {
   "cell_type": "code",
   "execution_count": null,
   "id": "20bc043c-2168-45b2-b95d-32fcdb201da9",
   "metadata": {},
   "outputs": [],
   "source": []
  },
  {
   "cell_type": "code",
   "execution_count": 7,
   "id": "8984696f-ac0b-4d68-8f5f-036778be011f",
   "metadata": {},
   "outputs": [],
   "source": [
    "stairwell_solver = TimeIndependentSchrodingerConstantPotentials1D( \n",
    "        StairWell.default_non_uniform_length_potential_table(), \n",
    "        tuple( StairWell.default_non_uniform_length_potential_table().keys() )[ -1 ], \n",
    "        make_psis = make_psi_numbered, \n",
    "        harmonics_assumptions = real_harmonics, \n",
    "        repeating = True, \n",
    "        as_distances = True, \n",
    "        #as_distances = False, \n",
    "        #normalization_conjugate_not_squared_absolute_value = False\n",
    "    )"
   ]
  },
  {
   "cell_type": "code",
   "execution_count": null,
   "id": "2e946e04-0121-448e-8269-4e69ba4e1c28",
   "metadata": {},
   "outputs": [],
   "source": []
  },
  {
   "cell_type": "code",
   "execution_count": 8,
   "id": "bc51b09a-c161-4008-b763-81f71b487841",
   "metadata": {},
   "outputs": [
    {
     "data": {
      "text/latex": [
       "$\\displaystyle - k_{0}^{2} \\psi_{0}{\\left(x \\right)} + \\frac{d^{2}}{d x^{2}} \\psi_{0}{\\left(x \\right)} = 0$"
      ],
      "text/plain": [
       "Eq(-k_0**2*\\psi_{0}(x) + Derivative(\\psi_{0}(x), (x, 2)), 0)"
      ]
     },
     "metadata": {},
     "output_type": "display_data"
    },
    {
     "data": {
      "text/latex": [
       "$\\displaystyle - k_{1}^{2} \\psi_{1}{\\left(x \\right)} + \\frac{d^{2}}{d x^{2}} \\psi_{1}{\\left(x \\right)} = 0$"
      ],
      "text/plain": [
       "Eq(-k_1**2*\\psi_{1}(x) + Derivative(\\psi_{1}(x), (x, 2)), 0)"
      ]
     },
     "metadata": {},
     "output_type": "display_data"
    },
    {
     "data": {
      "text/latex": [
       "$\\displaystyle - k_{2}^{2} \\psi_{2}{\\left(x \\right)} + \\frac{d^{2}}{d x^{2}} \\psi_{2}{\\left(x \\right)} = 0$"
      ],
      "text/plain": [
       "Eq(-k_2**2*\\psi_{2}(x) + Derivative(\\psi_{2}(x), (x, 2)), 0)"
      ]
     },
     "metadata": {},
     "output_type": "display_data"
    }
   ],
   "source": [
    "display_steps( stairwell_solver.equations )"
   ]
  },
  {
   "cell_type": "code",
   "execution_count": null,
   "id": "a0757648-d8b4-4a28-b351-221f4830ff75",
   "metadata": {},
   "outputs": [],
   "source": []
  },
  {
   "cell_type": "code",
   "execution_count": 9,
   "id": "28d85323-24e4-49cb-93e6-54953e6104c7",
   "metadata": {},
   "outputs": [
    {
     "data": {
      "text/latex": [
       "$\\displaystyle k_{0} = \\frac{\\sqrt{2} \\sqrt{- E + V_{0}} \\sqrt{\\text{m}}}{\\hbar}$"
      ],
      "text/plain": [
       "Eq(k_0, sqrt(2)*sqrt(m)*sqrt(-E + V_0)/hbar)"
      ]
     },
     "metadata": {},
     "output_type": "display_data"
    },
    {
     "data": {
      "text/latex": [
       "$\\displaystyle k_{1} = \\frac{\\sqrt{2} \\sqrt{- E + V_{1}} \\sqrt{\\text{m}}}{\\hbar}$"
      ],
      "text/plain": [
       "Eq(k_1, sqrt(2)*sqrt(m)*sqrt(-E + V_1)/hbar)"
      ]
     },
     "metadata": {},
     "output_type": "display_data"
    },
    {
     "data": {
      "text/latex": [
       "$\\displaystyle k_{2} = \\frac{\\sqrt{2} \\sqrt{- E + V_{2}} \\sqrt{\\text{m}}}{\\hbar}$"
      ],
      "text/plain": [
       "Eq(k_2, sqrt(2)*sqrt(m)*sqrt(-E + V_2)/hbar)"
      ]
     },
     "metadata": {},
     "output_type": "display_data"
    }
   ],
   "source": [
    "display_in( stairwell_solver.harmonic_constants )"
   ]
  },
  {
   "cell_type": "code",
   "execution_count": 10,
   "id": "20f53166-87ec-4057-932d-5b0947a3427b",
   "metadata": {},
   "outputs": [
    {
     "data": {
      "text/plain": [
       "{'ContinuityConditions': {\\psi_{0}(L_0): \\psi_{1}(0),\n",
       "  \\psi_{1}(L_1): \\psi_{2}(0)},\n",
       " 'RepeatingPotentialsCondition': {\\psi_{0}(0): \\psi_{2}(L_2)}}"
      ]
     },
     "execution_count": 10,
     "metadata": {},
     "output_type": "execute_result"
    }
   ],
   "source": [
    "stairwell_solver.boundries.boundries"
   ]
  },
  {
   "cell_type": "code",
   "execution_count": 11,
   "id": "9fe5cbdc-ea5a-4ca1-a54f-a70e30069bec",
   "metadata": {},
   "outputs": [
    {
     "data": {
      "text/plain": [
       "{\\psi_{0}(L_0): \\psi_{1}(0), \\psi_{1}(L_1): \\psi_{2}(0)}"
      ]
     },
     "execution_count": 11,
     "metadata": {},
     "output_type": "execute_result"
    }
   ],
   "source": [
    "stairwell_solver.boundries.ContinuityConditions"
   ]
  },
  {
   "cell_type": "code",
   "execution_count": null,
   "id": "1cee42e4-0490-4850-b52f-3b6b9547e3f1",
   "metadata": {},
   "outputs": [],
   "source": []
  },
  {
   "cell_type": "code",
   "execution_count": 12,
   "id": "d78132f8-2d0a-438c-a94d-3c5d1b79786d",
   "metadata": {},
   "outputs": [
    {
     "data": {
      "text/plain": [
       "{\\psi_{0}(0): \\psi_{2}(L_2)}"
      ]
     },
     "execution_count": 12,
     "metadata": {},
     "output_type": "execute_result"
    }
   ],
   "source": [
    "stairwell_solver.boundries.RepeatingPotentialsCondition"
   ]
  },
  {
   "cell_type": "code",
   "execution_count": null,
   "id": "519623f3-e044-4ce4-89ce-0bf045971c69",
   "metadata": {},
   "outputs": [],
   "source": []
  },
  {
   "cell_type": "code",
   "execution_count": 13,
   "id": "bad0d660-061c-4402-af40-79303da747d0",
   "metadata": {},
   "outputs": [
    {
     "data": {
      "text/plain": [
       "('LastUpdatedAllBoundryConditions',\n",
       " {\\psi_{0}(L_0): \\psi_{1}(0),\n",
       "  \\psi_{1}(L_1): \\psi_{2}(0),\n",
       "  \\psi_{0}(0): \\psi_{2}(L_2)})"
      ]
     },
     "execution_count": 13,
     "metadata": {},
     "output_type": "execute_result"
    }
   ],
   "source": [
    "stairwell_solver.boundries.update_all_boundry_conditions()"
   ]
  },
  {
   "cell_type": "code",
   "execution_count": 14,
   "id": "4b7fbdf2-6c1c-4e13-bd4d-a8a90fbb6f43",
   "metadata": {},
   "outputs": [
    {
     "data": {
      "text/plain": [
       "[\\psi_{0}(L_0), \\psi_{1}(L_1), \\psi_{0}(0)]"
      ]
     },
     "execution_count": 14,
     "metadata": {},
     "output_type": "execute_result"
    }
   ],
   "source": [
    "list( stairwell_solver.boundries.update_all_boundry_conditions()[ 1 ].keys() )"
   ]
  },
  {
   "cell_type": "code",
   "execution_count": 15,
   "id": "03f1960a-88b6-4ef2-9101-fb89a936000a",
   "metadata": {},
   "outputs": [
    {
     "data": {
      "text/plain": [
       "'ContinuityConditions'"
      ]
     },
     "metadata": {},
     "output_type": "display_data"
    },
    {
     "data": {
      "text/latex": [
       "$\\displaystyle \\psi_{0}{\\left(L_{0} \\right)} = \\psi_{1}{\\left(0 \\right)}$"
      ],
      "text/plain": [
       "Eq(\\psi_{0}(L_0), \\psi_{1}(0))"
      ]
     },
     "metadata": {},
     "output_type": "display_data"
    },
    {
     "data": {
      "text/latex": [
       "$\\displaystyle \\psi_{1}{\\left(L_{1} \\right)} = \\psi_{2}{\\left(0 \\right)}$"
      ],
      "text/plain": [
       "Eq(\\psi_{1}(L_1), \\psi_{2}(0))"
      ]
     },
     "metadata": {},
     "output_type": "display_data"
    },
    {
     "data": {
      "text/plain": [
       "'RepeatingPotentialsCondition'"
      ]
     },
     "metadata": {},
     "output_type": "display_data"
    },
    {
     "data": {
      "text/latex": [
       "$\\displaystyle \\psi_{0}{\\left(0 \\right)} = \\psi_{2}{\\left(L_{2} \\right)}$"
      ],
      "text/plain": [
       "Eq(\\psi_{0}(0), \\psi_{2}(L_2))"
      ]
     },
     "metadata": {},
     "output_type": "display_data"
    },
    {
     "data": {
      "text/plain": [
       "'LastUpdatedAllBoundryConditions'"
      ]
     },
     "metadata": {},
     "output_type": "display_data"
    },
    {
     "data": {
      "text/latex": [
       "$\\displaystyle \\psi_{0}{\\left(L_{0} \\right)} = \\psi_{1}{\\left(0 \\right)}$"
      ],
      "text/plain": [
       "Eq(\\psi_{0}(L_0), \\psi_{1}(0))"
      ]
     },
     "metadata": {},
     "output_type": "display_data"
    },
    {
     "data": {
      "text/latex": [
       "$\\displaystyle \\psi_{1}{\\left(L_{1} \\right)} = \\psi_{2}{\\left(0 \\right)}$"
      ],
      "text/plain": [
       "Eq(\\psi_{1}(L_1), \\psi_{2}(0))"
      ]
     },
     "metadata": {},
     "output_type": "display_data"
    },
    {
     "data": {
      "text/latex": [
       "$\\displaystyle \\psi_{0}{\\left(0 \\right)} = \\psi_{2}{\\left(L_{2} \\right)}$"
      ],
      "text/plain": [
       "Eq(\\psi_{0}(0), \\psi_{2}(L_2))"
      ]
     },
     "metadata": {},
     "output_type": "display_data"
    }
   ],
   "source": [
    "stairwell_solver.boundries.display()"
   ]
  },
  {
   "cell_type": "code",
   "execution_count": null,
   "id": "3fc0fbd1-a832-4ef7-803b-814812d18099",
   "metadata": {},
   "outputs": [],
   "source": []
  },
  {
   "cell_type": "code",
   "execution_count": 16,
   "id": "0f4574ca-54c8-4820-9212-d94622eab763",
   "metadata": {
    "tags": []
   },
   "outputs": [],
   "source": [
    "solutions = stairwell_solver.solve_odes()"
   ]
  },
  {
   "cell_type": "code",
   "execution_count": null,
   "id": "f1a5e157-8b2f-4d4f-bb64-268ebfba1344",
   "metadata": {},
   "outputs": [],
   "source": []
  },
  {
   "cell_type": "code",
   "execution_count": 17,
   "id": "906f8879-c568-484d-b095-81bbdaf9fce3",
   "metadata": {},
   "outputs": [
    {
     "data": {
      "text/latex": [
       "$\\displaystyle \\psi_{0}{\\left(x \\right)} = \\frac{\\left(- \\psi_{1}{\\left(0 \\right)} e^{L_{0} k_{0}} + \\psi_{2}{\\left(L_{2} \\right)} e^{2 L_{0} k_{0}}\\right) e^{- k_{0} x}}{e^{2 L_{0} k_{0}} - 1} + \\frac{\\left(\\psi_{1}{\\left(0 \\right)} e^{L_{0} k_{0}} - \\psi_{2}{\\left(L_{2} \\right)}\\right) e^{k_{0} x}}{e^{2 L_{0} k_{0}} - 1}$"
      ],
      "text/plain": [
       "Eq(\\psi_{0}(x), (-\\psi_{1}(0)*exp(L_0*k_0) + \\psi_{2}(L_2)*exp(2*L_0*k_0))*exp(-k_0*x)/(exp(2*L_0*k_0) - 1) + (\\psi_{1}(0)*exp(L_0*k_0) - \\psi_{2}(L_2))*exp(k_0*x)/(exp(2*L_0*k_0) - 1))"
      ]
     },
     "metadata": {},
     "output_type": "display_data"
    },
    {
     "data": {
      "text/latex": [
       "$\\displaystyle \\psi_{1}{\\left(x \\right)} = \\frac{\\left(\\psi_{0}{\\left(L_{0} \\right)} e^{2 L_{1} k_{1}} - \\psi_{2}{\\left(0 \\right)} e^{L_{1} k_{1}}\\right) e^{- k_{1} x}}{e^{2 L_{1} k_{1}} - 1} + \\frac{\\left(- \\psi_{0}{\\left(L_{0} \\right)} + \\psi_{2}{\\left(0 \\right)} e^{L_{1} k_{1}}\\right) e^{k_{1} x}}{e^{2 L_{1} k_{1}} - 1}$"
      ],
      "text/plain": [
       "Eq(\\psi_{1}(x), (\\psi_{0}(L_0)*exp(2*L_1*k_1) - \\psi_{2}(0)*exp(L_1*k_1))*exp(-k_1*x)/(exp(2*L_1*k_1) - 1) + (-\\psi_{0}(L_0) + \\psi_{2}(0)*exp(L_1*k_1))*exp(k_1*x)/(exp(2*L_1*k_1) - 1))"
      ]
     },
     "metadata": {},
     "output_type": "display_data"
    },
    {
     "data": {
      "text/latex": [
       "$\\displaystyle \\psi_{2}{\\left(x \\right)} = \\frac{\\left(- \\psi_{0}{\\left(0 \\right)} e^{L_{2} k_{2}} + \\psi_{1}{\\left(L_{1} \\right)} e^{2 L_{2} k_{2}}\\right) e^{- k_{2} x}}{e^{2 L_{2} k_{2}} - 1} + \\frac{\\left(\\psi_{0}{\\left(0 \\right)} e^{L_{2} k_{2}} - \\psi_{1}{\\left(L_{1} \\right)}\\right) e^{k_{2} x}}{e^{2 L_{2} k_{2}} - 1}$"
      ],
      "text/plain": [
       "Eq(\\psi_{2}(x), (-\\psi_{0}(0)*exp(L_2*k_2) + \\psi_{1}(L_1)*exp(2*L_2*k_2))*exp(-k_2*x)/(exp(2*L_2*k_2) - 1) + (\\psi_{0}(0)*exp(L_2*k_2) - \\psi_{1}(L_1))*exp(k_2*x)/(exp(2*L_2*k_2) - 1))"
      ]
     },
     "metadata": {},
     "output_type": "display_data"
    }
   ],
   "source": [
    "display_in( solutions )"
   ]
  },
  {
   "cell_type": "code",
   "execution_count": null,
   "id": "84e87233-5ba7-4cb7-a3f7-370403e55bb0",
   "metadata": {},
   "outputs": [],
   "source": []
  },
  {
   "cell_type": "code",
   "execution_count": 18,
   "id": "e0ca1cc1-1b0f-4d1b-a646-1cce6caf6eed",
   "metadata": {},
   "outputs": [
    {
     "data": {
      "text/plain": [
       "[<custom_libraries.stepper.Stepper at 0x7fc6736672b0>,\n",
       " <custom_libraries.stepper.Stepper at 0x7fc673667250>,\n",
       " <custom_libraries.stepper.Stepper at 0x7fc673667b20>]"
      ]
     },
     "execution_count": 18,
     "metadata": {},
     "output_type": "execute_result"
    }
   ],
   "source": [
    "stairwell_solver.substitute_wave_functions_into_normalizations()"
   ]
  },
  {
   "cell_type": "code",
   "execution_count": 19,
   "id": "ca842015-740c-4620-be56-3d5b61b0a685",
   "metadata": {},
   "outputs": [
    {
     "data": {
      "text/plain": [
       "([<custom_libraries.stepper.Stepper at 0x7fc673642eb0>,\n",
       "  <custom_libraries.stepper.Stepper at 0x7fc673694ac0>,\n",
       "  <custom_libraries.stepper.Stepper at 0x7fc673633f10>],\n",
       " [<custom_libraries.stepper.Stepper at 0x7fc6736672b0>,\n",
       "  <custom_libraries.stepper.Stepper at 0x7fc673667250>,\n",
       "  <custom_libraries.stepper.Stepper at 0x7fc673667b20>],\n",
       " {'Before': [['TimeIndependentSchrodingerConstantPotentials1DCheckPointBeforeBoundryToConstantSubstitution105',\n",
       "    'TimeIndependentSchrodingerConstantPotentials1DCheckPointBeforeBoundryToConstantSubstitution105',\n",
       "    'TimeIndependentSchrodingerConstantPotentials1DCheckPointBeforeBoundryToConstantSubstitution105'],\n",
       "   ['TimeIndependentSchrodingerConstantPotentials1DCheckPointBeforeBoundryToConstantSubstitution105',\n",
       "    'TimeIndependentSchrodingerConstantPotentials1DCheckPointBeforeBoundryToConstantSubstitution105',\n",
       "    'TimeIndependentSchrodingerConstantPotentials1DCheckPointBeforeBoundryToConstantSubstitution105']],\n",
       "  'Post': [['TimeIndependentSchrodingerConstantPotentials1DCheckPointPostBoundryToConstantSubstitution112',\n",
       "    'TimeIndependentSchrodingerConstantPotentials1DCheckPointPostBoundryToConstantSubstitution112',\n",
       "    'TimeIndependentSchrodingerConstantPotentials1DCheckPointPostBoundryToConstantSubstitution112'],\n",
       "   ['TimeIndependentSchrodingerConstantPotentials1DCheckPointPostBoundryToConstantSubstitution112',\n",
       "    'TimeIndependentSchrodingerConstantPotentials1DCheckPointPostBoundryToConstantSubstitution112',\n",
       "    'TimeIndependentSchrodingerConstantPotentials1DCheckPointPostBoundryToConstantSubstitution112']]})"
      ]
     },
     "execution_count": 19,
     "metadata": {},
     "output_type": "execute_result"
    }
   ],
   "source": [
    "stairwell_solver.boundries_in_expression_to_constants()"
   ]
  },
  {
   "cell_type": "code",
   "execution_count": 20,
   "id": "f398e39e-055e-4981-9740-8513148b9789",
   "metadata": {},
   "outputs": [
    {
     "data": {
      "text/latex": [
       "$\\displaystyle \\psi_{0}{\\left(x \\right)} = \\frac{\\left(- B_{0} e^{L_{0} k_{0}} + B_{2} e^{2 L_{0} k_{0}}\\right) e^{- k_{0} x}}{e^{2 L_{0} k_{0}} - 1} + \\frac{\\left(B_{0} e^{L_{0} k_{0}} - B_{2}\\right) e^{k_{0} x}}{e^{2 L_{0} k_{0}} - 1}$"
      ],
      "text/plain": [
       "Eq(\\psi_{0}(x), (-B_{0}*exp(L_0*k_0) + B_{2}*exp(2*L_0*k_0))*exp(-k_0*x)/(exp(2*L_0*k_0) - 1) + (B_{0}*exp(L_0*k_0) - B_{2})*exp(k_0*x)/(exp(2*L_0*k_0) - 1))"
      ]
     },
     "metadata": {},
     "output_type": "display_data"
    },
    {
     "data": {
      "text/latex": [
       "$\\displaystyle \\psi_{1}{\\left(x \\right)} = \\frac{\\left(- B_{0} + B_{1} e^{L_{1} k_{1}}\\right) e^{k_{1} x}}{e^{2 L_{1} k_{1}} - 1} + \\frac{\\left(B_{0} e^{2 L_{1} k_{1}} - B_{1} e^{L_{1} k_{1}}\\right) e^{- k_{1} x}}{e^{2 L_{1} k_{1}} - 1}$"
      ],
      "text/plain": [
       "Eq(\\psi_{1}(x), (-B_{0} + B_{1}*exp(L_1*k_1))*exp(k_1*x)/(exp(2*L_1*k_1) - 1) + (B_{0}*exp(2*L_1*k_1) - B_{1}*exp(L_1*k_1))*exp(-k_1*x)/(exp(2*L_1*k_1) - 1))"
      ]
     },
     "metadata": {},
     "output_type": "display_data"
    },
    {
     "data": {
      "text/latex": [
       "$\\displaystyle \\psi_{2}{\\left(x \\right)} = \\frac{\\left(- B_{1} + B_{2} e^{L_{2} k_{2}}\\right) e^{k_{2} x}}{e^{2 L_{2} k_{2}} - 1} + \\frac{\\left(B_{1} e^{2 L_{2} k_{2}} - B_{2} e^{L_{2} k_{2}}\\right) e^{- k_{2} x}}{e^{2 L_{2} k_{2}} - 1}$"
      ],
      "text/plain": [
       "Eq(\\psi_{2}(x), (-B_{1} + B_{2}*exp(L_2*k_2))*exp(k_2*x)/(exp(2*L_2*k_2) - 1) + (B_{1}*exp(2*L_2*k_2) - B_{2}*exp(L_2*k_2))*exp(-k_2*x)/(exp(2*L_2*k_2) - 1))"
      ]
     },
     "metadata": {},
     "output_type": "display_data"
    }
   ],
   "source": [
    "display_steps( stairwell_solver.equations )"
   ]
  },
  {
   "cell_type": "code",
   "execution_count": null,
   "id": "7ea23960-ba86-43bc-a99c-5e774c324bfa",
   "metadata": {},
   "outputs": [],
   "source": []
  },
  {
   "cell_type": "code",
   "execution_count": 21,
   "id": "1bf6f05f-281a-43cb-a04a-9083533ab05b",
   "metadata": {},
   "outputs": [
    {
     "data": {
      "text/latex": [
       "$\\displaystyle \\int\\limits_{0}^{L_{0}} \\left(\\frac{\\left(- B_{0} e^{L_{0} k_{0}} + B_{2} e^{2 L_{0} k_{0}}\\right) e^{- k_{0} x}}{e^{2 L_{0} k_{0}} - 1} + \\frac{\\left(B_{0} e^{L_{0} k_{0}} - B_{2}\\right) e^{k_{0} x}}{e^{2 L_{0} k_{0}} - 1}\\right) \\left(\\frac{\\left(e^{L_{0} k_{0}} \\overline{B_{0}} - \\overline{B_{2}}\\right) e^{k_{0} x}}{e^{2 L_{0} k_{0}} - 1} + \\frac{\\left(e^{2 L_{0} k_{0}} \\overline{B_{2}} - e^{L_{0} k_{0}} \\overline{B_{0}}\\right) e^{- k_{0} x}}{e^{2 L_{0} k_{0}} - 1}\\right)\\, dx = N_{0}$"
      ],
      "text/plain": [
       "Eq(Integral(((-B_{0}*exp(L_0*k_0) + B_{2}*exp(2*L_0*k_0))*exp(-k_0*x)/(exp(2*L_0*k_0) - 1) + (B_{0}*exp(L_0*k_0) - B_{2})*exp(k_0*x)/(exp(2*L_0*k_0) - 1))*((exp(L_0*k_0)*conjugate(B_{0}) - conjugate(B_{2}))*exp(k_0*x)/(exp(2*L_0*k_0) - 1) + (exp(2*L_0*k_0)*conjugate(B_{2}) - exp(L_0*k_0)*conjugate(B_{0}))*exp(-k_0*x)/(exp(2*L_0*k_0) - 1)), (x, 0, L_0)), N_0)"
      ]
     },
     "metadata": {},
     "output_type": "display_data"
    },
    {
     "data": {
      "text/latex": [
       "$\\displaystyle \\int\\limits_{0}^{L_{1}} \\left(\\frac{\\left(- B_{0} + B_{1} e^{L_{1} k_{1}}\\right) e^{k_{1} x}}{e^{2 L_{1} k_{1}} - 1} + \\frac{\\left(B_{0} e^{2 L_{1} k_{1}} - B_{1} e^{L_{1} k_{1}}\\right) e^{- k_{1} x}}{e^{2 L_{1} k_{1}} - 1}\\right) \\left(\\frac{\\left(e^{L_{1} k_{1}} \\overline{B_{1}} - \\overline{B_{0}}\\right) e^{k_{1} x}}{e^{2 L_{1} k_{1}} - 1} + \\frac{\\left(e^{2 L_{1} k_{1}} \\overline{B_{0}} - e^{L_{1} k_{1}} \\overline{B_{1}}\\right) e^{- k_{1} x}}{e^{2 L_{1} k_{1}} - 1}\\right)\\, dx = N_{1}$"
      ],
      "text/plain": [
       "Eq(Integral(((-B_{0} + B_{1}*exp(L_1*k_1))*exp(k_1*x)/(exp(2*L_1*k_1) - 1) + (B_{0}*exp(2*L_1*k_1) - B_{1}*exp(L_1*k_1))*exp(-k_1*x)/(exp(2*L_1*k_1) - 1))*((exp(L_1*k_1)*conjugate(B_{1}) - conjugate(B_{0}))*exp(k_1*x)/(exp(2*L_1*k_1) - 1) + (exp(2*L_1*k_1)*conjugate(B_{0}) - exp(L_1*k_1)*conjugate(B_{1}))*exp(-k_1*x)/(exp(2*L_1*k_1) - 1)), (x, 0, L_1)), N_1)"
      ]
     },
     "metadata": {},
     "output_type": "display_data"
    },
    {
     "data": {
      "text/latex": [
       "$\\displaystyle \\int\\limits_{0}^{L_{2}} \\left(\\frac{\\left(- B_{1} + B_{2} e^{L_{2} k_{2}}\\right) e^{k_{2} x}}{e^{2 L_{2} k_{2}} - 1} + \\frac{\\left(B_{1} e^{2 L_{2} k_{2}} - B_{2} e^{L_{2} k_{2}}\\right) e^{- k_{2} x}}{e^{2 L_{2} k_{2}} - 1}\\right) \\left(\\frac{\\left(e^{L_{2} k_{2}} \\overline{B_{2}} - \\overline{B_{1}}\\right) e^{k_{2} x}}{e^{2 L_{2} k_{2}} - 1} + \\frac{\\left(e^{2 L_{2} k_{2}} \\overline{B_{1}} - e^{L_{2} k_{2}} \\overline{B_{2}}\\right) e^{- k_{2} x}}{e^{2 L_{2} k_{2}} - 1}\\right)\\, dx = N_{2}$"
      ],
      "text/plain": [
       "Eq(Integral(((-B_{1} + B_{2}*exp(L_2*k_2))*exp(k_2*x)/(exp(2*L_2*k_2) - 1) + (B_{1}*exp(2*L_2*k_2) - B_{2}*exp(L_2*k_2))*exp(-k_2*x)/(exp(2*L_2*k_2) - 1))*((exp(L_2*k_2)*conjugate(B_{2}) - conjugate(B_{1}))*exp(k_2*x)/(exp(2*L_2*k_2) - 1) + (exp(2*L_2*k_2)*conjugate(B_{1}) - exp(L_2*k_2)*conjugate(B_{2}))*exp(-k_2*x)/(exp(2*L_2*k_2) - 1)), (x, 0, L_2)), N_2)"
      ]
     },
     "metadata": {},
     "output_type": "display_data"
    }
   ],
   "source": [
    "display_steps( stairwell_solver.normalizations )"
   ]
  },
  {
   "cell_type": "code",
   "execution_count": null,
   "id": "f2fc26d5-b90e-4238-ad46-75f0fb1d40a9",
   "metadata": {},
   "outputs": [],
   "source": []
  },
  {
   "cell_type": "code",
   "execution_count": 22,
   "id": "61c3e519-2b4c-44fb-b3fa-798b27962863",
   "metadata": {},
   "outputs": [],
   "source": [
    "display_table = lambda table : [ ( display( key ), display_steps( table[ key ] ) ) for key in table ]"
   ]
  },
  {
   "cell_type": "code",
   "execution_count": null,
   "id": "d692aa09-c51b-4ad8-a453-3d0e36408850",
   "metadata": {},
   "outputs": [],
   "source": []
  },
  {
   "cell_type": "code",
   "execution_count": 23,
   "id": "bac4dacf-67ea-4abb-952a-a566386b0bb7",
   "metadata": {},
   "outputs": [
    {
     "data": {
      "text/latex": [
       "$\\displaystyle N_{0} = \\int\\limits_{0}^{L_{0}} \\left(\\frac{\\left(- B_{0} e^{L_{0} k_{0}} + B_{2} e^{2 L_{0} k_{0}}\\right) e^{- k_{0} x}}{e^{2 L_{0} k_{0}} - 1} + \\frac{\\left(B_{0} e^{L_{0} k_{0}} - B_{2}\\right) e^{k_{0} x}}{e^{2 L_{0} k_{0}} - 1}\\right) \\left(\\frac{\\left(e^{L_{0} k_{0}} \\overline{B_{0}} - \\overline{B_{2}}\\right) e^{k_{0} x}}{e^{2 L_{0} k_{0}} - 1} + \\frac{\\left(e^{2 L_{0} k_{0}} \\overline{B_{2}} - e^{L_{0} k_{0}} \\overline{B_{0}}\\right) e^{- k_{0} x}}{e^{2 L_{0} k_{0}} - 1}\\right)\\, dx$"
      ],
      "text/plain": [
       "Eq(N_0, Integral(((-B_{0}*exp(L_0*k_0) + B_{2}*exp(2*L_0*k_0))*exp(-k_0*x)/(exp(2*L_0*k_0) - 1) + (B_{0}*exp(L_0*k_0) - B_{2})*exp(k_0*x)/(exp(2*L_0*k_0) - 1))*((exp(L_0*k_0)*conjugate(B_{0}) - conjugate(B_{2}))*exp(k_0*x)/(exp(2*L_0*k_0) - 1) + (exp(2*L_0*k_0)*conjugate(B_{2}) - exp(L_0*k_0)*conjugate(B_{0}))*exp(-k_0*x)/(exp(2*L_0*k_0) - 1)), (x, 0, L_0)))"
      ]
     },
     "execution_count": 23,
     "metadata": {},
     "output_type": "execute_result"
    }
   ],
   "source": [
    "stairwell_solver.normalizations[ 0 ].last_step().simplify()"
   ]
  },
  {
   "cell_type": "code",
   "execution_count": null,
   "id": "8590e5d5-60b7-412b-8a69-3062f1523db4",
   "metadata": {},
   "outputs": [],
   "source": []
  },
  {
   "cell_type": "code",
   "execution_count": 24,
   "id": "1bb4830a-944a-470e-b6b2-a65bcc22fa6d",
   "metadata": {},
   "outputs": [
    {
     "name": "stdout",
     "output_type": "stream",
     "text": [
      "Has  B_{0}\n",
      "Solutions:  [Piecewise(((2*B_{2}*(L_0*k_0*exp(2*L_0*k_0) + L_0*k_0 - exp(2*L_0*k_0) + 1)*exp(L_0*k_0) - (1 - exp(L_0*k_0))*(exp(L_0*k_0) + 1)*sqrt(4*B_{2}**2*L_0**2*k_0**2*exp(2*L_0*k_0) - B_{2}**2*exp(4*L_0*k_0) + 2*B_{2}**2*exp(2*L_0*k_0) - B_{2}**2 - 8*L_0*N_0*k_0**2*exp(2*L_0*k_0) + 2*N_0*k_0*exp(4*L_0*k_0) - 2*N_0*k_0))/(4*L_0*k_0*exp(2*L_0*k_0) - exp(4*L_0*k_0) + 1), Ne(2*k_0*(exp(4*L_0*k_0) - 2*exp(2*L_0*k_0) + 1), 0)), (nan, True)), Piecewise(((2*B_{2}*(L_0*k_0*exp(2*L_0*k_0) + L_0*k_0 - exp(2*L_0*k_0) + 1)*exp(L_0*k_0) + (1 - exp(L_0*k_0))*(exp(L_0*k_0) + 1)*sqrt(4*B_{2}**2*L_0**2*k_0**2*exp(2*L_0*k_0) - B_{2}**2*exp(4*L_0*k_0) + 2*B_{2}**2*exp(2*L_0*k_0) - B_{2}**2 - 8*L_0*N_0*k_0**2*exp(2*L_0*k_0) + 2*N_0*k_0*exp(4*L_0*k_0) - 2*N_0*k_0))/(4*L_0*k_0*exp(2*L_0*k_0) - exp(4*L_0*k_0) + 1), Ne(2*k_0*(exp(4*L_0*k_0) - 2*exp(2*L_0*k_0) + 1), 0)), (nan, True))]\n"
     ]
    },
    {
     "data": {
      "text/latex": [
       "$\\displaystyle B_{0}$"
      ],
      "text/plain": [
       "B_{0}"
      ]
     },
     "metadata": {},
     "output_type": "display_data"
    },
    {
     "name": "stdout",
     "output_type": "stream",
     "text": [
      "I have sols!\n"
     ]
    },
    {
     "data": {
      "text/latex": [
       "$\\displaystyle \\begin{cases} \\frac{2 B_{2} \\left(L_{0} k_{0} e^{2 L_{0} k_{0}} + L_{0} k_{0} - e^{2 L_{0} k_{0}} + 1\\right) e^{L_{0} k_{0}} - \\left(1 - e^{L_{0} k_{0}}\\right) \\left(e^{L_{0} k_{0}} + 1\\right) \\sqrt{4 B_{2}^{2} L_{0}^{2} k_{0}^{2} e^{2 L_{0} k_{0}} - B_{2}^{2} e^{4 L_{0} k_{0}} + 2 B_{2}^{2} e^{2 L_{0} k_{0}} - B_{2}^{2} - 8 L_{0} N_{0} k_{0}^{2} e^{2 L_{0} k_{0}} + 2 N_{0} k_{0} e^{4 L_{0} k_{0}} - 2 N_{0} k_{0}}}{4 L_{0} k_{0} e^{2 L_{0} k_{0}} - e^{4 L_{0} k_{0}} + 1} & \\text{for}\\: 2 k_{0} \\left(e^{4 L_{0} k_{0}} - 2 e^{2 L_{0} k_{0}} + 1\\right) \\neq 0 \\\\\\text{NaN} & \\text{otherwise} \\end{cases}$"
      ],
      "text/plain": [
       "Piecewise(((2*B_{2}*(L_0*k_0*exp(2*L_0*k_0) + L_0*k_0 - exp(2*L_0*k_0) + 1)*exp(L_0*k_0) - (1 - exp(L_0*k_0))*(exp(L_0*k_0) + 1)*sqrt(4*B_{2}**2*L_0**2*k_0**2*exp(2*L_0*k_0) - B_{2}**2*exp(4*L_0*k_0) + 2*B_{2}**2*exp(2*L_0*k_0) - B_{2}**2 - 8*L_0*N_0*k_0**2*exp(2*L_0*k_0) + 2*N_0*k_0*exp(4*L_0*k_0) - 2*N_0*k_0))/(4*L_0*k_0*exp(2*L_0*k_0) - exp(4*L_0*k_0) + 1), Ne(2*k_0*(exp(4*L_0*k_0) - 2*exp(2*L_0*k_0) + 1), 0)), (nan, True))"
      ]
     },
     "metadata": {},
     "output_type": "display_data"
    },
    {
     "data": {
      "text/latex": [
       "$\\displaystyle \\begin{cases} \\frac{2 B_{2} \\left(L_{0} k_{0} e^{2 L_{0} k_{0}} + L_{0} k_{0} - e^{2 L_{0} k_{0}} + 1\\right) e^{L_{0} k_{0}} + \\left(1 - e^{L_{0} k_{0}}\\right) \\left(e^{L_{0} k_{0}} + 1\\right) \\sqrt{4 B_{2}^{2} L_{0}^{2} k_{0}^{2} e^{2 L_{0} k_{0}} - B_{2}^{2} e^{4 L_{0} k_{0}} + 2 B_{2}^{2} e^{2 L_{0} k_{0}} - B_{2}^{2} - 8 L_{0} N_{0} k_{0}^{2} e^{2 L_{0} k_{0}} + 2 N_{0} k_{0} e^{4 L_{0} k_{0}} - 2 N_{0} k_{0}}}{4 L_{0} k_{0} e^{2 L_{0} k_{0}} - e^{4 L_{0} k_{0}} + 1} & \\text{for}\\: 2 k_{0} \\left(e^{4 L_{0} k_{0}} - 2 e^{2 L_{0} k_{0}} + 1\\right) \\neq 0 \\\\\\text{NaN} & \\text{otherwise} \\end{cases}$"
      ],
      "text/plain": [
       "Piecewise(((2*B_{2}*(L_0*k_0*exp(2*L_0*k_0) + L_0*k_0 - exp(2*L_0*k_0) + 1)*exp(L_0*k_0) + (1 - exp(L_0*k_0))*(exp(L_0*k_0) + 1)*sqrt(4*B_{2}**2*L_0**2*k_0**2*exp(2*L_0*k_0) - B_{2}**2*exp(4*L_0*k_0) + 2*B_{2}**2*exp(2*L_0*k_0) - B_{2}**2 - 8*L_0*N_0*k_0**2*exp(2*L_0*k_0) + 2*N_0*k_0*exp(4*L_0*k_0) - 2*N_0*k_0))/(4*L_0*k_0*exp(2*L_0*k_0) - exp(4*L_0*k_0) + 1), Ne(2*k_0*(exp(4*L_0*k_0) - 2*exp(2*L_0*k_0) + 1), 0)), (nan, True))"
      ]
     },
     "metadata": {},
     "output_type": "display_data"
    },
    {
     "name": "stdout",
     "output_type": "stream",
     "text": [
      "Solved for  B_{0}\n"
     ]
    }
   ],
   "source": [
    "auto_solved = {}\n",
    "auto_solved[ 0 ] = stairwell_solver.solve_boundry_constants_from_equation( stairwell_solver.normalizations[ 0 ] )"
   ]
  },
  {
   "cell_type": "code",
   "execution_count": 25,
   "id": "7aaaaa91-91e0-4bc5-a298-bd97dd460a91",
   "metadata": {},
   "outputs": [
    {
     "data": {
      "text/latex": [
       "$\\displaystyle B_{0}$"
      ],
      "text/plain": [
       "B_{0}"
      ]
     },
     "metadata": {},
     "output_type": "display_data"
    },
    {
     "data": {
      "text/latex": [
       "$\\displaystyle \\begin{cases} \\frac{2 B_{2} \\left(L_{0} k_{0} e^{2 L_{0} k_{0}} + L_{0} k_{0} - e^{2 L_{0} k_{0}} + 1\\right) e^{L_{0} k_{0}} - \\left(1 - e^{L_{0} k_{0}}\\right) \\left(e^{L_{0} k_{0}} + 1\\right) \\sqrt{4 B_{2}^{2} L_{0}^{2} k_{0}^{2} e^{2 L_{0} k_{0}} - B_{2}^{2} e^{4 L_{0} k_{0}} + 2 B_{2}^{2} e^{2 L_{0} k_{0}} - B_{2}^{2} - 8 L_{0} N_{0} k_{0}^{2} e^{2 L_{0} k_{0}} + 2 N_{0} k_{0} e^{4 L_{0} k_{0}} - 2 N_{0} k_{0}}}{4 L_{0} k_{0} e^{2 L_{0} k_{0}} - e^{4 L_{0} k_{0}} + 1} & \\text{for}\\: 2 k_{0} \\left(e^{4 L_{0} k_{0}} - 2 e^{2 L_{0} k_{0}} + 1\\right) \\neq 0 \\\\\\text{NaN} & \\text{otherwise} \\end{cases}$"
      ],
      "text/plain": [
       "Piecewise(((2*B_{2}*(L_0*k_0*exp(2*L_0*k_0) + L_0*k_0 - exp(2*L_0*k_0) + 1)*exp(L_0*k_0) - (1 - exp(L_0*k_0))*(exp(L_0*k_0) + 1)*sqrt(4*B_{2}**2*L_0**2*k_0**2*exp(2*L_0*k_0) - B_{2}**2*exp(4*L_0*k_0) + 2*B_{2}**2*exp(2*L_0*k_0) - B_{2}**2 - 8*L_0*N_0*k_0**2*exp(2*L_0*k_0) + 2*N_0*k_0*exp(4*L_0*k_0) - 2*N_0*k_0))/(4*L_0*k_0*exp(2*L_0*k_0) - exp(4*L_0*k_0) + 1), Ne(2*k_0*(exp(4*L_0*k_0) - 2*exp(2*L_0*k_0) + 1), 0)), (nan, True))"
      ]
     },
     "metadata": {},
     "output_type": "display_data"
    },
    {
     "data": {
      "text/latex": [
       "$\\displaystyle \\begin{cases} \\frac{2 B_{2} \\left(L_{0} k_{0} e^{2 L_{0} k_{0}} + L_{0} k_{0} - e^{2 L_{0} k_{0}} + 1\\right) e^{L_{0} k_{0}} + \\left(1 - e^{L_{0} k_{0}}\\right) \\left(e^{L_{0} k_{0}} + 1\\right) \\sqrt{4 B_{2}^{2} L_{0}^{2} k_{0}^{2} e^{2 L_{0} k_{0}} - B_{2}^{2} e^{4 L_{0} k_{0}} + 2 B_{2}^{2} e^{2 L_{0} k_{0}} - B_{2}^{2} - 8 L_{0} N_{0} k_{0}^{2} e^{2 L_{0} k_{0}} + 2 N_{0} k_{0} e^{4 L_{0} k_{0}} - 2 N_{0} k_{0}}}{4 L_{0} k_{0} e^{2 L_{0} k_{0}} - e^{4 L_{0} k_{0}} + 1} & \\text{for}\\: 2 k_{0} \\left(e^{4 L_{0} k_{0}} - 2 e^{2 L_{0} k_{0}} + 1\\right) \\neq 0 \\\\\\text{NaN} & \\text{otherwise} \\end{cases}$"
      ],
      "text/plain": [
       "Piecewise(((2*B_{2}*(L_0*k_0*exp(2*L_0*k_0) + L_0*k_0 - exp(2*L_0*k_0) + 1)*exp(L_0*k_0) + (1 - exp(L_0*k_0))*(exp(L_0*k_0) + 1)*sqrt(4*B_{2}**2*L_0**2*k_0**2*exp(2*L_0*k_0) - B_{2}**2*exp(4*L_0*k_0) + 2*B_{2}**2*exp(2*L_0*k_0) - B_{2}**2 - 8*L_0*N_0*k_0**2*exp(2*L_0*k_0) + 2*N_0*k_0*exp(4*L_0*k_0) - 2*N_0*k_0))/(4*L_0*k_0*exp(2*L_0*k_0) - exp(4*L_0*k_0) + 1), Ne(2*k_0*(exp(4*L_0*k_0) - 2*exp(2*L_0*k_0) + 1), 0)), (nan, True))"
      ]
     },
     "metadata": {},
     "output_type": "display_data"
    },
    {
     "data": {
      "text/plain": [
       "[(None, None)]"
      ]
     },
     "execution_count": 25,
     "metadata": {},
     "output_type": "execute_result"
    }
   ],
   "source": [
    "display_table( auto_solved[ 0 ] )"
   ]
  },
  {
   "cell_type": "code",
   "execution_count": null,
   "id": "e6353287-8fa1-478a-b194-411f1cbbb7a5",
   "metadata": {},
   "outputs": [],
   "source": []
  },
  {
   "cell_type": "code",
   "execution_count": 26,
   "id": "e6aa6498-015c-4775-bbc6-8dc452e6b058",
   "metadata": {},
   "outputs": [
    {
     "name": "stdout",
     "output_type": "stream",
     "text": [
      "Has  B_{0}\n",
      "Solutions:  [Piecewise((-sqrt(N_1/L_1), Eq(2*k_1*(exp(4*L_1*k_1) - 2*exp(2*L_1*k_1) + 1), 0)), (nan, True)), Piecewise((sqrt(N_1/L_1), Eq(2*k_1*(exp(4*L_1*k_1) - 2*exp(2*L_1*k_1) + 1), 0)), (nan, True)), Piecewise(((2*B_{1}*(L_1*k_1*exp(2*L_1*k_1) + L_1*k_1 - exp(2*L_1*k_1) + 1)*exp(L_1*k_1) - (1 - exp(L_1*k_1))*(exp(L_1*k_1) + 1)*sqrt(4*B_{1}**2*L_1**2*k_1**2*exp(2*L_1*k_1) - B_{1}**2*exp(4*L_1*k_1) + 2*B_{1}**2*exp(2*L_1*k_1) - B_{1}**2 - 8*L_1*N_1*k_1**2*exp(2*L_1*k_1) + 2*N_1*k_1*exp(4*L_1*k_1) - 2*N_1*k_1))/(4*L_1*k_1*exp(2*L_1*k_1) - exp(4*L_1*k_1) + 1), Ne(2*k_1*(exp(4*L_1*k_1) - 2*exp(2*L_1*k_1) + 1), 0)), (nan, True)), Piecewise(((2*B_{1}*(L_1*k_1*exp(2*L_1*k_1) + L_1*k_1 - exp(2*L_1*k_1) + 1)*exp(L_1*k_1) + (1 - exp(L_1*k_1))*(exp(L_1*k_1) + 1)*sqrt(4*B_{1}**2*L_1**2*k_1**2*exp(2*L_1*k_1) - B_{1}**2*exp(4*L_1*k_1) + 2*B_{1}**2*exp(2*L_1*k_1) - B_{1}**2 - 8*L_1*N_1*k_1**2*exp(2*L_1*k_1) + 2*N_1*k_1*exp(4*L_1*k_1) - 2*N_1*k_1))/(4*L_1*k_1*exp(2*L_1*k_1) - exp(4*L_1*k_1) + 1), Ne(2*k_1*(exp(4*L_1*k_1) - 2*exp(2*L_1*k_1) + 1), 0)), (nan, True))]\n"
     ]
    },
    {
     "data": {
      "text/latex": [
       "$\\displaystyle B_{0}$"
      ],
      "text/plain": [
       "B_{0}"
      ]
     },
     "metadata": {},
     "output_type": "display_data"
    },
    {
     "name": "stdout",
     "output_type": "stream",
     "text": [
      "I have sols!\n"
     ]
    },
    {
     "data": {
      "text/latex": [
       "$\\displaystyle \\begin{cases} - \\sqrt{\\frac{N_{1}}{L_{1}}} & \\text{for}\\: 2 k_{1} \\left(e^{4 L_{1} k_{1}} - 2 e^{2 L_{1} k_{1}} + 1\\right) = 0 \\\\\\text{NaN} & \\text{otherwise} \\end{cases}$"
      ],
      "text/plain": [
       "Piecewise((-sqrt(N_1/L_1), Eq(2*k_1*(exp(4*L_1*k_1) - 2*exp(2*L_1*k_1) + 1), 0)), (nan, True))"
      ]
     },
     "metadata": {},
     "output_type": "display_data"
    },
    {
     "data": {
      "text/latex": [
       "$\\displaystyle \\begin{cases} \\sqrt{\\frac{N_{1}}{L_{1}}} & \\text{for}\\: 2 k_{1} \\left(e^{4 L_{1} k_{1}} - 2 e^{2 L_{1} k_{1}} + 1\\right) = 0 \\\\\\text{NaN} & \\text{otherwise} \\end{cases}$"
      ],
      "text/plain": [
       "Piecewise((sqrt(N_1/L_1), Eq(2*k_1*(exp(4*L_1*k_1) - 2*exp(2*L_1*k_1) + 1), 0)), (nan, True))"
      ]
     },
     "metadata": {},
     "output_type": "display_data"
    },
    {
     "data": {
      "text/latex": [
       "$\\displaystyle \\begin{cases} \\frac{2 B_{1} \\left(L_{1} k_{1} e^{2 L_{1} k_{1}} + L_{1} k_{1} - e^{2 L_{1} k_{1}} + 1\\right) e^{L_{1} k_{1}} - \\left(1 - e^{L_{1} k_{1}}\\right) \\left(e^{L_{1} k_{1}} + 1\\right) \\sqrt{4 B_{1}^{2} L_{1}^{2} k_{1}^{2} e^{2 L_{1} k_{1}} - B_{1}^{2} e^{4 L_{1} k_{1}} + 2 B_{1}^{2} e^{2 L_{1} k_{1}} - B_{1}^{2} - 8 L_{1} N_{1} k_{1}^{2} e^{2 L_{1} k_{1}} + 2 N_{1} k_{1} e^{4 L_{1} k_{1}} - 2 N_{1} k_{1}}}{4 L_{1} k_{1} e^{2 L_{1} k_{1}} - e^{4 L_{1} k_{1}} + 1} & \\text{for}\\: 2 k_{1} \\left(e^{4 L_{1} k_{1}} - 2 e^{2 L_{1} k_{1}} + 1\\right) \\neq 0 \\\\\\text{NaN} & \\text{otherwise} \\end{cases}$"
      ],
      "text/plain": [
       "Piecewise(((2*B_{1}*(L_1*k_1*exp(2*L_1*k_1) + L_1*k_1 - exp(2*L_1*k_1) + 1)*exp(L_1*k_1) - (1 - exp(L_1*k_1))*(exp(L_1*k_1) + 1)*sqrt(4*B_{1}**2*L_1**2*k_1**2*exp(2*L_1*k_1) - B_{1}**2*exp(4*L_1*k_1) + 2*B_{1}**2*exp(2*L_1*k_1) - B_{1}**2 - 8*L_1*N_1*k_1**2*exp(2*L_1*k_1) + 2*N_1*k_1*exp(4*L_1*k_1) - 2*N_1*k_1))/(4*L_1*k_1*exp(2*L_1*k_1) - exp(4*L_1*k_1) + 1), Ne(2*k_1*(exp(4*L_1*k_1) - 2*exp(2*L_1*k_1) + 1), 0)), (nan, True))"
      ]
     },
     "metadata": {},
     "output_type": "display_data"
    },
    {
     "data": {
      "text/latex": [
       "$\\displaystyle \\begin{cases} \\frac{2 B_{1} \\left(L_{1} k_{1} e^{2 L_{1} k_{1}} + L_{1} k_{1} - e^{2 L_{1} k_{1}} + 1\\right) e^{L_{1} k_{1}} + \\left(1 - e^{L_{1} k_{1}}\\right) \\left(e^{L_{1} k_{1}} + 1\\right) \\sqrt{4 B_{1}^{2} L_{1}^{2} k_{1}^{2} e^{2 L_{1} k_{1}} - B_{1}^{2} e^{4 L_{1} k_{1}} + 2 B_{1}^{2} e^{2 L_{1} k_{1}} - B_{1}^{2} - 8 L_{1} N_{1} k_{1}^{2} e^{2 L_{1} k_{1}} + 2 N_{1} k_{1} e^{4 L_{1} k_{1}} - 2 N_{1} k_{1}}}{4 L_{1} k_{1} e^{2 L_{1} k_{1}} - e^{4 L_{1} k_{1}} + 1} & \\text{for}\\: 2 k_{1} \\left(e^{4 L_{1} k_{1}} - 2 e^{2 L_{1} k_{1}} + 1\\right) \\neq 0 \\\\\\text{NaN} & \\text{otherwise} \\end{cases}$"
      ],
      "text/plain": [
       "Piecewise(((2*B_{1}*(L_1*k_1*exp(2*L_1*k_1) + L_1*k_1 - exp(2*L_1*k_1) + 1)*exp(L_1*k_1) + (1 - exp(L_1*k_1))*(exp(L_1*k_1) + 1)*sqrt(4*B_{1}**2*L_1**2*k_1**2*exp(2*L_1*k_1) - B_{1}**2*exp(4*L_1*k_1) + 2*B_{1}**2*exp(2*L_1*k_1) - B_{1}**2 - 8*L_1*N_1*k_1**2*exp(2*L_1*k_1) + 2*N_1*k_1*exp(4*L_1*k_1) - 2*N_1*k_1))/(4*L_1*k_1*exp(2*L_1*k_1) - exp(4*L_1*k_1) + 1), Ne(2*k_1*(exp(4*L_1*k_1) - 2*exp(2*L_1*k_1) + 1), 0)), (nan, True))"
      ]
     },
     "metadata": {},
     "output_type": "display_data"
    },
    {
     "name": "stdout",
     "output_type": "stream",
     "text": [
      "Solved for  B_{0}\n"
     ]
    }
   ],
   "source": [
    "auto_solved[ 1 ] = stairwell_solver.solve_boundry_constants_from_equation( stairwell_solver.normalizations[ 1 ] )"
   ]
  },
  {
   "cell_type": "code",
   "execution_count": 27,
   "id": "5305e392-df62-4e81-ace3-0408b6f685ad",
   "metadata": {},
   "outputs": [
    {
     "data": {
      "text/latex": [
       "$\\displaystyle B_{0}$"
      ],
      "text/plain": [
       "B_{0}"
      ]
     },
     "metadata": {},
     "output_type": "display_data"
    },
    {
     "data": {
      "text/latex": [
       "$\\displaystyle \\begin{cases} \\frac{2 B_{2} \\left(L_{0} k_{0} e^{2 L_{0} k_{0}} + L_{0} k_{0} - e^{2 L_{0} k_{0}} + 1\\right) e^{L_{0} k_{0}} - \\left(1 - e^{L_{0} k_{0}}\\right) \\left(e^{L_{0} k_{0}} + 1\\right) \\sqrt{4 B_{2}^{2} L_{0}^{2} k_{0}^{2} e^{2 L_{0} k_{0}} - B_{2}^{2} e^{4 L_{0} k_{0}} + 2 B_{2}^{2} e^{2 L_{0} k_{0}} - B_{2}^{2} - 8 L_{0} N_{0} k_{0}^{2} e^{2 L_{0} k_{0}} + 2 N_{0} k_{0} e^{4 L_{0} k_{0}} - 2 N_{0} k_{0}}}{4 L_{0} k_{0} e^{2 L_{0} k_{0}} - e^{4 L_{0} k_{0}} + 1} & \\text{for}\\: 2 k_{0} \\left(e^{4 L_{0} k_{0}} - 2 e^{2 L_{0} k_{0}} + 1\\right) \\neq 0 \\\\\\text{NaN} & \\text{otherwise} \\end{cases}$"
      ],
      "text/plain": [
       "Piecewise(((2*B_{2}*(L_0*k_0*exp(2*L_0*k_0) + L_0*k_0 - exp(2*L_0*k_0) + 1)*exp(L_0*k_0) - (1 - exp(L_0*k_0))*(exp(L_0*k_0) + 1)*sqrt(4*B_{2}**2*L_0**2*k_0**2*exp(2*L_0*k_0) - B_{2}**2*exp(4*L_0*k_0) + 2*B_{2}**2*exp(2*L_0*k_0) - B_{2}**2 - 8*L_0*N_0*k_0**2*exp(2*L_0*k_0) + 2*N_0*k_0*exp(4*L_0*k_0) - 2*N_0*k_0))/(4*L_0*k_0*exp(2*L_0*k_0) - exp(4*L_0*k_0) + 1), Ne(2*k_0*(exp(4*L_0*k_0) - 2*exp(2*L_0*k_0) + 1), 0)), (nan, True))"
      ]
     },
     "metadata": {},
     "output_type": "display_data"
    },
    {
     "data": {
      "text/latex": [
       "$\\displaystyle \\begin{cases} \\frac{2 B_{2} \\left(L_{0} k_{0} e^{2 L_{0} k_{0}} + L_{0} k_{0} - e^{2 L_{0} k_{0}} + 1\\right) e^{L_{0} k_{0}} + \\left(1 - e^{L_{0} k_{0}}\\right) \\left(e^{L_{0} k_{0}} + 1\\right) \\sqrt{4 B_{2}^{2} L_{0}^{2} k_{0}^{2} e^{2 L_{0} k_{0}} - B_{2}^{2} e^{4 L_{0} k_{0}} + 2 B_{2}^{2} e^{2 L_{0} k_{0}} - B_{2}^{2} - 8 L_{0} N_{0} k_{0}^{2} e^{2 L_{0} k_{0}} + 2 N_{0} k_{0} e^{4 L_{0} k_{0}} - 2 N_{0} k_{0}}}{4 L_{0} k_{0} e^{2 L_{0} k_{0}} - e^{4 L_{0} k_{0}} + 1} & \\text{for}\\: 2 k_{0} \\left(e^{4 L_{0} k_{0}} - 2 e^{2 L_{0} k_{0}} + 1\\right) \\neq 0 \\\\\\text{NaN} & \\text{otherwise} \\end{cases}$"
      ],
      "text/plain": [
       "Piecewise(((2*B_{2}*(L_0*k_0*exp(2*L_0*k_0) + L_0*k_0 - exp(2*L_0*k_0) + 1)*exp(L_0*k_0) + (1 - exp(L_0*k_0))*(exp(L_0*k_0) + 1)*sqrt(4*B_{2}**2*L_0**2*k_0**2*exp(2*L_0*k_0) - B_{2}**2*exp(4*L_0*k_0) + 2*B_{2}**2*exp(2*L_0*k_0) - B_{2}**2 - 8*L_0*N_0*k_0**2*exp(2*L_0*k_0) + 2*N_0*k_0*exp(4*L_0*k_0) - 2*N_0*k_0))/(4*L_0*k_0*exp(2*L_0*k_0) - exp(4*L_0*k_0) + 1), Ne(2*k_0*(exp(4*L_0*k_0) - 2*exp(2*L_0*k_0) + 1), 0)), (nan, True))"
      ]
     },
     "metadata": {},
     "output_type": "display_data"
    },
    {
     "data": {
      "text/latex": [
       "$\\displaystyle \\begin{cases} - \\sqrt{\\frac{N_{1}}{L_{1}}} & \\text{for}\\: 2 k_{1} \\left(e^{4 L_{1} k_{1}} - 2 e^{2 L_{1} k_{1}} + 1\\right) = 0 \\\\\\text{NaN} & \\text{otherwise} \\end{cases}$"
      ],
      "text/plain": [
       "Piecewise((-sqrt(N_1/L_1), Eq(2*k_1*(exp(4*L_1*k_1) - 2*exp(2*L_1*k_1) + 1), 0)), (nan, True))"
      ]
     },
     "metadata": {},
     "output_type": "display_data"
    },
    {
     "data": {
      "text/latex": [
       "$\\displaystyle \\begin{cases} \\sqrt{\\frac{N_{1}}{L_{1}}} & \\text{for}\\: 2 k_{1} \\left(e^{4 L_{1} k_{1}} - 2 e^{2 L_{1} k_{1}} + 1\\right) = 0 \\\\\\text{NaN} & \\text{otherwise} \\end{cases}$"
      ],
      "text/plain": [
       "Piecewise((sqrt(N_1/L_1), Eq(2*k_1*(exp(4*L_1*k_1) - 2*exp(2*L_1*k_1) + 1), 0)), (nan, True))"
      ]
     },
     "metadata": {},
     "output_type": "display_data"
    },
    {
     "data": {
      "text/latex": [
       "$\\displaystyle \\begin{cases} \\frac{2 B_{1} \\left(L_{1} k_{1} e^{2 L_{1} k_{1}} + L_{1} k_{1} - e^{2 L_{1} k_{1}} + 1\\right) e^{L_{1} k_{1}} - \\left(1 - e^{L_{1} k_{1}}\\right) \\left(e^{L_{1} k_{1}} + 1\\right) \\sqrt{4 B_{1}^{2} L_{1}^{2} k_{1}^{2} e^{2 L_{1} k_{1}} - B_{1}^{2} e^{4 L_{1} k_{1}} + 2 B_{1}^{2} e^{2 L_{1} k_{1}} - B_{1}^{2} - 8 L_{1} N_{1} k_{1}^{2} e^{2 L_{1} k_{1}} + 2 N_{1} k_{1} e^{4 L_{1} k_{1}} - 2 N_{1} k_{1}}}{4 L_{1} k_{1} e^{2 L_{1} k_{1}} - e^{4 L_{1} k_{1}} + 1} & \\text{for}\\: 2 k_{1} \\left(e^{4 L_{1} k_{1}} - 2 e^{2 L_{1} k_{1}} + 1\\right) \\neq 0 \\\\\\text{NaN} & \\text{otherwise} \\end{cases}$"
      ],
      "text/plain": [
       "Piecewise(((2*B_{1}*(L_1*k_1*exp(2*L_1*k_1) + L_1*k_1 - exp(2*L_1*k_1) + 1)*exp(L_1*k_1) - (1 - exp(L_1*k_1))*(exp(L_1*k_1) + 1)*sqrt(4*B_{1}**2*L_1**2*k_1**2*exp(2*L_1*k_1) - B_{1}**2*exp(4*L_1*k_1) + 2*B_{1}**2*exp(2*L_1*k_1) - B_{1}**2 - 8*L_1*N_1*k_1**2*exp(2*L_1*k_1) + 2*N_1*k_1*exp(4*L_1*k_1) - 2*N_1*k_1))/(4*L_1*k_1*exp(2*L_1*k_1) - exp(4*L_1*k_1) + 1), Ne(2*k_1*(exp(4*L_1*k_1) - 2*exp(2*L_1*k_1) + 1), 0)), (nan, True))"
      ]
     },
     "metadata": {},
     "output_type": "display_data"
    },
    {
     "data": {
      "text/latex": [
       "$\\displaystyle \\begin{cases} \\frac{2 B_{1} \\left(L_{1} k_{1} e^{2 L_{1} k_{1}} + L_{1} k_{1} - e^{2 L_{1} k_{1}} + 1\\right) e^{L_{1} k_{1}} + \\left(1 - e^{L_{1} k_{1}}\\right) \\left(e^{L_{1} k_{1}} + 1\\right) \\sqrt{4 B_{1}^{2} L_{1}^{2} k_{1}^{2} e^{2 L_{1} k_{1}} - B_{1}^{2} e^{4 L_{1} k_{1}} + 2 B_{1}^{2} e^{2 L_{1} k_{1}} - B_{1}^{2} - 8 L_{1} N_{1} k_{1}^{2} e^{2 L_{1} k_{1}} + 2 N_{1} k_{1} e^{4 L_{1} k_{1}} - 2 N_{1} k_{1}}}{4 L_{1} k_{1} e^{2 L_{1} k_{1}} - e^{4 L_{1} k_{1}} + 1} & \\text{for}\\: 2 k_{1} \\left(e^{4 L_{1} k_{1}} - 2 e^{2 L_{1} k_{1}} + 1\\right) \\neq 0 \\\\\\text{NaN} & \\text{otherwise} \\end{cases}$"
      ],
      "text/plain": [
       "Piecewise(((2*B_{1}*(L_1*k_1*exp(2*L_1*k_1) + L_1*k_1 - exp(2*L_1*k_1) + 1)*exp(L_1*k_1) + (1 - exp(L_1*k_1))*(exp(L_1*k_1) + 1)*sqrt(4*B_{1}**2*L_1**2*k_1**2*exp(2*L_1*k_1) - B_{1}**2*exp(4*L_1*k_1) + 2*B_{1}**2*exp(2*L_1*k_1) - B_{1}**2 - 8*L_1*N_1*k_1**2*exp(2*L_1*k_1) + 2*N_1*k_1*exp(4*L_1*k_1) - 2*N_1*k_1))/(4*L_1*k_1*exp(2*L_1*k_1) - exp(4*L_1*k_1) + 1), Ne(2*k_1*(exp(4*L_1*k_1) - 2*exp(2*L_1*k_1) + 1), 0)), (nan, True))"
      ]
     },
     "metadata": {},
     "output_type": "display_data"
    },
    {
     "data": {
      "text/plain": [
       "[(None, None)]"
      ]
     },
     "execution_count": 27,
     "metadata": {},
     "output_type": "execute_result"
    }
   ],
   "source": [
    "display_table( auto_solved[ 1 ] )"
   ]
  },
  {
   "cell_type": "code",
   "execution_count": null,
   "id": "ff71ad59-46a7-45a0-ba68-a873691b3e41",
   "metadata": {},
   "outputs": [],
   "source": []
  },
  {
   "cell_type": "code",
   "execution_count": 28,
   "id": "4762c658-4c1f-4471-8141-32d5994bc888",
   "metadata": {},
   "outputs": [],
   "source": [
    "auto_solved[ 2 ] = stairwell_solver.solve_boundry_constants_from_equation( stairwell_solver.normalizations[ 2 ] )"
   ]
  },
  {
   "cell_type": "code",
   "execution_count": 29,
   "id": "5cdb1c4a-f3ac-4e36-aec9-d8c34173d13c",
   "metadata": {},
   "outputs": [
    {
     "data": {
      "text/plain": [
       "[]"
      ]
     },
     "execution_count": 29,
     "metadata": {},
     "output_type": "execute_result"
    }
   ],
   "source": [
    "display_table( auto_solved[ 2 ] )"
   ]
  },
  {
   "cell_type": "code",
   "execution_count": null,
   "id": "225b2791-f722-47b3-9a45-64eac56a1afc",
   "metadata": {},
   "outputs": [],
   "source": []
  },
  {
   "cell_type": "code",
   "execution_count": null,
   "id": "5866b3a3-73b2-4fa1-b237-7168b8f70de7",
   "metadata": {},
   "outputs": [],
   "source": []
  },
  {
   "cell_type": "code",
   "execution_count": 30,
   "id": "79ae5d05-e00a-438c-b3b6-f883ab73b4e3",
   "metadata": {},
   "outputs": [
    {
     "name": "stdout",
     "output_type": "stream",
     "text": [
      "Has  B_{0}\n",
      "Solutions:  [Piecewise((-sqrt(N_1/L_1), Eq(2*k_1*(exp(4*L_1*k_1) - 2*exp(2*L_1*k_1) + 1), 0)), (nan, True)), Piecewise((sqrt(N_1/L_1), Eq(2*k_1*(exp(4*L_1*k_1) - 2*exp(2*L_1*k_1) + 1), 0)), (nan, True)), Piecewise(((2*B_{1}*(L_1*k_1*exp(2*L_1*k_1) + L_1*k_1 - exp(2*L_1*k_1) + 1)*exp(L_1*k_1) - (1 - exp(L_1*k_1))*(exp(L_1*k_1) + 1)*sqrt(4*B_{1}**2*L_1**2*k_1**2*exp(2*L_1*k_1) - B_{1}**2*exp(4*L_1*k_1) + 2*B_{1}**2*exp(2*L_1*k_1) - B_{1}**2 - 8*L_1*N_1*k_1**2*exp(2*L_1*k_1) + 2*N_1*k_1*exp(4*L_1*k_1) - 2*N_1*k_1))/(4*L_1*k_1*exp(2*L_1*k_1) - exp(4*L_1*k_1) + 1), Ne(2*k_1*(exp(4*L_1*k_1) - 2*exp(2*L_1*k_1) + 1), 0)), (nan, True)), Piecewise(((2*B_{1}*(L_1*k_1*exp(2*L_1*k_1) + L_1*k_1 - exp(2*L_1*k_1) + 1)*exp(L_1*k_1) + (1 - exp(L_1*k_1))*(exp(L_1*k_1) + 1)*sqrt(4*B_{1}**2*L_1**2*k_1**2*exp(2*L_1*k_1) - B_{1}**2*exp(4*L_1*k_1) + 2*B_{1}**2*exp(2*L_1*k_1) - B_{1}**2 - 8*L_1*N_1*k_1**2*exp(2*L_1*k_1) + 2*N_1*k_1*exp(4*L_1*k_1) - 2*N_1*k_1))/(4*L_1*k_1*exp(2*L_1*k_1) - exp(4*L_1*k_1) + 1), Ne(2*k_1*(exp(4*L_1*k_1) - 2*exp(2*L_1*k_1) + 1), 0)), (nan, True))]\n"
     ]
    },
    {
     "data": {
      "text/latex": [
       "$\\displaystyle B_{0}$"
      ],
      "text/plain": [
       "B_{0}"
      ]
     },
     "metadata": {},
     "output_type": "display_data"
    },
    {
     "name": "stdout",
     "output_type": "stream",
     "text": [
      "I have sols!\n"
     ]
    },
    {
     "data": {
      "text/latex": [
       "$\\displaystyle \\begin{cases} - \\sqrt{\\frac{N_{1}}{L_{1}}} & \\text{for}\\: 2 k_{1} \\left(e^{4 L_{1} k_{1}} - 2 e^{2 L_{1} k_{1}} + 1\\right) = 0 \\\\\\text{NaN} & \\text{otherwise} \\end{cases}$"
      ],
      "text/plain": [
       "Piecewise((-sqrt(N_1/L_1), Eq(2*k_1*(exp(4*L_1*k_1) - 2*exp(2*L_1*k_1) + 1), 0)), (nan, True))"
      ]
     },
     "metadata": {},
     "output_type": "display_data"
    },
    {
     "data": {
      "text/latex": [
       "$\\displaystyle \\begin{cases} \\sqrt{\\frac{N_{1}}{L_{1}}} & \\text{for}\\: 2 k_{1} \\left(e^{4 L_{1} k_{1}} - 2 e^{2 L_{1} k_{1}} + 1\\right) = 0 \\\\\\text{NaN} & \\text{otherwise} \\end{cases}$"
      ],
      "text/plain": [
       "Piecewise((sqrt(N_1/L_1), Eq(2*k_1*(exp(4*L_1*k_1) - 2*exp(2*L_1*k_1) + 1), 0)), (nan, True))"
      ]
     },
     "metadata": {},
     "output_type": "display_data"
    },
    {
     "data": {
      "text/latex": [
       "$\\displaystyle \\begin{cases} \\frac{2 B_{1} \\left(L_{1} k_{1} e^{2 L_{1} k_{1}} + L_{1} k_{1} - e^{2 L_{1} k_{1}} + 1\\right) e^{L_{1} k_{1}} - \\left(1 - e^{L_{1} k_{1}}\\right) \\left(e^{L_{1} k_{1}} + 1\\right) \\sqrt{4 B_{1}^{2} L_{1}^{2} k_{1}^{2} e^{2 L_{1} k_{1}} - B_{1}^{2} e^{4 L_{1} k_{1}} + 2 B_{1}^{2} e^{2 L_{1} k_{1}} - B_{1}^{2} - 8 L_{1} N_{1} k_{1}^{2} e^{2 L_{1} k_{1}} + 2 N_{1} k_{1} e^{4 L_{1} k_{1}} - 2 N_{1} k_{1}}}{4 L_{1} k_{1} e^{2 L_{1} k_{1}} - e^{4 L_{1} k_{1}} + 1} & \\text{for}\\: 2 k_{1} \\left(e^{4 L_{1} k_{1}} - 2 e^{2 L_{1} k_{1}} + 1\\right) \\neq 0 \\\\\\text{NaN} & \\text{otherwise} \\end{cases}$"
      ],
      "text/plain": [
       "Piecewise(((2*B_{1}*(L_1*k_1*exp(2*L_1*k_1) + L_1*k_1 - exp(2*L_1*k_1) + 1)*exp(L_1*k_1) - (1 - exp(L_1*k_1))*(exp(L_1*k_1) + 1)*sqrt(4*B_{1}**2*L_1**2*k_1**2*exp(2*L_1*k_1) - B_{1}**2*exp(4*L_1*k_1) + 2*B_{1}**2*exp(2*L_1*k_1) - B_{1}**2 - 8*L_1*N_1*k_1**2*exp(2*L_1*k_1) + 2*N_1*k_1*exp(4*L_1*k_1) - 2*N_1*k_1))/(4*L_1*k_1*exp(2*L_1*k_1) - exp(4*L_1*k_1) + 1), Ne(2*k_1*(exp(4*L_1*k_1) - 2*exp(2*L_1*k_1) + 1), 0)), (nan, True))"
      ]
     },
     "metadata": {},
     "output_type": "display_data"
    },
    {
     "data": {
      "text/latex": [
       "$\\displaystyle \\begin{cases} \\frac{2 B_{1} \\left(L_{1} k_{1} e^{2 L_{1} k_{1}} + L_{1} k_{1} - e^{2 L_{1} k_{1}} + 1\\right) e^{L_{1} k_{1}} + \\left(1 - e^{L_{1} k_{1}}\\right) \\left(e^{L_{1} k_{1}} + 1\\right) \\sqrt{4 B_{1}^{2} L_{1}^{2} k_{1}^{2} e^{2 L_{1} k_{1}} - B_{1}^{2} e^{4 L_{1} k_{1}} + 2 B_{1}^{2} e^{2 L_{1} k_{1}} - B_{1}^{2} - 8 L_{1} N_{1} k_{1}^{2} e^{2 L_{1} k_{1}} + 2 N_{1} k_{1} e^{4 L_{1} k_{1}} - 2 N_{1} k_{1}}}{4 L_{1} k_{1} e^{2 L_{1} k_{1}} - e^{4 L_{1} k_{1}} + 1} & \\text{for}\\: 2 k_{1} \\left(e^{4 L_{1} k_{1}} - 2 e^{2 L_{1} k_{1}} + 1\\right) \\neq 0 \\\\\\text{NaN} & \\text{otherwise} \\end{cases}$"
      ],
      "text/plain": [
       "Piecewise(((2*B_{1}*(L_1*k_1*exp(2*L_1*k_1) + L_1*k_1 - exp(2*L_1*k_1) + 1)*exp(L_1*k_1) + (1 - exp(L_1*k_1))*(exp(L_1*k_1) + 1)*sqrt(4*B_{1}**2*L_1**2*k_1**2*exp(2*L_1*k_1) - B_{1}**2*exp(4*L_1*k_1) + 2*B_{1}**2*exp(2*L_1*k_1) - B_{1}**2 - 8*L_1*N_1*k_1**2*exp(2*L_1*k_1) + 2*N_1*k_1*exp(4*L_1*k_1) - 2*N_1*k_1))/(4*L_1*k_1*exp(2*L_1*k_1) - exp(4*L_1*k_1) + 1), Ne(2*k_1*(exp(4*L_1*k_1) - 2*exp(2*L_1*k_1) + 1), 0)), (nan, True))"
      ]
     },
     "metadata": {},
     "output_type": "display_data"
    },
    {
     "name": "stdout",
     "output_type": "stream",
     "text": [
      "Solved for  B_{0}\n"
     ]
    }
   ],
   "source": [
    "test = stairwell_solver.solve_boundry_constants_from_equation( stairwell_solver.normalizations[ 1 ], transform = transform_noop )"
   ]
  },
  {
   "cell_type": "code",
   "execution_count": null,
   "id": "b3997181-b501-4160-a982-1706807a2986",
   "metadata": {},
   "outputs": [],
   "source": []
  },
  {
   "cell_type": "code",
   "execution_count": 31,
   "id": "bfd2678e-6cc3-4d6e-9f43-c34279eaaf83",
   "metadata": {},
   "outputs": [
    {
     "data": {
      "text/latex": [
       "$\\displaystyle \\begin{cases} \\frac{2 B_{2} \\left(L_{0} k_{0} e^{2 L_{0} k_{0}} + L_{0} k_{0} - e^{2 L_{0} k_{0}} + 1\\right) e^{L_{0} k_{0}} - \\left(1 - e^{L_{0} k_{0}}\\right) \\left(e^{L_{0} k_{0}} + 1\\right) \\sqrt{4 B_{2}^{2} L_{0}^{2} k_{0}^{2} e^{2 L_{0} k_{0}} - B_{2}^{2} e^{4 L_{0} k_{0}} + 2 B_{2}^{2} e^{2 L_{0} k_{0}} - B_{2}^{2} - 8 L_{0} N_{0} k_{0}^{2} e^{2 L_{0} k_{0}} + 2 N_{0} k_{0} e^{4 L_{0} k_{0}} - 2 N_{0} k_{0}}}{4 L_{0} k_{0} e^{2 L_{0} k_{0}} - e^{4 L_{0} k_{0}} + 1} & \\text{for}\\: 2 k_{0} \\left(e^{4 L_{0} k_{0}} - 2 e^{2 L_{0} k_{0}} + 1\\right) \\neq 0 \\\\\\text{NaN} & \\text{otherwise} \\end{cases}$"
      ],
      "text/plain": [
       "Piecewise(((2*B_{2}*(L_0*k_0*exp(2*L_0*k_0) + L_0*k_0 - exp(2*L_0*k_0) + 1)*exp(L_0*k_0) - (1 - exp(L_0*k_0))*(exp(L_0*k_0) + 1)*sqrt(4*B_{2}**2*L_0**2*k_0**2*exp(2*L_0*k_0) - B_{2}**2*exp(4*L_0*k_0) + 2*B_{2}**2*exp(2*L_0*k_0) - B_{2}**2 - 8*L_0*N_0*k_0**2*exp(2*L_0*k_0) + 2*N_0*k_0*exp(4*L_0*k_0) - 2*N_0*k_0))/(4*L_0*k_0*exp(2*L_0*k_0) - exp(4*L_0*k_0) + 1), Ne(2*k_0*(exp(4*L_0*k_0) - 2*exp(2*L_0*k_0) + 1), 0)), (nan, True))"
      ]
     },
     "execution_count": 31,
     "metadata": {},
     "output_type": "execute_result"
    }
   ],
   "source": [
    "test[ stairwell_solver.boundry_constant_symbols[ 0 ] ][ 0 ].last_step()"
   ]
  },
  {
   "cell_type": "code",
   "execution_count": 32,
   "id": "ca16b3e8-f905-48cc-b43e-3d8b10487f58",
   "metadata": {},
   "outputs": [
    {
     "data": {
      "text/latex": [
       "$\\displaystyle \\begin{cases} \\frac{2 B_{2} \\left(L_{0} k_{0} e^{2 L_{0} k_{0}} + L_{0} k_{0} - e^{2 L_{0} k_{0}} + 1\\right) e^{L_{0} k_{0}} + \\left(1 - e^{L_{0} k_{0}}\\right) \\left(e^{L_{0} k_{0}} + 1\\right) \\sqrt{4 B_{2}^{2} L_{0}^{2} k_{0}^{2} e^{2 L_{0} k_{0}} - B_{2}^{2} e^{4 L_{0} k_{0}} + 2 B_{2}^{2} e^{2 L_{0} k_{0}} - B_{2}^{2} - 8 L_{0} N_{0} k_{0}^{2} e^{2 L_{0} k_{0}} + 2 N_{0} k_{0} e^{4 L_{0} k_{0}} - 2 N_{0} k_{0}}}{4 L_{0} k_{0} e^{2 L_{0} k_{0}} - e^{4 L_{0} k_{0}} + 1} & \\text{for}\\: 2 k_{0} \\left(e^{4 L_{0} k_{0}} - 2 e^{2 L_{0} k_{0}} + 1\\right) \\neq 0 \\\\\\text{NaN} & \\text{otherwise} \\end{cases}$"
      ],
      "text/plain": [
       "Piecewise(((2*B_{2}*(L_0*k_0*exp(2*L_0*k_0) + L_0*k_0 - exp(2*L_0*k_0) + 1)*exp(L_0*k_0) + (1 - exp(L_0*k_0))*(exp(L_0*k_0) + 1)*sqrt(4*B_{2}**2*L_0**2*k_0**2*exp(2*L_0*k_0) - B_{2}**2*exp(4*L_0*k_0) + 2*B_{2}**2*exp(2*L_0*k_0) - B_{2}**2 - 8*L_0*N_0*k_0**2*exp(2*L_0*k_0) + 2*N_0*k_0*exp(4*L_0*k_0) - 2*N_0*k_0))/(4*L_0*k_0*exp(2*L_0*k_0) - exp(4*L_0*k_0) + 1), Ne(2*k_0*(exp(4*L_0*k_0) - 2*exp(2*L_0*k_0) + 1), 0)), (nan, True))"
      ]
     },
     "execution_count": 32,
     "metadata": {},
     "output_type": "execute_result"
    }
   ],
   "source": [
    "test[ stairwell_solver.boundry_constant_symbols[ 0 ] ][ 1 ].last_step()"
   ]
  },
  {
   "cell_type": "code",
   "execution_count": null,
   "id": "2b2225ce-ad5c-4227-96f4-158a095daccf",
   "metadata": {},
   "outputs": [],
   "source": []
  },
  {
   "cell_type": "code",
   "execution_count": 33,
   "id": "cf1f96d5-2e1d-4bea-b820-18f6a1703620",
   "metadata": {},
   "outputs": [],
   "source": [
    "get_from_nan_piecewise = lambda piecewise : piecewise.args[ 0 ].args[ 0 ]"
   ]
  },
  {
   "cell_type": "code",
   "execution_count": 34,
   "id": "4b5fdf2c-7975-4d33-a7c7-fc40955d29a8",
   "metadata": {},
   "outputs": [],
   "source": [
    "get_first_b_0s = lambda solutions : [ get_from_nan_piecewise( test[ stairwell_solver.boundry_constant_symbols[ 0 ] ][ ii ].last_step() ) for ii in range( 2 ) ]"
   ]
  },
  {
   "cell_type": "code",
   "execution_count": null,
   "id": "49cb8d07-62f4-4772-9ded-892d705a4cf5",
   "metadata": {},
   "outputs": [],
   "source": []
  },
  {
   "cell_type": "code",
   "execution_count": 35,
   "id": "c5e6eab6-d512-4bf0-bea3-124ed40624d5",
   "metadata": {},
   "outputs": [],
   "source": [
    "b_0_solutions = get_first_b_0s( test )"
   ]
  },
  {
   "cell_type": "code",
   "execution_count": 36,
   "id": "b8b79b86-c610-495d-b03b-0c2a9620aee3",
   "metadata": {},
   "outputs": [],
   "source": [
    "b_0_squared = ( b_0_solutions[ 0 ] * b_0_solutions[ 1 ] ).simplify()"
   ]
  },
  {
   "cell_type": "code",
   "execution_count": 37,
   "id": "e265d975-4cd8-44d4-a292-a43652bcb93e",
   "metadata": {},
   "outputs": [],
   "source": [
    "b_0_squared = sp.Eq( stairwell_solver.boundry_constant_symbols[ 0 ] ** 2, b_0_squared ) "
   ]
  },
  {
   "cell_type": "code",
   "execution_count": 38,
   "id": "00a10f6b-7e6e-45f7-87f9-306cb3ce01ab",
   "metadata": {},
   "outputs": [
    {
     "data": {
      "text/latex": [
       "$\\displaystyle B_{0}^{2} = \\frac{4 B_{2}^{2} L_{0} k_{0} e^{2 L_{0} k_{0}} - B_{2}^{2} e^{4 L_{0} k_{0}} + B_{2}^{2} + 2 N_{0} k_{0} e^{4 L_{0} k_{0}} - 4 N_{0} k_{0} e^{2 L_{0} k_{0}} + 2 N_{0} k_{0}}{4 L_{0} k_{0} e^{2 L_{0} k_{0}} - e^{4 L_{0} k_{0}} + 1}$"
      ],
      "text/plain": [
       "Eq(B_{0}**2, (4*B_{2}**2*L_0*k_0*exp(2*L_0*k_0) - B_{2}**2*exp(4*L_0*k_0) + B_{2}**2 + 2*N_0*k_0*exp(4*L_0*k_0) - 4*N_0*k_0*exp(2*L_0*k_0) + 2*N_0*k_0)/(4*L_0*k_0*exp(2*L_0*k_0) - exp(4*L_0*k_0) + 1))"
      ]
     },
     "execution_count": 38,
     "metadata": {},
     "output_type": "execute_result"
    }
   ],
   "source": [
    "b_0_squared"
   ]
  },
  {
   "cell_type": "code",
   "execution_count": null,
   "id": "2d5d9284-2216-4406-be74-390d932a0cd9",
   "metadata": {},
   "outputs": [],
   "source": []
  },
  {
   "cell_type": "code",
   "execution_count": 39,
   "id": "d341fd8b-287c-49d2-bc60-e7a895755d93",
   "metadata": {},
   "outputs": [
    {
     "data": {
      "text/latex": [
       "$\\displaystyle \\psi_{0}{\\left(x \\right)} = \\frac{\\left(- B_{0} e^{L_{0} k_{0}} + B_{2} e^{2 L_{0} k_{0}}\\right) e^{- k_{0} x}}{e^{2 L_{0} k_{0}} - 1} + \\frac{\\left(B_{0} e^{L_{0} k_{0}} - B_{2}\\right) e^{k_{0} x}}{e^{2 L_{0} k_{0}} - 1}$"
      ],
      "text/plain": [
       "Eq(\\psi_{0}(x), (-B_{0}*exp(L_0*k_0) + B_{2}*exp(2*L_0*k_0))*exp(-k_0*x)/(exp(2*L_0*k_0) - 1) + (B_{0}*exp(L_0*k_0) - B_{2})*exp(k_0*x)/(exp(2*L_0*k_0) - 1))"
      ]
     },
     "metadata": {},
     "output_type": "display_data"
    },
    {
     "data": {
      "text/latex": [
       "$\\displaystyle \\psi_{1}{\\left(x \\right)} = \\frac{\\left(- B_{0} + B_{1} e^{L_{1} k_{1}}\\right) e^{k_{1} x}}{e^{2 L_{1} k_{1}} - 1} + \\frac{\\left(B_{0} e^{2 L_{1} k_{1}} - B_{1} e^{L_{1} k_{1}}\\right) e^{- k_{1} x}}{e^{2 L_{1} k_{1}} - 1}$"
      ],
      "text/plain": [
       "Eq(\\psi_{1}(x), (-B_{0} + B_{1}*exp(L_1*k_1))*exp(k_1*x)/(exp(2*L_1*k_1) - 1) + (B_{0}*exp(2*L_1*k_1) - B_{1}*exp(L_1*k_1))*exp(-k_1*x)/(exp(2*L_1*k_1) - 1))"
      ]
     },
     "metadata": {},
     "output_type": "display_data"
    },
    {
     "data": {
      "text/latex": [
       "$\\displaystyle \\psi_{2}{\\left(x \\right)} = \\frac{\\left(- B_{1} + B_{2} e^{L_{2} k_{2}}\\right) e^{k_{2} x}}{e^{2 L_{2} k_{2}} - 1} + \\frac{\\left(B_{1} e^{2 L_{2} k_{2}} - B_{2} e^{L_{2} k_{2}}\\right) e^{- k_{2} x}}{e^{2 L_{2} k_{2}} - 1}$"
      ],
      "text/plain": [
       "Eq(\\psi_{2}(x), (-B_{1} + B_{2}*exp(L_2*k_2))*exp(k_2*x)/(exp(2*L_2*k_2) - 1) + (B_{1}*exp(2*L_2*k_2) - B_{2}*exp(L_2*k_2))*exp(-k_2*x)/(exp(2*L_2*k_2) - 1))"
      ]
     },
     "metadata": {},
     "output_type": "display_data"
    }
   ],
   "source": [
    "display_steps( stairwell_solver.equations )"
   ]
  },
  {
   "cell_type": "code",
   "execution_count": 40,
   "id": "e1abfda2-d80a-4a2e-a72a-abb3555a6442",
   "metadata": {},
   "outputs": [
    {
     "name": "stdout",
     "output_type": "stream",
     "text": [
      "<class 'sympy.core.relational.Equality'>\n",
      "<class 'sympy.core.relational.Equality'>\n",
      "<class 'sympy.core.relational.Equality'>\n",
      "<class 'sympy.core.relational.Equality'>\n",
      "<class 'sympy.core.relational.Equality'>\n",
      "<class 'sympy.core.relational.Equality'>\n"
     ]
    }
   ],
   "source": [
    "results = stairwell_solver.make_substitution_solution( 0 )"
   ]
  },
  {
   "cell_type": "code",
   "execution_count": null,
   "id": "1ff502fa-e82b-4892-b078-0216efe662e3",
   "metadata": {},
   "outputs": [],
   "source": []
  },
  {
   "cell_type": "code",
   "execution_count": 41,
   "id": "d685738b-594b-410a-80bd-06258f305c27",
   "metadata": {},
   "outputs": [],
   "source": [
    "#results[ 1 ][ 0 ].simplify()"
   ]
  },
  {
   "cell_type": "code",
   "execution_count": null,
   "id": "6a8b66d1-1288-4260-a84f-c5c1690bc37d",
   "metadata": {},
   "outputs": [],
   "source": []
  },
  {
   "cell_type": "code",
   "execution_count": 42,
   "id": "07cb72e0-00a7-4735-8759-effbea9d5fce",
   "metadata": {},
   "outputs": [
    {
     "data": {
      "text/latex": [
       "$\\displaystyle B_{2} = \\frac{- B_{0} e^{L_{0} k_{0}} + B_{2} e^{2 L_{0} k_{0}}}{e^{2 L_{0} k_{0}} - 1} + \\frac{B_{0} e^{L_{0} k_{0}} - B_{2}}{e^{2 L_{0} k_{0}} - 1}$"
      ],
      "text/plain": [
       "Eq(B_{2}, (-B_{0}*exp(L_0*k_0) + B_{2}*exp(2*L_0*k_0))/(exp(2*L_0*k_0) - 1) + (B_{0}*exp(L_0*k_0) - B_{2})/(exp(2*L_0*k_0) - 1))"
      ]
     },
     "execution_count": 42,
     "metadata": {},
     "output_type": "execute_result"
    }
   ],
   "source": [
    "results[ 0 ][ 0 ]"
   ]
  },
  {
   "cell_type": "code",
   "execution_count": 47,
   "id": "e6b989af-57a4-42d6-97ac-90f53bac7ef7",
   "metadata": {},
   "outputs": [
    {
     "data": {
      "text/latex": [
       "$\\displaystyle B_{2} = \\frac{- B_{0} e^{L_{0} k_{0}} + B_{2} e^{2 L_{0} k_{0}}}{e^{2 L_{0} k_{0}} - 1} + \\frac{B_{0} e^{L_{0} k_{0}} - B_{2}}{e^{2 L_{0} k_{0}} - 1}$"
      ],
      "text/plain": [
       "Eq(B_{2}, (-B_{0}*exp(L_0*k_0) + B_{2}*exp(2*L_0*k_0))/(exp(2*L_0*k_0) - 1) + (B_{0}*exp(L_0*k_0) - B_{2})/(exp(2*L_0*k_0) - 1))"
      ]
     },
     "execution_count": 47,
     "metadata": {},
     "output_type": "execute_result"
    }
   ],
   "source": [
    "results[ 0 ][ 0 ]"
   ]
  },
  {
   "cell_type": "code",
   "execution_count": 51,
   "id": "ad482a56-b409-4095-ad67-26db145287bf",
   "metadata": {},
   "outputs": [],
   "source": [
    "#*tuple( results[ 1 ] ),\n",
    "b_2_solutions = sp.solve( [ results[ 0 ][ 0 ], results[ 0 ][ 2 ], b_0_squared ], stairwell_solver.boundry_constant_symbols[ 2 ] )"
   ]
  },
  {
   "cell_type": "code",
   "execution_count": 52,
   "id": "3b35a3ae-92fc-420e-9454-5497b41a7bf0",
   "metadata": {},
   "outputs": [
    {
     "data": {
      "text/latex": [
       "$\\displaystyle - \\sqrt{\\frac{4 B_{0}^{2} L_{0} k_{0} e^{2 L_{0} k_{0}} - B_{0}^{2} e^{4 L_{0} k_{0}} + B_{0}^{2} - 2 N_{0} k_{0} e^{4 L_{0} k_{0}} + 4 N_{0} k_{0} e^{2 L_{0} k_{0}} - 2 N_{0} k_{0}}{4 L_{0} k_{0} e^{2 L_{0} k_{0}} - e^{4 L_{0} k_{0}} + 1}}$"
      ],
      "text/plain": [
       "-sqrt((4*B_{0}**2*L_0*k_0*exp(2*L_0*k_0) - B_{0}**2*exp(4*L_0*k_0) + B_{0}**2 - 2*N_0*k_0*exp(4*L_0*k_0) + 4*N_0*k_0*exp(2*L_0*k_0) - 2*N_0*k_0)/(4*L_0*k_0*exp(2*L_0*k_0) - exp(4*L_0*k_0) + 1))"
      ]
     },
     "execution_count": 52,
     "metadata": {},
     "output_type": "execute_result"
    }
   ],
   "source": [
    "b_2_solutions[ 0 ][ 0 ]"
   ]
  },
  {
   "cell_type": "code",
   "execution_count": 53,
   "id": "c3778a4f-caca-4a11-8949-bdfbb101e2c7",
   "metadata": {},
   "outputs": [
    {
     "data": {
      "text/latex": [
       "$\\displaystyle \\sqrt{\\frac{4 B_{0}^{2} L_{0} k_{0} e^{2 L_{0} k_{0}} - B_{0}^{2} e^{4 L_{0} k_{0}} + B_{0}^{2} - 2 N_{0} k_{0} e^{4 L_{0} k_{0}} + 4 N_{0} k_{0} e^{2 L_{0} k_{0}} - 2 N_{0} k_{0}}{4 L_{0} k_{0} e^{2 L_{0} k_{0}} - e^{4 L_{0} k_{0}} + 1}}$"
      ],
      "text/plain": [
       "sqrt((4*B_{0}**2*L_0*k_0*exp(2*L_0*k_0) - B_{0}**2*exp(4*L_0*k_0) + B_{0}**2 - 2*N_0*k_0*exp(4*L_0*k_0) + 4*N_0*k_0*exp(2*L_0*k_0) - 2*N_0*k_0)/(4*L_0*k_0*exp(2*L_0*k_0) - exp(4*L_0*k_0) + 1))"
      ]
     },
     "execution_count": 53,
     "metadata": {},
     "output_type": "execute_result"
    }
   ],
   "source": [
    "b_2_solutions[ 1 ][ 0 ]"
   ]
  },
  {
   "cell_type": "code",
   "execution_count": null,
   "id": "287494ec-20d4-4463-ae46-1c698762843d",
   "metadata": {},
   "outputs": [],
   "source": []
  },
  {
   "cell_type": "code",
   "execution_count": 54,
   "id": "ebaf5e25-24bf-4d08-87fc-ad52732420a7",
   "metadata": {},
   "outputs": [],
   "source": [
    "b_2_squared = b_2_solutions[ 0 ][ 0 ] * b_2_solutions[ 1 ][ 0 ]"
   ]
  },
  {
   "cell_type": "code",
   "execution_count": 55,
   "id": "ce01209b-3fcf-4439-8f5c-379b23d65ab2",
   "metadata": {},
   "outputs": [],
   "source": [
    "b_2_squared = sp.Eq( stairwell_solver.boundry_constant_symbols[ 2 ] ** 2, b_2_squared )"
   ]
  },
  {
   "cell_type": "code",
   "execution_count": 56,
   "id": "cdd233a9-c48c-46f6-a4a3-fe93e3df03c7",
   "metadata": {},
   "outputs": [
    {
     "data": {
      "text/latex": [
       "$\\displaystyle B_{2}^{2} = - \\frac{4 B_{0}^{2} L_{0} k_{0} e^{2 L_{0} k_{0}} - B_{0}^{2} e^{4 L_{0} k_{0}} + B_{0}^{2} - 2 N_{0} k_{0} e^{4 L_{0} k_{0}} + 4 N_{0} k_{0} e^{2 L_{0} k_{0}} - 2 N_{0} k_{0}}{4 L_{0} k_{0} e^{2 L_{0} k_{0}} - e^{4 L_{0} k_{0}} + 1}$"
      ],
      "text/plain": [
       "Eq(B_{2}**2, -(4*B_{0}**2*L_0*k_0*exp(2*L_0*k_0) - B_{0}**2*exp(4*L_0*k_0) + B_{0}**2 - 2*N_0*k_0*exp(4*L_0*k_0) + 4*N_0*k_0*exp(2*L_0*k_0) - 2*N_0*k_0)/(4*L_0*k_0*exp(2*L_0*k_0) - exp(4*L_0*k_0) + 1))"
      ]
     },
     "execution_count": 56,
     "metadata": {},
     "output_type": "execute_result"
    }
   ],
   "source": [
    "b_2_squared"
   ]
  },
  {
   "cell_type": "code",
   "execution_count": 57,
   "id": "b6a672c2-b038-4613-bcb2-23241a1837e0",
   "metadata": {},
   "outputs": [],
   "source": [
    "b_2_squared = b_2_squared.subs( { b_0_squared.lhs : b_0_squared.rhs } )"
   ]
  },
  {
   "cell_type": "code",
   "execution_count": 58,
   "id": "969a240c-e976-4f12-96a6-6684c7ff49a8",
   "metadata": {},
   "outputs": [
    {
     "data": {
      "text/latex": [
       "$\\displaystyle B_{2}^{2} = - \\frac{\\frac{4 L_{0} k_{0} \\left(4 B_{2}^{2} L_{0} k_{0} e^{2 L_{0} k_{0}} - B_{2}^{2} e^{4 L_{0} k_{0}} + B_{2}^{2} + 2 N_{0} k_{0} e^{4 L_{0} k_{0}} - 4 N_{0} k_{0} e^{2 L_{0} k_{0}} + 2 N_{0} k_{0}\\right) e^{2 L_{0} k_{0}}}{4 L_{0} k_{0} e^{2 L_{0} k_{0}} - e^{4 L_{0} k_{0}} + 1} - 2 N_{0} k_{0} e^{4 L_{0} k_{0}} + 4 N_{0} k_{0} e^{2 L_{0} k_{0}} - 2 N_{0} k_{0} - \\frac{\\left(4 B_{2}^{2} L_{0} k_{0} e^{2 L_{0} k_{0}} - B_{2}^{2} e^{4 L_{0} k_{0}} + B_{2}^{2} + 2 N_{0} k_{0} e^{4 L_{0} k_{0}} - 4 N_{0} k_{0} e^{2 L_{0} k_{0}} + 2 N_{0} k_{0}\\right) e^{4 L_{0} k_{0}}}{4 L_{0} k_{0} e^{2 L_{0} k_{0}} - e^{4 L_{0} k_{0}} + 1} + \\frac{4 B_{2}^{2} L_{0} k_{0} e^{2 L_{0} k_{0}} - B_{2}^{2} e^{4 L_{0} k_{0}} + B_{2}^{2} + 2 N_{0} k_{0} e^{4 L_{0} k_{0}} - 4 N_{0} k_{0} e^{2 L_{0} k_{0}} + 2 N_{0} k_{0}}{4 L_{0} k_{0} e^{2 L_{0} k_{0}} - e^{4 L_{0} k_{0}} + 1}}{4 L_{0} k_{0} e^{2 L_{0} k_{0}} - e^{4 L_{0} k_{0}} + 1}$"
      ],
      "text/plain": [
       "Eq(B_{2}**2, -(4*L_0*k_0*(4*B_{2}**2*L_0*k_0*exp(2*L_0*k_0) - B_{2}**2*exp(4*L_0*k_0) + B_{2}**2 + 2*N_0*k_0*exp(4*L_0*k_0) - 4*N_0*k_0*exp(2*L_0*k_0) + 2*N_0*k_0)*exp(2*L_0*k_0)/(4*L_0*k_0*exp(2*L_0*k_0) - exp(4*L_0*k_0) + 1) - 2*N_0*k_0*exp(4*L_0*k_0) + 4*N_0*k_0*exp(2*L_0*k_0) - 2*N_0*k_0 - (4*B_{2}**2*L_0*k_0*exp(2*L_0*k_0) - B_{2}**2*exp(4*L_0*k_0) + B_{2}**2 + 2*N_0*k_0*exp(4*L_0*k_0) - 4*N_0*k_0*exp(2*L_0*k_0) + 2*N_0*k_0)*exp(4*L_0*k_0)/(4*L_0*k_0*exp(2*L_0*k_0) - exp(4*L_0*k_0) + 1) + (4*B_{2}**2*L_0*k_0*exp(2*L_0*k_0) - B_{2}**2*exp(4*L_0*k_0) + B_{2}**2 + 2*N_0*k_0*exp(4*L_0*k_0) - 4*N_0*k_0*exp(2*L_0*k_0) + 2*N_0*k_0)/(4*L_0*k_0*exp(2*L_0*k_0) - exp(4*L_0*k_0) + 1))/(4*L_0*k_0*exp(2*L_0*k_0) - exp(4*L_0*k_0) + 1))"
      ]
     },
     "execution_count": 58,
     "metadata": {},
     "output_type": "execute_result"
    }
   ],
   "source": [
    "b_2_squared"
   ]
  },
  {
   "cell_type": "code",
   "execution_count": 59,
   "id": "aca6b76c-ed72-4072-8d9d-53ff4ee9e1ae",
   "metadata": {},
   "outputs": [],
   "source": [
    "b_2_squared = b_2_squared.simplify()"
   ]
  },
  {
   "cell_type": "code",
   "execution_count": 60,
   "id": "02bab711-23cd-4f43-83db-1d6b225b36b7",
   "metadata": {},
   "outputs": [
    {
     "data": {
      "text/latex": [
       "$\\displaystyle B_{2}^{2} = 0$"
      ],
      "text/plain": [
       "Eq(B_{2}**2, 0)"
      ]
     },
     "execution_count": 60,
     "metadata": {},
     "output_type": "execute_result"
    }
   ],
   "source": [
    "b_2_squared"
   ]
  },
  {
   "cell_type": "code",
   "execution_count": 71,
   "id": "2e690c4a-11d3-4e43-bd0b-a9a105b35510",
   "metadata": {},
   "outputs": [
    {
     "data": {
      "text/latex": [
       "$\\displaystyle \\sqrt{B_{2}^{2}}$"
      ],
      "text/plain": [
       "sqrt(B_{2}**2)"
      ]
     },
     "execution_count": 71,
     "metadata": {},
     "output_type": "execute_result"
    }
   ],
   "source": []
  },
  {
   "cell_type": "code",
   "execution_count": null,
   "id": "3add2520-0296-4686-9aaf-653e739bcb29",
   "metadata": {},
   "outputs": [],
   "source": []
  },
  {
   "cell_type": "code",
   "execution_count": 72,
   "id": "16f2cb35-2475-40c7-ace7-e4a17885f596",
   "metadata": {},
   "outputs": [
    {
     "data": {
      "text/latex": [
       "$\\displaystyle B_{1} = \\frac{B_{1} e^{2 L_{2} k_{2}}}{e^{2 L_{2} k_{2}} - 1} - \\frac{B_{1}}{e^{2 L_{2} k_{2}} - 1}$"
      ],
      "text/plain": [
       "Eq(B_{1}, B_{1}*exp(2*L_2*k_2)/(exp(2*L_2*k_2) - 1) - B_{1}/(exp(2*L_2*k_2) - 1))"
      ]
     },
     "execution_count": 72,
     "metadata": {},
     "output_type": "execute_result"
    }
   ],
   "source": [
    "results[ 0 ][ 2 ].subs( { stairwell_solver.boundry_constant_symbols[ 2 ] : sp.sqrt( b_2_squared.rhs ) } )"
   ]
  },
  {
   "cell_type": "code",
   "execution_count": 73,
   "id": "207fc759-a74c-435e-b767-905d66ca7231",
   "metadata": {},
   "outputs": [],
   "source": [
    "b_1_solutions = sp.solve( [ \n",
    "                results[ 0 ][ 2 ].subs( { stairwell_solver.boundry_constant_symbols[ 2 ] : sp.sqrt( b_2_squared.rhs ) } ), \n",
    "                results[ 0 ][ 2 ].subs( { stairwell_solver.boundry_constant_symbols[ 2 ] : sp.sqrt( b_2_squared.rhs ) } ) \n",
    "        ], \n",
    "        stairwell_solver.boundry_constant_symbols[ 1 ] \n",
    "    )"
   ]
  },
  {
   "cell_type": "code",
   "execution_count": 74,
   "id": "3eff8e61-f848-41c0-883d-04bbf8a7afc1",
   "metadata": {},
   "outputs": [
    {
     "data": {
      "text/plain": [
       "{B_{1}: 0}"
      ]
     },
     "execution_count": 74,
     "metadata": {},
     "output_type": "execute_result"
    }
   ],
   "source": [
    "b_1_solutions"
   ]
  },
  {
   "cell_type": "code",
   "execution_count": null,
   "id": "42aaafed-c752-487b-ae0f-888035fb4885",
   "metadata": {},
   "outputs": [],
   "source": []
  }
 ],
 "metadata": {
  "kernelspec": {
   "display_name": "Python 3 (ipykernel)",
   "language": "python",
   "name": "python3"
  },
  "language_info": {
   "codemirror_mode": {
    "name": "ipython",
    "version": 3
   },
   "file_extension": ".py",
   "mimetype": "text/x-python",
   "name": "python",
   "nbconvert_exporter": "python",
   "pygments_lexer": "ipython3",
   "version": "3.10.4"
  }
 },
 "nbformat": 4,
 "nbformat_minor": 5
}
