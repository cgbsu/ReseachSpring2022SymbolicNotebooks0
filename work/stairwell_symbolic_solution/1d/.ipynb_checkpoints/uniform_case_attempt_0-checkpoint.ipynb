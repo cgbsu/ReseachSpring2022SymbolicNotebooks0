{
 "cells": [
  {
   "cell_type": "code",
   "execution_count": 1,
   "id": "9da4ca07-5038-40fc-b597-27be53769384",
   "metadata": {},
   "outputs": [],
   "source": [
    "import sympy as sp"
   ]
  },
  {
   "cell_type": "code",
   "execution_count": 2,
   "id": "bbd2fd19-a4e7-44c8-ba72-b83d5ae065ea",
   "metadata": {},
   "outputs": [],
   "source": [
    "import sympy.physics.units.quantities as sq"
   ]
  },
  {
   "cell_type": "code",
   "execution_count": 3,
   "id": "3b8c39ff-3668-4ef3-9add-b334784a3333",
   "metadata": {},
   "outputs": [],
   "source": [
    "from sympy.physics.quantum.constants import hbar"
   ]
  },
  {
   "cell_type": "code",
   "execution_count": null,
   "id": "75e40f13-aa6e-41d1-9ced-7a90df52a98e",
   "metadata": {},
   "outputs": [],
   "source": []
  },
  {
   "cell_type": "code",
   "execution_count": 4,
   "id": "82f14997-b75d-4dd8-baf6-d565f0b12bd1",
   "metadata": {},
   "outputs": [],
   "source": [
    "from custom_libraries.stepper import *"
   ]
  },
  {
   "cell_type": "code",
   "execution_count": 5,
   "id": "100adb60-1868-493c-bbe9-9b2dd1bf5af6",
   "metadata": {},
   "outputs": [],
   "source": [
    "from custom_libraries.schrodinger import *"
   ]
  },
  {
   "cell_type": "code",
   "execution_count": null,
   "id": "151680e1-cc8c-4f02-9fbc-32cb1b19f56f",
   "metadata": {},
   "outputs": [],
   "source": []
  },
  {
   "cell_type": "code",
   "execution_count": 6,
   "id": "b271a58d-22d7-44c8-bf0a-5fab37e86cc1",
   "metadata": {},
   "outputs": [],
   "source": [
    "# This attempt will be a non - repeating case with the high stair potential at either end\n",
    "# with 3 uniform length steps (except sort of for the first one, which will be continuous in the \n",
    "# negative x direction forever."
   ]
  },
  {
   "cell_type": "code",
   "execution_count": null,
   "id": "eac5073a-1c1c-47fc-a5fe-c85a9b97a94b",
   "metadata": {},
   "outputs": [],
   "source": []
  },
  {
   "cell_type": "code",
   "execution_count": 7,
   "id": "28f07509-7ef5-4f17-80e0-6a2597bd87e6",
   "metadata": {},
   "outputs": [],
   "source": [
    "schrodinger_equation = Stepper( time_independent_schroedinger_equation_1d(), closed = False )"
   ]
  },
  {
   "cell_type": "code",
   "execution_count": 8,
   "id": "63d98c3d-25ff-498e-91e9-ec9a138549d1",
   "metadata": {},
   "outputs": [
    {
     "data": {
      "text/latex": [
       "$\\displaystyle V{\\left(x \\right)} \\psi{\\left(x \\right)} - \\frac{\\hbar^{2} \\frac{d^{2}}{d x^{2}} \\psi{\\left(x \\right)}}{2 \\text{m}} = E \\psi{\\left(x \\right)}$"
      ],
      "text/plain": [
       "Eq(V(x)*psi(x) - hbar**2*Derivative(psi(x), (x, 2))/(2*m), E*psi(x))"
      ]
     },
     "execution_count": 8,
     "metadata": {},
     "output_type": "execute_result"
    }
   ],
   "source": [
    "schrodinger_equation.last_step()"
   ]
  },
  {
   "cell_type": "code",
   "execution_count": 9,
   "id": "aa599a15-409a-4dc3-a099-e812de19bb05",
   "metadata": {},
   "outputs": [],
   "source": [
    "position = POSITION_SYMBOL"
   ]
  },
  {
   "cell_type": "code",
   "execution_count": null,
   "id": "4f71ad9b-f835-4842-bf51-29eed9bb2be6",
   "metadata": {},
   "outputs": [],
   "source": []
  },
  {
   "cell_type": "code",
   "execution_count": 10,
   "id": "9bce8cf0-e347-4d5b-9694-3ab6a0c44801",
   "metadata": {},
   "outputs": [],
   "source": [
    "potential_x = schrodinger_equation.symbols().V( position )"
   ]
  },
  {
   "cell_type": "code",
   "execution_count": null,
   "id": "8c12f09c-0ef0-4bfe-8b16-e3204fdab62d",
   "metadata": {},
   "outputs": [],
   "source": []
  },
  {
   "cell_type": "code",
   "execution_count": 11,
   "id": "9dc52630-34ce-45d9-89d8-f9bff986c6a5",
   "metadata": {},
   "outputs": [],
   "source": [
    "psi_x = schrodinger_equation.symbols().psi( position )"
   ]
  },
  {
   "cell_type": "code",
   "execution_count": 12,
   "id": "6eeb915f-8837-4e45-8f74-795026067bbe",
   "metadata": {},
   "outputs": [
    {
     "data": {
      "text/latex": [
       "$\\displaystyle \\psi{\\left(x \\right)}$"
      ],
      "text/plain": [
       "psi(x)"
      ]
     },
     "execution_count": 12,
     "metadata": {},
     "output_type": "execute_result"
    }
   ],
   "source": [
    "psi_x"
   ]
  },
  {
   "cell_type": "code",
   "execution_count": null,
   "id": "5cddfcae-0fd3-4477-b46c-24a607e83429",
   "metadata": {},
   "outputs": [],
   "source": []
  },
  {
   "cell_type": "code",
   "execution_count": 13,
   "id": "7de968da-76a1-4f06-ad00-c48dd424cb03",
   "metadata": {},
   "outputs": [],
   "source": [
    "potentials = StairWell.UNIFORM_POTENTIALS"
   ]
  },
  {
   "cell_type": "code",
   "execution_count": 14,
   "id": "dc6153d1-ab41-4c89-9f80-5d82fed3078c",
   "metadata": {},
   "outputs": [
    {
     "data": {
      "text/plain": [
       "(V, 2*V/3, V/3)"
      ]
     },
     "execution_count": 14,
     "metadata": {},
     "output_type": "execute_result"
    }
   ],
   "source": [
    "potentials"
   ]
  },
  {
   "cell_type": "code",
   "execution_count": null,
   "id": "b6dc5ad6-15a7-4865-bb4b-b984f7e15a1c",
   "metadata": {},
   "outputs": [],
   "source": []
  },
  {
   "cell_type": "code",
   "execution_count": 28,
   "id": "fb99e393-f197-482e-ba20-94c2a3e471f3",
   "metadata": {},
   "outputs": [],
   "source": [
    "equations = [\n",
    "        Stepper( schrodinger_equation.last_step().subs( potential_x, potential ) \\\n",
    "                .replace( psi_x, sp.Function( \"\\psi_{\" + str( potential ) + '}' )( position ) ) )\n",
    "        for potential in potentials\n",
    "    ]"
   ]
  },
  {
   "cell_type": "code",
   "execution_count": 30,
   "id": "7a62fb86-bb35-4d82-a36b-49d636676fcc",
   "metadata": {},
   "outputs": [
    {
     "data": {
      "text/latex": [
       "$\\displaystyle V \\psi_{V}{\\left(x \\right)} - \\frac{\\hbar^{2} \\frac{d^{2}}{d x^{2}} \\psi_{V}{\\left(x \\right)}}{2 \\text{m}} = E \\psi_{V}{\\left(x \\right)}$"
      ],
      "text/plain": [
       "Eq(V*\\psi_{V}(x) - hbar**2*Derivative(\\psi_{V}(x), (x, 2))/(2*m), E*\\psi_{V}(x))"
      ]
     },
     "execution_count": 30,
     "metadata": {},
     "output_type": "execute_result"
    }
   ],
   "source": [
    "equations[ 0 ].last_step()"
   ]
  },
  {
   "cell_type": "code",
   "execution_count": 31,
   "id": "37baa484-16a4-4d60-84b5-ddd19761a492",
   "metadata": {},
   "outputs": [
    {
     "data": {
      "text/latex": [
       "$\\displaystyle \\frac{2 V \\psi_{2*V/3}{\\left(x \\right)}}{3} - \\frac{\\hbar^{2} \\frac{d^{2}}{d x^{2}} \\psi_{2*V/3}{\\left(x \\right)}}{2 \\text{m}} = E \\psi_{2*V/3}{\\left(x \\right)}$"
      ],
      "text/plain": [
       "Eq(2*V*\\psi_{2*V/3}(x)/3 - hbar**2*Derivative(\\psi_{2*V/3}(x), (x, 2))/(2*m), E*\\psi_{2*V/3}(x))"
      ]
     },
     "execution_count": 31,
     "metadata": {},
     "output_type": "execute_result"
    }
   ],
   "source": [
    "equations[ 1 ].last_step()"
   ]
  },
  {
   "cell_type": "code",
   "execution_count": 32,
   "id": "e2b4c987-b9d9-48c4-9bf4-4468b50f79d7",
   "metadata": {},
   "outputs": [
    {
     "data": {
      "text/latex": [
       "$\\displaystyle \\frac{V \\psi_{V/3}{\\left(x \\right)}}{3} - \\frac{\\hbar^{2} \\frac{d^{2}}{d x^{2}} \\psi_{V/3}{\\left(x \\right)}}{2 \\text{m}} = E \\psi_{V/3}{\\left(x \\right)}$"
      ],
      "text/plain": [
       "Eq(V*\\psi_{V/3}(x)/3 - hbar**2*Derivative(\\psi_{V/3}(x), (x, 2))/(2*m), E*\\psi_{V/3}(x))"
      ]
     },
     "execution_count": 32,
     "metadata": {},
     "output_type": "execute_result"
    }
   ],
   "source": [
    "equations[ 2 ].last_step()"
   ]
  },
  {
   "cell_type": "code",
   "execution_count": 34,
   "id": "c14e607d-fc66-4342-a1af-77c7f285ded2",
   "metadata": {},
   "outputs": [
    {
     "data": {
      "text/plain": [
       "[]"
      ]
     },
     "execution_count": 34,
     "metadata": {},
     "output_type": "execute_result"
    }
   ],
   "source": [
    "sp.solve( equations[ 2 ].last_step(), psi_x )"
   ]
  },
  {
   "cell_type": "code",
   "execution_count": 41,
   "id": "7117292c-2250-43e2-b1cb-dd17ea0167f7",
   "metadata": {},
   "outputs": [
    {
     "data": {
      "text/latex": [
       "$\\displaystyle \\psi_{V/3}{\\left(x \\right)}$"
      ],
      "text/plain": [
       "\\psi_{V/3}(x)"
      ]
     },
     "execution_count": 41,
     "metadata": {},
     "output_type": "execute_result"
    }
   ],
   "source": [
    "equations[ 2 ].symbols()._psi__V_divide_3_( position )"
   ]
  },
  {
   "cell_type": "code",
   "execution_count": 38,
   "id": "0ada498c-402f-4599-bb65-6548cd7eb3f3",
   "metadata": {},
   "outputs": [
    {
     "data": {
      "text/plain": [
       "['ADD_REPLACE',\n",
       " 'DIVIDE_REPLACE',\n",
       " 'E',\n",
       " 'FORBIDDEN_IN_SYMBOL',\n",
       " 'FUNCTION_WITH_PARAMETER_REGEX',\n",
       " 'IS_FUNCTION_REGEX',\n",
       " 'MATH_OPERATIONS_REPLACE',\n",
       " 'MULTIPLY_REPLACE',\n",
       " 'NUMBER_PREFIX',\n",
       " 'NUMBER_REGEX',\n",
       " 'None',\n",
       " 'PERMISSABLE_PREFIXES',\n",
       " 'RAISE_REPLACE',\n",
       " 'SUBTRACT_REPLACE',\n",
       " 'V',\n",
       " '__class__',\n",
       " '__delattr__',\n",
       " '__dict__',\n",
       " '__dir__',\n",
       " '__doc__',\n",
       " '__eq__',\n",
       " '__format__',\n",
       " '__ge__',\n",
       " '__getattribute__',\n",
       " '__gt__',\n",
       " '__hash__',\n",
       " '__init__',\n",
       " '__init_subclass__',\n",
       " '__le__',\n",
       " '__lt__',\n",
       " '__module__',\n",
       " '__ne__',\n",
       " '__new__',\n",
       " '__reduce__',\n",
       " '__reduce_ex__',\n",
       " '__repr__',\n",
       " '__setattr__',\n",
       " '__sizeof__',\n",
       " '__str__',\n",
       " '__subclasshook__',\n",
       " '__weakref__',\n",
       " '_number_1_divide_3',\n",
       " '_number_2',\n",
       " '_psi__V_divide_3_',\n",
       " '_psi__V_divide_3__x_',\n",
       " '_push_function',\n",
       " '_sanitize',\n",
       " '_subtract_1',\n",
       " '_subtract_1_divide_2',\n",
       " 'add_symbol',\n",
       " 'add_symbols',\n",
       " 'hbar',\n",
       " 'm',\n",
       " 'table_to_symbols',\n",
       " 'x']"
      ]
     },
     "execution_count": 38,
     "metadata": {},
     "output_type": "execute_result"
    }
   ],
   "source": [
    "dir( equations[ 2 ].symbols() )"
   ]
  },
  {
   "cell_type": "code",
   "execution_count": null,
   "id": "bc51b09a-c161-4008-b763-81f71b487841",
   "metadata": {},
   "outputs": [],
   "source": []
  }
 ],
 "metadata": {
  "kernelspec": {
   "display_name": "Python 3 (ipykernel)",
   "language": "python",
   "name": "python3"
  },
  "language_info": {
   "codemirror_mode": {
    "name": "ipython",
    "version": 3
   },
   "file_extension": ".py",
   "mimetype": "text/x-python",
   "name": "python",
   "nbconvert_exporter": "python",
   "pygments_lexer": "ipython3",
   "version": "3.9.10"
  }
 },
 "nbformat": 4,
 "nbformat_minor": 5
}
