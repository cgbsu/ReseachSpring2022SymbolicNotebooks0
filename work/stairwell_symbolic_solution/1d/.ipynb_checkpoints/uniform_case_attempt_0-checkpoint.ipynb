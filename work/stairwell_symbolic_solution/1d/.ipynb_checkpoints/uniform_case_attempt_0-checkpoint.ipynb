{
 "cells": [
  {
   "cell_type": "code",
   "execution_count": 1,
   "id": "9da4ca07-5038-40fc-b597-27be53769384",
   "metadata": {},
   "outputs": [],
   "source": [
    "import sympy as sp"
   ]
  },
  {
   "cell_type": "code",
   "execution_count": 2,
   "id": "bbd2fd19-a4e7-44c8-ba72-b83d5ae065ea",
   "metadata": {},
   "outputs": [],
   "source": [
    "import sympy.physics.units.quantities as sq"
   ]
  },
  {
   "cell_type": "code",
   "execution_count": 3,
   "id": "3b8c39ff-3668-4ef3-9add-b334784a3333",
   "metadata": {},
   "outputs": [],
   "source": [
    "from sympy.physics.quantum.constants import hbar"
   ]
  },
  {
   "cell_type": "code",
   "execution_count": null,
   "id": "75e40f13-aa6e-41d1-9ced-7a90df52a98e",
   "metadata": {},
   "outputs": [],
   "source": []
  },
  {
   "cell_type": "code",
   "execution_count": 4,
   "id": "82f14997-b75d-4dd8-baf6-d565f0b12bd1",
   "metadata": {},
   "outputs": [],
   "source": [
    "from custom_libraries.stepper import *"
   ]
  },
  {
   "cell_type": "code",
   "execution_count": 5,
   "id": "100adb60-1868-493c-bbe9-9b2dd1bf5af6",
   "metadata": {},
   "outputs": [],
   "source": [
    "from custom_libraries.schrodinger import *"
   ]
  },
  {
   "cell_type": "code",
   "execution_count": null,
   "id": "151680e1-cc8c-4f02-9fbc-32cb1b19f56f",
   "metadata": {},
   "outputs": [],
   "source": []
  },
  {
   "cell_type": "code",
   "execution_count": 6,
   "id": "8984696f-ac0b-4d68-8f5f-036778be011f",
   "metadata": {},
   "outputs": [],
   "source": [
    "stairwell_solver = TimeIndependentSchrodingerConstantPotentials1D( \n",
    "        StairWell.default_non_uniform_length_potential_table(), \n",
    "        tuple( StairWell.default_non_uniform_length_potential_table().keys() )[ -1 ], \n",
    "        make_psis = make_psi_numbered, \n",
    "        repeating = True\n",
    "    )"
   ]
  },
  {
   "cell_type": "code",
   "execution_count": null,
   "id": "2e946e04-0121-448e-8269-4e69ba4e1c28",
   "metadata": {},
   "outputs": [],
   "source": []
  },
  {
   "cell_type": "code",
   "execution_count": 7,
   "id": "bc51b09a-c161-4008-b763-81f71b487841",
   "metadata": {},
   "outputs": [
    {
     "data": {
      "text/latex": [
       "$\\displaystyle V_{0} \\psi_{0}{\\left(x \\right)} - \\frac{\\hbar^{2} \\frac{d^{2}}{d x^{2}} \\psi_{0}{\\left(x \\right)}}{2 \\text{m}} = E \\psi_{0}{\\left(x \\right)}$"
      ],
      "text/plain": [
       "Eq(V_0*\\psi_{0}(x) - hbar**2*Derivative(\\psi_{0}(x), (x, 2))/(2*m), E*\\psi_{0}(x))"
      ]
     },
     "metadata": {},
     "output_type": "display_data"
    },
    {
     "data": {
      "text/latex": [
       "$\\displaystyle V_{1} \\psi_{1}{\\left(x \\right)} - \\frac{\\hbar^{2} \\frac{d^{2}}{d x^{2}} \\psi_{1}{\\left(x \\right)}}{2 \\text{m}} = E \\psi_{1}{\\left(x \\right)}$"
      ],
      "text/plain": [
       "Eq(V_1*\\psi_{1}(x) - hbar**2*Derivative(\\psi_{1}(x), (x, 2))/(2*m), E*\\psi_{1}(x))"
      ]
     },
     "metadata": {},
     "output_type": "display_data"
    },
    {
     "data": {
      "text/latex": [
       "$\\displaystyle V_{2} \\psi_{2}{\\left(x \\right)} - \\frac{\\hbar^{2} \\frac{d^{2}}{d x^{2}} \\psi_{2}{\\left(x \\right)}}{2 \\text{m}} = E \\psi_{2}{\\left(x \\right)}$"
      ],
      "text/plain": [
       "Eq(V_2*\\psi_{2}(x) - hbar**2*Derivative(\\psi_{2}(x), (x, 2))/(2*m), E*\\psi_{2}(x))"
      ]
     },
     "metadata": {},
     "output_type": "display_data"
    }
   ],
   "source": [
    "display_steps( stairwell_solver.equations )"
   ]
  },
  {
   "cell_type": "code",
   "execution_count": null,
   "id": "a0757648-d8b4-4a28-b351-221f4830ff75",
   "metadata": {},
   "outputs": [],
   "source": []
  },
  {
   "cell_type": "code",
   "execution_count": 8,
   "id": "28d85323-24e4-49cb-93e6-54953e6104c7",
   "metadata": {},
   "outputs": [
    {
     "data": {
      "text/latex": [
       "$\\displaystyle k_{0} = \\frac{\\sqrt{2} \\sqrt{- E + V_{0}} \\sqrt{\\text{m}}}{\\hbar}$"
      ],
      "text/plain": [
       "Eq(k_0, sqrt(2)*sqrt(m)*sqrt(-E + V_0)/hbar)"
      ]
     },
     "metadata": {},
     "output_type": "display_data"
    },
    {
     "data": {
      "text/latex": [
       "$\\displaystyle k_{1} = \\frac{\\sqrt{2} \\sqrt{- E + V_{1}} \\sqrt{\\text{m}}}{\\hbar}$"
      ],
      "text/plain": [
       "Eq(k_1, sqrt(2)*sqrt(m)*sqrt(-E + V_1)/hbar)"
      ]
     },
     "metadata": {},
     "output_type": "display_data"
    },
    {
     "data": {
      "text/latex": [
       "$\\displaystyle k_{2} = \\frac{\\sqrt{2} \\sqrt{- E + V_{2}} \\sqrt{\\text{m}}}{\\hbar}$"
      ],
      "text/plain": [
       "Eq(k_2, sqrt(2)*sqrt(m)*sqrt(-E + V_2)/hbar)"
      ]
     },
     "metadata": {},
     "output_type": "display_data"
    }
   ],
   "source": [
    "display_in( stairwell_solver.harmonic_constants )"
   ]
  },
  {
   "cell_type": "code",
   "execution_count": 9,
   "id": "20f53166-87ec-4057-932d-5b0947a3427b",
   "metadata": {},
   "outputs": [
    {
     "data": {
      "text/plain": [
       "{'ContinuityConditions': {\\psi_{0}(L_0): \\psi_{1}(L_0),\n",
       "  \\psi_{1}(L_1): \\psi_{2}(L_1)},\n",
       " 'RepeatingPotentialsCondition': {\\psi_{0}(0): \\psi_{2}(L_2)}}"
      ]
     },
     "execution_count": 9,
     "metadata": {},
     "output_type": "execute_result"
    }
   ],
   "source": [
    "stairwell_solver.boundries.boundries"
   ]
  },
  {
   "cell_type": "code",
   "execution_count": null,
   "id": "f8c12c70-f44f-4956-a781-701bedd7ef0f",
   "metadata": {},
   "outputs": [],
   "source": []
  },
  {
   "cell_type": "code",
   "execution_count": 10,
   "id": "9fe5cbdc-ea5a-4ca1-a54f-a70e30069bec",
   "metadata": {},
   "outputs": [
    {
     "data": {
      "text/plain": [
       "{\\psi_{0}(L_0): \\psi_{1}(L_0), \\psi_{1}(L_1): \\psi_{2}(L_1)}"
      ]
     },
     "execution_count": 10,
     "metadata": {},
     "output_type": "execute_result"
    }
   ],
   "source": [
    "stairwell_solver.boundries.ContinuityConditions"
   ]
  },
  {
   "cell_type": "code",
   "execution_count": null,
   "id": "1cee42e4-0490-4850-b52f-3b6b9547e3f1",
   "metadata": {},
   "outputs": [],
   "source": []
  },
  {
   "cell_type": "code",
   "execution_count": 11,
   "id": "d78132f8-2d0a-438c-a94d-3c5d1b79786d",
   "metadata": {},
   "outputs": [
    {
     "data": {
      "text/plain": [
       "{\\psi_{0}(0): \\psi_{2}(L_2)}"
      ]
     },
     "execution_count": 11,
     "metadata": {},
     "output_type": "execute_result"
    }
   ],
   "source": [
    "stairwell_solver.boundries.RepeatingPotentialsCondition"
   ]
  },
  {
   "cell_type": "code",
   "execution_count": null,
   "id": "f6a50bbd-8100-46f9-ae17-0fd5de021574",
   "metadata": {},
   "outputs": [],
   "source": []
  },
  {
   "cell_type": "code",
   "execution_count": 15,
   "id": "bad0d660-061c-4402-af40-79303da747d0",
   "metadata": {},
   "outputs": [
    {
     "data": {
      "text/plain": [
       "{\\psi_{0}(L_0): \\psi_{1}(L_0),\n",
       " \\psi_{1}(L_1): \\psi_{2}(L_1),\n",
       " \\psi_{0}(0): \\psi_{2}(L_2)}"
      ]
     },
     "execution_count": 15,
     "metadata": {},
     "output_type": "execute_result"
    }
   ],
   "source": [
    "stairwell_solver.boundries.update_all_boundry_conditions()"
   ]
  },
  {
   "cell_type": "code",
   "execution_count": null,
   "id": "4b7fbdf2-6c1c-4e13-bd4d-a8a90fbb6f43",
   "metadata": {},
   "outputs": [],
   "source": []
  },
  {
   "cell_type": "code",
   "execution_count": 16,
   "id": "03f1960a-88b6-4ef2-9101-fb89a936000a",
   "metadata": {},
   "outputs": [
    {
     "data": {
      "text/plain": [
       "'ContinuityConditions'"
      ]
     },
     "metadata": {},
     "output_type": "display_data"
    },
    {
     "data": {
      "text/latex": [
       "$\\displaystyle \\psi_{0}{\\left(L_{0} \\right)} = \\psi_{1}{\\left(L_{0} \\right)}$"
      ],
      "text/plain": [
       "Eq(\\psi_{0}(L_0), \\psi_{1}(L_0))"
      ]
     },
     "metadata": {},
     "output_type": "display_data"
    },
    {
     "data": {
      "text/latex": [
       "$\\displaystyle \\psi_{1}{\\left(L_{1} \\right)} = \\psi_{2}{\\left(L_{1} \\right)}$"
      ],
      "text/plain": [
       "Eq(\\psi_{1}(L_1), \\psi_{2}(L_1))"
      ]
     },
     "metadata": {},
     "output_type": "display_data"
    },
    {
     "data": {
      "text/plain": [
       "'RepeatingPotentialsCondition'"
      ]
     },
     "metadata": {},
     "output_type": "display_data"
    },
    {
     "data": {
      "text/latex": [
       "$\\displaystyle \\psi_{0}{\\left(0 \\right)} = \\psi_{2}{\\left(L_{2} \\right)}$"
      ],
      "text/plain": [
       "Eq(\\psi_{0}(0), \\psi_{2}(L_2))"
      ]
     },
     "metadata": {},
     "output_type": "display_data"
    },
    {
     "data": {
      "text/plain": [
       "'LastUpdatedAllBoundryConditions'"
      ]
     },
     "metadata": {},
     "output_type": "display_data"
    },
    {
     "data": {
      "text/latex": [
       "$\\displaystyle \\psi_{0}{\\left(L_{0} \\right)} = \\psi_{1}{\\left(L_{0} \\right)}$"
      ],
      "text/plain": [
       "Eq(\\psi_{0}(L_0), \\psi_{1}(L_0))"
      ]
     },
     "metadata": {},
     "output_type": "display_data"
    },
    {
     "data": {
      "text/latex": [
       "$\\displaystyle \\psi_{1}{\\left(L_{1} \\right)} = \\psi_{2}{\\left(L_{1} \\right)}$"
      ],
      "text/plain": [
       "Eq(\\psi_{1}(L_1), \\psi_{2}(L_1))"
      ]
     },
     "metadata": {},
     "output_type": "display_data"
    },
    {
     "data": {
      "text/latex": [
       "$\\displaystyle \\psi_{0}{\\left(0 \\right)} = \\psi_{2}{\\left(L_{2} \\right)}$"
      ],
      "text/plain": [
       "Eq(\\psi_{0}(0), \\psi_{2}(L_2))"
      ]
     },
     "metadata": {},
     "output_type": "display_data"
    }
   ],
   "source": [
    "stairwell_solver.boundries.display()"
   ]
  },
  {
   "cell_type": "code",
   "execution_count": null,
   "id": "dc9a4e2d-76a8-4278-ba3a-861c8d0f954e",
   "metadata": {},
   "outputs": [],
   "source": []
  }
 ],
 "metadata": {
  "kernelspec": {
   "display_name": "Python 3 (ipykernel)",
   "language": "python",
   "name": "python3"
  },
  "language_info": {
   "codemirror_mode": {
    "name": "ipython",
    "version": 3
   },
   "file_extension": ".py",
   "mimetype": "text/x-python",
   "name": "python",
   "nbconvert_exporter": "python",
   "pygments_lexer": "ipython3",
   "version": "3.9.10"
  }
 },
 "nbformat": 4,
 "nbformat_minor": 5
}
