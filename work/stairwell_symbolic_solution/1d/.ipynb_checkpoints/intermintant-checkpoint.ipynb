{
 "cells": [
  {
   "cell_type": "code",
   "execution_count": 4,
   "id": "22e67c19-01be-4af4-8170-03e2264f7884",
   "metadata": {},
   "outputs": [],
   "source": [
    "import sympy as sp"
   ]
  },
  {
   "cell_type": "code",
   "execution_count": 5,
   "id": "2b128a66-5d73-46b0-a45f-d088df02dcdf",
   "metadata": {},
   "outputs": [],
   "source": [
    "from custom_libraries.stepper import *"
   ]
  },
  {
   "cell_type": "code",
   "execution_count": 33,
   "id": "fb491dad-7803-44c2-b4ae-2fe2d3e7f6fc",
   "metadata": {},
   "outputs": [],
   "source": [
    "x, k, A1, A2, B1, B2, C1, C2, V, E, L = sp.symbols( \"x k A1 A2 B1 B2 C1 C2 V E L\" )"
   ]
  },
  {
   "cell_type": "code",
   "execution_count": 34,
   "id": "cda04595-74f6-4d15-96ac-e8297c99b48b",
   "metadata": {},
   "outputs": [],
   "source": [
    "exponential = lambda position, k, first_coefficent, second_coefficent : ( first_coefficent * sp.exp( k * position ) ) + ( second_coefficent * sp.exp( -k * position ) )"
   ]
  },
  {
   "cell_type": "code",
   "execution_count": 35,
   "id": "a318cc0a-a752-4067-b9bb-473c87a3e7ad",
   "metadata": {},
   "outputs": [],
   "source": [
    "ex0 = exponential( x, k, B1, B2 )"
   ]
  },
  {
   "cell_type": "code",
   "execution_count": 36,
   "id": "bf0c9188-87bb-4915-92ff-96c08737fa25",
   "metadata": {},
   "outputs": [
    {
     "data": {
      "text/latex": [
       "$\\displaystyle B_{1} e^{k x} + B_{2} e^{- k x}$"
      ],
      "text/plain": [
       "B1*exp(k*x) + B2*exp(-k*x)"
      ]
     },
     "execution_count": 36,
     "metadata": {},
     "output_type": "execute_result"
    }
   ],
   "source": [
    "ex0"
   ]
  },
  {
   "cell_type": "code",
   "execution_count": null,
   "id": "5a6ba97b-39a8-42cc-9479-740bd3cd88ff",
   "metadata": {},
   "outputs": [],
   "source": []
  },
  {
   "cell_type": "code",
   "execution_count": 79,
   "id": "e4c46a91-3b67-4c97-ac63-d5333f0ba364",
   "metadata": {},
   "outputs": [],
   "source": [
    "A = sp.Symbol( 'A' )"
   ]
  },
  {
   "cell_type": "code",
   "execution_count": 80,
   "id": "ad7e3a80-d0ed-4be4-b2d4-5b4efd681186",
   "metadata": {},
   "outputs": [],
   "source": [
    "ex1 = exponential( 0, k, A1, A2 ).subs( { A1 + A2 : A } )"
   ]
  },
  {
   "cell_type": "code",
   "execution_count": 81,
   "id": "2dd95a28-6971-413e-ac87-77c75168428c",
   "metadata": {},
   "outputs": [],
   "source": [
    "ex2 = exponential( L, k, C1, C2 )\n"
   ]
  },
  {
   "cell_type": "code",
   "execution_count": 82,
   "id": "98aec744-c986-4b08-9283-ce725fbe22f1",
   "metadata": {},
   "outputs": [
    {
     "data": {
      "text/latex": [
       "$\\displaystyle A$"
      ],
      "text/plain": [
       "A"
      ]
     },
     "execution_count": 82,
     "metadata": {},
     "output_type": "execute_result"
    }
   ],
   "source": [
    "ex1"
   ]
  },
  {
   "cell_type": "code",
   "execution_count": null,
   "id": "80e6dca2-5a89-4470-accb-37f53c9ab069",
   "metadata": {},
   "outputs": [],
   "source": []
  },
  {
   "cell_type": "code",
   "execution_count": 83,
   "id": "f7abf17b-8271-4a1a-b116-bc5d4899c437",
   "metadata": {},
   "outputs": [],
   "source": [
    "b1s = sp.Eq( B1, sp.solve( [ sp.Eq( ex1, ex2 ), sp.Eq( ex1, ex0 ) ], [ B1, B2 ] )[ B1 ] )"
   ]
  },
  {
   "cell_type": "code",
   "execution_count": 84,
   "id": "cb752ec7-245b-46e1-a74f-5f45a5a4d347",
   "metadata": {},
   "outputs": [
    {
     "data": {
      "text/latex": [
       "$\\displaystyle B_{1} = A e^{- k x} - B_{2} e^{- 2 k x}$"
      ],
      "text/plain": [
       "Eq(B1, A*exp(-k*x) - B2*exp(-2*k*x))"
      ]
     },
     "execution_count": 84,
     "metadata": {},
     "output_type": "execute_result"
    }
   ],
   "source": [
    "b1s"
   ]
  },
  {
   "cell_type": "code",
   "execution_count": 86,
   "id": "1f0ebd3b-0f8a-4583-9de1-0d736f11169f",
   "metadata": {},
   "outputs": [],
   "source": [
    "B = sp.Symbol( 'B' )\n",
    "b_sub = sp.Eq( ex0, ex0.subs( { B1 : B, B2 : 1 } ) )"
   ]
  },
  {
   "cell_type": "code",
   "execution_count": 91,
   "id": "fb892df9-ca8c-4958-9cde-ec6ad32e140b",
   "metadata": {},
   "outputs": [],
   "source": [
    "beq = sp.Eq( B, sp.solve( b_sub, B )[ 0 ] )"
   ]
  },
  {
   "cell_type": "code",
   "execution_count": 98,
   "id": "e6defc50-5090-4a04-b5ae-d2f506af02d6",
   "metadata": {},
   "outputs": [],
   "source": [
    "C = sp.Symbol( 'C' )"
   ]
  },
  {
   "cell_type": "code",
   "execution_count": 104,
   "id": "365a1daf-cf0a-4500-91cd-9a6be945cee4",
   "metadata": {},
   "outputs": [],
   "source": [
    "ceq = sp.Eq( C, sp.solve( sp.Eq( ex2, ex2.subs( { C1 : C, C2 : 1 } ) ), C )[ 0 ] )"
   ]
  },
  {
   "cell_type": "code",
   "execution_count": 105,
   "id": "2c6948ea-ea67-407d-9b8a-10f68706c7d6",
   "metadata": {},
   "outputs": [
    {
     "data": {
      "text/latex": [
       "$\\displaystyle C = \\left(C_{1} e^{2 L k} + C_{2} - 1\\right) e^{- 2 L k}$"
      ],
      "text/plain": [
       "Eq(C, (C1*exp(2*L*k) + C2 - 1)*exp(-2*L*k))"
      ]
     },
     "execution_count": 105,
     "metadata": {},
     "output_type": "execute_result"
    }
   ],
   "source": [
    "ceq"
   ]
  },
  {
   "cell_type": "code",
   "execution_count": 108,
   "id": "61d7232f-5032-45a0-b85c-b7f6027e1a1f",
   "metadata": {},
   "outputs": [],
   "source": [
    "times_2 = sp.Eq( 2 * ex0, ceq.rhs + ex1 )"
   ]
  },
  {
   "cell_type": "code",
   "execution_count": 109,
   "id": "0bae4de9-f13f-4357-ada5-2ec4b14f027f",
   "metadata": {},
   "outputs": [
    {
     "data": {
      "text/latex": [
       "$\\displaystyle 2 B_{1} e^{k x} + 2 B_{2} e^{- k x} = A + \\left(C_{1} e^{2 L k} + C_{2} - 1\\right) e^{- 2 L k}$"
      ],
      "text/plain": [
       "Eq(2*B1*exp(k*x) + 2*B2*exp(-k*x), A + (C1*exp(2*L*k) + C2 - 1)*exp(-2*L*k))"
      ]
     },
     "execution_count": 109,
     "metadata": {},
     "output_type": "execute_result"
    }
   ],
   "source": [
    "times_2"
   ]
  },
  {
   "cell_type": "code",
   "execution_count": 114,
   "id": "837c3520-8924-4725-970c-7b1ac51efcb8",
   "metadata": {},
   "outputs": [
    {
     "data": {
      "text/latex": [
       "$\\displaystyle 2 B_{1} k e^{k x} - 2 B_{2} k e^{- k x}$"
      ],
      "text/plain": [
       "2*B1*k*exp(k*x) - 2*B2*k*exp(-k*x)"
      ]
     },
     "execution_count": 114,
     "metadata": {},
     "output_type": "execute_result"
    }
   ],
   "source": []
  },
  {
   "cell_type": "code",
   "execution_count": 118,
   "id": "c7c96785-b4c0-464e-955d-2e920ca7d7b3",
   "metadata": {},
   "outputs": [],
   "source": [
    "norm = sp.integrate( times_2.lhs / 2 ** 2, ( x, 0, L ) )"
   ]
  },
  {
   "cell_type": "code",
   "execution_count": 119,
   "id": "09d4d48d-d7d4-4d88-9917-41230c42bfe9",
   "metadata": {},
   "outputs": [
    {
     "data": {
      "text/latex": [
       "$\\displaystyle \\begin{cases} - \\frac{2 B_{1} k - 2 B_{2} k}{4 k^{2}} + \\frac{2 B_{1} k e^{L k} - 2 B_{2} k e^{- L k}}{4 k^{2}} & \\text{for}\\: k > -\\infty \\wedge k < \\infty \\wedge k \\neq 0 \\\\L \\left(\\frac{B_{1}}{2} + \\frac{B_{2}}{2}\\right) & \\text{otherwise} \\end{cases}$"
      ],
      "text/plain": [
       "Piecewise((-(2*B1*k - 2*B2*k)/(4*k**2) + (2*B1*k*exp(L*k) - 2*B2*k*exp(-L*k))/(4*k**2), (k > -oo) & (k < oo) & Ne(k, 0)), (L*(B1/2 + B2/2), True))"
      ]
     },
     "execution_count": 119,
     "metadata": {},
     "output_type": "execute_result"
    }
   ],
   "source": [
    "norm"
   ]
  },
  {
   "cell_type": "code",
   "execution_count": 120,
   "id": "f7fcd1e9-cbcd-483f-aac1-f76db1c59b32",
   "metadata": {},
   "outputs": [
    {
     "data": {
      "text/plain": [
       "[]"
      ]
     },
     "execution_count": 120,
     "metadata": {},
     "output_type": "execute_result"
    }
   ],
   "source": [
    "sp.solve( [ sp.Eq( norm, 1 ), times_2 ], [ B1, B2 ] )"
   ]
  },
  {
   "cell_type": "code",
   "execution_count": 111,
   "id": "39bf22ab-6388-4bb2-b431-b6681def58b6",
   "metadata": {},
   "outputs": [
    {
     "data": {
      "text/latex": [
       "$\\displaystyle A = C_{1} e^{L k} + C_{2} e^{- L k}$"
      ],
      "text/plain": [
       "Eq(A, C1*exp(L*k) + C2*exp(-L*k))"
      ]
     },
     "execution_count": 111,
     "metadata": {},
     "output_type": "execute_result"
    }
   ],
   "source": [
    "sp.Eq( ex1, ex2 )"
   ]
  },
  {
   "cell_type": "code",
   "execution_count": 121,
   "id": "a6ef63a4-91e5-448c-8f3e-30a08d5b2c0f",
   "metadata": {},
   "outputs": [],
   "source": [
    "zero = sp.Eq( L * ( ( B1 / 2 ) + B2 / 2 ), A )"
   ]
  },
  {
   "cell_type": "code",
   "execution_count": 126,
   "id": "00443ac4-0f56-45aa-a5fe-2865b4f57167",
   "metadata": {},
   "outputs": [],
   "source": [
    "norm = sp.Eq( norm.args[ 0 ].args[ 0 ], 1 )"
   ]
  },
  {
   "cell_type": "code",
   "execution_count": 127,
   "id": "dbb4f911-f13a-447e-8a72-f81fa8e17a03",
   "metadata": {},
   "outputs": [
    {
     "data": {
      "text/latex": [
       "$\\displaystyle - \\frac{2 B_{1} k - 2 B_{2} k}{4 k^{2}} + \\frac{2 B_{1} k e^{L k} - 2 B_{2} k e^{- L k}}{4 k^{2}} = 1$"
      ],
      "text/plain": [
       "Eq(-(2*B1*k - 2*B2*k)/(4*k**2) + (2*B1*k*exp(L*k) - 2*B2*k*exp(-L*k))/(4*k**2), 1)"
      ]
     },
     "execution_count": 127,
     "metadata": {},
     "output_type": "execute_result"
    }
   ],
   "source": [
    "norm"
   ]
  },
  {
   "cell_type": "code",
   "execution_count": 131,
   "id": "80aadd2b-75c1-49fc-9c0c-f7e99af0bbb1",
   "metadata": {},
   "outputs": [],
   "source": [
    "bsols = sp.solve( [ norm, times_2 ], [ B1, B2 ] )"
   ]
  },
  {
   "cell_type": "code",
   "execution_count": 132,
   "id": "39ce4a9b-4ebb-4b93-b2a7-ef7cc176deec",
   "metadata": {},
   "outputs": [
    {
     "data": {
      "text/latex": [
       "$\\displaystyle - \\frac{A e^{3 L k} e^{k x}}{2 e^{4 L k} - 2 e^{3 L k} e^{2 k x} - 2 e^{3 L k} + 2 e^{2 L k} e^{2 k x}} + \\frac{A e^{2 L k} e^{k x}}{2 e^{4 L k} - 2 e^{3 L k} e^{2 k x} - 2 e^{3 L k} + 2 e^{2 L k} e^{2 k x}} - \\frac{C_{1} e^{3 L k} e^{k x}}{2 e^{4 L k} - 2 e^{3 L k} e^{2 k x} - 2 e^{3 L k} + 2 e^{2 L k} e^{2 k x}} + \\frac{C_{1} e^{2 L k} e^{k x}}{2 e^{4 L k} - 2 e^{3 L k} e^{2 k x} - 2 e^{3 L k} + 2 e^{2 L k} e^{2 k x}} - \\frac{C_{2} e^{L k} e^{k x}}{2 e^{4 L k} - 2 e^{3 L k} e^{2 k x} - 2 e^{3 L k} + 2 e^{2 L k} e^{2 k x}} + \\frac{C_{2} e^{k x}}{2 e^{4 L k} - 2 e^{3 L k} e^{2 k x} - 2 e^{3 L k} + 2 e^{2 L k} e^{2 k x}} + \\frac{4 k e^{3 L k}}{2 e^{4 L k} - 2 e^{3 L k} e^{2 k x} - 2 e^{3 L k} + 2 e^{2 L k} e^{2 k x}} + \\frac{e^{L k} e^{k x}}{2 e^{4 L k} - 2 e^{3 L k} e^{2 k x} - 2 e^{3 L k} + 2 e^{2 L k} e^{2 k x}} - \\frac{e^{k x}}{2 e^{4 L k} - 2 e^{3 L k} e^{2 k x} - 2 e^{3 L k} + 2 e^{2 L k} e^{2 k x}}$"
      ],
      "text/plain": [
       "-A*exp(3*L*k)*exp(k*x)/(2*exp(4*L*k) - 2*exp(3*L*k)*exp(2*k*x) - 2*exp(3*L*k) + 2*exp(2*L*k)*exp(2*k*x)) + A*exp(2*L*k)*exp(k*x)/(2*exp(4*L*k) - 2*exp(3*L*k)*exp(2*k*x) - 2*exp(3*L*k) + 2*exp(2*L*k)*exp(2*k*x)) - C1*exp(3*L*k)*exp(k*x)/(2*exp(4*L*k) - 2*exp(3*L*k)*exp(2*k*x) - 2*exp(3*L*k) + 2*exp(2*L*k)*exp(2*k*x)) + C1*exp(2*L*k)*exp(k*x)/(2*exp(4*L*k) - 2*exp(3*L*k)*exp(2*k*x) - 2*exp(3*L*k) + 2*exp(2*L*k)*exp(2*k*x)) - C2*exp(L*k)*exp(k*x)/(2*exp(4*L*k) - 2*exp(3*L*k)*exp(2*k*x) - 2*exp(3*L*k) + 2*exp(2*L*k)*exp(2*k*x)) + C2*exp(k*x)/(2*exp(4*L*k) - 2*exp(3*L*k)*exp(2*k*x) - 2*exp(3*L*k) + 2*exp(2*L*k)*exp(2*k*x)) + 4*k*exp(3*L*k)/(2*exp(4*L*k) - 2*exp(3*L*k)*exp(2*k*x) - 2*exp(3*L*k) + 2*exp(2*L*k)*exp(2*k*x)) + exp(L*k)*exp(k*x)/(2*exp(4*L*k) - 2*exp(3*L*k)*exp(2*k*x) - 2*exp(3*L*k) + 2*exp(2*L*k)*exp(2*k*x)) - exp(k*x)/(2*exp(4*L*k) - 2*exp(3*L*k)*exp(2*k*x) - 2*exp(3*L*k) + 2*exp(2*L*k)*exp(2*k*x))"
      ]
     },
     "execution_count": 132,
     "metadata": {},
     "output_type": "execute_result"
    }
   ],
   "source": [
    "bsols[ B1 ]"
   ]
  },
  {
   "cell_type": "code",
   "execution_count": 133,
   "id": "2122ab75-b578-4156-88d5-4d11229cf2b0",
   "metadata": {},
   "outputs": [
    {
     "data": {
      "text/latex": [
       "$\\displaystyle \\frac{A e^{3 L k} e^{k x}}{2 e^{3 L k} - 2 e^{2 L k} e^{2 k x} - 2 e^{2 L k} + 2 e^{L k} e^{2 k x}} - \\frac{A e^{2 L k} e^{k x}}{2 e^{3 L k} - 2 e^{2 L k} e^{2 k x} - 2 e^{2 L k} + 2 e^{L k} e^{2 k x}} + \\frac{C_{1} e^{3 L k} e^{k x}}{2 e^{3 L k} - 2 e^{2 L k} e^{2 k x} - 2 e^{2 L k} + 2 e^{L k} e^{2 k x}} - \\frac{C_{1} e^{2 L k} e^{k x}}{2 e^{3 L k} - 2 e^{2 L k} e^{2 k x} - 2 e^{2 L k} + 2 e^{L k} e^{2 k x}} + \\frac{C_{2} e^{L k} e^{k x}}{2 e^{3 L k} - 2 e^{2 L k} e^{2 k x} - 2 e^{2 L k} + 2 e^{L k} e^{2 k x}} - \\frac{C_{2} e^{k x}}{2 e^{3 L k} - 2 e^{2 L k} e^{2 k x} - 2 e^{2 L k} + 2 e^{L k} e^{2 k x}} - \\frac{4 k e^{2 L k} e^{2 k x}}{2 e^{3 L k} - 2 e^{2 L k} e^{2 k x} - 2 e^{2 L k} + 2 e^{L k} e^{2 k x}} - \\frac{e^{L k} e^{k x}}{2 e^{3 L k} - 2 e^{2 L k} e^{2 k x} - 2 e^{2 L k} + 2 e^{L k} e^{2 k x}} + \\frac{e^{k x}}{2 e^{3 L k} - 2 e^{2 L k} e^{2 k x} - 2 e^{2 L k} + 2 e^{L k} e^{2 k x}}$"
      ],
      "text/plain": [
       "A*exp(3*L*k)*exp(k*x)/(2*exp(3*L*k) - 2*exp(2*L*k)*exp(2*k*x) - 2*exp(2*L*k) + 2*exp(L*k)*exp(2*k*x)) - A*exp(2*L*k)*exp(k*x)/(2*exp(3*L*k) - 2*exp(2*L*k)*exp(2*k*x) - 2*exp(2*L*k) + 2*exp(L*k)*exp(2*k*x)) + C1*exp(3*L*k)*exp(k*x)/(2*exp(3*L*k) - 2*exp(2*L*k)*exp(2*k*x) - 2*exp(2*L*k) + 2*exp(L*k)*exp(2*k*x)) - C1*exp(2*L*k)*exp(k*x)/(2*exp(3*L*k) - 2*exp(2*L*k)*exp(2*k*x) - 2*exp(2*L*k) + 2*exp(L*k)*exp(2*k*x)) + C2*exp(L*k)*exp(k*x)/(2*exp(3*L*k) - 2*exp(2*L*k)*exp(2*k*x) - 2*exp(2*L*k) + 2*exp(L*k)*exp(2*k*x)) - C2*exp(k*x)/(2*exp(3*L*k) - 2*exp(2*L*k)*exp(2*k*x) - 2*exp(2*L*k) + 2*exp(L*k)*exp(2*k*x)) - 4*k*exp(2*L*k)*exp(2*k*x)/(2*exp(3*L*k) - 2*exp(2*L*k)*exp(2*k*x) - 2*exp(2*L*k) + 2*exp(L*k)*exp(2*k*x)) - exp(L*k)*exp(k*x)/(2*exp(3*L*k) - 2*exp(2*L*k)*exp(2*k*x) - 2*exp(2*L*k) + 2*exp(L*k)*exp(2*k*x)) + exp(k*x)/(2*exp(3*L*k) - 2*exp(2*L*k)*exp(2*k*x) - 2*exp(2*L*k) + 2*exp(L*k)*exp(2*k*x))"
      ]
     },
     "execution_count": 133,
     "metadata": {},
     "output_type": "execute_result"
    }
   ],
   "source": [
    "bsols[ B2 ]"
   ]
  },
  {
   "cell_type": "code",
   "execution_count": 145,
   "id": "53db1326-6faf-4986-8984-9fc763252c03",
   "metadata": {},
   "outputs": [
    {
     "data": {
      "text/latex": [
       "$\\displaystyle \\frac{\\left(C_{2} e^{k x} + 4 k e^{3 L k} - 4 k e^{k \\left(3 L + 2 x\\right)} + \\left(2 - 2 C_{2}\\right) e^{k \\left(L + x\\right)} + \\left(- 2 A - 2 C_{1}\\right) e^{k \\left(3 L + x\\right)} + \\left(A + C_{1}\\right) e^{k \\left(4 L + x\\right)} + \\left(A + C_{1} + C_{2} - 1\\right) e^{k \\left(2 L + x\\right)} - e^{k x}\\right) e^{- 2 L k}}{2 \\left(e^{2 L k} - e^{L k} + e^{2 k x} - e^{k \\left(L + 2 x\\right)}\\right)}$"
      ],
      "text/plain": [
       "(C2*exp(k*x) + 4*k*exp(3*L*k) - 4*k*exp(k*(3*L + 2*x)) + (2 - 2*C2)*exp(k*(L + x)) + (-2*A - 2*C1)*exp(k*(3*L + x)) + (A + C1)*exp(k*(4*L + x)) + (A + C1 + C2 - 1)*exp(k*(2*L + x)) - exp(k*x))*exp(-2*L*k)/(2*(exp(2*L*k) - exp(L*k) + exp(2*k*x) - exp(k*(L + 2*x))))"
      ]
     },
     "execution_count": 145,
     "metadata": {},
     "output_type": "execute_result"
    }
   ],
   "source": [
    "( bsols[ B1 ] + bsols[ B2 ] ).simplify().refine().cancel().cancel().simplify() \\\n",
    "        .collect( sp.exp( k * ( 2 * L + x ) ) ) \\\n",
    "        .collect( sp.exp( k * ( L + x ) ) ) \\\n",
    "        .collect( sp.exp( k * ( 3 * L + x ) ) ) \\\n",
    "        .collect( sp.exp( k * ( 4 * L + x ) ) )"
   ]
  },
  {
   "cell_type": "code",
   "execution_count": 150,
   "id": "34c54e9b-d659-4d7c-9c63-8ee26267c730",
   "metadata": {},
   "outputs": [
    {
     "data": {
      "text/latex": [
       "$\\displaystyle \\frac{\\left(C_{2} e^{k x} + 4 k e^{3 L k} + \\left(1 - C_{2}\\right) e^{k \\left(L + x\\right)} + \\left(- A - C_{1}\\right) e^{k \\left(3 L + x\\right)} + \\left(A + C_{1}\\right) e^{k \\left(2 L + x\\right)} - e^{k x}\\right) e^{- 2 L k}}{2 \\left(e^{2 L k} - e^{L k} + e^{2 k x} - e^{k \\left(L + 2 x\\right)}\\right)}$"
      ],
      "text/plain": [
       "(C2*exp(k*x) + 4*k*exp(3*L*k) + (1 - C2)*exp(k*(L + x)) + (-A - C1)*exp(k*(3*L + x)) + (A + C1)*exp(k*(2*L + x)) - exp(k*x))*exp(-2*L*k)/(2*(exp(2*L*k) - exp(L*k) + exp(2*k*x) - exp(k*(L + 2*x))))"
      ]
     },
     "execution_count": 150,
     "metadata": {},
     "output_type": "execute_result"
    }
   ],
   "source": [
    "bsols[ B1 ].cancel().simplify() \\\n",
    "        .collect( sp.exp( k * ( 2 * L + x ) ) ) \\\n",
    "        .collect( sp.exp( k * ( L + x ) ) ) \\\n",
    "        .collect( sp.exp( k * ( 3 * L + x ) ) ) \\\n",
    "        .collect( sp.exp( k * ( 4 * L + x ) ) ) "
   ]
  },
  {
   "cell_type": "code",
   "execution_count": null,
   "id": "5fdb4568-586f-489a-9342-53094d1acf9d",
   "metadata": {},
   "outputs": [],
   "source": []
  }
 ],
 "metadata": {
  "kernelspec": {
   "display_name": "Python 3 (ipykernel)",
   "language": "python",
   "name": "python3"
  },
  "language_info": {
   "codemirror_mode": {
    "name": "ipython",
    "version": 3
   },
   "file_extension": ".py",
   "mimetype": "text/x-python",
   "name": "python",
   "nbconvert_exporter": "python",
   "pygments_lexer": "ipython3",
   "version": "3.9.10"
  }
 },
 "nbformat": 4,
 "nbformat_minor": 5
}
