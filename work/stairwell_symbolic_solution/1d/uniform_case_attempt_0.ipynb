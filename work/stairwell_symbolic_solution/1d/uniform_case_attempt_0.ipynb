{
 "cells": [
  {
   "cell_type": "code",
   "execution_count": 1,
   "id": "9da4ca07-5038-40fc-b597-27be53769384",
   "metadata": {},
   "outputs": [],
   "source": [
    "import sympy as sp"
   ]
  },
  {
   "cell_type": "code",
   "execution_count": 2,
   "id": "bbd2fd19-a4e7-44c8-ba72-b83d5ae065ea",
   "metadata": {},
   "outputs": [],
   "source": [
    "import sympy.physics.units.quantities as sq"
   ]
  },
  {
   "cell_type": "code",
   "execution_count": 3,
   "id": "3b8c39ff-3668-4ef3-9add-b334784a3333",
   "metadata": {},
   "outputs": [],
   "source": [
    "from sympy.physics.quantum.constants import hbar"
   ]
  },
  {
   "cell_type": "code",
   "execution_count": null,
   "id": "75e40f13-aa6e-41d1-9ced-7a90df52a98e",
   "metadata": {},
   "outputs": [],
   "source": []
  },
  {
   "cell_type": "code",
   "execution_count": 4,
   "id": "82f14997-b75d-4dd8-baf6-d565f0b12bd1",
   "metadata": {},
   "outputs": [],
   "source": [
    "from custom_libraries.stepper import *"
   ]
  },
  {
   "cell_type": "code",
   "execution_count": 5,
   "id": "100adb60-1868-493c-bbe9-9b2dd1bf5af6",
   "metadata": {},
   "outputs": [],
   "source": [
    "from custom_libraries.schrodinger import *"
   ]
  },
  {
   "cell_type": "code",
   "execution_count": null,
   "id": "151680e1-cc8c-4f02-9fbc-32cb1b19f56f",
   "metadata": {},
   "outputs": [],
   "source": []
  },
  {
   "cell_type": "code",
   "execution_count": 6,
   "id": "b271a58d-22d7-44c8-bf0a-5fab37e86cc1",
   "metadata": {},
   "outputs": [],
   "source": [
    "# This attempt will be a non - repeating case with the high stair potential at either end\n",
    "# with 3 uniform length steps (except sort of for the first one, which will be continuous in the \n",
    "# negative x direction forever."
   ]
  },
  {
   "cell_type": "code",
   "execution_count": null,
   "id": "eac5073a-1c1c-47fc-a5fe-c85a9b97a94b",
   "metadata": {},
   "outputs": [],
   "source": []
  },
  {
   "cell_type": "code",
   "execution_count": 7,
   "id": "28f07509-7ef5-4f17-80e0-6a2597bd87e6",
   "metadata": {},
   "outputs": [],
   "source": [
    "schrodinger_equation = Stepper( time_independent_schroedinger_equation(), closed = False )"
   ]
  },
  {
   "cell_type": "code",
   "execution_count": 8,
   "id": "63d98c3d-25ff-498e-91e9-ec9a138549d1",
   "metadata": {},
   "outputs": [
    {
     "data": {
      "text/latex": [
       "$\\displaystyle V{\\left(x \\right)} \\psi{\\left(x \\right)} - \\frac{\\hbar^{2} \\frac{d^{2}}{d x^{2}} \\psi{\\left(x \\right)}}{2 \\text{m}} = E \\psi{\\left(x \\right)}$"
      ],
      "text/plain": [
       "Eq(V(x)*psi(x) - hbar**2*Derivative(psi(x), (x, 2))/(2*m), E*psi(x))"
      ]
     },
     "execution_count": 8,
     "metadata": {},
     "output_type": "execute_result"
    }
   ],
   "source": [
    "schrodinger_equation.last_step()"
   ]
  },
  {
   "cell_type": "code",
   "execution_count": 9,
   "id": "9bce8cf0-e347-4d5b-9694-3ab6a0c44801",
   "metadata": {},
   "outputs": [
    {
     "name": "stdout",
     "output_type": "stream",
     "text": [
      "2\n",
      "G ZERO  False\n",
      "m\n",
      "G ZERO  False\n",
      "hbar\n",
      "G ZERO  False\n",
      "x\n",
      "G ZERO  False\n",
      "-1/2\n",
      "G ZERO  False\n",
      "E\n",
      "G ZERO  False\n",
      "-1\n",
      "G ZERO  False\n",
      "V(x)\n"
     ]
    },
    {
     "ename": "TypeError",
     "evalue": "'builtin_function_or_method' object is not subscriptable",
     "output_type": "error",
     "traceback": [
      "\u001b[0;31m---------------------------------------------------------------------------\u001b[0m",
      "\u001b[0;31mTypeError\u001b[0m                                 Traceback (most recent call last)",
      "Input \u001b[0;32mIn [9]\u001b[0m, in \u001b[0;36m<module>\u001b[0;34m\u001b[0m\n\u001b[1;32m      1\u001b[0m x \u001b[38;5;241m=\u001b[39m sp\u001b[38;5;241m.\u001b[39mSymbol( \u001b[38;5;124m'\u001b[39m\u001b[38;5;124mx\u001b[39m\u001b[38;5;124m'\u001b[39m )\n\u001b[0;32m----> 3\u001b[0m potential_x \u001b[38;5;241m=\u001b[39m \u001b[43mschrodinger_equation\u001b[49m\u001b[38;5;241;43m.\u001b[39;49m\u001b[43msymbols\u001b[49m\u001b[43m(\u001b[49m\u001b[43m)\u001b[49m\u001b[38;5;241m.\u001b[39mV(x)\n",
      "File \u001b[0;32m~/work/stairwell_symbolic_solution/1d/custom_libraries/stepper.py:247\u001b[0m, in \u001b[0;36mStepper.symbols\u001b[0;34m(self, last_step)\u001b[0m\n\u001b[1;32m    245\u001b[0m last_step \u001b[38;5;241m=\u001b[39m \u001b[38;5;28mself\u001b[39m\u001b[38;5;241m.\u001b[39mlast_step( last_step )\n\u001b[1;32m    246\u001b[0m symbol_list \u001b[38;5;241m=\u001b[39m \u001b[38;5;28mlist\u001b[39m( last_step\u001b[38;5;241m.\u001b[39matoms() ) \u001b[38;5;241m+\u001b[39m \u001b[38;5;28mlist\u001b[39m( last_step\u001b[38;5;241m.\u001b[39matoms( sp\u001b[38;5;241m.\u001b[39mFunction ) )\n\u001b[0;32m--> 247\u001b[0m \u001b[38;5;28;01mreturn\u001b[39;00m \u001b[43mSymbols\u001b[49m\u001b[43m(\u001b[49m\u001b[43m \u001b[49m\u001b[38;5;241;43m*\u001b[39;49m\u001b[38;5;28;43mtuple\u001b[39;49m\u001b[43m(\u001b[49m\u001b[43m \u001b[49m\u001b[43msymbol_list\u001b[49m\u001b[43m \u001b[49m\u001b[43m)\u001b[49m\u001b[43m \u001b[49m\u001b[43m)\u001b[49m\n",
      "File \u001b[0;32m~/work/stairwell_symbolic_solution/1d/custom_libraries/stepper.py:60\u001b[0m, in \u001b[0;36mSymbols.__init__\u001b[0;34m(self, table, *symbols)\u001b[0m\n\u001b[1;32m     58\u001b[0m \u001b[38;5;28;01mdef\u001b[39;00m \u001b[38;5;21m__init__\u001b[39m( \u001b[38;5;28mself\u001b[39m, \u001b[38;5;241m*\u001b[39msymbols, table \u001b[38;5;241m=\u001b[39m \u001b[38;5;28;01mNone\u001b[39;00m ): \n\u001b[1;32m     59\u001b[0m     \u001b[38;5;28;01mif\u001b[39;00m symbols \u001b[38;5;129;01mor\u001b[39;00m \u001b[38;5;28mlen\u001b[39m( symbols ) \u001b[38;5;241m>\u001b[39m \u001b[38;5;241m0\u001b[39m: \n\u001b[0;32m---> 60\u001b[0m         \u001b[38;5;28;43mself\u001b[39;49m\u001b[38;5;241;43m.\u001b[39;49m\u001b[43madd_symbols\u001b[49m\u001b[43m(\u001b[49m\u001b[43m \u001b[49m\u001b[43msymbols\u001b[49m\u001b[43m \u001b[49m\u001b[43m)\u001b[49m\n\u001b[1;32m     61\u001b[0m     \u001b[38;5;28;01mif\u001b[39;00m table: \n\u001b[1;32m     62\u001b[0m         \u001b[38;5;28mself\u001b[39m\u001b[38;5;241m.\u001b[39mtable_to_symbols( table )\n",
      "File \u001b[0;32m~/work/stairwell_symbolic_solution/1d/custom_libraries/stepper.py:102\u001b[0m, in \u001b[0;36mSymbols.add_symbols\u001b[0;34m(self, symbols)\u001b[0m\n\u001b[1;32m    100\u001b[0m \u001b[38;5;28;01mdef\u001b[39;00m \u001b[38;5;21madd_symbols\u001b[39m( \u001b[38;5;28mself\u001b[39m, symbols ):\n\u001b[1;32m    101\u001b[0m     \u001b[38;5;28;01mfor\u001b[39;00m symbol \u001b[38;5;129;01min\u001b[39;00m symbols: \n\u001b[0;32m--> 102\u001b[0m         \u001b[38;5;28;43mself\u001b[39;49m\u001b[38;5;241;43m.\u001b[39;49m\u001b[43madd_symbol\u001b[49m\u001b[43m(\u001b[49m\u001b[43m \u001b[49m\u001b[43msymbol\u001b[49m\u001b[43m \u001b[49m\u001b[43m)\u001b[49m\n\u001b[1;32m    103\u001b[0m     \u001b[38;5;28;01mreturn\u001b[39;00m \u001b[38;5;28mself\u001b[39m\n",
      "File \u001b[0;32m~/work/stairwell_symbolic_solution/1d/custom_libraries/stepper.py:85\u001b[0m, in \u001b[0;36mSymbols.add_symbol\u001b[0;34m(self, symbol, value, particular_replace, prefix_fix_search, prefix_fix_replace, universal_replace_search, universal_replace, admissable_prefix_sanity, is_function)\u001b[0m\n\u001b[1;32m     83\u001b[0m \u001b[38;5;66;03m# More then one \"function call\" can match, so we see if only one does\u001b[39;00m\n\u001b[1;32m     84\u001b[0m function_match \u001b[38;5;241m=\u001b[39m re\u001b[38;5;241m.\u001b[39mmatch( is_function, symbol )\n\u001b[0;32m---> 85\u001b[0m function_match \u001b[38;5;241m=\u001b[39m ( \u001b[38;5;28mstr\u001b[39m( function_match )[ \u001b[43mfunction_match\u001b[49m\u001b[38;5;241;43m.\u001b[39;49m\u001b[43mspan\u001b[49m\u001b[43m[\u001b[49m\u001b[43m \u001b[49m\u001b[38;5;241;43m0\u001b[39;49m\u001b[43m \u001b[49m\u001b[43m]\u001b[49m : function_match\u001b[38;5;241m.\u001b[39mspan[ \u001b[38;5;241m1\u001b[39m ] ] \u001b[38;5;28;01mif\u001b[39;00m function_match \u001b[38;5;28;01melse\u001b[39;00m \u001b[38;5;28;01mFalse\u001b[39;00m )\n\u001b[1;32m     86\u001b[0m \u001b[38;5;28mprint\u001b[39m( \u001b[38;5;124m\"\u001b[39m\u001b[38;5;124mG ZERO \u001b[39m\u001b[38;5;124m\"\u001b[39m, function_match )\n\u001b[1;32m     87\u001b[0m \u001b[38;5;28;01mif\u001b[39;00m function_match \u001b[38;5;241m==\u001b[39m symbol: \n",
      "\u001b[0;31mTypeError\u001b[0m: 'builtin_function_or_method' object is not subscriptable"
     ]
    }
   ],
   "source": [
    "x = sp.Symbol( 'x' )\n",
    "\n",
    "potential_x = schrodinger_equation.symbols().V(x)"
   ]
  },
  {
   "cell_type": "code",
   "execution_count": null,
   "id": "1f865e50-d204-4372-b4c5-d313701e669f",
   "metadata": {},
   "outputs": [],
   "source": [
    "potential_x"
   ]
  },
  {
   "cell_type": "code",
   "execution_count": null,
   "id": "3c16647f-85f1-4379-9d78-178db9bf9d70",
   "metadata": {},
   "outputs": [],
   "source": [
    "dir( schrodinger_equation.symbols() )"
   ]
  },
  {
   "cell_type": "code",
   "execution_count": null,
   "id": "8c12f09c-0ef0-4bfe-8b16-e3204fdab62d",
   "metadata": {},
   "outputs": [],
   "source": []
  },
  {
   "cell_type": "code",
   "execution_count": null,
   "id": "a23c51b1-51f2-4349-85fb-d42f23356f28",
   "metadata": {},
   "outputs": [],
   "source": [
    "schrodinger_equation.left_to_constant()"
   ]
  },
  {
   "cell_type": "code",
   "execution_count": null,
   "id": "05e0602e-49a9-4645-8b09-6689077f876e",
   "metadata": {},
   "outputs": [],
   "source": [
    "schrodinger_equation.constant_symbols().K_0"
   ]
  },
  {
   "cell_type": "code",
   "execution_count": null,
   "id": "55092bad-ff78-4475-9b64-103256cb2802",
   "metadata": {},
   "outputs": [],
   "source": []
  },
  {
   "cell_type": "code",
   "execution_count": null,
   "id": "f1a856a6-b7cc-4243-b5c6-b7e476f8e1f7",
   "metadata": {},
   "outputs": [],
   "source": [
    "dir( schrodinger_equation.symbols())"
   ]
  },
  {
   "cell_type": "code",
   "execution_count": null,
   "id": "9dc52630-34ce-45d9-89d8-f9bff986c6a5",
   "metadata": {},
   "outputs": [],
   "source": [
    "psi_x = schrodinger_equation.symbols().psi_x_"
   ]
  },
  {
   "cell_type": "code",
   "execution_count": null,
   "id": "d41ad12a-2aef-4f41-8c37-90c86cb9f213",
   "metadata": {},
   "outputs": [],
   "source": []
  },
  {
   "cell_type": "code",
   "execution_count": null,
   "id": "5505edf4-46d0-4db8-a06f-ecb6ac6e9920",
   "metadata": {},
   "outputs": [],
   "source": []
  },
  {
   "cell_type": "code",
   "execution_count": null,
   "id": "6eeb915f-8837-4e45-8f74-795026067bbe",
   "metadata": {},
   "outputs": [],
   "source": [
    "psi_x"
   ]
  },
  {
   "cell_type": "code",
   "execution_count": null,
   "id": "eb19829c-bd5d-4a0d-92f9-b651938a7b1e",
   "metadata": {},
   "outputs": [],
   "source": [
    "schrodinger_equation.left_to_constant()"
   ]
  },
  {
   "cell_type": "code",
   "execution_count": null,
   "id": "20995ed0-91f5-4027-8e7e-12303669f79b",
   "metadata": {},
   "outputs": [],
   "source": [
    "schrodinger_equation.constants_as_symbols().K_0"
   ]
  },
  {
   "cell_type": "code",
   "execution_count": null,
   "id": "e4826522-2f8e-4652-aa83-4c34c5cf0694",
   "metadata": {},
   "outputs": [],
   "source": []
  },
  {
   "cell_type": "code",
   "execution_count": null,
   "id": "7de968da-76a1-4f06-ad00-c48dd424cb03",
   "metadata": {},
   "outputs": [],
   "source": [
    "potentials = StairWell.UNIFORM_POTENTIALS"
   ]
  },
  {
   "cell_type": "code",
   "execution_count": null,
   "id": "dc6153d1-ab41-4c89-9f80-5d82fed3078c",
   "metadata": {},
   "outputs": [],
   "source": [
    "potentials"
   ]
  },
  {
   "cell_type": "code",
   "execution_count": null,
   "id": "87e81be7-2e93-4987-9287-d03ac535b9d6",
   "metadata": {},
   "outputs": [],
   "source": []
  },
  {
   "cell_type": "code",
   "execution_count": null,
   "id": "5d2aa204-c6c2-469a-838f-e140f754c149",
   "metadata": {},
   "outputs": [],
   "source": [
    "position = POSITION_SYMBOL"
   ]
  },
  {
   "cell_type": "code",
   "execution_count": null,
   "id": "b6dc5ad6-15a7-4865-bb4b-b984f7e15a1c",
   "metadata": {},
   "outputs": [],
   "source": []
  },
  {
   "cell_type": "code",
   "execution_count": null,
   "id": "fb99e393-f197-482e-ba20-94c2a3e471f3",
   "metadata": {},
   "outputs": [],
   "source": [
    "equations = [\n",
    "        schrodinger_equation.last_step().subs( potential_x, potential ) \\\n",
    "                .replace( psi_x, sp.Function( \"psi_{\" + str( potential ) + '}' )( position ) )\n",
    "        for potential in potentials\n",
    "    ]"
   ]
  },
  {
   "cell_type": "code",
   "execution_count": null,
   "id": "7a62fb86-bb35-4d82-a36b-49d636676fcc",
   "metadata": {},
   "outputs": [],
   "source": [
    "equations[ 0 ]"
   ]
  },
  {
   "cell_type": "code",
   "execution_count": null,
   "id": "840d94b6-99ff-48ff-b714-d046801c42b3",
   "metadata": {},
   "outputs": [],
   "source": [
    "schrodinger_equation.last_step().subs( potential_x, potentials[ 0 ] )"
   ]
  },
  {
   "cell_type": "code",
   "execution_count": null,
   "id": "9ce5e9ea-3a53-49d5-80f3-29037676f8a2",
   "metadata": {},
   "outputs": [],
   "source": [
    "potential_x"
   ]
  },
  {
   "cell_type": "code",
   "execution_count": null,
   "id": "f555d8b3-1363-46cc-846b-29d012eaefd3",
   "metadata": {},
   "outputs": [],
   "source": [
    "psi_x.func"
   ]
  },
  {
   "cell_type": "code",
   "execution_count": null,
   "id": "37baa484-16a4-4d60-84b5-ddd19761a492",
   "metadata": {},
   "outputs": [],
   "source": []
  }
 ],
 "metadata": {
  "kernelspec": {
   "display_name": "Python 3 (ipykernel)",
   "language": "python",
   "name": "python3"
  },
  "language_info": {
   "codemirror_mode": {
    "name": "ipython",
    "version": 3
   },
   "file_extension": ".py",
   "mimetype": "text/x-python",
   "name": "python",
   "nbconvert_exporter": "python",
   "pygments_lexer": "ipython3",
   "version": "3.9.10"
  }
 },
 "nbformat": 4,
 "nbformat_minor": 5
}
