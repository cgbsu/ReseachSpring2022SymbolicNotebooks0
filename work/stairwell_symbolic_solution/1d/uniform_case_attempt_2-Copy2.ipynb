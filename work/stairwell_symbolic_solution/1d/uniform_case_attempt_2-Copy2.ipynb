{
 "cells": [
  {
   "cell_type": "code",
   "execution_count": 1,
   "id": "9da4ca07-5038-40fc-b597-27be53769384",
   "metadata": {},
   "outputs": [],
   "source": [
    "import sympy as sp"
   ]
  },
  {
   "cell_type": "code",
   "execution_count": 2,
   "id": "bbd2fd19-a4e7-44c8-ba72-b83d5ae065ea",
   "metadata": {},
   "outputs": [],
   "source": [
    "import sympy.physics.units.quantities as sq"
   ]
  },
  {
   "cell_type": "code",
   "execution_count": 3,
   "id": "3b8c39ff-3668-4ef3-9add-b334784a3333",
   "metadata": {},
   "outputs": [],
   "source": [
    "from sympy.physics.quantum.constants import hbar"
   ]
  },
  {
   "cell_type": "code",
   "execution_count": null,
   "id": "75e40f13-aa6e-41d1-9ced-7a90df52a98e",
   "metadata": {},
   "outputs": [],
   "source": []
  },
  {
   "cell_type": "code",
   "execution_count": 4,
   "id": "82f14997-b75d-4dd8-baf6-d565f0b12bd1",
   "metadata": {},
   "outputs": [],
   "source": [
    "from custom_libraries.stepper import *"
   ]
  },
  {
   "cell_type": "code",
   "execution_count": 5,
   "id": "100adb60-1868-493c-bbe9-9b2dd1bf5af6",
   "metadata": {},
   "outputs": [],
   "source": [
    "from custom_libraries.schrodinger import *"
   ]
  },
  {
   "cell_type": "code",
   "execution_count": null,
   "id": "151680e1-cc8c-4f02-9fbc-32cb1b19f56f",
   "metadata": {},
   "outputs": [],
   "source": []
  },
  {
   "cell_type": "code",
   "execution_count": 6,
   "id": "8984696f-ac0b-4d68-8f5f-036778be011f",
   "metadata": {},
   "outputs": [],
   "source": [
    "stairwell_solver = TimeIndependentSchrodingerConstantPotentials1D( \n",
    "        StairWell.default_non_uniform_length_potential_table(), \n",
    "        tuple( StairWell.default_non_uniform_length_potential_table().keys() )[ -1 ], \n",
    "        make_psis = make_psi_numbered, \n",
    "        repeating = True, \n",
    "        #normalization_conjugate_not_squared_absolute_value = False\n",
    "    )"
   ]
  },
  {
   "cell_type": "code",
   "execution_count": null,
   "id": "2e946e04-0121-448e-8269-4e69ba4e1c28",
   "metadata": {},
   "outputs": [],
   "source": []
  },
  {
   "cell_type": "code",
   "execution_count": 7,
   "id": "bc51b09a-c161-4008-b763-81f71b487841",
   "metadata": {},
   "outputs": [
    {
     "data": {
      "text/latex": [
       "$\\displaystyle - k_{0}^{2} \\psi_{0}{\\left(x \\right)} + \\frac{d^{2}}{d x^{2}} \\psi_{0}{\\left(x \\right)} = 0$"
      ],
      "text/plain": [
       "Eq(-k_0**2*\\psi_{0}(x) + Derivative(\\psi_{0}(x), (x, 2)), 0)"
      ]
     },
     "metadata": {},
     "output_type": "display_data"
    },
    {
     "data": {
      "text/latex": [
       "$\\displaystyle - k_{1}^{2} \\psi_{1}{\\left(x \\right)} + \\frac{d^{2}}{d x^{2}} \\psi_{1}{\\left(x \\right)} = 0$"
      ],
      "text/plain": [
       "Eq(-k_1**2*\\psi_{1}(x) + Derivative(\\psi_{1}(x), (x, 2)), 0)"
      ]
     },
     "metadata": {},
     "output_type": "display_data"
    },
    {
     "data": {
      "text/latex": [
       "$\\displaystyle - k_{2}^{2} \\psi_{2}{\\left(x \\right)} + \\frac{d^{2}}{d x^{2}} \\psi_{2}{\\left(x \\right)} = 0$"
      ],
      "text/plain": [
       "Eq(-k_2**2*\\psi_{2}(x) + Derivative(\\psi_{2}(x), (x, 2)), 0)"
      ]
     },
     "metadata": {},
     "output_type": "display_data"
    }
   ],
   "source": [
    "display_steps( stairwell_solver.equations )"
   ]
  },
  {
   "cell_type": "code",
   "execution_count": null,
   "id": "a0757648-d8b4-4a28-b351-221f4830ff75",
   "metadata": {},
   "outputs": [],
   "source": []
  },
  {
   "cell_type": "code",
   "execution_count": 8,
   "id": "28d85323-24e4-49cb-93e6-54953e6104c7",
   "metadata": {},
   "outputs": [
    {
     "data": {
      "text/latex": [
       "$\\displaystyle k_{0} = \\frac{\\sqrt{2} \\sqrt{- E + V_{0}} \\sqrt{\\text{m}}}{\\hbar}$"
      ],
      "text/plain": [
       "Eq(k_0, sqrt(2)*sqrt(m)*sqrt(-E + V_0)/hbar)"
      ]
     },
     "metadata": {},
     "output_type": "display_data"
    },
    {
     "data": {
      "text/latex": [
       "$\\displaystyle k_{1} = \\frac{\\sqrt{2} \\sqrt{- E + V_{1}} \\sqrt{\\text{m}}}{\\hbar}$"
      ],
      "text/plain": [
       "Eq(k_1, sqrt(2)*sqrt(m)*sqrt(-E + V_1)/hbar)"
      ]
     },
     "metadata": {},
     "output_type": "display_data"
    },
    {
     "data": {
      "text/latex": [
       "$\\displaystyle k_{2} = \\frac{\\sqrt{2} \\sqrt{- E + V_{2}} \\sqrt{\\text{m}}}{\\hbar}$"
      ],
      "text/plain": [
       "Eq(k_2, sqrt(2)*sqrt(m)*sqrt(-E + V_2)/hbar)"
      ]
     },
     "metadata": {},
     "output_type": "display_data"
    }
   ],
   "source": [
    "display_in( stairwell_solver.harmonic_constants )"
   ]
  },
  {
   "cell_type": "code",
   "execution_count": 9,
   "id": "20f53166-87ec-4057-932d-5b0947a3427b",
   "metadata": {},
   "outputs": [
    {
     "data": {
      "text/plain": [
       "{'ContinuityConditions': {\\psi_{0}(L_0): \\psi_{1}(L_0),\n",
       "  \\psi_{1}(L_1): \\psi_{2}(L_1)},\n",
       " 'RepeatingPotentialsCondition': {\\psi_{0}(0): \\psi_{2}(L_2)}}"
      ]
     },
     "execution_count": 9,
     "metadata": {},
     "output_type": "execute_result"
    }
   ],
   "source": [
    "stairwell_solver.boundries.boundries"
   ]
  },
  {
   "cell_type": "code",
   "execution_count": 10,
   "id": "9fe5cbdc-ea5a-4ca1-a54f-a70e30069bec",
   "metadata": {},
   "outputs": [
    {
     "data": {
      "text/plain": [
       "{\\psi_{0}(L_0): \\psi_{1}(L_0), \\psi_{1}(L_1): \\psi_{2}(L_1)}"
      ]
     },
     "execution_count": 10,
     "metadata": {},
     "output_type": "execute_result"
    }
   ],
   "source": [
    "stairwell_solver.boundries.ContinuityConditions"
   ]
  },
  {
   "cell_type": "code",
   "execution_count": null,
   "id": "1cee42e4-0490-4850-b52f-3b6b9547e3f1",
   "metadata": {},
   "outputs": [],
   "source": []
  },
  {
   "cell_type": "code",
   "execution_count": 11,
   "id": "d78132f8-2d0a-438c-a94d-3c5d1b79786d",
   "metadata": {},
   "outputs": [
    {
     "data": {
      "text/plain": [
       "{\\psi_{0}(0): \\psi_{2}(L_2)}"
      ]
     },
     "execution_count": 11,
     "metadata": {},
     "output_type": "execute_result"
    }
   ],
   "source": [
    "stairwell_solver.boundries.RepeatingPotentialsCondition"
   ]
  },
  {
   "cell_type": "code",
   "execution_count": null,
   "id": "519623f3-e044-4ce4-89ce-0bf045971c69",
   "metadata": {},
   "outputs": [],
   "source": []
  },
  {
   "cell_type": "code",
   "execution_count": 12,
   "id": "bad0d660-061c-4402-af40-79303da747d0",
   "metadata": {},
   "outputs": [
    {
     "data": {
      "text/plain": [
       "{\\psi_{0}(L_0): \\psi_{1}(L_0),\n",
       " \\psi_{1}(L_1): \\psi_{2}(L_1),\n",
       " \\psi_{0}(0): \\psi_{2}(L_2)}"
      ]
     },
     "execution_count": 12,
     "metadata": {},
     "output_type": "execute_result"
    }
   ],
   "source": [
    "stairwell_solver.boundries.update_all_boundry_conditions()"
   ]
  },
  {
   "cell_type": "code",
   "execution_count": 13,
   "id": "4b7fbdf2-6c1c-4e13-bd4d-a8a90fbb6f43",
   "metadata": {},
   "outputs": [
    {
     "data": {
      "text/latex": [
       "$\\displaystyle \\psi_{0}{\\left(L_{0} \\right)}$"
      ],
      "text/plain": [
       "\\psi_{0}(L_0)"
      ]
     },
     "execution_count": 13,
     "metadata": {},
     "output_type": "execute_result"
    }
   ],
   "source": [
    "list( stairwell_solver.boundries.update_all_boundry_conditions().keys() )[ 0 ]"
   ]
  },
  {
   "cell_type": "code",
   "execution_count": 14,
   "id": "03f1960a-88b6-4ef2-9101-fb89a936000a",
   "metadata": {},
   "outputs": [
    {
     "data": {
      "text/plain": [
       "'ContinuityConditions'"
      ]
     },
     "metadata": {},
     "output_type": "display_data"
    },
    {
     "data": {
      "text/latex": [
       "$\\displaystyle \\psi_{0}{\\left(L_{0} \\right)} = \\psi_{1}{\\left(L_{0} \\right)}$"
      ],
      "text/plain": [
       "Eq(\\psi_{0}(L_0), \\psi_{1}(L_0))"
      ]
     },
     "metadata": {},
     "output_type": "display_data"
    },
    {
     "data": {
      "text/latex": [
       "$\\displaystyle \\psi_{1}{\\left(L_{1} \\right)} = \\psi_{2}{\\left(L_{1} \\right)}$"
      ],
      "text/plain": [
       "Eq(\\psi_{1}(L_1), \\psi_{2}(L_1))"
      ]
     },
     "metadata": {},
     "output_type": "display_data"
    },
    {
     "data": {
      "text/plain": [
       "'RepeatingPotentialsCondition'"
      ]
     },
     "metadata": {},
     "output_type": "display_data"
    },
    {
     "data": {
      "text/latex": [
       "$\\displaystyle \\psi_{0}{\\left(0 \\right)} = \\psi_{2}{\\left(L_{2} \\right)}$"
      ],
      "text/plain": [
       "Eq(\\psi_{0}(0), \\psi_{2}(L_2))"
      ]
     },
     "metadata": {},
     "output_type": "display_data"
    },
    {
     "data": {
      "text/plain": [
       "'LastUpdatedAllBoundryConditions'"
      ]
     },
     "metadata": {},
     "output_type": "display_data"
    },
    {
     "data": {
      "text/latex": [
       "$\\displaystyle \\psi_{0}{\\left(L_{0} \\right)} = \\psi_{1}{\\left(L_{0} \\right)}$"
      ],
      "text/plain": [
       "Eq(\\psi_{0}(L_0), \\psi_{1}(L_0))"
      ]
     },
     "metadata": {},
     "output_type": "display_data"
    },
    {
     "data": {
      "text/latex": [
       "$\\displaystyle \\psi_{1}{\\left(L_{1} \\right)} = \\psi_{2}{\\left(L_{1} \\right)}$"
      ],
      "text/plain": [
       "Eq(\\psi_{1}(L_1), \\psi_{2}(L_1))"
      ]
     },
     "metadata": {},
     "output_type": "display_data"
    },
    {
     "data": {
      "text/latex": [
       "$\\displaystyle \\psi_{0}{\\left(0 \\right)} = \\psi_{2}{\\left(L_{2} \\right)}$"
      ],
      "text/plain": [
       "Eq(\\psi_{0}(0), \\psi_{2}(L_2))"
      ]
     },
     "metadata": {},
     "output_type": "display_data"
    }
   ],
   "source": [
    "stairwell_solver.boundries.display()"
   ]
  },
  {
   "cell_type": "code",
   "execution_count": 15,
   "id": "e1d9be74-c024-4e4a-b5ec-963ebbb5009a",
   "metadata": {},
   "outputs": [
    {
     "data": {
      "text/latex": [
       "$\\displaystyle - k_{0}^{2} \\psi_{0}{\\left(x \\right)} + \\frac{d^{2}}{d x^{2}} \\psi_{0}{\\left(x \\right)} = 0$"
      ],
      "text/plain": [
       "Eq(-k_0**2*\\psi_{0}(x) + Derivative(\\psi_{0}(x), (x, 2)), 0)"
      ]
     },
     "execution_count": 15,
     "metadata": {},
     "output_type": "execute_result"
    }
   ],
   "source": [
    "stairwell_solver.equations[ 0 ].last_step()"
   ]
  },
  {
   "cell_type": "code",
   "execution_count": 16,
   "id": "3fc0fbd1-a832-4ef7-803b-814812d18099",
   "metadata": {},
   "outputs": [
    {
     "data": {
      "text/plain": [
       "[0, 2, k_0, x, -1, \\psi_{0}(x)]"
      ]
     },
     "execution_count": 16,
     "metadata": {},
     "output_type": "execute_result"
    }
   ],
   "source": [
    "stairwell_solver.equations[ 0 ].symbols().symbols"
   ]
  },
  {
   "cell_type": "code",
   "execution_count": 17,
   "id": "0f4574ca-54c8-4820-9212-d94622eab763",
   "metadata": {
    "tags": []
   },
   "outputs": [],
   "source": [
    "solutions = stairwell_solver.solve_odes()"
   ]
  },
  {
   "cell_type": "code",
   "execution_count": null,
   "id": "f1a5e157-8b2f-4d4f-bb64-268ebfba1344",
   "metadata": {},
   "outputs": [],
   "source": []
  },
  {
   "cell_type": "code",
   "execution_count": 19,
   "id": "906f8879-c568-484d-b095-81bbdaf9fce3",
   "metadata": {},
   "outputs": [
    {
     "data": {
      "text/latex": [
       "$\\displaystyle \\psi_{0}{\\left(x \\right)} = \\left(- \\frac{\\psi_{1}{\\left(L_{0} \\right)} e^{L_{0} k_{0}}}{e^{2 L_{0} k_{0}} - 1} + \\frac{\\psi_{2}{\\left(L_{2} \\right)} e^{2 L_{0} k_{0}}}{e^{2 L_{0} k_{0}} - 1}\\right) e^{- k_{0} x} + \\left(\\frac{\\psi_{1}{\\left(L_{0} \\right)} e^{L_{0} k_{0}}}{e^{2 L_{0} k_{0}} - 1} - \\frac{\\psi_{2}{\\left(L_{2} \\right)}}{e^{2 L_{0} k_{0}} - 1}\\right) e^{k_{0} x}$"
      ],
      "text/plain": [
       "Eq(\\psi_{0}(x), (-\\psi_{1}(L_0)*exp(L_0*k_0)/(exp(2*L_0*k_0) - 1) + \\psi_{2}(L_2)*exp(2*L_0*k_0)/(exp(2*L_0*k_0) - 1))*exp(-k_0*x) + (\\psi_{1}(L_0)*exp(L_0*k_0)/(exp(2*L_0*k_0) - 1) - \\psi_{2}(L_2)/(exp(2*L_0*k_0) - 1))*exp(k_0*x))"
      ]
     },
     "metadata": {},
     "output_type": "display_data"
    },
    {
     "data": {
      "text/latex": [
       "$\\displaystyle \\psi_{1}{\\left(x \\right)} = \\left(\\frac{\\psi_{0}{\\left(L_{0} \\right)} e^{L_{0} k_{1}}}{e^{2 L_{0} k_{1}} - e^{2 L_{1} k_{1}}} - \\frac{\\psi_{2}{\\left(L_{1} \\right)} e^{L_{1} k_{1}}}{e^{2 L_{0} k_{1}} - e^{2 L_{1} k_{1}}}\\right) e^{k_{1} x} + \\left(- \\frac{\\psi_{0}{\\left(L_{0} \\right)} e^{L_{0} k_{1}} e^{2 L_{1} k_{1}}}{e^{2 L_{0} k_{1}} - e^{2 L_{1} k_{1}}} + \\frac{\\psi_{2}{\\left(L_{1} \\right)} e^{2 L_{0} k_{1}} e^{L_{1} k_{1}}}{e^{2 L_{0} k_{1}} - e^{2 L_{1} k_{1}}}\\right) e^{- k_{1} x}$"
      ],
      "text/plain": [
       "Eq(\\psi_{1}(x), (\\psi_{0}(L_0)*exp(L_0*k_1)/(exp(2*L_0*k_1) - exp(2*L_1*k_1)) - \\psi_{2}(L_1)*exp(L_1*k_1)/(exp(2*L_0*k_1) - exp(2*L_1*k_1)))*exp(k_1*x) + (-\\psi_{0}(L_0)*exp(L_0*k_1)*exp(2*L_1*k_1)/(exp(2*L_0*k_1) - exp(2*L_1*k_1)) + \\psi_{2}(L_1)*exp(2*L_0*k_1)*exp(L_1*k_1)/(exp(2*L_0*k_1) - exp(2*L_1*k_1)))*exp(-k_1*x))"
      ]
     },
     "metadata": {},
     "output_type": "display_data"
    },
    {
     "data": {
      "text/latex": [
       "$\\displaystyle \\psi_{2}{\\left(x \\right)} = \\left(- \\frac{\\psi_{0}{\\left(0 \\right)} e^{L_{2} k_{2}}}{e^{2 L_{1} k_{2}} - e^{2 L_{2} k_{2}}} + \\frac{\\psi_{1}{\\left(L_{1} \\right)} e^{L_{1} k_{2}}}{e^{2 L_{1} k_{2}} - e^{2 L_{2} k_{2}}}\\right) e^{k_{2} x} + \\left(\\frac{\\psi_{0}{\\left(0 \\right)} e^{2 L_{1} k_{2}} e^{L_{2} k_{2}}}{e^{2 L_{1} k_{2}} - e^{2 L_{2} k_{2}}} - \\frac{\\psi_{1}{\\left(L_{1} \\right)} e^{L_{1} k_{2}} e^{2 L_{2} k_{2}}}{e^{2 L_{1} k_{2}} - e^{2 L_{2} k_{2}}}\\right) e^{- k_{2} x}$"
      ],
      "text/plain": [
       "Eq(\\psi_{2}(x), (-\\psi_{0}(0)*exp(L_2*k_2)/(exp(2*L_1*k_2) - exp(2*L_2*k_2)) + \\psi_{1}(L_1)*exp(L_1*k_2)/(exp(2*L_1*k_2) - exp(2*L_2*k_2)))*exp(k_2*x) + (\\psi_{0}(0)*exp(2*L_1*k_2)*exp(L_2*k_2)/(exp(2*L_1*k_2) - exp(2*L_2*k_2)) - \\psi_{1}(L_1)*exp(L_1*k_2)*exp(2*L_2*k_2)/(exp(2*L_1*k_2) - exp(2*L_2*k_2)))*exp(-k_2*x))"
      ]
     },
     "metadata": {},
     "output_type": "display_data"
    }
   ],
   "source": [
    "display_in( solutions )"
   ]
  },
  {
   "cell_type": "code",
   "execution_count": null,
   "id": "84e87233-5ba7-4cb7-a3f7-370403e55bb0",
   "metadata": {},
   "outputs": [],
   "source": []
  },
  {
   "cell_type": "code",
   "execution_count": null,
   "id": "9fee5172-2522-4d0e-a40d-cd049f9c02d2",
   "metadata": {},
   "outputs": [],
   "source": []
  },
  {
   "cell_type": "code",
   "execution_count": null,
   "id": "9015ad94-264f-4b79-87cb-497a175e29ef",
   "metadata": {},
   "outputs": [],
   "source": []
  },
  {
   "cell_type": "code",
   "execution_count": 20,
   "id": "e0ca1cc1-1b0f-4d1b-a646-1cce6caf6eed",
   "metadata": {},
   "outputs": [],
   "source": [
    "sub_table = { equation.last_step().lhs : equation.last_step().rhs for equation in stairwell_solver.equations }\n",
    "\n",
    "for norm in stairwell_solver.normalizations: \n",
    "    norm.operate( lambda step : step.subs( sub_table ) )"
   ]
  },
  {
   "cell_type": "code",
   "execution_count": null,
   "id": "ca842015-740c-4620-be56-3d5b61b0a685",
   "metadata": {},
   "outputs": [],
   "source": []
  },
  {
   "cell_type": "code",
   "execution_count": null,
   "id": "ffee0bb2-bbf2-41c0-a724-bd5e582f16e5",
   "metadata": {},
   "outputs": [],
   "source": []
  },
  {
   "cell_type": "code",
   "execution_count": null,
   "id": "fca8baee-5e13-4ba9-8976-5653933586e7",
   "metadata": {},
   "outputs": [],
   "source": []
  },
  {
   "cell_type": "code",
   "execution_count": 21,
   "id": "dd7bb38b-4669-492e-ae7d-86e44152e989",
   "metadata": {},
   "outputs": [
    {
     "data": {
      "text/latex": [
       "$\\displaystyle \\int\\limits_{0}^{L_{0}} \\left(\\left(- \\frac{\\psi_{1}{\\left(L_{0} \\right)} e^{L_{0} k_{0}}}{e^{2 L_{0} k_{0}} - 1} + \\frac{\\psi_{2}{\\left(L_{2} \\right)} e^{2 L_{0} k_{0}}}{e^{2 L_{0} k_{0}} - 1}\\right) e^{- k_{0} x} + \\left(\\frac{\\psi_{1}{\\left(L_{0} \\right)} e^{L_{0} k_{0}}}{e^{2 L_{0} k_{0}} - 1} - \\frac{\\psi_{2}{\\left(L_{2} \\right)}}{e^{2 L_{0} k_{0}} - 1}\\right) e^{k_{0} x}\\right) \\left(\\left(\\frac{e^{\\overline{L_{0}} \\overline{k_{0}}} \\overline{\\psi_{1}{\\left(L_{0} \\right)}}}{e^{2 \\overline{L_{0}} \\overline{k_{0}}} - 1} - \\frac{\\overline{\\psi_{2}{\\left(L_{2} \\right)}}}{e^{2 \\overline{L_{0}} \\overline{k_{0}}} - 1}\\right) e^{x \\overline{k_{0}}} + \\left(\\frac{e^{2 \\overline{L_{0}} \\overline{k_{0}}} \\overline{\\psi_{2}{\\left(L_{2} \\right)}}}{e^{2 \\overline{L_{0}} \\overline{k_{0}}} - 1} - \\frac{e^{\\overline{L_{0}} \\overline{k_{0}}} \\overline{\\psi_{1}{\\left(L_{0} \\right)}}}{e^{2 \\overline{L_{0}} \\overline{k_{0}}} - 1}\\right) e^{- x \\overline{k_{0}}}\\right)\\, dx = N_{0}$"
      ],
      "text/plain": [
       "Eq(Integral(((-\\psi_{1}(L_0)*exp(L_0*k_0)/(exp(2*L_0*k_0) - 1) + \\psi_{2}(L_2)*exp(2*L_0*k_0)/(exp(2*L_0*k_0) - 1))*exp(-k_0*x) + (\\psi_{1}(L_0)*exp(L_0*k_0)/(exp(2*L_0*k_0) - 1) - \\psi_{2}(L_2)/(exp(2*L_0*k_0) - 1))*exp(k_0*x))*((exp(conjugate(L_0)*conjugate(k_0))*conjugate(\\psi_{1}(L_0))/(exp(2*conjugate(L_0)*conjugate(k_0)) - 1) - conjugate(\\psi_{2}(L_2))/(exp(2*conjugate(L_0)*conjugate(k_0)) - 1))*exp(x*conjugate(k_0)) + (exp(2*conjugate(L_0)*conjugate(k_0))*conjugate(\\psi_{2}(L_2))/(exp(2*conjugate(L_0)*conjugate(k_0)) - 1) - exp(conjugate(L_0)*conjugate(k_0))*conjugate(\\psi_{1}(L_0))/(exp(2*conjugate(L_0)*conjugate(k_0)) - 1))*exp(-x*conjugate(k_0))), (x, 0, L_0)), N_{0})"
      ]
     },
     "metadata": {},
     "output_type": "display_data"
    },
    {
     "data": {
      "text/latex": [
       "$\\displaystyle \\int\\limits_{L_{0}}^{L_{1}} \\left(\\left(\\frac{\\psi_{0}{\\left(L_{0} \\right)} e^{L_{0} k_{1}}}{e^{2 L_{0} k_{1}} - e^{2 L_{1} k_{1}}} - \\frac{\\psi_{2}{\\left(L_{1} \\right)} e^{L_{1} k_{1}}}{e^{2 L_{0} k_{1}} - e^{2 L_{1} k_{1}}}\\right) e^{k_{1} x} + \\left(- \\frac{\\psi_{0}{\\left(L_{0} \\right)} e^{L_{0} k_{1}} e^{2 L_{1} k_{1}}}{e^{2 L_{0} k_{1}} - e^{2 L_{1} k_{1}}} + \\frac{\\psi_{2}{\\left(L_{1} \\right)} e^{2 L_{0} k_{1}} e^{L_{1} k_{1}}}{e^{2 L_{0} k_{1}} - e^{2 L_{1} k_{1}}}\\right) e^{- k_{1} x}\\right) \\left(\\left(\\frac{e^{\\overline{L_{0}} \\overline{k_{1}}} \\overline{\\psi_{0}{\\left(L_{0} \\right)}}}{e^{2 \\overline{L_{0}} \\overline{k_{1}}} - e^{2 \\overline{L_{1}} \\overline{k_{1}}}} - \\frac{e^{\\overline{L_{1}} \\overline{k_{1}}} \\overline{\\psi_{2}{\\left(L_{1} \\right)}}}{e^{2 \\overline{L_{0}} \\overline{k_{1}}} - e^{2 \\overline{L_{1}} \\overline{k_{1}}}}\\right) e^{x \\overline{k_{1}}} + \\left(\\frac{e^{2 \\overline{L_{0}} \\overline{k_{1}}} e^{\\overline{L_{1}} \\overline{k_{1}}} \\overline{\\psi_{2}{\\left(L_{1} \\right)}}}{e^{2 \\overline{L_{0}} \\overline{k_{1}}} - e^{2 \\overline{L_{1}} \\overline{k_{1}}}} - \\frac{e^{\\overline{L_{0}} \\overline{k_{1}}} e^{2 \\overline{L_{1}} \\overline{k_{1}}} \\overline{\\psi_{0}{\\left(L_{0} \\right)}}}{e^{2 \\overline{L_{0}} \\overline{k_{1}}} - e^{2 \\overline{L_{1}} \\overline{k_{1}}}}\\right) e^{- x \\overline{k_{1}}}\\right)\\, dx = N_{1}$"
      ],
      "text/plain": [
       "Eq(Integral(((\\psi_{0}(L_0)*exp(L_0*k_1)/(exp(2*L_0*k_1) - exp(2*L_1*k_1)) - \\psi_{2}(L_1)*exp(L_1*k_1)/(exp(2*L_0*k_1) - exp(2*L_1*k_1)))*exp(k_1*x) + (-\\psi_{0}(L_0)*exp(L_0*k_1)*exp(2*L_1*k_1)/(exp(2*L_0*k_1) - exp(2*L_1*k_1)) + \\psi_{2}(L_1)*exp(2*L_0*k_1)*exp(L_1*k_1)/(exp(2*L_0*k_1) - exp(2*L_1*k_1)))*exp(-k_1*x))*((exp(conjugate(L_0)*conjugate(k_1))*conjugate(\\psi_{0}(L_0))/(exp(2*conjugate(L_0)*conjugate(k_1)) - exp(2*conjugate(L_1)*conjugate(k_1))) - exp(conjugate(L_1)*conjugate(k_1))*conjugate(\\psi_{2}(L_1))/(exp(2*conjugate(L_0)*conjugate(k_1)) - exp(2*conjugate(L_1)*conjugate(k_1))))*exp(x*conjugate(k_1)) + (exp(2*conjugate(L_0)*conjugate(k_1))*exp(conjugate(L_1)*conjugate(k_1))*conjugate(\\psi_{2}(L_1))/(exp(2*conjugate(L_0)*conjugate(k_1)) - exp(2*conjugate(L_1)*conjugate(k_1))) - exp(conjugate(L_0)*conjugate(k_1))*exp(2*conjugate(L_1)*conjugate(k_1))*conjugate(\\psi_{0}(L_0))/(exp(2*conjugate(L_0)*conjugate(k_1)) - exp(2*conjugate(L_1)*conjugate(k_1))))*exp(-x*conjugate(k_1))), (x, L_0, L_1)), N_{1})"
      ]
     },
     "metadata": {},
     "output_type": "display_data"
    },
    {
     "data": {
      "text/latex": [
       "$\\displaystyle \\int\\limits_{L_{1}}^{L_{2}} \\left(\\left(- \\frac{\\psi_{0}{\\left(0 \\right)} e^{L_{2} k_{2}}}{e^{2 L_{1} k_{2}} - e^{2 L_{2} k_{2}}} + \\frac{\\psi_{1}{\\left(L_{1} \\right)} e^{L_{1} k_{2}}}{e^{2 L_{1} k_{2}} - e^{2 L_{2} k_{2}}}\\right) e^{k_{2} x} + \\left(\\frac{\\psi_{0}{\\left(0 \\right)} e^{2 L_{1} k_{2}} e^{L_{2} k_{2}}}{e^{2 L_{1} k_{2}} - e^{2 L_{2} k_{2}}} - \\frac{\\psi_{1}{\\left(L_{1} \\right)} e^{L_{1} k_{2}} e^{2 L_{2} k_{2}}}{e^{2 L_{1} k_{2}} - e^{2 L_{2} k_{2}}}\\right) e^{- k_{2} x}\\right) \\left(\\left(\\frac{e^{\\overline{L_{1}} \\overline{k_{2}}} \\overline{\\psi_{1}{\\left(L_{1} \\right)}}}{e^{2 \\overline{L_{1}} \\overline{k_{2}}} - e^{2 \\overline{L_{2}} \\overline{k_{2}}}} - \\frac{e^{\\overline{L_{2}} \\overline{k_{2}}} \\overline{\\psi_{0}{\\left(0 \\right)}}}{e^{2 \\overline{L_{1}} \\overline{k_{2}}} - e^{2 \\overline{L_{2}} \\overline{k_{2}}}}\\right) e^{x \\overline{k_{2}}} + \\left(\\frac{e^{2 \\overline{L_{1}} \\overline{k_{2}}} e^{\\overline{L_{2}} \\overline{k_{2}}} \\overline{\\psi_{0}{\\left(0 \\right)}}}{e^{2 \\overline{L_{1}} \\overline{k_{2}}} - e^{2 \\overline{L_{2}} \\overline{k_{2}}}} - \\frac{e^{\\overline{L_{1}} \\overline{k_{2}}} e^{2 \\overline{L_{2}} \\overline{k_{2}}} \\overline{\\psi_{1}{\\left(L_{1} \\right)}}}{e^{2 \\overline{L_{1}} \\overline{k_{2}}} - e^{2 \\overline{L_{2}} \\overline{k_{2}}}}\\right) e^{- x \\overline{k_{2}}}\\right)\\, dx = N_{2}$"
      ],
      "text/plain": [
       "Eq(Integral(((-\\psi_{0}(0)*exp(L_2*k_2)/(exp(2*L_1*k_2) - exp(2*L_2*k_2)) + \\psi_{1}(L_1)*exp(L_1*k_2)/(exp(2*L_1*k_2) - exp(2*L_2*k_2)))*exp(k_2*x) + (\\psi_{0}(0)*exp(2*L_1*k_2)*exp(L_2*k_2)/(exp(2*L_1*k_2) - exp(2*L_2*k_2)) - \\psi_{1}(L_1)*exp(L_1*k_2)*exp(2*L_2*k_2)/(exp(2*L_1*k_2) - exp(2*L_2*k_2)))*exp(-k_2*x))*((exp(conjugate(L_1)*conjugate(k_2))*conjugate(\\psi_{1}(L_1))/(exp(2*conjugate(L_1)*conjugate(k_2)) - exp(2*conjugate(L_2)*conjugate(k_2))) - exp(conjugate(L_2)*conjugate(k_2))*conjugate(\\psi_{0}(0))/(exp(2*conjugate(L_1)*conjugate(k_2)) - exp(2*conjugate(L_2)*conjugate(k_2))))*exp(x*conjugate(k_2)) + (exp(2*conjugate(L_1)*conjugate(k_2))*exp(conjugate(L_2)*conjugate(k_2))*conjugate(\\psi_{0}(0))/(exp(2*conjugate(L_1)*conjugate(k_2)) - exp(2*conjugate(L_2)*conjugate(k_2))) - exp(conjugate(L_1)*conjugate(k_2))*exp(2*conjugate(L_2)*conjugate(k_2))*conjugate(\\psi_{1}(L_1))/(exp(2*conjugate(L_1)*conjugate(k_2)) - exp(2*conjugate(L_2)*conjugate(k_2))))*exp(-x*conjugate(k_2))), (x, L_1, L_2)), N_{2})"
      ]
     },
     "metadata": {},
     "output_type": "display_data"
    }
   ],
   "source": [
    "display_steps( stairwell_solver.normalizations )"
   ]
  },
  {
   "cell_type": "code",
   "execution_count": null,
   "id": "58093f9d-f5f4-4de7-acc2-159b8393b841",
   "metadata": {},
   "outputs": [],
   "source": []
  },
  {
   "cell_type": "code",
   "execution_count": null,
   "id": "55e065cd-7c0d-4651-8534-346db8a42e62",
   "metadata": {},
   "outputs": [],
   "source": [
    "stairwell_solver.normalizations"
   ]
  },
  {
   "cell_type": "code",
   "execution_count": null,
   "id": "41b7c4d1-2dcb-4781-90f2-8c220c6b4c5a",
   "metadata": {},
   "outputs": [],
   "source": []
  },
  {
   "cell_type": "code",
   "execution_count": null,
   "id": "8ad3a009-8fec-4bb1-96f5-c49483b7dc75",
   "metadata": {},
   "outputs": [],
   "source": []
  },
  {
   "cell_type": "code",
   "execution_count": null,
   "id": "9bb8cf5a-dc38-443a-994b-79ecb5656d74",
   "metadata": {},
   "outputs": [],
   "source": [
    "x = sp.Symbol( 'x' )"
   ]
  },
  {
   "cell_type": "code",
   "execution_count": null,
   "id": "fa0cd2e4-d6d2-417b-a799-9b198164a7b7",
   "metadata": {},
   "outputs": [],
   "source": []
  },
  {
   "cell_type": "code",
   "execution_count": null,
   "id": "2417b91d-504d-42fa-af3e-a01c8f446406",
   "metadata": {},
   "outputs": [],
   "source": [
    "f = stairwell_solver.normalizations[ 0 ].last_step().lhs.args[ 0 ].simplify()\n",
    "l = stairwell_solver.normalizations[ 0 ].last_step().lhs.args[ 1 ]"
   ]
  },
  {
   "cell_type": "code",
   "execution_count": null,
   "id": "6ddac1da-1272-40bc-9554-ff299be5230a",
   "metadata": {},
   "outputs": [],
   "source": []
  },
  {
   "cell_type": "code",
   "execution_count": null,
   "id": "469015ac-1da1-4cc8-8226-0dfc0b7701dd",
   "metadata": {},
   "outputs": [],
   "source": [
    "stairwell_solver.boundries.boundries_with( stairwell_solver.psis[ 0 ] )"
   ]
  },
  {
   "cell_type": "code",
   "execution_count": null,
   "id": "5951a009-9c44-476a-b58f-c6c1f4320ac4",
   "metadata": {},
   "outputs": [],
   "source": [
    "stairwell_solver.psis[ 0 ]"
   ]
  },
  {
   "cell_type": "code",
   "execution_count": null,
   "id": "73e89cf6-d85f-4e95-8725-a5826f9b1a8a",
   "metadata": {},
   "outputs": [],
   "source": [
    "stairwell_solver.boundries.boundries[ \"ContinuityConditions\" ]"
   ]
  },
  {
   "cell_type": "code",
   "execution_count": null,
   "id": "535ed64f-8081-4638-83bf-ae47e285754f",
   "metadata": {},
   "outputs": [],
   "source": [
    "all_boundries = stairwell_solver.boundries.boundries[ \"LastUpdatedAllBoundryConditions\" ]"
   ]
  },
  {
   "cell_type": "code",
   "execution_count": null,
   "id": "3b0f8507-20f5-4fe2-bdcd-9dca4c2d716e",
   "metadata": {},
   "outputs": [],
   "source": [
    "all_boundries"
   ]
  },
  {
   "cell_type": "code",
   "execution_count": null,
   "id": "6ce24b58-888b-41ef-a8fd-b5ea886bfd0e",
   "metadata": {},
   "outputs": [],
   "source": [
    "k = 0\n",
    "const_sub = {}\n",
    "for key in all_boundries: \n",
    "    const_sub[ all_boundries[ key ] ] = sp.Symbol( \"M_{\" + str( k ) + '}' )\n",
    "    k += 1"
   ]
  },
  {
   "cell_type": "code",
   "execution_count": null,
   "id": "d05845d8-73cb-46c8-a727-8e652ac7ffd4",
   "metadata": {},
   "outputs": [],
   "source": [
    "const_sub"
   ]
  },
  {
   "cell_type": "code",
   "execution_count": null,
   "id": "0ba9067b-aeb6-4d86-8b3e-4f4d360f32fc",
   "metadata": {},
   "outputs": [],
   "source": [
    "for eq in stairwell_solver.equations: \n",
    "#    eq.operate( lambda step : step.xreplace( all_boundries ) )\n",
    "    eq.operate( lambda step : step.subs( all_boundries ) )\n",
    "    eq.operate( lambda step : step.subs( const_sub ).simplify() )\n",
    "#    for key in all_boundries: \n",
    "#        eq.operate( lambda step : step.replace( key, all_boundries[ key ] ) )\n",
    "    "
   ]
  },
  {
   "cell_type": "code",
   "execution_count": null,
   "id": "e31d68a2-9615-4e84-8e93-15a776c5d5fc",
   "metadata": {},
   "outputs": [],
   "source": [
    "display_steps( stairwell_solver.equations )"
   ]
  },
  {
   "cell_type": "code",
   "execution_count": null,
   "id": "d9df7091-561e-4d05-968d-6b0319b0647a",
   "metadata": {},
   "outputs": [],
   "source": []
  },
  {
   "cell_type": "code",
   "execution_count": null,
   "id": "50e6118a-e82b-4767-9300-a6818297ef55",
   "metadata": {},
   "outputs": [],
   "source": [
    "gral = sp.integrate( stairwell_solver.equations[ 0 ].last_step().rhs, ( stairwell_solver.position, 0, stairwell_solver.regions()[ 0 ] ) )"
   ]
  },
  {
   "cell_type": "code",
   "execution_count": null,
   "id": "bf28d049-4810-4535-990a-f50ff0556844",
   "metadata": {},
   "outputs": [],
   "source": [
    "gral.simplify()"
   ]
  },
  {
   "cell_type": "code",
   "execution_count": null,
   "id": "6610535a-8a1c-44f5-a230-02ba1a59e012",
   "metadata": {},
   "outputs": [],
   "source": []
  },
  {
   "cell_type": "code",
   "execution_count": null,
   "id": "c024c669-3800-4a00-8761-a3fed2140606",
   "metadata": {},
   "outputs": [],
   "source": []
  },
  {
   "cell_type": "code",
   "execution_count": null,
   "id": "decd6446-1dee-4de0-8208-5268835606dc",
   "metadata": {},
   "outputs": [],
   "source": []
  }
 ],
 "metadata": {
  "kernelspec": {
   "display_name": "Python 3 (ipykernel)",
   "language": "python",
   "name": "python3"
  },
  "language_info": {
   "codemirror_mode": {
    "name": "ipython",
    "version": 3
   },
   "file_extension": ".py",
   "mimetype": "text/x-python",
   "name": "python",
   "nbconvert_exporter": "python",
   "pygments_lexer": "ipython3",
   "version": "3.9.10"
  }
 },
 "nbformat": 4,
 "nbformat_minor": 5
}
