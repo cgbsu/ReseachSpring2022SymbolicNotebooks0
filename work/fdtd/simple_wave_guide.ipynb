{
 "cells": [
  {
   "cell_type": "code",
   "execution_count": 1,
   "id": "e1f5eed7-576c-4053-8dc2-fa207fc83191",
   "metadata": {},
   "outputs": [],
   "source": [
    "import fdtd"
   ]
  },
  {
   "cell_type": "code",
   "execution_count": 2,
   "id": "3587e7a0-e31e-4c84-99be-609f7c521f71",
   "metadata": {},
   "outputs": [],
   "source": [
    "wavelength = 1550e-9"
   ]
  },
  {
   "cell_type": "code",
   "execution_count": 3,
   "id": "78e277cd-44e3-4991-9140-92a80f618567",
   "metadata": {},
   "outputs": [],
   "source": [
    "speedOfLight = 3e8#299_292_458"
   ]
  },
  {
   "cell_type": "code",
   "execution_count": 4,
   "id": "3bd90031-5349-4f68-a5c8-344da03f2192",
   "metadata": {},
   "outputs": [],
   "source": [
    "fdtd.set_backend(\"numpy\")"
   ]
  },
  {
   "cell_type": "code",
   "execution_count": null,
   "id": "d06fc55b-5c42-4873-b34d-9056acf0d540",
   "metadata": {},
   "outputs": [],
   "source": []
  },
  {
   "cell_type": "code",
   "execution_count": 5,
   "id": "58c71abd-6c68-4047-b498-61fe49fa6c9c",
   "metadata": {},
   "outputs": [],
   "source": [
    "gridLength = 25e-6"
   ]
  },
  {
   "cell_type": "code",
   "execution_count": 6,
   "id": "ac120f1a-62e3-491d-a17f-443acbcac32a",
   "metadata": {},
   "outputs": [],
   "source": [
    "gridWidth = 15e-6"
   ]
  },
  {
   "cell_type": "code",
   "execution_count": 7,
   "id": "51bebf12-8677-468c-8457-682d9a13dc08",
   "metadata": {},
   "outputs": [],
   "source": [
    "airPermitivity = 1.0006"
   ]
  },
  {
   "cell_type": "code",
   "execution_count": 8,
   "id": "5f859ef5-c073-48cc-808d-a93d4aa620cb",
   "metadata": {},
   "outputs": [],
   "source": [
    "siliconPermitivity = 11.68"
   ]
  },
  {
   "cell_type": "code",
   "execution_count": 9,
   "id": "b757f4d6-1364-427c-8f12-537914b73b26",
   "metadata": {},
   "outputs": [],
   "source": [
    "siliconNitridePermitivity = 7"
   ]
  },
  {
   "cell_type": "code",
   "execution_count": 10,
   "id": "2f6e9088-8d11-43e9-8e04-bdbcc41ad577",
   "metadata": {},
   "outputs": [],
   "source": [
    "siliconDiOxidePermitivity = 3.9"
   ]
  },
  {
   "cell_type": "code",
   "execution_count": 11,
   "id": "368d747d-978b-4a5c-bfd3-54c8c46207b0",
   "metadata": {},
   "outputs": [
    {
     "name": "stdout",
     "output_type": "stream",
     "text": [
      "Grid(shape=(161,97,2), grid_spacing=1.55e-07, courant_number=0.57)\n",
      "\n"
     ]
    }
   ],
   "source": [
    "grid = fdtd.Grid(\n",
    "    shape = (gridLength, gridWidth, 2), # 25um x 15um x 1 (grid_spacing) --> 2D FDTD\n",
    ")\n",
    "print(grid)"
   ]
  },
  {
   "cell_type": "code",
   "execution_count": 12,
   "id": "7e118de6-2d7e-439d-8cbe-e284000988bc",
   "metadata": {},
   "outputs": [],
   "source": [
    "#grid[60:120, 40:50, 0] = fdtd.Object(permittivity = siliconPermitivity, name=\"waveGuide\")"
   ]
  },
  {
   "cell_type": "code",
   "execution_count": 13,
   "id": "00b388ee-93dc-4af8-8975-65c1d3e0aa36",
   "metadata": {},
   "outputs": [],
   "source": [
    "#grid[60:120, 38:52, 1] = fdtd.Object(permittivity = siliconNitridePermitivity, name=\"cladding\")"
   ]
  },
  {
   "cell_type": "code",
   "execution_count": 14,
   "id": "b2df3ec4-8f83-4fa9-a2d9-3222c9e7c7cb",
   "metadata": {},
   "outputs": [],
   "source": [
    "#print(grid.waveGuide)\n",
    "#print(grid.cladding)"
   ]
  },
  {
   "cell_type": "code",
   "execution_count": 15,
   "id": "3c3bfffc-e267-46c5-98a8-1bd45798497a",
   "metadata": {},
   "outputs": [],
   "source": [
    "#grid[5:8, 13:18, 0] = fdtd.Object(permittivity=1.5**2)\n",
    "#print(grid.objects)"
   ]
  },
  {
   "cell_type": "code",
   "execution_count": 16,
   "id": "efa06cf7-a4de-48a3-a84e-a6f9d69aa3f8",
   "metadata": {},
   "outputs": [
    {
     "name": "stdout",
     "output_type": "stream",
     "text": [
      "    LineSource(period=17, amplitude=1.0, phase_shift=0.0, name='source')\n",
      "        @ x=[48, ... , 51], y=[76, ... , 83], z=[0, ... , 0]\n",
      "\n"
     ]
    }
   ],
   "source": [
    "#grid[8e-6, 6e-6, 0] = fdtd.PointSource(\n",
    "#grid[9e-6:10e-6, 6e-6:8e-6, 0] = fdtd.LineSource(\n",
    "grid[7.5e-6:8.0e-6, 11.8e-6:13.0e-6, 0] = fdtd.LineSource(\n",
    "    period = wavelength / (speedOfLight), \n",
    "    name=\"source\"\n",
    ")\n",
    "print(grid.source)"
   ]
  },
  {
   "cell_type": "code",
   "execution_count": 17,
   "id": "b4f146b7-ebf8-4b1f-bd6e-9b71c19c9bae",
   "metadata": {},
   "outputs": [
    {
     "name": "stdout",
     "output_type": "stream",
     "text": [
      "    LineDetector(name='detector')\n",
      "        @ x=[129, ... , 129], y=[0, ... , 96], z=[0, ... , 0]\n",
      "\n"
     ]
    }
   ],
   "source": [
    "grid[20e-6, :, 0] = fdtd.LineDetector(name=\"detector\")\n",
    "print(grid.detector)"
   ]
  },
  {
   "cell_type": "code",
   "execution_count": 18,
   "id": "3fef851d-f21f-480e-b10b-acd09e59fa9e",
   "metadata": {},
   "outputs": [],
   "source": [
    "# x boundaries\n",
    "# grid[0, :, :] = fdtd.PeriodicBoundary(name=\"xbounds\")\n",
    "grid[0:10, :, :] = fdtd.PML(name=\"pml_xlow\")\n",
    "grid[-10:, :, :] = fdtd.PML(name=\"pml_xhigh\")"
   ]
  },
  {
   "cell_type": "code",
   "execution_count": 19,
   "id": "787fe4c4-06bc-4474-a9bc-45e092075d5b",
   "metadata": {},
   "outputs": [
    {
     "name": "stdout",
     "output_type": "stream",
     "text": [
      "Grid(shape=(161,97,2), grid_spacing=1.55e-07, courant_number=0.57)\n",
      "\n",
      "sources:\n",
      "    LineSource(period=17, amplitude=1.0, phase_shift=0.0, name='source')\n",
      "        @ x=[48, ... , 51], y=[76, ... , 83], z=[0, ... , 0]\n",
      "\n",
      "detectors:\n",
      "    LineDetector(name='detector')\n",
      "        @ x=[129, ... , 129], y=[0, ... , 96], z=[0, ... , 0]\n",
      "\n",
      "boundaries:\n",
      "    PML(name='pml_xlow')\n",
      "        @ x=0:10, y=:, z=:\n",
      "    PML(name='pml_xhigh')\n",
      "        @ x=-10:, y=:, z=:\n",
      "    PML(name='pml_ylow')\n",
      "        @ x=:, y=0:10, z=:\n",
      "    PML(name='pml_yhigh')\n",
      "        @ x=:, y=-10:, z=:\n",
      "\n"
     ]
    }
   ],
   "source": [
    "# y boundaries\n",
    "# grid[:, 0, :] = fdtd.PeriodicBoundary(name=\"ybounds\")\n",
    "grid[:, 0:10, :] = fdtd.PML(name=\"pml_ylow\")\n",
    "grid[:, -10:, :] = fdtd.PML(name=\"pml_yhigh\")\n",
    "print(grid)"
   ]
  },
  {
   "cell_type": "code",
   "execution_count": 20,
   "id": "48138770-9e04-41d6-a55a-f99890bc8618",
   "metadata": {},
   "outputs": [
    {
     "name": "stderr",
     "output_type": "stream",
     "text": [
      "100%|██████████████████████████████████████████████████████████████████████████████████████████████████████████████████████████████████████████████████████| 100/100 [00:00<00:00, 588.01it/s]\n"
     ]
    }
   ],
   "source": [
    "grid.run(total_time=100)"
   ]
  },
  {
   "cell_type": "code",
   "execution_count": 21,
   "id": "cc7b453a-7ec6-4ba6-8a5d-86e5cd6d811e",
   "metadata": {},
   "outputs": [
    {
     "data": {
      "image/png": "[encoded data removed]",
      "text/plain": [
       "<Figure size 640x480 with 1 Axes>"
      ]
     },
     "metadata": {},
     "output_type": "display_data"
    }
   ],
   "source": [
    "grid.visualize(z=0, show=False)"
   ]
  },
  {
   "cell_type": "code",
   "execution_count": 22,
   "id": "73094704-e034-427f-bb64-876375d40a72",
   "metadata": {},
   "outputs": [
    {
     "data": {
      "image/png": "[encoded data removed]",
      "text/plain": [
       "<Figure size 640x480 with 1 Axes>"
      ]
     },
     "metadata": {},
     "output_type": "display_data"
    }
   ],
   "source": [
    "grid.visualize(z=1, show=False)\n",
    "import matplotlib.pyplot as plt"
   ]
  },
  {
   "cell_type": "code",
   "execution_count": null,
   "id": "21a92669-994b-40cc-be76-0d3a12909aa4",
   "metadata": {},
   "outputs": [],
   "source": []
  }
 ],
 "metadata": {
  "kernelspec": {
   "display_name": "Python 3 (ipykernel)",
   "language": "python",
   "name": "python3"
  },
  "language_info": {
   "codemirror_mode": {
    "name": "ipython",
    "version": 3
   },
   "file_extension": ".py",
   "mimetype": "text/x-python",
   "name": "python",
   "nbconvert_exporter": "python",
   "pygments_lexer": "ipython3",
   "version": "3.10.5"
  }
 },
 "nbformat": 4,
 "nbformat_minor": 5
}
