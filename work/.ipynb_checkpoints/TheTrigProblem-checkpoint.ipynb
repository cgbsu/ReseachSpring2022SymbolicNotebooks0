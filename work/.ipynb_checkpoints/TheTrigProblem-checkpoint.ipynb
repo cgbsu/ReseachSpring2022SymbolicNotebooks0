{
 "cells": [
  {
   "cell_type": "code",
   "execution_count": 1,
   "id": "71ed11dd-4138-49e9-9f4d-d41c62e04013",
   "metadata": {},
   "outputs": [],
   "source": [
    "import sympy as sp"
   ]
  },
  {
   "cell_type": "code",
   "execution_count": null,
   "id": "be62fcc5-871c-4529-b011-3525b498b263",
   "metadata": {},
   "outputs": [],
   "source": []
  },
  {
   "cell_type": "code",
   "execution_count": 2,
   "id": "4ebbc7f3-d728-4b3b-815e-f945a309a954",
   "metadata": {},
   "outputs": [],
   "source": [
    "E, V1, m, hr, B0, B1, x, L_0, L_1, k_1, Bt0, Br0, B1t, B1r, A1, N1, Ct1, Cr1 = sp.symbols(\"E V_1 m hbar B_0 B_1 x L_0 L_1 k_1 B_{t_0} B_{r_0} B_{t_1} B_{r_1} A_1 N_1 C_{t_1} C_{r_1}\")"
   ]
  },
  {
   "cell_type": "code",
   "execution_count": 3,
   "id": "5171e7c2-f4c1-43ed-9b94-9840e5921714",
   "metadata": {},
   "outputs": [],
   "source": [
    "psi_1 = sp.Function(\"psi_1\")(x)"
   ]
  },
  {
   "cell_type": "code",
   "execution_count": 4,
   "id": "24ca4afe-ea4a-4ca5-9d66-727c2a1bce91",
   "metadata": {},
   "outputs": [
    {
     "data": {
      "text/latex": [
       "$\\displaystyle \\psi_{1}{\\left(x \\right)}$"
      ],
      "text/plain": [
       "psi_1(x)"
      ]
     },
     "execution_count": 4,
     "metadata": {},
     "output_type": "execute_result"
    }
   ],
   "source": [
    "psi_1"
   ]
  },
  {
   "cell_type": "code",
   "execution_count": 5,
   "id": "226f3017-4d22-4821-9f28-3dae758d0828",
   "metadata": {},
   "outputs": [],
   "source": [
    "schro_1 = sp.Eq(((hr ** 2) / (2 * m)) * psi_1.diff().diff() + V1 * psi_1, E * psi_1)"
   ]
  },
  {
   "cell_type": "code",
   "execution_count": 6,
   "id": "5eb8088e-2251-4928-b0b9-5dacd09e605b",
   "metadata": {},
   "outputs": [
    {
     "data": {
      "text/latex": [
       "$\\displaystyle V_{1} \\psi_{1}{\\left(x \\right)} + \\frac{\\hbar^{2} \\frac{d^{2}}{d x^{2}} \\psi_{1}{\\left(x \\right)}}{2 m} = E \\psi_{1}{\\left(x \\right)}$"
      ],
      "text/plain": [
       "Eq(V_1*psi_1(x) + hbar**2*Derivative(psi_1(x), (x, 2))/(2*m), E*psi_1(x))"
      ]
     },
     "execution_count": 6,
     "metadata": {},
     "output_type": "execute_result"
    }
   ],
   "source": [
    "schro_1"
   ]
  },
  {
   "cell_type": "code",
   "execution_count": 7,
   "id": "645d66ed-5f64-4f20-938d-6e759550a418",
   "metadata": {},
   "outputs": [],
   "source": [
    "ts = (schro_1.lhs - schro_1.rhs).collect(psi_1).as_two_terms()"
   ]
  },
  {
   "cell_type": "code",
   "execution_count": 8,
   "id": "953c3a46-b0a5-443b-a513-a26baf5fb9fa",
   "metadata": {},
   "outputs": [],
   "source": [
    "schro_1 = sp.Eq(k_1, sp.Eq(ts[0] * 2 * m / psi_1 / hr ** 2, ts[1] * 2 * m / psi_1 / hr ** 2).rhs)"
   ]
  },
  {
   "cell_type": "code",
   "execution_count": 9,
   "id": "70872d46-2caa-4a58-825d-54b7e5c9c813",
   "metadata": {},
   "outputs": [],
   "source": [
    "diffsolve = sp.dsolve(schro_1, ics = {psi_1.func(L_0) : B0, psi_1.func(L_1) : B1})"
   ]
  },
  {
   "cell_type": "code",
   "execution_count": null,
   "id": "a81b3a20-8a36-4104-8f8c-f4cb0db8c958",
   "metadata": {},
   "outputs": [],
   "source": []
  },
  {
   "cell_type": "code",
   "execution_count": 16,
   "id": "c48f05fb-1bbd-4ae2-8b99-1b3860f4d2f4",
   "metadata": {},
   "outputs": [
    {
     "data": {
      "text/latex": [
       "$\\displaystyle \\frac{B_{0} e^{L_{0} \\sqrt{k_{1}}} e^{\\sqrt{k_{1}} x}}{e^{2 L_{0} \\sqrt{k_{1}}} - e^{2 L_{1} \\sqrt{k_{1}}}} - \\frac{B_{0} e^{L_{0} \\sqrt{k_{1}}} e^{2 L_{1} \\sqrt{k_{1}}}}{e^{2 L_{0} \\sqrt{k_{1}}} e^{\\sqrt{k_{1}} x} - e^{2 L_{1} \\sqrt{k_{1}}} e^{\\sqrt{k_{1}} x}} - \\frac{B_{1} e^{L_{1} \\sqrt{k_{1}}} e^{\\sqrt{k_{1}} x}}{e^{2 L_{0} \\sqrt{k_{1}}} - e^{2 L_{1} \\sqrt{k_{1}}}} + \\frac{B_{1} e^{2 L_{0} \\sqrt{k_{1}}} e^{L_{1} \\sqrt{k_{1}}}}{e^{2 L_{0} \\sqrt{k_{1}}} e^{\\sqrt{k_{1}} x} - e^{2 L_{1} \\sqrt{k_{1}}} e^{\\sqrt{k_{1}} x}}$"
      ],
      "text/plain": [
       "B_0*exp(L_0*sqrt(k_1))*exp(sqrt(k_1)*x)/(exp(2*L_0*sqrt(k_1)) - exp(2*L_1*sqrt(k_1))) - B_0*exp(L_0*sqrt(k_1))*exp(2*L_1*sqrt(k_1))/(exp(2*L_0*sqrt(k_1))*exp(sqrt(k_1)*x) - exp(2*L_1*sqrt(k_1))*exp(sqrt(k_1)*x)) - B_1*exp(L_1*sqrt(k_1))*exp(sqrt(k_1)*x)/(exp(2*L_0*sqrt(k_1)) - exp(2*L_1*sqrt(k_1))) + B_1*exp(2*L_0*sqrt(k_1))*exp(L_1*sqrt(k_1))/(exp(2*L_0*sqrt(k_1))*exp(sqrt(k_1)*x) - exp(2*L_1*sqrt(k_1))*exp(sqrt(k_1)*x))"
      ]
     },
     "execution_count": 16,
     "metadata": {},
     "output_type": "execute_result"
    }
   ],
   "source": [
    "diffsolve.rhs.expand()"
   ]
  },
  {
   "cell_type": "code",
   "execution_count": 17,
   "id": "1cdd1256-9996-4420-98f2-e243dcfa4dbb",
   "metadata": {},
   "outputs": [
    {
     "data": {
      "text/latex": [
       "$\\displaystyle \\psi_{1}{\\left(x \\right)} = \\left(\\frac{B_{0} e^{L_{0} \\sqrt{k_{1}}}}{e^{2 L_{0} \\sqrt{k_{1}}} - e^{2 L_{1} \\sqrt{k_{1}}}} - \\frac{B_{1} e^{L_{1} \\sqrt{k_{1}}}}{e^{2 L_{0} \\sqrt{k_{1}}} - e^{2 L_{1} \\sqrt{k_{1}}}}\\right) e^{\\sqrt{k_{1}} x} + \\left(- \\frac{B_{0} e^{L_{0} \\sqrt{k_{1}}} e^{2 L_{1} \\sqrt{k_{1}}}}{e^{2 L_{0} \\sqrt{k_{1}}} - e^{2 L_{1} \\sqrt{k_{1}}}} + \\frac{B_{1} e^{2 L_{0} \\sqrt{k_{1}}} e^{L_{1} \\sqrt{k_{1}}}}{e^{2 L_{0} \\sqrt{k_{1}}} - e^{2 L_{1} \\sqrt{k_{1}}}}\\right) e^{- \\sqrt{k_{1}} x}$"
      ],
      "text/plain": [
       "Eq(psi_1(x), (B_0*exp(L_0*sqrt(k_1))/(exp(2*L_0*sqrt(k_1)) - exp(2*L_1*sqrt(k_1))) - B_1*exp(L_1*sqrt(k_1))/(exp(2*L_0*sqrt(k_1)) - exp(2*L_1*sqrt(k_1))))*exp(sqrt(k_1)*x) + (-B_0*exp(L_0*sqrt(k_1))*exp(2*L_1*sqrt(k_1))/(exp(2*L_0*sqrt(k_1)) - exp(2*L_1*sqrt(k_1))) + B_1*exp(2*L_0*sqrt(k_1))*exp(L_1*sqrt(k_1))/(exp(2*L_0*sqrt(k_1)) - exp(2*L_1*sqrt(k_1))))*exp(-sqrt(k_1)*x))"
      ]
     },
     "execution_count": 17,
     "metadata": {},
     "output_type": "execute_result"
    }
   ],
   "source": [
    "diffsolve"
   ]
  },
  {
   "cell_type": "code",
   "execution_count": null,
   "id": "ccd1aa93-42ef-4dac-8c3b-227918fa5e46",
   "metadata": {},
   "outputs": [],
   "source": []
  }
 ],
 "metadata": {
  "kernelspec": {
   "display_name": "Python 3 (ipykernel)",
   "language": "python",
   "name": "python3"
  },
  "language_info": {
   "codemirror_mode": {
    "name": "ipython",
    "version": 3
   },
   "file_extension": ".py",
   "mimetype": "text/x-python",
   "name": "python",
   "nbconvert_exporter": "python",
   "pygments_lexer": "ipython3",
   "version": "3.10.5"
  }
 },
 "nbformat": 4,
 "nbformat_minor": 5
}
