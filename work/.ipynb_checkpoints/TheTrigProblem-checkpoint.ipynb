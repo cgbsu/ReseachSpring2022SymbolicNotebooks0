{
 "cells": [
  {
   "cell_type": "code",
   "execution_count": 1,
   "id": "71ed11dd-4138-49e9-9f4d-d41c62e04013",
   "metadata": {},
   "outputs": [],
   "source": [
    "import sympy as sp"
   ]
  },
  {
   "cell_type": "code",
   "execution_count": null,
   "id": "be62fcc5-871c-4529-b011-3525b498b263",
   "metadata": {},
   "outputs": [],
   "source": []
  },
  {
   "cell_type": "code",
   "execution_count": 2,
   "id": "4ebbc7f3-d728-4b3b-815e-f945a309a954",
   "metadata": {},
   "outputs": [],
   "source": [
    "E, V1, m, hr, B0, B1, x, L_0, L_1, k_1, Bt0, Br0, B1t, B1r, A1, N1, Ct1, Cr1 = sp.symbols(\"E V_1 m hbar B_0 B_1 x L_0 L_1 k_1 B_{t_0} B_{r_0} B_{t_1} B_{r_1} A_1 N_1 C_{t_1} C_{r_1}\")"
   ]
  },
  {
   "cell_type": "code",
   "execution_count": 3,
   "id": "5171e7c2-f4c1-43ed-9b94-9840e5921714",
   "metadata": {},
   "outputs": [],
   "source": [
    "psi_1 = sp.Function(\"psi_1\")(x)"
   ]
  },
  {
   "cell_type": "code",
   "execution_count": 4,
   "id": "24ca4afe-ea4a-4ca5-9d66-727c2a1bce91",
   "metadata": {},
   "outputs": [
    {
     "data": {
      "text/latex": [
       "$\\displaystyle \\psi_{1}{\\left(x \\right)}$"
      ],
      "text/plain": [
       "psi_1(x)"
      ]
     },
     "execution_count": 4,
     "metadata": {},
     "output_type": "execute_result"
    }
   ],
   "source": [
    "psi_1"
   ]
  },
  {
   "cell_type": "code",
   "execution_count": 5,
   "id": "226f3017-4d22-4821-9f28-3dae758d0828",
   "metadata": {},
   "outputs": [],
   "source": [
    "schro_1 = sp.Eq(((hr ** 2) / (2 * m)) * psi_1.diff().diff() + V1 * psi_1, E * psi_1)"
   ]
  },
  {
   "cell_type": "code",
   "execution_count": 6,
   "id": "5eb8088e-2251-4928-b0b9-5dacd09e605b",
   "metadata": {},
   "outputs": [
    {
     "data": {
      "text/latex": [
       "$\\displaystyle V_{1} \\psi_{1}{\\left(x \\right)} + \\frac{\\hbar^{2} \\frac{d^{2}}{d x^{2}} \\psi_{1}{\\left(x \\right)}}{2 m} = E \\psi_{1}{\\left(x \\right)}$"
      ],
      "text/plain": [
       "Eq(V_1*psi_1(x) + hbar**2*Derivative(psi_1(x), (x, 2))/(2*m), E*psi_1(x))"
      ]
     },
     "execution_count": 6,
     "metadata": {},
     "output_type": "execute_result"
    }
   ],
   "source": [
    "schro_1"
   ]
  },
  {
   "cell_type": "code",
   "execution_count": 7,
   "id": "645d66ed-5f64-4f20-938d-6e759550a418",
   "metadata": {},
   "outputs": [],
   "source": [
    "ts = (schro_1.lhs - schro_1.rhs).collect(psi_1).as_two_terms()"
   ]
  },
  {
   "cell_type": "code",
   "execution_count": 8,
   "id": "953c3a46-b0a5-443b-a513-a26baf5fb9fa",
   "metadata": {},
   "outputs": [],
   "source": [
    "schro_1 = sp.Eq(k_1, sp.Eq(ts[0] * 2 * m / psi_1 / hr ** 2, ts[1] * 2 * m / psi_1 / hr ** 2).rhs)"
   ]
  },
  {
   "cell_type": "code",
   "execution_count": 9,
   "id": "70872d46-2caa-4a58-825d-54b7e5c9c813",
   "metadata": {},
   "outputs": [],
   "source": [
    "diffsolve = sp.dsolve(schro_1, ics = {psi_1.func(L_0) : B0, psi_1.func(L_1) : B1})"
   ]
  },
  {
   "cell_type": "code",
   "execution_count": null,
   "id": "a81b3a20-8a36-4104-8f8c-f4cb0db8c958",
   "metadata": {},
   "outputs": [],
   "source": []
  },
  {
   "cell_type": "code",
   "execution_count": 10,
   "id": "c48f05fb-1bbd-4ae2-8b99-1b3860f4d2f4",
   "metadata": {},
   "outputs": [
    {
     "data": {
      "text/latex": [
       "$\\displaystyle \\frac{B_{0} e^{L_{0} \\sqrt{k_{1}}} e^{\\sqrt{k_{1}} x}}{e^{2 L_{0} \\sqrt{k_{1}}} - e^{2 L_{1} \\sqrt{k_{1}}}} - \\frac{B_{0} e^{L_{0} \\sqrt{k_{1}}} e^{2 L_{1} \\sqrt{k_{1}}}}{e^{2 L_{0} \\sqrt{k_{1}}} e^{\\sqrt{k_{1}} x} - e^{2 L_{1} \\sqrt{k_{1}}} e^{\\sqrt{k_{1}} x}} - \\frac{B_{1} e^{L_{1} \\sqrt{k_{1}}} e^{\\sqrt{k_{1}} x}}{e^{2 L_{0} \\sqrt{k_{1}}} - e^{2 L_{1} \\sqrt{k_{1}}}} + \\frac{B_{1} e^{2 L_{0} \\sqrt{k_{1}}} e^{L_{1} \\sqrt{k_{1}}}}{e^{2 L_{0} \\sqrt{k_{1}}} e^{\\sqrt{k_{1}} x} - e^{2 L_{1} \\sqrt{k_{1}}} e^{\\sqrt{k_{1}} x}}$"
      ],
      "text/plain": [
       "B_0*exp(L_0*sqrt(k_1))*exp(sqrt(k_1)*x)/(exp(2*L_0*sqrt(k_1)) - exp(2*L_1*sqrt(k_1))) - B_0*exp(L_0*sqrt(k_1))*exp(2*L_1*sqrt(k_1))/(exp(2*L_0*sqrt(k_1))*exp(sqrt(k_1)*x) - exp(2*L_1*sqrt(k_1))*exp(sqrt(k_1)*x)) - B_1*exp(L_1*sqrt(k_1))*exp(sqrt(k_1)*x)/(exp(2*L_0*sqrt(k_1)) - exp(2*L_1*sqrt(k_1))) + B_1*exp(2*L_0*sqrt(k_1))*exp(L_1*sqrt(k_1))/(exp(2*L_0*sqrt(k_1))*exp(sqrt(k_1)*x) - exp(2*L_1*sqrt(k_1))*exp(sqrt(k_1)*x))"
      ]
     },
     "execution_count": 10,
     "metadata": {},
     "output_type": "execute_result"
    }
   ],
   "source": [
    "diffsolve.rhs.expand()"
   ]
  },
  {
   "cell_type": "code",
   "execution_count": 11,
   "id": "1cdd1256-9996-4420-98f2-e243dcfa4dbb",
   "metadata": {},
   "outputs": [
    {
     "data": {
      "text/latex": [
       "$\\displaystyle \\psi_{1}{\\left(x \\right)} = \\left(\\frac{B_{0} e^{L_{0} \\sqrt{k_{1}}}}{e^{2 L_{0} \\sqrt{k_{1}}} - e^{2 L_{1} \\sqrt{k_{1}}}} - \\frac{B_{1} e^{L_{1} \\sqrt{k_{1}}}}{e^{2 L_{0} \\sqrt{k_{1}}} - e^{2 L_{1} \\sqrt{k_{1}}}}\\right) e^{\\sqrt{k_{1}} x} + \\left(- \\frac{B_{0} e^{L_{0} \\sqrt{k_{1}}} e^{2 L_{1} \\sqrt{k_{1}}}}{e^{2 L_{0} \\sqrt{k_{1}}} - e^{2 L_{1} \\sqrt{k_{1}}}} + \\frac{B_{1} e^{2 L_{0} \\sqrt{k_{1}}} e^{L_{1} \\sqrt{k_{1}}}}{e^{2 L_{0} \\sqrt{k_{1}}} - e^{2 L_{1} \\sqrt{k_{1}}}}\\right) e^{- \\sqrt{k_{1}} x}$"
      ],
      "text/plain": [
       "Eq(psi_1(x), (B_0*exp(L_0*sqrt(k_1))/(exp(2*L_0*sqrt(k_1)) - exp(2*L_1*sqrt(k_1))) - B_1*exp(L_1*sqrt(k_1))/(exp(2*L_0*sqrt(k_1)) - exp(2*L_1*sqrt(k_1))))*exp(sqrt(k_1)*x) + (-B_0*exp(L_0*sqrt(k_1))*exp(2*L_1*sqrt(k_1))/(exp(2*L_0*sqrt(k_1)) - exp(2*L_1*sqrt(k_1))) + B_1*exp(2*L_0*sqrt(k_1))*exp(L_1*sqrt(k_1))/(exp(2*L_0*sqrt(k_1)) - exp(2*L_1*sqrt(k_1))))*exp(-sqrt(k_1)*x))"
      ]
     },
     "execution_count": 11,
     "metadata": {},
     "output_type": "execute_result"
    }
   ],
   "source": [
    "diffsolve"
   ]
  },
  {
   "cell_type": "code",
   "execution_count": 12,
   "id": "ccd1aa93-42ef-4dac-8c3b-227918fa5e46",
   "metadata": {},
   "outputs": [],
   "source": [
    "diffsolve2 = sp.dsolve(schro_1, ics = {psi_1.func(L_0).diff().diff() : B0, psi_1.func(L_1).diff().diff() : B1})"
   ]
  },
  {
   "cell_type": "code",
   "execution_count": 13,
   "id": "55053ab0-7955-423f-bce0-b9a4afa0f5f0",
   "metadata": {},
   "outputs": [
    {
     "data": {
      "text/latex": [
       "$\\displaystyle \\psi_{1}{\\left(x \\right)} = \\left(\\frac{B_{0} e^{L_{0} \\sqrt{k_{1}}}}{k_{1} e^{2 L_{0} \\sqrt{k_{1}}} - k_{1} e^{2 L_{1} \\sqrt{k_{1}}}} - \\frac{B_{1} e^{L_{1} \\sqrt{k_{1}}}}{k_{1} e^{2 L_{0} \\sqrt{k_{1}}} - k_{1} e^{2 L_{1} \\sqrt{k_{1}}}}\\right) e^{\\sqrt{k_{1}} x} + \\left(- \\frac{B_{0} e^{L_{0} \\sqrt{k_{1}}} e^{2 L_{1} \\sqrt{k_{1}}}}{k_{1} e^{2 L_{0} \\sqrt{k_{1}}} - k_{1} e^{2 L_{1} \\sqrt{k_{1}}}} + \\frac{B_{1} e^{2 L_{0} \\sqrt{k_{1}}} e^{L_{1} \\sqrt{k_{1}}}}{k_{1} e^{2 L_{0} \\sqrt{k_{1}}} - k_{1} e^{2 L_{1} \\sqrt{k_{1}}}}\\right) e^{- \\sqrt{k_{1}} x}$"
      ],
      "text/plain": [
       "Eq(psi_1(x), (B_0*exp(L_0*sqrt(k_1))/(k_1*exp(2*L_0*sqrt(k_1)) - k_1*exp(2*L_1*sqrt(k_1))) - B_1*exp(L_1*sqrt(k_1))/(k_1*exp(2*L_0*sqrt(k_1)) - k_1*exp(2*L_1*sqrt(k_1))))*exp(sqrt(k_1)*x) + (-B_0*exp(L_0*sqrt(k_1))*exp(2*L_1*sqrt(k_1))/(k_1*exp(2*L_0*sqrt(k_1)) - k_1*exp(2*L_1*sqrt(k_1))) + B_1*exp(2*L_0*sqrt(k_1))*exp(L_1*sqrt(k_1))/(k_1*exp(2*L_0*sqrt(k_1)) - k_1*exp(2*L_1*sqrt(k_1))))*exp(-sqrt(k_1)*x))"
      ]
     },
     "execution_count": 13,
     "metadata": {},
     "output_type": "execute_result"
    }
   ],
   "source": [
    "diffsolve2"
   ]
  },
  {
   "cell_type": "code",
   "execution_count": 14,
   "id": "adcf2bf7-5a43-414a-a8f2-fdea17da68c7",
   "metadata": {},
   "outputs": [
    {
     "ename": "ValueError",
     "evalue": "Couldn't solve for initial conditions",
     "output_type": "error",
     "traceback": [
      "\u001b[0;31m---------------------------------------------------------------------------\u001b[0m",
      "\u001b[0;31mValueError\u001b[0m                                Traceback (most recent call last)",
      "Input \u001b[0;32mIn [14]\u001b[0m, in \u001b[0;36m<cell line: 1>\u001b[0;34m()\u001b[0m\n\u001b[0;32m----> 1\u001b[0m diffsolve3 \u001b[38;5;241m=\u001b[39m \u001b[43msp\u001b[49m\u001b[38;5;241;43m.\u001b[39;49m\u001b[43mdsolve\u001b[49m\u001b[43m(\u001b[49m\u001b[43mschro_1\u001b[49m\u001b[43m,\u001b[49m\u001b[43m \u001b[49m\u001b[43mics\u001b[49m\u001b[43m \u001b[49m\u001b[38;5;241;43m=\u001b[39;49m\u001b[43m \u001b[49m\u001b[43m{\u001b[49m\u001b[43mpsi_1\u001b[49m\u001b[38;5;241;43m.\u001b[39;49m\u001b[43mfunc\u001b[49m\u001b[43m(\u001b[49m\u001b[43mL_0\u001b[49m\u001b[43m)\u001b[49m\u001b[38;5;241;43m.\u001b[39;49m\u001b[43mdiff\u001b[49m\u001b[43m(\u001b[49m\u001b[43m)\u001b[49m\u001b[38;5;241;43m.\u001b[39;49m\u001b[43mdiff\u001b[49m\u001b[43m(\u001b[49m\u001b[43m)\u001b[49m\u001b[43m \u001b[49m\u001b[43m:\u001b[49m\u001b[43m \u001b[49m\u001b[43mB0\u001b[49m\u001b[43m,\u001b[49m\u001b[43m \u001b[49m\u001b[43mpsi_1\u001b[49m\u001b[38;5;241;43m.\u001b[39;49m\u001b[43mfunc\u001b[49m\u001b[43m(\u001b[49m\u001b[43mL_1\u001b[49m\u001b[43m)\u001b[49m\u001b[38;5;241;43m.\u001b[39;49m\u001b[43mdiff\u001b[49m\u001b[43m(\u001b[49m\u001b[43m)\u001b[49m\u001b[38;5;241;43m.\u001b[39;49m\u001b[43mdiff\u001b[49m\u001b[43m(\u001b[49m\u001b[43m)\u001b[49m\u001b[43m \u001b[49m\u001b[43m:\u001b[49m\u001b[43m \u001b[49m\u001b[43mB1\u001b[49m\u001b[43m,\u001b[49m\u001b[43m \u001b[49m\u001b[43mpsi_1\u001b[49m\u001b[38;5;241;43m.\u001b[39;49m\u001b[43mfunc\u001b[49m\u001b[43m(\u001b[49m\u001b[43mL_0\u001b[49m\u001b[43m)\u001b[49m\u001b[43m \u001b[49m\u001b[43m:\u001b[49m\u001b[43m \u001b[49m\u001b[43mB0\u001b[49m\u001b[43m,\u001b[49m\u001b[43m \u001b[49m\u001b[43mpsi_1\u001b[49m\u001b[38;5;241;43m.\u001b[39;49m\u001b[43mfunc\u001b[49m\u001b[43m(\u001b[49m\u001b[43mL_1\u001b[49m\u001b[43m)\u001b[49m\u001b[43m \u001b[49m\u001b[43m:\u001b[49m\u001b[43m \u001b[49m\u001b[43mB1\u001b[49m\u001b[43m}\u001b[49m\u001b[43m)\u001b[49m\n",
      "File \u001b[0;32m/opt/conda/lib/python3.10/site-packages/sympy/solvers/ode/ode.py:640\u001b[0m, in \u001b[0;36mdsolve\u001b[0;34m(eq, func, hint, simplify, ics, xi, eta, x0, n, **kwargs)\u001b[0m\n\u001b[1;32m    637\u001b[0m \u001b[38;5;28;01melse\u001b[39;00m:\n\u001b[1;32m    638\u001b[0m     \u001b[38;5;66;03m# The key 'hint' stores the hint needed to be solved for.\u001b[39;00m\n\u001b[1;32m    639\u001b[0m     hint \u001b[38;5;241m=\u001b[39m hints[\u001b[38;5;124m'\u001b[39m\u001b[38;5;124mhint\u001b[39m\u001b[38;5;124m'\u001b[39m]\n\u001b[0;32m--> 640\u001b[0m     \u001b[38;5;28;01mreturn\u001b[39;00m \u001b[43m_helper_simplify\u001b[49m\u001b[43m(\u001b[49m\u001b[43meq\u001b[49m\u001b[43m,\u001b[49m\u001b[43m \u001b[49m\u001b[43mhint\u001b[49m\u001b[43m,\u001b[49m\u001b[43m \u001b[49m\u001b[43mhints\u001b[49m\u001b[43m,\u001b[49m\u001b[43m \u001b[49m\u001b[43msimplify\u001b[49m\u001b[43m,\u001b[49m\u001b[43m \u001b[49m\u001b[43mics\u001b[49m\u001b[38;5;241;43m=\u001b[39;49m\u001b[43mics\u001b[49m\u001b[43m)\u001b[49m\n",
      "File \u001b[0;32m/opt/conda/lib/python3.10/site-packages/sympy/solvers/ode/ode.py:695\u001b[0m, in \u001b[0;36m_helper_simplify\u001b[0;34m(eq, hint, match, simplify, ics, **kwargs)\u001b[0m\n\u001b[1;32m    693\u001b[0m \u001b[38;5;28;01mif\u001b[39;00m ics \u001b[38;5;129;01mand\u001b[39;00m \u001b[38;5;124m'\u001b[39m\u001b[38;5;124mpower_series\u001b[39m\u001b[38;5;124m'\u001b[39m \u001b[38;5;129;01mnot\u001b[39;00m \u001b[38;5;129;01min\u001b[39;00m hint:\n\u001b[1;32m    694\u001b[0m     \u001b[38;5;28;01mif\u001b[39;00m \u001b[38;5;28misinstance\u001b[39m(rv, (Expr, Eq)):\n\u001b[0;32m--> 695\u001b[0m         solved_constants \u001b[38;5;241m=\u001b[39m \u001b[43msolve_ics\u001b[49m\u001b[43m(\u001b[49m\u001b[43m[\u001b[49m\u001b[43mrv\u001b[49m\u001b[43m]\u001b[49m\u001b[43m,\u001b[49m\u001b[43m \u001b[49m\u001b[43m[\u001b[49m\u001b[43mr\u001b[49m\u001b[43m[\u001b[49m\u001b[38;5;124;43m'\u001b[39;49m\u001b[38;5;124;43mfunc\u001b[39;49m\u001b[38;5;124;43m'\u001b[39;49m\u001b[43m]\u001b[49m\u001b[43m]\u001b[49m\u001b[43m,\u001b[49m\u001b[43m \u001b[49m\u001b[43mcons\u001b[49m\u001b[43m(\u001b[49m\u001b[43mrv\u001b[49m\u001b[43m)\u001b[49m\u001b[43m,\u001b[49m\u001b[43m \u001b[49m\u001b[43mics\u001b[49m\u001b[43m)\u001b[49m\n\u001b[1;32m    696\u001b[0m         rv \u001b[38;5;241m=\u001b[39m rv\u001b[38;5;241m.\u001b[39msubs(solved_constants)\n\u001b[1;32m    697\u001b[0m     \u001b[38;5;28;01melse\u001b[39;00m:\n",
      "File \u001b[0;32m/opt/conda/lib/python3.10/site-packages/sympy/solvers/ode/ode.py:802\u001b[0m, in \u001b[0;36msolve_ics\u001b[0;34m(sols, funcs, constants, ics)\u001b[0m\n\u001b[1;32m    797\u001b[0m \u001b[38;5;66;03m# XXX: We can't differentiate between the solution not existing because of\u001b[39;00m\n\u001b[1;32m    798\u001b[0m \u001b[38;5;66;03m# invalid initial conditions, and not existing because solve is not smart\u001b[39;00m\n\u001b[1;32m    799\u001b[0m \u001b[38;5;66;03m# enough. If we could use solveset, this might be improvable, but for now,\u001b[39;00m\n\u001b[1;32m    800\u001b[0m \u001b[38;5;66;03m# we use NotImplementedError in this case.\u001b[39;00m\n\u001b[1;32m    801\u001b[0m \u001b[38;5;28;01mif\u001b[39;00m \u001b[38;5;129;01mnot\u001b[39;00m solved_constants:\n\u001b[0;32m--> 802\u001b[0m     \u001b[38;5;28;01mraise\u001b[39;00m \u001b[38;5;167;01mValueError\u001b[39;00m(\u001b[38;5;124m\"\u001b[39m\u001b[38;5;124mCouldn\u001b[39m\u001b[38;5;124m'\u001b[39m\u001b[38;5;124mt solve for initial conditions\u001b[39m\u001b[38;5;124m\"\u001b[39m)\n\u001b[1;32m    804\u001b[0m \u001b[38;5;28;01mif\u001b[39;00m solved_constants \u001b[38;5;241m==\u001b[39m \u001b[38;5;28;01mTrue\u001b[39;00m:\n\u001b[1;32m    805\u001b[0m     \u001b[38;5;28;01mraise\u001b[39;00m \u001b[38;5;167;01mValueError\u001b[39;00m(\u001b[38;5;124m\"\u001b[39m\u001b[38;5;124mInitial conditions did not produce any solutions for constants. Perhaps they are degenerate.\u001b[39m\u001b[38;5;124m\"\u001b[39m)\n",
      "\u001b[0;31mValueError\u001b[0m: Couldn't solve for initial conditions"
     ]
    }
   ],
   "source": [
    "diffsolve3 = sp.dsolve(schro_1, ics = {psi_1.func(L_0).diff().diff() : B0, psi_1.func(L_1).diff().diff() : B1, psi_1.func(L_0) : B0, psi_1.func(L_1) : B1})"
   ]
  },
  {
   "cell_type": "code",
   "execution_count": null,
   "id": "1a66c285-a853-4370-bf58-f49faaaa97f0",
   "metadata": {},
   "outputs": [],
   "source": [
    "diffsolve3"
   ]
  },
  {
   "cell_type": "code",
   "execution_count": null,
   "id": "6494c66c-f180-44f3-903e-f3931b35ba2d",
   "metadata": {},
   "outputs": [],
   "source": []
  },
  {
   "cell_type": "code",
   "execution_count": null,
   "id": "7f939062-85f3-41c7-b077-35b93478453d",
   "metadata": {},
   "outputs": [],
   "source": []
  }
 ],
 "metadata": {
  "kernelspec": {
   "display_name": "Python 3 (ipykernel)",
   "language": "python",
   "name": "python3"
  },
  "language_info": {
   "codemirror_mode": {
    "name": "ipython",
    "version": 3
   },
   "file_extension": ".py",
   "mimetype": "text/x-python",
   "name": "python",
   "nbconvert_exporter": "python",
   "pygments_lexer": "ipython3",
   "version": "3.10.5"
  }
 },
 "nbformat": 4,
 "nbformat_minor": 5
}
