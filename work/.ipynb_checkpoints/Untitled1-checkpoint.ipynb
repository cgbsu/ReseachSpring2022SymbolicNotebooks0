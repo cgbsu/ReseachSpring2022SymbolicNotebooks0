{
 "cells": [
  {
   "cell_type": "code",
   "execution_count": 5,
   "id": "395d3591-4fb8-4093-b10a-3f3f93c11251",
   "metadata": {},
   "outputs": [
    {
     "name": "stdout",
     "output_type": "stream",
     "text": [
      "ERROR! Session/line number was not unique in database. History logging moved to new session 3\n"
     ]
    }
   ],
   "source": [
    "# Original Equations from https://opg.optica.org/fulltext.cfm?rwjcode=oe&uri=oe-23-23-29964&id=332330\n",
    "# Translation from MathML to LaTeX thanks too https://www.imatheq.com/imatheq/com/imatheq/math-equation-editor-latex-mathml.html"
   ]
  },
  {
   "cell_type": "code",
   "execution_count": null,
   "id": "9885779e-a7b2-476c-a356-2ee7d4690b75",
   "metadata": {},
   "outputs": [],
   "source": []
  },
  {
   "cell_type": "code",
   "execution_count": 1,
   "id": "15903dfd-e9cc-420a-ae86-6283db6c7198",
   "metadata": {},
   "outputs": [],
   "source": [
    "latex_equation = {}\n",
    "latex_equation[ 0 ] = \"\\begin{array}{l}\\frac{\\mathrm{d}u}{\\mathrm{d}t}=i{\\omega }_{0}(1-\\frac{{n}_{2}c}{{n}^{2}{V}_{\\mathrm{K}}}|u(t){|}^{2}-\\frac{{\\sigma }_{r}}{n}N(t))u(t)\\\\ \\phantom{\\rule{3.2em}{0ex}}-(\\frac{{\\omega }_{0}}{2Q}+\\frac{{\\beta }_{\\TPA}{c}^{2}}{2{n}^{2}{V}_{\\mathrm{K}}}|u(t){|}^{2}+\\frac{{\\sigma }_{a}c}{2n}N(t))u(t)+\\sqrt{\\frac{{\\omega }_{0}}{{Q}_{e}}}{s}_{inc}(t)\\end{array}\""
   ]
  },
  {
   "cell_type": "code",
   "execution_count": 2,
   "id": "2648364c-fc10-490c-a8ac-39db3010ccc8",
   "metadata": {},
   "outputs": [],
   "source": [
    "latex_equation[ 1 ] = \"\\frac{\\mathrm{d}N}{\\mathrm{d}t}=-\\frac{1}{{\\tau }_{c}}N(t)+\\frac{{\\beta }_{\\TPA}}{2\\overline{h}{\\omega }_{0}}\\frac{{c}^{2}}{{n}^{2}{V}_{\\FC}^{2}}|u(t){|}^{4}\""
   ]
  },
  {
   "cell_type": "code",
   "execution_count": 3,
   "id": "0527edad-a9ef-47a9-a4c3-40e0627c372b",
   "metadata": {},
   "outputs": [],
   "source": [
    "import sympy as sp"
   ]
  },
  {
   "cell_type": "code",
   "execution_count": null,
   "id": "ae2a4844-d2c1-48ae-b254-bf053a7f8ef4",
   "metadata": {},
   "outputs": [],
   "source": []
  },
  {
   "cell_type": "code",
   "execution_count": null,
   "id": "87ee02a7-e942-4d3b-812a-fc35f55e78a0",
   "metadata": {},
   "outputs": [],
   "source": [
    "sp.sympify( latex_equation[ 0 ] )"
   ]
  },
  {
   "cell_type": "code",
   "execution_count": null,
   "id": "4f19d7aa-0181-4592-bf62-289a3240c532",
   "metadata": {},
   "outputs": [],
   "source": []
  }
 ],
 "metadata": {
  "kernelspec": {
   "display_name": "Python 3 (ipykernel)",
   "language": "python",
   "name": "python3"
  },
  "language_info": {
   "codemirror_mode": {
    "name": "ipython",
    "version": 3
   },
   "file_extension": ".py",
   "mimetype": "text/x-python",
   "name": "python",
   "nbconvert_exporter": "python",
   "pygments_lexer": "ipython3",
   "version": "3.9.10"
  }
 },
 "nbformat": 4,
 "nbformat_minor": 5
}
