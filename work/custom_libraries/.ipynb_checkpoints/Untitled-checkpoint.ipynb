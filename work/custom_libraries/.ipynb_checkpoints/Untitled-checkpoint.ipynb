{
 "cells": [
  {
   "cell_type": "code",
   "execution_count": 1,
   "id": "cd58e329-8e74-4a7e-be41-b88470410d0b",
   "metadata": {},
   "outputs": [],
   "source": [
    "import sympy as sp"
   ]
  },
  {
   "cell_type": "code",
   "execution_count": 2,
   "id": "d18fe009-825c-46c7-ac1a-eaadb8255413",
   "metadata": {},
   "outputs": [],
   "source": [
    "from stepper import *"
   ]
  },
  {
   "cell_type": "code",
   "execution_count": 3,
   "id": "b3df4e28-c9ce-447f-8af0-5ab321bb0910",
   "metadata": {},
   "outputs": [],
   "source": [
    "x = sp.Symbol( 'x' )"
   ]
  },
  {
   "cell_type": "code",
   "execution_count": 4,
   "id": "f5acde40-c583-4045-82fd-9a9c261516c4",
   "metadata": {},
   "outputs": [],
   "source": [
    "y = sp.Symbol( 'y' )"
   ]
  },
  {
   "cell_type": "code",
   "execution_count": 5,
   "id": "ebf17b4f-b6d5-4821-a988-79cfd58869f3",
   "metadata": {},
   "outputs": [],
   "source": [
    "r = sp.Symbol( 'r' )"
   ]
  },
  {
   "cell_type": "code",
   "execution_count": null,
   "id": "7ebd1129-6a54-4e38-9b64-924dbbabb944",
   "metadata": {},
   "outputs": [],
   "source": []
  },
  {
   "cell_type": "code",
   "execution_count": 6,
   "id": "a5b173c7-6d05-4d8e-ab94-eb6c1dbee845",
   "metadata": {},
   "outputs": [],
   "source": [
    "circle = Stepper( sp.Eq( x ** 2 + y ** 2, r ) )"
   ]
  },
  {
   "cell_type": "code",
   "execution_count": null,
   "id": "f680ddcc-220d-4fb5-9d0a-f8e5ce6b3ab3",
   "metadata": {},
   "outputs": [],
   "source": []
  },
  {
   "cell_type": "code",
   "execution_count": 7,
   "id": "034ecddd-4926-48a1-889f-75a9214d0d82",
   "metadata": {},
   "outputs": [
    {
     "data": {
      "text/plain": [
       "<stepper.Stepper at 0x7f2a5f574250>"
      ]
     },
     "execution_count": 7,
     "metadata": {},
     "output_type": "execute_result"
    }
   ],
   "source": [
    "circle / circle.right() * 3"
   ]
  },
  {
   "cell_type": "code",
   "execution_count": 8,
   "id": "a0d3d7cc-53ae-4dae-be66-3ca43043f8d8",
   "metadata": {},
   "outputs": [
    {
     "data": {
      "text/latex": [
       "$\\displaystyle \\frac{3 \\left(x^{2} + y^{2}\\right)}{r} = 3$"
      ],
      "text/plain": [
       "Eq(3*(x**2 + y**2)/r, 3)"
      ]
     },
     "execution_count": 8,
     "metadata": {},
     "output_type": "execute_result"
    }
   ],
   "source": [
    "circle.last_step()"
   ]
  },
  {
   "cell_type": "code",
   "execution_count": 9,
   "id": "821bd63c-9041-4575-9a53-bab33a4eea6c",
   "metadata": {},
   "outputs": [],
   "source": [
    "circle /= 5"
   ]
  },
  {
   "cell_type": "code",
   "execution_count": 10,
   "id": "3bb76e6d-3dd4-42d6-852b-3a4ae2f771b2",
   "metadata": {},
   "outputs": [
    {
     "data": {
      "text/latex": [
       "$\\displaystyle \\frac{3 \\left(x^{2} + y^{2}\\right)}{5 r} = \\frac{3}{5}$"
      ],
      "text/plain": [
       "Eq(3*(x**2 + y**2)/(5*r), 3/5)"
      ]
     },
     "execution_count": 10,
     "metadata": {},
     "output_type": "execute_result"
    }
   ],
   "source": [
    "circle.last_step()"
   ]
  },
  {
   "cell_type": "code",
   "execution_count": 11,
   "id": "ca860e2c-887e-4f40-85ba-419123fa05b6",
   "metadata": {},
   "outputs": [
    {
     "data": {
      "text/plain": [
       "<stepper.Stepper at 0x7f2a5f574250>"
      ]
     },
     "execution_count": 11,
     "metadata": {},
     "output_type": "execute_result"
    }
   ],
   "source": [
    "circle"
   ]
  },
  {
   "cell_type": "code",
   "execution_count": null,
   "id": "fbe0835d-a019-420e-8be3-72250abb436f",
   "metadata": {},
   "outputs": [],
   "source": []
  },
  {
   "cell_type": "code",
   "execution_count": 12,
   "id": "311b0e0d-ba25-437a-b151-4f87bde82540",
   "metadata": {},
   "outputs": [],
   "source": [
    "r_eq = sp.Eq( r, x / 7 )"
   ]
  },
  {
   "cell_type": "code",
   "execution_count": null,
   "id": "831d2ee7-d87e-4917-aed2-3483b9821cd6",
   "metadata": {},
   "outputs": [],
   "source": []
  },
  {
   "cell_type": "code",
   "execution_count": 13,
   "id": "e04a3587-f7a6-42d7-bec3-7391a418cda4",
   "metadata": {},
   "outputs": [
    {
     "data": {
      "text/latex": [
       "$\\displaystyle \\frac{21 \\left(x^{2} + y^{2}\\right)}{5 x} = \\frac{3}{5}$"
      ],
      "text/plain": [
       "Eq(21*(x**2 + y**2)/(5*x), 3/5)"
      ]
     },
     "execution_count": 13,
     "metadata": {},
     "output_type": "execute_result"
    }
   ],
   "source": [
    "circle.substitute_constant( r_eq )"
   ]
  },
  {
   "cell_type": "code",
   "execution_count": 14,
   "id": "5ef384c9-cf49-4104-8c08-cb70ab7ffb33",
   "metadata": {},
   "outputs": [
    {
     "data": {
      "text/latex": [
       "$\\displaystyle \\frac{21 \\left(x^{2} + y^{2}\\right)}{5 x} = \\frac{3}{5}$"
      ],
      "text/plain": [
       "Eq(21*(x**2 + y**2)/(5*x), 3/5)"
      ]
     },
     "execution_count": 14,
     "metadata": {},
     "output_type": "execute_result"
    }
   ],
   "source": [
    "circle.last_step()"
   ]
  },
  {
   "cell_type": "code",
   "execution_count": 15,
   "id": "0a3e3470-9d4c-4e86-a4d6-3234461598f3",
   "metadata": {},
   "outputs": [
    {
     "data": {
      "text/latex": [
       "$\\displaystyle \\frac{21 \\left(x^{2} + y^{2}\\right)}{5 x}$"
      ],
      "text/plain": [
       "21*(x**2 + y**2)/(5*x)"
      ]
     },
     "execution_count": 15,
     "metadata": {},
     "output_type": "execute_result"
    }
   ],
   "source": [
    "circle.last_step().lhs.separate()"
   ]
  },
  {
   "cell_type": "code",
   "execution_count": 16,
   "id": "f78d2f98-3e8f-4801-9ba7-1dc94a600554",
   "metadata": {},
   "outputs": [
    {
     "data": {
      "text/latex": [
       "$\\displaystyle Basic\\left(r + x, y\\right)$"
      ],
      "text/plain": [
       "Basic(r + x, y)"
      ]
     },
     "execution_count": 16,
     "metadata": {},
     "output_type": "execute_result"
    }
   ],
   "source": [
    "sp.Basic( x + r, y )"
   ]
  },
  {
   "cell_type": "code",
   "execution_count": null,
   "id": "5219fe22-a03e-4f7e-9c73-78d989e4d89f",
   "metadata": {},
   "outputs": [],
   "source": []
  },
  {
   "cell_type": "code",
   "execution_count": null,
   "id": "ed4382b0-4d22-4637-996c-ec7035c83c12",
   "metadata": {},
   "outputs": [],
   "source": []
  },
  {
   "cell_type": "code",
   "execution_count": 17,
   "id": "20d02447-4196-43d0-952f-2d940285038f",
   "metadata": {},
   "outputs": [],
   "source": [
    "from schrodinger import *"
   ]
  },
  {
   "cell_type": "code",
   "execution_count": 18,
   "id": "e6c05913-68a0-430e-829f-f2d8841e6616",
   "metadata": {},
   "outputs": [],
   "source": [
    "from sympy.physics.quantum.constants import hbar"
   ]
  },
  {
   "cell_type": "code",
   "execution_count": 19,
   "id": "09fc02e2-f374-4dc1-a219-49f9b9c9c560",
   "metadata": {},
   "outputs": [],
   "source": [
    "from IPython.display import display, Math"
   ]
  },
  {
   "cell_type": "code",
   "execution_count": null,
   "id": "7a6b6331-9dcb-4bd0-85f4-8133ea6fc083",
   "metadata": {},
   "outputs": [],
   "source": []
  },
  {
   "cell_type": "code",
   "execution_count": null,
   "id": "1ffd5369-4eec-4445-868f-bb56852d849d",
   "metadata": {},
   "outputs": [],
   "source": []
  },
  {
   "cell_type": "code",
   "execution_count": 20,
   "id": "36327265-5a54-4cc9-959e-a483d969e73e",
   "metadata": {},
   "outputs": [],
   "source": [
    "shcro = time_independent_schroedinger_equation()"
   ]
  },
  {
   "cell_type": "code",
   "execution_count": 21,
   "id": "7b2a3fb6-f5d9-4abf-8005-59884815e0b0",
   "metadata": {},
   "outputs": [],
   "source": [
    "test = Stepper( shcro )"
   ]
  },
  {
   "cell_type": "code",
   "execution_count": 22,
   "id": "279f2428-7286-43d0-8de7-21e574732bd0",
   "metadata": {},
   "outputs": [
    {
     "data": {
      "text/latex": [
       "$\\displaystyle V{\\left(x \\right)} \\psi{\\left(x \\right)} - \\frac{\\hbar^{2} \\frac{d^{2}}{d x^{2}} \\psi{\\left(x \\right)}}{2 \\text{m}} = E \\psi{\\left(x \\right)}$"
      ],
      "text/plain": [
       "Eq(V(x)*psi(x) - hbar**2*Derivative(psi(x), (x, 2))/(2*m), E*psi(x))"
      ]
     },
     "execution_count": 22,
     "metadata": {},
     "output_type": "execute_result"
    }
   ],
   "source": [
    "test.last_step()"
   ]
  },
  {
   "cell_type": "code",
   "execution_count": null,
   "id": "7c975020-d940-47e6-b190-650a29e3f286",
   "metadata": {},
   "outputs": [],
   "source": []
  },
  {
   "cell_type": "code",
   "execution_count": 23,
   "id": "49f61874-d048-4bb0-a58f-2ab9ed05b6e7",
   "metadata": {},
   "outputs": [],
   "source": [
    "Q = sp.Symbol( \"Q\" )"
   ]
  },
  {
   "cell_type": "code",
   "execution_count": 24,
   "id": "36346a60-f2d9-44fd-b9bc-23972630f16f",
   "metadata": {},
   "outputs": [],
   "source": [
    "q_eq = sp.Eq( Q, 2 * MASS_SYMBOL * POTENTIAL_FUNCTION( x ) * TOTAL_ENERGY_SYMBOL * hbar ** 2 )"
   ]
  },
  {
   "cell_type": "code",
   "execution_count": 25,
   "id": "6d939e40-b50a-47b5-978d-231a83b203ec",
   "metadata": {},
   "outputs": [
    {
     "data": {
      "text/latex": [
       "$\\displaystyle Q = 2 \\hbar^{2} E V{\\left(x \\right)} \\text{m}$"
      ],
      "text/plain": [
       "Eq(Q, 2*hbar**2*m*E*V(x))"
      ]
     },
     "execution_count": 25,
     "metadata": {},
     "output_type": "execute_result"
    }
   ],
   "source": [
    "q_eq"
   ]
  },
  {
   "cell_type": "code",
   "execution_count": 26,
   "id": "8a6e3d49-4b64-4a78-8c8d-e5b1576e28be",
   "metadata": {},
   "outputs": [],
   "source": [
    "factors = [ 2 * MASS_SYMBOL, POTENTIAL_FUNCTION( x ), TOTAL_ENERGY_SYMBOL, hbar ** 2 ]\n",
    "\n",
    "test2 = test.last_step().subs( { factor : Q / factor for factor in factors }  )"
   ]
  },
  {
   "cell_type": "code",
   "execution_count": 27,
   "id": "01bd40d5-3cad-422a-bf5a-72f7d087e833",
   "metadata": {},
   "outputs": [
    {
     "data": {
      "text/latex": [
       "$\\displaystyle V{\\left(x \\right)} \\psi{\\left(x \\right)} - \\frac{Q \\frac{d^{2}}{d x^{2}} \\psi{\\left(x \\right)}}{2 \\hbar^{2} \\text{m}} = \\frac{Q \\psi{\\left(x \\right)}}{E}$"
      ],
      "text/plain": [
       "Eq(V(x)*psi(x) - Q*Derivative(psi(x), (x, 2))/(2*hbar**2*m), Q*psi(x)/E)"
      ]
     },
     "execution_count": 27,
     "metadata": {},
     "output_type": "execute_result"
    }
   ],
   "source": [
    "test2"
   ]
  },
  {
   "cell_type": "code",
   "execution_count": 28,
   "id": "c4ae001a-22c5-415a-8785-5e309d634be7",
   "metadata": {},
   "outputs": [
    {
     "data": {
      "text/plain": [
       "[]"
      ]
     },
     "execution_count": 28,
     "metadata": {},
     "output_type": "execute_result"
    }
   ],
   "source": [
    "sp.solve( test2, Q * PSI_FUNCTION( x ) * sp.Derivative( PSI_FUNCTION(x), (x, 2 )) )"
   ]
  },
  {
   "cell_type": "code",
   "execution_count": 29,
   "id": "acb34694-ff2b-447f-aa7c-e3b2d222a819",
   "metadata": {},
   "outputs": [
    {
     "data": {
      "text/latex": [
       "$\\displaystyle \\frac{2 \\hbar^{2} E V{\\left(x \\right)} \\psi{\\left(x \\right)} \\text{m}}{2 \\hbar^{2} \\psi{\\left(x \\right)} \\text{m} + E \\frac{d^{2}}{d x^{2}} \\psi{\\left(x \\right)}}$"
      ],
      "text/plain": [
       "2*hbar**2*m*E*V(x)*psi(x)/(2*hbar**2*m*psi(x) + E*Derivative(psi(x), (x, 2)))"
      ]
     },
     "execution_count": 29,
     "metadata": {},
     "output_type": "execute_result"
    }
   ],
   "source": [
    "sp.solve( test2, Q )[ 0 ]"
   ]
  },
  {
   "cell_type": "code",
   "execution_count": null,
   "id": "d2d836a0-7f25-4024-9a84-e089afec9a9e",
   "metadata": {},
   "outputs": [],
   "source": []
  },
  {
   "cell_type": "code",
   "execution_count": 30,
   "id": "f9acc64c-eb89-4df0-9f66-a202bb156a1b",
   "metadata": {},
   "outputs": [],
   "source": [
    "solutions = sp.solve( test.last_step(), factors )[ 0 ]"
   ]
  },
  {
   "cell_type": "code",
   "execution_count": 31,
   "id": "24d94330-380b-4895-aa84-1182f768a7d8",
   "metadata": {},
   "outputs": [],
   "source": [
    "out = { factors[ i ] : solutions[ i ] for i in range( len( solutions ) ) }"
   ]
  },
  {
   "cell_type": "code",
   "execution_count": 32,
   "id": "233fd36b-d631-460a-948b-7442e3100a99",
   "metadata": {},
   "outputs": [
    {
     "data": {
      "text/plain": [
       "{2*m: -hbar**2*Derivative(psi(x), (x, 2))/((E - V(x))*psi(x)),\n",
       " V(x): V(x),\n",
       " E: E,\n",
       " hbar**2: hbar**2}"
      ]
     },
     "execution_count": 32,
     "metadata": {},
     "output_type": "execute_result"
    }
   ],
   "source": [
    "out"
   ]
  },
  {
   "cell_type": "code",
   "execution_count": 33,
   "id": "3ca281b2-1f3b-4cd1-a382-3453df1bc726",
   "metadata": {},
   "outputs": [
    {
     "data": {
      "text/latex": [
       "$\\displaystyle V{\\left(x \\right)} \\psi{\\left(x \\right)} - \\frac{\\hbar^{2} \\frac{d^{2}}{d x^{2}} \\psi{\\left(x \\right)}}{2 \\text{m}}$"
      ],
      "text/plain": [
       "V(x)*psi(x) - hbar**2*Derivative(psi(x), (x, 2))/(2*m)"
      ]
     },
     "execution_count": 33,
     "metadata": {},
     "output_type": "execute_result"
    }
   ],
   "source": [
    "test.last_step().lhs.collect(PSI_FUNCTION(x))"
   ]
  },
  {
   "cell_type": "code",
   "execution_count": 34,
   "id": "e3032450-480a-46b1-8713-1bb51f18ae64",
   "metadata": {},
   "outputs": [
    {
     "ename": "SympifyError",
     "evalue": "SympifyError: [-hbar**2*Derivative(psi(x), (x, 2))/((E - V(x))*psi(x))]",
     "output_type": "error",
     "traceback": [
      "\u001b[0;31m---------------------------------------------------------------------------\u001b[0m",
      "\u001b[0;31mSympifyError\u001b[0m                              Traceback (most recent call last)",
      "Input \u001b[0;32mIn [34]\u001b[0m, in \u001b[0;36m<module>\u001b[0;34m\u001b[0m\n\u001b[0;32m----> 1\u001b[0m solutions \u001b[38;5;241m=\u001b[39m [ sp\u001b[38;5;241m.\u001b[39mEq( factor, sp\u001b[38;5;241m.\u001b[39msolve( test\u001b[38;5;241m.\u001b[39mlast_step(), factor ) ) \u001b[38;5;28;01mfor\u001b[39;00m factor \u001b[38;5;129;01min\u001b[39;00m factors ]\n",
      "Input \u001b[0;32mIn [34]\u001b[0m, in \u001b[0;36m<listcomp>\u001b[0;34m(.0)\u001b[0m\n\u001b[0;32m----> 1\u001b[0m solutions \u001b[38;5;241m=\u001b[39m [ \u001b[43msp\u001b[49m\u001b[38;5;241;43m.\u001b[39;49m\u001b[43mEq\u001b[49m\u001b[43m(\u001b[49m\u001b[43m \u001b[49m\u001b[43mfactor\u001b[49m\u001b[43m,\u001b[49m\u001b[43m \u001b[49m\u001b[43msp\u001b[49m\u001b[38;5;241;43m.\u001b[39;49m\u001b[43msolve\u001b[49m\u001b[43m(\u001b[49m\u001b[43m \u001b[49m\u001b[43mtest\u001b[49m\u001b[38;5;241;43m.\u001b[39;49m\u001b[43mlast_step\u001b[49m\u001b[43m(\u001b[49m\u001b[43m)\u001b[49m\u001b[43m,\u001b[49m\u001b[43m \u001b[49m\u001b[43mfactor\u001b[49m\u001b[43m \u001b[49m\u001b[43m)\u001b[49m\u001b[43m \u001b[49m\u001b[43m)\u001b[49m \u001b[38;5;28;01mfor\u001b[39;00m factor \u001b[38;5;129;01min\u001b[39;00m factors ]\n",
      "File \u001b[0;32m/opt/conda/lib/python3.9/site-packages/sympy/core/relational.py:504\u001b[0m, in \u001b[0;36mEquality.__new__\u001b[0;34m(cls, lhs, rhs, **options)\u001b[0m\n\u001b[1;32m    502\u001b[0m evaluate \u001b[38;5;241m=\u001b[39m options\u001b[38;5;241m.\u001b[39mpop(\u001b[38;5;124m'\u001b[39m\u001b[38;5;124mevaluate\u001b[39m\u001b[38;5;124m'\u001b[39m, global_parameters\u001b[38;5;241m.\u001b[39mevaluate)\n\u001b[1;32m    503\u001b[0m lhs \u001b[38;5;241m=\u001b[39m _sympify(lhs)\n\u001b[0;32m--> 504\u001b[0m rhs \u001b[38;5;241m=\u001b[39m \u001b[43m_sympify\u001b[49m\u001b[43m(\u001b[49m\u001b[43mrhs\u001b[49m\u001b[43m)\u001b[49m\n\u001b[1;32m    505\u001b[0m \u001b[38;5;28;01mif\u001b[39;00m evaluate:\n\u001b[1;32m    506\u001b[0m     val \u001b[38;5;241m=\u001b[39m is_eq(lhs, rhs)\n",
      "File \u001b[0;32m/opt/conda/lib/python3.9/site-packages/sympy/core/sympify.py:505\u001b[0m, in \u001b[0;36m_sympify\u001b[0;34m(a)\u001b[0m\n\u001b[1;32m    479\u001b[0m \u001b[38;5;28;01mdef\u001b[39;00m \u001b[38;5;21m_sympify\u001b[39m(a):\n\u001b[1;32m    480\u001b[0m     \u001b[38;5;124;03m\"\"\"\u001b[39;00m\n\u001b[1;32m    481\u001b[0m \u001b[38;5;124;03m    Short version of sympify for internal usage for __add__ and __eq__ methods\u001b[39;00m\n\u001b[1;32m    482\u001b[0m \u001b[38;5;124;03m    where it is ok to allow some things (like Python integers and floats) in\u001b[39;00m\n\u001b[0;32m   (...)\u001b[0m\n\u001b[1;32m    503\u001b[0m \n\u001b[1;32m    504\u001b[0m \u001b[38;5;124;03m    \"\"\"\u001b[39;00m\n\u001b[0;32m--> 505\u001b[0m     \u001b[38;5;28;01mreturn\u001b[39;00m \u001b[43msympify\u001b[49m\u001b[43m(\u001b[49m\u001b[43ma\u001b[49m\u001b[43m,\u001b[49m\u001b[43m \u001b[49m\u001b[43mstrict\u001b[49m\u001b[38;5;241;43m=\u001b[39;49m\u001b[38;5;28;43;01mTrue\u001b[39;49;00m\u001b[43m)\u001b[49m\n",
      "File \u001b[0;32m/opt/conda/lib/python3.9/site-packages/sympy/core/sympify.py:433\u001b[0m, in \u001b[0;36msympify\u001b[0;34m(a, locals, convert_xor, strict, rational, evaluate)\u001b[0m\n\u001b[1;32m    430\u001b[0m                 \u001b[38;5;28;01mcontinue\u001b[39;00m\n\u001b[1;32m    432\u001b[0m \u001b[38;5;28;01mif\u001b[39;00m strict:\n\u001b[0;32m--> 433\u001b[0m     \u001b[38;5;28;01mraise\u001b[39;00m SympifyError(a)\n\u001b[1;32m    435\u001b[0m \u001b[38;5;28;01mif\u001b[39;00m iterable(a):\n\u001b[1;32m    436\u001b[0m     \u001b[38;5;28;01mtry\u001b[39;00m:\n",
      "\u001b[0;31mSympifyError\u001b[0m: SympifyError: [-hbar**2*Derivative(psi(x), (x, 2))/((E - V(x))*psi(x))]"
     ]
    }
   ],
   "source": [
    "solutions = [ sp.Eq( factor, sp.solve( test.last_step(), factor ) ) for factor in factors ]"
   ]
  },
  {
   "cell_type": "code",
   "execution_count": null,
   "id": "21e0286d-2807-497f-8d4f-a3b1cfd46a78",
   "metadata": {},
   "outputs": [],
   "source": [
    "solutions"
   ]
  },
  {
   "cell_type": "code",
   "execution_count": null,
   "id": "f6451ad3-0296-458a-b1e6-9f763029eb98",
   "metadata": {},
   "outputs": [],
   "source": [
    "solutions = list( solutions.values() )"
   ]
  },
  {
   "cell_type": "code",
   "execution_count": null,
   "id": "f348aef2-57d8-4b74-a8ba-ec6c2cdadd3e",
   "metadata": {},
   "outputs": [],
   "source": []
  },
  {
   "cell_type": "code",
   "execution_count": null,
   "id": "529d4e9a-521c-4194-a9d7-1d9a292a6694",
   "metadata": {},
   "outputs": [],
   "source": [
    "sp.solve( solutions.items(), PSI_FUNCTION( x ) )"
   ]
  },
  {
   "cell_type": "code",
   "execution_count": null,
   "id": "24b7eaa7-5f99-4f8e-b120-a2c978ca870d",
   "metadata": {},
   "outputs": [],
   "source": [
    "psi_x = PSI_FUNCTION( x )\n",
    "sp.solve( test.last_step().subs( { psi_x : Q } ), Q )"
   ]
  },
  {
   "cell_type": "code",
   "execution_count": null,
   "id": "9809bee5-1500-4b9b-8eee-c540892509f7",
   "metadata": {},
   "outputs": [],
   "source": []
  },
  {
   "cell_type": "code",
   "execution_count": null,
   "id": "6fcbb7f3-2dae-4428-89da-b3fdec93ef50",
   "metadata": {},
   "outputs": [],
   "source": []
  },
  {
   "cell_type": "code",
   "execution_count": null,
   "id": "1483ac0b-d5cd-47cc-ba9b-a4ef4aad7815",
   "metadata": {},
   "outputs": [],
   "source": [
    "px = test.last_step().atoms( sp.Function ).pop()"
   ]
  },
  {
   "cell_type": "code",
   "execution_count": null,
   "id": "331401f8-317b-4697-ba2c-c3b5fd264d3a",
   "metadata": {},
   "outputs": [],
   "source": [
    "vx = list( test.last_step().atoms( sp.Function ) )[ 1 ]"
   ]
  },
  {
   "cell_type": "code",
   "execution_count": null,
   "id": "89ef27b9-da47-4ce5-a4ee-d8f6da3ea7a4",
   "metadata": {},
   "outputs": [],
   "source": [
    "factors = [ 2 * MASS_SYMBOL, vx, TOTAL_ENERGY_SYMBOL, hbar ** 2 ]"
   ]
  },
  {
   "cell_type": "code",
   "execution_count": null,
   "id": "0ce29b53-1715-426d-836a-ec7e8ce5adcb",
   "metadata": {},
   "outputs": [],
   "source": [
    "factors = [ px, sp.Derivative( px, ( x, 2 ) ) ]"
   ]
  },
  {
   "cell_type": "code",
   "execution_count": null,
   "id": "a213d189-c67d-4368-a788-e2f7c0b0e4f5",
   "metadata": {},
   "outputs": [],
   "source": [
    "sp.solve( test.last_step(), px )[ 0 ]"
   ]
  },
  {
   "cell_type": "code",
   "execution_count": null,
   "id": "4c3a412e-a960-4582-a89e-a7d5e3eca679",
   "metadata": {},
   "outputs": [],
   "source": [
    "test.last_step().rewrite( px )"
   ]
  },
  {
   "cell_type": "code",
   "execution_count": null,
   "id": "d77a15e1-4950-488e-8bf9-2668ae719b96",
   "metadata": {},
   "outputs": [],
   "source": [
    "peq = test.last_step()\n",
    "for factor in factors: \n",
    "    solution = sp.solve( peq, factor )\n",
    "    sp.pprint(solution)\n",
    "    #if type( solution ) is list: \n",
    "    #    solution = solution[ 0 ]\n",
    "    #peq = sp.Eq( Q, solution )"
   ]
  },
  {
   "cell_type": "code",
   "execution_count": null,
   "id": "5e092dda-3530-4ff5-a56a-767c4a1f4fe6",
   "metadata": {},
   "outputs": [],
   "source": [
    "test.last_step().lhs.as_ordered_terms()"
   ]
  },
  {
   "cell_type": "code",
   "execution_count": null,
   "id": "ba063bf2-6150-4ebb-800f-09d3a7c97d2c",
   "metadata": {},
   "outputs": [],
   "source": [
    "sp.Integral( 3* x + x ** 2, x ).args[ 0 ].as_ordered_terms()"
   ]
  },
  {
   "cell_type": "code",
   "execution_count": null,
   "id": "16976edc-9e58-4bdc-8956-1cd25c4ab1af",
   "metadata": {},
   "outputs": [],
   "source": [
    "sp.Integral( 3* x + x ** 2, x ).args[ 0 ].term( x )"
   ]
  },
  {
   "cell_type": "code",
   "execution_count": null,
   "id": "a9080b2c-f1c3-4f76-b5f5-21249ddeb848",
   "metadata": {},
   "outputs": [],
   "source": []
  },
  {
   "cell_type": "code",
   "execution_count": null,
   "id": "0ad93030-6887-481b-9ad3-ff336f03d91c",
   "metadata": {},
   "outputs": [],
   "source": [
    "a, b = sp.symbols( \"a b\" )"
   ]
  },
  {
   "cell_type": "code",
   "execution_count": null,
   "id": "74727bc5-32a9-496f-a7d7-1cf70b392469",
   "metadata": {},
   "outputs": [],
   "source": [
    "(a > b)"
   ]
  },
  {
   "cell_type": "code",
   "execution_count": null,
   "id": "4437397d-d02a-48ad-8c01-e2e7690b397c",
   "metadata": {},
   "outputs": [],
   "source": [
    "dir( sp.Q )"
   ]
  },
  {
   "cell_type": "code",
   "execution_count": null,
   "id": "63c6e779-7966-4c75-9f17-e3afe185ee11",
   "metadata": {},
   "outputs": [],
   "source": [
    "sp.Q.gt( a, b ) & sp.Q.gt( b, 0 )"
   ]
  },
  {
   "cell_type": "code",
   "execution_count": null,
   "id": "1bd93cfd-25e9-4b2c-98d3-27fc68845319",
   "metadata": {},
   "outputs": [],
   "source": [
    "len( { 'a' : 'b', 1 : 'c' } )"
   ]
  },
  {
   "cell_type": "code",
   "execution_count": null,
   "id": "9629684d-28b4-4ab7-acc9-7521115815c0",
   "metadata": {},
   "outputs": [],
   "source": []
  },
  {
   "cell_type": "code",
   "execution_count": null,
   "id": "00075192-9dbf-4bc0-9047-9b6cd70b8cce",
   "metadata": {},
   "outputs": [],
   "source": []
  },
  {
   "cell_type": "code",
   "execution_count": 39,
   "id": "0c686c67-a773-409c-9f84-27bab96bca4a",
   "metadata": {},
   "outputs": [],
   "source": [
    "k_0 = test.left_to_constant()"
   ]
  },
  {
   "cell_type": "code",
   "execution_count": 40,
   "id": "b522a6dc-8667-4029-9e3b-c8a35573a817",
   "metadata": {},
   "outputs": [
    {
     "data": {
      "text/plain": [
       "[K_0]"
      ]
     },
     "execution_count": 40,
     "metadata": {},
     "output_type": "execute_result"
    }
   ],
   "source": [
    "test.constant_names()"
   ]
  },
  {
   "cell_type": "code",
   "execution_count": 41,
   "id": "f27d3be7-fd01-4d0a-a38a-db49ebc3c7f7",
   "metadata": {},
   "outputs": [
    {
     "data": {
      "text/latex": [
       "$\\displaystyle K_{0} = V{\\left(x \\right)} \\psi{\\left(x \\right)} - \\frac{\\hbar^{2} \\frac{d^{2}}{d x^{2}} \\psi{\\left(x \\right)}}{2 \\text{m}}$"
      ],
      "text/plain": [
       "Eq(K_0, V(x)*psi(x) - hbar**2*Derivative(psi(x), (x, 2))/(2*m))"
      ]
     },
     "execution_count": 41,
     "metadata": {},
     "output_type": "execute_result"
    }
   ],
   "source": [
    "k_0.last_step()"
   ]
  },
  {
   "cell_type": "code",
   "execution_count": 42,
   "id": "83581365-09e5-4f7a-91f3-d9b0824a1a22",
   "metadata": {},
   "outputs": [
    {
     "data": {
      "text/latex": [
       "$\\displaystyle V{\\left(x \\right)} \\psi{\\left(x \\right)} - \\frac{\\hbar^{2} \\frac{d^{2}}{d x^{2}} \\psi{\\left(x \\right)}}{2 \\text{m}} = E \\psi{\\left(x \\right)}$"
      ],
      "text/plain": [
       "Eq(V(x)*psi(x) - hbar**2*Derivative(psi(x), (x, 2))/(2*m), E*psi(x))"
      ]
     },
     "execution_count": 42,
     "metadata": {},
     "output_type": "execute_result"
    }
   ],
   "source": [
    "test.check_point()"
   ]
  },
  {
   "cell_type": "code",
   "execution_count": 43,
   "id": "20e6dbd2-2f9e-4bd1-a075-ba9274b9f4aa",
   "metadata": {},
   "outputs": [],
   "source": [
    "c_0 = test.check_point_markers()[ 0 ]"
   ]
  },
  {
   "cell_type": "code",
   "execution_count": 44,
   "id": "97de48a0-edd5-44e9-a62d-868442cd7af9",
   "metadata": {},
   "outputs": [
    {
     "data": {
      "text/latex": [
       "$\\displaystyle V{\\left(x \\right)} \\psi{\\left(x \\right)} - \\frac{\\hbar^{2} \\frac{d^{2}}{d x^{2}} \\psi{\\left(x \\right)}}{2 \\text{m}} = E \\psi{\\left(x \\right)}$"
      ],
      "text/plain": [
       "Eq(V(x)*psi(x) - hbar**2*Derivative(psi(x), (x, 2))/(2*m), E*psi(x))"
      ]
     },
     "execution_count": 44,
     "metadata": {},
     "output_type": "execute_result"
    }
   ],
   "source": [
    "test.check_points[ c_0 ]"
   ]
  },
  {
   "cell_type": "code",
   "execution_count": 45,
   "id": "8bbafebc-580c-47ae-9726-01e9d94190e8",
   "metadata": {},
   "outputs": [
    {
     "ename": "TypeError",
     "evalue": "cannot determine truth value of Relational",
     "output_type": "error",
     "traceback": [
      "\u001b[0;31m---------------------------------------------------------------------------\u001b[0m",
      "\u001b[0;31mTypeError\u001b[0m                                 Traceback (most recent call last)",
      "Input \u001b[0;32mIn [45]\u001b[0m, in \u001b[0;36m<module>\u001b[0;34m\u001b[0m\n\u001b[0;32m----> 1\u001b[0m s \u001b[38;5;241m=\u001b[39m \u001b[43mStairWell\u001b[49m\u001b[43m(\u001b[49m\u001b[43m \u001b[49m\u001b[43mx\u001b[49m\u001b[43m \u001b[49m\u001b[43m)\u001b[49m\n",
      "File \u001b[0;32m/opt/conda/lib/python3.9/site-packages/sympy/core/cache.py:72\u001b[0m, in \u001b[0;36m__cacheit.<locals>.func_wrapper.<locals>.wrapper\u001b[0;34m(*args, **kwargs)\u001b[0m\n\u001b[1;32m     69\u001b[0m \u001b[38;5;129m@wraps\u001b[39m(func)\n\u001b[1;32m     70\u001b[0m \u001b[38;5;28;01mdef\u001b[39;00m \u001b[38;5;21mwrapper\u001b[39m(\u001b[38;5;241m*\u001b[39margs, \u001b[38;5;241m*\u001b[39m\u001b[38;5;241m*\u001b[39mkwargs):\n\u001b[1;32m     71\u001b[0m     \u001b[38;5;28;01mtry\u001b[39;00m:\n\u001b[0;32m---> 72\u001b[0m         retval \u001b[38;5;241m=\u001b[39m \u001b[43mcfunc\u001b[49m\u001b[43m(\u001b[49m\u001b[38;5;241;43m*\u001b[39;49m\u001b[43margs\u001b[49m\u001b[43m,\u001b[49m\u001b[43m \u001b[49m\u001b[38;5;241;43m*\u001b[39;49m\u001b[38;5;241;43m*\u001b[39;49m\u001b[43mkwargs\u001b[49m\u001b[43m)\u001b[49m\n\u001b[1;32m     73\u001b[0m     \u001b[38;5;28;01mexcept\u001b[39;00m \u001b[38;5;167;01mTypeError\u001b[39;00m \u001b[38;5;28;01mas\u001b[39;00m e:\n\u001b[1;32m     74\u001b[0m         \u001b[38;5;28;01mif\u001b[39;00m \u001b[38;5;129;01mnot\u001b[39;00m e\u001b[38;5;241m.\u001b[39margs \u001b[38;5;129;01mor\u001b[39;00m \u001b[38;5;129;01mnot\u001b[39;00m e\u001b[38;5;241m.\u001b[39margs[\u001b[38;5;241m0\u001b[39m]\u001b[38;5;241m.\u001b[39mstartswith(\u001b[38;5;124m'\u001b[39m\u001b[38;5;124munhashable type:\u001b[39m\u001b[38;5;124m'\u001b[39m):\n",
      "File \u001b[0;32m/opt/conda/lib/python3.9/site-packages/sympy/core/function.py:473\u001b[0m, in \u001b[0;36mFunction.__new__\u001b[0;34m(cls, *args, **options)\u001b[0m\n\u001b[1;32m    465\u001b[0m     \u001b[38;5;28;01mraise\u001b[39;00m \u001b[38;5;167;01mTypeError\u001b[39;00m(temp \u001b[38;5;241m%\u001b[39m {\n\u001b[1;32m    466\u001b[0m         \u001b[38;5;124m'\u001b[39m\u001b[38;5;124mname\u001b[39m\u001b[38;5;124m'\u001b[39m: \u001b[38;5;28mcls\u001b[39m,\n\u001b[1;32m    467\u001b[0m         \u001b[38;5;124m'\u001b[39m\u001b[38;5;124mqual\u001b[39m\u001b[38;5;124m'\u001b[39m: \u001b[38;5;124m'\u001b[39m\u001b[38;5;124mexactly\u001b[39m\u001b[38;5;124m'\u001b[39m \u001b[38;5;28;01mif\u001b[39;00m \u001b[38;5;28mlen\u001b[39m(\u001b[38;5;28mcls\u001b[39m\u001b[38;5;241m.\u001b[39mnargs) \u001b[38;5;241m==\u001b[39m \u001b[38;5;241m1\u001b[39m \u001b[38;5;28;01melse\u001b[39;00m \u001b[38;5;124m'\u001b[39m\u001b[38;5;124mat least\u001b[39m\u001b[38;5;124m'\u001b[39m,\n\u001b[1;32m    468\u001b[0m         \u001b[38;5;124m'\u001b[39m\u001b[38;5;124margs\u001b[39m\u001b[38;5;124m'\u001b[39m: \u001b[38;5;28mmin\u001b[39m(\u001b[38;5;28mcls\u001b[39m\u001b[38;5;241m.\u001b[39mnargs),\n\u001b[1;32m    469\u001b[0m         \u001b[38;5;124m'\u001b[39m\u001b[38;5;124mplural\u001b[39m\u001b[38;5;124m'\u001b[39m: \u001b[38;5;124m'\u001b[39m\u001b[38;5;124ms\u001b[39m\u001b[38;5;124m'\u001b[39m\u001b[38;5;241m*\u001b[39m(\u001b[38;5;28mmin\u001b[39m(\u001b[38;5;28mcls\u001b[39m\u001b[38;5;241m.\u001b[39mnargs) \u001b[38;5;241m!=\u001b[39m \u001b[38;5;241m1\u001b[39m),\n\u001b[1;32m    470\u001b[0m         \u001b[38;5;124m'\u001b[39m\u001b[38;5;124mgiven\u001b[39m\u001b[38;5;124m'\u001b[39m: n})\n\u001b[1;32m    472\u001b[0m evaluate \u001b[38;5;241m=\u001b[39m options\u001b[38;5;241m.\u001b[39mget(\u001b[38;5;124m'\u001b[39m\u001b[38;5;124mevaluate\u001b[39m\u001b[38;5;124m'\u001b[39m, global_parameters\u001b[38;5;241m.\u001b[39mevaluate)\n\u001b[0;32m--> 473\u001b[0m result \u001b[38;5;241m=\u001b[39m \u001b[38;5;28;43msuper\u001b[39;49m\u001b[43m(\u001b[49m\u001b[43m)\u001b[49m\u001b[38;5;241;43m.\u001b[39;49m\u001b[38;5;21;43m__new__\u001b[39;49m\u001b[43m(\u001b[49m\u001b[38;5;28;43mcls\u001b[39;49m\u001b[43m,\u001b[49m\u001b[43m \u001b[49m\u001b[38;5;241;43m*\u001b[39;49m\u001b[43margs\u001b[49m\u001b[43m,\u001b[49m\u001b[43m \u001b[49m\u001b[38;5;241;43m*\u001b[39;49m\u001b[38;5;241;43m*\u001b[39;49m\u001b[43moptions\u001b[49m\u001b[43m)\u001b[49m\n\u001b[1;32m    474\u001b[0m \u001b[38;5;28;01mif\u001b[39;00m evaluate \u001b[38;5;129;01mand\u001b[39;00m \u001b[38;5;28misinstance\u001b[39m(result, \u001b[38;5;28mcls\u001b[39m) \u001b[38;5;129;01mand\u001b[39;00m result\u001b[38;5;241m.\u001b[39margs:\n\u001b[1;32m    475\u001b[0m     pr2 \u001b[38;5;241m=\u001b[39m \u001b[38;5;28mmin\u001b[39m(\u001b[38;5;28mcls\u001b[39m\u001b[38;5;241m.\u001b[39m_should_evalf(a) \u001b[38;5;28;01mfor\u001b[39;00m a \u001b[38;5;129;01min\u001b[39;00m result\u001b[38;5;241m.\u001b[39margs)\n",
      "File \u001b[0;32m/opt/conda/lib/python3.9/site-packages/sympy/core/cache.py:72\u001b[0m, in \u001b[0;36m__cacheit.<locals>.func_wrapper.<locals>.wrapper\u001b[0;34m(*args, **kwargs)\u001b[0m\n\u001b[1;32m     69\u001b[0m \u001b[38;5;129m@wraps\u001b[39m(func)\n\u001b[1;32m     70\u001b[0m \u001b[38;5;28;01mdef\u001b[39;00m \u001b[38;5;21mwrapper\u001b[39m(\u001b[38;5;241m*\u001b[39margs, \u001b[38;5;241m*\u001b[39m\u001b[38;5;241m*\u001b[39mkwargs):\n\u001b[1;32m     71\u001b[0m     \u001b[38;5;28;01mtry\u001b[39;00m:\n\u001b[0;32m---> 72\u001b[0m         retval \u001b[38;5;241m=\u001b[39m \u001b[43mcfunc\u001b[49m\u001b[43m(\u001b[49m\u001b[38;5;241;43m*\u001b[39;49m\u001b[43margs\u001b[49m\u001b[43m,\u001b[49m\u001b[43m \u001b[49m\u001b[38;5;241;43m*\u001b[39;49m\u001b[38;5;241;43m*\u001b[39;49m\u001b[43mkwargs\u001b[49m\u001b[43m)\u001b[49m\n\u001b[1;32m     73\u001b[0m     \u001b[38;5;28;01mexcept\u001b[39;00m \u001b[38;5;167;01mTypeError\u001b[39;00m \u001b[38;5;28;01mas\u001b[39;00m e:\n\u001b[1;32m     74\u001b[0m         \u001b[38;5;28;01mif\u001b[39;00m \u001b[38;5;129;01mnot\u001b[39;00m e\u001b[38;5;241m.\u001b[39margs \u001b[38;5;129;01mor\u001b[39;00m \u001b[38;5;129;01mnot\u001b[39;00m e\u001b[38;5;241m.\u001b[39margs[\u001b[38;5;241m0\u001b[39m]\u001b[38;5;241m.\u001b[39mstartswith(\u001b[38;5;124m'\u001b[39m\u001b[38;5;124munhashable type:\u001b[39m\u001b[38;5;124m'\u001b[39m):\n",
      "File \u001b[0;32m/opt/conda/lib/python3.9/site-packages/sympy/core/function.py:285\u001b[0m, in \u001b[0;36mApplication.__new__\u001b[0;34m(cls, *args, **options)\u001b[0m\n\u001b[1;32m    282\u001b[0m     \u001b[38;5;28;01mraise\u001b[39;00m \u001b[38;5;167;01mValueError\u001b[39;00m(\u001b[38;5;124m\"\u001b[39m\u001b[38;5;124mUnknown options: \u001b[39m\u001b[38;5;132;01m%s\u001b[39;00m\u001b[38;5;124m\"\u001b[39m \u001b[38;5;241m%\u001b[39m options)\n\u001b[1;32m    284\u001b[0m \u001b[38;5;28;01mif\u001b[39;00m evaluate:\n\u001b[0;32m--> 285\u001b[0m     evaluated \u001b[38;5;241m=\u001b[39m \u001b[38;5;28;43mcls\u001b[39;49m\u001b[38;5;241;43m.\u001b[39;49m\u001b[43meval\u001b[49m\u001b[43m(\u001b[49m\u001b[38;5;241;43m*\u001b[39;49m\u001b[43margs\u001b[49m\u001b[43m)\u001b[49m\n\u001b[1;32m    286\u001b[0m     \u001b[38;5;28;01mif\u001b[39;00m evaluated \u001b[38;5;129;01mis\u001b[39;00m \u001b[38;5;129;01mnot\u001b[39;00m \u001b[38;5;28;01mNone\u001b[39;00m:\n\u001b[1;32m    287\u001b[0m         \u001b[38;5;28;01mreturn\u001b[39;00m evaluated\n",
      "File \u001b[0;32m~/work/custom_libraries/schrodinger.py:85\u001b[0m, in \u001b[0;36mStairWell.eval\u001b[0;34m(cls, position, start, potentials, lengths)\u001b[0m\n\u001b[1;32m     75\u001b[0m \u001b[38;5;129m@classmethod\u001b[39m\n\u001b[1;32m     76\u001b[0m \u001b[38;5;28;01mdef\u001b[39;00m \u001b[38;5;21meval\u001b[39m( \n\u001b[1;32m     77\u001b[0m             \u001b[38;5;28mcls\u001b[39m, \n\u001b[0;32m   (...)\u001b[0m\n\u001b[1;32m     82\u001b[0m             \u001b[38;5;66;03m#assumptions = DEFAULT_ASSUMPTIONS \u001b[39;00m\n\u001b[1;32m     83\u001b[0m         ): \n\u001b[1;32m     84\u001b[0m     position \u001b[38;5;241m=\u001b[39m position \u001b[38;5;241m+\u001b[39m start\n\u001b[0;32m---> 85\u001b[0m     \u001b[38;5;28;01mif\u001b[39;00m position \u001b[38;5;241m<\u001b[39m lengths[ \u001b[38;5;241m0\u001b[39m ]: \n\u001b[1;32m     86\u001b[0m         \u001b[38;5;28;01mreturn\u001b[39;00m potentials[ \u001b[38;5;241m0\u001b[39m ]\n\u001b[1;32m     87\u001b[0m     \u001b[38;5;28;01melif\u001b[39;00m position \u001b[38;5;241m<\u001b[39m ( lengths[ \u001b[38;5;241m0\u001b[39m ] \u001b[38;5;241m+\u001b[39m lengths[ \u001b[38;5;241m1\u001b[39m ] ): \n",
      "File \u001b[0;32m/opt/conda/lib/python3.9/site-packages/sympy/core/relational.py:398\u001b[0m, in \u001b[0;36mRelational.__bool__\u001b[0;34m(self)\u001b[0m\n\u001b[1;32m    397\u001b[0m \u001b[38;5;28;01mdef\u001b[39;00m \u001b[38;5;21m__bool__\u001b[39m(\u001b[38;5;28mself\u001b[39m):\n\u001b[0;32m--> 398\u001b[0m     \u001b[38;5;28;01mraise\u001b[39;00m \u001b[38;5;167;01mTypeError\u001b[39;00m(\u001b[38;5;124m\"\u001b[39m\u001b[38;5;124mcannot determine truth value of Relational\u001b[39m\u001b[38;5;124m\"\u001b[39m)\n",
      "\u001b[0;31mTypeError\u001b[0m: cannot determine truth value of Relational"
     ]
    }
   ],
   "source": [
    "s = StairWell( x )"
   ]
  },
  {
   "cell_type": "code",
   "execution_count": null,
   "id": "1f6c65e5-b61e-4724-b4ff-9d0380a20b68",
   "metadata": {},
   "outputs": [],
   "source": []
  },
  {
   "cell_type": "code",
   "execution_count": null,
   "id": "8e0578b7-8e0a-44ae-be34-fdf42dc82750",
   "metadata": {},
   "outputs": [],
   "source": []
  },
  {
   "cell_type": "code",
   "execution_count": null,
   "id": "6f6ac9f4-9f66-4539-a1de-985c20bd0373",
   "metadata": {},
   "outputs": [],
   "source": []
  }
 ],
 "metadata": {
  "kernelspec": {
   "display_name": "Python 3 (ipykernel)",
   "language": "python",
   "name": "python3"
  },
  "language_info": {
   "codemirror_mode": {
    "name": "ipython",
    "version": 3
   },
   "file_extension": ".py",
   "mimetype": "text/x-python",
   "name": "python",
   "nbconvert_exporter": "python",
   "pygments_lexer": "ipython3",
   "version": "3.9.10"
  }
 },
 "nbformat": 4,
 "nbformat_minor": 5
}
