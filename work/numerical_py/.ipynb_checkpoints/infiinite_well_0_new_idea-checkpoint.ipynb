{
 "cells": [
  {
   "cell_type": "code",
   "execution_count": 7,
   "id": "482a4a4b-5858-4754-b807-190c2d1865ea",
   "metadata": {},
   "outputs": [],
   "source": [
    "import numpy as np"
   ]
  },
  {
   "cell_type": "code",
   "execution_count": 8,
   "id": "8c7d00e7-cb17-4a50-a9a3-e178ba98500f",
   "metadata": {},
   "outputs": [],
   "source": [
    "from matplotlib import pyplot as plt"
   ]
  },
  {
   "cell_type": "code",
   "execution_count": null,
   "id": "10a1c3a0-ac4b-4b49-b34d-7f8ba9cd386e",
   "metadata": {},
   "outputs": [],
   "source": []
  },
  {
   "cell_type": "code",
   "execution_count": 9,
   "id": "f24cd55d-093c-49b6-86b1-373e3ad482f9",
   "metadata": {},
   "outputs": [],
   "source": [
    "samples = 1000"
   ]
  },
  {
   "cell_type": "code",
   "execution_count": null,
   "id": "3504bb51-0648-4b45-845a-2d10af971798",
   "metadata": {},
   "outputs": [],
   "source": []
  },
  {
   "cell_type": "code",
   "execution_count": 10,
   "id": "afec43b9-b216-418b-953a-ba31788c2841",
   "metadata": {},
   "outputs": [],
   "source": [
    "x = np.arange( samples )"
   ]
  },
  {
   "cell_type": "code",
   "execution_count": 11,
   "id": "0b289e34-98d0-4669-a4aa-0af7323f0b1b",
   "metadata": {},
   "outputs": [],
   "source": [
    "def make_k( potential, total_energy, mass, hbar ):\n",
    "    return 2.0 * mass * ( total_energy - potential ) / hbar"
   ]
  },
  {
   "cell_type": "code",
   "execution_count": null,
   "id": "3a88c08f-4fb1-4c69-bbca-fbf3201b2f42",
   "metadata": {},
   "outputs": [],
   "source": []
  },
  {
   "cell_type": "code",
   "execution_count": 12,
   "id": "4a2ab9e6-c59f-4040-98b7-f2473f154a6c",
   "metadata": {},
   "outputs": [],
   "source": [
    "k = make_k( 0.0, 1.0, 1.0, 1.0 )"
   ]
  },
  {
   "cell_type": "code",
   "execution_count": null,
   "id": "8caea247-9674-4303-960e-ec032196388e",
   "metadata": {},
   "outputs": [],
   "source": []
  },
  {
   "cell_type": "code",
   "execution_count": 13,
   "id": "a0af8a7d-5283-4497-8eab-217f95571cf0",
   "metadata": {},
   "outputs": [],
   "source": [
    "delta_x = 0.01"
   ]
  },
  {
   "cell_type": "code",
   "execution_count": null,
   "id": "2383c62e-6e2f-4723-8d00-44107ebb5949",
   "metadata": {},
   "outputs": [],
   "source": []
  },
  {
   "cell_type": "code",
   "execution_count": 14,
   "id": "489f12a0-365e-47af-84cf-f3e8cc7f429c",
   "metadata": {},
   "outputs": [],
   "source": [
    "DEFAULT_NUMBER_OF_SAMPLES = 100"
   ]
  },
  {
   "cell_type": "code",
   "execution_count": null,
   "id": "c382c5ad-172e-4de0-9e74-0bf3ac2d3d04",
   "metadata": {},
   "outputs": [],
   "source": []
  },
  {
   "cell_type": "code",
   "execution_count": 134,
   "id": "a01f0a72-0cce-4e1e-8d47-a91b11ee5cb1",
   "metadata": {},
   "outputs": [],
   "source": [
    "def psi_at( \n",
    "            position, \n",
    "            region_length, \n",
    "            remaining_probability, \n",
    "            total_probability \n",
    "            #energy_space # k^2 -  \n",
    "        ): \n",
    "    #( 1.0 / energy_space ) * \n",
    "    return ( ( region_length / remaining_probability ) * ( position / region_length ) ) ** 2\n"
   ]
  },
  {
   "cell_type": "code",
   "execution_count": 135,
   "id": "1ac0620a-db07-47c9-b68b-1e836d37c987",
   "metadata": {},
   "outputs": [],
   "source": [
    "def simulate( region_start, region_end, delta_x, total_probability = 1.0, start_psi = 0, end_psi = 0 ): \n",
    "    region_length = region_end - region_start\n",
    "    x_axis = np.arange( 0, region_length, delta_x )\n",
    "    remaining_probability = total_probability\n",
    "    data = []\n",
    "    for x in x_axis: \n",
    "        data.append( psi_at( x, region_length, remaining_probability, total_probability ) )\n",
    "        remaining_probability -= data[ -1 ]\n",
    "    return np.array( data )"
   ]
  },
  {
   "cell_type": "code",
   "execution_count": null,
   "id": "8451f460-4420-4251-b537-95ef235fbed1",
   "metadata": {},
   "outputs": [],
   "source": []
  },
  {
   "cell_type": "code",
   "execution_count": null,
   "id": "a96e8c4b-8f64-49c1-9a7a-6428498bf7d8",
   "metadata": {},
   "outputs": [],
   "source": []
  },
  {
   "cell_type": "code",
   "execution_count": 136,
   "id": "d90d38c5-5afa-40c8-a548-1b301902a812",
   "metadata": {},
   "outputs": [],
   "source": [
    "delta = lambda samples : 1.0 / samples"
   ]
  },
  {
   "cell_type": "code",
   "execution_count": 137,
   "id": "65556114-d9b4-4e7a-afbb-34d0a7bd7cd3",
   "metadata": {},
   "outputs": [],
   "source": [
    "samples = 1e4"
   ]
  },
  {
   "cell_type": "code",
   "execution_count": 138,
   "id": "d069c277-d2f7-47de-8875-76a689849ec4",
   "metadata": {},
   "outputs": [],
   "source": [
    "delta_x = delta( samples )"
   ]
  },
  {
   "cell_type": "code",
   "execution_count": 139,
   "id": "b8c888a5-1ea5-4fec-bdb2-99f0c5c965e2",
   "metadata": {},
   "outputs": [],
   "source": [
    "psi = simulate( 0, delta_x * samples, delta_x )"
   ]
  },
  {
   "cell_type": "code",
   "execution_count": 140,
   "id": "d5c64646-1d40-49a7-9aac-29938f30d5c5",
   "metadata": {},
   "outputs": [
    {
     "data": {
      "text/plain": [
       "[<matplotlib.lines.Line2D at 0x7fa499248880>]"
      ]
     },
     "execution_count": 140,
     "metadata": {},
     "output_type": "execute_result"
    },
    {
     "data": {
      "image/png": "[encoded data removed]",
      "text/plain": [
       "<Figure size 432x288 with 1 Axes>"
      ]
     },
     "metadata": {
      "needs_background": "light"
     },
     "output_type": "display_data"
    }
   ],
   "source": [
    "#plt.plot( np.arange( 0, DEFAULT_NUMBER_OF_SAMPLES, delta_x ) * delta_x, psi )\n",
    "plt.plot( psi, np.arange( 0, 1.0, delta_x ) )"
   ]
  },
  {
   "cell_type": "code",
   "execution_count": 141,
   "id": "2f4f584e-468f-49b0-9cca-b88020fa132b",
   "metadata": {},
   "outputs": [
    {
     "data": {
      "text/plain": [
       "1e-08"
      ]
     },
     "execution_count": 141,
     "metadata": {},
     "output_type": "execute_result"
    }
   ],
   "source": [
    "psi[ 1 ]"
   ]
  },
  {
   "cell_type": "code",
   "execution_count": null,
   "id": "63ccab85-1869-4f81-868b-238f906de51b",
   "metadata": {},
   "outputs": [],
   "source": []
  },
  {
   "cell_type": "code",
   "execution_count": 131,
   "id": "4dd6fae8-65e5-468d-b039-c6243e975fd1",
   "metadata": {},
   "outputs": [
    {
     "data": {
      "text/plain": [
       "1.0"
      ]
     },
     "execution_count": 131,
     "metadata": {},
     "output_type": "execute_result"
    }
   ],
   "source": [
    "np.exp( 0 )"
   ]
  },
  {
   "cell_type": "code",
   "execution_count": null,
   "id": "e2057a96-b7a4-4416-946a-848d866edf2b",
   "metadata": {},
   "outputs": [],
   "source": []
  }
 ],
 "metadata": {
  "kernelspec": {
   "display_name": "Python 3 (ipykernel)",
   "language": "python",
   "name": "python3"
  },
  "language_info": {
   "codemirror_mode": {
    "name": "ipython",
    "version": 3
   },
   "file_extension": ".py",
   "mimetype": "text/x-python",
   "name": "python",
   "nbconvert_exporter": "python",
   "pygments_lexer": "ipython3",
   "version": "3.9.10"
  }
 },
 "nbformat": 4,
 "nbformat_minor": 5
}
