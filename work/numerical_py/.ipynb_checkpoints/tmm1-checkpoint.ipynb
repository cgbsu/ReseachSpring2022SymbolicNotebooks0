{
 "cells": [
  {
   "cell_type": "code",
   "execution_count": 1,
   "id": "aae31641-3c09-4b67-b396-a33c0007db00",
   "metadata": {},
   "outputs": [],
   "source": [
    "from new_attempt.stateless import *"
   ]
  },
  {
   "cell_type": "code",
   "execution_count": null,
   "id": "106bbedf-4db0-41d9-8c48-5b42f5b8f978",
   "metadata": {},
   "outputs": [],
   "source": []
  },
  {
   "cell_type": "code",
   "execution_count": 2,
   "id": "a62a300f-865a-49b3-b604-de4fb2152fde",
   "metadata": {},
   "outputs": [],
   "source": [
    "regionSymbols = [RegionSymbols(ii) for ii in range(3)]"
   ]
  },
  {
   "cell_type": "code",
   "execution_count": null,
   "id": "96030439-ae7c-4c96-b7ba-446a8aaffbeb",
   "metadata": {},
   "outputs": [],
   "source": []
  },
  {
   "cell_type": "code",
   "execution_count": 3,
   "id": "968b35d4-1d33-49d0-8fc4-933acd5f470b",
   "metadata": {},
   "outputs": [],
   "source": [
    "t01 = generalTransfer(regionSymbols[1], regionSymbols[0])"
   ]
  },
  {
   "cell_type": "code",
   "execution_count": null,
   "id": "c5e6faa0-66c0-4142-98bc-163d9a54ced6",
   "metadata": {},
   "outputs": [],
   "source": []
  },
  {
   "cell_type": "code",
   "execution_count": 4,
   "id": "a7f76762-fea2-4b64-a25c-42e407fe88f7",
   "metadata": {
    "tags": []
   },
   "outputs": [
    {
     "data": {
      "text/plain": [
       "{'from': <new_attempt.stateless.RegionSymbols at 0x7fdc710ef7c0>,\n",
       " 'to': <new_attempt.stateless.RegionSymbols at 0x7fdd1ded4c40>,\n",
       " 'scatteringMatrix': Matrix([\n",
       " [sqrt(conjugate(R_1_0)), sqrt(T_1_0)],\n",
       " [sqrt(conjugate(T_1_0)), sqrt(R_1_0)]]),\n",
       " 'transferMatrix': Matrix([\n",
       " [-sqrt(R_1_0)*sqrt(conjugate(R_1_0))/sqrt(conjugate(T_1_0)) + sqrt(T_1_0), sqrt(R_1_0)/sqrt(conjugate(T_1_0))],\n",
       " [                          -sqrt(conjugate(R_1_0))/sqrt(conjugate(T_1_0)),           1/sqrt(conjugate(T_1_0))]]),\n",
       " 'transfer': Eq(Matrix([\n",
       " [\\psi_{{1}_t}(L_0)],\n",
       " [\\psi_{{1}_r}(L_0)]]), Matrix([\n",
       " [sqrt(R_1_0)*\\psi_{{0}_r}(0)/sqrt(conjugate(T_1_0)) + (-sqrt(R_1_0)*sqrt(conjugate(R_1_0))/sqrt(conjugate(T_1_0)) + sqrt(T_1_0))*\\psi_{{0}_t}(0)],\n",
       " [                                         \\psi_{{0}_r}(0)/sqrt(conjugate(T_1_0)) - \\psi_{{0}_t}(0)*sqrt(conjugate(R_1_0))/sqrt(conjugate(T_1_0))]]))}"
      ]
     },
     "execution_count": 4,
     "metadata": {},
     "output_type": "execute_result"
    }
   ],
   "source": [
    "t01"
   ]
  },
  {
   "cell_type": "code",
   "execution_count": 5,
   "id": "58d5c743-aaad-4aed-bc15-3c027a33647f",
   "metadata": {},
   "outputs": [
    {
     "data": {
      "text/latex": [
       "$\\displaystyle \\left[\\begin{matrix}- \\frac{\\sqrt{R_{1 0}} \\sqrt{\\overline{R_{1 0}}}}{\\sqrt{\\overline{T_{1 0}}}} + \\sqrt{T_{1 0}} & \\frac{\\sqrt{R_{1 0}}}{\\sqrt{\\overline{T_{1 0}}}}\\\\- \\frac{\\sqrt{\\overline{R_{1 0}}}}{\\sqrt{\\overline{T_{1 0}}}} & \\frac{1}{\\sqrt{\\overline{T_{1 0}}}}\\end{matrix}\\right]$"
      ],
      "text/plain": [
       "Matrix([\n",
       "[-sqrt(R_1_0)*sqrt(conjugate(R_1_0))/sqrt(conjugate(T_1_0)) + sqrt(T_1_0), sqrt(R_1_0)/sqrt(conjugate(T_1_0))],\n",
       "[                          -sqrt(conjugate(R_1_0))/sqrt(conjugate(T_1_0)),           1/sqrt(conjugate(T_1_0))]])"
      ]
     },
     "execution_count": 5,
     "metadata": {},
     "output_type": "execute_result"
    }
   ],
   "source": [
    "t01['transferMatrix']"
   ]
  },
  {
   "cell_type": "code",
   "execution_count": 6,
   "id": "38222b9c-53d9-448f-a53c-1933948c284b",
   "metadata": {},
   "outputs": [
    {
     "data": {
      "text/latex": [
       "$\\displaystyle \\left[\\begin{matrix}\\sqrt{\\overline{R_{1 0}}} & \\sqrt{T_{1 0}}\\\\\\sqrt{\\overline{T_{1 0}}} & \\sqrt{R_{1 0}}\\end{matrix}\\right]$"
      ],
      "text/plain": [
       "Matrix([\n",
       "[sqrt(conjugate(R_1_0)), sqrt(T_1_0)],\n",
       "[sqrt(conjugate(T_1_0)), sqrt(R_1_0)]])"
      ]
     },
     "execution_count": 6,
     "metadata": {},
     "output_type": "execute_result"
    }
   ],
   "source": [
    "t01['scatteringMatrix']"
   ]
  },
  {
   "cell_type": "code",
   "execution_count": null,
   "id": "46ce419a-e89d-4cd5-8ae6-7d54fb72d99f",
   "metadata": {},
   "outputs": [],
   "source": []
  }
 ],
 "metadata": {
  "kernelspec": {
   "display_name": "Python 3 (ipykernel)",
   "language": "python",
   "name": "python3"
  },
  "language_info": {
   "codemirror_mode": {
    "name": "ipython",
    "version": 3
   },
   "file_extension": ".py",
   "mimetype": "text/x-python",
   "name": "python",
   "nbconvert_exporter": "python",
   "pygments_lexer": "ipython3",
   "version": "3.10.4"
  }
 },
 "nbformat": 4,
 "nbformat_minor": 5
}
