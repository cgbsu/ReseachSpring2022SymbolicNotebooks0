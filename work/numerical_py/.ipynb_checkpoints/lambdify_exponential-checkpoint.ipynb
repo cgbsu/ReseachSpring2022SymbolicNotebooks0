{
 "cells": [
  {
   "cell_type": "code",
   "execution_count": 1,
   "id": "9ed6d7c4-de25-4780-a298-1fa99eb61e7f",
   "metadata": {},
   "outputs": [],
   "source": [
    "from new_attempt.stateless import *"
   ]
  },
  {
   "cell_type": "code",
   "execution_count": 2,
   "id": "0411622a-fe96-4719-9c83-be09c610f521",
   "metadata": {},
   "outputs": [],
   "source": [
    "regionSymbols = RegionSymbols(1)"
   ]
  },
  {
   "cell_type": "code",
   "execution_count": 3,
   "id": "ce9e5f4d-a828-41c3-a294-d425d4549665",
   "metadata": {},
   "outputs": [],
   "source": [
    "customPlanck = sq.Symbol('hbarX', real = True, positive = True, nonzero = True)"
   ]
  },
  {
   "cell_type": "code",
   "execution_count": 4,
   "id": "35735e53-b270-4ad9-8f7f-3494cf640396",
   "metadata": {},
   "outputs": [],
   "source": [
    "waveEquation = constantPotentialTimeIndependentSchroedingerEquation1D(regionSymbols, reducedPlanckConstant = customPlanck)"
   ]
  },
  {
   "cell_type": "code",
   "execution_count": 5,
   "id": "cf635752-9e74-4a9a-a23e-3c34ea10f230",
   "metadata": {},
   "outputs": [],
   "source": [
    "normalization = simpleWaveFunctionNormalization(regionSymbols.startDistance, regionSymbols.distance, regionSymbols)"
   ]
  },
  {
   "cell_type": "code",
   "execution_count": 6,
   "id": "8f188703-46d9-462b-b2bf-b5c772598da9",
   "metadata": {},
   "outputs": [],
   "source": [
    "amplitudeCalculator = generateAmplitudeCoefficientNumericalFunctions(\n",
    "        regionSymbols, \n",
    "        waveEquation, \n",
    "        normalization\n",
    "    )"
   ]
  },
  {
   "cell_type": "code",
   "execution_count": 8,
   "id": "1279c475-85d8-48cc-a886-800ba4880454",
   "metadata": {},
   "outputs": [
    {
     "data": {
      "text/latex": [
       "$\\displaystyle C_{{1}_r} \\overline{C_{{1}_t}} + C_{{1}_r} e^{- 2 k_{1} x} \\overline{C_{{1}_r}} + C_{{1}_t} e^{2 k_{1} x} \\overline{C_{{1}_t}} + C_{{1}_t} \\overline{C_{{1}_r}}$"
      ],
      "text/plain": [
       "C_{{1}_r}*conjugate(C_{{1}_t}) + C_{{1}_r}*exp(-2*k_1*x)*conjugate(C_{{1}_r}) + C_{{1}_t}*exp(2*k_1*x)*conjugate(C_{{1}_t}) + C_{{1}_t}*conjugate(C_{{1}_r})"
      ]
     },
     "execution_count": 8,
     "metadata": {},
     "output_type": "execute_result"
    }
   ],
   "source": [
    "amplitudeCalculator[\"amplitudeCoefficientEquations\"][\"unconstrainedParticularSolution\"][\"expandedExponential\"]"
   ]
  },
  {
   "cell_type": "code",
   "execution_count": null,
   "id": "f50a0792-8fa9-4e87-b863-66497f5bc812",
   "metadata": {},
   "outputs": [],
   "source": []
  },
  {
   "cell_type": "code",
   "execution_count": null,
   "id": "eed709f3-6982-4bb9-8d3e-1f7325089043",
   "metadata": {},
   "outputs": [],
   "source": []
  },
  {
   "cell_type": "code",
   "execution_count": null,
   "id": "007b0752-a690-4c47-96cc-57ade9287d98",
   "metadata": {},
   "outputs": [],
   "source": []
  }
 ],
 "metadata": {
  "kernelspec": {
   "display_name": "Python 3 (ipykernel)",
   "language": "python",
   "name": "python3"
  },
  "language_info": {
   "codemirror_mode": {
    "name": "ipython",
    "version": 3
   },
   "file_extension": ".py",
   "mimetype": "text/x-python",
   "name": "python",
   "nbconvert_exporter": "python",
   "pygments_lexer": "ipython3",
   "version": "3.10.5"
  }
 },
 "nbformat": 4,
 "nbformat_minor": 5
}
