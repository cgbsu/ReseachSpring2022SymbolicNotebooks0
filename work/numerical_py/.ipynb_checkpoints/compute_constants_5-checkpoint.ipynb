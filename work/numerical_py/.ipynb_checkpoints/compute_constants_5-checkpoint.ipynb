{
 "cells": [
  {
   "cell_type": "code",
   "execution_count": 1,
   "id": "8c69371e-3b59-4f37-a0c0-390f1f253d4f",
   "metadata": {},
   "outputs": [],
   "source": [
    "from new_attempt.stateless import *"
   ]
  },
  {
   "cell_type": "code",
   "execution_count": 2,
   "id": "103ce23f-11ca-460a-b2a2-ee9237771a3e",
   "metadata": {},
   "outputs": [],
   "source": [
    "import numpy as np"
   ]
  },
  {
   "cell_type": "code",
   "execution_count": 3,
   "id": "ba03ff64-cf5a-4023-9e69-2853be990392",
   "metadata": {},
   "outputs": [],
   "source": [
    "import inspect"
   ]
  },
  {
   "cell_type": "code",
   "execution_count": 4,
   "id": "d26305ac-843e-45f2-9c56-96bef2aaf89c",
   "metadata": {},
   "outputs": [],
   "source": [
    "from matplotlib import pyplot as plt"
   ]
  },
  {
   "cell_type": "code",
   "execution_count": 5,
   "id": "48b8b2f9-72d7-4b08-be7c-779405f9e25b",
   "metadata": {},
   "outputs": [],
   "source": [
    "preliminaryData = createPreliminaryData(3)"
   ]
  },
  {
   "cell_type": "code",
   "execution_count": 7,
   "id": "daeb7e62-70cb-450b-9777-3748320f79a5",
   "metadata": {},
   "outputs": [],
   "source": [
    "regionFunctions = generateRegionFunctions(preliminaryData)"
   ]
  },
  {
   "cell_type": "code",
   "execution_count": null,
   "id": "e8189daa-f286-4615-a3bd-4ad27866fa16",
   "metadata": {},
   "outputs": [],
   "source": []
  },
  {
   "cell_type": "code",
   "execution_count": 21,
   "id": "92b0aa3a-fc6a-460e-abde-4146ecad00c4",
   "metadata": {},
   "outputs": [],
   "source": [
    "def matchesToIdentifiers(expression, pattern): \n",
    "    matches = list(expression.find(pattern))\n",
    "    return {match : symbolicToIdentifier(match) for match in matches}\n"
   ]
  },
  {
   "cell_type": "code",
   "execution_count": 24,
   "id": "ab918a2f-10f9-40ca-aecd-6d1304e8ac96",
   "metadata": {},
   "outputs": [],
   "source": [
    "def lambdifyWaveFunction(amplitudeCoefficientEquations : dict, position : sp.Symbol) -> dict: \n",
    "    unconstrainedParticularSolution = amplitudeCoefficientEquations[\"unconstrainedParticularSolution\"]\n",
    "    harmonicConstant = unconstrainedParticularSolution[\"amplitudes\"][\"harmonicConstant\"]\n",
    "    amplitudeCoefficients = list(amplitudeCoefficientEquations[\"extrapolatedComponentsOfConstants\"].keys())\n",
    "    exponential = unconstrainedParticularSolution[\"expandedExponential\"]\n",
    "    functionSymbol = unconstrainedParticularSolution[\"exponential\"].lhs.func\n",
    "    conjugatedAmplitudeConstants = matchesToIdentifiers(\n",
    "            exponential, \n",
    "            sp.conjugate(sp.Wild(\"C\"))\n",
    "        )\n",
    "    sanitizedFunction = substituteIdentifierAtoms(\n",
    "            exponential.subs(conjugatedAmplitudeConstants)\n",
    "        )\n",
    "    parameters = orderNames(\n",
    "            list(conjugatedAmplitudeConstants.values()) \\\n",
    "                    + amplitudeCoefficients \\\n",
    "                    + [\n",
    "                            symbolicToIdentifier(parameter) \\\n",
    "                            for parameter in [harmonicConstant, position]\n",
    "                        ]\n",
    "        )\n",
    "    \n",
    "    amplitudeCoefficientSubstitutionList = substituteIdentifierAtomsList(exponential)\n",
    "    conjugateMap = {}\n",
    "    print(amplitudeCoefficientSubstitutionList)\n",
    "    for conjugateSymbolic, identifier in conjugatedAmplitudeConstants.items():\n",
    "        cleanSymbol = conjugateSymbolic.args[0]\n",
    "        conjugateMap[amplitudeCoefficientSubstitutionList[cleanSymbol]] = identifier\n",
    "        \n",
    "    functionIdentifier = symbolicToIdentifier(functionSymbol)\n",
    "    baseNumericalFunction =  sp.lambdify(parameters, sanitizedFunction)\n",
    "    def makeFunctionFromConstants(constants : dict) -> float: \n",
    "        amplitudeCoefficeintSolutions_ = {\n",
    "                solutionSetName : solutions \\\n",
    "                for solutionSetName, solutions \\\n",
    "                        in constants[\"amplitudeConstants\"].items() \\\n",
    "                if solutionSetName in amplitudeCoefficients\n",
    "            }\n",
    "        arguments = {}\n",
    "        for solutionSetName, solutions in amplitudeCoefficeintSolutions_.items(): \n",
    "            if len(solutions) == 2: \n",
    "                arguments[solutionSetName] = solutions[0]\n",
    "                arguments[conjugateMap[solutionSetName]] = solutions[1]\n",
    "            else: \n",
    "                if type(solutions) is list: \n",
    "                    assert len(solutions) == 1, \"makeExponentialWithConjugates: \" \\\n",
    "                                                \"inproper number of solutions (must be zero or one)\" \\\n",
    "                                                \"for amplitude coefficient!\"\n",
    "                    arguments[solutionSetName] = solutions[0]\n",
    "                else: \n",
    "                    arguments[solutionSetName] = solutions\n",
    "        harmonicConstantIdentifier = symbolicToIdentifier(harmonicConstant)\n",
    "        arguments[harmonicConstantIdentifier] = constants[\"harmonicConstants\"] \\\n",
    "                [harmonicConstantIdentifier]\n",
    "        return lambda position_ : baseNumericalFunction(**(\n",
    "                {symbolicToIdentifier(position) : position_} \n",
    "                | arguments\n",
    "            ))\n",
    "    return {\n",
    "            \"name\" : functionIdentifier, \n",
    "            \"functionFromConstantsBuilder\" : makeFunctionFromConstants, \n",
    "            \"parameters\" : parameters, \n",
    "            \"symbol\" : functionSymbol, \n",
    "            \"position\" : position, \n",
    "            \"harmonicConstant\" : harmonicConstant, \n",
    "            \"amplitudeCoefficientIdentifiers\" : orderNames(amplitudeCoefficients), \n",
    "            \"amplitudeConjugateCoefficientIdentifiers\" : orderNames(list(\n",
    "                    conjugatedAmplitudeConstants.values())\n",
    "                ), \n",
    "        }"
   ]
  },
  {
   "cell_type": "code",
   "execution_count": 26,
   "id": "62356c64-6b91-42ef-9f6d-44f105f3ca03",
   "metadata": {},
   "outputs": [],
   "source": [
    "k_3 = 3"
   ]
  },
  {
   "cell_type": "code",
   "execution_count": 27,
   "id": "fa3504c7-eaf6-4d51-b8fe-6db2829e1005",
   "metadata": {},
   "outputs": [],
   "source": [
    "testBasicParameters = {\n",
    "    \"V_0\" : 1, \n",
    "    \"V_1\" : 2, \n",
    "    \"V_2\" : 3, \n",
    "    \"L_0\" : 2, \n",
    "    \"L_1\" : 3, \n",
    "    \"L_2\" : 4, \n",
    "    \"N_0\" : .1, \n",
    "    \"N_1\" : .2, \n",
    "    \"N_2\" : .7, \n",
    "    \"m\" : 1, \n",
    "    \"E_OCBtotalCCB\" : .5, \n",
    "    \"E_total\" : .5, \n",
    "    \"hbarX\" : 1, \n",
    "    \"k_3\" : k_3, ###### FOR TESTING ONLY\n",
    "    \"L_N1\" : 0, \n",
    "    \"B_3\" : 0\n",
    "}"
   ]
  },
  {
   "cell_type": "code",
   "execution_count": null,
   "id": "3a7b6f15-570e-4577-a04d-7144f113fc5b",
   "metadata": {},
   "outputs": [],
   "source": []
  },
  {
   "cell_type": "code",
   "execution_count": 28,
   "id": "25835347-4087-47c8-9a77-9b3761cd0640",
   "metadata": {},
   "outputs": [],
   "source": [
    "# Yoinked from computeSimulationConstants\n",
    "harmonicConstants = {\n",
    "        symbolicToIdentifier(functionData[\"equation\"].lhs) \n",
    "                : computeHarmonicConstant(\n",
    "                        functionData, \n",
    "                        testBasicParameters\n",
    "                    ) \\\n",
    "        for functionData in regionFunctions[\"harmonicConstantFunctions\"]\n",
    "    }\n"
   ]
  },
  {
   "cell_type": "code",
   "execution_count": 29,
   "id": "19328837-8d94-4177-b358-2d58549fdbed",
   "metadata": {},
   "outputs": [
    {
     "data": {
      "text/plain": [
       "{'k_0': 1.0000000000000002, 'k_1': 1.7320508075688772, 'k_2': 2.23606797749979}"
      ]
     },
     "execution_count": 29,
     "metadata": {},
     "output_type": "execute_result"
    }
   ],
   "source": [
    "harmonicConstants"
   ]
  },
  {
   "cell_type": "code",
   "execution_count": 30,
   "id": "e101fb79-0d91-42fe-86c5-a7a859b3b391",
   "metadata": {},
   "outputs": [],
   "source": [
    "harmonicConstants[\"k_3\"] = k_3"
   ]
  },
  {
   "cell_type": "code",
   "execution_count": null,
   "id": "724e12c5-8bf6-4a12-996e-fa81768133ea",
   "metadata": {},
   "outputs": [
    {
     "data": {
      "text/plain": [
       "{'k_0': 1.0000000000000002,\n",
       " 'k_1': 1.7320508075688772,\n",
       " 'k_2': 2.23606797749979,\n",
       " 'k_3': 3}"
      ]
     },
     "execution_count": 31,
     "metadata": {},
     "output_type": "execute_result"
    }
   ],
   "source": [
    "harmonicConstants"
   ]
  },
  {
   "cell_type": "code",
   "execution_count": null,
   "id": "aa96780b-0577-48ab-a911-5a3dfdcc894f",
   "metadata": {},
   "outputs": [],
   "source": [
    "trValues = {}\n",
    "for trFunctions in regionFunctions[\"transmissionReflectionFunctions\"]: \n",
    "    arguments = {parameter : harmonicConstants[parameter] for parameter in trFunctions[\"inputs\"]}\n",
    "    for name, calculator in trFunctions[\"computations\"].items(): \n",
    "        trValues[name] = calculator(**arguments)"
   ]
  },
  {
   "cell_type": "code",
   "execution_count": null,
   "id": "6bb6818c-a2b0-4e68-8ee6-f3e795e01b6a",
   "metadata": {},
   "outputs": [
    {
     "data": {
      "text/plain": [
       "{'T_1_0': 1.2679491924311224,\n",
       " 'R_1_0': 0.26794919243112253,\n",
       " 'T_2_1': 1.1270166537925832,\n",
       " 'R_2_1': 0.12701665379258317,\n",
       " 'T_3_2': 1.1458980337503155,\n",
       " 'R_3_2': 0.14589803375031543}"
      ]
     },
     "execution_count": 33,
     "metadata": {},
     "output_type": "execute_result"
    }
   ],
   "source": []
  },
  {
   "cell_type": "code",
   "execution_count": null,
   "id": "c1dbbc2a-e7d2-47ca-b494-4dd63ee4cddc",
   "metadata": {},
   "outputs": [],
   "source": []
  },
  {
   "cell_type": "code",
   "execution_count": null,
   "id": "90905704-0dc0-415b-a45c-139b534098d7",
   "metadata": {},
   "outputs": [],
   "source": []
  },
  {
   "cell_type": "code",
   "execution_count": 34,
   "id": "ded0d542-3707-420e-bac7-40e716db3852",
   "metadata": {},
   "outputs": [],
   "source": [
    "constants = computeSimulationConstants(preliminaryData, regionFunctions, testBasicParameters, 1, 1)"
   ]
  },
  {
   "cell_type": "code",
   "execution_count": null,
   "id": "f6c182dd-b13d-49ae-93b6-f84808cf7700",
   "metadata": {},
   "outputs": [],
   "source": []
  },
  {
   "cell_type": "code",
   "execution_count": 35,
   "id": "3f98d3a3-7e24-4b69-be90-f7c890e3ef08",
   "metadata": {},
   "outputs": [
    {
     "data": {
      "text/plain": [
       "{'harmonicConstants': {'k_0': 1.0000000000000002,\n",
       "  'k_1': 1.7320508075688772,\n",
       "  'k_2': 2.23606797749979},\n",
       " 'transfers': [{'from': {'region': <new_attempt.stateless.RegionSymbols at 0x7fcbea05bb20>,\n",
       "    'matrix': Matrix([\n",
       "    [psi_2_t(L_1)],\n",
       "    [psi_2_r(L_1)]])},\n",
       "   'to': {'region': <new_attempt.stateless.RegionSymbols at 0x7fcbea05b6d0>,\n",
       "    'matrix': Matrix([\n",
       "    [psi_3_t(L_2)],\n",
       "    [psi_3_r(L_2)]])},\n",
       "   'transferValues': {'psi_3_tOPL_2CP': 1, 'psi_3_rOPL_2CP': 1}},\n",
       "  {'from': {'region': <new_attempt.stateless.RegionSymbols at 0x7fcbea05bb20>,\n",
       "    'matrix': Matrix([\n",
       "    [psi_2_t(L_1)],\n",
       "    [psi_2_r(L_1)]])},\n",
       "   'to': {'region': <new_attempt.stateless.RegionSymbols at 0x7fcbea05b6d0>,\n",
       "    'matrix': Matrix([\n",
       "    [psi_3_t(L_2)],\n",
       "    [psi_3_r(L_2)]])},\n",
       "   'transferValues': {'psi_2_tOPL_1CP': 1.2909944487358058,\n",
       "    'psi_2_rOPL_1CP': 0.5773502691896257}},\n",
       "  {'from': {'region': <new_attempt.stateless.RegionSymbols at 0x7fcbea05b6d0>,\n",
       "    'matrix': Matrix([\n",
       "    [psi_1_t(L_0)],\n",
       "    [psi_1_r(L_0)]])},\n",
       "   'to': {'region': <new_attempt.stateless.RegionSymbols at 0x7fcbea05b280>,\n",
       "    'matrix': Matrix([\n",
       "    [psi_2_t(L_1)],\n",
       "    [psi_2_r(L_1)]])},\n",
       "   'transferValues': {'psi_1_tOPL_0CP': 1.4098944287730744,\n",
       "    'psi_1_rOPL_0CP': 0.1104431967784617}},\n",
       "  {'from': {'region': <new_attempt.stateless.RegionSymbols at 0x7fcbea05b280>,\n",
       "    'matrix': Matrix([\n",
       "    [psi_0_t(L_-1)],\n",
       "    [psi_0_r(L_-1)]])},\n",
       "   'to': {'region': <new_attempt.stateless.RegionSymbols at 0x7fcbea05ae30>,\n",
       "    'matrix': Matrix([\n",
       "    [psi_1_t(L_0)],\n",
       "    [psi_1_r(L_0)]])},\n",
       "   'transferValues': {'psi_0_tOPL_N1CP': 1.3028611815682298,\n",
       "    'psi_0_rOPL_N1CP': -0.5500479447853941}}],\n",
       " 'boundryIndexedTransfers': {'B_2': 1.8683447179254316,\n",
       "  'B_1': 1.520337625551536,\n",
       "  'B_0': 0.7528132367828357},\n",
       " 'amplitudeConstants': {'C_OCBOCB0CCB_tCCB': [0.09705297623280645,\n",
       "   -0.09705297623280645],\n",
       "  'C_OCBOCB0CCB_rCCB': [1.513778541392071, -1.513778541392071],\n",
       "  'C_OCBOCB1CCB_tCCB': [0.008258172236487468, -0.008258172236487468],\n",
       "  'C_OCBOCB1CCB_rCCB': [59.264181334475055, -59.264181334475055],\n",
       "  'C_OCBOCB2CCB_tCCB': [0.0003387147991817995, -0.0003387147991817995],\n",
       "  'C_OCBOCB2CCB_rCCB': [1466.9562132186725, -1466.9562132186725]}}"
      ]
     },
     "execution_count": 35,
     "metadata": {},
     "output_type": "execute_result"
    }
   ],
   "source": [
    "constants"
   ]
  },
  {
   "cell_type": "code",
   "execution_count": null,
   "id": "b1002b0e-4cf3-46d3-9a55-26061313e471",
   "metadata": {},
   "outputs": [],
   "source": []
  },
  {
   "cell_type": "code",
   "execution_count": 36,
   "id": "c20f9952-41ad-481e-a804-093a8eb4feaf",
   "metadata": {},
   "outputs": [
    {
     "name": "stdout",
     "output_type": "stream",
     "text": [
      "{C_{{0}_t}: 'C_OCBOCB0CCB_tCCB', C_{{0}_r}: 'C_OCBOCB0CCB_rCCB', x: 'x', k_0: 'k_0'}\n",
      "{k_1: 'k_1', x: 'x', C_{{1}_r}: 'C_OCBOCB1CCB_rCCB', C_{{1}_t}: 'C_OCBOCB1CCB_tCCB'}\n",
      "{x: 'x', C_{{2}_r}: 'C_OCBOCB2CCB_rCCB', k_2: 'k_2', C_{{2}_t}: 'C_OCBOCB2CCB_tCCB'}\n"
     ]
    }
   ],
   "source": [
    "waveFunctionGenerators = [\n",
    "            lambdifyWaveFunction(function[\"amplitudeCoefficientEquations\"], POSITION_SYMBOL)\n",
    "            for function in regionFunctions[\"amplitudeConstantFunctions\"]\n",
    "    ]"
   ]
  },
  {
   "cell_type": "code",
   "execution_count": null,
   "id": "8c5bfe30-a5b6-4cfc-ad06-0f14c932fbf3",
   "metadata": {},
   "outputs": [],
   "source": []
  },
  {
   "cell_type": "code",
   "execution_count": 37,
   "id": "792cd469-0949-453e-ac1d-fc1806df501b",
   "metadata": {},
   "outputs": [],
   "source": [
    "waveFunctions = [\n",
    "        generator[\"functionFromConstantsBuilder\"](constants) \\\n",
    "        for generator in waveFunctionGenerators\n",
    "    ]"
   ]
  },
  {
   "cell_type": "code",
   "execution_count": 38,
   "id": "baf22047-0b46-442b-8243-d50ff39b2f54",
   "metadata": {},
   "outputs": [
    {
     "data": {
      "text/plain": [
       "[<function __main__.lambdifyWaveFunction.<locals>.makeFunctionFromConstants.<locals>.<lambda>(position_)>,\n",
       " <function __main__.lambdifyWaveFunction.<locals>.makeFunctionFromConstants.<locals>.<lambda>(position_)>,\n",
       " <function __main__.lambdifyWaveFunction.<locals>.makeFunctionFromConstants.<locals>.<lambda>(position_)>]"
      ]
     },
     "execution_count": 38,
     "metadata": {},
     "output_type": "execute_result"
    }
   ],
   "source": [
    "waveFunctions"
   ]
  },
  {
   "cell_type": "code",
   "execution_count": 39,
   "id": "dd3721e8-eb57-4e96-b399-09d996f5afdc",
   "metadata": {},
   "outputs": [],
   "source": [
    "L_N1 = testBasicParameters[\"L_N1\"]\n",
    "L_0 = testBasicParameters[\"L_0\"]\n",
    "L_1 = testBasicParameters[\"L_1\"]\n",
    "L_2 = testBasicParameters[\"L_2\"]\n",
    "resolution = .01"
   ]
  },
  {
   "cell_type": "code",
   "execution_count": 40,
   "id": "e456ee6c-8958-490f-8911-2ac253c9efb3",
   "metadata": {},
   "outputs": [],
   "source": [
    "domains = [\n",
    "        np.arange(L_N1, L_0, resolution), \n",
    "        np.arange(L_0, L_1, resolution), \n",
    "        np.arange(L_1, L_2, resolution)\n",
    "    ]"
   ]
  },
  {
   "cell_type": "code",
   "execution_count": 41,
   "id": "0e66010d-cf19-4dad-b119-959e72dcb615",
   "metadata": {},
   "outputs": [],
   "source": [
    "waveFunctionProbabilities = [\n",
    "        waveFunctions[ii](domains[ii])\n",
    "        for ii in range(len(waveFunctions))\n",
    "    ]"
   ]
  },
  {
   "cell_type": "code",
   "execution_count": 42,
   "id": "5e2a449a-dd53-4b76-8111-f8b4ea571741",
   "metadata": {},
   "outputs": [
    {
     "data": {
      "text/plain": [
       "[<matplotlib.lines.Line2D at 0x7fcbe6c2a440>]"
      ]
     },
     "execution_count": 42,
     "metadata": {},
     "output_type": "execute_result"
    },
    {
     "data": {
      "image/png": "[encoded data removed]",
      "text/plain": [
       "<Figure size 432x288 with 1 Axes>"
      ]
     },
     "metadata": {
      "needs_background": "light"
     },
     "output_type": "display_data"
    }
   ],
   "source": [
    "plt.plot(domains[0], waveFunctionProbabilities[0])"
   ]
  },
  {
   "cell_type": "code",
   "execution_count": 43,
   "id": "3923dfd3-5d63-4392-9f9d-b8b30193c092",
   "metadata": {},
   "outputs": [
    {
     "data": {
      "text/plain": [
       "[<matplotlib.lines.Line2D at 0x7fcbe6e72b90>]"
      ]
     },
     "execution_count": 43,
     "metadata": {},
     "output_type": "execute_result"
    },
    {
     "data": {
      "image/png": "[encoded data removed]",
      "text/plain": [
       "<Figure size 432x288 with 1 Axes>"
      ]
     },
     "metadata": {
      "needs_background": "light"
     },
     "output_type": "display_data"
    }
   ],
   "source": [
    "plt.plot(domains[1], waveFunctionProbabilities[1])"
   ]
  },
  {
   "cell_type": "code",
   "execution_count": 44,
   "id": "4dfd2d37-855d-4b04-b2bf-bef34199baed",
   "metadata": {},
   "outputs": [
    {
     "data": {
      "text/plain": [
       "[<matplotlib.lines.Line2D at 0x7fcbe6ed85e0>]"
      ]
     },
     "execution_count": 44,
     "metadata": {},
     "output_type": "execute_result"
    },
    {
     "data": {
      "image/png": "[encoded data removed]",
      "text/plain": [
       "<Figure size 432x288 with 1 Axes>"
      ]
     },
     "metadata": {
      "needs_background": "light"
     },
     "output_type": "display_data"
    }
   ],
   "source": [
    "plt.plot(domains[2], waveFunctionProbabilities[2])"
   ]
  },
  {
   "cell_type": "code",
   "execution_count": 45,
   "id": "6e24b4b3-e853-4aba-8cbb-3566c4ae93c3",
   "metadata": {},
   "outputs": [
    {
     "data": {
      "image/png": "[encoded data removed]",
      "text/plain": [
       "<Figure size 432x288 with 1 Axes>"
      ]
     },
     "metadata": {
      "needs_background": "light"
     },
     "output_type": "display_data"
    }
   ],
   "source": [
    "for ii in range(len(waveFunctionProbabilities)): \n",
    "    plt.plot(domains[ii], waveFunctionProbabilities[ii])"
   ]
  },
  {
   "cell_type": "code",
   "execution_count": 46,
   "id": "87ab42d8-67d8-44bb-9360-0b31fe475839",
   "metadata": {},
   "outputs": [
    {
     "data": {
      "image/png": "[encoded data removed]",
      "text/plain": [
       "<Figure size 432x288 with 1 Axes>"
      ]
     },
     "metadata": {
      "needs_background": "light"
     },
     "output_type": "display_data"
    }
   ],
   "source": [
    "for ii in range(len(waveFunctionProbabilities)): \n",
    "    plt.plot(domains[ii], list(reversed(waveFunctionProbabilities[ii])))"
   ]
  },
  {
   "cell_type": "code",
   "execution_count": null,
   "id": "f96f5fdb-c0d4-439f-9e8d-18fa597b67a0",
   "metadata": {},
   "outputs": [],
   "source": []
  }
 ],
 "metadata": {
  "kernelspec": {
   "display_name": "Python 3 (ipykernel)",
   "language": "python",
   "name": "python3"
  },
  "language_info": {
   "codemirror_mode": {
    "name": "ipython",
    "version": 3
   },
   "file_extension": ".py",
   "mimetype": "text/x-python",
   "name": "python",
   "nbconvert_exporter": "python",
   "pygments_lexer": "ipython3",
   "version": "3.10.5"
  }
 },
 "nbformat": 4,
 "nbformat_minor": 5
}
