{
 "cells": [
  {
   "cell_type": "code",
   "execution_count": 1,
   "id": "aae31641-3c09-4b67-b396-a33c0007db00",
   "metadata": {},
   "outputs": [],
   "source": [
    "from new_attempt.stateless import *"
   ]
  },
  {
   "cell_type": "code",
   "execution_count": null,
   "id": "b249a0a2-4ab9-4ba5-800a-32bf35a37a3c",
   "metadata": {},
   "outputs": [],
   "source": []
  },
  {
   "cell_type": "code",
   "execution_count": null,
   "id": "106bbedf-4db0-41d9-8c48-5b42f5b8f978",
   "metadata": {},
   "outputs": [],
   "source": []
  },
  {
   "cell_type": "code",
   "execution_count": 2,
   "id": "a62a300f-865a-49b3-b604-de4fb2152fde",
   "metadata": {},
   "outputs": [],
   "source": [
    "regionSymbols = [RegionSymbols(ii) for ii in range(3)]"
   ]
  },
  {
   "cell_type": "code",
   "execution_count": null,
   "id": "96030439-ae7c-4c96-b7ba-446a8aaffbeb",
   "metadata": {},
   "outputs": [],
   "source": []
  },
  {
   "cell_type": "code",
   "execution_count": 3,
   "id": "968b35d4-1d33-49d0-8fc4-933acd5f470b",
   "metadata": {},
   "outputs": [],
   "source": [
    "t01 = generalTransfer(regionSymbols[1], regionSymbols[0])"
   ]
  },
  {
   "cell_type": "code",
   "execution_count": null,
   "id": "c5e6faa0-66c0-4142-98bc-163d9a54ced6",
   "metadata": {},
   "outputs": [],
   "source": []
  },
  {
   "cell_type": "code",
   "execution_count": 4,
   "id": "a7f76762-fea2-4b64-a25c-42e407fe88f7",
   "metadata": {
    "tags": []
   },
   "outputs": [
    {
     "data": {
      "text/plain": [
       "{'from': <new_attempt.stateless.RegionSymbols at 0x7f8848357c70>,\n",
       " 'to': <new_attempt.stateless.RegionSymbols at 0x7f8872ca26b0>,\n",
       " 'matricies': {'inputs': ['T_1_0',\n",
       "   'R_1_0',\n",
       "   'psi_1_tOPL_0CP',\n",
       "   'psi_1_rOPL_0CP'],\n",
       "  'scatteringMatrix': Matrix([\n",
       "  [sqrt(conjugate(R_1_0)), sqrt(T_1_0)],\n",
       "  [sqrt(conjugate(T_1_0)), sqrt(R_1_0)]]),\n",
       "  'transferMatrix': Matrix([\n",
       "  [-sqrt(R_1_0)*sqrt(conjugate(R_1_0))/sqrt(conjugate(T_1_0)) + sqrt(T_1_0), sqrt(R_1_0)/sqrt(conjugate(T_1_0))],\n",
       "  [                          -sqrt(conjugate(R_1_0))/sqrt(conjugate(T_1_0)),           1/sqrt(conjugate(T_1_0))]]),\n",
       "  'outputs': ['psi_0_tOPL_N1CP', 'psi_0_rOPL_N1CP']},\n",
       " 'transfer': Eq(Matrix([\n",
       " [psi_0_t(L_-1)],\n",
       " [psi_0_r(L_-1)]]), Matrix([\n",
       " [sqrt(R_1_0)*psi_1_r(L_0)/sqrt(conjugate(T_1_0)) + (-sqrt(R_1_0)*sqrt(conjugate(R_1_0))/sqrt(conjugate(T_1_0)) + sqrt(T_1_0))*psi_1_t(L_0)],\n",
       " [                                         psi_1_r(L_0)/sqrt(conjugate(T_1_0)) - psi_1_t(L_0)*sqrt(conjugate(R_1_0))/sqrt(conjugate(T_1_0))]]))}"
      ]
     },
     "execution_count": 4,
     "metadata": {},
     "output_type": "execute_result"
    }
   ],
   "source": [
    "t01"
   ]
  },
  {
   "cell_type": "code",
   "execution_count": 5,
   "id": "58d5c743-aaad-4aed-bc15-3c027a33647f",
   "metadata": {},
   "outputs": [
    {
     "data": {
      "text/latex": [
       "$\\displaystyle \\left[\\begin{matrix}- \\frac{\\sqrt{R_{1 0}} \\sqrt{\\overline{R_{1 0}}}}{\\sqrt{\\overline{T_{1 0}}}} + \\sqrt{T_{1 0}} & \\frac{\\sqrt{R_{1 0}}}{\\sqrt{\\overline{T_{1 0}}}}\\\\- \\frac{\\sqrt{\\overline{R_{1 0}}}}{\\sqrt{\\overline{T_{1 0}}}} & \\frac{1}{\\sqrt{\\overline{T_{1 0}}}}\\end{matrix}\\right]$"
      ],
      "text/plain": [
       "Matrix([\n",
       "[-sqrt(R_1_0)*sqrt(conjugate(R_1_0))/sqrt(conjugate(T_1_0)) + sqrt(T_1_0), sqrt(R_1_0)/sqrt(conjugate(T_1_0))],\n",
       "[                          -sqrt(conjugate(R_1_0))/sqrt(conjugate(T_1_0)),           1/sqrt(conjugate(T_1_0))]])"
      ]
     },
     "execution_count": 5,
     "metadata": {},
     "output_type": "execute_result"
    }
   ],
   "source": [
    "t01['matricies']['transferMatrix']"
   ]
  },
  {
   "cell_type": "code",
   "execution_count": 6,
   "id": "38222b9c-53d9-448f-a53c-1933948c284b",
   "metadata": {},
   "outputs": [
    {
     "data": {
      "text/latex": [
       "$\\displaystyle \\left[\\begin{matrix}\\sqrt{\\overline{R_{1 0}}} & \\sqrt{T_{1 0}}\\\\\\sqrt{\\overline{T_{1 0}}} & \\sqrt{R_{1 0}}\\end{matrix}\\right]$"
      ],
      "text/plain": [
       "Matrix([\n",
       "[sqrt(conjugate(R_1_0)), sqrt(T_1_0)],\n",
       "[sqrt(conjugate(T_1_0)), sqrt(R_1_0)]])"
      ]
     },
     "execution_count": 6,
     "metadata": {},
     "output_type": "execute_result"
    }
   ],
   "source": [
    "t01['matricies']['scatteringMatrix']"
   ]
  },
  {
   "cell_type": "code",
   "execution_count": null,
   "id": "46ce419a-e89d-4cd5-8ae6-7d54fb72d99f",
   "metadata": {},
   "outputs": [],
   "source": []
  },
  {
   "cell_type": "code",
   "execution_count": 7,
   "id": "c76c88ae-65d8-4328-b463-a108da84e464",
   "metadata": {},
   "outputs": [],
   "source": [
    "t01Numerical = lambdifyTransfer(t01)"
   ]
  },
  {
   "cell_type": "code",
   "execution_count": 8,
   "id": "62d890ec-96c6-4843-996f-427e14eafec1",
   "metadata": {
    "tags": []
   },
   "outputs": [
    {
     "data": {
      "text/plain": [
       "{'paramters': ['T_1_0', 'R_1_0', 'psi_1_tOPL_0CP', 'psi_1_rOPL_0CP'],\n",
       " 'functions': {'psi_0_tOPL_N1CPFunction': <function _lambdifygenerated(T_1_0, R_1_0, psi_1_tOPL_0CP, psi_1_rOPL_0CP)>,\n",
       "  'psi_0_rOPL_N1CPFunction': <function _lambdifygenerated(T_1_0, R_1_0, psi_1_tOPL_0CP, psi_1_rOPL_0CP)>}}"
      ]
     },
     "execution_count": 8,
     "metadata": {},
     "output_type": "execute_result"
    }
   ],
   "source": [
    "t01Numerical[\"functionData\"]"
   ]
  },
  {
   "cell_type": "code",
   "execution_count": null,
   "id": "dc74e1c2-c231-4963-9f29-65afa541e9aa",
   "metadata": {},
   "outputs": [],
   "source": []
  },
  {
   "cell_type": "code",
   "execution_count": 9,
   "id": "001d3949-89a6-4b00-a7e2-589afcff6793",
   "metadata": {},
   "outputs": [],
   "source": [
    "transferFunctions = generateGeneralTransferFunctions(3)"
   ]
  },
  {
   "cell_type": "code",
   "execution_count": 10,
   "id": "4ae1fd61-a915-4b13-976b-6dd1e5a5ee27",
   "metadata": {},
   "outputs": [
    {
     "data": {
      "text/plain": [
       "{'regionSymbols': [<new_attempt.stateless.RegionSymbols at 0x7f87c5548eb0>,\n",
       "  <new_attempt.stateless.RegionSymbols at 0x7f87c55489d0>,\n",
       "  <new_attempt.stateless.RegionSymbols at 0x7f87c55487c0>,\n",
       "  <new_attempt.stateless.RegionSymbols at 0x7f87c5548160>,\n",
       "  <new_attempt.stateless.RegionSymbols at 0x7f87c5548310>],\n",
       " 'transfers': [{'from': <new_attempt.stateless.RegionSymbols at 0x7f87c55487c0>,\n",
       "   'to': <new_attempt.stateless.RegionSymbols at 0x7f87c55489d0>,\n",
       "   'matricies': {'inputs': ['T_1_0',\n",
       "     'R_1_0',\n",
       "     'psi_1_tOPL_0CP',\n",
       "     'psi_1_rOPL_0CP'],\n",
       "    'scatteringMatrix': Matrix([\n",
       "    [sqrt(conjugate(R_1_0)), sqrt(T_1_0)],\n",
       "    [sqrt(conjugate(T_1_0)), sqrt(R_1_0)]]),\n",
       "    'transferMatrix': Matrix([\n",
       "    [-sqrt(R_1_0)*sqrt(conjugate(R_1_0))/sqrt(conjugate(T_1_0)) + sqrt(T_1_0), sqrt(R_1_0)/sqrt(conjugate(T_1_0))],\n",
       "    [                          -sqrt(conjugate(R_1_0))/sqrt(conjugate(T_1_0)),           1/sqrt(conjugate(T_1_0))]]),\n",
       "    'outputs': ['psi_0_tOPL_N1CP', 'psi_0_rOPL_N1CP']},\n",
       "   'transfer': Eq(Matrix([\n",
       "   [psi_0_t(L_-1)],\n",
       "   [psi_0_r(L_-1)]]), Matrix([\n",
       "   [sqrt(R_1_0)*psi_1_r(L_0)/sqrt(conjugate(T_1_0)) + (-sqrt(R_1_0)*sqrt(conjugate(R_1_0))/sqrt(conjugate(T_1_0)) + sqrt(T_1_0))*psi_1_t(L_0)],\n",
       "   [                                         psi_1_r(L_0)/sqrt(conjugate(T_1_0)) - psi_1_t(L_0)*sqrt(conjugate(R_1_0))/sqrt(conjugate(T_1_0))]])),\n",
       "   'functionData': {'paramters': ['T_1_0',\n",
       "     'R_1_0',\n",
       "     'psi_1_tOPL_0CP',\n",
       "     'psi_1_rOPL_0CP'],\n",
       "    'functions': {'psi_0_tOPL_N1CPFunction': <function _lambdifygenerated(T_1_0, R_1_0, psi_1_tOPL_0CP, psi_1_rOPL_0CP)>,\n",
       "     'psi_0_rOPL_N1CPFunction': <function _lambdifygenerated(T_1_0, R_1_0, psi_1_tOPL_0CP, psi_1_rOPL_0CP)>}}},\n",
       "  {'from': <new_attempt.stateless.RegionSymbols at 0x7f87c5548160>,\n",
       "   'to': <new_attempt.stateless.RegionSymbols at 0x7f87c55487c0>,\n",
       "   'matricies': {'inputs': ['T_2_1',\n",
       "     'R_2_1',\n",
       "     'psi_2_tOPL_1CP',\n",
       "     'psi_2_rOPL_1CP'],\n",
       "    'scatteringMatrix': Matrix([\n",
       "    [sqrt(conjugate(R_2_1)), sqrt(T_2_1)],\n",
       "    [sqrt(conjugate(T_2_1)), sqrt(R_2_1)]]),\n",
       "    'transferMatrix': Matrix([\n",
       "    [-sqrt(R_2_1)*sqrt(conjugate(R_2_1))/sqrt(conjugate(T_2_1)) + sqrt(T_2_1), sqrt(R_2_1)/sqrt(conjugate(T_2_1))],\n",
       "    [                          -sqrt(conjugate(R_2_1))/sqrt(conjugate(T_2_1)),           1/sqrt(conjugate(T_2_1))]]),\n",
       "    'outputs': ['psi_1_tOPL_0CP', 'psi_1_rOPL_0CP']},\n",
       "   'transfer': Eq(Matrix([\n",
       "   [psi_1_t(L_0)],\n",
       "   [psi_1_r(L_0)]]), Matrix([\n",
       "   [sqrt(R_2_1)*psi_2_r(L_1)/sqrt(conjugate(T_2_1)) + (-sqrt(R_2_1)*sqrt(conjugate(R_2_1))/sqrt(conjugate(T_2_1)) + sqrt(T_2_1))*psi_2_t(L_1)],\n",
       "   [                                         psi_2_r(L_1)/sqrt(conjugate(T_2_1)) - psi_2_t(L_1)*sqrt(conjugate(R_2_1))/sqrt(conjugate(T_2_1))]])),\n",
       "   'functionData': {'paramters': ['T_2_1',\n",
       "     'R_2_1',\n",
       "     'psi_2_tOPL_1CP',\n",
       "     'psi_2_rOPL_1CP'],\n",
       "    'functions': {'psi_1_tOPL_0CPFunction': <function _lambdifygenerated(T_2_1, R_2_1, psi_2_tOPL_1CP, psi_2_rOPL_1CP)>,\n",
       "     'psi_1_rOPL_0CPFunction': <function _lambdifygenerated(T_2_1, R_2_1, psi_2_tOPL_1CP, psi_2_rOPL_1CP)>}}},\n",
       "  {'from': <new_attempt.stateless.RegionSymbols at 0x7f87c5548310>,\n",
       "   'to': <new_attempt.stateless.RegionSymbols at 0x7f87c5548160>,\n",
       "   'matricies': {'inputs': ['T_3_2',\n",
       "     'R_3_2',\n",
       "     'psi_3_tOPL_2CP',\n",
       "     'psi_3_rOPL_2CP'],\n",
       "    'scatteringMatrix': Matrix([\n",
       "    [sqrt(conjugate(R_3_2)), sqrt(T_3_2)],\n",
       "    [sqrt(conjugate(T_3_2)), sqrt(R_3_2)]]),\n",
       "    'transferMatrix': Matrix([\n",
       "    [-sqrt(R_3_2)*sqrt(conjugate(R_3_2))/sqrt(conjugate(T_3_2)) + sqrt(T_3_2), sqrt(R_3_2)/sqrt(conjugate(T_3_2))],\n",
       "    [                          -sqrt(conjugate(R_3_2))/sqrt(conjugate(T_3_2)),           1/sqrt(conjugate(T_3_2))]]),\n",
       "    'outputs': ['psi_2_tOPL_1CP', 'psi_2_rOPL_1CP']},\n",
       "   'transfer': Eq(Matrix([\n",
       "   [psi_2_t(L_1)],\n",
       "   [psi_2_r(L_1)]]), Matrix([\n",
       "   [sqrt(R_3_2)*psi_3_r(L_2)/sqrt(conjugate(T_3_2)) + (-sqrt(R_3_2)*sqrt(conjugate(R_3_2))/sqrt(conjugate(T_3_2)) + sqrt(T_3_2))*psi_3_t(L_2)],\n",
       "   [                                         psi_3_r(L_2)/sqrt(conjugate(T_3_2)) - psi_3_t(L_2)*sqrt(conjugate(R_3_2))/sqrt(conjugate(T_3_2))]])),\n",
       "   'functionData': {'paramters': ['T_3_2',\n",
       "     'R_3_2',\n",
       "     'psi_3_tOPL_2CP',\n",
       "     'psi_3_rOPL_2CP'],\n",
       "    'functions': {'psi_2_tOPL_1CPFunction': <function _lambdifygenerated(T_3_2, R_3_2, psi_3_tOPL_2CP, psi_3_rOPL_2CP)>,\n",
       "     'psi_2_rOPL_1CPFunction': <function _lambdifygenerated(T_3_2, R_3_2, psi_3_tOPL_2CP, psi_3_rOPL_2CP)>}}}],\n",
       " 'transferFunctions': [{'from': <new_attempt.stateless.RegionSymbols at 0x7f87c55487c0>,\n",
       "   'to': <new_attempt.stateless.RegionSymbols at 0x7f87c55489d0>,\n",
       "   'matricies': {'inputs': ['T_1_0',\n",
       "     'R_1_0',\n",
       "     'psi_1_tOPL_0CP',\n",
       "     'psi_1_rOPL_0CP'],\n",
       "    'scatteringMatrix': Matrix([\n",
       "    [sqrt(conjugate(R_1_0)), sqrt(T_1_0)],\n",
       "    [sqrt(conjugate(T_1_0)), sqrt(R_1_0)]]),\n",
       "    'transferMatrix': Matrix([\n",
       "    [-sqrt(R_1_0)*sqrt(conjugate(R_1_0))/sqrt(conjugate(T_1_0)) + sqrt(T_1_0), sqrt(R_1_0)/sqrt(conjugate(T_1_0))],\n",
       "    [                          -sqrt(conjugate(R_1_0))/sqrt(conjugate(T_1_0)),           1/sqrt(conjugate(T_1_0))]]),\n",
       "    'outputs': ['psi_0_tOPL_N1CP', 'psi_0_rOPL_N1CP']},\n",
       "   'transfer': Eq(Matrix([\n",
       "   [psi_0_t(L_-1)],\n",
       "   [psi_0_r(L_-1)]]), Matrix([\n",
       "   [sqrt(R_1_0)*psi_1_r(L_0)/sqrt(conjugate(T_1_0)) + (-sqrt(R_1_0)*sqrt(conjugate(R_1_0))/sqrt(conjugate(T_1_0)) + sqrt(T_1_0))*psi_1_t(L_0)],\n",
       "   [                                         psi_1_r(L_0)/sqrt(conjugate(T_1_0)) - psi_1_t(L_0)*sqrt(conjugate(R_1_0))/sqrt(conjugate(T_1_0))]])),\n",
       "   'functionData': {'paramters': ['T_1_0',\n",
       "     'R_1_0',\n",
       "     'psi_1_tOPL_0CP',\n",
       "     'psi_1_rOPL_0CP'],\n",
       "    'functions': {'psi_0_tOPL_N1CPFunction': <function _lambdifygenerated(T_1_0, R_1_0, psi_1_tOPL_0CP, psi_1_rOPL_0CP)>,\n",
       "     'psi_0_rOPL_N1CPFunction': <function _lambdifygenerated(T_1_0, R_1_0, psi_1_tOPL_0CP, psi_1_rOPL_0CP)>}}},\n",
       "  {'from': <new_attempt.stateless.RegionSymbols at 0x7f87c5548160>,\n",
       "   'to': <new_attempt.stateless.RegionSymbols at 0x7f87c55487c0>,\n",
       "   'matricies': {'inputs': ['T_2_1',\n",
       "     'R_2_1',\n",
       "     'psi_2_tOPL_1CP',\n",
       "     'psi_2_rOPL_1CP'],\n",
       "    'scatteringMatrix': Matrix([\n",
       "    [sqrt(conjugate(R_2_1)), sqrt(T_2_1)],\n",
       "    [sqrt(conjugate(T_2_1)), sqrt(R_2_1)]]),\n",
       "    'transferMatrix': Matrix([\n",
       "    [-sqrt(R_2_1)*sqrt(conjugate(R_2_1))/sqrt(conjugate(T_2_1)) + sqrt(T_2_1), sqrt(R_2_1)/sqrt(conjugate(T_2_1))],\n",
       "    [                          -sqrt(conjugate(R_2_1))/sqrt(conjugate(T_2_1)),           1/sqrt(conjugate(T_2_1))]]),\n",
       "    'outputs': ['psi_1_tOPL_0CP', 'psi_1_rOPL_0CP']},\n",
       "   'transfer': Eq(Matrix([\n",
       "   [psi_1_t(L_0)],\n",
       "   [psi_1_r(L_0)]]), Matrix([\n",
       "   [sqrt(R_2_1)*psi_2_r(L_1)/sqrt(conjugate(T_2_1)) + (-sqrt(R_2_1)*sqrt(conjugate(R_2_1))/sqrt(conjugate(T_2_1)) + sqrt(T_2_1))*psi_2_t(L_1)],\n",
       "   [                                         psi_2_r(L_1)/sqrt(conjugate(T_2_1)) - psi_2_t(L_1)*sqrt(conjugate(R_2_1))/sqrt(conjugate(T_2_1))]])),\n",
       "   'functionData': {'paramters': ['T_2_1',\n",
       "     'R_2_1',\n",
       "     'psi_2_tOPL_1CP',\n",
       "     'psi_2_rOPL_1CP'],\n",
       "    'functions': {'psi_1_tOPL_0CPFunction': <function _lambdifygenerated(T_2_1, R_2_1, psi_2_tOPL_1CP, psi_2_rOPL_1CP)>,\n",
       "     'psi_1_rOPL_0CPFunction': <function _lambdifygenerated(T_2_1, R_2_1, psi_2_tOPL_1CP, psi_2_rOPL_1CP)>}}},\n",
       "  {'from': <new_attempt.stateless.RegionSymbols at 0x7f87c5548310>,\n",
       "   'to': <new_attempt.stateless.RegionSymbols at 0x7f87c5548160>,\n",
       "   'matricies': {'inputs': ['T_3_2',\n",
       "     'R_3_2',\n",
       "     'psi_3_tOPL_2CP',\n",
       "     'psi_3_rOPL_2CP'],\n",
       "    'scatteringMatrix': Matrix([\n",
       "    [sqrt(conjugate(R_3_2)), sqrt(T_3_2)],\n",
       "    [sqrt(conjugate(T_3_2)), sqrt(R_3_2)]]),\n",
       "    'transferMatrix': Matrix([\n",
       "    [-sqrt(R_3_2)*sqrt(conjugate(R_3_2))/sqrt(conjugate(T_3_2)) + sqrt(T_3_2), sqrt(R_3_2)/sqrt(conjugate(T_3_2))],\n",
       "    [                          -sqrt(conjugate(R_3_2))/sqrt(conjugate(T_3_2)),           1/sqrt(conjugate(T_3_2))]]),\n",
       "    'outputs': ['psi_2_tOPL_1CP', 'psi_2_rOPL_1CP']},\n",
       "   'transfer': Eq(Matrix([\n",
       "   [psi_2_t(L_1)],\n",
       "   [psi_2_r(L_1)]]), Matrix([\n",
       "   [sqrt(R_3_2)*psi_3_r(L_2)/sqrt(conjugate(T_3_2)) + (-sqrt(R_3_2)*sqrt(conjugate(R_3_2))/sqrt(conjugate(T_3_2)) + sqrt(T_3_2))*psi_3_t(L_2)],\n",
       "   [                                         psi_3_r(L_2)/sqrt(conjugate(T_3_2)) - psi_3_t(L_2)*sqrt(conjugate(R_3_2))/sqrt(conjugate(T_3_2))]])),\n",
       "   'functionData': {'paramters': ['T_3_2',\n",
       "     'R_3_2',\n",
       "     'psi_3_tOPL_2CP',\n",
       "     'psi_3_rOPL_2CP'],\n",
       "    'functions': {'psi_2_tOPL_1CPFunction': <function _lambdifygenerated(T_3_2, R_3_2, psi_3_tOPL_2CP, psi_3_rOPL_2CP)>,\n",
       "     'psi_2_rOPL_1CPFunction': <function _lambdifygenerated(T_3_2, R_3_2, psi_3_tOPL_2CP, psi_3_rOPL_2CP)>}}}]}"
      ]
     },
     "execution_count": 10,
     "metadata": {},
     "output_type": "execute_result"
    }
   ],
   "source": [
    "transferFunctions"
   ]
  },
  {
   "cell_type": "code",
   "execution_count": null,
   "id": "848d163a-d2c7-4e75-9aa8-f59f50622d20",
   "metadata": {},
   "outputs": [],
   "source": []
  },
  {
   "cell_type": "code",
   "execution_count": 11,
   "id": "886419ef-8c40-435e-933d-07d582f4f6d6",
   "metadata": {},
   "outputs": [
    {
     "data": {
      "text/plain": [
       "{'from': <new_attempt.stateless.RegionSymbols at 0x7f87c55487c0>,\n",
       " 'to': <new_attempt.stateless.RegionSymbols at 0x7f87c55489d0>,\n",
       " 'matricies': {'inputs': ['T_1_0',\n",
       "   'R_1_0',\n",
       "   'psi_1_tOPL_0CP',\n",
       "   'psi_1_rOPL_0CP'],\n",
       "  'scatteringMatrix': Matrix([\n",
       "  [sqrt(conjugate(R_1_0)), sqrt(T_1_0)],\n",
       "  [sqrt(conjugate(T_1_0)), sqrt(R_1_0)]]),\n",
       "  'transferMatrix': Matrix([\n",
       "  [-sqrt(R_1_0)*sqrt(conjugate(R_1_0))/sqrt(conjugate(T_1_0)) + sqrt(T_1_0), sqrt(R_1_0)/sqrt(conjugate(T_1_0))],\n",
       "  [                          -sqrt(conjugate(R_1_0))/sqrt(conjugate(T_1_0)),           1/sqrt(conjugate(T_1_0))]]),\n",
       "  'outputs': ['psi_0_tOPL_N1CP', 'psi_0_rOPL_N1CP']},\n",
       " 'transfer': Eq(Matrix([\n",
       " [psi_0_t(L_-1)],\n",
       " [psi_0_r(L_-1)]]), Matrix([\n",
       " [sqrt(R_1_0)*psi_1_r(L_0)/sqrt(conjugate(T_1_0)) + (-sqrt(R_1_0)*sqrt(conjugate(R_1_0))/sqrt(conjugate(T_1_0)) + sqrt(T_1_0))*psi_1_t(L_0)],\n",
       " [                                         psi_1_r(L_0)/sqrt(conjugate(T_1_0)) - psi_1_t(L_0)*sqrt(conjugate(R_1_0))/sqrt(conjugate(T_1_0))]])),\n",
       " 'functionData': {'paramters': ['T_1_0',\n",
       "   'R_1_0',\n",
       "   'psi_1_tOPL_0CP',\n",
       "   'psi_1_rOPL_0CP'],\n",
       "  'functions': {'psi_0_tOPL_N1CPFunction': <function _lambdifygenerated(T_1_0, R_1_0, psi_1_tOPL_0CP, psi_1_rOPL_0CP)>,\n",
       "   'psi_0_rOPL_N1CPFunction': <function _lambdifygenerated(T_1_0, R_1_0, psi_1_tOPL_0CP, psi_1_rOPL_0CP)>}}}"
      ]
     },
     "execution_count": 11,
     "metadata": {},
     "output_type": "execute_result"
    }
   ],
   "source": [
    "transferFunctions[\"transfers\"][0]"
   ]
  },
  {
   "cell_type": "code",
   "execution_count": 12,
   "id": "1066cc2d-4ba9-4549-a5b7-4568de9ce6fe",
   "metadata": {},
   "outputs": [
    {
     "data": {
      "text/plain": [
       "{'from': <new_attempt.stateless.RegionSymbols at 0x7f87c5548160>,\n",
       " 'to': <new_attempt.stateless.RegionSymbols at 0x7f87c55487c0>,\n",
       " 'matricies': {'inputs': ['T_2_1',\n",
       "   'R_2_1',\n",
       "   'psi_2_tOPL_1CP',\n",
       "   'psi_2_rOPL_1CP'],\n",
       "  'scatteringMatrix': Matrix([\n",
       "  [sqrt(conjugate(R_2_1)), sqrt(T_2_1)],\n",
       "  [sqrt(conjugate(T_2_1)), sqrt(R_2_1)]]),\n",
       "  'transferMatrix': Matrix([\n",
       "  [-sqrt(R_2_1)*sqrt(conjugate(R_2_1))/sqrt(conjugate(T_2_1)) + sqrt(T_2_1), sqrt(R_2_1)/sqrt(conjugate(T_2_1))],\n",
       "  [                          -sqrt(conjugate(R_2_1))/sqrt(conjugate(T_2_1)),           1/sqrt(conjugate(T_2_1))]]),\n",
       "  'outputs': ['psi_1_tOPL_0CP', 'psi_1_rOPL_0CP']},\n",
       " 'transfer': Eq(Matrix([\n",
       " [psi_1_t(L_0)],\n",
       " [psi_1_r(L_0)]]), Matrix([\n",
       " [sqrt(R_2_1)*psi_2_r(L_1)/sqrt(conjugate(T_2_1)) + (-sqrt(R_2_1)*sqrt(conjugate(R_2_1))/sqrt(conjugate(T_2_1)) + sqrt(T_2_1))*psi_2_t(L_1)],\n",
       " [                                         psi_2_r(L_1)/sqrt(conjugate(T_2_1)) - psi_2_t(L_1)*sqrt(conjugate(R_2_1))/sqrt(conjugate(T_2_1))]])),\n",
       " 'functionData': {'paramters': ['T_2_1',\n",
       "   'R_2_1',\n",
       "   'psi_2_tOPL_1CP',\n",
       "   'psi_2_rOPL_1CP'],\n",
       "  'functions': {'psi_1_tOPL_0CPFunction': <function _lambdifygenerated(T_2_1, R_2_1, psi_2_tOPL_1CP, psi_2_rOPL_1CP)>,\n",
       "   'psi_1_rOPL_0CPFunction': <function _lambdifygenerated(T_2_1, R_2_1, psi_2_tOPL_1CP, psi_2_rOPL_1CP)>}}}"
      ]
     },
     "execution_count": 12,
     "metadata": {},
     "output_type": "execute_result"
    }
   ],
   "source": [
    "transferFunctions[\"transfers\"][1]"
   ]
  },
  {
   "cell_type": "code",
   "execution_count": 13,
   "id": "7d2149aa-ff73-4164-ad6c-980afa16753a",
   "metadata": {},
   "outputs": [
    {
     "data": {
      "text/plain": [
       "{'from': <new_attempt.stateless.RegionSymbols at 0x7f87c5548310>,\n",
       " 'to': <new_attempt.stateless.RegionSymbols at 0x7f87c5548160>,\n",
       " 'matricies': {'inputs': ['T_3_2',\n",
       "   'R_3_2',\n",
       "   'psi_3_tOPL_2CP',\n",
       "   'psi_3_rOPL_2CP'],\n",
       "  'scatteringMatrix': Matrix([\n",
       "  [sqrt(conjugate(R_3_2)), sqrt(T_3_2)],\n",
       "  [sqrt(conjugate(T_3_2)), sqrt(R_3_2)]]),\n",
       "  'transferMatrix': Matrix([\n",
       "  [-sqrt(R_3_2)*sqrt(conjugate(R_3_2))/sqrt(conjugate(T_3_2)) + sqrt(T_3_2), sqrt(R_3_2)/sqrt(conjugate(T_3_2))],\n",
       "  [                          -sqrt(conjugate(R_3_2))/sqrt(conjugate(T_3_2)),           1/sqrt(conjugate(T_3_2))]]),\n",
       "  'outputs': ['psi_2_tOPL_1CP', 'psi_2_rOPL_1CP']},\n",
       " 'transfer': Eq(Matrix([\n",
       " [psi_2_t(L_1)],\n",
       " [psi_2_r(L_1)]]), Matrix([\n",
       " [sqrt(R_3_2)*psi_3_r(L_2)/sqrt(conjugate(T_3_2)) + (-sqrt(R_3_2)*sqrt(conjugate(R_3_2))/sqrt(conjugate(T_3_2)) + sqrt(T_3_2))*psi_3_t(L_2)],\n",
       " [                                         psi_3_r(L_2)/sqrt(conjugate(T_3_2)) - psi_3_t(L_2)*sqrt(conjugate(R_3_2))/sqrt(conjugate(T_3_2))]])),\n",
       " 'functionData': {'paramters': ['T_3_2',\n",
       "   'R_3_2',\n",
       "   'psi_3_tOPL_2CP',\n",
       "   'psi_3_rOPL_2CP'],\n",
       "  'functions': {'psi_2_tOPL_1CPFunction': <function _lambdifygenerated(T_3_2, R_3_2, psi_3_tOPL_2CP, psi_3_rOPL_2CP)>,\n",
       "   'psi_2_rOPL_1CPFunction': <function _lambdifygenerated(T_3_2, R_3_2, psi_3_tOPL_2CP, psi_3_rOPL_2CP)>}}}"
      ]
     },
     "execution_count": 13,
     "metadata": {},
     "output_type": "execute_result"
    }
   ],
   "source": [
    "transferFunctions[\"transfers\"][2]"
   ]
  },
  {
   "cell_type": "code",
   "execution_count": 14,
   "id": "4dc3bbcc-422c-4ebe-a776-6d9e4417a56f",
   "metadata": {},
   "outputs": [
    {
     "data": {
      "text/plain": [
       "3"
      ]
     },
     "execution_count": 14,
     "metadata": {},
     "output_type": "execute_result"
    }
   ],
   "source": [
    "len(transferFunctions[\"transfers\"])"
   ]
  },
  {
   "cell_type": "code",
   "execution_count": null,
   "id": "6edef393-00a1-4757-8362-22f440f052c7",
   "metadata": {},
   "outputs": [],
   "source": []
  },
  {
   "cell_type": "code",
   "execution_count": 15,
   "id": "b01e6867-5175-43dd-b450-8980df1c96ba",
   "metadata": {},
   "outputs": [],
   "source": [
    "scatterCoefficients = [transferFunctions[\"transfers\"][ii]['matricies']['inputs'][0:2] for ii in range(len(transferFunctions[\"transfers\"]))]"
   ]
  },
  {
   "cell_type": "code",
   "execution_count": 16,
   "id": "6c25da17-1636-4e60-8b5c-4b1a6d535141",
   "metadata": {},
   "outputs": [],
   "source": [
    "scatterCoefficientsDict = [{parameters[0] : 1, parameters[1] : 1} for parameters in scatterCoefficients]"
   ]
  },
  {
   "cell_type": "code",
   "execution_count": null,
   "id": "e8c7988b-c069-4d7b-be7d-b4a84753a985",
   "metadata": {},
   "outputs": [],
   "source": []
  },
  {
   "cell_type": "code",
   "execution_count": 17,
   "id": "f1809a8b-ff3f-4898-a1a5-09221b5a94cc",
   "metadata": {},
   "outputs": [
    {
     "data": {
      "text/plain": [
       "{'psi_3_tOPL_2CP': 1,\n",
       " 'psi_3_rOPL_2CP': 1,\n",
       " 'psi_2_tOPL_1CP': 1.0,\n",
       " 'psi_2_rOPL_1CP': 0.0,\n",
       " 'psi_1_tOPL_0CP': 0.0,\n",
       " 'psi_1_rOPL_0CP': -1.0,\n",
       " 'psi_0_tOPL_N1CP': -1.0,\n",
       " 'psi_0_rOPL_N1CP': -1.0}"
      ]
     },
     "execution_count": 17,
     "metadata": {},
     "output_type": "execute_result"
    }
   ],
   "source": [
    "scatterCoefficientsDict = list(reversed(scatterCoefficientsDict))\n",
    "transfers = list(reversed(transferFunctions['transfers']))\n",
    "performTransfers(transfers, 1, 1, scatterCoefficientsDict)"
   ]
  },
  {
   "cell_type": "code",
   "execution_count": null,
   "id": "afa0e55e-8785-4e36-8d7c-114d3db6ff61",
   "metadata": {},
   "outputs": [],
   "source": []
  },
  {
   "cell_type": "code",
   "execution_count": null,
   "id": "48509a48-ade2-4e91-a297-e4788254f4d6",
   "metadata": {},
   "outputs": [],
   "source": []
  },
  {
   "cell_type": "code",
   "execution_count": null,
   "id": "210802c4-663d-442b-986d-df44cb05a588",
   "metadata": {},
   "outputs": [],
   "source": []
  },
  {
   "cell_type": "code",
   "execution_count": null,
   "id": "8548cef3-9d93-49f5-88a6-6758fee6fde0",
   "metadata": {},
   "outputs": [],
   "source": []
  },
  {
   "cell_type": "code",
   "execution_count": null,
   "id": "9bf8a2e9-baf4-4a00-b375-d192162e7581",
   "metadata": {},
   "outputs": [],
   "source": []
  },
  {
   "cell_type": "code",
   "execution_count": null,
   "id": "43055005-0226-4b05-8968-0af210ca2641",
   "metadata": {},
   "outputs": [],
   "source": []
  },
  {
   "cell_type": "code",
   "execution_count": null,
   "id": "85872037-40d6-411b-99b1-00cb6e3bfdc5",
   "metadata": {},
   "outputs": [],
   "source": []
  }
 ],
 "metadata": {
  "kernelspec": {
   "display_name": "Python 3 (ipykernel)",
   "language": "python",
   "name": "python3"
  },
  "language_info": {
   "codemirror_mode": {
    "name": "ipython",
    "version": 3
   },
   "file_extension": ".py",
   "mimetype": "text/x-python",
   "name": "python",
   "nbconvert_exporter": "python",
   "pygments_lexer": "ipython3",
   "version": "3.10.5"
  }
 },
 "nbformat": 4,
 "nbformat_minor": 5
}
