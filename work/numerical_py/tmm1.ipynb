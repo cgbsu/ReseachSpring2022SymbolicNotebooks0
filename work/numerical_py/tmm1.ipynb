{
 "cells": [
  {
   "cell_type": "code",
   "execution_count": 1,
   "id": "aae31641-3c09-4b67-b396-a33c0007db00",
   "metadata": {},
   "outputs": [],
   "source": [
    "from new_attempt.stateless import *"
   ]
  },
  {
   "cell_type": "code",
   "execution_count": 2,
   "id": "b249a0a2-4ab9-4ba5-800a-32bf35a37a3c",
   "metadata": {},
   "outputs": [],
   "source": [
    "from collections import OrderedDict"
   ]
  },
  {
   "cell_type": "code",
   "execution_count": null,
   "id": "106bbedf-4db0-41d9-8c48-5b42f5b8f978",
   "metadata": {},
   "outputs": [],
   "source": []
  },
  {
   "cell_type": "code",
   "execution_count": 3,
   "id": "a62a300f-865a-49b3-b604-de4fb2152fde",
   "metadata": {},
   "outputs": [],
   "source": [
    "regionSymbols = [RegionSymbols(ii) for ii in range(3)]"
   ]
  },
  {
   "cell_type": "code",
   "execution_count": null,
   "id": "96030439-ae7c-4c96-b7ba-446a8aaffbeb",
   "metadata": {},
   "outputs": [],
   "source": []
  },
  {
   "cell_type": "code",
   "execution_count": 4,
   "id": "968b35d4-1d33-49d0-8fc4-933acd5f470b",
   "metadata": {},
   "outputs": [],
   "source": [
    "t01 = generalTransfer(regionSymbols[1], regionSymbols[0])"
   ]
  },
  {
   "cell_type": "code",
   "execution_count": null,
   "id": "c5e6faa0-66c0-4142-98bc-163d9a54ced6",
   "metadata": {},
   "outputs": [],
   "source": []
  },
  {
   "cell_type": "code",
   "execution_count": 5,
   "id": "a7f76762-fea2-4b64-a25c-42e407fe88f7",
   "metadata": {
    "tags": []
   },
   "outputs": [
    {
     "data": {
      "text/plain": [
       "{'from': <new_attempt.stateless.RegionSymbols at 0x7f4e90c08100>,\n",
       " 'to': <new_attempt.stateless.RegionSymbols at 0x7f4e90fabd60>,\n",
       " 'matricies': {'inputs': ['T_1_0',\n",
       "   'R_1_0',\n",
       "   'psi_1_tOPL_0CP',\n",
       "   'psi_1_rOPL_0CP'],\n",
       "  'scatteringMatrix': Matrix([\n",
       "  [sqrt(conjugate(R_1_0)), sqrt(T_1_0)],\n",
       "  [sqrt(conjugate(T_1_0)), sqrt(R_1_0)]]),\n",
       "  'transferMatrix': Matrix([\n",
       "  [-sqrt(R_1_0)*sqrt(conjugate(R_1_0))/sqrt(conjugate(T_1_0)) + sqrt(T_1_0), sqrt(R_1_0)/sqrt(conjugate(T_1_0))],\n",
       "  [                          -sqrt(conjugate(R_1_0))/sqrt(conjugate(T_1_0)),           1/sqrt(conjugate(T_1_0))]]),\n",
       "  'outputs': ['psi_0_tOPL_N1CP', 'psi_0_rOPL_N1CP']},\n",
       " 'transfer': Eq(Matrix([\n",
       " [psi_0_t(L_-1)],\n",
       " [psi_0_r(L_-1)]]), Matrix([\n",
       " [sqrt(R_1_0)*psi_1_r(L_0)/sqrt(conjugate(T_1_0)) + (-sqrt(R_1_0)*sqrt(conjugate(R_1_0))/sqrt(conjugate(T_1_0)) + sqrt(T_1_0))*psi_1_t(L_0)],\n",
       " [                                         psi_1_r(L_0)/sqrt(conjugate(T_1_0)) - psi_1_t(L_0)*sqrt(conjugate(R_1_0))/sqrt(conjugate(T_1_0))]]))}"
      ]
     },
     "execution_count": 5,
     "metadata": {},
     "output_type": "execute_result"
    }
   ],
   "source": [
    "t01"
   ]
  },
  {
   "cell_type": "code",
   "execution_count": 6,
   "id": "58d5c743-aaad-4aed-bc15-3c027a33647f",
   "metadata": {},
   "outputs": [
    {
     "data": {
      "text/latex": [
       "$\\displaystyle \\left[\\begin{matrix}- \\frac{\\sqrt{R_{1 0}} \\sqrt{\\overline{R_{1 0}}}}{\\sqrt{\\overline{T_{1 0}}}} + \\sqrt{T_{1 0}} & \\frac{\\sqrt{R_{1 0}}}{\\sqrt{\\overline{T_{1 0}}}}\\\\- \\frac{\\sqrt{\\overline{R_{1 0}}}}{\\sqrt{\\overline{T_{1 0}}}} & \\frac{1}{\\sqrt{\\overline{T_{1 0}}}}\\end{matrix}\\right]$"
      ],
      "text/plain": [
       "Matrix([\n",
       "[-sqrt(R_1_0)*sqrt(conjugate(R_1_0))/sqrt(conjugate(T_1_0)) + sqrt(T_1_0), sqrt(R_1_0)/sqrt(conjugate(T_1_0))],\n",
       "[                          -sqrt(conjugate(R_1_0))/sqrt(conjugate(T_1_0)),           1/sqrt(conjugate(T_1_0))]])"
      ]
     },
     "execution_count": 6,
     "metadata": {},
     "output_type": "execute_result"
    }
   ],
   "source": [
    "t01['matricies']['transferMatrix']"
   ]
  },
  {
   "cell_type": "code",
   "execution_count": 7,
   "id": "38222b9c-53d9-448f-a53c-1933948c284b",
   "metadata": {},
   "outputs": [
    {
     "data": {
      "text/latex": [
       "$\\displaystyle \\left[\\begin{matrix}\\sqrt{\\overline{R_{1 0}}} & \\sqrt{T_{1 0}}\\\\\\sqrt{\\overline{T_{1 0}}} & \\sqrt{R_{1 0}}\\end{matrix}\\right]$"
      ],
      "text/plain": [
       "Matrix([\n",
       "[sqrt(conjugate(R_1_0)), sqrt(T_1_0)],\n",
       "[sqrt(conjugate(T_1_0)), sqrt(R_1_0)]])"
      ]
     },
     "execution_count": 7,
     "metadata": {},
     "output_type": "execute_result"
    }
   ],
   "source": [
    "t01['matricies']['scatteringMatrix']"
   ]
  },
  {
   "cell_type": "code",
   "execution_count": null,
   "id": "46ce419a-e89d-4cd5-8ae6-7d54fb72d99f",
   "metadata": {},
   "outputs": [],
   "source": []
  },
  {
   "cell_type": "code",
   "execution_count": 8,
   "id": "c76c88ae-65d8-4328-b463-a108da84e464",
   "metadata": {},
   "outputs": [],
   "source": [
    "t01Numerical = lambdifyTransfer(t01)"
   ]
  },
  {
   "cell_type": "code",
   "execution_count": 9,
   "id": "62d890ec-96c6-4843-996f-427e14eafec1",
   "metadata": {},
   "outputs": [
    {
     "data": {
      "text/plain": [
       "{'paramters': ['T_1_0', 'R_1_0', 'psi_1_tOPL_0CP', 'psi_1_rOPL_0CP'],\n",
       " 'functions': {'psi_0_tOPL_N1CPFunction': <function _lambdifygenerated(T_1_0, R_1_0, psi_1_tOPL_0CP, psi_1_rOPL_0CP)>,\n",
       "  'psi_0_rOPL_N1CPFunction': <function _lambdifygenerated(T_1_0, R_1_0, psi_1_tOPL_0CP, psi_1_rOPL_0CP)>}}"
      ]
     },
     "execution_count": 9,
     "metadata": {},
     "output_type": "execute_result"
    }
   ],
   "source": [
    "t01Numerical[\"functionData\"]"
   ]
  },
  {
   "cell_type": "code",
   "execution_count": null,
   "id": "dc74e1c2-c231-4963-9f29-65afa541e9aa",
   "metadata": {},
   "outputs": [],
   "source": []
  },
  {
   "cell_type": "code",
   "execution_count": 10,
   "id": "001d3949-89a6-4b00-a7e2-589afcff6793",
   "metadata": {},
   "outputs": [],
   "source": [
    "transferFunctions = generateGeneralTransferFunctions(3)"
   ]
  },
  {
   "cell_type": "code",
   "execution_count": 11,
   "id": "4ae1fd61-a915-4b13-976b-6dd1e5a5ee27",
   "metadata": {},
   "outputs": [
    {
     "data": {
      "text/plain": [
       "{'regionSymbols': [<new_attempt.stateless.RegionSymbols at 0x7f4e905818d0>,\n",
       "  <new_attempt.stateless.RegionSymbols at 0x7f4e90581750>,\n",
       "  <new_attempt.stateless.RegionSymbols at 0x7f4e905811e0>,\n",
       "  <new_attempt.stateless.RegionSymbols at 0x7f4e90c51210>,\n",
       "  <new_attempt.stateless.RegionSymbols at 0x7f4e90c51420>],\n",
       " 'transfers': [{'from': <new_attempt.stateless.RegionSymbols at 0x7f4e905811e0>,\n",
       "   'to': <new_attempt.stateless.RegionSymbols at 0x7f4e90581750>,\n",
       "   'matricies': {'inputs': ['T_1_0',\n",
       "     'R_1_0',\n",
       "     'psi_1_tOPL_0CP',\n",
       "     'psi_1_rOPL_0CP'],\n",
       "    'scatteringMatrix': Matrix([\n",
       "    [sqrt(conjugate(R_1_0)), sqrt(T_1_0)],\n",
       "    [sqrt(conjugate(T_1_0)), sqrt(R_1_0)]]),\n",
       "    'transferMatrix': Matrix([\n",
       "    [-sqrt(R_1_0)*sqrt(conjugate(R_1_0))/sqrt(conjugate(T_1_0)) + sqrt(T_1_0), sqrt(R_1_0)/sqrt(conjugate(T_1_0))],\n",
       "    [                          -sqrt(conjugate(R_1_0))/sqrt(conjugate(T_1_0)),           1/sqrt(conjugate(T_1_0))]]),\n",
       "    'outputs': ['psi_0_tOPL_N1CP', 'psi_0_rOPL_N1CP']},\n",
       "   'transfer': Eq(Matrix([\n",
       "   [psi_0_t(L_-1)],\n",
       "   [psi_0_r(L_-1)]]), Matrix([\n",
       "   [sqrt(R_1_0)*psi_1_r(L_0)/sqrt(conjugate(T_1_0)) + (-sqrt(R_1_0)*sqrt(conjugate(R_1_0))/sqrt(conjugate(T_1_0)) + sqrt(T_1_0))*psi_1_t(L_0)],\n",
       "   [                                         psi_1_r(L_0)/sqrt(conjugate(T_1_0)) - psi_1_t(L_0)*sqrt(conjugate(R_1_0))/sqrt(conjugate(T_1_0))]])),\n",
       "   'functionData': {'paramters': ['T_1_0',\n",
       "     'R_1_0',\n",
       "     'psi_1_tOPL_0CP',\n",
       "     'psi_1_rOPL_0CP'],\n",
       "    'functions': {'psi_0_tOPL_N1CPFunction': <function _lambdifygenerated(T_1_0, R_1_0, psi_1_tOPL_0CP, psi_1_rOPL_0CP)>,\n",
       "     'psi_0_rOPL_N1CPFunction': <function _lambdifygenerated(T_1_0, R_1_0, psi_1_tOPL_0CP, psi_1_rOPL_0CP)>}}},\n",
       "  {'from': <new_attempt.stateless.RegionSymbols at 0x7f4e90c51210>,\n",
       "   'to': <new_attempt.stateless.RegionSymbols at 0x7f4e905811e0>,\n",
       "   'matricies': {'inputs': ['T_2_1',\n",
       "     'R_2_1',\n",
       "     'psi_2_tOPL_1CP',\n",
       "     'psi_2_rOPL_1CP'],\n",
       "    'scatteringMatrix': Matrix([\n",
       "    [sqrt(conjugate(R_2_1)), sqrt(T_2_1)],\n",
       "    [sqrt(conjugate(T_2_1)), sqrt(R_2_1)]]),\n",
       "    'transferMatrix': Matrix([\n",
       "    [-sqrt(R_2_1)*sqrt(conjugate(R_2_1))/sqrt(conjugate(T_2_1)) + sqrt(T_2_1), sqrt(R_2_1)/sqrt(conjugate(T_2_1))],\n",
       "    [                          -sqrt(conjugate(R_2_1))/sqrt(conjugate(T_2_1)),           1/sqrt(conjugate(T_2_1))]]),\n",
       "    'outputs': ['psi_1_tOPL_0CP', 'psi_1_rOPL_0CP']},\n",
       "   'transfer': Eq(Matrix([\n",
       "   [psi_1_t(L_0)],\n",
       "   [psi_1_r(L_0)]]), Matrix([\n",
       "   [sqrt(R_2_1)*psi_2_r(L_1)/sqrt(conjugate(T_2_1)) + (-sqrt(R_2_1)*sqrt(conjugate(R_2_1))/sqrt(conjugate(T_2_1)) + sqrt(T_2_1))*psi_2_t(L_1)],\n",
       "   [                                         psi_2_r(L_1)/sqrt(conjugate(T_2_1)) - psi_2_t(L_1)*sqrt(conjugate(R_2_1))/sqrt(conjugate(T_2_1))]])),\n",
       "   'functionData': {'paramters': ['T_2_1',\n",
       "     'R_2_1',\n",
       "     'psi_2_tOPL_1CP',\n",
       "     'psi_2_rOPL_1CP'],\n",
       "    'functions': {'psi_1_tOPL_0CPFunction': <function _lambdifygenerated(T_2_1, R_2_1, psi_2_tOPL_1CP, psi_2_rOPL_1CP)>,\n",
       "     'psi_1_rOPL_0CPFunction': <function _lambdifygenerated(T_2_1, R_2_1, psi_2_tOPL_1CP, psi_2_rOPL_1CP)>}}},\n",
       "  {'from': <new_attempt.stateless.RegionSymbols at 0x7f4e90c51420>,\n",
       "   'to': <new_attempt.stateless.RegionSymbols at 0x7f4e90c51210>,\n",
       "   'matricies': {'inputs': ['T_3_2',\n",
       "     'R_3_2',\n",
       "     'psi_3_tOPL_2CP',\n",
       "     'psi_3_rOPL_2CP'],\n",
       "    'scatteringMatrix': Matrix([\n",
       "    [sqrt(conjugate(R_3_2)), sqrt(T_3_2)],\n",
       "    [sqrt(conjugate(T_3_2)), sqrt(R_3_2)]]),\n",
       "    'transferMatrix': Matrix([\n",
       "    [-sqrt(R_3_2)*sqrt(conjugate(R_3_2))/sqrt(conjugate(T_3_2)) + sqrt(T_3_2), sqrt(R_3_2)/sqrt(conjugate(T_3_2))],\n",
       "    [                          -sqrt(conjugate(R_3_2))/sqrt(conjugate(T_3_2)),           1/sqrt(conjugate(T_3_2))]]),\n",
       "    'outputs': ['psi_2_tOPL_1CP', 'psi_2_rOPL_1CP']},\n",
       "   'transfer': Eq(Matrix([\n",
       "   [psi_2_t(L_1)],\n",
       "   [psi_2_r(L_1)]]), Matrix([\n",
       "   [sqrt(R_3_2)*psi_3_r(L_2)/sqrt(conjugate(T_3_2)) + (-sqrt(R_3_2)*sqrt(conjugate(R_3_2))/sqrt(conjugate(T_3_2)) + sqrt(T_3_2))*psi_3_t(L_2)],\n",
       "   [                                         psi_3_r(L_2)/sqrt(conjugate(T_3_2)) - psi_3_t(L_2)*sqrt(conjugate(R_3_2))/sqrt(conjugate(T_3_2))]])),\n",
       "   'functionData': {'paramters': ['T_3_2',\n",
       "     'R_3_2',\n",
       "     'psi_3_tOPL_2CP',\n",
       "     'psi_3_rOPL_2CP'],\n",
       "    'functions': {'psi_2_tOPL_1CPFunction': <function _lambdifygenerated(T_3_2, R_3_2, psi_3_tOPL_2CP, psi_3_rOPL_2CP)>,\n",
       "     'psi_2_rOPL_1CPFunction': <function _lambdifygenerated(T_3_2, R_3_2, psi_3_tOPL_2CP, psi_3_rOPL_2CP)>}}}],\n",
       " 'transferFunctions': [{'from': <new_attempt.stateless.RegionSymbols at 0x7f4e905811e0>,\n",
       "   'to': <new_attempt.stateless.RegionSymbols at 0x7f4e90581750>,\n",
       "   'matricies': {'inputs': ['T_1_0',\n",
       "     'R_1_0',\n",
       "     'psi_1_tOPL_0CP',\n",
       "     'psi_1_rOPL_0CP'],\n",
       "    'scatteringMatrix': Matrix([\n",
       "    [sqrt(conjugate(R_1_0)), sqrt(T_1_0)],\n",
       "    [sqrt(conjugate(T_1_0)), sqrt(R_1_0)]]),\n",
       "    'transferMatrix': Matrix([\n",
       "    [-sqrt(R_1_0)*sqrt(conjugate(R_1_0))/sqrt(conjugate(T_1_0)) + sqrt(T_1_0), sqrt(R_1_0)/sqrt(conjugate(T_1_0))],\n",
       "    [                          -sqrt(conjugate(R_1_0))/sqrt(conjugate(T_1_0)),           1/sqrt(conjugate(T_1_0))]]),\n",
       "    'outputs': ['psi_0_tOPL_N1CP', 'psi_0_rOPL_N1CP']},\n",
       "   'transfer': Eq(Matrix([\n",
       "   [psi_0_t(L_-1)],\n",
       "   [psi_0_r(L_-1)]]), Matrix([\n",
       "   [sqrt(R_1_0)*psi_1_r(L_0)/sqrt(conjugate(T_1_0)) + (-sqrt(R_1_0)*sqrt(conjugate(R_1_0))/sqrt(conjugate(T_1_0)) + sqrt(T_1_0))*psi_1_t(L_0)],\n",
       "   [                                         psi_1_r(L_0)/sqrt(conjugate(T_1_0)) - psi_1_t(L_0)*sqrt(conjugate(R_1_0))/sqrt(conjugate(T_1_0))]])),\n",
       "   'functionData': {'paramters': ['T_1_0',\n",
       "     'R_1_0',\n",
       "     'psi_1_tOPL_0CP',\n",
       "     'psi_1_rOPL_0CP'],\n",
       "    'functions': {'psi_0_tOPL_N1CPFunction': <function _lambdifygenerated(T_1_0, R_1_0, psi_1_tOPL_0CP, psi_1_rOPL_0CP)>,\n",
       "     'psi_0_rOPL_N1CPFunction': <function _lambdifygenerated(T_1_0, R_1_0, psi_1_tOPL_0CP, psi_1_rOPL_0CP)>}}},\n",
       "  {'from': <new_attempt.stateless.RegionSymbols at 0x7f4e90c51210>,\n",
       "   'to': <new_attempt.stateless.RegionSymbols at 0x7f4e905811e0>,\n",
       "   'matricies': {'inputs': ['T_2_1',\n",
       "     'R_2_1',\n",
       "     'psi_2_tOPL_1CP',\n",
       "     'psi_2_rOPL_1CP'],\n",
       "    'scatteringMatrix': Matrix([\n",
       "    [sqrt(conjugate(R_2_1)), sqrt(T_2_1)],\n",
       "    [sqrt(conjugate(T_2_1)), sqrt(R_2_1)]]),\n",
       "    'transferMatrix': Matrix([\n",
       "    [-sqrt(R_2_1)*sqrt(conjugate(R_2_1))/sqrt(conjugate(T_2_1)) + sqrt(T_2_1), sqrt(R_2_1)/sqrt(conjugate(T_2_1))],\n",
       "    [                          -sqrt(conjugate(R_2_1))/sqrt(conjugate(T_2_1)),           1/sqrt(conjugate(T_2_1))]]),\n",
       "    'outputs': ['psi_1_tOPL_0CP', 'psi_1_rOPL_0CP']},\n",
       "   'transfer': Eq(Matrix([\n",
       "   [psi_1_t(L_0)],\n",
       "   [psi_1_r(L_0)]]), Matrix([\n",
       "   [sqrt(R_2_1)*psi_2_r(L_1)/sqrt(conjugate(T_2_1)) + (-sqrt(R_2_1)*sqrt(conjugate(R_2_1))/sqrt(conjugate(T_2_1)) + sqrt(T_2_1))*psi_2_t(L_1)],\n",
       "   [                                         psi_2_r(L_1)/sqrt(conjugate(T_2_1)) - psi_2_t(L_1)*sqrt(conjugate(R_2_1))/sqrt(conjugate(T_2_1))]])),\n",
       "   'functionData': {'paramters': ['T_2_1',\n",
       "     'R_2_1',\n",
       "     'psi_2_tOPL_1CP',\n",
       "     'psi_2_rOPL_1CP'],\n",
       "    'functions': {'psi_1_tOPL_0CPFunction': <function _lambdifygenerated(T_2_1, R_2_1, psi_2_tOPL_1CP, psi_2_rOPL_1CP)>,\n",
       "     'psi_1_rOPL_0CPFunction': <function _lambdifygenerated(T_2_1, R_2_1, psi_2_tOPL_1CP, psi_2_rOPL_1CP)>}}},\n",
       "  {'from': <new_attempt.stateless.RegionSymbols at 0x7f4e90c51420>,\n",
       "   'to': <new_attempt.stateless.RegionSymbols at 0x7f4e90c51210>,\n",
       "   'matricies': {'inputs': ['T_3_2',\n",
       "     'R_3_2',\n",
       "     'psi_3_tOPL_2CP',\n",
       "     'psi_3_rOPL_2CP'],\n",
       "    'scatteringMatrix': Matrix([\n",
       "    [sqrt(conjugate(R_3_2)), sqrt(T_3_2)],\n",
       "    [sqrt(conjugate(T_3_2)), sqrt(R_3_2)]]),\n",
       "    'transferMatrix': Matrix([\n",
       "    [-sqrt(R_3_2)*sqrt(conjugate(R_3_2))/sqrt(conjugate(T_3_2)) + sqrt(T_3_2), sqrt(R_3_2)/sqrt(conjugate(T_3_2))],\n",
       "    [                          -sqrt(conjugate(R_3_2))/sqrt(conjugate(T_3_2)),           1/sqrt(conjugate(T_3_2))]]),\n",
       "    'outputs': ['psi_2_tOPL_1CP', 'psi_2_rOPL_1CP']},\n",
       "   'transfer': Eq(Matrix([\n",
       "   [psi_2_t(L_1)],\n",
       "   [psi_2_r(L_1)]]), Matrix([\n",
       "   [sqrt(R_3_2)*psi_3_r(L_2)/sqrt(conjugate(T_3_2)) + (-sqrt(R_3_2)*sqrt(conjugate(R_3_2))/sqrt(conjugate(T_3_2)) + sqrt(T_3_2))*psi_3_t(L_2)],\n",
       "   [                                         psi_3_r(L_2)/sqrt(conjugate(T_3_2)) - psi_3_t(L_2)*sqrt(conjugate(R_3_2))/sqrt(conjugate(T_3_2))]])),\n",
       "   'functionData': {'paramters': ['T_3_2',\n",
       "     'R_3_2',\n",
       "     'psi_3_tOPL_2CP',\n",
       "     'psi_3_rOPL_2CP'],\n",
       "    'functions': {'psi_2_tOPL_1CPFunction': <function _lambdifygenerated(T_3_2, R_3_2, psi_3_tOPL_2CP, psi_3_rOPL_2CP)>,\n",
       "     'psi_2_rOPL_1CPFunction': <function _lambdifygenerated(T_3_2, R_3_2, psi_3_tOPL_2CP, psi_3_rOPL_2CP)>}}}]}"
      ]
     },
     "execution_count": 11,
     "metadata": {},
     "output_type": "execute_result"
    }
   ],
   "source": [
    "transferFunctions"
   ]
  },
  {
   "cell_type": "code",
   "execution_count": null,
   "id": "848d163a-d2c7-4e75-9aa8-f59f50622d20",
   "metadata": {},
   "outputs": [],
   "source": []
  },
  {
   "cell_type": "code",
   "execution_count": 12,
   "id": "886419ef-8c40-435e-933d-07d582f4f6d6",
   "metadata": {},
   "outputs": [
    {
     "data": {
      "text/plain": [
       "{'from': <new_attempt.stateless.RegionSymbols at 0x7f4e905811e0>,\n",
       " 'to': <new_attempt.stateless.RegionSymbols at 0x7f4e90581750>,\n",
       " 'matricies': {'inputs': ['T_1_0',\n",
       "   'R_1_0',\n",
       "   'psi_1_tOPL_0CP',\n",
       "   'psi_1_rOPL_0CP'],\n",
       "  'scatteringMatrix': Matrix([\n",
       "  [sqrt(conjugate(R_1_0)), sqrt(T_1_0)],\n",
       "  [sqrt(conjugate(T_1_0)), sqrt(R_1_0)]]),\n",
       "  'transferMatrix': Matrix([\n",
       "  [-sqrt(R_1_0)*sqrt(conjugate(R_1_0))/sqrt(conjugate(T_1_0)) + sqrt(T_1_0), sqrt(R_1_0)/sqrt(conjugate(T_1_0))],\n",
       "  [                          -sqrt(conjugate(R_1_0))/sqrt(conjugate(T_1_0)),           1/sqrt(conjugate(T_1_0))]]),\n",
       "  'outputs': ['psi_0_tOPL_N1CP', 'psi_0_rOPL_N1CP']},\n",
       " 'transfer': Eq(Matrix([\n",
       " [psi_0_t(L_-1)],\n",
       " [psi_0_r(L_-1)]]), Matrix([\n",
       " [sqrt(R_1_0)*psi_1_r(L_0)/sqrt(conjugate(T_1_0)) + (-sqrt(R_1_0)*sqrt(conjugate(R_1_0))/sqrt(conjugate(T_1_0)) + sqrt(T_1_0))*psi_1_t(L_0)],\n",
       " [                                         psi_1_r(L_0)/sqrt(conjugate(T_1_0)) - psi_1_t(L_0)*sqrt(conjugate(R_1_0))/sqrt(conjugate(T_1_0))]])),\n",
       " 'functionData': {'paramters': ['T_1_0',\n",
       "   'R_1_0',\n",
       "   'psi_1_tOPL_0CP',\n",
       "   'psi_1_rOPL_0CP'],\n",
       "  'functions': {'psi_0_tOPL_N1CPFunction': <function _lambdifygenerated(T_1_0, R_1_0, psi_1_tOPL_0CP, psi_1_rOPL_0CP)>,\n",
       "   'psi_0_rOPL_N1CPFunction': <function _lambdifygenerated(T_1_0, R_1_0, psi_1_tOPL_0CP, psi_1_rOPL_0CP)>}}}"
      ]
     },
     "execution_count": 12,
     "metadata": {},
     "output_type": "execute_result"
    }
   ],
   "source": [
    "transferFunctions[\"transfers\"][0]"
   ]
  },
  {
   "cell_type": "code",
   "execution_count": 13,
   "id": "1066cc2d-4ba9-4549-a5b7-4568de9ce6fe",
   "metadata": {},
   "outputs": [
    {
     "data": {
      "text/plain": [
       "{'from': <new_attempt.stateless.RegionSymbols at 0x7f4e90c51210>,\n",
       " 'to': <new_attempt.stateless.RegionSymbols at 0x7f4e905811e0>,\n",
       " 'matricies': {'inputs': ['T_2_1',\n",
       "   'R_2_1',\n",
       "   'psi_2_tOPL_1CP',\n",
       "   'psi_2_rOPL_1CP'],\n",
       "  'scatteringMatrix': Matrix([\n",
       "  [sqrt(conjugate(R_2_1)), sqrt(T_2_1)],\n",
       "  [sqrt(conjugate(T_2_1)), sqrt(R_2_1)]]),\n",
       "  'transferMatrix': Matrix([\n",
       "  [-sqrt(R_2_1)*sqrt(conjugate(R_2_1))/sqrt(conjugate(T_2_1)) + sqrt(T_2_1), sqrt(R_2_1)/sqrt(conjugate(T_2_1))],\n",
       "  [                          -sqrt(conjugate(R_2_1))/sqrt(conjugate(T_2_1)),           1/sqrt(conjugate(T_2_1))]]),\n",
       "  'outputs': ['psi_1_tOPL_0CP', 'psi_1_rOPL_0CP']},\n",
       " 'transfer': Eq(Matrix([\n",
       " [psi_1_t(L_0)],\n",
       " [psi_1_r(L_0)]]), Matrix([\n",
       " [sqrt(R_2_1)*psi_2_r(L_1)/sqrt(conjugate(T_2_1)) + (-sqrt(R_2_1)*sqrt(conjugate(R_2_1))/sqrt(conjugate(T_2_1)) + sqrt(T_2_1))*psi_2_t(L_1)],\n",
       " [                                         psi_2_r(L_1)/sqrt(conjugate(T_2_1)) - psi_2_t(L_1)*sqrt(conjugate(R_2_1))/sqrt(conjugate(T_2_1))]])),\n",
       " 'functionData': {'paramters': ['T_2_1',\n",
       "   'R_2_1',\n",
       "   'psi_2_tOPL_1CP',\n",
       "   'psi_2_rOPL_1CP'],\n",
       "  'functions': {'psi_1_tOPL_0CPFunction': <function _lambdifygenerated(T_2_1, R_2_1, psi_2_tOPL_1CP, psi_2_rOPL_1CP)>,\n",
       "   'psi_1_rOPL_0CPFunction': <function _lambdifygenerated(T_2_1, R_2_1, psi_2_tOPL_1CP, psi_2_rOPL_1CP)>}}}"
      ]
     },
     "execution_count": 13,
     "metadata": {},
     "output_type": "execute_result"
    }
   ],
   "source": [
    "transferFunctions[\"transfers\"][1]"
   ]
  },
  {
   "cell_type": "code",
   "execution_count": 14,
   "id": "7d2149aa-ff73-4164-ad6c-980afa16753a",
   "metadata": {},
   "outputs": [
    {
     "data": {
      "text/plain": [
       "{'from': <new_attempt.stateless.RegionSymbols at 0x7f4e90c51420>,\n",
       " 'to': <new_attempt.stateless.RegionSymbols at 0x7f4e90c51210>,\n",
       " 'matricies': {'inputs': ['T_3_2',\n",
       "   'R_3_2',\n",
       "   'psi_3_tOPL_2CP',\n",
       "   'psi_3_rOPL_2CP'],\n",
       "  'scatteringMatrix': Matrix([\n",
       "  [sqrt(conjugate(R_3_2)), sqrt(T_3_2)],\n",
       "  [sqrt(conjugate(T_3_2)), sqrt(R_3_2)]]),\n",
       "  'transferMatrix': Matrix([\n",
       "  [-sqrt(R_3_2)*sqrt(conjugate(R_3_2))/sqrt(conjugate(T_3_2)) + sqrt(T_3_2), sqrt(R_3_2)/sqrt(conjugate(T_3_2))],\n",
       "  [                          -sqrt(conjugate(R_3_2))/sqrt(conjugate(T_3_2)),           1/sqrt(conjugate(T_3_2))]]),\n",
       "  'outputs': ['psi_2_tOPL_1CP', 'psi_2_rOPL_1CP']},\n",
       " 'transfer': Eq(Matrix([\n",
       " [psi_2_t(L_1)],\n",
       " [psi_2_r(L_1)]]), Matrix([\n",
       " [sqrt(R_3_2)*psi_3_r(L_2)/sqrt(conjugate(T_3_2)) + (-sqrt(R_3_2)*sqrt(conjugate(R_3_2))/sqrt(conjugate(T_3_2)) + sqrt(T_3_2))*psi_3_t(L_2)],\n",
       " [                                         psi_3_r(L_2)/sqrt(conjugate(T_3_2)) - psi_3_t(L_2)*sqrt(conjugate(R_3_2))/sqrt(conjugate(T_3_2))]])),\n",
       " 'functionData': {'paramters': ['T_3_2',\n",
       "   'R_3_2',\n",
       "   'psi_3_tOPL_2CP',\n",
       "   'psi_3_rOPL_2CP'],\n",
       "  'functions': {'psi_2_tOPL_1CPFunction': <function _lambdifygenerated(T_3_2, R_3_2, psi_3_tOPL_2CP, psi_3_rOPL_2CP)>,\n",
       "   'psi_2_rOPL_1CPFunction': <function _lambdifygenerated(T_3_2, R_3_2, psi_3_tOPL_2CP, psi_3_rOPL_2CP)>}}}"
      ]
     },
     "execution_count": 14,
     "metadata": {},
     "output_type": "execute_result"
    }
   ],
   "source": [
    "transferFunctions[\"transfers\"][2]"
   ]
  },
  {
   "cell_type": "code",
   "execution_count": 15,
   "id": "4dc3bbcc-422c-4ebe-a776-6d9e4417a56f",
   "metadata": {},
   "outputs": [
    {
     "data": {
      "text/plain": [
       "3"
      ]
     },
     "execution_count": 15,
     "metadata": {},
     "output_type": "execute_result"
    }
   ],
   "source": [
    "len(transferFunctions[\"transfers\"])"
   ]
  },
  {
   "cell_type": "code",
   "execution_count": null,
   "id": "6edef393-00a1-4757-8362-22f440f052c7",
   "metadata": {},
   "outputs": [],
   "source": []
  },
  {
   "cell_type": "code",
   "execution_count": 16,
   "id": "74fdb7f2-3349-4cb3-903b-ddec5b26a282",
   "metadata": {},
   "outputs": [],
   "source": [
    "testTransfer = transferFunctions[\"transfers\"][0]"
   ]
  },
  {
   "cell_type": "code",
   "execution_count": 17,
   "id": "45cd05ff-6953-4392-b6d0-2c7868e59a13",
   "metadata": {},
   "outputs": [],
   "source": [
    "testParameters = testTransfer['matricies']['inputs']"
   ]
  },
  {
   "cell_type": "code",
   "execution_count": 18,
   "id": "86f2e3a5-22d6-4aa4-b5ae-55cb228673b5",
   "metadata": {},
   "outputs": [],
   "source": [
    "testArguments = { parameter : 0 for parameter in testParameters }"
   ]
  },
  {
   "cell_type": "code",
   "execution_count": 19,
   "id": "aec312c6-b7b4-4124-82d8-739583b3181a",
   "metadata": {},
   "outputs": [
    {
     "data": {
      "text/plain": [
       "{'arguments': {'T_1_0': 0,\n",
       "  'R_1_0': 0,\n",
       "  'psi_1_tOPL_0CP': 0,\n",
       "  'psi_1_rOPL_0CP': 0},\n",
       " 'remainingParameters': []}"
      ]
     },
     "execution_count": 19,
     "metadata": {},
     "output_type": "execute_result"
    }
   ],
   "source": [
    "satisfyParameterDict(testParameters, testArguments)"
   ]
  },
  {
   "cell_type": "code",
   "execution_count": null,
   "id": "31215f96-4f31-4b2e-9a2c-0178decb4f54",
   "metadata": {},
   "outputs": [],
   "source": []
  },
  {
   "cell_type": "code",
   "execution_count": null,
   "id": "fe7c00dc-31ac-4bd1-9998-1fa59fdf78d8",
   "metadata": {},
   "outputs": [],
   "source": []
  },
  {
   "cell_type": "code",
   "execution_count": null,
   "id": "b01e6867-5175-43dd-b450-8980df1c96ba",
   "metadata": {},
   "outputs": [],
   "source": []
  },
  {
   "cell_type": "code",
   "execution_count": null,
   "id": "6c25da17-1636-4e60-8b5c-4b1a6d535141",
   "metadata": {},
   "outputs": [],
   "source": []
  },
  {
   "cell_type": "code",
   "execution_count": 20,
   "id": "9a2a84de-1a47-4dfe-93c0-ae3b3fd63fb2",
   "metadata": {},
   "outputs": [
    {
     "data": {
      "text/plain": [
       "'T_1_0'"
      ]
     },
     "execution_count": 20,
     "metadata": {},
     "output_type": "execute_result"
    }
   ],
   "source": [
    "testParameters[0]"
   ]
  },
  {
   "cell_type": "code",
   "execution_count": 21,
   "id": "5fa42be3-ae25-444c-87ad-a8074571f523",
   "metadata": {},
   "outputs": [
    {
     "data": {
      "text/plain": [
       "'R_1_0'"
      ]
     },
     "execution_count": 21,
     "metadata": {},
     "output_type": "execute_result"
    }
   ],
   "source": [
    "testParameters[1]"
   ]
  },
  {
   "cell_type": "code",
   "execution_count": 22,
   "id": "f1809a8b-ff3f-4898-a1a5-09221b5a94cc",
   "metadata": {},
   "outputs": [
    {
     "name": "stderr",
     "output_type": "stream",
     "text": [
      "<lambdifygenerated-3>:2: RuntimeWarning: invalid value encountered in double_scalars\n",
      "  return sqrt(R_1_0)*psi_1_rOPL_0CP/sqrt(conjugate(T_1_0)) + psi_1_tOPL_0CP*(-sqrt(R_1_0)*sqrt(conjugate(R_1_0))/sqrt(conjugate(T_1_0)) + sqrt(T_1_0))\n",
      "<lambdifygenerated-4>:2: RuntimeWarning: divide by zero encountered in double_scalars\n",
      "  return psi_1_rOPL_0CP/sqrt(conjugate(T_1_0)) - psi_1_tOPL_0CP*sqrt(conjugate(R_1_0))/sqrt(conjugate(T_1_0))\n",
      "<lambdifygenerated-4>:2: RuntimeWarning: invalid value encountered in double_scalars\n",
      "  return psi_1_rOPL_0CP/sqrt(conjugate(T_1_0)) - psi_1_tOPL_0CP*sqrt(conjugate(R_1_0))/sqrt(conjugate(T_1_0))\n"
     ]
    },
    {
     "data": {
      "text/plain": [
       "{'psi_0_tOPL_N1CP': nan, 'psi_0_rOPL_N1CP': nan}"
      ]
     },
     "execution_count": 22,
     "metadata": {},
     "output_type": "execute_result"
    }
   ],
   "source": [
    "startTransfers([testTransfer], 1, 1, { testParameters[0] : 0, testParameters[1] : 0 })"
   ]
  },
  {
   "cell_type": "code",
   "execution_count": 23,
   "id": "f6fc5ee1-0ece-405e-9af6-491430b09ed5",
   "metadata": {},
   "outputs": [
    {
     "data": {
      "text/plain": [
       "2.6568542494923792"
      ]
     },
     "execution_count": 23,
     "metadata": {},
     "output_type": "execute_result"
    }
   ],
   "source": [
    "testTransfer['functionData']['functions']['psi_0_tOPL_N1CPFunction'](1, 2, 3, 4)"
   ]
  },
  {
   "cell_type": "code",
   "execution_count": 24,
   "id": "4ca91ea0-a989-467d-bba6-957f32e8404e",
   "metadata": {},
   "outputs": [
    {
     "name": "stdout",
     "output_type": "stream",
     "text": [
      "Help on function _lambdifygenerated:\n",
      "\n",
      "_lambdifygenerated(T_1_0, R_1_0, psi_1_tOPL_0CP, psi_1_rOPL_0CP)\n",
      "    Created with lambdify. Signature:\n",
      "    \n",
      "    func(arg_0, arg_1, arg_2, arg_3)\n",
      "    \n",
      "    Expression:\n",
      "    \n",
      "    sqrt(R_1_0)*psi_1_rOPL_0CP/sqrt(conjugate(T_1_0)) +...\n",
      "    \n",
      "    Source code:\n",
      "    \n",
      "    def _lambdifygenerated(T_1_0, R_1_0, psi_1_tOPL_0CP, psi_1_rOPL_0CP):\n",
      "        return sqrt(R_1_0)*psi_1_rOPL_0CP/sqrt(conjugate(T_1_0)) + psi_1_tOPL_0CP*(-sqrt(R_1_0)*sqrt(conjugate(R_1_0))/sqrt(conjugate(T_1_0)) + sqrt(T_1_0))\n",
      "    \n",
      "    \n",
      "    Imported modules:\n",
      "\n"
     ]
    }
   ],
   "source": [
    "help(testTransfer['functionData']['functions']['psi_0_tOPL_N1CPFunction'])"
   ]
  },
  {
   "cell_type": "code",
   "execution_count": 25,
   "id": "a9e21fc6-dece-4f8a-9697-c01e72d90804",
   "metadata": {},
   "outputs": [
    {
     "data": {
      "text/plain": [
       "{'psi_0_tOPL_N1CPFunction': <function _lambdifygenerated(T_1_0, R_1_0, psi_1_tOPL_0CP, psi_1_rOPL_0CP)>,\n",
       " 'psi_0_rOPL_N1CPFunction': <function _lambdifygenerated(T_1_0, R_1_0, psi_1_tOPL_0CP, psi_1_rOPL_0CP)>}"
      ]
     },
     "execution_count": 25,
     "metadata": {},
     "output_type": "execute_result"
    }
   ],
   "source": [
    "testTransfer['functionData']['functions']"
   ]
  },
  {
   "cell_type": "code",
   "execution_count": null,
   "id": "48509a48-ade2-4e91-a297-e4788254f4d6",
   "metadata": {},
   "outputs": [],
   "source": []
  }
 ],
 "metadata": {
  "kernelspec": {
   "display_name": "Python 3 (ipykernel)",
   "language": "python",
   "name": "python3"
  },
  "language_info": {
   "codemirror_mode": {
    "name": "ipython",
    "version": 3
   },
   "file_extension": ".py",
   "mimetype": "text/x-python",
   "name": "python",
   "nbconvert_exporter": "python",
   "pygments_lexer": "ipython3",
   "version": "3.10.4"
  }
 },
 "nbformat": 4,
 "nbformat_minor": 5
}
