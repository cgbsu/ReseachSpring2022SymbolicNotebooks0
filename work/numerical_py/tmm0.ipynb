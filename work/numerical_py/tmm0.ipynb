{
 "cells": [
  {
   "cell_type": "code",
   "execution_count": 1,
   "id": "aae31641-3c09-4b67-b396-a33c0007db00",
   "metadata": {},
   "outputs": [],
   "source": [
    "from new_attempt.stateless import *"
   ]
  },
  {
   "cell_type": "code",
   "execution_count": null,
   "id": "106bbedf-4db0-41d9-8c48-5b42f5b8f978",
   "metadata": {},
   "outputs": [],
   "source": []
  },
  {
   "cell_type": "code",
   "execution_count": 2,
   "id": "771bf6d5-e03e-49a0-b591-edda330cb19d",
   "metadata": {},
   "outputs": [],
   "source": [
    "symbols = [RegionSymbols(ii) for ii in range(3)]"
   ]
  },
  {
   "cell_type": "code",
   "execution_count": null,
   "id": "45f1f423-4007-43cd-a88a-b974ab540e27",
   "metadata": {},
   "outputs": [],
   "source": []
  },
  {
   "cell_type": "code",
   "execution_count": 3,
   "id": "0d7216fe-38b4-4942-bcaf-d95acf07922d",
   "metadata": {},
   "outputs": [],
   "source": [
    "transmission, reflection = makeCoefficentsFromHarmonicConstants(symbols[0], symbols[1])"
   ]
  },
  {
   "cell_type": "code",
   "execution_count": 4,
   "id": "a0e091c5-d193-470b-881e-4cb90b344c6e",
   "metadata": {},
   "outputs": [
    {
     "data": {
      "text/latex": [
       "$\\displaystyle \\frac{2 k_{0}}{k_{0} + k_{1}}$"
      ],
      "text/plain": [
       "2*k_0/(k_0 + k_1)"
      ]
     },
     "execution_count": 4,
     "metadata": {},
     "output_type": "execute_result"
    }
   ],
   "source": [
    "transmission"
   ]
  },
  {
   "cell_type": "code",
   "execution_count": 5,
   "id": "a87df0fb-35ff-4605-a198-541a1a0d9885",
   "metadata": {},
   "outputs": [
    {
     "data": {
      "text/latex": [
       "$\\displaystyle \\frac{k_{0} - k_{1}}{k_{0} + k_{1}}$"
      ],
      "text/plain": [
       "(k_0 - k_1)/(k_0 + k_1)"
      ]
     },
     "execution_count": 5,
     "metadata": {},
     "output_type": "execute_result"
    }
   ],
   "source": [
    "reflection"
   ]
  },
  {
   "cell_type": "code",
   "execution_count": 6,
   "id": "61bc9262-9425-447f-bbcb-6482e5e3aae5",
   "metadata": {},
   "outputs": [
    {
     "data": {
      "text/latex": [
       "$\\displaystyle \\sqrt{\\frac{k_{0} - k_{1}}{k_{0} + k_{1}}}$"
      ],
      "text/plain": [
       "sqrt((k_0 - k_1)/(k_0 + k_1))"
      ]
     },
     "execution_count": 6,
     "metadata": {},
     "output_type": "execute_result"
    }
   ],
   "source": [
    "removeAbsAndConjugate(sp.sqrt(reflection))"
   ]
  },
  {
   "cell_type": "code",
   "execution_count": 7,
   "id": "395f3344-742b-485d-b8d4-135ba80d2dc2",
   "metadata": {},
   "outputs": [
    {
     "data": {
      "text/latex": [
       "$\\displaystyle \\sqrt{\\frac{k_{0} - k_{1}}{k_{0} + k_{1}}}$"
      ],
      "text/plain": [
       "sqrt((k_0 - k_1)/(k_0 + k_1))"
      ]
     },
     "execution_count": 7,
     "metadata": {},
     "output_type": "execute_result"
    }
   ],
   "source": [
    "removeAbs(sp.sqrt(reflection))"
   ]
  },
  {
   "cell_type": "code",
   "execution_count": null,
   "id": "7e4cfd85-6d29-40d6-a705-ee132ccbe083",
   "metadata": {},
   "outputs": [],
   "source": []
  },
  {
   "cell_type": "code",
   "execution_count": null,
   "id": "fd49a865-1e3b-4b37-914c-1901957e970a",
   "metadata": {},
   "outputs": [],
   "source": []
  },
  {
   "cell_type": "code",
   "execution_count": 8,
   "id": "40403e11-064d-462f-920b-7f6d72ee8d82",
   "metadata": {},
   "outputs": [],
   "source": [
    "S_01 = makeScatteringMatrix(transmission, reflection)"
   ]
  },
  {
   "cell_type": "code",
   "execution_count": 9,
   "id": "74f61ad1-89d8-46c0-a292-d38d8fff6672",
   "metadata": {},
   "outputs": [
    {
     "data": {
      "text/latex": [
       "$\\displaystyle \\left[\\begin{matrix}\\sqrt{\\frac{k_{0} - k_{1}}{k_{0} + k_{1}}} & \\sqrt{2} \\sqrt{\\frac{k_{0}}{k_{0} + k_{1}}}\\\\\\sqrt{2} \\sqrt{\\frac{k_{0}}{k_{0} + k_{1}}} & \\sqrt{\\frac{k_{0} - k_{1}}{k_{0} + k_{1}}}\\end{matrix}\\right]$"
      ],
      "text/plain": [
       "Matrix([\n",
       "[sqrt((k_0 - k_1)/(k_0 + k_1)), sqrt(2)*sqrt(k_0/(k_0 + k_1))],\n",
       "[sqrt(2)*sqrt(k_0/(k_0 + k_1)), sqrt((k_0 - k_1)/(k_0 + k_1))]])"
      ]
     },
     "execution_count": 9,
     "metadata": {},
     "output_type": "execute_result"
    }
   ],
   "source": [
    "S_01"
   ]
  },
  {
   "cell_type": "code",
   "execution_count": 10,
   "id": "9bc32f8b-eb1e-4466-827f-22728a55cdf8",
   "metadata": {},
   "outputs": [
    {
     "data": {
      "text/latex": [
       "$\\displaystyle \\left[\\begin{matrix}\\sqrt{\\frac{k_{0} - k_{1}}{k_{0} + k_{1}}}\\end{matrix}\\right]$"
      ],
      "text/plain": [
       "Matrix([[sqrt((k_0 - k_1)/(k_0 + k_1))]])"
      ]
     },
     "execution_count": 10,
     "metadata": {},
     "output_type": "execute_result"
    }
   ],
   "source": [
    "S_01.row(0).col(0)"
   ]
  },
  {
   "cell_type": "code",
   "execution_count": 11,
   "id": "3f8c4049-2cd3-41d6-a3e6-bcf766278d46",
   "metadata": {},
   "outputs": [],
   "source": [
    "M_01 = makeTransmissionMatrix(S_01)"
   ]
  },
  {
   "cell_type": "code",
   "execution_count": 12,
   "id": "be870632-27d8-4409-a867-6cca23720e3d",
   "metadata": {},
   "outputs": [
    {
     "data": {
      "text/latex": [
       "$\\displaystyle \\left[\\begin{matrix}\\sqrt{2} \\sqrt{\\frac{k_{0}}{k_{0} + k_{1}}} - \\frac{\\sqrt{2} \\left(k_{0} - k_{1}\\right)}{2 \\sqrt{\\frac{k_{0}}{k_{0} + k_{1}}} \\left(k_{0} + k_{1}\\right)} & \\frac{\\sqrt{2} \\sqrt{\\frac{k_{0} - k_{1}}{k_{0} + k_{1}}}}{2 \\sqrt{\\frac{k_{0}}{k_{0} + k_{1}}}}\\\\- \\frac{\\sqrt{2} \\sqrt{\\frac{k_{0} - k_{1}}{k_{0} + k_{1}}}}{2 \\sqrt{\\frac{k_{0}}{k_{0} + k_{1}}}} & \\frac{\\sqrt{2}}{2 \\sqrt{\\frac{k_{0}}{k_{0} + k_{1}}}}\\end{matrix}\\right]$"
      ],
      "text/plain": [
       "Matrix([\n",
       "[sqrt(2)*sqrt(k_0/(k_0 + k_1)) - sqrt(2)*(k_0 - k_1)/(2*sqrt(k_0/(k_0 + k_1))*(k_0 + k_1)), sqrt(2)*sqrt((k_0 - k_1)/(k_0 + k_1))/(2*sqrt(k_0/(k_0 + k_1)))],\n",
       "[                         -sqrt(2)*sqrt((k_0 - k_1)/(k_0 + k_1))/(2*sqrt(k_0/(k_0 + k_1))),                               sqrt(2)/(2*sqrt(k_0/(k_0 + k_1)))]])"
      ]
     },
     "execution_count": 12,
     "metadata": {},
     "output_type": "execute_result"
    }
   ],
   "source": [
    "M_01"
   ]
  },
  {
   "cell_type": "code",
   "execution_count": 13,
   "id": "697074a0-65e1-496b-922d-cffe2896b890",
   "metadata": {},
   "outputs": [],
   "source": [
    "M_01 = M_01.refine()"
   ]
  },
  {
   "cell_type": "code",
   "execution_count": 14,
   "id": "af96bc6d-e4e1-4ff7-974f-412afe16744f",
   "metadata": {},
   "outputs": [
    {
     "data": {
      "text/latex": [
       "$\\displaystyle \\left[\\begin{matrix}\\sqrt{2} \\sqrt{\\frac{k_{0}}{k_{0} + k_{1}}} - \\frac{\\sqrt{2} \\left(k_{0} - k_{1}\\right)}{2 \\sqrt{\\frac{k_{0}}{k_{0} + k_{1}}} \\left(k_{0} + k_{1}\\right)} & \\frac{\\sqrt{2} \\sqrt{\\frac{k_{0} - k_{1}}{k_{0} + k_{1}}}}{2 \\sqrt{\\frac{k_{0}}{k_{0} + k_{1}}}}\\\\- \\frac{\\sqrt{2} \\sqrt{\\frac{k_{0} - k_{1}}{k_{0} + k_{1}}}}{2 \\sqrt{\\frac{k_{0}}{k_{0} + k_{1}}}} & \\frac{\\sqrt{2}}{2 \\sqrt{\\frac{k_{0}}{k_{0} + k_{1}}}}\\end{matrix}\\right]$"
      ],
      "text/plain": [
       "Matrix([\n",
       "[sqrt(2)*sqrt(k_0/(k_0 + k_1)) - sqrt(2)*(k_0 - k_1)/(2*sqrt(k_0/(k_0 + k_1))*(k_0 + k_1)), sqrt(2)*sqrt((k_0 - k_1)/(k_0 + k_1))/(2*sqrt(k_0/(k_0 + k_1)))],\n",
       "[                         -sqrt(2)*sqrt((k_0 - k_1)/(k_0 + k_1))/(2*sqrt(k_0/(k_0 + k_1))),                               sqrt(2)/(2*sqrt(k_0/(k_0 + k_1)))]])"
      ]
     },
     "execution_count": 14,
     "metadata": {},
     "output_type": "execute_result"
    }
   ],
   "source": [
    "M_01"
   ]
  },
  {
   "cell_type": "code",
   "execution_count": null,
   "id": "1e968017-b581-420b-9eff-fe66b23ce1d8",
   "metadata": {},
   "outputs": [],
   "source": []
  },
  {
   "cell_type": "code",
   "execution_count": null,
   "id": "4698deb6-1be2-49b5-9481-2af60d5396eb",
   "metadata": {},
   "outputs": [],
   "source": []
  },
  {
   "cell_type": "code",
   "execution_count": 15,
   "id": "5a92dfe3-28fe-481b-aae4-1855f4d9691a",
   "metadata": {},
   "outputs": [
    {
     "data": {
      "text/latex": [
       "$\\displaystyle \\left[\\begin{matrix}\\psi_{{0}_t}{\\left(0 \\right)}\\\\\\psi_{{0}_r}{\\left(0 \\right)}\\end{matrix}\\right]$"
      ],
      "text/plain": [
       "Matrix([\n",
       "[\\psi_{{0}_t}(0)],\n",
       "[\\psi_{{0}_r}(0)]])"
      ]
     },
     "execution_count": 15,
     "metadata": {},
     "output_type": "execute_result"
    }
   ],
   "source": [
    "makeBarrierMatrix(symbols[0])"
   ]
  },
  {
   "cell_type": "code",
   "execution_count": null,
   "id": "1f0c7486-f187-4e37-8029-32c42d13e23a",
   "metadata": {},
   "outputs": [],
   "source": []
  },
  {
   "cell_type": "code",
   "execution_count": null,
   "id": "6bb5a430-c96a-429c-91c9-2bf26408796c",
   "metadata": {},
   "outputs": [],
   "source": []
  },
  {
   "cell_type": "code",
   "execution_count": 16,
   "id": "87eb9ef7-c58d-4c41-b511-35ae85fa8008",
   "metadata": {},
   "outputs": [],
   "source": [
    "transfers = [transfer(symbols[ii], symbols[ii + 1]) for ii in range(2)]"
   ]
  },
  {
   "cell_type": "code",
   "execution_count": 17,
   "id": "bf4bbef8-449e-40c5-9bb8-e3d85c54f230",
   "metadata": {},
   "outputs": [
    {
     "data": {
      "text/latex": [
       "$\\displaystyle \\left[\\begin{matrix}\\psi_{{0}_t}{\\left(0 \\right)}\\\\\\psi_{{0}_r}{\\left(0 \\right)}\\end{matrix}\\right] = \\left[\\begin{matrix}\\left(\\sqrt{2} \\sqrt{\\frac{k_{0}}{k_{0} + k_{1}}} - \\frac{\\sqrt{2} \\left(k_{0} - k_{1}\\right)}{2 \\sqrt{\\frac{k_{0}}{k_{0} + k_{1}}} \\left(k_{0} + k_{1}\\right)}\\right) \\psi_{{1}_t}{\\left(L_{0} \\right)} + \\frac{\\sqrt{2} \\sqrt{\\frac{k_{0} - k_{1}}{k_{0} + k_{1}}} \\psi_{{1}_r}{\\left(L_{0} \\right)}}{2 \\sqrt{\\frac{k_{0}}{k_{0} + k_{1}}}}\\\\- \\frac{\\sqrt{2} \\sqrt{\\frac{k_{0} - k_{1}}{k_{0} + k_{1}}} \\psi_{{1}_t}{\\left(L_{0} \\right)}}{2 \\sqrt{\\frac{k_{0}}{k_{0} + k_{1}}}} + \\frac{\\sqrt{2} \\psi_{{1}_r}{\\left(L_{0} \\right)}}{2 \\sqrt{\\frac{k_{0}}{k_{0} + k_{1}}}}\\end{matrix}\\right]$"
      ],
      "text/plain": [
       "Eq(Matrix([\n",
       "[\\psi_{{0}_t}(0)],\n",
       "[\\psi_{{0}_r}(0)]]), Matrix([\n",
       "[(sqrt(2)*sqrt(k_0/(k_0 + k_1)) - sqrt(2)*(k_0 - k_1)/(2*sqrt(k_0/(k_0 + k_1))*(k_0 + k_1)))*\\psi_{{1}_t}(L_0) + sqrt(2)*sqrt((k_0 - k_1)/(k_0 + k_1))*\\psi_{{1}_r}(L_0)/(2*sqrt(k_0/(k_0 + k_1)))],\n",
       "[                                                         -sqrt(2)*sqrt((k_0 - k_1)/(k_0 + k_1))*\\psi_{{1}_t}(L_0)/(2*sqrt(k_0/(k_0 + k_1))) + sqrt(2)*\\psi_{{1}_r}(L_0)/(2*sqrt(k_0/(k_0 + k_1)))]]))"
      ]
     },
     "execution_count": 17,
     "metadata": {},
     "output_type": "execute_result"
    }
   ],
   "source": [
    "transfers[0]"
   ]
  },
  {
   "cell_type": "code",
   "execution_count": 18,
   "id": "b18a9e14-dbe6-44b3-99c5-46c8ec412321",
   "metadata": {},
   "outputs": [
    {
     "data": {
      "text/latex": [
       "$\\displaystyle \\left[\\begin{matrix}\\psi_{{1}_t}{\\left(L_{0} \\right)}\\\\\\psi_{{1}_r}{\\left(L_{0} \\right)}\\end{matrix}\\right] = \\left[\\begin{matrix}\\left(\\sqrt{2} \\sqrt{\\frac{k_{1}}{k_{1} + k_{2}}} - \\frac{\\sqrt{2} \\left(k_{1} - k_{2}\\right)}{2 \\sqrt{\\frac{k_{1}}{k_{1} + k_{2}}} \\left(k_{1} + k_{2}\\right)}\\right) \\psi_{{2}_t}{\\left(L_{1} \\right)} + \\frac{\\sqrt{2} \\sqrt{\\frac{k_{1} - k_{2}}{k_{1} + k_{2}}} \\psi_{{2}_r}{\\left(L_{1} \\right)}}{2 \\sqrt{\\frac{k_{1}}{k_{1} + k_{2}}}}\\\\- \\frac{\\sqrt{2} \\sqrt{\\frac{k_{1} - k_{2}}{k_{1} + k_{2}}} \\psi_{{2}_t}{\\left(L_{1} \\right)}}{2 \\sqrt{\\frac{k_{1}}{k_{1} + k_{2}}}} + \\frac{\\sqrt{2} \\psi_{{2}_r}{\\left(L_{1} \\right)}}{2 \\sqrt{\\frac{k_{1}}{k_{1} + k_{2}}}}\\end{matrix}\\right]$"
      ],
      "text/plain": [
       "Eq(Matrix([\n",
       "[\\psi_{{1}_t}(L_0)],\n",
       "[\\psi_{{1}_r}(L_0)]]), Matrix([\n",
       "[(sqrt(2)*sqrt(k_1/(k_1 + k_2)) - sqrt(2)*(k_1 - k_2)/(2*sqrt(k_1/(k_1 + k_2))*(k_1 + k_2)))*\\psi_{{2}_t}(L_1) + sqrt(2)*sqrt((k_1 - k_2)/(k_1 + k_2))*\\psi_{{2}_r}(L_1)/(2*sqrt(k_1/(k_1 + k_2)))],\n",
       "[                                                         -sqrt(2)*sqrt((k_1 - k_2)/(k_1 + k_2))*\\psi_{{2}_t}(L_1)/(2*sqrt(k_1/(k_1 + k_2))) + sqrt(2)*\\psi_{{2}_r}(L_1)/(2*sqrt(k_1/(k_1 + k_2)))]]))"
      ]
     },
     "execution_count": 18,
     "metadata": {},
     "output_type": "execute_result"
    }
   ],
   "source": [
    "transfers[1]"
   ]
  },
  {
   "cell_type": "code",
   "execution_count": null,
   "id": "cce6ef0b-ceef-4d6d-bc3e-441b8a50cb12",
   "metadata": {},
   "outputs": [],
   "source": []
  },
  {
   "cell_type": "code",
   "execution_count": 19,
   "id": "2a198b70-05bc-4c16-a0e4-9313612c6e08",
   "metadata": {},
   "outputs": [],
   "source": [
    "baseNames = ['S', 'E']\n",
    "simulationSymbols = [parameterizeTransferForSimulation(symbols[ii + 1], transfers[ii], baseNames[ii]) for ii in range(2)]"
   ]
  },
  {
   "cell_type": "code",
   "execution_count": 20,
   "id": "2c401421-6d6e-41a8-8d0f-e3534c59602e",
   "metadata": {},
   "outputs": [
    {
     "data": {
      "text/latex": [
       "$\\displaystyle \\left[\\begin{matrix}\\psi_{{0}_t}{\\left(0 \\right)}\\\\\\psi_{{0}_r}{\\left(0 \\right)}\\end{matrix}\\right] = \\left[\\begin{matrix}\\frac{\\sqrt{2} S_{r} \\sqrt{\\frac{k_{0} - k_{1}}{k_{0} + k_{1}}}}{2 \\sqrt{\\frac{k_{0}}{k_{0} + k_{1}}}} + S_{t} \\left(\\sqrt{2} \\sqrt{\\frac{k_{0}}{k_{0} + k_{1}}} - \\frac{\\sqrt{2} \\left(k_{0} - k_{1}\\right)}{2 \\sqrt{\\frac{k_{0}}{k_{0} + k_{1}}} \\left(k_{0} + k_{1}\\right)}\\right)\\\\\\frac{\\sqrt{2} S_{r}}{2 \\sqrt{\\frac{k_{0}}{k_{0} + k_{1}}}} - \\frac{\\sqrt{2} S_{t} \\sqrt{\\frac{k_{0} - k_{1}}{k_{0} + k_{1}}}}{2 \\sqrt{\\frac{k_{0}}{k_{0} + k_{1}}}}\\end{matrix}\\right]$"
      ],
      "text/plain": [
       "Eq(Matrix([\n",
       "[\\psi_{{0}_t}(0)],\n",
       "[\\psi_{{0}_r}(0)]]), Matrix([\n",
       "[sqrt(2)*S_r*sqrt((k_0 - k_1)/(k_0 + k_1))/(2*sqrt(k_0/(k_0 + k_1))) + S_t*(sqrt(2)*sqrt(k_0/(k_0 + k_1)) - sqrt(2)*(k_0 - k_1)/(2*sqrt(k_0/(k_0 + k_1))*(k_0 + k_1)))],\n",
       "[                                                          sqrt(2)*S_r/(2*sqrt(k_0/(k_0 + k_1))) - sqrt(2)*S_t*sqrt((k_0 - k_1)/(k_0 + k_1))/(2*sqrt(k_0/(k_0 + k_1)))]]))"
      ]
     },
     "execution_count": 20,
     "metadata": {},
     "output_type": "execute_result"
    }
   ],
   "source": [
    "simulationSymbols[0][1]"
   ]
  },
  {
   "cell_type": "code",
   "execution_count": 21,
   "id": "6f7dfa21-0e02-475d-bfdf-276e29ed2920",
   "metadata": {},
   "outputs": [
    {
     "data": {
      "text/latex": [
       "$\\displaystyle \\left[\\begin{matrix}\\psi_{{1}_t}{\\left(L_{0} \\right)}\\\\\\psi_{{1}_r}{\\left(L_{0} \\right)}\\end{matrix}\\right] = \\left[\\begin{matrix}\\frac{\\sqrt{2} E_{r} \\sqrt{\\frac{k_{1} - k_{2}}{k_{1} + k_{2}}}}{2 \\sqrt{\\frac{k_{1}}{k_{1} + k_{2}}}} + E_{t} \\left(\\sqrt{2} \\sqrt{\\frac{k_{1}}{k_{1} + k_{2}}} - \\frac{\\sqrt{2} \\left(k_{1} - k_{2}\\right)}{2 \\sqrt{\\frac{k_{1}}{k_{1} + k_{2}}} \\left(k_{1} + k_{2}\\right)}\\right)\\\\\\frac{\\sqrt{2} E_{r}}{2 \\sqrt{\\frac{k_{1}}{k_{1} + k_{2}}}} - \\frac{\\sqrt{2} E_{t} \\sqrt{\\frac{k_{1} - k_{2}}{k_{1} + k_{2}}}}{2 \\sqrt{\\frac{k_{1}}{k_{1} + k_{2}}}}\\end{matrix}\\right]$"
      ],
      "text/plain": [
       "Eq(Matrix([\n",
       "[\\psi_{{1}_t}(L_0)],\n",
       "[\\psi_{{1}_r}(L_0)]]), Matrix([\n",
       "[sqrt(2)*E_r*sqrt((k_1 - k_2)/(k_1 + k_2))/(2*sqrt(k_1/(k_1 + k_2))) + E_t*(sqrt(2)*sqrt(k_1/(k_1 + k_2)) - sqrt(2)*(k_1 - k_2)/(2*sqrt(k_1/(k_1 + k_2))*(k_1 + k_2)))],\n",
       "[                                                          sqrt(2)*E_r/(2*sqrt(k_1/(k_1 + k_2))) - sqrt(2)*E_t*sqrt((k_1 - k_2)/(k_1 + k_2))/(2*sqrt(k_1/(k_1 + k_2)))]]))"
      ]
     },
     "execution_count": 21,
     "metadata": {},
     "output_type": "execute_result"
    }
   ],
   "source": [
    "simulationSymbols[1][1]"
   ]
  },
  {
   "cell_type": "code",
   "execution_count": null,
   "id": "0f7d6292-0c6a-4045-b1f4-7614b7d140c9",
   "metadata": {},
   "outputs": [],
   "source": []
  },
  {
   "cell_type": "code",
   "execution_count": 22,
   "id": "d2f1f6a9-407d-4b96-b29d-24e36c3bbe9d",
   "metadata": {},
   "outputs": [],
   "source": [
    "harmonicConstants = [region.harmonicConstant for region in symbols]"
   ]
  },
  {
   "cell_type": "code",
   "execution_count": 23,
   "id": "9191d903-685b-42d2-b583-36e21a354c29",
   "metadata": {},
   "outputs": [
    {
     "data": {
      "text/latex": [
       "$\\displaystyle S_{t}$"
      ],
      "text/plain": [
       "S_t"
      ]
     },
     "metadata": {},
     "output_type": "display_data"
    },
    {
     "data": {
      "text/latex": [
       "$\\displaystyle \\frac{\\sqrt{2} S_{r} \\sqrt{\\frac{k_{0} - k_{1}}{k_{0} + k_{1}}}}{2 \\sqrt{\\frac{k_{0}}{k_{0} + k_{1}}}} + S_{t} \\left(\\sqrt{2} \\sqrt{\\frac{k_{0}}{k_{0} + k_{1}}} - \\frac{\\sqrt{2} \\left(k_{0} - k_{1}\\right)}{2 \\sqrt{\\frac{k_{0}}{k_{0} + k_{1}}} \\left(k_{0} + k_{1}\\right)}\\right)$"
      ],
      "text/plain": [
       "sqrt(2)*S_r*sqrt((k_0 - k_1)/(k_0 + k_1))/(2*sqrt(k_0/(k_0 + k_1))) + S_t*(sqrt(2)*sqrt(k_0/(k_0 + k_1)) - sqrt(2)*(k_0 - k_1)/(2*sqrt(k_0/(k_0 + k_1))*(k_0 + k_1)))"
      ]
     },
     "metadata": {},
     "output_type": "display_data"
    },
    {
     "data": {
      "text/latex": [
       "$\\displaystyle S_{r}$"
      ],
      "text/plain": [
       "S_r"
      ]
     },
     "metadata": {},
     "output_type": "display_data"
    },
    {
     "data": {
      "text/latex": [
       "$\\displaystyle \\frac{\\sqrt{2} S_{r}}{2 \\sqrt{\\frac{k_{0}}{k_{0} + k_{1}}}} - \\frac{\\sqrt{2} S_{t} \\sqrt{\\frac{k_{0} - k_{1}}{k_{0} + k_{1}}}}{2 \\sqrt{\\frac{k_{0}}{k_{0} + k_{1}}}}$"
      ],
      "text/plain": [
       "sqrt(2)*S_r/(2*sqrt(k_0/(k_0 + k_1))) - sqrt(2)*S_t*sqrt((k_0 - k_1)/(k_0 + k_1))/(2*sqrt(k_0/(k_0 + k_1)))"
      ]
     },
     "metadata": {},
     "output_type": "display_data"
    },
    {
     "data": {
      "text/latex": [
       "$\\displaystyle E_{t}$"
      ],
      "text/plain": [
       "E_t"
      ]
     },
     "metadata": {},
     "output_type": "display_data"
    },
    {
     "data": {
      "text/latex": [
       "$\\displaystyle \\frac{\\sqrt{2} E_{r} \\sqrt{\\frac{k_{1} - k_{2}}{k_{1} + k_{2}}}}{2 \\sqrt{\\frac{k_{1}}{k_{1} + k_{2}}}} + E_{t} \\left(\\sqrt{2} \\sqrt{\\frac{k_{1}}{k_{1} + k_{2}}} - \\frac{\\sqrt{2} \\left(k_{1} - k_{2}\\right)}{2 \\sqrt{\\frac{k_{1}}{k_{1} + k_{2}}} \\left(k_{1} + k_{2}\\right)}\\right)$"
      ],
      "text/plain": [
       "sqrt(2)*E_r*sqrt((k_1 - k_2)/(k_1 + k_2))/(2*sqrt(k_1/(k_1 + k_2))) + E_t*(sqrt(2)*sqrt(k_1/(k_1 + k_2)) - sqrt(2)*(k_1 - k_2)/(2*sqrt(k_1/(k_1 + k_2))*(k_1 + k_2)))"
      ]
     },
     "metadata": {},
     "output_type": "display_data"
    },
    {
     "data": {
      "text/latex": [
       "$\\displaystyle E_{r}$"
      ],
      "text/plain": [
       "E_r"
      ]
     },
     "metadata": {},
     "output_type": "display_data"
    },
    {
     "data": {
      "text/latex": [
       "$\\displaystyle \\frac{\\sqrt{2} E_{r}}{2 \\sqrt{\\frac{k_{1}}{k_{1} + k_{2}}}} - \\frac{\\sqrt{2} E_{t} \\sqrt{\\frac{k_{1} - k_{2}}{k_{1} + k_{2}}}}{2 \\sqrt{\\frac{k_{1}}{k_{1} + k_{2}}}}$"
      ],
      "text/plain": [
       "sqrt(2)*E_r/(2*sqrt(k_1/(k_1 + k_2))) - sqrt(2)*E_t*sqrt((k_1 - k_2)/(k_1 + k_2))/(2*sqrt(k_1/(k_1 + k_2)))"
      ]
     },
     "metadata": {},
     "output_type": "display_data"
    }
   ],
   "source": [
    "regionFunctions = [lambdifyTransfer(simulationSymbols[ii], harmonicConstants) for ii in range(2)]"
   ]
  },
  {
   "cell_type": "code",
   "execution_count": null,
   "id": "ac998292-bf8e-415d-9261-0255e497d25a",
   "metadata": {},
   "outputs": [],
   "source": []
  },
  {
   "cell_type": "code",
   "execution_count": 24,
   "id": "0d95fd62-ba8e-4022-8b0c-ed35b877d11b",
   "metadata": {},
   "outputs": [],
   "source": [
    "equations = [constantPotentialTimeIndependentSchroedingerEquation1D(symbols[ii]) for ii in range(3)]"
   ]
  },
  {
   "cell_type": "code",
   "execution_count": 25,
   "id": "6fe851d1-651a-4fb2-b2a9-9c63def9f1f8",
   "metadata": {},
   "outputs": [
    {
     "data": {
      "text/latex": [
       "$\\displaystyle V_{0} \\psi_{0}{\\left(x \\right)} - \\frac{\\hbar^{2} \\frac{d^{2}}{d x^{2}} \\psi_{0}{\\left(x \\right)}}{2 \\text{m}} = E \\psi_{0}{\\left(x \\right)}$"
      ],
      "text/plain": [
       "Eq(V_0*\\psi_0(x) - hbar**2*Derivative(\\psi_0(x), (x, 2))/(2*m), E*\\psi_0(x))"
      ]
     },
     "execution_count": 25,
     "metadata": {},
     "output_type": "execute_result"
    }
   ],
   "source": [
    "equations[0]"
   ]
  },
  {
   "cell_type": "code",
   "execution_count": 26,
   "id": "c401d85f-42fe-44a7-8876-2e065f47df4a",
   "metadata": {},
   "outputs": [],
   "source": [
    "harmonicConstants = [extractHarmonicConstant(symbols[ii], equations[ii]) for ii in range(3)]"
   ]
  },
  {
   "cell_type": "code",
   "execution_count": 27,
   "id": "3de9ba02-97cd-47fc-a9a2-21909763821a",
   "metadata": {},
   "outputs": [
    {
     "data": {
      "text/latex": [
       "$\\displaystyle k_{0} = \\frac{\\sqrt{2} \\sqrt{- E + V_{0}} \\sqrt{\\text{m}}}{\\hbar}$"
      ],
      "text/plain": [
       "Eq(k_0, sqrt(2)*sqrt(m)*sqrt(-E + V_0)/hbar)"
      ]
     },
     "execution_count": 27,
     "metadata": {},
     "output_type": "execute_result"
    }
   ],
   "source": [
    "harmonicConstants[0]"
   ]
  },
  {
   "cell_type": "code",
   "execution_count": 28,
   "id": "011e89c6-3104-444f-91be-85de5c636776",
   "metadata": {},
   "outputs": [],
   "source": [
    "def generateHarmonicConstantCalculator(symbols : RegionSymbols, harmonicConstant, energySymbol): \n",
    "    return sp.lambdify([energySymbol, symbols.constantPotential, symbols.mass], harmonicConstant.rhs)"
   ]
  },
  {
   "cell_type": "code",
   "execution_count": 29,
   "id": "15c48fb0-e380-41dd-9f94-b1f67fad9216",
   "metadata": {},
   "outputs": [],
   "source": [
    "harmonicConstantFunctions = [generateHarmonicConstantCalculator(symbols[ii], harmonicConstants[ii], TOTAL_ENERGY_SYMBOL) for ii in range(3)]"
   ]
  },
  {
   "cell_type": "code",
   "execution_count": 30,
   "id": "20d794fb-1b2c-4418-9719-c31ca9525fcb",
   "metadata": {},
   "outputs": [
    {
     "data": {
      "text/plain": [
       "<function _lambdifygenerated(E, V_0, m)>"
      ]
     },
     "execution_count": 30,
     "metadata": {},
     "output_type": "execute_result"
    }
   ],
   "source": [
    "harmonicConstantFunctions[0]"
   ]
  },
  {
   "cell_type": "code",
   "execution_count": 31,
   "id": "3f3e971e-8821-44c4-b69a-6ff16863841b",
   "metadata": {},
   "outputs": [],
   "source": [
    "def createRegionInitialConditions(constantPotential, mass, totalEnergy): \n",
    "    return (constantPotential, mass, totalEnergy)"
   ]
  },
  {
   "cell_type": "code",
   "execution_count": 32,
   "id": "3215e69d-cf98-4ad4-a5f5-f2f04a991871",
   "metadata": {},
   "outputs": [],
   "source": [
    "regionInitialConditions = [\n",
    "        createRegionInitialConditions(3, 1, .5), \n",
    "        createRegionInitialConditions(2, 1, .5), \n",
    "        createRegionInitialConditions(1, 1, .5)\n",
    "    ]"
   ]
  },
  {
   "cell_type": "code",
   "execution_count": 33,
   "id": "3c582058-934a-461a-9380-0002784762ff",
   "metadata": {},
   "outputs": [],
   "source": [
    "harmonicConstantValues = [harmonicConstantFunctions[ii](\n",
    "        regionInitialConditions[ii][2], \n",
    "        regionInitialConditions[ii][0], \n",
    "        regionInitialConditions[ii][1]\n",
    "    ) for ii in range(len(harmonicConstantFunctions))]"
   ]
  },
  {
   "cell_type": "code",
   "execution_count": 34,
   "id": "fdc7f8c7-ea3f-4c4f-9232-d94ee81fa14e",
   "metadata": {},
   "outputs": [
    {
     "data": {
      "text/plain": [
       "[2.120356678572281e+34, 1.6424212208260234e+34, 9.482523339666586e+33]"
      ]
     },
     "execution_count": 34,
     "metadata": {},
     "output_type": "execute_result"
    }
   ],
   "source": [
    "harmonicConstantValues"
   ]
  },
  {
   "cell_type": "code",
   "execution_count": null,
   "id": "f2891e82-93de-4499-9444-fa035714c92d",
   "metadata": {},
   "outputs": [],
   "source": []
  },
  {
   "cell_type": "code",
   "execution_count": 35,
   "id": "6df0f8aa-d8a1-4a9e-942e-0403d338d632",
   "metadata": {},
   "outputs": [],
   "source": [
    "transferValues = []\n",
    "results = calculateTransfers(regionFunctions, [1, -1], transferValues, harmonicConstantValues)"
   ]
  },
  {
   "cell_type": "code",
   "execution_count": 36,
   "id": "8dc133cf-38b9-438b-983a-f969226240b5",
   "metadata": {},
   "outputs": [
    {
     "data": {
      "text/plain": [
       "[(0.42837299059613254, -1.3477746773580983),\n",
       " (-0.04894993663135172, -1.4133661605202619)]"
      ]
     },
     "execution_count": 36,
     "metadata": {},
     "output_type": "execute_result"
    }
   ],
   "source": [
    "transferValues"
   ]
  },
  {
   "cell_type": "code",
   "execution_count": null,
   "id": "37bafb9a-9bd9-40f9-817b-b3648caebb5a",
   "metadata": {},
   "outputs": [],
   "source": []
  },
  {
   "cell_type": "code",
   "execution_count": null,
   "id": "0189fadd-2d0c-41e7-8354-4bcd3bd5aa67",
   "metadata": {},
   "outputs": [],
   "source": []
  }
 ],
 "metadata": {
  "kernelspec": {
   "display_name": "Python 3 (ipykernel)",
   "language": "python",
   "name": "python3"
  },
  "language_info": {
   "codemirror_mode": {
    "name": "ipython",
    "version": 3
   },
   "file_extension": ".py",
   "mimetype": "text/x-python",
   "name": "python",
   "nbconvert_exporter": "python",
   "pygments_lexer": "ipython3",
   "version": "3.10.4"
  }
 },
 "nbformat": 4,
 "nbformat_minor": 5
}
