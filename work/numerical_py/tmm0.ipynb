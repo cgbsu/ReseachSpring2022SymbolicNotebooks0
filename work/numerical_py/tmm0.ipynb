{
 "cells": [
  {
   "cell_type": "code",
   "execution_count": 1,
   "id": "aae31641-3c09-4b67-b396-a33c0007db00",
   "metadata": {},
   "outputs": [],
   "source": [
    "from new_attempt.stateless import *"
   ]
  },
  {
   "cell_type": "code",
   "execution_count": null,
   "id": "106bbedf-4db0-41d9-8c48-5b42f5b8f978",
   "metadata": {},
   "outputs": [],
   "source": []
  },
  {
   "cell_type": "code",
   "execution_count": 2,
   "id": "771bf6d5-e03e-49a0-b591-edda330cb19d",
   "metadata": {},
   "outputs": [],
   "source": [
    "symbols = [RegionSymbols(ii) for ii in range(3)]"
   ]
  },
  {
   "cell_type": "code",
   "execution_count": null,
   "id": "45f1f423-4007-43cd-a88a-b974ab540e27",
   "metadata": {},
   "outputs": [],
   "source": []
  },
  {
   "cell_type": "code",
   "execution_count": 3,
   "id": "0d7216fe-38b4-4942-bcaf-d95acf07922d",
   "metadata": {},
   "outputs": [],
   "source": [
    "transmission, reflection = makeCoefficentsFromHarmonicConstants(symbols[0], symbols[1])"
   ]
  },
  {
   "cell_type": "code",
   "execution_count": 4,
   "id": "a0e091c5-d193-470b-881e-4cb90b344c6e",
   "metadata": {},
   "outputs": [
    {
     "data": {
      "text/latex": [
       "$\\displaystyle \\frac{2 k_{0}}{k_{0} + k_{1}}$"
      ],
      "text/plain": [
       "2*k_0/(k_0 + k_1)"
      ]
     },
     "execution_count": 4,
     "metadata": {},
     "output_type": "execute_result"
    }
   ],
   "source": [
    "transmission"
   ]
  },
  {
   "cell_type": "code",
   "execution_count": 5,
   "id": "a87df0fb-35ff-4605-a198-541a1a0d9885",
   "metadata": {},
   "outputs": [
    {
     "data": {
      "text/latex": [
       "$\\displaystyle \\frac{k_{0} - k_{1}}{k_{0} + k_{1}}$"
      ],
      "text/plain": [
       "(k_0 - k_1)/(k_0 + k_1)"
      ]
     },
     "execution_count": 5,
     "metadata": {},
     "output_type": "execute_result"
    }
   ],
   "source": [
    "reflection"
   ]
  },
  {
   "cell_type": "code",
   "execution_count": 6,
   "id": "61bc9262-9425-447f-bbcb-6482e5e3aae5",
   "metadata": {},
   "outputs": [
    {
     "data": {
      "text/latex": [
       "$\\displaystyle \\sqrt{\\frac{k_{0} - k_{1}}{k_{0} + k_{1}}}$"
      ],
      "text/plain": [
       "sqrt((k_0 - k_1)/(k_0 + k_1))"
      ]
     },
     "execution_count": 6,
     "metadata": {},
     "output_type": "execute_result"
    }
   ],
   "source": [
    "removeAbsAndConjugate(sp.sqrt(reflection))"
   ]
  },
  {
   "cell_type": "code",
   "execution_count": 7,
   "id": "395f3344-742b-485d-b8d4-135ba80d2dc2",
   "metadata": {},
   "outputs": [
    {
     "data": {
      "text/latex": [
       "$\\displaystyle \\sqrt{\\frac{k_{0} - k_{1}}{k_{0} + k_{1}}}$"
      ],
      "text/plain": [
       "sqrt((k_0 - k_1)/(k_0 + k_1))"
      ]
     },
     "execution_count": 7,
     "metadata": {},
     "output_type": "execute_result"
    }
   ],
   "source": [
    "removeAbs(sp.sqrt(reflection))"
   ]
  },
  {
   "cell_type": "code",
   "execution_count": null,
   "id": "7e4cfd85-6d29-40d6-a705-ee132ccbe083",
   "metadata": {},
   "outputs": [],
   "source": []
  },
  {
   "cell_type": "code",
   "execution_count": null,
   "id": "fd49a865-1e3b-4b37-914c-1901957e970a",
   "metadata": {},
   "outputs": [],
   "source": []
  },
  {
   "cell_type": "code",
   "execution_count": 8,
   "id": "40403e11-064d-462f-920b-7f6d72ee8d82",
   "metadata": {},
   "outputs": [],
   "source": [
    "S_01 = makeScatteringMatrix(transmission, reflection)"
   ]
  },
  {
   "cell_type": "markdown",
   "id": "b5113b3b-0e8a-4e7e-bff4-4fbf9935ce00",
   "metadata": {},
   "source": [
    "S_01"
   ]
  },
  {
   "cell_type": "code",
   "execution_count": 9,
   "id": "9bc32f8b-eb1e-4466-827f-22728a55cdf8",
   "metadata": {},
   "outputs": [
    {
     "data": {
      "text/latex": [
       "$\\displaystyle \\left[\\begin{matrix}\\sqrt{\\frac{k_{0} - k_{1}}{k_{0} + k_{1}}}\\end{matrix}\\right]$"
      ],
      "text/plain": [
       "Matrix([[sqrt((k_0 - k_1)/(k_0 + k_1))]])"
      ]
     },
     "execution_count": 9,
     "metadata": {},
     "output_type": "execute_result"
    }
   ],
   "source": [
    "S_01.row(0).col(0)"
   ]
  },
  {
   "cell_type": "code",
   "execution_count": 10,
   "id": "3f8c4049-2cd3-41d6-a3e6-bcf766278d46",
   "metadata": {},
   "outputs": [],
   "source": [
    "M_01 = makeTransmissionMatrix(S_01)"
   ]
  },
  {
   "cell_type": "code",
   "execution_count": 11,
   "id": "be870632-27d8-4409-a867-6cca23720e3d",
   "metadata": {},
   "outputs": [
    {
     "data": {
      "text/latex": [
       "$\\displaystyle \\left[\\begin{matrix}\\sqrt{2} \\sqrt{\\frac{k_{0}}{k_{0} + k_{1}}} - \\frac{\\sqrt{2} \\left(k_{0} - k_{1}\\right)}{2 \\sqrt{\\frac{k_{0}}{k_{0} + k_{1}}} \\left(k_{0} + k_{1}\\right)} & \\frac{\\sqrt{2} \\sqrt{\\frac{k_{0} - k_{1}}{k_{0} + k_{1}}}}{2 \\sqrt{\\frac{k_{0}}{k_{0} + k_{1}}}}\\\\- \\frac{\\sqrt{2} \\sqrt{\\frac{k_{0} - k_{1}}{k_{0} + k_{1}}}}{2 \\sqrt{\\frac{k_{0}}{k_{0} + k_{1}}}} & \\frac{\\sqrt{2}}{2 \\sqrt{\\frac{k_{0}}{k_{0} + k_{1}}}}\\end{matrix}\\right]$"
      ],
      "text/plain": [
       "Matrix([\n",
       "[sqrt(2)*sqrt(k_0/(k_0 + k_1)) - sqrt(2)*(k_0 - k_1)/(2*sqrt(k_0/(k_0 + k_1))*(k_0 + k_1)), sqrt(2)*sqrt((k_0 - k_1)/(k_0 + k_1))/(2*sqrt(k_0/(k_0 + k_1)))],\n",
       "[                         -sqrt(2)*sqrt((k_0 - k_1)/(k_0 + k_1))/(2*sqrt(k_0/(k_0 + k_1))),                               sqrt(2)/(2*sqrt(k_0/(k_0 + k_1)))]])"
      ]
     },
     "execution_count": 11,
     "metadata": {},
     "output_type": "execute_result"
    }
   ],
   "source": [
    "M_01"
   ]
  },
  {
   "cell_type": "code",
   "execution_count": 12,
   "id": "697074a0-65e1-496b-922d-cffe2896b890",
   "metadata": {},
   "outputs": [],
   "source": [
    "M_01 = M_01.refine()"
   ]
  },
  {
   "cell_type": "code",
   "execution_count": 13,
   "id": "af96bc6d-e4e1-4ff7-974f-412afe16744f",
   "metadata": {},
   "outputs": [
    {
     "data": {
      "text/latex": [
       "$\\displaystyle \\left[\\begin{matrix}\\sqrt{2} \\sqrt{\\frac{k_{0}}{k_{0} + k_{1}}} - \\frac{\\sqrt{2} \\left(k_{0} - k_{1}\\right)}{2 \\sqrt{\\frac{k_{0}}{k_{0} + k_{1}}} \\left(k_{0} + k_{1}\\right)} & \\frac{\\sqrt{2} \\sqrt{\\frac{k_{0} - k_{1}}{k_{0} + k_{1}}}}{2 \\sqrt{\\frac{k_{0}}{k_{0} + k_{1}}}}\\\\- \\frac{\\sqrt{2} \\sqrt{\\frac{k_{0} - k_{1}}{k_{0} + k_{1}}}}{2 \\sqrt{\\frac{k_{0}}{k_{0} + k_{1}}}} & \\frac{\\sqrt{2}}{2 \\sqrt{\\frac{k_{0}}{k_{0} + k_{1}}}}\\end{matrix}\\right]$"
      ],
      "text/plain": [
       "Matrix([\n",
       "[sqrt(2)*sqrt(k_0/(k_0 + k_1)) - sqrt(2)*(k_0 - k_1)/(2*sqrt(k_0/(k_0 + k_1))*(k_0 + k_1)), sqrt(2)*sqrt((k_0 - k_1)/(k_0 + k_1))/(2*sqrt(k_0/(k_0 + k_1)))],\n",
       "[                         -sqrt(2)*sqrt((k_0 - k_1)/(k_0 + k_1))/(2*sqrt(k_0/(k_0 + k_1))),                               sqrt(2)/(2*sqrt(k_0/(k_0 + k_1)))]])"
      ]
     },
     "execution_count": 13,
     "metadata": {},
     "output_type": "execute_result"
    }
   ],
   "source": [
    "M_01"
   ]
  },
  {
   "cell_type": "code",
   "execution_count": null,
   "id": "1e968017-b581-420b-9eff-fe66b23ce1d8",
   "metadata": {},
   "outputs": [],
   "source": []
  },
  {
   "cell_type": "code",
   "execution_count": null,
   "id": "4698deb6-1be2-49b5-9481-2af60d5396eb",
   "metadata": {},
   "outputs": [],
   "source": []
  },
  {
   "cell_type": "code",
   "execution_count": 14,
   "id": "5a92dfe3-28fe-481b-aae4-1855f4d9691a",
   "metadata": {},
   "outputs": [
    {
     "data": {
      "text/latex": [
       "$\\displaystyle \\left[\\begin{matrix}\\psi_{{0}_t}{\\left(0 \\right)}\\\\\\psi_{{0}_r}{\\left(0 \\right)}\\end{matrix}\\right]$"
      ],
      "text/plain": [
       "Matrix([\n",
       "[\\psi_{{0}_t}(0)],\n",
       "[\\psi_{{0}_r}(0)]])"
      ]
     },
     "execution_count": 14,
     "metadata": {},
     "output_type": "execute_result"
    }
   ],
   "source": [
    "makeBarrierMatrix(symbols[0])"
   ]
  },
  {
   "cell_type": "code",
   "execution_count": null,
   "id": "1f0c7486-f187-4e37-8029-32c42d13e23a",
   "metadata": {},
   "outputs": [],
   "source": []
  },
  {
   "cell_type": "code",
   "execution_count": null,
   "id": "6bb5a430-c96a-429c-91c9-2bf26408796c",
   "metadata": {},
   "outputs": [],
   "source": []
  },
  {
   "cell_type": "code",
   "execution_count": 15,
   "id": "87eb9ef7-c58d-4c41-b511-35ae85fa8008",
   "metadata": {},
   "outputs": [],
   "source": [
    "transfers = [transfer(symbols[ii], symbols[ii + 1]) for ii in range(2)]"
   ]
  },
  {
   "cell_type": "code",
   "execution_count": 16,
   "id": "bf4bbef8-449e-40c5-9bb8-e3d85c54f230",
   "metadata": {},
   "outputs": [
    {
     "data": {
      "text/latex": [
       "$\\displaystyle \\left[\\begin{matrix}\\psi_{{0}_t}{\\left(0 \\right)}\\\\\\psi_{{0}_r}{\\left(0 \\right)}\\end{matrix}\\right] = \\left[\\begin{matrix}\\left(\\sqrt{2} \\sqrt{\\frac{k_{0}}{k_{0} + k_{1}}} - \\frac{\\sqrt{2} \\left(k_{0} - k_{1}\\right)}{2 \\sqrt{\\frac{k_{0}}{k_{0} + k_{1}}} \\left(k_{0} + k_{1}\\right)}\\right) \\psi_{{1}_t}{\\left(L_{0} \\right)} + \\frac{\\sqrt{2} \\sqrt{\\frac{k_{0} - k_{1}}{k_{0} + k_{1}}} \\psi_{{1}_r}{\\left(L_{0} \\right)}}{2 \\sqrt{\\frac{k_{0}}{k_{0} + k_{1}}}}\\\\- \\frac{\\sqrt{2} \\sqrt{\\frac{k_{0} - k_{1}}{k_{0} + k_{1}}} \\psi_{{1}_t}{\\left(L_{0} \\right)}}{2 \\sqrt{\\frac{k_{0}}{k_{0} + k_{1}}}} + \\frac{\\sqrt{2} \\psi_{{1}_r}{\\left(L_{0} \\right)}}{2 \\sqrt{\\frac{k_{0}}{k_{0} + k_{1}}}}\\end{matrix}\\right]$"
      ],
      "text/plain": [
       "Eq(Matrix([\n",
       "[\\psi_{{0}_t}(0)],\n",
       "[\\psi_{{0}_r}(0)]]), Matrix([\n",
       "[(sqrt(2)*sqrt(k_0/(k_0 + k_1)) - sqrt(2)*(k_0 - k_1)/(2*sqrt(k_0/(k_0 + k_1))*(k_0 + k_1)))*\\psi_{{1}_t}(L_0) + sqrt(2)*sqrt((k_0 - k_1)/(k_0 + k_1))*\\psi_{{1}_r}(L_0)/(2*sqrt(k_0/(k_0 + k_1)))],\n",
       "[                                                         -sqrt(2)*sqrt((k_0 - k_1)/(k_0 + k_1))*\\psi_{{1}_t}(L_0)/(2*sqrt(k_0/(k_0 + k_1))) + sqrt(2)*\\psi_{{1}_r}(L_0)/(2*sqrt(k_0/(k_0 + k_1)))]]))"
      ]
     },
     "execution_count": 16,
     "metadata": {},
     "output_type": "execute_result"
    }
   ],
   "source": [
    "transfers[0]"
   ]
  },
  {
   "cell_type": "code",
   "execution_count": 17,
   "id": "b18a9e14-dbe6-44b3-99c5-46c8ec412321",
   "metadata": {},
   "outputs": [
    {
     "data": {
      "text/latex": [
       "$\\displaystyle \\left[\\begin{matrix}\\psi_{{1}_t}{\\left(L_{0} \\right)}\\\\\\psi_{{1}_r}{\\left(L_{0} \\right)}\\end{matrix}\\right] = \\left[\\begin{matrix}\\left(\\sqrt{2} \\sqrt{\\frac{k_{1}}{k_{1} + k_{2}}} - \\frac{\\sqrt{2} \\left(k_{1} - k_{2}\\right)}{2 \\sqrt{\\frac{k_{1}}{k_{1} + k_{2}}} \\left(k_{1} + k_{2}\\right)}\\right) \\psi_{{2}_t}{\\left(L_{1} \\right)} + \\frac{\\sqrt{2} \\sqrt{\\frac{k_{1} - k_{2}}{k_{1} + k_{2}}} \\psi_{{2}_r}{\\left(L_{1} \\right)}}{2 \\sqrt{\\frac{k_{1}}{k_{1} + k_{2}}}}\\\\- \\frac{\\sqrt{2} \\sqrt{\\frac{k_{1} - k_{2}}{k_{1} + k_{2}}} \\psi_{{2}_t}{\\left(L_{1} \\right)}}{2 \\sqrt{\\frac{k_{1}}{k_{1} + k_{2}}}} + \\frac{\\sqrt{2} \\psi_{{2}_r}{\\left(L_{1} \\right)}}{2 \\sqrt{\\frac{k_{1}}{k_{1} + k_{2}}}}\\end{matrix}\\right]$"
      ],
      "text/plain": [
       "Eq(Matrix([\n",
       "[\\psi_{{1}_t}(L_0)],\n",
       "[\\psi_{{1}_r}(L_0)]]), Matrix([\n",
       "[(sqrt(2)*sqrt(k_1/(k_1 + k_2)) - sqrt(2)*(k_1 - k_2)/(2*sqrt(k_1/(k_1 + k_2))*(k_1 + k_2)))*\\psi_{{2}_t}(L_1) + sqrt(2)*sqrt((k_1 - k_2)/(k_1 + k_2))*\\psi_{{2}_r}(L_1)/(2*sqrt(k_1/(k_1 + k_2)))],\n",
       "[                                                         -sqrt(2)*sqrt((k_1 - k_2)/(k_1 + k_2))*\\psi_{{2}_t}(L_1)/(2*sqrt(k_1/(k_1 + k_2))) + sqrt(2)*\\psi_{{2}_r}(L_1)/(2*sqrt(k_1/(k_1 + k_2)))]]))"
      ]
     },
     "execution_count": 17,
     "metadata": {},
     "output_type": "execute_result"
    }
   ],
   "source": [
    "transfers[1]"
   ]
  },
  {
   "cell_type": "code",
   "execution_count": null,
   "id": "cce6ef0b-ceef-4d6d-bc3e-441b8a50cb12",
   "metadata": {},
   "outputs": [],
   "source": []
  },
  {
   "cell_type": "code",
   "execution_count": 18,
   "id": "2a198b70-05bc-4c16-a0e4-9313612c6e08",
   "metadata": {},
   "outputs": [],
   "source": [
    "baseNames = ['S', 'E']\n",
    "simulationSymbols = [parameterizeTransferForSimulation(symbols[ii + 1], transfers[ii], baseNames[ii]) for ii in range(2)]"
   ]
  },
  {
   "cell_type": "code",
   "execution_count": 19,
   "id": "2c401421-6d6e-41a8-8d0f-e3534c59602e",
   "metadata": {},
   "outputs": [
    {
     "data": {
      "text/latex": [
       "$\\displaystyle \\left[\\begin{matrix}\\psi_{{0}_t}{\\left(0 \\right)}\\\\\\psi_{{0}_r}{\\left(0 \\right)}\\end{matrix}\\right] = \\left[\\begin{matrix}\\frac{\\sqrt{2} S_{r} \\sqrt{\\frac{k_{0} - k_{1}}{k_{0} + k_{1}}}}{2 \\sqrt{\\frac{k_{0}}{k_{0} + k_{1}}}} + S_{t} \\left(\\sqrt{2} \\sqrt{\\frac{k_{0}}{k_{0} + k_{1}}} - \\frac{\\sqrt{2} \\left(k_{0} - k_{1}\\right)}{2 \\sqrt{\\frac{k_{0}}{k_{0} + k_{1}}} \\left(k_{0} + k_{1}\\right)}\\right)\\\\\\frac{\\sqrt{2} S_{r}}{2 \\sqrt{\\frac{k_{0}}{k_{0} + k_{1}}}} - \\frac{\\sqrt{2} S_{t} \\sqrt{\\frac{k_{0} - k_{1}}{k_{0} + k_{1}}}}{2 \\sqrt{\\frac{k_{0}}{k_{0} + k_{1}}}}\\end{matrix}\\right]$"
      ],
      "text/plain": [
       "Eq(Matrix([\n",
       "[\\psi_{{0}_t}(0)],\n",
       "[\\psi_{{0}_r}(0)]]), Matrix([\n",
       "[sqrt(2)*S_r*sqrt((k_0 - k_1)/(k_0 + k_1))/(2*sqrt(k_0/(k_0 + k_1))) + S_t*(sqrt(2)*sqrt(k_0/(k_0 + k_1)) - sqrt(2)*(k_0 - k_1)/(2*sqrt(k_0/(k_0 + k_1))*(k_0 + k_1)))],\n",
       "[                                                          sqrt(2)*S_r/(2*sqrt(k_0/(k_0 + k_1))) - sqrt(2)*S_t*sqrt((k_0 - k_1)/(k_0 + k_1))/(2*sqrt(k_0/(k_0 + k_1)))]]))"
      ]
     },
     "execution_count": 19,
     "metadata": {},
     "output_type": "execute_result"
    }
   ],
   "source": [
    "simulationSymbols[0][1]"
   ]
  },
  {
   "cell_type": "code",
   "execution_count": 20,
   "id": "6f7dfa21-0e02-475d-bfdf-276e29ed2920",
   "metadata": {},
   "outputs": [
    {
     "data": {
      "text/latex": [
       "$\\displaystyle \\left[\\begin{matrix}\\psi_{{1}_t}{\\left(L_{0} \\right)}\\\\\\psi_{{1}_r}{\\left(L_{0} \\right)}\\end{matrix}\\right] = \\left[\\begin{matrix}\\frac{\\sqrt{2} E_{r} \\sqrt{\\frac{k_{1} - k_{2}}{k_{1} + k_{2}}}}{2 \\sqrt{\\frac{k_{1}}{k_{1} + k_{2}}}} + E_{t} \\left(\\sqrt{2} \\sqrt{\\frac{k_{1}}{k_{1} + k_{2}}} - \\frac{\\sqrt{2} \\left(k_{1} - k_{2}\\right)}{2 \\sqrt{\\frac{k_{1}}{k_{1} + k_{2}}} \\left(k_{1} + k_{2}\\right)}\\right)\\\\\\frac{\\sqrt{2} E_{r}}{2 \\sqrt{\\frac{k_{1}}{k_{1} + k_{2}}}} - \\frac{\\sqrt{2} E_{t} \\sqrt{\\frac{k_{1} - k_{2}}{k_{1} + k_{2}}}}{2 \\sqrt{\\frac{k_{1}}{k_{1} + k_{2}}}}\\end{matrix}\\right]$"
      ],
      "text/plain": [
       "Eq(Matrix([\n",
       "[\\psi_{{1}_t}(L_0)],\n",
       "[\\psi_{{1}_r}(L_0)]]), Matrix([\n",
       "[sqrt(2)*E_r*sqrt((k_1 - k_2)/(k_1 + k_2))/(2*sqrt(k_1/(k_1 + k_2))) + E_t*(sqrt(2)*sqrt(k_1/(k_1 + k_2)) - sqrt(2)*(k_1 - k_2)/(2*sqrt(k_1/(k_1 + k_2))*(k_1 + k_2)))],\n",
       "[                                                          sqrt(2)*E_r/(2*sqrt(k_1/(k_1 + k_2))) - sqrt(2)*E_t*sqrt((k_1 - k_2)/(k_1 + k_2))/(2*sqrt(k_1/(k_1 + k_2)))]]))"
      ]
     },
     "execution_count": 20,
     "metadata": {},
     "output_type": "execute_result"
    }
   ],
   "source": [
    "simulationSymbols[1][1]"
   ]
  },
  {
   "cell_type": "code",
   "execution_count": null,
   "id": "0f7d6292-0c6a-4045-b1f4-7614b7d140c9",
   "metadata": {},
   "outputs": [],
   "source": []
  },
  {
   "cell_type": "code",
   "execution_count": 21,
   "id": "d2f1f6a9-407d-4b96-b29d-24e36c3bbe9d",
   "metadata": {},
   "outputs": [],
   "source": [
    "harmonicConstants = [region.harmonicConstant for region in symbols]"
   ]
  },
  {
   "cell_type": "code",
   "execution_count": 22,
   "id": "9191d903-685b-42d2-b583-36e21a354c29",
   "metadata": {},
   "outputs": [],
   "source": [
    "regionFunctions = [lambdifyTransfer(simulationSymbols[ii], harmonicConstants) for ii in range(2)]"
   ]
  },
  {
   "cell_type": "code",
   "execution_count": null,
   "id": "ac998292-bf8e-415d-9261-0255e497d25a",
   "metadata": {},
   "outputs": [],
   "source": []
  },
  {
   "cell_type": "code",
   "execution_count": 23,
   "id": "0d95fd62-ba8e-4022-8b0c-ed35b877d11b",
   "metadata": {},
   "outputs": [],
   "source": [
    "equations = [constantPotentialTimeIndependentSchroedingerEquation1D(symbols[ii]) for ii in range(3)]"
   ]
  },
  {
   "cell_type": "code",
   "execution_count": 24,
   "id": "6fe851d1-651a-4fb2-b2a9-9c63def9f1f8",
   "metadata": {},
   "outputs": [
    {
     "data": {
      "text/latex": [
       "$\\displaystyle V_{0} \\psi_{0}{\\left(x \\right)} - \\frac{\\hbar^{2} \\frac{d^{2}}{d x^{2}} \\psi_{0}{\\left(x \\right)}}{2 \\text{m}} = E \\psi_{0}{\\left(x \\right)}$"
      ],
      "text/plain": [
       "Eq(V_0*\\psi_0(x) - hbar**2*Derivative(\\psi_0(x), (x, 2))/(2*m), E*\\psi_0(x))"
      ]
     },
     "execution_count": 24,
     "metadata": {},
     "output_type": "execute_result"
    }
   ],
   "source": [
    "equations[0]"
   ]
  },
  {
   "cell_type": "code",
   "execution_count": 25,
   "id": "c401d85f-42fe-44a7-8876-2e065f47df4a",
   "metadata": {},
   "outputs": [],
   "source": [
    "harmonicConstants = [extractHarmonicConstant(symbols[ii], equations[ii]) for ii in range(3)]"
   ]
  },
  {
   "cell_type": "code",
   "execution_count": 26,
   "id": "3de9ba02-97cd-47fc-a9a2-21909763821a",
   "metadata": {},
   "outputs": [
    {
     "data": {
      "text/latex": [
       "$\\displaystyle k_{0} = \\frac{\\sqrt{2} \\sqrt{- E + V_{0}} \\sqrt{\\text{m}}}{\\hbar}$"
      ],
      "text/plain": [
       "Eq(k_0, sqrt(2)*sqrt(m)*sqrt(-E + V_0)/hbar)"
      ]
     },
     "execution_count": 26,
     "metadata": {},
     "output_type": "execute_result"
    }
   ],
   "source": [
    "harmonicConstants[0]"
   ]
  },
  {
   "cell_type": "code",
   "execution_count": 27,
   "id": "011e89c6-3104-444f-91be-85de5c636776",
   "metadata": {},
   "outputs": [],
   "source": [
    "def generateHarmonicConstantCalculator(symbols : RegionSymbols, harmonicConstant, energySymbol): \n",
    "    return sp.lambdify([energySymbol, symbols.constantPotential, symbols.mass], harmonicConstant.rhs)"
   ]
  },
  {
   "cell_type": "code",
   "execution_count": 28,
   "id": "15c48fb0-e380-41dd-9f94-b1f67fad9216",
   "metadata": {},
   "outputs": [],
   "source": [
    "harmonicConstantFunctions = [generateHarmonicConstantCalculator(symbols[ii], harmonicConstants[ii], TOTAL_ENERGY_SYMBOL) for ii in range(3)]"
   ]
  },
  {
   "cell_type": "code",
   "execution_count": 29,
   "id": "20d794fb-1b2c-4418-9719-c31ca9525fcb",
   "metadata": {},
   "outputs": [
    {
     "data": {
      "text/plain": [
       "<function _lambdifygenerated(E, V_0, m)>"
      ]
     },
     "execution_count": 29,
     "metadata": {},
     "output_type": "execute_result"
    }
   ],
   "source": [
    "harmonicConstantFunctions[0]"
   ]
  },
  {
   "cell_type": "code",
   "execution_count": 72,
   "id": "3f3e971e-8821-44c4-b69a-6ff16863841b",
   "metadata": {},
   "outputs": [],
   "source": [
    "def createRegionInitialConditions(constantPotential, mass, totalEnergy, distance): \n",
    "    return (constantPotential, mass, totalEnergy, distance)"
   ]
  },
  {
   "cell_type": "code",
   "execution_count": 73,
   "id": "3215e69d-cf98-4ad4-a5f5-f2f04a991871",
   "metadata": {},
   "outputs": [],
   "source": [
    "regionInitialConditions = [\n",
    "        createRegionInitialConditions(3, 1, .5, 1), \n",
    "        createRegionInitialConditions(2, 1, .5, 1), \n",
    "        createRegionInitialConditions(1, 1, .5, 1)\n",
    "    ]"
   ]
  },
  {
   "cell_type": "code",
   "execution_count": 74,
   "id": "3c582058-934a-461a-9380-0002784762ff",
   "metadata": {},
   "outputs": [],
   "source": [
    "harmonicConstantValues = [harmonicConstantFunctions[ii](\n",
    "        regionInitialConditions[ii][2], \n",
    "        regionInitialConditions[ii][0], \n",
    "        regionInitialConditions[ii][1]\n",
    "    ) for ii in range(len(harmonicConstantFunctions))]"
   ]
  },
  {
   "cell_type": "code",
   "execution_count": 75,
   "id": "fdc7f8c7-ea3f-4c4f-9232-d94ee81fa14e",
   "metadata": {},
   "outputs": [
    {
     "data": {
      "text/plain": [
       "[2.120356678572281e+34, 1.6424212208260234e+34, 9.482523339666586e+33]"
      ]
     },
     "execution_count": 75,
     "metadata": {},
     "output_type": "execute_result"
    }
   ],
   "source": [
    "harmonicConstantValues"
   ]
  },
  {
   "cell_type": "code",
   "execution_count": null,
   "id": "f2891e82-93de-4499-9444-fa035714c92d",
   "metadata": {},
   "outputs": [],
   "source": []
  },
  {
   "cell_type": "code",
   "execution_count": 34,
   "id": "7f909477-2875-4429-bbb8-86df6a8b5aa7",
   "metadata": {},
   "outputs": [
    {
     "data": {
      "text/plain": [
       "[S_t, S_r]"
      ]
     },
     "execution_count": 34,
     "metadata": {},
     "output_type": "execute_result"
    }
   ],
   "source": [
    "simulationSymbols[0][0]"
   ]
  },
  {
   "cell_type": "code",
   "execution_count": 35,
   "id": "6df0f8aa-d8a1-4a9e-942e-0403d338d632",
   "metadata": {},
   "outputs": [],
   "source": [
    "transferValues = []\n",
    "results = calculateTransfers(regionFunctions, [1, -1], transferValues, harmonicConstantValues, simulationSymbols)"
   ]
  },
  {
   "cell_type": "code",
   "execution_count": 36,
   "id": "8dc133cf-38b9-438b-983a-f969226240b5",
   "metadata": {},
   "outputs": [
    {
     "data": {
      "text/plain": [
       "[(0.42837299059613254, -1.3477746773580983, [E_t, E_r]),\n",
       " (-0.04894993663135172, -1.4133661605202619, [S_t, S_r])]"
      ]
     },
     "execution_count": 36,
     "metadata": {},
     "output_type": "execute_result"
    }
   ],
   "source": [
    "transferValues"
   ]
  },
  {
   "cell_type": "code",
   "execution_count": null,
   "id": "31a73c41-06eb-4015-94dc-3c743073acb7",
   "metadata": {},
   "outputs": [],
   "source": []
  },
  {
   "cell_type": "code",
   "execution_count": null,
   "id": "eb7b6970-a646-412c-b30d-154e196ebd40",
   "metadata": {},
   "outputs": [],
   "source": []
  },
  {
   "cell_type": "code",
   "execution_count": 37,
   "id": "0189fadd-2d0c-41e7-8354-4bcd3bd5aa67",
   "metadata": {},
   "outputs": [],
   "source": [
    "#def extractConstants(symbols : RegionSymbols, shrodingerEquation, transferValuePair): \n",
    "#    "
   ]
  },
  {
   "cell_type": "code",
   "execution_count": null,
   "id": "b40b2f48-33e5-4fd4-aa2b-2a72df4e6d92",
   "metadata": {},
   "outputs": [],
   "source": []
  },
  {
   "cell_type": "code",
   "execution_count": 38,
   "id": "1ef8db1e-f2b9-4452-ab87-90d55a126995",
   "metadata": {},
   "outputs": [],
   "source": [
    "odeSolutions = [sp.solvers.ode.dsolve(\n",
    "        equations[0], \n",
    "        symbols[0].waveFunction(POSITION_SYMBOL), \n",
    "        ics = {symbols[0].waveFunction(symbols[0].startDistance) : simulationSymbols[0][0][0] + simulationSymbols[0][0][1]}\n",
    "    )]"
   ]
  },
  {
   "cell_type": "code",
   "execution_count": 39,
   "id": "4c8b639a-622a-4f80-af6d-696377d67a99",
   "metadata": {},
   "outputs": [
    {
     "data": {
      "text/latex": [
       "$\\displaystyle \\psi_{0}{\\left(x \\right)} = C_{2} e^{\\frac{\\sqrt{2} x \\sqrt{- E + V_{0}} \\sqrt{\\text{m}}}{\\hbar}} + \\left(- C_{2} + S_{r} + S_{t}\\right) e^{- \\frac{\\sqrt{2} x \\sqrt{- E + V_{0}} \\sqrt{\\text{m}}}{\\hbar}}$"
      ],
      "text/plain": [
       "Eq(\\psi_0(x), C2*exp(sqrt(2)*sqrt(m)*x*sqrt(-E + V_0)/hbar) + (-C2 + S_r + S_t)*exp(-sqrt(2)*sqrt(m)*x*sqrt(-E + V_0)/hbar))"
      ]
     },
     "execution_count": 39,
     "metadata": {},
     "output_type": "execute_result"
    }
   ],
   "source": [
    "odeSolutions[0]"
   ]
  },
  {
   "cell_type": "code",
   "execution_count": null,
   "id": "7757e2da-e50e-4712-a051-e993625be199",
   "metadata": {},
   "outputs": [],
   "source": []
  },
  {
   "cell_type": "code",
   "execution_count": 40,
   "id": "3289b29b-e772-4371-a807-7044bacb29cf",
   "metadata": {},
   "outputs": [],
   "source": [
    "odeSolutions.append(sp.solvers.ode.dsolve(\n",
    "        equations[1], \n",
    "        symbols[1].waveFunction(POSITION_SYMBOL), \n",
    "        ics = {\n",
    "                symbols[1].waveFunction(symbols[1].startDistance) : simulationSymbols[0][0][0] + simulationSymbols[0][0][1], \n",
    "                symbols[1].waveFunction(symbols[1].distance) : simulationSymbols[1][0][0] + simulationSymbols[1][0][1]\n",
    "            }\n",
    "    ))"
   ]
  },
  {
   "cell_type": "code",
   "execution_count": 41,
   "id": "12901272-bc58-40f0-9aab-380913109a9a",
   "metadata": {},
   "outputs": [],
   "source": [
    "odeSolutions[1] = odeSolutions[1].simplify()"
   ]
  },
  {
   "cell_type": "code",
   "execution_count": 42,
   "id": "bf96d369-1283-445c-85f9-b277aabde85e",
   "metadata": {},
   "outputs": [
    {
     "data": {
      "text/latex": [
       "$\\displaystyle \\psi_{1}{\\left(x \\right)} = \\frac{\\left(E_{r} e^{\\frac{\\sqrt{2} \\sqrt{- E + V_{1}} \\cdot \\left(2 L_{0} + L_{1}\\right) \\sqrt{\\text{m}}}{\\hbar}} + E_{t} e^{\\frac{\\sqrt{2} \\sqrt{- E + V_{1}} \\cdot \\left(2 L_{0} + L_{1}\\right) \\sqrt{\\text{m}}}{\\hbar}} - S_{r} e^{\\frac{\\sqrt{2} \\sqrt{- E + V_{1}} \\left(L_{0} + 2 L_{1}\\right) \\sqrt{\\text{m}}}{\\hbar}} - S_{t} e^{\\frac{\\sqrt{2} \\sqrt{- E + V_{1}} \\left(L_{0} + 2 L_{1}\\right) \\sqrt{\\text{m}}}{\\hbar}} - \\left(E_{r} e^{\\frac{\\sqrt{2} L_{1} \\sqrt{- E + V_{1}} \\sqrt{\\text{m}}}{\\hbar}} + E_{t} e^{\\frac{\\sqrt{2} L_{1} \\sqrt{- E + V_{1}} \\sqrt{\\text{m}}}{\\hbar}} - S_{r} e^{\\frac{\\sqrt{2} L_{0} \\sqrt{- E + V_{1}} \\sqrt{\\text{m}}}{\\hbar}} - S_{t} e^{\\frac{\\sqrt{2} L_{0} \\sqrt{- E + V_{1}} \\sqrt{\\text{m}}}{\\hbar}}\\right) e^{\\frac{2 \\sqrt{2} x \\sqrt{- E + V_{1}} \\sqrt{\\text{m}}}{\\hbar}}\\right) e^{- \\frac{\\sqrt{2} x \\sqrt{- E + V_{1}} \\sqrt{\\text{m}}}{\\hbar}}}{e^{\\frac{2 \\sqrt{2} L_{0} \\sqrt{- E + V_{1}} \\sqrt{\\text{m}}}{\\hbar}} - e^{\\frac{2 \\sqrt{2} L_{1} \\sqrt{- E + V_{1}} \\sqrt{\\text{m}}}{\\hbar}}}$"
      ],
      "text/plain": [
       "Eq(\\psi_1(x), (E_r*exp(sqrt(2)*sqrt(m)*sqrt(-E + V_1)*(2*L_0 + L_1)/hbar) + E_t*exp(sqrt(2)*sqrt(m)*sqrt(-E + V_1)*(2*L_0 + L_1)/hbar) - S_r*exp(sqrt(2)*sqrt(m)*sqrt(-E + V_1)*(L_0 + 2*L_1)/hbar) - S_t*exp(sqrt(2)*sqrt(m)*sqrt(-E + V_1)*(L_0 + 2*L_1)/hbar) - (E_r*exp(sqrt(2)*sqrt(m)*L_1*sqrt(-E + V_1)/hbar) + E_t*exp(sqrt(2)*sqrt(m)*L_1*sqrt(-E + V_1)/hbar) - S_r*exp(sqrt(2)*sqrt(m)*L_0*sqrt(-E + V_1)/hbar) - S_t*exp(sqrt(2)*sqrt(m)*L_0*sqrt(-E + V_1)/hbar))*exp(2*sqrt(2)*sqrt(m)*x*sqrt(-E + V_1)/hbar))*exp(-sqrt(2)*sqrt(m)*x*sqrt(-E + V_1)/hbar)/(exp(2*sqrt(2)*sqrt(m)*L_0*sqrt(-E + V_1)/hbar) - exp(2*sqrt(2)*sqrt(m)*L_1*sqrt(-E + V_1)/hbar)))"
      ]
     },
     "execution_count": 42,
     "metadata": {},
     "output_type": "execute_result"
    }
   ],
   "source": [
    "odeSolutions[1]"
   ]
  },
  {
   "cell_type": "code",
   "execution_count": null,
   "id": "1391150f-66ef-4dea-8728-85e334cd181b",
   "metadata": {},
   "outputs": [],
   "source": []
  },
  {
   "cell_type": "code",
   "execution_count": 43,
   "id": "61245854-e308-43cf-9971-394f7e2bc91d",
   "metadata": {},
   "outputs": [],
   "source": [
    "solveConstant = [odeSolutions[1].subs({POSITION_SYMBOL : symbols[0].distance})]"
   ]
  },
  {
   "cell_type": "code",
   "execution_count": 44,
   "id": "4be00a78-df38-45e4-a741-2679d6dd205f",
   "metadata": {},
   "outputs": [
    {
     "data": {
      "text/latex": [
       "$\\displaystyle \\psi_{1}{\\left(L_{0} \\right)} = \\frac{\\left(E_{r} e^{\\frac{\\sqrt{2} \\sqrt{- E + V_{1}} \\cdot \\left(2 L_{0} + L_{1}\\right) \\sqrt{\\text{m}}}{\\hbar}} + E_{t} e^{\\frac{\\sqrt{2} \\sqrt{- E + V_{1}} \\cdot \\left(2 L_{0} + L_{1}\\right) \\sqrt{\\text{m}}}{\\hbar}} - S_{r} e^{\\frac{\\sqrt{2} \\sqrt{- E + V_{1}} \\left(L_{0} + 2 L_{1}\\right) \\sqrt{\\text{m}}}{\\hbar}} - S_{t} e^{\\frac{\\sqrt{2} \\sqrt{- E + V_{1}} \\left(L_{0} + 2 L_{1}\\right) \\sqrt{\\text{m}}}{\\hbar}} - \\left(E_{r} e^{\\frac{\\sqrt{2} L_{1} \\sqrt{- E + V_{1}} \\sqrt{\\text{m}}}{\\hbar}} + E_{t} e^{\\frac{\\sqrt{2} L_{1} \\sqrt{- E + V_{1}} \\sqrt{\\text{m}}}{\\hbar}} - S_{r} e^{\\frac{\\sqrt{2} L_{0} \\sqrt{- E + V_{1}} \\sqrt{\\text{m}}}{\\hbar}} - S_{t} e^{\\frac{\\sqrt{2} L_{0} \\sqrt{- E + V_{1}} \\sqrt{\\text{m}}}{\\hbar}}\\right) e^{\\frac{2 \\sqrt{2} L_{0} \\sqrt{- E + V_{1}} \\sqrt{\\text{m}}}{\\hbar}}\\right) e^{- \\frac{\\sqrt{2} L_{0} \\sqrt{- E + V_{1}} \\sqrt{\\text{m}}}{\\hbar}}}{e^{\\frac{2 \\sqrt{2} L_{0} \\sqrt{- E + V_{1}} \\sqrt{\\text{m}}}{\\hbar}} - e^{\\frac{2 \\sqrt{2} L_{1} \\sqrt{- E + V_{1}} \\sqrt{\\text{m}}}{\\hbar}}}$"
      ],
      "text/plain": [
       "Eq(\\psi_1(L_0), (E_r*exp(sqrt(2)*sqrt(m)*sqrt(-E + V_1)*(2*L_0 + L_1)/hbar) + E_t*exp(sqrt(2)*sqrt(m)*sqrt(-E + V_1)*(2*L_0 + L_1)/hbar) - S_r*exp(sqrt(2)*sqrt(m)*sqrt(-E + V_1)*(L_0 + 2*L_1)/hbar) - S_t*exp(sqrt(2)*sqrt(m)*sqrt(-E + V_1)*(L_0 + 2*L_1)/hbar) - (E_r*exp(sqrt(2)*sqrt(m)*L_1*sqrt(-E + V_1)/hbar) + E_t*exp(sqrt(2)*sqrt(m)*L_1*sqrt(-E + V_1)/hbar) - S_r*exp(sqrt(2)*sqrt(m)*L_0*sqrt(-E + V_1)/hbar) - S_t*exp(sqrt(2)*sqrt(m)*L_0*sqrt(-E + V_1)/hbar))*exp(2*sqrt(2)*sqrt(m)*L_0*sqrt(-E + V_1)/hbar))*exp(-sqrt(2)*sqrt(m)*L_0*sqrt(-E + V_1)/hbar)/(exp(2*sqrt(2)*sqrt(m)*L_0*sqrt(-E + V_1)/hbar) - exp(2*sqrt(2)*sqrt(m)*L_1*sqrt(-E + V_1)/hbar)))"
      ]
     },
     "execution_count": 44,
     "metadata": {},
     "output_type": "execute_result"
    }
   ],
   "source": [
    "solveConstant[0]"
   ]
  },
  {
   "cell_type": "code",
   "execution_count": 45,
   "id": "8781514c-a0d4-4a76-aafd-da20d3e817d7",
   "metadata": {},
   "outputs": [],
   "source": [
    "solveConstant.append(odeSolutions[0].subs({POSITION_SYMBOL : symbols[0].distance}))"
   ]
  },
  {
   "cell_type": "code",
   "execution_count": 46,
   "id": "344303df-b007-488d-ac11-6505ec880025",
   "metadata": {},
   "outputs": [
    {
     "data": {
      "text/latex": [
       "$\\displaystyle \\psi_{0}{\\left(L_{0} \\right)} = C_{2} e^{\\frac{\\sqrt{2} L_{0} \\sqrt{- E + V_{0}} \\sqrt{\\text{m}}}{\\hbar}} + \\left(- C_{2} + S_{r} + S_{t}\\right) e^{- \\frac{\\sqrt{2} L_{0} \\sqrt{- E + V_{0}} \\sqrt{\\text{m}}}{\\hbar}}$"
      ],
      "text/plain": [
       "Eq(\\psi_0(L_0), C2*exp(sqrt(2)*sqrt(m)*L_0*sqrt(-E + V_0)/hbar) + (-C2 + S_r + S_t)*exp(-sqrt(2)*sqrt(m)*L_0*sqrt(-E + V_0)/hbar))"
      ]
     },
     "execution_count": 46,
     "metadata": {},
     "output_type": "execute_result"
    }
   ],
   "source": [
    "solveConstant[1]"
   ]
  },
  {
   "cell_type": "code",
   "execution_count": 47,
   "id": "bfbb5862-a5ff-4b68-8a6c-f78f41c1e01b",
   "metadata": {},
   "outputs": [],
   "source": [
    "lastUnkown = sp.Eq(solveConstant[0].rhs, solveConstant[1].rhs)"
   ]
  },
  {
   "cell_type": "code",
   "execution_count": 48,
   "id": "f141f376-aa25-4654-8005-314ef9e95054",
   "metadata": {},
   "outputs": [
    {
     "data": {
      "text/latex": [
       "$\\displaystyle \\frac{\\left(E_{r} e^{\\frac{\\sqrt{2} \\sqrt{- E + V_{1}} \\cdot \\left(2 L_{0} + L_{1}\\right) \\sqrt{\\text{m}}}{\\hbar}} + E_{t} e^{\\frac{\\sqrt{2} \\sqrt{- E + V_{1}} \\cdot \\left(2 L_{0} + L_{1}\\right) \\sqrt{\\text{m}}}{\\hbar}} - S_{r} e^{\\frac{\\sqrt{2} \\sqrt{- E + V_{1}} \\left(L_{0} + 2 L_{1}\\right) \\sqrt{\\text{m}}}{\\hbar}} - S_{t} e^{\\frac{\\sqrt{2} \\sqrt{- E + V_{1}} \\left(L_{0} + 2 L_{1}\\right) \\sqrt{\\text{m}}}{\\hbar}} - \\left(E_{r} e^{\\frac{\\sqrt{2} L_{1} \\sqrt{- E + V_{1}} \\sqrt{\\text{m}}}{\\hbar}} + E_{t} e^{\\frac{\\sqrt{2} L_{1} \\sqrt{- E + V_{1}} \\sqrt{\\text{m}}}{\\hbar}} - S_{r} e^{\\frac{\\sqrt{2} L_{0} \\sqrt{- E + V_{1}} \\sqrt{\\text{m}}}{\\hbar}} - S_{t} e^{\\frac{\\sqrt{2} L_{0} \\sqrt{- E + V_{1}} \\sqrt{\\text{m}}}{\\hbar}}\\right) e^{\\frac{2 \\sqrt{2} L_{0} \\sqrt{- E + V_{1}} \\sqrt{\\text{m}}}{\\hbar}}\\right) e^{- \\frac{\\sqrt{2} L_{0} \\sqrt{- E + V_{1}} \\sqrt{\\text{m}}}{\\hbar}}}{e^{\\frac{2 \\sqrt{2} L_{0} \\sqrt{- E + V_{1}} \\sqrt{\\text{m}}}{\\hbar}} - e^{\\frac{2 \\sqrt{2} L_{1} \\sqrt{- E + V_{1}} \\sqrt{\\text{m}}}{\\hbar}}} = C_{2} e^{\\frac{\\sqrt{2} L_{0} \\sqrt{- E + V_{0}} \\sqrt{\\text{m}}}{\\hbar}} + \\left(- C_{2} + S_{r} + S_{t}\\right) e^{- \\frac{\\sqrt{2} L_{0} \\sqrt{- E + V_{0}} \\sqrt{\\text{m}}}{\\hbar}}$"
      ],
      "text/plain": [
       "Eq((E_r*exp(sqrt(2)*sqrt(m)*sqrt(-E + V_1)*(2*L_0 + L_1)/hbar) + E_t*exp(sqrt(2)*sqrt(m)*sqrt(-E + V_1)*(2*L_0 + L_1)/hbar) - S_r*exp(sqrt(2)*sqrt(m)*sqrt(-E + V_1)*(L_0 + 2*L_1)/hbar) - S_t*exp(sqrt(2)*sqrt(m)*sqrt(-E + V_1)*(L_0 + 2*L_1)/hbar) - (E_r*exp(sqrt(2)*sqrt(m)*L_1*sqrt(-E + V_1)/hbar) + E_t*exp(sqrt(2)*sqrt(m)*L_1*sqrt(-E + V_1)/hbar) - S_r*exp(sqrt(2)*sqrt(m)*L_0*sqrt(-E + V_1)/hbar) - S_t*exp(sqrt(2)*sqrt(m)*L_0*sqrt(-E + V_1)/hbar))*exp(2*sqrt(2)*sqrt(m)*L_0*sqrt(-E + V_1)/hbar))*exp(-sqrt(2)*sqrt(m)*L_0*sqrt(-E + V_1)/hbar)/(exp(2*sqrt(2)*sqrt(m)*L_0*sqrt(-E + V_1)/hbar) - exp(2*sqrt(2)*sqrt(m)*L_1*sqrt(-E + V_1)/hbar)), C2*exp(sqrt(2)*sqrt(m)*L_0*sqrt(-E + V_0)/hbar) + (-C2 + S_r + S_t)*exp(-sqrt(2)*sqrt(m)*L_0*sqrt(-E + V_0)/hbar))"
      ]
     },
     "execution_count": 48,
     "metadata": {},
     "output_type": "execute_result"
    }
   ],
   "source": [
    "lastUnkown"
   ]
  },
  {
   "cell_type": "code",
   "execution_count": 49,
   "id": "80539ad4-0ec4-4179-81e0-dc5dc18c1947",
   "metadata": {},
   "outputs": [],
   "source": [
    "lastUnkown = lastUnkown.simplify()"
   ]
  },
  {
   "cell_type": "code",
   "execution_count": 50,
   "id": "f9741cee-695f-4601-a835-ec27114af3c2",
   "metadata": {},
   "outputs": [
    {
     "data": {
      "text/latex": [
       "$\\displaystyle \\left(C_{2} e^{\\frac{2 \\sqrt{2} L_{0} \\sqrt{- E + V_{0}} \\sqrt{\\text{m}}}{\\hbar}} - C_{2} + S_{r} + S_{t}\\right) e^{- \\frac{\\sqrt{2} L_{0} \\sqrt{- E + V_{0}} \\sqrt{\\text{m}}}{\\hbar}} = \\frac{\\left(E_{r} e^{\\frac{\\sqrt{2} \\sqrt{- E + V_{1}} \\cdot \\left(2 L_{0} + L_{1}\\right) \\sqrt{\\text{m}}}{\\hbar}} + E_{t} e^{\\frac{\\sqrt{2} \\sqrt{- E + V_{1}} \\cdot \\left(2 L_{0} + L_{1}\\right) \\sqrt{\\text{m}}}{\\hbar}} - S_{r} e^{\\frac{\\sqrt{2} \\sqrt{- E + V_{1}} \\left(L_{0} + 2 L_{1}\\right) \\sqrt{\\text{m}}}{\\hbar}} - S_{t} e^{\\frac{\\sqrt{2} \\sqrt{- E + V_{1}} \\left(L_{0} + 2 L_{1}\\right) \\sqrt{\\text{m}}}{\\hbar}} + \\left(- E_{r} e^{\\frac{\\sqrt{2} L_{1} \\sqrt{- E + V_{1}} \\sqrt{\\text{m}}}{\\hbar}} - E_{t} e^{\\frac{\\sqrt{2} L_{1} \\sqrt{- E + V_{1}} \\sqrt{\\text{m}}}{\\hbar}} + S_{r} e^{\\frac{\\sqrt{2} L_{0} \\sqrt{- E + V_{1}} \\sqrt{\\text{m}}}{\\hbar}} + S_{t} e^{\\frac{\\sqrt{2} L_{0} \\sqrt{- E + V_{1}} \\sqrt{\\text{m}}}{\\hbar}}\\right) e^{\\frac{2 \\sqrt{2} L_{0} \\sqrt{- E + V_{1}} \\sqrt{\\text{m}}}{\\hbar}}\\right) e^{- \\frac{\\sqrt{2} L_{0} \\sqrt{- E + V_{1}} \\sqrt{\\text{m}}}{\\hbar}}}{e^{\\frac{2 \\sqrt{2} L_{0} \\sqrt{- E + V_{1}} \\sqrt{\\text{m}}}{\\hbar}} - e^{\\frac{2 \\sqrt{2} L_{1} \\sqrt{- E + V_{1}} \\sqrt{\\text{m}}}{\\hbar}}}$"
      ],
      "text/plain": [
       "Eq((C2*exp(2*sqrt(2)*sqrt(m)*L_0*sqrt(-E + V_0)/hbar) - C2 + S_r + S_t)*exp(-sqrt(2)*sqrt(m)*L_0*sqrt(-E + V_0)/hbar), (E_r*exp(sqrt(2)*sqrt(m)*sqrt(-E + V_1)*(2*L_0 + L_1)/hbar) + E_t*exp(sqrt(2)*sqrt(m)*sqrt(-E + V_1)*(2*L_0 + L_1)/hbar) - S_r*exp(sqrt(2)*sqrt(m)*sqrt(-E + V_1)*(L_0 + 2*L_1)/hbar) - S_t*exp(sqrt(2)*sqrt(m)*sqrt(-E + V_1)*(L_0 + 2*L_1)/hbar) + (-E_r*exp(sqrt(2)*sqrt(m)*L_1*sqrt(-E + V_1)/hbar) - E_t*exp(sqrt(2)*sqrt(m)*L_1*sqrt(-E + V_1)/hbar) + S_r*exp(sqrt(2)*sqrt(m)*L_0*sqrt(-E + V_1)/hbar) + S_t*exp(sqrt(2)*sqrt(m)*L_0*sqrt(-E + V_1)/hbar))*exp(2*sqrt(2)*sqrt(m)*L_0*sqrt(-E + V_1)/hbar))*exp(-sqrt(2)*sqrt(m)*L_0*sqrt(-E + V_1)/hbar)/(exp(2*sqrt(2)*sqrt(m)*L_0*sqrt(-E + V_1)/hbar) - exp(2*sqrt(2)*sqrt(m)*L_1*sqrt(-E + V_1)/hbar)))"
      ]
     },
     "execution_count": 50,
     "metadata": {},
     "output_type": "execute_result"
    }
   ],
   "source": [
    "lastUnkown"
   ]
  },
  {
   "cell_type": "code",
   "execution_count": 51,
   "id": "8ae9a295-4ab9-47bf-96d4-efd3a98d5640",
   "metadata": {},
   "outputs": [],
   "source": [
    "lastConstant = None\n",
    "for atom in lastUnkown.atoms():\n",
    "    if str(atom) == 'C2': \n",
    "        lastConstant = atom"
   ]
  },
  {
   "cell_type": "code",
   "execution_count": 52,
   "id": "6f4b9f54-5af8-42da-9b0d-08f9235b1108",
   "metadata": {},
   "outputs": [
    {
     "data": {
      "text/latex": [
       "$\\displaystyle C_{2}$"
      ],
      "text/plain": [
       "C2"
      ]
     },
     "execution_count": 52,
     "metadata": {},
     "output_type": "execute_result"
    }
   ],
   "source": [
    "lastConstant"
   ]
  },
  {
   "cell_type": "code",
   "execution_count": 53,
   "id": "7c5f3cd0-612a-4379-8b5b-445d8162fa59",
   "metadata": {},
   "outputs": [],
   "source": [
    "solution = sp.solve(lastUnkown, lastConstant)"
   ]
  },
  {
   "cell_type": "code",
   "execution_count": 54,
   "id": "f9c98ed4-7335-4d06-95c7-5e53d612af42",
   "metadata": {},
   "outputs": [
    {
     "data": {
      "text/plain": [
       "[(E_r*exp(sqrt(2)*sqrt(m)*(L_0*sqrt(-E + V_0) + sqrt(-E + V_1)*(2*L_0 + L_1))/hbar) - E_r*exp(sqrt(2)*sqrt(m)*(L_0*sqrt(-E + V_0) + 2*L_0*sqrt(-E + V_1) + L_1*sqrt(-E + V_1))/hbar) + E_t*exp(sqrt(2)*sqrt(m)*(L_0*sqrt(-E + V_0) + sqrt(-E + V_1)*(2*L_0 + L_1))/hbar) - E_t*exp(sqrt(2)*sqrt(m)*(L_0*sqrt(-E + V_0) + 2*L_0*sqrt(-E + V_1) + L_1*sqrt(-E + V_1))/hbar) - S_r*exp(sqrt(2)*sqrt(m)*(L_0*sqrt(-E + V_0) + sqrt(-E + V_1)*(L_0 + 2*L_1))/hbar) + S_r*exp(sqrt(2)*sqrt(m)*(L_0*sqrt(-E + V_0) + 2*L_0*sqrt(-E + V_1) + L_0*sqrt(-E + V_1))/hbar) - S_r*exp(sqrt(2)*sqrt(m)*sqrt(-E + V_1)*(L_0 + 2*L_0)/hbar) + S_r*exp(sqrt(2)*sqrt(m)*sqrt(-E + V_1)*(L_0 + 2*L_1)/hbar) - S_t*exp(sqrt(2)*sqrt(m)*(L_0*sqrt(-E + V_0) + sqrt(-E + V_1)*(L_0 + 2*L_1))/hbar) + S_t*exp(sqrt(2)*sqrt(m)*(L_0*sqrt(-E + V_0) + 2*L_0*sqrt(-E + V_1) + L_0*sqrt(-E + V_1))/hbar) - S_t*exp(sqrt(2)*sqrt(m)*sqrt(-E + V_1)*(L_0 + 2*L_0)/hbar) + S_t*exp(sqrt(2)*sqrt(m)*sqrt(-E + V_1)*(L_0 + 2*L_1)/hbar))*exp(-sqrt(2)*sqrt(m)*L_0*sqrt(-E + V_1)/hbar)/(exp(2*sqrt(2)*sqrt(m)*(L_0*sqrt(-E + V_0) + L_0*sqrt(-E + V_1))/hbar) - exp(2*sqrt(2)*sqrt(m)*(L_0*sqrt(-E + V_0) + L_1*sqrt(-E + V_1))/hbar) - exp(2*sqrt(2)*sqrt(m)*L_0*sqrt(-E + V_1)/hbar) + exp(2*sqrt(2)*sqrt(m)*L_1*sqrt(-E + V_1)/hbar))]"
      ]
     },
     "execution_count": 54,
     "metadata": {},
     "output_type": "execute_result"
    }
   ],
   "source": [
    "solution"
   ]
  },
  {
   "cell_type": "code",
   "execution_count": 55,
   "id": "09905b08-26d0-4f30-aeca-93ea53857062",
   "metadata": {},
   "outputs": [
    {
     "data": {
      "text/latex": [
       "$\\displaystyle \\frac{\\left(E_{r} e^{\\frac{\\sqrt{2} \\left(L_{0} \\sqrt{- E + V_{0}} + \\sqrt{- E + V_{1}} \\cdot \\left(2 L_{0} + L_{1}\\right)\\right) \\sqrt{\\text{m}}}{\\hbar}} - E_{r} e^{\\frac{\\sqrt{2} \\left(L_{0} \\sqrt{- E + V_{0}} + 2 L_{0} \\sqrt{- E + V_{1}} + L_{1} \\sqrt{- E + V_{1}}\\right) \\sqrt{\\text{m}}}{\\hbar}} + E_{t} e^{\\frac{\\sqrt{2} \\left(L_{0} \\sqrt{- E + V_{0}} + \\sqrt{- E + V_{1}} \\cdot \\left(2 L_{0} + L_{1}\\right)\\right) \\sqrt{\\text{m}}}{\\hbar}} - E_{t} e^{\\frac{\\sqrt{2} \\left(L_{0} \\sqrt{- E + V_{0}} + 2 L_{0} \\sqrt{- E + V_{1}} + L_{1} \\sqrt{- E + V_{1}}\\right) \\sqrt{\\text{m}}}{\\hbar}} - S_{r} e^{\\frac{\\sqrt{2} \\left(L_{0} \\sqrt{- E + V_{0}} + \\sqrt{- E + V_{1}} \\left(L_{0} + 2 L_{1}\\right)\\right) \\sqrt{\\text{m}}}{\\hbar}} + S_{r} e^{\\frac{\\sqrt{2} \\left(L_{0} \\sqrt{- E + V_{0}} + 2 L_{0} \\sqrt{- E + V_{1}} + L_{0} \\sqrt{- E + V_{1}}\\right) \\sqrt{\\text{m}}}{\\hbar}} - S_{r} e^{\\frac{\\sqrt{2} \\sqrt{- E + V_{1}} \\left(L_{0} + 2 L_{0}\\right) \\sqrt{\\text{m}}}{\\hbar}} + S_{r} e^{\\frac{\\sqrt{2} \\sqrt{- E + V_{1}} \\left(L_{0} + 2 L_{1}\\right) \\sqrt{\\text{m}}}{\\hbar}} - S_{t} e^{\\frac{\\sqrt{2} \\left(L_{0} \\sqrt{- E + V_{0}} + \\sqrt{- E + V_{1}} \\left(L_{0} + 2 L_{1}\\right)\\right) \\sqrt{\\text{m}}}{\\hbar}} + S_{t} e^{\\frac{\\sqrt{2} \\left(L_{0} \\sqrt{- E + V_{0}} + 2 L_{0} \\sqrt{- E + V_{1}} + L_{0} \\sqrt{- E + V_{1}}\\right) \\sqrt{\\text{m}}}{\\hbar}} - S_{t} e^{\\frac{\\sqrt{2} \\sqrt{- E + V_{1}} \\left(L_{0} + 2 L_{0}\\right) \\sqrt{\\text{m}}}{\\hbar}} + S_{t} e^{\\frac{\\sqrt{2} \\sqrt{- E + V_{1}} \\left(L_{0} + 2 L_{1}\\right) \\sqrt{\\text{m}}}{\\hbar}}\\right) e^{- \\frac{\\sqrt{2} L_{0} \\sqrt{- E + V_{1}} \\sqrt{\\text{m}}}{\\hbar}}}{e^{\\frac{2 \\sqrt{2} \\left(L_{0} \\sqrt{- E + V_{0}} + L_{0} \\sqrt{- E + V_{1}}\\right) \\sqrt{\\text{m}}}{\\hbar}} - e^{\\frac{2 \\sqrt{2} \\left(L_{0} \\sqrt{- E + V_{0}} + L_{1} \\sqrt{- E + V_{1}}\\right) \\sqrt{\\text{m}}}{\\hbar}} - e^{\\frac{2 \\sqrt{2} L_{0} \\sqrt{- E + V_{1}} \\sqrt{\\text{m}}}{\\hbar}} + e^{\\frac{2 \\sqrt{2} L_{1} \\sqrt{- E + V_{1}} \\sqrt{\\text{m}}}{\\hbar}}}$"
      ],
      "text/plain": [
       "(E_r*exp(sqrt(2)*sqrt(m)*(L_0*sqrt(-E + V_0) + sqrt(-E + V_1)*(2*L_0 + L_1))/hbar) - E_r*exp(sqrt(2)*sqrt(m)*(L_0*sqrt(-E + V_0) + 2*L_0*sqrt(-E + V_1) + L_1*sqrt(-E + V_1))/hbar) + E_t*exp(sqrt(2)*sqrt(m)*(L_0*sqrt(-E + V_0) + sqrt(-E + V_1)*(2*L_0 + L_1))/hbar) - E_t*exp(sqrt(2)*sqrt(m)*(L_0*sqrt(-E + V_0) + 2*L_0*sqrt(-E + V_1) + L_1*sqrt(-E + V_1))/hbar) - S_r*exp(sqrt(2)*sqrt(m)*(L_0*sqrt(-E + V_0) + sqrt(-E + V_1)*(L_0 + 2*L_1))/hbar) + S_r*exp(sqrt(2)*sqrt(m)*(L_0*sqrt(-E + V_0) + 2*L_0*sqrt(-E + V_1) + L_0*sqrt(-E + V_1))/hbar) - S_r*exp(sqrt(2)*sqrt(m)*sqrt(-E + V_1)*(L_0 + 2*L_0)/hbar) + S_r*exp(sqrt(2)*sqrt(m)*sqrt(-E + V_1)*(L_0 + 2*L_1)/hbar) - S_t*exp(sqrt(2)*sqrt(m)*(L_0*sqrt(-E + V_0) + sqrt(-E + V_1)*(L_0 + 2*L_1))/hbar) + S_t*exp(sqrt(2)*sqrt(m)*(L_0*sqrt(-E + V_0) + 2*L_0*sqrt(-E + V_1) + L_0*sqrt(-E + V_1))/hbar) - S_t*exp(sqrt(2)*sqrt(m)*sqrt(-E + V_1)*(L_0 + 2*L_0)/hbar) + S_t*exp(sqrt(2)*sqrt(m)*sqrt(-E + V_1)*(L_0 + 2*L_1)/hbar))*exp(-sqrt(2)*sqrt(m)*L_0*sqrt(-E + V_1)/hbar)/(exp(2*sqrt(2)*sqrt(m)*(L_0*sqrt(-E + V_0) + L_0*sqrt(-E + V_1))/hbar) - exp(2*sqrt(2)*sqrt(m)*(L_0*sqrt(-E + V_0) + L_1*sqrt(-E + V_1))/hbar) - exp(2*sqrt(2)*sqrt(m)*L_0*sqrt(-E + V_1)/hbar) + exp(2*sqrt(2)*sqrt(m)*L_1*sqrt(-E + V_1)/hbar))"
      ]
     },
     "execution_count": 55,
     "metadata": {},
     "output_type": "execute_result"
    }
   ],
   "source": [
    "solution[0]"
   ]
  },
  {
   "cell_type": "code",
   "execution_count": 56,
   "id": "194a5b85-0362-49ba-9218-5e056a74dc99",
   "metadata": {},
   "outputs": [
    {
     "data": {
      "text/plain": [
       "1"
      ]
     },
     "execution_count": 56,
     "metadata": {},
     "output_type": "execute_result"
    }
   ],
   "source": [
    "len(solution)"
   ]
  },
  {
   "cell_type": "code",
   "execution_count": 57,
   "id": "eb5ee77c-7ded-46e5-ab02-f50903da34b0",
   "metadata": {},
   "outputs": [],
   "source": [
    "solution_ = solution[0].simplify()"
   ]
  },
  {
   "cell_type": "code",
   "execution_count": 58,
   "id": "15940ffa-32bd-49a7-bc38-3d0fab1ac635",
   "metadata": {},
   "outputs": [],
   "source": [
    "solution_ = solution_.refine()"
   ]
  },
  {
   "cell_type": "code",
   "execution_count": 59,
   "id": "6494ca73-e300-4129-a2b4-6ed52fe4fe5f",
   "metadata": {},
   "outputs": [
    {
     "data": {
      "text/latex": [
       "$\\displaystyle \\frac{\\left(E_{r} e^{\\frac{\\sqrt{2} \\left(L_{0} \\sqrt{- E + V_{0}} + \\sqrt{- E + V_{1}} \\cdot \\left(2 L_{0} + L_{1}\\right)\\right) \\sqrt{\\text{m}}}{\\hbar}} - E_{r} e^{\\frac{\\sqrt{2} \\left(L_{0} \\sqrt{- E + V_{0}} + 2 L_{0} \\sqrt{- E + V_{1}} + L_{1} \\sqrt{- E + V_{1}}\\right) \\sqrt{\\text{m}}}{\\hbar}} + E_{t} e^{\\frac{\\sqrt{2} \\left(L_{0} \\sqrt{- E + V_{0}} + \\sqrt{- E + V_{1}} \\cdot \\left(2 L_{0} + L_{1}\\right)\\right) \\sqrt{\\text{m}}}{\\hbar}} - E_{t} e^{\\frac{\\sqrt{2} \\left(L_{0} \\sqrt{- E + V_{0}} + 2 L_{0} \\sqrt{- E + V_{1}} + L_{1} \\sqrt{- E + V_{1}}\\right) \\sqrt{\\text{m}}}{\\hbar}} - S_{r} e^{\\frac{\\sqrt{2} \\left(L_{0} \\sqrt{- E + V_{0}} + \\sqrt{- E + V_{1}} \\left(L_{0} + 2 L_{1}\\right)\\right) \\sqrt{\\text{m}}}{\\hbar}} + S_{r} e^{\\frac{\\sqrt{2} \\left(L_{0} \\sqrt{- E + V_{0}} + 2 L_{0} \\sqrt{- E + V_{1}} + L_{0} \\sqrt{- E + V_{1}}\\right) \\sqrt{\\text{m}}}{\\hbar}} - S_{r} e^{\\frac{\\sqrt{2} \\sqrt{- E + V_{1}} \\left(L_{0} + 2 L_{0}\\right) \\sqrt{\\text{m}}}{\\hbar}} + S_{r} e^{\\frac{\\sqrt{2} \\sqrt{- E + V_{1}} \\left(L_{0} + 2 L_{1}\\right) \\sqrt{\\text{m}}}{\\hbar}} - S_{t} e^{\\frac{\\sqrt{2} \\left(L_{0} \\sqrt{- E + V_{0}} + \\sqrt{- E + V_{1}} \\left(L_{0} + 2 L_{1}\\right)\\right) \\sqrt{\\text{m}}}{\\hbar}} + S_{t} e^{\\frac{\\sqrt{2} \\left(L_{0} \\sqrt{- E + V_{0}} + 2 L_{0} \\sqrt{- E + V_{1}} + L_{0} \\sqrt{- E + V_{1}}\\right) \\sqrt{\\text{m}}}{\\hbar}} - S_{t} e^{\\frac{\\sqrt{2} \\sqrt{- E + V_{1}} \\left(L_{0} + 2 L_{0}\\right) \\sqrt{\\text{m}}}{\\hbar}} + S_{t} e^{\\frac{\\sqrt{2} \\sqrt{- E + V_{1}} \\left(L_{0} + 2 L_{1}\\right) \\sqrt{\\text{m}}}{\\hbar}}\\right) e^{- \\frac{\\sqrt{2} L_{0} \\sqrt{- E + V_{1}} \\sqrt{\\text{m}}}{\\hbar}}}{e^{\\frac{2 \\sqrt{2} \\left(L_{0} \\sqrt{- E + V_{0}} + L_{0} \\sqrt{- E + V_{1}}\\right) \\sqrt{\\text{m}}}{\\hbar}} - e^{\\frac{2 \\sqrt{2} \\left(L_{0} \\sqrt{- E + V_{0}} + L_{1} \\sqrt{- E + V_{1}}\\right) \\sqrt{\\text{m}}}{\\hbar}} - e^{\\frac{2 \\sqrt{2} L_{0} \\sqrt{- E + V_{1}} \\sqrt{\\text{m}}}{\\hbar}} + e^{\\frac{2 \\sqrt{2} L_{1} \\sqrt{- E + V_{1}} \\sqrt{\\text{m}}}{\\hbar}}}$"
      ],
      "text/plain": [
       "(E_r*exp(sqrt(2)*sqrt(m)*(L_0*sqrt(-E + V_0) + sqrt(-E + V_1)*(2*L_0 + L_1))/hbar) - E_r*exp(sqrt(2)*sqrt(m)*(L_0*sqrt(-E + V_0) + 2*L_0*sqrt(-E + V_1) + L_1*sqrt(-E + V_1))/hbar) + E_t*exp(sqrt(2)*sqrt(m)*(L_0*sqrt(-E + V_0) + sqrt(-E + V_1)*(2*L_0 + L_1))/hbar) - E_t*exp(sqrt(2)*sqrt(m)*(L_0*sqrt(-E + V_0) + 2*L_0*sqrt(-E + V_1) + L_1*sqrt(-E + V_1))/hbar) - S_r*exp(sqrt(2)*sqrt(m)*(L_0*sqrt(-E + V_0) + sqrt(-E + V_1)*(L_0 + 2*L_1))/hbar) + S_r*exp(sqrt(2)*sqrt(m)*(L_0*sqrt(-E + V_0) + 2*L_0*sqrt(-E + V_1) + L_0*sqrt(-E + V_1))/hbar) - S_r*exp(sqrt(2)*sqrt(m)*sqrt(-E + V_1)*(L_0 + 2*L_0)/hbar) + S_r*exp(sqrt(2)*sqrt(m)*sqrt(-E + V_1)*(L_0 + 2*L_1)/hbar) - S_t*exp(sqrt(2)*sqrt(m)*(L_0*sqrt(-E + V_0) + sqrt(-E + V_1)*(L_0 + 2*L_1))/hbar) + S_t*exp(sqrt(2)*sqrt(m)*(L_0*sqrt(-E + V_0) + 2*L_0*sqrt(-E + V_1) + L_0*sqrt(-E + V_1))/hbar) - S_t*exp(sqrt(2)*sqrt(m)*sqrt(-E + V_1)*(L_0 + 2*L_0)/hbar) + S_t*exp(sqrt(2)*sqrt(m)*sqrt(-E + V_1)*(L_0 + 2*L_1)/hbar))*exp(-sqrt(2)*sqrt(m)*L_0*sqrt(-E + V_1)/hbar)/(exp(2*sqrt(2)*sqrt(m)*(L_0*sqrt(-E + V_0) + L_0*sqrt(-E + V_1))/hbar) - exp(2*sqrt(2)*sqrt(m)*(L_0*sqrt(-E + V_0) + L_1*sqrt(-E + V_1))/hbar) - exp(2*sqrt(2)*sqrt(m)*L_0*sqrt(-E + V_1)/hbar) + exp(2*sqrt(2)*sqrt(m)*L_1*sqrt(-E + V_1)/hbar))"
      ]
     },
     "execution_count": 59,
     "metadata": {},
     "output_type": "execute_result"
    }
   ],
   "source": [
    "solution_"
   ]
  },
  {
   "cell_type": "code",
   "execution_count": 60,
   "id": "abc4c024-49aa-4bfb-8872-b2c6f4a615f2",
   "metadata": {},
   "outputs": [
    {
     "data": {
      "text/plain": [
       "{-1, 1/2, 2, E, E_r, E_t, L_0, L_0, L_1, S_r, S_t, V_0, V_1, hbar, m}"
      ]
     },
     "execution_count": 60,
     "metadata": {},
     "output_type": "execute_result"
    }
   ],
   "source": [
    "solution_.atoms()"
   ]
  },
  {
   "cell_type": "code",
   "execution_count": 61,
   "id": "0f622ae4-4028-4f2c-9a38-0c3fc5787109",
   "metadata": {},
   "outputs": [],
   "source": [
    "parameters = []\n",
    "\n",
    "for atom in solution_.atoms():\n",
    "    if \"sympy.core.symbol.Symbol\" in str(type(atom)): \n",
    "        ATOM_STRING = str(atom)\n",
    "        admit = True\n",
    "        for admitted in parameters: \n",
    "            if str(admitted) == ATOM_STRING: \n",
    "                admit = False\n",
    "                break\n",
    "        if admit == True:\n",
    "            parameters.append(atom)"
   ]
  },
  {
   "cell_type": "code",
   "execution_count": 62,
   "id": "6ae0c3b7-3d03-495d-9c1b-c67771a6aab1",
   "metadata": {},
   "outputs": [],
   "source": [
    "def calculateStringPrecedence(string): \n",
    "    total = 0\n",
    "    for index, character in enumerate(string): \n",
    "        total += ord(character) * (10 ** index)\n",
    "    return total"
   ]
  },
  {
   "cell_type": "code",
   "execution_count": 63,
   "id": "3e03dc5e-59d3-46a1-a741-32e8a2baf9f8",
   "metadata": {},
   "outputs": [
    {
     "data": {
      "text/plain": [
       "[L_1, V_1, E_t, V_0, E_r, m, S_t, L_0, E, S_r]"
      ]
     },
     "execution_count": 63,
     "metadata": {},
     "output_type": "execute_result"
    }
   ],
   "source": [
    "parameters"
   ]
  },
  {
   "cell_type": "code",
   "execution_count": 64,
   "id": "f3c09d56-5695-4d08-8b3f-150c27b1642d",
   "metadata": {},
   "outputs": [],
   "source": [
    "parameters.sort(key = lambda element : calculateStringPrecedence(str(element)))"
   ]
  },
  {
   "cell_type": "code",
   "execution_count": 107,
   "id": "4619f5b9-a4d3-4015-8fc8-2c4589bfa910",
   "metadata": {},
   "outputs": [
    {
     "data": {
      "text/plain": [
       "[E, m, L_0, V_0, L_1, V_1, E_r, S_r, E_t, S_t]"
      ]
     },
     "execution_count": 107,
     "metadata": {},
     "output_type": "execute_result"
    }
   ],
   "source": [
    "parameters"
   ]
  },
  {
   "cell_type": "code",
   "execution_count": null,
   "id": "617e751f-1315-4cd7-b7ff-7ef32f69eeeb",
   "metadata": {},
   "outputs": [],
   "source": []
  },
  {
   "cell_type": "code",
   "execution_count": null,
   "id": "9c015503-7a1f-46ee-9bb9-cee02a6c4a75",
   "metadata": {},
   "outputs": [],
   "source": []
  },
  {
   "cell_type": "code",
   "execution_count": null,
   "id": "b027e424-c9df-415b-9cdd-fe17ff39e36c",
   "metadata": {},
   "outputs": [],
   "source": []
  },
  {
   "cell_type": "code",
   "execution_count": 108,
   "id": "04a79b43-26a1-43ca-9c97-4832ae383a0a",
   "metadata": {},
   "outputs": [],
   "source": [
    "firstConstantFunction = sp.lambdify(parameters, solution_)"
   ]
  },
  {
   "cell_type": "code",
   "execution_count": 109,
   "id": "f7ec0753-b01c-40d2-84bf-bf95ac53aca0",
   "metadata": {},
   "outputs": [
    {
     "data": {
      "text/plain": [
       "[(0.42837299059613254, -1.3477746773580983, [E_t, E_r]),\n",
       " (-0.04894993663135172, -1.4133661605202619, [S_t, S_r])]"
      ]
     },
     "execution_count": 109,
     "metadata": {},
     "output_type": "execute_result"
    }
   ],
   "source": [
    "transferValues"
   ]
  },
  {
   "cell_type": "code",
   "execution_count": 110,
   "id": "76a25bad-e73c-42a1-80ba-258cf2004b1f",
   "metadata": {},
   "outputs": [],
   "source": [
    "transferData = {}\n",
    "for transferDataSet in transferValues: \n",
    "        transferData[str(transferDataSet[2][0])] = transferDataSet[0]\n",
    "        transferData[str(transferDataSet[2][1])] = transferDataSet[1] "
   ]
  },
  {
   "cell_type": "code",
   "execution_count": 111,
   "id": "98fac385-245a-481f-97a2-71e52ffbdc9d",
   "metadata": {},
   "outputs": [
    {
     "data": {
      "text/plain": [
       "{'E_t': 0.42837299059613254,\n",
       " 'E_r': -1.3477746773580983,\n",
       " 'S_t': -0.04894993663135172,\n",
       " 'S_r': -1.4133661605202619}"
      ]
     },
     "execution_count": 111,
     "metadata": {},
     "output_type": "execute_result"
    }
   ],
   "source": [
    "transferData"
   ]
  },
  {
   "cell_type": "code",
   "execution_count": 112,
   "id": "1a867651-6639-49d6-bbef-69d60244231c",
   "metadata": {},
   "outputs": [],
   "source": [
    "regionData = []\n",
    "for ii in range(len(regionInitialConditions) - 1):\n",
    "    regionData += [regionInitialConditions[ii][3], regionInitialConditions[ii][0] ]"
   ]
  },
  {
   "cell_type": "code",
   "execution_count": 113,
   "id": "557592a7-4973-497d-844a-c8f8e0caea8d",
   "metadata": {},
   "outputs": [
    {
     "data": {
      "text/plain": [
       "[1, 3, 1, 2]"
      ]
     },
     "execution_count": 113,
     "metadata": {},
     "output_type": "execute_result"
    }
   ],
   "source": [
    "regionData"
   ]
  },
  {
   "cell_type": "code",
   "execution_count": null,
   "id": "d124f594-d18a-4b49-9bc5-a82fdae1c569",
   "metadata": {},
   "outputs": [],
   "source": []
  },
  {
   "cell_type": "code",
   "execution_count": 114,
   "id": "676ea556-af3b-4e9e-a4c7-d69e73e97baf",
   "metadata": {},
   "outputs": [],
   "source": [
    "transferParameters = []"
   ]
  },
  {
   "cell_type": "code",
   "execution_count": null,
   "id": "60397643-550a-413f-943a-9086f53a194b",
   "metadata": {},
   "outputs": [],
   "source": []
  },
  {
   "cell_type": "code",
   "execution_count": 122,
   "id": "eb4809a8-274a-47c2-b845-b9e23de6a3a3",
   "metadata": {},
   "outputs": [],
   "source": [
    "def makeFinalConstantParameters(parameterList, transferData, regionData, totalEnergy, mass): \n",
    "    parameters = []\n",
    "    for parameter in parameterList: \n",
    "        if str(parameter) in transferData:\n",
    "            parameters.append(transferData[str(parameter)])\n",
    "    parameters += regionData\n",
    "    return [totalEnergy, mass] + parameters"
   ]
  },
  {
   "cell_type": "code",
   "execution_count": 123,
   "id": "a55e310b-04f6-4210-8bcf-62978ec5140a",
   "metadata": {},
   "outputs": [
    {
     "data": {
      "text/plain": [
       "1"
      ]
     },
     "execution_count": 123,
     "metadata": {},
     "output_type": "execute_result"
    }
   ],
   "source": [
    "regionInitialConditions[0][1]"
   ]
  },
  {
   "cell_type": "code",
   "execution_count": 124,
   "id": "788c8098-fec8-4664-b9dd-316a5d6d1f36",
   "metadata": {},
   "outputs": [
    {
     "data": {
      "text/plain": [
       "0.5"
      ]
     },
     "execution_count": 124,
     "metadata": {},
     "output_type": "execute_result"
    }
   ],
   "source": [
    "regionInitialConditions[0][2]"
   ]
  },
  {
   "cell_type": "code",
   "execution_count": 125,
   "id": "5b717392-27a6-4874-8bd8-793219bf433b",
   "metadata": {},
   "outputs": [],
   "source": [
    "finalConstantParameters = makeFinalConstantParameters(\n",
    "        parameters, \n",
    "        transferData, \n",
    "        regionData, \n",
    "        regionInitialConditions[0][2], \n",
    "        regionInitialConditions[0][1]\n",
    "    )"
   ]
  },
  {
   "cell_type": "code",
   "execution_count": null,
   "id": "ffd100fd-1845-4a36-b8a6-88fb73dc8373",
   "metadata": {},
   "outputs": [],
   "source": []
  },
  {
   "cell_type": "code",
   "execution_count": 128,
   "id": "54620ad2-8a74-4dd4-8c69-75bad1470956",
   "metadata": {},
   "outputs": [],
   "source": [
    "result = firstConstantFunction(*tuple(finalConstantParameters))"
   ]
  },
  {
   "cell_type": "code",
   "execution_count": 129,
   "id": "170bb565-718f-42b5-a305-b7e9e002e74e",
   "metadata": {},
   "outputs": [
    {
     "data": {
      "text/plain": [
       "nan"
      ]
     },
     "execution_count": 129,
     "metadata": {},
     "output_type": "execute_result"
    }
   ],
   "source": [
    "result"
   ]
  },
  {
   "cell_type": "code",
   "execution_count": null,
   "id": "85b64f31-245f-4294-9c81-f829129c01c9",
   "metadata": {},
   "outputs": [],
   "source": []
  },
  {
   "cell_type": "code",
   "execution_count": null,
   "id": "4f1a6cef-ed0d-4809-af17-da2fb0602223",
   "metadata": {},
   "outputs": [],
   "source": []
  },
  {
   "cell_type": "code",
   "execution_count": null,
   "id": "d79ddfb2-b0d1-46e6-8524-0f0b72f0d37c",
   "metadata": {},
   "outputs": [],
   "source": []
  }
 ],
 "metadata": {
  "kernelspec": {
   "display_name": "Python 3 (ipykernel)",
   "language": "python",
   "name": "python3"
  },
  "language_info": {
   "codemirror_mode": {
    "name": "ipython",
    "version": 3
   },
   "file_extension": ".py",
   "mimetype": "text/x-python",
   "name": "python",
   "nbconvert_exporter": "python",
   "pygments_lexer": "ipython3",
   "version": "3.10.4"
  }
 },
 "nbformat": 4,
 "nbformat_minor": 5
}
