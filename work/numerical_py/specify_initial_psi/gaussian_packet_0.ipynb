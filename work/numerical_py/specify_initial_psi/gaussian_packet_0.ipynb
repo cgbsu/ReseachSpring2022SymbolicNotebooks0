{
 "cells": [
  {
   "cell_type": "code",
   "execution_count": 2,
   "id": "016a983c-038d-4c05-9004-80f391261a26",
   "metadata": {},
   "outputs": [],
   "source": [
    "import numpy as np"
   ]
  },
  {
   "cell_type": "code",
   "execution_count": 4,
   "id": "e663f4bd-b6e7-4c00-b1bf-24c23c97437f",
   "metadata": {},
   "outputs": [],
   "source": [
    "from matplotlib import pyplot as plt"
   ]
  },
  {
   "cell_type": "code",
   "execution_count": 5,
   "id": "7b070c5d-0be1-41e2-a79d-21845ff5c181",
   "metadata": {},
   "outputs": [],
   "source": [
    "import sympy as sp"
   ]
  },
  {
   "cell_type": "code",
   "execution_count": null,
   "id": "46dd0b67-e3a8-4997-b7f7-fffc4d813c8a",
   "metadata": {},
   "outputs": [],
   "source": []
  },
  {
   "cell_type": "code",
   "execution_count": 6,
   "id": "5d31ecf1-2682-4eb5-b776-95b1820ef891",
   "metadata": {},
   "outputs": [],
   "source": [
    "def makeWavePacket(uncertainty : float, normalizedWavePacketCenter : float, normalizedPositions, noZero = 1e-10): \n",
    "    width = noZero + (normalizedPositions[1:] - uncertainty) ** 2\n",
    "    exponent = -(((normalizedPositions[1:] - normalizedWavePacketCenter) / width) ** 2) / 2.0\n",
    "    return (1.0 / (width * np.sqrt(2 * np.pi))) * np.exp(exponent)"
   ]
  },
  {
   "cell_type": "code",
   "execution_count": null,
   "id": "a5ea3030-24bd-4c35-b4f6-e0d4f7cc3b70",
   "metadata": {},
   "outputs": [],
   "source": []
  },
  {
   "cell_type": "code",
   "execution_count": 7,
   "id": "5928834c-8857-410a-b93f-bc8262d21744",
   "metadata": {},
   "outputs": [],
   "source": [
    "pointCount : int = 500"
   ]
  },
  {
   "cell_type": "code",
   "execution_count": 9,
   "id": "478b483e-af24-48fe-bca4-d34f01eab150",
   "metadata": {},
   "outputs": [],
   "source": [
    "normalizedPositions = np.linspace(0, 1, pointCount)"
   ]
  },
  {
   "cell_type": "code",
   "execution_count": 27,
   "id": "59ff0721-c645-4bf2-80f9-0ab019bbe3c1",
   "metadata": {},
   "outputs": [],
   "source": [
    "packet = makeWavePacket(.5, .5, normalizedPositions)"
   ]
  },
  {
   "cell_type": "code",
   "execution_count": 28,
   "id": "627fb9c2-9cc9-49bc-90bb-1bb73d8597f7",
   "metadata": {},
   "outputs": [
    {
     "data": {
      "text/plain": [
       "[<matplotlib.lines.Line2D at 0x7f2abbef9270>]"
      ]
     },
     "execution_count": 28,
     "metadata": {},
     "output_type": "execute_result"
    },
    {
     "data": {
      "image/png": "[encoded data removed]",
      "text/plain": [
       "<Figure size 432x288 with 1 Axes>"
      ]
     },
     "metadata": {
      "needs_background": "light"
     },
     "output_type": "display_data"
    }
   ],
   "source": [
    "plt.plot(normalizedPositions[1:], packet)"
   ]
  },
  {
   "cell_type": "code",
   "execution_count": null,
   "id": "2ec4c503-f76b-4aca-a297-de2ee1d29bfe",
   "metadata": {},
   "outputs": [],
   "source": []
  }
 ],
 "metadata": {
  "kernelspec": {
   "display_name": "Python 3 (ipykernel)",
   "language": "python",
   "name": "python3"
  },
  "language_info": {
   "codemirror_mode": {
    "name": "ipython",
    "version": 3
   },
   "file_extension": ".py",
   "mimetype": "text/x-python",
   "name": "python",
   "nbconvert_exporter": "python",
   "pygments_lexer": "ipython3",
   "version": "3.10.5"
  }
 },
 "nbformat": 4,
 "nbformat_minor": 5
}
