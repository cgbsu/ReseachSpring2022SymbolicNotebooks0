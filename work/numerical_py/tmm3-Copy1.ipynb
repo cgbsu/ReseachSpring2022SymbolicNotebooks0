{
 "cells": [
  {
   "cell_type": "code",
   "execution_count": 1,
   "id": "aae31641-3c09-4b67-b396-a33c0007db00",
   "metadata": {},
   "outputs": [],
   "source": [
    "from new_attempt.stateless import *"
   ]
  },
  {
   "cell_type": "code",
   "execution_count": null,
   "id": "b249a0a2-4ab9-4ba5-800a-32bf35a37a3c",
   "metadata": {},
   "outputs": [],
   "source": []
  },
  {
   "cell_type": "code",
   "execution_count": null,
   "id": "106bbedf-4db0-41d9-8c48-5b42f5b8f978",
   "metadata": {},
   "outputs": [],
   "source": []
  },
  {
   "cell_type": "code",
   "execution_count": 2,
   "id": "a62a300f-865a-49b3-b604-de4fb2152fde",
   "metadata": {},
   "outputs": [],
   "source": [
    "regionSymbols = [RegionSymbols(ii - 1) for ii in range(5)]"
   ]
  },
  {
   "cell_type": "code",
   "execution_count": null,
   "id": "96030439-ae7c-4c96-b7ba-446a8aaffbeb",
   "metadata": {},
   "outputs": [],
   "source": []
  },
  {
   "cell_type": "code",
   "execution_count": 3,
   "id": "968b35d4-1d33-49d0-8fc4-933acd5f470b",
   "metadata": {},
   "outputs": [],
   "source": [
    "t01 = generalTransfer(regionSymbols[1], regionSymbols[0])"
   ]
  },
  {
   "cell_type": "code",
   "execution_count": null,
   "id": "c5e6faa0-66c0-4142-98bc-163d9a54ced6",
   "metadata": {},
   "outputs": [],
   "source": []
  },
  {
   "cell_type": "code",
   "execution_count": 4,
   "id": "a7f76762-fea2-4b64-a25c-42e407fe88f7",
   "metadata": {
    "tags": []
   },
   "outputs": [
    {
     "data": {
      "text/plain": [
       "{'from': <new_attempt.stateless.RegionSymbols at 0x7f5a26d11210>,\n",
       " 'to': <new_attempt.stateless.RegionSymbols at 0x7f5ad554f940>,\n",
       " 'matricies': {'inputs': ['T_0_N1',\n",
       "   'R_0_N1',\n",
       "   'psi_0_tOPL_N1CP',\n",
       "   'psi_0_rOPL_N1CP'],\n",
       "  'scatteringMatrix': Matrix([\n",
       "  [sqrt(conjugate(R_0_-1)), sqrt(T_0_-1)],\n",
       "  [sqrt(conjugate(T_0_-1)), sqrt(R_0_-1)]]),\n",
       "  'transferMatrix': Matrix([\n",
       "  [-sqrt(R_0_-1)*sqrt(conjugate(R_0_-1))/sqrt(conjugate(T_0_-1)) + sqrt(T_0_-1), sqrt(R_0_-1)/sqrt(conjugate(T_0_-1))],\n",
       "  [                            -sqrt(conjugate(R_0_-1))/sqrt(conjugate(T_0_-1)),            1/sqrt(conjugate(T_0_-1))]]),\n",
       "  'outputs': ['psi_N1_tOPL_N2CP', 'psi_N1_rOPL_N2CP']},\n",
       " 'transfer': Eq(Matrix([\n",
       " [psi_-1_t(L_-2)],\n",
       " [psi_-1_r(L_-2)]]), Matrix([\n",
       " [sqrt(R_0_-1)*psi_0_r(L_-1)/sqrt(conjugate(T_0_-1)) + (-sqrt(R_0_-1)*sqrt(conjugate(R_0_-1))/sqrt(conjugate(T_0_-1)) + sqrt(T_0_-1))*psi_0_t(L_-1)],\n",
       " [                                            psi_0_r(L_-1)/sqrt(conjugate(T_0_-1)) - psi_0_t(L_-1)*sqrt(conjugate(R_0_-1))/sqrt(conjugate(T_0_-1))]]))}"
      ]
     },
     "execution_count": 4,
     "metadata": {},
     "output_type": "execute_result"
    }
   ],
   "source": [
    "t01"
   ]
  },
  {
   "cell_type": "code",
   "execution_count": 5,
   "id": "58d5c743-aaad-4aed-bc15-3c027a33647f",
   "metadata": {},
   "outputs": [
    {
     "data": {
      "text/latex": [
       "$\\displaystyle \\left[\\begin{matrix}- \\frac{\\sqrt{R_{0 -1}} \\sqrt{\\overline{R_{0 -1}}}}{\\sqrt{\\overline{T_{0 -1}}}} + \\sqrt{T_{0 -1}} & \\frac{\\sqrt{R_{0 -1}}}{\\sqrt{\\overline{T_{0 -1}}}}\\\\- \\frac{\\sqrt{\\overline{R_{0 -1}}}}{\\sqrt{\\overline{T_{0 -1}}}} & \\frac{1}{\\sqrt{\\overline{T_{0 -1}}}}\\end{matrix}\\right]$"
      ],
      "text/plain": [
       "Matrix([\n",
       "[-sqrt(R_0_-1)*sqrt(conjugate(R_0_-1))/sqrt(conjugate(T_0_-1)) + sqrt(T_0_-1), sqrt(R_0_-1)/sqrt(conjugate(T_0_-1))],\n",
       "[                            -sqrt(conjugate(R_0_-1))/sqrt(conjugate(T_0_-1)),            1/sqrt(conjugate(T_0_-1))]])"
      ]
     },
     "execution_count": 5,
     "metadata": {},
     "output_type": "execute_result"
    }
   ],
   "source": [
    "t01['matricies']['transferMatrix']"
   ]
  },
  {
   "cell_type": "code",
   "execution_count": 6,
   "id": "38222b9c-53d9-448f-a53c-1933948c284b",
   "metadata": {},
   "outputs": [
    {
     "data": {
      "text/latex": [
       "$\\displaystyle \\left[\\begin{matrix}\\sqrt{\\overline{R_{0 -1}}} & \\sqrt{T_{0 -1}}\\\\\\sqrt{\\overline{T_{0 -1}}} & \\sqrt{R_{0 -1}}\\end{matrix}\\right]$"
      ],
      "text/plain": [
       "Matrix([\n",
       "[sqrt(conjugate(R_0_-1)), sqrt(T_0_-1)],\n",
       "[sqrt(conjugate(T_0_-1)), sqrt(R_0_-1)]])"
      ]
     },
     "execution_count": 6,
     "metadata": {},
     "output_type": "execute_result"
    }
   ],
   "source": [
    "t01['matricies']['scatteringMatrix']"
   ]
  },
  {
   "cell_type": "code",
   "execution_count": null,
   "id": "46ce419a-e89d-4cd5-8ae6-7d54fb72d99f",
   "metadata": {},
   "outputs": [],
   "source": []
  },
  {
   "cell_type": "code",
   "execution_count": 7,
   "id": "c76c88ae-65d8-4328-b463-a108da84e464",
   "metadata": {},
   "outputs": [],
   "source": [
    "t01Numerical = lambdifyTransfer(t01)"
   ]
  },
  {
   "cell_type": "code",
   "execution_count": 8,
   "id": "62d890ec-96c6-4843-996f-427e14eafec1",
   "metadata": {
    "tags": []
   },
   "outputs": [
    {
     "data": {
      "text/plain": [
       "{'paramters': ['T_0_N1', 'R_0_N1', 'psi_0_tOPL_N1CP', 'psi_0_rOPL_N1CP'],\n",
       " 'functions': {'psi_N1_tOPL_N2CPFunction': <function _lambdifygenerated(T_0_N1, R_0_N1, psi_0_tOPL_N1CP, psi_0_rOPL_N1CP)>,\n",
       "  'psi_N1_rOPL_N2CPFunction': <function _lambdifygenerated(T_0_N1, R_0_N1, psi_0_tOPL_N1CP, psi_0_rOPL_N1CP)>}}"
      ]
     },
     "execution_count": 8,
     "metadata": {},
     "output_type": "execute_result"
    }
   ],
   "source": [
    "t01Numerical[\"functionData\"]"
   ]
  },
  {
   "cell_type": "code",
   "execution_count": null,
   "id": "dc74e1c2-c231-4963-9f29-65afa541e9aa",
   "metadata": {},
   "outputs": [],
   "source": []
  },
  {
   "cell_type": "code",
   "execution_count": 9,
   "id": "001d3949-89a6-4b00-a7e2-589afcff6793",
   "metadata": {},
   "outputs": [],
   "source": [
    "transferFunctions = generateGeneralTransferFunctions(regionSymbols)"
   ]
  },
  {
   "cell_type": "code",
   "execution_count": 10,
   "id": "4ae1fd61-a915-4b13-976b-6dd1e5a5ee27",
   "metadata": {},
   "outputs": [
    {
     "data": {
      "text/plain": [
       "{'transfers': [{'from': <new_attempt.stateless.RegionSymbols at 0x7f5a26d11660>,\n",
       "   'to': <new_attempt.stateless.RegionSymbols at 0x7f5a26d11210>,\n",
       "   'matricies': {'inputs': ['T_1_0',\n",
       "     'R_1_0',\n",
       "     'psi_1_tOPL_0CP',\n",
       "     'psi_1_rOPL_0CP'],\n",
       "    'scatteringMatrix': Matrix([\n",
       "    [sqrt(conjugate(R_1_0)), sqrt(T_1_0)],\n",
       "    [sqrt(conjugate(T_1_0)), sqrt(R_1_0)]]),\n",
       "    'transferMatrix': Matrix([\n",
       "    [-sqrt(R_1_0)*sqrt(conjugate(R_1_0))/sqrt(conjugate(T_1_0)) + sqrt(T_1_0), sqrt(R_1_0)/sqrt(conjugate(T_1_0))],\n",
       "    [                          -sqrt(conjugate(R_1_0))/sqrt(conjugate(T_1_0)),           1/sqrt(conjugate(T_1_0))]]),\n",
       "    'outputs': ['psi_0_tOPL_N1CP', 'psi_0_rOPL_N1CP']},\n",
       "   'transfer': Eq(Matrix([\n",
       "   [psi_0_t(L_-1)],\n",
       "   [psi_0_r(L_-1)]]), Matrix([\n",
       "   [sqrt(R_1_0)*psi_1_r(L_0)/sqrt(conjugate(T_1_0)) + (-sqrt(R_1_0)*sqrt(conjugate(R_1_0))/sqrt(conjugate(T_1_0)) + sqrt(T_1_0))*psi_1_t(L_0)],\n",
       "   [                                         psi_1_r(L_0)/sqrt(conjugate(T_1_0)) - psi_1_t(L_0)*sqrt(conjugate(R_1_0))/sqrt(conjugate(T_1_0))]])),\n",
       "   'functionData': {'paramters': ['T_1_0',\n",
       "     'R_1_0',\n",
       "     'psi_1_tOPL_0CP',\n",
       "     'psi_1_rOPL_0CP'],\n",
       "    'functions': {'psi_0_tOPL_N1CPFunction': <function _lambdifygenerated(T_1_0, R_1_0, psi_1_tOPL_0CP, psi_1_rOPL_0CP)>,\n",
       "     'psi_0_rOPL_N1CPFunction': <function _lambdifygenerated(T_1_0, R_1_0, psi_1_tOPL_0CP, psi_1_rOPL_0CP)>}}},\n",
       "  {'from': <new_attempt.stateless.RegionSymbols at 0x7f5a26d11ab0>,\n",
       "   'to': <new_attempt.stateless.RegionSymbols at 0x7f5a26d11660>,\n",
       "   'matricies': {'inputs': ['T_2_1',\n",
       "     'R_2_1',\n",
       "     'psi_2_tOPL_1CP',\n",
       "     'psi_2_rOPL_1CP'],\n",
       "    'scatteringMatrix': Matrix([\n",
       "    [sqrt(conjugate(R_2_1)), sqrt(T_2_1)],\n",
       "    [sqrt(conjugate(T_2_1)), sqrt(R_2_1)]]),\n",
       "    'transferMatrix': Matrix([\n",
       "    [-sqrt(R_2_1)*sqrt(conjugate(R_2_1))/sqrt(conjugate(T_2_1)) + sqrt(T_2_1), sqrt(R_2_1)/sqrt(conjugate(T_2_1))],\n",
       "    [                          -sqrt(conjugate(R_2_1))/sqrt(conjugate(T_2_1)),           1/sqrt(conjugate(T_2_1))]]),\n",
       "    'outputs': ['psi_1_tOPL_0CP', 'psi_1_rOPL_0CP']},\n",
       "   'transfer': Eq(Matrix([\n",
       "   [psi_1_t(L_0)],\n",
       "   [psi_1_r(L_0)]]), Matrix([\n",
       "   [sqrt(R_2_1)*psi_2_r(L_1)/sqrt(conjugate(T_2_1)) + (-sqrt(R_2_1)*sqrt(conjugate(R_2_1))/sqrt(conjugate(T_2_1)) + sqrt(T_2_1))*psi_2_t(L_1)],\n",
       "   [                                         psi_2_r(L_1)/sqrt(conjugate(T_2_1)) - psi_2_t(L_1)*sqrt(conjugate(R_2_1))/sqrt(conjugate(T_2_1))]])),\n",
       "   'functionData': {'paramters': ['T_2_1',\n",
       "     'R_2_1',\n",
       "     'psi_2_tOPL_1CP',\n",
       "     'psi_2_rOPL_1CP'],\n",
       "    'functions': {'psi_1_tOPL_0CPFunction': <function _lambdifygenerated(T_2_1, R_2_1, psi_2_tOPL_1CP, psi_2_rOPL_1CP)>,\n",
       "     'psi_1_rOPL_0CPFunction': <function _lambdifygenerated(T_2_1, R_2_1, psi_2_tOPL_1CP, psi_2_rOPL_1CP)>}}},\n",
       "  {'from': <new_attempt.stateless.RegionSymbols at 0x7f5a26d11f00>,\n",
       "   'to': <new_attempt.stateless.RegionSymbols at 0x7f5a26d11ab0>,\n",
       "   'matricies': {'inputs': ['T_3_2',\n",
       "     'R_3_2',\n",
       "     'psi_3_tOPL_2CP',\n",
       "     'psi_3_rOPL_2CP'],\n",
       "    'scatteringMatrix': Matrix([\n",
       "    [sqrt(conjugate(R_3_2)), sqrt(T_3_2)],\n",
       "    [sqrt(conjugate(T_3_2)), sqrt(R_3_2)]]),\n",
       "    'transferMatrix': Matrix([\n",
       "    [-sqrt(R_3_2)*sqrt(conjugate(R_3_2))/sqrt(conjugate(T_3_2)) + sqrt(T_3_2), sqrt(R_3_2)/sqrt(conjugate(T_3_2))],\n",
       "    [                          -sqrt(conjugate(R_3_2))/sqrt(conjugate(T_3_2)),           1/sqrt(conjugate(T_3_2))]]),\n",
       "    'outputs': ['psi_2_tOPL_1CP', 'psi_2_rOPL_1CP']},\n",
       "   'transfer': Eq(Matrix([\n",
       "   [psi_2_t(L_1)],\n",
       "   [psi_2_r(L_1)]]), Matrix([\n",
       "   [sqrt(R_3_2)*psi_3_r(L_2)/sqrt(conjugate(T_3_2)) + (-sqrt(R_3_2)*sqrt(conjugate(R_3_2))/sqrt(conjugate(T_3_2)) + sqrt(T_3_2))*psi_3_t(L_2)],\n",
       "   [                                         psi_3_r(L_2)/sqrt(conjugate(T_3_2)) - psi_3_t(L_2)*sqrt(conjugate(R_3_2))/sqrt(conjugate(T_3_2))]])),\n",
       "   'functionData': {'paramters': ['T_3_2',\n",
       "     'R_3_2',\n",
       "     'psi_3_tOPL_2CP',\n",
       "     'psi_3_rOPL_2CP'],\n",
       "    'functions': {'psi_2_tOPL_1CPFunction': <function _lambdifygenerated(T_3_2, R_3_2, psi_3_tOPL_2CP, psi_3_rOPL_2CP)>,\n",
       "     'psi_2_rOPL_1CPFunction': <function _lambdifygenerated(T_3_2, R_3_2, psi_3_tOPL_2CP, psi_3_rOPL_2CP)>}}}],\n",
       " 'transferFunctions': [{'from': <new_attempt.stateless.RegionSymbols at 0x7f5a26d11660>,\n",
       "   'to': <new_attempt.stateless.RegionSymbols at 0x7f5a26d11210>,\n",
       "   'matricies': {'inputs': ['T_1_0',\n",
       "     'R_1_0',\n",
       "     'psi_1_tOPL_0CP',\n",
       "     'psi_1_rOPL_0CP'],\n",
       "    'scatteringMatrix': Matrix([\n",
       "    [sqrt(conjugate(R_1_0)), sqrt(T_1_0)],\n",
       "    [sqrt(conjugate(T_1_0)), sqrt(R_1_0)]]),\n",
       "    'transferMatrix': Matrix([\n",
       "    [-sqrt(R_1_0)*sqrt(conjugate(R_1_0))/sqrt(conjugate(T_1_0)) + sqrt(T_1_0), sqrt(R_1_0)/sqrt(conjugate(T_1_0))],\n",
       "    [                          -sqrt(conjugate(R_1_0))/sqrt(conjugate(T_1_0)),           1/sqrt(conjugate(T_1_0))]]),\n",
       "    'outputs': ['psi_0_tOPL_N1CP', 'psi_0_rOPL_N1CP']},\n",
       "   'transfer': Eq(Matrix([\n",
       "   [psi_0_t(L_-1)],\n",
       "   [psi_0_r(L_-1)]]), Matrix([\n",
       "   [sqrt(R_1_0)*psi_1_r(L_0)/sqrt(conjugate(T_1_0)) + (-sqrt(R_1_0)*sqrt(conjugate(R_1_0))/sqrt(conjugate(T_1_0)) + sqrt(T_1_0))*psi_1_t(L_0)],\n",
       "   [                                         psi_1_r(L_0)/sqrt(conjugate(T_1_0)) - psi_1_t(L_0)*sqrt(conjugate(R_1_0))/sqrt(conjugate(T_1_0))]])),\n",
       "   'functionData': {'paramters': ['T_1_0',\n",
       "     'R_1_0',\n",
       "     'psi_1_tOPL_0CP',\n",
       "     'psi_1_rOPL_0CP'],\n",
       "    'functions': {'psi_0_tOPL_N1CPFunction': <function _lambdifygenerated(T_1_0, R_1_0, psi_1_tOPL_0CP, psi_1_rOPL_0CP)>,\n",
       "     'psi_0_rOPL_N1CPFunction': <function _lambdifygenerated(T_1_0, R_1_0, psi_1_tOPL_0CP, psi_1_rOPL_0CP)>}}},\n",
       "  {'from': <new_attempt.stateless.RegionSymbols at 0x7f5a26d11ab0>,\n",
       "   'to': <new_attempt.stateless.RegionSymbols at 0x7f5a26d11660>,\n",
       "   'matricies': {'inputs': ['T_2_1',\n",
       "     'R_2_1',\n",
       "     'psi_2_tOPL_1CP',\n",
       "     'psi_2_rOPL_1CP'],\n",
       "    'scatteringMatrix': Matrix([\n",
       "    [sqrt(conjugate(R_2_1)), sqrt(T_2_1)],\n",
       "    [sqrt(conjugate(T_2_1)), sqrt(R_2_1)]]),\n",
       "    'transferMatrix': Matrix([\n",
       "    [-sqrt(R_2_1)*sqrt(conjugate(R_2_1))/sqrt(conjugate(T_2_1)) + sqrt(T_2_1), sqrt(R_2_1)/sqrt(conjugate(T_2_1))],\n",
       "    [                          -sqrt(conjugate(R_2_1))/sqrt(conjugate(T_2_1)),           1/sqrt(conjugate(T_2_1))]]),\n",
       "    'outputs': ['psi_1_tOPL_0CP', 'psi_1_rOPL_0CP']},\n",
       "   'transfer': Eq(Matrix([\n",
       "   [psi_1_t(L_0)],\n",
       "   [psi_1_r(L_0)]]), Matrix([\n",
       "   [sqrt(R_2_1)*psi_2_r(L_1)/sqrt(conjugate(T_2_1)) + (-sqrt(R_2_1)*sqrt(conjugate(R_2_1))/sqrt(conjugate(T_2_1)) + sqrt(T_2_1))*psi_2_t(L_1)],\n",
       "   [                                         psi_2_r(L_1)/sqrt(conjugate(T_2_1)) - psi_2_t(L_1)*sqrt(conjugate(R_2_1))/sqrt(conjugate(T_2_1))]])),\n",
       "   'functionData': {'paramters': ['T_2_1',\n",
       "     'R_2_1',\n",
       "     'psi_2_tOPL_1CP',\n",
       "     'psi_2_rOPL_1CP'],\n",
       "    'functions': {'psi_1_tOPL_0CPFunction': <function _lambdifygenerated(T_2_1, R_2_1, psi_2_tOPL_1CP, psi_2_rOPL_1CP)>,\n",
       "     'psi_1_rOPL_0CPFunction': <function _lambdifygenerated(T_2_1, R_2_1, psi_2_tOPL_1CP, psi_2_rOPL_1CP)>}}},\n",
       "  {'from': <new_attempt.stateless.RegionSymbols at 0x7f5a26d11f00>,\n",
       "   'to': <new_attempt.stateless.RegionSymbols at 0x7f5a26d11ab0>,\n",
       "   'matricies': {'inputs': ['T_3_2',\n",
       "     'R_3_2',\n",
       "     'psi_3_tOPL_2CP',\n",
       "     'psi_3_rOPL_2CP'],\n",
       "    'scatteringMatrix': Matrix([\n",
       "    [sqrt(conjugate(R_3_2)), sqrt(T_3_2)],\n",
       "    [sqrt(conjugate(T_3_2)), sqrt(R_3_2)]]),\n",
       "    'transferMatrix': Matrix([\n",
       "    [-sqrt(R_3_2)*sqrt(conjugate(R_3_2))/sqrt(conjugate(T_3_2)) + sqrt(T_3_2), sqrt(R_3_2)/sqrt(conjugate(T_3_2))],\n",
       "    [                          -sqrt(conjugate(R_3_2))/sqrt(conjugate(T_3_2)),           1/sqrt(conjugate(T_3_2))]]),\n",
       "    'outputs': ['psi_2_tOPL_1CP', 'psi_2_rOPL_1CP']},\n",
       "   'transfer': Eq(Matrix([\n",
       "   [psi_2_t(L_1)],\n",
       "   [psi_2_r(L_1)]]), Matrix([\n",
       "   [sqrt(R_3_2)*psi_3_r(L_2)/sqrt(conjugate(T_3_2)) + (-sqrt(R_3_2)*sqrt(conjugate(R_3_2))/sqrt(conjugate(T_3_2)) + sqrt(T_3_2))*psi_3_t(L_2)],\n",
       "   [                                         psi_3_r(L_2)/sqrt(conjugate(T_3_2)) - psi_3_t(L_2)*sqrt(conjugate(R_3_2))/sqrt(conjugate(T_3_2))]])),\n",
       "   'functionData': {'paramters': ['T_3_2',\n",
       "     'R_3_2',\n",
       "     'psi_3_tOPL_2CP',\n",
       "     'psi_3_rOPL_2CP'],\n",
       "    'functions': {'psi_2_tOPL_1CPFunction': <function _lambdifygenerated(T_3_2, R_3_2, psi_3_tOPL_2CP, psi_3_rOPL_2CP)>,\n",
       "     'psi_2_rOPL_1CPFunction': <function _lambdifygenerated(T_3_2, R_3_2, psi_3_tOPL_2CP, psi_3_rOPL_2CP)>}}}]}"
      ]
     },
     "execution_count": 10,
     "metadata": {},
     "output_type": "execute_result"
    }
   ],
   "source": [
    "transferFunctions"
   ]
  },
  {
   "cell_type": "code",
   "execution_count": null,
   "id": "848d163a-d2c7-4e75-9aa8-f59f50622d20",
   "metadata": {},
   "outputs": [],
   "source": []
  },
  {
   "cell_type": "code",
   "execution_count": 11,
   "id": "886419ef-8c40-435e-933d-07d582f4f6d6",
   "metadata": {},
   "outputs": [
    {
     "data": {
      "text/plain": [
       "{'from': <new_attempt.stateless.RegionSymbols at 0x7f5a26d11660>,\n",
       " 'to': <new_attempt.stateless.RegionSymbols at 0x7f5a26d11210>,\n",
       " 'matricies': {'inputs': ['T_1_0',\n",
       "   'R_1_0',\n",
       "   'psi_1_tOPL_0CP',\n",
       "   'psi_1_rOPL_0CP'],\n",
       "  'scatteringMatrix': Matrix([\n",
       "  [sqrt(conjugate(R_1_0)), sqrt(T_1_0)],\n",
       "  [sqrt(conjugate(T_1_0)), sqrt(R_1_0)]]),\n",
       "  'transferMatrix': Matrix([\n",
       "  [-sqrt(R_1_0)*sqrt(conjugate(R_1_0))/sqrt(conjugate(T_1_0)) + sqrt(T_1_0), sqrt(R_1_0)/sqrt(conjugate(T_1_0))],\n",
       "  [                          -sqrt(conjugate(R_1_0))/sqrt(conjugate(T_1_0)),           1/sqrt(conjugate(T_1_0))]]),\n",
       "  'outputs': ['psi_0_tOPL_N1CP', 'psi_0_rOPL_N1CP']},\n",
       " 'transfer': Eq(Matrix([\n",
       " [psi_0_t(L_-1)],\n",
       " [psi_0_r(L_-1)]]), Matrix([\n",
       " [sqrt(R_1_0)*psi_1_r(L_0)/sqrt(conjugate(T_1_0)) + (-sqrt(R_1_0)*sqrt(conjugate(R_1_0))/sqrt(conjugate(T_1_0)) + sqrt(T_1_0))*psi_1_t(L_0)],\n",
       " [                                         psi_1_r(L_0)/sqrt(conjugate(T_1_0)) - psi_1_t(L_0)*sqrt(conjugate(R_1_0))/sqrt(conjugate(T_1_0))]])),\n",
       " 'functionData': {'paramters': ['T_1_0',\n",
       "   'R_1_0',\n",
       "   'psi_1_tOPL_0CP',\n",
       "   'psi_1_rOPL_0CP'],\n",
       "  'functions': {'psi_0_tOPL_N1CPFunction': <function _lambdifygenerated(T_1_0, R_1_0, psi_1_tOPL_0CP, psi_1_rOPL_0CP)>,\n",
       "   'psi_0_rOPL_N1CPFunction': <function _lambdifygenerated(T_1_0, R_1_0, psi_1_tOPL_0CP, psi_1_rOPL_0CP)>}}}"
      ]
     },
     "execution_count": 11,
     "metadata": {},
     "output_type": "execute_result"
    }
   ],
   "source": [
    "transferFunctions[\"transfers\"][0]"
   ]
  },
  {
   "cell_type": "code",
   "execution_count": 12,
   "id": "1066cc2d-4ba9-4549-a5b7-4568de9ce6fe",
   "metadata": {},
   "outputs": [
    {
     "data": {
      "text/plain": [
       "{'from': <new_attempt.stateless.RegionSymbols at 0x7f5a26d11ab0>,\n",
       " 'to': <new_attempt.stateless.RegionSymbols at 0x7f5a26d11660>,\n",
       " 'matricies': {'inputs': ['T_2_1',\n",
       "   'R_2_1',\n",
       "   'psi_2_tOPL_1CP',\n",
       "   'psi_2_rOPL_1CP'],\n",
       "  'scatteringMatrix': Matrix([\n",
       "  [sqrt(conjugate(R_2_1)), sqrt(T_2_1)],\n",
       "  [sqrt(conjugate(T_2_1)), sqrt(R_2_1)]]),\n",
       "  'transferMatrix': Matrix([\n",
       "  [-sqrt(R_2_1)*sqrt(conjugate(R_2_1))/sqrt(conjugate(T_2_1)) + sqrt(T_2_1), sqrt(R_2_1)/sqrt(conjugate(T_2_1))],\n",
       "  [                          -sqrt(conjugate(R_2_1))/sqrt(conjugate(T_2_1)),           1/sqrt(conjugate(T_2_1))]]),\n",
       "  'outputs': ['psi_1_tOPL_0CP', 'psi_1_rOPL_0CP']},\n",
       " 'transfer': Eq(Matrix([\n",
       " [psi_1_t(L_0)],\n",
       " [psi_1_r(L_0)]]), Matrix([\n",
       " [sqrt(R_2_1)*psi_2_r(L_1)/sqrt(conjugate(T_2_1)) + (-sqrt(R_2_1)*sqrt(conjugate(R_2_1))/sqrt(conjugate(T_2_1)) + sqrt(T_2_1))*psi_2_t(L_1)],\n",
       " [                                         psi_2_r(L_1)/sqrt(conjugate(T_2_1)) - psi_2_t(L_1)*sqrt(conjugate(R_2_1))/sqrt(conjugate(T_2_1))]])),\n",
       " 'functionData': {'paramters': ['T_2_1',\n",
       "   'R_2_1',\n",
       "   'psi_2_tOPL_1CP',\n",
       "   'psi_2_rOPL_1CP'],\n",
       "  'functions': {'psi_1_tOPL_0CPFunction': <function _lambdifygenerated(T_2_1, R_2_1, psi_2_tOPL_1CP, psi_2_rOPL_1CP)>,\n",
       "   'psi_1_rOPL_0CPFunction': <function _lambdifygenerated(T_2_1, R_2_1, psi_2_tOPL_1CP, psi_2_rOPL_1CP)>}}}"
      ]
     },
     "execution_count": 12,
     "metadata": {},
     "output_type": "execute_result"
    }
   ],
   "source": [
    "transferFunctions[\"transfers\"][1]"
   ]
  },
  {
   "cell_type": "code",
   "execution_count": 13,
   "id": "7d2149aa-ff73-4164-ad6c-980afa16753a",
   "metadata": {},
   "outputs": [
    {
     "data": {
      "text/plain": [
       "{'from': <new_attempt.stateless.RegionSymbols at 0x7f5a26d11f00>,\n",
       " 'to': <new_attempt.stateless.RegionSymbols at 0x7f5a26d11ab0>,\n",
       " 'matricies': {'inputs': ['T_3_2',\n",
       "   'R_3_2',\n",
       "   'psi_3_tOPL_2CP',\n",
       "   'psi_3_rOPL_2CP'],\n",
       "  'scatteringMatrix': Matrix([\n",
       "  [sqrt(conjugate(R_3_2)), sqrt(T_3_2)],\n",
       "  [sqrt(conjugate(T_3_2)), sqrt(R_3_2)]]),\n",
       "  'transferMatrix': Matrix([\n",
       "  [-sqrt(R_3_2)*sqrt(conjugate(R_3_2))/sqrt(conjugate(T_3_2)) + sqrt(T_3_2), sqrt(R_3_2)/sqrt(conjugate(T_3_2))],\n",
       "  [                          -sqrt(conjugate(R_3_2))/sqrt(conjugate(T_3_2)),           1/sqrt(conjugate(T_3_2))]]),\n",
       "  'outputs': ['psi_2_tOPL_1CP', 'psi_2_rOPL_1CP']},\n",
       " 'transfer': Eq(Matrix([\n",
       " [psi_2_t(L_1)],\n",
       " [psi_2_r(L_1)]]), Matrix([\n",
       " [sqrt(R_3_2)*psi_3_r(L_2)/sqrt(conjugate(T_3_2)) + (-sqrt(R_3_2)*sqrt(conjugate(R_3_2))/sqrt(conjugate(T_3_2)) + sqrt(T_3_2))*psi_3_t(L_2)],\n",
       " [                                         psi_3_r(L_2)/sqrt(conjugate(T_3_2)) - psi_3_t(L_2)*sqrt(conjugate(R_3_2))/sqrt(conjugate(T_3_2))]])),\n",
       " 'functionData': {'paramters': ['T_3_2',\n",
       "   'R_3_2',\n",
       "   'psi_3_tOPL_2CP',\n",
       "   'psi_3_rOPL_2CP'],\n",
       "  'functions': {'psi_2_tOPL_1CPFunction': <function _lambdifygenerated(T_3_2, R_3_2, psi_3_tOPL_2CP, psi_3_rOPL_2CP)>,\n",
       "   'psi_2_rOPL_1CPFunction': <function _lambdifygenerated(T_3_2, R_3_2, psi_3_tOPL_2CP, psi_3_rOPL_2CP)>}}}"
      ]
     },
     "execution_count": 13,
     "metadata": {},
     "output_type": "execute_result"
    }
   ],
   "source": [
    "transferFunctions[\"transfers\"][2]"
   ]
  },
  {
   "cell_type": "code",
   "execution_count": 14,
   "id": "4dc3bbcc-422c-4ebe-a776-6d9e4417a56f",
   "metadata": {},
   "outputs": [
    {
     "data": {
      "text/plain": [
       "3"
      ]
     },
     "execution_count": 14,
     "metadata": {},
     "output_type": "execute_result"
    }
   ],
   "source": [
    "len(transferFunctions[\"transfers\"])"
   ]
  },
  {
   "cell_type": "code",
   "execution_count": null,
   "id": "6edef393-00a1-4757-8362-22f440f052c7",
   "metadata": {},
   "outputs": [],
   "source": []
  },
  {
   "cell_type": "code",
   "execution_count": 15,
   "id": "b01e6867-5175-43dd-b450-8980df1c96ba",
   "metadata": {},
   "outputs": [],
   "source": [
    "#scatterCoefficients = [transferFunctions[\"transfers\"][ii]['matricies']['inputs'][0:2] for ii in range(len(transferFunctions[\"transfers\"]))]"
   ]
  },
  {
   "cell_type": "code",
   "execution_count": 16,
   "id": "6c25da17-1636-4e60-8b5c-4b1a6d535141",
   "metadata": {},
   "outputs": [],
   "source": [
    "#scatterCoefficientsDict = [{parameters[0] : 1, parameters[1] : 1} for parameters in scatterCoefficients]"
   ]
  },
  {
   "cell_type": "code",
   "execution_count": 17,
   "id": "62af5e1c-6731-4157-a6d5-acf326376f69",
   "metadata": {},
   "outputs": [],
   "source": [
    "#scatterCoefficientsDict"
   ]
  },
  {
   "cell_type": "code",
   "execution_count": null,
   "id": "c92c887b-8505-4ce2-b817-853a26236279",
   "metadata": {},
   "outputs": [],
   "source": []
  },
  {
   "cell_type": "code",
   "execution_count": null,
   "id": "e72d0867-409b-4c09-85dd-446ca4ec7339",
   "metadata": {},
   "outputs": [],
   "source": []
  },
  {
   "cell_type": "code",
   "execution_count": 19,
   "id": "822ae6b3-dffb-4d22-826e-6262dba91651",
   "metadata": {},
   "outputs": [],
   "source": [
    "transmissionReflectionCalculations = generateBoundryTransmissionReflectionCoefficients(\n",
    "        regionSymbols, \n",
    "        makeCoefficentsFromHarmonicConstants\n",
    "    )"
   ]
  },
  {
   "cell_type": "code",
   "execution_count": 20,
   "id": "572113bf-4730-4e0c-ba7d-bb2b0f512103",
   "metadata": {},
   "outputs": [
    {
     "data": {
      "text/plain": [
       "[{'from': <new_attempt.stateless.RegionSymbols at 0x7f5a26d11660>,\n",
       "  'to': <new_attempt.stateless.RegionSymbols at 0x7f5a26d11210>,\n",
       "  'inputs': ['k_1', 'k_0'],\n",
       "  'outputs': ['T_1_0', 'R_1_0'],\n",
       "  'computations': {'T_1_0': <function _lambdifygenerated(k_1, k_0)>,\n",
       "   'R_1_0': <function _lambdifygenerated(k_1, k_0)>}},\n",
       " {'from': <new_attempt.stateless.RegionSymbols at 0x7f5a26d11ab0>,\n",
       "  'to': <new_attempt.stateless.RegionSymbols at 0x7f5a26d11660>,\n",
       "  'inputs': ['k_2', 'k_1'],\n",
       "  'outputs': ['T_2_1', 'R_2_1'],\n",
       "  'computations': {'T_2_1': <function _lambdifygenerated(k_2, k_1)>,\n",
       "   'R_2_1': <function _lambdifygenerated(k_2, k_1)>}},\n",
       " {'from': <new_attempt.stateless.RegionSymbols at 0x7f5a26d11f00>,\n",
       "  'to': <new_attempt.stateless.RegionSymbols at 0x7f5a26d11ab0>,\n",
       "  'inputs': ['k_3', 'k_2'],\n",
       "  'outputs': ['T_3_2', 'R_3_2'],\n",
       "  'computations': {'T_3_2': <function _lambdifygenerated(k_3, k_2)>,\n",
       "   'R_3_2': <function _lambdifygenerated(k_3, k_2)>}}]"
      ]
     },
     "execution_count": 20,
     "metadata": {},
     "output_type": "execute_result"
    }
   ],
   "source": [
    "transmissionReflectionCalculations"
   ]
  },
  {
   "cell_type": "code",
   "execution_count": null,
   "id": "7cd33a56-5da8-4cd0-b917-7931f9b21219",
   "metadata": {},
   "outputs": [],
   "source": []
  },
  {
   "cell_type": "code",
   "execution_count": null,
   "id": "4c855f7e-8e50-4e3b-bf6b-eb4d27d1271d",
   "metadata": {},
   "outputs": [],
   "source": []
  },
  {
   "cell_type": "code",
   "execution_count": 21,
   "id": "03a3b9e6-8d3b-4abd-ab26-e16d3885d016",
   "metadata": {},
   "outputs": [],
   "source": [
    "trIns = {}\n",
    "for calculation in transmissionReflectionCalculations: \n",
    "    for input_ in calculation['inputs']: \n",
    "        trIns[input_] = 1.0"
   ]
  },
  {
   "cell_type": "code",
   "execution_count": 22,
   "id": "6c45ba36-f522-4c3e-8f6a-640f8c970283",
   "metadata": {},
   "outputs": [
    {
     "data": {
      "text/plain": [
       "{'k_1': 1.0, 'k_0': 1.0, 'k_2': 1.0, 'k_3': 1.0}"
      ]
     },
     "execution_count": 22,
     "metadata": {},
     "output_type": "execute_result"
    }
   ],
   "source": [
    "trIns"
   ]
  },
  {
   "cell_type": "code",
   "execution_count": 23,
   "id": "3455810a-81d7-4743-8c00-bde40dbe978f",
   "metadata": {},
   "outputs": [],
   "source": [
    "transmissionReflectionCoefficientsDict = calculateBoundryTransmissionReflectionCoefficients(transmissionReflectionCalculations, trIns)"
   ]
  },
  {
   "cell_type": "code",
   "execution_count": 24,
   "id": "6b433172-bfdd-406e-9dfa-7163859e43cc",
   "metadata": {},
   "outputs": [
    {
     "data": {
      "text/plain": [
       "[{'T_1_0': 1.0, 'R_1_0': 0.0},\n",
       " {'T_2_1': 1.0, 'R_2_1': 0.0},\n",
       " {'T_3_2': 1.0, 'R_3_2': 0.0}]"
      ]
     },
     "execution_count": 24,
     "metadata": {},
     "output_type": "execute_result"
    }
   ],
   "source": [
    "transmissionReflectionCoefficientsDict"
   ]
  },
  {
   "cell_type": "code",
   "execution_count": null,
   "id": "e8c7988b-c069-4d7b-be7d-b4a84753a985",
   "metadata": {},
   "outputs": [],
   "source": []
  },
  {
   "cell_type": "code",
   "execution_count": 25,
   "id": "f1809a8b-ff3f-4898-a1a5-09221b5a94cc",
   "metadata": {},
   "outputs": [
    {
     "data": {
      "text/plain": [
       "{'psi_3_tOPL_2CP': 1,\n",
       " 'psi_3_rOPL_2CP': 1,\n",
       " 'psi_2_tOPL_1CP': 1.0,\n",
       " 'psi_2_rOPL_1CP': 1.0,\n",
       " 'psi_1_tOPL_0CP': 1.0,\n",
       " 'psi_1_rOPL_0CP': 1.0,\n",
       " 'psi_0_tOPL_N1CP': 1.0,\n",
       " 'psi_0_rOPL_N1CP': 1.0}"
      ]
     },
     "execution_count": 25,
     "metadata": {},
     "output_type": "execute_result"
    }
   ],
   "source": [
    "transmissionReflectionCoefficientsDict = list(reversed(transmissionReflectionCoefficientsDict))\n",
    "transfers = list(reversed(transferFunctions['transfers']))\n",
    "performTransfers(transfers, 1, 1, transmissionReflectionCoefficientsDict)"
   ]
  },
  {
   "cell_type": "code",
   "execution_count": 26,
   "id": "afa0e55e-8785-4e36-8d7c-114d3db6ff61",
   "metadata": {},
   "outputs": [
    {
     "data": {
      "text/plain": [
       "[{'from': <new_attempt.stateless.RegionSymbols at 0x7f5a26d11f00>,\n",
       "  'to': <new_attempt.stateless.RegionSymbols at 0x7f5a26d11ab0>,\n",
       "  'matricies': {'inputs': ['T_3_2',\n",
       "    'R_3_2',\n",
       "    'psi_3_tOPL_2CP',\n",
       "    'psi_3_rOPL_2CP'],\n",
       "   'scatteringMatrix': Matrix([\n",
       "   [sqrt(conjugate(R_3_2)), sqrt(T_3_2)],\n",
       "   [sqrt(conjugate(T_3_2)), sqrt(R_3_2)]]),\n",
       "   'transferMatrix': Matrix([\n",
       "   [-sqrt(R_3_2)*sqrt(conjugate(R_3_2))/sqrt(conjugate(T_3_2)) + sqrt(T_3_2), sqrt(R_3_2)/sqrt(conjugate(T_3_2))],\n",
       "   [                          -sqrt(conjugate(R_3_2))/sqrt(conjugate(T_3_2)),           1/sqrt(conjugate(T_3_2))]]),\n",
       "   'outputs': ['psi_2_tOPL_1CP', 'psi_2_rOPL_1CP']},\n",
       "  'transfer': Eq(Matrix([\n",
       "  [psi_2_t(L_1)],\n",
       "  [psi_2_r(L_1)]]), Matrix([\n",
       "  [sqrt(R_3_2)*psi_3_r(L_2)/sqrt(conjugate(T_3_2)) + (-sqrt(R_3_2)*sqrt(conjugate(R_3_2))/sqrt(conjugate(T_3_2)) + sqrt(T_3_2))*psi_3_t(L_2)],\n",
       "  [                                         psi_3_r(L_2)/sqrt(conjugate(T_3_2)) - psi_3_t(L_2)*sqrt(conjugate(R_3_2))/sqrt(conjugate(T_3_2))]])),\n",
       "  'functionData': {'paramters': ['T_3_2',\n",
       "    'R_3_2',\n",
       "    'psi_3_tOPL_2CP',\n",
       "    'psi_3_rOPL_2CP'],\n",
       "   'functions': {'psi_2_tOPL_1CPFunction': <function _lambdifygenerated(T_3_2, R_3_2, psi_3_tOPL_2CP, psi_3_rOPL_2CP)>,\n",
       "    'psi_2_rOPL_1CPFunction': <function _lambdifygenerated(T_3_2, R_3_2, psi_3_tOPL_2CP, psi_3_rOPL_2CP)>}}},\n",
       " {'from': <new_attempt.stateless.RegionSymbols at 0x7f5a26d11ab0>,\n",
       "  'to': <new_attempt.stateless.RegionSymbols at 0x7f5a26d11660>,\n",
       "  'matricies': {'inputs': ['T_2_1',\n",
       "    'R_2_1',\n",
       "    'psi_2_tOPL_1CP',\n",
       "    'psi_2_rOPL_1CP'],\n",
       "   'scatteringMatrix': Matrix([\n",
       "   [sqrt(conjugate(R_2_1)), sqrt(T_2_1)],\n",
       "   [sqrt(conjugate(T_2_1)), sqrt(R_2_1)]]),\n",
       "   'transferMatrix': Matrix([\n",
       "   [-sqrt(R_2_1)*sqrt(conjugate(R_2_1))/sqrt(conjugate(T_2_1)) + sqrt(T_2_1), sqrt(R_2_1)/sqrt(conjugate(T_2_1))],\n",
       "   [                          -sqrt(conjugate(R_2_1))/sqrt(conjugate(T_2_1)),           1/sqrt(conjugate(T_2_1))]]),\n",
       "   'outputs': ['psi_1_tOPL_0CP', 'psi_1_rOPL_0CP']},\n",
       "  'transfer': Eq(Matrix([\n",
       "  [psi_1_t(L_0)],\n",
       "  [psi_1_r(L_0)]]), Matrix([\n",
       "  [sqrt(R_2_1)*psi_2_r(L_1)/sqrt(conjugate(T_2_1)) + (-sqrt(R_2_1)*sqrt(conjugate(R_2_1))/sqrt(conjugate(T_2_1)) + sqrt(T_2_1))*psi_2_t(L_1)],\n",
       "  [                                         psi_2_r(L_1)/sqrt(conjugate(T_2_1)) - psi_2_t(L_1)*sqrt(conjugate(R_2_1))/sqrt(conjugate(T_2_1))]])),\n",
       "  'functionData': {'paramters': ['T_2_1',\n",
       "    'R_2_1',\n",
       "    'psi_2_tOPL_1CP',\n",
       "    'psi_2_rOPL_1CP'],\n",
       "   'functions': {'psi_1_tOPL_0CPFunction': <function _lambdifygenerated(T_2_1, R_2_1, psi_2_tOPL_1CP, psi_2_rOPL_1CP)>,\n",
       "    'psi_1_rOPL_0CPFunction': <function _lambdifygenerated(T_2_1, R_2_1, psi_2_tOPL_1CP, psi_2_rOPL_1CP)>}}},\n",
       " {'from': <new_attempt.stateless.RegionSymbols at 0x7f5a26d11660>,\n",
       "  'to': <new_attempt.stateless.RegionSymbols at 0x7f5a26d11210>,\n",
       "  'matricies': {'inputs': ['T_1_0',\n",
       "    'R_1_0',\n",
       "    'psi_1_tOPL_0CP',\n",
       "    'psi_1_rOPL_0CP'],\n",
       "   'scatteringMatrix': Matrix([\n",
       "   [sqrt(conjugate(R_1_0)), sqrt(T_1_0)],\n",
       "   [sqrt(conjugate(T_1_0)), sqrt(R_1_0)]]),\n",
       "   'transferMatrix': Matrix([\n",
       "   [-sqrt(R_1_0)*sqrt(conjugate(R_1_0))/sqrt(conjugate(T_1_0)) + sqrt(T_1_0), sqrt(R_1_0)/sqrt(conjugate(T_1_0))],\n",
       "   [                          -sqrt(conjugate(R_1_0))/sqrt(conjugate(T_1_0)),           1/sqrt(conjugate(T_1_0))]]),\n",
       "   'outputs': ['psi_0_tOPL_N1CP', 'psi_0_rOPL_N1CP']},\n",
       "  'transfer': Eq(Matrix([\n",
       "  [psi_0_t(L_-1)],\n",
       "  [psi_0_r(L_-1)]]), Matrix([\n",
       "  [sqrt(R_1_0)*psi_1_r(L_0)/sqrt(conjugate(T_1_0)) + (-sqrt(R_1_0)*sqrt(conjugate(R_1_0))/sqrt(conjugate(T_1_0)) + sqrt(T_1_0))*psi_1_t(L_0)],\n",
       "  [                                         psi_1_r(L_0)/sqrt(conjugate(T_1_0)) - psi_1_t(L_0)*sqrt(conjugate(R_1_0))/sqrt(conjugate(T_1_0))]])),\n",
       "  'functionData': {'paramters': ['T_1_0',\n",
       "    'R_1_0',\n",
       "    'psi_1_tOPL_0CP',\n",
       "    'psi_1_rOPL_0CP'],\n",
       "   'functions': {'psi_0_tOPL_N1CPFunction': <function _lambdifygenerated(T_1_0, R_1_0, psi_1_tOPL_0CP, psi_1_rOPL_0CP)>,\n",
       "    'psi_0_rOPL_N1CPFunction': <function _lambdifygenerated(T_1_0, R_1_0, psi_1_tOPL_0CP, psi_1_rOPL_0CP)>}}}]"
      ]
     },
     "execution_count": 26,
     "metadata": {},
     "output_type": "execute_result"
    }
   ],
   "source": [
    "transfers"
   ]
  },
  {
   "cell_type": "code",
   "execution_count": null,
   "id": "48509a48-ade2-4e91-a297-e4788254f4d6",
   "metadata": {},
   "outputs": [],
   "source": []
  },
  {
   "cell_type": "code",
   "execution_count": null,
   "id": "210802c4-663d-442b-986d-df44cb05a588",
   "metadata": {},
   "outputs": [],
   "source": []
  },
  {
   "cell_type": "code",
   "execution_count": null,
   "id": "8548cef3-9d93-49f5-88a6-6758fee6fde0",
   "metadata": {},
   "outputs": [],
   "source": []
  },
  {
   "cell_type": "code",
   "execution_count": null,
   "id": "9bf8a2e9-baf4-4a00-b375-d192162e7581",
   "metadata": {},
   "outputs": [],
   "source": []
  },
  {
   "cell_type": "code",
   "execution_count": null,
   "id": "43055005-0226-4b05-8968-0af210ca2641",
   "metadata": {},
   "outputs": [],
   "source": []
  },
  {
   "cell_type": "code",
   "execution_count": null,
   "id": "85872037-40d6-411b-99b1-00cb6e3bfdc5",
   "metadata": {},
   "outputs": [],
   "source": []
  }
 ],
 "metadata": {
  "kernelspec": {
   "display_name": "Python 3 (ipykernel)",
   "language": "python",
   "name": "python3"
  },
  "language_info": {
   "codemirror_mode": {
    "name": "ipython",
    "version": 3
   },
   "file_extension": ".py",
   "mimetype": "text/x-python",
   "name": "python",
   "nbconvert_exporter": "python",
   "pygments_lexer": "ipython3",
   "version": "3.10.5"
  }
 },
 "nbformat": 4,
 "nbformat_minor": 5
}
