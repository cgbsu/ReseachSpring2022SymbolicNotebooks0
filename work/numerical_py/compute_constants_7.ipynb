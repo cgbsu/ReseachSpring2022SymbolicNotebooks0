{
 "cells": [
  {
   "cell_type": "code",
   "execution_count": 1,
   "id": "8c69371e-3b59-4f37-a0c0-390f1f253d4f",
   "metadata": {},
   "outputs": [],
   "source": [
    "from new_attempt.stateless import *"
   ]
  },
  {
   "cell_type": "code",
   "execution_count": 2,
   "id": "103ce23f-11ca-460a-b2a2-ee9237771a3e",
   "metadata": {},
   "outputs": [],
   "source": [
    "import numpy as np"
   ]
  },
  {
   "cell_type": "code",
   "execution_count": 3,
   "id": "ba03ff64-cf5a-4023-9e69-2853be990392",
   "metadata": {},
   "outputs": [],
   "source": [
    "import inspect"
   ]
  },
  {
   "cell_type": "code",
   "execution_count": 4,
   "id": "d26305ac-843e-45f2-9c56-96bef2aaf89c",
   "metadata": {},
   "outputs": [],
   "source": [
    "from matplotlib import pyplot as plt"
   ]
  },
  {
   "cell_type": "code",
   "execution_count": 5,
   "id": "48b8b2f9-72d7-4b08-be7c-779405f9e25b",
   "metadata": {},
   "outputs": [],
   "source": [
    "preliminaryData = createPreliminaryData(3)"
   ]
  },
  {
   "cell_type": "code",
   "execution_count": 6,
   "id": "daeb7e62-70cb-450b-9777-3748320f79a5",
   "metadata": {},
   "outputs": [],
   "source": [
    "regionFunctions = generateRegionFunctions(preliminaryData)"
   ]
  },
  {
   "cell_type": "code",
   "execution_count": null,
   "id": "e8189daa-f286-4615-a3bd-4ad27866fa16",
   "metadata": {},
   "outputs": [],
   "source": []
  },
  {
   "cell_type": "code",
   "execution_count": 7,
   "id": "92b0aa3a-fc6a-460e-abde-4146ecad00c4",
   "metadata": {},
   "outputs": [],
   "source": [
    "def matchesToIdentifiers(expression, pattern): \n",
    "    matches = list(expression.find(pattern))\n",
    "    return {match : symbolicToIdentifier(match) for match in matches}\n"
   ]
  },
  {
   "cell_type": "code",
   "execution_count": 8,
   "id": "ab918a2f-10f9-40ca-aecd-6d1304e8ac96",
   "metadata": {},
   "outputs": [],
   "source": [
    "def lambdifyWaveFunction(amplitudeCoefficientEquations : dict, position : sp.Symbol) -> dict: \n",
    "    unconstrainedParticularSolution = amplitudeCoefficientEquations[\"unconstrainedParticularSolution\"]\n",
    "    harmonicConstant = unconstrainedParticularSolution[\"amplitudes\"][\"harmonicConstant\"]\n",
    "    amplitudeCoefficients = list(amplitudeCoefficientEquations[\"extrapolatedComponentsOfConstants\"].keys())\n",
    "    exponential = unconstrainedParticularSolution[\"expandedExponential\"]\n",
    "    waveFunction = unconstrainedParticularSolution[\"exponential\"].rhs\n",
    "    functionSymbol = unconstrainedParticularSolution[\"exponential\"].lhs.func\n",
    "    conjugatedAmplitudeConstants = matchesToIdentifiers(\n",
    "            exponential, \n",
    "            sp.conjugate(sp.Wild(\"C\"))\n",
    "        )\n",
    "    sanitizedFunction = substituteIdentifierAtoms(\n",
    "            exponential.subs(conjugatedAmplitudeConstants)\n",
    "        )\n",
    "    \n",
    "    \n",
    "    waveFunctionParameters = amplitudeCoefficients + [\n",
    "          symbolicToIdentifier(parameter) \\\n",
    "          for parameter in [harmonicConstant, position]\n",
    "        ]\n",
    "    parameters = orderNames(\n",
    "            list(conjugatedAmplitudeConstants.values()) \\\n",
    "                    + waveFunctionParameters\n",
    "        )\n",
    "    positionIdentifier = symbolicToIdentifier(position)\n",
    "    amplitudeCoefficientSubstitutionList = substituteIdentifierAtomsList(exponential)\n",
    "    conjugateMap = {}\n",
    "    for conjugateSymbolic, identifier in conjugatedAmplitudeConstants.items():\n",
    "        cleanSymbol = conjugateSymbolic.args[0]\n",
    "        conjugateMap[amplitudeCoefficientSubstitutionList[cleanSymbol]] = identifier\n",
    "        \n",
    "    functionIdentifier = symbolicToIdentifier(functionSymbol)\n",
    "    baseNumericalFunction =  sp.lambdify(parameters, sanitizedFunction)\n",
    "    harmonicConstantIdentifier = symbolicToIdentifier(harmonicConstant)\n",
    "    def makeFunctionFromConstants(constants : dict) -> float: \n",
    "        amplitudeCoefficeintSolutions_ = {\n",
    "                solutionSetName : solutions \\\n",
    "                for solutionSetName, solutions \\\n",
    "                        in constants[\"amplitudeConstants\"].items() \\\n",
    "                if solutionSetName in amplitudeCoefficients\n",
    "            }\n",
    "        arguments = {}\n",
    "        for solutionSetName, solutions in amplitudeCoefficeintSolutions_.items(): \n",
    "            if len(solutions) == 2: \n",
    "                arguments[solutionSetName] = solutions[0] * 1j\n",
    "                ############################################################\n",
    "                ############################################################\n",
    "                #######################!!!!  TESTING !!!!###################\n",
    "                ############################################################\n",
    "                ############################################################\n",
    "                arguments[conjugateMap[solutionSetName]] = solutions[0] * -1j\n",
    "            else: \n",
    "                if type(solutions) is list: \n",
    "                    assert len(solutions) == 1, \"makeExponentialWithConjugates: \" \\\n",
    "                                                \"inproper number of solutions (must be zero or one)\" \\\n",
    "                                                \"for amplitude coefficient!\"\n",
    "                    arguments[solutionSetName] = solutions[0]\n",
    "                else: \n",
    "                    arguments[solutionSetName] = solutions\n",
    "        arguments[harmonicConstantIdentifier] = constants[\"harmonicConstants\"] \\\n",
    "                [harmonicConstantIdentifier]\n",
    "        return lambda position_ : baseNumericalFunction(**(\n",
    "                {positionIdentifier : position_} \n",
    "                | arguments\n",
    "            ))\n",
    "    numericalWaveFunction = sp.lambdify(\n",
    "            waveFunctionParameters, \n",
    "            substituteIdentifierAtoms(waveFunction)\n",
    "        )\n",
    "    def makeWaveFunctionFromConstants(constants : dict) -> complex: \n",
    "        arguments = {}\n",
    "        for constant in amplitudeCoefficients: \n",
    "            solutions = constants[\"amplitudeConstants\"][constant]\n",
    "            if type(solutions) is list: \n",
    "                if len(solutions) == 2:\n",
    "                    arguments[constant] = solutions[0] * 1j\n",
    "                else: \n",
    "                    assert len(solutions) == 1, \"makeWaveFunctionFromConstants: \" \\\n",
    "                                            \"inproper number of solutions (must be zero or one)\" \\\n",
    "                                            \"for amplitude coefficient!\"\n",
    "                    arguments[constant] = solutions[0] * 1j\n",
    "            else: \n",
    "                    arguments[constant] = solutions\n",
    "        arguments[harmonicConstantIdentifier] \\\n",
    "                = constants[\"harmonicConstants\"][harmonicConstantIdentifier]\n",
    "        return lambda position_ : numericalWaveFunction(\n",
    "                **({positionIdentifier : position_} | arguments)\n",
    "            )\n",
    "    return {\n",
    "            \"name\" : functionIdentifier, \n",
    "            \"functionFromConstantsBuilder\" : makeFunctionFromConstants, \n",
    "            \"makeWaveFunction\" : makeWaveFunctionFromConstants, \n",
    "            \"parameters\" : parameters, \n",
    "            \"symbol\" : functionSymbol, \n",
    "            \"position\" : position, \n",
    "            \"harmonicConstant\" : harmonicConstant, \n",
    "            \"amplitudeCoefficientIdentifiers\" : orderNames(amplitudeCoefficients), \n",
    "            \"amplitudeConjugateCoefficientIdentifiers\" : orderNames(list(\n",
    "                    conjugatedAmplitudeConstants.values())\n",
    "                ), \n",
    "        }"
   ]
  },
  {
   "cell_type": "code",
   "execution_count": 9,
   "id": "62356c64-6b91-42ef-9f6d-44f105f3ca03",
   "metadata": {},
   "outputs": [],
   "source": [
    "k_3 = 3"
   ]
  },
  {
   "cell_type": "code",
   "execution_count": 10,
   "id": "fa3504c7-eaf6-4d51-b8fe-6db2829e1005",
   "metadata": {},
   "outputs": [],
   "source": [
    "testBasicParameters = {\n",
    "    \"V_0\" : 1, \n",
    "    \"V_1\" : 2, \n",
    "    \"V_2\" : 3, \n",
    "    \"L_0\" : 2, \n",
    "    \"L_1\" : 3, \n",
    "    \"L_2\" : 4, \n",
    "    \"N_0\" : .1, \n",
    "    \"N_1\" : .2, \n",
    "    \"N_2\" : .7, \n",
    "    \"m\" : 1, \n",
    "    \"E_OCBtotalCCB\" : .5, \n",
    "    \"E_total\" : .5, \n",
    "    \"hbarX\" : 1, \n",
    "    \"k_3\" : k_3, ###### FOR TESTING ONLY\n",
    "    \"L_N1\" : 1, \n",
    "    \"B_3\" : 0\n",
    "}"
   ]
  },
  {
   "cell_type": "code",
   "execution_count": null,
   "id": "3a7b6f15-570e-4577-a04d-7144f113fc5b",
   "metadata": {},
   "outputs": [],
   "source": []
  },
  {
   "cell_type": "code",
   "execution_count": 11,
   "id": "25835347-4087-47c8-9a77-9b3761cd0640",
   "metadata": {},
   "outputs": [],
   "source": [
    "# Yoinked from computeSimulationConstants\n",
    "harmonicConstants = {\n",
    "        symbolicToIdentifier(functionData[\"equation\"].lhs) \n",
    "                : computeHarmonicConstant(\n",
    "                        functionData, \n",
    "                        testBasicParameters\n",
    "                    ) \\\n",
    "        for functionData in regionFunctions[\"harmonicConstantFunctions\"]\n",
    "    }\n"
   ]
  },
  {
   "cell_type": "code",
   "execution_count": 12,
   "id": "19328837-8d94-4177-b358-2d58549fdbed",
   "metadata": {},
   "outputs": [
    {
     "data": {
      "text/plain": [
       "{'k_0': 1.0000000000000002, 'k_1': 1.7320508075688772, 'k_2': 2.23606797749979}"
      ]
     },
     "execution_count": 12,
     "metadata": {},
     "output_type": "execute_result"
    }
   ],
   "source": [
    "harmonicConstants"
   ]
  },
  {
   "cell_type": "code",
   "execution_count": 13,
   "id": "e101fb79-0d91-42fe-86c5-a7a859b3b391",
   "metadata": {},
   "outputs": [],
   "source": [
    "harmonicConstants[\"k_3\"] = k_3"
   ]
  },
  {
   "cell_type": "code",
   "execution_count": 14,
   "id": "724e12c5-8bf6-4a12-996e-fa81768133ea",
   "metadata": {},
   "outputs": [
    {
     "data": {
      "text/plain": [
       "{'k_0': 1.0000000000000002,\n",
       " 'k_1': 1.7320508075688772,\n",
       " 'k_2': 2.23606797749979,\n",
       " 'k_3': 3}"
      ]
     },
     "execution_count": 14,
     "metadata": {},
     "output_type": "execute_result"
    }
   ],
   "source": [
    "harmonicConstants"
   ]
  },
  {
   "cell_type": "code",
   "execution_count": 15,
   "id": "aa96780b-0577-48ab-a911-5a3dfdcc894f",
   "metadata": {},
   "outputs": [],
   "source": [
    "trValues = {}\n",
    "for trFunctions in regionFunctions[\"transmissionReflectionFunctions\"]: \n",
    "    arguments = {parameter : harmonicConstants[parameter] for parameter in trFunctions[\"inputs\"]}\n",
    "    for name, calculator in trFunctions[\"computations\"].items(): \n",
    "        trValues[name] = calculator(**arguments)"
   ]
  },
  {
   "cell_type": "code",
   "execution_count": null,
   "id": "6bb6818c-a2b0-4e68-8ee6-f3e795e01b6a",
   "metadata": {},
   "outputs": [],
   "source": []
  },
  {
   "cell_type": "code",
   "execution_count": null,
   "id": "c1dbbc2a-e7d2-47ca-b494-4dd63ee4cddc",
   "metadata": {},
   "outputs": [],
   "source": []
  },
  {
   "cell_type": "code",
   "execution_count": null,
   "id": "90905704-0dc0-415b-a45c-139b534098d7",
   "metadata": {},
   "outputs": [],
   "source": []
  },
  {
   "cell_type": "code",
   "execution_count": 16,
   "id": "ded0d542-3707-420e-bac7-40e716db3852",
   "metadata": {},
   "outputs": [],
   "source": [
    "constants = computeSimulationConstants(preliminaryData, regionFunctions, testBasicParameters, 1, 1)"
   ]
  },
  {
   "cell_type": "code",
   "execution_count": null,
   "id": "f6c182dd-b13d-49ae-93b6-f84808cf7700",
   "metadata": {},
   "outputs": [],
   "source": []
  },
  {
   "cell_type": "code",
   "execution_count": 17,
   "id": "3f98d3a3-7e24-4b69-be90-f7c890e3ef08",
   "metadata": {},
   "outputs": [
    {
     "data": {
      "text/plain": [
       "{'harmonicConstants': {'k_0': 1.0000000000000002,\n",
       "  'k_1': 1.7320508075688772,\n",
       "  'k_2': 2.23606797749979},\n",
       " 'transfers': [{'from': {'region': <new_attempt.stateless.RegionSymbols at 0x7f6f81a07e50>,\n",
       "    'matrix': Matrix([\n",
       "    [psi_2_t(L_1)],\n",
       "    [psi_2_r(L_1)]])},\n",
       "   'to': {'region': <new_attempt.stateless.RegionSymbols at 0x7f6f81a07a00>,\n",
       "    'matrix': Matrix([\n",
       "    [psi_3_t(L_2)],\n",
       "    [psi_3_r(L_2)]])},\n",
       "   'transferValues': {'psi_3_tOPL_2CP': 1, 'psi_3_rOPL_2CP': 1}},\n",
       "  {'from': {'region': <new_attempt.stateless.RegionSymbols at 0x7f6f81a07e50>,\n",
       "    'matrix': Matrix([\n",
       "    [psi_2_t(L_1)],\n",
       "    [psi_2_r(L_1)]])},\n",
       "   'to': {'region': <new_attempt.stateless.RegionSymbols at 0x7f6f81a07a00>,\n",
       "    'matrix': Matrix([\n",
       "    [psi_3_t(L_2)],\n",
       "    [psi_3_r(L_2)]])},\n",
       "   'transferValues': {'psi_2_tOPL_1CP': 1.2909944487358058,\n",
       "    'psi_2_rOPL_1CP': 0.5773502691896257}},\n",
       "  {'from': {'region': <new_attempt.stateless.RegionSymbols at 0x7f6f81a07a00>,\n",
       "    'matrix': Matrix([\n",
       "    [psi_1_t(L_0)],\n",
       "    [psi_1_r(L_0)]])},\n",
       "   'to': {'region': <new_attempt.stateless.RegionSymbols at 0x7f6f81a075b0>,\n",
       "    'matrix': Matrix([\n",
       "    [psi_2_t(L_1)],\n",
       "    [psi_2_r(L_1)]])},\n",
       "   'transferValues': {'psi_1_tOPL_0CP': 1.4098944287730744,\n",
       "    'psi_1_rOPL_0CP': 0.1104431967784617}},\n",
       "  {'from': {'region': <new_attempt.stateless.RegionSymbols at 0x7f6f81a075b0>,\n",
       "    'matrix': Matrix([\n",
       "    [psi_0_t(L_-1)],\n",
       "    [psi_0_r(L_-1)]])},\n",
       "   'to': {'region': <new_attempt.stateless.RegionSymbols at 0x7f6f81a07160>,\n",
       "    'matrix': Matrix([\n",
       "    [psi_1_t(L_0)],\n",
       "    [psi_1_r(L_0)]])},\n",
       "   'transferValues': {'psi_0_tOPL_N1CP': 1.3028611815682298,\n",
       "    'psi_0_rOPL_N1CP': -0.5500479447853941}}],\n",
       " 'boundryIndexedTransfers': {'B_2': 1.8683447179254316,\n",
       "  'B_1': 1.520337625551536,\n",
       "  'B_0': 0.7528132367828357},\n",
       " 'amplitudeConstants': {'C_OCBOCB0CCB_tCCB': [0.07179025043339571,\n",
       "   -0.07179025043339571],\n",
       "  'C_OCBOCB0CCB_rCCB': [4.121730109778945, -4.121730109778945],\n",
       "  'C_OCBOCB1CCB_tCCB': [0.008258172236487468, -0.008258172236487468],\n",
       "  'C_OCBOCB1CCB_rCCB': [59.264181334475055, -59.264181334475055],\n",
       "  'C_OCBOCB2CCB_tCCB': [0.0003387147991817995, -0.0003387147991817995],\n",
       "  'C_OCBOCB2CCB_rCCB': [1466.9562132186725, -1466.9562132186725]}}"
      ]
     },
     "execution_count": 17,
     "metadata": {},
     "output_type": "execute_result"
    }
   ],
   "source": [
    "constants"
   ]
  },
  {
   "cell_type": "code",
   "execution_count": null,
   "id": "b1002b0e-4cf3-46d3-9a55-26061313e471",
   "metadata": {},
   "outputs": [],
   "source": []
  },
  {
   "cell_type": "code",
   "execution_count": 18,
   "id": "c20f9952-41ad-481e-a804-093a8eb4feaf",
   "metadata": {},
   "outputs": [],
   "source": [
    "waveFunctionGenerators = [\n",
    "            lambdifyWaveFunction(function[\"amplitudeCoefficientEquations\"], POSITION_SYMBOL)\n",
    "            for function in regionFunctions[\"amplitudeConstantFunctions\"]\n",
    "    ]"
   ]
  },
  {
   "cell_type": "code",
   "execution_count": null,
   "id": "8c5bfe30-a5b6-4cfc-ad06-0f14c932fbf3",
   "metadata": {},
   "outputs": [],
   "source": []
  },
  {
   "cell_type": "code",
   "execution_count": 19,
   "id": "792cd469-0949-453e-ac1d-fc1806df501b",
   "metadata": {},
   "outputs": [],
   "source": [
    "probabilityFunctions = [\n",
    "        generator[\"functionFromConstantsBuilder\"](constants) \\\n",
    "        for generator in waveFunctionGenerators\n",
    "    ]"
   ]
  },
  {
   "cell_type": "code",
   "execution_count": 20,
   "id": "baf22047-0b46-442b-8243-d50ff39b2f54",
   "metadata": {},
   "outputs": [
    {
     "data": {
      "text/plain": [
       "[<function __main__.lambdifyWaveFunction.<locals>.makeFunctionFromConstants.<locals>.<lambda>(position_)>,\n",
       " <function __main__.lambdifyWaveFunction.<locals>.makeFunctionFromConstants.<locals>.<lambda>(position_)>,\n",
       " <function __main__.lambdifyWaveFunction.<locals>.makeFunctionFromConstants.<locals>.<lambda>(position_)>]"
      ]
     },
     "execution_count": 20,
     "metadata": {},
     "output_type": "execute_result"
    }
   ],
   "source": [
    "probabilityFunctions "
   ]
  },
  {
   "cell_type": "code",
   "execution_count": 21,
   "id": "dd3721e8-eb57-4e96-b399-09d996f5afdc",
   "metadata": {},
   "outputs": [],
   "source": [
    "L_N1 = testBasicParameters[\"L_N1\"]\n",
    "L_0 = testBasicParameters[\"L_0\"]\n",
    "L_1 = testBasicParameters[\"L_1\"]\n",
    "L_2 = testBasicParameters[\"L_2\"]\n",
    "resolution = .01"
   ]
  },
  {
   "cell_type": "code",
   "execution_count": 22,
   "id": "e456ee6c-8958-490f-8911-2ac253c9efb3",
   "metadata": {},
   "outputs": [],
   "source": [
    "domains = [\n",
    "        np.arange(L_N1, L_0, resolution), \n",
    "        np.arange(L_0, L_1, resolution), \n",
    "        np.arange(L_1, L_2, resolution)\n",
    "    ]"
   ]
  },
  {
   "cell_type": "code",
   "execution_count": 23,
   "id": "0e66010d-cf19-4dad-b119-959e72dcb615",
   "metadata": {},
   "outputs": [],
   "source": [
    "waveFunctionProbabilities = [\n",
    "        probabilityFunctions[ii](domains[ii])\n",
    "        for ii in range(len(probabilityFunctions))\n",
    "    ]"
   ]
  },
  {
   "cell_type": "code",
   "execution_count": 24,
   "id": "5e2a449a-dd53-4b76-8111-f8b4ea571741",
   "metadata": {},
   "outputs": [
    {
     "name": "stderr",
     "output_type": "stream",
     "text": [
      "/opt/conda/lib/python3.10/site-packages/matplotlib/cbook/__init__.py:1298: ComplexWarning: Casting complex values to real discards the imaginary part\n",
      "  return np.asarray(x, float)\n"
     ]
    },
    {
     "data": {
      "text/plain": [
       "[<matplotlib.lines.Line2D at 0x7f6f7f0013f0>]"
      ]
     },
     "execution_count": 24,
     "metadata": {},
     "output_type": "execute_result"
    },
    {
     "data": {
      "image/png": "[encoded data removed]",
      "text/plain": [
       "<Figure size 432x288 with 1 Axes>"
      ]
     },
     "metadata": {
      "needs_background": "light"
     },
     "output_type": "display_data"
    }
   ],
   "source": [
    "plt.plot(domains[0], waveFunctionProbabilities[0])"
   ]
  },
  {
   "cell_type": "code",
   "execution_count": 25,
   "id": "3923dfd3-5d63-4392-9f9d-b8b30193c092",
   "metadata": {},
   "outputs": [
    {
     "data": {
      "text/plain": [
       "[<matplotlib.lines.Line2D at 0x7f6f7e8334c0>]"
      ]
     },
     "execution_count": 25,
     "metadata": {},
     "output_type": "execute_result"
    },
    {
     "data": {
      "image/png": "[encoded data removed]",
      "text/plain": [
       "<Figure size 432x288 with 1 Axes>"
      ]
     },
     "metadata": {
      "needs_background": "light"
     },
     "output_type": "display_data"
    }
   ],
   "source": [
    "plt.plot(domains[1], waveFunctionProbabilities[1])"
   ]
  },
  {
   "cell_type": "code",
   "execution_count": 26,
   "id": "4dfd2d37-855d-4b04-b2bf-bef34199baed",
   "metadata": {},
   "outputs": [
    {
     "data": {
      "text/plain": [
       "[<matplotlib.lines.Line2D at 0x7f6f7e8a1240>]"
      ]
     },
     "execution_count": 26,
     "metadata": {},
     "output_type": "execute_result"
    },
    {
     "data": {
      "image/png": "[encoded data removed]",
      "text/plain": [
       "<Figure size 432x288 with 1 Axes>"
      ]
     },
     "metadata": {
      "needs_background": "light"
     },
     "output_type": "display_data"
    }
   ],
   "source": [
    "plt.plot(domains[2], waveFunctionProbabilities[2])"
   ]
  },
  {
   "cell_type": "code",
   "execution_count": 27,
   "id": "6e24b4b3-e853-4aba-8cbb-3566c4ae93c3",
   "metadata": {},
   "outputs": [
    {
     "data": {
      "image/png": "[encoded data removed]",
      "text/plain": [
       "<Figure size 432x288 with 1 Axes>"
      ]
     },
     "metadata": {
      "needs_background": "light"
     },
     "output_type": "display_data"
    }
   ],
   "source": [
    "for ii in range(len(waveFunctionProbabilities)): \n",
    "    plt.plot(domains[ii], waveFunctionProbabilities[ii])"
   ]
  },
  {
   "cell_type": "code",
   "execution_count": 28,
   "id": "87ab42d8-67d8-44bb-9360-0b31fe475839",
   "metadata": {},
   "outputs": [
    {
     "data": {
      "image/png": "[encoded data removed]",
      "text/plain": [
       "<Figure size 432x288 with 1 Axes>"
      ]
     },
     "metadata": {
      "needs_background": "light"
     },
     "output_type": "display_data"
    }
   ],
   "source": [
    "for ii in range(len(waveFunctionProbabilities)): \n",
    "    plt.plot(domains[ii], list(reversed(waveFunctionProbabilities[ii])))"
   ]
  },
  {
   "cell_type": "code",
   "execution_count": 29,
   "id": "355dbba9-79b1-40f8-a922-00a90a9a47b2",
   "metadata": {},
   "outputs": [
    {
     "data": {
      "image/png": "[encoded data removed]",
      "text/plain": [
       "<Figure size 432x288 with 1 Axes>"
      ]
     },
     "metadata": {
      "needs_background": "light"
     },
     "output_type": "display_data"
    }
   ],
   "source": [
    "testDomain = np.arange(0, 4.3, resolution)\n",
    "for ii in range(len(probabilityFunctions)): \n",
    "    plt.ylim([-10, 10])\n",
    "    plt.plot(testDomain, probabilityFunctions[ii](testDomain))"
   ]
  },
  {
   "cell_type": "code",
   "execution_count": 30,
   "id": "90890724-9043-4da4-afa2-702258a16ecf",
   "metadata": {},
   "outputs": [],
   "source": [
    "waveFunctions = [\n",
    "        generator[\"makeWaveFunction\"](constants) \\\n",
    "        for generator in waveFunctionGenerators\n",
    "    ]"
   ]
  },
  {
   "cell_type": "code",
   "execution_count": 31,
   "id": "6f33fb0a-b39a-4b9c-ae7a-c476a2edefad",
   "metadata": {},
   "outputs": [],
   "source": [
    "probabilityAmplitudes = [\n",
    "        waveFunctions[ii](domains[ii])\n",
    "        for ii in range(len(waveFunctions))\n",
    "    ]"
   ]
  },
  {
   "cell_type": "code",
   "execution_count": 32,
   "id": "8008f467-6cc0-4c90-b94d-8b7585714f7c",
   "metadata": {},
   "outputs": [
    {
     "data": {
      "image/png": "[encoded data removed]",
      "text/plain": [
       "<Figure size 432x288 with 1 Axes>"
      ]
     },
     "metadata": {
      "needs_background": "light"
     },
     "output_type": "display_data"
    }
   ],
   "source": [
    "for ii in range(len(probabilityAmplitudes)): \n",
    "    plt.plot(domains[ii], 1j * probabilityAmplitudes[ii])"
   ]
  },
  {
   "cell_type": "code",
   "execution_count": 33,
   "id": "f8908b9d-2023-4f33-a50b-2a5ab313ba73",
   "metadata": {},
   "outputs": [
    {
     "data": {
      "text/plain": [
       "'        return lambda position_ : numericalWaveFunction(\\n                **({positionIdentifier : position_} | arguments)\\n            )\\n'"
      ]
     },
     "execution_count": 33,
     "metadata": {},
     "output_type": "execute_result"
    }
   ],
   "source": [
    "inspect.getsource(waveFunctions[0])"
   ]
  },
  {
   "cell_type": "code",
   "execution_count": 34,
   "id": "68bdb84f-7e60-4ca5-b71f-d73a1dde2212",
   "metadata": {},
   "outputs": [
    {
     "data": {
      "text/plain": [
       "array([0.+1.7114459j , 0.+1.69831972j, 0.+1.68536337j, 0.+1.67257556j,\n",
       "       0.+1.659955j  , 0.+1.64750045j, 0.+1.63521064j, 0.+1.62308436j,\n",
       "       0.+1.61112039j, 0.+1.59931753j, 0.+1.5876746j , 0.+1.57619044j,\n",
       "       0.+1.5648639j , 0.+1.55369385j, 0.+1.54267918j, 0.+1.53181877j,\n",
       "       0.+1.52111154j, 0.+1.51055643j, 0.+1.50015237j, 0.+1.48989833j,\n",
       "       0.+1.47979328j, 0.+1.46983621j, 0.+1.46002612j, 0.+1.45036204j,\n",
       "       0.+1.440843j  , 0.+1.43146804j, 0.+1.42223623j, 0.+1.41314665j,\n",
       "       0.+1.40419838j, 0.+1.39539053j, 0.+1.38672222j, 0.+1.37819259j,\n",
       "       0.+1.36980078j, 0.+1.36154594j, 0.+1.35342727j, 0.+1.34544393j,\n",
       "       0.+1.33759515j, 0.+1.32988012j, 0.+1.32229808j, 0.+1.31484827j,\n",
       "       0.+1.30752995j, 0.+1.30034239j, 0.+1.29328485j, 0.+1.28635665j,\n",
       "       0.+1.27955709j, 0.+1.27288548j, 0.+1.26634116j, 0.+1.25992348j,\n",
       "       0.+1.25363178j, 0.+1.24746546j, 0.+1.24142388j, 0.+1.23550645j,\n",
       "       0.+1.22971256j, 0.+1.22404165j, 0.+1.21849314j, 0.+1.21306649j,\n",
       "       0.+1.20776114j, 0.+1.20257657j, 0.+1.19751226j, 0.+1.1925677j ,\n",
       "       0.+1.1877424j , 0.+1.18303587j, 0.+1.17844765j, 0.+1.17397727j,\n",
       "       0.+1.16962429j, 0.+1.16538828j, 0.+1.1612688j , 0.+1.15726546j,\n",
       "       0.+1.15337784j, 0.+1.14960555j, 0.+1.14594824j, 0.+1.14240551j,\n",
       "       0.+1.13897703j, 0.+1.13566245j, 0.+1.13246143j, 0.+1.12937366j,\n",
       "       0.+1.12639883j, 0.+1.12353664j, 0.+1.12078681j, 0.+1.11814905j,\n",
       "       0.+1.11562311j, 0.+1.11320873j, 0.+1.11090568j, 0.+1.10871372j,\n",
       "       0.+1.10663263j, 0.+1.1046622j , 0.+1.10280224j, 0.+1.10105256j,\n",
       "       0.+1.09941299j, 0.+1.09788336j, 0.+1.09646352j, 0.+1.09515332j,\n",
       "       0.+1.09395265j, 0.+1.09286137j, 0.+1.09187937j, 0.+1.09100657j,\n",
       "       0.+1.09024286j, 0.+1.08958818j, 0.+1.08904247j, 0.+1.08860565j])"
      ]
     },
     "execution_count": 34,
     "metadata": {},
     "output_type": "execute_result"
    }
   ],
   "source": [
    "probabilityAmplitudes[0]"
   ]
  },
  {
   "cell_type": "code",
   "execution_count": 35,
   "id": "b38d0ecd-9606-4f45-a975-f4e5e74a6791",
   "metadata": {},
   "outputs": [
    {
     "data": {
      "image/png": "[encoded data removed]",
      "text/plain": [
       "<Figure size 432x288 with 1 Axes>"
      ]
     },
     "metadata": {
      "needs_background": "light"
     },
     "output_type": "display_data"
    }
   ],
   "source": [
    "testDomain = np.arange(0, 5, resolution)\n",
    "for ii in range(len(probabilityFunctions)): \n",
    "    plt.ylim([-10, 10])\n",
    "    plt.plot(testDomain, waveFunctions[ii](testDomain) * 1j)"
   ]
  },
  {
   "cell_type": "code",
   "execution_count": 36,
   "id": "bb41f302-3eb2-452e-99fc-8a0a73a5a44e",
   "metadata": {},
   "outputs": [
    {
     "data": {
      "image/png": "[encoded data removed]",
      "text/plain": [
       "<Figure size 432x288 with 1 Axes>"
      ]
     },
     "metadata": {
      "needs_background": "light"
     },
     "output_type": "display_data"
    }
   ],
   "source": [
    "testDomain = np.arange(0, 5, resolution)\n",
    "for ii in range(len(probabilityFunctions)): \n",
    "    plt.ylim([-10, 10])\n",
    "    plt.plot(testDomain, waveFunctions[ii](testDomain) * 1j * waveFunctions[ii](testDomain) * -1j)"
   ]
  },
  {
   "cell_type": "code",
   "execution_count": null,
   "id": "8cc96766-5405-44fc-86dc-20c500ecaac2",
   "metadata": {},
   "outputs": [],
   "source": []
  },
  {
   "cell_type": "code",
   "execution_count": null,
   "id": "3906c7e0-d9b9-4355-bd28-1be1940ba099",
   "metadata": {},
   "outputs": [],
   "source": []
  },
  {
   "cell_type": "code",
   "execution_count": null,
   "id": "4ab21334-192d-460c-a292-7c1a958dd08a",
   "metadata": {},
   "outputs": [],
   "source": []
  },
  {
   "cell_type": "code",
   "execution_count": null,
   "id": "8742c5c0-8b6c-45c4-8f7a-b1c816c1f469",
   "metadata": {},
   "outputs": [],
   "source": []
  },
  {
   "cell_type": "code",
   "execution_count": null,
   "id": "6d56136e-03eb-4624-be74-c19b1decdca1",
   "metadata": {},
   "outputs": [],
   "source": []
  }
 ],
 "metadata": {
  "kernelspec": {
   "display_name": "Python 3 (ipykernel)",
   "language": "python",
   "name": "python3"
  },
  "language_info": {
   "codemirror_mode": {
    "name": "ipython",
    "version": 3
   },
   "file_extension": ".py",
   "mimetype": "text/x-python",
   "name": "python",
   "nbconvert_exporter": "python",
   "pygments_lexer": "ipython3",
   "version": "3.10.5"
  }
 },
 "nbformat": 4,
 "nbformat_minor": 5
}
