{
 "cells": [
  {
   "cell_type": "code",
   "execution_count": 1,
   "id": "bcabda5c-507d-4836-9a47-4bcd4ceac5dc",
   "metadata": {},
   "outputs": [],
   "source": [
    "import sympy as sp"
   ]
  },
  {
   "cell_type": "code",
   "execution_count": 2,
   "id": "195988d9-5896-4f7e-95e8-60f7ad0c6b5b",
   "metadata": {},
   "outputs": [],
   "source": [
    "import numpy as np"
   ]
  },
  {
   "cell_type": "code",
   "execution_count": null,
   "id": "22d7117d-2290-4378-9c1a-286c453567a9",
   "metadata": {},
   "outputs": [],
   "source": []
  },
  {
   "cell_type": "code",
   "execution_count": 3,
   "id": "62d06a19-181d-4203-b340-975873920b83",
   "metadata": {},
   "outputs": [],
   "source": [
    "from custom_libraries.schrodinger import *"
   ]
  },
  {
   "cell_type": "code",
   "execution_count": null,
   "id": "01b5d4c9-85bc-4eaf-a360-b65559bb6a6e",
   "metadata": {},
   "outputs": [],
   "source": []
  },
  {
   "cell_type": "code",
   "execution_count": 4,
   "id": "06c12e47-41e5-4da7-952c-5867a582048b",
   "metadata": {},
   "outputs": [],
   "source": [
    "def real_harmonics( _ ):\n",
    "    assumptions = standard_harmonic_assumptions( _ );\n",
    "    assumptions.update( { 'real' : True } )\n",
    "    return assumptions"
   ]
  },
  {
   "cell_type": "code",
   "execution_count": null,
   "id": "f8c61680-085e-4d28-a826-fb3e8e0a7cd4",
   "metadata": {},
   "outputs": [],
   "source": []
  },
  {
   "cell_type": "code",
   "execution_count": 5,
   "id": "a3770f57-3dfc-4481-8b0b-3e71350ac7bb",
   "metadata": {},
   "outputs": [],
   "source": [
    "stairwell_solver = TimeIndependentSchrodingerConstantPotentials1D( \n",
    "        StairWell.default_non_uniform_length_potential_table(), \n",
    "        tuple( StairWell.default_non_uniform_length_potential_table().keys() )[ -1 ], \n",
    "        make_psis = make_psi_numbered, \n",
    "        harmonics_assumptions = real_harmonics, \n",
    "        repeating = False, \n",
    "        #as_distances = True, \n",
    "        as_distances = False, \n",
    "        #normalization_conjugate_not_squared_absolute_value = False\n",
    "    )"
   ]
  },
  {
   "cell_type": "code",
   "execution_count": null,
   "id": "d73c5f14-2bf9-4287-a1f7-2fe427b2feba",
   "metadata": {},
   "outputs": [],
   "source": []
  },
  {
   "cell_type": "code",
   "execution_count": 6,
   "id": "ffdd4f5b-54e1-45c5-837a-2e59d4abf687",
   "metadata": {},
   "outputs": [
    {
     "data": {
      "text/latex": [
       "$\\displaystyle - k_{0}^{2} \\psi_{0}{\\left(x \\right)} + \\frac{d^{2}}{d x^{2}} \\psi_{0}{\\left(x \\right)} = 0$"
      ],
      "text/plain": [
       "Eq(-k_0**2*\\psi_{0}(x) + Derivative(\\psi_{0}(x), (x, 2)), 0)"
      ]
     },
     "metadata": {},
     "output_type": "display_data"
    },
    {
     "data": {
      "text/latex": [
       "$\\displaystyle - k_{1}^{2} \\psi_{1}{\\left(x \\right)} + \\frac{d^{2}}{d x^{2}} \\psi_{1}{\\left(x \\right)} = 0$"
      ],
      "text/plain": [
       "Eq(-k_1**2*\\psi_{1}(x) + Derivative(\\psi_{1}(x), (x, 2)), 0)"
      ]
     },
     "metadata": {},
     "output_type": "display_data"
    },
    {
     "data": {
      "text/latex": [
       "$\\displaystyle - k_{2}^{2} \\psi_{2}{\\left(x \\right)} + \\frac{d^{2}}{d x^{2}} \\psi_{2}{\\left(x \\right)} = 0$"
      ],
      "text/plain": [
       "Eq(-k_2**2*\\psi_{2}(x) + Derivative(\\psi_{2}(x), (x, 2)), 0)"
      ]
     },
     "metadata": {},
     "output_type": "display_data"
    }
   ],
   "source": [
    "display_steps( stairwell_solver.equations )"
   ]
  },
  {
   "cell_type": "code",
   "execution_count": null,
   "id": "1e7d3f11-f000-4437-9772-eea2b7aef180",
   "metadata": {},
   "outputs": [],
   "source": []
  },
  {
   "cell_type": "code",
   "execution_count": 7,
   "id": "5d3b09b6-e170-4a94-994d-18ae10544821",
   "metadata": {},
   "outputs": [],
   "source": [
    "odes = stairwell_solver.solve_odes()"
   ]
  },
  {
   "cell_type": "code",
   "execution_count": null,
   "id": "f278871c-371c-4a29-b1b8-200e418a85f2",
   "metadata": {},
   "outputs": [],
   "source": []
  },
  {
   "cell_type": "code",
   "execution_count": 8,
   "id": "6b4d0d24-94a2-426b-8558-9ac861634478",
   "metadata": {},
   "outputs": [
    {
     "data": {
      "text/latex": [
       "$\\displaystyle \\psi_{0}{\\left(x \\right)} = C_{2} e^{k_{0} x} + \\left(- C_{2} e^{2 L_{0} k_{0}} + \\psi_{1}{\\left(L_{0} \\right)} e^{L_{0} k_{0}}\\right) e^{- k_{0} x}$"
      ],
      "text/plain": [
       "Eq(\\psi_{0}(x), C2*exp(k_0*x) + (-C2*exp(2*L_0*k_0) + \\psi_{1}(L_0)*exp(L_0*k_0))*exp(-k_0*x))"
      ]
     },
     "metadata": {},
     "output_type": "display_data"
    },
    {
     "data": {
      "text/latex": [
       "$\\displaystyle \\psi_{1}{\\left(x \\right)} = \\left(\\frac{\\psi_{0}{\\left(L_{0} \\right)} e^{L_{0} k_{1}}}{e^{2 L_{0} k_{1}} - e^{2 L_{1} k_{1}}} - \\frac{\\psi_{2}{\\left(L_{1} \\right)} e^{L_{1} k_{1}}}{e^{2 L_{0} k_{1}} - e^{2 L_{1} k_{1}}}\\right) e^{k_{1} x} + \\left(- \\frac{\\psi_{0}{\\left(L_{0} \\right)} e^{L_{0} k_{1}} e^{2 L_{1} k_{1}}}{e^{2 L_{0} k_{1}} - e^{2 L_{1} k_{1}}} + \\frac{\\psi_{2}{\\left(L_{1} \\right)} e^{2 L_{0} k_{1}} e^{L_{1} k_{1}}}{e^{2 L_{0} k_{1}} - e^{2 L_{1} k_{1}}}\\right) e^{- k_{1} x}$"
      ],
      "text/plain": [
       "Eq(\\psi_{1}(x), (\\psi_{0}(L_0)*exp(L_0*k_1)/(exp(2*L_0*k_1) - exp(2*L_1*k_1)) - \\psi_{2}(L_1)*exp(L_1*k_1)/(exp(2*L_0*k_1) - exp(2*L_1*k_1)))*exp(k_1*x) + (-\\psi_{0}(L_0)*exp(L_0*k_1)*exp(2*L_1*k_1)/(exp(2*L_0*k_1) - exp(2*L_1*k_1)) + \\psi_{2}(L_1)*exp(2*L_0*k_1)*exp(L_1*k_1)/(exp(2*L_0*k_1) - exp(2*L_1*k_1)))*exp(-k_1*x))"
      ]
     },
     "metadata": {},
     "output_type": "display_data"
    },
    {
     "data": {
      "text/latex": [
       "$\\displaystyle \\psi_{2}{\\left(x \\right)} = C_{2} e^{k_{2} x} + \\left(- C_{2} e^{2 L_{1} k_{2}} + \\psi_{1}{\\left(L_{1} \\right)} e^{L_{1} k_{2}}\\right) e^{- k_{2} x}$"
      ],
      "text/plain": [
       "Eq(\\psi_{2}(x), C2*exp(k_2*x) + (-C2*exp(2*L_1*k_2) + \\psi_{1}(L_1)*exp(L_1*k_2))*exp(-k_2*x))"
      ]
     },
     "metadata": {},
     "output_type": "display_data"
    },
    {
     "data": {
      "text/plain": [
       "[None, None, None]"
      ]
     },
     "execution_count": 8,
     "metadata": {},
     "output_type": "execute_result"
    }
   ],
   "source": [
    "[ display( eq ) for eq in odes ]"
   ]
  },
  {
   "cell_type": "code",
   "execution_count": null,
   "id": "4da66035-81aa-41d7-b642-98c878ecf0ba",
   "metadata": {},
   "outputs": [],
   "source": []
  },
  {
   "cell_type": "code",
   "execution_count": 9,
   "id": "e7630427-5969-4a70-85d9-20f556eb7349",
   "metadata": {},
   "outputs": [],
   "source": [
    "boundry_substitution_data = stairwell_solver.boundries_in_expression_to_constants()"
   ]
  },
  {
   "cell_type": "code",
   "execution_count": null,
   "id": "d47459fd-3306-4879-96e2-83fe236ad699",
   "metadata": {},
   "outputs": [],
   "source": []
  },
  {
   "cell_type": "code",
   "execution_count": 10,
   "id": "62eaa275-5033-43c5-a8cc-7494cad0c483",
   "metadata": {},
   "outputs": [
    {
     "data": {
      "text/latex": [
       "$\\displaystyle \\psi_{0}{\\left(x \\right)} = C_{2} e^{k_{0} x} + \\left(B_{0} e^{L_{0} k_{0}} - C_{2} e^{2 L_{0} k_{0}}\\right) e^{- k_{0} x}$"
      ],
      "text/plain": [
       "Eq(\\psi_{0}(x), C2*exp(k_0*x) + (B_{0}*exp(L_0*k_0) - C2*exp(2*L_0*k_0))*exp(-k_0*x))"
      ]
     },
     "metadata": {},
     "output_type": "display_data"
    },
    {
     "data": {
      "text/latex": [
       "$\\displaystyle \\psi_{1}{\\left(x \\right)} = \\left(\\frac{B_{0} e^{L_{0} k_{1}}}{e^{2 L_{0} k_{1}} - e^{2 L_{1} k_{1}}} - \\frac{B_{1} e^{L_{1} k_{1}}}{e^{2 L_{0} k_{1}} - e^{2 L_{1} k_{1}}}\\right) e^{k_{1} x} + \\left(- \\frac{B_{0} e^{L_{0} k_{1}} e^{2 L_{1} k_{1}}}{e^{2 L_{0} k_{1}} - e^{2 L_{1} k_{1}}} + \\frac{B_{1} e^{2 L_{0} k_{1}} e^{L_{1} k_{1}}}{e^{2 L_{0} k_{1}} - e^{2 L_{1} k_{1}}}\\right) e^{- k_{1} x}$"
      ],
      "text/plain": [
       "Eq(\\psi_{1}(x), (B_{0}*exp(L_0*k_1)/(exp(2*L_0*k_1) - exp(2*L_1*k_1)) - B_{1}*exp(L_1*k_1)/(exp(2*L_0*k_1) - exp(2*L_1*k_1)))*exp(k_1*x) + (-B_{0}*exp(L_0*k_1)*exp(2*L_1*k_1)/(exp(2*L_0*k_1) - exp(2*L_1*k_1)) + B_{1}*exp(2*L_0*k_1)*exp(L_1*k_1)/(exp(2*L_0*k_1) - exp(2*L_1*k_1)))*exp(-k_1*x))"
      ]
     },
     "metadata": {},
     "output_type": "display_data"
    },
    {
     "data": {
      "text/latex": [
       "$\\displaystyle \\psi_{2}{\\left(x \\right)} = C_{2} e^{k_{2} x} + \\left(B_{1} e^{L_{1} k_{2}} - C_{2} e^{2 L_{1} k_{2}}\\right) e^{- k_{2} x}$"
      ],
      "text/plain": [
       "Eq(\\psi_{2}(x), C2*exp(k_2*x) + (B_{1}*exp(L_1*k_2) - C2*exp(2*L_1*k_2))*exp(-k_2*x))"
      ]
     },
     "metadata": {},
     "output_type": "display_data"
    }
   ],
   "source": [
    "display_steps( stairwell_solver.equations )"
   ]
  },
  {
   "cell_type": "code",
   "execution_count": null,
   "id": "e9de3d00-5429-4d78-b3c8-8701d6c4d529",
   "metadata": {},
   "outputs": [],
   "source": []
  },
  {
   "cell_type": "code",
   "execution_count": 11,
   "id": "d8d1e413-2304-4a91-bde4-275c6257fdcb",
   "metadata": {},
   "outputs": [],
   "source": [
    "ode_constants = [ \n",
    "        stairwell_solver.equations[ 0 ].symbols().C2, \n",
    "        stairwell_solver.equations[ 0 ].symbols().B__0_, \n",
    "        stairwell_solver.equations[ 1 ].symbols().B__1_ \n",
    "    ]"
   ]
  },
  {
   "cell_type": "code",
   "execution_count": null,
   "id": "84098774-052f-4b35-908a-cfdb9dbe4f39",
   "metadata": {},
   "outputs": [],
   "source": []
  },
  {
   "cell_type": "code",
   "execution_count": 12,
   "id": "3f6417c5-92c9-4224-a229-e41b34ffb010",
   "metadata": {},
   "outputs": [
    {
     "data": {
      "text/latex": [
       "$\\displaystyle \\int\\limits_{0}^{L_{0}} \\left(C_{2} e^{k_{0} x} + \\left(B_{0} e^{L_{0} k_{0}} - C_{2} e^{2 L_{0} k_{0}}\\right) e^{- k_{0} x}\\right) \\left(\\left(- e^{2 L_{0} k_{0}} \\overline{C_{2}} + e^{L_{0} k_{0}} \\overline{B_{0}}\\right) e^{- k_{0} x} + e^{k_{0} x} \\overline{C_{2}}\\right)\\, dx = N_{0}$"
      ],
      "text/plain": [
       "Eq(Integral((C2*exp(k_0*x) + (B_{0}*exp(L_0*k_0) - C2*exp(2*L_0*k_0))*exp(-k_0*x))*((-exp(2*L_0*k_0)*conjugate(C2) + exp(L_0*k_0)*conjugate(B_{0}))*exp(-k_0*x) + exp(k_0*x)*conjugate(C2)), (x, 0, L_0)), N_0)"
      ]
     },
     "metadata": {},
     "output_type": "display_data"
    },
    {
     "data": {
      "text/latex": [
       "$\\displaystyle \\int\\limits_{L_{0}}^{L_{1}} \\left(\\left(\\frac{B_{0} e^{L_{0} k_{1}}}{e^{2 L_{0} k_{1}} - e^{2 L_{1} k_{1}}} - \\frac{B_{1} e^{L_{1} k_{1}}}{e^{2 L_{0} k_{1}} - e^{2 L_{1} k_{1}}}\\right) e^{k_{1} x} + \\left(- \\frac{B_{0} e^{L_{0} k_{1}} e^{2 L_{1} k_{1}}}{e^{2 L_{0} k_{1}} - e^{2 L_{1} k_{1}}} + \\frac{B_{1} e^{2 L_{0} k_{1}} e^{L_{1} k_{1}}}{e^{2 L_{0} k_{1}} - e^{2 L_{1} k_{1}}}\\right) e^{- k_{1} x}\\right) \\left(\\left(\\frac{e^{L_{0} k_{1}} \\overline{B_{0}}}{e^{2 L_{0} k_{1}} - e^{2 L_{1} k_{1}}} - \\frac{e^{L_{1} k_{1}} \\overline{B_{1}}}{e^{2 L_{0} k_{1}} - e^{2 L_{1} k_{1}}}\\right) e^{k_{1} x} + \\left(\\frac{e^{2 L_{0} k_{1}} e^{L_{1} k_{1}} \\overline{B_{1}}}{e^{2 L_{0} k_{1}} - e^{2 L_{1} k_{1}}} - \\frac{e^{L_{0} k_{1}} e^{2 L_{1} k_{1}} \\overline{B_{0}}}{e^{2 L_{0} k_{1}} - e^{2 L_{1} k_{1}}}\\right) e^{- k_{1} x}\\right)\\, dx = N_{1}$"
      ],
      "text/plain": [
       "Eq(Integral(((B_{0}*exp(L_0*k_1)/(exp(2*L_0*k_1) - exp(2*L_1*k_1)) - B_{1}*exp(L_1*k_1)/(exp(2*L_0*k_1) - exp(2*L_1*k_1)))*exp(k_1*x) + (-B_{0}*exp(L_0*k_1)*exp(2*L_1*k_1)/(exp(2*L_0*k_1) - exp(2*L_1*k_1)) + B_{1}*exp(2*L_0*k_1)*exp(L_1*k_1)/(exp(2*L_0*k_1) - exp(2*L_1*k_1)))*exp(-k_1*x))*((exp(L_0*k_1)*conjugate(B_{0})/(exp(2*L_0*k_1) - exp(2*L_1*k_1)) - exp(L_1*k_1)*conjugate(B_{1})/(exp(2*L_0*k_1) - exp(2*L_1*k_1)))*exp(k_1*x) + (exp(2*L_0*k_1)*exp(L_1*k_1)*conjugate(B_{1})/(exp(2*L_0*k_1) - exp(2*L_1*k_1)) - exp(L_0*k_1)*exp(2*L_1*k_1)*conjugate(B_{0})/(exp(2*L_0*k_1) - exp(2*L_1*k_1)))*exp(-k_1*x)), (x, L_0, L_1)), N_1)"
      ]
     },
     "metadata": {},
     "output_type": "display_data"
    },
    {
     "data": {
      "text/latex": [
       "$\\displaystyle \\int\\limits_{L_{1}}^{L_{2}} \\left(C_{2} e^{k_{2} x} + \\left(B_{1} e^{L_{1} k_{2}} - C_{2} e^{2 L_{1} k_{2}}\\right) e^{- k_{2} x}\\right) \\left(\\left(- e^{2 L_{1} k_{2}} \\overline{C_{2}} + e^{L_{1} k_{2}} \\overline{B_{1}}\\right) e^{- k_{2} x} + e^{k_{2} x} \\overline{C_{2}}\\right)\\, dx = N_{2}$"
      ],
      "text/plain": [
       "Eq(Integral((C2*exp(k_2*x) + (B_{1}*exp(L_1*k_2) - C2*exp(2*L_1*k_2))*exp(-k_2*x))*((-exp(2*L_1*k_2)*conjugate(C2) + exp(L_1*k_2)*conjugate(B_{1}))*exp(-k_2*x) + exp(k_2*x)*conjugate(C2)), (x, L_1, L_2)), N_2)"
      ]
     },
     "metadata": {},
     "output_type": "display_data"
    }
   ],
   "source": [
    "display_steps( stairwell_solver.substitute_wave_functions_into_normalizations() )"
   ]
  },
  {
   "cell_type": "code",
   "execution_count": null,
   "id": "1fdef225-6f4f-4c32-ba28-836b9e159072",
   "metadata": {},
   "outputs": [],
   "source": []
  },
  {
   "cell_type": "code",
   "execution_count": 13,
   "id": "ba0faaf5-0e49-48bf-994f-1626abb248c4",
   "metadata": {},
   "outputs": [],
   "source": [
    "constants = {}"
   ]
  },
  {
   "cell_type": "code",
   "execution_count": 14,
   "id": "e9c62cbe-d33d-43db-8bca-b6d3c62997fe",
   "metadata": {},
   "outputs": [],
   "source": [
    "results = [ group_constants( equation.last_step(), [ stairwell_solver.position ] + ode_constants, constants = constants ) for equation in stairwell_solver.equations ]"
   ]
  },
  {
   "cell_type": "code",
   "execution_count": null,
   "id": "f40071b7-b5a1-4c9d-9b17-a1bdb3b63d97",
   "metadata": {},
   "outputs": [],
   "source": []
  },
  {
   "cell_type": "code",
   "execution_count": 15,
   "id": "9e289f32-88c3-4282-8a48-210cdb30c074",
   "metadata": {},
   "outputs": [
    {
     "data": {
      "text/plain": [
       "[(Eq(\\psi_{0}(x), C2*exp(S_{0}*x) + (B_{0}*S_{2} - C2*S_{4})*exp(-S_{0}*x)),\n",
       "  {k_0: S_{0},\n",
       "   exp(L_0*k_0): S_{1},\n",
       "   S_{1}: S_{2},\n",
       "   exp(2*L_0*k_0): S_{3},\n",
       "   S_{3}: S_{4},\n",
       "   1/(exp(2*L_0*k_1) - exp(2*L_1*k_1)): S_{5},\n",
       "   exp(L_0*k_1): S_{6},\n",
       "   S_{5}*S_{6}: S_{7},\n",
       "   exp(L_1*k_1): S_{8},\n",
       "   S_{5}*S_{8}: S_{9},\n",
       "   k_1: S_{10},\n",
       "   exp(2*L_0*k_1): S_{11},\n",
       "   S_{11}*S_{5}*S_{8}: S_{12},\n",
       "   exp(2*L_1*k_1): S_{13},\n",
       "   S_{13}*S_{5}*S_{6}: S_{14},\n",
       "   k_2: S_{15},\n",
       "   exp(L_1*k_2): S_{16},\n",
       "   S_{16}: S_{17},\n",
       "   exp(2*L_1*k_2): S_{18},\n",
       "   S_{18}: S_{19}}),\n",
       " (Eq(\\psi_{1}(x), (-B_{0}*S_{14} + B_{1}*S_{12})*exp(-S_{10}*x) + (B_{0}*S_{7} - B_{1}*S_{9})*exp(S_{10}*x)),\n",
       "  {k_0: S_{0},\n",
       "   exp(L_0*k_0): S_{1},\n",
       "   S_{1}: S_{2},\n",
       "   exp(2*L_0*k_0): S_{3},\n",
       "   S_{3}: S_{4},\n",
       "   1/(exp(2*L_0*k_1) - exp(2*L_1*k_1)): S_{5},\n",
       "   exp(L_0*k_1): S_{6},\n",
       "   S_{5}*S_{6}: S_{7},\n",
       "   exp(L_1*k_1): S_{8},\n",
       "   S_{5}*S_{8}: S_{9},\n",
       "   k_1: S_{10},\n",
       "   exp(2*L_0*k_1): S_{11},\n",
       "   S_{11}*S_{5}*S_{8}: S_{12},\n",
       "   exp(2*L_1*k_1): S_{13},\n",
       "   S_{13}*S_{5}*S_{6}: S_{14},\n",
       "   k_2: S_{15},\n",
       "   exp(L_1*k_2): S_{16},\n",
       "   S_{16}: S_{17},\n",
       "   exp(2*L_1*k_2): S_{18},\n",
       "   S_{18}: S_{19}}),\n",
       " (Eq(\\psi_{2}(x), C2*exp(S_{15}*x) + (B_{1}*S_{17} - C2*S_{19})*exp(-S_{15}*x)),\n",
       "  {k_0: S_{0},\n",
       "   exp(L_0*k_0): S_{1},\n",
       "   S_{1}: S_{2},\n",
       "   exp(2*L_0*k_0): S_{3},\n",
       "   S_{3}: S_{4},\n",
       "   1/(exp(2*L_0*k_1) - exp(2*L_1*k_1)): S_{5},\n",
       "   exp(L_0*k_1): S_{6},\n",
       "   S_{5}*S_{6}: S_{7},\n",
       "   exp(L_1*k_1): S_{8},\n",
       "   S_{5}*S_{8}: S_{9},\n",
       "   k_1: S_{10},\n",
       "   exp(2*L_0*k_1): S_{11},\n",
       "   S_{11}*S_{5}*S_{8}: S_{12},\n",
       "   exp(2*L_1*k_1): S_{13},\n",
       "   S_{13}*S_{5}*S_{6}: S_{14},\n",
       "   k_2: S_{15},\n",
       "   exp(L_1*k_2): S_{16},\n",
       "   S_{16}: S_{17},\n",
       "   exp(2*L_1*k_2): S_{18},\n",
       "   S_{18}: S_{19}})]"
      ]
     },
     "execution_count": 15,
     "metadata": {},
     "output_type": "execute_result"
    }
   ],
   "source": [
    "results"
   ]
  },
  {
   "cell_type": "code",
   "execution_count": 16,
   "id": "a4750866-1ffd-4a94-a9a1-3f39697a6f11",
   "metadata": {},
   "outputs": [],
   "source": [
    "def display_group_results( results, dashes = 10 ): \n",
    "    for group_set in results: \n",
    "        print( \"-\" * dashes )\n",
    "        display( group_set[ 0 ] )\n",
    "        print( \"-\" * dashes )\n",
    "        for constant in group_set[ 1 ]: \n",
    "            display( sp.Eq( group_set[ 1 ][ constant ], constant ) )"
   ]
  },
  {
   "cell_type": "code",
   "execution_count": 17,
   "id": "86188cfb-4cc7-41ea-9a19-39e3c7080e22",
   "metadata": {},
   "outputs": [
    {
     "name": "stdout",
     "output_type": "stream",
     "text": [
      "----------\n"
     ]
    },
    {
     "data": {
      "text/latex": [
       "$\\displaystyle \\psi_{0}{\\left(x \\right)} = C_{2} e^{S_{0} x} + \\left(B_{0} S_{2} - C_{2} S_{4}\\right) e^{- S_{0} x}$"
      ],
      "text/plain": [
       "Eq(\\psi_{0}(x), C2*exp(S_{0}*x) + (B_{0}*S_{2} - C2*S_{4})*exp(-S_{0}*x))"
      ]
     },
     "metadata": {},
     "output_type": "display_data"
    },
    {
     "name": "stdout",
     "output_type": "stream",
     "text": [
      "----------\n"
     ]
    },
    {
     "data": {
      "text/latex": [
       "$\\displaystyle S_{0} = k_{0}$"
      ],
      "text/plain": [
       "Eq(S_{0}, k_0)"
      ]
     },
     "metadata": {},
     "output_type": "display_data"
    },
    {
     "data": {
      "text/latex": [
       "$\\displaystyle S_{1} = e^{L_{0} k_{0}}$"
      ],
      "text/plain": [
       "Eq(S_{1}, exp(L_0*k_0))"
      ]
     },
     "metadata": {},
     "output_type": "display_data"
    },
    {
     "data": {
      "text/latex": [
       "$\\displaystyle S_{2} = S_{1}$"
      ],
      "text/plain": [
       "Eq(S_{2}, S_{1})"
      ]
     },
     "metadata": {},
     "output_type": "display_data"
    },
    {
     "data": {
      "text/latex": [
       "$\\displaystyle S_{3} = e^{2 L_{0} k_{0}}$"
      ],
      "text/plain": [
       "Eq(S_{3}, exp(2*L_0*k_0))"
      ]
     },
     "metadata": {},
     "output_type": "display_data"
    },
    {
     "data": {
      "text/latex": [
       "$\\displaystyle S_{4} = S_{3}$"
      ],
      "text/plain": [
       "Eq(S_{4}, S_{3})"
      ]
     },
     "metadata": {},
     "output_type": "display_data"
    },
    {
     "data": {
      "text/latex": [
       "$\\displaystyle S_{5} = \\frac{1}{e^{2 L_{0} k_{1}} - e^{2 L_{1} k_{1}}}$"
      ],
      "text/plain": [
       "Eq(S_{5}, 1/(exp(2*L_0*k_1) - exp(2*L_1*k_1)))"
      ]
     },
     "metadata": {},
     "output_type": "display_data"
    },
    {
     "data": {
      "text/latex": [
       "$\\displaystyle S_{6} = e^{L_{0} k_{1}}$"
      ],
      "text/plain": [
       "Eq(S_{6}, exp(L_0*k_1))"
      ]
     },
     "metadata": {},
     "output_type": "display_data"
    },
    {
     "data": {
      "text/latex": [
       "$\\displaystyle S_{7} = S_{5} S_{6}$"
      ],
      "text/plain": [
       "Eq(S_{7}, S_{5}*S_{6})"
      ]
     },
     "metadata": {},
     "output_type": "display_data"
    },
    {
     "data": {
      "text/latex": [
       "$\\displaystyle S_{8} = e^{L_{1} k_{1}}$"
      ],
      "text/plain": [
       "Eq(S_{8}, exp(L_1*k_1))"
      ]
     },
     "metadata": {},
     "output_type": "display_data"
    },
    {
     "data": {
      "text/latex": [
       "$\\displaystyle S_{9} = S_{5} S_{8}$"
      ],
      "text/plain": [
       "Eq(S_{9}, S_{5}*S_{8})"
      ]
     },
     "metadata": {},
     "output_type": "display_data"
    },
    {
     "data": {
      "text/latex": [
       "$\\displaystyle S_{10} = k_{1}$"
      ],
      "text/plain": [
       "Eq(S_{10}, k_1)"
      ]
     },
     "metadata": {},
     "output_type": "display_data"
    },
    {
     "data": {
      "text/latex": [
       "$\\displaystyle S_{11} = e^{2 L_{0} k_{1}}$"
      ],
      "text/plain": [
       "Eq(S_{11}, exp(2*L_0*k_1))"
      ]
     },
     "metadata": {},
     "output_type": "display_data"
    },
    {
     "data": {
      "text/latex": [
       "$\\displaystyle S_{12} = S_{11} S_{5} S_{8}$"
      ],
      "text/plain": [
       "Eq(S_{12}, S_{11}*S_{5}*S_{8})"
      ]
     },
     "metadata": {},
     "output_type": "display_data"
    },
    {
     "data": {
      "text/latex": [
       "$\\displaystyle S_{13} = e^{2 L_{1} k_{1}}$"
      ],
      "text/plain": [
       "Eq(S_{13}, exp(2*L_1*k_1))"
      ]
     },
     "metadata": {},
     "output_type": "display_data"
    },
    {
     "data": {
      "text/latex": [
       "$\\displaystyle S_{14} = S_{13} S_{5} S_{6}$"
      ],
      "text/plain": [
       "Eq(S_{14}, S_{13}*S_{5}*S_{6})"
      ]
     },
     "metadata": {},
     "output_type": "display_data"
    },
    {
     "data": {
      "text/latex": [
       "$\\displaystyle S_{15} = k_{2}$"
      ],
      "text/plain": [
       "Eq(S_{15}, k_2)"
      ]
     },
     "metadata": {},
     "output_type": "display_data"
    },
    {
     "data": {
      "text/latex": [
       "$\\displaystyle S_{16} = e^{L_{1} k_{2}}$"
      ],
      "text/plain": [
       "Eq(S_{16}, exp(L_1*k_2))"
      ]
     },
     "metadata": {},
     "output_type": "display_data"
    },
    {
     "data": {
      "text/latex": [
       "$\\displaystyle S_{17} = S_{16}$"
      ],
      "text/plain": [
       "Eq(S_{17}, S_{16})"
      ]
     },
     "metadata": {},
     "output_type": "display_data"
    },
    {
     "data": {
      "text/latex": [
       "$\\displaystyle S_{18} = e^{2 L_{1} k_{2}}$"
      ],
      "text/plain": [
       "Eq(S_{18}, exp(2*L_1*k_2))"
      ]
     },
     "metadata": {},
     "output_type": "display_data"
    },
    {
     "data": {
      "text/latex": [
       "$\\displaystyle S_{19} = S_{18}$"
      ],
      "text/plain": [
       "Eq(S_{19}, S_{18})"
      ]
     },
     "metadata": {},
     "output_type": "display_data"
    },
    {
     "name": "stdout",
     "output_type": "stream",
     "text": [
      "----------\n"
     ]
    },
    {
     "data": {
      "text/latex": [
       "$\\displaystyle \\psi_{1}{\\left(x \\right)} = \\left(- B_{0} S_{14} + B_{1} S_{12}\\right) e^{- S_{10} x} + \\left(B_{0} S_{7} - B_{1} S_{9}\\right) e^{S_{10} x}$"
      ],
      "text/plain": [
       "Eq(\\psi_{1}(x), (-B_{0}*S_{14} + B_{1}*S_{12})*exp(-S_{10}*x) + (B_{0}*S_{7} - B_{1}*S_{9})*exp(S_{10}*x))"
      ]
     },
     "metadata": {},
     "output_type": "display_data"
    },
    {
     "name": "stdout",
     "output_type": "stream",
     "text": [
      "----------\n"
     ]
    },
    {
     "data": {
      "text/latex": [
       "$\\displaystyle S_{0} = k_{0}$"
      ],
      "text/plain": [
       "Eq(S_{0}, k_0)"
      ]
     },
     "metadata": {},
     "output_type": "display_data"
    },
    {
     "data": {
      "text/latex": [
       "$\\displaystyle S_{1} = e^{L_{0} k_{0}}$"
      ],
      "text/plain": [
       "Eq(S_{1}, exp(L_0*k_0))"
      ]
     },
     "metadata": {},
     "output_type": "display_data"
    },
    {
     "data": {
      "text/latex": [
       "$\\displaystyle S_{2} = S_{1}$"
      ],
      "text/plain": [
       "Eq(S_{2}, S_{1})"
      ]
     },
     "metadata": {},
     "output_type": "display_data"
    },
    {
     "data": {
      "text/latex": [
       "$\\displaystyle S_{3} = e^{2 L_{0} k_{0}}$"
      ],
      "text/plain": [
       "Eq(S_{3}, exp(2*L_0*k_0))"
      ]
     },
     "metadata": {},
     "output_type": "display_data"
    },
    {
     "data": {
      "text/latex": [
       "$\\displaystyle S_{4} = S_{3}$"
      ],
      "text/plain": [
       "Eq(S_{4}, S_{3})"
      ]
     },
     "metadata": {},
     "output_type": "display_data"
    },
    {
     "data": {
      "text/latex": [
       "$\\displaystyle S_{5} = \\frac{1}{e^{2 L_{0} k_{1}} - e^{2 L_{1} k_{1}}}$"
      ],
      "text/plain": [
       "Eq(S_{5}, 1/(exp(2*L_0*k_1) - exp(2*L_1*k_1)))"
      ]
     },
     "metadata": {},
     "output_type": "display_data"
    },
    {
     "data": {
      "text/latex": [
       "$\\displaystyle S_{6} = e^{L_{0} k_{1}}$"
      ],
      "text/plain": [
       "Eq(S_{6}, exp(L_0*k_1))"
      ]
     },
     "metadata": {},
     "output_type": "display_data"
    },
    {
     "data": {
      "text/latex": [
       "$\\displaystyle S_{7} = S_{5} S_{6}$"
      ],
      "text/plain": [
       "Eq(S_{7}, S_{5}*S_{6})"
      ]
     },
     "metadata": {},
     "output_type": "display_data"
    },
    {
     "data": {
      "text/latex": [
       "$\\displaystyle S_{8} = e^{L_{1} k_{1}}$"
      ],
      "text/plain": [
       "Eq(S_{8}, exp(L_1*k_1))"
      ]
     },
     "metadata": {},
     "output_type": "display_data"
    },
    {
     "data": {
      "text/latex": [
       "$\\displaystyle S_{9} = S_{5} S_{8}$"
      ],
      "text/plain": [
       "Eq(S_{9}, S_{5}*S_{8})"
      ]
     },
     "metadata": {},
     "output_type": "display_data"
    },
    {
     "data": {
      "text/latex": [
       "$\\displaystyle S_{10} = k_{1}$"
      ],
      "text/plain": [
       "Eq(S_{10}, k_1)"
      ]
     },
     "metadata": {},
     "output_type": "display_data"
    },
    {
     "data": {
      "text/latex": [
       "$\\displaystyle S_{11} = e^{2 L_{0} k_{1}}$"
      ],
      "text/plain": [
       "Eq(S_{11}, exp(2*L_0*k_1))"
      ]
     },
     "metadata": {},
     "output_type": "display_data"
    },
    {
     "data": {
      "text/latex": [
       "$\\displaystyle S_{12} = S_{11} S_{5} S_{8}$"
      ],
      "text/plain": [
       "Eq(S_{12}, S_{11}*S_{5}*S_{8})"
      ]
     },
     "metadata": {},
     "output_type": "display_data"
    },
    {
     "data": {
      "text/latex": [
       "$\\displaystyle S_{13} = e^{2 L_{1} k_{1}}$"
      ],
      "text/plain": [
       "Eq(S_{13}, exp(2*L_1*k_1))"
      ]
     },
     "metadata": {},
     "output_type": "display_data"
    },
    {
     "data": {
      "text/latex": [
       "$\\displaystyle S_{14} = S_{13} S_{5} S_{6}$"
      ],
      "text/plain": [
       "Eq(S_{14}, S_{13}*S_{5}*S_{6})"
      ]
     },
     "metadata": {},
     "output_type": "display_data"
    },
    {
     "data": {
      "text/latex": [
       "$\\displaystyle S_{15} = k_{2}$"
      ],
      "text/plain": [
       "Eq(S_{15}, k_2)"
      ]
     },
     "metadata": {},
     "output_type": "display_data"
    },
    {
     "data": {
      "text/latex": [
       "$\\displaystyle S_{16} = e^{L_{1} k_{2}}$"
      ],
      "text/plain": [
       "Eq(S_{16}, exp(L_1*k_2))"
      ]
     },
     "metadata": {},
     "output_type": "display_data"
    },
    {
     "data": {
      "text/latex": [
       "$\\displaystyle S_{17} = S_{16}$"
      ],
      "text/plain": [
       "Eq(S_{17}, S_{16})"
      ]
     },
     "metadata": {},
     "output_type": "display_data"
    },
    {
     "data": {
      "text/latex": [
       "$\\displaystyle S_{18} = e^{2 L_{1} k_{2}}$"
      ],
      "text/plain": [
       "Eq(S_{18}, exp(2*L_1*k_2))"
      ]
     },
     "metadata": {},
     "output_type": "display_data"
    },
    {
     "data": {
      "text/latex": [
       "$\\displaystyle S_{19} = S_{18}$"
      ],
      "text/plain": [
       "Eq(S_{19}, S_{18})"
      ]
     },
     "metadata": {},
     "output_type": "display_data"
    },
    {
     "name": "stdout",
     "output_type": "stream",
     "text": [
      "----------\n"
     ]
    },
    {
     "data": {
      "text/latex": [
       "$\\displaystyle \\psi_{2}{\\left(x \\right)} = C_{2} e^{S_{15} x} + \\left(B_{1} S_{17} - C_{2} S_{19}\\right) e^{- S_{15} x}$"
      ],
      "text/plain": [
       "Eq(\\psi_{2}(x), C2*exp(S_{15}*x) + (B_{1}*S_{17} - C2*S_{19})*exp(-S_{15}*x))"
      ]
     },
     "metadata": {},
     "output_type": "display_data"
    },
    {
     "name": "stdout",
     "output_type": "stream",
     "text": [
      "----------\n"
     ]
    },
    {
     "data": {
      "text/latex": [
       "$\\displaystyle S_{0} = k_{0}$"
      ],
      "text/plain": [
       "Eq(S_{0}, k_0)"
      ]
     },
     "metadata": {},
     "output_type": "display_data"
    },
    {
     "data": {
      "text/latex": [
       "$\\displaystyle S_{1} = e^{L_{0} k_{0}}$"
      ],
      "text/plain": [
       "Eq(S_{1}, exp(L_0*k_0))"
      ]
     },
     "metadata": {},
     "output_type": "display_data"
    },
    {
     "data": {
      "text/latex": [
       "$\\displaystyle S_{2} = S_{1}$"
      ],
      "text/plain": [
       "Eq(S_{2}, S_{1})"
      ]
     },
     "metadata": {},
     "output_type": "display_data"
    },
    {
     "data": {
      "text/latex": [
       "$\\displaystyle S_{3} = e^{2 L_{0} k_{0}}$"
      ],
      "text/plain": [
       "Eq(S_{3}, exp(2*L_0*k_0))"
      ]
     },
     "metadata": {},
     "output_type": "display_data"
    },
    {
     "data": {
      "text/latex": [
       "$\\displaystyle S_{4} = S_{3}$"
      ],
      "text/plain": [
       "Eq(S_{4}, S_{3})"
      ]
     },
     "metadata": {},
     "output_type": "display_data"
    },
    {
     "data": {
      "text/latex": [
       "$\\displaystyle S_{5} = \\frac{1}{e^{2 L_{0} k_{1}} - e^{2 L_{1} k_{1}}}$"
      ],
      "text/plain": [
       "Eq(S_{5}, 1/(exp(2*L_0*k_1) - exp(2*L_1*k_1)))"
      ]
     },
     "metadata": {},
     "output_type": "display_data"
    },
    {
     "data": {
      "text/latex": [
       "$\\displaystyle S_{6} = e^{L_{0} k_{1}}$"
      ],
      "text/plain": [
       "Eq(S_{6}, exp(L_0*k_1))"
      ]
     },
     "metadata": {},
     "output_type": "display_data"
    },
    {
     "data": {
      "text/latex": [
       "$\\displaystyle S_{7} = S_{5} S_{6}$"
      ],
      "text/plain": [
       "Eq(S_{7}, S_{5}*S_{6})"
      ]
     },
     "metadata": {},
     "output_type": "display_data"
    },
    {
     "data": {
      "text/latex": [
       "$\\displaystyle S_{8} = e^{L_{1} k_{1}}$"
      ],
      "text/plain": [
       "Eq(S_{8}, exp(L_1*k_1))"
      ]
     },
     "metadata": {},
     "output_type": "display_data"
    },
    {
     "data": {
      "text/latex": [
       "$\\displaystyle S_{9} = S_{5} S_{8}$"
      ],
      "text/plain": [
       "Eq(S_{9}, S_{5}*S_{8})"
      ]
     },
     "metadata": {},
     "output_type": "display_data"
    },
    {
     "data": {
      "text/latex": [
       "$\\displaystyle S_{10} = k_{1}$"
      ],
      "text/plain": [
       "Eq(S_{10}, k_1)"
      ]
     },
     "metadata": {},
     "output_type": "display_data"
    },
    {
     "data": {
      "text/latex": [
       "$\\displaystyle S_{11} = e^{2 L_{0} k_{1}}$"
      ],
      "text/plain": [
       "Eq(S_{11}, exp(2*L_0*k_1))"
      ]
     },
     "metadata": {},
     "output_type": "display_data"
    },
    {
     "data": {
      "text/latex": [
       "$\\displaystyle S_{12} = S_{11} S_{5} S_{8}$"
      ],
      "text/plain": [
       "Eq(S_{12}, S_{11}*S_{5}*S_{8})"
      ]
     },
     "metadata": {},
     "output_type": "display_data"
    },
    {
     "data": {
      "text/latex": [
       "$\\displaystyle S_{13} = e^{2 L_{1} k_{1}}$"
      ],
      "text/plain": [
       "Eq(S_{13}, exp(2*L_1*k_1))"
      ]
     },
     "metadata": {},
     "output_type": "display_data"
    },
    {
     "data": {
      "text/latex": [
       "$\\displaystyle S_{14} = S_{13} S_{5} S_{6}$"
      ],
      "text/plain": [
       "Eq(S_{14}, S_{13}*S_{5}*S_{6})"
      ]
     },
     "metadata": {},
     "output_type": "display_data"
    },
    {
     "data": {
      "text/latex": [
       "$\\displaystyle S_{15} = k_{2}$"
      ],
      "text/plain": [
       "Eq(S_{15}, k_2)"
      ]
     },
     "metadata": {},
     "output_type": "display_data"
    },
    {
     "data": {
      "text/latex": [
       "$\\displaystyle S_{16} = e^{L_{1} k_{2}}$"
      ],
      "text/plain": [
       "Eq(S_{16}, exp(L_1*k_2))"
      ]
     },
     "metadata": {},
     "output_type": "display_data"
    },
    {
     "data": {
      "text/latex": [
       "$\\displaystyle S_{17} = S_{16}$"
      ],
      "text/plain": [
       "Eq(S_{17}, S_{16})"
      ]
     },
     "metadata": {},
     "output_type": "display_data"
    },
    {
     "data": {
      "text/latex": [
       "$\\displaystyle S_{18} = e^{2 L_{1} k_{2}}$"
      ],
      "text/plain": [
       "Eq(S_{18}, exp(2*L_1*k_2))"
      ]
     },
     "metadata": {},
     "output_type": "display_data"
    },
    {
     "data": {
      "text/latex": [
       "$\\displaystyle S_{19} = S_{18}$"
      ],
      "text/plain": [
       "Eq(S_{19}, S_{18})"
      ]
     },
     "metadata": {},
     "output_type": "display_data"
    }
   ],
   "source": [
    "display_group_results( results )"
   ]
  },
  {
   "cell_type": "code",
   "execution_count": null,
   "id": "d888ead6-de8e-41fe-8ad5-e9019e5e7c94",
   "metadata": {},
   "outputs": [],
   "source": []
  },
  {
   "cell_type": "code",
   "execution_count": 18,
   "id": "f0516021-2c9b-4a84-a0a9-b2184ca4d60d",
   "metadata": {},
   "outputs": [],
   "source": [
    "constants0 = {}"
   ]
  },
  {
   "cell_type": "code",
   "execution_count": 19,
   "id": "b204e764-2440-4ca3-8626-d67b5a712b28",
   "metadata": {},
   "outputs": [],
   "source": [
    "results0 = [ group_constants( equation.last_step(), [ stairwell_solver.position ], constant_name_base = 'M', constants = constants0 ) for equation in stairwell_solver.equations ]"
   ]
  },
  {
   "cell_type": "code",
   "execution_count": null,
   "id": "dbdad7b8-d78b-459e-93c3-61ff0262a2c0",
   "metadata": {},
   "outputs": [],
   "source": []
  },
  {
   "cell_type": "code",
   "execution_count": 20,
   "id": "38e3cee3-08d6-4537-b214-fa153183ed44",
   "metadata": {},
   "outputs": [
    {
     "name": "stdout",
     "output_type": "stream",
     "text": [
      "----------\n"
     ]
    },
    {
     "data": {
      "text/latex": [
       "$\\displaystyle \\psi_{0}{\\left(x \\right)} = M_{1} e^{M_{0} x} + M_{3} e^{- M_{0} x}$"
      ],
      "text/plain": [
       "Eq(\\psi_{0}(x), M_{1}*exp(M_{0}*x) + M_{3}*exp(-M_{0}*x))"
      ]
     },
     "metadata": {},
     "output_type": "display_data"
    },
    {
     "name": "stdout",
     "output_type": "stream",
     "text": [
      "----------\n"
     ]
    },
    {
     "data": {
      "text/latex": [
       "$\\displaystyle M_{0} = k_{0}$"
      ],
      "text/plain": [
       "Eq(M_{0}, k_0)"
      ]
     },
     "metadata": {},
     "output_type": "display_data"
    },
    {
     "data": {
      "text/latex": [
       "$\\displaystyle M_{1} = C_{2}$"
      ],
      "text/plain": [
       "Eq(M_{1}, C2)"
      ]
     },
     "metadata": {},
     "output_type": "display_data"
    },
    {
     "data": {
      "text/latex": [
       "$\\displaystyle M_{2} = B_{0} e^{L_{0} k_{0}} - C_{2} e^{2 L_{0} k_{0}}$"
      ],
      "text/plain": [
       "Eq(M_{2}, B_{0}*exp(L_0*k_0) - C2*exp(2*L_0*k_0))"
      ]
     },
     "metadata": {},
     "output_type": "display_data"
    },
    {
     "data": {
      "text/latex": [
       "$\\displaystyle M_{3} = M_{2}$"
      ],
      "text/plain": [
       "Eq(M_{3}, M_{2})"
      ]
     },
     "metadata": {},
     "output_type": "display_data"
    },
    {
     "data": {
      "text/latex": [
       "$\\displaystyle M_{4} = \\frac{B_{0} e^{L_{0} k_{1}}}{e^{2 L_{0} k_{1}} - e^{2 L_{1} k_{1}}} - \\frac{B_{1} e^{L_{1} k_{1}}}{e^{2 L_{0} k_{1}} - e^{2 L_{1} k_{1}}}$"
      ],
      "text/plain": [
       "Eq(M_{4}, B_{0}*exp(L_0*k_1)/(exp(2*L_0*k_1) - exp(2*L_1*k_1)) - B_{1}*exp(L_1*k_1)/(exp(2*L_0*k_1) - exp(2*L_1*k_1)))"
      ]
     },
     "metadata": {},
     "output_type": "display_data"
    },
    {
     "data": {
      "text/latex": [
       "$\\displaystyle M_{5} = k_{1}$"
      ],
      "text/plain": [
       "Eq(M_{5}, k_1)"
      ]
     },
     "metadata": {},
     "output_type": "display_data"
    },
    {
     "data": {
      "text/latex": [
       "$\\displaystyle M_{6} = M_{4}$"
      ],
      "text/plain": [
       "Eq(M_{6}, M_{4})"
      ]
     },
     "metadata": {},
     "output_type": "display_data"
    },
    {
     "data": {
      "text/latex": [
       "$\\displaystyle M_{7} = - \\frac{B_{0} e^{L_{0} k_{1}} e^{2 L_{1} k_{1}}}{e^{2 L_{0} k_{1}} - e^{2 L_{1} k_{1}}} + \\frac{B_{1} e^{2 L_{0} k_{1}} e^{L_{1} k_{1}}}{e^{2 L_{0} k_{1}} - e^{2 L_{1} k_{1}}}$"
      ],
      "text/plain": [
       "Eq(M_{7}, -B_{0}*exp(L_0*k_1)*exp(2*L_1*k_1)/(exp(2*L_0*k_1) - exp(2*L_1*k_1)) + B_{1}*exp(2*L_0*k_1)*exp(L_1*k_1)/(exp(2*L_0*k_1) - exp(2*L_1*k_1)))"
      ]
     },
     "metadata": {},
     "output_type": "display_data"
    },
    {
     "data": {
      "text/latex": [
       "$\\displaystyle M_{8} = M_{7}$"
      ],
      "text/plain": [
       "Eq(M_{8}, M_{7})"
      ]
     },
     "metadata": {},
     "output_type": "display_data"
    },
    {
     "data": {
      "text/latex": [
       "$\\displaystyle M_{9} = k_{2}$"
      ],
      "text/plain": [
       "Eq(M_{9}, k_2)"
      ]
     },
     "metadata": {},
     "output_type": "display_data"
    },
    {
     "data": {
      "text/latex": [
       "$\\displaystyle M_{10} = B_{1} e^{L_{1} k_{2}} - C_{2} e^{2 L_{1} k_{2}}$"
      ],
      "text/plain": [
       "Eq(M_{10}, B_{1}*exp(L_1*k_2) - C2*exp(2*L_1*k_2))"
      ]
     },
     "metadata": {},
     "output_type": "display_data"
    },
    {
     "data": {
      "text/latex": [
       "$\\displaystyle M_{11} = M_{10}$"
      ],
      "text/plain": [
       "Eq(M_{11}, M_{10})"
      ]
     },
     "metadata": {},
     "output_type": "display_data"
    },
    {
     "name": "stdout",
     "output_type": "stream",
     "text": [
      "----------\n"
     ]
    },
    {
     "data": {
      "text/latex": [
       "$\\displaystyle \\psi_{1}{\\left(x \\right)} = M_{6} e^{M_{5} x} + M_{8} e^{- M_{5} x}$"
      ],
      "text/plain": [
       "Eq(\\psi_{1}(x), M_{6}*exp(M_{5}*x) + M_{8}*exp(-M_{5}*x))"
      ]
     },
     "metadata": {},
     "output_type": "display_data"
    },
    {
     "name": "stdout",
     "output_type": "stream",
     "text": [
      "----------\n"
     ]
    },
    {
     "data": {
      "text/latex": [
       "$\\displaystyle M_{0} = k_{0}$"
      ],
      "text/plain": [
       "Eq(M_{0}, k_0)"
      ]
     },
     "metadata": {},
     "output_type": "display_data"
    },
    {
     "data": {
      "text/latex": [
       "$\\displaystyle M_{1} = C_{2}$"
      ],
      "text/plain": [
       "Eq(M_{1}, C2)"
      ]
     },
     "metadata": {},
     "output_type": "display_data"
    },
    {
     "data": {
      "text/latex": [
       "$\\displaystyle M_{2} = B_{0} e^{L_{0} k_{0}} - C_{2} e^{2 L_{0} k_{0}}$"
      ],
      "text/plain": [
       "Eq(M_{2}, B_{0}*exp(L_0*k_0) - C2*exp(2*L_0*k_0))"
      ]
     },
     "metadata": {},
     "output_type": "display_data"
    },
    {
     "data": {
      "text/latex": [
       "$\\displaystyle M_{3} = M_{2}$"
      ],
      "text/plain": [
       "Eq(M_{3}, M_{2})"
      ]
     },
     "metadata": {},
     "output_type": "display_data"
    },
    {
     "data": {
      "text/latex": [
       "$\\displaystyle M_{4} = \\frac{B_{0} e^{L_{0} k_{1}}}{e^{2 L_{0} k_{1}} - e^{2 L_{1} k_{1}}} - \\frac{B_{1} e^{L_{1} k_{1}}}{e^{2 L_{0} k_{1}} - e^{2 L_{1} k_{1}}}$"
      ],
      "text/plain": [
       "Eq(M_{4}, B_{0}*exp(L_0*k_1)/(exp(2*L_0*k_1) - exp(2*L_1*k_1)) - B_{1}*exp(L_1*k_1)/(exp(2*L_0*k_1) - exp(2*L_1*k_1)))"
      ]
     },
     "metadata": {},
     "output_type": "display_data"
    },
    {
     "data": {
      "text/latex": [
       "$\\displaystyle M_{5} = k_{1}$"
      ],
      "text/plain": [
       "Eq(M_{5}, k_1)"
      ]
     },
     "metadata": {},
     "output_type": "display_data"
    },
    {
     "data": {
      "text/latex": [
       "$\\displaystyle M_{6} = M_{4}$"
      ],
      "text/plain": [
       "Eq(M_{6}, M_{4})"
      ]
     },
     "metadata": {},
     "output_type": "display_data"
    },
    {
     "data": {
      "text/latex": [
       "$\\displaystyle M_{7} = - \\frac{B_{0} e^{L_{0} k_{1}} e^{2 L_{1} k_{1}}}{e^{2 L_{0} k_{1}} - e^{2 L_{1} k_{1}}} + \\frac{B_{1} e^{2 L_{0} k_{1}} e^{L_{1} k_{1}}}{e^{2 L_{0} k_{1}} - e^{2 L_{1} k_{1}}}$"
      ],
      "text/plain": [
       "Eq(M_{7}, -B_{0}*exp(L_0*k_1)*exp(2*L_1*k_1)/(exp(2*L_0*k_1) - exp(2*L_1*k_1)) + B_{1}*exp(2*L_0*k_1)*exp(L_1*k_1)/(exp(2*L_0*k_1) - exp(2*L_1*k_1)))"
      ]
     },
     "metadata": {},
     "output_type": "display_data"
    },
    {
     "data": {
      "text/latex": [
       "$\\displaystyle M_{8} = M_{7}$"
      ],
      "text/plain": [
       "Eq(M_{8}, M_{7})"
      ]
     },
     "metadata": {},
     "output_type": "display_data"
    },
    {
     "data": {
      "text/latex": [
       "$\\displaystyle M_{9} = k_{2}$"
      ],
      "text/plain": [
       "Eq(M_{9}, k_2)"
      ]
     },
     "metadata": {},
     "output_type": "display_data"
    },
    {
     "data": {
      "text/latex": [
       "$\\displaystyle M_{10} = B_{1} e^{L_{1} k_{2}} - C_{2} e^{2 L_{1} k_{2}}$"
      ],
      "text/plain": [
       "Eq(M_{10}, B_{1}*exp(L_1*k_2) - C2*exp(2*L_1*k_2))"
      ]
     },
     "metadata": {},
     "output_type": "display_data"
    },
    {
     "data": {
      "text/latex": [
       "$\\displaystyle M_{11} = M_{10}$"
      ],
      "text/plain": [
       "Eq(M_{11}, M_{10})"
      ]
     },
     "metadata": {},
     "output_type": "display_data"
    },
    {
     "name": "stdout",
     "output_type": "stream",
     "text": [
      "----------\n"
     ]
    },
    {
     "data": {
      "text/latex": [
       "$\\displaystyle \\psi_{2}{\\left(x \\right)} = M_{11} e^{- M_{9} x} + M_{1} e^{M_{9} x}$"
      ],
      "text/plain": [
       "Eq(\\psi_{2}(x), M_{11}*exp(-M_{9}*x) + M_{1}*exp(M_{9}*x))"
      ]
     },
     "metadata": {},
     "output_type": "display_data"
    },
    {
     "name": "stdout",
     "output_type": "stream",
     "text": [
      "----------\n"
     ]
    },
    {
     "data": {
      "text/latex": [
       "$\\displaystyle M_{0} = k_{0}$"
      ],
      "text/plain": [
       "Eq(M_{0}, k_0)"
      ]
     },
     "metadata": {},
     "output_type": "display_data"
    },
    {
     "data": {
      "text/latex": [
       "$\\displaystyle M_{1} = C_{2}$"
      ],
      "text/plain": [
       "Eq(M_{1}, C2)"
      ]
     },
     "metadata": {},
     "output_type": "display_data"
    },
    {
     "data": {
      "text/latex": [
       "$\\displaystyle M_{2} = B_{0} e^{L_{0} k_{0}} - C_{2} e^{2 L_{0} k_{0}}$"
      ],
      "text/plain": [
       "Eq(M_{2}, B_{0}*exp(L_0*k_0) - C2*exp(2*L_0*k_0))"
      ]
     },
     "metadata": {},
     "output_type": "display_data"
    },
    {
     "data": {
      "text/latex": [
       "$\\displaystyle M_{3} = M_{2}$"
      ],
      "text/plain": [
       "Eq(M_{3}, M_{2})"
      ]
     },
     "metadata": {},
     "output_type": "display_data"
    },
    {
     "data": {
      "text/latex": [
       "$\\displaystyle M_{4} = \\frac{B_{0} e^{L_{0} k_{1}}}{e^{2 L_{0} k_{1}} - e^{2 L_{1} k_{1}}} - \\frac{B_{1} e^{L_{1} k_{1}}}{e^{2 L_{0} k_{1}} - e^{2 L_{1} k_{1}}}$"
      ],
      "text/plain": [
       "Eq(M_{4}, B_{0}*exp(L_0*k_1)/(exp(2*L_0*k_1) - exp(2*L_1*k_1)) - B_{1}*exp(L_1*k_1)/(exp(2*L_0*k_1) - exp(2*L_1*k_1)))"
      ]
     },
     "metadata": {},
     "output_type": "display_data"
    },
    {
     "data": {
      "text/latex": [
       "$\\displaystyle M_{5} = k_{1}$"
      ],
      "text/plain": [
       "Eq(M_{5}, k_1)"
      ]
     },
     "metadata": {},
     "output_type": "display_data"
    },
    {
     "data": {
      "text/latex": [
       "$\\displaystyle M_{6} = M_{4}$"
      ],
      "text/plain": [
       "Eq(M_{6}, M_{4})"
      ]
     },
     "metadata": {},
     "output_type": "display_data"
    },
    {
     "data": {
      "text/latex": [
       "$\\displaystyle M_{7} = - \\frac{B_{0} e^{L_{0} k_{1}} e^{2 L_{1} k_{1}}}{e^{2 L_{0} k_{1}} - e^{2 L_{1} k_{1}}} + \\frac{B_{1} e^{2 L_{0} k_{1}} e^{L_{1} k_{1}}}{e^{2 L_{0} k_{1}} - e^{2 L_{1} k_{1}}}$"
      ],
      "text/plain": [
       "Eq(M_{7}, -B_{0}*exp(L_0*k_1)*exp(2*L_1*k_1)/(exp(2*L_0*k_1) - exp(2*L_1*k_1)) + B_{1}*exp(2*L_0*k_1)*exp(L_1*k_1)/(exp(2*L_0*k_1) - exp(2*L_1*k_1)))"
      ]
     },
     "metadata": {},
     "output_type": "display_data"
    },
    {
     "data": {
      "text/latex": [
       "$\\displaystyle M_{8} = M_{7}$"
      ],
      "text/plain": [
       "Eq(M_{8}, M_{7})"
      ]
     },
     "metadata": {},
     "output_type": "display_data"
    },
    {
     "data": {
      "text/latex": [
       "$\\displaystyle M_{9} = k_{2}$"
      ],
      "text/plain": [
       "Eq(M_{9}, k_2)"
      ]
     },
     "metadata": {},
     "output_type": "display_data"
    },
    {
     "data": {
      "text/latex": [
       "$\\displaystyle M_{10} = B_{1} e^{L_{1} k_{2}} - C_{2} e^{2 L_{1} k_{2}}$"
      ],
      "text/plain": [
       "Eq(M_{10}, B_{1}*exp(L_1*k_2) - C2*exp(2*L_1*k_2))"
      ]
     },
     "metadata": {},
     "output_type": "display_data"
    },
    {
     "data": {
      "text/latex": [
       "$\\displaystyle M_{11} = M_{10}$"
      ],
      "text/plain": [
       "Eq(M_{11}, M_{10})"
      ]
     },
     "metadata": {},
     "output_type": "display_data"
    }
   ],
   "source": [
    "display_group_results( results0 )"
   ]
  },
  {
   "cell_type": "code",
   "execution_count": null,
   "id": "43d2c239-cff8-4941-86c9-1d3f0453af3f",
   "metadata": {},
   "outputs": [],
   "source": []
  },
  {
   "cell_type": "code",
   "execution_count": 21,
   "id": "860f03e0-ee5a-4571-bb61-2b8a041e648a",
   "metadata": {},
   "outputs": [
    {
     "name": "stdout",
     "output_type": "stream",
     "text": [
      "<class 'sympy.core.relational.Equality'>\n",
      "<class 'sympy.core.relational.Equality'>\n",
      "<class 'sympy.core.relational.Equality'>\n",
      "<class 'sympy.core.relational.Equality'>\n",
      "<class 'sympy.core.relational.Equality'>\n",
      "<class 'sympy.core.relational.Equality'>\n"
     ]
    }
   ],
   "source": [
    "zero_substitutions = stairwell_solver.make_substitution_solution( 0 )"
   ]
  },
  {
   "cell_type": "code",
   "execution_count": null,
   "id": "eb2a83e8-3922-4688-b7e5-3798e67973ab",
   "metadata": {},
   "outputs": [],
   "source": []
  },
  {
   "cell_type": "code",
   "execution_count": 22,
   "id": "29842f6c-a4c6-4ba6-85ac-85259a0e8bfe",
   "metadata": {},
   "outputs": [
    {
     "data": {
      "text/latex": [
       "$\\displaystyle \\psi_{0}{\\left(x \\right)} = C_{2} e^{k_{0} x} + \\left(B_{0} e^{L_{0} k_{0}} - C_{2} e^{2 L_{0} k_{0}}\\right) e^{- k_{0} x}$"
      ],
      "text/plain": [
       "Eq(\\psi_{0}(x), C2*exp(k_0*x) + (B_{0}*exp(L_0*k_0) - C2*exp(2*L_0*k_0))*exp(-k_0*x))"
      ]
     },
     "metadata": {},
     "output_type": "display_data"
    },
    {
     "data": {
      "text/latex": [
       "$\\displaystyle \\psi_{1}{\\left(x \\right)} = \\left(\\frac{B_{0} e^{L_{0} k_{1}}}{e^{2 L_{0} k_{1}} - e^{2 L_{1} k_{1}}} - \\frac{B_{1} e^{L_{1} k_{1}}}{e^{2 L_{0} k_{1}} - e^{2 L_{1} k_{1}}}\\right) e^{k_{1} x} + \\left(- \\frac{B_{0} e^{L_{0} k_{1}} e^{2 L_{1} k_{1}}}{e^{2 L_{0} k_{1}} - e^{2 L_{1} k_{1}}} + \\frac{B_{1} e^{2 L_{0} k_{1}} e^{L_{1} k_{1}}}{e^{2 L_{0} k_{1}} - e^{2 L_{1} k_{1}}}\\right) e^{- k_{1} x}$"
      ],
      "text/plain": [
       "Eq(\\psi_{1}(x), (B_{0}*exp(L_0*k_1)/(exp(2*L_0*k_1) - exp(2*L_1*k_1)) - B_{1}*exp(L_1*k_1)/(exp(2*L_0*k_1) - exp(2*L_1*k_1)))*exp(k_1*x) + (-B_{0}*exp(L_0*k_1)*exp(2*L_1*k_1)/(exp(2*L_0*k_1) - exp(2*L_1*k_1)) + B_{1}*exp(2*L_0*k_1)*exp(L_1*k_1)/(exp(2*L_0*k_1) - exp(2*L_1*k_1)))*exp(-k_1*x))"
      ]
     },
     "metadata": {},
     "output_type": "display_data"
    },
    {
     "data": {
      "text/latex": [
       "$\\displaystyle \\psi_{2}{\\left(x \\right)} = C_{2} e^{k_{2} x} + \\left(B_{1} e^{L_{1} k_{2}} - C_{2} e^{2 L_{1} k_{2}}\\right) e^{- k_{2} x}$"
      ],
      "text/plain": [
       "Eq(\\psi_{2}(x), C2*exp(k_2*x) + (B_{1}*exp(L_1*k_2) - C2*exp(2*L_1*k_2))*exp(-k_2*x))"
      ]
     },
     "metadata": {},
     "output_type": "display_data"
    }
   ],
   "source": [
    "display_steps( stairwell_solver.equations )"
   ]
  },
  {
   "cell_type": "code",
   "execution_count": null,
   "id": "ddd81434-805f-4e23-8c9b-4a0c5806a8c1",
   "metadata": {},
   "outputs": [],
   "source": []
  },
  {
   "cell_type": "code",
   "execution_count": 23,
   "id": "acd13174-1675-45af-9ed5-5e6fdd6457b1",
   "metadata": {},
   "outputs": [
    {
     "data": {
      "text/plain": [
       "[[Eq(\\psi_{0}(0), B_{0}*exp(L_0*k_0) - C2*exp(2*L_0*k_0) + C2),\n",
       "  Eq(\\psi_{1}(0), -B_{0}*exp(L_0*k_1)*exp(2*L_1*k_1)/(exp(2*L_0*k_1) - exp(2*L_1*k_1)) + B_{0}*exp(L_0*k_1)/(exp(2*L_0*k_1) - exp(2*L_1*k_1)) + B_{1}*exp(2*L_0*k_1)*exp(L_1*k_1)/(exp(2*L_0*k_1) - exp(2*L_1*k_1)) - B_{1}*exp(L_1*k_1)/(exp(2*L_0*k_1) - exp(2*L_1*k_1))),\n",
       "  Eq(\\psi_{2}(0), B_{1}*exp(L_1*k_2) - C2*exp(2*L_1*k_2) + C2)],\n",
       " [Eq(Integral((C2*exp(k_0*x) + (B_{0}*exp(L_0*k_0) - C2*exp(2*L_0*k_0))*exp(-k_0*x))*((-exp(2*L_0*k_0)*conjugate(C2) + exp(L_0*k_0)*conjugate(B_{0}))*exp(-k_0*x) + exp(k_0*x)*conjugate(C2)), (x, 0, L_0)), N_0),\n",
       "  Eq(Integral(((B_{0}*exp(L_0*k_1)/(exp(2*L_0*k_1) - exp(2*L_1*k_1)) - B_{1}*exp(L_1*k_1)/(exp(2*L_0*k_1) - exp(2*L_1*k_1)))*exp(k_1*x) + (-B_{0}*exp(L_0*k_1)*exp(2*L_1*k_1)/(exp(2*L_0*k_1) - exp(2*L_1*k_1)) + B_{1}*exp(2*L_0*k_1)*exp(L_1*k_1)/(exp(2*L_0*k_1) - exp(2*L_1*k_1)))*exp(-k_1*x))*((exp(L_0*k_1)*conjugate(B_{0})/(exp(2*L_0*k_1) - exp(2*L_1*k_1)) - exp(L_1*k_1)*conjugate(B_{1})/(exp(2*L_0*k_1) - exp(2*L_1*k_1)))*exp(k_1*x) + (exp(2*L_0*k_1)*exp(L_1*k_1)*conjugate(B_{1})/(exp(2*L_0*k_1) - exp(2*L_1*k_1)) - exp(L_0*k_1)*exp(2*L_1*k_1)*conjugate(B_{0})/(exp(2*L_0*k_1) - exp(2*L_1*k_1)))*exp(-k_1*x)), (x, L_0, L_1)), N_1),\n",
       "  Eq(Integral((C2*exp(k_2*x) + (B_{1}*exp(L_1*k_2) - C2*exp(2*L_1*k_2))*exp(-k_2*x))*((-exp(2*L_1*k_2)*conjugate(C2) + exp(L_1*k_2)*conjugate(B_{1}))*exp(-k_2*x) + exp(k_2*x)*conjugate(C2)), (x, L_1, L_2)), N_2)]]"
      ]
     },
     "execution_count": 23,
     "metadata": {},
     "output_type": "execute_result"
    }
   ],
   "source": [
    "zero_substitutions"
   ]
  },
  {
   "cell_type": "code",
   "execution_count": null,
   "id": "c3339438-46be-4172-96a2-82976ab8b42d",
   "metadata": {},
   "outputs": [],
   "source": []
  },
  {
   "cell_type": "code",
   "execution_count": 24,
   "id": "e7d67645-9379-41c5-b772-d4ea7c8bae16",
   "metadata": {},
   "outputs": [
    {
     "data": {
      "text/latex": [
       "$\\displaystyle \\psi_{0}{\\left(0 \\right)} = B_{0} e^{L_{0} k_{0}} - C_{2} e^{2 L_{0} k_{0}} + C_{2}$"
      ],
      "text/plain": [
       "Eq(\\psi_{0}(0), B_{0}*exp(L_0*k_0) - C2*exp(2*L_0*k_0) + C2)"
      ]
     },
     "metadata": {},
     "output_type": "display_data"
    },
    {
     "data": {
      "text/latex": [
       "$\\displaystyle \\psi_{1}{\\left(0 \\right)} = - \\frac{B_{0} e^{L_{0} k_{1}} e^{2 L_{1} k_{1}}}{e^{2 L_{0} k_{1}} - e^{2 L_{1} k_{1}}} + \\frac{B_{0} e^{L_{0} k_{1}}}{e^{2 L_{0} k_{1}} - e^{2 L_{1} k_{1}}} + \\frac{B_{1} e^{2 L_{0} k_{1}} e^{L_{1} k_{1}}}{e^{2 L_{0} k_{1}} - e^{2 L_{1} k_{1}}} - \\frac{B_{1} e^{L_{1} k_{1}}}{e^{2 L_{0} k_{1}} - e^{2 L_{1} k_{1}}}$"
      ],
      "text/plain": [
       "Eq(\\psi_{1}(0), -B_{0}*exp(L_0*k_1)*exp(2*L_1*k_1)/(exp(2*L_0*k_1) - exp(2*L_1*k_1)) + B_{0}*exp(L_0*k_1)/(exp(2*L_0*k_1) - exp(2*L_1*k_1)) + B_{1}*exp(2*L_0*k_1)*exp(L_1*k_1)/(exp(2*L_0*k_1) - exp(2*L_1*k_1)) - B_{1}*exp(L_1*k_1)/(exp(2*L_0*k_1) - exp(2*L_1*k_1)))"
      ]
     },
     "metadata": {},
     "output_type": "display_data"
    },
    {
     "data": {
      "text/latex": [
       "$\\displaystyle \\psi_{2}{\\left(0 \\right)} = B_{1} e^{L_{1} k_{2}} - C_{2} e^{2 L_{1} k_{2}} + C_{2}$"
      ],
      "text/plain": [
       "Eq(\\psi_{2}(0), B_{1}*exp(L_1*k_2) - C2*exp(2*L_1*k_2) + C2)"
      ]
     },
     "metadata": {},
     "output_type": "display_data"
    }
   ],
   "source": [
    "for eq in zero_substitutions[ 0 ]: \n",
    "    display( eq )"
   ]
  },
  {
   "cell_type": "code",
   "execution_count": null,
   "id": "3adec49c-fee7-4de7-9ecf-3ad927315210",
   "metadata": {},
   "outputs": [],
   "source": []
  },
  {
   "cell_type": "code",
   "execution_count": 26,
   "id": "6be8e801-7c39-4dc1-bf46-e05aa4e02369",
   "metadata": {},
   "outputs": [
    {
     "data": {
      "text/latex": [
       "$\\displaystyle \\int\\limits_{0}^{L_{0}} \\left(C_{2} e^{k_{0} x} + \\left(B_{0} e^{L_{0} k_{0}} - C_{2} e^{2 L_{0} k_{0}}\\right) e^{- k_{0} x}\\right) \\left(\\left(- e^{2 L_{0} k_{0}} \\overline{C_{2}} + e^{L_{0} k_{0}} \\overline{B_{0}}\\right) e^{- k_{0} x} + e^{k_{0} x} \\overline{C_{2}}\\right)\\, dx = N_{0}$"
      ],
      "text/plain": [
       "Eq(Integral((C2*exp(k_0*x) + (B_{0}*exp(L_0*k_0) - C2*exp(2*L_0*k_0))*exp(-k_0*x))*((-exp(2*L_0*k_0)*conjugate(C2) + exp(L_0*k_0)*conjugate(B_{0}))*exp(-k_0*x) + exp(k_0*x)*conjugate(C2)), (x, 0, L_0)), N_0)"
      ]
     },
     "metadata": {},
     "output_type": "display_data"
    },
    {
     "data": {
      "text/latex": [
       "$\\displaystyle \\int\\limits_{L_{0}}^{L_{1}} \\left(\\left(\\frac{B_{0} e^{L_{0} k_{1}}}{e^{2 L_{0} k_{1}} - e^{2 L_{1} k_{1}}} - \\frac{B_{1} e^{L_{1} k_{1}}}{e^{2 L_{0} k_{1}} - e^{2 L_{1} k_{1}}}\\right) e^{k_{1} x} + \\left(- \\frac{B_{0} e^{L_{0} k_{1}} e^{2 L_{1} k_{1}}}{e^{2 L_{0} k_{1}} - e^{2 L_{1} k_{1}}} + \\frac{B_{1} e^{2 L_{0} k_{1}} e^{L_{1} k_{1}}}{e^{2 L_{0} k_{1}} - e^{2 L_{1} k_{1}}}\\right) e^{- k_{1} x}\\right) \\left(\\left(\\frac{e^{L_{0} k_{1}} \\overline{B_{0}}}{e^{2 L_{0} k_{1}} - e^{2 L_{1} k_{1}}} - \\frac{e^{L_{1} k_{1}} \\overline{B_{1}}}{e^{2 L_{0} k_{1}} - e^{2 L_{1} k_{1}}}\\right) e^{k_{1} x} + \\left(\\frac{e^{2 L_{0} k_{1}} e^{L_{1} k_{1}} \\overline{B_{1}}}{e^{2 L_{0} k_{1}} - e^{2 L_{1} k_{1}}} - \\frac{e^{L_{0} k_{1}} e^{2 L_{1} k_{1}} \\overline{B_{0}}}{e^{2 L_{0} k_{1}} - e^{2 L_{1} k_{1}}}\\right) e^{- k_{1} x}\\right)\\, dx = N_{1}$"
      ],
      "text/plain": [
       "Eq(Integral(((B_{0}*exp(L_0*k_1)/(exp(2*L_0*k_1) - exp(2*L_1*k_1)) - B_{1}*exp(L_1*k_1)/(exp(2*L_0*k_1) - exp(2*L_1*k_1)))*exp(k_1*x) + (-B_{0}*exp(L_0*k_1)*exp(2*L_1*k_1)/(exp(2*L_0*k_1) - exp(2*L_1*k_1)) + B_{1}*exp(2*L_0*k_1)*exp(L_1*k_1)/(exp(2*L_0*k_1) - exp(2*L_1*k_1)))*exp(-k_1*x))*((exp(L_0*k_1)*conjugate(B_{0})/(exp(2*L_0*k_1) - exp(2*L_1*k_1)) - exp(L_1*k_1)*conjugate(B_{1})/(exp(2*L_0*k_1) - exp(2*L_1*k_1)))*exp(k_1*x) + (exp(2*L_0*k_1)*exp(L_1*k_1)*conjugate(B_{1})/(exp(2*L_0*k_1) - exp(2*L_1*k_1)) - exp(L_0*k_1)*exp(2*L_1*k_1)*conjugate(B_{0})/(exp(2*L_0*k_1) - exp(2*L_1*k_1)))*exp(-k_1*x)), (x, L_0, L_1)), N_1)"
      ]
     },
     "metadata": {},
     "output_type": "display_data"
    },
    {
     "data": {
      "text/latex": [
       "$\\displaystyle \\int\\limits_{L_{1}}^{L_{2}} \\left(C_{2} e^{k_{2} x} + \\left(B_{1} e^{L_{1} k_{2}} - C_{2} e^{2 L_{1} k_{2}}\\right) e^{- k_{2} x}\\right) \\left(\\left(- e^{2 L_{1} k_{2}} \\overline{C_{2}} + e^{L_{1} k_{2}} \\overline{B_{1}}\\right) e^{- k_{2} x} + e^{k_{2} x} \\overline{C_{2}}\\right)\\, dx = N_{2}$"
      ],
      "text/plain": [
       "Eq(Integral((C2*exp(k_2*x) + (B_{1}*exp(L_1*k_2) - C2*exp(2*L_1*k_2))*exp(-k_2*x))*((-exp(2*L_1*k_2)*conjugate(C2) + exp(L_1*k_2)*conjugate(B_{1}))*exp(-k_2*x) + exp(k_2*x)*conjugate(C2)), (x, L_1, L_2)), N_2)"
      ]
     },
     "metadata": {},
     "output_type": "display_data"
    }
   ],
   "source": [
    "for eq in zero_substitutions[ 1 ]: \n",
    "    display( eq )"
   ]
  },
  {
   "cell_type": "code",
   "execution_count": null,
   "id": "17a56644-17bc-4a37-b175-23ee156fb534",
   "metadata": {},
   "outputs": [],
   "source": []
  },
  {
   "cell_type": "code",
   "execution_count": 27,
   "id": "ba837fd8-07b6-4c78-adb5-77c8383a4cf1",
   "metadata": {},
   "outputs": [
    {
     "data": {
      "text/latex": [
       "$\\displaystyle \\psi_{0}{\\left(x \\right)} = C_{2} e^{k_{0} x} + \\left(B_{0} e^{L_{0} k_{0}} - C_{2} e^{2 L_{0} k_{0}}\\right) e^{- k_{0} x}$"
      ],
      "text/plain": [
       "Eq(\\psi_{0}(x), C2*exp(k_0*x) + (B_{0}*exp(L_0*k_0) - C2*exp(2*L_0*k_0))*exp(-k_0*x))"
      ]
     },
     "metadata": {},
     "output_type": "display_data"
    },
    {
     "data": {
      "text/latex": [
       "$\\displaystyle \\psi_{1}{\\left(x \\right)} = \\left(\\frac{B_{0} e^{L_{0} k_{1}}}{e^{2 L_{0} k_{1}} - e^{2 L_{1} k_{1}}} - \\frac{B_{1} e^{L_{1} k_{1}}}{e^{2 L_{0} k_{1}} - e^{2 L_{1} k_{1}}}\\right) e^{k_{1} x} + \\left(- \\frac{B_{0} e^{L_{0} k_{1}} e^{2 L_{1} k_{1}}}{e^{2 L_{0} k_{1}} - e^{2 L_{1} k_{1}}} + \\frac{B_{1} e^{2 L_{0} k_{1}} e^{L_{1} k_{1}}}{e^{2 L_{0} k_{1}} - e^{2 L_{1} k_{1}}}\\right) e^{- k_{1} x}$"
      ],
      "text/plain": [
       "Eq(\\psi_{1}(x), (B_{0}*exp(L_0*k_1)/(exp(2*L_0*k_1) - exp(2*L_1*k_1)) - B_{1}*exp(L_1*k_1)/(exp(2*L_0*k_1) - exp(2*L_1*k_1)))*exp(k_1*x) + (-B_{0}*exp(L_0*k_1)*exp(2*L_1*k_1)/(exp(2*L_0*k_1) - exp(2*L_1*k_1)) + B_{1}*exp(2*L_0*k_1)*exp(L_1*k_1)/(exp(2*L_0*k_1) - exp(2*L_1*k_1)))*exp(-k_1*x))"
      ]
     },
     "metadata": {},
     "output_type": "display_data"
    },
    {
     "data": {
      "text/latex": [
       "$\\displaystyle \\psi_{2}{\\left(x \\right)} = C_{2} e^{k_{2} x} + \\left(B_{1} e^{L_{1} k_{2}} - C_{2} e^{2 L_{1} k_{2}}\\right) e^{- k_{2} x}$"
      ],
      "text/plain": [
       "Eq(\\psi_{2}(x), C2*exp(k_2*x) + (B_{1}*exp(L_1*k_2) - C2*exp(2*L_1*k_2))*exp(-k_2*x))"
      ]
     },
     "metadata": {},
     "output_type": "display_data"
    }
   ],
   "source": [
    "display_steps( stairwell_solver.equations )"
   ]
  },
  {
   "cell_type": "code",
   "execution_count": null,
   "id": "017e3dd4-14f9-4a3d-83fb-b120f96dce22",
   "metadata": {},
   "outputs": [],
   "source": []
  }
 ],
 "metadata": {
  "kernelspec": {
   "display_name": "Python 3 (ipykernel)",
   "language": "python",
   "name": "python3"
  },
  "language_info": {
   "codemirror_mode": {
    "name": "ipython",
    "version": 3
   },
   "file_extension": ".py",
   "mimetype": "text/x-python",
   "name": "python",
   "nbconvert_exporter": "python",
   "pygments_lexer": "ipython3",
   "version": "3.10.4"
  }
 },
 "nbformat": 4,
 "nbformat_minor": 5
}
