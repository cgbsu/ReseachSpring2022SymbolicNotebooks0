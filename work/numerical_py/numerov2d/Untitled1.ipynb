{
 "cells": [
  {
   "cell_type": "code",
   "execution_count": 1,
   "id": "6e8005a3-abdd-494d-ace4-f869d2179f10",
   "metadata": {},
   "outputs": [],
   "source": [
    "import numpy as np"
   ]
  },
  {
   "cell_type": "code",
   "execution_count": 38,
   "id": "90b435c7-d438-4238-97c9-4cb797754e1c",
   "metadata": {},
   "outputs": [],
   "source": [
    "psis = np.zeros(9)\n",
    "for ii in range(9):\n",
    "    psis[ii] = ii + 1\n",
    "psis = psis.reshape((3, 3))"
   ]
  },
  {
   "cell_type": "code",
   "execution_count": 39,
   "id": "c8192e6b-5cfa-4145-ae26-5b1495f42da4",
   "metadata": {},
   "outputs": [
    {
     "data": {
      "text/plain": [
       "array([[1., 2., 3.],\n",
       "       [4., 5., 6.],\n",
       "       [7., 8., 9.]])"
      ]
     },
     "execution_count": 39,
     "metadata": {},
     "output_type": "execute_result"
    }
   ],
   "source": [
    "psis"
   ]
  },
  {
   "cell_type": "code",
   "execution_count": 34,
   "id": "78b89c96-a6bc-476a-823a-2ed621ef01b1",
   "metadata": {},
   "outputs": [],
   "source": [
    "deriv = np.zeros((3, 3))"
   ]
  },
  {
   "cell_type": "code",
   "execution_count": 35,
   "id": "87801af9-0aca-4218-8305-ff4eb52fff52",
   "metadata": {},
   "outputs": [],
   "source": [
    "deriv[2][2] = deriv[1][1] = deriv[0][0] = -2"
   ]
  },
  {
   "cell_type": "code",
   "execution_count": 36,
   "id": "3897e22f-bb8a-4467-a5d6-a71c27eb3cfa",
   "metadata": {},
   "outputs": [
    {
     "data": {
      "text/plain": [
       "array([[-2.,  0.,  0.],\n",
       "       [ 0., -2.,  0.],\n",
       "       [ 0.,  0., -2.]])"
      ]
     },
     "execution_count": 36,
     "metadata": {},
     "output_type": "execute_result"
    }
   ],
   "source": [
    "deriv"
   ]
  },
  {
   "cell_type": "code",
   "execution_count": 37,
   "id": "010996cc-fcdb-4200-8d52-3a4d2f5e501c",
   "metadata": {},
   "outputs": [],
   "source": [
    "deriv[1][0] = deriv[2][1] = 1"
   ]
  },
  {
   "cell_type": "code",
   "execution_count": 15,
   "id": "7dc33b25-dc0f-4fb4-8928-a6afe824f8c7",
   "metadata": {},
   "outputs": [],
   "source": [
    "deriv[0][1] = deriv[1][2] = 1"
   ]
  },
  {
   "cell_type": "code",
   "execution_count": 16,
   "id": "f08ae5ec-03a8-4e4b-991e-2f41a797a591",
   "metadata": {},
   "outputs": [
    {
     "data": {
      "text/plain": [
       "array([[-2.,  1.,  0.],\n",
       "       [ 1., -2.,  1.],\n",
       "       [ 0.,  1., -2.]])"
      ]
     },
     "execution_count": 16,
     "metadata": {},
     "output_type": "execute_result"
    }
   ],
   "source": [
    "deriv"
   ]
  },
  {
   "cell_type": "code",
   "execution_count": 40,
   "id": "07eff8df-9b4f-4bb4-aa58-c2764a7b3b74",
   "metadata": {},
   "outputs": [
    {
     "data": {
      "text/plain": [
       "array([[ -2.,  -4.,  -6.,   0.,   0.,   0.,   0.,   0.,   0.],\n",
       "       [ -8., -10., -12.,   0.,   0.,   0.,   0.,   0.,   0.],\n",
       "       [-14., -16., -18.,   0.,   0.,   0.,   0.,   0.,   0.],\n",
       "       [  1.,   2.,   3.,  -2.,  -4.,  -6.,   0.,   0.,   0.],\n",
       "       [  4.,   5.,   6.,  -8., -10., -12.,   0.,   0.,   0.],\n",
       "       [  7.,   8.,   9., -14., -16., -18.,   0.,   0.,   0.],\n",
       "       [  0.,   0.,   0.,   1.,   2.,   3.,  -2.,  -4.,  -6.],\n",
       "       [  0.,   0.,   0.,   4.,   5.,   6.,  -8., -10., -12.],\n",
       "       [  0.,   0.,   0.,   7.,   8.,   9., -14., -16., -18.]])"
      ]
     },
     "execution_count": 40,
     "metadata": {},
     "output_type": "execute_result"
    }
   ],
   "source": [
    "np.kron(deriv, psis)"
   ]
  },
  {
   "cell_type": "code",
   "execution_count": 62,
   "id": "0d98ac20-9b17-4211-bdc2-77245a4d0827",
   "metadata": {},
   "outputs": [],
   "source": [
    "I = np.flipud(np.identity(3)) + np.identity(3).T"
   ]
  },
  {
   "cell_type": "code",
   "execution_count": 63,
   "id": "ec837e96-b096-49c1-ae6f-7feb17173ec1",
   "metadata": {},
   "outputs": [],
   "source": [
    "I[1][1] = 1"
   ]
  },
  {
   "cell_type": "code",
   "execution_count": 64,
   "id": "dcbfa792-cd0f-4ab4-a9cb-ceb8f52ce29d",
   "metadata": {},
   "outputs": [
    {
     "data": {
      "text/plain": [
       "array([[1., 0., 1.],\n",
       "       [0., 1., 0.],\n",
       "       [1., 0., 1.]])"
      ]
     },
     "execution_count": 64,
     "metadata": {},
     "output_type": "execute_result"
    }
   ],
   "source": [
    "I"
   ]
  },
  {
   "cell_type": "code",
   "execution_count": 67,
   "id": "30a9da4d-95a9-4684-a49e-e9476f4e0601",
   "metadata": {},
   "outputs": [
    {
     "data": {
      "text/plain": [
       "array([[-2., -0., -0.,  0.,  0.,  0.,  0.,  0.,  0.],\n",
       "       [-0., -2., -0.,  0.,  0.,  0.,  0.,  0.,  0.],\n",
       "       [-0., -0., -2.,  0.,  0.,  0.,  0.,  0.,  0.],\n",
       "       [ 1.,  0.,  0., -2., -0., -0.,  0.,  0.,  0.],\n",
       "       [ 0.,  1.,  0., -0., -2., -0.,  0.,  0.,  0.],\n",
       "       [ 0.,  0.,  1., -0., -0., -2.,  0.,  0.,  0.],\n",
       "       [ 0.,  0.,  0.,  1.,  0.,  0., -2., -0., -0.],\n",
       "       [ 0.,  0.,  0.,  0.,  1.,  0., -0., -2., -0.],\n",
       "       [ 0.,  0.,  0.,  0.,  0.,  1., -0., -0., -2.]])"
      ]
     },
     "execution_count": 67,
     "metadata": {},
     "output_type": "execute_result"
    }
   ],
   "source": [
    "np.kron(deriv, np.identity(3))"
   ]
  },
  {
   "cell_type": "code",
   "execution_count": 70,
   "id": "f7d3f5a5-b4e9-4316-ac64-9b2eba2e2f1f",
   "metadata": {},
   "outputs": [],
   "source": [
    "D = np.identity(3) * 2"
   ]
  },
  {
   "cell_type": "code",
   "execution_count": 71,
   "id": "a2060440-3c1a-4590-8ce8-0dffd555c00f",
   "metadata": {},
   "outputs": [
    {
     "data": {
      "text/plain": [
       "array([[2., 0., 0.],\n",
       "       [0., 2., 0.],\n",
       "       [0., 0., 2.]])"
      ]
     },
     "execution_count": 71,
     "metadata": {},
     "output_type": "execute_result"
    }
   ],
   "source": [
    "D"
   ]
  },
  {
   "cell_type": "code",
   "execution_count": 77,
   "id": "8a45eccc-410b-4afe-8488-82762ab60e30",
   "metadata": {},
   "outputs": [
    {
     "data": {
      "text/plain": [
       "array([[1., 2., 3., 0., 0., 0., 0., 0., 0.],\n",
       "       [4., 5., 6., 0., 0., 0., 0., 0., 0.],\n",
       "       [7., 8., 9., 0., 0., 0., 0., 0., 0.],\n",
       "       [0., 0., 0., 1., 2., 3., 0., 0., 0.],\n",
       "       [0., 0., 0., 4., 5., 6., 0., 0., 0.],\n",
       "       [0., 0., 0., 7., 8., 9., 0., 0., 0.],\n",
       "       [0., 0., 0., 0., 0., 0., 1., 2., 3.],\n",
       "       [0., 0., 0., 0., 0., 0., 4., 5., 6.],\n",
       "       [0., 0., 0., 0., 0., 0., 7., 8., 9.]])"
      ]
     },
     "execution_count": 77,
     "metadata": {},
     "output_type": "execute_result"
    }
   ],
   "source": [
    "np.kron(np.identity(3), psis) "
   ]
  },
  {
   "cell_type": "code",
   "execution_count": 78,
   "id": "09f671df-1ee0-43ab-b13c-d28965a73fb6",
   "metadata": {},
   "outputs": [
    {
     "data": {
      "text/plain": [
       "array([[1., 0., 0., 2., 0., 0., 3., 0., 0.],\n",
       "       [0., 1., 0., 0., 2., 0., 0., 3., 0.],\n",
       "       [0., 0., 1., 0., 0., 2., 0., 0., 3.],\n",
       "       [4., 0., 0., 5., 0., 0., 6., 0., 0.],\n",
       "       [0., 4., 0., 0., 5., 0., 0., 6., 0.],\n",
       "       [0., 0., 4., 0., 0., 5., 0., 0., 6.],\n",
       "       [7., 0., 0., 8., 0., 0., 9., 0., 0.],\n",
       "       [0., 7., 0., 0., 8., 0., 0., 9., 0.],\n",
       "       [0., 0., 7., 0., 0., 8., 0., 0., 9.]])"
      ]
     },
     "execution_count": 78,
     "metadata": {},
     "output_type": "execute_result"
    }
   ],
   "source": [
    "np.kron(psis, np.identity(3)) "
   ]
  },
  {
   "cell_type": "code",
   "execution_count": 79,
   "id": "8805fde9-198d-4d6d-9cb5-eb36a5b4419b",
   "metadata": {},
   "outputs": [
    {
     "data": {
      "text/plain": [
       "array([[1., 2., 3.],\n",
       "       [4., 5., 6.],\n",
       "       [7., 8., 9.]])"
      ]
     },
     "execution_count": 79,
     "metadata": {},
     "output_type": "execute_result"
    }
   ],
   "source": [
    "psis"
   ]
  },
  {
   "cell_type": "code",
   "execution_count": null,
   "id": "9a812f64-afd3-4e23-8c40-05fcef0d541f",
   "metadata": {},
   "outputs": [],
   "source": []
  },
  {
   "cell_type": "code",
   "execution_count": 128,
   "id": "0afd10b4-c79a-4a2c-b7ec-91f5b282997b",
   "metadata": {},
   "outputs": [],
   "source": [
    "potentials = np.identity(9) * psis.ravel()"
   ]
  },
  {
   "cell_type": "code",
   "execution_count": 129,
   "id": "5ca67836-8f95-463a-8910-1ff480a07eb7",
   "metadata": {},
   "outputs": [
    {
     "data": {
      "text/plain": [
       "array([[1., 0., 0., 0., 0., 0., 0., 0., 0.],\n",
       "       [0., 2., 0., 0., 0., 0., 0., 0., 0.],\n",
       "       [0., 0., 3., 0., 0., 0., 0., 0., 0.],\n",
       "       [0., 0., 0., 4., 0., 0., 0., 0., 0.],\n",
       "       [0., 0., 0., 0., 5., 0., 0., 0., 0.],\n",
       "       [0., 0., 0., 0., 0., 6., 0., 0., 0.],\n",
       "       [0., 0., 0., 0., 0., 0., 7., 0., 0.],\n",
       "       [0., 0., 0., 0., 0., 0., 0., 8., 0.],\n",
       "       [0., 0., 0., 0., 0., 0., 0., 0., 9.]])"
      ]
     },
     "execution_count": 129,
     "metadata": {},
     "output_type": "execute_result"
    }
   ],
   "source": [
    "potentials"
   ]
  },
  {
   "cell_type": "code",
   "execution_count": null,
   "id": "c55fe9aa-78e2-4435-8d47-62175a864f5d",
   "metadata": {},
   "outputs": [],
   "source": []
  }
 ],
 "metadata": {
  "kernelspec": {
   "display_name": "Python 3 (ipykernel)",
   "language": "python",
   "name": "python3"
  },
  "language_info": {
   "codemirror_mode": {
    "name": "ipython",
    "version": 3
   },
   "file_extension": ".py",
   "mimetype": "text/x-python",
   "name": "python",
   "nbconvert_exporter": "python",
   "pygments_lexer": "ipython3",
   "version": "3.10.5"
  }
 },
 "nbformat": 4,
 "nbformat_minor": 5
}
