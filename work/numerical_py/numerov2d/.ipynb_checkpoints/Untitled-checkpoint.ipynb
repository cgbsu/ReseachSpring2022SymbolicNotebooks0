{
 "cells": [
  {
   "cell_type": "code",
   "execution_count": 1,
   "id": "c1dbecf1-7759-4507-9eb1-486c21e5355b",
   "metadata": {},
   "outputs": [],
   "source": [
    "import numpy as np"
   ]
  },
  {
   "cell_type": "code",
   "execution_count": 3,
   "id": "81a04e52-f2c6-4596-9ba2-7ff057ccb49e",
   "metadata": {},
   "outputs": [],
   "source": [
    "test = np.zeros((3, 3))"
   ]
  },
  {
   "cell_type": "code",
   "execution_count": 21,
   "id": "542a0020-ef4b-473e-bb66-0de761ddef4b",
   "metadata": {},
   "outputs": [],
   "source": [
    "for ii in range(3):\n",
    "    for jj in range(3): \n",
    "        test[ii][jj] = (ii + 1) * (jj + 1 + ii)"
   ]
  },
  {
   "cell_type": "code",
   "execution_count": 22,
   "id": "05160218-ac7b-40a2-a9d9-9f578034dbcd",
   "metadata": {},
   "outputs": [
    {
     "data": {
      "text/plain": [
       "array([[ 1.,  2.,  3.],\n",
       "       [ 4.,  6.,  8.],\n",
       "       [ 9., 12., 15.]])"
      ]
     },
     "execution_count": 22,
     "metadata": {},
     "output_type": "execute_result"
    }
   ],
   "source": [
    "test"
   ]
  },
  {
   "cell_type": "code",
   "execution_count": 23,
   "id": "a32000d9-aa6e-4752-b39e-80c9f91a1202",
   "metadata": {},
   "outputs": [
    {
     "data": {
      "text/plain": [
       "array([[ 1.,  2.,  3.,  4.,  6.,  8.,  9., 12., 15.]])"
      ]
     },
     "execution_count": 23,
     "metadata": {},
     "output_type": "execute_result"
    }
   ],
   "source": [
    "test.reshape((1, 9))"
   ]
  },
  {
   "cell_type": "code",
   "execution_count": null,
   "id": "df0fcdeb-035e-4672-93a8-4a2429b4576d",
   "metadata": {},
   "outputs": [],
   "source": []
  }
 ],
 "metadata": {
  "kernelspec": {
   "display_name": "Python 3 (ipykernel)",
   "language": "python",
   "name": "python3"
  },
  "language_info": {
   "codemirror_mode": {
    "name": "ipython",
    "version": 3
   },
   "file_extension": ".py",
   "mimetype": "text/x-python",
   "name": "python",
   "nbconvert_exporter": "python",
   "pygments_lexer": "ipython3",
   "version": "3.10.5"
  }
 },
 "nbformat": 4,
 "nbformat_minor": 5
}
