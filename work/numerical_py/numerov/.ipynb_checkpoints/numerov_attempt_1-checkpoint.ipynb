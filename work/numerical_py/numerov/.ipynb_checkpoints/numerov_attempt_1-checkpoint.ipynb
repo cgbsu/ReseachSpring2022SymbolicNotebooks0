{
 "cells": [
  {
   "cell_type": "code",
   "execution_count": 1,
   "id": "75628709-dd7d-4352-84dd-47c2e3f0e7e3",
   "metadata": {},
   "outputs": [],
   "source": [
    "import sympy as sp"
   ]
  },
  {
   "cell_type": "code",
   "execution_count": 2,
   "id": "538b7c79-b407-4c56-bf83-71a8b0a092b8",
   "metadata": {},
   "outputs": [],
   "source": [
    "import numpy as np"
   ]
  },
  {
   "cell_type": "code",
   "execution_count": 3,
   "id": "cae2ee1f-6c6c-4b63-8256-2c22eb5555ea",
   "metadata": {},
   "outputs": [],
   "source": [
    "import matplotlib.pyplot as plt"
   ]
  },
  {
   "cell_type": "code",
   "execution_count": 4,
   "id": "104c6579-fcaf-4302-8558-6d4e84b73295",
   "metadata": {},
   "outputs": [],
   "source": [
    "from scipy.linalg import eigh_tridiagonal"
   ]
  },
  {
   "cell_type": "code",
   "execution_count": 5,
   "id": "05be0afb-aca9-42a5-88fa-32b2ced43053",
   "metadata": {},
   "outputs": [],
   "source": [
    "# Following: https://youtu.be/ay0zZ8SUMSk"
   ]
  },
  {
   "cell_type": "code",
   "execution_count": 6,
   "id": "8dcb45fa-3def-4bd7-be33-5819b67adfb4",
   "metadata": {},
   "outputs": [],
   "source": [
    "# Find psi_1 to psi_{N - 1}, excluding psi_0 = 0 and psi_N = 0"
   ]
  },
  {
   "cell_type": "code",
   "execution_count": null,
   "id": "60c5e252-2982-40cc-a81d-390de50c9fd8",
   "metadata": {},
   "outputs": [],
   "source": []
  },
  {
   "cell_type": "code",
   "execution_count": 7,
   "id": "e386e1bf-250e-4418-96bc-f73776ae751e",
   "metadata": {},
   "outputs": [],
   "source": [
    "defaultScalingFactor : float = 1000"
   ]
  },
  {
   "cell_type": "code",
   "execution_count": 8,
   "id": "a69f7738-1d61-48f5-b01a-abf25c8065b3",
   "metadata": {},
   "outputs": [],
   "source": [
    "defaultReducedPlancksConstant : float = 1"
   ]
  },
  {
   "cell_type": "code",
   "execution_count": 9,
   "id": "1842647b-7a60-48ff-b18d-a8435a4deaf0",
   "metadata": {},
   "outputs": [],
   "source": [
    "defaultMass : float = 1"
   ]
  },
  {
   "cell_type": "code",
   "execution_count": 10,
   "id": "f55e2243-f7cb-4658-9e29-2b50c4919bf6",
   "metadata": {},
   "outputs": [],
   "source": [
    "defaultLength : float = 1"
   ]
  },
  {
   "cell_type": "code",
   "execution_count": 11,
   "id": "50afed0b-29a4-49a4-9d79-460755d10cc0",
   "metadata": {},
   "outputs": [],
   "source": [
    "defaultUnormalizedPositionStep : float = 1e-3"
   ]
  },
  {
   "cell_type": "code",
   "execution_count": 12,
   "id": "478588b2-4386-488d-812b-eb4d55a882d1",
   "metadata": {},
   "outputs": [],
   "source": [
    "def unormalizedPotentialTerm(\n",
    "            potentialFunction, \n",
    "            normalizedPositions : np.array, \n",
    "            length : float = defaultLength, \n",
    "            mass : float = defaultMass, \n",
    "            scalingFactor : float = defaultScalingFactor\n",
    "        ) -> np.array: \n",
    "    return ((length ** 2) * mass * potentialFunction(normalizedPositions - length / 2.0)) * scalingFactor"
   ]
  },
  {
   "cell_type": "code",
   "execution_count": 13,
   "id": "f9868ec2-d1b4-431b-bfc3-66004858ba9a",
   "metadata": {},
   "outputs": [],
   "source": [
    "def makeEigenMatrixTerms(\n",
    "            potential : np.array, \n",
    "            normalizedStep : float\n",
    "        ) -> tuple[np.array, np.array]: \n",
    "    inverseNormalizedStepSquared : float = 1.0 / (normalizedStep ** 2)\n",
    "    return (potential + inverseNormalizedStepSquared, -inverseNormalizedStepSquared / 2.0 * np.ones(len(potential)))"
   ]
  },
  {
   "cell_type": "code",
   "execution_count": 14,
   "id": "5635b517-be92-495a-ad6b-62bdee74012e",
   "metadata": {},
   "outputs": [],
   "source": [
    "def makeEigenFunctions(\n",
    "            potential : np.array, \n",
    "            normalizedStep : float, \n",
    "        ) -> tuple[np.array, np.ndarray]: \n",
    "    pointCount = len(potential)\n",
    "    assert pointCount > 2, \"Need at least 3 points to create eigen matrix\"\n",
    "    potentialTerm, stepTerm = makeEigenMatrixTerms(potential, normalizedStep)\n",
    "    return eigh_tridiagonal(potentialTerm[ : -1], stepTerm[1 : -1])"
   ]
  },
  {
   "cell_type": "code",
   "execution_count": null,
   "id": "34f63c6c-0c6a-49be-928e-7f11bee3477c",
   "metadata": {},
   "outputs": [],
   "source": []
  },
  {
   "cell_type": "code",
   "execution_count": 15,
   "id": "209ef5db-2ed8-435f-96df-f0647a9b7df5",
   "metadata": {},
   "outputs": [],
   "source": [
    "reducedPlanckConstant : float = defaultReducedPlancksConstant"
   ]
  },
  {
   "cell_type": "code",
   "execution_count": 16,
   "id": "961471bc-7bfd-45f0-8fa8-f0e9fa3a37d5",
   "metadata": {},
   "outputs": [],
   "source": [
    "length : float = defaultLength"
   ]
  },
  {
   "cell_type": "code",
   "execution_count": 17,
   "id": "daefdb28-2f08-4902-9983-050cf05267ff",
   "metadata": {},
   "outputs": [],
   "source": [
    "positionStep : float = defaultUnormalizedPositionStep"
   ]
  },
  {
   "cell_type": "code",
   "execution_count": 18,
   "id": "d15d1f7e-54ca-4fae-9811-ebaf343ce359",
   "metadata": {},
   "outputs": [],
   "source": [
    "mass : float = defaultMass"
   ]
  },
  {
   "cell_type": "code",
   "execution_count": 19,
   "id": "45b30644-6266-46c5-afae-b034a667de2e",
   "metadata": {},
   "outputs": [],
   "source": [
    "normalizedPositions : np.array = np.arange(0, length, positionStep) / length"
   ]
  },
  {
   "cell_type": "code",
   "execution_count": 20,
   "id": "368b1fc2-7f3a-4675-bb1b-aca82bd9461b",
   "metadata": {},
   "outputs": [],
   "source": [
    "normalizedPositionStep = 1.0 / len(normalizedPositions)"
   ]
  },
  {
   "cell_type": "code",
   "execution_count": 25,
   "id": "1ed28a83-38ad-49f9-b28b-3a104f06beaf",
   "metadata": {},
   "outputs": [],
   "source": [
    "scalar : float = defaultScalingFactor"
   ]
  },
  {
   "cell_type": "code",
   "execution_count": 21,
   "id": "dbe43fe8-bb45-481d-8d76-c8fc6e958546",
   "metadata": {},
   "outputs": [],
   "source": [
    "pointCount = len(normalizedPositions + 1)"
   ]
  },
  {
   "cell_type": "code",
   "execution_count": 26,
   "id": "cb8f36fc-8772-472e-af94-f5e857d193f0",
   "metadata": {},
   "outputs": [],
   "source": [
    "potential = unormalizedPotentialTerm(\n",
    "        lambda normalizedPosition : normalizedPosition ** 2, \n",
    "        normalizedPositions, \n",
    "        length, \n",
    "        mass, \n",
    "        scalar\n",
    "    )"
   ]
  },
  {
   "cell_type": "code",
   "execution_count": 27,
   "id": "7d99b1c4-a071-4a49-93c9-9c2bac1002b2",
   "metadata": {},
   "outputs": [],
   "source": [
    "eigenValues, eigenFunctions = makeEigenFunctions(potential, normalizedPositionStep)"
   ]
  },
  {
   "cell_type": "code",
   "execution_count": 38,
   "id": "f864ba28-756e-4c3c-b784-e4f743d6c328",
   "metadata": {},
   "outputs": [
    {
     "data": {
      "text/plain": [
       "[<matplotlib.lines.Line2D at 0x7f954cdc4910>]"
      ]
     },
     "execution_count": 38,
     "metadata": {},
     "output_type": "execute_result"
    },
    {
     "data": {
      "image/png": "[encoded data removed]",
      "text/plain": [
       "<Figure size 432x288 with 1 Axes>"
      ]
     },
     "metadata": {
      "needs_background": "light"
     },
     "output_type": "display_data"
    }
   ],
   "source": [
    "for eigenFunction in eigenFunctions.T:\n",
    "     plt.plot(normalizedPositions[1:], eigenFunction)\n",
    "plt.plot(normalizedPositions, potential / scalar / 10)"
   ]
  },
  {
   "cell_type": "code",
   "execution_count": 36,
   "id": "16455476-0d75-4ec1-95c0-68ec5c93ed9e",
   "metadata": {},
   "outputs": [
    {
     "data": {
      "text/plain": [
       "[<matplotlib.lines.Line2D at 0x7f954e1b92a0>]"
      ]
     },
     "execution_count": 36,
     "metadata": {},
     "output_type": "execute_result"
    },
    {
     "data": {
      "image/png": "[encoded data removed]",
      "text/plain": [
       "<Figure size 432x288 with 1 Axes>"
      ]
     },
     "metadata": {
      "needs_background": "light"
     },
     "output_type": "display_data"
    }
   ],
   "source": [
    "plt.plot(normalizedPositions[1:], eigenFunctions.T[0])\n",
    "plt.plot(normalizedPositions, potential / scalar / 10)"
   ]
  },
  {
   "cell_type": "code",
   "execution_count": 35,
   "id": "6412f15f-2290-46ef-8ee0-b6ef0bc4a8b5",
   "metadata": {},
   "outputs": [
    {
     "data": {
      "text/plain": [
       "[<matplotlib.lines.Line2D at 0x7f954dcc56f0>]"
      ]
     },
     "execution_count": 35,
     "metadata": {},
     "output_type": "execute_result"
    },
    {
     "data": {
      "image/png": "[encoded data removed]",
      "text/plain": [
       "<Figure size 432x288 with 1 Axes>"
      ]
     },
     "metadata": {
      "needs_background": "light"
     },
     "output_type": "display_data"
    }
   ],
   "source": [
    "plt.plot(normalizedPositions, potential / scalar / 100)\n",
    "plt.plot(normalizedPositions[1:], eigenFunctions.T[0] ** 2)"
   ]
  },
  {
   "cell_type": "code",
   "execution_count": null,
   "id": "c4c5e500-ac5e-42fb-9ab0-36fb669481e8",
   "metadata": {},
   "outputs": [],
   "source": []
  }
 ],
 "metadata": {
  "kernelspec": {
   "display_name": "Python 3 (ipykernel)",
   "language": "python",
   "name": "python3"
  },
  "language_info": {
   "codemirror_mode": {
    "name": "ipython",
    "version": 3
   },
   "file_extension": ".py",
   "mimetype": "text/x-python",
   "name": "python",
   "nbconvert_exporter": "python",
   "pygments_lexer": "ipython3",
   "version": "3.10.5"
  }
 },
 "nbformat": 4,
 "nbformat_minor": 5
}
