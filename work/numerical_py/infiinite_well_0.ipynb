{
 "cells": [
  {
   "cell_type": "code",
   "execution_count": 1,
   "id": "482a4a4b-5858-4754-b807-190c2d1865ea",
   "metadata": {},
   "outputs": [],
   "source": [
    "import numpy as np"
   ]
  },
  {
   "cell_type": "code",
   "execution_count": 2,
   "id": "8c7d00e7-cb17-4a50-a9a3-e178ba98500f",
   "metadata": {},
   "outputs": [],
   "source": [
    "from matplotlib import pyplot as plt"
   ]
  },
  {
   "cell_type": "code",
   "execution_count": null,
   "id": "10a1c3a0-ac4b-4b49-b34d-7f8ba9cd386e",
   "metadata": {},
   "outputs": [],
   "source": []
  },
  {
   "cell_type": "code",
   "execution_count": 3,
   "id": "f24cd55d-093c-49b6-86b1-373e3ad482f9",
   "metadata": {},
   "outputs": [],
   "source": [
    "samples = 1000"
   ]
  },
  {
   "cell_type": "code",
   "execution_count": null,
   "id": "3504bb51-0648-4b45-845a-2d10af971798",
   "metadata": {},
   "outputs": [],
   "source": []
  },
  {
   "cell_type": "code",
   "execution_count": 4,
   "id": "afec43b9-b216-418b-953a-ba31788c2841",
   "metadata": {},
   "outputs": [],
   "source": [
    "x = np.arange( samples )"
   ]
  },
  {
   "cell_type": "code",
   "execution_count": 5,
   "id": "0b289e34-98d0-4669-a4aa-0af7323f0b1b",
   "metadata": {},
   "outputs": [],
   "source": [
    "def make_k( potential, total_energy, mass, hbar ):\n",
    "    return 2.0 * mass * ( total_energy - potential ) / hbar"
   ]
  },
  {
   "cell_type": "code",
   "execution_count": null,
   "id": "3a88c08f-4fb1-4c69-bbca-fbf3201b2f42",
   "metadata": {},
   "outputs": [],
   "source": []
  },
  {
   "cell_type": "code",
   "execution_count": 6,
   "id": "4a2ab9e6-c59f-4040-98b7-f2473f154a6c",
   "metadata": {},
   "outputs": [],
   "source": [
    "k = make_k( 0.0, 1.0, 1.0, 1.0 )"
   ]
  },
  {
   "cell_type": "code",
   "execution_count": null,
   "id": "8caea247-9674-4303-960e-ec032196388e",
   "metadata": {},
   "outputs": [],
   "source": []
  },
  {
   "cell_type": "code",
   "execution_count": 7,
   "id": "a0af8a7d-5283-4497-8eab-217f95571cf0",
   "metadata": {},
   "outputs": [],
   "source": [
    "delta_x = 0.01"
   ]
  },
  {
   "cell_type": "code",
   "execution_count": null,
   "id": "2383c62e-6e2f-4723-8d00-44107ebb5949",
   "metadata": {},
   "outputs": [],
   "source": []
  },
  {
   "cell_type": "code",
   "execution_count": 8,
   "id": "489f12a0-365e-47af-84cf-f3e8cc7f429c",
   "metadata": {},
   "outputs": [],
   "source": [
    "DEFAULT_NUMBER_OF_SAMPLES = 100"
   ]
  },
  {
   "cell_type": "code",
   "execution_count": null,
   "id": "c382c5ad-172e-4de0-9e74-0bf3ac2d3d04",
   "metadata": {},
   "outputs": [],
   "source": []
  },
  {
   "cell_type": "code",
   "execution_count": 59,
   "id": "a01f0a72-0cce-4e1e-8d47-a91b11ee5cb1",
   "metadata": {},
   "outputs": [],
   "source": [
    "def psi_at( psi_initial, x, k, samples = DEFAULT_NUMBER_OF_SAMPLES ): \n",
    "    delta_x = 1.0 / samples\n",
    "    psi = psi_initial\n",
    "    rang = np.arange( 0, x, delta_x )\n",
    "    print( \"psi at: \", len( rang ) )\n",
    "    for ii in rang: \n",
    "        psi += psi + ( psi * -k * delta_x )\n",
    "    return psi"
   ]
  },
  {
   "cell_type": "code",
   "execution_count": null,
   "id": "1ac0620a-db07-47c9-b68b-1e836d37c987",
   "metadata": {},
   "outputs": [],
   "source": []
  },
  {
   "cell_type": "code",
   "execution_count": 60,
   "id": "8451f460-4420-4251-b537-95ef235fbed1",
   "metadata": {},
   "outputs": [],
   "source": [
    "def simulate( psi_initial, k, samples = DEFAULT_NUMBER_OF_SAMPLES ):\n",
    "    delta_x = 1.0 / samples\n",
    "    return [ psi_at( psi_initial, x, k, samples ) for x in np.arange( 0, samples * delta_x, delta_x ) ]"
   ]
  },
  {
   "cell_type": "code",
   "execution_count": null,
   "id": "a96e8c4b-8f64-49c1-9a7a-6428498bf7d8",
   "metadata": {},
   "outputs": [],
   "source": []
  },
  {
   "cell_type": "code",
   "execution_count": 61,
   "id": "d90d38c5-5afa-40c8-a548-1b301902a812",
   "metadata": {},
   "outputs": [],
   "source": [
    "delta = lambda samples : 1.0 / samples"
   ]
  },
  {
   "cell_type": "code",
   "execution_count": 62,
   "id": "d069c277-d2f7-47de-8875-76a689849ec4",
   "metadata": {},
   "outputs": [],
   "source": [
    "delta_x = delta( DEFAULT_NUMBER_OF_SAMPLES )"
   ]
  },
  {
   "cell_type": "code",
   "execution_count": null,
   "id": "caf4d7b0-89cd-4d14-a757-309fad9fb025",
   "metadata": {},
   "outputs": [],
   "source": []
  },
  {
   "cell_type": "code",
   "execution_count": null,
   "id": "887ba181-b197-49d6-966e-7d3dd2e57f2a",
   "metadata": {},
   "outputs": [],
   "source": []
  },
  {
   "cell_type": "code",
   "execution_count": 63,
   "id": "b8c888a5-1ea5-4fec-bdb2-99f0c5c965e2",
   "metadata": {},
   "outputs": [
    {
     "name": "stdout",
     "output_type": "stream",
     "text": [
      "psi at:  0\n",
      "psi at:  1\n",
      "psi at:  2\n",
      "psi at:  3\n",
      "psi at:  4\n",
      "psi at:  5\n",
      "psi at:  6\n",
      "psi at:  8\n",
      "psi at:  8\n",
      "psi at:  9\n",
      "psi at:  10\n",
      "psi at:  11\n",
      "psi at:  12\n",
      "psi at:  13\n",
      "psi at:  15\n",
      "psi at:  15\n",
      "psi at:  16\n",
      "psi at:  17\n",
      "psi at:  18\n",
      "psi at:  19\n",
      "psi at:  20\n",
      "psi at:  21\n",
      "psi at:  22\n",
      "psi at:  23\n",
      "psi at:  24\n",
      "psi at:  25\n",
      "psi at:  26\n",
      "psi at:  27\n",
      "psi at:  29\n",
      "psi at:  29\n",
      "psi at:  30\n",
      "psi at:  31\n",
      "psi at:  32\n",
      "psi at:  33\n",
      "psi at:  34\n",
      "psi at:  35\n",
      "psi at:  36\n",
      "psi at:  37\n",
      "psi at:  38\n",
      "psi at:  39\n",
      "psi at:  40\n",
      "psi at:  41\n",
      "psi at:  42\n",
      "psi at:  43\n",
      "psi at:  44\n",
      "psi at:  45\n",
      "psi at:  46\n",
      "psi at:  47\n",
      "psi at:  48\n",
      "psi at:  49\n",
      "psi at:  50\n",
      "psi at:  51\n",
      "psi at:  52\n",
      "psi at:  53\n",
      "psi at:  54\n",
      "psi at:  55\n",
      "psi at:  57\n",
      "psi at:  58\n",
      "psi at:  58\n",
      "psi at:  59\n",
      "psi at:  60\n",
      "psi at:  61\n",
      "psi at:  62\n",
      "psi at:  63\n",
      "psi at:  64\n",
      "psi at:  65\n",
      "psi at:  66\n",
      "psi at:  67\n",
      "psi at:  68\n",
      "psi at:  69\n",
      "psi at:  70\n",
      "psi at:  71\n",
      "psi at:  72\n",
      "psi at:  73\n",
      "psi at:  74\n",
      "psi at:  75\n",
      "psi at:  76\n",
      "psi at:  77\n",
      "psi at:  78\n",
      "psi at:  79\n",
      "psi at:  80\n",
      "psi at:  81\n",
      "psi at:  82\n",
      "psi at:  83\n",
      "psi at:  84\n",
      "psi at:  85\n",
      "psi at:  86\n",
      "psi at:  87\n",
      "psi at:  88\n",
      "psi at:  89\n",
      "psi at:  90\n",
      "psi at:  91\n",
      "psi at:  92\n",
      "psi at:  93\n",
      "psi at:  94\n",
      "psi at:  95\n",
      "psi at:  96\n",
      "psi at:  97\n",
      "psi at:  98\n",
      "psi at:  99\n"
     ]
    }
   ],
   "source": [
    "psi = simulate( delta_x, 1.0 )"
   ]
  },
  {
   "cell_type": "code",
   "execution_count": 64,
   "id": "d5c64646-1d40-49a7-9aac-29938f30d5c5",
   "metadata": {},
   "outputs": [
    {
     "data": {
      "text/plain": [
       "[<matplotlib.lines.Line2D at 0x7f851a047340>]"
      ]
     },
     "execution_count": 64,
     "metadata": {},
     "output_type": "execute_result"
    },
    {
     "data": {
      "image/png": "[encoded data removed]",
      "text/plain": [
       "<Figure size 432x288 with 1 Axes>"
      ]
     },
     "metadata": {
      "needs_background": "light"
     },
     "output_type": "display_data"
    }
   ],
   "source": [
    "#plt.plot( np.arange( 0, DEFAULT_NUMBER_OF_SAMPLES, delta_x ) * delta_x, psi )\n",
    "plt.plot( psi )"
   ]
  },
  {
   "cell_type": "code",
   "execution_count": null,
   "id": "2f4f584e-468f-49b0-9cca-b88020fa132b",
   "metadata": {},
   "outputs": [],
   "source": []
  },
  {
   "cell_type": "code",
   "execution_count": null,
   "id": "63ccab85-1869-4f81-868b-238f906de51b",
   "metadata": {},
   "outputs": [],
   "source": []
  },
  {
   "cell_type": "code",
   "execution_count": null,
   "id": "4dd6fae8-65e5-468d-b039-c6243e975fd1",
   "metadata": {},
   "outputs": [],
   "source": []
  }
 ],
 "metadata": {
  "kernelspec": {
   "display_name": "Python 3 (ipykernel)",
   "language": "python",
   "name": "python3"
  },
  "language_info": {
   "codemirror_mode": {
    "name": "ipython",
    "version": 3
   },
   "file_extension": ".py",
   "mimetype": "text/x-python",
   "name": "python",
   "nbconvert_exporter": "python",
   "pygments_lexer": "ipython3",
   "version": "3.9.10"
  }
 },
 "nbformat": 4,
 "nbformat_minor": 5
}
