{
 "cells": [
  {
   "cell_type": "code",
   "execution_count": 1,
   "id": "8c69371e-3b59-4f37-a0c0-390f1f253d4f",
   "metadata": {},
   "outputs": [],
   "source": [
    "from new_attempt.stateless import *"
   ]
  },
  {
   "cell_type": "code",
   "execution_count": 2,
   "id": "48b8b2f9-72d7-4b08-be7c-779405f9e25b",
   "metadata": {},
   "outputs": [],
   "source": [
    "preliminaryData = createPreliminaryData(3)"
   ]
  },
  {
   "cell_type": "code",
   "execution_count": 3,
   "id": "175bde70-2ee7-4ceb-8461-7d46afcaf3db",
   "metadata": {
    "tags": []
   },
   "outputs": [
    {
     "data": {
      "text/plain": [
       "{'transmissionReflectionGenerator': <function new_attempt.stateless.makeCoefficentsFromHarmonicConstants(from_: new_attempt.stateless.RegionSymbols, to: new_attempt.stateless.RegionSymbols) -> dict>,\n",
       " 'regionSymbols': [<new_attempt.stateless.RegionSymbols at 0x7f5a3cd83640>,\n",
       "  <new_attempt.stateless.RegionSymbols at 0x7f598e555360>,\n",
       "  <new_attempt.stateless.RegionSymbols at 0x7f598e5557b0>,\n",
       "  <new_attempt.stateless.RegionSymbols at 0x7f598e555c00>,\n",
       "  <new_attempt.stateless.RegionSymbols at 0x7f598e556050>],\n",
       " 'waveEquations': [Eq(V_0*psi_0(x) - hbarX**2*Derivative(psi_0(x), (x, 2))/(2*m), E_{total}*psi_0(x)),\n",
       "  Eq(V_1*psi_1(x) - hbarX**2*Derivative(psi_1(x), (x, 2))/(2*m), E_{total}*psi_1(x)),\n",
       "  Eq(V_2*psi_2(x) - hbarX**2*Derivative(psi_2(x), (x, 2))/(2*m), E_{total}*psi_2(x))],\n",
       " 'normalizations': [Eq(Integral(psi_0(x)*conjugate(psi_0(x)), (x, L_-1, L_0)), N_0),\n",
       "  Eq(Integral(psi_1(x)*conjugate(psi_1(x)), (x, L_0, L_1)), N_1),\n",
       "  Eq(Integral(psi_2(x)*conjugate(psi_2(x)), (x, L_1, L_2)), N_2)],\n",
       " 'generalSolutions': [{'boundries': {psi_0(L_-1): B_0, psi_0(L_0): B_1},\n",
       "   'harmonicConstantEquation': Eq(k_0, sqrt(2)*sqrt(m)*sqrt(-E_{total} + V_0)/hbarX),\n",
       "   'generalSolution': Eq(psi_0(x), (B_0*exp(L_-1*k_0)/(exp(2*L_-1*k_0) - exp(2*L_0*k_0)) - B_1*exp(L_0*k_0)/(exp(2*L_-1*k_0) - exp(2*L_0*k_0)))*exp(k_0*x) + (-B_0*exp(L_-1*k_0)*exp(2*L_0*k_0)/(exp(2*L_-1*k_0) - exp(2*L_0*k_0)) + B_1*exp(2*L_-1*k_0)*exp(L_0*k_0)/(exp(2*L_-1*k_0) - exp(2*L_0*k_0)))*exp(-k_0*x))},\n",
       "  {'boundries': {psi_1(L_0): B_1, psi_1(L_1): B_2},\n",
       "   'harmonicConstantEquation': Eq(k_1, sqrt(2)*sqrt(m)*sqrt(-E_{total} + V_1)/hbarX),\n",
       "   'generalSolution': Eq(psi_1(x), (B_1*exp(L_0*k_1)/(exp(2*L_0*k_1) - exp(2*L_1*k_1)) - B_2*exp(L_1*k_1)/(exp(2*L_0*k_1) - exp(2*L_1*k_1)))*exp(k_1*x) + (-B_1*exp(L_0*k_1)*exp(2*L_1*k_1)/(exp(2*L_0*k_1) - exp(2*L_1*k_1)) + B_2*exp(2*L_0*k_1)*exp(L_1*k_1)/(exp(2*L_0*k_1) - exp(2*L_1*k_1)))*exp(-k_1*x))},\n",
       "  {'boundries': {psi_2(L_1): B_2, psi_2(L_2): B_3},\n",
       "   'harmonicConstantEquation': Eq(k_2, sqrt(2)*sqrt(m)*sqrt(-E_{total} + V_2)/hbarX),\n",
       "   'generalSolution': Eq(psi_2(x), (B_2*exp(L_1*k_2)/(exp(2*L_1*k_2) - exp(2*L_2*k_2)) - B_3*exp(L_2*k_2)/(exp(2*L_1*k_2) - exp(2*L_2*k_2)))*exp(k_2*x) + (-B_2*exp(L_1*k_2)*exp(2*L_2*k_2)/(exp(2*L_1*k_2) - exp(2*L_2*k_2)) + B_3*exp(2*L_1*k_2)*exp(L_2*k_2)/(exp(2*L_1*k_2) - exp(2*L_2*k_2)))*exp(-k_2*x))}]}"
      ]
     },
     "execution_count": 3,
     "metadata": {},
     "output_type": "execute_result"
    }
   ],
   "source": [
    "preliminaryData"
   ]
  },
  {
   "cell_type": "code",
   "execution_count": 4,
   "id": "daeb7e62-70cb-450b-9777-3748320f79a5",
   "metadata": {},
   "outputs": [],
   "source": [
    "regionFunctions = generateRegionFunctions(preliminaryData)"
   ]
  },
  {
   "cell_type": "code",
   "execution_count": 5,
   "id": "3d02b0fc-1361-4959-9ae6-ebbe13fa4a83",
   "metadata": {},
   "outputs": [],
   "source": [
    "#regionFunctions"
   ]
  },
  {
   "cell_type": "code",
   "execution_count": null,
   "id": "62356c64-6b91-42ef-9f6d-44f105f3ca03",
   "metadata": {},
   "outputs": [],
   "source": []
  },
  {
   "cell_type": "code",
   "execution_count": 6,
   "id": "fa3504c7-eaf6-4d51-b8fe-6db2829e1005",
   "metadata": {},
   "outputs": [],
   "source": [
    "testBasicParameters = {\n",
    "    \"V_0\" : 1, \n",
    "    \"V_1\" : 1, \n",
    "    \"V_2\" : 1, \n",
    "    \"L_0\" : 1, \n",
    "    \"L_1\" : 1, \n",
    "    \"L_2\" : 2, \n",
    "    \"N_0\" : .1, \n",
    "    \"N_1\" : .2, \n",
    "    \"N_2\" : .7, \n",
    "    \"m\" : 1, \n",
    "    \"E_OCBtotalCCB\" : .5, \n",
    "    \"E_total\" : .5, \n",
    "    \"hbarX\" : 1, \n",
    "    \"k_3\" : 1 ###### FOR TESTING ONLY\n",
    "}"
   ]
  },
  {
   "cell_type": "code",
   "execution_count": null,
   "id": "3a7b6f15-570e-4577-a04d-7144f113fc5b",
   "metadata": {},
   "outputs": [],
   "source": []
  },
  {
   "cell_type": "code",
   "execution_count": null,
   "id": "00ae89c4-b57f-4192-9023-54266004f98d",
   "metadata": {},
   "outputs": [],
   "source": []
  },
  {
   "cell_type": "code",
   "execution_count": null,
   "id": "90905704-0dc0-415b-a45c-139b534098d7",
   "metadata": {},
   "outputs": [],
   "source": []
  },
  {
   "cell_type": "code",
   "execution_count": 7,
   "id": "ded0d542-3707-420e-bac7-40e716db3852",
   "metadata": {},
   "outputs": [
    {
     "data": {
      "text/plain": [
       "{'V_0': 1,\n",
       " 'V_1': 1,\n",
       " 'V_2': 1,\n",
       " 'L_0': 1,\n",
       " 'L_1': 1,\n",
       " 'L_2': 2,\n",
       " 'N_0': 0.1,\n",
       " 'N_1': 0.2,\n",
       " 'N_2': 0.7,\n",
       " 'm': 1,\n",
       " 'E_OCBtotalCCB': 0.5,\n",
       " 'E_total': 0.5,\n",
       " 'hbarX': 1,\n",
       " 'k_3': 1}"
      ]
     },
     "metadata": {},
     "output_type": "display_data"
    },
    {
     "data": {
      "text/plain": [
       "{'k_0': 1.0000000000000002,\n",
       " 'k_1': 1.0000000000000002,\n",
       " 'k_2': 1.0000000000000002}"
      ]
     },
     "metadata": {},
     "output_type": "display_data"
    },
    {
     "data": {
      "text/plain": [
       "{'V_0': 1,\n",
       " 'V_1': 1,\n",
       " 'V_2': 1,\n",
       " 'L_0': 1,\n",
       " 'L_1': 1,\n",
       " 'L_2': 2,\n",
       " 'N_0': 0.1,\n",
       " 'N_1': 0.2,\n",
       " 'N_2': 0.7,\n",
       " 'm': 1,\n",
       " 'E_OCBtotalCCB': 0.5,\n",
       " 'E_total': 0.5,\n",
       " 'hbarX': 1,\n",
       " 'k_3': 1,\n",
       " 'k_0': 1.0000000000000002,\n",
       " 'k_1': 1.0000000000000002,\n",
       " 'k_2': 1.0000000000000002}"
      ]
     },
     "metadata": {},
     "output_type": "display_data"
    },
    {
     "name": "stdout",
     "output_type": "stream",
     "text": [
      "I AM A GIRAFFE!!!\n",
      "AAAAAAAAAAAAAAAAAAAAAAAAAAAAAAAAAAAAAAAAAAAAAAAAAAAAAAA\n"
     ]
    },
    {
     "data": {
      "text/plain": [
       "{'transfers': [{'from': {'region': <new_attempt.stateless.RegionSymbols at 0x7f598e5557b0>,\n",
       "    'matrix': Matrix([\n",
       "    [psi_0_t(L_-1)],\n",
       "    [psi_0_r(L_-1)]])},\n",
       "   'to': {'region': <new_attempt.stateless.RegionSymbols at 0x7f598e555360>,\n",
       "    'matrix': Matrix([\n",
       "    [psi_1_t(L_0)],\n",
       "    [psi_1_r(L_0)]])},\n",
       "   'matricies': {'inputs': ['T_1_0',\n",
       "     'R_1_0',\n",
       "     'psi_1_tOPL_0CP',\n",
       "     'psi_1_rOPL_0CP'],\n",
       "    'scatteringMatrix': Matrix([\n",
       "    [sqrt(conjugate(R_1_0)), sqrt(T_1_0)],\n",
       "    [sqrt(conjugate(T_1_0)), sqrt(R_1_0)]]),\n",
       "    'transferMatrix': Matrix([\n",
       "    [-sqrt(R_1_0)*sqrt(conjugate(R_1_0))/sqrt(conjugate(T_1_0)) + sqrt(T_1_0), sqrt(R_1_0)/sqrt(conjugate(T_1_0))],\n",
       "    [                          -sqrt(conjugate(R_1_0))/sqrt(conjugate(T_1_0)),           1/sqrt(conjugate(T_1_0))]]),\n",
       "    'outputs': ['psi_0_tOPL_N1CP', 'psi_0_rOPL_N1CP']},\n",
       "   'transfer': Eq(Matrix([\n",
       "   [psi_0_t(L_-1)],\n",
       "   [psi_0_r(L_-1)]]), Matrix([\n",
       "   [sqrt(R_1_0)*psi_1_r(L_0)/sqrt(conjugate(T_1_0)) + (-sqrt(R_1_0)*sqrt(conjugate(R_1_0))/sqrt(conjugate(T_1_0)) + sqrt(T_1_0))*psi_1_t(L_0)],\n",
       "   [                                         psi_1_r(L_0)/sqrt(conjugate(T_1_0)) - psi_1_t(L_0)*sqrt(conjugate(R_1_0))/sqrt(conjugate(T_1_0))]])),\n",
       "   'functionData': {'paramters': ['T_1_0',\n",
       "     'R_1_0',\n",
       "     'psi_1_tOPL_0CP',\n",
       "     'psi_1_rOPL_0CP'],\n",
       "    'functions': {'psi_0_tOPL_N1CPFunction': <function _lambdifygenerated(T_1_0, R_1_0, psi_1_tOPL_0CP, psi_1_rOPL_0CP)>,\n",
       "     'psi_0_rOPL_N1CPFunction': <function _lambdifygenerated(T_1_0, R_1_0, psi_1_tOPL_0CP, psi_1_rOPL_0CP)>}}},\n",
       "  {'from': {'region': <new_attempt.stateless.RegionSymbols at 0x7f598e555c00>,\n",
       "    'matrix': Matrix([\n",
       "    [psi_1_t(L_0)],\n",
       "    [psi_1_r(L_0)]])},\n",
       "   'to': {'region': <new_attempt.stateless.RegionSymbols at 0x7f598e5557b0>,\n",
       "    'matrix': Matrix([\n",
       "    [psi_2_t(L_1)],\n",
       "    [psi_2_r(L_1)]])},\n",
       "   'matricies': {'inputs': ['T_2_1',\n",
       "     'R_2_1',\n",
       "     'psi_2_tOPL_1CP',\n",
       "     'psi_2_rOPL_1CP'],\n",
       "    'scatteringMatrix': Matrix([\n",
       "    [sqrt(conjugate(R_2_1)), sqrt(T_2_1)],\n",
       "    [sqrt(conjugate(T_2_1)), sqrt(R_2_1)]]),\n",
       "    'transferMatrix': Matrix([\n",
       "    [-sqrt(R_2_1)*sqrt(conjugate(R_2_1))/sqrt(conjugate(T_2_1)) + sqrt(T_2_1), sqrt(R_2_1)/sqrt(conjugate(T_2_1))],\n",
       "    [                          -sqrt(conjugate(R_2_1))/sqrt(conjugate(T_2_1)),           1/sqrt(conjugate(T_2_1))]]),\n",
       "    'outputs': ['psi_1_tOPL_0CP', 'psi_1_rOPL_0CP']},\n",
       "   'transfer': Eq(Matrix([\n",
       "   [psi_1_t(L_0)],\n",
       "   [psi_1_r(L_0)]]), Matrix([\n",
       "   [sqrt(R_2_1)*psi_2_r(L_1)/sqrt(conjugate(T_2_1)) + (-sqrt(R_2_1)*sqrt(conjugate(R_2_1))/sqrt(conjugate(T_2_1)) + sqrt(T_2_1))*psi_2_t(L_1)],\n",
       "   [                                         psi_2_r(L_1)/sqrt(conjugate(T_2_1)) - psi_2_t(L_1)*sqrt(conjugate(R_2_1))/sqrt(conjugate(T_2_1))]])),\n",
       "   'functionData': {'paramters': ['T_2_1',\n",
       "     'R_2_1',\n",
       "     'psi_2_tOPL_1CP',\n",
       "     'psi_2_rOPL_1CP'],\n",
       "    'functions': {'psi_1_tOPL_0CPFunction': <function _lambdifygenerated(T_2_1, R_2_1, psi_2_tOPL_1CP, psi_2_rOPL_1CP)>,\n",
       "     'psi_1_rOPL_0CPFunction': <function _lambdifygenerated(T_2_1, R_2_1, psi_2_tOPL_1CP, psi_2_rOPL_1CP)>}}},\n",
       "  {'from': {'region': <new_attempt.stateless.RegionSymbols at 0x7f598e556050>,\n",
       "    'matrix': Matrix([\n",
       "    [psi_2_t(L_1)],\n",
       "    [psi_2_r(L_1)]])},\n",
       "   'to': {'region': <new_attempt.stateless.RegionSymbols at 0x7f598e555c00>,\n",
       "    'matrix': Matrix([\n",
       "    [psi_3_t(L_2)],\n",
       "    [psi_3_r(L_2)]])},\n",
       "   'matricies': {'inputs': ['T_3_2',\n",
       "     'R_3_2',\n",
       "     'psi_3_tOPL_2CP',\n",
       "     'psi_3_rOPL_2CP'],\n",
       "    'scatteringMatrix': Matrix([\n",
       "    [sqrt(conjugate(R_3_2)), sqrt(T_3_2)],\n",
       "    [sqrt(conjugate(T_3_2)), sqrt(R_3_2)]]),\n",
       "    'transferMatrix': Matrix([\n",
       "    [-sqrt(R_3_2)*sqrt(conjugate(R_3_2))/sqrt(conjugate(T_3_2)) + sqrt(T_3_2), sqrt(R_3_2)/sqrt(conjugate(T_3_2))],\n",
       "    [                          -sqrt(conjugate(R_3_2))/sqrt(conjugate(T_3_2)),           1/sqrt(conjugate(T_3_2))]]),\n",
       "    'outputs': ['psi_2_tOPL_1CP', 'psi_2_rOPL_1CP']},\n",
       "   'transfer': Eq(Matrix([\n",
       "   [psi_2_t(L_1)],\n",
       "   [psi_2_r(L_1)]]), Matrix([\n",
       "   [sqrt(R_3_2)*psi_3_r(L_2)/sqrt(conjugate(T_3_2)) + (-sqrt(R_3_2)*sqrt(conjugate(R_3_2))/sqrt(conjugate(T_3_2)) + sqrt(T_3_2))*psi_3_t(L_2)],\n",
       "   [                                         psi_3_r(L_2)/sqrt(conjugate(T_3_2)) - psi_3_t(L_2)*sqrt(conjugate(R_3_2))/sqrt(conjugate(T_3_2))]])),\n",
       "   'functionData': {'paramters': ['T_3_2',\n",
       "     'R_3_2',\n",
       "     'psi_3_tOPL_2CP',\n",
       "     'psi_3_rOPL_2CP'],\n",
       "    'functions': {'psi_2_tOPL_1CPFunction': <function _lambdifygenerated(T_3_2, R_3_2, psi_3_tOPL_2CP, psi_3_rOPL_2CP)>,\n",
       "     'psi_2_rOPL_1CPFunction': <function _lambdifygenerated(T_3_2, R_3_2, psi_3_tOPL_2CP, psi_3_rOPL_2CP)>}}}],\n",
       " 'transferFunctions': [{'from': {'region': <new_attempt.stateless.RegionSymbols at 0x7f598e5557b0>,\n",
       "    'matrix': Matrix([\n",
       "    [psi_0_t(L_-1)],\n",
       "    [psi_0_r(L_-1)]])},\n",
       "   'to': {'region': <new_attempt.stateless.RegionSymbols at 0x7f598e555360>,\n",
       "    'matrix': Matrix([\n",
       "    [psi_1_t(L_0)],\n",
       "    [psi_1_r(L_0)]])},\n",
       "   'matricies': {'inputs': ['T_1_0',\n",
       "     'R_1_0',\n",
       "     'psi_1_tOPL_0CP',\n",
       "     'psi_1_rOPL_0CP'],\n",
       "    'scatteringMatrix': Matrix([\n",
       "    [sqrt(conjugate(R_1_0)), sqrt(T_1_0)],\n",
       "    [sqrt(conjugate(T_1_0)), sqrt(R_1_0)]]),\n",
       "    'transferMatrix': Matrix([\n",
       "    [-sqrt(R_1_0)*sqrt(conjugate(R_1_0))/sqrt(conjugate(T_1_0)) + sqrt(T_1_0), sqrt(R_1_0)/sqrt(conjugate(T_1_0))],\n",
       "    [                          -sqrt(conjugate(R_1_0))/sqrt(conjugate(T_1_0)),           1/sqrt(conjugate(T_1_0))]]),\n",
       "    'outputs': ['psi_0_tOPL_N1CP', 'psi_0_rOPL_N1CP']},\n",
       "   'transfer': Eq(Matrix([\n",
       "   [psi_0_t(L_-1)],\n",
       "   [psi_0_r(L_-1)]]), Matrix([\n",
       "   [sqrt(R_1_0)*psi_1_r(L_0)/sqrt(conjugate(T_1_0)) + (-sqrt(R_1_0)*sqrt(conjugate(R_1_0))/sqrt(conjugate(T_1_0)) + sqrt(T_1_0))*psi_1_t(L_0)],\n",
       "   [                                         psi_1_r(L_0)/sqrt(conjugate(T_1_0)) - psi_1_t(L_0)*sqrt(conjugate(R_1_0))/sqrt(conjugate(T_1_0))]])),\n",
       "   'functionData': {'paramters': ['T_1_0',\n",
       "     'R_1_0',\n",
       "     'psi_1_tOPL_0CP',\n",
       "     'psi_1_rOPL_0CP'],\n",
       "    'functions': {'psi_0_tOPL_N1CPFunction': <function _lambdifygenerated(T_1_0, R_1_0, psi_1_tOPL_0CP, psi_1_rOPL_0CP)>,\n",
       "     'psi_0_rOPL_N1CPFunction': <function _lambdifygenerated(T_1_0, R_1_0, psi_1_tOPL_0CP, psi_1_rOPL_0CP)>}}},\n",
       "  {'from': {'region': <new_attempt.stateless.RegionSymbols at 0x7f598e555c00>,\n",
       "    'matrix': Matrix([\n",
       "    [psi_1_t(L_0)],\n",
       "    [psi_1_r(L_0)]])},\n",
       "   'to': {'region': <new_attempt.stateless.RegionSymbols at 0x7f598e5557b0>,\n",
       "    'matrix': Matrix([\n",
       "    [psi_2_t(L_1)],\n",
       "    [psi_2_r(L_1)]])},\n",
       "   'matricies': {'inputs': ['T_2_1',\n",
       "     'R_2_1',\n",
       "     'psi_2_tOPL_1CP',\n",
       "     'psi_2_rOPL_1CP'],\n",
       "    'scatteringMatrix': Matrix([\n",
       "    [sqrt(conjugate(R_2_1)), sqrt(T_2_1)],\n",
       "    [sqrt(conjugate(T_2_1)), sqrt(R_2_1)]]),\n",
       "    'transferMatrix': Matrix([\n",
       "    [-sqrt(R_2_1)*sqrt(conjugate(R_2_1))/sqrt(conjugate(T_2_1)) + sqrt(T_2_1), sqrt(R_2_1)/sqrt(conjugate(T_2_1))],\n",
       "    [                          -sqrt(conjugate(R_2_1))/sqrt(conjugate(T_2_1)),           1/sqrt(conjugate(T_2_1))]]),\n",
       "    'outputs': ['psi_1_tOPL_0CP', 'psi_1_rOPL_0CP']},\n",
       "   'transfer': Eq(Matrix([\n",
       "   [psi_1_t(L_0)],\n",
       "   [psi_1_r(L_0)]]), Matrix([\n",
       "   [sqrt(R_2_1)*psi_2_r(L_1)/sqrt(conjugate(T_2_1)) + (-sqrt(R_2_1)*sqrt(conjugate(R_2_1))/sqrt(conjugate(T_2_1)) + sqrt(T_2_1))*psi_2_t(L_1)],\n",
       "   [                                         psi_2_r(L_1)/sqrt(conjugate(T_2_1)) - psi_2_t(L_1)*sqrt(conjugate(R_2_1))/sqrt(conjugate(T_2_1))]])),\n",
       "   'functionData': {'paramters': ['T_2_1',\n",
       "     'R_2_1',\n",
       "     'psi_2_tOPL_1CP',\n",
       "     'psi_2_rOPL_1CP'],\n",
       "    'functions': {'psi_1_tOPL_0CPFunction': <function _lambdifygenerated(T_2_1, R_2_1, psi_2_tOPL_1CP, psi_2_rOPL_1CP)>,\n",
       "     'psi_1_rOPL_0CPFunction': <function _lambdifygenerated(T_2_1, R_2_1, psi_2_tOPL_1CP, psi_2_rOPL_1CP)>}}},\n",
       "  {'from': {'region': <new_attempt.stateless.RegionSymbols at 0x7f598e556050>,\n",
       "    'matrix': Matrix([\n",
       "    [psi_2_t(L_1)],\n",
       "    [psi_2_r(L_1)]])},\n",
       "   'to': {'region': <new_attempt.stateless.RegionSymbols at 0x7f598e555c00>,\n",
       "    'matrix': Matrix([\n",
       "    [psi_3_t(L_2)],\n",
       "    [psi_3_r(L_2)]])},\n",
       "   'matricies': {'inputs': ['T_3_2',\n",
       "     'R_3_2',\n",
       "     'psi_3_tOPL_2CP',\n",
       "     'psi_3_rOPL_2CP'],\n",
       "    'scatteringMatrix': Matrix([\n",
       "    [sqrt(conjugate(R_3_2)), sqrt(T_3_2)],\n",
       "    [sqrt(conjugate(T_3_2)), sqrt(R_3_2)]]),\n",
       "    'transferMatrix': Matrix([\n",
       "    [-sqrt(R_3_2)*sqrt(conjugate(R_3_2))/sqrt(conjugate(T_3_2)) + sqrt(T_3_2), sqrt(R_3_2)/sqrt(conjugate(T_3_2))],\n",
       "    [                          -sqrt(conjugate(R_3_2))/sqrt(conjugate(T_3_2)),           1/sqrt(conjugate(T_3_2))]]),\n",
       "    'outputs': ['psi_2_tOPL_1CP', 'psi_2_rOPL_1CP']},\n",
       "   'transfer': Eq(Matrix([\n",
       "   [psi_2_t(L_1)],\n",
       "   [psi_2_r(L_1)]]), Matrix([\n",
       "   [sqrt(R_3_2)*psi_3_r(L_2)/sqrt(conjugate(T_3_2)) + (-sqrt(R_3_2)*sqrt(conjugate(R_3_2))/sqrt(conjugate(T_3_2)) + sqrt(T_3_2))*psi_3_t(L_2)],\n",
       "   [                                         psi_3_r(L_2)/sqrt(conjugate(T_3_2)) - psi_3_t(L_2)*sqrt(conjugate(R_3_2))/sqrt(conjugate(T_3_2))]])),\n",
       "   'functionData': {'paramters': ['T_3_2',\n",
       "     'R_3_2',\n",
       "     'psi_3_tOPL_2CP',\n",
       "     'psi_3_rOPL_2CP'],\n",
       "    'functions': {'psi_2_tOPL_1CPFunction': <function _lambdifygenerated(T_3_2, R_3_2, psi_3_tOPL_2CP, psi_3_rOPL_2CP)>,\n",
       "     'psi_2_rOPL_1CPFunction': <function _lambdifygenerated(T_3_2, R_3_2, psi_3_tOPL_2CP, psi_3_rOPL_2CP)>}}}]}"
      ]
     },
     "metadata": {},
     "output_type": "display_data"
    },
    {
     "name": "stdout",
     "output_type": "stream",
     "text": [
      "BBBBBBBBBBBBBBBBBBBBBBBBBBBBBBBBBBBBBBBBBBBBBBBBBBBBBBB\n",
      "WAVE FUNCTION INPUTS\n"
     ]
    },
    {
     "data": {
      "text/plain": [
       "['psi_3_tOPL_2CP', 'psi_3_rOPL_2CP']"
      ]
     },
     "metadata": {},
     "output_type": "display_data"
    },
    {
     "name": "stdout",
     "output_type": "stream",
     "text": [
      "SATISFIED ARGUMENTS\n"
     ]
    },
    {
     "data": {
      "text/plain": [
       "{'T_3_2': 1.0, 'R_3_2': -1.1102230246251565e-16}"
      ]
     },
     "metadata": {},
     "output_type": "display_data"
    },
    {
     "name": "stdout",
     "output_type": "stream",
     "text": [
      "=-===========-=-=-=-=-=-=-\n",
      "&&&&&&&&&&&&&&&&&&&&&&&&&&&&&&&&&&&&&&&&&&&&&\n",
      "psi_3_tOPL_2CP\n",
      "psi_3_rOPL_2CP\n",
      "[{'from': {'region': <new_attempt.stateless.RegionSymbols object at 0x7f598e556050>, 'matrix': Matrix([\n",
      "[psi_2_t(L_1)],\n",
      "[psi_2_r(L_1)]])}, 'to': {'region': <new_attempt.stateless.RegionSymbols object at 0x7f598e555c00>, 'matrix': Matrix([\n",
      "[psi_3_t(L_2)],\n",
      "[psi_3_r(L_2)]])}, 'transferValues': {'psi_3_tOPL_2CP': 1, 'psi_3_rOPL_2CP': 1}}]\n",
      "WAVE FUNCTION INPUTS\n"
     ]
    },
    {
     "data": {
      "text/plain": [
       "['psi_3_tOPL_2CP', 'psi_3_rOPL_2CP']"
      ]
     },
     "metadata": {},
     "output_type": "display_data"
    },
    {
     "name": "stdout",
     "output_type": "stream",
     "text": [
      "SATISFIED ARGUMENTS\n"
     ]
    },
    {
     "data": {
      "text/plain": [
       "{'T_3_2': 1.0, 'R_3_2': -1.1102230246251565e-16}"
      ]
     },
     "metadata": {},
     "output_type": "display_data"
    },
    {
     "name": "stdout",
     "output_type": "stream",
     "text": [
      "=-===========-=-=-=-=-=-=-\n",
      "[{'from': {'region': <new_attempt.stateless.RegionSymbols object at 0x7f598e556050>, 'matrix': Matrix([\n",
      "[psi_2_t(L_1)],\n",
      "[psi_2_r(L_1)]])}, 'to': {'region': <new_attempt.stateless.RegionSymbols object at 0x7f598e555c00>, 'matrix': Matrix([\n",
      "[psi_3_t(L_2)],\n",
      "[psi_3_r(L_2)]])}, 'transferValues': {'psi_3_tOPL_2CP': 1, 'psi_3_rOPL_2CP': 1}}, {'from': {'region': <new_attempt.stateless.RegionSymbols object at 0x7f598e556050>, 'matrix': Matrix([\n",
      "[psi_2_t(L_1)],\n",
      "[psi_2_r(L_1)]])}, 'to': {'region': <new_attempt.stateless.RegionSymbols object at 0x7f598e555c00>, 'matrix': Matrix([\n",
      "[psi_3_t(L_2)],\n",
      "[psi_3_r(L_2)]])}, 'transferValues': {'psi_2_tOPL_1CP': nan, 'psi_2_rOPL_1CP': nan}}]\n",
      "WAVE FUNCTION INPUTS\n"
     ]
    },
    {
     "name": "stderr",
     "output_type": "stream",
     "text": [
      "<lambdifygenerated-5>:2: RuntimeWarning: invalid value encountered in sqrt\n",
      "  return sqrt(R_3_2)*psi_3_rOPL_2CP/sqrt(conjugate(T_3_2)) + psi_3_tOPL_2CP*(-sqrt(R_3_2)*sqrt(conjugate(R_3_2))/sqrt(conjugate(T_3_2)) + sqrt(T_3_2))\n",
      "<lambdifygenerated-6>:2: RuntimeWarning: invalid value encountered in sqrt\n",
      "  return psi_3_rOPL_2CP/sqrt(conjugate(T_3_2)) - psi_3_tOPL_2CP*sqrt(conjugate(R_3_2))/sqrt(conjugate(T_3_2))\n"
     ]
    },
    {
     "data": {
      "text/plain": [
       "['psi_2_tOPL_1CP', 'psi_2_rOPL_1CP']"
      ]
     },
     "metadata": {},
     "output_type": "display_data"
    },
    {
     "name": "stdout",
     "output_type": "stream",
     "text": [
      "SATISFIED ARGUMENTS\n"
     ]
    },
    {
     "data": {
      "text/plain": [
       "{'T_2_1': 1.0, 'R_2_1': 0.0}"
      ]
     },
     "metadata": {},
     "output_type": "display_data"
    },
    {
     "name": "stdout",
     "output_type": "stream",
     "text": [
      "=-===========-=-=-=-=-=-=-\n",
      "[{'from': {'region': <new_attempt.stateless.RegionSymbols object at 0x7f598e556050>, 'matrix': Matrix([\n",
      "[psi_2_t(L_1)],\n",
      "[psi_2_r(L_1)]])}, 'to': {'region': <new_attempt.stateless.RegionSymbols object at 0x7f598e555c00>, 'matrix': Matrix([\n",
      "[psi_3_t(L_2)],\n",
      "[psi_3_r(L_2)]])}, 'transferValues': {'psi_3_tOPL_2CP': 1, 'psi_3_rOPL_2CP': 1}}, {'from': {'region': <new_attempt.stateless.RegionSymbols object at 0x7f598e556050>, 'matrix': Matrix([\n",
      "[psi_2_t(L_1)],\n",
      "[psi_2_r(L_1)]])}, 'to': {'region': <new_attempt.stateless.RegionSymbols object at 0x7f598e555c00>, 'matrix': Matrix([\n",
      "[psi_3_t(L_2)],\n",
      "[psi_3_r(L_2)]])}, 'transferValues': {'psi_2_tOPL_1CP': nan, 'psi_2_rOPL_1CP': nan}}, {'from': {'region': <new_attempt.stateless.RegionSymbols object at 0x7f598e555c00>, 'matrix': Matrix([\n",
      "[psi_1_t(L_0)],\n",
      "[psi_1_r(L_0)]])}, 'to': {'region': <new_attempt.stateless.RegionSymbols object at 0x7f598e5557b0>, 'matrix': Matrix([\n",
      "[psi_2_t(L_1)],\n",
      "[psi_2_r(L_1)]])}, 'transferValues': {'psi_1_tOPL_0CP': nan, 'psi_1_rOPL_0CP': nan}}]\n",
      "WAVE FUNCTION INPUTS\n"
     ]
    },
    {
     "data": {
      "text/plain": [
       "['psi_1_tOPL_0CP', 'psi_1_rOPL_0CP']"
      ]
     },
     "metadata": {},
     "output_type": "display_data"
    },
    {
     "name": "stdout",
     "output_type": "stream",
     "text": [
      "SATISFIED ARGUMENTS\n"
     ]
    },
    {
     "data": {
      "text/plain": [
       "{'T_1_0': 1.0, 'R_1_0': 0.0}"
      ]
     },
     "metadata": {},
     "output_type": "display_data"
    },
    {
     "name": "stdout",
     "output_type": "stream",
     "text": [
      "=-===========-=-=-=-=-=-=-\n",
      "{'from': {'region': <new_attempt.stateless.RegionSymbols object at 0x7f598e556050>, 'matrix': Matrix([\n",
      "[psi_2_t(L_1)],\n",
      "[psi_2_r(L_1)]])}, 'to': {'region': <new_attempt.stateless.RegionSymbols object at 0x7f598e555c00>, 'matrix': Matrix([\n",
      "[psi_3_t(L_2)],\n",
      "[psi_3_r(L_2)]])}, 'transferValues': {'psi_3_tOPL_2CP': 1, 'psi_3_rOPL_2CP': 1}}\n",
      "FROM:  psi_2_t(L_1)\n",
      "{'from': {'region': <new_attempt.stateless.RegionSymbols object at 0x7f598e556050>, 'matrix': Matrix([\n",
      "[psi_2_t(L_1)],\n",
      "[psi_2_r(L_1)]])}, 'to': {'region': <new_attempt.stateless.RegionSymbols object at 0x7f598e555c00>, 'matrix': Matrix([\n",
      "[psi_3_t(L_2)],\n",
      "[psi_3_r(L_2)]])}, 'transferValues': {'psi_2_tOPL_1CP': nan, 'psi_2_rOPL_1CP': nan}}\n",
      "FROM:  psi_2_t(L_1)\n",
      "{'from': {'region': <new_attempt.stateless.RegionSymbols object at 0x7f598e555c00>, 'matrix': Matrix([\n",
      "[psi_1_t(L_0)],\n",
      "[psi_1_r(L_0)]])}, 'to': {'region': <new_attempt.stateless.RegionSymbols object at 0x7f598e5557b0>, 'matrix': Matrix([\n",
      "[psi_2_t(L_1)],\n",
      "[psi_2_r(L_1)]])}, 'transferValues': {'psi_1_tOPL_0CP': nan, 'psi_1_rOPL_0CP': nan}}\n",
      "FROM:  psi_1_t(L_0)\n",
      "{'from': {'region': <new_attempt.stateless.RegionSymbols object at 0x7f598e5557b0>, 'matrix': Matrix([\n",
      "[psi_0_t(L_-1)],\n",
      "[psi_0_r(L_-1)]])}, 'to': {'region': <new_attempt.stateless.RegionSymbols object at 0x7f598e555360>, 'matrix': Matrix([\n",
      "[psi_1_t(L_0)],\n",
      "[psi_1_r(L_0)]])}, 'transferValues': {'psi_0_tOPL_N1CP': nan, 'psi_0_rOPL_N1CP': nan}}\n",
      "FROM:  psi_0_t(L_-1)\n",
      "B Sub:  [{'psi_N1OPL_N2CP': B_-1, 'psi_N1OPL_N1CP': B_0}, {'psi_0OPL_N1CP': B_0, 'psi_0OPL_0CP': B_1}, {'psi_1OPL_0CP': B_1, 'psi_1OPL_1CP': B_2}, {'psi_2OPL_1CP': B_2, 'psi_2OPL_2CP': B_3}, {'psi_3OPL_2CP': B_3, 'psi_3OPL_3CP': B_4}]\n",
      "Sub table:  {'psi_N1OPL_N2CP': B_-1, 'psi_N1OPL_N1CP': B_0, 'psi_0OPL_N1CP': B_0, 'psi_0OPL_0CP': B_1, 'psi_1OPL_0CP': B_1, 'psi_1OPL_1CP': B_2, 'psi_2OPL_1CP': B_2, 'psi_2OPL_2CP': B_3, 'psi_3OPL_2CP': B_3, 'psi_3OPL_3CP': B_4}\n",
      "Outer:  psi_2(L_1) psi_2OPL_1CP\n",
      "Inner:  psi_N1OPL_N2CP B_-1 psi_2OPL_1CP\n",
      "Inner:  psi_N1OPL_N1CP B_0 psi_2OPL_1CP\n",
      "Inner:  psi_0OPL_N1CP B_0 psi_2OPL_1CP\n",
      "Inner:  psi_0OPL_0CP B_1 psi_2OPL_1CP\n",
      "Inner:  psi_1OPL_0CP B_1 psi_2OPL_1CP\n",
      "Inner:  psi_1OPL_1CP B_2 psi_2OPL_1CP\n",
      "Inner:  psi_2OPL_1CP B_2 psi_2OPL_1CP\n",
      "match\n",
      "Outer:  psi_2(L_1) psi_2OPL_1CP\n",
      "Inner:  psi_N1OPL_N2CP B_-1 psi_2OPL_1CP\n",
      "Inner:  psi_N1OPL_N1CP B_0 psi_2OPL_1CP\n",
      "Inner:  psi_0OPL_N1CP B_0 psi_2OPL_1CP\n",
      "Inner:  psi_0OPL_0CP B_1 psi_2OPL_1CP\n",
      "Inner:  psi_1OPL_0CP B_1 psi_2OPL_1CP\n",
      "Inner:  psi_1OPL_1CP B_2 psi_2OPL_1CP\n",
      "Inner:  psi_2OPL_1CP B_2 psi_2OPL_1CP\n",
      "match\n",
      "Outer:  psi_1(L_0) psi_1OPL_0CP\n",
      "Inner:  psi_N1OPL_N2CP B_-1 psi_1OPL_0CP\n",
      "Inner:  psi_N1OPL_N1CP B_0 psi_1OPL_0CP\n",
      "Inner:  psi_0OPL_N1CP B_0 psi_1OPL_0CP\n",
      "Inner:  psi_0OPL_0CP B_1 psi_1OPL_0CP\n",
      "Inner:  psi_1OPL_0CP B_1 psi_1OPL_0CP\n",
      "match\n",
      "Outer:  psi_0(L_-1) psi_0OPL_N1CP\n",
      "Inner:  psi_N1OPL_N2CP B_-1 psi_0OPL_N1CP\n",
      "Inner:  psi_N1OPL_N1CP B_0 psi_0OPL_N1CP\n",
      "Inner:  psi_0OPL_N1CP B_0 psi_0OPL_N1CP\n",
      "match\n",
      "BAT 4\n"
     ]
    },
    {
     "data": {
      "text/plain": [
       "[B_2, B_1, B_0]"
      ]
     },
     "metadata": {},
     "output_type": "display_data"
    },
    {
     "name": "stdout",
     "output_type": "stream",
     "text": [
      "ARGS\n"
     ]
    },
    {
     "data": {
      "text/plain": [
       "{'V_0': 1,\n",
       " 'V_1': 1,\n",
       " 'V_2': 1,\n",
       " 'L_0': 1,\n",
       " 'L_1': 1,\n",
       " 'L_2': 2,\n",
       " 'N_0': 0.1,\n",
       " 'N_1': 0.2,\n",
       " 'N_2': 0.7,\n",
       " 'm': 1,\n",
       " 'E_OCBtotalCCB': 0.5,\n",
       " 'E_total': 0.5,\n",
       " 'hbarX': 1,\n",
       " 'k_3': 1,\n",
       " B_2: nan,\n",
       " B_1: nan,\n",
       " B_0: nan,\n",
       " 'k_0': 1.0000000000000002,\n",
       " 'k_1': 1.0000000000000002,\n",
       " 'k_2': 1.0000000000000002}"
      ]
     },
     "metadata": {},
     "output_type": "display_data"
    },
    {
     "data": {
      "text/plain": [
       "'C_OCBOCB0CCB_tCCB'"
      ]
     },
     "metadata": {},
     "output_type": "display_data"
    },
    {
     "data": {
      "text/plain": [
       "['C_OCBOCB0CCB_tCCB0radicand',\n",
       " 'C_OCBOCB0CCB_tCCB0offset',\n",
       " 'C_OCBOCB0CCB_tCCB0inverseCoefficent',\n",
       " 'C_OCBOCB0CCB_tCCB0scalar',\n",
       " 'componentFunctions',\n",
       " 'generalFunctionParameters',\n",
       " 'generalFunction',\n",
       " 'parameters',\n",
       " 'function',\n",
       " 'numericalSolutionComponents']"
      ]
     },
     "metadata": {},
     "output_type": "display_data"
    },
    {
     "data": {
      "text/plain": [
       "{'C_OCBOCB0CCB_tCCB0radicand': {'component': B_0**2*exp(2*L_0*k_0) - 2*B_0*B_1*exp(k_0*(L_-1 + L_0)) + B_1**2*exp(2*L_-1*k_0) - 2*N_0*k_0*exp(2*L_-1*k_0) + 2*N_0*k_0*exp(2*L_0*k_0),\n",
       "  'canonicalName': 'radicand'},\n",
       " 'C_OCBOCB0CCB_tCCB0offset': {'component': 0, 'canonicalName': 'offset'},\n",
       " 'C_OCBOCB0CCB_tCCB0inverseCoefficent': {'component': exp(2*L_-1*k_0) - exp(2*L_0*k_0),\n",
       "  'canonicalName': 'inverseCoefficent'},\n",
       " 'C_OCBOCB0CCB_tCCB0scalar': {'component': -1, 'canonicalName': 'scalar'},\n",
       " 'componentFunctions': {'C_OCBOCB0CCB_tCCB0radicandFunction': {'function': <function _lambdifygenerated(B_0, B_1, L_0, L_N1, N_0, k_0)>,\n",
       "   'parameters': ['B_0', 'B_1', 'L_0', 'L_N1', 'N_0', 'k_0']},\n",
       "  'C_OCBOCB0CCB_tCCB0offsetFunction': {'function': <function _lambdifygenerated()>,\n",
       "   'parameters': []},\n",
       "  'C_OCBOCB0CCB_tCCB0inverseCoefficentFunction': {'function': <function _lambdifygenerated(L_0, L_N1, k_0)>,\n",
       "   'parameters': ['L_0', 'L_N1', 'k_0']},\n",
       "  'C_OCBOCB0CCB_tCCB0scalarFunction': {'function': <function _lambdifygenerated()>,\n",
       "   'parameters': []}},\n",
       " 'generalFunctionParameters': ['C_OCBOCB0CCB_tCCB0inverseCoefficentFunction',\n",
       "  'C_OCBOCB0CCB_tCCB0offsetFunction',\n",
       "  'C_OCBOCB0CCB_tCCB0radicandFunction',\n",
       "  'C_OCBOCB0CCB_tCCB0scalarFunction'],\n",
       " 'generalFunction': <function _lambdifygenerated(C_OCBOCB0CCB_tCCB0inverseCoefficentFunction, C_OCBOCB0CCB_tCCB0offsetFunction, C_OCBOCB0CCB_tCCB0radicandFunction, C_OCBOCB0CCB_tCCB0scalarFunction)>,\n",
       " 'parameters': ['B_0', 'B_1', 'L_0', 'L_N1', 'N_0', 'k_0'],\n",
       " 'function': <function new_attempt.stateless.generateNumericalFunctionFromGeneralFunctionAndComponents.<locals>.calculate(**kwargs)>,\n",
       " 'numericalSolutionComponents': {'componentFunctions': {'C_OCBOCB0CCB_tCCB0radicandFunction': {'function': <function _lambdifygenerated(B_0, B_1, L_0, L_N1, N_0, k_0)>,\n",
       "    'parameters': ['B_0', 'B_1', 'L_0', 'L_N1', 'N_0', 'k_0']},\n",
       "   'C_OCBOCB0CCB_tCCB0offsetFunction': {'function': <function _lambdifygenerated()>,\n",
       "    'parameters': []},\n",
       "   'C_OCBOCB0CCB_tCCB0inverseCoefficentFunction': {'function': <function _lambdifygenerated(L_0, L_N1, k_0)>,\n",
       "    'parameters': ['L_0', 'L_N1', 'k_0']},\n",
       "   'C_OCBOCB0CCB_tCCB0scalarFunction': {'function': <function _lambdifygenerated()>,\n",
       "    'parameters': []}},\n",
       "  'canoticalParameters': {'radicand': 'C_OCBOCB0CCB_tCCB0radicandFunction',\n",
       "   'offset': 'C_OCBOCB0CCB_tCCB0offsetFunction',\n",
       "   'inverseCoefficent': 'C_OCBOCB0CCB_tCCB0inverseCoefficentFunction',\n",
       "   'scalar': 'C_OCBOCB0CCB_tCCB0scalarFunction'},\n",
       "  'allParameters': {'B_0', 'B_1', 'L_0', 'L_N1', 'N_0', 'k_0'}}}"
      ]
     },
     "metadata": {},
     "output_type": "display_data"
    },
    {
     "ename": "TypeError",
     "evalue": "keywords must be strings",
     "output_type": "error",
     "traceback": [
      "\u001b[0;31m---------------------------------------------------------------------------\u001b[0m",
      "\u001b[0;31mTypeError\u001b[0m                                 Traceback (most recent call last)",
      "Input \u001b[0;32mIn [7]\u001b[0m, in \u001b[0;36m<cell line: 1>\u001b[0;34m()\u001b[0m\n\u001b[0;32m----> 1\u001b[0m constants \u001b[38;5;241m=\u001b[39m \u001b[43mcomputeSimulationConstants\u001b[49m\u001b[43m(\u001b[49m\u001b[43mpreliminaryData\u001b[49m\u001b[43m,\u001b[49m\u001b[43m \u001b[49m\u001b[43mregionFunctions\u001b[49m\u001b[43m,\u001b[49m\u001b[43m \u001b[49m\u001b[43mtestBasicParameters\u001b[49m\u001b[43m,\u001b[49m\u001b[43m \u001b[49m\u001b[38;5;241;43m1\u001b[39;49m\u001b[43m,\u001b[49m\u001b[43m \u001b[49m\u001b[38;5;241;43m1\u001b[39;49m\u001b[43m)\u001b[49m\n",
      "File \u001b[0;32m~/work/numerical_py/new_attempt/stateless.py:1039\u001b[0m, in \u001b[0;36mcomputeSimulationConstants\u001b[0;34m(preliminaryData, regionFunctions, basicArguments, initialTransmission, initialReflection)\u001b[0m\n\u001b[1;32m   1037\u001b[0m \u001b[38;5;28mprint\u001b[39m(\u001b[38;5;124m\"\u001b[39m\u001b[38;5;124mARGS\u001b[39m\u001b[38;5;124m\"\u001b[39m)\n\u001b[1;32m   1038\u001b[0m display(basicArguments \u001b[38;5;241m|\u001b[39m boundryIndexedTransfers \u001b[38;5;241m|\u001b[39m harmonicConstants)\n\u001b[0;32m-> 1039\u001b[0m amplitudeConstants \u001b[38;5;241m=\u001b[39m \u001b[43mcomputeAmplitudeConstants\u001b[49m\u001b[43m(\u001b[49m\n\u001b[1;32m   1040\u001b[0m \u001b[43m        \u001b[49m\u001b[43mregionFunctions\u001b[49m\u001b[43m,\u001b[49m\u001b[43m \u001b[49m\n\u001b[1;32m   1041\u001b[0m \u001b[43m        \u001b[49m\u001b[43mbasicArguments\u001b[49m\u001b[43m \u001b[49m\u001b[38;5;241;43m|\u001b[39;49m\u001b[43m \u001b[49m\u001b[43mboundryIndexedTransfers\u001b[49m\u001b[43m \u001b[49m\u001b[38;5;241;43m|\u001b[39;49m\u001b[43m \u001b[49m\u001b[43mharmonicConstants\u001b[49m\n\u001b[1;32m   1042\u001b[0m \u001b[43m    \u001b[49m\u001b[43m)\u001b[49m\n\u001b[1;32m   1043\u001b[0m \u001b[38;5;28;01mreturn\u001b[39;00m {\n\u001b[1;32m   1044\u001b[0m         \u001b[38;5;124m\"\u001b[39m\u001b[38;5;124mharmonicConstants\u001b[39m\u001b[38;5;124m\"\u001b[39m : harmonicConstants, \n\u001b[1;32m   1045\u001b[0m         \u001b[38;5;124m\"\u001b[39m\u001b[38;5;124mtransfers\u001b[39m\u001b[38;5;124m\"\u001b[39m : transfers, \n\u001b[1;32m   1046\u001b[0m         \u001b[38;5;124m\"\u001b[39m\u001b[38;5;124mboundryIndexedTransfers\u001b[39m\u001b[38;5;124m\"\u001b[39m : boundryIndexedTransfers, \n\u001b[1;32m   1047\u001b[0m         \u001b[38;5;124m\"\u001b[39m\u001b[38;5;124mamplitudeConstants\u001b[39m\u001b[38;5;124m\"\u001b[39m : amplitudeConstants\n\u001b[1;32m   1048\u001b[0m     }\n",
      "File \u001b[0;32m~/work/numerical_py/new_attempt/stateless.py:1000\u001b[0m, in \u001b[0;36mcomputeAmplitudeConstants\u001b[0;34m(regionFunctions, arguments)\u001b[0m\n\u001b[1;32m    997\u001b[0m     display(sol)\n\u001b[1;32m    998\u001b[0m     \u001b[38;5;28;01mfor\u001b[39;00m constant, solutions \u001b[38;5;129;01min\u001b[39;00m constantAmplitudeCalculators\u001b[38;5;241m.\u001b[39mitems(): \n\u001b[1;32m    999\u001b[0m          \u001b[38;5;66;03m#newSolution = constantAmplitudeCalculators[symbolicToIdentifier(constant)]\u001b[39;00m\n\u001b[0;32m-> 1000\u001b[0m          amplitudeConstantValues[constant] \u001b[38;5;241m=\u001b[39m [\n\u001b[1;32m   1001\u001b[0m                 solution[\u001b[38;5;124m\"\u001b[39m\u001b[38;5;124mfunction\u001b[39m\u001b[38;5;124m\"\u001b[39m](\u001b[38;5;241m*\u001b[39m\u001b[38;5;241m*\u001b[39marguments) \\\n\u001b[1;32m   1002\u001b[0m                 \u001b[38;5;28;01mfor\u001b[39;00m solution \u001b[38;5;129;01min\u001b[39;00m solutions\n\u001b[1;32m   1003\u001b[0m          ]\n\u001b[1;32m   1004\u001b[0m \u001b[38;5;28;01mreturn\u001b[39;00m amplitudeConstantValues\n",
      "File \u001b[0;32m~/work/numerical_py/new_attempt/stateless.py:1001\u001b[0m, in \u001b[0;36m<listcomp>\u001b[0;34m(.0)\u001b[0m\n\u001b[1;32m    997\u001b[0m     display(sol)\n\u001b[1;32m    998\u001b[0m     \u001b[38;5;28;01mfor\u001b[39;00m constant, solutions \u001b[38;5;129;01min\u001b[39;00m constantAmplitudeCalculators\u001b[38;5;241m.\u001b[39mitems(): \n\u001b[1;32m    999\u001b[0m          \u001b[38;5;66;03m#newSolution = constantAmplitudeCalculators[symbolicToIdentifier(constant)]\u001b[39;00m\n\u001b[1;32m   1000\u001b[0m          amplitudeConstantValues[constant] \u001b[38;5;241m=\u001b[39m [\n\u001b[0;32m-> 1001\u001b[0m                 \u001b[43msolution\u001b[49m\u001b[43m[\u001b[49m\u001b[38;5;124;43m\"\u001b[39;49m\u001b[38;5;124;43mfunction\u001b[39;49m\u001b[38;5;124;43m\"\u001b[39;49m\u001b[43m]\u001b[49m\u001b[43m(\u001b[49m\u001b[38;5;241;43m*\u001b[39;49m\u001b[38;5;241;43m*\u001b[39;49m\u001b[43marguments\u001b[49m\u001b[43m)\u001b[49m \\\n\u001b[1;32m   1002\u001b[0m                 \u001b[38;5;28;01mfor\u001b[39;00m solution \u001b[38;5;129;01min\u001b[39;00m solutions\n\u001b[1;32m   1003\u001b[0m          ]\n\u001b[1;32m   1004\u001b[0m \u001b[38;5;28;01mreturn\u001b[39;00m amplitudeConstantValues\n",
      "\u001b[0;31mTypeError\u001b[0m: keywords must be strings"
     ]
    }
   ],
   "source": [
    "constants = computeSimulationConstants(preliminaryData, regionFunctions, testBasicParameters, 1, 1)"
   ]
  },
  {
   "cell_type": "code",
   "execution_count": null,
   "id": "f6c182dd-b13d-49ae-93b6-f84808cf7700",
   "metadata": {},
   "outputs": [],
   "source": []
  },
  {
   "cell_type": "code",
   "execution_count": null,
   "id": "3f98d3a3-7e24-4b69-be90-f7c890e3ef08",
   "metadata": {},
   "outputs": [],
   "source": []
  },
  {
   "cell_type": "code",
   "execution_count": null,
   "id": "b1002b0e-4cf3-46d3-9a55-26061313e471",
   "metadata": {},
   "outputs": [],
   "source": []
  }
 ],
 "metadata": {
  "kernelspec": {
   "display_name": "Python 3 (ipykernel)",
   "language": "python",
   "name": "python3"
  },
  "language_info": {
   "codemirror_mode": {
    "name": "ipython",
    "version": 3
   },
   "file_extension": ".py",
   "mimetype": "text/x-python",
   "name": "python",
   "nbconvert_exporter": "python",
   "pygments_lexer": "ipython3",
   "version": "3.10.5"
  }
 },
 "nbformat": 4,
 "nbformat_minor": 5
}
