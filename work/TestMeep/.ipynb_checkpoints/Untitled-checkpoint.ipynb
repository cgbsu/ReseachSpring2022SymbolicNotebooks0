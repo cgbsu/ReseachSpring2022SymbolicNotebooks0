{
 "cells": [
  {
   "cell_type": "code",
   "execution_count": 1,
   "id": "c54ca55f-36a4-4538-97a4-195f7e0efd90",
   "metadata": {},
   "outputs": [],
   "source": [
    "import meep as mp"
   ]
  },
  {
   "cell_type": "code",
   "execution_count": 2,
   "id": "9e967e7a-bce0-47c4-8fae-122674189e23",
   "metadata": {},
   "outputs": [
    {
     "name": "stderr",
     "output_type": "stream",
     "text": [
      "/opt/conda/lib/python3.10/site-packages/numpy/core/getlimits.py:499: UserWarning: The value of the smallest subnormal for <class 'numpy.float32'> type is zero.\n",
      "  setattr(self, word, getattr(machar, word).flat[0])\n",
      "/opt/conda/lib/python3.10/site-packages/numpy/core/getlimits.py:89: UserWarning: The value of the smallest subnormal for <class 'numpy.float32'> type is zero.\n",
      "  return self._float_to_str(self.smallest_subnormal)\n",
      "/opt/conda/lib/python3.10/site-packages/numpy/core/getlimits.py:499: UserWarning: The value of the smallest subnormal for <class 'numpy.float64'> type is zero.\n",
      "  setattr(self, word, getattr(machar, word).flat[0])\n",
      "/opt/conda/lib/python3.10/site-packages/numpy/core/getlimits.py:89: UserWarning: The value of the smallest subnormal for <class 'numpy.float64'> type is zero.\n",
      "  return self._float_to_str(self.smallest_subnormal)\n"
     ]
    }
   ],
   "source": [
    "from meep import mpb"
   ]
  },
  {
   "cell_type": "code",
   "execution_count": 3,
   "id": "f872e158-1d48-4ccf-b5f7-83dd61f65043",
   "metadata": {},
   "outputs": [
    {
     "name": "stdout",
     "output_type": "stream",
     "text": [
      "dir_path = /opt/conda/lib/python3.10/site-packages/picwriter\n",
      "Running MPB simulation... (check .out file for current status)\n"
     ]
    },
    {
     "name": "stderr",
     "output_type": "stream",
     "text": [
      "/opt/conda/lib/python3.10/site-packages/numpy/core/getlimits.py:499: UserWarning: The value of the smallest subnormal for <class 'numpy.float32'> type is zero.\n",
      "  setattr(self, word, getattr(machar, word).flat[0])\n",
      "/opt/conda/lib/python3.10/site-packages/numpy/core/getlimits.py:89: UserWarning: The value of the smallest subnormal for <class 'numpy.float32'> type is zero.\n",
      "  return self._float_to_str(self.smallest_subnormal)\n",
      "/opt/conda/lib/python3.10/site-packages/numpy/core/getlimits.py:499: UserWarning: The value of the smallest subnormal for <class 'numpy.float64'> type is zero.\n",
      "  setattr(self, word, getattr(machar, word).flat[0])\n",
      "/opt/conda/lib/python3.10/site-packages/numpy/core/getlimits.py:89: UserWarning: The value of the smallest subnormal for <class 'numpy.float64'> type is zero.\n",
      "  return self._float_to_str(self.smallest_subnormal)\n"
     ]
    },
    {
     "name": "stdout",
     "output_type": "stream",
     "text": [
      "Time to run MPB simulation = 9.991105079650879 seconds\n"
     ]
    }
   ],
   "source": [
    "import gdspy\n",
    "from picwriter import toolkit as tk\n",
    "import picwriter.components as pc\n",
    "import picwriter.picsim as ps\n",
    "\n",
    "\n",
    "# Define materials\n",
    "epsSiO2 = 1.444**2\n",
    "epsSi = 3.55**2\n",
    "etch_stack = [(epsSiO2, 1.89), (epsSi, 0.07), (epsSiO2, 2.04)]\n",
    "mstack = ps.MaterialStack(vsize=4.0, default_stack=etch_stack, name=\"Si waveguide\")\n",
    "waveguide_stack = [(epsSiO2, 1.89), (epsSi, 0.22), (epsSiO2, 1.89)]\n",
    "clad_stack = [(epsSiO2, 1.89), (epsSi, 0.05), (epsSiO2, 2.06)]\n",
    "mstack.addVStack(layer=1, datatype=0, stack=waveguide_stack)\n",
    "mstack.addVStack(layer=2, datatype=0, stack=clad_stack)\n",
    "\n",
    "\n",
    "# Define geometry\n",
    "\n",
    "top = gdspy.Cell(\"top\")\n",
    "\n",
    "waveGuideTemplate = pc.WaveguideTemplate(\n",
    "        wg_width = 0.45, \n",
    "        clad_width = 10, \n",
    "        bend_radius = 100, \n",
    "        resist = '+', \n",
    "        fab = \"ETCH\", \n",
    "        wg_layer = 1, \n",
    "        wg_datatype = 0, \n",
    "        clad_layer = 2, \n",
    "        clad_datatype = 0\n",
    "    )\n",
    "\n",
    "metalTemplate = pc.MetalTemplate()\n",
    "\n",
    "paddedWaveGuide = pc.Waveguide([(0, 1000), (1000, 1000)], waveGuideTemplate)\n",
    "\n",
    "inputPadRout = pc.MetalRoute([(500, 0), (500, 700)], metalTemplate)\n",
    "outputPadRout = pc.MetalRoute([(500, 2000), (500, 1300)], metalTemplate)\n",
    "\n",
    "inputPad = pc.Bondpad(metalTemplate, **inputPadRout.portlist[\"input\"])\n",
    "anodePad = pc.Bondpad(metalTemplate, **inputPadRout.portlist[\"output\"])\n",
    "\n",
    "outputPad = pc.Bondpad(metalTemplate, **outputPadRout.portlist[\"input\"])\n",
    "cathodePad = pc.Bondpad(metalTemplate, **outputPadRout.portlist[\"output\"])\n",
    "\n",
    "tk.add(top, paddedWaveGuide)\n",
    "tk.add(top, inputPad)\n",
    "tk.add(top, anodePad)\n",
    "tk.add(top, inputPadRout)\n",
    "tk.add(top, outputPad)\n",
    "tk.add(top, cathodePad)\n",
    "tk.add(top, outputPadRout)\n",
    "\n",
    "tk.build_mask(top, waveGuideTemplate, final_layer = 3, final_datatype = 0)\n",
    "\n",
    "#gdspy.LayoutViewer()\n",
    "\n",
    "# Simulate\n",
    "\n",
    "ps.compute_mode(\n",
    "        waveGuideTemplate, \n",
    "        mstack, \n",
    "        res = 128, \n",
    "        wavelength = 1.55, \n",
    "        sx = 3.0, \n",
    "        sy = 3.0, \n",
    "        plot_mode_number = 1, \n",
    "        polarization = \"TE\"\n",
    "    )\n",
    "\n",
    "\n",
    "\n"
   ]
  },
  {
   "cell_type": "code",
   "execution_count": null,
   "id": "f0eaff1b-aa1f-481c-9e64-1b9201dd30c2",
   "metadata": {},
   "outputs": [],
   "source": []
  }
 ],
 "metadata": {
  "kernelspec": {
   "display_name": "Python 3 (ipykernel)",
   "language": "python",
   "name": "python3"
  },
  "language_info": {
   "codemirror_mode": {
    "name": "ipython",
    "version": 3
   },
   "file_extension": ".py",
   "mimetype": "text/x-python",
   "name": "python",
   "nbconvert_exporter": "python",
   "pygments_lexer": "ipython3",
   "version": "3.10.5"
  }
 },
 "nbformat": 4,
 "nbformat_minor": 5
}
