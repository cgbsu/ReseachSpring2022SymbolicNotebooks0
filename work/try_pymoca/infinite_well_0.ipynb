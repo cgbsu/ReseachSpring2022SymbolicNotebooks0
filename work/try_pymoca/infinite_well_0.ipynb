{
 "cells": [
  {
   "cell_type": "code",
   "execution_count": 10,
   "id": "4dc36a47-cc05-473c-a9c8-2807a842aacd",
   "metadata": {},
   "outputs": [],
   "source": [
    "%matplotlib inline\n",
    "from pymoca.backends.casadi.api import transfer_model\n",
    "import numpy as np\n",
    "import casadi as ca\n",
    "import matplotlib\n",
    "#from matplotlib import pylab, mlab, pyplot\n",
    "from pylab import *\n",
    "#from pylab import plot, hold, legend\n"
   ]
  },
  {
   "cell_type": "code",
   "execution_count": 71,
   "id": "3d511e7b-4b8d-4b26-a255-a64e36c27fa5",
   "metadata": {},
   "outputs": [
    {
     "name": "stdout",
     "output_type": "stream",
     "text": [
      "ANTLR runtime and generated code versions disagree: 4.9.3!=4.7\n",
      "ANTLR runtime and generated code versions disagree: 4.9.3!=4.7\n",
      "ANTLR runtime and generated code versions disagree: 4.9.3!=4.7\n",
      "ANTLR runtime and generated code versions disagree: 4.9.3!=4.7\n",
      "ANTLR runtime and generated code versions disagree: 4.9.3!=4.7\n",
      "ANTLR runtime and generated code versions disagree: 4.9.3!=4.7\n",
      "ANTLR runtime and generated code versions disagree: 4.9.3!=4.7\n",
      "ANTLR runtime and generated code versions disagree: 4.9.3!=4.7\n"
     ]
    }
   ],
   "source": [
    "model = transfer_model('./', 'InfiniteWell_1', {})"
   ]
  },
  {
   "cell_type": "code",
   "execution_count": 13,
   "id": "28b070bc-5bcd-4bfd-a89b-e9af0b774b7a",
   "metadata": {},
   "outputs": [],
   "source": [
    "x0 = model.states[0].start"
   ]
  },
  {
   "cell_type": "code",
   "execution_count": 14,
   "id": "8081517c-c9e4-41f0-a65b-f89415a78b3b",
   "metadata": {},
   "outputs": [],
   "source": [
    "n = 10"
   ]
  },
  {
   "cell_type": "code",
   "execution_count": 15,
   "id": "50246e1b-2d63-41e6-9651-d2c448b9e203",
   "metadata": {},
   "outputs": [],
   "source": [
    "dx = 0.1"
   ]
  },
  {
   "cell_type": "code",
   "execution_count": 16,
   "id": "b4f81b5b-cd5d-4f6d-b86d-4208ed3fbe9a",
   "metadata": {},
   "outputs": [],
   "source": [
    "x = ca.MX.sym('X', n)"
   ]
  },
  {
   "cell_type": "code",
   "execution_count": 19,
   "id": "3e2b23da-95af-47d1-88d7-0c62d0d71505",
   "metadata": {},
   "outputs": [],
   "source": [
    "lower_bound_X = np.full(n, 0)"
   ]
  },
  {
   "cell_type": "code",
   "execution_count": 20,
   "id": "1ec77afd-8df2-430b-8767-02b459c06e30",
   "metadata": {},
   "outputs": [],
   "source": [
    "upper_bound = np.full(n, 1)"
   ]
  },
  {
   "cell_type": "code",
   "execution_count": null,
   "id": "1a0422f6-73f3-47f6-8825-0d9efa498a4f",
   "metadata": {},
   "outputs": [],
   "source": []
  }
 ],
 "metadata": {
  "kernelspec": {
   "display_name": "Python 3 (ipykernel)",
   "language": "python",
   "name": "python3"
  },
  "language_info": {
   "codemirror_mode": {
    "name": "ipython",
    "version": 3
   },
   "file_extension": ".py",
   "mimetype": "text/x-python",
   "name": "python",
   "nbconvert_exporter": "python",
   "pygments_lexer": "ipython3",
   "version": "3.9.10"
  }
 },
 "nbformat": 4,
 "nbformat_minor": 5
}
