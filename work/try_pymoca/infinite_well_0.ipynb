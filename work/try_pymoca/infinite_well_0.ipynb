{
 "cells": [
  {
   "cell_type": "code",
   "execution_count": 11,
   "id": "4dc36a47-cc05-473c-a9c8-2807a842aacd",
   "metadata": {},
   "outputs": [],
   "source": [
    "%matplotlib inline\n",
    "from pymoca.backends.casadi.api import transfer_model\n",
    "import numpy as np\n",
    "import casadi as ca\n",
    "import matplotlib\n",
    "#from matplotlib import pylab, mlab, pyplot\n",
    "from pylab import *\n",
    "#from pylab import plot, hold, legend\n"
   ]
  },
  {
   "cell_type": "code",
   "execution_count": 52,
   "id": "3d511e7b-4b8d-4b26-a255-a64e36c27fa5",
   "metadata": {},
   "outputs": [
    {
     "name": "stdout",
     "output_type": "stream",
     "text": [
      "ANTLR runtime and generated code versions disagree: 4.9.3!=4.7\n",
      "ANTLR runtime and generated code versions disagree: 4.9.3!=4.7\n",
      "ANTLR runtime and generated code versions disagree: 4.9.3!=4.7\n",
      "ANTLR runtime and generated code versions disagree: 4.9.3!=4.7\n"
     ]
    },
    {
     "ename": "KeyError",
     "evalue": "MX(C_0)",
     "output_type": "error",
     "traceback": [
      "\u001b[0;31m---------------------------------------------------------------------------\u001b[0m",
      "\u001b[0;31mKeyError\u001b[0m                                  Traceback (most recent call last)",
      "Input \u001b[0;32mIn [52]\u001b[0m, in \u001b[0;36m<module>\u001b[0;34m\u001b[0m\n\u001b[0;32m----> 1\u001b[0m model \u001b[38;5;241m=\u001b[39m \u001b[43mtransfer_model\u001b[49m\u001b[43m(\u001b[49m\u001b[38;5;124;43m'\u001b[39;49m\u001b[38;5;124;43m./\u001b[39;49m\u001b[38;5;124;43m'\u001b[39;49m\u001b[43m,\u001b[49m\u001b[43m \u001b[49m\u001b[38;5;124;43m'\u001b[39;49m\u001b[38;5;124;43mInfiniteWell\u001b[39;49m\u001b[38;5;124;43m'\u001b[39;49m\u001b[43m,\u001b[49m\u001b[43m \u001b[49m\u001b[43m{\u001b[49m\u001b[43m}\u001b[49m\u001b[43m)\u001b[49m\n",
      "File \u001b[0;32m/opt/conda/lib/python3.9/site-packages/pymoca-0.6.0-py3.9.egg/pymoca/backends/casadi/api.py:456\u001b[0m, in \u001b[0;36mtransfer_model\u001b[0;34m(model_folder, model_name, compiler_options)\u001b[0m\n\u001b[1;32m    454\u001b[0m         \u001b[38;5;28;01mreturn\u001b[39;00m model\n\u001b[1;32m    455\u001b[0m \u001b[38;5;28;01melse\u001b[39;00m:\n\u001b[0;32m--> 456\u001b[0m     \u001b[38;5;28;01mreturn\u001b[39;00m \u001b[43m_compile_model\u001b[49m\u001b[43m(\u001b[49m\u001b[43mmodel_folder\u001b[49m\u001b[43m,\u001b[49m\u001b[43m \u001b[49m\u001b[43mmodel_name\u001b[49m\u001b[43m,\u001b[49m\u001b[43m \u001b[49m\u001b[43mcompiler_options\u001b[49m\u001b[43m)\u001b[49m\n",
      "File \u001b[0;32m/opt/conda/lib/python3.9/site-packages/pymoca-0.6.0-py3.9.egg/pymoca/backends/casadi/api.py:103\u001b[0m, in \u001b[0;36m_compile_model\u001b[0;34m(model_folder, model_name, compiler_options)\u001b[0m\n\u001b[1;32m    100\u001b[0m \u001b[38;5;66;03m# Compile\u001b[39;00m\n\u001b[1;32m    101\u001b[0m logger\u001b[38;5;241m.\u001b[39minfo(\u001b[38;5;124m\"\u001b[39m\u001b[38;5;124mGenerating CasADi model\u001b[39m\u001b[38;5;124m\"\u001b[39m)\n\u001b[0;32m--> 103\u001b[0m model \u001b[38;5;241m=\u001b[39m \u001b[43mgenerator\u001b[49m\u001b[38;5;241;43m.\u001b[39;49m\u001b[43mgenerate\u001b[49m\u001b[43m(\u001b[49m\u001b[43mtree\u001b[49m\u001b[43m,\u001b[49m\u001b[43m \u001b[49m\u001b[43mmodel_name\u001b[49m\u001b[43m,\u001b[49m\u001b[43m \u001b[49m\u001b[43mcompiler_options\u001b[49m\u001b[43m)\u001b[49m\n\u001b[1;32m    104\u001b[0m \u001b[38;5;28;01mif\u001b[39;00m compiler_options\u001b[38;5;241m.\u001b[39mget(\u001b[38;5;124m'\u001b[39m\u001b[38;5;124mcheck_balanced\u001b[39m\u001b[38;5;124m'\u001b[39m, \u001b[38;5;28;01mTrue\u001b[39;00m):\n\u001b[1;32m    105\u001b[0m     model\u001b[38;5;241m.\u001b[39mcheck_balanced()\n",
      "File \u001b[0;32m/opt/conda/lib/python3.9/site-packages/pymoca-0.6.0-py3.9.egg/pymoca/backends/casadi/generator.py:935\u001b[0m, in \u001b[0;36mgenerate\u001b[0;34m(ast_tree, model_name, options)\u001b[0m\n\u001b[1;32m    933\u001b[0m component_ref_tuple \u001b[38;5;241m=\u001b[39m component_ref\u001b[38;5;241m.\u001b[39mto_tuple()\n\u001b[1;32m    934\u001b[0m casadi_gen \u001b[38;5;241m=\u001b[39m Generator(flat_tree, component_ref_tuple[\u001b[38;5;241m-\u001b[39m\u001b[38;5;241m1\u001b[39m], options)\n\u001b[0;32m--> 935\u001b[0m \u001b[43mast_walker\u001b[49m\u001b[38;5;241;43m.\u001b[39;49m\u001b[43mwalk\u001b[49m\u001b[43m(\u001b[49m\u001b[43mcasadi_gen\u001b[49m\u001b[43m,\u001b[49m\u001b[43m \u001b[49m\u001b[43mflat_tree\u001b[49m\u001b[43m)\u001b[49m\n\u001b[1;32m    936\u001b[0m \u001b[38;5;28;01mreturn\u001b[39;00m casadi_gen\u001b[38;5;241m.\u001b[39mmodel\n",
      "File \u001b[0;32m/opt/conda/lib/python3.9/site-packages/pymoca-0.6.0-py3.9.egg/pymoca/tree.py:191\u001b[0m, in \u001b[0;36mTreeWalker.walk\u001b[0;34m(self, listener, tree)\u001b[0m\n\u001b[1;32m    189\u001b[0m     \u001b[38;5;28;01mif\u001b[39;00m \u001b[38;5;28mself\u001b[39m\u001b[38;5;241m.\u001b[39mskip_child(tree, child_name):\n\u001b[1;32m    190\u001b[0m         \u001b[38;5;28;01mcontinue\u001b[39;00m\n\u001b[0;32m--> 191\u001b[0m     \u001b[38;5;28;43mself\u001b[39;49m\u001b[38;5;241;43m.\u001b[39;49m\u001b[43mhandle_walk\u001b[49m\u001b[43m(\u001b[49m\u001b[43mlistener\u001b[49m\u001b[43m,\u001b[49m\u001b[43m \u001b[49m\u001b[43mtree\u001b[49m\u001b[38;5;241;43m.\u001b[39;49m\u001b[38;5;18;43m__dict__\u001b[39;49m\u001b[43m[\u001b[49m\u001b[43mchild_name\u001b[49m\u001b[43m]\u001b[49m\u001b[43m)\u001b[49m\n\u001b[1;32m    192\u001b[0m \u001b[38;5;28;01mif\u001b[39;00m \u001b[38;5;28mhasattr\u001b[39m(listener, \u001b[38;5;124m'\u001b[39m\u001b[38;5;124mexitEvery\u001b[39m\u001b[38;5;124m'\u001b[39m):\n\u001b[1;32m    193\u001b[0m     \u001b[38;5;28mgetattr\u001b[39m(listener, \u001b[38;5;124m'\u001b[39m\u001b[38;5;124mexitEvery\u001b[39m\u001b[38;5;124m'\u001b[39m)(tree)\n",
      "File \u001b[0;32m/opt/conda/lib/python3.9/site-packages/pymoca-0.6.0-py3.9.egg/pymoca/tree.py:208\u001b[0m, in \u001b[0;36mTreeWalker.handle_walk\u001b[0;34m(self, listener, tree)\u001b[0m\n\u001b[1;32m    206\u001b[0m \u001b[38;5;28;01melif\u001b[39;00m \u001b[38;5;28misinstance\u001b[39m(tree, \u001b[38;5;28mdict\u001b[39m):\n\u001b[1;32m    207\u001b[0m     \u001b[38;5;28;01mfor\u001b[39;00m k \u001b[38;5;129;01min\u001b[39;00m tree\u001b[38;5;241m.\u001b[39mkeys():\n\u001b[0;32m--> 208\u001b[0m         \u001b[38;5;28;43mself\u001b[39;49m\u001b[38;5;241;43m.\u001b[39;49m\u001b[43mhandle_walk\u001b[49m\u001b[43m(\u001b[49m\u001b[43mlistener\u001b[49m\u001b[43m,\u001b[49m\u001b[43m \u001b[49m\u001b[43mtree\u001b[49m\u001b[43m[\u001b[49m\u001b[43mk\u001b[49m\u001b[43m]\u001b[49m\u001b[43m)\u001b[49m\n\u001b[1;32m    209\u001b[0m \u001b[38;5;28;01melif\u001b[39;00m \u001b[38;5;28misinstance\u001b[39m(tree, \u001b[38;5;28mlist\u001b[39m):\n\u001b[1;32m    210\u001b[0m     \u001b[38;5;28;01mfor\u001b[39;00m i \u001b[38;5;129;01min\u001b[39;00m \u001b[38;5;28mrange\u001b[39m(\u001b[38;5;28mlen\u001b[39m(tree)):\n",
      "File \u001b[0;32m/opt/conda/lib/python3.9/site-packages/pymoca-0.6.0-py3.9.egg/pymoca/tree.py:205\u001b[0m, in \u001b[0;36mTreeWalker.handle_walk\u001b[0;34m(self, listener, tree)\u001b[0m\n\u001b[1;32m    198\u001b[0m \u001b[38;5;124;03m\"\"\"\u001b[39;00m\n\u001b[1;32m    199\u001b[0m \u001b[38;5;124;03mHandles tree walking, has to account for dictionaries and lists\u001b[39;00m\n\u001b[1;32m    200\u001b[0m \u001b[38;5;124;03m:param listener: listener that reacts to walked events\u001b[39;00m\n\u001b[1;32m    201\u001b[0m \u001b[38;5;124;03m:param tree: the tree to walk\u001b[39;00m\n\u001b[1;32m    202\u001b[0m \u001b[38;5;124;03m:return: None\u001b[39;00m\n\u001b[1;32m    203\u001b[0m \u001b[38;5;124;03m\"\"\"\u001b[39;00m\n\u001b[1;32m    204\u001b[0m \u001b[38;5;28;01mif\u001b[39;00m \u001b[38;5;28misinstance\u001b[39m(tree, ast\u001b[38;5;241m.\u001b[39mNode):\n\u001b[0;32m--> 205\u001b[0m     \u001b[38;5;28;43mself\u001b[39;49m\u001b[38;5;241;43m.\u001b[39;49m\u001b[43mwalk\u001b[49m\u001b[43m(\u001b[49m\u001b[43mlistener\u001b[49m\u001b[43m,\u001b[49m\u001b[43m \u001b[49m\u001b[43mtree\u001b[49m\u001b[43m)\u001b[49m\n\u001b[1;32m    206\u001b[0m \u001b[38;5;28;01melif\u001b[39;00m \u001b[38;5;28misinstance\u001b[39m(tree, \u001b[38;5;28mdict\u001b[39m):\n\u001b[1;32m    207\u001b[0m     \u001b[38;5;28;01mfor\u001b[39;00m k \u001b[38;5;129;01min\u001b[39;00m tree\u001b[38;5;241m.\u001b[39mkeys():\n",
      "File \u001b[0;32m/opt/conda/lib/python3.9/site-packages/pymoca-0.6.0-py3.9.egg/pymoca/tree.py:191\u001b[0m, in \u001b[0;36mTreeWalker.walk\u001b[0;34m(self, listener, tree)\u001b[0m\n\u001b[1;32m    189\u001b[0m     \u001b[38;5;28;01mif\u001b[39;00m \u001b[38;5;28mself\u001b[39m\u001b[38;5;241m.\u001b[39mskip_child(tree, child_name):\n\u001b[1;32m    190\u001b[0m         \u001b[38;5;28;01mcontinue\u001b[39;00m\n\u001b[0;32m--> 191\u001b[0m     \u001b[38;5;28;43mself\u001b[39;49m\u001b[38;5;241;43m.\u001b[39;49m\u001b[43mhandle_walk\u001b[49m\u001b[43m(\u001b[49m\u001b[43mlistener\u001b[49m\u001b[43m,\u001b[49m\u001b[43m \u001b[49m\u001b[43mtree\u001b[49m\u001b[38;5;241;43m.\u001b[39;49m\u001b[38;5;18;43m__dict__\u001b[39;49m\u001b[43m[\u001b[49m\u001b[43mchild_name\u001b[49m\u001b[43m]\u001b[49m\u001b[43m)\u001b[49m\n\u001b[1;32m    192\u001b[0m \u001b[38;5;28;01mif\u001b[39;00m \u001b[38;5;28mhasattr\u001b[39m(listener, \u001b[38;5;124m'\u001b[39m\u001b[38;5;124mexitEvery\u001b[39m\u001b[38;5;124m'\u001b[39m):\n\u001b[1;32m    193\u001b[0m     \u001b[38;5;28mgetattr\u001b[39m(listener, \u001b[38;5;124m'\u001b[39m\u001b[38;5;124mexitEvery\u001b[39m\u001b[38;5;124m'\u001b[39m)(tree)\n",
      "File \u001b[0;32m/opt/conda/lib/python3.9/site-packages/pymoca-0.6.0-py3.9.egg/pymoca/tree.py:211\u001b[0m, in \u001b[0;36mTreeWalker.handle_walk\u001b[0;34m(self, listener, tree)\u001b[0m\n\u001b[1;32m    209\u001b[0m \u001b[38;5;28;01melif\u001b[39;00m \u001b[38;5;28misinstance\u001b[39m(tree, \u001b[38;5;28mlist\u001b[39m):\n\u001b[1;32m    210\u001b[0m     \u001b[38;5;28;01mfor\u001b[39;00m i \u001b[38;5;129;01min\u001b[39;00m \u001b[38;5;28mrange\u001b[39m(\u001b[38;5;28mlen\u001b[39m(tree)):\n\u001b[0;32m--> 211\u001b[0m         \u001b[38;5;28;43mself\u001b[39;49m\u001b[38;5;241;43m.\u001b[39;49m\u001b[43mhandle_walk\u001b[49m\u001b[43m(\u001b[49m\u001b[43mlistener\u001b[49m\u001b[43m,\u001b[49m\u001b[43m \u001b[49m\u001b[43mtree\u001b[49m\u001b[43m[\u001b[49m\u001b[43mi\u001b[49m\u001b[43m]\u001b[49m\u001b[43m)\u001b[49m\n\u001b[1;32m    212\u001b[0m \u001b[38;5;28;01melse\u001b[39;00m:\n\u001b[1;32m    213\u001b[0m     \u001b[38;5;28;01mpass\u001b[39;00m\n",
      "File \u001b[0;32m/opt/conda/lib/python3.9/site-packages/pymoca-0.6.0-py3.9.egg/pymoca/tree.py:205\u001b[0m, in \u001b[0;36mTreeWalker.handle_walk\u001b[0;34m(self, listener, tree)\u001b[0m\n\u001b[1;32m    198\u001b[0m \u001b[38;5;124;03m\"\"\"\u001b[39;00m\n\u001b[1;32m    199\u001b[0m \u001b[38;5;124;03mHandles tree walking, has to account for dictionaries and lists\u001b[39;00m\n\u001b[1;32m    200\u001b[0m \u001b[38;5;124;03m:param listener: listener that reacts to walked events\u001b[39;00m\n\u001b[1;32m    201\u001b[0m \u001b[38;5;124;03m:param tree: the tree to walk\u001b[39;00m\n\u001b[1;32m    202\u001b[0m \u001b[38;5;124;03m:return: None\u001b[39;00m\n\u001b[1;32m    203\u001b[0m \u001b[38;5;124;03m\"\"\"\u001b[39;00m\n\u001b[1;32m    204\u001b[0m \u001b[38;5;28;01mif\u001b[39;00m \u001b[38;5;28misinstance\u001b[39m(tree, ast\u001b[38;5;241m.\u001b[39mNode):\n\u001b[0;32m--> 205\u001b[0m     \u001b[38;5;28;43mself\u001b[39;49m\u001b[38;5;241;43m.\u001b[39;49m\u001b[43mwalk\u001b[49m\u001b[43m(\u001b[49m\u001b[43mlistener\u001b[49m\u001b[43m,\u001b[49m\u001b[43m \u001b[49m\u001b[43mtree\u001b[49m\u001b[43m)\u001b[49m\n\u001b[1;32m    206\u001b[0m \u001b[38;5;28;01melif\u001b[39;00m \u001b[38;5;28misinstance\u001b[39m(tree, \u001b[38;5;28mdict\u001b[39m):\n\u001b[1;32m    207\u001b[0m     \u001b[38;5;28;01mfor\u001b[39;00m k \u001b[38;5;129;01min\u001b[39;00m tree\u001b[38;5;241m.\u001b[39mkeys():\n",
      "File \u001b[0;32m/opt/conda/lib/python3.9/site-packages/pymoca-0.6.0-py3.9.egg/pymoca/tree.py:191\u001b[0m, in \u001b[0;36mTreeWalker.walk\u001b[0;34m(self, listener, tree)\u001b[0m\n\u001b[1;32m    189\u001b[0m     \u001b[38;5;28;01mif\u001b[39;00m \u001b[38;5;28mself\u001b[39m\u001b[38;5;241m.\u001b[39mskip_child(tree, child_name):\n\u001b[1;32m    190\u001b[0m         \u001b[38;5;28;01mcontinue\u001b[39;00m\n\u001b[0;32m--> 191\u001b[0m     \u001b[38;5;28;43mself\u001b[39;49m\u001b[38;5;241;43m.\u001b[39;49m\u001b[43mhandle_walk\u001b[49m\u001b[43m(\u001b[49m\u001b[43mlistener\u001b[49m\u001b[43m,\u001b[49m\u001b[43m \u001b[49m\u001b[43mtree\u001b[49m\u001b[38;5;241;43m.\u001b[39;49m\u001b[38;5;18;43m__dict__\u001b[39;49m\u001b[43m[\u001b[49m\u001b[43mchild_name\u001b[49m\u001b[43m]\u001b[49m\u001b[43m)\u001b[49m\n\u001b[1;32m    192\u001b[0m \u001b[38;5;28;01mif\u001b[39;00m \u001b[38;5;28mhasattr\u001b[39m(listener, \u001b[38;5;124m'\u001b[39m\u001b[38;5;124mexitEvery\u001b[39m\u001b[38;5;124m'\u001b[39m):\n\u001b[1;32m    193\u001b[0m     \u001b[38;5;28mgetattr\u001b[39m(listener, \u001b[38;5;124m'\u001b[39m\u001b[38;5;124mexitEvery\u001b[39m\u001b[38;5;124m'\u001b[39m)(tree)\n",
      "File \u001b[0;32m/opt/conda/lib/python3.9/site-packages/pymoca-0.6.0-py3.9.egg/pymoca/tree.py:205\u001b[0m, in \u001b[0;36mTreeWalker.handle_walk\u001b[0;34m(self, listener, tree)\u001b[0m\n\u001b[1;32m    198\u001b[0m \u001b[38;5;124;03m\"\"\"\u001b[39;00m\n\u001b[1;32m    199\u001b[0m \u001b[38;5;124;03mHandles tree walking, has to account for dictionaries and lists\u001b[39;00m\n\u001b[1;32m    200\u001b[0m \u001b[38;5;124;03m:param listener: listener that reacts to walked events\u001b[39;00m\n\u001b[1;32m    201\u001b[0m \u001b[38;5;124;03m:param tree: the tree to walk\u001b[39;00m\n\u001b[1;32m    202\u001b[0m \u001b[38;5;124;03m:return: None\u001b[39;00m\n\u001b[1;32m    203\u001b[0m \u001b[38;5;124;03m\"\"\"\u001b[39;00m\n\u001b[1;32m    204\u001b[0m \u001b[38;5;28;01mif\u001b[39;00m \u001b[38;5;28misinstance\u001b[39m(tree, ast\u001b[38;5;241m.\u001b[39mNode):\n\u001b[0;32m--> 205\u001b[0m     \u001b[38;5;28;43mself\u001b[39;49m\u001b[38;5;241;43m.\u001b[39;49m\u001b[43mwalk\u001b[49m\u001b[43m(\u001b[49m\u001b[43mlistener\u001b[49m\u001b[43m,\u001b[49m\u001b[43m \u001b[49m\u001b[43mtree\u001b[49m\u001b[43m)\u001b[49m\n\u001b[1;32m    206\u001b[0m \u001b[38;5;28;01melif\u001b[39;00m \u001b[38;5;28misinstance\u001b[39m(tree, \u001b[38;5;28mdict\u001b[39m):\n\u001b[1;32m    207\u001b[0m     \u001b[38;5;28;01mfor\u001b[39;00m k \u001b[38;5;129;01min\u001b[39;00m tree\u001b[38;5;241m.\u001b[39mkeys():\n",
      "File \u001b[0;32m/opt/conda/lib/python3.9/site-packages/pymoca-0.6.0-py3.9.egg/pymoca/tree.py:191\u001b[0m, in \u001b[0;36mTreeWalker.walk\u001b[0;34m(self, listener, tree)\u001b[0m\n\u001b[1;32m    189\u001b[0m     \u001b[38;5;28;01mif\u001b[39;00m \u001b[38;5;28mself\u001b[39m\u001b[38;5;241m.\u001b[39mskip_child(tree, child_name):\n\u001b[1;32m    190\u001b[0m         \u001b[38;5;28;01mcontinue\u001b[39;00m\n\u001b[0;32m--> 191\u001b[0m     \u001b[38;5;28;43mself\u001b[39;49m\u001b[38;5;241;43m.\u001b[39;49m\u001b[43mhandle_walk\u001b[49m\u001b[43m(\u001b[49m\u001b[43mlistener\u001b[49m\u001b[43m,\u001b[49m\u001b[43m \u001b[49m\u001b[43mtree\u001b[49m\u001b[38;5;241;43m.\u001b[39;49m\u001b[38;5;18;43m__dict__\u001b[39;49m\u001b[43m[\u001b[49m\u001b[43mchild_name\u001b[49m\u001b[43m]\u001b[49m\u001b[43m)\u001b[49m\n\u001b[1;32m    192\u001b[0m \u001b[38;5;28;01mif\u001b[39;00m \u001b[38;5;28mhasattr\u001b[39m(listener, \u001b[38;5;124m'\u001b[39m\u001b[38;5;124mexitEvery\u001b[39m\u001b[38;5;124m'\u001b[39m):\n\u001b[1;32m    193\u001b[0m     \u001b[38;5;28mgetattr\u001b[39m(listener, \u001b[38;5;124m'\u001b[39m\u001b[38;5;124mexitEvery\u001b[39m\u001b[38;5;124m'\u001b[39m)(tree)\n",
      "File \u001b[0;32m/opt/conda/lib/python3.9/site-packages/pymoca-0.6.0-py3.9.egg/pymoca/tree.py:211\u001b[0m, in \u001b[0;36mTreeWalker.handle_walk\u001b[0;34m(self, listener, tree)\u001b[0m\n\u001b[1;32m    209\u001b[0m \u001b[38;5;28;01melif\u001b[39;00m \u001b[38;5;28misinstance\u001b[39m(tree, \u001b[38;5;28mlist\u001b[39m):\n\u001b[1;32m    210\u001b[0m     \u001b[38;5;28;01mfor\u001b[39;00m i \u001b[38;5;129;01min\u001b[39;00m \u001b[38;5;28mrange\u001b[39m(\u001b[38;5;28mlen\u001b[39m(tree)):\n\u001b[0;32m--> 211\u001b[0m         \u001b[38;5;28;43mself\u001b[39;49m\u001b[38;5;241;43m.\u001b[39;49m\u001b[43mhandle_walk\u001b[49m\u001b[43m(\u001b[49m\u001b[43mlistener\u001b[49m\u001b[43m,\u001b[49m\u001b[43m \u001b[49m\u001b[43mtree\u001b[49m\u001b[43m[\u001b[49m\u001b[43mi\u001b[49m\u001b[43m]\u001b[49m\u001b[43m)\u001b[49m\n\u001b[1;32m    212\u001b[0m \u001b[38;5;28;01melse\u001b[39;00m:\n\u001b[1;32m    213\u001b[0m     \u001b[38;5;28;01mpass\u001b[39;00m\n",
      "File \u001b[0;32m/opt/conda/lib/python3.9/site-packages/pymoca-0.6.0-py3.9.egg/pymoca/tree.py:205\u001b[0m, in \u001b[0;36mTreeWalker.handle_walk\u001b[0;34m(self, listener, tree)\u001b[0m\n\u001b[1;32m    198\u001b[0m \u001b[38;5;124;03m\"\"\"\u001b[39;00m\n\u001b[1;32m    199\u001b[0m \u001b[38;5;124;03mHandles tree walking, has to account for dictionaries and lists\u001b[39;00m\n\u001b[1;32m    200\u001b[0m \u001b[38;5;124;03m:param listener: listener that reacts to walked events\u001b[39;00m\n\u001b[1;32m    201\u001b[0m \u001b[38;5;124;03m:param tree: the tree to walk\u001b[39;00m\n\u001b[1;32m    202\u001b[0m \u001b[38;5;124;03m:return: None\u001b[39;00m\n\u001b[1;32m    203\u001b[0m \u001b[38;5;124;03m\"\"\"\u001b[39;00m\n\u001b[1;32m    204\u001b[0m \u001b[38;5;28;01mif\u001b[39;00m \u001b[38;5;28misinstance\u001b[39m(tree, ast\u001b[38;5;241m.\u001b[39mNode):\n\u001b[0;32m--> 205\u001b[0m     \u001b[38;5;28;43mself\u001b[39;49m\u001b[38;5;241;43m.\u001b[39;49m\u001b[43mwalk\u001b[49m\u001b[43m(\u001b[49m\u001b[43mlistener\u001b[49m\u001b[43m,\u001b[49m\u001b[43m \u001b[49m\u001b[43mtree\u001b[49m\u001b[43m)\u001b[49m\n\u001b[1;32m    206\u001b[0m \u001b[38;5;28;01melif\u001b[39;00m \u001b[38;5;28misinstance\u001b[39m(tree, \u001b[38;5;28mdict\u001b[39m):\n\u001b[1;32m    207\u001b[0m     \u001b[38;5;28;01mfor\u001b[39;00m k \u001b[38;5;129;01min\u001b[39;00m tree\u001b[38;5;241m.\u001b[39mkeys():\n",
      "File \u001b[0;32m/opt/conda/lib/python3.9/site-packages/pymoca-0.6.0-py3.9.egg/pymoca/tree.py:191\u001b[0m, in \u001b[0;36mTreeWalker.walk\u001b[0;34m(self, listener, tree)\u001b[0m\n\u001b[1;32m    189\u001b[0m     \u001b[38;5;28;01mif\u001b[39;00m \u001b[38;5;28mself\u001b[39m\u001b[38;5;241m.\u001b[39mskip_child(tree, child_name):\n\u001b[1;32m    190\u001b[0m         \u001b[38;5;28;01mcontinue\u001b[39;00m\n\u001b[0;32m--> 191\u001b[0m     \u001b[38;5;28;43mself\u001b[39;49m\u001b[38;5;241;43m.\u001b[39;49m\u001b[43mhandle_walk\u001b[49m\u001b[43m(\u001b[49m\u001b[43mlistener\u001b[49m\u001b[43m,\u001b[49m\u001b[43m \u001b[49m\u001b[43mtree\u001b[49m\u001b[38;5;241;43m.\u001b[39;49m\u001b[38;5;18;43m__dict__\u001b[39;49m\u001b[43m[\u001b[49m\u001b[43mchild_name\u001b[49m\u001b[43m]\u001b[49m\u001b[43m)\u001b[49m\n\u001b[1;32m    192\u001b[0m \u001b[38;5;28;01mif\u001b[39;00m \u001b[38;5;28mhasattr\u001b[39m(listener, \u001b[38;5;124m'\u001b[39m\u001b[38;5;124mexitEvery\u001b[39m\u001b[38;5;124m'\u001b[39m):\n\u001b[1;32m    193\u001b[0m     \u001b[38;5;28mgetattr\u001b[39m(listener, \u001b[38;5;124m'\u001b[39m\u001b[38;5;124mexitEvery\u001b[39m\u001b[38;5;124m'\u001b[39m)(tree)\n",
      "File \u001b[0;32m/opt/conda/lib/python3.9/site-packages/pymoca-0.6.0-py3.9.egg/pymoca/tree.py:211\u001b[0m, in \u001b[0;36mTreeWalker.handle_walk\u001b[0;34m(self, listener, tree)\u001b[0m\n\u001b[1;32m    209\u001b[0m \u001b[38;5;28;01melif\u001b[39;00m \u001b[38;5;28misinstance\u001b[39m(tree, \u001b[38;5;28mlist\u001b[39m):\n\u001b[1;32m    210\u001b[0m     \u001b[38;5;28;01mfor\u001b[39;00m i \u001b[38;5;129;01min\u001b[39;00m \u001b[38;5;28mrange\u001b[39m(\u001b[38;5;28mlen\u001b[39m(tree)):\n\u001b[0;32m--> 211\u001b[0m         \u001b[38;5;28;43mself\u001b[39;49m\u001b[38;5;241;43m.\u001b[39;49m\u001b[43mhandle_walk\u001b[49m\u001b[43m(\u001b[49m\u001b[43mlistener\u001b[49m\u001b[43m,\u001b[49m\u001b[43m \u001b[49m\u001b[43mtree\u001b[49m\u001b[43m[\u001b[49m\u001b[43mi\u001b[49m\u001b[43m]\u001b[49m\u001b[43m)\u001b[49m\n\u001b[1;32m    212\u001b[0m \u001b[38;5;28;01melse\u001b[39;00m:\n\u001b[1;32m    213\u001b[0m     \u001b[38;5;28;01mpass\u001b[39;00m\n",
      "File \u001b[0;32m/opt/conda/lib/python3.9/site-packages/pymoca-0.6.0-py3.9.egg/pymoca/tree.py:205\u001b[0m, in \u001b[0;36mTreeWalker.handle_walk\u001b[0;34m(self, listener, tree)\u001b[0m\n\u001b[1;32m    198\u001b[0m \u001b[38;5;124;03m\"\"\"\u001b[39;00m\n\u001b[1;32m    199\u001b[0m \u001b[38;5;124;03mHandles tree walking, has to account for dictionaries and lists\u001b[39;00m\n\u001b[1;32m    200\u001b[0m \u001b[38;5;124;03m:param listener: listener that reacts to walked events\u001b[39;00m\n\u001b[1;32m    201\u001b[0m \u001b[38;5;124;03m:param tree: the tree to walk\u001b[39;00m\n\u001b[1;32m    202\u001b[0m \u001b[38;5;124;03m:return: None\u001b[39;00m\n\u001b[1;32m    203\u001b[0m \u001b[38;5;124;03m\"\"\"\u001b[39;00m\n\u001b[1;32m    204\u001b[0m \u001b[38;5;28;01mif\u001b[39;00m \u001b[38;5;28misinstance\u001b[39m(tree, ast\u001b[38;5;241m.\u001b[39mNode):\n\u001b[0;32m--> 205\u001b[0m     \u001b[38;5;28;43mself\u001b[39;49m\u001b[38;5;241;43m.\u001b[39;49m\u001b[43mwalk\u001b[49m\u001b[43m(\u001b[49m\u001b[43mlistener\u001b[49m\u001b[43m,\u001b[49m\u001b[43m \u001b[49m\u001b[43mtree\u001b[49m\u001b[43m)\u001b[49m\n\u001b[1;32m    206\u001b[0m \u001b[38;5;28;01melif\u001b[39;00m \u001b[38;5;28misinstance\u001b[39m(tree, \u001b[38;5;28mdict\u001b[39m):\n\u001b[1;32m    207\u001b[0m     \u001b[38;5;28;01mfor\u001b[39;00m k \u001b[38;5;129;01min\u001b[39;00m tree\u001b[38;5;241m.\u001b[39mkeys():\n",
      "File \u001b[0;32m/opt/conda/lib/python3.9/site-packages/pymoca-0.6.0-py3.9.egg/pymoca/tree.py:195\u001b[0m, in \u001b[0;36mTreeWalker.walk\u001b[0;34m(self, listener, tree)\u001b[0m\n\u001b[1;32m    193\u001b[0m     \u001b[38;5;28mgetattr\u001b[39m(listener, \u001b[38;5;124m'\u001b[39m\u001b[38;5;124mexitEvery\u001b[39m\u001b[38;5;124m'\u001b[39m)(tree)\n\u001b[1;32m    194\u001b[0m \u001b[38;5;28;01mif\u001b[39;00m \u001b[38;5;28mhasattr\u001b[39m(listener, \u001b[38;5;124m'\u001b[39m\u001b[38;5;124mexit\u001b[39m\u001b[38;5;124m'\u001b[39m \u001b[38;5;241m+\u001b[39m name):\n\u001b[0;32m--> 195\u001b[0m     \u001b[38;5;28;43mgetattr\u001b[39;49m\u001b[43m(\u001b[49m\u001b[43mlistener\u001b[49m\u001b[43m,\u001b[49m\u001b[43m \u001b[49m\u001b[38;5;124;43m'\u001b[39;49m\u001b[38;5;124;43mexit\u001b[39;49m\u001b[38;5;124;43m'\u001b[39;49m\u001b[43m \u001b[49m\u001b[38;5;241;43m+\u001b[39;49m\u001b[43m \u001b[49m\u001b[43mname\u001b[49m\u001b[43m)\u001b[49m\u001b[43m(\u001b[49m\u001b[43mtree\u001b[49m\u001b[43m)\u001b[49m\n",
      "File \u001b[0;32m/opt/conda/lib/python3.9/site-packages/pymoca-0.6.0-py3.9.egg/pymoca/backends/casadi/generator.py:362\u001b[0m, in \u001b[0;36mGenerator.exitExpression\u001b[0;34m(self, tree)\u001b[0m\n\u001b[1;32m    360\u001b[0m             src \u001b[38;5;241m=\u001b[39m lhs_op(rhs)\n\u001b[1;32m    361\u001b[0m     \u001b[38;5;28;01melse\u001b[39;00m:\n\u001b[0;32m--> 362\u001b[0m         func \u001b[38;5;241m=\u001b[39m \u001b[38;5;28;43mself\u001b[39;49m\u001b[38;5;241;43m.\u001b[39;49m\u001b[43mget_function\u001b[49m\u001b[43m(\u001b[49m\u001b[43mop\u001b[49m\u001b[43m)\u001b[49m\n\u001b[1;32m    363\u001b[0m         src \u001b[38;5;241m=\u001b[39m ca\u001b[38;5;241m.\u001b[39mvertcat(\u001b[38;5;241m*\u001b[39mfunc\u001b[38;5;241m.\u001b[39mcall([\u001b[38;5;28mself\u001b[39m\u001b[38;5;241m.\u001b[39mget_mx(operand) \u001b[38;5;28;01mfor\u001b[39;00m operand \u001b[38;5;129;01min\u001b[39;00m tree\u001b[38;5;241m.\u001b[39moperands], \u001b[38;5;241m*\u001b[39m\u001b[38;5;28mself\u001b[39m\u001b[38;5;241m.\u001b[39mfunction_mode))\n\u001b[1;32m    365\u001b[0m \u001b[38;5;28mself\u001b[39m\u001b[38;5;241m.\u001b[39msrc[tree] \u001b[38;5;241m=\u001b[39m src\n",
      "File \u001b[0;32m/opt/conda/lib/python3.9/site-packages/pymoca-0.6.0-py3.9.egg/pymoca/backends/casadi/generator.py:914\u001b[0m, in \u001b[0;36mGenerator.get_function\u001b[0;34m(self, function_name)\u001b[0m\n\u001b[1;32m    911\u001b[0m     \u001b[38;5;28;01mfor\u001b[39;00m assignment \u001b[38;5;129;01min\u001b[39;00m src:\n\u001b[1;32m    912\u001b[0m         [values[assignment\u001b[38;5;241m.\u001b[39mleft]] \u001b[38;5;241m=\u001b[39m ca\u001b[38;5;241m.\u001b[39msubstitute([assignment\u001b[38;5;241m.\u001b[39mright], \u001b[38;5;28mlist\u001b[39m(values\u001b[38;5;241m.\u001b[39mkeys()), \u001b[38;5;28mlist\u001b[39m(values\u001b[38;5;241m.\u001b[39mvalues()))\n\u001b[0;32m--> 914\u001b[0m output_expr \u001b[38;5;241m=\u001b[39m ca\u001b[38;5;241m.\u001b[39msubstitute([values[output] \u001b[38;5;28;01mfor\u001b[39;00m output \u001b[38;5;129;01min\u001b[39;00m outputs], tmp, [values[t] \u001b[38;5;28;01mfor\u001b[39;00m t \u001b[38;5;129;01min\u001b[39;00m tmp])\n\u001b[1;32m    915\u001b[0m func \u001b[38;5;241m=\u001b[39m ca\u001b[38;5;241m.\u001b[39mFunction(tree\u001b[38;5;241m.\u001b[39mname, inputs, output_expr)\n\u001b[1;32m    916\u001b[0m \u001b[38;5;28mself\u001b[39m\u001b[38;5;241m.\u001b[39mfunctions[function_name] \u001b[38;5;241m=\u001b[39m func\n",
      "File \u001b[0;32m/opt/conda/lib/python3.9/site-packages/pymoca-0.6.0-py3.9.egg/pymoca/backends/casadi/generator.py:914\u001b[0m, in \u001b[0;36m<listcomp>\u001b[0;34m(.0)\u001b[0m\n\u001b[1;32m    911\u001b[0m     \u001b[38;5;28;01mfor\u001b[39;00m assignment \u001b[38;5;129;01min\u001b[39;00m src:\n\u001b[1;32m    912\u001b[0m         [values[assignment\u001b[38;5;241m.\u001b[39mleft]] \u001b[38;5;241m=\u001b[39m ca\u001b[38;5;241m.\u001b[39msubstitute([assignment\u001b[38;5;241m.\u001b[39mright], \u001b[38;5;28mlist\u001b[39m(values\u001b[38;5;241m.\u001b[39mkeys()), \u001b[38;5;28mlist\u001b[39m(values\u001b[38;5;241m.\u001b[39mvalues()))\n\u001b[0;32m--> 914\u001b[0m output_expr \u001b[38;5;241m=\u001b[39m ca\u001b[38;5;241m.\u001b[39msubstitute([values[output] \u001b[38;5;28;01mfor\u001b[39;00m output \u001b[38;5;129;01min\u001b[39;00m outputs], tmp, [\u001b[43mvalues\u001b[49m\u001b[43m[\u001b[49m\u001b[43mt\u001b[49m\u001b[43m]\u001b[49m \u001b[38;5;28;01mfor\u001b[39;00m t \u001b[38;5;129;01min\u001b[39;00m tmp])\n\u001b[1;32m    915\u001b[0m func \u001b[38;5;241m=\u001b[39m ca\u001b[38;5;241m.\u001b[39mFunction(tree\u001b[38;5;241m.\u001b[39mname, inputs, output_expr)\n\u001b[1;32m    916\u001b[0m \u001b[38;5;28mself\u001b[39m\u001b[38;5;241m.\u001b[39mfunctions[function_name] \u001b[38;5;241m=\u001b[39m func\n",
      "\u001b[0;31mKeyError\u001b[0m: MX(C_0)"
     ]
    }
   ],
   "source": [
    "model = transfer_model('./', 'InfiniteWell', {})"
   ]
  },
  {
   "cell_type": "code",
   "execution_count": 45,
   "id": "28b070bc-5bcd-4bfd-a89b-e9af0b774b7a",
   "metadata": {},
   "outputs": [],
   "source": [
    "x0 = model.states[0].start"
   ]
  },
  {
   "cell_type": "code",
   "execution_count": 32,
   "id": "8081517c-c9e4-41f0-a65b-f89415a78b3b",
   "metadata": {},
   "outputs": [],
   "source": [
    "n = 10"
   ]
  },
  {
   "cell_type": "code",
   "execution_count": 25,
   "id": "50246e1b-2d63-41e6-9651-d2c448b9e203",
   "metadata": {},
   "outputs": [],
   "source": [
    "dx = 0.1"
   ]
  },
  {
   "cell_type": "code",
   "execution_count": 33,
   "id": "b4f81b5b-cd5d-4f6d-b86d-4208ed3fbe9a",
   "metadata": {},
   "outputs": [],
   "source": [
    "x = ca.MX.sym('X', n)"
   ]
  },
  {
   "cell_type": "code",
   "execution_count": 34,
   "id": "3e2b23da-95af-47d1-88d7-0c62d0d71505",
   "metadata": {},
   "outputs": [],
   "source": [
    "lower_bound_X = np.full(n, -np.inf)"
   ]
  },
  {
   "cell_type": "code",
   "execution_count": 35,
   "id": "1ec77afd-8df2-430b-8767-02b459c06e30",
   "metadata": {},
   "outputs": [],
   "source": [
    "upper_bound = np.full(n, np.inf)"
   ]
  },
  {
   "cell_type": "code",
   "execution_count": 36,
   "id": "125631ab-17eb-4299-ae3c-44a74b8a9cbf",
   "metadata": {},
   "outputs": [
    {
     "data": {
      "text/plain": [
       "['__class__',\n",
       " '__delattr__',\n",
       " '__dict__',\n",
       " '__dir__',\n",
       " '__doc__',\n",
       " '__eq__',\n",
       " '__format__',\n",
       " '__ge__',\n",
       " '__getattribute__',\n",
       " '__gt__',\n",
       " '__hash__',\n",
       " '__init__',\n",
       " '__init_subclass__',\n",
       " '__le__',\n",
       " '__lt__',\n",
       " '__module__',\n",
       " '__ne__',\n",
       " '__new__',\n",
       " '__reduce__',\n",
       " '__reduce_ex__',\n",
       " '__repr__',\n",
       " '__setattr__',\n",
       " '__sizeof__',\n",
       " '__str__',\n",
       " '__subclasshook__',\n",
       " '__weakref__',\n",
       " '_expand_mx_func',\n",
       " '_expand_simplify_mx',\n",
       " '_expand_vectors',\n",
       " '_post_checks',\n",
       " '_substitute_delay_arguments',\n",
       " '_substitute_metadata',\n",
       " '_symbols',\n",
       " 'alg_states',\n",
       " 'alias_relation',\n",
       " 'check_balanced',\n",
       " 'constants',\n",
       " 'dae_residual_function',\n",
       " 'delay_arguments',\n",
       " 'delay_arguments_function',\n",
       " 'delay_states',\n",
       " 'der_states',\n",
       " 'equations',\n",
       " 'initial_equations',\n",
       " 'initial_residual_function',\n",
       " 'inputs',\n",
       " 'outputs',\n",
       " 'parameters',\n",
       " 'simplify',\n",
       " 'states',\n",
       " 'time',\n",
       " 'variable_metadata_function']"
      ]
     },
     "execution_count": 36,
     "metadata": {},
     "output_type": "execute_result"
    }
   ],
   "source": [
    "dir( model )"
   ]
  },
  {
   "cell_type": "code",
   "execution_count": 43,
   "id": "a8d3edd2-5434-427a-a3c3-bfd607290354",
   "metadata": {},
   "outputs": [
    {
     "data": {
      "text/plain": [
       "[]"
      ]
     },
     "execution_count": 43,
     "metadata": {},
     "output_type": "execute_result"
    }
   ],
   "source": [
    "model.initial_equations"
   ]
  },
  {
   "cell_type": "code",
   "execution_count": null,
   "id": "1a0422f6-73f3-47f6-8825-0d9efa498a4f",
   "metadata": {},
   "outputs": [],
   "source": []
  }
 ],
 "metadata": {
  "kernelspec": {
   "display_name": "Python 3 (ipykernel)",
   "language": "python",
   "name": "python3"
  },
  "language_info": {
   "codemirror_mode": {
    "name": "ipython",
    "version": 3
   },
   "file_extension": ".py",
   "mimetype": "text/x-python",
   "name": "python",
   "nbconvert_exporter": "python",
   "pygments_lexer": "ipython3",
   "version": "3.9.10"
  }
 },
 "nbformat": 4,
 "nbformat_minor": 5
}
