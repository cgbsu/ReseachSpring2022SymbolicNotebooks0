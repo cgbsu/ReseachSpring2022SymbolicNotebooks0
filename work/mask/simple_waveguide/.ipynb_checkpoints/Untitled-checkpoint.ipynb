{
 "cells": [
  {
   "cell_type": "code",
   "execution_count": 4,
   "id": "ebd3574d-69ce-4fc3-bcc5-07ceaafd0757",
   "metadata": {},
   "outputs": [],
   "source": [
    "import simple_waveguide as sketch"
   ]
  },
  {
   "cell_type": "code",
   "execution_count": 5,
   "id": "c613177c-9c7f-4342-b40f-13e7d5205ce5",
   "metadata": {},
   "outputs": [
    {
     "ename": "AttributeError",
     "evalue": "module 'simple_waveguide' has no attribute 'main'",
     "output_type": "error",
     "traceback": [
      "\u001b[0;31m---------------------------------------------------------------------------\u001b[0m",
      "\u001b[0;31mAttributeError\u001b[0m                            Traceback (most recent call last)",
      "Cell \u001b[0;32mIn[5], line 1\u001b[0m\n\u001b[0;32m----> 1\u001b[0m \u001b[43msketch\u001b[49m\u001b[38;5;241;43m.\u001b[39;49m\u001b[43mmain\u001b[49m()\n",
      "\u001b[0;31mAttributeError\u001b[0m: module 'simple_waveguide' has no attribute 'main'"
     ]
    }
   ],
   "source": [
    "sketch.main()"
   ]
  },
  {
   "cell_type": "code",
   "execution_count": null,
   "id": "3fc7b9d0-e054-40a2-9c5e-5034d21dcd5b",
   "metadata": {},
   "outputs": [],
   "source": []
  }
 ],
 "metadata": {
  "kernelspec": {
   "display_name": "Python 3 (ipykernel)",
   "language": "python",
   "name": "python3"
  },
  "language_info": {
   "codemirror_mode": {
    "name": "ipython",
    "version": 3
   },
   "file_extension": ".py",
   "mimetype": "text/x-python",
   "name": "python",
   "nbconvert_exporter": "python",
   "pygments_lexer": "ipython3",
   "version": "3.10.5"
  }
 },
 "nbformat": 4,
 "nbformat_minor": 5
}
