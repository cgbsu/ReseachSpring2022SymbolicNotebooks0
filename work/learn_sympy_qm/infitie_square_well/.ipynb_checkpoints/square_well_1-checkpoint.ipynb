{
 "cells": [
  {
   "cell_type": "code",
   "execution_count": 88,
   "id": "cec2844e-c16d-44f3-bda9-c04437af9503",
   "metadata": {},
   "outputs": [],
   "source": [
    "import sympy as sp"
   ]
  },
  {
   "cell_type": "code",
   "execution_count": 89,
   "id": "e9705336-a739-4879-a0eb-7c6cdf354391",
   "metadata": {},
   "outputs": [],
   "source": [
    "import matplotlib.pyplot as plt"
   ]
  },
  {
   "cell_type": "code",
   "execution_count": 90,
   "id": "791287db-a473-4e85-b891-17f3bd56c868",
   "metadata": {},
   "outputs": [],
   "source": [
    "import numpy as np"
   ]
  },
  {
   "cell_type": "code",
   "execution_count": 91,
   "id": "f550f94e-c4fb-4f29-9c25-9c8e09842463",
   "metadata": {},
   "outputs": [],
   "source": [
    "import unicodedata as ud"
   ]
  },
  {
   "cell_type": "code",
   "execution_count": 92,
   "id": "b96f5070-7033-48e3-808a-5681aaae32f0",
   "metadata": {},
   "outputs": [],
   "source": [
    "from sympy.solvers.solveset import linsolve"
   ]
  },
  {
   "cell_type": "code",
   "execution_count": 93,
   "id": "67f61d89-2d32-47fa-9a89-2eddda25bdc3",
   "metadata": {},
   "outputs": [],
   "source": [
    "import sympy.solvers"
   ]
  },
  {
   "cell_type": "code",
   "execution_count": 94,
   "id": "f131c51c-0fc1-4757-9603-3207de3d34e8",
   "metadata": {},
   "outputs": [],
   "source": [
    "import sympy.physics.units.quantities as sq"
   ]
  },
  {
   "cell_type": "code",
   "execution_count": null,
   "id": "9ab89c0e-e740-4a46-8673-03ed0f53013b",
   "metadata": {},
   "outputs": [],
   "source": []
  },
  {
   "cell_type": "code",
   "execution_count": 131,
   "id": "1569a041-29a4-4dbc-bfc1-524d6ec86112",
   "metadata": {},
   "outputs": [],
   "source": [
    "well_length = sq.Quantity( 'L' )\n",
    "highest_potential = sq.Quantity( \"V_max\" )\n",
    "x = sp.Symbol( 'x' )\n",
    "m = sq.Quantity( 'm' )\n",
    "hbar = sq.Quantity( \"hbar\" )\n",
    "total_energy = sq.Quantity( 'E' )\n",
    "inverse_total_energy = 1.0 / total_energy\n",
    "psi_symbol = ud.lookup( \"GREEK SMALL LETTER PSI\" )\n",
    "psi = sp.Function( \"psi\" )\n",
    "normalization_constant = sp.Symbol( 'A' )"
   ]
  },
  {
   "cell_type": "code",
   "execution_count": null,
   "id": "55a390af-304b-4448-b960-d9e99b9e54ca",
   "metadata": {},
   "outputs": [],
   "source": []
  },
  {
   "cell_type": "code",
   "execution_count": 96,
   "id": "dd92beaf-c2bf-49c5-8385-a0702196333e",
   "metadata": {},
   "outputs": [],
   "source": [
    "potential_energy = sp.Piecewise( ( highest_potential, x <= 0 ), ( 0, x < well_length ), ( highest_potential, x >= well_length ) )"
   ]
  },
  {
   "cell_type": "code",
   "execution_count": 97,
   "id": "f1cb60a0-f3fe-42fc-afea-fa05ce63673b",
   "metadata": {},
   "outputs": [],
   "source": [
    "second_derivative = sp.Derivative( psi( x ), x, 2 )\n",
    "make_shrodinger_left = lambda potential, psi_parameter : ( second_derivative + ( psi( psi_parameter ) * potential ) )\n",
    "make_shrodinger_right = lambda psi_parameter : total_energy * psi( psi_parameter )\n",
    "make_psi_equal = lambda input_value, value : sp.Eq( psi( sp.Eq( x, input_value ) ), value )\n",
    "set_equal = lambda to_set, value : sp.Eq( to_set, value )"
   ]
  },
  {
   "cell_type": "code",
   "execution_count": 98,
   "id": "eb69bc9d-f601-4c88-8605-c3c775fcde0d",
   "metadata": {},
   "outputs": [],
   "source": [
    "shrodinger_left_high = sp.simplify( make_shrodinger_left( highest_potential, x ) )"
   ]
  },
  {
   "cell_type": "code",
   "execution_count": 99,
   "id": "860083c4-324f-4e35-a8eb-fb301c418c0a",
   "metadata": {},
   "outputs": [],
   "source": [
    "shrodinger_left_low = sp.simplify( make_shrodinger_left( 0, x ) )"
   ]
  },
  {
   "cell_type": "code",
   "execution_count": 100,
   "id": "c662b50e-cde8-4eb9-9b40-0722bb0a3cdc",
   "metadata": {},
   "outputs": [],
   "source": [
    "shrodinger_left = sp.simplify( make_shrodinger_left( potential_energy, x ) )"
   ]
  },
  {
   "cell_type": "code",
   "execution_count": 101,
   "id": "c9dbccaf-ca7f-41dc-8489-978f018f06eb",
   "metadata": {},
   "outputs": [],
   "source": [
    "shrodinger_right = make_shrodinger_right( x )"
   ]
  },
  {
   "cell_type": "code",
   "execution_count": 102,
   "id": "dd1e3d4c-c71c-4853-8130-b256024f69da",
   "metadata": {},
   "outputs": [],
   "source": [
    "shrodinger = sp.simplify( sp.Eq( shrodinger_left, shrodinger_right ) )"
   ]
  },
  {
   "cell_type": "code",
   "execution_count": null,
   "id": "e8588b55-d51a-49e7-9bc6-f9c60083ec88",
   "metadata": {},
   "outputs": [],
   "source": []
  },
  {
   "cell_type": "code",
   "execution_count": 103,
   "id": "c67d3a28-28a8-4c81-88fd-1d8ccc02f3d5",
   "metadata": {},
   "outputs": [],
   "source": [
    "shrodinger_zero = sp.simplify( sp.Eq( shrodinger_left - shrodinger_right, 0 ) )"
   ]
  },
  {
   "cell_type": "code",
   "execution_count": 104,
   "id": "4010b6ef-4ee5-47ef-8989-ecc93d894290",
   "metadata": {},
   "outputs": [
    {
     "data": {
      "text/latex": [
       "$\\displaystyle \\begin{cases} - \\psi{\\left(x \\right)} \\text{E} + \\psi{\\left(x \\right)} \\text{V_max} + \\frac{d^{2}}{d x^{2}} \\psi{\\left(x \\right)} & \\text{for}\\: x \\leq 0 \\\\- \\psi{\\left(x \\right)} \\text{E} + \\frac{d^{2}}{d x^{2}} \\psi{\\left(x \\right)} & \\text{for}\\: x < \\text{L} \\\\- \\psi{\\left(x \\right)} \\text{E} + \\psi{\\left(x \\right)} \\text{V_max} + \\frac{d^{2}}{d x^{2}} \\psi{\\left(x \\right)} & \\text{otherwise} \\end{cases} = 0$"
      ],
      "text/plain": [
       "Eq(Piecewise((-E*psi(x) + V_max*psi(x) + Derivative(psi(x), (x, 2)), x <= 0), (-E*psi(x) + Derivative(psi(x), (x, 2)), x < L), (-E*psi(x) + V_max*psi(x) + Derivative(psi(x), (x, 2)), True)), 0)"
      ]
     },
     "execution_count": 104,
     "metadata": {},
     "output_type": "execute_result"
    }
   ],
   "source": [
    "shrodinger_zero"
   ]
  },
  {
   "cell_type": "code",
   "execution_count": 105,
   "id": "314bb361-3575-44ad-8ac6-d299f0f575fc",
   "metadata": {},
   "outputs": [],
   "source": [
    "physical_contraints = sp.simplify( sp.Eq( make_psi_equal( well_length, 0 ), make_psi_equal( 0, 0 ) ) )"
   ]
  },
  {
   "cell_type": "code",
   "execution_count": 106,
   "id": "3857e1c4-31ea-41b2-b4e9-2e5e4296c2a5",
   "metadata": {},
   "outputs": [
    {
     "data": {
      "text/latex": [
       "$\\displaystyle \\psi{\\left(x = \\text{L} \\right)} = 0 = \\psi{\\left(x = 0 \\right)} = 0$"
      ],
      "text/plain": [
       "Eq(Eq(psi(Eq(x, L)), 0), Eq(psi(Eq(x, 0)), 0))"
      ]
     },
     "execution_count": 106,
     "metadata": {},
     "output_type": "execute_result"
    }
   ],
   "source": [
    "physical_contraints"
   ]
  },
  {
   "cell_type": "code",
   "execution_count": 107,
   "id": "3ad1b7c0-6ffc-4849-bd94-f67c3e7b48f4",
   "metadata": {},
   "outputs": [],
   "source": [
    "normalization = sp.Eq( sp.integrate( psi( x ) * sp.conjugate( psi( x ) ), ( x, 0, well_length ) ), 1 )"
   ]
  },
  {
   "cell_type": "code",
   "execution_count": 108,
   "id": "2b5cd2e2-ff69-4b15-9b8d-5e387696dfeb",
   "metadata": {},
   "outputs": [
    {
     "data": {
      "text/latex": [
       "$\\displaystyle \\int\\limits_{0}^{\\text{L}} \\psi{\\left(x \\right)} \\overline{\\psi{\\left(x \\right)}}\\, dx = 1$"
      ],
      "text/plain": [
       "Eq(Integral(psi(x)*conjugate(psi(x)), (x, 0, L)), 1)"
      ]
     },
     "execution_count": 108,
     "metadata": {},
     "output_type": "execute_result"
    }
   ],
   "source": [
    "normalization"
   ]
  },
  {
   "cell_type": "code",
   "execution_count": 109,
   "id": "df53a9cd-e76c-41e7-b8f4-e0899113ce65",
   "metadata": {},
   "outputs": [],
   "source": [
    "well_equations = [ \n",
    "    normalization, \n",
    "    shrodinger_zero, \n",
    "    physical_contraints \n",
    "]"
   ]
  },
  {
   "cell_type": "code",
   "execution_count": 110,
   "id": "fd94027e-be64-450d-85c0-d314028e0db0",
   "metadata": {},
   "outputs": [
    {
     "data": {
      "text/plain": [
       "[]"
      ]
     },
     "execution_count": 110,
     "metadata": {},
     "output_type": "execute_result"
    }
   ],
   "source": [
    "sp.solve( well_equations, psi( x ) )"
   ]
  },
  {
   "cell_type": "code",
   "execution_count": 111,
   "id": "16ceb468-03ce-46ef-8e73-b946af8b1fed",
   "metadata": {},
   "outputs": [],
   "source": [
    "high_diff = sp.simplify( set_equal( shrodinger_left_high - shrodinger_right, 0 ) )"
   ]
  },
  {
   "cell_type": "code",
   "execution_count": 112,
   "id": "2089eec3-af77-42fe-9dcb-81e35dcc9c45",
   "metadata": {},
   "outputs": [],
   "source": [
    "low_diff = sp.simplify( set_equal( shrodinger_left_low - shrodinger_right, 0 ) )"
   ]
  },
  {
   "cell_type": "code",
   "execution_count": null,
   "id": "266a47ef-113a-463c-8643-83f654440527",
   "metadata": {},
   "outputs": [],
   "source": []
  },
  {
   "cell_type": "code",
   "execution_count": 114,
   "id": "fa666e8b-69c3-48d1-b5e8-c3bc581cb6c3",
   "metadata": {},
   "outputs": [],
   "source": [
    "psi_high = sp.solvers.ode.dsolve( high_diff, 0 )"
   ]
  },
  {
   "cell_type": "code",
   "execution_count": 115,
   "id": "4db8f530-ecd8-486a-81a5-f69a88a6650d",
   "metadata": {},
   "outputs": [
    {
     "data": {
      "text/latex": [
       "$\\displaystyle \\psi{\\left(x \\right)} = C_{1} e^{- x \\sqrt{\\text{E} - \\text{V_max}}} + C_{2} e^{x \\sqrt{\\text{E} - \\text{V_max}}}$"
      ],
      "text/plain": [
       "Eq(psi(x), C1*exp(-x*sqrt(E - V_max)) + C2*exp(x*sqrt(E - V_max)))"
      ]
     },
     "execution_count": 115,
     "metadata": {},
     "output_type": "execute_result"
    }
   ],
   "source": [
    "psi_high"
   ]
  },
  {
   "cell_type": "code",
   "execution_count": 132,
   "id": "a3cee516-4f64-4c54-9882-64491d997d50",
   "metadata": {},
   "outputs": [],
   "source": [
    "c_2 = sp.Symbol( \"C2\" )\n",
    "c_1 = sp.Symbol( \"C1\" ) \n",
    "psi_high = psi_high.subs( c_2, c_1 )\n",
    "psi_high = psi_high.subs( c_1, normalization_constant )"
   ]
  },
  {
   "cell_type": "code",
   "execution_count": 133,
   "id": "97957dd5-766a-48f9-8306-7bac4f09c0e9",
   "metadata": {},
   "outputs": [
    {
     "data": {
      "text/latex": [
       "$\\displaystyle \\psi{\\left(x \\right)} = A e^{x \\sqrt{\\text{E} - \\text{V_max}}} + A e^{- x \\sqrt{\\text{E} - \\text{V_max}}}$"
      ],
      "text/plain": [
       "Eq(psi(x), A*exp(x*sqrt(E - V_max)) + A*exp(-x*sqrt(E - V_max)))"
      ]
     },
     "execution_count": 133,
     "metadata": {},
     "output_type": "execute_result"
    }
   ],
   "source": [
    "psi_high"
   ]
  },
  {
   "cell_type": "code",
   "execution_count": 116,
   "id": "d9003211-9124-4c97-aa89-446f4f741b2c",
   "metadata": {},
   "outputs": [],
   "source": [
    "psi_low = sp.solvers.ode.dsolve( low_diff, 0 )"
   ]
  },
  {
   "cell_type": "code",
   "execution_count": 117,
   "id": "baeaa874-b1ac-4f7d-9395-b3a563ceb421",
   "metadata": {},
   "outputs": [
    {
     "data": {
      "text/latex": [
       "$\\displaystyle \\psi{\\left(x \\right)} = C_{1} e^{- x \\sqrt{\\text{E}}} + C_{2} e^{x \\sqrt{\\text{E}}}$"
      ],
      "text/plain": [
       "Eq(psi(x), C1*exp(-sqrt(E)*x) + C2*exp(sqrt(E)*x))"
      ]
     },
     "execution_count": 117,
     "metadata": {},
     "output_type": "execute_result"
    }
   ],
   "source": [
    "psi_low"
   ]
  },
  {
   "cell_type": "code",
   "execution_count": 134,
   "id": "19e0ed16-9acc-497e-8420-292bc4af955e",
   "metadata": {},
   "outputs": [],
   "source": [
    "psi_low = psi_low.subs( c_2, c_1 )\n",
    "psi_low = psi_low.subs( c_1, normalization_constant )"
   ]
  },
  {
   "cell_type": "code",
   "execution_count": 135,
   "id": "2c35461a-f44e-4cb5-b675-b84233a4810a",
   "metadata": {},
   "outputs": [
    {
     "data": {
      "text/latex": [
       "$\\displaystyle \\psi{\\left(x \\right)} = A e^{x \\sqrt{\\text{E}}} + A e^{- x \\sqrt{\\text{E}}}$"
      ],
      "text/plain": [
       "Eq(psi(x), A*exp(sqrt(E)*x) + A*exp(-sqrt(E)*x))"
      ]
     },
     "execution_count": 135,
     "metadata": {},
     "output_type": "execute_result"
    }
   ],
   "source": [
    "psi_low"
   ]
  },
  {
   "cell_type": "code",
   "execution_count": 136,
   "id": "4b6b4192-1138-4700-8df3-d42c13c77bc2",
   "metadata": {},
   "outputs": [],
   "source": [
    "well_equations = [ \n",
    "    normalization, \n",
    "    psi_high, \n",
    "    psi_low, \n",
    "    physical_contraints \n",
    "]"
   ]
  },
  {
   "cell_type": "code",
   "execution_count": null,
   "id": "0562e520-7295-4430-9d02-5fac18987f15",
   "metadata": {},
   "outputs": [],
   "source": []
  },
  {
   "cell_type": "code",
   "execution_count": 137,
   "id": "f00ba125-72bc-479c-be7a-149e6fb60a15",
   "metadata": {},
   "outputs": [
    {
     "ename": "SyntaxError",
     "evalue": "unexpected EOF while parsing (2465175021.py, line 1)",
     "output_type": "error",
     "traceback": [
      "\u001b[0;36m  Input \u001b[0;32mIn [137]\u001b[0;36m\u001b[0m\n\u001b[0;31m    sp.solveset( well_equations\u001b[0m\n\u001b[0m                               ^\u001b[0m\n\u001b[0;31mSyntaxError\u001b[0m\u001b[0;31m:\u001b[0m unexpected EOF while parsing\n"
     ]
    }
   ],
   "source": [
    "sp.solveset( well_equations"
   ]
  },
  {
   "cell_type": "code",
   "execution_count": 138,
   "id": "892cca14-ee89-42f1-b0b2-f658df820ea9",
   "metadata": {},
   "outputs": [
    {
     "name": "stdout",
     "output_type": "stream",
     "text": [
      "L                 \n",
      "⌠                 \n",
      "⎮      ____       \n",
      "⎮ ψ(x)⋅ψ(x) dx = 1\n",
      "⌡                 \n",
      "0                 \n",
      "\n",
      " ──────────────────────────────────────────────────────────────────────────────── \n",
      "\n",
      "              ___________           ___________\n",
      "          x⋅╲╱ E - V_max       -x⋅╲╱ E - V_max \n",
      "ψ(x) = A⋅ℯ                + A⋅ℯ                \n",
      "\n",
      " ──────────────────────────────────────────────────────────────────────────────── \n",
      "\n",
      "          x⋅√E      -x⋅√E\n",
      "ψ(x) = A⋅ℯ     + A⋅ℯ     \n",
      "\n",
      " ──────────────────────────────────────────────────────────────────────────────── \n",
      "\n",
      "ψ(x = L) = 0 = ψ(x = 0) = 0\n",
      "\n",
      " ──────────────────────────────────────────────────────────────────────────────── \n",
      "\n"
     ]
    }
   ],
   "source": [
    " for i in well_equations: \n",
    "    sp.pprint( i, use_unicode = True )\n",
    "    print( '\\n', '\\u2500' * 80, '\\n' )"
   ]
  },
  {
   "cell_type": "code",
   "execution_count": 151,
   "id": "36f7e9e9-f258-490d-bed5-48187128efa7",
   "metadata": {},
   "outputs": [],
   "source": [
    "psi_high_cos_form = normalization_constant * sp.cos( x * sp.sqrt( total_energy - highest_potential ) )"
   ]
  },
  {
   "cell_type": "code",
   "execution_count": 152,
   "id": "ac63d74d-e71f-4f9b-b8d1-130df0b27f1b",
   "metadata": {},
   "outputs": [
    {
     "data": {
      "text/latex": [
       "$\\displaystyle A \\cos{\\left(x \\sqrt{\\text{E} - \\text{V_max}} \\right)}$"
      ],
      "text/plain": [
       "A*cos(x*sqrt(E - V_max))"
      ]
     },
     "execution_count": 152,
     "metadata": {},
     "output_type": "execute_result"
    }
   ],
   "source": [
    "psi_high_cos_form"
   ]
  },
  {
   "cell_type": "code",
   "execution_count": 159,
   "id": "3a685ace-6c88-4756-8cfc-caf52d0186c8",
   "metadata": {},
   "outputs": [
    {
     "data": {
      "text/latex": [
       "$\\displaystyle A \\cos{\\left(x \\sqrt{\\text{E} - \\text{V_max}} \\right)} = A e^{x \\sqrt{\\text{E} - \\text{V_max}}} + A e^{- x \\sqrt{\\text{E} - \\text{V_max}}}$"
      ],
      "text/plain": [
       "Eq(A*cos(x*sqrt(E - V_max)), A*exp(x*sqrt(E - V_max)) + A*exp(-x*sqrt(E - V_max)))"
      ]
     },
     "execution_count": 159,
     "metadata": {},
     "output_type": "execute_result"
    }
   ],
   "source": [
    "sp.Eq( psi_high_cos_form, psi_high.rhs )"
   ]
  },
  {
   "cell_type": "code",
   "execution_count": 172,
   "id": "5818642c-0b74-4955-905d-c8d0c0fa3f81",
   "metadata": {},
   "outputs": [
    {
     "data": {
      "text/latex": [
       "$\\displaystyle A \\cos{\\left(C_{1} x \\right)} = A \\left(\\gamma^{C_{1} x} + \\gamma^{\\overline{C_{1}} \\overline{x}}\\right)$"
      ],
      "text/plain": [
       "Eq(A*cos(C1*x), A*(EulerGamma**(C1*x) + EulerGamma**(conjugate(C1)*conjugate(x))))"
      ]
     },
     "execution_count": 172,
     "metadata": {},
     "output_type": "execute_result"
    }
   ],
   "source": [
    "sp.Eq( normalization_constant * sp.cos( x * c_1 ), normalization_constant * ( ( sp.Euler ** ( x * c_1 ) ) + ( sp.Euler ** sp.conjugate( x * c_1 ) ) ) )"
   ]
  },
  {
   "cell_type": "code",
   "execution_count": null,
   "id": "3e9989e4-3794-442a-ac63-bb887274573c",
   "metadata": {},
   "outputs": [],
   "source": []
  }
 ],
 "metadata": {
  "kernelspec": {
   "display_name": "Python 3 (ipykernel)",
   "language": "python",
   "name": "python3"
  },
  "language_info": {
   "codemirror_mode": {
    "name": "ipython",
    "version": 3
   },
   "file_extension": ".py",
   "mimetype": "text/x-python",
   "name": "python",
   "nbconvert_exporter": "python",
   "pygments_lexer": "ipython3",
   "version": "3.9.10"
  }
 },
 "nbformat": 4,
 "nbformat_minor": 5
}
