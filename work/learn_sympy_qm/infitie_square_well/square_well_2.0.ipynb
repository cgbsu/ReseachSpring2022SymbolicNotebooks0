{
 "cells": [
  {
   "cell_type": "code",
   "execution_count": 1,
   "id": "5d5b5878-dc34-4044-a3d5-5ca6d976e990",
   "metadata": {},
   "outputs": [],
   "source": [
    "import sympy as sp"
   ]
  },
  {
   "cell_type": "code",
   "execution_count": 2,
   "id": "dc5d3bfc-ca64-4887-9d14-bd833f2037dd",
   "metadata": {},
   "outputs": [],
   "source": [
    "import numpy as np"
   ]
  },
  {
   "cell_type": "code",
   "execution_count": 3,
   "id": "0313b73e-ac0c-4153-a160-59c463268c1c",
   "metadata": {},
   "outputs": [],
   "source": [
    "import matplotlib.pyplot as plt"
   ]
  },
  {
   "cell_type": "code",
   "execution_count": 4,
   "id": "c193802c-198c-4235-b7fa-3eae80fdfc5d",
   "metadata": {},
   "outputs": [],
   "source": [
    "import sympy.physics.units.quantities as sq"
   ]
  },
  {
   "cell_type": "code",
   "execution_count": 5,
   "id": "1ce80cb8-a825-4ad4-87d9-4463ec20e99f",
   "metadata": {},
   "outputs": [],
   "source": [
    "import unicodedata as ud"
   ]
  },
  {
   "cell_type": "code",
   "execution_count": null,
   "id": "9b33e0d1-bb4b-4d44-918a-005079ba3cf4",
   "metadata": {},
   "outputs": [],
   "source": []
  },
  {
   "cell_type": "code",
   "execution_count": 6,
   "id": "2089807c-bee3-40bd-85a7-250f6dc3b5d1",
   "metadata": {},
   "outputs": [],
   "source": [
    "well_length = sq.Symbol( 'L', nonzero=True, positive=True )\n",
    "highest_potential = sq.Symbol( \"V_max\", nonzero=True, positive=True )\n",
    "x = sp.Symbol( 'x', positive=True )\n",
    "m = sq.Quantity( 'm', positive=True, nonzero=True )\n",
    "hbar = sq.Quantity( \"hbar\" )\n",
    "total_energy = sq.Symbol( 'E', nonzero=True, positive=True )\n",
    "inverse_total_energy = 1.0 / total_energy\n",
    "psi_symbol = ud.lookup( \"GREEK SMALL LETTER PSI\" )\n",
    "psi = sp.Function( \"psi\" )\n",
    "normalization_constant = sq.Symbol( 'A', nonzero=True )\n",
    "C1 = sp.Symbol( \"C1\" )#, nonzero=True )\n",
    "C2 = sp.Symbol( \"C2\" )#, nonzero=True )\n",
    "k = sp.Symbol(\"k\", nonzero=True)"
   ]
  },
  {
   "cell_type": "code",
   "execution_count": 7,
   "id": "bc3a95f7-f399-42b7-a579-3348031adb74",
   "metadata": {},
   "outputs": [],
   "source": [
    "plancks_constant_value = 6.62606957 * ( 10 ** ( -34.0 ) )"
   ]
  },
  {
   "cell_type": "code",
   "execution_count": 8,
   "id": "1c2a4e25-991c-41fa-a440-21ce14966e8a",
   "metadata": {},
   "outputs": [],
   "source": [
    "potential_energy = sp.Piecewise( ( highest_potential, x <= 0 ), ( 0, x < well_length ), ( highest_potential, x >= well_length ) )"
   ]
  },
  {
   "cell_type": "code",
   "execution_count": 9,
   "id": "6df6abe8-45d3-4687-9031-e873ad22e207",
   "metadata": {},
   "outputs": [],
   "source": [
    "second_derivative = sp.Derivative( psi( x ), x, 2 )\n",
    "make_shrodinger_left = lambda potential, psi_parameter : ( ( -( hbar ** 2 ) / ( 2 * m ) ) * second_derivative + ( psi( psi_parameter ) * potential ) )\n",
    "make_shrodinger_right = lambda psi_parameter : total_energy * psi( psi_parameter )\n",
    "make_psi_equal = lambda input_value, value : sp.Eq( psi( sp.Eq( x, input_value ) ), value )\n",
    "set_equal = lambda to_set, value : sp.Eq( to_set, value )\n",
    "both_sides = lambda equation, opreation : sp.Eq( opreation( equation.lhs ), opreation( equation.rhs ) )\n",
    "equation_to_dict = lambda equation : { equation.lhs : equation.rhs }"
   ]
  },
  {
   "cell_type": "code",
   "execution_count": 10,
   "id": "d0b73dae-5e69-4b11-b940-1f85bf831122",
   "metadata": {},
   "outputs": [],
   "source": [
    "hbar_eq = sp.Eq( hbar, sp.physics.units.planck / ( 2 * sp.pi ) )"
   ]
  },
  {
   "cell_type": "code",
   "execution_count": 11,
   "id": "38ec5ba5-6e96-4c06-b139-aab132c411ea",
   "metadata": {},
   "outputs": [
    {
     "data": {
      "text/latex": [
       "$\\displaystyle \\text{hbar} = \\frac{\\text{h}}{2 \\pi}$"
      ],
      "text/plain": [
       "Eq(hbar, planck/(2*pi))"
      ]
     },
     "execution_count": 11,
     "metadata": {},
     "output_type": "execute_result"
    }
   ],
   "source": [
    "hbar_eq"
   ]
  },
  {
   "cell_type": "code",
   "execution_count": 12,
   "id": "3a1f6346-cb9d-4c3e-8789-8f4260afb303",
   "metadata": {},
   "outputs": [],
   "source": [
    "shrodinger_left_high = sp.simplify( make_shrodinger_left( highest_potential, x ) )\n",
    "shrodinger_left_low = sp.simplify( make_shrodinger_left( 0, x ) )\n",
    "shrodinger_left = sp.simplify( make_shrodinger_left( potential_energy, x ) )\n",
    "shrodinger_right = make_shrodinger_right( x )\n",
    "shrodinger = sp.simplify( sp.Eq( shrodinger_left, shrodinger_right ) )\n",
    "shrodinger_zero = sp.simplify( sp.Eq( shrodinger_left - shrodinger_right, 0 ) )\n",
    "shrodinger_low_zero = sp.Eq( shrodinger_left_low - shrodinger_right, 0 )\n",
    "shrodinger_low_zero_hand = sp.Eq( second_derivative + ( ( 2 * total_energy * m ) / ( hbar ** 2 ) ) * psi( x ), 0 )\n",
    "shrodinger_low_zero_ksq = sp.Eq( second_derivative + ( ( k ** 2 ) * psi( x ) ), 0 )\n",
    "\n",
    "k_sq = sp.Eq( k ** 2, ( ( 2 * total_energy * m ) / ( hbar ** 2 ) ) )"
   ]
  },
  {
   "cell_type": "code",
   "execution_count": 13,
   "id": "3d64bb0d-04d3-400e-a1ac-3ac71994d298",
   "metadata": {},
   "outputs": [],
   "source": [
    "make_normalization_left = lambda psi_function : sp.integrate( psi_function * sp.conjugate( psi_function ), ( x, 0, well_length ) )\n",
    "make_normalization = lambda psi_function : sp.Eq( normalization_left( psi_function ), 1 )\n",
    "normalization_left = make_normalization_left( psi( x ) )\n",
    "normalization = sp.Eq( normalization_left, 1 )"
   ]
  },
  {
   "cell_type": "code",
   "execution_count": 14,
   "id": "f35c71f1-ac15-47d6-a5d3-38a18e8eaefd",
   "metadata": {},
   "outputs": [],
   "source": [
    "shrodinger_low_zero = sp.Eq( -( ( shrodinger_low_zero.lhs * 2*m ).simplify() / ( hbar ** 2 ) ).simplify(), 0 )"
   ]
  },
  {
   "cell_type": "code",
   "execution_count": 15,
   "id": "bd735941-bbb3-445e-b8d9-f63b3ee1b50d",
   "metadata": {},
   "outputs": [
    {
     "data": {
      "text/latex": [
       "$\\displaystyle \\int\\limits_{0}^{L} \\psi{\\left(x \\right)} \\overline{\\psi{\\left(x \\right)}}\\, dx = 1$"
      ],
      "text/plain": [
       "Eq(Integral(psi(x)*conjugate(psi(x)), (x, 0, L)), 1)"
      ]
     },
     "execution_count": 15,
     "metadata": {},
     "output_type": "execute_result"
    }
   ],
   "source": [
    "normalization"
   ]
  },
  {
   "cell_type": "code",
   "execution_count": 16,
   "id": "12ffc818-9dfe-4823-b2f1-c13cf399a82e",
   "metadata": {},
   "outputs": [
    {
     "data": {
      "text/latex": [
       "$\\displaystyle k^{2} \\psi{\\left(x \\right)} + \\frac{d^{2}}{d x^{2}} \\psi{\\left(x \\right)} = 0$"
      ],
      "text/plain": [
       "Eq(k**2*psi(x) + Derivative(psi(x), (x, 2)), 0)"
      ]
     },
     "execution_count": 16,
     "metadata": {},
     "output_type": "execute_result"
    }
   ],
   "source": [
    "shrodinger_low_zero_ksq"
   ]
  },
  {
   "cell_type": "code",
   "execution_count": 17,
   "id": "a4fd9674-9ba1-4c67-8f5f-62a69b7e3404",
   "metadata": {},
   "outputs": [],
   "source": [
    "diff_sol = sp.solvers.ode.dsolve( shrodinger_low_zero_ksq, psi( x ), ivar = x )\n",
    "#ics = { psi( 0 ): 0, psi( well_length ): 0 }"
   ]
  },
  {
   "cell_type": "code",
   "execution_count": 18,
   "id": "7b6e6e90-d5e3-4c89-9421-eb76a674cf0a",
   "metadata": {},
   "outputs": [
    {
     "data": {
      "text/latex": [
       "$\\displaystyle \\psi{\\left(x \\right)} = C_{1} \\sin{\\left(x \\left|{k}\\right| \\right)} + C_{2} \\cos{\\left(k x \\right)}$"
      ],
      "text/plain": [
       "Eq(psi(x), C1*sin(x*Abs(k)) + C2*cos(k*x))"
      ]
     },
     "execution_count": 18,
     "metadata": {},
     "output_type": "execute_result"
    }
   ],
   "source": [
    "diff_sol"
   ]
  },
  {
   "cell_type": "code",
   "execution_count": 19,
   "id": "5737096d-fe13-4f6d-bc2c-dc38a959913b",
   "metadata": {},
   "outputs": [],
   "source": [
    "boundries = [\n",
    "        sp.Eq( diff_sol.rhs.subs( x, 0 ), 0 ), \n",
    "        sp.Eq( diff_sol.rhs.subs( x, well_length ), 0 )\n",
    "    ]"
   ]
  },
  {
   "cell_type": "code",
   "execution_count": 20,
   "id": "e189dd46-4867-4926-99c9-93594602afb0",
   "metadata": {},
   "outputs": [
    {
     "data": {
      "text/latex": [
       "$\\displaystyle C_{2} = 0$"
      ],
      "text/plain": [
       "Eq(C2, 0)"
      ]
     },
     "execution_count": 20,
     "metadata": {},
     "output_type": "execute_result"
    }
   ],
   "source": [
    "boundries[ 0 ]"
   ]
  },
  {
   "cell_type": "code",
   "execution_count": 21,
   "id": "799e1ef9-7ddf-4367-8ba7-e41514c06e3e",
   "metadata": {},
   "outputs": [
    {
     "data": {
      "text/latex": [
       "$\\displaystyle C_{1} \\sin{\\left(L \\left|{k}\\right| \\right)} + C_{2} \\cos{\\left(L k \\right)} = 0$"
      ],
      "text/plain": [
       "Eq(C1*sin(L*Abs(k)) + C2*cos(L*k), 0)"
      ]
     },
     "execution_count": 21,
     "metadata": {},
     "output_type": "execute_result"
    }
   ],
   "source": [
    "boundries[ 1 ]"
   ]
  },
  {
   "cell_type": "code",
   "execution_count": null,
   "id": "3982f0f0-94db-4f18-8d96-8e6148c52fd9",
   "metadata": {},
   "outputs": [],
   "source": []
  },
  {
   "cell_type": "code",
   "execution_count": null,
   "id": "60eebd9d-fd43-4b19-a469-33e5725ffe2f",
   "metadata": {},
   "outputs": [],
   "source": []
  },
  {
   "cell_type": "code",
   "execution_count": 22,
   "id": "5ee34546-f188-4806-a05d-99efd0dedf6b",
   "metadata": {},
   "outputs": [],
   "source": [
    "boundry_applied = diff_sol.subs( C2, 0 )"
   ]
  },
  {
   "cell_type": "code",
   "execution_count": 23,
   "id": "e380436f-bfb6-4b51-82da-6e712750a6e3",
   "metadata": {},
   "outputs": [
    {
     "data": {
      "text/latex": [
       "$\\displaystyle \\psi{\\left(x \\right)} = C_{1} \\sin{\\left(x \\left|{k}\\right| \\right)}$"
      ],
      "text/plain": [
       "Eq(psi(x), C1*sin(x*Abs(k)))"
      ]
     },
     "execution_count": 23,
     "metadata": {},
     "output_type": "execute_result"
    }
   ],
   "source": [
    "boundry_applied"
   ]
  },
  {
   "cell_type": "code",
   "execution_count": null,
   "id": "debd2a8a-0c6f-4f47-8fd3-47a5a294e874",
   "metadata": {},
   "outputs": [],
   "source": []
  },
  {
   "cell_type": "code",
   "execution_count": 24,
   "id": "6fb07a4e-0b9b-4ed3-a77f-ad6622e68c4f",
   "metadata": {},
   "outputs": [],
   "source": [
    "particular_appled = boundries[ 1 ].subs( boundries[ 0 ].lhs, boundries[ 0 ].rhs )"
   ]
  },
  {
   "cell_type": "code",
   "execution_count": 25,
   "id": "ec6a8f4e-435c-4225-b355-ac6976958086",
   "metadata": {},
   "outputs": [
    {
     "data": {
      "text/latex": [
       "$\\displaystyle C_{1} \\sin{\\left(L \\left|{k}\\right| \\right)} = 0$"
      ],
      "text/plain": [
       "Eq(C1*sin(L*Abs(k)), 0)"
      ]
     },
     "execution_count": 25,
     "metadata": {},
     "output_type": "execute_result"
    }
   ],
   "source": [
    "particular_appled"
   ]
  },
  {
   "cell_type": "code",
   "execution_count": 26,
   "id": "2e2cc079-9a35-4888-b129-5aa9aea13b9e",
   "metadata": {},
   "outputs": [],
   "source": [
    "assume_c1_not_zero = sp.Eq( particular_appled.lhs.as_two_terms()[ 1 ], particular_appled.rhs )"
   ]
  },
  {
   "cell_type": "code",
   "execution_count": 27,
   "id": "34e4b4b8-f6ca-489e-86c9-828383d245db",
   "metadata": {},
   "outputs": [
    {
     "data": {
      "text/latex": [
       "$\\displaystyle \\sin{\\left(L \\left|{k}\\right| \\right)} = 0$"
      ],
      "text/plain": [
       "Eq(sin(L*Abs(k)), 0)"
      ]
     },
     "execution_count": 27,
     "metadata": {},
     "output_type": "execute_result"
    }
   ],
   "source": [
    "assume_c1_not_zero"
   ]
  },
  {
   "cell_type": "code",
   "execution_count": 28,
   "id": "66e1897d-4436-4a45-834b-f15d5713634a",
   "metadata": {},
   "outputs": [],
   "source": [
    "assume_c1_not_zero_2k = sp.Eq( sp.sin( 2 * well_length * sp.Abs( k ) ), 0 )"
   ]
  },
  {
   "cell_type": "code",
   "execution_count": 29,
   "id": "cf9afc19-7b29-40be-9348-856c2bf97ec6",
   "metadata": {},
   "outputs": [
    {
     "data": {
      "text/latex": [
       "$\\displaystyle \\sin{\\left(2 L \\left|{k}\\right| \\right)} = 0$"
      ],
      "text/plain": [
       "Eq(sin(2*L*Abs(k)), 0)"
      ]
     },
     "execution_count": 29,
     "metadata": {},
     "output_type": "execute_result"
    }
   ],
   "source": [
    "assume_c1_not_zero_2k"
   ]
  },
  {
   "cell_type": "code",
   "execution_count": 30,
   "id": "71027b03-2b93-425b-8930-2d1c07817d3c",
   "metadata": {},
   "outputs": [],
   "source": [
    "n = sp.Symbol( 'n', integer=True )"
   ]
  },
  {
   "cell_type": "code",
   "execution_count": null,
   "id": "1e20448e-bfb5-48ba-983e-0c90bca362e5",
   "metadata": {},
   "outputs": [],
   "source": []
  },
  {
   "cell_type": "code",
   "execution_count": 31,
   "id": "33536e49-2343-4ddb-a662-d36d24f6c048",
   "metadata": {},
   "outputs": [],
   "source": [
    "assume_c1_not_zero_nk = sp.Eq( sp.sin( n * well_length * sp.Abs( k ) ), 0 )"
   ]
  },
  {
   "cell_type": "code",
   "execution_count": 32,
   "id": "5335e196-4c59-4c7f-9674-120f49d097f2",
   "metadata": {},
   "outputs": [
    {
     "data": {
      "text/latex": [
       "$\\displaystyle \\sin{\\left(L n \\left|{k}\\right| \\right)} = 0$"
      ],
      "text/plain": [
       "Eq(sin(L*n*Abs(k)), 0)"
      ]
     },
     "execution_count": 32,
     "metadata": {},
     "output_type": "execute_result"
    }
   ],
   "source": [
    "assume_c1_not_zero_nk"
   ]
  },
  {
   "cell_type": "code",
   "execution_count": 33,
   "id": "802c8044-a80c-471d-a8c6-056d256e8f07",
   "metadata": {},
   "outputs": [
    {
     "data": {
      "text/latex": [
       "$\\displaystyle \\sin{\\left(L n \\left|{k}\\right| \\right)}$"
      ],
      "text/plain": [
       "sin(L*n*Abs(k))"
      ]
     },
     "execution_count": 33,
     "metadata": {},
     "output_type": "execute_result"
    }
   ],
   "source": [
    "assume_c1_not_zero_nk.lhs"
   ]
  },
  {
   "cell_type": "code",
   "execution_count": 34,
   "id": "f45e97c7-c55d-46d9-8f13-54b9ae68f897",
   "metadata": {},
   "outputs": [],
   "source": [
    "k_n_positive = sp.Eq( assume_c1_not_zero_nk.lhs, assume_c1_not_zero.lhs )"
   ]
  },
  {
   "cell_type": "code",
   "execution_count": 35,
   "id": "b02cae6f-a848-44fe-a4f6-1d7b412de4a5",
   "metadata": {},
   "outputs": [
    {
     "data": {
      "text/latex": [
       "$\\displaystyle \\sin{\\left(L n \\left|{k}\\right| \\right)} = \\sin{\\left(L \\left|{k}\\right| \\right)}$"
      ],
      "text/plain": [
       "Eq(sin(L*n*Abs(k)), sin(L*Abs(k)))"
      ]
     },
     "execution_count": 35,
     "metadata": {},
     "output_type": "execute_result"
    }
   ],
   "source": [
    "k_n_positive"
   ]
  },
  {
   "cell_type": "code",
   "execution_count": null,
   "id": "cde96413-6ba1-480e-ac4f-287a7e2e2612",
   "metadata": {},
   "outputs": [],
   "source": []
  },
  {
   "cell_type": "code",
   "execution_count": null,
   "id": "227f7367-a5fd-4846-8579-ebfa712774eb",
   "metadata": {},
   "outputs": [],
   "source": []
  },
  {
   "cell_type": "code",
   "execution_count": 36,
   "id": "aa08e328-9a7b-4910-a74b-9bb8dd6153ca",
   "metadata": {},
   "outputs": [
    {
     "data": {
      "text/latex": [
       "$\\displaystyle \\sin{\\left(L \\left|{k}\\right| \\right)} = 0$"
      ],
      "text/plain": [
       "Eq(sin(L*Abs(k)), 0)"
      ]
     },
     "execution_count": 36,
     "metadata": {},
     "output_type": "execute_result"
    }
   ],
   "source": [
    "assume_c1_not_zero"
   ]
  },
  {
   "cell_type": "code",
   "execution_count": null,
   "id": "dd5dafdf-079b-42fc-a0d5-025f327c5dce",
   "metadata": {},
   "outputs": [],
   "source": []
  },
  {
   "cell_type": "code",
   "execution_count": 37,
   "id": "55497daa-1da8-4194-8c3b-d4d4fa0d12c6",
   "metadata": {},
   "outputs": [],
   "source": [
    "assume_k_positive = assume_c1_not_zero.refine( sp.Q.positive( k ) )"
   ]
  },
  {
   "cell_type": "code",
   "execution_count": 38,
   "id": "15d5486e-e0e5-46fa-8a1b-229d2bea96d6",
   "metadata": {},
   "outputs": [
    {
     "data": {
      "text/latex": [
       "$\\displaystyle \\sin{\\left(L k \\right)} = 0$"
      ],
      "text/plain": [
       "Eq(sin(L*k), 0)"
      ]
     },
     "execution_count": 38,
     "metadata": {},
     "output_type": "execute_result"
    }
   ],
   "source": [
    "assume_k_positive"
   ]
  },
  {
   "cell_type": "code",
   "execution_count": null,
   "id": "5973d6fb-a4ed-4479-a47d-5882bc298097",
   "metadata": {},
   "outputs": [],
   "source": []
  },
  {
   "cell_type": "code",
   "execution_count": 39,
   "id": "3c748836-48f4-463c-b47f-10161b8dccac",
   "metadata": {},
   "outputs": [],
   "source": [
    "assum_k_positive_and_harmonic = k_n_positive.refine( sp.Q.positive( k ) )"
   ]
  },
  {
   "cell_type": "code",
   "execution_count": 40,
   "id": "e79480b9-1bb6-4310-8784-716b7f369d4c",
   "metadata": {},
   "outputs": [],
   "source": [
    "assum_k_positive_and_harmonic = assum_k_positive_and_harmonic.refine( sp.Q.integer( n ) )"
   ]
  },
  {
   "cell_type": "code",
   "execution_count": null,
   "id": "d9ff69b1-0035-441e-8914-d6dbc0066bd0",
   "metadata": {},
   "outputs": [],
   "source": []
  },
  {
   "cell_type": "code",
   "execution_count": null,
   "id": "9dd43804-f5aa-4e77-9c2e-034cc1d62b6e",
   "metadata": {},
   "outputs": [],
   "source": []
  },
  {
   "cell_type": "code",
   "execution_count": 41,
   "id": "bb6dbd61-6151-4c08-b7f8-b9c4b9fbc68d",
   "metadata": {},
   "outputs": [],
   "source": [
    "steps = {}\n",
    "steps[ 0 ] = sp.Eq( make_normalization_left( boundry_applied.rhs ), 1 )"
   ]
  },
  {
   "cell_type": "code",
   "execution_count": 42,
   "id": "2b8b3deb-3db4-4378-96ac-e0ef79fe3c3a",
   "metadata": {},
   "outputs": [
    {
     "data": {
      "text/latex": [
       "$\\displaystyle \\frac{C_{1} \\left(\\frac{L k}{2} - \\frac{\\sin{\\left(L k \\right)} \\cos{\\left(L k \\right)}}{2}\\right) \\overline{C_{1}}}{k} = 1$"
      ],
      "text/plain": [
       "Eq(C1*(L*k/2 - sin(L*k)*cos(L*k)/2)*conjugate(C1)/k, 1)"
      ]
     },
     "execution_count": 42,
     "metadata": {},
     "output_type": "execute_result"
    }
   ],
   "source": [
    "steps[ 0 ]"
   ]
  },
  {
   "cell_type": "code",
   "execution_count": null,
   "id": "c24e7b81-d81f-42fa-9558-bbea30bf4f2a",
   "metadata": {},
   "outputs": [],
   "source": []
  },
  {
   "cell_type": "code",
   "execution_count": 43,
   "id": "c23294ee-da39-43bc-b66c-d97194ca50ab",
   "metadata": {},
   "outputs": [],
   "source": [
    "steps[ 1 ] = steps[ 0 ].simplify()"
   ]
  },
  {
   "cell_type": "code",
   "execution_count": 44,
   "id": "801bab10-1013-4ee5-bc23-577fe42859c0",
   "metadata": {},
   "outputs": [
    {
     "data": {
      "text/latex": [
       "$\\displaystyle \\frac{C_{1} \\left(L k - \\frac{\\sin{\\left(2 L k \\right)}}{2}\\right) \\overline{C_{1}}}{2 k} = 1$"
      ],
      "text/plain": [
       "Eq(C1*(L*k - sin(2*L*k)/2)*conjugate(C1)/(2*k), 1)"
      ]
     },
     "execution_count": 44,
     "metadata": {},
     "output_type": "execute_result"
    }
   ],
   "source": [
    "steps[ 1 ]"
   ]
  },
  {
   "cell_type": "code",
   "execution_count": null,
   "id": "f173eb51-93be-470b-851d-7f1e8f118f8f",
   "metadata": {},
   "outputs": [],
   "source": []
  },
  {
   "cell_type": "code",
   "execution_count": 45,
   "id": "2c87251c-5c64-4043-b317-fadd3af86d8e",
   "metadata": {},
   "outputs": [],
   "source": [
    "steps[ 2 ] = steps[ 1 ].refine( sp.Q.positive( k ) ).refine( sp.Q.nonzero( k ) )"
   ]
  },
  {
   "cell_type": "code",
   "execution_count": 46,
   "id": "aee7d4d8-a553-4be6-8f92-31864573529b",
   "metadata": {},
   "outputs": [
    {
     "data": {
      "text/latex": [
       "$\\displaystyle \\frac{C_{1} \\left(L k - \\frac{\\sin{\\left(2 L k \\right)}}{2}\\right) \\overline{C_{1}}}{2 k} = 1$"
      ],
      "text/plain": [
       "Eq(C1*(L*k - sin(2*L*k)/2)*conjugate(C1)/(2*k), 1)"
      ]
     },
     "execution_count": 46,
     "metadata": {},
     "output_type": "execute_result"
    }
   ],
   "source": [
    "steps[ 2 ]"
   ]
  },
  {
   "cell_type": "code",
   "execution_count": 55,
   "id": "f768434c-b552-4d78-aa03-157cbdfea064",
   "metadata": {},
   "outputs": [
    {
     "data": {
      "text/latex": [
       "$\\displaystyle \\sin{\\left(L n \\left|{k}\\right| \\right)} = 0$"
      ],
      "text/plain": [
       "Eq(sin(L*n*Abs(k)), 0)"
      ]
     },
     "execution_count": 55,
     "metadata": {},
     "output_type": "execute_result"
    }
   ],
   "source": [
    "assume_c1_not_zero_nk"
   ]
  },
  {
   "cell_type": "code",
   "execution_count": null,
   "id": "7d5dafac-40d7-4860-a95f-1fe136a82383",
   "metadata": {},
   "outputs": [],
   "source": []
  },
  {
   "cell_type": "code",
   "execution_count": 80,
   "id": "9cd79c8c-27dc-4651-a07d-5099a54f1530",
   "metadata": {},
   "outputs": [],
   "source": [
    "lnk_zero = sp.Eq( assume_c1_not_zero_nk.lhs.refine( sp.Q.positive( k ) ).refine( sp.Q.integer( n ) ).refine( sp.Q.positive( n ) ), 0 )"
   ]
  },
  {
   "cell_type": "code",
   "execution_count": 81,
   "id": "4709448a-023d-48b2-aa20-77493089db0b",
   "metadata": {},
   "outputs": [
    {
     "data": {
      "text/latex": [
       "$\\displaystyle \\sin{\\left(L k n \\right)} = 0$"
      ],
      "text/plain": [
       "Eq(sin(L*k*n), 0)"
      ]
     },
     "execution_count": 81,
     "metadata": {},
     "output_type": "execute_result"
    }
   ],
   "source": [
    "lnk_zero"
   ]
  },
  {
   "cell_type": "code",
   "execution_count": null,
   "id": "f51011eb-f0ec-40b0-a055-c47111292fb3",
   "metadata": {},
   "outputs": [],
   "source": []
  },
  {
   "cell_type": "code",
   "execution_count": 85,
   "id": "16322e72-0815-4d38-a75e-b78cf57c43ab",
   "metadata": {},
   "outputs": [],
   "source": [
    "lnk_lk_zero = sp.Eq( lnk_zero.lhs, assume_k_positive, evaluate = False )"
   ]
  },
  {
   "cell_type": "code",
   "execution_count": 88,
   "id": "1589737c-66fd-43d6-8c6f-d66155bdc404",
   "metadata": {},
   "outputs": [
    {
     "data": {
      "text/latex": [
       "$\\displaystyle \\sin{\\left(L k n \\right)} = \\sin{\\left(L k \\right)} = 0$"
      ],
      "text/plain": [
       "Eq(sin(L*k*n), Eq(sin(L*k), 0))"
      ]
     },
     "execution_count": 88,
     "metadata": {},
     "output_type": "execute_result"
    }
   ],
   "source": [
    "lnk_lk_zero"
   ]
  },
  {
   "cell_type": "code",
   "execution_count": null,
   "id": "e40d223d-5212-48b3-beca-f6fd4544b22b",
   "metadata": {},
   "outputs": [],
   "source": []
  },
  {
   "cell_type": "code",
   "execution_count": 92,
   "id": "f4612584-5c31-428d-8583-62e1f004bb54",
   "metadata": {},
   "outputs": [],
   "source": [
    "l2k_zero = sp.Eq( lnk_lk_zero.lhs.subs( n, 2 ), 0 )"
   ]
  },
  {
   "cell_type": "code",
   "execution_count": 93,
   "id": "8fd12bf6-156e-4ef1-8101-c6629d640fb8",
   "metadata": {},
   "outputs": [
    {
     "data": {
      "text/latex": [
       "$\\displaystyle \\sin{\\left(2 L k \\right)} = 0$"
      ],
      "text/plain": [
       "Eq(sin(2*L*k), 0)"
      ]
     },
     "execution_count": 93,
     "metadata": {},
     "output_type": "execute_result"
    }
   ],
   "source": [
    "l2k_zero"
   ]
  },
  {
   "cell_type": "code",
   "execution_count": null,
   "id": "70b383e8-6bc9-49cd-9438-00b9289a091b",
   "metadata": {},
   "outputs": [],
   "source": []
  },
  {
   "cell_type": "code",
   "execution_count": 191,
   "id": "5d660544-84bf-43ee-a6fa-cdd883436cfc",
   "metadata": {},
   "outputs": [
    {
     "data": {
      "text/latex": [
       "$\\displaystyle \\frac{C_{1} \\left(L k - \\frac{\\sin{\\left(2 L k \\right)}}{2}\\right) \\overline{C_{1}}}{2 k} = 1$"
      ],
      "text/plain": [
       "Eq(C1*(L*k - sin(2*L*k)/2)*conjugate(C1)/(2*k), 1)"
      ]
     },
     "execution_count": 191,
     "metadata": {},
     "output_type": "execute_result"
    }
   ],
   "source": [
    "#help( steps[ 2 ] )\n",
    "\n",
    "steps[ 2 ].refine( l2k_zero.refine( sp.Q.positive( k ) ) )#sp.Q.is_true( assume_c1_not_zero_nk.rerfine( sp.Q.positive( n ) )"
   ]
  },
  {
   "cell_type": "code",
   "execution_count": 192,
   "id": "1603258b-babc-41d5-a321-43539c553e24",
   "metadata": {},
   "outputs": [],
   "source": [
    "test = steps[ 2 ].subs( equation_to_dict( l2k_zero ) )"
   ]
  },
  {
   "cell_type": "code",
   "execution_count": 193,
   "id": "f6fed513-7510-4b33-a822-fa4de89b4c7b",
   "metadata": {},
   "outputs": [
    {
     "data": {
      "text/latex": [
       "$\\displaystyle \\frac{C_{1} L \\overline{C_{1}}}{2} = 1$"
      ],
      "text/plain": [
       "Eq(C1*L*conjugate(C1)/2, 1)"
      ]
     },
     "execution_count": 193,
     "metadata": {},
     "output_type": "execute_result"
    }
   ],
   "source": [
    "test"
   ]
  },
  {
   "cell_type": "code",
   "execution_count": null,
   "id": "d48eb86b-a9a2-4287-8cda-fc326f5c36eb",
   "metadata": {},
   "outputs": [],
   "source": []
  },
  {
   "cell_type": "code",
   "execution_count": 194,
   "id": "5d153b7b-eed2-412d-aa53-f3f7d6816d19",
   "metadata": {},
   "outputs": [],
   "source": [
    "test = test.refine( sp.Q.real( C1 ) )"
   ]
  },
  {
   "cell_type": "code",
   "execution_count": null,
   "id": "084aff00-abcf-4dc8-9a55-0c0740558af5",
   "metadata": {},
   "outputs": [],
   "source": []
  },
  {
   "cell_type": "code",
   "execution_count": 195,
   "id": "7e008032-6002-4437-ad65-9f0cab5d9f43",
   "metadata": {},
   "outputs": [],
   "source": [
    "test = test.refine( sp.Q.positive( C1 ) )"
   ]
  },
  {
   "cell_type": "code",
   "execution_count": 196,
   "id": "813b6497-4a83-4d6a-a60d-a5a3d1fb7f82",
   "metadata": {},
   "outputs": [
    {
     "data": {
      "text/plain": [
       "[-sqrt(2)/sqrt(L), sqrt(2)/sqrt(L)]"
      ]
     },
     "execution_count": 196,
     "metadata": {},
     "output_type": "execute_result"
    }
   ],
   "source": [
    "sp.solve( test, C1 )"
   ]
  },
  {
   "cell_type": "code",
   "execution_count": null,
   "id": "61315d2a-341a-47c3-8b7e-eb645d3c012b",
   "metadata": {},
   "outputs": [],
   "source": []
  },
  {
   "cell_type": "code",
   "execution_count": 197,
   "id": "acb0abfa-4110-4d3e-ba72-9df21fa99e4d",
   "metadata": {},
   "outputs": [
    {
     "data": {
      "text/latex": [
       "$\\displaystyle \\frac{C_{1} L \\overline{C_{1}}}{2} = 1$"
      ],
      "text/plain": [
       "Eq(C1*L*conjugate(C1)/2, 1)"
      ]
     },
     "execution_count": 197,
     "metadata": {},
     "output_type": "execute_result"
    }
   ],
   "source": [
    "test.refine( sp.Q.positive( C1 ) )"
   ]
  },
  {
   "cell_type": "code",
   "execution_count": null,
   "id": "14870b56-3a1b-45bb-830c-0c98d30f551e",
   "metadata": {},
   "outputs": [],
   "source": []
  },
  {
   "cell_type": "code",
   "execution_count": 198,
   "id": "02f734c5-9cae-4779-bf86-0bb081f602b6",
   "metadata": {},
   "outputs": [],
   "source": [
    "#test = test.lhs.refine( sp.Q.rational( C1 ) )"
   ]
  },
  {
   "cell_type": "code",
   "execution_count": 204,
   "id": "0f2de347-bcc8-48bf-a664-81d78db10bd2",
   "metadata": {},
   "outputs": [],
   "source": [
    "r_img = test.lhs.as_real_imag() #.separate()"
   ]
  },
  {
   "cell_type": "code",
   "execution_count": 121,
   "id": "a2faacff-b92c-431e-8b3f-130bff21b393",
   "metadata": {},
   "outputs": [
    {
     "data": {
      "text/latex": [
       "$\\displaystyle \\frac{C_{1} L \\overline{C_{1}}}{2}$"
      ],
      "text/plain": [
       "C1*L*conjugate(C1)/2"
      ]
     },
     "execution_count": 121,
     "metadata": {},
     "output_type": "execute_result"
    }
   ],
   "source": [
    "#test.lhs.refine( sp.Q.rational( C1 ) )"
   ]
  },
  {
   "cell_type": "code",
   "execution_count": 207,
   "id": "37d04c7e-857f-4a9f-b83c-529859e9ed1b",
   "metadata": {},
   "outputs": [
    {
     "data": {
      "text/latex": [
       "$\\displaystyle \\frac{C_{1}^{2} L}{2}$"
      ],
      "text/plain": [
       "C1**2*L/2"
      ]
     },
     "execution_count": 207,
     "metadata": {},
     "output_type": "execute_result"
    }
   ],
   "source": [
    "r_img[ 0 ].refine( sp.Q.real( C1 ) )"
   ]
  },
  {
   "cell_type": "code",
   "execution_count": 208,
   "id": "b59766e3-0c06-453c-981b-b0a5fe1fc17e",
   "metadata": {},
   "outputs": [
    {
     "name": "stdout",
     "output_type": "stream",
     "text": [
      "Help on method as_real_imag in module sympy.core.mul:\n",
      "\n",
      "as_real_imag(deep=True, **hints) method of sympy.core.mul.Mul instance\n",
      "    Performs complex expansion on 'self' and returns a tuple\n",
      "    containing collected both real and imaginary parts. This\n",
      "    method can't be confused with re() and im() functions,\n",
      "    which does not perform complex expansion at evaluation.\n",
      "    \n",
      "    However it is possible to expand both re() and im()\n",
      "    functions and get exactly the same results as with\n",
      "    a single call to this function.\n",
      "    \n",
      "    >>> from sympy import symbols, I\n",
      "    \n",
      "    >>> x, y = symbols('x,y', real=True)\n",
      "    \n",
      "    >>> (x + y*I).as_real_imag()\n",
      "    (x, y)\n",
      "    \n",
      "    >>> from sympy.abc import z, w\n",
      "    \n",
      "    >>> (z + w*I).as_real_imag()\n",
      "    (re(z) - im(w), re(w) + im(z))\n",
      "\n"
     ]
    }
   ],
   "source": [
    "help( test.lhs.as_real_imag )"
   ]
  },
  {
   "cell_type": "code",
   "execution_count": null,
   "id": "3ac5895d-ea59-4b7e-be3b-342ee739fad2",
   "metadata": {},
   "outputs": [],
   "source": []
  },
  {
   "cell_type": "code",
   "execution_count": 48,
   "id": "f2245ab6-db3c-4f0c-8583-08dae4c8781f",
   "metadata": {},
   "outputs": [],
   "source": [
    "test = steps[ 2 ]"
   ]
  },
  {
   "cell_type": "code",
   "execution_count": 49,
   "id": "59b5f207-3020-467a-950d-1174fd8f7792",
   "metadata": {},
   "outputs": [],
   "source": [
    "double_angle_k_length = sp.sin( 2 * well_length * k )"
   ]
  },
  {
   "cell_type": "code",
   "execution_count": 50,
   "id": "ed372ba4-5ce9-4b7c-9fb6-d37ec9c2b7d2",
   "metadata": {},
   "outputs": [
    {
     "data": {
      "text/latex": [
       "$\\displaystyle \\sin{\\left(2 L k \\right)}$"
      ],
      "text/plain": [
       "sin(2*L*k)"
      ]
     },
     "execution_count": 50,
     "metadata": {},
     "output_type": "execute_result"
    }
   ],
   "source": [
    "double_angle_k_length"
   ]
  },
  {
   "cell_type": "code",
   "execution_count": null,
   "id": "30e3994a-189d-4255-a035-bb360c896797",
   "metadata": {},
   "outputs": [],
   "source": []
  },
  {
   "cell_type": "code",
   "execution_count": 51,
   "id": "a273f6fc-c1d9-433c-ac03-e612c83cf0ba",
   "metadata": {},
   "outputs": [],
   "source": [
    "double_angle_equivelence = sp.Eq( double_angle_k_length, assum_k_positive_and_harmonic.rhs )"
   ]
  },
  {
   "cell_type": "code",
   "execution_count": 52,
   "id": "c0632217-cf40-429e-9286-e4e7655d0262",
   "metadata": {},
   "outputs": [
    {
     "data": {
      "text/latex": [
       "$\\displaystyle \\sin{\\left(2 L k \\right)} = \\sin{\\left(L k \\right)}$"
      ],
      "text/plain": [
       "Eq(sin(2*L*k), sin(L*k))"
      ]
     },
     "execution_count": 52,
     "metadata": {},
     "output_type": "execute_result"
    }
   ],
   "source": [
    "double_angle_equivelence"
   ]
  },
  {
   "cell_type": "code",
   "execution_count": null,
   "id": "6bee3923-bd38-47c2-9eba-c475de8f403a",
   "metadata": {},
   "outputs": [],
   "source": []
  },
  {
   "cell_type": "code",
   "execution_count": 53,
   "id": "64b5717b-4e41-4485-853c-da91129c7b2a",
   "metadata": {},
   "outputs": [],
   "source": [
    "system = [\n",
    "        assum_k_positive_and_harmonic, \n",
    "        assume_k_positive.refine( sp.Q.nonzero( k ) ), \n",
    "        double_angle_equivelence \n",
    "    ]"
   ]
  },
  {
   "cell_type": "code",
   "execution_count": 54,
   "id": "044310db-fa16-4de0-9944-614089256807",
   "metadata": {},
   "outputs": [],
   "source": [
    "sin2lk = sp.solve( system, double_angle_k_length )"
   ]
  },
  {
   "cell_type": "code",
   "execution_count": 55,
   "id": "a1ce829a-deeb-45c2-8495-f3a7ceac26de",
   "metadata": {},
   "outputs": [
    {
     "data": {
      "text/plain": [
       "{sin(2*L*k): sin(L*k)}"
      ]
     },
     "execution_count": 55,
     "metadata": {},
     "output_type": "execute_result"
    }
   ],
   "source": [
    "sin2lk"
   ]
  },
  {
   "cell_type": "code",
   "execution_count": null,
   "id": "5bbf97a2-0e2d-4be3-bb6e-19e8a318d5a1",
   "metadata": {},
   "outputs": [],
   "source": []
  },
  {
   "cell_type": "code",
   "execution_count": 56,
   "id": "4544c727-bb5d-47c6-95fd-0d6afdf4c51f",
   "metadata": {},
   "outputs": [],
   "source": [
    "steps[ 3 ] = steps[ 2 ].subs( sin2lk )"
   ]
  },
  {
   "cell_type": "code",
   "execution_count": 57,
   "id": "6b6b907d-9e2c-46d3-96ac-4d2b218216b2",
   "metadata": {},
   "outputs": [
    {
     "data": {
      "text/latex": [
       "$\\displaystyle \\frac{C_{1} \\left(L k - \\frac{\\sin{\\left(L k \\right)}}{2}\\right) \\overline{C_{1}}}{2 k} = 1$"
      ],
      "text/plain": [
       "Eq(C1*(L*k - sin(L*k)/2)*conjugate(C1)/(2*k), 1)"
      ]
     },
     "execution_count": 57,
     "metadata": {},
     "output_type": "execute_result"
    }
   ],
   "source": [
    "steps[ 3 ]"
   ]
  },
  {
   "cell_type": "code",
   "execution_count": 58,
   "id": "89691991-a5d6-4cdf-b40f-086200476b4e",
   "metadata": {},
   "outputs": [],
   "source": [
    "steps[ 4 ] = steps[ 3 ].refine( assume_k_positive )"
   ]
  },
  {
   "cell_type": "code",
   "execution_count": 59,
   "id": "741b4ecf-b9b2-4751-9556-00e51e25abc5",
   "metadata": {},
   "outputs": [
    {
     "data": {
      "text/latex": [
       "$\\displaystyle \\frac{C_{1} \\left(L k - \\frac{\\sin{\\left(L k \\right)}}{2}\\right) \\overline{C_{1}}}{2 k} = 1$"
      ],
      "text/plain": [
       "Eq(C1*(L*k - sin(L*k)/2)*conjugate(C1)/(2*k), 1)"
      ]
     },
     "execution_count": 59,
     "metadata": {},
     "output_type": "execute_result"
    }
   ],
   "source": [
    "steps[ 4 ]"
   ]
  },
  {
   "cell_type": "code",
   "execution_count": 60,
   "id": "baeef352-a2cd-4384-b7f2-b05af0471a26",
   "metadata": {},
   "outputs": [],
   "source": [
    "#^^ You have to be kidding"
   ]
  },
  {
   "cell_type": "code",
   "execution_count": 61,
   "id": "fdec0de1-bdad-44c4-b1a5-8b6f002a1678",
   "metadata": {},
   "outputs": [],
   "source": [
    "steps[ 4 ] = steps[ 3 ].subs( { assume_k_positive.lhs: assume_k_positive.rhs } )"
   ]
  },
  {
   "cell_type": "code",
   "execution_count": 62,
   "id": "98973143-1d55-45ec-b97d-ed94ff980535",
   "metadata": {},
   "outputs": [
    {
     "data": {
      "text/latex": [
       "$\\displaystyle \\frac{C_{1} L \\overline{C_{1}}}{2} = 1$"
      ],
      "text/plain": [
       "Eq(C1*L*conjugate(C1)/2, 1)"
      ]
     },
     "execution_count": 62,
     "metadata": {},
     "output_type": "execute_result"
    }
   ],
   "source": [
    "steps[ 4 ]"
   ]
  },
  {
   "cell_type": "code",
   "execution_count": null,
   "id": "7e08e4a5-f327-4454-9580-f65e19a428e7",
   "metadata": {},
   "outputs": [],
   "source": []
  },
  {
   "cell_type": "code",
   "execution_count": 63,
   "id": "241e1b68-775f-44c7-895b-c2ba1b76464d",
   "metadata": {},
   "outputs": [],
   "source": [
    "conjugate_multiply = C1 * sp.conjugate( C1 )"
   ]
  },
  {
   "cell_type": "code",
   "execution_count": 64,
   "id": "99af93af-b19b-438f-b936-352db5c61853",
   "metadata": {},
   "outputs": [
    {
     "data": {
      "text/latex": [
       "$\\displaystyle C_{1} \\overline{C_{1}}$"
      ],
      "text/plain": [
       "C1*conjugate(C1)"
      ]
     },
     "execution_count": 64,
     "metadata": {},
     "output_type": "execute_result"
    }
   ],
   "source": [
    "conjugate_multiply"
   ]
  },
  {
   "cell_type": "code",
   "execution_count": null,
   "id": "4f5b339e-c5f9-4537-8693-97549d795abd",
   "metadata": {},
   "outputs": [],
   "source": []
  },
  {
   "cell_type": "code",
   "execution_count": 65,
   "id": "a9835260-d0ee-47cc-8755-e70069c03dc7",
   "metadata": {},
   "outputs": [],
   "source": [
    "conjugate_real = sp.Eq( conjugate_multiply, sp.Abs( C1 ) ** 2 )"
   ]
  },
  {
   "cell_type": "code",
   "execution_count": 66,
   "id": "56c30016-bcf0-49c6-a611-e880c4c8217c",
   "metadata": {},
   "outputs": [
    {
     "data": {
      "text/latex": [
       "$\\displaystyle C_{1} \\overline{C_{1}} = \\left|{C_{1}}\\right|^{2}$"
      ],
      "text/plain": [
       "Eq(C1*conjugate(C1), Abs(C1)**2)"
      ]
     },
     "execution_count": 66,
     "metadata": {},
     "output_type": "execute_result"
    }
   ],
   "source": [
    "conjugate_real"
   ]
  },
  {
   "cell_type": "code",
   "execution_count": null,
   "id": "15b669f1-0c5e-4d07-964a-49f157193a31",
   "metadata": {},
   "outputs": [],
   "source": []
  },
  {
   "cell_type": "code",
   "execution_count": 67,
   "id": "fbd6f070-e2a2-4588-a73a-a91269ea3d2e",
   "metadata": {},
   "outputs": [
    {
     "data": {
      "text/latex": [
       "$\\displaystyle C_{1}^{2} + 1$"
      ],
      "text/plain": [
       "C1**2 + 1"
      ]
     },
     "execution_count": 67,
     "metadata": {},
     "output_type": "execute_result"
    }
   ],
   "source": [
    "(( C1 + sp.I ) * ( C1 - sp.I ) ).expand()"
   ]
  },
  {
   "cell_type": "code",
   "execution_count": 68,
   "id": "cc2de2d8-d632-4be1-8e8c-0a51d1ba6009",
   "metadata": {},
   "outputs": [
    {
     "data": {
      "text/latex": [
       "$\\displaystyle C_{1} \\overline{C_{1}} = C_{1}^{2}$"
      ],
      "text/plain": [
       "Eq(C1*conjugate(C1), C1**2)"
      ]
     },
     "execution_count": 68,
     "metadata": {},
     "output_type": "execute_result"
    }
   ],
   "source": [
    "conjugate_real.refine( sp.Q.real( C1 ) )"
   ]
  },
  {
   "cell_type": "code",
   "execution_count": 69,
   "id": "53513f19-a010-4bd9-b12a-44a0f96a02fc",
   "metadata": {},
   "outputs": [
    {
     "data": {
      "text/latex": [
       "$\\displaystyle C_{1} \\overline{C_{1}}$"
      ],
      "text/plain": [
       "C1*conjugate(C1)"
      ]
     },
     "execution_count": 69,
     "metadata": {},
     "output_type": "execute_result"
    }
   ],
   "source": [
    "conjugate_multiply.refine( sp.Q.real( C1 ) ).simplify().expand()"
   ]
  },
  {
   "cell_type": "code",
   "execution_count": 70,
   "id": "c2ba2fe0-9a03-4192-bf80-1949f90b538b",
   "metadata": {},
   "outputs": [],
   "source": [
    "reeq = sp.Eq( C1 - sp.I, sp.re( C1 ) - sp.I )"
   ]
  },
  {
   "cell_type": "code",
   "execution_count": 71,
   "id": "e4bf698d-6258-4002-8efb-2424698836e0",
   "metadata": {},
   "outputs": [
    {
     "data": {
      "text/latex": [
       "$\\displaystyle C_{1} - i = \\operatorname{re}{\\left(C_{1}\\right)} - i$"
      ],
      "text/plain": [
       "Eq(C1 - I, re(C1) - I)"
      ]
     },
     "execution_count": 71,
     "metadata": {},
     "output_type": "execute_result"
    }
   ],
   "source": [
    "reeq"
   ]
  },
  {
   "cell_type": "code",
   "execution_count": 72,
   "id": "eb677ce2-a2cc-4ae2-9156-9a50c44f45f0",
   "metadata": {},
   "outputs": [],
   "source": [
    "c1_real = sp.solve( reeq, C1 )"
   ]
  },
  {
   "cell_type": "code",
   "execution_count": 73,
   "id": "7822084a-2d66-4d74-8d3a-bb9e8fe86a89",
   "metadata": {},
   "outputs": [
    {
     "data": {
      "text/plain": [
       "[{C1: re(C1), im(C1): 0}]"
      ]
     },
     "execution_count": 73,
     "metadata": {},
     "output_type": "execute_result"
    }
   ],
   "source": [
    "c1_real"
   ]
  },
  {
   "cell_type": "code",
   "execution_count": null,
   "id": "f20ee9de-c7c7-4207-802f-dd961099e860",
   "metadata": {},
   "outputs": [],
   "source": []
  },
  {
   "cell_type": "code",
   "execution_count": 74,
   "id": "3bd2a4aa-8756-4f6c-a848-a31d0e4313a2",
   "metadata": {},
   "outputs": [],
   "source": [
    "steps[ 5 ] = steps[ 4 ].subs( c1_real[ 0 ] )#[ sp.conjugate( C1 ) ] )"
   ]
  },
  {
   "cell_type": "code",
   "execution_count": 75,
   "id": "4b898a7d-7bec-4b80-8293-d4f13f29440b",
   "metadata": {},
   "outputs": [
    {
     "data": {
      "text/latex": [
       "$\\displaystyle \\frac{L \\left(\\operatorname{re}{\\left(C_{1}\\right)}\\right)^{2}}{2} = 1$"
      ],
      "text/plain": [
       "Eq(L*re(C1)**2/2, 1)"
      ]
     },
     "execution_count": 75,
     "metadata": {},
     "output_type": "execute_result"
    }
   ],
   "source": [
    "steps[ 5 ]"
   ]
  },
  {
   "cell_type": "code",
   "execution_count": null,
   "id": "a9346e42-a0ea-4ce1-acb3-86d4c3647e6a",
   "metadata": {},
   "outputs": [],
   "source": []
  },
  {
   "cell_type": "code",
   "execution_count": 76,
   "id": "11caacad-7c80-4556-8072-316a81871d34",
   "metadata": {},
   "outputs": [],
   "source": [
    "steps[ 6 ] = steps[ 5 ].subs( { sp.re( C1 ): C1 } )"
   ]
  },
  {
   "cell_type": "code",
   "execution_count": 77,
   "id": "eb8b6cae-f4d3-4dfe-9842-787aba060f2f",
   "metadata": {},
   "outputs": [
    {
     "data": {
      "text/latex": [
       "$\\displaystyle \\frac{C_{1}^{2} L}{2} = 1$"
      ],
      "text/plain": [
       "Eq(C1**2*L/2, 1)"
      ]
     },
     "execution_count": 77,
     "metadata": {},
     "output_type": "execute_result"
    }
   ],
   "source": [
    "steps[ 6 ]"
   ]
  },
  {
   "cell_type": "code",
   "execution_count": null,
   "id": "ab5a474b-efb6-4138-999a-65fd3e640f7f",
   "metadata": {},
   "outputs": [],
   "source": []
  },
  {
   "cell_type": "code",
   "execution_count": 78,
   "id": "8e027ecf-8062-48ff-83fb-c3d8d1e35950",
   "metadata": {},
   "outputs": [],
   "source": [
    "steps[ 7 ] = both_sides( steps[ 6 ], lambda side : 2 * side / well_length )"
   ]
  },
  {
   "cell_type": "code",
   "execution_count": 79,
   "id": "ba138dea-8114-42b7-8ed5-75f57d2eb9cd",
   "metadata": {},
   "outputs": [
    {
     "data": {
      "text/latex": [
       "$\\displaystyle C_{1}^{2} = \\frac{2}{L}$"
      ],
      "text/plain": [
       "Eq(C1**2, 2/L)"
      ]
     },
     "execution_count": 79,
     "metadata": {},
     "output_type": "execute_result"
    }
   ],
   "source": [
    "steps[ 7 ] "
   ]
  },
  {
   "cell_type": "code",
   "execution_count": null,
   "id": "ce8c47c0-b3c2-42c9-a4a9-6de65df02075",
   "metadata": {},
   "outputs": [],
   "source": []
  },
  {
   "cell_type": "code",
   "execution_count": 80,
   "id": "c285fdac-9f7b-4418-9362-e3806d353913",
   "metadata": {},
   "outputs": [],
   "source": [
    "steps[ 8 ] = both_sides( steps[ 7 ], lambda side : sp.sqrt( side ) )"
   ]
  },
  {
   "cell_type": "code",
   "execution_count": 81,
   "id": "04c47833-853f-4a79-8b8b-cb6f9f990fc8",
   "metadata": {},
   "outputs": [
    {
     "data": {
      "text/latex": [
       "$\\displaystyle \\sqrt{C_{1}^{2}} = \\frac{\\sqrt{2}}{\\sqrt{L}}$"
      ],
      "text/plain": [
       "Eq(sqrt(C1**2), sqrt(2)/sqrt(L))"
      ]
     },
     "execution_count": 81,
     "metadata": {},
     "output_type": "execute_result"
    }
   ],
   "source": [
    "steps[ 8 ]"
   ]
  },
  {
   "cell_type": "code",
   "execution_count": null,
   "id": "3c3e1740-fbd7-4704-b598-5346ebfe355d",
   "metadata": {},
   "outputs": [],
   "source": []
  },
  {
   "cell_type": "code",
   "execution_count": 82,
   "id": "4621e349-e7c4-4e20-88e8-6132b1aa1411",
   "metadata": {},
   "outputs": [],
   "source": [
    "steps[ 9 ] = steps[ 8 ]"
   ]
  },
  {
   "cell_type": "code",
   "execution_count": 83,
   "id": "56d669c1-d304-4f24-9da1-1076c4855116",
   "metadata": {},
   "outputs": [
    {
     "data": {
      "text/latex": [
       "$\\displaystyle \\sqrt{C_{1}^{2}} = \\frac{\\sqrt{2}}{\\sqrt{L}}$"
      ],
      "text/plain": [
       "Eq(sqrt(C1**2), sqrt(2)/sqrt(L))"
      ]
     },
     "execution_count": 83,
     "metadata": {},
     "output_type": "execute_result"
    }
   ],
   "source": [
    "steps[ 9 ] "
   ]
  },
  {
   "cell_type": "code",
   "execution_count": 84,
   "id": "018579eb-51b7-4a5f-9577-cde2bb30bd82",
   "metadata": {},
   "outputs": [],
   "source": [
    "steps[ 10 ] = steps[ 9 ].refine( sp.Q.positive( C1 ) )"
   ]
  },
  {
   "cell_type": "code",
   "execution_count": 85,
   "id": "d44c2055-5e54-4d45-9afc-f32a570f49c5",
   "metadata": {},
   "outputs": [
    {
     "data": {
      "text/latex": [
       "$\\displaystyle C_{1} = \\frac{\\sqrt{2}}{\\sqrt{L}}$"
      ],
      "text/plain": [
       "Eq(C1, sqrt(2)/sqrt(L))"
      ]
     },
     "execution_count": 85,
     "metadata": {},
     "output_type": "execute_result"
    }
   ],
   "source": [
    "steps[ 10 ]"
   ]
  },
  {
   "cell_type": "code",
   "execution_count": 86,
   "id": "3c585a7e-7bd8-424a-b83d-beedac4067d4",
   "metadata": {},
   "outputs": [],
   "source": [
    "# FINALLLLLY!!!!!!!!!!!!!!!!!!!!!!!!!!!!!! :'D"
   ]
  },
  {
   "cell_type": "code",
   "execution_count": null,
   "id": "2bfe1d07-c57d-4ec9-a2fc-d12f195cfdbd",
   "metadata": {},
   "outputs": [],
   "source": []
  },
  {
   "cell_type": "code",
   "execution_count": 87,
   "id": "9eaf1172-afcc-432c-b30a-e34a0dbff950",
   "metadata": {},
   "outputs": [],
   "source": [
    "final_normalization_constant = steps[ 10 ]"
   ]
  },
  {
   "cell_type": "code",
   "execution_count": 147,
   "id": "05126511-2052-47b6-98f4-9ce5467745ae",
   "metadata": {},
   "outputs": [],
   "source": [
    "psi_no_k = boundry_applied.subs( { \n",
    "        final_normalization_constant.lhs : final_normalization_constant.rhs \n",
    "    } )"
   ]
  },
  {
   "cell_type": "code",
   "execution_count": 88,
   "id": "e7109254-b8de-4129-abe4-8a6f7502b7e9",
   "metadata": {},
   "outputs": [],
   "source": [
    "\n",
    "psi_middle = boundry_applied.subs( { \n",
    "        final_normalization_constant.lhs : final_normalization_constant.rhs \n",
    "    } )"
   ]
  },
  {
   "cell_type": "code",
   "execution_count": 89,
   "id": "a808e367-cb75-400c-a0c4-14cfdc81a4be",
   "metadata": {},
   "outputs": [
    {
     "data": {
      "text/latex": [
       "$\\displaystyle \\psi{\\left(x \\right)} = \\frac{\\sqrt{2} \\sin{\\left(x \\left|{k}\\right| \\right)}}{\\sqrt{L}}$"
      ],
      "text/plain": [
       "Eq(psi(x), sqrt(2)*sin(x*Abs(k))/sqrt(L))"
      ]
     },
     "execution_count": 89,
     "metadata": {},
     "output_type": "execute_result"
    }
   ],
   "source": [
    "psi_middle"
   ]
  },
  {
   "cell_type": "code",
   "execution_count": 90,
   "id": "ba53d84e-5daa-437b-a329-e5c6989a9b14",
   "metadata": {},
   "outputs": [],
   "source": [
    "#YESSSSSSSSSSS!!!!!!!!!!!!! :'D"
   ]
  },
  {
   "cell_type": "code",
   "execution_count": null,
   "id": "193f8321-5eed-4a19-af02-1a14a570e775",
   "metadata": {},
   "outputs": [],
   "source": []
  },
  {
   "cell_type": "code",
   "execution_count": 91,
   "id": "95065588-d6f1-4472-8ade-7b6e426159c3",
   "metadata": {},
   "outputs": [],
   "source": [
    "k_value = both_sides( k_sq, lambda side : sp.sqrt( side ).simplify() )"
   ]
  },
  {
   "cell_type": "code",
   "execution_count": 92,
   "id": "95a45048-8de9-4166-a076-2a443f4c871b",
   "metadata": {},
   "outputs": [
    {
     "data": {
      "text/latex": [
       "$\\displaystyle \\left|{k}\\right| = \\frac{\\sqrt{2} \\sqrt{E} \\sqrt{\\text{m}}}{\\text{hbar}}$"
      ],
      "text/plain": [
       "Eq(Abs(k), sqrt(2)*sqrt(m)*sqrt(E)/hbar)"
      ]
     },
     "execution_count": 92,
     "metadata": {},
     "output_type": "execute_result"
    }
   ],
   "source": [
    "k_value"
   ]
  },
  {
   "cell_type": "code",
   "execution_count": 93,
   "id": "6cf02fac-aec9-4cb4-969a-ccbef38abfb0",
   "metadata": {},
   "outputs": [],
   "source": [
    "k_value_substitutable = equation_to_dict( k_value )"
   ]
  },
  {
   "cell_type": "code",
   "execution_count": null,
   "id": "c607bee4-f137-4ccf-803a-aeeae5921461",
   "metadata": {},
   "outputs": [],
   "source": []
  },
  {
   "cell_type": "code",
   "execution_count": 143,
   "id": "1c89c43e-dcd2-496d-b242-27aa4b82395c",
   "metadata": {},
   "outputs": [
    {
     "data": {
      "text/latex": [
       "$\\displaystyle k^{2} = \\frac{2 E \\text{m}}{\\text{hbar}^{2}}$"
      ],
      "text/plain": [
       "Eq(k**2, 2*m*E/hbar**2)"
      ]
     },
     "execution_count": 143,
     "metadata": {},
     "output_type": "execute_result"
    }
   ],
   "source": [
    "k_sq"
   ]
  },
  {
   "cell_type": "code",
   "execution_count": null,
   "id": "de322d61-fed9-4fcb-9fa6-e9ae3d4a97cf",
   "metadata": {},
   "outputs": [],
   "source": []
  },
  {
   "cell_type": "code",
   "execution_count": 94,
   "id": "73fc9b0e-5b3d-4285-b14f-ae85dc5432bd",
   "metadata": {},
   "outputs": [],
   "source": [
    "psi_middle = psi_middle.subs( k_value_substitutable )"
   ]
  },
  {
   "cell_type": "code",
   "execution_count": 95,
   "id": "e51c23bd-bb00-41ca-bbfb-ec7b92e1e37c",
   "metadata": {},
   "outputs": [
    {
     "data": {
      "text/latex": [
       "$\\displaystyle \\psi{\\left(x \\right)} = \\frac{\\sqrt{2} \\sin{\\left(\\frac{\\sqrt{2} \\sqrt{E} x \\sqrt{\\text{m}}}{\\text{hbar}} \\right)}}{\\sqrt{L}}$"
      ],
      "text/plain": [
       "Eq(psi(x), sqrt(2)*sin(sqrt(2)*sqrt(m)*sqrt(E)*x/hbar)/sqrt(L))"
      ]
     },
     "execution_count": 95,
     "metadata": {},
     "output_type": "execute_result"
    }
   ],
   "source": [
    "psi_middle"
   ]
  },
  {
   "cell_type": "code",
   "execution_count": 96,
   "id": "c674ec1f-7502-4231-aad6-ca3aaddacfc9",
   "metadata": {},
   "outputs": [],
   "source": [
    "# OH MY GOODNESS THE DERIVATION IS FINISHED!!!!! :D LETS PLOT IT"
   ]
  },
  {
   "cell_type": "code",
   "execution_count": null,
   "id": "2d09e4b4-7fd7-409a-b54a-8517e6c0af7f",
   "metadata": {},
   "outputs": [],
   "source": []
  },
  {
   "cell_type": "code",
   "execution_count": null,
   "id": "d85ee294-609e-46a0-958e-0d0d139bd6f5",
   "metadata": {},
   "outputs": [],
   "source": []
  },
  {
   "cell_type": "code",
   "execution_count": 97,
   "id": "2f4c7f0d-8f6f-4871-b890-06d57a6ca1e9",
   "metadata": {},
   "outputs": [],
   "source": [
    "constant_solve_steps = {}\n",
    "constant_solve_steps[ 0 ] = assume_c1_not_zero.subs( k_value_substitutable )"
   ]
  },
  {
   "cell_type": "code",
   "execution_count": 98,
   "id": "43a756af-da45-4525-b389-bbcea87de440",
   "metadata": {},
   "outputs": [
    {
     "data": {
      "text/latex": [
       "$\\displaystyle \\sin{\\left(\\frac{\\sqrt{2} \\sqrt{E} L \\sqrt{\\text{m}}}{\\text{hbar}} \\right)} = 0$"
      ],
      "text/plain": [
       "Eq(sin(sqrt(2)*sqrt(m)*sqrt(E)*L/hbar), 0)"
      ]
     },
     "execution_count": 98,
     "metadata": {},
     "output_type": "execute_result"
    }
   ],
   "source": [
    "constant_solve_steps[ 0 ]"
   ]
  },
  {
   "cell_type": "code",
   "execution_count": 99,
   "id": "b0fa680c-2536-497f-b597-8c42ff2b75de",
   "metadata": {},
   "outputs": [],
   "source": [
    "# Lets find some values that statisfy this relation so we can plot psi!"
   ]
  },
  {
   "cell_type": "code",
   "execution_count": null,
   "id": "6545e50d-eba0-4269-b80d-24d91be7a324",
   "metadata": {},
   "outputs": [],
   "source": []
  },
  {
   "cell_type": "code",
   "execution_count": 100,
   "id": "b92b9c14-7a66-4a11-8880-fafa13a71e46",
   "metadata": {},
   "outputs": [],
   "source": [
    "energy_length_mass = sp.Symbol( \"ELM\" )"
   ]
  },
  {
   "cell_type": "code",
   "execution_count": null,
   "id": "27121bbc-2378-443f-bf23-174464800206",
   "metadata": {},
   "outputs": [],
   "source": []
  },
  {
   "cell_type": "code",
   "execution_count": 101,
   "id": "38a811ce-6ab9-41ea-8d19-e2c88d6c602e",
   "metadata": {},
   "outputs": [],
   "source": [
    "constant_solve_steps[ 1 ] = constant_solve_steps[ 0 ] \\\n",
    "        .subs( total_energy, energy_length_mass ) \\\n",
    "        .subs( well_length, energy_length_mass ) \\\n",
    "        .subs( m, energy_length_mass )\n"
   ]
  },
  {
   "cell_type": "code",
   "execution_count": 102,
   "id": "ed5f61c8-3f9e-4900-9b44-1ccf6875ed5e",
   "metadata": {},
   "outputs": [
    {
     "data": {
      "text/latex": [
       "$\\displaystyle \\sin{\\left(\\frac{\\sqrt{2} ELM^{2}}{\\text{hbar}} \\right)} = 0$"
      ],
      "text/plain": [
       "Eq(sin(sqrt(2)*ELM**2/hbar), 0)"
      ]
     },
     "execution_count": 102,
     "metadata": {},
     "output_type": "execute_result"
    }
   ],
   "source": [
    "constant_solve_steps[ 1 ]#.atoms()"
   ]
  },
  {
   "cell_type": "code",
   "execution_count": null,
   "id": "bc5890f2-fff2-46a2-acb2-bde4fc21e223",
   "metadata": {},
   "outputs": [],
   "source": []
  },
  {
   "cell_type": "code",
   "execution_count": 103,
   "id": "3483efcb-c04f-4261-84f9-19c5ccd45459",
   "metadata": {},
   "outputs": [],
   "source": [
    "constant_solve_substep = {}\n",
    "constant_solve_substep[ 0 ] = sp.Eq( constant_solve_steps[ 1 ].lhs.args[ 0 ], sp.pi * 2 )"
   ]
  },
  {
   "cell_type": "code",
   "execution_count": 104,
   "id": "d53f8ac9-c0fe-418e-a553-97bf1c98b2c3",
   "metadata": {},
   "outputs": [
    {
     "data": {
      "text/latex": [
       "$\\displaystyle \\frac{\\sqrt{2} ELM^{2}}{\\text{hbar}} = 2 \\pi$"
      ],
      "text/plain": [
       "Eq(sqrt(2)*ELM**2/hbar, 2*pi)"
      ]
     },
     "execution_count": 104,
     "metadata": {},
     "output_type": "execute_result"
    }
   ],
   "source": [
    "constant_solve_substep[ 0 ]"
   ]
  },
  {
   "cell_type": "code",
   "execution_count": 105,
   "id": "10f4aa25-3849-4381-93ce-df999f541906",
   "metadata": {},
   "outputs": [],
   "source": [
    "constant_solve_substep[ 1 ] = both_sides( constant_solve_substep[ 0 ], lambda side : side / ( 2 * sp.pi ) )"
   ]
  },
  {
   "cell_type": "code",
   "execution_count": 106,
   "id": "927e05a6-edbf-4d63-9a95-481f42d760d2",
   "metadata": {},
   "outputs": [
    {
     "data": {
      "text/latex": [
       "$\\displaystyle \\frac{\\sqrt{2} ELM^{2}}{2 \\pi \\text{hbar}} = 1$"
      ],
      "text/plain": [
       "Eq(sqrt(2)*ELM**2/(2*pi*hbar), 1)"
      ]
     },
     "execution_count": 106,
     "metadata": {},
     "output_type": "execute_result"
    }
   ],
   "source": [
    "constant_solve_substep[ 1 ]"
   ]
  },
  {
   "cell_type": "code",
   "execution_count": 107,
   "id": "1991df47-12d3-4999-b352-d899a22e7e81",
   "metadata": {},
   "outputs": [],
   "source": [
    "constant_solve_substep[ 2 ] = both_sides( constant_solve_substep[ 1 ], lambda side : side / ( energy_length_mass ** 2 ) )"
   ]
  },
  {
   "cell_type": "code",
   "execution_count": 108,
   "id": "cb8d0979-7bdf-45c7-961c-38966d1fbe5e",
   "metadata": {},
   "outputs": [
    {
     "data": {
      "text/latex": [
       "$\\displaystyle \\frac{\\sqrt{2}}{2 \\pi \\text{hbar}} = \\frac{1}{ELM^{2}}$"
      ],
      "text/plain": [
       "Eq(sqrt(2)/(2*pi*hbar), ELM**(-2))"
      ]
     },
     "execution_count": 108,
     "metadata": {},
     "output_type": "execute_result"
    }
   ],
   "source": [
    "constant_solve_substep[ 2 ]"
   ]
  },
  {
   "cell_type": "code",
   "execution_count": 109,
   "id": "2615b762-4b74-44cb-b233-4a780658a551",
   "metadata": {},
   "outputs": [],
   "source": [
    "constant_solve_substep[ 3 ] = sp.solve( constant_solve_substep[ 2 ], energy_length_mass ** 2 )"
   ]
  },
  {
   "cell_type": "code",
   "execution_count": 110,
   "id": "704d1000-68c9-4ca1-9026-a04349cdf895",
   "metadata": {},
   "outputs": [
    {
     "data": {
      "text/latex": [
       "$\\displaystyle \\sqrt{2} \\pi \\text{hbar}$"
      ],
      "text/plain": [
       "sqrt(2)*pi*hbar"
      ]
     },
     "execution_count": 110,
     "metadata": {},
     "output_type": "execute_result"
    }
   ],
   "source": [
    "constant_solve_substep[ 3 ][ 0 ]"
   ]
  },
  {
   "cell_type": "code",
   "execution_count": null,
   "id": "feddf065-99f0-4a77-8921-11350e1f0f82",
   "metadata": {},
   "outputs": [],
   "source": []
  },
  {
   "cell_type": "code",
   "execution_count": 111,
   "id": "e058804e-4160-4e13-86aa-d77b5feb3fe0",
   "metadata": {},
   "outputs": [],
   "source": [
    "constant_solve_substep[ 4 ] = sp.sqrt( constant_solve_substep[ 3 ][ 0 ] )"
   ]
  },
  {
   "cell_type": "code",
   "execution_count": 112,
   "id": "17d7aa2e-a103-4324-89ce-2ab71933dc6f",
   "metadata": {},
   "outputs": [
    {
     "data": {
      "text/latex": [
       "$\\displaystyle \\sqrt[4]{2} \\sqrt{\\pi} \\sqrt{\\text{hbar}}$"
      ],
      "text/plain": [
       "2**(1/4)*sqrt(pi)*sqrt(hbar)"
      ]
     },
     "execution_count": 112,
     "metadata": {},
     "output_type": "execute_result"
    }
   ],
   "source": [
    "constant_solve_substep[ 4 ]"
   ]
  },
  {
   "cell_type": "code",
   "execution_count": 113,
   "id": "4f58b484-bf17-48cc-9494-716ded6edba6",
   "metadata": {},
   "outputs": [],
   "source": [
    "energy_length_mass_product = constant_solve_substep[ 4 ]"
   ]
  },
  {
   "cell_type": "code",
   "execution_count": 114,
   "id": "3cc5d13c-2b69-4641-b57a-7fbd6c2f3cc9",
   "metadata": {},
   "outputs": [
    {
     "data": {
      "text/latex": [
       "$\\displaystyle \\sqrt[4]{2} \\sqrt{\\pi} \\sqrt{\\text{hbar}}$"
      ],
      "text/plain": [
       "2**(1/4)*sqrt(pi)*sqrt(hbar)"
      ]
     },
     "execution_count": 114,
     "metadata": {},
     "output_type": "execute_result"
    }
   ],
   "source": [
    "energy_length_mass_product"
   ]
  },
  {
   "cell_type": "code",
   "execution_count": 115,
   "id": "bd690341-57c5-4ccb-bf24-d8072b0a7243",
   "metadata": {},
   "outputs": [],
   "source": [
    "# Energy Length and Mass multiplied together must be the above value"
   ]
  },
  {
   "cell_type": "code",
   "execution_count": 116,
   "id": "b05e44a8-b472-4a7a-b351-6c4e3f310833",
   "metadata": {},
   "outputs": [
    {
     "data": {
      "text/latex": [
       "$\\displaystyle \\text{hbar} = \\frac{\\text{h}}{2 \\pi}$"
      ],
      "text/plain": [
       "Eq(hbar, planck/(2*pi))"
      ]
     },
     "execution_count": 116,
     "metadata": {},
     "output_type": "execute_result"
    }
   ],
   "source": [
    "hbar_eq"
   ]
  },
  {
   "cell_type": "code",
   "execution_count": null,
   "id": "4ad27a92-daf9-4821-8983-a97a7f63ef16",
   "metadata": {},
   "outputs": [],
   "source": []
  },
  {
   "cell_type": "code",
   "execution_count": 117,
   "id": "7ea7c7cd-ce46-4ac7-a575-81a3a9546f74",
   "metadata": {},
   "outputs": [],
   "source": [
    "energy_length_mass_product_planck = energy_length_mass_product.subs( equation_to_dict( hbar_eq ) )"
   ]
  },
  {
   "cell_type": "code",
   "execution_count": 118,
   "id": "b9caf7ba-d618-4c64-a010-9d44d7e3bbd1",
   "metadata": {},
   "outputs": [
    {
     "data": {
      "text/latex": [
       "$\\displaystyle \\frac{2^{\\frac{3}{4}} \\sqrt{\\text{h}}}{2}$"
      ],
      "text/plain": [
       "2**(3/4)*sqrt(planck)/2"
      ]
     },
     "execution_count": 118,
     "metadata": {},
     "output_type": "execute_result"
    }
   ],
   "source": [
    "energy_length_mass_product_planck"
   ]
  },
  {
   "cell_type": "code",
   "execution_count": null,
   "id": "6a7376bc-3d6b-46ff-acec-54728311b545",
   "metadata": {},
   "outputs": [],
   "source": []
  },
  {
   "cell_type": "code",
   "execution_count": 119,
   "id": "d802c73e-aaf2-4786-a661-1faa8a9e4f11",
   "metadata": {},
   "outputs": [],
   "source": [
    "energy_length_mass_relation = sp.Eq( total_energy * m * well_length, energy_length_mass_product_planck )"
   ]
  },
  {
   "cell_type": "code",
   "execution_count": 120,
   "id": "9c79a436-c9bc-4086-a134-98c041315cca",
   "metadata": {},
   "outputs": [
    {
     "data": {
      "text/latex": [
       "$\\displaystyle E L \\text{m} = \\frac{2^{\\frac{3}{4}} \\sqrt{\\text{h}}}{2}$"
      ],
      "text/plain": [
       "Eq(m*E*L, 2**(3/4)*sqrt(planck)/2)"
      ]
     },
     "execution_count": 120,
     "metadata": {},
     "output_type": "execute_result"
    }
   ],
   "source": [
    "energy_length_mass_relation"
   ]
  },
  {
   "cell_type": "code",
   "execution_count": null,
   "id": "d2b66a14-60f4-4f02-b444-a10bb4be2080",
   "metadata": {},
   "outputs": [],
   "source": []
  },
  {
   "cell_type": "code",
   "execution_count": 216,
   "id": "87c54523-f07a-44cc-ae41-8ce375fda8a5",
   "metadata": {},
   "outputs": [
    {
     "data": {
      "text/plain": [
       "2.1645643269630106e-17"
      ]
     },
     "execution_count": 216,
     "metadata": {},
     "output_type": "execute_result"
    }
   ],
   "source": [
    "float( energy_length_mass_relation.rhs.subs( sp.physics.units.planck, plancks_constant_value ) )"
   ]
  },
  {
   "cell_type": "code",
   "execution_count": 121,
   "id": "9154c0a6-200b-4264-afda-36ff8d4c411c",
   "metadata": {},
   "outputs": [],
   "source": [
    "length_product = sp.Eq( sp.Function( well_length )( total_energy, m ), sp.solve( energy_length_mass_relation, well_length )[ 0 ] )"
   ]
  },
  {
   "cell_type": "code",
   "execution_count": 122,
   "id": "9b6a05ac-821e-4913-8838-deeb9811a329",
   "metadata": {},
   "outputs": [
    {
     "data": {
      "text/latex": [
       "$\\displaystyle L{\\left(E,\\text{m} \\right)} = \\frac{2^{\\frac{3}{4}} \\sqrt{\\text{h}}}{2 E \\text{m}}$"
      ],
      "text/plain": [
       "Eq(L(E, m), 2**(3/4)*sqrt(planck)/(2*m*E))"
      ]
     },
     "execution_count": 122,
     "metadata": {},
     "output_type": "execute_result"
    }
   ],
   "source": [
    "length_product"
   ]
  },
  {
   "cell_type": "code",
   "execution_count": 123,
   "id": "be596832-7a8a-4e3c-8dd3-486c2195c40e",
   "metadata": {},
   "outputs": [
    {
     "data": {
      "text/latex": [
       "$\\displaystyle \\psi{\\left(x \\right)} = \\frac{\\sqrt{2} \\sin{\\left(\\frac{\\sqrt{2} \\sqrt{E} x \\sqrt{\\text{m}}}{\\text{hbar}} \\right)}}{\\sqrt{L}}$"
      ],
      "text/plain": [
       "Eq(psi(x), sqrt(2)*sin(sqrt(2)*sqrt(m)*sqrt(E)*x/hbar)/sqrt(L))"
      ]
     },
     "execution_count": 123,
     "metadata": {},
     "output_type": "execute_result"
    }
   ],
   "source": [
    "psi_middle"
   ]
  },
  {
   "cell_type": "code",
   "execution_count": null,
   "id": "4d6ad8f2-fd9c-499c-a403-6629b683fdaf",
   "metadata": {},
   "outputs": [],
   "source": []
  },
  {
   "cell_type": "code",
   "execution_count": 124,
   "id": "32912eb3-7603-425c-ba51-b2d3a1f93e24",
   "metadata": {},
   "outputs": [
    {
     "data": {
      "text/latex": [
       "$\\displaystyle \\sin{\\left(\\frac{\\text{h}}{\\text{hbar}} \\right)} = 0$"
      ],
      "text/plain": [
       "Eq(sin(planck/hbar), 0)"
      ]
     },
     "execution_count": 124,
     "metadata": {},
     "output_type": "execute_result"
    }
   ],
   "source": [
    "constant_solve_steps[ 1 ].subs( energy_length_mass, energy_length_mass_relation.rhs )"
   ]
  },
  {
   "cell_type": "code",
   "execution_count": 125,
   "id": "a12df6cd-a494-44a2-ba9a-0518671a877a",
   "metadata": {},
   "outputs": [],
   "source": [
    "change_right = lambda equation, operation : sp.Eq( equation.lhs, operation( equation.rhs ) )\n",
    "\n",
    "set_length = lambda length : change_right( energy_length_mass_relation \\\n",
    "        .subs( sp.physics.units.planck, plancks_constant_value ) \\\n",
    "        .subs( well_length, length ), lambda right : right.evalf() )"
   ]
  },
  {
   "cell_type": "code",
   "execution_count": 126,
   "id": "0ac4cc5e-e185-4226-a4c5-48a94294fa61",
   "metadata": {},
   "outputs": [],
   "source": [
    "length_eq_1 = set_length( 1 )"
   ]
  },
  {
   "cell_type": "code",
   "execution_count": 127,
   "id": "b3d9e109-d21f-4306-9b7c-e82a3d552e97",
   "metadata": {},
   "outputs": [
    {
     "data": {
      "text/latex": [
       "$\\displaystyle E \\text{m} = 2.16456432696301 \\cdot 10^{-17}$"
      ],
      "text/plain": [
       "Eq(m*E, 2.16456432696301e-17)"
      ]
     },
     "execution_count": 127,
     "metadata": {},
     "output_type": "execute_result"
    }
   ],
   "source": [
    "length_eq_1"
   ]
  },
  {
   "cell_type": "code",
   "execution_count": null,
   "id": "fcdd4449-7f55-41e9-9deb-c8fe37748f15",
   "metadata": {},
   "outputs": [],
   "source": []
  },
  {
   "cell_type": "code",
   "execution_count": 128,
   "id": "4f8ebb3c-859a-4aa5-8b08-379247eb74ec",
   "metadata": {},
   "outputs": [],
   "source": [
    "mass_coefficent = .1\n",
    "mass_value = sp.Eq( m, length_eq_1.rhs * mass_coefficent )"
   ]
  },
  {
   "cell_type": "code",
   "execution_count": 129,
   "id": "2e8eac30-ad4e-44d6-8bdf-b3caf70dfeb4",
   "metadata": {},
   "outputs": [
    {
     "data": {
      "text/latex": [
       "$\\displaystyle \\text{m} = 2.16456432696301 \\cdot 10^{-18}$"
      ],
      "text/plain": [
       "Eq(m, 2.16456432696301e-18)"
      ]
     },
     "execution_count": 129,
     "metadata": {},
     "output_type": "execute_result"
    }
   ],
   "source": [
    "mass_value"
   ]
  },
  {
   "cell_type": "code",
   "execution_count": 130,
   "id": "1c81051a-629b-4517-96fb-dba329cc22f1",
   "metadata": {},
   "outputs": [],
   "source": [
    "energy_value = sp.Eq( total_energy, length_eq_1.rhs * ( 1.0 - mass_coefficent ) )"
   ]
  },
  {
   "cell_type": "code",
   "execution_count": 131,
   "id": "6a184d5b-b8a6-4b98-933d-0e52ac05f7cd",
   "metadata": {},
   "outputs": [
    {
     "data": {
      "text/latex": [
       "$\\displaystyle E = 1.94810789426671 \\cdot 10^{-17}$"
      ],
      "text/plain": [
       "Eq(E, 1.94810789426671e-17)"
      ]
     },
     "execution_count": 131,
     "metadata": {},
     "output_type": "execute_result"
    }
   ],
   "source": [
    "energy_value"
   ]
  },
  {
   "cell_type": "code",
   "execution_count": null,
   "id": "7560a382-aeed-422e-a87e-815c8d103c61",
   "metadata": {},
   "outputs": [],
   "source": []
  },
  {
   "cell_type": "code",
   "execution_count": 132,
   "id": "ada02d16-38cf-45a9-8745-8d5cd668254e",
   "metadata": {},
   "outputs": [
    {
     "data": {
      "text/latex": [
       "$\\displaystyle \\psi{\\left(x \\right)} = \\frac{\\sqrt{2} \\sin{\\left(\\frac{\\sqrt{2} \\sqrt{E} x \\sqrt{\\text{m}}}{\\text{hbar}} \\right)}}{\\sqrt{L}}$"
      ],
      "text/plain": [
       "Eq(psi(x), sqrt(2)*sin(sqrt(2)*sqrt(m)*sqrt(E)*x/hbar)/sqrt(L))"
      ]
     },
     "execution_count": 132,
     "metadata": {},
     "output_type": "execute_result"
    }
   ],
   "source": [
    "psi_middle"
   ]
  },
  {
   "cell_type": "code",
   "execution_count": 245,
   "id": "56d01197-0256-4bcd-900d-7fa8d159596d",
   "metadata": {},
   "outputs": [],
   "source": [
    "def make_psi_middle( mass_coefficent = .1, well_length_value = 1, psi_middle = psi_middle, n = 1 ): \n",
    "    mass_energy_length_relation = set_length( well_length_value )\n",
    "    #hva= 1e-17\n",
    "    print( mass_energy_length_relation )\n",
    "    mass_value = sp.Eq( m, mass_energy_length_relation.rhs * mass_coefficent )\n",
    "    print( mass_value, mass_value.rhs )\n",
    "    energy_value = sp.Eq( total_energy, mass_energy_length_relation.rhs * ( 1.0 - mass_coefficent ) )\n",
    "    print( energy_value, energy_value.rhs )\n",
    "    sp.pprint( psi_middle )\n",
    "    print( \"AAA\" )\n",
    "    #print( float( energy_value.rhs ) )\n",
    "    print( float( equation_to_dict( hbar_eq )[ hbar ].subs( sp.physics.units.planck, plancks_constant_value ) ) )\n",
    "    plank = equation_to_dict( hbar_eq )[ hbar ].subs( sp.physics.units.planck, plancks_constant_value )\n",
    "    print( \"plank: \", plank, \"float: \", float( plank ) )\n",
    "    eng = np.sqrt( float( energy_value.rhs ) )\n",
    "    print( \"energy: \", eng )\n",
    "    ma = np.sqrt( float( mass_value.rhs ) )\n",
    "    print( \"mass: \", ma )\n",
    "    print( eng * ma * np.sqrt( 2.0 ) / float( plank ) )\n",
    "    return change_right( psi_middle, lambda right : right \\\n",
    "            .subs( equation_to_dict( hbar_eq ) ) \\\n",
    "            .subs( sp.physics.units.planck, plancks_constant_value ) \\\n",
    "            .subs( m, mass_value.rhs ) \\\n",
    "            .subs( total_energy, energy_value.rhs ) \\\n",
    "            .subs( well_length, well_length_value )\n",
    "        )\n"
   ]
  },
  {
   "cell_type": "code",
   "execution_count": 246,
   "id": "01897b26-050a-4378-8cf6-990947b8395d",
   "metadata": {},
   "outputs": [
    {
     "name": "stdout",
     "output_type": "stream",
     "text": [
      "Eq(m*E, 2.16456432696301e-17)\n",
      "Eq(m, 2.16456432696301e-18) 2.16456432696301e-18\n",
      "Eq(E, 1.94810789426671e-17) 1.94810789426671e-17\n",
      "             ⎛√2⋅√E⋅x⋅√m⎞\n",
      "       √2⋅sin⎜──────────⎟\n",
      "             ⎝   hbar   ⎠\n",
      "ψ(x) = ──────────────────\n",
      "               √L        \n",
      "AAA\n",
      "1.0545717253362894e-34\n",
      "plank:  3.313034785e-34/pi float:  1.0545717253362894e-34\n",
      "energy:  4.4137375253482275e-09\n",
      "mass:  1.4712458417827425e-09\n",
      "8.708244743174534e+16\n"
     ]
    }
   ],
   "source": [
    "psi_filled_middle = make_psi_middle()# well_length_value =1e4 )"
   ]
  },
  {
   "cell_type": "code",
   "execution_count": 247,
   "id": "b9681a13-0d11-428a-9efa-d4d745a1863b",
   "metadata": {},
   "outputs": [
    {
     "data": {
      "text/latex": [
       "$\\displaystyle \\psi{\\left(x \\right)} = \\sqrt{2} \\sin{\\left(19600437068423452 \\sqrt{2} \\pi x \\right)}$"
      ],
      "text/plain": [
       "Eq(psi(x), sqrt(2)*sin(19600437068423452*sqrt(2)*pi*x))"
      ]
     },
     "execution_count": 247,
     "metadata": {},
     "output_type": "execute_result"
    }
   ],
   "source": [
    "psi_filled_middle"
   ]
  },
  {
   "cell_type": "code",
   "execution_count": 248,
   "id": "65ebef7b-6697-49b7-a30e-d24ccc67279e",
   "metadata": {},
   "outputs": [],
   "source": [
    "psi_middle_executable = sp.lambdify( x, psi_filled_middle.rhs )"
   ]
  },
  {
   "cell_type": "code",
   "execution_count": 258,
   "id": "f010f15c-ec60-4219-9ecc-ed059cf6dfbf",
   "metadata": {},
   "outputs": [
    {
     "data": {
      "text/plain": [
       "1.2987385961778065e-17"
      ]
     },
     "execution_count": 258,
     "metadata": {},
     "output_type": "execute_result"
    }
   ],
   "source": [
    "psi_middle_executable( plancks_constant_value / ( 2 * np.pi ) )"
   ]
  },
  {
   "cell_type": "code",
   "execution_count": 249,
   "id": "fa6fc4a2-b6eb-483f-a4d7-a8957c657317",
   "metadata": {},
   "outputs": [],
   "source": [
    "#sp.plot( psi_filled_middle.rhs, ( x, 0, 1 ) )"
   ]
  },
  {
   "cell_type": "code",
   "execution_count": 276,
   "id": "a4a326ac-08cd-4162-ae0a-afb3d06dc7a0",
   "metadata": {},
   "outputs": [
    {
     "data": {
      "text/plain": [
       "[<matplotlib.lines.Line2D at 0x7fdf4e2a04f0>]"
      ]
     },
     "execution_count": 276,
     "metadata": {},
     "output_type": "execute_result"
    },
    {
     "data": {
      "application/vnd.jupyter.widget-view+json": {
       "model_id": "bbf4d2950ff14952a78d79c576d9439a",
       "version_major": 2,
       "version_minor": 0
      },
      "image/png": "[encoded data removed]",
      "text/html": [
       "\n",
       "            <div style=\"display: inline-block;\">\n",
       "                <div class=\"jupyter-widgets widget-label\" style=\"text-align: center;\">\n",
       "                    Figure\n",
       "                </div>\n",
       "                <img src='data:image/png;base64,iVBORw0KGgoAAAANSUhEUgAAAoAAAAHgCAYAAAA10dzkAAAAOXRFWHRTb2Z0d2FyZQBNYXRwbG90bGliIHZlcnNpb24zLjUuMSwgaHR0cHM6Ly9tYXRwbG90bGliLm9yZy/YYfK9AAAACXBIWXMAAA9hAAAPYQGoP6dpAABcRklEQVR4nO3deVyUdeIH8M8zA8zINVxyyal4H4ioCIplGh7l5nbI7pamaeV2qttvy2rbag+33Q7bysrNI2tFLbxaNcVS8CANAzVvBQQ5RBBmOOSaeX5/jE6RqIDAd2aez/v1mlcvHr8zfJ7XQ8yH7zzP95FkWZZBRERERIqhEh2AiIiIiDoXCyARERGRwrAAEhERESkMCyARERGRwrAAEhERESkMCyARERGRwrAAEhERESkMCyARERGRwrAAEhERESkMCyARERGRwrAAEhERESkMCyARERGRwrAAEhERESkMCyARERGRwrAAEhERESkMCyARERGRwrAAEhERESkMCyARERGRwrAAEhERESkMCyARERGRwrAAEhERESkMCyARERGRwrAAEhERESkMCyARERGRwrAAEhERESkMCyARERGRwrAAEhERESkMCyARERGRwrAAEhERESkMCyARERGRwrAAEhERESkMCyARERGRwrAAEhERESkMCyARERGRwrAAEhERESkMCyARERGRwrAAEhERESkMCyARERGRwrAAEhERESkMCyARERGRwrAAEhERESkMCyARERGRwrAAEhERESkMCyARERGRwrAAEhERESkMCyARERGRwrAAEhERESkMCyARERGRwrAAEhERESkMCyARERGRwrAAEhERESkMCyARERGRwrAAEhERESkMCyARERGRwrAAEhERESkMCyARERGRwjiIDmDLTCYTCgsL4ebmBkmSRMchIiKiFpBlGZWVlQgMDIRKpcy5MBbAW1BYWIjg4GDRMYiIiKgN8vPzERQUJDqGECyAt8DNzQ2A+QfI3d1dcBoiIiJqCYPBgODgYMv7uBKxAN6Cqx/7uru7swASERHZGCWfvqXMD76JiIiIFIwFkIiIiEhhWACJiIiIFIYFkIiIiEhhWACJiIiIFIYFkIiIiEhhWACJiIiIFIYFkIiIiEhhWACJiIiIFMbqC+DChQsxbNgwuLm5wdfXF1OmTMHJkydv+rzU1FRER0dDq9Wie/fu+Oijj64Zk5ycjH79+kGj0aBfv35Yv359R+wCERERkVWx+gKYmpqKJ598Et999x1SUlLQ2NiIhIQEVFdXX/c5OTk5mDRpEuLj45GZmYkXX3wRzzzzDJKTky1j0tPTkZiYiGnTpuHQoUOYNm0apk6div3793fGbhEREREJI8myLIsO0RoXL16Er68vUlNTMXr06GbHPP/889i0aROOHz9u2TZnzhwcOnQI6enpAIDExEQYDAZs3brVMmbChAnw9PREUlJSi7IYDAbodDro9XreC5iIiMhG8P0bcBAdoLX0ej0AwMvL67pj0tPTkZCQ0GTb+PHjsXTpUjQ0NMDR0RHp6emYN2/eNWMWLVp03detq6tDXV2d5WuDwdCGPSAiayPLMi5W1UFf0wBDbSMqa3/6b2VtIwyXzf+93GBEhK8rhoV5YkA3HTQOatHRiYjaxKYKoCzLmD9/PkaNGoUBAwZcd1xxcTH8/PyabPPz80NjYyNKS0sREBBw3THFxcXXfd2FCxfitddeu7WdICKrca6sGhuzCrExqwBnL17/tJLmaBxUiAz2wLAwTwwN88KQEE/oujh2UFIiovZlUwXwqaeewuHDh7Fnz56bjpUkqcnXVz/p/vn25sb8ctvPLViwAPPnz7d8bTAYEBwc3KLsRGQdLlbWYfPhQmzIKkRWfoVlu0oC3Ls4wk3rADeNI9y7OMBNa/7aXesId60DHNUq/FioR0ZuOcqq63Eg5xIO5FwCcBaSBPTxd8ewME/cNTAAMd29he0jEdHN2EwBfPrpp7Fp0yakpaUhKCjohmP9/f2vmckrKSmBg4MDvL29bzjml7OCP6fRaKDRaNq4B0QkSmVtA7YfvYANWQXYe6YUpitnPqskYGSED+4Z3A3j+/vBTduyGTxZlpFdWo2M3Ev4PrccGbmXkFtWg+NFBhwvMmBl+jnE9/TB/43vjUFBHh23Y0REbWT1BVCWZTz99NNYv349du3ahfDw8Js+JzY2Fl999VWTbdu3b8fQoUPh6OhoGZOSktLkPMDt27cjLi6ufXeAiIQx1DbgX1+fxNqMfNQ1mizbI4M9MGVwIO4aFABfN22rX1eSJPTo6ooeXV2ROCwEAFBSWYuDueXYdfIi1mWex+7Tpdh9uhQTB/jjDwm9EOHr1m77RUR0q6z+KuAnnngCq1atwsaNG9G7d2/Ldp1Ohy5dugAwfzRbUFCAlStXAjAvAzNgwAA8/vjjePTRR5Geno45c+YgKSkJ9913HwBg3759GD16NP72t7/hnnvuwcaNG/Hyyy9jz549iImJaVE2XkVEZL22HS3GKxt/xAWD+cKt7j4uuGdwN9wzOBBhPi4d+r3zymqwaMcprM8qgCybZxrvGxKEZ8f1RJCnc4d+byK6Ob5/20ABvN45ecuXL8eMGTMAADNmzEBubi527dpl+ffU1FTMmzcPR48eRWBgIJ5//nnMmTOnyWt8+eWXePnll5GdnY0ePXrgb3/7G+69994WZ+MPEJH1KamsxaubjmLLEfMpHuE+LvjrlAGI6+F9w3N8O8KpC5V4c9tJbD92AQDgpFbhdzEheOqOCPi48nQSIlH4/m0DBdCa8QeIyHrIsowvMs7jr5uPwVDbCLVKwuOju+OZsT2hdRS7XEtmXjn+te0k9p0tAwA4O6kx57YeeHJMBNSqzi2lRMT3b4AF8JbwB4jIOuSWVuPF9UcsBWtgNx3+cd9A9A/UCU7W1N4zpfjntpM4dOXq49G9uuK930RB58zlY4g6E9+/WQBvCX+AiMRqNJqwdE8O3k45hbpGE7SOKvzhzt6YOTIMDmrrvNOlLMtYn1mAF9cfQW2DCWHezvjP9KHo6ceLRIg6C9+/WQBvCX+AiMQprarDrE8zLLNpoyJ88PdfD0SIt21cZHG0UI/HVh5EQcVluDip8U7iYCT09xcdi0gR+P4NWOefyEREN5B/qQb3f7gPh/IroOviiH/dPwifzRpuM+UPAPoH6rDpqZEY0d0L1fVGPPbZQSzacQomE/8mJ6KOxwJIRDblZHEl7v9oH3LLatDNows2PDkSDwwN7vQrfNuDt6sGn82KwYy4MADAoh2nMefzg6iqaxQbjIjsHgsgEdmMg+cuYerH6bhgqEMvP1ck/z4O4R28pl9Hc1Sr8Oqv+uOf9w+Ck1qF7ccu4N7Fe5Fb2rp7ExMRtQYLIBHZhJ0nS/DgJ/uhv9yAISEeWPt4LPx1rb+Lh7WaOjQYqx8fAV83DU5dqMKv3t+DtFMXRcciIjvFAkhEVm9jVgEe/TQDtQ0m3N67Kz6fHQMPZyfRsdrdkBBPfPX0KESFeMBQ24gZyw9g65Ei0bGIyA6xABKRVVuxNwfPrs5Co0nGPYMD8Z/pQ+HsZPW3MW8zP3ctVj82Ar+O6gaTDDy7Ogt7TpeKjkVEdoYFkIiskizLeDvlFF796hgA4OHYULwzdTAcrXR9v/akcVDjzQciMWmgP+qNJjz2WQYy88pFxyIiO2L/v0mJyOaYTDJe2XgU//7mNABg3rheePVX/aFS0G3T1CoJ7yQORnxPH9TUGzFzxfc4daFSdCwishMsgERkdd5KOYnPvjsHSQL+MmUAnh3X0yaXeblVGgc1PnooGoODPVBR04BpS/cj/1KN6FhEZAdYAInIqiQfPI8Pdp4FALxx3yBMGxEqOJFYLhoHrJg5DL38XHHBUIdpS/fjYmWd6FhEZONYAInIahzIuYQX1h0GADw5pgemDg0WnMg6eDg74bNZMQjy7ILcshpMX3YA+ssNomMRkQ1jASQiq5BbWo3HP8tAg1HGpIH++MOdvUVHsip+7lp8PisGPq4aHC8yYNaK73G53ig6FhHZKBZAIhJOX9OARz79HuU1DRgUpMNbDwxW1AUfLRXm44LPZg2Hu9YBGefK8cR/D6LBaBIdi4hsEAsgEQnVYDThiVUHkX2xGgE6LT6ZPhRdnNSiY1mtvgHuWDZjGLSOKuw8eRF/WHsIJpMsOhYR2RgWQCISRpbNy73sPVMGZyc1lj48DL7u9nN7t44yNMwLHz0UDUe1hE2HCvHOjlOiIxGRjWEBJCJhlu7JQdKBPEgS8O/fRKFfoLvoSDbj9t6++Of9gwAA7+88w/sGE1GrsAASkRA7jl3A37YcBwC8NKkvxvXzE5zI9vw6KggPxoRAloF5a7JwwVArOhIR2QgWQCLqdMcKDXhmdSZkGfjt8BDMGhUuOpLN+tPd/dAvwB1l1fV4OikTjbwohIhagAWQiDpVSWUtZn/6PWrqjRgZ4Y3X7+mvyLt8tBetoxofPDgErhoHHMi5xPMBiahFWACJqNPIsoznvjiMQn0tund1weLfRcNRzV9DtyrcxwX/uG8gAOCDnWeRyvMBiegm+JuXiDrNyvRzSDt1ERoHFZZMi4bO2VF0JLtx96BAy23z5q3JQpH+suBERGTNWACJqFOcvlCJv1+96OOuvojwdROcyP68dFdf9A90x6XqejzD8wGJ6AZYAImow9U3mjB3TRbqGk24rVdXy0wVtS+toxqLHxwCN40Dvs8tx1spPB+QiJrHAkhEHe6dHadwtNAAT2dH/Ov+QbzoowOFervgjSvrA3646yx2nigRnIiIrBELIBF1qAM5l/BR6lkAwMJ7B/JOH51g0sAAPBxrnmWdvzYLhRU8H5CImmIBJKIOY6htwLw1WZBl4IHoIEwYECA6kmK8eFdfDOymQ3lNA55OykQDzwckop9hASSiDvPqpqMoqLiMEC9n/PlX/UXHURSNgxof/M58PuDBc+VYxPUBiehnWACJqENsPlyEdT8UQCUB7yRGwlXjIDqS4oR4O1vOB/woNRvHCg2CExGRtbCJApiWlobJkycjMDAQkiRhw4YNNxw/Y8YMSJJ0zaN//59mIFasWNHsmNpa3kuT6FYV62vx4vojAIAnx0QgOtRLcCLlmjQwAJMG+sNokvHCusNcGoaIANhIAayurkZkZCTef//9Fo1/9913UVRUZHnk5+fDy8sLDzzwQJNx7u7uTcYVFRVBq+UJ6kS3wmSS8dwXh6C/3IBBQTo8M7an6EiK9+qv+sNd64DD5/VYsS9XdBwisgI28ZnMxIkTMXHixBaP1+l00Ol0lq83bNiA8vJyzJw5s8k4SZLg7+/fbjmJCFixLxd7zpRC66jCO4mDeas3K+DrpsVLd/XF88lH8Ob2k0jo548Qb2fRsYhIIEX8Zl66dCnGjRuH0NCmi89WVVUhNDQUQUFBuPvuu5GZmXnD16mrq4PBYGjyIKKfnCyuxD++PgEAeOmufujR1VVwIrpq6tBgxHb3Rm2DCS9tOAJZlkVHIiKB7L4AFhUVYevWrZg9e3aT7X369MGKFSuwadMmJCUlQavVYuTIkTh9+vR1X2vhwoWW2UWdTofg4OCOjk9kM0wmGX9MPoz6RhPG9O6Kh2JCREein5EkCX+/dyA0DirsPl2KdT8UiI5ERALZfQFcsWIFPDw8MGXKlCbbR4wYgYceegiRkZGIj4/H2rVr0atXL7z33nvXfa0FCxZAr9dbHvn5+R2cnsh2rP4+H4fyK+CqccA/7uPdPqxRuI8L5o7rBQD4y+ZjKK2qE5yIiESx6wIoyzKWLVuGadOmwcnJ6YZjVSoVhg0bdsMZQI1GA3d39yYPIgLKqurwxpWPfuff2Qt+vNuH1ZodH45+Ae6oqGnAa18dEx2HiASx6wKYmpqKM2fOYNasWTcdK8sysrKyEBDAOxUQtdYbX5+A/nID+ga4Y3ps6M2fQMI4qlX45/2DoFZJ+OpQIb45fkF0JCISwCYKYFVVFbKyspCVlQUAyMnJQVZWFvLy8gCYP5qdPn36Nc9bunQpYmJiMGDAgGv+7bXXXsO2bduQnZ2NrKwszJo1C1lZWZgzZ06H7guRvTl47hLWZpwHAPx1Sn848Kpfqzegmw6zR4UDAF7e8COq6hoFJyKizmYTv6kzMjIQFRWFqKgoAMD8+fMRFRWFV155BYD5Qo+rZfAqvV6P5OTk687+VVRU4LHHHkPfvn2RkJCAgoICpKWlYfjw4R27M0R2pNFowkvrfwQATB0axAWfbcjccb0Q4uWMIn0t/nXl43siUg5J5loAbWYwGKDT6aDX63k+ICnSsj05eP1/x+Dh7Ihv/3A7vFxufK4tWZe9Z0rx4Cf7IUnAl3NiWeBJMfj+bSMzgERkfS4YavF2yikAwB/H92H5s0EjI3zwQHQQZBl4PvkI6hqNoiMRUSdhASSiNvnb5uOoqmtEZLAHfjOMa2Laqpfu6gsfVyecKanCh7vOio5DRJ2EBZCIWm3vmVJsOlQIlQT89Z4BUKm45p+t8nB2wp8n9wcALN51FufLawQnIqLOwAJIRK1S32jCnzaaL/x4aEQoBgbpbvIMsnZ3DwpAbHdv1Dea8MbXJ0XHIaJOwAJIRK3yn93ZyL5YDR9XJ/whobfoONQOJEnCy3f3hSQBXx0qxMFz5aIjEVEHYwEkohY7X16D97413y3nxUl9oeviKDgRtZf+gTpMjTafy/mX/x2DycQFIojsGQsgEbXYa18dQ22DCcPDvfDrqG6i41A7+8P4XnBxUiMrvwJfHS4UHYeIOhALIBG1yDfHLyDl2AU4qCT8dcoASBIv/LA3vm5aPDEmAgDwxtYTuFzPZWGI7BULIBHdVH2jCa//7xgAYNaocPTycxOciDrKrFHh6ObRBYX6WnyyO1t0HCLqICyARHRTq/afw7myGvi4avDM2J6i41AH0jqq8fzEPgCAD1PP4oKhVnAiIuoILIBEdEOVtQ3497dnAABzx/WEi8ZBcCLqaJMHBWBIiAdq6o14cxuXhSGyRyyARHRDS9Kycam6Ht19XJDIO34ogiRJ+NPd/QAAX/5wHj8W6AUnIqL2xgJIRNdVYqjFJ7tzAAB/nNAbjmr+ylCKqBBP3DM4ELJsXhZGlrksDJE94W9zIrqud3acxuUGI4aEeGB8f3/RcaiT/XFCH2gcVNifcwnbjl4QHYeI2hELIBE160xJJdZ8nwcAWDCpL5d9UaBuHl3w2OjuAICFW4+jrpHLwhDZCxZAImrWG1+fhEkGxvX1w7AwL9FxSJA5t/WAr5sG58pqsHLfOdFxiKidsAAS0TUyci8h5dgFqCTghYm836+SuWgc8Nx488/Av789jbKqOsGJiKg9sAASUROyLOPvW44DABKHBSPCl4s+K939Q4LQP9AdlbWNWLTjtOg4RNQOWACJqIltRy/gh7wKaB1VmDuul+g4ZAVUqp+WhVl1IA85pdWCExHRrWIBJCKLRqMJ/9x2AgAwe1R3+LlrBSciazGiuzfG9vGF0STj3R2nRMcholvEAkhEFmsy8pF9sRpeLk54/LbuouOQlZl3p3lGeOOhQpy6UCk4DRHdChZAIgIA1NT/dH7X03dEwE3rKDgRWZsB3XSYOMAfsgy8k8JZQCJbxgJIRACAT3bn4GJlHUK8nPFgTKjoOGSl5t3ZC5IEbP2xmLeII7JhLIBEhNKqOnycehYA8Nz43nBy4K8Gal4vPzfcExkIAHibs4BENou/5YkI731zGtX1RgzspsPdAwNExyEr9+y4XlCrJHx7ogQ/5JWLjkNEbcACSKRw+Zdq8N/9V275NrEPVCre8o1uLNzHBfcN6QYAeHs7ZwGJbBELIJHCLd51Bo0mGaMifBAX4SM6DtmIp+/oCUe1hD1nSpF+tkx0HCJqJRZAIgU7X16DLzLOAwDmjuspOA3ZkmAvZ/xmWAgA4O2Uk5BlWXAiImoNFkAiBftg51nL7N/QMC/RccjGPDkmAk4OKnyfW46006Wi4xBRK7AAEimUefYvHwDwLGf/qA38dVpMG2FeMujt7ZwFJLIlLIBECrV4l3n2b2SEN4Zx9o/a6Pe390AXRzUOnddjx/ES0XGIqIVsogCmpaVh8uTJCAwMhCRJ2LBhww3H79q1C5IkXfM4ceJEk3HJycno168fNBoN+vXrh/Xr13fgXhBZjyazf2N7CU5DtszHVYOZI8MAAG9tPwmTibOARLbAJgpgdXU1IiMj8f7777fqeSdPnkRRUZHl0bPnTx9zpaenIzExEdOmTcOhQ4cwbdo0TJ06Ffv372/v+ERWZ/Gus2gwmmf/hodz9o9uzWOju8NN44ATxZXY8mOR6DhE1AKSbGMnbUiShPXr12PKlCnXHbNr1y6MGTMG5eXl8PDwaHZMYmIiDAYDtm7datk2YcIEeHp6IikpqUVZDAYDdDod9Ho93N3dW7MbRMIUVFzG7f/aiQajjLWPx7IAUrtYtOMUFu04jR5dXbB93m1Qcz1JsmJ8/7aRGcC2ioqKQkBAAMaOHYudO3c2+bf09HQkJCQ02TZ+/Hjs27fvuq9XV1cHg8HQ5EFkaxbvPIMGo4y4Hpz9o/bzyKhweDg74uzFamzMKhAdh4huwi4LYEBAAJYsWYLk5GSsW7cOvXv3xtixY5GWlmYZU1xcDD8/vybP8/PzQ3Fx8XVfd+HChdDpdJZHcHBwh+0DUUcoqLiMtZZz/3jlL7Ufd60jHhvdHQCwaMdpNBhNghMR0Y04iA7QEXr37o3evXtbvo6NjUV+fj7efPNNjB492rJdkpp+RCHL8jXbfm7BggWYP3++5WuDwcASSDblw13m2b/Y7t6I6e4tOg7ZmRlxYVi2Jwd5l2qwPrMAU4fy9yORtbLLGcDmjBgxAqdPn7Z87e/vf81sX0lJyTWzgj+n0Wjg7u7e5EFkKworLmPN91z3jzqOs5MDHo03zwJ+tOssjLwimMhqKaYAZmZmIiAgwPJ1bGwsUlJSmozZvn074uLiOjsaUaf48MqVvyO6e2EEZ/+ogzw4IhS6Lo7ILq3GVl4RTGS1bOIj4KqqKpw5c8bydU5ODrKysuDl5YWQkBAsWLAABQUFWLlyJQBg0aJFCAsLQ//+/VFfX4/PP/8cycnJSE5OtrzGs88+i9GjR+ONN97APffcg40bN2LHjh3Ys2dPp+8fUUdrMvvHdf+oA7lqHDAjLgzvfnMaH+w8i7sGBtzw1BoiEsMmZgAzMjIQFRWFqKgoAMD8+fMRFRWFV155BQBQVFSEvLw8y/j6+no899xzGDRoEOLj47Fnzx5s3rwZ9957r2VMXFwcVq9ejeXLl2PQoEFYsWIF1qxZg5iYmM7dOaJO8OGus6g3mjCiuxdie3D2jzrWzJFhcHZS43iRATtP8u4gRNbI5tYBtCZcR4hsQZH+Mm775y7UG01IenQECyB1ir9vOY4ladkYEuKB5N/HcRaQrArfv21kBpCI2u7q7F9MOGf/qPPMHhUOJwcVfsirwHfZl0THIaJfYAEksmPF+lqsPmA+92/uOJ77R53H112LqUODAAAf7Dxzk9FE1NlYAIns2Ce7s1FvNGF4GGf/qPM9ProH1CoJe86UIiu/QnQcIvoZFkAiO1VRU4+kA+aLo54Y00NwGlKiYC9nTBncDQBnAYmsDQsgkZ36LP0cquuN6Bvgjtt6dRUdhxTq97f3gCQBKccu4GRxpeg4RHQFCyCRHbpcb8TyfbkAgDm3decVmCRMhK8rJg7wBwAs3sVZQCJrwQJIZIfWZuTjUnU9gr264K6BATd/AlEHeuL2CADAV4cKkVtaLTgNEQEsgER2p8FowpK0bADAY6N7wEHN/81JrAHddLi9d1eYZODjtLOi4xARWACJ7M7mw0UoqLgMH1cnPBAdJDoOEQDgqTHmWcAvD55Hkf6y4DRExAJIZEdkWcaHu8wzLDNHhkPrqBaciMhsaJgXhod7ocEo4z9pOaLjECkeCyCRHdl5sgQnL1TCVeOAh0aEio5D1MTVWcBVB86hrKpOcBoiZWMBJLIjH+0yn/v3YEwIdF0cBachaiq+pw8GdtOhtsGE5XtzRcchUjQWQCI7kZF7CQdyL8FJrcIjo8JFxyG6hiRJePLKLOCn6bkw1DYITkSkXCyARHbio1TzuX/3DukGP3et4DREzUvo54eevq6orG3E59+dEx2HSLFYAInswMniSuw4XgJJAh4b3V10HKLrUqkkzLnNfGvCFXtzUddoFJyISJlYAInswNW11Sb090f3rq6C0xDd2OTIQPi7a1FSWYeNWYWi4xApEgsgkY07X16DTVfeRK/OrBBZMycHFWaODAMA/CctG7Isiw1EpEAsgEQ27pPdOWg0yRgZ4Y3IYA/RcYha5LcxIXDVOOB0SRV2nbwoOg6R4rAAEtmwS9X1WP19HgDg97dFCE5D1HLuWkf8dngwAFhuXUhEnYcFkMiGfbovF7UNJgzo5o6REd6i4xC1ysyR4XBQSUjPLsOR83rRcYgUhQWQyEZV1zXi0/RcAObZP0mSxAYiaqVAjy6YHBkIAFiym7OARJ2JBZDIRq35Ph8VNQ0I83bGhAH+ouMQtcnsePOi5VuOFCH/Uo3gNETKwQJIZIMajSYs25sDAHh0dHeoVZz9I9vUP1CHURE+MJpky880EXU8FkAiG7Tt6AWcL78MT2dH3DckSHQcoltydfHyNd/nQ1/D28MRdQYWQCIb9Mke8/lS00aEQuuoFpyG6NbE9/RBH3831NQb8d8DvD0cUWdgASSyMQfPXUJmXgWc1CpMiw0THYfolkmShEfjzbOAy3l7OKJOwQJIZGM+2W0+T2pKVCC6umkEpyFqH1dvD3eRt4cj6hQsgEQ2JK+sBtuOFgMAZl+ZMSGyB7+8PZzJxNvDEXUkFkAiG7Jsbw5MMnBbr67o5ecmOg5Ru/r57eFST/H2cEQdiQWQyEboaxqwNiMfwE9rpxHZE94ejqjzsAAS2YhVB/JQU29EH383jIrwER2HqEPw9nBEncMmCmBaWhomT56MwMBASJKEDRs23HD8unXrcOedd6Jr165wd3dHbGwstm3b1mTMihUrIEnSNY/a2toO3BOitqlvNGHFPvPFH7NGhfO2b2S3eHs4os5hEwWwuroakZGReP/991s0Pi0tDXfeeSe2bNmCgwcPYsyYMZg8eTIyMzObjHN3d0dRUVGTh1ar7YhdILolm48U4oKhDl3dNPjV4EDRcYg6FG8PR9TxHEQHaImJEydi4sSJLR6/aNGiJl///e9/x8aNG/HVV18hKirKsl2SJPj78x6qZN1kWbYs/TIjLgwaBy78TPbt6u3h9pwpxbK9Ofjz5P6iIxHZHZuYAbxVJpMJlZWV8PLyarK9qqoKoaGhCAoKwt13333NDOEv1dXVwWAwNHkQdbT07DIcLTRA66jC74aHiI5D1CkevXJ7uLXf58NQy9vDEbU3RRTAt956C9XV1Zg6daplW58+fbBixQps2rQJSUlJ0Gq1GDlyJE6fPn3d11m4cCF0Op3lERwc3BnxSeGuzv49EB0MTxcnwWmIOsfonj6I8HVFdb0Ra7/PFx2HyO7YfQFMSkrCq6++ijVr1sDX19eyfcSIEXjooYcQGRmJ+Ph4rF27Fr169cJ777133ddasGAB9Hq95ZGfz19K1LHOlFTh2xMlkCTgkVFc+oWUQ5IkPDLS/DO/Yl8ujFwYmqhd2XUBXLNmDWbNmoW1a9di3LhxNxyrUqkwbNiwG84AajQauLu7N3kQdaSle8yzf+P6+iHcx0VwGqLOde+QbvB0dsT58stIOVYsOg6RXbHbApiUlIQZM2Zg1apVuOuuu246XpZlZGVlISAgoBPSEd1cWVUd1v1wHgAwm7N/pEBaRzV+F2M+7/XqH0NE1D5sogBWVVUhKysLWVlZAICcnBxkZWUhLy8PgPmj2enTp1vGJyUlYfr06XjrrbcwYsQIFBcXo7i4GHr9T4uKvvbaa9i2bRuys7ORlZWFWbNmISsrC3PmzOnUfSO6ns+/y0NdowmDgnQYHu518ycQ2aHpsWFwUEn4Prcch89XiI5DZDdsogBmZGQgKirKsoTL/PnzERUVhVdeeQUAUFRUZCmDAPDxxx+jsbERTz75JAICAiyPZ5991jKmoqICjz32GPr27YuEhAQUFBQgLS0Nw4cP79ydI2pGbYMRn32XCwCYHd+dCz+TYvm5a3H3IPMnM8s4C0jUbiRZlnlmbRsZDAbodDro9XqeD0jtas33eXg++QgCdVqk/nEMHNU28bcaUYc4cl6Pye/vgYNKwt4X7oCfOxfsp1vD928bmQEkUhJZli3nO80YGcbyR4o3MEiHYWGeaDTJWJmeKzoOkV3gOwuRldl3tgynLlTB2UmNxGFc+JkIMN8DGwBW7c/D5Xqj4DREto8FkMjKXD3P6YHoIOi6OApOQ2Qd7uznjyDPLiivacCGrALRcYhsHgsgkRXJKa3GtydLAAAPx4WJDUNkRdQqCTOu/D+xbE8OePo60a1hASSyIp/uy4UsA3f08UX3rq6i4xBZlanDguHipMbpkirsPl0qOg6RTWMBJLIShtoGfJFhvr3gzJFhYsMQWSF3rSOmDjPfg50LQxPdGhZAIiux9vt8VNcb0dPXFaMifETHIbJKM+LCIElA6qmLOFNSKToOkc1iASSyAkaTjE+vLG8xc2Q4F34muo5Qbxfc2dcPALBsb67YMEQ2jAWQyArsOH4B+Zcuw8PZEb+O6iY6DpFVe+TKkjDrfjiP8up6wWmIbBMLIJEVWL7XfD7Tb4eHoIuTWnAaIusWE+6F/oHuqG0wYdWBvJs/gYiuwQJIJNjRQj2+y74EtUrC9NhQ0XGIrJ4kSXhkpHkWcGV6LhqMJsGJiGwPCyCRYCuunMc0cYA/AnRdxIYhshF3Rwagq5sGFwx12HKkSHQcIpvDAkgkUGlVHTYeKgTw03lNRHRzGgc1po0wz5gv5cLQRK3GAkgk0Kr9eahvNCEy2ANDQjxFxyGyKQ/GhMDJQYXD5/X4Ia9CdBwim8ICSCRIfaMJn313DgDwCBd+Jmo1b1cN7okMBACs2JcrNgyRjWEBJBJk85FCXKysg5+7BhMHBIiOQ2STZlz542nrkSIU62vFhiGyISyARALIsozlVy7+mDYiFE4O/F+RqC36B+owPNwLjSYZn32XKzoOkc3guw6RAAfPlePweT00Dir8dniI6DhENu3qKRSr9uehtsEoNgyRjWABJBLg6uzflMHd4O2qERuGyMaN6+uHbh5dUF7TgE1ZhaLjENkEFkCiTlZQcRlfHy0GAMwcFSY2DJEdcFCrLIuoL9+XyyVhiFqABZCok61Mz4XRJCOuhzf6+LuLjkNkFxKHBUPrqMLxIgP251wSHYfI6rEAEnWimvpGrD6QDwCYOZILPxO1Fw9nJ9w7JAjAT3fXIaLrYwEk6kQbMguhv9yAUG9njO3jKzoOkV2ZERcGANh+rBj5l2rEhiGyciyARJ1ElmWs2JcDAJgeGwaVShKciMi+9PJzw6gIH5hk4PMri6wTUfNYAIk6yb6zZTh1oQouTmo8MDRIdBwiu3R1FjDpQB5q6hvFhiGyYiyARJ3k6tIv90cHwV3rKDYMkZ26o48vQr2dYahtxPrMAtFxiKwWCyBRJzhXVo1vTlwAAEy/MkNBRO1PpZIwPTYMgPliEC4JQ9Q8FkCiTrAy/RxkGbitV1f06OoqOg6RXXtgaBBcnNQ4XVKFPWdKRcchskosgEQdrLquEWu/Ny/9cvXG9UTUcdy1jrg/mkvCEN0ICyBRB1v3w3lU1jWiu48LbuvZVXQcIkV4+MqpFt+eLEFuabXYMERWiAWQqAOZTDKW78sFYH5D4tIvRJ2je1dXjOndFbIMfJqeKzoOkdWxiQKYlpaGyZMnIzAwEJIkYcOGDTd9TmpqKqKjo6HVatG9e3d89NFH14xJTk5Gv379oNFo0K9fP6xfv74D0pOS7T5TiuyL1XDVOOC+aC79QtSZZly5284XGedRWdsgOA2RdbGJAlhdXY3IyEi8//77LRqfk5ODSZMmIT4+HpmZmXjxxRfxzDPPIDk52TImPT0diYmJmDZtGg4dOoRp06Zh6tSp2L9/f0ftBinQir3mhZ8fGBoEV42D4DREyjK6pw96dHVBVV0jkg+eFx2HyKpIso1dIy9JEtavX48pU6Zcd8zzzz+PTZs24fjx45Ztc+bMwaFDh5Ceng4ASExMhMFgwNatWy1jJkyYAE9PTyQlJbUoi8FggE6ng16vh7u7e9t2iOxW9sUq3PFWKiQJ2PmH2xHm4yI6EpHifJaeiz9tPIowb2d8+4fbeRoGAeD7N2AjM4CtlZ6ejoSEhCbbxo8fj4yMDDQ0NNxwzL59+677unV1dTAYDE0eRNezMt18K6o7evuy/BEJcu+QILhpHZBbVoPUUxdFxyGyGnZZAIuLi+Hn59dkm5+fHxobG1FaWnrDMcXFxdd93YULF0Kn01kewcHB7R+e7EJlbQO+yODSL0SiuWgckDjU/Lt62ZVTMojITgsgYP6o+OeuftL98+3Njfnltp9bsGAB9Hq95ZGfn9+OicmefJFxHtX1RkT4umJUhI/oOESK9nBcGCQJ2H26FGdKKkXHIbIKdlkA/f39r5nJKykpgYODA7y9vW845pezgj+n0Wjg7u7e5EH0SyaTbFl2YkZc2A3/qCCijhfs5Yxxfc2/21dcWZaJSOnssgDGxsYiJSWlybbt27dj6NChcHR0vOGYuLi4TstJ9mnXqRKcK6uBm9YB9w7pJjoOEQGYeeVUjOSDBdBf5pIwRDZRAKuqqpCVlYWsrCwA5mVesrKykJeXB8D80ez06dMt4+fMmYNz585h/vz5OH78OJYtW4alS5fiueees4x59tlnsX37drzxxhs4ceIE3njjDezYsQNz587tzF0jO7T8yq2nfjMsGM5OXPqFyBrEdvdGbz83XG4wWm7NSKRkNlEAMzIyEBUVhaioKADA/PnzERUVhVdeeQUAUFRUZCmDABAeHo4tW7Zg165dGDx4MP7yl7/g3//+N+677z7LmLi4OKxevRrLly/HoEGDsGLFCqxZswYxMTGdu3NkV86UVGL36VKoJGB6bJjoOER0hSRJllnAT9NzYTTZ1ApoRO3O5tYBtCZcR4h+6eUNR/D5d3lI6OeHJdOHio5DRD9zud6I2H98g4qaBiyZFo2E/v6iI5EgfP+2kRlAIlugr2lA8sECAFz6hcgadXFS4zfDQgD8dKoGkVKxABK1kzUZebjcYERvPzfEdvcWHYeImjEtNhRqlYT07DKcKOZi/qRcLIBE7aDRaMKn+8x3/pg5kku/EFmrbh5dML7/lSVhOAtICsYCSNQOdhy/gIKKy/B0dsSUKC79QmTNZo4MBwCszyxAeXW94DREYrAAErWDZVdmEn47PARaR7XYMER0Q0NDPdE/0B11jSYkfZ938ycQ2SEWQKJbdLRQjwM5l6BWSZgWGyo6DhHdhHlJGPMs4Gfp59BoNAlORNT5WACJbtHV84gmDvBHgK6L2DBE1CJ3DwqAt4sTivS12Hb0gug4RJ2OBZDoFpRV1WHjoUIAP51XRETWT+uoxoMx5iVhVuzLEZyGqPOxABLdglX781DfaEJkkA5DQjxExyGiVnhwRCgcVBK+zy3HjwV60XGIOhULIFEb1Tea8Nl3V5d+CefSL0Q2xs9di7sGBQDgwtCkPCyARG209ccilFTWwddNg0kDA0THIaI2mBEXBgD46lAhLlbWiQ1D1IlYAIna6OrSLw+NCIWTA/9XIrJFUSGeGBzsgXqjCUkHuCQMKQfftYja4Ie8chzKr4CTWoXfXTmRnIhs08wr9+7+/LtzqG/kkjCkDCyARG1w9XyhXw0OhI+rRmwYIrolEwcEwNdNg5LKOmw5UiQ6DlGnYAEkaqVifS22XnmTuDpzQES2y8lBhWkjzIu4L9ubA1mWBSci6ngsgESt9Nl3uWg0yRge7oX+gTrRcYioHfwuJgRODiocPq/HwXPlouMQdTgWQKJWqG0wYtV+84nij3D2j8hueLtq8OvB3QCYZwGJ7B0LIFErbMwqQHlNA7p5dMGd/fxFxyGidvTIKPPdfL7+sRjny2sEpyHqWCyARC0ky7Ll4o+H40KhVnHhZyJ70tvfDaMifGCSgZXp50THIepQLIBELZSeXYYTxZXo4qhG4lAu/UJkjx4ZFQYASDqQh+q6RrFhiDoQCyBRC12d/bsvuht0zo5iwxBRh7i9ly/CfVxQWduILw+eFx2HqMOwABK1QP6lGuw4fgEAMCMuXHAaIuooKpVkWd5p+d4cmExcEobsEwsgUQss35sLWQZG9+qKCF9X0XGIqAPdNyQI7loH5JbVYOfJEtFxiDoECyDRTRhqG7Dme/PSL7NHcfaPyN65aBzw2+Hm83y5JAzZKxZAoptY+30+quuN6OXniviePqLjEFEnmB4XBrVKwt4zZThRbBAdh6jdsQAS3UCj0WS5+OORkeGQJC79QqQE3Ty6YEJ/81qfy/ZwFpDsDwsg0Q1sO3oBBRWX4e3ihClR3UTHIaJOdHVJmA1ZhSitqhMbhqidsQAS3cAne7IBAA+OCIXWUS04DRF1piEhnogM9kB9o8lyC0gie8ECSHQdB8+VIzOvAk5qFaaNCBUdh4g6mSRJlnt+f/bdOdQ1GsUGImpHLIBE13H1vJ97Bgeiq5tGcBoiEmHSwAD4uWtwsbIOmw8XiY5D1G5YAImacb68Blt/NP+ynxXPpV+IlMpRrcL02DAAwNI9OZBlLgxN9sFmCuDixYsRHh4OrVaL6Oho7N69+7pjZ8yYAUmSrnn079/fMmbFihXNjqmtre2M3SEr9+m+XJhkYFSED/r4u4uOQ0QC/W54CLSOKhwtNOBAziXRcYjahU0UwDVr1mDu3Ll46aWXkJmZifj4eEycOBF5ec2flPvuu++iqKjI8sjPz4eXlxceeOCBJuPc3d2bjCsqKoJWq+2MXSIrVlXXiNUH8gEAs7jwM5Hiebo44d4hQQC4MDTZD5sogG+//TZmzZqF2bNno2/fvli0aBGCg4Px4YcfNjtep9PB39/f8sjIyEB5eTlmzpzZZJwkSU3G+fv7d8bukJVb+30+Kusa0aOrC27r1VV0HCKyAjPjwgAA249dQF5ZjdgwRO3A6gtgfX09Dh48iISEhCbbExISsG/fvha9xtKlSzFu3DiEhja9krOqqgqhoaEICgrC3XffjczMzBu+Tl1dHQwGQ5MH2RejScbyfea/8B8ZFQ6Vigs/ExHQ088No3t1hSxzFpDsg9UXwNLSUhiNRvj5+TXZ7ufnh+Li4ps+v6ioCFu3bsXs2bObbO/Tpw9WrFiBTZs2ISkpCVqtFiNHjsTp06ev+1oLFy6ETqezPIKDg9u2U2S1Uo4VI//SZXg6O+LeqCDRcYjIily9F/jajHzoaxoEpyG6NVZfAK/65S24ZFlu0W25VqxYAQ8PD0yZMqXJ9hEjRuChhx5CZGQk4uPjsXbtWvTq1QvvvffedV9rwYIF0Ov1lkd+fn6b9oWs1ye7zX/ZPxgTii5OXPiZiH4S39MHffzdUFNvxKoDXBiabJvVF0AfHx+o1eprZvtKSkqumRX8JVmWsWzZMkybNg1OTk43HKtSqTBs2LAbzgBqNBq4u7s3eZD9OJRfgYxz5XBUS5gey4WfiagpSZLwaHx3AMDyvTmobzQJTkTUdlZfAJ2cnBAdHY2UlJQm21NSUhAXF3fD56ampuLMmTOYNWvWTb+PLMvIyspCQEDALeUl27X0ysLPkyMD4evOq8GJ6FqTIwPh565BSWUdNh0qFB2HqM2svgACwPz58/HJJ59g2bJlOH78OObNm4e8vDzMmTMHgPmj2enTp1/zvKVLlyImJgYDBgy45t9ee+01bNu2DdnZ2cjKysKsWbOQlZVleU1SlsKKy9h85MrCz1z6hYiuw8lBhZkjzb8j/pOWzYWhyWY5iA7QEomJiSgrK8Prr7+OoqIiDBgwAFu2bLFc1VtUVHTNmoB6vR7Jycl49913m33NiooKPPbYYyguLoZOp0NUVBTS0tIwfPjwDt8fsj6fpufCaJIR290b/QN1ouMQkRX77fAQvPfNaZy8UIm006VcLopskiTzz5c2MxgM0Ol00Ov1PB/QhlXXNWLEwm9QWduIT6YPxbh+Nz63lIjoL/87hqV7cjAqwgefz44RHYdaie/fNvIRMFFH+iIjH5W1jQj3ccEdfXxFxyEiGzBzZBjUKgl7zpTiaKFedByiVmMBJEVrNJrwyR4u/ExErRPk6YxJA80XDV5dPorIlrAAkqJt+bEY58svw9vFCQ9Ec+FnImq5R+PNF4N8dagQRfrLgtMQtQ4LICmWLMv4OPUsAODhuDBoHbnwMxG13KAgD4zo7oVGk4wVe3NFxyFqFRZAUqy9Z8pwtNCALo5qTBvBhZ+JqPUeG21eGHrV/jxU1vL2cGQ7WABJsT5OM8/+JQ4LhqfLje8UQ0TUnNt7+SLC1xWVdY1Y8z1vD0q2gwWQFOnHAj12ny6FWiVx4WciajOVSrKcC7hsTw4ajLw9HNkGFkBSpCVp2QCAuwcFINjLWXAaIrJl9wzuBh9XDQr1tdhy5Y5CRNaOBZAUJ/9SjeW2b1fP3yEiaiutoxoz4sznES/h7eHIRrAAkuIs3ZMDo0lGfE8f3vaNiNrFgzGh0DqqcLTQgPTsMtFxiG6KBZAUpby63nKi9uOjewhOQ0T2wtPFCVOHBgMA/nPlFBMia8YCSIry2XfncLnBiP6B7hgZ4S06DhHZkVmjwiFJwM6TF3HqQqXoOEQ3xAJIilHbYMSKfbkAgMdv6wFJ4m3fiKj9hHq7YEJ/fwA/XWhGZK1YAEkxvjh4Hpeq6xHk2QWTBviLjkNEdujqhWUbMgtQUMHbw5H1YgEkRTCaZMt5OY/Gd4eDmj/6RNT+okI8EdfDG40/+51DZI34LkiK8PWPxci7VANPZ0c8MDRIdBwismNPjokAAKz+Pg+lVXWC0xA1jwWQ7J4sy/go1Xzbt+mxYXB2chCciIjsWVwPb0QGe6C2wYTle3NExyFqFgsg2b307DIcKdBD66jC9NhQ0XGIyM5JkoQnbjcvM7Vy3zkYahsEJyK6Fgsg2b2PU83n4UwdGgxvV43gNESkBHf29UNPX1dU1jXi8+/OiY5DdA0WQLJrx4sMSD11ESoJmD2Kt30jos6hUkl4Yox5FnDp7hxcrjcKTkTUFAsg2bWPr5z7N2lgAEK8nQWnISIlmTwoEEGeXVBWXY+1Gfmi4xA1wQJIdiuntBqbDhUCAObcxtu+EVHnclCrLL97lqRlo8FoEpyI6CcsgGS3Fu88A5MM3NHHFwO66UTHISIFuj86CF3dNCiouIyNWYWi4xBZsACSXcq/VIP1mQUAgKfviBCchoiUSuuoxuxR4QCAxbvOwGiSBSciMmMBJLv0YepZNJpkxPf0QVSIp+g4RKRgD44IhbvWAdkXq7H9aLHoOEQAWADJDhXpL+PLjPMAgKfv6Ck4DREpnavGATNGmmcBP9h1BrLMWUASjwWQ7M7HqdmoN5oQE+6F4eFeouMQEWFmXBicndT4scCAtNOlouMQsQCSfSmprEXSgTwAwDNjOftHRNbB08UJvx0eAsB8gRqRaCyAZFf+k5aNukYThoR4IK6Ht+g4REQWj8Z3h6Nawv6cS8jIvSQ6DikcCyDZjbKqOnz+nXn27+mxPSFJkuBEREQ/8ddpcX90EABg8a6zgtOQ0rEAkt1YuicHlxuMGBSkw+29uoqOQ0R0jcdH94BKAr49UYKjhXrRcUjBbKYALl68GOHh4dBqtYiOjsbu3buvO3bXrl2QJOmax4kTJ5qMS05ORr9+/aDRaNCvXz+sX7++o3eDOkhFTT1WpptvuP7UmAjO/hGRVQrzccHdgwIBcBaQxLKJArhmzRrMnTsXL730EjIzMxEfH4+JEyciLy/vhs87efIkioqKLI+ePX+6KCA9PR2JiYmYNm0aDh06hGnTpmHq1KnYv39/R+8OdYDle3NRVdeIPv5uuLOfn+g4RETX9fvbzbeH23KkCKcuVApOQ0olyTawIFFMTAyGDBmCDz/80LKtb9++mDJlChYuXHjN+F27dmHMmDEoLy+Hh4dHs6+ZmJgIg8GArVu3WrZNmDABnp6eSEpKalEug8EAnU4HvV4Pd3f31u0UtZvK2gaM/Me3MNQ24oPfDcFdgwJERyIiuqHff34QW38sxqSB/lj8YLToOIrD928bmAGsr6/HwYMHkZCQ0GR7QkIC9u3bd8PnRkVFISAgAGPHjsXOnTub/Ft6evo1rzl+/PgbvmZdXR0MBkOTB4m3Mv0cDLWNiPB1xcQB/qLjEBHd1Lw7e0GSgC1HinkuIAlh9QWwtLQURqMRfn5NP9bz8/NDcXHzt9QJCAjAkiVLkJycjHXr1qF3794YO3Ys0tLSLGOKi4tb9ZoAsHDhQuh0OssjODj4FvaM2kN1XSM+2Z0NwHzun0rFc/+IyPr18nPD5CvnAi7acVpwGlIiB9EBWuqXJ/XLsnzdE/179+6N3r17W76OjY1Ffn4+3nzzTYwePbpNrwkACxYswPz58y1fGwwGlkDB/rv/HMprGhDq7Yy7+dEvEdmQZ8f1xP8OFyLl2AUcPl+BQUEeoiORglj9DKCPjw/UavU1M3MlJSXXzODdyIgRI3D69E9/Zfn7+7f6NTUaDdzd3Zs8SJzL9UYsSTPP/j15ewQc1Fb/40xEZNGjqyumRHUDALydckpwGlIaq3/HdHJyQnR0NFJSUppsT0lJQVxcXItfJzMzEwEBP80QxcbGXvOa27dvb9VrklhJB/JQWlWPbh5d8Osh3UTHISJqtWfH9oRaJWHXyYs4eK5cdBxSEJv4CHj+/PmYNm0ahg4ditjYWCxZsgR5eXmYM2cOAPNHswUFBVi5ciUAYNGiRQgLC0P//v1RX1+Pzz//HMnJyUhOTra85rPPPovRo0fjjTfewD333IONGzdix44d2LNnj5B9pNa5XG/ER6nmNbR+f3sPOHL2j4hsUKi3C+4fEoQ1Gfl4J+UUPp8dIzoSKYRNFMDExESUlZXh9ddfR1FREQYMGIAtW7YgNDQUAFBUVNRkTcD6+no899xzKCgoQJcuXdC/f39s3rwZkyZNsoyJi4vD6tWr8fLLL+NPf/oTevTogTVr1iAmhv/z2YJP03NRUlmHbh5d8MDQINFxiIja7Kk7IrAu8zz2nCnF/uwyxHTnfcyp49nEOoDWiusIiaG/3IDR/9wJ/eUGvPlApOXemkREtuql9Ufw3/15GB7uhTWPjeDdjDoY379t4BxAol/6T1o29Jcb0NPXFb+O4rl/RGT7nrojAk4OKhzIuYR9Z8tExyEFYAEkm3Kxsg5L9+QAAP6Q0BtqrvtHRHYgQNcFvxseAgB4a/tJ8MM56mgsgGRT3v/2NC43GBEZ7IHx/XnPXyKyH0/c3gMaBxV+yKtA6qmLouOQnWMBJJuRf6kGqw6YL/b54/jePEeGiOyKr7sW02PNFze+nXKKs4DUoVgAyWa8s+MUGowyRkX4YGSEj+g4RETtbs5tPeDspMbh83rsOF4iOg7ZMRZAsgkniyuxPrMAAPB/43vfZDQRkW3ydtXg4bgwAOZZQJOJs4DUMVgAySa8uf0kZBmY0N8fkcEeouMQEXWYx+K7w1XjgONFBmw7WnzzJxC1AQsgWb0f8sqRcuwCVBLw3PheouMQEXUoTxcnPDIyDID51BcjZwGpA7AAklWTZRn/+vokAOC+IUGI8HUTnIiIqOPNiu8Od60DTl2oQvLB86LjkB1iASSrtudMKdKzy+CkVmHunZz9IyJl0HVxxDNjewIwnwJTXdcoOBHZGxZAslqyLOOfV2b/HhwRgm4eXQQnIiLqPNNiQxHi5YySyjp8nJYtOg7ZGRZAslpbfyzGkQI9nJ3UeHJMhOg4RESdSuOgxgsT+wAAlqSdRbG+VnAisicsgGSVGo0mvLndPPs3O747fFw1ghMREXW+iQP8MTTUE7UNP/1OJGoPLIBkldb9UIDsi9XwdHbEo/HhouMQEQkhSRJevrsfACD5h/P4sUAvOBHZCxZAsjq1DUYs2nEKAPDE7RFw0zoKTkREJM7gYA/8KjIQsgz8bfNx3iKO2gULIFmdj1OzUaivRYBOi2lX7otJRKRkf5zQG04OKqRnl+Eb3iKO2gELIFmV8+U1WLzrDADgxUl9oXVUC05ERCRekKczZo0ynw7z963H0WA0CU5Eto4FkKzKwi0nUNdowvBwL9w9KEB0HCIiq/HE7T3g7eKE7IvVWLU/T3QcsnEsgGQ19p0txeYjRVBJwKuT+0OSJNGRiIishpvWEfOuLIi/aMcp6C83CE5EtowFkKxCo9GE1786BgB4MCYU/QLdBSciIrI+vxkWjJ6+riivacDinWdExyEbxgJIVmHVgTycKK6Eh7Mj5vOWb0REzXJQq/DiXX0BAMv35iL/Uo3gRGSrWABJuEvV9Xhru3nZlz8k9Iani5PgRERE1uv2Xl0R39MH9UYT/vH1CdFxyEaxAJJwb20/Cf3lBvQNcMfvhoeIjkNEZNUkScKLk/pCkoDNh4tw8Fy56Ehkg1gASagfC/RYdcB8Ndurk/tBreKFH0REN9M3wB2JQ4MBAH/dfIyLQ1OrsQCSMLIs47WvjkKWgcmRgYjp7i06EhGRzZif0AvOTmpk5lVg3Q8FouOQjWEBJGE2HSrE97nl6OKoxoKJfUTHISKyKb5uWjx9R08A5lnAS9X1ghORLWEBJCGq6xqxcIv55OUnx/RAoEcXwYmIiGzP7Phw9PF3Q3lNA/66+ZjoOGRDWABJiMW7zqDYUItgry6YHd9ddBwiIpvkqFbhH/cNgiQB634owN4zpaIjkY1gAaROd66sGv9JywEA/OmufrzfLxHRLRgc7IGHY8MAAC+uP4LaBqPYQGQTWACp0/3lf8dRbzQhvqcP7uznJzoOEZHN+0NCL/i7a3GurAb//ua06DhkA1gAqVPtOHYBO45fgINKwp8n9+P9fomI2oGb1hGv39MfALAkLRsnig2CE5G1s5kCuHjxYoSHh0Or1SI6Ohq7d+++7th169bhzjvvRNeuXeHu7o7Y2Fhs27atyZgVK1ZAkqRrHrW1tR29K4pVUVOPBeuPAABmxYcjwtdNcCIiIvuR0N8f4/v7odEk44XkIzCauDYgXZ9NFMA1a9Zg7ty5eOmll5CZmYn4+HhMnDgReXl5zY5PS0vDnXfeiS1btuDgwYMYM2YMJk+ejMzMzCbj3N3dUVRU1OSh1Wo7Y5cU6bWvjuFiZR16dHXBvHG83y8RUXt77VcD4KpxQFZ+Bf67/5zoOGTFJNkGlg+PiYnBkCFD8OGHH1q29e3bF1OmTMHChQtb9Br9+/dHYmIiXnnlFQDmGcC5c+eioqKizbkMBgN0Oh30ej3c3d3b/DpKkHLsAh5dmQGVBCT/Pg5RIZ6iIxER2aXP0nPxp41H4apxwI75t8Ffx4mNX+L7tw3MANbX1+PgwYNISEhosj0hIQH79u1r0WuYTCZUVlbCy8uryfaqqiqEhoYiKCgId9999zUzhL9UV1cHg8HQ5EE3V15djxevfPT76OjuLH9ERB3owZhQRIV4oKquEX/e9KPoOGSlrL4AlpaWwmg0ws+v6dWifn5+KC4ubtFrvPXWW6iursbUqVMt2/r06YMVK1Zg06ZNSEpKglarxciRI3H69PWvnlq4cCF0Op3lERwc3LadUphXvzqKi5V1iPB15Ue/REQdTKWSsPDegXBQSdh29AK+/rFl75WkLFZfAK/65dWisiy36ArSpKQkvPrqq1izZg18fX0t20eMGIGHHnoIkZGRiI+Px9q1a9GrVy+89957132tBQsWQK/XWx75+flt3yGF2Ha0GBuzCqGSgDcfiOSaf0REnaCPvzseG21eZP/VTUdRWdsgOBFZG6svgD4+PlCr1dfM9pWUlFwzK/hLa9aswaxZs7B27VqMGzfuhmNVKhWGDRt2wxlAjUYDd3f3Jg+6vkvV9Xjpyke/j9/WA4ODPcQGIiJSkGfG9kSotzOKDbV4c9tJ0XHIylh9AXRyckJ0dDRSUlKabE9JSUFcXNx1n5eUlIQZM2Zg1apVuOuuu276fWRZRlZWFgICAm45M5n9edNRlFbVo6evK+aO6yk6DhGRomgd1fj7rwcCAFZ+dw4Hz10SnIisidUXQACYP38+PvnkEyxbtgzHjx/HvHnzkJeXhzlz5gAwfzQ7ffp0y/ikpCRMnz4db731FkaMGIHi4mIUFxdDr9dbxrz22mvYtm0bsrOzkZWVhVmzZiErK8vymnRrvv6xCF8dKoRaJeHNByKhceBHv0REnW1khA/uGxIEWQaeXZ0F/WV+FExmNlEAExMTsWjRIrz++usYPHgw0tLSsGXLFoSGhgIAioqKmqwJ+PHHH6OxsRFPPvkkAgICLI9nn33WMqaiogKPPfYY+vbti4SEBBQUFCAtLQ3Dhw/v9P2zN5eq6/HyBvOVZ3Nu645IfvRLRCTMn3/VD8FeXXC+/DIWrDsMG1j9jTqBTawDaK24jlDznlr1A/53uAi9/dyw6emRnP0jIhIsK78C93+4D40mGX+dMgAPjQgVHUkovn/byAwg2Y4tR4rwv8NF/OiXiMiKDA72wPMT+gAAXv/fMRwv4jq2SscCSO2mrKoOf7ry0e/vb+uBgUE6wYmIiOiqWaPCcXvvrqhvNOGpVT+gpr5RdCQSiAWQ2oXRJGPumiyUVdejj78bnh4bIToSERH9jEol4a0HIuHnrsHZi9X488ajoiORQCyA1C7+te0kdp8uRRdHNRb9ZjA/+iUiskLerhosSoyCSgK+OHgeGzILREciQVgA6ZZtPlyEj1LPAgD+ef8g9PFX5gm1RES2ILaHN56+w7w260vrjyCntFpwIhKBBZBuycniSvzfl4cAAI+P7o7JkYGCExER0c08M7YnYsK9UF1vxFOrfkBdo1F0JOpkLIDUZvqaBjz2WQZq6o0YGeGN/xvfW3QkIiJqAbVKwru/iYKXixOOFhqwcMsJ0ZGok7EAUpuYTDLmrsnEubIadPPogvd+OwQOav44ERHZCn+dFm8+MAgAsGJfLrYfLRaciDoT37GpTRbtOIWdJy9C46DCx9Oi4eXiJDoSERG10h19/DB7VDgA4P++PIyCisuCE1FnYQGkVtt2tBj//vYMAOAf9w3EgG5c74+IyFb9cUIfRAbpoL/cgMdWZqCylvcLVgIWQGqVMyVV+MNa80UfM0eG4ddRQYITERHRrXByUOH93w2Bj6v5fMA5nx/kRSEKwAJILVZZa77oo6quETHhXnhxUl/RkYiIqB0Eezlj+YzhcHFSY++ZMsxfewgmkyw6FnUgFkBqEZNJxvy1h5B9sRoBOi0+eHAIHHnRBxGR3RgYpMPH04bCUS1h8+EivP6/Y5BllkB7xXdwuilZlvHm9pNIOXYBTg4qfPRQNHxcNaJjERFROxvV0wdvTR0MwHxl8IdXFvkn+8MCSDckyzLe2XEai3eZfwn8dcoARAZ7iA1FREQd5leRgXjl7n4AgH9+fRJrM/IFJ6KOwAJI13W1/P37m9MAgJfv6oupQ4MFpyIioo72yKhwzLmtBwBgwboj+Ob4BcGJqL2xAFKzmit/s+O7C05FRESd5fkJvXHfkCAYTTKeXPUDDp4rFx2J2hELIF1DlmW8k3KK5Y+ISMEkScI/7huIMb27orbBhEdWfI/TFypFx6J2wgJITVjK35WFnln+iIiUy1GtwgcPDkFUiAf0lxswfdkBFOl5txB7wAJIFix/RET0S85ODlj28DD06OqCIn0tfrvkO2RfrBIdi24RCyABYPkjIqLr83RxwspZMejm0QW5ZTWY8sFe7D1TKjoW3QIWQGL5IyKim+rm0QUbnxqJISEeMNQ2YvqyA/j8u3OiY1EbsQAqXKPRhIVbT7D8ERHRTfm4arDq0RH4dVQ3GE0yXt7wI17ddBSNRpPoaNRKLIAKdr68Br9Z8h2WpGUDYPkjIqKb0zqq8fbUSPzf+N4AzHcMeeTTDBhqGwQno9ZgAVSoLUeKMOnd3cg4Vw5XjQPe/c1glj8iImoRSZLw5JgIfPTQEHRxVCPt1EXcu3gfzpVVi45GLcQCqDCX641YsO4wnvjvDzDUNiIy2ANbnonHPYO7iY5GREQ2ZsKAAHwxJxb+7lqcKanClA/2Yn92mehY1AIsgApyvMiAye/vQdKBfEgS8Pvbe+DLObEI8XYWHY2IiGzUgG46bHxqJAYF6VBe04CHlu7Hqv15kGVZdDS6AUnmEWozg8EAnU4HvV4Pd3d30XGuS5ZlrEw/h79tOY76RhN83TR4J3EwRkb4iI5GRER24nK9Ec99eQibDxcBAAYHe+Dlu/piaJiX4GTXspX3747EAngLbOEH6FJ1Pf745SHsOF4CALijjy/+df8geLtqBCcjIiJ7I8syPk7Lxr+/OY2aeiMAYOIAf7wwsQ9CvV0Ep/uJLbx/dzQWwFtgzT9AJYZafP7dOXy+Pw+XquvhpFbhxUl98HBcGCRJEh2PiIjsWImhFm+nnMLajHyYZMBRLWF6bBieviMCHs5OouNZ9ft3Z2EBvAXW+AP0Y4Eey/bm4KtDhWgwmg9thK8r3v3NYPQP1AlOR0RESnKi2IC/bzmBtFMXAQC6Lo54+o4ITIsNhcZBLSyXNb5/dzabuQhk8eLFCA8Ph1arRXR0NHbv3n3D8ampqYiOjoZWq0X37t3x0UcfXTMmOTkZ/fr1g0ajQb9+/bB+/fqOit+hjCYZ244WI/HjdNz93h6s+6EADUYZQ0M9sfjBIfj62XiWPyIi6nR9/N2x8pHh+PSR4ejj7wb95Qb8dfNx3Pl2GjZmFaC6rlF0RMVyEB2gJdasWYO5c+di8eLFGDlyJD7++GNMnDgRx44dQ0hIyDXjc3JyMGnSJDz66KP4/PPPsXfvXjzxxBPo2rUr7rvvPgBAeno6EhMT8Ze//AW//vWvsX79ekydOhV79uxBTExMZ+9im1TVNeKLjHys2JeLc2U1AAAHlYRJAwPwyKhwDA72EBuQiIgIwG29umJUhA++PJiPN7efQt6lGjy7OguOaglRIZ4YFeGDkRE+iAzSwUFtM3NTNs0mPgKOiYnBkCFD8OGHH1q29e3bF1OmTMHChQuvGf/8889j06ZNOH78uGXbnDlzcOjQIaSnpwMAEhMTYTAYsHXrVsuYCRMmwNPTE0lJSS3K1RlTyLIs42JVHXIuViO3rBrZpdXIuViNnNJqnCurQf2V2+/oujjidzEhmB4bigBdlw7JQkREdKuq6xrxn93Z+CLjPAoqLjf5NzeNA2K6eyO+p7kQ9ujq0iHnrfMjYBuYAayvr8fBgwfxwgsvNNmekJCAffv2Nfuc9PR0JCQkNNk2fvx4LF26FA0NDXB0dER6ejrmzZt3zZhFixZdN0tdXR3q6uosXxsMhlbuTct8/WMRNh8pRm6puehV3WCKvLuPC2aOCsd9Q7rB2cnqDycRESmci8YBc8f1wrNjeyLvUg32nCnF3jOl2HumDPrLDdhx/AJ2HL8AAPB312J2fDjvVNUBrL4xlJaWwmg0ws/Pr8l2Pz8/FBcXN/uc4uLiZsc3NjaitLQUAQEB1x1zvdcEgIULF+K1115r45603IniSnx1qNDytSQBQZ5dEObtgu4+Lgj3cUF4V1eEe7sg2KsLr+olIiKbI0kSQr1dEOrtggdjQmE0yThaqLcUwu9zy1FsqBUd025ZfQG86pclR5blGxaf5sb/cntrX3PBggWYP3++5WuDwYDg4OCbh2+l23p1RRdHtbno+bgg2MsZWkdxV0sRERF1NLVKwqAgDwwK8sATt0egtsGIjNxy9PC1nvUD7YnVF0AfHx+o1eprZuZKSkqumcG7yt/fv9nxDg4O8Pb2vuGY670mAGg0Gmg0Hb+AclSIJ6JCPDv8+xAREVkrraMao3ryjlUdxeovtXFyckJ0dDRSUlKabE9JSUFcXFyzz4mNjb1m/Pbt2zF06FA4OjrecMz1XpOIiIjIXlj9DCAAzJ8/H9OmTcPQoUMRGxuLJUuWIC8vD3PmzAFg/mi2oKAAK1euBGC+4vf999/H/Pnz8eijjyI9PR1Lly5tcnXvs88+i9GjR+ONN97APffcg40bN2LHjh3Ys2ePkH0kIiIi6iw2UQATExNRVlaG119/HUVFRRgwYAC2bNmC0NBQAEBRURHy8vIs48PDw7FlyxbMmzcPH3zwAQIDA/Hvf//bsgYgAMTFxWH16tV4+eWX8ac//Qk9evTAmjVrbGYNQCIiIqK2sol1AK0V1xEiIiKyPXz/toFzAImIiIiofbEAEhERESkMCyARERGRwrAAEhERESkMCyARERGRwrAAEhERESkMCyARERGRwrAAEhERESkMCyARERGRwtjEreCs1dWbqBgMBsFJiIiIqKWuvm8r+WZoLIC3oLKyEgAQHBwsOAkRERG1VmVlJXQ6negYQvBewLfAZDKhsLAQbm5ukCSpXV/bYDAgODgY+fn5irtPIfed+859Vw7uO/ddxL7LsozKykoEBgZCpVLm2XCcAbwFKpUKQUFBHfo93N3dFfeL4SruO/ddabjv3HelEbnvSp35u0qZtZeIiIhIwVgAiYiIiBSGBdBKaTQa/PnPf4ZGoxEdpdNx37nvSsN9574rjZL33VrwIhAiIiIiheEMIBEREZHCsAASERERKQwLIBEREZHCsAASERERKQwLoCCLFy9GeHg4tFotoqOjsXv37huOT01NRXR0NLRaLbp3746PPvqok5K2v9bs+65duyBJ0jWPEydOdGLi9pGWlobJkycjMDAQkiRhw4YNN32OvRz31u67PR33hQsXYtiwYXBzc4Ovry+mTJmCkydP3vR59nDs27Lv9nLsP/zwQwwaNMiy0HFsbCy2bt16w+fYwzEHWr/v9nLMbQ0LoABr1qzB3Llz8dJLLyEzMxPx8fGYOHEi8vLymh2fk5ODSZMmIT4+HpmZmXjxxRfxzDPPIDk5uZOT37rW7vtVJ0+eRFFRkeXRs2fPTkrcfqqrqxEZGYn333+/RePt6bi3dt+vsofjnpqaiieffBLfffcdUlJS0NjYiISEBFRXV1/3OfZy7Nuy71fZ+rEPCgrCP/7xD2RkZCAjIwN33HEH7rnnHhw9erTZ8fZyzIHW7/tVtn7MbY5MnW748OHynDlzmmzr06eP/MILLzQ7/o9//KPcp0+fJtsef/xxecSIER2WsaO0dt937twpA5DLy8s7IV3nASCvX7/+hmPs6bj/XEv23V6PuyzLcklJiQxATk1Nve4Yez32Ldl3ez72np6e8ieffNLsv9nrMb/qRvtuz8fcmnEGsJPV19fj4MGDSEhIaLI9ISEB+/bta/Y56enp14wfP348MjIy0NDQ0GFZ21tb9v2qqKgoBAQEYOzYsdi5c2dHxrQa9nLcb4U9Hne9Xg8A8PLyuu4Yez32Ldn3q+zp2BuNRqxevRrV1dWIjY1tdoy9HvOW7PtV9nTMbQELYCcrLS2F0WiEn59fk+1+fn4oLi5u9jnFxcXNjm9sbERpaWmHZW1vbdn3gIAALFmyBMnJyVi3bh169+6NsWPHIi0trTMiC2Uvx70t7PW4y7KM+fPnY9SoURgwYMB1x9njsW/pvtvTsT9y5AhcXV2h0WgwZ84crF+/Hv369Wt2rL0d89bsuz0dc1viIDqAUkmS1ORrWZav2Xaz8c1ttwWt2ffevXujd+/elq9jY2ORn5+PN998E6NHj+7QnNbAno57a9jrcX/qqadw+PBh7Nmz56Zj7e3Yt3Tf7enY9+7dG1lZWaioqEBycjIefvhhpKamXrcI2dMxb82+29MxtyWcAexkPj4+UKvV18x4lZSUXPPX31X+/v7NjndwcIC3t3eHZW1vbdn35owYMQKnT59u73hWx16Oe3ux9eP+9NNPY9OmTdi5cyeCgoJuONbejn1r9r05tnrsnZycEBERgaFDh2LhwoWIjIzEu+++2+xYezvmrdn35tjqMbclLICdzMnJCdHR0UhJSWmyPSUlBXFxcc0+JzY29prx27dvx9ChQ+Ho6NhhWdtbW/a9OZmZmQgICGjveFbHXo57e7HV4y7LMp566imsW7cO3377LcLDw2/6HHs59m3Z9+bY6rH/JVmWUVdX1+y/2csxv54b7Xtz7OWYWzUx154o2+rVq2VHR0d56dKl8rFjx+S5c+fKLi4ucm5urizLsvzCCy/I06ZNs4zPzs6WnZ2d5Xnz5snHjh2Tly5dKjs6OspffvmlqF1os9bu+zvvvCOvX79ePnXqlPzjjz/KL7zwggxATk5OFrULbVZZWSlnZmbKmZmZMgD57bffljMzM+Vz587Jsmzfx721+25Px/33v/+9rNPp5F27dslFRUWWR01NjWWMvR77tuy7vRz7BQsWyGlpaXJOTo58+PBh+cUXX5RVKpW8fft2WZbt95jLcuv33V6Oua1hARTkgw8+kENDQ2UnJyd5yJAhTZZFePjhh+Xbbrutyfhdu3bJUVFRspOTkxwWFiZ/+OGHnZy4/bRm39944w25R48eslarlT09PeVRo0bJmzdvFpD61l1d6uCXj4cffliWZfs+7q3dd3s67s3tNwB5+fLlljH2euzbsu/2cuwfeeQRy++5rl27ymPHjrUUIFm232Muy63fd3s55rZGkuUrZ5kSERERkSLwHEAiIiIihWEBJCIiIlIYFkAiIiIihWEBJCIiIlIYFkAiIiIihWEBJCIiIlIYFkAiIiIihWEBJCIioluSlpaGyZMnIzAwEJIkYcOGDcK/nyRJzT7+9a9/dWg2W8ECSERERLekuroakZGReP/9963m+xUVFTV5LFu2DJIk4b777uuUjNaOdwIhIiKidiNJEtavX48pU6ZYttXX1+Pll1/Gf//7X1RUVGDAgAF44403cPvtt3fI92vOlClTUFlZiW+++eaWv6c9cBAdgIiIiOzbzJkzkZubi9WrVyMwMBDr16/HhAkTcOTIEfTs2bPDv/+FCxewefNmfPrppx3+vWwFPwImIiKiDnP27FkkJSXhiy++QHx8PHr06IHnnnsOo0aNwvLlyzslw6effgo3Nzfce++9nfL9bAELIBEREXWYH374AbIso1evXnB1dbU8UlNTcfbsWQBAbm7udS/auPp46qmn2pxh2bJlePDBB6HVattrt2wePwImIiKiDmMymaBWq3Hw4EGo1eom/+bq6goA6NatG44fP37D1/H09GzT99+9ezdOnjyJNWvWtOn59ooFkIiIiDpMVFQUjEYjSkpKEB8f3+wYR0dH9OnTp0O+/9KlSxEdHY3IyMgOeX1bxQJIREREt6SqqgpnzpyxfJ2Tk4OsrCx4eXmhV69eePDBBzF9+nS89dZbiIqKQmlpKb799lsMHDgQkyZNatfvFxISYtluMBjwxRdf4K233rq1HbRDXAaGiIiIbsmuXbswZsyYa7Y//PDDWLFiBRoaGvDXv/4VK1euREFBAby9vREbG4vXXnsNAwcObPfvd9WSJUswd+5cFBUVQafTtfr72DMWQCIiIiKF4VXARERERArDAkhERESkMCyARERERArDAkhERESkMCyARERERArDAkhERESkMCyARERERArDAkhERESkMCyARERERArDAkhERESkMCyARERERArDAkhERESkMCyARERERArz/6TPK9zQ/xHRAAAAAElFTkSuQmCC' width=640.0/>\n",
       "            </div>\n",
       "        "
      ],
      "text/plain": [
       "Canvas(toolbar=Toolbar(toolitems=[('Home', 'Reset original view', 'home', 'home'), ('Back', 'Back to previous …"
      ]
     },
     "metadata": {},
     "output_type": "display_data"
    }
   ],
   "source": [
    "%matplotlib widget\n",
    "\n",
    "well_range = np.linspace( 0.0, 5.4e16 * plancks_constant_value )#, num=int( 1e4 ) )\n",
    "\n",
    "psi_middle_data = psi_middle_executable( well_range ) ** 2.0\n",
    "\n",
    "plt.plot( well_range, psi_middle_data )"
   ]
  },
  {
   "cell_type": "code",
   "execution_count": null,
   "id": "1885c8be-1ca3-4a88-ad20-610ddcd0df76",
   "metadata": {},
   "outputs": [],
   "source": []
  },
  {
   "cell_type": "code",
   "execution_count": 277,
   "id": "3ccc6b08-64ad-44e3-98d4-5c0899f6b641",
   "metadata": {},
   "outputs": [
    {
     "data": {
      "text/plain": [
       "[<matplotlib.lines.Line2D at 0x7fdf4e2069a0>]"
      ]
     },
     "execution_count": 277,
     "metadata": {},
     "output_type": "execute_result"
    },
    {
     "data": {
      "application/vnd.jupyter.widget-view+json": {
       "model_id": "31a792e70e8245f8b561021c41c86953",
       "version_major": 2,
       "version_minor": 0
      },
      "image/png": "[encoded data removed]",
      "text/html": [
       "\n",
       "            <div style=\"display: inline-block;\">\n",
       "                <div class=\"jupyter-widgets widget-label\" style=\"text-align: center;\">\n",
       "                    Figure\n",
       "                </div>\n",
       "                <img src='data:image/png;base64,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' width=640.0/>\n",
       "            </div>\n",
       "        "
      ],
      "text/plain": [
       "Canvas(toolbar=Toolbar(toolitems=[('Home', 'Reset original view', 'home', 'home'), ('Back', 'Back to previous …"
      ]
     },
     "metadata": {},
     "output_type": "display_data"
    }
   ],
   "source": [
    "%matplotlib widget\n",
    "\n",
    "well_range = np.linspace( 0.0, 1.0, num=int( 1e4 ) )\n",
    "\n",
    "test = psi_no_k\n",
    "\n",
    "test = test.subs( { sp.Abs( k ): ( 2 * sp.pi / well_length ) } )\n",
    "test = test.subs( { well_length: 1 } )\n",
    "\n",
    "psi_middle_data = sp.lambdify( x, test.rhs )( well_range ) ** 2\n",
    "\n",
    "plt.plot( well_range, psi_middle_data )"
   ]
  },
  {
   "cell_type": "code",
   "execution_count": null,
   "id": "fe878dd0-4c47-415f-a397-88aea7d62ca0",
   "metadata": {},
   "outputs": [],
   "source": []
  },
  {
   "cell_type": "code",
   "execution_count": 274,
   "id": "9ded3616-3a1a-465d-a48c-f519fa50bb75",
   "metadata": {},
   "outputs": [
    {
     "data": {
      "text/latex": [
       "$\\displaystyle \\psi{\\left(x \\right)} = \\sqrt{2} \\sin{\\left(2 \\pi x \\right)}$"
      ],
      "text/plain": [
       "Eq(psi(x), sqrt(2)*sin(2*pi*x))"
      ]
     },
     "execution_count": 274,
     "metadata": {},
     "output_type": "execute_result"
    }
   ],
   "source": [
    "test"
   ]
  },
  {
   "cell_type": "code",
   "execution_count": null,
   "id": "0388b2ac-914e-412f-89ea-5d993a9c6951",
   "metadata": {},
   "outputs": [],
   "source": []
  },
  {
   "cell_type": "code",
   "execution_count": null,
   "id": "a47cd825-3acf-4246-8ec3-b4d42afb4b2f",
   "metadata": {},
   "outputs": [],
   "source": []
  },
  {
   "cell_type": "code",
   "execution_count": null,
   "id": "2a80b628-d562-48ac-9f89-7f8c5f67e7bd",
   "metadata": {},
   "outputs": [],
   "source": []
  }
 ],
 "metadata": {
  "kernelspec": {
   "display_name": "Python 3 (ipykernel)",
   "language": "python",
   "name": "python3"
  },
  "language_info": {
   "codemirror_mode": {
    "name": "ipython",
    "version": 3
   },
   "file_extension": ".py",
   "mimetype": "text/x-python",
   "name": "python",
   "nbconvert_exporter": "python",
   "pygments_lexer": "ipython3",
   "version": "3.9.10"
  },
  "toc-autonumbering": false,
  "toc-showcode": false,
  "toc-showmarkdowntxt": false,
  "toc-showtags": true
 },
 "nbformat": 4,
 "nbformat_minor": 5
}
