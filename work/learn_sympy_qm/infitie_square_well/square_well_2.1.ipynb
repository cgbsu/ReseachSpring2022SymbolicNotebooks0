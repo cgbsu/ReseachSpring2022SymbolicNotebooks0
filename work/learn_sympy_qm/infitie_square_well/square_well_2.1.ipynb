{
 "cells": [
  {
   "cell_type": "code",
   "execution_count": 1,
   "id": "5d5b5878-dc34-4044-a3d5-5ca6d976e990",
   "metadata": {},
   "outputs": [],
   "source": [
    "import sympy as sp"
   ]
  },
  {
   "cell_type": "code",
   "execution_count": 2,
   "id": "dc5d3bfc-ca64-4887-9d14-bd833f2037dd",
   "metadata": {},
   "outputs": [],
   "source": [
    "import numpy as np"
   ]
  },
  {
   "cell_type": "code",
   "execution_count": 3,
   "id": "0313b73e-ac0c-4153-a160-59c463268c1c",
   "metadata": {},
   "outputs": [],
   "source": [
    "import matplotlib.pyplot as plt"
   ]
  },
  {
   "cell_type": "code",
   "execution_count": 4,
   "id": "c193802c-198c-4235-b7fa-3eae80fdfc5d",
   "metadata": {},
   "outputs": [],
   "source": [
    "import sympy.physics.units.quantities as sq"
   ]
  },
  {
   "cell_type": "code",
   "execution_count": 5,
   "id": "1ce80cb8-a825-4ad4-87d9-4463ec20e99f",
   "metadata": {},
   "outputs": [],
   "source": [
    "import unicodedata as ud"
   ]
  },
  {
   "cell_type": "code",
   "execution_count": null,
   "id": "9b33e0d1-bb4b-4d44-918a-005079ba3cf4",
   "metadata": {},
   "outputs": [],
   "source": []
  },
  {
   "cell_type": "code",
   "execution_count": 6,
   "id": "2089807c-bee3-40bd-85a7-250f6dc3b5d1",
   "metadata": {},
   "outputs": [],
   "source": [
    "well_length = sq.Symbol( 'L', nonzero=True, positive=True )\n",
    "highest_potential = sq.Symbol( \"V_max\", nonzero=True, positive=True )\n",
    "x = sp.Symbol( 'x', positive=True )\n",
    "m = sq.Quantity( 'm', positive=True, nonzero=True )\n",
    "hbar = sq.Quantity( \"hbar\" )\n",
    "total_energy = sq.Symbol( 'E', nonzero=True, positive=True )\n",
    "inverse_total_energy = 1.0 / total_energy\n",
    "psi_symbol = ud.lookup( \"GREEK SMALL LETTER PSI\" )\n",
    "psi = sp.Function( \"psi\" )\n",
    "normalization_constant = sq.Symbol( 'A', nonzero=True )\n",
    "C1 = sp.Symbol( \"C1\")#, nonzero=True )\n",
    "C2 = sp.Symbol( \"C2\")#, nonzero=True )\n",
    "k = sp.Symbol(\"k\", nonzero=True)"
   ]
  },
  {
   "cell_type": "code",
   "execution_count": null,
   "id": "bc3a95f7-f399-42b7-a579-3348031adb74",
   "metadata": {},
   "outputs": [],
   "source": []
  },
  {
   "cell_type": "code",
   "execution_count": 7,
   "id": "1c2a4e25-991c-41fa-a440-21ce14966e8a",
   "metadata": {},
   "outputs": [],
   "source": [
    "potential_energy = sp.Piecewise( ( highest_potential, x <= 0 ), ( 0, x < well_length ), ( highest_potential, x >= well_length ) )"
   ]
  },
  {
   "cell_type": "code",
   "execution_count": 8,
   "id": "6df6abe8-45d3-4687-9031-e873ad22e207",
   "metadata": {},
   "outputs": [],
   "source": [
    "second_derivative = sp.Derivative( psi( x ), x, 2 )\n",
    "make_shrodinger_left = lambda potential, psi_parameter : ( ( -( hbar ** 2 ) / ( 2 * m ) ) * second_derivative + ( psi( psi_parameter ) * potential ) )\n",
    "make_shrodinger_right = lambda psi_parameter : total_energy * psi( psi_parameter )\n",
    "make_psi_equal = lambda input_value, value : sp.Eq( psi( sp.Eq( x, input_value ) ), value )\n",
    "set_equal = lambda to_set, value : sp.Eq( to_set, value )\n",
    "both_sides = lambda equation, opreation : sp.Eq( opreation( equation.lhs ), opreation( equation.rhs ) )"
   ]
  },
  {
   "cell_type": "code",
   "execution_count": 9,
   "id": "3a1f6346-cb9d-4c3e-8789-8f4260afb303",
   "metadata": {},
   "outputs": [],
   "source": [
    "shrodinger_left_high = sp.simplify( make_shrodinger_left( highest_potential, x ) )\n",
    "shrodinger_left_low = sp.simplify( make_shrodinger_left( 0, x ) )\n",
    "shrodinger_left = sp.simplify( make_shrodinger_left( potential_energy, x ) )\n",
    "shrodinger_right = make_shrodinger_right( x )\n",
    "shrodinger = sp.simplify( sp.Eq( shrodinger_left, shrodinger_right ) )\n",
    "shrodinger_zero = sp.simplify( sp.Eq( shrodinger_left - shrodinger_right, 0 ) )\n",
    "shrodinger_low_zero = sp.Eq( shrodinger_left_low - shrodinger_right, 0 )\n",
    "shrodinger_low_zero_hand = sp.Eq( second_derivative + ( ( 2 * total_energy * m ) / ( hbar ** 2 ) ) * psi( x ), 0 )\n",
    "shrodinger_low_zero_ksq = sp.Eq( second_derivative + ( ( k ** 2 ) * psi( x ) ), 0 )\n",
    "\n",
    "k_sq = sp.Eq( k ** 2, ( ( 2 * total_energy * m ) / ( hbar ** 2 ) ) )"
   ]
  },
  {
   "cell_type": "code",
   "execution_count": 10,
   "id": "3d64bb0d-04d3-400e-a1ac-3ac71994d298",
   "metadata": {},
   "outputs": [],
   "source": [
    "make_normalization_left = lambda psi_function : sp.integrate( psi_function * sp.conjugate( psi_function ), ( x, 0, well_length ) )\n",
    "make_normalization = lambda psi_function : sp.Eq( normalization_left( psi_function ), 1 )\n",
    "normalization_left = make_normalization_left( psi( x ) )\n",
    "normalization = sp.Eq( normalization_left, 1 )"
   ]
  },
  {
   "cell_type": "code",
   "execution_count": 11,
   "id": "f35c71f1-ac15-47d6-a5d3-38a18e8eaefd",
   "metadata": {},
   "outputs": [],
   "source": [
    "shrodinger_low_zero = sp.Eq( -( ( shrodinger_low_zero.lhs * 2*m ).simplify() / ( hbar ** 2 ) ).simplify(), 0 )"
   ]
  },
  {
   "cell_type": "code",
   "execution_count": 12,
   "id": "bd735941-bbb3-445e-b8d9-f63b3ee1b50d",
   "metadata": {},
   "outputs": [
    {
     "data": {
      "text/latex": [
       "$\\displaystyle \\int\\limits_{0}^{L} \\psi{\\left(x \\right)} \\overline{\\psi{\\left(x \\right)}}\\, dx = 1$"
      ],
      "text/plain": [
       "Eq(Integral(psi(x)*conjugate(psi(x)), (x, 0, L)), 1)"
      ]
     },
     "execution_count": 12,
     "metadata": {},
     "output_type": "execute_result"
    }
   ],
   "source": [
    "normalization"
   ]
  },
  {
   "cell_type": "code",
   "execution_count": 13,
   "id": "d60b714e-1987-4d18-bbd3-5c7a70e78b23",
   "metadata": {},
   "outputs": [
    {
     "data": {
      "text/latex": [
       "$\\displaystyle \\frac{d^{2}}{d x^{2}} \\psi{\\left(x \\right)} + \\frac{2 E \\psi{\\left(x \\right)} \\text{m}}{\\text{hbar}^{2}} = 0$"
      ],
      "text/plain": [
       "Eq(Derivative(psi(x), (x, 2)) + 2*m*E*psi(x)/hbar**2, 0)"
      ]
     },
     "execution_count": 13,
     "metadata": {},
     "output_type": "execute_result"
    }
   ],
   "source": [
    "shrodinger_low_zero"
   ]
  },
  {
   "cell_type": "code",
   "execution_count": 14,
   "id": "12ffc818-9dfe-4823-b2f1-c13cf399a82e",
   "metadata": {},
   "outputs": [
    {
     "data": {
      "text/latex": [
       "$\\displaystyle k^{2} \\psi{\\left(x \\right)} + \\frac{d^{2}}{d x^{2}} \\psi{\\left(x \\right)} = 0$"
      ],
      "text/plain": [
       "Eq(k**2*psi(x) + Derivative(psi(x), (x, 2)), 0)"
      ]
     },
     "execution_count": 14,
     "metadata": {},
     "output_type": "execute_result"
    }
   ],
   "source": [
    "shrodinger_low_zero_ksq"
   ]
  },
  {
   "cell_type": "code",
   "execution_count": 15,
   "id": "a4fd9674-9ba1-4c67-8f5f-62a69b7e3404",
   "metadata": {},
   "outputs": [],
   "source": [
    "diff_sol = sp.solvers.ode.dsolve( shrodinger_low_zero_ksq, psi( x ), ivar = x )\n",
    "#ics = { psi( 0 ): 0, psi( well_length ): 0 }"
   ]
  },
  {
   "cell_type": "code",
   "execution_count": 16,
   "id": "7b6e6e90-d5e3-4c89-9421-eb76a674cf0a",
   "metadata": {},
   "outputs": [
    {
     "data": {
      "text/latex": [
       "$\\displaystyle \\psi{\\left(x \\right)} = C_{1} \\sin{\\left(x \\left|{k}\\right| \\right)} + C_{2} \\cos{\\left(k x \\right)}$"
      ],
      "text/plain": [
       "Eq(psi(x), C1*sin(x*Abs(k)) + C2*cos(k*x))"
      ]
     },
     "execution_count": 16,
     "metadata": {},
     "output_type": "execute_result"
    }
   ],
   "source": [
    "diff_sol"
   ]
  },
  {
   "cell_type": "code",
   "execution_count": 17,
   "id": "5737096d-fe13-4f6d-bc2c-dc38a959913b",
   "metadata": {},
   "outputs": [],
   "source": [
    "boundries = [\n",
    "        sp.Eq( diff_sol.rhs.subs( x, 0 ), 0 ), \n",
    "        sp.Eq( diff_sol.rhs.subs( x, well_length ), 0 )\n",
    "    ]"
   ]
  },
  {
   "cell_type": "code",
   "execution_count": 18,
   "id": "e189dd46-4867-4926-99c9-93594602afb0",
   "metadata": {},
   "outputs": [
    {
     "data": {
      "text/latex": [
       "$\\displaystyle C_{2} = 0$"
      ],
      "text/plain": [
       "Eq(C2, 0)"
      ]
     },
     "execution_count": 18,
     "metadata": {},
     "output_type": "execute_result"
    }
   ],
   "source": [
    "boundries[ 0 ]"
   ]
  },
  {
   "cell_type": "code",
   "execution_count": 19,
   "id": "799e1ef9-7ddf-4367-8ba7-e41514c06e3e",
   "metadata": {},
   "outputs": [
    {
     "data": {
      "text/latex": [
       "$\\displaystyle C_{1} \\sin{\\left(L \\left|{k}\\right| \\right)} + C_{2} \\cos{\\left(L k \\right)} = 0$"
      ],
      "text/plain": [
       "Eq(C1*sin(L*Abs(k)) + C2*cos(L*k), 0)"
      ]
     },
     "execution_count": 19,
     "metadata": {},
     "output_type": "execute_result"
    }
   ],
   "source": [
    "boundries[ 1 ]"
   ]
  },
  {
   "cell_type": "code",
   "execution_count": null,
   "id": "3982f0f0-94db-4f18-8d96-8e6148c52fd9",
   "metadata": {},
   "outputs": [],
   "source": []
  },
  {
   "cell_type": "code",
   "execution_count": null,
   "id": "60eebd9d-fd43-4b19-a469-33e5725ffe2f",
   "metadata": {},
   "outputs": [],
   "source": []
  },
  {
   "cell_type": "code",
   "execution_count": 20,
   "id": "5ee34546-f188-4806-a05d-99efd0dedf6b",
   "metadata": {},
   "outputs": [],
   "source": [
    "boundry_applied = diff_sol.subs( C2, 0 )"
   ]
  },
  {
   "cell_type": "code",
   "execution_count": 21,
   "id": "e380436f-bfb6-4b51-82da-6e712750a6e3",
   "metadata": {},
   "outputs": [
    {
     "data": {
      "text/latex": [
       "$\\displaystyle \\psi{\\left(x \\right)} = C_{1} \\sin{\\left(x \\left|{k}\\right| \\right)}$"
      ],
      "text/plain": [
       "Eq(psi(x), C1*sin(x*Abs(k)))"
      ]
     },
     "execution_count": 21,
     "metadata": {},
     "output_type": "execute_result"
    }
   ],
   "source": [
    "boundry_applied"
   ]
  },
  {
   "cell_type": "code",
   "execution_count": null,
   "id": "debd2a8a-0c6f-4f47-8fd3-47a5a294e874",
   "metadata": {},
   "outputs": [],
   "source": []
  },
  {
   "cell_type": "code",
   "execution_count": 22,
   "id": "6fb07a4e-0b9b-4ed3-a77f-ad6622e68c4f",
   "metadata": {},
   "outputs": [],
   "source": [
    "particular_appled = boundries[ 1 ].subs( boundries[ 0 ].lhs, boundries[ 0 ].rhs )"
   ]
  },
  {
   "cell_type": "code",
   "execution_count": 23,
   "id": "ec6a8f4e-435c-4225-b355-ac6976958086",
   "metadata": {},
   "outputs": [
    {
     "data": {
      "text/latex": [
       "$\\displaystyle C_{1} \\sin{\\left(L \\left|{k}\\right| \\right)} = 0$"
      ],
      "text/plain": [
       "Eq(C1*sin(L*Abs(k)), 0)"
      ]
     },
     "execution_count": 23,
     "metadata": {},
     "output_type": "execute_result"
    }
   ],
   "source": [
    "particular_appled"
   ]
  },
  {
   "cell_type": "code",
   "execution_count": 24,
   "id": "2e2cc079-9a35-4888-b129-5aa9aea13b9e",
   "metadata": {},
   "outputs": [],
   "source": [
    "assume_c1_not_zero = sp.Eq( particular_appled.lhs.as_two_terms()[ 1 ], particular_appled.rhs )"
   ]
  },
  {
   "cell_type": "code",
   "execution_count": 25,
   "id": "34e4b4b8-f6ca-489e-86c9-828383d245db",
   "metadata": {},
   "outputs": [
    {
     "data": {
      "text/latex": [
       "$\\displaystyle \\sin{\\left(L \\left|{k}\\right| \\right)} = 0$"
      ],
      "text/plain": [
       "Eq(sin(L*Abs(k)), 0)"
      ]
     },
     "execution_count": 25,
     "metadata": {},
     "output_type": "execute_result"
    }
   ],
   "source": [
    "assume_c1_not_zero"
   ]
  },
  {
   "cell_type": "code",
   "execution_count": null,
   "id": "66e1897d-4436-4a45-834b-f15d5713634a",
   "metadata": {},
   "outputs": [],
   "source": []
  },
  {
   "cell_type": "code",
   "execution_count": null,
   "id": "c8483802-5377-4b7b-965f-667140dfa9cb",
   "metadata": {},
   "outputs": [],
   "source": []
  },
  {
   "cell_type": "code",
   "execution_count": 26,
   "id": "bb6dbd61-6151-4c08-b7f8-b9c4b9fbc68d",
   "metadata": {},
   "outputs": [],
   "source": [
    "new_normalization = sp.Eq( make_normalization_left( boundry_applied.rhs ), 1 )"
   ]
  },
  {
   "cell_type": "code",
   "execution_count": 27,
   "id": "2b8b3deb-3db4-4378-96ac-e0ef79fe3c3a",
   "metadata": {},
   "outputs": [
    {
     "data": {
      "text/latex": [
       "$\\displaystyle \\frac{C_{1} \\left(\\frac{L k}{2} - \\frac{\\sin{\\left(L k \\right)} \\cos{\\left(L k \\right)}}{2}\\right) \\overline{C_{1}}}{k} = 1$"
      ],
      "text/plain": [
       "Eq(C1*(L*k/2 - sin(L*k)*cos(L*k)/2)*conjugate(C1)/k, 1)"
      ]
     },
     "execution_count": 27,
     "metadata": {},
     "output_type": "execute_result"
    }
   ],
   "source": [
    "new_normalization"
   ]
  },
  {
   "cell_type": "code",
   "execution_count": null,
   "id": "c24e7b81-d81f-42fa-9558-bbea30bf4f2a",
   "metadata": {},
   "outputs": [],
   "source": []
  },
  {
   "cell_type": "code",
   "execution_count": null,
   "id": "c23294ee-da39-43bc-b66c-d97194ca50ab",
   "metadata": {},
   "outputs": [],
   "source": []
  },
  {
   "cell_type": "code",
   "execution_count": null,
   "id": "801bab10-1013-4ee5-bc23-577fe42859c0",
   "metadata": {},
   "outputs": [],
   "source": []
  },
  {
   "cell_type": "code",
   "execution_count": 28,
   "id": "ef2a6d82-79c5-43da-8a6a-93d838471be0",
   "metadata": {},
   "outputs": [
    {
     "data": {
      "text/latex": [
       "$\\displaystyle \\frac{C_{1} \\left(\\frac{L k}{2} - \\frac{\\sin{\\left(L k \\right)} \\cos{\\left(L k \\right)}}{2}\\right) \\overline{C_{1}}}{k} = 1$"
      ],
      "text/plain": [
       "Eq(C1*(L*k/2 - sin(L*k)*cos(L*k)/2)*conjugate(C1)/k, 1)"
      ]
     },
     "execution_count": 28,
     "metadata": {},
     "output_type": "execute_result"
    }
   ],
   "source": [
    "new_normalization.refine( assume_c1_not_zero )"
   ]
  },
  {
   "cell_type": "code",
   "execution_count": null,
   "id": "3a3d8bec-f478-4f4b-a84b-4226356ac866",
   "metadata": {},
   "outputs": [],
   "source": []
  },
  {
   "cell_type": "code",
   "execution_count": 29,
   "id": "8f903a75-bd14-4d9e-a0c0-85b356058f2e",
   "metadata": {},
   "outputs": [
    {
     "data": {
      "text/latex": [
       "$\\displaystyle - 2 \\sqrt{\\frac{k}{2 L k - \\sin{\\left(2 L k \\right)}}}$"
      ],
      "text/plain": [
       "-2*sqrt(k/(2*L*k - sin(2*L*k)))"
      ]
     },
     "execution_count": 29,
     "metadata": {},
     "output_type": "execute_result"
    }
   ],
   "source": [
    "sp.solve( new_normalization.simplify(), C1 )[ 0 ]"
   ]
  },
  {
   "cell_type": "code",
   "execution_count": null,
   "id": "0b6d2233-90ce-461e-9997-f8401a40ca01",
   "metadata": {},
   "outputs": [],
   "source": []
  },
  {
   "cell_type": "code",
   "execution_count": null,
   "id": "12ee0c8b-8d8f-4d39-9c6e-41d807d7dfab",
   "metadata": {},
   "outputs": [],
   "source": []
  },
  {
   "cell_type": "code",
   "execution_count": 30,
   "id": "5d33f139-d2f5-4e61-b919-ac72283ca56a",
   "metadata": {},
   "outputs": [
    {
     "data": {
      "image/png": "[encoded data removed]",
      "text/plain": [
       "<Figure size 432x288 with 1 Axes>"
      ]
     },
     "metadata": {
      "needs_background": "light"
     },
     "output_type": "display_data"
    },
    {
     "data": {
      "text/plain": [
       "<sympy.plotting.plot.Plot at 0x7fb2315826d0>"
      ]
     },
     "execution_count": 30,
     "metadata": {},
     "output_type": "execute_result"
    }
   ],
   "source": [
    "# Lets see if we can get an identity out of here\n",
    "sp.plot( \n",
    "        sp.sin( x ) * sp.cos( x ), \n",
    "        sp.sin( -x ) * sp.cos( -x ), \n",
    "        sp.sin( 2 * x ), \n",
    "        sp.sin( -2 * x ) \n",
    "    )"
   ]
  },
  {
   "cell_type": "code",
   "execution_count": null,
   "id": "9fe1fc0d-b9e8-4beb-b475-397a328e7cc2",
   "metadata": {},
   "outputs": [],
   "source": []
  },
  {
   "cell_type": "code",
   "execution_count": 31,
   "id": "d553b4d7-23a9-4331-b595-ddfe4fed412f",
   "metadata": {},
   "outputs": [
    {
     "data": {
      "text/latex": [
       "$\\displaystyle \\frac{C_{1} \\left(L k - \\frac{\\sin{\\left(2 L k \\right)}}{2}\\right) \\overline{C_{1}}}{2 k} = 1$"
      ],
      "text/plain": [
       "Eq(C1*(L*k - sin(2*L*k)/2)*conjugate(C1)/(2*k), 1)"
      ]
     },
     "execution_count": 31,
     "metadata": {},
     "output_type": "execute_result"
    }
   ],
   "source": [
    "new_normalization.simplify()"
   ]
  },
  {
   "cell_type": "code",
   "execution_count": 32,
   "id": "8983eda1-c70a-41b6-822d-cfa552753c67",
   "metadata": {},
   "outputs": [],
   "source": [
    "ref = {}\n",
    "ref[ 0 ] = new_normalization.simplify().refine( k_sq )"
   ]
  },
  {
   "cell_type": "code",
   "execution_count": 33,
   "id": "d3119ba6-2131-480a-8f9f-76a5b359e418",
   "metadata": {},
   "outputs": [
    {
     "data": {
      "text/latex": [
       "$\\displaystyle \\frac{C_{1} \\left(L k - \\frac{\\sin{\\left(2 L k \\right)}}{2}\\right) \\overline{C_{1}}}{2 k} = 1$"
      ],
      "text/plain": [
       "Eq(C1*(L*k - sin(2*L*k)/2)*conjugate(C1)/(2*k), 1)"
      ]
     },
     "execution_count": 33,
     "metadata": {},
     "output_type": "execute_result"
    }
   ],
   "source": [
    "ref[ 0 ]"
   ]
  },
  {
   "cell_type": "code",
   "execution_count": 34,
   "id": "81165fb4-7e5d-4b92-90ec-663bab70f959",
   "metadata": {},
   "outputs": [
    {
     "data": {
      "text/latex": [
       "$\\displaystyle \\sin{\\left(L \\left|{k}\\right| \\right)} = 0$"
      ],
      "text/plain": [
       "Eq(sin(L*Abs(k)), 0)"
      ]
     },
     "execution_count": 34,
     "metadata": {},
     "output_type": "execute_result"
    }
   ],
   "source": [
    "assume_c1_not_zero.refine(k_sq)"
   ]
  },
  {
   "cell_type": "code",
   "execution_count": 35,
   "id": "c8707b74-4ff4-4e9c-afbd-8a9e64477e01",
   "metadata": {},
   "outputs": [],
   "source": [
    "k_val = sp.sqrt( k_sq.rhs )\n",
    "ref_sub = new_normalization.simplify().subs(k, k_val ).refine( assume_c1_not_zero.subs( k, k_val ) )"
   ]
  },
  {
   "cell_type": "code",
   "execution_count": 36,
   "id": "2f3350b6-66ad-49d7-a8ae-7344b60f638c",
   "metadata": {},
   "outputs": [],
   "source": [
    "assume_c1_not_zero_refine = assume_c1_not_zero.refine( k > 0 )"
   ]
  },
  {
   "cell_type": "code",
   "execution_count": 37,
   "id": "6fb92daf-f187-46fa-8ec1-c350985c5cf1",
   "metadata": {},
   "outputs": [
    {
     "data": {
      "text/latex": [
       "$\\displaystyle \\sin{\\left(L \\left|{k}\\right| \\right)} = 0$"
      ],
      "text/plain": [
       "Eq(sin(L*Abs(k)), 0)"
      ]
     },
     "execution_count": 37,
     "metadata": {},
     "output_type": "execute_result"
    }
   ],
   "source": [
    "assume_c1_not_zero_refine"
   ]
  },
  {
   "cell_type": "code",
   "execution_count": null,
   "id": "3a8e5c49-59fb-4998-90d9-82161358c63b",
   "metadata": {},
   "outputs": [],
   "source": []
  }
 ],
 "metadata": {
  "kernelspec": {
   "display_name": "Python 3 (ipykernel)",
   "language": "python",
   "name": "python3"
  },
  "language_info": {
   "codemirror_mode": {
    "name": "ipython",
    "version": 3
   },
   "file_extension": ".py",
   "mimetype": "text/x-python",
   "name": "python",
   "nbconvert_exporter": "python",
   "pygments_lexer": "ipython3",
   "version": "3.9.10"
  },
  "toc-autonumbering": false,
  "toc-showcode": false,
  "toc-showmarkdowntxt": false,
  "toc-showtags": true
 },
 "nbformat": 4,
 "nbformat_minor": 5
}
