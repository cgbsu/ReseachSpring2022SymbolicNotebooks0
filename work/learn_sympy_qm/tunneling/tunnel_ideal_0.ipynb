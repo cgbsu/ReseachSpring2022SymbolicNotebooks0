{
 "cells": [
  {
   "cell_type": "code",
   "execution_count": 1,
   "id": "8ac3faff-b15a-4620-b3a9-eb59a3f261f8",
   "metadata": {},
   "outputs": [],
   "source": [
    "import sympy as sp"
   ]
  },
  {
   "cell_type": "code",
   "execution_count": 2,
   "id": "02f455bc-1df0-4dce-b8e0-27d83ec266fe",
   "metadata": {},
   "outputs": [],
   "source": [
    "import matplotlib.pyplot as plt"
   ]
  },
  {
   "cell_type": "code",
   "execution_count": 3,
   "id": "62a0e006-8c9d-4479-8a90-b2dcaf056fe9",
   "metadata": {},
   "outputs": [],
   "source": [
    "import sympy.physics.units.quantities as sq"
   ]
  },
  {
   "cell_type": "code",
   "execution_count": 4,
   "id": "edbf158f-5ce5-4d42-9c8b-06dee822119e",
   "metadata": {},
   "outputs": [],
   "source": [
    "from sympy.physics.quantum.constants import hbar"
   ]
  },
  {
   "cell_type": "code",
   "execution_count": null,
   "id": "1cc2604c-dfd2-45e3-9216-5cc3f52d15af",
   "metadata": {},
   "outputs": [],
   "source": []
  },
  {
   "cell_type": "code",
   "execution_count": 5,
   "id": "cb102f2f-3ab8-44d9-84fb-705cb17f9a62",
   "metadata": {},
   "outputs": [],
   "source": [
    "PSI_FUNCTION = sp.Function( \"psi\" )\n",
    "POTENTIAL_FUNCTION = sp.Function( \"V\" )\n",
    "TOTAL_ENERGY_SYMBOL = sq.Symbol( 'E', nonzero = True, positive = True )\n",
    "MASS_SYMBOL = sq.Quantity( 'm', positive = True, nonzero = True )\n",
    "#REDUCED_PLANCK_CONSTANT_SYMBOL = sq.Symbol( \"hbar\" )\n",
    "POSITION_SYMBOL = sp.Symbol( 'x', positive = True )\n",
    "\n",
    "def time_independent_schroedinger_equation( \n",
    "            psi = PSI_FUNCTION, \n",
    "            potential = POTENTIAL_FUNCTION, \n",
    "            total_energy = TOTAL_ENERGY_SYMBOL, \n",
    "            mass = MASS_SYMBOL, \n",
    "            reduced_planck_constant = hbar, #REDUCED_PLANCK_CONSTANT_SYMBOL, \n",
    "            position = POSITION_SYMBOL \n",
    "        ): \n",
    "    return sp.Eq( \n",
    "            ( ( -( reduced_planck_constant ** 2 ) / ( 2 * mass ) ) \\\n",
    "                    * sp.Derivative( psi( position ), ( position, 2 ) ) )\n",
    "                    + ( potential( position ) * psi( position ) ), \n",
    "            total_energy * psi( position ) \n",
    "        )\n"
   ]
  },
  {
   "cell_type": "code",
   "execution_count": 6,
   "id": "4b4f60c2-e854-4e1a-865f-8af0a27c2b92",
   "metadata": {},
   "outputs": [],
   "source": [
    "set_equal = lambda to_set, value : sp.Eq( to_set, value )\n",
    "both_sides = lambda equation, opreation : sp.Eq( opreation( equation.lhs ), opreation( equation.rhs ) )\n",
    "equation_to_dict = lambda equation : { equation.lhs : equation.rhs }"
   ]
  },
  {
   "cell_type": "code",
   "execution_count": 7,
   "id": "0520960e-9f69-45df-95c8-39b208fafb1e",
   "metadata": {},
   "outputs": [],
   "source": [
    "hbar_eq = sp.Eq( hbar, sp.physics.units.planck / ( 2 * sp.pi ) )"
   ]
  },
  {
   "cell_type": "code",
   "execution_count": 8,
   "id": "7f5af676-f83a-4320-9fdc-a138bff58d6d",
   "metadata": {},
   "outputs": [
    {
     "data": {
      "text/latex": [
       "$\\displaystyle \\hbar = \\frac{\\text{h}}{2 \\pi}$"
      ],
      "text/plain": [
       "Eq(hbar, planck/(2*pi))"
      ]
     },
     "execution_count": 8,
     "metadata": {},
     "output_type": "execute_result"
    }
   ],
   "source": [
    "hbar_eq"
   ]
  },
  {
   "cell_type": "code",
   "execution_count": null,
   "id": "117dbcc1-bfc0-4739-bc69-5a371f5b0064",
   "metadata": {},
   "outputs": [],
   "source": []
  },
  {
   "cell_type": "code",
   "execution_count": 9,
   "id": "c8de0c1f-cf01-4af2-b6cb-2518ba73412e",
   "metadata": {},
   "outputs": [],
   "source": [
    "psi = PSI_FUNCTION\n",
    "potential = POTENTIAL_FUNCTION\n",
    "total_energy = TOTAL_ENERGY_SYMBOL\n",
    "mass = MASS_SYMBOL\n",
    "#reduced_planck_constant = REDUCED_PLANCK_CONSTANT_SYMBOL\n",
    "x = POSITION_SYMBOL"
   ]
  },
  {
   "cell_type": "code",
   "execution_count": null,
   "id": "a9ca49b3-22fa-45f3-af7b-240ed1b53861",
   "metadata": {},
   "outputs": [],
   "source": []
  },
  {
   "cell_type": "code",
   "execution_count": 10,
   "id": "63722f78-06f5-41d2-8252-449d6c2c1341",
   "metadata": {},
   "outputs": [],
   "source": [
    "k = sp.Symbol( 'k' )"
   ]
  },
  {
   "cell_type": "code",
   "execution_count": 11,
   "id": "75215216-251e-4c12-bb18-79a0faece9d3",
   "metadata": {},
   "outputs": [],
   "source": [
    "k_squared = sp.Eq( k ** 2, ( ( 2 * total_energy * mass ) / ( hbar ** 2 ) ) )"
   ]
  },
  {
   "cell_type": "code",
   "execution_count": 12,
   "id": "b2693923-d6ef-4991-99e1-9b477a504c4d",
   "metadata": {},
   "outputs": [
    {
     "data": {
      "text/latex": [
       "$\\displaystyle k^{2} = \\frac{2 E \\text{m}}{\\hbar^{2}}$"
      ],
      "text/plain": [
       "Eq(k**2, 2*m*E/hbar**2)"
      ]
     },
     "execution_count": 12,
     "metadata": {},
     "output_type": "execute_result"
    }
   ],
   "source": [
    "k_squared"
   ]
  },
  {
   "cell_type": "code",
   "execution_count": null,
   "id": "1e4e9438-c0fe-41aa-a64e-045b2ae99daf",
   "metadata": {},
   "outputs": [],
   "source": []
  },
  {
   "cell_type": "code",
   "execution_count": 13,
   "id": "eee1357f-abbd-4779-8e8c-8230db509fe3",
   "metadata": {},
   "outputs": [],
   "source": [
    "class ZeroPotential( sp.Function ): \n",
    "    @classmethod\n",
    "    def eval( cls, position ):\n",
    "        return 0"
   ]
  },
  {
   "cell_type": "code",
   "execution_count": 14,
   "id": "069ed962-7243-4ffc-b5a5-e46087389c39",
   "metadata": {},
   "outputs": [],
   "source": [
    "#https://docs.sympy.org/latest/modules/assumptions/index.html#querying\n",
    "#https://docs.sympy.org/latest/modules/codegen.html#module-sympy.codegen.cxxnodes\n",
    "\n",
    "class Potential( sp.Function ): \n",
    "    DEFAULT_POTENTIAL = sp.Symbol( \"V_0\" )\n",
    "    @classmethod\n",
    "    def eval( cls, position, potential = DEFAULT_POTENTIAL ): \n",
    "        return potential"
   ]
  },
  {
   "cell_type": "code",
   "execution_count": 15,
   "id": "3c91b1af-b68c-49b0-bfa1-3f186a3c6b04",
   "metadata": {},
   "outputs": [],
   "source": [
    "class TunnelPotential( sp.Function ): \n",
    "    DEFAULT_WELL_LENGTH = sp.Symbol( 'L' )\n",
    "    DEFAULT_POTENTIAL = Potential.DEFAULT_POTENTIAL\n",
    "    DEFAULT_START = 0\n",
    "    @classmethod\n",
    "    def eval( cls, position, length = DEFAULT_WELL_LENGTH, \n",
    "             start = DEFAULT_START, potential = DEFAULT_POTENTIAL ): \n",
    "        if position < start or position > sp.simplify( length + start ): \n",
    "            return ZeroPotential.eval( position )\n",
    "        return Potential.eval( position, potential )"
   ]
  },
  {
   "cell_type": "code",
   "execution_count": null,
   "id": "9f1b6d08-af41-4313-a53e-d8c7e0035ee7",
   "metadata": {},
   "outputs": [],
   "source": []
  },
  {
   "cell_type": "code",
   "execution_count": 16,
   "id": "313234d9-a63a-4a14-876b-7e42ddb105a1",
   "metadata": {},
   "outputs": [],
   "source": [
    "class Stepper: \n",
    "\n",
    "    LEFT = \"LEFT\", \n",
    "    RIGHT = \"RIGHT\"\n",
    "    \n",
    "    def __init__( self, first_step, new_steps = None ): \n",
    "        self.steps = new_steps if new_steps else []\n",
    "        self.steps.append( first_step )\n",
    "        self.chaining = False\n",
    "    \n",
    "    def step_number( self, step = None ): \n",
    "        return ( len( self.steps ) - 1 ) if not step else step\n",
    "    \n",
    "    def last_step( self, step = None ):\n",
    "        return self.steps[ self.step_number( step ) ]\n",
    "    \n",
    "    def _return_chain( self, step, chain ): \n",
    "        return self if ( chain or self.chaining ) else step        \n",
    "    \n",
    "    def add_step( self, new_step, chain = False ):\n",
    "        self.steps.append( new_step )\n",
    "        return self._return_chain( self.steps[ -1 ], chain )\n",
    "\n",
    "    def operate( self, operation, step = None, chain = False ):\n",
    "        self.steps.append( operation( self.last_step( step ) ) )\n",
    "        return self._return_chain( self.steps[ -1 ], chain )\n",
    "\n",
    "    def manipulate( self, operation, chain = False ): \n",
    "        return self._return_chain( self.add_step( \n",
    "                both_sides( self.last_step(), operation ) ), \n",
    "                chain \n",
    "            )\n",
    "    \n",
    "    def delete_step( self, step ): \n",
    "        old_step = self.steps[ step ]\n",
    "        del self.steps[ step ]\n",
    "        return old_step\n",
    "    \n",
    "    def undo( self, step = None, chain = False ): \n",
    "        return self._return_chain( \n",
    "                self.delete_step( self.step_number( step ) ), \n",
    "                chain \n",
    "            )\n",
    "    \n",
    "    def clone( self, from_step = None ):\n",
    "        return self.branch( lambda blank : blank, from_step )\n",
    "    \n",
    "    def branch( self, operation = None, from_step = None ): \n",
    "        from_step = self.step_number( from_step )\n",
    "        return Stepper( \n",
    "                both_sides( self.last_step( from_step ), operation ), \n",
    "                self.steps[ : self.step_number( from_step ) : ], \n",
    "            )\n",
    "    \n",
    "    def substitute_constant( self, constant, chain = False ):\n",
    "            return self.operate( lambda step : step.subs( { constant.rhs : constant.lhs } ) )\n",
    "    \n",
    "    def negate_add( self, side_to_negate_add, chain = False ): \n",
    "        last_step = self.last_step()\n",
    "        return self.manipulate( \n",
    "                lambda side : side + -( \n",
    "                    last_step.lhs if side_to_negate_add == Stepper.LEFT \n",
    "                            else last_step.rhs \n",
    "                        ), \n",
    "                chain \n",
    "            )\n",
    "    \n",
    "    def rename( self, old_symbol, new_symbol_name, chain = False ): \n",
    "        last_step = self.last_step()\n",
    "        assert old_symbol in last_step.atoms() or old_symbol in last_step.atoms( sp.Function )\n",
    "        return self.add_step( last_step.subs( \n",
    "            old_symbol if type( old_symbol ) == dict \\\n",
    "                    else { old_symbol : new_symbol_name } ), chain \n",
    "                )\n",
    "    \n",
    "    def chain( self, operation ):\n",
    "        self.chaining = True\n",
    "        operation( self )\n",
    "        self.chaining = False\n",
    "        return self\n",
    "    \n",
    "    def begin_chain( self ): \n",
    "        self.chaining = True\n",
    "        return self\n",
    "    \n",
    "    def end_chain( self ): \n",
    "        self.chaining = False\n",
    "        return self\n"
   ]
  },
  {
   "cell_type": "code",
   "execution_count": null,
   "id": "dd6deedd-3ec2-4632-97c1-f5eabf1f7c1c",
   "metadata": {},
   "outputs": [],
   "source": []
  },
  {
   "cell_type": "code",
   "execution_count": 17,
   "id": "d197311f-e70a-4f4a-83b3-c4b9b63b90b6",
   "metadata": {},
   "outputs": [
    {
     "data": {
      "text/latex": [
       "$\\displaystyle k^{2} = \\frac{2 E \\text{m}}{\\hbar^{2}}$"
      ],
      "text/plain": [
       "Eq(k**2, 2*m*E/hbar**2)"
      ]
     },
     "execution_count": 17,
     "metadata": {},
     "output_type": "execute_result"
    }
   ],
   "source": [
    "k_squared"
   ]
  },
  {
   "cell_type": "code",
   "execution_count": null,
   "id": "7c0dc405-11a8-418a-8438-43b74e2a7e30",
   "metadata": {},
   "outputs": [],
   "source": []
  },
  {
   "cell_type": "code",
   "execution_count": 18,
   "id": "bd964d7c-4905-464e-9c60-862b0cab8f64",
   "metadata": {},
   "outputs": [],
   "source": [
    "psi_region = [\n",
    "        Stepper( time_independent_schroedinger_equation( potential = ZeroPotential ) ), \n",
    "        Stepper( time_independent_schroedinger_equation( potential = Potential ) ), \n",
    "        Stepper( time_independent_schroedinger_equation( potential = ZeroPotential ) )\n",
    "    ]"
   ]
  },
  {
   "cell_type": "code",
   "execution_count": null,
   "id": "5c111045-3b70-4c55-9cbc-1e5d85f71eea",
   "metadata": {},
   "outputs": [],
   "source": []
  },
  {
   "cell_type": "code",
   "execution_count": 19,
   "id": "3f054b05-10a4-4704-9d49-01d3f6011169",
   "metadata": {},
   "outputs": [
    {
     "data": {
      "text/latex": [
       "$\\displaystyle - \\frac{\\hbar^{2} \\frac{d^{2}}{d x^{2}} \\psi{\\left(x \\right)}}{2 \\text{m}} = E \\psi{\\left(x \\right)}$"
      ],
      "text/plain": [
       "Eq(-hbar**2*Derivative(psi(x), (x, 2))/(2*m), E*psi(x))"
      ]
     },
     "execution_count": 19,
     "metadata": {},
     "output_type": "execute_result"
    }
   ],
   "source": [
    "psi_region[ 0 ].last_step()"
   ]
  },
  {
   "cell_type": "code",
   "execution_count": 20,
   "id": "dd839724-d545-46c9-ae76-332e3f5b4399",
   "metadata": {},
   "outputs": [
    {
     "data": {
      "text/latex": [
       "$\\displaystyle - E \\psi{\\left(x \\right)} - \\frac{\\hbar^{2} \\frac{d^{2}}{d x^{2}} \\psi{\\left(x \\right)}}{2 \\text{m}} = 0$"
      ],
      "text/plain": [
       "Eq(-E*psi(x) - hbar**2*Derivative(psi(x), (x, 2))/(2*m), 0)"
      ]
     },
     "execution_count": 20,
     "metadata": {},
     "output_type": "execute_result"
    }
   ],
   "source": [
    "psi_region[ 0 ].manipulate( lambda side : ( side - psi_region[ 0 ].last_step().rhs ).simplify() )"
   ]
  },
  {
   "cell_type": "code",
   "execution_count": 21,
   "id": "35f9c7f2-f8cc-40fc-a892-7086385dc1fe",
   "metadata": {},
   "outputs": [
    {
     "data": {
      "text/latex": [
       "$\\displaystyle \\psi{\\left(x \\right)} + \\frac{\\hbar^{2} \\frac{d^{2}}{d x^{2}} \\psi{\\left(x \\right)}}{2 E \\text{m}} = 0$"
      ],
      "text/plain": [
       "Eq(psi(x) + hbar**2*Derivative(psi(x), (x, 2))/(2*m*E), 0)"
      ]
     },
     "execution_count": 21,
     "metadata": {},
     "output_type": "execute_result"
    }
   ],
   "source": [
    "psi_region[ 0 ].manipulate( lambda side : -( side / total_energy ).simplify() )"
   ]
  },
  {
   "cell_type": "code",
   "execution_count": 22,
   "id": "92598874-1476-4de3-a0c2-983217a325a4",
   "metadata": {},
   "outputs": [
    {
     "data": {
      "text/latex": [
       "$\\displaystyle \\frac{\\hbar^{2} \\frac{d^{2}}{d x^{2}} \\psi{\\left(x \\right)}}{2 E \\text{m}} = - \\psi{\\left(x \\right)}$"
      ],
      "text/plain": [
       "Eq(hbar**2*Derivative(psi(x), (x, 2))/(2*m*E), -psi(x))"
      ]
     },
     "execution_count": 22,
     "metadata": {},
     "output_type": "execute_result"
    }
   ],
   "source": [
    "psi_region[ 0 ].manipulate( lambda side : side - psi( x ) )"
   ]
  },
  {
   "cell_type": "code",
   "execution_count": 23,
   "id": "5a42ee71-6557-44cb-8a17-dc7df5480b66",
   "metadata": {},
   "outputs": [
    {
     "data": {
      "text/latex": [
       "$\\displaystyle \\frac{d^{2}}{d x^{2}} \\psi{\\left(x \\right)} = - \\frac{2 E \\psi{\\left(x \\right)} \\text{m}}{\\hbar^{2}}$"
      ],
      "text/plain": [
       "Eq(Derivative(psi(x), (x, 2)), -2*m*E*psi(x)/hbar**2)"
      ]
     },
     "execution_count": 23,
     "metadata": {},
     "output_type": "execute_result"
    }
   ],
   "source": [
    "psi_region[ 0 ].manipulate( lambda side : side * k_squared.rhs )"
   ]
  },
  {
   "cell_type": "code",
   "execution_count": 24,
   "id": "e3df96fc-258d-446e-bc34-7f758ae0bff3",
   "metadata": {},
   "outputs": [
    {
     "data": {
      "text/latex": [
       "$\\displaystyle \\frac{\\frac{d^{2}}{d x^{2}} \\psi{\\left(x \\right)}}{\\psi{\\left(x \\right)}} = - \\frac{2 E \\text{m}}{\\hbar^{2}}$"
      ],
      "text/plain": [
       "Eq(Derivative(psi(x), (x, 2))/psi(x), -2*m*E/hbar**2)"
      ]
     },
     "execution_count": 24,
     "metadata": {},
     "output_type": "execute_result"
    }
   ],
   "source": [
    "psi_region[ 0 ].manipulate( lambda side : side / psi( x ) )"
   ]
  },
  {
   "cell_type": "code",
   "execution_count": null,
   "id": "8a6a0b6a-4446-4cba-a7c0-13329d1261b5",
   "metadata": {},
   "outputs": [],
   "source": []
  },
  {
   "cell_type": "code",
   "execution_count": 25,
   "id": "2d96a310-33a6-4d5c-a8e0-79585e1afffc",
   "metadata": {},
   "outputs": [
    {
     "data": {
      "text/latex": [
       "$\\displaystyle k^{2} = \\frac{2 E \\text{m}}{\\hbar^{2}}$"
      ],
      "text/plain": [
       "Eq(k**2, 2*m*E/hbar**2)"
      ]
     },
     "execution_count": 25,
     "metadata": {},
     "output_type": "execute_result"
    }
   ],
   "source": [
    "k_squared"
   ]
  },
  {
   "cell_type": "code",
   "execution_count": null,
   "id": "190e3b4b-2c27-42c5-a901-311a02ec8430",
   "metadata": {},
   "outputs": [],
   "source": []
  },
  {
   "cell_type": "code",
   "execution_count": 26,
   "id": "76aff0fa-030d-47bf-ba43-6d52020b4b3a",
   "metadata": {},
   "outputs": [
    {
     "data": {
      "text/latex": [
       "$\\displaystyle \\frac{\\frac{d^{2}}{d x^{2}} \\psi{\\left(x \\right)}}{\\psi{\\left(x \\right)}} = - k^{2}$"
      ],
      "text/plain": [
       "Eq(Derivative(psi(x), (x, 2))/psi(x), -k**2)"
      ]
     },
     "execution_count": 26,
     "metadata": {},
     "output_type": "execute_result"
    }
   ],
   "source": [
    "psi_region[ 0 ].substitute_constant( k_squared )"
   ]
  },
  {
   "cell_type": "code",
   "execution_count": 27,
   "id": "191178ae-40ff-4009-a503-ac2b52ed09f2",
   "metadata": {},
   "outputs": [
    {
     "data": {
      "text/latex": [
       "$\\displaystyle \\frac{d^{2}}{d x^{2}} \\psi{\\left(x \\right)} = - k^{2} \\psi{\\left(x \\right)}$"
      ],
      "text/plain": [
       "Eq(Derivative(psi(x), (x, 2)), -k**2*psi(x))"
      ]
     },
     "execution_count": 27,
     "metadata": {},
     "output_type": "execute_result"
    }
   ],
   "source": [
    "psi_region[ 0 ].manipulate( lambda side : side * psi( x ) )"
   ]
  },
  {
   "cell_type": "code",
   "execution_count": 28,
   "id": "d14f60c1-638f-46c9-996f-e4e663ad4c4a",
   "metadata": {},
   "outputs": [
    {
     "data": {
      "text/latex": [
       "$\\displaystyle k^{2} \\psi{\\left(x \\right)} + \\frac{d^{2}}{d x^{2}} \\psi{\\left(x \\right)} = 0$"
      ],
      "text/plain": [
       "Eq(k**2*psi(x) + Derivative(psi(x), (x, 2)), 0)"
      ]
     },
     "execution_count": 28,
     "metadata": {},
     "output_type": "execute_result"
    }
   ],
   "source": [
    "psi_region[ 0 ].negate_add( Stepper.RIGHT )"
   ]
  },
  {
   "cell_type": "code",
   "execution_count": null,
   "id": "7eabac16-5a84-4da1-9e8c-8832225da46c",
   "metadata": {},
   "outputs": [],
   "source": []
  },
  {
   "cell_type": "code",
   "execution_count": 29,
   "id": "a6fc27d2-77cc-429b-b6b5-c7c4347c3f22",
   "metadata": {},
   "outputs": [],
   "source": [
    "# For later\n",
    "\n",
    "psi_region[ 2 ] = psi_region[ 0 ].clone()"
   ]
  },
  {
   "cell_type": "code",
   "execution_count": 30,
   "id": "54ef06be-6b33-4c7a-80c1-17df971d6a83",
   "metadata": {},
   "outputs": [
    {
     "data": {
      "text/latex": [
       "$\\displaystyle k^{2} \\psi{\\left(x \\right)} + \\frac{d^{2}}{d x^{2}} \\psi{\\left(x \\right)} = 0$"
      ],
      "text/plain": [
       "Eq(k**2*psi(x) + Derivative(psi(x), (x, 2)), 0)"
      ]
     },
     "execution_count": 30,
     "metadata": {},
     "output_type": "execute_result"
    }
   ],
   "source": [
    "psi_region[ 2 ].last_step()"
   ]
  },
  {
   "cell_type": "code",
   "execution_count": 31,
   "id": "21c54cd6-1581-41c6-9901-28dff2cc93ab",
   "metadata": {},
   "outputs": [],
   "source": [
    "k_0 = sp.Symbol( \"k_0\" )"
   ]
  },
  {
   "cell_type": "code",
   "execution_count": 32,
   "id": "4a8a16dd-be5e-4767-993a-28eff750c228",
   "metadata": {},
   "outputs": [
    {
     "data": {
      "text/latex": [
       "$\\displaystyle k_{0}^{2} \\psi{\\left(x \\right)} + \\frac{d^{2}}{d x^{2}} \\psi{\\left(x \\right)} = 0$"
      ],
      "text/plain": [
       "Eq(k_0**2*psi(x) + Derivative(psi(x), (x, 2)), 0)"
      ]
     },
     "execution_count": 32,
     "metadata": {},
     "output_type": "execute_result"
    }
   ],
   "source": [
    "psi_region[ 0 ].rename( k, k_0 )"
   ]
  },
  {
   "cell_type": "code",
   "execution_count": null,
   "id": "25675bc6-e28f-4977-9fc7-758a0c5021c8",
   "metadata": {},
   "outputs": [],
   "source": []
  },
  {
   "cell_type": "code",
   "execution_count": 33,
   "id": "bbec0ee7-021c-47b0-b398-613e64297db1",
   "metadata": {},
   "outputs": [],
   "source": [
    "diff_sol = sp.solvers.ode.dsolve( psi_region[ 0 ].last_step().lhs, 0, ivar = x )\n",
    "#ics = { psi( 0 ): 0, psi( well_length ): 0 }"
   ]
  },
  {
   "cell_type": "code",
   "execution_count": 34,
   "id": "4d553082-2589-47eb-9d99-e9f11c847fa0",
   "metadata": {},
   "outputs": [
    {
     "data": {
      "text/latex": [
       "$\\displaystyle \\psi{\\left(x \\right)} = C_{1} e^{- i k_{0} x} + C_{2} e^{i k_{0} x}$"
      ],
      "text/plain": [
       "Eq(psi(x), C1*exp(-I*k_0*x) + C2*exp(I*k_0*x))"
      ]
     },
     "execution_count": 34,
     "metadata": {},
     "output_type": "execute_result"
    }
   ],
   "source": [
    "diff_sol"
   ]
  },
  {
   "cell_type": "code",
   "execution_count": 35,
   "id": "9779f921-7796-41cc-80f6-dab4d1161172",
   "metadata": {},
   "outputs": [
    {
     "data": {
      "text/latex": [
       "$\\displaystyle \\psi{\\left(x \\right)} = C_{1} e^{- i k_{0} x} + C_{2} e^{i k_{0} x}$"
      ],
      "text/plain": [
       "Eq(psi(x), C1*exp(-I*k_0*x) + C2*exp(I*k_0*x))"
      ]
     },
     "execution_count": 35,
     "metadata": {},
     "output_type": "execute_result"
    }
   ],
   "source": [
    "psi_region[ 0 ].add_step( diff_sol )"
   ]
  },
  {
   "cell_type": "code",
   "execution_count": 36,
   "id": "5bdf9dab-a025-489a-84e0-bfe2e21f6fc7",
   "metadata": {},
   "outputs": [
    {
     "data": {
      "text/latex": [
       "$\\displaystyle \\psi{\\left(x \\right)} = A e^{- i k_{0} x} + C_{2} e^{i k_{0} x}$"
      ],
      "text/plain": [
       "Eq(psi(x), A*exp(-I*k_0*x) + C2*exp(I*k_0*x))"
      ]
     },
     "execution_count": 36,
     "metadata": {},
     "output_type": "execute_result"
    }
   ],
   "source": [
    "C1 = sp.Symbol( \"C1\" )\n",
    "C2 = sp.Symbol( \"C2\" )\n",
    "constants = [ [ sp.Symbol( 'A' ), sp.Symbol( 'B' ) ] ]\n",
    "\n",
    "psi_region[ 0 ].rename( C1, constants[ 0 ][ 0 ] )"
   ]
  },
  {
   "cell_type": "code",
   "execution_count": 37,
   "id": "168d8b7a-9a81-45ab-8b5b-74915b036af4",
   "metadata": {},
   "outputs": [
    {
     "data": {
      "text/latex": [
       "$\\displaystyle \\psi{\\left(x \\right)} = A e^{- i k_{0} x} + B e^{i k_{0} x}$"
      ],
      "text/plain": [
       "Eq(psi(x), A*exp(-I*k_0*x) + B*exp(I*k_0*x))"
      ]
     },
     "execution_count": 37,
     "metadata": {},
     "output_type": "execute_result"
    }
   ],
   "source": [
    "psi_region[ 0 ].rename( C2, constants[ 0 ][ 1 ] )"
   ]
  },
  {
   "cell_type": "code",
   "execution_count": null,
   "id": "3bd7b87e-b0c9-4af9-94cc-d9b0a1b42e44",
   "metadata": {},
   "outputs": [],
   "source": []
  },
  {
   "cell_type": "code",
   "execution_count": 38,
   "id": "77574146-baae-4e35-a59f-8dce244318d5",
   "metadata": {},
   "outputs": [
    {
     "data": {
      "text/latex": [
       "$\\displaystyle V_{0} \\psi{\\left(x \\right)} - \\frac{\\hbar^{2} \\frac{d^{2}}{d x^{2}} \\psi{\\left(x \\right)}}{2 \\text{m}} = E \\psi{\\left(x \\right)}$"
      ],
      "text/plain": [
       "Eq(V_0*psi(x) - hbar**2*Derivative(psi(x), (x, 2))/(2*m), E*psi(x))"
      ]
     },
     "execution_count": 38,
     "metadata": {},
     "output_type": "execute_result"
    }
   ],
   "source": [
    "psi_region[ 1 ].last_step()"
   ]
  },
  {
   "cell_type": "code",
   "execution_count": null,
   "id": "7b36de3e-a644-4eb9-a039-76190d63fab9",
   "metadata": {},
   "outputs": [],
   "source": []
  },
  {
   "cell_type": "code",
   "execution_count": 39,
   "id": "d310940f-451e-41a5-b3df-d807bb708629",
   "metadata": {},
   "outputs": [
    {
     "data": {
      "text/latex": [
       "$\\displaystyle \\psi{\\left(x \\right)} = A e^{- i k_{0} x} + B e^{i k_{0} x}$"
      ],
      "text/plain": [
       "Eq(psi(x), A*exp(-I*k_0*x) + B*exp(I*k_0*x))"
      ]
     },
     "execution_count": 39,
     "metadata": {},
     "output_type": "execute_result"
    }
   ],
   "source": [
    "psi_region[ 0 ].last_step()"
   ]
  },
  {
   "cell_type": "code",
   "execution_count": null,
   "id": "20b9ac2f-eb43-45a4-8c8b-8efba67ed624",
   "metadata": {},
   "outputs": [],
   "source": []
  },
  {
   "cell_type": "code",
   "execution_count": 40,
   "id": "8c174cba-dd99-4882-b879-ad90bb93cd0a",
   "metadata": {},
   "outputs": [
    {
     "data": {
      "text/latex": [
       "$\\displaystyle - E \\psi{\\left(x \\right)} + V_{0} \\psi{\\left(x \\right)} - \\frac{\\hbar^{2} \\frac{d^{2}}{d x^{2}} \\psi{\\left(x \\right)}}{2 \\text{m}} = 0$"
      ],
      "text/plain": [
       "Eq(-E*psi(x) + V_0*psi(x) - hbar**2*Derivative(psi(x), (x, 2))/(2*m), 0)"
      ]
     },
     "execution_count": 40,
     "metadata": {},
     "output_type": "execute_result"
    }
   ],
   "source": [
    "psi_region[ 1 ].negate_add( Stepper.RIGHT )"
   ]
  },
  {
   "cell_type": "code",
   "execution_count": 41,
   "id": "0a8f8500-b062-4c2e-a440-d602933afa95",
   "metadata": {},
   "outputs": [
    {
     "data": {
      "text/latex": [
       "$\\displaystyle \\left(- E + V_{0}\\right) \\psi{\\left(x \\right)} - \\frac{\\hbar^{2} \\frac{d^{2}}{d x^{2}} \\psi{\\left(x \\right)}}{2 \\text{m}} = 0$"
      ],
      "text/plain": [
       "Eq((-E + V_0)*psi(x) - hbar**2*Derivative(psi(x), (x, 2))/(2*m), 0)"
      ]
     },
     "execution_count": 41,
     "metadata": {},
     "output_type": "execute_result"
    }
   ],
   "source": [
    "psi_region[ 1 ].manipulate( lambda side : side.collect( psi(x) ) )"
   ]
  },
  {
   "cell_type": "code",
   "execution_count": 42,
   "id": "8d2d62b8-992d-43b9-b4dd-56781edccb67",
   "metadata": {},
   "outputs": [
    {
     "data": {
      "text/latex": [
       "$\\displaystyle - \\frac{\\hbar^{2} \\frac{d^{2}}{d x^{2}} \\psi{\\left(x \\right)}}{2 \\text{m}}$"
      ],
      "text/plain": [
       "-hbar**2*Derivative(psi(x), (x, 2))/(2*m)"
      ]
     },
     "execution_count": 42,
     "metadata": {},
     "output_type": "execute_result"
    }
   ],
   "source": [
    "psi_region[ 1 ].last_step().lhs.as_two_terms()[ 1 ]"
   ]
  },
  {
   "cell_type": "code",
   "execution_count": null,
   "id": "8eb7cb3a-be03-4b9a-abcb-f39c4369e649",
   "metadata": {},
   "outputs": [],
   "source": []
  },
  {
   "cell_type": "code",
   "execution_count": 43,
   "id": "21f7379a-4077-4f3c-8f32-114754d73ba8",
   "metadata": {},
   "outputs": [
    {
     "data": {
      "text/latex": [
       "$\\displaystyle \\left(- E + V_{0}\\right) \\psi{\\left(x \\right)} = \\frac{\\hbar^{2} \\frac{d^{2}}{d x^{2}} \\psi{\\left(x \\right)}}{2 \\text{m}}$"
      ],
      "text/plain": [
       "Eq((-E + V_0)*psi(x), hbar**2*Derivative(psi(x), (x, 2))/(2*m))"
      ]
     },
     "execution_count": 43,
     "metadata": {},
     "output_type": "execute_result"
    }
   ],
   "source": [
    "region_1_clone = psi_region[ 1 ].clone()\n",
    "\n",
    "region_1_clone.manipulate( lambda side : side \n",
    "                - region_1_clone.last_step()\n",
    "                        .lhs.as_two_terms()[ 1 ]\n",
    "        )"
   ]
  },
  {
   "cell_type": "code",
   "execution_count": 44,
   "id": "8c71bb1c-3c1d-4c1a-a295-bd54ed1d4647",
   "metadata": {},
   "outputs": [
    {
     "data": {
      "text/latex": [
       "$\\displaystyle \\psi{\\left(x \\right)} = \\frac{\\hbar^{2} \\frac{d^{2}}{d x^{2}} \\psi{\\left(x \\right)}}{2 \\left(- E + V_{0}\\right) \\text{m}}$"
      ],
      "text/plain": [
       "Eq(psi(x), hbar**2*Derivative(psi(x), (x, 2))/(2*m*(-E + V_0)))"
      ]
     },
     "execution_count": 44,
     "metadata": {},
     "output_type": "execute_result"
    }
   ],
   "source": [
    "region_1_clone.manipulate( lambda side : side / region_1_clone.last_step().lhs.as_two_terms()[ 0 ] )"
   ]
  },
  {
   "cell_type": "code",
   "execution_count": 45,
   "id": "ba5ce71c-238c-49b8-988a-c0e93638263a",
   "metadata": {},
   "outputs": [
    {
     "data": {
      "text/latex": [
       "$\\displaystyle \\frac{2 \\left(- E + V_{0}\\right) \\psi{\\left(x \\right)} \\text{m}}{\\hbar^{2} \\frac{d^{2}}{d x^{2}} \\psi{\\left(x \\right)}} = 1$"
      ],
      "text/plain": [
       "Eq(2*m*(-E + V_0)*psi(x)/(hbar**2*Derivative(psi(x), (x, 2))), 1)"
      ]
     },
     "execution_count": 45,
     "metadata": {},
     "output_type": "execute_result"
    }
   ],
   "source": [
    "region_1_clone.manipulate( lambda side : side / region_1_clone.last_step().rhs )"
   ]
  },
  {
   "cell_type": "code",
   "execution_count": 46,
   "id": "1ae4ccac-98dc-4c2b-865a-c83db72e0524",
   "metadata": {},
   "outputs": [
    {
     "data": {
      "text/latex": [
       "$\\displaystyle \\frac{2 \\left(- E + V_{0}\\right) \\psi{\\left(x \\right)} \\text{m}}{\\hbar^{2}} = \\frac{d^{2}}{d x^{2}} \\psi{\\left(x \\right)}$"
      ],
      "text/plain": [
       "Eq(2*m*(-E + V_0)*psi(x)/hbar**2, Derivative(psi(x), (x, 2)))"
      ]
     },
     "execution_count": 46,
     "metadata": {},
     "output_type": "execute_result"
    }
   ],
   "source": [
    "region_1_clone.manipulate( lambda side : side * sp.Derivative( psi( x ), ( x, 2 ) ) )"
   ]
  },
  {
   "cell_type": "code",
   "execution_count": 47,
   "id": "61295c0c-5eea-4989-8e29-83a326d4a0b0",
   "metadata": {},
   "outputs": [
    {
     "data": {
      "text/latex": [
       "$\\displaystyle \\frac{2 \\left(- E + V_{0}\\right) \\text{m}}{\\hbar^{2}} = \\frac{\\frac{d^{2}}{d x^{2}} \\psi{\\left(x \\right)}}{\\psi{\\left(x \\right)}}$"
      ],
      "text/plain": [
       "Eq(2*m*(-E + V_0)/hbar**2, Derivative(psi(x), (x, 2))/psi(x))"
      ]
     },
     "execution_count": 47,
     "metadata": {},
     "output_type": "execute_result"
    }
   ],
   "source": [
    "region_1_clone.manipulate( lambda side : side / psi( x ) )"
   ]
  },
  {
   "cell_type": "code",
   "execution_count": 48,
   "id": "f85cefbc-6aab-4d22-a4ba-9a15864af5e2",
   "metadata": {},
   "outputs": [],
   "source": [
    "k_1 = sp.Symbol( \"k_1\" )\n",
    "k_1_squared = sp.Eq( k_1 ** 2, region_1_clone.last_step().lhs )"
   ]
  },
  {
   "cell_type": "code",
   "execution_count": 49,
   "id": "d90e733a-b882-432f-8198-297d91218799",
   "metadata": {},
   "outputs": [
    {
     "data": {
      "text/latex": [
       "$\\displaystyle k_{1}^{2} = \\frac{2 \\left(- E + V_{0}\\right) \\text{m}}{\\hbar^{2}}$"
      ],
      "text/plain": [
       "Eq(k_1**2, 2*m*(-E + V_0)/hbar**2)"
      ]
     },
     "execution_count": 49,
     "metadata": {},
     "output_type": "execute_result"
    }
   ],
   "source": [
    "k_1_squared"
   ]
  },
  {
   "cell_type": "code",
   "execution_count": 50,
   "id": "68c3791e-ce2b-44b8-a2b6-8c0dfdaa816f",
   "metadata": {},
   "outputs": [
    {
     "data": {
      "text/latex": [
       "$\\displaystyle k_{1}^{2} = \\frac{\\frac{d^{2}}{d x^{2}} \\psi{\\left(x \\right)}}{\\psi{\\left(x \\right)}}$"
      ],
      "text/plain": [
       "Eq(k_1**2, Derivative(psi(x), (x, 2))/psi(x))"
      ]
     },
     "execution_count": 50,
     "metadata": {},
     "output_type": "execute_result"
    }
   ],
   "source": [
    "region_1_clone.manipulate( lambda side : side.subs( { k_1_squared.rhs : k_1_squared.lhs } ) )"
   ]
  },
  {
   "cell_type": "code",
   "execution_count": 51,
   "id": "62f3fcfb-5967-4d94-a0f3-43ca38ad69be",
   "metadata": {},
   "outputs": [
    {
     "data": {
      "text/latex": [
       "$\\displaystyle k_{1}^{2} \\psi{\\left(x \\right)} = \\frac{d^{2}}{d x^{2}} \\psi{\\left(x \\right)}$"
      ],
      "text/plain": [
       "Eq(k_1**2*psi(x), Derivative(psi(x), (x, 2)))"
      ]
     },
     "execution_count": 51,
     "metadata": {},
     "output_type": "execute_result"
    }
   ],
   "source": [
    "region_1_clone.manipulate( lambda side : side * psi( x ) )"
   ]
  },
  {
   "cell_type": "code",
   "execution_count": 52,
   "id": "b0956a0a-0a73-4073-8dce-86ca5cd27424",
   "metadata": {},
   "outputs": [
    {
     "data": {
      "text/latex": [
       "$\\displaystyle k_{1}^{2} \\psi{\\left(x \\right)} - \\frac{d^{2}}{d x^{2}} \\psi{\\left(x \\right)} = 0$"
      ],
      "text/plain": [
       "Eq(k_1**2*psi(x) - Derivative(psi(x), (x, 2)), 0)"
      ]
     },
     "execution_count": 52,
     "metadata": {},
     "output_type": "execute_result"
    }
   ],
   "source": [
    "region_1_clone.negate_add( Stepper.RIGHT )"
   ]
  },
  {
   "cell_type": "code",
   "execution_count": 53,
   "id": "41d87909-2b2d-4dff-9879-20c5b426759d",
   "metadata": {},
   "outputs": [],
   "source": [
    "psi_region[ 1 ] = region_1_clone"
   ]
  },
  {
   "cell_type": "code",
   "execution_count": 54,
   "id": "bfbcab24-925d-44ea-a132-e6b5bdc282b7",
   "metadata": {},
   "outputs": [
    {
     "data": {
      "text/latex": [
       "$\\displaystyle k_{1}^{2} \\psi{\\left(x \\right)} - \\frac{d^{2}}{d x^{2}} \\psi{\\left(x \\right)} = 0$"
      ],
      "text/plain": [
       "Eq(k_1**2*psi(x) - Derivative(psi(x), (x, 2)), 0)"
      ]
     },
     "execution_count": 54,
     "metadata": {},
     "output_type": "execute_result"
    }
   ],
   "source": [
    "psi_region[ 1 ].last_step()"
   ]
  },
  {
   "cell_type": "code",
   "execution_count": null,
   "id": "43f237cf-c3f6-42aa-b522-76dca9bb12b5",
   "metadata": {},
   "outputs": [],
   "source": []
  },
  {
   "cell_type": "code",
   "execution_count": 55,
   "id": "2be14221-3e1e-4626-bba9-816573c922a1",
   "metadata": {},
   "outputs": [],
   "source": [
    "psi_1 = sp.Function( \"psi_1\" )"
   ]
  },
  {
   "cell_type": "code",
   "execution_count": 56,
   "id": "0e2d3f2e-aa17-4053-84e2-532eafc5b7df",
   "metadata": {},
   "outputs": [],
   "source": [
    "psi_2 = sp.Function( \"psi_2\" )"
   ]
  },
  {
   "cell_type": "code",
   "execution_count": 57,
   "id": "cdd9ead9-4e40-4baa-9d64-0f284b5792de",
   "metadata": {},
   "outputs": [
    {
     "data": {
      "text/latex": [
       "$\\displaystyle k_{1}^{2} \\psi_{1}{\\left(x \\right)} - \\frac{d^{2}}{d x^{2}} \\psi_{1}{\\left(x \\right)} = 0$"
      ],
      "text/plain": [
       "Eq(k_1**2*psi_1(x) - Derivative(psi_1(x), (x, 2)), 0)"
      ]
     },
     "execution_count": 57,
     "metadata": {},
     "output_type": "execute_result"
    }
   ],
   "source": [
    "psi_region[ 1 ].rename( psi( x ), psi_1( x ) )"
   ]
  },
  {
   "cell_type": "code",
   "execution_count": null,
   "id": "b4beefb1-c65d-47bc-ab9e-0148f2b5b487",
   "metadata": {},
   "outputs": [],
   "source": []
  },
  {
   "cell_type": "code",
   "execution_count": 58,
   "id": "f6d9b205-4138-4da5-8414-d0d41c0cc1e9",
   "metadata": {},
   "outputs": [
    {
     "data": {
      "text/latex": [
       "$\\displaystyle \\psi_{1}{\\left(x \\right)} = C_{1} e^{- k_{1} x} + C_{2} e^{k_{1} x}$"
      ],
      "text/plain": [
       "Eq(psi_1(x), C1*exp(-k_1*x) + C2*exp(k_1*x))"
      ]
     },
     "execution_count": 58,
     "metadata": {},
     "output_type": "execute_result"
    }
   ],
   "source": [
    "#JUST NOTICED THAT THE SOLUTION DOES NOT CONTAINER IMAGINARY NUMBERS? WHY?\n",
    "\n",
    "psi_region[ 1 ].add_step( sp.solvers.ode.dsolve( psi_region[ 1 ].last_step() ) )"
   ]
  },
  {
   "cell_type": "code",
   "execution_count": 59,
   "id": "35c1fc7e-e24a-40a4-b1fe-7146b4668d66",
   "metadata": {},
   "outputs": [],
   "source": [
    "constants.append( [ sp.Symbol( 'C' ), sp.Symbol( 'D' ) ] )"
   ]
  },
  {
   "cell_type": "code",
   "execution_count": 60,
   "id": "2ae675c1-3f60-4f2f-b4db-71ed8a6641aa",
   "metadata": {},
   "outputs": [
    {
     "data": {
      "text/latex": [
       "$\\displaystyle \\psi_{1}{\\left(x \\right)} = C e^{- k_{1} x} + C_{2} e^{k_{1} x}$"
      ],
      "text/plain": [
       "Eq(psi_1(x), C*exp(-k_1*x) + C2*exp(k_1*x))"
      ]
     },
     "execution_count": 60,
     "metadata": {},
     "output_type": "execute_result"
    }
   ],
   "source": [
    "psi_region[ 1 ].rename( C1, constants[ 1 ][ 0 ] )"
   ]
  },
  {
   "cell_type": "code",
   "execution_count": 61,
   "id": "54ab4ed0-e146-418a-a328-846287b256a7",
   "metadata": {},
   "outputs": [
    {
     "data": {
      "text/latex": [
       "$\\displaystyle \\psi_{1}{\\left(x \\right)} = C e^{- k_{1} x} + D e^{k_{1} x}$"
      ],
      "text/plain": [
       "Eq(psi_1(x), C*exp(-k_1*x) + D*exp(k_1*x))"
      ]
     },
     "execution_count": 61,
     "metadata": {},
     "output_type": "execute_result"
    }
   ],
   "source": [
    "psi_region[ 1 ].rename( C2, constants[ 1 ][ 1 ] )"
   ]
  },
  {
   "cell_type": "code",
   "execution_count": 62,
   "id": "2c075033-e455-404b-9f2a-64fb824cb700",
   "metadata": {},
   "outputs": [
    {
     "data": {
      "text/latex": [
       "$\\displaystyle k^{2} \\psi_{2}{\\left(x \\right)} + \\frac{d^{2}}{d x^{2}} \\psi_{2}{\\left(x \\right)} = 0$"
      ],
      "text/plain": [
       "Eq(k**2*psi_2(x) + Derivative(psi_2(x), (x, 2)), 0)"
      ]
     },
     "execution_count": 62,
     "metadata": {},
     "output_type": "execute_result"
    }
   ],
   "source": [
    "k_2 = sp.Symbol( \"k_2\" )\n",
    "psi_2_symbol = sp.Function( \"psi_2\" )\n",
    "\n",
    "psi_region[ 2 ].rename( psi( x ), psi_2_symbol( x ) )"
   ]
  },
  {
   "cell_type": "code",
   "execution_count": 63,
   "id": "80a5eede-5abf-4819-99a0-90d16e6446da",
   "metadata": {},
   "outputs": [
    {
     "data": {
      "text/latex": [
       "$\\displaystyle k_{2}^{2} \\psi_{2}{\\left(x \\right)} + \\frac{d^{2}}{d x^{2}} \\psi_{2}{\\left(x \\right)} = 0$"
      ],
      "text/plain": [
       "Eq(k_2**2*psi_2(x) + Derivative(psi_2(x), (x, 2)), 0)"
      ]
     },
     "execution_count": 63,
     "metadata": {},
     "output_type": "execute_result"
    }
   ],
   "source": [
    "psi_region[ 2 ].rename( k, k_2 )"
   ]
  },
  {
   "cell_type": "code",
   "execution_count": 64,
   "id": "76293d23-835b-4641-ba81-09ea37f118a9",
   "metadata": {},
   "outputs": [
    {
     "data": {
      "text/latex": [
       "$\\displaystyle \\psi_{2}{\\left(x \\right)} = C_{1} e^{- i k_{2} x} + C_{2} e^{i k_{2} x}$"
      ],
      "text/plain": [
       "Eq(psi_2(x), C1*exp(-I*k_2*x) + C2*exp(I*k_2*x))"
      ]
     },
     "execution_count": 64,
     "metadata": {},
     "output_type": "execute_result"
    }
   ],
   "source": [
    "psi_region[ 2 ].add_step( sp.solvers.ode.dsolve( psi_region[ 2 ].last_step() ) )"
   ]
  },
  {
   "cell_type": "code",
   "execution_count": 65,
   "id": "52ba7d2f-c0bc-4264-ac90-d05fcb413294",
   "metadata": {},
   "outputs": [
    {
     "data": {
      "text/latex": [
       "$\\displaystyle \\psi_{2}{\\left(x \\right)} = C_{1} e^{- i k_{2} x} + G e^{i k_{2} x}$"
      ],
      "text/plain": [
       "Eq(psi_2(x), C1*exp(-I*k_2*x) + G*exp(I*k_2*x))"
      ]
     },
     "execution_count": 65,
     "metadata": {},
     "output_type": "execute_result"
    }
   ],
   "source": [
    "constants.append( [ sp.Symbol( 'G' ) ] ) #Skipping a letter in the alphabet so there is no confusion with energy\n",
    "\n",
    "psi_region[ 2 ].rename( C2, constants[ 2 ][ 0 ] )"
   ]
  },
  {
   "cell_type": "code",
   "execution_count": 66,
   "id": "3c2a36cf-9568-4f30-95be-a30cd4b6ce74",
   "metadata": {},
   "outputs": [
    {
     "data": {
      "text/latex": [
       "$\\displaystyle \\psi_{2}{\\left(x \\right)} = G e^{i k_{2} x}$"
      ],
      "text/plain": [
       "Eq(psi_2(x), G*exp(I*k_2*x))"
      ]
     },
     "execution_count": 66,
     "metadata": {},
     "output_type": "execute_result"
    }
   ],
   "source": [
    "psi_region[ 2 ].rename( C1, 0 )"
   ]
  },
  {
   "cell_type": "code",
   "execution_count": 67,
   "id": "594452f0-91a0-4dab-ae7d-a2114ff2da91",
   "metadata": {},
   "outputs": [],
   "source": [
    "#diff_sol = sp.solvers.ode.dsolve( psi_region[ 1 ].last_step().lhs, 0, ivar = x, \n",
    "#        ics = { \n",
    "#                psi_1( 0 ) : psi( 0 ), \n",
    "#                psi_1( barrier_length ) : psi_2( barrier_length ), \n",
    "#                psi_1( x ).diff( x, 1 ).subs( x, 0 ) : psi( x ).diff( x, 1 ).subs( x, 0 ), \n",
    "#                psi_1( x ).diff( x, 1 ).subs( x, barrier_length ) : psi_2( x ).diff( x, 1 ).subs( x, barrier_length )\n",
    "#        }\n",
    "#    )"
   ]
  },
  {
   "cell_type": "code",
   "execution_count": 68,
   "id": "f3273b76-6e58-4da3-9d2c-697449fab79c",
   "metadata": {},
   "outputs": [],
   "source": [
    "flat_constants = []\n",
    "for constant_set in constants: \n",
    "    flat_constants += constant_set\n",
    "\n",
    "normalize = lambda expression, from_, to : sp.Eq( sp.integrate( expression * sp.conjugate( expression ), ( x, from_, to ) ), 1, evaluate = False )\n",
    "\n",
    "constants_helpers = sp.solve( \n",
    "        [ equation.last_step() for equation in psi_region ], \n",
    "        flat_constants\n",
    "    )"
   ]
  },
  {
   "cell_type": "code",
   "execution_count": null,
   "id": "404a047c-b17c-4e32-910b-acf46a525967",
   "metadata": {},
   "outputs": [],
   "source": []
  },
  {
   "cell_type": "code",
   "execution_count": 585,
   "id": "2341c484-3772-4dce-b6c5-01bdeb478ec1",
   "metadata": {},
   "outputs": [
    {
     "data": {
      "text/plain": [
       "'\\\\int\\\\limits_{0}^{L} G \\\\overline{G}\\\\, dx = 1'"
      ]
     },
     "execution_count": 585,
     "metadata": {},
     "output_type": "execute_result"
    }
   ],
   "source": [
    "sp.latex( sp.Eq( sp.Integral( G * sp.conjugate( G ), ( x, 0, TunnelPotential.DEFAULT_WELL_LENGTH ) ), 1 ) )"
   ]
  },
  {
   "cell_type": "code",
   "execution_count": null,
   "id": "3aac8e97-be2a-433b-84dd-426768371265",
   "metadata": {},
   "outputs": [],
   "source": []
  },
  {
   "cell_type": "code",
   "execution_count": 69,
   "id": "fae3f387-449e-43e3-bd5c-70bc599e547b",
   "metadata": {},
   "outputs": [],
   "source": [
    "region = []\n",
    "region.append( Stepper( sp.Eq( psi_region[ 2 ].last_step().rhs, psi_region[ 1 ].last_step().rhs ) ) )"
   ]
  },
  {
   "cell_type": "code",
   "execution_count": 70,
   "id": "d73f4aa7-2496-4af1-86f1-db6e365946a8",
   "metadata": {},
   "outputs": [
    {
     "data": {
      "text/latex": [
       "$\\displaystyle G e^{i L k_{2}} = C e^{- L k_{1}} + D e^{L k_{1}}$"
      ],
      "text/plain": [
       "Eq(G*exp(I*L*k_2), C*exp(-L*k_1) + D*exp(L*k_1))"
      ]
     },
     "execution_count": 70,
     "metadata": {},
     "output_type": "execute_result"
    }
   ],
   "source": [
    "region[ 0 ].rename( x, TunnelPotential.DEFAULT_WELL_LENGTH )"
   ]
  },
  {
   "cell_type": "code",
   "execution_count": 71,
   "id": "53b03143-409d-4ea4-b8d1-0a20807e3c50",
   "metadata": {},
   "outputs": [],
   "source": [
    "region.append( Stepper( sp.Eq( psi_region[ 0 ].last_step().rhs, psi_region[ 1 ].last_step().rhs ) ) )"
   ]
  },
  {
   "cell_type": "code",
   "execution_count": 72,
   "id": "ab73c222-3543-42e0-900e-dfe508429109",
   "metadata": {},
   "outputs": [
    {
     "data": {
      "text/latex": [
       "$\\displaystyle A + B = C + D$"
      ],
      "text/plain": [
       "Eq(A + B, C + D)"
      ]
     },
     "execution_count": 72,
     "metadata": {},
     "output_type": "execute_result"
    }
   ],
   "source": [
    "region[ 1 ].rename( x, 0 )"
   ]
  },
  {
   "cell_type": "code",
   "execution_count": 73,
   "id": "dccff7c2-7471-4e19-ad8d-baafefd876ea",
   "metadata": {},
   "outputs": [],
   "source": [
    "region.append( Stepper( sp.Eq( sp.diff( psi_region[ 0 ].last_step().rhs, x ), sp.diff( psi_region[ 1 ].last_step().rhs, x ) ) ) )"
   ]
  },
  {
   "cell_type": "code",
   "execution_count": 74,
   "id": "cef9849b-cba7-4365-94f4-3cfaea9cc8d7",
   "metadata": {},
   "outputs": [
    {
     "data": {
      "text/latex": [
       "$\\displaystyle - i A k_{0} + i B k_{0} = - C k_{1} + D k_{1}$"
      ],
      "text/plain": [
       "Eq(-I*A*k_0 + I*B*k_0, -C*k_1 + D*k_1)"
      ]
     },
     "execution_count": 74,
     "metadata": {},
     "output_type": "execute_result"
    }
   ],
   "source": [
    "region[ 2 ].rename( x, 0 )"
   ]
  },
  {
   "cell_type": "code",
   "execution_count": 75,
   "id": "083c003a-61ef-4565-9b8f-77686e478c99",
   "metadata": {},
   "outputs": [],
   "source": [
    "region.append( Stepper( sp.Eq( sp.diff( psi_region[ 2 ].last_step().rhs, x ), sp.diff( psi_region[ 1 ].last_step().rhs, x ) ) ) )"
   ]
  },
  {
   "cell_type": "code",
   "execution_count": 76,
   "id": "04d2cdc0-1603-4d64-b967-1f785f57d92d",
   "metadata": {},
   "outputs": [
    {
     "data": {
      "text/latex": [
       "$\\displaystyle i G k_{2} e^{i L k_{2}} = - C k_{1} e^{- L k_{1}} + D k_{1} e^{L k_{1}}$"
      ],
      "text/plain": [
       "Eq(I*G*k_2*exp(I*L*k_2), -C*k_1*exp(-L*k_1) + D*k_1*exp(L*k_1))"
      ]
     },
     "execution_count": 76,
     "metadata": {},
     "output_type": "execute_result"
    }
   ],
   "source": [
    "region[ 3 ].rename( x, TunnelPotential.DEFAULT_WELL_LENGTH )"
   ]
  },
  {
   "cell_type": "code",
   "execution_count": 77,
   "id": "64539bfa-a527-4927-a7f3-5e9d69501a47",
   "metadata": {},
   "outputs": [],
   "source": [
    "constants_system = [ equation.last_step() for equation in region ]"
   ]
  },
  {
   "cell_type": "code",
   "execution_count": 78,
   "id": "09d6d8c0-6338-406b-9fd2-fe7ec9182809",
   "metadata": {},
   "outputs": [
    {
     "data": {
      "text/plain": [
       "[Eq(G*exp(I*L*k_2), C*exp(-L*k_1) + D*exp(L*k_1)),\n",
       " Eq(A + B, C + D),\n",
       " Eq(-I*A*k_0 + I*B*k_0, -C*k_1 + D*k_1),\n",
       " Eq(I*G*k_2*exp(I*L*k_2), -C*k_1*exp(-L*k_1) + D*k_1*exp(L*k_1))]"
      ]
     },
     "execution_count": 78,
     "metadata": {},
     "output_type": "execute_result"
    }
   ],
   "source": [
    "constants_system"
   ]
  },
  {
   "cell_type": "code",
   "execution_count": 79,
   "id": "fe7f5186-408d-4c2c-bf97-6e6a030131a7",
   "metadata": {},
   "outputs": [],
   "source": [
    "constants_solutions = sp.solve( constants_system )"
   ]
  },
  {
   "cell_type": "code",
   "execution_count": 80,
   "id": "35e9c491-db27-478f-a03d-a80ed2e0dc40",
   "metadata": {},
   "outputs": [
    {
     "data": {
      "text/plain": [
       "{A: G*(k_0*(k_1 + I*k_2 + (k_1 - I*k_2)*exp(2*L*k_1)) + I*k_1*(k_1 + I*k_2 + (-k_1 + I*k_2)*exp(2*L*k_1)))*exp(-L*(k_1 - I*k_2))/(4*k_0*k_1),\n",
       " B: G*(k_0*(k_1 + I*k_2 + (k_1 - I*k_2)*exp(2*L*k_1)) + I*k_1*(-k_1 - I*k_2 + (k_1 - I*k_2)*exp(2*L*k_1)))*exp(-L*(k_1 - I*k_2))/(4*k_0*k_1),\n",
       " C: G*(k_1 - I*k_2)*exp(L*(k_1 + I*k_2))/(2*k_1),\n",
       " D: G*(k_1 + I*k_2)*exp(-L*(k_1 - I*k_2))/(2*k_1)}"
      ]
     },
     "execution_count": 80,
     "metadata": {},
     "output_type": "execute_result"
    }
   ],
   "source": [
    "constants_solutions = constants_solutions[ 0 ]\n",
    "constants_solutions"
   ]
  },
  {
   "cell_type": "code",
   "execution_count": 575,
   "id": "aa5383e7-73d0-4c14-9d99-4b633c265aaf",
   "metadata": {},
   "outputs": [
    {
     "data": {
      "text/latex": [
       "$\\displaystyle \\frac{G \\left(k_{1} + i k_{2}\\right) e^{- L \\left(k_{1} - i k_{2}\\right)}}{2 k_{1}}$"
      ],
      "text/plain": [
       "G*(k_1 + I*k_2)*exp(-L*(k_1 - I*k_2))/(2*k_1)"
      ]
     },
     "execution_count": 588,
     "metadata": {},
     "output_type": "execute_result"
    }
   ],
   "source": [
    "sp.latex( constants_solutions[ D ] )"
   ]
  },
  {
   "cell_type": "code",
   "execution_count": null,
   "id": "f9684ab0-3d5c-4dfe-a016-f07ec34fd18a",
   "metadata": {},
   "outputs": [],
   "source": []
  },
  {
   "cell_type": "code",
   "execution_count": 376,
   "id": "aef914ed-8abd-4701-b9e9-e36938455338",
   "metadata": {},
   "outputs": [
    {
     "data": {
      "text/latex": [
       "$\\displaystyle \\frac{G \\left(k_{0} \\left(k_{1} + i k_{2} + \\left(k_{1} - i k_{2}\\right) e^{2 L k_{1}}\\right) + i k_{1} \\left(k_{1} + i k_{2} + \\left(- k_{1} + i k_{2}\\right) e^{2 L k_{1}}\\right)\\right) e^{- L \\left(k_{1} - i k_{2}\\right)}}{4 k_{0} k_{1}}$"
      ],
      "text/plain": [
       "G*(k_0*(k_1 + I*k_2 + (k_1 - I*k_2)*exp(2*L*k_1)) + I*k_1*(k_1 + I*k_2 + (-k_1 + I*k_2)*exp(2*L*k_1)))*exp(-L*(k_1 - I*k_2))/(4*k_0*k_1)"
      ]
     },
     "execution_count": 376,
     "metadata": {},
     "output_type": "execute_result"
    }
   ],
   "source": [
    "constants_solutions[ A ]"
   ]
  },
  {
   "cell_type": "code",
   "execution_count": 81,
   "id": "0265297f-8c9f-4ce0-bb3c-3a322d4ec161",
   "metadata": {},
   "outputs": [],
   "source": [
    "#solve_g = region[ 3 ].clone()\n",
    "#solve_g.rename( constants[ 1 ][ 0 ], constants_solutions[ constants[ 1 ][ 0 ] ] )\n",
    "#solve_g.rename( constants[ 1 ][ 1 ], constants_solutions[ constants[ 1 ][ 1 ] ] )\n",
    "#solve_g.manipulate( lambda side : side * 2 )\n",
    "#solve_g.manipulate( lambda side : side / sp.exp( sp.I * TunnelPotential.DEFAULT_WELL_LENGTH * k_2 ) )\n",
    "#solve_g.add_step( sp.Eq( solve_g.last_step().lhs, solve_g.last_step().rhs.collect( sp.Symbol( 'G' ) ) ) )\n",
    "#solve_g.negate_add( Stepper.RIGHT )\n",
    "#solve_g.add_step( sp.Eq( solve_g.last_step().lhs.collect( sp.Symbol( 'G' ) ), solve_g.last_step().rhs ) )"
   ]
  },
  {
   "cell_type": "code",
   "execution_count": 82,
   "id": "f325fa34-06ff-43e2-a005-3a41806817e7",
   "metadata": {},
   "outputs": [],
   "source": [
    "G = sp.Symbol( 'G', real = True )"
   ]
  },
  {
   "cell_type": "code",
   "execution_count": null,
   "id": "df0946a1-2b49-46ac-8d1a-e71f2c0dffd8",
   "metadata": {},
   "outputs": [],
   "source": []
  },
  {
   "cell_type": "code",
   "execution_count": 576,
   "id": "c287d269-c358-4ee9-b0de-1d76b3e3fa5a",
   "metadata": {},
   "outputs": [
    {
     "data": {
      "text/latex": [
       "$\\displaystyle G L \\overline{G} = 1$"
      ],
      "text/plain": [
       "Eq(G*L*conjugate(G), 1)"
      ]
     },
     "execution_count": 576,
     "metadata": {},
     "output_type": "execute_result"
    }
   ],
   "source": [
    "normalize( G, 0, TunnelPotential.DEFAULT_WELL_LENGTH )"
   ]
  },
  {
   "cell_type": "code",
   "execution_count": null,
   "id": "046cd7ba-39ad-441a-9942-3d913ae6dfcc",
   "metadata": {},
   "outputs": [],
   "source": [
    "g_normalized = Stepper( normalize( psi_region[ 2 ].last_step().rhs, 0, TunnelPotential.DEFAULT_WELL_LENGTH ) )"
   ]
  },
  {
   "cell_type": "code",
   "execution_count": null,
   "id": "bd18496f-7bcb-49e6-8c98-80adce5ee9a0",
   "metadata": {},
   "outputs": [
    {
     "data": {
      "text/latex": [
       "$\\displaystyle \\frac{i \\sqrt{- \\frac{i \\left(- k_{2} + \\overline{k_{2}}\\right) e^{i L \\overline{k_{2}}}}{e^{i L k_{2}} - e^{i L \\overline{k_{2}}}}} e^{i L k_{2}} \\overline{\\sqrt{- \\frac{i \\left(- k_{2} + \\overline{k_{2}}\\right) e^{i L \\overline{k_{2}}}}{e^{i L k_{2}} - e^{i L \\overline{k_{2}}}}}}}{- k_{2} e^{i L \\overline{k_{2}}} + e^{i L \\overline{k_{2}}} \\overline{k_{2}}} - \\frac{i \\sqrt{- \\frac{i \\left(- k_{2} + \\overline{k_{2}}\\right) e^{i L \\overline{k_{2}}}}{e^{i L k_{2}} - e^{i L \\overline{k_{2}}}}} \\overline{\\sqrt{- \\frac{i \\left(- k_{2} + \\overline{k_{2}}\\right) e^{i L \\overline{k_{2}}}}{e^{i L k_{2}} - e^{i L \\overline{k_{2}}}}}}}{- k_{2} + \\overline{k_{2}}} = 1$"
      ],
      "text/plain": [
       "Eq(I*sqrt(-I*(-k_2 + conjugate(k_2))*exp(I*L*conjugate(k_2))/(exp(I*L*k_2) - exp(I*L*conjugate(k_2))))*exp(I*L*k_2)*conjugate(sqrt(-I*(-k_2 + conjugate(k_2))*exp(I*L*conjugate(k_2))/(exp(I*L*k_2) - exp(I*L*conjugate(k_2)))))/(-k_2*exp(I*L*conjugate(k_2)) + exp(I*L*conjugate(k_2))*conjugate(k_2)) - I*sqrt(-I*(-k_2 + conjugate(k_2))*exp(I*L*conjugate(k_2))/(exp(I*L*k_2) - exp(I*L*conjugate(k_2))))*conjugate(sqrt(-I*(-k_2 + conjugate(k_2))*exp(I*L*conjugate(k_2))/(exp(I*L*k_2) - exp(I*L*conjugate(k_2)))))/(-k_2 + conjugate(k_2)), 1)"
      ]
     },
     "execution_count": 593,
     "metadata": {},
     "output_type": "execute_result"
    }
   ],
   "source": [
    "g_normalized.last_step()"
   ]
  },
  {
   "cell_type": "code",
   "execution_count": null,
   "id": "6347e1b0-c8c2-4f46-a597-f9a9cfefbade",
   "metadata": {},
   "outputs": [],
   "source": []
  },
  {
   "cell_type": "code",
   "execution_count": null,
   "id": "867dc550-e57e-497d-b3d3-74de4fac1df3",
   "metadata": {},
   "outputs": [
    {
     "data": {
      "text/latex": [
       "$\\displaystyle \\frac{i \\sqrt{- \\frac{i \\left(- k_{2} + \\overline{k_{2}}\\right) e^{i L \\overline{k_{2}}}}{e^{i L k_{2}} - e^{i L \\overline{k_{2}}}}} \\left(e^{i L k_{2}} - e^{i L \\overline{k_{2}}}\\right) e^{- i L \\overline{k_{2}}} \\overline{\\sqrt{- \\frac{i \\left(- k_{2} + \\overline{k_{2}}\\right) e^{i L \\overline{k_{2}}}}{e^{i L k_{2}} - e^{i L \\overline{k_{2}}}}}}}{- k_{2} + \\overline{k_{2}}} = 1$"
      ],
      "text/plain": [
       "Eq(I*sqrt(-I*(-k_2 + conjugate(k_2))*exp(I*L*conjugate(k_2))/(exp(I*L*k_2) - exp(I*L*conjugate(k_2))))*(exp(I*L*k_2) - exp(I*L*conjugate(k_2)))*exp(-I*L*conjugate(k_2))*conjugate(sqrt(-I*(-k_2 + conjugate(k_2))*exp(I*L*conjugate(k_2))/(exp(I*L*k_2) - exp(I*L*conjugate(k_2)))))/(-k_2 + conjugate(k_2)), 1)"
      ]
     },
     "execution_count": 594,
     "metadata": {},
     "output_type": "execute_result"
    }
   ],
   "source": [
    "g_normalized.add_step( sp.Eq( g_normalized.last_step().lhs.together(), 1 ) )"
   ]
  },
  {
   "cell_type": "code",
   "execution_count": null,
   "id": "f9391db3-670a-4849-9c95-bffcda683652",
   "metadata": {},
   "outputs": [],
   "source": [
    "numerator, denomonator = g_normalized.last_step().lhs.as_numer_denom()"
   ]
  },
  {
   "cell_type": "code",
   "execution_count": null,
   "id": "d18d9c44-1534-494a-b945-4fdb00a93eb7",
   "metadata": {},
   "outputs": [
    {
     "data": {
      "text/latex": [
       "$\\displaystyle i \\sqrt{- \\frac{i \\left(- k_{2} + \\overline{k_{2}}\\right) e^{i L \\overline{k_{2}}}}{e^{i L k_{2}} - e^{i L \\overline{k_{2}}}}} \\left(e^{i L k_{2}} - e^{i L \\overline{k_{2}}}\\right) \\overline{\\sqrt{- \\frac{i \\left(- k_{2} + \\overline{k_{2}}\\right) e^{i L \\overline{k_{2}}}}{e^{i L k_{2}} - e^{i L \\overline{k_{2}}}}}}$"
      ],
      "text/plain": [
       "I*sqrt(-I*(-k_2 + conjugate(k_2))*exp(I*L*conjugate(k_2))/(exp(I*L*k_2) - exp(I*L*conjugate(k_2))))*(exp(I*L*k_2) - exp(I*L*conjugate(k_2)))*conjugate(sqrt(-I*(-k_2 + conjugate(k_2))*exp(I*L*conjugate(k_2))/(exp(I*L*k_2) - exp(I*L*conjugate(k_2)))))"
      ]
     },
     "execution_count": 596,
     "metadata": {},
     "output_type": "execute_result"
    }
   ],
   "source": [
    "numerator"
   ]
  },
  {
   "cell_type": "code",
   "execution_count": null,
   "id": "5993d2bb-62c6-44ec-ab79-309e4f32ed3b",
   "metadata": {},
   "outputs": [
    {
     "data": {
      "text/latex": [
       "$\\displaystyle \\left(- k_{2} + \\overline{k_{2}}\\right) e^{i L \\overline{k_{2}}}$"
      ],
      "text/plain": [
       "(-k_2 + conjugate(k_2))*exp(I*L*conjugate(k_2))"
      ]
     },
     "execution_count": 597,
     "metadata": {},
     "output_type": "execute_result"
    }
   ],
   "source": [
    "denomonator"
   ]
  },
  {
   "cell_type": "code",
   "execution_count": null,
   "id": "4d06a15c-fc34-40ad-9f5b-2b462890d987",
   "metadata": {},
   "outputs": [
    {
     "data": {
      "text/latex": [
       "$\\displaystyle i \\sqrt{- \\frac{i \\left(- k_{2} + \\overline{k_{2}}\\right) e^{i L \\overline{k_{2}}}}{e^{i L k_{2}} - e^{i L \\overline{k_{2}}}}} \\left(e^{i L k_{2}} - e^{i L \\overline{k_{2}}}\\right) \\overline{\\sqrt{- \\frac{i \\left(- k_{2} + \\overline{k_{2}}\\right) e^{i L \\overline{k_{2}}}}{e^{i L k_{2}} - e^{i L \\overline{k_{2}}}}}} = \\left(- k_{2} + \\overline{k_{2}}\\right) e^{i L \\overline{k_{2}}}$"
      ],
      "text/plain": [
       "Eq(I*sqrt(-I*(-k_2 + conjugate(k_2))*exp(I*L*conjugate(k_2))/(exp(I*L*k_2) - exp(I*L*conjugate(k_2))))*(exp(I*L*k_2) - exp(I*L*conjugate(k_2)))*conjugate(sqrt(-I*(-k_2 + conjugate(k_2))*exp(I*L*conjugate(k_2))/(exp(I*L*k_2) - exp(I*L*conjugate(k_2))))), (-k_2 + conjugate(k_2))*exp(I*L*conjugate(k_2)))"
      ]
     },
     "execution_count": 598,
     "metadata": {},
     "output_type": "execute_result"
    }
   ],
   "source": [
    "g_normalized.manipulate( lambda side : side * denomonator )"
   ]
  },
  {
   "cell_type": "code",
   "execution_count": null,
   "id": "978ad16e-08d1-4559-9113-7c962cf8f6fa",
   "metadata": {},
   "outputs": [],
   "source": [
    "div_out = numerator.as_two_terms()[ 1 ].as_two_terms()[ 1 ].as_two_terms()[ 0 ]"
   ]
  },
  {
   "cell_type": "code",
   "execution_count": null,
   "id": "5a3041ca-5827-43f1-b07f-4fb367037d82",
   "metadata": {},
   "outputs": [
    {
     "data": {
      "text/latex": [
       "$\\displaystyle e^{i L k_{2}} - e^{i L \\overline{k_{2}}}$"
      ],
      "text/plain": [
       "exp(I*L*k_2) - exp(I*L*conjugate(k_2))"
      ]
     },
     "execution_count": 600,
     "metadata": {},
     "output_type": "execute_result"
    }
   ],
   "source": [
    "div_out"
   ]
  },
  {
   "cell_type": "code",
   "execution_count": null,
   "id": "c224a991-f1ab-4e0e-9c07-603e3bbacdeb",
   "metadata": {},
   "outputs": [
    {
     "data": {
      "text/latex": [
       "$\\displaystyle i \\sqrt{- \\frac{i \\left(- k_{2} + \\overline{k_{2}}\\right) e^{i L \\overline{k_{2}}}}{e^{i L k_{2}} - e^{i L \\overline{k_{2}}}}} \\overline{\\sqrt{- \\frac{i \\left(- k_{2} + \\overline{k_{2}}\\right) e^{i L \\overline{k_{2}}}}{e^{i L k_{2}} - e^{i L \\overline{k_{2}}}}}} = \\frac{\\left(- k_{2} + \\overline{k_{2}}\\right) e^{i L \\overline{k_{2}}}}{e^{i L k_{2}} - e^{i L \\overline{k_{2}}}}$"
      ],
      "text/plain": [
       "Eq(I*sqrt(-I*(-k_2 + conjugate(k_2))*exp(I*L*conjugate(k_2))/(exp(I*L*k_2) - exp(I*L*conjugate(k_2))))*conjugate(sqrt(-I*(-k_2 + conjugate(k_2))*exp(I*L*conjugate(k_2))/(exp(I*L*k_2) - exp(I*L*conjugate(k_2))))), (-k_2 + conjugate(k_2))*exp(I*L*conjugate(k_2))/(exp(I*L*k_2) - exp(I*L*conjugate(k_2))))"
      ]
     },
     "execution_count": 601,
     "metadata": {},
     "output_type": "execute_result"
    }
   ],
   "source": [
    "g_normalized.manipulate( lambda side : side / div_out )"
   ]
  },
  {
   "cell_type": "code",
   "execution_count": 93,
   "id": "da3a1468-bacd-4cd5-87c2-47c741573ada",
   "metadata": {},
   "outputs": [],
   "source": [
    "real_imag = g_normalized.last_step().lhs.as_real_imag()"
   ]
  },
  {
   "cell_type": "code",
   "execution_count": 94,
   "id": "823dac9e-d5e4-40e9-b3e2-0e8084502e83",
   "metadata": {},
   "outputs": [
    {
     "data": {
      "text/plain": [
       "(0, Abs(G)**2)"
      ]
     },
     "execution_count": 94,
     "metadata": {},
     "output_type": "execute_result"
    }
   ],
   "source": [
    "real_imag"
   ]
  },
  {
   "cell_type": "code",
   "execution_count": 95,
   "id": "c7f770f1-02a2-44c3-9836-7a98044709ff",
   "metadata": {},
   "outputs": [],
   "source": [
    "to_replace = g_normalized.last_step().lhs / sp.I"
   ]
  },
  {
   "cell_type": "code",
   "execution_count": 96,
   "id": "29f7b853-31b7-4905-bfab-e47e5628505b",
   "metadata": {},
   "outputs": [
    {
     "data": {
      "text/latex": [
       "$\\displaystyle G \\overline{G}$"
      ],
      "text/plain": [
       "G*conjugate(G)"
      ]
     },
     "execution_count": 96,
     "metadata": {},
     "output_type": "execute_result"
    }
   ],
   "source": [
    "to_replace"
   ]
  },
  {
   "cell_type": "code",
   "execution_count": 97,
   "id": "5fe008ca-b161-4ac5-adda-532b245ee56b",
   "metadata": {},
   "outputs": [
    {
     "data": {
      "text/latex": [
       "$\\displaystyle i \\left|{G}\\right|^{2} = \\frac{\\left(- k_{2} + \\overline{k_{2}}\\right) e^{i L \\overline{k_{2}}}}{e^{i L k_{2}} - e^{i L \\overline{k_{2}}}}$"
      ],
      "text/plain": [
       "Eq(I*Abs(G)**2, (-k_2 + conjugate(k_2))*exp(I*L*conjugate(k_2))/(exp(I*L*k_2) - exp(I*L*conjugate(k_2))))"
      ]
     },
     "execution_count": 97,
     "metadata": {},
     "output_type": "execute_result"
    }
   ],
   "source": [
    "g_normalized.add_step( g_normalized.last_step().subs( { to_replace : real_imag[ 1 ] } ) )"
   ]
  },
  {
   "cell_type": "code",
   "execution_count": 98,
   "id": "276480bc-5207-456b-b285-408923be3b60",
   "metadata": {},
   "outputs": [
    {
     "data": {
      "text/latex": [
       "$\\displaystyle \\left|{G}\\right|^{2} = - \\frac{i \\left(- k_{2} + \\overline{k_{2}}\\right) e^{i L \\overline{k_{2}}}}{e^{i L k_{2}} - e^{i L \\overline{k_{2}}}}$"
      ],
      "text/plain": [
       "Eq(Abs(G)**2, -I*(-k_2 + conjugate(k_2))*exp(I*L*conjugate(k_2))/(exp(I*L*k_2) - exp(I*L*conjugate(k_2))))"
      ]
     },
     "execution_count": 98,
     "metadata": {},
     "output_type": "execute_result"
    }
   ],
   "source": [
    "g_normalized.manipulate( lambda side : side / sp.I )"
   ]
  },
  {
   "cell_type": "code",
   "execution_count": 99,
   "id": "0c92ad33-a8d1-4d37-ae55-74eaf8981f22",
   "metadata": {},
   "outputs": [
    {
     "data": {
      "text/latex": [
       "$\\displaystyle \\left|{G}\\right| = \\sqrt{- \\frac{i \\left(- k_{2} + \\overline{k_{2}}\\right) e^{i L \\overline{k_{2}}}}{e^{i L k_{2}} - e^{i L \\overline{k_{2}}}}}$"
      ],
      "text/plain": [
       "Eq(Abs(G), sqrt(-I*(-k_2 + conjugate(k_2))*exp(I*L*conjugate(k_2))/(exp(I*L*k_2) - exp(I*L*conjugate(k_2)))))"
      ]
     },
     "execution_count": 99,
     "metadata": {},
     "output_type": "execute_result"
    }
   ],
   "source": [
    "g_normalized.manipulate( lambda side : sp.sqrt( side ) )"
   ]
  },
  {
   "cell_type": "code",
   "execution_count": null,
   "id": "0f3020c1-5446-420e-acf8-db275df0fcf6",
   "metadata": {},
   "outputs": [],
   "source": []
  },
  {
   "cell_type": "code",
   "execution_count": 100,
   "id": "da682f9a-6db7-4acf-9fcd-1b4e7aaf00d0",
   "metadata": {},
   "outputs": [],
   "source": [
    "import numpy as np"
   ]
  },
  {
   "cell_type": "code",
   "execution_count": 101,
   "id": "e106f6ec-6f18-4207-851e-2500db662d34",
   "metadata": {},
   "outputs": [],
   "source": [
    "constant_subs = { constant_ : constants_solutions[ constant_ ].subs( { sp.Symbol( 'G' ) : g_normalized.last_step().rhs } ) for constant_ in constants_solutions }"
   ]
  },
  {
   "cell_type": "code",
   "execution_count": 102,
   "id": "c0d4b53d-802c-4e6f-ba5b-198120daf89a",
   "metadata": {},
   "outputs": [],
   "source": [
    "constant_subs = { constant_ : constant_subs[ constant_ ].simplify().refine( sp.Q.real( k_2 ) ).refine( sp.Q.positive( k_2 ) ) for constant_ in constant_subs }"
   ]
  },
  {
   "cell_type": "code",
   "execution_count": 103,
   "id": "dd9a2615-6e53-4a30-8db7-cb43d0939595",
   "metadata": {},
   "outputs": [
    {
     "data": {
      "text/plain": [
       "{A: sqrt(I*(k_2 - conjugate(k_2))*exp(I*L*conjugate(k_2))/(exp(I*L*k_2) - exp(I*L*conjugate(k_2))))*(k_0*(k_1 + I*k_2 + (k_1 - I*k_2)*exp(2*L*k_1)) + I*k_1*(k_1 + I*k_2 + (-k_1 + I*k_2)*exp(2*L*k_1)))*exp(-L*(k_1 - I*k_2))/(4*k_0*k_1),\n",
       " B: sqrt(I*(k_2 - conjugate(k_2))*exp(I*L*conjugate(k_2))/(exp(I*L*k_2) - exp(I*L*conjugate(k_2))))*(k_0*(k_1 + I*k_2 + (k_1 - I*k_2)*exp(2*L*k_1)) - I*k_1*(k_1 + I*k_2 + (-k_1 + I*k_2)*exp(2*L*k_1)))*exp(-L*(k_1 - I*k_2))/(4*k_0*k_1),\n",
       " C: sqrt(I*(k_2 - conjugate(k_2))*exp(I*L*conjugate(k_2))/(exp(I*L*k_2) - exp(I*L*conjugate(k_2))))*(k_1 - I*k_2)*exp(L*(k_1 + I*k_2))/(2*k_1),\n",
       " D: sqrt(I*(k_2 - conjugate(k_2))*exp(I*L*conjugate(k_2))/(exp(I*L*k_2) - exp(I*L*conjugate(k_2))))*(k_1 + I*k_2)*exp(-L*(k_1 - I*k_2))/(2*k_1)}"
      ]
     },
     "execution_count": 103,
     "metadata": {},
     "output_type": "execute_result"
    }
   ],
   "source": [
    "constant_subs"
   ]
  },
  {
   "cell_type": "code",
   "execution_count": null,
   "id": "cf3390c9-0fee-4966-ab65-000d71feeeff",
   "metadata": {},
   "outputs": [],
   "source": []
  },
  {
   "cell_type": "code",
   "execution_count": 104,
   "id": "33b4b48b-4bda-4bac-9a87-25108c3a1fd5",
   "metadata": {},
   "outputs": [
    {
     "data": {
      "text/latex": [
       "$\\displaystyle \\psi{\\left(x \\right)} = A e^{- i k_{0} x} + B e^{i k_{0} x}$"
      ],
      "text/plain": [
       "Eq(psi(x), A*exp(-I*k_0*x) + B*exp(I*k_0*x))"
      ]
     },
     "execution_count": 104,
     "metadata": {},
     "output_type": "execute_result"
    }
   ],
   "source": [
    "psi_region[ 0 ].last_step()"
   ]
  },
  {
   "cell_type": "code",
   "execution_count": 105,
   "id": "2e928dc8-ea41-451c-af3d-951ead0fea8d",
   "metadata": {},
   "outputs": [
    {
     "data": {
      "text/latex": [
       "$\\displaystyle \\psi_{1}{\\left(x \\right)} = C e^{- k_{1} x} + D e^{k_{1} x}$"
      ],
      "text/plain": [
       "Eq(psi_1(x), C*exp(-k_1*x) + D*exp(k_1*x))"
      ]
     },
     "execution_count": 105,
     "metadata": {},
     "output_type": "execute_result"
    }
   ],
   "source": [
    "psi_region[ 1 ].last_step()"
   ]
  },
  {
   "cell_type": "code",
   "execution_count": 106,
   "id": "0e7c08eb-b3ae-43b2-9afe-9b7e7e023fb9",
   "metadata": {},
   "outputs": [
    {
     "data": {
      "text/latex": [
       "$\\displaystyle \\psi_{2}{\\left(x \\right)} = G e^{i k_{2} x}$"
      ],
      "text/plain": [
       "Eq(psi_2(x), G*exp(I*k_2*x))"
      ]
     },
     "execution_count": 106,
     "metadata": {},
     "output_type": "execute_result"
    }
   ],
   "source": [
    "psi_region[ 2 ].last_step()"
   ]
  },
  {
   "cell_type": "code",
   "execution_count": 107,
   "id": "927c6e24-5a3d-462d-97fa-7467202209ea",
   "metadata": {},
   "outputs": [],
   "source": [
    "A = sp.Symbol( 'A' )\n",
    "B = sp.Symbol( 'B' )\n",
    "C = sp.Symbol( 'C' )\n",
    "D = sp.Symbol( 'D' )\n",
    "G = sp.Symbol( 'G' )\n"
   ]
  },
  {
   "cell_type": "code",
   "execution_count": 108,
   "id": "3f76c7e5-5713-4f16-8f7f-78175c51dec2",
   "metadata": {},
   "outputs": [
    {
     "data": {
      "text/latex": [
       "$\\displaystyle \\psi{\\left(x \\right)} = \\frac{\\sqrt{\\frac{i \\left(k_{2} - \\overline{k_{2}}\\right) e^{i L \\overline{k_{2}}}}{e^{i L k_{2}} - e^{i L \\overline{k_{2}}}}} \\left(k_{0} \\left(k_{1} + i k_{2} + \\left(k_{1} - i k_{2}\\right) e^{2 L k_{1}}\\right) - i k_{1} \\left(k_{1} + i k_{2} + \\left(- k_{1} + i k_{2}\\right) e^{2 L k_{1}}\\right)\\right) e^{- L \\left(k_{1} - i k_{2}\\right)} e^{i k_{0} x}}{4 k_{0} k_{1}} + \\frac{\\sqrt{\\frac{i \\left(k_{2} - \\overline{k_{2}}\\right) e^{i L \\overline{k_{2}}}}{e^{i L k_{2}} - e^{i L \\overline{k_{2}}}}} \\left(k_{0} \\left(k_{1} + i k_{2} + \\left(k_{1} - i k_{2}\\right) e^{2 L k_{1}}\\right) + i k_{1} \\left(k_{1} + i k_{2} + \\left(- k_{1} + i k_{2}\\right) e^{2 L k_{1}}\\right)\\right) e^{- L \\left(k_{1} - i k_{2}\\right)} e^{- i k_{0} x}}{4 k_{0} k_{1}}$"
      ],
      "text/plain": [
       "Eq(psi(x), sqrt(I*(k_2 - conjugate(k_2))*exp(I*L*conjugate(k_2))/(exp(I*L*k_2) - exp(I*L*conjugate(k_2))))*(k_0*(k_1 + I*k_2 + (k_1 - I*k_2)*exp(2*L*k_1)) - I*k_1*(k_1 + I*k_2 + (-k_1 + I*k_2)*exp(2*L*k_1)))*exp(-L*(k_1 - I*k_2))*exp(I*k_0*x)/(4*k_0*k_1) + sqrt(I*(k_2 - conjugate(k_2))*exp(I*L*conjugate(k_2))/(exp(I*L*k_2) - exp(I*L*conjugate(k_2))))*(k_0*(k_1 + I*k_2 + (k_1 - I*k_2)*exp(2*L*k_1)) + I*k_1*(k_1 + I*k_2 + (-k_1 + I*k_2)*exp(2*L*k_1)))*exp(-L*(k_1 - I*k_2))*exp(-I*k_0*x)/(4*k_0*k_1))"
      ]
     },
     "execution_count": 108,
     "metadata": {},
     "output_type": "execute_result"
    }
   ],
   "source": [
    "psi_region[ 0 ].rename( A, constant_subs[ A ], chain=True ).rename( B, constant_subs[ B ] )"
   ]
  },
  {
   "cell_type": "code",
   "execution_count": 109,
   "id": "4e5aa318-91dc-487f-b6f1-4b47e10f967c",
   "metadata": {},
   "outputs": [
    {
     "data": {
      "text/latex": [
       "$\\displaystyle \\psi{\\left(x \\right)} = \\frac{\\sqrt{\\frac{i \\left(k_{2} - \\overline{k_{2}}\\right) e^{i L \\overline{k_{2}}}}{e^{i L k_{2}} - e^{i L \\overline{k_{2}}}}} \\left(\\left(k_{0} \\left(k_{1} + i k_{2} + \\left(k_{1} - i k_{2}\\right) e^{2 L k_{1}}\\right) - i k_{1} \\left(k_{1} + i k_{2} + \\left(- k_{1} + i k_{2}\\right) e^{2 L k_{1}}\\right)\\right) e^{L \\left(k_{1} - i k_{2}\\right) + 2 i k_{0} x} + \\left(k_{0} \\left(k_{1} + i k_{2} + \\left(k_{1} - i k_{2}\\right) e^{2 L k_{1}}\\right) + i k_{1} \\left(k_{1} + i k_{2} + \\left(- k_{1} + i k_{2}\\right) e^{2 L k_{1}}\\right)\\right) e^{L \\left(k_{1} - i k_{2}\\right)}\\right) e^{- 2 L \\left(k_{1} - i k_{2}\\right) - i k_{0} x}}{4 k_{0} k_{1}}$"
      ],
      "text/plain": [
       "Eq(psi(x), sqrt(I*(k_2 - conjugate(k_2))*exp(I*L*conjugate(k_2))/(exp(I*L*k_2) - exp(I*L*conjugate(k_2))))*((k_0*(k_1 + I*k_2 + (k_1 - I*k_2)*exp(2*L*k_1)) - I*k_1*(k_1 + I*k_2 + (-k_1 + I*k_2)*exp(2*L*k_1)))*exp(L*(k_1 - I*k_2) + 2*I*k_0*x) + (k_0*(k_1 + I*k_2 + (k_1 - I*k_2)*exp(2*L*k_1)) + I*k_1*(k_1 + I*k_2 + (-k_1 + I*k_2)*exp(2*L*k_1)))*exp(L*(k_1 - I*k_2)))*exp(-2*L*(k_1 - I*k_2) - I*k_0*x)/(4*k_0*k_1))"
      ]
     },
     "execution_count": 109,
     "metadata": {},
     "output_type": "execute_result"
    }
   ],
   "source": [
    "psi_region[ 0 ].last_step().simplify().refine()#.refine( sp.Q.positive( k_2 ) )"
   ]
  },
  {
   "cell_type": "code",
   "execution_count": null,
   "id": "b6dc8a73-a08e-49f8-9f00-dc82d168c903",
   "metadata": {},
   "outputs": [],
   "source": []
  },
  {
   "cell_type": "code",
   "execution_count": 110,
   "id": "3b4c375c-c9bf-490a-b000-2ea703224899",
   "metadata": {},
   "outputs": [
    {
     "data": {
      "text/latex": [
       "$\\displaystyle \\psi_{1}{\\left(x \\right)} = \\frac{\\sqrt{\\frac{i \\left(k_{2} - \\overline{k_{2}}\\right) e^{i L \\overline{k_{2}}}}{e^{i L k_{2}} - e^{i L \\overline{k_{2}}}}} \\left(k_{1} - i k_{2}\\right) e^{L \\left(k_{1} + i k_{2}\\right)} e^{- k_{1} x}}{2 k_{1}} + \\frac{\\sqrt{\\frac{i \\left(k_{2} - \\overline{k_{2}}\\right) e^{i L \\overline{k_{2}}}}{e^{i L k_{2}} - e^{i L \\overline{k_{2}}}}} \\left(k_{1} + i k_{2}\\right) e^{- L \\left(k_{1} - i k_{2}\\right)} e^{k_{1} x}}{2 k_{1}}$"
      ],
      "text/plain": [
       "Eq(psi_1(x), sqrt(I*(k_2 - conjugate(k_2))*exp(I*L*conjugate(k_2))/(exp(I*L*k_2) - exp(I*L*conjugate(k_2))))*(k_1 - I*k_2)*exp(L*(k_1 + I*k_2))*exp(-k_1*x)/(2*k_1) + sqrt(I*(k_2 - conjugate(k_2))*exp(I*L*conjugate(k_2))/(exp(I*L*k_2) - exp(I*L*conjugate(k_2))))*(k_1 + I*k_2)*exp(-L*(k_1 - I*k_2))*exp(k_1*x)/(2*k_1))"
      ]
     },
     "execution_count": 110,
     "metadata": {},
     "output_type": "execute_result"
    }
   ],
   "source": [
    "psi_region[ 1 ].rename( C, constant_subs[ C ], chain=True ).rename( D, constant_subs[ D ] )"
   ]
  },
  {
   "cell_type": "code",
   "execution_count": 111,
   "id": "13048f0a-0a4a-49fc-a73c-5a1d242475da",
   "metadata": {},
   "outputs": [
    {
     "data": {
      "text/latex": [
       "$\\displaystyle \\psi_{1}{\\left(x \\right)} = \\frac{\\sqrt{\\frac{i \\left(k_{2} - \\overline{k_{2}}\\right) e^{i L \\overline{k_{2}}}}{e^{i L k_{2}} - e^{i L \\overline{k_{2}}}}} \\left(\\left(k_{1} - i k_{2}\\right) e^{2 L k_{1}} + \\left(k_{1} + i k_{2}\\right) e^{2 k_{1} x}\\right) e^{- L \\left(k_{1} - i k_{2}\\right) - k_{1} x}}{2 k_{1}}$"
      ],
      "text/plain": [
       "Eq(psi_1(x), sqrt(I*(k_2 - conjugate(k_2))*exp(I*L*conjugate(k_2))/(exp(I*L*k_2) - exp(I*L*conjugate(k_2))))*((k_1 - I*k_2)*exp(2*L*k_1) + (k_1 + I*k_2)*exp(2*k_1*x))*exp(-L*(k_1 - I*k_2) - k_1*x)/(2*k_1))"
      ]
     },
     "execution_count": 111,
     "metadata": {},
     "output_type": "execute_result"
    }
   ],
   "source": [
    "psi_region[ 1 ].last_step().simplify()"
   ]
  },
  {
   "cell_type": "code",
   "execution_count": null,
   "id": "bb4c6c19-b9ed-4d0e-8e3d-aedff5cb602e",
   "metadata": {},
   "outputs": [],
   "source": []
  },
  {
   "cell_type": "code",
   "execution_count": 112,
   "id": "4fd3be58-81c2-434f-a542-59ab9f233b1a",
   "metadata": {},
   "outputs": [
    {
     "data": {
      "text/latex": [
       "$\\displaystyle \\psi_{2}{\\left(x \\right)} = \\sqrt{- \\frac{i \\left(- k_{2} + \\overline{k_{2}}\\right) e^{i L \\overline{k_{2}}}}{e^{i L k_{2}} - e^{i L \\overline{k_{2}}}}} e^{i k_{2} x}$"
      ],
      "text/plain": [
       "Eq(psi_2(x), sqrt(-I*(-k_2 + conjugate(k_2))*exp(I*L*conjugate(k_2))/(exp(I*L*k_2) - exp(I*L*conjugate(k_2))))*exp(I*k_2*x))"
      ]
     },
     "execution_count": 112,
     "metadata": {},
     "output_type": "execute_result"
    }
   ],
   "source": [
    "psi_region[ 2 ].rename( G, g_normalized.last_step().rhs )"
   ]
  },
  {
   "cell_type": "code",
   "execution_count": null,
   "id": "1e62b10c-8b99-4e15-aac7-14069f978420",
   "metadata": {},
   "outputs": [],
   "source": []
  },
  {
   "cell_type": "code",
   "execution_count": 113,
   "id": "cbddee99-5ab3-406b-b29a-701dc69da494",
   "metadata": {},
   "outputs": [
    {
     "data": {
      "text/latex": [
       "$\\displaystyle k^{2} = \\frac{2 E \\text{m}}{\\hbar^{2}}$"
      ],
      "text/plain": [
       "Eq(k**2, 2*m*E/hbar**2)"
      ]
     },
     "execution_count": 113,
     "metadata": {},
     "output_type": "execute_result"
    }
   ],
   "source": [
    "k_squared"
   ]
  },
  {
   "cell_type": "code",
   "execution_count": 114,
   "id": "c128446c-9b4f-40d8-808f-daa1b37d55e7",
   "metadata": {},
   "outputs": [],
   "source": [
    "psi_numerical = [ current_psi_region.clone() for current_psi_region in psi_region ]"
   ]
  },
  {
   "cell_type": "code",
   "execution_count": 115,
   "id": "1c6acaa6-f2ff-4be4-8d64-8ce9df8531f2",
   "metadata": {},
   "outputs": [
    {
     "data": {
      "text/latex": [
       "$\\displaystyle \\psi{\\left(x \\right)} = \\frac{\\sqrt{\\frac{i \\left(k_{0} - \\overline{k_{0}}\\right) e^{i L \\overline{k_{0}}}}{e^{i L k_{0}} - e^{i L \\overline{k_{0}}}}} \\left(k_{0} \\left(i k_{0} + k_{1} + \\left(- i k_{0} + k_{1}\\right) e^{2 L k_{1}}\\right) - i k_{1} \\left(i k_{0} + k_{1} + \\left(i k_{0} - k_{1}\\right) e^{2 L k_{1}}\\right)\\right) e^{- L \\left(- i k_{0} + k_{1}\\right)} e^{i k_{0} x}}{4 k_{0} k_{1}} + \\frac{\\sqrt{\\frac{i \\left(k_{0} - \\overline{k_{0}}\\right) e^{i L \\overline{k_{0}}}}{e^{i L k_{0}} - e^{i L \\overline{k_{0}}}}} \\left(k_{0} \\left(i k_{0} + k_{1} + \\left(- i k_{0} + k_{1}\\right) e^{2 L k_{1}}\\right) + i k_{1} \\left(i k_{0} + k_{1} + \\left(i k_{0} - k_{1}\\right) e^{2 L k_{1}}\\right)\\right) e^{- L \\left(- i k_{0} + k_{1}\\right)} e^{- i k_{0} x}}{4 k_{0} k_{1}}$"
      ],
      "text/plain": [
       "Eq(psi(x), sqrt(I*(k_0 - conjugate(k_0))*exp(I*L*conjugate(k_0))/(exp(I*L*k_0) - exp(I*L*conjugate(k_0))))*(k_0*(I*k_0 + k_1 + (-I*k_0 + k_1)*exp(2*L*k_1)) - I*k_1*(I*k_0 + k_1 + (I*k_0 - k_1)*exp(2*L*k_1)))*exp(-L*(-I*k_0 + k_1))*exp(I*k_0*x)/(4*k_0*k_1) + sqrt(I*(k_0 - conjugate(k_0))*exp(I*L*conjugate(k_0))/(exp(I*L*k_0) - exp(I*L*conjugate(k_0))))*(k_0*(I*k_0 + k_1 + (-I*k_0 + k_1)*exp(2*L*k_1)) + I*k_1*(I*k_0 + k_1 + (I*k_0 - k_1)*exp(2*L*k_1)))*exp(-L*(-I*k_0 + k_1))*exp(-I*k_0*x)/(4*k_0*k_1))"
      ]
     },
     "execution_count": 115,
     "metadata": {},
     "output_type": "execute_result"
    }
   ],
   "source": [
    "psi_numerical[ 0 ].rename( k_2, k_0 )"
   ]
  },
  {
   "cell_type": "code",
   "execution_count": 116,
   "id": "d62057e8-6299-46dc-9215-f50109a4ad36",
   "metadata": {},
   "outputs": [],
   "source": [
    "#psi_numerical[ 0 ].last_step().simplify().refine( sp.Q.real( k_0 ) )"
   ]
  },
  {
   "cell_type": "code",
   "execution_count": 125,
   "id": "47cd0235-3c76-48b9-9d26-7d66099b4303",
   "metadata": {},
   "outputs": [
    {
     "data": {
      "text/latex": [
       "$\\displaystyle \\psi{\\left(x \\right)} = \\frac{\\sqrt{2} \\sqrt{\\frac{i \\left(k_{0} - \\overline{k_{0}}\\right) e^{i L \\overline{k_{0}}}}{e^{i L k_{0}} - e^{i L \\overline{k_{0}}}}} \\left(- \\left(\\sqrt{2} i \\sqrt{- E + V_{0}} \\left(\\sqrt{2} \\sqrt{- E + V_{0}} \\sqrt{\\text{m}} + \\hbar i k_{0} + \\left(- \\sqrt{2} \\sqrt{- E + V_{0}} \\sqrt{\\text{m}} + \\hbar i k_{0}\\right) e^{\\frac{2 \\sqrt{2} L \\sqrt{- E + V_{0}} \\sqrt{\\text{m}}}{\\hbar}}\\right) \\sqrt{\\text{m}} - \\hbar k_{0} \\left(\\sqrt{2} \\sqrt{- E + V_{0}} \\sqrt{\\text{m}} + \\hbar i k_{0} + \\left(\\sqrt{2} \\sqrt{- E + V_{0}} \\sqrt{\\text{m}} - \\hbar i k_{0}\\right) e^{\\frac{2 \\sqrt{2} L \\sqrt{- E + V_{0}} \\sqrt{\\text{m}}}{\\hbar}}\\right)\\right) e^{\\frac{L \\left(\\sqrt{2} \\sqrt{- E + V_{0}} \\sqrt{\\text{m}} - \\hbar i k_{0}\\right) + 2 \\hbar i k_{0} x}{\\hbar}} + \\left(\\sqrt{2} i \\sqrt{- E + V_{0}} \\left(\\sqrt{2} \\sqrt{- E + V_{0}} \\sqrt{\\text{m}} + \\hbar i k_{0} + \\left(- \\sqrt{2} \\sqrt{- E + V_{0}} \\sqrt{\\text{m}} + \\hbar i k_{0}\\right) e^{\\frac{2 \\sqrt{2} L \\sqrt{- E + V_{0}} \\sqrt{\\text{m}}}{\\hbar}}\\right) \\sqrt{\\text{m}} + \\hbar k_{0} \\left(\\sqrt{2} \\sqrt{- E + V_{0}} \\sqrt{\\text{m}} + \\hbar i k_{0} + \\left(\\sqrt{2} \\sqrt{- E + V_{0}} \\sqrt{\\text{m}} - \\hbar i k_{0}\\right) e^{\\frac{2 \\sqrt{2} L \\sqrt{- E + V_{0}} \\sqrt{\\text{m}}}{\\hbar}}\\right)\\right) e^{\\frac{L \\left(\\sqrt{2} \\sqrt{- E + V_{0}} \\sqrt{\\text{m}} - \\hbar i k_{0}\\right)}{\\hbar}}\\right) e^{- \\frac{2 L \\left(\\sqrt{2} \\sqrt{- E + V_{0}} \\sqrt{\\text{m}} - \\hbar i k_{0}\\right) + \\hbar i k_{0} x}{\\hbar}}}{8 \\hbar k_{0} \\sqrt{- E + V_{0}} \\sqrt{\\text{m}}}$"
      ],
      "text/plain": [
       "Eq(psi(x), sqrt(2)*sqrt(I*(k_0 - conjugate(k_0))*exp(I*L*conjugate(k_0))/(exp(I*L*k_0) - exp(I*L*conjugate(k_0))))*(-(sqrt(2)*I*sqrt(m)*sqrt(-E + V_0)*(sqrt(2)*sqrt(m)*sqrt(-E + V_0) + hbar*I*k_0 + (-sqrt(2)*sqrt(m)*sqrt(-E + V_0) + hbar*I*k_0)*exp(2*sqrt(2)*sqrt(m)*L*sqrt(-E + V_0)/hbar)) - hbar*k_0*(sqrt(2)*sqrt(m)*sqrt(-E + V_0) + hbar*I*k_0 + (sqrt(2)*sqrt(m)*sqrt(-E + V_0) - hbar*I*k_0)*exp(2*sqrt(2)*sqrt(m)*L*sqrt(-E + V_0)/hbar)))*exp((L*(sqrt(2)*sqrt(m)*sqrt(-E + V_0) - hbar*I*k_0) + 2*hbar*I*k_0*x)/hbar) + (sqrt(2)*I*sqrt(m)*sqrt(-E + V_0)*(sqrt(2)*sqrt(m)*sqrt(-E + V_0) + hbar*I*k_0 + (-sqrt(2)*sqrt(m)*sqrt(-E + V_0) + hbar*I*k_0)*exp(2*sqrt(2)*sqrt(m)*L*sqrt(-E + V_0)/hbar)) + hbar*k_0*(sqrt(2)*sqrt(m)*sqrt(-E + V_0) + hbar*I*k_0 + (sqrt(2)*sqrt(m)*sqrt(-E + V_0) - hbar*I*k_0)*exp(2*sqrt(2)*sqrt(m)*L*sqrt(-E + V_0)/hbar)))*exp(L*(sqrt(2)*sqrt(m)*sqrt(-E + V_0) - hbar*I*k_0)/hbar))*exp(-(2*L*(sqrt(2)*sqrt(m)*sqrt(-E + V_0) - hbar*I*k_0) + hbar*I*k_0*x)/hbar)/(8*hbar*sqrt(m)*k_0*sqrt(-E + V_0)))"
      ]
     },
     "execution_count": 125,
     "metadata": {},
     "output_type": "execute_result"
    }
   ],
   "source": [
    "psi_numerical[ 0 ].add_step( sp.Eq( psi_numerical[ 0 ].last_step().lhs, \n",
    "                            psi_numerical[ 0 ].last_step().rhs.subs( { k_1 : sp.sqrt( k_1_squared.rhs ) } ).simplify() ) )"
   ]
  },
  {
   "cell_type": "code",
   "execution_count": 126,
   "id": "5ec12a03-7568-4ae3-9474-70daeee5c9aa",
   "metadata": {},
   "outputs": [
    {
     "data": {
      "text/latex": [
       "$\\displaystyle \\text{NaN}$"
      ],
      "text/plain": [
       "nan"
      ]
     },
     "execution_count": 126,
     "metadata": {},
     "output_type": "execute_result"
    }
   ],
   "source": [
    "#psi_numerical[ 0 ].add_step( sp.Eq( psi_numerical[ 0 ].last_step().lhs, \n",
    "#psi_numerical[ 0 ].last_step().rhs.subs( { k_0 : sp.sqrt( k_squared.rhs ) } )"
   ]
  },
  {
   "cell_type": "code",
   "execution_count": 131,
   "id": "40f0389a-937e-458e-b278-e28a425404a2",
   "metadata": {},
   "outputs": [
    {
     "data": {
      "text/latex": [
       "$\\displaystyle \\psi{\\left(x \\right)} = \\frac{\\sqrt{\\frac{i \\left(k_{0} - \\overline{k_{0}}\\right) e^{i L \\overline{k_{0}}}}{e^{i L k_{0}} - e^{i L \\overline{k_{0}}}}} \\left(k_{0} \\left(i k_{0} + k_{1} + \\left(- i k_{0} + k_{1}\\right) e^{2 L k_{1}}\\right) - i k_{1} \\left(i k_{0} + k_{1} + \\left(i k_{0} - k_{1}\\right) e^{2 L k_{1}}\\right)\\right) e^{- L \\left(- i k_{0} + k_{1}\\right)} e^{i k_{0} x}}{4 k_{0} k_{1}} + \\frac{\\sqrt{\\frac{i \\left(k_{0} - \\overline{k_{0}}\\right) e^{i L \\overline{k_{0}}}}{e^{i L k_{0}} - e^{i L \\overline{k_{0}}}}} \\left(k_{0} \\left(i k_{0} + k_{1} + \\left(- i k_{0} + k_{1}\\right) e^{2 L k_{1}}\\right) + i k_{1} \\left(i k_{0} + k_{1} + \\left(i k_{0} - k_{1}\\right) e^{2 L k_{1}}\\right)\\right) e^{- L \\left(- i k_{0} + k_{1}\\right)} e^{- i k_{0} x}}{4 k_{0} k_{1}}$"
      ],
      "text/plain": [
       "Eq(psi(x), sqrt(I*(k_0 - conjugate(k_0))*exp(I*L*conjugate(k_0))/(exp(I*L*k_0) - exp(I*L*conjugate(k_0))))*(k_0*(I*k_0 + k_1 + (-I*k_0 + k_1)*exp(2*L*k_1)) - I*k_1*(I*k_0 + k_1 + (I*k_0 - k_1)*exp(2*L*k_1)))*exp(-L*(-I*k_0 + k_1))*exp(I*k_0*x)/(4*k_0*k_1) + sqrt(I*(k_0 - conjugate(k_0))*exp(I*L*conjugate(k_0))/(exp(I*L*k_0) - exp(I*L*conjugate(k_0))))*(k_0*(I*k_0 + k_1 + (-I*k_0 + k_1)*exp(2*L*k_1)) + I*k_1*(I*k_0 + k_1 + (I*k_0 - k_1)*exp(2*L*k_1)))*exp(-L*(-I*k_0 + k_1))*exp(-I*k_0*x)/(4*k_0*k_1))"
      ]
     },
     "execution_count": 131,
     "metadata": {},
     "output_type": "execute_result"
    }
   ],
   "source": [
    "psi_numerical[ 0 ].add_step( psi_numerical[ 0 ].last_step().refine() )"
   ]
  },
  {
   "cell_type": "code",
   "execution_count": 149,
   "id": "b722125c-c6bd-477c-a957-9a707521a207",
   "metadata": {},
   "outputs": [],
   "source": [
    "a = 0"
   ]
  },
  {
   "cell_type": "code",
   "execution_count": 151,
   "id": "06cc38fd-8222-43ea-944a-16087c68f67c",
   "metadata": {},
   "outputs": [],
   "source": [
    "k_0_squared = k_squared.subs( { k : k_0 } )"
   ]
  },
  {
   "cell_type": "code",
   "execution_count": 156,
   "id": "6d2f7a4c-54a1-4465-bf42-4d3027c88b62",
   "metadata": {},
   "outputs": [
    {
     "data": {
      "text/latex": [
       "$\\displaystyle k_{0}^{2} = \\frac{2 E \\text{m}}{\\hbar^{2}}$"
      ],
      "text/plain": [
       "Eq(k_0**2, 2*m*E/hbar**2)"
      ]
     },
     "execution_count": 156,
     "metadata": {},
     "output_type": "execute_result"
    }
   ],
   "source": [
    "k_0_squared"
   ]
  },
  {
   "cell_type": "code",
   "execution_count": 189,
   "id": "4d2de742-8b66-4c60-91f5-b135fdac1238",
   "metadata": {},
   "outputs": [
    {
     "data": {
      "text/latex": [
       "$\\displaystyle \\psi{\\left(x \\right)} = \\frac{\\sqrt{\\frac{i \\left(k_{0} - \\overline{k_{0}}\\right) e^{i L \\overline{k_{0}}}}{e^{i L k_{0}} - e^{i L \\overline{k_{0}}}}} \\left(\\left(k_{0} \\left(i k_{0} + k_{1} + \\left(- i k_{0} + k_{1}\\right) e^{2 L k_{1}}\\right) - i k_{1} \\left(i k_{0} + k_{1} + \\left(i k_{0} - k_{1}\\right) e^{2 L k_{1}}\\right)\\right) e^{L \\left(i k_{0} - k_{1}\\right) + 2 i k_{0} x} + \\left(k_{0} \\left(i k_{0} + k_{1} + \\left(- i k_{0} + k_{1}\\right) e^{2 L k_{1}}\\right) + i k_{1} \\left(i k_{0} + k_{1} + \\left(i k_{0} - k_{1}\\right) e^{2 L k_{1}}\\right)\\right) e^{L \\left(i k_{0} - k_{1}\\right)}\\right) e^{- i k_{0} x}}{4 k_{0} k_{1}}$"
      ],
      "text/plain": [
       "Eq(psi(x), sqrt(I*(k_0 - conjugate(k_0))*exp(I*L*conjugate(k_0))/(exp(I*L*k_0) - exp(I*L*conjugate(k_0))))*((k_0*(I*k_0 + k_1 + (-I*k_0 + k_1)*exp(2*L*k_1)) - I*k_1*(I*k_0 + k_1 + (I*k_0 - k_1)*exp(2*L*k_1)))*exp(L*(I*k_0 - k_1) + 2*I*k_0*x) + (k_0*(I*k_0 + k_1 + (-I*k_0 + k_1)*exp(2*L*k_1)) + I*k_1*(I*k_0 + k_1 + (I*k_0 - k_1)*exp(2*L*k_1)))*exp(L*(I*k_0 - k_1)))*exp(-I*k_0*x)/(4*k_0*k_1))"
      ]
     },
     "execution_count": 189,
     "metadata": {},
     "output_type": "execute_result"
    }
   ],
   "source": [
    "psi_numerical[ 0 ].add_step( psi_numerical[ 0 ].last_step().simplify() )"
   ]
  },
  {
   "cell_type": "code",
   "execution_count": null,
   "id": "81cdeba9-0e57-4dbb-bbb2-275917c1565f",
   "metadata": {},
   "outputs": [],
   "source": []
  },
  {
   "cell_type": "code",
   "execution_count": 374,
   "id": "1d4241b9-6aaa-4635-b6b7-d46631df0200",
   "metadata": {},
   "outputs": [
    {
     "data": {
      "text/latex": [
       "$\\displaystyle \\text{NaN}$"
      ],
      "text/plain": [
       "nan"
      ]
     },
     "execution_count": 374,
     "metadata": {},
     "output_type": "execute_result"
    }
   ],
   "source": [
    "psi_numerical[ 0 ].last_step().rhs.subs( { k_0 : sp.sqrt( k_0_squared.rhs ) } )"
   ]
  },
  {
   "cell_type": "code",
   "execution_count": 407,
   "id": "9367df37-88b1-470f-aa2b-1b57ef744a7f",
   "metadata": {},
   "outputs": [],
   "source": [
    "epon = lambda k_ : sp.exp( sp.I*TunnelPotential.DEFAULT_WELL_LENGTH*k_ )"
   ]
  },
  {
   "cell_type": "code",
   "execution_count": 410,
   "id": "36ea6710-4db0-4bde-960e-8cca0bbb48cf",
   "metadata": {},
   "outputs": [],
   "source": [
    "undefined_term = ( psi_numerical[ 0 ].last_step().rhs.separate() * 4*k_0*k_1 ).as_two_terms()[ 0 ].args[ 0 ]"
   ]
  },
  {
   "cell_type": "code",
   "execution_count": 411,
   "id": "e8df52ff-42a4-4912-9b2f-d274d4d85318",
   "metadata": {},
   "outputs": [
    {
     "data": {
      "text/latex": [
       "$\\displaystyle \\frac{i \\left(k_{0} - \\overline{k_{0}}\\right) e^{i L \\overline{k_{0}}}}{e^{i L k_{0}} - e^{i L \\overline{k_{0}}}}$"
      ],
      "text/plain": [
       "I*(k_0 - conjugate(k_0))*exp(I*L*conjugate(k_0))/(exp(I*L*k_0) - exp(I*L*conjugate(k_0)))"
      ]
     },
     "execution_count": 411,
     "metadata": {},
     "output_type": "execute_result"
    }
   ],
   "source": [
    "undefined_term"
   ]
  },
  {
   "cell_type": "code",
   "execution_count": 415,
   "id": "9c6571a0-df6a-429c-ac6a-f7c7408c7f11",
   "metadata": {},
   "outputs": [],
   "source": [
    "epon_ck_0_subs = epon( sp.conjugate( k_0 ) )"
   ]
  },
  {
   "cell_type": "code",
   "execution_count": 417,
   "id": "410f3228-3e67-4a53-b435-f606b8c6f068",
   "metadata": {},
   "outputs": [
    {
     "data": {
      "text/latex": [
       "$\\displaystyle e^{i L \\overline{k_{0}}}$"
      ],
      "text/plain": [
       "exp(I*L*conjugate(k_0))"
      ]
     },
     "execution_count": 417,
     "metadata": {},
     "output_type": "execute_result"
    }
   ],
   "source": [
    "epon_ck_0_subs"
   ]
  },
  {
   "cell_type": "code",
   "execution_count": 416,
   "id": "03174553-6218-4f68-8bd8-ef747a9eb724",
   "metadata": {},
   "outputs": [],
   "source": [
    "epon_k_0_subs = epon( k_0 )"
   ]
  },
  {
   "cell_type": "code",
   "execution_count": 427,
   "id": "c13bd189-0ece-4faf-8686-e760d63f6477",
   "metadata": {},
   "outputs": [
    {
     "data": {
      "text/latex": [
       "$\\displaystyle i e^{i L k_{0}}$"
      ],
      "text/plain": [
       "I*exp(I*L*k_0)"
      ]
     },
     "execution_count": 427,
     "metadata": {},
     "output_type": "execute_result"
    }
   ],
   "source": [
    "sp.I*epon_k_0_subs"
   ]
  },
  {
   "cell_type": "code",
   "execution_count": null,
   "id": "0767762b-cc07-4d7d-9e32-e1e95ea3be9e",
   "metadata": {},
   "outputs": [],
   "source": []
  },
  {
   "cell_type": "code",
   "execution_count": 482,
   "id": "23569813-4a10-44d1-81d9-e3ea5234bc61",
   "metadata": {},
   "outputs": [
    {
     "data": {
      "text/plain": [
       "[[I,\n",
       "  1/(exp(I*L*k_0) - exp(I*L*conjugate(k_0))),\n",
       "  k_0 - conjugate(k_0),\n",
       "  exp(I*L*conjugate(k_0))],\n",
       " []]"
      ]
     },
     "execution_count": 482,
     "metadata": {},
     "output_type": "execute_result"
    }
   ],
   "source": [
    "undefined_term.args_cnc()"
   ]
  },
  {
   "cell_type": "code",
   "execution_count": null,
   "id": "802218b3-d3dc-49fa-ac7a-4f4162dadb11",
   "metadata": {},
   "outputs": [],
   "source": []
  },
  {
   "cell_type": "code",
   "execution_count": null,
   "id": "da29707b-43e0-452d-a4b1-d9a5fd5764c0",
   "metadata": {},
   "outputs": [],
   "source": []
  },
  {
   "cell_type": "code",
   "execution_count": 544,
   "id": "5607e729-90fd-4763-8277-5e8da9270a14",
   "metadata": {},
   "outputs": [],
   "source": [
    "#dir( \n",
    "numer_denom = undefined_term.args_cnc()[ 0 ]#[ 1 ].as_numer_denom()[ 1 ]\n",
    "q = numer_denom[ 1 ].as_numer_denom()[ 1 ].together()#.collect( epon_k_0_subs )\n",
    "# )#.subs( { epon_ck_0_subs : epon_k_0_subs } )"
   ]
  },
  {
   "cell_type": "code",
   "execution_count": 545,
   "id": "5256c315-995c-486e-b71b-1c0d6772f89f",
   "metadata": {},
   "outputs": [
    {
     "data": {
      "text/latex": [
       "$\\displaystyle e^{i L k_{0}} - e^{i L \\overline{k_{0}}}$"
      ],
      "text/plain": [
       "exp(I*L*k_0) - exp(I*L*conjugate(k_0))"
      ]
     },
     "execution_count": 545,
     "metadata": {},
     "output_type": "execute_result"
    }
   ],
   "source": [
    "q"
   ]
  },
  {
   "cell_type": "code",
   "execution_count": 546,
   "id": "8a9f49a8-3806-4e06-b451-6526bfbcd60a",
   "metadata": {},
   "outputs": [],
   "source": [
    "q = sp.Mul( sp.Add( 1, -1, evaluate = False ), q.as_two_terms()[ 1 ], evaluate = False )"
   ]
  },
  {
   "cell_type": "code",
   "execution_count": 547,
   "id": "185d832a-694a-44eb-8086-914141cad553",
   "metadata": {},
   "outputs": [
    {
     "data": {
      "text/latex": [
       "$\\displaystyle \\left(-1 + 1\\right) e^{i L k_{0}}$"
      ],
      "text/plain": [
       "(-1 + 1)*exp(I*L*k_0)"
      ]
     },
     "execution_count": 547,
     "metadata": {},
     "output_type": "execute_result"
    }
   ],
   "source": [
    "q"
   ]
  },
  {
   "cell_type": "code",
   "execution_count": 548,
   "id": "20f1094a-3393-4cf8-8043-04f1e7568148",
   "metadata": {},
   "outputs": [],
   "source": [
    "term_ = numer_denom[ 2 ].as_two_terms()[ 0 ] \n",
    "\n",
    "qq = sp.Add( term_, -term_, evaluate = False )"
   ]
  },
  {
   "cell_type": "code",
   "execution_count": 549,
   "id": "db8d0123-4f55-4f5c-a6aa-450a78f5240b",
   "metadata": {},
   "outputs": [
    {
     "data": {
      "text/latex": [
       "$\\displaystyle - k_{0} + k_{0}$"
      ],
      "text/plain": [
       "-k_0 + k_0"
      ]
     },
     "execution_count": 549,
     "metadata": {},
     "output_type": "execute_result"
    }
   ],
   "source": [
    "qq"
   ]
  },
  {
   "cell_type": "code",
   "execution_count": 550,
   "id": "8ba9d60b-feea-4f49-b5b5-eb0a4b82f20a",
   "metadata": {},
   "outputs": [],
   "source": [
    "qq = sp.Mul( qq, numer_denom[ 3 ].subs( { sp.conjugate( k_0 ) : k_0 } ), evaluate = False )"
   ]
  },
  {
   "cell_type": "code",
   "execution_count": 551,
   "id": "314cf4f1-730e-4582-b562-42f19755f173",
   "metadata": {},
   "outputs": [
    {
     "data": {
      "text/latex": [
       "$\\displaystyle \\left(- k_{0} + k_{0}\\right) e^{i L k_{0}}$"
      ],
      "text/plain": [
       "(-k_0 + k_0)*exp(I*L*k_0)"
      ]
     },
     "execution_count": 551,
     "metadata": {},
     "output_type": "execute_result"
    }
   ],
   "source": [
    "qq"
   ]
  },
  {
   "cell_type": "code",
   "execution_count": 553,
   "id": "40f109bf-f56c-4b64-9e23-00a68b7998a7",
   "metadata": {},
   "outputs": [],
   "source": [
    "qqq = q * k_0 "
   ]
  },
  {
   "cell_type": "code",
   "execution_count": 554,
   "id": "c09f6282-58af-4ad3-85c8-35e1e8631388",
   "metadata": {},
   "outputs": [
    {
     "data": {
      "text/latex": [
       "$\\displaystyle k_{0} \\left(-1 + 1\\right) e^{i L k_{0}}$"
      ],
      "text/plain": [
       "k_0*(-1 + 1)*exp(I*L*k_0)"
      ]
     },
     "execution_count": 554,
     "metadata": {},
     "output_type": "execute_result"
    }
   ],
   "source": [
    "qqq"
   ]
  },
  {
   "cell_type": "code",
   "execution_count": 564,
   "id": "c5b5455f-291d-4578-9c17-6619df3d771d",
   "metadata": {},
   "outputs": [
    {
     "data": {
      "text/latex": [
       "$\\displaystyle \\frac{e^{- i L k_{0}}}{-1 + 1} k_{0} \\left(-1 + 1\\right) e^{i L k_{0}}$"
      ],
      "text/plain": [
       "(exp(-I*L*k_0)/(-1 + 1))*(k_0*(-1 + 1)*exp(I*L*k_0))"
      ]
     },
     "execution_count": 564,
     "metadata": {},
     "output_type": "execute_result"
    }
   ],
   "source": [
    "sp.Mul( qqq, q ** -1, evaluate=False )"
   ]
  },
  {
   "cell_type": "code",
   "execution_count": 567,
   "id": "85a784cb-fd5a-48c2-9390-69a72ea5908e",
   "metadata": {},
   "outputs": [
    {
     "data": {
      "text/latex": [
       "$\\displaystyle \\sqrt{i k_{0}}$"
      ],
      "text/plain": [
       "sqrt(I*k_0)"
      ]
     },
     "execution_count": 567,
     "metadata": {},
     "output_type": "execute_result"
    }
   ],
   "source": [
    "sp.sqrt( sp.I * qqq/q )"
   ]
  },
  {
   "cell_type": "code",
   "execution_count": null,
   "id": "4c2d1749-13d5-4316-a1bc-1d59dc98d543",
   "metadata": {},
   "outputs": [],
   "source": []
  },
  {
   "cell_type": "code",
   "execution_count": null,
   "id": "01da9bd8-a007-4122-bd10-571e8b5fcead",
   "metadata": {},
   "outputs": [],
   "source": []
  },
  {
   "cell_type": "code",
   "execution_count": null,
   "id": "8fe83535-f3fe-4452-b520-4dd86429e93a",
   "metadata": {},
   "outputs": [],
   "source": []
  },
  {
   "cell_type": "code",
   "execution_count": 480,
   "id": "910d322d-02d4-4d6c-81a3-55e47c4f026c",
   "metadata": {},
   "outputs": [
    {
     "name": "stdout",
     "output_type": "stream",
     "text": [
      "None\n"
     ]
    }
   ],
   "source": [
    "with sp.assuming( k_0_squared, sp.Q.real( total_energy ), sp.Q.positive( total_energy ), \n",
    "              sp.Q.real( mass ), sp.Q.positive( mass ), sp.Q.nonzero( mass ), \n",
    "              sp.Q.real( total_energy ), sp.Q.positive( total_energy ), sp.Q.nonzero( total_energy ), \n",
    "              total_energy > Potential.DEFAULT_POTENTIAL, \n",
    "              sp.Q.real( Potential.DEFAULT_POTENTIAL ), sp.Q.positive( Potential.DEFAULT_POTENTIAL ), \n",
    "              sp.Q.nonzero( Potential.DEFAULT_POTENTIAL ), \n",
    "              sp.Q.positive( hbar ), sp.Q.real( hbar ), sp.Q.nonzero( hbar ) ): \n",
    "    print( sp.ask( sp.Q.positive( k_0 ) ) )"
   ]
  },
  {
   "cell_type": "code",
   "execution_count": null,
   "id": "8dcda57e-14f0-4e22-a70c-3065794b2d88",
   "metadata": {},
   "outputs": [],
   "source": []
  },
  {
   "cell_type": "code",
   "execution_count": 424,
   "id": "05557923-d966-4b19-b4b2-6b3cf78f8335",
   "metadata": {},
   "outputs": [
    {
     "data": {
      "text/latex": [
       "$\\displaystyle \\tilde{\\infty} \\left(k_{0} - \\overline{k_{0}}\\right) e^{i L k_{0}}$"
      ],
      "text/plain": [
       "zoo*(k_0 - conjugate(k_0))*exp(I*L*k_0)"
      ]
     },
     "execution_count": 424,
     "metadata": {},
     "output_type": "execute_result"
    }
   ],
   "source": [
    "a"
   ]
  },
  {
   "cell_type": "code",
   "execution_count": 475,
   "id": "4e131d58-a1c9-4219-918a-2ab5cf521883",
   "metadata": {},
   "outputs": [
    {
     "data": {
      "text/plain": [
       "(sqrt(I*(k_0 - conjugate(k_0))*exp(I*L*conjugate(k_0))/(exp(I*L*k_0) - exp(I*L*conjugate(k_0))))*((k_0*(I*k_0 + k_1 + (-I*k_0 + k_1)*exp(2*L*k_1)) - I*k_1*(I*k_0 + k_1 + (I*k_0 - k_1)*exp(2*L*k_1)))*exp(L*(I*k_0 - k_1) + 2*I*k_0*x) + (k_0*(I*k_0 + k_1 + (-I*k_0 + k_1)*exp(2*L*k_1)) + I*k_1*(I*k_0 + k_1 + (I*k_0 - k_1)*exp(2*L*k_1)))*exp(L*(I*k_0 - k_1)))*exp(-I*k_0*x)/(4*k_0*k_1),\n",
       " 0)"
      ]
     },
     "execution_count": 475,
     "metadata": {},
     "output_type": "execute_result"
    }
   ],
   "source": [
    "psi_numerical[ 0 ].last_step().rhs.extract_branch_factor()#.subs( { undefined_term : 0 } )"
   ]
  },
  {
   "cell_type": "code",
   "execution_count": 443,
   "id": "8f7b8914-fdf6-484a-a4bf-83399995da6c",
   "metadata": {},
   "outputs": [
    {
     "data": {
      "text/latex": [
       "$\\displaystyle \\frac{\\left(- i k_{0}^{2} \\sqrt{\\frac{i k_{0} e^{i L \\overline{k_{0}}}}{e^{i L k_{0}} - e^{i L \\overline{k_{0}}}} - \\frac{i e^{i L \\overline{k_{0}}} \\overline{k_{0}}}{e^{i L k_{0}} - e^{i L \\overline{k_{0}}}}} e^{L k_{1}} e^{i L k_{0}} e^{2 i k_{0} x} - i k_{0}^{2} \\sqrt{\\frac{i k_{0} e^{i L \\overline{k_{0}}}}{e^{i L k_{0}} - e^{i L \\overline{k_{0}}}} - \\frac{i e^{i L \\overline{k_{0}}} \\overline{k_{0}}}{e^{i L k_{0}} - e^{i L \\overline{k_{0}}}}} e^{L k_{1}} e^{i L k_{0}} + i k_{0}^{2} \\sqrt{\\frac{i k_{0} e^{i L \\overline{k_{0}}}}{e^{i L k_{0}} - e^{i L \\overline{k_{0}}}} - \\frac{i e^{i L \\overline{k_{0}}} \\overline{k_{0}}}{e^{i L k_{0}} - e^{i L \\overline{k_{0}}}}} e^{- L k_{1}} e^{i L k_{0}} e^{2 i k_{0} x} + i k_{0}^{2} \\sqrt{\\frac{i k_{0} e^{i L \\overline{k_{0}}}}{e^{i L k_{0}} - e^{i L \\overline{k_{0}}}} - \\frac{i e^{i L \\overline{k_{0}}} \\overline{k_{0}}}{e^{i L k_{0}} - e^{i L \\overline{k_{0}}}}} e^{- L k_{1}} e^{i L k_{0}} + 2 k_{0} k_{1} \\sqrt{\\frac{i k_{0} e^{i L \\overline{k_{0}}}}{e^{i L k_{0}} - e^{i L \\overline{k_{0}}}} - \\frac{i e^{i L \\overline{k_{0}}} \\overline{k_{0}}}{e^{i L k_{0}} - e^{i L \\overline{k_{0}}}}} e^{L k_{1}} e^{i L k_{0}} e^{2 i k_{0} x} + 2 k_{0} k_{1} \\sqrt{\\frac{i k_{0} e^{i L \\overline{k_{0}}}}{e^{i L k_{0}} - e^{i L \\overline{k_{0}}}} - \\frac{i e^{i L \\overline{k_{0}}} \\overline{k_{0}}}{e^{i L k_{0}} - e^{i L \\overline{k_{0}}}}} e^{- L k_{1}} e^{i L k_{0}} e^{2 i k_{0} x} + i k_{1}^{2} \\sqrt{\\frac{i k_{0} e^{i L \\overline{k_{0}}}}{e^{i L k_{0}} - e^{i L \\overline{k_{0}}}} - \\frac{i e^{i L \\overline{k_{0}}} \\overline{k_{0}}}{e^{i L k_{0}} - e^{i L \\overline{k_{0}}}}} e^{L k_{1}} e^{i L k_{0}} e^{2 i k_{0} x} - i k_{1}^{2} \\sqrt{\\frac{i k_{0} e^{i L \\overline{k_{0}}}}{e^{i L k_{0}} - e^{i L \\overline{k_{0}}}} - \\frac{i e^{i L \\overline{k_{0}}} \\overline{k_{0}}}{e^{i L k_{0}} - e^{i L \\overline{k_{0}}}}} e^{L k_{1}} e^{i L k_{0}} - i k_{1}^{2} \\sqrt{\\frac{i k_{0} e^{i L \\overline{k_{0}}}}{e^{i L k_{0}} - e^{i L \\overline{k_{0}}}} - \\frac{i e^{i L \\overline{k_{0}}} \\overline{k_{0}}}{e^{i L k_{0}} - e^{i L \\overline{k_{0}}}}} e^{- L k_{1}} e^{i L k_{0}} e^{2 i k_{0} x} + i k_{1}^{2} \\sqrt{\\frac{i k_{0} e^{i L \\overline{k_{0}}}}{e^{i L k_{0}} - e^{i L \\overline{k_{0}}}} - \\frac{i e^{i L \\overline{k_{0}}} \\overline{k_{0}}}{e^{i L k_{0}} - e^{i L \\overline{k_{0}}}}} e^{- L k_{1}} e^{i L k_{0}}\\right) e^{- i k_{0} x}}{4 k_{0} k_{1}}$"
      ],
      "text/plain": [
       "(-I*k_0**2*sqrt(I*k_0*exp(I*L*conjugate(k_0))/(exp(I*L*k_0) - exp(I*L*conjugate(k_0))) - I*exp(I*L*conjugate(k_0))*conjugate(k_0)/(exp(I*L*k_0) - exp(I*L*conjugate(k_0))))*exp(L*k_1)*exp(I*L*k_0)*exp(2*I*k_0*x) - I*k_0**2*sqrt(I*k_0*exp(I*L*conjugate(k_0))/(exp(I*L*k_0) - exp(I*L*conjugate(k_0))) - I*exp(I*L*conjugate(k_0))*conjugate(k_0)/(exp(I*L*k_0) - exp(I*L*conjugate(k_0))))*exp(L*k_1)*exp(I*L*k_0) + I*k_0**2*sqrt(I*k_0*exp(I*L*conjugate(k_0))/(exp(I*L*k_0) - exp(I*L*conjugate(k_0))) - I*exp(I*L*conjugate(k_0))*conjugate(k_0)/(exp(I*L*k_0) - exp(I*L*conjugate(k_0))))*exp(-L*k_1)*exp(I*L*k_0)*exp(2*I*k_0*x) + I*k_0**2*sqrt(I*k_0*exp(I*L*conjugate(k_0))/(exp(I*L*k_0) - exp(I*L*conjugate(k_0))) - I*exp(I*L*conjugate(k_0))*conjugate(k_0)/(exp(I*L*k_0) - exp(I*L*conjugate(k_0))))*exp(-L*k_1)*exp(I*L*k_0) + 2*k_0*k_1*sqrt(I*k_0*exp(I*L*conjugate(k_0))/(exp(I*L*k_0) - exp(I*L*conjugate(k_0))) - I*exp(I*L*conjugate(k_0))*conjugate(k_0)/(exp(I*L*k_0) - exp(I*L*conjugate(k_0))))*exp(L*k_1)*exp(I*L*k_0)*exp(2*I*k_0*x) + 2*k_0*k_1*sqrt(I*k_0*exp(I*L*conjugate(k_0))/(exp(I*L*k_0) - exp(I*L*conjugate(k_0))) - I*exp(I*L*conjugate(k_0))*conjugate(k_0)/(exp(I*L*k_0) - exp(I*L*conjugate(k_0))))*exp(-L*k_1)*exp(I*L*k_0)*exp(2*I*k_0*x) + I*k_1**2*sqrt(I*k_0*exp(I*L*conjugate(k_0))/(exp(I*L*k_0) - exp(I*L*conjugate(k_0))) - I*exp(I*L*conjugate(k_0))*conjugate(k_0)/(exp(I*L*k_0) - exp(I*L*conjugate(k_0))))*exp(L*k_1)*exp(I*L*k_0)*exp(2*I*k_0*x) - I*k_1**2*sqrt(I*k_0*exp(I*L*conjugate(k_0))/(exp(I*L*k_0) - exp(I*L*conjugate(k_0))) - I*exp(I*L*conjugate(k_0))*conjugate(k_0)/(exp(I*L*k_0) - exp(I*L*conjugate(k_0))))*exp(L*k_1)*exp(I*L*k_0) - I*k_1**2*sqrt(I*k_0*exp(I*L*conjugate(k_0))/(exp(I*L*k_0) - exp(I*L*conjugate(k_0))) - I*exp(I*L*conjugate(k_0))*conjugate(k_0)/(exp(I*L*k_0) - exp(I*L*conjugate(k_0))))*exp(-L*k_1)*exp(I*L*k_0)*exp(2*I*k_0*x) + I*k_1**2*sqrt(I*k_0*exp(I*L*conjugate(k_0))/(exp(I*L*k_0) - exp(I*L*conjugate(k_0))) - I*exp(I*L*conjugate(k_0))*conjugate(k_0)/(exp(I*L*k_0) - exp(I*L*conjugate(k_0))))*exp(-L*k_1)*exp(I*L*k_0))*exp(-I*k_0*x)/(4*k_0*k_1)"
      ]
     },
     "execution_count": 443,
     "metadata": {},
     "output_type": "execute_result"
    }
   ],
   "source": [
    "#dir( \n",
    "psi_numerical[ 0 ].last_step().rhs.cancel().refine()\n",
    "# )"
   ]
  },
  {
   "cell_type": "code",
   "execution_count": null,
   "id": "25fd5239-33cd-4a8d-9147-470a01fbe5d2",
   "metadata": {},
   "outputs": [],
   "source": []
  },
  {
   "cell_type": "code",
   "execution_count": 351,
   "id": "28cc8b29-172b-4194-8d27-506fb5121306",
   "metadata": {},
   "outputs": [
    {
     "data": {
      "text/plain": [
       "'Eq(psi(x), sqrt(I*(k_0 - conjugate(k_0))*exp(I*L*conjugate(k_0))/(exp(I*L*k_0) - exp(I*L*conjugate(k_0))))*((k_0*(I*k_0 + k_1 + (-I*k_0 + k_1)*exp(2*L*k_1)) - I*k_1*(I*k_0 + k_1 + (I*k_0 - k_1)*exp(2*L*k_1)))*exp(L*(I*k_0 - k_1) + 2*I*k_0*x) + (k_0*(I*k_0 + k_1 + (-I*k_0 + k_1)*exp(2*L*k_1)) + I*k_1*(I*k_0 + k_1 + (I*k_0 - k_1)*exp(2*L*k_1)))*exp(L*(I*k_0 - k_1)))*exp(-I*k_0*x)/(4*k_0*k_1))'"
      ]
     },
     "execution_count": 352,
     "metadata": {},
     "output_type": "execute_result"
    }
   ],
   "source": [
    "str( psi_numerical[ 0 ].last_step().rhs )"
   ]
  },
  {
   "cell_type": "code",
   "execution_count": null,
   "id": "14d87c68-5a9f-430b-b617-912a21945bc9",
   "metadata": {},
   "outputs": [],
   "source": []
  },
  {
   "cell_type": "code",
   "execution_count": null,
   "id": "00da1b7a-619e-4884-9e8c-98c812bca58f",
   "metadata": {},
   "outputs": [],
   "source": []
  },
  {
   "cell_type": "code",
   "execution_count": 120,
   "id": "1dd0cd8c-5364-48d9-bb54-2691655884be",
   "metadata": {},
   "outputs": [
    {
     "data": {
      "text/latex": [
       "$\\displaystyle \\frac{2 E \\text{m}}{\\hbar^{2}}$"
      ],
      "text/plain": [
       "2*m*E/hbar**2"
      ]
     },
     "execution_count": 120,
     "metadata": {},
     "output_type": "execute_result"
    }
   ],
   "source": [
    "k_squared.rhs"
   ]
  },
  {
   "cell_type": "code",
   "execution_count": 122,
   "id": "928c242d-d5c1-4f37-81ff-6c55735eced2",
   "metadata": {},
   "outputs": [],
   "source": [
    "position_axis = np.linspace( 0, 1 )"
   ]
  },
  {
   "cell_type": "code",
   "execution_count": null,
   "id": "f9941920-2acf-408f-b999-242a8014ea22",
   "metadata": {},
   "outputs": [],
   "source": []
  },
  {
   "cell_type": "code",
   "execution_count": null,
   "id": "f7afc4cb-724e-453f-a38a-4e1807c2801b",
   "metadata": {},
   "outputs": [],
   "source": []
  }
 ],
 "metadata": {
  "kernelspec": {
   "display_name": "Python 3 (ipykernel)",
   "language": "python",
   "name": "python3"
  },
  "language_info": {
   "codemirror_mode": {
    "name": "ipython",
    "version": 3
   },
   "file_extension": ".py",
   "mimetype": "text/x-python",
   "name": "python",
   "nbconvert_exporter": "python",
   "pygments_lexer": "ipython3",
   "version": "3.9.10"
  }
 },
 "nbformat": 4,
 "nbformat_minor": 5
}
