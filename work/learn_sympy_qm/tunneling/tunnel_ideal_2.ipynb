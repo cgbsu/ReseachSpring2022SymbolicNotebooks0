{
 "cells": [
  {
   "cell_type": "code",
   "execution_count": 1,
   "id": "8ac3faff-b15a-4620-b3a9-eb59a3f261f8",
   "metadata": {},
   "outputs": [],
   "source": [
    "import sympy as sp"
   ]
  },
  {
   "cell_type": "code",
   "execution_count": 2,
   "id": "02f455bc-1df0-4dce-b8e0-27d83ec266fe",
   "metadata": {},
   "outputs": [],
   "source": [
    "import matplotlib.pyplot as plt"
   ]
  },
  {
   "cell_type": "code",
   "execution_count": 3,
   "id": "62a0e006-8c9d-4479-8a90-b2dcaf056fe9",
   "metadata": {},
   "outputs": [],
   "source": [
    "import sympy.physics.units.quantities as sq"
   ]
  },
  {
   "cell_type": "code",
   "execution_count": 4,
   "id": "edbf158f-5ce5-4d42-9c8b-06dee822119e",
   "metadata": {},
   "outputs": [],
   "source": [
    "from sympy.physics.quantum.constants import hbar"
   ]
  },
  {
   "cell_type": "code",
   "execution_count": null,
   "id": "1cc2604c-dfd2-45e3-9216-5cc3f52d15af",
   "metadata": {},
   "outputs": [],
   "source": []
  },
  {
   "cell_type": "code",
   "execution_count": 5,
   "id": "cb102f2f-3ab8-44d9-84fb-705cb17f9a62",
   "metadata": {},
   "outputs": [],
   "source": [
    "PSI_FUNCTION = function( \"psi\" )( x )\n",
    "POTENTIAL_FUNCTION = function( \"V\" )( x )\n",
    "TOTAL_ENERGY_SYMBOL = var( 'E' )\n",
    "MASS_SYMBOL = var( 'm' )\n",
    "REDUCED_PLANCK_CONSTANT_SYMBOL = var( \"hbar\" )#sq.Symbol( \"hbar\" )\n",
    "POSITION_SYMBOL = var( 'x' )#x#sp.Symbol( 'x', positive = True )\n",
    "\n",
    "def time_independent_schroedinger_equation( \n",
    "            psi = PSI_FUNCTION, \n",
    "            potential = POTENTIAL_FUNCTION, \n",
    "            total_energy = TOTAL_ENERGY_SYMBOL, \n",
    "            mass = MASS_SYMBOL, \n",
    "            reduced_planck_constant = REDUCED_PLANCK_CONSTANT_SYMBOL, \n",
    "            position = POSITION_SYMBOL \n",
    "        ): \n",
    "    return -reduced_planck_constant ** 2 / 2 * mass \\\n",
    "                    * diff( psi, position, 2 ) \\\n",
    "                    + potential * psi == total_energy * psi\n"
   ]
  },
  {
   "cell_type": "code",
   "execution_count": 6,
   "id": "4b4f60c2-e854-4e1a-865f-8af0a27c2b92",
   "metadata": {},
   "outputs": [],
   "source": [
    "set_equal = lambda to_set, value : to_set == value\n",
    "both_sides = lambda equation, opreation : opreation( equation.lhs() ) == opreation( equation.rhs() )\n",
    "equation_to_dict = lambda equation : { equation.lhs() : equation.rhs() }"
   ]
  },
  {
   "cell_type": "code",
   "execution_count": 7,
   "id": "0520960e-9f69-45df-95c8-39b208fafb1e",
   "metadata": {},
   "outputs": [],
   "source": [
    "hbar_eq = sp.Eq( hbar, sp.physics.units.planck / ( 2 * sp.pi ) )"
   ]
  },
  {
   "cell_type": "code",
   "execution_count": 8,
   "id": "7f5af676-f83a-4320-9fdc-a138bff58d6d",
   "metadata": {},
   "outputs": [
    {
     "data": {
      "text/latex": [
       "$\\displaystyle \\hbar = \\frac{\\text{h}}{2 \\pi}$"
      ],
      "text/plain": [
       "Eq(hbar, planck/(2*pi))"
      ]
     },
     "execution_count": 8,
     "metadata": {},
     "output_type": "execute_result"
    }
   ],
   "source": [
    "hbar_eq"
   ]
  },
  {
   "cell_type": "code",
   "execution_count": null,
   "id": "117dbcc1-bfc0-4739-bc69-5a371f5b0064",
   "metadata": {},
   "outputs": [],
   "source": []
  },
  {
   "cell_type": "code",
   "execution_count": 9,
   "id": "c8de0c1f-cf01-4af2-b6cb-2518ba73412e",
   "metadata": {},
   "outputs": [],
   "source": [
    "psi = PSI_FUNCTION\n",
    "potential = POTENTIAL_FUNCTION\n",
    "total_energy = TOTAL_ENERGY_SYMBOL\n",
    "mass = MASS_SYMBOL\n",
    "#reduced_planck_constant = REDUCED_PLANCK_CONSTANT_SYMBOL\n",
    "x = POSITION_SYMBOL"
   ]
  },
  {
   "cell_type": "code",
   "execution_count": 10,
   "id": "a9ca49b3-22fa-45f3-af7b-240ed1b53861",
   "metadata": {},
   "outputs": [],
   "source": [
    "hb = var( \"hbar\" )"
   ]
  },
  {
   "cell_type": "code",
   "execution_count": 11,
   "id": "63722f78-06f5-41d2-8252-449d6c2c1341",
   "metadata": {},
   "outputs": [],
   "source": [
    "k = var( 'k' )"
   ]
  },
  {
   "cell_type": "code",
   "execution_count": 12,
   "id": "75215216-251e-4c12-bb18-79a0faece9d3",
   "metadata": {},
   "outputs": [],
   "source": [
    "k_squared = k ** 2 == ( ( 2 * total_energy * mass ) / ( hb ** 2 ) )"
   ]
  },
  {
   "cell_type": "code",
   "execution_count": 13,
   "id": "b2693923-d6ef-4991-99e1-9b477a504c4d",
   "metadata": {},
   "outputs": [
    {
     "data": {
      "text/plain": [
       "k^2 == 2*E*m/hbar^2"
      ]
     },
     "execution_count": 13,
     "metadata": {},
     "output_type": "execute_result"
    }
   ],
   "source": [
    "k_squared"
   ]
  },
  {
   "cell_type": "code",
   "execution_count": null,
   "id": "1e4e9438-c0fe-41aa-a64e-045b2ae99daf",
   "metadata": {},
   "outputs": [],
   "source": []
  },
  {
   "cell_type": "code",
   "execution_count": 14,
   "id": "eee1357f-abbd-4779-8e8c-8230db509fe3",
   "metadata": {},
   "outputs": [],
   "source": [
    "class ZeroPotential( sp.Function ): \n",
    "    @classmethod\n",
    "    def eval( cls, position ):\n",
    "        return 0"
   ]
  },
  {
   "cell_type": "code",
   "execution_count": 15,
   "id": "069ed962-7243-4ffc-b5a5-e46087389c39",
   "metadata": {},
   "outputs": [],
   "source": [
    "#https://docs.sympy.org/latest/modules/assumptions/index.html#querying\n",
    "#https://docs.sympy.org/latest/modules/codegen.html#module-sympy.codegen.cxxnodes\n",
    "\n",
    "class Potential( sp.Function ): \n",
    "    DEFAULT_POTENTIAL = var( \"V_0\" )#sp.Symbol( \"V_0\" )\n",
    "    @classmethod\n",
    "    def eval( cls, position, potential = DEFAULT_POTENTIAL ): \n",
    "        return potential"
   ]
  },
  {
   "cell_type": "code",
   "execution_count": 16,
   "id": "3c91b1af-b68c-49b0-bfa1-3f186a3c6b04",
   "metadata": {},
   "outputs": [],
   "source": [
    "class TunnelPotential( sp.Function ): \n",
    "    DEFAULT_WELL_LENGTH = var( 'L' )#sp.Symbol( 'L' )\n",
    "    DEFAULT_POTENTIAL = Potential.DEFAULT_POTENTIAL\n",
    "    DEFAULT_START = 0\n",
    "    @classmethod\n",
    "    def eval( cls, position, length = DEFAULT_WELL_LENGTH, \n",
    "             start = DEFAULT_START, potential = DEFAULT_POTENTIAL ): \n",
    "        if position < start or position > sp.simplify( length + start ): \n",
    "            return ZeroPotential.eval( position )\n",
    "        return Potential.eval( position, potential )"
   ]
  },
  {
   "cell_type": "code",
   "execution_count": null,
   "id": "9f1b6d08-af41-4313-a53e-d8c7e0035ee7",
   "metadata": {},
   "outputs": [],
   "source": []
  },
  {
   "cell_type": "code",
   "execution_count": 31,
   "id": "313234d9-a63a-4a14-876b-7e42ddb105a1",
   "metadata": {},
   "outputs": [],
   "source": [
    "class Stepper: \n",
    "\n",
    "    LEFT = \"LEFT\", \n",
    "    RIGHT = \"RIGHT\"\n",
    "    \n",
    "    def __init__( self, first_step, new_steps = None ): \n",
    "        self.steps = new_steps if new_steps else []\n",
    "        self.steps.append( first_step )\n",
    "        self.chaining = False\n",
    "    \n",
    "    def step_number( self, step = None ): \n",
    "        return ( len( self.steps ) - 1 ) if not step else step\n",
    "    \n",
    "    def last_step( self, step = None ):\n",
    "        return self.steps[ self.step_number( step ) ]\n",
    "    \n",
    "    def _return_chain( self, step, chain ): \n",
    "        return self if ( chain or self.chaining ) else step        \n",
    "    \n",
    "    def add_step( self, new_step, chain = False ):\n",
    "        self.steps.append( new_step )\n",
    "        return self._return_chain( self.steps[ -1 ], chain )\n",
    "\n",
    "    def operate( self, operation, step = None, chain = False ):\n",
    "        self.steps.append( operation( self.last_step( step ) ) )\n",
    "        return self._return_chain( self.steps[ -1 ], chain )\n",
    "\n",
    "    def manipulate( self, operation, chain = False ): \n",
    "        return self._return_chain( self.add_step( \n",
    "                both_sides( self.last_step(), operation ) ), \n",
    "                chain \n",
    "            )\n",
    "    \n",
    "    def delete_step( self, step ): \n",
    "        old_step = self.steps[ step ]\n",
    "        del self.steps[ step ]\n",
    "        return old_step\n",
    "    \n",
    "    def undo( self, step = None, chain = False ): \n",
    "        return self._return_chain( \n",
    "                self.delete_step( self.step_number( step ) ), \n",
    "                chain \n",
    "            )\n",
    "    \n",
    "    def clone( self, from_step = None ):\n",
    "        return self.branch( lambda blank : blank, from_step )\n",
    "    \n",
    "    def branch( self, operation = None, from_step = None ): \n",
    "        from_step = self.step_number( from_step )\n",
    "        return Stepper( \n",
    "                both_sides( self.last_step( from_step ), operation ), \n",
    "                self.steps[ : self.step_number( from_step ) : ], \n",
    "            )\n",
    "    \n",
    "    def substitute_constant( self, constant, chain = False ):\n",
    "            return self.operate( lambda step : step.subs( { constant.rhs() : constant.lhs() } ) )\n",
    "    \n",
    "    def negate_add( self, side_to_negate_add, chain = False ): \n",
    "        last_step = self.last_step()\n",
    "        return self.manipulate( \n",
    "                lambda side : side + -( \n",
    "                    last_step.lhs() if side_to_negate_add == Stepper.LEFT \n",
    "                            else last_step.rhs() \n",
    "                        ), \n",
    "                chain \n",
    "            )\n",
    "    \n",
    "    def rename( self, old_symbol, new_symbol_name, chain = False ): \n",
    "        last_step = self.last_step()\n",
    "        assert old_symbol in last_step.atoms() or old_symbol in last_step.atoms( sp.Function )\n",
    "        return self.add_step( last_step.subs( \n",
    "            old_symbol if type( old_symbol ) == dict \\\n",
    "                    else { old_symbol : new_symbol_name } ), chain \n",
    "                )\n",
    "    \n",
    "    def chain( self, operation ):\n",
    "        self.chaining = True\n",
    "        operation( self )\n",
    "        self.chaining = False\n",
    "        return self\n",
    "    \n",
    "    def begin_chain( self ): \n",
    "        self.chaining = True\n",
    "        return self\n",
    "    \n",
    "    def end_chain( self ): \n",
    "        self.chaining = False\n",
    "        return self\n"
   ]
  },
  {
   "cell_type": "code",
   "execution_count": null,
   "id": "dd6deedd-3ec2-4632-97c1-f5eabf1f7c1c",
   "metadata": {},
   "outputs": [],
   "source": []
  },
  {
   "cell_type": "code",
   "execution_count": 32,
   "id": "d197311f-e70a-4f4a-83b3-c4b9b63b90b6",
   "metadata": {},
   "outputs": [
    {
     "data": {
      "text/plain": [
       "k^2 == 2*E*m/hbar^2"
      ]
     },
     "execution_count": 32,
     "metadata": {},
     "output_type": "execute_result"
    }
   ],
   "source": [
    "k_squared"
   ]
  },
  {
   "cell_type": "code",
   "execution_count": null,
   "id": "7c0dc405-11a8-418a-8438-43b74e2a7e30",
   "metadata": {},
   "outputs": [],
   "source": []
  },
  {
   "cell_type": "code",
   "execution_count": 33,
   "id": "bd964d7c-4905-464e-9c60-862b0cab8f64",
   "metadata": {},
   "outputs": [],
   "source": [
    "psi_region = [\n",
    "        Stepper( time_independent_schroedinger_equation( potential = 0 ) ), #ZeroPotential ) ), \n",
    "        Stepper( time_independent_schroedinger_equation( potential = Potential.DEFAULT_POTENTIAL ) ), \n",
    "        Stepper( time_independent_schroedinger_equation( potential =  0 ) ) #ZeroPotential ) )\n",
    "    ]"
   ]
  },
  {
   "cell_type": "code",
   "execution_count": null,
   "id": "5c111045-3b70-4c55-9cbc-1e5d85f71eea",
   "metadata": {},
   "outputs": [],
   "source": []
  },
  {
   "cell_type": "code",
   "execution_count": 34,
   "id": "3f054b05-10a4-4704-9d49-01d3f6011169",
   "metadata": {},
   "outputs": [
    {
     "data": {
      "text/plain": [
       "-1/2*hbar^2*m*diff(psi(x), x, x) == E*psi(x)"
      ]
     },
     "execution_count": 34,
     "metadata": {},
     "output_type": "execute_result"
    }
   ],
   "source": [
    "psi_region[ 0 ].last_step()"
   ]
  },
  {
   "cell_type": "code",
   "execution_count": null,
   "id": "4f4a83af-1da9-46e8-9cc2-6befdf6b6940",
   "metadata": {},
   "outputs": [],
   "source": []
  },
  {
   "cell_type": "code",
   "execution_count": null,
   "id": "552c72ea-f6dc-4adf-9f0c-c19ae27e1369",
   "metadata": {},
   "outputs": [],
   "source": []
  },
  {
   "cell_type": "code",
   "execution_count": 35,
   "id": "dd839724-d545-46c9-ae76-332e3f5b4399",
   "metadata": {},
   "outputs": [
    {
     "data": {
      "text/plain": [
       "-1/2*hbar^2*m*diff(psi(x), x, x) - E*psi(x) == 0"
      ]
     },
     "execution_count": 35,
     "metadata": {},
     "output_type": "execute_result"
    }
   ],
   "source": [
    "psi_region[ 0 ].manipulate( lambda side : ( side - psi_region[ 0 ].last_step().rhs() ) )#.simplify() )"
   ]
  },
  {
   "cell_type": "code",
   "execution_count": 36,
   "id": "35f9c7f2-f8cc-40fc-a892-7086385dc1fe",
   "metadata": {},
   "outputs": [
    {
     "data": {
      "text/plain": [
       "1/2*(hbar^2*m*diff(psi(x), x, x) + 2*E*psi(x))/E == 0"
      ]
     },
     "execution_count": 36,
     "metadata": {},
     "output_type": "execute_result"
    }
   ],
   "source": [
    "psi_region[ 0 ].manipulate( lambda side : -( side / total_energy ).simplify() )"
   ]
  },
  {
   "cell_type": "code",
   "execution_count": 37,
   "id": "92598874-1476-4de3-a0c2-983217a325a4",
   "metadata": {},
   "outputs": [
    {
     "data": {
      "text/plain": [
       "1/2*(hbar^2*m*diff(psi(x), x, x) + 2*E*psi(x))/E - psi(x) == -psi(x)"
      ]
     },
     "execution_count": 37,
     "metadata": {},
     "output_type": "execute_result"
    }
   ],
   "source": [
    "psi_region[ 0 ].manipulate( lambda side : side - psi )"
   ]
  },
  {
   "cell_type": "code",
   "execution_count": 38,
   "id": "5a42ee71-6557-44cb-8a17-dc7df5480b66",
   "metadata": {},
   "outputs": [
    {
     "data": {
      "text/plain": [
       "E*m*((hbar^2*m*diff(psi(x), x, x) + 2*E*psi(x))/E - 2*psi(x))/hbar^2 == -2*E*m*psi(x)/hbar^2"
      ]
     },
     "execution_count": 38,
     "metadata": {},
     "output_type": "execute_result"
    }
   ],
   "source": [
    "psi_region[ 0 ].manipulate( lambda side : side * k_squared.rhs() )"
   ]
  },
  {
   "cell_type": "code",
   "execution_count": 39,
   "id": "e3df96fc-258d-446e-bc34-7f758ae0bff3",
   "metadata": {},
   "outputs": [
    {
     "data": {
      "text/plain": [
       "E*m*((hbar^2*m*diff(psi(x), x, x) + 2*E*psi(x))/E - 2*psi(x))/(hbar^2*psi(x)) == -2*E*m/hbar^2"
      ]
     },
     "execution_count": 39,
     "metadata": {},
     "output_type": "execute_result"
    }
   ],
   "source": [
    "psi_region[ 0 ].manipulate( lambda side : side / psi )"
   ]
  },
  {
   "cell_type": "code",
   "execution_count": null,
   "id": "8a6a0b6a-4446-4cba-a7c0-13329d1261b5",
   "metadata": {},
   "outputs": [],
   "source": []
  },
  {
   "cell_type": "code",
   "execution_count": 40,
   "id": "2d96a310-33a6-4d5c-a8e0-79585e1afffc",
   "metadata": {},
   "outputs": [
    {
     "data": {
      "text/plain": [
       "k^2 == 2*E*m/hbar^2"
      ]
     },
     "execution_count": 40,
     "metadata": {},
     "output_type": "execute_result"
    }
   ],
   "source": [
    "k_squared"
   ]
  },
  {
   "cell_type": "code",
   "execution_count": null,
   "id": "190e3b4b-2c27-42c5-a901-311a02ec8430",
   "metadata": {},
   "outputs": [],
   "source": []
  },
  {
   "cell_type": "code",
   "execution_count": 41,
   "id": "76aff0fa-030d-47bf-ba43-6d52020b4b3a",
   "metadata": {},
   "outputs": [
    {
     "data": {
      "text/plain": [
       "E*m*((hbar^2*m*diff(psi(x), x, x) + 2*E*psi(x))/E - 2*psi(x))/(hbar^2*psi(x)) == -2*E*m/hbar^2"
      ]
     },
     "execution_count": 41,
     "metadata": {},
     "output_type": "execute_result"
    }
   ],
   "source": [
    "psi_region[ 0 ].substitute_constant( k_squared )"
   ]
  },
  {
   "cell_type": "code",
   "execution_count": 42,
   "id": "191178ae-40ff-4009-a503-ac2b52ed09f2",
   "metadata": {},
   "outputs": [
    {
     "data": {
      "text/plain": [
       "E*m*((hbar^2*m*diff(psi(x), x, x) + 2*E*psi(x))/E - 2*psi(x))/hbar^2 == -2*E*m*psi(x)/hbar^2"
      ]
     },
     "execution_count": 42,
     "metadata": {},
     "output_type": "execute_result"
    }
   ],
   "source": [
    "psi_region[ 0 ].manipulate( lambda side : side * psi )"
   ]
  },
  {
   "cell_type": "code",
   "execution_count": 43,
   "id": "d14f60c1-638f-46c9-996f-e4e663ad4c4a",
   "metadata": {},
   "outputs": [
    {
     "data": {
      "text/plain": [
       "E*m*((hbar^2*m*diff(psi(x), x, x) + 2*E*psi(x))/E - 2*psi(x))/hbar^2 + 2*E*m*psi(x)/hbar^2 == 0"
      ]
     },
     "execution_count": 43,
     "metadata": {},
     "output_type": "execute_result"
    }
   ],
   "source": [
    "psi_region[ 0 ].negate_add( Stepper.RIGHT )"
   ]
  },
  {
   "cell_type": "code",
   "execution_count": null,
   "id": "7eabac16-5a84-4da1-9e8c-8832225da46c",
   "metadata": {},
   "outputs": [],
   "source": []
  },
  {
   "cell_type": "code",
   "execution_count": 44,
   "id": "a6fc27d2-77cc-429b-b6b5-c7c4347c3f22",
   "metadata": {},
   "outputs": [],
   "source": [
    "# For later\n",
    "\n",
    "psi_region[ 2 ] = psi_region[ 0 ].clone()"
   ]
  },
  {
   "cell_type": "code",
   "execution_count": 45,
   "id": "54ef06be-6b33-4c7a-80c1-17df971d6a83",
   "metadata": {},
   "outputs": [
    {
     "data": {
      "text/plain": [
       "E*m*((hbar^2*m*diff(psi(x), x, x) + 2*E*psi(x))/E - 2*psi(x))/hbar^2 + 2*E*m*psi(x)/hbar^2 == 0"
      ]
     },
     "execution_count": 45,
     "metadata": {},
     "output_type": "execute_result"
    }
   ],
   "source": [
    "psi_region[ 2 ].last_step()"
   ]
  },
  {
   "cell_type": "code",
   "execution_count": 46,
   "id": "21c54cd6-1581-41c6-9901-28dff2cc93ab",
   "metadata": {},
   "outputs": [],
   "source": [
    "k_0 = sp.Symbol( \"k_0\" )"
   ]
  },
  {
   "cell_type": "code",
   "execution_count": 47,
   "id": "4a8a16dd-be5e-4767-993a-28eff750c228",
   "metadata": {},
   "outputs": [
    {
     "ename": "AttributeError",
     "evalue": "'sage.symbolic.expression.Expression' object has no attribute 'atoms'",
     "output_type": "error",
     "traceback": [
      "\u001b[0;31m---------------------------------------------------------------------------\u001b[0m",
      "\u001b[0;31mAttributeError\u001b[0m                            Traceback (most recent call last)",
      "\u001b[0;32m/tmp/ipykernel_9067/1928877851.py\u001b[0m in \u001b[0;36m<cell line: 1>\u001b[0;34m()\u001b[0m\n\u001b[0;32m----> 1\u001b[0;31m \u001b[0mpsi_region\u001b[0m\u001b[0;34m[\u001b[0m \u001b[0mInteger\u001b[0m\u001b[0;34m(\u001b[0m\u001b[0;36m0\u001b[0m\u001b[0;34m)\u001b[0m \u001b[0;34m]\u001b[0m\u001b[0;34m.\u001b[0m\u001b[0mrename\u001b[0m\u001b[0;34m(\u001b[0m \u001b[0mk\u001b[0m\u001b[0;34m,\u001b[0m \u001b[0mk_0\u001b[0m \u001b[0;34m)\u001b[0m\u001b[0;34m\u001b[0m\u001b[0;34m\u001b[0m\u001b[0m\n\u001b[0m",
      "\u001b[0;32m/tmp/ipykernel_9067/3495809542.py\u001b[0m in \u001b[0;36mrename\u001b[0;34m(self, old_symbol, new_symbol_name, chain)\u001b[0m\n\u001b[1;32m     68\u001b[0m     \u001b[0;32mdef\u001b[0m \u001b[0mrename\u001b[0m\u001b[0;34m(\u001b[0m \u001b[0mself\u001b[0m\u001b[0;34m,\u001b[0m \u001b[0mold_symbol\u001b[0m\u001b[0;34m,\u001b[0m \u001b[0mnew_symbol_name\u001b[0m\u001b[0;34m,\u001b[0m \u001b[0mchain\u001b[0m \u001b[0;34m=\u001b[0m \u001b[0;32mFalse\u001b[0m \u001b[0;34m)\u001b[0m\u001b[0;34m:\u001b[0m\u001b[0;34m\u001b[0m\u001b[0;34m\u001b[0m\u001b[0m\n\u001b[1;32m     69\u001b[0m         \u001b[0mlast_step\u001b[0m \u001b[0;34m=\u001b[0m \u001b[0mself\u001b[0m\u001b[0;34m.\u001b[0m\u001b[0mlast_step\u001b[0m\u001b[0;34m(\u001b[0m\u001b[0;34m)\u001b[0m\u001b[0;34m\u001b[0m\u001b[0;34m\u001b[0m\u001b[0m\n\u001b[0;32m---> 70\u001b[0;31m         \u001b[0;32massert\u001b[0m \u001b[0mold_symbol\u001b[0m \u001b[0;32min\u001b[0m \u001b[0mlast_step\u001b[0m\u001b[0;34m.\u001b[0m\u001b[0matoms\u001b[0m\u001b[0;34m(\u001b[0m\u001b[0;34m)\u001b[0m \u001b[0;32mor\u001b[0m \u001b[0mold_symbol\u001b[0m \u001b[0;32min\u001b[0m \u001b[0mlast_step\u001b[0m\u001b[0;34m.\u001b[0m\u001b[0matoms\u001b[0m\u001b[0;34m(\u001b[0m \u001b[0msp\u001b[0m\u001b[0;34m.\u001b[0m\u001b[0mFunction\u001b[0m \u001b[0;34m)\u001b[0m\u001b[0;34m\u001b[0m\u001b[0;34m\u001b[0m\u001b[0m\n\u001b[0m\u001b[1;32m     71\u001b[0m         return self.add_step( last_step.subs( \n\u001b[1;32m     72\u001b[0m             old_symbol if type( old_symbol ) == dict                     else { old_symbol : new_symbol_name } ), chain \n",
      "\u001b[0;32m/opt/conda/envs/sage/lib/python3.9/site-packages/sage/structure/element.pyx\u001b[0m in \u001b[0;36msage.structure.element.Element.__getattr__ (build/cythonized/sage/structure/element.c:4820)\u001b[0;34m()\u001b[0m\n\u001b[1;32m    492\u001b[0m             \u001b[0mAttributeError\u001b[0m\u001b[0;34m:\u001b[0m \u001b[0;34m'LeftZeroSemigroup_with_category.element_class'\u001b[0m \u001b[0mobject\u001b[0m \u001b[0mhas\u001b[0m \u001b[0mno\u001b[0m \u001b[0mattribute\u001b[0m \u001b[0;34m'blah_blah'\u001b[0m\u001b[0;34m\u001b[0m\u001b[0;34m\u001b[0m\u001b[0m\n\u001b[1;32m    493\u001b[0m         \"\"\"\n\u001b[0;32m--> 494\u001b[0;31m         \u001b[0;32mreturn\u001b[0m \u001b[0mself\u001b[0m\u001b[0;34m.\u001b[0m\u001b[0mgetattr_from_category\u001b[0m\u001b[0;34m(\u001b[0m\u001b[0mname\u001b[0m\u001b[0;34m)\u001b[0m\u001b[0;34m\u001b[0m\u001b[0;34m\u001b[0m\u001b[0m\n\u001b[0m\u001b[1;32m    495\u001b[0m \u001b[0;34m\u001b[0m\u001b[0m\n\u001b[1;32m    496\u001b[0m     \u001b[0mcdef\u001b[0m \u001b[0mgetattr_from_category\u001b[0m\u001b[0;34m(\u001b[0m\u001b[0mself\u001b[0m\u001b[0;34m,\u001b[0m \u001b[0mname\u001b[0m\u001b[0;34m)\u001b[0m\u001b[0;34m:\u001b[0m\u001b[0;34m\u001b[0m\u001b[0;34m\u001b[0m\u001b[0m\n",
      "\u001b[0;32m/opt/conda/envs/sage/lib/python3.9/site-packages/sage/structure/element.pyx\u001b[0m in \u001b[0;36msage.structure.element.Element.getattr_from_category (build/cythonized/sage/structure/element.c:4932)\u001b[0;34m()\u001b[0m\n\u001b[1;32m    505\u001b[0m         \u001b[0;32melse\u001b[0m\u001b[0;34m:\u001b[0m\u001b[0;34m\u001b[0m\u001b[0;34m\u001b[0m\u001b[0m\n\u001b[1;32m    506\u001b[0m             \u001b[0mcls\u001b[0m \u001b[0;34m=\u001b[0m \u001b[0mP\u001b[0m\u001b[0;34m.\u001b[0m\u001b[0m_abstract_element_class\u001b[0m\u001b[0;34m\u001b[0m\u001b[0;34m\u001b[0m\u001b[0m\n\u001b[0;32m--> 507\u001b[0;31m         \u001b[0;32mreturn\u001b[0m \u001b[0mgetattr_from_other_class\u001b[0m\u001b[0;34m(\u001b[0m\u001b[0mself\u001b[0m\u001b[0;34m,\u001b[0m \u001b[0mcls\u001b[0m\u001b[0;34m,\u001b[0m \u001b[0mname\u001b[0m\u001b[0;34m)\u001b[0m\u001b[0;34m\u001b[0m\u001b[0;34m\u001b[0m\u001b[0m\n\u001b[0m\u001b[1;32m    508\u001b[0m \u001b[0;34m\u001b[0m\u001b[0m\n\u001b[1;32m    509\u001b[0m     \u001b[0;32mdef\u001b[0m \u001b[0m__dir__\u001b[0m\u001b[0;34m(\u001b[0m\u001b[0mself\u001b[0m\u001b[0;34m)\u001b[0m\u001b[0;34m:\u001b[0m\u001b[0;34m\u001b[0m\u001b[0;34m\u001b[0m\u001b[0m\n",
      "\u001b[0;32m/opt/conda/envs/sage/lib/python3.9/site-packages/sage/cpython/getattr.pyx\u001b[0m in \u001b[0;36msage.cpython.getattr.getattr_from_other_class (build/cythonized/sage/cpython/getattr.c:2696)\u001b[0;34m()\u001b[0m\n\u001b[1;32m    359\u001b[0m         \u001b[0mdummy_error_message\u001b[0m\u001b[0;34m.\u001b[0m\u001b[0mcls\u001b[0m \u001b[0;34m=\u001b[0m \u001b[0mtype\u001b[0m\u001b[0;34m(\u001b[0m\u001b[0mself\u001b[0m\u001b[0;34m)\u001b[0m\u001b[0;34m\u001b[0m\u001b[0;34m\u001b[0m\u001b[0m\n\u001b[1;32m    360\u001b[0m         \u001b[0mdummy_error_message\u001b[0m\u001b[0;34m.\u001b[0m\u001b[0mname\u001b[0m \u001b[0;34m=\u001b[0m \u001b[0mname\u001b[0m\u001b[0;34m\u001b[0m\u001b[0;34m\u001b[0m\u001b[0m\n\u001b[0;32m--> 361\u001b[0;31m         \u001b[0;32mraise\u001b[0m \u001b[0mAttributeError\u001b[0m\u001b[0;34m(\u001b[0m\u001b[0mdummy_error_message\u001b[0m\u001b[0;34m)\u001b[0m\u001b[0;34m\u001b[0m\u001b[0;34m\u001b[0m\u001b[0m\n\u001b[0m\u001b[1;32m    362\u001b[0m     \u001b[0mattribute\u001b[0m \u001b[0;34m=\u001b[0m \u001b[0;34m<\u001b[0m\u001b[0mobject\u001b[0m\u001b[0;34m>\u001b[0m\u001b[0mattr\u001b[0m\u001b[0;34m\u001b[0m\u001b[0;34m\u001b[0m\u001b[0m\n\u001b[1;32m    363\u001b[0m     \u001b[0;31m# Check for a descriptor (__get__ in Python)\u001b[0m\u001b[0;34m\u001b[0m\u001b[0;34m\u001b[0m\u001b[0m\n",
      "\u001b[0;31mAttributeError\u001b[0m: 'sage.symbolic.expression.Expression' object has no attribute 'atoms'"
     ]
    }
   ],
   "source": [
    "psi_region[ 0 ].rename( k, k_0 )"
   ]
  },
  {
   "cell_type": "code",
   "execution_count": null,
   "id": "25675bc6-e28f-4977-9fc7-758a0c5021c8",
   "metadata": {},
   "outputs": [],
   "source": []
  },
  {
   "cell_type": "code",
   "execution_count": null,
   "id": "bbec0ee7-021c-47b0-b398-613e64297db1",
   "metadata": {},
   "outputs": [],
   "source": [
    "diff_sol = sp.solvers.ode.dsolve( psi_region[ 0 ].last_step().lhs, 0, ivar = x )\n",
    "#ics = { psi( 0 ): 0, psi( well_length ): 0 }"
   ]
  },
  {
   "cell_type": "code",
   "execution_count": null,
   "id": "4d553082-2589-47eb-9d99-e9f11c847fa0",
   "metadata": {},
   "outputs": [],
   "source": [
    "diff_sol"
   ]
  },
  {
   "cell_type": "code",
   "execution_count": null,
   "id": "9779f921-7796-41cc-80f6-dab4d1161172",
   "metadata": {},
   "outputs": [],
   "source": [
    "psi_region[ 0 ].add_step( diff_sol )"
   ]
  },
  {
   "cell_type": "code",
   "execution_count": null,
   "id": "5bdf9dab-a025-489a-84e0-bfe2e21f6fc7",
   "metadata": {},
   "outputs": [],
   "source": [
    "C1 = sp.Symbol( \"C1\" )\n",
    "C2 = sp.Symbol( \"C2\" )\n",
    "constants = [ [ sp.Symbol( 'A' ), sp.Symbol( 'B' ) ] ]\n",
    "\n",
    "psi_region[ 0 ].rename( C1, constants[ 0 ][ 0 ] )"
   ]
  },
  {
   "cell_type": "code",
   "execution_count": null,
   "id": "168d8b7a-9a81-45ab-8b5b-74915b036af4",
   "metadata": {},
   "outputs": [],
   "source": [
    "psi_region[ 0 ].rename( C2, constants[ 0 ][ 1 ] )"
   ]
  },
  {
   "cell_type": "code",
   "execution_count": null,
   "id": "3bd7b87e-b0c9-4af9-94cc-d9b0a1b42e44",
   "metadata": {},
   "outputs": [],
   "source": []
  },
  {
   "cell_type": "code",
   "execution_count": null,
   "id": "77574146-baae-4e35-a59f-8dce244318d5",
   "metadata": {},
   "outputs": [],
   "source": [
    "psi_region[ 1 ].last_step()"
   ]
  },
  {
   "cell_type": "code",
   "execution_count": null,
   "id": "7b36de3e-a644-4eb9-a039-76190d63fab9",
   "metadata": {},
   "outputs": [],
   "source": []
  },
  {
   "cell_type": "code",
   "execution_count": null,
   "id": "d310940f-451e-41a5-b3df-d807bb708629",
   "metadata": {},
   "outputs": [],
   "source": [
    "psi_region[ 0 ].last_step()"
   ]
  },
  {
   "cell_type": "code",
   "execution_count": null,
   "id": "20b9ac2f-eb43-45a4-8c8b-8efba67ed624",
   "metadata": {},
   "outputs": [],
   "source": []
  },
  {
   "cell_type": "code",
   "execution_count": null,
   "id": "8c174cba-dd99-4882-b879-ad90bb93cd0a",
   "metadata": {},
   "outputs": [],
   "source": [
    "psi_region[ 1 ].negate_add( Stepper.RIGHT )"
   ]
  },
  {
   "cell_type": "code",
   "execution_count": null,
   "id": "0a8f8500-b062-4c2e-a440-d602933afa95",
   "metadata": {},
   "outputs": [],
   "source": [
    "psi_region[ 1 ].manipulate( lambda side : side.collect( psi(x) ) )"
   ]
  },
  {
   "cell_type": "code",
   "execution_count": null,
   "id": "8d2d62b8-992d-43b9-b4dd-56781edccb67",
   "metadata": {},
   "outputs": [],
   "source": [
    "psi_region[ 1 ].last_step().lhs.as_two_terms()[ 1 ]"
   ]
  },
  {
   "cell_type": "code",
   "execution_count": null,
   "id": "8eb7cb3a-be03-4b9a-abcb-f39c4369e649",
   "metadata": {},
   "outputs": [],
   "source": []
  },
  {
   "cell_type": "code",
   "execution_count": null,
   "id": "21f7379a-4077-4f3c-8f32-114754d73ba8",
   "metadata": {},
   "outputs": [],
   "source": [
    "region_1_clone = psi_region[ 1 ].clone()\n",
    "\n",
    "region_1_clone.manipulate( lambda side : side \n",
    "                - region_1_clone.last_step()\n",
    "                        .lhs.as_two_terms()[ 1 ]\n",
    "        )"
   ]
  },
  {
   "cell_type": "code",
   "execution_count": null,
   "id": "8c71bb1c-3c1d-4c1a-a295-bd54ed1d4647",
   "metadata": {},
   "outputs": [],
   "source": [
    "region_1_clone.manipulate( lambda side : side / region_1_clone.last_step().lhs.as_two_terms()[ 0 ] )"
   ]
  },
  {
   "cell_type": "code",
   "execution_count": null,
   "id": "ba5ce71c-238c-49b8-988a-c0e93638263a",
   "metadata": {},
   "outputs": [],
   "source": [
    "region_1_clone.manipulate( lambda side : side / region_1_clone.last_step().rhs )"
   ]
  },
  {
   "cell_type": "code",
   "execution_count": null,
   "id": "1ae4ccac-98dc-4c2b-865a-c83db72e0524",
   "metadata": {},
   "outputs": [],
   "source": [
    "region_1_clone.manipulate( lambda side : side * sp.Derivative( psi( x ), ( x, 2 ) ) )"
   ]
  },
  {
   "cell_type": "code",
   "execution_count": null,
   "id": "61295c0c-5eea-4989-8e29-83a326d4a0b0",
   "metadata": {},
   "outputs": [],
   "source": [
    "region_1_clone.manipulate( lambda side : side / psi( x ) )"
   ]
  },
  {
   "cell_type": "code",
   "execution_count": null,
   "id": "f85cefbc-6aab-4d22-a4ba-9a15864af5e2",
   "metadata": {},
   "outputs": [],
   "source": [
    "k_1 = sp.Symbol( \"k_1\" )\n",
    "k_1_squared = sp.Eq( k_1 ** 2, region_1_clone.last_step().lhs )"
   ]
  },
  {
   "cell_type": "code",
   "execution_count": null,
   "id": "d90e733a-b882-432f-8198-297d91218799",
   "metadata": {},
   "outputs": [],
   "source": [
    "k_1_squared"
   ]
  },
  {
   "cell_type": "code",
   "execution_count": null,
   "id": "68c3791e-ce2b-44b8-a2b6-8c0dfdaa816f",
   "metadata": {},
   "outputs": [],
   "source": [
    "region_1_clone.manipulate( lambda side : side.subs( { k_1_squared.rhs : k_1_squared.lhs } ) )"
   ]
  },
  {
   "cell_type": "code",
   "execution_count": null,
   "id": "62f3fcfb-5967-4d94-a0f3-43ca38ad69be",
   "metadata": {},
   "outputs": [],
   "source": [
    "region_1_clone.manipulate( lambda side : side * psi( x ) )"
   ]
  },
  {
   "cell_type": "code",
   "execution_count": null,
   "id": "b0956a0a-0a73-4073-8dce-86ca5cd27424",
   "metadata": {},
   "outputs": [],
   "source": [
    "region_1_clone.negate_add( Stepper.RIGHT )"
   ]
  },
  {
   "cell_type": "code",
   "execution_count": null,
   "id": "41d87909-2b2d-4dff-9879-20c5b426759d",
   "metadata": {},
   "outputs": [],
   "source": [
    "psi_region[ 1 ] = region_1_clone"
   ]
  },
  {
   "cell_type": "code",
   "execution_count": null,
   "id": "bfbcab24-925d-44ea-a132-e6b5bdc282b7",
   "metadata": {},
   "outputs": [],
   "source": [
    "psi_region[ 1 ].last_step()"
   ]
  },
  {
   "cell_type": "code",
   "execution_count": null,
   "id": "43f237cf-c3f6-42aa-b522-76dca9bb12b5",
   "metadata": {},
   "outputs": [],
   "source": []
  },
  {
   "cell_type": "code",
   "execution_count": null,
   "id": "2be14221-3e1e-4626-bba9-816573c922a1",
   "metadata": {},
   "outputs": [],
   "source": [
    "psi_1 = sp.Function( \"psi_1\" )"
   ]
  },
  {
   "cell_type": "code",
   "execution_count": null,
   "id": "0e2d3f2e-aa17-4053-84e2-532eafc5b7df",
   "metadata": {},
   "outputs": [],
   "source": [
    "psi_2 = sp.Function( \"psi_2\" )"
   ]
  },
  {
   "cell_type": "code",
   "execution_count": null,
   "id": "cdd9ead9-4e40-4baa-9d64-0f284b5792de",
   "metadata": {},
   "outputs": [],
   "source": [
    "psi_region[ 1 ].rename( psi( x ), psi_1( x ) )"
   ]
  },
  {
   "cell_type": "code",
   "execution_count": null,
   "id": "b4beefb1-c65d-47bc-ab9e-0148f2b5b487",
   "metadata": {},
   "outputs": [],
   "source": []
  },
  {
   "cell_type": "code",
   "execution_count": null,
   "id": "f6d9b205-4138-4da5-8414-d0d41c0cc1e9",
   "metadata": {},
   "outputs": [],
   "source": [
    "psi_region[ 1 ].add_step( sp.solvers.ode.dsolve( psi_region[ 1 ].last_step() ) )"
   ]
  },
  {
   "cell_type": "code",
   "execution_count": null,
   "id": "35c1fc7e-e24a-40a4-b1fe-7146b4668d66",
   "metadata": {},
   "outputs": [],
   "source": [
    "constants.append( [ sp.Symbol( 'C' ), sp.Symbol( 'D' ) ] )"
   ]
  },
  {
   "cell_type": "code",
   "execution_count": null,
   "id": "2ae675c1-3f60-4f2f-b4db-71ed8a6641aa",
   "metadata": {},
   "outputs": [],
   "source": [
    "psi_region[ 1 ].rename( C1, constants[ 1 ][ 0 ] )"
   ]
  },
  {
   "cell_type": "code",
   "execution_count": null,
   "id": "54ab4ed0-e146-418a-a328-846287b256a7",
   "metadata": {},
   "outputs": [],
   "source": [
    "psi_region[ 1 ].rename( C2, constants[ 1 ][ 1 ] )"
   ]
  },
  {
   "cell_type": "code",
   "execution_count": null,
   "id": "2c075033-e455-404b-9f2a-64fb824cb700",
   "metadata": {},
   "outputs": [],
   "source": [
    "k_2 = sp.Symbol( \"k_2\" )\n",
    "psi_2_symbol = sp.Function( \"psi_2\" )\n",
    "\n",
    "psi_region[ 2 ].rename( psi( x ), psi_2_symbol( x ) )"
   ]
  },
  {
   "cell_type": "code",
   "execution_count": null,
   "id": "80a5eede-5abf-4819-99a0-90d16e6446da",
   "metadata": {},
   "outputs": [],
   "source": [
    "psi_region[ 2 ].rename( k, k_2 )"
   ]
  },
  {
   "cell_type": "code",
   "execution_count": null,
   "id": "76293d23-835b-4641-ba81-09ea37f118a9",
   "metadata": {},
   "outputs": [],
   "source": [
    "psi_region[ 2 ].add_step( sp.solvers.ode.dsolve( psi_region[ 2 ].last_step() ) )"
   ]
  },
  {
   "cell_type": "code",
   "execution_count": null,
   "id": "52ba7d2f-c0bc-4264-ac90-d05fcb413294",
   "metadata": {},
   "outputs": [],
   "source": [
    "constants.append( [ sp.Symbol( 'G' ) ] ) #Skipping a letter in the alphabet so there is no confusion with energy\n",
    "\n",
    "psi_region[ 2 ].rename( C2, constants[ 2 ][ 0 ] )"
   ]
  },
  {
   "cell_type": "code",
   "execution_count": null,
   "id": "3c2a36cf-9568-4f30-95be-a30cd4b6ce74",
   "metadata": {},
   "outputs": [],
   "source": [
    "psi_region[ 2 ].rename( C1, 0 )"
   ]
  },
  {
   "cell_type": "code",
   "execution_count": null,
   "id": "594452f0-91a0-4dab-ae7d-a2114ff2da91",
   "metadata": {},
   "outputs": [],
   "source": [
    "#diff_sol = sp.solvers.ode.dsolve( psi_region[ 1 ].last_step().lhs, 0, ivar = x, \n",
    "#        ics = { \n",
    "#                psi_1( 0 ) : psi( 0 ), \n",
    "#                psi_1( barrier_length ) : psi_2( barrier_length ), \n",
    "#                psi_1( x ).diff( x, 1 ).subs( x, 0 ) : psi( x ).diff( x, 1 ).subs( x, 0 ), \n",
    "#                psi_1( x ).diff( x, 1 ).subs( x, barrier_length ) : psi_2( x ).diff( x, 1 ).subs( x, barrier_length )\n",
    "#        }\n",
    "#    )"
   ]
  },
  {
   "cell_type": "code",
   "execution_count": null,
   "id": "f3273b76-6e58-4da3-9d2c-697449fab79c",
   "metadata": {},
   "outputs": [],
   "source": [
    "flat_constants = []\n",
    "for constant_set in constants: \n",
    "    flat_constants += constant_set\n",
    "\n",
    "\n",
    "normalize = lambda expression, from_, to : sp.integrate( expression * sp.conjugate( expression ), ( x, from_, to ) )\n",
    "\n",
    "\n",
    "\n",
    "\n",
    "\n",
    "constants_helpers = sp.solve( \n",
    "        [ equation.last_step() for equation in psi_region ], \n",
    "        flat_constants\n",
    "    )"
   ]
  },
  {
   "cell_type": "code",
   "execution_count": null,
   "id": "c4cca58b-8d9a-4eb9-a0bb-40e3284f0247",
   "metadata": {},
   "outputs": [],
   "source": [
    "constants_helpers[ constants[ 0 ][ 0 ] ]"
   ]
  },
  {
   "cell_type": "code",
   "execution_count": null,
   "id": "299752c9-16a7-4add-a8d2-e56b3028e923",
   "metadata": {},
   "outputs": [],
   "source": [
    "constants_helpers[ constants[ 1 ][ 0 ] ]"
   ]
  },
  {
   "cell_type": "code",
   "execution_count": null,
   "id": "069dd851-ae72-498d-824f-d73acc6e444f",
   "metadata": {},
   "outputs": [],
   "source": [
    "constants_helpers[ constants[ 2 ][ 0 ] ]"
   ]
  },
  {
   "cell_type": "code",
   "execution_count": null,
   "id": "63097176-05a5-4f0a-808c-9c4302e4cd8b",
   "metadata": {},
   "outputs": [],
   "source": [
    "psi_0_integral = normalize( psi_region[ 0 ].last_step().rhs, 0, TunnelPotential.DEFAULT_WELL_LENGTH )"
   ]
  },
  {
   "cell_type": "code",
   "execution_count": null,
   "id": "1c65c14d-2276-4682-8890-1b307be05daf",
   "metadata": {},
   "outputs": [],
   "source": [
    "psi_0_integral"
   ]
  },
  {
   "cell_type": "code",
   "execution_count": null,
   "id": "d168974f-24b8-42cb-bc04-09ca6886bc71",
   "metadata": {},
   "outputs": [],
   "source": [
    "psi_region[ 0 ].last_step().rhs * sp.conjugate( psi_region[ 0 ].last_step().rhs )"
   ]
  },
  {
   "cell_type": "code",
   "execution_count": null,
   "id": "4c42ea92-17a0-4c99-8d54-47425c5a55d2",
   "metadata": {},
   "outputs": [],
   "source": [
    "aaa = psi_0_integral.simplify().refine( sp.Q.real( constants[ 0 ][ 1 ] ) )"
   ]
  },
  {
   "cell_type": "code",
   "execution_count": null,
   "id": "cfa4a6b8-6823-47a5-8ab8-9538c447518a",
   "metadata": {},
   "outputs": [],
   "source": [
    "aaa = aaa.refine( sp.Q.real( constants[ 0 ][ 0 ] ) )"
   ]
  },
  {
   "cell_type": "code",
   "execution_count": null,
   "id": "cd3c5c54-28b9-4023-af3e-f538db7b19ab",
   "metadata": {},
   "outputs": [],
   "source": [
    "aaa = aaa.refine( sp.Q.real( k_0 ) )"
   ]
  },
  {
   "cell_type": "code",
   "execution_count": null,
   "id": "670586ed-a113-4419-b299-f17dbc1b9c77",
   "metadata": {},
   "outputs": [],
   "source": [
    "bbb = =aaa.trigsimp().simplify().collect( constants[ 0 ][ 0 ] ).collect( constants[ 0 ][ 1 ] ).collect( k_0 ).as_real_imag()[ 0 ].refine( sp.Q.real( constants[ 0 ][ 0 ] ) ).refine( sp.Q.real( k_0 ) ).refine( sp.Q.real( constants[ 0 ][ 1 ] ) )"
   ]
  },
  {
   "cell_type": "code",
   "execution_count": null,
   "id": "d1eee796-ded1-4bef-a2f0-4095c080d093",
   "metadata": {},
   "outputs": [],
   "source": []
  }
 ],
 "metadata": {
  "kernelspec": {
   "display_name": "SageMath 9.5",
   "language": "sage",
   "name": "sagemath"
  },
  "language_info": {
   "codemirror_mode": {
    "name": "ipython",
    "version": 3
   },
   "file_extension": ".py",
   "mimetype": "text/x-python",
   "name": "python",
   "nbconvert_exporter": "python",
   "pygments_lexer": "ipython3",
   "version": "3.9.10"
  }
 },
 "nbformat": 4,
 "nbformat_minor": 5
}
