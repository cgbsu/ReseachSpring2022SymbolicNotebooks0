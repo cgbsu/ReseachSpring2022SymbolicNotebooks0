{
 "cells": [
  {
   "cell_type": "code",
   "execution_count": 1,
   "id": "8ac3faff-b15a-4620-b3a9-eb59a3f261f8",
   "metadata": {},
   "outputs": [],
   "source": [
    "import sympy as sp"
   ]
  },
  {
   "cell_type": "code",
   "execution_count": 2,
   "id": "02f455bc-1df0-4dce-b8e0-27d83ec266fe",
   "metadata": {},
   "outputs": [],
   "source": [
    "import matplotlib.pyplot as plt"
   ]
  },
  {
   "cell_type": "code",
   "execution_count": 3,
   "id": "62a0e006-8c9d-4479-8a90-b2dcaf056fe9",
   "metadata": {},
   "outputs": [],
   "source": [
    "import sympy.physics.units.quantities as sq"
   ]
  },
  {
   "cell_type": "code",
   "execution_count": 4,
   "id": "edbf158f-5ce5-4d42-9c8b-06dee822119e",
   "metadata": {},
   "outputs": [],
   "source": [
    "from sympy.physics.quantum.constants import hbar"
   ]
  },
  {
   "cell_type": "code",
   "execution_count": null,
   "id": "1cc2604c-dfd2-45e3-9216-5cc3f52d15af",
   "metadata": {},
   "outputs": [],
   "source": []
  },
  {
   "cell_type": "code",
   "execution_count": 5,
   "id": "cb102f2f-3ab8-44d9-84fb-705cb17f9a62",
   "metadata": {},
   "outputs": [],
   "source": [
    "PSI_FUNCTION = sp.Function( \"psi\" )\n",
    "POTENTIAL_FUNCTION = sp.Function( \"V\" )\n",
    "TOTAL_ENERGY_SYMBOL = sq.Symbol( 'E', nonzero = True, positive = True )\n",
    "MASS_SYMBOL = sq.Quantity( 'm', positive = True, nonzero = True )\n",
    "#REDUCED_PLANCK_CONSTANT_SYMBOL = sq.Symbol( \"hbar\" )\n",
    "POSITION_SYMBOL = sp.Symbol( 'x', positive = True )\n",
    "\n",
    "def time_independent_schroedinger_equation( \n",
    "            psi = PSI_FUNCTION, \n",
    "            potential = POTENTIAL_FUNCTION, \n",
    "            total_energy = TOTAL_ENERGY_SYMBOL, \n",
    "            mass = MASS_SYMBOL, \n",
    "            reduced_planck_constant = hbar, #REDUCED_PLANCK_CONSTANT_SYMBOL, \n",
    "            position = POSITION_SYMBOL \n",
    "        ): \n",
    "    return sp.Eq( \n",
    "            ( ( -( reduced_planck_constant ** 2 ) / ( 2 * mass ) ) \\\n",
    "                    * sp.Derivative( psi( position ), ( position, 2 ) ) )\n",
    "                    + ( potential( position ) * psi( position ) ), \n",
    "            total_energy * psi( position ) \n",
    "        )\n"
   ]
  },
  {
   "cell_type": "code",
   "execution_count": 6,
   "id": "4b4f60c2-e854-4e1a-865f-8af0a27c2b92",
   "metadata": {},
   "outputs": [],
   "source": [
    "set_equal = lambda to_set, value : sp.Eq( to_set, value )\n",
    "both_sides = lambda equation, opreation : sp.Eq( opreation( equation.lhs ), opreation( equation.rhs ) )\n",
    "equation_to_dict = lambda equation : { equation.lhs : equation.rhs }"
   ]
  },
  {
   "cell_type": "code",
   "execution_count": 7,
   "id": "0520960e-9f69-45df-95c8-39b208fafb1e",
   "metadata": {},
   "outputs": [],
   "source": [
    "hbar_eq = sp.Eq( hbar, sp.physics.units.planck / ( 2 * sp.pi ) )"
   ]
  },
  {
   "cell_type": "code",
   "execution_count": 8,
   "id": "7f5af676-f83a-4320-9fdc-a138bff58d6d",
   "metadata": {},
   "outputs": [
    {
     "data": {
      "text/latex": [
       "$\\displaystyle \\hbar = \\frac{\\text{h}}{2 \\pi}$"
      ],
      "text/plain": [
       "Eq(hbar, planck/(2*pi))"
      ]
     },
     "execution_count": 8,
     "metadata": {},
     "output_type": "execute_result"
    }
   ],
   "source": [
    "hbar_eq"
   ]
  },
  {
   "cell_type": "code",
   "execution_count": null,
   "id": "117dbcc1-bfc0-4739-bc69-5a371f5b0064",
   "metadata": {},
   "outputs": [],
   "source": []
  },
  {
   "cell_type": "code",
   "execution_count": 9,
   "id": "c8de0c1f-cf01-4af2-b6cb-2518ba73412e",
   "metadata": {},
   "outputs": [],
   "source": [
    "psi = PSI_FUNCTION\n",
    "potential = POTENTIAL_FUNCTION\n",
    "total_energy = TOTAL_ENERGY_SYMBOL\n",
    "mass = MASS_SYMBOL\n",
    "#reduced_planck_constant = REDUCED_PLANCK_CONSTANT_SYMBOL\n",
    "x = POSITION_SYMBOL"
   ]
  },
  {
   "cell_type": "code",
   "execution_count": null,
   "id": "a9ca49b3-22fa-45f3-af7b-240ed1b53861",
   "metadata": {},
   "outputs": [],
   "source": []
  },
  {
   "cell_type": "code",
   "execution_count": 10,
   "id": "63722f78-06f5-41d2-8252-449d6c2c1341",
   "metadata": {},
   "outputs": [],
   "source": [
    "k = sp.Symbol( 'k' )"
   ]
  },
  {
   "cell_type": "code",
   "execution_count": 11,
   "id": "75215216-251e-4c12-bb18-79a0faece9d3",
   "metadata": {},
   "outputs": [],
   "source": [
    "k_squared = sp.Eq( k ** 2, ( ( 2 * total_energy * mass ) / ( hbar ** 2 ) ) )"
   ]
  },
  {
   "cell_type": "code",
   "execution_count": 12,
   "id": "b2693923-d6ef-4991-99e1-9b477a504c4d",
   "metadata": {},
   "outputs": [
    {
     "data": {
      "text/latex": [
       "$\\displaystyle k^{2} = \\frac{2 E \\text{m}}{\\hbar^{2}}$"
      ],
      "text/plain": [
       "Eq(k**2, 2*m*E/hbar**2)"
      ]
     },
     "execution_count": 12,
     "metadata": {},
     "output_type": "execute_result"
    }
   ],
   "source": [
    "k_squared"
   ]
  },
  {
   "cell_type": "code",
   "execution_count": null,
   "id": "1e4e9438-c0fe-41aa-a64e-045b2ae99daf",
   "metadata": {},
   "outputs": [],
   "source": []
  },
  {
   "cell_type": "code",
   "execution_count": 13,
   "id": "eee1357f-abbd-4779-8e8c-8230db509fe3",
   "metadata": {},
   "outputs": [],
   "source": [
    "class ZeroPotential( sp.Function ): \n",
    "    @classmethod\n",
    "    def eval( cls, position ):\n",
    "        return 0"
   ]
  },
  {
   "cell_type": "code",
   "execution_count": 14,
   "id": "069ed962-7243-4ffc-b5a5-e46087389c39",
   "metadata": {},
   "outputs": [],
   "source": [
    "#https://docs.sympy.org/latest/modules/assumptions/index.html#querying\n",
    "#https://docs.sympy.org/latest/modules/codegen.html#module-sympy.codegen.cxxnodes\n",
    "\n",
    "class Potential( sp.Function ): \n",
    "    DEFAULT_POTENTIAL = sp.Symbol( \"V_0\" )\n",
    "    @classmethod\n",
    "    def eval( cls, position, potential = DEFAULT_POTENTIAL ): \n",
    "        return potential"
   ]
  },
  {
   "cell_type": "code",
   "execution_count": 15,
   "id": "3c91b1af-b68c-49b0-bfa1-3f186a3c6b04",
   "metadata": {},
   "outputs": [],
   "source": [
    "class TunnelPotential( sp.Function ): \n",
    "    DEFAULT_WELL_LENGTH = sp.Symbol( 'L' )\n",
    "    DEFAULT_POTENTIAL = Potential.DEFAULT_POTENTIAL\n",
    "    DEFAULT_START = 0\n",
    "    @classmethod\n",
    "    def eval( cls, position, length = DEFAULT_WELL_LENGTH, \n",
    "             start = DEFAULT_START, potential = DEFAULT_POTENTIAL ): \n",
    "        if position < start or position > sp.simplify( length + start ): \n",
    "            return ZeroPotential.eval( position )\n",
    "        return Potential.eval( position, potential )"
   ]
  },
  {
   "cell_type": "code",
   "execution_count": null,
   "id": "9f1b6d08-af41-4313-a53e-d8c7e0035ee7",
   "metadata": {},
   "outputs": [],
   "source": []
  },
  {
   "cell_type": "code",
   "execution_count": 16,
   "id": "313234d9-a63a-4a14-876b-7e42ddb105a1",
   "metadata": {},
   "outputs": [],
   "source": [
    "class Stepper: \n",
    "\n",
    "    LEFT = \"LEFT\", \n",
    "    RIGHT = \"RIGHT\"\n",
    "    \n",
    "    def __init__( self, first_step, new_steps = None ): \n",
    "        self.steps = new_steps if new_steps else []\n",
    "        self.steps.append( first_step )\n",
    "        self.chaining = False\n",
    "    \n",
    "    def step_number( self, step = None ): \n",
    "        return ( len( self.steps ) - 1 ) if not step else step\n",
    "    \n",
    "    def last_step( self, step = None ):\n",
    "        return self.steps[ self.step_number( step ) ]\n",
    "    \n",
    "    def _return_chain( self, step, chain ): \n",
    "        return self if ( chain or self.chaining ) else step        \n",
    "    \n",
    "    def add_step( self, new_step, chain = False ):\n",
    "        self.steps.append( new_step )\n",
    "        return self._return_chain( self.steps[ -1 ], chain )\n",
    "\n",
    "    def operate( self, operation, step = None, chain = False ):\n",
    "        self.steps.append( operation( self.last_step( step ) ) )\n",
    "        return self._return_chain( self.steps[ -1 ], chain )\n",
    "\n",
    "    def manipulate( self, operation, chain = False ): \n",
    "        return self._return_chain( self.add_step( \n",
    "                both_sides( self.last_step(), operation ) ), \n",
    "                chain \n",
    "            )\n",
    "    \n",
    "    def delete_step( self, step ): \n",
    "        old_step = self.steps[ step ]\n",
    "        del self.steps[ step ]\n",
    "        return old_step\n",
    "    \n",
    "    def undo( self, step = None, chain = False ): \n",
    "        return self._return_chain( \n",
    "                self.delete_step( self.step_number( step ) ), \n",
    "                chain \n",
    "            )\n",
    "    \n",
    "    def clone( self, from_step = None ):\n",
    "        return self.branch( lambda blank : blank, from_step )\n",
    "    \n",
    "    def branch( self, operation = None, from_step = None ): \n",
    "        from_step = self.step_number( from_step )\n",
    "        return Stepper( \n",
    "                both_sides( self.last_step( from_step ), operation ), \n",
    "                self.steps[ : self.step_number( from_step ) : ], \n",
    "            )\n",
    "    \n",
    "    def substitute_constant( self, constant, chain = False ):\n",
    "            return self.operate( lambda step : step.subs( { constant.rhs : constant.lhs } ) )\n",
    "    \n",
    "    def negate_add( self, side_to_negate_add, chain = False ): \n",
    "        last_step = self.last_step()\n",
    "        return self.manipulate( \n",
    "                lambda side : side + -( \n",
    "                    last_step.lhs if side_to_negate_add == Stepper.LEFT \n",
    "                            else last_step.rhs \n",
    "                        ), \n",
    "                chain \n",
    "            )\n",
    "    \n",
    "    def rename( self, old_symbol, new_symbol_name, chain = False ): \n",
    "        last_step = self.last_step()\n",
    "        assert old_symbol in last_step.atoms() or old_symbol in last_step.atoms( sp.Function )\n",
    "        return self.add_step( last_step.subs( \n",
    "            old_symbol if type( old_symbol ) == dict \\\n",
    "                    else { old_symbol : new_symbol_name } ), chain \n",
    "                )\n",
    "    \n",
    "    def chain( self, operation ):\n",
    "        self.chaining = True\n",
    "        operation( self )\n",
    "        self.chaining = False\n",
    "        return self\n",
    "    \n",
    "    def begin_chain( self ): \n",
    "        self.chaining = True\n",
    "        return self\n",
    "    \n",
    "    def end_chain( self ): \n",
    "        self.chaining = False\n",
    "        return self\n"
   ]
  },
  {
   "cell_type": "code",
   "execution_count": null,
   "id": "dd6deedd-3ec2-4632-97c1-f5eabf1f7c1c",
   "metadata": {},
   "outputs": [],
   "source": []
  },
  {
   "cell_type": "code",
   "execution_count": 17,
   "id": "d197311f-e70a-4f4a-83b3-c4b9b63b90b6",
   "metadata": {},
   "outputs": [
    {
     "data": {
      "text/latex": [
       "$\\displaystyle k^{2} = \\frac{2 E \\text{m}}{\\hbar^{2}}$"
      ],
      "text/plain": [
       "Eq(k**2, 2*m*E/hbar**2)"
      ]
     },
     "execution_count": 17,
     "metadata": {},
     "output_type": "execute_result"
    }
   ],
   "source": [
    "k_squared"
   ]
  },
  {
   "cell_type": "code",
   "execution_count": null,
   "id": "7c0dc405-11a8-418a-8438-43b74e2a7e30",
   "metadata": {},
   "outputs": [],
   "source": []
  },
  {
   "cell_type": "code",
   "execution_count": 18,
   "id": "bd964d7c-4905-464e-9c60-862b0cab8f64",
   "metadata": {},
   "outputs": [],
   "source": [
    "psi_region = [\n",
    "        Stepper( time_independent_schroedinger_equation( potential = ZeroPotential ) ), \n",
    "        Stepper( time_independent_schroedinger_equation( potential = Potential ) ), \n",
    "        Stepper( time_independent_schroedinger_equation( potential = ZeroPotential ) )\n",
    "    ]"
   ]
  },
  {
   "cell_type": "code",
   "execution_count": null,
   "id": "5c111045-3b70-4c55-9cbc-1e5d85f71eea",
   "metadata": {},
   "outputs": [],
   "source": []
  },
  {
   "cell_type": "code",
   "execution_count": 19,
   "id": "3f054b05-10a4-4704-9d49-01d3f6011169",
   "metadata": {},
   "outputs": [
    {
     "data": {
      "text/latex": [
       "$\\displaystyle - \\frac{\\hbar^{2} \\frac{d^{2}}{d x^{2}} \\psi{\\left(x \\right)}}{2 \\text{m}} = E \\psi{\\left(x \\right)}$"
      ],
      "text/plain": [
       "Eq(-hbar**2*Derivative(psi(x), (x, 2))/(2*m), E*psi(x))"
      ]
     },
     "execution_count": 19,
     "metadata": {},
     "output_type": "execute_result"
    }
   ],
   "source": [
    "psi_region[ 0 ].last_step()"
   ]
  },
  {
   "cell_type": "code",
   "execution_count": 20,
   "id": "dd839724-d545-46c9-ae76-332e3f5b4399",
   "metadata": {},
   "outputs": [
    {
     "data": {
      "text/latex": [
       "$\\displaystyle - E \\psi{\\left(x \\right)} - \\frac{\\hbar^{2} \\frac{d^{2}}{d x^{2}} \\psi{\\left(x \\right)}}{2 \\text{m}} = 0$"
      ],
      "text/plain": [
       "Eq(-E*psi(x) - hbar**2*Derivative(psi(x), (x, 2))/(2*m), 0)"
      ]
     },
     "execution_count": 20,
     "metadata": {},
     "output_type": "execute_result"
    }
   ],
   "source": [
    "psi_region[ 0 ].manipulate( lambda side : ( side - psi_region[ 0 ].last_step().rhs ).simplify() )"
   ]
  },
  {
   "cell_type": "code",
   "execution_count": 21,
   "id": "35f9c7f2-f8cc-40fc-a892-7086385dc1fe",
   "metadata": {},
   "outputs": [
    {
     "data": {
      "text/latex": [
       "$\\displaystyle \\psi{\\left(x \\right)} + \\frac{\\hbar^{2} \\frac{d^{2}}{d x^{2}} \\psi{\\left(x \\right)}}{2 E \\text{m}} = 0$"
      ],
      "text/plain": [
       "Eq(psi(x) + hbar**2*Derivative(psi(x), (x, 2))/(2*m*E), 0)"
      ]
     },
     "execution_count": 21,
     "metadata": {},
     "output_type": "execute_result"
    }
   ],
   "source": [
    "psi_region[ 0 ].manipulate( lambda side : -( side / total_energy ).simplify() )"
   ]
  },
  {
   "cell_type": "code",
   "execution_count": 22,
   "id": "92598874-1476-4de3-a0c2-983217a325a4",
   "metadata": {},
   "outputs": [
    {
     "data": {
      "text/latex": [
       "$\\displaystyle \\frac{\\hbar^{2} \\frac{d^{2}}{d x^{2}} \\psi{\\left(x \\right)}}{2 E \\text{m}} = - \\psi{\\left(x \\right)}$"
      ],
      "text/plain": [
       "Eq(hbar**2*Derivative(psi(x), (x, 2))/(2*m*E), -psi(x))"
      ]
     },
     "execution_count": 22,
     "metadata": {},
     "output_type": "execute_result"
    }
   ],
   "source": [
    "psi_region[ 0 ].manipulate( lambda side : side - psi( x ) )"
   ]
  },
  {
   "cell_type": "code",
   "execution_count": 23,
   "id": "5a42ee71-6557-44cb-8a17-dc7df5480b66",
   "metadata": {},
   "outputs": [
    {
     "data": {
      "text/latex": [
       "$\\displaystyle \\frac{d^{2}}{d x^{2}} \\psi{\\left(x \\right)} = - \\frac{2 E \\psi{\\left(x \\right)} \\text{m}}{\\hbar^{2}}$"
      ],
      "text/plain": [
       "Eq(Derivative(psi(x), (x, 2)), -2*m*E*psi(x)/hbar**2)"
      ]
     },
     "execution_count": 23,
     "metadata": {},
     "output_type": "execute_result"
    }
   ],
   "source": [
    "psi_region[ 0 ].manipulate( lambda side : side * k_squared.rhs )"
   ]
  },
  {
   "cell_type": "code",
   "execution_count": 24,
   "id": "e3df96fc-258d-446e-bc34-7f758ae0bff3",
   "metadata": {},
   "outputs": [
    {
     "data": {
      "text/latex": [
       "$\\displaystyle \\frac{\\frac{d^{2}}{d x^{2}} \\psi{\\left(x \\right)}}{\\psi{\\left(x \\right)}} = - \\frac{2 E \\text{m}}{\\hbar^{2}}$"
      ],
      "text/plain": [
       "Eq(Derivative(psi(x), (x, 2))/psi(x), -2*m*E/hbar**2)"
      ]
     },
     "execution_count": 24,
     "metadata": {},
     "output_type": "execute_result"
    }
   ],
   "source": [
    "psi_region[ 0 ].manipulate( lambda side : side / psi( x ) )"
   ]
  },
  {
   "cell_type": "code",
   "execution_count": null,
   "id": "8a6a0b6a-4446-4cba-a7c0-13329d1261b5",
   "metadata": {},
   "outputs": [],
   "source": []
  },
  {
   "cell_type": "code",
   "execution_count": 25,
   "id": "2d96a310-33a6-4d5c-a8e0-79585e1afffc",
   "metadata": {},
   "outputs": [
    {
     "data": {
      "text/latex": [
       "$\\displaystyle k^{2} = \\frac{2 E \\text{m}}{\\hbar^{2}}$"
      ],
      "text/plain": [
       "Eq(k**2, 2*m*E/hbar**2)"
      ]
     },
     "execution_count": 25,
     "metadata": {},
     "output_type": "execute_result"
    }
   ],
   "source": [
    "k_squared"
   ]
  },
  {
   "cell_type": "code",
   "execution_count": null,
   "id": "190e3b4b-2c27-42c5-a901-311a02ec8430",
   "metadata": {},
   "outputs": [],
   "source": []
  },
  {
   "cell_type": "code",
   "execution_count": 26,
   "id": "76aff0fa-030d-47bf-ba43-6d52020b4b3a",
   "metadata": {},
   "outputs": [
    {
     "data": {
      "text/latex": [
       "$\\displaystyle \\frac{\\frac{d^{2}}{d x^{2}} \\psi{\\left(x \\right)}}{\\psi{\\left(x \\right)}} = - k^{2}$"
      ],
      "text/plain": [
       "Eq(Derivative(psi(x), (x, 2))/psi(x), -k**2)"
      ]
     },
     "execution_count": 26,
     "metadata": {},
     "output_type": "execute_result"
    }
   ],
   "source": [
    "psi_region[ 0 ].substitute_constant( k_squared )"
   ]
  },
  {
   "cell_type": "code",
   "execution_count": 27,
   "id": "191178ae-40ff-4009-a503-ac2b52ed09f2",
   "metadata": {},
   "outputs": [
    {
     "data": {
      "text/latex": [
       "$\\displaystyle \\frac{d^{2}}{d x^{2}} \\psi{\\left(x \\right)} = - k^{2} \\psi{\\left(x \\right)}$"
      ],
      "text/plain": [
       "Eq(Derivative(psi(x), (x, 2)), -k**2*psi(x))"
      ]
     },
     "execution_count": 27,
     "metadata": {},
     "output_type": "execute_result"
    }
   ],
   "source": [
    "psi_region[ 0 ].manipulate( lambda side : side * psi( x ) )"
   ]
  },
  {
   "cell_type": "code",
   "execution_count": 28,
   "id": "d14f60c1-638f-46c9-996f-e4e663ad4c4a",
   "metadata": {},
   "outputs": [
    {
     "data": {
      "text/latex": [
       "$\\displaystyle k^{2} \\psi{\\left(x \\right)} + \\frac{d^{2}}{d x^{2}} \\psi{\\left(x \\right)} = 0$"
      ],
      "text/plain": [
       "Eq(k**2*psi(x) + Derivative(psi(x), (x, 2)), 0)"
      ]
     },
     "execution_count": 28,
     "metadata": {},
     "output_type": "execute_result"
    }
   ],
   "source": [
    "psi_region[ 0 ].negate_add( Stepper.RIGHT )"
   ]
  },
  {
   "cell_type": "code",
   "execution_count": null,
   "id": "7eabac16-5a84-4da1-9e8c-8832225da46c",
   "metadata": {},
   "outputs": [],
   "source": []
  },
  {
   "cell_type": "code",
   "execution_count": 29,
   "id": "a6fc27d2-77cc-429b-b6b5-c7c4347c3f22",
   "metadata": {},
   "outputs": [],
   "source": [
    "# For later\n",
    "\n",
    "psi_region[ 2 ] = psi_region[ 0 ].clone()"
   ]
  },
  {
   "cell_type": "code",
   "execution_count": 30,
   "id": "54ef06be-6b33-4c7a-80c1-17df971d6a83",
   "metadata": {},
   "outputs": [
    {
     "data": {
      "text/latex": [
       "$\\displaystyle k^{2} \\psi{\\left(x \\right)} + \\frac{d^{2}}{d x^{2}} \\psi{\\left(x \\right)} = 0$"
      ],
      "text/plain": [
       "Eq(k**2*psi(x) + Derivative(psi(x), (x, 2)), 0)"
      ]
     },
     "execution_count": 30,
     "metadata": {},
     "output_type": "execute_result"
    }
   ],
   "source": [
    "psi_region[ 2 ].last_step()"
   ]
  },
  {
   "cell_type": "code",
   "execution_count": 31,
   "id": "21c54cd6-1581-41c6-9901-28dff2cc93ab",
   "metadata": {},
   "outputs": [],
   "source": [
    "k_0 = sp.Symbol( \"k_0\" )"
   ]
  },
  {
   "cell_type": "code",
   "execution_count": 32,
   "id": "4a8a16dd-be5e-4767-993a-28eff750c228",
   "metadata": {},
   "outputs": [
    {
     "data": {
      "text/latex": [
       "$\\displaystyle k_{0}^{2} \\psi{\\left(x \\right)} + \\frac{d^{2}}{d x^{2}} \\psi{\\left(x \\right)} = 0$"
      ],
      "text/plain": [
       "Eq(k_0**2*psi(x) + Derivative(psi(x), (x, 2)), 0)"
      ]
     },
     "execution_count": 32,
     "metadata": {},
     "output_type": "execute_result"
    }
   ],
   "source": [
    "psi_region[ 0 ].rename( k, k_0 )"
   ]
  },
  {
   "cell_type": "code",
   "execution_count": null,
   "id": "25675bc6-e28f-4977-9fc7-758a0c5021c8",
   "metadata": {},
   "outputs": [],
   "source": []
  },
  {
   "cell_type": "code",
   "execution_count": 33,
   "id": "bbec0ee7-021c-47b0-b398-613e64297db1",
   "metadata": {},
   "outputs": [],
   "source": [
    "diff_sol = sp.solvers.ode.dsolve( psi_region[ 0 ].last_step().lhs, 0, ivar = x )\n",
    "#ics = { psi( 0 ): 0, psi( well_length ): 0 }"
   ]
  },
  {
   "cell_type": "code",
   "execution_count": 34,
   "id": "4d553082-2589-47eb-9d99-e9f11c847fa0",
   "metadata": {},
   "outputs": [
    {
     "data": {
      "text/latex": [
       "$\\displaystyle \\psi{\\left(x \\right)} = C_{1} e^{- i k_{0} x} + C_{2} e^{i k_{0} x}$"
      ],
      "text/plain": [
       "Eq(psi(x), C1*exp(-I*k_0*x) + C2*exp(I*k_0*x))"
      ]
     },
     "execution_count": 34,
     "metadata": {},
     "output_type": "execute_result"
    }
   ],
   "source": [
    "diff_sol"
   ]
  },
  {
   "cell_type": "code",
   "execution_count": 35,
   "id": "9779f921-7796-41cc-80f6-dab4d1161172",
   "metadata": {},
   "outputs": [
    {
     "data": {
      "text/latex": [
       "$\\displaystyle \\psi{\\left(x \\right)} = C_{1} e^{- i k_{0} x} + C_{2} e^{i k_{0} x}$"
      ],
      "text/plain": [
       "Eq(psi(x), C1*exp(-I*k_0*x) + C2*exp(I*k_0*x))"
      ]
     },
     "execution_count": 35,
     "metadata": {},
     "output_type": "execute_result"
    }
   ],
   "source": [
    "psi_region[ 0 ].add_step( diff_sol )"
   ]
  },
  {
   "cell_type": "code",
   "execution_count": 36,
   "id": "5bdf9dab-a025-489a-84e0-bfe2e21f6fc7",
   "metadata": {},
   "outputs": [
    {
     "data": {
      "text/latex": [
       "$\\displaystyle \\psi{\\left(x \\right)} = A e^{- i k_{0} x} + C_{2} e^{i k_{0} x}$"
      ],
      "text/plain": [
       "Eq(psi(x), A*exp(-I*k_0*x) + C2*exp(I*k_0*x))"
      ]
     },
     "execution_count": 36,
     "metadata": {},
     "output_type": "execute_result"
    }
   ],
   "source": [
    "C1 = sp.Symbol( \"C1\" )\n",
    "C2 = sp.Symbol( \"C2\" )\n",
    "constants = [ [ sp.Symbol( 'A' ), sp.Symbol( 'B' ) ] ]\n",
    "\n",
    "psi_region[ 0 ].rename( C1, constants[ 0 ][ 0 ] )"
   ]
  },
  {
   "cell_type": "code",
   "execution_count": 37,
   "id": "168d8b7a-9a81-45ab-8b5b-74915b036af4",
   "metadata": {},
   "outputs": [
    {
     "data": {
      "text/latex": [
       "$\\displaystyle \\psi{\\left(x \\right)} = A e^{- i k_{0} x} + B e^{i k_{0} x}$"
      ],
      "text/plain": [
       "Eq(psi(x), A*exp(-I*k_0*x) + B*exp(I*k_0*x))"
      ]
     },
     "execution_count": 37,
     "metadata": {},
     "output_type": "execute_result"
    }
   ],
   "source": [
    "psi_region[ 0 ].rename( C2, constants[ 0 ][ 1 ] )"
   ]
  },
  {
   "cell_type": "code",
   "execution_count": null,
   "id": "3bd7b87e-b0c9-4af9-94cc-d9b0a1b42e44",
   "metadata": {},
   "outputs": [],
   "source": []
  },
  {
   "cell_type": "code",
   "execution_count": 38,
   "id": "77574146-baae-4e35-a59f-8dce244318d5",
   "metadata": {},
   "outputs": [
    {
     "data": {
      "text/latex": [
       "$\\displaystyle V_{0} \\psi{\\left(x \\right)} - \\frac{\\hbar^{2} \\frac{d^{2}}{d x^{2}} \\psi{\\left(x \\right)}}{2 \\text{m}} = E \\psi{\\left(x \\right)}$"
      ],
      "text/plain": [
       "Eq(V_0*psi(x) - hbar**2*Derivative(psi(x), (x, 2))/(2*m), E*psi(x))"
      ]
     },
     "execution_count": 38,
     "metadata": {},
     "output_type": "execute_result"
    }
   ],
   "source": [
    "psi_region[ 1 ].last_step()"
   ]
  },
  {
   "cell_type": "code",
   "execution_count": null,
   "id": "7b36de3e-a644-4eb9-a039-76190d63fab9",
   "metadata": {},
   "outputs": [],
   "source": []
  },
  {
   "cell_type": "code",
   "execution_count": 39,
   "id": "8c174cba-dd99-4882-b879-ad90bb93cd0a",
   "metadata": {},
   "outputs": [
    {
     "data": {
      "text/latex": [
       "$\\displaystyle - E \\psi{\\left(x \\right)} + V_{0} \\psi{\\left(x \\right)} - \\frac{\\hbar^{2} \\frac{d^{2}}{d x^{2}} \\psi{\\left(x \\right)}}{2 \\text{m}} = 0$"
      ],
      "text/plain": [
       "Eq(-E*psi(x) + V_0*psi(x) - hbar**2*Derivative(psi(x), (x, 2))/(2*m), 0)"
      ]
     },
     "execution_count": 39,
     "metadata": {},
     "output_type": "execute_result"
    }
   ],
   "source": [
    "psi_region[ 1 ].negate_add( Stepper.RIGHT )"
   ]
  },
  {
   "cell_type": "code",
   "execution_count": 40,
   "id": "0a8f8500-b062-4c2e-a440-d602933afa95",
   "metadata": {},
   "outputs": [
    {
     "data": {
      "text/latex": [
       "$\\displaystyle \\left(- E + V_{0}\\right) \\psi{\\left(x \\right)} - \\frac{\\hbar^{2} \\frac{d^{2}}{d x^{2}} \\psi{\\left(x \\right)}}{2 \\text{m}} = 0$"
      ],
      "text/plain": [
       "Eq((-E + V_0)*psi(x) - hbar**2*Derivative(psi(x), (x, 2))/(2*m), 0)"
      ]
     },
     "execution_count": 40,
     "metadata": {},
     "output_type": "execute_result"
    }
   ],
   "source": [
    "psi_region[ 1 ].manipulate( lambda side : side.collect( psi(x) ) )"
   ]
  },
  {
   "cell_type": "code",
   "execution_count": 41,
   "id": "8d2d62b8-992d-43b9-b4dd-56781edccb67",
   "metadata": {},
   "outputs": [
    {
     "data": {
      "text/latex": [
       "$\\displaystyle - \\frac{\\hbar^{2} \\frac{d^{2}}{d x^{2}} \\psi{\\left(x \\right)}}{2 \\text{m}}$"
      ],
      "text/plain": [
       "-hbar**2*Derivative(psi(x), (x, 2))/(2*m)"
      ]
     },
     "execution_count": 41,
     "metadata": {},
     "output_type": "execute_result"
    }
   ],
   "source": [
    "psi_region[ 1 ].last_step().lhs.as_two_terms()[ 1 ]"
   ]
  },
  {
   "cell_type": "code",
   "execution_count": null,
   "id": "8eb7cb3a-be03-4b9a-abcb-f39c4369e649",
   "metadata": {},
   "outputs": [],
   "source": []
  },
  {
   "cell_type": "code",
   "execution_count": 42,
   "id": "21f7379a-4077-4f3c-8f32-114754d73ba8",
   "metadata": {},
   "outputs": [
    {
     "data": {
      "text/latex": [
       "$\\displaystyle \\left(- E + V_{0}\\right) \\psi{\\left(x \\right)} = \\frac{\\hbar^{2} \\frac{d^{2}}{d x^{2}} \\psi{\\left(x \\right)}}{2 \\text{m}}$"
      ],
      "text/plain": [
       "Eq((-E + V_0)*psi(x), hbar**2*Derivative(psi(x), (x, 2))/(2*m))"
      ]
     },
     "execution_count": 42,
     "metadata": {},
     "output_type": "execute_result"
    }
   ],
   "source": [
    "region_1_clone = psi_region[ 1 ].clone()\n",
    "\n",
    "region_1_clone.manipulate( lambda side : side \n",
    "                - region_1_clone.last_step()\n",
    "                        .lhs.as_two_terms()[ 1 ]\n",
    "        )"
   ]
  },
  {
   "cell_type": "code",
   "execution_count": 43,
   "id": "8c71bb1c-3c1d-4c1a-a295-bd54ed1d4647",
   "metadata": {},
   "outputs": [
    {
     "data": {
      "text/latex": [
       "$\\displaystyle \\psi{\\left(x \\right)} = \\frac{\\hbar^{2} \\frac{d^{2}}{d x^{2}} \\psi{\\left(x \\right)}}{2 \\left(- E + V_{0}\\right) \\text{m}}$"
      ],
      "text/plain": [
       "Eq(psi(x), hbar**2*Derivative(psi(x), (x, 2))/(2*m*(-E + V_0)))"
      ]
     },
     "execution_count": 43,
     "metadata": {},
     "output_type": "execute_result"
    }
   ],
   "source": [
    "region_1_clone.manipulate( lambda side : side / region_1_clone.last_step().lhs.as_two_terms()[ 0 ] )"
   ]
  },
  {
   "cell_type": "code",
   "execution_count": 44,
   "id": "ba5ce71c-238c-49b8-988a-c0e93638263a",
   "metadata": {},
   "outputs": [
    {
     "data": {
      "text/latex": [
       "$\\displaystyle \\frac{2 \\left(- E + V_{0}\\right) \\psi{\\left(x \\right)} \\text{m}}{\\hbar^{2} \\frac{d^{2}}{d x^{2}} \\psi{\\left(x \\right)}} = 1$"
      ],
      "text/plain": [
       "Eq(2*m*(-E + V_0)*psi(x)/(hbar**2*Derivative(psi(x), (x, 2))), 1)"
      ]
     },
     "execution_count": 44,
     "metadata": {},
     "output_type": "execute_result"
    }
   ],
   "source": [
    "region_1_clone.manipulate( lambda side : side / region_1_clone.last_step().rhs )"
   ]
  },
  {
   "cell_type": "code",
   "execution_count": 45,
   "id": "1ae4ccac-98dc-4c2b-865a-c83db72e0524",
   "metadata": {},
   "outputs": [
    {
     "data": {
      "text/latex": [
       "$\\displaystyle - \\frac{2 \\left(- E + V_{0}\\right) \\psi{\\left(x \\right)} \\text{m}}{\\hbar^{2}} = - \\frac{d^{2}}{d x^{2}} \\psi{\\left(x \\right)}$"
      ],
      "text/plain": [
       "Eq(-2*m*(-E + V_0)*psi(x)/hbar**2, -Derivative(psi(x), (x, 2)))"
      ]
     },
     "execution_count": 45,
     "metadata": {},
     "output_type": "execute_result"
    }
   ],
   "source": [
    "region_1_clone.manipulate( lambda side : -side * sp.Derivative( psi( x ), ( x, 2 ) ) )"
   ]
  },
  {
   "cell_type": "code",
   "execution_count": 46,
   "id": "61295c0c-5eea-4989-8e29-83a326d4a0b0",
   "metadata": {},
   "outputs": [
    {
     "data": {
      "text/latex": [
       "$\\displaystyle - \\frac{2 \\left(- E + V_{0}\\right) \\text{m}}{\\hbar^{2}} = - \\frac{\\frac{d^{2}}{d x^{2}} \\psi{\\left(x \\right)}}{\\psi{\\left(x \\right)}}$"
      ],
      "text/plain": [
       "Eq(-2*m*(-E + V_0)/hbar**2, -Derivative(psi(x), (x, 2))/psi(x))"
      ]
     },
     "execution_count": 46,
     "metadata": {},
     "output_type": "execute_result"
    }
   ],
   "source": [
    "region_1_clone.manipulate( lambda side : side / psi( x ) )"
   ]
  },
  {
   "cell_type": "code",
   "execution_count": 47,
   "id": "f85cefbc-6aab-4d22-a4ba-9a15864af5e2",
   "metadata": {},
   "outputs": [],
   "source": [
    "k_1 = sp.Symbol( \"k_1\" )\n",
    "k_1_squared = sp.Eq( k_1 ** 2, -region_1_clone.last_step().lhs )"
   ]
  },
  {
   "cell_type": "code",
   "execution_count": 48,
   "id": "d90e733a-b882-432f-8198-297d91218799",
   "metadata": {},
   "outputs": [
    {
     "data": {
      "text/latex": [
       "$\\displaystyle k_{1}^{2} = \\frac{2 \\left(- E + V_{0}\\right) \\text{m}}{\\hbar^{2}}$"
      ],
      "text/plain": [
       "Eq(k_1**2, 2*m*(-E + V_0)/hbar**2)"
      ]
     },
     "execution_count": 48,
     "metadata": {},
     "output_type": "execute_result"
    }
   ],
   "source": [
    "k_1_squared"
   ]
  },
  {
   "cell_type": "code",
   "execution_count": 49,
   "id": "68c3791e-ce2b-44b8-a2b6-8c0dfdaa816f",
   "metadata": {},
   "outputs": [
    {
     "data": {
      "text/latex": [
       "$\\displaystyle - k_{1}^{2} = - \\frac{\\frac{d^{2}}{d x^{2}} \\psi{\\left(x \\right)}}{\\psi{\\left(x \\right)}}$"
      ],
      "text/plain": [
       "Eq(-k_1**2, -Derivative(psi(x), (x, 2))/psi(x))"
      ]
     },
     "execution_count": 49,
     "metadata": {},
     "output_type": "execute_result"
    }
   ],
   "source": [
    "region_1_clone.manipulate( lambda side : side.subs( { k_1_squared.rhs : k_1_squared.lhs } ) )"
   ]
  },
  {
   "cell_type": "code",
   "execution_count": 50,
   "id": "62f3fcfb-5967-4d94-a0f3-43ca38ad69be",
   "metadata": {},
   "outputs": [
    {
     "data": {
      "text/latex": [
       "$\\displaystyle - k_{1}^{2} \\psi{\\left(x \\right)} = - \\frac{d^{2}}{d x^{2}} \\psi{\\left(x \\right)}$"
      ],
      "text/plain": [
       "Eq(-k_1**2*psi(x), -Derivative(psi(x), (x, 2)))"
      ]
     },
     "execution_count": 50,
     "metadata": {},
     "output_type": "execute_result"
    }
   ],
   "source": [
    "region_1_clone.manipulate( lambda side : side * psi( x ) )"
   ]
  },
  {
   "cell_type": "code",
   "execution_count": 51,
   "id": "b0956a0a-0a73-4073-8dce-86ca5cd27424",
   "metadata": {},
   "outputs": [
    {
     "data": {
      "text/latex": [
       "$\\displaystyle - k_{1}^{2} \\psi{\\left(x \\right)} + \\frac{d^{2}}{d x^{2}} \\psi{\\left(x \\right)} = 0$"
      ],
      "text/plain": [
       "Eq(-k_1**2*psi(x) + Derivative(psi(x), (x, 2)), 0)"
      ]
     },
     "execution_count": 51,
     "metadata": {},
     "output_type": "execute_result"
    }
   ],
   "source": [
    "region_1_clone.negate_add( Stepper.RIGHT )"
   ]
  },
  {
   "cell_type": "code",
   "execution_count": 52,
   "id": "41d87909-2b2d-4dff-9879-20c5b426759d",
   "metadata": {},
   "outputs": [],
   "source": [
    "psi_region[ 1 ] = region_1_clone"
   ]
  },
  {
   "cell_type": "code",
   "execution_count": 53,
   "id": "bfbcab24-925d-44ea-a132-e6b5bdc282b7",
   "metadata": {},
   "outputs": [
    {
     "data": {
      "text/latex": [
       "$\\displaystyle - k_{1}^{2} \\psi{\\left(x \\right)} + \\frac{d^{2}}{d x^{2}} \\psi{\\left(x \\right)} = 0$"
      ],
      "text/plain": [
       "Eq(-k_1**2*psi(x) + Derivative(psi(x), (x, 2)), 0)"
      ]
     },
     "execution_count": 53,
     "metadata": {},
     "output_type": "execute_result"
    }
   ],
   "source": [
    "psi_region[ 1 ].last_step()"
   ]
  },
  {
   "cell_type": "code",
   "execution_count": null,
   "id": "43f237cf-c3f6-42aa-b522-76dca9bb12b5",
   "metadata": {},
   "outputs": [],
   "source": []
  },
  {
   "cell_type": "code",
   "execution_count": 54,
   "id": "2be14221-3e1e-4626-bba9-816573c922a1",
   "metadata": {},
   "outputs": [],
   "source": [
    "psi_1 = sp.Function( \"psi_1\" )"
   ]
  },
  {
   "cell_type": "code",
   "execution_count": 55,
   "id": "0e2d3f2e-aa17-4053-84e2-532eafc5b7df",
   "metadata": {},
   "outputs": [],
   "source": [
    "psi_2 = sp.Function( \"psi_2\" )"
   ]
  },
  {
   "cell_type": "code",
   "execution_count": 56,
   "id": "cdd9ead9-4e40-4baa-9d64-0f284b5792de",
   "metadata": {},
   "outputs": [
    {
     "data": {
      "text/latex": [
       "$\\displaystyle - k_{1}^{2} \\psi_{1}{\\left(x \\right)} + \\frac{d^{2}}{d x^{2}} \\psi_{1}{\\left(x \\right)} = 0$"
      ],
      "text/plain": [
       "Eq(-k_1**2*psi_1(x) + Derivative(psi_1(x), (x, 2)), 0)"
      ]
     },
     "execution_count": 56,
     "metadata": {},
     "output_type": "execute_result"
    }
   ],
   "source": [
    "psi_region[ 1 ].rename( psi( x ), psi_1( x ) )"
   ]
  },
  {
   "cell_type": "code",
   "execution_count": null,
   "id": "b4beefb1-c65d-47bc-ab9e-0148f2b5b487",
   "metadata": {},
   "outputs": [],
   "source": []
  },
  {
   "cell_type": "code",
   "execution_count": 57,
   "id": "f6d9b205-4138-4da5-8414-d0d41c0cc1e9",
   "metadata": {},
   "outputs": [
    {
     "data": {
      "text/latex": [
       "$\\displaystyle \\psi_{1}{\\left(x \\right)} = C_{1} e^{- k_{1} x} + C_{2} e^{k_{1} x}$"
      ],
      "text/plain": [
       "Eq(psi_1(x), C1*exp(-k_1*x) + C2*exp(k_1*x))"
      ]
     },
     "execution_count": 57,
     "metadata": {},
     "output_type": "execute_result"
    }
   ],
   "source": [
    "#JUST NOTICED THAT THE SOLUTION DOES NOT CONTAINER IMAGINARY NUMBERS? WHY?\n",
    "\n",
    "psi_region[ 1 ].add_step( sp.solvers.ode.dsolve( psi_region[ 1 ].last_step() ) )"
   ]
  },
  {
   "cell_type": "code",
   "execution_count": 58,
   "id": "35c1fc7e-e24a-40a4-b1fe-7146b4668d66",
   "metadata": {},
   "outputs": [],
   "source": [
    "constants.append( [ sp.Symbol( 'C' ), sp.Symbol( 'D' ) ] )"
   ]
  },
  {
   "cell_type": "code",
   "execution_count": 59,
   "id": "2ae675c1-3f60-4f2f-b4db-71ed8a6641aa",
   "metadata": {},
   "outputs": [
    {
     "data": {
      "text/latex": [
       "$\\displaystyle \\psi_{1}{\\left(x \\right)} = C e^{- k_{1} x} + C_{2} e^{k_{1} x}$"
      ],
      "text/plain": [
       "Eq(psi_1(x), C*exp(-k_1*x) + C2*exp(k_1*x))"
      ]
     },
     "execution_count": 59,
     "metadata": {},
     "output_type": "execute_result"
    }
   ],
   "source": [
    "psi_region[ 1 ].rename( C1, constants[ 1 ][ 0 ] )"
   ]
  },
  {
   "cell_type": "code",
   "execution_count": 60,
   "id": "54ab4ed0-e146-418a-a328-846287b256a7",
   "metadata": {},
   "outputs": [
    {
     "data": {
      "text/latex": [
       "$\\displaystyle \\psi_{1}{\\left(x \\right)} = C e^{- k_{1} x} + D e^{k_{1} x}$"
      ],
      "text/plain": [
       "Eq(psi_1(x), C*exp(-k_1*x) + D*exp(k_1*x))"
      ]
     },
     "execution_count": 60,
     "metadata": {},
     "output_type": "execute_result"
    }
   ],
   "source": [
    "psi_region[ 1 ].rename( C2, constants[ 1 ][ 1 ] )"
   ]
  },
  {
   "cell_type": "code",
   "execution_count": 61,
   "id": "2c075033-e455-404b-9f2a-64fb824cb700",
   "metadata": {},
   "outputs": [
    {
     "data": {
      "text/latex": [
       "$\\displaystyle k^{2} \\psi_{2}{\\left(x \\right)} + \\frac{d^{2}}{d x^{2}} \\psi_{2}{\\left(x \\right)} = 0$"
      ],
      "text/plain": [
       "Eq(k**2*psi_2(x) + Derivative(psi_2(x), (x, 2)), 0)"
      ]
     },
     "execution_count": 61,
     "metadata": {},
     "output_type": "execute_result"
    }
   ],
   "source": [
    "k_2 = sp.Symbol( \"k_2\" )\n",
    "psi_2_symbol = sp.Function( \"psi_2\" )\n",
    "\n",
    "psi_region[ 2 ].rename( psi( x ), psi_2_symbol( x ) )"
   ]
  },
  {
   "cell_type": "code",
   "execution_count": 62,
   "id": "80a5eede-5abf-4819-99a0-90d16e6446da",
   "metadata": {},
   "outputs": [
    {
     "data": {
      "text/latex": [
       "$\\displaystyle k_{0}^{2} \\psi_{2}{\\left(x \\right)} + \\frac{d^{2}}{d x^{2}} \\psi_{2}{\\left(x \\right)} = 0$"
      ],
      "text/plain": [
       "Eq(k_0**2*psi_2(x) + Derivative(psi_2(x), (x, 2)), 0)"
      ]
     },
     "execution_count": 62,
     "metadata": {},
     "output_type": "execute_result"
    }
   ],
   "source": [
    "psi_region[ 2 ].rename( k, k_0 )#k_2 )"
   ]
  },
  {
   "cell_type": "code",
   "execution_count": 63,
   "id": "76293d23-835b-4641-ba81-09ea37f118a9",
   "metadata": {},
   "outputs": [
    {
     "data": {
      "text/latex": [
       "$\\displaystyle \\psi_{2}{\\left(x \\right)} = C_{1} e^{- i k_{0} x} + C_{2} e^{i k_{0} x}$"
      ],
      "text/plain": [
       "Eq(psi_2(x), C1*exp(-I*k_0*x) + C2*exp(I*k_0*x))"
      ]
     },
     "execution_count": 63,
     "metadata": {},
     "output_type": "execute_result"
    }
   ],
   "source": [
    "psi_region[ 2 ].add_step( sp.solvers.ode.dsolve( psi_region[ 2 ].last_step() ) )"
   ]
  },
  {
   "cell_type": "code",
   "execution_count": 64,
   "id": "52ba7d2f-c0bc-4264-ac90-d05fcb413294",
   "metadata": {},
   "outputs": [
    {
     "data": {
      "text/latex": [
       "$\\displaystyle \\psi_{2}{\\left(x \\right)} = C_{1} e^{- i k_{0} x} + G e^{i k_{0} x}$"
      ],
      "text/plain": [
       "Eq(psi_2(x), C1*exp(-I*k_0*x) + G*exp(I*k_0*x))"
      ]
     },
     "execution_count": 64,
     "metadata": {},
     "output_type": "execute_result"
    }
   ],
   "source": [
    "constants.append( [ sp.Symbol( 'G' ) ] ) #Skipping a letter in the alphabet so there is no confusion with energy\n",
    "\n",
    "psi_region[ 2 ].rename( C2, constants[ 2 ][ 0 ] )"
   ]
  },
  {
   "cell_type": "code",
   "execution_count": 65,
   "id": "3c2a36cf-9568-4f30-95be-a30cd4b6ce74",
   "metadata": {},
   "outputs": [
    {
     "data": {
      "text/latex": [
       "$\\displaystyle \\psi_{2}{\\left(x \\right)} = G e^{i k_{0} x}$"
      ],
      "text/plain": [
       "Eq(psi_2(x), G*exp(I*k_0*x))"
      ]
     },
     "execution_count": 65,
     "metadata": {},
     "output_type": "execute_result"
    }
   ],
   "source": [
    "psi_region[ 2 ].rename( C1, 0 )"
   ]
  },
  {
   "cell_type": "code",
   "execution_count": 66,
   "id": "f3273b76-6e58-4da3-9d2c-697449fab79c",
   "metadata": {},
   "outputs": [],
   "source": [
    "flat_constants = []\n",
    "for constant_set in constants: \n",
    "    flat_constants += constant_set\n",
    "\n",
    "normalize = lambda expression, from_, to : sp.Eq( sp.integrate( expression * sp.conjugate( expression ), ( x, from_, to ) ), 1, evaluate = False )\n",
    "\n",
    "constants_helpers = sp.solve( \n",
    "        [ equation.last_step() for equation in psi_region ], \n",
    "        flat_constants\n",
    "    )"
   ]
  },
  {
   "cell_type": "code",
   "execution_count": 67,
   "id": "8ffbcd90-7eab-494c-8c9d-898c7c39b94c",
   "metadata": {},
   "outputs": [
    {
     "data": {
      "text/latex": [
       "$\\displaystyle \\psi{\\left(x \\right)} = A e^{- i k_{0} x} + B e^{i k_{0} x}$"
      ],
      "text/plain": [
       "Eq(psi(x), A*exp(-I*k_0*x) + B*exp(I*k_0*x))"
      ]
     },
     "execution_count": 67,
     "metadata": {},
     "output_type": "execute_result"
    }
   ],
   "source": [
    "psi_region[ 0 ].last_step()"
   ]
  },
  {
   "cell_type": "code",
   "execution_count": null,
   "id": "51df6bc2-0977-4387-9ec0-a4b5bc010a4c",
   "metadata": {},
   "outputs": [],
   "source": []
  },
  {
   "cell_type": "code",
   "execution_count": 68,
   "id": "0d7f7859-8bcf-4971-8e48-a63f5bb6c904",
   "metadata": {},
   "outputs": [
    {
     "data": {
      "text/latex": [
       "$\\displaystyle \\psi_{1}{\\left(x \\right)} = C e^{- k_{1} x} + D e^{k_{1} x}$"
      ],
      "text/plain": [
       "Eq(psi_1(x), C*exp(-k_1*x) + D*exp(k_1*x))"
      ]
     },
     "execution_count": 68,
     "metadata": {},
     "output_type": "execute_result"
    }
   ],
   "source": [
    "psi_region[ 1 ].last_step()"
   ]
  },
  {
   "cell_type": "code",
   "execution_count": null,
   "id": "c670757c-0d8c-4abe-8186-1def121de6fc",
   "metadata": {},
   "outputs": [],
   "source": []
  },
  {
   "cell_type": "code",
   "execution_count": 69,
   "id": "49896a81-e54d-4ce7-b97c-308c520402aa",
   "metadata": {},
   "outputs": [
    {
     "data": {
      "text/latex": [
       "$\\displaystyle \\psi_{2}{\\left(x \\right)} = G e^{i k_{0} x}$"
      ],
      "text/plain": [
       "Eq(psi_2(x), G*exp(I*k_0*x))"
      ]
     },
     "execution_count": 69,
     "metadata": {},
     "output_type": "execute_result"
    }
   ],
   "source": [
    "psi_region[ 2 ].last_step()"
   ]
  },
  {
   "cell_type": "code",
   "execution_count": null,
   "id": "90f65112-8b71-4052-91b1-2aca40a156ad",
   "metadata": {},
   "outputs": [],
   "source": []
  },
  {
   "cell_type": "code",
   "execution_count": 70,
   "id": "fae3f387-449e-43e3-bd5c-70bc599e547b",
   "metadata": {},
   "outputs": [],
   "source": [
    "region = []\n",
    "region.append( Stepper( sp.Eq( psi_region[ 2 ].last_step().rhs, psi_region[ 1 ].last_step().rhs ) ) )"
   ]
  },
  {
   "cell_type": "code",
   "execution_count": 71,
   "id": "d73f4aa7-2496-4af1-86f1-db6e365946a8",
   "metadata": {},
   "outputs": [
    {
     "data": {
      "text/latex": [
       "$\\displaystyle G e^{i L k_{0}} = C e^{- L k_{1}} + D e^{L k_{1}}$"
      ],
      "text/plain": [
       "Eq(G*exp(I*L*k_0), C*exp(-L*k_1) + D*exp(L*k_1))"
      ]
     },
     "execution_count": 71,
     "metadata": {},
     "output_type": "execute_result"
    }
   ],
   "source": [
    "region[ 0 ].rename( x, TunnelPotential.DEFAULT_WELL_LENGTH )"
   ]
  },
  {
   "cell_type": "code",
   "execution_count": 72,
   "id": "53b03143-409d-4ea4-b8d1-0a20807e3c50",
   "metadata": {},
   "outputs": [],
   "source": [
    "region.append( Stepper( sp.Eq( psi_region[ 0 ].last_step().rhs, psi_region[ 1 ].last_step().rhs ) ) )"
   ]
  },
  {
   "cell_type": "code",
   "execution_count": 73,
   "id": "ab73c222-3543-42e0-900e-dfe508429109",
   "metadata": {},
   "outputs": [
    {
     "data": {
      "text/latex": [
       "$\\displaystyle A + B = C + D$"
      ],
      "text/plain": [
       "Eq(A + B, C + D)"
      ]
     },
     "execution_count": 73,
     "metadata": {},
     "output_type": "execute_result"
    }
   ],
   "source": [
    "region[ 1 ].rename( x, 0 )"
   ]
  },
  {
   "cell_type": "code",
   "execution_count": 74,
   "id": "dccff7c2-7471-4e19-ad8d-baafefd876ea",
   "metadata": {},
   "outputs": [],
   "source": [
    "region.append( Stepper( sp.Eq( sp.diff( psi_region[ 0 ].last_step().rhs, x ), sp.diff( psi_region[ 1 ].last_step().rhs, x ) ) ) )"
   ]
  },
  {
   "cell_type": "code",
   "execution_count": 75,
   "id": "cef9849b-cba7-4365-94f4-3cfaea9cc8d7",
   "metadata": {},
   "outputs": [
    {
     "data": {
      "text/latex": [
       "$\\displaystyle - i A k_{0} + i B k_{0} = - C k_{1} + D k_{1}$"
      ],
      "text/plain": [
       "Eq(-I*A*k_0 + I*B*k_0, -C*k_1 + D*k_1)"
      ]
     },
     "execution_count": 75,
     "metadata": {},
     "output_type": "execute_result"
    }
   ],
   "source": [
    "region[ 2 ].rename( x, 0 )"
   ]
  },
  {
   "cell_type": "code",
   "execution_count": 76,
   "id": "083c003a-61ef-4565-9b8f-77686e478c99",
   "metadata": {},
   "outputs": [],
   "source": [
    "region.append( Stepper( sp.Eq( sp.diff( psi_region[ 2 ].last_step().rhs, x ), sp.diff( psi_region[ 1 ].last_step().rhs, x ) ) ) )"
   ]
  },
  {
   "cell_type": "code",
   "execution_count": 77,
   "id": "04d2cdc0-1603-4d64-b967-1f785f57d92d",
   "metadata": {},
   "outputs": [
    {
     "data": {
      "text/latex": [
       "$\\displaystyle i G k_{0} e^{i L k_{0}} = - C k_{1} e^{- L k_{1}} + D k_{1} e^{L k_{1}}$"
      ],
      "text/plain": [
       "Eq(I*G*k_0*exp(I*L*k_0), -C*k_1*exp(-L*k_1) + D*k_1*exp(L*k_1))"
      ]
     },
     "execution_count": 77,
     "metadata": {},
     "output_type": "execute_result"
    }
   ],
   "source": [
    "region[ 3 ].rename( x, TunnelPotential.DEFAULT_WELL_LENGTH )"
   ]
  },
  {
   "cell_type": "code",
   "execution_count": 78,
   "id": "64539bfa-a527-4927-a7f3-5e9d69501a47",
   "metadata": {},
   "outputs": [],
   "source": [
    "constants_system = [ equation.last_step() for equation in region ]"
   ]
  },
  {
   "cell_type": "code",
   "execution_count": 79,
   "id": "09d6d8c0-6338-406b-9fd2-fe7ec9182809",
   "metadata": {},
   "outputs": [
    {
     "data": {
      "text/plain": [
       "[Eq(G*exp(I*L*k_0), C*exp(-L*k_1) + D*exp(L*k_1)),\n",
       " Eq(A + B, C + D),\n",
       " Eq(-I*A*k_0 + I*B*k_0, -C*k_1 + D*k_1),\n",
       " Eq(I*G*k_0*exp(I*L*k_0), -C*k_1*exp(-L*k_1) + D*k_1*exp(L*k_1))]"
      ]
     },
     "execution_count": 79,
     "metadata": {},
     "output_type": "execute_result"
    }
   ],
   "source": [
    "constants_system"
   ]
  },
  {
   "cell_type": "code",
   "execution_count": 80,
   "id": "fe7f5186-408d-4c2c-bf97-6e6a030131a7",
   "metadata": {},
   "outputs": [],
   "source": [
    "constants_solutions = sp.solve( constants_system )"
   ]
  },
  {
   "cell_type": "code",
   "execution_count": 81,
   "id": "35e9c491-db27-478f-a03d-a80ed2e0dc40",
   "metadata": {},
   "outputs": [
    {
     "data": {
      "text/plain": [
       "{A: I*G*(-k_0**2*exp(2*L*k_1) + k_0**2 - k_1**2*exp(2*L*k_1) + k_1**2)*exp(L*(I*k_0 - k_1))/(4*k_0*k_1),\n",
       " B: G*(k_0*(-I*k_0 + k_1)*exp(L*(I*k_0 + k_1)) + k_0*(I*k_0 + k_1)*exp(L*(I*k_0 - k_1)) + I*k_1*((-I*k_0 + k_1)*exp(L*(I*k_0 + k_1)) - (I*k_0 + k_1)*exp(L*(I*k_0 - k_1))))/(4*k_0*k_1),\n",
       " C: G*(-I*k_0 + k_1)*exp(L*(I*k_0 + k_1))/(2*k_1),\n",
       " D: G*(I*k_0 + k_1)*exp(L*(I*k_0 - k_1))/(2*k_1)}"
      ]
     },
     "execution_count": 81,
     "metadata": {},
     "output_type": "execute_result"
    }
   ],
   "source": [
    "constants_solutions = constants_solutions[ 0 ]\n",
    "constants_solutions"
   ]
  },
  {
   "cell_type": "code",
   "execution_count": 82,
   "id": "4f38f8e5-89ea-49ab-8636-03b0ab445c62",
   "metadata": {},
   "outputs": [],
   "source": [
    "A = sp.Symbol( 'A' )\n",
    "B = sp.Symbol( 'B' )\n",
    "C = sp.Symbol( 'C' )\n",
    "D = sp.Symbol( 'D' )\n",
    "G = sp.Symbol( 'G' )"
   ]
  },
  {
   "cell_type": "code",
   "execution_count": null,
   "id": "2dbce9b3-51ea-4b01-8b43-eb7552fa69a6",
   "metadata": {},
   "outputs": [],
   "source": []
  },
  {
   "cell_type": "code",
   "execution_count": 83,
   "id": "67eee935-04a6-4e33-a50b-b6796eab5637",
   "metadata": {},
   "outputs": [],
   "source": [
    "constant_g_terms = [ sp.Eq( constant, constants_solutions[ constant ] ) for constant in constants_solutions ]"
   ]
  },
  {
   "cell_type": "code",
   "execution_count": 84,
   "id": "1a45b365-a3dc-41a3-9e92-4b151a8332d3",
   "metadata": {},
   "outputs": [
    {
     "data": {
      "text/plain": [
       "[Eq(A, I*G*(-k_0**2*exp(2*L*k_1) + k_0**2 - k_1**2*exp(2*L*k_1) + k_1**2)*exp(L*(I*k_0 - k_1))/(4*k_0*k_1)),\n",
       " Eq(B, G*(k_0*(-I*k_0 + k_1)*exp(L*(I*k_0 + k_1)) + k_0*(I*k_0 + k_1)*exp(L*(I*k_0 - k_1)) + I*k_1*((-I*k_0 + k_1)*exp(L*(I*k_0 + k_1)) - (I*k_0 + k_1)*exp(L*(I*k_0 - k_1))))/(4*k_0*k_1)),\n",
       " Eq(C, G*(-I*k_0 + k_1)*exp(L*(I*k_0 + k_1))/(2*k_1)),\n",
       " Eq(D, G*(I*k_0 + k_1)*exp(L*(I*k_0 - k_1))/(2*k_1))]"
      ]
     },
     "execution_count": 84,
     "metadata": {},
     "output_type": "execute_result"
    }
   ],
   "source": [
    "constant_g_terms"
   ]
  },
  {
   "cell_type": "code",
   "execution_count": null,
   "id": "a2ff0fa3-8c64-44ec-8350-127b89edddff",
   "metadata": {},
   "outputs": [],
   "source": []
  },
  {
   "cell_type": "code",
   "execution_count": null,
   "id": "cfd18ef8-6cfe-4fe7-bad6-7282fa4cb164",
   "metadata": {},
   "outputs": [],
   "source": []
  },
  {
   "cell_type": "code",
   "execution_count": 85,
   "id": "9932f923-1fbe-4d8c-8afe-eeda7f4e0d0d",
   "metadata": {},
   "outputs": [],
   "source": [
    "r_eq = psi_region[ 0 ].clone()"
   ]
  },
  {
   "cell_type": "code",
   "execution_count": 86,
   "id": "b2d69d79-e5a7-41e1-8831-828a8d592d5e",
   "metadata": {},
   "outputs": [
    {
     "data": {
      "text/latex": [
       "$\\displaystyle \\psi{\\left(x \\right)} = A e^{- i k_{0} x} + B e^{i k_{0} x}$"
      ],
      "text/plain": [
       "Eq(psi(x), A*exp(-I*k_0*x) + B*exp(I*k_0*x))"
      ]
     },
     "execution_count": 86,
     "metadata": {},
     "output_type": "execute_result"
    }
   ],
   "source": [
    "r_eq.last_step()"
   ]
  },
  {
   "cell_type": "code",
   "execution_count": 87,
   "id": "c13f25cb-d64d-4f26-afd6-a8dfc3c3db82",
   "metadata": {},
   "outputs": [],
   "source": [
    "R = sp.Symbol( 'R' )"
   ]
  },
  {
   "cell_type": "code",
   "execution_count": null,
   "id": "1dd293da-65a5-4985-a5b7-6e02a16742e3",
   "metadata": {},
   "outputs": [],
   "source": []
  },
  {
   "cell_type": "code",
   "execution_count": 88,
   "id": "1761f334-e78f-4871-8972-4b50f0766ef5",
   "metadata": {},
   "outputs": [
    {
     "data": {
      "text/latex": [
       "$\\displaystyle \\psi{\\left(x \\right)} = R e^{- i k_{0} x} + e^{i k_{0} x}$"
      ],
      "text/plain": [
       "Eq(psi(x), R*exp(-I*k_0*x) + exp(I*k_0*x))"
      ]
     },
     "execution_count": 88,
     "metadata": {},
     "output_type": "execute_result"
    }
   ],
   "source": [
    "r_eq.operate( lambda equation : equation.subs( { B : 1 } ).subs( { A : R } ) )"
   ]
  },
  {
   "cell_type": "code",
   "execution_count": 89,
   "id": "0ee01891-90ed-453e-90e4-968fec94739d",
   "metadata": {},
   "outputs": [
    {
     "data": {
      "text/latex": [
       "$\\displaystyle A e^{- i k_{0} x} + B e^{i k_{0} x} = R e^{- i k_{0} x} + e^{i k_{0} x}$"
      ],
      "text/plain": [
       "Eq(A*exp(-I*k_0*x) + B*exp(I*k_0*x), R*exp(-I*k_0*x) + exp(I*k_0*x))"
      ]
     },
     "execution_count": 89,
     "metadata": {},
     "output_type": "execute_result"
    }
   ],
   "source": [
    "r_eq.add_step( sp.Eq( r_eq.last_step( -2 ).rhs, r_eq.last_step().rhs ) )"
   ]
  },
  {
   "cell_type": "code",
   "execution_count": 90,
   "id": "53341631-cd86-4d98-b692-16fa8bc6b1fb",
   "metadata": {},
   "outputs": [
    {
     "data": {
      "text/latex": [
       "$\\displaystyle R = A + B e^{2 i k_{0} x} - e^{2 i k_{0} x}$"
      ],
      "text/plain": [
       "Eq(R, A + B*exp(2*I*k_0*x) - exp(2*I*k_0*x))"
      ]
     },
     "execution_count": 90,
     "metadata": {},
     "output_type": "execute_result"
    }
   ],
   "source": [
    "r_eq.add_step( sp.Eq( R, sp.solve( r_eq.last_step(), R )[ 0 ] ) )"
   ]
  },
  {
   "cell_type": "code",
   "execution_count": null,
   "id": "1536a331-3363-4dbc-ba2e-fa668ffc5f23",
   "metadata": {},
   "outputs": [],
   "source": []
  },
  {
   "cell_type": "code",
   "execution_count": 91,
   "id": "6afdf255-0fca-476d-9417-ddd6e2cd381e",
   "metadata": {},
   "outputs": [],
   "source": [
    "r_equation = psi_region[ 0 ].clone()"
   ]
  },
  {
   "cell_type": "code",
   "execution_count": 92,
   "id": "99a7db48-915b-4bdc-b5c3-9cb9c0affb1e",
   "metadata": {},
   "outputs": [
    {
     "data": {
      "text/latex": [
       "$\\displaystyle \\psi{\\left(x \\right)} = A e^{- i k_{0} x} + B e^{i k_{0} x}$"
      ],
      "text/plain": [
       "Eq(psi(x), A*exp(-I*k_0*x) + B*exp(I*k_0*x))"
      ]
     },
     "execution_count": 92,
     "metadata": {},
     "output_type": "execute_result"
    }
   ],
   "source": [
    "r_equation.last_step()"
   ]
  },
  {
   "cell_type": "code",
   "execution_count": null,
   "id": "37ba42c3-685d-4625-9383-5925bcf6c63b",
   "metadata": {},
   "outputs": [],
   "source": []
  },
  {
   "cell_type": "code",
   "execution_count": 93,
   "id": "63048e07-ef74-468b-9cd9-9a74c9d72215",
   "metadata": {},
   "outputs": [
    {
     "data": {
      "text/latex": [
       "$\\displaystyle \\psi{\\left(x \\right)} = R e^{- i k_{0} x} + e^{i k_{0} x}$"
      ],
      "text/plain": [
       "Eq(psi(x), R*exp(-I*k_0*x) + exp(I*k_0*x))"
      ]
     },
     "execution_count": 93,
     "metadata": {},
     "output_type": "execute_result"
    }
   ],
   "source": [
    "r_equation.operate( lambda equation : equation.subs( { B : 1 } ).subs( { A : R } ) )"
   ]
  },
  {
   "cell_type": "code",
   "execution_count": null,
   "id": "4b3c4e32-6e86-411a-a1ea-5dd888b7869c",
   "metadata": {},
   "outputs": [],
   "source": []
  },
  {
   "cell_type": "code",
   "execution_count": 94,
   "id": "cacb822e-9da4-4189-b13b-608a3dd16ac9",
   "metadata": {},
   "outputs": [
    {
     "data": {
      "text/latex": [
       "$\\displaystyle C e^{- k_{1} x} + D e^{k_{1} x} = R e^{- i k_{0} x} + e^{i k_{0} x}$"
      ],
      "text/plain": [
       "Eq(C*exp(-k_1*x) + D*exp(k_1*x), R*exp(-I*k_0*x) + exp(I*k_0*x))"
      ]
     },
     "execution_count": 94,
     "metadata": {},
     "output_type": "execute_result"
    }
   ],
   "source": [
    "r_equation.operate( lambda equation : equation.subs( { psi( x ) : psi_region[ 1 ].last_step().rhs } ) )"
   ]
  },
  {
   "cell_type": "code",
   "execution_count": 95,
   "id": "4a85c3af-cb92-462a-87cd-e35da0c53b0c",
   "metadata": {},
   "outputs": [
    {
     "data": {
      "text/latex": [
       "$\\displaystyle C + D = R + 1$"
      ],
      "text/plain": [
       "Eq(C + D, R + 1)"
      ]
     },
     "execution_count": 95,
     "metadata": {},
     "output_type": "execute_result"
    }
   ],
   "source": [
    "r_equation.operate( lambda equation : equation.subs( { x : 0 } ) )"
   ]
  },
  {
   "cell_type": "code",
   "execution_count": null,
   "id": "0d4bfda0-afaf-4187-8568-8e8da47ee256",
   "metadata": {},
   "outputs": [],
   "source": []
  },
  {
   "cell_type": "code",
   "execution_count": 96,
   "id": "e9c02abe-58f7-4785-a640-9acca794c163",
   "metadata": {},
   "outputs": [],
   "source": [
    "r_diff_eq = Stepper( r_equation.last_step( -2 ) )"
   ]
  },
  {
   "cell_type": "code",
   "execution_count": 97,
   "id": "752b91fa-d1f4-406d-8828-91e1e56165ba",
   "metadata": {},
   "outputs": [
    {
     "data": {
      "text/latex": [
       "$\\displaystyle C e^{- k_{1} x} + D e^{k_{1} x} = R e^{- i k_{0} x} + e^{i k_{0} x}$"
      ],
      "text/plain": [
       "Eq(C*exp(-k_1*x) + D*exp(k_1*x), R*exp(-I*k_0*x) + exp(I*k_0*x))"
      ]
     },
     "execution_count": 97,
     "metadata": {},
     "output_type": "execute_result"
    }
   ],
   "source": [
    "r_diff_eq.last_step()"
   ]
  },
  {
   "cell_type": "code",
   "execution_count": 98,
   "id": "2566680f-24de-446a-865b-0be1748b18f1",
   "metadata": {},
   "outputs": [
    {
     "data": {
      "text/latex": [
       "$\\displaystyle - C k_{1} e^{- k_{1} x} + D k_{1} e^{k_{1} x} = - i R k_{0} e^{- i k_{0} x} + i k_{0} e^{i k_{0} x}$"
      ],
      "text/plain": [
       "Eq(-C*k_1*exp(-k_1*x) + D*k_1*exp(k_1*x), -I*R*k_0*exp(-I*k_0*x) + I*k_0*exp(I*k_0*x))"
      ]
     },
     "execution_count": 98,
     "metadata": {},
     "output_type": "execute_result"
    }
   ],
   "source": [
    "r_diff_eq.manipulate( lambda equation : sp.diff( equation, x ) )"
   ]
  },
  {
   "cell_type": "code",
   "execution_count": 99,
   "id": "213c9861-eb69-4137-9fac-5cbe8b903f62",
   "metadata": {},
   "outputs": [
    {
     "data": {
      "text/latex": [
       "$\\displaystyle - C k_{1} + D k_{1} = - i R k_{0} + i k_{0}$"
      ],
      "text/plain": [
       "Eq(-C*k_1 + D*k_1, -I*R*k_0 + I*k_0)"
      ]
     },
     "execution_count": 99,
     "metadata": {},
     "output_type": "execute_result"
    }
   ],
   "source": [
    "r_diff_eq.operate( lambda equation : equation.subs( { x : 0 } ) )"
   ]
  },
  {
   "cell_type": "code",
   "execution_count": null,
   "id": "676c7b21-6b91-463b-804d-5744e3a10c24",
   "metadata": {},
   "outputs": [],
   "source": []
  },
  {
   "cell_type": "code",
   "execution_count": 100,
   "id": "afee4909-bdc9-41ad-8ae9-c3a1094ceaad",
   "metadata": {},
   "outputs": [],
   "source": [
    "gr_eq = psi_region[ 1 ].clone()"
   ]
  },
  {
   "cell_type": "code",
   "execution_count": 101,
   "id": "3f9617ec-91c4-481e-b3fd-dbe5dfd9b85c",
   "metadata": {},
   "outputs": [
    {
     "data": {
      "text/latex": [
       "$\\displaystyle \\psi_{1}{\\left(x \\right)} = C e^{- k_{1} x} + D e^{k_{1} x}$"
      ],
      "text/plain": [
       "Eq(psi_1(x), C*exp(-k_1*x) + D*exp(k_1*x))"
      ]
     },
     "execution_count": 101,
     "metadata": {},
     "output_type": "execute_result"
    }
   ],
   "source": [
    "gr_eq.last_step()"
   ]
  },
  {
   "cell_type": "code",
   "execution_count": 102,
   "id": "04b19d23-3523-4eee-bed6-283c51b35fcc",
   "metadata": {},
   "outputs": [
    {
     "data": {
      "text/latex": [
       "$\\displaystyle G e^{i L k_{0}} = C e^{- L k_{1}} + D e^{L k_{1}}$"
      ],
      "text/plain": [
       "Eq(G*exp(I*L*k_0), C*exp(-L*k_1) + D*exp(L*k_1))"
      ]
     },
     "execution_count": 102,
     "metadata": {},
     "output_type": "execute_result"
    }
   ],
   "source": [
    "gr_eq.operate( lambda equation : equation.subs( { psi_1( x ) : psi_region[ 2 ].last_step().rhs } ).subs( { x : TunnelPotential.DEFAULT_WELL_LENGTH } ) )"
   ]
  },
  {
   "cell_type": "code",
   "execution_count": 103,
   "id": "3b815185-1976-449b-90eb-7e7cc596637c",
   "metadata": {},
   "outputs": [],
   "source": [
    "gr_eq_diff = gr_eq.clone()"
   ]
  },
  {
   "cell_type": "code",
   "execution_count": 104,
   "id": "b50ae00a-3d51-427a-9e45-892f01765b20",
   "metadata": {},
   "outputs": [
    {
     "data": {
      "text/latex": [
       "$\\displaystyle G e^{i L k_{0}} = C e^{- L k_{1}} + D e^{L k_{1}}$"
      ],
      "text/plain": [
       "Eq(G*exp(I*L*k_0), C*exp(-L*k_1) + D*exp(L*k_1))"
      ]
     },
     "execution_count": 104,
     "metadata": {},
     "output_type": "execute_result"
    }
   ],
   "source": [
    "gr_eq_diff.last_step()"
   ]
  },
  {
   "cell_type": "code",
   "execution_count": 105,
   "id": "99a5064d-9a73-478d-9b8a-872bc168ef6c",
   "metadata": {},
   "outputs": [
    {
     "data": {
      "text/latex": [
       "$\\displaystyle i G k_{0} e^{i L k_{0}} = - C k_{1} e^{- L k_{1}} + D k_{1} e^{L k_{1}}$"
      ],
      "text/plain": [
       "Eq(I*G*k_0*exp(I*L*k_0), -C*k_1*exp(-L*k_1) + D*k_1*exp(L*k_1))"
      ]
     },
     "execution_count": 105,
     "metadata": {},
     "output_type": "execute_result"
    }
   ],
   "source": [
    "gr_eq_diff.manipulate( lambda side : sp.diff( side, TunnelPotential.DEFAULT_WELL_LENGTH ) )"
   ]
  },
  {
   "cell_type": "code",
   "execution_count": null,
   "id": "3d60f74e-3277-4d54-bff6-f45502febdf2",
   "metadata": {},
   "outputs": [],
   "source": []
  },
  {
   "cell_type": "code",
   "execution_count": null,
   "id": "bbb186da-08f9-4c43-a728-ea4a19405ba0",
   "metadata": {},
   "outputs": [],
   "source": []
  },
  {
   "cell_type": "code",
   "execution_count": null,
   "id": "70e31634-47fb-4720-8897-e55fbcc199dc",
   "metadata": {},
   "outputs": [],
   "source": []
  },
  {
   "cell_type": "code",
   "execution_count": 106,
   "id": "d7be1dc1-d3a0-47dd-9390-8d1a3486eaa5",
   "metadata": {},
   "outputs": [
    {
     "data": {
      "text/latex": [
       "$\\displaystyle C + D = R + 1$"
      ],
      "text/plain": [
       "Eq(C + D, R + 1)"
      ]
     },
     "execution_count": 106,
     "metadata": {},
     "output_type": "execute_result"
    }
   ],
   "source": [
    "r_equation.last_step()"
   ]
  },
  {
   "cell_type": "code",
   "execution_count": 107,
   "id": "c81d1255-6843-47bc-b19b-1bde7804d757",
   "metadata": {},
   "outputs": [
    {
     "data": {
      "text/latex": [
       "$\\displaystyle - C k_{1} + D k_{1} = - i R k_{0} + i k_{0}$"
      ],
      "text/plain": [
       "Eq(-C*k_1 + D*k_1, -I*R*k_0 + I*k_0)"
      ]
     },
     "execution_count": 107,
     "metadata": {},
     "output_type": "execute_result"
    }
   ],
   "source": [
    "r_diff_eq.last_step()"
   ]
  },
  {
   "cell_type": "code",
   "execution_count": 108,
   "id": "2e7acbf5-8112-486f-9f09-b459a6a0f17b",
   "metadata": {},
   "outputs": [
    {
     "data": {
      "text/latex": [
       "$\\displaystyle G e^{i L k_{0}} = C e^{- L k_{1}} + D e^{L k_{1}}$"
      ],
      "text/plain": [
       "Eq(G*exp(I*L*k_0), C*exp(-L*k_1) + D*exp(L*k_1))"
      ]
     },
     "execution_count": 108,
     "metadata": {},
     "output_type": "execute_result"
    }
   ],
   "source": [
    "gr_eq.last_step()"
   ]
  },
  {
   "cell_type": "code",
   "execution_count": 109,
   "id": "dd7d3c2b-19c4-4ce3-80a8-5cff5513e834",
   "metadata": {},
   "outputs": [
    {
     "data": {
      "text/latex": [
       "$\\displaystyle i G k_{0} e^{i L k_{0}} = - C k_{1} e^{- L k_{1}} + D k_{1} e^{L k_{1}}$"
      ],
      "text/plain": [
       "Eq(I*G*k_0*exp(I*L*k_0), -C*k_1*exp(-L*k_1) + D*k_1*exp(L*k_1))"
      ]
     },
     "execution_count": 109,
     "metadata": {},
     "output_type": "execute_result"
    }
   ],
   "source": [
    "gr_eq_diff.last_step()"
   ]
  },
  {
   "cell_type": "code",
   "execution_count": 110,
   "id": "af179feb-6842-486c-88dc-244e67387e5d",
   "metadata": {},
   "outputs": [],
   "source": [
    "constant_4_steppers = [ r_equation, r_diff_eq, gr_eq, gr_eq_diff ]"
   ]
  },
  {
   "cell_type": "code",
   "execution_count": 111,
   "id": "a9c8738e-8e27-49a5-be71-7cbfff3370a8",
   "metadata": {},
   "outputs": [],
   "source": [
    "constant_4_equations = [ stepper.last_step() for stepper in constant_4_steppers ]"
   ]
  },
  {
   "cell_type": "code",
   "execution_count": 112,
   "id": "0e88bb49-160e-43ca-99d0-9d24d385d663",
   "metadata": {},
   "outputs": [
    {
     "data": {
      "text/plain": [
       "[Eq(C + D, R + 1),\n",
       " Eq(-C*k_1 + D*k_1, -I*R*k_0 + I*k_0),\n",
       " Eq(G*exp(I*L*k_0), C*exp(-L*k_1) + D*exp(L*k_1)),\n",
       " Eq(I*G*k_0*exp(I*L*k_0), -C*k_1*exp(-L*k_1) + D*k_1*exp(L*k_1))]"
      ]
     },
     "execution_count": 112,
     "metadata": {},
     "output_type": "execute_result"
    }
   ],
   "source": [
    "constant_4_equations"
   ]
  },
  {
   "cell_type": "code",
   "execution_count": 113,
   "id": "b038f198-4852-44b7-9447-1b830c71fd86",
   "metadata": {},
   "outputs": [],
   "source": [
    "constant_4s = sp.solve( constant_4_equations )"
   ]
  },
  {
   "cell_type": "code",
   "execution_count": 114,
   "id": "e015a739-851e-41c8-b433-acd8d259c1c0",
   "metadata": {},
   "outputs": [
    {
     "data": {
      "text/latex": [
       "$\\displaystyle \\frac{k_{0}^{2} e^{2 L k_{1}} - k_{0}^{2} + k_{1}^{2} e^{2 L k_{1}} - k_{1}^{2}}{k_{0}^{2} e^{2 L k_{1}} - k_{0}^{2} + 2 i k_{0} k_{1} e^{2 L k_{1}} + 2 i k_{0} k_{1} - k_{1}^{2} e^{2 L k_{1}} + k_{1}^{2}}$"
      ],
      "text/plain": [
       "(k_0**2*exp(2*L*k_1) - k_0**2 + k_1**2*exp(2*L*k_1) - k_1**2)/(k_0**2*exp(2*L*k_1) - k_0**2 + 2*I*k_0*k_1*exp(2*L*k_1) + 2*I*k_0*k_1 - k_1**2*exp(2*L*k_1) + k_1**2)"
      ]
     },
     "execution_count": 114,
     "metadata": {},
     "output_type": "execute_result"
    }
   ],
   "source": [
    "constant_4s[ 0 ][ R ]"
   ]
  },
  {
   "cell_type": "code",
   "execution_count": 115,
   "id": "7c3b8782-df56-48a3-930a-dc239f268639",
   "metadata": {},
   "outputs": [
    {
     "data": {
      "text/latex": [
       "$\\displaystyle \\frac{4 i k_{0} k_{1} e^{L \\left(- i k_{0} + k_{1}\\right)}}{k_{0}^{2} e^{2 L k_{1}} - k_{0}^{2} + 2 i k_{0} k_{1} e^{2 L k_{1}} + 2 i k_{0} k_{1} - k_{1}^{2} e^{2 L k_{1}} + k_{1}^{2}}$"
      ],
      "text/plain": [
       "4*I*k_0*k_1*exp(L*(-I*k_0 + k_1))/(k_0**2*exp(2*L*k_1) - k_0**2 + 2*I*k_0*k_1*exp(2*L*k_1) + 2*I*k_0*k_1 - k_1**2*exp(2*L*k_1) + k_1**2)"
      ]
     },
     "execution_count": 115,
     "metadata": {},
     "output_type": "execute_result"
    }
   ],
   "source": [
    "constant_4s[ 0 ][ G ]"
   ]
  },
  {
   "cell_type": "code",
   "execution_count": 116,
   "id": "067cb923-9629-40a8-a33a-cb5941b52445",
   "metadata": {},
   "outputs": [
    {
     "data": {
      "text/latex": [
       "$\\displaystyle \\frac{2 k_{0} \\left(k_{0} + i k_{1}\\right) e^{2 L k_{1}}}{k_{0}^{2} e^{2 L k_{1}} - k_{0}^{2} + 2 i k_{0} k_{1} e^{2 L k_{1}} + 2 i k_{0} k_{1} - k_{1}^{2} e^{2 L k_{1}} + k_{1}^{2}}$"
      ],
      "text/plain": [
       "2*k_0*(k_0 + I*k_1)*exp(2*L*k_1)/(k_0**2*exp(2*L*k_1) - k_0**2 + 2*I*k_0*k_1*exp(2*L*k_1) + 2*I*k_0*k_1 - k_1**2*exp(2*L*k_1) + k_1**2)"
      ]
     },
     "execution_count": 116,
     "metadata": {},
     "output_type": "execute_result"
    }
   ],
   "source": [
    "constant_4s[ 0 ][ C ]"
   ]
  },
  {
   "cell_type": "code",
   "execution_count": 117,
   "id": "efa6ccaa-56ae-48c8-b941-197f5357ed3a",
   "metadata": {},
   "outputs": [
    {
     "data": {
      "text/latex": [
       "$\\displaystyle \\frac{2 k_{0} \\left(- k_{0} + i k_{1}\\right)}{k_{0}^{2} e^{2 L k_{1}} - k_{0}^{2} + 2 i k_{0} k_{1} e^{2 L k_{1}} + 2 i k_{0} k_{1} - k_{1}^{2} e^{2 L k_{1}} + k_{1}^{2}}$"
      ],
      "text/plain": [
       "2*k_0*(-k_0 + I*k_1)/(k_0**2*exp(2*L*k_1) - k_0**2 + 2*I*k_0*k_1*exp(2*L*k_1) + 2*I*k_0*k_1 - k_1**2*exp(2*L*k_1) + k_1**2)"
      ]
     },
     "execution_count": 117,
     "metadata": {},
     "output_type": "execute_result"
    }
   ],
   "source": [
    "constant_4s[ 0 ][ D ]"
   ]
  },
  {
   "cell_type": "code",
   "execution_count": null,
   "id": "668861c9-945b-4b63-a270-a5fe0ecb86ea",
   "metadata": {},
   "outputs": [],
   "source": []
  },
  {
   "cell_type": "code",
   "execution_count": 118,
   "id": "fd3fec7b-8aeb-4c85-b7e9-9f3af2e40730",
   "metadata": {},
   "outputs": [
    {
     "data": {
      "text/latex": [
       "$\\displaystyle \\frac{4 i k_{0} k_{1} e^{L \\left(- i k_{0} + k_{1}\\right)}}{k_{0}^{2} e^{2 L k_{1}} - k_{0}^{2} + 2 i k_{0} k_{1} e^{2 L k_{1}} + 2 i k_{0} k_{1} - k_{1}^{2} e^{2 L k_{1}} + k_{1}^{2}}$"
      ],
      "text/plain": [
       "4*I*k_0*k_1*exp(L*(-I*k_0 + k_1))/(k_0**2*exp(2*L*k_1) - k_0**2 + 2*I*k_0*k_1*exp(2*L*k_1) + 2*I*k_0*k_1 - k_1**2*exp(2*L*k_1) + k_1**2)"
      ]
     },
     "execution_count": 118,
     "metadata": {},
     "output_type": "execute_result"
    }
   ],
   "source": [
    "constant_4s[ 0 ][ G ]"
   ]
  },
  {
   "cell_type": "code",
   "execution_count": 119,
   "id": "7d888468-58e9-4ae5-85fb-aa5bd5f8fbef",
   "metadata": {},
   "outputs": [
    {
     "data": {
      "text/latex": [
       "$\\displaystyle - \\frac{24.0 e^{5.0 x}}{1.0 - 25.0 e^{4.0 x}}$"
      ],
      "text/plain": [
       "-24.0*exp(5.0*x)/(1.0 - 25.0*exp(4.0*x))"
      ]
     },
     "execution_count": 119,
     "metadata": {},
     "output_type": "execute_result"
    }
   ],
   "source": [
    "constant_4s[ 0 ][ G ].subs({ k_0 : 3* sp.I, k_1 : 2.0, sp.Symbol( 'L' ) : x})"
   ]
  },
  {
   "cell_type": "code",
   "execution_count": null,
   "id": "e5e27238-ab32-4398-9c9e-bbd691b69bc8",
   "metadata": {},
   "outputs": [],
   "source": []
  },
  {
   "cell_type": "code",
   "execution_count": 120,
   "id": "6ce25f46-2c01-4221-8b37-ac845f334c27",
   "metadata": {},
   "outputs": [
    {
     "data": {
      "text/latex": [
       "$\\displaystyle \\frac{16 k_{0}^{2} k_{1}^{2} e^{2 L k_{1}}}{16 k_{0}^{2} k_{1}^{2} e^{2 L k_{1}} + \\left(1 - e^{2 L k_{1}}\\right)^{2} \\left(k_{0}^{2} + k_{1}^{2}\\right)^{2}}$"
      ],
      "text/plain": [
       "16*k_0**2*k_1**2*exp(2*L*k_1)/(16*k_0**2*k_1**2*exp(2*L*k_1) + (1 - exp(2*L*k_1))**2*(k_0**2 + k_1**2)**2)"
      ]
     },
     "execution_count": 120,
     "metadata": {},
     "output_type": "execute_result"
    }
   ],
   "source": [
    "(((2*k_0*k_1)**2)/((((k_0**2)+(k_1**2))**2)*(sp.sinh(k_1*TunnelPotential.DEFAULT_WELL_LENGTH)**2).rewrite(sp.exp)+((2*k_0*k_1)**2))).simplify().refine()"
   ]
  },
  {
   "cell_type": "code",
   "execution_count": 121,
   "id": "108a7b64-7545-4f10-938d-53fce6987915",
   "metadata": {},
   "outputs": [
    {
     "data": {
      "text/latex": [
       "$\\displaystyle \\left(k_{0}^{2} + k_{1}^{2}\\right)^{2}$"
      ],
      "text/plain": [
       "(k_0**2 + k_1**2)**2"
      ]
     },
     "execution_count": 121,
     "metadata": {},
     "output_type": "execute_result"
    }
   ],
   "source": [
    "((k_0**2)+(k_1**2))**2"
   ]
  },
  {
   "cell_type": "code",
   "execution_count": null,
   "id": "305eaedc-e477-402f-9b93-675339cc2e65",
   "metadata": {},
   "outputs": [],
   "source": []
  },
  {
   "cell_type": "code",
   "execution_count": null,
   "id": "a3fa5049-f343-4141-b487-15373b8dadf5",
   "metadata": {},
   "outputs": [],
   "source": []
  },
  {
   "cell_type": "code",
   "execution_count": null,
   "id": "043ea939-05b2-465f-9d86-2129778e63ff",
   "metadata": {},
   "outputs": [],
   "source": []
  },
  {
   "cell_type": "code",
   "execution_count": null,
   "id": "ed1426cc-63e4-4c8e-9bd8-59d2bac07ed1",
   "metadata": {},
   "outputs": [],
   "source": []
  },
  {
   "cell_type": "code",
   "execution_count": null,
   "id": "d3b97612-b5c9-4899-965b-9554c09d51a1",
   "metadata": {},
   "outputs": [],
   "source": []
  },
  {
   "cell_type": "code",
   "execution_count": null,
   "id": "93803c15-e777-4977-b012-fa64ddf55b1e",
   "metadata": {},
   "outputs": [],
   "source": []
  },
  {
   "cell_type": "code",
   "execution_count": null,
   "id": "49f70cea-ecaf-4e27-9e62-1f56d1944343",
   "metadata": {},
   "outputs": [],
   "source": []
  },
  {
   "cell_type": "code",
   "execution_count": null,
   "id": "1ee96886-a2f4-4a92-a040-1b835f306924",
   "metadata": {},
   "outputs": [],
   "source": []
  },
  {
   "cell_type": "code",
   "execution_count": null,
   "id": "9d15e116-598e-44c7-a610-432f04cd534f",
   "metadata": {},
   "outputs": [],
   "source": []
  },
  {
   "cell_type": "code",
   "execution_count": null,
   "id": "5786825e-edcc-4c53-b7ea-6b7c4fe2261c",
   "metadata": {},
   "outputs": [],
   "source": []
  },
  {
   "cell_type": "code",
   "execution_count": null,
   "id": "b25beb65-9b6b-488f-bf80-419582af8000",
   "metadata": {},
   "outputs": [],
   "source": []
  },
  {
   "cell_type": "code",
   "execution_count": null,
   "id": "f433b022-70ee-4009-a637-9ab221b3cd74",
   "metadata": {},
   "outputs": [],
   "source": []
  },
  {
   "cell_type": "code",
   "execution_count": null,
   "id": "7c9548da-c620-4eb1-b81a-b3d1f54f65f2",
   "metadata": {},
   "outputs": [],
   "source": []
  },
  {
   "cell_type": "code",
   "execution_count": null,
   "id": "b4577461-a5b1-4855-b69d-d6f84e4a2c45",
   "metadata": {},
   "outputs": [],
   "source": []
  },
  {
   "cell_type": "code",
   "execution_count": null,
   "id": "228ce03b-9ea6-4e61-9bc9-640e3b3e5709",
   "metadata": {},
   "outputs": [],
   "source": []
  },
  {
   "cell_type": "code",
   "execution_count": null,
   "id": "312a90dd-54fd-4280-a560-00a575ab3266",
   "metadata": {},
   "outputs": [],
   "source": []
  },
  {
   "cell_type": "code",
   "execution_count": null,
   "id": "243fb3a4-3ae5-4b39-8b19-d017bcc151a6",
   "metadata": {},
   "outputs": [],
   "source": []
  },
  {
   "cell_type": "code",
   "execution_count": null,
   "id": "6eab9c9d-7926-4193-b7c5-e565d4f724a5",
   "metadata": {},
   "outputs": [],
   "source": []
  },
  {
   "cell_type": "code",
   "execution_count": null,
   "id": "a6c1950b-aaa6-46fc-8378-6692a0fd2d9a",
   "metadata": {},
   "outputs": [],
   "source": []
  },
  {
   "cell_type": "code",
   "execution_count": null,
   "id": "87b9982e-057d-4dd7-8369-37517970bcfc",
   "metadata": {},
   "outputs": [],
   "source": []
  },
  {
   "cell_type": "code",
   "execution_count": null,
   "id": "1c110ae9-15c5-4689-9757-3c94215d4afa",
   "metadata": {},
   "outputs": [],
   "source": []
  },
  {
   "cell_type": "code",
   "execution_count": null,
   "id": "9f830fcd-546f-42fd-a935-b893d030c8e8",
   "metadata": {},
   "outputs": [],
   "source": []
  },
  {
   "cell_type": "code",
   "execution_count": 122,
   "id": "9a0a58d2-87e6-4757-89c9-b803346d313d",
   "metadata": {},
   "outputs": [],
   "source": [
    "psi_proto_final = [ \n",
    "        r_equation.clone( -3 ), \n",
    "        psi_region[ 1 ].clone(), \n",
    "        psi_region[ 2 ].clone()\n",
    "    ]"
   ]
  },
  {
   "cell_type": "code",
   "execution_count": 123,
   "id": "607e6498-431d-4f37-ae10-f31d0e38f6cb",
   "metadata": {},
   "outputs": [
    {
     "data": {
      "text/latex": [
       "$\\displaystyle \\psi{\\left(x \\right)} = R e^{- i k_{0} x} + e^{i k_{0} x}$"
      ],
      "text/plain": [
       "Eq(psi(x), R*exp(-I*k_0*x) + exp(I*k_0*x))"
      ]
     },
     "execution_count": 123,
     "metadata": {},
     "output_type": "execute_result"
    }
   ],
   "source": [
    "psi_proto_final[ 0 ].last_step()"
   ]
  },
  {
   "cell_type": "code",
   "execution_count": 124,
   "id": "fcf159f0-8b3a-4f24-9160-9f916416f4cd",
   "metadata": {},
   "outputs": [
    {
     "data": {
      "text/latex": [
       "$\\displaystyle \\psi_{1}{\\left(x \\right)} = C e^{- k_{1} x} + D e^{k_{1} x}$"
      ],
      "text/plain": [
       "Eq(psi_1(x), C*exp(-k_1*x) + D*exp(k_1*x))"
      ]
     },
     "execution_count": 124,
     "metadata": {},
     "output_type": "execute_result"
    }
   ],
   "source": [
    "psi_proto_final[ 1 ].last_step()"
   ]
  },
  {
   "cell_type": "code",
   "execution_count": 125,
   "id": "d800f144-5cc2-4c76-95c4-52149b733a42",
   "metadata": {},
   "outputs": [
    {
     "data": {
      "text/latex": [
       "$\\displaystyle \\psi_{2}{\\left(x \\right)} = G e^{i k_{0} x}$"
      ],
      "text/plain": [
       "Eq(psi_2(x), G*exp(I*k_0*x))"
      ]
     },
     "execution_count": 125,
     "metadata": {},
     "output_type": "execute_result"
    }
   ],
   "source": [
    "psi_proto_final[ 2 ].last_step()"
   ]
  },
  {
   "cell_type": "code",
   "execution_count": null,
   "id": "0f22afec-bdf3-4ae8-a567-97a03a2d6acd",
   "metadata": {},
   "outputs": [],
   "source": []
  },
  {
   "cell_type": "code",
   "execution_count": null,
   "id": "a32243e7-cdc8-4b0a-854a-4d090471f2c1",
   "metadata": {},
   "outputs": [],
   "source": []
  },
  {
   "cell_type": "code",
   "execution_count": 126,
   "id": "d3987f1c-0544-4ca6-9101-b2728aac9154",
   "metadata": {},
   "outputs": [],
   "source": [
    "psi_final = [\n",
    "        equation.clone().operate( lambda equation : equation.subs( constant_4s[ 0 ] ) ) for equation in psi_proto_final \n",
    "    ]"
   ]
  },
  {
   "cell_type": "code",
   "execution_count": null,
   "id": "553ea491-52de-4809-b9d2-ed065e8fba0c",
   "metadata": {},
   "outputs": [],
   "source": []
  },
  {
   "cell_type": "code",
   "execution_count": 127,
   "id": "3e576c25-c8e7-4ef7-bec1-c6a4cf9bd9ec",
   "metadata": {},
   "outputs": [
    {
     "data": {
      "text/latex": [
       "$\\displaystyle \\psi{\\left(x \\right)} = \\frac{\\left(k_{0}^{2} e^{2 L k_{1}} - k_{0}^{2} + k_{1}^{2} e^{2 L k_{1}} - k_{1}^{2}\\right) e^{- i k_{0} x}}{k_{0}^{2} e^{2 L k_{1}} - k_{0}^{2} + 2 i k_{0} k_{1} e^{2 L k_{1}} + 2 i k_{0} k_{1} - k_{1}^{2} e^{2 L k_{1}} + k_{1}^{2}} + e^{i k_{0} x}$"
      ],
      "text/plain": [
       "Eq(psi(x), (k_0**2*exp(2*L*k_1) - k_0**2 + k_1**2*exp(2*L*k_1) - k_1**2)*exp(-I*k_0*x)/(k_0**2*exp(2*L*k_1) - k_0**2 + 2*I*k_0*k_1*exp(2*L*k_1) + 2*I*k_0*k_1 - k_1**2*exp(2*L*k_1) + k_1**2) + exp(I*k_0*x))"
      ]
     },
     "execution_count": 127,
     "metadata": {},
     "output_type": "execute_result"
    }
   ],
   "source": [
    "psi_final[ 0 ]"
   ]
  },
  {
   "cell_type": "code",
   "execution_count": 128,
   "id": "94bd210c-7ab9-41e8-81c0-6ba1214d7f37",
   "metadata": {},
   "outputs": [
    {
     "data": {
      "text/latex": [
       "$\\displaystyle \\psi_{1}{\\left(x \\right)} = \\frac{2 k_{0} \\left(- k_{0} + i k_{1}\\right) e^{k_{1} x}}{k_{0}^{2} e^{2 L k_{1}} - k_{0}^{2} + 2 i k_{0} k_{1} e^{2 L k_{1}} + 2 i k_{0} k_{1} - k_{1}^{2} e^{2 L k_{1}} + k_{1}^{2}} + \\frac{2 k_{0} \\left(k_{0} + i k_{1}\\right) e^{2 L k_{1}} e^{- k_{1} x}}{k_{0}^{2} e^{2 L k_{1}} - k_{0}^{2} + 2 i k_{0} k_{1} e^{2 L k_{1}} + 2 i k_{0} k_{1} - k_{1}^{2} e^{2 L k_{1}} + k_{1}^{2}}$"
      ],
      "text/plain": [
       "Eq(psi_1(x), 2*k_0*(-k_0 + I*k_1)*exp(k_1*x)/(k_0**2*exp(2*L*k_1) - k_0**2 + 2*I*k_0*k_1*exp(2*L*k_1) + 2*I*k_0*k_1 - k_1**2*exp(2*L*k_1) + k_1**2) + 2*k_0*(k_0 + I*k_1)*exp(2*L*k_1)*exp(-k_1*x)/(k_0**2*exp(2*L*k_1) - k_0**2 + 2*I*k_0*k_1*exp(2*L*k_1) + 2*I*k_0*k_1 - k_1**2*exp(2*L*k_1) + k_1**2))"
      ]
     },
     "execution_count": 128,
     "metadata": {},
     "output_type": "execute_result"
    }
   ],
   "source": [
    "psi_final[ 1 ]"
   ]
  },
  {
   "cell_type": "code",
   "execution_count": 129,
   "id": "4d3a4bdb-89b6-4491-ab4c-d402223bfe17",
   "metadata": {},
   "outputs": [
    {
     "data": {
      "text/latex": [
       "$\\displaystyle \\psi_{2}{\\left(x \\right)} = \\frac{4 i k_{0} k_{1} e^{L \\left(- i k_{0} + k_{1}\\right)} e^{i k_{0} x}}{k_{0}^{2} e^{2 L k_{1}} - k_{0}^{2} + 2 i k_{0} k_{1} e^{2 L k_{1}} + 2 i k_{0} k_{1} - k_{1}^{2} e^{2 L k_{1}} + k_{1}^{2}}$"
      ],
      "text/plain": [
       "Eq(psi_2(x), 4*I*k_0*k_1*exp(L*(-I*k_0 + k_1))*exp(I*k_0*x)/(k_0**2*exp(2*L*k_1) - k_0**2 + 2*I*k_0*k_1*exp(2*L*k_1) + 2*I*k_0*k_1 - k_1**2*exp(2*L*k_1) + k_1**2))"
      ]
     },
     "execution_count": 129,
     "metadata": {},
     "output_type": "execute_result"
    }
   ],
   "source": [
    "psi_final[ 2 ]"
   ]
  },
  {
   "cell_type": "code",
   "execution_count": null,
   "id": "81dd5d3e-d4ec-4552-aead-603489bfc010",
   "metadata": {},
   "outputs": [],
   "source": []
  },
  {
   "cell_type": "code",
   "execution_count": 130,
   "id": "e4956342-b05f-4bbe-9d0a-6739c30bbacc",
   "metadata": {},
   "outputs": [],
   "source": [
    "# Huge thanks to Dr. Serna and https://courses.engr.illinois.edu/phys485/fa2015/web/tunneling.pdf"
   ]
  },
  {
   "cell_type": "code",
   "execution_count": null,
   "id": "5889ce6c-3ce8-48c9-b190-e4e5161bed53",
   "metadata": {},
   "outputs": [],
   "source": []
  },
  {
   "cell_type": "code",
   "execution_count": 131,
   "id": "ac13a86f-f0b4-42cd-a017-4c79e2dfd66f",
   "metadata": {},
   "outputs": [],
   "source": [
    "psi_final[ 1 ] = psi_final[ 1 ].simplify()"
   ]
  },
  {
   "cell_type": "code",
   "execution_count": 132,
   "id": "184c7f85-f58d-4ad8-9bce-06ca63c08fb6",
   "metadata": {},
   "outputs": [
    {
     "data": {
      "text/latex": [
       "$\\displaystyle \\psi_{1}{\\left(x \\right)} = \\frac{2 k_{0} \\left(- \\left(k_{0} - i k_{1}\\right) e^{2 k_{1} x} + \\left(k_{0} + i k_{1}\\right) e^{2 L k_{1}}\\right) e^{- k_{1} x}}{k_{0}^{2} e^{2 L k_{1}} - k_{0}^{2} + 2 i k_{0} k_{1} e^{2 L k_{1}} + 2 i k_{0} k_{1} - k_{1}^{2} e^{2 L k_{1}} + k_{1}^{2}}$"
      ],
      "text/plain": [
       "Eq(psi_1(x), 2*k_0*(-(k_0 - I*k_1)*exp(2*k_1*x) + (k_0 + I*k_1)*exp(2*L*k_1))*exp(-k_1*x)/(k_0**2*exp(2*L*k_1) - k_0**2 + 2*I*k_0*k_1*exp(2*L*k_1) + 2*I*k_0*k_1 - k_1**2*exp(2*L*k_1) + k_1**2))"
      ]
     },
     "execution_count": 132,
     "metadata": {},
     "output_type": "execute_result"
    }
   ],
   "source": [
    "psi_final[ 1 ]"
   ]
  },
  {
   "cell_type": "code",
   "execution_count": null,
   "id": "22f34a8b-b137-48ad-9a7d-181529e2bd26",
   "metadata": {},
   "outputs": [],
   "source": []
  },
  {
   "cell_type": "code",
   "execution_count": null,
   "id": "910fa455-b11b-43bb-b219-5f0fadae8d4c",
   "metadata": {},
   "outputs": [],
   "source": []
  },
  {
   "cell_type": "code",
   "execution_count": null,
   "id": "2c217bf6-8f5c-443e-95bd-e4f067fe82a4",
   "metadata": {},
   "outputs": [],
   "source": []
  },
  {
   "cell_type": "code",
   "execution_count": 133,
   "id": "a9e356c6-973d-40b3-87b6-d250b448976e",
   "metadata": {},
   "outputs": [
    {
     "data": {
      "text/latex": [
       "$\\displaystyle k^{2} = \\frac{2 E \\text{m}}{\\hbar^{2}}$"
      ],
      "text/plain": [
       "Eq(k**2, 2*m*E/hbar**2)"
      ]
     },
     "execution_count": 133,
     "metadata": {},
     "output_type": "execute_result"
    }
   ],
   "source": [
    "k_squared"
   ]
  },
  {
   "cell_type": "code",
   "execution_count": 134,
   "id": "76964a83-b523-44b5-ada8-d6e3842823f2",
   "metadata": {},
   "outputs": [],
   "source": [
    "k_0_squared = k_squared.subs( { k : k_0 } )"
   ]
  },
  {
   "cell_type": "code",
   "execution_count": 135,
   "id": "2d3632b6-48f3-48e0-af7d-74c62cedd359",
   "metadata": {},
   "outputs": [
    {
     "data": {
      "text/latex": [
       "$\\displaystyle k_{0}^{2} = \\frac{2 E \\text{m}}{\\hbar^{2}}$"
      ],
      "text/plain": [
       "Eq(k_0**2, 2*m*E/hbar**2)"
      ]
     },
     "execution_count": 135,
     "metadata": {},
     "output_type": "execute_result"
    }
   ],
   "source": [
    "k_0_squared"
   ]
  },
  {
   "cell_type": "code",
   "execution_count": null,
   "id": "430f782e-6ac0-44af-8312-850d9a4c6615",
   "metadata": {},
   "outputs": [],
   "source": []
  },
  {
   "cell_type": "code",
   "execution_count": 136,
   "id": "4ec8a777-e86a-48f6-b2c6-44d2baec70ba",
   "metadata": {},
   "outputs": [
    {
     "data": {
      "text/latex": [
       "$\\displaystyle k_{1}^{2} = \\frac{2 \\left(- E + V_{0}\\right) \\text{m}}{\\hbar^{2}}$"
      ],
      "text/plain": [
       "Eq(k_1**2, 2*m*(-E + V_0)/hbar**2)"
      ]
     },
     "execution_count": 136,
     "metadata": {},
     "output_type": "execute_result"
    }
   ],
   "source": [
    "k_1_squared"
   ]
  },
  {
   "cell_type": "code",
   "execution_count": null,
   "id": "c2d8f182-9bc9-474b-9f96-1e1ee99740d2",
   "metadata": {},
   "outputs": [],
   "source": []
  },
  {
   "cell_type": "code",
   "execution_count": 137,
   "id": "8780802c-240b-48f8-a81c-05c39855f5ad",
   "metadata": {},
   "outputs": [],
   "source": [
    "numerical_k_squared = lambda total_energy, voltage_0, mass, hbar : ( 2 * ( voltage_0 - total_energy ) * mass ) / ( hbar ** 2 )"
   ]
  },
  {
   "cell_type": "code",
   "execution_count": 138,
   "id": "b98aab03-6cb2-43c5-a5ec-bb0b22bb034b",
   "metadata": {},
   "outputs": [],
   "source": [
    "numerical_beta_squared = lambda total_energy, mass, hbar : ( 2 * ( total_energy ) * mass ) / ( hbar ** 2 )"
   ]
  },
  {
   "cell_type": "code",
   "execution_count": null,
   "id": "a26b2f76-60b1-4ce5-b772-4cd415df575e",
   "metadata": {},
   "outputs": [],
   "source": []
  },
  {
   "cell_type": "code",
   "execution_count": 139,
   "id": "6286f92d-cd63-4cd9-9b14-ae75d2cc2521",
   "metadata": {},
   "outputs": [],
   "source": [
    "wave_numbers = {\n",
    "    k_0 : sp.sqrt( -numerical_beta_squared( 0.5, 1.0, 1.0 ) ), \n",
    "    k_1 : sp.sqrt( numerical_k_squared( 0.5, 0.55, 1.0, 1.0 ) )\n",
    "}"
   ]
  },
  {
   "cell_type": "code",
   "execution_count": 140,
   "id": "31867056-7eb7-48f4-8668-f18ea53cfa9a",
   "metadata": {},
   "outputs": [],
   "source": [
    "length = 5.0"
   ]
  },
  {
   "cell_type": "code",
   "execution_count": 141,
   "id": "63f7f0b0-b8b7-4315-b8a5-e072d0a19f65",
   "metadata": {},
   "outputs": [],
   "source": [
    "domains = [\n",
    "        ( -1.0, 0.0 ), \n",
    "        ( 0.0, length ), \n",
    "        ( length, length + 5.0 )\n",
    "    ]"
   ]
  },
  {
   "cell_type": "code",
   "execution_count": null,
   "id": "240dbcf8-6f73-4db4-b14d-5cfa5e2bfc4c",
   "metadata": {},
   "outputs": [],
   "source": []
  },
  {
   "cell_type": "code",
   "execution_count": 142,
   "id": "c91d7c3a-664c-4e23-b941-88fb3e8cdc6e",
   "metadata": {},
   "outputs": [],
   "source": [
    "def make_psi_numerical( psis, wave_numbers, domains, length, length_symbol = TunnelPotential.DEFAULT_WELL_LENGTH ):\n",
    "    #functions = [\n",
    "    return tuple( ( psis[ ii ].subs( wave_numbers ).subs( length_symbol, length ).rhs, ( x, *domains[ ii ] ) ) for ii in range( len( psis ) ) )# ]\n",
    "    #return tuple( ( ( function[ 0 ] * sp.conjugate( function[ 0 ] ) ).simplify(), function[ 1 ] ) for function in functions )"
   ]
  },
  {
   "cell_type": "code",
   "execution_count": null,
   "id": "ee995b86-2cd0-4019-8490-cff2027755ba",
   "metadata": {},
   "outputs": [],
   "source": []
  },
  {
   "cell_type": "code",
   "execution_count": 143,
   "id": "7022868d-1051-444f-91a9-8f7831c7f8df",
   "metadata": {},
   "outputs": [],
   "source": [
    "psi_numerical = make_psi_numerical( psi_final, wave_numbers, domains, length )"
   ]
  },
  {
   "cell_type": "code",
   "execution_count": null,
   "id": "c6eaf550-db5c-4b72-8e18-10e69b26768e",
   "metadata": {},
   "outputs": [],
   "source": []
  },
  {
   "cell_type": "code",
   "execution_count": 144,
   "id": "b1ec6195-d5fb-463c-b44c-5bda1d811c88",
   "metadata": {},
   "outputs": [
    {
     "data": {
      "image/png": "[encoded data removed]",
      "text/plain": [
       "<Figure size 432x288 with 1 Axes>"
      ]
     },
     "metadata": {
      "needs_background": "light"
     },
     "output_type": "display_data"
    },
    {
     "data": {
      "text/plain": [
       "<sympy.plotting.plot.Plot at 0x7fe4eb7e72e0>"
      ]
     },
     "execution_count": 144,
     "metadata": {},
     "output_type": "execute_result"
    }
   ],
   "source": [
    "sp.plot( *psi_numerical )"
   ]
  },
  {
   "cell_type": "code",
   "execution_count": null,
   "id": "1866b42b-f4cc-43b6-9dc7-9f976ac3b19e",
   "metadata": {},
   "outputs": [],
   "source": []
  },
  {
   "cell_type": "code",
   "execution_count": 145,
   "id": "281bea2b-bd4a-4fdd-bb72-7d5c12867ab4",
   "metadata": {},
   "outputs": [
    {
     "data": {
      "text/latex": [
       "$\\displaystyle 0.503253019944681 e^{1.0 x} + e^{- 1.0 x}$"
      ],
      "text/plain": [
       "0.503253019944681*exp(1.0*x) + exp(-1.0*x)"
      ]
     },
     "execution_count": 145,
     "metadata": {},
     "output_type": "execute_result"
    }
   ],
   "source": [
    "psi_numerical[ 0 ][ 0 ]"
   ]
  },
  {
   "cell_type": "code",
   "execution_count": 146,
   "id": "b32b090d-dca6-4651-9cc3-03a89b7c0ca4",
   "metadata": {},
   "outputs": [
    {
     "data": {
      "text/latex": [
       "$\\displaystyle - 0.0494308298002835 i \\left(- 0.683772233983162 i e^{0.632455532033676 x} + 31.0950161078632 i\\right) e^{- 0.316227766016838 x}$"
      ],
      "text/plain": [
       "-0.0494308298002835*I*(-0.683772233983162*I*exp(0.632455532033676*x) + 31.0950161078632*I)*exp(-0.316227766016838*x)"
      ]
     },
     "execution_count": 146,
     "metadata": {},
     "output_type": "execute_result"
    }
   ],
   "source": [
    "psi_numerical[ 1 ][ 0 ]"
   ]
  },
  {
   "cell_type": "code",
   "execution_count": 147,
   "id": "ed3b0ce4-5cc1-4486-8997-edcf027b2632",
   "metadata": {},
   "outputs": [
    {
     "data": {
      "text/latex": [
       "$\\displaystyle 22.551746199257 e^{- 1.0 x}$"
      ],
      "text/plain": [
       "22.551746199257*exp(-1.0*x)"
      ]
     },
     "execution_count": 147,
     "metadata": {},
     "output_type": "execute_result"
    }
   ],
   "source": [
    "psi_numerical[ 2 ][ 0 ]"
   ]
  },
  {
   "cell_type": "code",
   "execution_count": null,
   "id": "7d923892-dc57-4d88-ab17-5e8f07073056",
   "metadata": {},
   "outputs": [],
   "source": []
  },
  {
   "cell_type": "code",
   "execution_count": 148,
   "id": "69ba9358-65d7-4e3d-85f9-fdc33f26ecff",
   "metadata": {},
   "outputs": [
    {
     "data": {
      "text/latex": [
       "$\\displaystyle 1.0 i$"
      ],
      "text/plain": [
       "1.0*I"
      ]
     },
     "execution_count": 148,
     "metadata": {},
     "output_type": "execute_result"
    }
   ],
   "source": [
    "wave_numbers[ k_0 ]"
   ]
  },
  {
   "cell_type": "code",
   "execution_count": 149,
   "id": "4602f4c9-63a2-4dc9-ae89-786b37476604",
   "metadata": {},
   "outputs": [
    {
     "data": {
      "text/latex": [
       "$\\displaystyle 0.316227766016838$"
      ],
      "text/plain": [
       "0.316227766016838"
      ]
     },
     "execution_count": 149,
     "metadata": {},
     "output_type": "execute_result"
    }
   ],
   "source": [
    "wave_numbers[ k_1 ]"
   ]
  },
  {
   "cell_type": "code",
   "execution_count": null,
   "id": "b405df95-db03-4050-bfbf-6fc69dfe6a9d",
   "metadata": {},
   "outputs": [],
   "source": []
  },
  {
   "cell_type": "code",
   "execution_count": 150,
   "id": "2eb65dad-c1fb-460a-988d-8d705ea275ec",
   "metadata": {},
   "outputs": [],
   "source": [
    "scalar = 10e30"
   ]
  },
  {
   "cell_type": "code",
   "execution_count": 151,
   "id": "e1ea1f25-ad66-4ca0-aaff-0af380546b58",
   "metadata": {},
   "outputs": [],
   "source": [
    "plancks_constant = 6.626068# * 10e-34 * scalar"
   ]
  },
  {
   "cell_type": "code",
   "execution_count": 152,
   "id": "53eda55f-b675-414e-a8f6-9f6ff488ecfe",
   "metadata": {},
   "outputs": [],
   "source": [
    "reduced_plancks_constant = plancks_constant / ( 2 * sp.pi )"
   ]
  },
  {
   "cell_type": "code",
   "execution_count": 153,
   "id": "aa9bd839-fea6-480e-9c42-9e359904655f",
   "metadata": {},
   "outputs": [],
   "source": [
    "reduced_plancks_constant = reduced_plancks_constant.evalf()"
   ]
  },
  {
   "cell_type": "code",
   "execution_count": null,
   "id": "3b4b605f-2efb-41f3-b8ba-88776efe5a50",
   "metadata": {},
   "outputs": [],
   "source": []
  },
  {
   "cell_type": "code",
   "execution_count": 154,
   "id": "ef515415-5fa7-4813-adb2-e2f7a5f316ac",
   "metadata": {},
   "outputs": [],
   "source": [
    "electron_mass = 9.109# * 10e-31 * scalar * 10e-2"
   ]
  },
  {
   "cell_type": "code",
   "execution_count": null,
   "id": "eea5d9bd-8d03-4ffb-be78-2055cb82d599",
   "metadata": {},
   "outputs": [],
   "source": []
  },
  {
   "cell_type": "code",
   "execution_count": 155,
   "id": "b668cedf-8e00-479f-afad-d6c64784a0eb",
   "metadata": {},
   "outputs": [],
   "source": [
    "electron_total_energy = electron_mass * 10"
   ]
  },
  {
   "cell_type": "code",
   "execution_count": null,
   "id": "ae5fd4b8-6c45-4f44-85d0-d9f047aadc79",
   "metadata": {},
   "outputs": [],
   "source": []
  },
  {
   "cell_type": "code",
   "execution_count": 156,
   "id": "23926a66-a082-4378-b06a-f1a34e06a485",
   "metadata": {},
   "outputs": [],
   "source": [
    "barrier_energy = electron_total_energy * 4.0"
   ]
  },
  {
   "cell_type": "code",
   "execution_count": null,
   "id": "a1d68c70-be9d-4d77-aba8-cd8b5b2bdb91",
   "metadata": {},
   "outputs": [],
   "source": []
  },
  {
   "cell_type": "code",
   "execution_count": 157,
   "id": "0085e1f6-8efc-473e-a2b7-35447392bffa",
   "metadata": {},
   "outputs": [],
   "source": [
    "barrier_length = plancks_constant"
   ]
  },
  {
   "cell_type": "code",
   "execution_count": null,
   "id": "19d129a3-20e1-4790-9c7d-186ca0435902",
   "metadata": {},
   "outputs": [],
   "source": []
  },
  {
   "cell_type": "code",
   "execution_count": 158,
   "id": "7dbfeaf7-5495-4019-af71-6328c4ad2714",
   "metadata": {},
   "outputs": [],
   "source": [
    "physical_wave_numbers = {\n",
    "    k_0 : sp.sqrt( -numerical_beta_squared( electron_total_energy, electron_mass, reduced_plancks_constant ) ), \n",
    "    k_1 : sp.sqrt( numerical_k_squared( electron_total_energy, reduced_plancks_constant, electron_mass, reduced_plancks_constant ) )\n",
    "}"
   ]
  },
  {
   "cell_type": "code",
   "execution_count": null,
   "id": "9e80b73d-1d3a-4ac1-9d50-b2a18028a2d4",
   "metadata": {},
   "outputs": [],
   "source": []
  },
  {
   "cell_type": "code",
   "execution_count": 159,
   "id": "a595b058-eb8c-473a-8703-eeb96913df08",
   "metadata": {},
   "outputs": [],
   "source": [
    "base_steps = int( barrier_length / reduced_plancks_constant )"
   ]
  },
  {
   "cell_type": "code",
   "execution_count": null,
   "id": "7f9543f1-e873-415b-932f-cb7a807359a1",
   "metadata": {},
   "outputs": [],
   "source": []
  },
  {
   "cell_type": "code",
   "execution_count": 160,
   "id": "128aef57-8116-4086-be87-3730ea4dd084",
   "metadata": {},
   "outputs": [],
   "source": [
    "physical_domains = [\n",
    "        ( -.005 * barrier_length, 0.0 ), \n",
    "        ( 0.0, barrier_length ), \n",
    "        ( barrier_length, 2 * barrier_length )\n",
    "    ]"
   ]
  },
  {
   "cell_type": "code",
   "execution_count": null,
   "id": "f887b166-f233-4770-8517-dc1c5f67b470",
   "metadata": {},
   "outputs": [],
   "source": []
  },
  {
   "cell_type": "code",
   "execution_count": 161,
   "id": "b8497908-da07-4804-834a-cdb7a87b91b6",
   "metadata": {},
   "outputs": [],
   "source": [
    "physical_psi_numerical = make_psi_numerical( psi_final, physical_wave_numbers, physical_domains, barrier_length )"
   ]
  },
  {
   "cell_type": "code",
   "execution_count": null,
   "id": "7f54f893-d6c1-41ad-ad55-ecfdda1dcc97",
   "metadata": {},
   "outputs": [],
   "source": []
  },
  {
   "cell_type": "code",
   "execution_count": 162,
   "id": "ee8d3981-73c2-4545-bb65-27c96ecb5e34",
   "metadata": {},
   "outputs": [],
   "source": [
    "conjugate_functions = lambda functions : tuple( ( ( function[ 0 ] * sp.conjugate( function[ 0 ] ) ).simplify(), function[ 1 ] ) for function in functions )"
   ]
  },
  {
   "cell_type": "code",
   "execution_count": 163,
   "id": "7760a44a-93fd-497c-a010-c7b50494be22",
   "metadata": {},
   "outputs": [],
   "source": [
    "real_function = lambda functions : tuple( ( function[ 0 ].as_real_imag()[ 0 ], function[ 1 ] ) for function in functions )"
   ]
  },
  {
   "cell_type": "code",
   "execution_count": 164,
   "id": "61a2632a-5431-4034-914a-68fe0a4d9a1a",
   "metadata": {},
   "outputs": [],
   "source": [
    "imaginary_function = lambda functions : tuple( ( function[ 0 ].as_real_imag()[ 1 ], function[ 1 ] ) for function in functions )"
   ]
  },
  {
   "cell_type": "code",
   "execution_count": null,
   "id": "0c915bd6-85b8-4614-9e55-e33b6c6bbec8",
   "metadata": {},
   "outputs": [],
   "source": []
  },
  {
   "cell_type": "code",
   "execution_count": null,
   "id": "6039ed03-a9ec-4429-87f7-a9b720f7f146",
   "metadata": {},
   "outputs": [],
   "source": []
  },
  {
   "cell_type": "code",
   "execution_count": 165,
   "id": "34434828-b2b5-4fe0-a86f-82fc649d31f7",
   "metadata": {},
   "outputs": [
    {
     "data": {
      "image/png": "[encoded data removed]",
      "text/plain": [
       "<Figure size 432x288 with 1 Axes>"
      ]
     },
     "metadata": {
      "needs_background": "light"
     },
     "output_type": "display_data"
    },
    {
     "data": {
      "text/plain": [
       "<sympy.plotting.plot.Plot at 0x7fe4eb1a29a0>"
      ]
     },
     "execution_count": 165,
     "metadata": {},
     "output_type": "execute_result"
    }
   ],
   "source": [
    "sp.plot( *conjugate_functions( physical_psi_numerical ), points = 1000000 )"
   ]
  },
  {
   "cell_type": "code",
   "execution_count": null,
   "id": "517ae548-1b13-4476-b89c-3e50d6accd35",
   "metadata": {},
   "outputs": [],
   "source": []
  },
  {
   "cell_type": "code",
   "execution_count": 166,
   "id": "d70e6f24-2a82-441f-b7b8-beeda7e1ccaa",
   "metadata": {},
   "outputs": [],
   "source": [
    "def all_transform_combos( functions, transforms = (\n",
    "            lambda this : this, \n",
    "            conjugate_functions, \n",
    "            real_function, \n",
    "            imaginary_function\n",
    "        ) ):\n",
    "    total = []\n",
    "    for ii in transforms: \n",
    "        for jj in transforms: \n",
    "            for kk in jj( ii( functions ) ):\n",
    "                total.append( kk )\n",
    "    return tuple( total )"
   ]
  },
  {
   "cell_type": "code",
   "execution_count": null,
   "id": "6c981842-7480-4a0c-b9ec-7612c820aacb",
   "metadata": {},
   "outputs": [],
   "source": []
  },
  {
   "cell_type": "code",
   "execution_count": 167,
   "id": "b5b513e8-15d6-4ef6-bd89-0061d4746071",
   "metadata": {},
   "outputs": [],
   "source": [
    "all_transforms = all_transform_combos( physical_psi_numerical )"
   ]
  },
  {
   "cell_type": "code",
   "execution_count": 168,
   "id": "fbb236ce-d568-450b-956f-ebc00c9f3be4",
   "metadata": {},
   "outputs": [
    {
     "data": {
      "text/plain": [
       "(x, -0.03313034, 0.0)"
      ]
     },
     "execution_count": 168,
     "metadata": {},
     "output_type": "execute_result"
    }
   ],
   "source": [
    "all_transforms[ 0 ][ 1 ]"
   ]
  },
  {
   "cell_type": "code",
   "execution_count": 169,
   "id": "255f4de9-a49c-4462-820f-f028a83d27c5",
   "metadata": {},
   "outputs": [
    {
     "data": {
      "image/png": "[encoded data removed]",
      "text/plain": [
       "<Figure size 432x288 with 1 Axes>"
      ]
     },
     "metadata": {
      "needs_background": "light"
     },
     "output_type": "display_data"
    },
    {
     "data": {
      "text/plain": [
       "<sympy.plotting.plot.Plot at 0x7fe4ec327be0>"
      ]
     },
     "execution_count": 169,
     "metadata": {},
     "output_type": "execute_result"
    }
   ],
   "source": [
    "%matplotlib inline\n",
    "sp.plot( *tuple( all_transforms ) )"
   ]
  },
  {
   "cell_type": "code",
   "execution_count": null,
   "id": "c4eb535a-d0cf-4823-a3f0-8fda08a8a9c9",
   "metadata": {},
   "outputs": [],
   "source": []
  },
  {
   "cell_type": "code",
   "execution_count": 170,
   "id": "64dae821-3a42-43f4-b7b2-16a267fe0c3b",
   "metadata": {},
   "outputs": [
    {
     "data": {
      "text/latex": [
       "$\\displaystyle \\frac{\\left(2967.0719878285 - 2967.0719878285 e^{508.940404756209 i}\\right) e^{38.6286632645786 x}}{17.2752633879093 - 2967.02169628593 i - 2967.02169628593 i e^{508.940404756209 i} - 17.2752633879093 e^{508.940404756209 i}} + e^{- 38.6286632645786 x}$"
      ],
      "text/plain": [
       "(2967.0719878285 - 2967.0719878285*exp(508.940404756209*I))*exp(38.6286632645786*x)/(17.2752633879093 - 2967.02169628593*I - 2967.02169628593*I*exp(508.940404756209*I) - 17.2752633879093*exp(508.940404756209*I)) + exp(-38.6286632645786*x)"
      ]
     },
     "execution_count": 170,
     "metadata": {},
     "output_type": "execute_result"
    }
   ],
   "source": [
    "physical_psi_numerical[ 0 ][ 0 ]"
   ]
  },
  {
   "cell_type": "code",
   "execution_count": null,
   "id": "3dcb8dcb-b64c-494f-9efa-8ddbd35472b8",
   "metadata": {},
   "outputs": [],
   "source": []
  },
  {
   "cell_type": "code",
   "execution_count": null,
   "id": "e268a7ef-8c4c-4144-8dc2-653535e950de",
   "metadata": {},
   "outputs": [],
   "source": []
  },
  {
   "cell_type": "code",
   "execution_count": null,
   "id": "5fe93f86-29d4-4fa3-9545-6441a513959a",
   "metadata": {},
   "outputs": [],
   "source": []
  },
  {
   "cell_type": "code",
   "execution_count": null,
   "id": "90eacbf7-963a-4d01-8388-adab8fe0ba6d",
   "metadata": {},
   "outputs": [],
   "source": []
  },
  {
   "cell_type": "code",
   "execution_count": null,
   "id": "3833009e-8942-41f6-b920-1111a41c02ff",
   "metadata": {},
   "outputs": [],
   "source": []
  },
  {
   "cell_type": "code",
   "execution_count": null,
   "id": "8341a591-9431-40c1-8668-5fddcacbfdb2",
   "metadata": {},
   "outputs": [],
   "source": []
  }
 ],
 "metadata": {
  "kernelspec": {
   "display_name": "Python 3 (ipykernel)",
   "language": "python",
   "name": "python3"
  },
  "language_info": {
   "codemirror_mode": {
    "name": "ipython",
    "version": 3
   },
   "file_extension": ".py",
   "mimetype": "text/x-python",
   "name": "python",
   "nbconvert_exporter": "python",
   "pygments_lexer": "ipython3",
   "version": "3.9.10"
  }
 },
 "nbformat": 4,
 "nbformat_minor": 5
}
