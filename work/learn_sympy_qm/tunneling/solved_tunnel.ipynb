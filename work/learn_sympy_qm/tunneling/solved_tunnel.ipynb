{
 "cells": [
  {
   "cell_type": "code",
   "execution_count": 1,
   "id": "fa769274-f362-4d18-a208-61951b828b50",
   "metadata": {},
   "outputs": [],
   "source": [
    "import sympy as sp"
   ]
  },
  {
   "cell_type": "code",
   "execution_count": 2,
   "id": "d282273a-2a21-461b-bb8c-54fe37e86385",
   "metadata": {},
   "outputs": [],
   "source": [
    "import numpy as np"
   ]
  },
  {
   "cell_type": "code",
   "execution_count": null,
   "id": "c59a376e-2829-4b01-bc9a-118f7d085a90",
   "metadata": {},
   "outputs": [],
   "source": []
  },
  {
   "cell_type": "code",
   "execution_count": 39,
   "id": "65c427cc-c3cd-443d-856c-6bf000f27f88",
   "metadata": {},
   "outputs": [],
   "source": [
    "#In the case E > V\n"
   ]
  },
  {
   "cell_type": "code",
   "execution_count": 3,
   "id": "38dbfa57-f808-4ccf-bbab-45322bdae464",
   "metadata": {},
   "outputs": [],
   "source": [
    "R = sp.Symbol( 'R' )"
   ]
  },
  {
   "cell_type": "code",
   "execution_count": 6,
   "id": "cb0662e4-b968-44f2-96bc-3213ed5ea740",
   "metadata": {},
   "outputs": [],
   "source": [
    "length = sp.Symbol( 'L', positive = True, nonzero = True )"
   ]
  },
  {
   "cell_type": "code",
   "execution_count": 11,
   "id": "b458a415-87c9-4cbd-aa30-d12aa327b23c",
   "metadata": {},
   "outputs": [],
   "source": [
    "k_1_symbol = sp.Symbol( 'K1', positive = True, nonzero = True )"
   ]
  },
  {
   "cell_type": "code",
   "execution_count": 12,
   "id": "07725147-0590-44d6-be11-f8c873879dbe",
   "metadata": {},
   "outputs": [],
   "source": [
    "k_2_symbol = sp.Symbol( 'K2', positive = True, nonzero = True )"
   ]
  },
  {
   "cell_type": "code",
   "execution_count": 13,
   "id": "2e3a84b5-9365-412d-aad6-56319ab1a13e",
   "metadata": {},
   "outputs": [],
   "source": [
    "mass = sp.Symbol( 'm', positive = True, nonzero = True )"
   ]
  },
  {
   "cell_type": "code",
   "execution_count": 14,
   "id": "b144b80a-13fe-444e-9e0a-6d56c617ab47",
   "metadata": {},
   "outputs": [],
   "source": [
    "total_energy = sp.Symbol( 'E', positive = True, nonzero = True )"
   ]
  },
  {
   "cell_type": "code",
   "execution_count": 15,
   "id": "7ec3872c-21f5-4503-afb2-fa1f9234a4a6",
   "metadata": {},
   "outputs": [],
   "source": [
    "wall_potential = sp.Symbol( \"V0\", positive = True, nonzero = True )"
   ]
  },
  {
   "cell_type": "code",
   "execution_count": 21,
   "id": "6c06d5d8-eb84-4798-9016-ddf1e76557ae",
   "metadata": {},
   "outputs": [],
   "source": [
    "hbar = sp.physics.units.Quantity( \"hbar\" )"
   ]
  },
  {
   "cell_type": "code",
   "execution_count": 22,
   "id": "ac69e473-d356-439a-8156-736f5eaa38a4",
   "metadata": {},
   "outputs": [],
   "source": [
    "reduce_planck_constant = sp.Eq( hbar, sp.physics.units.planck / ( 2 * sp.pi ) )"
   ]
  },
  {
   "cell_type": "code",
   "execution_count": 23,
   "id": "7ef75182-e35b-4977-95de-7c50f200f5c1",
   "metadata": {},
   "outputs": [
    {
     "data": {
      "text/latex": [
       "$\\displaystyle \\text{hbar} = \\frac{\\text{h}}{2 \\pi}$"
      ],
      "text/plain": [
       "Eq(hbar, planck/(2*pi))"
      ]
     },
     "execution_count": 23,
     "metadata": {},
     "output_type": "execute_result"
    }
   ],
   "source": [
    "reduce_planck_constant"
   ]
  },
  {
   "cell_type": "code",
   "execution_count": null,
   "id": "687db90b-6928-48c8-a603-dbf969dca0c7",
   "metadata": {},
   "outputs": [],
   "source": []
  },
  {
   "cell_type": "code",
   "execution_count": 28,
   "id": "73105607-6a94-4c23-a01d-611ebe7dc1c3",
   "metadata": {},
   "outputs": [],
   "source": [
    "k_1 = sp.Eq( k_1_symbol, \n",
    "            2 * mass * total_energy / ( reduce_planck_constant.rhs ** 2 ) )"
   ]
  },
  {
   "cell_type": "code",
   "execution_count": 30,
   "id": "08884636-89c5-4419-a8f2-fdbdfac83a3b",
   "metadata": {},
   "outputs": [
    {
     "data": {
      "text/latex": [
       "$\\displaystyle K_{1} = \\frac{8 \\pi^{2} E m}{\\text{h}^{2}}$"
      ],
      "text/plain": [
       "Eq(K1, 8*pi**2*E*m/planck**2)"
      ]
     },
     "execution_count": 30,
     "metadata": {},
     "output_type": "execute_result"
    }
   ],
   "source": [
    "k_1"
   ]
  },
  {
   "cell_type": "code",
   "execution_count": null,
   "id": "bb4ef28d-ac9d-4f2c-98d0-0affdf407f10",
   "metadata": {},
   "outputs": [],
   "source": []
  },
  {
   "cell_type": "code",
   "execution_count": 32,
   "id": "ec4d16e6-d017-4cec-9f4d-d67752284b25",
   "metadata": {},
   "outputs": [],
   "source": [
    "k_2 = sp.Eq( k_2_symbol, \n",
    "            2 * mass * ( total_energy - wall_potential ) / ( reduce_planck_constant.rhs ** 2 ) )"
   ]
  },
  {
   "cell_type": "code",
   "execution_count": 33,
   "id": "7cf96294-a04f-46a5-b91f-f7846e296840",
   "metadata": {},
   "outputs": [
    {
     "data": {
      "text/latex": [
       "$\\displaystyle K_{2} = \\frac{8 \\pi^{2} m \\left(E - V_{0}\\right)}{\\text{h}^{2}}$"
      ],
      "text/plain": [
       "Eq(K2, 8*pi**2*m*(E - V0)/planck**2)"
      ]
     },
     "execution_count": 33,
     "metadata": {},
     "output_type": "execute_result"
    }
   ],
   "source": [
    "k_2"
   ]
  },
  {
   "cell_type": "code",
   "execution_count": null,
   "id": "8b9d86bb-0752-4cc4-9ca3-abf570e43edd",
   "metadata": {},
   "outputs": [],
   "source": []
  },
  {
   "cell_type": "code",
   "execution_count": null,
   "id": "e21158bf-b9bf-4291-ad33-28cbd7affa82",
   "metadata": {},
   "outputs": [],
   "source": []
  },
  {
   "cell_type": "code",
   "execution_count": 37,
   "id": "ec082f9e-d70b-4220-868f-b9858b9280c7",
   "metadata": {},
   "outputs": [],
   "source": [
    "reflection_coefficient = sp.Eq( R, \n",
    "      ( ( ( k_2_symbol ** 2 ) - ( k_1_symbol ** 2 ) ) * sp.sin( k_2_symbol * length ) ) \\\n",
    "              / ( 4 * ( k_2_symbol ** 2 ) * ( k_1_symbol ** 2 ) ) \\\n",
    "              + ( ( ( k_1_symbol ** 2 ) - ( k_2_symbol ** 2 ) ) ** 2 ) \\\n",
    "              * ( sp.sin( k_2_symbol * length ) ** 2 )\n",
    "     )"
   ]
  },
  {
   "cell_type": "code",
   "execution_count": 38,
   "id": "0c1fc199-855f-48dd-a08b-5df933182ece",
   "metadata": {},
   "outputs": [
    {
     "data": {
      "text/latex": [
       "$\\displaystyle R = \\left(K_{1}^{2} - K_{2}^{2}\\right)^{2} \\sin^{2}{\\left(K_{2} L \\right)} + \\frac{\\left(- K_{1}^{2} + K_{2}^{2}\\right) \\sin{\\left(K_{2} L \\right)}}{4 K_{1}^{2} K_{2}^{2}}$"
      ],
      "text/plain": [
       "Eq(R, (K1**2 - K2**2)**2*sin(K2*L)**2 + (-K1**2 + K2**2)*sin(K2*L)/(4*K1**2*K2**2))"
      ]
     },
     "execution_count": 38,
     "metadata": {},
     "output_type": "execute_result"
    }
   ],
   "source": [
    "reflection_coefficient"
   ]
  },
  {
   "cell_type": "code",
   "execution_count": null,
   "id": "5f9372d1-6dcc-4134-aaaf-4406fceefe89",
   "metadata": {},
   "outputs": [],
   "source": []
  },
  {
   "cell_type": "code",
   "execution_count": null,
   "id": "3e148d94-9746-45a5-b387-49e3b6b30aa0",
   "metadata": {},
   "outputs": [],
   "source": []
  },
  {
   "cell_type": "code",
   "execution_count": null,
   "id": "c1b77bf6-6542-42f8-8adf-3602078736c2",
   "metadata": {},
   "outputs": [],
   "source": []
  }
 ],
 "metadata": {
  "kernelspec": {
   "display_name": "Python 3 (ipykernel)",
   "language": "python",
   "name": "python3"
  },
  "language_info": {
   "codemirror_mode": {
    "name": "ipython",
    "version": 3
   },
   "file_extension": ".py",
   "mimetype": "text/x-python",
   "name": "python",
   "nbconvert_exporter": "python",
   "pygments_lexer": "ipython3",
   "version": "3.9.10"
  }
 },
 "nbformat": 4,
 "nbformat_minor": 5
}
