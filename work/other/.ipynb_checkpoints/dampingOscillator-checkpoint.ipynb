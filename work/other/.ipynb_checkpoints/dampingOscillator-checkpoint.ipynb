{
 "cells": [
  {
   "cell_type": "code",
   "execution_count": 1,
   "id": "738e3964-1260-41cf-a3ea-422bff7beecc",
   "metadata": {},
   "outputs": [],
   "source": [
    "import sympy as sp"
   ]
  },
  {
   "cell_type": "code",
   "execution_count": null,
   "id": "bc9cd8da-bad2-4218-b1dd-faf6ece8fc93",
   "metadata": {},
   "outputs": [],
   "source": []
  },
  {
   "cell_type": "code",
   "execution_count": 2,
   "id": "fa64f3d5-4b99-46a4-8328-729d3d090c77",
   "metadata": {},
   "outputs": [],
   "source": [
    "springConstant = sp.Symbol(\"k\", real=True)"
   ]
  },
  {
   "cell_type": "code",
   "execution_count": 3,
   "id": "7ba9244c-9b3d-4dde-8679-c36739cbc3d0",
   "metadata": {},
   "outputs": [],
   "source": [
    "dampiningConstant = sp.Symbol(\"c\", real=True)"
   ]
  },
  {
   "cell_type": "code",
   "execution_count": 4,
   "id": "38765e1c-7702-494e-ae56-6f4d12b78a66",
   "metadata": {},
   "outputs": [],
   "source": [
    "amplitudeCoefficient = sp.Symbol(\"A\")"
   ]
  },
  {
   "cell_type": "code",
   "execution_count": 5,
   "id": "455a7393-28d2-41c7-8344-353342d2cafa",
   "metadata": {},
   "outputs": [],
   "source": [
    "frequency = sp.Symbol(\"omega\", real=True)"
   ]
  },
  {
   "cell_type": "code",
   "execution_count": 6,
   "id": "8f282a9b-f38d-49a0-8f8d-eaee9116332f",
   "metadata": {},
   "outputs": [],
   "source": [
    "position = sp.Function(\"x\", real=True)"
   ]
  },
  {
   "cell_type": "code",
   "execution_count": 7,
   "id": "35199fa9-3cff-4b8c-aa81-dad1f436fb13",
   "metadata": {},
   "outputs": [],
   "source": [
    "time = sp.Symbol(\"t\", real=True)"
   ]
  },
  {
   "cell_type": "code",
   "execution_count": 8,
   "id": "d9825613-fb49-4fa1-8239-7c99e928099a",
   "metadata": {},
   "outputs": [],
   "source": [
    "drivingForce0 = sp.Symbol(\"F_0\", real=True)"
   ]
  },
  {
   "cell_type": "code",
   "execution_count": 9,
   "id": "766a2770-6722-4799-a15d-6076e0d2795e",
   "metadata": {},
   "outputs": [],
   "source": [
    "mass = sp.Symbol(\"m\", real=True, positive=True)"
   ]
  },
  {
   "cell_type": "code",
   "execution_count": null,
   "id": "c3cac3d8-ed34-4249-9024-8312c1292c96",
   "metadata": {},
   "outputs": [],
   "source": []
  },
  {
   "cell_type": "code",
   "execution_count": 10,
   "id": "ae1448b4-9729-4dd6-937f-0404448d394a",
   "metadata": {},
   "outputs": [],
   "source": [
    "steadyState = sp.Eq(position(time), amplitudeCoefficient * sp.sin(frequency * time))"
   ]
  },
  {
   "cell_type": "code",
   "execution_count": 11,
   "id": "e9a2a394-f459-4b95-b18e-2a3c060476ae",
   "metadata": {},
   "outputs": [],
   "source": [
    "restoringForce = -springConstant * position(time)"
   ]
  },
  {
   "cell_type": "code",
   "execution_count": 12,
   "id": "3c2be1bd-d1d2-4046-8509-85e26dc2a241",
   "metadata": {},
   "outputs": [],
   "source": [
    "dampiningForce = -dampiningConstant * sp.Derivative(position(time), time)"
   ]
  },
  {
   "cell_type": "code",
   "execution_count": 13,
   "id": "f841f140-73cb-4544-bc4c-988391b5e93e",
   "metadata": {},
   "outputs": [],
   "source": [
    "drivingForce = drivingForce0 * sp.cos(frequency * time) # Unused"
   ]
  },
  {
   "cell_type": "code",
   "execution_count": null,
   "id": "50fed271-fba1-4658-8ad7-cb3e0fcca9cc",
   "metadata": {},
   "outputs": [],
   "source": []
  },
  {
   "cell_type": "code",
   "execution_count": 14,
   "id": "3d2f857c-7139-4d9a-b915-fee761ab1f88",
   "metadata": {},
   "outputs": [
    {
     "data": {
      "text/latex": [
       "$\\displaystyle x{\\left(t \\right)} = A \\sin{\\left(\\omega t \\right)}$"
      ],
      "text/plain": [
       "Eq(x(t), A*sin(omega*t))"
      ]
     },
     "execution_count": 14,
     "metadata": {},
     "output_type": "execute_result"
    }
   ],
   "source": [
    "steadyState"
   ]
  },
  {
   "cell_type": "code",
   "execution_count": 15,
   "id": "6708acbe-8816-40f0-9838-c02dbb1cc23e",
   "metadata": {},
   "outputs": [
    {
     "data": {
      "text/latex": [
       "$\\displaystyle - k x{\\left(t \\right)}$"
      ],
      "text/plain": [
       "-k*x(t)"
      ]
     },
     "execution_count": 15,
     "metadata": {},
     "output_type": "execute_result"
    }
   ],
   "source": [
    "restoringForce"
   ]
  },
  {
   "cell_type": "code",
   "execution_count": 16,
   "id": "661d5e9f-c55f-43f1-ad1a-ba71d6fa86a8",
   "metadata": {},
   "outputs": [
    {
     "data": {
      "text/latex": [
       "$\\displaystyle - c \\frac{d}{d t} x{\\left(t \\right)}$"
      ],
      "text/plain": [
       "-c*Derivative(x(t), t)"
      ]
     },
     "execution_count": 16,
     "metadata": {},
     "output_type": "execute_result"
    }
   ],
   "source": [
    "dampiningForce"
   ]
  },
  {
   "cell_type": "code",
   "execution_count": 17,
   "id": "f4922e1e-67a9-42d3-a127-c87039b05a9a",
   "metadata": {},
   "outputs": [
    {
     "data": {
      "text/latex": [
       "$\\displaystyle F_{0} \\cos{\\left(\\omega t \\right)}$"
      ],
      "text/plain": [
       "F_0*cos(omega*t)"
      ]
     },
     "execution_count": 17,
     "metadata": {},
     "output_type": "execute_result"
    }
   ],
   "source": [
    "drivingForce # Unused"
   ]
  },
  {
   "cell_type": "code",
   "execution_count": 18,
   "id": "43a80024-ff7f-4268-aa0d-c7cf82b1ecf2",
   "metadata": {},
   "outputs": [],
   "source": [
    "velocityDerivative = sp.diff(position(time), time)"
   ]
  },
  {
   "cell_type": "code",
   "execution_count": 19,
   "id": "8448084e-91b3-4441-9744-64e4b246850d",
   "metadata": {},
   "outputs": [
    {
     "data": {
      "text/latex": [
       "$\\displaystyle \\frac{d}{d t} x{\\left(t \\right)}$"
      ],
      "text/plain": [
       "Derivative(x(t), t)"
      ]
     },
     "execution_count": 19,
     "metadata": {},
     "output_type": "execute_result"
    }
   ],
   "source": [
    "velocityDerivative"
   ]
  },
  {
   "cell_type": "code",
   "execution_count": null,
   "id": "d17e31e1-b1a3-4950-a36c-11715ff2f8d0",
   "metadata": {},
   "outputs": [],
   "source": []
  },
  {
   "cell_type": "code",
   "execution_count": 20,
   "id": "43bd8cc4-372e-44d2-90c1-60f756614f1d",
   "metadata": {},
   "outputs": [],
   "source": [
    "totalForce = sp.Eq(mass * sp.Derivative(position(time), time, 2), restoringForce + dampiningForce)"
   ]
  },
  {
   "cell_type": "code",
   "execution_count": 21,
   "id": "6b847698-7522-4de6-addd-0f7f156d56f3",
   "metadata": {},
   "outputs": [
    {
     "data": {
      "text/latex": [
       "$\\displaystyle m \\frac{d^{2}}{d t^{2}} x{\\left(t \\right)} = - c \\frac{d}{d t} x{\\left(t \\right)} - k x{\\left(t \\right)}$"
      ],
      "text/plain": [
       "Eq(m*Derivative(x(t), (t, 2)), -c*Derivative(x(t), t) - k*x(t))"
      ]
     },
     "execution_count": 21,
     "metadata": {},
     "output_type": "execute_result"
    }
   ],
   "source": [
    "totalForce"
   ]
  },
  {
   "cell_type": "code",
   "execution_count": 22,
   "id": "8b7866d0-3863-4dcf-a646-8ee4240447c7",
   "metadata": {},
   "outputs": [],
   "source": [
    "# Change in frequency = velocity"
   ]
  },
  {
   "cell_type": "code",
   "execution_count": 23,
   "id": "a1791bfd-35bb-4805-a4a1-41d09082df67",
   "metadata": {},
   "outputs": [],
   "source": [
    "totalForceSolutions = sp.dsolve(totalForce, position(time), ics={position(0) : 1, position(time).diff(time).subs(time, 0): 0 })"
   ]
  },
  {
   "cell_type": "code",
   "execution_count": null,
   "id": "4a305857-585c-40ec-bd6c-1fda871410ef",
   "metadata": {},
   "outputs": [],
   "source": []
  },
  {
   "cell_type": "code",
   "execution_count": 24,
   "id": "0e90988c-d8fd-4259-8ada-df4b244ddb37",
   "metadata": {},
   "outputs": [
    {
     "data": {
      "text/latex": [
       "$\\displaystyle x{\\left(t \\right)} = \\left(- \\frac{c}{2 \\sqrt{c^{2} - 4 k m}} + \\frac{1}{2}\\right) e^{- \\frac{t \\left(c + \\sqrt{c^{2} - 4 k m}\\right)}{2 m}} + \\left(\\frac{c}{2 \\sqrt{c^{2} - 4 k m}} + \\frac{1}{2}\\right) e^{\\frac{t \\left(- c + \\sqrt{c^{2} - 4 k m}\\right)}{2 m}}$"
      ],
      "text/plain": [
       "Eq(x(t), (-c/(2*sqrt(c**2 - 4*k*m)) + 1/2)*exp(-t*(c + sqrt(c**2 - 4*k*m))/(2*m)) + (c/(2*sqrt(c**2 - 4*k*m)) + 1/2)*exp(t*(-c + sqrt(c**2 - 4*k*m))/(2*m)))"
      ]
     },
     "execution_count": 24,
     "metadata": {},
     "output_type": "execute_result"
    }
   ],
   "source": [
    "totalForceSolutions"
   ]
  },
  {
   "cell_type": "code",
   "execution_count": 25,
   "id": "b98db44f-6dd9-4306-bcb6-65d04d81e757",
   "metadata": {},
   "outputs": [],
   "source": [
    "C1 = sp.Symbol(\"C1\")"
   ]
  },
  {
   "cell_type": "code",
   "execution_count": 26,
   "id": "adbcc853-54b6-45f1-9f79-1fb256c930b6",
   "metadata": {},
   "outputs": [],
   "source": [
    "C2 = sp.Symbol(\"C2\")"
   ]
  },
  {
   "cell_type": "code",
   "execution_count": 27,
   "id": "98ac978d-52a8-491b-8f68-0627cd3e433c",
   "metadata": {},
   "outputs": [
    {
     "data": {
      "text/plain": [
       "{c, k, m, t}"
      ]
     },
     "execution_count": 27,
     "metadata": {},
     "output_type": "execute_result"
    }
   ],
   "source": [
    "totalForceSolutions.free_symbols"
   ]
  },
  {
   "cell_type": "code",
   "execution_count": 28,
   "id": "d5e63fd3-cfdc-4166-bfe9-8b73dca03a4a",
   "metadata": {},
   "outputs": [],
   "source": [
    "numericalSubstitutions = {C1 : 1, C2 : 1, dampiningConstant : 2432, springConstant : 3242, mass : 1342}"
   ]
  },
  {
   "cell_type": "code",
   "execution_count": 29,
   "id": "05735c97-c453-4fe0-8c14-c11f55eec775",
   "metadata": {},
   "outputs": [],
   "source": [
    "#numericalSubstitutions = {C1 : 165, C2 : 123, dampiningConstant : 1345, springConstant : 5823, mass : 3810}"
   ]
  },
  {
   "cell_type": "code",
   "execution_count": 30,
   "id": "baf56f90-aa5c-4da0-ac9c-5ad2e790d7e7",
   "metadata": {},
   "outputs": [
    {
     "data": {
      "text/latex": [
       "$\\displaystyle \\left(\\frac{1}{2} - \\frac{304 \\sqrt{718027} i}{718027}\\right) e^{\\frac{t \\left(-2432 + 4 \\sqrt{718027} i\\right)}{2684}} + \\left(\\frac{1}{2} + \\frac{304 \\sqrt{718027} i}{718027}\\right) e^{- \\frac{t \\left(2432 + 4 \\sqrt{718027} i\\right)}{2684}}$"
      ],
      "text/plain": [
       "(1/2 - 304*sqrt(718027)*I/718027)*exp(t*(-2432 + 4*sqrt(718027)*I)/2684) + (1/2 + 304*sqrt(718027)*I/718027)*exp(-t*(2432 + 4*sqrt(718027)*I)/2684)"
      ]
     },
     "execution_count": 30,
     "metadata": {},
     "output_type": "execute_result"
    }
   ],
   "source": [
    "totalForceSolutions.rhs.subs(numericalSubstitutions)"
   ]
  },
  {
   "cell_type": "code",
   "execution_count": 31,
   "id": "7d0cd6c8-d1a4-4983-a03d-22b7654fdb77",
   "metadata": {},
   "outputs": [
    {
     "data": {
      "image/png": "[encoded data removed]",
      "text/plain": [
       "<Figure size 432x288 with 1 Axes>"
      ]
     },
     "metadata": {
      "needs_background": "light"
     },
     "output_type": "display_data"
    },
    {
     "data": {
      "text/plain": [
       "<sympy.plotting.plot.Plot at 0x7fa4b98a6f50>"
      ]
     },
     "execution_count": 31,
     "metadata": {},
     "output_type": "execute_result"
    }
   ],
   "source": [
    "sp.plot(totalForceSolutions.rhs.subs(numericalSubstitutions), (time, -10, 10))"
   ]
  },
  {
   "cell_type": "code",
   "execution_count": 32,
   "id": "2351bb4c-fdfe-41fa-a482-06196d1bfca7",
   "metadata": {},
   "outputs": [],
   "source": [
    "r_0 = totalForceSolutions.rhs.as_two_terms()[0].as_two_terms()[1].args[0]"
   ]
  },
  {
   "cell_type": "code",
   "execution_count": 33,
   "id": "49d96476-4c5c-4704-a531-ad90255fd1ee",
   "metadata": {},
   "outputs": [
    {
     "data": {
      "text/plain": [
       "(8214.045293219046+0j)"
      ]
     },
     "execution_count": 33,
     "metadata": {},
     "output_type": "execute_result"
    }
   ],
   "source": [
    "sp.lambdify([time], totalForceSolutions.rhs.subs(numericalSubstitutions))(-10)"
   ]
  },
  {
   "cell_type": "code",
   "execution_count": 34,
   "id": "393a6063-10db-4eb6-a5a1-216018bb3bc9",
   "metadata": {},
   "outputs": [],
   "source": [
    "negatedR0 = totalForceSolutions.rhs.subs({r_0 : -r_0})"
   ]
  },
  {
   "cell_type": "code",
   "execution_count": 35,
   "id": "b41528d8-227c-41f3-8199-a8128771969e",
   "metadata": {},
   "outputs": [
    {
     "data": {
      "text/latex": [
       "$\\displaystyle \\left(- \\frac{c}{2 \\sqrt{c^{2} - 4 k m}} + \\frac{1}{2}\\right) e^{- \\frac{t \\left(c + \\sqrt{c^{2} - 4 k m}\\right)}{2 m}} + \\left(\\frac{c}{2 \\sqrt{c^{2} - 4 k m}} + \\frac{1}{2}\\right) e^{- \\frac{t \\left(- c + \\sqrt{c^{2} - 4 k m}\\right)}{2 m}}$"
      ],
      "text/plain": [
       "(-c/(2*sqrt(c**2 - 4*k*m)) + 1/2)*exp(-t*(c + sqrt(c**2 - 4*k*m))/(2*m)) + (c/(2*sqrt(c**2 - 4*k*m)) + 1/2)*exp(-t*(-c + sqrt(c**2 - 4*k*m))/(2*m))"
      ]
     },
     "execution_count": 35,
     "metadata": {},
     "output_type": "execute_result"
    }
   ],
   "source": [
    "negatedR0"
   ]
  },
  {
   "cell_type": "code",
   "execution_count": 36,
   "id": "18c9c478-e662-4ceb-a20e-6e3188ba4b3d",
   "metadata": {},
   "outputs": [
    {
     "data": {
      "text/latex": [
       "$\\displaystyle \\left(\\frac{1}{2} + \\frac{304 \\sqrt{718027} i}{718027}\\right) e^{- \\frac{t \\left(2432 + 4 \\sqrt{718027} i\\right)}{2684}} + \\left(\\frac{1}{2} - \\frac{304 \\sqrt{718027} i}{718027}\\right) e^{- \\frac{t \\left(-2432 + 4 \\sqrt{718027} i\\right)}{2684}}$"
      ],
      "text/plain": [
       "(1/2 + 304*sqrt(718027)*I/718027)*exp(-t*(2432 + 4*sqrt(718027)*I)/2684) + (1/2 - 304*sqrt(718027)*I/718027)*exp(-t*(-2432 + 4*sqrt(718027)*I)/2684)"
      ]
     },
     "execution_count": 36,
     "metadata": {},
     "output_type": "execute_result"
    }
   ],
   "source": [
    "negatedR0.subs(numericalSubstitutions)"
   ]
  },
  {
   "cell_type": "code",
   "execution_count": 37,
   "id": "aec77eef-91ea-4088-9ba1-ad53c90625e3",
   "metadata": {},
   "outputs": [
    {
     "data": {
      "image/png": "[encoded data removed]",
      "text/plain": [
       "<Figure size 432x288 with 1 Axes>"
      ]
     },
     "metadata": {
      "needs_background": "light"
     },
     "output_type": "display_data"
    },
    {
     "data": {
      "text/plain": [
       "<sympy.plotting.plot.Plot at 0x7fa42dfc2170>"
      ]
     },
     "execution_count": 37,
     "metadata": {},
     "output_type": "execute_result"
    }
   ],
   "source": [
    "sp.plot(negatedR0.subs(numericalSubstitutions), (time, -10, 10))"
   ]
  },
  {
   "cell_type": "code",
   "execution_count": 38,
   "id": "cc14456c-4fde-48da-aff2-662ff0c8032a",
   "metadata": {},
   "outputs": [
    {
     "data": {
      "text/plain": [
       "(4107.022707126686+3351.2052923488973j)"
      ]
     },
     "execution_count": 38,
     "metadata": {},
     "output_type": "execute_result"
    }
   ],
   "source": [
    "sp.lambdify([time], negatedR0.subs(numericalSubstitutions))(-10)"
   ]
  },
  {
   "cell_type": "code",
   "execution_count": null,
   "id": "19665081-1461-44ae-b7a9-4db58cfa2eb1",
   "metadata": {},
   "outputs": [],
   "source": []
  },
  {
   "cell_type": "code",
   "execution_count": 39,
   "id": "83762c40-ba44-4e95-ba0b-e0aa0cda6295",
   "metadata": {},
   "outputs": [],
   "source": [
    "omega = sp.sqrt((springConstant / mass) - ((dampiningConstant / (2 * mass)) ** 2))"
   ]
  },
  {
   "cell_type": "code",
   "execution_count": 40,
   "id": "ea3494ff-625b-40db-9fc4-0584dba516c3",
   "metadata": {},
   "outputs": [
    {
     "data": {
      "text/latex": [
       "$\\displaystyle \\sqrt{- \\frac{c^{2}}{4 m^{2}} + \\frac{k}{m}}$"
      ],
      "text/plain": [
       "sqrt(-c**2/(4*m**2) + k/m)"
      ]
     },
     "execution_count": 40,
     "metadata": {},
     "output_type": "execute_result"
    }
   ],
   "source": [
    "omega"
   ]
  },
  {
   "cell_type": "code",
   "execution_count": 41,
   "id": "de26a1af-b75e-417c-9313-df194e090312",
   "metadata": {},
   "outputs": [],
   "source": [
    "givenSolution = sp.exp(-time * dampiningConstant / (2 * mass)) * sp.cos(omega * time)"
   ]
  },
  {
   "cell_type": "code",
   "execution_count": 42,
   "id": "d4b5d647-8412-4d67-81f7-9426a958081e",
   "metadata": {},
   "outputs": [
    {
     "data": {
      "text/latex": [
       "$\\displaystyle e^{- \\frac{c t}{2 m}} \\cos{\\left(t \\sqrt{- \\frac{c^{2}}{4 m^{2}} + \\frac{k}{m}} \\right)}$"
      ],
      "text/plain": [
       "exp(-c*t/(2*m))*cos(t*sqrt(-c**2/(4*m**2) + k/m))"
      ]
     },
     "execution_count": 42,
     "metadata": {},
     "output_type": "execute_result"
    }
   ],
   "source": [
    "givenSolution"
   ]
  },
  {
   "cell_type": "code",
   "execution_count": 43,
   "id": "a098c769-cd82-46e5-8f04-90b47a4bacd3",
   "metadata": {},
   "outputs": [
    {
     "data": {
      "image/png": "[encoded data removed]",
      "text/plain": [
       "<Figure size 432x288 with 1 Axes>"
      ]
     },
     "metadata": {
      "needs_background": "light"
     },
     "output_type": "display_data"
    },
    {
     "data": {
      "text/plain": [
       "<sympy.plotting.plot.Plot at 0x7fa4b98a4670>"
      ]
     },
     "execution_count": 43,
     "metadata": {},
     "output_type": "execute_result"
    }
   ],
   "source": [
    "sp.plot(givenSolution.subs(numericalSubstitutions), (time, -10, 10))"
   ]
  },
  {
   "cell_type": "code",
   "execution_count": 44,
   "id": "2cfced6d-927e-4954-bf3d-3e80817ce695",
   "metadata": {},
   "outputs": [
    {
     "data": {
      "text/latex": [
       "$\\displaystyle e^{- \\frac{608 t}{671}} \\cos{\\left(\\frac{\\sqrt{718027} t}{671} \\right)}$"
      ],
      "text/plain": [
       "exp(-608*t/671)*cos(sqrt(718027)*t/671)"
      ]
     },
     "execution_count": 44,
     "metadata": {},
     "output_type": "execute_result"
    }
   ],
   "source": [
    "givenSolution.subs(numericalSubstitutions)"
   ]
  },
  {
   "cell_type": "code",
   "execution_count": 45,
   "id": "3ba44c84-3f31-422b-9964-fa3fe765f711",
   "metadata": {},
   "outputs": [
    {
     "data": {
      "text/latex": [
       "$\\displaystyle e^{- \\frac{c t}{2 m}} \\cos{\\left(t \\sqrt{- \\frac{c^{2}}{4 m^{2}} + \\frac{k}{m}} \\right)} = \\left(- \\frac{c}{2 \\sqrt{c^{2} - 4 k m}} + \\frac{1}{2}\\right) e^{- \\frac{t \\left(c + \\sqrt{c^{2} - 4 k m}\\right)}{2 m}} + \\left(\\frac{c}{2 \\sqrt{c^{2} - 4 k m}} + \\frac{1}{2}\\right) e^{\\frac{t \\left(- c + \\sqrt{c^{2} - 4 k m}\\right)}{2 m}}$"
      ],
      "text/plain": [
       "Eq(exp(-c*t/(2*m))*cos(t*sqrt(-c**2/(4*m**2) + k/m)), (-c/(2*sqrt(c**2 - 4*k*m)) + 1/2)*exp(-t*(c + sqrt(c**2 - 4*k*m))/(2*m)) + (c/(2*sqrt(c**2 - 4*k*m)) + 1/2)*exp(t*(-c + sqrt(c**2 - 4*k*m))/(2*m)))"
      ]
     },
     "execution_count": 45,
     "metadata": {},
     "output_type": "execute_result"
    }
   ],
   "source": [
    "sp.Eq(givenSolution, totalForceSolutions.rhs).refine()"
   ]
  },
  {
   "cell_type": "code",
   "execution_count": 46,
   "id": "8594d45c-08ae-45c8-9266-0bfb955d23d9",
   "metadata": {},
   "outputs": [
    {
     "data": {
      "text/plain": [
       "8597.086181043735"
      ]
     },
     "execution_count": 46,
     "metadata": {},
     "output_type": "execute_result"
    }
   ],
   "source": [
    "sp.lambdify([time], givenSolution.subs(numericalSubstitutions))(-10)"
   ]
  },
  {
   "cell_type": "code",
   "execution_count": null,
   "id": "3ef1a1c8-dc5c-4c19-b0f0-b32707bfd5a7",
   "metadata": {},
   "outputs": [],
   "source": []
  },
  {
   "cell_type": "code",
   "execution_count": null,
   "id": "7e5b063f-c6d4-4e20-9d10-ddaa21f224e3",
   "metadata": {},
   "outputs": [],
   "source": []
  },
  {
   "cell_type": "code",
   "execution_count": null,
   "id": "7a9ed20c-333e-4a15-864c-20d94ebf0995",
   "metadata": {},
   "outputs": [],
   "source": []
  }
 ],
 "metadata": {
  "kernelspec": {
   "display_name": "Python 3 (ipykernel)",
   "language": "python",
   "name": "python3"
  },
  "language_info": {
   "codemirror_mode": {
    "name": "ipython",
    "version": 3
   },
   "file_extension": ".py",
   "mimetype": "text/x-python",
   "name": "python",
   "nbconvert_exporter": "python",
   "pygments_lexer": "ipython3",
   "version": "3.10.5"
  }
 },
 "nbformat": 4,
 "nbformat_minor": 5
}
