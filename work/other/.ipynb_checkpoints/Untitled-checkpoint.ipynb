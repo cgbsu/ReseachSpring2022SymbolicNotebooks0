{
 "cells": [
  {
   "cell_type": "code",
   "execution_count": 1,
   "id": "738e3964-1260-41cf-a3ea-422bff7beecc",
   "metadata": {},
   "outputs": [],
   "source": [
    "import sympy as sp"
   ]
  },
  {
   "cell_type": "code",
   "execution_count": null,
   "id": "bc9cd8da-bad2-4218-b1dd-faf6ece8fc93",
   "metadata": {},
   "outputs": [],
   "source": []
  },
  {
   "cell_type": "code",
   "execution_count": 2,
   "id": "fa64f3d5-4b99-46a4-8328-729d3d090c77",
   "metadata": {},
   "outputs": [],
   "source": [
    "springConstant = sp.Symbol(\"k\", real=True)"
   ]
  },
  {
   "cell_type": "code",
   "execution_count": 3,
   "id": "7ba9244c-9b3d-4dde-8679-c36739cbc3d0",
   "metadata": {},
   "outputs": [],
   "source": [
    "dampiningConstant = sp.Symbol(\"c\", real=True)"
   ]
  },
  {
   "cell_type": "code",
   "execution_count": 4,
   "id": "38765e1c-7702-494e-ae56-6f4d12b78a66",
   "metadata": {},
   "outputs": [],
   "source": [
    "amplitudeCoefficient = sp.Symbol(\"A\")"
   ]
  },
  {
   "cell_type": "code",
   "execution_count": 5,
   "id": "455a7393-28d2-41c7-8344-353342d2cafa",
   "metadata": {},
   "outputs": [],
   "source": [
    "frequency = sp.Symbol(\"omega\", real=True)"
   ]
  },
  {
   "cell_type": "code",
   "execution_count": 6,
   "id": "8f282a9b-f38d-49a0-8f8d-eaee9116332f",
   "metadata": {},
   "outputs": [],
   "source": [
    "position = sp.Function(\"x\", real=True)"
   ]
  },
  {
   "cell_type": "code",
   "execution_count": 7,
   "id": "35199fa9-3cff-4b8c-aa81-dad1f436fb13",
   "metadata": {},
   "outputs": [],
   "source": [
    "time = sp.Symbol(\"t\", real=True)"
   ]
  },
  {
   "cell_type": "code",
   "execution_count": 8,
   "id": "d9825613-fb49-4fa1-8239-7c99e928099a",
   "metadata": {},
   "outputs": [],
   "source": [
    "drivingForce0 = sp.Symbol(\"F_0\", real=True)"
   ]
  },
  {
   "cell_type": "code",
   "execution_count": 9,
   "id": "766a2770-6722-4799-a15d-6076e0d2795e",
   "metadata": {},
   "outputs": [],
   "source": [
    "mass = sp.Symbol(\"m\", real=True, positive=True)"
   ]
  },
  {
   "cell_type": "code",
   "execution_count": null,
   "id": "c3cac3d8-ed34-4249-9024-8312c1292c96",
   "metadata": {},
   "outputs": [],
   "source": []
  },
  {
   "cell_type": "code",
   "execution_count": 10,
   "id": "ae1448b4-9729-4dd6-937f-0404448d394a",
   "metadata": {},
   "outputs": [],
   "source": [
    "steadyState = sp.Eq(position(time), amplitudeCoefficient * sp.sin(frequency * time))"
   ]
  },
  {
   "cell_type": "code",
   "execution_count": 11,
   "id": "e9a2a394-f459-4b95-b18e-2a3c060476ae",
   "metadata": {},
   "outputs": [],
   "source": [
    "restoringForce = -springConstant * position(time)"
   ]
  },
  {
   "cell_type": "code",
   "execution_count": 12,
   "id": "3c2be1bd-d1d2-4046-8509-85e26dc2a241",
   "metadata": {},
   "outputs": [],
   "source": [
    "dampiningForce = -dampiningConstant * sp.Derivative(position(time), time)"
   ]
  },
  {
   "cell_type": "code",
   "execution_count": 13,
   "id": "f841f140-73cb-4544-bc4c-988391b5e93e",
   "metadata": {},
   "outputs": [],
   "source": [
    "drivingForce = drivingForce0 * sp.cos(frequency * time) # Unused"
   ]
  },
  {
   "cell_type": "code",
   "execution_count": null,
   "id": "50fed271-fba1-4658-8ad7-cb3e0fcca9cc",
   "metadata": {},
   "outputs": [],
   "source": []
  },
  {
   "cell_type": "code",
   "execution_count": 14,
   "id": "3d2f857c-7139-4d9a-b915-fee761ab1f88",
   "metadata": {},
   "outputs": [
    {
     "data": {
      "text/latex": [
       "$\\displaystyle x{\\left(t \\right)} = A \\sin{\\left(\\omega t \\right)}$"
      ],
      "text/plain": [
       "Eq(x(t), A*sin(omega*t))"
      ]
     },
     "execution_count": 14,
     "metadata": {},
     "output_type": "execute_result"
    }
   ],
   "source": [
    "steadyState"
   ]
  },
  {
   "cell_type": "code",
   "execution_count": 15,
   "id": "6708acbe-8816-40f0-9838-c02dbb1cc23e",
   "metadata": {},
   "outputs": [
    {
     "data": {
      "text/latex": [
       "$\\displaystyle - k x{\\left(t \\right)}$"
      ],
      "text/plain": [
       "-k*x(t)"
      ]
     },
     "execution_count": 15,
     "metadata": {},
     "output_type": "execute_result"
    }
   ],
   "source": [
    "restoringForce"
   ]
  },
  {
   "cell_type": "code",
   "execution_count": 16,
   "id": "661d5e9f-c55f-43f1-ad1a-ba71d6fa86a8",
   "metadata": {},
   "outputs": [
    {
     "data": {
      "text/latex": [
       "$\\displaystyle - c \\frac{d}{d t} x{\\left(t \\right)}$"
      ],
      "text/plain": [
       "-c*Derivative(x(t), t)"
      ]
     },
     "execution_count": 16,
     "metadata": {},
     "output_type": "execute_result"
    }
   ],
   "source": [
    "dampiningForce"
   ]
  },
  {
   "cell_type": "code",
   "execution_count": 17,
   "id": "f4922e1e-67a9-42d3-a127-c87039b05a9a",
   "metadata": {},
   "outputs": [
    {
     "data": {
      "text/latex": [
       "$\\displaystyle F_{0} \\cos{\\left(\\omega t \\right)}$"
      ],
      "text/plain": [
       "F_0*cos(omega*t)"
      ]
     },
     "execution_count": 17,
     "metadata": {},
     "output_type": "execute_result"
    }
   ],
   "source": [
    "drivingForce # Unused"
   ]
  },
  {
   "cell_type": "code",
   "execution_count": null,
   "id": "d17e31e1-b1a3-4950-a36c-11715ff2f8d0",
   "metadata": {},
   "outputs": [],
   "source": []
  },
  {
   "cell_type": "code",
   "execution_count": 18,
   "id": "43bd8cc4-372e-44d2-90c1-60f756614f1d",
   "metadata": {},
   "outputs": [],
   "source": [
    "totalForce = sp.Eq(mass * sp.Derivative(position(time), time, 2), restoringForce + dampiningForce)"
   ]
  },
  {
   "cell_type": "code",
   "execution_count": 19,
   "id": "6b847698-7522-4de6-addd-0f7f156d56f3",
   "metadata": {},
   "outputs": [
    {
     "data": {
      "text/latex": [
       "$\\displaystyle m \\frac{d^{2}}{d t^{2}} x{\\left(t \\right)} = - c \\frac{d}{d t} x{\\left(t \\right)} - k x{\\left(t \\right)}$"
      ],
      "text/plain": [
       "Eq(m*Derivative(x(t), (t, 2)), -c*Derivative(x(t), t) - k*x(t))"
      ]
     },
     "execution_count": 19,
     "metadata": {},
     "output_type": "execute_result"
    }
   ],
   "source": [
    "totalForce"
   ]
  },
  {
   "cell_type": "code",
   "execution_count": 20,
   "id": "8b7866d0-3863-4dcf-a646-8ee4240447c7",
   "metadata": {},
   "outputs": [],
   "source": [
    "# Change in frequency = velocity"
   ]
  },
  {
   "cell_type": "code",
   "execution_count": null,
   "id": "43a80024-ff7f-4268-aa0d-c7cf82b1ecf2",
   "metadata": {},
   "outputs": [],
   "source": []
  },
  {
   "cell_type": "code",
   "execution_count": 21,
   "id": "d44cb358-fe2d-4845-868d-c2da610c0a0e",
   "metadata": {},
   "outputs": [],
   "source": [
    "explicitTotalForce = totalForce.subs({steadyState.lhs : steadyState.rhs})"
   ]
  },
  {
   "cell_type": "code",
   "execution_count": 22,
   "id": "4dcd7009-26a5-4e81-a0ed-31cf83bf7cb9",
   "metadata": {},
   "outputs": [
    {
     "data": {
      "text/latex": [
       "$\\displaystyle m \\frac{\\partial^{2}}{\\partial t^{2}} A \\sin{\\left(\\omega t \\right)} = - A k \\sin{\\left(\\omega t \\right)} - c \\frac{\\partial}{\\partial t} A \\sin{\\left(\\omega t \\right)}$"
      ],
      "text/plain": [
       "Eq(m*Derivative(A*sin(omega*t), (t, 2)), -A*k*sin(omega*t) - c*Derivative(A*sin(omega*t), t))"
      ]
     },
     "execution_count": 22,
     "metadata": {},
     "output_type": "execute_result"
    }
   ],
   "source": [
    "explicitTotalForce"
   ]
  },
  {
   "cell_type": "code",
   "execution_count": 23,
   "id": "33508d93-22ce-4847-a468-b9a408fa0a27",
   "metadata": {},
   "outputs": [],
   "source": [
    "explicitTotalForce = explicitTotalForce.doit()"
   ]
  },
  {
   "cell_type": "code",
   "execution_count": 24,
   "id": "b380a7c8-a2bd-405c-91b7-457b410cb7b2",
   "metadata": {},
   "outputs": [
    {
     "data": {
      "text/latex": [
       "$\\displaystyle - A m \\omega^{2} \\sin{\\left(\\omega t \\right)} = - A c \\omega \\cos{\\left(\\omega t \\right)} - A k \\sin{\\left(\\omega t \\right)}$"
      ],
      "text/plain": [
       "Eq(-A*m*omega**2*sin(omega*t), -A*c*omega*cos(omega*t) - A*k*sin(omega*t))"
      ]
     },
     "execution_count": 24,
     "metadata": {},
     "output_type": "execute_result"
    }
   ],
   "source": [
    "explicitTotalForce"
   ]
  },
  {
   "cell_type": "code",
   "execution_count": 33,
   "id": "5ee04e2a-333f-4e46-b60a-0f9c4b6c4631",
   "metadata": {},
   "outputs": [],
   "source": [
    "# Need to use ODE solution"
   ]
  },
  {
   "cell_type": "code",
   "execution_count": 32,
   "id": "5a3b6c16-e7bb-4914-ab0e-09b19ad009ba",
   "metadata": {},
   "outputs": [
    {
     "ename": "ValueError",
     "evalue": "dsolve() and classify_ode() only work with functions of one variable, not A",
     "output_type": "error",
     "traceback": [
      "\u001b[0;31m---------------------------------------------------------------------------\u001b[0m",
      "\u001b[0;31mValueError\u001b[0m                                Traceback (most recent call last)",
      "Input \u001b[0;32mIn [32]\u001b[0m, in \u001b[0;36m<cell line: 1>\u001b[0;34m()\u001b[0m\n\u001b[0;32m----> 1\u001b[0m amplitudeCoefficientSolutions \u001b[38;5;241m=\u001b[39m \u001b[43msp\u001b[49m\u001b[38;5;241;43m.\u001b[39;49m\u001b[43mdsolve\u001b[49m\u001b[43m(\u001b[49m\u001b[43mexplicitTotalForce\u001b[49m\u001b[43m,\u001b[49m\u001b[43m \u001b[49m\u001b[43mamplitudeCoefficient\u001b[49m\u001b[43m)\u001b[49m\n",
      "File \u001b[0;32m/opt/conda/lib/python3.10/site-packages/sympy/solvers/ode/ode.py:605\u001b[0m, in \u001b[0;36mdsolve\u001b[0;34m(eq, func, hint, simplify, ics, xi, eta, x0, n, **kwargs)\u001b[0m\n\u001b[1;32m    602\u001b[0m given_hint \u001b[38;5;241m=\u001b[39m hint  \u001b[38;5;66;03m# hint given by the user\u001b[39;00m\n\u001b[1;32m    604\u001b[0m \u001b[38;5;66;03m# See the docstring of _desolve for more details.\u001b[39;00m\n\u001b[0;32m--> 605\u001b[0m hints \u001b[38;5;241m=\u001b[39m \u001b[43m_desolve\u001b[49m\u001b[43m(\u001b[49m\u001b[43meq\u001b[49m\u001b[43m,\u001b[49m\u001b[43m \u001b[49m\u001b[43mfunc\u001b[49m\u001b[38;5;241;43m=\u001b[39;49m\u001b[43mfunc\u001b[49m\u001b[43m,\u001b[49m\n\u001b[1;32m    606\u001b[0m \u001b[43m    \u001b[49m\u001b[43mhint\u001b[49m\u001b[38;5;241;43m=\u001b[39;49m\u001b[43mhint\u001b[49m\u001b[43m,\u001b[49m\u001b[43m \u001b[49m\u001b[43msimplify\u001b[49m\u001b[38;5;241;43m=\u001b[39;49m\u001b[38;5;28;43;01mTrue\u001b[39;49;00m\u001b[43m,\u001b[49m\u001b[43m \u001b[49m\u001b[43mxi\u001b[49m\u001b[38;5;241;43m=\u001b[39;49m\u001b[43mxi\u001b[49m\u001b[43m,\u001b[49m\u001b[43m \u001b[49m\u001b[43meta\u001b[49m\u001b[38;5;241;43m=\u001b[39;49m\u001b[43meta\u001b[49m\u001b[43m,\u001b[49m\u001b[43m \u001b[49m\u001b[38;5;28;43mtype\u001b[39;49m\u001b[38;5;241;43m=\u001b[39;49m\u001b[38;5;124;43m'\u001b[39;49m\u001b[38;5;124;43mode\u001b[39;49m\u001b[38;5;124;43m'\u001b[39;49m\u001b[43m,\u001b[49m\u001b[43m \u001b[49m\u001b[43mics\u001b[49m\u001b[38;5;241;43m=\u001b[39;49m\u001b[43mics\u001b[49m\u001b[43m,\u001b[49m\n\u001b[1;32m    607\u001b[0m \u001b[43m    \u001b[49m\u001b[43mx0\u001b[49m\u001b[38;5;241;43m=\u001b[39;49m\u001b[43mx0\u001b[49m\u001b[43m,\u001b[49m\u001b[43m \u001b[49m\u001b[43mn\u001b[49m\u001b[38;5;241;43m=\u001b[39;49m\u001b[43mn\u001b[49m\u001b[43m,\u001b[49m\u001b[43m \u001b[49m\u001b[38;5;241;43m*\u001b[39;49m\u001b[38;5;241;43m*\u001b[39;49m\u001b[43mkwargs\u001b[49m\u001b[43m)\u001b[49m\n\u001b[1;32m    608\u001b[0m eq \u001b[38;5;241m=\u001b[39m hints\u001b[38;5;241m.\u001b[39mpop(\u001b[38;5;124m'\u001b[39m\u001b[38;5;124meq\u001b[39m\u001b[38;5;124m'\u001b[39m, eq)\n\u001b[1;32m    609\u001b[0m all_ \u001b[38;5;241m=\u001b[39m hints\u001b[38;5;241m.\u001b[39mpop(\u001b[38;5;124m'\u001b[39m\u001b[38;5;124mall\u001b[39m\u001b[38;5;124m'\u001b[39m, \u001b[38;5;28;01mFalse\u001b[39;00m)\n",
      "File \u001b[0;32m/opt/conda/lib/python3.10/site-packages/sympy/solvers/deutils.py:209\u001b[0m, in \u001b[0;36m_desolve\u001b[0;34m(eq, func, hint, ics, simplify, prep, **kwargs)\u001b[0m\n\u001b[1;32m    205\u001b[0m \u001b[38;5;66;03m# Magic that should only be used internally.  Prevents classify_ode from\u001b[39;00m\n\u001b[1;32m    206\u001b[0m \u001b[38;5;66;03m# being called more than it needs to be by passing its results through\u001b[39;00m\n\u001b[1;32m    207\u001b[0m \u001b[38;5;66;03m# recursive calls.\u001b[39;00m\n\u001b[1;32m    208\u001b[0m \u001b[38;5;28;01mif\u001b[39;00m kwargs\u001b[38;5;241m.\u001b[39mget(\u001b[38;5;124m'\u001b[39m\u001b[38;5;124mclassify\u001b[39m\u001b[38;5;124m'\u001b[39m, \u001b[38;5;28;01mTrue\u001b[39;00m):\n\u001b[0;32m--> 209\u001b[0m     hints \u001b[38;5;241m=\u001b[39m \u001b[43mclassifier\u001b[49m\u001b[43m(\u001b[49m\u001b[43meq\u001b[49m\u001b[43m,\u001b[49m\u001b[43m \u001b[49m\u001b[43mfunc\u001b[49m\u001b[43m,\u001b[49m\u001b[43m \u001b[49m\u001b[38;5;28;43mdict\u001b[39;49m\u001b[38;5;241;43m=\u001b[39;49m\u001b[38;5;28;43;01mTrue\u001b[39;49;00m\u001b[43m,\u001b[49m\u001b[43m \u001b[49m\u001b[43mics\u001b[49m\u001b[38;5;241;43m=\u001b[39;49m\u001b[43mics\u001b[49m\u001b[43m,\u001b[49m\u001b[43m \u001b[49m\u001b[43mxi\u001b[49m\u001b[38;5;241;43m=\u001b[39;49m\u001b[43mxi\u001b[49m\u001b[43m,\u001b[49m\u001b[43m \u001b[49m\u001b[43meta\u001b[49m\u001b[38;5;241;43m=\u001b[39;49m\u001b[43meta\u001b[49m\u001b[43m,\u001b[49m\n\u001b[1;32m    210\u001b[0m \u001b[43m    \u001b[49m\u001b[43mn\u001b[49m\u001b[38;5;241;43m=\u001b[39;49m\u001b[43mterms\u001b[49m\u001b[43m,\u001b[49m\u001b[43m \u001b[49m\u001b[43mx0\u001b[49m\u001b[38;5;241;43m=\u001b[39;49m\u001b[43mx0\u001b[49m\u001b[43m,\u001b[49m\u001b[43m \u001b[49m\u001b[43mhint\u001b[49m\u001b[38;5;241;43m=\u001b[39;49m\u001b[43mhint\u001b[49m\u001b[43m,\u001b[49m\u001b[43m \u001b[49m\u001b[43mprep\u001b[49m\u001b[38;5;241;43m=\u001b[39;49m\u001b[43mprep\u001b[49m\u001b[43m)\u001b[49m\n\u001b[1;32m    212\u001b[0m \u001b[38;5;28;01melse\u001b[39;00m:\n\u001b[1;32m    213\u001b[0m     \u001b[38;5;66;03m# Here is what all this means:\u001b[39;00m\n\u001b[1;32m    214\u001b[0m     \u001b[38;5;66;03m#\u001b[39;00m\n\u001b[0;32m   (...)\u001b[0m\n\u001b[1;32m    223\u001b[0m     \u001b[38;5;66;03m#          hint.\u001b[39;00m\n\u001b[1;32m    224\u001b[0m     \u001b[38;5;66;03m# order:   The order of the DE, as determined by ode_order().\u001b[39;00m\n\u001b[1;32m    225\u001b[0m     hints \u001b[38;5;241m=\u001b[39m kwargs\u001b[38;5;241m.\u001b[39mget(\u001b[38;5;124m'\u001b[39m\u001b[38;5;124mhint\u001b[39m\u001b[38;5;124m'\u001b[39m,\n\u001b[1;32m    226\u001b[0m                        {\u001b[38;5;124m'\u001b[39m\u001b[38;5;124mdefault\u001b[39m\u001b[38;5;124m'\u001b[39m: hint,\n\u001b[1;32m    227\u001b[0m                         hint: kwargs[\u001b[38;5;124m'\u001b[39m\u001b[38;5;124mmatch\u001b[39m\u001b[38;5;124m'\u001b[39m],\n\u001b[1;32m    228\u001b[0m                         \u001b[38;5;124m'\u001b[39m\u001b[38;5;124morder\u001b[39m\u001b[38;5;124m'\u001b[39m: kwargs[\u001b[38;5;124m'\u001b[39m\u001b[38;5;124morder\u001b[39m\u001b[38;5;124m'\u001b[39m]})\n",
      "File \u001b[0;32m/opt/conda/lib/python3.10/site-packages/sympy/solvers/ode/ode.py:942\u001b[0m, in \u001b[0;36mclassify_ode\u001b[0;34m(eq, func, dict, ics, prep, xi, eta, n, **kwargs)\u001b[0m\n\u001b[1;32m    939\u001b[0m ics \u001b[38;5;241m=\u001b[39m sympify(ics)\n\u001b[1;32m    941\u001b[0m \u001b[38;5;28;01mif\u001b[39;00m func \u001b[38;5;129;01mand\u001b[39;00m \u001b[38;5;28mlen\u001b[39m(func\u001b[38;5;241m.\u001b[39margs) \u001b[38;5;241m!=\u001b[39m \u001b[38;5;241m1\u001b[39m:\n\u001b[0;32m--> 942\u001b[0m     \u001b[38;5;28;01mraise\u001b[39;00m \u001b[38;5;167;01mValueError\u001b[39;00m(\u001b[38;5;124m\"\u001b[39m\u001b[38;5;124mdsolve() and classify_ode() only \u001b[39m\u001b[38;5;124m\"\u001b[39m\n\u001b[1;32m    943\u001b[0m     \u001b[38;5;124m\"\u001b[39m\u001b[38;5;124mwork with functions of one variable, not \u001b[39m\u001b[38;5;132;01m%s\u001b[39;00m\u001b[38;5;124m\"\u001b[39m \u001b[38;5;241m%\u001b[39m func)\n\u001b[1;32m    945\u001b[0m \u001b[38;5;28;01mif\u001b[39;00m \u001b[38;5;28misinstance\u001b[39m(eq, Equality):\n\u001b[1;32m    946\u001b[0m     eq \u001b[38;5;241m=\u001b[39m eq\u001b[38;5;241m.\u001b[39mlhs \u001b[38;5;241m-\u001b[39m eq\u001b[38;5;241m.\u001b[39mrhs\n",
      "\u001b[0;31mValueError\u001b[0m: dsolve() and classify_ode() only work with functions of one variable, not A"
     ]
    }
   ],
   "source": [
    "amplitudeCoefficientSolutions = sp.dsolve(explicitTotalForce, amplitudeCoefficient)"
   ]
  },
  {
   "cell_type": "code",
   "execution_count": 26,
   "id": "7d888ef0-ca50-43cf-b979-a4f5d772732f",
   "metadata": {},
   "outputs": [
    {
     "data": {
      "text/plain": [
       "[0]"
      ]
     },
     "execution_count": 26,
     "metadata": {},
     "output_type": "execute_result"
    }
   ],
   "source": [
    "amplitudeCoefficientSolutions"
   ]
  },
  {
   "cell_type": "code",
   "execution_count": 27,
   "id": "0a283866-a641-4f0c-8d14-73d799f10302",
   "metadata": {},
   "outputs": [
    {
     "data": {
      "text/latex": [
       "$\\displaystyle 0$"
      ],
      "text/plain": [
       "0"
      ]
     },
     "execution_count": 27,
     "metadata": {},
     "output_type": "execute_result"
    }
   ],
   "source": [
    "amplitudeCoefficientSolutions[0]"
   ]
  },
  {
   "cell_type": "code",
   "execution_count": 28,
   "id": "19227e58-fbf3-4c63-9c56-2679402f2855",
   "metadata": {},
   "outputs": [
    {
     "data": {
      "text/plain": [
       "1"
      ]
     },
     "execution_count": 28,
     "metadata": {},
     "output_type": "execute_result"
    }
   ],
   "source": [
    "len(amplitudeCoefficientSolutions)"
   ]
  },
  {
   "cell_type": "code",
   "execution_count": 29,
   "id": "a28055ee-f3b4-4708-8288-57c9f4d97e98",
   "metadata": {},
   "outputs": [],
   "source": [
    "# Amplitude can be 1"
   ]
  },
  {
   "cell_type": "code",
   "execution_count": null,
   "id": "a1791bfd-35bb-4805-a4a1-41d09082df67",
   "metadata": {},
   "outputs": [],
   "source": []
  }
 ],
 "metadata": {
  "kernelspec": {
   "display_name": "Python 3 (ipykernel)",
   "language": "python",
   "name": "python3"
  },
  "language_info": {
   "codemirror_mode": {
    "name": "ipython",
    "version": 3
   },
   "file_extension": ".py",
   "mimetype": "text/x-python",
   "name": "python",
   "nbconvert_exporter": "python",
   "pygments_lexer": "ipython3",
   "version": "3.10.5"
  }
 },
 "nbformat": 4,
 "nbformat_minor": 5
}
