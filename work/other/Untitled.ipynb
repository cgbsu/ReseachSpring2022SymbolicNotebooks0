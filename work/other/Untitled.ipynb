{
 "cells": [
  {
   "cell_type": "code",
   "execution_count": 1,
   "id": "738e3964-1260-41cf-a3ea-422bff7beecc",
   "metadata": {},
   "outputs": [],
   "source": [
    "import sympy as sp"
   ]
  },
  {
   "cell_type": "code",
   "execution_count": null,
   "id": "bc9cd8da-bad2-4218-b1dd-faf6ece8fc93",
   "metadata": {},
   "outputs": [],
   "source": []
  },
  {
   "cell_type": "code",
   "execution_count": 2,
   "id": "fa64f3d5-4b99-46a4-8328-729d3d090c77",
   "metadata": {},
   "outputs": [],
   "source": [
    "springConstant = sp.Symbol(\"k\", real=True)"
   ]
  },
  {
   "cell_type": "code",
   "execution_count": 3,
   "id": "7ba9244c-9b3d-4dde-8679-c36739cbc3d0",
   "metadata": {},
   "outputs": [],
   "source": [
    "dampiningConstant = sp.Symbol(\"c\", real=True)"
   ]
  },
  {
   "cell_type": "code",
   "execution_count": 4,
   "id": "38765e1c-7702-494e-ae56-6f4d12b78a66",
   "metadata": {},
   "outputs": [],
   "source": [
    "amplitudeCoefficient = sp.Symbol(\"A\")"
   ]
  },
  {
   "cell_type": "code",
   "execution_count": 5,
   "id": "455a7393-28d2-41c7-8344-353342d2cafa",
   "metadata": {},
   "outputs": [],
   "source": [
    "frequency = sp.Symbol(\"omega\", real=True)"
   ]
  },
  {
   "cell_type": "code",
   "execution_count": 6,
   "id": "8f282a9b-f38d-49a0-8f8d-eaee9116332f",
   "metadata": {},
   "outputs": [],
   "source": [
    "position = sp.Function(\"x\", real=True)"
   ]
  },
  {
   "cell_type": "code",
   "execution_count": 7,
   "id": "35199fa9-3cff-4b8c-aa81-dad1f436fb13",
   "metadata": {},
   "outputs": [],
   "source": [
    "time = sp.Symbol(\"t\", real=True)"
   ]
  },
  {
   "cell_type": "code",
   "execution_count": 8,
   "id": "d9825613-fb49-4fa1-8239-7c99e928099a",
   "metadata": {},
   "outputs": [],
   "source": [
    "drivingForce0 = sp.Symbol(\"F_0\", real=True)"
   ]
  },
  {
   "cell_type": "code",
   "execution_count": 9,
   "id": "766a2770-6722-4799-a15d-6076e0d2795e",
   "metadata": {},
   "outputs": [],
   "source": [
    "mass = sp.Symbol(\"m\", real=True, positive=True)"
   ]
  },
  {
   "cell_type": "code",
   "execution_count": null,
   "id": "c3cac3d8-ed34-4249-9024-8312c1292c96",
   "metadata": {},
   "outputs": [],
   "source": []
  },
  {
   "cell_type": "code",
   "execution_count": 10,
   "id": "ae1448b4-9729-4dd6-937f-0404448d394a",
   "metadata": {},
   "outputs": [],
   "source": [
    "steadyState = sp.Eq(position(time), amplitudeCoefficient * sp.sin(frequency * time))"
   ]
  },
  {
   "cell_type": "code",
   "execution_count": 11,
   "id": "e9a2a394-f459-4b95-b18e-2a3c060476ae",
   "metadata": {},
   "outputs": [],
   "source": [
    "restoringForce = -springConstant * position(time)"
   ]
  },
  {
   "cell_type": "code",
   "execution_count": 12,
   "id": "3c2be1bd-d1d2-4046-8509-85e26dc2a241",
   "metadata": {},
   "outputs": [],
   "source": [
    "dampiningForce = -dampiningConstant * sp.Derivative(position(time), time)"
   ]
  },
  {
   "cell_type": "code",
   "execution_count": 13,
   "id": "f841f140-73cb-4544-bc4c-988391b5e93e",
   "metadata": {},
   "outputs": [],
   "source": [
    "drivingForce = drivingForce0 * sp.cos(frequency * time) # Unused"
   ]
  },
  {
   "cell_type": "code",
   "execution_count": null,
   "id": "50fed271-fba1-4658-8ad7-cb3e0fcca9cc",
   "metadata": {},
   "outputs": [],
   "source": []
  },
  {
   "cell_type": "code",
   "execution_count": 14,
   "id": "3d2f857c-7139-4d9a-b915-fee761ab1f88",
   "metadata": {},
   "outputs": [
    {
     "data": {
      "text/latex": [
       "$\\displaystyle x{\\left(t \\right)} = A \\sin{\\left(\\omega t \\right)}$"
      ],
      "text/plain": [
       "Eq(x(t), A*sin(omega*t))"
      ]
     },
     "execution_count": 14,
     "metadata": {},
     "output_type": "execute_result"
    }
   ],
   "source": [
    "steadyState"
   ]
  },
  {
   "cell_type": "code",
   "execution_count": 15,
   "id": "6708acbe-8816-40f0-9838-c02dbb1cc23e",
   "metadata": {},
   "outputs": [
    {
     "data": {
      "text/latex": [
       "$\\displaystyle - k x{\\left(t \\right)}$"
      ],
      "text/plain": [
       "-k*x(t)"
      ]
     },
     "execution_count": 15,
     "metadata": {},
     "output_type": "execute_result"
    }
   ],
   "source": [
    "restoringForce"
   ]
  },
  {
   "cell_type": "code",
   "execution_count": 16,
   "id": "661d5e9f-c55f-43f1-ad1a-ba71d6fa86a8",
   "metadata": {},
   "outputs": [
    {
     "data": {
      "text/latex": [
       "$\\displaystyle - c \\frac{d}{d t} x{\\left(t \\right)}$"
      ],
      "text/plain": [
       "-c*Derivative(x(t), t)"
      ]
     },
     "execution_count": 16,
     "metadata": {},
     "output_type": "execute_result"
    }
   ],
   "source": [
    "dampiningForce"
   ]
  },
  {
   "cell_type": "code",
   "execution_count": 17,
   "id": "f4922e1e-67a9-42d3-a127-c87039b05a9a",
   "metadata": {},
   "outputs": [
    {
     "data": {
      "text/latex": [
       "$\\displaystyle F_{0} \\cos{\\left(\\omega t \\right)}$"
      ],
      "text/plain": [
       "F_0*cos(omega*t)"
      ]
     },
     "execution_count": 17,
     "metadata": {},
     "output_type": "execute_result"
    }
   ],
   "source": [
    "drivingForce # Unused"
   ]
  },
  {
   "cell_type": "code",
   "execution_count": 46,
   "id": "43a80024-ff7f-4268-aa0d-c7cf82b1ecf2",
   "metadata": {},
   "outputs": [],
   "source": [
    "velocityDerivative = sp.diff(position(time), time)"
   ]
  },
  {
   "cell_type": "code",
   "execution_count": 47,
   "id": "8448084e-91b3-4441-9744-64e4b246850d",
   "metadata": {},
   "outputs": [
    {
     "data": {
      "text/latex": [
       "$\\displaystyle \\frac{d}{d t} x{\\left(t \\right)}$"
      ],
      "text/plain": [
       "Derivative(x(t), t)"
      ]
     },
     "execution_count": 47,
     "metadata": {},
     "output_type": "execute_result"
    }
   ],
   "source": [
    "velocityDerivative"
   ]
  },
  {
   "cell_type": "code",
   "execution_count": null,
   "id": "d17e31e1-b1a3-4950-a36c-11715ff2f8d0",
   "metadata": {},
   "outputs": [],
   "source": []
  },
  {
   "cell_type": "code",
   "execution_count": 18,
   "id": "43bd8cc4-372e-44d2-90c1-60f756614f1d",
   "metadata": {},
   "outputs": [],
   "source": [
    "totalForce = sp.Eq(mass * sp.Derivative(position(time), time, 2), restoringForce + dampiningForce)"
   ]
  },
  {
   "cell_type": "code",
   "execution_count": 19,
   "id": "6b847698-7522-4de6-addd-0f7f156d56f3",
   "metadata": {},
   "outputs": [
    {
     "data": {
      "text/latex": [
       "$\\displaystyle m \\frac{d^{2}}{d t^{2}} x{\\left(t \\right)} = - c \\frac{d}{d t} x{\\left(t \\right)} - k x{\\left(t \\right)}$"
      ],
      "text/plain": [
       "Eq(m*Derivative(x(t), (t, 2)), -c*Derivative(x(t), t) - k*x(t))"
      ]
     },
     "execution_count": 19,
     "metadata": {},
     "output_type": "execute_result"
    }
   ],
   "source": [
    "totalForce"
   ]
  },
  {
   "cell_type": "code",
   "execution_count": 20,
   "id": "8b7866d0-3863-4dcf-a646-8ee4240447c7",
   "metadata": {},
   "outputs": [],
   "source": [
    "# Change in frequency = velocity"
   ]
  },
  {
   "cell_type": "code",
   "execution_count": 49,
   "id": "a1791bfd-35bb-4805-a4a1-41d09082df67",
   "metadata": {},
   "outputs": [],
   "source": [
    "totalForceSolutions = sp.dsolve(totalForce)#, position(time), ics={velocityDerivative : 0})"
   ]
  },
  {
   "cell_type": "code",
   "execution_count": null,
   "id": "4a305857-585c-40ec-bd6c-1fda871410ef",
   "metadata": {},
   "outputs": [],
   "source": []
  },
  {
   "cell_type": "code",
   "execution_count": 50,
   "id": "0e90988c-d8fd-4259-8ada-df4b244ddb37",
   "metadata": {},
   "outputs": [
    {
     "data": {
      "text/latex": [
       "$\\displaystyle x{\\left(t \\right)} = C_{1} e^{\\frac{t \\left(- c + \\sqrt{c^{2} - 4 k m}\\right)}{2 m}} + C_{2} e^{- \\frac{t \\left(c + \\sqrt{c^{2} - 4 k m}\\right)}{2 m}}$"
      ],
      "text/plain": [
       "Eq(x(t), C1*exp(t*(-c + sqrt(c**2 - 4*k*m))/(2*m)) + C2*exp(-t*(c + sqrt(c**2 - 4*k*m))/(2*m)))"
      ]
     },
     "execution_count": 50,
     "metadata": {},
     "output_type": "execute_result"
    }
   ],
   "source": [
    "totalForceSolutions"
   ]
  },
  {
   "cell_type": "code",
   "execution_count": 23,
   "id": "b98db44f-6dd9-4306-bcb6-65d04d81e757",
   "metadata": {},
   "outputs": [],
   "source": [
    "C1 = sp.Symbol(\"C1\")"
   ]
  },
  {
   "cell_type": "code",
   "execution_count": 24,
   "id": "adbcc853-54b6-45f1-9f79-1fb256c930b6",
   "metadata": {},
   "outputs": [],
   "source": [
    "C2 = sp.Symbol(\"C2\")"
   ]
  },
  {
   "cell_type": "code",
   "execution_count": 25,
   "id": "98ac978d-52a8-491b-8f68-0627cd3e433c",
   "metadata": {},
   "outputs": [
    {
     "data": {
      "text/plain": [
       "{C1, C2, c, k, m, t}"
      ]
     },
     "execution_count": 25,
     "metadata": {},
     "output_type": "execute_result"
    }
   ],
   "source": [
    "totalForceSolutions.free_symbols"
   ]
  },
  {
   "cell_type": "code",
   "execution_count": 26,
   "id": "d5e63fd3-cfdc-4166-bfe9-8b73dca03a4a",
   "metadata": {},
   "outputs": [],
   "source": [
    "numericalSubstitutions = {C1 : 1, C2 : 1, dampiningConstant : 1, springConstant : 1, mass : 1}"
   ]
  },
  {
   "cell_type": "code",
   "execution_count": null,
   "id": "baf56f90-aa5c-4da0-ac9c-5ad2e790d7e7",
   "metadata": {},
   "outputs": [],
   "source": []
  },
  {
   "cell_type": "code",
   "execution_count": 27,
   "id": "7d0cd6c8-d1a4-4983-a03d-22b7654fdb77",
   "metadata": {},
   "outputs": [
    {
     "data": {
      "image/png": "[encoded data removed]",
      "text/plain": [
       "<Figure size 432x288 with 1 Axes>"
      ]
     },
     "metadata": {
      "needs_background": "light"
     },
     "output_type": "display_data"
    },
    {
     "data": {
      "text/plain": [
       "<sympy.plotting.plot.Plot at 0x7fbe36adeef0>"
      ]
     },
     "execution_count": 27,
     "metadata": {},
     "output_type": "execute_result"
    }
   ],
   "source": [
    "sp.plot(totalForceSolutions.rhs.subs(numericalSubstitutions))"
   ]
  },
  {
   "cell_type": "code",
   "execution_count": 28,
   "id": "83762c40-ba44-4e95-ba0b-e0aa0cda6295",
   "metadata": {},
   "outputs": [],
   "source": [
    "omega = sp.sqrt((springConstant / mass) - ((dampiningConstant / (2 * mass)) ** 2))"
   ]
  },
  {
   "cell_type": "code",
   "execution_count": 29,
   "id": "ea3494ff-625b-40db-9fc4-0584dba516c3",
   "metadata": {},
   "outputs": [
    {
     "data": {
      "text/latex": [
       "$\\displaystyle \\sqrt{- \\frac{c^{2}}{4 m^{2}} + \\frac{k}{m}}$"
      ],
      "text/plain": [
       "sqrt(-c**2/(4*m**2) + k/m)"
      ]
     },
     "execution_count": 29,
     "metadata": {},
     "output_type": "execute_result"
    }
   ],
   "source": [
    "omega"
   ]
  },
  {
   "cell_type": "code",
   "execution_count": 30,
   "id": "de26a1af-b75e-417c-9313-df194e090312",
   "metadata": {},
   "outputs": [],
   "source": [
    "givenSolution = sp.exp(-time * dampiningConstant / (2 * mass)) * sp.cos(omega * time)"
   ]
  },
  {
   "cell_type": "code",
   "execution_count": 31,
   "id": "d4b5d647-8412-4d67-81f7-9426a958081e",
   "metadata": {},
   "outputs": [
    {
     "data": {
      "text/latex": [
       "$\\displaystyle e^{- \\frac{c t}{2 m}} \\cos{\\left(t \\sqrt{- \\frac{c^{2}}{4 m^{2}} + \\frac{k}{m}} \\right)}$"
      ],
      "text/plain": [
       "exp(-c*t/(2*m))*cos(t*sqrt(-c**2/(4*m**2) + k/m))"
      ]
     },
     "execution_count": 31,
     "metadata": {},
     "output_type": "execute_result"
    }
   ],
   "source": [
    "givenSolution"
   ]
  },
  {
   "cell_type": "code",
   "execution_count": 32,
   "id": "a098c769-cd82-46e5-8f04-90b47a4bacd3",
   "metadata": {},
   "outputs": [
    {
     "data": {
      "image/png": "[encoded data removed]",
      "text/plain": [
       "<Figure size 432x288 with 1 Axes>"
      ]
     },
     "metadata": {
      "needs_background": "light"
     },
     "output_type": "display_data"
    },
    {
     "data": {
      "text/plain": [
       "<sympy.plotting.plot.Plot at 0x7fbda2ea7b50>"
      ]
     },
     "execution_count": 32,
     "metadata": {},
     "output_type": "execute_result"
    }
   ],
   "source": [
    "sp.plot(givenSolution.subs(numericalSubstitutions))"
   ]
  },
  {
   "cell_type": "code",
   "execution_count": 33,
   "id": "3ba44c84-3f31-422b-9964-fa3fe765f711",
   "metadata": {},
   "outputs": [
    {
     "data": {
      "text/latex": [
       "$\\displaystyle e^{- \\frac{c t}{2 m}} \\cos{\\left(t \\sqrt{- \\frac{c^{2}}{4 m^{2}} + \\frac{k}{m}} \\right)} = C_{1} e^{\\frac{t \\left(- c + \\sqrt{c^{2} - 4 k m}\\right)}{2 m}} + C_{2} e^{- \\frac{t \\left(c + \\sqrt{c^{2} - 4 k m}\\right)}{2 m}}$"
      ],
      "text/plain": [
       "Eq(exp(-c*t/(2*m))*cos(t*sqrt(-c**2/(4*m**2) + k/m)), C1*exp(t*(-c + sqrt(c**2 - 4*k*m))/(2*m)) + C2*exp(-t*(c + sqrt(c**2 - 4*k*m))/(2*m)))"
      ]
     },
     "execution_count": 33,
     "metadata": {},
     "output_type": "execute_result"
    }
   ],
   "source": [
    "sp.Eq(givenSolution, totalForceSolutions.rhs).refine()"
   ]
  },
  {
   "cell_type": "code",
   "execution_count": null,
   "id": "8594d45c-08ae-45c8-9266-0bfb955d23d9",
   "metadata": {},
   "outputs": [],
   "source": []
  }
 ],
 "metadata": {
  "kernelspec": {
   "display_name": "Python 3 (ipykernel)",
   "language": "python",
   "name": "python3"
  },
  "language_info": {
   "codemirror_mode": {
    "name": "ipython",
    "version": 3
   },
   "file_extension": ".py",
   "mimetype": "text/x-python",
   "name": "python",
   "nbconvert_exporter": "python",
   "pygments_lexer": "ipython3",
   "version": "3.10.5"
  }
 },
 "nbformat": 4,
 "nbformat_minor": 5
}
