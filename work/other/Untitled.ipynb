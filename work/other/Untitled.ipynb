{
 "cells": [
  {
   "cell_type": "code",
   "execution_count": 1,
   "id": "d7297880-f6a5-4914-ac57-b66dd342a23e",
   "metadata": {},
   "outputs": [],
   "source": [
    "import numpy as np"
   ]
  },
  {
   "cell_type": "code",
   "execution_count": 2,
   "id": "8c9fd9ea-1a5d-49cd-b912-7dbc5938660e",
   "metadata": {},
   "outputs": [],
   "source": [
    "from matplotlib import pyplot as plt"
   ]
  },
  {
   "cell_type": "code",
   "execution_count": 3,
   "id": "c4020740-a813-4c8d-8dc0-7ab33776f84c",
   "metadata": {},
   "outputs": [],
   "source": [
    "DEFAULT_BASE = 92821"
   ]
  },
  {
   "cell_type": "code",
   "execution_count": 4,
   "id": "dfae385b-78fb-413c-acd6-a68bfaa6d419",
   "metadata": {},
   "outputs": [],
   "source": [
    "DEFAULT_TABLE_SIZE = 486187739"
   ]
  },
  {
   "cell_type": "code",
   "execution_count": 5,
   "id": "2a719708-7502-4e69-a12c-24ebf224a201",
   "metadata": {},
   "outputs": [],
   "source": [
    "DEFAULT_OFFSET = ord('a') + 1"
   ]
  },
  {
   "cell_type": "code",
   "execution_count": 53,
   "id": "94769a68-f78c-452d-ba07-c581c7c7dffa",
   "metadata": {},
   "outputs": [],
   "source": [
    "def hash_data(\n",
    "            to_hash : list, \n",
    "            base : int = DEFAULT_BASE, \n",
    "            table_size : int = DEFAULT_TABLE_SIZE, \n",
    "            offset : int = DEFAULT_OFFSET\n",
    "        ) -> int: \n",
    "    current = 0\n",
    "    if type(to_hash[0]) is str: \n",
    "        to_hash = np.array(list(map(lambda current : ord(current), to_hash)))\n",
    "    elif type(to_hash) is not np.array:\n",
    "        to_hash = np.array(to_hash)\n",
    "    powers = np.logspace(0, len(to_hash) - 1, len(to_hash), base = base)\n",
    "    return np.sum(((to_hash - offset) * powers) % table_size)"
   ]
  },
  {
   "cell_type": "code",
   "execution_count": 54,
   "id": "f90aecc8-1e10-4b24-b811-1c45dab8b9d5",
   "metadata": {},
   "outputs": [
    {
     "data": {
      "text/plain": [
       "1328886903.0"
      ]
     },
     "execution_count": 54,
     "metadata": {},
     "output_type": "execute_result"
    }
   ],
   "source": [
    "hash_data([1, 45, 547, 42342])"
   ]
  },
  {
   "cell_type": "code",
   "execution_count": 158,
   "id": "ec9ef5b8-ca2b-473b-b670-af9451beb89b",
   "metadata": {},
   "outputs": [],
   "source": [
    "def test_sequence_shift(from_ = 1, to = 10, debug = True):\n",
    "    inputs = np.arange(from_, (to ** 2) + 1)\n",
    "    outputs = np.arange(from_, to + 1)\n",
    "    success = True\n",
    "    for input_ in inputs: \n",
    "        hash_ = hash_data([input_], base = 2, table_size = to, offset = 0)\n",
    "        expected = outputs[input_ % to] - 1\n",
    "        if hash_ != expected: \n",
    "            if debug == True: \n",
    "                print(\"FAIL: \", hash_, expected)\n",
    "                success = False\n",
    "    return success"
   ]
  },
  {
   "cell_type": "code",
   "execution_count": 159,
   "id": "4d8e6e68-0a54-4548-8d0d-fe6456fe83c8",
   "metadata": {},
   "outputs": [
    {
     "data": {
      "text/plain": [
       "True"
      ]
     },
     "execution_count": 159,
     "metadata": {},
     "output_type": "execute_result"
    }
   ],
   "source": [
    "test_sequence_shift()"
   ]
  },
  {
   "cell_type": "code",
   "execution_count": 185,
   "id": "dccc7e22-5211-4367-9987-5d0b8c6cf8c0",
   "metadata": {},
   "outputs": [],
   "source": [
    "def test_function(from_ = 1, to = 10, debug = True): \n",
    "    test = lambda x : x - 1 if x > (to / 2) else x * 2\n",
    "    inputs = np.arange(from_, to + 1)\n",
    "    outputs = np.array(list(map(test, inputs)))\n",
    "    mapping = {}\n",
    "    for ii in range(len(outputs)): \n",
    "        if outputs[ii] in mapping: \n",
    "            mapping[outputs[ii]].append(inputs[ii])\n",
    "        else: \n",
    "            mapping[outputs[ii]] = [inputs[ii]]\n",
    "    input_order = []\n",
    "    for inputs in mapping.values(): \n",
    "        input_order += inputs\n",
    "    for offset in range(from_ - 1, to * 2 + 1):\n",
    "        print(\"Offset: \", offset)\n",
    "        \n",
    "        for input_ in inputs: \n",
    "            hashed = hash_data([input_], base = 10, table_size = to, offset = offset)\n",
    "    print(outputs)\n",
    "    print(mapping)"
   ]
  },
  {
   "cell_type": "code",
   "execution_count": 186,
   "id": "a3e79146-a99f-4b7d-b4b1-6d3cdb656bd3",
   "metadata": {},
   "outputs": [
    {
     "name": "stdout",
     "output_type": "stream",
     "text": [
      "Offset:  0\n",
      "Offset:  1\n",
      "Offset:  2\n",
      "Offset:  3\n",
      "Offset:  4\n",
      "Offset:  5\n",
      "Offset:  6\n",
      "Offset:  7\n",
      "Offset:  8\n",
      "Offset:  9\n",
      "Offset:  10\n",
      "Offset:  11\n",
      "Offset:  12\n",
      "Offset:  13\n",
      "Offset:  14\n",
      "Offset:  15\n",
      "Offset:  16\n",
      "Offset:  17\n",
      "Offset:  18\n",
      "Offset:  19\n",
      "Offset:  20\n",
      "[ 2  4  6  8 10  5  6  7  8  9]\n",
      "{2: [1], 4: [2], 6: [3, 7], 8: [4, 9], 10: [5], 5: [6], 7: [8], 9: [10]}\n"
     ]
    }
   ],
   "source": [
    "test_function()"
   ]
  },
  {
   "cell_type": "code",
   "execution_count": null,
   "id": "c106ab5e-4232-4859-b473-377c09ec07de",
   "metadata": {},
   "outputs": [],
   "source": []
  }
 ],
 "metadata": {
  "kernelspec": {
   "display_name": "Python 3 (ipykernel)",
   "language": "python",
   "name": "python3"
  },
  "language_info": {
   "codemirror_mode": {
    "name": "ipython",
    "version": 3
   },
   "file_extension": ".py",
   "mimetype": "text/x-python",
   "name": "python",
   "nbconvert_exporter": "python",
   "pygments_lexer": "ipython3",
   "version": "3.10.5"
  }
 },
 "nbformat": 4,
 "nbformat_minor": 5
}
