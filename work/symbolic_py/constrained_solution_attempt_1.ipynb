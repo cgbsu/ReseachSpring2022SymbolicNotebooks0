{
 "cells": [
  {
   "cell_type": "code",
   "execution_count": 1,
   "id": "ba83354b-7bae-4abc-ae3d-46a323509622",
   "metadata": {},
   "outputs": [],
   "source": [
    "from new_attempt.stateless import *"
   ]
  },
  {
   "cell_type": "code",
   "execution_count": 2,
   "id": "7961a18d-d541-4e92-91b4-b11ecdb4ac1b",
   "metadata": {},
   "outputs": [],
   "source": [
    "from custom_libraries.utilities import *"
   ]
  },
  {
   "cell_type": "code",
   "execution_count": 3,
   "id": "53a08e06-7e28-4cfc-86ad-942350bced0d",
   "metadata": {},
   "outputs": [],
   "source": [
    "import matplotlib.pyplot as plt"
   ]
  },
  {
   "cell_type": "code",
   "execution_count": 4,
   "id": "fd9f437e-4244-423e-a41b-354637d0f799",
   "metadata": {},
   "outputs": [],
   "source": [
    "import numpy as np"
   ]
  },
  {
   "cell_type": "code",
   "execution_count": null,
   "id": "33db7c3b-7e0b-42be-9813-a956d0137383",
   "metadata": {},
   "outputs": [],
   "source": []
  },
  {
   "cell_type": "code",
   "execution_count": 5,
   "id": "e1f97467-ea1f-49bd-92fc-724841372449",
   "metadata": {},
   "outputs": [],
   "source": [
    "regionSymbols = RegionSymbols(1)"
   ]
  },
  {
   "cell_type": "code",
   "execution_count": 6,
   "id": "29520e10-88cc-4f0b-9e1a-35fa1208350e",
   "metadata": {},
   "outputs": [],
   "source": [
    "customPlanck = sq.Symbol('hbarX', real = True, positive = True, nonzero = True)"
   ]
  },
  {
   "cell_type": "code",
   "execution_count": null,
   "id": "625c82a6-806c-49bd-9e71-5630798ab3c8",
   "metadata": {},
   "outputs": [],
   "source": []
  },
  {
   "cell_type": "code",
   "execution_count": null,
   "id": "78dcf8b0-8f6a-40ef-9b4d-ac974ed35b09",
   "metadata": {},
   "outputs": [],
   "source": []
  },
  {
   "cell_type": "code",
   "execution_count": null,
   "id": "29bd19be-771f-4808-b794-2739550f6c15",
   "metadata": {},
   "outputs": [],
   "source": []
  },
  {
   "cell_type": "code",
   "execution_count": 7,
   "id": "546b341f-fc92-49c1-b077-6de14bcdb028",
   "metadata": {},
   "outputs": [],
   "source": [
    "waveEquation = constantPotentialTimeIndependentSchroedingerEquation1D(regionSymbols, reducedPlanckConstant = customPlanck)"
   ]
  },
  {
   "cell_type": "code",
   "execution_count": 8,
   "id": "30b7f4a4-a362-4352-8174-e8448d51e421",
   "metadata": {},
   "outputs": [
    {
     "data": {
      "text/latex": [
       "$\\displaystyle V_{1} \\psi_{1}{\\left(x \\right)} - \\frac{hbarX^{2} \\frac{d^{2}}{d x^{2}} \\psi_{1}{\\left(x \\right)}}{2 m} = E_{total} \\psi_{1}{\\left(x \\right)}$"
      ],
      "text/plain": [
       "Eq(V_1*psi_1(x) - hbarX**2*Derivative(psi_1(x), (x, 2))/(2*m), E_{total}*psi_1(x))"
      ]
     },
     "execution_count": 8,
     "metadata": {},
     "output_type": "execute_result"
    }
   ],
   "source": [
    "waveEquation"
   ]
  },
  {
   "cell_type": "code",
   "execution_count": 9,
   "id": "eb52afdb-3740-4acc-8dd7-171c70368740",
   "metadata": {},
   "outputs": [],
   "source": [
    "normalization = simpleWaveFunctionNormalization(regionSymbols.startDistance, regionSymbols.distance, regionSymbols)"
   ]
  },
  {
   "cell_type": "code",
   "execution_count": 10,
   "id": "ed2878ad-0da1-40c8-9c18-a6db9b46d290",
   "metadata": {},
   "outputs": [
    {
     "data": {
      "text/latex": [
       "$\\displaystyle \\int\\limits_{L_{0}}^{L_{1}} \\psi_{1}{\\left(x \\right)} \\overline{\\psi_{1}{\\left(x \\right)}}\\, dx = N_{1}$"
      ],
      "text/plain": [
       "Eq(Integral(psi_1(x)*conjugate(psi_1(x)), (x, L_0, L_1)), N_1)"
      ]
     },
     "execution_count": 10,
     "metadata": {},
     "output_type": "execute_result"
    }
   ],
   "source": [
    "normalization"
   ]
  },
  {
   "cell_type": "code",
   "execution_count": 11,
   "id": "cce33719-d0b2-4c1a-9b86-20cf9f048119",
   "metadata": {},
   "outputs": [],
   "source": [
    "boundries = {\n",
    "        regionSymbols.waveFunction(regionSymbols.startDistance) : sp.Symbol('B_{1}'), \n",
    "        regionSymbols.waveFunction(regionSymbols.distance) : sp.Symbol('B_{2}')\n",
    "    }"
   ]
  },
  {
   "cell_type": "code",
   "execution_count": 12,
   "id": "239a9269-6e3d-46af-a1ab-b9c6eb553941",
   "metadata": {},
   "outputs": [],
   "source": [
    "generalSolution = sp.dsolve(waveEquation, ics = boundries)"
   ]
  },
  {
   "cell_type": "code",
   "execution_count": 13,
   "id": "6188152d-d9dd-485c-ba50-9b1f9074a268",
   "metadata": {},
   "outputs": [
    {
     "data": {
      "text/latex": [
       "$\\displaystyle \\psi_{1}{\\left(x \\right)} = \\left(\\frac{B_{1} e^{\\frac{\\sqrt{2} L_{0} \\sqrt{m} \\sqrt{- E_{total} + V_{1}}}{hbarX}}}{e^{\\frac{2 \\sqrt{2} L_{0} \\sqrt{m} \\sqrt{- E_{total} + V_{1}}}{hbarX}} - e^{\\frac{2 \\sqrt{2} L_{1} \\sqrt{m} \\sqrt{- E_{total} + V_{1}}}{hbarX}}} - \\frac{B_{2} e^{\\frac{\\sqrt{2} L_{1} \\sqrt{m} \\sqrt{- E_{total} + V_{1}}}{hbarX}}}{e^{\\frac{2 \\sqrt{2} L_{0} \\sqrt{m} \\sqrt{- E_{total} + V_{1}}}{hbarX}} - e^{\\frac{2 \\sqrt{2} L_{1} \\sqrt{m} \\sqrt{- E_{total} + V_{1}}}{hbarX}}}\\right) e^{\\frac{\\sqrt{2} \\sqrt{m} x \\sqrt{- E_{total} + V_{1}}}{hbarX}} + \\left(- \\frac{B_{1} e^{\\frac{\\sqrt{2} L_{0} \\sqrt{m} \\sqrt{- E_{total} + V_{1}}}{hbarX}} e^{\\frac{2 \\sqrt{2} L_{1} \\sqrt{m} \\sqrt{- E_{total} + V_{1}}}{hbarX}}}{e^{\\frac{2 \\sqrt{2} L_{0} \\sqrt{m} \\sqrt{- E_{total} + V_{1}}}{hbarX}} - e^{\\frac{2 \\sqrt{2} L_{1} \\sqrt{m} \\sqrt{- E_{total} + V_{1}}}{hbarX}}} + \\frac{B_{2} e^{\\frac{2 \\sqrt{2} L_{0} \\sqrt{m} \\sqrt{- E_{total} + V_{1}}}{hbarX}} e^{\\frac{\\sqrt{2} L_{1} \\sqrt{m} \\sqrt{- E_{total} + V_{1}}}{hbarX}}}{e^{\\frac{2 \\sqrt{2} L_{0} \\sqrt{m} \\sqrt{- E_{total} + V_{1}}}{hbarX}} - e^{\\frac{2 \\sqrt{2} L_{1} \\sqrt{m} \\sqrt{- E_{total} + V_{1}}}{hbarX}}}\\right) e^{- \\frac{\\sqrt{2} \\sqrt{m} x \\sqrt{- E_{total} + V_{1}}}{hbarX}}$"
      ],
      "text/plain": [
       "Eq(psi_1(x), (B_{1}*exp(sqrt(2)*L_0*sqrt(m)*sqrt(-E_{total} + V_1)/hbarX)/(exp(2*sqrt(2)*L_0*sqrt(m)*sqrt(-E_{total} + V_1)/hbarX) - exp(2*sqrt(2)*L_1*sqrt(m)*sqrt(-E_{total} + V_1)/hbarX)) - B_{2}*exp(sqrt(2)*L_1*sqrt(m)*sqrt(-E_{total} + V_1)/hbarX)/(exp(2*sqrt(2)*L_0*sqrt(m)*sqrt(-E_{total} + V_1)/hbarX) - exp(2*sqrt(2)*L_1*sqrt(m)*sqrt(-E_{total} + V_1)/hbarX)))*exp(sqrt(2)*sqrt(m)*x*sqrt(-E_{total} + V_1)/hbarX) + (-B_{1}*exp(sqrt(2)*L_0*sqrt(m)*sqrt(-E_{total} + V_1)/hbarX)*exp(2*sqrt(2)*L_1*sqrt(m)*sqrt(-E_{total} + V_1)/hbarX)/(exp(2*sqrt(2)*L_0*sqrt(m)*sqrt(-E_{total} + V_1)/hbarX) - exp(2*sqrt(2)*L_1*sqrt(m)*sqrt(-E_{total} + V_1)/hbarX)) + B_{2}*exp(2*sqrt(2)*L_0*sqrt(m)*sqrt(-E_{total} + V_1)/hbarX)*exp(sqrt(2)*L_1*sqrt(m)*sqrt(-E_{total} + V_1)/hbarX)/(exp(2*sqrt(2)*L_0*sqrt(m)*sqrt(-E_{total} + V_1)/hbarX) - exp(2*sqrt(2)*L_1*sqrt(m)*sqrt(-E_{total} + V_1)/hbarX)))*exp(-sqrt(2)*sqrt(m)*x*sqrt(-E_{total} + V_1)/hbarX))"
      ]
     },
     "execution_count": 13,
     "metadata": {},
     "output_type": "execute_result"
    }
   ],
   "source": [
    "generalSolution"
   ]
  },
  {
   "cell_type": "code",
   "execution_count": 14,
   "id": "2462e2e6-ea54-4452-ace8-d6bd7149c947",
   "metadata": {},
   "outputs": [],
   "source": [
    "harmonicConstant = extractHarmonicConstant(regionSymbols, waveEquation)"
   ]
  },
  {
   "cell_type": "code",
   "execution_count": 15,
   "id": "35be8aaa-5c88-4dea-9a1d-b33d2f608281",
   "metadata": {},
   "outputs": [
    {
     "data": {
      "text/latex": [
       "$\\displaystyle k_{1} = \\frac{\\sqrt{2} \\sqrt{m} \\sqrt{- E_{total} + V_{1}}}{hbarX}$"
      ],
      "text/plain": [
       "Eq(k_1, sqrt(2)*sqrt(m)*sqrt(-E_{total} + V_1)/hbarX)"
      ]
     },
     "execution_count": 15,
     "metadata": {},
     "output_type": "execute_result"
    }
   ],
   "source": [
    "harmonicConstant"
   ]
  },
  {
   "cell_type": "code",
   "execution_count": 16,
   "id": "f7f9cf1e-5e40-45fa-a1f5-87d88a4089b7",
   "metadata": {},
   "outputs": [],
   "source": [
    "generalSolution = generalSolution.subs({harmonicConstant.rhs : harmonicConstant.lhs})"
   ]
  },
  {
   "cell_type": "code",
   "execution_count": 17,
   "id": "e43789dd-a2eb-4aac-be66-e78cbf8036f0",
   "metadata": {},
   "outputs": [
    {
     "data": {
      "text/latex": [
       "$\\displaystyle \\psi_{1}{\\left(x \\right)} = \\left(\\frac{B_{1} e^{L_{0} k_{1}}}{e^{2 L_{0} k_{1}} - e^{2 L_{1} k_{1}}} - \\frac{B_{2} e^{L_{1} k_{1}}}{e^{2 L_{0} k_{1}} - e^{2 L_{1} k_{1}}}\\right) e^{k_{1} x} + \\left(- \\frac{B_{1} e^{L_{0} k_{1}} e^{2 L_{1} k_{1}}}{e^{2 L_{0} k_{1}} - e^{2 L_{1} k_{1}}} + \\frac{B_{2} e^{2 L_{0} k_{1}} e^{L_{1} k_{1}}}{e^{2 L_{0} k_{1}} - e^{2 L_{1} k_{1}}}\\right) e^{- k_{1} x}$"
      ],
      "text/plain": [
       "Eq(psi_1(x), (B_{1}*exp(L_0*k_1)/(exp(2*L_0*k_1) - exp(2*L_1*k_1)) - B_{2}*exp(L_1*k_1)/(exp(2*L_0*k_1) - exp(2*L_1*k_1)))*exp(k_1*x) + (-B_{1}*exp(L_0*k_1)*exp(2*L_1*k_1)/(exp(2*L_0*k_1) - exp(2*L_1*k_1)) + B_{2}*exp(2*L_0*k_1)*exp(L_1*k_1)/(exp(2*L_0*k_1) - exp(2*L_1*k_1)))*exp(-k_1*x))"
      ]
     },
     "execution_count": 17,
     "metadata": {},
     "output_type": "execute_result"
    }
   ],
   "source": [
    "generalSolution"
   ]
  },
  {
   "cell_type": "code",
   "execution_count": 18,
   "id": "123cc3d0-8251-4bae-b4ba-55b32a44bdaa",
   "metadata": {},
   "outputs": [],
   "source": [
    "def extractWaveCoefficents(exponentialEquation, position = POSITION_SYMBOL): \n",
    "    C0 = sp.Wild(\"C0\")\n",
    "    C1 = sp.Wild(\"C1\")\n",
    "    harmonic = sp.Wild(\"k\")\n",
    "    results = exponentialEquation.match(C0 * sp.exp(harmonic * position) + C1 * sp.exp(-harmonic * position))\n",
    "    return {\n",
    "            \"transmission\" : results[C0], \n",
    "            \"reflection\" : results[C1], \n",
    "            \"harmonicConstant\" : results[harmonic]\n",
    "    }"
   ]
  },
  {
   "cell_type": "code",
   "execution_count": 19,
   "id": "23ce0b2a-9c47-465e-90a4-5aa5409c5467",
   "metadata": {},
   "outputs": [],
   "source": [
    "coefficeints = extractWaveCoefficents(generalSolution.rhs, POSITION_SYMBOL)"
   ]
  },
  {
   "cell_type": "code",
   "execution_count": 20,
   "id": "9cff8bfd-ba78-4e24-b093-287b1bf4c389",
   "metadata": {},
   "outputs": [
    {
     "data": {
      "text/plain": [
       "{'transmission': B_{1}*exp(L_0*k_1)/(exp(2*L_0*k_1) - exp(2*L_1*k_1)) - B_{2}*exp(L_1*k_1)/(exp(2*L_0*k_1) - exp(2*L_1*k_1)),\n",
       " 'reflection': -B_{1}*exp(L_0*k_1)*exp(2*L_1*k_1)/(exp(2*L_0*k_1) - exp(2*L_1*k_1)) + B_{2}*exp(2*L_0*k_1)*exp(L_1*k_1)/(exp(2*L_0*k_1) - exp(2*L_1*k_1)),\n",
       " 'harmonicConstant': k_1}"
      ]
     },
     "execution_count": 20,
     "metadata": {},
     "output_type": "execute_result"
    }
   ],
   "source": [
    "coefficeints"
   ]
  },
  {
   "cell_type": "code",
   "execution_count": null,
   "id": "30e2479e-b5bf-4bf9-a027-6d66b5fbccdf",
   "metadata": {},
   "outputs": [],
   "source": []
  },
  {
   "cell_type": "code",
   "execution_count": 21,
   "id": "d91ec2de-6a84-42e8-8cdf-05998bac034c",
   "metadata": {},
   "outputs": [],
   "source": [
    "exponential = generalSolution.subs({\n",
    "        coefficeints[\"transmission\"] : sp.Symbol(\"C0\"), \n",
    "        coefficeints[\"reflection\"] : sp.Symbol(\"C1\")\n",
    "    })"
   ]
  },
  {
   "cell_type": "code",
   "execution_count": 22,
   "id": "2b87ea54-e462-4298-91a5-b2bec94b6272",
   "metadata": {},
   "outputs": [
    {
     "data": {
      "text/latex": [
       "$\\displaystyle \\psi_{1}{\\left(x \\right)} = C_{0} e^{k_{1} x} + C_{1} e^{- k_{1} x}$"
      ],
      "text/plain": [
       "Eq(psi_1(x), C0*exp(k_1*x) + C1*exp(-k_1*x))"
      ]
     },
     "execution_count": 22,
     "metadata": {},
     "output_type": "execute_result"
    }
   ],
   "source": [
    "exponential"
   ]
  },
  {
   "cell_type": "code",
   "execution_count": 23,
   "id": "fc9e5d6f-0ad9-4d90-bd0e-bbf55cdb2781",
   "metadata": {},
   "outputs": [
    {
     "data": {
      "text/latex": [
       "$\\displaystyle \\frac{B_{1} e^{L_{0} k_{1}}}{e^{2 L_{0} k_{1}} - e^{2 L_{1} k_{1}}} - \\frac{B_{2} e^{L_{1} k_{1}}}{e^{2 L_{0} k_{1}} - e^{2 L_{1} k_{1}}}$"
      ],
      "text/plain": [
       "B_{1}*exp(L_0*k_1)/(exp(2*L_0*k_1) - exp(2*L_1*k_1)) - B_{2}*exp(L_1*k_1)/(exp(2*L_0*k_1) - exp(2*L_1*k_1))"
      ]
     },
     "execution_count": 23,
     "metadata": {},
     "output_type": "execute_result"
    }
   ],
   "source": [
    "coefficeints[\"transmission\"]"
   ]
  },
  {
   "cell_type": "code",
   "execution_count": 24,
   "id": "784e841a-d8c5-416c-a682-d9364838130e",
   "metadata": {},
   "outputs": [
    {
     "data": {
      "text/latex": [
       "$\\displaystyle - \\frac{B_{1} e^{L_{0} k_{1}} e^{2 L_{1} k_{1}}}{e^{2 L_{0} k_{1}} - e^{2 L_{1} k_{1}}} + \\frac{B_{2} e^{2 L_{0} k_{1}} e^{L_{1} k_{1}}}{e^{2 L_{0} k_{1}} - e^{2 L_{1} k_{1}}}$"
      ],
      "text/plain": [
       "-B_{1}*exp(L_0*k_1)*exp(2*L_1*k_1)/(exp(2*L_0*k_1) - exp(2*L_1*k_1)) + B_{2}*exp(2*L_0*k_1)*exp(L_1*k_1)/(exp(2*L_0*k_1) - exp(2*L_1*k_1))"
      ]
     },
     "execution_count": 24,
     "metadata": {},
     "output_type": "execute_result"
    }
   ],
   "source": [
    "coefficeints[\"reflection\"]"
   ]
  },
  {
   "cell_type": "code",
   "execution_count": 25,
   "id": "4cb874d1-b031-4da2-9729-a8b10f002a1a",
   "metadata": {},
   "outputs": [],
   "source": [
    "integration = normalization.subs({regionSymbols.waveFunction(POSITION_SYMBOL) : exponential.rhs}).doit()"
   ]
  },
  {
   "cell_type": "code",
   "execution_count": 26,
   "id": "a490e9d1-d132-4400-add5-f53e72db5548",
   "metadata": {},
   "outputs": [
    {
     "data": {
      "text/latex": [
       "$\\displaystyle - L_{0} \\left(C_{0} \\overline{C_{1}} + C_{1} \\overline{C_{0}}\\right) + L_{1} \\left(C_{0} \\overline{C_{1}} + C_{1} \\overline{C_{0}}\\right) + \\begin{cases} - \\frac{2 C_{0} k_{1} e^{2 L_{0} k_{1}} \\overline{C_{0}} - 2 C_{1} k_{1} e^{- 2 L_{0} k_{1}} \\overline{C_{1}}}{4 k_{1}^{2}} + \\frac{2 C_{0} k_{1} e^{2 L_{1} k_{1}} \\overline{C_{0}} - 2 C_{1} k_{1} e^{- 2 L_{1} k_{1}} \\overline{C_{1}}}{4 k_{1}^{2}} & \\text{for}\\: k_{1} \\neq 0 \\\\- L_{0} \\left(C_{0} \\overline{C_{0}} + C_{1} \\overline{C_{1}}\\right) + L_{1} \\left(C_{0} \\overline{C_{0}} + C_{1} \\overline{C_{1}}\\right) & \\text{otherwise} \\end{cases} = N_{1}$"
      ],
      "text/plain": [
       "Eq(-L_0*(C0*conjugate(C1) + C1*conjugate(C0)) + L_1*(C0*conjugate(C1) + C1*conjugate(C0)) + Piecewise((-(2*C0*k_1*exp(2*L_0*k_1)*conjugate(C0) - 2*C1*k_1*exp(-2*L_0*k_1)*conjugate(C1))/(4*k_1**2) + (2*C0*k_1*exp(2*L_1*k_1)*conjugate(C0) - 2*C1*k_1*exp(-2*L_1*k_1)*conjugate(C1))/(4*k_1**2), Ne(k_1, 0)), (-L_0*(C0*conjugate(C0) + C1*conjugate(C1)) + L_1*(C0*conjugate(C0) + C1*conjugate(C1)), True)), N_1)"
      ]
     },
     "execution_count": 26,
     "metadata": {},
     "output_type": "execute_result"
    }
   ],
   "source": [
    "integration"
   ]
  },
  {
   "cell_type": "code",
   "execution_count": 27,
   "id": "06b2c043-68c8-4dff-b42f-95aef061a3f6",
   "metadata": {},
   "outputs": [
    {
     "data": {
      "text/latex": [
       "$\\displaystyle - L_{0} \\left(C_{0} \\overline{C_{1}} + C_{1} \\overline{C_{0}}\\right) + L_{1} \\left(C_{0} \\overline{C_{1}} + C_{1} \\overline{C_{0}}\\right) + \\begin{cases} - \\frac{2 C_{0} k_{1} e^{2 L_{0} k_{1}} \\overline{C_{0}} - 2 C_{1} k_{1} e^{- 2 L_{0} k_{1}} \\overline{C_{1}}}{4 k_{1}^{2}} + \\frac{2 C_{0} k_{1} e^{2 L_{1} k_{1}} \\overline{C_{0}} - 2 C_{1} k_{1} e^{- 2 L_{1} k_{1}} \\overline{C_{1}}}{4 k_{1}^{2}} & \\text{for}\\: k_{1} \\neq 0 \\\\- L_{0} \\left(C_{0} \\overline{C_{0}} + C_{1} \\overline{C_{1}}\\right) + L_{1} \\left(C_{0} \\overline{C_{0}} + C_{1} \\overline{C_{1}}\\right) & \\text{otherwise} \\end{cases}$"
      ],
      "text/plain": [
       "-L_0*(C0*conjugate(C1) + C1*conjugate(C0)) + L_1*(C0*conjugate(C1) + C1*conjugate(C0)) + Piecewise((-(2*C0*k_1*exp(2*L_0*k_1)*conjugate(C0) - 2*C1*k_1*exp(-2*L_0*k_1)*conjugate(C1))/(4*k_1**2) + (2*C0*k_1*exp(2*L_1*k_1)*conjugate(C0) - 2*C1*k_1*exp(-2*L_1*k_1)*conjugate(C1))/(4*k_1**2), Ne(k_1, 0)), (-L_0*(C0*conjugate(C0) + C1*conjugate(C1)) + L_1*(C0*conjugate(C0) + C1*conjugate(C1)), True))"
      ]
     },
     "execution_count": 27,
     "metadata": {},
     "output_type": "execute_result"
    }
   ],
   "source": [
    "integration.lhs"
   ]
  },
  {
   "cell_type": "code",
   "execution_count": 28,
   "id": "f00279d5-8f9c-4d6c-b21c-992b8568de8a",
   "metadata": {},
   "outputs": [
    {
     "data": {
      "text/latex": [
       "$\\displaystyle - L_{0} \\left(C_{0} \\overline{C_{1}} + C_{1} \\overline{C_{0}}\\right) + L_{1} \\left(C_{0} \\overline{C_{1}} + C_{1} \\overline{C_{0}}\\right) + \\begin{cases} - \\frac{2 C_{0} k_{1} e^{2 L_{0} k_{1}} \\overline{C_{0}} - 2 C_{1} k_{1} e^{- 2 L_{0} k_{1}} \\overline{C_{1}}}{4 k_{1}^{2}} + \\frac{2 C_{0} k_{1} e^{2 L_{1} k_{1}} \\overline{C_{0}} - 2 C_{1} k_{1} e^{- 2 L_{1} k_{1}} \\overline{C_{1}}}{4 k_{1}^{2}} & \\text{for}\\: k_{1} \\neq 0 \\\\- L_{0} \\left(C_{0} \\overline{C_{0}} + C_{1} \\overline{C_{1}}\\right) + L_{1} \\left(C_{0} \\overline{C_{0}} + C_{1} \\overline{C_{1}}\\right) & \\text{otherwise} \\end{cases}$"
      ],
      "text/plain": [
       "-L_0*(C0*conjugate(C1) + C1*conjugate(C0)) + L_1*(C0*conjugate(C1) + C1*conjugate(C0)) + Piecewise((-(2*C0*k_1*exp(2*L_0*k_1)*conjugate(C0) - 2*C1*k_1*exp(-2*L_0*k_1)*conjugate(C1))/(4*k_1**2) + (2*C0*k_1*exp(2*L_1*k_1)*conjugate(C0) - 2*C1*k_1*exp(-2*L_1*k_1)*conjugate(C1))/(4*k_1**2), Ne(k_1, 0)), (-L_0*(C0*conjugate(C0) + C1*conjugate(C1)) + L_1*(C0*conjugate(C0) + C1*conjugate(C1)), True))"
      ]
     },
     "execution_count": 28,
     "metadata": {},
     "output_type": "execute_result"
    }
   ],
   "source": [
    "integration.lhs"
   ]
  },
  {
   "cell_type": "code",
   "execution_count": 29,
   "id": "0850237b-cfbd-4f6b-9c11-2ab0c223b070",
   "metadata": {},
   "outputs": [],
   "source": [
    "def extractNonZero(symbolic):\n",
    "    harmonic = sp.Wild('k')\n",
    "    expression = sp.Wild('C')\n",
    "    nonZero = sp.Ne(harmonic, 0)\n",
    "    otherExpression = sp.Wild('A')\n",
    "    otherCondition = sp.Wild('B')\n",
    "    otherStuff = sp.Wild('Q')\n",
    "    extracted = symbolic.match(otherStuff + sp.Piecewise((expression, nonZero), (otherExpression, otherCondition)))\n",
    "    return {\n",
    "            \"nonZero\" : extracted[expression], \n",
    "            \"otherwise\" : extracted[otherExpression], \n",
    "            \"rest\" : extracted[otherStuff]\n",
    "        }"
   ]
  },
  {
   "cell_type": "code",
   "execution_count": 30,
   "id": "b32f92a9-198f-4c1b-aa88-2c6b92424505",
   "metadata": {},
   "outputs": [],
   "source": [
    "extractedConditions = extractNonZero(integration.lhs)"
   ]
  },
  {
   "cell_type": "code",
   "execution_count": 31,
   "id": "62676a37-00bc-4368-b2d1-e39945a67cdd",
   "metadata": {},
   "outputs": [],
   "source": [
    "nonZeroNormalizationCase = sp.Eq(extractedConditions[\"rest\"] + extractedConditions[\"nonZero\"], integration.rhs)"
   ]
  },
  {
   "cell_type": "code",
   "execution_count": 32,
   "id": "5dcabb08-f6c7-442b-9a52-06afcce82390",
   "metadata": {},
   "outputs": [
    {
     "data": {
      "text/latex": [
       "$\\displaystyle - L_{0} \\left(C_{0} \\overline{C_{1}} + C_{1} \\overline{C_{0}}\\right) + L_{1} \\left(C_{0} \\overline{C_{1}} + C_{1} \\overline{C_{0}}\\right) - \\frac{2 C_{0} k_{1} e^{2 L_{0} k_{1}} \\overline{C_{0}} - 2 C_{1} k_{1} e^{- 2 L_{0} k_{1}} \\overline{C_{1}}}{4 k_{1}^{2}} + \\frac{2 C_{0} k_{1} e^{2 L_{1} k_{1}} \\overline{C_{0}} - 2 C_{1} k_{1} e^{- 2 L_{1} k_{1}} \\overline{C_{1}}}{4 k_{1}^{2}} = N_{1}$"
      ],
      "text/plain": [
       "Eq(-L_0*(C0*conjugate(C1) + C1*conjugate(C0)) + L_1*(C0*conjugate(C1) + C1*conjugate(C0)) - (2*C0*k_1*exp(2*L_0*k_1)*conjugate(C0) - 2*C1*k_1*exp(-2*L_0*k_1)*conjugate(C1))/(4*k_1**2) + (2*C0*k_1*exp(2*L_1*k_1)*conjugate(C0) - 2*C1*k_1*exp(-2*L_1*k_1)*conjugate(C1))/(4*k_1**2), N_1)"
      ]
     },
     "execution_count": 32,
     "metadata": {},
     "output_type": "execute_result"
    }
   ],
   "source": [
    "nonZeroNormalizationCase"
   ]
  },
  {
   "cell_type": "code",
   "execution_count": 33,
   "id": "22f28ae5-637c-49a5-80f6-a563c2dbe454",
   "metadata": {},
   "outputs": [],
   "source": [
    "c0solutions = sp.solve(nonZeroNormalizationCase, sp.Symbol(\"C0\"))"
   ]
  },
  {
   "cell_type": "code",
   "execution_count": null,
   "id": "bdef62f9-cd87-434b-bd2d-aa72174be182",
   "metadata": {},
   "outputs": [],
   "source": []
  },
  {
   "cell_type": "code",
   "execution_count": 34,
   "id": "bc7881db-ea02-4b3e-8038-83bd39248efc",
   "metadata": {},
   "outputs": [
    {
     "data": {
      "text/plain": [
       "2"
      ]
     },
     "execution_count": 34,
     "metadata": {},
     "output_type": "execute_result"
    }
   ],
   "source": [
    "len(c0solutions)"
   ]
  },
  {
   "cell_type": "code",
   "execution_count": 35,
   "id": "9cbc5f8f-828d-42af-a2d4-32e0bc3b433c",
   "metadata": {},
   "outputs": [
    {
     "data": {
      "text/latex": [
       "$\\displaystyle \\frac{\\left(- 2 C_{1} L_{0} k_{1} e^{k_{1} \\left(L_{0} + L_{1}\\right)} + 2 C_{1} L_{1} k_{1} e^{k_{1} \\left(L_{0} + L_{1}\\right)} - \\sqrt{4 C_{1}^{2} L_{0}^{2} k_{1}^{2} e^{2 k_{1} \\left(L_{0} + L_{1}\\right)} - 8 C_{1}^{2} L_{0} L_{1} k_{1}^{2} e^{2 k_{1} \\left(L_{0} + L_{1}\\right)} + 4 C_{1}^{2} L_{1}^{2} k_{1}^{2} e^{2 k_{1} \\left(L_{0} + L_{1}\\right)} - C_{1}^{2} e^{4 L_{0} k_{1}} - C_{1}^{2} e^{4 L_{1} k_{1}} + 2 C_{1}^{2} e^{2 k_{1} \\left(L_{0} + L_{1}\\right)} + 2 N_{1} k_{1} e^{2 k_{1} \\left(L_{0} + 2 L_{1}\\right)} - 2 N_{1} k_{1} e^{2 k_{1} \\cdot \\left(2 L_{0} + L_{1}\\right)}}\\right) e^{- k_{1} \\left(L_{0} + L_{1}\\right)}}{e^{2 L_{0} k_{1}} - e^{2 L_{1} k_{1}}}$"
      ],
      "text/plain": [
       "(-2*C1*L_0*k_1*exp(k_1*(L_0 + L_1)) + 2*C1*L_1*k_1*exp(k_1*(L_0 + L_1)) - sqrt(4*C1**2*L_0**2*k_1**2*exp(2*k_1*(L_0 + L_1)) - 8*C1**2*L_0*L_1*k_1**2*exp(2*k_1*(L_0 + L_1)) + 4*C1**2*L_1**2*k_1**2*exp(2*k_1*(L_0 + L_1)) - C1**2*exp(4*L_0*k_1) - C1**2*exp(4*L_1*k_1) + 2*C1**2*exp(2*k_1*(L_0 + L_1)) + 2*N_1*k_1*exp(2*k_1*(L_0 + 2*L_1)) - 2*N_1*k_1*exp(2*k_1*(2*L_0 + L_1))))*exp(-k_1*(L_0 + L_1))/(exp(2*L_0*k_1) - exp(2*L_1*k_1))"
      ]
     },
     "execution_count": 35,
     "metadata": {},
     "output_type": "execute_result"
    }
   ],
   "source": [
    "c0solutions[0]"
   ]
  },
  {
   "cell_type": "code",
   "execution_count": 36,
   "id": "5252caa3-d343-41e1-89a6-5b49b47f0dd7",
   "metadata": {},
   "outputs": [
    {
     "data": {
      "text/latex": [
       "$\\displaystyle \\frac{\\left(- 2 C_{1} L_{0} k_{1} e^{k_{1} \\left(L_{0} + L_{1}\\right)} + 2 C_{1} L_{1} k_{1} e^{k_{1} \\left(L_{0} + L_{1}\\right)} + \\sqrt{4 C_{1}^{2} L_{0}^{2} k_{1}^{2} e^{2 k_{1} \\left(L_{0} + L_{1}\\right)} - 8 C_{1}^{2} L_{0} L_{1} k_{1}^{2} e^{2 k_{1} \\left(L_{0} + L_{1}\\right)} + 4 C_{1}^{2} L_{1}^{2} k_{1}^{2} e^{2 k_{1} \\left(L_{0} + L_{1}\\right)} - C_{1}^{2} e^{4 L_{0} k_{1}} - C_{1}^{2} e^{4 L_{1} k_{1}} + 2 C_{1}^{2} e^{2 k_{1} \\left(L_{0} + L_{1}\\right)} + 2 N_{1} k_{1} e^{2 k_{1} \\left(L_{0} + 2 L_{1}\\right)} - 2 N_{1} k_{1} e^{2 k_{1} \\cdot \\left(2 L_{0} + L_{1}\\right)}}\\right) e^{- k_{1} \\left(L_{0} + L_{1}\\right)}}{e^{2 L_{0} k_{1}} - e^{2 L_{1} k_{1}}}$"
      ],
      "text/plain": [
       "(-2*C1*L_0*k_1*exp(k_1*(L_0 + L_1)) + 2*C1*L_1*k_1*exp(k_1*(L_0 + L_1)) + sqrt(4*C1**2*L_0**2*k_1**2*exp(2*k_1*(L_0 + L_1)) - 8*C1**2*L_0*L_1*k_1**2*exp(2*k_1*(L_0 + L_1)) + 4*C1**2*L_1**2*k_1**2*exp(2*k_1*(L_0 + L_1)) - C1**2*exp(4*L_0*k_1) - C1**2*exp(4*L_1*k_1) + 2*C1**2*exp(2*k_1*(L_0 + L_1)) + 2*N_1*k_1*exp(2*k_1*(L_0 + 2*L_1)) - 2*N_1*k_1*exp(2*k_1*(2*L_0 + L_1))))*exp(-k_1*(L_0 + L_1))/(exp(2*L_0*k_1) - exp(2*L_1*k_1))"
      ]
     },
     "execution_count": 36,
     "metadata": {},
     "output_type": "execute_result"
    }
   ],
   "source": [
    "c0solutions[1]"
   ]
  },
  {
   "cell_type": "code",
   "execution_count": null,
   "id": "5a5b8147-a8c4-4505-bd80-320b5a952bce",
   "metadata": {},
   "outputs": [],
   "source": []
  },
  {
   "cell_type": "code",
   "execution_count": 37,
   "id": "594bb28a-c4fa-41b3-b915-7659c11b7de9",
   "metadata": {},
   "outputs": [],
   "source": [
    "c1solutions = sp.solve(nonZeroNormalizationCase, sp.Symbol(\"C1\"))"
   ]
  },
  {
   "cell_type": "code",
   "execution_count": 38,
   "id": "e67c3ea7-80fe-460e-bf32-9d6bbdf639d8",
   "metadata": {},
   "outputs": [
    {
     "data": {
      "text/plain": [
       "2"
      ]
     },
     "execution_count": 38,
     "metadata": {},
     "output_type": "execute_result"
    }
   ],
   "source": [
    "len(c1solutions)"
   ]
  },
  {
   "cell_type": "code",
   "execution_count": 39,
   "id": "5ee590c3-521a-46e8-9253-3cef3c50a490",
   "metadata": {},
   "outputs": [
    {
     "data": {
      "text/latex": [
       "$\\displaystyle \\frac{\\left(- 2 C_{0} L_{0} k_{1} e^{k_{1} \\left(L_{0} + L_{1}\\right)} + 2 C_{0} L_{1} k_{1} e^{k_{1} \\left(L_{0} + L_{1}\\right)} - \\sqrt{4 C_{0}^{2} L_{0}^{2} k_{1}^{2} e^{2 k_{1} \\left(L_{0} + L_{1}\\right)} - 8 C_{0}^{2} L_{0} L_{1} k_{1}^{2} e^{2 k_{1} \\left(L_{0} + L_{1}\\right)} + 4 C_{0}^{2} L_{1}^{2} k_{1}^{2} e^{2 k_{1} \\left(L_{0} + L_{1}\\right)} - C_{0}^{2} e^{4 L_{0} k_{1}} - C_{0}^{2} e^{4 L_{1} k_{1}} + 2 C_{0}^{2} e^{2 k_{1} \\left(L_{0} + L_{1}\\right)} - 2 N_{1} k_{1} e^{2 L_{0} k_{1}} + 2 N_{1} k_{1} e^{2 L_{1} k_{1}}}\\right) e^{k_{1} \\left(L_{0} + L_{1}\\right)}}{e^{2 L_{0} k_{1}} - e^{2 L_{1} k_{1}}}$"
      ],
      "text/plain": [
       "(-2*C0*L_0*k_1*exp(k_1*(L_0 + L_1)) + 2*C0*L_1*k_1*exp(k_1*(L_0 + L_1)) - sqrt(4*C0**2*L_0**2*k_1**2*exp(2*k_1*(L_0 + L_1)) - 8*C0**2*L_0*L_1*k_1**2*exp(2*k_1*(L_0 + L_1)) + 4*C0**2*L_1**2*k_1**2*exp(2*k_1*(L_0 + L_1)) - C0**2*exp(4*L_0*k_1) - C0**2*exp(4*L_1*k_1) + 2*C0**2*exp(2*k_1*(L_0 + L_1)) - 2*N_1*k_1*exp(2*L_0*k_1) + 2*N_1*k_1*exp(2*L_1*k_1)))*exp(k_1*(L_0 + L_1))/(exp(2*L_0*k_1) - exp(2*L_1*k_1))"
      ]
     },
     "execution_count": 39,
     "metadata": {},
     "output_type": "execute_result"
    }
   ],
   "source": [
    "c1solutions[0]"
   ]
  },
  {
   "cell_type": "code",
   "execution_count": 40,
   "id": "e53873fa-b935-4a5a-9525-cb95491d7778",
   "metadata": {},
   "outputs": [
    {
     "data": {
      "text/latex": [
       "$\\displaystyle \\frac{\\left(- 2 C_{0} L_{0} k_{1} e^{k_{1} \\left(L_{0} + L_{1}\\right)} + 2 C_{0} L_{1} k_{1} e^{k_{1} \\left(L_{0} + L_{1}\\right)} + \\sqrt{4 C_{0}^{2} L_{0}^{2} k_{1}^{2} e^{2 k_{1} \\left(L_{0} + L_{1}\\right)} - 8 C_{0}^{2} L_{0} L_{1} k_{1}^{2} e^{2 k_{1} \\left(L_{0} + L_{1}\\right)} + 4 C_{0}^{2} L_{1}^{2} k_{1}^{2} e^{2 k_{1} \\left(L_{0} + L_{1}\\right)} - C_{0}^{2} e^{4 L_{0} k_{1}} - C_{0}^{2} e^{4 L_{1} k_{1}} + 2 C_{0}^{2} e^{2 k_{1} \\left(L_{0} + L_{1}\\right)} - 2 N_{1} k_{1} e^{2 L_{0} k_{1}} + 2 N_{1} k_{1} e^{2 L_{1} k_{1}}}\\right) e^{k_{1} \\left(L_{0} + L_{1}\\right)}}{e^{2 L_{0} k_{1}} - e^{2 L_{1} k_{1}}}$"
      ],
      "text/plain": [
       "(-2*C0*L_0*k_1*exp(k_1*(L_0 + L_1)) + 2*C0*L_1*k_1*exp(k_1*(L_0 + L_1)) + sqrt(4*C0**2*L_0**2*k_1**2*exp(2*k_1*(L_0 + L_1)) - 8*C0**2*L_0*L_1*k_1**2*exp(2*k_1*(L_0 + L_1)) + 4*C0**2*L_1**2*k_1**2*exp(2*k_1*(L_0 + L_1)) - C0**2*exp(4*L_0*k_1) - C0**2*exp(4*L_1*k_1) + 2*C0**2*exp(2*k_1*(L_0 + L_1)) - 2*N_1*k_1*exp(2*L_0*k_1) + 2*N_1*k_1*exp(2*L_1*k_1)))*exp(k_1*(L_0 + L_1))/(exp(2*L_0*k_1) - exp(2*L_1*k_1))"
      ]
     },
     "execution_count": 40,
     "metadata": {},
     "output_type": "execute_result"
    }
   ],
   "source": [
    "c1solutions[1]"
   ]
  },
  {
   "cell_type": "code",
   "execution_count": null,
   "id": "988719d2-6eaf-4d31-801b-a20ba9227d7a",
   "metadata": {},
   "outputs": [],
   "source": []
  },
  {
   "cell_type": "code",
   "execution_count": 41,
   "id": "efbc228f-8905-48d7-b251-0df4aa23c93a",
   "metadata": {},
   "outputs": [],
   "source": [
    "c0Equation = sp.Eq(coefficeints[\"transmission\"] * coefficeints[\"transmission\"], (c0solutions[0] * c0solutions[1]).simplify())"
   ]
  },
  {
   "cell_type": "code",
   "execution_count": 42,
   "id": "c89ab043-0760-41af-a785-ccbcb96ee7a5",
   "metadata": {},
   "outputs": [
    {
     "data": {
      "text/latex": [
       "$\\displaystyle \\left(\\frac{B_{1} e^{L_{0} k_{1}}}{e^{2 L_{0} k_{1}} - e^{2 L_{1} k_{1}}} - \\frac{B_{2} e^{L_{1} k_{1}}}{e^{2 L_{0} k_{1}} - e^{2 L_{1} k_{1}}}\\right)^{2} = \\frac{\\left(C_{1}^{2} e^{2 L_{0} k_{1}} - C_{1}^{2} e^{2 L_{1} k_{1}} + 2 N_{1} k_{1} e^{2 k_{1} \\left(L_{0} + L_{1}\\right)}\\right) e^{- 2 k_{1} \\left(L_{0} + L_{1}\\right)}}{e^{2 L_{0} k_{1}} - e^{2 L_{1} k_{1}}}$"
      ],
      "text/plain": [
       "Eq((B_{1}*exp(L_0*k_1)/(exp(2*L_0*k_1) - exp(2*L_1*k_1)) - B_{2}*exp(L_1*k_1)/(exp(2*L_0*k_1) - exp(2*L_1*k_1)))**2, (C1**2*exp(2*L_0*k_1) - C1**2*exp(2*L_1*k_1) + 2*N_1*k_1*exp(2*k_1*(L_0 + L_1)))*exp(-2*k_1*(L_0 + L_1))/(exp(2*L_0*k_1) - exp(2*L_1*k_1)))"
      ]
     },
     "execution_count": 42,
     "metadata": {},
     "output_type": "execute_result"
    }
   ],
   "source": [
    "c0Equation"
   ]
  },
  {
   "cell_type": "code",
   "execution_count": 43,
   "id": "46a00df7-f0d4-475f-a343-4104e54942a7",
   "metadata": {},
   "outputs": [],
   "source": [
    "c1solutions.append(sp.solve(c0Equation, sp.Symbol(\"C1\")))"
   ]
  },
  {
   "cell_type": "code",
   "execution_count": 44,
   "id": "8e304259-49a3-45ad-9e20-6a137020f953",
   "metadata": {},
   "outputs": [
    {
     "data": {
      "text/plain": [
       "2"
      ]
     },
     "execution_count": 44,
     "metadata": {},
     "output_type": "execute_result"
    }
   ],
   "source": [
    "len(c1solutions[2])"
   ]
  },
  {
   "cell_type": "code",
   "execution_count": 45,
   "id": "bcbccc51-5401-4e02-9132-ffb4976839f6",
   "metadata": {},
   "outputs": [
    {
     "data": {
      "text/latex": [
       "$\\displaystyle - \\frac{\\sqrt{B_{1}^{2} e^{2 L_{0} k_{1}} - 2 B_{1} B_{2} e^{k_{1} \\left(L_{0} + L_{1}\\right)} + B_{2}^{2} e^{2 L_{1} k_{1}} - 2 N_{1} k_{1} e^{2 L_{0} k_{1}} + 2 N_{1} k_{1} e^{2 L_{1} k_{1}}} e^{k_{1} \\left(L_{0} + L_{1}\\right)}}{e^{2 L_{0} k_{1}} - e^{2 L_{1} k_{1}}}$"
      ],
      "text/plain": [
       "-sqrt(B_{1}**2*exp(2*L_0*k_1) - 2*B_{1}*B_{2}*exp(k_1*(L_0 + L_1)) + B_{2}**2*exp(2*L_1*k_1) - 2*N_1*k_1*exp(2*L_0*k_1) + 2*N_1*k_1*exp(2*L_1*k_1))*exp(k_1*(L_0 + L_1))/(exp(2*L_0*k_1) - exp(2*L_1*k_1))"
      ]
     },
     "execution_count": 45,
     "metadata": {},
     "output_type": "execute_result"
    }
   ],
   "source": [
    "c1solutions[2][0]"
   ]
  },
  {
   "cell_type": "code",
   "execution_count": 46,
   "id": "afa96b90-ba68-4407-b5c0-5fe748e9257a",
   "metadata": {},
   "outputs": [
    {
     "data": {
      "text/latex": [
       "$\\displaystyle \\frac{\\sqrt{B_{1}^{2} e^{2 L_{0} k_{1}} - 2 B_{1} B_{2} e^{k_{1} \\left(L_{0} + L_{1}\\right)} + B_{2}^{2} e^{2 L_{1} k_{1}} - 2 N_{1} k_{1} e^{2 L_{0} k_{1}} + 2 N_{1} k_{1} e^{2 L_{1} k_{1}}} e^{k_{1} \\left(L_{0} + L_{1}\\right)}}{e^{2 L_{0} k_{1}} - e^{2 L_{1} k_{1}}}$"
      ],
      "text/plain": [
       "sqrt(B_{1}**2*exp(2*L_0*k_1) - 2*B_{1}*B_{2}*exp(k_1*(L_0 + L_1)) + B_{2}**2*exp(2*L_1*k_1) - 2*N_1*k_1*exp(2*L_0*k_1) + 2*N_1*k_1*exp(2*L_1*k_1))*exp(k_1*(L_0 + L_1))/(exp(2*L_0*k_1) - exp(2*L_1*k_1))"
      ]
     },
     "execution_count": 46,
     "metadata": {},
     "output_type": "execute_result"
    }
   ],
   "source": [
    "c1solutions[2][1]"
   ]
  },
  {
   "cell_type": "code",
   "execution_count": 47,
   "id": "237a9afe-fded-4f83-87ea-f9f84dfbedf6",
   "metadata": {},
   "outputs": [],
   "source": [
    "c1ConstrainedSolution = sp.Eq(sp.Symbol(\"C1\") ** 2, (c1solutions[2][0] * c1solutions[2][1]).simplify().refine())"
   ]
  },
  {
   "cell_type": "code",
   "execution_count": 48,
   "id": "5c6b7b03-a7d4-42a6-9679-2ac9cfd20281",
   "metadata": {},
   "outputs": [
    {
     "data": {
      "text/latex": [
       "$\\displaystyle C_{1}^{2} = \\frac{\\left(- B_{1}^{2} e^{2 L_{0} k_{1}} + 2 B_{1} B_{2} e^{k_{1} \\left(L_{0} + L_{1}\\right)} - B_{2}^{2} e^{2 L_{1} k_{1}} + 2 N_{1} k_{1} e^{2 L_{0} k_{1}} - 2 N_{1} k_{1} e^{2 L_{1} k_{1}}\\right) e^{2 k_{1} \\left(L_{0} + L_{1}\\right)}}{\\left(e^{2 L_{0} k_{1}} - e^{2 L_{1} k_{1}}\\right)^{2}}$"
      ],
      "text/plain": [
       "Eq(C1**2, (-B_{1}**2*exp(2*L_0*k_1) + 2*B_{1}*B_{2}*exp(k_1*(L_0 + L_1)) - B_{2}**2*exp(2*L_1*k_1) + 2*N_1*k_1*exp(2*L_0*k_1) - 2*N_1*k_1*exp(2*L_1*k_1))*exp(2*k_1*(L_0 + L_1))/(exp(2*L_0*k_1) - exp(2*L_1*k_1))**2)"
      ]
     },
     "execution_count": 48,
     "metadata": {},
     "output_type": "execute_result"
    }
   ],
   "source": [
    "c1ConstrainedSolution"
   ]
  },
  {
   "cell_type": "code",
   "execution_count": 49,
   "id": "1aed875a-f547-49ac-84d3-9f7684b21985",
   "metadata": {},
   "outputs": [],
   "source": [
    "c1Equation = sp.Eq(coefficeints[\"reflection\"] * coefficeints[\"reflection\"], (c1solutions[0] * c1solutions[1]).simplify())"
   ]
  },
  {
   "cell_type": "code",
   "execution_count": 50,
   "id": "31b31a95-2434-49e0-b993-dddae473b039",
   "metadata": {},
   "outputs": [
    {
     "data": {
      "text/latex": [
       "$\\displaystyle \\left(- \\frac{B_{1} e^{L_{0} k_{1}} e^{2 L_{1} k_{1}}}{e^{2 L_{0} k_{1}} - e^{2 L_{1} k_{1}}} + \\frac{B_{2} e^{2 L_{0} k_{1}} e^{L_{1} k_{1}}}{e^{2 L_{0} k_{1}} - e^{2 L_{1} k_{1}}}\\right)^{2} = \\frac{\\left(C_{0}^{2} e^{2 L_{0} k_{1}} - C_{0}^{2} e^{2 L_{1} k_{1}} + 2 N_{1} k_{1}\\right) e^{2 k_{1} \\left(L_{0} + L_{1}\\right)}}{e^{2 L_{0} k_{1}} - e^{2 L_{1} k_{1}}}$"
      ],
      "text/plain": [
       "Eq((-B_{1}*exp(L_0*k_1)*exp(2*L_1*k_1)/(exp(2*L_0*k_1) - exp(2*L_1*k_1)) + B_{2}*exp(2*L_0*k_1)*exp(L_1*k_1)/(exp(2*L_0*k_1) - exp(2*L_1*k_1)))**2, (C0**2*exp(2*L_0*k_1) - C0**2*exp(2*L_1*k_1) + 2*N_1*k_1)*exp(2*k_1*(L_0 + L_1))/(exp(2*L_0*k_1) - exp(2*L_1*k_1)))"
      ]
     },
     "execution_count": 50,
     "metadata": {},
     "output_type": "execute_result"
    }
   ],
   "source": [
    "c1Equation"
   ]
  },
  {
   "cell_type": "code",
   "execution_count": 51,
   "id": "fdc95c50-723a-42b0-bbfb-611bd5a0fec1",
   "metadata": {},
   "outputs": [],
   "source": [
    "c0solutions.append(sp.solve(c1Equation, sp.Symbol(\"C0\")))"
   ]
  },
  {
   "cell_type": "code",
   "execution_count": 52,
   "id": "45f60eda-f7af-4824-85a4-18e43749df0a",
   "metadata": {},
   "outputs": [
    {
     "data": {
      "text/plain": [
       "2"
      ]
     },
     "execution_count": 52,
     "metadata": {},
     "output_type": "execute_result"
    }
   ],
   "source": [
    "len(c0solutions[2])"
   ]
  },
  {
   "cell_type": "code",
   "execution_count": 53,
   "id": "2e005436-283b-4e30-af1b-78aeb731e6ed",
   "metadata": {},
   "outputs": [
    {
     "data": {
      "text/latex": [
       "$\\displaystyle - \\frac{\\sqrt{B_{1}^{2} e^{2 L_{1} k_{1}} - 2 B_{1} B_{2} e^{k_{1} \\left(L_{0} + L_{1}\\right)} + B_{2}^{2} e^{2 L_{0} k_{1}} - 2 N_{1} k_{1} e^{2 L_{0} k_{1}} + 2 N_{1} k_{1} e^{2 L_{1} k_{1}}}}{e^{2 L_{0} k_{1}} - e^{2 L_{1} k_{1}}}$"
      ],
      "text/plain": [
       "-sqrt(B_{1}**2*exp(2*L_1*k_1) - 2*B_{1}*B_{2}*exp(k_1*(L_0 + L_1)) + B_{2}**2*exp(2*L_0*k_1) - 2*N_1*k_1*exp(2*L_0*k_1) + 2*N_1*k_1*exp(2*L_1*k_1))/(exp(2*L_0*k_1) - exp(2*L_1*k_1))"
      ]
     },
     "execution_count": 53,
     "metadata": {},
     "output_type": "execute_result"
    }
   ],
   "source": [
    "c0solutions[2][0]"
   ]
  },
  {
   "cell_type": "code",
   "execution_count": 54,
   "id": "7bc4c59d-ea3e-494d-addf-28100a24d77a",
   "metadata": {},
   "outputs": [
    {
     "data": {
      "text/latex": [
       "$\\displaystyle \\frac{\\sqrt{B_{1}^{2} e^{2 L_{1} k_{1}} - 2 B_{1} B_{2} e^{k_{1} \\left(L_{0} + L_{1}\\right)} + B_{2}^{2} e^{2 L_{0} k_{1}} - 2 N_{1} k_{1} e^{2 L_{0} k_{1}} + 2 N_{1} k_{1} e^{2 L_{1} k_{1}}}}{e^{2 L_{0} k_{1}} - e^{2 L_{1} k_{1}}}$"
      ],
      "text/plain": [
       "sqrt(B_{1}**2*exp(2*L_1*k_1) - 2*B_{1}*B_{2}*exp(k_1*(L_0 + L_1)) + B_{2}**2*exp(2*L_0*k_1) - 2*N_1*k_1*exp(2*L_0*k_1) + 2*N_1*k_1*exp(2*L_1*k_1))/(exp(2*L_0*k_1) - exp(2*L_1*k_1))"
      ]
     },
     "execution_count": 54,
     "metadata": {},
     "output_type": "execute_result"
    }
   ],
   "source": [
    "c0solutions[2][1]"
   ]
  },
  {
   "cell_type": "code",
   "execution_count": 88,
   "id": "ce7762e4-6daf-4d8b-b1f1-af124e6709a5",
   "metadata": {},
   "outputs": [],
   "source": [
    "c0ConstrainedSolution = sp.Eq(sp.Symbol(\"C0\") ** 2, (c0solutions[2][0] * c0solutions[2][1]).simplify().refine())"
   ]
  },
  {
   "cell_type": "code",
   "execution_count": 89,
   "id": "3cc5918c-22b7-4df8-babd-34485b088c17",
   "metadata": {},
   "outputs": [
    {
     "data": {
      "text/latex": [
       "$\\displaystyle C_{0}^{2} = \\frac{- B_{1}^{2} e^{2 L_{1} k_{1}} + 2 B_{1} B_{2} e^{k_{1} \\left(L_{0} + L_{1}\\right)} - B_{2}^{2} e^{2 L_{0} k_{1}} + 2 N_{1} k_{1} e^{2 L_{0} k_{1}} - 2 N_{1} k_{1} e^{2 L_{1} k_{1}}}{\\left(e^{2 L_{0} k_{1}} - e^{2 L_{1} k_{1}}\\right)^{2}}$"
      ],
      "text/plain": [
       "Eq(C0**2, (-B_{1}**2*exp(2*L_1*k_1) + 2*B_{1}*B_{2}*exp(k_1*(L_0 + L_1)) - B_{2}**2*exp(2*L_0*k_1) + 2*N_1*k_1*exp(2*L_0*k_1) - 2*N_1*k_1*exp(2*L_1*k_1))/(exp(2*L_0*k_1) - exp(2*L_1*k_1))**2)"
      ]
     },
     "execution_count": 89,
     "metadata": {},
     "output_type": "execute_result"
    }
   ],
   "source": [
    "c0ConstrainedSolution"
   ]
  },
  {
   "cell_type": "code",
   "execution_count": 90,
   "id": "3593fd26-a445-4d0e-83c2-47fdffea75c9",
   "metadata": {},
   "outputs": [
    {
     "data": {
      "text/latex": [
       "$\\displaystyle C_{0} e^{2 k_{1} x} \\overline{C_{0}} + C_{0} \\overline{C_{1}} + C_{1} \\overline{C_{0}} + C_{1} e^{- 2 k_{1} x} \\overline{C_{1}}$"
      ],
      "text/plain": [
       "C0*exp(2*k_1*x)*conjugate(C0) + C0*conjugate(C1) + C1*conjugate(C0) + C1*exp(-2*k_1*x)*conjugate(C1)"
      ]
     },
     "execution_count": 90,
     "metadata": {},
     "output_type": "execute_result"
    }
   ],
   "source": [
    "(exponential.rhs * sp.conjugate(exponential.rhs)).expand()"
   ]
  },
  {
   "cell_type": "code",
   "execution_count": null,
   "id": "14db90f3-22d9-428c-a2f3-551fb4d59a3e",
   "metadata": {},
   "outputs": [],
   "source": []
  },
  {
   "cell_type": "code",
   "execution_count": 92,
   "id": "54b3fcd1-d4d3-472d-bbd0-7ce9935ef7f3",
   "metadata": {},
   "outputs": [
    {
     "data": {
      "text/latex": [
       "$\\displaystyle - \\frac{\\sqrt{B_{1}^{2} e^{2 L_{1} k_{1}} - 2 B_{1} B_{2} e^{k_{1} \\left(L_{0} + L_{1}\\right)} + B_{2}^{2} e^{2 L_{0} k_{1}} - 2 N_{1} k_{1} e^{2 L_{0} k_{1}} + 2 N_{1} k_{1} e^{2 L_{1} k_{1}}}}{e^{2 L_{0} k_{1}} - e^{2 L_{1} k_{1}}}$"
      ],
      "text/plain": [
       "-sqrt(B_{1}**2*exp(2*L_1*k_1) - 2*B_{1}*B_{2}*exp(k_1*(L_0 + L_1)) + B_{2}**2*exp(2*L_0*k_1) - 2*N_1*k_1*exp(2*L_0*k_1) + 2*N_1*k_1*exp(2*L_1*k_1))/(exp(2*L_0*k_1) - exp(2*L_1*k_1))"
      ]
     },
     "execution_count": 92,
     "metadata": {},
     "output_type": "execute_result"
    }
   ],
   "source": [
    "c0solutions[2][0]"
   ]
  },
  {
   "cell_type": "code",
   "execution_count": 93,
   "id": "c42e82b4-f518-4853-a810-c3fbf9e6df96",
   "metadata": {},
   "outputs": [
    {
     "data": {
      "text/latex": [
       "$\\displaystyle \\frac{\\sqrt{B_{1}^{2} e^{2 L_{1} k_{1}} - 2 B_{1} B_{2} e^{k_{1} \\left(L_{0} + L_{1}\\right)} + B_{2}^{2} e^{2 L_{0} k_{1}} - 2 N_{1} k_{1} e^{2 L_{0} k_{1}} + 2 N_{1} k_{1} e^{2 L_{1} k_{1}}}}{e^{2 L_{0} k_{1}} - e^{2 L_{1} k_{1}}}$"
      ],
      "text/plain": [
       "sqrt(B_{1}**2*exp(2*L_1*k_1) - 2*B_{1}*B_{2}*exp(k_1*(L_0 + L_1)) + B_{2}**2*exp(2*L_0*k_1) - 2*N_1*k_1*exp(2*L_0*k_1) + 2*N_1*k_1*exp(2*L_1*k_1))/(exp(2*L_0*k_1) - exp(2*L_1*k_1))"
      ]
     },
     "execution_count": 93,
     "metadata": {},
     "output_type": "execute_result"
    }
   ],
   "source": [
    "c0solutions[2][1]"
   ]
  },
  {
   "cell_type": "code",
   "execution_count": null,
   "id": "6623585d-4878-404e-a835-4e4997abe524",
   "metadata": {},
   "outputs": [],
   "source": []
  },
  {
   "cell_type": "code",
   "execution_count": 96,
   "id": "f2fb0e59-1465-4d0a-a9a6-c5b1e6e809a8",
   "metadata": {},
   "outputs": [
    {
     "data": {
      "text/latex": [
       "$\\displaystyle 0$"
      ],
      "text/plain": [
       "0"
      ]
     },
     "execution_count": 96,
     "metadata": {},
     "output_type": "execute_result"
    }
   ],
   "source": [
    "c0solutions[2][1] + c0solutions[2][0]"
   ]
  },
  {
   "cell_type": "code",
   "execution_count": 157,
   "id": "ce0f9426-3c30-4c4c-a941-65fc04d5cc06",
   "metadata": {},
   "outputs": [],
   "source": [
    "def extractCoefficientsFromComplexPartOfQuadraticEquation(complexPart): \n",
    "    A = sp.Wild(\"A\")\n",
    "    B = sp.Wild(\"Q\")\n",
    "    C = sp.Wild(\"C\")\n",
    "    pattern = sp.sqrt(4 * A * C) / (2 * A)\n",
    "    equation = sp.Eq(complexPart, pattern)\n",
    "    return {\n",
    "        \"C\" : sp.solve(equation, C), \n",
    "        \"B\" : sp.solve(equation, B), \n",
    "        \"A\" : sp.solve(equation, A), \n",
    "        \"match\" : complexPart.match(pattern)\n",
    "    }"
   ]
  },
  {
   "cell_type": "code",
   "execution_count": 158,
   "id": "35fd3c05-551f-4e23-b33b-25b40f9ed79b",
   "metadata": {},
   "outputs": [],
   "source": [
    "solutions = extractCoefficientsFromComplexPartOfQuadraticEquation(c0solutions[2][0])"
   ]
  },
  {
   "cell_type": "code",
   "execution_count": 159,
   "id": "00e3fa22-c519-454d-bc32-0c2a8c732a5d",
   "metadata": {},
   "outputs": [
    {
     "data": {
      "text/latex": [
       "$\\displaystyle \\frac{C \\left(e^{4 L_{0} k_{1}} + e^{4 L_{1} k_{1}} - 2 e^{2 k_{1} \\left(L_{0} + L_{1}\\right)}\\right)}{B_{1}^{2} e^{2 L_{1} k_{1}} - 2 B_{1} B_{2} e^{k_{1} \\left(L_{0} + L_{1}\\right)} + B_{2}^{2} e^{2 L_{0} k_{1}} - 2 N_{1} k_{1} e^{2 L_{0} k_{1}} + 2 N_{1} k_{1} e^{2 L_{1} k_{1}}}$"
      ],
      "text/plain": [
       "C_*(exp(4*L_0*k_1) + exp(4*L_1*k_1) - 2*exp(2*k_1*(L_0 + L_1)))/(B_{1}**2*exp(2*L_1*k_1) - 2*B_{1}*B_{2}*exp(k_1*(L_0 + L_1)) + B_{2}**2*exp(2*L_0*k_1) - 2*N_1*k_1*exp(2*L_0*k_1) + 2*N_1*k_1*exp(2*L_1*k_1))"
      ]
     },
     "execution_count": 159,
     "metadata": {},
     "output_type": "execute_result"
    }
   ],
   "source": [
    "solutions[\"A\"][0]"
   ]
  },
  {
   "cell_type": "code",
   "execution_count": 165,
   "id": "b4924f8c-4130-40b9-8e72-103a7e96b4a5",
   "metadata": {},
   "outputs": [
    {
     "data": {
      "text/plain": [
       "[]"
      ]
     },
     "execution_count": 165,
     "metadata": {},
     "output_type": "execute_result"
    }
   ],
   "source": [
    "solutions[\"B\"]"
   ]
  },
  {
   "cell_type": "code",
   "execution_count": 162,
   "id": "f75f03ff-1256-4512-b2f3-735b8eb41f5b",
   "metadata": {},
   "outputs": [
    {
     "data": {
      "text/latex": [
       "$\\displaystyle \\frac{A \\left(B_{1}^{2} e^{2 L_{1} k_{1}} - 2 B_{1} B_{2} e^{k_{1} \\left(L_{0} + L_{1}\\right)} + B_{2}^{2} e^{2 L_{0} k_{1}} - 2 N_{1} k_{1} e^{2 L_{0} k_{1}} + 2 N_{1} k_{1} e^{2 L_{1} k_{1}}\\right)}{\\left(e^{L_{0} k_{1}} - e^{L_{1} k_{1}}\\right)^{2} \\left(e^{L_{0} k_{1}} + e^{L_{1} k_{1}}\\right)^{2}}$"
      ],
      "text/plain": [
       "A_*(B_{1}**2*exp(2*L_1*k_1) - 2*B_{1}*B_{2}*exp(k_1*(L_0 + L_1)) + B_{2}**2*exp(2*L_0*k_1) - 2*N_1*k_1*exp(2*L_0*k_1) + 2*N_1*k_1*exp(2*L_1*k_1))/((exp(L_0*k_1) - exp(L_1*k_1))**2*(exp(L_0*k_1) + exp(L_1*k_1))**2)"
      ]
     },
     "execution_count": 162,
     "metadata": {},
     "output_type": "execute_result"
    }
   ],
   "source": [
    "solutions[\"C\"][0]"
   ]
  },
  {
   "cell_type": "code",
   "execution_count": 150,
   "id": "6417c7f4-0277-4231-a84f-bb38cf660d2a",
   "metadata": {},
   "outputs": [],
   "source": [
    "solutions[\"match\"]"
   ]
  },
  {
   "cell_type": "code",
   "execution_count": 154,
   "id": "ce66c761-422a-4c73-871b-0817a9de345c",
   "metadata": {},
   "outputs": [],
   "source": [
    "AWild = sp.Wild(\"A\")"
   ]
  },
  {
   "cell_type": "code",
   "execution_count": 156,
   "id": "3a5839a5-6af7-4e2e-8004-5b973f8a74a3",
   "metadata": {},
   "outputs": [
    {
     "data": {
      "text/plain": [
       "[0]"
      ]
     },
     "execution_count": 156,
     "metadata": {},
     "output_type": "execute_result"
    }
   ],
   "source": [
    "sp.solve(sp.Eq(AWild, solutions[\"A\"][0].subs({sp.Wild(\"C\") : solutions[\"C\"][0]})), AWild)"
   ]
  },
  {
   "cell_type": "code",
   "execution_count": null,
   "id": "6f1779df-d536-43d5-8e7c-774925227222",
   "metadata": {},
   "outputs": [],
   "source": []
  }
 ],
 "metadata": {
  "kernelspec": {
   "display_name": "Python 3 (ipykernel)",
   "language": "python",
   "name": "python3"
  },
  "language_info": {
   "codemirror_mode": {
    "name": "ipython",
    "version": 3
   },
   "file_extension": ".py",
   "mimetype": "text/x-python",
   "name": "python",
   "nbconvert_exporter": "python",
   "pygments_lexer": "ipython3",
   "version": "3.10.4"
  }
 },
 "nbformat": 4,
 "nbformat_minor": 5
}
