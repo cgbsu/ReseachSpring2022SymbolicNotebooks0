{
 "cells": [
  {
   "cell_type": "code",
   "execution_count": 1,
   "id": "ba83354b-7bae-4abc-ae3d-46a323509622",
   "metadata": {},
   "outputs": [],
   "source": [
    "from new_attempt.stateless import *"
   ]
  },
  {
   "cell_type": "code",
   "execution_count": 2,
   "id": "7961a18d-d541-4e92-91b4-b11ecdb4ac1b",
   "metadata": {},
   "outputs": [],
   "source": [
    "from custom_libraries.utilities import *"
   ]
  },
  {
   "cell_type": "code",
   "execution_count": 3,
   "id": "53a08e06-7e28-4cfc-86ad-942350bced0d",
   "metadata": {},
   "outputs": [],
   "source": [
    "import matplotlib.pyplot as plt"
   ]
  },
  {
   "cell_type": "code",
   "execution_count": 4,
   "id": "fd9f437e-4244-423e-a41b-354637d0f799",
   "metadata": {},
   "outputs": [],
   "source": [
    "import numpy as np"
   ]
  },
  {
   "cell_type": "code",
   "execution_count": null,
   "id": "33db7c3b-7e0b-42be-9813-a956d0137383",
   "metadata": {},
   "outputs": [],
   "source": []
  },
  {
   "cell_type": "code",
   "execution_count": 5,
   "id": "e1f97467-ea1f-49bd-92fc-724841372449",
   "metadata": {},
   "outputs": [],
   "source": [
    "regionSymbols = RegionSymbols(1)"
   ]
  },
  {
   "cell_type": "code",
   "execution_count": 6,
   "id": "29520e10-88cc-4f0b-9e1a-35fa1208350e",
   "metadata": {},
   "outputs": [],
   "source": [
    "customPlanck = sq.Symbol('hbarX', real = True, positive = True, nonzero = True)"
   ]
  },
  {
   "cell_type": "code",
   "execution_count": null,
   "id": "625c82a6-806c-49bd-9e71-5630798ab3c8",
   "metadata": {},
   "outputs": [],
   "source": []
  },
  {
   "cell_type": "code",
   "execution_count": null,
   "id": "78dcf8b0-8f6a-40ef-9b4d-ac974ed35b09",
   "metadata": {},
   "outputs": [],
   "source": []
  },
  {
   "cell_type": "code",
   "execution_count": null,
   "id": "29bd19be-771f-4808-b794-2739550f6c15",
   "metadata": {},
   "outputs": [],
   "source": []
  },
  {
   "cell_type": "code",
   "execution_count": 7,
   "id": "546b341f-fc92-49c1-b077-6de14bcdb028",
   "metadata": {},
   "outputs": [],
   "source": [
    "waveEquation = constantPotentialTimeIndependentSchroedingerEquation1D(regionSymbols, reducedPlanckConstant = customPlanck)"
   ]
  },
  {
   "cell_type": "code",
   "execution_count": 8,
   "id": "30b7f4a4-a362-4352-8174-e8448d51e421",
   "metadata": {},
   "outputs": [
    {
     "data": {
      "text/latex": [
       "$\\displaystyle V_{1} \\psi_{1}{\\left(x \\right)} - \\frac{hbarX^{2} \\frac{d^{2}}{d x^{2}} \\psi_{1}{\\left(x \\right)}}{2 m} = E_{total} \\psi_{1}{\\left(x \\right)}$"
      ],
      "text/plain": [
       "Eq(V_1*psi_1(x) - hbarX**2*Derivative(psi_1(x), (x, 2))/(2*m), E_{total}*psi_1(x))"
      ]
     },
     "execution_count": 8,
     "metadata": {},
     "output_type": "execute_result"
    }
   ],
   "source": [
    "waveEquation"
   ]
  },
  {
   "cell_type": "code",
   "execution_count": 9,
   "id": "eb52afdb-3740-4acc-8dd7-171c70368740",
   "metadata": {},
   "outputs": [],
   "source": [
    "normalization = simpleWaveFunctionNormalization(regionSymbols.startDistance, regionSymbols.distance, regionSymbols)"
   ]
  },
  {
   "cell_type": "code",
   "execution_count": 10,
   "id": "ed2878ad-0da1-40c8-9c18-a6db9b46d290",
   "metadata": {},
   "outputs": [
    {
     "data": {
      "text/latex": [
       "$\\displaystyle \\int\\limits_{L_{0}}^{L_{1}} \\psi_{1}{\\left(x \\right)} \\overline{\\psi_{1}{\\left(x \\right)}}\\, dx = N_{1}$"
      ],
      "text/plain": [
       "Eq(Integral(psi_1(x)*conjugate(psi_1(x)), (x, L_0, L_1)), N_1)"
      ]
     },
     "execution_count": 10,
     "metadata": {},
     "output_type": "execute_result"
    }
   ],
   "source": [
    "normalization"
   ]
  },
  {
   "cell_type": "code",
   "execution_count": 11,
   "id": "cce33719-d0b2-4c1a-9b86-20cf9f048119",
   "metadata": {},
   "outputs": [],
   "source": [
    "boundries = {\n",
    "        regionSymbols.waveFunction(regionSymbols.startDistance) : sp.Symbol('B_{1}'), \n",
    "        regionSymbols.waveFunction(regionSymbols.distance) : sp.Symbol('B_{2}')\n",
    "    }"
   ]
  },
  {
   "cell_type": "code",
   "execution_count": 12,
   "id": "239a9269-6e3d-46af-a1ab-b9c6eb553941",
   "metadata": {},
   "outputs": [],
   "source": [
    "generalSolution = sp.dsolve(waveEquation, ics = boundries)"
   ]
  },
  {
   "cell_type": "code",
   "execution_count": 13,
   "id": "6188152d-d9dd-485c-ba50-9b1f9074a268",
   "metadata": {},
   "outputs": [
    {
     "data": {
      "text/latex": [
       "$\\displaystyle \\psi_{1}{\\left(x \\right)} = \\left(\\frac{B_{1} e^{\\frac{\\sqrt{2} L_{0} \\sqrt{m} \\sqrt{- E_{total} + V_{1}}}{hbarX}}}{e^{\\frac{2 \\sqrt{2} L_{0} \\sqrt{m} \\sqrt{- E_{total} + V_{1}}}{hbarX}} - e^{\\frac{2 \\sqrt{2} L_{1} \\sqrt{m} \\sqrt{- E_{total} + V_{1}}}{hbarX}}} - \\frac{B_{2} e^{\\frac{\\sqrt{2} L_{1} \\sqrt{m} \\sqrt{- E_{total} + V_{1}}}{hbarX}}}{e^{\\frac{2 \\sqrt{2} L_{0} \\sqrt{m} \\sqrt{- E_{total} + V_{1}}}{hbarX}} - e^{\\frac{2 \\sqrt{2} L_{1} \\sqrt{m} \\sqrt{- E_{total} + V_{1}}}{hbarX}}}\\right) e^{\\frac{\\sqrt{2} \\sqrt{m} x \\sqrt{- E_{total} + V_{1}}}{hbarX}} + \\left(- \\frac{B_{1} e^{\\frac{\\sqrt{2} L_{0} \\sqrt{m} \\sqrt{- E_{total} + V_{1}}}{hbarX}} e^{\\frac{2 \\sqrt{2} L_{1} \\sqrt{m} \\sqrt{- E_{total} + V_{1}}}{hbarX}}}{e^{\\frac{2 \\sqrt{2} L_{0} \\sqrt{m} \\sqrt{- E_{total} + V_{1}}}{hbarX}} - e^{\\frac{2 \\sqrt{2} L_{1} \\sqrt{m} \\sqrt{- E_{total} + V_{1}}}{hbarX}}} + \\frac{B_{2} e^{\\frac{2 \\sqrt{2} L_{0} \\sqrt{m} \\sqrt{- E_{total} + V_{1}}}{hbarX}} e^{\\frac{\\sqrt{2} L_{1} \\sqrt{m} \\sqrt{- E_{total} + V_{1}}}{hbarX}}}{e^{\\frac{2 \\sqrt{2} L_{0} \\sqrt{m} \\sqrt{- E_{total} + V_{1}}}{hbarX}} - e^{\\frac{2 \\sqrt{2} L_{1} \\sqrt{m} \\sqrt{- E_{total} + V_{1}}}{hbarX}}}\\right) e^{- \\frac{\\sqrt{2} \\sqrt{m} x \\sqrt{- E_{total} + V_{1}}}{hbarX}}$"
      ],
      "text/plain": [
       "Eq(psi_1(x), (B_{1}*exp(sqrt(2)*L_0*sqrt(m)*sqrt(-E_{total} + V_1)/hbarX)/(exp(2*sqrt(2)*L_0*sqrt(m)*sqrt(-E_{total} + V_1)/hbarX) - exp(2*sqrt(2)*L_1*sqrt(m)*sqrt(-E_{total} + V_1)/hbarX)) - B_{2}*exp(sqrt(2)*L_1*sqrt(m)*sqrt(-E_{total} + V_1)/hbarX)/(exp(2*sqrt(2)*L_0*sqrt(m)*sqrt(-E_{total} + V_1)/hbarX) - exp(2*sqrt(2)*L_1*sqrt(m)*sqrt(-E_{total} + V_1)/hbarX)))*exp(sqrt(2)*sqrt(m)*x*sqrt(-E_{total} + V_1)/hbarX) + (-B_{1}*exp(sqrt(2)*L_0*sqrt(m)*sqrt(-E_{total} + V_1)/hbarX)*exp(2*sqrt(2)*L_1*sqrt(m)*sqrt(-E_{total} + V_1)/hbarX)/(exp(2*sqrt(2)*L_0*sqrt(m)*sqrt(-E_{total} + V_1)/hbarX) - exp(2*sqrt(2)*L_1*sqrt(m)*sqrt(-E_{total} + V_1)/hbarX)) + B_{2}*exp(2*sqrt(2)*L_0*sqrt(m)*sqrt(-E_{total} + V_1)/hbarX)*exp(sqrt(2)*L_1*sqrt(m)*sqrt(-E_{total} + V_1)/hbarX)/(exp(2*sqrt(2)*L_0*sqrt(m)*sqrt(-E_{total} + V_1)/hbarX) - exp(2*sqrt(2)*L_1*sqrt(m)*sqrt(-E_{total} + V_1)/hbarX)))*exp(-sqrt(2)*sqrt(m)*x*sqrt(-E_{total} + V_1)/hbarX))"
      ]
     },
     "execution_count": 13,
     "metadata": {},
     "output_type": "execute_result"
    }
   ],
   "source": [
    "generalSolution"
   ]
  },
  {
   "cell_type": "code",
   "execution_count": 14,
   "id": "2462e2e6-ea54-4452-ace8-d6bd7149c947",
   "metadata": {},
   "outputs": [],
   "source": [
    "harmonicConstant = extractHarmonicConstant(regionSymbols, waveEquation)"
   ]
  },
  {
   "cell_type": "code",
   "execution_count": 15,
   "id": "35be8aaa-5c88-4dea-9a1d-b33d2f608281",
   "metadata": {},
   "outputs": [
    {
     "data": {
      "text/latex": [
       "$\\displaystyle k_{1} = \\frac{\\sqrt{2} \\sqrt{m} \\sqrt{- E_{total} + V_{1}}}{hbarX}$"
      ],
      "text/plain": [
       "Eq(k_1, sqrt(2)*sqrt(m)*sqrt(-E_{total} + V_1)/hbarX)"
      ]
     },
     "execution_count": 15,
     "metadata": {},
     "output_type": "execute_result"
    }
   ],
   "source": [
    "harmonicConstant"
   ]
  },
  {
   "cell_type": "code",
   "execution_count": 16,
   "id": "f7f9cf1e-5e40-45fa-a1f5-87d88a4089b7",
   "metadata": {},
   "outputs": [],
   "source": [
    "generalSolution = generalSolution.subs({harmonicConstant.rhs : harmonicConstant.lhs})"
   ]
  },
  {
   "cell_type": "code",
   "execution_count": 17,
   "id": "e43789dd-a2eb-4aac-be66-e78cbf8036f0",
   "metadata": {},
   "outputs": [
    {
     "data": {
      "text/latex": [
       "$\\displaystyle \\psi_{1}{\\left(x \\right)} = \\left(\\frac{B_{1} e^{L_{0} k_{1}}}{e^{2 L_{0} k_{1}} - e^{2 L_{1} k_{1}}} - \\frac{B_{2} e^{L_{1} k_{1}}}{e^{2 L_{0} k_{1}} - e^{2 L_{1} k_{1}}}\\right) e^{k_{1} x} + \\left(- \\frac{B_{1} e^{L_{0} k_{1}} e^{2 L_{1} k_{1}}}{e^{2 L_{0} k_{1}} - e^{2 L_{1} k_{1}}} + \\frac{B_{2} e^{2 L_{0} k_{1}} e^{L_{1} k_{1}}}{e^{2 L_{0} k_{1}} - e^{2 L_{1} k_{1}}}\\right) e^{- k_{1} x}$"
      ],
      "text/plain": [
       "Eq(psi_1(x), (B_{1}*exp(L_0*k_1)/(exp(2*L_0*k_1) - exp(2*L_1*k_1)) - B_{2}*exp(L_1*k_1)/(exp(2*L_0*k_1) - exp(2*L_1*k_1)))*exp(k_1*x) + (-B_{1}*exp(L_0*k_1)*exp(2*L_1*k_1)/(exp(2*L_0*k_1) - exp(2*L_1*k_1)) + B_{2}*exp(2*L_0*k_1)*exp(L_1*k_1)/(exp(2*L_0*k_1) - exp(2*L_1*k_1)))*exp(-k_1*x))"
      ]
     },
     "execution_count": 17,
     "metadata": {},
     "output_type": "execute_result"
    }
   ],
   "source": [
    "generalSolution"
   ]
  },
  {
   "cell_type": "code",
   "execution_count": 18,
   "id": "123cc3d0-8251-4bae-b4ba-55b32a44bdaa",
   "metadata": {},
   "outputs": [],
   "source": [
    "def extractWaveCoefficents(exponentialEquation, position = POSITION_SYMBOL): \n",
    "    C0 = sp.Wild(\"C0\")\n",
    "    C1 = sp.Wild(\"C1\")\n",
    "    harmonic = sp.Wild(\"k\")\n",
    "    results = exponentialEquation.match(C0 * sp.exp(harmonic * position) + C1 * sp.exp(-harmonic * position))\n",
    "    return {\n",
    "            \"transmission\" : results[C0], \n",
    "            \"reflection\" : results[C1], \n",
    "            \"harmonicConstant\" : results[harmonic]\n",
    "    }"
   ]
  },
  {
   "cell_type": "code",
   "execution_count": 19,
   "id": "23ce0b2a-9c47-465e-90a4-5aa5409c5467",
   "metadata": {},
   "outputs": [],
   "source": [
    "coefficeints = extractWaveCoefficents(generalSolution.rhs, POSITION_SYMBOL)"
   ]
  },
  {
   "cell_type": "code",
   "execution_count": 20,
   "id": "9cff8bfd-ba78-4e24-b093-287b1bf4c389",
   "metadata": {},
   "outputs": [
    {
     "data": {
      "text/plain": [
       "{'transmission': B_{1}*exp(L_0*k_1)/(exp(2*L_0*k_1) - exp(2*L_1*k_1)) - B_{2}*exp(L_1*k_1)/(exp(2*L_0*k_1) - exp(2*L_1*k_1)),\n",
       " 'reflection': -B_{1}*exp(L_0*k_1)*exp(2*L_1*k_1)/(exp(2*L_0*k_1) - exp(2*L_1*k_1)) + B_{2}*exp(2*L_0*k_1)*exp(L_1*k_1)/(exp(2*L_0*k_1) - exp(2*L_1*k_1)),\n",
       " 'harmonicConstant': k_1}"
      ]
     },
     "execution_count": 20,
     "metadata": {},
     "output_type": "execute_result"
    }
   ],
   "source": [
    "coefficeints"
   ]
  },
  {
   "cell_type": "code",
   "execution_count": null,
   "id": "30e2479e-b5bf-4bf9-a027-6d66b5fbccdf",
   "metadata": {},
   "outputs": [],
   "source": []
  },
  {
   "cell_type": "code",
   "execution_count": 21,
   "id": "d91ec2de-6a84-42e8-8cdf-05998bac034c",
   "metadata": {},
   "outputs": [],
   "source": [
    "exponential = generalSolution.subs({\n",
    "        coefficeints[\"transmission\"] : sp.Symbol(\"C0\"), \n",
    "        coefficeints[\"reflection\"] : sp.Symbol(\"C1\")\n",
    "    })"
   ]
  },
  {
   "cell_type": "code",
   "execution_count": 202,
   "id": "223fbeee-e1c9-4d3d-ab4c-a80121b9e467",
   "metadata": {},
   "outputs": [
    {
     "data": {
      "text/latex": [
       "$\\displaystyle \\frac{B_{1} e^{L_{0} k_{1}}}{e^{2 L_{0} k_{1}} - e^{2 L_{1} k_{1}}} - \\frac{B_{2} e^{L_{1} k_{1}}}{e^{2 L_{0} k_{1}} - e^{2 L_{1} k_{1}}}$"
      ],
      "text/plain": [
       "B_{1}*exp(L_0*k_1)/(exp(2*L_0*k_1) - exp(2*L_1*k_1)) - B_{2}*exp(L_1*k_1)/(exp(2*L_0*k_1) - exp(2*L_1*k_1))"
      ]
     },
     "execution_count": 202,
     "metadata": {},
     "output_type": "execute_result"
    }
   ],
   "source": [
    "coefficeints[\"transmission\"]"
   ]
  },
  {
   "cell_type": "code",
   "execution_count": 203,
   "id": "7c6a80cc-79f4-47a1-a0f5-19d93230ab6f",
   "metadata": {},
   "outputs": [
    {
     "data": {
      "text/latex": [
       "$\\displaystyle - \\frac{B_{1} e^{L_{0} k_{1}} e^{2 L_{1} k_{1}}}{e^{2 L_{0} k_{1}} - e^{2 L_{1} k_{1}}} + \\frac{B_{2} e^{2 L_{0} k_{1}} e^{L_{1} k_{1}}}{e^{2 L_{0} k_{1}} - e^{2 L_{1} k_{1}}}$"
      ],
      "text/plain": [
       "-B_{1}*exp(L_0*k_1)*exp(2*L_1*k_1)/(exp(2*L_0*k_1) - exp(2*L_1*k_1)) + B_{2}*exp(2*L_0*k_1)*exp(L_1*k_1)/(exp(2*L_0*k_1) - exp(2*L_1*k_1))"
      ]
     },
     "execution_count": 203,
     "metadata": {},
     "output_type": "execute_result"
    }
   ],
   "source": [
    "coefficeints[\"reflection\"]"
   ]
  },
  {
   "cell_type": "code",
   "execution_count": 22,
   "id": "2b87ea54-e462-4298-91a5-b2bec94b6272",
   "metadata": {},
   "outputs": [
    {
     "data": {
      "text/latex": [
       "$\\displaystyle \\psi_{1}{\\left(x \\right)} = C_{0} e^{k_{1} x} + C_{1} e^{- k_{1} x}$"
      ],
      "text/plain": [
       "Eq(psi_1(x), C0*exp(k_1*x) + C1*exp(-k_1*x))"
      ]
     },
     "execution_count": 22,
     "metadata": {},
     "output_type": "execute_result"
    }
   ],
   "source": [
    "exponential"
   ]
  },
  {
   "cell_type": "code",
   "execution_count": 23,
   "id": "93eb16f7-0800-4aec-8ca2-1d15c8cf5dd0",
   "metadata": {},
   "outputs": [],
   "source": [
    "def lambdifyFromFree(symbolic): \n",
    "    nameSubstitution = {name : symbolicToIdentifier(str(name)) for name in list(symbolic.free_symbols)}\n",
    "    parameters = orderNames(list(nameSubstitution.values()))\n",
    "    return sp.lambdify(parameters, symbolic.subs(nameSubstitution))"
   ]
  },
  {
   "cell_type": "code",
   "execution_count": 24,
   "id": "48b1261f-3c64-4833-84b1-2cb30cfd02ca",
   "metadata": {},
   "outputs": [],
   "source": [
    "forwardTransmissionCoefficient = lambdifyFromFree(coefficeints[\"transmission\"])"
   ]
  },
  {
   "cell_type": "code",
   "execution_count": 25,
   "id": "8ebbdac8-ab79-45f8-bd8d-960bab4c7072",
   "metadata": {},
   "outputs": [
    {
     "data": {
      "text/plain": [
       "<function _lambdifygenerated(B_OCB1CCB, B_OCB2CCB, L_0, L_1, k_1)>"
      ]
     },
     "execution_count": 25,
     "metadata": {},
     "output_type": "execute_result"
    }
   ],
   "source": [
    "forwardTransmissionCoefficient"
   ]
  },
  {
   "cell_type": "code",
   "execution_count": 26,
   "id": "46181770-c2a9-49cd-a01e-9cd6c71ef27f",
   "metadata": {},
   "outputs": [],
   "source": [
    "backwardReflectionCoefficient = lambdifyFromFree(coefficeints[\"reflection\"])"
   ]
  },
  {
   "cell_type": "code",
   "execution_count": 27,
   "id": "6d27f359-a342-432b-8b11-d73175828a36",
   "metadata": {},
   "outputs": [
    {
     "data": {
      "text/plain": [
       "<function _lambdifygenerated(B_OCB1CCB, B_OCB2CCB, L_0, L_1, k_1)>"
      ]
     },
     "execution_count": 27,
     "metadata": {},
     "output_type": "execute_result"
    }
   ],
   "source": [
    "backwardReflectionCoefficient"
   ]
  },
  {
   "cell_type": "code",
   "execution_count": 28,
   "id": "1535c96c-09f4-48fe-ae3e-8705b78e072f",
   "metadata": {},
   "outputs": [],
   "source": [
    "expoentialFunction = lambdifyFromFree(exponential.rhs)"
   ]
  },
  {
   "cell_type": "code",
   "execution_count": 29,
   "id": "92a3e352-6c88-4b85-a193-90be57c5b164",
   "metadata": {},
   "outputs": [
    {
     "data": {
      "text/plain": [
       "<function _lambdifygenerated(C0, C1, k_1, x)>"
      ]
     },
     "execution_count": 29,
     "metadata": {},
     "output_type": "execute_result"
    }
   ],
   "source": [
    "expoentialFunction"
   ]
  },
  {
   "cell_type": "code",
   "execution_count": null,
   "id": "2b248b3e-02f6-4733-aeb4-5fe747ba1bb4",
   "metadata": {},
   "outputs": [],
   "source": []
  },
  {
   "cell_type": "code",
   "execution_count": 30,
   "id": "de5e27f3-6840-400b-b792-4702b635a5d4",
   "metadata": {},
   "outputs": [
    {
     "data": {
      "text/plain": [
       "{E_{total}, V_1, hbarX, m}"
      ]
     },
     "execution_count": 30,
     "metadata": {},
     "output_type": "execute_result"
    }
   ],
   "source": [
    "harmonicConstant.rhs.free_symbols"
   ]
  },
  {
   "cell_type": "code",
   "execution_count": 31,
   "id": "bd559688-9a68-47d7-aef3-2bc57647685e",
   "metadata": {},
   "outputs": [],
   "source": [
    "lambdifiedHarmonicConstant = lambdifyFromFree(harmonicConstant.rhs)"
   ]
  },
  {
   "cell_type": "code",
   "execution_count": 32,
   "id": "115264fd-b263-487a-9105-dbf25804d81d",
   "metadata": {},
   "outputs": [
    {
     "data": {
      "text/plain": [
       "<function _lambdifygenerated(E_OCBtotalCCB, V_1, hbarX, m)>"
      ]
     },
     "execution_count": 32,
     "metadata": {},
     "output_type": "execute_result"
    }
   ],
   "source": [
    "lambdifiedHarmonicConstant"
   ]
  },
  {
   "cell_type": "code",
   "execution_count": 33,
   "id": "f1707240-e899-425f-a2f4-799d8d498e96",
   "metadata": {},
   "outputs": [],
   "source": [
    "lambdifiedWaveFunction = lambdifyFromFree(generalSolution.rhs)"
   ]
  },
  {
   "cell_type": "code",
   "execution_count": 34,
   "id": "90d679aa-b843-447d-8022-83a55e455f72",
   "metadata": {},
   "outputs": [
    {
     "data": {
      "text/plain": [
       "<function _lambdifygenerated(B_OCB1CCB, B_OCB2CCB, L_0, L_1, k_1, x)>"
      ]
     },
     "execution_count": 34,
     "metadata": {},
     "output_type": "execute_result"
    }
   ],
   "source": [
    "lambdifiedWaveFunction"
   ]
  },
  {
   "cell_type": "code",
   "execution_count": 35,
   "id": "b9da948a-b54f-4556-b60f-8e5109541bd5",
   "metadata": {},
   "outputs": [],
   "source": [
    "#group_constants(generalSolution.rhs, generalSolution.rhs.free_values)"
   ]
  },
  {
   "cell_type": "code",
   "execution_count": null,
   "id": "87864472-4760-4fe2-9571-cd7e7b4fcbe9",
   "metadata": {},
   "outputs": [],
   "source": []
  },
  {
   "cell_type": "code",
   "execution_count": null,
   "id": "545e4871-aaee-4c36-ac34-af0c2b92753d",
   "metadata": {},
   "outputs": [],
   "source": []
  },
  {
   "cell_type": "code",
   "execution_count": 282,
   "id": "f3965b62-3dd5-438e-b9b3-6950e7a14392",
   "metadata": {},
   "outputs": [],
   "source": [
    "hbarXValue = 1e-10"
   ]
  },
  {
   "cell_type": "code",
   "execution_count": 283,
   "id": "b7d7fc95-9383-46bc-985d-da463490830a",
   "metadata": {},
   "outputs": [],
   "source": [
    "mass = hbarXValue * 10"
   ]
  },
  {
   "cell_type": "code",
   "execution_count": 284,
   "id": "23413503-cfdf-437a-a3e0-2cc44af1bd80",
   "metadata": {},
   "outputs": [],
   "source": [
    "totalEnergy = mass"
   ]
  },
  {
   "cell_type": "code",
   "execution_count": 285,
   "id": "224f89c2-d2bb-4cde-b123-133cf0612adc",
   "metadata": {},
   "outputs": [],
   "source": [
    "constantPotental = totalEnergy * 100"
   ]
  },
  {
   "cell_type": "code",
   "execution_count": 286,
   "id": "7834b37f-814f-4d8b-bc44-84057d12e80c",
   "metadata": {},
   "outputs": [],
   "source": [
    "k_1 = lambdifiedHarmonicConstant(totalEnergy, constantPotental, hbarXValue, mass)"
   ]
  },
  {
   "cell_type": "code",
   "execution_count": 287,
   "id": "dbb0d8b2-2823-491d-bb33-35c3feddc631",
   "metadata": {},
   "outputs": [
    {
     "data": {
      "text/plain": [
       "140.71247279470293"
      ]
     },
     "execution_count": 287,
     "metadata": {},
     "output_type": "execute_result"
    }
   ],
   "source": [
    "k_1"
   ]
  },
  {
   "cell_type": "code",
   "execution_count": null,
   "id": "ce4934d8-f7a1-4200-9dae-5a9d5c0a4cd3",
   "metadata": {},
   "outputs": [],
   "source": []
  },
  {
   "cell_type": "code",
   "execution_count": 288,
   "id": "10a65966-6c69-4d14-ac0c-198509c39b3a",
   "metadata": {},
   "outputs": [],
   "source": [
    "plotible = lambda B_0, B_1, L_0, L_1, k_1 : lambda x : lambdifiedWaveFunction(B_0, B_0, L_0, L_1, k_1, x)"
   ]
  },
  {
   "cell_type": "code",
   "execution_count": 289,
   "id": "d5c2fa41-6695-410d-97a1-aba4b0d5fe8d",
   "metadata": {},
   "outputs": [],
   "source": [
    "length = 100 * hbarXValue\n",
    "start = length\n",
    "end = start + length"
   ]
  },
  {
   "cell_type": "code",
   "execution_count": 290,
   "id": "5b1d6137-ae47-4171-b4fd-9233e583049d",
   "metadata": {},
   "outputs": [],
   "source": [
    "boundry0 = 1 * constantPotental"
   ]
  },
  {
   "cell_type": "code",
   "execution_count": 298,
   "id": "128d6b0c-4973-4c25-b6b0-6b0aa717352b",
   "metadata": {},
   "outputs": [],
   "source": [
    "boundry1 = 1.01 * constantPotental"
   ]
  },
  {
   "cell_type": "code",
   "execution_count": 299,
   "id": "0c37fc84-64b4-4d08-9e77-933dc12daa0d",
   "metadata": {},
   "outputs": [],
   "source": [
    "plotibleWaveFunction = plotible(boundry0, boundry1, start, end, k_1)"
   ]
  },
  {
   "cell_type": "code",
   "execution_count": 300,
   "id": "bfdbb9f6-7e15-408a-a986-930b9384f57d",
   "metadata": {},
   "outputs": [
    {
     "data": {
      "text/plain": [
       "<function __main__.<lambda>.<locals>.<lambda>(x)>"
      ]
     },
     "execution_count": 300,
     "metadata": {},
     "output_type": "execute_result"
    }
   ],
   "source": [
    "plotibleWaveFunction"
   ]
  },
  {
   "cell_type": "code",
   "execution_count": null,
   "id": "38e4d13b-d280-4b1e-8447-4d8b7d1cbb3d",
   "metadata": {},
   "outputs": [],
   "source": []
  },
  {
   "cell_type": "code",
   "execution_count": null,
   "id": "8573683e-3f89-4f14-af4b-bc509070819a",
   "metadata": {},
   "outputs": [],
   "source": []
  },
  {
   "cell_type": "code",
   "execution_count": 301,
   "id": "415f60f2-1015-4b36-a55e-50c499ddec19",
   "metadata": {},
   "outputs": [],
   "source": [
    "x = np.arange(start, end, length * 1e-2)\n",
    "#y = plotibleWaveFunction(x)\n",
    "#y *= y\n",
    "ft = forwardTransmissionCoefficient(boundry0, boundry1, start, end, k_1)\n",
    "br = backwardReflectionCoefficient(boundry0, boundry1, start, end, k_1)\n",
    "\n",
    "y = expoentialFunction(ft, br, k_1, x)"
   ]
  },
  {
   "cell_type": "code",
   "execution_count": 302,
   "id": "fead78ad-36a5-4f56-ba42-b7b5bcaf1ee0",
   "metadata": {},
   "outputs": [
    {
     "data": {
      "text/plain": [
       "0.0003553840271476802"
      ]
     },
     "execution_count": 302,
     "metadata": {},
     "output_type": "execute_result"
    }
   ],
   "source": [
    "ft"
   ]
  },
  {
   "cell_type": "code",
   "execution_count": 303,
   "id": "15bbb6ed-8049-4232-affa-f5dabedc884f",
   "metadata": {},
   "outputs": [
    {
     "data": {
      "text/plain": [
       "-0.0003552850271476768"
      ]
     },
     "execution_count": 303,
     "metadata": {},
     "output_type": "execute_result"
    }
   ],
   "source": [
    "br"
   ]
  },
  {
   "cell_type": "code",
   "execution_count": 304,
   "id": "94ed0550-aaa1-410b-832f-3fb2e5d76a7a",
   "metadata": {},
   "outputs": [
    {
     "data": {
      "text/plain": [
       "[<matplotlib.lines.Line2D at 0x7f6bb45ddc60>]"
      ]
     },
     "execution_count": 304,
     "metadata": {},
     "output_type": "execute_result"
    },
    {
     "data": {
      "image/png": "[encoded data removed]",
      "text/plain": [
       "<Figure size 432x288 with 1 Axes>"
      ]
     },
     "metadata": {
      "needs_background": "light"
     },
     "output_type": "display_data"
    }
   ],
   "source": [
    "plt.plot(x, y * np.conj(y))"
   ]
  },
  {
   "cell_type": "code",
   "execution_count": 305,
   "id": "bbec0096-8bd1-45fa-9d7b-85ef66d63d4b",
   "metadata": {},
   "outputs": [
    {
     "data": {
      "text/plain": [
       "array([1.0000e-07, 1.0001e-07, 1.0002e-07, 1.0003e-07, 1.0004e-07,\n",
       "       1.0005e-07, 1.0006e-07, 1.0007e-07, 1.0008e-07, 1.0009e-07,\n",
       "       1.0010e-07, 1.0011e-07, 1.0012e-07, 1.0013e-07, 1.0014e-07,\n",
       "       1.0015e-07, 1.0016e-07, 1.0017e-07, 1.0018e-07, 1.0019e-07,\n",
       "       1.0020e-07, 1.0021e-07, 1.0022e-07, 1.0023e-07, 1.0024e-07,\n",
       "       1.0025e-07, 1.0026e-07, 1.0027e-07, 1.0028e-07, 1.0029e-07,\n",
       "       1.0030e-07, 1.0031e-07, 1.0032e-07, 1.0033e-07, 1.0034e-07,\n",
       "       1.0035e-07, 1.0036e-07, 1.0037e-07, 1.0038e-07, 1.0039e-07,\n",
       "       1.0040e-07, 1.0041e-07, 1.0042e-07, 1.0043e-07, 1.0044e-07,\n",
       "       1.0045e-07, 1.0046e-07, 1.0047e-07, 1.0048e-07, 1.0049e-07,\n",
       "       1.0050e-07, 1.0051e-07, 1.0052e-07, 1.0053e-07, 1.0054e-07,\n",
       "       1.0055e-07, 1.0056e-07, 1.0057e-07, 1.0058e-07, 1.0059e-07,\n",
       "       1.0060e-07, 1.0061e-07, 1.0062e-07, 1.0063e-07, 1.0064e-07,\n",
       "       1.0065e-07, 1.0066e-07, 1.0067e-07, 1.0068e-07, 1.0069e-07,\n",
       "       1.0070e-07, 1.0071e-07, 1.0072e-07, 1.0073e-07, 1.0074e-07,\n",
       "       1.0075e-07, 1.0076e-07, 1.0077e-07, 1.0078e-07, 1.0079e-07,\n",
       "       1.0080e-07, 1.0081e-07, 1.0082e-07, 1.0083e-07, 1.0084e-07,\n",
       "       1.0085e-07, 1.0086e-07, 1.0087e-07, 1.0088e-07, 1.0089e-07,\n",
       "       1.0090e-07, 1.0091e-07, 1.0092e-07, 1.0093e-07, 1.0094e-07,\n",
       "       1.0095e-07, 1.0096e-07, 1.0097e-07, 1.0098e-07, 1.0099e-07])"
      ]
     },
     "execution_count": 305,
     "metadata": {},
     "output_type": "execute_result"
    }
   ],
   "source": [
    "y"
   ]
  },
  {
   "cell_type": "code",
   "execution_count": 306,
   "id": "47ff4696-422e-4726-a1b2-624db237e2d7",
   "metadata": {},
   "outputs": [
    {
     "data": {
      "text/plain": [
       "array([1.00e-08, 1.01e-08, 1.02e-08, 1.03e-08, 1.04e-08, 1.05e-08,\n",
       "       1.06e-08, 1.07e-08, 1.08e-08, 1.09e-08, 1.10e-08, 1.11e-08,\n",
       "       1.12e-08, 1.13e-08, 1.14e-08, 1.15e-08, 1.16e-08, 1.17e-08,\n",
       "       1.18e-08, 1.19e-08, 1.20e-08, 1.21e-08, 1.22e-08, 1.23e-08,\n",
       "       1.24e-08, 1.25e-08, 1.26e-08, 1.27e-08, 1.28e-08, 1.29e-08,\n",
       "       1.30e-08, 1.31e-08, 1.32e-08, 1.33e-08, 1.34e-08, 1.35e-08,\n",
       "       1.36e-08, 1.37e-08, 1.38e-08, 1.39e-08, 1.40e-08, 1.41e-08,\n",
       "       1.42e-08, 1.43e-08, 1.44e-08, 1.45e-08, 1.46e-08, 1.47e-08,\n",
       "       1.48e-08, 1.49e-08, 1.50e-08, 1.51e-08, 1.52e-08, 1.53e-08,\n",
       "       1.54e-08, 1.55e-08, 1.56e-08, 1.57e-08, 1.58e-08, 1.59e-08,\n",
       "       1.60e-08, 1.61e-08, 1.62e-08, 1.63e-08, 1.64e-08, 1.65e-08,\n",
       "       1.66e-08, 1.67e-08, 1.68e-08, 1.69e-08, 1.70e-08, 1.71e-08,\n",
       "       1.72e-08, 1.73e-08, 1.74e-08, 1.75e-08, 1.76e-08, 1.77e-08,\n",
       "       1.78e-08, 1.79e-08, 1.80e-08, 1.81e-08, 1.82e-08, 1.83e-08,\n",
       "       1.84e-08, 1.85e-08, 1.86e-08, 1.87e-08, 1.88e-08, 1.89e-08,\n",
       "       1.90e-08, 1.91e-08, 1.92e-08, 1.93e-08, 1.94e-08, 1.95e-08,\n",
       "       1.96e-08, 1.97e-08, 1.98e-08, 1.99e-08])"
      ]
     },
     "execution_count": 306,
     "metadata": {},
     "output_type": "execute_result"
    }
   ],
   "source": [
    "x"
   ]
  },
  {
   "cell_type": "code",
   "execution_count": null,
   "id": "413db504-15db-4ffc-95af-56cf11496954",
   "metadata": {},
   "outputs": [],
   "source": []
  },
  {
   "cell_type": "code",
   "execution_count": null,
   "id": "c7847a4c-7ed7-44b5-80ac-90c437df26c7",
   "metadata": {},
   "outputs": [],
   "source": []
  },
  {
   "cell_type": "code",
   "execution_count": null,
   "id": "8847d1fc-ed78-4782-870b-a8fb708b94df",
   "metadata": {},
   "outputs": [],
   "source": []
  },
  {
   "cell_type": "code",
   "execution_count": null,
   "id": "84976aa5-268a-4738-b9b7-f5b1830a02ff",
   "metadata": {},
   "outputs": [],
   "source": []
  },
  {
   "cell_type": "code",
   "execution_count": null,
   "id": "fc9e5d6f-0ad9-4d90-bd0e-bbf55cdb2781",
   "metadata": {},
   "outputs": [],
   "source": []
  },
  {
   "cell_type": "code",
   "execution_count": null,
   "id": "784e841a-d8c5-416c-a682-d9364838130e",
   "metadata": {},
   "outputs": [],
   "source": []
  }
 ],
 "metadata": {
  "kernelspec": {
   "display_name": "Python 3 (ipykernel)",
   "language": "python",
   "name": "python3"
  },
  "language_info": {
   "codemirror_mode": {
    "name": "ipython",
    "version": 3
   },
   "file_extension": ".py",
   "mimetype": "text/x-python",
   "name": "python",
   "nbconvert_exporter": "python",
   "pygments_lexer": "ipython3",
   "version": "3.10.4"
  }
 },
 "nbformat": 4,
 "nbformat_minor": 5
}
