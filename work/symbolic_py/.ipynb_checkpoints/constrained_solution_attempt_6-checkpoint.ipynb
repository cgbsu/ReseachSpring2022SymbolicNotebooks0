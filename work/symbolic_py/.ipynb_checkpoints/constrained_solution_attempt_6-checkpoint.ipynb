{
 "cells": [
  {
   "cell_type": "code",
   "execution_count": 1,
   "id": "ba83354b-7bae-4abc-ae3d-46a323509622",
   "metadata": {},
   "outputs": [],
   "source": [
    "from new_attempt.stateless import *"
   ]
  },
  {
   "cell_type": "code",
   "execution_count": 2,
   "id": "7961a18d-d541-4e92-91b4-b11ecdb4ac1b",
   "metadata": {},
   "outputs": [],
   "source": [
    "from custom_libraries.utilities import *"
   ]
  },
  {
   "cell_type": "code",
   "execution_count": 3,
   "id": "53a08e06-7e28-4cfc-86ad-942350bced0d",
   "metadata": {},
   "outputs": [],
   "source": [
    "import matplotlib.pyplot as plt"
   ]
  },
  {
   "cell_type": "code",
   "execution_count": 4,
   "id": "fd9f437e-4244-423e-a41b-354637d0f799",
   "metadata": {},
   "outputs": [],
   "source": [
    "import numpy as np"
   ]
  },
  {
   "cell_type": "code",
   "execution_count": null,
   "id": "33db7c3b-7e0b-42be-9813-a956d0137383",
   "metadata": {},
   "outputs": [],
   "source": []
  },
  {
   "cell_type": "code",
   "execution_count": 5,
   "id": "e1f97467-ea1f-49bd-92fc-724841372449",
   "metadata": {},
   "outputs": [],
   "source": [
    "regionSymbols = RegionSymbols(1)"
   ]
  },
  {
   "cell_type": "code",
   "execution_count": 6,
   "id": "29520e10-88cc-4f0b-9e1a-35fa1208350e",
   "metadata": {},
   "outputs": [
    {
     "ename": "NameError",
     "evalue": "name 'omPlanck' is not defined",
     "output_type": "error",
     "traceback": [
      "\u001b[0;31m---------------------------------------------------------------------------\u001b[0m",
      "\u001b[0;31mNameError\u001b[0m                                 Traceback (most recent call last)",
      "Input \u001b[0;32mIn [6]\u001b[0m, in \u001b[0;36m<cell line: 1>\u001b[0;34m()\u001b[0m\n\u001b[0;32m----> 1\u001b[0m cust : \u001b[43momPlanck\u001b[49m \u001b[38;5;241m=\u001b[39m sq\u001b[38;5;241m.\u001b[39mSymbol(\u001b[38;5;124m'\u001b[39m\u001b[38;5;124mhbarX\u001b[39m\u001b[38;5;124m'\u001b[39m, real \u001b[38;5;241m=\u001b[39m \u001b[38;5;28;01mTrue\u001b[39;00m, positive \u001b[38;5;241m=\u001b[39m \u001b[38;5;28;01mTrue\u001b[39;00m, nonzero \u001b[38;5;241m=\u001b[39m \u001b[38;5;28;01mTrue\u001b[39;00m)\n",
      "\u001b[0;31mNameError\u001b[0m: name 'omPlanck' is not defined"
     ]
    }
   ],
   "source": [
    "customPlanck = sq.Symbol('hbarX', real = True, positive = True, nonzero = True)"
   ]
  },
  {
   "cell_type": "code",
   "execution_count": null,
   "id": "29bd19be-771f-4808-b794-2739550f6c15",
   "metadata": {},
   "outputs": [],
   "source": []
  },
  {
   "cell_type": "code",
   "execution_count": null,
   "id": "546b341f-fc92-49c1-b077-6de14bcdb028",
   "metadata": {},
   "outputs": [],
   "source": [
    "waveEquation = constantPotentialTimeIndependentSchroedingerEquation1D(regionSymbols, reducedPlanckConstant = customPlanck)"
   ]
  },
  {
   "cell_type": "code",
   "execution_count": null,
   "id": "30b7f4a4-a362-4352-8174-e8448d51e421",
   "metadata": {},
   "outputs": [],
   "source": [
    "waveEquation"
   ]
  },
  {
   "cell_type": "code",
   "execution_count": null,
   "id": "eb52afdb-3740-4acc-8dd7-171c70368740",
   "metadata": {},
   "outputs": [],
   "source": [
    "normalization = simpleWaveFunctionNormalization(regionSymbols.startDistance, regionSymbols.distance, regionSymbols)"
   ]
  },
  {
   "cell_type": "code",
   "execution_count": null,
   "id": "ed2878ad-0da1-40c8-9c18-a6db9b46d290",
   "metadata": {},
   "outputs": [],
   "source": [
    "normalization"
   ]
  },
  {
   "cell_type": "code",
   "execution_count": null,
   "id": "051a2c3d-32e4-4de0-a4ee-92c91316824d",
   "metadata": {},
   "outputs": [],
   "source": [
    "generalSolution = createGeneralSolion(regionSymbols, waveEquation, normalization)"
   ]
  },
  {
   "cell_type": "code",
   "execution_count": null,
   "id": "62f0c4a6-6436-4546-9176-2e5280ca4526",
   "metadata": {},
   "outputs": [],
   "source": []
  },
  {
   "cell_type": "code",
   "execution_count": null,
   "id": "203aa721-d365-4bec-baf6-d28752974403",
   "metadata": {},
   "outputs": [],
   "source": [
    "unconstrainedParticularSolution = solveUnconstrainedParticularSolution(regionSymbols, generalSolution)"
   ]
  },
  {
   "cell_type": "code",
   "execution_count": null,
   "id": "9cff8bfd-ba78-4e24-b093-287b1bf4c389",
   "metadata": {},
   "outputs": [],
   "source": [
    "unconstrainedParticularSolution[\"amplitudes\"][\"transmission\"]"
   ]
  },
  {
   "cell_type": "code",
   "execution_count": null,
   "id": "2d2e85e8-ca62-47f0-ae6c-f07850c3716e",
   "metadata": {},
   "outputs": [],
   "source": [
    "unconstrainedParticularSolution[\"amplitudes\"][\"reflection\"]"
   ]
  },
  {
   "cell_type": "code",
   "execution_count": null,
   "id": "30e2479e-b5bf-4bf9-a027-6d66b5fbccdf",
   "metadata": {},
   "outputs": [],
   "source": [
    "unconstrainedParticularSolution[\"amplitudes\"]"
   ]
  },
  {
   "cell_type": "code",
   "execution_count": null,
   "id": "bac7e934-5d17-42ea-91d1-b9c29b12837c",
   "metadata": {},
   "outputs": [],
   "source": []
  },
  {
   "cell_type": "code",
   "execution_count": null,
   "id": "abf74a95-062d-484e-8226-f3c0252cfd8e",
   "metadata": {},
   "outputs": [],
   "source": []
  },
  {
   "cell_type": "code",
   "execution_count": null,
   "id": "2b87ea54-e462-4298-91a5-b2bec94b6272",
   "metadata": {},
   "outputs": [],
   "source": [
    "unconstrainedParticularSolution[\"exponential\"]"
   ]
  },
  {
   "cell_type": "code",
   "execution_count": null,
   "id": "fc9e5d6f-0ad9-4d90-bd0e-bbf55cdb2781",
   "metadata": {},
   "outputs": [],
   "source": [
    "unconstrainedParticularSolution[\"amplitudes\"][\"transmission\"]"
   ]
  },
  {
   "cell_type": "code",
   "execution_count": null,
   "id": "784e841a-d8c5-416c-a682-d9364838130e",
   "metadata": {},
   "outputs": [],
   "source": [
    "unconstrainedParticularSolution[\"amplitudes\"][\"reflection\"]"
   ]
  },
  {
   "cell_type": "code",
   "execution_count": null,
   "id": "af4e990e-5d8e-468d-bcc6-1dc8f330dbf8",
   "metadata": {},
   "outputs": [],
   "source": []
  },
  {
   "cell_type": "code",
   "execution_count": null,
   "id": "6623585d-4878-404e-a835-4e4997abe524",
   "metadata": {},
   "outputs": [],
   "source": [
    "constrainedSolutions = solveForConstrainedAmplitudeCoefficients(regionSymbols, normalization, unconstrainedParticularSolution)"
   ]
  },
  {
   "cell_type": "code",
   "execution_count": null,
   "id": "f090762f-e199-401d-994c-934fcc9276a6",
   "metadata": {},
   "outputs": [],
   "source": []
  },
  {
   "cell_type": "code",
   "execution_count": null,
   "id": "2c84d38e-36ce-4240-beed-84fac4edcc12",
   "metadata": {},
   "outputs": [],
   "source": [
    "constrainedSolutions[\"intermediateSolutions\"][\"unconstrainedAmplitudes\"][\"transmission\"][0]"
   ]
  },
  {
   "cell_type": "code",
   "execution_count": null,
   "id": "2d9685c0-2e9e-4c43-9064-6dfadf84684b",
   "metadata": {},
   "outputs": [],
   "source": [
    "constrainedSolutions[\"intermediateSolutions\"][\"unconstrainedAmplitudes\"][\"transmission\"][1]"
   ]
  },
  {
   "cell_type": "code",
   "execution_count": null,
   "id": "dc547c6c-3993-4be2-9630-ef809574790f",
   "metadata": {},
   "outputs": [],
   "source": [
    "constrainedSolutions[\"intermediateSolutions\"][\"unconstrainedAmplitudes\"][\"reflection\"][0]"
   ]
  },
  {
   "cell_type": "code",
   "execution_count": null,
   "id": "640209df-0bdd-4b4a-89de-b17a7fe27c8f",
   "metadata": {},
   "outputs": [],
   "source": [
    "constrainedSolutions[\"intermediateSolutions\"][\"unconstrainedAmplitudes\"][\"reflection\"][1]"
   ]
  },
  {
   "cell_type": "code",
   "execution_count": null,
   "id": "58eb1ee6-89f0-418c-a516-e129d21e52c4",
   "metadata": {},
   "outputs": [],
   "source": [
    "constrainedSolutions[\"intermediateSolutions\"][\"intermediateSolutions\"][\"transmission\"]"
   ]
  },
  {
   "cell_type": "code",
   "execution_count": null,
   "id": "6840c34e-e826-46bf-b1dd-358fc7043aae",
   "metadata": {},
   "outputs": [],
   "source": [
    "constrainedSolutions[\"intermediateSolutions\"][\"intermediateSolutions\"][\"reflection\"]"
   ]
  },
  {
   "cell_type": "code",
   "execution_count": null,
   "id": "efdec9ab-989d-4a6e-bc6f-c350d39f99f1",
   "metadata": {},
   "outputs": [],
   "source": [
    "constrainedSolutions[\"constrainedParticularSolution\"][\"amplitudeConstrainedSolutions\"][\"transmission\"][0]"
   ]
  },
  {
   "cell_type": "code",
   "execution_count": null,
   "id": "27a50bc3-55c4-4a12-b7db-a7bb8d3821e0",
   "metadata": {},
   "outputs": [],
   "source": [
    "constrainedSolutions[\"constrainedParticularSolution\"][\"amplitudeConstrainedSolutions\"][\"transmission\"][1]"
   ]
  },
  {
   "cell_type": "code",
   "execution_count": null,
   "id": "7c0ddd07-9cbd-434c-8f3e-5a1c827650aa",
   "metadata": {},
   "outputs": [],
   "source": [
    "constrainedSolutions[\"constrainedParticularSolution\"][\"amplitudeConstrainedSolutions\"][\"reflection\"][0]"
   ]
  },
  {
   "cell_type": "code",
   "execution_count": null,
   "id": "75ff9b9a-e025-4038-84df-8e7bc4bca423",
   "metadata": {},
   "outputs": [],
   "source": [
    "constrainedSolutions[\"constrainedParticularSolution\"][\"amplitudeConstrainedSolutions\"][\"reflection\"][1]"
   ]
  },
  {
   "cell_type": "code",
   "execution_count": null,
   "id": "931a2601-98af-4617-93f7-48bd73ce0ae5",
   "metadata": {},
   "outputs": [],
   "source": [
    "constrainedSolutions[\"constrainedParticularSolution\"][\"amplitudeConstrainedSolution\"][\"transmission\"]"
   ]
  },
  {
   "cell_type": "code",
   "execution_count": null,
   "id": "69b3ef64-56a9-4060-890d-1f8dc0157acd",
   "metadata": {},
   "outputs": [],
   "source": [
    "constrainedSolutions[\"constrainedParticularSolution\"][\"amplitudeConstrainedSolution\"][\"reflection\"]"
   ]
  },
  {
   "cell_type": "code",
   "execution_count": null,
   "id": "8ebdc795-fa47-48b0-8f1f-7c3a062d6655",
   "metadata": {},
   "outputs": [],
   "source": [
    "uct = unconstrainedParticularSolution[\"amplitudes\"][\"transmission\"]"
   ]
  },
  {
   "cell_type": "code",
   "execution_count": null,
   "id": "24ecdd62-81f7-4a6c-882a-9bf5730ef5b0",
   "metadata": {},
   "outputs": [],
   "source": [
    "uct = (uct * uct).expand()"
   ]
  },
  {
   "cell_type": "code",
   "execution_count": null,
   "id": "5a3869f0-5fe7-4b3f-8309-5b8ad3b35981",
   "metadata": {},
   "outputs": [],
   "source": [
    "uct"
   ]
  },
  {
   "cell_type": "code",
   "execution_count": null,
   "id": "6bba23ab-8eab-4f92-9ffb-f80f3f609fef",
   "metadata": {},
   "outputs": [],
   "source": []
  },
  {
   "cell_type": "code",
   "execution_count": null,
   "id": "1a569b78-bf0d-44df-bcf7-f3242458087a",
   "metadata": {},
   "outputs": [],
   "source": [
    "sp.Eq(uct, constrainedSolutions[\"constrainedParticularSolution\"][\"amplitudeConstrainedSolution\"][\"transmission\"])"
   ]
  },
  {
   "cell_type": "code",
   "execution_count": null,
   "id": "81596dbf-a8cf-4aa9-b712-9027a0285f04",
   "metadata": {},
   "outputs": [],
   "source": [
    "generateAmplitudeCoefficientNumericalFunctions(regionSymbols, waveEquation, normalization)#constrainedSolutions[\"constrainedParticularSolution\"][\"amplitudeConstrainedSolutions\"])"
   ]
  },
  {
   "cell_type": "code",
   "execution_count": null,
   "id": "d171b3d8-eb20-4c84-8e90-93821c969341",
   "metadata": {},
   "outputs": [],
   "source": []
  },
  {
   "cell_type": "code",
   "execution_count": null,
   "id": "d86c8a3a-90ae-434d-9c9b-b4e89424b7ff",
   "metadata": {},
   "outputs": [],
   "source": [
    "constrainedSolutions[\"constrainedParticularSolution\"]"
   ]
  },
  {
   "cell_type": "code",
   "execution_count": null,
   "id": "b9b72396-feea-49a6-a9fb-428d8503b752",
   "metadata": {},
   "outputs": [],
   "source": [
    "constrainedSolutions"
   ]
  },
  {
   "cell_type": "code",
   "execution_count": null,
   "id": "39eb3736-0f50-4cb5-9e9d-c36cfef65f8f",
   "metadata": {},
   "outputs": [],
   "source": []
  }
 ],
 "metadata": {
  "kernelspec": {
   "display_name": "Python 3 (ipykernel)",
   "language": "python",
   "name": "python3"
  },
  "language_info": {
   "codemirror_mode": {
    "name": "ipython",
    "version": 3
   },
   "file_extension": ".py",
   "mimetype": "text/x-python",
   "name": "python",
   "nbconvert_exporter": "python",
   "pygments_lexer": "ipython3",
   "version": "3.10.5"
  }
 },
 "nbformat": 4,
 "nbformat_minor": 5
}
