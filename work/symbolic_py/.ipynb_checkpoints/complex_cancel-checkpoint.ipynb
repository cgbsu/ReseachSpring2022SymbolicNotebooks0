{
 "cells": [
  {
   "cell_type": "code",
   "execution_count": 1,
   "id": "bc3bd8bb-1e08-4d94-96c8-ac48e2c509da",
   "metadata": {},
   "outputs": [],
   "source": [
    "import sympy as sp"
   ]
  },
  {
   "cell_type": "code",
   "execution_count": null,
   "id": "a84bb88a-0481-441c-a9e6-87421f4823b4",
   "metadata": {},
   "outputs": [],
   "source": []
  },
  {
   "cell_type": "code",
   "execution_count": 3,
   "id": "9d4f4d1f-6a93-4ab2-b657-7a11dcf3f26d",
   "metadata": {},
   "outputs": [],
   "source": [
    "a, b, c, d = sp.symbols(\"a b c d\")"
   ]
  },
  {
   "cell_type": "code",
   "execution_count": 26,
   "id": "87526344-6616-443b-b50d-a2d23bb38bde",
   "metadata": {},
   "outputs": [
    {
     "data": {
      "text/latex": [
       "$\\displaystyle 2 a c - 2 b d$"
      ],
      "text/plain": [
       "2*a*c - 2*b*d"
      ]
     },
     "execution_count": 26,
     "metadata": {},
     "output_type": "execute_result"
    }
   ],
   "source": [
    "((a - b) * (c + d) + (a + b) * (c - d)).simplify()"
   ]
  },
  {
   "cell_type": "code",
   "execution_count": 30,
   "id": "51a81c0e-6d26-4e6d-8265-7b14dc4e5d71",
   "metadata": {},
   "outputs": [
    {
     "data": {
      "text/latex": [
       "$\\displaystyle 2 a c + 2 a d + 2 b c + 2 b d$"
      ],
      "text/plain": [
       "2*a*c + 2*a*d + 2*b*c + 2*b*d"
      ]
     },
     "execution_count": 30,
     "metadata": {},
     "output_type": "execute_result"
    }
   ],
   "source": [
    "((a + b) * (c + d) + (a + b) * (c + d)).expand().simplify()"
   ]
  },
  {
   "cell_type": "code",
   "execution_count": 31,
   "id": "4c7e379e-adb1-46de-9d81-a2c391d1d9c8",
   "metadata": {},
   "outputs": [
    {
     "data": {
      "text/latex": [
       "$\\displaystyle 2 a c - 2 a d - 2 b c + 2 b d$"
      ],
      "text/plain": [
       "2*a*c - 2*a*d - 2*b*c + 2*b*d"
      ]
     },
     "execution_count": 31,
     "metadata": {},
     "output_type": "execute_result"
    }
   ],
   "source": [
    "((a - b) * (c - d) + (a - b) * (c - d)).expand()"
   ]
  },
  {
   "cell_type": "code",
   "execution_count": null,
   "id": "0db94b57-f642-41ff-ade9-788692c4ade1",
   "metadata": {},
   "outputs": [],
   "source": []
  }
 ],
 "metadata": {
  "kernelspec": {
   "display_name": "Python 3 (ipykernel)",
   "language": "python",
   "name": "python3"
  },
  "language_info": {
   "codemirror_mode": {
    "name": "ipython",
    "version": 3
   },
   "file_extension": ".py",
   "mimetype": "text/x-python",
   "name": "python",
   "nbconvert_exporter": "python",
   "pygments_lexer": "ipython3",
   "version": "3.10.4"
  }
 },
 "nbformat": 4,
 "nbformat_minor": 5
}
