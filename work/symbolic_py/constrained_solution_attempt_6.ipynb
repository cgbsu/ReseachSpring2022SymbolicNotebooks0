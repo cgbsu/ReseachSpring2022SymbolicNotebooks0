{
 "cells": [
  {
   "cell_type": "code",
   "execution_count": 1,
   "id": "ba83354b-7bae-4abc-ae3d-46a323509622",
   "metadata": {},
   "outputs": [],
   "source": [
    "from new_attempt.stateless import *"
   ]
  },
  {
   "cell_type": "code",
   "execution_count": 2,
   "id": "7961a18d-d541-4e92-91b4-b11ecdb4ac1b",
   "metadata": {},
   "outputs": [],
   "source": [
    "from custom_libraries.utilities import *"
   ]
  },
  {
   "cell_type": "code",
   "execution_count": 3,
   "id": "53a08e06-7e28-4cfc-86ad-942350bced0d",
   "metadata": {},
   "outputs": [],
   "source": [
    "import matplotlib.pyplot as plt"
   ]
  },
  {
   "cell_type": "code",
   "execution_count": 4,
   "id": "fd9f437e-4244-423e-a41b-354637d0f799",
   "metadata": {},
   "outputs": [],
   "source": [
    "import numpy as np"
   ]
  },
  {
   "cell_type": "code",
   "execution_count": null,
   "id": "33db7c3b-7e0b-42be-9813-a956d0137383",
   "metadata": {},
   "outputs": [],
   "source": []
  },
  {
   "cell_type": "code",
   "execution_count": 5,
   "id": "e1f97467-ea1f-49bd-92fc-724841372449",
   "metadata": {},
   "outputs": [],
   "source": [
    "regionSymbols = RegionSymbols(1)"
   ]
  },
  {
   "cell_type": "code",
   "execution_count": 6,
   "id": "29520e10-88cc-4f0b-9e1a-35fa1208350e",
   "metadata": {},
   "outputs": [],
   "source": [
    "customPlanck = sq.Symbol('hbarX', real = True, positive = True, nonzero = True)"
   ]
  },
  {
   "cell_type": "code",
   "execution_count": null,
   "id": "29bd19be-771f-4808-b794-2739550f6c15",
   "metadata": {},
   "outputs": [],
   "source": []
  },
  {
   "cell_type": "code",
   "execution_count": 7,
   "id": "546b341f-fc92-49c1-b077-6de14bcdb028",
   "metadata": {},
   "outputs": [],
   "source": [
    "waveEquation = constantPotentialTimeIndependentSchroedingerEquation1D(regionSymbols, reducedPlanckConstant = customPlanck)"
   ]
  },
  {
   "cell_type": "code",
   "execution_count": 8,
   "id": "30b7f4a4-a362-4352-8174-e8448d51e421",
   "metadata": {},
   "outputs": [
    {
     "data": {
      "text/latex": [
       "$\\displaystyle V_{1} \\psi_{1}{\\left(x \\right)} - \\frac{hbarX^{2} \\frac{d^{2}}{d x^{2}} \\psi_{1}{\\left(x \\right)}}{2 m} = E_{total} \\psi_{1}{\\left(x \\right)}$"
      ],
      "text/plain": [
       "Eq(V_1*psi_1(x) - hbarX**2*Derivative(psi_1(x), (x, 2))/(2*m), E_{total}*psi_1(x))"
      ]
     },
     "execution_count": 8,
     "metadata": {},
     "output_type": "execute_result"
    }
   ],
   "source": [
    "waveEquation"
   ]
  },
  {
   "cell_type": "code",
   "execution_count": 9,
   "id": "eb52afdb-3740-4acc-8dd7-171c70368740",
   "metadata": {},
   "outputs": [],
   "source": [
    "normalization = simpleWaveFunctionNormalization(regionSymbols.startDistance, regionSymbols.distance, regionSymbols)"
   ]
  },
  {
   "cell_type": "code",
   "execution_count": 10,
   "id": "ed2878ad-0da1-40c8-9c18-a6db9b46d290",
   "metadata": {},
   "outputs": [
    {
     "data": {
      "text/latex": [
       "$\\displaystyle \\int\\limits_{L_{0}}^{L_{1}} \\psi_{1}{\\left(x \\right)} \\overline{\\psi_{1}{\\left(x \\right)}}\\, dx = N_{1}$"
      ],
      "text/plain": [
       "Eq(Integral(psi_1(x)*conjugate(psi_1(x)), (x, L_0, L_1)), N_1)"
      ]
     },
     "execution_count": 10,
     "metadata": {},
     "output_type": "execute_result"
    }
   ],
   "source": [
    "normalization"
   ]
  },
  {
   "cell_type": "code",
   "execution_count": 11,
   "id": "051a2c3d-32e4-4de0-a4ee-92c91316824d",
   "metadata": {},
   "outputs": [],
   "source": [
    "generalSolution = createGeneralSolution(regionSymbols, waveEquation, normalization)"
   ]
  },
  {
   "cell_type": "code",
   "execution_count": null,
   "id": "62f0c4a6-6436-4546-9176-2e5280ca4526",
   "metadata": {},
   "outputs": [],
   "source": []
  },
  {
   "cell_type": "code",
   "execution_count": 12,
   "id": "203aa721-d365-4bec-baf6-d28752974403",
   "metadata": {},
   "outputs": [],
   "source": [
    "unconstrainedParticularSolution = solveUnconstrainedParticularSolution(regionSymbols, generalSolution)"
   ]
  },
  {
   "cell_type": "code",
   "execution_count": 13,
   "id": "9cff8bfd-ba78-4e24-b093-287b1bf4c389",
   "metadata": {},
   "outputs": [
    {
     "data": {
      "text/latex": [
       "$\\displaystyle \\frac{B_{1} e^{L_{0} k_{1}}}{e^{2 L_{0} k_{1}} - e^{2 L_{1} k_{1}}} - \\frac{B_{2} e^{L_{1} k_{1}}}{e^{2 L_{0} k_{1}} - e^{2 L_{1} k_{1}}}$"
      ],
      "text/plain": [
       "B_1*exp(L_0*k_1)/(exp(2*L_0*k_1) - exp(2*L_1*k_1)) - B_2*exp(L_1*k_1)/(exp(2*L_0*k_1) - exp(2*L_1*k_1))"
      ]
     },
     "execution_count": 13,
     "metadata": {},
     "output_type": "execute_result"
    }
   ],
   "source": [
    "unconstrainedParticularSolution[\"amplitudes\"][\"transmission\"]"
   ]
  },
  {
   "cell_type": "code",
   "execution_count": 14,
   "id": "2d2e85e8-ca62-47f0-ae6c-f07850c3716e",
   "metadata": {},
   "outputs": [
    {
     "data": {
      "text/latex": [
       "$\\displaystyle - \\frac{B_{1} e^{L_{0} k_{1}} e^{2 L_{1} k_{1}}}{e^{2 L_{0} k_{1}} - e^{2 L_{1} k_{1}}} + \\frac{B_{2} e^{2 L_{0} k_{1}} e^{L_{1} k_{1}}}{e^{2 L_{0} k_{1}} - e^{2 L_{1} k_{1}}}$"
      ],
      "text/plain": [
       "-B_1*exp(L_0*k_1)*exp(2*L_1*k_1)/(exp(2*L_0*k_1) - exp(2*L_1*k_1)) + B_2*exp(2*L_0*k_1)*exp(L_1*k_1)/(exp(2*L_0*k_1) - exp(2*L_1*k_1))"
      ]
     },
     "execution_count": 14,
     "metadata": {},
     "output_type": "execute_result"
    }
   ],
   "source": [
    "unconstrainedParticularSolution[\"amplitudes\"][\"reflection\"]"
   ]
  },
  {
   "cell_type": "code",
   "execution_count": 15,
   "id": "30e2479e-b5bf-4bf9-a027-6d66b5fbccdf",
   "metadata": {},
   "outputs": [
    {
     "data": {
      "text/plain": [
       "{'transmission': B_1*exp(L_0*k_1)/(exp(2*L_0*k_1) - exp(2*L_1*k_1)) - B_2*exp(L_1*k_1)/(exp(2*L_0*k_1) - exp(2*L_1*k_1)),\n",
       " 'reflection': -B_1*exp(L_0*k_1)*exp(2*L_1*k_1)/(exp(2*L_0*k_1) - exp(2*L_1*k_1)) + B_2*exp(2*L_0*k_1)*exp(L_1*k_1)/(exp(2*L_0*k_1) - exp(2*L_1*k_1)),\n",
       " 'harmonicConstant': k_1}"
      ]
     },
     "execution_count": 15,
     "metadata": {},
     "output_type": "execute_result"
    }
   ],
   "source": [
    "unconstrainedParticularSolution[\"amplitudes\"]"
   ]
  },
  {
   "cell_type": "code",
   "execution_count": null,
   "id": "bac7e934-5d17-42ea-91d1-b9c29b12837c",
   "metadata": {},
   "outputs": [],
   "source": []
  },
  {
   "cell_type": "code",
   "execution_count": null,
   "id": "abf74a95-062d-484e-8226-f3c0252cfd8e",
   "metadata": {},
   "outputs": [],
   "source": []
  },
  {
   "cell_type": "code",
   "execution_count": 16,
   "id": "2b87ea54-e462-4298-91a5-b2bec94b6272",
   "metadata": {},
   "outputs": [
    {
     "data": {
      "text/latex": [
       "$\\displaystyle \\psi_{1}{\\left(x \\right)} = C_{{1}_r} e^{- k_{1} x} + C_{{1}_t} e^{k_{1} x}$"
      ],
      "text/plain": [
       "Eq(psi_1(x), C_{{1}_r}*exp(-k_1*x) + C_{{1}_t}*exp(k_1*x))"
      ]
     },
     "execution_count": 16,
     "metadata": {},
     "output_type": "execute_result"
    }
   ],
   "source": [
    "unconstrainedParticularSolution[\"exponential\"]"
   ]
  },
  {
   "cell_type": "code",
   "execution_count": 17,
   "id": "fc9e5d6f-0ad9-4d90-bd0e-bbf55cdb2781",
   "metadata": {},
   "outputs": [
    {
     "data": {
      "text/latex": [
       "$\\displaystyle \\frac{B_{1} e^{L_{0} k_{1}}}{e^{2 L_{0} k_{1}} - e^{2 L_{1} k_{1}}} - \\frac{B_{2} e^{L_{1} k_{1}}}{e^{2 L_{0} k_{1}} - e^{2 L_{1} k_{1}}}$"
      ],
      "text/plain": [
       "B_1*exp(L_0*k_1)/(exp(2*L_0*k_1) - exp(2*L_1*k_1)) - B_2*exp(L_1*k_1)/(exp(2*L_0*k_1) - exp(2*L_1*k_1))"
      ]
     },
     "execution_count": 17,
     "metadata": {},
     "output_type": "execute_result"
    }
   ],
   "source": [
    "unconstrainedParticularSolution[\"amplitudes\"][\"transmission\"]"
   ]
  },
  {
   "cell_type": "code",
   "execution_count": 18,
   "id": "784e841a-d8c5-416c-a682-d9364838130e",
   "metadata": {},
   "outputs": [
    {
     "data": {
      "text/latex": [
       "$\\displaystyle - \\frac{B_{1} e^{L_{0} k_{1}} e^{2 L_{1} k_{1}}}{e^{2 L_{0} k_{1}} - e^{2 L_{1} k_{1}}} + \\frac{B_{2} e^{2 L_{0} k_{1}} e^{L_{1} k_{1}}}{e^{2 L_{0} k_{1}} - e^{2 L_{1} k_{1}}}$"
      ],
      "text/plain": [
       "-B_1*exp(L_0*k_1)*exp(2*L_1*k_1)/(exp(2*L_0*k_1) - exp(2*L_1*k_1)) + B_2*exp(2*L_0*k_1)*exp(L_1*k_1)/(exp(2*L_0*k_1) - exp(2*L_1*k_1))"
      ]
     },
     "execution_count": 18,
     "metadata": {},
     "output_type": "execute_result"
    }
   ],
   "source": [
    "unconstrainedParticularSolution[\"amplitudes\"][\"reflection\"]"
   ]
  },
  {
   "cell_type": "code",
   "execution_count": null,
   "id": "af4e990e-5d8e-468d-bcc6-1dc8f330dbf8",
   "metadata": {},
   "outputs": [],
   "source": []
  },
  {
   "cell_type": "code",
   "execution_count": 19,
   "id": "6623585d-4878-404e-a835-4e4997abe524",
   "metadata": {},
   "outputs": [],
   "source": [
    "constrainedSolutions = solveForConstrainedAmplitudeCoefficients(regionSymbols, normalization, unconstrainedParticularSolution)"
   ]
  },
  {
   "cell_type": "code",
   "execution_count": null,
   "id": "f090762f-e199-401d-994c-934fcc9276a6",
   "metadata": {},
   "outputs": [],
   "source": []
  },
  {
   "cell_type": "code",
   "execution_count": 20,
   "id": "2c84d38e-36ce-4240-beed-84fac4edcc12",
   "metadata": {},
   "outputs": [
    {
     "data": {
      "text/latex": [
       "$\\displaystyle \\frac{\\left(- 2 C_{{1}_r} L_{0} k_{1} e^{k_{1} \\left(L_{0} + L_{1}\\right)} + 2 C_{{1}_r} L_{1} k_{1} e^{k_{1} \\left(L_{0} + L_{1}\\right)} - \\sqrt{4 C_{{1}_r}^{2} L_{0}^{2} k_{1}^{2} e^{2 k_{1} \\left(L_{0} + L_{1}\\right)} - 8 C_{{1}_r}^{2} L_{0} L_{1} k_{1}^{2} e^{2 k_{1} \\left(L_{0} + L_{1}\\right)} + 4 C_{{1}_r}^{2} L_{1}^{2} k_{1}^{2} e^{2 k_{1} \\left(L_{0} + L_{1}\\right)} - C_{{1}_r}^{2} e^{4 L_{0} k_{1}} - C_{{1}_r}^{2} e^{4 L_{1} k_{1}} + 2 C_{{1}_r}^{2} e^{2 k_{1} \\left(L_{0} + L_{1}\\right)} + 2 N_{1} k_{1} e^{2 k_{1} \\left(L_{0} + 2 L_{1}\\right)} - 2 N_{1} k_{1} e^{2 k_{1} \\cdot \\left(2 L_{0} + L_{1}\\right)}}\\right) e^{- k_{1} \\left(L_{0} + L_{1}\\right)}}{e^{2 L_{0} k_{1}} - e^{2 L_{1} k_{1}}}$"
      ],
      "text/plain": [
       "(-2*C_{{1}_r}*L_0*k_1*exp(k_1*(L_0 + L_1)) + 2*C_{{1}_r}*L_1*k_1*exp(k_1*(L_0 + L_1)) - sqrt(4*C_{{1}_r}**2*L_0**2*k_1**2*exp(2*k_1*(L_0 + L_1)) - 8*C_{{1}_r}**2*L_0*L_1*k_1**2*exp(2*k_1*(L_0 + L_1)) + 4*C_{{1}_r}**2*L_1**2*k_1**2*exp(2*k_1*(L_0 + L_1)) - C_{{1}_r}**2*exp(4*L_0*k_1) - C_{{1}_r}**2*exp(4*L_1*k_1) + 2*C_{{1}_r}**2*exp(2*k_1*(L_0 + L_1)) + 2*N_1*k_1*exp(2*k_1*(L_0 + 2*L_1)) - 2*N_1*k_1*exp(2*k_1*(2*L_0 + L_1))))*exp(-k_1*(L_0 + L_1))/(exp(2*L_0*k_1) - exp(2*L_1*k_1))"
      ]
     },
     "execution_count": 20,
     "metadata": {},
     "output_type": "execute_result"
    }
   ],
   "source": [
    "constrainedSolutions[\"intermediateSolutions\"][\"unconstrainedAmplitudes\"][\"transmission\"][0]"
   ]
  },
  {
   "cell_type": "code",
   "execution_count": 21,
   "id": "2d9685c0-2e9e-4c43-9064-6dfadf84684b",
   "metadata": {},
   "outputs": [
    {
     "data": {
      "text/latex": [
       "$\\displaystyle \\frac{\\left(- 2 C_{{1}_r} L_{0} k_{1} e^{k_{1} \\left(L_{0} + L_{1}\\right)} + 2 C_{{1}_r} L_{1} k_{1} e^{k_{1} \\left(L_{0} + L_{1}\\right)} + \\sqrt{4 C_{{1}_r}^{2} L_{0}^{2} k_{1}^{2} e^{2 k_{1} \\left(L_{0} + L_{1}\\right)} - 8 C_{{1}_r}^{2} L_{0} L_{1} k_{1}^{2} e^{2 k_{1} \\left(L_{0} + L_{1}\\right)} + 4 C_{{1}_r}^{2} L_{1}^{2} k_{1}^{2} e^{2 k_{1} \\left(L_{0} + L_{1}\\right)} - C_{{1}_r}^{2} e^{4 L_{0} k_{1}} - C_{{1}_r}^{2} e^{4 L_{1} k_{1}} + 2 C_{{1}_r}^{2} e^{2 k_{1} \\left(L_{0} + L_{1}\\right)} + 2 N_{1} k_{1} e^{2 k_{1} \\left(L_{0} + 2 L_{1}\\right)} - 2 N_{1} k_{1} e^{2 k_{1} \\cdot \\left(2 L_{0} + L_{1}\\right)}}\\right) e^{- k_{1} \\left(L_{0} + L_{1}\\right)}}{e^{2 L_{0} k_{1}} - e^{2 L_{1} k_{1}}}$"
      ],
      "text/plain": [
       "(-2*C_{{1}_r}*L_0*k_1*exp(k_1*(L_0 + L_1)) + 2*C_{{1}_r}*L_1*k_1*exp(k_1*(L_0 + L_1)) + sqrt(4*C_{{1}_r}**2*L_0**2*k_1**2*exp(2*k_1*(L_0 + L_1)) - 8*C_{{1}_r}**2*L_0*L_1*k_1**2*exp(2*k_1*(L_0 + L_1)) + 4*C_{{1}_r}**2*L_1**2*k_1**2*exp(2*k_1*(L_0 + L_1)) - C_{{1}_r}**2*exp(4*L_0*k_1) - C_{{1}_r}**2*exp(4*L_1*k_1) + 2*C_{{1}_r}**2*exp(2*k_1*(L_0 + L_1)) + 2*N_1*k_1*exp(2*k_1*(L_0 + 2*L_1)) - 2*N_1*k_1*exp(2*k_1*(2*L_0 + L_1))))*exp(-k_1*(L_0 + L_1))/(exp(2*L_0*k_1) - exp(2*L_1*k_1))"
      ]
     },
     "execution_count": 21,
     "metadata": {},
     "output_type": "execute_result"
    }
   ],
   "source": [
    "constrainedSolutions[\"intermediateSolutions\"][\"unconstrainedAmplitudes\"][\"transmission\"][1]"
   ]
  },
  {
   "cell_type": "code",
   "execution_count": 22,
   "id": "dc547c6c-3993-4be2-9630-ef809574790f",
   "metadata": {},
   "outputs": [
    {
     "data": {
      "text/latex": [
       "$\\displaystyle \\frac{\\left(- 2 C_{{1}_t} L_{0} k_{1} e^{k_{1} \\left(L_{0} + L_{1}\\right)} + 2 C_{{1}_t} L_{1} k_{1} e^{k_{1} \\left(L_{0} + L_{1}\\right)} - \\sqrt{4 C_{{1}_t}^{2} L_{0}^{2} k_{1}^{2} e^{2 k_{1} \\left(L_{0} + L_{1}\\right)} - 8 C_{{1}_t}^{2} L_{0} L_{1} k_{1}^{2} e^{2 k_{1} \\left(L_{0} + L_{1}\\right)} + 4 C_{{1}_t}^{2} L_{1}^{2} k_{1}^{2} e^{2 k_{1} \\left(L_{0} + L_{1}\\right)} - C_{{1}_t}^{2} e^{4 L_{0} k_{1}} - C_{{1}_t}^{2} e^{4 L_{1} k_{1}} + 2 C_{{1}_t}^{2} e^{2 k_{1} \\left(L_{0} + L_{1}\\right)} - 2 N_{1} k_{1} e^{2 L_{0} k_{1}} + 2 N_{1} k_{1} e^{2 L_{1} k_{1}}}\\right) e^{k_{1} \\left(L_{0} + L_{1}\\right)}}{e^{2 L_{0} k_{1}} - e^{2 L_{1} k_{1}}}$"
      ],
      "text/plain": [
       "(-2*C_{{1}_t}*L_0*k_1*exp(k_1*(L_0 + L_1)) + 2*C_{{1}_t}*L_1*k_1*exp(k_1*(L_0 + L_1)) - sqrt(4*C_{{1}_t}**2*L_0**2*k_1**2*exp(2*k_1*(L_0 + L_1)) - 8*C_{{1}_t}**2*L_0*L_1*k_1**2*exp(2*k_1*(L_0 + L_1)) + 4*C_{{1}_t}**2*L_1**2*k_1**2*exp(2*k_1*(L_0 + L_1)) - C_{{1}_t}**2*exp(4*L_0*k_1) - C_{{1}_t}**2*exp(4*L_1*k_1) + 2*C_{{1}_t}**2*exp(2*k_1*(L_0 + L_1)) - 2*N_1*k_1*exp(2*L_0*k_1) + 2*N_1*k_1*exp(2*L_1*k_1)))*exp(k_1*(L_0 + L_1))/(exp(2*L_0*k_1) - exp(2*L_1*k_1))"
      ]
     },
     "execution_count": 22,
     "metadata": {},
     "output_type": "execute_result"
    }
   ],
   "source": [
    "constrainedSolutions[\"intermediateSolutions\"][\"unconstrainedAmplitudes\"][\"reflection\"][0]"
   ]
  },
  {
   "cell_type": "code",
   "execution_count": 23,
   "id": "640209df-0bdd-4b4a-89de-b17a7fe27c8f",
   "metadata": {},
   "outputs": [
    {
     "data": {
      "text/latex": [
       "$\\displaystyle \\frac{\\left(- 2 C_{{1}_t} L_{0} k_{1} e^{k_{1} \\left(L_{0} + L_{1}\\right)} + 2 C_{{1}_t} L_{1} k_{1} e^{k_{1} \\left(L_{0} + L_{1}\\right)} + \\sqrt{4 C_{{1}_t}^{2} L_{0}^{2} k_{1}^{2} e^{2 k_{1} \\left(L_{0} + L_{1}\\right)} - 8 C_{{1}_t}^{2} L_{0} L_{1} k_{1}^{2} e^{2 k_{1} \\left(L_{0} + L_{1}\\right)} + 4 C_{{1}_t}^{2} L_{1}^{2} k_{1}^{2} e^{2 k_{1} \\left(L_{0} + L_{1}\\right)} - C_{{1}_t}^{2} e^{4 L_{0} k_{1}} - C_{{1}_t}^{2} e^{4 L_{1} k_{1}} + 2 C_{{1}_t}^{2} e^{2 k_{1} \\left(L_{0} + L_{1}\\right)} - 2 N_{1} k_{1} e^{2 L_{0} k_{1}} + 2 N_{1} k_{1} e^{2 L_{1} k_{1}}}\\right) e^{k_{1} \\left(L_{0} + L_{1}\\right)}}{e^{2 L_{0} k_{1}} - e^{2 L_{1} k_{1}}}$"
      ],
      "text/plain": [
       "(-2*C_{{1}_t}*L_0*k_1*exp(k_1*(L_0 + L_1)) + 2*C_{{1}_t}*L_1*k_1*exp(k_1*(L_0 + L_1)) + sqrt(4*C_{{1}_t}**2*L_0**2*k_1**2*exp(2*k_1*(L_0 + L_1)) - 8*C_{{1}_t}**2*L_0*L_1*k_1**2*exp(2*k_1*(L_0 + L_1)) + 4*C_{{1}_t}**2*L_1**2*k_1**2*exp(2*k_1*(L_0 + L_1)) - C_{{1}_t}**2*exp(4*L_0*k_1) - C_{{1}_t}**2*exp(4*L_1*k_1) + 2*C_{{1}_t}**2*exp(2*k_1*(L_0 + L_1)) - 2*N_1*k_1*exp(2*L_0*k_1) + 2*N_1*k_1*exp(2*L_1*k_1)))*exp(k_1*(L_0 + L_1))/(exp(2*L_0*k_1) - exp(2*L_1*k_1))"
      ]
     },
     "execution_count": 23,
     "metadata": {},
     "output_type": "execute_result"
    }
   ],
   "source": [
    "constrainedSolutions[\"intermediateSolutions\"][\"unconstrainedAmplitudes\"][\"reflection\"][1]"
   ]
  },
  {
   "cell_type": "code",
   "execution_count": 24,
   "id": "58eb1ee6-89f0-418c-a516-e129d21e52c4",
   "metadata": {},
   "outputs": [
    {
     "data": {
      "text/latex": [
       "$\\displaystyle \\left(\\frac{B_{1} e^{L_{0} k_{1}}}{e^{2 L_{0} k_{1}} - e^{2 L_{1} k_{1}}} - \\frac{B_{2} e^{L_{1} k_{1}}}{e^{2 L_{0} k_{1}} - e^{2 L_{1} k_{1}}}\\right)^{2} = \\frac{\\left(C_{{1}_r}^{2} e^{2 L_{0} k_{1}} - C_{{1}_r}^{2} e^{2 L_{1} k_{1}} + 2 N_{1} k_{1} e^{2 k_{1} \\left(L_{0} + L_{1}\\right)}\\right) e^{- 2 k_{1} \\left(L_{0} + L_{1}\\right)}}{e^{2 L_{0} k_{1}} - e^{2 L_{1} k_{1}}}$"
      ],
      "text/plain": [
       "Eq((B_1*exp(L_0*k_1)/(exp(2*L_0*k_1) - exp(2*L_1*k_1)) - B_2*exp(L_1*k_1)/(exp(2*L_0*k_1) - exp(2*L_1*k_1)))**2, (C_{{1}_r}**2*exp(2*L_0*k_1) - C_{{1}_r}**2*exp(2*L_1*k_1) + 2*N_1*k_1*exp(2*k_1*(L_0 + L_1)))*exp(-2*k_1*(L_0 + L_1))/(exp(2*L_0*k_1) - exp(2*L_1*k_1)))"
      ]
     },
     "execution_count": 24,
     "metadata": {},
     "output_type": "execute_result"
    }
   ],
   "source": [
    "constrainedSolutions[\"intermediateSolutions\"][\"intermediateSolutions\"][\"transmission\"]"
   ]
  },
  {
   "cell_type": "code",
   "execution_count": 25,
   "id": "6840c34e-e826-46bf-b1dd-358fc7043aae",
   "metadata": {},
   "outputs": [
    {
     "data": {
      "text/latex": [
       "$\\displaystyle \\left(- \\frac{B_{1} e^{L_{0} k_{1}} e^{2 L_{1} k_{1}}}{e^{2 L_{0} k_{1}} - e^{2 L_{1} k_{1}}} + \\frac{B_{2} e^{2 L_{0} k_{1}} e^{L_{1} k_{1}}}{e^{2 L_{0} k_{1}} - e^{2 L_{1} k_{1}}}\\right)^{2} = \\frac{\\left(C_{{1}_t}^{2} e^{2 L_{0} k_{1}} - C_{{1}_t}^{2} e^{2 L_{1} k_{1}} + 2 N_{1} k_{1}\\right) e^{2 k_{1} \\left(L_{0} + L_{1}\\right)}}{e^{2 L_{0} k_{1}} - e^{2 L_{1} k_{1}}}$"
      ],
      "text/plain": [
       "Eq((-B_1*exp(L_0*k_1)*exp(2*L_1*k_1)/(exp(2*L_0*k_1) - exp(2*L_1*k_1)) + B_2*exp(2*L_0*k_1)*exp(L_1*k_1)/(exp(2*L_0*k_1) - exp(2*L_1*k_1)))**2, (C_{{1}_t}**2*exp(2*L_0*k_1) - C_{{1}_t}**2*exp(2*L_1*k_1) + 2*N_1*k_1)*exp(2*k_1*(L_0 + L_1))/(exp(2*L_0*k_1) - exp(2*L_1*k_1)))"
      ]
     },
     "execution_count": 25,
     "metadata": {},
     "output_type": "execute_result"
    }
   ],
   "source": [
    "constrainedSolutions[\"intermediateSolutions\"][\"intermediateSolutions\"][\"reflection\"]"
   ]
  },
  {
   "cell_type": "code",
   "execution_count": 26,
   "id": "efdec9ab-989d-4a6e-bc6f-c350d39f99f1",
   "metadata": {},
   "outputs": [
    {
     "data": {
      "text/latex": [
       "$\\displaystyle - \\frac{\\sqrt{B_{1}^{2} e^{2 L_{1} k_{1}} - 2 B_{1} B_{2} e^{k_{1} \\left(L_{0} + L_{1}\\right)} + B_{2}^{2} e^{2 L_{0} k_{1}} - 2 N_{1} k_{1} e^{2 L_{0} k_{1}} + 2 N_{1} k_{1} e^{2 L_{1} k_{1}}}}{e^{2 L_{0} k_{1}} - e^{2 L_{1} k_{1}}}$"
      ],
      "text/plain": [
       "-sqrt(B_1**2*exp(2*L_1*k_1) - 2*B_1*B_2*exp(k_1*(L_0 + L_1)) + B_2**2*exp(2*L_0*k_1) - 2*N_1*k_1*exp(2*L_0*k_1) + 2*N_1*k_1*exp(2*L_1*k_1))/(exp(2*L_0*k_1) - exp(2*L_1*k_1))"
      ]
     },
     "execution_count": 26,
     "metadata": {},
     "output_type": "execute_result"
    }
   ],
   "source": [
    "constrainedSolutions[\"constrainedParticularSolution\"][\"amplitudeConstrainedSolutions\"][\"transmission\"][0]"
   ]
  },
  {
   "cell_type": "code",
   "execution_count": 27,
   "id": "27a50bc3-55c4-4a12-b7db-a7bb8d3821e0",
   "metadata": {},
   "outputs": [
    {
     "data": {
      "text/latex": [
       "$\\displaystyle \\frac{\\sqrt{B_{1}^{2} e^{2 L_{1} k_{1}} - 2 B_{1} B_{2} e^{k_{1} \\left(L_{0} + L_{1}\\right)} + B_{2}^{2} e^{2 L_{0} k_{1}} - 2 N_{1} k_{1} e^{2 L_{0} k_{1}} + 2 N_{1} k_{1} e^{2 L_{1} k_{1}}}}{e^{2 L_{0} k_{1}} - e^{2 L_{1} k_{1}}}$"
      ],
      "text/plain": [
       "sqrt(B_1**2*exp(2*L_1*k_1) - 2*B_1*B_2*exp(k_1*(L_0 + L_1)) + B_2**2*exp(2*L_0*k_1) - 2*N_1*k_1*exp(2*L_0*k_1) + 2*N_1*k_1*exp(2*L_1*k_1))/(exp(2*L_0*k_1) - exp(2*L_1*k_1))"
      ]
     },
     "execution_count": 27,
     "metadata": {},
     "output_type": "execute_result"
    }
   ],
   "source": [
    "constrainedSolutions[\"constrainedParticularSolution\"][\"amplitudeConstrainedSolutions\"][\"transmission\"][1]"
   ]
  },
  {
   "cell_type": "code",
   "execution_count": 28,
   "id": "7c0ddd07-9cbd-434c-8f3e-5a1c827650aa",
   "metadata": {},
   "outputs": [
    {
     "data": {
      "text/latex": [
       "$\\displaystyle - \\frac{\\sqrt{B_{1}^{2} e^{2 L_{0} k_{1}} - 2 B_{1} B_{2} e^{k_{1} \\left(L_{0} + L_{1}\\right)} + B_{2}^{2} e^{2 L_{1} k_{1}} - 2 N_{1} k_{1} e^{2 L_{0} k_{1}} + 2 N_{1} k_{1} e^{2 L_{1} k_{1}}} e^{k_{1} \\left(L_{0} + L_{1}\\right)}}{e^{2 L_{0} k_{1}} - e^{2 L_{1} k_{1}}}$"
      ],
      "text/plain": [
       "-sqrt(B_1**2*exp(2*L_0*k_1) - 2*B_1*B_2*exp(k_1*(L_0 + L_1)) + B_2**2*exp(2*L_1*k_1) - 2*N_1*k_1*exp(2*L_0*k_1) + 2*N_1*k_1*exp(2*L_1*k_1))*exp(k_1*(L_0 + L_1))/(exp(2*L_0*k_1) - exp(2*L_1*k_1))"
      ]
     },
     "execution_count": 28,
     "metadata": {},
     "output_type": "execute_result"
    }
   ],
   "source": [
    "constrainedSolutions[\"constrainedParticularSolution\"][\"amplitudeConstrainedSolutions\"][\"reflection\"][0]"
   ]
  },
  {
   "cell_type": "code",
   "execution_count": 29,
   "id": "75ff9b9a-e025-4038-84df-8e7bc4bca423",
   "metadata": {},
   "outputs": [
    {
     "data": {
      "text/latex": [
       "$\\displaystyle \\frac{\\sqrt{B_{1}^{2} e^{2 L_{0} k_{1}} - 2 B_{1} B_{2} e^{k_{1} \\left(L_{0} + L_{1}\\right)} + B_{2}^{2} e^{2 L_{1} k_{1}} - 2 N_{1} k_{1} e^{2 L_{0} k_{1}} + 2 N_{1} k_{1} e^{2 L_{1} k_{1}}} e^{k_{1} \\left(L_{0} + L_{1}\\right)}}{e^{2 L_{0} k_{1}} - e^{2 L_{1} k_{1}}}$"
      ],
      "text/plain": [
       "sqrt(B_1**2*exp(2*L_0*k_1) - 2*B_1*B_2*exp(k_1*(L_0 + L_1)) + B_2**2*exp(2*L_1*k_1) - 2*N_1*k_1*exp(2*L_0*k_1) + 2*N_1*k_1*exp(2*L_1*k_1))*exp(k_1*(L_0 + L_1))/(exp(2*L_0*k_1) - exp(2*L_1*k_1))"
      ]
     },
     "execution_count": 29,
     "metadata": {},
     "output_type": "execute_result"
    }
   ],
   "source": [
    "constrainedSolutions[\"constrainedParticularSolution\"][\"amplitudeConstrainedSolutions\"][\"reflection\"][1]"
   ]
  },
  {
   "cell_type": "code",
   "execution_count": 30,
   "id": "931a2601-98af-4617-93f7-48bd73ce0ae5",
   "metadata": {},
   "outputs": [
    {
     "data": {
      "text/latex": [
       "$\\displaystyle C_{{1}_t}^{2} = \\frac{- B_{1}^{2} e^{2 L_{1} k_{1}} + 2 B_{1} B_{2} e^{k_{1} \\left(L_{0} + L_{1}\\right)} - B_{2}^{2} e^{2 L_{0} k_{1}} + 2 N_{1} k_{1} e^{2 L_{0} k_{1}} - 2 N_{1} k_{1} e^{2 L_{1} k_{1}}}{\\left(e^{2 L_{0} k_{1}} - e^{2 L_{1} k_{1}}\\right)^{2}}$"
      ],
      "text/plain": [
       "Eq(C_{{1}_t}**2, (-B_1**2*exp(2*L_1*k_1) + 2*B_1*B_2*exp(k_1*(L_0 + L_1)) - B_2**2*exp(2*L_0*k_1) + 2*N_1*k_1*exp(2*L_0*k_1) - 2*N_1*k_1*exp(2*L_1*k_1))/(exp(2*L_0*k_1) - exp(2*L_1*k_1))**2)"
      ]
     },
     "execution_count": 30,
     "metadata": {},
     "output_type": "execute_result"
    }
   ],
   "source": [
    "constrainedSolutions[\"constrainedParticularSolution\"][\"amplitudeConstrainedSolution\"][\"transmission\"]"
   ]
  },
  {
   "cell_type": "code",
   "execution_count": 31,
   "id": "69b3ef64-56a9-4060-890d-1f8dc0157acd",
   "metadata": {},
   "outputs": [
    {
     "data": {
      "text/latex": [
       "$\\displaystyle C_{{1}_r}^{2} = \\frac{\\left(- B_{1}^{2} e^{2 L_{0} k_{1}} + 2 B_{1} B_{2} e^{k_{1} \\left(L_{0} + L_{1}\\right)} - B_{2}^{2} e^{2 L_{1} k_{1}} + 2 N_{1} k_{1} e^{2 L_{0} k_{1}} - 2 N_{1} k_{1} e^{2 L_{1} k_{1}}\\right) e^{2 k_{1} \\left(L_{0} + L_{1}\\right)}}{\\left(e^{2 L_{0} k_{1}} - e^{2 L_{1} k_{1}}\\right)^{2}}$"
      ],
      "text/plain": [
       "Eq(C_{{1}_r}**2, (-B_1**2*exp(2*L_0*k_1) + 2*B_1*B_2*exp(k_1*(L_0 + L_1)) - B_2**2*exp(2*L_1*k_1) + 2*N_1*k_1*exp(2*L_0*k_1) - 2*N_1*k_1*exp(2*L_1*k_1))*exp(2*k_1*(L_0 + L_1))/(exp(2*L_0*k_1) - exp(2*L_1*k_1))**2)"
      ]
     },
     "execution_count": 31,
     "metadata": {},
     "output_type": "execute_result"
    }
   ],
   "source": [
    "constrainedSolutions[\"constrainedParticularSolution\"][\"amplitudeConstrainedSolution\"][\"reflection\"]"
   ]
  },
  {
   "cell_type": "code",
   "execution_count": 32,
   "id": "8ebdc795-fa47-48b0-8f1f-7c3a062d6655",
   "metadata": {},
   "outputs": [],
   "source": [
    "uct = unconstrainedParticularSolution[\"amplitudes\"][\"transmission\"]"
   ]
  },
  {
   "cell_type": "code",
   "execution_count": 33,
   "id": "24ecdd62-81f7-4a6c-882a-9bf5730ef5b0",
   "metadata": {},
   "outputs": [],
   "source": [
    "uct = (uct * uct).expand()"
   ]
  },
  {
   "cell_type": "code",
   "execution_count": 34,
   "id": "5a3869f0-5fe7-4b3f-8309-5b8ad3b35981",
   "metadata": {},
   "outputs": [
    {
     "data": {
      "text/latex": [
       "$\\displaystyle \\frac{B_{1}^{2} e^{2 L_{0} k_{1}}}{e^{4 L_{0} k_{1}} - 2 e^{2 L_{0} k_{1}} e^{2 L_{1} k_{1}} + e^{4 L_{1} k_{1}}} - \\frac{2 B_{1} B_{2} e^{L_{0} k_{1}} e^{L_{1} k_{1}}}{e^{4 L_{0} k_{1}} - 2 e^{2 L_{0} k_{1}} e^{2 L_{1} k_{1}} + e^{4 L_{1} k_{1}}} + \\frac{B_{2}^{2} e^{2 L_{1} k_{1}}}{e^{4 L_{0} k_{1}} - 2 e^{2 L_{0} k_{1}} e^{2 L_{1} k_{1}} + e^{4 L_{1} k_{1}}}$"
      ],
      "text/plain": [
       "B_1**2*exp(2*L_0*k_1)/(exp(4*L_0*k_1) - 2*exp(2*L_0*k_1)*exp(2*L_1*k_1) + exp(4*L_1*k_1)) - 2*B_1*B_2*exp(L_0*k_1)*exp(L_1*k_1)/(exp(4*L_0*k_1) - 2*exp(2*L_0*k_1)*exp(2*L_1*k_1) + exp(4*L_1*k_1)) + B_2**2*exp(2*L_1*k_1)/(exp(4*L_0*k_1) - 2*exp(2*L_0*k_1)*exp(2*L_1*k_1) + exp(4*L_1*k_1))"
      ]
     },
     "execution_count": 34,
     "metadata": {},
     "output_type": "execute_result"
    }
   ],
   "source": [
    "uct"
   ]
  },
  {
   "cell_type": "code",
   "execution_count": null,
   "id": "6bba23ab-8eab-4f92-9ffb-f80f3f609fef",
   "metadata": {},
   "outputs": [],
   "source": []
  },
  {
   "cell_type": "code",
   "execution_count": 35,
   "id": "1a569b78-bf0d-44df-bcf7-f3242458087a",
   "metadata": {},
   "outputs": [
    {
     "data": {
      "text/latex": [
       "$\\displaystyle \\text{False}$"
      ],
      "text/plain": [
       "False"
      ]
     },
     "execution_count": 35,
     "metadata": {},
     "output_type": "execute_result"
    }
   ],
   "source": [
    "sp.Eq(uct, constrainedSolutions[\"constrainedParticularSolution\"][\"amplitudeConstrainedSolution\"][\"transmission\"])"
   ]
  },
  {
   "cell_type": "code",
   "execution_count": 36,
   "id": "81596dbf-a8cf-4aa9-b712-9027a0285f04",
   "metadata": {},
   "outputs": [
    {
     "ename": "KeyError",
     "evalue": "'transmission'",
     "output_type": "error",
     "traceback": [
      "\u001b[0;31m---------------------------------------------------------------------------\u001b[0m",
      "\u001b[0;31mKeyError\u001b[0m                                  Traceback (most recent call last)",
      "Input \u001b[0;32mIn [36]\u001b[0m, in \u001b[0;36m<cell line: 1>\u001b[0;34m()\u001b[0m\n\u001b[0;32m----> 1\u001b[0m \u001b[43mgenerateAmplitudeCoefficientNumericalFunctions\u001b[49m\u001b[43m(\u001b[49m\u001b[43mregionSymbols\u001b[49m\u001b[43m,\u001b[49m\u001b[43m \u001b[49m\u001b[43mwaveEquation\u001b[49m\u001b[43m,\u001b[49m\u001b[43m \u001b[49m\u001b[43mnormalization\u001b[49m\u001b[43m)\u001b[49m\n",
      "File \u001b[0;32m~/work/symbolic_py/new_attempt/stateless.py:623\u001b[0m, in \u001b[0;36mgenerateAmplitudeCoefficientNumericalFunctions\u001b[0;34m(regionSymbols, waveEquation, normalization)\u001b[0m\n\u001b[1;32m    618\u001b[0m \u001b[38;5;28;01mdef\u001b[39;00m \u001b[38;5;21mgenerateAmplitudeCoefficientNumericalFunctions\u001b[39m(\n\u001b[1;32m    619\u001b[0m             regionSymbols : RegionSymbols, \n\u001b[1;32m    620\u001b[0m             waveEquation : sp\u001b[38;5;241m.\u001b[39mEq, \n\u001b[1;32m    621\u001b[0m             normalization : sp\u001b[38;5;241m.\u001b[39mEq\n\u001b[1;32m    622\u001b[0m             ) \u001b[38;5;241m-\u001b[39m\u001b[38;5;241m>\u001b[39m \u001b[38;5;28mdict\u001b[39m:\n\u001b[0;32m--> 623\u001b[0m     amplitudeCoefficientEquations \u001b[38;5;241m=\u001b[39m \u001b[43mgenerateAmplitudCoefficientEquations\u001b[49m\u001b[43m(\u001b[49m\n\u001b[1;32m    624\u001b[0m \u001b[43m            \u001b[49m\u001b[43mregionSymbols\u001b[49m\u001b[43m,\u001b[49m\u001b[43m \u001b[49m\n\u001b[1;32m    625\u001b[0m \u001b[43m            \u001b[49m\u001b[43mwaveEquation\u001b[49m\u001b[43m,\u001b[49m\u001b[43m \u001b[49m\n\u001b[1;32m    626\u001b[0m \u001b[43m            \u001b[49m\u001b[43mnormalization\u001b[49m\n\u001b[1;32m    627\u001b[0m \u001b[43m        \u001b[49m\u001b[43m)\u001b[49m\n\u001b[1;32m    628\u001b[0m     constantAmplitudeCalculations \\\n\u001b[1;32m    629\u001b[0m             \u001b[38;5;241m=\u001b[39m generateAmplitudeCoefficientNumericalFunctionsFromComponentEquations(\n\u001b[1;32m    630\u001b[0m                     functionComponentEquations\n\u001b[1;32m    631\u001b[0m                 )\n",
      "File \u001b[0;32m~/work/symbolic_py/new_attempt/stateless.py:561\u001b[0m, in \u001b[0;36mgenerateAmplitudCoefficientEquations\u001b[0;34m(regionSymbols, waveEquation, normalization)\u001b[0m\n\u001b[1;32m    552\u001b[0m constrainedSolutions \u001b[38;5;241m=\u001b[39m solveForConstrainedAmplitudeCoefficients(\n\u001b[1;32m    553\u001b[0m         regionSymbols, \n\u001b[1;32m    554\u001b[0m         normalization, \n\u001b[1;32m    555\u001b[0m         unconstrainedParticularSolution\n\u001b[1;32m    556\u001b[0m     )\n\u001b[1;32m    557\u001b[0m constants \u001b[38;5;241m=\u001b[39m {\n\u001b[1;32m    558\u001b[0m         \u001b[38;5;124m\"\u001b[39m\u001b[38;5;124mtransmission\u001b[39m\u001b[38;5;124m\"\u001b[39m : regionSymbols\u001b[38;5;241m.\u001b[39mconstants[\u001b[38;5;241m0\u001b[39m], \n\u001b[1;32m    559\u001b[0m         \u001b[38;5;124m\"\u001b[39m\u001b[38;5;124mreflection\u001b[39m\u001b[38;5;124m\"\u001b[39m : regionSymbols\u001b[38;5;241m.\u001b[39mconstants[\u001b[38;5;241m1\u001b[39m]\n\u001b[1;32m    560\u001b[0m     }\n\u001b[0;32m--> 561\u001b[0m extrapolatedParts \u001b[38;5;241m=\u001b[39m \u001b[43mextrapolateAmplitudeCoefficientComponents\u001b[49m\u001b[43m(\u001b[49m\u001b[43mconstants\u001b[49m\u001b[43m,\u001b[49m\u001b[43m \u001b[49m\u001b[43mconstrainedSolutions\u001b[49m\u001b[43m)\u001b[49m\n\u001b[1;32m    562\u001b[0m \u001b[38;5;28;01mreturn\u001b[39;00m {\n\u001b[1;32m    563\u001b[0m         \u001b[38;5;124m\"\u001b[39m\u001b[38;5;124mregionSymbols\u001b[39m\u001b[38;5;124m\"\u001b[39m : regionSymbols, \n\u001b[1;32m    564\u001b[0m         \u001b[38;5;124m\"\u001b[39m\u001b[38;5;124mwaveFunction\u001b[39m\u001b[38;5;124m\"\u001b[39m : waveFunction, \n\u001b[0;32m   (...)\u001b[0m\n\u001b[1;32m    569\u001b[0m         \u001b[38;5;124m\"\u001b[39m\u001b[38;5;124mextrapolatedComponentsOfConstants\u001b[39m\u001b[38;5;124m\"\u001b[39m : extrapolatedParts\n\u001b[1;32m    570\u001b[0m     }\n",
      "File \u001b[0;32m~/work/symbolic_py/new_attempt/stateless.py:534\u001b[0m, in \u001b[0;36mextrapolateAmplitudeCoefficientComponents\u001b[0;34m(constants, constrainedAmplitudeParticularSolutions, waveKeys, radicandTag, inverseCoefficentTag, offsetTag, scalarTag)\u001b[0m\n\u001b[1;32m    532\u001b[0m current \u001b[38;5;241m=\u001b[39m extrapolated[constantName] \u001b[38;5;241m=\u001b[39m {}\n\u001b[1;32m    533\u001b[0m current[\u001b[38;5;124m\"\u001b[39m\u001b[38;5;124mcomponents\u001b[39m\u001b[38;5;124m\"\u001b[39m] \u001b[38;5;241m=\u001b[39m []\n\u001b[0;32m--> 534\u001b[0m \u001b[38;5;28;01mfor\u001b[39;00m solutionIndex, solution \u001b[38;5;129;01min\u001b[39;00m \u001b[38;5;28menumerate\u001b[39m(\u001b[43mconstrainedAmplitudeParticularSolutions\u001b[49m\u001b[43m[\u001b[49m\u001b[43mwave\u001b[49m\u001b[43m]\u001b[49m): \n\u001b[1;32m    535\u001b[0m     rootComponents \u001b[38;5;241m=\u001b[39m solution\u001b[38;5;241m.\u001b[39mmatch(root)\n\u001b[1;32m    536\u001b[0m     nameCompoment \u001b[38;5;241m=\u001b[39m \u001b[38;5;28;01mlambda\u001b[39;00m component : constantName \u001b[38;5;241m+\u001b[39m \u001b[38;5;28mstr\u001b[39m(solutionIndex) \u001b[38;5;241m+\u001b[39m \u001b[38;5;28mstr\u001b[39m(component)[:\u001b[38;5;241m-\u001b[39m\u001b[38;5;241m1\u001b[39m]\n",
      "\u001b[0;31mKeyError\u001b[0m: 'transmission'"
     ]
    }
   ],
   "source": [
    "generateAmplitudeCoefficientNumericalFunctions(regionSymbols, waveEquation, normalization)#constrainedSolutions[\"constrainedParticularSolution\"][\"amplitudeConstrainedSolutions\"])"
   ]
  },
  {
   "cell_type": "code",
   "execution_count": null,
   "id": "d171b3d8-eb20-4c84-8e90-93821c969341",
   "metadata": {},
   "outputs": [],
   "source": []
  },
  {
   "cell_type": "code",
   "execution_count": null,
   "id": "d86c8a3a-90ae-434d-9c9b-b4e89424b7ff",
   "metadata": {},
   "outputs": [],
   "source": [
    "constrainedSolutions[\"constrainedParticularSolution\"]"
   ]
  },
  {
   "cell_type": "code",
   "execution_count": null,
   "id": "b9b72396-feea-49a6-a9fb-428d8503b752",
   "metadata": {},
   "outputs": [],
   "source": [
    "constrainedSolutions"
   ]
  },
  {
   "cell_type": "code",
   "execution_count": null,
   "id": "39eb3736-0f50-4cb5-9e9d-c36cfef65f8f",
   "metadata": {},
   "outputs": [],
   "source": []
  }
 ],
 "metadata": {
  "kernelspec": {
   "display_name": "Python 3 (ipykernel)",
   "language": "python",
   "name": "python3"
  },
  "language_info": {
   "codemirror_mode": {
    "name": "ipython",
    "version": 3
   },
   "file_extension": ".py",
   "mimetype": "text/x-python",
   "name": "python",
   "nbconvert_exporter": "python",
   "pygments_lexer": "ipython3",
   "version": "3.10.5"
  }
 },
 "nbformat": 4,
 "nbformat_minor": 5
}
