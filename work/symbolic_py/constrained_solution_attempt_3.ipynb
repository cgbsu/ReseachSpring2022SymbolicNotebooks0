{
 "cells": [
  {
   "cell_type": "code",
   "execution_count": 1,
   "id": "ba83354b-7bae-4abc-ae3d-46a323509622",
   "metadata": {},
   "outputs": [],
   "source": [
    "from new_attempt.stateless import *"
   ]
  },
  {
   "cell_type": "code",
   "execution_count": 2,
   "id": "7961a18d-d541-4e92-91b4-b11ecdb4ac1b",
   "metadata": {},
   "outputs": [],
   "source": [
    "from custom_libraries.utilities import *"
   ]
  },
  {
   "cell_type": "code",
   "execution_count": 3,
   "id": "53a08e06-7e28-4cfc-86ad-942350bced0d",
   "metadata": {},
   "outputs": [],
   "source": [
    "import matplotlib.pyplot as plt"
   ]
  },
  {
   "cell_type": "code",
   "execution_count": 4,
   "id": "fd9f437e-4244-423e-a41b-354637d0f799",
   "metadata": {},
   "outputs": [],
   "source": [
    "import numpy as np"
   ]
  },
  {
   "cell_type": "code",
   "execution_count": null,
   "id": "33db7c3b-7e0b-42be-9813-a956d0137383",
   "metadata": {},
   "outputs": [],
   "source": []
  },
  {
   "cell_type": "code",
   "execution_count": 5,
   "id": "e1f97467-ea1f-49bd-92fc-724841372449",
   "metadata": {},
   "outputs": [],
   "source": [
    "regionSymbols = RegionSymbols(1)"
   ]
  },
  {
   "cell_type": "code",
   "execution_count": 6,
   "id": "29520e10-88cc-4f0b-9e1a-35fa1208350e",
   "metadata": {},
   "outputs": [],
   "source": [
    "customPlanck = sq.Symbol('hbarX', real = True, positive = True, nonzero = True)"
   ]
  },
  {
   "cell_type": "code",
   "execution_count": null,
   "id": "29bd19be-771f-4808-b794-2739550f6c15",
   "metadata": {},
   "outputs": [],
   "source": []
  },
  {
   "cell_type": "code",
   "execution_count": 7,
   "id": "546b341f-fc92-49c1-b077-6de14bcdb028",
   "metadata": {},
   "outputs": [],
   "source": [
    "waveEquation = constantPotentialTimeIndependentSchroedingerEquation1D(regionSymbols, reducedPlanckConstant = customPlanck)"
   ]
  },
  {
   "cell_type": "code",
   "execution_count": 8,
   "id": "30b7f4a4-a362-4352-8174-e8448d51e421",
   "metadata": {},
   "outputs": [
    {
     "data": {
      "text/latex": [
       "$\\displaystyle V_{1} \\psi_{1}{\\left(x \\right)} - \\frac{hbarX^{2} \\frac{d^{2}}{d x^{2}} \\psi_{1}{\\left(x \\right)}}{2 m} = E_{total} \\psi_{1}{\\left(x \\right)}$"
      ],
      "text/plain": [
       "Eq(V_1*psi_1(x) - hbarX**2*Derivative(psi_1(x), (x, 2))/(2*m), E_{total}*psi_1(x))"
      ]
     },
     "execution_count": 8,
     "metadata": {},
     "output_type": "execute_result"
    }
   ],
   "source": [
    "waveEquation"
   ]
  },
  {
   "cell_type": "code",
   "execution_count": 9,
   "id": "eb52afdb-3740-4acc-8dd7-171c70368740",
   "metadata": {},
   "outputs": [],
   "source": [
    "normalization = simpleWaveFunctionNormalization(regionSymbols.startDistance, regionSymbols.distance, regionSymbols)"
   ]
  },
  {
   "cell_type": "code",
   "execution_count": 10,
   "id": "ed2878ad-0da1-40c8-9c18-a6db9b46d290",
   "metadata": {},
   "outputs": [
    {
     "data": {
      "text/latex": [
       "$\\displaystyle \\int\\limits_{L_{0}}^{L_{1}} \\psi_{1}{\\left(x \\right)} \\overline{\\psi_{1}{\\left(x \\right)}}\\, dx = N_{1}$"
      ],
      "text/plain": [
       "Eq(Integral(psi_1(x)*conjugate(psi_1(x)), (x, L_0, L_1)), N_1)"
      ]
     },
     "execution_count": 10,
     "metadata": {},
     "output_type": "execute_result"
    }
   ],
   "source": [
    "normalization"
   ]
  },
  {
   "cell_type": "code",
   "execution_count": 11,
   "id": "051a2c3d-32e4-4de0-a4ee-92c91316824d",
   "metadata": {},
   "outputs": [],
   "source": [
    "generalSolution = createGeneralSolution(regionSymbols, waveEquation, normalization)"
   ]
  },
  {
   "cell_type": "code",
   "execution_count": null,
   "id": "62f0c4a6-6436-4546-9176-2e5280ca4526",
   "metadata": {},
   "outputs": [],
   "source": []
  },
  {
   "cell_type": "code",
   "execution_count": 12,
   "id": "203aa721-d365-4bec-baf6-d28752974403",
   "metadata": {},
   "outputs": [],
   "source": [
    "unconstrainedParticularSolution = solveUnconstrainedParticularSolution(regionSymbols, generalSolution)"
   ]
  },
  {
   "cell_type": "code",
   "execution_count": 13,
   "id": "9cff8bfd-ba78-4e24-b093-287b1bf4c389",
   "metadata": {},
   "outputs": [
    {
     "data": {
      "text/plain": [
       "{'transmission': B_1*exp(L_0*k_1)/(exp(2*L_0*k_1) - exp(2*L_1*k_1)) - B_2*exp(L_1*k_1)/(exp(2*L_0*k_1) - exp(2*L_1*k_1)),\n",
       " 'reflection': -B_1*exp(L_0*k_1)*exp(2*L_1*k_1)/(exp(2*L_0*k_1) - exp(2*L_1*k_1)) + B_2*exp(2*L_0*k_1)*exp(L_1*k_1)/(exp(2*L_0*k_1) - exp(2*L_1*k_1)),\n",
       " 'harmonicConstant': k_1}"
      ]
     },
     "execution_count": 13,
     "metadata": {},
     "output_type": "execute_result"
    }
   ],
   "source": [
    "unconstrainedParticularSolution[\"amplitudes\"]"
   ]
  },
  {
   "cell_type": "code",
   "execution_count": null,
   "id": "30e2479e-b5bf-4bf9-a027-6d66b5fbccdf",
   "metadata": {},
   "outputs": [],
   "source": []
  },
  {
   "cell_type": "code",
   "execution_count": 14,
   "id": "2b87ea54-e462-4298-91a5-b2bec94b6272",
   "metadata": {},
   "outputs": [
    {
     "data": {
      "text/latex": [
       "$\\displaystyle \\psi_{1}{\\left(x \\right)} = C_{{1}_r} e^{- k_{1} x} + C_{{1}_t} e^{k_{1} x}$"
      ],
      "text/plain": [
       "Eq(psi_1(x), C_{{1}_r}*exp(-k_1*x) + C_{{1}_t}*exp(k_1*x))"
      ]
     },
     "execution_count": 14,
     "metadata": {},
     "output_type": "execute_result"
    }
   ],
   "source": [
    "unconstrainedParticularSolution[\"exponential\"]"
   ]
  },
  {
   "cell_type": "code",
   "execution_count": 15,
   "id": "fc9e5d6f-0ad9-4d90-bd0e-bbf55cdb2781",
   "metadata": {},
   "outputs": [
    {
     "data": {
      "text/latex": [
       "$\\displaystyle \\frac{B_{1} e^{L_{0} k_{1}}}{e^{2 L_{0} k_{1}} - e^{2 L_{1} k_{1}}} - \\frac{B_{2} e^{L_{1} k_{1}}}{e^{2 L_{0} k_{1}} - e^{2 L_{1} k_{1}}}$"
      ],
      "text/plain": [
       "B_1*exp(L_0*k_1)/(exp(2*L_0*k_1) - exp(2*L_1*k_1)) - B_2*exp(L_1*k_1)/(exp(2*L_0*k_1) - exp(2*L_1*k_1))"
      ]
     },
     "execution_count": 15,
     "metadata": {},
     "output_type": "execute_result"
    }
   ],
   "source": [
    "unconstrainedParticularSolution[\"amplitudes\"][\"transmission\"]"
   ]
  },
  {
   "cell_type": "code",
   "execution_count": 16,
   "id": "784e841a-d8c5-416c-a682-d9364838130e",
   "metadata": {},
   "outputs": [
    {
     "data": {
      "text/latex": [
       "$\\displaystyle - \\frac{B_{1} e^{L_{0} k_{1}} e^{2 L_{1} k_{1}}}{e^{2 L_{0} k_{1}} - e^{2 L_{1} k_{1}}} + \\frac{B_{2} e^{2 L_{0} k_{1}} e^{L_{1} k_{1}}}{e^{2 L_{0} k_{1}} - e^{2 L_{1} k_{1}}}$"
      ],
      "text/plain": [
       "-B_1*exp(L_0*k_1)*exp(2*L_1*k_1)/(exp(2*L_0*k_1) - exp(2*L_1*k_1)) + B_2*exp(2*L_0*k_1)*exp(L_1*k_1)/(exp(2*L_0*k_1) - exp(2*L_1*k_1))"
      ]
     },
     "execution_count": 16,
     "metadata": {},
     "output_type": "execute_result"
    }
   ],
   "source": [
    "unconstrainedParticularSolution[\"amplitudes\"][\"reflection\"]"
   ]
  },
  {
   "cell_type": "code",
   "execution_count": null,
   "id": "af4e990e-5d8e-468d-bcc6-1dc8f330dbf8",
   "metadata": {},
   "outputs": [],
   "source": []
  },
  {
   "cell_type": "code",
   "execution_count": 17,
   "id": "4cb874d1-b031-4da2-9729-a8b10f002a1a",
   "metadata": {},
   "outputs": [],
   "source": [
    "integration = normalization.subs({regionSymbols.waveFunction(POSITION_SYMBOL) : unconstrainedParticularSolution[\"exponential\"].rhs}).doit()"
   ]
  },
  {
   "cell_type": "code",
   "execution_count": 18,
   "id": "a490e9d1-d132-4400-add5-f53e72db5548",
   "metadata": {},
   "outputs": [
    {
     "data": {
      "text/latex": [
       "$\\displaystyle - L_{0} \\left(C_{{1}_r} \\overline{C_{{1}_t}} + C_{{1}_t} \\overline{C_{{1}_r}}\\right) + L_{1} \\left(C_{{1}_r} \\overline{C_{{1}_t}} + C_{{1}_t} \\overline{C_{{1}_r}}\\right) + \\begin{cases} - \\frac{- 2 C_{{1}_r} k_{1} e^{- 2 L_{0} k_{1}} \\overline{C_{{1}_r}} + 2 C_{{1}_t} k_{1} e^{2 L_{0} k_{1}} \\overline{C_{{1}_t}}}{4 k_{1}^{2}} + \\frac{- 2 C_{{1}_r} k_{1} e^{- 2 L_{1} k_{1}} \\overline{C_{{1}_r}} + 2 C_{{1}_t} k_{1} e^{2 L_{1} k_{1}} \\overline{C_{{1}_t}}}{4 k_{1}^{2}} & \\text{for}\\: k_{1} \\neq 0 \\\\- L_{0} \\left(C_{{1}_r} \\overline{C_{{1}_r}} + C_{{1}_t} \\overline{C_{{1}_t}}\\right) + L_{1} \\left(C_{{1}_r} \\overline{C_{{1}_r}} + C_{{1}_t} \\overline{C_{{1}_t}}\\right) & \\text{otherwise} \\end{cases} = N_{1}$"
      ],
      "text/plain": [
       "Eq(-L_0*(C_{{1}_r}*conjugate(C_{{1}_t}) + C_{{1}_t}*conjugate(C_{{1}_r})) + L_1*(C_{{1}_r}*conjugate(C_{{1}_t}) + C_{{1}_t}*conjugate(C_{{1}_r})) + Piecewise((-(-2*C_{{1}_r}*k_1*exp(-2*L_0*k_1)*conjugate(C_{{1}_r}) + 2*C_{{1}_t}*k_1*exp(2*L_0*k_1)*conjugate(C_{{1}_t}))/(4*k_1**2) + (-2*C_{{1}_r}*k_1*exp(-2*L_1*k_1)*conjugate(C_{{1}_r}) + 2*C_{{1}_t}*k_1*exp(2*L_1*k_1)*conjugate(C_{{1}_t}))/(4*k_1**2), Ne(k_1, 0)), (-L_0*(C_{{1}_r}*conjugate(C_{{1}_r}) + C_{{1}_t}*conjugate(C_{{1}_t})) + L_1*(C_{{1}_r}*conjugate(C_{{1}_r}) + C_{{1}_t}*conjugate(C_{{1}_t})), True)), N_1)"
      ]
     },
     "execution_count": 18,
     "metadata": {},
     "output_type": "execute_result"
    }
   ],
   "source": [
    "integration"
   ]
  },
  {
   "cell_type": "code",
   "execution_count": 19,
   "id": "06b2c043-68c8-4dff-b42f-95aef061a3f6",
   "metadata": {},
   "outputs": [
    {
     "data": {
      "text/latex": [
       "$\\displaystyle - L_{0} \\left(C_{{1}_r} \\overline{C_{{1}_t}} + C_{{1}_t} \\overline{C_{{1}_r}}\\right) + L_{1} \\left(C_{{1}_r} \\overline{C_{{1}_t}} + C_{{1}_t} \\overline{C_{{1}_r}}\\right) + \\begin{cases} - \\frac{- 2 C_{{1}_r} k_{1} e^{- 2 L_{0} k_{1}} \\overline{C_{{1}_r}} + 2 C_{{1}_t} k_{1} e^{2 L_{0} k_{1}} \\overline{C_{{1}_t}}}{4 k_{1}^{2}} + \\frac{- 2 C_{{1}_r} k_{1} e^{- 2 L_{1} k_{1}} \\overline{C_{{1}_r}} + 2 C_{{1}_t} k_{1} e^{2 L_{1} k_{1}} \\overline{C_{{1}_t}}}{4 k_{1}^{2}} & \\text{for}\\: k_{1} \\neq 0 \\\\- L_{0} \\left(C_{{1}_r} \\overline{C_{{1}_r}} + C_{{1}_t} \\overline{C_{{1}_t}}\\right) + L_{1} \\left(C_{{1}_r} \\overline{C_{{1}_r}} + C_{{1}_t} \\overline{C_{{1}_t}}\\right) & \\text{otherwise} \\end{cases}$"
      ],
      "text/plain": [
       "-L_0*(C_{{1}_r}*conjugate(C_{{1}_t}) + C_{{1}_t}*conjugate(C_{{1}_r})) + L_1*(C_{{1}_r}*conjugate(C_{{1}_t}) + C_{{1}_t}*conjugate(C_{{1}_r})) + Piecewise((-(-2*C_{{1}_r}*k_1*exp(-2*L_0*k_1)*conjugate(C_{{1}_r}) + 2*C_{{1}_t}*k_1*exp(2*L_0*k_1)*conjugate(C_{{1}_t}))/(4*k_1**2) + (-2*C_{{1}_r}*k_1*exp(-2*L_1*k_1)*conjugate(C_{{1}_r}) + 2*C_{{1}_t}*k_1*exp(2*L_1*k_1)*conjugate(C_{{1}_t}))/(4*k_1**2), Ne(k_1, 0)), (-L_0*(C_{{1}_r}*conjugate(C_{{1}_r}) + C_{{1}_t}*conjugate(C_{{1}_t})) + L_1*(C_{{1}_r}*conjugate(C_{{1}_r}) + C_{{1}_t}*conjugate(C_{{1}_t})), True))"
      ]
     },
     "execution_count": 19,
     "metadata": {},
     "output_type": "execute_result"
    }
   ],
   "source": [
    "integration.lhs"
   ]
  },
  {
   "cell_type": "code",
   "execution_count": 20,
   "id": "f00279d5-8f9c-4d6c-b21c-992b8568de8a",
   "metadata": {},
   "outputs": [
    {
     "data": {
      "text/latex": [
       "$\\displaystyle - L_{0} \\left(C_{{1}_r} \\overline{C_{{1}_t}} + C_{{1}_t} \\overline{C_{{1}_r}}\\right) + L_{1} \\left(C_{{1}_r} \\overline{C_{{1}_t}} + C_{{1}_t} \\overline{C_{{1}_r}}\\right) + \\begin{cases} - \\frac{- 2 C_{{1}_r} k_{1} e^{- 2 L_{0} k_{1}} \\overline{C_{{1}_r}} + 2 C_{{1}_t} k_{1} e^{2 L_{0} k_{1}} \\overline{C_{{1}_t}}}{4 k_{1}^{2}} + \\frac{- 2 C_{{1}_r} k_{1} e^{- 2 L_{1} k_{1}} \\overline{C_{{1}_r}} + 2 C_{{1}_t} k_{1} e^{2 L_{1} k_{1}} \\overline{C_{{1}_t}}}{4 k_{1}^{2}} & \\text{for}\\: k_{1} \\neq 0 \\\\- L_{0} \\left(C_{{1}_r} \\overline{C_{{1}_r}} + C_{{1}_t} \\overline{C_{{1}_t}}\\right) + L_{1} \\left(C_{{1}_r} \\overline{C_{{1}_r}} + C_{{1}_t} \\overline{C_{{1}_t}}\\right) & \\text{otherwise} \\end{cases}$"
      ],
      "text/plain": [
       "-L_0*(C_{{1}_r}*conjugate(C_{{1}_t}) + C_{{1}_t}*conjugate(C_{{1}_r})) + L_1*(C_{{1}_r}*conjugate(C_{{1}_t}) + C_{{1}_t}*conjugate(C_{{1}_r})) + Piecewise((-(-2*C_{{1}_r}*k_1*exp(-2*L_0*k_1)*conjugate(C_{{1}_r}) + 2*C_{{1}_t}*k_1*exp(2*L_0*k_1)*conjugate(C_{{1}_t}))/(4*k_1**2) + (-2*C_{{1}_r}*k_1*exp(-2*L_1*k_1)*conjugate(C_{{1}_r}) + 2*C_{{1}_t}*k_1*exp(2*L_1*k_1)*conjugate(C_{{1}_t}))/(4*k_1**2), Ne(k_1, 0)), (-L_0*(C_{{1}_r}*conjugate(C_{{1}_r}) + C_{{1}_t}*conjugate(C_{{1}_t})) + L_1*(C_{{1}_r}*conjugate(C_{{1}_r}) + C_{{1}_t}*conjugate(C_{{1}_t})), True))"
      ]
     },
     "execution_count": 20,
     "metadata": {},
     "output_type": "execute_result"
    }
   ],
   "source": [
    "integration.lhs"
   ]
  },
  {
   "cell_type": "code",
   "execution_count": null,
   "id": "78b3478e-baf3-464c-bb09-3dbb9083ce5b",
   "metadata": {},
   "outputs": [],
   "source": []
  },
  {
   "cell_type": "code",
   "execution_count": null,
   "id": "f1408d23-6c51-436d-9800-333394aee63f",
   "metadata": {},
   "outputs": [],
   "source": []
  },
  {
   "cell_type": "code",
   "execution_count": 21,
   "id": "b32f92a9-198f-4c1b-aa88-2c6b92424505",
   "metadata": {},
   "outputs": [],
   "source": [
    "extractedConditions = extractNonZero(integration.lhs)"
   ]
  },
  {
   "cell_type": "code",
   "execution_count": 22,
   "id": "62676a37-00bc-4368-b2d1-e39945a67cdd",
   "metadata": {},
   "outputs": [],
   "source": [
    "nonZeroNormalizationCase = sp.Eq(extractedConditions[\"rest\"] + extractedConditions[\"nonZero\"], integration.rhs)"
   ]
  },
  {
   "cell_type": "code",
   "execution_count": 23,
   "id": "5dcabb08-f6c7-442b-9a52-06afcce82390",
   "metadata": {},
   "outputs": [
    {
     "data": {
      "text/latex": [
       "$\\displaystyle - L_{0} \\left(C_{{1}_r} \\overline{C_{{1}_t}} + C_{{1}_t} \\overline{C_{{1}_r}}\\right) + L_{1} \\left(C_{{1}_r} \\overline{C_{{1}_t}} + C_{{1}_t} \\overline{C_{{1}_r}}\\right) - \\frac{- 2 C_{{1}_r} k_{1} e^{- 2 L_{0} k_{1}} \\overline{C_{{1}_r}} + 2 C_{{1}_t} k_{1} e^{2 L_{0} k_{1}} \\overline{C_{{1}_t}}}{4 k_{1}^{2}} + \\frac{- 2 C_{{1}_r} k_{1} e^{- 2 L_{1} k_{1}} \\overline{C_{{1}_r}} + 2 C_{{1}_t} k_{1} e^{2 L_{1} k_{1}} \\overline{C_{{1}_t}}}{4 k_{1}^{2}} = N_{1}$"
      ],
      "text/plain": [
       "Eq(-L_0*(C_{{1}_r}*conjugate(C_{{1}_t}) + C_{{1}_t}*conjugate(C_{{1}_r})) + L_1*(C_{{1}_r}*conjugate(C_{{1}_t}) + C_{{1}_t}*conjugate(C_{{1}_r})) - (-2*C_{{1}_r}*k_1*exp(-2*L_0*k_1)*conjugate(C_{{1}_r}) + 2*C_{{1}_t}*k_1*exp(2*L_0*k_1)*conjugate(C_{{1}_t}))/(4*k_1**2) + (-2*C_{{1}_r}*k_1*exp(-2*L_1*k_1)*conjugate(C_{{1}_r}) + 2*C_{{1}_t}*k_1*exp(2*L_1*k_1)*conjugate(C_{{1}_t}))/(4*k_1**2), N_1)"
      ]
     },
     "execution_count": 23,
     "metadata": {},
     "output_type": "execute_result"
    }
   ],
   "source": [
    "nonZeroNormalizationCase"
   ]
  },
  {
   "cell_type": "code",
   "execution_count": 24,
   "id": "22f28ae5-637c-49a5-80f6-a563c2dbe454",
   "metadata": {},
   "outputs": [],
   "source": [
    "c0solutions = sp.solve(nonZeroNormalizationCase,  regionSymbols.constants[0])"
   ]
  },
  {
   "cell_type": "code",
   "execution_count": null,
   "id": "bdef62f9-cd87-434b-bd2d-aa72174be182",
   "metadata": {},
   "outputs": [],
   "source": []
  },
  {
   "cell_type": "code",
   "execution_count": 25,
   "id": "bc7881db-ea02-4b3e-8038-83bd39248efc",
   "metadata": {},
   "outputs": [
    {
     "data": {
      "text/plain": [
       "2"
      ]
     },
     "execution_count": 25,
     "metadata": {},
     "output_type": "execute_result"
    }
   ],
   "source": [
    "len(c0solutions)"
   ]
  },
  {
   "cell_type": "code",
   "execution_count": 26,
   "id": "9cbc5f8f-828d-42af-a2d4-32e0bc3b433c",
   "metadata": {},
   "outputs": [
    {
     "data": {
      "text/latex": [
       "$\\displaystyle \\frac{\\left(- 2 C_{{1}_r} L_{0} k_{1} e^{k_{1} \\left(L_{0} + L_{1}\\right)} + 2 C_{{1}_r} L_{1} k_{1} e^{k_{1} \\left(L_{0} + L_{1}\\right)} - \\sqrt{4 C_{{1}_r}^{2} L_{0}^{2} k_{1}^{2} e^{2 k_{1} \\left(L_{0} + L_{1}\\right)} - 8 C_{{1}_r}^{2} L_{0} L_{1} k_{1}^{2} e^{2 k_{1} \\left(L_{0} + L_{1}\\right)} + 4 C_{{1}_r}^{2} L_{1}^{2} k_{1}^{2} e^{2 k_{1} \\left(L_{0} + L_{1}\\right)} - C_{{1}_r}^{2} e^{4 L_{0} k_{1}} - C_{{1}_r}^{2} e^{4 L_{1} k_{1}} + 2 C_{{1}_r}^{2} e^{2 k_{1} \\left(L_{0} + L_{1}\\right)} + 2 N_{1} k_{1} e^{2 k_{1} \\left(L_{0} + 2 L_{1}\\right)} - 2 N_{1} k_{1} e^{2 k_{1} \\cdot \\left(2 L_{0} + L_{1}\\right)}}\\right) e^{- k_{1} \\left(L_{0} + L_{1}\\right)}}{e^{2 L_{0} k_{1}} - e^{2 L_{1} k_{1}}}$"
      ],
      "text/plain": [
       "(-2*C_{{1}_r}*L_0*k_1*exp(k_1*(L_0 + L_1)) + 2*C_{{1}_r}*L_1*k_1*exp(k_1*(L_0 + L_1)) - sqrt(4*C_{{1}_r}**2*L_0**2*k_1**2*exp(2*k_1*(L_0 + L_1)) - 8*C_{{1}_r}**2*L_0*L_1*k_1**2*exp(2*k_1*(L_0 + L_1)) + 4*C_{{1}_r}**2*L_1**2*k_1**2*exp(2*k_1*(L_0 + L_1)) - C_{{1}_r}**2*exp(4*L_0*k_1) - C_{{1}_r}**2*exp(4*L_1*k_1) + 2*C_{{1}_r}**2*exp(2*k_1*(L_0 + L_1)) + 2*N_1*k_1*exp(2*k_1*(L_0 + 2*L_1)) - 2*N_1*k_1*exp(2*k_1*(2*L_0 + L_1))))*exp(-k_1*(L_0 + L_1))/(exp(2*L_0*k_1) - exp(2*L_1*k_1))"
      ]
     },
     "execution_count": 26,
     "metadata": {},
     "output_type": "execute_result"
    }
   ],
   "source": [
    "c0solutions[0]"
   ]
  },
  {
   "cell_type": "code",
   "execution_count": 27,
   "id": "5252caa3-d343-41e1-89a6-5b49b47f0dd7",
   "metadata": {},
   "outputs": [
    {
     "data": {
      "text/latex": [
       "$\\displaystyle \\frac{\\left(- 2 C_{{1}_r} L_{0} k_{1} e^{k_{1} \\left(L_{0} + L_{1}\\right)} + 2 C_{{1}_r} L_{1} k_{1} e^{k_{1} \\left(L_{0} + L_{1}\\right)} + \\sqrt{4 C_{{1}_r}^{2} L_{0}^{2} k_{1}^{2} e^{2 k_{1} \\left(L_{0} + L_{1}\\right)} - 8 C_{{1}_r}^{2} L_{0} L_{1} k_{1}^{2} e^{2 k_{1} \\left(L_{0} + L_{1}\\right)} + 4 C_{{1}_r}^{2} L_{1}^{2} k_{1}^{2} e^{2 k_{1} \\left(L_{0} + L_{1}\\right)} - C_{{1}_r}^{2} e^{4 L_{0} k_{1}} - C_{{1}_r}^{2} e^{4 L_{1} k_{1}} + 2 C_{{1}_r}^{2} e^{2 k_{1} \\left(L_{0} + L_{1}\\right)} + 2 N_{1} k_{1} e^{2 k_{1} \\left(L_{0} + 2 L_{1}\\right)} - 2 N_{1} k_{1} e^{2 k_{1} \\cdot \\left(2 L_{0} + L_{1}\\right)}}\\right) e^{- k_{1} \\left(L_{0} + L_{1}\\right)}}{e^{2 L_{0} k_{1}} - e^{2 L_{1} k_{1}}}$"
      ],
      "text/plain": [
       "(-2*C_{{1}_r}*L_0*k_1*exp(k_1*(L_0 + L_1)) + 2*C_{{1}_r}*L_1*k_1*exp(k_1*(L_0 + L_1)) + sqrt(4*C_{{1}_r}**2*L_0**2*k_1**2*exp(2*k_1*(L_0 + L_1)) - 8*C_{{1}_r}**2*L_0*L_1*k_1**2*exp(2*k_1*(L_0 + L_1)) + 4*C_{{1}_r}**2*L_1**2*k_1**2*exp(2*k_1*(L_0 + L_1)) - C_{{1}_r}**2*exp(4*L_0*k_1) - C_{{1}_r}**2*exp(4*L_1*k_1) + 2*C_{{1}_r}**2*exp(2*k_1*(L_0 + L_1)) + 2*N_1*k_1*exp(2*k_1*(L_0 + 2*L_1)) - 2*N_1*k_1*exp(2*k_1*(2*L_0 + L_1))))*exp(-k_1*(L_0 + L_1))/(exp(2*L_0*k_1) - exp(2*L_1*k_1))"
      ]
     },
     "execution_count": 27,
     "metadata": {},
     "output_type": "execute_result"
    }
   ],
   "source": [
    "c0solutions[1]"
   ]
  },
  {
   "cell_type": "code",
   "execution_count": null,
   "id": "5a5b8147-a8c4-4505-bd80-320b5a952bce",
   "metadata": {},
   "outputs": [],
   "source": []
  },
  {
   "cell_type": "code",
   "execution_count": 28,
   "id": "594bb28a-c4fa-41b3-b915-7659c11b7de9",
   "metadata": {},
   "outputs": [],
   "source": [
    "c1solutions = sp.solve(nonZeroNormalizationCase, regionSymbols.constants[1])"
   ]
  },
  {
   "cell_type": "code",
   "execution_count": 29,
   "id": "e67c3ea7-80fe-460e-bf32-9d6bbdf639d8",
   "metadata": {},
   "outputs": [
    {
     "data": {
      "text/plain": [
       "2"
      ]
     },
     "execution_count": 29,
     "metadata": {},
     "output_type": "execute_result"
    }
   ],
   "source": [
    "len(c1solutions)"
   ]
  },
  {
   "cell_type": "code",
   "execution_count": 30,
   "id": "5ee590c3-521a-46e8-9253-3cef3c50a490",
   "metadata": {},
   "outputs": [
    {
     "data": {
      "text/latex": [
       "$\\displaystyle \\frac{\\left(- 2 C_{{1}_t} L_{0} k_{1} e^{k_{1} \\left(L_{0} + L_{1}\\right)} + 2 C_{{1}_t} L_{1} k_{1} e^{k_{1} \\left(L_{0} + L_{1}\\right)} - \\sqrt{4 C_{{1}_t}^{2} L_{0}^{2} k_{1}^{2} e^{2 k_{1} \\left(L_{0} + L_{1}\\right)} - 8 C_{{1}_t}^{2} L_{0} L_{1} k_{1}^{2} e^{2 k_{1} \\left(L_{0} + L_{1}\\right)} + 4 C_{{1}_t}^{2} L_{1}^{2} k_{1}^{2} e^{2 k_{1} \\left(L_{0} + L_{1}\\right)} - C_{{1}_t}^{2} e^{4 L_{0} k_{1}} - C_{{1}_t}^{2} e^{4 L_{1} k_{1}} + 2 C_{{1}_t}^{2} e^{2 k_{1} \\left(L_{0} + L_{1}\\right)} - 2 N_{1} k_{1} e^{2 L_{0} k_{1}} + 2 N_{1} k_{1} e^{2 L_{1} k_{1}}}\\right) e^{k_{1} \\left(L_{0} + L_{1}\\right)}}{e^{2 L_{0} k_{1}} - e^{2 L_{1} k_{1}}}$"
      ],
      "text/plain": [
       "(-2*C_{{1}_t}*L_0*k_1*exp(k_1*(L_0 + L_1)) + 2*C_{{1}_t}*L_1*k_1*exp(k_1*(L_0 + L_1)) - sqrt(4*C_{{1}_t}**2*L_0**2*k_1**2*exp(2*k_1*(L_0 + L_1)) - 8*C_{{1}_t}**2*L_0*L_1*k_1**2*exp(2*k_1*(L_0 + L_1)) + 4*C_{{1}_t}**2*L_1**2*k_1**2*exp(2*k_1*(L_0 + L_1)) - C_{{1}_t}**2*exp(4*L_0*k_1) - C_{{1}_t}**2*exp(4*L_1*k_1) + 2*C_{{1}_t}**2*exp(2*k_1*(L_0 + L_1)) - 2*N_1*k_1*exp(2*L_0*k_1) + 2*N_1*k_1*exp(2*L_1*k_1)))*exp(k_1*(L_0 + L_1))/(exp(2*L_0*k_1) - exp(2*L_1*k_1))"
      ]
     },
     "execution_count": 30,
     "metadata": {},
     "output_type": "execute_result"
    }
   ],
   "source": [
    "c1solutions[0]"
   ]
  },
  {
   "cell_type": "code",
   "execution_count": 31,
   "id": "e53873fa-b935-4a5a-9525-cb95491d7778",
   "metadata": {},
   "outputs": [
    {
     "data": {
      "text/latex": [
       "$\\displaystyle \\frac{\\left(- 2 C_{{1}_t} L_{0} k_{1} e^{k_{1} \\left(L_{0} + L_{1}\\right)} + 2 C_{{1}_t} L_{1} k_{1} e^{k_{1} \\left(L_{0} + L_{1}\\right)} + \\sqrt{4 C_{{1}_t}^{2} L_{0}^{2} k_{1}^{2} e^{2 k_{1} \\left(L_{0} + L_{1}\\right)} - 8 C_{{1}_t}^{2} L_{0} L_{1} k_{1}^{2} e^{2 k_{1} \\left(L_{0} + L_{1}\\right)} + 4 C_{{1}_t}^{2} L_{1}^{2} k_{1}^{2} e^{2 k_{1} \\left(L_{0} + L_{1}\\right)} - C_{{1}_t}^{2} e^{4 L_{0} k_{1}} - C_{{1}_t}^{2} e^{4 L_{1} k_{1}} + 2 C_{{1}_t}^{2} e^{2 k_{1} \\left(L_{0} + L_{1}\\right)} - 2 N_{1} k_{1} e^{2 L_{0} k_{1}} + 2 N_{1} k_{1} e^{2 L_{1} k_{1}}}\\right) e^{k_{1} \\left(L_{0} + L_{1}\\right)}}{e^{2 L_{0} k_{1}} - e^{2 L_{1} k_{1}}}$"
      ],
      "text/plain": [
       "(-2*C_{{1}_t}*L_0*k_1*exp(k_1*(L_0 + L_1)) + 2*C_{{1}_t}*L_1*k_1*exp(k_1*(L_0 + L_1)) + sqrt(4*C_{{1}_t}**2*L_0**2*k_1**2*exp(2*k_1*(L_0 + L_1)) - 8*C_{{1}_t}**2*L_0*L_1*k_1**2*exp(2*k_1*(L_0 + L_1)) + 4*C_{{1}_t}**2*L_1**2*k_1**2*exp(2*k_1*(L_0 + L_1)) - C_{{1}_t}**2*exp(4*L_0*k_1) - C_{{1}_t}**2*exp(4*L_1*k_1) + 2*C_{{1}_t}**2*exp(2*k_1*(L_0 + L_1)) - 2*N_1*k_1*exp(2*L_0*k_1) + 2*N_1*k_1*exp(2*L_1*k_1)))*exp(k_1*(L_0 + L_1))/(exp(2*L_0*k_1) - exp(2*L_1*k_1))"
      ]
     },
     "execution_count": 31,
     "metadata": {},
     "output_type": "execute_result"
    }
   ],
   "source": [
    "c1solutions[1]"
   ]
  },
  {
   "cell_type": "code",
   "execution_count": null,
   "id": "988719d2-6eaf-4d31-801b-a20ba9227d7a",
   "metadata": {},
   "outputs": [],
   "source": []
  },
  {
   "cell_type": "code",
   "execution_count": 32,
   "id": "efbc228f-8905-48d7-b251-0df4aa23c93a",
   "metadata": {},
   "outputs": [],
   "source": [
    "c0Equation = sp.Eq(unconstrainedParticularSolution[\"amplitudes\"][\"transmission\"] * unconstrainedParticularSolution[\"amplitudes\"][\"transmission\"], (c0solutions[0] * c0solutions[1]).simplify())"
   ]
  },
  {
   "cell_type": "code",
   "execution_count": 33,
   "id": "c89ab043-0760-41af-a785-ccbcb96ee7a5",
   "metadata": {},
   "outputs": [
    {
     "data": {
      "text/latex": [
       "$\\displaystyle \\left(\\frac{B_{1} e^{L_{0} k_{1}}}{e^{2 L_{0} k_{1}} - e^{2 L_{1} k_{1}}} - \\frac{B_{2} e^{L_{1} k_{1}}}{e^{2 L_{0} k_{1}} - e^{2 L_{1} k_{1}}}\\right)^{2} = \\frac{\\left(C_{{1}_r}^{2} e^{2 L_{0} k_{1}} - C_{{1}_r}^{2} e^{2 L_{1} k_{1}} + 2 N_{1} k_{1} e^{2 k_{1} \\left(L_{0} + L_{1}\\right)}\\right) e^{- 2 k_{1} \\left(L_{0} + L_{1}\\right)}}{e^{2 L_{0} k_{1}} - e^{2 L_{1} k_{1}}}$"
      ],
      "text/plain": [
       "Eq((B_1*exp(L_0*k_1)/(exp(2*L_0*k_1) - exp(2*L_1*k_1)) - B_2*exp(L_1*k_1)/(exp(2*L_0*k_1) - exp(2*L_1*k_1)))**2, (C_{{1}_r}**2*exp(2*L_0*k_1) - C_{{1}_r}**2*exp(2*L_1*k_1) + 2*N_1*k_1*exp(2*k_1*(L_0 + L_1)))*exp(-2*k_1*(L_0 + L_1))/(exp(2*L_0*k_1) - exp(2*L_1*k_1)))"
      ]
     },
     "execution_count": 33,
     "metadata": {},
     "output_type": "execute_result"
    }
   ],
   "source": [
    "c0Equation"
   ]
  },
  {
   "cell_type": "code",
   "execution_count": null,
   "id": "4708ef77-301d-4818-9137-de265e3ec8f6",
   "metadata": {},
   "outputs": [],
   "source": []
  },
  {
   "cell_type": "code",
   "execution_count": 35,
   "id": "d5651ad4-699d-44f7-ad0b-f0e52e2a474b",
   "metadata": {},
   "outputs": [
    {
     "data": {
      "text/latex": [
       "$\\displaystyle \\left(\\frac{B_{1} e^{L_{0} k_{1}}}{e^{2 L_{0} k_{1}} - e^{2 L_{1} k_{1}}} - \\frac{B_{2} e^{L_{1} k_{1}}}{e^{2 L_{0} k_{1}} - e^{2 L_{1} k_{1}}}\\right)^{2} = \\frac{\\left(C_{{1}_r}^{2} e^{2 L_{0} k_{1}} - C_{{1}_r}^{2} e^{2 L_{1} k_{1}} + 2 N_{1} k_{1} e^{2 k_{1} \\left(L_{0} + L_{1}\\right)}\\right) e^{- 2 k_{1} \\left(L_{0} + L_{1}\\right)}}{e^{2 L_{0} k_{1}} - e^{2 L_{1} k_{1}}}$"
      ],
      "text/plain": [
       "Eq((B_1*exp(L_0*k_1)/(exp(2*L_0*k_1) - exp(2*L_1*k_1)) - B_2*exp(L_1*k_1)/(exp(2*L_0*k_1) - exp(2*L_1*k_1)))**2, (C_{{1}_r}**2*exp(2*L_0*k_1) - C_{{1}_r}**2*exp(2*L_1*k_1) + 2*N_1*k_1*exp(2*k_1*(L_0 + L_1)))*exp(-2*k_1*(L_0 + L_1))/(exp(2*L_0*k_1) - exp(2*L_1*k_1)))"
      ]
     },
     "execution_count": 35,
     "metadata": {},
     "output_type": "execute_result"
    }
   ],
   "source": [
    "c0Equation"
   ]
  },
  {
   "cell_type": "code",
   "execution_count": 36,
   "id": "46a00df7-f0d4-475f-a343-4104e54942a7",
   "metadata": {},
   "outputs": [],
   "source": [
    "c1solutions.append(sp.solve(c0Equation, regionSymbols.constants[1]))"
   ]
  },
  {
   "cell_type": "code",
   "execution_count": 37,
   "id": "8e304259-49a3-45ad-9e20-6a137020f953",
   "metadata": {},
   "outputs": [
    {
     "data": {
      "text/plain": [
       "2"
      ]
     },
     "execution_count": 37,
     "metadata": {},
     "output_type": "execute_result"
    }
   ],
   "source": [
    "len(c1solutions[2])"
   ]
  },
  {
   "cell_type": "code",
   "execution_count": 38,
   "id": "bcbccc51-5401-4e02-9132-ffb4976839f6",
   "metadata": {},
   "outputs": [
    {
     "data": {
      "text/latex": [
       "$\\displaystyle - \\frac{\\sqrt{B_{1}^{2} e^{2 L_{0} k_{1}} - 2 B_{1} B_{2} e^{k_{1} \\left(L_{0} + L_{1}\\right)} + B_{2}^{2} e^{2 L_{1} k_{1}} - 2 N_{1} k_{1} e^{2 L_{0} k_{1}} + 2 N_{1} k_{1} e^{2 L_{1} k_{1}}} e^{k_{1} \\left(L_{0} + L_{1}\\right)}}{e^{2 L_{0} k_{1}} - e^{2 L_{1} k_{1}}}$"
      ],
      "text/plain": [
       "-sqrt(B_1**2*exp(2*L_0*k_1) - 2*B_1*B_2*exp(k_1*(L_0 + L_1)) + B_2**2*exp(2*L_1*k_1) - 2*N_1*k_1*exp(2*L_0*k_1) + 2*N_1*k_1*exp(2*L_1*k_1))*exp(k_1*(L_0 + L_1))/(exp(2*L_0*k_1) - exp(2*L_1*k_1))"
      ]
     },
     "execution_count": 38,
     "metadata": {},
     "output_type": "execute_result"
    }
   ],
   "source": [
    "c1solutions[2][0]"
   ]
  },
  {
   "cell_type": "code",
   "execution_count": 39,
   "id": "afa96b90-ba68-4407-b5c0-5fe748e9257a",
   "metadata": {},
   "outputs": [
    {
     "data": {
      "text/latex": [
       "$\\displaystyle \\frac{\\sqrt{B_{1}^{2} e^{2 L_{0} k_{1}} - 2 B_{1} B_{2} e^{k_{1} \\left(L_{0} + L_{1}\\right)} + B_{2}^{2} e^{2 L_{1} k_{1}} - 2 N_{1} k_{1} e^{2 L_{0} k_{1}} + 2 N_{1} k_{1} e^{2 L_{1} k_{1}}} e^{k_{1} \\left(L_{0} + L_{1}\\right)}}{e^{2 L_{0} k_{1}} - e^{2 L_{1} k_{1}}}$"
      ],
      "text/plain": [
       "sqrt(B_1**2*exp(2*L_0*k_1) - 2*B_1*B_2*exp(k_1*(L_0 + L_1)) + B_2**2*exp(2*L_1*k_1) - 2*N_1*k_1*exp(2*L_0*k_1) + 2*N_1*k_1*exp(2*L_1*k_1))*exp(k_1*(L_0 + L_1))/(exp(2*L_0*k_1) - exp(2*L_1*k_1))"
      ]
     },
     "execution_count": 39,
     "metadata": {},
     "output_type": "execute_result"
    }
   ],
   "source": [
    "c1solutions[2][1]"
   ]
  },
  {
   "cell_type": "code",
   "execution_count": 40,
   "id": "237a9afe-fded-4f83-87ea-f9f84dfbedf6",
   "metadata": {},
   "outputs": [],
   "source": [
    "c1ConstrainedSolution = sp.Eq(regionSymbols.constants[1] ** 2, (c1solutions[2][0] * c1solutions[2][1]).simplify().refine())"
   ]
  },
  {
   "cell_type": "code",
   "execution_count": 41,
   "id": "5c6b7b03-a7d4-42a6-9679-2ac9cfd20281",
   "metadata": {},
   "outputs": [
    {
     "data": {
      "text/latex": [
       "$\\displaystyle C_{{1}_r}^{2} = \\frac{\\left(- B_{1}^{2} e^{2 L_{0} k_{1}} + 2 B_{1} B_{2} e^{k_{1} \\left(L_{0} + L_{1}\\right)} - B_{2}^{2} e^{2 L_{1} k_{1}} + 2 N_{1} k_{1} e^{2 L_{0} k_{1}} - 2 N_{1} k_{1} e^{2 L_{1} k_{1}}\\right) e^{2 k_{1} \\left(L_{0} + L_{1}\\right)}}{\\left(e^{2 L_{0} k_{1}} - e^{2 L_{1} k_{1}}\\right)^{2}}$"
      ],
      "text/plain": [
       "Eq(C_{{1}_r}**2, (-B_1**2*exp(2*L_0*k_1) + 2*B_1*B_2*exp(k_1*(L_0 + L_1)) - B_2**2*exp(2*L_1*k_1) + 2*N_1*k_1*exp(2*L_0*k_1) - 2*N_1*k_1*exp(2*L_1*k_1))*exp(2*k_1*(L_0 + L_1))/(exp(2*L_0*k_1) - exp(2*L_1*k_1))**2)"
      ]
     },
     "execution_count": 41,
     "metadata": {},
     "output_type": "execute_result"
    }
   ],
   "source": [
    "c1ConstrainedSolution"
   ]
  },
  {
   "cell_type": "code",
   "execution_count": 42,
   "id": "1aed875a-f547-49ac-84d3-9f7684b21985",
   "metadata": {},
   "outputs": [],
   "source": [
    "c1Equation = sp.Eq(unconstrainedParticularSolution[\"amplitudes\"][\"reflection\"] * unconstrainedParticularSolution[\"amplitudes\"][\"reflection\"], (c1solutions[0] * c1solutions[1]).simplify())"
   ]
  },
  {
   "cell_type": "code",
   "execution_count": 43,
   "id": "31b31a95-2434-49e0-b993-dddae473b039",
   "metadata": {},
   "outputs": [
    {
     "data": {
      "text/latex": [
       "$\\displaystyle \\left(- \\frac{B_{1} e^{L_{0} k_{1}} e^{2 L_{1} k_{1}}}{e^{2 L_{0} k_{1}} - e^{2 L_{1} k_{1}}} + \\frac{B_{2} e^{2 L_{0} k_{1}} e^{L_{1} k_{1}}}{e^{2 L_{0} k_{1}} - e^{2 L_{1} k_{1}}}\\right)^{2} = \\frac{\\left(C_{{1}_t}^{2} e^{2 L_{0} k_{1}} - C_{{1}_t}^{2} e^{2 L_{1} k_{1}} + 2 N_{1} k_{1}\\right) e^{2 k_{1} \\left(L_{0} + L_{1}\\right)}}{e^{2 L_{0} k_{1}} - e^{2 L_{1} k_{1}}}$"
      ],
      "text/plain": [
       "Eq((-B_1*exp(L_0*k_1)*exp(2*L_1*k_1)/(exp(2*L_0*k_1) - exp(2*L_1*k_1)) + B_2*exp(2*L_0*k_1)*exp(L_1*k_1)/(exp(2*L_0*k_1) - exp(2*L_1*k_1)))**2, (C_{{1}_t}**2*exp(2*L_0*k_1) - C_{{1}_t}**2*exp(2*L_1*k_1) + 2*N_1*k_1)*exp(2*k_1*(L_0 + L_1))/(exp(2*L_0*k_1) - exp(2*L_1*k_1)))"
      ]
     },
     "execution_count": 43,
     "metadata": {},
     "output_type": "execute_result"
    }
   ],
   "source": [
    "c1Equation"
   ]
  },
  {
   "cell_type": "code",
   "execution_count": 44,
   "id": "fdc95c50-723a-42b0-bbfb-611bd5a0fec1",
   "metadata": {},
   "outputs": [],
   "source": [
    "c0solutions.append(sp.solve(c1Equation, regionSymbols.constants[0]))"
   ]
  },
  {
   "cell_type": "code",
   "execution_count": 45,
   "id": "45f60eda-f7af-4824-85a4-18e43749df0a",
   "metadata": {},
   "outputs": [
    {
     "data": {
      "text/plain": [
       "2"
      ]
     },
     "execution_count": 45,
     "metadata": {},
     "output_type": "execute_result"
    }
   ],
   "source": [
    "len(c0solutions[2])"
   ]
  },
  {
   "cell_type": "code",
   "execution_count": 46,
   "id": "2e005436-283b-4e30-af1b-78aeb731e6ed",
   "metadata": {},
   "outputs": [
    {
     "data": {
      "text/latex": [
       "$\\displaystyle - \\frac{\\sqrt{B_{1}^{2} e^{2 L_{1} k_{1}} - 2 B_{1} B_{2} e^{k_{1} \\left(L_{0} + L_{1}\\right)} + B_{2}^{2} e^{2 L_{0} k_{1}} - 2 N_{1} k_{1} e^{2 L_{0} k_{1}} + 2 N_{1} k_{1} e^{2 L_{1} k_{1}}}}{e^{2 L_{0} k_{1}} - e^{2 L_{1} k_{1}}}$"
      ],
      "text/plain": [
       "-sqrt(B_1**2*exp(2*L_1*k_1) - 2*B_1*B_2*exp(k_1*(L_0 + L_1)) + B_2**2*exp(2*L_0*k_1) - 2*N_1*k_1*exp(2*L_0*k_1) + 2*N_1*k_1*exp(2*L_1*k_1))/(exp(2*L_0*k_1) - exp(2*L_1*k_1))"
      ]
     },
     "execution_count": 46,
     "metadata": {},
     "output_type": "execute_result"
    }
   ],
   "source": [
    "c0solutions[2][0]"
   ]
  },
  {
   "cell_type": "code",
   "execution_count": 47,
   "id": "7bc4c59d-ea3e-494d-addf-28100a24d77a",
   "metadata": {},
   "outputs": [
    {
     "data": {
      "text/latex": [
       "$\\displaystyle \\frac{\\sqrt{B_{1}^{2} e^{2 L_{1} k_{1}} - 2 B_{1} B_{2} e^{k_{1} \\left(L_{0} + L_{1}\\right)} + B_{2}^{2} e^{2 L_{0} k_{1}} - 2 N_{1} k_{1} e^{2 L_{0} k_{1}} + 2 N_{1} k_{1} e^{2 L_{1} k_{1}}}}{e^{2 L_{0} k_{1}} - e^{2 L_{1} k_{1}}}$"
      ],
      "text/plain": [
       "sqrt(B_1**2*exp(2*L_1*k_1) - 2*B_1*B_2*exp(k_1*(L_0 + L_1)) + B_2**2*exp(2*L_0*k_1) - 2*N_1*k_1*exp(2*L_0*k_1) + 2*N_1*k_1*exp(2*L_1*k_1))/(exp(2*L_0*k_1) - exp(2*L_1*k_1))"
      ]
     },
     "execution_count": 47,
     "metadata": {},
     "output_type": "execute_result"
    }
   ],
   "source": [
    "c0solutions[2][1]"
   ]
  },
  {
   "cell_type": "code",
   "execution_count": 48,
   "id": "ce7762e4-6daf-4d8b-b1f1-af124e6709a5",
   "metadata": {},
   "outputs": [],
   "source": [
    "c0ConstrainedSolution = sp.Eq(regionSymbols.constants[0] ** 2, (c0solutions[2][0] * c0solutions[2][1]).simplify().refine())"
   ]
  },
  {
   "cell_type": "code",
   "execution_count": 49,
   "id": "3cc5918c-22b7-4df8-babd-34485b088c17",
   "metadata": {},
   "outputs": [
    {
     "data": {
      "text/latex": [
       "$\\displaystyle C_{{1}_t}^{2} = \\frac{- B_{1}^{2} e^{2 L_{1} k_{1}} + 2 B_{1} B_{2} e^{k_{1} \\left(L_{0} + L_{1}\\right)} - B_{2}^{2} e^{2 L_{0} k_{1}} + 2 N_{1} k_{1} e^{2 L_{0} k_{1}} - 2 N_{1} k_{1} e^{2 L_{1} k_{1}}}{\\left(e^{2 L_{0} k_{1}} - e^{2 L_{1} k_{1}}\\right)^{2}}$"
      ],
      "text/plain": [
       "Eq(C_{{1}_t}**2, (-B_1**2*exp(2*L_1*k_1) + 2*B_1*B_2*exp(k_1*(L_0 + L_1)) - B_2**2*exp(2*L_0*k_1) + 2*N_1*k_1*exp(2*L_0*k_1) - 2*N_1*k_1*exp(2*L_1*k_1))/(exp(2*L_0*k_1) - exp(2*L_1*k_1))**2)"
      ]
     },
     "execution_count": 49,
     "metadata": {},
     "output_type": "execute_result"
    }
   ],
   "source": [
    "c0ConstrainedSolution"
   ]
  },
  {
   "cell_type": "code",
   "execution_count": 50,
   "id": "3593fd26-a445-4d0e-83c2-47fdffea75c9",
   "metadata": {},
   "outputs": [
    {
     "data": {
      "text/latex": [
       "$\\displaystyle C_{{1}_r} \\overline{C_{{1}_t}} + C_{{1}_r} e^{- 2 k_{1} x} \\overline{C_{{1}_r}} + C_{{1}_t} e^{2 k_{1} x} \\overline{C_{{1}_t}} + C_{{1}_t} \\overline{C_{{1}_r}}$"
      ],
      "text/plain": [
       "C_{{1}_r}*conjugate(C_{{1}_t}) + C_{{1}_r}*exp(-2*k_1*x)*conjugate(C_{{1}_r}) + C_{{1}_t}*exp(2*k_1*x)*conjugate(C_{{1}_t}) + C_{{1}_t}*conjugate(C_{{1}_r})"
      ]
     },
     "execution_count": 50,
     "metadata": {},
     "output_type": "execute_result"
    }
   ],
   "source": [
    "(unconstrainedParticularSolution[\"exponential\"].rhs * sp.conjugate(unconstrainedParticularSolution[\"exponential\"].rhs)).expand()"
   ]
  },
  {
   "cell_type": "code",
   "execution_count": null,
   "id": "14db90f3-22d9-428c-a2f3-551fb4d59a3e",
   "metadata": {},
   "outputs": [],
   "source": []
  },
  {
   "cell_type": "code",
   "execution_count": 51,
   "id": "54b3fcd1-d4d3-472d-bbd0-7ce9935ef7f3",
   "metadata": {},
   "outputs": [
    {
     "data": {
      "text/latex": [
       "$\\displaystyle - \\frac{\\sqrt{B_{1}^{2} e^{2 L_{1} k_{1}} - 2 B_{1} B_{2} e^{k_{1} \\left(L_{0} + L_{1}\\right)} + B_{2}^{2} e^{2 L_{0} k_{1}} - 2 N_{1} k_{1} e^{2 L_{0} k_{1}} + 2 N_{1} k_{1} e^{2 L_{1} k_{1}}}}{e^{2 L_{0} k_{1}} - e^{2 L_{1} k_{1}}}$"
      ],
      "text/plain": [
       "-sqrt(B_1**2*exp(2*L_1*k_1) - 2*B_1*B_2*exp(k_1*(L_0 + L_1)) + B_2**2*exp(2*L_0*k_1) - 2*N_1*k_1*exp(2*L_0*k_1) + 2*N_1*k_1*exp(2*L_1*k_1))/(exp(2*L_0*k_1) - exp(2*L_1*k_1))"
      ]
     },
     "execution_count": 51,
     "metadata": {},
     "output_type": "execute_result"
    }
   ],
   "source": [
    "c0solutions[2][0]"
   ]
  },
  {
   "cell_type": "code",
   "execution_count": 52,
   "id": "c42e82b4-f518-4853-a810-c3fbf9e6df96",
   "metadata": {},
   "outputs": [
    {
     "data": {
      "text/latex": [
       "$\\displaystyle \\frac{\\sqrt{B_{1}^{2} e^{2 L_{1} k_{1}} - 2 B_{1} B_{2} e^{k_{1} \\left(L_{0} + L_{1}\\right)} + B_{2}^{2} e^{2 L_{0} k_{1}} - 2 N_{1} k_{1} e^{2 L_{0} k_{1}} + 2 N_{1} k_{1} e^{2 L_{1} k_{1}}}}{e^{2 L_{0} k_{1}} - e^{2 L_{1} k_{1}}}$"
      ],
      "text/plain": [
       "sqrt(B_1**2*exp(2*L_1*k_1) - 2*B_1*B_2*exp(k_1*(L_0 + L_1)) + B_2**2*exp(2*L_0*k_1) - 2*N_1*k_1*exp(2*L_0*k_1) + 2*N_1*k_1*exp(2*L_1*k_1))/(exp(2*L_0*k_1) - exp(2*L_1*k_1))"
      ]
     },
     "execution_count": 52,
     "metadata": {},
     "output_type": "execute_result"
    }
   ],
   "source": [
    "c0solutions[2][1]"
   ]
  },
  {
   "cell_type": "code",
   "execution_count": null,
   "id": "6623585d-4878-404e-a835-4e4997abe524",
   "metadata": {},
   "outputs": [],
   "source": []
  },
  {
   "cell_type": "code",
   "execution_count": null,
   "id": "f090762f-e199-401d-994c-934fcc9276a6",
   "metadata": {},
   "outputs": [],
   "source": []
  },
  {
   "cell_type": "code",
   "execution_count": null,
   "id": "bc2324f2-7f40-4d52-bc3d-13ba65ae8c7f",
   "metadata": {},
   "outputs": [],
   "source": []
  }
 ],
 "metadata": {
  "kernelspec": {
   "display_name": "Python 3 (ipykernel)",
   "language": "python",
   "name": "python3"
  },
  "language_info": {
   "codemirror_mode": {
    "name": "ipython",
    "version": 3
   },
   "file_extension": ".py",
   "mimetype": "text/x-python",
   "name": "python",
   "nbconvert_exporter": "python",
   "pygments_lexer": "ipython3",
   "version": "3.10.4"
  }
 },
 "nbformat": 4,
 "nbformat_minor": 5
}
