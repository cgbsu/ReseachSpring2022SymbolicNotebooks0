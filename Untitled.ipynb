{
 "cells": [
  {
   "cell_type": "code",
   "execution_count": 1,
   "id": "32ff7c0a-f8bb-465c-86e5-9a6716534761",
   "metadata": {},
   "outputs": [],
   "source": [
    "x = var( 'x' )"
   ]
  },
  {
   "cell_type": "code",
   "execution_count": 2,
   "id": "20dee0ba-4bb6-4946-b0e2-614858c86f84",
   "metadata": {},
   "outputs": [],
   "source": [
    "psi_0 = function( \"psi_0\" )( x )"
   ]
  },
  {
   "cell_type": "code",
   "execution_count": 3,
   "id": "6c29285d-e212-4574-8774-1f4ccb37c099",
   "metadata": {},
   "outputs": [],
   "source": [
    "psi_1 = function( \"psi_1\" )( x )"
   ]
  },
  {
   "cell_type": "code",
   "execution_count": 4,
   "id": "c26492d7-626a-4578-93c0-548681fda8de",
   "metadata": {},
   "outputs": [],
   "source": [
    "psi_2 = function( \"psi_2\" )( x )"
   ]
  },
  {
   "cell_type": "code",
   "execution_count": null,
   "id": "6cafa9c5-5fc2-4825-b280-4e9d85caa0b8",
   "metadata": {},
   "outputs": [],
   "source": []
  },
  {
   "cell_type": "code",
   "execution_count": 29,
   "id": "832c79dd-4940-4665-b2ab-612822b6bf2d",
   "metadata": {},
   "outputs": [],
   "source": [
    "k_0 = var( \"k_0\" )"
   ]
  },
  {
   "cell_type": "code",
   "execution_count": 30,
   "id": "2ebe4304-6cae-4b8e-a23d-b95fd365a0f7",
   "metadata": {},
   "outputs": [],
   "source": [
    "k_1 = var( \"k_1\" )"
   ]
  },
  {
   "cell_type": "code",
   "execution_count": 31,
   "id": "c59f4fb3-1e4d-454b-aa8c-455bc50c6f4e",
   "metadata": {},
   "outputs": [],
   "source": [
    "k_1 = var( \"k_2\" )"
   ]
  },
  {
   "cell_type": "code",
   "execution_count": null,
   "id": "ea898302-2bea-42ee-b18c-f3525510e26f",
   "metadata": {},
   "outputs": [],
   "source": []
  },
  {
   "cell_type": "code",
   "execution_count": null,
   "id": "616ad949-9ba2-499f-9aca-8a1059762f75",
   "metadata": {},
   "outputs": [],
   "source": []
  },
  {
   "cell_type": "code",
   "execution_count": null,
   "id": "d9cc801e-890b-4365-928d-1bcf37d288fd",
   "metadata": {},
   "outputs": [],
   "source": []
  },
  {
   "cell_type": "code",
   "execution_count": 27,
   "id": "8c09e4f3-88aa-41af-b530-ba233f5a0d10",
   "metadata": {},
   "outputs": [],
   "source": [
    "schro_psi_1 = ( ( k_1 ** 2 ) * psi_1 ) - diff( psi_1, x, 2 ) == 0"
   ]
  },
  {
   "cell_type": "code",
   "execution_count": 28,
   "id": "9690be39-65d4-4cc5-adcb-ad464f75179e",
   "metadata": {},
   "outputs": [
    {
     "data": {
      "text/plain": [
       "k_1^2*psi_1(x) - diff(psi_1(x), x, x) == 0"
      ]
     },
     "execution_count": 28,
     "metadata": {},
     "output_type": "execute_result"
    }
   ],
   "source": [
    "schro_psi_1"
   ]
  },
  {
   "cell_type": "code",
   "execution_count": 38,
   "id": "ed351c27-8b03-4a56-90b6-156a2d033c73",
   "metadata": {},
   "outputs": [
    {
     "ename": "ValueError",
     "evalue": "Unable to determine independent variable, please specify.",
     "output_type": "error",
     "traceback": [
      "\u001b[0;31m---------------------------------------------------------------------------\u001b[0m",
      "\u001b[0;31mValueError\u001b[0m                                Traceback (most recent call last)",
      "\u001b[0;32m/tmp/ipykernel_8227/1113324305.py\u001b[0m in \u001b[0;36m<cell line: 1>\u001b[0;34m()\u001b[0m\n\u001b[0;32m----> 1\u001b[0;31m desolve( schro_psi_1, psi_1, ics = {\n\u001b[0m\u001b[1;32m      2\u001b[0m         \u001b[0mpsi_0\u001b[0m\u001b[0;34m(\u001b[0m \u001b[0mx\u001b[0m \u001b[0;34m=\u001b[0m \u001b[0mInteger\u001b[0m\u001b[0;34m(\u001b[0m\u001b[0;36m0\u001b[0m\u001b[0;34m)\u001b[0m \u001b[0;34m)\u001b[0m \u001b[0;34m:\u001b[0m \u001b[0mpsi_1\u001b[0m\u001b[0;34m(\u001b[0m \u001b[0mx\u001b[0m \u001b[0;34m=\u001b[0m \u001b[0mInteger\u001b[0m\u001b[0;34m(\u001b[0m\u001b[0;36m0\u001b[0m\u001b[0;34m)\u001b[0m \u001b[0;34m)\u001b[0m\u001b[0;34m,\u001b[0m\u001b[0;34m\u001b[0m\u001b[0;34m\u001b[0m\u001b[0m\n\u001b[1;32m      3\u001b[0m         \u001b[0mpsi_1\u001b[0m\u001b[0;34m(\u001b[0m \u001b[0mx\u001b[0m \u001b[0;34m=\u001b[0m \u001b[0mInteger\u001b[0m\u001b[0;34m(\u001b[0m\u001b[0;36m0\u001b[0m\u001b[0;34m)\u001b[0m \u001b[0;34m)\u001b[0m \u001b[0;34m:\u001b[0m \u001b[0mpsi_2\u001b[0m\u001b[0;34m(\u001b[0m \u001b[0mx\u001b[0m \u001b[0;34m=\u001b[0m \u001b[0mInteger\u001b[0m\u001b[0;34m(\u001b[0m\u001b[0;36m0\u001b[0m\u001b[0;34m)\u001b[0m \u001b[0;34m)\u001b[0m\u001b[0;34m\u001b[0m\u001b[0;34m\u001b[0m\u001b[0m\n\u001b[1;32m      4\u001b[0m     } )\n",
      "\u001b[0;32m/opt/conda/envs/sage/lib/python3.9/site-packages/sage/calculus/desolvers.py\u001b[0m in \u001b[0;36mdesolve\u001b[0;34m(de, dvar, ics, ivar, show_method, contrib_ode, algorithm)\u001b[0m\n\u001b[1;32m    561\u001b[0m         \u001b[0mivars\u001b[0m \u001b[0;34m=\u001b[0m \u001b[0;34m[\u001b[0m\u001b[0mt\u001b[0m \u001b[0;32mfor\u001b[0m \u001b[0mt\u001b[0m \u001b[0;32min\u001b[0m \u001b[0mivars\u001b[0m \u001b[0;32mif\u001b[0m \u001b[0mt\u001b[0m \u001b[0;32mis\u001b[0m \u001b[0;32mnot\u001b[0m \u001b[0mdvar\u001b[0m\u001b[0;34m]\u001b[0m\u001b[0;34m\u001b[0m\u001b[0;34m\u001b[0m\u001b[0m\n\u001b[1;32m    562\u001b[0m         \u001b[0;32mif\u001b[0m \u001b[0mlen\u001b[0m\u001b[0;34m(\u001b[0m\u001b[0mivars\u001b[0m\u001b[0;34m)\u001b[0m \u001b[0;34m!=\u001b[0m \u001b[0;36m1\u001b[0m\u001b[0;34m:\u001b[0m\u001b[0;34m\u001b[0m\u001b[0;34m\u001b[0m\u001b[0m\n\u001b[0;32m--> 563\u001b[0;31m             \u001b[0;32mraise\u001b[0m \u001b[0mValueError\u001b[0m\u001b[0;34m(\u001b[0m\u001b[0;34m\"Unable to determine independent variable, please specify.\"\u001b[0m\u001b[0;34m)\u001b[0m\u001b[0;34m\u001b[0m\u001b[0;34m\u001b[0m\u001b[0m\n\u001b[0m\u001b[1;32m    564\u001b[0m         \u001b[0mivar\u001b[0m \u001b[0;34m=\u001b[0m \u001b[0mivars\u001b[0m\u001b[0;34m[\u001b[0m\u001b[0;36m0\u001b[0m\u001b[0;34m]\u001b[0m\u001b[0;34m\u001b[0m\u001b[0;34m\u001b[0m\u001b[0m\n\u001b[1;32m    565\u001b[0m \u001b[0;34m\u001b[0m\u001b[0m\n",
      "\u001b[0;31mValueError\u001b[0m: Unable to determine independent variable, please specify."
     ]
    }
   ],
   "source": [
    "desolve( schro_psi_1, psi_1, ics = {\n",
    "        psi_0( x = 0 ) : psi_1( x = 0 ), \n",
    "        psi_1( x = 0 ) : psi_2( x = 0 )\n",
    "    } )"
   ]
  },
  {
   "cell_type": "code",
   "execution_count": null,
   "id": "9428932c-5adc-4488-8abf-6ad6144e5a64",
   "metadata": {},
   "outputs": [],
   "source": []
  }
 ],
 "metadata": {
  "kernelspec": {
   "display_name": "SageMath 9.5",
   "language": "sage",
   "name": "sagemath"
  },
  "language_info": {
   "codemirror_mode": {
    "name": "ipython",
    "version": 3
   },
   "file_extension": ".py",
   "mimetype": "text/x-python",
   "name": "python",
   "nbconvert_exporter": "python",
   "pygments_lexer": "ipython3",
   "version": "3.9.10"
  }
 },
 "nbformat": 4,
 "nbformat_minor": 5
}
