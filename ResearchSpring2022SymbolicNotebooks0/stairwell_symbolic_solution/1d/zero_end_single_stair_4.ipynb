{
 "cells": [
  {
   "cell_type": "code",
   "execution_count": 1,
   "id": "9da4ca07-5038-40fc-b597-27be53769384",
   "metadata": {},
   "outputs": [],
   "source": [
    "import sympy as sp"
   ]
  },
  {
   "cell_type": "code",
   "execution_count": 2,
   "id": "bbd2fd19-a4e7-44c8-ba72-b83d5ae065ea",
   "metadata": {},
   "outputs": [],
   "source": [
    "import sympy.physics.units.quantities as sq"
   ]
  },
  {
   "cell_type": "code",
   "execution_count": 3,
   "id": "3b8c39ff-3668-4ef3-9add-b334784a3333",
   "metadata": {},
   "outputs": [],
   "source": [
    "from sympy.physics.quantum.constants import hbar"
   ]
  },
  {
   "cell_type": "code",
   "execution_count": 4,
   "id": "75e40f13-aa6e-41d1-9ced-7a90df52a98e",
   "metadata": {},
   "outputs": [],
   "source": [
    "import numpy as np"
   ]
  },
  {
   "cell_type": "code",
   "execution_count": 5,
   "id": "acfd29f5-00db-41bb-941a-2054f1f75120",
   "metadata": {},
   "outputs": [],
   "source": [
    "import matplotlib.pyplot as plt"
   ]
  },
  {
   "cell_type": "code",
   "execution_count": 6,
   "id": "1111e70c-3b09-49ae-8391-96b64b287e33",
   "metadata": {},
   "outputs": [],
   "source": [
    "from copy import deepcopy"
   ]
  },
  {
   "cell_type": "code",
   "execution_count": null,
   "id": "dc9bc350-c331-43aa-bdd9-9b2d117bf211",
   "metadata": {},
   "outputs": [],
   "source": []
  },
  {
   "cell_type": "code",
   "execution_count": 7,
   "id": "82f14997-b75d-4dd8-baf6-d565f0b12bd1",
   "metadata": {},
   "outputs": [],
   "source": [
    "from custom_libraries.stepper import *"
   ]
  },
  {
   "cell_type": "code",
   "execution_count": 8,
   "id": "100adb60-1868-493c-bbe9-9b2dd1bf5af6",
   "metadata": {},
   "outputs": [],
   "source": [
    "from custom_libraries.schrodinger import *"
   ]
  },
  {
   "cell_type": "code",
   "execution_count": 9,
   "id": "4d10ab16-1b4f-402a-bcd5-8029292865bc",
   "metadata": {},
   "outputs": [],
   "source": [
    "from custom_libraries.utilities import *"
   ]
  },
  {
   "cell_type": "code",
   "execution_count": null,
   "id": "95748091-3fe2-45a3-beaa-0e56ac4e61f9",
   "metadata": {},
   "outputs": [],
   "source": []
  },
  {
   "cell_type": "code",
   "execution_count": 10,
   "id": "151680e1-cc8c-4f02-9fbc-32cb1b19f56f",
   "metadata": {},
   "outputs": [],
   "source": [
    "def real_harmonics( _ ):\n",
    "    assumptions = standard_harmonic_assumptions( _ );\n",
    "    assumptions.update( { 'real' : True } )\n",
    "    return assumptions"
   ]
  },
  {
   "cell_type": "code",
   "execution_count": null,
   "id": "20bc043c-2168-45b2-b95d-32fcdb201da9",
   "metadata": {},
   "outputs": [],
   "source": []
  },
  {
   "cell_type": "code",
   "execution_count": 11,
   "id": "8984696f-ac0b-4d68-8f5f-036778be011f",
   "metadata": {},
   "outputs": [],
   "source": [
    "stairwell_solver = TimeIndependentSchrodingerConstantPotentials1D( \n",
    "        StairWell.default_non_uniform_length_potential_table(), \n",
    "        tuple( StairWell.default_non_uniform_length_potential_table().keys() )[ -1 ], \n",
    "        make_psis = make_psi_numbered, \n",
    "        harmonics_assumptions = real_harmonics, \n",
    "        repeating = False, \n",
    "        as_distances = True, \n",
    "        #as_distances = False, \n",
    "        #normalization_conjugate_not_squared_absolute_value = False\n",
    "    )"
   ]
  },
  {
   "cell_type": "code",
   "execution_count": null,
   "id": "2e946e04-0121-448e-8269-4e69ba4e1c28",
   "metadata": {},
   "outputs": [],
   "source": []
  },
  {
   "cell_type": "code",
   "execution_count": 12,
   "id": "012de83f-543a-49d4-b421-ff2d2400121d",
   "metadata": {},
   "outputs": [
    {
     "data": {
      "text/plain": [
       "(('BoundryZeroConditions', {\\psi_{0}(0): 0, \\psi_{2}(L_2): 0}),\n",
       " ('BoundryZeroConditions', {\\psi_{0}(0): 0, \\psi_{2}(L_2): 0}))"
      ]
     },
     "execution_count": 12,
     "metadata": {},
     "output_type": "execute_result"
    }
   ],
   "source": [
    "stairwell_solver.impose_zero_conditions_to_ends()"
   ]
  },
  {
   "cell_type": "code",
   "execution_count": null,
   "id": "78798fb3-fd83-40b7-9180-c8da0dbe588e",
   "metadata": {},
   "outputs": [],
   "source": []
  },
  {
   "cell_type": "code",
   "execution_count": 13,
   "id": "bc51b09a-c161-4008-b763-81f71b487841",
   "metadata": {},
   "outputs": [
    {
     "data": {
      "text/latex": [
       "$\\displaystyle - k_{0}^{2} \\psi_{0}{\\left(x \\right)} + \\frac{d^{2}}{d x^{2}} \\psi_{0}{\\left(x \\right)} = 0$"
      ],
      "text/plain": [
       "Eq(-k_0**2*\\psi_{0}(x) + Derivative(\\psi_{0}(x), (x, 2)), 0)"
      ]
     },
     "metadata": {},
     "output_type": "display_data"
    },
    {
     "data": {
      "text/latex": [
       "$\\displaystyle - k_{1}^{2} \\psi_{1}{\\left(x \\right)} + \\frac{d^{2}}{d x^{2}} \\psi_{1}{\\left(x \\right)} = 0$"
      ],
      "text/plain": [
       "Eq(-k_1**2*\\psi_{1}(x) + Derivative(\\psi_{1}(x), (x, 2)), 0)"
      ]
     },
     "metadata": {},
     "output_type": "display_data"
    },
    {
     "data": {
      "text/latex": [
       "$\\displaystyle - k_{2}^{2} \\psi_{2}{\\left(x \\right)} + \\frac{d^{2}}{d x^{2}} \\psi_{2}{\\left(x \\right)} = 0$"
      ],
      "text/plain": [
       "Eq(-k_2**2*\\psi_{2}(x) + Derivative(\\psi_{2}(x), (x, 2)), 0)"
      ]
     },
     "metadata": {},
     "output_type": "display_data"
    }
   ],
   "source": [
    "display_steps( stairwell_solver.equations )"
   ]
  },
  {
   "cell_type": "code",
   "execution_count": null,
   "id": "a0757648-d8b4-4a28-b351-221f4830ff75",
   "metadata": {},
   "outputs": [],
   "source": []
  },
  {
   "cell_type": "code",
   "execution_count": 14,
   "id": "28d85323-24e4-49cb-93e6-54953e6104c7",
   "metadata": {},
   "outputs": [
    {
     "data": {
      "text/latex": [
       "$\\displaystyle k_{0} = \\frac{\\sqrt{2} \\sqrt{- E + V_{0}} \\sqrt{\\text{m}}}{\\hbar}$"
      ],
      "text/plain": [
       "Eq(k_0, sqrt(2)*sqrt(m)*sqrt(-E + V_0)/hbar)"
      ]
     },
     "metadata": {},
     "output_type": "display_data"
    },
    {
     "data": {
      "text/latex": [
       "$\\displaystyle k_{1} = \\frac{\\sqrt{2} \\sqrt{- E + V_{1}} \\sqrt{\\text{m}}}{\\hbar}$"
      ],
      "text/plain": [
       "Eq(k_1, sqrt(2)*sqrt(m)*sqrt(-E + V_1)/hbar)"
      ]
     },
     "metadata": {},
     "output_type": "display_data"
    },
    {
     "data": {
      "text/latex": [
       "$\\displaystyle k_{2} = \\frac{\\sqrt{2} \\sqrt{- E + V_{2}} \\sqrt{\\text{m}}}{\\hbar}$"
      ],
      "text/plain": [
       "Eq(k_2, sqrt(2)*sqrt(m)*sqrt(-E + V_2)/hbar)"
      ]
     },
     "metadata": {},
     "output_type": "display_data"
    }
   ],
   "source": [
    "display_in( stairwell_solver.harmonic_constants )"
   ]
  },
  {
   "cell_type": "code",
   "execution_count": 15,
   "id": "20f53166-87ec-4057-932d-5b0947a3427b",
   "metadata": {},
   "outputs": [
    {
     "data": {
      "text/plain": [
       "{'ContinuityConditions': {\\psi_{0}(L_0): \\psi_{1}(0),\n",
       "  \\psi_{1}(L_1): \\psi_{2}(0)},\n",
       " 'BoundryZeroConditions': {\\psi_{0}(0): 0, \\psi_{2}(L_2): 0}}"
      ]
     },
     "execution_count": 15,
     "metadata": {},
     "output_type": "execute_result"
    }
   ],
   "source": [
    "stairwell_solver.boundries.boundries"
   ]
  },
  {
   "cell_type": "code",
   "execution_count": 16,
   "id": "9fe5cbdc-ea5a-4ca1-a54f-a70e30069bec",
   "metadata": {},
   "outputs": [
    {
     "data": {
      "text/plain": [
       "{\\psi_{0}(L_0): \\psi_{1}(0), \\psi_{1}(L_1): \\psi_{2}(0)}"
      ]
     },
     "execution_count": 16,
     "metadata": {},
     "output_type": "execute_result"
    }
   ],
   "source": [
    "stairwell_solver.boundries.ContinuityConditions"
   ]
  },
  {
   "cell_type": "code",
   "execution_count": null,
   "id": "1cee42e4-0490-4850-b52f-3b6b9547e3f1",
   "metadata": {},
   "outputs": [],
   "source": []
  },
  {
   "cell_type": "code",
   "execution_count": 17,
   "id": "d78132f8-2d0a-438c-a94d-3c5d1b79786d",
   "metadata": {},
   "outputs": [
    {
     "data": {
      "text/plain": [
       "{\\psi_{0}(0): 0, \\psi_{2}(L_2): 0}"
      ]
     },
     "execution_count": 17,
     "metadata": {},
     "output_type": "execute_result"
    }
   ],
   "source": [
    "stairwell_solver.boundries.BoundryZeroConditions"
   ]
  },
  {
   "cell_type": "code",
   "execution_count": null,
   "id": "519623f3-e044-4ce4-89ce-0bf045971c69",
   "metadata": {},
   "outputs": [],
   "source": []
  },
  {
   "cell_type": "code",
   "execution_count": 18,
   "id": "bad0d660-061c-4402-af40-79303da747d0",
   "metadata": {},
   "outputs": [
    {
     "data": {
      "text/plain": [
       "('LastUpdatedAllBoundryConditions',\n",
       " {\\psi_{0}(L_0): \\psi_{1}(0),\n",
       "  \\psi_{1}(L_1): \\psi_{2}(0),\n",
       "  \\psi_{0}(0): 0,\n",
       "  \\psi_{2}(L_2): 0})"
      ]
     },
     "execution_count": 18,
     "metadata": {},
     "output_type": "execute_result"
    }
   ],
   "source": [
    "stairwell_solver.boundries.update_all_boundry_conditions()"
   ]
  },
  {
   "cell_type": "code",
   "execution_count": null,
   "id": "7da0e1b5-1c97-4329-bd28-5b9447f76641",
   "metadata": {},
   "outputs": [],
   "source": []
  },
  {
   "cell_type": "code",
   "execution_count": 19,
   "id": "03f1960a-88b6-4ef2-9101-fb89a936000a",
   "metadata": {},
   "outputs": [
    {
     "data": {
      "text/plain": [
       "'ContinuityConditions'"
      ]
     },
     "metadata": {},
     "output_type": "display_data"
    },
    {
     "data": {
      "text/latex": [
       "$\\displaystyle \\psi_{0}{\\left(L_{0} \\right)} = \\psi_{1}{\\left(0 \\right)}$"
      ],
      "text/plain": [
       "Eq(\\psi_{0}(L_0), \\psi_{1}(0))"
      ]
     },
     "metadata": {},
     "output_type": "display_data"
    },
    {
     "data": {
      "text/latex": [
       "$\\displaystyle \\psi_{1}{\\left(L_{1} \\right)} = \\psi_{2}{\\left(0 \\right)}$"
      ],
      "text/plain": [
       "Eq(\\psi_{1}(L_1), \\psi_{2}(0))"
      ]
     },
     "metadata": {},
     "output_type": "display_data"
    },
    {
     "data": {
      "text/plain": [
       "'BoundryZeroConditions'"
      ]
     },
     "metadata": {},
     "output_type": "display_data"
    },
    {
     "data": {
      "text/latex": [
       "$\\displaystyle \\psi_{0}{\\left(0 \\right)} = 0$"
      ],
      "text/plain": [
       "Eq(\\psi_{0}(0), 0)"
      ]
     },
     "metadata": {},
     "output_type": "display_data"
    },
    {
     "data": {
      "text/latex": [
       "$\\displaystyle \\psi_{2}{\\left(L_{2} \\right)} = 0$"
      ],
      "text/plain": [
       "Eq(\\psi_{2}(L_2), 0)"
      ]
     },
     "metadata": {},
     "output_type": "display_data"
    },
    {
     "data": {
      "text/plain": [
       "'LastUpdatedAllBoundryConditions'"
      ]
     },
     "metadata": {},
     "output_type": "display_data"
    },
    {
     "data": {
      "text/latex": [
       "$\\displaystyle \\psi_{0}{\\left(L_{0} \\right)} = \\psi_{1}{\\left(0 \\right)}$"
      ],
      "text/plain": [
       "Eq(\\psi_{0}(L_0), \\psi_{1}(0))"
      ]
     },
     "metadata": {},
     "output_type": "display_data"
    },
    {
     "data": {
      "text/latex": [
       "$\\displaystyle \\psi_{1}{\\left(L_{1} \\right)} = \\psi_{2}{\\left(0 \\right)}$"
      ],
      "text/plain": [
       "Eq(\\psi_{1}(L_1), \\psi_{2}(0))"
      ]
     },
     "metadata": {},
     "output_type": "display_data"
    },
    {
     "data": {
      "text/latex": [
       "$\\displaystyle \\psi_{0}{\\left(0 \\right)} = 0$"
      ],
      "text/plain": [
       "Eq(\\psi_{0}(0), 0)"
      ]
     },
     "metadata": {},
     "output_type": "display_data"
    },
    {
     "data": {
      "text/latex": [
       "$\\displaystyle \\psi_{2}{\\left(L_{2} \\right)} = 0$"
      ],
      "text/plain": [
       "Eq(\\psi_{2}(L_2), 0)"
      ]
     },
     "metadata": {},
     "output_type": "display_data"
    }
   ],
   "source": [
    "stairwell_solver.boundries.display()"
   ]
  },
  {
   "cell_type": "code",
   "execution_count": 20,
   "id": "3fc0fbd1-a832-4ef7-803b-814812d18099",
   "metadata": {},
   "outputs": [
    {
     "data": {
      "text/plain": [
       "<custom_libraries.schrodinger.TimeIndependentSchrodingerConstantPotentials1D at 0x7fb6eda828e0>"
      ]
     },
     "execution_count": 20,
     "metadata": {},
     "output_type": "execute_result"
    }
   ],
   "source": [
    "stairwell_solver"
   ]
  },
  {
   "cell_type": "code",
   "execution_count": 21,
   "id": "0f4574ca-54c8-4820-9212-d94622eab763",
   "metadata": {
    "tags": []
   },
   "outputs": [],
   "source": [
    "solutions = stairwell_solver.solve_odes()"
   ]
  },
  {
   "cell_type": "code",
   "execution_count": null,
   "id": "f1a5e157-8b2f-4d4f-bb64-268ebfba1344",
   "metadata": {},
   "outputs": [],
   "source": []
  },
  {
   "cell_type": "code",
   "execution_count": 22,
   "id": "906f8879-c568-484d-b095-81bbdaf9fce3",
   "metadata": {},
   "outputs": [
    {
     "data": {
      "text/latex": [
       "$\\displaystyle \\psi_{0}{\\left(x \\right)} = \\frac{\\psi_{1}{\\left(0 \\right)} e^{L_{0} k_{0}} e^{k_{0} x}}{e^{2 L_{0} k_{0}} - 1} - \\frac{\\psi_{1}{\\left(0 \\right)} e^{L_{0} k_{0}} e^{- k_{0} x}}{e^{2 L_{0} k_{0}} - 1}$"
      ],
      "text/plain": [
       "Eq(\\psi_{0}(x), \\psi_{1}(0)*exp(L_0*k_0)*exp(k_0*x)/(exp(2*L_0*k_0) - 1) - \\psi_{1}(0)*exp(L_0*k_0)*exp(-k_0*x)/(exp(2*L_0*k_0) - 1))"
      ]
     },
     "metadata": {},
     "output_type": "display_data"
    },
    {
     "data": {
      "text/latex": [
       "$\\displaystyle \\psi_{1}{\\left(x \\right)} = \\frac{\\left(\\psi_{0}{\\left(L_{0} \\right)} e^{2 L_{1} k_{1}} - \\psi_{2}{\\left(0 \\right)} e^{L_{1} k_{1}}\\right) e^{- k_{1} x}}{e^{2 L_{1} k_{1}} - 1} + \\frac{\\left(- \\psi_{0}{\\left(L_{0} \\right)} + \\psi_{2}{\\left(0 \\right)} e^{L_{1} k_{1}}\\right) e^{k_{1} x}}{e^{2 L_{1} k_{1}} - 1}$"
      ],
      "text/plain": [
       "Eq(\\psi_{1}(x), (\\psi_{0}(L_0)*exp(2*L_1*k_1) - \\psi_{2}(0)*exp(L_1*k_1))*exp(-k_1*x)/(exp(2*L_1*k_1) - 1) + (-\\psi_{0}(L_0) + \\psi_{2}(0)*exp(L_1*k_1))*exp(k_1*x)/(exp(2*L_1*k_1) - 1))"
      ]
     },
     "metadata": {},
     "output_type": "display_data"
    },
    {
     "data": {
      "text/latex": [
       "$\\displaystyle \\psi_{2}{\\left(x \\right)} = \\frac{\\psi_{1}{\\left(L_{1} \\right)} e^{2 L_{2} k_{2}} e^{- k_{2} x}}{e^{2 L_{2} k_{2}} - 1} - \\frac{\\psi_{1}{\\left(L_{1} \\right)} e^{k_{2} x}}{e^{2 L_{2} k_{2}} - 1}$"
      ],
      "text/plain": [
       "Eq(\\psi_{2}(x), \\psi_{1}(L_1)*exp(2*L_2*k_2)*exp(-k_2*x)/(exp(2*L_2*k_2) - 1) - \\psi_{1}(L_1)*exp(k_2*x)/(exp(2*L_2*k_2) - 1))"
      ]
     },
     "metadata": {},
     "output_type": "display_data"
    }
   ],
   "source": [
    "display_in( solutions )"
   ]
  },
  {
   "cell_type": "code",
   "execution_count": null,
   "id": "84e87233-5ba7-4cb7-a3f7-370403e55bb0",
   "metadata": {},
   "outputs": [],
   "source": []
  },
  {
   "cell_type": "code",
   "execution_count": 23,
   "id": "e0ca1cc1-1b0f-4d1b-a646-1cce6caf6eed",
   "metadata": {},
   "outputs": [
    {
     "data": {
      "text/plain": [
       "[<custom_libraries.stepper.Stepper at 0x7fb6eda231c0>,\n",
       " <custom_libraries.stepper.Stepper at 0x7fb6eda23f40>,\n",
       " <custom_libraries.stepper.Stepper at 0x7fb6eda23c10>]"
      ]
     },
     "execution_count": 23,
     "metadata": {},
     "output_type": "execute_result"
    }
   ],
   "source": [
    "stairwell_solver.substitute_wave_functions_into_normalizations()"
   ]
  },
  {
   "cell_type": "code",
   "execution_count": 24,
   "id": "ca842015-740c-4620-be56-3d5b61b0a685",
   "metadata": {},
   "outputs": [
    {
     "data": {
      "text/plain": [
       "([<custom_libraries.stepper.Stepper at 0x7fb6eda1a4c0>,\n",
       "  <custom_libraries.stepper.Stepper at 0x7fb6eda82c10>,\n",
       "  <custom_libraries.stepper.Stepper at 0x7fb6eda1d760>],\n",
       " [<custom_libraries.stepper.Stepper at 0x7fb6eda231c0>,\n",
       "  <custom_libraries.stepper.Stepper at 0x7fb6eda23f40>,\n",
       "  <custom_libraries.stepper.Stepper at 0x7fb6eda23c10>],\n",
       " {'Before': [['TimeIndependentSchrodingerConstantPotentials1DCheckPointBeforeBoundryToConstantSubstitution105',\n",
       "    'TimeIndependentSchrodingerConstantPotentials1DCheckPointBeforeBoundryToConstantSubstitution105',\n",
       "    'TimeIndependentSchrodingerConstantPotentials1DCheckPointBeforeBoundryToConstantSubstitution105'],\n",
       "   ['TimeIndependentSchrodingerConstantPotentials1DCheckPointBeforeBoundryToConstantSubstitution105',\n",
       "    'TimeIndependentSchrodingerConstantPotentials1DCheckPointBeforeBoundryToConstantSubstitution105',\n",
       "    'TimeIndependentSchrodingerConstantPotentials1DCheckPointBeforeBoundryToConstantSubstitution105']],\n",
       "  'Post': [['TimeIndependentSchrodingerConstantPotentials1DCheckPointPostBoundryToConstantSubstitution112',\n",
       "    'TimeIndependentSchrodingerConstantPotentials1DCheckPointPostBoundryToConstantSubstitution112',\n",
       "    'TimeIndependentSchrodingerConstantPotentials1DCheckPointPostBoundryToConstantSubstitution112'],\n",
       "   ['TimeIndependentSchrodingerConstantPotentials1DCheckPointPostBoundryToConstantSubstitution112',\n",
       "    'TimeIndependentSchrodingerConstantPotentials1DCheckPointPostBoundryToConstantSubstitution112',\n",
       "    'TimeIndependentSchrodingerConstantPotentials1DCheckPointPostBoundryToConstantSubstitution112']]})"
      ]
     },
     "execution_count": 24,
     "metadata": {},
     "output_type": "execute_result"
    }
   ],
   "source": [
    "stairwell_solver.boundries_in_expression_to_constants()"
   ]
  },
  {
   "cell_type": "code",
   "execution_count": 25,
   "id": "f398e39e-055e-4981-9740-8513148b9789",
   "metadata": {},
   "outputs": [
    {
     "data": {
      "text/latex": [
       "$\\displaystyle \\psi_{0}{\\left(x \\right)} = \\frac{B_{0} e^{L_{0} k_{0}} e^{k_{0} x}}{e^{2 L_{0} k_{0}} - 1} - \\frac{B_{0} e^{L_{0} k_{0}} e^{- k_{0} x}}{e^{2 L_{0} k_{0}} - 1}$"
      ],
      "text/plain": [
       "Eq(\\psi_{0}(x), B_{0}*exp(L_0*k_0)*exp(k_0*x)/(exp(2*L_0*k_0) - 1) - B_{0}*exp(L_0*k_0)*exp(-k_0*x)/(exp(2*L_0*k_0) - 1))"
      ]
     },
     "metadata": {},
     "output_type": "display_data"
    },
    {
     "data": {
      "text/latex": [
       "$\\displaystyle \\psi_{1}{\\left(x \\right)} = \\frac{\\left(- B_{0} + B_{1} e^{L_{1} k_{1}}\\right) e^{k_{1} x}}{e^{2 L_{1} k_{1}} - 1} + \\frac{\\left(B_{0} e^{2 L_{1} k_{1}} - B_{1} e^{L_{1} k_{1}}\\right) e^{- k_{1} x}}{e^{2 L_{1} k_{1}} - 1}$"
      ],
      "text/plain": [
       "Eq(\\psi_{1}(x), (-B_{0} + B_{1}*exp(L_1*k_1))*exp(k_1*x)/(exp(2*L_1*k_1) - 1) + (B_{0}*exp(2*L_1*k_1) - B_{1}*exp(L_1*k_1))*exp(-k_1*x)/(exp(2*L_1*k_1) - 1))"
      ]
     },
     "metadata": {},
     "output_type": "display_data"
    },
    {
     "data": {
      "text/latex": [
       "$\\displaystyle \\psi_{2}{\\left(x \\right)} = \\frac{B_{1} e^{2 L_{2} k_{2}} e^{- k_{2} x}}{e^{2 L_{2} k_{2}} - 1} - \\frac{B_{1} e^{k_{2} x}}{e^{2 L_{2} k_{2}} - 1}$"
      ],
      "text/plain": [
       "Eq(\\psi_{2}(x), B_{1}*exp(2*L_2*k_2)*exp(-k_2*x)/(exp(2*L_2*k_2) - 1) - B_{1}*exp(k_2*x)/(exp(2*L_2*k_2) - 1))"
      ]
     },
     "metadata": {},
     "output_type": "display_data"
    }
   ],
   "source": [
    "display_steps( stairwell_solver.equations )"
   ]
  },
  {
   "cell_type": "code",
   "execution_count": null,
   "id": "ace409f1-a01c-4d97-9401-2172db2159ac",
   "metadata": {},
   "outputs": [],
   "source": []
  },
  {
   "cell_type": "code",
   "execution_count": 26,
   "id": "1bf6f05f-281a-43cb-a04a-9083533ab05b",
   "metadata": {},
   "outputs": [
    {
     "data": {
      "text/latex": [
       "$\\displaystyle \\int\\limits_{0}^{L_{0}} \\left(\\frac{B_{0} e^{L_{0} k_{0}} e^{k_{0} x}}{e^{2 L_{0} k_{0}} - 1} - \\frac{B_{0} e^{L_{0} k_{0}} e^{- k_{0} x}}{e^{2 L_{0} k_{0}} - 1}\\right) \\left(\\frac{e^{L_{0} k_{0}} e^{k_{0} x} \\overline{B_{0}}}{e^{2 L_{0} k_{0}} - 1} - \\frac{e^{L_{0} k_{0}} e^{- k_{0} x} \\overline{B_{0}}}{e^{2 L_{0} k_{0}} - 1}\\right)\\, dx = N_{0}$"
      ],
      "text/plain": [
       "Eq(Integral((B_{0}*exp(L_0*k_0)*exp(k_0*x)/(exp(2*L_0*k_0) - 1) - B_{0}*exp(L_0*k_0)*exp(-k_0*x)/(exp(2*L_0*k_0) - 1))*(exp(L_0*k_0)*exp(k_0*x)*conjugate(B_{0})/(exp(2*L_0*k_0) - 1) - exp(L_0*k_0)*exp(-k_0*x)*conjugate(B_{0})/(exp(2*L_0*k_0) - 1)), (x, 0, L_0)), N_0)"
      ]
     },
     "metadata": {},
     "output_type": "display_data"
    },
    {
     "data": {
      "text/latex": [
       "$\\displaystyle \\int\\limits_{0}^{L_{1}} \\left(\\frac{\\left(- B_{0} + B_{1} e^{L_{1} k_{1}}\\right) e^{k_{1} x}}{e^{2 L_{1} k_{1}} - 1} + \\frac{\\left(B_{0} e^{2 L_{1} k_{1}} - B_{1} e^{L_{1} k_{1}}\\right) e^{- k_{1} x}}{e^{2 L_{1} k_{1}} - 1}\\right) \\left(\\frac{\\left(e^{L_{1} k_{1}} \\overline{B_{1}} - \\overline{B_{0}}\\right) e^{k_{1} x}}{e^{2 L_{1} k_{1}} - 1} + \\frac{\\left(e^{2 L_{1} k_{1}} \\overline{B_{0}} - e^{L_{1} k_{1}} \\overline{B_{1}}\\right) e^{- k_{1} x}}{e^{2 L_{1} k_{1}} - 1}\\right)\\, dx = N_{1}$"
      ],
      "text/plain": [
       "Eq(Integral(((-B_{0} + B_{1}*exp(L_1*k_1))*exp(k_1*x)/(exp(2*L_1*k_1) - 1) + (B_{0}*exp(2*L_1*k_1) - B_{1}*exp(L_1*k_1))*exp(-k_1*x)/(exp(2*L_1*k_1) - 1))*((exp(L_1*k_1)*conjugate(B_{1}) - conjugate(B_{0}))*exp(k_1*x)/(exp(2*L_1*k_1) - 1) + (exp(2*L_1*k_1)*conjugate(B_{0}) - exp(L_1*k_1)*conjugate(B_{1}))*exp(-k_1*x)/(exp(2*L_1*k_1) - 1)), (x, 0, L_1)), N_1)"
      ]
     },
     "metadata": {},
     "output_type": "display_data"
    },
    {
     "data": {
      "text/latex": [
       "$\\displaystyle \\int\\limits_{0}^{L_{2}} \\left(\\frac{B_{1} e^{2 L_{2} k_{2}} e^{- k_{2} x}}{e^{2 L_{2} k_{2}} - 1} - \\frac{B_{1} e^{k_{2} x}}{e^{2 L_{2} k_{2}} - 1}\\right) \\left(\\frac{e^{2 L_{2} k_{2}} e^{- k_{2} x} \\overline{B_{1}}}{e^{2 L_{2} k_{2}} - 1} - \\frac{e^{k_{2} x} \\overline{B_{1}}}{e^{2 L_{2} k_{2}} - 1}\\right)\\, dx = N_{2}$"
      ],
      "text/plain": [
       "Eq(Integral((B_{1}*exp(2*L_2*k_2)*exp(-k_2*x)/(exp(2*L_2*k_2) - 1) - B_{1}*exp(k_2*x)/(exp(2*L_2*k_2) - 1))*(exp(2*L_2*k_2)*exp(-k_2*x)*conjugate(B_{1})/(exp(2*L_2*k_2) - 1) - exp(k_2*x)*conjugate(B_{1})/(exp(2*L_2*k_2) - 1)), (x, 0, L_2)), N_2)"
      ]
     },
     "metadata": {},
     "output_type": "display_data"
    }
   ],
   "source": [
    "display_steps( stairwell_solver.normalizations )"
   ]
  },
  {
   "cell_type": "code",
   "execution_count": null,
   "id": "f2fc26d5-b90e-4238-ad46-75f0fb1d40a9",
   "metadata": {},
   "outputs": [],
   "source": []
  },
  {
   "cell_type": "code",
   "execution_count": null,
   "id": "c50eb079-fda5-4b1c-a242-8a0ffea46bb8",
   "metadata": {},
   "outputs": [],
   "source": []
  },
  {
   "cell_type": "code",
   "execution_count": 27,
   "id": "2b713b2e-f5ee-4206-9e8b-1ade8af2f913",
   "metadata": {},
   "outputs": [],
   "source": [
    "q_constants = []\n",
    "for normalization in stairwell_solver.normalizations: \n",
    "    result, constants = group_constants( normalization.last_step(), [ stairwell_solver.position ] + stairwell_solver.boundry_constant_symbols, 'Q' )\n",
    "    q_constants.append( constants )\n",
    "    normalization.add_step( result )"
   ]
  },
  {
   "cell_type": "code",
   "execution_count": null,
   "id": "0994b8f5-57cc-4a1e-82ee-2c84576fbd5e",
   "metadata": {},
   "outputs": [],
   "source": []
  },
  {
   "cell_type": "code",
   "execution_count": 28,
   "id": "c0e808a9-50ed-47d0-8dec-cf5ee7d22f19",
   "metadata": {},
   "outputs": [
    {
     "data": {
      "text/latex": [
       "$\\displaystyle \\int\\limits_{0}^{L_{0}} \\left(B_{0} Q_{3} e^{Q_{2} x} - B_{0} Q_{3} e^{- Q_{2} x}\\right) \\left(Q_{3} e^{Q_{2} x} \\overline{B_{0}} - Q_{3} e^{- Q_{2} x} \\overline{B_{0}}\\right)\\, dx = N_{0}$"
      ],
      "text/plain": [
       "Eq(Integral((B_{0}*Q_{3}*exp(Q_{2}*x) - B_{0}*Q_{3}*exp(-Q_{2}*x))*(Q_{3}*exp(Q_{2}*x)*conjugate(B_{0}) - Q_{3}*exp(-Q_{2}*x)*conjugate(B_{0})), (x, 0, L_0)), N_0)"
      ]
     },
     "metadata": {},
     "output_type": "display_data"
    },
    {
     "data": {
      "text/latex": [
       "$\\displaystyle \\int\\limits_{0}^{L_{1}} \\left(Q_{4} \\left(- B_{0} + B_{1} Q_{2}\\right) e^{Q_{3} x} + Q_{4} \\left(B_{0} Q_{6} - B_{1} Q_{2}\\right) e^{- Q_{3} x}\\right) \\left(Q_{4} \\left(- Q_{2} \\overline{B_{1}} + Q_{6} \\overline{B_{0}}\\right) e^{- Q_{3} x} + Q_{4} \\left(Q_{2} \\overline{B_{1}} - \\overline{B_{0}}\\right) e^{Q_{3} x}\\right)\\, dx = N_{1}$"
      ],
      "text/plain": [
       "Eq(Integral((Q_{4}*(-B_{0} + B_{1}*Q_{2})*exp(Q_{3}*x) + Q_{4}*(B_{0}*Q_{6} - B_{1}*Q_{2})*exp(-Q_{3}*x))*(Q_{4}*(-Q_{2}*conjugate(B_{1}) + Q_{6}*conjugate(B_{0}))*exp(-Q_{3}*x) + Q_{4}*(Q_{2}*conjugate(B_{1}) - conjugate(B_{0}))*exp(Q_{3}*x)), (x, 0, L_1)), N_1)"
      ]
     },
     "metadata": {},
     "output_type": "display_data"
    },
    {
     "data": {
      "text/latex": [
       "$\\displaystyle \\int\\limits_{0}^{L_{2}} \\left(- B_{1} Q_{2} e^{Q_{1} x} + B_{1} Q_{4} e^{- Q_{1} x}\\right) \\left(- Q_{2} e^{Q_{1} x} \\overline{B_{1}} + Q_{4} e^{- Q_{1} x} \\overline{B_{1}}\\right)\\, dx = N_{2}$"
      ],
      "text/plain": [
       "Eq(Integral((-B_{1}*Q_{2}*exp(Q_{1}*x) + B_{1}*Q_{4}*exp(-Q_{1}*x))*(-Q_{2}*exp(Q_{1}*x)*conjugate(B_{1}) + Q_{4}*exp(-Q_{1}*x)*conjugate(B_{1})), (x, 0, L_2)), N_2)"
      ]
     },
     "metadata": {},
     "output_type": "display_data"
    }
   ],
   "source": [
    "display_steps( stairwell_solver.normalizations )"
   ]
  },
  {
   "cell_type": "code",
   "execution_count": null,
   "id": "a74ef523-c928-4109-86c7-baede7df3468",
   "metadata": {},
   "outputs": [],
   "source": []
  },
  {
   "cell_type": "code",
   "execution_count": null,
   "id": "add3910c-5045-4408-8bfb-a4a62a448d9c",
   "metadata": {},
   "outputs": [],
   "source": []
  },
  {
   "cell_type": "code",
   "execution_count": 29,
   "id": "61c3e519-2b4c-44fb-b3fa-798b27962863",
   "metadata": {},
   "outputs": [],
   "source": [
    "display_table = lambda table : [ ( display( key ), display_steps( table[ key ] ) ) for key in table ]"
   ]
  },
  {
   "cell_type": "code",
   "execution_count": null,
   "id": "d692aa09-c51b-4ad8-a453-3d0e36408850",
   "metadata": {},
   "outputs": [],
   "source": []
  },
  {
   "cell_type": "code",
   "execution_count": 30,
   "id": "1bb4830a-944a-470e-b6b2-a65bcc22fa6d",
   "metadata": {},
   "outputs": [
    {
     "name": "stdout",
     "output_type": "stream",
     "text": [
      "Has  B_{0}\n",
      "Solutions:  [Piecewise((-sqrt(2)*sqrt(-N_0*Q_{2}/(Q_{3}**2*(4*L_0*Q_{2}*exp(2*L_0*Q_{2}) - exp(4*L_0*Q_{2}) + 1)))*exp(L_0*Q_{2}), Ne(Q_{2}, 0)), (nan, True)), Piecewise((sqrt(2)*sqrt(-N_0*Q_{2}/(Q_{3}**2*(4*L_0*Q_{2}*exp(2*L_0*Q_{2}) - exp(4*L_0*Q_{2}) + 1)))*exp(L_0*Q_{2}), Ne(Q_{2}, 0)), (nan, True))]\n"
     ]
    },
    {
     "data": {
      "text/latex": [
       "$\\displaystyle B_{0}$"
      ],
      "text/plain": [
       "B_{0}"
      ]
     },
     "metadata": {},
     "output_type": "display_data"
    },
    {
     "name": "stdout",
     "output_type": "stream",
     "text": [
      "I have sols!\n"
     ]
    },
    {
     "data": {
      "text/latex": [
       "$\\displaystyle \\begin{cases} - \\sqrt{2} \\sqrt{- \\frac{N_{0} Q_{2}}{Q_{3}^{2} \\left(4 L_{0} Q_{2} e^{2 L_{0} Q_{2}} - e^{4 L_{0} Q_{2}} + 1\\right)}} e^{L_{0} Q_{2}} & \\text{for}\\: Q_{2} \\neq 0 \\\\\\text{NaN} & \\text{otherwise} \\end{cases}$"
      ],
      "text/plain": [
       "Piecewise((-sqrt(2)*sqrt(-N_0*Q_{2}/(Q_{3}**2*(4*L_0*Q_{2}*exp(2*L_0*Q_{2}) - exp(4*L_0*Q_{2}) + 1)))*exp(L_0*Q_{2}), Ne(Q_{2}, 0)), (nan, True))"
      ]
     },
     "metadata": {},
     "output_type": "display_data"
    },
    {
     "data": {
      "text/latex": [
       "$\\displaystyle \\begin{cases} \\sqrt{2} \\sqrt{- \\frac{N_{0} Q_{2}}{Q_{3}^{2} \\left(4 L_{0} Q_{2} e^{2 L_{0} Q_{2}} - e^{4 L_{0} Q_{2}} + 1\\right)}} e^{L_{0} Q_{2}} & \\text{for}\\: Q_{2} \\neq 0 \\\\\\text{NaN} & \\text{otherwise} \\end{cases}$"
      ],
      "text/plain": [
       "Piecewise((sqrt(2)*sqrt(-N_0*Q_{2}/(Q_{3}**2*(4*L_0*Q_{2}*exp(2*L_0*Q_{2}) - exp(4*L_0*Q_{2}) + 1)))*exp(L_0*Q_{2}), Ne(Q_{2}, 0)), (nan, True))"
      ]
     },
     "metadata": {},
     "output_type": "display_data"
    },
    {
     "name": "stdout",
     "output_type": "stream",
     "text": [
      "Solved for  B_{0}\n"
     ]
    }
   ],
   "source": [
    "auto_solved = {}\n",
    "auto_solved[ 0 ] = stairwell_solver.solve_boundry_constants_from_equation( stairwell_solver.normalizations[ 0 ] )"
   ]
  },
  {
   "cell_type": "code",
   "execution_count": 31,
   "id": "7aaaaa91-91e0-4bc5-a298-bd97dd460a91",
   "metadata": {},
   "outputs": [
    {
     "data": {
      "text/latex": [
       "$\\displaystyle B_{0}$"
      ],
      "text/plain": [
       "B_{0}"
      ]
     },
     "metadata": {},
     "output_type": "display_data"
    },
    {
     "data": {
      "text/latex": [
       "$\\displaystyle \\begin{cases} - \\sqrt{2} \\sqrt{- \\frac{N_{0} Q_{2}}{Q_{3}^{2} \\left(4 L_{0} Q_{2} e^{2 L_{0} Q_{2}} - e^{4 L_{0} Q_{2}} + 1\\right)}} e^{L_{0} Q_{2}} & \\text{for}\\: Q_{2} \\neq 0 \\\\\\text{NaN} & \\text{otherwise} \\end{cases}$"
      ],
      "text/plain": [
       "Piecewise((-sqrt(2)*sqrt(-N_0*Q_{2}/(Q_{3}**2*(4*L_0*Q_{2}*exp(2*L_0*Q_{2}) - exp(4*L_0*Q_{2}) + 1)))*exp(L_0*Q_{2}), Ne(Q_{2}, 0)), (nan, True))"
      ]
     },
     "metadata": {},
     "output_type": "display_data"
    },
    {
     "data": {
      "text/latex": [
       "$\\displaystyle \\begin{cases} \\sqrt{2} \\sqrt{- \\frac{N_{0} Q_{2}}{Q_{3}^{2} \\left(4 L_{0} Q_{2} e^{2 L_{0} Q_{2}} - e^{4 L_{0} Q_{2}} + 1\\right)}} e^{L_{0} Q_{2}} & \\text{for}\\: Q_{2} \\neq 0 \\\\\\text{NaN} & \\text{otherwise} \\end{cases}$"
      ],
      "text/plain": [
       "Piecewise((sqrt(2)*sqrt(-N_0*Q_{2}/(Q_{3}**2*(4*L_0*Q_{2}*exp(2*L_0*Q_{2}) - exp(4*L_0*Q_{2}) + 1)))*exp(L_0*Q_{2}), Ne(Q_{2}, 0)), (nan, True))"
      ]
     },
     "metadata": {},
     "output_type": "display_data"
    },
    {
     "data": {
      "text/plain": [
       "[(None, None)]"
      ]
     },
     "execution_count": 31,
     "metadata": {},
     "output_type": "execute_result"
    }
   ],
   "source": [
    "display_table( auto_solved[ 0 ] )"
   ]
  },
  {
   "cell_type": "code",
   "execution_count": null,
   "id": "e6353287-8fa1-478a-b194-411f1cbbb7a5",
   "metadata": {},
   "outputs": [],
   "source": []
  },
  {
   "cell_type": "code",
   "execution_count": 32,
   "id": "e6aa6498-015c-4775-bbc6-8dc452e6b058",
   "metadata": {},
   "outputs": [
    {
     "name": "stdout",
     "output_type": "stream",
     "text": [
      "Has  B_{0}\n",
      "Solutions:  [Piecewise(((B_{1}*Q_{2}*Q_{4}*(2*L_1*Q_{3}*Q_{6}*exp(2*L_1*Q_{3}) + 2*L_1*Q_{3}*exp(2*L_1*Q_{3}) - Q_{6}*exp(2*L_1*Q_{3}) + Q_{6} - exp(4*L_1*Q_{3}) + exp(2*L_1*Q_{3})) + sqrt(4*B_{1}**2*L_1**2*Q_{2}**2*Q_{3}**2*Q_{4}**2*Q_{6}**2*exp(2*L_1*Q_{3}) - 8*B_{1}**2*L_1**2*Q_{2}**2*Q_{3}**2*Q_{4}**2*Q_{6}*exp(2*L_1*Q_{3}) + 4*B_{1}**2*L_1**2*Q_{2}**2*Q_{3}**2*Q_{4}**2*exp(2*L_1*Q_{3}) - B_{1}**2*Q_{2}**2*Q_{4}**2*Q_{6}**2*exp(4*L_1*Q_{3}) + 2*B_{1}**2*Q_{2}**2*Q_{4}**2*Q_{6}**2*exp(2*L_1*Q_{3}) - B_{1}**2*Q_{2}**2*Q_{4}**2*Q_{6}**2 + 2*B_{1}**2*Q_{2}**2*Q_{4}**2*Q_{6}*exp(4*L_1*Q_{3}) - 4*B_{1}**2*Q_{2}**2*Q_{4}**2*Q_{6}*exp(2*L_1*Q_{3}) + 2*B_{1}**2*Q_{2}**2*Q_{4}**2*Q_{6} - B_{1}**2*Q_{2}**2*Q_{4}**2*exp(4*L_1*Q_{3}) + 2*B_{1}**2*Q_{2}**2*Q_{4}**2*exp(2*L_1*Q_{3}) - B_{1}**2*Q_{2}**2*Q_{4}**2 - 8*L_1*N_1*Q_{3}**2*Q_{6}*exp(2*L_1*Q_{3}) + 2*N_1*Q_{3}*Q_{6}**2*exp(2*L_1*Q_{3}) - 2*N_1*Q_{3}*Q_{6}**2 + 2*N_1*Q_{3}*exp(4*L_1*Q_{3}) - 2*N_1*Q_{3}*exp(2*L_1*Q_{3}))*exp(L_1*Q_{3}))/(Q_{4}*(4*L_1*Q_{3}*Q_{6}*exp(2*L_1*Q_{3}) - Q_{6}**2*exp(2*L_1*Q_{3}) + Q_{6}**2 - exp(4*L_1*Q_{3}) + exp(2*L_1*Q_{3}))), Ne(Q_{3}, 0)), (nan, True)), Piecewise(((2*B_{1}*L_1*Q_{2}*Q_{3}*Q_{4}*Q_{6}*exp(2*L_1*Q_{3}) + 2*B_{1}*L_1*Q_{2}*Q_{3}*Q_{4}*exp(2*L_1*Q_{3}) - B_{1}*Q_{2}*Q_{4}*Q_{6}*exp(2*L_1*Q_{3}) + B_{1}*Q_{2}*Q_{4}*Q_{6} - B_{1}*Q_{2}*Q_{4}*exp(4*L_1*Q_{3}) + B_{1}*Q_{2}*Q_{4}*exp(2*L_1*Q_{3}) - sqrt(4*B_{1}**2*L_1**2*Q_{2}**2*Q_{3}**2*Q_{4}**2*Q_{6}**2*exp(2*L_1*Q_{3}) - 8*B_{1}**2*L_1**2*Q_{2}**2*Q_{3}**2*Q_{4}**2*Q_{6}*exp(2*L_1*Q_{3}) + 4*B_{1}**2*L_1**2*Q_{2}**2*Q_{3}**2*Q_{4}**2*exp(2*L_1*Q_{3}) - B_{1}**2*Q_{2}**2*Q_{4}**2*Q_{6}**2*exp(4*L_1*Q_{3}) + 2*B_{1}**2*Q_{2}**2*Q_{4}**2*Q_{6}**2*exp(2*L_1*Q_{3}) - B_{1}**2*Q_{2}**2*Q_{4}**2*Q_{6}**2 + 2*B_{1}**2*Q_{2}**2*Q_{4}**2*Q_{6}*exp(4*L_1*Q_{3}) - 4*B_{1}**2*Q_{2}**2*Q_{4}**2*Q_{6}*exp(2*L_1*Q_{3}) + 2*B_{1}**2*Q_{2}**2*Q_{4}**2*Q_{6} - B_{1}**2*Q_{2}**2*Q_{4}**2*exp(4*L_1*Q_{3}) + 2*B_{1}**2*Q_{2}**2*Q_{4}**2*exp(2*L_1*Q_{3}) - B_{1}**2*Q_{2}**2*Q_{4}**2 - 8*L_1*N_1*Q_{3}**2*Q_{6}*exp(2*L_1*Q_{3}) + 2*N_1*Q_{3}*Q_{6}**2*exp(2*L_1*Q_{3}) - 2*N_1*Q_{3}*Q_{6}**2 + 2*N_1*Q_{3}*exp(4*L_1*Q_{3}) - 2*N_1*Q_{3}*exp(2*L_1*Q_{3}))*exp(L_1*Q_{3}))/(Q_{4}*(4*L_1*Q_{3}*Q_{6}*exp(2*L_1*Q_{3}) - Q_{6}**2*exp(2*L_1*Q_{3}) + Q_{6}**2 - exp(4*L_1*Q_{3}) + exp(2*L_1*Q_{3}))), Ne(Q_{3}, 0)), (nan, True)), Piecewise((-sqrt(N_1/(L_1*Q_{4}**2*(Q_{6}**2 - 2*Q_{6} + 1))), Eq(Q_{3}, 0)), (nan, True)), Piecewise((sqrt(N_1/(L_1*Q_{4}**2*(Q_{6}**2 - 2*Q_{6} + 1))), Eq(Q_{3}, 0)), (nan, True))]\n"
     ]
    },
    {
     "data": {
      "text/latex": [
       "$\\displaystyle B_{0}$"
      ],
      "text/plain": [
       "B_{0}"
      ]
     },
     "metadata": {},
     "output_type": "display_data"
    },
    {
     "name": "stdout",
     "output_type": "stream",
     "text": [
      "I have sols!\n"
     ]
    },
    {
     "data": {
      "text/latex": [
       "$\\displaystyle \\begin{cases} \\frac{B_{1} Q_{2} Q_{4} \\left(2 L_{1} Q_{3} Q_{6} e^{2 L_{1} Q_{3}} + 2 L_{1} Q_{3} e^{2 L_{1} Q_{3}} - Q_{6} e^{2 L_{1} Q_{3}} + Q_{6} - e^{4 L_{1} Q_{3}} + e^{2 L_{1} Q_{3}}\\right) + \\sqrt{4 B_{1}^{2} L_{1}^{2} Q_{2}^{2} Q_{3}^{2} Q_{4}^{2} Q_{6}^{2} e^{2 L_{1} Q_{3}} - 8 B_{1}^{2} L_{1}^{2} Q_{2}^{2} Q_{3}^{2} Q_{4}^{2} Q_{6} e^{2 L_{1} Q_{3}} + 4 B_{1}^{2} L_{1}^{2} Q_{2}^{2} Q_{3}^{2} Q_{4}^{2} e^{2 L_{1} Q_{3}} - B_{1}^{2} Q_{2}^{2} Q_{4}^{2} Q_{6}^{2} e^{4 L_{1} Q_{3}} + 2 B_{1}^{2} Q_{2}^{2} Q_{4}^{2} Q_{6}^{2} e^{2 L_{1} Q_{3}} - B_{1}^{2} Q_{2}^{2} Q_{4}^{2} Q_{6}^{2} + 2 B_{1}^{2} Q_{2}^{2} Q_{4}^{2} Q_{6} e^{4 L_{1} Q_{3}} - 4 B_{1}^{2} Q_{2}^{2} Q_{4}^{2} Q_{6} e^{2 L_{1} Q_{3}} + 2 B_{1}^{2} Q_{2}^{2} Q_{4}^{2} Q_{6} - B_{1}^{2} Q_{2}^{2} Q_{4}^{2} e^{4 L_{1} Q_{3}} + 2 B_{1}^{2} Q_{2}^{2} Q_{4}^{2} e^{2 L_{1} Q_{3}} - B_{1}^{2} Q_{2}^{2} Q_{4}^{2} - 8 L_{1} N_{1} Q_{3}^{2} Q_{6} e^{2 L_{1} Q_{3}} + 2 N_{1} Q_{3} Q_{6}^{2} e^{2 L_{1} Q_{3}} - 2 N_{1} Q_{3} Q_{6}^{2} + 2 N_{1} Q_{3} e^{4 L_{1} Q_{3}} - 2 N_{1} Q_{3} e^{2 L_{1} Q_{3}}} e^{L_{1} Q_{3}}}{Q_{4} \\left(4 L_{1} Q_{3} Q_{6} e^{2 L_{1} Q_{3}} - Q_{6}^{2} e^{2 L_{1} Q_{3}} + Q_{6}^{2} - e^{4 L_{1} Q_{3}} + e^{2 L_{1} Q_{3}}\\right)} & \\text{for}\\: Q_{3} \\neq 0 \\\\\\text{NaN} & \\text{otherwise} \\end{cases}$"
      ],
      "text/plain": [
       "Piecewise(((B_{1}*Q_{2}*Q_{4}*(2*L_1*Q_{3}*Q_{6}*exp(2*L_1*Q_{3}) + 2*L_1*Q_{3}*exp(2*L_1*Q_{3}) - Q_{6}*exp(2*L_1*Q_{3}) + Q_{6} - exp(4*L_1*Q_{3}) + exp(2*L_1*Q_{3})) + sqrt(4*B_{1}**2*L_1**2*Q_{2}**2*Q_{3}**2*Q_{4}**2*Q_{6}**2*exp(2*L_1*Q_{3}) - 8*B_{1}**2*L_1**2*Q_{2}**2*Q_{3}**2*Q_{4}**2*Q_{6}*exp(2*L_1*Q_{3}) + 4*B_{1}**2*L_1**2*Q_{2}**2*Q_{3}**2*Q_{4}**2*exp(2*L_1*Q_{3}) - B_{1}**2*Q_{2}**2*Q_{4}**2*Q_{6}**2*exp(4*L_1*Q_{3}) + 2*B_{1}**2*Q_{2}**2*Q_{4}**2*Q_{6}**2*exp(2*L_1*Q_{3}) - B_{1}**2*Q_{2}**2*Q_{4}**2*Q_{6}**2 + 2*B_{1}**2*Q_{2}**2*Q_{4}**2*Q_{6}*exp(4*L_1*Q_{3}) - 4*B_{1}**2*Q_{2}**2*Q_{4}**2*Q_{6}*exp(2*L_1*Q_{3}) + 2*B_{1}**2*Q_{2}**2*Q_{4}**2*Q_{6} - B_{1}**2*Q_{2}**2*Q_{4}**2*exp(4*L_1*Q_{3}) + 2*B_{1}**2*Q_{2}**2*Q_{4}**2*exp(2*L_1*Q_{3}) - B_{1}**2*Q_{2}**2*Q_{4}**2 - 8*L_1*N_1*Q_{3}**2*Q_{6}*exp(2*L_1*Q_{3}) + 2*N_1*Q_{3}*Q_{6}**2*exp(2*L_1*Q_{3}) - 2*N_1*Q_{3}*Q_{6}**2 + 2*N_1*Q_{3}*exp(4*L_1*Q_{3}) - 2*N_1*Q_{3}*exp(2*L_1*Q_{3}))*exp(L_1*Q_{3}))/(Q_{4}*(4*L_1*Q_{3}*Q_{6}*exp(2*L_1*Q_{3}) - Q_{6}**2*exp(2*L_1*Q_{3}) + Q_{6}**2 - exp(4*L_1*Q_{3}) + exp(2*L_1*Q_{3}))), Ne(Q_{3}, 0)), (nan, True))"
      ]
     },
     "metadata": {},
     "output_type": "display_data"
    },
    {
     "data": {
      "text/latex": [
       "$\\displaystyle \\begin{cases} \\frac{2 B_{1} L_{1} Q_{2} Q_{3} Q_{4} Q_{6} e^{2 L_{1} Q_{3}} + 2 B_{1} L_{1} Q_{2} Q_{3} Q_{4} e^{2 L_{1} Q_{3}} - B_{1} Q_{2} Q_{4} Q_{6} e^{2 L_{1} Q_{3}} + B_{1} Q_{2} Q_{4} Q_{6} - B_{1} Q_{2} Q_{4} e^{4 L_{1} Q_{3}} + B_{1} Q_{2} Q_{4} e^{2 L_{1} Q_{3}} - \\sqrt{4 B_{1}^{2} L_{1}^{2} Q_{2}^{2} Q_{3}^{2} Q_{4}^{2} Q_{6}^{2} e^{2 L_{1} Q_{3}} - 8 B_{1}^{2} L_{1}^{2} Q_{2}^{2} Q_{3}^{2} Q_{4}^{2} Q_{6} e^{2 L_{1} Q_{3}} + 4 B_{1}^{2} L_{1}^{2} Q_{2}^{2} Q_{3}^{2} Q_{4}^{2} e^{2 L_{1} Q_{3}} - B_{1}^{2} Q_{2}^{2} Q_{4}^{2} Q_{6}^{2} e^{4 L_{1} Q_{3}} + 2 B_{1}^{2} Q_{2}^{2} Q_{4}^{2} Q_{6}^{2} e^{2 L_{1} Q_{3}} - B_{1}^{2} Q_{2}^{2} Q_{4}^{2} Q_{6}^{2} + 2 B_{1}^{2} Q_{2}^{2} Q_{4}^{2} Q_{6} e^{4 L_{1} Q_{3}} - 4 B_{1}^{2} Q_{2}^{2} Q_{4}^{2} Q_{6} e^{2 L_{1} Q_{3}} + 2 B_{1}^{2} Q_{2}^{2} Q_{4}^{2} Q_{6} - B_{1}^{2} Q_{2}^{2} Q_{4}^{2} e^{4 L_{1} Q_{3}} + 2 B_{1}^{2} Q_{2}^{2} Q_{4}^{2} e^{2 L_{1} Q_{3}} - B_{1}^{2} Q_{2}^{2} Q_{4}^{2} - 8 L_{1} N_{1} Q_{3}^{2} Q_{6} e^{2 L_{1} Q_{3}} + 2 N_{1} Q_{3} Q_{6}^{2} e^{2 L_{1} Q_{3}} - 2 N_{1} Q_{3} Q_{6}^{2} + 2 N_{1} Q_{3} e^{4 L_{1} Q_{3}} - 2 N_{1} Q_{3} e^{2 L_{1} Q_{3}}} e^{L_{1} Q_{3}}}{Q_{4} \\left(4 L_{1} Q_{3} Q_{6} e^{2 L_{1} Q_{3}} - Q_{6}^{2} e^{2 L_{1} Q_{3}} + Q_{6}^{2} - e^{4 L_{1} Q_{3}} + e^{2 L_{1} Q_{3}}\\right)} & \\text{for}\\: Q_{3} \\neq 0 \\\\\\text{NaN} & \\text{otherwise} \\end{cases}$"
      ],
      "text/plain": [
       "Piecewise(((2*B_{1}*L_1*Q_{2}*Q_{3}*Q_{4}*Q_{6}*exp(2*L_1*Q_{3}) + 2*B_{1}*L_1*Q_{2}*Q_{3}*Q_{4}*exp(2*L_1*Q_{3}) - B_{1}*Q_{2}*Q_{4}*Q_{6}*exp(2*L_1*Q_{3}) + B_{1}*Q_{2}*Q_{4}*Q_{6} - B_{1}*Q_{2}*Q_{4}*exp(4*L_1*Q_{3}) + B_{1}*Q_{2}*Q_{4}*exp(2*L_1*Q_{3}) - sqrt(4*B_{1}**2*L_1**2*Q_{2}**2*Q_{3}**2*Q_{4}**2*Q_{6}**2*exp(2*L_1*Q_{3}) - 8*B_{1}**2*L_1**2*Q_{2}**2*Q_{3}**2*Q_{4}**2*Q_{6}*exp(2*L_1*Q_{3}) + 4*B_{1}**2*L_1**2*Q_{2}**2*Q_{3}**2*Q_{4}**2*exp(2*L_1*Q_{3}) - B_{1}**2*Q_{2}**2*Q_{4}**2*Q_{6}**2*exp(4*L_1*Q_{3}) + 2*B_{1}**2*Q_{2}**2*Q_{4}**2*Q_{6}**2*exp(2*L_1*Q_{3}) - B_{1}**2*Q_{2}**2*Q_{4}**2*Q_{6}**2 + 2*B_{1}**2*Q_{2}**2*Q_{4}**2*Q_{6}*exp(4*L_1*Q_{3}) - 4*B_{1}**2*Q_{2}**2*Q_{4}**2*Q_{6}*exp(2*L_1*Q_{3}) + 2*B_{1}**2*Q_{2}**2*Q_{4}**2*Q_{6} - B_{1}**2*Q_{2}**2*Q_{4}**2*exp(4*L_1*Q_{3}) + 2*B_{1}**2*Q_{2}**2*Q_{4}**2*exp(2*L_1*Q_{3}) - B_{1}**2*Q_{2}**2*Q_{4}**2 - 8*L_1*N_1*Q_{3}**2*Q_{6}*exp(2*L_1*Q_{3}) + 2*N_1*Q_{3}*Q_{6}**2*exp(2*L_1*Q_{3}) - 2*N_1*Q_{3}*Q_{6}**2 + 2*N_1*Q_{3}*exp(4*L_1*Q_{3}) - 2*N_1*Q_{3}*exp(2*L_1*Q_{3}))*exp(L_1*Q_{3}))/(Q_{4}*(4*L_1*Q_{3}*Q_{6}*exp(2*L_1*Q_{3}) - Q_{6}**2*exp(2*L_1*Q_{3}) + Q_{6}**2 - exp(4*L_1*Q_{3}) + exp(2*L_1*Q_{3}))), Ne(Q_{3}, 0)), (nan, True))"
      ]
     },
     "metadata": {},
     "output_type": "display_data"
    },
    {
     "data": {
      "text/latex": [
       "$\\displaystyle \\begin{cases} - \\sqrt{\\frac{N_{1}}{L_{1} Q_{4}^{2} \\left(Q_{6}^{2} - 2 Q_{6} + 1\\right)}} & \\text{for}\\: Q_{3} = 0 \\\\\\text{NaN} & \\text{otherwise} \\end{cases}$"
      ],
      "text/plain": [
       "Piecewise((-sqrt(N_1/(L_1*Q_{4}**2*(Q_{6}**2 - 2*Q_{6} + 1))), Eq(Q_{3}, 0)), (nan, True))"
      ]
     },
     "metadata": {},
     "output_type": "display_data"
    },
    {
     "data": {
      "text/latex": [
       "$\\displaystyle \\begin{cases} \\sqrt{\\frac{N_{1}}{L_{1} Q_{4}^{2} \\left(Q_{6}^{2} - 2 Q_{6} + 1\\right)}} & \\text{for}\\: Q_{3} = 0 \\\\\\text{NaN} & \\text{otherwise} \\end{cases}$"
      ],
      "text/plain": [
       "Piecewise((sqrt(N_1/(L_1*Q_{4}**2*(Q_{6}**2 - 2*Q_{6} + 1))), Eq(Q_{3}, 0)), (nan, True))"
      ]
     },
     "metadata": {},
     "output_type": "display_data"
    },
    {
     "name": "stdout",
     "output_type": "stream",
     "text": [
      "Solved for  B_{0}\n"
     ]
    }
   ],
   "source": [
    "auto_solved[ 1 ] = stairwell_solver.solve_boundry_constants_from_equation( stairwell_solver.normalizations[ 1 ] )"
   ]
  },
  {
   "cell_type": "code",
   "execution_count": 33,
   "id": "5305e392-df62-4e81-ace3-0408b6f685ad",
   "metadata": {},
   "outputs": [
    {
     "data": {
      "text/latex": [
       "$\\displaystyle B_{0}$"
      ],
      "text/plain": [
       "B_{0}"
      ]
     },
     "metadata": {},
     "output_type": "display_data"
    },
    {
     "data": {
      "text/latex": [
       "$\\displaystyle \\begin{cases} - \\sqrt{2} \\sqrt{- \\frac{N_{0} Q_{2}}{Q_{3}^{2} \\left(4 L_{0} Q_{2} e^{2 L_{0} Q_{2}} - e^{4 L_{0} Q_{2}} + 1\\right)}} e^{L_{0} Q_{2}} & \\text{for}\\: Q_{2} \\neq 0 \\\\\\text{NaN} & \\text{otherwise} \\end{cases}$"
      ],
      "text/plain": [
       "Piecewise((-sqrt(2)*sqrt(-N_0*Q_{2}/(Q_{3}**2*(4*L_0*Q_{2}*exp(2*L_0*Q_{2}) - exp(4*L_0*Q_{2}) + 1)))*exp(L_0*Q_{2}), Ne(Q_{2}, 0)), (nan, True))"
      ]
     },
     "metadata": {},
     "output_type": "display_data"
    },
    {
     "data": {
      "text/latex": [
       "$\\displaystyle \\begin{cases} \\sqrt{2} \\sqrt{- \\frac{N_{0} Q_{2}}{Q_{3}^{2} \\left(4 L_{0} Q_{2} e^{2 L_{0} Q_{2}} - e^{4 L_{0} Q_{2}} + 1\\right)}} e^{L_{0} Q_{2}} & \\text{for}\\: Q_{2} \\neq 0 \\\\\\text{NaN} & \\text{otherwise} \\end{cases}$"
      ],
      "text/plain": [
       "Piecewise((sqrt(2)*sqrt(-N_0*Q_{2}/(Q_{3}**2*(4*L_0*Q_{2}*exp(2*L_0*Q_{2}) - exp(4*L_0*Q_{2}) + 1)))*exp(L_0*Q_{2}), Ne(Q_{2}, 0)), (nan, True))"
      ]
     },
     "metadata": {},
     "output_type": "display_data"
    },
    {
     "data": {
      "text/latex": [
       "$\\displaystyle \\begin{cases} \\frac{B_{1} Q_{2} Q_{4} \\left(2 L_{1} Q_{3} Q_{6} e^{2 L_{1} Q_{3}} + 2 L_{1} Q_{3} e^{2 L_{1} Q_{3}} - Q_{6} e^{2 L_{1} Q_{3}} + Q_{6} - e^{4 L_{1} Q_{3}} + e^{2 L_{1} Q_{3}}\\right) + \\sqrt{4 B_{1}^{2} L_{1}^{2} Q_{2}^{2} Q_{3}^{2} Q_{4}^{2} Q_{6}^{2} e^{2 L_{1} Q_{3}} - 8 B_{1}^{2} L_{1}^{2} Q_{2}^{2} Q_{3}^{2} Q_{4}^{2} Q_{6} e^{2 L_{1} Q_{3}} + 4 B_{1}^{2} L_{1}^{2} Q_{2}^{2} Q_{3}^{2} Q_{4}^{2} e^{2 L_{1} Q_{3}} - B_{1}^{2} Q_{2}^{2} Q_{4}^{2} Q_{6}^{2} e^{4 L_{1} Q_{3}} + 2 B_{1}^{2} Q_{2}^{2} Q_{4}^{2} Q_{6}^{2} e^{2 L_{1} Q_{3}} - B_{1}^{2} Q_{2}^{2} Q_{4}^{2} Q_{6}^{2} + 2 B_{1}^{2} Q_{2}^{2} Q_{4}^{2} Q_{6} e^{4 L_{1} Q_{3}} - 4 B_{1}^{2} Q_{2}^{2} Q_{4}^{2} Q_{6} e^{2 L_{1} Q_{3}} + 2 B_{1}^{2} Q_{2}^{2} Q_{4}^{2} Q_{6} - B_{1}^{2} Q_{2}^{2} Q_{4}^{2} e^{4 L_{1} Q_{3}} + 2 B_{1}^{2} Q_{2}^{2} Q_{4}^{2} e^{2 L_{1} Q_{3}} - B_{1}^{2} Q_{2}^{2} Q_{4}^{2} - 8 L_{1} N_{1} Q_{3}^{2} Q_{6} e^{2 L_{1} Q_{3}} + 2 N_{1} Q_{3} Q_{6}^{2} e^{2 L_{1} Q_{3}} - 2 N_{1} Q_{3} Q_{6}^{2} + 2 N_{1} Q_{3} e^{4 L_{1} Q_{3}} - 2 N_{1} Q_{3} e^{2 L_{1} Q_{3}}} e^{L_{1} Q_{3}}}{Q_{4} \\left(4 L_{1} Q_{3} Q_{6} e^{2 L_{1} Q_{3}} - Q_{6}^{2} e^{2 L_{1} Q_{3}} + Q_{6}^{2} - e^{4 L_{1} Q_{3}} + e^{2 L_{1} Q_{3}}\\right)} & \\text{for}\\: Q_{3} \\neq 0 \\\\\\text{NaN} & \\text{otherwise} \\end{cases}$"
      ],
      "text/plain": [
       "Piecewise(((B_{1}*Q_{2}*Q_{4}*(2*L_1*Q_{3}*Q_{6}*exp(2*L_1*Q_{3}) + 2*L_1*Q_{3}*exp(2*L_1*Q_{3}) - Q_{6}*exp(2*L_1*Q_{3}) + Q_{6} - exp(4*L_1*Q_{3}) + exp(2*L_1*Q_{3})) + sqrt(4*B_{1}**2*L_1**2*Q_{2}**2*Q_{3}**2*Q_{4}**2*Q_{6}**2*exp(2*L_1*Q_{3}) - 8*B_{1}**2*L_1**2*Q_{2}**2*Q_{3}**2*Q_{4}**2*Q_{6}*exp(2*L_1*Q_{3}) + 4*B_{1}**2*L_1**2*Q_{2}**2*Q_{3}**2*Q_{4}**2*exp(2*L_1*Q_{3}) - B_{1}**2*Q_{2}**2*Q_{4}**2*Q_{6}**2*exp(4*L_1*Q_{3}) + 2*B_{1}**2*Q_{2}**2*Q_{4}**2*Q_{6}**2*exp(2*L_1*Q_{3}) - B_{1}**2*Q_{2}**2*Q_{4}**2*Q_{6}**2 + 2*B_{1}**2*Q_{2}**2*Q_{4}**2*Q_{6}*exp(4*L_1*Q_{3}) - 4*B_{1}**2*Q_{2}**2*Q_{4}**2*Q_{6}*exp(2*L_1*Q_{3}) + 2*B_{1}**2*Q_{2}**2*Q_{4}**2*Q_{6} - B_{1}**2*Q_{2}**2*Q_{4}**2*exp(4*L_1*Q_{3}) + 2*B_{1}**2*Q_{2}**2*Q_{4}**2*exp(2*L_1*Q_{3}) - B_{1}**2*Q_{2}**2*Q_{4}**2 - 8*L_1*N_1*Q_{3}**2*Q_{6}*exp(2*L_1*Q_{3}) + 2*N_1*Q_{3}*Q_{6}**2*exp(2*L_1*Q_{3}) - 2*N_1*Q_{3}*Q_{6}**2 + 2*N_1*Q_{3}*exp(4*L_1*Q_{3}) - 2*N_1*Q_{3}*exp(2*L_1*Q_{3}))*exp(L_1*Q_{3}))/(Q_{4}*(4*L_1*Q_{3}*Q_{6}*exp(2*L_1*Q_{3}) - Q_{6}**2*exp(2*L_1*Q_{3}) + Q_{6}**2 - exp(4*L_1*Q_{3}) + exp(2*L_1*Q_{3}))), Ne(Q_{3}, 0)), (nan, True))"
      ]
     },
     "metadata": {},
     "output_type": "display_data"
    },
    {
     "data": {
      "text/latex": [
       "$\\displaystyle \\begin{cases} \\frac{2 B_{1} L_{1} Q_{2} Q_{3} Q_{4} Q_{6} e^{2 L_{1} Q_{3}} + 2 B_{1} L_{1} Q_{2} Q_{3} Q_{4} e^{2 L_{1} Q_{3}} - B_{1} Q_{2} Q_{4} Q_{6} e^{2 L_{1} Q_{3}} + B_{1} Q_{2} Q_{4} Q_{6} - B_{1} Q_{2} Q_{4} e^{4 L_{1} Q_{3}} + B_{1} Q_{2} Q_{4} e^{2 L_{1} Q_{3}} - \\sqrt{4 B_{1}^{2} L_{1}^{2} Q_{2}^{2} Q_{3}^{2} Q_{4}^{2} Q_{6}^{2} e^{2 L_{1} Q_{3}} - 8 B_{1}^{2} L_{1}^{2} Q_{2}^{2} Q_{3}^{2} Q_{4}^{2} Q_{6} e^{2 L_{1} Q_{3}} + 4 B_{1}^{2} L_{1}^{2} Q_{2}^{2} Q_{3}^{2} Q_{4}^{2} e^{2 L_{1} Q_{3}} - B_{1}^{2} Q_{2}^{2} Q_{4}^{2} Q_{6}^{2} e^{4 L_{1} Q_{3}} + 2 B_{1}^{2} Q_{2}^{2} Q_{4}^{2} Q_{6}^{2} e^{2 L_{1} Q_{3}} - B_{1}^{2} Q_{2}^{2} Q_{4}^{2} Q_{6}^{2} + 2 B_{1}^{2} Q_{2}^{2} Q_{4}^{2} Q_{6} e^{4 L_{1} Q_{3}} - 4 B_{1}^{2} Q_{2}^{2} Q_{4}^{2} Q_{6} e^{2 L_{1} Q_{3}} + 2 B_{1}^{2} Q_{2}^{2} Q_{4}^{2} Q_{6} - B_{1}^{2} Q_{2}^{2} Q_{4}^{2} e^{4 L_{1} Q_{3}} + 2 B_{1}^{2} Q_{2}^{2} Q_{4}^{2} e^{2 L_{1} Q_{3}} - B_{1}^{2} Q_{2}^{2} Q_{4}^{2} - 8 L_{1} N_{1} Q_{3}^{2} Q_{6} e^{2 L_{1} Q_{3}} + 2 N_{1} Q_{3} Q_{6}^{2} e^{2 L_{1} Q_{3}} - 2 N_{1} Q_{3} Q_{6}^{2} + 2 N_{1} Q_{3} e^{4 L_{1} Q_{3}} - 2 N_{1} Q_{3} e^{2 L_{1} Q_{3}}} e^{L_{1} Q_{3}}}{Q_{4} \\left(4 L_{1} Q_{3} Q_{6} e^{2 L_{1} Q_{3}} - Q_{6}^{2} e^{2 L_{1} Q_{3}} + Q_{6}^{2} - e^{4 L_{1} Q_{3}} + e^{2 L_{1} Q_{3}}\\right)} & \\text{for}\\: Q_{3} \\neq 0 \\\\\\text{NaN} & \\text{otherwise} \\end{cases}$"
      ],
      "text/plain": [
       "Piecewise(((2*B_{1}*L_1*Q_{2}*Q_{3}*Q_{4}*Q_{6}*exp(2*L_1*Q_{3}) + 2*B_{1}*L_1*Q_{2}*Q_{3}*Q_{4}*exp(2*L_1*Q_{3}) - B_{1}*Q_{2}*Q_{4}*Q_{6}*exp(2*L_1*Q_{3}) + B_{1}*Q_{2}*Q_{4}*Q_{6} - B_{1}*Q_{2}*Q_{4}*exp(4*L_1*Q_{3}) + B_{1}*Q_{2}*Q_{4}*exp(2*L_1*Q_{3}) - sqrt(4*B_{1}**2*L_1**2*Q_{2}**2*Q_{3}**2*Q_{4}**2*Q_{6}**2*exp(2*L_1*Q_{3}) - 8*B_{1}**2*L_1**2*Q_{2}**2*Q_{3}**2*Q_{4}**2*Q_{6}*exp(2*L_1*Q_{3}) + 4*B_{1}**2*L_1**2*Q_{2}**2*Q_{3}**2*Q_{4}**2*exp(2*L_1*Q_{3}) - B_{1}**2*Q_{2}**2*Q_{4}**2*Q_{6}**2*exp(4*L_1*Q_{3}) + 2*B_{1}**2*Q_{2}**2*Q_{4}**2*Q_{6}**2*exp(2*L_1*Q_{3}) - B_{1}**2*Q_{2}**2*Q_{4}**2*Q_{6}**2 + 2*B_{1}**2*Q_{2}**2*Q_{4}**2*Q_{6}*exp(4*L_1*Q_{3}) - 4*B_{1}**2*Q_{2}**2*Q_{4}**2*Q_{6}*exp(2*L_1*Q_{3}) + 2*B_{1}**2*Q_{2}**2*Q_{4}**2*Q_{6} - B_{1}**2*Q_{2}**2*Q_{4}**2*exp(4*L_1*Q_{3}) + 2*B_{1}**2*Q_{2}**2*Q_{4}**2*exp(2*L_1*Q_{3}) - B_{1}**2*Q_{2}**2*Q_{4}**2 - 8*L_1*N_1*Q_{3}**2*Q_{6}*exp(2*L_1*Q_{3}) + 2*N_1*Q_{3}*Q_{6}**2*exp(2*L_1*Q_{3}) - 2*N_1*Q_{3}*Q_{6}**2 + 2*N_1*Q_{3}*exp(4*L_1*Q_{3}) - 2*N_1*Q_{3}*exp(2*L_1*Q_{3}))*exp(L_1*Q_{3}))/(Q_{4}*(4*L_1*Q_{3}*Q_{6}*exp(2*L_1*Q_{3}) - Q_{6}**2*exp(2*L_1*Q_{3}) + Q_{6}**2 - exp(4*L_1*Q_{3}) + exp(2*L_1*Q_{3}))), Ne(Q_{3}, 0)), (nan, True))"
      ]
     },
     "metadata": {},
     "output_type": "display_data"
    },
    {
     "data": {
      "text/latex": [
       "$\\displaystyle \\begin{cases} - \\sqrt{\\frac{N_{1}}{L_{1} Q_{4}^{2} \\left(Q_{6}^{2} - 2 Q_{6} + 1\\right)}} & \\text{for}\\: Q_{3} = 0 \\\\\\text{NaN} & \\text{otherwise} \\end{cases}$"
      ],
      "text/plain": [
       "Piecewise((-sqrt(N_1/(L_1*Q_{4}**2*(Q_{6}**2 - 2*Q_{6} + 1))), Eq(Q_{3}, 0)), (nan, True))"
      ]
     },
     "metadata": {},
     "output_type": "display_data"
    },
    {
     "data": {
      "text/latex": [
       "$\\displaystyle \\begin{cases} \\sqrt{\\frac{N_{1}}{L_{1} Q_{4}^{2} \\left(Q_{6}^{2} - 2 Q_{6} + 1\\right)}} & \\text{for}\\: Q_{3} = 0 \\\\\\text{NaN} & \\text{otherwise} \\end{cases}$"
      ],
      "text/plain": [
       "Piecewise((sqrt(N_1/(L_1*Q_{4}**2*(Q_{6}**2 - 2*Q_{6} + 1))), Eq(Q_{3}, 0)), (nan, True))"
      ]
     },
     "metadata": {},
     "output_type": "display_data"
    },
    {
     "data": {
      "text/plain": [
       "[(None, None)]"
      ]
     },
     "execution_count": 33,
     "metadata": {},
     "output_type": "execute_result"
    }
   ],
   "source": [
    "display_table( auto_solved[ 1 ] )"
   ]
  },
  {
   "cell_type": "code",
   "execution_count": null,
   "id": "90bd8cb5-ca24-455c-a59f-46d288946453",
   "metadata": {},
   "outputs": [],
   "source": []
  },
  {
   "cell_type": "code",
   "execution_count": 34,
   "id": "9a74102d-69cd-4f7a-aa15-d17be1fea9ee",
   "metadata": {},
   "outputs": [],
   "source": [
    "def clean_nan_piecewise( nan_piecewise ): \n",
    "    if type( nan_piecewise.args[ 1 ][ 0 ] ) is sp.core.numbers.NaN: \n",
    "        return nan_piecewise.args[ 0 ][ 0 ]"
   ]
  },
  {
   "cell_type": "code",
   "execution_count": 35,
   "id": "ff71ad59-46a7-45a0-ba68-a873691b3e41",
   "metadata": {},
   "outputs": [],
   "source": [
    "sol_1_positive = clean_nan_piecewise( list( auto_solved[ 1 ].values() )[ 0 ][ 2 ].last_step() )"
   ]
  },
  {
   "cell_type": "code",
   "execution_count": 36,
   "id": "bc56126d-518a-40d4-ba6e-54fe3cccca03",
   "metadata": {},
   "outputs": [],
   "source": [
    "sol_1_negative = clean_nan_piecewise( list( auto_solved[ 1 ].values() )[ 0 ][ 3 ].last_step() )"
   ]
  },
  {
   "cell_type": "code",
   "execution_count": null,
   "id": "6430f04d-7c91-46b4-9cb2-fa58b3a133ab",
   "metadata": {},
   "outputs": [],
   "source": []
  },
  {
   "cell_type": "code",
   "execution_count": 37,
   "id": "0089d999-445d-4281-b10a-c516f6efc34e",
   "metadata": {},
   "outputs": [
    {
     "data": {
      "text/latex": [
       "$\\displaystyle \\frac{B_{1} Q_{2} Q_{4} \\left(2 L_{1} Q_{3} Q_{6} e^{2 L_{1} Q_{3}} + 2 L_{1} Q_{3} e^{2 L_{1} Q_{3}} - Q_{6} e^{2 L_{1} Q_{3}} + Q_{6} - e^{4 L_{1} Q_{3}} + e^{2 L_{1} Q_{3}}\\right) + \\sqrt{4 B_{1}^{2} L_{1}^{2} Q_{2}^{2} Q_{3}^{2} Q_{4}^{2} Q_{6}^{2} e^{2 L_{1} Q_{3}} - 8 B_{1}^{2} L_{1}^{2} Q_{2}^{2} Q_{3}^{2} Q_{4}^{2} Q_{6} e^{2 L_{1} Q_{3}} + 4 B_{1}^{2} L_{1}^{2} Q_{2}^{2} Q_{3}^{2} Q_{4}^{2} e^{2 L_{1} Q_{3}} - B_{1}^{2} Q_{2}^{2} Q_{4}^{2} Q_{6}^{2} e^{4 L_{1} Q_{3}} + 2 B_{1}^{2} Q_{2}^{2} Q_{4}^{2} Q_{6}^{2} e^{2 L_{1} Q_{3}} - B_{1}^{2} Q_{2}^{2} Q_{4}^{2} Q_{6}^{2} + 2 B_{1}^{2} Q_{2}^{2} Q_{4}^{2} Q_{6} e^{4 L_{1} Q_{3}} - 4 B_{1}^{2} Q_{2}^{2} Q_{4}^{2} Q_{6} e^{2 L_{1} Q_{3}} + 2 B_{1}^{2} Q_{2}^{2} Q_{4}^{2} Q_{6} - B_{1}^{2} Q_{2}^{2} Q_{4}^{2} e^{4 L_{1} Q_{3}} + 2 B_{1}^{2} Q_{2}^{2} Q_{4}^{2} e^{2 L_{1} Q_{3}} - B_{1}^{2} Q_{2}^{2} Q_{4}^{2} - 8 L_{1} N_{1} Q_{3}^{2} Q_{6} e^{2 L_{1} Q_{3}} + 2 N_{1} Q_{3} Q_{6}^{2} e^{2 L_{1} Q_{3}} - 2 N_{1} Q_{3} Q_{6}^{2} + 2 N_{1} Q_{3} e^{4 L_{1} Q_{3}} - 2 N_{1} Q_{3} e^{2 L_{1} Q_{3}}} e^{L_{1} Q_{3}}}{Q_{4} \\left(4 L_{1} Q_{3} Q_{6} e^{2 L_{1} Q_{3}} - Q_{6}^{2} e^{2 L_{1} Q_{3}} + Q_{6}^{2} - e^{4 L_{1} Q_{3}} + e^{2 L_{1} Q_{3}}\\right)}$"
      ],
      "text/plain": [
       "(B_{1}*Q_{2}*Q_{4}*(2*L_1*Q_{3}*Q_{6}*exp(2*L_1*Q_{3}) + 2*L_1*Q_{3}*exp(2*L_1*Q_{3}) - Q_{6}*exp(2*L_1*Q_{3}) + Q_{6} - exp(4*L_1*Q_{3}) + exp(2*L_1*Q_{3})) + sqrt(4*B_{1}**2*L_1**2*Q_{2}**2*Q_{3}**2*Q_{4}**2*Q_{6}**2*exp(2*L_1*Q_{3}) - 8*B_{1}**2*L_1**2*Q_{2}**2*Q_{3}**2*Q_{4}**2*Q_{6}*exp(2*L_1*Q_{3}) + 4*B_{1}**2*L_1**2*Q_{2}**2*Q_{3}**2*Q_{4}**2*exp(2*L_1*Q_{3}) - B_{1}**2*Q_{2}**2*Q_{4}**2*Q_{6}**2*exp(4*L_1*Q_{3}) + 2*B_{1}**2*Q_{2}**2*Q_{4}**2*Q_{6}**2*exp(2*L_1*Q_{3}) - B_{1}**2*Q_{2}**2*Q_{4}**2*Q_{6}**2 + 2*B_{1}**2*Q_{2}**2*Q_{4}**2*Q_{6}*exp(4*L_1*Q_{3}) - 4*B_{1}**2*Q_{2}**2*Q_{4}**2*Q_{6}*exp(2*L_1*Q_{3}) + 2*B_{1}**2*Q_{2}**2*Q_{4}**2*Q_{6} - B_{1}**2*Q_{2}**2*Q_{4}**2*exp(4*L_1*Q_{3}) + 2*B_{1}**2*Q_{2}**2*Q_{4}**2*exp(2*L_1*Q_{3}) - B_{1}**2*Q_{2}**2*Q_{4}**2 - 8*L_1*N_1*Q_{3}**2*Q_{6}*exp(2*L_1*Q_{3}) + 2*N_1*Q_{3}*Q_{6}**2*exp(2*L_1*Q_{3}) - 2*N_1*Q_{3}*Q_{6}**2 + 2*N_1*Q_{3}*exp(4*L_1*Q_{3}) - 2*N_1*Q_{3}*exp(2*L_1*Q_{3}))*exp(L_1*Q_{3}))/(Q_{4}*(4*L_1*Q_{3}*Q_{6}*exp(2*L_1*Q_{3}) - Q_{6}**2*exp(2*L_1*Q_{3}) + Q_{6}**2 - exp(4*L_1*Q_{3}) + exp(2*L_1*Q_{3})))"
      ]
     },
     "execution_count": 37,
     "metadata": {},
     "output_type": "execute_result"
    }
   ],
   "source": [
    "sol_1_positive"
   ]
  },
  {
   "cell_type": "code",
   "execution_count": 38,
   "id": "6089753b-b56d-4ca3-8093-f19d4763897d",
   "metadata": {},
   "outputs": [
    {
     "data": {
      "text/latex": [
       "$\\displaystyle \\frac{2 B_{1} L_{1} Q_{2} Q_{3} Q_{4} Q_{6} e^{2 L_{1} Q_{3}} + 2 B_{1} L_{1} Q_{2} Q_{3} Q_{4} e^{2 L_{1} Q_{3}} - B_{1} Q_{2} Q_{4} Q_{6} e^{2 L_{1} Q_{3}} + B_{1} Q_{2} Q_{4} Q_{6} - B_{1} Q_{2} Q_{4} e^{4 L_{1} Q_{3}} + B_{1} Q_{2} Q_{4} e^{2 L_{1} Q_{3}} - \\sqrt{4 B_{1}^{2} L_{1}^{2} Q_{2}^{2} Q_{3}^{2} Q_{4}^{2} Q_{6}^{2} e^{2 L_{1} Q_{3}} - 8 B_{1}^{2} L_{1}^{2} Q_{2}^{2} Q_{3}^{2} Q_{4}^{2} Q_{6} e^{2 L_{1} Q_{3}} + 4 B_{1}^{2} L_{1}^{2} Q_{2}^{2} Q_{3}^{2} Q_{4}^{2} e^{2 L_{1} Q_{3}} - B_{1}^{2} Q_{2}^{2} Q_{4}^{2} Q_{6}^{2} e^{4 L_{1} Q_{3}} + 2 B_{1}^{2} Q_{2}^{2} Q_{4}^{2} Q_{6}^{2} e^{2 L_{1} Q_{3}} - B_{1}^{2} Q_{2}^{2} Q_{4}^{2} Q_{6}^{2} + 2 B_{1}^{2} Q_{2}^{2} Q_{4}^{2} Q_{6} e^{4 L_{1} Q_{3}} - 4 B_{1}^{2} Q_{2}^{2} Q_{4}^{2} Q_{6} e^{2 L_{1} Q_{3}} + 2 B_{1}^{2} Q_{2}^{2} Q_{4}^{2} Q_{6} - B_{1}^{2} Q_{2}^{2} Q_{4}^{2} e^{4 L_{1} Q_{3}} + 2 B_{1}^{2} Q_{2}^{2} Q_{4}^{2} e^{2 L_{1} Q_{3}} - B_{1}^{2} Q_{2}^{2} Q_{4}^{2} - 8 L_{1} N_{1} Q_{3}^{2} Q_{6} e^{2 L_{1} Q_{3}} + 2 N_{1} Q_{3} Q_{6}^{2} e^{2 L_{1} Q_{3}} - 2 N_{1} Q_{3} Q_{6}^{2} + 2 N_{1} Q_{3} e^{4 L_{1} Q_{3}} - 2 N_{1} Q_{3} e^{2 L_{1} Q_{3}}} e^{L_{1} Q_{3}}}{Q_{4} \\left(4 L_{1} Q_{3} Q_{6} e^{2 L_{1} Q_{3}} - Q_{6}^{2} e^{2 L_{1} Q_{3}} + Q_{6}^{2} - e^{4 L_{1} Q_{3}} + e^{2 L_{1} Q_{3}}\\right)}$"
      ],
      "text/plain": [
       "(2*B_{1}*L_1*Q_{2}*Q_{3}*Q_{4}*Q_{6}*exp(2*L_1*Q_{3}) + 2*B_{1}*L_1*Q_{2}*Q_{3}*Q_{4}*exp(2*L_1*Q_{3}) - B_{1}*Q_{2}*Q_{4}*Q_{6}*exp(2*L_1*Q_{3}) + B_{1}*Q_{2}*Q_{4}*Q_{6} - B_{1}*Q_{2}*Q_{4}*exp(4*L_1*Q_{3}) + B_{1}*Q_{2}*Q_{4}*exp(2*L_1*Q_{3}) - sqrt(4*B_{1}**2*L_1**2*Q_{2}**2*Q_{3}**2*Q_{4}**2*Q_{6}**2*exp(2*L_1*Q_{3}) - 8*B_{1}**2*L_1**2*Q_{2}**2*Q_{3}**2*Q_{4}**2*Q_{6}*exp(2*L_1*Q_{3}) + 4*B_{1}**2*L_1**2*Q_{2}**2*Q_{3}**2*Q_{4}**2*exp(2*L_1*Q_{3}) - B_{1}**2*Q_{2}**2*Q_{4}**2*Q_{6}**2*exp(4*L_1*Q_{3}) + 2*B_{1}**2*Q_{2}**2*Q_{4}**2*Q_{6}**2*exp(2*L_1*Q_{3}) - B_{1}**2*Q_{2}**2*Q_{4}**2*Q_{6}**2 + 2*B_{1}**2*Q_{2}**2*Q_{4}**2*Q_{6}*exp(4*L_1*Q_{3}) - 4*B_{1}**2*Q_{2}**2*Q_{4}**2*Q_{6}*exp(2*L_1*Q_{3}) + 2*B_{1}**2*Q_{2}**2*Q_{4}**2*Q_{6} - B_{1}**2*Q_{2}**2*Q_{4}**2*exp(4*L_1*Q_{3}) + 2*B_{1}**2*Q_{2}**2*Q_{4}**2*exp(2*L_1*Q_{3}) - B_{1}**2*Q_{2}**2*Q_{4}**2 - 8*L_1*N_1*Q_{3}**2*Q_{6}*exp(2*L_1*Q_{3}) + 2*N_1*Q_{3}*Q_{6}**2*exp(2*L_1*Q_{3}) - 2*N_1*Q_{3}*Q_{6}**2 + 2*N_1*Q_{3}*exp(4*L_1*Q_{3}) - 2*N_1*Q_{3}*exp(2*L_1*Q_{3}))*exp(L_1*Q_{3}))/(Q_{4}*(4*L_1*Q_{3}*Q_{6}*exp(2*L_1*Q_{3}) - Q_{6}**2*exp(2*L_1*Q_{3}) + Q_{6}**2 - exp(4*L_1*Q_{3}) + exp(2*L_1*Q_{3})))"
      ]
     },
     "execution_count": 38,
     "metadata": {},
     "output_type": "execute_result"
    }
   ],
   "source": [
    "sol_1_negative"
   ]
  },
  {
   "cell_type": "code",
   "execution_count": 39,
   "id": "9b58f455-14f8-43df-ad62-ce518a2326b5",
   "metadata": {},
   "outputs": [],
   "source": [
    "b_0_norm_with_b_1 = sp.Eq( sp.Abs( stairwell_solver.boundry_constant_symbols[ 0 ]  )** 2, ( sol_1_positive * sol_1_negative ).simplify() )"
   ]
  },
  {
   "cell_type": "code",
   "execution_count": 40,
   "id": "d82a5dd6-f4b6-4d61-a2f4-a945407c94a6",
   "metadata": {},
   "outputs": [
    {
     "data": {
      "text/latex": [
       "$\\displaystyle \\left|{B_{0}}\\right|^{2} = \\frac{4 B_{1}^{2} L_{1} Q_{2}^{2} Q_{3} Q_{4}^{2} e^{2 L_{1} Q_{3}} - B_{1}^{2} Q_{2}^{2} Q_{4}^{2} e^{4 L_{1} Q_{3}} + B_{1}^{2} Q_{2}^{2} Q_{4}^{2} + 2 N_{1} Q_{3} e^{2 L_{1} Q_{3}}}{Q_{4}^{2} \\left(4 L_{1} Q_{3} Q_{6} e^{2 L_{1} Q_{3}} - Q_{6}^{2} e^{2 L_{1} Q_{3}} + Q_{6}^{2} - e^{4 L_{1} Q_{3}} + e^{2 L_{1} Q_{3}}\\right)}$"
      ],
      "text/plain": [
       "Eq(Abs(B_{0})**2, (4*B_{1}**2*L_1*Q_{2}**2*Q_{3}*Q_{4}**2*exp(2*L_1*Q_{3}) - B_{1}**2*Q_{2}**2*Q_{4}**2*exp(4*L_1*Q_{3}) + B_{1}**2*Q_{2}**2*Q_{4}**2 + 2*N_1*Q_{3}*exp(2*L_1*Q_{3}))/(Q_{4}**2*(4*L_1*Q_{3}*Q_{6}*exp(2*L_1*Q_{3}) - Q_{6}**2*exp(2*L_1*Q_{3}) + Q_{6}**2 - exp(4*L_1*Q_{3}) + exp(2*L_1*Q_{3}))))"
      ]
     },
     "execution_count": 40,
     "metadata": {},
     "output_type": "execute_result"
    }
   ],
   "source": [
    "b_0_norm_with_b_1"
   ]
  },
  {
   "cell_type": "code",
   "execution_count": 41,
   "id": "a69c027c-c2c5-45ae-967f-5c44811e40e0",
   "metadata": {},
   "outputs": [],
   "source": [
    "reverse_table = lambda table : { table[ key ] : key for key in table }"
   ]
  },
  {
   "cell_type": "code",
   "execution_count": 42,
   "id": "ebeffede-9685-4284-9b9e-03d29a46c4a1",
   "metadata": {},
   "outputs": [],
   "source": [
    "q_1 = reverse_table( q_constants[ 1 ] )\n",
    "b_0_norm_with_b_1 = b_0_norm_with_b_1.xreplace( q_1 )\n",
    "# Need to do it twice, some Q constants are replaced by other Q constants.\n",
    "b_0_norm_with_b_1 = b_0_norm_with_b_1.xreplace( q_1 )"
   ]
  },
  {
   "cell_type": "code",
   "execution_count": 43,
   "id": "cc74007d-ed0e-414f-a7a9-f62696ea4f9e",
   "metadata": {},
   "outputs": [
    {
     "data": {
      "text/latex": [
       "$\\displaystyle \\left|{B_{0}}\\right|^{2} = \\frac{\\left(e^{2 L_{1} k_{1}} - 1\\right)^{2} \\left(\\frac{4 B_{1}^{2} L_{1} k_{1} e^{4 L_{1} k_{1}}}{\\left(e^{2 L_{1} k_{1}} - 1\\right)^{2}} - \\frac{B_{1}^{2} e^{6 L_{1} k_{1}}}{\\left(e^{2 L_{1} k_{1}} - 1\\right)^{2}} + \\frac{B_{1}^{2} e^{2 L_{1} k_{1}}}{\\left(e^{2 L_{1} k_{1}} - 1\\right)^{2}} + 2 N_{1} k_{1} e^{2 L_{1} k_{1}}\\right)}{4 L_{1} k_{1} e^{4 L_{1} k_{1}} - e^{6 L_{1} k_{1}} + e^{2 L_{1} k_{1}}}$"
      ],
      "text/plain": [
       "Eq(Abs(B_{0})**2, (exp(2*L_1*k_1) - 1)**2*(4*B_{1}**2*L_1*k_1*exp(4*L_1*k_1)/(exp(2*L_1*k_1) - 1)**2 - B_{1}**2*exp(6*L_1*k_1)/(exp(2*L_1*k_1) - 1)**2 + B_{1}**2*exp(2*L_1*k_1)/(exp(2*L_1*k_1) - 1)**2 + 2*N_1*k_1*exp(2*L_1*k_1))/(4*L_1*k_1*exp(4*L_1*k_1) - exp(6*L_1*k_1) + exp(2*L_1*k_1)))"
      ]
     },
     "execution_count": 43,
     "metadata": {},
     "output_type": "execute_result"
    }
   ],
   "source": [
    "b_0_norm_with_b_1"
   ]
  },
  {
   "cell_type": "code",
   "execution_count": null,
   "id": "8a3984f5-9a77-4101-9d1f-92681c67162e",
   "metadata": {},
   "outputs": [],
   "source": []
  },
  {
   "cell_type": "code",
   "execution_count": 44,
   "id": "4762c658-4c1f-4471-8141-32d5994bc888",
   "metadata": {},
   "outputs": [],
   "source": [
    "#auto_solved[ 2 ] = stairwell_solver.solve_boundry_constants_from_equation( stairwell_solver.normalizations[ 2 ] )"
   ]
  },
  {
   "cell_type": "code",
   "execution_count": 45,
   "id": "5cdb1c4a-f3ac-4e36-aec9-d8c34173d13c",
   "metadata": {},
   "outputs": [],
   "source": [
    "#display_table( auto_solved[ 2 ] )"
   ]
  },
  {
   "cell_type": "code",
   "execution_count": null,
   "id": "90465dce-3266-41b4-a0dd-58bd544aab24",
   "metadata": {},
   "outputs": [],
   "source": []
  },
  {
   "cell_type": "code",
   "execution_count": 46,
   "id": "d543c859-2b16-47d1-bfd8-565cbe0dc837",
   "metadata": {},
   "outputs": [],
   "source": [
    "def square( solutions ): \n",
    "    solutions_ = list( solutions.values() )[ 0 ]\n",
    "    return sp.Eq( sp.Abs( list( solutions.keys() )[ 0 ] ) ** 2, \n",
    "            solutions_[ 0 ].last_step().args[ 0 ].args[ 0 ] \\\n",
    "            * solutions_[ 1 ].last_step().args[ 0 ].args[ 0 ] \n",
    "        )"
   ]
  },
  {
   "cell_type": "code",
   "execution_count": 47,
   "id": "bf02b7f3-2a3f-47ed-bbda-d89efa5abf17",
   "metadata": {},
   "outputs": [],
   "source": [
    "q_0 = reverse_table( q_constants[ 0 ] )\n",
    "b_0 = square( auto_solved[ 0 ] )\n",
    "b_0 = b_0.xreplace( q_0 )\n",
    "b_0 = b_0.xreplace( q_0 )"
   ]
  },
  {
   "cell_type": "code",
   "execution_count": 48,
   "id": "8c289a7a-ad74-4a1f-bd9e-e6f661366369",
   "metadata": {},
   "outputs": [
    {
     "data": {
      "text/latex": [
       "$\\displaystyle \\left|{B_{0}}\\right|^{2} = \\frac{2 N_{0} k_{0} \\left(e^{2 L_{0} k_{0}} - 1\\right)^{2}}{4 L_{0} k_{0} e^{2 L_{0} k_{0}} - e^{4 L_{0} k_{0}} + 1}$"
      ],
      "text/plain": [
       "Eq(Abs(B_{0})**2, 2*N_0*k_0*(exp(2*L_0*k_0) - 1)**2/(4*L_0*k_0*exp(2*L_0*k_0) - exp(4*L_0*k_0) + 1))"
      ]
     },
     "execution_count": 48,
     "metadata": {},
     "output_type": "execute_result"
    }
   ],
   "source": [
    "b_0"
   ]
  },
  {
   "cell_type": "code",
   "execution_count": null,
   "id": "a2dbd7e4-4372-48e7-ab35-ce0af9969db7",
   "metadata": {},
   "outputs": [],
   "source": []
  },
  {
   "cell_type": "code",
   "execution_count": 49,
   "id": "857ff833-46fa-4059-9568-cf22daf0b9d2",
   "metadata": {},
   "outputs": [
    {
     "data": {
      "text/latex": [
       "$\\displaystyle \\psi_{0}{\\left(x \\right)} = \\frac{B_{0} e^{L_{0} k_{0}} e^{k_{0} x}}{e^{2 L_{0} k_{0}} - 1} - \\frac{B_{0} e^{L_{0} k_{0}} e^{- k_{0} x}}{e^{2 L_{0} k_{0}} - 1}$"
      ],
      "text/plain": [
       "Eq(\\psi_{0}(x), B_{0}*exp(L_0*k_0)*exp(k_0*x)/(exp(2*L_0*k_0) - 1) - B_{0}*exp(L_0*k_0)*exp(-k_0*x)/(exp(2*L_0*k_0) - 1))"
      ]
     },
     "metadata": {},
     "output_type": "display_data"
    },
    {
     "data": {
      "text/latex": [
       "$\\displaystyle \\psi_{1}{\\left(x \\right)} = \\frac{\\left(- B_{0} + B_{1} e^{L_{1} k_{1}}\\right) e^{k_{1} x}}{e^{2 L_{1} k_{1}} - 1} + \\frac{\\left(B_{0} e^{2 L_{1} k_{1}} - B_{1} e^{L_{1} k_{1}}\\right) e^{- k_{1} x}}{e^{2 L_{1} k_{1}} - 1}$"
      ],
      "text/plain": [
       "Eq(\\psi_{1}(x), (-B_{0} + B_{1}*exp(L_1*k_1))*exp(k_1*x)/(exp(2*L_1*k_1) - 1) + (B_{0}*exp(2*L_1*k_1) - B_{1}*exp(L_1*k_1))*exp(-k_1*x)/(exp(2*L_1*k_1) - 1))"
      ]
     },
     "metadata": {},
     "output_type": "display_data"
    },
    {
     "data": {
      "text/latex": [
       "$\\displaystyle \\psi_{2}{\\left(x \\right)} = \\frac{B_{1} e^{2 L_{2} k_{2}} e^{- k_{2} x}}{e^{2 L_{2} k_{2}} - 1} - \\frac{B_{1} e^{k_{2} x}}{e^{2 L_{2} k_{2}} - 1}$"
      ],
      "text/plain": [
       "Eq(\\psi_{2}(x), B_{1}*exp(2*L_2*k_2)*exp(-k_2*x)/(exp(2*L_2*k_2) - 1) - B_{1}*exp(k_2*x)/(exp(2*L_2*k_2) - 1))"
      ]
     },
     "metadata": {},
     "output_type": "display_data"
    }
   ],
   "source": [
    "display_steps( stairwell_solver.equations )"
   ]
  },
  {
   "cell_type": "code",
   "execution_count": 50,
   "id": "ac2733b6-9242-4f37-8d63-1b610efe3bb2",
   "metadata": {},
   "outputs": [
    {
     "data": {
      "text/plain": [
       "sympy.core.relational.Equality"
      ]
     },
     "execution_count": 50,
     "metadata": {},
     "output_type": "execute_result"
    }
   ],
   "source": [
    "sp.core.relational.Equality"
   ]
  },
  {
   "cell_type": "code",
   "execution_count": 51,
   "id": "e05490d7-e13e-44b9-be98-1aad2d31d2be",
   "metadata": {},
   "outputs": [
    {
     "name": "stdout",
     "output_type": "stream",
     "text": [
      "<class 'sympy.logic.boolalg.BooleanTrue'>\n",
      "<class 'sympy.core.relational.Equality'>\n",
      "<class 'sympy.core.relational.Equality'>\n",
      "<class 'sympy.core.relational.Equality'>\n",
      "<class 'sympy.core.relational.Equality'>\n",
      "<class 'sympy.core.relational.Equality'>\n"
     ]
    }
   ],
   "source": [
    "( wave_function_substitutions, normalization_substitutions ) = stairwell_solver.make_substitution_solution( 0 )"
   ]
  },
  {
   "cell_type": "code",
   "execution_count": null,
   "id": "2036921e-823e-4c30-8363-202be55e6065",
   "metadata": {},
   "outputs": [],
   "source": []
  },
  {
   "cell_type": "code",
   "execution_count": null,
   "id": "fb541ce9-5558-4d84-ba0a-a3cf2c112b7d",
   "metadata": {},
   "outputs": [],
   "source": []
  },
  {
   "cell_type": "code",
   "execution_count": 52,
   "id": "71ea641c-2b58-4abe-ae27-b43ec5c65f90",
   "metadata": {},
   "outputs": [
    {
     "data": {
      "text/latex": [
       "$\\displaystyle B_{0} = \\frac{- B_{0} + B_{1} e^{L_{1} k_{1}}}{e^{2 L_{1} k_{1}} - 1} + \\frac{B_{0} e^{2 L_{1} k_{1}} - B_{1} e^{L_{1} k_{1}}}{e^{2 L_{1} k_{1}} - 1}$"
      ],
      "text/plain": [
       "Eq(B_{0}, (-B_{0} + B_{1}*exp(L_1*k_1))/(exp(2*L_1*k_1) - 1) + (B_{0}*exp(2*L_1*k_1) - B_{1}*exp(L_1*k_1))/(exp(2*L_1*k_1) - 1))"
      ]
     },
     "metadata": {},
     "output_type": "display_data"
    },
    {
     "data": {
      "text/latex": [
       "$\\displaystyle B_{1} = \\frac{B_{1} e^{2 L_{2} k_{2}}}{e^{2 L_{2} k_{2}} - 1} - \\frac{B_{1}}{e^{2 L_{2} k_{2}} - 1}$"
      ],
      "text/plain": [
       "Eq(B_{1}, B_{1}*exp(2*L_2*k_2)/(exp(2*L_2*k_2) - 1) - B_{1}/(exp(2*L_2*k_2) - 1))"
      ]
     },
     "metadata": {},
     "output_type": "display_data"
    }
   ],
   "source": [
    "for equation in wave_function_substitutions: \n",
    "    display( equation )"
   ]
  },
  {
   "cell_type": "code",
   "execution_count": 53,
   "id": "324c4092-a660-4c82-9b19-2a9cf68c2bd7",
   "metadata": {},
   "outputs": [
    {
     "data": {
      "text/latex": [
       "$\\displaystyle N_{0} = \\begin{cases} \\frac{B_{0} Q_{3}^{2} \\left(- 4 L_{0} Q_{2} e^{2 L_{0} Q_{2}} + e^{4 L_{0} Q_{2}} - 1\\right) e^{- 2 L_{0} Q_{2}} \\overline{B_{0}}}{2 Q_{2}} & \\text{for}\\: B_{2} \\neq Q_{2} \\\\0 & \\text{otherwise} \\end{cases}$"
      ],
      "text/plain": [
       "Eq(N_0, Piecewise((B_{0}*Q_{3}**2*(-4*L_0*Q_{2}*exp(2*L_0*Q_{2}) + exp(4*L_0*Q_{2}) - 1)*exp(-2*L_0*Q_{2})*conjugate(B_{0})/(2*Q_{2}), Ne(B_{2}, Q_{2})), (0, True)))"
      ]
     },
     "metadata": {},
     "output_type": "display_data"
    },
    {
     "data": {
      "text/latex": [
       "$\\displaystyle N_{1} = \\begin{cases} \\frac{Q_{4}^{2} \\left(2 L_{1} Q_{3} \\left(B_{0} Q_{2} Q_{6} \\overline{B_{1}} + B_{0} Q_{2} \\overline{B_{1}} - 2 B_{0} Q_{6} \\overline{B_{0}} - 2 B_{1} Q_{2}^{2} \\overline{B_{1}} + B_{1} Q_{2} Q_{6} \\overline{B_{0}} + B_{1} Q_{2} \\overline{B_{0}}\\right) e^{2 L_{1} Q_{3}} - \\left(1 - e^{2 L_{1} Q_{3}}\\right) \\left(- B_{0} Q_{2} \\overline{B_{1}} + B_{0} \\overline{B_{0}} + B_{1} Q_{2}^{2} \\overline{B_{1}} - B_{1} Q_{2} \\overline{B_{0}}\\right) e^{2 L_{1} Q_{3}} - \\left(1 - e^{2 L_{1} Q_{3}}\\right) \\left(- B_{0} Q_{2} Q_{6} \\overline{B_{1}} + B_{0} Q_{6}^{2} \\overline{B_{0}} + B_{1} Q_{2}^{2} \\overline{B_{1}} - B_{1} Q_{2} Q_{6} \\overline{B_{0}}\\right)\\right) e^{- 2 L_{1} Q_{3}}}{2 Q_{3}} & \\text{for}\\: B_{2} \\neq Q_{3} \\\\B_{0} L_{1} Q_{4}^{2} \\left(Q_{6}^{2} - 2 Q_{6} + 1\\right) \\overline{B_{0}} & \\text{otherwise} \\end{cases}$"
      ],
      "text/plain": [
       "Eq(N_1, Piecewise((Q_{4}**2*(2*L_1*Q_{3}*(B_{0}*Q_{2}*Q_{6}*conjugate(B_{1}) + B_{0}*Q_{2}*conjugate(B_{1}) - 2*B_{0}*Q_{6}*conjugate(B_{0}) - 2*B_{1}*Q_{2}**2*conjugate(B_{1}) + B_{1}*Q_{2}*Q_{6}*conjugate(B_{0}) + B_{1}*Q_{2}*conjugate(B_{0}))*exp(2*L_1*Q_{3}) - (1 - exp(2*L_1*Q_{3}))*(-B_{0}*Q_{2}*conjugate(B_{1}) + B_{0}*conjugate(B_{0}) + B_{1}*Q_{2}**2*conjugate(B_{1}) - B_{1}*Q_{2}*conjugate(B_{0}))*exp(2*L_1*Q_{3}) - (1 - exp(2*L_1*Q_{3}))*(-B_{0}*Q_{2}*Q_{6}*conjugate(B_{1}) + B_{0}*Q_{6}**2*conjugate(B_{0}) + B_{1}*Q_{2}**2*conjugate(B_{1}) - B_{1}*Q_{2}*Q_{6}*conjugate(B_{0})))*exp(-2*L_1*Q_{3})/(2*Q_{3}), Ne(B_{2}, Q_{3})), (B_{0}*L_1*Q_{4}**2*(Q_{6}**2 - 2*Q_{6} + 1)*conjugate(B_{0}), True)))"
      ]
     },
     "metadata": {},
     "output_type": "display_data"
    },
    {
     "data": {
      "text/latex": [
       "$\\displaystyle N_{2} = \\int\\limits_{B_{2}}^{L_{2}} \\left(- B_{1} Q_{2} e^{Q_{1} x} + B_{1} Q_{4} e^{- Q_{1} x}\\right) \\left(- Q_{2} e^{Q_{1} x} \\overline{B_{1}} + Q_{4} e^{- Q_{1} x} \\overline{B_{1}}\\right)\\, dx$"
      ],
      "text/plain": [
       "Eq(N_2, Integral((-B_{1}*Q_{2}*exp(Q_{1}*x) + B_{1}*Q_{4}*exp(-Q_{1}*x))*(-Q_{2}*exp(Q_{1}*x)*conjugate(B_{1}) + Q_{4}*exp(-Q_{1}*x)*conjugate(B_{1})), (x, B_{2}, L_2)))"
      ]
     },
     "metadata": {},
     "output_type": "display_data"
    }
   ],
   "source": [
    "for equation in normalization_substitutions: \n",
    "    display( equation.simplify() )"
   ]
  },
  {
   "cell_type": "code",
   "execution_count": 54,
   "id": "55a95fb4-937e-47da-946c-c3117d8588dd",
   "metadata": {},
   "outputs": [
    {
     "data": {
      "text/latex": [
       "$\\displaystyle \\psi_{0}{\\left(x \\right)} = \\frac{B_{0} e^{L_{0} k_{0}} e^{k_{0} x}}{e^{2 L_{0} k_{0}} - 1} - \\frac{B_{0} e^{L_{0} k_{0}} e^{- k_{0} x}}{e^{2 L_{0} k_{0}} - 1}$"
      ],
      "text/plain": [
       "Eq(\\psi_{0}(x), B_{0}*exp(L_0*k_0)*exp(k_0*x)/(exp(2*L_0*k_0) - 1) - B_{0}*exp(L_0*k_0)*exp(-k_0*x)/(exp(2*L_0*k_0) - 1))"
      ]
     },
     "metadata": {},
     "output_type": "display_data"
    },
    {
     "data": {
      "text/latex": [
       "$\\displaystyle \\psi_{1}{\\left(x \\right)} = \\frac{\\left(- B_{0} + B_{1} e^{L_{1} k_{1}}\\right) e^{k_{1} x}}{e^{2 L_{1} k_{1}} - 1} + \\frac{\\left(B_{0} e^{2 L_{1} k_{1}} - B_{1} e^{L_{1} k_{1}}\\right) e^{- k_{1} x}}{e^{2 L_{1} k_{1}} - 1}$"
      ],
      "text/plain": [
       "Eq(\\psi_{1}(x), (-B_{0} + B_{1}*exp(L_1*k_1))*exp(k_1*x)/(exp(2*L_1*k_1) - 1) + (B_{0}*exp(2*L_1*k_1) - B_{1}*exp(L_1*k_1))*exp(-k_1*x)/(exp(2*L_1*k_1) - 1))"
      ]
     },
     "metadata": {},
     "output_type": "display_data"
    },
    {
     "data": {
      "text/latex": [
       "$\\displaystyle \\psi_{2}{\\left(x \\right)} = \\frac{B_{1} e^{2 L_{2} k_{2}} e^{- k_{2} x}}{e^{2 L_{2} k_{2}} - 1} - \\frac{B_{1} e^{k_{2} x}}{e^{2 L_{2} k_{2}} - 1}$"
      ],
      "text/plain": [
       "Eq(\\psi_{2}(x), B_{1}*exp(2*L_2*k_2)*exp(-k_2*x)/(exp(2*L_2*k_2) - 1) - B_{1}*exp(k_2*x)/(exp(2*L_2*k_2) - 1))"
      ]
     },
     "metadata": {},
     "output_type": "display_data"
    }
   ],
   "source": [
    "display_steps( stairwell_solver.equations )"
   ]
  },
  {
   "cell_type": "code",
   "execution_count": null,
   "id": "15b7e2c5-91d5-4518-91d7-6fba98227800",
   "metadata": {},
   "outputs": [],
   "source": []
  },
  {
   "cell_type": "code",
   "execution_count": 55,
   "id": "551e7fe4-b68b-49fe-ab05-e2d8526edbf4",
   "metadata": {},
   "outputs": [
    {
     "name": "stdout",
     "output_type": "stream",
     "text": [
      "<class 'sympy.core.relational.Equality'>\n",
      "<class 'sympy.core.relational.Equality'>\n",
      "<class 'sympy.core.relational.Equality'>\n",
      "<class 'sympy.core.relational.Equality'>\n",
      "<class 'sympy.logic.boolalg.BooleanTrue'>\n",
      "<class 'sympy.core.relational.Equality'>\n"
     ]
    }
   ],
   "source": [
    "( wave_function_region_substitutions, normalization_region_substitutions ) = stairwell_solver.make_substitution_solution()"
   ]
  },
  {
   "cell_type": "code",
   "execution_count": null,
   "id": "1f86ef34-dee4-473d-b1ec-54fd73fb45b2",
   "metadata": {},
   "outputs": [],
   "source": []
  },
  {
   "cell_type": "code",
   "execution_count": 56,
   "id": "09827cd7-e512-4037-aeba-4282ec00ae67",
   "metadata": {},
   "outputs": [
    {
     "data": {
      "text/latex": [
       "$\\displaystyle B_{0} = \\frac{B_{0} e^{2 L_{0} k_{0}}}{e^{2 L_{0} k_{0}} - 1} - \\frac{B_{0}}{e^{2 L_{0} k_{0}} - 1}$"
      ],
      "text/plain": [
       "Eq(B_{0}, B_{0}*exp(2*L_0*k_0)/(exp(2*L_0*k_0) - 1) - B_{0}/(exp(2*L_0*k_0) - 1))"
      ]
     },
     "metadata": {},
     "output_type": "display_data"
    },
    {
     "data": {
      "text/latex": [
       "$\\displaystyle B_{1} = \\frac{\\left(- B_{0} + B_{1} e^{L_{1} k_{1}}\\right) e^{L_{1} k_{1}}}{e^{2 L_{1} k_{1}} - 1} + \\frac{\\left(B_{0} e^{2 L_{1} k_{1}} - B_{1} e^{L_{1} k_{1}}\\right) e^{- L_{1} k_{1}}}{e^{2 L_{1} k_{1}} - 1}$"
      ],
      "text/plain": [
       "Eq(B_{1}, (-B_{0} + B_{1}*exp(L_1*k_1))*exp(L_1*k_1)/(exp(2*L_1*k_1) - 1) + (B_{0}*exp(2*L_1*k_1) - B_{1}*exp(L_1*k_1))*exp(-L_1*k_1)/(exp(2*L_1*k_1) - 1))"
      ]
     },
     "metadata": {},
     "output_type": "display_data"
    }
   ],
   "source": [
    "for equation in wave_function_region_substitutions: \n",
    "    display( equation )"
   ]
  },
  {
   "cell_type": "code",
   "execution_count": null,
   "id": "f7dd9dcf-3e70-47b1-acd7-b3ea318154b9",
   "metadata": {},
   "outputs": [],
   "source": []
  },
  {
   "cell_type": "code",
   "execution_count": 57,
   "id": "401b9094-4026-41a1-8f41-26a67914edf1",
   "metadata": {},
   "outputs": [
    {
     "data": {
      "text/latex": [
       "$\\displaystyle N_{0} = \\begin{cases} \\frac{B_{0} Q_{3}^{2} \\left(- 4 L_{0} Q_{2} e^{2 L_{0} Q_{2}} + e^{4 L_{0} Q_{2}} - 1\\right) e^{- 2 L_{0} Q_{2}} \\overline{B_{0}}}{2 Q_{2}} & \\text{for}\\: B_{2} \\neq Q_{2} \\\\0 & \\text{otherwise} \\end{cases}$"
      ],
      "text/plain": [
       "Eq(N_0, Piecewise((B_{0}*Q_{3}**2*(-4*L_0*Q_{2}*exp(2*L_0*Q_{2}) + exp(4*L_0*Q_{2}) - 1)*exp(-2*L_0*Q_{2})*conjugate(B_{0})/(2*Q_{2}), Ne(B_{2}, Q_{2})), (0, True)))"
      ]
     },
     "metadata": {},
     "output_type": "display_data"
    },
    {
     "data": {
      "text/latex": [
       "$\\displaystyle N_{1} = \\begin{cases} \\frac{Q_{4}^{2} \\left(2 L_{1} Q_{3} \\left(B_{0} Q_{2} Q_{6} \\overline{B_{1}} + B_{0} Q_{2} \\overline{B_{1}} - 2 B_{0} Q_{6} \\overline{B_{0}} - 2 B_{1} Q_{2}^{2} \\overline{B_{1}} + B_{1} Q_{2} Q_{6} \\overline{B_{0}} + B_{1} Q_{2} \\overline{B_{0}}\\right) e^{2 L_{1} Q_{3}} - \\left(1 - e^{2 L_{1} Q_{3}}\\right) \\left(- B_{0} Q_{2} \\overline{B_{1}} + B_{0} \\overline{B_{0}} + B_{1} Q_{2}^{2} \\overline{B_{1}} - B_{1} Q_{2} \\overline{B_{0}}\\right) e^{2 L_{1} Q_{3}} - \\left(1 - e^{2 L_{1} Q_{3}}\\right) \\left(- B_{0} Q_{2} Q_{6} \\overline{B_{1}} + B_{0} Q_{6}^{2} \\overline{B_{0}} + B_{1} Q_{2}^{2} \\overline{B_{1}} - B_{1} Q_{2} Q_{6} \\overline{B_{0}}\\right)\\right) e^{- 2 L_{1} Q_{3}}}{2 Q_{3}} & \\text{for}\\: B_{2} \\neq Q_{3} \\\\B_{0} L_{1} Q_{4}^{2} \\left(Q_{6}^{2} - 2 Q_{6} + 1\\right) \\overline{B_{0}} & \\text{otherwise} \\end{cases}$"
      ],
      "text/plain": [
       "Eq(N_1, Piecewise((Q_{4}**2*(2*L_1*Q_{3}*(B_{0}*Q_{2}*Q_{6}*conjugate(B_{1}) + B_{0}*Q_{2}*conjugate(B_{1}) - 2*B_{0}*Q_{6}*conjugate(B_{0}) - 2*B_{1}*Q_{2}**2*conjugate(B_{1}) + B_{1}*Q_{2}*Q_{6}*conjugate(B_{0}) + B_{1}*Q_{2}*conjugate(B_{0}))*exp(2*L_1*Q_{3}) - (1 - exp(2*L_1*Q_{3}))*(-B_{0}*Q_{2}*conjugate(B_{1}) + B_{0}*conjugate(B_{0}) + B_{1}*Q_{2}**2*conjugate(B_{1}) - B_{1}*Q_{2}*conjugate(B_{0}))*exp(2*L_1*Q_{3}) - (1 - exp(2*L_1*Q_{3}))*(-B_{0}*Q_{2}*Q_{6}*conjugate(B_{1}) + B_{0}*Q_{6}**2*conjugate(B_{0}) + B_{1}*Q_{2}**2*conjugate(B_{1}) - B_{1}*Q_{2}*Q_{6}*conjugate(B_{0})))*exp(-2*L_1*Q_{3})/(2*Q_{3}), Ne(B_{2}, Q_{3})), (B_{0}*L_1*Q_{4}**2*(Q_{6}**2 - 2*Q_{6} + 1)*conjugate(B_{0}), True)))"
      ]
     },
     "metadata": {},
     "output_type": "display_data"
    },
    {
     "data": {
      "text/latex": [
       "$\\displaystyle N_{2} = \\int\\limits_{B_{2}}^{L_{2}} \\left(- B_{1} Q_{2} e^{Q_{1} x} + B_{1} Q_{4} e^{- Q_{1} x}\\right) \\left(- Q_{2} e^{Q_{1} x} \\overline{B_{1}} + Q_{4} e^{- Q_{1} x} \\overline{B_{1}}\\right)\\, dx$"
      ],
      "text/plain": [
       "Eq(N_2, Integral((-B_{1}*Q_{2}*exp(Q_{1}*x) + B_{1}*Q_{4}*exp(-Q_{1}*x))*(-Q_{2}*exp(Q_{1}*x)*conjugate(B_{1}) + Q_{4}*exp(-Q_{1}*x)*conjugate(B_{1})), (x, B_{2}, L_2)))"
      ]
     },
     "metadata": {},
     "output_type": "display_data"
    }
   ],
   "source": [
    "for equation in normalization_region_substitutions: \n",
    "    display( equation.simplify() )"
   ]
  },
  {
   "cell_type": "code",
   "execution_count": 58,
   "id": "e5776299-5f0b-447e-b615-5d214b79e8b0",
   "metadata": {},
   "outputs": [],
   "source": [
    "#b_0_norm_with_b_1 = sp.Eq( stairwell_solver.boundry_constant_symbols[ 0 ] ** 2, b_0_norm_with_b_1.rhs )"
   ]
  },
  {
   "cell_type": "code",
   "execution_count": 59,
   "id": "defcac9c-e610-4b3b-afd4-440303e289a5",
   "metadata": {},
   "outputs": [],
   "source": [
    "#b_0_norm_with_b_1"
   ]
  },
  {
   "cell_type": "code",
   "execution_count": 60,
   "id": "c83a1c42-7b89-4e97-9bf4-2e09d1404a6b",
   "metadata": {},
   "outputs": [],
   "source": [
    "#solutions = sp.solve( [ b_0_norm_with_b_1 ] + wave_function_region_substitutions + wave_function_substitutions, stairwell_solver.boundry_constant_symbols )"
   ]
  },
  {
   "cell_type": "code",
   "execution_count": 61,
   "id": "a82e9c8c-dc8f-4889-897a-8d1101e2539e",
   "metadata": {},
   "outputs": [],
   "source": [
    "#solutions"
   ]
  },
  {
   "cell_type": "code",
   "execution_count": 62,
   "id": "b8bf06a6-5747-415e-a8fb-e187cbfabd28",
   "metadata": {},
   "outputs": [],
   "source": [
    "b_1_in_terms_of_b_0 = sp.solve( b_0_norm_with_b_1, stairwell_solver.boundry_constant_symbols[ 1 ] )"
   ]
  },
  {
   "cell_type": "code",
   "execution_count": null,
   "id": "61672e47-c9b7-48d3-92ad-7f3edc31d805",
   "metadata": {},
   "outputs": [],
   "source": []
  },
  {
   "cell_type": "code",
   "execution_count": 63,
   "id": "f67f4e52-4ddb-49b8-b14f-750f7b6c799d",
   "metadata": {},
   "outputs": [],
   "source": [
    "b_1 = ( b_1_in_terms_of_b_0[ 0 ] * b_1_in_terms_of_b_0[ 1 ].simplify() ).subs( { b_0.lhs : b_0.rhs } )"
   ]
  },
  {
   "cell_type": "code",
   "execution_count": 64,
   "id": "3aeb0f61-ad53-4d2e-83f1-71c912241586",
   "metadata": {},
   "outputs": [
    {
     "data": {
      "text/latex": [
       "$\\displaystyle - \\frac{\\frac{8 L_{1} N_{0} k_{0} k_{1} \\left(e^{2 L_{0} k_{0}} - 1\\right)^{2} e^{2 L_{1} k_{1}}}{4 L_{0} k_{0} e^{2 L_{0} k_{0}} - e^{4 L_{0} k_{0}} + 1} - \\frac{2 N_{0} k_{0} \\left(e^{2 L_{0} k_{0}} - 1\\right)^{2} e^{4 L_{1} k_{1}}}{4 L_{0} k_{0} e^{2 L_{0} k_{0}} - e^{4 L_{0} k_{0}} + 1} + \\frac{2 N_{0} k_{0} \\left(e^{2 L_{0} k_{0}} - 1\\right)^{2}}{4 L_{0} k_{0} e^{2 L_{0} k_{0}} - e^{4 L_{0} k_{0}} + 1} - 2 N_{1} k_{1} e^{4 L_{1} k_{1}} + 4 N_{1} k_{1} e^{2 L_{1} k_{1}} - 2 N_{1} k_{1}}{4 L_{1} k_{1} e^{2 L_{1} k_{1}} - e^{4 L_{1} k_{1}} + 1}$"
      ],
      "text/plain": [
       "-(8*L_1*N_0*k_0*k_1*(exp(2*L_0*k_0) - 1)**2*exp(2*L_1*k_1)/(4*L_0*k_0*exp(2*L_0*k_0) - exp(4*L_0*k_0) + 1) - 2*N_0*k_0*(exp(2*L_0*k_0) - 1)**2*exp(4*L_1*k_1)/(4*L_0*k_0*exp(2*L_0*k_0) - exp(4*L_0*k_0) + 1) + 2*N_0*k_0*(exp(2*L_0*k_0) - 1)**2/(4*L_0*k_0*exp(2*L_0*k_0) - exp(4*L_0*k_0) + 1) - 2*N_1*k_1*exp(4*L_1*k_1) + 4*N_1*k_1*exp(2*L_1*k_1) - 2*N_1*k_1)/(4*L_1*k_1*exp(2*L_1*k_1) - exp(4*L_1*k_1) + 1)"
      ]
     },
     "execution_count": 64,
     "metadata": {},
     "output_type": "execute_result"
    }
   ],
   "source": [
    "b_1"
   ]
  },
  {
   "cell_type": "code",
   "execution_count": 65,
   "id": "ade9205a-5ed2-4ffa-ba5b-693d52ed5722",
   "metadata": {},
   "outputs": [],
   "source": [
    "b_1_simple = b_1.simplify()"
   ]
  },
  {
   "cell_type": "code",
   "execution_count": 66,
   "id": "cb145307-dada-469c-a146-704463625d31",
   "metadata": {},
   "outputs": [
    {
     "data": {
      "text/latex": [
       "$\\displaystyle \\frac{2 \\left(- 4 L_{1} N_{0} k_{0} k_{1} \\left(1 - e^{2 L_{0} k_{0}}\\right)^{2} e^{2 L_{1} k_{1}} + N_{0} k_{0} \\left(1 - e^{2 L_{0} k_{0}}\\right)^{2} e^{4 L_{1} k_{1}} - N_{0} k_{0} \\left(1 - e^{2 L_{0} k_{0}}\\right)^{2} - N_{1} k_{1} \\left(4 L_{0} k_{0} e^{2 L_{0} k_{0}} - e^{4 L_{0} k_{0}} + 1\\right) \\left(- e^{4 L_{1} k_{1}} + 2 e^{2 L_{1} k_{1}} - 1\\right)\\right)}{\\left(4 L_{0} k_{0} e^{2 L_{0} k_{0}} - e^{4 L_{0} k_{0}} + 1\\right) \\left(4 L_{1} k_{1} e^{2 L_{1} k_{1}} - e^{4 L_{1} k_{1}} + 1\\right)}$"
      ],
      "text/plain": [
       "2*(-4*L_1*N_0*k_0*k_1*(1 - exp(2*L_0*k_0))**2*exp(2*L_1*k_1) + N_0*k_0*(1 - exp(2*L_0*k_0))**2*exp(4*L_1*k_1) - N_0*k_0*(1 - exp(2*L_0*k_0))**2 - N_1*k_1*(4*L_0*k_0*exp(2*L_0*k_0) - exp(4*L_0*k_0) + 1)*(-exp(4*L_1*k_1) + 2*exp(2*L_1*k_1) - 1))/((4*L_0*k_0*exp(2*L_0*k_0) - exp(4*L_0*k_0) + 1)*(4*L_1*k_1*exp(2*L_1*k_1) - exp(4*L_1*k_1) + 1))"
      ]
     },
     "execution_count": 66,
     "metadata": {},
     "output_type": "execute_result"
    }
   ],
   "source": [
    "b_1_simple"
   ]
  },
  {
   "cell_type": "code",
   "execution_count": null,
   "id": "07e0f4a0-2f3f-45f3-86d4-af07e49b6006",
   "metadata": {},
   "outputs": [],
   "source": []
  },
  {
   "cell_type": "code",
   "execution_count": 67,
   "id": "e9f7800b-4b90-4306-b5fc-e04f33007a05",
   "metadata": {},
   "outputs": [],
   "source": [
    "b_1_equation = sp.Eq( sp.Abs( stairwell_solver.boundry_constant_symbols[ 1 ] ) ** 2, b_1_simple )"
   ]
  },
  {
   "cell_type": "code",
   "execution_count": 68,
   "id": "b2917845-40db-44ae-bbc8-d13076af727b",
   "metadata": {},
   "outputs": [],
   "source": [
    "substitution_table = {\n",
    "        stairwell_solver.boundry_constant_symbols[ 0 ] : sp.sqrt( b_0.rhs ), \n",
    "        stairwell_solver.boundry_constant_symbols[ 1 ] : sp.sqrt( b_1_equation.rhs ) \n",
    "    }"
   ]
  },
  {
   "cell_type": "code",
   "execution_count": null,
   "id": "9bd2d700-b584-4494-8ad0-71a643e8efe5",
   "metadata": {},
   "outputs": [],
   "source": []
  },
  {
   "cell_type": "code",
   "execution_count": 69,
   "id": "0a77c773-1fef-4207-a1d4-0a80a4ab0378",
   "metadata": {},
   "outputs": [
    {
     "data": {
      "text/latex": [
       "$\\displaystyle \\psi_{0}{\\left(x \\right)} = \\frac{B_{0} e^{L_{0} k_{0}} e^{k_{0} x}}{e^{2 L_{0} k_{0}} - 1} - \\frac{B_{0} e^{L_{0} k_{0}} e^{- k_{0} x}}{e^{2 L_{0} k_{0}} - 1}$"
      ],
      "text/plain": [
       "Eq(\\psi_{0}(x), B_{0}*exp(L_0*k_0)*exp(k_0*x)/(exp(2*L_0*k_0) - 1) - B_{0}*exp(L_0*k_0)*exp(-k_0*x)/(exp(2*L_0*k_0) - 1))"
      ]
     },
     "metadata": {},
     "output_type": "display_data"
    },
    {
     "data": {
      "text/latex": [
       "$\\displaystyle \\psi_{1}{\\left(x \\right)} = \\frac{\\left(- B_{0} + B_{1} e^{L_{1} k_{1}}\\right) e^{k_{1} x}}{e^{2 L_{1} k_{1}} - 1} + \\frac{\\left(B_{0} e^{2 L_{1} k_{1}} - B_{1} e^{L_{1} k_{1}}\\right) e^{- k_{1} x}}{e^{2 L_{1} k_{1}} - 1}$"
      ],
      "text/plain": [
       "Eq(\\psi_{1}(x), (-B_{0} + B_{1}*exp(L_1*k_1))*exp(k_1*x)/(exp(2*L_1*k_1) - 1) + (B_{0}*exp(2*L_1*k_1) - B_{1}*exp(L_1*k_1))*exp(-k_1*x)/(exp(2*L_1*k_1) - 1))"
      ]
     },
     "metadata": {},
     "output_type": "display_data"
    },
    {
     "data": {
      "text/latex": [
       "$\\displaystyle \\psi_{2}{\\left(x \\right)} = \\frac{B_{1} e^{2 L_{2} k_{2}} e^{- k_{2} x}}{e^{2 L_{2} k_{2}} - 1} - \\frac{B_{1} e^{k_{2} x}}{e^{2 L_{2} k_{2}} - 1}$"
      ],
      "text/plain": [
       "Eq(\\psi_{2}(x), B_{1}*exp(2*L_2*k_2)*exp(-k_2*x)/(exp(2*L_2*k_2) - 1) - B_{1}*exp(k_2*x)/(exp(2*L_2*k_2) - 1))"
      ]
     },
     "metadata": {},
     "output_type": "display_data"
    }
   ],
   "source": [
    "display_steps( stairwell_solver.equations )"
   ]
  },
  {
   "cell_type": "code",
   "execution_count": null,
   "id": "cd7576ad-cc93-4934-ba8c-aeb29db0ae99",
   "metadata": {},
   "outputs": [],
   "source": []
  },
  {
   "cell_type": "code",
   "execution_count": 70,
   "id": "286e7b47-1e01-494b-ab93-6940c0b01ccd",
   "metadata": {},
   "outputs": [],
   "source": [
    "for equation in stairwell_solver.equations: \n",
    "    equation.operate( lambda step : step.subs( substitution_table ) )"
   ]
  },
  {
   "cell_type": "code",
   "execution_count": null,
   "id": "33aeedf1-249f-4d16-b2cb-705d8ce573eb",
   "metadata": {},
   "outputs": [],
   "source": []
  },
  {
   "cell_type": "code",
   "execution_count": 71,
   "id": "0c48d4f7-0c94-44c1-b77f-5931b1800926",
   "metadata": {},
   "outputs": [
    {
     "data": {
      "text/latex": [
       "$\\displaystyle \\psi_{0}{\\left(x \\right)} = \\frac{\\sqrt{2} \\sqrt{\\frac{N_{0} k_{0}}{4 L_{0} k_{0} e^{2 L_{0} k_{0}} - e^{4 L_{0} k_{0}} + 1}} e^{L_{0} k_{0}} e^{k_{0} x} \\left|{e^{2 L_{0} k_{0}} - 1}\\right|}{e^{2 L_{0} k_{0}} - 1} - \\frac{\\sqrt{2} \\sqrt{\\frac{N_{0} k_{0}}{4 L_{0} k_{0} e^{2 L_{0} k_{0}} - e^{4 L_{0} k_{0}} + 1}} e^{L_{0} k_{0}} e^{- k_{0} x} \\left|{e^{2 L_{0} k_{0}} - 1}\\right|}{e^{2 L_{0} k_{0}} - 1}$"
      ],
      "text/plain": [
       "Eq(\\psi_{0}(x), sqrt(2)*sqrt(N_0*k_0/(4*L_0*k_0*exp(2*L_0*k_0) - exp(4*L_0*k_0) + 1))*exp(L_0*k_0)*exp(k_0*x)*Abs(exp(2*L_0*k_0) - 1)/(exp(2*L_0*k_0) - 1) - sqrt(2)*sqrt(N_0*k_0/(4*L_0*k_0*exp(2*L_0*k_0) - exp(4*L_0*k_0) + 1))*exp(L_0*k_0)*exp(-k_0*x)*Abs(exp(2*L_0*k_0) - 1)/(exp(2*L_0*k_0) - 1))"
      ]
     },
     "metadata": {},
     "output_type": "display_data"
    },
    {
     "data": {
      "text/latex": [
       "$\\displaystyle \\psi_{1}{\\left(x \\right)} = \\frac{\\left(- \\sqrt{2} \\sqrt{\\frac{N_{0} k_{0}}{4 L_{0} k_{0} e^{2 L_{0} k_{0}} - e^{4 L_{0} k_{0}} + 1}} \\left|{e^{2 L_{0} k_{0}} - 1}\\right| + \\sqrt{2} \\sqrt{\\frac{- 4 L_{1} N_{0} k_{0} k_{1} \\left(1 - e^{2 L_{0} k_{0}}\\right)^{2} e^{2 L_{1} k_{1}} + N_{0} k_{0} \\left(1 - e^{2 L_{0} k_{0}}\\right)^{2} e^{4 L_{1} k_{1}} - N_{0} k_{0} \\left(1 - e^{2 L_{0} k_{0}}\\right)^{2} - N_{1} k_{1} \\left(4 L_{0} k_{0} e^{2 L_{0} k_{0}} - e^{4 L_{0} k_{0}} + 1\\right) \\left(- e^{4 L_{1} k_{1}} + 2 e^{2 L_{1} k_{1}} - 1\\right)}{\\left(4 L_{0} k_{0} e^{2 L_{0} k_{0}} - e^{4 L_{0} k_{0}} + 1\\right) \\left(4 L_{1} k_{1} e^{2 L_{1} k_{1}} - e^{4 L_{1} k_{1}} + 1\\right)}} e^{L_{1} k_{1}}\\right) e^{k_{1} x}}{e^{2 L_{1} k_{1}} - 1} + \\frac{\\left(\\sqrt{2} \\sqrt{\\frac{N_{0} k_{0}}{4 L_{0} k_{0} e^{2 L_{0} k_{0}} - e^{4 L_{0} k_{0}} + 1}} e^{2 L_{1} k_{1}} \\left|{e^{2 L_{0} k_{0}} - 1}\\right| - \\sqrt{2} \\sqrt{\\frac{- 4 L_{1} N_{0} k_{0} k_{1} \\left(1 - e^{2 L_{0} k_{0}}\\right)^{2} e^{2 L_{1} k_{1}} + N_{0} k_{0} \\left(1 - e^{2 L_{0} k_{0}}\\right)^{2} e^{4 L_{1} k_{1}} - N_{0} k_{0} \\left(1 - e^{2 L_{0} k_{0}}\\right)^{2} - N_{1} k_{1} \\left(4 L_{0} k_{0} e^{2 L_{0} k_{0}} - e^{4 L_{0} k_{0}} + 1\\right) \\left(- e^{4 L_{1} k_{1}} + 2 e^{2 L_{1} k_{1}} - 1\\right)}{\\left(4 L_{0} k_{0} e^{2 L_{0} k_{0}} - e^{4 L_{0} k_{0}} + 1\\right) \\left(4 L_{1} k_{1} e^{2 L_{1} k_{1}} - e^{4 L_{1} k_{1}} + 1\\right)}} e^{L_{1} k_{1}}\\right) e^{- k_{1} x}}{e^{2 L_{1} k_{1}} - 1}$"
      ],
      "text/plain": [
       "Eq(\\psi_{1}(x), (-sqrt(2)*sqrt(N_0*k_0/(4*L_0*k_0*exp(2*L_0*k_0) - exp(4*L_0*k_0) + 1))*Abs(exp(2*L_0*k_0) - 1) + sqrt(2)*sqrt((-4*L_1*N_0*k_0*k_1*(1 - exp(2*L_0*k_0))**2*exp(2*L_1*k_1) + N_0*k_0*(1 - exp(2*L_0*k_0))**2*exp(4*L_1*k_1) - N_0*k_0*(1 - exp(2*L_0*k_0))**2 - N_1*k_1*(4*L_0*k_0*exp(2*L_0*k_0) - exp(4*L_0*k_0) + 1)*(-exp(4*L_1*k_1) + 2*exp(2*L_1*k_1) - 1))/((4*L_0*k_0*exp(2*L_0*k_0) - exp(4*L_0*k_0) + 1)*(4*L_1*k_1*exp(2*L_1*k_1) - exp(4*L_1*k_1) + 1)))*exp(L_1*k_1))*exp(k_1*x)/(exp(2*L_1*k_1) - 1) + (sqrt(2)*sqrt(N_0*k_0/(4*L_0*k_0*exp(2*L_0*k_0) - exp(4*L_0*k_0) + 1))*exp(2*L_1*k_1)*Abs(exp(2*L_0*k_0) - 1) - sqrt(2)*sqrt((-4*L_1*N_0*k_0*k_1*(1 - exp(2*L_0*k_0))**2*exp(2*L_1*k_1) + N_0*k_0*(1 - exp(2*L_0*k_0))**2*exp(4*L_1*k_1) - N_0*k_0*(1 - exp(2*L_0*k_0))**2 - N_1*k_1*(4*L_0*k_0*exp(2*L_0*k_0) - exp(4*L_0*k_0) + 1)*(-exp(4*L_1*k_1) + 2*exp(2*L_1*k_1) - 1))/((4*L_0*k_0*exp(2*L_0*k_0) - exp(4*L_0*k_0) + 1)*(4*L_1*k_1*exp(2*L_1*k_1) - exp(4*L_1*k_1) + 1)))*exp(L_1*k_1))*exp(-k_1*x)/(exp(2*L_1*k_1) - 1))"
      ]
     },
     "metadata": {},
     "output_type": "display_data"
    },
    {
     "data": {
      "text/latex": [
       "$\\displaystyle \\psi_{2}{\\left(x \\right)} = \\frac{\\sqrt{2} \\sqrt{\\frac{- 4 L_{1} N_{0} k_{0} k_{1} \\left(1 - e^{2 L_{0} k_{0}}\\right)^{2} e^{2 L_{1} k_{1}} + N_{0} k_{0} \\left(1 - e^{2 L_{0} k_{0}}\\right)^{2} e^{4 L_{1} k_{1}} - N_{0} k_{0} \\left(1 - e^{2 L_{0} k_{0}}\\right)^{2} - N_{1} k_{1} \\left(4 L_{0} k_{0} e^{2 L_{0} k_{0}} - e^{4 L_{0} k_{0}} + 1\\right) \\left(- e^{4 L_{1} k_{1}} + 2 e^{2 L_{1} k_{1}} - 1\\right)}{\\left(4 L_{0} k_{0} e^{2 L_{0} k_{0}} - e^{4 L_{0} k_{0}} + 1\\right) \\left(4 L_{1} k_{1} e^{2 L_{1} k_{1}} - e^{4 L_{1} k_{1}} + 1\\right)}} e^{2 L_{2} k_{2}} e^{- k_{2} x}}{e^{2 L_{2} k_{2}} - 1} - \\frac{\\sqrt{2} \\sqrt{\\frac{- 4 L_{1} N_{0} k_{0} k_{1} \\left(1 - e^{2 L_{0} k_{0}}\\right)^{2} e^{2 L_{1} k_{1}} + N_{0} k_{0} \\left(1 - e^{2 L_{0} k_{0}}\\right)^{2} e^{4 L_{1} k_{1}} - N_{0} k_{0} \\left(1 - e^{2 L_{0} k_{0}}\\right)^{2} - N_{1} k_{1} \\left(4 L_{0} k_{0} e^{2 L_{0} k_{0}} - e^{4 L_{0} k_{0}} + 1\\right) \\left(- e^{4 L_{1} k_{1}} + 2 e^{2 L_{1} k_{1}} - 1\\right)}{\\left(4 L_{0} k_{0} e^{2 L_{0} k_{0}} - e^{4 L_{0} k_{0}} + 1\\right) \\left(4 L_{1} k_{1} e^{2 L_{1} k_{1}} - e^{4 L_{1} k_{1}} + 1\\right)}} e^{k_{2} x}}{e^{2 L_{2} k_{2}} - 1}$"
      ],
      "text/plain": [
       "Eq(\\psi_{2}(x), sqrt(2)*sqrt((-4*L_1*N_0*k_0*k_1*(1 - exp(2*L_0*k_0))**2*exp(2*L_1*k_1) + N_0*k_0*(1 - exp(2*L_0*k_0))**2*exp(4*L_1*k_1) - N_0*k_0*(1 - exp(2*L_0*k_0))**2 - N_1*k_1*(4*L_0*k_0*exp(2*L_0*k_0) - exp(4*L_0*k_0) + 1)*(-exp(4*L_1*k_1) + 2*exp(2*L_1*k_1) - 1))/((4*L_0*k_0*exp(2*L_0*k_0) - exp(4*L_0*k_0) + 1)*(4*L_1*k_1*exp(2*L_1*k_1) - exp(4*L_1*k_1) + 1)))*exp(2*L_2*k_2)*exp(-k_2*x)/(exp(2*L_2*k_2) - 1) - sqrt(2)*sqrt((-4*L_1*N_0*k_0*k_1*(1 - exp(2*L_0*k_0))**2*exp(2*L_1*k_1) + N_0*k_0*(1 - exp(2*L_0*k_0))**2*exp(4*L_1*k_1) - N_0*k_0*(1 - exp(2*L_0*k_0))**2 - N_1*k_1*(4*L_0*k_0*exp(2*L_0*k_0) - exp(4*L_0*k_0) + 1)*(-exp(4*L_1*k_1) + 2*exp(2*L_1*k_1) - 1))/((4*L_0*k_0*exp(2*L_0*k_0) - exp(4*L_0*k_0) + 1)*(4*L_1*k_1*exp(2*L_1*k_1) - exp(4*L_1*k_1) + 1)))*exp(k_2*x)/(exp(2*L_2*k_2) - 1))"
      ]
     },
     "metadata": {},
     "output_type": "display_data"
    }
   ],
   "source": [
    "display_steps( stairwell_solver.equations )"
   ]
  },
  {
   "cell_type": "code",
   "execution_count": 72,
   "id": "9571b7d7-8695-427c-a48f-c4808477882e",
   "metadata": {},
   "outputs": [],
   "source": [
    "for equation in stairwell_solver.equations: \n",
    "    equation.manipulate( lambda side : side.simplify() )"
   ]
  },
  {
   "cell_type": "code",
   "execution_count": null,
   "id": "1698d3ef-4bfd-40a0-b675-31185bb763bc",
   "metadata": {},
   "outputs": [],
   "source": []
  },
  {
   "cell_type": "code",
   "execution_count": 73,
   "id": "fda9e4ca-e468-4644-9965-1c624a9c599a",
   "metadata": {},
   "outputs": [
    {
     "data": {
      "text/latex": [
       "$\\displaystyle \\psi_{0}{\\left(x \\right)} = - \\frac{\\sqrt{2} \\sqrt{\\frac{N_{0} k_{0}}{4 L_{0} k_{0} e^{2 L_{0} k_{0}} - e^{4 L_{0} k_{0}} + 1}} \\left(e^{L_{0} k_{0}} - e^{k_{0} \\left(L_{0} + 2 x\\right)}\\right) e^{- k_{0} x} \\left|{e^{2 L_{0} k_{0}} - 1}\\right|}{e^{2 L_{0} k_{0}} - 1}$"
      ],
      "text/plain": [
       "Eq(\\psi_{0}(x), -sqrt(2)*sqrt(N_0*k_0/(4*L_0*k_0*exp(2*L_0*k_0) - exp(4*L_0*k_0) + 1))*(exp(L_0*k_0) - exp(k_0*(L_0 + 2*x)))*exp(-k_0*x)*Abs(exp(2*L_0*k_0) - 1)/(exp(2*L_0*k_0) - 1))"
      ]
     },
     "metadata": {},
     "output_type": "display_data"
    },
    {
     "data": {
      "text/latex": [
       "$\\displaystyle \\psi_{1}{\\left(x \\right)} = - \\frac{\\sqrt{2} \\left(- \\left(\\sqrt{\\frac{- 4 L_{1} N_{0} k_{0} k_{1} \\left(1 - e^{2 L_{0} k_{0}}\\right)^{2} e^{2 L_{1} k_{1}} + N_{0} k_{0} \\left(1 - e^{2 L_{0} k_{0}}\\right)^{2} e^{4 L_{1} k_{1}} - N_{0} k_{0} \\left(1 - e^{2 L_{0} k_{0}}\\right)^{2} + N_{1} k_{1} \\left(4 L_{0} k_{0} e^{2 L_{0} k_{0}} - e^{4 L_{0} k_{0}} + 1\\right) \\left(e^{4 L_{1} k_{1}} - 2 e^{2 L_{1} k_{1}} + 1\\right)}{16 L_{0} L_{1} k_{0} k_{1} e^{2 L_{0} k_{0} + 2 L_{1} k_{1}} + 4 L_{0} k_{0} e^{2 L_{0} k_{0}} - 4 L_{0} k_{0} e^{2 L_{0} k_{0} + 4 L_{1} k_{1}} + 4 L_{1} k_{1} e^{2 L_{1} k_{1}} - 4 L_{1} k_{1} e^{4 L_{0} k_{0} + 2 L_{1} k_{1}} - e^{4 L_{0} k_{0}} - e^{4 L_{1} k_{1}} + e^{4 L_{0} k_{0} + 4 L_{1} k_{1}} + 1}} e^{L_{1} k_{1}} - \\sqrt{\\frac{N_{0} k_{0}}{4 L_{0} k_{0} e^{2 L_{0} k_{0}} - e^{4 L_{0} k_{0}} + 1}} \\left|{e^{2 L_{0} k_{0}} - 1}\\right|\\right) e^{2 k_{1} x} + \\left(\\sqrt{\\frac{- 4 L_{1} N_{0} k_{0} k_{1} \\left(1 - e^{2 L_{0} k_{0}}\\right)^{2} e^{2 L_{1} k_{1}} + N_{0} k_{0} \\left(1 - e^{2 L_{0} k_{0}}\\right)^{2} e^{4 L_{1} k_{1}} - N_{0} k_{0} \\left(1 - e^{2 L_{0} k_{0}}\\right)^{2} + N_{1} k_{1} \\left(4 L_{0} k_{0} e^{2 L_{0} k_{0}} - e^{4 L_{0} k_{0}} + 1\\right) \\left(e^{4 L_{1} k_{1}} - 2 e^{2 L_{1} k_{1}} + 1\\right)}{16 L_{0} L_{1} k_{0} k_{1} e^{2 L_{0} k_{0} + 2 L_{1} k_{1}} + 4 L_{0} k_{0} e^{2 L_{0} k_{0}} - 4 L_{0} k_{0} e^{2 L_{0} k_{0} + 4 L_{1} k_{1}} + 4 L_{1} k_{1} e^{2 L_{1} k_{1}} - 4 L_{1} k_{1} e^{4 L_{0} k_{0} + 2 L_{1} k_{1}} - e^{4 L_{0} k_{0}} - e^{4 L_{1} k_{1}} + e^{4 L_{0} k_{0} + 4 L_{1} k_{1}} + 1}} - \\sqrt{\\frac{N_{0} k_{0}}{4 L_{0} k_{0} e^{2 L_{0} k_{0}} - e^{4 L_{0} k_{0}} + 1}} e^{L_{1} k_{1}} \\left|{e^{2 L_{0} k_{0}} - 1}\\right|\\right) e^{L_{1} k_{1}}\\right) e^{- k_{1} x}}{e^{2 L_{1} k_{1}} - 1}$"
      ],
      "text/plain": [
       "Eq(\\psi_{1}(x), -sqrt(2)*(-(sqrt((-4*L_1*N_0*k_0*k_1*(1 - exp(2*L_0*k_0))**2*exp(2*L_1*k_1) + N_0*k_0*(1 - exp(2*L_0*k_0))**2*exp(4*L_1*k_1) - N_0*k_0*(1 - exp(2*L_0*k_0))**2 + N_1*k_1*(4*L_0*k_0*exp(2*L_0*k_0) - exp(4*L_0*k_0) + 1)*(exp(4*L_1*k_1) - 2*exp(2*L_1*k_1) + 1))/(16*L_0*L_1*k_0*k_1*exp(2*L_0*k_0 + 2*L_1*k_1) + 4*L_0*k_0*exp(2*L_0*k_0) - 4*L_0*k_0*exp(2*L_0*k_0 + 4*L_1*k_1) + 4*L_1*k_1*exp(2*L_1*k_1) - 4*L_1*k_1*exp(4*L_0*k_0 + 2*L_1*k_1) - exp(4*L_0*k_0) - exp(4*L_1*k_1) + exp(4*L_0*k_0 + 4*L_1*k_1) + 1))*exp(L_1*k_1) - sqrt(N_0*k_0/(4*L_0*k_0*exp(2*L_0*k_0) - exp(4*L_0*k_0) + 1))*Abs(exp(2*L_0*k_0) - 1))*exp(2*k_1*x) + (sqrt((-4*L_1*N_0*k_0*k_1*(1 - exp(2*L_0*k_0))**2*exp(2*L_1*k_1) + N_0*k_0*(1 - exp(2*L_0*k_0))**2*exp(4*L_1*k_1) - N_0*k_0*(1 - exp(2*L_0*k_0))**2 + N_1*k_1*(4*L_0*k_0*exp(2*L_0*k_0) - exp(4*L_0*k_0) + 1)*(exp(4*L_1*k_1) - 2*exp(2*L_1*k_1) + 1))/(16*L_0*L_1*k_0*k_1*exp(2*L_0*k_0 + 2*L_1*k_1) + 4*L_0*k_0*exp(2*L_0*k_0) - 4*L_0*k_0*exp(2*L_0*k_0 + 4*L_1*k_1) + 4*L_1*k_1*exp(2*L_1*k_1) - 4*L_1*k_1*exp(4*L_0*k_0 + 2*L_1*k_1) - exp(4*L_0*k_0) - exp(4*L_1*k_1) + exp(4*L_0*k_0 + 4*L_1*k_1) + 1)) - sqrt(N_0*k_0/(4*L_0*k_0*exp(2*L_0*k_0) - exp(4*L_0*k_0) + 1))*exp(L_1*k_1)*Abs(exp(2*L_0*k_0) - 1))*exp(L_1*k_1))*exp(-k_1*x)/(exp(2*L_1*k_1) - 1))"
      ]
     },
     "metadata": {},
     "output_type": "display_data"
    },
    {
     "data": {
      "text/latex": [
       "$\\displaystyle \\psi_{2}{\\left(x \\right)} = \\frac{\\sqrt{2} \\sqrt{\\frac{- 4 L_{1} N_{0} k_{0} k_{1} \\left(1 - e^{2 L_{0} k_{0}}\\right)^{2} e^{2 L_{1} k_{1}} + N_{0} k_{0} \\left(1 - e^{2 L_{0} k_{0}}\\right)^{2} e^{4 L_{1} k_{1}} - N_{0} k_{0} \\left(1 - e^{2 L_{0} k_{0}}\\right)^{2} + N_{1} k_{1} \\left(4 L_{0} k_{0} e^{2 L_{0} k_{0}} - e^{4 L_{0} k_{0}} + 1\\right) \\left(e^{4 L_{1} k_{1}} - 2 e^{2 L_{1} k_{1}} + 1\\right)}{16 L_{0} L_{1} k_{0} k_{1} e^{2 L_{0} k_{0} + 2 L_{1} k_{1}} + 4 L_{0} k_{0} e^{2 L_{0} k_{0}} - 4 L_{0} k_{0} e^{2 L_{0} k_{0} + 4 L_{1} k_{1}} + 4 L_{1} k_{1} e^{2 L_{1} k_{1}} - 4 L_{1} k_{1} e^{4 L_{0} k_{0} + 2 L_{1} k_{1}} - e^{4 L_{0} k_{0}} - e^{4 L_{1} k_{1}} + e^{4 L_{0} k_{0} + 4 L_{1} k_{1}} + 1}} \\left(- \\left(1 - e^{2 L_{2} k_{2}}\\right) e^{2 L_{2} k_{2}} + \\left(1 - e^{2 L_{2} k_{2}}\\right) e^{2 k_{2} x}\\right) e^{- k_{2} x}}{\\left(1 - e^{2 L_{2} k_{2}}\\right)^{2}}$"
      ],
      "text/plain": [
       "Eq(\\psi_{2}(x), sqrt(2)*sqrt((-4*L_1*N_0*k_0*k_1*(1 - exp(2*L_0*k_0))**2*exp(2*L_1*k_1) + N_0*k_0*(1 - exp(2*L_0*k_0))**2*exp(4*L_1*k_1) - N_0*k_0*(1 - exp(2*L_0*k_0))**2 + N_1*k_1*(4*L_0*k_0*exp(2*L_0*k_0) - exp(4*L_0*k_0) + 1)*(exp(4*L_1*k_1) - 2*exp(2*L_1*k_1) + 1))/(16*L_0*L_1*k_0*k_1*exp(2*L_0*k_0 + 2*L_1*k_1) + 4*L_0*k_0*exp(2*L_0*k_0) - 4*L_0*k_0*exp(2*L_0*k_0 + 4*L_1*k_1) + 4*L_1*k_1*exp(2*L_1*k_1) - 4*L_1*k_1*exp(4*L_0*k_0 + 2*L_1*k_1) - exp(4*L_0*k_0) - exp(4*L_1*k_1) + exp(4*L_0*k_0 + 4*L_1*k_1) + 1))*(-(1 - exp(2*L_2*k_2))*exp(2*L_2*k_2) + (1 - exp(2*L_2*k_2))*exp(2*k_2*x))*exp(-k_2*x)/(1 - exp(2*L_2*k_2))**2)"
      ]
     },
     "metadata": {},
     "output_type": "display_data"
    }
   ],
   "source": [
    "display_steps( stairwell_solver.equations )"
   ]
  },
  {
   "cell_type": "code",
   "execution_count": null,
   "id": "0a48c752-b9f1-4e10-a00b-07ec2f4f6507",
   "metadata": {},
   "outputs": [],
   "source": []
  },
  {
   "cell_type": "code",
   "execution_count": 74,
   "id": "7a5a21fe-ae7f-4928-bc3b-685032119fcd",
   "metadata": {},
   "outputs": [],
   "source": [
    "lengths = ( 1.0 / 3.0, 2.0 / 3.0, 1.0 )"
   ]
  },
  {
   "cell_type": "code",
   "execution_count": 75,
   "id": "fe0a76f4-bf0b-4bb8-a62b-74f8549fca3a",
   "metadata": {},
   "outputs": [],
   "source": [
    "probabilities = ( .2, .3, .5 )"
   ]
  },
  {
   "cell_type": "code",
   "execution_count": 76,
   "id": "96965d97-b4f9-41b1-9d8b-96147d9d65ff",
   "metadata": {},
   "outputs": [],
   "source": [
    "potentials = ( 1.0, 2.0 / 3.0, 1.0 / 3.0 )"
   ]
  },
  {
   "cell_type": "code",
   "execution_count": 77,
   "id": "afe883f7-3e32-4ef1-b1c5-092f1d8d11cd",
   "metadata": {},
   "outputs": [],
   "source": [
    "energy = potentials[ - 1 ] # Keep it real"
   ]
  },
  {
   "cell_type": "code",
   "execution_count": 78,
   "id": "05f44303-388f-401b-aec4-425812c1ffc3",
   "metadata": {},
   "outputs": [],
   "source": [
    "mass = 1.0"
   ]
  },
  {
   "cell_type": "code",
   "execution_count": 79,
   "id": "2450f8fd-d4ce-4fd3-9a27-9abc759c1fe9",
   "metadata": {},
   "outputs": [],
   "source": [
    "plancks_constant = 1.0"
   ]
  },
  {
   "cell_type": "code",
   "execution_count": null,
   "id": "69c9d34d-400c-417f-8c2e-a99760219627",
   "metadata": {},
   "outputs": [],
   "source": []
  },
  {
   "cell_type": "code",
   "execution_count": 80,
   "id": "fc03b3f9-954a-4eed-8e13-167255d3bdc9",
   "metadata": {},
   "outputs": [
    {
     "data": {
      "text/latex": [
       "$\\displaystyle \\psi_{0}{\\left(x \\right)} = - \\frac{\\sqrt{2} \\sqrt{\\frac{N_{0} k_{0}}{4 L_{0} k_{0} e^{2 L_{0} k_{0}} - e^{4 L_{0} k_{0}} + 1}} \\left(e^{L_{0} k_{0}} - e^{k_{0} \\left(L_{0} + 2 x\\right)}\\right) e^{- k_{0} x} \\left|{e^{2 L_{0} k_{0}} - 1}\\right|}{e^{2 L_{0} k_{0}} - 1}$"
      ],
      "text/plain": [
       "Eq(\\psi_{0}(x), -sqrt(2)*sqrt(N_0*k_0/(4*L_0*k_0*exp(2*L_0*k_0) - exp(4*L_0*k_0) + 1))*(exp(L_0*k_0) - exp(k_0*(L_0 + 2*x)))*exp(-k_0*x)*Abs(exp(2*L_0*k_0) - 1)/(exp(2*L_0*k_0) - 1))"
      ]
     },
     "metadata": {},
     "output_type": "display_data"
    },
    {
     "data": {
      "text/latex": [
       "$\\displaystyle \\psi_{1}{\\left(x \\right)} = - \\frac{\\sqrt{2} \\left(- \\left(\\sqrt{\\frac{- 4 L_{1} N_{0} k_{0} k_{1} \\left(1 - e^{2 L_{0} k_{0}}\\right)^{2} e^{2 L_{1} k_{1}} + N_{0} k_{0} \\left(1 - e^{2 L_{0} k_{0}}\\right)^{2} e^{4 L_{1} k_{1}} - N_{0} k_{0} \\left(1 - e^{2 L_{0} k_{0}}\\right)^{2} + N_{1} k_{1} \\left(4 L_{0} k_{0} e^{2 L_{0} k_{0}} - e^{4 L_{0} k_{0}} + 1\\right) \\left(e^{4 L_{1} k_{1}} - 2 e^{2 L_{1} k_{1}} + 1\\right)}{16 L_{0} L_{1} k_{0} k_{1} e^{2 L_{0} k_{0} + 2 L_{1} k_{1}} + 4 L_{0} k_{0} e^{2 L_{0} k_{0}} - 4 L_{0} k_{0} e^{2 L_{0} k_{0} + 4 L_{1} k_{1}} + 4 L_{1} k_{1} e^{2 L_{1} k_{1}} - 4 L_{1} k_{1} e^{4 L_{0} k_{0} + 2 L_{1} k_{1}} - e^{4 L_{0} k_{0}} - e^{4 L_{1} k_{1}} + e^{4 L_{0} k_{0} + 4 L_{1} k_{1}} + 1}} e^{L_{1} k_{1}} - \\sqrt{\\frac{N_{0} k_{0}}{4 L_{0} k_{0} e^{2 L_{0} k_{0}} - e^{4 L_{0} k_{0}} + 1}} \\left|{e^{2 L_{0} k_{0}} - 1}\\right|\\right) e^{2 k_{1} x} + \\left(\\sqrt{\\frac{- 4 L_{1} N_{0} k_{0} k_{1} \\left(1 - e^{2 L_{0} k_{0}}\\right)^{2} e^{2 L_{1} k_{1}} + N_{0} k_{0} \\left(1 - e^{2 L_{0} k_{0}}\\right)^{2} e^{4 L_{1} k_{1}} - N_{0} k_{0} \\left(1 - e^{2 L_{0} k_{0}}\\right)^{2} + N_{1} k_{1} \\left(4 L_{0} k_{0} e^{2 L_{0} k_{0}} - e^{4 L_{0} k_{0}} + 1\\right) \\left(e^{4 L_{1} k_{1}} - 2 e^{2 L_{1} k_{1}} + 1\\right)}{16 L_{0} L_{1} k_{0} k_{1} e^{2 L_{0} k_{0} + 2 L_{1} k_{1}} + 4 L_{0} k_{0} e^{2 L_{0} k_{0}} - 4 L_{0} k_{0} e^{2 L_{0} k_{0} + 4 L_{1} k_{1}} + 4 L_{1} k_{1} e^{2 L_{1} k_{1}} - 4 L_{1} k_{1} e^{4 L_{0} k_{0} + 2 L_{1} k_{1}} - e^{4 L_{0} k_{0}} - e^{4 L_{1} k_{1}} + e^{4 L_{0} k_{0} + 4 L_{1} k_{1}} + 1}} - \\sqrt{\\frac{N_{0} k_{0}}{4 L_{0} k_{0} e^{2 L_{0} k_{0}} - e^{4 L_{0} k_{0}} + 1}} e^{L_{1} k_{1}} \\left|{e^{2 L_{0} k_{0}} - 1}\\right|\\right) e^{L_{1} k_{1}}\\right) e^{- k_{1} x}}{e^{2 L_{1} k_{1}} - 1}$"
      ],
      "text/plain": [
       "Eq(\\psi_{1}(x), -sqrt(2)*(-(sqrt((-4*L_1*N_0*k_0*k_1*(1 - exp(2*L_0*k_0))**2*exp(2*L_1*k_1) + N_0*k_0*(1 - exp(2*L_0*k_0))**2*exp(4*L_1*k_1) - N_0*k_0*(1 - exp(2*L_0*k_0))**2 + N_1*k_1*(4*L_0*k_0*exp(2*L_0*k_0) - exp(4*L_0*k_0) + 1)*(exp(4*L_1*k_1) - 2*exp(2*L_1*k_1) + 1))/(16*L_0*L_1*k_0*k_1*exp(2*L_0*k_0 + 2*L_1*k_1) + 4*L_0*k_0*exp(2*L_0*k_0) - 4*L_0*k_0*exp(2*L_0*k_0 + 4*L_1*k_1) + 4*L_1*k_1*exp(2*L_1*k_1) - 4*L_1*k_1*exp(4*L_0*k_0 + 2*L_1*k_1) - exp(4*L_0*k_0) - exp(4*L_1*k_1) + exp(4*L_0*k_0 + 4*L_1*k_1) + 1))*exp(L_1*k_1) - sqrt(N_0*k_0/(4*L_0*k_0*exp(2*L_0*k_0) - exp(4*L_0*k_0) + 1))*Abs(exp(2*L_0*k_0) - 1))*exp(2*k_1*x) + (sqrt((-4*L_1*N_0*k_0*k_1*(1 - exp(2*L_0*k_0))**2*exp(2*L_1*k_1) + N_0*k_0*(1 - exp(2*L_0*k_0))**2*exp(4*L_1*k_1) - N_0*k_0*(1 - exp(2*L_0*k_0))**2 + N_1*k_1*(4*L_0*k_0*exp(2*L_0*k_0) - exp(4*L_0*k_0) + 1)*(exp(4*L_1*k_1) - 2*exp(2*L_1*k_1) + 1))/(16*L_0*L_1*k_0*k_1*exp(2*L_0*k_0 + 2*L_1*k_1) + 4*L_0*k_0*exp(2*L_0*k_0) - 4*L_0*k_0*exp(2*L_0*k_0 + 4*L_1*k_1) + 4*L_1*k_1*exp(2*L_1*k_1) - 4*L_1*k_1*exp(4*L_0*k_0 + 2*L_1*k_1) - exp(4*L_0*k_0) - exp(4*L_1*k_1) + exp(4*L_0*k_0 + 4*L_1*k_1) + 1)) - sqrt(N_0*k_0/(4*L_0*k_0*exp(2*L_0*k_0) - exp(4*L_0*k_0) + 1))*exp(L_1*k_1)*Abs(exp(2*L_0*k_0) - 1))*exp(L_1*k_1))*exp(-k_1*x)/(exp(2*L_1*k_1) - 1))"
      ]
     },
     "metadata": {},
     "output_type": "display_data"
    },
    {
     "data": {
      "text/latex": [
       "$\\displaystyle \\psi_{2}{\\left(x \\right)} = \\frac{\\sqrt{2} \\sqrt{\\frac{- 4 L_{1} N_{0} k_{0} k_{1} \\left(1 - e^{2 L_{0} k_{0}}\\right)^{2} e^{2 L_{1} k_{1}} + N_{0} k_{0} \\left(1 - e^{2 L_{0} k_{0}}\\right)^{2} e^{4 L_{1} k_{1}} - N_{0} k_{0} \\left(1 - e^{2 L_{0} k_{0}}\\right)^{2} + N_{1} k_{1} \\left(4 L_{0} k_{0} e^{2 L_{0} k_{0}} - e^{4 L_{0} k_{0}} + 1\\right) \\left(e^{4 L_{1} k_{1}} - 2 e^{2 L_{1} k_{1}} + 1\\right)}{16 L_{0} L_{1} k_{0} k_{1} e^{2 L_{0} k_{0} + 2 L_{1} k_{1}} + 4 L_{0} k_{0} e^{2 L_{0} k_{0}} - 4 L_{0} k_{0} e^{2 L_{0} k_{0} + 4 L_{1} k_{1}} + 4 L_{1} k_{1} e^{2 L_{1} k_{1}} - 4 L_{1} k_{1} e^{4 L_{0} k_{0} + 2 L_{1} k_{1}} - e^{4 L_{0} k_{0}} - e^{4 L_{1} k_{1}} + e^{4 L_{0} k_{0} + 4 L_{1} k_{1}} + 1}} \\left(- \\left(1 - e^{2 L_{2} k_{2}}\\right) e^{2 L_{2} k_{2}} + \\left(1 - e^{2 L_{2} k_{2}}\\right) e^{2 k_{2} x}\\right) e^{- k_{2} x}}{\\left(1 - e^{2 L_{2} k_{2}}\\right)^{2}}$"
      ],
      "text/plain": [
       "Eq(\\psi_{2}(x), sqrt(2)*sqrt((-4*L_1*N_0*k_0*k_1*(1 - exp(2*L_0*k_0))**2*exp(2*L_1*k_1) + N_0*k_0*(1 - exp(2*L_0*k_0))**2*exp(4*L_1*k_1) - N_0*k_0*(1 - exp(2*L_0*k_0))**2 + N_1*k_1*(4*L_0*k_0*exp(2*L_0*k_0) - exp(4*L_0*k_0) + 1)*(exp(4*L_1*k_1) - 2*exp(2*L_1*k_1) + 1))/(16*L_0*L_1*k_0*k_1*exp(2*L_0*k_0 + 2*L_1*k_1) + 4*L_0*k_0*exp(2*L_0*k_0) - 4*L_0*k_0*exp(2*L_0*k_0 + 4*L_1*k_1) + 4*L_1*k_1*exp(2*L_1*k_1) - 4*L_1*k_1*exp(4*L_0*k_0 + 2*L_1*k_1) - exp(4*L_0*k_0) - exp(4*L_1*k_1) + exp(4*L_0*k_0 + 4*L_1*k_1) + 1))*(-(1 - exp(2*L_2*k_2))*exp(2*L_2*k_2) + (1 - exp(2*L_2*k_2))*exp(2*k_2*x))*exp(-k_2*x)/(1 - exp(2*L_2*k_2))**2)"
      ]
     },
     "metadata": {},
     "output_type": "display_data"
    }
   ],
   "source": [
    "display_steps( stairwell_solver.equations )"
   ]
  },
  {
   "cell_type": "code",
   "execution_count": 81,
   "id": "5732007c-1c46-4760-89d4-d5c06aea509f",
   "metadata": {},
   "outputs": [
    {
     "data": {
      "text/latex": [
       "$\\displaystyle \\psi_{2}{\\left(x \\right)} = \\frac{\\sqrt{2} \\sqrt{\\frac{- 4 L_{1} N_{0} k_{0} k_{1} \\left(1 - e^{2 L_{0} k_{0}}\\right)^{2} e^{2 L_{1} k_{1}} + N_{0} k_{0} \\left(1 - e^{2 L_{0} k_{0}}\\right)^{2} e^{4 L_{1} k_{1}} - N_{0} k_{0} \\left(1 - e^{2 L_{0} k_{0}}\\right)^{2} + N_{1} k_{1} \\left(4 L_{0} k_{0} e^{2 L_{0} k_{0}} - e^{4 L_{0} k_{0}} + 1\\right) \\left(e^{4 L_{1} k_{1}} - 2 e^{2 L_{1} k_{1}} + 1\\right)}{16 L_{0} L_{1} k_{0} k_{1} e^{2 L_{0} k_{0} + 2 L_{1} k_{1}} + 4 L_{0} k_{0} e^{2 L_{0} k_{0}} - 4 L_{0} k_{0} e^{2 L_{0} k_{0} + 4 L_{1} k_{1}} + 4 L_{1} k_{1} e^{2 L_{1} k_{1}} - 4 L_{1} k_{1} e^{4 L_{0} k_{0} + 2 L_{1} k_{1}} - e^{4 L_{0} k_{0}} - e^{4 L_{1} k_{1}} + e^{4 L_{0} k_{0} + 4 L_{1} k_{1}} + 1}} \\left(- \\left(1 - e^{2 L_{2} k_{2}}\\right) e^{2 L_{2} k_{2}} + \\left(1 - e^{2 L_{2} k_{2}}\\right) e^{2 k_{2} x}\\right) e^{- k_{2} x}}{\\left(1 - e^{2 L_{2} k_{2}}\\right)^{2}}$"
      ],
      "text/plain": [
       "Eq(\\psi_{2}(x), sqrt(2)*sqrt((-4*L_1*N_0*k_0*k_1*(1 - exp(2*L_0*k_0))**2*exp(2*L_1*k_1) + N_0*k_0*(1 - exp(2*L_0*k_0))**2*exp(4*L_1*k_1) - N_0*k_0*(1 - exp(2*L_0*k_0))**2 + N_1*k_1*(4*L_0*k_0*exp(2*L_0*k_0) - exp(4*L_0*k_0) + 1)*(exp(4*L_1*k_1) - 2*exp(2*L_1*k_1) + 1))/(16*L_0*L_1*k_0*k_1*exp(2*L_0*k_0 + 2*L_1*k_1) + 4*L_0*k_0*exp(2*L_0*k_0) - 4*L_0*k_0*exp(2*L_0*k_0 + 4*L_1*k_1) + 4*L_1*k_1*exp(2*L_1*k_1) - 4*L_1*k_1*exp(4*L_0*k_0 + 2*L_1*k_1) - exp(4*L_0*k_0) - exp(4*L_1*k_1) + exp(4*L_0*k_0 + 4*L_1*k_1) + 1))*(-(1 - exp(2*L_2*k_2))*exp(2*L_2*k_2) + (1 - exp(2*L_2*k_2))*exp(2*k_2*x))*exp(-k_2*x)/(1 - exp(2*L_2*k_2))**2)"
      ]
     },
     "execution_count": 81,
     "metadata": {},
     "output_type": "execute_result"
    }
   ],
   "source": [
    "stairwell_solver.equations[ 2 ].last_step()"
   ]
  },
  {
   "cell_type": "code",
   "execution_count": null,
   "id": "9c79af50-bc39-4d21-96d7-ee45c8aadce1",
   "metadata": {},
   "outputs": [],
   "source": []
  },
  {
   "cell_type": "code",
   "execution_count": 82,
   "id": "1d1065fa-9ba5-41a9-8970-5d1e15280f0b",
   "metadata": {},
   "outputs": [],
   "source": [
    "# executable_wave_functions = [ sp.lambdify( [ stairwell_solver.position ], equation.last_step() ) for equation in stairwell_solver.equations ]"
   ]
  },
  {
   "cell_type": "code",
   "execution_count": null,
   "id": "529b30b4-4cc0-4f89-8a01-7ee176d12906",
   "metadata": {},
   "outputs": [],
   "source": []
  },
  {
   "cell_type": "code",
   "execution_count": 83,
   "id": "dc7f8c9c-f432-45ba-91cc-302ea9c7d60f",
   "metadata": {},
   "outputs": [],
   "source": [
    "def lambdify( tise_solver, expression ): \n",
    "    return sp.lambdify( \n",
    "            [ \n",
    "                tise_solver.position, \n",
    "                tise_solver.mass, \n",
    "                tise_solver.total_energy \n",
    "            ] + harmonic_constant_symbols + [\n",
    "                    *tuple( tise_solver.normalization_symbols ), \n",
    "                    *tuple( tise_solver.regions() )\n",
    "            ], \n",
    "            ( sp.Abs( ( expression ** 2 ).simplify() ) ).simplify(), \n",
    "        \"numpy\" \n",
    "    )\n"
   ]
  },
  {
   "cell_type": "code",
   "execution_count": null,
   "id": "b892ae24-772c-4c63-94c1-5e0d8722e35d",
   "metadata": {},
   "outputs": [],
   "source": []
  },
  {
   "cell_type": "code",
   "execution_count": null,
   "id": "b3a3da73-6dd4-4ba2-87dd-2dd96c61f39b",
   "metadata": {},
   "outputs": [],
   "source": []
  },
  {
   "cell_type": "code",
   "execution_count": 84,
   "id": "0204ab11-3fe2-4bc5-854b-05fd91b9c60f",
   "metadata": {},
   "outputs": [],
   "source": [
    "harmonic_constant_symbols = \\\n",
    "        [ stairwell_solver.harmonic_constants[ ii ].lhs for ii in range( len( stairwell_solver.equations ) ) ]\n",
    "\n",
    "executable_wave_functions = [ \n",
    "        lambdify( stairwell_solver, equation.last_step().rhs ) \\\n",
    "        for equation in stairwell_solver.equations \n",
    "    ]"
   ]
  },
  {
   "cell_type": "code",
   "execution_count": null,
   "id": "cc8e71b7-3b20-44d3-b4fe-6ac43e5a1792",
   "metadata": {},
   "outputs": [],
   "source": []
  },
  {
   "cell_type": "code",
   "execution_count": 85,
   "id": "3ada54d9-5a74-48cc-a8e1-3e1d2834dab1",
   "metadata": {},
   "outputs": [],
   "source": [
    "harmonic_constants = tuple( [ ( np.sqrt( mass ) * np.sqrt( 2 ) * ( -energy + potential ) ) / plancks_constant \\\n",
    "        for potential in potentials ] )"
   ]
  },
  {
   "cell_type": "code",
   "execution_count": 86,
   "id": "c3026dbb-41bc-4ffb-96b6-9664ca2308fe",
   "metadata": {},
   "outputs": [
    {
     "name": "stderr",
     "output_type": "stream",
     "text": [
      "<lambdifygenerated-2>:2: RuntimeWarning: invalid value encountered in sqrt\n",
      "  return 2*exp(-2*k_1*x)*abs(((sqrt(-(4*L_1*N_0*k_0*k_1*(exp(2*L_0*k_0) - 1)**2*exp(2*L_1*k_1) - N_0*k_0*(exp(2*L_0*k_0) - 1)**2*exp(4*L_1*k_1) + N_0*k_0*(exp(2*L_0*k_0) - 1)**2 - N_1*k_1*(4*L_0*k_0*exp(2*L_0*k_0) - exp(4*L_0*k_0) + 1)*(exp(4*L_1*k_1) - 2*exp(2*L_1*k_1) + 1))/(16*L_0*L_1*k_0*k_1*exp(2*L_0*k_0 + 2*L_1*k_1) + 4*L_0*k_0*exp(2*L_0*k_0) - 4*L_0*k_0*exp(2*L_0*k_0 + 4*L_1*k_1) + 4*L_1*k_1*exp(2*L_1*k_1) - 4*L_1*k_1*exp(4*L_0*k_0 + 2*L_1*k_1) - exp(4*L_0*k_0) - exp(4*L_1*k_1) + exp(4*L_0*k_0 + 4*L_1*k_1) + 1))*exp(L_1*k_1) - sqrt(N_0*k_0/(4*L_0*k_0*exp(2*L_0*k_0) - exp(4*L_0*k_0) + 1))*abs(exp(2*L_0*k_0) - 1))*exp(2*k_1*x) - (sqrt(-(4*L_1*N_0*k_0*k_1*(exp(2*L_0*k_0) - 1)**2*exp(2*L_1*k_1) - N_0*k_0*(exp(2*L_0*k_0) - 1)**2*exp(4*L_1*k_1) + N_0*k_0*(exp(2*L_0*k_0) - 1)**2 - N_1*k_1*(4*L_0*k_0*exp(2*L_0*k_0) - exp(4*L_0*k_0) + 1)*(exp(4*L_1*k_1) - 2*exp(2*L_1*k_1) + 1))/(16*L_0*L_1*k_0*k_1*exp(2*L_0*k_0 + 2*L_1*k_1) + 4*L_0*k_0*exp(2*L_0*k_0) - 4*L_0*k_0*exp(2*L_0*k_0 + 4*L_1*k_1) + 4*L_1*k_1*exp(2*L_1*k_1) - 4*L_1*k_1*exp(4*L_0*k_0 + 2*L_1*k_1) - exp(4*L_0*k_0) - exp(4*L_1*k_1) + exp(4*L_0*k_0 + 4*L_1*k_1) + 1)) - sqrt(N_0*k_0/(4*L_0*k_0*exp(2*L_0*k_0) - exp(4*L_0*k_0) + 1))*exp(L_1*k_1)*abs(exp(2*L_0*k_0) - 1))*exp(L_1*k_1))**2/(exp(2*L_1*k_1) - 1)**2)\n",
      "<lambdifygenerated-3>:2: RuntimeWarning: divide by zero encountered in double_scalars\n",
      "  return 2*(exp(2*L_2*k_2) - exp(2*k_2*x))**2*exp(-2*k_2*x)*abs((4*L_1*N_0*k_0*k_1*(exp(2*L_0*k_0) - 1)**2*exp(2*L_1*k_1) - N_0*k_0*(exp(2*L_0*k_0) - 1)**2*exp(4*L_1*k_1) + N_0*k_0*(exp(2*L_0*k_0) - 1)**2 - N_1*k_1*(4*L_0*k_0*exp(2*L_0*k_0) - exp(4*L_0*k_0) + 1)*(exp(4*L_1*k_1) - 2*exp(2*L_1*k_1) + 1))/((exp(2*L_2*k_2) - 1)**2*(16*L_0*L_1*k_0*k_1*exp(2*L_0*k_0 + 2*L_1*k_1) + 4*L_0*k_0*exp(2*L_0*k_0) - 4*L_0*k_0*exp(2*L_0*k_0 + 4*L_1*k_1) + 4*L_1*k_1*exp(2*L_1*k_1) - 4*L_1*k_1*exp(4*L_0*k_0 + 2*L_1*k_1) - exp(4*L_0*k_0) - exp(4*L_1*k_1) + exp(4*L_0*k_0 + 4*L_1*k_1) + 1)))\n",
      "<lambdifygenerated-3>:2: RuntimeWarning: invalid value encountered in double_scalars\n",
      "  return 2*(exp(2*L_2*k_2) - exp(2*k_2*x))**2*exp(-2*k_2*x)*abs((4*L_1*N_0*k_0*k_1*(exp(2*L_0*k_0) - 1)**2*exp(2*L_1*k_1) - N_0*k_0*(exp(2*L_0*k_0) - 1)**2*exp(4*L_1*k_1) + N_0*k_0*(exp(2*L_0*k_0) - 1)**2 - N_1*k_1*(4*L_0*k_0*exp(2*L_0*k_0) - exp(4*L_0*k_0) + 1)*(exp(4*L_1*k_1) - 2*exp(2*L_1*k_1) + 1))/((exp(2*L_2*k_2) - 1)**2*(16*L_0*L_1*k_0*k_1*exp(2*L_0*k_0 + 2*L_1*k_1) + 4*L_0*k_0*exp(2*L_0*k_0) - 4*L_0*k_0*exp(2*L_0*k_0 + 4*L_1*k_1) + 4*L_1*k_1*exp(2*L_1*k_1) - 4*L_1*k_1*exp(4*L_0*k_0 + 2*L_1*k_1) - exp(4*L_0*k_0) - exp(4*L_1*k_1) + exp(4*L_0*k_0 + 4*L_1*k_1) + 1)))\n"
     ]
    }
   ],
   "source": [
    "data_sets = []\n",
    "for ii in range( len( stairwell_solver.equations ) ): \n",
    "    x_range = np.arange( 0, lengths[ ii ], .001 )\n",
    "    data_sets.append( ( [], x_range ) )\n",
    "    for x in x_range: \n",
    "        #with np.warnings.catch_warnings(): \n",
    "        #    np.warnings.filterwarnings('error')\n",
    "        #    try: \n",
    "        data_sets[ -1 ][ 0 ].append( executable_wave_functions[ ii ]( x, mass, energy, *harmonic_constants, *probabilities, *lengths ) )\n",
    "        #    except Warning as warning: \n",
    "        #        print( \"WARNING: \", x, ii )\n",
    "        #        pass\n"
   ]
  },
  {
   "cell_type": "code",
   "execution_count": 87,
   "id": "d296b12f-5da9-48e9-b1f1-15035c94f047",
   "metadata": {},
   "outputs": [
    {
     "data": {
      "text/plain": [
       "[<matplotlib.lines.Line2D at 0x7fb6ec8f0a00>]"
      ]
     },
     "execution_count": 87,
     "metadata": {},
     "output_type": "execute_result"
    },
    {
     "data": {
      "image/png": "[encoded data removed]",
      "text/plain": [
       "<Figure size 432x288 with 1 Axes>"
      ]
     },
     "metadata": {
      "needs_background": "light"
     },
     "output_type": "display_data"
    }
   ],
   "source": [
    "plt.plot( data_sets[ 0 ][ 0 ], data_sets[ 0 ][ 1 ] )"
   ]
  },
  {
   "cell_type": "code",
   "execution_count": 88,
   "id": "eb7e0a34-9c7e-45cf-8bb3-421b1aec0583",
   "metadata": {},
   "outputs": [
    {
     "name": "stderr",
     "output_type": "stream",
     "text": [
      "<lambdifygenerated-2>:2: RuntimeWarning: invalid value encountered in sqrt\n",
      "  return 2*exp(-2*k_1*x)*abs(((sqrt(-(4*L_1*N_0*k_0*k_1*(exp(2*L_0*k_0) - 1)**2*exp(2*L_1*k_1) - N_0*k_0*(exp(2*L_0*k_0) - 1)**2*exp(4*L_1*k_1) + N_0*k_0*(exp(2*L_0*k_0) - 1)**2 - N_1*k_1*(4*L_0*k_0*exp(2*L_0*k_0) - exp(4*L_0*k_0) + 1)*(exp(4*L_1*k_1) - 2*exp(2*L_1*k_1) + 1))/(16*L_0*L_1*k_0*k_1*exp(2*L_0*k_0 + 2*L_1*k_1) + 4*L_0*k_0*exp(2*L_0*k_0) - 4*L_0*k_0*exp(2*L_0*k_0 + 4*L_1*k_1) + 4*L_1*k_1*exp(2*L_1*k_1) - 4*L_1*k_1*exp(4*L_0*k_0 + 2*L_1*k_1) - exp(4*L_0*k_0) - exp(4*L_1*k_1) + exp(4*L_0*k_0 + 4*L_1*k_1) + 1))*exp(L_1*k_1) - sqrt(N_0*k_0/(4*L_0*k_0*exp(2*L_0*k_0) - exp(4*L_0*k_0) + 1))*abs(exp(2*L_0*k_0) - 1))*exp(2*k_1*x) - (sqrt(-(4*L_1*N_0*k_0*k_1*(exp(2*L_0*k_0) - 1)**2*exp(2*L_1*k_1) - N_0*k_0*(exp(2*L_0*k_0) - 1)**2*exp(4*L_1*k_1) + N_0*k_0*(exp(2*L_0*k_0) - 1)**2 - N_1*k_1*(4*L_0*k_0*exp(2*L_0*k_0) - exp(4*L_0*k_0) + 1)*(exp(4*L_1*k_1) - 2*exp(2*L_1*k_1) + 1))/(16*L_0*L_1*k_0*k_1*exp(2*L_0*k_0 + 2*L_1*k_1) + 4*L_0*k_0*exp(2*L_0*k_0) - 4*L_0*k_0*exp(2*L_0*k_0 + 4*L_1*k_1) + 4*L_1*k_1*exp(2*L_1*k_1) - 4*L_1*k_1*exp(4*L_0*k_0 + 2*L_1*k_1) - exp(4*L_0*k_0) - exp(4*L_1*k_1) + exp(4*L_0*k_0 + 4*L_1*k_1) + 1)) - sqrt(N_0*k_0/(4*L_0*k_0*exp(2*L_0*k_0) - exp(4*L_0*k_0) + 1))*exp(L_1*k_1)*abs(exp(2*L_0*k_0) - 1))*exp(L_1*k_1))**2/(exp(2*L_1*k_1) - 1)**2)\n"
     ]
    },
    {
     "data": {
      "text/plain": [
       "nan"
      ]
     },
     "execution_count": 88,
     "metadata": {},
     "output_type": "execute_result"
    }
   ],
   "source": [
    "executable_wave_functions[ 1 ]( 0, mass, energy, *harmonic_constants, *probabilities, *lengths )"
   ]
  },
  {
   "cell_type": "code",
   "execution_count": 89,
   "id": "3acf9f27-aa6a-4147-bc05-bab6795aa67b",
   "metadata": {},
   "outputs": [],
   "source": [
    "import inspect"
   ]
  },
  {
   "cell_type": "code",
   "execution_count": null,
   "id": "cd5cb9b0-e113-4b67-a5e7-745d56f08f83",
   "metadata": {},
   "outputs": [],
   "source": []
  },
  {
   "cell_type": "code",
   "execution_count": 90,
   "id": "378a9d3d-a5e0-417c-8ca7-aaedd9900f35",
   "metadata": {},
   "outputs": [
    {
     "name": "stdout",
     "output_type": "stream",
     "text": [
      "def _lambdifygenerated(x, m, E, k_0, k_1, k_2, N_0, N_1, N_2, L_0, L_1, L_2):\n",
      "    return 2*exp(-2*k_1*x)*abs(((sqrt(-(4*L_1*N_0*k_0*k_1*(exp(2*L_0*k_0) - 1)**2*exp(2*L_1*k_1) - N_0*k_0*(exp(2*L_0*k_0) - 1)**2*exp(4*L_1*k_1) + N_0*k_0*(exp(2*L_0*k_0) - 1)**2 - N_1*k_1*(4*L_0*k_0*exp(2*L_0*k_0) - exp(4*L_0*k_0) + 1)*(exp(4*L_1*k_1) - 2*exp(2*L_1*k_1) + 1))/(16*L_0*L_1*k_0*k_1*exp(2*L_0*k_0 + 2*L_1*k_1) + 4*L_0*k_0*exp(2*L_0*k_0) - 4*L_0*k_0*exp(2*L_0*k_0 + 4*L_1*k_1) + 4*L_1*k_1*exp(2*L_1*k_1) - 4*L_1*k_1*exp(4*L_0*k_0 + 2*L_1*k_1) - exp(4*L_0*k_0) - exp(4*L_1*k_1) + exp(4*L_0*k_0 + 4*L_1*k_1) + 1))*exp(L_1*k_1) - sqrt(N_0*k_0/(4*L_0*k_0*exp(2*L_0*k_0) - exp(4*L_0*k_0) + 1))*abs(exp(2*L_0*k_0) - 1))*exp(2*k_1*x) - (sqrt(-(4*L_1*N_0*k_0*k_1*(exp(2*L_0*k_0) - 1)**2*exp(2*L_1*k_1) - N_0*k_0*(exp(2*L_0*k_0) - 1)**2*exp(4*L_1*k_1) + N_0*k_0*(exp(2*L_0*k_0) - 1)**2 - N_1*k_1*(4*L_0*k_0*exp(2*L_0*k_0) - exp(4*L_0*k_0) + 1)*(exp(4*L_1*k_1) - 2*exp(2*L_1*k_1) + 1))/(16*L_0*L_1*k_0*k_1*exp(2*L_0*k_0 + 2*L_1*k_1) + 4*L_0*k_0*exp(2*L_0*k_0) - 4*L_0*k_0*exp(2*L_0*k_0 + 4*L_1*k_1) + 4*L_1*k_1*exp(2*L_1*k_1) - 4*L_1*k_1*exp(4*L_0*k_0 + 2*L_1*k_1) - exp(4*L_0*k_0) - exp(4*L_1*k_1) + exp(4*L_0*k_0 + 4*L_1*k_1) + 1)) - sqrt(N_0*k_0/(4*L_0*k_0*exp(2*L_0*k_0) - exp(4*L_0*k_0) + 1))*exp(L_1*k_1)*abs(exp(2*L_0*k_0) - 1))*exp(L_1*k_1))**2/(exp(2*L_1*k_1) - 1)**2)\n",
      "\n"
     ]
    }
   ],
   "source": [
    "print( inspect.getsource( executable_wave_functions[ 1 ] ) )"
   ]
  },
  {
   "cell_type": "code",
   "execution_count": null,
   "id": "69e3d16a-2aac-4c0f-accd-5dfcbdec8d9b",
   "metadata": {},
   "outputs": [],
   "source": []
  },
  {
   "cell_type": "code",
   "execution_count": null,
   "id": "1e0f5716-3147-4f93-9c0e-68a941887068",
   "metadata": {},
   "outputs": [],
   "source": []
  },
  {
   "cell_type": "code",
   "execution_count": 91,
   "id": "32354159-94f5-4ab4-8f15-a17888b85f70",
   "metadata": {},
   "outputs": [
    {
     "data": {
      "text/plain": [
       "[<matplotlib.lines.Line2D at 0x7fb6ed17e070>]"
      ]
     },
     "execution_count": 91,
     "metadata": {},
     "output_type": "execute_result"
    },
    {
     "data": {
      "image/png": "[encoded data removed]",
      "text/plain": [
       "<Figure size 432x288 with 1 Axes>"
      ]
     },
     "metadata": {
      "needs_background": "light"
     },
     "output_type": "display_data"
    }
   ],
   "source": [
    "plt.plot( data_sets[ 1 ][ 0 ], data_sets[ 1 ][ 1 ] )"
   ]
  },
  {
   "cell_type": "code",
   "execution_count": 92,
   "id": "9b4d72f5-be93-49cd-a583-e1e7bc1a4b53",
   "metadata": {},
   "outputs": [
    {
     "data": {
      "text/plain": [
       "[<matplotlib.lines.Line2D at 0x7fb6ece80b20>]"
      ]
     },
     "execution_count": 92,
     "metadata": {},
     "output_type": "execute_result"
    },
    {
     "data": {
      "image/png": "[encoded data removed]",
      "text/plain": [
       "<Figure size 432x288 with 1 Axes>"
      ]
     },
     "metadata": {
      "needs_background": "light"
     },
     "output_type": "display_data"
    }
   ],
   "source": [
    "plt.plot( data_sets[ 2 ][ 0 ], data_sets[ 2 ][ 1 ] )"
   ]
  },
  {
   "cell_type": "code",
   "execution_count": null,
   "id": "410e26f7-f3f2-4dd9-8602-58fb4fd9a44b",
   "metadata": {},
   "outputs": [],
   "source": []
  },
  {
   "cell_type": "code",
   "execution_count": 93,
   "id": "f16ca626-7f07-4cb1-8dfa-213953d1105b",
   "metadata": {},
   "outputs": [],
   "source": [
    "format_constant = lambda constant_name_base, constants : str( constant_name_base ) + '_' + str( len( constants ) )"
   ]
  },
  {
   "cell_type": "code",
   "execution_count": null,
   "id": "3b7ec621-51cc-4f6b-b0c0-ec3f20b0bc32",
   "metadata": {},
   "outputs": [],
   "source": []
  },
  {
   "cell_type": "code",
   "execution_count": 94,
   "id": "721175d5-de2c-413a-991a-162684287959",
   "metadata": {},
   "outputs": [],
   "source": [
    "result1, constants1 = group_constants( stairwell_solver.equations[ 1 ].last_step(), [ stairwell_solver.position ], 'V', format_constant = format_constant )\n",
    "\n",
    "constants = deepcopy( constants1 )"
   ]
  },
  {
   "cell_type": "code",
   "execution_count": 95,
   "id": "f6d02376-bf4c-4c73-83e0-96ed638c7faa",
   "metadata": {},
   "outputs": [
    {
     "data": {
      "text/latex": [
       "$\\displaystyle \\int\\limits_{0}^{L_{2}} \\left(- B_{1} Q_{2} e^{Q_{1} x} + B_{1} Q_{4} e^{- Q_{1} x}\\right) \\left(- Q_{2} e^{Q_{1} x} \\overline{B_{1}} + Q_{4} e^{- Q_{1} x} \\overline{B_{1}}\\right)\\, dx = N_{2}$"
      ],
      "text/plain": [
       "Eq(Integral((-B_{1}*Q_{2}*exp(Q_{1}*x) + B_{1}*Q_{4}*exp(-Q_{1}*x))*(-Q_{2}*exp(Q_{1}*x)*conjugate(B_{1}) + Q_{4}*exp(-Q_{1}*x)*conjugate(B_{1})), (x, 0, L_2)), N_2)"
      ]
     },
     "execution_count": 95,
     "metadata": {},
     "output_type": "execute_result"
    }
   ],
   "source": [
    "result"
   ]
  },
  {
   "cell_type": "code",
   "execution_count": 96,
   "id": "5a7ee776-a40a-4913-bb6f-8b4e803a78de",
   "metadata": {},
   "outputs": [
    {
     "data": {
      "text/plain": [
       "{sqrt(2): V_0,\n",
       " 1/(exp(2*L_1*k_1) - 1): V_1,\n",
       " (sqrt((-4*L_1*N_0*k_0*k_1*(1 - exp(2*L_0*k_0))**2*exp(2*L_1*k_1) + N_0*k_0*(1 - exp(2*L_0*k_0))**2*exp(4*L_1*k_1) - N_0*k_0*(1 - exp(2*L_0*k_0))**2 + N_1*k_1*(4*L_0*k_0*exp(2*L_0*k_0) - exp(4*L_0*k_0) + 1)*(exp(4*L_1*k_1) - 2*exp(2*L_1*k_1) + 1))/(16*L_0*L_1*k_0*k_1*exp(2*L_0*k_0 + 2*L_1*k_1) + 4*L_0*k_0*exp(2*L_0*k_0) - 4*L_0*k_0*exp(2*L_0*k_0 + 4*L_1*k_1) + 4*L_1*k_1*exp(2*L_1*k_1) - 4*L_1*k_1*exp(4*L_0*k_0 + 2*L_1*k_1) - exp(4*L_0*k_0) - exp(4*L_1*k_1) + exp(4*L_0*k_0 + 4*L_1*k_1) + 1)) - sqrt(N_0*k_0/(4*L_0*k_0*exp(2*L_0*k_0) - exp(4*L_0*k_0) + 1))*exp(L_1*k_1)*Abs(exp(2*L_0*k_0) - 1))*exp(L_1*k_1): V_2,\n",
       " sqrt((-4*L_1*N_0*k_0*k_1*(1 - exp(2*L_0*k_0))**2*exp(2*L_1*k_1) + N_0*k_0*(1 - exp(2*L_0*k_0))**2*exp(4*L_1*k_1) - N_0*k_0*(1 - exp(2*L_0*k_0))**2 + N_1*k_1*(4*L_0*k_0*exp(2*L_0*k_0) - exp(4*L_0*k_0) + 1)*(exp(4*L_1*k_1) - 2*exp(2*L_1*k_1) + 1))/(16*L_0*L_1*k_0*k_1*exp(2*L_0*k_0 + 2*L_1*k_1) + 4*L_0*k_0*exp(2*L_0*k_0) - 4*L_0*k_0*exp(2*L_0*k_0 + 4*L_1*k_1) + 4*L_1*k_1*exp(2*L_1*k_1) - 4*L_1*k_1*exp(4*L_0*k_0 + 2*L_1*k_1) - exp(4*L_0*k_0) - exp(4*L_1*k_1) + exp(4*L_0*k_0 + 4*L_1*k_1) + 1))*exp(L_1*k_1) - sqrt(N_0*k_0/(4*L_0*k_0*exp(2*L_0*k_0) - exp(4*L_0*k_0) + 1))*Abs(exp(2*L_0*k_0) - 1): V_3,\n",
       " k_1: V_4,\n",
       " V_3: V_5,\n",
       " V_2: V_6,\n",
       " V_0*V_1: V_7}"
      ]
     },
     "execution_count": 96,
     "metadata": {},
     "output_type": "execute_result"
    }
   ],
   "source": [
    "constants"
   ]
  },
  {
   "cell_type": "code",
   "execution_count": 97,
   "id": "f9c5f3f1-f7d7-4f25-9c28-70102b4d186c",
   "metadata": {},
   "outputs": [],
   "source": [
    "result0, constants = group_constants( stairwell_solver.equations[ 0 ].last_step(), [ stairwell_solver.position ], 'V', constants = constants, format_constant = format_constant  )"
   ]
  },
  {
   "cell_type": "code",
   "execution_count": 98,
   "id": "aa6fd8a0-b846-4243-975e-e09f9ee476d5",
   "metadata": {},
   "outputs": [
    {
     "data": {
      "text/plain": [
       "{sqrt(2): V_0,\n",
       " 1/(exp(2*L_1*k_1) - 1): V_1,\n",
       " (sqrt((-4*L_1*N_0*k_0*k_1*(1 - exp(2*L_0*k_0))**2*exp(2*L_1*k_1) + N_0*k_0*(1 - exp(2*L_0*k_0))**2*exp(4*L_1*k_1) - N_0*k_0*(1 - exp(2*L_0*k_0))**2 + N_1*k_1*(4*L_0*k_0*exp(2*L_0*k_0) - exp(4*L_0*k_0) + 1)*(exp(4*L_1*k_1) - 2*exp(2*L_1*k_1) + 1))/(16*L_0*L_1*k_0*k_1*exp(2*L_0*k_0 + 2*L_1*k_1) + 4*L_0*k_0*exp(2*L_0*k_0) - 4*L_0*k_0*exp(2*L_0*k_0 + 4*L_1*k_1) + 4*L_1*k_1*exp(2*L_1*k_1) - 4*L_1*k_1*exp(4*L_0*k_0 + 2*L_1*k_1) - exp(4*L_0*k_0) - exp(4*L_1*k_1) + exp(4*L_0*k_0 + 4*L_1*k_1) + 1)) - sqrt(N_0*k_0/(4*L_0*k_0*exp(2*L_0*k_0) - exp(4*L_0*k_0) + 1))*exp(L_1*k_1)*Abs(exp(2*L_0*k_0) - 1))*exp(L_1*k_1): V_2,\n",
       " sqrt((-4*L_1*N_0*k_0*k_1*(1 - exp(2*L_0*k_0))**2*exp(2*L_1*k_1) + N_0*k_0*(1 - exp(2*L_0*k_0))**2*exp(4*L_1*k_1) - N_0*k_0*(1 - exp(2*L_0*k_0))**2 + N_1*k_1*(4*L_0*k_0*exp(2*L_0*k_0) - exp(4*L_0*k_0) + 1)*(exp(4*L_1*k_1) - 2*exp(2*L_1*k_1) + 1))/(16*L_0*L_1*k_0*k_1*exp(2*L_0*k_0 + 2*L_1*k_1) + 4*L_0*k_0*exp(2*L_0*k_0) - 4*L_0*k_0*exp(2*L_0*k_0 + 4*L_1*k_1) + 4*L_1*k_1*exp(2*L_1*k_1) - 4*L_1*k_1*exp(4*L_0*k_0 + 2*L_1*k_1) - exp(4*L_0*k_0) - exp(4*L_1*k_1) + exp(4*L_0*k_0 + 4*L_1*k_1) + 1))*exp(L_1*k_1) - sqrt(N_0*k_0/(4*L_0*k_0*exp(2*L_0*k_0) - exp(4*L_0*k_0) + 1))*Abs(exp(2*L_0*k_0) - 1): V_3,\n",
       " k_1: V_4,\n",
       " V_3: V_5,\n",
       " V_2: V_6,\n",
       " V_0*V_1: V_7,\n",
       " sqrt(N_0*k_0/(4*L_0*k_0*exp(2*L_0*k_0) - exp(4*L_0*k_0) + 1)): V_8,\n",
       " 1/(exp(2*L_0*k_0) - 1): V_9,\n",
       " L_0: V_10,\n",
       " k_0: V_11,\n",
       " exp(L_0*k_0): V_12,\n",
       " V_12: V_13,\n",
       " Abs(exp(2*L_0*k_0) - 1): V_14,\n",
       " V_0*V_14*V_8*V_9: V_15}"
      ]
     },
     "execution_count": 98,
     "metadata": {},
     "output_type": "execute_result"
    }
   ],
   "source": [
    "constants"
   ]
  },
  {
   "cell_type": "code",
   "execution_count": 99,
   "id": "4c690bc7-57ec-40b6-b768-a4ce53009ea7",
   "metadata": {},
   "outputs": [
    {
     "data": {
      "text/latex": [
       "$\\displaystyle \\psi_{0}{\\left(x \\right)} = - V_{15} \\left(V_{13} - e^{V_{11} \\left(V_{10} + 2 x\\right)}\\right) e^{- V_{11} x}$"
      ],
      "text/plain": [
       "Eq(\\psi_{0}(x), -V_15*(V_13 - exp(V_11*(V_10 + 2*x)))*exp(-V_11*x))"
      ]
     },
     "execution_count": 99,
     "metadata": {},
     "output_type": "execute_result"
    }
   ],
   "source": [
    "result0"
   ]
  },
  {
   "cell_type": "code",
   "execution_count": null,
   "id": "91e2da35-48e1-4204-ae20-305a18dca3dc",
   "metadata": {},
   "outputs": [],
   "source": []
  },
  {
   "cell_type": "code",
   "execution_count": 100,
   "id": "90d57fff-5296-4bae-beff-837eef5770e2",
   "metadata": {},
   "outputs": [],
   "source": [
    "result2, constants = group_constants( stairwell_solver.equations[ 2 ].last_step(), [ stairwell_solver.position ], 'V', constants = constants, format_constant = format_constant  )"
   ]
  },
  {
   "cell_type": "code",
   "execution_count": 101,
   "id": "1375b52e-c434-4403-bac0-8397cc4f047e",
   "metadata": {},
   "outputs": [
    {
     "data": {
      "text/latex": [
       "$\\displaystyle \\psi_{2}{\\left(x \\right)} = V_{23} \\left(V_{20} e^{2 V_{19} x} + V_{22}\\right) e^{- V_{19} x}$"
      ],
      "text/plain": [
       "Eq(\\psi_{2}(x), V_23*(V_20*exp(2*V_19*x) + V_22)*exp(-V_19*x))"
      ]
     },
     "execution_count": 101,
     "metadata": {},
     "output_type": "execute_result"
    }
   ],
   "source": [
    "result2"
   ]
  },
  {
   "cell_type": "code",
   "execution_count": null,
   "id": "0b50fa73-da9d-4539-af0b-3b9c90af68ba",
   "metadata": {},
   "outputs": [],
   "source": []
  },
  {
   "cell_type": "code",
   "execution_count": 102,
   "id": "b1218c08-6a9e-40c4-98ff-8e76b527d240",
   "metadata": {},
   "outputs": [
    {
     "data": {
      "text/plain": [
       "{sqrt(2): V_0,\n",
       " 1/(exp(2*L_1*k_1) - 1): V_1,\n",
       " (sqrt((-4*L_1*N_0*k_0*k_1*(1 - exp(2*L_0*k_0))**2*exp(2*L_1*k_1) + N_0*k_0*(1 - exp(2*L_0*k_0))**2*exp(4*L_1*k_1) - N_0*k_0*(1 - exp(2*L_0*k_0))**2 + N_1*k_1*(4*L_0*k_0*exp(2*L_0*k_0) - exp(4*L_0*k_0) + 1)*(exp(4*L_1*k_1) - 2*exp(2*L_1*k_1) + 1))/(16*L_0*L_1*k_0*k_1*exp(2*L_0*k_0 + 2*L_1*k_1) + 4*L_0*k_0*exp(2*L_0*k_0) - 4*L_0*k_0*exp(2*L_0*k_0 + 4*L_1*k_1) + 4*L_1*k_1*exp(2*L_1*k_1) - 4*L_1*k_1*exp(4*L_0*k_0 + 2*L_1*k_1) - exp(4*L_0*k_0) - exp(4*L_1*k_1) + exp(4*L_0*k_0 + 4*L_1*k_1) + 1)) - sqrt(N_0*k_0/(4*L_0*k_0*exp(2*L_0*k_0) - exp(4*L_0*k_0) + 1))*exp(L_1*k_1)*Abs(exp(2*L_0*k_0) - 1))*exp(L_1*k_1): V_2,\n",
       " sqrt((-4*L_1*N_0*k_0*k_1*(1 - exp(2*L_0*k_0))**2*exp(2*L_1*k_1) + N_0*k_0*(1 - exp(2*L_0*k_0))**2*exp(4*L_1*k_1) - N_0*k_0*(1 - exp(2*L_0*k_0))**2 + N_1*k_1*(4*L_0*k_0*exp(2*L_0*k_0) - exp(4*L_0*k_0) + 1)*(exp(4*L_1*k_1) - 2*exp(2*L_1*k_1) + 1))/(16*L_0*L_1*k_0*k_1*exp(2*L_0*k_0 + 2*L_1*k_1) + 4*L_0*k_0*exp(2*L_0*k_0) - 4*L_0*k_0*exp(2*L_0*k_0 + 4*L_1*k_1) + 4*L_1*k_1*exp(2*L_1*k_1) - 4*L_1*k_1*exp(4*L_0*k_0 + 2*L_1*k_1) - exp(4*L_0*k_0) - exp(4*L_1*k_1) + exp(4*L_0*k_0 + 4*L_1*k_1) + 1))*exp(L_1*k_1) - sqrt(N_0*k_0/(4*L_0*k_0*exp(2*L_0*k_0) - exp(4*L_0*k_0) + 1))*Abs(exp(2*L_0*k_0) - 1): V_3,\n",
       " k_1: V_4,\n",
       " V_3: V_5,\n",
       " V_2: V_6,\n",
       " V_0*V_1: V_7}"
      ]
     },
     "execution_count": 102,
     "metadata": {},
     "output_type": "execute_result"
    }
   ],
   "source": [
    "constants1"
   ]
  },
  {
   "cell_type": "code",
   "execution_count": 103,
   "id": "a068dff3-a87e-405a-b619-4be99c6238c3",
   "metadata": {},
   "outputs": [],
   "source": [
    "debug = [ lambdify( stairwell_solver, expression ) for expression in constants1.keys() if not expression in constants1.values() ]"
   ]
  },
  {
   "cell_type": "code",
   "execution_count": 104,
   "id": "b1452313-629c-4d68-8743-3cf920cc5af5",
   "metadata": {},
   "outputs": [
    {
     "data": {
      "text/plain": [
       "[<function _lambdifygenerated(x, m, E, k_0, k_1, k_2, N_0, N_1, N_2, L_0, L_1, L_2)>,\n",
       " <function _lambdifygenerated(x, m, E, k_0, k_1, k_2, N_0, N_1, N_2, L_0, L_1, L_2)>,\n",
       " <function _lambdifygenerated(x, m, E, k_0, k_1, k_2, N_0, N_1, N_2, L_0, L_1, L_2)>,\n",
       " <function _lambdifygenerated(x, m, E, k_0, k_1, k_2, N_0, N_1, N_2, L_0, L_1, L_2)>,\n",
       " <function _lambdifygenerated(x, m, E, k_0, k_1, k_2, N_0, N_1, N_2, L_0, L_1, L_2)>,\n",
       " <function _lambdifygenerated(x, m, E, k_0, k_1, k_2, N_0, N_1, N_2, L_0, L_1, L_2)>]"
      ]
     },
     "execution_count": 104,
     "metadata": {},
     "output_type": "execute_result"
    }
   ],
   "source": [
    "debug"
   ]
  },
  {
   "cell_type": "code",
   "execution_count": 105,
   "id": "931b14c3-6e4b-438d-8ed0-2e732b4a74bf",
   "metadata": {},
   "outputs": [
    {
     "name": "stderr",
     "output_type": "stream",
     "text": [
      "<lambdifygenerated-6>:2: RuntimeWarning: invalid value encountered in sqrt\n",
      "  return exp(2*L_1*k_1)*abs((sqrt((-4*L_1*N_0*k_0*k_1*(1 - exp(2*L_0*k_0))**2*exp(2*L_1*k_1) + N_0*k_0*(1 - exp(2*L_0*k_0))**2*exp(4*L_1*k_1) - N_0*k_0*(1 - exp(2*L_0*k_0))**2 + N_1*k_1*(4*L_0*k_0*exp(2*L_0*k_0) - exp(4*L_0*k_0) + 1)*(exp(4*L_1*k_1) - 2*exp(2*L_1*k_1) + 1))/(16*L_0*L_1*k_0*k_1*exp(2*L_0*k_0 + 2*L_1*k_1) + 4*L_0*k_0*exp(2*L_0*k_0) - 4*L_0*k_0*exp(2*L_0*k_0 + 4*L_1*k_1) + 4*L_1*k_1*exp(2*L_1*k_1) - 4*L_1*k_1*exp(4*L_0*k_0 + 2*L_1*k_1) - exp(4*L_0*k_0) - exp(4*L_1*k_1) + exp(4*L_0*k_0 + 4*L_1*k_1) + 1)) - sqrt(N_0*k_0/(4*L_0*k_0*exp(2*L_0*k_0) - exp(4*L_0*k_0) + 1))*exp(L_1*k_1)*abs(exp(2*L_0*k_0) - 1))**2)\n"
     ]
    },
    {
     "data": {
      "text/plain": [
       "nan"
      ]
     },
     "execution_count": 105,
     "metadata": {},
     "output_type": "execute_result"
    }
   ],
   "source": [
    "debug[ 2 ]( 0, mass, energy, *harmonic_constants, *probabilities, *lengths )"
   ]
  },
  {
   "cell_type": "code",
   "execution_count": null,
   "id": "50aa2731-5227-48ff-a977-347911e9b388",
   "metadata": {},
   "outputs": [],
   "source": []
  },
  {
   "cell_type": "code",
   "execution_count": 106,
   "id": "88b02140-ab69-46c3-bfaa-f1b37871c161",
   "metadata": {},
   "outputs": [
    {
     "name": "stdout",
     "output_type": "stream",
     "text": [
      "def _lambdifygenerated(x, m, E, k_0, k_1, k_2, N_0, N_1, N_2, L_0, L_1, L_2):\n",
      "    return exp(2*L_1*k_1)*abs((sqrt((-4*L_1*N_0*k_0*k_1*(1 - exp(2*L_0*k_0))**2*exp(2*L_1*k_1) + N_0*k_0*(1 - exp(2*L_0*k_0))**2*exp(4*L_1*k_1) - N_0*k_0*(1 - exp(2*L_0*k_0))**2 + N_1*k_1*(4*L_0*k_0*exp(2*L_0*k_0) - exp(4*L_0*k_0) + 1)*(exp(4*L_1*k_1) - 2*exp(2*L_1*k_1) + 1))/(16*L_0*L_1*k_0*k_1*exp(2*L_0*k_0 + 2*L_1*k_1) + 4*L_0*k_0*exp(2*L_0*k_0) - 4*L_0*k_0*exp(2*L_0*k_0 + 4*L_1*k_1) + 4*L_1*k_1*exp(2*L_1*k_1) - 4*L_1*k_1*exp(4*L_0*k_0 + 2*L_1*k_1) - exp(4*L_0*k_0) - exp(4*L_1*k_1) + exp(4*L_0*k_0 + 4*L_1*k_1) + 1)) - sqrt(N_0*k_0/(4*L_0*k_0*exp(2*L_0*k_0) - exp(4*L_0*k_0) + 1))*exp(L_1*k_1)*abs(exp(2*L_0*k_0) - 1))**2)\n",
      "\n"
     ]
    }
   ],
   "source": [
    "print( inspect.getsource( debug[ 2 ] ) )"
   ]
  },
  {
   "cell_type": "code",
   "execution_count": 107,
   "id": "43f89199-83f2-4707-b3ec-c8bf2bf83bb2",
   "metadata": {},
   "outputs": [],
   "source": [
    "def troublnator(x, m, E, k_0, k_1, k_2, N_0, N_1, N_2, L_0, L_1, L_2): \n",
    "        return (\n",
    "                16*L_0*L_1*k_0*k_1* np.exp (2*L_0*k_0 + 2*L_1*k_1) + 4*L_0*k_0* np.exp (2*L_0*k_0) - 4*L_0*k_0 \\\n",
    "                * np.exp (2*L_0*k_0 + 4*L_1*k_1) + 4*L_1*k_1* np.exp (2*L_1*k_1) - 4*L_1*k_1* np.exp (4*L_0*k_0 + 2*L_1*k_1) \\\n",
    "                -  np.exp (4*L_0*k_0) -  np.exp (4*L_1*k_1) +  np.exp (4*L_0*k_0 + 4*L_1*k_1) + 1\n",
    "            )\n",
    "\n",
    "def good_interior(x, m, E, k_0, k_1, k_2, N_0, N_1, N_2, L_0, L_1, L_2): \n",
    "        return -4*L_1*N_0*k_0*k_1*(1 -  np.exp (2*L_0*k_0))**2* np.exp (2*L_1*k_1) + N_0 \\\n",
    "                *k_0*(1 -  np.exp (2*L_0*k_0))**2* np.exp (4*L_1*k_1) - N_0*k_0*(1 -  np.exp (2*L_0*k_0))**2 \\\n",
    "                + N_1*k_1*(4*L_0*k_0* np.exp (2*L_0*k_0) -  np.exp (4*L_0*k_0) + 1)*( np.exp (4*L_1*k_1) - 2* np.exp (2*L_1*k_1) + 1)\n",
    "\n",
    "def troubleroot(x, m, E, k_0, k_1, k_2, N_0, N_1, N_2, L_0, L_1, L_2): \n",
    "        return np.sqrt ( (\n",
    "                            good_interior(x, m, E, k_0, k_1, k_2, N_0, N_1, N_2, L_0, L_1, L_2) \n",
    "                    ) / troublnator(x, m, E, k_0, k_1, k_2, N_0, N_1, N_2, L_0, L_1, L_2)\n",
    "                )\n",
    "\n",
    "def interior(x, m, E, k_0, k_1, k_2, N_0, N_1, N_2, L_0, L_1, L_2): \n",
    "    return N_0*k_0/(4*L_0*k_0* np.exp (2*L_0*k_0) -  np.exp (4*L_0*k_0) + 1)\n",
    "\n",
    "def other_troubleroot(x, m, E, k_0, k_1, k_2, N_0, N_1, N_2, L_0, L_1, L_2): \n",
    "    return np.sqrt (interior(x, m, E, k_0, k_1, k_2, N_0, N_1, N_2, L_0, L_1, L_2))* np.exp (L_1*k_1)* np.abs ( np.exp (2*L_0*k_0) - 1)\n",
    "\n",
    "def _lambdifygenerated(x, m, E, k_0, k_1, k_2, N_0, N_1, N_2, L_0, L_1, L_2):\n",
    "    return  np.exp (2*L_1*k_1)* np.abs ( (\n",
    "                troubleroot(x, m, E, k_0, k_1, k_2, N_0, N_1, N_2, L_0, L_1, L_2) \\\n",
    "                - other_troubleroot(x, m, E, k_0, k_1, k_2, N_0, N_1, N_2, L_0, L_1, L_2)\n",
    "            ) ** 2 )\n"
   ]
  },
  {
   "cell_type": "code",
   "execution_count": 108,
   "id": "598227c9-9fb6-44ac-8069-18e71d2c2976",
   "metadata": {},
   "outputs": [
    {
     "data": {
      "text/plain": [
       "-1.1913292013686645"
      ]
     },
     "execution_count": 108,
     "metadata": {},
     "output_type": "execute_result"
    }
   ],
   "source": [
    "interior( 0, mass, energy, *harmonic_constants, *probabilities, *lengths )"
   ]
  },
  {
   "cell_type": "code",
   "execution_count": 109,
   "id": "df738650-8534-417f-8525-f278f026c95a",
   "metadata": {},
   "outputs": [
    {
     "data": {
      "text/plain": [
       "0.005710877031672477"
      ]
     },
     "execution_count": 109,
     "metadata": {},
     "output_type": "execute_result"
    }
   ],
   "source": [
    "good_interior( 0, mass, energy, *harmonic_constants, *probabilities, *lengths )"
   ]
  },
  {
   "cell_type": "code",
   "execution_count": 110,
   "id": "24874f67-d6c3-405b-8f8b-92321bc97a0f",
   "metadata": {},
   "outputs": [],
   "source": [
    "psi_not_foil = ( stairwell_solver.equations[ 1 ].last_step().rhs ** 2 ).simplify()"
   ]
  },
  {
   "cell_type": "code",
   "execution_count": 111,
   "id": "38e5af1d-f43a-469c-ad95-0fccd11f5961",
   "metadata": {},
   "outputs": [],
   "source": [
    "#a = lambdify( stairwell_solver, psi_not_foil )"
   ]
  },
  {
   "cell_type": "code",
   "execution_count": 122,
   "id": "66ec9c36-24bc-41be-96a7-87d5d1d95b79",
   "metadata": {},
   "outputs": [
    {
     "data": {
      "text/latex": [
       "$\\displaystyle \\frac{2 \\left(\\left(\\sqrt{\\frac{- 4 L_{1} N_{0} k_{0} k_{1} \\left(1 - e^{2 L_{0} k_{0}}\\right)^{2} e^{2 L_{1} k_{1}} + N_{0} k_{0} \\left(1 - e^{2 L_{0} k_{0}}\\right)^{2} e^{4 L_{1} k_{1}} - N_{0} k_{0} \\left(1 - e^{2 L_{0} k_{0}}\\right)^{2} + N_{1} k_{1} \\left(4 L_{0} k_{0} e^{2 L_{0} k_{0}} - e^{4 L_{0} k_{0}} + 1\\right) \\left(e^{4 L_{1} k_{1}} - 2 e^{2 L_{1} k_{1}} + 1\\right)}{16 L_{0} L_{1} k_{0} k_{1} e^{2 L_{0} k_{0} + 2 L_{1} k_{1}} + 4 L_{0} k_{0} e^{2 L_{0} k_{0}} - 4 L_{0} k_{0} e^{2 L_{0} k_{0} + 4 L_{1} k_{1}} + 4 L_{1} k_{1} e^{2 L_{1} k_{1}} - 4 L_{1} k_{1} e^{4 L_{0} k_{0} + 2 L_{1} k_{1}} - e^{4 L_{0} k_{0}} - e^{4 L_{1} k_{1}} + e^{4 L_{0} k_{0} + 4 L_{1} k_{1}} + 1}} e^{L_{1} k_{1}} - \\sqrt{\\frac{N_{0} k_{0}}{4 L_{0} k_{0} e^{2 L_{0} k_{0}} - e^{4 L_{0} k_{0}} + 1}} \\left|{e^{2 L_{0} k_{0}} - 1}\\right|\\right) e^{2 k_{1} x} - \\left(\\sqrt{\\frac{- 4 L_{1} N_{0} k_{0} k_{1} \\left(1 - e^{2 L_{0} k_{0}}\\right)^{2} e^{2 L_{1} k_{1}} + N_{0} k_{0} \\left(1 - e^{2 L_{0} k_{0}}\\right)^{2} e^{4 L_{1} k_{1}} - N_{0} k_{0} \\left(1 - e^{2 L_{0} k_{0}}\\right)^{2} + N_{1} k_{1} \\left(4 L_{0} k_{0} e^{2 L_{0} k_{0}} - e^{4 L_{0} k_{0}} + 1\\right) \\left(e^{4 L_{1} k_{1}} - 2 e^{2 L_{1} k_{1}} + 1\\right)}{16 L_{0} L_{1} k_{0} k_{1} e^{2 L_{0} k_{0} + 2 L_{1} k_{1}} + 4 L_{0} k_{0} e^{2 L_{0} k_{0}} - 4 L_{0} k_{0} e^{2 L_{0} k_{0} + 4 L_{1} k_{1}} + 4 L_{1} k_{1} e^{2 L_{1} k_{1}} - 4 L_{1} k_{1} e^{4 L_{0} k_{0} + 2 L_{1} k_{1}} - e^{4 L_{0} k_{0}} - e^{4 L_{1} k_{1}} + e^{4 L_{0} k_{0} + 4 L_{1} k_{1}} + 1}} - \\sqrt{\\frac{N_{0} k_{0}}{4 L_{0} k_{0} e^{2 L_{0} k_{0}} - e^{4 L_{0} k_{0}} + 1}} e^{L_{1} k_{1}} \\left|{e^{2 L_{0} k_{0}} - 1}\\right|\\right) e^{L_{1} k_{1}}\\right)^{2} e^{- 2 k_{1} x}}{\\left(1 - e^{2 L_{1} k_{1}}\\right)^{2}}$"
      ],
      "text/plain": [
       "2*((sqrt((-4*L_1*N_0*k_0*k_1*(1 - exp(2*L_0*k_0))**2*exp(2*L_1*k_1) + N_0*k_0*(1 - exp(2*L_0*k_0))**2*exp(4*L_1*k_1) - N_0*k_0*(1 - exp(2*L_0*k_0))**2 + N_1*k_1*(4*L_0*k_0*exp(2*L_0*k_0) - exp(4*L_0*k_0) + 1)*(exp(4*L_1*k_1) - 2*exp(2*L_1*k_1) + 1))/(16*L_0*L_1*k_0*k_1*exp(2*L_0*k_0 + 2*L_1*k_1) + 4*L_0*k_0*exp(2*L_0*k_0) - 4*L_0*k_0*exp(2*L_0*k_0 + 4*L_1*k_1) + 4*L_1*k_1*exp(2*L_1*k_1) - 4*L_1*k_1*exp(4*L_0*k_0 + 2*L_1*k_1) - exp(4*L_0*k_0) - exp(4*L_1*k_1) + exp(4*L_0*k_0 + 4*L_1*k_1) + 1))*exp(L_1*k_1) - sqrt(N_0*k_0/(4*L_0*k_0*exp(2*L_0*k_0) - exp(4*L_0*k_0) + 1))*Abs(exp(2*L_0*k_0) - 1))*exp(2*k_1*x) - (sqrt((-4*L_1*N_0*k_0*k_1*(1 - exp(2*L_0*k_0))**2*exp(2*L_1*k_1) + N_0*k_0*(1 - exp(2*L_0*k_0))**2*exp(4*L_1*k_1) - N_0*k_0*(1 - exp(2*L_0*k_0))**2 + N_1*k_1*(4*L_0*k_0*exp(2*L_0*k_0) - exp(4*L_0*k_0) + 1)*(exp(4*L_1*k_1) - 2*exp(2*L_1*k_1) + 1))/(16*L_0*L_1*k_0*k_1*exp(2*L_0*k_0 + 2*L_1*k_1) + 4*L_0*k_0*exp(2*L_0*k_0) - 4*L_0*k_0*exp(2*L_0*k_0 + 4*L_1*k_1) + 4*L_1*k_1*exp(2*L_1*k_1) - 4*L_1*k_1*exp(4*L_0*k_0 + 2*L_1*k_1) - exp(4*L_0*k_0) - exp(4*L_1*k_1) + exp(4*L_0*k_0 + 4*L_1*k_1) + 1)) - sqrt(N_0*k_0/(4*L_0*k_0*exp(2*L_0*k_0) - exp(4*L_0*k_0) + 1))*exp(L_1*k_1)*Abs(exp(2*L_0*k_0) - 1))*exp(L_1*k_1))**2*exp(-2*k_1*x)/(1 - exp(2*L_1*k_1))**2"
      ]
     },
     "execution_count": 122,
     "metadata": {},
     "output_type": "execute_result"
    }
   ],
   "source": [
    "psi_not_foil"
   ]
  },
  {
   "cell_type": "code",
   "execution_count": null,
   "id": "810f60d8-d4c5-410a-86b7-4b690f8f65e7",
   "metadata": {},
   "outputs": [],
   "source": []
  },
  {
   "cell_type": "code",
   "execution_count": null,
   "id": "e533f6ec-0a64-4a6e-aeba-cc02b130d89c",
   "metadata": {},
   "outputs": [],
   "source": []
  },
  {
   "cell_type": "code",
   "execution_count": null,
   "id": "3b4aa74b-3018-4f00-85ac-78c5bde20ec0",
   "metadata": {},
   "outputs": [],
   "source": []
  },
  {
   "cell_type": "code",
   "execution_count": 112,
   "id": "a6c59e2e-3972-4b0c-947e-4d27c801ae83",
   "metadata": {},
   "outputs": [],
   "source": [
    "psi_1 = ( stairwell_solver.equations[ 1 ].last_step().rhs ** 2 ).simplify().expand()"
   ]
  },
  {
   "cell_type": "code",
   "execution_count": 113,
   "id": "2e51f041-1010-4b07-9b27-b4b54c9c311b",
   "metadata": {},
   "outputs": [],
   "source": [
    "big_result, big_constants = group_constants( psi_1, [ stairwell_solver.position ], 'G', format_constant = format_constant )"
   ]
  },
  {
   "cell_type": "code",
   "execution_count": 114,
   "id": "3138000f-397a-44a2-a1e6-bf5bceb2d891",
   "metadata": {},
   "outputs": [
    {
     "data": {
      "text/latex": [
       "$\\displaystyle - \\frac{4 G_{27} e^{4 G_{0} x}}{- 2 G_{10} e^{2 G_{0} x} + 2 G_{11} e^{2 G_{0} x} - 8 G_{13} e^{2 G_{0} x} + 4 G_{15} e^{2 G_{0} x} + 4 G_{16} e^{2 G_{0} x} + 4 G_{17} e^{2 G_{0} x} - 8 G_{18} e^{2 G_{0} x} - 4 G_{19} e^{2 G_{0} x} - G_{2} e^{2 G_{0} x} - 4 G_{20} e^{2 G_{0} x} - 4 G_{21} e^{2 G_{0} x} + 8 G_{22} e^{2 G_{0} x} + 8 G_{23} e^{2 G_{0} x} - 32 G_{24} e^{2 G_{0} x} + 16 G_{25} e^{2 G_{0} x} + 16 G_{26} e^{2 G_{0} x} - G_{4} e^{2 G_{0} x} - 2 G_{6} e^{2 G_{0} x} + 2 G_{8} e^{2 G_{0} x} + G_{9} e^{2 G_{0} x} + e^{2 G_{0} x}} + \\frac{8 G_{27} e^{2 G_{0} x}}{- 2 G_{10} e^{2 G_{0} x} + 2 G_{11} e^{2 G_{0} x} - 8 G_{13} e^{2 G_{0} x} + 4 G_{15} e^{2 G_{0} x} + 4 G_{16} e^{2 G_{0} x} + 4 G_{17} e^{2 G_{0} x} - 8 G_{18} e^{2 G_{0} x} - 4 G_{19} e^{2 G_{0} x} - G_{2} e^{2 G_{0} x} - 4 G_{20} e^{2 G_{0} x} - 4 G_{21} e^{2 G_{0} x} + 8 G_{22} e^{2 G_{0} x} + 8 G_{23} e^{2 G_{0} x} - 32 G_{24} e^{2 G_{0} x} + 16 G_{25} e^{2 G_{0} x} + 16 G_{26} e^{2 G_{0} x} - G_{4} e^{2 G_{0} x} - 2 G_{6} e^{2 G_{0} x} + 2 G_{8} e^{2 G_{0} x} + G_{9} e^{2 G_{0} x} + e^{2 G_{0} x}} - \\frac{4 G_{27}}{- 2 G_{10} e^{2 G_{0} x} + 2 G_{11} e^{2 G_{0} x} - 8 G_{13} e^{2 G_{0} x} + 4 G_{15} e^{2 G_{0} x} + 4 G_{16} e^{2 G_{0} x} + 4 G_{17} e^{2 G_{0} x} - 8 G_{18} e^{2 G_{0} x} - 4 G_{19} e^{2 G_{0} x} - G_{2} e^{2 G_{0} x} - 4 G_{20} e^{2 G_{0} x} - 4 G_{21} e^{2 G_{0} x} + 8 G_{22} e^{2 G_{0} x} + 8 G_{23} e^{2 G_{0} x} - 32 G_{24} e^{2 G_{0} x} + 16 G_{25} e^{2 G_{0} x} + 16 G_{26} e^{2 G_{0} x} - G_{4} e^{2 G_{0} x} - 2 G_{6} e^{2 G_{0} x} + 2 G_{8} e^{2 G_{0} x} + G_{9} e^{2 G_{0} x} + e^{2 G_{0} x}} - \\frac{2 G_{28} e^{4 G_{0} x}}{- 2 G_{10} e^{2 G_{0} x} + 2 G_{11} e^{2 G_{0} x} - 8 G_{13} e^{2 G_{0} x} + 4 G_{15} e^{2 G_{0} x} + 4 G_{16} e^{2 G_{0} x} + 4 G_{17} e^{2 G_{0} x} - 8 G_{18} e^{2 G_{0} x} - 4 G_{19} e^{2 G_{0} x} - G_{2} e^{2 G_{0} x} - 4 G_{20} e^{2 G_{0} x} - 4 G_{21} e^{2 G_{0} x} + 8 G_{22} e^{2 G_{0} x} + 8 G_{23} e^{2 G_{0} x} - 32 G_{24} e^{2 G_{0} x} + 16 G_{25} e^{2 G_{0} x} + 16 G_{26} e^{2 G_{0} x} - G_{4} e^{2 G_{0} x} - 2 G_{6} e^{2 G_{0} x} + 2 G_{8} e^{2 G_{0} x} + G_{9} e^{2 G_{0} x} + e^{2 G_{0} x}} + \\frac{4 G_{28} e^{2 G_{0} x}}{- 2 G_{10} e^{2 G_{0} x} + 2 G_{11} e^{2 G_{0} x} - 8 G_{13} e^{2 G_{0} x} + 4 G_{15} e^{2 G_{0} x} + 4 G_{16} e^{2 G_{0} x} + 4 G_{17} e^{2 G_{0} x} - 8 G_{18} e^{2 G_{0} x} - 4 G_{19} e^{2 G_{0} x} - G_{2} e^{2 G_{0} x} - 4 G_{20} e^{2 G_{0} x} - 4 G_{21} e^{2 G_{0} x} + 8 G_{22} e^{2 G_{0} x} + 8 G_{23} e^{2 G_{0} x} - 32 G_{24} e^{2 G_{0} x} + 16 G_{25} e^{2 G_{0} x} + 16 G_{26} e^{2 G_{0} x} - G_{4} e^{2 G_{0} x} - 2 G_{6} e^{2 G_{0} x} + 2 G_{8} e^{2 G_{0} x} + G_{9} e^{2 G_{0} x} + e^{2 G_{0} x}} - \\frac{2 G_{28}}{- 2 G_{10} e^{2 G_{0} x} + 2 G_{11} e^{2 G_{0} x} - 8 G_{13} e^{2 G_{0} x} + 4 G_{15} e^{2 G_{0} x} + 4 G_{16} e^{2 G_{0} x} + 4 G_{17} e^{2 G_{0} x} - 8 G_{18} e^{2 G_{0} x} - 4 G_{19} e^{2 G_{0} x} - G_{2} e^{2 G_{0} x} - 4 G_{20} e^{2 G_{0} x} - 4 G_{21} e^{2 G_{0} x} + 8 G_{22} e^{2 G_{0} x} + 8 G_{23} e^{2 G_{0} x} - 32 G_{24} e^{2 G_{0} x} + 16 G_{25} e^{2 G_{0} x} + 16 G_{26} e^{2 G_{0} x} - G_{4} e^{2 G_{0} x} - 2 G_{6} e^{2 G_{0} x} + 2 G_{8} e^{2 G_{0} x} + G_{9} e^{2 G_{0} x} + e^{2 G_{0} x}} - \\frac{4 G_{28} e^{2 G_{0} x}}{2 G_{11} e^{2 G_{0} x} + 4 G_{15} e^{2 G_{0} x} - 8 G_{18} e^{2 G_{0} x} - G_{2} e^{2 G_{0} x} + G_{29} e^{2 G_{0} x} - G_{30} e^{2 G_{0} x} + 4 G_{31} e^{2 G_{0} x} - 2 G_{6} e^{2 G_{0} x} + e^{2 G_{0} x}} + \\frac{2 G_{32}}{2 G_{11} e^{2 G_{0} x} + 4 G_{15} e^{2 G_{0} x} - 8 G_{18} e^{2 G_{0} x} - G_{2} e^{2 G_{0} x} + G_{29} e^{2 G_{0} x} - G_{30} e^{2 G_{0} x} + 4 G_{31} e^{2 G_{0} x} - 2 G_{6} e^{2 G_{0} x} + e^{2 G_{0} x}} + \\frac{2 G_{33} e^{4 G_{0} x}}{2 G_{11} e^{2 G_{0} x} + 4 G_{15} e^{2 G_{0} x} - 8 G_{18} e^{2 G_{0} x} - G_{2} e^{2 G_{0} x} + G_{29} e^{2 G_{0} x} - G_{30} e^{2 G_{0} x} + 4 G_{31} e^{2 G_{0} x} - 2 G_{6} e^{2 G_{0} x} + e^{2 G_{0} x}} + \\frac{2 G_{34} e^{4 G_{0} x}}{- 2 G_{10} e^{2 G_{0} x} + 2 G_{11} e^{2 G_{0} x} - 8 G_{13} e^{2 G_{0} x} + 4 G_{15} e^{2 G_{0} x} + 4 G_{16} e^{2 G_{0} x} + 4 G_{17} e^{2 G_{0} x} - 8 G_{18} e^{2 G_{0} x} - 4 G_{19} e^{2 G_{0} x} - G_{2} e^{2 G_{0} x} - 4 G_{20} e^{2 G_{0} x} - 4 G_{21} e^{2 G_{0} x} + 8 G_{22} e^{2 G_{0} x} + 8 G_{23} e^{2 G_{0} x} - 32 G_{24} e^{2 G_{0} x} + 16 G_{25} e^{2 G_{0} x} + 16 G_{26} e^{2 G_{0} x} - G_{4} e^{2 G_{0} x} - 2 G_{6} e^{2 G_{0} x} + 2 G_{8} e^{2 G_{0} x} + G_{9} e^{2 G_{0} x} + e^{2 G_{0} x}} - \\frac{4 G_{34} e^{2 G_{0} x}}{- 2 G_{10} e^{2 G_{0} x} + 2 G_{11} e^{2 G_{0} x} - 8 G_{13} e^{2 G_{0} x} + 4 G_{15} e^{2 G_{0} x} + 4 G_{16} e^{2 G_{0} x} + 4 G_{17} e^{2 G_{0} x} - 8 G_{18} e^{2 G_{0} x} - 4 G_{19} e^{2 G_{0} x} - G_{2} e^{2 G_{0} x} - 4 G_{20} e^{2 G_{0} x} - 4 G_{21} e^{2 G_{0} x} + 8 G_{22} e^{2 G_{0} x} + 8 G_{23} e^{2 G_{0} x} - 32 G_{24} e^{2 G_{0} x} + 16 G_{25} e^{2 G_{0} x} + 16 G_{26} e^{2 G_{0} x} - G_{4} e^{2 G_{0} x} - 2 G_{6} e^{2 G_{0} x} + 2 G_{8} e^{2 G_{0} x} + G_{9} e^{2 G_{0} x} + e^{2 G_{0} x}} + \\frac{2 G_{34}}{- 2 G_{10} e^{2 G_{0} x} + 2 G_{11} e^{2 G_{0} x} - 8 G_{13} e^{2 G_{0} x} + 4 G_{15} e^{2 G_{0} x} + 4 G_{16} e^{2 G_{0} x} + 4 G_{17} e^{2 G_{0} x} - 8 G_{18} e^{2 G_{0} x} - 4 G_{19} e^{2 G_{0} x} - G_{2} e^{2 G_{0} x} - 4 G_{20} e^{2 G_{0} x} - 4 G_{21} e^{2 G_{0} x} + 8 G_{22} e^{2 G_{0} x} + 8 G_{23} e^{2 G_{0} x} - 32 G_{24} e^{2 G_{0} x} + 16 G_{25} e^{2 G_{0} x} + 16 G_{26} e^{2 G_{0} x} - G_{4} e^{2 G_{0} x} - 2 G_{6} e^{2 G_{0} x} + 2 G_{8} e^{2 G_{0} x} + G_{9} e^{2 G_{0} x} + e^{2 G_{0} x}} + \\frac{2 G_{35} e^{4 G_{0} x}}{- 2 G_{10} e^{2 G_{0} x} + 2 G_{11} e^{2 G_{0} x} - 8 G_{13} e^{2 G_{0} x} + 4 G_{15} e^{2 G_{0} x} + 4 G_{16} e^{2 G_{0} x} + 4 G_{17} e^{2 G_{0} x} - 8 G_{18} e^{2 G_{0} x} - 4 G_{19} e^{2 G_{0} x} - G_{2} e^{2 G_{0} x} - 4 G_{20} e^{2 G_{0} x} - 4 G_{21} e^{2 G_{0} x} + 8 G_{22} e^{2 G_{0} x} + 8 G_{23} e^{2 G_{0} x} - 32 G_{24} e^{2 G_{0} x} + 16 G_{25} e^{2 G_{0} x} + 16 G_{26} e^{2 G_{0} x} - G_{4} e^{2 G_{0} x} - 2 G_{6} e^{2 G_{0} x} + 2 G_{8} e^{2 G_{0} x} + G_{9} e^{2 G_{0} x} + e^{2 G_{0} x}} - \\frac{4 G_{35} e^{2 G_{0} x}}{- 2 G_{10} e^{2 G_{0} x} + 2 G_{11} e^{2 G_{0} x} - 8 G_{13} e^{2 G_{0} x} + 4 G_{15} e^{2 G_{0} x} + 4 G_{16} e^{2 G_{0} x} + 4 G_{17} e^{2 G_{0} x} - 8 G_{18} e^{2 G_{0} x} - 4 G_{19} e^{2 G_{0} x} - G_{2} e^{2 G_{0} x} - 4 G_{20} e^{2 G_{0} x} - 4 G_{21} e^{2 G_{0} x} + 8 G_{22} e^{2 G_{0} x} + 8 G_{23} e^{2 G_{0} x} - 32 G_{24} e^{2 G_{0} x} + 16 G_{25} e^{2 G_{0} x} + 16 G_{26} e^{2 G_{0} x} - G_{4} e^{2 G_{0} x} - 2 G_{6} e^{2 G_{0} x} + 2 G_{8} e^{2 G_{0} x} + G_{9} e^{2 G_{0} x} + e^{2 G_{0} x}} + \\frac{2 G_{35}}{- 2 G_{10} e^{2 G_{0} x} + 2 G_{11} e^{2 G_{0} x} - 8 G_{13} e^{2 G_{0} x} + 4 G_{15} e^{2 G_{0} x} + 4 G_{16} e^{2 G_{0} x} + 4 G_{17} e^{2 G_{0} x} - 8 G_{18} e^{2 G_{0} x} - 4 G_{19} e^{2 G_{0} x} - G_{2} e^{2 G_{0} x} - 4 G_{20} e^{2 G_{0} x} - 4 G_{21} e^{2 G_{0} x} + 8 G_{22} e^{2 G_{0} x} + 8 G_{23} e^{2 G_{0} x} - 32 G_{24} e^{2 G_{0} x} + 16 G_{25} e^{2 G_{0} x} + 16 G_{26} e^{2 G_{0} x} - G_{4} e^{2 G_{0} x} - 2 G_{6} e^{2 G_{0} x} + 2 G_{8} e^{2 G_{0} x} + G_{9} e^{2 G_{0} x} + e^{2 G_{0} x}} + \\frac{2 G_{36} e^{4 G_{0} x}}{- 2 G_{10} e^{2 G_{0} x} + 2 G_{11} e^{2 G_{0} x} - 8 G_{13} e^{2 G_{0} x} + 4 G_{15} e^{2 G_{0} x} + 4 G_{16} e^{2 G_{0} x} + 4 G_{17} e^{2 G_{0} x} - 8 G_{18} e^{2 G_{0} x} - 4 G_{19} e^{2 G_{0} x} - G_{2} e^{2 G_{0} x} - 4 G_{20} e^{2 G_{0} x} - 4 G_{21} e^{2 G_{0} x} + 8 G_{22} e^{2 G_{0} x} + 8 G_{23} e^{2 G_{0} x} - 32 G_{24} e^{2 G_{0} x} + 16 G_{25} e^{2 G_{0} x} + 16 G_{26} e^{2 G_{0} x} - G_{4} e^{2 G_{0} x} - 2 G_{6} e^{2 G_{0} x} + 2 G_{8} e^{2 G_{0} x} + G_{9} e^{2 G_{0} x} + e^{2 G_{0} x}} - \\frac{4 G_{36} e^{2 G_{0} x}}{- 2 G_{10} e^{2 G_{0} x} + 2 G_{11} e^{2 G_{0} x} - 8 G_{13} e^{2 G_{0} x} + 4 G_{15} e^{2 G_{0} x} + 4 G_{16} e^{2 G_{0} x} + 4 G_{17} e^{2 G_{0} x} - 8 G_{18} e^{2 G_{0} x} - 4 G_{19} e^{2 G_{0} x} - G_{2} e^{2 G_{0} x} - 4 G_{20} e^{2 G_{0} x} - 4 G_{21} e^{2 G_{0} x} + 8 G_{22} e^{2 G_{0} x} + 8 G_{23} e^{2 G_{0} x} - 32 G_{24} e^{2 G_{0} x} + 16 G_{25} e^{2 G_{0} x} + 16 G_{26} e^{2 G_{0} x} - G_{4} e^{2 G_{0} x} - 2 G_{6} e^{2 G_{0} x} + 2 G_{8} e^{2 G_{0} x} + G_{9} e^{2 G_{0} x} + e^{2 G_{0} x}} + \\frac{2 G_{36}}{- 2 G_{10} e^{2 G_{0} x} + 2 G_{11} e^{2 G_{0} x} - 8 G_{13} e^{2 G_{0} x} + 4 G_{15} e^{2 G_{0} x} + 4 G_{16} e^{2 G_{0} x} + 4 G_{17} e^{2 G_{0} x} - 8 G_{18} e^{2 G_{0} x} - 4 G_{19} e^{2 G_{0} x} - G_{2} e^{2 G_{0} x} - 4 G_{20} e^{2 G_{0} x} - 4 G_{21} e^{2 G_{0} x} + 8 G_{22} e^{2 G_{0} x} + 8 G_{23} e^{2 G_{0} x} - 32 G_{24} e^{2 G_{0} x} + 16 G_{25} e^{2 G_{0} x} + 16 G_{26} e^{2 G_{0} x} - G_{4} e^{2 G_{0} x} - 2 G_{6} e^{2 G_{0} x} + 2 G_{8} e^{2 G_{0} x} + G_{9} e^{2 G_{0} x} + e^{2 G_{0} x}} - \\frac{4 G_{37}}{2 G_{11} e^{2 G_{0} x} + 4 G_{15} e^{2 G_{0} x} - 8 G_{18} e^{2 G_{0} x} - G_{2} e^{2 G_{0} x} + G_{29} e^{2 G_{0} x} - G_{30} e^{2 G_{0} x} + 4 G_{31} e^{2 G_{0} x} - 2 G_{6} e^{2 G_{0} x} + e^{2 G_{0} x}} - \\frac{4 G_{38} e^{4 G_{0} x}}{2 G_{11} e^{2 G_{0} x} + 4 G_{15} e^{2 G_{0} x} - 8 G_{18} e^{2 G_{0} x} - G_{2} e^{2 G_{0} x} + G_{29} e^{2 G_{0} x} - G_{30} e^{2 G_{0} x} + 4 G_{31} e^{2 G_{0} x} - 2 G_{6} e^{2 G_{0} x} + e^{2 G_{0} x}} - \\frac{4 G_{39} e^{4 G_{0} x}}{- 2 G_{10} e^{2 G_{0} x} + 2 G_{11} e^{2 G_{0} x} - 8 G_{13} e^{2 G_{0} x} + 4 G_{15} e^{2 G_{0} x} + 4 G_{16} e^{2 G_{0} x} + 4 G_{17} e^{2 G_{0} x} - 8 G_{18} e^{2 G_{0} x} - 4 G_{19} e^{2 G_{0} x} - G_{2} e^{2 G_{0} x} - 4 G_{20} e^{2 G_{0} x} - 4 G_{21} e^{2 G_{0} x} + 8 G_{22} e^{2 G_{0} x} + 8 G_{23} e^{2 G_{0} x} - 32 G_{24} e^{2 G_{0} x} + 16 G_{25} e^{2 G_{0} x} + 16 G_{26} e^{2 G_{0} x} - G_{4} e^{2 G_{0} x} - 2 G_{6} e^{2 G_{0} x} + 2 G_{8} e^{2 G_{0} x} + G_{9} e^{2 G_{0} x} + e^{2 G_{0} x}} + \\frac{8 G_{39} e^{2 G_{0} x}}{- 2 G_{10} e^{2 G_{0} x} + 2 G_{11} e^{2 G_{0} x} - 8 G_{13} e^{2 G_{0} x} + 4 G_{15} e^{2 G_{0} x} + 4 G_{16} e^{2 G_{0} x} + 4 G_{17} e^{2 G_{0} x} - 8 G_{18} e^{2 G_{0} x} - 4 G_{19} e^{2 G_{0} x} - G_{2} e^{2 G_{0} x} - 4 G_{20} e^{2 G_{0} x} - 4 G_{21} e^{2 G_{0} x} + 8 G_{22} e^{2 G_{0} x} + 8 G_{23} e^{2 G_{0} x} - 32 G_{24} e^{2 G_{0} x} + 16 G_{25} e^{2 G_{0} x} + 16 G_{26} e^{2 G_{0} x} - G_{4} e^{2 G_{0} x} - 2 G_{6} e^{2 G_{0} x} + 2 G_{8} e^{2 G_{0} x} + G_{9} e^{2 G_{0} x} + e^{2 G_{0} x}} - \\frac{4 G_{39}}{- 2 G_{10} e^{2 G_{0} x} + 2 G_{11} e^{2 G_{0} x} - 8 G_{13} e^{2 G_{0} x} + 4 G_{15} e^{2 G_{0} x} + 4 G_{16} e^{2 G_{0} x} + 4 G_{17} e^{2 G_{0} x} - 8 G_{18} e^{2 G_{0} x} - 4 G_{19} e^{2 G_{0} x} - G_{2} e^{2 G_{0} x} - 4 G_{20} e^{2 G_{0} x} - 4 G_{21} e^{2 G_{0} x} + 8 G_{22} e^{2 G_{0} x} + 8 G_{23} e^{2 G_{0} x} - 32 G_{24} e^{2 G_{0} x} + 16 G_{25} e^{2 G_{0} x} + 16 G_{26} e^{2 G_{0} x} - G_{4} e^{2 G_{0} x} - 2 G_{6} e^{2 G_{0} x} + 2 G_{8} e^{2 G_{0} x} + G_{9} e^{2 G_{0} x} + e^{2 G_{0} x}} + \\frac{4 G_{44} e^{2 G_{0} x}}{G_{29} e^{2 G_{0} x} - 2 G_{6} e^{2 G_{0} x} + e^{2 G_{0} x}} - \\frac{4 G_{44}}{G_{29} e^{2 G_{0} x} - 2 G_{6} e^{2 G_{0} x} + e^{2 G_{0} x}} - \\frac{2 G_{45} e^{4 G_{0} x}}{- 2 G_{10} e^{2 G_{0} x} + 2 G_{11} e^{2 G_{0} x} - 8 G_{13} e^{2 G_{0} x} + 4 G_{15} e^{2 G_{0} x} + 4 G_{16} e^{2 G_{0} x} + 4 G_{17} e^{2 G_{0} x} - 8 G_{18} e^{2 G_{0} x} - 4 G_{19} e^{2 G_{0} x} - G_{2} e^{2 G_{0} x} - 4 G_{20} e^{2 G_{0} x} - 4 G_{21} e^{2 G_{0} x} + 8 G_{22} e^{2 G_{0} x} + 8 G_{23} e^{2 G_{0} x} - 32 G_{24} e^{2 G_{0} x} + 16 G_{25} e^{2 G_{0} x} + 16 G_{26} e^{2 G_{0} x} - G_{4} e^{2 G_{0} x} - 2 G_{6} e^{2 G_{0} x} + 2 G_{8} e^{2 G_{0} x} + G_{9} e^{2 G_{0} x} + e^{2 G_{0} x}} + \\frac{4 G_{45} e^{2 G_{0} x}}{- 2 G_{10} e^{2 G_{0} x} + 2 G_{11} e^{2 G_{0} x} - 8 G_{13} e^{2 G_{0} x} + 4 G_{15} e^{2 G_{0} x} + 4 G_{16} e^{2 G_{0} x} + 4 G_{17} e^{2 G_{0} x} - 8 G_{18} e^{2 G_{0} x} - 4 G_{19} e^{2 G_{0} x} - G_{2} e^{2 G_{0} x} - 4 G_{20} e^{2 G_{0} x} - 4 G_{21} e^{2 G_{0} x} + 8 G_{22} e^{2 G_{0} x} + 8 G_{23} e^{2 G_{0} x} - 32 G_{24} e^{2 G_{0} x} + 16 G_{25} e^{2 G_{0} x} + 16 G_{26} e^{2 G_{0} x} - G_{4} e^{2 G_{0} x} - 2 G_{6} e^{2 G_{0} x} + 2 G_{8} e^{2 G_{0} x} + G_{9} e^{2 G_{0} x} + e^{2 G_{0} x}} - \\frac{2 G_{45}}{- 2 G_{10} e^{2 G_{0} x} + 2 G_{11} e^{2 G_{0} x} - 8 G_{13} e^{2 G_{0} x} + 4 G_{15} e^{2 G_{0} x} + 4 G_{16} e^{2 G_{0} x} + 4 G_{17} e^{2 G_{0} x} - 8 G_{18} e^{2 G_{0} x} - 4 G_{19} e^{2 G_{0} x} - G_{2} e^{2 G_{0} x} - 4 G_{20} e^{2 G_{0} x} - 4 G_{21} e^{2 G_{0} x} + 8 G_{22} e^{2 G_{0} x} + 8 G_{23} e^{2 G_{0} x} - 32 G_{24} e^{2 G_{0} x} + 16 G_{25} e^{2 G_{0} x} + 16 G_{26} e^{2 G_{0} x} - G_{4} e^{2 G_{0} x} - 2 G_{6} e^{2 G_{0} x} + 2 G_{8} e^{2 G_{0} x} + G_{9} e^{2 G_{0} x} + e^{2 G_{0} x}} - \\frac{4 G_{45} e^{2 G_{0} x}}{2 G_{11} e^{2 G_{0} x} + 4 G_{15} e^{2 G_{0} x} - 8 G_{18} e^{2 G_{0} x} - G_{2} e^{2 G_{0} x} + G_{29} e^{2 G_{0} x} - G_{30} e^{2 G_{0} x} + 4 G_{31} e^{2 G_{0} x} - 2 G_{6} e^{2 G_{0} x} + e^{2 G_{0} x}} - \\frac{2 G_{46} e^{4 G_{0} x}}{- 2 G_{10} e^{2 G_{0} x} + 2 G_{11} e^{2 G_{0} x} - 8 G_{13} e^{2 G_{0} x} + 4 G_{15} e^{2 G_{0} x} + 4 G_{16} e^{2 G_{0} x} + 4 G_{17} e^{2 G_{0} x} - 8 G_{18} e^{2 G_{0} x} - 4 G_{19} e^{2 G_{0} x} - G_{2} e^{2 G_{0} x} - 4 G_{20} e^{2 G_{0} x} - 4 G_{21} e^{2 G_{0} x} + 8 G_{22} e^{2 G_{0} x} + 8 G_{23} e^{2 G_{0} x} - 32 G_{24} e^{2 G_{0} x} + 16 G_{25} e^{2 G_{0} x} + 16 G_{26} e^{2 G_{0} x} - G_{4} e^{2 G_{0} x} - 2 G_{6} e^{2 G_{0} x} + 2 G_{8} e^{2 G_{0} x} + G_{9} e^{2 G_{0} x} + e^{2 G_{0} x}} + \\frac{4 G_{46} e^{2 G_{0} x}}{- 2 G_{10} e^{2 G_{0} x} + 2 G_{11} e^{2 G_{0} x} - 8 G_{13} e^{2 G_{0} x} + 4 G_{15} e^{2 G_{0} x} + 4 G_{16} e^{2 G_{0} x} + 4 G_{17} e^{2 G_{0} x} - 8 G_{18} e^{2 G_{0} x} - 4 G_{19} e^{2 G_{0} x} - G_{2} e^{2 G_{0} x} - 4 G_{20} e^{2 G_{0} x} - 4 G_{21} e^{2 G_{0} x} + 8 G_{22} e^{2 G_{0} x} + 8 G_{23} e^{2 G_{0} x} - 32 G_{24} e^{2 G_{0} x} + 16 G_{25} e^{2 G_{0} x} + 16 G_{26} e^{2 G_{0} x} - G_{4} e^{2 G_{0} x} - 2 G_{6} e^{2 G_{0} x} + 2 G_{8} e^{2 G_{0} x} + G_{9} e^{2 G_{0} x} + e^{2 G_{0} x}} - \\frac{2 G_{46}}{- 2 G_{10} e^{2 G_{0} x} + 2 G_{11} e^{2 G_{0} x} - 8 G_{13} e^{2 G_{0} x} + 4 G_{15} e^{2 G_{0} x} + 4 G_{16} e^{2 G_{0} x} + 4 G_{17} e^{2 G_{0} x} - 8 G_{18} e^{2 G_{0} x} - 4 G_{19} e^{2 G_{0} x} - G_{2} e^{2 G_{0} x} - 4 G_{20} e^{2 G_{0} x} - 4 G_{21} e^{2 G_{0} x} + 8 G_{22} e^{2 G_{0} x} + 8 G_{23} e^{2 G_{0} x} - 32 G_{24} e^{2 G_{0} x} + 16 G_{25} e^{2 G_{0} x} + 16 G_{26} e^{2 G_{0} x} - G_{4} e^{2 G_{0} x} - 2 G_{6} e^{2 G_{0} x} + 2 G_{8} e^{2 G_{0} x} + G_{9} e^{2 G_{0} x} + e^{2 G_{0} x}} - \\frac{2 G_{47} e^{4 G_{0} x}}{- 2 G_{10} e^{2 G_{0} x} + 2 G_{11} e^{2 G_{0} x} - 8 G_{13} e^{2 G_{0} x} + 4 G_{15} e^{2 G_{0} x} + 4 G_{16} e^{2 G_{0} x} + 4 G_{17} e^{2 G_{0} x} - 8 G_{18} e^{2 G_{0} x} - 4 G_{19} e^{2 G_{0} x} - G_{2} e^{2 G_{0} x} - 4 G_{20} e^{2 G_{0} x} - 4 G_{21} e^{2 G_{0} x} + 8 G_{22} e^{2 G_{0} x} + 8 G_{23} e^{2 G_{0} x} - 32 G_{24} e^{2 G_{0} x} + 16 G_{25} e^{2 G_{0} x} + 16 G_{26} e^{2 G_{0} x} - G_{4} e^{2 G_{0} x} - 2 G_{6} e^{2 G_{0} x} + 2 G_{8} e^{2 G_{0} x} + G_{9} e^{2 G_{0} x} + e^{2 G_{0} x}} + \\frac{4 G_{47} e^{2 G_{0} x}}{- 2 G_{10} e^{2 G_{0} x} + 2 G_{11} e^{2 G_{0} x} - 8 G_{13} e^{2 G_{0} x} + 4 G_{15} e^{2 G_{0} x} + 4 G_{16} e^{2 G_{0} x} + 4 G_{17} e^{2 G_{0} x} - 8 G_{18} e^{2 G_{0} x} - 4 G_{19} e^{2 G_{0} x} - G_{2} e^{2 G_{0} x} - 4 G_{20} e^{2 G_{0} x} - 4 G_{21} e^{2 G_{0} x} + 8 G_{22} e^{2 G_{0} x} + 8 G_{23} e^{2 G_{0} x} - 32 G_{24} e^{2 G_{0} x} + 16 G_{25} e^{2 G_{0} x} + 16 G_{26} e^{2 G_{0} x} - G_{4} e^{2 G_{0} x} - 2 G_{6} e^{2 G_{0} x} + 2 G_{8} e^{2 G_{0} x} + G_{9} e^{2 G_{0} x} + e^{2 G_{0} x}} - \\frac{2 G_{47}}{- 2 G_{10} e^{2 G_{0} x} + 2 G_{11} e^{2 G_{0} x} - 8 G_{13} e^{2 G_{0} x} + 4 G_{15} e^{2 G_{0} x} + 4 G_{16} e^{2 G_{0} x} + 4 G_{17} e^{2 G_{0} x} - 8 G_{18} e^{2 G_{0} x} - 4 G_{19} e^{2 G_{0} x} - G_{2} e^{2 G_{0} x} - 4 G_{20} e^{2 G_{0} x} - 4 G_{21} e^{2 G_{0} x} + 8 G_{22} e^{2 G_{0} x} + 8 G_{23} e^{2 G_{0} x} - 32 G_{24} e^{2 G_{0} x} + 16 G_{25} e^{2 G_{0} x} + 16 G_{26} e^{2 G_{0} x} - G_{4} e^{2 G_{0} x} - 2 G_{6} e^{2 G_{0} x} + 2 G_{8} e^{2 G_{0} x} + G_{9} e^{2 G_{0} x} + e^{2 G_{0} x}} + \\frac{2 G_{48}}{2 G_{11} e^{2 G_{0} x} + 4 G_{15} e^{2 G_{0} x} - 8 G_{18} e^{2 G_{0} x} - G_{2} e^{2 G_{0} x} + G_{29} e^{2 G_{0} x} - G_{30} e^{2 G_{0} x} + 4 G_{31} e^{2 G_{0} x} - 2 G_{6} e^{2 G_{0} x} + e^{2 G_{0} x}} + \\frac{2 G_{49} e^{4 G_{0} x}}{2 G_{11} e^{2 G_{0} x} + 4 G_{15} e^{2 G_{0} x} - 8 G_{18} e^{2 G_{0} x} - G_{2} e^{2 G_{0} x} + G_{29} e^{2 G_{0} x} - G_{30} e^{2 G_{0} x} + 4 G_{31} e^{2 G_{0} x} - 2 G_{6} e^{2 G_{0} x} + e^{2 G_{0} x}} + \\frac{2 G_{50} e^{4 G_{0} x}}{- 2 G_{10} e^{2 G_{0} x} + 2 G_{11} e^{2 G_{0} x} - 8 G_{13} e^{2 G_{0} x} + 4 G_{15} e^{2 G_{0} x} + 4 G_{16} e^{2 G_{0} x} + 4 G_{17} e^{2 G_{0} x} - 8 G_{18} e^{2 G_{0} x} - 4 G_{19} e^{2 G_{0} x} - G_{2} e^{2 G_{0} x} - 4 G_{20} e^{2 G_{0} x} - 4 G_{21} e^{2 G_{0} x} + 8 G_{22} e^{2 G_{0} x} + 8 G_{23} e^{2 G_{0} x} - 32 G_{24} e^{2 G_{0} x} + 16 G_{25} e^{2 G_{0} x} + 16 G_{26} e^{2 G_{0} x} - G_{4} e^{2 G_{0} x} - 2 G_{6} e^{2 G_{0} x} + 2 G_{8} e^{2 G_{0} x} + G_{9} e^{2 G_{0} x} + e^{2 G_{0} x}} - \\frac{4 G_{50} e^{2 G_{0} x}}{- 2 G_{10} e^{2 G_{0} x} + 2 G_{11} e^{2 G_{0} x} - 8 G_{13} e^{2 G_{0} x} + 4 G_{15} e^{2 G_{0} x} + 4 G_{16} e^{2 G_{0} x} + 4 G_{17} e^{2 G_{0} x} - 8 G_{18} e^{2 G_{0} x} - 4 G_{19} e^{2 G_{0} x} - G_{2} e^{2 G_{0} x} - 4 G_{20} e^{2 G_{0} x} - 4 G_{21} e^{2 G_{0} x} + 8 G_{22} e^{2 G_{0} x} + 8 G_{23} e^{2 G_{0} x} - 32 G_{24} e^{2 G_{0} x} + 16 G_{25} e^{2 G_{0} x} + 16 G_{26} e^{2 G_{0} x} - G_{4} e^{2 G_{0} x} - 2 G_{6} e^{2 G_{0} x} + 2 G_{8} e^{2 G_{0} x} + G_{9} e^{2 G_{0} x} + e^{2 G_{0} x}} + \\frac{2 G_{50}}{- 2 G_{10} e^{2 G_{0} x} + 2 G_{11} e^{2 G_{0} x} - 8 G_{13} e^{2 G_{0} x} + 4 G_{15} e^{2 G_{0} x} + 4 G_{16} e^{2 G_{0} x} + 4 G_{17} e^{2 G_{0} x} - 8 G_{18} e^{2 G_{0} x} - 4 G_{19} e^{2 G_{0} x} - G_{2} e^{2 G_{0} x} - 4 G_{20} e^{2 G_{0} x} - 4 G_{21} e^{2 G_{0} x} + 8 G_{22} e^{2 G_{0} x} + 8 G_{23} e^{2 G_{0} x} - 32 G_{24} e^{2 G_{0} x} + 16 G_{25} e^{2 G_{0} x} + 16 G_{26} e^{2 G_{0} x} - G_{4} e^{2 G_{0} x} - 2 G_{6} e^{2 G_{0} x} + 2 G_{8} e^{2 G_{0} x} + G_{9} e^{2 G_{0} x} + e^{2 G_{0} x}} + \\frac{4 G_{51} e^{4 G_{0} x}}{- 2 G_{10} e^{2 G_{0} x} + 2 G_{11} e^{2 G_{0} x} - 8 G_{13} e^{2 G_{0} x} + 4 G_{15} e^{2 G_{0} x} + 4 G_{16} e^{2 G_{0} x} + 4 G_{17} e^{2 G_{0} x} - 8 G_{18} e^{2 G_{0} x} - 4 G_{19} e^{2 G_{0} x} - G_{2} e^{2 G_{0} x} - 4 G_{20} e^{2 G_{0} x} - 4 G_{21} e^{2 G_{0} x} + 8 G_{22} e^{2 G_{0} x} + 8 G_{23} e^{2 G_{0} x} - 32 G_{24} e^{2 G_{0} x} + 16 G_{25} e^{2 G_{0} x} + 16 G_{26} e^{2 G_{0} x} - G_{4} e^{2 G_{0} x} - 2 G_{6} e^{2 G_{0} x} + 2 G_{8} e^{2 G_{0} x} + G_{9} e^{2 G_{0} x} + e^{2 G_{0} x}} - \\frac{8 G_{51} e^{2 G_{0} x}}{- 2 G_{10} e^{2 G_{0} x} + 2 G_{11} e^{2 G_{0} x} - 8 G_{13} e^{2 G_{0} x} + 4 G_{15} e^{2 G_{0} x} + 4 G_{16} e^{2 G_{0} x} + 4 G_{17} e^{2 G_{0} x} - 8 G_{18} e^{2 G_{0} x} - 4 G_{19} e^{2 G_{0} x} - G_{2} e^{2 G_{0} x} - 4 G_{20} e^{2 G_{0} x} - 4 G_{21} e^{2 G_{0} x} + 8 G_{22} e^{2 G_{0} x} + 8 G_{23} e^{2 G_{0} x} - 32 G_{24} e^{2 G_{0} x} + 16 G_{25} e^{2 G_{0} x} + 16 G_{26} e^{2 G_{0} x} - G_{4} e^{2 G_{0} x} - 2 G_{6} e^{2 G_{0} x} + 2 G_{8} e^{2 G_{0} x} + G_{9} e^{2 G_{0} x} + e^{2 G_{0} x}} + \\frac{4 G_{51}}{- 2 G_{10} e^{2 G_{0} x} + 2 G_{11} e^{2 G_{0} x} - 8 G_{13} e^{2 G_{0} x} + 4 G_{15} e^{2 G_{0} x} + 4 G_{16} e^{2 G_{0} x} + 4 G_{17} e^{2 G_{0} x} - 8 G_{18} e^{2 G_{0} x} - 4 G_{19} e^{2 G_{0} x} - G_{2} e^{2 G_{0} x} - 4 G_{20} e^{2 G_{0} x} - 4 G_{21} e^{2 G_{0} x} + 8 G_{22} e^{2 G_{0} x} + 8 G_{23} e^{2 G_{0} x} - 32 G_{24} e^{2 G_{0} x} + 16 G_{25} e^{2 G_{0} x} + 16 G_{26} e^{2 G_{0} x} - G_{4} e^{2 G_{0} x} - 2 G_{6} e^{2 G_{0} x} + 2 G_{8} e^{2 G_{0} x} + G_{9} e^{2 G_{0} x} + e^{2 G_{0} x}} + \\frac{8 G_{51} e^{2 G_{0} x}}{2 G_{11} e^{2 G_{0} x} + 4 G_{15} e^{2 G_{0} x} - 8 G_{18} e^{2 G_{0} x} - G_{2} e^{2 G_{0} x} + G_{29} e^{2 G_{0} x} - G_{30} e^{2 G_{0} x} + 4 G_{31} e^{2 G_{0} x} - 2 G_{6} e^{2 G_{0} x} + e^{2 G_{0} x}} + \\frac{4 G_{52} e^{4 G_{0} x}}{- 2 G_{10} e^{2 G_{0} x} + 2 G_{11} e^{2 G_{0} x} - 8 G_{13} e^{2 G_{0} x} + 4 G_{15} e^{2 G_{0} x} + 4 G_{16} e^{2 G_{0} x} + 4 G_{17} e^{2 G_{0} x} - 8 G_{18} e^{2 G_{0} x} - 4 G_{19} e^{2 G_{0} x} - G_{2} e^{2 G_{0} x} - 4 G_{20} e^{2 G_{0} x} - 4 G_{21} e^{2 G_{0} x} + 8 G_{22} e^{2 G_{0} x} + 8 G_{23} e^{2 G_{0} x} - 32 G_{24} e^{2 G_{0} x} + 16 G_{25} e^{2 G_{0} x} + 16 G_{26} e^{2 G_{0} x} - G_{4} e^{2 G_{0} x} - 2 G_{6} e^{2 G_{0} x} + 2 G_{8} e^{2 G_{0} x} + G_{9} e^{2 G_{0} x} + e^{2 G_{0} x}} - \\frac{8 G_{52} e^{2 G_{0} x}}{- 2 G_{10} e^{2 G_{0} x} + 2 G_{11} e^{2 G_{0} x} - 8 G_{13} e^{2 G_{0} x} + 4 G_{15} e^{2 G_{0} x} + 4 G_{16} e^{2 G_{0} x} + 4 G_{17} e^{2 G_{0} x} - 8 G_{18} e^{2 G_{0} x} - 4 G_{19} e^{2 G_{0} x} - G_{2} e^{2 G_{0} x} - 4 G_{20} e^{2 G_{0} x} - 4 G_{21} e^{2 G_{0} x} + 8 G_{22} e^{2 G_{0} x} + 8 G_{23} e^{2 G_{0} x} - 32 G_{24} e^{2 G_{0} x} + 16 G_{25} e^{2 G_{0} x} + 16 G_{26} e^{2 G_{0} x} - G_{4} e^{2 G_{0} x} - 2 G_{6} e^{2 G_{0} x} + 2 G_{8} e^{2 G_{0} x} + G_{9} e^{2 G_{0} x} + e^{2 G_{0} x}} + \\frac{4 G_{52}}{- 2 G_{10} e^{2 G_{0} x} + 2 G_{11} e^{2 G_{0} x} - 8 G_{13} e^{2 G_{0} x} + 4 G_{15} e^{2 G_{0} x} + 4 G_{16} e^{2 G_{0} x} + 4 G_{17} e^{2 G_{0} x} - 8 G_{18} e^{2 G_{0} x} - 4 G_{19} e^{2 G_{0} x} - G_{2} e^{2 G_{0} x} - 4 G_{20} e^{2 G_{0} x} - 4 G_{21} e^{2 G_{0} x} + 8 G_{22} e^{2 G_{0} x} + 8 G_{23} e^{2 G_{0} x} - 32 G_{24} e^{2 G_{0} x} + 16 G_{25} e^{2 G_{0} x} + 16 G_{26} e^{2 G_{0} x} - G_{4} e^{2 G_{0} x} - 2 G_{6} e^{2 G_{0} x} + 2 G_{8} e^{2 G_{0} x} + G_{9} e^{2 G_{0} x} + e^{2 G_{0} x}} - \\frac{8 G_{53} e^{4 G_{0} x}}{- 2 G_{10} e^{2 G_{0} x} + 2 G_{11} e^{2 G_{0} x} - 8 G_{13} e^{2 G_{0} x} + 4 G_{15} e^{2 G_{0} x} + 4 G_{16} e^{2 G_{0} x} + 4 G_{17} e^{2 G_{0} x} - 8 G_{18} e^{2 G_{0} x} - 4 G_{19} e^{2 G_{0} x} - G_{2} e^{2 G_{0} x} - 4 G_{20} e^{2 G_{0} x} - 4 G_{21} e^{2 G_{0} x} + 8 G_{22} e^{2 G_{0} x} + 8 G_{23} e^{2 G_{0} x} - 32 G_{24} e^{2 G_{0} x} + 16 G_{25} e^{2 G_{0} x} + 16 G_{26} e^{2 G_{0} x} - G_{4} e^{2 G_{0} x} - 2 G_{6} e^{2 G_{0} x} + 2 G_{8} e^{2 G_{0} x} + G_{9} e^{2 G_{0} x} + e^{2 G_{0} x}} + \\frac{16 G_{53} e^{2 G_{0} x}}{- 2 G_{10} e^{2 G_{0} x} + 2 G_{11} e^{2 G_{0} x} - 8 G_{13} e^{2 G_{0} x} + 4 G_{15} e^{2 G_{0} x} + 4 G_{16} e^{2 G_{0} x} + 4 G_{17} e^{2 G_{0} x} - 8 G_{18} e^{2 G_{0} x} - 4 G_{19} e^{2 G_{0} x} - G_{2} e^{2 G_{0} x} - 4 G_{20} e^{2 G_{0} x} - 4 G_{21} e^{2 G_{0} x} + 8 G_{22} e^{2 G_{0} x} + 8 G_{23} e^{2 G_{0} x} - 32 G_{24} e^{2 G_{0} x} + 16 G_{25} e^{2 G_{0} x} + 16 G_{26} e^{2 G_{0} x} - G_{4} e^{2 G_{0} x} - 2 G_{6} e^{2 G_{0} x} + 2 G_{8} e^{2 G_{0} x} + G_{9} e^{2 G_{0} x} + e^{2 G_{0} x}} - \\frac{8 G_{53}}{- 2 G_{10} e^{2 G_{0} x} + 2 G_{11} e^{2 G_{0} x} - 8 G_{13} e^{2 G_{0} x} + 4 G_{15} e^{2 G_{0} x} + 4 G_{16} e^{2 G_{0} x} + 4 G_{17} e^{2 G_{0} x} - 8 G_{18} e^{2 G_{0} x} - 4 G_{19} e^{2 G_{0} x} - G_{2} e^{2 G_{0} x} - 4 G_{20} e^{2 G_{0} x} - 4 G_{21} e^{2 G_{0} x} + 8 G_{22} e^{2 G_{0} x} + 8 G_{23} e^{2 G_{0} x} - 32 G_{24} e^{2 G_{0} x} + 16 G_{25} e^{2 G_{0} x} + 16 G_{26} e^{2 G_{0} x} - G_{4} e^{2 G_{0} x} - 2 G_{6} e^{2 G_{0} x} + 2 G_{8} e^{2 G_{0} x} + G_{9} e^{2 G_{0} x} + e^{2 G_{0} x}} - \\frac{4 G_{55} e^{4 G_{0} x}}{G_{29} e^{2 G_{0} x} - 2 G_{6} e^{2 G_{0} x} + e^{2 G_{0} x}} + \\frac{4 G_{55} e^{2 G_{0} x}}{G_{29} e^{2 G_{0} x} - 2 G_{6} e^{2 G_{0} x} + e^{2 G_{0} x}} - \\frac{16 G_{56} e^{4 G_{0} x}}{- 2 G_{10} e^{2 G_{0} x} + 2 G_{11} e^{2 G_{0} x} - 8 G_{13} e^{2 G_{0} x} + 4 G_{15} e^{2 G_{0} x} + 4 G_{16} e^{2 G_{0} x} + 4 G_{17} e^{2 G_{0} x} - 8 G_{18} e^{2 G_{0} x} - 4 G_{19} e^{2 G_{0} x} - G_{2} e^{2 G_{0} x} - 4 G_{20} e^{2 G_{0} x} - 4 G_{21} e^{2 G_{0} x} + 8 G_{22} e^{2 G_{0} x} + 8 G_{23} e^{2 G_{0} x} - 32 G_{24} e^{2 G_{0} x} + 16 G_{25} e^{2 G_{0} x} + 16 G_{26} e^{2 G_{0} x} - G_{4} e^{2 G_{0} x} - 2 G_{6} e^{2 G_{0} x} + 2 G_{8} e^{2 G_{0} x} + G_{9} e^{2 G_{0} x} + e^{2 G_{0} x}} + \\frac{32 G_{56} e^{2 G_{0} x}}{- 2 G_{10} e^{2 G_{0} x} + 2 G_{11} e^{2 G_{0} x} - 8 G_{13} e^{2 G_{0} x} + 4 G_{15} e^{2 G_{0} x} + 4 G_{16} e^{2 G_{0} x} + 4 G_{17} e^{2 G_{0} x} - 8 G_{18} e^{2 G_{0} x} - 4 G_{19} e^{2 G_{0} x} - G_{2} e^{2 G_{0} x} - 4 G_{20} e^{2 G_{0} x} - 4 G_{21} e^{2 G_{0} x} + 8 G_{22} e^{2 G_{0} x} + 8 G_{23} e^{2 G_{0} x} - 32 G_{24} e^{2 G_{0} x} + 16 G_{25} e^{2 G_{0} x} + 16 G_{26} e^{2 G_{0} x} - G_{4} e^{2 G_{0} x} - 2 G_{6} e^{2 G_{0} x} + 2 G_{8} e^{2 G_{0} x} + G_{9} e^{2 G_{0} x} + e^{2 G_{0} x}} - \\frac{16 G_{56}}{- 2 G_{10} e^{2 G_{0} x} + 2 G_{11} e^{2 G_{0} x} - 8 G_{13} e^{2 G_{0} x} + 4 G_{15} e^{2 G_{0} x} + 4 G_{16} e^{2 G_{0} x} + 4 G_{17} e^{2 G_{0} x} - 8 G_{18} e^{2 G_{0} x} - 4 G_{19} e^{2 G_{0} x} - G_{2} e^{2 G_{0} x} - 4 G_{20} e^{2 G_{0} x} - 4 G_{21} e^{2 G_{0} x} + 8 G_{22} e^{2 G_{0} x} + 8 G_{23} e^{2 G_{0} x} - 32 G_{24} e^{2 G_{0} x} + 16 G_{25} e^{2 G_{0} x} + 16 G_{26} e^{2 G_{0} x} - G_{4} e^{2 G_{0} x} - 2 G_{6} e^{2 G_{0} x} + 2 G_{8} e^{2 G_{0} x} + G_{9} e^{2 G_{0} x} + e^{2 G_{0} x}} - \\frac{8 G_{57} e^{4 G_{0} x}}{- 2 G_{10} e^{2 G_{0} x} + 2 G_{11} e^{2 G_{0} x} - 8 G_{13} e^{2 G_{0} x} + 4 G_{15} e^{2 G_{0} x} + 4 G_{16} e^{2 G_{0} x} + 4 G_{17} e^{2 G_{0} x} - 8 G_{18} e^{2 G_{0} x} - 4 G_{19} e^{2 G_{0} x} - G_{2} e^{2 G_{0} x} - 4 G_{20} e^{2 G_{0} x} - 4 G_{21} e^{2 G_{0} x} + 8 G_{22} e^{2 G_{0} x} + 8 G_{23} e^{2 G_{0} x} - 32 G_{24} e^{2 G_{0} x} + 16 G_{25} e^{2 G_{0} x} + 16 G_{26} e^{2 G_{0} x} - G_{4} e^{2 G_{0} x} - 2 G_{6} e^{2 G_{0} x} + 2 G_{8} e^{2 G_{0} x} + G_{9} e^{2 G_{0} x} + e^{2 G_{0} x}} + \\frac{16 G_{57} e^{2 G_{0} x}}{- 2 G_{10} e^{2 G_{0} x} + 2 G_{11} e^{2 G_{0} x} - 8 G_{13} e^{2 G_{0} x} + 4 G_{15} e^{2 G_{0} x} + 4 G_{16} e^{2 G_{0} x} + 4 G_{17} e^{2 G_{0} x} - 8 G_{18} e^{2 G_{0} x} - 4 G_{19} e^{2 G_{0} x} - G_{2} e^{2 G_{0} x} - 4 G_{20} e^{2 G_{0} x} - 4 G_{21} e^{2 G_{0} x} + 8 G_{22} e^{2 G_{0} x} + 8 G_{23} e^{2 G_{0} x} - 32 G_{24} e^{2 G_{0} x} + 16 G_{25} e^{2 G_{0} x} + 16 G_{26} e^{2 G_{0} x} - G_{4} e^{2 G_{0} x} - 2 G_{6} e^{2 G_{0} x} + 2 G_{8} e^{2 G_{0} x} + G_{9} e^{2 G_{0} x} + e^{2 G_{0} x}} - \\frac{8 G_{57}}{- 2 G_{10} e^{2 G_{0} x} + 2 G_{11} e^{2 G_{0} x} - 8 G_{13} e^{2 G_{0} x} + 4 G_{15} e^{2 G_{0} x} + 4 G_{16} e^{2 G_{0} x} + 4 G_{17} e^{2 G_{0} x} - 8 G_{18} e^{2 G_{0} x} - 4 G_{19} e^{2 G_{0} x} - G_{2} e^{2 G_{0} x} - 4 G_{20} e^{2 G_{0} x} - 4 G_{21} e^{2 G_{0} x} + 8 G_{22} e^{2 G_{0} x} + 8 G_{23} e^{2 G_{0} x} - 32 G_{24} e^{2 G_{0} x} + 16 G_{25} e^{2 G_{0} x} + 16 G_{26} e^{2 G_{0} x} - G_{4} e^{2 G_{0} x} - 2 G_{6} e^{2 G_{0} x} + 2 G_{8} e^{2 G_{0} x} + G_{9} e^{2 G_{0} x} + e^{2 G_{0} x}} + \\frac{8 G_{58} e^{4 G_{0} x}}{- 2 G_{10} e^{2 G_{0} x} + 2 G_{11} e^{2 G_{0} x} - 8 G_{13} e^{2 G_{0} x} + 4 G_{15} e^{2 G_{0} x} + 4 G_{16} e^{2 G_{0} x} + 4 G_{17} e^{2 G_{0} x} - 8 G_{18} e^{2 G_{0} x} - 4 G_{19} e^{2 G_{0} x} - G_{2} e^{2 G_{0} x} - 4 G_{20} e^{2 G_{0} x} - 4 G_{21} e^{2 G_{0} x} + 8 G_{22} e^{2 G_{0} x} + 8 G_{23} e^{2 G_{0} x} - 32 G_{24} e^{2 G_{0} x} + 16 G_{25} e^{2 G_{0} x} + 16 G_{26} e^{2 G_{0} x} - G_{4} e^{2 G_{0} x} - 2 G_{6} e^{2 G_{0} x} + 2 G_{8} e^{2 G_{0} x} + G_{9} e^{2 G_{0} x} + e^{2 G_{0} x}} - \\frac{16 G_{58} e^{2 G_{0} x}}{- 2 G_{10} e^{2 G_{0} x} + 2 G_{11} e^{2 G_{0} x} - 8 G_{13} e^{2 G_{0} x} + 4 G_{15} e^{2 G_{0} x} + 4 G_{16} e^{2 G_{0} x} + 4 G_{17} e^{2 G_{0} x} - 8 G_{18} e^{2 G_{0} x} - 4 G_{19} e^{2 G_{0} x} - G_{2} e^{2 G_{0} x} - 4 G_{20} e^{2 G_{0} x} - 4 G_{21} e^{2 G_{0} x} + 8 G_{22} e^{2 G_{0} x} + 8 G_{23} e^{2 G_{0} x} - 32 G_{24} e^{2 G_{0} x} + 16 G_{25} e^{2 G_{0} x} + 16 G_{26} e^{2 G_{0} x} - G_{4} e^{2 G_{0} x} - 2 G_{6} e^{2 G_{0} x} + 2 G_{8} e^{2 G_{0} x} + G_{9} e^{2 G_{0} x} + e^{2 G_{0} x}} + \\frac{8 G_{58}}{- 2 G_{10} e^{2 G_{0} x} + 2 G_{11} e^{2 G_{0} x} - 8 G_{13} e^{2 G_{0} x} + 4 G_{15} e^{2 G_{0} x} + 4 G_{16} e^{2 G_{0} x} + 4 G_{17} e^{2 G_{0} x} - 8 G_{18} e^{2 G_{0} x} - 4 G_{19} e^{2 G_{0} x} - G_{2} e^{2 G_{0} x} - 4 G_{20} e^{2 G_{0} x} - 4 G_{21} e^{2 G_{0} x} + 8 G_{22} e^{2 G_{0} x} + 8 G_{23} e^{2 G_{0} x} - 32 G_{24} e^{2 G_{0} x} + 16 G_{25} e^{2 G_{0} x} + 16 G_{26} e^{2 G_{0} x} - G_{4} e^{2 G_{0} x} - 2 G_{6} e^{2 G_{0} x} + 2 G_{8} e^{2 G_{0} x} + G_{9} e^{2 G_{0} x} + e^{2 G_{0} x}} + \\frac{8 G_{59} e^{4 G_{0} x}}{- 2 G_{10} e^{2 G_{0} x} + 2 G_{11} e^{2 G_{0} x} - 8 G_{13} e^{2 G_{0} x} + 4 G_{15} e^{2 G_{0} x} + 4 G_{16} e^{2 G_{0} x} + 4 G_{17} e^{2 G_{0} x} - 8 G_{18} e^{2 G_{0} x} - 4 G_{19} e^{2 G_{0} x} - G_{2} e^{2 G_{0} x} - 4 G_{20} e^{2 G_{0} x} - 4 G_{21} e^{2 G_{0} x} + 8 G_{22} e^{2 G_{0} x} + 8 G_{23} e^{2 G_{0} x} - 32 G_{24} e^{2 G_{0} x} + 16 G_{25} e^{2 G_{0} x} + 16 G_{26} e^{2 G_{0} x} - G_{4} e^{2 G_{0} x} - 2 G_{6} e^{2 G_{0} x} + 2 G_{8} e^{2 G_{0} x} + G_{9} e^{2 G_{0} x} + e^{2 G_{0} x}} - \\frac{16 G_{59} e^{2 G_{0} x}}{- 2 G_{10} e^{2 G_{0} x} + 2 G_{11} e^{2 G_{0} x} - 8 G_{13} e^{2 G_{0} x} + 4 G_{15} e^{2 G_{0} x} + 4 G_{16} e^{2 G_{0} x} + 4 G_{17} e^{2 G_{0} x} - 8 G_{18} e^{2 G_{0} x} - 4 G_{19} e^{2 G_{0} x} - G_{2} e^{2 G_{0} x} - 4 G_{20} e^{2 G_{0} x} - 4 G_{21} e^{2 G_{0} x} + 8 G_{22} e^{2 G_{0} x} + 8 G_{23} e^{2 G_{0} x} - 32 G_{24} e^{2 G_{0} x} + 16 G_{25} e^{2 G_{0} x} + 16 G_{26} e^{2 G_{0} x} - G_{4} e^{2 G_{0} x} - 2 G_{6} e^{2 G_{0} x} + 2 G_{8} e^{2 G_{0} x} + G_{9} e^{2 G_{0} x} + e^{2 G_{0} x}} + \\frac{8 G_{59}}{- 2 G_{10} e^{2 G_{0} x} + 2 G_{11} e^{2 G_{0} x} - 8 G_{13} e^{2 G_{0} x} + 4 G_{15} e^{2 G_{0} x} + 4 G_{16} e^{2 G_{0} x} + 4 G_{17} e^{2 G_{0} x} - 8 G_{18} e^{2 G_{0} x} - 4 G_{19} e^{2 G_{0} x} - G_{2} e^{2 G_{0} x} - 4 G_{20} e^{2 G_{0} x} - 4 G_{21} e^{2 G_{0} x} + 8 G_{22} e^{2 G_{0} x} + 8 G_{23} e^{2 G_{0} x} - 32 G_{24} e^{2 G_{0} x} + 16 G_{25} e^{2 G_{0} x} + 16 G_{26} e^{2 G_{0} x} - G_{4} e^{2 G_{0} x} - 2 G_{6} e^{2 G_{0} x} + 2 G_{8} e^{2 G_{0} x} + G_{9} e^{2 G_{0} x} + e^{2 G_{0} x}} + \\frac{16 G_{60} e^{4 G_{0} x}}{- 2 G_{10} e^{2 G_{0} x} + 2 G_{11} e^{2 G_{0} x} - 8 G_{13} e^{2 G_{0} x} + 4 G_{15} e^{2 G_{0} x} + 4 G_{16} e^{2 G_{0} x} + 4 G_{17} e^{2 G_{0} x} - 8 G_{18} e^{2 G_{0} x} - 4 G_{19} e^{2 G_{0} x} - G_{2} e^{2 G_{0} x} - 4 G_{20} e^{2 G_{0} x} - 4 G_{21} e^{2 G_{0} x} + 8 G_{22} e^{2 G_{0} x} + 8 G_{23} e^{2 G_{0} x} - 32 G_{24} e^{2 G_{0} x} + 16 G_{25} e^{2 G_{0} x} + 16 G_{26} e^{2 G_{0} x} - G_{4} e^{2 G_{0} x} - 2 G_{6} e^{2 G_{0} x} + 2 G_{8} e^{2 G_{0} x} + G_{9} e^{2 G_{0} x} + e^{2 G_{0} x}} - \\frac{32 G_{60} e^{2 G_{0} x}}{- 2 G_{10} e^{2 G_{0} x} + 2 G_{11} e^{2 G_{0} x} - 8 G_{13} e^{2 G_{0} x} + 4 G_{15} e^{2 G_{0} x} + 4 G_{16} e^{2 G_{0} x} + 4 G_{17} e^{2 G_{0} x} - 8 G_{18} e^{2 G_{0} x} - 4 G_{19} e^{2 G_{0} x} - G_{2} e^{2 G_{0} x} - 4 G_{20} e^{2 G_{0} x} - 4 G_{21} e^{2 G_{0} x} + 8 G_{22} e^{2 G_{0} x} + 8 G_{23} e^{2 G_{0} x} - 32 G_{24} e^{2 G_{0} x} + 16 G_{25} e^{2 G_{0} x} + 16 G_{26} e^{2 G_{0} x} - G_{4} e^{2 G_{0} x} - 2 G_{6} e^{2 G_{0} x} + 2 G_{8} e^{2 G_{0} x} + G_{9} e^{2 G_{0} x} + e^{2 G_{0} x}} + \\frac{16 G_{60}}{- 2 G_{10} e^{2 G_{0} x} + 2 G_{11} e^{2 G_{0} x} - 8 G_{13} e^{2 G_{0} x} + 4 G_{15} e^{2 G_{0} x} + 4 G_{16} e^{2 G_{0} x} + 4 G_{17} e^{2 G_{0} x} - 8 G_{18} e^{2 G_{0} x} - 4 G_{19} e^{2 G_{0} x} - G_{2} e^{2 G_{0} x} - 4 G_{20} e^{2 G_{0} x} - 4 G_{21} e^{2 G_{0} x} + 8 G_{22} e^{2 G_{0} x} + 8 G_{23} e^{2 G_{0} x} - 32 G_{24} e^{2 G_{0} x} + 16 G_{25} e^{2 G_{0} x} + 16 G_{26} e^{2 G_{0} x} - G_{4} e^{2 G_{0} x} - 2 G_{6} e^{2 G_{0} x} + 2 G_{8} e^{2 G_{0} x} + G_{9} e^{2 G_{0} x} + e^{2 G_{0} x}}$"
      ],
      "text/plain": [
       "-4*G_27*exp(4*G_0*x)/(-2*G_10*exp(2*G_0*x) + 2*G_11*exp(2*G_0*x) - 8*G_13*exp(2*G_0*x) + 4*G_15*exp(2*G_0*x) + 4*G_16*exp(2*G_0*x) + 4*G_17*exp(2*G_0*x) - 8*G_18*exp(2*G_0*x) - 4*G_19*exp(2*G_0*x) - G_2*exp(2*G_0*x) - 4*G_20*exp(2*G_0*x) - 4*G_21*exp(2*G_0*x) + 8*G_22*exp(2*G_0*x) + 8*G_23*exp(2*G_0*x) - 32*G_24*exp(2*G_0*x) + 16*G_25*exp(2*G_0*x) + 16*G_26*exp(2*G_0*x) - G_4*exp(2*G_0*x) - 2*G_6*exp(2*G_0*x) + 2*G_8*exp(2*G_0*x) + G_9*exp(2*G_0*x) + exp(2*G_0*x)) + 8*G_27*exp(2*G_0*x)/(-2*G_10*exp(2*G_0*x) + 2*G_11*exp(2*G_0*x) - 8*G_13*exp(2*G_0*x) + 4*G_15*exp(2*G_0*x) + 4*G_16*exp(2*G_0*x) + 4*G_17*exp(2*G_0*x) - 8*G_18*exp(2*G_0*x) - 4*G_19*exp(2*G_0*x) - G_2*exp(2*G_0*x) - 4*G_20*exp(2*G_0*x) - 4*G_21*exp(2*G_0*x) + 8*G_22*exp(2*G_0*x) + 8*G_23*exp(2*G_0*x) - 32*G_24*exp(2*G_0*x) + 16*G_25*exp(2*G_0*x) + 16*G_26*exp(2*G_0*x) - G_4*exp(2*G_0*x) - 2*G_6*exp(2*G_0*x) + 2*G_8*exp(2*G_0*x) + G_9*exp(2*G_0*x) + exp(2*G_0*x)) - 4*G_27/(-2*G_10*exp(2*G_0*x) + 2*G_11*exp(2*G_0*x) - 8*G_13*exp(2*G_0*x) + 4*G_15*exp(2*G_0*x) + 4*G_16*exp(2*G_0*x) + 4*G_17*exp(2*G_0*x) - 8*G_18*exp(2*G_0*x) - 4*G_19*exp(2*G_0*x) - G_2*exp(2*G_0*x) - 4*G_20*exp(2*G_0*x) - 4*G_21*exp(2*G_0*x) + 8*G_22*exp(2*G_0*x) + 8*G_23*exp(2*G_0*x) - 32*G_24*exp(2*G_0*x) + 16*G_25*exp(2*G_0*x) + 16*G_26*exp(2*G_0*x) - G_4*exp(2*G_0*x) - 2*G_6*exp(2*G_0*x) + 2*G_8*exp(2*G_0*x) + G_9*exp(2*G_0*x) + exp(2*G_0*x)) - 2*G_28*exp(4*G_0*x)/(-2*G_10*exp(2*G_0*x) + 2*G_11*exp(2*G_0*x) - 8*G_13*exp(2*G_0*x) + 4*G_15*exp(2*G_0*x) + 4*G_16*exp(2*G_0*x) + 4*G_17*exp(2*G_0*x) - 8*G_18*exp(2*G_0*x) - 4*G_19*exp(2*G_0*x) - G_2*exp(2*G_0*x) - 4*G_20*exp(2*G_0*x) - 4*G_21*exp(2*G_0*x) + 8*G_22*exp(2*G_0*x) + 8*G_23*exp(2*G_0*x) - 32*G_24*exp(2*G_0*x) + 16*G_25*exp(2*G_0*x) + 16*G_26*exp(2*G_0*x) - G_4*exp(2*G_0*x) - 2*G_6*exp(2*G_0*x) + 2*G_8*exp(2*G_0*x) + G_9*exp(2*G_0*x) + exp(2*G_0*x)) + 4*G_28*exp(2*G_0*x)/(-2*G_10*exp(2*G_0*x) + 2*G_11*exp(2*G_0*x) - 8*G_13*exp(2*G_0*x) + 4*G_15*exp(2*G_0*x) + 4*G_16*exp(2*G_0*x) + 4*G_17*exp(2*G_0*x) - 8*G_18*exp(2*G_0*x) - 4*G_19*exp(2*G_0*x) - G_2*exp(2*G_0*x) - 4*G_20*exp(2*G_0*x) - 4*G_21*exp(2*G_0*x) + 8*G_22*exp(2*G_0*x) + 8*G_23*exp(2*G_0*x) - 32*G_24*exp(2*G_0*x) + 16*G_25*exp(2*G_0*x) + 16*G_26*exp(2*G_0*x) - G_4*exp(2*G_0*x) - 2*G_6*exp(2*G_0*x) + 2*G_8*exp(2*G_0*x) + G_9*exp(2*G_0*x) + exp(2*G_0*x)) - 2*G_28/(-2*G_10*exp(2*G_0*x) + 2*G_11*exp(2*G_0*x) - 8*G_13*exp(2*G_0*x) + 4*G_15*exp(2*G_0*x) + 4*G_16*exp(2*G_0*x) + 4*G_17*exp(2*G_0*x) - 8*G_18*exp(2*G_0*x) - 4*G_19*exp(2*G_0*x) - G_2*exp(2*G_0*x) - 4*G_20*exp(2*G_0*x) - 4*G_21*exp(2*G_0*x) + 8*G_22*exp(2*G_0*x) + 8*G_23*exp(2*G_0*x) - 32*G_24*exp(2*G_0*x) + 16*G_25*exp(2*G_0*x) + 16*G_26*exp(2*G_0*x) - G_4*exp(2*G_0*x) - 2*G_6*exp(2*G_0*x) + 2*G_8*exp(2*G_0*x) + G_9*exp(2*G_0*x) + exp(2*G_0*x)) - 4*G_28*exp(2*G_0*x)/(2*G_11*exp(2*G_0*x) + 4*G_15*exp(2*G_0*x) - 8*G_18*exp(2*G_0*x) - G_2*exp(2*G_0*x) + G_29*exp(2*G_0*x) - G_30*exp(2*G_0*x) + 4*G_31*exp(2*G_0*x) - 2*G_6*exp(2*G_0*x) + exp(2*G_0*x)) + 2*G_32/(2*G_11*exp(2*G_0*x) + 4*G_15*exp(2*G_0*x) - 8*G_18*exp(2*G_0*x) - G_2*exp(2*G_0*x) + G_29*exp(2*G_0*x) - G_30*exp(2*G_0*x) + 4*G_31*exp(2*G_0*x) - 2*G_6*exp(2*G_0*x) + exp(2*G_0*x)) + 2*G_33*exp(4*G_0*x)/(2*G_11*exp(2*G_0*x) + 4*G_15*exp(2*G_0*x) - 8*G_18*exp(2*G_0*x) - G_2*exp(2*G_0*x) + G_29*exp(2*G_0*x) - G_30*exp(2*G_0*x) + 4*G_31*exp(2*G_0*x) - 2*G_6*exp(2*G_0*x) + exp(2*G_0*x)) + 2*G_34*exp(4*G_0*x)/(-2*G_10*exp(2*G_0*x) + 2*G_11*exp(2*G_0*x) - 8*G_13*exp(2*G_0*x) + 4*G_15*exp(2*G_0*x) + 4*G_16*exp(2*G_0*x) + 4*G_17*exp(2*G_0*x) - 8*G_18*exp(2*G_0*x) - 4*G_19*exp(2*G_0*x) - G_2*exp(2*G_0*x) - 4*G_20*exp(2*G_0*x) - 4*G_21*exp(2*G_0*x) + 8*G_22*exp(2*G_0*x) + 8*G_23*exp(2*G_0*x) - 32*G_24*exp(2*G_0*x) + 16*G_25*exp(2*G_0*x) + 16*G_26*exp(2*G_0*x) - G_4*exp(2*G_0*x) - 2*G_6*exp(2*G_0*x) + 2*G_8*exp(2*G_0*x) + G_9*exp(2*G_0*x) + exp(2*G_0*x)) - 4*G_34*exp(2*G_0*x)/(-2*G_10*exp(2*G_0*x) + 2*G_11*exp(2*G_0*x) - 8*G_13*exp(2*G_0*x) + 4*G_15*exp(2*G_0*x) + 4*G_16*exp(2*G_0*x) + 4*G_17*exp(2*G_0*x) - 8*G_18*exp(2*G_0*x) - 4*G_19*exp(2*G_0*x) - G_2*exp(2*G_0*x) - 4*G_20*exp(2*G_0*x) - 4*G_21*exp(2*G_0*x) + 8*G_22*exp(2*G_0*x) + 8*G_23*exp(2*G_0*x) - 32*G_24*exp(2*G_0*x) + 16*G_25*exp(2*G_0*x) + 16*G_26*exp(2*G_0*x) - G_4*exp(2*G_0*x) - 2*G_6*exp(2*G_0*x) + 2*G_8*exp(2*G_0*x) + G_9*exp(2*G_0*x) + exp(2*G_0*x)) + 2*G_34/(-2*G_10*exp(2*G_0*x) + 2*G_11*exp(2*G_0*x) - 8*G_13*exp(2*G_0*x) + 4*G_15*exp(2*G_0*x) + 4*G_16*exp(2*G_0*x) + 4*G_17*exp(2*G_0*x) - 8*G_18*exp(2*G_0*x) - 4*G_19*exp(2*G_0*x) - G_2*exp(2*G_0*x) - 4*G_20*exp(2*G_0*x) - 4*G_21*exp(2*G_0*x) + 8*G_22*exp(2*G_0*x) + 8*G_23*exp(2*G_0*x) - 32*G_24*exp(2*G_0*x) + 16*G_25*exp(2*G_0*x) + 16*G_26*exp(2*G_0*x) - G_4*exp(2*G_0*x) - 2*G_6*exp(2*G_0*x) + 2*G_8*exp(2*G_0*x) + G_9*exp(2*G_0*x) + exp(2*G_0*x)) + 2*G_35*exp(4*G_0*x)/(-2*G_10*exp(2*G_0*x) + 2*G_11*exp(2*G_0*x) - 8*G_13*exp(2*G_0*x) + 4*G_15*exp(2*G_0*x) + 4*G_16*exp(2*G_0*x) + 4*G_17*exp(2*G_0*x) - 8*G_18*exp(2*G_0*x) - 4*G_19*exp(2*G_0*x) - G_2*exp(2*G_0*x) - 4*G_20*exp(2*G_0*x) - 4*G_21*exp(2*G_0*x) + 8*G_22*exp(2*G_0*x) + 8*G_23*exp(2*G_0*x) - 32*G_24*exp(2*G_0*x) + 16*G_25*exp(2*G_0*x) + 16*G_26*exp(2*G_0*x) - G_4*exp(2*G_0*x) - 2*G_6*exp(2*G_0*x) + 2*G_8*exp(2*G_0*x) + G_9*exp(2*G_0*x) + exp(2*G_0*x)) - 4*G_35*exp(2*G_0*x)/(-2*G_10*exp(2*G_0*x) + 2*G_11*exp(2*G_0*x) - 8*G_13*exp(2*G_0*x) + 4*G_15*exp(2*G_0*x) + 4*G_16*exp(2*G_0*x) + 4*G_17*exp(2*G_0*x) - 8*G_18*exp(2*G_0*x) - 4*G_19*exp(2*G_0*x) - G_2*exp(2*G_0*x) - 4*G_20*exp(2*G_0*x) - 4*G_21*exp(2*G_0*x) + 8*G_22*exp(2*G_0*x) + 8*G_23*exp(2*G_0*x) - 32*G_24*exp(2*G_0*x) + 16*G_25*exp(2*G_0*x) + 16*G_26*exp(2*G_0*x) - G_4*exp(2*G_0*x) - 2*G_6*exp(2*G_0*x) + 2*G_8*exp(2*G_0*x) + G_9*exp(2*G_0*x) + exp(2*G_0*x)) + 2*G_35/(-2*G_10*exp(2*G_0*x) + 2*G_11*exp(2*G_0*x) - 8*G_13*exp(2*G_0*x) + 4*G_15*exp(2*G_0*x) + 4*G_16*exp(2*G_0*x) + 4*G_17*exp(2*G_0*x) - 8*G_18*exp(2*G_0*x) - 4*G_19*exp(2*G_0*x) - G_2*exp(2*G_0*x) - 4*G_20*exp(2*G_0*x) - 4*G_21*exp(2*G_0*x) + 8*G_22*exp(2*G_0*x) + 8*G_23*exp(2*G_0*x) - 32*G_24*exp(2*G_0*x) + 16*G_25*exp(2*G_0*x) + 16*G_26*exp(2*G_0*x) - G_4*exp(2*G_0*x) - 2*G_6*exp(2*G_0*x) + 2*G_8*exp(2*G_0*x) + G_9*exp(2*G_0*x) + exp(2*G_0*x)) + 2*G_36*exp(4*G_0*x)/(-2*G_10*exp(2*G_0*x) + 2*G_11*exp(2*G_0*x) - 8*G_13*exp(2*G_0*x) + 4*G_15*exp(2*G_0*x) + 4*G_16*exp(2*G_0*x) + 4*G_17*exp(2*G_0*x) - 8*G_18*exp(2*G_0*x) - 4*G_19*exp(2*G_0*x) - G_2*exp(2*G_0*x) - 4*G_20*exp(2*G_0*x) - 4*G_21*exp(2*G_0*x) + 8*G_22*exp(2*G_0*x) + 8*G_23*exp(2*G_0*x) - 32*G_24*exp(2*G_0*x) + 16*G_25*exp(2*G_0*x) + 16*G_26*exp(2*G_0*x) - G_4*exp(2*G_0*x) - 2*G_6*exp(2*G_0*x) + 2*G_8*exp(2*G_0*x) + G_9*exp(2*G_0*x) + exp(2*G_0*x)) - 4*G_36*exp(2*G_0*x)/(-2*G_10*exp(2*G_0*x) + 2*G_11*exp(2*G_0*x) - 8*G_13*exp(2*G_0*x) + 4*G_15*exp(2*G_0*x) + 4*G_16*exp(2*G_0*x) + 4*G_17*exp(2*G_0*x) - 8*G_18*exp(2*G_0*x) - 4*G_19*exp(2*G_0*x) - G_2*exp(2*G_0*x) - 4*G_20*exp(2*G_0*x) - 4*G_21*exp(2*G_0*x) + 8*G_22*exp(2*G_0*x) + 8*G_23*exp(2*G_0*x) - 32*G_24*exp(2*G_0*x) + 16*G_25*exp(2*G_0*x) + 16*G_26*exp(2*G_0*x) - G_4*exp(2*G_0*x) - 2*G_6*exp(2*G_0*x) + 2*G_8*exp(2*G_0*x) + G_9*exp(2*G_0*x) + exp(2*G_0*x)) + 2*G_36/(-2*G_10*exp(2*G_0*x) + 2*G_11*exp(2*G_0*x) - 8*G_13*exp(2*G_0*x) + 4*G_15*exp(2*G_0*x) + 4*G_16*exp(2*G_0*x) + 4*G_17*exp(2*G_0*x) - 8*G_18*exp(2*G_0*x) - 4*G_19*exp(2*G_0*x) - G_2*exp(2*G_0*x) - 4*G_20*exp(2*G_0*x) - 4*G_21*exp(2*G_0*x) + 8*G_22*exp(2*G_0*x) + 8*G_23*exp(2*G_0*x) - 32*G_24*exp(2*G_0*x) + 16*G_25*exp(2*G_0*x) + 16*G_26*exp(2*G_0*x) - G_4*exp(2*G_0*x) - 2*G_6*exp(2*G_0*x) + 2*G_8*exp(2*G_0*x) + G_9*exp(2*G_0*x) + exp(2*G_0*x)) - 4*G_37/(2*G_11*exp(2*G_0*x) + 4*G_15*exp(2*G_0*x) - 8*G_18*exp(2*G_0*x) - G_2*exp(2*G_0*x) + G_29*exp(2*G_0*x) - G_30*exp(2*G_0*x) + 4*G_31*exp(2*G_0*x) - 2*G_6*exp(2*G_0*x) + exp(2*G_0*x)) - 4*G_38*exp(4*G_0*x)/(2*G_11*exp(2*G_0*x) + 4*G_15*exp(2*G_0*x) - 8*G_18*exp(2*G_0*x) - G_2*exp(2*G_0*x) + G_29*exp(2*G_0*x) - G_30*exp(2*G_0*x) + 4*G_31*exp(2*G_0*x) - 2*G_6*exp(2*G_0*x) + exp(2*G_0*x)) - 4*G_39*exp(4*G_0*x)/(-2*G_10*exp(2*G_0*x) + 2*G_11*exp(2*G_0*x) - 8*G_13*exp(2*G_0*x) + 4*G_15*exp(2*G_0*x) + 4*G_16*exp(2*G_0*x) + 4*G_17*exp(2*G_0*x) - 8*G_18*exp(2*G_0*x) - 4*G_19*exp(2*G_0*x) - G_2*exp(2*G_0*x) - 4*G_20*exp(2*G_0*x) - 4*G_21*exp(2*G_0*x) + 8*G_22*exp(2*G_0*x) + 8*G_23*exp(2*G_0*x) - 32*G_24*exp(2*G_0*x) + 16*G_25*exp(2*G_0*x) + 16*G_26*exp(2*G_0*x) - G_4*exp(2*G_0*x) - 2*G_6*exp(2*G_0*x) + 2*G_8*exp(2*G_0*x) + G_9*exp(2*G_0*x) + exp(2*G_0*x)) + 8*G_39*exp(2*G_0*x)/(-2*G_10*exp(2*G_0*x) + 2*G_11*exp(2*G_0*x) - 8*G_13*exp(2*G_0*x) + 4*G_15*exp(2*G_0*x) + 4*G_16*exp(2*G_0*x) + 4*G_17*exp(2*G_0*x) - 8*G_18*exp(2*G_0*x) - 4*G_19*exp(2*G_0*x) - G_2*exp(2*G_0*x) - 4*G_20*exp(2*G_0*x) - 4*G_21*exp(2*G_0*x) + 8*G_22*exp(2*G_0*x) + 8*G_23*exp(2*G_0*x) - 32*G_24*exp(2*G_0*x) + 16*G_25*exp(2*G_0*x) + 16*G_26*exp(2*G_0*x) - G_4*exp(2*G_0*x) - 2*G_6*exp(2*G_0*x) + 2*G_8*exp(2*G_0*x) + G_9*exp(2*G_0*x) + exp(2*G_0*x)) - 4*G_39/(-2*G_10*exp(2*G_0*x) + 2*G_11*exp(2*G_0*x) - 8*G_13*exp(2*G_0*x) + 4*G_15*exp(2*G_0*x) + 4*G_16*exp(2*G_0*x) + 4*G_17*exp(2*G_0*x) - 8*G_18*exp(2*G_0*x) - 4*G_19*exp(2*G_0*x) - G_2*exp(2*G_0*x) - 4*G_20*exp(2*G_0*x) - 4*G_21*exp(2*G_0*x) + 8*G_22*exp(2*G_0*x) + 8*G_23*exp(2*G_0*x) - 32*G_24*exp(2*G_0*x) + 16*G_25*exp(2*G_0*x) + 16*G_26*exp(2*G_0*x) - G_4*exp(2*G_0*x) - 2*G_6*exp(2*G_0*x) + 2*G_8*exp(2*G_0*x) + G_9*exp(2*G_0*x) + exp(2*G_0*x)) + 4*G_44*exp(2*G_0*x)/(G_29*exp(2*G_0*x) - 2*G_6*exp(2*G_0*x) + exp(2*G_0*x)) - 4*G_44/(G_29*exp(2*G_0*x) - 2*G_6*exp(2*G_0*x) + exp(2*G_0*x)) - 2*G_45*exp(4*G_0*x)/(-2*G_10*exp(2*G_0*x) + 2*G_11*exp(2*G_0*x) - 8*G_13*exp(2*G_0*x) + 4*G_15*exp(2*G_0*x) + 4*G_16*exp(2*G_0*x) + 4*G_17*exp(2*G_0*x) - 8*G_18*exp(2*G_0*x) - 4*G_19*exp(2*G_0*x) - G_2*exp(2*G_0*x) - 4*G_20*exp(2*G_0*x) - 4*G_21*exp(2*G_0*x) + 8*G_22*exp(2*G_0*x) + 8*G_23*exp(2*G_0*x) - 32*G_24*exp(2*G_0*x) + 16*G_25*exp(2*G_0*x) + 16*G_26*exp(2*G_0*x) - G_4*exp(2*G_0*x) - 2*G_6*exp(2*G_0*x) + 2*G_8*exp(2*G_0*x) + G_9*exp(2*G_0*x) + exp(2*G_0*x)) + 4*G_45*exp(2*G_0*x)/(-2*G_10*exp(2*G_0*x) + 2*G_11*exp(2*G_0*x) - 8*G_13*exp(2*G_0*x) + 4*G_15*exp(2*G_0*x) + 4*G_16*exp(2*G_0*x) + 4*G_17*exp(2*G_0*x) - 8*G_18*exp(2*G_0*x) - 4*G_19*exp(2*G_0*x) - G_2*exp(2*G_0*x) - 4*G_20*exp(2*G_0*x) - 4*G_21*exp(2*G_0*x) + 8*G_22*exp(2*G_0*x) + 8*G_23*exp(2*G_0*x) - 32*G_24*exp(2*G_0*x) + 16*G_25*exp(2*G_0*x) + 16*G_26*exp(2*G_0*x) - G_4*exp(2*G_0*x) - 2*G_6*exp(2*G_0*x) + 2*G_8*exp(2*G_0*x) + G_9*exp(2*G_0*x) + exp(2*G_0*x)) - 2*G_45/(-2*G_10*exp(2*G_0*x) + 2*G_11*exp(2*G_0*x) - 8*G_13*exp(2*G_0*x) + 4*G_15*exp(2*G_0*x) + 4*G_16*exp(2*G_0*x) + 4*G_17*exp(2*G_0*x) - 8*G_18*exp(2*G_0*x) - 4*G_19*exp(2*G_0*x) - G_2*exp(2*G_0*x) - 4*G_20*exp(2*G_0*x) - 4*G_21*exp(2*G_0*x) + 8*G_22*exp(2*G_0*x) + 8*G_23*exp(2*G_0*x) - 32*G_24*exp(2*G_0*x) + 16*G_25*exp(2*G_0*x) + 16*G_26*exp(2*G_0*x) - G_4*exp(2*G_0*x) - 2*G_6*exp(2*G_0*x) + 2*G_8*exp(2*G_0*x) + G_9*exp(2*G_0*x) + exp(2*G_0*x)) - 4*G_45*exp(2*G_0*x)/(2*G_11*exp(2*G_0*x) + 4*G_15*exp(2*G_0*x) - 8*G_18*exp(2*G_0*x) - G_2*exp(2*G_0*x) + G_29*exp(2*G_0*x) - G_30*exp(2*G_0*x) + 4*G_31*exp(2*G_0*x) - 2*G_6*exp(2*G_0*x) + exp(2*G_0*x)) - 2*G_46*exp(4*G_0*x)/(-2*G_10*exp(2*G_0*x) + 2*G_11*exp(2*G_0*x) - 8*G_13*exp(2*G_0*x) + 4*G_15*exp(2*G_0*x) + 4*G_16*exp(2*G_0*x) + 4*G_17*exp(2*G_0*x) - 8*G_18*exp(2*G_0*x) - 4*G_19*exp(2*G_0*x) - G_2*exp(2*G_0*x) - 4*G_20*exp(2*G_0*x) - 4*G_21*exp(2*G_0*x) + 8*G_22*exp(2*G_0*x) + 8*G_23*exp(2*G_0*x) - 32*G_24*exp(2*G_0*x) + 16*G_25*exp(2*G_0*x) + 16*G_26*exp(2*G_0*x) - G_4*exp(2*G_0*x) - 2*G_6*exp(2*G_0*x) + 2*G_8*exp(2*G_0*x) + G_9*exp(2*G_0*x) + exp(2*G_0*x)) + 4*G_46*exp(2*G_0*x)/(-2*G_10*exp(2*G_0*x) + 2*G_11*exp(2*G_0*x) - 8*G_13*exp(2*G_0*x) + 4*G_15*exp(2*G_0*x) + 4*G_16*exp(2*G_0*x) + 4*G_17*exp(2*G_0*x) - 8*G_18*exp(2*G_0*x) - 4*G_19*exp(2*G_0*x) - G_2*exp(2*G_0*x) - 4*G_20*exp(2*G_0*x) - 4*G_21*exp(2*G_0*x) + 8*G_22*exp(2*G_0*x) + 8*G_23*exp(2*G_0*x) - 32*G_24*exp(2*G_0*x) + 16*G_25*exp(2*G_0*x) + 16*G_26*exp(2*G_0*x) - G_4*exp(2*G_0*x) - 2*G_6*exp(2*G_0*x) + 2*G_8*exp(2*G_0*x) + G_9*exp(2*G_0*x) + exp(2*G_0*x)) - 2*G_46/(-2*G_10*exp(2*G_0*x) + 2*G_11*exp(2*G_0*x) - 8*G_13*exp(2*G_0*x) + 4*G_15*exp(2*G_0*x) + 4*G_16*exp(2*G_0*x) + 4*G_17*exp(2*G_0*x) - 8*G_18*exp(2*G_0*x) - 4*G_19*exp(2*G_0*x) - G_2*exp(2*G_0*x) - 4*G_20*exp(2*G_0*x) - 4*G_21*exp(2*G_0*x) + 8*G_22*exp(2*G_0*x) + 8*G_23*exp(2*G_0*x) - 32*G_24*exp(2*G_0*x) + 16*G_25*exp(2*G_0*x) + 16*G_26*exp(2*G_0*x) - G_4*exp(2*G_0*x) - 2*G_6*exp(2*G_0*x) + 2*G_8*exp(2*G_0*x) + G_9*exp(2*G_0*x) + exp(2*G_0*x)) - 2*G_47*exp(4*G_0*x)/(-2*G_10*exp(2*G_0*x) + 2*G_11*exp(2*G_0*x) - 8*G_13*exp(2*G_0*x) + 4*G_15*exp(2*G_0*x) + 4*G_16*exp(2*G_0*x) + 4*G_17*exp(2*G_0*x) - 8*G_18*exp(2*G_0*x) - 4*G_19*exp(2*G_0*x) - G_2*exp(2*G_0*x) - 4*G_20*exp(2*G_0*x) - 4*G_21*exp(2*G_0*x) + 8*G_22*exp(2*G_0*x) + 8*G_23*exp(2*G_0*x) - 32*G_24*exp(2*G_0*x) + 16*G_25*exp(2*G_0*x) + 16*G_26*exp(2*G_0*x) - G_4*exp(2*G_0*x) - 2*G_6*exp(2*G_0*x) + 2*G_8*exp(2*G_0*x) + G_9*exp(2*G_0*x) + exp(2*G_0*x)) + 4*G_47*exp(2*G_0*x)/(-2*G_10*exp(2*G_0*x) + 2*G_11*exp(2*G_0*x) - 8*G_13*exp(2*G_0*x) + 4*G_15*exp(2*G_0*x) + 4*G_16*exp(2*G_0*x) + 4*G_17*exp(2*G_0*x) - 8*G_18*exp(2*G_0*x) - 4*G_19*exp(2*G_0*x) - G_2*exp(2*G_0*x) - 4*G_20*exp(2*G_0*x) - 4*G_21*exp(2*G_0*x) + 8*G_22*exp(2*G_0*x) + 8*G_23*exp(2*G_0*x) - 32*G_24*exp(2*G_0*x) + 16*G_25*exp(2*G_0*x) + 16*G_26*exp(2*G_0*x) - G_4*exp(2*G_0*x) - 2*G_6*exp(2*G_0*x) + 2*G_8*exp(2*G_0*x) + G_9*exp(2*G_0*x) + exp(2*G_0*x)) - 2*G_47/(-2*G_10*exp(2*G_0*x) + 2*G_11*exp(2*G_0*x) - 8*G_13*exp(2*G_0*x) + 4*G_15*exp(2*G_0*x) + 4*G_16*exp(2*G_0*x) + 4*G_17*exp(2*G_0*x) - 8*G_18*exp(2*G_0*x) - 4*G_19*exp(2*G_0*x) - G_2*exp(2*G_0*x) - 4*G_20*exp(2*G_0*x) - 4*G_21*exp(2*G_0*x) + 8*G_22*exp(2*G_0*x) + 8*G_23*exp(2*G_0*x) - 32*G_24*exp(2*G_0*x) + 16*G_25*exp(2*G_0*x) + 16*G_26*exp(2*G_0*x) - G_4*exp(2*G_0*x) - 2*G_6*exp(2*G_0*x) + 2*G_8*exp(2*G_0*x) + G_9*exp(2*G_0*x) + exp(2*G_0*x)) + 2*G_48/(2*G_11*exp(2*G_0*x) + 4*G_15*exp(2*G_0*x) - 8*G_18*exp(2*G_0*x) - G_2*exp(2*G_0*x) + G_29*exp(2*G_0*x) - G_30*exp(2*G_0*x) + 4*G_31*exp(2*G_0*x) - 2*G_6*exp(2*G_0*x) + exp(2*G_0*x)) + 2*G_49*exp(4*G_0*x)/(2*G_11*exp(2*G_0*x) + 4*G_15*exp(2*G_0*x) - 8*G_18*exp(2*G_0*x) - G_2*exp(2*G_0*x) + G_29*exp(2*G_0*x) - G_30*exp(2*G_0*x) + 4*G_31*exp(2*G_0*x) - 2*G_6*exp(2*G_0*x) + exp(2*G_0*x)) + 2*G_50*exp(4*G_0*x)/(-2*G_10*exp(2*G_0*x) + 2*G_11*exp(2*G_0*x) - 8*G_13*exp(2*G_0*x) + 4*G_15*exp(2*G_0*x) + 4*G_16*exp(2*G_0*x) + 4*G_17*exp(2*G_0*x) - 8*G_18*exp(2*G_0*x) - 4*G_19*exp(2*G_0*x) - G_2*exp(2*G_0*x) - 4*G_20*exp(2*G_0*x) - 4*G_21*exp(2*G_0*x) + 8*G_22*exp(2*G_0*x) + 8*G_23*exp(2*G_0*x) - 32*G_24*exp(2*G_0*x) + 16*G_25*exp(2*G_0*x) + 16*G_26*exp(2*G_0*x) - G_4*exp(2*G_0*x) - 2*G_6*exp(2*G_0*x) + 2*G_8*exp(2*G_0*x) + G_9*exp(2*G_0*x) + exp(2*G_0*x)) - 4*G_50*exp(2*G_0*x)/(-2*G_10*exp(2*G_0*x) + 2*G_11*exp(2*G_0*x) - 8*G_13*exp(2*G_0*x) + 4*G_15*exp(2*G_0*x) + 4*G_16*exp(2*G_0*x) + 4*G_17*exp(2*G_0*x) - 8*G_18*exp(2*G_0*x) - 4*G_19*exp(2*G_0*x) - G_2*exp(2*G_0*x) - 4*G_20*exp(2*G_0*x) - 4*G_21*exp(2*G_0*x) + 8*G_22*exp(2*G_0*x) + 8*G_23*exp(2*G_0*x) - 32*G_24*exp(2*G_0*x) + 16*G_25*exp(2*G_0*x) + 16*G_26*exp(2*G_0*x) - G_4*exp(2*G_0*x) - 2*G_6*exp(2*G_0*x) + 2*G_8*exp(2*G_0*x) + G_9*exp(2*G_0*x) + exp(2*G_0*x)) + 2*G_50/(-2*G_10*exp(2*G_0*x) + 2*G_11*exp(2*G_0*x) - 8*G_13*exp(2*G_0*x) + 4*G_15*exp(2*G_0*x) + 4*G_16*exp(2*G_0*x) + 4*G_17*exp(2*G_0*x) - 8*G_18*exp(2*G_0*x) - 4*G_19*exp(2*G_0*x) - G_2*exp(2*G_0*x) - 4*G_20*exp(2*G_0*x) - 4*G_21*exp(2*G_0*x) + 8*G_22*exp(2*G_0*x) + 8*G_23*exp(2*G_0*x) - 32*G_24*exp(2*G_0*x) + 16*G_25*exp(2*G_0*x) + 16*G_26*exp(2*G_0*x) - G_4*exp(2*G_0*x) - 2*G_6*exp(2*G_0*x) + 2*G_8*exp(2*G_0*x) + G_9*exp(2*G_0*x) + exp(2*G_0*x)) + 4*G_51*exp(4*G_0*x)/(-2*G_10*exp(2*G_0*x) + 2*G_11*exp(2*G_0*x) - 8*G_13*exp(2*G_0*x) + 4*G_15*exp(2*G_0*x) + 4*G_16*exp(2*G_0*x) + 4*G_17*exp(2*G_0*x) - 8*G_18*exp(2*G_0*x) - 4*G_19*exp(2*G_0*x) - G_2*exp(2*G_0*x) - 4*G_20*exp(2*G_0*x) - 4*G_21*exp(2*G_0*x) + 8*G_22*exp(2*G_0*x) + 8*G_23*exp(2*G_0*x) - 32*G_24*exp(2*G_0*x) + 16*G_25*exp(2*G_0*x) + 16*G_26*exp(2*G_0*x) - G_4*exp(2*G_0*x) - 2*G_6*exp(2*G_0*x) + 2*G_8*exp(2*G_0*x) + G_9*exp(2*G_0*x) + exp(2*G_0*x)) - 8*G_51*exp(2*G_0*x)/(-2*G_10*exp(2*G_0*x) + 2*G_11*exp(2*G_0*x) - 8*G_13*exp(2*G_0*x) + 4*G_15*exp(2*G_0*x) + 4*G_16*exp(2*G_0*x) + 4*G_17*exp(2*G_0*x) - 8*G_18*exp(2*G_0*x) - 4*G_19*exp(2*G_0*x) - G_2*exp(2*G_0*x) - 4*G_20*exp(2*G_0*x) - 4*G_21*exp(2*G_0*x) + 8*G_22*exp(2*G_0*x) + 8*G_23*exp(2*G_0*x) - 32*G_24*exp(2*G_0*x) + 16*G_25*exp(2*G_0*x) + 16*G_26*exp(2*G_0*x) - G_4*exp(2*G_0*x) - 2*G_6*exp(2*G_0*x) + 2*G_8*exp(2*G_0*x) + G_9*exp(2*G_0*x) + exp(2*G_0*x)) + 4*G_51/(-2*G_10*exp(2*G_0*x) + 2*G_11*exp(2*G_0*x) - 8*G_13*exp(2*G_0*x) + 4*G_15*exp(2*G_0*x) + 4*G_16*exp(2*G_0*x) + 4*G_17*exp(2*G_0*x) - 8*G_18*exp(2*G_0*x) - 4*G_19*exp(2*G_0*x) - G_2*exp(2*G_0*x) - 4*G_20*exp(2*G_0*x) - 4*G_21*exp(2*G_0*x) + 8*G_22*exp(2*G_0*x) + 8*G_23*exp(2*G_0*x) - 32*G_24*exp(2*G_0*x) + 16*G_25*exp(2*G_0*x) + 16*G_26*exp(2*G_0*x) - G_4*exp(2*G_0*x) - 2*G_6*exp(2*G_0*x) + 2*G_8*exp(2*G_0*x) + G_9*exp(2*G_0*x) + exp(2*G_0*x)) + 8*G_51*exp(2*G_0*x)/(2*G_11*exp(2*G_0*x) + 4*G_15*exp(2*G_0*x) - 8*G_18*exp(2*G_0*x) - G_2*exp(2*G_0*x) + G_29*exp(2*G_0*x) - G_30*exp(2*G_0*x) + 4*G_31*exp(2*G_0*x) - 2*G_6*exp(2*G_0*x) + exp(2*G_0*x)) + 4*G_52*exp(4*G_0*x)/(-2*G_10*exp(2*G_0*x) + 2*G_11*exp(2*G_0*x) - 8*G_13*exp(2*G_0*x) + 4*G_15*exp(2*G_0*x) + 4*G_16*exp(2*G_0*x) + 4*G_17*exp(2*G_0*x) - 8*G_18*exp(2*G_0*x) - 4*G_19*exp(2*G_0*x) - G_2*exp(2*G_0*x) - 4*G_20*exp(2*G_0*x) - 4*G_21*exp(2*G_0*x) + 8*G_22*exp(2*G_0*x) + 8*G_23*exp(2*G_0*x) - 32*G_24*exp(2*G_0*x) + 16*G_25*exp(2*G_0*x) + 16*G_26*exp(2*G_0*x) - G_4*exp(2*G_0*x) - 2*G_6*exp(2*G_0*x) + 2*G_8*exp(2*G_0*x) + G_9*exp(2*G_0*x) + exp(2*G_0*x)) - 8*G_52*exp(2*G_0*x)/(-2*G_10*exp(2*G_0*x) + 2*G_11*exp(2*G_0*x) - 8*G_13*exp(2*G_0*x) + 4*G_15*exp(2*G_0*x) + 4*G_16*exp(2*G_0*x) + 4*G_17*exp(2*G_0*x) - 8*G_18*exp(2*G_0*x) - 4*G_19*exp(2*G_0*x) - G_2*exp(2*G_0*x) - 4*G_20*exp(2*G_0*x) - 4*G_21*exp(2*G_0*x) + 8*G_22*exp(2*G_0*x) + 8*G_23*exp(2*G_0*x) - 32*G_24*exp(2*G_0*x) + 16*G_25*exp(2*G_0*x) + 16*G_26*exp(2*G_0*x) - G_4*exp(2*G_0*x) - 2*G_6*exp(2*G_0*x) + 2*G_8*exp(2*G_0*x) + G_9*exp(2*G_0*x) + exp(2*G_0*x)) + 4*G_52/(-2*G_10*exp(2*G_0*x) + 2*G_11*exp(2*G_0*x) - 8*G_13*exp(2*G_0*x) + 4*G_15*exp(2*G_0*x) + 4*G_16*exp(2*G_0*x) + 4*G_17*exp(2*G_0*x) - 8*G_18*exp(2*G_0*x) - 4*G_19*exp(2*G_0*x) - G_2*exp(2*G_0*x) - 4*G_20*exp(2*G_0*x) - 4*G_21*exp(2*G_0*x) + 8*G_22*exp(2*G_0*x) + 8*G_23*exp(2*G_0*x) - 32*G_24*exp(2*G_0*x) + 16*G_25*exp(2*G_0*x) + 16*G_26*exp(2*G_0*x) - G_4*exp(2*G_0*x) - 2*G_6*exp(2*G_0*x) + 2*G_8*exp(2*G_0*x) + G_9*exp(2*G_0*x) + exp(2*G_0*x)) - 8*G_53*exp(4*G_0*x)/(-2*G_10*exp(2*G_0*x) + 2*G_11*exp(2*G_0*x) - 8*G_13*exp(2*G_0*x) + 4*G_15*exp(2*G_0*x) + 4*G_16*exp(2*G_0*x) + 4*G_17*exp(2*G_0*x) - 8*G_18*exp(2*G_0*x) - 4*G_19*exp(2*G_0*x) - G_2*exp(2*G_0*x) - 4*G_20*exp(2*G_0*x) - 4*G_21*exp(2*G_0*x) + 8*G_22*exp(2*G_0*x) + 8*G_23*exp(2*G_0*x) - 32*G_24*exp(2*G_0*x) + 16*G_25*exp(2*G_0*x) + 16*G_26*exp(2*G_0*x) - G_4*exp(2*G_0*x) - 2*G_6*exp(2*G_0*x) + 2*G_8*exp(2*G_0*x) + G_9*exp(2*G_0*x) + exp(2*G_0*x)) + 16*G_53*exp(2*G_0*x)/(-2*G_10*exp(2*G_0*x) + 2*G_11*exp(2*G_0*x) - 8*G_13*exp(2*G_0*x) + 4*G_15*exp(2*G_0*x) + 4*G_16*exp(2*G_0*x) + 4*G_17*exp(2*G_0*x) - 8*G_18*exp(2*G_0*x) - 4*G_19*exp(2*G_0*x) - G_2*exp(2*G_0*x) - 4*G_20*exp(2*G_0*x) - 4*G_21*exp(2*G_0*x) + 8*G_22*exp(2*G_0*x) + 8*G_23*exp(2*G_0*x) - 32*G_24*exp(2*G_0*x) + 16*G_25*exp(2*G_0*x) + 16*G_26*exp(2*G_0*x) - G_4*exp(2*G_0*x) - 2*G_6*exp(2*G_0*x) + 2*G_8*exp(2*G_0*x) + G_9*exp(2*G_0*x) + exp(2*G_0*x)) - 8*G_53/(-2*G_10*exp(2*G_0*x) + 2*G_11*exp(2*G_0*x) - 8*G_13*exp(2*G_0*x) + 4*G_15*exp(2*G_0*x) + 4*G_16*exp(2*G_0*x) + 4*G_17*exp(2*G_0*x) - 8*G_18*exp(2*G_0*x) - 4*G_19*exp(2*G_0*x) - G_2*exp(2*G_0*x) - 4*G_20*exp(2*G_0*x) - 4*G_21*exp(2*G_0*x) + 8*G_22*exp(2*G_0*x) + 8*G_23*exp(2*G_0*x) - 32*G_24*exp(2*G_0*x) + 16*G_25*exp(2*G_0*x) + 16*G_26*exp(2*G_0*x) - G_4*exp(2*G_0*x) - 2*G_6*exp(2*G_0*x) + 2*G_8*exp(2*G_0*x) + G_9*exp(2*G_0*x) + exp(2*G_0*x)) - 4*G_55*exp(4*G_0*x)/(G_29*exp(2*G_0*x) - 2*G_6*exp(2*G_0*x) + exp(2*G_0*x)) + 4*G_55*exp(2*G_0*x)/(G_29*exp(2*G_0*x) - 2*G_6*exp(2*G_0*x) + exp(2*G_0*x)) - 16*G_56*exp(4*G_0*x)/(-2*G_10*exp(2*G_0*x) + 2*G_11*exp(2*G_0*x) - 8*G_13*exp(2*G_0*x) + 4*G_15*exp(2*G_0*x) + 4*G_16*exp(2*G_0*x) + 4*G_17*exp(2*G_0*x) - 8*G_18*exp(2*G_0*x) - 4*G_19*exp(2*G_0*x) - G_2*exp(2*G_0*x) - 4*G_20*exp(2*G_0*x) - 4*G_21*exp(2*G_0*x) + 8*G_22*exp(2*G_0*x) + 8*G_23*exp(2*G_0*x) - 32*G_24*exp(2*G_0*x) + 16*G_25*exp(2*G_0*x) + 16*G_26*exp(2*G_0*x) - G_4*exp(2*G_0*x) - 2*G_6*exp(2*G_0*x) + 2*G_8*exp(2*G_0*x) + G_9*exp(2*G_0*x) + exp(2*G_0*x)) + 32*G_56*exp(2*G_0*x)/(-2*G_10*exp(2*G_0*x) + 2*G_11*exp(2*G_0*x) - 8*G_13*exp(2*G_0*x) + 4*G_15*exp(2*G_0*x) + 4*G_16*exp(2*G_0*x) + 4*G_17*exp(2*G_0*x) - 8*G_18*exp(2*G_0*x) - 4*G_19*exp(2*G_0*x) - G_2*exp(2*G_0*x) - 4*G_20*exp(2*G_0*x) - 4*G_21*exp(2*G_0*x) + 8*G_22*exp(2*G_0*x) + 8*G_23*exp(2*G_0*x) - 32*G_24*exp(2*G_0*x) + 16*G_25*exp(2*G_0*x) + 16*G_26*exp(2*G_0*x) - G_4*exp(2*G_0*x) - 2*G_6*exp(2*G_0*x) + 2*G_8*exp(2*G_0*x) + G_9*exp(2*G_0*x) + exp(2*G_0*x)) - 16*G_56/(-2*G_10*exp(2*G_0*x) + 2*G_11*exp(2*G_0*x) - 8*G_13*exp(2*G_0*x) + 4*G_15*exp(2*G_0*x) + 4*G_16*exp(2*G_0*x) + 4*G_17*exp(2*G_0*x) - 8*G_18*exp(2*G_0*x) - 4*G_19*exp(2*G_0*x) - G_2*exp(2*G_0*x) - 4*G_20*exp(2*G_0*x) - 4*G_21*exp(2*G_0*x) + 8*G_22*exp(2*G_0*x) + 8*G_23*exp(2*G_0*x) - 32*G_24*exp(2*G_0*x) + 16*G_25*exp(2*G_0*x) + 16*G_26*exp(2*G_0*x) - G_4*exp(2*G_0*x) - 2*G_6*exp(2*G_0*x) + 2*G_8*exp(2*G_0*x) + G_9*exp(2*G_0*x) + exp(2*G_0*x)) - 8*G_57*exp(4*G_0*x)/(-2*G_10*exp(2*G_0*x) + 2*G_11*exp(2*G_0*x) - 8*G_13*exp(2*G_0*x) + 4*G_15*exp(2*G_0*x) + 4*G_16*exp(2*G_0*x) + 4*G_17*exp(2*G_0*x) - 8*G_18*exp(2*G_0*x) - 4*G_19*exp(2*G_0*x) - G_2*exp(2*G_0*x) - 4*G_20*exp(2*G_0*x) - 4*G_21*exp(2*G_0*x) + 8*G_22*exp(2*G_0*x) + 8*G_23*exp(2*G_0*x) - 32*G_24*exp(2*G_0*x) + 16*G_25*exp(2*G_0*x) + 16*G_26*exp(2*G_0*x) - G_4*exp(2*G_0*x) - 2*G_6*exp(2*G_0*x) + 2*G_8*exp(2*G_0*x) + G_9*exp(2*G_0*x) + exp(2*G_0*x)) + 16*G_57*exp(2*G_0*x)/(-2*G_10*exp(2*G_0*x) + 2*G_11*exp(2*G_0*x) - 8*G_13*exp(2*G_0*x) + 4*G_15*exp(2*G_0*x) + 4*G_16*exp(2*G_0*x) + 4*G_17*exp(2*G_0*x) - 8*G_18*exp(2*G_0*x) - 4*G_19*exp(2*G_0*x) - G_2*exp(2*G_0*x) - 4*G_20*exp(2*G_0*x) - 4*G_21*exp(2*G_0*x) + 8*G_22*exp(2*G_0*x) + 8*G_23*exp(2*G_0*x) - 32*G_24*exp(2*G_0*x) + 16*G_25*exp(2*G_0*x) + 16*G_26*exp(2*G_0*x) - G_4*exp(2*G_0*x) - 2*G_6*exp(2*G_0*x) + 2*G_8*exp(2*G_0*x) + G_9*exp(2*G_0*x) + exp(2*G_0*x)) - 8*G_57/(-2*G_10*exp(2*G_0*x) + 2*G_11*exp(2*G_0*x) - 8*G_13*exp(2*G_0*x) + 4*G_15*exp(2*G_0*x) + 4*G_16*exp(2*G_0*x) + 4*G_17*exp(2*G_0*x) - 8*G_18*exp(2*G_0*x) - 4*G_19*exp(2*G_0*x) - G_2*exp(2*G_0*x) - 4*G_20*exp(2*G_0*x) - 4*G_21*exp(2*G_0*x) + 8*G_22*exp(2*G_0*x) + 8*G_23*exp(2*G_0*x) - 32*G_24*exp(2*G_0*x) + 16*G_25*exp(2*G_0*x) + 16*G_26*exp(2*G_0*x) - G_4*exp(2*G_0*x) - 2*G_6*exp(2*G_0*x) + 2*G_8*exp(2*G_0*x) + G_9*exp(2*G_0*x) + exp(2*G_0*x)) + 8*G_58*exp(4*G_0*x)/(-2*G_10*exp(2*G_0*x) + 2*G_11*exp(2*G_0*x) - 8*G_13*exp(2*G_0*x) + 4*G_15*exp(2*G_0*x) + 4*G_16*exp(2*G_0*x) + 4*G_17*exp(2*G_0*x) - 8*G_18*exp(2*G_0*x) - 4*G_19*exp(2*G_0*x) - G_2*exp(2*G_0*x) - 4*G_20*exp(2*G_0*x) - 4*G_21*exp(2*G_0*x) + 8*G_22*exp(2*G_0*x) + 8*G_23*exp(2*G_0*x) - 32*G_24*exp(2*G_0*x) + 16*G_25*exp(2*G_0*x) + 16*G_26*exp(2*G_0*x) - G_4*exp(2*G_0*x) - 2*G_6*exp(2*G_0*x) + 2*G_8*exp(2*G_0*x) + G_9*exp(2*G_0*x) + exp(2*G_0*x)) - 16*G_58*exp(2*G_0*x)/(-2*G_10*exp(2*G_0*x) + 2*G_11*exp(2*G_0*x) - 8*G_13*exp(2*G_0*x) + 4*G_15*exp(2*G_0*x) + 4*G_16*exp(2*G_0*x) + 4*G_17*exp(2*G_0*x) - 8*G_18*exp(2*G_0*x) - 4*G_19*exp(2*G_0*x) - G_2*exp(2*G_0*x) - 4*G_20*exp(2*G_0*x) - 4*G_21*exp(2*G_0*x) + 8*G_22*exp(2*G_0*x) + 8*G_23*exp(2*G_0*x) - 32*G_24*exp(2*G_0*x) + 16*G_25*exp(2*G_0*x) + 16*G_26*exp(2*G_0*x) - G_4*exp(2*G_0*x) - 2*G_6*exp(2*G_0*x) + 2*G_8*exp(2*G_0*x) + G_9*exp(2*G_0*x) + exp(2*G_0*x)) + 8*G_58/(-2*G_10*exp(2*G_0*x) + 2*G_11*exp(2*G_0*x) - 8*G_13*exp(2*G_0*x) + 4*G_15*exp(2*G_0*x) + 4*G_16*exp(2*G_0*x) + 4*G_17*exp(2*G_0*x) - 8*G_18*exp(2*G_0*x) - 4*G_19*exp(2*G_0*x) - G_2*exp(2*G_0*x) - 4*G_20*exp(2*G_0*x) - 4*G_21*exp(2*G_0*x) + 8*G_22*exp(2*G_0*x) + 8*G_23*exp(2*G_0*x) - 32*G_24*exp(2*G_0*x) + 16*G_25*exp(2*G_0*x) + 16*G_26*exp(2*G_0*x) - G_4*exp(2*G_0*x) - 2*G_6*exp(2*G_0*x) + 2*G_8*exp(2*G_0*x) + G_9*exp(2*G_0*x) + exp(2*G_0*x)) + 8*G_59*exp(4*G_0*x)/(-2*G_10*exp(2*G_0*x) + 2*G_11*exp(2*G_0*x) - 8*G_13*exp(2*G_0*x) + 4*G_15*exp(2*G_0*x) + 4*G_16*exp(2*G_0*x) + 4*G_17*exp(2*G_0*x) - 8*G_18*exp(2*G_0*x) - 4*G_19*exp(2*G_0*x) - G_2*exp(2*G_0*x) - 4*G_20*exp(2*G_0*x) - 4*G_21*exp(2*G_0*x) + 8*G_22*exp(2*G_0*x) + 8*G_23*exp(2*G_0*x) - 32*G_24*exp(2*G_0*x) + 16*G_25*exp(2*G_0*x) + 16*G_26*exp(2*G_0*x) - G_4*exp(2*G_0*x) - 2*G_6*exp(2*G_0*x) + 2*G_8*exp(2*G_0*x) + G_9*exp(2*G_0*x) + exp(2*G_0*x)) - 16*G_59*exp(2*G_0*x)/(-2*G_10*exp(2*G_0*x) + 2*G_11*exp(2*G_0*x) - 8*G_13*exp(2*G_0*x) + 4*G_15*exp(2*G_0*x) + 4*G_16*exp(2*G_0*x) + 4*G_17*exp(2*G_0*x) - 8*G_18*exp(2*G_0*x) - 4*G_19*exp(2*G_0*x) - G_2*exp(2*G_0*x) - 4*G_20*exp(2*G_0*x) - 4*G_21*exp(2*G_0*x) + 8*G_22*exp(2*G_0*x) + 8*G_23*exp(2*G_0*x) - 32*G_24*exp(2*G_0*x) + 16*G_25*exp(2*G_0*x) + 16*G_26*exp(2*G_0*x) - G_4*exp(2*G_0*x) - 2*G_6*exp(2*G_0*x) + 2*G_8*exp(2*G_0*x) + G_9*exp(2*G_0*x) + exp(2*G_0*x)) + 8*G_59/(-2*G_10*exp(2*G_0*x) + 2*G_11*exp(2*G_0*x) - 8*G_13*exp(2*G_0*x) + 4*G_15*exp(2*G_0*x) + 4*G_16*exp(2*G_0*x) + 4*G_17*exp(2*G_0*x) - 8*G_18*exp(2*G_0*x) - 4*G_19*exp(2*G_0*x) - G_2*exp(2*G_0*x) - 4*G_20*exp(2*G_0*x) - 4*G_21*exp(2*G_0*x) + 8*G_22*exp(2*G_0*x) + 8*G_23*exp(2*G_0*x) - 32*G_24*exp(2*G_0*x) + 16*G_25*exp(2*G_0*x) + 16*G_26*exp(2*G_0*x) - G_4*exp(2*G_0*x) - 2*G_6*exp(2*G_0*x) + 2*G_8*exp(2*G_0*x) + G_9*exp(2*G_0*x) + exp(2*G_0*x)) + 16*G_60*exp(4*G_0*x)/(-2*G_10*exp(2*G_0*x) + 2*G_11*exp(2*G_0*x) - 8*G_13*exp(2*G_0*x) + 4*G_15*exp(2*G_0*x) + 4*G_16*exp(2*G_0*x) + 4*G_17*exp(2*G_0*x) - 8*G_18*exp(2*G_0*x) - 4*G_19*exp(2*G_0*x) - G_2*exp(2*G_0*x) - 4*G_20*exp(2*G_0*x) - 4*G_21*exp(2*G_0*x) + 8*G_22*exp(2*G_0*x) + 8*G_23*exp(2*G_0*x) - 32*G_24*exp(2*G_0*x) + 16*G_25*exp(2*G_0*x) + 16*G_26*exp(2*G_0*x) - G_4*exp(2*G_0*x) - 2*G_6*exp(2*G_0*x) + 2*G_8*exp(2*G_0*x) + G_9*exp(2*G_0*x) + exp(2*G_0*x)) - 32*G_60*exp(2*G_0*x)/(-2*G_10*exp(2*G_0*x) + 2*G_11*exp(2*G_0*x) - 8*G_13*exp(2*G_0*x) + 4*G_15*exp(2*G_0*x) + 4*G_16*exp(2*G_0*x) + 4*G_17*exp(2*G_0*x) - 8*G_18*exp(2*G_0*x) - 4*G_19*exp(2*G_0*x) - G_2*exp(2*G_0*x) - 4*G_20*exp(2*G_0*x) - 4*G_21*exp(2*G_0*x) + 8*G_22*exp(2*G_0*x) + 8*G_23*exp(2*G_0*x) - 32*G_24*exp(2*G_0*x) + 16*G_25*exp(2*G_0*x) + 16*G_26*exp(2*G_0*x) - G_4*exp(2*G_0*x) - 2*G_6*exp(2*G_0*x) + 2*G_8*exp(2*G_0*x) + G_9*exp(2*G_0*x) + exp(2*G_0*x)) + 16*G_60/(-2*G_10*exp(2*G_0*x) + 2*G_11*exp(2*G_0*x) - 8*G_13*exp(2*G_0*x) + 4*G_15*exp(2*G_0*x) + 4*G_16*exp(2*G_0*x) + 4*G_17*exp(2*G_0*x) - 8*G_18*exp(2*G_0*x) - 4*G_19*exp(2*G_0*x) - G_2*exp(2*G_0*x) - 4*G_20*exp(2*G_0*x) - 4*G_21*exp(2*G_0*x) + 8*G_22*exp(2*G_0*x) + 8*G_23*exp(2*G_0*x) - 32*G_24*exp(2*G_0*x) + 16*G_25*exp(2*G_0*x) + 16*G_26*exp(2*G_0*x) - G_4*exp(2*G_0*x) - 2*G_6*exp(2*G_0*x) + 2*G_8*exp(2*G_0*x) + G_9*exp(2*G_0*x) + exp(2*G_0*x))"
      ]
     },
     "execution_count": 114,
     "metadata": {},
     "output_type": "execute_result"
    }
   ],
   "source": [
    "big_result"
   ]
  },
  {
   "cell_type": "code",
   "execution_count": 115,
   "id": "9e7b7907-9ac5-4f3f-bdaa-69692a9424f8",
   "metadata": {},
   "outputs": [],
   "source": [
    "#simplify = big_result.simplify()"
   ]
  },
  {
   "cell_type": "code",
   "execution_count": 116,
   "id": "58aecfaa-4ed5-47c8-bbde-fb98a00a583d",
   "metadata": {},
   "outputs": [],
   "source": [
    "#simplify"
   ]
  },
  {
   "cell_type": "code",
   "execution_count": 117,
   "id": "c19686d6-ba6b-46d0-a12a-a3bb67795f6e",
   "metadata": {},
   "outputs": [
    {
     "data": {
      "text/plain": [
       "{k_1: G_0,\n",
       " exp(4*L_0*k_0): G_1,\n",
       " G_1: G_2,\n",
       " exp(8*L_1*k_1): G_3,\n",
       " G_3: G_4,\n",
       " exp(2*L_1*k_1): G_5,\n",
       " G_5: G_6,\n",
       " exp(6*L_1*k_1): G_7,\n",
       " G_7: G_8,\n",
       " G_1*G_3: G_9,\n",
       " G_1*G_7: G_10,\n",
       " G_1*G_5: G_11,\n",
       " exp(4*L_1*k_1): G_12,\n",
       " G_12*L_1*k_1: G_13,\n",
       " exp(2*L_0*k_0): G_14,\n",
       " G_14*L_0*k_0: G_15,\n",
       " G_5*L_1*k_1: G_16,\n",
       " G_7*L_1*k_1: G_17,\n",
       " G_14*G_5*L_0*k_0: G_18,\n",
       " G_14*G_3*L_0*k_0: G_19,\n",
       " G_1*G_5*L_1*k_1: G_20,\n",
       " G_1*G_7*L_1*k_1: G_21,\n",
       " G_14*G_7*L_0*k_0: G_22,\n",
       " G_1*G_12*L_1*k_1: G_23,\n",
       " G_12*G_14*L_0*L_1*k_0*k_1: G_24,\n",
       " G_14*G_5*L_0*L_1*k_0*k_1: G_25,\n",
       " G_14*G_7*L_0*L_1*k_0*k_1: G_26,\n",
       " G_12*N_1*k_1: G_27,\n",
       " G_5*N_0*k_0: G_28,\n",
       " G_12: G_29,\n",
       " G_1*G_12: G_30,\n",
       " G_12*G_14*L_0*k_0: G_31,\n",
       " G_12*N_0*k_0: G_32,\n",
       " N_0*k_0: G_33,\n",
       " G_7*N_0*k_0: G_34,\n",
       " G_5*N_1*k_1: G_35,\n",
       " G_7*N_1*k_1: G_36,\n",
       " G_12*G_14*N_0*k_0: G_37,\n",
       " G_14*N_0*k_0: G_38,\n",
       " G_14*G_7*N_0*k_0: G_39,\n",
       " sqrt(N_0*k_0/(4*L_0*k_0*exp(2*L_0*k_0) - exp(4*L_0*k_0) + 1)): G_40,\n",
       " sqrt(4*L_0*N_1*k_0*k_1*exp(2*L_0*k_0)*exp(4*L_1*k_1)/(16*L_0*L_1*k_0*k_1*exp(2*L_0*k_0)*exp(2*L_1*k_1) - 4*L_0*k_0*exp(2*L_0*k_0)*exp(4*L_1*k_1) + 4*L_0*k_0*exp(2*L_0*k_0) - 4*L_1*k_1*exp(4*L_0*k_0)*exp(2*L_1*k_1) + 4*L_1*k_1*exp(2*L_1*k_1) + exp(4*L_0*k_0)*exp(4*L_1*k_1) - exp(4*L_0*k_0) - exp(4*L_1*k_1) + 1) - 8*L_0*N_1*k_0*k_1*exp(2*L_0*k_0)*exp(2*L_1*k_1)/(16*L_0*L_1*k_0*k_1*exp(2*L_0*k_0)*exp(2*L_1*k_1) - 4*L_0*k_0*exp(2*L_0*k_0)*exp(4*L_1*k_1) + 4*L_0*k_0*exp(2*L_0*k_0) - 4*L_1*k_1*exp(4*L_0*k_0)*exp(2*L_1*k_1) + 4*L_1*k_1*exp(2*L_1*k_1) + exp(4*L_0*k_0)*exp(4*L_1*k_1) - exp(4*L_0*k_0) - exp(4*L_1*k_1) + 1) + 4*L_0*N_1*k_0*k_1*exp(2*L_0*k_0)/(16*L_0*L_1*k_0*k_1*exp(2*L_0*k_0)*exp(2*L_1*k_1) - 4*L_0*k_0*exp(2*L_0*k_0)*exp(4*L_1*k_1) + 4*L_0*k_0*exp(2*L_0*k_0) - 4*L_1*k_1*exp(4*L_0*k_0)*exp(2*L_1*k_1) + 4*L_1*k_1*exp(2*L_1*k_1) + exp(4*L_0*k_0)*exp(4*L_1*k_1) - exp(4*L_0*k_0) - exp(4*L_1*k_1) + 1) - 4*L_1*N_0*k_0*k_1*exp(4*L_0*k_0)*exp(2*L_1*k_1)/(16*L_0*L_1*k_0*k_1*exp(2*L_0*k_0)*exp(2*L_1*k_1) - 4*L_0*k_0*exp(2*L_0*k_0)*exp(4*L_1*k_1) + 4*L_0*k_0*exp(2*L_0*k_0) - 4*L_1*k_1*exp(4*L_0*k_0)*exp(2*L_1*k_1) + 4*L_1*k_1*exp(2*L_1*k_1) + exp(4*L_0*k_0)*exp(4*L_1*k_1) - exp(4*L_0*k_0) - exp(4*L_1*k_1) + 1) + 8*L_1*N_0*k_0*k_1*exp(2*L_0*k_0)*exp(2*L_1*k_1)/(16*L_0*L_1*k_0*k_1*exp(2*L_0*k_0)*exp(2*L_1*k_1) - 4*L_0*k_0*exp(2*L_0*k_0)*exp(4*L_1*k_1) + 4*L_0*k_0*exp(2*L_0*k_0) - 4*L_1*k_1*exp(4*L_0*k_0)*exp(2*L_1*k_1) + 4*L_1*k_1*exp(2*L_1*k_1) + exp(4*L_0*k_0)*exp(4*L_1*k_1) - exp(4*L_0*k_0) - exp(4*L_1*k_1) + 1) - 4*L_1*N_0*k_0*k_1*exp(2*L_1*k_1)/(16*L_0*L_1*k_0*k_1*exp(2*L_0*k_0)*exp(2*L_1*k_1) - 4*L_0*k_0*exp(2*L_0*k_0)*exp(4*L_1*k_1) + 4*L_0*k_0*exp(2*L_0*k_0) - 4*L_1*k_1*exp(4*L_0*k_0)*exp(2*L_1*k_1) + 4*L_1*k_1*exp(2*L_1*k_1) + exp(4*L_0*k_0)*exp(4*L_1*k_1) - exp(4*L_0*k_0) - exp(4*L_1*k_1) + 1) + N_0*k_0*exp(4*L_0*k_0)*exp(4*L_1*k_1)/(16*L_0*L_1*k_0*k_1*exp(2*L_0*k_0)*exp(2*L_1*k_1) - 4*L_0*k_0*exp(2*L_0*k_0)*exp(4*L_1*k_1) + 4*L_0*k_0*exp(2*L_0*k_0) - 4*L_1*k_1*exp(4*L_0*k_0)*exp(2*L_1*k_1) + 4*L_1*k_1*exp(2*L_1*k_1) + exp(4*L_0*k_0)*exp(4*L_1*k_1) - exp(4*L_0*k_0) - exp(4*L_1*k_1) + 1) - N_0*k_0*exp(4*L_0*k_0)/(16*L_0*L_1*k_0*k_1*exp(2*L_0*k_0)*exp(2*L_1*k_1) - 4*L_0*k_0*exp(2*L_0*k_0)*exp(4*L_1*k_1) + 4*L_0*k_0*exp(2*L_0*k_0) - 4*L_1*k_1*exp(4*L_0*k_0)*exp(2*L_1*k_1) + 4*L_1*k_1*exp(2*L_1*k_1) + exp(4*L_0*k_0)*exp(4*L_1*k_1) - exp(4*L_0*k_0) - exp(4*L_1*k_1) + 1) - 2*N_0*k_0*exp(2*L_0*k_0)*exp(4*L_1*k_1)/(16*L_0*L_1*k_0*k_1*exp(2*L_0*k_0)*exp(2*L_1*k_1) - 4*L_0*k_0*exp(2*L_0*k_0)*exp(4*L_1*k_1) + 4*L_0*k_0*exp(2*L_0*k_0) - 4*L_1*k_1*exp(4*L_0*k_0)*exp(2*L_1*k_1) + 4*L_1*k_1*exp(2*L_1*k_1) + exp(4*L_0*k_0)*exp(4*L_1*k_1) - exp(4*L_0*k_0) - exp(4*L_1*k_1) + 1) + 2*N_0*k_0*exp(2*L_0*k_0)/(16*L_0*L_1*k_0*k_1*exp(2*L_0*k_0)*exp(2*L_1*k_1) - 4*L_0*k_0*exp(2*L_0*k_0)*exp(4*L_1*k_1) + 4*L_0*k_0*exp(2*L_0*k_0) - 4*L_1*k_1*exp(4*L_0*k_0)*exp(2*L_1*k_1) + 4*L_1*k_1*exp(2*L_1*k_1) + exp(4*L_0*k_0)*exp(4*L_1*k_1) - exp(4*L_0*k_0) - exp(4*L_1*k_1) + 1) + N_0*k_0*exp(4*L_1*k_1)/(16*L_0*L_1*k_0*k_1*exp(2*L_0*k_0)*exp(2*L_1*k_1) - 4*L_0*k_0*exp(2*L_0*k_0)*exp(4*L_1*k_1) + 4*L_0*k_0*exp(2*L_0*k_0) - 4*L_1*k_1*exp(4*L_0*k_0)*exp(2*L_1*k_1) + 4*L_1*k_1*exp(2*L_1*k_1) + exp(4*L_0*k_0)*exp(4*L_1*k_1) - exp(4*L_0*k_0) - exp(4*L_1*k_1) + 1) - N_0*k_0/(16*L_0*L_1*k_0*k_1*exp(2*L_0*k_0)*exp(2*L_1*k_1) - 4*L_0*k_0*exp(2*L_0*k_0)*exp(4*L_1*k_1) + 4*L_0*k_0*exp(2*L_0*k_0) - 4*L_1*k_1*exp(4*L_0*k_0)*exp(2*L_1*k_1) + 4*L_1*k_1*exp(2*L_1*k_1) + exp(4*L_0*k_0)*exp(4*L_1*k_1) - exp(4*L_0*k_0) - exp(4*L_1*k_1) + 1) - N_1*k_1*exp(4*L_0*k_0)*exp(4*L_1*k_1)/(16*L_0*L_1*k_0*k_1*exp(2*L_0*k_0)*exp(2*L_1*k_1) - 4*L_0*k_0*exp(2*L_0*k_0)*exp(4*L_1*k_1) + 4*L_0*k_0*exp(2*L_0*k_0) - 4*L_1*k_1*exp(4*L_0*k_0)*exp(2*L_1*k_1) + 4*L_1*k_1*exp(2*L_1*k_1) + exp(4*L_0*k_0)*exp(4*L_1*k_1) - exp(4*L_0*k_0) - exp(4*L_1*k_1) + 1) + 2*N_1*k_1*exp(4*L_0*k_0)*exp(2*L_1*k_1)/(16*L_0*L_1*k_0*k_1*exp(2*L_0*k_0)*exp(2*L_1*k_1) - 4*L_0*k_0*exp(2*L_0*k_0)*exp(4*L_1*k_1) + 4*L_0*k_0*exp(2*L_0*k_0) - 4*L_1*k_1*exp(4*L_0*k_0)*exp(2*L_1*k_1) + 4*L_1*k_1*exp(2*L_1*k_1) + exp(4*L_0*k_0)*exp(4*L_1*k_1) - exp(4*L_0*k_0) - exp(4*L_1*k_1) + 1) - N_1*k_1*exp(4*L_0*k_0)/(16*L_0*L_1*k_0*k_1*exp(2*L_0*k_0)*exp(2*L_1*k_1) - 4*L_0*k_0*exp(2*L_0*k_0)*exp(4*L_1*k_1) + 4*L_0*k_0*exp(2*L_0*k_0) - 4*L_1*k_1*exp(4*L_0*k_0)*exp(2*L_1*k_1) + 4*L_1*k_1*exp(2*L_1*k_1) + exp(4*L_0*k_0)*exp(4*L_1*k_1) - exp(4*L_0*k_0) - exp(4*L_1*k_1) + 1) + N_1*k_1*exp(4*L_1*k_1)/(16*L_0*L_1*k_0*k_1*exp(2*L_0*k_0)*exp(2*L_1*k_1) - 4*L_0*k_0*exp(2*L_0*k_0)*exp(4*L_1*k_1) + 4*L_0*k_0*exp(2*L_0*k_0) - 4*L_1*k_1*exp(4*L_0*k_0)*exp(2*L_1*k_1) + 4*L_1*k_1*exp(2*L_1*k_1) + exp(4*L_0*k_0)*exp(4*L_1*k_1) - exp(4*L_0*k_0) - exp(4*L_1*k_1) + 1) - 2*N_1*k_1*exp(2*L_1*k_1)/(16*L_0*L_1*k_0*k_1*exp(2*L_0*k_0)*exp(2*L_1*k_1) - 4*L_0*k_0*exp(2*L_0*k_0)*exp(4*L_1*k_1) + 4*L_0*k_0*exp(2*L_0*k_0) - 4*L_1*k_1*exp(4*L_0*k_0)*exp(2*L_1*k_1) + 4*L_1*k_1*exp(2*L_1*k_1) + exp(4*L_0*k_0)*exp(4*L_1*k_1) - exp(4*L_0*k_0) - exp(4*L_1*k_1) + 1) + N_1*k_1/(16*L_0*L_1*k_0*k_1*exp(2*L_0*k_0)*exp(2*L_1*k_1) - 4*L_0*k_0*exp(2*L_0*k_0)*exp(4*L_1*k_1) + 4*L_0*k_0*exp(2*L_0*k_0) - 4*L_1*k_1*exp(4*L_0*k_0)*exp(2*L_1*k_1) + 4*L_1*k_1*exp(2*L_1*k_1) + exp(4*L_0*k_0)*exp(4*L_1*k_1) - exp(4*L_0*k_0) - exp(4*L_1*k_1) + 1)): G_41,\n",
       " Abs(exp(2*L_0*k_0) - 1): G_42,\n",
       " exp(3*L_1*k_1): G_43,\n",
       " G_40*G_41*G_42*G_43: G_44,\n",
       " G_1*G_5*N_0*k_0: G_45,\n",
       " G_1*G_5*N_1*k_1: G_46,\n",
       " G_1*G_7*N_1*k_1: G_47,\n",
       " G_1*G_12*N_0*k_0: G_48,\n",
       " G_1*N_0*k_0: G_49,\n",
       " G_1*G_7*N_0*k_0: G_50,\n",
       " G_14*G_5*N_0*k_0: G_51,\n",
       " G_1*G_12*N_1*k_1: G_52,\n",
       " G_12*L_1*N_0*k_0*k_1: G_53,\n",
       " exp(L_1*k_1): G_54,\n",
       " G_40*G_41*G_42*G_54: G_55,\n",
       " G_12*G_14*L_0*N_1*k_0*k_1: G_56,\n",
       " G_1*G_12*L_1*N_0*k_0*k_1: G_57,\n",
       " G_14*G_5*L_0*N_1*k_0*k_1: G_58,\n",
       " G_14*G_7*L_0*N_1*k_0*k_1: G_59,\n",
       " G_12*G_14*L_1*N_0*k_0*k_1: G_60}"
      ]
     },
     "execution_count": 117,
     "metadata": {},
     "output_type": "execute_result"
    }
   ],
   "source": [
    "big_constants"
   ]
  },
  {
   "cell_type": "code",
   "execution_count": 118,
   "id": "28f5852c-2cd8-4159-99ef-82f3067d9fcc",
   "metadata": {},
   "outputs": [],
   "source": [
    "big_debug = [ lambdify( stairwell_solver, expression ) for expression in constants1.keys() ]"
   ]
  },
  {
   "cell_type": "code",
   "execution_count": 119,
   "id": "4ee5ee6b-d9c3-4c6a-ac0c-4bb4f3c57e5d",
   "metadata": {},
   "outputs": [
    {
     "data": {
      "text/plain": [
       "'def _lambdifygenerated(x, m, E, k_0, k_1, k_2, N_0, N_1, N_2, L_0, L_1, L_2):\\n    return V_2**2\\n'"
      ]
     },
     "execution_count": 119,
     "metadata": {},
     "output_type": "execute_result"
    }
   ],
   "source": [
    "inspect.getsource( big_debug[ 6 ] )#( 0, mass, energy, *harmonic_constants, *probabilities, *lengths )"
   ]
  },
  {
   "cell_type": "code",
   "execution_count": 120,
   "id": "8a895df2-0c00-4858-8fd3-1dd7cd80070f",
   "metadata": {},
   "outputs": [
    {
     "name": "stderr",
     "output_type": "stream",
     "text": [
      "<lambdifygenerated-12>:2: RuntimeWarning: invalid value encountered in sqrt\n",
      "  return exp(2*L_1*k_1)*abs((sqrt((-4*L_1*N_0*k_0*k_1*(1 - exp(2*L_0*k_0))**2*exp(2*L_1*k_1) + N_0*k_0*(1 - exp(2*L_0*k_0))**2*exp(4*L_1*k_1) - N_0*k_0*(1 - exp(2*L_0*k_0))**2 + N_1*k_1*(4*L_0*k_0*exp(2*L_0*k_0) - exp(4*L_0*k_0) + 1)*(exp(4*L_1*k_1) - 2*exp(2*L_1*k_1) + 1))/(16*L_0*L_1*k_0*k_1*exp(2*L_0*k_0 + 2*L_1*k_1) + 4*L_0*k_0*exp(2*L_0*k_0) - 4*L_0*k_0*exp(2*L_0*k_0 + 4*L_1*k_1) + 4*L_1*k_1*exp(2*L_1*k_1) - 4*L_1*k_1*exp(4*L_0*k_0 + 2*L_1*k_1) - exp(4*L_0*k_0) - exp(4*L_1*k_1) + exp(4*L_0*k_0 + 4*L_1*k_1) + 1)) - sqrt(N_0*k_0/(4*L_0*k_0*exp(2*L_0*k_0) - exp(4*L_0*k_0) + 1))*exp(L_1*k_1)*abs(exp(2*L_0*k_0) - 1))**2)\n",
      "<lambdifygenerated-13>:2: RuntimeWarning: invalid value encountered in sqrt\n",
      "  return abs((sqrt((-4*L_1*N_0*k_0*k_1*(1 - exp(2*L_0*k_0))**2*exp(2*L_1*k_1) + N_0*k_0*(1 - exp(2*L_0*k_0))**2*exp(4*L_1*k_1) - N_0*k_0*(1 - exp(2*L_0*k_0))**2 + N_1*k_1*(4*L_0*k_0*exp(2*L_0*k_0) - exp(4*L_0*k_0) + 1)*(exp(4*L_1*k_1) - 2*exp(2*L_1*k_1) + 1))/(16*L_0*L_1*k_0*k_1*exp(2*L_0*k_0 + 2*L_1*k_1) + 4*L_0*k_0*exp(2*L_0*k_0) - 4*L_0*k_0*exp(2*L_0*k_0 + 4*L_1*k_1) + 4*L_1*k_1*exp(2*L_1*k_1) - 4*L_1*k_1*exp(4*L_0*k_0 + 2*L_1*k_1) - exp(4*L_0*k_0) - exp(4*L_1*k_1) + exp(4*L_0*k_0 + 4*L_1*k_1) + 1))*exp(L_1*k_1) - sqrt(N_0*k_0/(4*L_0*k_0*exp(2*L_0*k_0) - exp(4*L_0*k_0) + 1))*abs(exp(2*L_0*k_0) - 1))**2)\n"
     ]
    }
   ],
   "source": [
    "tests = [ function( 0, mass, energy, *harmonic_constants, *probabilities, *lengths ) for function in big_debug ]"
   ]
  },
  {
   "cell_type": "code",
   "execution_count": 121,
   "id": "c0827649-4a26-4325-97ca-bc1de17e6c18",
   "metadata": {},
   "outputs": [
    {
     "data": {
      "text/latex": [
       "$\\displaystyle k_{1}$"
      ],
      "text/plain": [
       "k_1"
      ]
     },
     "metadata": {},
     "output_type": "display_data"
    },
    {
     "data": {
      "text/latex": [
       "$\\displaystyle e^{4 L_{0} k_{0}}$"
      ],
      "text/plain": [
       "exp(4*L_0*k_0)"
      ]
     },
     "metadata": {},
     "output_type": "display_data"
    },
    {
     "data": {
      "text/latex": [
       "$\\displaystyle G_{1}$"
      ],
      "text/plain": [
       "G_1"
      ]
     },
     "metadata": {},
     "output_type": "display_data"
    },
    {
     "data": {
      "text/latex": [
       "$\\displaystyle e^{8 L_{1} k_{1}}$"
      ],
      "text/plain": [
       "exp(8*L_1*k_1)"
      ]
     },
     "metadata": {},
     "output_type": "display_data"
    },
    {
     "data": {
      "text/latex": [
       "$\\displaystyle G_{3}$"
      ],
      "text/plain": [
       "G_3"
      ]
     },
     "metadata": {},
     "output_type": "display_data"
    },
    {
     "data": {
      "text/latex": [
       "$\\displaystyle e^{2 L_{1} k_{1}}$"
      ],
      "text/plain": [
       "exp(2*L_1*k_1)"
      ]
     },
     "metadata": {},
     "output_type": "display_data"
    },
    {
     "data": {
      "text/latex": [
       "$\\displaystyle G_{5}$"
      ],
      "text/plain": [
       "G_5"
      ]
     },
     "metadata": {},
     "output_type": "display_data"
    },
    {
     "data": {
      "text/latex": [
       "$\\displaystyle e^{6 L_{1} k_{1}}$"
      ],
      "text/plain": [
       "exp(6*L_1*k_1)"
      ]
     },
     "metadata": {},
     "output_type": "display_data"
    },
    {
     "data": {
      "text/latex": [
       "$\\displaystyle G_{7}$"
      ],
      "text/plain": [
       "G_7"
      ]
     },
     "metadata": {},
     "output_type": "display_data"
    },
    {
     "data": {
      "text/latex": [
       "$\\displaystyle G_{1} G_{3}$"
      ],
      "text/plain": [
       "G_1*G_3"
      ]
     },
     "metadata": {},
     "output_type": "display_data"
    },
    {
     "data": {
      "text/latex": [
       "$\\displaystyle G_{1} G_{7}$"
      ],
      "text/plain": [
       "G_1*G_7"
      ]
     },
     "metadata": {},
     "output_type": "display_data"
    },
    {
     "data": {
      "text/latex": [
       "$\\displaystyle G_{1} G_{5}$"
      ],
      "text/plain": [
       "G_1*G_5"
      ]
     },
     "metadata": {},
     "output_type": "display_data"
    },
    {
     "data": {
      "text/latex": [
       "$\\displaystyle e^{4 L_{1} k_{1}}$"
      ],
      "text/plain": [
       "exp(4*L_1*k_1)"
      ]
     },
     "metadata": {},
     "output_type": "display_data"
    },
    {
     "data": {
      "text/latex": [
       "$\\displaystyle G_{12} L_{1} k_{1}$"
      ],
      "text/plain": [
       "G_12*L_1*k_1"
      ]
     },
     "metadata": {},
     "output_type": "display_data"
    },
    {
     "data": {
      "text/latex": [
       "$\\displaystyle e^{2 L_{0} k_{0}}$"
      ],
      "text/plain": [
       "exp(2*L_0*k_0)"
      ]
     },
     "metadata": {},
     "output_type": "display_data"
    },
    {
     "data": {
      "text/latex": [
       "$\\displaystyle G_{14} L_{0} k_{0}$"
      ],
      "text/plain": [
       "G_14*L_0*k_0"
      ]
     },
     "metadata": {},
     "output_type": "display_data"
    },
    {
     "data": {
      "text/latex": [
       "$\\displaystyle G_{5} L_{1} k_{1}$"
      ],
      "text/plain": [
       "G_5*L_1*k_1"
      ]
     },
     "metadata": {},
     "output_type": "display_data"
    },
    {
     "data": {
      "text/latex": [
       "$\\displaystyle G_{7} L_{1} k_{1}$"
      ],
      "text/plain": [
       "G_7*L_1*k_1"
      ]
     },
     "metadata": {},
     "output_type": "display_data"
    },
    {
     "data": {
      "text/latex": [
       "$\\displaystyle G_{14} G_{5} L_{0} k_{0}$"
      ],
      "text/plain": [
       "G_14*G_5*L_0*k_0"
      ]
     },
     "metadata": {},
     "output_type": "display_data"
    },
    {
     "data": {
      "text/latex": [
       "$\\displaystyle G_{14} G_{3} L_{0} k_{0}$"
      ],
      "text/plain": [
       "G_14*G_3*L_0*k_0"
      ]
     },
     "metadata": {},
     "output_type": "display_data"
    },
    {
     "data": {
      "text/latex": [
       "$\\displaystyle G_{1} G_{5} L_{1} k_{1}$"
      ],
      "text/plain": [
       "G_1*G_5*L_1*k_1"
      ]
     },
     "metadata": {},
     "output_type": "display_data"
    },
    {
     "data": {
      "text/latex": [
       "$\\displaystyle G_{1} G_{7} L_{1} k_{1}$"
      ],
      "text/plain": [
       "G_1*G_7*L_1*k_1"
      ]
     },
     "metadata": {},
     "output_type": "display_data"
    },
    {
     "data": {
      "text/latex": [
       "$\\displaystyle G_{14} G_{7} L_{0} k_{0}$"
      ],
      "text/plain": [
       "G_14*G_7*L_0*k_0"
      ]
     },
     "metadata": {},
     "output_type": "display_data"
    },
    {
     "data": {
      "text/latex": [
       "$\\displaystyle G_{1} G_{12} L_{1} k_{1}$"
      ],
      "text/plain": [
       "G_1*G_12*L_1*k_1"
      ]
     },
     "metadata": {},
     "output_type": "display_data"
    },
    {
     "data": {
      "text/latex": [
       "$\\displaystyle G_{12} G_{14} L_{0} L_{1} k_{0} k_{1}$"
      ],
      "text/plain": [
       "G_12*G_14*L_0*L_1*k_0*k_1"
      ]
     },
     "metadata": {},
     "output_type": "display_data"
    },
    {
     "data": {
      "text/latex": [
       "$\\displaystyle G_{14} G_{5} L_{0} L_{1} k_{0} k_{1}$"
      ],
      "text/plain": [
       "G_14*G_5*L_0*L_1*k_0*k_1"
      ]
     },
     "metadata": {},
     "output_type": "display_data"
    },
    {
     "data": {
      "text/latex": [
       "$\\displaystyle G_{14} G_{7} L_{0} L_{1} k_{0} k_{1}$"
      ],
      "text/plain": [
       "G_14*G_7*L_0*L_1*k_0*k_1"
      ]
     },
     "metadata": {},
     "output_type": "display_data"
    },
    {
     "data": {
      "text/latex": [
       "$\\displaystyle G_{12} N_{1} k_{1}$"
      ],
      "text/plain": [
       "G_12*N_1*k_1"
      ]
     },
     "metadata": {},
     "output_type": "display_data"
    },
    {
     "data": {
      "text/latex": [
       "$\\displaystyle G_{5} N_{0} k_{0}$"
      ],
      "text/plain": [
       "G_5*N_0*k_0"
      ]
     },
     "metadata": {},
     "output_type": "display_data"
    },
    {
     "data": {
      "text/latex": [
       "$\\displaystyle G_{12}$"
      ],
      "text/plain": [
       "G_12"
      ]
     },
     "metadata": {},
     "output_type": "display_data"
    },
    {
     "data": {
      "text/latex": [
       "$\\displaystyle G_{1} G_{12}$"
      ],
      "text/plain": [
       "G_1*G_12"
      ]
     },
     "metadata": {},
     "output_type": "display_data"
    },
    {
     "data": {
      "text/latex": [
       "$\\displaystyle G_{12} G_{14} L_{0} k_{0}$"
      ],
      "text/plain": [
       "G_12*G_14*L_0*k_0"
      ]
     },
     "metadata": {},
     "output_type": "display_data"
    },
    {
     "data": {
      "text/latex": [
       "$\\displaystyle G_{12} N_{0} k_{0}$"
      ],
      "text/plain": [
       "G_12*N_0*k_0"
      ]
     },
     "metadata": {},
     "output_type": "display_data"
    },
    {
     "data": {
      "text/latex": [
       "$\\displaystyle N_{0} k_{0}$"
      ],
      "text/plain": [
       "N_0*k_0"
      ]
     },
     "metadata": {},
     "output_type": "display_data"
    },
    {
     "data": {
      "text/latex": [
       "$\\displaystyle G_{7} N_{0} k_{0}$"
      ],
      "text/plain": [
       "G_7*N_0*k_0"
      ]
     },
     "metadata": {},
     "output_type": "display_data"
    },
    {
     "data": {
      "text/latex": [
       "$\\displaystyle G_{5} N_{1} k_{1}$"
      ],
      "text/plain": [
       "G_5*N_1*k_1"
      ]
     },
     "metadata": {},
     "output_type": "display_data"
    },
    {
     "data": {
      "text/latex": [
       "$\\displaystyle G_{7} N_{1} k_{1}$"
      ],
      "text/plain": [
       "G_7*N_1*k_1"
      ]
     },
     "metadata": {},
     "output_type": "display_data"
    },
    {
     "data": {
      "text/latex": [
       "$\\displaystyle G_{12} G_{14} N_{0} k_{0}$"
      ],
      "text/plain": [
       "G_12*G_14*N_0*k_0"
      ]
     },
     "metadata": {},
     "output_type": "display_data"
    },
    {
     "data": {
      "text/latex": [
       "$\\displaystyle G_{14} N_{0} k_{0}$"
      ],
      "text/plain": [
       "G_14*N_0*k_0"
      ]
     },
     "metadata": {},
     "output_type": "display_data"
    },
    {
     "data": {
      "text/latex": [
       "$\\displaystyle G_{14} G_{7} N_{0} k_{0}$"
      ],
      "text/plain": [
       "G_14*G_7*N_0*k_0"
      ]
     },
     "metadata": {},
     "output_type": "display_data"
    },
    {
     "data": {
      "text/latex": [
       "$\\displaystyle \\sqrt{\\frac{N_{0} k_{0}}{4 L_{0} k_{0} e^{2 L_{0} k_{0}} - e^{4 L_{0} k_{0}} + 1}}$"
      ],
      "text/plain": [
       "sqrt(N_0*k_0/(4*L_0*k_0*exp(2*L_0*k_0) - exp(4*L_0*k_0) + 1))"
      ]
     },
     "metadata": {},
     "output_type": "display_data"
    },
    {
     "data": {
      "text/latex": [
       "$\\displaystyle \\sqrt{\\frac{4 L_{0} N_{1} k_{0} k_{1} e^{2 L_{0} k_{0}} e^{4 L_{1} k_{1}}}{16 L_{0} L_{1} k_{0} k_{1} e^{2 L_{0} k_{0}} e^{2 L_{1} k_{1}} - 4 L_{0} k_{0} e^{2 L_{0} k_{0}} e^{4 L_{1} k_{1}} + 4 L_{0} k_{0} e^{2 L_{0} k_{0}} - 4 L_{1} k_{1} e^{4 L_{0} k_{0}} e^{2 L_{1} k_{1}} + 4 L_{1} k_{1} e^{2 L_{1} k_{1}} + e^{4 L_{0} k_{0}} e^{4 L_{1} k_{1}} - e^{4 L_{0} k_{0}} - e^{4 L_{1} k_{1}} + 1} - \\frac{8 L_{0} N_{1} k_{0} k_{1} e^{2 L_{0} k_{0}} e^{2 L_{1} k_{1}}}{16 L_{0} L_{1} k_{0} k_{1} e^{2 L_{0} k_{0}} e^{2 L_{1} k_{1}} - 4 L_{0} k_{0} e^{2 L_{0} k_{0}} e^{4 L_{1} k_{1}} + 4 L_{0} k_{0} e^{2 L_{0} k_{0}} - 4 L_{1} k_{1} e^{4 L_{0} k_{0}} e^{2 L_{1} k_{1}} + 4 L_{1} k_{1} e^{2 L_{1} k_{1}} + e^{4 L_{0} k_{0}} e^{4 L_{1} k_{1}} - e^{4 L_{0} k_{0}} - e^{4 L_{1} k_{1}} + 1} + \\frac{4 L_{0} N_{1} k_{0} k_{1} e^{2 L_{0} k_{0}}}{16 L_{0} L_{1} k_{0} k_{1} e^{2 L_{0} k_{0}} e^{2 L_{1} k_{1}} - 4 L_{0} k_{0} e^{2 L_{0} k_{0}} e^{4 L_{1} k_{1}} + 4 L_{0} k_{0} e^{2 L_{0} k_{0}} - 4 L_{1} k_{1} e^{4 L_{0} k_{0}} e^{2 L_{1} k_{1}} + 4 L_{1} k_{1} e^{2 L_{1} k_{1}} + e^{4 L_{0} k_{0}} e^{4 L_{1} k_{1}} - e^{4 L_{0} k_{0}} - e^{4 L_{1} k_{1}} + 1} - \\frac{4 L_{1} N_{0} k_{0} k_{1} e^{4 L_{0} k_{0}} e^{2 L_{1} k_{1}}}{16 L_{0} L_{1} k_{0} k_{1} e^{2 L_{0} k_{0}} e^{2 L_{1} k_{1}} - 4 L_{0} k_{0} e^{2 L_{0} k_{0}} e^{4 L_{1} k_{1}} + 4 L_{0} k_{0} e^{2 L_{0} k_{0}} - 4 L_{1} k_{1} e^{4 L_{0} k_{0}} e^{2 L_{1} k_{1}} + 4 L_{1} k_{1} e^{2 L_{1} k_{1}} + e^{4 L_{0} k_{0}} e^{4 L_{1} k_{1}} - e^{4 L_{0} k_{0}} - e^{4 L_{1} k_{1}} + 1} + \\frac{8 L_{1} N_{0} k_{0} k_{1} e^{2 L_{0} k_{0}} e^{2 L_{1} k_{1}}}{16 L_{0} L_{1} k_{0} k_{1} e^{2 L_{0} k_{0}} e^{2 L_{1} k_{1}} - 4 L_{0} k_{0} e^{2 L_{0} k_{0}} e^{4 L_{1} k_{1}} + 4 L_{0} k_{0} e^{2 L_{0} k_{0}} - 4 L_{1} k_{1} e^{4 L_{0} k_{0}} e^{2 L_{1} k_{1}} + 4 L_{1} k_{1} e^{2 L_{1} k_{1}} + e^{4 L_{0} k_{0}} e^{4 L_{1} k_{1}} - e^{4 L_{0} k_{0}} - e^{4 L_{1} k_{1}} + 1} - \\frac{4 L_{1} N_{0} k_{0} k_{1} e^{2 L_{1} k_{1}}}{16 L_{0} L_{1} k_{0} k_{1} e^{2 L_{0} k_{0}} e^{2 L_{1} k_{1}} - 4 L_{0} k_{0} e^{2 L_{0} k_{0}} e^{4 L_{1} k_{1}} + 4 L_{0} k_{0} e^{2 L_{0} k_{0}} - 4 L_{1} k_{1} e^{4 L_{0} k_{0}} e^{2 L_{1} k_{1}} + 4 L_{1} k_{1} e^{2 L_{1} k_{1}} + e^{4 L_{0} k_{0}} e^{4 L_{1} k_{1}} - e^{4 L_{0} k_{0}} - e^{4 L_{1} k_{1}} + 1} + \\frac{N_{0} k_{0} e^{4 L_{0} k_{0}} e^{4 L_{1} k_{1}}}{16 L_{0} L_{1} k_{0} k_{1} e^{2 L_{0} k_{0}} e^{2 L_{1} k_{1}} - 4 L_{0} k_{0} e^{2 L_{0} k_{0}} e^{4 L_{1} k_{1}} + 4 L_{0} k_{0} e^{2 L_{0} k_{0}} - 4 L_{1} k_{1} e^{4 L_{0} k_{0}} e^{2 L_{1} k_{1}} + 4 L_{1} k_{1} e^{2 L_{1} k_{1}} + e^{4 L_{0} k_{0}} e^{4 L_{1} k_{1}} - e^{4 L_{0} k_{0}} - e^{4 L_{1} k_{1}} + 1} - \\frac{N_{0} k_{0} e^{4 L_{0} k_{0}}}{16 L_{0} L_{1} k_{0} k_{1} e^{2 L_{0} k_{0}} e^{2 L_{1} k_{1}} - 4 L_{0} k_{0} e^{2 L_{0} k_{0}} e^{4 L_{1} k_{1}} + 4 L_{0} k_{0} e^{2 L_{0} k_{0}} - 4 L_{1} k_{1} e^{4 L_{0} k_{0}} e^{2 L_{1} k_{1}} + 4 L_{1} k_{1} e^{2 L_{1} k_{1}} + e^{4 L_{0} k_{0}} e^{4 L_{1} k_{1}} - e^{4 L_{0} k_{0}} - e^{4 L_{1} k_{1}} + 1} - \\frac{2 N_{0} k_{0} e^{2 L_{0} k_{0}} e^{4 L_{1} k_{1}}}{16 L_{0} L_{1} k_{0} k_{1} e^{2 L_{0} k_{0}} e^{2 L_{1} k_{1}} - 4 L_{0} k_{0} e^{2 L_{0} k_{0}} e^{4 L_{1} k_{1}} + 4 L_{0} k_{0} e^{2 L_{0} k_{0}} - 4 L_{1} k_{1} e^{4 L_{0} k_{0}} e^{2 L_{1} k_{1}} + 4 L_{1} k_{1} e^{2 L_{1} k_{1}} + e^{4 L_{0} k_{0}} e^{4 L_{1} k_{1}} - e^{4 L_{0} k_{0}} - e^{4 L_{1} k_{1}} + 1} + \\frac{2 N_{0} k_{0} e^{2 L_{0} k_{0}}}{16 L_{0} L_{1} k_{0} k_{1} e^{2 L_{0} k_{0}} e^{2 L_{1} k_{1}} - 4 L_{0} k_{0} e^{2 L_{0} k_{0}} e^{4 L_{1} k_{1}} + 4 L_{0} k_{0} e^{2 L_{0} k_{0}} - 4 L_{1} k_{1} e^{4 L_{0} k_{0}} e^{2 L_{1} k_{1}} + 4 L_{1} k_{1} e^{2 L_{1} k_{1}} + e^{4 L_{0} k_{0}} e^{4 L_{1} k_{1}} - e^{4 L_{0} k_{0}} - e^{4 L_{1} k_{1}} + 1} + \\frac{N_{0} k_{0} e^{4 L_{1} k_{1}}}{16 L_{0} L_{1} k_{0} k_{1} e^{2 L_{0} k_{0}} e^{2 L_{1} k_{1}} - 4 L_{0} k_{0} e^{2 L_{0} k_{0}} e^{4 L_{1} k_{1}} + 4 L_{0} k_{0} e^{2 L_{0} k_{0}} - 4 L_{1} k_{1} e^{4 L_{0} k_{0}} e^{2 L_{1} k_{1}} + 4 L_{1} k_{1} e^{2 L_{1} k_{1}} + e^{4 L_{0} k_{0}} e^{4 L_{1} k_{1}} - e^{4 L_{0} k_{0}} - e^{4 L_{1} k_{1}} + 1} - \\frac{N_{0} k_{0}}{16 L_{0} L_{1} k_{0} k_{1} e^{2 L_{0} k_{0}} e^{2 L_{1} k_{1}} - 4 L_{0} k_{0} e^{2 L_{0} k_{0}} e^{4 L_{1} k_{1}} + 4 L_{0} k_{0} e^{2 L_{0} k_{0}} - 4 L_{1} k_{1} e^{4 L_{0} k_{0}} e^{2 L_{1} k_{1}} + 4 L_{1} k_{1} e^{2 L_{1} k_{1}} + e^{4 L_{0} k_{0}} e^{4 L_{1} k_{1}} - e^{4 L_{0} k_{0}} - e^{4 L_{1} k_{1}} + 1} - \\frac{N_{1} k_{1} e^{4 L_{0} k_{0}} e^{4 L_{1} k_{1}}}{16 L_{0} L_{1} k_{0} k_{1} e^{2 L_{0} k_{0}} e^{2 L_{1} k_{1}} - 4 L_{0} k_{0} e^{2 L_{0} k_{0}} e^{4 L_{1} k_{1}} + 4 L_{0} k_{0} e^{2 L_{0} k_{0}} - 4 L_{1} k_{1} e^{4 L_{0} k_{0}} e^{2 L_{1} k_{1}} + 4 L_{1} k_{1} e^{2 L_{1} k_{1}} + e^{4 L_{0} k_{0}} e^{4 L_{1} k_{1}} - e^{4 L_{0} k_{0}} - e^{4 L_{1} k_{1}} + 1} + \\frac{2 N_{1} k_{1} e^{4 L_{0} k_{0}} e^{2 L_{1} k_{1}}}{16 L_{0} L_{1} k_{0} k_{1} e^{2 L_{0} k_{0}} e^{2 L_{1} k_{1}} - 4 L_{0} k_{0} e^{2 L_{0} k_{0}} e^{4 L_{1} k_{1}} + 4 L_{0} k_{0} e^{2 L_{0} k_{0}} - 4 L_{1} k_{1} e^{4 L_{0} k_{0}} e^{2 L_{1} k_{1}} + 4 L_{1} k_{1} e^{2 L_{1} k_{1}} + e^{4 L_{0} k_{0}} e^{4 L_{1} k_{1}} - e^{4 L_{0} k_{0}} - e^{4 L_{1} k_{1}} + 1} - \\frac{N_{1} k_{1} e^{4 L_{0} k_{0}}}{16 L_{0} L_{1} k_{0} k_{1} e^{2 L_{0} k_{0}} e^{2 L_{1} k_{1}} - 4 L_{0} k_{0} e^{2 L_{0} k_{0}} e^{4 L_{1} k_{1}} + 4 L_{0} k_{0} e^{2 L_{0} k_{0}} - 4 L_{1} k_{1} e^{4 L_{0} k_{0}} e^{2 L_{1} k_{1}} + 4 L_{1} k_{1} e^{2 L_{1} k_{1}} + e^{4 L_{0} k_{0}} e^{4 L_{1} k_{1}} - e^{4 L_{0} k_{0}} - e^{4 L_{1} k_{1}} + 1} + \\frac{N_{1} k_{1} e^{4 L_{1} k_{1}}}{16 L_{0} L_{1} k_{0} k_{1} e^{2 L_{0} k_{0}} e^{2 L_{1} k_{1}} - 4 L_{0} k_{0} e^{2 L_{0} k_{0}} e^{4 L_{1} k_{1}} + 4 L_{0} k_{0} e^{2 L_{0} k_{0}} - 4 L_{1} k_{1} e^{4 L_{0} k_{0}} e^{2 L_{1} k_{1}} + 4 L_{1} k_{1} e^{2 L_{1} k_{1}} + e^{4 L_{0} k_{0}} e^{4 L_{1} k_{1}} - e^{4 L_{0} k_{0}} - e^{4 L_{1} k_{1}} + 1} - \\frac{2 N_{1} k_{1} e^{2 L_{1} k_{1}}}{16 L_{0} L_{1} k_{0} k_{1} e^{2 L_{0} k_{0}} e^{2 L_{1} k_{1}} - 4 L_{0} k_{0} e^{2 L_{0} k_{0}} e^{4 L_{1} k_{1}} + 4 L_{0} k_{0} e^{2 L_{0} k_{0}} - 4 L_{1} k_{1} e^{4 L_{0} k_{0}} e^{2 L_{1} k_{1}} + 4 L_{1} k_{1} e^{2 L_{1} k_{1}} + e^{4 L_{0} k_{0}} e^{4 L_{1} k_{1}} - e^{4 L_{0} k_{0}} - e^{4 L_{1} k_{1}} + 1} + \\frac{N_{1} k_{1}}{16 L_{0} L_{1} k_{0} k_{1} e^{2 L_{0} k_{0}} e^{2 L_{1} k_{1}} - 4 L_{0} k_{0} e^{2 L_{0} k_{0}} e^{4 L_{1} k_{1}} + 4 L_{0} k_{0} e^{2 L_{0} k_{0}} - 4 L_{1} k_{1} e^{4 L_{0} k_{0}} e^{2 L_{1} k_{1}} + 4 L_{1} k_{1} e^{2 L_{1} k_{1}} + e^{4 L_{0} k_{0}} e^{4 L_{1} k_{1}} - e^{4 L_{0} k_{0}} - e^{4 L_{1} k_{1}} + 1}}$"
      ],
      "text/plain": [
       "sqrt(4*L_0*N_1*k_0*k_1*exp(2*L_0*k_0)*exp(4*L_1*k_1)/(16*L_0*L_1*k_0*k_1*exp(2*L_0*k_0)*exp(2*L_1*k_1) - 4*L_0*k_0*exp(2*L_0*k_0)*exp(4*L_1*k_1) + 4*L_0*k_0*exp(2*L_0*k_0) - 4*L_1*k_1*exp(4*L_0*k_0)*exp(2*L_1*k_1) + 4*L_1*k_1*exp(2*L_1*k_1) + exp(4*L_0*k_0)*exp(4*L_1*k_1) - exp(4*L_0*k_0) - exp(4*L_1*k_1) + 1) - 8*L_0*N_1*k_0*k_1*exp(2*L_0*k_0)*exp(2*L_1*k_1)/(16*L_0*L_1*k_0*k_1*exp(2*L_0*k_0)*exp(2*L_1*k_1) - 4*L_0*k_0*exp(2*L_0*k_0)*exp(4*L_1*k_1) + 4*L_0*k_0*exp(2*L_0*k_0) - 4*L_1*k_1*exp(4*L_0*k_0)*exp(2*L_1*k_1) + 4*L_1*k_1*exp(2*L_1*k_1) + exp(4*L_0*k_0)*exp(4*L_1*k_1) - exp(4*L_0*k_0) - exp(4*L_1*k_1) + 1) + 4*L_0*N_1*k_0*k_1*exp(2*L_0*k_0)/(16*L_0*L_1*k_0*k_1*exp(2*L_0*k_0)*exp(2*L_1*k_1) - 4*L_0*k_0*exp(2*L_0*k_0)*exp(4*L_1*k_1) + 4*L_0*k_0*exp(2*L_0*k_0) - 4*L_1*k_1*exp(4*L_0*k_0)*exp(2*L_1*k_1) + 4*L_1*k_1*exp(2*L_1*k_1) + exp(4*L_0*k_0)*exp(4*L_1*k_1) - exp(4*L_0*k_0) - exp(4*L_1*k_1) + 1) - 4*L_1*N_0*k_0*k_1*exp(4*L_0*k_0)*exp(2*L_1*k_1)/(16*L_0*L_1*k_0*k_1*exp(2*L_0*k_0)*exp(2*L_1*k_1) - 4*L_0*k_0*exp(2*L_0*k_0)*exp(4*L_1*k_1) + 4*L_0*k_0*exp(2*L_0*k_0) - 4*L_1*k_1*exp(4*L_0*k_0)*exp(2*L_1*k_1) + 4*L_1*k_1*exp(2*L_1*k_1) + exp(4*L_0*k_0)*exp(4*L_1*k_1) - exp(4*L_0*k_0) - exp(4*L_1*k_1) + 1) + 8*L_1*N_0*k_0*k_1*exp(2*L_0*k_0)*exp(2*L_1*k_1)/(16*L_0*L_1*k_0*k_1*exp(2*L_0*k_0)*exp(2*L_1*k_1) - 4*L_0*k_0*exp(2*L_0*k_0)*exp(4*L_1*k_1) + 4*L_0*k_0*exp(2*L_0*k_0) - 4*L_1*k_1*exp(4*L_0*k_0)*exp(2*L_1*k_1) + 4*L_1*k_1*exp(2*L_1*k_1) + exp(4*L_0*k_0)*exp(4*L_1*k_1) - exp(4*L_0*k_0) - exp(4*L_1*k_1) + 1) - 4*L_1*N_0*k_0*k_1*exp(2*L_1*k_1)/(16*L_0*L_1*k_0*k_1*exp(2*L_0*k_0)*exp(2*L_1*k_1) - 4*L_0*k_0*exp(2*L_0*k_0)*exp(4*L_1*k_1) + 4*L_0*k_0*exp(2*L_0*k_0) - 4*L_1*k_1*exp(4*L_0*k_0)*exp(2*L_1*k_1) + 4*L_1*k_1*exp(2*L_1*k_1) + exp(4*L_0*k_0)*exp(4*L_1*k_1) - exp(4*L_0*k_0) - exp(4*L_1*k_1) + 1) + N_0*k_0*exp(4*L_0*k_0)*exp(4*L_1*k_1)/(16*L_0*L_1*k_0*k_1*exp(2*L_0*k_0)*exp(2*L_1*k_1) - 4*L_0*k_0*exp(2*L_0*k_0)*exp(4*L_1*k_1) + 4*L_0*k_0*exp(2*L_0*k_0) - 4*L_1*k_1*exp(4*L_0*k_0)*exp(2*L_1*k_1) + 4*L_1*k_1*exp(2*L_1*k_1) + exp(4*L_0*k_0)*exp(4*L_1*k_1) - exp(4*L_0*k_0) - exp(4*L_1*k_1) + 1) - N_0*k_0*exp(4*L_0*k_0)/(16*L_0*L_1*k_0*k_1*exp(2*L_0*k_0)*exp(2*L_1*k_1) - 4*L_0*k_0*exp(2*L_0*k_0)*exp(4*L_1*k_1) + 4*L_0*k_0*exp(2*L_0*k_0) - 4*L_1*k_1*exp(4*L_0*k_0)*exp(2*L_1*k_1) + 4*L_1*k_1*exp(2*L_1*k_1) + exp(4*L_0*k_0)*exp(4*L_1*k_1) - exp(4*L_0*k_0) - exp(4*L_1*k_1) + 1) - 2*N_0*k_0*exp(2*L_0*k_0)*exp(4*L_1*k_1)/(16*L_0*L_1*k_0*k_1*exp(2*L_0*k_0)*exp(2*L_1*k_1) - 4*L_0*k_0*exp(2*L_0*k_0)*exp(4*L_1*k_1) + 4*L_0*k_0*exp(2*L_0*k_0) - 4*L_1*k_1*exp(4*L_0*k_0)*exp(2*L_1*k_1) + 4*L_1*k_1*exp(2*L_1*k_1) + exp(4*L_0*k_0)*exp(4*L_1*k_1) - exp(4*L_0*k_0) - exp(4*L_1*k_1) + 1) + 2*N_0*k_0*exp(2*L_0*k_0)/(16*L_0*L_1*k_0*k_1*exp(2*L_0*k_0)*exp(2*L_1*k_1) - 4*L_0*k_0*exp(2*L_0*k_0)*exp(4*L_1*k_1) + 4*L_0*k_0*exp(2*L_0*k_0) - 4*L_1*k_1*exp(4*L_0*k_0)*exp(2*L_1*k_1) + 4*L_1*k_1*exp(2*L_1*k_1) + exp(4*L_0*k_0)*exp(4*L_1*k_1) - exp(4*L_0*k_0) - exp(4*L_1*k_1) + 1) + N_0*k_0*exp(4*L_1*k_1)/(16*L_0*L_1*k_0*k_1*exp(2*L_0*k_0)*exp(2*L_1*k_1) - 4*L_0*k_0*exp(2*L_0*k_0)*exp(4*L_1*k_1) + 4*L_0*k_0*exp(2*L_0*k_0) - 4*L_1*k_1*exp(4*L_0*k_0)*exp(2*L_1*k_1) + 4*L_1*k_1*exp(2*L_1*k_1) + exp(4*L_0*k_0)*exp(4*L_1*k_1) - exp(4*L_0*k_0) - exp(4*L_1*k_1) + 1) - N_0*k_0/(16*L_0*L_1*k_0*k_1*exp(2*L_0*k_0)*exp(2*L_1*k_1) - 4*L_0*k_0*exp(2*L_0*k_0)*exp(4*L_1*k_1) + 4*L_0*k_0*exp(2*L_0*k_0) - 4*L_1*k_1*exp(4*L_0*k_0)*exp(2*L_1*k_1) + 4*L_1*k_1*exp(2*L_1*k_1) + exp(4*L_0*k_0)*exp(4*L_1*k_1) - exp(4*L_0*k_0) - exp(4*L_1*k_1) + 1) - N_1*k_1*exp(4*L_0*k_0)*exp(4*L_1*k_1)/(16*L_0*L_1*k_0*k_1*exp(2*L_0*k_0)*exp(2*L_1*k_1) - 4*L_0*k_0*exp(2*L_0*k_0)*exp(4*L_1*k_1) + 4*L_0*k_0*exp(2*L_0*k_0) - 4*L_1*k_1*exp(4*L_0*k_0)*exp(2*L_1*k_1) + 4*L_1*k_1*exp(2*L_1*k_1) + exp(4*L_0*k_0)*exp(4*L_1*k_1) - exp(4*L_0*k_0) - exp(4*L_1*k_1) + 1) + 2*N_1*k_1*exp(4*L_0*k_0)*exp(2*L_1*k_1)/(16*L_0*L_1*k_0*k_1*exp(2*L_0*k_0)*exp(2*L_1*k_1) - 4*L_0*k_0*exp(2*L_0*k_0)*exp(4*L_1*k_1) + 4*L_0*k_0*exp(2*L_0*k_0) - 4*L_1*k_1*exp(4*L_0*k_0)*exp(2*L_1*k_1) + 4*L_1*k_1*exp(2*L_1*k_1) + exp(4*L_0*k_0)*exp(4*L_1*k_1) - exp(4*L_0*k_0) - exp(4*L_1*k_1) + 1) - N_1*k_1*exp(4*L_0*k_0)/(16*L_0*L_1*k_0*k_1*exp(2*L_0*k_0)*exp(2*L_1*k_1) - 4*L_0*k_0*exp(2*L_0*k_0)*exp(4*L_1*k_1) + 4*L_0*k_0*exp(2*L_0*k_0) - 4*L_1*k_1*exp(4*L_0*k_0)*exp(2*L_1*k_1) + 4*L_1*k_1*exp(2*L_1*k_1) + exp(4*L_0*k_0)*exp(4*L_1*k_1) - exp(4*L_0*k_0) - exp(4*L_1*k_1) + 1) + N_1*k_1*exp(4*L_1*k_1)/(16*L_0*L_1*k_0*k_1*exp(2*L_0*k_0)*exp(2*L_1*k_1) - 4*L_0*k_0*exp(2*L_0*k_0)*exp(4*L_1*k_1) + 4*L_0*k_0*exp(2*L_0*k_0) - 4*L_1*k_1*exp(4*L_0*k_0)*exp(2*L_1*k_1) + 4*L_1*k_1*exp(2*L_1*k_1) + exp(4*L_0*k_0)*exp(4*L_1*k_1) - exp(4*L_0*k_0) - exp(4*L_1*k_1) + 1) - 2*N_1*k_1*exp(2*L_1*k_1)/(16*L_0*L_1*k_0*k_1*exp(2*L_0*k_0)*exp(2*L_1*k_1) - 4*L_0*k_0*exp(2*L_0*k_0)*exp(4*L_1*k_1) + 4*L_0*k_0*exp(2*L_0*k_0) - 4*L_1*k_1*exp(4*L_0*k_0)*exp(2*L_1*k_1) + 4*L_1*k_1*exp(2*L_1*k_1) + exp(4*L_0*k_0)*exp(4*L_1*k_1) - exp(4*L_0*k_0) - exp(4*L_1*k_1) + 1) + N_1*k_1/(16*L_0*L_1*k_0*k_1*exp(2*L_0*k_0)*exp(2*L_1*k_1) - 4*L_0*k_0*exp(2*L_0*k_0)*exp(4*L_1*k_1) + 4*L_0*k_0*exp(2*L_0*k_0) - 4*L_1*k_1*exp(4*L_0*k_0)*exp(2*L_1*k_1) + 4*L_1*k_1*exp(2*L_1*k_1) + exp(4*L_0*k_0)*exp(4*L_1*k_1) - exp(4*L_0*k_0) - exp(4*L_1*k_1) + 1))"
      ]
     },
     "metadata": {},
     "output_type": "display_data"
    },
    {
     "data": {
      "text/latex": [
       "$\\displaystyle \\left|{e^{2 L_{0} k_{0}} - 1}\\right|$"
      ],
      "text/plain": [
       "Abs(exp(2*L_0*k_0) - 1)"
      ]
     },
     "metadata": {},
     "output_type": "display_data"
    },
    {
     "data": {
      "text/latex": [
       "$\\displaystyle e^{3 L_{1} k_{1}}$"
      ],
      "text/plain": [
       "exp(3*L_1*k_1)"
      ]
     },
     "metadata": {},
     "output_type": "display_data"
    },
    {
     "data": {
      "text/latex": [
       "$\\displaystyle G_{40} G_{41} G_{42} G_{43}$"
      ],
      "text/plain": [
       "G_40*G_41*G_42*G_43"
      ]
     },
     "metadata": {},
     "output_type": "display_data"
    },
    {
     "data": {
      "text/latex": [
       "$\\displaystyle G_{1} G_{5} N_{0} k_{0}$"
      ],
      "text/plain": [
       "G_1*G_5*N_0*k_0"
      ]
     },
     "metadata": {},
     "output_type": "display_data"
    },
    {
     "data": {
      "text/latex": [
       "$\\displaystyle G_{1} G_{5} N_{1} k_{1}$"
      ],
      "text/plain": [
       "G_1*G_5*N_1*k_1"
      ]
     },
     "metadata": {},
     "output_type": "display_data"
    },
    {
     "data": {
      "text/latex": [
       "$\\displaystyle G_{1} G_{7} N_{1} k_{1}$"
      ],
      "text/plain": [
       "G_1*G_7*N_1*k_1"
      ]
     },
     "metadata": {},
     "output_type": "display_data"
    },
    {
     "data": {
      "text/latex": [
       "$\\displaystyle G_{1} G_{12} N_{0} k_{0}$"
      ],
      "text/plain": [
       "G_1*G_12*N_0*k_0"
      ]
     },
     "metadata": {},
     "output_type": "display_data"
    },
    {
     "data": {
      "text/latex": [
       "$\\displaystyle G_{1} N_{0} k_{0}$"
      ],
      "text/plain": [
       "G_1*N_0*k_0"
      ]
     },
     "metadata": {},
     "output_type": "display_data"
    },
    {
     "data": {
      "text/latex": [
       "$\\displaystyle G_{1} G_{7} N_{0} k_{0}$"
      ],
      "text/plain": [
       "G_1*G_7*N_0*k_0"
      ]
     },
     "metadata": {},
     "output_type": "display_data"
    },
    {
     "data": {
      "text/latex": [
       "$\\displaystyle G_{14} G_{5} N_{0} k_{0}$"
      ],
      "text/plain": [
       "G_14*G_5*N_0*k_0"
      ]
     },
     "metadata": {},
     "output_type": "display_data"
    },
    {
     "data": {
      "text/latex": [
       "$\\displaystyle G_{1} G_{12} N_{1} k_{1}$"
      ],
      "text/plain": [
       "G_1*G_12*N_1*k_1"
      ]
     },
     "metadata": {},
     "output_type": "display_data"
    },
    {
     "data": {
      "text/latex": [
       "$\\displaystyle G_{12} L_{1} N_{0} k_{0} k_{1}$"
      ],
      "text/plain": [
       "G_12*L_1*N_0*k_0*k_1"
      ]
     },
     "metadata": {},
     "output_type": "display_data"
    },
    {
     "data": {
      "text/latex": [
       "$\\displaystyle e^{L_{1} k_{1}}$"
      ],
      "text/plain": [
       "exp(L_1*k_1)"
      ]
     },
     "metadata": {},
     "output_type": "display_data"
    },
    {
     "data": {
      "text/latex": [
       "$\\displaystyle G_{40} G_{41} G_{42} G_{54}$"
      ],
      "text/plain": [
       "G_40*G_41*G_42*G_54"
      ]
     },
     "metadata": {},
     "output_type": "display_data"
    },
    {
     "data": {
      "text/latex": [
       "$\\displaystyle G_{12} G_{14} L_{0} N_{1} k_{0} k_{1}$"
      ],
      "text/plain": [
       "G_12*G_14*L_0*N_1*k_0*k_1"
      ]
     },
     "metadata": {},
     "output_type": "display_data"
    },
    {
     "data": {
      "text/latex": [
       "$\\displaystyle G_{1} G_{12} L_{1} N_{0} k_{0} k_{1}$"
      ],
      "text/plain": [
       "G_1*G_12*L_1*N_0*k_0*k_1"
      ]
     },
     "metadata": {},
     "output_type": "display_data"
    },
    {
     "data": {
      "text/latex": [
       "$\\displaystyle G_{14} G_{5} L_{0} N_{1} k_{0} k_{1}$"
      ],
      "text/plain": [
       "G_14*G_5*L_0*N_1*k_0*k_1"
      ]
     },
     "metadata": {},
     "output_type": "display_data"
    },
    {
     "data": {
      "text/latex": [
       "$\\displaystyle G_{14} G_{7} L_{0} N_{1} k_{0} k_{1}$"
      ],
      "text/plain": [
       "G_14*G_7*L_0*N_1*k_0*k_1"
      ]
     },
     "metadata": {},
     "output_type": "display_data"
    },
    {
     "data": {
      "text/latex": [
       "$\\displaystyle G_{12} G_{14} L_{1} N_{0} k_{0} k_{1}$"
      ],
      "text/plain": [
       "G_12*G_14*L_1*N_0*k_0*k_1"
      ]
     },
     "metadata": {},
     "output_type": "display_data"
    }
   ],
   "source": [
    "for constant in big_constants.keys(): \n",
    "    display( constant )"
   ]
  },
  {
   "cell_type": "code",
   "execution_count": null,
   "id": "3fb5a9ef-fb08-45a5-8363-56047e64c984",
   "metadata": {},
   "outputs": [],
   "source": []
  },
  {
   "cell_type": "code",
   "execution_count": null,
   "id": "93e5434e-c9c4-445e-932b-a146fdbb7874",
   "metadata": {},
   "outputs": [],
   "source": []
  },
  {
   "cell_type": "code",
   "execution_count": null,
   "id": "e0c2c6d9-3d84-44fc-86b5-1c078e6298ec",
   "metadata": {},
   "outputs": [],
   "source": []
  }
 ],
 "metadata": {
  "kernelspec": {
   "display_name": "Python 3 (ipykernel)",
   "language": "python",
   "name": "python3"
  },
  "language_info": {
   "codemirror_mode": {
    "name": "ipython",
    "version": 3
   },
   "file_extension": ".py",
   "mimetype": "text/x-python",
   "name": "python",
   "nbconvert_exporter": "python",
   "pygments_lexer": "ipython3",
   "version": "3.9.10"
  }
 },
 "nbformat": 4,
 "nbformat_minor": 5
}
