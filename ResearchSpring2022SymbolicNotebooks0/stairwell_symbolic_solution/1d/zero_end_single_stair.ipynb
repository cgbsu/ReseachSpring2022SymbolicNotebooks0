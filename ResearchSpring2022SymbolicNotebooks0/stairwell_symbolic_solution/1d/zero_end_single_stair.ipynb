{
 "cells": [
  {
   "cell_type": "code",
   "execution_count": 1,
   "id": "9da4ca07-5038-40fc-b597-27be53769384",
   "metadata": {},
   "outputs": [],
   "source": [
    "import sympy as sp"
   ]
  },
  {
   "cell_type": "code",
   "execution_count": 2,
   "id": "bbd2fd19-a4e7-44c8-ba72-b83d5ae065ea",
   "metadata": {},
   "outputs": [],
   "source": [
    "import sympy.physics.units.quantities as sq"
   ]
  },
  {
   "cell_type": "code",
   "execution_count": 3,
   "id": "3b8c39ff-3668-4ef3-9add-b334784a3333",
   "metadata": {},
   "outputs": [],
   "source": [
    "from sympy.physics.quantum.constants import hbar"
   ]
  },
  {
   "cell_type": "code",
   "execution_count": null,
   "id": "75e40f13-aa6e-41d1-9ced-7a90df52a98e",
   "metadata": {},
   "outputs": [],
   "source": []
  },
  {
   "cell_type": "code",
   "execution_count": 4,
   "id": "82f14997-b75d-4dd8-baf6-d565f0b12bd1",
   "metadata": {},
   "outputs": [],
   "source": [
    "from custom_libraries.stepper import *"
   ]
  },
  {
   "cell_type": "code",
   "execution_count": 5,
   "id": "100adb60-1868-493c-bbe9-9b2dd1bf5af6",
   "metadata": {},
   "outputs": [],
   "source": [
    "from custom_libraries.schrodinger import *"
   ]
  },
  {
   "cell_type": "code",
   "execution_count": 6,
   "id": "4d10ab16-1b4f-402a-bcd5-8029292865bc",
   "metadata": {},
   "outputs": [],
   "source": [
    "from custom_libraries.utilities import *"
   ]
  },
  {
   "cell_type": "code",
   "execution_count": null,
   "id": "95748091-3fe2-45a3-beaa-0e56ac4e61f9",
   "metadata": {},
   "outputs": [],
   "source": []
  },
  {
   "cell_type": "code",
   "execution_count": 7,
   "id": "151680e1-cc8c-4f02-9fbc-32cb1b19f56f",
   "metadata": {},
   "outputs": [],
   "source": [
    "def real_harmonics( _ ):\n",
    "    assumptions = standard_harmonic_assumptions( _ );\n",
    "    assumptions.update( { 'real' : True } )\n",
    "    return assumptions"
   ]
  },
  {
   "cell_type": "code",
   "execution_count": null,
   "id": "20bc043c-2168-45b2-b95d-32fcdb201da9",
   "metadata": {},
   "outputs": [],
   "source": []
  },
  {
   "cell_type": "code",
   "execution_count": 8,
   "id": "8984696f-ac0b-4d68-8f5f-036778be011f",
   "metadata": {},
   "outputs": [],
   "source": [
    "stairwell_solver = TimeIndependentSchrodingerConstantPotentials1D( \n",
    "        StairWell.default_non_uniform_length_potential_table(), \n",
    "        tuple( StairWell.default_non_uniform_length_potential_table().keys() )[ -1 ], \n",
    "        make_psis = make_psi_numbered, \n",
    "        harmonics_assumptions = real_harmonics, \n",
    "        repeating = False, \n",
    "        as_distances = True, \n",
    "        #as_distances = False, \n",
    "        #normalization_conjugate_not_squared_absolute_value = False\n",
    "    )"
   ]
  },
  {
   "cell_type": "code",
   "execution_count": null,
   "id": "2e946e04-0121-448e-8269-4e69ba4e1c28",
   "metadata": {},
   "outputs": [],
   "source": []
  },
  {
   "cell_type": "code",
   "execution_count": 9,
   "id": "012de83f-543a-49d4-b421-ff2d2400121d",
   "metadata": {},
   "outputs": [
    {
     "data": {
      "text/plain": [
       "(('BoundryZeroConditions', {\\psi_{0}(0): 0, \\psi_{2}(L_2): 0}),\n",
       " ('BoundryZeroConditions', {\\psi_{0}(0): 0, \\psi_{2}(L_2): 0}))"
      ]
     },
     "execution_count": 9,
     "metadata": {},
     "output_type": "execute_result"
    }
   ],
   "source": [
    "stairwell_solver.impose_zero_conditions_to_ends()"
   ]
  },
  {
   "cell_type": "code",
   "execution_count": null,
   "id": "78798fb3-fd83-40b7-9180-c8da0dbe588e",
   "metadata": {},
   "outputs": [],
   "source": []
  },
  {
   "cell_type": "code",
   "execution_count": 10,
   "id": "bc51b09a-c161-4008-b763-81f71b487841",
   "metadata": {},
   "outputs": [
    {
     "data": {
      "text/latex": [
       "$\\displaystyle - k_{0}^{2} \\psi_{0}{\\left(x \\right)} + \\frac{d^{2}}{d x^{2}} \\psi_{0}{\\left(x \\right)} = 0$"
      ],
      "text/plain": [
       "Eq(-k_0**2*\\psi_{0}(x) + Derivative(\\psi_{0}(x), (x, 2)), 0)"
      ]
     },
     "metadata": {},
     "output_type": "display_data"
    },
    {
     "data": {
      "text/latex": [
       "$\\displaystyle - k_{1}^{2} \\psi_{1}{\\left(x \\right)} + \\frac{d^{2}}{d x^{2}} \\psi_{1}{\\left(x \\right)} = 0$"
      ],
      "text/plain": [
       "Eq(-k_1**2*\\psi_{1}(x) + Derivative(\\psi_{1}(x), (x, 2)), 0)"
      ]
     },
     "metadata": {},
     "output_type": "display_data"
    },
    {
     "data": {
      "text/latex": [
       "$\\displaystyle - k_{2}^{2} \\psi_{2}{\\left(x \\right)} + \\frac{d^{2}}{d x^{2}} \\psi_{2}{\\left(x \\right)} = 0$"
      ],
      "text/plain": [
       "Eq(-k_2**2*\\psi_{2}(x) + Derivative(\\psi_{2}(x), (x, 2)), 0)"
      ]
     },
     "metadata": {},
     "output_type": "display_data"
    }
   ],
   "source": [
    "display_steps( stairwell_solver.equations )"
   ]
  },
  {
   "cell_type": "code",
   "execution_count": null,
   "id": "a0757648-d8b4-4a28-b351-221f4830ff75",
   "metadata": {},
   "outputs": [],
   "source": []
  },
  {
   "cell_type": "code",
   "execution_count": 11,
   "id": "28d85323-24e4-49cb-93e6-54953e6104c7",
   "metadata": {},
   "outputs": [
    {
     "data": {
      "text/latex": [
       "$\\displaystyle k_{0} = \\frac{\\sqrt{2} \\sqrt{- E + V_{0}} \\sqrt{\\text{m}}}{\\hbar}$"
      ],
      "text/plain": [
       "Eq(k_0, sqrt(2)*sqrt(m)*sqrt(-E + V_0)/hbar)"
      ]
     },
     "metadata": {},
     "output_type": "display_data"
    },
    {
     "data": {
      "text/latex": [
       "$\\displaystyle k_{1} = \\frac{\\sqrt{2} \\sqrt{- E + V_{1}} \\sqrt{\\text{m}}}{\\hbar}$"
      ],
      "text/plain": [
       "Eq(k_1, sqrt(2)*sqrt(m)*sqrt(-E + V_1)/hbar)"
      ]
     },
     "metadata": {},
     "output_type": "display_data"
    },
    {
     "data": {
      "text/latex": [
       "$\\displaystyle k_{2} = \\frac{\\sqrt{2} \\sqrt{- E + V_{2}} \\sqrt{\\text{m}}}{\\hbar}$"
      ],
      "text/plain": [
       "Eq(k_2, sqrt(2)*sqrt(m)*sqrt(-E + V_2)/hbar)"
      ]
     },
     "metadata": {},
     "output_type": "display_data"
    }
   ],
   "source": [
    "display_in( stairwell_solver.harmonic_constants )"
   ]
  },
  {
   "cell_type": "code",
   "execution_count": 12,
   "id": "20f53166-87ec-4057-932d-5b0947a3427b",
   "metadata": {},
   "outputs": [
    {
     "data": {
      "text/plain": [
       "{'ContinuityConditions': {\\psi_{0}(L_0): \\psi_{1}(0),\n",
       "  \\psi_{1}(L_1): \\psi_{2}(0)},\n",
       " 'BoundryZeroConditions': {\\psi_{0}(0): 0, \\psi_{2}(L_2): 0}}"
      ]
     },
     "execution_count": 12,
     "metadata": {},
     "output_type": "execute_result"
    }
   ],
   "source": [
    "stairwell_solver.boundries.boundries"
   ]
  },
  {
   "cell_type": "code",
   "execution_count": 13,
   "id": "9fe5cbdc-ea5a-4ca1-a54f-a70e30069bec",
   "metadata": {},
   "outputs": [
    {
     "data": {
      "text/plain": [
       "{\\psi_{0}(L_0): \\psi_{1}(0), \\psi_{1}(L_1): \\psi_{2}(0)}"
      ]
     },
     "execution_count": 13,
     "metadata": {},
     "output_type": "execute_result"
    }
   ],
   "source": [
    "stairwell_solver.boundries.ContinuityConditions"
   ]
  },
  {
   "cell_type": "code",
   "execution_count": null,
   "id": "1cee42e4-0490-4850-b52f-3b6b9547e3f1",
   "metadata": {},
   "outputs": [],
   "source": []
  },
  {
   "cell_type": "code",
   "execution_count": 14,
   "id": "d78132f8-2d0a-438c-a94d-3c5d1b79786d",
   "metadata": {},
   "outputs": [
    {
     "data": {
      "text/plain": [
       "{\\psi_{0}(0): 0, \\psi_{2}(L_2): 0}"
      ]
     },
     "execution_count": 14,
     "metadata": {},
     "output_type": "execute_result"
    }
   ],
   "source": [
    "stairwell_solver.boundries.BoundryZeroConditions"
   ]
  },
  {
   "cell_type": "code",
   "execution_count": null,
   "id": "519623f3-e044-4ce4-89ce-0bf045971c69",
   "metadata": {},
   "outputs": [],
   "source": []
  },
  {
   "cell_type": "code",
   "execution_count": 15,
   "id": "bad0d660-061c-4402-af40-79303da747d0",
   "metadata": {},
   "outputs": [
    {
     "data": {
      "text/plain": [
       "('LastUpdatedAllBoundryConditions',\n",
       " {\\psi_{0}(L_0): \\psi_{1}(0),\n",
       "  \\psi_{1}(L_1): \\psi_{2}(0),\n",
       "  \\psi_{0}(0): 0,\n",
       "  \\psi_{2}(L_2): 0})"
      ]
     },
     "execution_count": 15,
     "metadata": {},
     "output_type": "execute_result"
    }
   ],
   "source": [
    "stairwell_solver.boundries.update_all_boundry_conditions()"
   ]
  },
  {
   "cell_type": "code",
   "execution_count": null,
   "id": "7da0e1b5-1c97-4329-bd28-5b9447f76641",
   "metadata": {},
   "outputs": [],
   "source": []
  },
  {
   "cell_type": "code",
   "execution_count": 16,
   "id": "03f1960a-88b6-4ef2-9101-fb89a936000a",
   "metadata": {},
   "outputs": [
    {
     "data": {
      "text/plain": [
       "'ContinuityConditions'"
      ]
     },
     "metadata": {},
     "output_type": "display_data"
    },
    {
     "data": {
      "text/latex": [
       "$\\displaystyle \\psi_{0}{\\left(L_{0} \\right)} = \\psi_{1}{\\left(0 \\right)}$"
      ],
      "text/plain": [
       "Eq(\\psi_{0}(L_0), \\psi_{1}(0))"
      ]
     },
     "metadata": {},
     "output_type": "display_data"
    },
    {
     "data": {
      "text/latex": [
       "$\\displaystyle \\psi_{1}{\\left(L_{1} \\right)} = \\psi_{2}{\\left(0 \\right)}$"
      ],
      "text/plain": [
       "Eq(\\psi_{1}(L_1), \\psi_{2}(0))"
      ]
     },
     "metadata": {},
     "output_type": "display_data"
    },
    {
     "data": {
      "text/plain": [
       "'BoundryZeroConditions'"
      ]
     },
     "metadata": {},
     "output_type": "display_data"
    },
    {
     "data": {
      "text/latex": [
       "$\\displaystyle \\psi_{0}{\\left(0 \\right)} = 0$"
      ],
      "text/plain": [
       "Eq(\\psi_{0}(0), 0)"
      ]
     },
     "metadata": {},
     "output_type": "display_data"
    },
    {
     "data": {
      "text/latex": [
       "$\\displaystyle \\psi_{2}{\\left(L_{2} \\right)} = 0$"
      ],
      "text/plain": [
       "Eq(\\psi_{2}(L_2), 0)"
      ]
     },
     "metadata": {},
     "output_type": "display_data"
    },
    {
     "data": {
      "text/plain": [
       "'LastUpdatedAllBoundryConditions'"
      ]
     },
     "metadata": {},
     "output_type": "display_data"
    },
    {
     "data": {
      "text/latex": [
       "$\\displaystyle \\psi_{0}{\\left(L_{0} \\right)} = \\psi_{1}{\\left(0 \\right)}$"
      ],
      "text/plain": [
       "Eq(\\psi_{0}(L_0), \\psi_{1}(0))"
      ]
     },
     "metadata": {},
     "output_type": "display_data"
    },
    {
     "data": {
      "text/latex": [
       "$\\displaystyle \\psi_{1}{\\left(L_{1} \\right)} = \\psi_{2}{\\left(0 \\right)}$"
      ],
      "text/plain": [
       "Eq(\\psi_{1}(L_1), \\psi_{2}(0))"
      ]
     },
     "metadata": {},
     "output_type": "display_data"
    },
    {
     "data": {
      "text/latex": [
       "$\\displaystyle \\psi_{0}{\\left(0 \\right)} = 0$"
      ],
      "text/plain": [
       "Eq(\\psi_{0}(0), 0)"
      ]
     },
     "metadata": {},
     "output_type": "display_data"
    },
    {
     "data": {
      "text/latex": [
       "$\\displaystyle \\psi_{2}{\\left(L_{2} \\right)} = 0$"
      ],
      "text/plain": [
       "Eq(\\psi_{2}(L_2), 0)"
      ]
     },
     "metadata": {},
     "output_type": "display_data"
    }
   ],
   "source": [
    "stairwell_solver.boundries.display()"
   ]
  },
  {
   "cell_type": "code",
   "execution_count": 17,
   "id": "3fc0fbd1-a832-4ef7-803b-814812d18099",
   "metadata": {},
   "outputs": [
    {
     "data": {
      "text/plain": [
       "<custom_libraries.schrodinger.TimeIndependentSchrodingerConstantPotentials1D at 0x7fc4b45f9640>"
      ]
     },
     "execution_count": 17,
     "metadata": {},
     "output_type": "execute_result"
    }
   ],
   "source": [
    "stairwell_solver"
   ]
  },
  {
   "cell_type": "code",
   "execution_count": 18,
   "id": "0f4574ca-54c8-4820-9212-d94622eab763",
   "metadata": {
    "tags": []
   },
   "outputs": [],
   "source": [
    "solutions = stairwell_solver.solve_odes()"
   ]
  },
  {
   "cell_type": "code",
   "execution_count": null,
   "id": "f1a5e157-8b2f-4d4f-bb64-268ebfba1344",
   "metadata": {},
   "outputs": [],
   "source": []
  },
  {
   "cell_type": "code",
   "execution_count": 19,
   "id": "906f8879-c568-484d-b095-81bbdaf9fce3",
   "metadata": {},
   "outputs": [
    {
     "data": {
      "text/latex": [
       "$\\displaystyle \\psi_{0}{\\left(x \\right)} = \\frac{\\psi_{1}{\\left(0 \\right)} e^{L_{0} k_{0}} e^{k_{0} x}}{e^{2 L_{0} k_{0}} - 1} - \\frac{\\psi_{1}{\\left(0 \\right)} e^{L_{0} k_{0}} e^{- k_{0} x}}{e^{2 L_{0} k_{0}} - 1}$"
      ],
      "text/plain": [
       "Eq(\\psi_{0}(x), \\psi_{1}(0)*exp(L_0*k_0)*exp(k_0*x)/(exp(2*L_0*k_0) - 1) - \\psi_{1}(0)*exp(L_0*k_0)*exp(-k_0*x)/(exp(2*L_0*k_0) - 1))"
      ]
     },
     "metadata": {},
     "output_type": "display_data"
    },
    {
     "data": {
      "text/latex": [
       "$\\displaystyle \\psi_{1}{\\left(x \\right)} = \\frac{\\left(\\psi_{0}{\\left(L_{0} \\right)} e^{2 L_{1} k_{1}} - \\psi_{2}{\\left(0 \\right)} e^{L_{1} k_{1}}\\right) e^{- k_{1} x}}{e^{2 L_{1} k_{1}} - 1} + \\frac{\\left(- \\psi_{0}{\\left(L_{0} \\right)} + \\psi_{2}{\\left(0 \\right)} e^{L_{1} k_{1}}\\right) e^{k_{1} x}}{e^{2 L_{1} k_{1}} - 1}$"
      ],
      "text/plain": [
       "Eq(\\psi_{1}(x), (\\psi_{0}(L_0)*exp(2*L_1*k_1) - \\psi_{2}(0)*exp(L_1*k_1))*exp(-k_1*x)/(exp(2*L_1*k_1) - 1) + (-\\psi_{0}(L_0) + \\psi_{2}(0)*exp(L_1*k_1))*exp(k_1*x)/(exp(2*L_1*k_1) - 1))"
      ]
     },
     "metadata": {},
     "output_type": "display_data"
    },
    {
     "data": {
      "text/latex": [
       "$\\displaystyle \\psi_{2}{\\left(x \\right)} = \\frac{\\psi_{1}{\\left(L_{1} \\right)} e^{2 L_{2} k_{2}} e^{- k_{2} x}}{e^{2 L_{2} k_{2}} - 1} - \\frac{\\psi_{1}{\\left(L_{1} \\right)} e^{k_{2} x}}{e^{2 L_{2} k_{2}} - 1}$"
      ],
      "text/plain": [
       "Eq(\\psi_{2}(x), \\psi_{1}(L_1)*exp(2*L_2*k_2)*exp(-k_2*x)/(exp(2*L_2*k_2) - 1) - \\psi_{1}(L_1)*exp(k_2*x)/(exp(2*L_2*k_2) - 1))"
      ]
     },
     "metadata": {},
     "output_type": "display_data"
    }
   ],
   "source": [
    "display_in( solutions )"
   ]
  },
  {
   "cell_type": "code",
   "execution_count": null,
   "id": "84e87233-5ba7-4cb7-a3f7-370403e55bb0",
   "metadata": {},
   "outputs": [],
   "source": []
  },
  {
   "cell_type": "code",
   "execution_count": 20,
   "id": "e0ca1cc1-1b0f-4d1b-a646-1cce6caf6eed",
   "metadata": {},
   "outputs": [
    {
     "data": {
      "text/plain": [
       "[<custom_libraries.stepper.Stepper at 0x7fc4b46126d0>,\n",
       " <custom_libraries.stepper.Stepper at 0x7fc4b4612850>,\n",
       " <custom_libraries.stepper.Stepper at 0x7fc4b4612940>]"
      ]
     },
     "execution_count": 20,
     "metadata": {},
     "output_type": "execute_result"
    }
   ],
   "source": [
    "stairwell_solver.substitute_wave_functions_into_normalizations()"
   ]
  },
  {
   "cell_type": "code",
   "execution_count": 21,
   "id": "ca842015-740c-4620-be56-3d5b61b0a685",
   "metadata": {},
   "outputs": [
    {
     "data": {
      "text/plain": [
       "([<custom_libraries.stepper.Stepper at 0x7fc4b4612d00>,\n",
       "  <custom_libraries.stepper.Stepper at 0x7fc4b45f9910>,\n",
       "  <custom_libraries.stepper.Stepper at 0x7fc4b45f93a0>],\n",
       " [<custom_libraries.stepper.Stepper at 0x7fc4b46126d0>,\n",
       "  <custom_libraries.stepper.Stepper at 0x7fc4b4612850>,\n",
       "  <custom_libraries.stepper.Stepper at 0x7fc4b4612940>])"
      ]
     },
     "execution_count": 21,
     "metadata": {},
     "output_type": "execute_result"
    }
   ],
   "source": [
    "stairwell_solver.boundries_in_expression_to_constants()"
   ]
  },
  {
   "cell_type": "code",
   "execution_count": 22,
   "id": "f398e39e-055e-4981-9740-8513148b9789",
   "metadata": {},
   "outputs": [
    {
     "data": {
      "text/latex": [
       "$\\displaystyle \\psi_{0}{\\left(x \\right)} = \\frac{B_{0} e^{L_{0} k_{0}} e^{k_{0} x}}{e^{2 L_{0} k_{0}} - 1} - \\frac{B_{0} e^{L_{0} k_{0}} e^{- k_{0} x}}{e^{2 L_{0} k_{0}} - 1}$"
      ],
      "text/plain": [
       "Eq(\\psi_{0}(x), B_{0}*exp(L_0*k_0)*exp(k_0*x)/(exp(2*L_0*k_0) - 1) - B_{0}*exp(L_0*k_0)*exp(-k_0*x)/(exp(2*L_0*k_0) - 1))"
      ]
     },
     "metadata": {},
     "output_type": "display_data"
    },
    {
     "data": {
      "text/latex": [
       "$\\displaystyle \\psi_{1}{\\left(x \\right)} = \\frac{\\left(- B_{0} + B_{1} e^{L_{1} k_{1}}\\right) e^{k_{1} x}}{e^{2 L_{1} k_{1}} - 1} + \\frac{\\left(B_{0} e^{2 L_{1} k_{1}} - B_{1} e^{L_{1} k_{1}}\\right) e^{- k_{1} x}}{e^{2 L_{1} k_{1}} - 1}$"
      ],
      "text/plain": [
       "Eq(\\psi_{1}(x), (-B_{0} + B_{1}*exp(L_1*k_1))*exp(k_1*x)/(exp(2*L_1*k_1) - 1) + (B_{0}*exp(2*L_1*k_1) - B_{1}*exp(L_1*k_1))*exp(-k_1*x)/(exp(2*L_1*k_1) - 1))"
      ]
     },
     "metadata": {},
     "output_type": "display_data"
    },
    {
     "data": {
      "text/latex": [
       "$\\displaystyle \\psi_{2}{\\left(x \\right)} = \\frac{B_{1} e^{2 L_{2} k_{2}} e^{- k_{2} x}}{e^{2 L_{2} k_{2}} - 1} - \\frac{B_{1} e^{k_{2} x}}{e^{2 L_{2} k_{2}} - 1}$"
      ],
      "text/plain": [
       "Eq(\\psi_{2}(x), B_{1}*exp(2*L_2*k_2)*exp(-k_2*x)/(exp(2*L_2*k_2) - 1) - B_{1}*exp(k_2*x)/(exp(2*L_2*k_2) - 1))"
      ]
     },
     "metadata": {},
     "output_type": "display_data"
    }
   ],
   "source": [
    "display_steps( stairwell_solver.equations )"
   ]
  },
  {
   "cell_type": "code",
   "execution_count": null,
   "id": "ace409f1-a01c-4d97-9401-2172db2159ac",
   "metadata": {},
   "outputs": [],
   "source": []
  },
  {
   "cell_type": "code",
   "execution_count": 23,
   "id": "1bf6f05f-281a-43cb-a04a-9083533ab05b",
   "metadata": {},
   "outputs": [
    {
     "data": {
      "text/latex": [
       "$\\displaystyle \\int\\limits_{0}^{L_{0}} \\left(\\frac{B_{0} e^{L_{0} k_{0}} e^{k_{0} x}}{e^{2 L_{0} k_{0}} - 1} - \\frac{B_{0} e^{L_{0} k_{0}} e^{- k_{0} x}}{e^{2 L_{0} k_{0}} - 1}\\right) \\left(\\frac{e^{L_{0} k_{0}} e^{k_{0} x} \\overline{B_{0}}}{e^{2 L_{0} k_{0}} - 1} - \\frac{e^{L_{0} k_{0}} e^{- k_{0} x} \\overline{B_{0}}}{e^{2 L_{0} k_{0}} - 1}\\right)\\, dx = N_{0}$"
      ],
      "text/plain": [
       "Eq(Integral((B_{0}*exp(L_0*k_0)*exp(k_0*x)/(exp(2*L_0*k_0) - 1) - B_{0}*exp(L_0*k_0)*exp(-k_0*x)/(exp(2*L_0*k_0) - 1))*(exp(L_0*k_0)*exp(k_0*x)*conjugate(B_{0})/(exp(2*L_0*k_0) - 1) - exp(L_0*k_0)*exp(-k_0*x)*conjugate(B_{0})/(exp(2*L_0*k_0) - 1)), (x, 0, L_0)), N_{0})"
      ]
     },
     "metadata": {},
     "output_type": "display_data"
    },
    {
     "data": {
      "text/latex": [
       "$\\displaystyle \\int\\limits_{0}^{L_{1}} \\left(\\frac{\\left(- B_{0} + B_{1} e^{L_{1} k_{1}}\\right) e^{k_{1} x}}{e^{2 L_{1} k_{1}} - 1} + \\frac{\\left(B_{0} e^{2 L_{1} k_{1}} - B_{1} e^{L_{1} k_{1}}\\right) e^{- k_{1} x}}{e^{2 L_{1} k_{1}} - 1}\\right) \\left(\\frac{\\left(e^{L_{1} k_{1}} \\overline{B_{1}} - \\overline{B_{0}}\\right) e^{k_{1} x}}{e^{2 L_{1} k_{1}} - 1} + \\frac{\\left(e^{2 L_{1} k_{1}} \\overline{B_{0}} - e^{L_{1} k_{1}} \\overline{B_{1}}\\right) e^{- k_{1} x}}{e^{2 L_{1} k_{1}} - 1}\\right)\\, dx = N_{1}$"
      ],
      "text/plain": [
       "Eq(Integral(((-B_{0} + B_{1}*exp(L_1*k_1))*exp(k_1*x)/(exp(2*L_1*k_1) - 1) + (B_{0}*exp(2*L_1*k_1) - B_{1}*exp(L_1*k_1))*exp(-k_1*x)/(exp(2*L_1*k_1) - 1))*((exp(L_1*k_1)*conjugate(B_{1}) - conjugate(B_{0}))*exp(k_1*x)/(exp(2*L_1*k_1) - 1) + (exp(2*L_1*k_1)*conjugate(B_{0}) - exp(L_1*k_1)*conjugate(B_{1}))*exp(-k_1*x)/(exp(2*L_1*k_1) - 1)), (x, 0, L_1)), N_{1})"
      ]
     },
     "metadata": {},
     "output_type": "display_data"
    },
    {
     "data": {
      "text/latex": [
       "$\\displaystyle \\int\\limits_{0}^{L_{2}} \\left(\\frac{B_{1} e^{2 L_{2} k_{2}} e^{- k_{2} x}}{e^{2 L_{2} k_{2}} - 1} - \\frac{B_{1} e^{k_{2} x}}{e^{2 L_{2} k_{2}} - 1}\\right) \\left(\\frac{e^{2 L_{2} k_{2}} e^{- k_{2} x} \\overline{B_{1}}}{e^{2 L_{2} k_{2}} - 1} - \\frac{e^{k_{2} x} \\overline{B_{1}}}{e^{2 L_{2} k_{2}} - 1}\\right)\\, dx = N_{2}$"
      ],
      "text/plain": [
       "Eq(Integral((B_{1}*exp(2*L_2*k_2)*exp(-k_2*x)/(exp(2*L_2*k_2) - 1) - B_{1}*exp(k_2*x)/(exp(2*L_2*k_2) - 1))*(exp(2*L_2*k_2)*exp(-k_2*x)*conjugate(B_{1})/(exp(2*L_2*k_2) - 1) - exp(k_2*x)*conjugate(B_{1})/(exp(2*L_2*k_2) - 1)), (x, 0, L_2)), N_{2})"
      ]
     },
     "metadata": {},
     "output_type": "display_data"
    }
   ],
   "source": [
    "display_steps( stairwell_solver.normalizations )"
   ]
  },
  {
   "cell_type": "code",
   "execution_count": null,
   "id": "f2fc26d5-b90e-4238-ad46-75f0fb1d40a9",
   "metadata": {},
   "outputs": [],
   "source": []
  },
  {
   "cell_type": "code",
   "execution_count": null,
   "id": "c50eb079-fda5-4b1c-a242-8a0ffea46bb8",
   "metadata": {},
   "outputs": [],
   "source": []
  },
  {
   "cell_type": "code",
   "execution_count": 24,
   "id": "2b713b2e-f5ee-4206-9e8b-1ade8af2f913",
   "metadata": {},
   "outputs": [],
   "source": [
    "for normalization in stairwell_solver.normalizations: \n",
    "    result, constants = group_constants( normalization.last_step(), [ stairwell_solver.position ] + stairwell_solver.boundry_constant_symbols, 'Q' )\n",
    "    normalization.add_step( result )"
   ]
  },
  {
   "cell_type": "code",
   "execution_count": null,
   "id": "0994b8f5-57cc-4a1e-82ee-2c84576fbd5e",
   "metadata": {},
   "outputs": [],
   "source": []
  },
  {
   "cell_type": "code",
   "execution_count": 25,
   "id": "c0e808a9-50ed-47d0-8dec-cf5ee7d22f19",
   "metadata": {},
   "outputs": [
    {
     "data": {
      "text/latex": [
       "$\\displaystyle \\int\\limits_{0}^{L_{0}} \\left(B_{0} Q_{3} e^{Q_{2} x} - B_{0} Q_{3} e^{- Q_{2} x}\\right) \\left(Q_{3} e^{Q_{2} x} \\overline{B_{0}} - Q_{3} e^{- Q_{2} x} \\overline{B_{0}}\\right)\\, dx = N_{0}$"
      ],
      "text/plain": [
       "Eq(Integral((B_{0}*Q_{3}*exp(Q_{2}*x) - B_{0}*Q_{3}*exp(-Q_{2}*x))*(Q_{3}*exp(Q_{2}*x)*conjugate(B_{0}) - Q_{3}*exp(-Q_{2}*x)*conjugate(B_{0})), (x, 0, L_0)), N_{0})"
      ]
     },
     "metadata": {},
     "output_type": "display_data"
    },
    {
     "data": {
      "text/latex": [
       "$\\displaystyle \\int\\limits_{0}^{L_{1}} \\left(Q_{4} \\left(- B_{0} + B_{1} Q_{2}\\right) e^{Q_{3} x} + Q_{4} \\left(B_{0} Q_{6} - B_{1} Q_{2}\\right) e^{- Q_{3} x}\\right) \\left(Q_{4} \\left(- Q_{2} \\overline{B_{1}} + Q_{6} \\overline{B_{0}}\\right) e^{- Q_{3} x} + Q_{4} \\left(Q_{2} \\overline{B_{1}} - \\overline{B_{0}}\\right) e^{Q_{3} x}\\right)\\, dx = N_{1}$"
      ],
      "text/plain": [
       "Eq(Integral((Q_{4}*(-B_{0} + B_{1}*Q_{2})*exp(Q_{3}*x) + Q_{4}*(B_{0}*Q_{6} - B_{1}*Q_{2})*exp(-Q_{3}*x))*(Q_{4}*(-Q_{2}*conjugate(B_{1}) + Q_{6}*conjugate(B_{0}))*exp(-Q_{3}*x) + Q_{4}*(Q_{2}*conjugate(B_{1}) - conjugate(B_{0}))*exp(Q_{3}*x)), (x, 0, L_1)), N_{1})"
      ]
     },
     "metadata": {},
     "output_type": "display_data"
    },
    {
     "data": {
      "text/latex": [
       "$\\displaystyle \\int\\limits_{0}^{L_{2}} \\left(- B_{1} Q_{2} e^{Q_{1} x} + B_{1} Q_{4} e^{- Q_{1} x}\\right) \\left(- Q_{2} e^{Q_{1} x} \\overline{B_{1}} + Q_{4} e^{- Q_{1} x} \\overline{B_{1}}\\right)\\, dx = N_{2}$"
      ],
      "text/plain": [
       "Eq(Integral((-B_{1}*Q_{2}*exp(Q_{1}*x) + B_{1}*Q_{4}*exp(-Q_{1}*x))*(-Q_{2}*exp(Q_{1}*x)*conjugate(B_{1}) + Q_{4}*exp(-Q_{1}*x)*conjugate(B_{1})), (x, 0, L_2)), N_{2})"
      ]
     },
     "metadata": {},
     "output_type": "display_data"
    }
   ],
   "source": [
    "display_steps( stairwell_solver.normalizations )"
   ]
  },
  {
   "cell_type": "code",
   "execution_count": null,
   "id": "a74ef523-c928-4109-86c7-baede7df3468",
   "metadata": {},
   "outputs": [],
   "source": []
  },
  {
   "cell_type": "code",
   "execution_count": null,
   "id": "add3910c-5045-4408-8bfb-a4a62a448d9c",
   "metadata": {},
   "outputs": [],
   "source": []
  },
  {
   "cell_type": "code",
   "execution_count": 26,
   "id": "61c3e519-2b4c-44fb-b3fa-798b27962863",
   "metadata": {},
   "outputs": [],
   "source": [
    "display_table = lambda table : [ ( display( key ), display_steps( table[ key ] ) ) for key in table ]"
   ]
  },
  {
   "cell_type": "code",
   "execution_count": null,
   "id": "d692aa09-c51b-4ad8-a453-3d0e36408850",
   "metadata": {},
   "outputs": [],
   "source": []
  },
  {
   "cell_type": "code",
   "execution_count": 27,
   "id": "1bb4830a-944a-470e-b6b2-a65bcc22fa6d",
   "metadata": {},
   "outputs": [
    {
     "name": "stdout",
     "output_type": "stream",
     "text": [
      "Has  B_{0}\n",
      "Solutions:  [Piecewise((-sqrt(2)*sqrt(-N_{0}*Q_{2}/(Q_{3}**2*(4*L_0*Q_{2}*exp(2*L_0*Q_{2}) - exp(4*L_0*Q_{2}) + 1)))*exp(L_0*Q_{2}), Ne(Q_{2}, 0)), (nan, True)), Piecewise((sqrt(2)*sqrt(-N_{0}*Q_{2}/(Q_{3}**2*(4*L_0*Q_{2}*exp(2*L_0*Q_{2}) - exp(4*L_0*Q_{2}) + 1)))*exp(L_0*Q_{2}), Ne(Q_{2}, 0)), (nan, True))]\n"
     ]
    },
    {
     "data": {
      "text/latex": [
       "$\\displaystyle B_{0}$"
      ],
      "text/plain": [
       "B_{0}"
      ]
     },
     "metadata": {},
     "output_type": "display_data"
    },
    {
     "name": "stdout",
     "output_type": "stream",
     "text": [
      "I have sols!\n"
     ]
    },
    {
     "data": {
      "text/latex": [
       "$\\displaystyle \\begin{cases} - \\sqrt{2} \\sqrt{- \\frac{N_{0} Q_{2}}{Q_{3}^{2} \\left(4 L_{0} Q_{2} e^{2 L_{0} Q_{2}} - e^{4 L_{0} Q_{2}} + 1\\right)}} e^{L_{0} Q_{2}} & \\text{for}\\: Q_{2} \\neq 0 \\\\\\text{NaN} & \\text{otherwise} \\end{cases}$"
      ],
      "text/plain": [
       "Piecewise((-sqrt(2)*sqrt(-N_{0}*Q_{2}/(Q_{3}**2*(4*L_0*Q_{2}*exp(2*L_0*Q_{2}) - exp(4*L_0*Q_{2}) + 1)))*exp(L_0*Q_{2}), Ne(Q_{2}, 0)), (nan, True))"
      ]
     },
     "metadata": {},
     "output_type": "display_data"
    },
    {
     "data": {
      "text/latex": [
       "$\\displaystyle \\begin{cases} \\sqrt{2} \\sqrt{- \\frac{N_{0} Q_{2}}{Q_{3}^{2} \\left(4 L_{0} Q_{2} e^{2 L_{0} Q_{2}} - e^{4 L_{0} Q_{2}} + 1\\right)}} e^{L_{0} Q_{2}} & \\text{for}\\: Q_{2} \\neq 0 \\\\\\text{NaN} & \\text{otherwise} \\end{cases}$"
      ],
      "text/plain": [
       "Piecewise((sqrt(2)*sqrt(-N_{0}*Q_{2}/(Q_{3}**2*(4*L_0*Q_{2}*exp(2*L_0*Q_{2}) - exp(4*L_0*Q_{2}) + 1)))*exp(L_0*Q_{2}), Ne(Q_{2}, 0)), (nan, True))"
      ]
     },
     "metadata": {},
     "output_type": "display_data"
    },
    {
     "name": "stdout",
     "output_type": "stream",
     "text": [
      "Solved for  B_{0}\n"
     ]
    }
   ],
   "source": [
    "auto_solved = {}\n",
    "auto_solved[ 0 ] = stairwell_solver.solve_boundry_constants_from_equation( stairwell_solver.normalizations[ 0 ] )"
   ]
  },
  {
   "cell_type": "code",
   "execution_count": 28,
   "id": "7aaaaa91-91e0-4bc5-a298-bd97dd460a91",
   "metadata": {},
   "outputs": [
    {
     "data": {
      "text/latex": [
       "$\\displaystyle B_{0}$"
      ],
      "text/plain": [
       "B_{0}"
      ]
     },
     "metadata": {},
     "output_type": "display_data"
    },
    {
     "data": {
      "text/latex": [
       "$\\displaystyle \\begin{cases} - \\sqrt{2} \\sqrt{- \\frac{N_{0} Q_{2}}{Q_{3}^{2} \\left(4 L_{0} Q_{2} e^{2 L_{0} Q_{2}} - e^{4 L_{0} Q_{2}} + 1\\right)}} e^{L_{0} Q_{2}} & \\text{for}\\: Q_{2} \\neq 0 \\\\\\text{NaN} & \\text{otherwise} \\end{cases}$"
      ],
      "text/plain": [
       "Piecewise((-sqrt(2)*sqrt(-N_{0}*Q_{2}/(Q_{3}**2*(4*L_0*Q_{2}*exp(2*L_0*Q_{2}) - exp(4*L_0*Q_{2}) + 1)))*exp(L_0*Q_{2}), Ne(Q_{2}, 0)), (nan, True))"
      ]
     },
     "metadata": {},
     "output_type": "display_data"
    },
    {
     "data": {
      "text/latex": [
       "$\\displaystyle \\begin{cases} \\sqrt{2} \\sqrt{- \\frac{N_{0} Q_{2}}{Q_{3}^{2} \\left(4 L_{0} Q_{2} e^{2 L_{0} Q_{2}} - e^{4 L_{0} Q_{2}} + 1\\right)}} e^{L_{0} Q_{2}} & \\text{for}\\: Q_{2} \\neq 0 \\\\\\text{NaN} & \\text{otherwise} \\end{cases}$"
      ],
      "text/plain": [
       "Piecewise((sqrt(2)*sqrt(-N_{0}*Q_{2}/(Q_{3}**2*(4*L_0*Q_{2}*exp(2*L_0*Q_{2}) - exp(4*L_0*Q_{2}) + 1)))*exp(L_0*Q_{2}), Ne(Q_{2}, 0)), (nan, True))"
      ]
     },
     "metadata": {},
     "output_type": "display_data"
    },
    {
     "data": {
      "text/plain": [
       "[(None, None)]"
      ]
     },
     "execution_count": 28,
     "metadata": {},
     "output_type": "execute_result"
    }
   ],
   "source": [
    "display_table( auto_solved[ 0 ] )"
   ]
  },
  {
   "cell_type": "code",
   "execution_count": null,
   "id": "e6353287-8fa1-478a-b194-411f1cbbb7a5",
   "metadata": {},
   "outputs": [],
   "source": []
  },
  {
   "cell_type": "code",
   "execution_count": 29,
   "id": "e6aa6498-015c-4775-bbc6-8dc452e6b058",
   "metadata": {},
   "outputs": [
    {
     "name": "stdout",
     "output_type": "stream",
     "text": [
      "Has  B_{0}\n",
      "Solutions:  [Piecewise(((B_{1}*Q_{2}*Q_{4}*(2*L_1*Q_{3}*Q_{6}*exp(2*L_1*Q_{3}) + 2*L_1*Q_{3}*exp(2*L_1*Q_{3}) - Q_{6}*exp(2*L_1*Q_{3}) + Q_{6} - exp(4*L_1*Q_{3}) + exp(2*L_1*Q_{3})) + sqrt(4*B_{1}**2*L_1**2*Q_{2}**2*Q_{3}**2*Q_{4}**2*Q_{6}**2*exp(2*L_1*Q_{3}) - 8*B_{1}**2*L_1**2*Q_{2}**2*Q_{3}**2*Q_{4}**2*Q_{6}*exp(2*L_1*Q_{3}) + 4*B_{1}**2*L_1**2*Q_{2}**2*Q_{3}**2*Q_{4}**2*exp(2*L_1*Q_{3}) - B_{1}**2*Q_{2}**2*Q_{4}**2*Q_{6}**2*exp(4*L_1*Q_{3}) + 2*B_{1}**2*Q_{2}**2*Q_{4}**2*Q_{6}**2*exp(2*L_1*Q_{3}) - B_{1}**2*Q_{2}**2*Q_{4}**2*Q_{6}**2 + 2*B_{1}**2*Q_{2}**2*Q_{4}**2*Q_{6}*exp(4*L_1*Q_{3}) - 4*B_{1}**2*Q_{2}**2*Q_{4}**2*Q_{6}*exp(2*L_1*Q_{3}) + 2*B_{1}**2*Q_{2}**2*Q_{4}**2*Q_{6} - B_{1}**2*Q_{2}**2*Q_{4}**2*exp(4*L_1*Q_{3}) + 2*B_{1}**2*Q_{2}**2*Q_{4}**2*exp(2*L_1*Q_{3}) - B_{1}**2*Q_{2}**2*Q_{4}**2 - 8*L_1*N_{1}*Q_{3}**2*Q_{6}*exp(2*L_1*Q_{3}) + 2*N_{1}*Q_{3}*Q_{6}**2*exp(2*L_1*Q_{3}) - 2*N_{1}*Q_{3}*Q_{6}**2 + 2*N_{1}*Q_{3}*exp(4*L_1*Q_{3}) - 2*N_{1}*Q_{3}*exp(2*L_1*Q_{3}))*exp(L_1*Q_{3}))/(Q_{4}*(4*L_1*Q_{3}*Q_{6}*exp(2*L_1*Q_{3}) - Q_{6}**2*exp(2*L_1*Q_{3}) + Q_{6}**2 - exp(4*L_1*Q_{3}) + exp(2*L_1*Q_{3}))), Ne(Q_{3}, 0)), (nan, True)), Piecewise(((2*B_{1}*L_1*Q_{2}*Q_{3}*Q_{4}*Q_{6}*exp(2*L_1*Q_{3}) + 2*B_{1}*L_1*Q_{2}*Q_{3}*Q_{4}*exp(2*L_1*Q_{3}) - B_{1}*Q_{2}*Q_{4}*Q_{6}*exp(2*L_1*Q_{3}) + B_{1}*Q_{2}*Q_{4}*Q_{6} - B_{1}*Q_{2}*Q_{4}*exp(4*L_1*Q_{3}) + B_{1}*Q_{2}*Q_{4}*exp(2*L_1*Q_{3}) - sqrt(4*B_{1}**2*L_1**2*Q_{2}**2*Q_{3}**2*Q_{4}**2*Q_{6}**2*exp(2*L_1*Q_{3}) - 8*B_{1}**2*L_1**2*Q_{2}**2*Q_{3}**2*Q_{4}**2*Q_{6}*exp(2*L_1*Q_{3}) + 4*B_{1}**2*L_1**2*Q_{2}**2*Q_{3}**2*Q_{4}**2*exp(2*L_1*Q_{3}) - B_{1}**2*Q_{2}**2*Q_{4}**2*Q_{6}**2*exp(4*L_1*Q_{3}) + 2*B_{1}**2*Q_{2}**2*Q_{4}**2*Q_{6}**2*exp(2*L_1*Q_{3}) - B_{1}**2*Q_{2}**2*Q_{4}**2*Q_{6}**2 + 2*B_{1}**2*Q_{2}**2*Q_{4}**2*Q_{6}*exp(4*L_1*Q_{3}) - 4*B_{1}**2*Q_{2}**2*Q_{4}**2*Q_{6}*exp(2*L_1*Q_{3}) + 2*B_{1}**2*Q_{2}**2*Q_{4}**2*Q_{6} - B_{1}**2*Q_{2}**2*Q_{4}**2*exp(4*L_1*Q_{3}) + 2*B_{1}**2*Q_{2}**2*Q_{4}**2*exp(2*L_1*Q_{3}) - B_{1}**2*Q_{2}**2*Q_{4}**2 - 8*L_1*N_{1}*Q_{3}**2*Q_{6}*exp(2*L_1*Q_{3}) + 2*N_{1}*Q_{3}*Q_{6}**2*exp(2*L_1*Q_{3}) - 2*N_{1}*Q_{3}*Q_{6}**2 + 2*N_{1}*Q_{3}*exp(4*L_1*Q_{3}) - 2*N_{1}*Q_{3}*exp(2*L_1*Q_{3}))*exp(L_1*Q_{3}))/(Q_{4}*(4*L_1*Q_{3}*Q_{6}*exp(2*L_1*Q_{3}) - Q_{6}**2*exp(2*L_1*Q_{3}) + Q_{6}**2 - exp(4*L_1*Q_{3}) + exp(2*L_1*Q_{3}))), Ne(Q_{3}, 0)), (nan, True)), Piecewise((-sqrt(N_{1}/(L_1*Q_{4}**2*(Q_{6}**2 - 2*Q_{6} + 1))), Eq(Q_{3}, 0)), (nan, True)), Piecewise((sqrt(N_{1}/(L_1*Q_{4}**2*(Q_{6}**2 - 2*Q_{6} + 1))), Eq(Q_{3}, 0)), (nan, True))]\n"
     ]
    },
    {
     "data": {
      "text/latex": [
       "$\\displaystyle B_{0}$"
      ],
      "text/plain": [
       "B_{0}"
      ]
     },
     "metadata": {},
     "output_type": "display_data"
    },
    {
     "name": "stdout",
     "output_type": "stream",
     "text": [
      "I have sols!\n"
     ]
    },
    {
     "data": {
      "text/latex": [
       "$\\displaystyle \\begin{cases} \\frac{B_{1} Q_{2} Q_{4} \\left(2 L_{1} Q_{3} Q_{6} e^{2 L_{1} Q_{3}} + 2 L_{1} Q_{3} e^{2 L_{1} Q_{3}} - Q_{6} e^{2 L_{1} Q_{3}} + Q_{6} - e^{4 L_{1} Q_{3}} + e^{2 L_{1} Q_{3}}\\right) + \\sqrt{4 B_{1}^{2} L_{1}^{2} Q_{2}^{2} Q_{3}^{2} Q_{4}^{2} Q_{6}^{2} e^{2 L_{1} Q_{3}} - 8 B_{1}^{2} L_{1}^{2} Q_{2}^{2} Q_{3}^{2} Q_{4}^{2} Q_{6} e^{2 L_{1} Q_{3}} + 4 B_{1}^{2} L_{1}^{2} Q_{2}^{2} Q_{3}^{2} Q_{4}^{2} e^{2 L_{1} Q_{3}} - B_{1}^{2} Q_{2}^{2} Q_{4}^{2} Q_{6}^{2} e^{4 L_{1} Q_{3}} + 2 B_{1}^{2} Q_{2}^{2} Q_{4}^{2} Q_{6}^{2} e^{2 L_{1} Q_{3}} - B_{1}^{2} Q_{2}^{2} Q_{4}^{2} Q_{6}^{2} + 2 B_{1}^{2} Q_{2}^{2} Q_{4}^{2} Q_{6} e^{4 L_{1} Q_{3}} - 4 B_{1}^{2} Q_{2}^{2} Q_{4}^{2} Q_{6} e^{2 L_{1} Q_{3}} + 2 B_{1}^{2} Q_{2}^{2} Q_{4}^{2} Q_{6} - B_{1}^{2} Q_{2}^{2} Q_{4}^{2} e^{4 L_{1} Q_{3}} + 2 B_{1}^{2} Q_{2}^{2} Q_{4}^{2} e^{2 L_{1} Q_{3}} - B_{1}^{2} Q_{2}^{2} Q_{4}^{2} - 8 L_{1} N_{1} Q_{3}^{2} Q_{6} e^{2 L_{1} Q_{3}} + 2 N_{1} Q_{3} Q_{6}^{2} e^{2 L_{1} Q_{3}} - 2 N_{1} Q_{3} Q_{6}^{2} + 2 N_{1} Q_{3} e^{4 L_{1} Q_{3}} - 2 N_{1} Q_{3} e^{2 L_{1} Q_{3}}} e^{L_{1} Q_{3}}}{Q_{4} \\left(4 L_{1} Q_{3} Q_{6} e^{2 L_{1} Q_{3}} - Q_{6}^{2} e^{2 L_{1} Q_{3}} + Q_{6}^{2} - e^{4 L_{1} Q_{3}} + e^{2 L_{1} Q_{3}}\\right)} & \\text{for}\\: Q_{3} \\neq 0 \\\\\\text{NaN} & \\text{otherwise} \\end{cases}$"
      ],
      "text/plain": [
       "Piecewise(((B_{1}*Q_{2}*Q_{4}*(2*L_1*Q_{3}*Q_{6}*exp(2*L_1*Q_{3}) + 2*L_1*Q_{3}*exp(2*L_1*Q_{3}) - Q_{6}*exp(2*L_1*Q_{3}) + Q_{6} - exp(4*L_1*Q_{3}) + exp(2*L_1*Q_{3})) + sqrt(4*B_{1}**2*L_1**2*Q_{2}**2*Q_{3}**2*Q_{4}**2*Q_{6}**2*exp(2*L_1*Q_{3}) - 8*B_{1}**2*L_1**2*Q_{2}**2*Q_{3}**2*Q_{4}**2*Q_{6}*exp(2*L_1*Q_{3}) + 4*B_{1}**2*L_1**2*Q_{2}**2*Q_{3}**2*Q_{4}**2*exp(2*L_1*Q_{3}) - B_{1}**2*Q_{2}**2*Q_{4}**2*Q_{6}**2*exp(4*L_1*Q_{3}) + 2*B_{1}**2*Q_{2}**2*Q_{4}**2*Q_{6}**2*exp(2*L_1*Q_{3}) - B_{1}**2*Q_{2}**2*Q_{4}**2*Q_{6}**2 + 2*B_{1}**2*Q_{2}**2*Q_{4}**2*Q_{6}*exp(4*L_1*Q_{3}) - 4*B_{1}**2*Q_{2}**2*Q_{4}**2*Q_{6}*exp(2*L_1*Q_{3}) + 2*B_{1}**2*Q_{2}**2*Q_{4}**2*Q_{6} - B_{1}**2*Q_{2}**2*Q_{4}**2*exp(4*L_1*Q_{3}) + 2*B_{1}**2*Q_{2}**2*Q_{4}**2*exp(2*L_1*Q_{3}) - B_{1}**2*Q_{2}**2*Q_{4}**2 - 8*L_1*N_{1}*Q_{3}**2*Q_{6}*exp(2*L_1*Q_{3}) + 2*N_{1}*Q_{3}*Q_{6}**2*exp(2*L_1*Q_{3}) - 2*N_{1}*Q_{3}*Q_{6}**2 + 2*N_{1}*Q_{3}*exp(4*L_1*Q_{3}) - 2*N_{1}*Q_{3}*exp(2*L_1*Q_{3}))*exp(L_1*Q_{3}))/(Q_{4}*(4*L_1*Q_{3}*Q_{6}*exp(2*L_1*Q_{3}) - Q_{6}**2*exp(2*L_1*Q_{3}) + Q_{6}**2 - exp(4*L_1*Q_{3}) + exp(2*L_1*Q_{3}))), Ne(Q_{3}, 0)), (nan, True))"
      ]
     },
     "metadata": {},
     "output_type": "display_data"
    },
    {
     "data": {
      "text/latex": [
       "$\\displaystyle \\begin{cases} \\frac{2 B_{1} L_{1} Q_{2} Q_{3} Q_{4} Q_{6} e^{2 L_{1} Q_{3}} + 2 B_{1} L_{1} Q_{2} Q_{3} Q_{4} e^{2 L_{1} Q_{3}} - B_{1} Q_{2} Q_{4} Q_{6} e^{2 L_{1} Q_{3}} + B_{1} Q_{2} Q_{4} Q_{6} - B_{1} Q_{2} Q_{4} e^{4 L_{1} Q_{3}} + B_{1} Q_{2} Q_{4} e^{2 L_{1} Q_{3}} - \\sqrt{4 B_{1}^{2} L_{1}^{2} Q_{2}^{2} Q_{3}^{2} Q_{4}^{2} Q_{6}^{2} e^{2 L_{1} Q_{3}} - 8 B_{1}^{2} L_{1}^{2} Q_{2}^{2} Q_{3}^{2} Q_{4}^{2} Q_{6} e^{2 L_{1} Q_{3}} + 4 B_{1}^{2} L_{1}^{2} Q_{2}^{2} Q_{3}^{2} Q_{4}^{2} e^{2 L_{1} Q_{3}} - B_{1}^{2} Q_{2}^{2} Q_{4}^{2} Q_{6}^{2} e^{4 L_{1} Q_{3}} + 2 B_{1}^{2} Q_{2}^{2} Q_{4}^{2} Q_{6}^{2} e^{2 L_{1} Q_{3}} - B_{1}^{2} Q_{2}^{2} Q_{4}^{2} Q_{6}^{2} + 2 B_{1}^{2} Q_{2}^{2} Q_{4}^{2} Q_{6} e^{4 L_{1} Q_{3}} - 4 B_{1}^{2} Q_{2}^{2} Q_{4}^{2} Q_{6} e^{2 L_{1} Q_{3}} + 2 B_{1}^{2} Q_{2}^{2} Q_{4}^{2} Q_{6} - B_{1}^{2} Q_{2}^{2} Q_{4}^{2} e^{4 L_{1} Q_{3}} + 2 B_{1}^{2} Q_{2}^{2} Q_{4}^{2} e^{2 L_{1} Q_{3}} - B_{1}^{2} Q_{2}^{2} Q_{4}^{2} - 8 L_{1} N_{1} Q_{3}^{2} Q_{6} e^{2 L_{1} Q_{3}} + 2 N_{1} Q_{3} Q_{6}^{2} e^{2 L_{1} Q_{3}} - 2 N_{1} Q_{3} Q_{6}^{2} + 2 N_{1} Q_{3} e^{4 L_{1} Q_{3}} - 2 N_{1} Q_{3} e^{2 L_{1} Q_{3}}} e^{L_{1} Q_{3}}}{Q_{4} \\left(4 L_{1} Q_{3} Q_{6} e^{2 L_{1} Q_{3}} - Q_{6}^{2} e^{2 L_{1} Q_{3}} + Q_{6}^{2} - e^{4 L_{1} Q_{3}} + e^{2 L_{1} Q_{3}}\\right)} & \\text{for}\\: Q_{3} \\neq 0 \\\\\\text{NaN} & \\text{otherwise} \\end{cases}$"
      ],
      "text/plain": [
       "Piecewise(((2*B_{1}*L_1*Q_{2}*Q_{3}*Q_{4}*Q_{6}*exp(2*L_1*Q_{3}) + 2*B_{1}*L_1*Q_{2}*Q_{3}*Q_{4}*exp(2*L_1*Q_{3}) - B_{1}*Q_{2}*Q_{4}*Q_{6}*exp(2*L_1*Q_{3}) + B_{1}*Q_{2}*Q_{4}*Q_{6} - B_{1}*Q_{2}*Q_{4}*exp(4*L_1*Q_{3}) + B_{1}*Q_{2}*Q_{4}*exp(2*L_1*Q_{3}) - sqrt(4*B_{1}**2*L_1**2*Q_{2}**2*Q_{3}**2*Q_{4}**2*Q_{6}**2*exp(2*L_1*Q_{3}) - 8*B_{1}**2*L_1**2*Q_{2}**2*Q_{3}**2*Q_{4}**2*Q_{6}*exp(2*L_1*Q_{3}) + 4*B_{1}**2*L_1**2*Q_{2}**2*Q_{3}**2*Q_{4}**2*exp(2*L_1*Q_{3}) - B_{1}**2*Q_{2}**2*Q_{4}**2*Q_{6}**2*exp(4*L_1*Q_{3}) + 2*B_{1}**2*Q_{2}**2*Q_{4}**2*Q_{6}**2*exp(2*L_1*Q_{3}) - B_{1}**2*Q_{2}**2*Q_{4}**2*Q_{6}**2 + 2*B_{1}**2*Q_{2}**2*Q_{4}**2*Q_{6}*exp(4*L_1*Q_{3}) - 4*B_{1}**2*Q_{2}**2*Q_{4}**2*Q_{6}*exp(2*L_1*Q_{3}) + 2*B_{1}**2*Q_{2}**2*Q_{4}**2*Q_{6} - B_{1}**2*Q_{2}**2*Q_{4}**2*exp(4*L_1*Q_{3}) + 2*B_{1}**2*Q_{2}**2*Q_{4}**2*exp(2*L_1*Q_{3}) - B_{1}**2*Q_{2}**2*Q_{4}**2 - 8*L_1*N_{1}*Q_{3}**2*Q_{6}*exp(2*L_1*Q_{3}) + 2*N_{1}*Q_{3}*Q_{6}**2*exp(2*L_1*Q_{3}) - 2*N_{1}*Q_{3}*Q_{6}**2 + 2*N_{1}*Q_{3}*exp(4*L_1*Q_{3}) - 2*N_{1}*Q_{3}*exp(2*L_1*Q_{3}))*exp(L_1*Q_{3}))/(Q_{4}*(4*L_1*Q_{3}*Q_{6}*exp(2*L_1*Q_{3}) - Q_{6}**2*exp(2*L_1*Q_{3}) + Q_{6}**2 - exp(4*L_1*Q_{3}) + exp(2*L_1*Q_{3}))), Ne(Q_{3}, 0)), (nan, True))"
      ]
     },
     "metadata": {},
     "output_type": "display_data"
    },
    {
     "data": {
      "text/latex": [
       "$\\displaystyle \\begin{cases} - \\sqrt{\\frac{N_{1}}{L_{1} Q_{4}^{2} \\left(Q_{6}^{2} - 2 Q_{6} + 1\\right)}} & \\text{for}\\: Q_{3} = 0 \\\\\\text{NaN} & \\text{otherwise} \\end{cases}$"
      ],
      "text/plain": [
       "Piecewise((-sqrt(N_{1}/(L_1*Q_{4}**2*(Q_{6}**2 - 2*Q_{6} + 1))), Eq(Q_{3}, 0)), (nan, True))"
      ]
     },
     "metadata": {},
     "output_type": "display_data"
    },
    {
     "data": {
      "text/latex": [
       "$\\displaystyle \\begin{cases} \\sqrt{\\frac{N_{1}}{L_{1} Q_{4}^{2} \\left(Q_{6}^{2} - 2 Q_{6} + 1\\right)}} & \\text{for}\\: Q_{3} = 0 \\\\\\text{NaN} & \\text{otherwise} \\end{cases}$"
      ],
      "text/plain": [
       "Piecewise((sqrt(N_{1}/(L_1*Q_{4}**2*(Q_{6}**2 - 2*Q_{6} + 1))), Eq(Q_{3}, 0)), (nan, True))"
      ]
     },
     "metadata": {},
     "output_type": "display_data"
    },
    {
     "name": "stdout",
     "output_type": "stream",
     "text": [
      "Solved for  B_{0}\n"
     ]
    }
   ],
   "source": [
    "auto_solved[ 1 ] = stairwell_solver.solve_boundry_constants_from_equation( stairwell_solver.normalizations[ 1 ] )"
   ]
  },
  {
   "cell_type": "code",
   "execution_count": 30,
   "id": "5305e392-df62-4e81-ace3-0408b6f685ad",
   "metadata": {},
   "outputs": [
    {
     "data": {
      "text/latex": [
       "$\\displaystyle B_{0}$"
      ],
      "text/plain": [
       "B_{0}"
      ]
     },
     "metadata": {},
     "output_type": "display_data"
    },
    {
     "data": {
      "text/latex": [
       "$\\displaystyle \\begin{cases} - \\sqrt{2} \\sqrt{- \\frac{N_{0} Q_{2}}{Q_{3}^{2} \\left(4 L_{0} Q_{2} e^{2 L_{0} Q_{2}} - e^{4 L_{0} Q_{2}} + 1\\right)}} e^{L_{0} Q_{2}} & \\text{for}\\: Q_{2} \\neq 0 \\\\\\text{NaN} & \\text{otherwise} \\end{cases}$"
      ],
      "text/plain": [
       "Piecewise((-sqrt(2)*sqrt(-N_{0}*Q_{2}/(Q_{3}**2*(4*L_0*Q_{2}*exp(2*L_0*Q_{2}) - exp(4*L_0*Q_{2}) + 1)))*exp(L_0*Q_{2}), Ne(Q_{2}, 0)), (nan, True))"
      ]
     },
     "metadata": {},
     "output_type": "display_data"
    },
    {
     "data": {
      "text/latex": [
       "$\\displaystyle \\begin{cases} \\sqrt{2} \\sqrt{- \\frac{N_{0} Q_{2}}{Q_{3}^{2} \\left(4 L_{0} Q_{2} e^{2 L_{0} Q_{2}} - e^{4 L_{0} Q_{2}} + 1\\right)}} e^{L_{0} Q_{2}} & \\text{for}\\: Q_{2} \\neq 0 \\\\\\text{NaN} & \\text{otherwise} \\end{cases}$"
      ],
      "text/plain": [
       "Piecewise((sqrt(2)*sqrt(-N_{0}*Q_{2}/(Q_{3}**2*(4*L_0*Q_{2}*exp(2*L_0*Q_{2}) - exp(4*L_0*Q_{2}) + 1)))*exp(L_0*Q_{2}), Ne(Q_{2}, 0)), (nan, True))"
      ]
     },
     "metadata": {},
     "output_type": "display_data"
    },
    {
     "data": {
      "text/latex": [
       "$\\displaystyle \\begin{cases} \\frac{B_{1} Q_{2} Q_{4} \\left(2 L_{1} Q_{3} Q_{6} e^{2 L_{1} Q_{3}} + 2 L_{1} Q_{3} e^{2 L_{1} Q_{3}} - Q_{6} e^{2 L_{1} Q_{3}} + Q_{6} - e^{4 L_{1} Q_{3}} + e^{2 L_{1} Q_{3}}\\right) + \\sqrt{4 B_{1}^{2} L_{1}^{2} Q_{2}^{2} Q_{3}^{2} Q_{4}^{2} Q_{6}^{2} e^{2 L_{1} Q_{3}} - 8 B_{1}^{2} L_{1}^{2} Q_{2}^{2} Q_{3}^{2} Q_{4}^{2} Q_{6} e^{2 L_{1} Q_{3}} + 4 B_{1}^{2} L_{1}^{2} Q_{2}^{2} Q_{3}^{2} Q_{4}^{2} e^{2 L_{1} Q_{3}} - B_{1}^{2} Q_{2}^{2} Q_{4}^{2} Q_{6}^{2} e^{4 L_{1} Q_{3}} + 2 B_{1}^{2} Q_{2}^{2} Q_{4}^{2} Q_{6}^{2} e^{2 L_{1} Q_{3}} - B_{1}^{2} Q_{2}^{2} Q_{4}^{2} Q_{6}^{2} + 2 B_{1}^{2} Q_{2}^{2} Q_{4}^{2} Q_{6} e^{4 L_{1} Q_{3}} - 4 B_{1}^{2} Q_{2}^{2} Q_{4}^{2} Q_{6} e^{2 L_{1} Q_{3}} + 2 B_{1}^{2} Q_{2}^{2} Q_{4}^{2} Q_{6} - B_{1}^{2} Q_{2}^{2} Q_{4}^{2} e^{4 L_{1} Q_{3}} + 2 B_{1}^{2} Q_{2}^{2} Q_{4}^{2} e^{2 L_{1} Q_{3}} - B_{1}^{2} Q_{2}^{2} Q_{4}^{2} - 8 L_{1} N_{1} Q_{3}^{2} Q_{6} e^{2 L_{1} Q_{3}} + 2 N_{1} Q_{3} Q_{6}^{2} e^{2 L_{1} Q_{3}} - 2 N_{1} Q_{3} Q_{6}^{2} + 2 N_{1} Q_{3} e^{4 L_{1} Q_{3}} - 2 N_{1} Q_{3} e^{2 L_{1} Q_{3}}} e^{L_{1} Q_{3}}}{Q_{4} \\left(4 L_{1} Q_{3} Q_{6} e^{2 L_{1} Q_{3}} - Q_{6}^{2} e^{2 L_{1} Q_{3}} + Q_{6}^{2} - e^{4 L_{1} Q_{3}} + e^{2 L_{1} Q_{3}}\\right)} & \\text{for}\\: Q_{3} \\neq 0 \\\\\\text{NaN} & \\text{otherwise} \\end{cases}$"
      ],
      "text/plain": [
       "Piecewise(((B_{1}*Q_{2}*Q_{4}*(2*L_1*Q_{3}*Q_{6}*exp(2*L_1*Q_{3}) + 2*L_1*Q_{3}*exp(2*L_1*Q_{3}) - Q_{6}*exp(2*L_1*Q_{3}) + Q_{6} - exp(4*L_1*Q_{3}) + exp(2*L_1*Q_{3})) + sqrt(4*B_{1}**2*L_1**2*Q_{2}**2*Q_{3}**2*Q_{4}**2*Q_{6}**2*exp(2*L_1*Q_{3}) - 8*B_{1}**2*L_1**2*Q_{2}**2*Q_{3}**2*Q_{4}**2*Q_{6}*exp(2*L_1*Q_{3}) + 4*B_{1}**2*L_1**2*Q_{2}**2*Q_{3}**2*Q_{4}**2*exp(2*L_1*Q_{3}) - B_{1}**2*Q_{2}**2*Q_{4}**2*Q_{6}**2*exp(4*L_1*Q_{3}) + 2*B_{1}**2*Q_{2}**2*Q_{4}**2*Q_{6}**2*exp(2*L_1*Q_{3}) - B_{1}**2*Q_{2}**2*Q_{4}**2*Q_{6}**2 + 2*B_{1}**2*Q_{2}**2*Q_{4}**2*Q_{6}*exp(4*L_1*Q_{3}) - 4*B_{1}**2*Q_{2}**2*Q_{4}**2*Q_{6}*exp(2*L_1*Q_{3}) + 2*B_{1}**2*Q_{2}**2*Q_{4}**2*Q_{6} - B_{1}**2*Q_{2}**2*Q_{4}**2*exp(4*L_1*Q_{3}) + 2*B_{1}**2*Q_{2}**2*Q_{4}**2*exp(2*L_1*Q_{3}) - B_{1}**2*Q_{2}**2*Q_{4}**2 - 8*L_1*N_{1}*Q_{3}**2*Q_{6}*exp(2*L_1*Q_{3}) + 2*N_{1}*Q_{3}*Q_{6}**2*exp(2*L_1*Q_{3}) - 2*N_{1}*Q_{3}*Q_{6}**2 + 2*N_{1}*Q_{3}*exp(4*L_1*Q_{3}) - 2*N_{1}*Q_{3}*exp(2*L_1*Q_{3}))*exp(L_1*Q_{3}))/(Q_{4}*(4*L_1*Q_{3}*Q_{6}*exp(2*L_1*Q_{3}) - Q_{6}**2*exp(2*L_1*Q_{3}) + Q_{6}**2 - exp(4*L_1*Q_{3}) + exp(2*L_1*Q_{3}))), Ne(Q_{3}, 0)), (nan, True))"
      ]
     },
     "metadata": {},
     "output_type": "display_data"
    },
    {
     "data": {
      "text/latex": [
       "$\\displaystyle \\begin{cases} \\frac{2 B_{1} L_{1} Q_{2} Q_{3} Q_{4} Q_{6} e^{2 L_{1} Q_{3}} + 2 B_{1} L_{1} Q_{2} Q_{3} Q_{4} e^{2 L_{1} Q_{3}} - B_{1} Q_{2} Q_{4} Q_{6} e^{2 L_{1} Q_{3}} + B_{1} Q_{2} Q_{4} Q_{6} - B_{1} Q_{2} Q_{4} e^{4 L_{1} Q_{3}} + B_{1} Q_{2} Q_{4} e^{2 L_{1} Q_{3}} - \\sqrt{4 B_{1}^{2} L_{1}^{2} Q_{2}^{2} Q_{3}^{2} Q_{4}^{2} Q_{6}^{2} e^{2 L_{1} Q_{3}} - 8 B_{1}^{2} L_{1}^{2} Q_{2}^{2} Q_{3}^{2} Q_{4}^{2} Q_{6} e^{2 L_{1} Q_{3}} + 4 B_{1}^{2} L_{1}^{2} Q_{2}^{2} Q_{3}^{2} Q_{4}^{2} e^{2 L_{1} Q_{3}} - B_{1}^{2} Q_{2}^{2} Q_{4}^{2} Q_{6}^{2} e^{4 L_{1} Q_{3}} + 2 B_{1}^{2} Q_{2}^{2} Q_{4}^{2} Q_{6}^{2} e^{2 L_{1} Q_{3}} - B_{1}^{2} Q_{2}^{2} Q_{4}^{2} Q_{6}^{2} + 2 B_{1}^{2} Q_{2}^{2} Q_{4}^{2} Q_{6} e^{4 L_{1} Q_{3}} - 4 B_{1}^{2} Q_{2}^{2} Q_{4}^{2} Q_{6} e^{2 L_{1} Q_{3}} + 2 B_{1}^{2} Q_{2}^{2} Q_{4}^{2} Q_{6} - B_{1}^{2} Q_{2}^{2} Q_{4}^{2} e^{4 L_{1} Q_{3}} + 2 B_{1}^{2} Q_{2}^{2} Q_{4}^{2} e^{2 L_{1} Q_{3}} - B_{1}^{2} Q_{2}^{2} Q_{4}^{2} - 8 L_{1} N_{1} Q_{3}^{2} Q_{6} e^{2 L_{1} Q_{3}} + 2 N_{1} Q_{3} Q_{6}^{2} e^{2 L_{1} Q_{3}} - 2 N_{1} Q_{3} Q_{6}^{2} + 2 N_{1} Q_{3} e^{4 L_{1} Q_{3}} - 2 N_{1} Q_{3} e^{2 L_{1} Q_{3}}} e^{L_{1} Q_{3}}}{Q_{4} \\left(4 L_{1} Q_{3} Q_{6} e^{2 L_{1} Q_{3}} - Q_{6}^{2} e^{2 L_{1} Q_{3}} + Q_{6}^{2} - e^{4 L_{1} Q_{3}} + e^{2 L_{1} Q_{3}}\\right)} & \\text{for}\\: Q_{3} \\neq 0 \\\\\\text{NaN} & \\text{otherwise} \\end{cases}$"
      ],
      "text/plain": [
       "Piecewise(((2*B_{1}*L_1*Q_{2}*Q_{3}*Q_{4}*Q_{6}*exp(2*L_1*Q_{3}) + 2*B_{1}*L_1*Q_{2}*Q_{3}*Q_{4}*exp(2*L_1*Q_{3}) - B_{1}*Q_{2}*Q_{4}*Q_{6}*exp(2*L_1*Q_{3}) + B_{1}*Q_{2}*Q_{4}*Q_{6} - B_{1}*Q_{2}*Q_{4}*exp(4*L_1*Q_{3}) + B_{1}*Q_{2}*Q_{4}*exp(2*L_1*Q_{3}) - sqrt(4*B_{1}**2*L_1**2*Q_{2}**2*Q_{3}**2*Q_{4}**2*Q_{6}**2*exp(2*L_1*Q_{3}) - 8*B_{1}**2*L_1**2*Q_{2}**2*Q_{3}**2*Q_{4}**2*Q_{6}*exp(2*L_1*Q_{3}) + 4*B_{1}**2*L_1**2*Q_{2}**2*Q_{3}**2*Q_{4}**2*exp(2*L_1*Q_{3}) - B_{1}**2*Q_{2}**2*Q_{4}**2*Q_{6}**2*exp(4*L_1*Q_{3}) + 2*B_{1}**2*Q_{2}**2*Q_{4}**2*Q_{6}**2*exp(2*L_1*Q_{3}) - B_{1}**2*Q_{2}**2*Q_{4}**2*Q_{6}**2 + 2*B_{1}**2*Q_{2}**2*Q_{4}**2*Q_{6}*exp(4*L_1*Q_{3}) - 4*B_{1}**2*Q_{2}**2*Q_{4}**2*Q_{6}*exp(2*L_1*Q_{3}) + 2*B_{1}**2*Q_{2}**2*Q_{4}**2*Q_{6} - B_{1}**2*Q_{2}**2*Q_{4}**2*exp(4*L_1*Q_{3}) + 2*B_{1}**2*Q_{2}**2*Q_{4}**2*exp(2*L_1*Q_{3}) - B_{1}**2*Q_{2}**2*Q_{4}**2 - 8*L_1*N_{1}*Q_{3}**2*Q_{6}*exp(2*L_1*Q_{3}) + 2*N_{1}*Q_{3}*Q_{6}**2*exp(2*L_1*Q_{3}) - 2*N_{1}*Q_{3}*Q_{6}**2 + 2*N_{1}*Q_{3}*exp(4*L_1*Q_{3}) - 2*N_{1}*Q_{3}*exp(2*L_1*Q_{3}))*exp(L_1*Q_{3}))/(Q_{4}*(4*L_1*Q_{3}*Q_{6}*exp(2*L_1*Q_{3}) - Q_{6}**2*exp(2*L_1*Q_{3}) + Q_{6}**2 - exp(4*L_1*Q_{3}) + exp(2*L_1*Q_{3}))), Ne(Q_{3}, 0)), (nan, True))"
      ]
     },
     "metadata": {},
     "output_type": "display_data"
    },
    {
     "data": {
      "text/latex": [
       "$\\displaystyle \\begin{cases} - \\sqrt{\\frac{N_{1}}{L_{1} Q_{4}^{2} \\left(Q_{6}^{2} - 2 Q_{6} + 1\\right)}} & \\text{for}\\: Q_{3} = 0 \\\\\\text{NaN} & \\text{otherwise} \\end{cases}$"
      ],
      "text/plain": [
       "Piecewise((-sqrt(N_{1}/(L_1*Q_{4}**2*(Q_{6}**2 - 2*Q_{6} + 1))), Eq(Q_{3}, 0)), (nan, True))"
      ]
     },
     "metadata": {},
     "output_type": "display_data"
    },
    {
     "data": {
      "text/latex": [
       "$\\displaystyle \\begin{cases} \\sqrt{\\frac{N_{1}}{L_{1} Q_{4}^{2} \\left(Q_{6}^{2} - 2 Q_{6} + 1\\right)}} & \\text{for}\\: Q_{3} = 0 \\\\\\text{NaN} & \\text{otherwise} \\end{cases}$"
      ],
      "text/plain": [
       "Piecewise((sqrt(N_{1}/(L_1*Q_{4}**2*(Q_{6}**2 - 2*Q_{6} + 1))), Eq(Q_{3}, 0)), (nan, True))"
      ]
     },
     "metadata": {},
     "output_type": "display_data"
    },
    {
     "data": {
      "text/plain": [
       "[(None, None)]"
      ]
     },
     "execution_count": 30,
     "metadata": {},
     "output_type": "execute_result"
    }
   ],
   "source": [
    "display_table( auto_solved[ 1 ] )"
   ]
  },
  {
   "cell_type": "code",
   "execution_count": null,
   "id": "ff71ad59-46a7-45a0-ba68-a873691b3e41",
   "metadata": {},
   "outputs": [],
   "source": []
  },
  {
   "cell_type": "code",
   "execution_count": 31,
   "id": "4762c658-4c1f-4471-8141-32d5994bc888",
   "metadata": {},
   "outputs": [],
   "source": [
    "auto_solved[ 2 ] = stairwell_solver.solve_boundry_constants_from_equation( stairwell_solver.normalizations[ 2 ] )"
   ]
  },
  {
   "cell_type": "code",
   "execution_count": 32,
   "id": "5cdb1c4a-f3ac-4e36-aec9-d8c34173d13c",
   "metadata": {},
   "outputs": [
    {
     "data": {
      "text/plain": [
       "[]"
      ]
     },
     "execution_count": 32,
     "metadata": {},
     "output_type": "execute_result"
    }
   ],
   "source": [
    "display_table( auto_solved[ 2 ] )"
   ]
  },
  {
   "cell_type": "code",
   "execution_count": null,
   "id": "90465dce-3266-41b4-a0dd-58bd544aab24",
   "metadata": {},
   "outputs": [],
   "source": []
  },
  {
   "cell_type": "code",
   "execution_count": 33,
   "id": "d543c859-2b16-47d1-bfd8-565cbe0dc837",
   "metadata": {},
   "outputs": [],
   "source": [
    "def square( solutions ): \n",
    "    solutions_ = list( solutions.values() )[ 0 ]\n",
    "    return sp.Eq( sp.Abs( list( solutions.keys() )[ 0 ] ) ** 2, \n",
    "            solutions_[ 0 ].last_step().args[ 0 ].args[ 0 ] \\\n",
    "            * solutions_[ 1 ].last_step().args[ 0 ].args[ 0 ] \n",
    "        )"
   ]
  },
  {
   "cell_type": "code",
   "execution_count": 34,
   "id": "bf02b7f3-2a3f-47ed-bbda-d89efa5abf17",
   "metadata": {},
   "outputs": [],
   "source": [
    "b_0 = square( auto_solved[ 0 ] )"
   ]
  },
  {
   "cell_type": "code",
   "execution_count": 35,
   "id": "8c289a7a-ad74-4a1f-bd9e-e6f661366369",
   "metadata": {},
   "outputs": [
    {
     "data": {
      "text/latex": [
       "$\\displaystyle \\left|{B_{0}}\\right|^{2} = - 2 \\left(- \\frac{N_{0} Q_{2}}{Q_{3}^{2} \\left(4 L_{0} Q_{2} e^{2 L_{0} Q_{2}} - e^{4 L_{0} Q_{2}} + 1\\right)}\\right) e^{2 L_{0} Q_{2}}$"
      ],
      "text/plain": [
       "Eq(Abs(B_{0})**2, -2*(-N_{0}*Q_{2}/(Q_{3}**2*(4*L_0*Q_{2}*exp(2*L_0*Q_{2}) - exp(4*L_0*Q_{2}) + 1)))*exp(2*L_0*Q_{2}))"
      ]
     },
     "execution_count": 35,
     "metadata": {},
     "output_type": "execute_result"
    }
   ],
   "source": [
    "b_0"
   ]
  },
  {
   "cell_type": "code",
   "execution_count": null,
   "id": "a2dbd7e4-4372-48e7-ab35-ce0af9969db7",
   "metadata": {},
   "outputs": [],
   "source": []
  },
  {
   "cell_type": "code",
   "execution_count": 36,
   "id": "857ff833-46fa-4059-9568-cf22daf0b9d2",
   "metadata": {},
   "outputs": [
    {
     "data": {
      "text/latex": [
       "$\\displaystyle \\psi_{0}{\\left(x \\right)} = \\frac{B_{0} e^{L_{0} k_{0}} e^{k_{0} x}}{e^{2 L_{0} k_{0}} - 1} - \\frac{B_{0} e^{L_{0} k_{0}} e^{- k_{0} x}}{e^{2 L_{0} k_{0}} - 1}$"
      ],
      "text/plain": [
       "Eq(\\psi_{0}(x), B_{0}*exp(L_0*k_0)*exp(k_0*x)/(exp(2*L_0*k_0) - 1) - B_{0}*exp(L_0*k_0)*exp(-k_0*x)/(exp(2*L_0*k_0) - 1))"
      ]
     },
     "metadata": {},
     "output_type": "display_data"
    },
    {
     "data": {
      "text/latex": [
       "$\\displaystyle \\psi_{1}{\\left(x \\right)} = \\frac{\\left(- B_{0} + B_{1} e^{L_{1} k_{1}}\\right) e^{k_{1} x}}{e^{2 L_{1} k_{1}} - 1} + \\frac{\\left(B_{0} e^{2 L_{1} k_{1}} - B_{1} e^{L_{1} k_{1}}\\right) e^{- k_{1} x}}{e^{2 L_{1} k_{1}} - 1}$"
      ],
      "text/plain": [
       "Eq(\\psi_{1}(x), (-B_{0} + B_{1}*exp(L_1*k_1))*exp(k_1*x)/(exp(2*L_1*k_1) - 1) + (B_{0}*exp(2*L_1*k_1) - B_{1}*exp(L_1*k_1))*exp(-k_1*x)/(exp(2*L_1*k_1) - 1))"
      ]
     },
     "metadata": {},
     "output_type": "display_data"
    },
    {
     "data": {
      "text/latex": [
       "$\\displaystyle \\psi_{2}{\\left(x \\right)} = \\frac{B_{1} e^{2 L_{2} k_{2}} e^{- k_{2} x}}{e^{2 L_{2} k_{2}} - 1} - \\frac{B_{1} e^{k_{2} x}}{e^{2 L_{2} k_{2}} - 1}$"
      ],
      "text/plain": [
       "Eq(\\psi_{2}(x), B_{1}*exp(2*L_2*k_2)*exp(-k_2*x)/(exp(2*L_2*k_2) - 1) - B_{1}*exp(k_2*x)/(exp(2*L_2*k_2) - 1))"
      ]
     },
     "metadata": {},
     "output_type": "display_data"
    }
   ],
   "source": [
    "display_steps( stairwell_solver.equations )"
   ]
  },
  {
   "cell_type": "code",
   "execution_count": null,
   "id": "ac2733b6-9242-4f37-8d63-1b610efe3bb2",
   "metadata": {},
   "outputs": [],
   "source": []
  },
  {
   "cell_type": "code",
   "execution_count": null,
   "id": "324c4092-a660-4c82-9b19-2a9cf68c2bd7",
   "metadata": {},
   "outputs": [],
   "source": []
  },
  {
   "cell_type": "code",
   "execution_count": 37,
   "id": "ce9e9b90-09ba-4cdd-8b2a-e3cb11ed8bf5",
   "metadata": {},
   "outputs": [],
   "source": [
    "stairwell_solver._equations_new_check_point( \"BeforeSubZero\", 11 )\n",
    "[ equation.operate( lambda step : step.subs( { stairwell_solver.position : 0 } ) ) for equation in stairwell_solver.equations ]\n",
    "stairwell_solver._equations_new_check_point( \"PostSubZero\", 11 )\n"
   ]
  },
  {
   "cell_type": "code",
   "execution_count": null,
   "id": "edfca5e3-4d68-4b5f-b3c4-91ececfdee42",
   "metadata": {},
   "outputs": [],
   "source": []
  },
  {
   "cell_type": "code",
   "execution_count": 38,
   "id": "4460230f-b52b-4d05-9dfc-f5df641319bb",
   "metadata": {},
   "outputs": [
    {
     "data": {
      "text/latex": [
       "$\\displaystyle \\psi_{0}{\\left(0 \\right)} = 0$"
      ],
      "text/plain": [
       "Eq(\\psi_{0}(0), 0)"
      ]
     },
     "metadata": {},
     "output_type": "display_data"
    },
    {
     "data": {
      "text/latex": [
       "$\\displaystyle \\psi_{1}{\\left(0 \\right)} = \\frac{- B_{0} + B_{1} e^{L_{1} k_{1}}}{e^{2 L_{1} k_{1}} - 1} + \\frac{B_{0} e^{2 L_{1} k_{1}} - B_{1} e^{L_{1} k_{1}}}{e^{2 L_{1} k_{1}} - 1}$"
      ],
      "text/plain": [
       "Eq(\\psi_{1}(0), (-B_{0} + B_{1}*exp(L_1*k_1))/(exp(2*L_1*k_1) - 1) + (B_{0}*exp(2*L_1*k_1) - B_{1}*exp(L_1*k_1))/(exp(2*L_1*k_1) - 1))"
      ]
     },
     "metadata": {},
     "output_type": "display_data"
    },
    {
     "data": {
      "text/latex": [
       "$\\displaystyle \\psi_{2}{\\left(0 \\right)} = \\frac{B_{1} e^{2 L_{2} k_{2}}}{e^{2 L_{2} k_{2}} - 1} - \\frac{B_{1}}{e^{2 L_{2} k_{2}} - 1}$"
      ],
      "text/plain": [
       "Eq(\\psi_{2}(0), B_{1}*exp(2*L_2*k_2)/(exp(2*L_2*k_2) - 1) - B_{1}/(exp(2*L_2*k_2) - 1))"
      ]
     },
     "metadata": {},
     "output_type": "display_data"
    }
   ],
   "source": [
    "display_steps( stairwell_solver.equations )"
   ]
  },
  {
   "cell_type": "code",
   "execution_count": null,
   "id": "b31aa626-50f1-475e-9718-95b9b5faa8dd",
   "metadata": {},
   "outputs": [],
   "source": []
  },
  {
   "cell_type": "code",
   "execution_count": 39,
   "id": "2ac98b8b-1513-44c5-9213-e15e21652c5f",
   "metadata": {},
   "outputs": [
    {
     "data": {
      "text/plain": [
       "'ContinuityConditions'"
      ]
     },
     "metadata": {},
     "output_type": "display_data"
    },
    {
     "data": {
      "text/latex": [
       "$\\displaystyle \\psi_{0}{\\left(L_{0} \\right)} = \\psi_{1}{\\left(0 \\right)}$"
      ],
      "text/plain": [
       "Eq(\\psi_{0}(L_0), \\psi_{1}(0))"
      ]
     },
     "metadata": {},
     "output_type": "display_data"
    },
    {
     "data": {
      "text/latex": [
       "$\\displaystyle \\psi_{1}{\\left(L_{1} \\right)} = \\psi_{2}{\\left(0 \\right)}$"
      ],
      "text/plain": [
       "Eq(\\psi_{1}(L_1), \\psi_{2}(0))"
      ]
     },
     "metadata": {},
     "output_type": "display_data"
    },
    {
     "data": {
      "text/plain": [
       "'BoundryZeroConditions'"
      ]
     },
     "metadata": {},
     "output_type": "display_data"
    },
    {
     "data": {
      "text/latex": [
       "$\\displaystyle \\psi_{0}{\\left(0 \\right)} = 0$"
      ],
      "text/plain": [
       "Eq(\\psi_{0}(0), 0)"
      ]
     },
     "metadata": {},
     "output_type": "display_data"
    },
    {
     "data": {
      "text/latex": [
       "$\\displaystyle \\psi_{2}{\\left(L_{2} \\right)} = 0$"
      ],
      "text/plain": [
       "Eq(\\psi_{2}(L_2), 0)"
      ]
     },
     "metadata": {},
     "output_type": "display_data"
    },
    {
     "data": {
      "text/plain": [
       "'LastBoundryWithQueryResponce'"
      ]
     },
     "metadata": {},
     "output_type": "display_data"
    },
    {
     "data": {
      "text/latex": [
       "$\\displaystyle \\psi_{0}{\\left(L_{0} \\right)} = \\psi_{1}{\\left(0 \\right)}$"
      ],
      "text/plain": [
       "Eq(\\psi_{0}(L_0), \\psi_{1}(0))"
      ]
     },
     "metadata": {},
     "output_type": "display_data"
    },
    {
     "data": {
      "text/latex": [
       "$\\displaystyle \\psi_{1}{\\left(L_{1} \\right)} = \\psi_{2}{\\left(0 \\right)}$"
      ],
      "text/plain": [
       "Eq(\\psi_{1}(L_1), \\psi_{2}(0))"
      ]
     },
     "metadata": {},
     "output_type": "display_data"
    },
    {
     "data": {
      "text/latex": [
       "$\\displaystyle \\psi_{0}{\\left(0 \\right)} = 0$"
      ],
      "text/plain": [
       "Eq(\\psi_{0}(0), 0)"
      ]
     },
     "metadata": {},
     "output_type": "display_data"
    },
    {
     "data": {
      "text/latex": [
       "$\\displaystyle \\psi_{2}{\\left(L_{2} \\right)} = 0$"
      ],
      "text/plain": [
       "Eq(\\psi_{2}(L_2), 0)"
      ]
     },
     "metadata": {},
     "output_type": "display_data"
    },
    {
     "data": {
      "text/plain": [
       "'LastUpdatedAllBoundryConditions'"
      ]
     },
     "metadata": {},
     "output_type": "display_data"
    },
    {
     "data": {
      "text/latex": [
       "$\\displaystyle \\psi_{0}{\\left(L_{0} \\right)} = \\psi_{1}{\\left(0 \\right)}$"
      ],
      "text/plain": [
       "Eq(\\psi_{0}(L_0), \\psi_{1}(0))"
      ]
     },
     "metadata": {},
     "output_type": "display_data"
    },
    {
     "data": {
      "text/latex": [
       "$\\displaystyle \\psi_{1}{\\left(L_{1} \\right)} = \\psi_{2}{\\left(0 \\right)}$"
      ],
      "text/plain": [
       "Eq(\\psi_{1}(L_1), \\psi_{2}(0))"
      ]
     },
     "metadata": {},
     "output_type": "display_data"
    },
    {
     "data": {
      "text/latex": [
       "$\\displaystyle \\psi_{0}{\\left(0 \\right)} = 0$"
      ],
      "text/plain": [
       "Eq(\\psi_{0}(0), 0)"
      ]
     },
     "metadata": {},
     "output_type": "display_data"
    },
    {
     "data": {
      "text/latex": [
       "$\\displaystyle \\psi_{2}{\\left(L_{2} \\right)} = 0$"
      ],
      "text/plain": [
       "Eq(\\psi_{2}(L_2), 0)"
      ]
     },
     "metadata": {},
     "output_type": "display_data"
    },
    {
     "data": {
      "text/plain": [
       "'BoundrySimplificationTable'"
      ]
     },
     "metadata": {},
     "output_type": "display_data"
    },
    {
     "data": {
      "text/latex": [
       "$\\displaystyle \\psi_{0}{\\left(L_{0} \\right)} = \\psi_{1}{\\left(0 \\right)}$"
      ],
      "text/plain": [
       "Eq(\\psi_{0}(L_0), \\psi_{1}(0))"
      ]
     },
     "metadata": {},
     "output_type": "display_data"
    },
    {
     "data": {
      "text/latex": [
       "$\\displaystyle \\psi_{1}{\\left(L_{1} \\right)} = \\psi_{2}{\\left(0 \\right)}$"
      ],
      "text/plain": [
       "Eq(\\psi_{1}(L_1), \\psi_{2}(0))"
      ]
     },
     "metadata": {},
     "output_type": "display_data"
    },
    {
     "data": {
      "text/latex": [
       "$\\displaystyle \\psi_{0}{\\left(0 \\right)} = 0$"
      ],
      "text/plain": [
       "Eq(\\psi_{0}(0), 0)"
      ]
     },
     "metadata": {},
     "output_type": "display_data"
    },
    {
     "data": {
      "text/latex": [
       "$\\displaystyle \\psi_{2}{\\left(L_{2} \\right)} = 0$"
      ],
      "text/plain": [
       "Eq(\\psi_{2}(L_2), 0)"
      ]
     },
     "metadata": {},
     "output_type": "display_data"
    },
    {
     "data": {
      "text/plain": [
       "'BoundryConstantTable'"
      ]
     },
     "metadata": {},
     "output_type": "display_data"
    },
    {
     "data": {
      "text/latex": [
       "$\\displaystyle \\psi_{1}{\\left(0 \\right)} = B_{0}$"
      ],
      "text/plain": [
       "Eq(\\psi_{1}(0), B_{0})"
      ]
     },
     "metadata": {},
     "output_type": "display_data"
    },
    {
     "data": {
      "text/latex": [
       "$\\displaystyle \\psi_{2}{\\left(0 \\right)} = B_{1}$"
      ],
      "text/plain": [
       "Eq(\\psi_{2}(0), B_{1})"
      ]
     },
     "metadata": {},
     "output_type": "display_data"
    },
    {
     "data": {
      "text/latex": [
       "$\\displaystyle 0 = B_{2}$"
      ],
      "text/plain": [
       "Eq(0, B_{2})"
      ]
     },
     "metadata": {},
     "output_type": "display_data"
    }
   ],
   "source": [
    "stairwell_solver.boundries.display()"
   ]
  },
  {
   "cell_type": "code",
   "execution_count": 40,
   "id": "1c2a808b-9a0c-4523-b54e-1c83a3e83279",
   "metadata": {},
   "outputs": [
    {
     "data": {
      "text/plain": [
       "([<custom_libraries.stepper.Stepper at 0x7fc4b4612d00>,\n",
       "  <custom_libraries.stepper.Stepper at 0x7fc4b45f9910>,\n",
       "  <custom_libraries.stepper.Stepper at 0x7fc4b45f93a0>],\n",
       " [<custom_libraries.stepper.Stepper at 0x7fc4b46126d0>,\n",
       "  <custom_libraries.stepper.Stepper at 0x7fc4b4612850>,\n",
       "  <custom_libraries.stepper.Stepper at 0x7fc4b4612940>])"
      ]
     },
     "execution_count": 40,
     "metadata": {},
     "output_type": "execute_result"
    }
   ],
   "source": [
    "stairwell_solver.boundries_in_expression_to_constants()"
   ]
  },
  {
   "cell_type": "code",
   "execution_count": 41,
   "id": "6a952827-6800-4ce8-9af6-a7dab1e2095d",
   "metadata": {},
   "outputs": [
    {
     "data": {
      "text/plain": [
       "'ContinuityConditions'"
      ]
     },
     "metadata": {},
     "output_type": "display_data"
    },
    {
     "data": {
      "text/latex": [
       "$\\displaystyle \\psi_{0}{\\left(L_{0} \\right)} = \\psi_{1}{\\left(0 \\right)}$"
      ],
      "text/plain": [
       "Eq(\\psi_{0}(L_0), \\psi_{1}(0))"
      ]
     },
     "metadata": {},
     "output_type": "display_data"
    },
    {
     "data": {
      "text/latex": [
       "$\\displaystyle \\psi_{1}{\\left(L_{1} \\right)} = \\psi_{2}{\\left(0 \\right)}$"
      ],
      "text/plain": [
       "Eq(\\psi_{1}(L_1), \\psi_{2}(0))"
      ]
     },
     "metadata": {},
     "output_type": "display_data"
    },
    {
     "data": {
      "text/plain": [
       "'BoundryZeroConditions'"
      ]
     },
     "metadata": {},
     "output_type": "display_data"
    },
    {
     "data": {
      "text/latex": [
       "$\\displaystyle \\psi_{0}{\\left(0 \\right)} = 0$"
      ],
      "text/plain": [
       "Eq(\\psi_{0}(0), 0)"
      ]
     },
     "metadata": {},
     "output_type": "display_data"
    },
    {
     "data": {
      "text/latex": [
       "$\\displaystyle \\psi_{2}{\\left(L_{2} \\right)} = 0$"
      ],
      "text/plain": [
       "Eq(\\psi_{2}(L_2), 0)"
      ]
     },
     "metadata": {},
     "output_type": "display_data"
    },
    {
     "data": {
      "text/plain": [
       "'LastBoundryWithQueryResponce'"
      ]
     },
     "metadata": {},
     "output_type": "display_data"
    },
    {
     "data": {
      "text/latex": [
       "$\\displaystyle \\psi_{0}{\\left(L_{0} \\right)} = \\psi_{1}{\\left(0 \\right)}$"
      ],
      "text/plain": [
       "Eq(\\psi_{0}(L_0), \\psi_{1}(0))"
      ]
     },
     "metadata": {},
     "output_type": "display_data"
    },
    {
     "data": {
      "text/latex": [
       "$\\displaystyle \\psi_{1}{\\left(L_{1} \\right)} = \\psi_{2}{\\left(0 \\right)}$"
      ],
      "text/plain": [
       "Eq(\\psi_{1}(L_1), \\psi_{2}(0))"
      ]
     },
     "metadata": {},
     "output_type": "display_data"
    },
    {
     "data": {
      "text/latex": [
       "$\\displaystyle \\psi_{0}{\\left(0 \\right)} = 0$"
      ],
      "text/plain": [
       "Eq(\\psi_{0}(0), 0)"
      ]
     },
     "metadata": {},
     "output_type": "display_data"
    },
    {
     "data": {
      "text/latex": [
       "$\\displaystyle \\psi_{2}{\\left(L_{2} \\right)} = 0$"
      ],
      "text/plain": [
       "Eq(\\psi_{2}(L_2), 0)"
      ]
     },
     "metadata": {},
     "output_type": "display_data"
    },
    {
     "data": {
      "text/plain": [
       "'BoundrySimplificationTable'"
      ]
     },
     "metadata": {},
     "output_type": "display_data"
    },
    {
     "data": {
      "text/latex": [
       "$\\displaystyle \\psi_{0}{\\left(L_{0} \\right)} = \\psi_{1}{\\left(0 \\right)}$"
      ],
      "text/plain": [
       "Eq(\\psi_{0}(L_0), \\psi_{1}(0))"
      ]
     },
     "metadata": {},
     "output_type": "display_data"
    },
    {
     "data": {
      "text/latex": [
       "$\\displaystyle \\psi_{1}{\\left(L_{1} \\right)} = \\psi_{2}{\\left(0 \\right)}$"
      ],
      "text/plain": [
       "Eq(\\psi_{1}(L_1), \\psi_{2}(0))"
      ]
     },
     "metadata": {},
     "output_type": "display_data"
    },
    {
     "data": {
      "text/latex": [
       "$\\displaystyle \\psi_{0}{\\left(0 \\right)} = 0$"
      ],
      "text/plain": [
       "Eq(\\psi_{0}(0), 0)"
      ]
     },
     "metadata": {},
     "output_type": "display_data"
    },
    {
     "data": {
      "text/latex": [
       "$\\displaystyle \\psi_{2}{\\left(L_{2} \\right)} = 0$"
      ],
      "text/plain": [
       "Eq(\\psi_{2}(L_2), 0)"
      ]
     },
     "metadata": {},
     "output_type": "display_data"
    },
    {
     "data": {
      "text/latex": [
       "$\\displaystyle \\psi_{1}{\\left(0 \\right)} = B_{0}$"
      ],
      "text/plain": [
       "Eq(\\psi_{1}(0), B_{0})"
      ]
     },
     "metadata": {},
     "output_type": "display_data"
    },
    {
     "data": {
      "text/latex": [
       "$\\displaystyle \\psi_{2}{\\left(0 \\right)} = B_{1}$"
      ],
      "text/plain": [
       "Eq(\\psi_{2}(0), B_{1})"
      ]
     },
     "metadata": {},
     "output_type": "display_data"
    },
    {
     "data": {
      "text/latex": [
       "$\\displaystyle 0 = B_{2}$"
      ],
      "text/plain": [
       "Eq(0, B_{2})"
      ]
     },
     "metadata": {},
     "output_type": "display_data"
    },
    {
     "data": {
      "text/plain": [
       "'BoundryConstantTable'"
      ]
     },
     "metadata": {},
     "output_type": "display_data"
    },
    {
     "data": {
      "text/latex": [
       "$\\displaystyle \\psi_{1}{\\left(0 \\right)} = B_{0}$"
      ],
      "text/plain": [
       "Eq(\\psi_{1}(0), B_{0})"
      ]
     },
     "metadata": {},
     "output_type": "display_data"
    },
    {
     "data": {
      "text/latex": [
       "$\\displaystyle \\psi_{2}{\\left(0 \\right)} = B_{1}$"
      ],
      "text/plain": [
       "Eq(\\psi_{2}(0), B_{1})"
      ]
     },
     "metadata": {},
     "output_type": "display_data"
    },
    {
     "data": {
      "text/latex": [
       "$\\displaystyle 0 = B_{2}$"
      ],
      "text/plain": [
       "Eq(0, B_{2})"
      ]
     },
     "metadata": {},
     "output_type": "display_data"
    },
    {
     "data": {
      "text/latex": [
       "$\\displaystyle \\text{True}$"
      ],
      "text/plain": [
       "True"
      ]
     },
     "metadata": {},
     "output_type": "display_data"
    },
    {
     "data": {
      "text/latex": [
       "$\\displaystyle \\text{True}$"
      ],
      "text/plain": [
       "True"
      ]
     },
     "metadata": {},
     "output_type": "display_data"
    },
    {
     "data": {
      "text/latex": [
       "$\\displaystyle \\text{True}$"
      ],
      "text/plain": [
       "True"
      ]
     },
     "metadata": {},
     "output_type": "display_data"
    },
    {
     "data": {
      "text/plain": [
       "'LastUpdatedAllBoundryConditions'"
      ]
     },
     "metadata": {},
     "output_type": "display_data"
    },
    {
     "data": {
      "text/latex": [
       "$\\displaystyle \\psi_{0}{\\left(L_{0} \\right)} = \\psi_{1}{\\left(0 \\right)}$"
      ],
      "text/plain": [
       "Eq(\\psi_{0}(L_0), \\psi_{1}(0))"
      ]
     },
     "metadata": {},
     "output_type": "display_data"
    },
    {
     "data": {
      "text/latex": [
       "$\\displaystyle \\psi_{1}{\\left(L_{1} \\right)} = \\psi_{2}{\\left(0 \\right)}$"
      ],
      "text/plain": [
       "Eq(\\psi_{1}(L_1), \\psi_{2}(0))"
      ]
     },
     "metadata": {},
     "output_type": "display_data"
    },
    {
     "data": {
      "text/latex": [
       "$\\displaystyle \\psi_{0}{\\left(0 \\right)} = 0$"
      ],
      "text/plain": [
       "Eq(\\psi_{0}(0), 0)"
      ]
     },
     "metadata": {},
     "output_type": "display_data"
    },
    {
     "data": {
      "text/latex": [
       "$\\displaystyle \\psi_{2}{\\left(L_{2} \\right)} = 0$"
      ],
      "text/plain": [
       "Eq(\\psi_{2}(L_2), 0)"
      ]
     },
     "metadata": {},
     "output_type": "display_data"
    },
    {
     "data": {
      "text/latex": [
       "$\\displaystyle \\psi_{1}{\\left(0 \\right)} = B_{0}$"
      ],
      "text/plain": [
       "Eq(\\psi_{1}(0), B_{0})"
      ]
     },
     "metadata": {},
     "output_type": "display_data"
    },
    {
     "data": {
      "text/latex": [
       "$\\displaystyle \\psi_{2}{\\left(0 \\right)} = B_{1}$"
      ],
      "text/plain": [
       "Eq(\\psi_{2}(0), B_{1})"
      ]
     },
     "metadata": {},
     "output_type": "display_data"
    },
    {
     "data": {
      "text/latex": [
       "$\\displaystyle 0 = B_{2}$"
      ],
      "text/plain": [
       "Eq(0, B_{2})"
      ]
     },
     "metadata": {},
     "output_type": "display_data"
    }
   ],
   "source": [
    "stairwell_solver.boundries.display()"
   ]
  },
  {
   "cell_type": "code",
   "execution_count": null,
   "id": "10d99d0a-6a48-4509-9fbb-73a06a5e791c",
   "metadata": {},
   "outputs": [],
   "source": []
  },
  {
   "cell_type": "code",
   "execution_count": 42,
   "id": "b8b7ec28-1f01-4dac-bb91-d0e70052a9f9",
   "metadata": {},
   "outputs": [
    {
     "data": {
      "text/latex": [
       "$\\displaystyle \\text{True}$"
      ],
      "text/plain": [
       "True"
      ]
     },
     "metadata": {},
     "output_type": "display_data"
    },
    {
     "data": {
      "text/latex": [
       "$\\displaystyle B_{0} = \\frac{- B_{0} + B_{1} e^{L_{1} k_{1}}}{e^{2 L_{1} k_{1}} - 1} + \\frac{B_{0} e^{2 L_{1} k_{1}} - B_{1} e^{L_{1} k_{1}}}{e^{2 L_{1} k_{1}} - 1}$"
      ],
      "text/plain": [
       "Eq(B_{0}, (-B_{0} + B_{1}*exp(L_1*k_1))/(exp(2*L_1*k_1) - 1) + (B_{0}*exp(2*L_1*k_1) - B_{1}*exp(L_1*k_1))/(exp(2*L_1*k_1) - 1))"
      ]
     },
     "metadata": {},
     "output_type": "display_data"
    },
    {
     "data": {
      "text/latex": [
       "$\\displaystyle B_{1} = \\frac{B_{1} e^{2 L_{2} k_{2}}}{e^{2 L_{2} k_{2}} - 1} - \\frac{B_{1}}{e^{2 L_{2} k_{2}} - 1}$"
      ],
      "text/plain": [
       "Eq(B_{1}, B_{1}*exp(2*L_2*k_2)/(exp(2*L_2*k_2) - 1) - B_{1}/(exp(2*L_2*k_2) - 1))"
      ]
     },
     "metadata": {},
     "output_type": "display_data"
    }
   ],
   "source": [
    "display_steps( stairwell_solver.equations )"
   ]
  },
  {
   "cell_type": "code",
   "execution_count": 43,
   "id": "b7311437-68fe-457b-a19e-376cad99251d",
   "metadata": {},
   "outputs": [
    {
     "data": {
      "text/plain": [
       "{\\psi_{1}(0): B_{0},\n",
       " \\psi_{2}(0): B_{1},\n",
       " 0: B_{2},\n",
       " B_{0}: B_{0},\n",
       " B_{1}: B_{1},\n",
       " B_{2}: B_{2}}"
      ]
     },
     "execution_count": 43,
     "metadata": {},
     "output_type": "execute_result"
    }
   ],
   "source": [
    "stairwell_solver.boundries.BoundryConstantTable"
   ]
  },
  {
   "cell_type": "code",
   "execution_count": 44,
   "id": "65587807-7b70-4e5c-ba61-0dfe4d06be59",
   "metadata": {},
   "outputs": [],
   "source": [
    "#.subs( { stairwell_solver.boundry_constant_symbols[ 0 ] : b_0.rhs } ) \\\n",
    "result0 = sp.solve( [ \n",
    "        equation.last_step() \\\n",
    "                for equation in stairwell_solver.equations[ 1 : ] \\\n",
    "    ], stairwell_solver.boundry_constant_symbols )"
   ]
  },
  {
   "cell_type": "code",
   "execution_count": 45,
   "id": "bd665fa6-f986-4e3a-acd9-d681ed74fd93",
   "metadata": {},
   "outputs": [
    {
     "data": {
      "text/plain": [
       "{B_{1}: 0}"
      ]
     },
     "execution_count": 45,
     "metadata": {},
     "output_type": "execute_result"
    }
   ],
   "source": [
    "result0"
   ]
  },
  {
   "cell_type": "code",
   "execution_count": null,
   "id": "0fc2d004-0528-4e21-be32-40fa595a698e",
   "metadata": {},
   "outputs": [],
   "source": []
  },
  {
   "cell_type": "code",
   "execution_count": 46,
   "id": "bd6a904d-c567-4962-adf3-8601317ffd0f",
   "metadata": {},
   "outputs": [
    {
     "data": {
      "text/plain": [
       "[Eq(\\psi_{0}(x), B_{0}*exp(L_0*k_0)*exp(k_0*x)/(exp(2*L_0*k_0) - 1) - B_{0}*exp(L_0*k_0)*exp(-k_0*x)/(exp(2*L_0*k_0) - 1)),\n",
       " Eq(\\psi_{1}(x), (-B_{0} + B_{1}*exp(L_1*k_1))*exp(k_1*x)/(exp(2*L_1*k_1) - 1) + (B_{0}*exp(2*L_1*k_1) - B_{1}*exp(L_1*k_1))*exp(-k_1*x)/(exp(2*L_1*k_1) - 1)),\n",
       " Eq(\\psi_{2}(x), B_{1}*exp(2*L_2*k_2)*exp(-k_2*x)/(exp(2*L_2*k_2) - 1) - B_{1}*exp(k_2*x)/(exp(2*L_2*k_2) - 1))]"
      ]
     },
     "execution_count": 46,
     "metadata": {},
     "output_type": "execute_result"
    }
   ],
   "source": [
    "[ equation.restore_from_check_point( \"TimeIndependentSchrodingerConstantPotentials1DCheckPointBeforeSubZero11\" ) for equation in stairwell_solver.equations ]"
   ]
  },
  {
   "cell_type": "code",
   "execution_count": null,
   "id": "9f3e2d7d-e782-4e95-8a59-ba03f0a1bced",
   "metadata": {},
   "outputs": [],
   "source": []
  },
  {
   "cell_type": "code",
   "execution_count": 47,
   "id": "1552bebc-4b4d-4749-a76e-e24ac9f4e240",
   "metadata": {},
   "outputs": [
    {
     "data": {
      "text/latex": [
       "$\\displaystyle \\psi_{0}{\\left(x \\right)} = \\frac{B_{0} e^{L_{0} k_{0}} e^{k_{0} x}}{e^{2 L_{0} k_{0}} - 1} - \\frac{B_{0} e^{L_{0} k_{0}} e^{- k_{0} x}}{e^{2 L_{0} k_{0}} - 1}$"
      ],
      "text/plain": [
       "Eq(\\psi_{0}(x), B_{0}*exp(L_0*k_0)*exp(k_0*x)/(exp(2*L_0*k_0) - 1) - B_{0}*exp(L_0*k_0)*exp(-k_0*x)/(exp(2*L_0*k_0) - 1))"
      ]
     },
     "metadata": {},
     "output_type": "display_data"
    },
    {
     "data": {
      "text/latex": [
       "$\\displaystyle \\psi_{1}{\\left(x \\right)} = \\frac{\\left(- B_{0} + B_{1} e^{L_{1} k_{1}}\\right) e^{k_{1} x}}{e^{2 L_{1} k_{1}} - 1} + \\frac{\\left(B_{0} e^{2 L_{1} k_{1}} - B_{1} e^{L_{1} k_{1}}\\right) e^{- k_{1} x}}{e^{2 L_{1} k_{1}} - 1}$"
      ],
      "text/plain": [
       "Eq(\\psi_{1}(x), (-B_{0} + B_{1}*exp(L_1*k_1))*exp(k_1*x)/(exp(2*L_1*k_1) - 1) + (B_{0}*exp(2*L_1*k_1) - B_{1}*exp(L_1*k_1))*exp(-k_1*x)/(exp(2*L_1*k_1) - 1))"
      ]
     },
     "metadata": {},
     "output_type": "display_data"
    },
    {
     "data": {
      "text/latex": [
       "$\\displaystyle \\psi_{2}{\\left(x \\right)} = \\frac{B_{1} e^{2 L_{2} k_{2}} e^{- k_{2} x}}{e^{2 L_{2} k_{2}} - 1} - \\frac{B_{1} e^{k_{2} x}}{e^{2 L_{2} k_{2}} - 1}$"
      ],
      "text/plain": [
       "Eq(\\psi_{2}(x), B_{1}*exp(2*L_2*k_2)*exp(-k_2*x)/(exp(2*L_2*k_2) - 1) - B_{1}*exp(k_2*x)/(exp(2*L_2*k_2) - 1))"
      ]
     },
     "metadata": {},
     "output_type": "display_data"
    }
   ],
   "source": [
    "display_steps( stairwell_solver.equations )"
   ]
  },
  {
   "cell_type": "code",
   "execution_count": null,
   "id": "e2761aee-abd3-4e80-a589-15d3d4a0e6ec",
   "metadata": {},
   "outputs": [],
   "source": []
  },
  {
   "cell_type": "code",
   "execution_count": 48,
   "id": "82ef2e5d-303e-4b07-b383-b63f1f8c451c",
   "metadata": {},
   "outputs": [],
   "source": [
    "stairwell_solver._equations_new_check_point( \"BeforeSubZero\", 22 )\n",
    "[ \n",
    "    stairwell_solver.equations[ ii ].operate( lambda step : step.subs( { stairwell_solver.position : stairwell_solver.regions()[ ii ] } ) ) \\\n",
    "         for ii in range( len( stairwell_solver.equations ) ) \n",
    "]\n",
    "stairwell_solver._equations_new_check_point( \"PostSubZero\", 22 )"
   ]
  },
  {
   "cell_type": "code",
   "execution_count": null,
   "id": "7639c617-383e-4289-bbe8-725063d604b7",
   "metadata": {},
   "outputs": [],
   "source": []
  },
  {
   "cell_type": "code",
   "execution_count": 49,
   "id": "b8d585f6-04d7-46c6-bca1-9169129e438b",
   "metadata": {},
   "outputs": [
    {
     "data": {
      "text/latex": [
       "$\\displaystyle \\psi_{0}{\\left(L_{0} \\right)} = \\frac{B_{0} e^{2 L_{0} k_{0}}}{e^{2 L_{0} k_{0}} - 1} - \\frac{B_{0}}{e^{2 L_{0} k_{0}} - 1}$"
      ],
      "text/plain": [
       "Eq(\\psi_{0}(L_0), B_{0}*exp(2*L_0*k_0)/(exp(2*L_0*k_0) - 1) - B_{0}/(exp(2*L_0*k_0) - 1))"
      ]
     },
     "metadata": {},
     "output_type": "display_data"
    },
    {
     "data": {
      "text/latex": [
       "$\\displaystyle \\psi_{1}{\\left(L_{1} \\right)} = \\frac{\\left(- B_{0} + B_{1} e^{L_{1} k_{1}}\\right) e^{L_{1} k_{1}}}{e^{2 L_{1} k_{1}} - 1} + \\frac{\\left(B_{0} e^{2 L_{1} k_{1}} - B_{1} e^{L_{1} k_{1}}\\right) e^{- L_{1} k_{1}}}{e^{2 L_{1} k_{1}} - 1}$"
      ],
      "text/plain": [
       "Eq(\\psi_{1}(L_1), (-B_{0} + B_{1}*exp(L_1*k_1))*exp(L_1*k_1)/(exp(2*L_1*k_1) - 1) + (B_{0}*exp(2*L_1*k_1) - B_{1}*exp(L_1*k_1))*exp(-L_1*k_1)/(exp(2*L_1*k_1) - 1))"
      ]
     },
     "metadata": {},
     "output_type": "display_data"
    },
    {
     "data": {
      "text/latex": [
       "$\\displaystyle \\psi_{2}{\\left(L_{2} \\right)} = 0$"
      ],
      "text/plain": [
       "Eq(\\psi_{2}(L_2), 0)"
      ]
     },
     "metadata": {},
     "output_type": "display_data"
    }
   ],
   "source": [
    "display_steps( stairwell_solver.equations )"
   ]
  },
  {
   "cell_type": "code",
   "execution_count": null,
   "id": "b4a7d176-fa7e-429b-b341-83b89bc0239d",
   "metadata": {},
   "outputs": [],
   "source": []
  },
  {
   "cell_type": "code",
   "execution_count": 50,
   "id": "06d7ab06-dc0b-4ec8-8cfb-45213b04a3bd",
   "metadata": {},
   "outputs": [
    {
     "data": {
      "text/plain": [
       "([<custom_libraries.stepper.Stepper at 0x7fc4b4612d00>,\n",
       "  <custom_libraries.stepper.Stepper at 0x7fc4b45f9910>,\n",
       "  <custom_libraries.stepper.Stepper at 0x7fc4b45f93a0>],\n",
       " [<custom_libraries.stepper.Stepper at 0x7fc4b46126d0>,\n",
       "  <custom_libraries.stepper.Stepper at 0x7fc4b4612850>,\n",
       "  <custom_libraries.stepper.Stepper at 0x7fc4b4612940>])"
      ]
     },
     "execution_count": 50,
     "metadata": {},
     "output_type": "execute_result"
    }
   ],
   "source": [
    "stairwell_solver.boundries_in_expression_to_constants()"
   ]
  },
  {
   "cell_type": "code",
   "execution_count": null,
   "id": "1cb2c705-83ca-4343-be01-db2bf4ea66a1",
   "metadata": {},
   "outputs": [],
   "source": []
  },
  {
   "cell_type": "code",
   "execution_count": 51,
   "id": "24dea6d9-c485-4c79-859e-afb3d1ea466e",
   "metadata": {},
   "outputs": [],
   "source": [
    "# Very specific function for this notebook, not generalized\n",
    "def sub_b_0_solutions( stepper ): \n",
    "            b_0_solutions = [ stepper.last_step().args[ 0 ].args[ 0 ] for stepper in auto_solved[ 0 ][ stairwell_solver.boundry_constant_symbols[ 0 ] ] ]\n",
    "            stepper.operate( lambda step : step.subs( { \n",
    "                    sp.conjugate( stairwell_solver.boundry_constant_symbols[ 0 ] ) : b_0_solutions[ 0 ] \n",
    "                } ), chain = True ) \\\n",
    "            .operate( lambda step : step.subs( { \n",
    "                    stairwell_solver.boundry_constant_symbols[ 0 ] : b_0_solutions[ 1 ] \n",
    "                } ), chain = True ) \n",
    "            return stepper\n"
   ]
  },
  {
   "cell_type": "code",
   "execution_count": 52,
   "id": "bb2c908d-472d-46e9-9a73-dad7521ab3d1",
   "metadata": {},
   "outputs": [],
   "source": [
    "#[ sub_b_0_solutions( equation ) for equation in stairwell_solver.equations ]"
   ]
  },
  {
   "cell_type": "code",
   "execution_count": null,
   "id": "215a02b4-2a9b-43de-82be-8746824aa081",
   "metadata": {},
   "outputs": [],
   "source": []
  },
  {
   "cell_type": "code",
   "execution_count": 53,
   "id": "634ff972-a33d-48ba-95af-6f5acc00c1fe",
   "metadata": {},
   "outputs": [
    {
     "data": {
      "text/latex": [
       "$\\displaystyle B_{0} = \\frac{B_{0} e^{2 L_{0} k_{0}}}{e^{2 L_{0} k_{0}} - 1} - \\frac{B_{0}}{e^{2 L_{0} k_{0}} - 1}$"
      ],
      "text/plain": [
       "Eq(B_{0}, B_{0}*exp(2*L_0*k_0)/(exp(2*L_0*k_0) - 1) - B_{0}/(exp(2*L_0*k_0) - 1))"
      ]
     },
     "metadata": {},
     "output_type": "display_data"
    },
    {
     "data": {
      "text/latex": [
       "$\\displaystyle B_{1} = \\frac{\\left(- B_{0} + B_{1} e^{L_{1} k_{1}}\\right) e^{L_{1} k_{1}}}{e^{2 L_{1} k_{1}} - 1} + \\frac{\\left(B_{0} e^{2 L_{1} k_{1}} - B_{1} e^{L_{1} k_{1}}\\right) e^{- L_{1} k_{1}}}{e^{2 L_{1} k_{1}} - 1}$"
      ],
      "text/plain": [
       "Eq(B_{1}, (-B_{0} + B_{1}*exp(L_1*k_1))*exp(L_1*k_1)/(exp(2*L_1*k_1) - 1) + (B_{0}*exp(2*L_1*k_1) - B_{1}*exp(L_1*k_1))*exp(-L_1*k_1)/(exp(2*L_1*k_1) - 1))"
      ]
     },
     "metadata": {},
     "output_type": "display_data"
    },
    {
     "data": {
      "text/latex": [
       "$\\displaystyle \\text{True}$"
      ],
      "text/plain": [
       "True"
      ]
     },
     "metadata": {},
     "output_type": "display_data"
    }
   ],
   "source": [
    "display_steps( stairwell_solver.equations )"
   ]
  },
  {
   "cell_type": "code",
   "execution_count": 54,
   "id": "97ae3d64-a2c5-43a4-ac1e-f4a5a761241c",
   "metadata": {},
   "outputs": [],
   "source": [
    "result1 = sp.solve( [ equation.last_step() for equation in stairwell_solver.equations[ 0 : 1 ] ], stairwell_solver.boundry_constant_symbols )"
   ]
  },
  {
   "cell_type": "code",
   "execution_count": 55,
   "id": "2bf55eb3-d9e0-4b26-8d92-c94a4d9a5017",
   "metadata": {},
   "outputs": [
    {
     "data": {
      "text/plain": [
       "{B_{0}: 0}"
      ]
     },
     "execution_count": 55,
     "metadata": {},
     "output_type": "execute_result"
    }
   ],
   "source": [
    "result1"
   ]
  },
  {
   "cell_type": "code",
   "execution_count": 56,
   "id": "529bd4b6-02f9-4a75-9f3d-15bda6ee6c37",
   "metadata": {},
   "outputs": [
    {
     "data": {
      "text/plain": [
       "[Eq(\\psi_{0}(x), B_{0}*exp(L_0*k_0)*exp(k_0*x)/(exp(2*L_0*k_0) - 1) - B_{0}*exp(L_0*k_0)*exp(-k_0*x)/(exp(2*L_0*k_0) - 1)),\n",
       " Eq(\\psi_{1}(x), (-B_{0} + B_{1}*exp(L_1*k_1))*exp(k_1*x)/(exp(2*L_1*k_1) - 1) + (B_{0}*exp(2*L_1*k_1) - B_{1}*exp(L_1*k_1))*exp(-k_1*x)/(exp(2*L_1*k_1) - 1)),\n",
       " Eq(\\psi_{2}(x), B_{1}*exp(2*L_2*k_2)*exp(-k_2*x)/(exp(2*L_2*k_2) - 1) - B_{1}*exp(k_2*x)/(exp(2*L_2*k_2) - 1))]"
      ]
     },
     "execution_count": 56,
     "metadata": {},
     "output_type": "execute_result"
    }
   ],
   "source": [
    "[ equation.restore_from_check_point( \"TimeIndependentSchrodingerConstantPotentials1DCheckPointBeforeSubZero22\" ) for equation in stairwell_solver.equations ]"
   ]
  },
  {
   "cell_type": "code",
   "execution_count": null,
   "id": "5f5d9aae-39d0-40bb-a8c6-a3fb7936607f",
   "metadata": {},
   "outputs": [],
   "source": []
  },
  {
   "cell_type": "code",
   "execution_count": 57,
   "id": "f094a817-6aca-450a-bd3b-2c1659cee8e5",
   "metadata": {},
   "outputs": [
    {
     "data": {
      "text/latex": [
       "$\\displaystyle \\psi_{0}{\\left(x \\right)} = \\frac{B_{0} e^{L_{0} k_{0}} e^{k_{0} x}}{e^{2 L_{0} k_{0}} - 1} - \\frac{B_{0} e^{L_{0} k_{0}} e^{- k_{0} x}}{e^{2 L_{0} k_{0}} - 1}$"
      ],
      "text/plain": [
       "Eq(\\psi_{0}(x), B_{0}*exp(L_0*k_0)*exp(k_0*x)/(exp(2*L_0*k_0) - 1) - B_{0}*exp(L_0*k_0)*exp(-k_0*x)/(exp(2*L_0*k_0) - 1))"
      ]
     },
     "metadata": {},
     "output_type": "display_data"
    },
    {
     "data": {
      "text/latex": [
       "$\\displaystyle \\psi_{1}{\\left(x \\right)} = \\frac{\\left(- B_{0} + B_{1} e^{L_{1} k_{1}}\\right) e^{k_{1} x}}{e^{2 L_{1} k_{1}} - 1} + \\frac{\\left(B_{0} e^{2 L_{1} k_{1}} - B_{1} e^{L_{1} k_{1}}\\right) e^{- k_{1} x}}{e^{2 L_{1} k_{1}} - 1}$"
      ],
      "text/plain": [
       "Eq(\\psi_{1}(x), (-B_{0} + B_{1}*exp(L_1*k_1))*exp(k_1*x)/(exp(2*L_1*k_1) - 1) + (B_{0}*exp(2*L_1*k_1) - B_{1}*exp(L_1*k_1))*exp(-k_1*x)/(exp(2*L_1*k_1) - 1))"
      ]
     },
     "metadata": {},
     "output_type": "display_data"
    },
    {
     "data": {
      "text/latex": [
       "$\\displaystyle \\psi_{2}{\\left(x \\right)} = \\frac{B_{1} e^{2 L_{2} k_{2}} e^{- k_{2} x}}{e^{2 L_{2} k_{2}} - 1} - \\frac{B_{1} e^{k_{2} x}}{e^{2 L_{2} k_{2}} - 1}$"
      ],
      "text/plain": [
       "Eq(\\psi_{2}(x), B_{1}*exp(2*L_2*k_2)*exp(-k_2*x)/(exp(2*L_2*k_2) - 1) - B_{1}*exp(k_2*x)/(exp(2*L_2*k_2) - 1))"
      ]
     },
     "metadata": {},
     "output_type": "display_data"
    }
   ],
   "source": [
    "display_steps( stairwell_solver.equations )"
   ]
  },
  {
   "cell_type": "code",
   "execution_count": null,
   "id": "e074b494-db77-40fe-99ad-7e8669ce970f",
   "metadata": {},
   "outputs": [],
   "source": []
  },
  {
   "cell_type": "code",
   "execution_count": null,
   "id": "8460d626-a4ea-4067-ad4f-1b7d2cbce3e6",
   "metadata": {},
   "outputs": [],
   "source": []
  },
  {
   "cell_type": "code",
   "execution_count": 58,
   "id": "1ff976d1-5eb9-43fa-821f-b71cb63651a8",
   "metadata": {},
   "outputs": [
    {
     "data": {
      "text/plain": [
       "{B_{0}: 0}"
      ]
     },
     "execution_count": 58,
     "metadata": {},
     "output_type": "execute_result"
    }
   ],
   "source": [
    "result1"
   ]
  },
  {
   "cell_type": "code",
   "execution_count": 59,
   "id": "72d7b2df-71a9-4b1e-bf1f-37ce5a6ee886",
   "metadata": {},
   "outputs": [
    {
     "data": {
      "text/plain": [
       "[<custom_libraries.stepper.Stepper at 0x7fc4b4612d00>,\n",
       " <custom_libraries.stepper.Stepper at 0x7fc4b45f9910>,\n",
       " <custom_libraries.stepper.Stepper at 0x7fc4b45f93a0>]"
      ]
     },
     "execution_count": 59,
     "metadata": {},
     "output_type": "execute_result"
    }
   ],
   "source": [
    "[\n",
    "    sub_b_0_solutions( equation ).operate( lambda step : step.subs( result0 ), chain = True ) \\\n",
    "    for equation in stairwell_solver.equations\n",
    "]"
   ]
  },
  {
   "cell_type": "code",
   "execution_count": null,
   "id": "bf2df353-021a-48d2-9600-c7a1d596ca7e",
   "metadata": {},
   "outputs": [],
   "source": []
  },
  {
   "cell_type": "code",
   "execution_count": 60,
   "id": "87bdb48e-0602-4b6b-808a-f1349c95bbf2",
   "metadata": {},
   "outputs": [
    {
     "data": {
      "text/latex": [
       "$\\displaystyle \\psi_{0}{\\left(x \\right)} = \\frac{\\sqrt{2} \\sqrt{- \\frac{N_{0} Q_{2}}{Q_{3}^{2} \\left(4 L_{0} Q_{2} e^{2 L_{0} Q_{2}} - e^{4 L_{0} Q_{2}} + 1\\right)}} e^{L_{0} Q_{2}} e^{L_{0} k_{0}} e^{k_{0} x}}{e^{2 L_{0} k_{0}} - 1} - \\frac{\\sqrt{2} \\sqrt{- \\frac{N_{0} Q_{2}}{Q_{3}^{2} \\left(4 L_{0} Q_{2} e^{2 L_{0} Q_{2}} - e^{4 L_{0} Q_{2}} + 1\\right)}} e^{L_{0} Q_{2}} e^{L_{0} k_{0}} e^{- k_{0} x}}{e^{2 L_{0} k_{0}} - 1}$"
      ],
      "text/plain": [
       "Eq(\\psi_{0}(x), sqrt(2)*sqrt(-N_{0}*Q_{2}/(Q_{3}**2*(4*L_0*Q_{2}*exp(2*L_0*Q_{2}) - exp(4*L_0*Q_{2}) + 1)))*exp(L_0*Q_{2})*exp(L_0*k_0)*exp(k_0*x)/(exp(2*L_0*k_0) - 1) - sqrt(2)*sqrt(-N_{0}*Q_{2}/(Q_{3}**2*(4*L_0*Q_{2}*exp(2*L_0*Q_{2}) - exp(4*L_0*Q_{2}) + 1)))*exp(L_0*Q_{2})*exp(L_0*k_0)*exp(-k_0*x)/(exp(2*L_0*k_0) - 1))"
      ]
     },
     "metadata": {},
     "output_type": "display_data"
    },
    {
     "data": {
      "text/latex": [
       "$\\displaystyle \\psi_{1}{\\left(x \\right)} = \\frac{\\sqrt{2} \\sqrt{- \\frac{N_{0} Q_{2}}{Q_{3}^{2} \\left(4 L_{0} Q_{2} e^{2 L_{0} Q_{2}} - e^{4 L_{0} Q_{2}} + 1\\right)}} e^{L_{0} Q_{2}} e^{2 L_{1} k_{1}} e^{- k_{1} x}}{e^{2 L_{1} k_{1}} - 1} - \\frac{\\sqrt{2} \\sqrt{- \\frac{N_{0} Q_{2}}{Q_{3}^{2} \\left(4 L_{0} Q_{2} e^{2 L_{0} Q_{2}} - e^{4 L_{0} Q_{2}} + 1\\right)}} e^{L_{0} Q_{2}} e^{k_{1} x}}{e^{2 L_{1} k_{1}} - 1}$"
      ],
      "text/plain": [
       "Eq(\\psi_{1}(x), sqrt(2)*sqrt(-N_{0}*Q_{2}/(Q_{3}**2*(4*L_0*Q_{2}*exp(2*L_0*Q_{2}) - exp(4*L_0*Q_{2}) + 1)))*exp(L_0*Q_{2})*exp(2*L_1*k_1)*exp(-k_1*x)/(exp(2*L_1*k_1) - 1) - sqrt(2)*sqrt(-N_{0}*Q_{2}/(Q_{3}**2*(4*L_0*Q_{2}*exp(2*L_0*Q_{2}) - exp(4*L_0*Q_{2}) + 1)))*exp(L_0*Q_{2})*exp(k_1*x)/(exp(2*L_1*k_1) - 1))"
      ]
     },
     "metadata": {},
     "output_type": "display_data"
    },
    {
     "data": {
      "text/latex": [
       "$\\displaystyle \\psi_{2}{\\left(x \\right)} = 0$"
      ],
      "text/plain": [
       "Eq(\\psi_{2}(x), 0)"
      ]
     },
     "metadata": {},
     "output_type": "display_data"
    }
   ],
   "source": [
    "display_steps( stairwell_solver.equations )"
   ]
  },
  {
   "cell_type": "code",
   "execution_count": 61,
   "id": "b915c2ec-dddf-4890-ae0d-f17892a9675f",
   "metadata": {},
   "outputs": [
    {
     "data": {
      "text/plain": [
       "'ContinuityConditions'"
      ]
     },
     "metadata": {},
     "output_type": "display_data"
    },
    {
     "data": {
      "text/latex": [
       "$\\displaystyle \\psi_{0}{\\left(L_{0} \\right)} = \\psi_{1}{\\left(0 \\right)}$"
      ],
      "text/plain": [
       "Eq(\\psi_{0}(L_0), \\psi_{1}(0))"
      ]
     },
     "metadata": {},
     "output_type": "display_data"
    },
    {
     "data": {
      "text/latex": [
       "$\\displaystyle \\psi_{1}{\\left(L_{1} \\right)} = \\psi_{2}{\\left(0 \\right)}$"
      ],
      "text/plain": [
       "Eq(\\psi_{1}(L_1), \\psi_{2}(0))"
      ]
     },
     "metadata": {},
     "output_type": "display_data"
    },
    {
     "data": {
      "text/plain": [
       "'BoundryZeroConditions'"
      ]
     },
     "metadata": {},
     "output_type": "display_data"
    },
    {
     "data": {
      "text/latex": [
       "$\\displaystyle \\psi_{0}{\\left(0 \\right)} = 0$"
      ],
      "text/plain": [
       "Eq(\\psi_{0}(0), 0)"
      ]
     },
     "metadata": {},
     "output_type": "display_data"
    },
    {
     "data": {
      "text/latex": [
       "$\\displaystyle \\psi_{2}{\\left(L_{2} \\right)} = 0$"
      ],
      "text/plain": [
       "Eq(\\psi_{2}(L_2), 0)"
      ]
     },
     "metadata": {},
     "output_type": "display_data"
    },
    {
     "data": {
      "text/plain": [
       "'LastBoundryWithQueryResponce'"
      ]
     },
     "metadata": {},
     "output_type": "display_data"
    },
    {
     "data": {
      "text/latex": [
       "$\\displaystyle \\psi_{0}{\\left(L_{0} \\right)} = \\psi_{1}{\\left(0 \\right)}$"
      ],
      "text/plain": [
       "Eq(\\psi_{0}(L_0), \\psi_{1}(0))"
      ]
     },
     "metadata": {},
     "output_type": "display_data"
    },
    {
     "data": {
      "text/latex": [
       "$\\displaystyle \\psi_{1}{\\left(L_{1} \\right)} = \\psi_{2}{\\left(0 \\right)}$"
      ],
      "text/plain": [
       "Eq(\\psi_{1}(L_1), \\psi_{2}(0))"
      ]
     },
     "metadata": {},
     "output_type": "display_data"
    },
    {
     "data": {
      "text/latex": [
       "$\\displaystyle \\psi_{0}{\\left(0 \\right)} = 0$"
      ],
      "text/plain": [
       "Eq(\\psi_{0}(0), 0)"
      ]
     },
     "metadata": {},
     "output_type": "display_data"
    },
    {
     "data": {
      "text/latex": [
       "$\\displaystyle \\psi_{2}{\\left(L_{2} \\right)} = 0$"
      ],
      "text/plain": [
       "Eq(\\psi_{2}(L_2), 0)"
      ]
     },
     "metadata": {},
     "output_type": "display_data"
    },
    {
     "data": {
      "text/plain": [
       "'BoundrySimplificationTable'"
      ]
     },
     "metadata": {},
     "output_type": "display_data"
    },
    {
     "data": {
      "text/latex": [
       "$\\displaystyle \\psi_{0}{\\left(L_{0} \\right)} = \\psi_{1}{\\left(0 \\right)}$"
      ],
      "text/plain": [
       "Eq(\\psi_{0}(L_0), \\psi_{1}(0))"
      ]
     },
     "metadata": {},
     "output_type": "display_data"
    },
    {
     "data": {
      "text/latex": [
       "$\\displaystyle \\psi_{1}{\\left(L_{1} \\right)} = \\psi_{2}{\\left(0 \\right)}$"
      ],
      "text/plain": [
       "Eq(\\psi_{1}(L_1), \\psi_{2}(0))"
      ]
     },
     "metadata": {},
     "output_type": "display_data"
    },
    {
     "data": {
      "text/latex": [
       "$\\displaystyle \\psi_{0}{\\left(0 \\right)} = 0$"
      ],
      "text/plain": [
       "Eq(\\psi_{0}(0), 0)"
      ]
     },
     "metadata": {},
     "output_type": "display_data"
    },
    {
     "data": {
      "text/latex": [
       "$\\displaystyle \\psi_{2}{\\left(L_{2} \\right)} = 0$"
      ],
      "text/plain": [
       "Eq(\\psi_{2}(L_2), 0)"
      ]
     },
     "metadata": {},
     "output_type": "display_data"
    },
    {
     "data": {
      "text/latex": [
       "$\\displaystyle \\psi_{1}{\\left(0 \\right)} = B_{0}$"
      ],
      "text/plain": [
       "Eq(\\psi_{1}(0), B_{0})"
      ]
     },
     "metadata": {},
     "output_type": "display_data"
    },
    {
     "data": {
      "text/latex": [
       "$\\displaystyle \\psi_{2}{\\left(0 \\right)} = B_{1}$"
      ],
      "text/plain": [
       "Eq(\\psi_{2}(0), B_{1})"
      ]
     },
     "metadata": {},
     "output_type": "display_data"
    },
    {
     "data": {
      "text/latex": [
       "$\\displaystyle 0 = B_{2}$"
      ],
      "text/plain": [
       "Eq(0, B_{2})"
      ]
     },
     "metadata": {},
     "output_type": "display_data"
    },
    {
     "data": {
      "text/latex": [
       "$\\displaystyle \\text{True}$"
      ],
      "text/plain": [
       "True"
      ]
     },
     "metadata": {},
     "output_type": "display_data"
    },
    {
     "data": {
      "text/latex": [
       "$\\displaystyle \\text{True}$"
      ],
      "text/plain": [
       "True"
      ]
     },
     "metadata": {},
     "output_type": "display_data"
    },
    {
     "data": {
      "text/latex": [
       "$\\displaystyle \\text{True}$"
      ],
      "text/plain": [
       "True"
      ]
     },
     "metadata": {},
     "output_type": "display_data"
    },
    {
     "data": {
      "text/plain": [
       "'BoundryConstantTable'"
      ]
     },
     "metadata": {},
     "output_type": "display_data"
    },
    {
     "data": {
      "text/latex": [
       "$\\displaystyle \\psi_{1}{\\left(0 \\right)} = B_{0}$"
      ],
      "text/plain": [
       "Eq(\\psi_{1}(0), B_{0})"
      ]
     },
     "metadata": {},
     "output_type": "display_data"
    },
    {
     "data": {
      "text/latex": [
       "$\\displaystyle \\psi_{2}{\\left(0 \\right)} = B_{1}$"
      ],
      "text/plain": [
       "Eq(\\psi_{2}(0), B_{1})"
      ]
     },
     "metadata": {},
     "output_type": "display_data"
    },
    {
     "data": {
      "text/latex": [
       "$\\displaystyle 0 = B_{2}$"
      ],
      "text/plain": [
       "Eq(0, B_{2})"
      ]
     },
     "metadata": {},
     "output_type": "display_data"
    },
    {
     "data": {
      "text/latex": [
       "$\\displaystyle \\text{True}$"
      ],
      "text/plain": [
       "True"
      ]
     },
     "metadata": {},
     "output_type": "display_data"
    },
    {
     "data": {
      "text/latex": [
       "$\\displaystyle \\text{True}$"
      ],
      "text/plain": [
       "True"
      ]
     },
     "metadata": {},
     "output_type": "display_data"
    },
    {
     "data": {
      "text/latex": [
       "$\\displaystyle \\text{True}$"
      ],
      "text/plain": [
       "True"
      ]
     },
     "metadata": {},
     "output_type": "display_data"
    },
    {
     "data": {
      "text/plain": [
       "'LastUpdatedAllBoundryConditions'"
      ]
     },
     "metadata": {},
     "output_type": "display_data"
    },
    {
     "data": {
      "text/latex": [
       "$\\displaystyle \\psi_{0}{\\left(L_{0} \\right)} = \\psi_{1}{\\left(0 \\right)}$"
      ],
      "text/plain": [
       "Eq(\\psi_{0}(L_0), \\psi_{1}(0))"
      ]
     },
     "metadata": {},
     "output_type": "display_data"
    },
    {
     "data": {
      "text/latex": [
       "$\\displaystyle \\psi_{1}{\\left(L_{1} \\right)} = \\psi_{2}{\\left(0 \\right)}$"
      ],
      "text/plain": [
       "Eq(\\psi_{1}(L_1), \\psi_{2}(0))"
      ]
     },
     "metadata": {},
     "output_type": "display_data"
    },
    {
     "data": {
      "text/latex": [
       "$\\displaystyle \\psi_{0}{\\left(0 \\right)} = 0$"
      ],
      "text/plain": [
       "Eq(\\psi_{0}(0), 0)"
      ]
     },
     "metadata": {},
     "output_type": "display_data"
    },
    {
     "data": {
      "text/latex": [
       "$\\displaystyle \\psi_{2}{\\left(L_{2} \\right)} = 0$"
      ],
      "text/plain": [
       "Eq(\\psi_{2}(L_2), 0)"
      ]
     },
     "metadata": {},
     "output_type": "display_data"
    },
    {
     "data": {
      "text/latex": [
       "$\\displaystyle \\psi_{1}{\\left(0 \\right)} = B_{0}$"
      ],
      "text/plain": [
       "Eq(\\psi_{1}(0), B_{0})"
      ]
     },
     "metadata": {},
     "output_type": "display_data"
    },
    {
     "data": {
      "text/latex": [
       "$\\displaystyle \\psi_{2}{\\left(0 \\right)} = B_{1}$"
      ],
      "text/plain": [
       "Eq(\\psi_{2}(0), B_{1})"
      ]
     },
     "metadata": {},
     "output_type": "display_data"
    },
    {
     "data": {
      "text/latex": [
       "$\\displaystyle 0 = B_{2}$"
      ],
      "text/plain": [
       "Eq(0, B_{2})"
      ]
     },
     "metadata": {},
     "output_type": "display_data"
    },
    {
     "data": {
      "text/latex": [
       "$\\displaystyle \\text{True}$"
      ],
      "text/plain": [
       "True"
      ]
     },
     "metadata": {},
     "output_type": "display_data"
    },
    {
     "data": {
      "text/latex": [
       "$\\displaystyle \\text{True}$"
      ],
      "text/plain": [
       "True"
      ]
     },
     "metadata": {},
     "output_type": "display_data"
    },
    {
     "data": {
      "text/latex": [
       "$\\displaystyle \\text{True}$"
      ],
      "text/plain": [
       "True"
      ]
     },
     "metadata": {},
     "output_type": "display_data"
    }
   ],
   "source": [
    "stairwell_solver.boundries.display()"
   ]
  },
  {
   "cell_type": "code",
   "execution_count": null,
   "id": "55a95fb4-937e-47da-946c-c3117d8588dd",
   "metadata": {},
   "outputs": [],
   "source": []
  }
 ],
 "metadata": {
  "kernelspec": {
   "display_name": "Python 3 (ipykernel)",
   "language": "python",
   "name": "python3"
  },
  "language_info": {
   "codemirror_mode": {
    "name": "ipython",
    "version": 3
   },
   "file_extension": ".py",
   "mimetype": "text/x-python",
   "name": "python",
   "nbconvert_exporter": "python",
   "pygments_lexer": "ipython3",
   "version": "3.9.10"
  }
 },
 "nbformat": 4,
 "nbformat_minor": 5
}
