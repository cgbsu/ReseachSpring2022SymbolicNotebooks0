{
 "cells": [
  {
   "cell_type": "code",
   "execution_count": 1,
   "id": "5512a730-930b-4aaf-bfd8-672da30ea64a",
   "metadata": {},
   "outputs": [],
   "source": [
    "from stateless import *"
   ]
  },
  {
   "cell_type": "code",
   "execution_count": null,
   "id": "61271748-998e-42d3-8ee1-c9cdcb191643",
   "metadata": {},
   "outputs": [],
   "source": []
  },
  {
   "cell_type": "code",
   "execution_count": 2,
   "id": "12ce1384-5970-401e-acac-ed495756ba9b",
   "metadata": {},
   "outputs": [],
   "source": [
    "regionSymbols = [RegionSymbols(ii) for ii in range(3)]"
   ]
  },
  {
   "cell_type": "code",
   "execution_count": null,
   "id": "da675028-7409-494f-b99a-5a207487c971",
   "metadata": {},
   "outputs": [],
   "source": []
  },
  {
   "cell_type": "code",
   "execution_count": 3,
   "id": "4c8a7efd-bd5e-4e45-b1eb-2610be64b3b5",
   "metadata": {},
   "outputs": [],
   "source": [
    "equations = [constantPotentialTimeIndependentSchroedingerEquation1D(regionSymbols[ii]) for ii in range(3)]"
   ]
  },
  {
   "cell_type": "code",
   "execution_count": 4,
   "id": "1ff75e64-e5a2-4603-9e41-879b01b2d476",
   "metadata": {},
   "outputs": [
    {
     "data": {
      "text/latex": [
       "$\\displaystyle V_{0} \\psi_{0}{\\left(x \\right)} - \\frac{\\hbar^{2} \\frac{d^{2}}{d x^{2}} \\psi_{0}{\\left(x \\right)}}{2 \\text{m}} = E \\psi_{0}{\\left(x \\right)}$"
      ],
      "text/plain": [
       "Eq(V_0*\\psi_0(x) - hbar**2*Derivative(\\psi_0(x), (x, 2))/(2*m), E*\\psi_0(x))"
      ]
     },
     "execution_count": 4,
     "metadata": {},
     "output_type": "execute_result"
    }
   ],
   "source": [
    "equations[0]"
   ]
  },
  {
   "cell_type": "code",
   "execution_count": 5,
   "id": "0e84db08-9e2f-4156-b8ac-548e984b6423",
   "metadata": {},
   "outputs": [],
   "source": [
    "normalizations = [simpleWaveFunctionNormalization(regionSymbols[ii].startDistance, regionSymbols[ii].distance, regionSymbols[ii]) for ii in range(3)]"
   ]
  },
  {
   "cell_type": "code",
   "execution_count": null,
   "id": "7cd1b496-0b5a-4279-9e8b-fede2224ae6a",
   "metadata": {},
   "outputs": [],
   "source": []
  },
  {
   "cell_type": "code",
   "execution_count": null,
   "id": "6fe47300-e850-4d56-a71e-7dbac850b269",
   "metadata": {},
   "outputs": [],
   "source": []
  },
  {
   "cell_type": "code",
   "execution_count": 6,
   "id": "ef9ce8f5-5b54-4d6b-8064-f87eccbe6cb6",
   "metadata": {},
   "outputs": [],
   "source": [
    "harmonicConstants = [extractHarmonicConstant(regionSymbols[ii], equations[ii]) for ii in range(3)]"
   ]
  },
  {
   "cell_type": "code",
   "execution_count": 7,
   "id": "15324592-d0a0-4ea1-8230-7040d4ab1311",
   "metadata": {},
   "outputs": [
    {
     "data": {
      "text/latex": [
       "$\\displaystyle k_{0} = \\frac{\\sqrt{2} \\sqrt{- E + V_{0}} \\sqrt{\\text{m}}}{\\hbar}$"
      ],
      "text/plain": [
       "Eq(k_0, sqrt(2)*sqrt(m)*sqrt(-E + V_0)/hbar)"
      ]
     },
     "execution_count": 7,
     "metadata": {},
     "output_type": "execute_result"
    }
   ],
   "source": [
    "harmonicConstants[0]"
   ]
  },
  {
   "cell_type": "code",
   "execution_count": null,
   "id": "841e0fb2-a147-496d-b4f1-550d80dfff7c",
   "metadata": {},
   "outputs": [],
   "source": []
  },
  {
   "cell_type": "code",
   "execution_count": null,
   "id": "7b1e5600-da46-41c3-88f1-1fdcc35d22dd",
   "metadata": {},
   "outputs": [],
   "source": []
  },
  {
   "cell_type": "code",
   "execution_count": null,
   "id": "b68c01b6-af71-4e9d-9f46-ae66f7324f25",
   "metadata": {},
   "outputs": [],
   "source": []
  },
  {
   "cell_type": "code",
   "execution_count": null,
   "id": "0bee2074-d424-499a-94b0-d1ae62d7df23",
   "metadata": {},
   "outputs": [],
   "source": []
  }
 ],
 "metadata": {
  "kernelspec": {
   "display_name": "Python 3 (ipykernel)",
   "language": "python",
   "name": "python3"
  },
  "language_info": {
   "codemirror_mode": {
    "name": "ipython",
    "version": 3
   },
   "file_extension": ".py",
   "mimetype": "text/x-python",
   "name": "python",
   "nbconvert_exporter": "python",
   "pygments_lexer": "ipython3",
   "version": "3.10.4"
  }
 },
 "nbformat": 4,
 "nbformat_minor": 5
}
