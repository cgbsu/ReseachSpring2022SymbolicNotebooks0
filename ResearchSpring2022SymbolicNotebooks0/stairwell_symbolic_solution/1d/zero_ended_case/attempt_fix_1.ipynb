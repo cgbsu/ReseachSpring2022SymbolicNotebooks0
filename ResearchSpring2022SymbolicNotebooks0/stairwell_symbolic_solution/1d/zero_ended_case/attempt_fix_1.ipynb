{
 "cells": [
  {
   "cell_type": "code",
   "execution_count": 1,
   "id": "9da4ca07-5038-40fc-b597-27be53769384",
   "metadata": {},
   "outputs": [],
   "source": [
    "import sympy as sp"
   ]
  },
  {
   "cell_type": "code",
   "execution_count": 2,
   "id": "bbd2fd19-a4e7-44c8-ba72-b83d5ae065ea",
   "metadata": {},
   "outputs": [],
   "source": [
    "import sympy.physics.units.quantities as sq"
   ]
  },
  {
   "cell_type": "code",
   "execution_count": 3,
   "id": "3b8c39ff-3668-4ef3-9add-b334784a3333",
   "metadata": {},
   "outputs": [],
   "source": [
    "from sympy.physics.quantum.constants import hbar"
   ]
  },
  {
   "cell_type": "code",
   "execution_count": 4,
   "id": "75e40f13-aa6e-41d1-9ced-7a90df52a98e",
   "metadata": {},
   "outputs": [],
   "source": [
    "import numpy as np"
   ]
  },
  {
   "cell_type": "code",
   "execution_count": 5,
   "id": "acfd29f5-00db-41bb-941a-2054f1f75120",
   "metadata": {},
   "outputs": [],
   "source": [
    "import matplotlib.pyplot as plt"
   ]
  },
  {
   "cell_type": "code",
   "execution_count": 6,
   "id": "1111e70c-3b09-49ae-8391-96b64b287e33",
   "metadata": {},
   "outputs": [],
   "source": [
    "from copy import deepcopy"
   ]
  },
  {
   "cell_type": "code",
   "execution_count": null,
   "id": "dc9bc350-c331-43aa-bdd9-9b2d117bf211",
   "metadata": {},
   "outputs": [],
   "source": []
  },
  {
   "cell_type": "code",
   "execution_count": 7,
   "id": "82f14997-b75d-4dd8-baf6-d565f0b12bd1",
   "metadata": {},
   "outputs": [],
   "source": [
    "from custom_libraries.stepper import *"
   ]
  },
  {
   "cell_type": "code",
   "execution_count": 8,
   "id": "100adb60-1868-493c-bbe9-9b2dd1bf5af6",
   "metadata": {},
   "outputs": [],
   "source": [
    "from custom_libraries.schrodinger import *"
   ]
  },
  {
   "cell_type": "code",
   "execution_count": 9,
   "id": "4d10ab16-1b4f-402a-bcd5-8029292865bc",
   "metadata": {},
   "outputs": [],
   "source": [
    "from custom_libraries.utilities import *"
   ]
  },
  {
   "cell_type": "code",
   "execution_count": null,
   "id": "95748091-3fe2-45a3-beaa-0e56ac4e61f9",
   "metadata": {},
   "outputs": [],
   "source": []
  },
  {
   "cell_type": "code",
   "execution_count": 10,
   "id": "151680e1-cc8c-4f02-9fbc-32cb1b19f56f",
   "metadata": {},
   "outputs": [],
   "source": [
    "def real_harmonics( _ ):\n",
    "    assumptions = standard_harmonic_assumptions( _ );\n",
    "    assumptions.update( { 'real' : True } )\n",
    "    return assumptions"
   ]
  },
  {
   "cell_type": "code",
   "execution_count": null,
   "id": "20bc043c-2168-45b2-b95d-32fcdb201da9",
   "metadata": {},
   "outputs": [],
   "source": []
  },
  {
   "cell_type": "code",
   "execution_count": 11,
   "id": "8984696f-ac0b-4d68-8f5f-036778be011f",
   "metadata": {},
   "outputs": [],
   "source": [
    "stairwell_solver = TimeIndependentSchrodingerConstantPotentials1D( \n",
    "        StairWell.default_non_uniform_length_potential_table(), \n",
    "        tuple( StairWell.default_non_uniform_length_potential_table().keys() )[ -1 ], \n",
    "        make_psis = make_psi_numbered, \n",
    "        harmonics_assumptions = real_harmonics, \n",
    "        repeating = False, \n",
    "        as_distances = True, \n",
    "        #as_distances = False, \n",
    "        #normalization_conjugate_not_squared_absolute_value = False\n",
    "    )"
   ]
  },
  {
   "cell_type": "code",
   "execution_count": null,
   "id": "2e946e04-0121-448e-8269-4e69ba4e1c28",
   "metadata": {},
   "outputs": [],
   "source": []
  },
  {
   "cell_type": "code",
   "execution_count": 12,
   "id": "012de83f-543a-49d4-b421-ff2d2400121d",
   "metadata": {},
   "outputs": [
    {
     "data": {
      "text/plain": [
       "(('BoundryZeroConditions', {\\psi_{0}(0): 0, \\psi_{2}(L_2): 0}),\n",
       " ('BoundryZeroConditions', {\\psi_{0}(0): 0, \\psi_{2}(L_2): 0}))"
      ]
     },
     "execution_count": 12,
     "metadata": {},
     "output_type": "execute_result"
    }
   ],
   "source": [
    "stairwell_solver.impose_zero_conditions_to_ends()"
   ]
  },
  {
   "cell_type": "code",
   "execution_count": null,
   "id": "78798fb3-fd83-40b7-9180-c8da0dbe588e",
   "metadata": {},
   "outputs": [],
   "source": []
  },
  {
   "cell_type": "code",
   "execution_count": 13,
   "id": "bc51b09a-c161-4008-b763-81f71b487841",
   "metadata": {},
   "outputs": [
    {
     "data": {
      "text/latex": [
       "$\\displaystyle - k_{0}^{2} \\psi_{0}{\\left(x \\right)} + \\frac{d^{2}}{d x^{2}} \\psi_{0}{\\left(x \\right)} = 0$"
      ],
      "text/plain": [
       "Eq(-k_0**2*\\psi_{0}(x) + Derivative(\\psi_{0}(x), (x, 2)), 0)"
      ]
     },
     "metadata": {},
     "output_type": "display_data"
    },
    {
     "data": {
      "text/latex": [
       "$\\displaystyle - k_{1}^{2} \\psi_{1}{\\left(x \\right)} + \\frac{d^{2}}{d x^{2}} \\psi_{1}{\\left(x \\right)} = 0$"
      ],
      "text/plain": [
       "Eq(-k_1**2*\\psi_{1}(x) + Derivative(\\psi_{1}(x), (x, 2)), 0)"
      ]
     },
     "metadata": {},
     "output_type": "display_data"
    },
    {
     "data": {
      "text/latex": [
       "$\\displaystyle - k_{2}^{2} \\psi_{2}{\\left(x \\right)} + \\frac{d^{2}}{d x^{2}} \\psi_{2}{\\left(x \\right)} = 0$"
      ],
      "text/plain": [
       "Eq(-k_2**2*\\psi_{2}(x) + Derivative(\\psi_{2}(x), (x, 2)), 0)"
      ]
     },
     "metadata": {},
     "output_type": "display_data"
    }
   ],
   "source": [
    "display_steps( stairwell_solver.equations )"
   ]
  },
  {
   "cell_type": "code",
   "execution_count": null,
   "id": "a0757648-d8b4-4a28-b351-221f4830ff75",
   "metadata": {},
   "outputs": [],
   "source": []
  },
  {
   "cell_type": "code",
   "execution_count": 14,
   "id": "28d85323-24e4-49cb-93e6-54953e6104c7",
   "metadata": {},
   "outputs": [
    {
     "data": {
      "text/latex": [
       "$\\displaystyle k_{0} = \\frac{\\sqrt{2} \\sqrt{- E + V_{0}} \\sqrt{\\text{m}}}{\\hbar}$"
      ],
      "text/plain": [
       "Eq(k_0, sqrt(2)*sqrt(m)*sqrt(-E + V_0)/hbar)"
      ]
     },
     "metadata": {},
     "output_type": "display_data"
    },
    {
     "data": {
      "text/latex": [
       "$\\displaystyle k_{1} = \\frac{\\sqrt{2} \\sqrt{- E + V_{1}} \\sqrt{\\text{m}}}{\\hbar}$"
      ],
      "text/plain": [
       "Eq(k_1, sqrt(2)*sqrt(m)*sqrt(-E + V_1)/hbar)"
      ]
     },
     "metadata": {},
     "output_type": "display_data"
    },
    {
     "data": {
      "text/latex": [
       "$\\displaystyle k_{2} = \\frac{\\sqrt{2} \\sqrt{- E + V_{2}} \\sqrt{\\text{m}}}{\\hbar}$"
      ],
      "text/plain": [
       "Eq(k_2, sqrt(2)*sqrt(m)*sqrt(-E + V_2)/hbar)"
      ]
     },
     "metadata": {},
     "output_type": "display_data"
    }
   ],
   "source": [
    "display_in( stairwell_solver.harmonic_constants )"
   ]
  },
  {
   "cell_type": "code",
   "execution_count": 15,
   "id": "20f53166-87ec-4057-932d-5b0947a3427b",
   "metadata": {},
   "outputs": [
    {
     "data": {
      "text/plain": [
       "{'ContinuityConditions': {\\psi_{0}(L_0): \\psi_{1}(0),\n",
       "  \\psi_{1}(L_1): \\psi_{2}(0)},\n",
       " 'BoundryZeroConditions': {\\psi_{0}(0): 0, \\psi_{2}(L_2): 0}}"
      ]
     },
     "execution_count": 15,
     "metadata": {},
     "output_type": "execute_result"
    }
   ],
   "source": [
    "stairwell_solver.boundries.boundries"
   ]
  },
  {
   "cell_type": "code",
   "execution_count": 16,
   "id": "9fe5cbdc-ea5a-4ca1-a54f-a70e30069bec",
   "metadata": {},
   "outputs": [
    {
     "data": {
      "text/plain": [
       "{\\psi_{0}(L_0): \\psi_{1}(0), \\psi_{1}(L_1): \\psi_{2}(0)}"
      ]
     },
     "execution_count": 16,
     "metadata": {},
     "output_type": "execute_result"
    }
   ],
   "source": [
    "stairwell_solver.boundries.ContinuityConditions"
   ]
  },
  {
   "cell_type": "code",
   "execution_count": null,
   "id": "1cee42e4-0490-4850-b52f-3b6b9547e3f1",
   "metadata": {},
   "outputs": [],
   "source": []
  },
  {
   "cell_type": "code",
   "execution_count": 17,
   "id": "d78132f8-2d0a-438c-a94d-3c5d1b79786d",
   "metadata": {},
   "outputs": [
    {
     "data": {
      "text/plain": [
       "{\\psi_{0}(0): 0, \\psi_{2}(L_2): 0}"
      ]
     },
     "execution_count": 17,
     "metadata": {},
     "output_type": "execute_result"
    }
   ],
   "source": [
    "stairwell_solver.boundries.BoundryZeroConditions"
   ]
  },
  {
   "cell_type": "code",
   "execution_count": null,
   "id": "519623f3-e044-4ce4-89ce-0bf045971c69",
   "metadata": {},
   "outputs": [],
   "source": []
  },
  {
   "cell_type": "code",
   "execution_count": 18,
   "id": "bad0d660-061c-4402-af40-79303da747d0",
   "metadata": {},
   "outputs": [
    {
     "data": {
      "text/plain": [
       "('LastUpdatedAllBoundryConditions',\n",
       " {\\psi_{0}(L_0): \\psi_{1}(0),\n",
       "  \\psi_{1}(L_1): \\psi_{2}(0),\n",
       "  \\psi_{0}(0): 0,\n",
       "  \\psi_{2}(L_2): 0})"
      ]
     },
     "execution_count": 18,
     "metadata": {},
     "output_type": "execute_result"
    }
   ],
   "source": [
    "stairwell_solver.boundries.update_all_boundry_conditions()"
   ]
  },
  {
   "cell_type": "code",
   "execution_count": null,
   "id": "7da0e1b5-1c97-4329-bd28-5b9447f76641",
   "metadata": {},
   "outputs": [],
   "source": []
  },
  {
   "cell_type": "code",
   "execution_count": 19,
   "id": "03f1960a-88b6-4ef2-9101-fb89a936000a",
   "metadata": {},
   "outputs": [
    {
     "data": {
      "text/plain": [
       "'ContinuityConditions'"
      ]
     },
     "metadata": {},
     "output_type": "display_data"
    },
    {
     "data": {
      "text/latex": [
       "$\\displaystyle \\psi_{0}{\\left(L_{0} \\right)} = \\psi_{1}{\\left(0 \\right)}$"
      ],
      "text/plain": [
       "Eq(\\psi_{0}(L_0), \\psi_{1}(0))"
      ]
     },
     "metadata": {},
     "output_type": "display_data"
    },
    {
     "data": {
      "text/latex": [
       "$\\displaystyle \\psi_{1}{\\left(L_{1} \\right)} = \\psi_{2}{\\left(0 \\right)}$"
      ],
      "text/plain": [
       "Eq(\\psi_{1}(L_1), \\psi_{2}(0))"
      ]
     },
     "metadata": {},
     "output_type": "display_data"
    },
    {
     "data": {
      "text/plain": [
       "'BoundryZeroConditions'"
      ]
     },
     "metadata": {},
     "output_type": "display_data"
    },
    {
     "data": {
      "text/latex": [
       "$\\displaystyle \\psi_{0}{\\left(0 \\right)} = 0$"
      ],
      "text/plain": [
       "Eq(\\psi_{0}(0), 0)"
      ]
     },
     "metadata": {},
     "output_type": "display_data"
    },
    {
     "data": {
      "text/latex": [
       "$\\displaystyle \\psi_{2}{\\left(L_{2} \\right)} = 0$"
      ],
      "text/plain": [
       "Eq(\\psi_{2}(L_2), 0)"
      ]
     },
     "metadata": {},
     "output_type": "display_data"
    },
    {
     "data": {
      "text/plain": [
       "'LastUpdatedAllBoundryConditions'"
      ]
     },
     "metadata": {},
     "output_type": "display_data"
    },
    {
     "data": {
      "text/latex": [
       "$\\displaystyle \\psi_{0}{\\left(L_{0} \\right)} = \\psi_{1}{\\left(0 \\right)}$"
      ],
      "text/plain": [
       "Eq(\\psi_{0}(L_0), \\psi_{1}(0))"
      ]
     },
     "metadata": {},
     "output_type": "display_data"
    },
    {
     "data": {
      "text/latex": [
       "$\\displaystyle \\psi_{1}{\\left(L_{1} \\right)} = \\psi_{2}{\\left(0 \\right)}$"
      ],
      "text/plain": [
       "Eq(\\psi_{1}(L_1), \\psi_{2}(0))"
      ]
     },
     "metadata": {},
     "output_type": "display_data"
    },
    {
     "data": {
      "text/latex": [
       "$\\displaystyle \\psi_{0}{\\left(0 \\right)} = 0$"
      ],
      "text/plain": [
       "Eq(\\psi_{0}(0), 0)"
      ]
     },
     "metadata": {},
     "output_type": "display_data"
    },
    {
     "data": {
      "text/latex": [
       "$\\displaystyle \\psi_{2}{\\left(L_{2} \\right)} = 0$"
      ],
      "text/plain": [
       "Eq(\\psi_{2}(L_2), 0)"
      ]
     },
     "metadata": {},
     "output_type": "display_data"
    }
   ],
   "source": [
    "stairwell_solver.boundries.display()"
   ]
  },
  {
   "cell_type": "code",
   "execution_count": 20,
   "id": "3fc0fbd1-a832-4ef7-803b-814812d18099",
   "metadata": {},
   "outputs": [
    {
     "data": {
      "text/plain": [
       "<custom_libraries.schrodinger.TimeIndependentSchrodingerConstantPotentials1D at 0x7f8f8d970940>"
      ]
     },
     "execution_count": 20,
     "metadata": {},
     "output_type": "execute_result"
    }
   ],
   "source": [
    "stairwell_solver"
   ]
  },
  {
   "cell_type": "code",
   "execution_count": 21,
   "id": "0f4574ca-54c8-4820-9212-d94622eab763",
   "metadata": {
    "tags": []
   },
   "outputs": [],
   "source": [
    "solutions = stairwell_solver.solve_odes()"
   ]
  },
  {
   "cell_type": "code",
   "execution_count": null,
   "id": "f1a5e157-8b2f-4d4f-bb64-268ebfba1344",
   "metadata": {},
   "outputs": [],
   "source": []
  },
  {
   "cell_type": "code",
   "execution_count": 22,
   "id": "906f8879-c568-484d-b095-81bbdaf9fce3",
   "metadata": {},
   "outputs": [
    {
     "data": {
      "text/latex": [
       "$\\displaystyle \\psi_{0}{\\left(x \\right)} = \\frac{\\psi_{1}{\\left(0 \\right)} e^{L_{0} k_{0}} e^{k_{0} x}}{e^{2 L_{0} k_{0}} - 1} - \\frac{\\psi_{1}{\\left(0 \\right)} e^{L_{0} k_{0}} e^{- k_{0} x}}{e^{2 L_{0} k_{0}} - 1}$"
      ],
      "text/plain": [
       "Eq(\\psi_{0}(x), \\psi_{1}(0)*exp(L_0*k_0)*exp(k_0*x)/(exp(2*L_0*k_0) - 1) - \\psi_{1}(0)*exp(L_0*k_0)*exp(-k_0*x)/(exp(2*L_0*k_0) - 1))"
      ]
     },
     "metadata": {},
     "output_type": "display_data"
    },
    {
     "data": {
      "text/latex": [
       "$\\displaystyle \\psi_{1}{\\left(x \\right)} = \\frac{\\left(\\psi_{0}{\\left(L_{0} \\right)} e^{2 L_{1} k_{1}} - \\psi_{2}{\\left(0 \\right)} e^{L_{1} k_{1}}\\right) e^{- k_{1} x}}{e^{2 L_{1} k_{1}} - 1} + \\frac{\\left(- \\psi_{0}{\\left(L_{0} \\right)} + \\psi_{2}{\\left(0 \\right)} e^{L_{1} k_{1}}\\right) e^{k_{1} x}}{e^{2 L_{1} k_{1}} - 1}$"
      ],
      "text/plain": [
       "Eq(\\psi_{1}(x), (\\psi_{0}(L_0)*exp(2*L_1*k_1) - \\psi_{2}(0)*exp(L_1*k_1))*exp(-k_1*x)/(exp(2*L_1*k_1) - 1) + (-\\psi_{0}(L_0) + \\psi_{2}(0)*exp(L_1*k_1))*exp(k_1*x)/(exp(2*L_1*k_1) - 1))"
      ]
     },
     "metadata": {},
     "output_type": "display_data"
    },
    {
     "data": {
      "text/latex": [
       "$\\displaystyle \\psi_{2}{\\left(x \\right)} = \\frac{\\psi_{1}{\\left(L_{1} \\right)} e^{2 L_{2} k_{2}} e^{- k_{2} x}}{e^{2 L_{2} k_{2}} - 1} - \\frac{\\psi_{1}{\\left(L_{1} \\right)} e^{k_{2} x}}{e^{2 L_{2} k_{2}} - 1}$"
      ],
      "text/plain": [
       "Eq(\\psi_{2}(x), \\psi_{1}(L_1)*exp(2*L_2*k_2)*exp(-k_2*x)/(exp(2*L_2*k_2) - 1) - \\psi_{1}(L_1)*exp(k_2*x)/(exp(2*L_2*k_2) - 1))"
      ]
     },
     "metadata": {},
     "output_type": "display_data"
    }
   ],
   "source": [
    "display_in( solutions )"
   ]
  },
  {
   "cell_type": "code",
   "execution_count": null,
   "id": "84e87233-5ba7-4cb7-a3f7-370403e55bb0",
   "metadata": {},
   "outputs": [],
   "source": []
  },
  {
   "cell_type": "code",
   "execution_count": 23,
   "id": "e0ca1cc1-1b0f-4d1b-a646-1cce6caf6eed",
   "metadata": {},
   "outputs": [],
   "source": [
    "#stairwell_solver.substitute_wave_functions_into_normalizations()"
   ]
  },
  {
   "cell_type": "code",
   "execution_count": 24,
   "id": "ca842015-740c-4620-be56-3d5b61b0a685",
   "metadata": {},
   "outputs": [],
   "source": [
    "#stairwell_solver.boundries_in_expression_to_constants()"
   ]
  },
  {
   "cell_type": "code",
   "execution_count": 25,
   "id": "f398e39e-055e-4981-9740-8513148b9789",
   "metadata": {},
   "outputs": [
    {
     "data": {
      "text/latex": [
       "$\\displaystyle \\psi_{0}{\\left(x \\right)} = \\frac{\\psi_{1}{\\left(0 \\right)} e^{L_{0} k_{0}} e^{k_{0} x}}{e^{2 L_{0} k_{0}} - 1} - \\frac{\\psi_{1}{\\left(0 \\right)} e^{L_{0} k_{0}} e^{- k_{0} x}}{e^{2 L_{0} k_{0}} - 1}$"
      ],
      "text/plain": [
       "Eq(\\psi_{0}(x), \\psi_{1}(0)*exp(L_0*k_0)*exp(k_0*x)/(exp(2*L_0*k_0) - 1) - \\psi_{1}(0)*exp(L_0*k_0)*exp(-k_0*x)/(exp(2*L_0*k_0) - 1))"
      ]
     },
     "metadata": {},
     "output_type": "display_data"
    },
    {
     "data": {
      "text/latex": [
       "$\\displaystyle \\psi_{1}{\\left(x \\right)} = \\frac{\\left(\\psi_{0}{\\left(L_{0} \\right)} e^{2 L_{1} k_{1}} - \\psi_{2}{\\left(0 \\right)} e^{L_{1} k_{1}}\\right) e^{- k_{1} x}}{e^{2 L_{1} k_{1}} - 1} + \\frac{\\left(- \\psi_{0}{\\left(L_{0} \\right)} + \\psi_{2}{\\left(0 \\right)} e^{L_{1} k_{1}}\\right) e^{k_{1} x}}{e^{2 L_{1} k_{1}} - 1}$"
      ],
      "text/plain": [
       "Eq(\\psi_{1}(x), (\\psi_{0}(L_0)*exp(2*L_1*k_1) - \\psi_{2}(0)*exp(L_1*k_1))*exp(-k_1*x)/(exp(2*L_1*k_1) - 1) + (-\\psi_{0}(L_0) + \\psi_{2}(0)*exp(L_1*k_1))*exp(k_1*x)/(exp(2*L_1*k_1) - 1))"
      ]
     },
     "metadata": {},
     "output_type": "display_data"
    },
    {
     "data": {
      "text/latex": [
       "$\\displaystyle \\psi_{2}{\\left(x \\right)} = \\frac{\\psi_{1}{\\left(L_{1} \\right)} e^{2 L_{2} k_{2}} e^{- k_{2} x}}{e^{2 L_{2} k_{2}} - 1} - \\frac{\\psi_{1}{\\left(L_{1} \\right)} e^{k_{2} x}}{e^{2 L_{2} k_{2}} - 1}$"
      ],
      "text/plain": [
       "Eq(\\psi_{2}(x), \\psi_{1}(L_1)*exp(2*L_2*k_2)*exp(-k_2*x)/(exp(2*L_2*k_2) - 1) - \\psi_{1}(L_1)*exp(k_2*x)/(exp(2*L_2*k_2) - 1))"
      ]
     },
     "metadata": {},
     "output_type": "display_data"
    }
   ],
   "source": [
    "display_steps( stairwell_solver.equations )"
   ]
  },
  {
   "cell_type": "code",
   "execution_count": null,
   "id": "ace409f1-a01c-4d97-9401-2172db2159ac",
   "metadata": {},
   "outputs": [],
   "source": []
  },
  {
   "cell_type": "code",
   "execution_count": 26,
   "id": "1bf6f05f-281a-43cb-a04a-9083533ab05b",
   "metadata": {},
   "outputs": [
    {
     "data": {
      "text/latex": [
       "$\\displaystyle \\int\\limits_{0}^{L_{0}} \\psi_{0}{\\left(x \\right)} \\overline{\\psi_{0}{\\left(x \\right)}}\\, dx = N_{0}$"
      ],
      "text/plain": [
       "Eq(Integral(\\psi_{0}(x)*conjugate(\\psi_{0}(x)), (x, 0, L_0)), N_0)"
      ]
     },
     "metadata": {},
     "output_type": "display_data"
    },
    {
     "data": {
      "text/latex": [
       "$\\displaystyle \\int\\limits_{0}^{L_{1}} \\psi_{1}{\\left(x \\right)} \\overline{\\psi_{1}{\\left(x \\right)}}\\, dx = N_{1}$"
      ],
      "text/plain": [
       "Eq(Integral(\\psi_{1}(x)*conjugate(\\psi_{1}(x)), (x, 0, L_1)), N_1)"
      ]
     },
     "metadata": {},
     "output_type": "display_data"
    },
    {
     "data": {
      "text/latex": [
       "$\\displaystyle \\int\\limits_{0}^{L_{2}} \\psi_{2}{\\left(x \\right)} \\overline{\\psi_{2}{\\left(x \\right)}}\\, dx = N_{2}$"
      ],
      "text/plain": [
       "Eq(Integral(\\psi_{2}(x)*conjugate(\\psi_{2}(x)), (x, 0, L_2)), N_2)"
      ]
     },
     "metadata": {},
     "output_type": "display_data"
    }
   ],
   "source": [
    "display_steps( stairwell_solver.normalizations )"
   ]
  },
  {
   "cell_type": "code",
   "execution_count": null,
   "id": "a5778d6d-6d9c-44d1-a1fe-81d7bca05adb",
   "metadata": {},
   "outputs": [],
   "source": []
  },
  {
   "cell_type": "code",
   "execution_count": 27,
   "id": "d5978865-87f0-4109-a59d-7c9cc59eb804",
   "metadata": {},
   "outputs": [
    {
     "data": {
      "text/latex": [
       "$\\displaystyle \\psi_{0}{\\left(x \\right)} = \\frac{\\psi_{1}{\\left(0 \\right)} e^{L_{0} k_{0}} e^{k_{0} x}}{e^{2 L_{0} k_{0}} - 1} - \\frac{\\psi_{1}{\\left(0 \\right)} e^{L_{0} k_{0}} e^{- k_{0} x}}{e^{2 L_{0} k_{0}} - 1}$"
      ],
      "text/plain": [
       "Eq(\\psi_{0}(x), \\psi_{1}(0)*exp(L_0*k_0)*exp(k_0*x)/(exp(2*L_0*k_0) - 1) - \\psi_{1}(0)*exp(L_0*k_0)*exp(-k_0*x)/(exp(2*L_0*k_0) - 1))"
      ]
     },
     "metadata": {},
     "output_type": "display_data"
    },
    {
     "data": {
      "text/latex": [
       "$\\displaystyle \\psi_{1}{\\left(x \\right)} = \\frac{\\left(\\psi_{0}{\\left(L_{0} \\right)} e^{2 L_{1} k_{1}} - \\psi_{2}{\\left(0 \\right)} e^{L_{1} k_{1}}\\right) e^{- k_{1} x}}{e^{2 L_{1} k_{1}} - 1} + \\frac{\\left(- \\psi_{0}{\\left(L_{0} \\right)} + \\psi_{2}{\\left(0 \\right)} e^{L_{1} k_{1}}\\right) e^{k_{1} x}}{e^{2 L_{1} k_{1}} - 1}$"
      ],
      "text/plain": [
       "Eq(\\psi_{1}(x), (\\psi_{0}(L_0)*exp(2*L_1*k_1) - \\psi_{2}(0)*exp(L_1*k_1))*exp(-k_1*x)/(exp(2*L_1*k_1) - 1) + (-\\psi_{0}(L_0) + \\psi_{2}(0)*exp(L_1*k_1))*exp(k_1*x)/(exp(2*L_1*k_1) - 1))"
      ]
     },
     "metadata": {},
     "output_type": "display_data"
    },
    {
     "data": {
      "text/latex": [
       "$\\displaystyle \\psi_{2}{\\left(x \\right)} = \\frac{\\psi_{1}{\\left(L_{1} \\right)} e^{2 L_{2} k_{2}} e^{- k_{2} x}}{e^{2 L_{2} k_{2}} - 1} - \\frac{\\psi_{1}{\\left(L_{1} \\right)} e^{k_{2} x}}{e^{2 L_{2} k_{2}} - 1}$"
      ],
      "text/plain": [
       "Eq(\\psi_{2}(x), \\psi_{1}(L_1)*exp(2*L_2*k_2)*exp(-k_2*x)/(exp(2*L_2*k_2) - 1) - \\psi_{1}(L_1)*exp(k_2*x)/(exp(2*L_2*k_2) - 1))"
      ]
     },
     "metadata": {},
     "output_type": "display_data"
    }
   ],
   "source": [
    "display_steps( stairwell_solver.equations )"
   ]
  },
  {
   "cell_type": "code",
   "execution_count": null,
   "id": "afe7253f-7594-4d7f-9ddc-63957f41a597",
   "metadata": {},
   "outputs": [],
   "source": []
  },
  {
   "cell_type": "code",
   "execution_count": 28,
   "id": "c9df8cc2-778f-4d0a-b734-c297a2430ea6",
   "metadata": {},
   "outputs": [
    {
     "data": {
      "text/plain": [
       "([<custom_libraries.stepper.Stepper at 0x7f8f8d8f7c40>,\n",
       "  <custom_libraries.stepper.Stepper at 0x7f8f8d9377f0>,\n",
       "  <custom_libraries.stepper.Stepper at 0x7f8f8d937940>],\n",
       " [<custom_libraries.stepper.Stepper at 0x7f8f8d794d60>,\n",
       "  <custom_libraries.stepper.Stepper at 0x7f8f8d795a20>,\n",
       "  <custom_libraries.stepper.Stepper at 0x7f8f8d7950f0>],\n",
       " {'Before': [['TimeIndependentSchrodingerConstantPotentials1DCheckPointBeforeBoundryToConstantSubstitution91',\n",
       "    'TimeIndependentSchrodingerConstantPotentials1DCheckPointBeforeBoundryToConstantSubstitution91',\n",
       "    'TimeIndependentSchrodingerConstantPotentials1DCheckPointBeforeBoundryToConstantSubstitution91'],\n",
       "   ['TimeIndependentSchrodingerConstantPotentials1DCheckPointBeforeBoundryToConstantSubstitution91',\n",
       "    'TimeIndependentSchrodingerConstantPotentials1DCheckPointBeforeBoundryToConstantSubstitution91',\n",
       "    'TimeIndependentSchrodingerConstantPotentials1DCheckPointBeforeBoundryToConstantSubstitution91']],\n",
       "  'Post': [['TimeIndependentSchrodingerConstantPotentials1DCheckPointPostBoundryToConstantSubstitution98',\n",
       "    'TimeIndependentSchrodingerConstantPotentials1DCheckPointPostBoundryToConstantSubstitution98',\n",
       "    'TimeIndependentSchrodingerConstantPotentials1DCheckPointPostBoundryToConstantSubstitution98'],\n",
       "   ['TimeIndependentSchrodingerConstantPotentials1DCheckPointPostBoundryToConstantSubstitution98',\n",
       "    'TimeIndependentSchrodingerConstantPotentials1DCheckPointPostBoundryToConstantSubstitution98',\n",
       "    'TimeIndependentSchrodingerConstantPotentials1DCheckPointPostBoundryToConstantSubstitution98']]})"
      ]
     },
     "execution_count": 28,
     "metadata": {},
     "output_type": "execute_result"
    }
   ],
   "source": [
    "stairwell_solver.boundries_in_expression_to_constants()"
   ]
  },
  {
   "cell_type": "code",
   "execution_count": null,
   "id": "56c71688-3bbd-4e97-9a17-e7a417f40c1e",
   "metadata": {},
   "outputs": [],
   "source": []
  },
  {
   "cell_type": "code",
   "execution_count": 29,
   "id": "c50eb079-fda5-4b1c-a242-8a0ffea46bb8",
   "metadata": {},
   "outputs": [],
   "source": [
    "real_wave_functions = []\n",
    "imaginary_wave_functions = []\n",
    "for equation in stairwell_solver.equations: \n",
    "    real_wave_functions.append( equation.clone().manipulate( lambda step : step.as_real_imag()[ 0 ].simplify().simplify(), chain = True ) )\n",
    "    imaginary_wave_functions.append( equation.clone().manipulate( lambda step : step.as_real_imag()[ 1 ].simplify().simplify().refine(), chain = True ) )"
   ]
  },
  {
   "cell_type": "code",
   "execution_count": 30,
   "id": "b6829046-65dd-49ab-bb7a-bd235b6ffbd0",
   "metadata": {},
   "outputs": [
    {
     "data": {
      "text/latex": [
       "$\\displaystyle \\operatorname{im}{\\left(\\psi_{0}{\\left(x \\right)}\\right)}$"
      ],
      "text/plain": [
       "im(\\psi_{0}(x))"
      ]
     },
     "execution_count": 30,
     "metadata": {},
     "output_type": "execute_result"
    }
   ],
   "source": [
    "stairwell_solver.equations[ 0 ].last_step( -2 ).lhs.as_real_imag()[ 1 ]"
   ]
  },
  {
   "cell_type": "code",
   "execution_count": null,
   "id": "93e5434e-c9c4-445e-932b-a146fdbb7874",
   "metadata": {},
   "outputs": [],
   "source": []
  },
  {
   "cell_type": "code",
   "execution_count": 31,
   "id": "fdd2c612-b967-4e9b-84c4-f80b3adbe3dd",
   "metadata": {},
   "outputs": [
    {
     "data": {
      "text/latex": [
       "$\\displaystyle \\operatorname{re}{\\left(\\psi_{0}{\\left(x \\right)}\\right)} = \\frac{\\left(1 - e^{2 k_{0} x}\\right) e^{k_{0} \\left(L_{0} - x\\right)} \\operatorname{re}{\\left(B_{0}\\right)}}{1 - e^{2 L_{0} k_{0}}}$"
      ],
      "text/plain": [
       "Eq(re(\\psi_{0}(x)), (1 - exp(2*k_0*x))*exp(k_0*(L_0 - x))*re(B_{0})/(1 - exp(2*L_0*k_0)))"
      ]
     },
     "metadata": {},
     "output_type": "display_data"
    },
    {
     "data": {
      "text/latex": [
       "$\\displaystyle \\operatorname{re}{\\left(\\psi_{1}{\\left(x \\right)}\\right)} = \\frac{\\left(\\left(e^{L_{1} k_{1}} \\operatorname{re}{\\left(B_{0}\\right)} - \\operatorname{re}{\\left(B_{1}\\right)}\\right) e^{L_{1} k_{1}} + \\left(e^{L_{1} k_{1}} \\operatorname{re}{\\left(B_{1}\\right)} - \\operatorname{re}{\\left(B_{0}\\right)}\\right) e^{2 k_{1} x}\\right) e^{- k_{1} x}}{e^{2 L_{1} k_{1}} - 1}$"
      ],
      "text/plain": [
       "Eq(re(\\psi_{1}(x)), ((exp(L_1*k_1)*re(B_{0}) - re(B_{1}))*exp(L_1*k_1) + (exp(L_1*k_1)*re(B_{1}) - re(B_{0}))*exp(2*k_1*x))*exp(-k_1*x)/(exp(2*L_1*k_1) - 1))"
      ]
     },
     "metadata": {},
     "output_type": "display_data"
    },
    {
     "data": {
      "text/latex": [
       "$\\displaystyle \\operatorname{re}{\\left(\\psi_{2}{\\left(x \\right)}\\right)} = \\frac{\\left(e^{2 L_{2} k_{2}} - e^{2 k_{2} x}\\right) e^{- k_{2} x} \\operatorname{re}{\\left(B_{1}\\right)}}{e^{2 L_{2} k_{2}} - 1}$"
      ],
      "text/plain": [
       "Eq(re(\\psi_{2}(x)), (exp(2*L_2*k_2) - exp(2*k_2*x))*exp(-k_2*x)*re(B_{1})/(exp(2*L_2*k_2) - 1))"
      ]
     },
     "metadata": {},
     "output_type": "display_data"
    }
   ],
   "source": [
    "display_steps( real_wave_functions )"
   ]
  },
  {
   "cell_type": "code",
   "execution_count": 32,
   "id": "e0c2c6d9-3d84-44fc-86b5-1c078e6298ec",
   "metadata": {},
   "outputs": [
    {
     "data": {
      "text/latex": [
       "$\\displaystyle \\operatorname{im}{\\left(\\psi_{0}{\\left(x \\right)}\\right)} = - \\frac{\\left(1 - e^{2 k_{0} x}\\right) e^{k_{0} \\left(L_{0} - x\\right)} \\operatorname{im}{\\left(B_{0}\\right)}}{e^{2 L_{0} k_{0}} - 1}$"
      ],
      "text/plain": [
       "Eq(im(\\psi_{0}(x)), -(1 - exp(2*k_0*x))*exp(k_0*(L_0 - x))*im(B_{0})/(exp(2*L_0*k_0) - 1))"
      ]
     },
     "metadata": {},
     "output_type": "display_data"
    },
    {
     "data": {
      "text/latex": [
       "$\\displaystyle \\operatorname{im}{\\left(\\psi_{1}{\\left(x \\right)}\\right)} = \\frac{\\left(\\left(e^{L_{1} k_{1}} \\operatorname{im}{\\left(B_{0}\\right)} - \\operatorname{im}{\\left(B_{1}\\right)}\\right) e^{L_{1} k_{1}} + \\left(e^{L_{1} k_{1}} \\operatorname{im}{\\left(B_{1}\\right)} - \\operatorname{im}{\\left(B_{0}\\right)}\\right) e^{2 k_{1} x}\\right) e^{- k_{1} x}}{e^{2 L_{1} k_{1}} - 1}$"
      ],
      "text/plain": [
       "Eq(im(\\psi_{1}(x)), ((exp(L_1*k_1)*im(B_{0}) - im(B_{1}))*exp(L_1*k_1) + (exp(L_1*k_1)*im(B_{1}) - im(B_{0}))*exp(2*k_1*x))*exp(-k_1*x)/(exp(2*L_1*k_1) - 1))"
      ]
     },
     "metadata": {},
     "output_type": "display_data"
    },
    {
     "data": {
      "text/latex": [
       "$\\displaystyle \\operatorname{im}{\\left(\\psi_{2}{\\left(x \\right)}\\right)} = \\frac{\\left(e^{2 L_{2} k_{2}} - e^{2 k_{2} x}\\right) e^{- k_{2} x} \\operatorname{im}{\\left(B_{1}\\right)}}{e^{2 L_{2} k_{2}} - 1}$"
      ],
      "text/plain": [
       "Eq(im(\\psi_{2}(x)), (exp(2*L_2*k_2) - exp(2*k_2*x))*exp(-k_2*x)*im(B_{1})/(exp(2*L_2*k_2) - 1))"
      ]
     },
     "metadata": {},
     "output_type": "display_data"
    }
   ],
   "source": [
    "display_steps( imaginary_wave_functions )"
   ]
  },
  {
   "cell_type": "code",
   "execution_count": null,
   "id": "bfac8d4c-d85d-49be-897e-20a6f8563568",
   "metadata": {},
   "outputs": [],
   "source": []
  },
  {
   "cell_type": "code",
   "execution_count": 33,
   "id": "af2ff3f6-d4cb-4ff8-8327-ecd278f325e3",
   "metadata": {},
   "outputs": [
    {
     "data": {
      "text/plain": [
       "[<custom_libraries.stepper.Stepper at 0x7f8f8d794d60>,\n",
       " <custom_libraries.stepper.Stepper at 0x7f8f8d795a20>,\n",
       " <custom_libraries.stepper.Stepper at 0x7f8f8d7950f0>]"
      ]
     },
     "execution_count": 33,
     "metadata": {},
     "output_type": "execute_result"
    }
   ],
   "source": [
    "stairwell_solver.substitute_wave_functions_into_normalizations()"
   ]
  },
  {
   "cell_type": "code",
   "execution_count": null,
   "id": "b470bad8-6b9b-403c-92c5-377ada68977d",
   "metadata": {},
   "outputs": [],
   "source": []
  },
  {
   "cell_type": "code",
   "execution_count": 34,
   "id": "16c87516-ca39-49ff-a5a6-836d8773d02e",
   "metadata": {},
   "outputs": [
    {
     "data": {
      "text/latex": [
       "$\\displaystyle \\int\\limits_{0}^{L_{0}} \\left(\\frac{B_{0} e^{L_{0} k_{0}} e^{k_{0} x}}{e^{2 L_{0} k_{0}} - 1} - \\frac{B_{0} e^{L_{0} k_{0}} e^{- k_{0} x}}{e^{2 L_{0} k_{0}} - 1}\\right) \\left(\\frac{e^{L_{0} k_{0}} e^{k_{0} x} \\overline{B_{0}}}{e^{2 L_{0} k_{0}} - 1} - \\frac{e^{L_{0} k_{0}} e^{- k_{0} x} \\overline{B_{0}}}{e^{2 L_{0} k_{0}} - 1}\\right)\\, dx = N_{0}$"
      ],
      "text/plain": [
       "Eq(Integral((B_{0}*exp(L_0*k_0)*exp(k_0*x)/(exp(2*L_0*k_0) - 1) - B_{0}*exp(L_0*k_0)*exp(-k_0*x)/(exp(2*L_0*k_0) - 1))*(exp(L_0*k_0)*exp(k_0*x)*conjugate(B_{0})/(exp(2*L_0*k_0) - 1) - exp(L_0*k_0)*exp(-k_0*x)*conjugate(B_{0})/(exp(2*L_0*k_0) - 1)), (x, 0, L_0)), N_0)"
      ]
     },
     "metadata": {},
     "output_type": "display_data"
    },
    {
     "data": {
      "text/latex": [
       "$\\displaystyle \\int\\limits_{0}^{L_{1}} \\left(\\frac{\\left(- B_{0} + B_{1} e^{L_{1} k_{1}}\\right) e^{k_{1} x}}{e^{2 L_{1} k_{1}} - 1} + \\frac{\\left(B_{0} e^{2 L_{1} k_{1}} - B_{1} e^{L_{1} k_{1}}\\right) e^{- k_{1} x}}{e^{2 L_{1} k_{1}} - 1}\\right) \\left(\\frac{\\left(e^{L_{1} k_{1}} \\overline{B_{1}} - \\overline{B_{0}}\\right) e^{k_{1} x}}{e^{2 L_{1} k_{1}} - 1} + \\frac{\\left(e^{2 L_{1} k_{1}} \\overline{B_{0}} - e^{L_{1} k_{1}} \\overline{B_{1}}\\right) e^{- k_{1} x}}{e^{2 L_{1} k_{1}} - 1}\\right)\\, dx = N_{1}$"
      ],
      "text/plain": [
       "Eq(Integral(((-B_{0} + B_{1}*exp(L_1*k_1))*exp(k_1*x)/(exp(2*L_1*k_1) - 1) + (B_{0}*exp(2*L_1*k_1) - B_{1}*exp(L_1*k_1))*exp(-k_1*x)/(exp(2*L_1*k_1) - 1))*((exp(L_1*k_1)*conjugate(B_{1}) - conjugate(B_{0}))*exp(k_1*x)/(exp(2*L_1*k_1) - 1) + (exp(2*L_1*k_1)*conjugate(B_{0}) - exp(L_1*k_1)*conjugate(B_{1}))*exp(-k_1*x)/(exp(2*L_1*k_1) - 1)), (x, 0, L_1)), N_1)"
      ]
     },
     "metadata": {},
     "output_type": "display_data"
    },
    {
     "data": {
      "text/latex": [
       "$\\displaystyle \\int\\limits_{0}^{L_{2}} \\left(\\frac{B_{1} e^{2 L_{2} k_{2}} e^{- k_{2} x}}{e^{2 L_{2} k_{2}} - 1} - \\frac{B_{1} e^{k_{2} x}}{e^{2 L_{2} k_{2}} - 1}\\right) \\left(\\frac{e^{2 L_{2} k_{2}} e^{- k_{2} x} \\overline{B_{1}}}{e^{2 L_{2} k_{2}} - 1} - \\frac{e^{k_{2} x} \\overline{B_{1}}}{e^{2 L_{2} k_{2}} - 1}\\right)\\, dx = N_{2}$"
      ],
      "text/plain": [
       "Eq(Integral((B_{1}*exp(2*L_2*k_2)*exp(-k_2*x)/(exp(2*L_2*k_2) - 1) - B_{1}*exp(k_2*x)/(exp(2*L_2*k_2) - 1))*(exp(2*L_2*k_2)*exp(-k_2*x)*conjugate(B_{1})/(exp(2*L_2*k_2) - 1) - exp(k_2*x)*conjugate(B_{1})/(exp(2*L_2*k_2) - 1)), (x, 0, L_2)), N_2)"
      ]
     },
     "metadata": {},
     "output_type": "display_data"
    }
   ],
   "source": [
    "display_steps( stairwell_solver.normalizations )"
   ]
  },
  {
   "cell_type": "code",
   "execution_count": null,
   "id": "b53a46bc-a684-4405-977f-395c6cf30b18",
   "metadata": {},
   "outputs": [],
   "source": []
  },
  {
   "cell_type": "code",
   "execution_count": 35,
   "id": "e4b16801-eebf-4b60-8e4d-9f0bd95d7d69",
   "metadata": {},
   "outputs": [],
   "source": [
    "real_normalizations = []\n",
    "imaginary_normalizations = []\n",
    "for equation in stairwell_solver.normalizations: \n",
    "    real_normalizations.append( equation.clone().manipulate( lambda step : step.as_real_imag()[ 0 ].simplify().simplify().refine(), chain = True ) )\n",
    "    imaginary_normalizations.append( equation.clone().manipulate( lambda step : step.as_real_imag()[ 1 ].simplify().simplify().refine(), chain = True ) )"
   ]
  },
  {
   "cell_type": "code",
   "execution_count": null,
   "id": "431a777a-35c9-441e-9ad1-44759517644d",
   "metadata": {},
   "outputs": [],
   "source": []
  },
  {
   "cell_type": "code",
   "execution_count": 36,
   "id": "51c37eba-a7f2-41da-8007-247eadd77750",
   "metadata": {},
   "outputs": [
    {
     "data": {
      "text/latex": [
       "$\\displaystyle \\frac{\\left(- 4 L_{0} k_{0} e^{2 L_{0} k_{0}} + e^{4 L_{0} k_{0}} - 1\\right) \\left|{B_{0}}\\right|^{2}}{2 k_{0} \\left(e^{2 L_{0} k_{0}} - 1\\right)^{2}} = \\operatorname{re}{\\left(N_{0}\\right)}$"
      ],
      "text/plain": [
       "Eq((-4*L_0*k_0*exp(2*L_0*k_0) + exp(4*L_0*k_0) - 1)*Abs(B_{0})**2/(2*k_0*(exp(2*L_0*k_0) - 1)**2), re(N_0))"
      ]
     },
     "metadata": {},
     "output_type": "display_data"
    },
    {
     "data": {
      "text/latex": [
       "$\\displaystyle \\begin{cases} \\frac{L_{1} k_{1} \\left(e^{2 L_{1} k_{1}} - 1\\right) \\left(e^{2 L_{1} k_{1}} \\operatorname{re}{\\left(B_{0} \\overline{B_{1}}\\right)} + e^{2 L_{1} k_{1}} \\operatorname{re}{\\left(B_{1} \\overline{B_{0}}\\right)} - 2 e^{L_{1} k_{1}} \\left|{B_{0}}\\right|^{2} - 2 e^{L_{1} k_{1}} \\left|{B_{1}}\\right|^{2} + \\operatorname{re}{\\left(B_{0} \\overline{B_{1}}\\right)} + \\operatorname{re}{\\left(B_{1} \\overline{B_{0}}\\right)}\\right) e^{L_{1} k_{1}} + \\frac{\\left(e^{4 L_{1} k_{1}} - 2 e^{2 L_{1} k_{1}} + 1\\right) \\left(e^{2 L_{1} k_{1}} \\left|{B_{0}}\\right|^{2} + e^{2 L_{1} k_{1}} \\left|{B_{1}}\\right|^{2} - 2 e^{L_{1} k_{1}} \\operatorname{re}{\\left(B_{0} \\overline{B_{1}}\\right)} - 2 e^{L_{1} k_{1}} \\operatorname{re}{\\left(B_{1} \\overline{B_{0}}\\right)} + \\left|{B_{0}}\\right|^{2} + \\left|{B_{1}}\\right|^{2}\\right)}{2}}{k_{1} \\left(e^{2 L_{1} k_{1}} - 1\\right) \\left(e^{4 L_{1} k_{1}} - 2 e^{2 L_{1} k_{1}} + 1\\right)} & \\text{for}\\: k_{1}^{2} \\left(e^{8 L_{1} k_{1}} - 4 e^{6 L_{1} k_{1}} + 6 e^{4 L_{1} k_{1}} - 4 e^{2 L_{1} k_{1}} + 1\\right) \\neq 0 \\\\L_{1} \\left|{B_{0}}\\right|^{2} & \\text{otherwise} \\end{cases} = \\operatorname{re}{\\left(N_{1}\\right)}$"
      ],
      "text/plain": [
       "Eq(Piecewise(((L_1*k_1*(exp(2*L_1*k_1) - 1)*(exp(2*L_1*k_1)*re(B_{0}*conjugate(B_{1})) + exp(2*L_1*k_1)*re(B_{1}*conjugate(B_{0})) - 2*exp(L_1*k_1)*Abs(B_{0})**2 - 2*exp(L_1*k_1)*Abs(B_{1})**2 + re(B_{0}*conjugate(B_{1})) + re(B_{1}*conjugate(B_{0})))*exp(L_1*k_1) + (exp(4*L_1*k_1) - 2*exp(2*L_1*k_1) + 1)*(exp(2*L_1*k_1)*Abs(B_{0})**2 + exp(2*L_1*k_1)*Abs(B_{1})**2 - 2*exp(L_1*k_1)*re(B_{0}*conjugate(B_{1})) - 2*exp(L_1*k_1)*re(B_{1}*conjugate(B_{0})) + Abs(B_{0})**2 + Abs(B_{1})**2)/2)/(k_1*(exp(2*L_1*k_1) - 1)*(exp(4*L_1*k_1) - 2*exp(2*L_1*k_1) + 1)), Ne(k_1**2*(exp(8*L_1*k_1) - 4*exp(6*L_1*k_1) + 6*exp(4*L_1*k_1) - 4*exp(2*L_1*k_1) + 1), 0)), (L_1*Abs(B_{0})**2, True)), re(N_1))"
      ]
     },
     "metadata": {},
     "output_type": "display_data"
    },
    {
     "data": {
      "text/latex": [
       "$\\displaystyle \\frac{\\left(- 4 L_{2} k_{2} e^{2 L_{2} k_{2}} + e^{4 L_{2} k_{2}} - 1\\right) \\left|{B_{1}}\\right|^{2}}{2 k_{2} \\left(e^{2 L_{2} k_{2}} - 1\\right)^{2}} = \\operatorname{re}{\\left(N_{2}\\right)}$"
      ],
      "text/plain": [
       "Eq((-4*L_2*k_2*exp(2*L_2*k_2) + exp(4*L_2*k_2) - 1)*Abs(B_{1})**2/(2*k_2*(exp(2*L_2*k_2) - 1)**2), re(N_2))"
      ]
     },
     "metadata": {},
     "output_type": "display_data"
    }
   ],
   "source": [
    "display_steps( real_normalizations )"
   ]
  },
  {
   "cell_type": "code",
   "execution_count": 37,
   "id": "c0ae0127-fb83-4096-be61-22ce4008b073",
   "metadata": {},
   "outputs": [
    {
     "data": {
      "text/latex": [
       "$\\displaystyle 0 = \\operatorname{im}{\\left(N_{0}\\right)}$"
      ],
      "text/plain": [
       "Eq(0, im(N_0))"
      ]
     },
     "metadata": {},
     "output_type": "display_data"
    },
    {
     "data": {
      "text/latex": [
       "$\\displaystyle \\frac{\\left(L_{1} k_{1} e^{2 L_{1} k_{1}} \\operatorname{im}{\\left(B_{0} \\overline{B_{1}}\\right)} + L_{1} k_{1} e^{2 L_{1} k_{1}} \\operatorname{im}{\\left(B_{1} \\overline{B_{0}}\\right)} + L_{1} k_{1} \\operatorname{im}{\\left(B_{0} \\overline{B_{1}}\\right)} + L_{1} k_{1} \\operatorname{im}{\\left(B_{1} \\overline{B_{0}}\\right)} - e^{2 L_{1} k_{1}} \\operatorname{im}{\\left(B_{0} \\overline{B_{1}}\\right)} - e^{2 L_{1} k_{1}} \\operatorname{im}{\\left(B_{1} \\overline{B_{0}}\\right)} + \\operatorname{im}{\\left(B_{0} \\overline{B_{1}}\\right)} + \\operatorname{im}{\\left(B_{1} \\overline{B_{0}}\\right)}\\right) e^{L_{1} k_{1}}}{k_{1} \\left(e^{4 L_{1} k_{1}} - 2 e^{2 L_{1} k_{1}} + 1\\right)} = \\operatorname{im}{\\left(N_{1}\\right)}$"
      ],
      "text/plain": [
       "Eq((L_1*k_1*exp(2*L_1*k_1)*im(B_{0}*conjugate(B_{1})) + L_1*k_1*exp(2*L_1*k_1)*im(B_{1}*conjugate(B_{0})) + L_1*k_1*im(B_{0}*conjugate(B_{1})) + L_1*k_1*im(B_{1}*conjugate(B_{0})) - exp(2*L_1*k_1)*im(B_{0}*conjugate(B_{1})) - exp(2*L_1*k_1)*im(B_{1}*conjugate(B_{0})) + im(B_{0}*conjugate(B_{1})) + im(B_{1}*conjugate(B_{0})))*exp(L_1*k_1)/(k_1*(exp(4*L_1*k_1) - 2*exp(2*L_1*k_1) + 1)), im(N_1))"
      ]
     },
     "metadata": {},
     "output_type": "display_data"
    },
    {
     "data": {
      "text/latex": [
       "$\\displaystyle 0 = \\operatorname{im}{\\left(N_{2}\\right)}$"
      ],
      "text/plain": [
       "Eq(0, im(N_2))"
      ]
     },
     "metadata": {},
     "output_type": "display_data"
    }
   ],
   "source": [
    "display_steps( imaginary_normalizations )"
   ]
  },
  {
   "cell_type": "code",
   "execution_count": 38,
   "id": "b826be52-1841-4a38-b22c-2d63792b020d",
   "metadata": {},
   "outputs": [],
   "source": [
    "test_L, test_k_1 = sp.symbols( \"x, y\", real = True )"
   ]
  },
  {
   "cell_type": "code",
   "execution_count": 39,
   "id": "11eab40d-bd80-404d-a937-6df5e44fc74b",
   "metadata": {},
   "outputs": [],
   "source": [
    "factor_Lk = lambda mul, exp : mul * sp.exp( exp * test_L * test_k_1 )"
   ]
  },
  {
   "cell_type": "code",
   "execution_count": 40,
   "id": "07103eb3-6eec-45c8-a4c1-396a1f02f223",
   "metadata": {},
   "outputs": [],
   "source": [
    "test_expr = factor_Lk( 1, 8 ) - factor_Lk( 4, 6 ) + factor_Lk( 6, 4 ) - factor_Lk( 4, 2 ) + 1"
   ]
  },
  {
   "cell_type": "code",
   "execution_count": 41,
   "id": "cf97f03d-ba9c-4add-926d-f83b5a97ba33",
   "metadata": {},
   "outputs": [
    {
     "data": {
      "text/latex": [
       "$\\displaystyle e^{8 x y} - 4 e^{6 x y} + 6 e^{4 x y} - 4 e^{2 x y} + 1$"
      ],
      "text/plain": [
       "exp(8*x*y) - 4*exp(6*x*y) + 6*exp(4*x*y) - 4*exp(2*x*y) + 1"
      ]
     },
     "execution_count": 41,
     "metadata": {},
     "output_type": "execute_result"
    }
   ],
   "source": [
    "test_expr"
   ]
  },
  {
   "cell_type": "code",
   "execution_count": 42,
   "id": "4fc75efe-34fe-45c9-9ac8-f48aaae1df9d",
   "metadata": {},
   "outputs": [
    {
     "data": {
      "text/latex": [
       "$\\displaystyle e^{8 x y} - 4 e^{6 x y} + 6 e^{4 x y} - 4 e^{2 x y} + 1$"
      ],
      "text/plain": [
       "exp(8*x*y) - 4*exp(6*x*y) + 6*exp(4*x*y) - 4*exp(2*x*y) + 1"
      ]
     },
     "execution_count": 42,
     "metadata": {},
     "output_type": "execute_result"
    }
   ],
   "source": [
    "test_expr"
   ]
  },
  {
   "cell_type": "code",
   "execution_count": null,
   "id": "aa7e3daa-bb43-4bec-a09e-2630853bde5b",
   "metadata": {},
   "outputs": [],
   "source": []
  },
  {
   "cell_type": "code",
   "execution_count": 43,
   "id": "efbbb6fd-3909-415f-a2c5-cff5969771a6",
   "metadata": {},
   "outputs": [],
   "source": [
    "def lambdify( tise_solver, expression ): \n",
    "    return sp.lambdify( \n",
    "            [ \n",
    "                tise_solver.position, \n",
    "                tise_solver.mass, \n",
    "                tise_solver.total_energy \n",
    "            ] + harmonic_constant_symbols + [\n",
    "                    *tuple( tise_solver.normalization_symbols ), \n",
    "                    *tuple( tise_solver.regions() )\n",
    "            ], \n",
    "            ( sp.Abs( ( expression ** 2 ).simplify() ) ).simplify(), \n",
    "        \"numpy\" \n",
    "    )\n"
   ]
  },
  {
   "cell_type": "code",
   "execution_count": null,
   "id": "b3641fde-0c81-437d-a539-da2818cc7363",
   "metadata": {},
   "outputs": [],
   "source": []
  },
  {
   "cell_type": "code",
   "execution_count": 44,
   "id": "924c8970-5aae-4b71-a481-b1c374a0ba0e",
   "metadata": {},
   "outputs": [],
   "source": [
    "test_function = sp.lambdify( \n",
    "        [ \n",
    "            test_L, test_k_1 \n",
    "        ],\n",
    "        test_expr, \n",
    "        \"numpy\" \n",
    "    )"
   ]
  },
  {
   "cell_type": "code",
   "execution_count": 45,
   "id": "465e115d-5491-4ef5-8551-6ef93fc5973c",
   "metadata": {},
   "outputs": [],
   "source": [
    "step_size = .001"
   ]
  },
  {
   "cell_type": "code",
   "execution_count": 46,
   "id": "3b524bcb-ebf3-4ea6-a425-685a271b7c9b",
   "metadata": {},
   "outputs": [],
   "source": [
    "space = np.arange( -.2, .2, step = step_size )"
   ]
  },
  {
   "cell_type": "code",
   "execution_count": 47,
   "id": "6bfd3f95-4d15-4417-be15-6594f19de9dd",
   "metadata": {},
   "outputs": [
    {
     "data": {
      "text/plain": [
       "array([[-0.2  , -0.199, -0.198, ...,  0.197,  0.198,  0.199],\n",
       "       [-0.2  , -0.199, -0.198, ...,  0.197,  0.198,  0.199],\n",
       "       [-0.2  , -0.199, -0.198, ...,  0.197,  0.198,  0.199],\n",
       "       ...,\n",
       "       [-0.2  , -0.199, -0.198, ...,  0.197,  0.198,  0.199],\n",
       "       [-0.2  , -0.199, -0.198, ...,  0.197,  0.198,  0.199],\n",
       "       [-0.2  , -0.199, -0.198, ...,  0.197,  0.198,  0.199]])"
      ]
     },
     "execution_count": 47,
     "metadata": {},
     "output_type": "execute_result"
    }
   ],
   "source": [
    "np.array( [space] * len( space ) )"
   ]
  },
  {
   "cell_type": "code",
   "execution_count": 48,
   "id": "e570f33d-bc5a-4073-8e22-3161daf6564e",
   "metadata": {},
   "outputs": [
    {
     "data": {
      "text/plain": [
       "<function _lambdifygenerated(x, y)>"
      ]
     },
     "execution_count": 48,
     "metadata": {},
     "output_type": "execute_result"
    }
   ],
   "source": [
    "test_function"
   ]
  },
  {
   "cell_type": "code",
   "execution_count": null,
   "id": "cfa44562-ff37-4855-ae51-6c16d8624be5",
   "metadata": {},
   "outputs": [],
   "source": []
  },
  {
   "cell_type": "code",
   "execution_count": null,
   "id": "1dbd652f-6c34-48f8-b8aa-f412592495a8",
   "metadata": {},
   "outputs": [],
   "source": []
  },
  {
   "cell_type": "code",
   "execution_count": 50,
   "id": "40fd9a07-4e78-48c0-9bf2-f68900dce0c0",
   "metadata": {},
   "outputs": [
    {
     "data": {
      "text/plain": [
       "[<matplotlib.lines.Line2D at 0x7f8f8cea1270>]"
      ]
     },
     "execution_count": 50,
     "metadata": {},
     "output_type": "execute_result"
    },
    {
     "data": {
      "image/png": "[encoded data removed]",
      "text/plain": [
       "<Figure size 432x288 with 1 Axes>"
      ]
     },
     "metadata": {
      "needs_background": "light"
     },
     "output_type": "display_data"
    }
   ],
   "source": [
    "plt.plot( space, test_function( space, 1 ) )"
   ]
  },
  {
   "cell_type": "code",
   "execution_count": 51,
   "id": "b0ba089e-86f6-425c-96fe-e1b00ca7a097",
   "metadata": {},
   "outputs": [
    {
     "data": {
      "text/plain": [
       "[<matplotlib.lines.Line2D at 0x7f8f8cd323b0>]"
      ]
     },
     "execution_count": 51,
     "metadata": {},
     "output_type": "execute_result"
    },
    {
     "data": {
      "image/png": "[encoded data removed]",
      "text/plain": [
       "<Figure size 432x288 with 1 Axes>"
      ]
     },
     "metadata": {
      "needs_background": "light"
     },
     "output_type": "display_data"
    }
   ],
   "source": [
    "plt.plot( space, test_function( 1, space ) )"
   ]
  },
  {
   "cell_type": "code",
   "execution_count": 52,
   "id": "c6712043-03a7-4f99-bff3-b8e9a0ecff7e",
   "metadata": {},
   "outputs": [
    {
     "data": {
      "text/plain": [
       "[<matplotlib.lines.Line2D at 0x7f8f8c996bc0>]"
      ]
     },
     "execution_count": 52,
     "metadata": {},
     "output_type": "execute_result"
    },
    {
     "data": {
      "image/png": "[encoded data removed]",
      "text/plain": [
       "<Figure size 432x288 with 1 Axes>"
      ]
     },
     "metadata": {
      "needs_background": "light"
     },
     "output_type": "display_data"
    }
   ],
   "source": [
    "plt.plot( space, test_function( space, space ) )"
   ]
  },
  {
   "cell_type": "code",
   "execution_count": 53,
   "id": "b29959e9-7523-4e0c-9fb2-5a0dc60344af",
   "metadata": {},
   "outputs": [
    {
     "data": {
      "image/png": "[encoded data removed]",
      "text/plain": [
       "<Figure size 432x288 with 1 Axes>"
      ]
     },
     "metadata": {
      "needs_background": "light"
     },
     "output_type": "display_data"
    }
   ],
   "source": [
    "X, Y = np.meshgrid(space, space)\n",
    "fig, ax = plt.subplots()\n",
    "ax.imshow( test_function( X, Y ) )\n",
    "plt.show()"
   ]
  },
  {
   "cell_type": "code",
   "execution_count": 54,
   "id": "d856ea08-22cc-4100-b36b-238eb50b03f6",
   "metadata": {},
   "outputs": [
    {
     "data": {
      "text/plain": [
       "array([ 1.18132709e-02,  1.16220957e-02,  1.14328746e-02,  1.12456016e-02,\n",
       "        1.10602707e-02,  1.08768760e-02,  1.06954112e-02,  1.05158700e-02,\n",
       "        1.03382462e-02,  1.01625334e-02,  9.98872490e-03,  9.81681424e-03,\n",
       "        9.64679471e-03,  9.47865952e-03,  9.31240182e-03,  9.14801466e-03,\n",
       "        8.98549100e-03,  8.82482372e-03,  8.66600560e-03,  8.50902935e-03,\n",
       "        8.35388758e-03,  8.20057282e-03,  8.04907751e-03,  7.89939400e-03,\n",
       "        7.75151456e-03,  7.60543137e-03,  7.46113652e-03,  7.31862202e-03,\n",
       "        7.17787980e-03,  7.03890167e-03,  6.90167940e-03,  6.76620465e-03,\n",
       "        6.63246900e-03,  6.50046393e-03,  6.37018085e-03,  6.24161110e-03,\n",
       "        6.11474590e-03,  5.98957642e-03,  5.86609371e-03,  5.74428878e-03,\n",
       "        5.62415252e-03,  5.50567575e-03,  5.38884921e-03,  5.27366356e-03,\n",
       "        5.16010936e-03,  5.04817712e-03,  4.93785725e-03,  4.82914007e-03,\n",
       "        4.72201583e-03,  4.61647470e-03,  4.51250679e-03,  4.41010209e-03,\n",
       "        4.30925054e-03,  4.20994200e-03,  4.11216624e-03,  4.01591297e-03,\n",
       "        3.92117181e-03,  3.82793232e-03,  3.73618396e-03,  3.64591614e-03,\n",
       "        3.55711818e-03,  3.46977933e-03,  3.38388878e-03,  3.29943564e-03,\n",
       "        3.21640894e-03,  3.13479765e-03,  3.05459066e-03,  2.97577682e-03,\n",
       "        2.89834486e-03,  2.82228350e-03,  2.74758134e-03,  2.67422697e-03,\n",
       "        2.60220887e-03,  2.53151547e-03,  2.46213514e-03,  2.39405620e-03,\n",
       "        2.32726688e-03,  2.26175537e-03,  2.19750981e-03,  2.13451825e-03,\n",
       "        2.07276871e-03,  2.01224914e-03,  1.95294745e-03,  1.89485149e-03,\n",
       "        1.83794904e-03,  1.78222785e-03,  1.72767561e-03,  1.67427997e-03,\n",
       "        1.62202853e-03,  1.57090882e-03,  1.52090836e-03,  1.47201461e-03,\n",
       "        1.42421498e-03,  1.37749686e-03,  1.33184757e-03,  1.28725441e-03,\n",
       "        1.24370466e-03,  1.20118552e-03,  1.15968421e-03,  1.11918787e-03,\n",
       "        1.07968364e-03,  1.04115862e-03,  1.00359988e-03,  9.66994472e-04,\n",
       "        9.31329415e-04,  8.96591712e-04,  8.62768346e-04,  8.29846277e-04,\n",
       "        7.97812453e-04,  7.66653803e-04,  7.36357245e-04,  7.06909687e-04,\n",
       "        6.78298025e-04,  6.50509152e-04,  6.23529951e-04,  5.97347307e-04,\n",
       "        5.71948100e-04,  5.47319216e-04,  5.23447540e-04,  5.00319967e-04,\n",
       "        4.77923396e-04,  4.56244740e-04,  4.35270923e-04,  4.14988885e-04,\n",
       "        3.95385584e-04,  3.76447997e-04,  3.58163124e-04,  3.40517992e-04,\n",
       "        3.23499654e-04,  3.07095193e-04,  2.91291728e-04,  2.76076411e-04,\n",
       "        2.61436435e-04,  2.47359034e-04,  2.33831486e-04,  2.20841117e-04,\n",
       "        2.08375302e-04,  1.96421472e-04,  1.84967113e-04,  1.73999770e-04,\n",
       "        1.63507053e-04,  1.53476635e-04,  1.43896260e-04,  1.34753745e-04,\n",
       "        1.26036982e-04,  1.17733944e-04,  1.09832685e-04,  1.02321346e-04,\n",
       "        9.51881580e-05,  8.84214463e-05,  8.20096328e-05,  7.59412409e-05,\n",
       "        7.02048987e-05,  6.47893430e-05,  5.96834234e-05,  5.48761063e-05,\n",
       "        5.03564787e-05,  4.61137522e-05,  4.21372677e-05,  3.84164992e-05,\n",
       "        3.49410582e-05,  3.17006979e-05,  2.86853180e-05,  2.58849687e-05,\n",
       "        2.32898555e-05,  2.08903440e-05,  1.86769641e-05,  1.66404151e-05,\n",
       "        1.47715705e-05,  1.30614825e-05,  1.15013874e-05,  1.00827106e-05,\n",
       "        8.79707129e-06,  7.63628796e-06,  6.59238354e-06,  5.65759065e-06,\n",
       "        4.82435708e-06,  4.08535116e-06,  3.43346735e-06,  2.86183180e-06,\n",
       "        2.36380810e-06,  1.93300299e-06,  1.56327221e-06,  1.24872647e-06,\n",
       "        9.83737405e-07,  7.62943704e-07,  5.81257249e-07,  4.33869388e-07,\n",
       "        3.16257274e-07,  2.24190290e-07,  1.53736559e-07,  1.01269548e-07,\n",
       "        6.34747548e-08,  3.73564917e-08,  2.02447463e-08,  9.80215020e-09,\n",
       "        4.03102840e-09,  1.28054900e-09,  2.53961296e-10,  1.59361413e-11,\n",
       "       -1.33226763e-15,  1.60653713e-11,  2.58058463e-10,  1.31165390e-09,\n",
       "        4.16210799e-09,  1.02021840e-08,  2.12401945e-08,  3.95081381e-08,\n",
       "        6.76699559e-08,  1.08829860e-07,  1.66540826e-07,  2.44813133e-07,\n",
       "        3.48123061e-07,  4.81421669e-07,  6.50143709e-07,  8.60216624e-07,\n",
       "        1.11806970e-06,  1.43064330e-06,  1.80539823e-06,  2.25032521e-06,\n",
       "        2.77395451e-06,  3.38536561e-06,  4.09419714e-06,  4.91065674e-06,\n",
       "        5.84553124e-06,  6.91019683e-06,  8.11662943e-06,  9.47741516e-06,\n",
       "        1.10057609e-05,  1.27155053e-05,  1.46211290e-05,  1.67377664e-05,\n",
       "        1.90812164e-05,  2.16679538e-05,  2.45151403e-05,  2.76406370e-05,\n",
       "        3.10630149e-05,  3.48015679e-05,  3.88763238e-05,  4.33080573e-05,\n",
       "        4.81183014e-05,  5.33293606e-05,  5.89643231e-05,  6.50470736e-05,\n",
       "        7.16023062e-05,  7.86555374e-05,  8.62331192e-05,  9.43622529e-05,\n",
       "        1.03071002e-04,  1.12388306e-04,  1.22343996e-04,  1.32968804e-04,\n",
       "        1.44294384e-04,  1.56353319e-04,  1.69179141e-04,  1.82806345e-04,\n",
       "        1.97270400e-04,  2.12607768e-04,  2.28855917e-04,  2.46053339e-04,\n",
       "        2.64239562e-04,  2.83455170e-04,  3.03741813e-04,  3.25142231e-04,\n",
       "        3.47700262e-04,  3.71460864e-04,  3.96470133e-04,  4.22775312e-04,\n",
       "        4.50424818e-04,  4.79468251e-04,  5.09956417e-04,  5.41941344e-04,\n",
       "        5.75476299e-04,  6.10615805e-04,  6.47415665e-04,  6.85932973e-04,\n",
       "        7.26226138e-04,  7.68354901e-04,  8.12380356e-04,  8.58364964e-04,\n",
       "        9.06372582e-04,  9.56468472e-04,  1.00871933e-03,  1.06319330e-03,\n",
       "        1.11996000e-03,  1.17909055e-03,  1.24065755e-03,  1.30473517e-03,\n",
       "        1.37139913e-03,  1.44072670e-03,  1.51279678e-03,  1.58768988e-03,\n",
       "        1.66548816e-03,  1.74627543e-03,  1.83013722e-03,  1.91716074e-03,\n",
       "        2.00743495e-03,  2.10105059e-03,  2.19810015e-03,  2.29867795e-03,\n",
       "        2.40288014e-03,  2.51080472e-03,  2.62255159e-03,  2.73822255e-03,\n",
       "        2.85792132e-03,  2.98175361e-03,  3.10982708e-03,  3.24225145e-03,\n",
       "        3.37913842e-03,  3.52060182e-03,  3.66675753e-03,  3.81772357e-03,\n",
       "        3.97362010e-03,  4.13456948e-03,  4.30069625e-03,  4.47212721e-03,\n",
       "        4.64899142e-03,  4.83142021e-03,  5.01954727e-03,  5.21350864e-03,\n",
       "        5.41344272e-03,  5.61949035e-03,  5.83179482e-03,  6.05050189e-03,\n",
       "        6.27575983e-03,  6.50771946e-03,  6.74653418e-03,  6.99235999e-03,\n",
       "        7.24535554e-03,  7.50568216e-03,  7.77350389e-03,  8.04898750e-03,\n",
       "        8.33230257e-03,  8.62362146e-03,  8.92311941e-03,  9.23097454e-03,\n",
       "        9.54736788e-03,  9.87248343e-03,  1.02065082e-02,  1.05496322e-02,\n",
       "        1.09020486e-02,  1.12639535e-02,  1.16355464e-02,  1.20170298e-02,\n",
       "        1.24086094e-02,  1.28104944e-02,  1.32228971e-02,  1.36460332e-02,\n",
       "        1.40801218e-02,  1.45253854e-02,  1.49820501e-02,  1.54503455e-02,\n",
       "        1.59305045e-02,  1.64227638e-02,  1.69273640e-02,  1.74445488e-02,\n",
       "        1.79745663e-02,  1.85176678e-02,  1.90741088e-02,  1.96441486e-02,\n",
       "        2.02280504e-02,  2.08260812e-02,  2.14385123e-02,  2.20656190e-02,\n",
       "        2.27076805e-02,  2.33649804e-02,  2.40378065e-02,  2.47264507e-02,\n",
       "        2.54312093e-02,  2.61523831e-02,  2.68902771e-02,  2.76452009e-02,\n",
       "        2.84174686e-02,  2.92073988e-02,  3.00153150e-02,  3.08415450e-02,\n",
       "        3.16864217e-02,  3.25502825e-02,  3.34334699e-02,  3.43363310e-02,\n",
       "        3.52592184e-02,  3.62024891e-02,  3.71665056e-02,  3.81516355e-02,\n",
       "        3.91582515e-02,  4.01867315e-02,  4.12374589e-02,  4.23108225e-02,\n",
       "        4.34072165e-02,  4.45270404e-02,  4.56706996e-02,  4.68386051e-02,\n",
       "        4.80311734e-02,  4.92488269e-02,  5.04919939e-02,  5.17611085e-02,\n",
       "        5.30566109e-02,  5.43789472e-02,  5.57285698e-02,  5.71059371e-02])"
      ]
     },
     "execution_count": 54,
     "metadata": {},
     "output_type": "execute_result"
    }
   ],
   "source": [
    "test_function( space, 1 )"
   ]
  },
  {
   "cell_type": "code",
   "execution_count": null,
   "id": "bdfd6bde-90a0-444e-babc-753b4a31e936",
   "metadata": {},
   "outputs": [],
   "source": []
  }
 ],
 "metadata": {
  "kernelspec": {
   "display_name": "Python 3 (ipykernel)",
   "language": "python",
   "name": "python3"
  },
  "language_info": {
   "codemirror_mode": {
    "name": "ipython",
    "version": 3
   },
   "file_extension": ".py",
   "mimetype": "text/x-python",
   "name": "python",
   "nbconvert_exporter": "python",
   "pygments_lexer": "ipython3",
   "version": "3.10.4"
  }
 },
 "nbformat": 4,
 "nbformat_minor": 5
}
