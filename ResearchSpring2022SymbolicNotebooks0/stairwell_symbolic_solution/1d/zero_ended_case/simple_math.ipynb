{
 "cells": [
  {
   "cell_type": "code",
   "execution_count": 1,
   "id": "dd553045-3832-4013-b47b-b1c083d6ded4",
   "metadata": {},
   "outputs": [],
   "source": [
    "import sympy as sp"
   ]
  },
  {
   "cell_type": "code",
   "execution_count": 2,
   "id": "d8dc997a-c21a-49de-ad72-57f3e0d920e7",
   "metadata": {},
   "outputs": [],
   "source": [
    "from sympy.plotting import plot as splot"
   ]
  },
  {
   "cell_type": "code",
   "execution_count": 3,
   "id": "1311db61-82ce-45f0-9df2-452b3eca31f4",
   "metadata": {},
   "outputs": [],
   "source": [
    "import matplotlib.pyplot"
   ]
  },
  {
   "cell_type": "code",
   "execution_count": null,
   "id": "ba05dfc5-3a4c-4421-88f0-4cd6ff18e961",
   "metadata": {},
   "outputs": [],
   "source": []
  },
  {
   "cell_type": "code",
   "execution_count": 4,
   "id": "03b7acba-4e7e-4f15-ab34-eacaa14e06ee",
   "metadata": {},
   "outputs": [],
   "source": [
    "INDEX = \"index\"\n",
    "DIFFERENTIAL_CONSTANTS = \"differential_constants\"\n",
    "BOUNDRY_CONSTANTS = \"boundry\"\n",
    "HARMONIC = \"harmonic\"\n",
    "NORMALIZATION_CONSTANT = \"normalization_constant\"\n",
    "WAVE_FUNCTION = \"wave_function\"\n",
    "LENGTH = \"length\""
   ]
  },
  {
   "cell_type": "code",
   "execution_count": 5,
   "id": "9f9db6a5-b4d5-4fdf-b29b-b3156eee554c",
   "metadata": {},
   "outputs": [],
   "source": [
    "x = sp.Symbol('x', real=True)"
   ]
  },
  {
   "cell_type": "code",
   "execution_count": null,
   "id": "855af844-881a-4bb2-95e0-8287577ba6a3",
   "metadata": {},
   "outputs": [],
   "source": []
  },
  {
   "cell_type": "code",
   "execution_count": 6,
   "id": "382af858-5923-44f0-a3cf-04d2c3218f45",
   "metadata": {},
   "outputs": [],
   "source": [
    "def has_len_greater_than(to_test, value):\n",
    "    try: \n",
    "        return len(to_test) > value\n",
    "    except Exception:\n",
    "        return False\n",
    "\n",
    "def has_len_equal_to(to_test, value):\n",
    "    try: \n",
    "        return len(to_test) == value\n",
    "    except Exception: \n",
    "        return False"
   ]
  },
  {
   "cell_type": "code",
   "execution_count": null,
   "id": "52cf062d-499f-42f2-a072-30d9f783ec35",
   "metadata": {},
   "outputs": [],
   "source": []
  },
  {
   "cell_type": "code",
   "execution_count": 7,
   "id": "ec898521-6ab5-45c3-afac-0431aa5d892e",
   "metadata": {},
   "outputs": [],
   "source": [
    "def raw_normalization(to_normalize, what, from_, to, value): \n",
    "    return sp.Eq(sp.Integral(to_normalize.rhs * sp.conjugate(to_normalize.rhs), (what, from_, to)), value, evaluate=False)"
   ]
  },
  {
   "cell_type": "code",
   "execution_count": 8,
   "id": "1fcee47e-a66b-48b2-8c9c-f7990e5289e3",
   "metadata": {},
   "outputs": [],
   "source": [
    "def normalization(wave_function, symbols):\n",
    "    return raw_normalization(wave_function, x, symbols[1][LENGTH], symbols[0][LENGTH], symbols[0][NORMALIZATION_CONSTANT])"
   ]
  },
  {
   "cell_type": "code",
   "execution_count": null,
   "id": "ec3c272f-366c-40bb-98c0-39e043b16037",
   "metadata": {},
   "outputs": [],
   "source": []
  },
  {
   "cell_type": "code",
   "execution_count": null,
   "id": "2b080be3-c325-4862-8faf-dc680984224a",
   "metadata": {},
   "outputs": [],
   "source": []
  },
  {
   "cell_type": "code",
   "execution_count": 9,
   "id": "5d89b3d7-3501-472e-8efd-a7062b1d7d46",
   "metadata": {},
   "outputs": [],
   "source": [
    "def arbitrary_symbols_for( \n",
    "            region_index, \n",
    "            real_harmonic = True, \n",
    "            non_zero_harmonic = True, \n",
    "            real_normalization = True, \n",
    "            positive_normalization = True, \n",
    "            real_length = True, \n",
    "            non_zero_length = True, \n",
    "            positive_length = True\n",
    "        ):\n",
    "    c_0, c_1 = sp.symbols( f\"C_{{{{{region_index}}}_{{0}}}} C_{{{{{region_index}}}_{{1}}}}\" )\n",
    "    boundry = sp.Symbol( f\"B_{{{{{region_index}}}_{{0}}}}\" )\n",
    "    harmonic_constant = sp.Symbol( f\"k_{{{region_index}}}\", real = real_harmonic, nonzero = non_zero_harmonic )\n",
    "    normalization_constant = sp.Symbol( f\"N_{{{region_index}}}\", real = real_harmonic, positive = positive_normalization )\n",
    "    wave_function = sp.Function( f\"\\psi_{{{region_index}}}\" )\n",
    "    length = sp.Symbol( \n",
    "            f\"L_{{{region_index}}}\", \n",
    "            real = real_length, \n",
    "            nonzero = non_zero_length, \n",
    "            positive = positive_length \n",
    "        )\n",
    "    return {\n",
    "            INDEX : region_index, \n",
    "            DIFFERENTIAL_CONSTANTS : [ c_0, c_1 ],\n",
    "            BOUNDRY_CONSTANTS : boundry, \n",
    "            HARMONIC : harmonic_constant, \n",
    "            NORMALIZATION_CONSTANT : harmonic_constant, \n",
    "            WAVE_FUNCTION : wave_function, \n",
    "            LENGTH : length\n",
    "        }"
   ]
  },
  {
   "cell_type": "code",
   "execution_count": 10,
   "id": "4d5f384f-2260-4044-bd53-9278ec49cc94",
   "metadata": {},
   "outputs": [],
   "source": [
    "symbols = [ arbitrary_symbols_for(ii) for ii in range(3) ]"
   ]
  },
  {
   "cell_type": "code",
   "execution_count": null,
   "id": "c291d8d4-2fca-4e1a-bc6c-1d9300c905de",
   "metadata": {},
   "outputs": [],
   "source": []
  },
  {
   "cell_type": "code",
   "execution_count": 11,
   "id": "beb025e7-ebf0-418f-943d-519ba7e57dce",
   "metadata": {},
   "outputs": [],
   "source": [
    "def general_wave_function( symbols, position ):\n",
    "    return sp.Eq( \n",
    "            symbols[WAVE_FUNCTION]( position ), \n",
    "            ( symbols[DIFFERENTIAL_CONSTANTS][0] * sp.exp( symbols[HARMONIC] * position ) ) \\\n",
    "                    + ( symbols[DIFFERENTIAL_CONSTANTS][1] * sp.exp( -symbols[HARMONIC] * position ) ) \n",
    "        )"
   ]
  },
  {
   "cell_type": "code",
   "execution_count": null,
   "id": "6b12e567-152c-4cd4-8a90-da3387b96ddf",
   "metadata": {},
   "outputs": [],
   "source": []
  },
  {
   "cell_type": "code",
   "execution_count": 12,
   "id": "72442efc-01a0-4a44-a233-820fdabe6390",
   "metadata": {},
   "outputs": [],
   "source": [
    "wave_functions = [ general_wave_function(symbols[ii], x) for ii in range(3) ]"
   ]
  },
  {
   "cell_type": "code",
   "execution_count": null,
   "id": "a14f400c-ba46-4b76-96ee-c6451987908d",
   "metadata": {},
   "outputs": [],
   "source": []
  },
  {
   "cell_type": "code",
   "execution_count": 13,
   "id": "5079a135-7f6a-4475-86d5-dca723636757",
   "metadata": {},
   "outputs": [],
   "source": [
    "normaliations = [normalization(wave_functions[ii], (symbols[ii], symbols[ii - 1])) for ii in range(3)]"
   ]
  },
  {
   "cell_type": "code",
   "execution_count": null,
   "id": "e465ccb6-aba0-4f6f-9fed-f59bbefb538f",
   "metadata": {},
   "outputs": [],
   "source": []
  },
  {
   "cell_type": "code",
   "execution_count": 14,
   "id": "b90f74b0-216f-4556-8df1-4e76f7f8eaf9",
   "metadata": {},
   "outputs": [],
   "source": [
    "def solve_differential_constants(symbols, from_):\n",
    "    if has_len_greater_than(from_, 1) == True: \n",
    "        from_ = [ current.doit() for current in from_ ]\n",
    "    else:\n",
    "        from_ = from_.doit()\n",
    "    results = {}\n",
    "    for constant in symbols[DIFFERENTIAL_CONSTANTS]: \n",
    "        results[constant] = sp.solve(from_, constant)\n",
    "        if has_len_equal_to(results[constant], 2) == True: \n",
    "            results[constant ** 2] = (results[constant][0] * results[constant][1]).simplify().refine().simplify()\n",
    "    return results"
   ]
  },
  {
   "cell_type": "code",
   "execution_count": 15,
   "id": "6b225a37-9a91-45d8-ab20-aee501c7d6b9",
   "metadata": {},
   "outputs": [],
   "source": [
    "solutions_from_normalizations = [ solve_differential_constants(symbols[ii], normaliations[ii]) for ii in range(3) ]"
   ]
  },
  {
   "cell_type": "code",
   "execution_count": null,
   "id": "941b1575-353d-4cfb-a5a5-1d54015fe771",
   "metadata": {},
   "outputs": [],
   "source": []
  },
  {
   "cell_type": "code",
   "execution_count": 16,
   "id": "a0a36692-39f3-4d7d-b3bc-7f90121106bc",
   "metadata": {},
   "outputs": [],
   "source": [
    "def display_differentiation_constant_solutions(symbols, solutions):\n",
    "    for current in symbols:\n",
    "        current_solutions = solutions[current[INDEX]]\n",
    "        for constant in current[DIFFERENTIAL_CONSTANTS]:\n",
    "            if has_len_greater_than(current_solutions[constant], 0) == True:\n",
    "                for solution in current_solutions[constant]:\n",
    "                    display(sp.Eq(constant, solution))\n",
    "                if has_len_greater_than(current_solutions[constant], 1) == True:\n",
    "                    display(sp.Eq(constant ** 2, current_solutions[constant ** 2]))\n",
    "            else:\n",
    "                display(sp.Eq(constant ** 2, current_solutions[constant]))"
   ]
  },
  {
   "cell_type": "code",
   "execution_count": 17,
   "id": "5b0ccff6-8241-41bc-9e8c-d71a2b6473f5",
   "metadata": {},
   "outputs": [
    {
     "data": {
      "text/latex": [
       "$\\displaystyle C_{{0}_{0}} = \\frac{\\left(- 2 C_{{0}_{1}} L_{0} k_{0} e^{k_{0} \\left(L_{0} + L_{2}\\right)} + 2 C_{{0}_{1}} L_{2} k_{0} e^{k_{0} \\left(L_{0} + L_{2}\\right)} - \\sqrt{4 C_{{0}_{1}}^{2} L_{0}^{2} k_{0}^{2} e^{2 k_{0} \\left(L_{0} + L_{2}\\right)} - 8 C_{{0}_{1}}^{2} L_{0} L_{2} k_{0}^{2} e^{2 k_{0} \\left(L_{0} + L_{2}\\right)} + 4 C_{{0}_{1}}^{2} L_{2}^{2} k_{0}^{2} e^{2 k_{0} \\left(L_{0} + L_{2}\\right)} - C_{{0}_{1}}^{2} e^{4 L_{0} k_{0}} - C_{{0}_{1}}^{2} e^{4 L_{2} k_{0}} + 2 C_{{0}_{1}}^{2} e^{2 k_{0} \\left(L_{0} + L_{2}\\right)} - 2 k_{0}^{2} e^{2 k_{0} \\left(L_{0} + 2 L_{2}\\right)} + 2 k_{0}^{2} e^{2 k_{0} \\cdot \\left(2 L_{0} + L_{2}\\right)}}\\right) e^{- k_{0} \\left(L_{0} + L_{2}\\right)}}{e^{2 L_{0} k_{0}} - e^{2 L_{2} k_{0}}}$"
      ],
      "text/plain": [
       "Eq(C_{{0}_{0}}, (-2*C_{{0}_{1}}*L_{0}*k_{0}*exp(k_{0}*(L_{0} + L_{2})) + 2*C_{{0}_{1}}*L_{2}*k_{0}*exp(k_{0}*(L_{0} + L_{2})) - sqrt(4*C_{{0}_{1}}**2*L_{0}**2*k_{0}**2*exp(2*k_{0}*(L_{0} + L_{2})) - 8*C_{{0}_{1}}**2*L_{0}*L_{2}*k_{0}**2*exp(2*k_{0}*(L_{0} + L_{2})) + 4*C_{{0}_{1}}**2*L_{2}**2*k_{0}**2*exp(2*k_{0}*(L_{0} + L_{2})) - C_{{0}_{1}}**2*exp(4*L_{0}*k_{0}) - C_{{0}_{1}}**2*exp(4*L_{2}*k_{0}) + 2*C_{{0}_{1}}**2*exp(2*k_{0}*(L_{0} + L_{2})) - 2*k_{0}**2*exp(2*k_{0}*(L_{0} + 2*L_{2})) + 2*k_{0}**2*exp(2*k_{0}*(2*L_{0} + L_{2}))))*exp(-k_{0}*(L_{0} + L_{2}))/(exp(2*L_{0}*k_{0}) - exp(2*L_{2}*k_{0})))"
      ]
     },
     "metadata": {},
     "output_type": "display_data"
    },
    {
     "data": {
      "text/latex": [
       "$\\displaystyle C_{{0}_{0}} = \\frac{\\left(- 2 C_{{0}_{1}} L_{0} k_{0} e^{k_{0} \\left(L_{0} + L_{2}\\right)} + 2 C_{{0}_{1}} L_{2} k_{0} e^{k_{0} \\left(L_{0} + L_{2}\\right)} + \\sqrt{4 C_{{0}_{1}}^{2} L_{0}^{2} k_{0}^{2} e^{2 k_{0} \\left(L_{0} + L_{2}\\right)} - 8 C_{{0}_{1}}^{2} L_{0} L_{2} k_{0}^{2} e^{2 k_{0} \\left(L_{0} + L_{2}\\right)} + 4 C_{{0}_{1}}^{2} L_{2}^{2} k_{0}^{2} e^{2 k_{0} \\left(L_{0} + L_{2}\\right)} - C_{{0}_{1}}^{2} e^{4 L_{0} k_{0}} - C_{{0}_{1}}^{2} e^{4 L_{2} k_{0}} + 2 C_{{0}_{1}}^{2} e^{2 k_{0} \\left(L_{0} + L_{2}\\right)} - 2 k_{0}^{2} e^{2 k_{0} \\left(L_{0} + 2 L_{2}\\right)} + 2 k_{0}^{2} e^{2 k_{0} \\cdot \\left(2 L_{0} + L_{2}\\right)}}\\right) e^{- k_{0} \\left(L_{0} + L_{2}\\right)}}{e^{2 L_{0} k_{0}} - e^{2 L_{2} k_{0}}}$"
      ],
      "text/plain": [
       "Eq(C_{{0}_{0}}, (-2*C_{{0}_{1}}*L_{0}*k_{0}*exp(k_{0}*(L_{0} + L_{2})) + 2*C_{{0}_{1}}*L_{2}*k_{0}*exp(k_{0}*(L_{0} + L_{2})) + sqrt(4*C_{{0}_{1}}**2*L_{0}**2*k_{0}**2*exp(2*k_{0}*(L_{0} + L_{2})) - 8*C_{{0}_{1}}**2*L_{0}*L_{2}*k_{0}**2*exp(2*k_{0}*(L_{0} + L_{2})) + 4*C_{{0}_{1}}**2*L_{2}**2*k_{0}**2*exp(2*k_{0}*(L_{0} + L_{2})) - C_{{0}_{1}}**2*exp(4*L_{0}*k_{0}) - C_{{0}_{1}}**2*exp(4*L_{2}*k_{0}) + 2*C_{{0}_{1}}**2*exp(2*k_{0}*(L_{0} + L_{2})) - 2*k_{0}**2*exp(2*k_{0}*(L_{0} + 2*L_{2})) + 2*k_{0}**2*exp(2*k_{0}*(2*L_{0} + L_{2}))))*exp(-k_{0}*(L_{0} + L_{2}))/(exp(2*L_{0}*k_{0}) - exp(2*L_{2}*k_{0})))"
      ]
     },
     "metadata": {},
     "output_type": "display_data"
    },
    {
     "data": {
      "text/latex": [
       "$\\displaystyle C_{{0}_{0}}^{2} = \\frac{\\left(C_{{0}_{1}}^{2} e^{2 L_{0} k_{0}} - C_{{0}_{1}}^{2} e^{2 L_{2} k_{0}} - 2 k_{0}^{2} e^{2 k_{0} \\left(L_{0} + L_{2}\\right)}\\right) e^{- 2 k_{0} \\left(L_{0} + L_{2}\\right)}}{e^{2 L_{0} k_{0}} - e^{2 L_{2} k_{0}}}$"
      ],
      "text/plain": [
       "Eq(C_{{0}_{0}}**2, (C_{{0}_{1}}**2*exp(2*L_{0}*k_{0}) - C_{{0}_{1}}**2*exp(2*L_{2}*k_{0}) - 2*k_{0}**2*exp(2*k_{0}*(L_{0} + L_{2})))*exp(-2*k_{0}*(L_{0} + L_{2}))/(exp(2*L_{0}*k_{0}) - exp(2*L_{2}*k_{0})))"
      ]
     },
     "metadata": {},
     "output_type": "display_data"
    },
    {
     "data": {
      "text/latex": [
       "$\\displaystyle C_{{0}_{1}} = \\frac{\\left(- 2 C_{{0}_{0}} L_{0} k_{0} e^{k_{0} \\left(L_{0} + L_{2}\\right)} + 2 C_{{0}_{0}} L_{2} k_{0} e^{k_{0} \\left(L_{0} + L_{2}\\right)} - \\sqrt{4 C_{{0}_{0}}^{2} L_{0}^{2} k_{0}^{2} e^{2 k_{0} \\left(L_{0} + L_{2}\\right)} - 8 C_{{0}_{0}}^{2} L_{0} L_{2} k_{0}^{2} e^{2 k_{0} \\left(L_{0} + L_{2}\\right)} + 4 C_{{0}_{0}}^{2} L_{2}^{2} k_{0}^{2} e^{2 k_{0} \\left(L_{0} + L_{2}\\right)} - C_{{0}_{0}}^{2} e^{4 L_{0} k_{0}} - C_{{0}_{0}}^{2} e^{4 L_{2} k_{0}} + 2 C_{{0}_{0}}^{2} e^{2 k_{0} \\left(L_{0} + L_{2}\\right)} + 2 k_{0}^{2} e^{2 L_{0} k_{0}} - 2 k_{0}^{2} e^{2 L_{2} k_{0}}}\\right) e^{k_{0} \\left(L_{0} + L_{2}\\right)}}{e^{2 L_{0} k_{0}} - e^{2 L_{2} k_{0}}}$"
      ],
      "text/plain": [
       "Eq(C_{{0}_{1}}, (-2*C_{{0}_{0}}*L_{0}*k_{0}*exp(k_{0}*(L_{0} + L_{2})) + 2*C_{{0}_{0}}*L_{2}*k_{0}*exp(k_{0}*(L_{0} + L_{2})) - sqrt(4*C_{{0}_{0}}**2*L_{0}**2*k_{0}**2*exp(2*k_{0}*(L_{0} + L_{2})) - 8*C_{{0}_{0}}**2*L_{0}*L_{2}*k_{0}**2*exp(2*k_{0}*(L_{0} + L_{2})) + 4*C_{{0}_{0}}**2*L_{2}**2*k_{0}**2*exp(2*k_{0}*(L_{0} + L_{2})) - C_{{0}_{0}}**2*exp(4*L_{0}*k_{0}) - C_{{0}_{0}}**2*exp(4*L_{2}*k_{0}) + 2*C_{{0}_{0}}**2*exp(2*k_{0}*(L_{0} + L_{2})) + 2*k_{0}**2*exp(2*L_{0}*k_{0}) - 2*k_{0}**2*exp(2*L_{2}*k_{0})))*exp(k_{0}*(L_{0} + L_{2}))/(exp(2*L_{0}*k_{0}) - exp(2*L_{2}*k_{0})))"
      ]
     },
     "metadata": {},
     "output_type": "display_data"
    },
    {
     "data": {
      "text/latex": [
       "$\\displaystyle C_{{0}_{1}} = \\frac{\\left(- 2 C_{{0}_{0}} L_{0} k_{0} e^{k_{0} \\left(L_{0} + L_{2}\\right)} + 2 C_{{0}_{0}} L_{2} k_{0} e^{k_{0} \\left(L_{0} + L_{2}\\right)} + \\sqrt{4 C_{{0}_{0}}^{2} L_{0}^{2} k_{0}^{2} e^{2 k_{0} \\left(L_{0} + L_{2}\\right)} - 8 C_{{0}_{0}}^{2} L_{0} L_{2} k_{0}^{2} e^{2 k_{0} \\left(L_{0} + L_{2}\\right)} + 4 C_{{0}_{0}}^{2} L_{2}^{2} k_{0}^{2} e^{2 k_{0} \\left(L_{0} + L_{2}\\right)} - C_{{0}_{0}}^{2} e^{4 L_{0} k_{0}} - C_{{0}_{0}}^{2} e^{4 L_{2} k_{0}} + 2 C_{{0}_{0}}^{2} e^{2 k_{0} \\left(L_{0} + L_{2}\\right)} + 2 k_{0}^{2} e^{2 L_{0} k_{0}} - 2 k_{0}^{2} e^{2 L_{2} k_{0}}}\\right) e^{k_{0} \\left(L_{0} + L_{2}\\right)}}{e^{2 L_{0} k_{0}} - e^{2 L_{2} k_{0}}}$"
      ],
      "text/plain": [
       "Eq(C_{{0}_{1}}, (-2*C_{{0}_{0}}*L_{0}*k_{0}*exp(k_{0}*(L_{0} + L_{2})) + 2*C_{{0}_{0}}*L_{2}*k_{0}*exp(k_{0}*(L_{0} + L_{2})) + sqrt(4*C_{{0}_{0}}**2*L_{0}**2*k_{0}**2*exp(2*k_{0}*(L_{0} + L_{2})) - 8*C_{{0}_{0}}**2*L_{0}*L_{2}*k_{0}**2*exp(2*k_{0}*(L_{0} + L_{2})) + 4*C_{{0}_{0}}**2*L_{2}**2*k_{0}**2*exp(2*k_{0}*(L_{0} + L_{2})) - C_{{0}_{0}}**2*exp(4*L_{0}*k_{0}) - C_{{0}_{0}}**2*exp(4*L_{2}*k_{0}) + 2*C_{{0}_{0}}**2*exp(2*k_{0}*(L_{0} + L_{2})) + 2*k_{0}**2*exp(2*L_{0}*k_{0}) - 2*k_{0}**2*exp(2*L_{2}*k_{0})))*exp(k_{0}*(L_{0} + L_{2}))/(exp(2*L_{0}*k_{0}) - exp(2*L_{2}*k_{0})))"
      ]
     },
     "metadata": {},
     "output_type": "display_data"
    },
    {
     "data": {
      "text/latex": [
       "$\\displaystyle C_{{0}_{1}}^{2} = \\frac{\\left(C_{{0}_{0}}^{2} e^{2 L_{0} k_{0}} - C_{{0}_{0}}^{2} e^{2 L_{2} k_{0}} - 2 k_{0}^{2}\\right) e^{2 k_{0} \\left(L_{0} + L_{2}\\right)}}{e^{2 L_{0} k_{0}} - e^{2 L_{2} k_{0}}}$"
      ],
      "text/plain": [
       "Eq(C_{{0}_{1}}**2, (C_{{0}_{0}}**2*exp(2*L_{0}*k_{0}) - C_{{0}_{0}}**2*exp(2*L_{2}*k_{0}) - 2*k_{0}**2)*exp(2*k_{0}*(L_{0} + L_{2}))/(exp(2*L_{0}*k_{0}) - exp(2*L_{2}*k_{0})))"
      ]
     },
     "metadata": {},
     "output_type": "display_data"
    },
    {
     "data": {
      "text/latex": [
       "$\\displaystyle C_{{1}_{0}} = \\frac{\\left(- 2 C_{{1}_{1}} L_{0} k_{1} e^{k_{1} \\left(L_{0} + L_{1}\\right)} + 2 C_{{1}_{1}} L_{1} k_{1} e^{k_{1} \\left(L_{0} + L_{1}\\right)} - \\sqrt{4 C_{{1}_{1}}^{2} L_{0}^{2} k_{1}^{2} e^{2 k_{1} \\left(L_{0} + L_{1}\\right)} - 8 C_{{1}_{1}}^{2} L_{0} L_{1} k_{1}^{2} e^{2 k_{1} \\left(L_{0} + L_{1}\\right)} + 4 C_{{1}_{1}}^{2} L_{1}^{2} k_{1}^{2} e^{2 k_{1} \\left(L_{0} + L_{1}\\right)} - C_{{1}_{1}}^{2} e^{4 L_{0} k_{1}} - C_{{1}_{1}}^{2} e^{4 L_{1} k_{1}} + 2 C_{{1}_{1}}^{2} e^{2 k_{1} \\left(L_{0} + L_{1}\\right)} + 2 k_{1}^{2} e^{2 k_{1} \\left(L_{0} + 2 L_{1}\\right)} - 2 k_{1}^{2} e^{2 k_{1} \\cdot \\left(2 L_{0} + L_{1}\\right)}}\\right) e^{- k_{1} \\left(L_{0} + L_{1}\\right)}}{e^{2 L_{0} k_{1}} - e^{2 L_{1} k_{1}}}$"
      ],
      "text/plain": [
       "Eq(C_{{1}_{0}}, (-2*C_{{1}_{1}}*L_{0}*k_{1}*exp(k_{1}*(L_{0} + L_{1})) + 2*C_{{1}_{1}}*L_{1}*k_{1}*exp(k_{1}*(L_{0} + L_{1})) - sqrt(4*C_{{1}_{1}}**2*L_{0}**2*k_{1}**2*exp(2*k_{1}*(L_{0} + L_{1})) - 8*C_{{1}_{1}}**2*L_{0}*L_{1}*k_{1}**2*exp(2*k_{1}*(L_{0} + L_{1})) + 4*C_{{1}_{1}}**2*L_{1}**2*k_{1}**2*exp(2*k_{1}*(L_{0} + L_{1})) - C_{{1}_{1}}**2*exp(4*L_{0}*k_{1}) - C_{{1}_{1}}**2*exp(4*L_{1}*k_{1}) + 2*C_{{1}_{1}}**2*exp(2*k_{1}*(L_{0} + L_{1})) + 2*k_{1}**2*exp(2*k_{1}*(L_{0} + 2*L_{1})) - 2*k_{1}**2*exp(2*k_{1}*(2*L_{0} + L_{1}))))*exp(-k_{1}*(L_{0} + L_{1}))/(exp(2*L_{0}*k_{1}) - exp(2*L_{1}*k_{1})))"
      ]
     },
     "metadata": {},
     "output_type": "display_data"
    },
    {
     "data": {
      "text/latex": [
       "$\\displaystyle C_{{1}_{0}} = \\frac{\\left(- 2 C_{{1}_{1}} L_{0} k_{1} e^{k_{1} \\left(L_{0} + L_{1}\\right)} + 2 C_{{1}_{1}} L_{1} k_{1} e^{k_{1} \\left(L_{0} + L_{1}\\right)} + \\sqrt{4 C_{{1}_{1}}^{2} L_{0}^{2} k_{1}^{2} e^{2 k_{1} \\left(L_{0} + L_{1}\\right)} - 8 C_{{1}_{1}}^{2} L_{0} L_{1} k_{1}^{2} e^{2 k_{1} \\left(L_{0} + L_{1}\\right)} + 4 C_{{1}_{1}}^{2} L_{1}^{2} k_{1}^{2} e^{2 k_{1} \\left(L_{0} + L_{1}\\right)} - C_{{1}_{1}}^{2} e^{4 L_{0} k_{1}} - C_{{1}_{1}}^{2} e^{4 L_{1} k_{1}} + 2 C_{{1}_{1}}^{2} e^{2 k_{1} \\left(L_{0} + L_{1}\\right)} + 2 k_{1}^{2} e^{2 k_{1} \\left(L_{0} + 2 L_{1}\\right)} - 2 k_{1}^{2} e^{2 k_{1} \\cdot \\left(2 L_{0} + L_{1}\\right)}}\\right) e^{- k_{1} \\left(L_{0} + L_{1}\\right)}}{e^{2 L_{0} k_{1}} - e^{2 L_{1} k_{1}}}$"
      ],
      "text/plain": [
       "Eq(C_{{1}_{0}}, (-2*C_{{1}_{1}}*L_{0}*k_{1}*exp(k_{1}*(L_{0} + L_{1})) + 2*C_{{1}_{1}}*L_{1}*k_{1}*exp(k_{1}*(L_{0} + L_{1})) + sqrt(4*C_{{1}_{1}}**2*L_{0}**2*k_{1}**2*exp(2*k_{1}*(L_{0} + L_{1})) - 8*C_{{1}_{1}}**2*L_{0}*L_{1}*k_{1}**2*exp(2*k_{1}*(L_{0} + L_{1})) + 4*C_{{1}_{1}}**2*L_{1}**2*k_{1}**2*exp(2*k_{1}*(L_{0} + L_{1})) - C_{{1}_{1}}**2*exp(4*L_{0}*k_{1}) - C_{{1}_{1}}**2*exp(4*L_{1}*k_{1}) + 2*C_{{1}_{1}}**2*exp(2*k_{1}*(L_{0} + L_{1})) + 2*k_{1}**2*exp(2*k_{1}*(L_{0} + 2*L_{1})) - 2*k_{1}**2*exp(2*k_{1}*(2*L_{0} + L_{1}))))*exp(-k_{1}*(L_{0} + L_{1}))/(exp(2*L_{0}*k_{1}) - exp(2*L_{1}*k_{1})))"
      ]
     },
     "metadata": {},
     "output_type": "display_data"
    },
    {
     "data": {
      "text/latex": [
       "$\\displaystyle C_{{1}_{0}}^{2} = \\frac{\\left(C_{{1}_{1}}^{2} e^{2 L_{0} k_{1}} - C_{{1}_{1}}^{2} e^{2 L_{1} k_{1}} + 2 k_{1}^{2} e^{2 k_{1} \\left(L_{0} + L_{1}\\right)}\\right) e^{- 2 k_{1} \\left(L_{0} + L_{1}\\right)}}{e^{2 L_{0} k_{1}} - e^{2 L_{1} k_{1}}}$"
      ],
      "text/plain": [
       "Eq(C_{{1}_{0}}**2, (C_{{1}_{1}}**2*exp(2*L_{0}*k_{1}) - C_{{1}_{1}}**2*exp(2*L_{1}*k_{1}) + 2*k_{1}**2*exp(2*k_{1}*(L_{0} + L_{1})))*exp(-2*k_{1}*(L_{0} + L_{1}))/(exp(2*L_{0}*k_{1}) - exp(2*L_{1}*k_{1})))"
      ]
     },
     "metadata": {},
     "output_type": "display_data"
    },
    {
     "data": {
      "text/latex": [
       "$\\displaystyle C_{{1}_{1}} = \\frac{\\left(- 2 C_{{1}_{0}} L_{0} k_{1} e^{k_{1} \\left(L_{0} + L_{1}\\right)} + 2 C_{{1}_{0}} L_{1} k_{1} e^{k_{1} \\left(L_{0} + L_{1}\\right)} - \\sqrt{4 C_{{1}_{0}}^{2} L_{0}^{2} k_{1}^{2} e^{2 k_{1} \\left(L_{0} + L_{1}\\right)} - 8 C_{{1}_{0}}^{2} L_{0} L_{1} k_{1}^{2} e^{2 k_{1} \\left(L_{0} + L_{1}\\right)} + 4 C_{{1}_{0}}^{2} L_{1}^{2} k_{1}^{2} e^{2 k_{1} \\left(L_{0} + L_{1}\\right)} - C_{{1}_{0}}^{2} e^{4 L_{0} k_{1}} - C_{{1}_{0}}^{2} e^{4 L_{1} k_{1}} + 2 C_{{1}_{0}}^{2} e^{2 k_{1} \\left(L_{0} + L_{1}\\right)} - 2 k_{1}^{2} e^{2 L_{0} k_{1}} + 2 k_{1}^{2} e^{2 L_{1} k_{1}}}\\right) e^{k_{1} \\left(L_{0} + L_{1}\\right)}}{e^{2 L_{0} k_{1}} - e^{2 L_{1} k_{1}}}$"
      ],
      "text/plain": [
       "Eq(C_{{1}_{1}}, (-2*C_{{1}_{0}}*L_{0}*k_{1}*exp(k_{1}*(L_{0} + L_{1})) + 2*C_{{1}_{0}}*L_{1}*k_{1}*exp(k_{1}*(L_{0} + L_{1})) - sqrt(4*C_{{1}_{0}}**2*L_{0}**2*k_{1}**2*exp(2*k_{1}*(L_{0} + L_{1})) - 8*C_{{1}_{0}}**2*L_{0}*L_{1}*k_{1}**2*exp(2*k_{1}*(L_{0} + L_{1})) + 4*C_{{1}_{0}}**2*L_{1}**2*k_{1}**2*exp(2*k_{1}*(L_{0} + L_{1})) - C_{{1}_{0}}**2*exp(4*L_{0}*k_{1}) - C_{{1}_{0}}**2*exp(4*L_{1}*k_{1}) + 2*C_{{1}_{0}}**2*exp(2*k_{1}*(L_{0} + L_{1})) - 2*k_{1}**2*exp(2*L_{0}*k_{1}) + 2*k_{1}**2*exp(2*L_{1}*k_{1})))*exp(k_{1}*(L_{0} + L_{1}))/(exp(2*L_{0}*k_{1}) - exp(2*L_{1}*k_{1})))"
      ]
     },
     "metadata": {},
     "output_type": "display_data"
    },
    {
     "data": {
      "text/latex": [
       "$\\displaystyle C_{{1}_{1}} = \\frac{\\left(- 2 C_{{1}_{0}} L_{0} k_{1} e^{k_{1} \\left(L_{0} + L_{1}\\right)} + 2 C_{{1}_{0}} L_{1} k_{1} e^{k_{1} \\left(L_{0} + L_{1}\\right)} + \\sqrt{4 C_{{1}_{0}}^{2} L_{0}^{2} k_{1}^{2} e^{2 k_{1} \\left(L_{0} + L_{1}\\right)} - 8 C_{{1}_{0}}^{2} L_{0} L_{1} k_{1}^{2} e^{2 k_{1} \\left(L_{0} + L_{1}\\right)} + 4 C_{{1}_{0}}^{2} L_{1}^{2} k_{1}^{2} e^{2 k_{1} \\left(L_{0} + L_{1}\\right)} - C_{{1}_{0}}^{2} e^{4 L_{0} k_{1}} - C_{{1}_{0}}^{2} e^{4 L_{1} k_{1}} + 2 C_{{1}_{0}}^{2} e^{2 k_{1} \\left(L_{0} + L_{1}\\right)} - 2 k_{1}^{2} e^{2 L_{0} k_{1}} + 2 k_{1}^{2} e^{2 L_{1} k_{1}}}\\right) e^{k_{1} \\left(L_{0} + L_{1}\\right)}}{e^{2 L_{0} k_{1}} - e^{2 L_{1} k_{1}}}$"
      ],
      "text/plain": [
       "Eq(C_{{1}_{1}}, (-2*C_{{1}_{0}}*L_{0}*k_{1}*exp(k_{1}*(L_{0} + L_{1})) + 2*C_{{1}_{0}}*L_{1}*k_{1}*exp(k_{1}*(L_{0} + L_{1})) + sqrt(4*C_{{1}_{0}}**2*L_{0}**2*k_{1}**2*exp(2*k_{1}*(L_{0} + L_{1})) - 8*C_{{1}_{0}}**2*L_{0}*L_{1}*k_{1}**2*exp(2*k_{1}*(L_{0} + L_{1})) + 4*C_{{1}_{0}}**2*L_{1}**2*k_{1}**2*exp(2*k_{1}*(L_{0} + L_{1})) - C_{{1}_{0}}**2*exp(4*L_{0}*k_{1}) - C_{{1}_{0}}**2*exp(4*L_{1}*k_{1}) + 2*C_{{1}_{0}}**2*exp(2*k_{1}*(L_{0} + L_{1})) - 2*k_{1}**2*exp(2*L_{0}*k_{1}) + 2*k_{1}**2*exp(2*L_{1}*k_{1})))*exp(k_{1}*(L_{0} + L_{1}))/(exp(2*L_{0}*k_{1}) - exp(2*L_{1}*k_{1})))"
      ]
     },
     "metadata": {},
     "output_type": "display_data"
    },
    {
     "data": {
      "text/latex": [
       "$\\displaystyle C_{{1}_{1}}^{2} = \\frac{\\left(C_{{1}_{0}}^{2} e^{2 L_{0} k_{1}} - C_{{1}_{0}}^{2} e^{2 L_{1} k_{1}} + 2 k_{1}^{2}\\right) e^{2 k_{1} \\left(L_{0} + L_{1}\\right)}}{e^{2 L_{0} k_{1}} - e^{2 L_{1} k_{1}}}$"
      ],
      "text/plain": [
       "Eq(C_{{1}_{1}}**2, (C_{{1}_{0}}**2*exp(2*L_{0}*k_{1}) - C_{{1}_{0}}**2*exp(2*L_{1}*k_{1}) + 2*k_{1}**2)*exp(2*k_{1}*(L_{0} + L_{1}))/(exp(2*L_{0}*k_{1}) - exp(2*L_{1}*k_{1})))"
      ]
     },
     "metadata": {},
     "output_type": "display_data"
    },
    {
     "data": {
      "text/latex": [
       "$\\displaystyle C_{{2}_{0}} = \\frac{\\left(- 2 C_{{2}_{1}} L_{1} k_{2} e^{k_{2} \\left(L_{1} + L_{2}\\right)} + 2 C_{{2}_{1}} L_{2} k_{2} e^{k_{2} \\left(L_{1} + L_{2}\\right)} - \\sqrt{4 C_{{2}_{1}}^{2} L_{1}^{2} k_{2}^{2} e^{2 k_{2} \\left(L_{1} + L_{2}\\right)} - 8 C_{{2}_{1}}^{2} L_{1} L_{2} k_{2}^{2} e^{2 k_{2} \\left(L_{1} + L_{2}\\right)} + 4 C_{{2}_{1}}^{2} L_{2}^{2} k_{2}^{2} e^{2 k_{2} \\left(L_{1} + L_{2}\\right)} - C_{{2}_{1}}^{2} e^{4 L_{1} k_{2}} - C_{{2}_{1}}^{2} e^{4 L_{2} k_{2}} + 2 C_{{2}_{1}}^{2} e^{2 k_{2} \\left(L_{1} + L_{2}\\right)} + 2 k_{2}^{2} e^{2 k_{2} \\left(L_{1} + 2 L_{2}\\right)} - 2 k_{2}^{2} e^{2 k_{2} \\cdot \\left(2 L_{1} + L_{2}\\right)}}\\right) e^{- k_{2} \\left(L_{1} + L_{2}\\right)}}{e^{2 L_{1} k_{2}} - e^{2 L_{2} k_{2}}}$"
      ],
      "text/plain": [
       "Eq(C_{{2}_{0}}, (-2*C_{{2}_{1}}*L_{1}*k_{2}*exp(k_{2}*(L_{1} + L_{2})) + 2*C_{{2}_{1}}*L_{2}*k_{2}*exp(k_{2}*(L_{1} + L_{2})) - sqrt(4*C_{{2}_{1}}**2*L_{1}**2*k_{2}**2*exp(2*k_{2}*(L_{1} + L_{2})) - 8*C_{{2}_{1}}**2*L_{1}*L_{2}*k_{2}**2*exp(2*k_{2}*(L_{1} + L_{2})) + 4*C_{{2}_{1}}**2*L_{2}**2*k_{2}**2*exp(2*k_{2}*(L_{1} + L_{2})) - C_{{2}_{1}}**2*exp(4*L_{1}*k_{2}) - C_{{2}_{1}}**2*exp(4*L_{2}*k_{2}) + 2*C_{{2}_{1}}**2*exp(2*k_{2}*(L_{1} + L_{2})) + 2*k_{2}**2*exp(2*k_{2}*(L_{1} + 2*L_{2})) - 2*k_{2}**2*exp(2*k_{2}*(2*L_{1} + L_{2}))))*exp(-k_{2}*(L_{1} + L_{2}))/(exp(2*L_{1}*k_{2}) - exp(2*L_{2}*k_{2})))"
      ]
     },
     "metadata": {},
     "output_type": "display_data"
    },
    {
     "data": {
      "text/latex": [
       "$\\displaystyle C_{{2}_{0}} = \\frac{\\left(- 2 C_{{2}_{1}} L_{1} k_{2} e^{k_{2} \\left(L_{1} + L_{2}\\right)} + 2 C_{{2}_{1}} L_{2} k_{2} e^{k_{2} \\left(L_{1} + L_{2}\\right)} + \\sqrt{4 C_{{2}_{1}}^{2} L_{1}^{2} k_{2}^{2} e^{2 k_{2} \\left(L_{1} + L_{2}\\right)} - 8 C_{{2}_{1}}^{2} L_{1} L_{2} k_{2}^{2} e^{2 k_{2} \\left(L_{1} + L_{2}\\right)} + 4 C_{{2}_{1}}^{2} L_{2}^{2} k_{2}^{2} e^{2 k_{2} \\left(L_{1} + L_{2}\\right)} - C_{{2}_{1}}^{2} e^{4 L_{1} k_{2}} - C_{{2}_{1}}^{2} e^{4 L_{2} k_{2}} + 2 C_{{2}_{1}}^{2} e^{2 k_{2} \\left(L_{1} + L_{2}\\right)} + 2 k_{2}^{2} e^{2 k_{2} \\left(L_{1} + 2 L_{2}\\right)} - 2 k_{2}^{2} e^{2 k_{2} \\cdot \\left(2 L_{1} + L_{2}\\right)}}\\right) e^{- k_{2} \\left(L_{1} + L_{2}\\right)}}{e^{2 L_{1} k_{2}} - e^{2 L_{2} k_{2}}}$"
      ],
      "text/plain": [
       "Eq(C_{{2}_{0}}, (-2*C_{{2}_{1}}*L_{1}*k_{2}*exp(k_{2}*(L_{1} + L_{2})) + 2*C_{{2}_{1}}*L_{2}*k_{2}*exp(k_{2}*(L_{1} + L_{2})) + sqrt(4*C_{{2}_{1}}**2*L_{1}**2*k_{2}**2*exp(2*k_{2}*(L_{1} + L_{2})) - 8*C_{{2}_{1}}**2*L_{1}*L_{2}*k_{2}**2*exp(2*k_{2}*(L_{1} + L_{2})) + 4*C_{{2}_{1}}**2*L_{2}**2*k_{2}**2*exp(2*k_{2}*(L_{1} + L_{2})) - C_{{2}_{1}}**2*exp(4*L_{1}*k_{2}) - C_{{2}_{1}}**2*exp(4*L_{2}*k_{2}) + 2*C_{{2}_{1}}**2*exp(2*k_{2}*(L_{1} + L_{2})) + 2*k_{2}**2*exp(2*k_{2}*(L_{1} + 2*L_{2})) - 2*k_{2}**2*exp(2*k_{2}*(2*L_{1} + L_{2}))))*exp(-k_{2}*(L_{1} + L_{2}))/(exp(2*L_{1}*k_{2}) - exp(2*L_{2}*k_{2})))"
      ]
     },
     "metadata": {},
     "output_type": "display_data"
    },
    {
     "data": {
      "text/latex": [
       "$\\displaystyle C_{{2}_{0}}^{2} = \\frac{\\left(C_{{2}_{1}}^{2} e^{2 L_{1} k_{2}} - C_{{2}_{1}}^{2} e^{2 L_{2} k_{2}} + 2 k_{2}^{2} e^{2 k_{2} \\left(L_{1} + L_{2}\\right)}\\right) e^{- 2 k_{2} \\left(L_{1} + L_{2}\\right)}}{e^{2 L_{1} k_{2}} - e^{2 L_{2} k_{2}}}$"
      ],
      "text/plain": [
       "Eq(C_{{2}_{0}}**2, (C_{{2}_{1}}**2*exp(2*L_{1}*k_{2}) - C_{{2}_{1}}**2*exp(2*L_{2}*k_{2}) + 2*k_{2}**2*exp(2*k_{2}*(L_{1} + L_{2})))*exp(-2*k_{2}*(L_{1} + L_{2}))/(exp(2*L_{1}*k_{2}) - exp(2*L_{2}*k_{2})))"
      ]
     },
     "metadata": {},
     "output_type": "display_data"
    },
    {
     "data": {
      "text/latex": [
       "$\\displaystyle C_{{2}_{1}} = \\frac{\\left(- 2 C_{{2}_{0}} L_{1} k_{2} e^{k_{2} \\left(L_{1} + L_{2}\\right)} + 2 C_{{2}_{0}} L_{2} k_{2} e^{k_{2} \\left(L_{1} + L_{2}\\right)} - \\sqrt{4 C_{{2}_{0}}^{2} L_{1}^{2} k_{2}^{2} e^{2 k_{2} \\left(L_{1} + L_{2}\\right)} - 8 C_{{2}_{0}}^{2} L_{1} L_{2} k_{2}^{2} e^{2 k_{2} \\left(L_{1} + L_{2}\\right)} + 4 C_{{2}_{0}}^{2} L_{2}^{2} k_{2}^{2} e^{2 k_{2} \\left(L_{1} + L_{2}\\right)} - C_{{2}_{0}}^{2} e^{4 L_{1} k_{2}} - C_{{2}_{0}}^{2} e^{4 L_{2} k_{2}} + 2 C_{{2}_{0}}^{2} e^{2 k_{2} \\left(L_{1} + L_{2}\\right)} - 2 k_{2}^{2} e^{2 L_{1} k_{2}} + 2 k_{2}^{2} e^{2 L_{2} k_{2}}}\\right) e^{k_{2} \\left(L_{1} + L_{2}\\right)}}{e^{2 L_{1} k_{2}} - e^{2 L_{2} k_{2}}}$"
      ],
      "text/plain": [
       "Eq(C_{{2}_{1}}, (-2*C_{{2}_{0}}*L_{1}*k_{2}*exp(k_{2}*(L_{1} + L_{2})) + 2*C_{{2}_{0}}*L_{2}*k_{2}*exp(k_{2}*(L_{1} + L_{2})) - sqrt(4*C_{{2}_{0}}**2*L_{1}**2*k_{2}**2*exp(2*k_{2}*(L_{1} + L_{2})) - 8*C_{{2}_{0}}**2*L_{1}*L_{2}*k_{2}**2*exp(2*k_{2}*(L_{1} + L_{2})) + 4*C_{{2}_{0}}**2*L_{2}**2*k_{2}**2*exp(2*k_{2}*(L_{1} + L_{2})) - C_{{2}_{0}}**2*exp(4*L_{1}*k_{2}) - C_{{2}_{0}}**2*exp(4*L_{2}*k_{2}) + 2*C_{{2}_{0}}**2*exp(2*k_{2}*(L_{1} + L_{2})) - 2*k_{2}**2*exp(2*L_{1}*k_{2}) + 2*k_{2}**2*exp(2*L_{2}*k_{2})))*exp(k_{2}*(L_{1} + L_{2}))/(exp(2*L_{1}*k_{2}) - exp(2*L_{2}*k_{2})))"
      ]
     },
     "metadata": {},
     "output_type": "display_data"
    },
    {
     "data": {
      "text/latex": [
       "$\\displaystyle C_{{2}_{1}} = \\frac{\\left(- 2 C_{{2}_{0}} L_{1} k_{2} e^{k_{2} \\left(L_{1} + L_{2}\\right)} + 2 C_{{2}_{0}} L_{2} k_{2} e^{k_{2} \\left(L_{1} + L_{2}\\right)} + \\sqrt{4 C_{{2}_{0}}^{2} L_{1}^{2} k_{2}^{2} e^{2 k_{2} \\left(L_{1} + L_{2}\\right)} - 8 C_{{2}_{0}}^{2} L_{1} L_{2} k_{2}^{2} e^{2 k_{2} \\left(L_{1} + L_{2}\\right)} + 4 C_{{2}_{0}}^{2} L_{2}^{2} k_{2}^{2} e^{2 k_{2} \\left(L_{1} + L_{2}\\right)} - C_{{2}_{0}}^{2} e^{4 L_{1} k_{2}} - C_{{2}_{0}}^{2} e^{4 L_{2} k_{2}} + 2 C_{{2}_{0}}^{2} e^{2 k_{2} \\left(L_{1} + L_{2}\\right)} - 2 k_{2}^{2} e^{2 L_{1} k_{2}} + 2 k_{2}^{2} e^{2 L_{2} k_{2}}}\\right) e^{k_{2} \\left(L_{1} + L_{2}\\right)}}{e^{2 L_{1} k_{2}} - e^{2 L_{2} k_{2}}}$"
      ],
      "text/plain": [
       "Eq(C_{{2}_{1}}, (-2*C_{{2}_{0}}*L_{1}*k_{2}*exp(k_{2}*(L_{1} + L_{2})) + 2*C_{{2}_{0}}*L_{2}*k_{2}*exp(k_{2}*(L_{1} + L_{2})) + sqrt(4*C_{{2}_{0}}**2*L_{1}**2*k_{2}**2*exp(2*k_{2}*(L_{1} + L_{2})) - 8*C_{{2}_{0}}**2*L_{1}*L_{2}*k_{2}**2*exp(2*k_{2}*(L_{1} + L_{2})) + 4*C_{{2}_{0}}**2*L_{2}**2*k_{2}**2*exp(2*k_{2}*(L_{1} + L_{2})) - C_{{2}_{0}}**2*exp(4*L_{1}*k_{2}) - C_{{2}_{0}}**2*exp(4*L_{2}*k_{2}) + 2*C_{{2}_{0}}**2*exp(2*k_{2}*(L_{1} + L_{2})) - 2*k_{2}**2*exp(2*L_{1}*k_{2}) + 2*k_{2}**2*exp(2*L_{2}*k_{2})))*exp(k_{2}*(L_{1} + L_{2}))/(exp(2*L_{1}*k_{2}) - exp(2*L_{2}*k_{2})))"
      ]
     },
     "metadata": {},
     "output_type": "display_data"
    },
    {
     "data": {
      "text/latex": [
       "$\\displaystyle C_{{2}_{1}}^{2} = \\frac{\\left(C_{{2}_{0}}^{2} e^{2 L_{1} k_{2}} - C_{{2}_{0}}^{2} e^{2 L_{2} k_{2}} + 2 k_{2}^{2}\\right) e^{2 k_{2} \\left(L_{1} + L_{2}\\right)}}{e^{2 L_{1} k_{2}} - e^{2 L_{2} k_{2}}}$"
      ],
      "text/plain": [
       "Eq(C_{{2}_{1}}**2, (C_{{2}_{0}}**2*exp(2*L_{1}*k_{2}) - C_{{2}_{0}}**2*exp(2*L_{2}*k_{2}) + 2*k_{2}**2)*exp(2*k_{2}*(L_{1} + L_{2}))/(exp(2*L_{1}*k_{2}) - exp(2*L_{2}*k_{2})))"
      ]
     },
     "metadata": {},
     "output_type": "display_data"
    }
   ],
   "source": [
    "display_differentiation_constant_solutions(symbols, solutions_from_normalizations)"
   ]
  },
  {
   "cell_type": "code",
   "execution_count": null,
   "id": "3c3394cf-8811-4e02-9f8c-f41190958dad",
   "metadata": {},
   "outputs": [],
   "source": []
  },
  {
   "cell_type": "code",
   "execution_count": 37,
   "id": "0f79473e-8965-453e-aa8b-ef44d382fd91",
   "metadata": {},
   "outputs": [],
   "source": [
    "def constants(symbols : list):\n",
    "    if symbols[0][INDEX] > 0:\n",
    "        denomonator = sp.exp(2 * symbols[0][LENGTH] * symbols[1][HARMONIC]) \\\n",
    "                - sp.exp(2 * symbols[1][LENGTH] * symbols[1][HARMONIC])\n",
    "        c_0_0 = symbols[0][BOUNDRY_CONSTANTS] * sp.exp(symbols[0][LENGTH] * symbols[1][HARMONIC]) / denomonator\n",
    "        c_0_1 = symbols[1][BOUNDRY_CONSTANTS] * sp.exp(symbols[1][LENGTH] * symbols[1][HARMONIC]) / denomonator\n",
    "        c_1_0 = symbols[0][BOUNDRY_CONSTANTS] \\\n",
    "                * sp.exp(symbols[0][LENGTH] * symbols[1][HARMONIC]) \\\n",
    "                * sp.exp(2 * symbols[1][LENGTH] * symbols[1][HARMONIC]) \\\n",
    "                / denomonator\n",
    "        c_1_1 = symbols[1][BOUNDRY_CONSTANTS] \\\n",
    "                * sp.exp(2 * symbols[0][LENGTH] * symbols[1][HARMONIC]) \\\n",
    "                * sp.exp(symbols[1][LENGTH] * symbols[1][HARMONIC]) \\\n",
    "                / denomonator\n",
    "        return (c_0_0, -c_0_1), (c_1_0, c_1_1)\n",
    "    elif symbols[0][INDEX] == 0 and symbols[1][INDEX] == 2:\n",
    "        denomonator = sp.exp(2 * symbols[0][LENGTH] * symbols[0][HARMONIC]) - 1\n",
    "        c_0_0 = symbols[0][BOUNDRY_CONSTANTS] * sp.exp(symbols[0][LENGTH] * symbols[0][HARMONIC])\n",
    "        c_0_1 = symbols[1][BOUNDRY_CONSTANTS] * sp.exp(2 * symbols[0][LENGTH] * symbols[0][HARMONIC])\n",
    "        c_1_0 = symbols[1][BOUNDRY_CONSTANTS] * sp.exp(2 * symbols[0][LENGTH] * symbols[0][HARMONIC])\n",
    "        "
   ]
  },
  {
   "cell_type": "code",
   "execution_count": null,
   "id": "6940f623-6509-413a-b633-60c0e50002cf",
   "metadata": {},
   "outputs": [],
   "source": []
  },
  {
   "cell_type": "code",
   "execution_count": 38,
   "id": "3648f82e-74f8-4361-9298-56ea95315c1d",
   "metadata": {},
   "outputs": [],
   "source": [
    "def generate_uniform_case( constants, equation_index, lower_index_bound = 0 ):\n",
    "    pass"
   ]
  },
  {
   "cell_type": "code",
   "execution_count": 39,
   "id": "903a8404-3063-48d2-8c38-6b617b8ea197",
   "metadata": {},
   "outputs": [
    {
     "ename": "TypeError",
     "evalue": "cannot unpack non-iterable NoneType object",
     "output_type": "error",
     "traceback": [
      "\u001b[0;31m---------------------------------------------------------------------------\u001b[0m",
      "\u001b[0;31mTypeError\u001b[0m                                 Traceback (most recent call last)",
      "Input \u001b[0;32mIn [39]\u001b[0m, in \u001b[0;36m<cell line: 1>\u001b[0;34m()\u001b[0m\n\u001b[0;32m----> 1\u001b[0m a, b \u001b[38;5;241m=\u001b[39m constants([arbitrary_symbols_for(\u001b[38;5;241m0\u001b[39m), arbitrary_symbols_for(\u001b[38;5;241m2\u001b[39m)])\n",
      "\u001b[0;31mTypeError\u001b[0m: cannot unpack non-iterable NoneType object"
     ]
    }
   ],
   "source": [
    "a, b = constants([arbitrary_symbols_for(0), arbitrary_symbols_for(2)])"
   ]
  },
  {
   "cell_type": "code",
   "execution_count": null,
   "id": "89de5174-55c8-4284-9461-afa1b0abbbd7",
   "metadata": {},
   "outputs": [],
   "source": []
  },
  {
   "cell_type": "code",
   "execution_count": 40,
   "id": "e30ee691-7ac6-49a6-b77d-5ad7b65c93cc",
   "metadata": {},
   "outputs": [
    {
     "data": {
      "text/latex": [
       "$\\displaystyle \\frac{B_{{0}_{0}} e^{L_{0} k_{2}}}{e^{2 L_{0} k_{2}} - e^{2 L_{2} k_{2}}} - \\frac{B_{{2}_{0}} e^{L_{2} k_{2}}}{e^{2 L_{0} k_{2}} - e^{2 L_{2} k_{2}}}$"
      ],
      "text/plain": [
       "B_{{0}_{0}}*exp(L_{0}*k_{2})/(exp(2*L_{0}*k_{2}) - exp(2*L_{2}*k_{2})) - B_{{2}_{0}}*exp(L_{2}*k_{2})/(exp(2*L_{0}*k_{2}) - exp(2*L_{2}*k_{2}))"
      ]
     },
     "execution_count": 40,
     "metadata": {},
     "output_type": "execute_result"
    }
   ],
   "source": [
    "a[0] + a[1]"
   ]
  },
  {
   "cell_type": "code",
   "execution_count": 41,
   "id": "8b6597dd-88dd-4b33-b049-1544fbaef7cf",
   "metadata": {},
   "outputs": [
    {
     "data": {
      "text/latex": [
       "$\\displaystyle \\frac{B_{{0}_{0}} e^{L_{0} k_{2}} e^{2 L_{2} k_{2}}}{e^{2 L_{0} k_{2}} - e^{2 L_{2} k_{2}}} + \\frac{B_{{2}_{0}} e^{2 L_{0} k_{2}} e^{L_{2} k_{2}}}{e^{2 L_{0} k_{2}} - e^{2 L_{2} k_{2}}}$"
      ],
      "text/plain": [
       "B_{{0}_{0}}*exp(L_{0}*k_{2})*exp(2*L_{2}*k_{2})/(exp(2*L_{0}*k_{2}) - exp(2*L_{2}*k_{2})) + B_{{2}_{0}}*exp(2*L_{0}*k_{2})*exp(L_{2}*k_{2})/(exp(2*L_{0}*k_{2}) - exp(2*L_{2}*k_{2}))"
      ]
     },
     "execution_count": 41,
     "metadata": {},
     "output_type": "execute_result"
    }
   ],
   "source": [
    "b[0] + b[1]"
   ]
  },
  {
   "cell_type": "code",
   "execution_count": null,
   "id": "f0e82d18-23d1-4f20-9093-84706dad4162",
   "metadata": {},
   "outputs": [],
   "source": []
  },
  {
   "cell_type": "code",
   "execution_count": null,
   "id": "1dfb2691-ece1-4dec-a4bc-705c97b9c85a",
   "metadata": {},
   "outputs": [],
   "source": []
  },
  {
   "cell_type": "code",
   "execution_count": null,
   "id": "fc8cacf3-6349-468b-8a5f-437466e424cf",
   "metadata": {},
   "outputs": [],
   "source": []
  },
  {
   "cell_type": "code",
   "execution_count": 30,
   "id": "d3034195-0a35-427e-9671-373f9466fd74",
   "metadata": {},
   "outputs": [],
   "source": [
    "c, d = constants([arbitrary_symbols_for(0), arbitrary_symbols_for(1)])"
   ]
  },
  {
   "cell_type": "code",
   "execution_count": 31,
   "id": "839a6ce8-9fcc-4347-8f52-c247156e9287",
   "metadata": {},
   "outputs": [
    {
     "data": {
      "text/latex": [
       "$\\displaystyle \\frac{B_{{0}_{0}} e^{L_{0} k_{1}}}{e^{2 L_{0} k_{1}} - e^{2 L_{1} k_{1}}} - \\frac{B_{{1}_{0}} e^{L_{1} k_{1}}}{e^{2 L_{0} k_{1}} - e^{2 L_{1} k_{1}}}$"
      ],
      "text/plain": [
       "B_{{0}_{0}}*exp(L_{0}*k_{1})/(exp(2*L_{0}*k_{1}) - exp(2*L_{1}*k_{1})) - B_{{1}_{0}}*exp(L_{1}*k_{1})/(exp(2*L_{0}*k_{1}) - exp(2*L_{1}*k_{1}))"
      ]
     },
     "execution_count": 31,
     "metadata": {},
     "output_type": "execute_result"
    }
   ],
   "source": [
    "c[0] + c[1]"
   ]
  },
  {
   "cell_type": "code",
   "execution_count": 32,
   "id": "6713ff6c-d0c8-47ce-955e-5e677e6069ef",
   "metadata": {},
   "outputs": [
    {
     "data": {
      "text/latex": [
       "$\\displaystyle \\frac{B_{{0}_{0}} e^{L_{0} k_{1}} e^{2 L_{1} k_{1}}}{e^{2 L_{0} k_{1}} - e^{2 L_{1} k_{1}}} + \\frac{B_{{1}_{0}} e^{2 L_{0} k_{1}} e^{L_{1} k_{1}}}{e^{2 L_{0} k_{1}} - e^{2 L_{1} k_{1}}}$"
      ],
      "text/plain": [
       "B_{{0}_{0}}*exp(L_{0}*k_{1})*exp(2*L_{1}*k_{1})/(exp(2*L_{0}*k_{1}) - exp(2*L_{1}*k_{1})) + B_{{1}_{0}}*exp(2*L_{0}*k_{1})*exp(L_{1}*k_{1})/(exp(2*L_{0}*k_{1}) - exp(2*L_{1}*k_{1}))"
      ]
     },
     "execution_count": 32,
     "metadata": {},
     "output_type": "execute_result"
    }
   ],
   "source": [
    "d[0] + d[1]"
   ]
  },
  {
   "cell_type": "code",
   "execution_count": null,
   "id": "148f987d-0273-4b4b-bfef-919f3f15f925",
   "metadata": {},
   "outputs": [],
   "source": []
  },
  {
   "cell_type": "code",
   "execution_count": 26,
   "id": "9f0475c8-d5ab-4055-8f5c-3fc2e625f54b",
   "metadata": {},
   "outputs": [],
   "source": [
    "e, f = constants([arbitrary_symbols_for(1), arbitrary_symbols_for(2)])"
   ]
  },
  {
   "cell_type": "code",
   "execution_count": null,
   "id": "40ed3e66-bf00-46ff-92ca-76906e7075af",
   "metadata": {},
   "outputs": [],
   "source": []
  },
  {
   "cell_type": "code",
   "execution_count": 28,
   "id": "991693df-4a8a-4641-bae4-bea84d77429b",
   "metadata": {},
   "outputs": [
    {
     "data": {
      "text/latex": [
       "$\\displaystyle \\frac{B_{{1}_{0}} e^{L_{1} k_{2}}}{e^{2 L_{1} k_{2}} - e^{2 L_{2} k_{2}}} - \\frac{B_{{2}_{0}} e^{L_{2} k_{2}}}{e^{2 L_{1} k_{2}} - e^{2 L_{2} k_{2}}}$"
      ],
      "text/plain": [
       "B_{{1}_{0}}*exp(L_{1}*k_{2})/(exp(2*L_{1}*k_{2}) - exp(2*L_{2}*k_{2})) - B_{{2}_{0}}*exp(L_{2}*k_{2})/(exp(2*L_{1}*k_{2}) - exp(2*L_{2}*k_{2}))"
      ]
     },
     "execution_count": 28,
     "metadata": {},
     "output_type": "execute_result"
    }
   ],
   "source": [
    "e[0] + e[1]"
   ]
  },
  {
   "cell_type": "code",
   "execution_count": 29,
   "id": "28fd357a-965c-4873-90eb-3ed6524bd60c",
   "metadata": {},
   "outputs": [
    {
     "data": {
      "text/latex": [
       "$\\displaystyle \\frac{B_{{1}_{0}} e^{L_{1} k_{2}} e^{2 L_{2} k_{2}}}{e^{2 L_{1} k_{2}} - e^{2 L_{2} k_{2}}} + \\frac{B_{{2}_{0}} e^{2 L_{1} k_{2}} e^{L_{2} k_{2}}}{e^{2 L_{1} k_{2}} - e^{2 L_{2} k_{2}}}$"
      ],
      "text/plain": [
       "B_{{1}_{0}}*exp(L_{1}*k_{2})*exp(2*L_{2}*k_{2})/(exp(2*L_{1}*k_{2}) - exp(2*L_{2}*k_{2})) + B_{{2}_{0}}*exp(2*L_{1}*k_{2})*exp(L_{2}*k_{2})/(exp(2*L_{1}*k_{2}) - exp(2*L_{2}*k_{2}))"
      ]
     },
     "execution_count": 29,
     "metadata": {},
     "output_type": "execute_result"
    }
   ],
   "source": [
    "f[0] + f[1]"
   ]
  },
  {
   "cell_type": "code",
   "execution_count": null,
   "id": "9275fecd-e5d9-4bac-89e5-a1e38f98cd5a",
   "metadata": {},
   "outputs": [],
   "source": []
  }
 ],
 "metadata": {
  "kernelspec": {
   "display_name": "Python 3 (ipykernel)",
   "language": "python",
   "name": "python3"
  },
  "language_info": {
   "codemirror_mode": {
    "name": "ipython",
    "version": 3
   },
   "file_extension": ".py",
   "mimetype": "text/x-python",
   "name": "python",
   "nbconvert_exporter": "python",
   "pygments_lexer": "ipython3",
   "version": "3.10.4"
  }
 },
 "nbformat": 4,
 "nbformat_minor": 5
}
