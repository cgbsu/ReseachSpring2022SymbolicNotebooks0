{
 "cells": [
  {
   "cell_type": "code",
   "execution_count": 1,
   "id": "9da4ca07-5038-40fc-b597-27be53769384",
   "metadata": {},
   "outputs": [],
   "source": [
    "import sympy as sp"
   ]
  },
  {
   "cell_type": "code",
   "execution_count": 2,
   "id": "bbd2fd19-a4e7-44c8-ba72-b83d5ae065ea",
   "metadata": {},
   "outputs": [],
   "source": [
    "import sympy.physics.units.quantities as sq"
   ]
  },
  {
   "cell_type": "code",
   "execution_count": 3,
   "id": "3b8c39ff-3668-4ef3-9add-b334784a3333",
   "metadata": {},
   "outputs": [],
   "source": [
    "from sympy.physics.quantum.constants import hbar"
   ]
  },
  {
   "cell_type": "code",
   "execution_count": null,
   "id": "75e40f13-aa6e-41d1-9ced-7a90df52a98e",
   "metadata": {},
   "outputs": [],
   "source": []
  },
  {
   "cell_type": "code",
   "execution_count": 4,
   "id": "82f14997-b75d-4dd8-baf6-d565f0b12bd1",
   "metadata": {},
   "outputs": [],
   "source": [
    "from custom_libraries.stepper import *"
   ]
  },
  {
   "cell_type": "code",
   "execution_count": 5,
   "id": "100adb60-1868-493c-bbe9-9b2dd1bf5af6",
   "metadata": {},
   "outputs": [],
   "source": [
    "from custom_libraries.schrodinger import *"
   ]
  },
  {
   "cell_type": "code",
   "execution_count": 6,
   "id": "4d10ab16-1b4f-402a-bcd5-8029292865bc",
   "metadata": {},
   "outputs": [],
   "source": [
    "from custom_libraries.utilities import *"
   ]
  },
  {
   "cell_type": "code",
   "execution_count": null,
   "id": "95748091-3fe2-45a3-beaa-0e56ac4e61f9",
   "metadata": {},
   "outputs": [],
   "source": []
  },
  {
   "cell_type": "code",
   "execution_count": 7,
   "id": "151680e1-cc8c-4f02-9fbc-32cb1b19f56f",
   "metadata": {},
   "outputs": [],
   "source": [
    "def real_harmonics( _ ):\n",
    "    assumptions = standard_harmonic_assumptions( _ );\n",
    "    assumptions.update( { 'real' : True } )\n",
    "    return assumptions"
   ]
  },
  {
   "cell_type": "code",
   "execution_count": null,
   "id": "20bc043c-2168-45b2-b95d-32fcdb201da9",
   "metadata": {},
   "outputs": [],
   "source": []
  },
  {
   "cell_type": "code",
   "execution_count": 8,
   "id": "8984696f-ac0b-4d68-8f5f-036778be011f",
   "metadata": {},
   "outputs": [],
   "source": [
    "stairwell_solver = TimeIndependentSchrodingerConstantPotentials1D( \n",
    "        StairWell.default_non_uniform_length_potential_table(), \n",
    "        tuple( StairWell.default_non_uniform_length_potential_table().keys() )[ -1 ], \n",
    "        make_psis = make_psi_numbered, \n",
    "        harmonics_assumptions = real_harmonics, \n",
    "        repeating = False, \n",
    "        as_distances = True, \n",
    "        #as_distances = False, \n",
    "        #normalization_conjugate_not_squared_absolute_value = False\n",
    "    )"
   ]
  },
  {
   "cell_type": "code",
   "execution_count": null,
   "id": "2e946e04-0121-448e-8269-4e69ba4e1c28",
   "metadata": {},
   "outputs": [],
   "source": []
  },
  {
   "cell_type": "code",
   "execution_count": 9,
   "id": "012de83f-543a-49d4-b421-ff2d2400121d",
   "metadata": {},
   "outputs": [
    {
     "data": {
      "text/plain": [
       "(('BoundryZeroConditions', {\\psi_{0}(0): 0, \\psi_{2}(L_2): 0}),\n",
       " ('BoundryZeroConditions', {\\psi_{0}(0): 0, \\psi_{2}(L_2): 0}))"
      ]
     },
     "execution_count": 9,
     "metadata": {},
     "output_type": "execute_result"
    }
   ],
   "source": [
    "stairwell_solver.impose_zero_conditions_to_ends()"
   ]
  },
  {
   "cell_type": "code",
   "execution_count": null,
   "id": "78798fb3-fd83-40b7-9180-c8da0dbe588e",
   "metadata": {},
   "outputs": [],
   "source": []
  },
  {
   "cell_type": "code",
   "execution_count": 10,
   "id": "bc51b09a-c161-4008-b763-81f71b487841",
   "metadata": {},
   "outputs": [
    {
     "data": {
      "text/latex": [
       "$\\displaystyle - k_{0}^{2} \\psi_{0}{\\left(x \\right)} + \\frac{d^{2}}{d x^{2}} \\psi_{0}{\\left(x \\right)} = 0$"
      ],
      "text/plain": [
       "Eq(-k_0**2*\\psi_{0}(x) + Derivative(\\psi_{0}(x), (x, 2)), 0)"
      ]
     },
     "metadata": {},
     "output_type": "display_data"
    },
    {
     "data": {
      "text/latex": [
       "$\\displaystyle - k_{1}^{2} \\psi_{1}{\\left(x \\right)} + \\frac{d^{2}}{d x^{2}} \\psi_{1}{\\left(x \\right)} = 0$"
      ],
      "text/plain": [
       "Eq(-k_1**2*\\psi_{1}(x) + Derivative(\\psi_{1}(x), (x, 2)), 0)"
      ]
     },
     "metadata": {},
     "output_type": "display_data"
    },
    {
     "data": {
      "text/latex": [
       "$\\displaystyle - k_{2}^{2} \\psi_{2}{\\left(x \\right)} + \\frac{d^{2}}{d x^{2}} \\psi_{2}{\\left(x \\right)} = 0$"
      ],
      "text/plain": [
       "Eq(-k_2**2*\\psi_{2}(x) + Derivative(\\psi_{2}(x), (x, 2)), 0)"
      ]
     },
     "metadata": {},
     "output_type": "display_data"
    }
   ],
   "source": [
    "display_steps( stairwell_solver.equations )"
   ]
  },
  {
   "cell_type": "code",
   "execution_count": null,
   "id": "a0757648-d8b4-4a28-b351-221f4830ff75",
   "metadata": {},
   "outputs": [],
   "source": []
  },
  {
   "cell_type": "code",
   "execution_count": 11,
   "id": "28d85323-24e4-49cb-93e6-54953e6104c7",
   "metadata": {},
   "outputs": [
    {
     "data": {
      "text/latex": [
       "$\\displaystyle k_{0} = \\frac{\\sqrt{2} \\sqrt{- E + V_{0}} \\sqrt{\\text{m}}}{\\hbar}$"
      ],
      "text/plain": [
       "Eq(k_0, sqrt(2)*sqrt(m)*sqrt(-E + V_0)/hbar)"
      ]
     },
     "metadata": {},
     "output_type": "display_data"
    },
    {
     "data": {
      "text/latex": [
       "$\\displaystyle k_{1} = \\frac{\\sqrt{2} \\sqrt{- E + V_{1}} \\sqrt{\\text{m}}}{\\hbar}$"
      ],
      "text/plain": [
       "Eq(k_1, sqrt(2)*sqrt(m)*sqrt(-E + V_1)/hbar)"
      ]
     },
     "metadata": {},
     "output_type": "display_data"
    },
    {
     "data": {
      "text/latex": [
       "$\\displaystyle k_{2} = \\frac{\\sqrt{2} \\sqrt{- E + V_{2}} \\sqrt{\\text{m}}}{\\hbar}$"
      ],
      "text/plain": [
       "Eq(k_2, sqrt(2)*sqrt(m)*sqrt(-E + V_2)/hbar)"
      ]
     },
     "metadata": {},
     "output_type": "display_data"
    }
   ],
   "source": [
    "display_in( stairwell_solver.harmonic_constants )"
   ]
  },
  {
   "cell_type": "code",
   "execution_count": 12,
   "id": "20f53166-87ec-4057-932d-5b0947a3427b",
   "metadata": {},
   "outputs": [
    {
     "data": {
      "text/plain": [
       "{'ContinuityConditions': {\\psi_{0}(L_0): \\psi_{1}(0),\n",
       "  \\psi_{1}(L_1): \\psi_{2}(0)},\n",
       " 'BoundryZeroConditions': {\\psi_{0}(0): 0, \\psi_{2}(L_2): 0}}"
      ]
     },
     "execution_count": 12,
     "metadata": {},
     "output_type": "execute_result"
    }
   ],
   "source": [
    "stairwell_solver.boundries.boundries"
   ]
  },
  {
   "cell_type": "code",
   "execution_count": 13,
   "id": "9fe5cbdc-ea5a-4ca1-a54f-a70e30069bec",
   "metadata": {},
   "outputs": [
    {
     "data": {
      "text/plain": [
       "{\\psi_{0}(L_0): \\psi_{1}(0), \\psi_{1}(L_1): \\psi_{2}(0)}"
      ]
     },
     "execution_count": 13,
     "metadata": {},
     "output_type": "execute_result"
    }
   ],
   "source": [
    "stairwell_solver.boundries.ContinuityConditions"
   ]
  },
  {
   "cell_type": "code",
   "execution_count": null,
   "id": "1cee42e4-0490-4850-b52f-3b6b9547e3f1",
   "metadata": {},
   "outputs": [],
   "source": []
  },
  {
   "cell_type": "code",
   "execution_count": 14,
   "id": "d78132f8-2d0a-438c-a94d-3c5d1b79786d",
   "metadata": {},
   "outputs": [
    {
     "data": {
      "text/plain": [
       "{\\psi_{0}(0): 0, \\psi_{2}(L_2): 0}"
      ]
     },
     "execution_count": 14,
     "metadata": {},
     "output_type": "execute_result"
    }
   ],
   "source": [
    "stairwell_solver.boundries.BoundryZeroConditions"
   ]
  },
  {
   "cell_type": "code",
   "execution_count": null,
   "id": "519623f3-e044-4ce4-89ce-0bf045971c69",
   "metadata": {},
   "outputs": [],
   "source": []
  },
  {
   "cell_type": "code",
   "execution_count": 15,
   "id": "bad0d660-061c-4402-af40-79303da747d0",
   "metadata": {},
   "outputs": [
    {
     "data": {
      "text/plain": [
       "('LastUpdatedAllBoundryConditions',\n",
       " {\\psi_{0}(L_0): \\psi_{1}(0),\n",
       "  \\psi_{1}(L_1): \\psi_{2}(0),\n",
       "  \\psi_{0}(0): 0,\n",
       "  \\psi_{2}(L_2): 0})"
      ]
     },
     "execution_count": 15,
     "metadata": {},
     "output_type": "execute_result"
    }
   ],
   "source": [
    "stairwell_solver.boundries.update_all_boundry_conditions()"
   ]
  },
  {
   "cell_type": "code",
   "execution_count": null,
   "id": "7da0e1b5-1c97-4329-bd28-5b9447f76641",
   "metadata": {},
   "outputs": [],
   "source": []
  },
  {
   "cell_type": "code",
   "execution_count": 16,
   "id": "03f1960a-88b6-4ef2-9101-fb89a936000a",
   "metadata": {},
   "outputs": [
    {
     "data": {
      "text/plain": [
       "'ContinuityConditions'"
      ]
     },
     "metadata": {},
     "output_type": "display_data"
    },
    {
     "data": {
      "text/latex": [
       "$\\displaystyle \\psi_{0}{\\left(L_{0} \\right)} = \\psi_{1}{\\left(0 \\right)}$"
      ],
      "text/plain": [
       "Eq(\\psi_{0}(L_0), \\psi_{1}(0))"
      ]
     },
     "metadata": {},
     "output_type": "display_data"
    },
    {
     "data": {
      "text/latex": [
       "$\\displaystyle \\psi_{1}{\\left(L_{1} \\right)} = \\psi_{2}{\\left(0 \\right)}$"
      ],
      "text/plain": [
       "Eq(\\psi_{1}(L_1), \\psi_{2}(0))"
      ]
     },
     "metadata": {},
     "output_type": "display_data"
    },
    {
     "data": {
      "text/plain": [
       "'BoundryZeroConditions'"
      ]
     },
     "metadata": {},
     "output_type": "display_data"
    },
    {
     "data": {
      "text/latex": [
       "$\\displaystyle \\psi_{0}{\\left(0 \\right)} = 0$"
      ],
      "text/plain": [
       "Eq(\\psi_{0}(0), 0)"
      ]
     },
     "metadata": {},
     "output_type": "display_data"
    },
    {
     "data": {
      "text/latex": [
       "$\\displaystyle \\psi_{2}{\\left(L_{2} \\right)} = 0$"
      ],
      "text/plain": [
       "Eq(\\psi_{2}(L_2), 0)"
      ]
     },
     "metadata": {},
     "output_type": "display_data"
    },
    {
     "data": {
      "text/plain": [
       "'LastUpdatedAllBoundryConditions'"
      ]
     },
     "metadata": {},
     "output_type": "display_data"
    },
    {
     "data": {
      "text/latex": [
       "$\\displaystyle \\psi_{0}{\\left(L_{0} \\right)} = \\psi_{1}{\\left(0 \\right)}$"
      ],
      "text/plain": [
       "Eq(\\psi_{0}(L_0), \\psi_{1}(0))"
      ]
     },
     "metadata": {},
     "output_type": "display_data"
    },
    {
     "data": {
      "text/latex": [
       "$\\displaystyle \\psi_{1}{\\left(L_{1} \\right)} = \\psi_{2}{\\left(0 \\right)}$"
      ],
      "text/plain": [
       "Eq(\\psi_{1}(L_1), \\psi_{2}(0))"
      ]
     },
     "metadata": {},
     "output_type": "display_data"
    },
    {
     "data": {
      "text/latex": [
       "$\\displaystyle \\psi_{0}{\\left(0 \\right)} = 0$"
      ],
      "text/plain": [
       "Eq(\\psi_{0}(0), 0)"
      ]
     },
     "metadata": {},
     "output_type": "display_data"
    },
    {
     "data": {
      "text/latex": [
       "$\\displaystyle \\psi_{2}{\\left(L_{2} \\right)} = 0$"
      ],
      "text/plain": [
       "Eq(\\psi_{2}(L_2), 0)"
      ]
     },
     "metadata": {},
     "output_type": "display_data"
    }
   ],
   "source": [
    "stairwell_solver.boundries.display()"
   ]
  },
  {
   "cell_type": "code",
   "execution_count": 17,
   "id": "3fc0fbd1-a832-4ef7-803b-814812d18099",
   "metadata": {},
   "outputs": [
    {
     "data": {
      "text/plain": [
       "<custom_libraries.schrodinger.TimeIndependentSchrodingerConstantPotentials1D at 0x7fca6d04a190>"
      ]
     },
     "execution_count": 17,
     "metadata": {},
     "output_type": "execute_result"
    }
   ],
   "source": [
    "stairwell_solver"
   ]
  },
  {
   "cell_type": "code",
   "execution_count": 18,
   "id": "0f4574ca-54c8-4820-9212-d94622eab763",
   "metadata": {
    "tags": []
   },
   "outputs": [],
   "source": [
    "solutions = stairwell_solver.solve_odes()"
   ]
  },
  {
   "cell_type": "code",
   "execution_count": null,
   "id": "f1a5e157-8b2f-4d4f-bb64-268ebfba1344",
   "metadata": {},
   "outputs": [],
   "source": []
  },
  {
   "cell_type": "code",
   "execution_count": 19,
   "id": "906f8879-c568-484d-b095-81bbdaf9fce3",
   "metadata": {},
   "outputs": [
    {
     "data": {
      "text/latex": [
       "$\\displaystyle \\psi_{0}{\\left(x \\right)} = \\frac{\\psi_{1}{\\left(0 \\right)} e^{L_{0} k_{0}} e^{k_{0} x}}{e^{2 L_{0} k_{0}} - 1} - \\frac{\\psi_{1}{\\left(0 \\right)} e^{L_{0} k_{0}} e^{- k_{0} x}}{e^{2 L_{0} k_{0}} - 1}$"
      ],
      "text/plain": [
       "Eq(\\psi_{0}(x), \\psi_{1}(0)*exp(L_0*k_0)*exp(k_0*x)/(exp(2*L_0*k_0) - 1) - \\psi_{1}(0)*exp(L_0*k_0)*exp(-k_0*x)/(exp(2*L_0*k_0) - 1))"
      ]
     },
     "metadata": {},
     "output_type": "display_data"
    },
    {
     "data": {
      "text/latex": [
       "$\\displaystyle \\psi_{1}{\\left(x \\right)} = \\frac{\\left(\\psi_{0}{\\left(L_{0} \\right)} e^{2 L_{1} k_{1}} - \\psi_{2}{\\left(0 \\right)} e^{L_{1} k_{1}}\\right) e^{- k_{1} x}}{e^{2 L_{1} k_{1}} - 1} + \\frac{\\left(- \\psi_{0}{\\left(L_{0} \\right)} + \\psi_{2}{\\left(0 \\right)} e^{L_{1} k_{1}}\\right) e^{k_{1} x}}{e^{2 L_{1} k_{1}} - 1}$"
      ],
      "text/plain": [
       "Eq(\\psi_{1}(x), (\\psi_{0}(L_0)*exp(2*L_1*k_1) - \\psi_{2}(0)*exp(L_1*k_1))*exp(-k_1*x)/(exp(2*L_1*k_1) - 1) + (-\\psi_{0}(L_0) + \\psi_{2}(0)*exp(L_1*k_1))*exp(k_1*x)/(exp(2*L_1*k_1) - 1))"
      ]
     },
     "metadata": {},
     "output_type": "display_data"
    },
    {
     "data": {
      "text/latex": [
       "$\\displaystyle \\psi_{2}{\\left(x \\right)} = \\frac{\\psi_{1}{\\left(L_{1} \\right)} e^{2 L_{2} k_{2}} e^{- k_{2} x}}{e^{2 L_{2} k_{2}} - 1} - \\frac{\\psi_{1}{\\left(L_{1} \\right)} e^{k_{2} x}}{e^{2 L_{2} k_{2}} - 1}$"
      ],
      "text/plain": [
       "Eq(\\psi_{2}(x), \\psi_{1}(L_1)*exp(2*L_2*k_2)*exp(-k_2*x)/(exp(2*L_2*k_2) - 1) - \\psi_{1}(L_1)*exp(k_2*x)/(exp(2*L_2*k_2) - 1))"
      ]
     },
     "metadata": {},
     "output_type": "display_data"
    }
   ],
   "source": [
    "display_in( solutions )"
   ]
  },
  {
   "cell_type": "code",
   "execution_count": null,
   "id": "84e87233-5ba7-4cb7-a3f7-370403e55bb0",
   "metadata": {},
   "outputs": [],
   "source": []
  },
  {
   "cell_type": "code",
   "execution_count": 20,
   "id": "e0ca1cc1-1b0f-4d1b-a646-1cce6caf6eed",
   "metadata": {},
   "outputs": [
    {
     "data": {
      "text/plain": [
       "[<custom_libraries.stepper.Stepper at 0x7fca6d066f70>,\n",
       " <custom_libraries.stepper.Stepper at 0x7fca6d066d90>,\n",
       " <custom_libraries.stepper.Stepper at 0x7fca6d066cd0>]"
      ]
     },
     "execution_count": 20,
     "metadata": {},
     "output_type": "execute_result"
    }
   ],
   "source": [
    "stairwell_solver.substitute_wave_functions_into_normalizations()"
   ]
  },
  {
   "cell_type": "code",
   "execution_count": 21,
   "id": "ca842015-740c-4620-be56-3d5b61b0a685",
   "metadata": {},
   "outputs": [
    {
     "data": {
      "text/plain": [
       "([<custom_libraries.stepper.Stepper at 0x7fca6d0511f0>,\n",
       "  <custom_libraries.stepper.Stepper at 0x7fca6d05c1f0>,\n",
       "  <custom_libraries.stepper.Stepper at 0x7fca6d056670>],\n",
       " [<custom_libraries.stepper.Stepper at 0x7fca6d066f70>,\n",
       "  <custom_libraries.stepper.Stepper at 0x7fca6d066d90>,\n",
       "  <custom_libraries.stepper.Stepper at 0x7fca6d066cd0>],\n",
       " {'Before': [['TimeIndependentSchrodingerConstantPotentials1DCheckPointBeforeBoundryToConstantSubstitution105',\n",
       "    'TimeIndependentSchrodingerConstantPotentials1DCheckPointBeforeBoundryToConstantSubstitution105',\n",
       "    'TimeIndependentSchrodingerConstantPotentials1DCheckPointBeforeBoundryToConstantSubstitution105'],\n",
       "   ['TimeIndependentSchrodingerConstantPotentials1DCheckPointBeforeBoundryToConstantSubstitution105',\n",
       "    'TimeIndependentSchrodingerConstantPotentials1DCheckPointBeforeBoundryToConstantSubstitution105',\n",
       "    'TimeIndependentSchrodingerConstantPotentials1DCheckPointBeforeBoundryToConstantSubstitution105']],\n",
       "  'Post': [['TimeIndependentSchrodingerConstantPotentials1DCheckPointPostBoundryToConstantSubstitution112',\n",
       "    'TimeIndependentSchrodingerConstantPotentials1DCheckPointPostBoundryToConstantSubstitution112',\n",
       "    'TimeIndependentSchrodingerConstantPotentials1DCheckPointPostBoundryToConstantSubstitution112'],\n",
       "   ['TimeIndependentSchrodingerConstantPotentials1DCheckPointPostBoundryToConstantSubstitution112',\n",
       "    'TimeIndependentSchrodingerConstantPotentials1DCheckPointPostBoundryToConstantSubstitution112',\n",
       "    'TimeIndependentSchrodingerConstantPotentials1DCheckPointPostBoundryToConstantSubstitution112']]})"
      ]
     },
     "execution_count": 21,
     "metadata": {},
     "output_type": "execute_result"
    }
   ],
   "source": [
    "stairwell_solver.boundries_in_expression_to_constants()"
   ]
  },
  {
   "cell_type": "code",
   "execution_count": 22,
   "id": "f398e39e-055e-4981-9740-8513148b9789",
   "metadata": {},
   "outputs": [
    {
     "data": {
      "text/latex": [
       "$\\displaystyle \\psi_{0}{\\left(x \\right)} = \\frac{B_{0} e^{L_{0} k_{0}} e^{k_{0} x}}{e^{2 L_{0} k_{0}} - 1} - \\frac{B_{0} e^{L_{0} k_{0}} e^{- k_{0} x}}{e^{2 L_{0} k_{0}} - 1}$"
      ],
      "text/plain": [
       "Eq(\\psi_{0}(x), B_{0}*exp(L_0*k_0)*exp(k_0*x)/(exp(2*L_0*k_0) - 1) - B_{0}*exp(L_0*k_0)*exp(-k_0*x)/(exp(2*L_0*k_0) - 1))"
      ]
     },
     "metadata": {},
     "output_type": "display_data"
    },
    {
     "data": {
      "text/latex": [
       "$\\displaystyle \\psi_{1}{\\left(x \\right)} = \\frac{\\left(- B_{0} + B_{1} e^{L_{1} k_{1}}\\right) e^{k_{1} x}}{e^{2 L_{1} k_{1}} - 1} + \\frac{\\left(B_{0} e^{2 L_{1} k_{1}} - B_{1} e^{L_{1} k_{1}}\\right) e^{- k_{1} x}}{e^{2 L_{1} k_{1}} - 1}$"
      ],
      "text/plain": [
       "Eq(\\psi_{1}(x), (-B_{0} + B_{1}*exp(L_1*k_1))*exp(k_1*x)/(exp(2*L_1*k_1) - 1) + (B_{0}*exp(2*L_1*k_1) - B_{1}*exp(L_1*k_1))*exp(-k_1*x)/(exp(2*L_1*k_1) - 1))"
      ]
     },
     "metadata": {},
     "output_type": "display_data"
    },
    {
     "data": {
      "text/latex": [
       "$\\displaystyle \\psi_{2}{\\left(x \\right)} = \\frac{B_{1} e^{2 L_{2} k_{2}} e^{- k_{2} x}}{e^{2 L_{2} k_{2}} - 1} - \\frac{B_{1} e^{k_{2} x}}{e^{2 L_{2} k_{2}} - 1}$"
      ],
      "text/plain": [
       "Eq(\\psi_{2}(x), B_{1}*exp(2*L_2*k_2)*exp(-k_2*x)/(exp(2*L_2*k_2) - 1) - B_{1}*exp(k_2*x)/(exp(2*L_2*k_2) - 1))"
      ]
     },
     "metadata": {},
     "output_type": "display_data"
    }
   ],
   "source": [
    "display_steps( stairwell_solver.equations )"
   ]
  },
  {
   "cell_type": "code",
   "execution_count": null,
   "id": "ace409f1-a01c-4d97-9401-2172db2159ac",
   "metadata": {},
   "outputs": [],
   "source": []
  },
  {
   "cell_type": "code",
   "execution_count": 23,
   "id": "1bf6f05f-281a-43cb-a04a-9083533ab05b",
   "metadata": {},
   "outputs": [
    {
     "data": {
      "text/latex": [
       "$\\displaystyle \\int\\limits_{0}^{L_{0}} \\left(\\frac{B_{0} e^{L_{0} k_{0}} e^{k_{0} x}}{e^{2 L_{0} k_{0}} - 1} - \\frac{B_{0} e^{L_{0} k_{0}} e^{- k_{0} x}}{e^{2 L_{0} k_{0}} - 1}\\right) \\left(\\frac{e^{L_{0} k_{0}} e^{k_{0} x} \\overline{B_{0}}}{e^{2 L_{0} k_{0}} - 1} - \\frac{e^{L_{0} k_{0}} e^{- k_{0} x} \\overline{B_{0}}}{e^{2 L_{0} k_{0}} - 1}\\right)\\, dx = N_{0}$"
      ],
      "text/plain": [
       "Eq(Integral((B_{0}*exp(L_0*k_0)*exp(k_0*x)/(exp(2*L_0*k_0) - 1) - B_{0}*exp(L_0*k_0)*exp(-k_0*x)/(exp(2*L_0*k_0) - 1))*(exp(L_0*k_0)*exp(k_0*x)*conjugate(B_{0})/(exp(2*L_0*k_0) - 1) - exp(L_0*k_0)*exp(-k_0*x)*conjugate(B_{0})/(exp(2*L_0*k_0) - 1)), (x, 0, L_0)), N_0)"
      ]
     },
     "metadata": {},
     "output_type": "display_data"
    },
    {
     "data": {
      "text/latex": [
       "$\\displaystyle \\int\\limits_{0}^{L_{1}} \\left(\\frac{\\left(- B_{0} + B_{1} e^{L_{1} k_{1}}\\right) e^{k_{1} x}}{e^{2 L_{1} k_{1}} - 1} + \\frac{\\left(B_{0} e^{2 L_{1} k_{1}} - B_{1} e^{L_{1} k_{1}}\\right) e^{- k_{1} x}}{e^{2 L_{1} k_{1}} - 1}\\right) \\left(\\frac{\\left(e^{L_{1} k_{1}} \\overline{B_{1}} - \\overline{B_{0}}\\right) e^{k_{1} x}}{e^{2 L_{1} k_{1}} - 1} + \\frac{\\left(e^{2 L_{1} k_{1}} \\overline{B_{0}} - e^{L_{1} k_{1}} \\overline{B_{1}}\\right) e^{- k_{1} x}}{e^{2 L_{1} k_{1}} - 1}\\right)\\, dx = N_{1}$"
      ],
      "text/plain": [
       "Eq(Integral(((-B_{0} + B_{1}*exp(L_1*k_1))*exp(k_1*x)/(exp(2*L_1*k_1) - 1) + (B_{0}*exp(2*L_1*k_1) - B_{1}*exp(L_1*k_1))*exp(-k_1*x)/(exp(2*L_1*k_1) - 1))*((exp(L_1*k_1)*conjugate(B_{1}) - conjugate(B_{0}))*exp(k_1*x)/(exp(2*L_1*k_1) - 1) + (exp(2*L_1*k_1)*conjugate(B_{0}) - exp(L_1*k_1)*conjugate(B_{1}))*exp(-k_1*x)/(exp(2*L_1*k_1) - 1)), (x, 0, L_1)), N_1)"
      ]
     },
     "metadata": {},
     "output_type": "display_data"
    },
    {
     "data": {
      "text/latex": [
       "$\\displaystyle \\int\\limits_{0}^{L_{2}} \\left(\\frac{B_{1} e^{2 L_{2} k_{2}} e^{- k_{2} x}}{e^{2 L_{2} k_{2}} - 1} - \\frac{B_{1} e^{k_{2} x}}{e^{2 L_{2} k_{2}} - 1}\\right) \\left(\\frac{e^{2 L_{2} k_{2}} e^{- k_{2} x} \\overline{B_{1}}}{e^{2 L_{2} k_{2}} - 1} - \\frac{e^{k_{2} x} \\overline{B_{1}}}{e^{2 L_{2} k_{2}} - 1}\\right)\\, dx = N_{2}$"
      ],
      "text/plain": [
       "Eq(Integral((B_{1}*exp(2*L_2*k_2)*exp(-k_2*x)/(exp(2*L_2*k_2) - 1) - B_{1}*exp(k_2*x)/(exp(2*L_2*k_2) - 1))*(exp(2*L_2*k_2)*exp(-k_2*x)*conjugate(B_{1})/(exp(2*L_2*k_2) - 1) - exp(k_2*x)*conjugate(B_{1})/(exp(2*L_2*k_2) - 1)), (x, 0, L_2)), N_2)"
      ]
     },
     "metadata": {},
     "output_type": "display_data"
    }
   ],
   "source": [
    "display_steps( stairwell_solver.normalizations )"
   ]
  },
  {
   "cell_type": "code",
   "execution_count": null,
   "id": "f2fc26d5-b90e-4238-ad46-75f0fb1d40a9",
   "metadata": {},
   "outputs": [],
   "source": []
  },
  {
   "cell_type": "code",
   "execution_count": null,
   "id": "c50eb079-fda5-4b1c-a242-8a0ffea46bb8",
   "metadata": {},
   "outputs": [],
   "source": []
  },
  {
   "cell_type": "code",
   "execution_count": 24,
   "id": "2b713b2e-f5ee-4206-9e8b-1ade8af2f913",
   "metadata": {},
   "outputs": [],
   "source": [
    "q_constants = []\n",
    "for normalization in stairwell_solver.normalizations: \n",
    "    result, constants = group_constants( normalization.last_step(), [ stairwell_solver.position ] + stairwell_solver.boundry_constant_symbols, 'Q' )\n",
    "    q_constants.append( constants )\n",
    "    normalization.add_step( result )"
   ]
  },
  {
   "cell_type": "code",
   "execution_count": null,
   "id": "0994b8f5-57cc-4a1e-82ee-2c84576fbd5e",
   "metadata": {},
   "outputs": [],
   "source": []
  },
  {
   "cell_type": "code",
   "execution_count": 25,
   "id": "c0e808a9-50ed-47d0-8dec-cf5ee7d22f19",
   "metadata": {},
   "outputs": [
    {
     "data": {
      "text/latex": [
       "$\\displaystyle \\int\\limits_{0}^{L_{0}} \\left(B_{0} Q_{3} e^{Q_{2} x} - B_{0} Q_{3} e^{- Q_{2} x}\\right) \\left(Q_{3} e^{Q_{2} x} \\overline{B_{0}} - Q_{3} e^{- Q_{2} x} \\overline{B_{0}}\\right)\\, dx = N_{0}$"
      ],
      "text/plain": [
       "Eq(Integral((B_{0}*Q_{3}*exp(Q_{2}*x) - B_{0}*Q_{3}*exp(-Q_{2}*x))*(Q_{3}*exp(Q_{2}*x)*conjugate(B_{0}) - Q_{3}*exp(-Q_{2}*x)*conjugate(B_{0})), (x, 0, L_0)), N_0)"
      ]
     },
     "metadata": {},
     "output_type": "display_data"
    },
    {
     "data": {
      "text/latex": [
       "$\\displaystyle \\int\\limits_{0}^{L_{1}} \\left(Q_{4} \\left(- B_{0} + B_{1} Q_{2}\\right) e^{Q_{3} x} + Q_{4} \\left(B_{0} Q_{6} - B_{1} Q_{2}\\right) e^{- Q_{3} x}\\right) \\left(Q_{4} \\left(- Q_{2} \\overline{B_{1}} + Q_{6} \\overline{B_{0}}\\right) e^{- Q_{3} x} + Q_{4} \\left(Q_{2} \\overline{B_{1}} - \\overline{B_{0}}\\right) e^{Q_{3} x}\\right)\\, dx = N_{1}$"
      ],
      "text/plain": [
       "Eq(Integral((Q_{4}*(-B_{0} + B_{1}*Q_{2})*exp(Q_{3}*x) + Q_{4}*(B_{0}*Q_{6} - B_{1}*Q_{2})*exp(-Q_{3}*x))*(Q_{4}*(-Q_{2}*conjugate(B_{1}) + Q_{6}*conjugate(B_{0}))*exp(-Q_{3}*x) + Q_{4}*(Q_{2}*conjugate(B_{1}) - conjugate(B_{0}))*exp(Q_{3}*x)), (x, 0, L_1)), N_1)"
      ]
     },
     "metadata": {},
     "output_type": "display_data"
    },
    {
     "data": {
      "text/latex": [
       "$\\displaystyle \\int\\limits_{0}^{L_{2}} \\left(- B_{1} Q_{2} e^{Q_{1} x} + B_{1} Q_{4} e^{- Q_{1} x}\\right) \\left(- Q_{2} e^{Q_{1} x} \\overline{B_{1}} + Q_{4} e^{- Q_{1} x} \\overline{B_{1}}\\right)\\, dx = N_{2}$"
      ],
      "text/plain": [
       "Eq(Integral((-B_{1}*Q_{2}*exp(Q_{1}*x) + B_{1}*Q_{4}*exp(-Q_{1}*x))*(-Q_{2}*exp(Q_{1}*x)*conjugate(B_{1}) + Q_{4}*exp(-Q_{1}*x)*conjugate(B_{1})), (x, 0, L_2)), N_2)"
      ]
     },
     "metadata": {},
     "output_type": "display_data"
    }
   ],
   "source": [
    "display_steps( stairwell_solver.normalizations )"
   ]
  },
  {
   "cell_type": "code",
   "execution_count": null,
   "id": "a74ef523-c928-4109-86c7-baede7df3468",
   "metadata": {},
   "outputs": [],
   "source": []
  },
  {
   "cell_type": "code",
   "execution_count": null,
   "id": "add3910c-5045-4408-8bfb-a4a62a448d9c",
   "metadata": {},
   "outputs": [],
   "source": []
  },
  {
   "cell_type": "code",
   "execution_count": 26,
   "id": "61c3e519-2b4c-44fb-b3fa-798b27962863",
   "metadata": {},
   "outputs": [],
   "source": [
    "display_table = lambda table : [ ( display( key ), display_steps( table[ key ] ) ) for key in table ]"
   ]
  },
  {
   "cell_type": "code",
   "execution_count": null,
   "id": "d692aa09-c51b-4ad8-a453-3d0e36408850",
   "metadata": {},
   "outputs": [],
   "source": []
  },
  {
   "cell_type": "code",
   "execution_count": 27,
   "id": "1bb4830a-944a-470e-b6b2-a65bcc22fa6d",
   "metadata": {},
   "outputs": [
    {
     "name": "stdout",
     "output_type": "stream",
     "text": [
      "Has  B_{0}\n",
      "Solutions:  [Piecewise((-sqrt(2)*sqrt(-N_0*Q_{2}/(Q_{3}**2*(4*L_0*Q_{2}*exp(2*L_0*Q_{2}) - exp(4*L_0*Q_{2}) + 1)))*exp(L_0*Q_{2}), Ne(Q_{2}, 0)), (nan, True)), Piecewise((sqrt(2)*sqrt(-N_0*Q_{2}/(Q_{3}**2*(4*L_0*Q_{2}*exp(2*L_0*Q_{2}) - exp(4*L_0*Q_{2}) + 1)))*exp(L_0*Q_{2}), Ne(Q_{2}, 0)), (nan, True))]\n"
     ]
    },
    {
     "data": {
      "text/latex": [
       "$\\displaystyle B_{0}$"
      ],
      "text/plain": [
       "B_{0}"
      ]
     },
     "metadata": {},
     "output_type": "display_data"
    },
    {
     "name": "stdout",
     "output_type": "stream",
     "text": [
      "I have sols!\n"
     ]
    },
    {
     "data": {
      "text/latex": [
       "$\\displaystyle \\begin{cases} - \\sqrt{2} \\sqrt{- \\frac{N_{0} Q_{2}}{Q_{3}^{2} \\left(4 L_{0} Q_{2} e^{2 L_{0} Q_{2}} - e^{4 L_{0} Q_{2}} + 1\\right)}} e^{L_{0} Q_{2}} & \\text{for}\\: Q_{2} \\neq 0 \\\\\\text{NaN} & \\text{otherwise} \\end{cases}$"
      ],
      "text/plain": [
       "Piecewise((-sqrt(2)*sqrt(-N_0*Q_{2}/(Q_{3}**2*(4*L_0*Q_{2}*exp(2*L_0*Q_{2}) - exp(4*L_0*Q_{2}) + 1)))*exp(L_0*Q_{2}), Ne(Q_{2}, 0)), (nan, True))"
      ]
     },
     "metadata": {},
     "output_type": "display_data"
    },
    {
     "data": {
      "text/latex": [
       "$\\displaystyle \\begin{cases} \\sqrt{2} \\sqrt{- \\frac{N_{0} Q_{2}}{Q_{3}^{2} \\left(4 L_{0} Q_{2} e^{2 L_{0} Q_{2}} - e^{4 L_{0} Q_{2}} + 1\\right)}} e^{L_{0} Q_{2}} & \\text{for}\\: Q_{2} \\neq 0 \\\\\\text{NaN} & \\text{otherwise} \\end{cases}$"
      ],
      "text/plain": [
       "Piecewise((sqrt(2)*sqrt(-N_0*Q_{2}/(Q_{3}**2*(4*L_0*Q_{2}*exp(2*L_0*Q_{2}) - exp(4*L_0*Q_{2}) + 1)))*exp(L_0*Q_{2}), Ne(Q_{2}, 0)), (nan, True))"
      ]
     },
     "metadata": {},
     "output_type": "display_data"
    },
    {
     "name": "stdout",
     "output_type": "stream",
     "text": [
      "Solved for  B_{0}\n"
     ]
    }
   ],
   "source": [
    "auto_solved = {}\n",
    "auto_solved[ 0 ] = stairwell_solver.solve_boundry_constants_from_equation( stairwell_solver.normalizations[ 0 ] )"
   ]
  },
  {
   "cell_type": "code",
   "execution_count": 28,
   "id": "7aaaaa91-91e0-4bc5-a298-bd97dd460a91",
   "metadata": {},
   "outputs": [
    {
     "data": {
      "text/latex": [
       "$\\displaystyle B_{0}$"
      ],
      "text/plain": [
       "B_{0}"
      ]
     },
     "metadata": {},
     "output_type": "display_data"
    },
    {
     "data": {
      "text/latex": [
       "$\\displaystyle \\begin{cases} - \\sqrt{2} \\sqrt{- \\frac{N_{0} Q_{2}}{Q_{3}^{2} \\left(4 L_{0} Q_{2} e^{2 L_{0} Q_{2}} - e^{4 L_{0} Q_{2}} + 1\\right)}} e^{L_{0} Q_{2}} & \\text{for}\\: Q_{2} \\neq 0 \\\\\\text{NaN} & \\text{otherwise} \\end{cases}$"
      ],
      "text/plain": [
       "Piecewise((-sqrt(2)*sqrt(-N_0*Q_{2}/(Q_{3}**2*(4*L_0*Q_{2}*exp(2*L_0*Q_{2}) - exp(4*L_0*Q_{2}) + 1)))*exp(L_0*Q_{2}), Ne(Q_{2}, 0)), (nan, True))"
      ]
     },
     "metadata": {},
     "output_type": "display_data"
    },
    {
     "data": {
      "text/latex": [
       "$\\displaystyle \\begin{cases} \\sqrt{2} \\sqrt{- \\frac{N_{0} Q_{2}}{Q_{3}^{2} \\left(4 L_{0} Q_{2} e^{2 L_{0} Q_{2}} - e^{4 L_{0} Q_{2}} + 1\\right)}} e^{L_{0} Q_{2}} & \\text{for}\\: Q_{2} \\neq 0 \\\\\\text{NaN} & \\text{otherwise} \\end{cases}$"
      ],
      "text/plain": [
       "Piecewise((sqrt(2)*sqrt(-N_0*Q_{2}/(Q_{3}**2*(4*L_0*Q_{2}*exp(2*L_0*Q_{2}) - exp(4*L_0*Q_{2}) + 1)))*exp(L_0*Q_{2}), Ne(Q_{2}, 0)), (nan, True))"
      ]
     },
     "metadata": {},
     "output_type": "display_data"
    },
    {
     "data": {
      "text/plain": [
       "[(None, None)]"
      ]
     },
     "execution_count": 28,
     "metadata": {},
     "output_type": "execute_result"
    }
   ],
   "source": [
    "display_table( auto_solved[ 0 ] )"
   ]
  },
  {
   "cell_type": "code",
   "execution_count": null,
   "id": "e6353287-8fa1-478a-b194-411f1cbbb7a5",
   "metadata": {},
   "outputs": [],
   "source": []
  },
  {
   "cell_type": "code",
   "execution_count": 29,
   "id": "e6aa6498-015c-4775-bbc6-8dc452e6b058",
   "metadata": {},
   "outputs": [
    {
     "name": "stdout",
     "output_type": "stream",
     "text": [
      "Has  B_{0}\n",
      "Solutions:  [Piecewise(((B_{1}*Q_{2}*Q_{4}*(2*L_1*Q_{3}*Q_{6}*exp(2*L_1*Q_{3}) + 2*L_1*Q_{3}*exp(2*L_1*Q_{3}) - Q_{6}*exp(2*L_1*Q_{3}) + Q_{6} - exp(4*L_1*Q_{3}) + exp(2*L_1*Q_{3})) + sqrt(4*B_{1}**2*L_1**2*Q_{2}**2*Q_{3}**2*Q_{4}**2*Q_{6}**2*exp(2*L_1*Q_{3}) - 8*B_{1}**2*L_1**2*Q_{2}**2*Q_{3}**2*Q_{4}**2*Q_{6}*exp(2*L_1*Q_{3}) + 4*B_{1}**2*L_1**2*Q_{2}**2*Q_{3}**2*Q_{4}**2*exp(2*L_1*Q_{3}) - B_{1}**2*Q_{2}**2*Q_{4}**2*Q_{6}**2*exp(4*L_1*Q_{3}) + 2*B_{1}**2*Q_{2}**2*Q_{4}**2*Q_{6}**2*exp(2*L_1*Q_{3}) - B_{1}**2*Q_{2}**2*Q_{4}**2*Q_{6}**2 + 2*B_{1}**2*Q_{2}**2*Q_{4}**2*Q_{6}*exp(4*L_1*Q_{3}) - 4*B_{1}**2*Q_{2}**2*Q_{4}**2*Q_{6}*exp(2*L_1*Q_{3}) + 2*B_{1}**2*Q_{2}**2*Q_{4}**2*Q_{6} - B_{1}**2*Q_{2}**2*Q_{4}**2*exp(4*L_1*Q_{3}) + 2*B_{1}**2*Q_{2}**2*Q_{4}**2*exp(2*L_1*Q_{3}) - B_{1}**2*Q_{2}**2*Q_{4}**2 - 8*L_1*N_1*Q_{3}**2*Q_{6}*exp(2*L_1*Q_{3}) + 2*N_1*Q_{3}*Q_{6}**2*exp(2*L_1*Q_{3}) - 2*N_1*Q_{3}*Q_{6}**2 + 2*N_1*Q_{3}*exp(4*L_1*Q_{3}) - 2*N_1*Q_{3}*exp(2*L_1*Q_{3}))*exp(L_1*Q_{3}))/(Q_{4}*(4*L_1*Q_{3}*Q_{6}*exp(2*L_1*Q_{3}) - Q_{6}**2*exp(2*L_1*Q_{3}) + Q_{6}**2 - exp(4*L_1*Q_{3}) + exp(2*L_1*Q_{3}))), Ne(Q_{3}, 0)), (nan, True)), Piecewise(((2*B_{1}*L_1*Q_{2}*Q_{3}*Q_{4}*Q_{6}*exp(2*L_1*Q_{3}) + 2*B_{1}*L_1*Q_{2}*Q_{3}*Q_{4}*exp(2*L_1*Q_{3}) - B_{1}*Q_{2}*Q_{4}*Q_{6}*exp(2*L_1*Q_{3}) + B_{1}*Q_{2}*Q_{4}*Q_{6} - B_{1}*Q_{2}*Q_{4}*exp(4*L_1*Q_{3}) + B_{1}*Q_{2}*Q_{4}*exp(2*L_1*Q_{3}) - sqrt(4*B_{1}**2*L_1**2*Q_{2}**2*Q_{3}**2*Q_{4}**2*Q_{6}**2*exp(2*L_1*Q_{3}) - 8*B_{1}**2*L_1**2*Q_{2}**2*Q_{3}**2*Q_{4}**2*Q_{6}*exp(2*L_1*Q_{3}) + 4*B_{1}**2*L_1**2*Q_{2}**2*Q_{3}**2*Q_{4}**2*exp(2*L_1*Q_{3}) - B_{1}**2*Q_{2}**2*Q_{4}**2*Q_{6}**2*exp(4*L_1*Q_{3}) + 2*B_{1}**2*Q_{2}**2*Q_{4}**2*Q_{6}**2*exp(2*L_1*Q_{3}) - B_{1}**2*Q_{2}**2*Q_{4}**2*Q_{6}**2 + 2*B_{1}**2*Q_{2}**2*Q_{4}**2*Q_{6}*exp(4*L_1*Q_{3}) - 4*B_{1}**2*Q_{2}**2*Q_{4}**2*Q_{6}*exp(2*L_1*Q_{3}) + 2*B_{1}**2*Q_{2}**2*Q_{4}**2*Q_{6} - B_{1}**2*Q_{2}**2*Q_{4}**2*exp(4*L_1*Q_{3}) + 2*B_{1}**2*Q_{2}**2*Q_{4}**2*exp(2*L_1*Q_{3}) - B_{1}**2*Q_{2}**2*Q_{4}**2 - 8*L_1*N_1*Q_{3}**2*Q_{6}*exp(2*L_1*Q_{3}) + 2*N_1*Q_{3}*Q_{6}**2*exp(2*L_1*Q_{3}) - 2*N_1*Q_{3}*Q_{6}**2 + 2*N_1*Q_{3}*exp(4*L_1*Q_{3}) - 2*N_1*Q_{3}*exp(2*L_1*Q_{3}))*exp(L_1*Q_{3}))/(Q_{4}*(4*L_1*Q_{3}*Q_{6}*exp(2*L_1*Q_{3}) - Q_{6}**2*exp(2*L_1*Q_{3}) + Q_{6}**2 - exp(4*L_1*Q_{3}) + exp(2*L_1*Q_{3}))), Ne(Q_{3}, 0)), (nan, True)), Piecewise((-sqrt(N_1/(L_1*Q_{4}**2*(Q_{6}**2 - 2*Q_{6} + 1))), Eq(Q_{3}, 0)), (nan, True)), Piecewise((sqrt(N_1/(L_1*Q_{4}**2*(Q_{6}**2 - 2*Q_{6} + 1))), Eq(Q_{3}, 0)), (nan, True))]\n"
     ]
    },
    {
     "data": {
      "text/latex": [
       "$\\displaystyle B_{0}$"
      ],
      "text/plain": [
       "B_{0}"
      ]
     },
     "metadata": {},
     "output_type": "display_data"
    },
    {
     "name": "stdout",
     "output_type": "stream",
     "text": [
      "I have sols!\n"
     ]
    },
    {
     "data": {
      "text/latex": [
       "$\\displaystyle \\begin{cases} \\frac{B_{1} Q_{2} Q_{4} \\left(2 L_{1} Q_{3} Q_{6} e^{2 L_{1} Q_{3}} + 2 L_{1} Q_{3} e^{2 L_{1} Q_{3}} - Q_{6} e^{2 L_{1} Q_{3}} + Q_{6} - e^{4 L_{1} Q_{3}} + e^{2 L_{1} Q_{3}}\\right) + \\sqrt{4 B_{1}^{2} L_{1}^{2} Q_{2}^{2} Q_{3}^{2} Q_{4}^{2} Q_{6}^{2} e^{2 L_{1} Q_{3}} - 8 B_{1}^{2} L_{1}^{2} Q_{2}^{2} Q_{3}^{2} Q_{4}^{2} Q_{6} e^{2 L_{1} Q_{3}} + 4 B_{1}^{2} L_{1}^{2} Q_{2}^{2} Q_{3}^{2} Q_{4}^{2} e^{2 L_{1} Q_{3}} - B_{1}^{2} Q_{2}^{2} Q_{4}^{2} Q_{6}^{2} e^{4 L_{1} Q_{3}} + 2 B_{1}^{2} Q_{2}^{2} Q_{4}^{2} Q_{6}^{2} e^{2 L_{1} Q_{3}} - B_{1}^{2} Q_{2}^{2} Q_{4}^{2} Q_{6}^{2} + 2 B_{1}^{2} Q_{2}^{2} Q_{4}^{2} Q_{6} e^{4 L_{1} Q_{3}} - 4 B_{1}^{2} Q_{2}^{2} Q_{4}^{2} Q_{6} e^{2 L_{1} Q_{3}} + 2 B_{1}^{2} Q_{2}^{2} Q_{4}^{2} Q_{6} - B_{1}^{2} Q_{2}^{2} Q_{4}^{2} e^{4 L_{1} Q_{3}} + 2 B_{1}^{2} Q_{2}^{2} Q_{4}^{2} e^{2 L_{1} Q_{3}} - B_{1}^{2} Q_{2}^{2} Q_{4}^{2} - 8 L_{1} N_{1} Q_{3}^{2} Q_{6} e^{2 L_{1} Q_{3}} + 2 N_{1} Q_{3} Q_{6}^{2} e^{2 L_{1} Q_{3}} - 2 N_{1} Q_{3} Q_{6}^{2} + 2 N_{1} Q_{3} e^{4 L_{1} Q_{3}} - 2 N_{1} Q_{3} e^{2 L_{1} Q_{3}}} e^{L_{1} Q_{3}}}{Q_{4} \\left(4 L_{1} Q_{3} Q_{6} e^{2 L_{1} Q_{3}} - Q_{6}^{2} e^{2 L_{1} Q_{3}} + Q_{6}^{2} - e^{4 L_{1} Q_{3}} + e^{2 L_{1} Q_{3}}\\right)} & \\text{for}\\: Q_{3} \\neq 0 \\\\\\text{NaN} & \\text{otherwise} \\end{cases}$"
      ],
      "text/plain": [
       "Piecewise(((B_{1}*Q_{2}*Q_{4}*(2*L_1*Q_{3}*Q_{6}*exp(2*L_1*Q_{3}) + 2*L_1*Q_{3}*exp(2*L_1*Q_{3}) - Q_{6}*exp(2*L_1*Q_{3}) + Q_{6} - exp(4*L_1*Q_{3}) + exp(2*L_1*Q_{3})) + sqrt(4*B_{1}**2*L_1**2*Q_{2}**2*Q_{3}**2*Q_{4}**2*Q_{6}**2*exp(2*L_1*Q_{3}) - 8*B_{1}**2*L_1**2*Q_{2}**2*Q_{3}**2*Q_{4}**2*Q_{6}*exp(2*L_1*Q_{3}) + 4*B_{1}**2*L_1**2*Q_{2}**2*Q_{3}**2*Q_{4}**2*exp(2*L_1*Q_{3}) - B_{1}**2*Q_{2}**2*Q_{4}**2*Q_{6}**2*exp(4*L_1*Q_{3}) + 2*B_{1}**2*Q_{2}**2*Q_{4}**2*Q_{6}**2*exp(2*L_1*Q_{3}) - B_{1}**2*Q_{2}**2*Q_{4}**2*Q_{6}**2 + 2*B_{1}**2*Q_{2}**2*Q_{4}**2*Q_{6}*exp(4*L_1*Q_{3}) - 4*B_{1}**2*Q_{2}**2*Q_{4}**2*Q_{6}*exp(2*L_1*Q_{3}) + 2*B_{1}**2*Q_{2}**2*Q_{4}**2*Q_{6} - B_{1}**2*Q_{2}**2*Q_{4}**2*exp(4*L_1*Q_{3}) + 2*B_{1}**2*Q_{2}**2*Q_{4}**2*exp(2*L_1*Q_{3}) - B_{1}**2*Q_{2}**2*Q_{4}**2 - 8*L_1*N_1*Q_{3}**2*Q_{6}*exp(2*L_1*Q_{3}) + 2*N_1*Q_{3}*Q_{6}**2*exp(2*L_1*Q_{3}) - 2*N_1*Q_{3}*Q_{6}**2 + 2*N_1*Q_{3}*exp(4*L_1*Q_{3}) - 2*N_1*Q_{3}*exp(2*L_1*Q_{3}))*exp(L_1*Q_{3}))/(Q_{4}*(4*L_1*Q_{3}*Q_{6}*exp(2*L_1*Q_{3}) - Q_{6}**2*exp(2*L_1*Q_{3}) + Q_{6}**2 - exp(4*L_1*Q_{3}) + exp(2*L_1*Q_{3}))), Ne(Q_{3}, 0)), (nan, True))"
      ]
     },
     "metadata": {},
     "output_type": "display_data"
    },
    {
     "data": {
      "text/latex": [
       "$\\displaystyle \\begin{cases} \\frac{2 B_{1} L_{1} Q_{2} Q_{3} Q_{4} Q_{6} e^{2 L_{1} Q_{3}} + 2 B_{1} L_{1} Q_{2} Q_{3} Q_{4} e^{2 L_{1} Q_{3}} - B_{1} Q_{2} Q_{4} Q_{6} e^{2 L_{1} Q_{3}} + B_{1} Q_{2} Q_{4} Q_{6} - B_{1} Q_{2} Q_{4} e^{4 L_{1} Q_{3}} + B_{1} Q_{2} Q_{4} e^{2 L_{1} Q_{3}} - \\sqrt{4 B_{1}^{2} L_{1}^{2} Q_{2}^{2} Q_{3}^{2} Q_{4}^{2} Q_{6}^{2} e^{2 L_{1} Q_{3}} - 8 B_{1}^{2} L_{1}^{2} Q_{2}^{2} Q_{3}^{2} Q_{4}^{2} Q_{6} e^{2 L_{1} Q_{3}} + 4 B_{1}^{2} L_{1}^{2} Q_{2}^{2} Q_{3}^{2} Q_{4}^{2} e^{2 L_{1} Q_{3}} - B_{1}^{2} Q_{2}^{2} Q_{4}^{2} Q_{6}^{2} e^{4 L_{1} Q_{3}} + 2 B_{1}^{2} Q_{2}^{2} Q_{4}^{2} Q_{6}^{2} e^{2 L_{1} Q_{3}} - B_{1}^{2} Q_{2}^{2} Q_{4}^{2} Q_{6}^{2} + 2 B_{1}^{2} Q_{2}^{2} Q_{4}^{2} Q_{6} e^{4 L_{1} Q_{3}} - 4 B_{1}^{2} Q_{2}^{2} Q_{4}^{2} Q_{6} e^{2 L_{1} Q_{3}} + 2 B_{1}^{2} Q_{2}^{2} Q_{4}^{2} Q_{6} - B_{1}^{2} Q_{2}^{2} Q_{4}^{2} e^{4 L_{1} Q_{3}} + 2 B_{1}^{2} Q_{2}^{2} Q_{4}^{2} e^{2 L_{1} Q_{3}} - B_{1}^{2} Q_{2}^{2} Q_{4}^{2} - 8 L_{1} N_{1} Q_{3}^{2} Q_{6} e^{2 L_{1} Q_{3}} + 2 N_{1} Q_{3} Q_{6}^{2} e^{2 L_{1} Q_{3}} - 2 N_{1} Q_{3} Q_{6}^{2} + 2 N_{1} Q_{3} e^{4 L_{1} Q_{3}} - 2 N_{1} Q_{3} e^{2 L_{1} Q_{3}}} e^{L_{1} Q_{3}}}{Q_{4} \\left(4 L_{1} Q_{3} Q_{6} e^{2 L_{1} Q_{3}} - Q_{6}^{2} e^{2 L_{1} Q_{3}} + Q_{6}^{2} - e^{4 L_{1} Q_{3}} + e^{2 L_{1} Q_{3}}\\right)} & \\text{for}\\: Q_{3} \\neq 0 \\\\\\text{NaN} & \\text{otherwise} \\end{cases}$"
      ],
      "text/plain": [
       "Piecewise(((2*B_{1}*L_1*Q_{2}*Q_{3}*Q_{4}*Q_{6}*exp(2*L_1*Q_{3}) + 2*B_{1}*L_1*Q_{2}*Q_{3}*Q_{4}*exp(2*L_1*Q_{3}) - B_{1}*Q_{2}*Q_{4}*Q_{6}*exp(2*L_1*Q_{3}) + B_{1}*Q_{2}*Q_{4}*Q_{6} - B_{1}*Q_{2}*Q_{4}*exp(4*L_1*Q_{3}) + B_{1}*Q_{2}*Q_{4}*exp(2*L_1*Q_{3}) - sqrt(4*B_{1}**2*L_1**2*Q_{2}**2*Q_{3}**2*Q_{4}**2*Q_{6}**2*exp(2*L_1*Q_{3}) - 8*B_{1}**2*L_1**2*Q_{2}**2*Q_{3}**2*Q_{4}**2*Q_{6}*exp(2*L_1*Q_{3}) + 4*B_{1}**2*L_1**2*Q_{2}**2*Q_{3}**2*Q_{4}**2*exp(2*L_1*Q_{3}) - B_{1}**2*Q_{2}**2*Q_{4}**2*Q_{6}**2*exp(4*L_1*Q_{3}) + 2*B_{1}**2*Q_{2}**2*Q_{4}**2*Q_{6}**2*exp(2*L_1*Q_{3}) - B_{1}**2*Q_{2}**2*Q_{4}**2*Q_{6}**2 + 2*B_{1}**2*Q_{2}**2*Q_{4}**2*Q_{6}*exp(4*L_1*Q_{3}) - 4*B_{1}**2*Q_{2}**2*Q_{4}**2*Q_{6}*exp(2*L_1*Q_{3}) + 2*B_{1}**2*Q_{2}**2*Q_{4}**2*Q_{6} - B_{1}**2*Q_{2}**2*Q_{4}**2*exp(4*L_1*Q_{3}) + 2*B_{1}**2*Q_{2}**2*Q_{4}**2*exp(2*L_1*Q_{3}) - B_{1}**2*Q_{2}**2*Q_{4}**2 - 8*L_1*N_1*Q_{3}**2*Q_{6}*exp(2*L_1*Q_{3}) + 2*N_1*Q_{3}*Q_{6}**2*exp(2*L_1*Q_{3}) - 2*N_1*Q_{3}*Q_{6}**2 + 2*N_1*Q_{3}*exp(4*L_1*Q_{3}) - 2*N_1*Q_{3}*exp(2*L_1*Q_{3}))*exp(L_1*Q_{3}))/(Q_{4}*(4*L_1*Q_{3}*Q_{6}*exp(2*L_1*Q_{3}) - Q_{6}**2*exp(2*L_1*Q_{3}) + Q_{6}**2 - exp(4*L_1*Q_{3}) + exp(2*L_1*Q_{3}))), Ne(Q_{3}, 0)), (nan, True))"
      ]
     },
     "metadata": {},
     "output_type": "display_data"
    },
    {
     "data": {
      "text/latex": [
       "$\\displaystyle \\begin{cases} - \\sqrt{\\frac{N_{1}}{L_{1} Q_{4}^{2} \\left(Q_{6}^{2} - 2 Q_{6} + 1\\right)}} & \\text{for}\\: Q_{3} = 0 \\\\\\text{NaN} & \\text{otherwise} \\end{cases}$"
      ],
      "text/plain": [
       "Piecewise((-sqrt(N_1/(L_1*Q_{4}**2*(Q_{6}**2 - 2*Q_{6} + 1))), Eq(Q_{3}, 0)), (nan, True))"
      ]
     },
     "metadata": {},
     "output_type": "display_data"
    },
    {
     "data": {
      "text/latex": [
       "$\\displaystyle \\begin{cases} \\sqrt{\\frac{N_{1}}{L_{1} Q_{4}^{2} \\left(Q_{6}^{2} - 2 Q_{6} + 1\\right)}} & \\text{for}\\: Q_{3} = 0 \\\\\\text{NaN} & \\text{otherwise} \\end{cases}$"
      ],
      "text/plain": [
       "Piecewise((sqrt(N_1/(L_1*Q_{4}**2*(Q_{6}**2 - 2*Q_{6} + 1))), Eq(Q_{3}, 0)), (nan, True))"
      ]
     },
     "metadata": {},
     "output_type": "display_data"
    },
    {
     "name": "stdout",
     "output_type": "stream",
     "text": [
      "Solved for  B_{0}\n"
     ]
    }
   ],
   "source": [
    "auto_solved[ 1 ] = stairwell_solver.solve_boundry_constants_from_equation( stairwell_solver.normalizations[ 1 ] )"
   ]
  },
  {
   "cell_type": "code",
   "execution_count": 30,
   "id": "5305e392-df62-4e81-ace3-0408b6f685ad",
   "metadata": {},
   "outputs": [
    {
     "data": {
      "text/latex": [
       "$\\displaystyle B_{0}$"
      ],
      "text/plain": [
       "B_{0}"
      ]
     },
     "metadata": {},
     "output_type": "display_data"
    },
    {
     "data": {
      "text/latex": [
       "$\\displaystyle \\begin{cases} - \\sqrt{2} \\sqrt{- \\frac{N_{0} Q_{2}}{Q_{3}^{2} \\left(4 L_{0} Q_{2} e^{2 L_{0} Q_{2}} - e^{4 L_{0} Q_{2}} + 1\\right)}} e^{L_{0} Q_{2}} & \\text{for}\\: Q_{2} \\neq 0 \\\\\\text{NaN} & \\text{otherwise} \\end{cases}$"
      ],
      "text/plain": [
       "Piecewise((-sqrt(2)*sqrt(-N_0*Q_{2}/(Q_{3}**2*(4*L_0*Q_{2}*exp(2*L_0*Q_{2}) - exp(4*L_0*Q_{2}) + 1)))*exp(L_0*Q_{2}), Ne(Q_{2}, 0)), (nan, True))"
      ]
     },
     "metadata": {},
     "output_type": "display_data"
    },
    {
     "data": {
      "text/latex": [
       "$\\displaystyle \\begin{cases} \\sqrt{2} \\sqrt{- \\frac{N_{0} Q_{2}}{Q_{3}^{2} \\left(4 L_{0} Q_{2} e^{2 L_{0} Q_{2}} - e^{4 L_{0} Q_{2}} + 1\\right)}} e^{L_{0} Q_{2}} & \\text{for}\\: Q_{2} \\neq 0 \\\\\\text{NaN} & \\text{otherwise} \\end{cases}$"
      ],
      "text/plain": [
       "Piecewise((sqrt(2)*sqrt(-N_0*Q_{2}/(Q_{3}**2*(4*L_0*Q_{2}*exp(2*L_0*Q_{2}) - exp(4*L_0*Q_{2}) + 1)))*exp(L_0*Q_{2}), Ne(Q_{2}, 0)), (nan, True))"
      ]
     },
     "metadata": {},
     "output_type": "display_data"
    },
    {
     "data": {
      "text/latex": [
       "$\\displaystyle \\begin{cases} \\frac{B_{1} Q_{2} Q_{4} \\left(2 L_{1} Q_{3} Q_{6} e^{2 L_{1} Q_{3}} + 2 L_{1} Q_{3} e^{2 L_{1} Q_{3}} - Q_{6} e^{2 L_{1} Q_{3}} + Q_{6} - e^{4 L_{1} Q_{3}} + e^{2 L_{1} Q_{3}}\\right) + \\sqrt{4 B_{1}^{2} L_{1}^{2} Q_{2}^{2} Q_{3}^{2} Q_{4}^{2} Q_{6}^{2} e^{2 L_{1} Q_{3}} - 8 B_{1}^{2} L_{1}^{2} Q_{2}^{2} Q_{3}^{2} Q_{4}^{2} Q_{6} e^{2 L_{1} Q_{3}} + 4 B_{1}^{2} L_{1}^{2} Q_{2}^{2} Q_{3}^{2} Q_{4}^{2} e^{2 L_{1} Q_{3}} - B_{1}^{2} Q_{2}^{2} Q_{4}^{2} Q_{6}^{2} e^{4 L_{1} Q_{3}} + 2 B_{1}^{2} Q_{2}^{2} Q_{4}^{2} Q_{6}^{2} e^{2 L_{1} Q_{3}} - B_{1}^{2} Q_{2}^{2} Q_{4}^{2} Q_{6}^{2} + 2 B_{1}^{2} Q_{2}^{2} Q_{4}^{2} Q_{6} e^{4 L_{1} Q_{3}} - 4 B_{1}^{2} Q_{2}^{2} Q_{4}^{2} Q_{6} e^{2 L_{1} Q_{3}} + 2 B_{1}^{2} Q_{2}^{2} Q_{4}^{2} Q_{6} - B_{1}^{2} Q_{2}^{2} Q_{4}^{2} e^{4 L_{1} Q_{3}} + 2 B_{1}^{2} Q_{2}^{2} Q_{4}^{2} e^{2 L_{1} Q_{3}} - B_{1}^{2} Q_{2}^{2} Q_{4}^{2} - 8 L_{1} N_{1} Q_{3}^{2} Q_{6} e^{2 L_{1} Q_{3}} + 2 N_{1} Q_{3} Q_{6}^{2} e^{2 L_{1} Q_{3}} - 2 N_{1} Q_{3} Q_{6}^{2} + 2 N_{1} Q_{3} e^{4 L_{1} Q_{3}} - 2 N_{1} Q_{3} e^{2 L_{1} Q_{3}}} e^{L_{1} Q_{3}}}{Q_{4} \\left(4 L_{1} Q_{3} Q_{6} e^{2 L_{1} Q_{3}} - Q_{6}^{2} e^{2 L_{1} Q_{3}} + Q_{6}^{2} - e^{4 L_{1} Q_{3}} + e^{2 L_{1} Q_{3}}\\right)} & \\text{for}\\: Q_{3} \\neq 0 \\\\\\text{NaN} & \\text{otherwise} \\end{cases}$"
      ],
      "text/plain": [
       "Piecewise(((B_{1}*Q_{2}*Q_{4}*(2*L_1*Q_{3}*Q_{6}*exp(2*L_1*Q_{3}) + 2*L_1*Q_{3}*exp(2*L_1*Q_{3}) - Q_{6}*exp(2*L_1*Q_{3}) + Q_{6} - exp(4*L_1*Q_{3}) + exp(2*L_1*Q_{3})) + sqrt(4*B_{1}**2*L_1**2*Q_{2}**2*Q_{3}**2*Q_{4}**2*Q_{6}**2*exp(2*L_1*Q_{3}) - 8*B_{1}**2*L_1**2*Q_{2}**2*Q_{3}**2*Q_{4}**2*Q_{6}*exp(2*L_1*Q_{3}) + 4*B_{1}**2*L_1**2*Q_{2}**2*Q_{3}**2*Q_{4}**2*exp(2*L_1*Q_{3}) - B_{1}**2*Q_{2}**2*Q_{4}**2*Q_{6}**2*exp(4*L_1*Q_{3}) + 2*B_{1}**2*Q_{2}**2*Q_{4}**2*Q_{6}**2*exp(2*L_1*Q_{3}) - B_{1}**2*Q_{2}**2*Q_{4}**2*Q_{6}**2 + 2*B_{1}**2*Q_{2}**2*Q_{4}**2*Q_{6}*exp(4*L_1*Q_{3}) - 4*B_{1}**2*Q_{2}**2*Q_{4}**2*Q_{6}*exp(2*L_1*Q_{3}) + 2*B_{1}**2*Q_{2}**2*Q_{4}**2*Q_{6} - B_{1}**2*Q_{2}**2*Q_{4}**2*exp(4*L_1*Q_{3}) + 2*B_{1}**2*Q_{2}**2*Q_{4}**2*exp(2*L_1*Q_{3}) - B_{1}**2*Q_{2}**2*Q_{4}**2 - 8*L_1*N_1*Q_{3}**2*Q_{6}*exp(2*L_1*Q_{3}) + 2*N_1*Q_{3}*Q_{6}**2*exp(2*L_1*Q_{3}) - 2*N_1*Q_{3}*Q_{6}**2 + 2*N_1*Q_{3}*exp(4*L_1*Q_{3}) - 2*N_1*Q_{3}*exp(2*L_1*Q_{3}))*exp(L_1*Q_{3}))/(Q_{4}*(4*L_1*Q_{3}*Q_{6}*exp(2*L_1*Q_{3}) - Q_{6}**2*exp(2*L_1*Q_{3}) + Q_{6}**2 - exp(4*L_1*Q_{3}) + exp(2*L_1*Q_{3}))), Ne(Q_{3}, 0)), (nan, True))"
      ]
     },
     "metadata": {},
     "output_type": "display_data"
    },
    {
     "data": {
      "text/latex": [
       "$\\displaystyle \\begin{cases} \\frac{2 B_{1} L_{1} Q_{2} Q_{3} Q_{4} Q_{6} e^{2 L_{1} Q_{3}} + 2 B_{1} L_{1} Q_{2} Q_{3} Q_{4} e^{2 L_{1} Q_{3}} - B_{1} Q_{2} Q_{4} Q_{6} e^{2 L_{1} Q_{3}} + B_{1} Q_{2} Q_{4} Q_{6} - B_{1} Q_{2} Q_{4} e^{4 L_{1} Q_{3}} + B_{1} Q_{2} Q_{4} e^{2 L_{1} Q_{3}} - \\sqrt{4 B_{1}^{2} L_{1}^{2} Q_{2}^{2} Q_{3}^{2} Q_{4}^{2} Q_{6}^{2} e^{2 L_{1} Q_{3}} - 8 B_{1}^{2} L_{1}^{2} Q_{2}^{2} Q_{3}^{2} Q_{4}^{2} Q_{6} e^{2 L_{1} Q_{3}} + 4 B_{1}^{2} L_{1}^{2} Q_{2}^{2} Q_{3}^{2} Q_{4}^{2} e^{2 L_{1} Q_{3}} - B_{1}^{2} Q_{2}^{2} Q_{4}^{2} Q_{6}^{2} e^{4 L_{1} Q_{3}} + 2 B_{1}^{2} Q_{2}^{2} Q_{4}^{2} Q_{6}^{2} e^{2 L_{1} Q_{3}} - B_{1}^{2} Q_{2}^{2} Q_{4}^{2} Q_{6}^{2} + 2 B_{1}^{2} Q_{2}^{2} Q_{4}^{2} Q_{6} e^{4 L_{1} Q_{3}} - 4 B_{1}^{2} Q_{2}^{2} Q_{4}^{2} Q_{6} e^{2 L_{1} Q_{3}} + 2 B_{1}^{2} Q_{2}^{2} Q_{4}^{2} Q_{6} - B_{1}^{2} Q_{2}^{2} Q_{4}^{2} e^{4 L_{1} Q_{3}} + 2 B_{1}^{2} Q_{2}^{2} Q_{4}^{2} e^{2 L_{1} Q_{3}} - B_{1}^{2} Q_{2}^{2} Q_{4}^{2} - 8 L_{1} N_{1} Q_{3}^{2} Q_{6} e^{2 L_{1} Q_{3}} + 2 N_{1} Q_{3} Q_{6}^{2} e^{2 L_{1} Q_{3}} - 2 N_{1} Q_{3} Q_{6}^{2} + 2 N_{1} Q_{3} e^{4 L_{1} Q_{3}} - 2 N_{1} Q_{3} e^{2 L_{1} Q_{3}}} e^{L_{1} Q_{3}}}{Q_{4} \\left(4 L_{1} Q_{3} Q_{6} e^{2 L_{1} Q_{3}} - Q_{6}^{2} e^{2 L_{1} Q_{3}} + Q_{6}^{2} - e^{4 L_{1} Q_{3}} + e^{2 L_{1} Q_{3}}\\right)} & \\text{for}\\: Q_{3} \\neq 0 \\\\\\text{NaN} & \\text{otherwise} \\end{cases}$"
      ],
      "text/plain": [
       "Piecewise(((2*B_{1}*L_1*Q_{2}*Q_{3}*Q_{4}*Q_{6}*exp(2*L_1*Q_{3}) + 2*B_{1}*L_1*Q_{2}*Q_{3}*Q_{4}*exp(2*L_1*Q_{3}) - B_{1}*Q_{2}*Q_{4}*Q_{6}*exp(2*L_1*Q_{3}) + B_{1}*Q_{2}*Q_{4}*Q_{6} - B_{1}*Q_{2}*Q_{4}*exp(4*L_1*Q_{3}) + B_{1}*Q_{2}*Q_{4}*exp(2*L_1*Q_{3}) - sqrt(4*B_{1}**2*L_1**2*Q_{2}**2*Q_{3}**2*Q_{4}**2*Q_{6}**2*exp(2*L_1*Q_{3}) - 8*B_{1}**2*L_1**2*Q_{2}**2*Q_{3}**2*Q_{4}**2*Q_{6}*exp(2*L_1*Q_{3}) + 4*B_{1}**2*L_1**2*Q_{2}**2*Q_{3}**2*Q_{4}**2*exp(2*L_1*Q_{3}) - B_{1}**2*Q_{2}**2*Q_{4}**2*Q_{6}**2*exp(4*L_1*Q_{3}) + 2*B_{1}**2*Q_{2}**2*Q_{4}**2*Q_{6}**2*exp(2*L_1*Q_{3}) - B_{1}**2*Q_{2}**2*Q_{4}**2*Q_{6}**2 + 2*B_{1}**2*Q_{2}**2*Q_{4}**2*Q_{6}*exp(4*L_1*Q_{3}) - 4*B_{1}**2*Q_{2}**2*Q_{4}**2*Q_{6}*exp(2*L_1*Q_{3}) + 2*B_{1}**2*Q_{2}**2*Q_{4}**2*Q_{6} - B_{1}**2*Q_{2}**2*Q_{4}**2*exp(4*L_1*Q_{3}) + 2*B_{1}**2*Q_{2}**2*Q_{4}**2*exp(2*L_1*Q_{3}) - B_{1}**2*Q_{2}**2*Q_{4}**2 - 8*L_1*N_1*Q_{3}**2*Q_{6}*exp(2*L_1*Q_{3}) + 2*N_1*Q_{3}*Q_{6}**2*exp(2*L_1*Q_{3}) - 2*N_1*Q_{3}*Q_{6}**2 + 2*N_1*Q_{3}*exp(4*L_1*Q_{3}) - 2*N_1*Q_{3}*exp(2*L_1*Q_{3}))*exp(L_1*Q_{3}))/(Q_{4}*(4*L_1*Q_{3}*Q_{6}*exp(2*L_1*Q_{3}) - Q_{6}**2*exp(2*L_1*Q_{3}) + Q_{6}**2 - exp(4*L_1*Q_{3}) + exp(2*L_1*Q_{3}))), Ne(Q_{3}, 0)), (nan, True))"
      ]
     },
     "metadata": {},
     "output_type": "display_data"
    },
    {
     "data": {
      "text/latex": [
       "$\\displaystyle \\begin{cases} - \\sqrt{\\frac{N_{1}}{L_{1} Q_{4}^{2} \\left(Q_{6}^{2} - 2 Q_{6} + 1\\right)}} & \\text{for}\\: Q_{3} = 0 \\\\\\text{NaN} & \\text{otherwise} \\end{cases}$"
      ],
      "text/plain": [
       "Piecewise((-sqrt(N_1/(L_1*Q_{4}**2*(Q_{6}**2 - 2*Q_{6} + 1))), Eq(Q_{3}, 0)), (nan, True))"
      ]
     },
     "metadata": {},
     "output_type": "display_data"
    },
    {
     "data": {
      "text/latex": [
       "$\\displaystyle \\begin{cases} \\sqrt{\\frac{N_{1}}{L_{1} Q_{4}^{2} \\left(Q_{6}^{2} - 2 Q_{6} + 1\\right)}} & \\text{for}\\: Q_{3} = 0 \\\\\\text{NaN} & \\text{otherwise} \\end{cases}$"
      ],
      "text/plain": [
       "Piecewise((sqrt(N_1/(L_1*Q_{4}**2*(Q_{6}**2 - 2*Q_{6} + 1))), Eq(Q_{3}, 0)), (nan, True))"
      ]
     },
     "metadata": {},
     "output_type": "display_data"
    },
    {
     "data": {
      "text/plain": [
       "[(None, None)]"
      ]
     },
     "execution_count": 30,
     "metadata": {},
     "output_type": "execute_result"
    }
   ],
   "source": [
    "display_table( auto_solved[ 1 ] )"
   ]
  },
  {
   "cell_type": "code",
   "execution_count": null,
   "id": "90bd8cb5-ca24-455c-a59f-46d288946453",
   "metadata": {},
   "outputs": [],
   "source": []
  },
  {
   "cell_type": "code",
   "execution_count": 31,
   "id": "9a74102d-69cd-4f7a-aa15-d17be1fea9ee",
   "metadata": {},
   "outputs": [],
   "source": [
    "def clean_nan_piecewise( nan_piecewise ): \n",
    "    if type( nan_piecewise.args[ 1 ][ 0 ] ) is sp.core.numbers.NaN: \n",
    "        return nan_piecewise.args[ 0 ][ 0 ]"
   ]
  },
  {
   "cell_type": "code",
   "execution_count": 32,
   "id": "ff71ad59-46a7-45a0-ba68-a873691b3e41",
   "metadata": {},
   "outputs": [],
   "source": [
    "sol_1_positive = clean_nan_piecewise( list( auto_solved[ 1 ].values() )[ 0 ][ 2 ].last_step() )"
   ]
  },
  {
   "cell_type": "code",
   "execution_count": 33,
   "id": "bc56126d-518a-40d4-ba6e-54fe3cccca03",
   "metadata": {},
   "outputs": [],
   "source": [
    "sol_1_negative = clean_nan_piecewise( list( auto_solved[ 1 ].values() )[ 0 ][ 3 ].last_step() )"
   ]
  },
  {
   "cell_type": "code",
   "execution_count": null,
   "id": "6430f04d-7c91-46b4-9cb2-fa58b3a133ab",
   "metadata": {},
   "outputs": [],
   "source": []
  },
  {
   "cell_type": "code",
   "execution_count": 34,
   "id": "0089d999-445d-4281-b10a-c516f6efc34e",
   "metadata": {},
   "outputs": [
    {
     "data": {
      "text/latex": [
       "$\\displaystyle \\frac{B_{1} Q_{2} Q_{4} \\left(2 L_{1} Q_{3} Q_{6} e^{2 L_{1} Q_{3}} + 2 L_{1} Q_{3} e^{2 L_{1} Q_{3}} - Q_{6} e^{2 L_{1} Q_{3}} + Q_{6} - e^{4 L_{1} Q_{3}} + e^{2 L_{1} Q_{3}}\\right) + \\sqrt{4 B_{1}^{2} L_{1}^{2} Q_{2}^{2} Q_{3}^{2} Q_{4}^{2} Q_{6}^{2} e^{2 L_{1} Q_{3}} - 8 B_{1}^{2} L_{1}^{2} Q_{2}^{2} Q_{3}^{2} Q_{4}^{2} Q_{6} e^{2 L_{1} Q_{3}} + 4 B_{1}^{2} L_{1}^{2} Q_{2}^{2} Q_{3}^{2} Q_{4}^{2} e^{2 L_{1} Q_{3}} - B_{1}^{2} Q_{2}^{2} Q_{4}^{2} Q_{6}^{2} e^{4 L_{1} Q_{3}} + 2 B_{1}^{2} Q_{2}^{2} Q_{4}^{2} Q_{6}^{2} e^{2 L_{1} Q_{3}} - B_{1}^{2} Q_{2}^{2} Q_{4}^{2} Q_{6}^{2} + 2 B_{1}^{2} Q_{2}^{2} Q_{4}^{2} Q_{6} e^{4 L_{1} Q_{3}} - 4 B_{1}^{2} Q_{2}^{2} Q_{4}^{2} Q_{6} e^{2 L_{1} Q_{3}} + 2 B_{1}^{2} Q_{2}^{2} Q_{4}^{2} Q_{6} - B_{1}^{2} Q_{2}^{2} Q_{4}^{2} e^{4 L_{1} Q_{3}} + 2 B_{1}^{2} Q_{2}^{2} Q_{4}^{2} e^{2 L_{1} Q_{3}} - B_{1}^{2} Q_{2}^{2} Q_{4}^{2} - 8 L_{1} N_{1} Q_{3}^{2} Q_{6} e^{2 L_{1} Q_{3}} + 2 N_{1} Q_{3} Q_{6}^{2} e^{2 L_{1} Q_{3}} - 2 N_{1} Q_{3} Q_{6}^{2} + 2 N_{1} Q_{3} e^{4 L_{1} Q_{3}} - 2 N_{1} Q_{3} e^{2 L_{1} Q_{3}}} e^{L_{1} Q_{3}}}{Q_{4} \\left(4 L_{1} Q_{3} Q_{6} e^{2 L_{1} Q_{3}} - Q_{6}^{2} e^{2 L_{1} Q_{3}} + Q_{6}^{2} - e^{4 L_{1} Q_{3}} + e^{2 L_{1} Q_{3}}\\right)}$"
      ],
      "text/plain": [
       "(B_{1}*Q_{2}*Q_{4}*(2*L_1*Q_{3}*Q_{6}*exp(2*L_1*Q_{3}) + 2*L_1*Q_{3}*exp(2*L_1*Q_{3}) - Q_{6}*exp(2*L_1*Q_{3}) + Q_{6} - exp(4*L_1*Q_{3}) + exp(2*L_1*Q_{3})) + sqrt(4*B_{1}**2*L_1**2*Q_{2}**2*Q_{3}**2*Q_{4}**2*Q_{6}**2*exp(2*L_1*Q_{3}) - 8*B_{1}**2*L_1**2*Q_{2}**2*Q_{3}**2*Q_{4}**2*Q_{6}*exp(2*L_1*Q_{3}) + 4*B_{1}**2*L_1**2*Q_{2}**2*Q_{3}**2*Q_{4}**2*exp(2*L_1*Q_{3}) - B_{1}**2*Q_{2}**2*Q_{4}**2*Q_{6}**2*exp(4*L_1*Q_{3}) + 2*B_{1}**2*Q_{2}**2*Q_{4}**2*Q_{6}**2*exp(2*L_1*Q_{3}) - B_{1}**2*Q_{2}**2*Q_{4}**2*Q_{6}**2 + 2*B_{1}**2*Q_{2}**2*Q_{4}**2*Q_{6}*exp(4*L_1*Q_{3}) - 4*B_{1}**2*Q_{2}**2*Q_{4}**2*Q_{6}*exp(2*L_1*Q_{3}) + 2*B_{1}**2*Q_{2}**2*Q_{4}**2*Q_{6} - B_{1}**2*Q_{2}**2*Q_{4}**2*exp(4*L_1*Q_{3}) + 2*B_{1}**2*Q_{2}**2*Q_{4}**2*exp(2*L_1*Q_{3}) - B_{1}**2*Q_{2}**2*Q_{4}**2 - 8*L_1*N_1*Q_{3}**2*Q_{6}*exp(2*L_1*Q_{3}) + 2*N_1*Q_{3}*Q_{6}**2*exp(2*L_1*Q_{3}) - 2*N_1*Q_{3}*Q_{6}**2 + 2*N_1*Q_{3}*exp(4*L_1*Q_{3}) - 2*N_1*Q_{3}*exp(2*L_1*Q_{3}))*exp(L_1*Q_{3}))/(Q_{4}*(4*L_1*Q_{3}*Q_{6}*exp(2*L_1*Q_{3}) - Q_{6}**2*exp(2*L_1*Q_{3}) + Q_{6}**2 - exp(4*L_1*Q_{3}) + exp(2*L_1*Q_{3})))"
      ]
     },
     "execution_count": 34,
     "metadata": {},
     "output_type": "execute_result"
    }
   ],
   "source": [
    "sol_1_positive"
   ]
  },
  {
   "cell_type": "code",
   "execution_count": 35,
   "id": "6089753b-b56d-4ca3-8093-f19d4763897d",
   "metadata": {},
   "outputs": [
    {
     "data": {
      "text/latex": [
       "$\\displaystyle \\frac{2 B_{1} L_{1} Q_{2} Q_{3} Q_{4} Q_{6} e^{2 L_{1} Q_{3}} + 2 B_{1} L_{1} Q_{2} Q_{3} Q_{4} e^{2 L_{1} Q_{3}} - B_{1} Q_{2} Q_{4} Q_{6} e^{2 L_{1} Q_{3}} + B_{1} Q_{2} Q_{4} Q_{6} - B_{1} Q_{2} Q_{4} e^{4 L_{1} Q_{3}} + B_{1} Q_{2} Q_{4} e^{2 L_{1} Q_{3}} - \\sqrt{4 B_{1}^{2} L_{1}^{2} Q_{2}^{2} Q_{3}^{2} Q_{4}^{2} Q_{6}^{2} e^{2 L_{1} Q_{3}} - 8 B_{1}^{2} L_{1}^{2} Q_{2}^{2} Q_{3}^{2} Q_{4}^{2} Q_{6} e^{2 L_{1} Q_{3}} + 4 B_{1}^{2} L_{1}^{2} Q_{2}^{2} Q_{3}^{2} Q_{4}^{2} e^{2 L_{1} Q_{3}} - B_{1}^{2} Q_{2}^{2} Q_{4}^{2} Q_{6}^{2} e^{4 L_{1} Q_{3}} + 2 B_{1}^{2} Q_{2}^{2} Q_{4}^{2} Q_{6}^{2} e^{2 L_{1} Q_{3}} - B_{1}^{2} Q_{2}^{2} Q_{4}^{2} Q_{6}^{2} + 2 B_{1}^{2} Q_{2}^{2} Q_{4}^{2} Q_{6} e^{4 L_{1} Q_{3}} - 4 B_{1}^{2} Q_{2}^{2} Q_{4}^{2} Q_{6} e^{2 L_{1} Q_{3}} + 2 B_{1}^{2} Q_{2}^{2} Q_{4}^{2} Q_{6} - B_{1}^{2} Q_{2}^{2} Q_{4}^{2} e^{4 L_{1} Q_{3}} + 2 B_{1}^{2} Q_{2}^{2} Q_{4}^{2} e^{2 L_{1} Q_{3}} - B_{1}^{2} Q_{2}^{2} Q_{4}^{2} - 8 L_{1} N_{1} Q_{3}^{2} Q_{6} e^{2 L_{1} Q_{3}} + 2 N_{1} Q_{3} Q_{6}^{2} e^{2 L_{1} Q_{3}} - 2 N_{1} Q_{3} Q_{6}^{2} + 2 N_{1} Q_{3} e^{4 L_{1} Q_{3}} - 2 N_{1} Q_{3} e^{2 L_{1} Q_{3}}} e^{L_{1} Q_{3}}}{Q_{4} \\left(4 L_{1} Q_{3} Q_{6} e^{2 L_{1} Q_{3}} - Q_{6}^{2} e^{2 L_{1} Q_{3}} + Q_{6}^{2} - e^{4 L_{1} Q_{3}} + e^{2 L_{1} Q_{3}}\\right)}$"
      ],
      "text/plain": [
       "(2*B_{1}*L_1*Q_{2}*Q_{3}*Q_{4}*Q_{6}*exp(2*L_1*Q_{3}) + 2*B_{1}*L_1*Q_{2}*Q_{3}*Q_{4}*exp(2*L_1*Q_{3}) - B_{1}*Q_{2}*Q_{4}*Q_{6}*exp(2*L_1*Q_{3}) + B_{1}*Q_{2}*Q_{4}*Q_{6} - B_{1}*Q_{2}*Q_{4}*exp(4*L_1*Q_{3}) + B_{1}*Q_{2}*Q_{4}*exp(2*L_1*Q_{3}) - sqrt(4*B_{1}**2*L_1**2*Q_{2}**2*Q_{3}**2*Q_{4}**2*Q_{6}**2*exp(2*L_1*Q_{3}) - 8*B_{1}**2*L_1**2*Q_{2}**2*Q_{3}**2*Q_{4}**2*Q_{6}*exp(2*L_1*Q_{3}) + 4*B_{1}**2*L_1**2*Q_{2}**2*Q_{3}**2*Q_{4}**2*exp(2*L_1*Q_{3}) - B_{1}**2*Q_{2}**2*Q_{4}**2*Q_{6}**2*exp(4*L_1*Q_{3}) + 2*B_{1}**2*Q_{2}**2*Q_{4}**2*Q_{6}**2*exp(2*L_1*Q_{3}) - B_{1}**2*Q_{2}**2*Q_{4}**2*Q_{6}**2 + 2*B_{1}**2*Q_{2}**2*Q_{4}**2*Q_{6}*exp(4*L_1*Q_{3}) - 4*B_{1}**2*Q_{2}**2*Q_{4}**2*Q_{6}*exp(2*L_1*Q_{3}) + 2*B_{1}**2*Q_{2}**2*Q_{4}**2*Q_{6} - B_{1}**2*Q_{2}**2*Q_{4}**2*exp(4*L_1*Q_{3}) + 2*B_{1}**2*Q_{2}**2*Q_{4}**2*exp(2*L_1*Q_{3}) - B_{1}**2*Q_{2}**2*Q_{4}**2 - 8*L_1*N_1*Q_{3}**2*Q_{6}*exp(2*L_1*Q_{3}) + 2*N_1*Q_{3}*Q_{6}**2*exp(2*L_1*Q_{3}) - 2*N_1*Q_{3}*Q_{6}**2 + 2*N_1*Q_{3}*exp(4*L_1*Q_{3}) - 2*N_1*Q_{3}*exp(2*L_1*Q_{3}))*exp(L_1*Q_{3}))/(Q_{4}*(4*L_1*Q_{3}*Q_{6}*exp(2*L_1*Q_{3}) - Q_{6}**2*exp(2*L_1*Q_{3}) + Q_{6}**2 - exp(4*L_1*Q_{3}) + exp(2*L_1*Q_{3})))"
      ]
     },
     "execution_count": 35,
     "metadata": {},
     "output_type": "execute_result"
    }
   ],
   "source": [
    "sol_1_negative"
   ]
  },
  {
   "cell_type": "code",
   "execution_count": 36,
   "id": "9b58f455-14f8-43df-ad62-ce518a2326b5",
   "metadata": {},
   "outputs": [],
   "source": [
    "b_0_norm_with_b_1 = sp.Eq( sp.Abs( stairwell_solver.boundry_constant_symbols[ 0 ]  )** 2, ( sol_1_positive * sol_1_negative ).simplify() )"
   ]
  },
  {
   "cell_type": "code",
   "execution_count": 37,
   "id": "d82a5dd6-f4b6-4d61-a2f4-a945407c94a6",
   "metadata": {},
   "outputs": [
    {
     "data": {
      "text/latex": [
       "$\\displaystyle \\left|{B_{0}}\\right|^{2} = \\frac{4 B_{1}^{2} L_{1} Q_{2}^{2} Q_{3} Q_{4}^{2} e^{2 L_{1} Q_{3}} - B_{1}^{2} Q_{2}^{2} Q_{4}^{2} e^{4 L_{1} Q_{3}} + B_{1}^{2} Q_{2}^{2} Q_{4}^{2} + 2 N_{1} Q_{3} e^{2 L_{1} Q_{3}}}{Q_{4}^{2} \\left(4 L_{1} Q_{3} Q_{6} e^{2 L_{1} Q_{3}} - Q_{6}^{2} e^{2 L_{1} Q_{3}} + Q_{6}^{2} - e^{4 L_{1} Q_{3}} + e^{2 L_{1} Q_{3}}\\right)}$"
      ],
      "text/plain": [
       "Eq(Abs(B_{0})**2, (4*B_{1}**2*L_1*Q_{2}**2*Q_{3}*Q_{4}**2*exp(2*L_1*Q_{3}) - B_{1}**2*Q_{2}**2*Q_{4}**2*exp(4*L_1*Q_{3}) + B_{1}**2*Q_{2}**2*Q_{4}**2 + 2*N_1*Q_{3}*exp(2*L_1*Q_{3}))/(Q_{4}**2*(4*L_1*Q_{3}*Q_{6}*exp(2*L_1*Q_{3}) - Q_{6}**2*exp(2*L_1*Q_{3}) + Q_{6}**2 - exp(4*L_1*Q_{3}) + exp(2*L_1*Q_{3}))))"
      ]
     },
     "execution_count": 37,
     "metadata": {},
     "output_type": "execute_result"
    }
   ],
   "source": [
    "b_0_norm_with_b_1"
   ]
  },
  {
   "cell_type": "code",
   "execution_count": 38,
   "id": "a69c027c-c2c5-45ae-967f-5c44811e40e0",
   "metadata": {},
   "outputs": [],
   "source": [
    "reverse_table = lambda table : { table[ key ] : key for key in table }"
   ]
  },
  {
   "cell_type": "code",
   "execution_count": 39,
   "id": "ebeffede-9685-4284-9b9e-03d29a46c4a1",
   "metadata": {},
   "outputs": [],
   "source": [
    "q_1 = reverse_table( q_constants[ 1 ] )\n",
    "b_0_norm_with_b_1 = b_0_norm_with_b_1.xreplace( q_1 )\n",
    "# Need to do it twice, some Q constants are replaced by other Q constants.\n",
    "b_0_norm_with_b_1 = b_0_norm_with_b_1.xreplace( q_1 )"
   ]
  },
  {
   "cell_type": "code",
   "execution_count": 40,
   "id": "cc74007d-ed0e-414f-a7a9-f62696ea4f9e",
   "metadata": {},
   "outputs": [
    {
     "data": {
      "text/latex": [
       "$\\displaystyle \\left|{B_{0}}\\right|^{2} = \\frac{\\left(e^{2 L_{1} k_{1}} - 1\\right)^{2} \\left(\\frac{4 B_{1}^{2} L_{1} k_{1} e^{4 L_{1} k_{1}}}{\\left(e^{2 L_{1} k_{1}} - 1\\right)^{2}} - \\frac{B_{1}^{2} e^{6 L_{1} k_{1}}}{\\left(e^{2 L_{1} k_{1}} - 1\\right)^{2}} + \\frac{B_{1}^{2} e^{2 L_{1} k_{1}}}{\\left(e^{2 L_{1} k_{1}} - 1\\right)^{2}} + 2 N_{1} k_{1} e^{2 L_{1} k_{1}}\\right)}{4 L_{1} k_{1} e^{4 L_{1} k_{1}} - e^{6 L_{1} k_{1}} + e^{2 L_{1} k_{1}}}$"
      ],
      "text/plain": [
       "Eq(Abs(B_{0})**2, (exp(2*L_1*k_1) - 1)**2*(4*B_{1}**2*L_1*k_1*exp(4*L_1*k_1)/(exp(2*L_1*k_1) - 1)**2 - B_{1}**2*exp(6*L_1*k_1)/(exp(2*L_1*k_1) - 1)**2 + B_{1}**2*exp(2*L_1*k_1)/(exp(2*L_1*k_1) - 1)**2 + 2*N_1*k_1*exp(2*L_1*k_1))/(4*L_1*k_1*exp(4*L_1*k_1) - exp(6*L_1*k_1) + exp(2*L_1*k_1)))"
      ]
     },
     "execution_count": 40,
     "metadata": {},
     "output_type": "execute_result"
    }
   ],
   "source": [
    "b_0_norm_with_b_1"
   ]
  },
  {
   "cell_type": "code",
   "execution_count": null,
   "id": "8a3984f5-9a77-4101-9d1f-92681c67162e",
   "metadata": {},
   "outputs": [],
   "source": []
  },
  {
   "cell_type": "code",
   "execution_count": 41,
   "id": "4762c658-4c1f-4471-8141-32d5994bc888",
   "metadata": {},
   "outputs": [],
   "source": [
    "#auto_solved[ 2 ] = stairwell_solver.solve_boundry_constants_from_equation( stairwell_solver.normalizations[ 2 ] )"
   ]
  },
  {
   "cell_type": "code",
   "execution_count": 42,
   "id": "5cdb1c4a-f3ac-4e36-aec9-d8c34173d13c",
   "metadata": {},
   "outputs": [],
   "source": [
    "#display_table( auto_solved[ 2 ] )"
   ]
  },
  {
   "cell_type": "code",
   "execution_count": null,
   "id": "90465dce-3266-41b4-a0dd-58bd544aab24",
   "metadata": {},
   "outputs": [],
   "source": []
  },
  {
   "cell_type": "code",
   "execution_count": 43,
   "id": "d543c859-2b16-47d1-bfd8-565cbe0dc837",
   "metadata": {},
   "outputs": [],
   "source": [
    "def square( solutions ): \n",
    "    solutions_ = list( solutions.values() )[ 0 ]\n",
    "    return sp.Eq( sp.Abs( list( solutions.keys() )[ 0 ] ) ** 2, \n",
    "            solutions_[ 0 ].last_step().args[ 0 ].args[ 0 ] \\\n",
    "            * solutions_[ 1 ].last_step().args[ 0 ].args[ 0 ] \n",
    "        )"
   ]
  },
  {
   "cell_type": "code",
   "execution_count": 44,
   "id": "bf02b7f3-2a3f-47ed-bbda-d89efa5abf17",
   "metadata": {},
   "outputs": [],
   "source": [
    "q_0 = reverse_table( q_constants[ 0 ] )\n",
    "b_0 = square( auto_solved[ 0 ] )\n",
    "b_0 = b_0.xreplace( q_0 )\n",
    "b_0 = b_0.xreplace( q_0 )"
   ]
  },
  {
   "cell_type": "code",
   "execution_count": 45,
   "id": "8c289a7a-ad74-4a1f-bd9e-e6f661366369",
   "metadata": {},
   "outputs": [
    {
     "data": {
      "text/latex": [
       "$\\displaystyle \\left|{B_{0}}\\right|^{2} = \\frac{2 N_{0} k_{0} \\left(e^{2 L_{0} k_{0}} - 1\\right)^{2}}{4 L_{0} k_{0} e^{2 L_{0} k_{0}} - e^{4 L_{0} k_{0}} + 1}$"
      ],
      "text/plain": [
       "Eq(Abs(B_{0})**2, 2*N_0*k_0*(exp(2*L_0*k_0) - 1)**2/(4*L_0*k_0*exp(2*L_0*k_0) - exp(4*L_0*k_0) + 1))"
      ]
     },
     "execution_count": 45,
     "metadata": {},
     "output_type": "execute_result"
    }
   ],
   "source": [
    "b_0"
   ]
  },
  {
   "cell_type": "code",
   "execution_count": null,
   "id": "a2dbd7e4-4372-48e7-ab35-ce0af9969db7",
   "metadata": {},
   "outputs": [],
   "source": []
  },
  {
   "cell_type": "code",
   "execution_count": 46,
   "id": "857ff833-46fa-4059-9568-cf22daf0b9d2",
   "metadata": {},
   "outputs": [
    {
     "data": {
      "text/latex": [
       "$\\displaystyle \\psi_{0}{\\left(x \\right)} = \\frac{B_{0} e^{L_{0} k_{0}} e^{k_{0} x}}{e^{2 L_{0} k_{0}} - 1} - \\frac{B_{0} e^{L_{0} k_{0}} e^{- k_{0} x}}{e^{2 L_{0} k_{0}} - 1}$"
      ],
      "text/plain": [
       "Eq(\\psi_{0}(x), B_{0}*exp(L_0*k_0)*exp(k_0*x)/(exp(2*L_0*k_0) - 1) - B_{0}*exp(L_0*k_0)*exp(-k_0*x)/(exp(2*L_0*k_0) - 1))"
      ]
     },
     "metadata": {},
     "output_type": "display_data"
    },
    {
     "data": {
      "text/latex": [
       "$\\displaystyle \\psi_{1}{\\left(x \\right)} = \\frac{\\left(- B_{0} + B_{1} e^{L_{1} k_{1}}\\right) e^{k_{1} x}}{e^{2 L_{1} k_{1}} - 1} + \\frac{\\left(B_{0} e^{2 L_{1} k_{1}} - B_{1} e^{L_{1} k_{1}}\\right) e^{- k_{1} x}}{e^{2 L_{1} k_{1}} - 1}$"
      ],
      "text/plain": [
       "Eq(\\psi_{1}(x), (-B_{0} + B_{1}*exp(L_1*k_1))*exp(k_1*x)/(exp(2*L_1*k_1) - 1) + (B_{0}*exp(2*L_1*k_1) - B_{1}*exp(L_1*k_1))*exp(-k_1*x)/(exp(2*L_1*k_1) - 1))"
      ]
     },
     "metadata": {},
     "output_type": "display_data"
    },
    {
     "data": {
      "text/latex": [
       "$\\displaystyle \\psi_{2}{\\left(x \\right)} = \\frac{B_{1} e^{2 L_{2} k_{2}} e^{- k_{2} x}}{e^{2 L_{2} k_{2}} - 1} - \\frac{B_{1} e^{k_{2} x}}{e^{2 L_{2} k_{2}} - 1}$"
      ],
      "text/plain": [
       "Eq(\\psi_{2}(x), B_{1}*exp(2*L_2*k_2)*exp(-k_2*x)/(exp(2*L_2*k_2) - 1) - B_{1}*exp(k_2*x)/(exp(2*L_2*k_2) - 1))"
      ]
     },
     "metadata": {},
     "output_type": "display_data"
    }
   ],
   "source": [
    "display_steps( stairwell_solver.equations )"
   ]
  },
  {
   "cell_type": "code",
   "execution_count": 47,
   "id": "ac2733b6-9242-4f37-8d63-1b610efe3bb2",
   "metadata": {},
   "outputs": [
    {
     "data": {
      "text/plain": [
       "sympy.core.relational.Equality"
      ]
     },
     "execution_count": 47,
     "metadata": {},
     "output_type": "execute_result"
    }
   ],
   "source": [
    "sp.core.relational.Equality"
   ]
  },
  {
   "cell_type": "code",
   "execution_count": 48,
   "id": "e05490d7-e13e-44b9-be98-1aad2d31d2be",
   "metadata": {},
   "outputs": [
    {
     "name": "stdout",
     "output_type": "stream",
     "text": [
      "<class 'sympy.logic.boolalg.BooleanTrue'>\n",
      "<class 'sympy.core.relational.Equality'>\n",
      "<class 'sympy.core.relational.Equality'>\n",
      "<class 'sympy.core.relational.Equality'>\n",
      "<class 'sympy.core.relational.Equality'>\n",
      "<class 'sympy.core.relational.Equality'>\n"
     ]
    }
   ],
   "source": [
    "( wave_function_substitutions, normalization_substitutions ) = stairwell_solver.make_substitution_solution( 0 )"
   ]
  },
  {
   "cell_type": "code",
   "execution_count": null,
   "id": "2036921e-823e-4c30-8363-202be55e6065",
   "metadata": {},
   "outputs": [],
   "source": []
  },
  {
   "cell_type": "code",
   "execution_count": null,
   "id": "fb541ce9-5558-4d84-ba0a-a3cf2c112b7d",
   "metadata": {},
   "outputs": [],
   "source": []
  },
  {
   "cell_type": "code",
   "execution_count": 49,
   "id": "71ea641c-2b58-4abe-ae27-b43ec5c65f90",
   "metadata": {},
   "outputs": [
    {
     "data": {
      "text/latex": [
       "$\\displaystyle B_{0} = \\frac{- B_{0} + B_{1} e^{L_{1} k_{1}}}{e^{2 L_{1} k_{1}} - 1} + \\frac{B_{0} e^{2 L_{1} k_{1}} - B_{1} e^{L_{1} k_{1}}}{e^{2 L_{1} k_{1}} - 1}$"
      ],
      "text/plain": [
       "Eq(B_{0}, (-B_{0} + B_{1}*exp(L_1*k_1))/(exp(2*L_1*k_1) - 1) + (B_{0}*exp(2*L_1*k_1) - B_{1}*exp(L_1*k_1))/(exp(2*L_1*k_1) - 1))"
      ]
     },
     "metadata": {},
     "output_type": "display_data"
    },
    {
     "data": {
      "text/latex": [
       "$\\displaystyle B_{1} = \\frac{B_{1} e^{2 L_{2} k_{2}}}{e^{2 L_{2} k_{2}} - 1} - \\frac{B_{1}}{e^{2 L_{2} k_{2}} - 1}$"
      ],
      "text/plain": [
       "Eq(B_{1}, B_{1}*exp(2*L_2*k_2)/(exp(2*L_2*k_2) - 1) - B_{1}/(exp(2*L_2*k_2) - 1))"
      ]
     },
     "metadata": {},
     "output_type": "display_data"
    }
   ],
   "source": [
    "for equation in wave_function_substitutions: \n",
    "    display( equation )"
   ]
  },
  {
   "cell_type": "code",
   "execution_count": 50,
   "id": "324c4092-a660-4c82-9b19-2a9cf68c2bd7",
   "metadata": {},
   "outputs": [
    {
     "data": {
      "text/latex": [
       "$\\displaystyle N_{0} = \\begin{cases} \\frac{B_{0} Q_{3}^{2} \\left(- 4 L_{0} Q_{2} e^{2 L_{0} Q_{2}} + e^{4 L_{0} Q_{2}} - 1\\right) e^{- 2 L_{0} Q_{2}} \\overline{B_{0}}}{2 Q_{2}} & \\text{for}\\: B_{2} \\neq Q_{2} \\\\0 & \\text{otherwise} \\end{cases}$"
      ],
      "text/plain": [
       "Eq(N_0, Piecewise((B_{0}*Q_{3}**2*(-4*L_0*Q_{2}*exp(2*L_0*Q_{2}) + exp(4*L_0*Q_{2}) - 1)*exp(-2*L_0*Q_{2})*conjugate(B_{0})/(2*Q_{2}), Ne(B_{2}, Q_{2})), (0, True)))"
      ]
     },
     "metadata": {},
     "output_type": "display_data"
    },
    {
     "data": {
      "text/latex": [
       "$\\displaystyle N_{1} = \\begin{cases} \\frac{Q_{4}^{2} \\left(2 L_{1} Q_{3} \\left(B_{0} Q_{2} Q_{6} \\overline{B_{1}} + B_{0} Q_{2} \\overline{B_{1}} - 2 B_{0} Q_{6} \\overline{B_{0}} - 2 B_{1} Q_{2}^{2} \\overline{B_{1}} + B_{1} Q_{2} Q_{6} \\overline{B_{0}} + B_{1} Q_{2} \\overline{B_{0}}\\right) e^{2 L_{1} Q_{3}} - \\left(1 - e^{2 L_{1} Q_{3}}\\right) \\left(- B_{0} Q_{2} \\overline{B_{1}} + B_{0} \\overline{B_{0}} + B_{1} Q_{2}^{2} \\overline{B_{1}} - B_{1} Q_{2} \\overline{B_{0}}\\right) e^{2 L_{1} Q_{3}} - \\left(1 - e^{2 L_{1} Q_{3}}\\right) \\left(- B_{0} Q_{2} Q_{6} \\overline{B_{1}} + B_{0} Q_{6}^{2} \\overline{B_{0}} + B_{1} Q_{2}^{2} \\overline{B_{1}} - B_{1} Q_{2} Q_{6} \\overline{B_{0}}\\right)\\right) e^{- 2 L_{1} Q_{3}}}{2 Q_{3}} & \\text{for}\\: B_{2} \\neq Q_{3} \\\\B_{0} L_{1} Q_{4}^{2} \\left(Q_{6}^{2} - 2 Q_{6} + 1\\right) \\overline{B_{0}} & \\text{otherwise} \\end{cases}$"
      ],
      "text/plain": [
       "Eq(N_1, Piecewise((Q_{4}**2*(2*L_1*Q_{3}*(B_{0}*Q_{2}*Q_{6}*conjugate(B_{1}) + B_{0}*Q_{2}*conjugate(B_{1}) - 2*B_{0}*Q_{6}*conjugate(B_{0}) - 2*B_{1}*Q_{2}**2*conjugate(B_{1}) + B_{1}*Q_{2}*Q_{6}*conjugate(B_{0}) + B_{1}*Q_{2}*conjugate(B_{0}))*exp(2*L_1*Q_{3}) - (1 - exp(2*L_1*Q_{3}))*(-B_{0}*Q_{2}*conjugate(B_{1}) + B_{0}*conjugate(B_{0}) + B_{1}*Q_{2}**2*conjugate(B_{1}) - B_{1}*Q_{2}*conjugate(B_{0}))*exp(2*L_1*Q_{3}) - (1 - exp(2*L_1*Q_{3}))*(-B_{0}*Q_{2}*Q_{6}*conjugate(B_{1}) + B_{0}*Q_{6}**2*conjugate(B_{0}) + B_{1}*Q_{2}**2*conjugate(B_{1}) - B_{1}*Q_{2}*Q_{6}*conjugate(B_{0})))*exp(-2*L_1*Q_{3})/(2*Q_{3}), Ne(B_{2}, Q_{3})), (B_{0}*L_1*Q_{4}**2*(Q_{6}**2 - 2*Q_{6} + 1)*conjugate(B_{0}), True)))"
      ]
     },
     "metadata": {},
     "output_type": "display_data"
    },
    {
     "data": {
      "text/latex": [
       "$\\displaystyle N_{2} = \\int\\limits_{B_{2}}^{L_{2}} \\left(- B_{1} Q_{2} e^{Q_{1} x} + B_{1} Q_{4} e^{- Q_{1} x}\\right) \\left(- Q_{2} e^{Q_{1} x} \\overline{B_{1}} + Q_{4} e^{- Q_{1} x} \\overline{B_{1}}\\right)\\, dx$"
      ],
      "text/plain": [
       "Eq(N_2, Integral((-B_{1}*Q_{2}*exp(Q_{1}*x) + B_{1}*Q_{4}*exp(-Q_{1}*x))*(-Q_{2}*exp(Q_{1}*x)*conjugate(B_{1}) + Q_{4}*exp(-Q_{1}*x)*conjugate(B_{1})), (x, B_{2}, L_2)))"
      ]
     },
     "metadata": {},
     "output_type": "display_data"
    }
   ],
   "source": [
    "for equation in normalization_substitutions: \n",
    "    display( equation.simplify() )"
   ]
  },
  {
   "cell_type": "code",
   "execution_count": 51,
   "id": "55a95fb4-937e-47da-946c-c3117d8588dd",
   "metadata": {},
   "outputs": [
    {
     "data": {
      "text/latex": [
       "$\\displaystyle \\psi_{0}{\\left(x \\right)} = \\frac{B_{0} e^{L_{0} k_{0}} e^{k_{0} x}}{e^{2 L_{0} k_{0}} - 1} - \\frac{B_{0} e^{L_{0} k_{0}} e^{- k_{0} x}}{e^{2 L_{0} k_{0}} - 1}$"
      ],
      "text/plain": [
       "Eq(\\psi_{0}(x), B_{0}*exp(L_0*k_0)*exp(k_0*x)/(exp(2*L_0*k_0) - 1) - B_{0}*exp(L_0*k_0)*exp(-k_0*x)/(exp(2*L_0*k_0) - 1))"
      ]
     },
     "metadata": {},
     "output_type": "display_data"
    },
    {
     "data": {
      "text/latex": [
       "$\\displaystyle \\psi_{1}{\\left(x \\right)} = \\frac{\\left(- B_{0} + B_{1} e^{L_{1} k_{1}}\\right) e^{k_{1} x}}{e^{2 L_{1} k_{1}} - 1} + \\frac{\\left(B_{0} e^{2 L_{1} k_{1}} - B_{1} e^{L_{1} k_{1}}\\right) e^{- k_{1} x}}{e^{2 L_{1} k_{1}} - 1}$"
      ],
      "text/plain": [
       "Eq(\\psi_{1}(x), (-B_{0} + B_{1}*exp(L_1*k_1))*exp(k_1*x)/(exp(2*L_1*k_1) - 1) + (B_{0}*exp(2*L_1*k_1) - B_{1}*exp(L_1*k_1))*exp(-k_1*x)/(exp(2*L_1*k_1) - 1))"
      ]
     },
     "metadata": {},
     "output_type": "display_data"
    },
    {
     "data": {
      "text/latex": [
       "$\\displaystyle \\psi_{2}{\\left(x \\right)} = \\frac{B_{1} e^{2 L_{2} k_{2}} e^{- k_{2} x}}{e^{2 L_{2} k_{2}} - 1} - \\frac{B_{1} e^{k_{2} x}}{e^{2 L_{2} k_{2}} - 1}$"
      ],
      "text/plain": [
       "Eq(\\psi_{2}(x), B_{1}*exp(2*L_2*k_2)*exp(-k_2*x)/(exp(2*L_2*k_2) - 1) - B_{1}*exp(k_2*x)/(exp(2*L_2*k_2) - 1))"
      ]
     },
     "metadata": {},
     "output_type": "display_data"
    }
   ],
   "source": [
    "display_steps( stairwell_solver.equations )"
   ]
  },
  {
   "cell_type": "code",
   "execution_count": null,
   "id": "15b7e2c5-91d5-4518-91d7-6fba98227800",
   "metadata": {},
   "outputs": [],
   "source": []
  },
  {
   "cell_type": "code",
   "execution_count": 52,
   "id": "551e7fe4-b68b-49fe-ab05-e2d8526edbf4",
   "metadata": {},
   "outputs": [
    {
     "name": "stdout",
     "output_type": "stream",
     "text": [
      "<class 'sympy.core.relational.Equality'>\n",
      "<class 'sympy.core.relational.Equality'>\n",
      "<class 'sympy.core.relational.Equality'>\n",
      "<class 'sympy.core.relational.Equality'>\n",
      "<class 'sympy.logic.boolalg.BooleanTrue'>\n",
      "<class 'sympy.core.relational.Equality'>\n"
     ]
    }
   ],
   "source": [
    "( wave_function_region_substitutions, normalization_region_substitutions ) = stairwell_solver.make_substitution_solution()"
   ]
  },
  {
   "cell_type": "code",
   "execution_count": null,
   "id": "1f86ef34-dee4-473d-b1ec-54fd73fb45b2",
   "metadata": {},
   "outputs": [],
   "source": []
  },
  {
   "cell_type": "code",
   "execution_count": 53,
   "id": "09827cd7-e512-4037-aeba-4282ec00ae67",
   "metadata": {},
   "outputs": [
    {
     "data": {
      "text/latex": [
       "$\\displaystyle B_{0} = \\frac{B_{0} e^{2 L_{0} k_{0}}}{e^{2 L_{0} k_{0}} - 1} - \\frac{B_{0}}{e^{2 L_{0} k_{0}} - 1}$"
      ],
      "text/plain": [
       "Eq(B_{0}, B_{0}*exp(2*L_0*k_0)/(exp(2*L_0*k_0) - 1) - B_{0}/(exp(2*L_0*k_0) - 1))"
      ]
     },
     "metadata": {},
     "output_type": "display_data"
    },
    {
     "data": {
      "text/latex": [
       "$\\displaystyle B_{1} = \\frac{\\left(- B_{0} + B_{1} e^{L_{1} k_{1}}\\right) e^{L_{1} k_{1}}}{e^{2 L_{1} k_{1}} - 1} + \\frac{\\left(B_{0} e^{2 L_{1} k_{1}} - B_{1} e^{L_{1} k_{1}}\\right) e^{- L_{1} k_{1}}}{e^{2 L_{1} k_{1}} - 1}$"
      ],
      "text/plain": [
       "Eq(B_{1}, (-B_{0} + B_{1}*exp(L_1*k_1))*exp(L_1*k_1)/(exp(2*L_1*k_1) - 1) + (B_{0}*exp(2*L_1*k_1) - B_{1}*exp(L_1*k_1))*exp(-L_1*k_1)/(exp(2*L_1*k_1) - 1))"
      ]
     },
     "metadata": {},
     "output_type": "display_data"
    }
   ],
   "source": [
    "for equation in wave_function_region_substitutions: \n",
    "    display( equation )"
   ]
  },
  {
   "cell_type": "code",
   "execution_count": null,
   "id": "f7dd9dcf-3e70-47b1-acd7-b3ea318154b9",
   "metadata": {},
   "outputs": [],
   "source": []
  },
  {
   "cell_type": "code",
   "execution_count": 54,
   "id": "401b9094-4026-41a1-8f41-26a67914edf1",
   "metadata": {},
   "outputs": [
    {
     "data": {
      "text/latex": [
       "$\\displaystyle N_{0} = \\begin{cases} \\frac{B_{0} Q_{3}^{2} \\left(- 4 L_{0} Q_{2} e^{2 L_{0} Q_{2}} + e^{4 L_{0} Q_{2}} - 1\\right) e^{- 2 L_{0} Q_{2}} \\overline{B_{0}}}{2 Q_{2}} & \\text{for}\\: B_{2} \\neq Q_{2} \\\\0 & \\text{otherwise} \\end{cases}$"
      ],
      "text/plain": [
       "Eq(N_0, Piecewise((B_{0}*Q_{3}**2*(-4*L_0*Q_{2}*exp(2*L_0*Q_{2}) + exp(4*L_0*Q_{2}) - 1)*exp(-2*L_0*Q_{2})*conjugate(B_{0})/(2*Q_{2}), Ne(B_{2}, Q_{2})), (0, True)))"
      ]
     },
     "metadata": {},
     "output_type": "display_data"
    },
    {
     "data": {
      "text/latex": [
       "$\\displaystyle N_{1} = \\begin{cases} \\frac{Q_{4}^{2} \\left(2 L_{1} Q_{3} \\left(B_{0} Q_{2} Q_{6} \\overline{B_{1}} + B_{0} Q_{2} \\overline{B_{1}} - 2 B_{0} Q_{6} \\overline{B_{0}} - 2 B_{1} Q_{2}^{2} \\overline{B_{1}} + B_{1} Q_{2} Q_{6} \\overline{B_{0}} + B_{1} Q_{2} \\overline{B_{0}}\\right) e^{2 L_{1} Q_{3}} - \\left(1 - e^{2 L_{1} Q_{3}}\\right) \\left(- B_{0} Q_{2} \\overline{B_{1}} + B_{0} \\overline{B_{0}} + B_{1} Q_{2}^{2} \\overline{B_{1}} - B_{1} Q_{2} \\overline{B_{0}}\\right) e^{2 L_{1} Q_{3}} - \\left(1 - e^{2 L_{1} Q_{3}}\\right) \\left(- B_{0} Q_{2} Q_{6} \\overline{B_{1}} + B_{0} Q_{6}^{2} \\overline{B_{0}} + B_{1} Q_{2}^{2} \\overline{B_{1}} - B_{1} Q_{2} Q_{6} \\overline{B_{0}}\\right)\\right) e^{- 2 L_{1} Q_{3}}}{2 Q_{3}} & \\text{for}\\: B_{2} \\neq Q_{3} \\\\B_{0} L_{1} Q_{4}^{2} \\left(Q_{6}^{2} - 2 Q_{6} + 1\\right) \\overline{B_{0}} & \\text{otherwise} \\end{cases}$"
      ],
      "text/plain": [
       "Eq(N_1, Piecewise((Q_{4}**2*(2*L_1*Q_{3}*(B_{0}*Q_{2}*Q_{6}*conjugate(B_{1}) + B_{0}*Q_{2}*conjugate(B_{1}) - 2*B_{0}*Q_{6}*conjugate(B_{0}) - 2*B_{1}*Q_{2}**2*conjugate(B_{1}) + B_{1}*Q_{2}*Q_{6}*conjugate(B_{0}) + B_{1}*Q_{2}*conjugate(B_{0}))*exp(2*L_1*Q_{3}) - (1 - exp(2*L_1*Q_{3}))*(-B_{0}*Q_{2}*conjugate(B_{1}) + B_{0}*conjugate(B_{0}) + B_{1}*Q_{2}**2*conjugate(B_{1}) - B_{1}*Q_{2}*conjugate(B_{0}))*exp(2*L_1*Q_{3}) - (1 - exp(2*L_1*Q_{3}))*(-B_{0}*Q_{2}*Q_{6}*conjugate(B_{1}) + B_{0}*Q_{6}**2*conjugate(B_{0}) + B_{1}*Q_{2}**2*conjugate(B_{1}) - B_{1}*Q_{2}*Q_{6}*conjugate(B_{0})))*exp(-2*L_1*Q_{3})/(2*Q_{3}), Ne(B_{2}, Q_{3})), (B_{0}*L_1*Q_{4}**2*(Q_{6}**2 - 2*Q_{6} + 1)*conjugate(B_{0}), True)))"
      ]
     },
     "metadata": {},
     "output_type": "display_data"
    },
    {
     "data": {
      "text/latex": [
       "$\\displaystyle N_{2} = \\int\\limits_{B_{2}}^{L_{2}} \\left(- B_{1} Q_{2} e^{Q_{1} x} + B_{1} Q_{4} e^{- Q_{1} x}\\right) \\left(- Q_{2} e^{Q_{1} x} \\overline{B_{1}} + Q_{4} e^{- Q_{1} x} \\overline{B_{1}}\\right)\\, dx$"
      ],
      "text/plain": [
       "Eq(N_2, Integral((-B_{1}*Q_{2}*exp(Q_{1}*x) + B_{1}*Q_{4}*exp(-Q_{1}*x))*(-Q_{2}*exp(Q_{1}*x)*conjugate(B_{1}) + Q_{4}*exp(-Q_{1}*x)*conjugate(B_{1})), (x, B_{2}, L_2)))"
      ]
     },
     "metadata": {},
     "output_type": "display_data"
    }
   ],
   "source": [
    "for equation in normalization_region_substitutions: \n",
    "    display( equation.simplify() )"
   ]
  },
  {
   "cell_type": "code",
   "execution_count": 55,
   "id": "e5776299-5f0b-447e-b615-5d214b79e8b0",
   "metadata": {},
   "outputs": [],
   "source": [
    "#b_0_norm_with_b_1 = sp.Eq( stairwell_solver.boundry_constant_symbols[ 0 ] ** 2, b_0_norm_with_b_1.rhs )"
   ]
  },
  {
   "cell_type": "code",
   "execution_count": 56,
   "id": "defcac9c-e610-4b3b-afd4-440303e289a5",
   "metadata": {},
   "outputs": [],
   "source": [
    "#b_0_norm_with_b_1"
   ]
  },
  {
   "cell_type": "code",
   "execution_count": 57,
   "id": "c83a1c42-7b89-4e97-9bf4-2e09d1404a6b",
   "metadata": {},
   "outputs": [],
   "source": [
    "#solutions = sp.solve( [ b_0_norm_with_b_1 ] + wave_function_region_substitutions + wave_function_substitutions, stairwell_solver.boundry_constant_symbols )"
   ]
  },
  {
   "cell_type": "code",
   "execution_count": 58,
   "id": "a82e9c8c-dc8f-4889-897a-8d1101e2539e",
   "metadata": {},
   "outputs": [],
   "source": [
    "#solutions"
   ]
  },
  {
   "cell_type": "code",
   "execution_count": 59,
   "id": "b8bf06a6-5747-415e-a8fb-e187cbfabd28",
   "metadata": {},
   "outputs": [],
   "source": [
    "b_1_in_terms_of_b_0 = sp.solve( b_0_norm_with_b_1, stairwell_solver.boundry_constant_symbols[ 1 ] )"
   ]
  },
  {
   "cell_type": "code",
   "execution_count": null,
   "id": "61672e47-c9b7-48d3-92ad-7f3edc31d805",
   "metadata": {},
   "outputs": [],
   "source": []
  },
  {
   "cell_type": "code",
   "execution_count": 60,
   "id": "f67f4e52-4ddb-49b8-b14f-750f7b6c799d",
   "metadata": {},
   "outputs": [],
   "source": [
    "b_1 = ( b_1_in_terms_of_b_0[ 0 ] * b_1_in_terms_of_b_0[ 1 ].simplify() ).subs( { b_0.lhs : b_0.rhs } )"
   ]
  },
  {
   "cell_type": "code",
   "execution_count": 61,
   "id": "3aeb0f61-ad53-4d2e-83f1-71c912241586",
   "metadata": {},
   "outputs": [
    {
     "data": {
      "text/latex": [
       "$\\displaystyle - \\frac{\\frac{8 L_{1} N_{0} k_{0} k_{1} \\left(e^{2 L_{0} k_{0}} - 1\\right)^{2} e^{2 L_{1} k_{1}}}{4 L_{0} k_{0} e^{2 L_{0} k_{0}} - e^{4 L_{0} k_{0}} + 1} - \\frac{2 N_{0} k_{0} \\left(e^{2 L_{0} k_{0}} - 1\\right)^{2} e^{4 L_{1} k_{1}}}{4 L_{0} k_{0} e^{2 L_{0} k_{0}} - e^{4 L_{0} k_{0}} + 1} + \\frac{2 N_{0} k_{0} \\left(e^{2 L_{0} k_{0}} - 1\\right)^{2}}{4 L_{0} k_{0} e^{2 L_{0} k_{0}} - e^{4 L_{0} k_{0}} + 1} - 2 N_{1} k_{1} e^{4 L_{1} k_{1}} + 4 N_{1} k_{1} e^{2 L_{1} k_{1}} - 2 N_{1} k_{1}}{4 L_{1} k_{1} e^{2 L_{1} k_{1}} - e^{4 L_{1} k_{1}} + 1}$"
      ],
      "text/plain": [
       "-(8*L_1*N_0*k_0*k_1*(exp(2*L_0*k_0) - 1)**2*exp(2*L_1*k_1)/(4*L_0*k_0*exp(2*L_0*k_0) - exp(4*L_0*k_0) + 1) - 2*N_0*k_0*(exp(2*L_0*k_0) - 1)**2*exp(4*L_1*k_1)/(4*L_0*k_0*exp(2*L_0*k_0) - exp(4*L_0*k_0) + 1) + 2*N_0*k_0*(exp(2*L_0*k_0) - 1)**2/(4*L_0*k_0*exp(2*L_0*k_0) - exp(4*L_0*k_0) + 1) - 2*N_1*k_1*exp(4*L_1*k_1) + 4*N_1*k_1*exp(2*L_1*k_1) - 2*N_1*k_1)/(4*L_1*k_1*exp(2*L_1*k_1) - exp(4*L_1*k_1) + 1)"
      ]
     },
     "execution_count": 61,
     "metadata": {},
     "output_type": "execute_result"
    }
   ],
   "source": [
    "b_1"
   ]
  },
  {
   "cell_type": "code",
   "execution_count": 62,
   "id": "ade9205a-5ed2-4ffa-ba5b-693d52ed5722",
   "metadata": {},
   "outputs": [],
   "source": [
    "b_1_simple = b_1.simplify()"
   ]
  },
  {
   "cell_type": "code",
   "execution_count": 63,
   "id": "cb145307-dada-469c-a146-704463625d31",
   "metadata": {},
   "outputs": [
    {
     "data": {
      "text/latex": [
       "$\\displaystyle \\frac{2 \\left(- 4 L_{1} N_{0} k_{0} k_{1} \\left(1 - e^{2 L_{0} k_{0}}\\right)^{2} e^{2 L_{1} k_{1}} + N_{0} k_{0} \\left(1 - e^{2 L_{0} k_{0}}\\right)^{2} e^{4 L_{1} k_{1}} - N_{0} k_{0} \\left(1 - e^{2 L_{0} k_{0}}\\right)^{2} - N_{1} k_{1} \\left(4 L_{0} k_{0} e^{2 L_{0} k_{0}} - e^{4 L_{0} k_{0}} + 1\\right) \\left(- e^{4 L_{1} k_{1}} + 2 e^{2 L_{1} k_{1}} - 1\\right)\\right)}{\\left(4 L_{0} k_{0} e^{2 L_{0} k_{0}} - e^{4 L_{0} k_{0}} + 1\\right) \\left(4 L_{1} k_{1} e^{2 L_{1} k_{1}} - e^{4 L_{1} k_{1}} + 1\\right)}$"
      ],
      "text/plain": [
       "2*(-4*L_1*N_0*k_0*k_1*(1 - exp(2*L_0*k_0))**2*exp(2*L_1*k_1) + N_0*k_0*(1 - exp(2*L_0*k_0))**2*exp(4*L_1*k_1) - N_0*k_0*(1 - exp(2*L_0*k_0))**2 - N_1*k_1*(4*L_0*k_0*exp(2*L_0*k_0) - exp(4*L_0*k_0) + 1)*(-exp(4*L_1*k_1) + 2*exp(2*L_1*k_1) - 1))/((4*L_0*k_0*exp(2*L_0*k_0) - exp(4*L_0*k_0) + 1)*(4*L_1*k_1*exp(2*L_1*k_1) - exp(4*L_1*k_1) + 1))"
      ]
     },
     "execution_count": 63,
     "metadata": {},
     "output_type": "execute_result"
    }
   ],
   "source": [
    "b_1_simple"
   ]
  },
  {
   "cell_type": "code",
   "execution_count": null,
   "id": "07e0f4a0-2f3f-45f3-86d4-af07e49b6006",
   "metadata": {},
   "outputs": [],
   "source": []
  },
  {
   "cell_type": "code",
   "execution_count": 64,
   "id": "e9f7800b-4b90-4306-b5fc-e04f33007a05",
   "metadata": {},
   "outputs": [],
   "source": [
    "b_1_equation = sp.Eq( sp.Abs( stairwell_solver.boundry_constant_symbols[ 1 ] ) ** 2, b_1_simple )"
   ]
  },
  {
   "cell_type": "code",
   "execution_count": 65,
   "id": "b2917845-40db-44ae-bbc8-d13076af727b",
   "metadata": {},
   "outputs": [],
   "source": [
    "substitution_table = {\n",
    "        stairwell_solver.boundry_constant_symbols[ 0 ] : sp.sqrt( b_0.rhs ), \n",
    "        stairwell_solver.boundry_constant_symbols[ 1 ] : sp.sqrt( b_1_equation.rhs ) \n",
    "    }"
   ]
  },
  {
   "cell_type": "code",
   "execution_count": null,
   "id": "9bd2d700-b584-4494-8ad0-71a643e8efe5",
   "metadata": {},
   "outputs": [],
   "source": []
  },
  {
   "cell_type": "code",
   "execution_count": 66,
   "id": "0a77c773-1fef-4207-a1d4-0a80a4ab0378",
   "metadata": {},
   "outputs": [
    {
     "data": {
      "text/latex": [
       "$\\displaystyle \\psi_{0}{\\left(x \\right)} = \\frac{B_{0} e^{L_{0} k_{0}} e^{k_{0} x}}{e^{2 L_{0} k_{0}} - 1} - \\frac{B_{0} e^{L_{0} k_{0}} e^{- k_{0} x}}{e^{2 L_{0} k_{0}} - 1}$"
      ],
      "text/plain": [
       "Eq(\\psi_{0}(x), B_{0}*exp(L_0*k_0)*exp(k_0*x)/(exp(2*L_0*k_0) - 1) - B_{0}*exp(L_0*k_0)*exp(-k_0*x)/(exp(2*L_0*k_0) - 1))"
      ]
     },
     "metadata": {},
     "output_type": "display_data"
    },
    {
     "data": {
      "text/latex": [
       "$\\displaystyle \\psi_{1}{\\left(x \\right)} = \\frac{\\left(- B_{0} + B_{1} e^{L_{1} k_{1}}\\right) e^{k_{1} x}}{e^{2 L_{1} k_{1}} - 1} + \\frac{\\left(B_{0} e^{2 L_{1} k_{1}} - B_{1} e^{L_{1} k_{1}}\\right) e^{- k_{1} x}}{e^{2 L_{1} k_{1}} - 1}$"
      ],
      "text/plain": [
       "Eq(\\psi_{1}(x), (-B_{0} + B_{1}*exp(L_1*k_1))*exp(k_1*x)/(exp(2*L_1*k_1) - 1) + (B_{0}*exp(2*L_1*k_1) - B_{1}*exp(L_1*k_1))*exp(-k_1*x)/(exp(2*L_1*k_1) - 1))"
      ]
     },
     "metadata": {},
     "output_type": "display_data"
    },
    {
     "data": {
      "text/latex": [
       "$\\displaystyle \\psi_{2}{\\left(x \\right)} = \\frac{B_{1} e^{2 L_{2} k_{2}} e^{- k_{2} x}}{e^{2 L_{2} k_{2}} - 1} - \\frac{B_{1} e^{k_{2} x}}{e^{2 L_{2} k_{2}} - 1}$"
      ],
      "text/plain": [
       "Eq(\\psi_{2}(x), B_{1}*exp(2*L_2*k_2)*exp(-k_2*x)/(exp(2*L_2*k_2) - 1) - B_{1}*exp(k_2*x)/(exp(2*L_2*k_2) - 1))"
      ]
     },
     "metadata": {},
     "output_type": "display_data"
    }
   ],
   "source": [
    "display_steps( stairwell_solver.equations )"
   ]
  },
  {
   "cell_type": "code",
   "execution_count": null,
   "id": "cd7576ad-cc93-4934-ba8c-aeb29db0ae99",
   "metadata": {},
   "outputs": [],
   "source": []
  },
  {
   "cell_type": "code",
   "execution_count": 67,
   "id": "286e7b47-1e01-494b-ab93-6940c0b01ccd",
   "metadata": {},
   "outputs": [],
   "source": [
    "for equation in stairwell_solver.equations: \n",
    "    equation.operate( lambda step : step.subs( substitution_table ) )"
   ]
  },
  {
   "cell_type": "code",
   "execution_count": null,
   "id": "33aeedf1-249f-4d16-b2cb-705d8ce573eb",
   "metadata": {},
   "outputs": [],
   "source": []
  },
  {
   "cell_type": "code",
   "execution_count": 68,
   "id": "0c48d4f7-0c94-44c1-b77f-5931b1800926",
   "metadata": {},
   "outputs": [
    {
     "data": {
      "text/latex": [
       "$\\displaystyle \\psi_{0}{\\left(x \\right)} = \\frac{\\sqrt{2} \\sqrt{\\frac{N_{0} k_{0}}{4 L_{0} k_{0} e^{2 L_{0} k_{0}} - e^{4 L_{0} k_{0}} + 1}} e^{L_{0} k_{0}} e^{k_{0} x} \\left|{e^{2 L_{0} k_{0}} - 1}\\right|}{e^{2 L_{0} k_{0}} - 1} - \\frac{\\sqrt{2} \\sqrt{\\frac{N_{0} k_{0}}{4 L_{0} k_{0} e^{2 L_{0} k_{0}} - e^{4 L_{0} k_{0}} + 1}} e^{L_{0} k_{0}} e^{- k_{0} x} \\left|{e^{2 L_{0} k_{0}} - 1}\\right|}{e^{2 L_{0} k_{0}} - 1}$"
      ],
      "text/plain": [
       "Eq(\\psi_{0}(x), sqrt(2)*sqrt(N_0*k_0/(4*L_0*k_0*exp(2*L_0*k_0) - exp(4*L_0*k_0) + 1))*exp(L_0*k_0)*exp(k_0*x)*Abs(exp(2*L_0*k_0) - 1)/(exp(2*L_0*k_0) - 1) - sqrt(2)*sqrt(N_0*k_0/(4*L_0*k_0*exp(2*L_0*k_0) - exp(4*L_0*k_0) + 1))*exp(L_0*k_0)*exp(-k_0*x)*Abs(exp(2*L_0*k_0) - 1)/(exp(2*L_0*k_0) - 1))"
      ]
     },
     "metadata": {},
     "output_type": "display_data"
    },
    {
     "data": {
      "text/latex": [
       "$\\displaystyle \\psi_{1}{\\left(x \\right)} = \\frac{\\left(- \\sqrt{2} \\sqrt{\\frac{N_{0} k_{0}}{4 L_{0} k_{0} e^{2 L_{0} k_{0}} - e^{4 L_{0} k_{0}} + 1}} \\left|{e^{2 L_{0} k_{0}} - 1}\\right| + \\sqrt{2} \\sqrt{\\frac{- 4 L_{1} N_{0} k_{0} k_{1} \\left(1 - e^{2 L_{0} k_{0}}\\right)^{2} e^{2 L_{1} k_{1}} + N_{0} k_{0} \\left(1 - e^{2 L_{0} k_{0}}\\right)^{2} e^{4 L_{1} k_{1}} - N_{0} k_{0} \\left(1 - e^{2 L_{0} k_{0}}\\right)^{2} - N_{1} k_{1} \\left(4 L_{0} k_{0} e^{2 L_{0} k_{0}} - e^{4 L_{0} k_{0}} + 1\\right) \\left(- e^{4 L_{1} k_{1}} + 2 e^{2 L_{1} k_{1}} - 1\\right)}{\\left(4 L_{0} k_{0} e^{2 L_{0} k_{0}} - e^{4 L_{0} k_{0}} + 1\\right) \\left(4 L_{1} k_{1} e^{2 L_{1} k_{1}} - e^{4 L_{1} k_{1}} + 1\\right)}} e^{L_{1} k_{1}}\\right) e^{k_{1} x}}{e^{2 L_{1} k_{1}} - 1} + \\frac{\\left(\\sqrt{2} \\sqrt{\\frac{N_{0} k_{0}}{4 L_{0} k_{0} e^{2 L_{0} k_{0}} - e^{4 L_{0} k_{0}} + 1}} e^{2 L_{1} k_{1}} \\left|{e^{2 L_{0} k_{0}} - 1}\\right| - \\sqrt{2} \\sqrt{\\frac{- 4 L_{1} N_{0} k_{0} k_{1} \\left(1 - e^{2 L_{0} k_{0}}\\right)^{2} e^{2 L_{1} k_{1}} + N_{0} k_{0} \\left(1 - e^{2 L_{0} k_{0}}\\right)^{2} e^{4 L_{1} k_{1}} - N_{0} k_{0} \\left(1 - e^{2 L_{0} k_{0}}\\right)^{2} - N_{1} k_{1} \\left(4 L_{0} k_{0} e^{2 L_{0} k_{0}} - e^{4 L_{0} k_{0}} + 1\\right) \\left(- e^{4 L_{1} k_{1}} + 2 e^{2 L_{1} k_{1}} - 1\\right)}{\\left(4 L_{0} k_{0} e^{2 L_{0} k_{0}} - e^{4 L_{0} k_{0}} + 1\\right) \\left(4 L_{1} k_{1} e^{2 L_{1} k_{1}} - e^{4 L_{1} k_{1}} + 1\\right)}} e^{L_{1} k_{1}}\\right) e^{- k_{1} x}}{e^{2 L_{1} k_{1}} - 1}$"
      ],
      "text/plain": [
       "Eq(\\psi_{1}(x), (-sqrt(2)*sqrt(N_0*k_0/(4*L_0*k_0*exp(2*L_0*k_0) - exp(4*L_0*k_0) + 1))*Abs(exp(2*L_0*k_0) - 1) + sqrt(2)*sqrt((-4*L_1*N_0*k_0*k_1*(1 - exp(2*L_0*k_0))**2*exp(2*L_1*k_1) + N_0*k_0*(1 - exp(2*L_0*k_0))**2*exp(4*L_1*k_1) - N_0*k_0*(1 - exp(2*L_0*k_0))**2 - N_1*k_1*(4*L_0*k_0*exp(2*L_0*k_0) - exp(4*L_0*k_0) + 1)*(-exp(4*L_1*k_1) + 2*exp(2*L_1*k_1) - 1))/((4*L_0*k_0*exp(2*L_0*k_0) - exp(4*L_0*k_0) + 1)*(4*L_1*k_1*exp(2*L_1*k_1) - exp(4*L_1*k_1) + 1)))*exp(L_1*k_1))*exp(k_1*x)/(exp(2*L_1*k_1) - 1) + (sqrt(2)*sqrt(N_0*k_0/(4*L_0*k_0*exp(2*L_0*k_0) - exp(4*L_0*k_0) + 1))*exp(2*L_1*k_1)*Abs(exp(2*L_0*k_0) - 1) - sqrt(2)*sqrt((-4*L_1*N_0*k_0*k_1*(1 - exp(2*L_0*k_0))**2*exp(2*L_1*k_1) + N_0*k_0*(1 - exp(2*L_0*k_0))**2*exp(4*L_1*k_1) - N_0*k_0*(1 - exp(2*L_0*k_0))**2 - N_1*k_1*(4*L_0*k_0*exp(2*L_0*k_0) - exp(4*L_0*k_0) + 1)*(-exp(4*L_1*k_1) + 2*exp(2*L_1*k_1) - 1))/((4*L_0*k_0*exp(2*L_0*k_0) - exp(4*L_0*k_0) + 1)*(4*L_1*k_1*exp(2*L_1*k_1) - exp(4*L_1*k_1) + 1)))*exp(L_1*k_1))*exp(-k_1*x)/(exp(2*L_1*k_1) - 1))"
      ]
     },
     "metadata": {},
     "output_type": "display_data"
    },
    {
     "data": {
      "text/latex": [
       "$\\displaystyle \\psi_{2}{\\left(x \\right)} = \\frac{\\sqrt{2} \\sqrt{\\frac{- 4 L_{1} N_{0} k_{0} k_{1} \\left(1 - e^{2 L_{0} k_{0}}\\right)^{2} e^{2 L_{1} k_{1}} + N_{0} k_{0} \\left(1 - e^{2 L_{0} k_{0}}\\right)^{2} e^{4 L_{1} k_{1}} - N_{0} k_{0} \\left(1 - e^{2 L_{0} k_{0}}\\right)^{2} - N_{1} k_{1} \\left(4 L_{0} k_{0} e^{2 L_{0} k_{0}} - e^{4 L_{0} k_{0}} + 1\\right) \\left(- e^{4 L_{1} k_{1}} + 2 e^{2 L_{1} k_{1}} - 1\\right)}{\\left(4 L_{0} k_{0} e^{2 L_{0} k_{0}} - e^{4 L_{0} k_{0}} + 1\\right) \\left(4 L_{1} k_{1} e^{2 L_{1} k_{1}} - e^{4 L_{1} k_{1}} + 1\\right)}} e^{2 L_{2} k_{2}} e^{- k_{2} x}}{e^{2 L_{2} k_{2}} - 1} - \\frac{\\sqrt{2} \\sqrt{\\frac{- 4 L_{1} N_{0} k_{0} k_{1} \\left(1 - e^{2 L_{0} k_{0}}\\right)^{2} e^{2 L_{1} k_{1}} + N_{0} k_{0} \\left(1 - e^{2 L_{0} k_{0}}\\right)^{2} e^{4 L_{1} k_{1}} - N_{0} k_{0} \\left(1 - e^{2 L_{0} k_{0}}\\right)^{2} - N_{1} k_{1} \\left(4 L_{0} k_{0} e^{2 L_{0} k_{0}} - e^{4 L_{0} k_{0}} + 1\\right) \\left(- e^{4 L_{1} k_{1}} + 2 e^{2 L_{1} k_{1}} - 1\\right)}{\\left(4 L_{0} k_{0} e^{2 L_{0} k_{0}} - e^{4 L_{0} k_{0}} + 1\\right) \\left(4 L_{1} k_{1} e^{2 L_{1} k_{1}} - e^{4 L_{1} k_{1}} + 1\\right)}} e^{k_{2} x}}{e^{2 L_{2} k_{2}} - 1}$"
      ],
      "text/plain": [
       "Eq(\\psi_{2}(x), sqrt(2)*sqrt((-4*L_1*N_0*k_0*k_1*(1 - exp(2*L_0*k_0))**2*exp(2*L_1*k_1) + N_0*k_0*(1 - exp(2*L_0*k_0))**2*exp(4*L_1*k_1) - N_0*k_0*(1 - exp(2*L_0*k_0))**2 - N_1*k_1*(4*L_0*k_0*exp(2*L_0*k_0) - exp(4*L_0*k_0) + 1)*(-exp(4*L_1*k_1) + 2*exp(2*L_1*k_1) - 1))/((4*L_0*k_0*exp(2*L_0*k_0) - exp(4*L_0*k_0) + 1)*(4*L_1*k_1*exp(2*L_1*k_1) - exp(4*L_1*k_1) + 1)))*exp(2*L_2*k_2)*exp(-k_2*x)/(exp(2*L_2*k_2) - 1) - sqrt(2)*sqrt((-4*L_1*N_0*k_0*k_1*(1 - exp(2*L_0*k_0))**2*exp(2*L_1*k_1) + N_0*k_0*(1 - exp(2*L_0*k_0))**2*exp(4*L_1*k_1) - N_0*k_0*(1 - exp(2*L_0*k_0))**2 - N_1*k_1*(4*L_0*k_0*exp(2*L_0*k_0) - exp(4*L_0*k_0) + 1)*(-exp(4*L_1*k_1) + 2*exp(2*L_1*k_1) - 1))/((4*L_0*k_0*exp(2*L_0*k_0) - exp(4*L_0*k_0) + 1)*(4*L_1*k_1*exp(2*L_1*k_1) - exp(4*L_1*k_1) + 1)))*exp(k_2*x)/(exp(2*L_2*k_2) - 1))"
      ]
     },
     "metadata": {},
     "output_type": "display_data"
    }
   ],
   "source": [
    "display_steps( stairwell_solver.equations )"
   ]
  },
  {
   "cell_type": "code",
   "execution_count": 69,
   "id": "9571b7d7-8695-427c-a48f-c4808477882e",
   "metadata": {},
   "outputs": [],
   "source": [
    "for equation in stairwell_solver.equations: \n",
    "    equation.manipulate( lambda side : side.simplify() )"
   ]
  },
  {
   "cell_type": "code",
   "execution_count": null,
   "id": "1698d3ef-4bfd-40a0-b675-31185bb763bc",
   "metadata": {},
   "outputs": [],
   "source": []
  },
  {
   "cell_type": "code",
   "execution_count": 70,
   "id": "fda9e4ca-e468-4644-9965-1c624a9c599a",
   "metadata": {},
   "outputs": [
    {
     "data": {
      "text/latex": [
       "$\\displaystyle \\psi_{0}{\\left(x \\right)} = - \\frac{\\sqrt{2} \\sqrt{\\frac{N_{0} k_{0}}{4 L_{0} k_{0} e^{2 L_{0} k_{0}} - e^{4 L_{0} k_{0}} + 1}} \\left(e^{L_{0} k_{0}} - e^{k_{0} \\left(L_{0} + 2 x\\right)}\\right) e^{- k_{0} x} \\left|{e^{2 L_{0} k_{0}} - 1}\\right|}{e^{2 L_{0} k_{0}} - 1}$"
      ],
      "text/plain": [
       "Eq(\\psi_{0}(x), -sqrt(2)*sqrt(N_0*k_0/(4*L_0*k_0*exp(2*L_0*k_0) - exp(4*L_0*k_0) + 1))*(exp(L_0*k_0) - exp(k_0*(L_0 + 2*x)))*exp(-k_0*x)*Abs(exp(2*L_0*k_0) - 1)/(exp(2*L_0*k_0) - 1))"
      ]
     },
     "metadata": {},
     "output_type": "display_data"
    },
    {
     "data": {
      "text/latex": [
       "$\\displaystyle \\psi_{1}{\\left(x \\right)} = - \\frac{\\sqrt{2} \\left(- \\left(\\sqrt{\\frac{- 4 L_{1} N_{0} k_{0} k_{1} \\left(1 - e^{2 L_{0} k_{0}}\\right)^{2} e^{2 L_{1} k_{1}} + N_{0} k_{0} \\left(1 - e^{2 L_{0} k_{0}}\\right)^{2} e^{4 L_{1} k_{1}} - N_{0} k_{0} \\left(1 - e^{2 L_{0} k_{0}}\\right)^{2} + N_{1} k_{1} \\left(4 L_{0} k_{0} e^{2 L_{0} k_{0}} - e^{4 L_{0} k_{0}} + 1\\right) \\left(e^{4 L_{1} k_{1}} - 2 e^{2 L_{1} k_{1}} + 1\\right)}{16 L_{0} L_{1} k_{0} k_{1} e^{2 L_{0} k_{0} + 2 L_{1} k_{1}} + 4 L_{0} k_{0} e^{2 L_{0} k_{0}} - 4 L_{0} k_{0} e^{2 L_{0} k_{0} + 4 L_{1} k_{1}} + 4 L_{1} k_{1} e^{2 L_{1} k_{1}} - 4 L_{1} k_{1} e^{4 L_{0} k_{0} + 2 L_{1} k_{1}} - e^{4 L_{0} k_{0}} - e^{4 L_{1} k_{1}} + e^{4 L_{0} k_{0} + 4 L_{1} k_{1}} + 1}} e^{L_{1} k_{1}} - \\sqrt{\\frac{N_{0} k_{0}}{4 L_{0} k_{0} e^{2 L_{0} k_{0}} - e^{4 L_{0} k_{0}} + 1}} \\left|{e^{2 L_{0} k_{0}} - 1}\\right|\\right) e^{2 k_{1} x} + \\left(\\sqrt{\\frac{- 4 L_{1} N_{0} k_{0} k_{1} \\left(1 - e^{2 L_{0} k_{0}}\\right)^{2} e^{2 L_{1} k_{1}} + N_{0} k_{0} \\left(1 - e^{2 L_{0} k_{0}}\\right)^{2} e^{4 L_{1} k_{1}} - N_{0} k_{0} \\left(1 - e^{2 L_{0} k_{0}}\\right)^{2} + N_{1} k_{1} \\left(4 L_{0} k_{0} e^{2 L_{0} k_{0}} - e^{4 L_{0} k_{0}} + 1\\right) \\left(e^{4 L_{1} k_{1}} - 2 e^{2 L_{1} k_{1}} + 1\\right)}{16 L_{0} L_{1} k_{0} k_{1} e^{2 L_{0} k_{0} + 2 L_{1} k_{1}} + 4 L_{0} k_{0} e^{2 L_{0} k_{0}} - 4 L_{0} k_{0} e^{2 L_{0} k_{0} + 4 L_{1} k_{1}} + 4 L_{1} k_{1} e^{2 L_{1} k_{1}} - 4 L_{1} k_{1} e^{4 L_{0} k_{0} + 2 L_{1} k_{1}} - e^{4 L_{0} k_{0}} - e^{4 L_{1} k_{1}} + e^{4 L_{0} k_{0} + 4 L_{1} k_{1}} + 1}} - \\sqrt{\\frac{N_{0} k_{0}}{4 L_{0} k_{0} e^{2 L_{0} k_{0}} - e^{4 L_{0} k_{0}} + 1}} e^{L_{1} k_{1}} \\left|{e^{2 L_{0} k_{0}} - 1}\\right|\\right) e^{L_{1} k_{1}}\\right) e^{- k_{1} x}}{e^{2 L_{1} k_{1}} - 1}$"
      ],
      "text/plain": [
       "Eq(\\psi_{1}(x), -sqrt(2)*(-(sqrt((-4*L_1*N_0*k_0*k_1*(1 - exp(2*L_0*k_0))**2*exp(2*L_1*k_1) + N_0*k_0*(1 - exp(2*L_0*k_0))**2*exp(4*L_1*k_1) - N_0*k_0*(1 - exp(2*L_0*k_0))**2 + N_1*k_1*(4*L_0*k_0*exp(2*L_0*k_0) - exp(4*L_0*k_0) + 1)*(exp(4*L_1*k_1) - 2*exp(2*L_1*k_1) + 1))/(16*L_0*L_1*k_0*k_1*exp(2*L_0*k_0 + 2*L_1*k_1) + 4*L_0*k_0*exp(2*L_0*k_0) - 4*L_0*k_0*exp(2*L_0*k_0 + 4*L_1*k_1) + 4*L_1*k_1*exp(2*L_1*k_1) - 4*L_1*k_1*exp(4*L_0*k_0 + 2*L_1*k_1) - exp(4*L_0*k_0) - exp(4*L_1*k_1) + exp(4*L_0*k_0 + 4*L_1*k_1) + 1))*exp(L_1*k_1) - sqrt(N_0*k_0/(4*L_0*k_0*exp(2*L_0*k_0) - exp(4*L_0*k_0) + 1))*Abs(exp(2*L_0*k_0) - 1))*exp(2*k_1*x) + (sqrt((-4*L_1*N_0*k_0*k_1*(1 - exp(2*L_0*k_0))**2*exp(2*L_1*k_1) + N_0*k_0*(1 - exp(2*L_0*k_0))**2*exp(4*L_1*k_1) - N_0*k_0*(1 - exp(2*L_0*k_0))**2 + N_1*k_1*(4*L_0*k_0*exp(2*L_0*k_0) - exp(4*L_0*k_0) + 1)*(exp(4*L_1*k_1) - 2*exp(2*L_1*k_1) + 1))/(16*L_0*L_1*k_0*k_1*exp(2*L_0*k_0 + 2*L_1*k_1) + 4*L_0*k_0*exp(2*L_0*k_0) - 4*L_0*k_0*exp(2*L_0*k_0 + 4*L_1*k_1) + 4*L_1*k_1*exp(2*L_1*k_1) - 4*L_1*k_1*exp(4*L_0*k_0 + 2*L_1*k_1) - exp(4*L_0*k_0) - exp(4*L_1*k_1) + exp(4*L_0*k_0 + 4*L_1*k_1) + 1)) - sqrt(N_0*k_0/(4*L_0*k_0*exp(2*L_0*k_0) - exp(4*L_0*k_0) + 1))*exp(L_1*k_1)*Abs(exp(2*L_0*k_0) - 1))*exp(L_1*k_1))*exp(-k_1*x)/(exp(2*L_1*k_1) - 1))"
      ]
     },
     "metadata": {},
     "output_type": "display_data"
    },
    {
     "data": {
      "text/latex": [
       "$\\displaystyle \\psi_{2}{\\left(x \\right)} = \\frac{\\sqrt{2} \\sqrt{\\frac{- 4 L_{1} N_{0} k_{0} k_{1} \\left(1 - e^{2 L_{0} k_{0}}\\right)^{2} e^{2 L_{1} k_{1}} + N_{0} k_{0} \\left(1 - e^{2 L_{0} k_{0}}\\right)^{2} e^{4 L_{1} k_{1}} - N_{0} k_{0} \\left(1 - e^{2 L_{0} k_{0}}\\right)^{2} + N_{1} k_{1} \\left(4 L_{0} k_{0} e^{2 L_{0} k_{0}} - e^{4 L_{0} k_{0}} + 1\\right) \\left(e^{4 L_{1} k_{1}} - 2 e^{2 L_{1} k_{1}} + 1\\right)}{16 L_{0} L_{1} k_{0} k_{1} e^{2 L_{0} k_{0} + 2 L_{1} k_{1}} + 4 L_{0} k_{0} e^{2 L_{0} k_{0}} - 4 L_{0} k_{0} e^{2 L_{0} k_{0} + 4 L_{1} k_{1}} + 4 L_{1} k_{1} e^{2 L_{1} k_{1}} - 4 L_{1} k_{1} e^{4 L_{0} k_{0} + 2 L_{1} k_{1}} - e^{4 L_{0} k_{0}} - e^{4 L_{1} k_{1}} + e^{4 L_{0} k_{0} + 4 L_{1} k_{1}} + 1}} \\left(- \\left(1 - e^{2 L_{2} k_{2}}\\right) e^{2 L_{2} k_{2}} + \\left(1 - e^{2 L_{2} k_{2}}\\right) e^{2 k_{2} x}\\right) e^{- k_{2} x}}{\\left(1 - e^{2 L_{2} k_{2}}\\right)^{2}}$"
      ],
      "text/plain": [
       "Eq(\\psi_{2}(x), sqrt(2)*sqrt((-4*L_1*N_0*k_0*k_1*(1 - exp(2*L_0*k_0))**2*exp(2*L_1*k_1) + N_0*k_0*(1 - exp(2*L_0*k_0))**2*exp(4*L_1*k_1) - N_0*k_0*(1 - exp(2*L_0*k_0))**2 + N_1*k_1*(4*L_0*k_0*exp(2*L_0*k_0) - exp(4*L_0*k_0) + 1)*(exp(4*L_1*k_1) - 2*exp(2*L_1*k_1) + 1))/(16*L_0*L_1*k_0*k_1*exp(2*L_0*k_0 + 2*L_1*k_1) + 4*L_0*k_0*exp(2*L_0*k_0) - 4*L_0*k_0*exp(2*L_0*k_0 + 4*L_1*k_1) + 4*L_1*k_1*exp(2*L_1*k_1) - 4*L_1*k_1*exp(4*L_0*k_0 + 2*L_1*k_1) - exp(4*L_0*k_0) - exp(4*L_1*k_1) + exp(4*L_0*k_0 + 4*L_1*k_1) + 1))*(-(1 - exp(2*L_2*k_2))*exp(2*L_2*k_2) + (1 - exp(2*L_2*k_2))*exp(2*k_2*x))*exp(-k_2*x)/(1 - exp(2*L_2*k_2))**2)"
      ]
     },
     "metadata": {},
     "output_type": "display_data"
    }
   ],
   "source": [
    "display_steps( stairwell_solver.equations )"
   ]
  },
  {
   "cell_type": "code",
   "execution_count": null,
   "id": "0a48c752-b9f1-4e10-a00b-07ec2f4f6507",
   "metadata": {},
   "outputs": [],
   "source": []
  },
  {
   "cell_type": "code",
   "execution_count": 91,
   "id": "7a5a21fe-ae7f-4928-bc3b-685032119fcd",
   "metadata": {},
   "outputs": [],
   "source": [
    "lengths = ( 1.0 / 3.0, 2.0 / 3.0, 1.0 )"
   ]
  },
  {
   "cell_type": "code",
   "execution_count": 92,
   "id": "fe0a76f4-bf0b-4bb8-a62b-74f8549fca3a",
   "metadata": {},
   "outputs": [],
   "source": [
    "probabilities = ( .2, .3, .5 )"
   ]
  },
  {
   "cell_type": "code",
   "execution_count": 93,
   "id": "96965d97-b4f9-41b1-9d8b-96147d9d65ff",
   "metadata": {},
   "outputs": [],
   "source": [
    "potentials = ( 1.0, 2.0 / 3.0, 1.0 / 3.0 )"
   ]
  },
  {
   "cell_type": "code",
   "execution_count": 94,
   "id": "afe883f7-3e32-4ef1-b1c5-092f1d8d11cd",
   "metadata": {},
   "outputs": [],
   "source": [
    "energy = potentials[ - 1 ] # Keep it real"
   ]
  },
  {
   "cell_type": "code",
   "execution_count": 95,
   "id": "05f44303-388f-401b-aec4-425812c1ffc3",
   "metadata": {},
   "outputs": [],
   "source": [
    "mass = 1.0"
   ]
  },
  {
   "cell_type": "code",
   "execution_count": 76,
   "id": "2450f8fd-d4ce-4fd3-9a27-9abc759c1fe9",
   "metadata": {},
   "outputs": [],
   "source": [
    "plancks_constant = 1.0"
   ]
  },
  {
   "cell_type": "code",
   "execution_count": null,
   "id": "69c9d34d-400c-417f-8c2e-a99760219627",
   "metadata": {},
   "outputs": [],
   "source": []
  },
  {
   "cell_type": "code",
   "execution_count": 77,
   "id": "f0d46fb3-c794-4b75-8e78-fab404d158fd",
   "metadata": {},
   "outputs": [],
   "source": [
    "#for ii in range( len( stairwell_solver.equations ) ): \n",
    "#    k = ( sp.sqrt( mass ) * sp.sqrt( 2 ) * ( -energy + potentials[ ii ] ) ) / plancks_constant\n",
    "#    stairwell_solver.equations[ ii ] \\\n",
    "#            .operate( lambda step : step.xreplace( { stairwell_solver.harmonic_constants[ ii ].lhs : k } ), chain = True ) \\\n",
    "#            .operate( lambda step : step.xreplace( { stairwell_solver.normalization_symbols[ ii ] : probabilities[ ii ] } ), chain = True ) \\\n",
    "#            .operate( lambda step : step.xreplace( { stairwell_solver.regions()[ ii ] : lengths[ ii ] } ), chain = True )\n"
   ]
  },
  {
   "cell_type": "code",
   "execution_count": 78,
   "id": "fc03b3f9-954a-4eed-8e13-167255d3bdc9",
   "metadata": {},
   "outputs": [
    {
     "data": {
      "text/latex": [
       "$\\displaystyle \\psi_{0}{\\left(x \\right)} = - \\frac{\\sqrt{2} \\sqrt{\\frac{N_{0} k_{0}}{4 L_{0} k_{0} e^{2 L_{0} k_{0}} - e^{4 L_{0} k_{0}} + 1}} \\left(e^{L_{0} k_{0}} - e^{k_{0} \\left(L_{0} + 2 x\\right)}\\right) e^{- k_{0} x} \\left|{e^{2 L_{0} k_{0}} - 1}\\right|}{e^{2 L_{0} k_{0}} - 1}$"
      ],
      "text/plain": [
       "Eq(\\psi_{0}(x), -sqrt(2)*sqrt(N_0*k_0/(4*L_0*k_0*exp(2*L_0*k_0) - exp(4*L_0*k_0) + 1))*(exp(L_0*k_0) - exp(k_0*(L_0 + 2*x)))*exp(-k_0*x)*Abs(exp(2*L_0*k_0) - 1)/(exp(2*L_0*k_0) - 1))"
      ]
     },
     "metadata": {},
     "output_type": "display_data"
    },
    {
     "data": {
      "text/latex": [
       "$\\displaystyle \\psi_{1}{\\left(x \\right)} = - \\frac{\\sqrt{2} \\left(- \\left(\\sqrt{\\frac{- 4 L_{1} N_{0} k_{0} k_{1} \\left(1 - e^{2 L_{0} k_{0}}\\right)^{2} e^{2 L_{1} k_{1}} + N_{0} k_{0} \\left(1 - e^{2 L_{0} k_{0}}\\right)^{2} e^{4 L_{1} k_{1}} - N_{0} k_{0} \\left(1 - e^{2 L_{0} k_{0}}\\right)^{2} + N_{1} k_{1} \\left(4 L_{0} k_{0} e^{2 L_{0} k_{0}} - e^{4 L_{0} k_{0}} + 1\\right) \\left(e^{4 L_{1} k_{1}} - 2 e^{2 L_{1} k_{1}} + 1\\right)}{16 L_{0} L_{1} k_{0} k_{1} e^{2 L_{0} k_{0} + 2 L_{1} k_{1}} + 4 L_{0} k_{0} e^{2 L_{0} k_{0}} - 4 L_{0} k_{0} e^{2 L_{0} k_{0} + 4 L_{1} k_{1}} + 4 L_{1} k_{1} e^{2 L_{1} k_{1}} - 4 L_{1} k_{1} e^{4 L_{0} k_{0} + 2 L_{1} k_{1}} - e^{4 L_{0} k_{0}} - e^{4 L_{1} k_{1}} + e^{4 L_{0} k_{0} + 4 L_{1} k_{1}} + 1}} e^{L_{1} k_{1}} - \\sqrt{\\frac{N_{0} k_{0}}{4 L_{0} k_{0} e^{2 L_{0} k_{0}} - e^{4 L_{0} k_{0}} + 1}} \\left|{e^{2 L_{0} k_{0}} - 1}\\right|\\right) e^{2 k_{1} x} + \\left(\\sqrt{\\frac{- 4 L_{1} N_{0} k_{0} k_{1} \\left(1 - e^{2 L_{0} k_{0}}\\right)^{2} e^{2 L_{1} k_{1}} + N_{0} k_{0} \\left(1 - e^{2 L_{0} k_{0}}\\right)^{2} e^{4 L_{1} k_{1}} - N_{0} k_{0} \\left(1 - e^{2 L_{0} k_{0}}\\right)^{2} + N_{1} k_{1} \\left(4 L_{0} k_{0} e^{2 L_{0} k_{0}} - e^{4 L_{0} k_{0}} + 1\\right) \\left(e^{4 L_{1} k_{1}} - 2 e^{2 L_{1} k_{1}} + 1\\right)}{16 L_{0} L_{1} k_{0} k_{1} e^{2 L_{0} k_{0} + 2 L_{1} k_{1}} + 4 L_{0} k_{0} e^{2 L_{0} k_{0}} - 4 L_{0} k_{0} e^{2 L_{0} k_{0} + 4 L_{1} k_{1}} + 4 L_{1} k_{1} e^{2 L_{1} k_{1}} - 4 L_{1} k_{1} e^{4 L_{0} k_{0} + 2 L_{1} k_{1}} - e^{4 L_{0} k_{0}} - e^{4 L_{1} k_{1}} + e^{4 L_{0} k_{0} + 4 L_{1} k_{1}} + 1}} - \\sqrt{\\frac{N_{0} k_{0}}{4 L_{0} k_{0} e^{2 L_{0} k_{0}} - e^{4 L_{0} k_{0}} + 1}} e^{L_{1} k_{1}} \\left|{e^{2 L_{0} k_{0}} - 1}\\right|\\right) e^{L_{1} k_{1}}\\right) e^{- k_{1} x}}{e^{2 L_{1} k_{1}} - 1}$"
      ],
      "text/plain": [
       "Eq(\\psi_{1}(x), -sqrt(2)*(-(sqrt((-4*L_1*N_0*k_0*k_1*(1 - exp(2*L_0*k_0))**2*exp(2*L_1*k_1) + N_0*k_0*(1 - exp(2*L_0*k_0))**2*exp(4*L_1*k_1) - N_0*k_0*(1 - exp(2*L_0*k_0))**2 + N_1*k_1*(4*L_0*k_0*exp(2*L_0*k_0) - exp(4*L_0*k_0) + 1)*(exp(4*L_1*k_1) - 2*exp(2*L_1*k_1) + 1))/(16*L_0*L_1*k_0*k_1*exp(2*L_0*k_0 + 2*L_1*k_1) + 4*L_0*k_0*exp(2*L_0*k_0) - 4*L_0*k_0*exp(2*L_0*k_0 + 4*L_1*k_1) + 4*L_1*k_1*exp(2*L_1*k_1) - 4*L_1*k_1*exp(4*L_0*k_0 + 2*L_1*k_1) - exp(4*L_0*k_0) - exp(4*L_1*k_1) + exp(4*L_0*k_0 + 4*L_1*k_1) + 1))*exp(L_1*k_1) - sqrt(N_0*k_0/(4*L_0*k_0*exp(2*L_0*k_0) - exp(4*L_0*k_0) + 1))*Abs(exp(2*L_0*k_0) - 1))*exp(2*k_1*x) + (sqrt((-4*L_1*N_0*k_0*k_1*(1 - exp(2*L_0*k_0))**2*exp(2*L_1*k_1) + N_0*k_0*(1 - exp(2*L_0*k_0))**2*exp(4*L_1*k_1) - N_0*k_0*(1 - exp(2*L_0*k_0))**2 + N_1*k_1*(4*L_0*k_0*exp(2*L_0*k_0) - exp(4*L_0*k_0) + 1)*(exp(4*L_1*k_1) - 2*exp(2*L_1*k_1) + 1))/(16*L_0*L_1*k_0*k_1*exp(2*L_0*k_0 + 2*L_1*k_1) + 4*L_0*k_0*exp(2*L_0*k_0) - 4*L_0*k_0*exp(2*L_0*k_0 + 4*L_1*k_1) + 4*L_1*k_1*exp(2*L_1*k_1) - 4*L_1*k_1*exp(4*L_0*k_0 + 2*L_1*k_1) - exp(4*L_0*k_0) - exp(4*L_1*k_1) + exp(4*L_0*k_0 + 4*L_1*k_1) + 1)) - sqrt(N_0*k_0/(4*L_0*k_0*exp(2*L_0*k_0) - exp(4*L_0*k_0) + 1))*exp(L_1*k_1)*Abs(exp(2*L_0*k_0) - 1))*exp(L_1*k_1))*exp(-k_1*x)/(exp(2*L_1*k_1) - 1))"
      ]
     },
     "metadata": {},
     "output_type": "display_data"
    },
    {
     "data": {
      "text/latex": [
       "$\\displaystyle \\psi_{2}{\\left(x \\right)} = \\frac{\\sqrt{2} \\sqrt{\\frac{- 4 L_{1} N_{0} k_{0} k_{1} \\left(1 - e^{2 L_{0} k_{0}}\\right)^{2} e^{2 L_{1} k_{1}} + N_{0} k_{0} \\left(1 - e^{2 L_{0} k_{0}}\\right)^{2} e^{4 L_{1} k_{1}} - N_{0} k_{0} \\left(1 - e^{2 L_{0} k_{0}}\\right)^{2} + N_{1} k_{1} \\left(4 L_{0} k_{0} e^{2 L_{0} k_{0}} - e^{4 L_{0} k_{0}} + 1\\right) \\left(e^{4 L_{1} k_{1}} - 2 e^{2 L_{1} k_{1}} + 1\\right)}{16 L_{0} L_{1} k_{0} k_{1} e^{2 L_{0} k_{0} + 2 L_{1} k_{1}} + 4 L_{0} k_{0} e^{2 L_{0} k_{0}} - 4 L_{0} k_{0} e^{2 L_{0} k_{0} + 4 L_{1} k_{1}} + 4 L_{1} k_{1} e^{2 L_{1} k_{1}} - 4 L_{1} k_{1} e^{4 L_{0} k_{0} + 2 L_{1} k_{1}} - e^{4 L_{0} k_{0}} - e^{4 L_{1} k_{1}} + e^{4 L_{0} k_{0} + 4 L_{1} k_{1}} + 1}} \\left(- \\left(1 - e^{2 L_{2} k_{2}}\\right) e^{2 L_{2} k_{2}} + \\left(1 - e^{2 L_{2} k_{2}}\\right) e^{2 k_{2} x}\\right) e^{- k_{2} x}}{\\left(1 - e^{2 L_{2} k_{2}}\\right)^{2}}$"
      ],
      "text/plain": [
       "Eq(\\psi_{2}(x), sqrt(2)*sqrt((-4*L_1*N_0*k_0*k_1*(1 - exp(2*L_0*k_0))**2*exp(2*L_1*k_1) + N_0*k_0*(1 - exp(2*L_0*k_0))**2*exp(4*L_1*k_1) - N_0*k_0*(1 - exp(2*L_0*k_0))**2 + N_1*k_1*(4*L_0*k_0*exp(2*L_0*k_0) - exp(4*L_0*k_0) + 1)*(exp(4*L_1*k_1) - 2*exp(2*L_1*k_1) + 1))/(16*L_0*L_1*k_0*k_1*exp(2*L_0*k_0 + 2*L_1*k_1) + 4*L_0*k_0*exp(2*L_0*k_0) - 4*L_0*k_0*exp(2*L_0*k_0 + 4*L_1*k_1) + 4*L_1*k_1*exp(2*L_1*k_1) - 4*L_1*k_1*exp(4*L_0*k_0 + 2*L_1*k_1) - exp(4*L_0*k_0) - exp(4*L_1*k_1) + exp(4*L_0*k_0 + 4*L_1*k_1) + 1))*(-(1 - exp(2*L_2*k_2))*exp(2*L_2*k_2) + (1 - exp(2*L_2*k_2))*exp(2*k_2*x))*exp(-k_2*x)/(1 - exp(2*L_2*k_2))**2)"
      ]
     },
     "metadata": {},
     "output_type": "display_data"
    }
   ],
   "source": [
    "display_steps( stairwell_solver.equations )"
   ]
  },
  {
   "cell_type": "code",
   "execution_count": 79,
   "id": "5732007c-1c46-4760-89d4-d5c06aea509f",
   "metadata": {},
   "outputs": [
    {
     "data": {
      "text/latex": [
       "$\\displaystyle \\psi_{2}{\\left(x \\right)} = \\frac{\\sqrt{2} \\sqrt{\\frac{- 4 L_{1} N_{0} k_{0} k_{1} \\left(1 - e^{2 L_{0} k_{0}}\\right)^{2} e^{2 L_{1} k_{1}} + N_{0} k_{0} \\left(1 - e^{2 L_{0} k_{0}}\\right)^{2} e^{4 L_{1} k_{1}} - N_{0} k_{0} \\left(1 - e^{2 L_{0} k_{0}}\\right)^{2} + N_{1} k_{1} \\left(4 L_{0} k_{0} e^{2 L_{0} k_{0}} - e^{4 L_{0} k_{0}} + 1\\right) \\left(e^{4 L_{1} k_{1}} - 2 e^{2 L_{1} k_{1}} + 1\\right)}{16 L_{0} L_{1} k_{0} k_{1} e^{2 L_{0} k_{0} + 2 L_{1} k_{1}} + 4 L_{0} k_{0} e^{2 L_{0} k_{0}} - 4 L_{0} k_{0} e^{2 L_{0} k_{0} + 4 L_{1} k_{1}} + 4 L_{1} k_{1} e^{2 L_{1} k_{1}} - 4 L_{1} k_{1} e^{4 L_{0} k_{0} + 2 L_{1} k_{1}} - e^{4 L_{0} k_{0}} - e^{4 L_{1} k_{1}} + e^{4 L_{0} k_{0} + 4 L_{1} k_{1}} + 1}} \\left(- \\left(1 - e^{2 L_{2} k_{2}}\\right) e^{2 L_{2} k_{2}} + \\left(1 - e^{2 L_{2} k_{2}}\\right) e^{2 k_{2} x}\\right) e^{- k_{2} x}}{\\left(1 - e^{2 L_{2} k_{2}}\\right)^{2}}$"
      ],
      "text/plain": [
       "Eq(\\psi_{2}(x), sqrt(2)*sqrt((-4*L_1*N_0*k_0*k_1*(1 - exp(2*L_0*k_0))**2*exp(2*L_1*k_1) + N_0*k_0*(1 - exp(2*L_0*k_0))**2*exp(4*L_1*k_1) - N_0*k_0*(1 - exp(2*L_0*k_0))**2 + N_1*k_1*(4*L_0*k_0*exp(2*L_0*k_0) - exp(4*L_0*k_0) + 1)*(exp(4*L_1*k_1) - 2*exp(2*L_1*k_1) + 1))/(16*L_0*L_1*k_0*k_1*exp(2*L_0*k_0 + 2*L_1*k_1) + 4*L_0*k_0*exp(2*L_0*k_0) - 4*L_0*k_0*exp(2*L_0*k_0 + 4*L_1*k_1) + 4*L_1*k_1*exp(2*L_1*k_1) - 4*L_1*k_1*exp(4*L_0*k_0 + 2*L_1*k_1) - exp(4*L_0*k_0) - exp(4*L_1*k_1) + exp(4*L_0*k_0 + 4*L_1*k_1) + 1))*(-(1 - exp(2*L_2*k_2))*exp(2*L_2*k_2) + (1 - exp(2*L_2*k_2))*exp(2*k_2*x))*exp(-k_2*x)/(1 - exp(2*L_2*k_2))**2)"
      ]
     },
     "execution_count": 79,
     "metadata": {},
     "output_type": "execute_result"
    }
   ],
   "source": [
    "stairwell_solver.equations[ 2 ].last_step()"
   ]
  },
  {
   "cell_type": "code",
   "execution_count": null,
   "id": "9c79af50-bc39-4d21-96d7-ee45c8aadce1",
   "metadata": {},
   "outputs": [],
   "source": []
  },
  {
   "cell_type": "code",
   "execution_count": 80,
   "id": "1d1065fa-9ba5-41a9-8970-5d1e15280f0b",
   "metadata": {},
   "outputs": [],
   "source": [
    "# executable_wave_functions = [ sp.lambdify( [ stairwell_solver.position ], equation.last_step() ) for equation in stairwell_solver.equations ]"
   ]
  },
  {
   "cell_type": "code",
   "execution_count": 160,
   "id": "0204ab11-3fe2-4bc5-854b-05fd91b9c60f",
   "metadata": {},
   "outputs": [],
   "source": [
    "harmonic_constant_symbols = \\\n",
    "        [ stairwell_solver.harmonic_constants[ ii ].lhs for ii in range( len( stairwell_solver.equations ) ) ]\n",
    "executable_wave_function = sp.lambdify(  \n",
    "        [ stairwell_solver.position, stairwell_solver.mass, stairwell_solver.total_energy, ] + \\\n",
    "        harmonic_constant_symbols + [\n",
    "        *tuple( stairwell_solver.normalization_symbols ), \n",
    "        *tuple( stairwell_solver.regions() )\n",
    "    ], ( stairwell_solver.equations[ 0 ].last_step().rhs ** 2 ).simplify(), \"numpy\" )"
   ]
  },
  {
   "cell_type": "code",
   "execution_count": 161,
   "id": "cc8e71b7-3b20-44d3-b4fe-6ac43e5a1792",
   "metadata": {},
   "outputs": [],
   "source": [
    "import numpy as np"
   ]
  },
  {
   "cell_type": "code",
   "execution_count": 162,
   "id": "3ada54d9-5a74-48cc-a8e1-3e1d2834dab1",
   "metadata": {},
   "outputs": [],
   "source": [
    "harmonic_constants = tuple( [ ( np.sqrt( mass ) * np.sqrt( 2 ) * ( -energy + potential ) ) / plancks_constant \\\n",
    "        for potential in potentials ] )\n",
    "x_range = np.arange( 0, lengths[ 0 ], .001 )\n"
   ]
  },
  {
   "cell_type": "code",
   "execution_count": 163,
   "id": "c3026dbb-41bc-4ffb-96b6-9664ca2308fe",
   "metadata": {},
   "outputs": [],
   "source": [
    "data = []\n",
    "for x in x_range: \n",
    "    data.append( executable_wave_function( x, mass, energy, *harmonic_constants, *probabilities, *lengths ) )"
   ]
  },
  {
   "cell_type": "code",
   "execution_count": 164,
   "id": "2b51b924-3d9f-4ae5-b388-f8b55dae202f",
   "metadata": {},
   "outputs": [
    {
     "data": {
      "text/plain": [
       "<function _lambdifygenerated(x, m, E, k_0, k_1, k_2, N_0, N_1, N_2, L_0, L_1, L_2)>"
      ]
     },
     "execution_count": 164,
     "metadata": {},
     "output_type": "execute_result"
    }
   ],
   "source": [
    "executable_wave_function"
   ]
  },
  {
   "cell_type": "code",
   "execution_count": 168,
   "id": "d18a2fbf-2e25-4a61-8ef5-0f47cf290a1c",
   "metadata": {},
   "outputs": [],
   "source": [
    "import matplotlib.pyplot as plt"
   ]
  },
  {
   "cell_type": "code",
   "execution_count": 169,
   "id": "d296b12f-5da9-48e9-b1f1-15035c94f047",
   "metadata": {},
   "outputs": [
    {
     "data": {
      "text/plain": [
       "[<matplotlib.lines.Line2D at 0x7fca60afd790>]"
      ]
     },
     "execution_count": 169,
     "metadata": {},
     "output_type": "execute_result"
    },
    {
     "data": {
      "image/png": "[encoded data removed]",
      "text/plain": [
       "<Figure size 432x288 with 1 Axes>"
      ]
     },
     "metadata": {
      "needs_background": "light"
     },
     "output_type": "display_data"
    }
   ],
   "source": [
    "plt.plot( data )"
   ]
  },
  {
   "cell_type": "code",
   "execution_count": 165,
   "id": "85f2b44f-72c9-47c2-8a32-c53f97e9fb5a",
   "metadata": {},
   "outputs": [
    {
     "data": {
      "text/plain": [
       "[-0.0,\n",
       " -1.5883293333631094e-05,\n",
       " -6.353322980846599e-05,\n",
       " -0.0001429499788465514,\n",
       " -0.0002541338228186427,\n",
       " -0.0003970851570451776,\n",
       " -0.0005718044897977338,\n",
       " -0.0007782924423007546,\n",
       " -0.0010165497487338968,\n",
       " -0.001286577256234466,\n",
       " -0.0015883759249005563,\n",
       " -0.0019219468277944156,\n",
       " -0.0022872911509463066,\n",
       " -0.0026844101933585977,\n",
       " -0.0031133053670105598,\n",
       " -0.0035739781968632083,\n",
       " -0.004066430320864955,\n",
       " -0.004590663489957154,\n",
       " -0.005146679568080513,\n",
       " -0.005734480532181697,\n",
       " -0.006354068472220322,\n",
       " -0.007005445591176304,\n",
       " -0.007688614205057943,\n",
       " -0.008403576742909896,\n",
       " -0.009150335746821918,\n",
       " -0.009928893871937933,\n",
       " -0.010739253886465447,\n",
       " -0.011581418671685316,\n",
       " -0.012455391221962197,\n",
       " -0.013361174644754838,\n",
       " -0.014298772160627625,\n",
       " -0.015268187103261463,\n",
       " -0.016269422919466144,\n",
       " -0.01730248316919233,\n",
       " -0.018367371525544105,\n",
       " -0.019464091774792344,\n",
       " -0.020592647816387973,\n",
       " -0.02175304366297593,\n",
       " -0.02294528344040931,\n",
       " -0.024169371387764198,\n",
       " -0.025425311857354433,\n",
       " -0.026713109314747536,\n",
       " -0.02803276833878028,\n",
       " -0.029384293621575075,\n",
       " -0.030767689968556375,\n",
       " -0.03218296229846854,\n",
       " -0.03363011564339213,\n",
       " -0.03510915514876286,\n",
       " -0.03662008607338958,\n",
       " -0.03816291378947256,\n",
       " -0.03973764378262321,\n",
       " -0.04134428165188306,\n",
       " -0.042982833109744045,\n",
       " -0.04465330398216868,\n",
       " -0.04635570020861058,\n",
       " -0.04809002784203597,\n",
       " -0.049856293048944955,\n",
       " -0.05165450210939355,\n",
       " -0.0534846614170157,\n",
       " -0.0553467774790465,\n",
       " -0.05724085691634493,\n",
       " -0.05916690646341783,\n",
       " -0.06112493296844318,\n",
       " -0.06311494339329535,\n",
       " -0.06513694481356885,\n",
       " -0.06719094441860406,\n",
       " -0.06927694951151322,\n",
       " -0.0713949675092052,\n",
       " -0.07354500594241314,\n",
       " -0.07572707245572015,\n",
       " -0.07794117480758747,\n",
       " -0.08018732087038125,\n",
       " -0.08246551863040094,\n",
       " -0.08477577618790756,\n",
       " -0.08711810175715291,\n",
       " -0.08949250366640794,\n",
       " -0.09189899035799313,\n",
       " -0.09433757038830809,\n",
       " -0.09680825242786219,\n",
       " -0.09931104526130526,\n",
       " -0.10184595778745886,\n",
       " -0.10441299901934814,\n",
       " -0.10701217808423337,\n",
       " -0.1096435042236428,\n",
       " -0.11230698679340584,\n",
       " -0.11500263526368501,\n",
       " -0.11773045921901133,\n",
       " -0.12049046835831737,\n",
       " -0.12328267249497162,\n",
       " -0.12610708155681435,\n",
       " -0.12896370558619144,\n",
       " -0.1318525547399916,\n",
       " -0.1347736392896814,\n",
       " -0.1377269696213422,\n",
       " -0.1407125562357075,\n",
       " -0.14373040974819945,\n",
       " -0.14678054088896678,\n",
       " -0.14986296050292372,\n",
       " -0.15297767954978755,\n",
       " -0.1561247091041183,\n",
       " -0.15930406035535746,\n",
       " -0.16251574460786858,\n",
       " -0.16575977328097657,\n",
       " -0.1690361579090093,\n",
       " -0.17234491014133796,\n",
       " -0.175686041742418,\n",
       " -0.1790595645918321,\n",
       " -0.18246549068433177,\n",
       " -0.18590383212988007,\n",
       " -0.18937460115369464,\n",
       " -0.1928778100962911,\n",
       " -0.19641347141352752,\n",
       " -0.19998159767664708,\n",
       " -0.20358220157232573,\n",
       " -0.2072152959027136,\n",
       " -0.21088089358548354,\n",
       " -0.2145790076538759,\n",
       " -0.21830965125674417,\n",
       " -0.22207283765860272,\n",
       " -0.22586858023967457,\n",
       " -0.2296968924959368,\n",
       " -0.23355778803917032,\n",
       " -0.23745128059700826,\n",
       " -0.24137738401298373,\n",
       " -0.24533611224657914,\n",
       " -0.249327479373277,\n",
       " -0.2533514995846095,\n",
       " -0.2574081871882078,\n",
       " -0.26149755660785456,\n",
       " -0.2656196223835345,\n",
       " -0.26977439917148516,\n",
       " -0.27396190174425117,\n",
       " -0.27818214499073485,\n",
       " -0.2824351439162499,\n",
       " -0.28672091364257485,\n",
       " -0.29103946940800646,\n",
       " -0.29539082656741467,\n",
       " -0.2997750005922951,\n",
       " -0.30419200707082783,\n",
       " -0.3086418617079288,\n",
       " -0.3131245803253082,\n",
       " -0.3176401788615259,\n",
       " -0.3221886733720482,\n",
       " -0.32677008002930474,\n",
       " -0.33138441512274625,\n",
       " -0.3360316950589023,\n",
       " -0.34071193636144,\n",
       " -0.34542515567122173,\n",
       " -0.3501713697463663,\n",
       " -0.35495059546230573,\n",
       " -0.3597628498118483,\n",
       " -0.36460814990523627,\n",
       " -0.3694865129702087,\n",
       " -0.37439795635206136,\n",
       " -0.3793424975137095,\n",
       " -0.38432015403574893,\n",
       " -0.3893309436165197,\n",
       " -0.3943748840721671,\n",
       " -0.3994519933367074,\n",
       " -0.4045622894620896,\n",
       " -0.4097057906182611,\n",
       " -0.4148825150932321,\n",
       " -0.4200924812931386,\n",
       " -0.42533570774231033,\n",
       " -0.43061221308333614,\n",
       " -0.4359220160771293,\n",
       " -0.4412651356029953,\n",
       " -0.4466415906586976,\n",
       " -0.4520514003605267,\n",
       " -0.45749458394336723,\n",
       " -0.46297116076076644,\n",
       " -0.46848115028500353,\n",
       " -0.474024572107158,\n",
       " -0.47960144593718024,\n",
       " -0.4852117916039601,\n",
       " -0.4908556290553998,\n",
       " -0.49653297835848303,\n",
       " -0.5022438596993458,\n",
       " -0.5079882933833505,\n",
       " -0.5137662998351566,\n",
       " -0.519577899598793,\n",
       " -0.5254231133377311,\n",
       " -0.5313019618349597,\n",
       " -0.5372144659930576,\n",
       " -0.5431606468342678,\n",
       " -0.5491405255005724,\n",
       " -0.5551541232537702,\n",
       " -0.561201461475546,\n",
       " -0.5672825616675551,\n",
       " -0.5733974454514922,\n",
       " -0.5795461345691738,\n",
       " -0.5857286508826115,\n",
       " -0.5919450163740921,\n",
       " -0.5981952531462557,\n",
       " -0.6044793834221717,\n",
       " -0.6107974295454217,\n",
       " -0.6171494139801766,\n",
       " -0.6235353593112769,\n",
       " -0.6299552882443116,\n",
       " -0.6364092236057027,\n",
       " -0.6428971883427819,\n",
       " -0.6494192055238748,\n",
       " -0.6559752983383837,\n",
       " -0.6625654900968669,\n",
       " -0.6691898042311252,\n",
       " -0.6758482642942815,\n",
       " -0.6825408939608677,\n",
       " -0.6892677170269077,\n",
       " -0.6960287574100017,\n",
       " -0.7028240391494109,\n",
       " -0.709653586406145,\n",
       " -0.7165174234630469,\n",
       " -0.7234155747248755,\n",
       " -0.7303480647183987,\n",
       " -0.7373149180924787,\n",
       " -0.7443161596181551,\n",
       " -0.751351814188739,\n",
       " -0.7584219068198996,\n",
       " -0.7655264626497503,\n",
       " -0.7726655069389422,\n",
       " -0.7798390650707512,\n",
       " -0.7870471625511692,\n",
       " -0.7942898250089953,\n",
       " -0.8015670781959253,\n",
       " -0.8088789479866453,\n",
       " -0.8162254603789209,\n",
       " -0.8236066414936948,\n",
       " -0.8310225175751731,\n",
       " -0.8384731149909234,\n",
       " -0.8459584602319652,\n",
       " -0.8534785799128702,\n",
       " -0.861033500771847,\n",
       " -0.8686232496708455,\n",
       " -0.8762478535956479,\n",
       " -0.8839073396559648,\n",
       " -0.8916017350855313,\n",
       " -0.8993310672422082,\n",
       " -0.9070953636080712,\n",
       " -0.9148946517895168,\n",
       " -0.9227289595173555,\n",
       " -0.9305983146469109,\n",
       " -0.938502745158122,\n",
       " -0.946442279155639,\n",
       " -0.9544169448689241,\n",
       " -0.9624267706523523,\n",
       " -0.9704717849853128,\n",
       " -0.9785520164723094,\n",
       " -0.9866674938430638,\n",
       " -0.9948182459526137,\n",
       " -1.0030043017814192,\n",
       " -1.0112256904354664,\n",
       " -1.019482441146368,\n",
       " -1.0277745832714684,\n",
       " -1.0361021462939486,\n",
       " -1.0444651598229284,\n",
       " -1.052863653593579,\n",
       " -1.0612976574672184,\n",
       " -1.0697672014314248,\n",
       " -1.0782723156001415,\n",
       " -1.0868130302137837,\n",
       " -1.0953893756393456,\n",
       " -1.1040013823705104,\n",
       " -1.112649081027752,\n",
       " -1.121332502358456,\n",
       " -1.1300516772370146,\n",
       " -1.138806636664952,\n",
       " -1.1475974117710197,\n",
       " -1.1564240338113165,\n",
       " -1.1652865341693968,\n",
       " -1.1741849443563823,\n",
       " -1.1831192960110735,\n",
       " -1.1920896209000647,\n",
       " -1.2010959509178545,\n",
       " -1.2101383180869574,\n",
       " -1.2192167545580213,\n",
       " -1.2283312926099426,\n",
       " -1.2374819646499775,\n",
       " -1.246668803213856,\n",
       " -1.2558918409659048,\n",
       " -1.2651511106991573,\n",
       " -1.274446645335469,\n",
       " -1.283778477925641,\n",
       " -1.2931466416495316,\n",
       " -1.3025511698161791,\n",
       " -1.311992095863913,\n",
       " -1.3214694533604825,\n",
       " -1.330983276003168,\n",
       " -1.340533597618904,\n",
       " -1.3501204521643997,\n",
       " -1.359743873726259,\n",
       " -1.3694038965211026,\n",
       " -1.379100554895688,\n",
       " -1.388833883327034,\n",
       " -1.3986039164225395,\n",
       " -1.4084106889201105,\n",
       " -1.4182542356882815,\n",
       " -1.4281345917263422,\n",
       " -1.4380517921644551,\n",
       " -1.4480058722637907,\n",
       " -1.457996867416641,\n",
       " -1.4680248131465572,\n",
       " -1.4780897451084667,\n",
       " -1.4881916990888058,\n",
       " -1.4983307110056439,\n",
       " -1.5085068169088103,\n",
       " -1.5187200529800275,\n",
       " -1.5289704555330332,\n",
       " -1.5392580610137148,\n",
       " -1.5495829060002344,\n",
       " -1.5599450272031647,\n",
       " -1.5703444614656143,\n",
       " -1.5807812457633599,\n",
       " -1.5912554172049773,\n",
       " -1.601767013031977,\n",
       " -1.6123160706189348,\n",
       " -1.622902627473619,\n",
       " -1.633526721237134,\n",
       " -1.6441883896840461,\n",
       " -1.6548876707225213,\n",
       " -1.6656246023944585,\n",
       " -1.6763992228756261,\n",
       " -1.687211570475797,\n",
       " -1.6980616836388855,\n",
       " -1.7089496009430825,\n",
       " -1.7198753611009965,\n",
       " -1.730839002959784,\n",
       " -1.7418405655012952,\n",
       " -1.7528800878422082,\n",
       " -1.7639576092341687,\n",
       " -1.7750731690639332,\n",
       " -1.7862268068535025,\n",
       " -1.7974185622602665,\n",
       " -1.8086484750771463,\n",
       " -1.8199165852327326]"
      ]
     },
     "execution_count": 165,
     "metadata": {},
     "output_type": "execute_result"
    }
   ],
   "source": [
    "data"
   ]
  },
  {
   "cell_type": "code",
   "execution_count": 144,
   "id": "f87ba71a-be56-4c2d-aacc-4799e24f5504",
   "metadata": {},
   "outputs": [
    {
     "data": {
      "text/plain": [
       "nan"
      ]
     },
     "execution_count": 144,
     "metadata": {},
     "output_type": "execute_result"
    }
   ],
   "source": [
    "executable_wave_function( 0, mass, energy, *harmonic_constants, *probabilities, *lengths )"
   ]
  },
  {
   "cell_type": "code",
   "execution_count": 118,
   "id": "1140101f-e66f-4805-b82b-9812e238e3fe",
   "metadata": {},
   "outputs": [],
   "source": [
    "import inspect\n"
   ]
  },
  {
   "cell_type": "code",
   "execution_count": 119,
   "id": "e5a56090-eff2-4638-8331-0b337dfeb097",
   "metadata": {},
   "outputs": [
    {
     "data": {
      "text/plain": [
       "'def _lambdifygenerated(x, m, E, k_0, k_1, k_2, N_0, N_1, N_2, L_0, L_1, L_2):\\n    return -sqrt(2)*sqrt(N_0*k_0/(4*L_0*k_0*exp(2*L_0*k_0) - exp(4*L_0*k_0) + 1))*(exp(L_0*k_0) - exp(k_0*(L_0 + 2*x)))*exp(-k_0*x)*abs(exp(2*L_0*k_0) - 1)/(exp(2*L_0*k_0) - 1)\\n'"
      ]
     },
     "execution_count": 119,
     "metadata": {},
     "output_type": "execute_result"
    }
   ],
   "source": [
    "inspect.getsource( executable_wave_function )"
   ]
  },
  {
   "cell_type": "code",
   "execution_count": 127,
   "id": "83d0b413-b132-4c37-836e-89d2bf4a058d",
   "metadata": {},
   "outputs": [],
   "source": [
    "def psi_0( x, m, E, k_0, k_1, k_2, N_0, N_1, N_2, L_0, L_1, L_2 ):\n",
    "    return -np.sqrt( 2 ) * np.sqrt( N_0 * k_0 / ( 4 * L_0 * k_0 * np.exp( 2 * L_0 * k_0 ) \\\n",
    "            - np.exp( 4 * L_0 * k_0 ) + 1 ) ) * ( np.exp( L_0 * k_0 ) - np.exp( k_0 * ( L_0 + 2 * x ) ) ) \\\n",
    "            * np.exp( -k_0 * x ) * np.abs( np.exp( 2 * L_0 * k_0 ) - 1 ) / ( np.exp( 2 * L_0 * k_0 ) - 1 )"
   ]
  },
  {
   "cell_type": "code",
   "execution_count": null,
   "id": "723db0b5-6c6f-4a70-a3d5-9aa9dd214c0e",
   "metadata": {},
   "outputs": [],
   "source": [
    "psi_0( 0, mass, energy, *harmonic_constants, *probabilities, *lengths )"
   ]
  },
  {
   "cell_type": "code",
   "execution_count": null,
   "id": "29d03530-eb6d-42d7-b146-f28d39c0654a",
   "metadata": {},
   "outputs": [],
   "source": []
  },
  {
   "cell_type": "code",
   "execution_count": 146,
   "id": "73583938-aebb-4ac6-94c0-68aafa20bbe4",
   "metadata": {},
   "outputs": [],
   "source": [
    "def test( x, m, E, k_0, k_1, k_2, N_0, N_1, N_2, L_0, L_1, L_2 ):\n",
    "    return -np.sqrt( 2 ) * np.sqrt( N_0 * k_0 / ( 4 * L_0 * k_0 * np.exp( 2 * L_0 * k_0 ) - np.exp( 4 * L_0 * k_0 ) + 1 ) )"
   ]
  },
  {
   "cell_type": "code",
   "execution_count": 147,
   "id": "466f76ee-01a2-48ad-966d-9cb2f0b23025",
   "metadata": {},
   "outputs": [
    {
     "name": "stderr",
     "output_type": "stream",
     "text": [
      "/tmp/ipykernel_66/4044925764.py:2: RuntimeWarning: invalid value encountered in sqrt\n",
      "  return -np.sqrt( 2 ) * np.sqrt( N_0 * k_0 / ( 4 * L_0 * k_0 * np.exp( 2 * L_0 * k_0 ) - np.exp( 4 * L_0 * k_0 ) + 1 ) )\n"
     ]
    },
    {
     "data": {
      "text/plain": [
       "nan"
      ]
     },
     "execution_count": 147,
     "metadata": {},
     "output_type": "execute_result"
    }
   ],
   "source": [
    "test( 0, mass, energy, *harmonic_constants, *probabilities, *lengths )"
   ]
  },
  {
   "cell_type": "code",
   "execution_count": null,
   "id": "c27c0179-1d1b-410a-9f51-bb4604f6d673",
   "metadata": {},
   "outputs": [],
   "source": []
  },
  {
   "cell_type": "code",
   "execution_count": 145,
   "id": "3a056028-20cd-4440-acce-ed61802b71c7",
   "metadata": {},
   "outputs": [
    {
     "data": {
      "text/plain": [
       "1.8748700700626462"
      ]
     },
     "execution_count": 145,
     "metadata": {},
     "output_type": "execute_result"
    }
   ],
   "source": [
    "np.exp( 2 * lengths[ 0 ] * harmonic_constants[ 0 ] )"
   ]
  },
  {
   "cell_type": "code",
   "execution_count": 134,
   "id": "0861e591-24de-4344-82b4-af880ce61478",
   "metadata": {},
   "outputs": [
    {
     "data": {
      "text/plain": [
       "-1.4142135623730951"
      ]
     },
     "execution_count": 134,
     "metadata": {},
     "output_type": "execute_result"
    }
   ],
   "source": [
    "-np.sqrt( 2 )"
   ]
  },
  {
   "cell_type": "code",
   "execution_count": 135,
   "id": "27f9213e-f195-414e-ab70-38f26583153e",
   "metadata": {},
   "outputs": [
    {
     "data": {
      "text/latex": [
       "$\\displaystyle 0.444444444444444 \\sqrt{2}$"
      ],
      "text/plain": [
       "0.444444444444444*sqrt(2)"
      ]
     },
     "execution_count": 135,
     "metadata": {},
     "output_type": "execute_result"
    },
    {
     "name": "stdout",
     "output_type": "stream",
     "text": [
      "ERROR! Session/line number was not unique in database. History logging moved to new session 18\n"
     ]
    }
   ],
   "source": [
    "2 * lengths[ 0 ] * harmonic_constants[ 0 ]"
   ]
  },
  {
   "cell_type": "code",
   "execution_count": 151,
   "id": "8207ac13-1690-4a5d-8351-cedb5b919716",
   "metadata": {},
   "outputs": [],
   "source": [
    "a = ( 4 * lengths[ 0 ] * harmonic_constants[ 0 ] * np.exp( 2 * lengths[ 0 ] * harmonic_constants[ 0 ] ) - np.exp( 4 * lengths[ 0 ] * harmonic_constants[ 0 ] ) + 1 )"
   ]
  },
  {
   "cell_type": "code",
   "execution_count": 152,
   "id": "35e07639-a3df-4deb-9a99-13bb965ed50f",
   "metadata": {},
   "outputs": [
    {
     "data": {
      "text/plain": [
       "-0.15827850782116526"
      ]
     },
     "execution_count": 152,
     "metadata": {},
     "output_type": "execute_result"
    }
   ],
   "source": [
    "a"
   ]
  },
  {
   "cell_type": "code",
   "execution_count": 153,
   "id": "92783fc8-e6da-426b-a887-fe30cbe22d1c",
   "metadata": {},
   "outputs": [],
   "source": [
    "b = probabilities[ 0 ] * harmonic_constants[ 0 ]"
   ]
  },
  {
   "cell_type": "code",
   "execution_count": 154,
   "id": "d8d4dc0d-02c3-4371-9a47-a611ee2dae05",
   "metadata": {},
   "outputs": [
    {
     "data": {
      "text/plain": [
       "0.18856180831641273"
      ]
     },
     "execution_count": 154,
     "metadata": {},
     "output_type": "execute_result"
    }
   ],
   "source": [
    "b"
   ]
  },
  {
   "cell_type": "code",
   "execution_count": null,
   "id": "c7132ebd-6a1a-4c8d-8127-140f8c82de3f",
   "metadata": {},
   "outputs": [],
   "source": []
  },
  {
   "cell_type": "code",
   "execution_count": 155,
   "id": "42ee6d42-5e48-46db-828b-2fab54cf6264",
   "metadata": {},
   "outputs": [
    {
     "data": {
      "text/plain": [
       "-0.8393985464732544"
      ]
     },
     "execution_count": 155,
     "metadata": {},
     "output_type": "execute_result"
    }
   ],
   "source": [
    "a/b"
   ]
  },
  {
   "cell_type": "code",
   "execution_count": null,
   "id": "569ba0fb-2a26-4c74-9e8b-477dac8649fd",
   "metadata": {},
   "outputs": [],
   "source": []
  },
  {
   "cell_type": "code",
   "execution_count": 156,
   "id": "74dc9adb-81ff-41ff-a694-0ac7f2a73185",
   "metadata": {},
   "outputs": [
    {
     "name": "stderr",
     "output_type": "stream",
     "text": [
      "/tmp/ipykernel_66/3875616573.py:1: RuntimeWarning: invalid value encountered in sqrt\n",
      "  np.sqrt( a/b)\n"
     ]
    },
    {
     "data": {
      "text/plain": [
       "nan"
      ]
     },
     "execution_count": 156,
     "metadata": {},
     "output_type": "execute_result"
    }
   ],
   "source": [
    "np.sqrt( a/b)"
   ]
  },
  {
   "cell_type": "code",
   "execution_count": null,
   "id": "07f13591-118b-4bab-be89-42ee0370f063",
   "metadata": {},
   "outputs": [],
   "source": []
  }
 ],
 "metadata": {
  "kernelspec": {
   "display_name": "Python 3 (ipykernel)",
   "language": "python",
   "name": "python3"
  },
  "language_info": {
   "codemirror_mode": {
    "name": "ipython",
    "version": 3
   },
   "file_extension": ".py",
   "mimetype": "text/x-python",
   "name": "python",
   "nbconvert_exporter": "python",
   "pygments_lexer": "ipython3",
   "version": "3.9.10"
  }
 },
 "nbformat": 4,
 "nbformat_minor": 5
}
