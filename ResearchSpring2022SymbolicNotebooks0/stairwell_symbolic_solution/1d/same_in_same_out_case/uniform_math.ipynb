{
 "cells": [
  {
   "cell_type": "code",
   "execution_count": 1,
   "id": "dd553045-3832-4013-b47b-b1c083d6ded4",
   "metadata": {},
   "outputs": [],
   "source": [
    "import sympy as sp"
   ]
  },
  {
   "cell_type": "code",
   "execution_count": 2,
   "id": "d8dc997a-c21a-49de-ad72-57f3e0d920e7",
   "metadata": {},
   "outputs": [],
   "source": [
    "from sympy.plotting import plot as splot"
   ]
  },
  {
   "cell_type": "code",
   "execution_count": 3,
   "id": "1311db61-82ce-45f0-9df2-452b3eca31f4",
   "metadata": {},
   "outputs": [],
   "source": [
    "import matplotlib.pyplot"
   ]
  },
  {
   "cell_type": "code",
   "execution_count": null,
   "id": "ba05dfc5-3a4c-4421-88f0-4cd6ff18e961",
   "metadata": {},
   "outputs": [],
   "source": []
  },
  {
   "cell_type": "code",
   "execution_count": 5,
   "id": "03b7acba-4e7e-4f15-ab34-eacaa14e06ee",
   "metadata": {},
   "outputs": [
    {
     "ename": "IndentationError",
     "evalue": "unindent does not match any outer indentation level (<tokenize>, line 8)",
     "output_type": "error",
     "traceback": [
      "\u001b[0;36m  File \u001b[0;32m<tokenize>:8\u001b[0;36m\u001b[0m\n\u001b[0;31m    }\u001b[0m\n\u001b[0m    ^\u001b[0m\n\u001b[0;31mIndentationError\u001b[0m\u001b[0;31m:\u001b[0m unindent does not match any outer indentation level\n"
     ]
    }
   ],
   "source": [
    "INDEX = \"index\"\n",
    "DIFFERENTIAL_CONSTANTS = \"differential_constants\"\n",
    "BOUNDRY_CONSTANTS = \"boundry\" \n",
    "HARMONIC = \"harmonic\" : harmonic_constant\n",
    "NORMALIZATION_CONSTANT = \"normalization_constant\"\n",
    "WAVE_FUNCTION = \"wave_function\" \n",
    "            \"length\" : length\n",
    "        }"
   ]
  },
  {
   "cell_type": "code",
   "execution_count": null,
   "id": "855af844-881a-4bb2-95e0-8287577ba6a3",
   "metadata": {},
   "outputs": [],
   "source": []
  },
  {
   "cell_type": "code",
   "execution_count": null,
   "id": "ec898521-6ab5-45c3-afac-0431aa5d892e",
   "metadata": {},
   "outputs": [],
   "source": [
    "def raw_normalization(to_normalize, what, from_, to, value): \n",
    "    return sp.Eq(sp.Integral(to_normalize.rhs * sp.conjugate(to_normalize.rhs), (what, from_, to)), value, evaluate=False)"
   ]
  },
  {
   "cell_type": "code",
   "execution_count": null,
   "id": "1fcee47e-a66b-48b2-8c9c-f7990e5289e3",
   "metadata": {},
   "outputs": [],
   "source": [
    "def normalization(wave_function, symbols):\n",
    "    raw_normalization(wave_function, symbols['wave_funct"
   ]
  },
  {
   "cell_type": "code",
   "execution_count": null,
   "id": "ec3c272f-366c-40bb-98c0-39e043b16037",
   "metadata": {},
   "outputs": [],
   "source": []
  },
  {
   "cell_type": "code",
   "execution_count": null,
   "id": "2b080be3-c325-4862-8faf-dc680984224a",
   "metadata": {},
   "outputs": [],
   "source": []
  },
  {
   "cell_type": "code",
   "execution_count": null,
   "id": "5d89b3d7-3501-472e-8efd-a7062b1d7d46",
   "metadata": {},
   "outputs": [],
   "source": [
    "def symbols_for( \n",
    "            region_index, \n",
    "            real_harmonic = True, \n",
    "            non_zero_harmonic = True, \n",
    "            real_normalization = True, \n",
    "            positive_normalization = True, \n",
    "            real_length = True, \n",
    "            non_zero_length = True, \n",
    "            positive_length = True\n",
    "        ):\n",
    "    c_0, c_1 = sp.symbols( f\"C_{{{{{region_index}}}_{{0}}}} C_{{{{{region_index}}}_{{1}}}}\" )\n",
    "    boundry = sp.Symbol( f\"B_{{{{{region_index}}}_{{0}}}}\" )\n",
    "    harmonic_constant = sp.Symbol( f\"k_{{{region_index}}}\", real = real_harmonic, nonzero = non_zero_harmonic )\n",
    "    normalization_constant = sp.Symbol( f\"N_{{{region_index}}}\", real = real_harmonic, positive = positive_normalization )\n",
    "    wave_function = sp.Function( f\"\\psi_{{{region_index}}}\" )\n",
    "    length = sp.Symbol( \n",
    "            f\"L_{{{region_index}}}\", \n",
    "            real = real_length, \n",
    "            nonzero = non_zero_length, \n",
    "            positive = positive_length \n",
    "        )\n",
    "    return {\n",
    "            \"index\" : region_index, \n",
    "            \"constants\" : [ c_0, c_1 ],\n",
    "            \"boundry\" : boundry, \n",
    "            \"harmonic\" : harmonic_constant, \n",
    "            \"normalization_constant\" : harmonic_constant, \n",
    "            \"wave_function\" : wave_function, \n",
    "            \"length\" : length\n",
    "        }"
   ]
  },
  {
   "cell_type": "code",
   "execution_count": null,
   "id": "4d5f384f-2260-4044-bd53-9278ec49cc94",
   "metadata": {},
   "outputs": [],
   "source": [
    "symbols = [ symbols_for(ii) for ii in range(3) ]"
   ]
  },
  {
   "cell_type": "code",
   "execution_count": null,
   "id": "c291d8d4-2fca-4e1a-bc6c-1d9300c905de",
   "metadata": {},
   "outputs": [],
   "source": []
  },
  {
   "cell_type": "code",
   "execution_count": null,
   "id": "beb025e7-ebf0-418f-943d-519ba7e57dce",
   "metadata": {},
   "outputs": [],
   "source": [
    "def general_wave_function( symbols, position ):\n",
    "    return sp.Eq( \n",
    "            symbols['wave_function']( position ), \n",
    "            ( symbols['constants'][0] * sp.exp( symbols['harmonic'] * position ) ) \\\n",
    "                    + ( symbols['constants'][1] * sp.exp( -symbols['harmonic'] * position ) ) \n",
    "        )"
   ]
  },
  {
   "cell_type": "code",
   "execution_count": null,
   "id": "6b12e567-152c-4cd4-8a90-da3387b96ddf",
   "metadata": {},
   "outputs": [],
   "source": []
  },
  {
   "cell_type": "code",
   "execution_count": null,
   "id": "72442efc-01a0-4a44-a233-820fdabe6390",
   "metadata": {},
   "outputs": [],
   "source": [
    "wave_functions = [ general_wave_function(symbols[ii], x) for ii in range(3) ]"
   ]
  },
  {
   "cell_type": "code",
   "execution_count": null,
   "id": "a14f400c-ba46-4b76-96ee-c6451987908d",
   "metadata": {},
   "outputs": [],
   "source": []
  },
  {
   "cell_type": "code",
   "execution_count": null,
   "id": "5079a135-7f6a-4475-86d5-dca723636757",
   "metadata": {},
   "outputs": [],
   "source": [
    "normaliations = [ normalization( wave_functions[ii], x, 0, l_0, n_0 ) for ii in range(3) ]"
   ]
  },
  {
   "cell_type": "code",
   "execution_count": null,
   "id": "a89c5f24-a271-468b-83be-3749452bcbcc",
   "metadata": {},
   "outputs": [],
   "source": [
    "norm"
   ]
  },
  {
   "cell_type": "code",
   "execution_count": null,
   "id": "e465ccb6-aba0-4f6f-9fed-f59bbefb538f",
   "metadata": {},
   "outputs": [],
   "source": []
  },
  {
   "cell_type": "code",
   "execution_count": null,
   "id": "c19f9a8f-414b-4b57-80ae-e43ae472b5e7",
   "metadata": {},
   "outputs": [],
   "source": [
    "norm_int = norm.doit()"
   ]
  },
  {
   "cell_type": "code",
   "execution_count": null,
   "id": "338a1256-84a3-4c22-a441-bc8f60ebe3ae",
   "metadata": {},
   "outputs": [],
   "source": [
    "norm_int"
   ]
  },
  {
   "cell_type": "code",
   "execution_count": null,
   "id": "d7c952d9-1a56-40c0-929c-aba971024daf",
   "metadata": {},
   "outputs": [],
   "source": []
  },
  {
   "cell_type": "code",
   "execution_count": null,
   "id": "507fd5ce-27b5-4130-beac-c4e375a0f8d7",
   "metadata": {},
   "outputs": [],
   "source": [
    "c_0_solution = sp.solve( norm_int, c_0 )"
   ]
  },
  {
   "cell_type": "code",
   "execution_count": null,
   "id": "19562ba4-580f-4e5a-a9a2-e246567b4cb0",
   "metadata": {},
   "outputs": [],
   "source": [
    "c_0_solution[ 0 ]"
   ]
  },
  {
   "cell_type": "code",
   "execution_count": null,
   "id": "2d066215-09cc-4859-83f9-50ebad19b153",
   "metadata": {},
   "outputs": [],
   "source": [
    "c_0_solution[ 1 ]"
   ]
  },
  {
   "cell_type": "code",
   "execution_count": null,
   "id": "ea55cc04-b2fa-4630-adaf-a9ce4f74c02b",
   "metadata": {},
   "outputs": [],
   "source": []
  },
  {
   "cell_type": "code",
   "execution_count": null,
   "id": "8668ac5f-4890-4951-9015-b9c4a3a042df",
   "metadata": {},
   "outputs": [],
   "source": [
    "c_0_result = ( c_0_solution[ 0 ] * c_0_solution[ 1 ] ).simplify()"
   ]
  },
  {
   "cell_type": "code",
   "execution_count": null,
   "id": "cb3035f0-9f31-40d8-a227-7a6ee0349a3f",
   "metadata": {},
   "outputs": [],
   "source": [
    "c_0_result"
   ]
  },
  {
   "cell_type": "code",
   "execution_count": null,
   "id": "0569b055-f188-43fa-a9f1-f1a74a4ba2aa",
   "metadata": {},
   "outputs": [],
   "source": []
  },
  {
   "cell_type": "code",
   "execution_count": null,
   "id": "6d8c97a6-47b5-45c1-aa65-829adf149b1a",
   "metadata": {},
   "outputs": [],
   "source": [
    "c_1_solution = sp.solve( norm_int, c_1 )"
   ]
  },
  {
   "cell_type": "code",
   "execution_count": null,
   "id": "71276bfc-2397-4b16-846d-0740415daf47",
   "metadata": {},
   "outputs": [],
   "source": [
    "c_1_solution[ 0 ]"
   ]
  },
  {
   "cell_type": "code",
   "execution_count": null,
   "id": "e61cc574-355d-41ec-b45c-fe78b2b9799d",
   "metadata": {},
   "outputs": [],
   "source": [
    "c_1_solution[ 1 ]"
   ]
  },
  {
   "cell_type": "code",
   "execution_count": null,
   "id": "07b68ab0-7eb5-449a-a127-97dcaa9e7ab5",
   "metadata": {},
   "outputs": [],
   "source": []
  },
  {
   "cell_type": "code",
   "execution_count": null,
   "id": "098b3651-e0e2-4ec2-a2c2-9905c006e443",
   "metadata": {},
   "outputs": [],
   "source": [
    "c_1_result = ( c_1_solution[ 0 ] * c_1_solution[ 1 ] ).simplify()"
   ]
  },
  {
   "cell_type": "code",
   "execution_count": null,
   "id": "13b35906-5fde-4a8f-a459-4ddc0a7047ed",
   "metadata": {},
   "outputs": [],
   "source": [
    "c_1_result"
   ]
  },
  {
   "cell_type": "code",
   "execution_count": null,
   "id": "f6b62a63-7263-40e2-8519-eb1ea3a543f3",
   "metadata": {},
   "outputs": [],
   "source": []
  },
  {
   "cell_type": "code",
   "execution_count": null,
   "id": "e4d27f1e-1c3d-41d6-95af-0cdc0214b246",
   "metadata": {},
   "outputs": [],
   "source": []
  },
  {
   "cell_type": "code",
   "execution_count": null,
   "id": "d6d71811-1e28-4ef1-a3aa-c520a418a3fa",
   "metadata": {},
   "outputs": [],
   "source": []
  },
  {
   "cell_type": "code",
   "execution_count": null,
   "id": "0f79473e-8965-453e-aa8b-ef44d382fd91",
   "metadata": {},
   "outputs": [],
   "source": [
    "def constants(symbols : list):\n",
    "    if symbols[1]['index'] > 0:\n",
    "        denomonator = sp.exp(2 * symbols[0]['length'] * symbols[1]['harmonic']) \\\n",
    "                - sp.exp(2 * symbols[1]['length'] * symbols[1]['harmonic'])\n",
    "        c_0_0 = symbols[0]['boundry'] * sp.exp(symbols[0]['length'] * symbols[1]['harmonic']) / denomonator\n",
    "        c_0_1 = symbols[1]['boundry'] * sp.exp(symbols[1]['length'] * symbols[1]['harmonic']) / denomonator\n",
    "        c_1_0 = symbols[0]['boundry'] \\\n",
    "                * sp.exp(symbols[0]['length'] * symbols[1]['harmonic']) \\\n",
    "                * sp.exp(2 * symbols[1]['length'] * symbols[1]['harmonic']) \\\n",
    "                / denomonator\n",
    "        c_1_1 = symbols[1]['boundry'] \\\n",
    "                * sp.exp(2 * symbols[0]['length'] * symbols[1]['harmonic']) \\\n",
    "                * sp.exp(symbols[1]['length'] * symbols[1]['harmonic']) \\\n",
    "                / denomonator\n",
    "        return (c_0_0, -c_0_1), (c_1_0, c_1_1)\n",
    "    elif symbols['index'] == 0 and symbols['index']:\n",
    "        denomonator = sp.exp(2 * symbols[0]['length'] * symbols[0]['harmonic']) - 1\n",
    "        c_0_0 = symbols[0]['boundry'] * sp.exp(symbols[0]['length'] * symbols[1]['harmonic'])"
   ]
  },
  {
   "cell_type": "code",
   "execution_count": null,
   "id": "6940f623-6509-413a-b633-60c0e50002cf",
   "metadata": {},
   "outputs": [],
   "source": []
  },
  {
   "cell_type": "code",
   "execution_count": null,
   "id": "3648f82e-74f8-4361-9298-56ea95315c1d",
   "metadata": {},
   "outputs": [],
   "source": [
    "def generate_uniform_case( constants, equation_index, lower_index_bound = 0 ):\n",
    "    pass"
   ]
  },
  {
   "cell_type": "code",
   "execution_count": null,
   "id": "903a8404-3063-48d2-8c38-6b617b8ea197",
   "metadata": {},
   "outputs": [],
   "source": []
  },
  {
   "cell_type": "code",
   "execution_count": null,
   "id": "d3034195-0a35-427e-9671-373f9466fd74",
   "metadata": {},
   "outputs": [],
   "source": [
    "a, b = constants([symbols_for(0), symbols_for(1)])"
   ]
  },
  {
   "cell_type": "code",
   "execution_count": null,
   "id": "839a6ce8-9fcc-4347-8f52-c247156e9287",
   "metadata": {},
   "outputs": [],
   "source": [
    "a[0] + a[1]"
   ]
  },
  {
   "cell_type": "code",
   "execution_count": null,
   "id": "6713ff6c-d0c8-47ce-955e-5e677e6069ef",
   "metadata": {},
   "outputs": [],
   "source": [
    "b[0] + b[1]"
   ]
  },
  {
   "cell_type": "code",
   "execution_count": null,
   "id": "148f987d-0273-4b4b-bfef-919f3f15f925",
   "metadata": {},
   "outputs": [],
   "source": []
  },
  {
   "cell_type": "code",
   "execution_count": null,
   "id": "120e7212-33ec-4697-9af4-3ed928761943",
   "metadata": {},
   "outputs": [],
   "source": []
  },
  {
   "cell_type": "code",
   "execution_count": null,
   "id": "9f0475c8-d5ab-4055-8f5c-3fc2e625f54b",
   "metadata": {},
   "outputs": [],
   "source": []
  },
  {
   "cell_type": "code",
   "execution_count": null,
   "id": "28fd357a-965c-4873-90eb-3ed6524bd60c",
   "metadata": {},
   "outputs": [],
   "source": []
  }
 ],
 "metadata": {
  "kernelspec": {
   "display_name": "Python 3 (ipykernel)",
   "language": "python",
   "name": "python3"
  },
  "language_info": {
   "codemirror_mode": {
    "name": "ipython",
    "version": 3
   },
   "file_extension": ".py",
   "mimetype": "text/x-python",
   "name": "python",
   "nbconvert_exporter": "python",
   "pygments_lexer": "ipython3",
   "version": "3.10.4"
  }
 },
 "nbformat": 4,
 "nbformat_minor": 5
}
