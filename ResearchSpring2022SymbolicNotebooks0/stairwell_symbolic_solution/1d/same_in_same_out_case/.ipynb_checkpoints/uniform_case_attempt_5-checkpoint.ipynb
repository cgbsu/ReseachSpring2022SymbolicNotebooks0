{
 "cells": [
  {
   "cell_type": "code",
   "execution_count": 1,
   "id": "9da4ca07-5038-40fc-b597-27be53769384",
   "metadata": {},
   "outputs": [],
   "source": [
    "import sympy as sp"
   ]
  },
  {
   "cell_type": "code",
   "execution_count": 2,
   "id": "bbd2fd19-a4e7-44c8-ba72-b83d5ae065ea",
   "metadata": {},
   "outputs": [],
   "source": [
    "import sympy.physics.units.quantities as sq"
   ]
  },
  {
   "cell_type": "code",
   "execution_count": 3,
   "id": "3b8c39ff-3668-4ef3-9add-b334784a3333",
   "metadata": {},
   "outputs": [],
   "source": [
    "from sympy.physics.quantum.constants import hbar"
   ]
  },
  {
   "cell_type": "code",
   "execution_count": null,
   "id": "75e40f13-aa6e-41d1-9ced-7a90df52a98e",
   "metadata": {},
   "outputs": [],
   "source": []
  },
  {
   "cell_type": "code",
   "execution_count": 4,
   "id": "82f14997-b75d-4dd8-baf6-d565f0b12bd1",
   "metadata": {},
   "outputs": [],
   "source": [
    "from custom_libraries.stepper import *"
   ]
  },
  {
   "cell_type": "code",
   "execution_count": 5,
   "id": "100adb60-1868-493c-bbe9-9b2dd1bf5af6",
   "metadata": {},
   "outputs": [],
   "source": [
    "from custom_libraries.schrodinger import *"
   ]
  },
  {
   "cell_type": "code",
   "execution_count": null,
   "id": "95748091-3fe2-45a3-beaa-0e56ac4e61f9",
   "metadata": {},
   "outputs": [],
   "source": []
  },
  {
   "cell_type": "code",
   "execution_count": null,
   "id": "06f01602-335d-41e6-ad5b-ce87cb94df00",
   "metadata": {},
   "outputs": [],
   "source": []
  },
  {
   "cell_type": "code",
   "execution_count": 6,
   "id": "151680e1-cc8c-4f02-9fbc-32cb1b19f56f",
   "metadata": {},
   "outputs": [],
   "source": [
    "def real_harmonics( _ ):\n",
    "    assumptions = standard_harmonic_assumptions( _ );\n",
    "    print( assumptions )\n",
    "    assumptions.update( { 'real' : True } )\n",
    "    return assumptions"
   ]
  },
  {
   "cell_type": "code",
   "execution_count": null,
   "id": "20bc043c-2168-45b2-b95d-32fcdb201da9",
   "metadata": {},
   "outputs": [],
   "source": []
  },
  {
   "cell_type": "code",
   "execution_count": null,
   "id": "9cc37138-b4d0-45e1-86eb-6e9bf74d6675",
   "metadata": {},
   "outputs": [],
   "source": []
  },
  {
   "cell_type": "code",
   "execution_count": 7,
   "id": "8984696f-ac0b-4d68-8f5f-036778be011f",
   "metadata": {},
   "outputs": [
    {
     "name": "stdout",
     "output_type": "stream",
     "text": [
      "{'finite': True, 'nonzero': True}\n",
      "{'finite': True, 'nonzero': True}\n",
      "{'finite': True, 'nonzero': True}\n"
     ]
    }
   ],
   "source": [
    "stairwell_solver = TimeIndependentSchrodingerConstantPotentials1D( \n",
    "        StairWell.default_non_uniform_length_potential_table(), \n",
    "        tuple( StairWell.default_non_uniform_length_potential_table().keys() )[ -1 ], \n",
    "        make_psis = make_psi_numbered, \n",
    "        harmonics_assumptions = real_harmonics, \n",
    "        repeating = True, \n",
    "        #as_distances = True, \n",
    "        as_distances = False, \n",
    "        #normalization_conjugate_not_squared_absolute_value = False\n",
    "    )"
   ]
  },
  {
   "cell_type": "code",
   "execution_count": null,
   "id": "2e946e04-0121-448e-8269-4e69ba4e1c28",
   "metadata": {},
   "outputs": [],
   "source": []
  },
  {
   "cell_type": "code",
   "execution_count": 8,
   "id": "bc51b09a-c161-4008-b763-81f71b487841",
   "metadata": {},
   "outputs": [
    {
     "data": {
      "text/latex": [
       "$\\displaystyle - k_{0}^{2} \\psi_{0}{\\left(x \\right)} + \\frac{d^{2}}{d x^{2}} \\psi_{0}{\\left(x \\right)} = 0$"
      ],
      "text/plain": [
       "Eq(-k_0**2*\\psi_{0}(x) + Derivative(\\psi_{0}(x), (x, 2)), 0)"
      ]
     },
     "metadata": {},
     "output_type": "display_data"
    },
    {
     "data": {
      "text/latex": [
       "$\\displaystyle - k_{1}^{2} \\psi_{1}{\\left(x \\right)} + \\frac{d^{2}}{d x^{2}} \\psi_{1}{\\left(x \\right)} = 0$"
      ],
      "text/plain": [
       "Eq(-k_1**2*\\psi_{1}(x) + Derivative(\\psi_{1}(x), (x, 2)), 0)"
      ]
     },
     "metadata": {},
     "output_type": "display_data"
    },
    {
     "data": {
      "text/latex": [
       "$\\displaystyle - k_{2}^{2} \\psi_{2}{\\left(x \\right)} + \\frac{d^{2}}{d x^{2}} \\psi_{2}{\\left(x \\right)} = 0$"
      ],
      "text/plain": [
       "Eq(-k_2**2*\\psi_{2}(x) + Derivative(\\psi_{2}(x), (x, 2)), 0)"
      ]
     },
     "metadata": {},
     "output_type": "display_data"
    }
   ],
   "source": [
    "display_steps( stairwell_solver.equations )"
   ]
  },
  {
   "cell_type": "code",
   "execution_count": null,
   "id": "a0757648-d8b4-4a28-b351-221f4830ff75",
   "metadata": {},
   "outputs": [],
   "source": []
  },
  {
   "cell_type": "code",
   "execution_count": 9,
   "id": "28d85323-24e4-49cb-93e6-54953e6104c7",
   "metadata": {},
   "outputs": [
    {
     "data": {
      "text/latex": [
       "$\\displaystyle k_{0} = \\frac{\\sqrt{2} \\sqrt{- E + V_{0}} \\sqrt{\\text{m}}}{\\hbar}$"
      ],
      "text/plain": [
       "Eq(k_0, sqrt(2)*sqrt(m)*sqrt(-E + V_0)/hbar)"
      ]
     },
     "metadata": {},
     "output_type": "display_data"
    },
    {
     "data": {
      "text/latex": [
       "$\\displaystyle k_{1} = \\frac{\\sqrt{2} \\sqrt{- E + V_{1}} \\sqrt{\\text{m}}}{\\hbar}$"
      ],
      "text/plain": [
       "Eq(k_1, sqrt(2)*sqrt(m)*sqrt(-E + V_1)/hbar)"
      ]
     },
     "metadata": {},
     "output_type": "display_data"
    },
    {
     "data": {
      "text/latex": [
       "$\\displaystyle k_{2} = \\frac{\\sqrt{2} \\sqrt{- E + V_{2}} \\sqrt{\\text{m}}}{\\hbar}$"
      ],
      "text/plain": [
       "Eq(k_2, sqrt(2)*sqrt(m)*sqrt(-E + V_2)/hbar)"
      ]
     },
     "metadata": {},
     "output_type": "display_data"
    }
   ],
   "source": [
    "display_in( stairwell_solver.harmonic_constants )"
   ]
  },
  {
   "cell_type": "code",
   "execution_count": 10,
   "id": "20f53166-87ec-4057-932d-5b0947a3427b",
   "metadata": {},
   "outputs": [
    {
     "data": {
      "text/plain": [
       "{'ContinuityConditions': {\\psi_{0}(L_0): \\psi_{1}(L_0),\n",
       "  \\psi_{1}(L_1): \\psi_{2}(L_1)},\n",
       " 'RepeatingPotentialsCondition': {\\psi_{0}(0): \\psi_{2}(L_2)}}"
      ]
     },
     "execution_count": 10,
     "metadata": {},
     "output_type": "execute_result"
    }
   ],
   "source": [
    "stairwell_solver.boundries.boundries"
   ]
  },
  {
   "cell_type": "code",
   "execution_count": 11,
   "id": "9fe5cbdc-ea5a-4ca1-a54f-a70e30069bec",
   "metadata": {},
   "outputs": [
    {
     "data": {
      "text/plain": [
       "{\\psi_{0}(L_0): \\psi_{1}(L_0), \\psi_{1}(L_1): \\psi_{2}(L_1)}"
      ]
     },
     "execution_count": 11,
     "metadata": {},
     "output_type": "execute_result"
    }
   ],
   "source": [
    "stairwell_solver.boundries.ContinuityConditions"
   ]
  },
  {
   "cell_type": "code",
   "execution_count": null,
   "id": "1cee42e4-0490-4850-b52f-3b6b9547e3f1",
   "metadata": {},
   "outputs": [],
   "source": []
  },
  {
   "cell_type": "code",
   "execution_count": 12,
   "id": "d78132f8-2d0a-438c-a94d-3c5d1b79786d",
   "metadata": {},
   "outputs": [
    {
     "data": {
      "text/plain": [
       "{\\psi_{0}(0): \\psi_{2}(L_2)}"
      ]
     },
     "execution_count": 12,
     "metadata": {},
     "output_type": "execute_result"
    }
   ],
   "source": [
    "stairwell_solver.boundries.RepeatingPotentialsCondition"
   ]
  },
  {
   "cell_type": "code",
   "execution_count": null,
   "id": "519623f3-e044-4ce4-89ce-0bf045971c69",
   "metadata": {},
   "outputs": [],
   "source": []
  },
  {
   "cell_type": "code",
   "execution_count": 13,
   "id": "bad0d660-061c-4402-af40-79303da747d0",
   "metadata": {},
   "outputs": [
    {
     "data": {
      "text/plain": [
       "('LastUpdatedAllBoundryConditions',\n",
       " {\\psi_{0}(L_0): \\psi_{1}(L_0),\n",
       "  \\psi_{1}(L_1): \\psi_{2}(L_1),\n",
       "  \\psi_{0}(0): \\psi_{2}(L_2)})"
      ]
     },
     "execution_count": 13,
     "metadata": {},
     "output_type": "execute_result"
    }
   ],
   "source": [
    "stairwell_solver.boundries.update_all_boundry_conditions()"
   ]
  },
  {
   "cell_type": "code",
   "execution_count": 14,
   "id": "4b7fbdf2-6c1c-4e13-bd4d-a8a90fbb6f43",
   "metadata": {},
   "outputs": [
    {
     "data": {
      "text/plain": [
       "[\\psi_{0}(L_0), \\psi_{1}(L_1), \\psi_{0}(0)]"
      ]
     },
     "execution_count": 14,
     "metadata": {},
     "output_type": "execute_result"
    }
   ],
   "source": [
    "list( stairwell_solver.boundries.update_all_boundry_conditions()[ 1 ].keys() )"
   ]
  },
  {
   "cell_type": "code",
   "execution_count": 15,
   "id": "03f1960a-88b6-4ef2-9101-fb89a936000a",
   "metadata": {},
   "outputs": [
    {
     "data": {
      "text/plain": [
       "'ContinuityConditions'"
      ]
     },
     "metadata": {},
     "output_type": "display_data"
    },
    {
     "data": {
      "text/latex": [
       "$\\displaystyle \\psi_{0}{\\left(L_{0} \\right)} = \\psi_{1}{\\left(L_{0} \\right)}$"
      ],
      "text/plain": [
       "Eq(\\psi_{0}(L_0), \\psi_{1}(L_0))"
      ]
     },
     "metadata": {},
     "output_type": "display_data"
    },
    {
     "data": {
      "text/latex": [
       "$\\displaystyle \\psi_{1}{\\left(L_{1} \\right)} = \\psi_{2}{\\left(L_{1} \\right)}$"
      ],
      "text/plain": [
       "Eq(\\psi_{1}(L_1), \\psi_{2}(L_1))"
      ]
     },
     "metadata": {},
     "output_type": "display_data"
    },
    {
     "data": {
      "text/plain": [
       "'RepeatingPotentialsCondition'"
      ]
     },
     "metadata": {},
     "output_type": "display_data"
    },
    {
     "data": {
      "text/latex": [
       "$\\displaystyle \\psi_{0}{\\left(0 \\right)} = \\psi_{2}{\\left(L_{2} \\right)}$"
      ],
      "text/plain": [
       "Eq(\\psi_{0}(0), \\psi_{2}(L_2))"
      ]
     },
     "metadata": {},
     "output_type": "display_data"
    },
    {
     "data": {
      "text/plain": [
       "'LastUpdatedAllBoundryConditions'"
      ]
     },
     "metadata": {},
     "output_type": "display_data"
    },
    {
     "data": {
      "text/latex": [
       "$\\displaystyle \\psi_{0}{\\left(L_{0} \\right)} = \\psi_{1}{\\left(L_{0} \\right)}$"
      ],
      "text/plain": [
       "Eq(\\psi_{0}(L_0), \\psi_{1}(L_0))"
      ]
     },
     "metadata": {},
     "output_type": "display_data"
    },
    {
     "data": {
      "text/latex": [
       "$\\displaystyle \\psi_{1}{\\left(L_{1} \\right)} = \\psi_{2}{\\left(L_{1} \\right)}$"
      ],
      "text/plain": [
       "Eq(\\psi_{1}(L_1), \\psi_{2}(L_1))"
      ]
     },
     "metadata": {},
     "output_type": "display_data"
    },
    {
     "data": {
      "text/latex": [
       "$\\displaystyle \\psi_{0}{\\left(0 \\right)} = \\psi_{2}{\\left(L_{2} \\right)}$"
      ],
      "text/plain": [
       "Eq(\\psi_{0}(0), \\psi_{2}(L_2))"
      ]
     },
     "metadata": {},
     "output_type": "display_data"
    }
   ],
   "source": [
    "stairwell_solver.boundries.display()"
   ]
  },
  {
   "cell_type": "code",
   "execution_count": 16,
   "id": "e1d9be74-c024-4e4a-b5ec-963ebbb5009a",
   "metadata": {},
   "outputs": [
    {
     "data": {
      "text/latex": [
       "$\\displaystyle - k_{0}^{2} \\psi_{0}{\\left(x \\right)} + \\frac{d^{2}}{d x^{2}} \\psi_{0}{\\left(x \\right)} = 0$"
      ],
      "text/plain": [
       "Eq(-k_0**2*\\psi_{0}(x) + Derivative(\\psi_{0}(x), (x, 2)), 0)"
      ]
     },
     "execution_count": 16,
     "metadata": {},
     "output_type": "execute_result"
    }
   ],
   "source": [
    "stairwell_solver.equations[ 0 ].last_step()"
   ]
  },
  {
   "cell_type": "code",
   "execution_count": null,
   "id": "3fc0fbd1-a832-4ef7-803b-814812d18099",
   "metadata": {},
   "outputs": [],
   "source": []
  },
  {
   "cell_type": "code",
   "execution_count": 17,
   "id": "0f4574ca-54c8-4820-9212-d94622eab763",
   "metadata": {
    "tags": []
   },
   "outputs": [],
   "source": [
    "solutions = stairwell_solver.solve_odes()"
   ]
  },
  {
   "cell_type": "code",
   "execution_count": null,
   "id": "f1a5e157-8b2f-4d4f-bb64-268ebfba1344",
   "metadata": {},
   "outputs": [],
   "source": []
  },
  {
   "cell_type": "code",
   "execution_count": 18,
   "id": "906f8879-c568-484d-b095-81bbdaf9fce3",
   "metadata": {},
   "outputs": [
    {
     "data": {
      "text/latex": [
       "$\\displaystyle \\psi_{0}{\\left(x \\right)} = \\left(- \\frac{\\psi_{1}{\\left(L_{0} \\right)} e^{L_{0} k_{0}}}{e^{2 L_{0} k_{0}} - 1} + \\frac{\\psi_{2}{\\left(L_{2} \\right)} e^{2 L_{0} k_{0}}}{e^{2 L_{0} k_{0}} - 1}\\right) e^{- k_{0} x} + \\left(\\frac{\\psi_{1}{\\left(L_{0} \\right)} e^{L_{0} k_{0}}}{e^{2 L_{0} k_{0}} - 1} - \\frac{\\psi_{2}{\\left(L_{2} \\right)}}{e^{2 L_{0} k_{0}} - 1}\\right) e^{k_{0} x}$"
      ],
      "text/plain": [
       "Eq(\\psi_{0}(x), (-\\psi_{1}(L_0)*exp(L_0*k_0)/(exp(2*L_0*k_0) - 1) + \\psi_{2}(L_2)*exp(2*L_0*k_0)/(exp(2*L_0*k_0) - 1))*exp(-k_0*x) + (\\psi_{1}(L_0)*exp(L_0*k_0)/(exp(2*L_0*k_0) - 1) - \\psi_{2}(L_2)/(exp(2*L_0*k_0) - 1))*exp(k_0*x))"
      ]
     },
     "metadata": {},
     "output_type": "display_data"
    },
    {
     "data": {
      "text/latex": [
       "$\\displaystyle \\psi_{1}{\\left(x \\right)} = \\left(\\frac{\\psi_{0}{\\left(L_{0} \\right)} e^{L_{0} k_{1}}}{e^{2 L_{0} k_{1}} - e^{2 L_{1} k_{1}}} - \\frac{\\psi_{2}{\\left(L_{1} \\right)} e^{L_{1} k_{1}}}{e^{2 L_{0} k_{1}} - e^{2 L_{1} k_{1}}}\\right) e^{k_{1} x} + \\left(- \\frac{\\psi_{0}{\\left(L_{0} \\right)} e^{L_{0} k_{1}} e^{2 L_{1} k_{1}}}{e^{2 L_{0} k_{1}} - e^{2 L_{1} k_{1}}} + \\frac{\\psi_{2}{\\left(L_{1} \\right)} e^{2 L_{0} k_{1}} e^{L_{1} k_{1}}}{e^{2 L_{0} k_{1}} - e^{2 L_{1} k_{1}}}\\right) e^{- k_{1} x}$"
      ],
      "text/plain": [
       "Eq(\\psi_{1}(x), (\\psi_{0}(L_0)*exp(L_0*k_1)/(exp(2*L_0*k_1) - exp(2*L_1*k_1)) - \\psi_{2}(L_1)*exp(L_1*k_1)/(exp(2*L_0*k_1) - exp(2*L_1*k_1)))*exp(k_1*x) + (-\\psi_{0}(L_0)*exp(L_0*k_1)*exp(2*L_1*k_1)/(exp(2*L_0*k_1) - exp(2*L_1*k_1)) + \\psi_{2}(L_1)*exp(2*L_0*k_1)*exp(L_1*k_1)/(exp(2*L_0*k_1) - exp(2*L_1*k_1)))*exp(-k_1*x))"
      ]
     },
     "metadata": {},
     "output_type": "display_data"
    },
    {
     "data": {
      "text/latex": [
       "$\\displaystyle \\psi_{2}{\\left(x \\right)} = \\left(- \\frac{\\psi_{0}{\\left(0 \\right)} e^{L_{2} k_{2}}}{e^{2 L_{1} k_{2}} - e^{2 L_{2} k_{2}}} + \\frac{\\psi_{1}{\\left(L_{1} \\right)} e^{L_{1} k_{2}}}{e^{2 L_{1} k_{2}} - e^{2 L_{2} k_{2}}}\\right) e^{k_{2} x} + \\left(\\frac{\\psi_{0}{\\left(0 \\right)} e^{2 L_{1} k_{2}} e^{L_{2} k_{2}}}{e^{2 L_{1} k_{2}} - e^{2 L_{2} k_{2}}} - \\frac{\\psi_{1}{\\left(L_{1} \\right)} e^{L_{1} k_{2}} e^{2 L_{2} k_{2}}}{e^{2 L_{1} k_{2}} - e^{2 L_{2} k_{2}}}\\right) e^{- k_{2} x}$"
      ],
      "text/plain": [
       "Eq(\\psi_{2}(x), (-\\psi_{0}(0)*exp(L_2*k_2)/(exp(2*L_1*k_2) - exp(2*L_2*k_2)) + \\psi_{1}(L_1)*exp(L_1*k_2)/(exp(2*L_1*k_2) - exp(2*L_2*k_2)))*exp(k_2*x) + (\\psi_{0}(0)*exp(2*L_1*k_2)*exp(L_2*k_2)/(exp(2*L_1*k_2) - exp(2*L_2*k_2)) - \\psi_{1}(L_1)*exp(L_1*k_2)*exp(2*L_2*k_2)/(exp(2*L_1*k_2) - exp(2*L_2*k_2)))*exp(-k_2*x))"
      ]
     },
     "metadata": {},
     "output_type": "display_data"
    }
   ],
   "source": [
    "display_in( solutions )"
   ]
  },
  {
   "cell_type": "code",
   "execution_count": null,
   "id": "84e87233-5ba7-4cb7-a3f7-370403e55bb0",
   "metadata": {},
   "outputs": [],
   "source": []
  },
  {
   "cell_type": "code",
   "execution_count": 19,
   "id": "e0ca1cc1-1b0f-4d1b-a646-1cce6caf6eed",
   "metadata": {},
   "outputs": [
    {
     "data": {
      "text/plain": [
       "[<custom_libraries.stepper.Stepper at 0x7feb7d6e8250>,\n",
       " <custom_libraries.stepper.Stepper at 0x7feb7da8af80>,\n",
       " <custom_libraries.stepper.Stepper at 0x7fec2a7a2290>]"
      ]
     },
     "execution_count": 19,
     "metadata": {},
     "output_type": "execute_result"
    }
   ],
   "source": [
    "stairwell_solver.substitute_wave_functions_into_normalizations()"
   ]
  },
  {
   "cell_type": "code",
   "execution_count": 20,
   "id": "ca842015-740c-4620-be56-3d5b61b0a685",
   "metadata": {},
   "outputs": [
    {
     "data": {
      "text/plain": [
       "([<custom_libraries.stepper.Stepper at 0x7feb7d6ebee0>,\n",
       "  <custom_libraries.stepper.Stepper at 0x7feb7d6eb1c0>,\n",
       "  <custom_libraries.stepper.Stepper at 0x7feb7d6eb580>],\n",
       " [<custom_libraries.stepper.Stepper at 0x7feb7d6e8250>,\n",
       "  <custom_libraries.stepper.Stepper at 0x7feb7da8af80>,\n",
       "  <custom_libraries.stepper.Stepper at 0x7fec2a7a2290>],\n",
       " {'Before': [['TimeIndependentSchrodingerConstantPotentials1DCheckPointBeforeBoundryToConstantSubstitution105',\n",
       "    'TimeIndependentSchrodingerConstantPotentials1DCheckPointBeforeBoundryToConstantSubstitution105',\n",
       "    'TimeIndependentSchrodingerConstantPotentials1DCheckPointBeforeBoundryToConstantSubstitution105'],\n",
       "   ['TimeIndependentSchrodingerConstantPotentials1DCheckPointBeforeBoundryToConstantSubstitution105',\n",
       "    'TimeIndependentSchrodingerConstantPotentials1DCheckPointBeforeBoundryToConstantSubstitution105',\n",
       "    'TimeIndependentSchrodingerConstantPotentials1DCheckPointBeforeBoundryToConstantSubstitution105']],\n",
       "  'Post': [['TimeIndependentSchrodingerConstantPotentials1DCheckPointPostBoundryToConstantSubstitution112',\n",
       "    'TimeIndependentSchrodingerConstantPotentials1DCheckPointPostBoundryToConstantSubstitution112',\n",
       "    'TimeIndependentSchrodingerConstantPotentials1DCheckPointPostBoundryToConstantSubstitution112'],\n",
       "   ['TimeIndependentSchrodingerConstantPotentials1DCheckPointPostBoundryToConstantSubstitution112',\n",
       "    'TimeIndependentSchrodingerConstantPotentials1DCheckPointPostBoundryToConstantSubstitution112',\n",
       "    'TimeIndependentSchrodingerConstantPotentials1DCheckPointPostBoundryToConstantSubstitution112']]})"
      ]
     },
     "execution_count": 20,
     "metadata": {},
     "output_type": "execute_result"
    }
   ],
   "source": [
    "stairwell_solver.boundries_in_expression_to_constants()"
   ]
  },
  {
   "cell_type": "code",
   "execution_count": 21,
   "id": "f398e39e-055e-4981-9740-8513148b9789",
   "metadata": {},
   "outputs": [
    {
     "data": {
      "text/latex": [
       "$\\displaystyle \\psi_{0}{\\left(x \\right)} = \\left(- \\frac{B_{0} e^{L_{0} k_{0}}}{e^{2 L_{0} k_{0}} - 1} + \\frac{B_{2} e^{2 L_{0} k_{0}}}{e^{2 L_{0} k_{0}} - 1}\\right) e^{- k_{0} x} + \\left(\\frac{B_{0} e^{L_{0} k_{0}}}{e^{2 L_{0} k_{0}} - 1} - \\frac{B_{2}}{e^{2 L_{0} k_{0}} - 1}\\right) e^{k_{0} x}$"
      ],
      "text/plain": [
       "Eq(\\psi_{0}(x), (-B_{0}*exp(L_0*k_0)/(exp(2*L_0*k_0) - 1) + B_{2}*exp(2*L_0*k_0)/(exp(2*L_0*k_0) - 1))*exp(-k_0*x) + (B_{0}*exp(L_0*k_0)/(exp(2*L_0*k_0) - 1) - B_{2}/(exp(2*L_0*k_0) - 1))*exp(k_0*x))"
      ]
     },
     "metadata": {},
     "output_type": "display_data"
    },
    {
     "data": {
      "text/latex": [
       "$\\displaystyle \\psi_{1}{\\left(x \\right)} = \\left(\\frac{B_{0} e^{L_{0} k_{1}}}{e^{2 L_{0} k_{1}} - e^{2 L_{1} k_{1}}} - \\frac{B_{1} e^{L_{1} k_{1}}}{e^{2 L_{0} k_{1}} - e^{2 L_{1} k_{1}}}\\right) e^{k_{1} x} + \\left(- \\frac{B_{0} e^{L_{0} k_{1}} e^{2 L_{1} k_{1}}}{e^{2 L_{0} k_{1}} - e^{2 L_{1} k_{1}}} + \\frac{B_{1} e^{2 L_{0} k_{1}} e^{L_{1} k_{1}}}{e^{2 L_{0} k_{1}} - e^{2 L_{1} k_{1}}}\\right) e^{- k_{1} x}$"
      ],
      "text/plain": [
       "Eq(\\psi_{1}(x), (B_{0}*exp(L_0*k_1)/(exp(2*L_0*k_1) - exp(2*L_1*k_1)) - B_{1}*exp(L_1*k_1)/(exp(2*L_0*k_1) - exp(2*L_1*k_1)))*exp(k_1*x) + (-B_{0}*exp(L_0*k_1)*exp(2*L_1*k_1)/(exp(2*L_0*k_1) - exp(2*L_1*k_1)) + B_{1}*exp(2*L_0*k_1)*exp(L_1*k_1)/(exp(2*L_0*k_1) - exp(2*L_1*k_1)))*exp(-k_1*x))"
      ]
     },
     "metadata": {},
     "output_type": "display_data"
    },
    {
     "data": {
      "text/latex": [
       "$\\displaystyle \\psi_{2}{\\left(x \\right)} = \\left(\\frac{B_{1} e^{L_{1} k_{2}}}{e^{2 L_{1} k_{2}} - e^{2 L_{2} k_{2}}} - \\frac{B_{2} e^{L_{2} k_{2}}}{e^{2 L_{1} k_{2}} - e^{2 L_{2} k_{2}}}\\right) e^{k_{2} x} + \\left(- \\frac{B_{1} e^{L_{1} k_{2}} e^{2 L_{2} k_{2}}}{e^{2 L_{1} k_{2}} - e^{2 L_{2} k_{2}}} + \\frac{B_{2} e^{2 L_{1} k_{2}} e^{L_{2} k_{2}}}{e^{2 L_{1} k_{2}} - e^{2 L_{2} k_{2}}}\\right) e^{- k_{2} x}$"
      ],
      "text/plain": [
       "Eq(\\psi_{2}(x), (B_{1}*exp(L_1*k_2)/(exp(2*L_1*k_2) - exp(2*L_2*k_2)) - B_{2}*exp(L_2*k_2)/(exp(2*L_1*k_2) - exp(2*L_2*k_2)))*exp(k_2*x) + (-B_{1}*exp(L_1*k_2)*exp(2*L_2*k_2)/(exp(2*L_1*k_2) - exp(2*L_2*k_2)) + B_{2}*exp(2*L_1*k_2)*exp(L_2*k_2)/(exp(2*L_1*k_2) - exp(2*L_2*k_2)))*exp(-k_2*x))"
      ]
     },
     "metadata": {},
     "output_type": "display_data"
    }
   ],
   "source": [
    "display_steps( stairwell_solver.equations )"
   ]
  },
  {
   "cell_type": "code",
   "execution_count": null,
   "id": "7ea23960-ba86-43bc-a99c-5e774c324bfa",
   "metadata": {},
   "outputs": [],
   "source": []
  },
  {
   "cell_type": "code",
   "execution_count": 22,
   "id": "1bf6f05f-281a-43cb-a04a-9083533ab05b",
   "metadata": {},
   "outputs": [
    {
     "data": {
      "text/latex": [
       "$\\displaystyle \\int\\limits_{0}^{L_{0}} \\left(\\left(- \\frac{B_{0} e^{L_{0} k_{0}}}{e^{2 L_{0} k_{0}} - 1} + \\frac{B_{2} e^{2 L_{0} k_{0}}}{e^{2 L_{0} k_{0}} - 1}\\right) e^{- k_{0} x} + \\left(\\frac{B_{0} e^{L_{0} k_{0}}}{e^{2 L_{0} k_{0}} - 1} - \\frac{B_{2}}{e^{2 L_{0} k_{0}} - 1}\\right) e^{k_{0} x}\\right) \\left(\\left(\\frac{e^{L_{0} k_{0}} \\overline{B_{0}}}{e^{2 L_{0} k_{0}} - 1} - \\frac{\\overline{B_{2}}}{e^{2 L_{0} k_{0}} - 1}\\right) e^{k_{0} x} + \\left(\\frac{e^{2 L_{0} k_{0}} \\overline{B_{2}}}{e^{2 L_{0} k_{0}} - 1} - \\frac{e^{L_{0} k_{0}} \\overline{B_{0}}}{e^{2 L_{0} k_{0}} - 1}\\right) e^{- k_{0} x}\\right)\\, dx = N_{0}$"
      ],
      "text/plain": [
       "Eq(Integral(((-B_{0}*exp(L_0*k_0)/(exp(2*L_0*k_0) - 1) + B_{2}*exp(2*L_0*k_0)/(exp(2*L_0*k_0) - 1))*exp(-k_0*x) + (B_{0}*exp(L_0*k_0)/(exp(2*L_0*k_0) - 1) - B_{2}/(exp(2*L_0*k_0) - 1))*exp(k_0*x))*((exp(L_0*k_0)*conjugate(B_{0})/(exp(2*L_0*k_0) - 1) - conjugate(B_{2})/(exp(2*L_0*k_0) - 1))*exp(k_0*x) + (exp(2*L_0*k_0)*conjugate(B_{2})/(exp(2*L_0*k_0) - 1) - exp(L_0*k_0)*conjugate(B_{0})/(exp(2*L_0*k_0) - 1))*exp(-k_0*x)), (x, 0, L_0)), N_0)"
      ]
     },
     "metadata": {},
     "output_type": "display_data"
    },
    {
     "data": {
      "text/latex": [
       "$\\displaystyle \\int\\limits_{L_{0}}^{L_{1}} \\left(\\left(\\frac{B_{0} e^{L_{0} k_{1}}}{e^{2 L_{0} k_{1}} - e^{2 L_{1} k_{1}}} - \\frac{B_{1} e^{L_{1} k_{1}}}{e^{2 L_{0} k_{1}} - e^{2 L_{1} k_{1}}}\\right) e^{k_{1} x} + \\left(- \\frac{B_{0} e^{L_{0} k_{1}} e^{2 L_{1} k_{1}}}{e^{2 L_{0} k_{1}} - e^{2 L_{1} k_{1}}} + \\frac{B_{1} e^{2 L_{0} k_{1}} e^{L_{1} k_{1}}}{e^{2 L_{0} k_{1}} - e^{2 L_{1} k_{1}}}\\right) e^{- k_{1} x}\\right) \\left(\\left(\\frac{e^{L_{0} k_{1}} \\overline{B_{0}}}{e^{2 L_{0} k_{1}} - e^{2 L_{1} k_{1}}} - \\frac{e^{L_{1} k_{1}} \\overline{B_{1}}}{e^{2 L_{0} k_{1}} - e^{2 L_{1} k_{1}}}\\right) e^{k_{1} x} + \\left(\\frac{e^{2 L_{0} k_{1}} e^{L_{1} k_{1}} \\overline{B_{1}}}{e^{2 L_{0} k_{1}} - e^{2 L_{1} k_{1}}} - \\frac{e^{L_{0} k_{1}} e^{2 L_{1} k_{1}} \\overline{B_{0}}}{e^{2 L_{0} k_{1}} - e^{2 L_{1} k_{1}}}\\right) e^{- k_{1} x}\\right)\\, dx = N_{1}$"
      ],
      "text/plain": [
       "Eq(Integral(((B_{0}*exp(L_0*k_1)/(exp(2*L_0*k_1) - exp(2*L_1*k_1)) - B_{1}*exp(L_1*k_1)/(exp(2*L_0*k_1) - exp(2*L_1*k_1)))*exp(k_1*x) + (-B_{0}*exp(L_0*k_1)*exp(2*L_1*k_1)/(exp(2*L_0*k_1) - exp(2*L_1*k_1)) + B_{1}*exp(2*L_0*k_1)*exp(L_1*k_1)/(exp(2*L_0*k_1) - exp(2*L_1*k_1)))*exp(-k_1*x))*((exp(L_0*k_1)*conjugate(B_{0})/(exp(2*L_0*k_1) - exp(2*L_1*k_1)) - exp(L_1*k_1)*conjugate(B_{1})/(exp(2*L_0*k_1) - exp(2*L_1*k_1)))*exp(k_1*x) + (exp(2*L_0*k_1)*exp(L_1*k_1)*conjugate(B_{1})/(exp(2*L_0*k_1) - exp(2*L_1*k_1)) - exp(L_0*k_1)*exp(2*L_1*k_1)*conjugate(B_{0})/(exp(2*L_0*k_1) - exp(2*L_1*k_1)))*exp(-k_1*x)), (x, L_0, L_1)), N_1)"
      ]
     },
     "metadata": {},
     "output_type": "display_data"
    },
    {
     "data": {
      "text/latex": [
       "$\\displaystyle \\int\\limits_{L_{1}}^{L_{2}} \\left(\\left(\\frac{B_{1} e^{L_{1} k_{2}}}{e^{2 L_{1} k_{2}} - e^{2 L_{2} k_{2}}} - \\frac{B_{2} e^{L_{2} k_{2}}}{e^{2 L_{1} k_{2}} - e^{2 L_{2} k_{2}}}\\right) e^{k_{2} x} + \\left(- \\frac{B_{1} e^{L_{1} k_{2}} e^{2 L_{2} k_{2}}}{e^{2 L_{1} k_{2}} - e^{2 L_{2} k_{2}}} + \\frac{B_{2} e^{2 L_{1} k_{2}} e^{L_{2} k_{2}}}{e^{2 L_{1} k_{2}} - e^{2 L_{2} k_{2}}}\\right) e^{- k_{2} x}\\right) \\left(\\left(\\frac{e^{L_{1} k_{2}} \\overline{B_{1}}}{e^{2 L_{1} k_{2}} - e^{2 L_{2} k_{2}}} - \\frac{e^{L_{2} k_{2}} \\overline{B_{2}}}{e^{2 L_{1} k_{2}} - e^{2 L_{2} k_{2}}}\\right) e^{k_{2} x} + \\left(\\frac{e^{2 L_{1} k_{2}} e^{L_{2} k_{2}} \\overline{B_{2}}}{e^{2 L_{1} k_{2}} - e^{2 L_{2} k_{2}}} - \\frac{e^{L_{1} k_{2}} e^{2 L_{2} k_{2}} \\overline{B_{1}}}{e^{2 L_{1} k_{2}} - e^{2 L_{2} k_{2}}}\\right) e^{- k_{2} x}\\right)\\, dx = N_{2}$"
      ],
      "text/plain": [
       "Eq(Integral(((B_{1}*exp(L_1*k_2)/(exp(2*L_1*k_2) - exp(2*L_2*k_2)) - B_{2}*exp(L_2*k_2)/(exp(2*L_1*k_2) - exp(2*L_2*k_2)))*exp(k_2*x) + (-B_{1}*exp(L_1*k_2)*exp(2*L_2*k_2)/(exp(2*L_1*k_2) - exp(2*L_2*k_2)) + B_{2}*exp(2*L_1*k_2)*exp(L_2*k_2)/(exp(2*L_1*k_2) - exp(2*L_2*k_2)))*exp(-k_2*x))*((exp(L_1*k_2)*conjugate(B_{1})/(exp(2*L_1*k_2) - exp(2*L_2*k_2)) - exp(L_2*k_2)*conjugate(B_{2})/(exp(2*L_1*k_2) - exp(2*L_2*k_2)))*exp(k_2*x) + (exp(2*L_1*k_2)*exp(L_2*k_2)*conjugate(B_{2})/(exp(2*L_1*k_2) - exp(2*L_2*k_2)) - exp(L_1*k_2)*exp(2*L_2*k_2)*conjugate(B_{1})/(exp(2*L_1*k_2) - exp(2*L_2*k_2)))*exp(-k_2*x)), (x, L_1, L_2)), N_2)"
      ]
     },
     "metadata": {},
     "output_type": "display_data"
    }
   ],
   "source": [
    "display_steps( stairwell_solver.normalizations )"
   ]
  },
  {
   "cell_type": "code",
   "execution_count": 23,
   "id": "63140ef9-eb52-47c2-823b-4943baff870a",
   "metadata": {},
   "outputs": [],
   "source": [
    "k_0 = stairwell_solver.harmonic_constants[ 0 ].lhs"
   ]
  },
  {
   "cell_type": "code",
   "execution_count": 24,
   "id": "fbae91df-a43c-4c9a-b0b5-9b0c3d70f376",
   "metadata": {},
   "outputs": [
    {
     "data": {
      "text/latex": [
       "$\\displaystyle k_{0}$"
      ],
      "text/plain": [
       "k_0"
      ]
     },
     "execution_count": 24,
     "metadata": {},
     "output_type": "execute_result"
    }
   ],
   "source": [
    "k_0"
   ]
  },
  {
   "cell_type": "code",
   "execution_count": null,
   "id": "7de0159e-2814-4454-a6ce-10b35ab8905d",
   "metadata": {},
   "outputs": [],
   "source": []
  },
  {
   "cell_type": "code",
   "execution_count": 25,
   "id": "ed27e3d0-6067-4105-b131-20b9b6919193",
   "metadata": {},
   "outputs": [],
   "source": [
    "harmonic_0_assumptions = sp.Q.lt( k_0, sp.oo ) & sp.Q.gt( k_0, -sp.oo ) & sp.Q.nonzero( k_0 )"
   ]
  },
  {
   "cell_type": "code",
   "execution_count": 26,
   "id": "abdd7381-010e-4d0a-be82-478efcac1b5c",
   "metadata": {},
   "outputs": [
    {
     "data": {
      "text/latex": [
       "$\\displaystyle \\operatorname{Q}_{\\text{gt}}(k_{0}, -\\infty) \\wedge \\operatorname{Q}_{\\text{lt}}(k_{0}, \\infty) \\wedge \\operatorname{Q}_{\\text{nonzero}}(k_{0})$"
      ],
      "text/plain": [
       "Q.nonzero(k_0) & Q.gt(k_0, -oo) & Q.lt(k_0, oo)"
      ]
     },
     "execution_count": 26,
     "metadata": {},
     "output_type": "execute_result"
    }
   ],
   "source": [
    "harmonic_0_assumptions"
   ]
  },
  {
   "cell_type": "code",
   "execution_count": 27,
   "id": "e5c621ce-7d41-4199-9a42-6853c49c5cef",
   "metadata": {},
   "outputs": [
    {
     "data": {
      "text/latex": [
       "$\\displaystyle N_{0} = \\begin{cases} \\frac{L_{0} k_{0} \\left(e^{2 L_{0} k_{0}} - 1\\right) \\left(B_{0} e^{2 L_{0} k_{0}} \\overline{B_{2}} - 2 B_{0} e^{L_{0} k_{0}} \\overline{B_{0}} + B_{0} \\overline{B_{2}} + B_{2} e^{2 L_{0} k_{0}} \\overline{B_{0}} - 2 B_{2} e^{L_{0} k_{0}} \\overline{B_{2}} + B_{2} \\overline{B_{0}}\\right) e^{L_{0} k_{0}} + \\frac{\\left(e^{4 L_{0} k_{0}} - 2 e^{2 L_{0} k_{0}} + 1\\right) \\left(B_{0} e^{2 L_{0} k_{0}} \\overline{B_{0}} - 2 B_{0} e^{L_{0} k_{0}} \\overline{B_{2}} + B_{0} \\overline{B_{0}} + B_{2} e^{2 L_{0} k_{0}} \\overline{B_{2}} - 2 B_{2} e^{L_{0} k_{0}} \\overline{B_{0}} + B_{2} \\overline{B_{2}}\\right)}{2}}{k_{0} \\left(e^{2 L_{0} k_{0}} - 1\\right) \\left(e^{4 L_{0} k_{0}} - 2 e^{2 L_{0} k_{0}} + 1\\right)} & \\text{for}\\: k_{0}^{2} \\left(e^{8 L_{0} k_{0}} - 4 e^{6 L_{0} k_{0}} + 6 e^{4 L_{0} k_{0}} - 4 e^{2 L_{0} k_{0}} + 1\\right) \\neq 0 \\\\B_{2} L_{0} \\overline{B_{2}} & \\text{otherwise} \\end{cases}$"
      ],
      "text/plain": [
       "Eq(N_0, Piecewise(((L_0*k_0*(exp(2*L_0*k_0) - 1)*(B_{0}*exp(2*L_0*k_0)*conjugate(B_{2}) - 2*B_{0}*exp(L_0*k_0)*conjugate(B_{0}) + B_{0}*conjugate(B_{2}) + B_{2}*exp(2*L_0*k_0)*conjugate(B_{0}) - 2*B_{2}*exp(L_0*k_0)*conjugate(B_{2}) + B_{2}*conjugate(B_{0}))*exp(L_0*k_0) + (exp(4*L_0*k_0) - 2*exp(2*L_0*k_0) + 1)*(B_{0}*exp(2*L_0*k_0)*conjugate(B_{0}) - 2*B_{0}*exp(L_0*k_0)*conjugate(B_{2}) + B_{0}*conjugate(B_{0}) + B_{2}*exp(2*L_0*k_0)*conjugate(B_{2}) - 2*B_{2}*exp(L_0*k_0)*conjugate(B_{0}) + B_{2}*conjugate(B_{2}))/2)/(k_0*(exp(2*L_0*k_0) - 1)*(exp(4*L_0*k_0) - 2*exp(2*L_0*k_0) + 1)), Ne(k_0**2*(exp(8*L_0*k_0) - 4*exp(6*L_0*k_0) + 6*exp(4*L_0*k_0) - 4*exp(2*L_0*k_0) + 1), 0)), (B_{2}*L_0*conjugate(B_{2}), True)))"
      ]
     },
     "execution_count": 27,
     "metadata": {},
     "output_type": "execute_result"
    }
   ],
   "source": [
    "stairwell_solver.normalizations[ 0 ].last_step().simplify().doit().simplify().refine()"
   ]
  },
  {
   "cell_type": "code",
   "execution_count": 28,
   "id": "c710e930-d869-4285-bb4a-6be59069ed63",
   "metadata": {},
   "outputs": [],
   "source": [
    "abc = stairwell_solver.normalizations[ 0 ].last_step().simplify().doit().simplify().refine()"
   ]
  },
  {
   "cell_type": "code",
   "execution_count": 53,
   "id": "64afb84c-7670-46be-bb06-ee6b49d7c1e0",
   "metadata": {},
   "outputs": [],
   "source": [
    "trouble_denom = abc.rhs.args[ 0 ][ 1 ]"
   ]
  },
  {
   "cell_type": "code",
   "execution_count": null,
   "id": "76236c2b-f6e3-4ff0-8da9-61c5ec32af56",
   "metadata": {},
   "outputs": [],
   "source": []
  },
  {
   "cell_type": "code",
   "execution_count": 59,
   "id": "8114274e-b9b7-411d-ae1d-c4fc2d2e824a",
   "metadata": {},
   "outputs": [],
   "source": [
    "trouble_denom_effective = trouble_denom.lhs.as_two_terms()[ 1 ]"
   ]
  },
  {
   "cell_type": "code",
   "execution_count": 60,
   "id": "03d72620-1f33-42e6-8ffc-8902d244a5fa",
   "metadata": {},
   "outputs": [
    {
     "data": {
      "text/latex": [
       "$\\displaystyle e^{8 L_{0} k_{0}} - 4 e^{6 L_{0} k_{0}} + 6 e^{4 L_{0} k_{0}} - 4 e^{2 L_{0} k_{0}} + 1$"
      ],
      "text/plain": [
       "exp(8*L_0*k_0) - 4*exp(6*L_0*k_0) + 6*exp(4*L_0*k_0) - 4*exp(2*L_0*k_0) + 1"
      ]
     },
     "execution_count": 60,
     "metadata": {},
     "output_type": "execute_result"
    }
   ],
   "source": [
    "trouble_denom_effective"
   ]
  },
  {
   "cell_type": "code",
   "execution_count": 61,
   "id": "67793dd9-d68a-4ce2-a190-6674a4e31ccb",
   "metadata": {},
   "outputs": [],
   "source": [
    "test_input = stairwell_solver.regions()[ 0 ] * stairwell_solver.harmonic_constants[ 0 ].lhs"
   ]
  },
  {
   "cell_type": "code",
   "execution_count": 62,
   "id": "1c7d6357-7938-47d0-9e34-57e8d458f8a1",
   "metadata": {},
   "outputs": [
    {
     "data": {
      "text/latex": [
       "$\\displaystyle L_{0} k_{0}$"
      ],
      "text/plain": [
       "L_0*k_0"
      ]
     },
     "execution_count": 62,
     "metadata": {},
     "output_type": "execute_result"
    }
   ],
   "source": [
    "test_input"
   ]
  },
  {
   "cell_type": "code",
   "execution_count": 63,
   "id": "956a95c2-e66b-45c8-819e-e4b8fb177729",
   "metadata": {},
   "outputs": [],
   "source": [
    "numerical_indpendant_x = sp.Symbol( 'x', real=True ) "
   ]
  },
  {
   "cell_type": "code",
   "execution_count": null,
   "id": "9095e83f-b213-4bfb-983d-3247ad4abada",
   "metadata": {},
   "outputs": [],
   "source": []
  },
  {
   "cell_type": "code",
   "execution_count": 64,
   "id": "d1786825-db31-4cd6-932e-768a2dd9d224",
   "metadata": {},
   "outputs": [],
   "source": [
    "trouble_denom_effective = trouble_denom_effective.subs( test_input, numerical_indpendant_x )"
   ]
  },
  {
   "cell_type": "code",
   "execution_count": 65,
   "id": "e93c117f-cf3c-4a3a-b613-37b3a1ca77b6",
   "metadata": {},
   "outputs": [
    {
     "data": {
      "text/latex": [
       "$\\displaystyle e^{8 x} - 4 e^{6 x} + 6 e^{4 x} - 4 e^{2 x} + 1$"
      ],
      "text/plain": [
       "exp(8*x) - 4*exp(6*x) + 6*exp(4*x) - 4*exp(2*x) + 1"
      ]
     },
     "execution_count": 65,
     "metadata": {},
     "output_type": "execute_result"
    }
   ],
   "source": [
    "trouble_denom_effective"
   ]
  },
  {
   "cell_type": "code",
   "execution_count": 66,
   "id": "0a4666b2-0320-4bdf-ac70-a33ec31cf853",
   "metadata": {},
   "outputs": [
    {
     "data": {
      "image/png": "[encoded data removed]",
      "text/plain": [
       "<Figure size 432x288 with 1 Axes>"
      ]
     },
     "metadata": {
      "needs_background": "light"
     },
     "output_type": "display_data"
    },
    {
     "data": {
      "text/plain": [
       "<sympy.plotting.plot.Plot at 0x7feb7d1babf0>"
      ]
     },
     "execution_count": 66,
     "metadata": {},
     "output_type": "execute_result"
    }
   ],
   "source": [
    "sp.plot(trouble_denom_effective)"
   ]
  },
  {
   "cell_type": "code",
   "execution_count": 68,
   "id": "99a55f00-f2a6-4c6b-8c9d-d555c9866815",
   "metadata": {},
   "outputs": [],
   "source": [
    "trouble_denom_effective_numerical = sp.lambdify( numerical_indpendant_x, trouble_denom_effective )"
   ]
  },
  {
   "cell_type": "code",
   "execution_count": 69,
   "id": "3daa22a7-9a3b-474a-83ad-3d49c8ec5682",
   "metadata": {},
   "outputs": [
    {
     "data": {
      "text/plain": [
       "0.0"
      ]
     },
     "execution_count": 69,
     "metadata": {},
     "output_type": "execute_result"
    }
   ],
   "source": [
    "trouble_denom_effective_numerical( 0 )"
   ]
  },
  {
   "cell_type": "code",
   "execution_count": 70,
   "id": "66341c8b-691c-49b6-b6cf-d97ede05c6a8",
   "metadata": {},
   "outputs": [
    {
     "data": {
      "text/plain": [
       "1666.2754888739307"
      ]
     },
     "execution_count": 70,
     "metadata": {},
     "output_type": "execute_result"
    }
   ],
   "source": [
    "trouble_denom_effective_numerical( 1 )"
   ]
  },
  {
   "cell_type": "code",
   "execution_count": 29,
   "id": "266d6d54-eba1-4966-ad51-378c61fd7910",
   "metadata": {},
   "outputs": [],
   "source": [
    "test = stairwell_solver.normalizations[ 0 ].last_step().expand()"
   ]
  },
  {
   "cell_type": "code",
   "execution_count": 30,
   "id": "6e190490-0703-4859-a0a9-024db09a7ac0",
   "metadata": {},
   "outputs": [
    {
     "data": {
      "text/latex": [
       "$\\displaystyle \\int\\limits_{0}^{L_{0}} \\frac{B_{0} e^{2 L_{0} k_{0}} \\overline{B_{0}}}{e^{4 L_{0} k_{0}} e^{2 k_{0} x} - 2 e^{2 L_{0} k_{0}} e^{2 k_{0} x} + e^{2 k_{0} x}}\\, dx + \\int\\limits_{0}^{L_{0}} \\left(- \\frac{B_{0} e^{3 L_{0} k_{0}} \\overline{B_{2}}}{e^{4 L_{0} k_{0}} e^{2 k_{0} x} - 2 e^{2 L_{0} k_{0}} e^{2 k_{0} x} + e^{2 k_{0} x}}\\right)\\, dx + \\int\\limits_{0}^{L_{0}} \\frac{B_{0} e^{L_{0} k_{0}} \\overline{B_{2}}}{e^{4 L_{0} k_{0}} - 2 e^{2 L_{0} k_{0}} + 1}\\, dx + \\int\\limits_{0}^{L_{0}} \\left(- \\frac{2 B_{0} e^{2 L_{0} k_{0}} \\overline{B_{0}}}{e^{4 L_{0} k_{0}} - 2 e^{2 L_{0} k_{0}} + 1}\\right)\\, dx + \\int\\limits_{0}^{L_{0}} \\frac{B_{0} e^{3 L_{0} k_{0}} \\overline{B_{2}}}{e^{4 L_{0} k_{0}} - 2 e^{2 L_{0} k_{0}} + 1}\\, dx + \\int\\limits_{0}^{L_{0}} \\left(- \\frac{B_{2} e^{3 L_{0} k_{0}} \\overline{B_{0}}}{e^{4 L_{0} k_{0}} e^{2 k_{0} x} - 2 e^{2 L_{0} k_{0}} e^{2 k_{0} x} + e^{2 k_{0} x}}\\right)\\, dx + \\int\\limits_{0}^{L_{0}} \\frac{B_{2} e^{4 L_{0} k_{0}} \\overline{B_{2}}}{e^{4 L_{0} k_{0}} e^{2 k_{0} x} - 2 e^{2 L_{0} k_{0}} e^{2 k_{0} x} + e^{2 k_{0} x}}\\, dx + \\int\\limits_{0}^{L_{0}} \\frac{B_{2} e^{L_{0} k_{0}} \\overline{B_{0}}}{e^{4 L_{0} k_{0}} - 2 e^{2 L_{0} k_{0}} + 1}\\, dx + \\int\\limits_{0}^{L_{0}} \\left(- \\frac{2 B_{2} e^{2 L_{0} k_{0}} \\overline{B_{2}}}{e^{4 L_{0} k_{0}} - 2 e^{2 L_{0} k_{0}} + 1}\\right)\\, dx + \\int\\limits_{0}^{L_{0}} \\frac{B_{2} e^{3 L_{0} k_{0}} \\overline{B_{0}}}{e^{4 L_{0} k_{0}} - 2 e^{2 L_{0} k_{0}} + 1}\\, dx + \\int\\limits_{0}^{L_{0}} \\frac{B_{2} e^{2 k_{0} x} \\overline{B_{2}}}{e^{4 L_{0} k_{0}} - 2 e^{2 L_{0} k_{0}} + 1}\\, dx + \\int\\limits_{0}^{L_{0}} \\left(- \\frac{B_{0} e^{L_{0} k_{0}} e^{2 k_{0} x} \\overline{B_{2}}}{e^{4 L_{0} k_{0}} - 2 e^{2 L_{0} k_{0}} + 1}\\right)\\, dx + \\int\\limits_{0}^{L_{0}} \\frac{B_{0} e^{2 L_{0} k_{0}} e^{2 k_{0} x} \\overline{B_{0}}}{e^{4 L_{0} k_{0}} - 2 e^{2 L_{0} k_{0}} + 1}\\, dx + \\int\\limits_{0}^{L_{0}} \\left(- \\frac{B_{2} e^{L_{0} k_{0}} e^{2 k_{0} x} \\overline{B_{0}}}{e^{4 L_{0} k_{0}} - 2 e^{2 L_{0} k_{0}} + 1}\\right)\\, dx = N_{0}$"
      ],
      "text/plain": [
       "Eq(Integral(B_{0}*exp(2*L_0*k_0)*conjugate(B_{0})/(exp(4*L_0*k_0)*exp(2*k_0*x) - 2*exp(2*L_0*k_0)*exp(2*k_0*x) + exp(2*k_0*x)), (x, 0, L_0)) + Integral(-B_{0}*exp(3*L_0*k_0)*conjugate(B_{2})/(exp(4*L_0*k_0)*exp(2*k_0*x) - 2*exp(2*L_0*k_0)*exp(2*k_0*x) + exp(2*k_0*x)), (x, 0, L_0)) + Integral(B_{0}*exp(L_0*k_0)*conjugate(B_{2})/(exp(4*L_0*k_0) - 2*exp(2*L_0*k_0) + 1), (x, 0, L_0)) + Integral(-2*B_{0}*exp(2*L_0*k_0)*conjugate(B_{0})/(exp(4*L_0*k_0) - 2*exp(2*L_0*k_0) + 1), (x, 0, L_0)) + Integral(B_{0}*exp(3*L_0*k_0)*conjugate(B_{2})/(exp(4*L_0*k_0) - 2*exp(2*L_0*k_0) + 1), (x, 0, L_0)) + Integral(-B_{2}*exp(3*L_0*k_0)*conjugate(B_{0})/(exp(4*L_0*k_0)*exp(2*k_0*x) - 2*exp(2*L_0*k_0)*exp(2*k_0*x) + exp(2*k_0*x)), (x, 0, L_0)) + Integral(B_{2}*exp(4*L_0*k_0)*conjugate(B_{2})/(exp(4*L_0*k_0)*exp(2*k_0*x) - 2*exp(2*L_0*k_0)*exp(2*k_0*x) + exp(2*k_0*x)), (x, 0, L_0)) + Integral(B_{2}*exp(L_0*k_0)*conjugate(B_{0})/(exp(4*L_0*k_0) - 2*exp(2*L_0*k_0) + 1), (x, 0, L_0)) + Integral(-2*B_{2}*exp(2*L_0*k_0)*conjugate(B_{2})/(exp(4*L_0*k_0) - 2*exp(2*L_0*k_0) + 1), (x, 0, L_0)) + Integral(B_{2}*exp(3*L_0*k_0)*conjugate(B_{0})/(exp(4*L_0*k_0) - 2*exp(2*L_0*k_0) + 1), (x, 0, L_0)) + Integral(B_{2}*exp(2*k_0*x)*conjugate(B_{2})/(exp(4*L_0*k_0) - 2*exp(2*L_0*k_0) + 1), (x, 0, L_0)) + Integral(-B_{0}*exp(L_0*k_0)*exp(2*k_0*x)*conjugate(B_{2})/(exp(4*L_0*k_0) - 2*exp(2*L_0*k_0) + 1), (x, 0, L_0)) + Integral(B_{0}*exp(2*L_0*k_0)*exp(2*k_0*x)*conjugate(B_{0})/(exp(4*L_0*k_0) - 2*exp(2*L_0*k_0) + 1), (x, 0, L_0)) + Integral(-B_{2}*exp(L_0*k_0)*exp(2*k_0*x)*conjugate(B_{0})/(exp(4*L_0*k_0) - 2*exp(2*L_0*k_0) + 1), (x, 0, L_0)), N_0)"
      ]
     },
     "execution_count": 30,
     "metadata": {},
     "output_type": "execute_result"
    }
   ],
   "source": [
    "test"
   ]
  },
  {
   "cell_type": "code",
   "execution_count": 31,
   "id": "11669d9c-f3f7-4374-a605-07c7451ed5c9",
   "metadata": {},
   "outputs": [],
   "source": [
    "test = Stepper( test.simplify() )"
   ]
  },
  {
   "cell_type": "code",
   "execution_count": 32,
   "id": "e6997138-f66f-4ddc-9dcb-48a8cce9e3a2",
   "metadata": {},
   "outputs": [
    {
     "data": {
      "text/latex": [
       "$\\displaystyle 0.02 = \\frac{B_{0} L_{0} e^{3 L_{0} k_{0}} \\overline{B_{2}} - 2 B_{0} L_{0} e^{2 L_{0} k_{0}} \\overline{B_{0}} + B_{0} L_{0} e^{L_{0} k_{0}} \\overline{B_{2}} - B_{0} \\cdot \\left(\\frac{1}{2 k_{0}} - \\frac{e^{- 2 L_{0} k_{0}}}{2 k_{0}}\\right) e^{3 L_{0} k_{0}} \\overline{B_{2}} + B_{0} \\cdot \\left(\\frac{1}{2 k_{0}} - \\frac{e^{- 2 L_{0} k_{0}}}{2 k_{0}}\\right) e^{2 L_{0} k_{0}} \\overline{B_{0}} + B_{0} \\left(\\frac{e^{2 L_{0} k_{0}}}{2 k_{0}} - \\frac{1}{2 k_{0}}\\right) e^{2 L_{0} k_{0}} \\overline{B_{0}} - B_{0} \\left(\\frac{e^{2 L_{0} k_{0}}}{2 k_{0}} - \\frac{1}{2 k_{0}}\\right) e^{L_{0} k_{0}} \\overline{B_{2}} + B_{2} L_{0} e^{3 L_{0} k_{0}} \\overline{B_{0}} - 2 B_{2} L_{0} e^{2 L_{0} k_{0}} \\overline{B_{2}} + B_{2} L_{0} e^{L_{0} k_{0}} \\overline{B_{0}} + B_{2} \\cdot \\left(\\frac{1}{2 k_{0}} - \\frac{e^{- 2 L_{0} k_{0}}}{2 k_{0}}\\right) e^{4 L_{0} k_{0}} \\overline{B_{2}} - B_{2} \\cdot \\left(\\frac{1}{2 k_{0}} - \\frac{e^{- 2 L_{0} k_{0}}}{2 k_{0}}\\right) e^{3 L_{0} k_{0}} \\overline{B_{0}} - B_{2} \\left(\\frac{e^{2 L_{0} k_{0}}}{2 k_{0}} - \\frac{1}{2 k_{0}}\\right) e^{L_{0} k_{0}} \\overline{B_{0}} + B_{2} \\left(\\frac{e^{2 L_{0} k_{0}}}{2 k_{0}} - \\frac{1}{2 k_{0}}\\right) \\overline{B_{2}}}{e^{4 L_{0} k_{0}} - 2 e^{2 L_{0} k_{0}} + 1}$"
      ],
      "text/plain": [
       "Eq(0.02, (B_{0}*L_0*exp(3*L_0*k_0)*conjugate(B_{2}) - 2*B_{0}*L_0*exp(2*L_0*k_0)*conjugate(B_{0}) + B_{0}*L_0*exp(L_0*k_0)*conjugate(B_{2}) - B_{0}*(1/(2*k_0) - exp(-2*L_0*k_0)/(2*k_0))*exp(3*L_0*k_0)*conjugate(B_{2}) + B_{0}*(1/(2*k_0) - exp(-2*L_0*k_0)/(2*k_0))*exp(2*L_0*k_0)*conjugate(B_{0}) + B_{0}*(exp(2*L_0*k_0)/(2*k_0) - 1/(2*k_0))*exp(2*L_0*k_0)*conjugate(B_{0}) - B_{0}*(exp(2*L_0*k_0)/(2*k_0) - 1/(2*k_0))*exp(L_0*k_0)*conjugate(B_{2}) + B_{2}*L_0*exp(3*L_0*k_0)*conjugate(B_{0}) - 2*B_{2}*L_0*exp(2*L_0*k_0)*conjugate(B_{2}) + B_{2}*L_0*exp(L_0*k_0)*conjugate(B_{0}) + B_{2}*(1/(2*k_0) - exp(-2*L_0*k_0)/(2*k_0))*exp(4*L_0*k_0)*conjugate(B_{2}) - B_{2}*(1/(2*k_0) - exp(-2*L_0*k_0)/(2*k_0))*exp(3*L_0*k_0)*conjugate(B_{0}) - B_{2}*(exp(2*L_0*k_0)/(2*k_0) - 1/(2*k_0))*exp(L_0*k_0)*conjugate(B_{0}) + B_{2}*(exp(2*L_0*k_0)/(2*k_0) - 1/(2*k_0))*conjugate(B_{2}))/(exp(4*L_0*k_0) - 2*exp(2*L_0*k_0) + 1))"
      ]
     },
     "execution_count": 32,
     "metadata": {},
     "output_type": "execute_result"
    }
   ],
   "source": [
    "test.operate( lambda step : step.subs( { step.lhs : .02 } ) )"
   ]
  },
  {
   "cell_type": "code",
   "execution_count": 33,
   "id": "14162c68-b308-4678-acae-8acfe9366d1a",
   "metadata": {},
   "outputs": [],
   "source": [
    "B_0 = test.symbols().B__0_"
   ]
  },
  {
   "cell_type": "code",
   "execution_count": 34,
   "id": "061f7e65-c58b-4869-8919-4639e71d7956",
   "metadata": {},
   "outputs": [],
   "source": [
    "solve_B_0 = test.new_solution_set( str( B_0 ) )"
   ]
  },
  {
   "cell_type": "code",
   "execution_count": 35,
   "id": "385b29a3-2ce6-4f3a-879f-94374595916f",
   "metadata": {},
   "outputs": [],
   "source": [
    "B_0_solution = sp.solve( solve_B_0[ 0 ].last_step(), B_0 )"
   ]
  },
  {
   "cell_type": "code",
   "execution_count": 36,
   "id": "121ae254-9a00-48a2-b427-d32bd34cb517",
   "metadata": {},
   "outputs": [
    {
     "data": {
      "text/latex": [
       "$\\displaystyle \\frac{0.2 \\cdot \\left(10.0 B_{2} \\left(L_{0} k_{0} e^{2.0 L_{0} k_{0}} + L_{0} k_{0} - e^{2.0 L_{0} k_{0}} + 1.0\\right) e^{L_{0} k_{0}} - 10.0 \\cdot \\left(1.0 - e^{L_{0} k_{0}}\\right) \\left(e^{L_{0} k_{0}} + 1.0\\right) \\sqrt{B_{2}^{2} L_{0}^{2} k_{0}^{2} e^{2.0 L_{0} k_{0}} + 0.5 B_{2}^{2} e^{2.0 L_{0} k_{0}} - 0.25 B_{2}^{2} e^{4.0 L_{0} k_{0}} - 0.25 B_{2}^{2} - 0.04 L_{0} k_{0}^{2} e^{2.0 L_{0} k_{0}} + 0.01 k_{0} e^{4.0 L_{0} k_{0}} - 0.01 k_{0}}\\right)}{4.0 L_{0} k_{0} e^{2.0 L_{0} k_{0}} - e^{4.0 L_{0} k_{0}} + 1.0}$"
      ],
      "text/plain": [
       "0.2*(10.0*B_{2}*(L_0*k_0*exp(2.0*L_0*k_0) + L_0*k_0 - exp(2.0*L_0*k_0) + 1.0)*exp(L_0*k_0) - 10.0*(1.0 - exp(L_0*k_0))*(exp(L_0*k_0) + 1.0)*sqrt(B_{2}**2*L_0**2*k_0**2*exp(2.0*L_0*k_0) + 0.5*B_{2}**2*exp(2.0*L_0*k_0) - 0.25*B_{2}**2*exp(4.0*L_0*k_0) - 0.25*B_{2}**2 - 0.04*L_0*k_0**2*exp(2.0*L_0*k_0) + 0.01*k_0*exp(4.0*L_0*k_0) - 0.01*k_0))/(4.0*L_0*k_0*exp(2.0*L_0*k_0) - exp(4.0*L_0*k_0) + 1.0)"
      ]
     },
     "execution_count": 36,
     "metadata": {},
     "output_type": "execute_result"
    }
   ],
   "source": [
    "B_0_solution[ 0 ]"
   ]
  },
  {
   "cell_type": "code",
   "execution_count": 37,
   "id": "bc1b08d7-62b3-4571-b18a-418a694c2a6e",
   "metadata": {},
   "outputs": [
    {
     "data": {
      "text/latex": [
       "$\\displaystyle \\frac{0.2 \\cdot \\left(10.0 B_{2} \\left(L_{0} k_{0} e^{2.0 L_{0} k_{0}} + L_{0} k_{0} - e^{2.0 L_{0} k_{0}} + 1.0\\right) e^{L_{0} k_{0}} + 10.0 \\cdot \\left(1.0 - e^{L_{0} k_{0}}\\right) \\left(e^{L_{0} k_{0}} + 1.0\\right) \\sqrt{B_{2}^{2} L_{0}^{2} k_{0}^{2} e^{2.0 L_{0} k_{0}} + 0.5 B_{2}^{2} e^{2.0 L_{0} k_{0}} - 0.25 B_{2}^{2} e^{4.0 L_{0} k_{0}} - 0.25 B_{2}^{2} - 0.04 L_{0} k_{0}^{2} e^{2.0 L_{0} k_{0}} + 0.01 k_{0} e^{4.0 L_{0} k_{0}} - 0.01 k_{0}}\\right)}{4.0 L_{0} k_{0} e^{2.0 L_{0} k_{0}} - e^{4.0 L_{0} k_{0}} + 1.0}$"
      ],
      "text/plain": [
       "0.2*(10.0*B_{2}*(L_0*k_0*exp(2.0*L_0*k_0) + L_0*k_0 - exp(2.0*L_0*k_0) + 1.0)*exp(L_0*k_0) + 10.0*(1.0 - exp(L_0*k_0))*(exp(L_0*k_0) + 1.0)*sqrt(B_{2}**2*L_0**2*k_0**2*exp(2.0*L_0*k_0) + 0.5*B_{2}**2*exp(2.0*L_0*k_0) - 0.25*B_{2}**2*exp(4.0*L_0*k_0) - 0.25*B_{2}**2 - 0.04*L_0*k_0**2*exp(2.0*L_0*k_0) + 0.01*k_0*exp(4.0*L_0*k_0) - 0.01*k_0))/(4.0*L_0*k_0*exp(2.0*L_0*k_0) - exp(4.0*L_0*k_0) + 1.0)"
      ]
     },
     "execution_count": 37,
     "metadata": {},
     "output_type": "execute_result"
    }
   ],
   "source": [
    "B_0_solution[ 1 ]"
   ]
  },
  {
   "cell_type": "code",
   "execution_count": 38,
   "id": "df9ec3ca-3b6a-4a62-a409-cb7e59777f1e",
   "metadata": {},
   "outputs": [
    {
     "data": {
      "text/plain": [
       "False"
      ]
     },
     "execution_count": 38,
     "metadata": {},
     "output_type": "execute_result"
    }
   ],
   "source": [
    "B_0_solution[ 0 ] == B_0_solution[ 1 ]"
   ]
  },
  {
   "cell_type": "code",
   "execution_count": 39,
   "id": "beeab737-a1d6-47e1-83dc-e03e3a084049",
   "metadata": {},
   "outputs": [],
   "source": [
    "# ^^^ Subtle difference, there is a minus sign before the sqrt, this is the quadratic equation and these are the roots."
   ]
  },
  {
   "cell_type": "code",
   "execution_count": null,
   "id": "74e794dc-b721-4c31-8bc1-5e1aa3a444c9",
   "metadata": {},
   "outputs": [],
   "source": []
  },
  {
   "cell_type": "code",
   "execution_count": 40,
   "id": "f456e833-256b-4c86-a160-638d9c672d43",
   "metadata": {},
   "outputs": [],
   "source": [
    "squared = ( B_0_solution[ 0 ] * B_0_solution[ 1 ] ).simplify().refine()"
   ]
  },
  {
   "cell_type": "code",
   "execution_count": 41,
   "id": "a0aba9c4-554c-4f59-b3dd-e4fadc97860e",
   "metadata": {},
   "outputs": [
    {
     "data": {
      "text/latex": [
       "$\\displaystyle \\frac{0.25 B_{2}^{2} L_{0}^{2} k_{0}^{2} e^{2 L_{0} k_{0}} - 0.25 B_{2}^{2} L_{0}^{2} k_{0}^{2} e^{2.0 L_{0} k_{0}} + 1.0 B_{2}^{2} L_{0}^{2} k_{0}^{2} e^{4.0 L_{0} k_{0}} + 0.5 B_{2}^{2} L_{0} k_{0} e^{2 L_{0} k_{0}} - 0.5 B_{2}^{2} L_{0} k_{0} e^{6.0 L_{0} k_{0}} + 0.0625 B_{2}^{2} e^{4 L_{0} k_{0}} + 0.125 B_{2}^{2} e^{2 L_{0} k_{0}} - 0.125 B_{2}^{2} e^{2.0 L_{0} k_{0}} - 0.1875 B_{2}^{2} e^{4.0 L_{0} k_{0}} + 0.0625 B_{2}^{2} e^{8.0 L_{0} k_{0}} + 0.0625 B_{2}^{2} + 0.01 L_{0} k_{0}^{2} e^{2.0 L_{0} k_{0}} - 0.02 L_{0} k_{0}^{2} e^{4.0 L_{0} k_{0}} + 0.01 L_{0} k_{0}^{2} e^{6.0 L_{0} k_{0}} + 0.0025 k_{0} e^{4 L_{0} k_{0}} - 0.005 k_{0} e^{2 L_{0} k_{0}} - 0.0025 k_{0} e^{4.0 L_{0} k_{0}} + 0.005 k_{0} e^{6.0 L_{0} k_{0}} - 0.0025 k_{0} e^{8.0 L_{0} k_{0}} + 0.0025 k_{0}}{1.0 L_{0}^{2} k_{0}^{2} e^{4.0 L_{0} k_{0}} + 0.5 L_{0} k_{0} e^{2.0 L_{0} k_{0}} - 0.5 L_{0} k_{0} e^{6.0 L_{0} k_{0}} - 0.125 e^{4.0 L_{0} k_{0}} + 0.0625 e^{8.0 L_{0} k_{0}} + 0.0625}$"
      ],
      "text/plain": [
       "(0.25*B_{2}**2*L_0**2*k_0**2*exp(2*L_0*k_0) - 0.25*B_{2}**2*L_0**2*k_0**2*exp(2.0*L_0*k_0) + 1.0*B_{2}**2*L_0**2*k_0**2*exp(4.0*L_0*k_0) + 0.5*B_{2}**2*L_0*k_0*exp(2*L_0*k_0) - 0.5*B_{2}**2*L_0*k_0*exp(6.0*L_0*k_0) + 0.0625*B_{2}**2*exp(4*L_0*k_0) + 0.125*B_{2}**2*exp(2*L_0*k_0) - 0.125*B_{2}**2*exp(2.0*L_0*k_0) - 0.1875*B_{2}**2*exp(4.0*L_0*k_0) + 0.0625*B_{2}**2*exp(8.0*L_0*k_0) + 0.0625*B_{2}**2 + 0.01*L_0*k_0**2*exp(2.0*L_0*k_0) - 0.02*L_0*k_0**2*exp(4.0*L_0*k_0) + 0.01*L_0*k_0**2*exp(6.0*L_0*k_0) + 0.0025*k_0*exp(4*L_0*k_0) - 0.005*k_0*exp(2*L_0*k_0) - 0.0025*k_0*exp(4.0*L_0*k_0) + 0.005*k_0*exp(6.0*L_0*k_0) - 0.0025*k_0*exp(8.0*L_0*k_0) + 0.0025*k_0)/(1.0*L_0**2*k_0**2*exp(4.0*L_0*k_0) + 0.5*L_0*k_0*exp(2.0*L_0*k_0) - 0.5*L_0*k_0*exp(6.0*L_0*k_0) - 0.125*exp(4.0*L_0*k_0) + 0.0625*exp(8.0*L_0*k_0) + 0.0625)"
      ]
     },
     "execution_count": 41,
     "metadata": {},
     "output_type": "execute_result"
    }
   ],
   "source": [
    "squared.expand().simplify().refine().cancel()"
   ]
  },
  {
   "cell_type": "code",
   "execution_count": 42,
   "id": "addbb4ae-9edd-49fb-99ee-fca0ebc254eb",
   "metadata": {},
   "outputs": [],
   "source": [
    "# ^^^ At least its constant"
   ]
  },
  {
   "cell_type": "code",
   "execution_count": 43,
   "id": "54f5cab1-b2da-42c1-90d1-ebc0ff2199f6",
   "metadata": {},
   "outputs": [
    {
     "data": {
      "text/latex": [
       "$\\displaystyle \\frac{0.25 \\left(B_{2} \\left(L_{0} k_{0} e^{2.0 L_{0} k_{0}} + L_{0} k_{0} - e^{2.0 L_{0} k_{0}} + 1.0\\right) e^{L_{0} k_{0}} - \\left(e^{L_{0} k_{0}} - 1.0\\right) \\left(e^{L_{0} k_{0}} + 1.0\\right) \\sqrt{B_{2}^{2} L_{0}^{2} k_{0}^{2} e^{2.0 L_{0} k_{0}} + 0.5 B_{2}^{2} e^{2.0 L_{0} k_{0}} - 0.25 B_{2}^{2} e^{4.0 L_{0} k_{0}} - 0.25 B_{2}^{2} - 0.04 L_{0} k_{0}^{2} e^{2.0 L_{0} k_{0}} + 0.01 k_{0} e^{4.0 L_{0} k_{0}} - 0.01 k_{0}}\\right) \\left(B_{2} \\left(L_{0} k_{0} e^{2.0 L_{0} k_{0}} + L_{0} k_{0} - e^{2.0 L_{0} k_{0}} + 1.0\\right) e^{L_{0} k_{0}} + \\left(e^{L_{0} k_{0}} - 1.0\\right) \\left(e^{L_{0} k_{0}} + 1.0\\right) \\sqrt{B_{2}^{2} L_{0}^{2} k_{0}^{2} e^{2.0 L_{0} k_{0}} + 0.5 B_{2}^{2} e^{2.0 L_{0} k_{0}} - 0.25 B_{2}^{2} e^{4.0 L_{0} k_{0}} - 0.25 B_{2}^{2} - 0.04 L_{0} k_{0}^{2} e^{2.0 L_{0} k_{0}} + 0.01 k_{0} e^{4.0 L_{0} k_{0}} - 0.01 k_{0}}\\right)}{\\left(L_{0} k_{0} e^{2.0 L_{0} k_{0}} - 0.25 e^{4.0 L_{0} k_{0}} + 0.25\\right)^{2}}$"
      ],
      "text/plain": [
       "0.25*(B_{2}*(L_0*k_0*exp(2.0*L_0*k_0) + L_0*k_0 - exp(2.0*L_0*k_0) + 1.0)*exp(L_0*k_0) - (exp(L_0*k_0) - 1.0)*(exp(L_0*k_0) + 1.0)*sqrt(B_{2}**2*L_0**2*k_0**2*exp(2.0*L_0*k_0) + 0.5*B_{2}**2*exp(2.0*L_0*k_0) - 0.25*B_{2}**2*exp(4.0*L_0*k_0) - 0.25*B_{2}**2 - 0.04*L_0*k_0**2*exp(2.0*L_0*k_0) + 0.01*k_0*exp(4.0*L_0*k_0) - 0.01*k_0))*(B_{2}*(L_0*k_0*exp(2.0*L_0*k_0) + L_0*k_0 - exp(2.0*L_0*k_0) + 1.0)*exp(L_0*k_0) + (exp(L_0*k_0) - 1.0)*(exp(L_0*k_0) + 1.0)*sqrt(B_{2}**2*L_0**2*k_0**2*exp(2.0*L_0*k_0) + 0.5*B_{2}**2*exp(2.0*L_0*k_0) - 0.25*B_{2}**2*exp(4.0*L_0*k_0) - 0.25*B_{2}**2 - 0.04*L_0*k_0**2*exp(2.0*L_0*k_0) + 0.01*k_0*exp(4.0*L_0*k_0) - 0.01*k_0))/(L_0*k_0*exp(2.0*L_0*k_0) - 0.25*exp(4.0*L_0*k_0) + 0.25)**2"
      ]
     },
     "execution_count": 43,
     "metadata": {},
     "output_type": "execute_result"
    }
   ],
   "source": [
    "squared"
   ]
  },
  {
   "cell_type": "code",
   "execution_count": null,
   "id": "f2fc26d5-b90e-4238-ad46-75f0fb1d40a9",
   "metadata": {},
   "outputs": [],
   "source": []
  },
  {
   "cell_type": "code",
   "execution_count": 44,
   "id": "54d9cfb8-16a7-439e-9dee-18005d03493f",
   "metadata": {},
   "outputs": [
    {
     "data": {
      "text/plain": [
       "<custom_libraries.stepper.Stepper at 0x7feb7d6e8250>"
      ]
     },
     "execution_count": 44,
     "metadata": {},
     "output_type": "execute_result"
    }
   ],
   "source": [
    "stairwell_solver.normalizations[ 0 ]"
   ]
  },
  {
   "cell_type": "code",
   "execution_count": 45,
   "id": "1bb4830a-944a-470e-b6b2-a65bcc22fa6d",
   "metadata": {},
   "outputs": [
    {
     "name": "stdout",
     "output_type": "stream",
     "text": [
      "Has  B_{0}\n",
      "Solutions:  [Piecewise(((2*B_{2}*(L_0*k_0*exp(2*L_0*k_0) + L_0*k_0 - exp(2*L_0*k_0) + 1)*exp(L_0*k_0) - (1 - exp(L_0*k_0))*(exp(L_0*k_0) + 1)*sqrt(4*B_{2}**2*L_0**2*k_0**2*exp(2*L_0*k_0) - B_{2}**2*exp(4*L_0*k_0) + 2*B_{2}**2*exp(2*L_0*k_0) - B_{2}**2 - 8*L_0*N_0*k_0**2*exp(2*L_0*k_0) + 2*N_0*k_0*exp(4*L_0*k_0) - 2*N_0*k_0))/(4*L_0*k_0*exp(2*L_0*k_0) - exp(4*L_0*k_0) + 1), Ne(k_0*(exp(4*L_0*k_0) - 2*exp(2*L_0*k_0) + 1), 0)), (nan, True)), Piecewise(((2*B_{2}*(L_0*k_0*exp(2*L_0*k_0) + L_0*k_0 - exp(2*L_0*k_0) + 1)*exp(L_0*k_0) + (1 - exp(L_0*k_0))*(exp(L_0*k_0) + 1)*sqrt(4*B_{2}**2*L_0**2*k_0**2*exp(2*L_0*k_0) - B_{2}**2*exp(4*L_0*k_0) + 2*B_{2}**2*exp(2*L_0*k_0) - B_{2}**2 - 8*L_0*N_0*k_0**2*exp(2*L_0*k_0) + 2*N_0*k_0*exp(4*L_0*k_0) - 2*N_0*k_0))/(4*L_0*k_0*exp(2*L_0*k_0) - exp(4*L_0*k_0) + 1), Ne(k_0*(exp(4*L_0*k_0) - 2*exp(2*L_0*k_0) + 1), 0)), (nan, True))]\n"
     ]
    },
    {
     "data": {
      "text/latex": [
       "$\\displaystyle B_{0}$"
      ],
      "text/plain": [
       "B_{0}"
      ]
     },
     "metadata": {},
     "output_type": "display_data"
    },
    {
     "name": "stdout",
     "output_type": "stream",
     "text": [
      "I have sols!\n"
     ]
    },
    {
     "data": {
      "text/latex": [
       "$\\displaystyle \\begin{cases} \\frac{2 B_{2} \\left(L_{0} k_{0} e^{2 L_{0} k_{0}} + L_{0} k_{0} - e^{2 L_{0} k_{0}} + 1\\right) e^{L_{0} k_{0}} - \\left(1 - e^{L_{0} k_{0}}\\right) \\left(e^{L_{0} k_{0}} + 1\\right) \\sqrt{4 B_{2}^{2} L_{0}^{2} k_{0}^{2} e^{2 L_{0} k_{0}} - B_{2}^{2} e^{4 L_{0} k_{0}} + 2 B_{2}^{2} e^{2 L_{0} k_{0}} - B_{2}^{2} - 8 L_{0} N_{0} k_{0}^{2} e^{2 L_{0} k_{0}} + 2 N_{0} k_{0} e^{4 L_{0} k_{0}} - 2 N_{0} k_{0}}}{4 L_{0} k_{0} e^{2 L_{0} k_{0}} - e^{4 L_{0} k_{0}} + 1} & \\text{for}\\: k_{0} \\left(e^{4 L_{0} k_{0}} - 2 e^{2 L_{0} k_{0}} + 1\\right) \\neq 0 \\\\\\text{NaN} & \\text{otherwise} \\end{cases}$"
      ],
      "text/plain": [
       "Piecewise(((2*B_{2}*(L_0*k_0*exp(2*L_0*k_0) + L_0*k_0 - exp(2*L_0*k_0) + 1)*exp(L_0*k_0) - (1 - exp(L_0*k_0))*(exp(L_0*k_0) + 1)*sqrt(4*B_{2}**2*L_0**2*k_0**2*exp(2*L_0*k_0) - B_{2}**2*exp(4*L_0*k_0) + 2*B_{2}**2*exp(2*L_0*k_0) - B_{2}**2 - 8*L_0*N_0*k_0**2*exp(2*L_0*k_0) + 2*N_0*k_0*exp(4*L_0*k_0) - 2*N_0*k_0))/(4*L_0*k_0*exp(2*L_0*k_0) - exp(4*L_0*k_0) + 1), Ne(k_0*(exp(4*L_0*k_0) - 2*exp(2*L_0*k_0) + 1), 0)), (nan, True))"
      ]
     },
     "metadata": {},
     "output_type": "display_data"
    },
    {
     "data": {
      "text/latex": [
       "$\\displaystyle \\begin{cases} \\frac{2 B_{2} \\left(L_{0} k_{0} e^{2 L_{0} k_{0}} + L_{0} k_{0} - e^{2 L_{0} k_{0}} + 1\\right) e^{L_{0} k_{0}} + \\left(1 - e^{L_{0} k_{0}}\\right) \\left(e^{L_{0} k_{0}} + 1\\right) \\sqrt{4 B_{2}^{2} L_{0}^{2} k_{0}^{2} e^{2 L_{0} k_{0}} - B_{2}^{2} e^{4 L_{0} k_{0}} + 2 B_{2}^{2} e^{2 L_{0} k_{0}} - B_{2}^{2} - 8 L_{0} N_{0} k_{0}^{2} e^{2 L_{0} k_{0}} + 2 N_{0} k_{0} e^{4 L_{0} k_{0}} - 2 N_{0} k_{0}}}{4 L_{0} k_{0} e^{2 L_{0} k_{0}} - e^{4 L_{0} k_{0}} + 1} & \\text{for}\\: k_{0} \\left(e^{4 L_{0} k_{0}} - 2 e^{2 L_{0} k_{0}} + 1\\right) \\neq 0 \\\\\\text{NaN} & \\text{otherwise} \\end{cases}$"
      ],
      "text/plain": [
       "Piecewise(((2*B_{2}*(L_0*k_0*exp(2*L_0*k_0) + L_0*k_0 - exp(2*L_0*k_0) + 1)*exp(L_0*k_0) + (1 - exp(L_0*k_0))*(exp(L_0*k_0) + 1)*sqrt(4*B_{2}**2*L_0**2*k_0**2*exp(2*L_0*k_0) - B_{2}**2*exp(4*L_0*k_0) + 2*B_{2}**2*exp(2*L_0*k_0) - B_{2}**2 - 8*L_0*N_0*k_0**2*exp(2*L_0*k_0) + 2*N_0*k_0*exp(4*L_0*k_0) - 2*N_0*k_0))/(4*L_0*k_0*exp(2*L_0*k_0) - exp(4*L_0*k_0) + 1), Ne(k_0*(exp(4*L_0*k_0) - 2*exp(2*L_0*k_0) + 1), 0)), (nan, True))"
      ]
     },
     "metadata": {},
     "output_type": "display_data"
    },
    {
     "name": "stdout",
     "output_type": "stream",
     "text": [
      "Solved for  B_{0}\n"
     ]
    }
   ],
   "source": [
    "auto_solved = stairwell_solver.solve_boundry_constants_from_equation( stairwell_solver.normalizations[ 0 ] )"
   ]
  },
  {
   "cell_type": "code",
   "execution_count": 46,
   "id": "7aaaaa91-91e0-4bc5-a298-bd97dd460a91",
   "metadata": {},
   "outputs": [
    {
     "ename": "AttributeError",
     "evalue": "'Symbol' object has no attribute 'last_step'",
     "output_type": "error",
     "traceback": [
      "\u001b[0;31m---------------------------------------------------------------------------\u001b[0m",
      "\u001b[0;31mAttributeError\u001b[0m                            Traceback (most recent call last)",
      "Input \u001b[0;32mIn [46]\u001b[0m, in \u001b[0;36m<cell line: 1>\u001b[0;34m()\u001b[0m\n\u001b[0;32m----> 1\u001b[0m \u001b[43mdisplay_steps\u001b[49m\u001b[43m(\u001b[49m\u001b[43m \u001b[49m\u001b[43mauto_solved\u001b[49m\u001b[43m \u001b[49m\u001b[43m)\u001b[49m\n",
      "File \u001b[0;32m~/work/stairwell_symbolic_solution/1d/same_in_same_out_case/custom_libraries/stepper.py:11\u001b[0m, in \u001b[0;36mdisplay_steps\u001b[0;34m(steppers, step)\u001b[0m\n\u001b[1;32m      9\u001b[0m \u001b[38;5;28;01mdef\u001b[39;00m \u001b[38;5;21mdisplay_steps\u001b[39m( steppers, step \u001b[38;5;241m=\u001b[39m \u001b[38;5;28;01mNone\u001b[39;00m ): \n\u001b[1;32m     10\u001b[0m     \u001b[38;5;28;01mfor\u001b[39;00m stepper \u001b[38;5;129;01min\u001b[39;00m steppers: \n\u001b[0;32m---> 11\u001b[0m         display( \u001b[43mstepper\u001b[49m\u001b[38;5;241;43m.\u001b[39;49m\u001b[43mlast_step\u001b[49m( step ) )\n",
      "\u001b[0;31mAttributeError\u001b[0m: 'Symbol' object has no attribute 'last_step'"
     ]
    }
   ],
   "source": [
    "display_steps( auto_solved )"
   ]
  },
  {
   "cell_type": "code",
   "execution_count": null,
   "id": "e6353287-8fa1-478a-b194-411f1cbbb7a5",
   "metadata": {},
   "outputs": [],
   "source": []
  },
  {
   "cell_type": "code",
   "execution_count": null,
   "id": "e6aa6498-015c-4775-bbc6-8dc452e6b058",
   "metadata": {},
   "outputs": [],
   "source": [
    "auto_solved = stairwell_solver.solve_boundry_constants_from_equation( stairwell_solver.normalizations[ 1 ] )"
   ]
  },
  {
   "cell_type": "code",
   "execution_count": null,
   "id": "5305e392-df62-4e81-ace3-0408b6f685ad",
   "metadata": {},
   "outputs": [],
   "source": [
    "display_steps( auto_solved )"
   ]
  },
  {
   "cell_type": "code",
   "execution_count": null,
   "id": "ff71ad59-46a7-45a0-ba68-a873691b3e41",
   "metadata": {},
   "outputs": [],
   "source": []
  },
  {
   "cell_type": "code",
   "execution_count": null,
   "id": "4762c658-4c1f-4471-8141-32d5994bc888",
   "metadata": {},
   "outputs": [],
   "source": [
    "auto_solved = stairwell_solver.solve_boundry_constants_from_equation( stairwell_solver.normalizations[ 2 ] )"
   ]
  },
  {
   "cell_type": "code",
   "execution_count": null,
   "id": "5cdb1c4a-f3ac-4e36-aec9-d8c34173d13c",
   "metadata": {},
   "outputs": [],
   "source": [
    "display_steps( auto_solved )"
   ]
  },
  {
   "cell_type": "code",
   "execution_count": null,
   "id": "8bb08e6b-1dda-4fbc-b520-692a5dc0c3a3",
   "metadata": {},
   "outputs": [],
   "source": []
  },
  {
   "cell_type": "code",
   "execution_count": null,
   "id": "5eea329d-7196-48a9-abbd-61d48f37020f",
   "metadata": {},
   "outputs": [],
   "source": []
  },
  {
   "cell_type": "code",
   "execution_count": null,
   "id": "0b96c0c2-a63b-49a0-ae04-61210da8ea98",
   "metadata": {},
   "outputs": [],
   "source": [
    "x = 42"
   ]
  },
  {
   "cell_type": "code",
   "execution_count": null,
   "id": "645317c6-5754-4446-9686-fca95dd2a160",
   "metadata": {},
   "outputs": [],
   "source": [
    "f\"\"\"{x}\"\"\""
   ]
  },
  {
   "cell_type": "code",
   "execution_count": null,
   "id": "7dfc0df5-df5a-47e3-b574-e1683b100d3b",
   "metadata": {},
   "outputs": [],
   "source": []
  }
 ],
 "metadata": {
  "kernelspec": {
   "display_name": "Python 3 (ipykernel)",
   "language": "python",
   "name": "python3"
  },
  "language_info": {
   "codemirror_mode": {
    "name": "ipython",
    "version": 3
   },
   "file_extension": ".py",
   "mimetype": "text/x-python",
   "name": "python",
   "nbconvert_exporter": "python",
   "pygments_lexer": "ipython3",
   "version": "3.10.4"
  }
 },
 "nbformat": 4,
 "nbformat_minor": 5
}
