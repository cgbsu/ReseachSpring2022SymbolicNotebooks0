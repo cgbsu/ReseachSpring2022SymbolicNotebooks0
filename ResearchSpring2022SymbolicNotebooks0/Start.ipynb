{
 "cells": [
  {
   "cell_type": "code",
   "execution_count": null,
   "id": "28e7e8d2-2bdf-437f-8902-e5d30a6cc125",
   "metadata": {},
   "outputs": [],
   "source": [
    "#include <iostream>"
   ]
  },
  {
   "cell_type": "code",
   "execution_count": null,
   "id": "a8b69594-fbb3-46dc-b59f-bb399d3a8eef",
   "metadata": {},
   "outputs": [],
   "source": [
    "#include <symengine/expression.hpp>"
   ]
  },
  {
   "cell_type": "code",
   "execution_count": null,
   "id": "7df76ec7-6507-4602-aca4-b98f22c25492",
   "metadata": {},
   "outputs": [],
   "source": [
    "std::cout << \"Hello world!\";"
   ]
  },
  {
   "cell_type": "code",
   "execution_count": null,
   "id": "c88f333c-9da6-405a-9bc2-a8a2864f73ff",
   "metadata": {},
   "outputs": [],
   "source": [
    "std::cout << \"Code! :)\\n\";"
   ]
  },
  {
   "cell_type": "code",
   "execution_count": null,
   "id": "392748b5-d2f2-46df-b15a-5cf0bc58fd0b",
   "metadata": {},
   "outputs": [],
   "source": []
  },
  {
   "cell_type": "code",
   "execution_count": null,
   "id": "682143cc-88e3-49e0-9ba5-e5ecf8dad760",
   "metadata": {},
   "outputs": [],
   "source": [
    "using SymEngine::Expression;"
   ]
  },
  {
   "cell_type": "code",
   "execution_count": null,
   "id": "890208de-cc6e-4213-899a-5ca6933b37a9",
   "metadata": {},
   "outputs": [],
   "source": []
  },
  {
   "cell_type": "code",
   "execution_count": null,
   "id": "adb244b2-3f5e-4d47-8961-c7a33bac7df7",
   "metadata": {},
   "outputs": [],
   "source": [
    "Expression x{ \"x\" }"
   ]
  },
  {
   "cell_type": "code",
   "execution_count": null,
   "id": "5d2b68c1-0278-4ed3-af0f-a75f2f39024a",
   "metadata": {},
   "outputs": [],
   "source": [
    "Expression L{ \"L\" }"
   ]
  },
  {
   "cell_type": "code",
   "execution_count": null,
   "id": "e2f48eba-6804-4721-893b-e260f9c837f1",
   "metadata": {},
   "outputs": [],
   "source": []
  },
  {
   "cell_type": "code",
   "execution_count": null,
   "id": "9533546e-de69-40ee-8e38-dc0f9fdba1a3",
   "metadata": {},
   "outputs": [],
   "source": [
    "Function psi{ \"psi\" }"
   ]
  },
  {
   "cell_type": "code",
   "execution_count": null,
   "id": "cf3e9582-0ff4-450f-88a0-87ac8ffdc91f",
   "metadata": {},
   "outputs": [],
   "source": [
    "Function potential{ \"potential\" }"
   ]
  },
  {
   "cell_type": "code",
   "execution_count": null,
   "id": "9a820a4a-df16-47b0-8104-4c79ba5a03bd",
   "metadata": {},
   "outputs": [],
   "source": [
    "auto shrodinger_left = Derivative{ Derivative{ psi, x }, x } + potential"
   ]
  },
  {
   "cell_type": "code",
   "execution_count": null,
   "id": "30b499ca-381d-4880-b943-69adc72cffff",
   "metadata": {},
   "outputs": [],
   "source": [
    "shrodinger_left"
   ]
  },
  {
   "cell_type": "code",
   "execution_count": null,
   "id": "199eed2e-adaa-4888-8d05-95a617d93ce2",
   "metadata": {},
   "outputs": [],
   "source": []
  }
 ],
 "metadata": {
  "kernelspec": {
   "display_name": "C++17",
   "language": "C++17",
   "name": "xcpp17"
  },
  "language_info": {
   "codemirror_mode": "text/x-c++src",
   "file_extension": ".cpp",
   "mimetype": "text/x-c++src",
   "name": "c++",
   "version": "17"
  }
 },
 "nbformat": 4,
 "nbformat_minor": 5
}
