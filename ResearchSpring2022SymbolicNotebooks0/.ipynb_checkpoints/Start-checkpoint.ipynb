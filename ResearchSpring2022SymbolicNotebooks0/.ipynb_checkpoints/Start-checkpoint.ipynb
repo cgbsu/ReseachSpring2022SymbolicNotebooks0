{
 "cells": [
  {
   "cell_type": "code",
   "execution_count": 1,
   "id": "28e7e8d2-2bdf-437f-8902-e5d30a6cc125",
   "metadata": {},
   "outputs": [],
   "source": [
    "#include <iostream>"
   ]
  },
  {
   "cell_type": "code",
   "execution_count": 1,
   "id": "a8b69594-fbb3-46dc-b59f-bb399d3a8eef",
   "metadata": {},
   "outputs": [
    {
     "name": "stderr",
     "output_type": "stream",
     "text": [
      "\u001b[1minput_line_7:1:10: \u001b[0m\u001b[0;1;31mfatal error: \u001b[0m\u001b[1m'symengine/expression.h' file not found\u001b[0m\n",
      "#include <symengine/expression.h>\n",
      "\u001b[0;1;32m         ^~~~~~~~~~~~~~~~~~~~~~~~\n",
      "\u001b[0m"
     ]
    },
    {
     "ename": "Interpreter Error",
     "evalue": "",
     "output_type": "error",
     "traceback": [
      "Interpreter Error: "
     ]
    }
   ],
   "source": [
    "#include <symengine/expression.h>"
   ]
  },
  {
   "cell_type": "code",
   "execution_count": 2,
   "id": "7df76ec7-6507-4602-aca4-b98f22c25492",
   "metadata": {},
   "outputs": [
    {
     "name": "stdout",
     "output_type": "stream",
     "text": [
      "Hello world!"
     ]
    }
   ],
   "source": [
    "std::cout << \"Hello world!\";"
   ]
  },
  {
   "cell_type": "code",
   "execution_count": 4,
   "id": "c88f333c-9da6-405a-9bc2-a8a2864f73ff",
   "metadata": {},
   "outputs": [
    {
     "name": "stdout",
     "output_type": "stream",
     "text": [
      "Code! :)\n"
     ]
    }
   ],
   "source": [
    "std::cout << \"Code! :)\\n\";"
   ]
  },
  {
   "cell_type": "code",
   "execution_count": 1,
   "id": "392748b5-d2f2-46df-b15a-5cf0bc58fd0b",
   "metadata": {},
   "outputs": [
    {
     "name": "stderr",
     "output_type": "stream",
     "text": [
      "\u001b[1minput_line_7:1:10: \u001b[0m\u001b[0;1;31mfatal error: \u001b[0m\u001b[1m'symengine/expression.hpp' file not found\u001b[0m\n",
      "#include <symengine/expression.hpp>\n",
      "\u001b[0;1;32m         ^~~~~~~~~~~~~~~~~~~~~~~~~~\n",
      "\u001b[0m"
     ]
    },
    {
     "ename": "Interpreter Error",
     "evalue": "",
     "output_type": "error",
     "traceback": [
      "Interpreter Error: "
     ]
    }
   ],
   "source": [
    "#include <symengine/expression.hpp>"
   ]
  },
  {
   "cell_type": "code",
   "execution_count": null,
   "id": "682143cc-88e3-49e0-9ba5-e5ecf8dad760",
   "metadata": {},
   "outputs": [],
   "source": []
  }
 ],
 "metadata": {
  "kernelspec": {
   "display_name": "C++17",
   "language": "C++17",
   "name": "xcpp17"
  },
  "language_info": {
   "codemirror_mode": "text/x-c++src",
   "file_extension": ".cpp",
   "mimetype": "text/x-c++src",
   "name": "c++",
   "version": "17"
  }
 },
 "nbformat": 4,
 "nbformat_minor": 5
}
