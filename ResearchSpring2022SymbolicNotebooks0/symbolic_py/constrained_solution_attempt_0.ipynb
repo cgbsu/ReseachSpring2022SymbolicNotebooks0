{
 "cells": [
  {
   "cell_type": "code",
   "execution_count": 1,
   "id": "ba83354b-7bae-4abc-ae3d-46a323509622",
   "metadata": {},
   "outputs": [],
   "source": [
    "from new_attempt.stateless import *"
   ]
  },
  {
   "cell_type": "code",
   "execution_count": 2,
   "id": "7961a18d-d541-4e92-91b4-b11ecdb4ac1b",
   "metadata": {},
   "outputs": [],
   "source": [
    "from custom_libraries.utilities import *"
   ]
  },
  {
   "cell_type": "code",
   "execution_count": 3,
   "id": "53a08e06-7e28-4cfc-86ad-942350bced0d",
   "metadata": {},
   "outputs": [],
   "source": [
    "import matplotlib.pyplot as plt"
   ]
  },
  {
   "cell_type": "code",
   "execution_count": 4,
   "id": "fd9f437e-4244-423e-a41b-354637d0f799",
   "metadata": {},
   "outputs": [],
   "source": [
    "import numpy as np"
   ]
  },
  {
   "cell_type": "code",
   "execution_count": null,
   "id": "33db7c3b-7e0b-42be-9813-a956d0137383",
   "metadata": {},
   "outputs": [],
   "source": []
  },
  {
   "cell_type": "code",
   "execution_count": 5,
   "id": "e1f97467-ea1f-49bd-92fc-724841372449",
   "metadata": {},
   "outputs": [],
   "source": [
    "regionSymbols = RegionSymbols(1)"
   ]
  },
  {
   "cell_type": "code",
   "execution_count": 6,
   "id": "29520e10-88cc-4f0b-9e1a-35fa1208350e",
   "metadata": {},
   "outputs": [],
   "source": [
    "customPlanck = sq.Symbol('hbarX', real = True, positive = True, nonzero = True)"
   ]
  },
  {
   "cell_type": "code",
   "execution_count": null,
   "id": "625c82a6-806c-49bd-9e71-5630798ab3c8",
   "metadata": {},
   "outputs": [],
   "source": []
  },
  {
   "cell_type": "code",
   "execution_count": null,
   "id": "78dcf8b0-8f6a-40ef-9b4d-ac974ed35b09",
   "metadata": {},
   "outputs": [],
   "source": []
  },
  {
   "cell_type": "code",
   "execution_count": null,
   "id": "29bd19be-771f-4808-b794-2739550f6c15",
   "metadata": {},
   "outputs": [],
   "source": []
  },
  {
   "cell_type": "code",
   "execution_count": 7,
   "id": "546b341f-fc92-49c1-b077-6de14bcdb028",
   "metadata": {},
   "outputs": [],
   "source": [
    "waveEquation = constantPotentialTimeIndependentSchroedingerEquation1D(regionSymbols, reducedPlanckConstant = customPlanck)"
   ]
  },
  {
   "cell_type": "code",
   "execution_count": 8,
   "id": "30b7f4a4-a362-4352-8174-e8448d51e421",
   "metadata": {},
   "outputs": [
    {
     "data": {
      "text/latex": [
       "$\\displaystyle V_{1} \\psi_{1}{\\left(x \\right)} - \\frac{hbarX^{2} \\frac{d^{2}}{d x^{2}} \\psi_{1}{\\left(x \\right)}}{2 m} = E_{total} \\psi_{1}{\\left(x \\right)}$"
      ],
      "text/plain": [
       "Eq(V_1*psi_1(x) - hbarX**2*Derivative(psi_1(x), (x, 2))/(2*m), E_{total}*psi_1(x))"
      ]
     },
     "execution_count": 8,
     "metadata": {},
     "output_type": "execute_result"
    }
   ],
   "source": [
    "waveEquation"
   ]
  },
  {
   "cell_type": "code",
   "execution_count": 9,
   "id": "eb52afdb-3740-4acc-8dd7-171c70368740",
   "metadata": {},
   "outputs": [],
   "source": [
    "normalization = simpleWaveFunctionNormalization(regionSymbols.startDistance, regionSymbols.distance, regionSymbols)"
   ]
  },
  {
   "cell_type": "code",
   "execution_count": 10,
   "id": "ed2878ad-0da1-40c8-9c18-a6db9b46d290",
   "metadata": {},
   "outputs": [
    {
     "data": {
      "text/latex": [
       "$\\displaystyle \\int\\limits_{L_{0}}^{L_{1}} \\psi_{1}{\\left(x \\right)} \\overline{\\psi_{1}{\\left(x \\right)}}\\, dx = N_{1}$"
      ],
      "text/plain": [
       "Eq(Integral(psi_1(x)*conjugate(psi_1(x)), (x, L_0, L_1)), N_1)"
      ]
     },
     "execution_count": 10,
     "metadata": {},
     "output_type": "execute_result"
    }
   ],
   "source": [
    "normalization"
   ]
  },
  {
   "cell_type": "code",
   "execution_count": 11,
   "id": "cce33719-d0b2-4c1a-9b86-20cf9f048119",
   "metadata": {},
   "outputs": [],
   "source": [
    "boundries = {\n",
    "        regionSymbols.waveFunction(regionSymbols.startDistance) : sp.Symbol('B_{1}'), \n",
    "        regionSymbols.waveFunction(regionSymbols.distance) : sp.Symbol('B_{2}')\n",
    "    }"
   ]
  },
  {
   "cell_type": "code",
   "execution_count": 12,
   "id": "239a9269-6e3d-46af-a1ab-b9c6eb553941",
   "metadata": {},
   "outputs": [],
   "source": [
    "generalSolution = sp.dsolve(waveEquation, ics = boundries)"
   ]
  },
  {
   "cell_type": "code",
   "execution_count": 13,
   "id": "6188152d-d9dd-485c-ba50-9b1f9074a268",
   "metadata": {},
   "outputs": [
    {
     "data": {
      "text/latex": [
       "$\\displaystyle \\psi_{1}{\\left(x \\right)} = \\left(\\frac{B_{1} e^{\\frac{\\sqrt{2} L_{0} \\sqrt{m} \\sqrt{- E_{total} + V_{1}}}{hbarX}}}{e^{\\frac{2 \\sqrt{2} L_{0} \\sqrt{m} \\sqrt{- E_{total} + V_{1}}}{hbarX}} - e^{\\frac{2 \\sqrt{2} L_{1} \\sqrt{m} \\sqrt{- E_{total} + V_{1}}}{hbarX}}} - \\frac{B_{2} e^{\\frac{\\sqrt{2} L_{1} \\sqrt{m} \\sqrt{- E_{total} + V_{1}}}{hbarX}}}{e^{\\frac{2 \\sqrt{2} L_{0} \\sqrt{m} \\sqrt{- E_{total} + V_{1}}}{hbarX}} - e^{\\frac{2 \\sqrt{2} L_{1} \\sqrt{m} \\sqrt{- E_{total} + V_{1}}}{hbarX}}}\\right) e^{\\frac{\\sqrt{2} \\sqrt{m} x \\sqrt{- E_{total} + V_{1}}}{hbarX}} + \\left(- \\frac{B_{1} e^{\\frac{\\sqrt{2} L_{0} \\sqrt{m} \\sqrt{- E_{total} + V_{1}}}{hbarX}} e^{\\frac{2 \\sqrt{2} L_{1} \\sqrt{m} \\sqrt{- E_{total} + V_{1}}}{hbarX}}}{e^{\\frac{2 \\sqrt{2} L_{0} \\sqrt{m} \\sqrt{- E_{total} + V_{1}}}{hbarX}} - e^{\\frac{2 \\sqrt{2} L_{1} \\sqrt{m} \\sqrt{- E_{total} + V_{1}}}{hbarX}}} + \\frac{B_{2} e^{\\frac{2 \\sqrt{2} L_{0} \\sqrt{m} \\sqrt{- E_{total} + V_{1}}}{hbarX}} e^{\\frac{\\sqrt{2} L_{1} \\sqrt{m} \\sqrt{- E_{total} + V_{1}}}{hbarX}}}{e^{\\frac{2 \\sqrt{2} L_{0} \\sqrt{m} \\sqrt{- E_{total} + V_{1}}}{hbarX}} - e^{\\frac{2 \\sqrt{2} L_{1} \\sqrt{m} \\sqrt{- E_{total} + V_{1}}}{hbarX}}}\\right) e^{- \\frac{\\sqrt{2} \\sqrt{m} x \\sqrt{- E_{total} + V_{1}}}{hbarX}}$"
      ],
      "text/plain": [
       "Eq(psi_1(x), (B_{1}*exp(sqrt(2)*L_0*sqrt(m)*sqrt(-E_{total} + V_1)/hbarX)/(exp(2*sqrt(2)*L_0*sqrt(m)*sqrt(-E_{total} + V_1)/hbarX) - exp(2*sqrt(2)*L_1*sqrt(m)*sqrt(-E_{total} + V_1)/hbarX)) - B_{2}*exp(sqrt(2)*L_1*sqrt(m)*sqrt(-E_{total} + V_1)/hbarX)/(exp(2*sqrt(2)*L_0*sqrt(m)*sqrt(-E_{total} + V_1)/hbarX) - exp(2*sqrt(2)*L_1*sqrt(m)*sqrt(-E_{total} + V_1)/hbarX)))*exp(sqrt(2)*sqrt(m)*x*sqrt(-E_{total} + V_1)/hbarX) + (-B_{1}*exp(sqrt(2)*L_0*sqrt(m)*sqrt(-E_{total} + V_1)/hbarX)*exp(2*sqrt(2)*L_1*sqrt(m)*sqrt(-E_{total} + V_1)/hbarX)/(exp(2*sqrt(2)*L_0*sqrt(m)*sqrt(-E_{total} + V_1)/hbarX) - exp(2*sqrt(2)*L_1*sqrt(m)*sqrt(-E_{total} + V_1)/hbarX)) + B_{2}*exp(2*sqrt(2)*L_0*sqrt(m)*sqrt(-E_{total} + V_1)/hbarX)*exp(sqrt(2)*L_1*sqrt(m)*sqrt(-E_{total} + V_1)/hbarX)/(exp(2*sqrt(2)*L_0*sqrt(m)*sqrt(-E_{total} + V_1)/hbarX) - exp(2*sqrt(2)*L_1*sqrt(m)*sqrt(-E_{total} + V_1)/hbarX)))*exp(-sqrt(2)*sqrt(m)*x*sqrt(-E_{total} + V_1)/hbarX))"
      ]
     },
     "execution_count": 13,
     "metadata": {},
     "output_type": "execute_result"
    }
   ],
   "source": [
    "generalSolution"
   ]
  },
  {
   "cell_type": "code",
   "execution_count": 14,
   "id": "2462e2e6-ea54-4452-ace8-d6bd7149c947",
   "metadata": {},
   "outputs": [],
   "source": [
    "harmonicConstant = extractHarmonicConstant(regionSymbols, waveEquation)"
   ]
  },
  {
   "cell_type": "code",
   "execution_count": 15,
   "id": "35be8aaa-5c88-4dea-9a1d-b33d2f608281",
   "metadata": {},
   "outputs": [
    {
     "data": {
      "text/latex": [
       "$\\displaystyle k_{1} = \\frac{\\sqrt{2} \\sqrt{m} \\sqrt{- E_{total} + V_{1}}}{hbarX}$"
      ],
      "text/plain": [
       "Eq(k_1, sqrt(2)*sqrt(m)*sqrt(-E_{total} + V_1)/hbarX)"
      ]
     },
     "execution_count": 15,
     "metadata": {},
     "output_type": "execute_result"
    }
   ],
   "source": [
    "harmonicConstant"
   ]
  },
  {
   "cell_type": "code",
   "execution_count": 16,
   "id": "f7f9cf1e-5e40-45fa-a1f5-87d88a4089b7",
   "metadata": {},
   "outputs": [],
   "source": [
    "generalSolution = generalSolution.subs({harmonicConstant.rhs : harmonicConstant.lhs})"
   ]
  },
  {
   "cell_type": "code",
   "execution_count": 17,
   "id": "e43789dd-a2eb-4aac-be66-e78cbf8036f0",
   "metadata": {},
   "outputs": [
    {
     "data": {
      "text/latex": [
       "$\\displaystyle \\psi_{1}{\\left(x \\right)} = \\left(\\frac{B_{1} e^{L_{0} k_{1}}}{e^{2 L_{0} k_{1}} - e^{2 L_{1} k_{1}}} - \\frac{B_{2} e^{L_{1} k_{1}}}{e^{2 L_{0} k_{1}} - e^{2 L_{1} k_{1}}}\\right) e^{k_{1} x} + \\left(- \\frac{B_{1} e^{L_{0} k_{1}} e^{2 L_{1} k_{1}}}{e^{2 L_{0} k_{1}} - e^{2 L_{1} k_{1}}} + \\frac{B_{2} e^{2 L_{0} k_{1}} e^{L_{1} k_{1}}}{e^{2 L_{0} k_{1}} - e^{2 L_{1} k_{1}}}\\right) e^{- k_{1} x}$"
      ],
      "text/plain": [
       "Eq(psi_1(x), (B_{1}*exp(L_0*k_1)/(exp(2*L_0*k_1) - exp(2*L_1*k_1)) - B_{2}*exp(L_1*k_1)/(exp(2*L_0*k_1) - exp(2*L_1*k_1)))*exp(k_1*x) + (-B_{1}*exp(L_0*k_1)*exp(2*L_1*k_1)/(exp(2*L_0*k_1) - exp(2*L_1*k_1)) + B_{2}*exp(2*L_0*k_1)*exp(L_1*k_1)/(exp(2*L_0*k_1) - exp(2*L_1*k_1)))*exp(-k_1*x))"
      ]
     },
     "execution_count": 17,
     "metadata": {},
     "output_type": "execute_result"
    }
   ],
   "source": [
    "generalSolution"
   ]
  },
  {
   "cell_type": "code",
   "execution_count": 18,
   "id": "123cc3d0-8251-4bae-b4ba-55b32a44bdaa",
   "metadata": {},
   "outputs": [],
   "source": [
    "def extractWaveCoefficents(exponentialEquation, position = POSITION_SYMBOL): \n",
    "    C0 = sp.Wild(\"C0\")\n",
    "    C1 = sp.Wild(\"C1\")\n",
    "    harmonic = sp.Wild(\"k\")\n",
    "    results = exponentialEquation.match(C0 * sp.exp(harmonic * position) + C1 * sp.exp(-harmonic * position))\n",
    "    return {\n",
    "            \"transmission\" : results[C0], \n",
    "            \"reflection\" : results[C1], \n",
    "            \"harmonicConstant\" : results[harmonic]\n",
    "    }"
   ]
  },
  {
   "cell_type": "code",
   "execution_count": 19,
   "id": "23ce0b2a-9c47-465e-90a4-5aa5409c5467",
   "metadata": {},
   "outputs": [],
   "source": [
    "coefficeints = extractWaveCoefficents(generalSolution.rhs, POSITION_SYMBOL)"
   ]
  },
  {
   "cell_type": "code",
   "execution_count": 20,
   "id": "9cff8bfd-ba78-4e24-b093-287b1bf4c389",
   "metadata": {},
   "outputs": [
    {
     "data": {
      "text/plain": [
       "{'transmission': B_{1}*exp(L_0*k_1)/(exp(2*L_0*k_1) - exp(2*L_1*k_1)) - B_{2}*exp(L_1*k_1)/(exp(2*L_0*k_1) - exp(2*L_1*k_1)),\n",
       " 'reflection': -B_{1}*exp(L_0*k_1)*exp(2*L_1*k_1)/(exp(2*L_0*k_1) - exp(2*L_1*k_1)) + B_{2}*exp(2*L_0*k_1)*exp(L_1*k_1)/(exp(2*L_0*k_1) - exp(2*L_1*k_1)),\n",
       " 'harmonicConstant': k_1}"
      ]
     },
     "execution_count": 20,
     "metadata": {},
     "output_type": "execute_result"
    }
   ],
   "source": [
    "coefficeints"
   ]
  },
  {
   "cell_type": "code",
   "execution_count": null,
   "id": "30e2479e-b5bf-4bf9-a027-6d66b5fbccdf",
   "metadata": {},
   "outputs": [],
   "source": []
  },
  {
   "cell_type": "code",
   "execution_count": 21,
   "id": "d91ec2de-6a84-42e8-8cdf-05998bac034c",
   "metadata": {},
   "outputs": [],
   "source": [
    "exponential = generalSolution.subs({\n",
    "        coefficeints[\"transmission\"] : sp.Symbol(\"C0\"), \n",
    "        coefficeints[\"reflection\"] : sp.Symbol(\"C1\")\n",
    "    })"
   ]
  },
  {
   "cell_type": "code",
   "execution_count": 22,
   "id": "2b87ea54-e462-4298-91a5-b2bec94b6272",
   "metadata": {},
   "outputs": [
    {
     "data": {
      "text/latex": [
       "$\\displaystyle \\psi_{1}{\\left(x \\right)} = C_{0} e^{k_{1} x} + C_{1} e^{- k_{1} x}$"
      ],
      "text/plain": [
       "Eq(psi_1(x), C0*exp(k_1*x) + C1*exp(-k_1*x))"
      ]
     },
     "execution_count": 22,
     "metadata": {},
     "output_type": "execute_result"
    }
   ],
   "source": [
    "exponential"
   ]
  },
  {
   "cell_type": "code",
   "execution_count": 23,
   "id": "fc9e5d6f-0ad9-4d90-bd0e-bbf55cdb2781",
   "metadata": {},
   "outputs": [
    {
     "data": {
      "text/latex": [
       "$\\displaystyle \\frac{B_{1} e^{L_{0} k_{1}}}{e^{2 L_{0} k_{1}} - e^{2 L_{1} k_{1}}} - \\frac{B_{2} e^{L_{1} k_{1}}}{e^{2 L_{0} k_{1}} - e^{2 L_{1} k_{1}}}$"
      ],
      "text/plain": [
       "B_{1}*exp(L_0*k_1)/(exp(2*L_0*k_1) - exp(2*L_1*k_1)) - B_{2}*exp(L_1*k_1)/(exp(2*L_0*k_1) - exp(2*L_1*k_1))"
      ]
     },
     "execution_count": 23,
     "metadata": {},
     "output_type": "execute_result"
    }
   ],
   "source": [
    "coefficeints[\"transmission\"]"
   ]
  },
  {
   "cell_type": "code",
   "execution_count": 24,
   "id": "784e841a-d8c5-416c-a682-d9364838130e",
   "metadata": {},
   "outputs": [
    {
     "data": {
      "text/latex": [
       "$\\displaystyle - \\frac{B_{1} e^{L_{0} k_{1}} e^{2 L_{1} k_{1}}}{e^{2 L_{0} k_{1}} - e^{2 L_{1} k_{1}}} + \\frac{B_{2} e^{2 L_{0} k_{1}} e^{L_{1} k_{1}}}{e^{2 L_{0} k_{1}} - e^{2 L_{1} k_{1}}}$"
      ],
      "text/plain": [
       "-B_{1}*exp(L_0*k_1)*exp(2*L_1*k_1)/(exp(2*L_0*k_1) - exp(2*L_1*k_1)) + B_{2}*exp(2*L_0*k_1)*exp(L_1*k_1)/(exp(2*L_0*k_1) - exp(2*L_1*k_1))"
      ]
     },
     "execution_count": 24,
     "metadata": {},
     "output_type": "execute_result"
    }
   ],
   "source": [
    "coefficeints[\"reflection\"]"
   ]
  },
  {
   "cell_type": "code",
   "execution_count": 25,
   "id": "4cb874d1-b031-4da2-9729-a8b10f002a1a",
   "metadata": {},
   "outputs": [],
   "source": [
    "integration = normalization.subs({regionSymbols.waveFunction(POSITION_SYMBOL) : exponential.rhs}).doit()"
   ]
  },
  {
   "cell_type": "code",
   "execution_count": 26,
   "id": "a490e9d1-d132-4400-add5-f53e72db5548",
   "metadata": {},
   "outputs": [
    {
     "data": {
      "text/latex": [
       "$\\displaystyle - L_{0} \\left(C_{0} \\overline{C_{1}} + C_{1} \\overline{C_{0}}\\right) + L_{1} \\left(C_{0} \\overline{C_{1}} + C_{1} \\overline{C_{0}}\\right) + \\begin{cases} - \\frac{2 C_{0} k_{1} e^{2 L_{0} k_{1}} \\overline{C_{0}} - 2 C_{1} k_{1} e^{- 2 L_{0} k_{1}} \\overline{C_{1}}}{4 k_{1}^{2}} + \\frac{2 C_{0} k_{1} e^{2 L_{1} k_{1}} \\overline{C_{0}} - 2 C_{1} k_{1} e^{- 2 L_{1} k_{1}} \\overline{C_{1}}}{4 k_{1}^{2}} & \\text{for}\\: k_{1} \\neq 0 \\\\- L_{0} \\left(C_{0} \\overline{C_{0}} + C_{1} \\overline{C_{1}}\\right) + L_{1} \\left(C_{0} \\overline{C_{0}} + C_{1} \\overline{C_{1}}\\right) & \\text{otherwise} \\end{cases} = N_{1}$"
      ],
      "text/plain": [
       "Eq(-L_0*(C0*conjugate(C1) + C1*conjugate(C0)) + L_1*(C0*conjugate(C1) + C1*conjugate(C0)) + Piecewise((-(2*C0*k_1*exp(2*L_0*k_1)*conjugate(C0) - 2*C1*k_1*exp(-2*L_0*k_1)*conjugate(C1))/(4*k_1**2) + (2*C0*k_1*exp(2*L_1*k_1)*conjugate(C0) - 2*C1*k_1*exp(-2*L_1*k_1)*conjugate(C1))/(4*k_1**2), Ne(k_1, 0)), (-L_0*(C0*conjugate(C0) + C1*conjugate(C1)) + L_1*(C0*conjugate(C0) + C1*conjugate(C1)), True)), N_1)"
      ]
     },
     "execution_count": 26,
     "metadata": {},
     "output_type": "execute_result"
    }
   ],
   "source": [
    "integration"
   ]
  },
  {
   "cell_type": "code",
   "execution_count": 27,
   "id": "06b2c043-68c8-4dff-b42f-95aef061a3f6",
   "metadata": {},
   "outputs": [
    {
     "data": {
      "text/latex": [
       "$\\displaystyle - L_{0} \\left(C_{0} \\overline{C_{1}} + C_{1} \\overline{C_{0}}\\right) + L_{1} \\left(C_{0} \\overline{C_{1}} + C_{1} \\overline{C_{0}}\\right) + \\begin{cases} - \\frac{2 C_{0} k_{1} e^{2 L_{0} k_{1}} \\overline{C_{0}} - 2 C_{1} k_{1} e^{- 2 L_{0} k_{1}} \\overline{C_{1}}}{4 k_{1}^{2}} + \\frac{2 C_{0} k_{1} e^{2 L_{1} k_{1}} \\overline{C_{0}} - 2 C_{1} k_{1} e^{- 2 L_{1} k_{1}} \\overline{C_{1}}}{4 k_{1}^{2}} & \\text{for}\\: k_{1} \\neq 0 \\\\- L_{0} \\left(C_{0} \\overline{C_{0}} + C_{1} \\overline{C_{1}}\\right) + L_{1} \\left(C_{0} \\overline{C_{0}} + C_{1} \\overline{C_{1}}\\right) & \\text{otherwise} \\end{cases}$"
      ],
      "text/plain": [
       "-L_0*(C0*conjugate(C1) + C1*conjugate(C0)) + L_1*(C0*conjugate(C1) + C1*conjugate(C0)) + Piecewise((-(2*C0*k_1*exp(2*L_0*k_1)*conjugate(C0) - 2*C1*k_1*exp(-2*L_0*k_1)*conjugate(C1))/(4*k_1**2) + (2*C0*k_1*exp(2*L_1*k_1)*conjugate(C0) - 2*C1*k_1*exp(-2*L_1*k_1)*conjugate(C1))/(4*k_1**2), Ne(k_1, 0)), (-L_0*(C0*conjugate(C0) + C1*conjugate(C1)) + L_1*(C0*conjugate(C0) + C1*conjugate(C1)), True))"
      ]
     },
     "execution_count": 27,
     "metadata": {},
     "output_type": "execute_result"
    }
   ],
   "source": [
    "integration.lhs"
   ]
  },
  {
   "cell_type": "code",
   "execution_count": 28,
   "id": "f00279d5-8f9c-4d6c-b21c-992b8568de8a",
   "metadata": {},
   "outputs": [
    {
     "data": {
      "text/latex": [
       "$\\displaystyle - L_{0} \\left(C_{0} \\overline{C_{1}} + C_{1} \\overline{C_{0}}\\right) + L_{1} \\left(C_{0} \\overline{C_{1}} + C_{1} \\overline{C_{0}}\\right) + \\begin{cases} - \\frac{2 C_{0} k_{1} e^{2 L_{0} k_{1}} \\overline{C_{0}} - 2 C_{1} k_{1} e^{- 2 L_{0} k_{1}} \\overline{C_{1}}}{4 k_{1}^{2}} + \\frac{2 C_{0} k_{1} e^{2 L_{1} k_{1}} \\overline{C_{0}} - 2 C_{1} k_{1} e^{- 2 L_{1} k_{1}} \\overline{C_{1}}}{4 k_{1}^{2}} & \\text{for}\\: k_{1} \\neq 0 \\\\- L_{0} \\left(C_{0} \\overline{C_{0}} + C_{1} \\overline{C_{1}}\\right) + L_{1} \\left(C_{0} \\overline{C_{0}} + C_{1} \\overline{C_{1}}\\right) & \\text{otherwise} \\end{cases}$"
      ],
      "text/plain": [
       "-L_0*(C0*conjugate(C1) + C1*conjugate(C0)) + L_1*(C0*conjugate(C1) + C1*conjugate(C0)) + Piecewise((-(2*C0*k_1*exp(2*L_0*k_1)*conjugate(C0) - 2*C1*k_1*exp(-2*L_0*k_1)*conjugate(C1))/(4*k_1**2) + (2*C0*k_1*exp(2*L_1*k_1)*conjugate(C0) - 2*C1*k_1*exp(-2*L_1*k_1)*conjugate(C1))/(4*k_1**2), Ne(k_1, 0)), (-L_0*(C0*conjugate(C0) + C1*conjugate(C1)) + L_1*(C0*conjugate(C0) + C1*conjugate(C1)), True))"
      ]
     },
     "execution_count": 28,
     "metadata": {},
     "output_type": "execute_result"
    }
   ],
   "source": [
    "integration.lhs"
   ]
  },
  {
   "cell_type": "code",
   "execution_count": 29,
   "id": "0850237b-cfbd-4f6b-9c11-2ab0c223b070",
   "metadata": {},
   "outputs": [],
   "source": [
    "def extractNonZero(symbolic):\n",
    "    harmonic = sp.Wild('k')\n",
    "    expression = sp.Wild('C')\n",
    "    nonZero = sp.Ne(harmonic, 0)\n",
    "    otherExpression = sp.Wild('A')\n",
    "    otherCondition = sp.Wild('B')\n",
    "    otherStuff = sp.Wild('Q')\n",
    "    extracted = symbolic.match(otherStuff + sp.Piecewise((expression, nonZero), (otherExpression, otherCondition)))\n",
    "    return {\n",
    "            \"nonZero\" : extracted[expression], \n",
    "            \"otherwise\" : extracted[otherExpression], \n",
    "            \"rest\" : extracted[otherStuff]\n",
    "        }"
   ]
  },
  {
   "cell_type": "code",
   "execution_count": 30,
   "id": "b32f92a9-198f-4c1b-aa88-2c6b92424505",
   "metadata": {},
   "outputs": [],
   "source": [
    "extractedConditions = extractNonZero(integration.lhs)"
   ]
  },
  {
   "cell_type": "code",
   "execution_count": 31,
   "id": "62676a37-00bc-4368-b2d1-e39945a67cdd",
   "metadata": {},
   "outputs": [],
   "source": [
    "nonZeroNormalizationCase = sp.Eq(extractedConditions[\"rest\"] + extractedConditions[\"nonZero\"], integration.rhs)"
   ]
  },
  {
   "cell_type": "code",
   "execution_count": 32,
   "id": "5dcabb08-f6c7-442b-9a52-06afcce82390",
   "metadata": {},
   "outputs": [
    {
     "data": {
      "text/latex": [
       "$\\displaystyle - L_{0} \\left(C_{0} \\overline{C_{1}} + C_{1} \\overline{C_{0}}\\right) + L_{1} \\left(C_{0} \\overline{C_{1}} + C_{1} \\overline{C_{0}}\\right) - \\frac{2 C_{0} k_{1} e^{2 L_{0} k_{1}} \\overline{C_{0}} - 2 C_{1} k_{1} e^{- 2 L_{0} k_{1}} \\overline{C_{1}}}{4 k_{1}^{2}} + \\frac{2 C_{0} k_{1} e^{2 L_{1} k_{1}} \\overline{C_{0}} - 2 C_{1} k_{1} e^{- 2 L_{1} k_{1}} \\overline{C_{1}}}{4 k_{1}^{2}} = N_{1}$"
      ],
      "text/plain": [
       "Eq(-L_0*(C0*conjugate(C1) + C1*conjugate(C0)) + L_1*(C0*conjugate(C1) + C1*conjugate(C0)) - (2*C0*k_1*exp(2*L_0*k_1)*conjugate(C0) - 2*C1*k_1*exp(-2*L_0*k_1)*conjugate(C1))/(4*k_1**2) + (2*C0*k_1*exp(2*L_1*k_1)*conjugate(C0) - 2*C1*k_1*exp(-2*L_1*k_1)*conjugate(C1))/(4*k_1**2), N_1)"
      ]
     },
     "execution_count": 32,
     "metadata": {},
     "output_type": "execute_result"
    }
   ],
   "source": [
    "nonZeroNormalizationCase"
   ]
  },
  {
   "cell_type": "code",
   "execution_count": 33,
   "id": "22f28ae5-637c-49a5-80f6-a563c2dbe454",
   "metadata": {},
   "outputs": [],
   "source": [
    "c0solutions = sp.solve(nonZeroNormalizationCase, sp.Symbol(\"C0\"))"
   ]
  },
  {
   "cell_type": "code",
   "execution_count": null,
   "id": "bdef62f9-cd87-434b-bd2d-aa72174be182",
   "metadata": {},
   "outputs": [],
   "source": []
  },
  {
   "cell_type": "code",
   "execution_count": 34,
   "id": "bc7881db-ea02-4b3e-8038-83bd39248efc",
   "metadata": {},
   "outputs": [
    {
     "data": {
      "text/plain": [
       "2"
      ]
     },
     "execution_count": 34,
     "metadata": {},
     "output_type": "execute_result"
    }
   ],
   "source": [
    "len(c0solutions)"
   ]
  },
  {
   "cell_type": "code",
   "execution_count": 35,
   "id": "9cbc5f8f-828d-42af-a2d4-32e0bc3b433c",
   "metadata": {},
   "outputs": [
    {
     "data": {
      "text/latex": [
       "$\\displaystyle \\frac{\\left(- 2 C_{1} L_{0} k_{1} e^{k_{1} \\left(L_{0} + L_{1}\\right)} + 2 C_{1} L_{1} k_{1} e^{k_{1} \\left(L_{0} + L_{1}\\right)} - \\sqrt{4 C_{1}^{2} L_{0}^{2} k_{1}^{2} e^{2 k_{1} \\left(L_{0} + L_{1}\\right)} - 8 C_{1}^{2} L_{0} L_{1} k_{1}^{2} e^{2 k_{1} \\left(L_{0} + L_{1}\\right)} + 4 C_{1}^{2} L_{1}^{2} k_{1}^{2} e^{2 k_{1} \\left(L_{0} + L_{1}\\right)} - C_{1}^{2} e^{4 L_{0} k_{1}} - C_{1}^{2} e^{4 L_{1} k_{1}} + 2 C_{1}^{2} e^{2 k_{1} \\left(L_{0} + L_{1}\\right)} + 2 N_{1} k_{1} e^{2 k_{1} \\left(L_{0} + 2 L_{1}\\right)} - 2 N_{1} k_{1} e^{2 k_{1} \\cdot \\left(2 L_{0} + L_{1}\\right)}}\\right) e^{- k_{1} \\left(L_{0} + L_{1}\\right)}}{e^{2 L_{0} k_{1}} - e^{2 L_{1} k_{1}}}$"
      ],
      "text/plain": [
       "(-2*C1*L_0*k_1*exp(k_1*(L_0 + L_1)) + 2*C1*L_1*k_1*exp(k_1*(L_0 + L_1)) - sqrt(4*C1**2*L_0**2*k_1**2*exp(2*k_1*(L_0 + L_1)) - 8*C1**2*L_0*L_1*k_1**2*exp(2*k_1*(L_0 + L_1)) + 4*C1**2*L_1**2*k_1**2*exp(2*k_1*(L_0 + L_1)) - C1**2*exp(4*L_0*k_1) - C1**2*exp(4*L_1*k_1) + 2*C1**2*exp(2*k_1*(L_0 + L_1)) + 2*N_1*k_1*exp(2*k_1*(L_0 + 2*L_1)) - 2*N_1*k_1*exp(2*k_1*(2*L_0 + L_1))))*exp(-k_1*(L_0 + L_1))/(exp(2*L_0*k_1) - exp(2*L_1*k_1))"
      ]
     },
     "execution_count": 35,
     "metadata": {},
     "output_type": "execute_result"
    }
   ],
   "source": [
    "c0solutions[0]"
   ]
  },
  {
   "cell_type": "code",
   "execution_count": 36,
   "id": "5252caa3-d343-41e1-89a6-5b49b47f0dd7",
   "metadata": {},
   "outputs": [
    {
     "data": {
      "text/latex": [
       "$\\displaystyle \\frac{\\left(- 2 C_{1} L_{0} k_{1} e^{k_{1} \\left(L_{0} + L_{1}\\right)} + 2 C_{1} L_{1} k_{1} e^{k_{1} \\left(L_{0} + L_{1}\\right)} + \\sqrt{4 C_{1}^{2} L_{0}^{2} k_{1}^{2} e^{2 k_{1} \\left(L_{0} + L_{1}\\right)} - 8 C_{1}^{2} L_{0} L_{1} k_{1}^{2} e^{2 k_{1} \\left(L_{0} + L_{1}\\right)} + 4 C_{1}^{2} L_{1}^{2} k_{1}^{2} e^{2 k_{1} \\left(L_{0} + L_{1}\\right)} - C_{1}^{2} e^{4 L_{0} k_{1}} - C_{1}^{2} e^{4 L_{1} k_{1}} + 2 C_{1}^{2} e^{2 k_{1} \\left(L_{0} + L_{1}\\right)} + 2 N_{1} k_{1} e^{2 k_{1} \\left(L_{0} + 2 L_{1}\\right)} - 2 N_{1} k_{1} e^{2 k_{1} \\cdot \\left(2 L_{0} + L_{1}\\right)}}\\right) e^{- k_{1} \\left(L_{0} + L_{1}\\right)}}{e^{2 L_{0} k_{1}} - e^{2 L_{1} k_{1}}}$"
      ],
      "text/plain": [
       "(-2*C1*L_0*k_1*exp(k_1*(L_0 + L_1)) + 2*C1*L_1*k_1*exp(k_1*(L_0 + L_1)) + sqrt(4*C1**2*L_0**2*k_1**2*exp(2*k_1*(L_0 + L_1)) - 8*C1**2*L_0*L_1*k_1**2*exp(2*k_1*(L_0 + L_1)) + 4*C1**2*L_1**2*k_1**2*exp(2*k_1*(L_0 + L_1)) - C1**2*exp(4*L_0*k_1) - C1**2*exp(4*L_1*k_1) + 2*C1**2*exp(2*k_1*(L_0 + L_1)) + 2*N_1*k_1*exp(2*k_1*(L_0 + 2*L_1)) - 2*N_1*k_1*exp(2*k_1*(2*L_0 + L_1))))*exp(-k_1*(L_0 + L_1))/(exp(2*L_0*k_1) - exp(2*L_1*k_1))"
      ]
     },
     "execution_count": 36,
     "metadata": {},
     "output_type": "execute_result"
    }
   ],
   "source": [
    "c0solutions[1]"
   ]
  },
  {
   "cell_type": "code",
   "execution_count": null,
   "id": "5a5b8147-a8c4-4505-bd80-320b5a952bce",
   "metadata": {},
   "outputs": [],
   "source": []
  },
  {
   "cell_type": "code",
   "execution_count": 37,
   "id": "594bb28a-c4fa-41b3-b915-7659c11b7de9",
   "metadata": {},
   "outputs": [],
   "source": [
    "c1solutions = sp.solve(nonZeroNormalizationCase, sp.Symbol(\"C1\"))"
   ]
  },
  {
   "cell_type": "code",
   "execution_count": 38,
   "id": "e67c3ea7-80fe-460e-bf32-9d6bbdf639d8",
   "metadata": {},
   "outputs": [
    {
     "data": {
      "text/plain": [
       "2"
      ]
     },
     "execution_count": 38,
     "metadata": {},
     "output_type": "execute_result"
    }
   ],
   "source": [
    "len(c1solutions)"
   ]
  },
  {
   "cell_type": "code",
   "execution_count": 39,
   "id": "5ee590c3-521a-46e8-9253-3cef3c50a490",
   "metadata": {},
   "outputs": [
    {
     "data": {
      "text/latex": [
       "$\\displaystyle \\frac{\\left(- 2 C_{0} L_{0} k_{1} e^{k_{1} \\left(L_{0} + L_{1}\\right)} + 2 C_{0} L_{1} k_{1} e^{k_{1} \\left(L_{0} + L_{1}\\right)} - \\sqrt{4 C_{0}^{2} L_{0}^{2} k_{1}^{2} e^{2 k_{1} \\left(L_{0} + L_{1}\\right)} - 8 C_{0}^{2} L_{0} L_{1} k_{1}^{2} e^{2 k_{1} \\left(L_{0} + L_{1}\\right)} + 4 C_{0}^{2} L_{1}^{2} k_{1}^{2} e^{2 k_{1} \\left(L_{0} + L_{1}\\right)} - C_{0}^{2} e^{4 L_{0} k_{1}} - C_{0}^{2} e^{4 L_{1} k_{1}} + 2 C_{0}^{2} e^{2 k_{1} \\left(L_{0} + L_{1}\\right)} - 2 N_{1} k_{1} e^{2 L_{0} k_{1}} + 2 N_{1} k_{1} e^{2 L_{1} k_{1}}}\\right) e^{k_{1} \\left(L_{0} + L_{1}\\right)}}{e^{2 L_{0} k_{1}} - e^{2 L_{1} k_{1}}}$"
      ],
      "text/plain": [
       "(-2*C0*L_0*k_1*exp(k_1*(L_0 + L_1)) + 2*C0*L_1*k_1*exp(k_1*(L_0 + L_1)) - sqrt(4*C0**2*L_0**2*k_1**2*exp(2*k_1*(L_0 + L_1)) - 8*C0**2*L_0*L_1*k_1**2*exp(2*k_1*(L_0 + L_1)) + 4*C0**2*L_1**2*k_1**2*exp(2*k_1*(L_0 + L_1)) - C0**2*exp(4*L_0*k_1) - C0**2*exp(4*L_1*k_1) + 2*C0**2*exp(2*k_1*(L_0 + L_1)) - 2*N_1*k_1*exp(2*L_0*k_1) + 2*N_1*k_1*exp(2*L_1*k_1)))*exp(k_1*(L_0 + L_1))/(exp(2*L_0*k_1) - exp(2*L_1*k_1))"
      ]
     },
     "execution_count": 39,
     "metadata": {},
     "output_type": "execute_result"
    }
   ],
   "source": [
    "c1solutions[0]"
   ]
  },
  {
   "cell_type": "code",
   "execution_count": 40,
   "id": "e53873fa-b935-4a5a-9525-cb95491d7778",
   "metadata": {},
   "outputs": [
    {
     "data": {
      "text/latex": [
       "$\\displaystyle \\frac{\\left(- 2 C_{0} L_{0} k_{1} e^{k_{1} \\left(L_{0} + L_{1}\\right)} + 2 C_{0} L_{1} k_{1} e^{k_{1} \\left(L_{0} + L_{1}\\right)} + \\sqrt{4 C_{0}^{2} L_{0}^{2} k_{1}^{2} e^{2 k_{1} \\left(L_{0} + L_{1}\\right)} - 8 C_{0}^{2} L_{0} L_{1} k_{1}^{2} e^{2 k_{1} \\left(L_{0} + L_{1}\\right)} + 4 C_{0}^{2} L_{1}^{2} k_{1}^{2} e^{2 k_{1} \\left(L_{0} + L_{1}\\right)} - C_{0}^{2} e^{4 L_{0} k_{1}} - C_{0}^{2} e^{4 L_{1} k_{1}} + 2 C_{0}^{2} e^{2 k_{1} \\left(L_{0} + L_{1}\\right)} - 2 N_{1} k_{1} e^{2 L_{0} k_{1}} + 2 N_{1} k_{1} e^{2 L_{1} k_{1}}}\\right) e^{k_{1} \\left(L_{0} + L_{1}\\right)}}{e^{2 L_{0} k_{1}} - e^{2 L_{1} k_{1}}}$"
      ],
      "text/plain": [
       "(-2*C0*L_0*k_1*exp(k_1*(L_0 + L_1)) + 2*C0*L_1*k_1*exp(k_1*(L_0 + L_1)) + sqrt(4*C0**2*L_0**2*k_1**2*exp(2*k_1*(L_0 + L_1)) - 8*C0**2*L_0*L_1*k_1**2*exp(2*k_1*(L_0 + L_1)) + 4*C0**2*L_1**2*k_1**2*exp(2*k_1*(L_0 + L_1)) - C0**2*exp(4*L_0*k_1) - C0**2*exp(4*L_1*k_1) + 2*C0**2*exp(2*k_1*(L_0 + L_1)) - 2*N_1*k_1*exp(2*L_0*k_1) + 2*N_1*k_1*exp(2*L_1*k_1)))*exp(k_1*(L_0 + L_1))/(exp(2*L_0*k_1) - exp(2*L_1*k_1))"
      ]
     },
     "execution_count": 40,
     "metadata": {},
     "output_type": "execute_result"
    }
   ],
   "source": [
    "c1solutions[1]"
   ]
  },
  {
   "cell_type": "code",
   "execution_count": 41,
   "id": "45a223cc-24ad-460f-8d25-0ed37d66b257",
   "metadata": {},
   "outputs": [],
   "source": [
    "c0SolutionConstants = {}"
   ]
  },
  {
   "cell_type": "code",
   "execution_count": 42,
   "id": "cd91ea2e-f516-4be9-8a79-d9e5d8a54fc9",
   "metadata": {},
   "outputs": [],
   "source": [
    "c1SolutionConstants = {}"
   ]
  },
  {
   "cell_type": "code",
   "execution_count": 43,
   "id": "7c4a4133-2cc6-49d8-848e-263f9dc1582b",
   "metadata": {},
   "outputs": [],
   "source": [
    "def constantsPerSymbol(expression, constants = None): \n",
    "    for symbol in expression.free_symbols: \n",
    "        group_constants(c0solutions[0], [symbol], constants = constants)\n",
    "    return constants"
   ]
  },
  {
   "cell_type": "code",
   "execution_count": null,
   "id": "1fa46350-ab90-4014-b249-b481b320626c",
   "metadata": {},
   "outputs": [],
   "source": []
  },
  {
   "cell_type": "code",
   "execution_count": 44,
   "id": "330b5d96-b3c3-433e-a498-3ecdb95147b1",
   "metadata": {
    "tags": []
   },
   "outputs": [],
   "source": [
    "c0SolutionConstants = constantsPerSymbol(c0solutions[0], c0SolutionConstants)"
   ]
  },
  {
   "cell_type": "code",
   "execution_count": 45,
   "id": "b175ebf2-26ab-43a0-8566-9704b005737d",
   "metadata": {},
   "outputs": [
    {
     "data": {
      "text/plain": [
       "71"
      ]
     },
     "execution_count": 45,
     "metadata": {},
     "output_type": "execute_result"
    }
   ],
   "source": [
    "len(c0SolutionConstants.keys())"
   ]
  },
  {
   "cell_type": "code",
   "execution_count": 46,
   "id": "0f6f8c85-f7fc-4ee7-b449-e966b75c33a1",
   "metadata": {
    "tags": []
   },
   "outputs": [],
   "source": [
    "c0SolutionConstants = constantsPerSymbol(c0solutions[1], c0SolutionConstants)"
   ]
  },
  {
   "cell_type": "code",
   "execution_count": 47,
   "id": "8354f9da-2b05-4a3a-a540-d62a0d0e5744",
   "metadata": {},
   "outputs": [
    {
     "data": {
      "text/plain": [
       "71"
      ]
     },
     "execution_count": 47,
     "metadata": {},
     "output_type": "execute_result"
    }
   ],
   "source": [
    "len(c0SolutionConstants.keys())"
   ]
  },
  {
   "cell_type": "code",
   "execution_count": 48,
   "id": "fafbb1ad-bb89-4661-98d0-32414ee7b5e8",
   "metadata": {
    "tags": []
   },
   "outputs": [],
   "source": [
    "c1SolutionConstants = constantsPerSymbol(c1solutions[0], c1SolutionConstants)"
   ]
  },
  {
   "cell_type": "code",
   "execution_count": 49,
   "id": "1fe7003e-7f7f-472a-8867-652569947dd9",
   "metadata": {},
   "outputs": [
    {
     "data": {
      "text/plain": [
       "57"
      ]
     },
     "execution_count": 49,
     "metadata": {},
     "output_type": "execute_result"
    }
   ],
   "source": [
    "len(c1SolutionConstants.keys())"
   ]
  },
  {
   "cell_type": "code",
   "execution_count": 50,
   "id": "9432844f-394a-4576-8de8-c31e8bdbfbb6",
   "metadata": {
    "tags": []
   },
   "outputs": [],
   "source": [
    "c1SolutionConstants = constantsPerSymbol(c1solutions[1], c1SolutionConstants)"
   ]
  },
  {
   "cell_type": "code",
   "execution_count": 51,
   "id": "900f67cb-9a60-4032-8f97-327e360c0e6f",
   "metadata": {},
   "outputs": [
    {
     "data": {
      "text/plain": [
       "57"
      ]
     },
     "execution_count": 51,
     "metadata": {},
     "output_type": "execute_result"
    }
   ],
   "source": [
    "len(c1SolutionConstants.keys())"
   ]
  },
  {
   "cell_type": "code",
   "execution_count": 52,
   "id": "d47965e1-c51d-4211-b659-2f06147e5440",
   "metadata": {},
   "outputs": [
    {
     "data": {
      "text/latex": [
       "$\\displaystyle S_{20} \\left(S_{70} - \\sqrt{S_{15} + S_{67}}\\right)$"
      ],
      "text/plain": [
       "S_{20}*(S_{70} - sqrt(S_{15} + S_{67}))"
      ]
     },
     "execution_count": 52,
     "metadata": {},
     "output_type": "execute_result"
    }
   ],
   "source": [
    "c0solutions[0].subs(c0SolutionConstants)"
   ]
  },
  {
   "cell_type": "code",
   "execution_count": 53,
   "id": "25e2b6dc-7012-4edd-99b5-7fa1c27c171d",
   "metadata": {},
   "outputs": [
    {
     "data": {
      "text/latex": [
       "$\\displaystyle S_{20} \\left(S_{70} + \\sqrt{S_{15} + S_{67}}\\right)$"
      ],
      "text/plain": [
       "S_{20}*(S_{70} + sqrt(S_{15} + S_{67}))"
      ]
     },
     "execution_count": 53,
     "metadata": {},
     "output_type": "execute_result"
    }
   ],
   "source": [
    "c0solutions[1].subs(c0SolutionConstants)"
   ]
  },
  {
   "cell_type": "code",
   "execution_count": null,
   "id": "ca2bf069-1b71-4c6b-a098-59fd84f320ce",
   "metadata": {},
   "outputs": [],
   "source": []
  },
  {
   "cell_type": "code",
   "execution_count": 54,
   "id": "2c19e994-af74-47cf-8982-ea4ec36590eb",
   "metadata": {},
   "outputs": [
    {
     "data": {
      "text/latex": [
       "$\\displaystyle \\frac{S_{42} \\left(\\frac{C_{0} S_{0} S_{37}}{S_{55}} - \\frac{C_{0} S_{0} S_{8}}{S_{55}} - \\sqrt{\\frac{C_{0}^{2} S_{10} S_{37}^{2}}{S_{55}^{2}} - \\frac{2 C_{0}^{2} S_{10} S_{37} S_{8}}{S_{55}^{2}} + \\frac{C_{0}^{2} S_{10} S_{8}^{2}}{S_{55}^{2}} - C_{0}^{2} S_{2}^{2} - C_{0}^{2} S_{34}^{2} + \\frac{2 C_{0}^{2}}{S_{55}^{2}} - 2 S_{2} S_{9} - 2 S_{34} S_{9}}\\right)}{S_{55}}$"
      ],
      "text/plain": [
       "S_{42}*(C0*S_{0}*S_{37}/S_{55} - C0*S_{0}*S_{8}/S_{55} - sqrt(C0**2*S_{10}*S_{37}**2/S_{55}**2 - 2*C0**2*S_{10}*S_{37}*S_{8}/S_{55}**2 + C0**2*S_{10}*S_{8}**2/S_{55}**2 - C0**2*S_{2}**2 - C0**2*S_{34}**2 + 2*C0**2/S_{55}**2 - 2*S_{2}*S_{9} - 2*S_{34}*S_{9}))/S_{55}"
      ]
     },
     "execution_count": 54,
     "metadata": {},
     "output_type": "execute_result"
    }
   ],
   "source": [
    "c1solutions[0].subs(c1SolutionConstants)"
   ]
  },
  {
   "cell_type": "code",
   "execution_count": 55,
   "id": "c7659c94-4d69-472d-acf2-8ea1b565a458",
   "metadata": {},
   "outputs": [
    {
     "data": {
      "text/latex": [
       "$\\displaystyle \\frac{S_{42} \\left(\\frac{C_{0} S_{0} S_{37}}{S_{55}} - \\frac{C_{0} S_{0} S_{8}}{S_{55}} + \\sqrt{\\frac{C_{0}^{2} S_{10} S_{37}^{2}}{S_{55}^{2}} - \\frac{2 C_{0}^{2} S_{10} S_{37} S_{8}}{S_{55}^{2}} + \\frac{C_{0}^{2} S_{10} S_{8}^{2}}{S_{55}^{2}} - C_{0}^{2} S_{2}^{2} - C_{0}^{2} S_{34}^{2} + \\frac{2 C_{0}^{2}}{S_{55}^{2}} - 2 S_{2} S_{9} + 2 S_{9} e^{S_{0} S_{37}}}\\right)}{S_{55}}$"
      ],
      "text/plain": [
       "S_{42}*(C0*S_{0}*S_{37}/S_{55} - C0*S_{0}*S_{8}/S_{55} + sqrt(C0**2*S_{10}*S_{37}**2/S_{55}**2 - 2*C0**2*S_{10}*S_{37}*S_{8}/S_{55}**2 + C0**2*S_{10}*S_{8}**2/S_{55}**2 - C0**2*S_{2}**2 - C0**2*S_{34}**2 + 2*C0**2/S_{55}**2 - 2*S_{2}*S_{9} + 2*S_{9}*exp(S_{0}*S_{37})))/S_{55}"
      ]
     },
     "execution_count": 55,
     "metadata": {},
     "output_type": "execute_result"
    }
   ],
   "source": [
    "c1solutions[1].subs(c1SolutionConstants)"
   ]
  },
  {
   "cell_type": "code",
   "execution_count": null,
   "id": "a0e5c5c4-6869-4e15-9c80-e5fd303975b4",
   "metadata": {},
   "outputs": [],
   "source": []
  },
  {
   "cell_type": "code",
   "execution_count": 56,
   "id": "c8867094-19ae-4644-a565-3d89a3f71bb7",
   "metadata": {},
   "outputs": [
    {
     "data": {
      "text/latex": [
       "$\\displaystyle \\frac{\\left(- 2 C_{1} L_{0} k_{1} e^{k_{1} \\left(L_{0} + L_{1}\\right)} + 2 C_{1} L_{1} k_{1} e^{k_{1} \\left(L_{0} + L_{1}\\right)} - \\sqrt{4 C_{1}^{2} L_{0}^{2} k_{1}^{2} e^{2 k_{1} \\left(L_{0} + L_{1}\\right)} - 8 C_{1}^{2} L_{0} L_{1} k_{1}^{2} e^{2 k_{1} \\left(L_{0} + L_{1}\\right)} + 4 C_{1}^{2} L_{1}^{2} k_{1}^{2} e^{2 k_{1} \\left(L_{0} + L_{1}\\right)} - C_{1}^{2} e^{4 L_{0} k_{1}} - C_{1}^{2} e^{4 L_{1} k_{1}} + 2 C_{1}^{2} e^{2 k_{1} \\left(L_{0} + L_{1}\\right)} + 2 N_{1} k_{1} e^{2 k_{1} \\left(L_{0} + 2 L_{1}\\right)} - 2 N_{1} k_{1} e^{2 k_{1} \\cdot \\left(2 L_{0} + L_{1}\\right)}}\\right) e^{- k_{1} \\left(L_{0} + L_{1}\\right)}}{e^{2 L_{0} k_{1}} - e^{2 L_{1} k_{1}}}$"
      ],
      "text/plain": [
       "(-2*C1*L_0*k_1*exp(k_1*(L_0 + L_1)) + 2*C1*L_1*k_1*exp(k_1*(L_0 + L_1)) - sqrt(4*C1**2*L_0**2*k_1**2*exp(2*k_1*(L_0 + L_1)) - 8*C1**2*L_0*L_1*k_1**2*exp(2*k_1*(L_0 + L_1)) + 4*C1**2*L_1**2*k_1**2*exp(2*k_1*(L_0 + L_1)) - C1**2*exp(4*L_0*k_1) - C1**2*exp(4*L_1*k_1) + 2*C1**2*exp(2*k_1*(L_0 + L_1)) + 2*N_1*k_1*exp(2*k_1*(L_0 + 2*L_1)) - 2*N_1*k_1*exp(2*k_1*(2*L_0 + L_1))))*exp(-k_1*(L_0 + L_1))/(exp(2*L_0*k_1) - exp(2*L_1*k_1))"
      ]
     },
     "execution_count": 56,
     "metadata": {},
     "output_type": "execute_result"
    }
   ],
   "source": [
    "sp.Eq(c0solutions[0]"
   ]
  },
  {
   "cell_type": "code",
   "execution_count": null,
   "id": "c89ab043-0760-41af-a785-ccbcb96ee7a5",
   "metadata": {},
   "outputs": [],
   "source": []
  }
 ],
 "metadata": {
  "kernelspec": {
   "display_name": "Python 3 (ipykernel)",
   "language": "python",
   "name": "python3"
  },
  "language_info": {
   "codemirror_mode": {
    "name": "ipython",
    "version": 3
   },
   "file_extension": ".py",
   "mimetype": "text/x-python",
   "name": "python",
   "nbconvert_exporter": "python",
   "pygments_lexer": "ipython3",
   "version": "3.10.5"
  }
 },
 "nbformat": 4,
 "nbformat_minor": 5
}
