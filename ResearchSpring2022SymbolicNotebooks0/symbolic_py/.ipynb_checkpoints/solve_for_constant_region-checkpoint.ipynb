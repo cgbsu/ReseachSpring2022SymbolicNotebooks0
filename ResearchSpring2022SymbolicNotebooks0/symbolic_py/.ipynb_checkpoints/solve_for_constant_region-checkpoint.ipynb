{
 "cells": [
  {
   "cell_type": "code",
   "execution_count": 1,
   "id": "ba83354b-7bae-4abc-ae3d-46a323509622",
   "metadata": {},
   "outputs": [],
   "source": [
    "from new_attempt.stateless import *"
   ]
  },
  {
   "cell_type": "code",
   "execution_count": 2,
   "id": "7961a18d-d541-4e92-91b4-b11ecdb4ac1b",
   "metadata": {},
   "outputs": [],
   "source": [
    "from custom_libraries.utilities import *"
   ]
  },
  {
   "cell_type": "code",
   "execution_count": 3,
   "id": "53a08e06-7e28-4cfc-86ad-942350bced0d",
   "metadata": {},
   "outputs": [],
   "source": [
    "import matplotlib.pyplot as plt"
   ]
  },
  {
   "cell_type": "code",
   "execution_count": 4,
   "id": "fd9f437e-4244-423e-a41b-354637d0f799",
   "metadata": {},
   "outputs": [],
   "source": [
    "import numpy as np"
   ]
  },
  {
   "cell_type": "code",
   "execution_count": null,
   "id": "33db7c3b-7e0b-42be-9813-a956d0137383",
   "metadata": {},
   "outputs": [],
   "source": []
  },
  {
   "cell_type": "code",
   "execution_count": 5,
   "id": "e1f97467-ea1f-49bd-92fc-724841372449",
   "metadata": {},
   "outputs": [],
   "source": [
    "regionSymbols = RegionSymbols(1)"
   ]
  },
  {
   "cell_type": "code",
   "execution_count": 6,
   "id": "29520e10-88cc-4f0b-9e1a-35fa1208350e",
   "metadata": {},
   "outputs": [],
   "source": [
    "customPlanck = sq.Symbol('hbarX', real = True, positive = True, nonzero = True)"
   ]
  },
  {
   "cell_type": "code",
   "execution_count": null,
   "id": "625c82a6-806c-49bd-9e71-5630798ab3c8",
   "metadata": {},
   "outputs": [],
   "source": []
  },
  {
   "cell_type": "code",
   "execution_count": null,
   "id": "78dcf8b0-8f6a-40ef-9b4d-ac974ed35b09",
   "metadata": {},
   "outputs": [],
   "source": []
  },
  {
   "cell_type": "code",
   "execution_count": null,
   "id": "29bd19be-771f-4808-b794-2739550f6c15",
   "metadata": {},
   "outputs": [],
   "source": []
  },
  {
   "cell_type": "code",
   "execution_count": 7,
   "id": "546b341f-fc92-49c1-b077-6de14bcdb028",
   "metadata": {},
   "outputs": [],
   "source": [
    "waveEquation = constantPotentialTimeIndependentSchroedingerEquation1D(regionSymbols, reducedPlanckConstant = customPlanck)"
   ]
  },
  {
   "cell_type": "code",
   "execution_count": 8,
   "id": "30b7f4a4-a362-4352-8174-e8448d51e421",
   "metadata": {},
   "outputs": [
    {
     "data": {
      "text/latex": [
       "$\\displaystyle V_{1} \\psi_{1}{\\left(x \\right)} - \\frac{hbarX^{2} \\frac{d^{2}}{d x^{2}} \\psi_{1}{\\left(x \\right)}}{2 m} = E_{total} \\psi_{1}{\\left(x \\right)}$"
      ],
      "text/plain": [
       "Eq(V_1*psi_1(x) - hbarX**2*Derivative(psi_1(x), (x, 2))/(2*m), E_{total}*psi_1(x))"
      ]
     },
     "execution_count": 8,
     "metadata": {},
     "output_type": "execute_result"
    }
   ],
   "source": [
    "waveEquation"
   ]
  },
  {
   "cell_type": "code",
   "execution_count": 9,
   "id": "eb52afdb-3740-4acc-8dd7-171c70368740",
   "metadata": {},
   "outputs": [],
   "source": [
    "normalization = simpleWaveFunctionNormalization(regionSymbols.startDistance, regionSymbols.distance, regionSymbols)"
   ]
  },
  {
   "cell_type": "code",
   "execution_count": 10,
   "id": "ed2878ad-0da1-40c8-9c18-a6db9b46d290",
   "metadata": {},
   "outputs": [
    {
     "data": {
      "text/latex": [
       "$\\displaystyle \\int\\limits_{L_{0}}^{L_{1}} \\psi_{1}{\\left(x \\right)} \\overline{\\psi_{1}{\\left(x \\right)}}\\, dx = N_{1}$"
      ],
      "text/plain": [
       "Eq(Integral(psi_1(x)*conjugate(psi_1(x)), (x, L_0, L_1)), N_1)"
      ]
     },
     "execution_count": 10,
     "metadata": {},
     "output_type": "execute_result"
    }
   ],
   "source": [
    "normalization"
   ]
  },
  {
   "cell_type": "code",
   "execution_count": 11,
   "id": "cce33719-d0b2-4c1a-9b86-20cf9f048119",
   "metadata": {},
   "outputs": [],
   "source": [
    "boundries = {\n",
    "        regionSymbols.waveFunction(regionSymbols.startDistance) : sp.Symbol('B_{1}'), \n",
    "        regionSymbols.waveFunction(regionSymbols.distance) : sp.Symbol('B_{2}')\n",
    "    }"
   ]
  },
  {
   "cell_type": "code",
   "execution_count": 12,
   "id": "239a9269-6e3d-46af-a1ab-b9c6eb553941",
   "metadata": {},
   "outputs": [],
   "source": [
    "generalSolution = sp.dsolve(waveEquation, ics = boundries)"
   ]
  },
  {
   "cell_type": "code",
   "execution_count": 13,
   "id": "6188152d-d9dd-485c-ba50-9b1f9074a268",
   "metadata": {},
   "outputs": [
    {
     "data": {
      "text/latex": [
       "$\\displaystyle \\psi_{1}{\\left(x \\right)} = \\left(\\frac{B_{1} e^{\\frac{\\sqrt{2} L_{0} \\sqrt{m} \\sqrt{- E_{total} + V_{1}}}{hbarX}}}{e^{\\frac{2 \\sqrt{2} L_{0} \\sqrt{m} \\sqrt{- E_{total} + V_{1}}}{hbarX}} - e^{\\frac{2 \\sqrt{2} L_{1} \\sqrt{m} \\sqrt{- E_{total} + V_{1}}}{hbarX}}} - \\frac{B_{2} e^{\\frac{\\sqrt{2} L_{1} \\sqrt{m} \\sqrt{- E_{total} + V_{1}}}{hbarX}}}{e^{\\frac{2 \\sqrt{2} L_{0} \\sqrt{m} \\sqrt{- E_{total} + V_{1}}}{hbarX}} - e^{\\frac{2 \\sqrt{2} L_{1} \\sqrt{m} \\sqrt{- E_{total} + V_{1}}}{hbarX}}}\\right) e^{\\frac{\\sqrt{2} \\sqrt{m} x \\sqrt{- E_{total} + V_{1}}}{hbarX}} + \\left(- \\frac{B_{1} e^{\\frac{\\sqrt{2} L_{0} \\sqrt{m} \\sqrt{- E_{total} + V_{1}}}{hbarX}} e^{\\frac{2 \\sqrt{2} L_{1} \\sqrt{m} \\sqrt{- E_{total} + V_{1}}}{hbarX}}}{e^{\\frac{2 \\sqrt{2} L_{0} \\sqrt{m} \\sqrt{- E_{total} + V_{1}}}{hbarX}} - e^{\\frac{2 \\sqrt{2} L_{1} \\sqrt{m} \\sqrt{- E_{total} + V_{1}}}{hbarX}}} + \\frac{B_{2} e^{\\frac{2 \\sqrt{2} L_{0} \\sqrt{m} \\sqrt{- E_{total} + V_{1}}}{hbarX}} e^{\\frac{\\sqrt{2} L_{1} \\sqrt{m} \\sqrt{- E_{total} + V_{1}}}{hbarX}}}{e^{\\frac{2 \\sqrt{2} L_{0} \\sqrt{m} \\sqrt{- E_{total} + V_{1}}}{hbarX}} - e^{\\frac{2 \\sqrt{2} L_{1} \\sqrt{m} \\sqrt{- E_{total} + V_{1}}}{hbarX}}}\\right) e^{- \\frac{\\sqrt{2} \\sqrt{m} x \\sqrt{- E_{total} + V_{1}}}{hbarX}}$"
      ],
      "text/plain": [
       "Eq(psi_1(x), (B_{1}*exp(sqrt(2)*L_0*sqrt(m)*sqrt(-E_{total} + V_1)/hbarX)/(exp(2*sqrt(2)*L_0*sqrt(m)*sqrt(-E_{total} + V_1)/hbarX) - exp(2*sqrt(2)*L_1*sqrt(m)*sqrt(-E_{total} + V_1)/hbarX)) - B_{2}*exp(sqrt(2)*L_1*sqrt(m)*sqrt(-E_{total} + V_1)/hbarX)/(exp(2*sqrt(2)*L_0*sqrt(m)*sqrt(-E_{total} + V_1)/hbarX) - exp(2*sqrt(2)*L_1*sqrt(m)*sqrt(-E_{total} + V_1)/hbarX)))*exp(sqrt(2)*sqrt(m)*x*sqrt(-E_{total} + V_1)/hbarX) + (-B_{1}*exp(sqrt(2)*L_0*sqrt(m)*sqrt(-E_{total} + V_1)/hbarX)*exp(2*sqrt(2)*L_1*sqrt(m)*sqrt(-E_{total} + V_1)/hbarX)/(exp(2*sqrt(2)*L_0*sqrt(m)*sqrt(-E_{total} + V_1)/hbarX) - exp(2*sqrt(2)*L_1*sqrt(m)*sqrt(-E_{total} + V_1)/hbarX)) + B_{2}*exp(2*sqrt(2)*L_0*sqrt(m)*sqrt(-E_{total} + V_1)/hbarX)*exp(sqrt(2)*L_1*sqrt(m)*sqrt(-E_{total} + V_1)/hbarX)/(exp(2*sqrt(2)*L_0*sqrt(m)*sqrt(-E_{total} + V_1)/hbarX) - exp(2*sqrt(2)*L_1*sqrt(m)*sqrt(-E_{total} + V_1)/hbarX)))*exp(-sqrt(2)*sqrt(m)*x*sqrt(-E_{total} + V_1)/hbarX))"
      ]
     },
     "execution_count": 13,
     "metadata": {},
     "output_type": "execute_result"
    }
   ],
   "source": [
    "generalSolution"
   ]
  },
  {
   "cell_type": "code",
   "execution_count": 14,
   "id": "2462e2e6-ea54-4452-ace8-d6bd7149c947",
   "metadata": {},
   "outputs": [],
   "source": [
    "harmonicConstant = extractHarmonicConstant(regionSymbols, waveEquation)"
   ]
  },
  {
   "cell_type": "code",
   "execution_count": 15,
   "id": "35be8aaa-5c88-4dea-9a1d-b33d2f608281",
   "metadata": {},
   "outputs": [
    {
     "data": {
      "text/latex": [
       "$\\displaystyle k_{1} = \\frac{\\sqrt{2} \\sqrt{m} \\sqrt{- E_{total} + V_{1}}}{hbarX}$"
      ],
      "text/plain": [
       "Eq(k_1, sqrt(2)*sqrt(m)*sqrt(-E_{total} + V_1)/hbarX)"
      ]
     },
     "execution_count": 15,
     "metadata": {},
     "output_type": "execute_result"
    }
   ],
   "source": [
    "harmonicConstant"
   ]
  },
  {
   "cell_type": "code",
   "execution_count": 16,
   "id": "f7f9cf1e-5e40-45fa-a1f5-87d88a4089b7",
   "metadata": {},
   "outputs": [],
   "source": [
    "generalSolution = generalSolution.subs({harmonicConstant.rhs : harmonicConstant.lhs})"
   ]
  },
  {
   "cell_type": "code",
   "execution_count": 17,
   "id": "e43789dd-a2eb-4aac-be66-e78cbf8036f0",
   "metadata": {},
   "outputs": [
    {
     "data": {
      "text/latex": [
       "$\\displaystyle \\psi_{1}{\\left(x \\right)} = \\left(\\frac{B_{1} e^{L_{0} k_{1}}}{e^{2 L_{0} k_{1}} - e^{2 L_{1} k_{1}}} - \\frac{B_{2} e^{L_{1} k_{1}}}{e^{2 L_{0} k_{1}} - e^{2 L_{1} k_{1}}}\\right) e^{k_{1} x} + \\left(- \\frac{B_{1} e^{L_{0} k_{1}} e^{2 L_{1} k_{1}}}{e^{2 L_{0} k_{1}} - e^{2 L_{1} k_{1}}} + \\frac{B_{2} e^{2 L_{0} k_{1}} e^{L_{1} k_{1}}}{e^{2 L_{0} k_{1}} - e^{2 L_{1} k_{1}}}\\right) e^{- k_{1} x}$"
      ],
      "text/plain": [
       "Eq(psi_1(x), (B_{1}*exp(L_0*k_1)/(exp(2*L_0*k_1) - exp(2*L_1*k_1)) - B_{2}*exp(L_1*k_1)/(exp(2*L_0*k_1) - exp(2*L_1*k_1)))*exp(k_1*x) + (-B_{1}*exp(L_0*k_1)*exp(2*L_1*k_1)/(exp(2*L_0*k_1) - exp(2*L_1*k_1)) + B_{2}*exp(2*L_0*k_1)*exp(L_1*k_1)/(exp(2*L_0*k_1) - exp(2*L_1*k_1)))*exp(-k_1*x))"
      ]
     },
     "execution_count": 17,
     "metadata": {},
     "output_type": "execute_result"
    }
   ],
   "source": [
    "generalSolution"
   ]
  },
  {
   "cell_type": "code",
   "execution_count": 18,
   "id": "93eb16f7-0800-4aec-8ca2-1d15c8cf5dd0",
   "metadata": {},
   "outputs": [],
   "source": [
    "def lambdifyFromFree(symbolic): \n",
    "    nameSubstitution = {name : symbolicToIdentifier(str(name)) for name in list(symbolic.free_symbols)}\n",
    "    parameters = orderNames(list(nameSubstitution.values()))\n",
    "    return sp.lambdify(parameters, symbolic.subs(nameSubstitution))"
   ]
  },
  {
   "cell_type": "code",
   "execution_count": 19,
   "id": "de5e27f3-6840-400b-b792-4702b635a5d4",
   "metadata": {},
   "outputs": [
    {
     "data": {
      "text/plain": [
       "{E_{total}, V_1, hbarX, m}"
      ]
     },
     "execution_count": 19,
     "metadata": {},
     "output_type": "execute_result"
    }
   ],
   "source": [
    "harmonicConstant.rhs.free_symbols"
   ]
  },
  {
   "cell_type": "code",
   "execution_count": 20,
   "id": "bd559688-9a68-47d7-aef3-2bc57647685e",
   "metadata": {},
   "outputs": [],
   "source": [
    "lambdifiedHarmonicConstant = lambdifyFromFree(harmonicConstant.rhs)"
   ]
  },
  {
   "cell_type": "code",
   "execution_count": 21,
   "id": "115264fd-b263-487a-9105-dbf25804d81d",
   "metadata": {},
   "outputs": [
    {
     "data": {
      "text/plain": [
       "<function _lambdifygenerated(E_OCBtotalCCB, V_1, hbarX, m)>"
      ]
     },
     "execution_count": 21,
     "metadata": {},
     "output_type": "execute_result"
    }
   ],
   "source": [
    "lambdifiedHarmonicConstant"
   ]
  },
  {
   "cell_type": "code",
   "execution_count": 22,
   "id": "f1707240-e899-425f-a2f4-799d8d498e96",
   "metadata": {},
   "outputs": [],
   "source": [
    "lambdifiedWaveFunction = lambdifyFromFree(generalSolution.rhs)"
   ]
  },
  {
   "cell_type": "code",
   "execution_count": 23,
   "id": "90d679aa-b843-447d-8022-83a55e455f72",
   "metadata": {},
   "outputs": [
    {
     "data": {
      "text/plain": [
       "<function _lambdifygenerated(B_OCB1CCB, B_OCB2CCB, L_0, L_1, k_1, x)>"
      ]
     },
     "execution_count": 23,
     "metadata": {},
     "output_type": "execute_result"
    }
   ],
   "source": [
    "lambdifiedWaveFunction"
   ]
  },
  {
   "cell_type": "code",
   "execution_count": 263,
   "id": "48afac74-dd80-41d6-8fbf-622aa47e96af",
   "metadata": {},
   "outputs": [
    {
     "name": "stdout",
     "output_type": "stream",
     "text": [
      "Help on function _lambdifygenerated:\n",
      "\n",
      "_lambdifygenerated(B_OCB1CCB, B_OCB2CCB, L_0, L_1, k_1, x)\n",
      "    Created with lambdify. Signature:\n",
      "    \n",
      "    func(arg_0, arg_1, arg_2, arg_3, arg_4, arg_5)\n",
      "    \n",
      "    Expression:\n",
      "    \n",
      "    (B_OCB1CCB*exp(L_0*k_1)/(exp(2*L_0*k_1) - exp(2*L_1*k_1)) -...\n",
      "    \n",
      "    Source code:\n",
      "    \n",
      "    def _lambdifygenerated(B_OCB1CCB, B_OCB2CCB, L_0, L_1, k_1, x):\n",
      "        return (B_OCB1CCB*exp(L_0*k_1)/(exp(2*L_0*k_1) - exp(2*L_1*k_1)) - B_OCB2CCB*exp(L_1*k_1)/(exp(2*L_0*k_1) - exp(2*L_1*k_1)))*exp(k_1*x) + (-B_OCB1CCB*exp(L_0*k_1)*exp(2*L_1*k_1)/(exp(2*L_0*k_1) - exp(2*L_1*k_1)) + B_OCB2CCB*exp(2*L_0*k_1)*exp(L_1*k_1)/(exp(2*L_0*k_1) - exp(2*L_1*k_1)))*exp(-k_1*x)\n",
      "    \n",
      "    \n",
      "    Imported modules:\n",
      "\n"
     ]
    }
   ],
   "source": [
    "help(lambdifiedWaveFunction)"
   ]
  },
  {
   "cell_type": "code",
   "execution_count": null,
   "id": "545e4871-aaee-4c36-ac34-af0c2b92753d",
   "metadata": {},
   "outputs": [],
   "source": []
  },
  {
   "cell_type": "code",
   "execution_count": 264,
   "id": "f3965b62-3dd5-438e-b9b3-6950e7a14392",
   "metadata": {},
   "outputs": [],
   "source": [
    "hbarXValue = 1"
   ]
  },
  {
   "cell_type": "code",
   "execution_count": 265,
   "id": "7834b37f-814f-4d8b-bc44-84057d12e80c",
   "metadata": {},
   "outputs": [],
   "source": [
    "k_1 = lambdifiedHarmonicConstant(1e2 * hbarXValue, 2e2 * hbarXValue, hbarXValue, 1)"
   ]
  },
  {
   "cell_type": "code",
   "execution_count": 266,
   "id": "dbb0d8b2-2823-491d-bb33-35c3feddc631",
   "metadata": {},
   "outputs": [
    {
     "data": {
      "text/plain": [
       "14.142135623730951"
      ]
     },
     "execution_count": 266,
     "metadata": {},
     "output_type": "execute_result"
    }
   ],
   "source": [
    "k_1"
   ]
  },
  {
   "cell_type": "code",
   "execution_count": null,
   "id": "ce4934d8-f7a1-4200-9dae-5a9d5c0a4cd3",
   "metadata": {},
   "outputs": [],
   "source": []
  },
  {
   "cell_type": "code",
   "execution_count": 267,
   "id": "10a65966-6c69-4d14-ac0c-198509c39b3a",
   "metadata": {},
   "outputs": [],
   "source": [
    "plotible = lambda B_0, B_1, L_0, L_1, k_1 : lambda x : lambdifiedWaveFunction(B_0, B_0, L_0, L_1, k_1, x)"
   ]
  },
  {
   "cell_type": "code",
   "execution_count": 268,
   "id": "d5c2fa41-6695-410d-97a1-aba4b0d5fe8d",
   "metadata": {},
   "outputs": [],
   "source": [
    "length = 10 * hbarXValue"
   ]
  },
  {
   "cell_type": "code",
   "execution_count": 269,
   "id": "0c37fc84-64b4-4d08-9e77-933dc12daa0d",
   "metadata": {},
   "outputs": [],
   "source": [
    "plotibleWaveFunction = plotible(0, 10, 0, length, k_1)"
   ]
  },
  {
   "cell_type": "code",
   "execution_count": 270,
   "id": "bfdbb9f6-7e15-408a-a986-930b9384f57d",
   "metadata": {},
   "outputs": [
    {
     "data": {
      "text/plain": [
       "<function __main__.<lambda>.<locals>.<lambda>(x)>"
      ]
     },
     "execution_count": 270,
     "metadata": {},
     "output_type": "execute_result"
    }
   ],
   "source": [
    "plotibleWaveFunction"
   ]
  },
  {
   "cell_type": "code",
   "execution_count": 271,
   "id": "415f60f2-1015-4b36-a55e-50c499ddec19",
   "metadata": {},
   "outputs": [],
   "source": [
    "range_ = np.arange(0, length, length * 1e-2)\n",
    "result = plotibleWaveFunction(range_)"
   ]
  },
  {
   "cell_type": "code",
   "execution_count": 272,
   "id": "94ed0550-aaa1-410b-832f-3fb2e5d76a7a",
   "metadata": {},
   "outputs": [
    {
     "data": {
      "text/plain": [
       "[<matplotlib.lines.Line2D at 0x7f98ab36cdc0>]"
      ]
     },
     "execution_count": 272,
     "metadata": {},
     "output_type": "execute_result"
    },
    {
     "data": {
      "image/png": "[encoded data removed]",
      "text/plain": [
       "<Figure size 432x288 with 1 Axes>"
      ]
     },
     "metadata": {
      "needs_background": "light"
     },
     "output_type": "display_data"
    }
   ],
   "source": [
    "plt.plot(range_, result)"
   ]
  },
  {
   "cell_type": "code",
   "execution_count": 273,
   "id": "bbec0096-8bd1-45fa-9d7b-85ef66d63d4b",
   "metadata": {},
   "outputs": [
    {
     "data": {
      "text/plain": [
       "array([0., 0., 0., 0., 0., 0., 0., 0., 0., 0., 0., 0., 0., 0., 0., 0., 0.,\n",
       "       0., 0., 0., 0., 0., 0., 0., 0., 0., 0., 0., 0., 0., 0., 0., 0., 0.,\n",
       "       0., 0., 0., 0., 0., 0., 0., 0., 0., 0., 0., 0., 0., 0., 0., 0., 0.,\n",
       "       0., 0., 0., 0., 0., 0., 0., 0., 0., 0., 0., 0., 0., 0., 0., 0., 0.,\n",
       "       0., 0., 0., 0., 0., 0., 0., 0., 0., 0., 0., 0., 0., 0., 0., 0., 0.,\n",
       "       0., 0., 0., 0., 0., 0., 0., 0., 0., 0., 0., 0., 0., 0., 0.])"
      ]
     },
     "execution_count": 273,
     "metadata": {},
     "output_type": "execute_result"
    }
   ],
   "source": [
    "result"
   ]
  },
  {
   "cell_type": "code",
   "execution_count": 274,
   "id": "47ff4696-422e-4726-a1b2-624db237e2d7",
   "metadata": {},
   "outputs": [
    {
     "data": {
      "text/plain": [
       "array([0. , 0.1, 0.2, 0.3, 0.4, 0.5, 0.6, 0.7, 0.8, 0.9, 1. , 1.1, 1.2,\n",
       "       1.3, 1.4, 1.5, 1.6, 1.7, 1.8, 1.9, 2. , 2.1, 2.2, 2.3, 2.4, 2.5,\n",
       "       2.6, 2.7, 2.8, 2.9, 3. , 3.1, 3.2, 3.3, 3.4, 3.5, 3.6, 3.7, 3.8,\n",
       "       3.9, 4. , 4.1, 4.2, 4.3, 4.4, 4.5, 4.6, 4.7, 4.8, 4.9, 5. , 5.1,\n",
       "       5.2, 5.3, 5.4, 5.5, 5.6, 5.7, 5.8, 5.9, 6. , 6.1, 6.2, 6.3, 6.4,\n",
       "       6.5, 6.6, 6.7, 6.8, 6.9, 7. , 7.1, 7.2, 7.3, 7.4, 7.5, 7.6, 7.7,\n",
       "       7.8, 7.9, 8. , 8.1, 8.2, 8.3, 8.4, 8.5, 8.6, 8.7, 8.8, 8.9, 9. ,\n",
       "       9.1, 9.2, 9.3, 9.4, 9.5, 9.6, 9.7, 9.8, 9.9])"
      ]
     },
     "execution_count": 274,
     "metadata": {},
     "output_type": "execute_result"
    }
   ],
   "source": [
    "range_"
   ]
  },
  {
   "cell_type": "code",
   "execution_count": null,
   "id": "413db504-15db-4ffc-95af-56cf11496954",
   "metadata": {},
   "outputs": [],
   "source": []
  },
  {
   "cell_type": "code",
   "execution_count": null,
   "id": "c7847a4c-7ed7-44b5-80ac-90c437df26c7",
   "metadata": {},
   "outputs": [],
   "source": []
  },
  {
   "cell_type": "code",
   "execution_count": null,
   "id": "8847d1fc-ed78-4782-870b-a8fb708b94df",
   "metadata": {},
   "outputs": [],
   "source": []
  },
  {
   "cell_type": "code",
   "execution_count": null,
   "id": "84976aa5-268a-4738-b9b7-f5b1830a02ff",
   "metadata": {},
   "outputs": [],
   "source": []
  }
 ],
 "metadata": {
  "kernelspec": {
   "display_name": "Python 3 (ipykernel)",
   "language": "python",
   "name": "python3"
  },
  "language_info": {
   "codemirror_mode": {
    "name": "ipython",
    "version": 3
   },
   "file_extension": ".py",
   "mimetype": "text/x-python",
   "name": "python",
   "nbconvert_exporter": "python",
   "pygments_lexer": "ipython3",
   "version": "3.10.4"
  }
 },
 "nbformat": 4,
 "nbformat_minor": 5
}
