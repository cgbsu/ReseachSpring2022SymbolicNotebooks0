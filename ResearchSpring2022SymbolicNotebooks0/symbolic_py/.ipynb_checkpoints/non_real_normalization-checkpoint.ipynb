{
 "cells": [
  {
   "cell_type": "code",
   "execution_count": 1,
   "id": "d49d0932-a5cf-4703-bb5d-a99a1601e5ea",
   "metadata": {},
   "outputs": [],
   "source": [
    "import sympy as sp"
   ]
  },
  {
   "cell_type": "code",
   "execution_count": null,
   "id": "91c2a65d-13ef-4f20-be57-ed642e100bcc",
   "metadata": {},
   "outputs": [],
   "source": []
  },
  {
   "cell_type": "code",
   "execution_count": 2,
   "id": "c5e74628-1ad0-4209-ad3b-4e9cf4bb35f5",
   "metadata": {},
   "outputs": [],
   "source": [
    "x, k, C0, C1 = sp.symbols(\"x k C0 C1\")"
   ]
  },
  {
   "cell_type": "code",
   "execution_count": null,
   "id": "da8913ac-b99f-49c7-9c54-719a58d6edaf",
   "metadata": {},
   "outputs": [],
   "source": []
  },
  {
   "cell_type": "code",
   "execution_count": 3,
   "id": "5ec7fe8e-8805-4aa6-b78a-f9fff56e7625",
   "metadata": {},
   "outputs": [],
   "source": [
    "exponential = (C0 * sp.exp(sp.Abs(sp.I * k * x))) + C1 * (sp.exp(-sp.Abs(sp.I * k * x)))"
   ]
  },
  {
   "cell_type": "code",
   "execution_count": 4,
   "id": "0096f873-798c-4d72-91d6-b10dd9478e8f",
   "metadata": {},
   "outputs": [
    {
     "data": {
      "text/latex": [
       "$\\displaystyle C_{0} e^{\\left|{k x}\\right|} + C_{1} e^{- \\left|{k x}\\right|}$"
      ],
      "text/plain": [
       "C0*exp(Abs(k*x)) + C1*exp(-Abs(k*x))"
      ]
     },
     "execution_count": 4,
     "metadata": {},
     "output_type": "execute_result"
    }
   ],
   "source": [
    "exponential"
   ]
  },
  {
   "cell_type": "code",
   "execution_count": null,
   "id": "000c2866-562e-481b-bc2d-0e83c0c0f5e9",
   "metadata": {},
   "outputs": [],
   "source": []
  },
  {
   "cell_type": "code",
   "execution_count": 5,
   "id": "5c1a154f-3466-4f14-ba38-aa0a5c7566ed",
   "metadata": {},
   "outputs": [],
   "source": [
    "conjugated = exponential * sp.conjugate(exponential)"
   ]
  },
  {
   "cell_type": "code",
   "execution_count": 6,
   "id": "c22d5e02-82cf-43c1-a789-327f2179c15a",
   "metadata": {},
   "outputs": [],
   "source": [
    "conjugated = conjugated.expand().refine()"
   ]
  },
  {
   "cell_type": "code",
   "execution_count": null,
   "id": "42cee2b7-7f2e-4b36-8941-308b6feddbe5",
   "metadata": {},
   "outputs": [],
   "source": []
  },
  {
   "cell_type": "code",
   "execution_count": 7,
   "id": "7bb03783-6688-4b49-bbb3-6156f88be90d",
   "metadata": {},
   "outputs": [
    {
     "data": {
      "text/latex": [
       "$\\displaystyle C_{0} e^{2 \\left|{k x}\\right|} \\overline{C_{0}} + C_{0} \\overline{C_{1}} + C_{1} \\overline{C_{0}} + C_{1} e^{- 2 \\left|{k x}\\right|} \\overline{C_{1}}$"
      ],
      "text/plain": [
       "C0*exp(2*Abs(k*x))*conjugate(C0) + C0*conjugate(C1) + C1*conjugate(C0) + C1*exp(-2*Abs(k*x))*conjugate(C1)"
      ]
     },
     "execution_count": 7,
     "metadata": {},
     "output_type": "execute_result"
    }
   ],
   "source": [
    "conjugated"
   ]
  },
  {
   "cell_type": "code",
   "execution_count": null,
   "id": "a0763cf1-cfc4-4683-812c-5ae388a8463c",
   "metadata": {},
   "outputs": [],
   "source": []
  },
  {
   "cell_type": "code",
   "execution_count": 8,
   "id": "a31cf27d-efba-4fe5-9818-1afca5ae8240",
   "metadata": {},
   "outputs": [],
   "source": [
    "r0, r1 = sp.symbols(\"r0 r1\", real = True, imaginary = False)"
   ]
  },
  {
   "cell_type": "code",
   "execution_count": 9,
   "id": "72a26e65-06e4-4203-97cc-dcaa7cd246d6",
   "metadata": {},
   "outputs": [],
   "source": [
    "c0, c1 =  sp.symbols(\"c0 c1\", imaginary = True, real = False)"
   ]
  },
  {
   "cell_type": "code",
   "execution_count": null,
   "id": "f564c1ce-753e-49d8-8a37-bceb8db37442",
   "metadata": {},
   "outputs": [],
   "source": []
  },
  {
   "cell_type": "code",
   "execution_count": 10,
   "id": "b5e0f633-1660-4a91-8718-483271b834c0",
   "metadata": {},
   "outputs": [],
   "source": [
    "C0Equation = sp.Eq(C0, r0 + c0)"
   ]
  },
  {
   "cell_type": "code",
   "execution_count": 11,
   "id": "16fbdc10-21ce-4384-a5cc-1a8100850bcf",
   "metadata": {},
   "outputs": [
    {
     "data": {
      "text/latex": [
       "$\\displaystyle C_{0} = c_{0} + r_{0}$"
      ],
      "text/plain": [
       "Eq(C0, c0 + r0)"
      ]
     },
     "execution_count": 11,
     "metadata": {},
     "output_type": "execute_result"
    }
   ],
   "source": [
    "C0Equation"
   ]
  },
  {
   "cell_type": "code",
   "execution_count": null,
   "id": "782fa9a1-7df5-4b6d-a08e-f2d05afade8b",
   "metadata": {},
   "outputs": [],
   "source": []
  },
  {
   "cell_type": "code",
   "execution_count": 12,
   "id": "80c9913a-19cd-42c3-9b8f-a7cc4b3bf74d",
   "metadata": {},
   "outputs": [],
   "source": [
    "C1Equation = sp.Eq(C1, r1 + c1)"
   ]
  },
  {
   "cell_type": "code",
   "execution_count": 13,
   "id": "7dd73199-d2f3-41d0-896e-4dead1d7ec79",
   "metadata": {},
   "outputs": [
    {
     "data": {
      "text/latex": [
       "$\\displaystyle C_{1} = c_{1} + r_{1}$"
      ],
      "text/plain": [
       "Eq(C1, c1 + r1)"
      ]
     },
     "execution_count": 13,
     "metadata": {},
     "output_type": "execute_result"
    }
   ],
   "source": [
    "C1Equation"
   ]
  },
  {
   "cell_type": "code",
   "execution_count": null,
   "id": "2c5adf17-1d41-429b-93ae-2b35ce66c165",
   "metadata": {},
   "outputs": [],
   "source": []
  },
  {
   "cell_type": "code",
   "execution_count": 19,
   "id": "b5030069-8cda-43be-8f3c-2e266f4d9a77",
   "metadata": {},
   "outputs": [],
   "source": [
    "def complexConstantConjugate(constantEquation : sp.Eq) -> sp.Eq: \n",
    "    toNegate = constantEquation.rhs.find(lambda canidate : canidate.is_imaginary)\n",
    "    for nextToNegate in toNegate: \n",
    "        return sp.Eq(constantEquation.lhs, constantEquation.rhs.subs({ nextToNegate : -nextToNegate }))"
   ]
  },
  {
   "cell_type": "code",
   "execution_count": null,
   "id": "670ad16b-a384-4132-a55d-cf3b187ec1fa",
   "metadata": {},
   "outputs": [],
   "source": []
  },
  {
   "cell_type": "code",
   "execution_count": 20,
   "id": "75a838fc-48f4-44cc-b33c-b97d6627110c",
   "metadata": {},
   "outputs": [
    {
     "data": {
      "text/latex": [
       "$\\displaystyle C_{0} = - c_{0} + r_{0}$"
      ],
      "text/plain": [
       "Eq(C0, -c0 + r0)"
      ]
     },
     "execution_count": 20,
     "metadata": {},
     "output_type": "execute_result"
    }
   ],
   "source": [
    "complexConstantConjugate(C0Equation)"
   ]
  },
  {
   "cell_type": "code",
   "execution_count": null,
   "id": "f1dcdd4d-87e8-40e8-9a71-56395eb005e0",
   "metadata": {},
   "outputs": [],
   "source": []
  },
  {
   "cell_type": "code",
   "execution_count": 21,
   "id": "0365f191-3674-4c9f-89c7-d73550cfdc4e",
   "metadata": {},
   "outputs": [],
   "source": [
    "def expandConstantMultiplication(left : sp.Eq, right : sp.Eq) -> dict:\n",
    "    result = sp.Eq(left.rhs * right.rhs, (left.rhs * right.rhs).expand())\n",
    "    return {\n",
    "        \"allSteps\" : sp.Eq(left.lhs * right.rhs, result), \n",
    "        \"result\" : result\n",
    "    }"
   ]
  },
  {
   "cell_type": "code",
   "execution_count": null,
   "id": "28b55204-de9d-44da-aea8-d1d42a0a45e0",
   "metadata": {},
   "outputs": [],
   "source": []
  },
  {
   "cell_type": "code",
   "execution_count": null,
   "id": "cfd5e1c5-cf8c-4853-ae67-f5d8ae7b1d40",
   "metadata": {},
   "outputs": [],
   "source": [
    "def tryAllCombinations(constants : List[sp.Eq]): \n",
    "    for ii in range(len(constants)): \n",
    "        "
   ]
  },
  {
   "cell_type": "code",
   "execution_count": null,
   "id": "ea5d516c-331a-4640-8425-b3cd88de6148",
   "metadata": {},
   "outputs": [],
   "source": []
  },
  {
   "cell_type": "code",
   "execution_count": null,
   "id": "eb6778ae-d338-4f10-ab1c-ea286de6516d",
   "metadata": {},
   "outputs": [
    {
     "data": {
      "text/plain": [
       "{'allSteps': False,\n",
       " 'result': Eq((c0 + r0)*(c1 + r1), c0*c1 + c0*r1 + c1*r0 + r0*r1)}"
      ]
     },
     "execution_count": 22,
     "metadata": {},
     "output_type": "execute_result"
    }
   ],
   "source": [
    "expandConstantMultiplication(C0Equation, C1Equation)"
   ]
  },
  {
   "cell_type": "code",
   "execution_count": null,
   "id": "f3cb87ab-a727-46b9-82ac-2379c73db6f0",
   "metadata": {},
   "outputs": [],
   "source": []
  },
  {
   "cell_type": "code",
   "execution_count": null,
   "id": "95cd588b-1718-448f-83be-6dcb2015263e",
   "metadata": {},
   "outputs": [],
   "source": []
  },
  {
   "cell_type": "code",
   "execution_count": null,
   "id": "04ff0b1d-cb54-43ce-bb64-bc40cc7892f8",
   "metadata": {},
   "outputs": [],
   "source": []
  }
 ],
 "metadata": {
  "kernelspec": {
   "display_name": "Python 3 (ipykernel)",
   "language": "python",
   "name": "python3"
  },
  "language_info": {
   "codemirror_mode": {
    "name": "ipython",
    "version": 3
   },
   "file_extension": ".py",
   "mimetype": "text/x-python",
   "name": "python",
   "nbconvert_exporter": "python",
   "pygments_lexer": "ipython3",
   "version": "3.10.4"
  }
 },
 "nbformat": 4,
 "nbformat_minor": 5
}
