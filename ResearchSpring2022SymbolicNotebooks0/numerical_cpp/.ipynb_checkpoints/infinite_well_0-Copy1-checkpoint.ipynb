{
 "cells": [
  {
   "cell_type": "code",
   "execution_count": null,
   "id": "57b9a3f9-0cda-4138-8204-71c7b89ac2eb",
   "metadata": {},
   "outputs": [],
   "source": [
    "#include <iostream>\n",
    "#include <vector>\n",
    "#include <string>"
   ]
  },
  {
   "cell_type": "code",
   "execution_count": null,
   "id": "3abf44ab-2df0-41f3-97d8-b5229ab5a33c",
   "metadata": {},
   "outputs": [],
   "source": [
    "#include <symengine/basic.h>\n",
    "#include <symengine/add.h>\n",
    "#include <symengine/symbol.h>\n",
    "#include <symengine/integer.h>\n",
    "#include <symengine/mul.h>\n",
    "#include <symengine/pow.h>\n",
    "#include <symengine/functions.h>\n",
    "#include <symengine/expression.h>"
   ]
  },
  {
   "cell_type": "code",
   "execution_count": null,
   "id": "f70a5709-4da0-4d14-a495-34cd81ecdc09",
   "metadata": {},
   "outputs": [],
   "source": [
    "#include <xtensor/xbuilder.hpp>\n",
    "#include <xtensor/xarray.hpp>\n",
    "#include <xtensor/xio.hpp>\n",
    "#include <xtensor/xview.hpp>\n",
    "#include <xtensor/xtensor.hpp>\n",
    "#include <xtensor/xfixed.hpp>"
   ]
  },
  {
   "cell_type": "code",
   "execution_count": null,
   "id": "d2456cbd-8dae-4dbd-b7de-60b9467b484d",
   "metadata": {},
   "outputs": [],
   "source": [
    "#include <xplot/xfigure.hpp>\n",
    "#include <xplot/xmarks.hpp>\n",
    "#include <xplot/xaxes.hpp>"
   ]
  },
  {
   "cell_type": "code",
   "execution_count": null,
   "id": "5b76048a-43c5-4702-8ff0-cba38bf4767f",
   "metadata": {},
   "outputs": [],
   "source": []
  },
  {
   "cell_type": "code",
   "execution_count": null,
   "id": "1dd19991-d3d5-4184-a6dd-b9d20e1d0c01",
   "metadata": {},
   "outputs": [],
   "source": [
    "constexpr double total_energy = 1.0;"
   ]
  },
  {
   "cell_type": "code",
   "execution_count": null,
   "id": "00876789-e01e-47a6-b28e-05992302690a",
   "metadata": {},
   "outputs": [],
   "source": [
    "constexpr double hbar = 1.0;"
   ]
  },
  {
   "cell_type": "code",
   "execution_count": null,
   "id": "8cbb75ac-fce5-4815-a2d0-d56602e59723",
   "metadata": {},
   "outputs": [],
   "source": [
    "constexpr double mass = 1.0;"
   ]
  },
  {
   "cell_type": "code",
   "execution_count": null,
   "id": "150fc60f-2494-490c-ad9f-bbcddfb55048",
   "metadata": {},
   "outputs": [],
   "source": [
    "constexpr double potential_energy = 0.0;"
   ]
  },
  {
   "cell_type": "code",
   "execution_count": null,
   "id": "645d2667-8a79-488e-813c-5fcc86e15d32",
   "metadata": {},
   "outputs": [],
   "source": []
  },
  {
   "cell_type": "code",
   "execution_count": null,
   "id": "9ca288e3-aa41-4f05-9ba1-dbb7d65fa0a1",
   "metadata": {},
   "outputs": [],
   "source": [
    "constexpr double delta_x = .01;"
   ]
  },
  {
   "cell_type": "code",
   "execution_count": null,
   "id": "25519ef8-bfcd-48c7-a81b-918ed97d39af",
   "metadata": {},
   "outputs": [],
   "source": [
    "constexpr size_t samples = 1000;"
   ]
  },
  {
   "cell_type": "code",
   "execution_count": null,
   "id": "bd4f972a-c943-4fec-bd29-eafdf524fd49",
   "metadata": {},
   "outputs": [],
   "source": [
    "using DataShapeType = xt::xshape< samples >;"
   ]
  },
  {
   "cell_type": "code",
   "execution_count": null,
   "id": "43b62c5a-0cd9-43a5-adeb-861ee8d5092b",
   "metadata": {},
   "outputs": [],
   "source": [
    "using DataTensorType = xt::xtensor_fixed< double, DataShapeType >;"
   ]
  },
  {
   "cell_type": "code",
   "execution_count": null,
   "id": "0832074c-8210-4bdb-b717-200787ed62d1",
   "metadata": {},
   "outputs": [],
   "source": [
    "DataTensorType x = xt::arange< double >( 0., samples, .01 );"
   ]
  },
  {
   "cell_type": "code",
   "execution_count": null,
   "id": "46fee646-7775-4f27-970b-e723ef7ff4ca",
   "metadata": {},
   "outputs": [],
   "source": []
  },
  {
   "cell_type": "code",
   "execution_count": null,
   "id": "3b501195-133f-41e4-98a9-307a9dc777a1",
   "metadata": {},
   "outputs": [],
   "source": [
    "constexpr double calculate_k_constant( \n",
    "        double potential_energy_ = potential_energy, \n",
    "        double total_energy_ = total_energy, \n",
    "        double mass_ = mass, \n",
    "        double hbar_ = hbar \n",
    "    )\n",
    "{\n",
    "    return 2.0 * mass_ * ( total_energy_ - potential_energy_ ) / hbar_;\n",
    "}"
   ]
  },
  {
   "cell_type": "code",
   "execution_count": null,
   "id": "156f05b6-3edb-4829-ab37-bcd294984ffe",
   "metadata": {},
   "outputs": [],
   "source": []
  },
  {
   "cell_type": "code",
   "execution_count": null,
   "id": "44dc6fd0-796f-4e3c-92f7-5b72f14ad8ed",
   "metadata": {},
   "outputs": [],
   "source": []
  },
  {
   "cell_type": "code",
   "execution_count": null,
   "id": "4a803160-847a-49cb-a1c5-7d4ce0a3bee5",
   "metadata": {},
   "outputs": [],
   "source": [
    "constexpr double k = calculate_k_constant();"
   ]
  },
  {
   "cell_type": "code",
   "execution_count": null,
   "id": "fe80cfa3-0843-40eb-824c-d3ed820f4df7",
   "metadata": {},
   "outputs": [],
   "source": []
  },
  {
   "cell_type": "code",
   "execution_count": null,
   "id": "37bb9ebf-3b31-4a73-b98b-48632a1d62e0",
   "metadata": {},
   "outputs": [],
   "source": [
    "auto simulate( DataTensorType const& x, const double k, double delta_x_ = delta_x )\n",
    "{\n",
    "    return xt::cumsum( -x * k * delta_x );\n",
    "}"
   ]
  },
  {
   "cell_type": "code",
   "execution_count": null,
   "id": "50aa5d27-01d8-46bd-8b08-307a29aacc59",
   "metadata": {},
   "outputs": [],
   "source": []
  },
  {
   "cell_type": "code",
   "execution_count": null,
   "id": "112e7227-1ce8-49d3-ba0c-a51b433d8807",
   "metadata": {},
   "outputs": [],
   "source": []
  },
  {
   "cell_type": "code",
   "execution_count": null,
   "id": "62dc652b-1e99-4082-bee7-53fc0a7ed29c",
   "metadata": {},
   "outputs": [],
   "source": []
  }
 ],
 "metadata": {
  "kernelspec": {
   "display_name": "C++17",
   "language": "C++17",
   "name": "xcpp17"
  },
  "language_info": {
   "codemirror_mode": "text/x-c++src",
   "file_extension": ".cpp",
   "mimetype": "text/x-c++src",
   "name": "c++",
   "version": "17"
  }
 },
 "nbformat": 4,
 "nbformat_minor": 5
}
