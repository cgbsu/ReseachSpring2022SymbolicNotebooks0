{
 "cells": [
  {
   "cell_type": "code",
   "execution_count": 1,
   "id": "57b9a3f9-0cda-4138-8204-71c7b89ac2eb",
   "metadata": {},
   "outputs": [],
   "source": [
    "#include <iostream>\n",
    "#include <vector>\n",
    "#include <string>"
   ]
  },
  {
   "cell_type": "code",
   "execution_count": 2,
   "id": "3abf44ab-2df0-41f3-97d8-b5229ab5a33c",
   "metadata": {},
   "outputs": [],
   "source": [
    "#include <symengine/basic.h>\n",
    "#include <symengine/add.h>\n",
    "#include <symengine/symbol.h>\n",
    "#include <symengine/integer.h>\n",
    "#include <symengine/mul.h>\n",
    "#include <symengine/pow.h>\n",
    "#include <symengine/functions.h>\n",
    "#include <symengine/expression.h>"
   ]
  },
  {
   "cell_type": "code",
   "execution_count": 2,
   "id": "f70a5709-4da0-4d14-a495-34cd81ecdc09",
   "metadata": {},
   "outputs": [
    {
     "name": "stderr",
     "output_type": "stream",
     "text": [
      "\u001b[1minput_line_8:1:10: \u001b[0m\u001b[0;1;31mfatal error: \u001b[0m\u001b[1m'xtensor/xbuilder.hpp' file not found\u001b[0m\n",
      "#include <xtensor/xbuilder.hpp>\n",
      "\u001b[0;1;32m         ^~~~~~~~~~~~~~~~~~~~~~\n",
      "\u001b[0m"
     ]
    },
    {
     "ename": "Interpreter Error",
     "evalue": "",
     "output_type": "error",
     "traceback": [
      "Interpreter Error: "
     ]
    }
   ],
   "source": [
    "#include <xtensor/xbuilder.hpp>\n",
    "#include <xtensor/xarray.hpp>\n",
    "#include <xtensor/xio.hpp>\n",
    "#include <xtensor/xview.hpp>\n",
    "#include <xtensor/xtensor.hpp>\n",
    "#include <xtensor/xfixed.hpp>"
   ]
  },
  {
   "cell_type": "code",
   "execution_count": 1,
   "id": "d2456cbd-8dae-4dbd-b7de-60b9467b484d",
   "metadata": {},
   "outputs": [
    {
     "name": "stderr",
     "output_type": "stream",
     "text": [
      "\u001b[1minput_line_7:1:10: \u001b[0m\u001b[0;1;31mfatal error: \u001b[0m\u001b[1m'xplot/xfigure.hpp' file not found\u001b[0m\n",
      "#include <xplot/xfigure.hpp>\n",
      "\u001b[0;1;32m         ^~~~~~~~~~~~~~~~~~~\n",
      "\u001b[0m"
     ]
    },
    {
     "ename": "Interpreter Error",
     "evalue": "",
     "output_type": "error",
     "traceback": [
      "Interpreter Error: "
     ]
    }
   ],
   "source": [
    "#include <xplot/xfigure.hpp>\n",
    "#include <xplot/xmarks.hpp>\n",
    "#include <xplot/xaxes.hpp>"
   ]
  },
  {
   "cell_type": "code",
   "execution_count": null,
   "id": "5b76048a-43c5-4702-8ff0-cba38bf4767f",
   "metadata": {},
   "outputs": [],
   "source": []
  },
  {
   "cell_type": "code",
   "execution_count": null,
   "id": "1dd19991-d3d5-4184-a6dd-b9d20e1d0c01",
   "metadata": {},
   "outputs": [],
   "source": [
    "constexpr double total_energy = 1.0;"
   ]
  },
  {
   "cell_type": "code",
   "execution_count": null,
   "id": "00876789-e01e-47a6-b28e-05992302690a",
   "metadata": {},
   "outputs": [],
   "source": [
    "constexpr double hbar = 1.0;"
   ]
  },
  {
   "cell_type": "code",
   "execution_count": null,
   "id": "8cbb75ac-fce5-4815-a2d0-d56602e59723",
   "metadata": {},
   "outputs": [],
   "source": [
    "constexpr double mass = 1.0;"
   ]
  },
  {
   "cell_type": "code",
   "execution_count": null,
   "id": "150fc60f-2494-490c-ad9f-bbcddfb55048",
   "metadata": {},
   "outputs": [],
   "source": [
    "constexpr double potential_energy = 0.0;"
   ]
  },
  {
   "cell_type": "code",
   "execution_count": null,
   "id": "645d2667-8a79-488e-813c-5fcc86e15d32",
   "metadata": {},
   "outputs": [],
   "source": []
  },
  {
   "cell_type": "code",
   "execution_count": null,
   "id": "9ca288e3-aa41-4f05-9ba1-dbb7d65fa0a1",
   "metadata": {},
   "outputs": [],
   "source": [
    "constexpr double delta_x = .01;"
   ]
  },
  {
   "cell_type": "code",
   "execution_count": null,
   "id": "25519ef8-bfcd-48c7-a81b-918ed97d39af",
   "metadata": {},
   "outputs": [],
   "source": [
    "constexpr size_t samples = 1000;"
   ]
  },
  {
   "cell_type": "code",
   "execution_count": null,
   "id": "bd4f972a-c943-4fec-bd29-eafdf524fd49",
   "metadata": {},
   "outputs": [],
   "source": [
    "using DataShapeType = xt::xshape< samples >;"
   ]
  },
  {
   "cell_type": "code",
   "execution_count": null,
   "id": "43b62c5a-0cd9-43a5-adeb-861ee8d5092b",
   "metadata": {},
   "outputs": [],
   "source": [
    "using DataTensorType = xt::xtensor_fixed< double, DataShapeType >;"
   ]
  },
  {
   "cell_type": "code",
   "execution_count": null,
   "id": "0832074c-8210-4bdb-b717-200787ed62d1",
   "metadata": {},
   "outputs": [],
   "source": [
    "DataTensorType x = xt::arange< double >( 0., samples, .01 );"
   ]
  },
  {
   "cell_type": "code",
   "execution_count": null,
   "id": "46fee646-7775-4f27-970b-e723ef7ff4ca",
   "metadata": {},
   "outputs": [],
   "source": []
  },
  {
   "cell_type": "code",
   "execution_count": null,
   "id": "3b501195-133f-41e4-98a9-307a9dc777a1",
   "metadata": {},
   "outputs": [],
   "source": [
    "constexpr double calculate_k_constant( \n",
    "        double potential_energy_ = potential_energy, \n",
    "        double total_energy_ = total_energy, \n",
    "        double mass_ = mass, \n",
    "        double hbar_ = hbar \n",
    "    )\n",
    "{\n",
    "    return 2.0 * mass_ * ( total_energy_ - potential_energy_ ) / hbar_;\n",
    "}"
   ]
  },
  {
   "cell_type": "code",
   "execution_count": null,
   "id": "156f05b6-3edb-4829-ab37-bcd294984ffe",
   "metadata": {},
   "outputs": [],
   "source": []
  },
  {
   "cell_type": "code",
   "execution_count": null,
   "id": "44dc6fd0-796f-4e3c-92f7-5b72f14ad8ed",
   "metadata": {},
   "outputs": [],
   "source": []
  },
  {
   "cell_type": "code",
   "execution_count": null,
   "id": "4a803160-847a-49cb-a1c5-7d4ce0a3bee5",
   "metadata": {},
   "outputs": [],
   "source": [
    "constexpr double k = calculate_k_constant();"
   ]
  },
  {
   "cell_type": "code",
   "execution_count": null,
   "id": "fe80cfa3-0843-40eb-824c-d3ed820f4df7",
   "metadata": {},
   "outputs": [],
   "source": []
  },
  {
   "cell_type": "code",
   "execution_count": 5,
   "id": "50aa5d27-01d8-46bd-8b08-307a29aacc59",
   "metadata": {},
   "outputs": [],
   "source": [
    "using VerticalMatrixShape = xt::xshape< 1, 2 >;\n",
    "using HorizontalMatrixShape = xt::xshape< 2, 1 >;\n",
    "using TransformMatrixShape = xt::xshape< 2, 2 >;\n",
    "\n",
    "using HorizontalMatrix = xt::xtensor_fixed< double, HorizontalMatrixShape >;\n",
    "using VerticalMatrix = xt::xtensor_fixed< double, VerticalMatrixShape >;\n",
    "using Transform = xt::xtensor_fixed< double, TransformMatrixShape >;"
   ]
  },
  {
   "cell_type": "code",
   "execution_count": null,
   "id": "112e7227-1ce8-49d3-ba0c-a51b433d8807",
   "metadata": {},
   "outputs": [],
   "source": []
  },
  {
   "cell_type": "code",
   "execution_count": 10,
   "id": "c840ea85-62de-4e4c-941c-e40169af9f4d",
   "metadata": {},
   "outputs": [],
   "source": [
    "struct Region\n",
    "{\n",
    "    const double potential, transmission_ratio, \n",
    "            reflection_ratio, wave_vector;\n",
    "    Region( \n",
    "            const double potential, \n",
    "            const double transmission_ratio, \n",
    "            const double reflection_ratio, \n",
    "            const double wave_vector \n",
    "        ) : potential( potential ), transmission_ratio( transmission_ratio ), \n",
    "                reflection_ratio( reflection_ratio ), wave_vector( wave_vector ) {}\n",
    "    Region( Region const& other ) = default;\n",
    "    Region( Region&& other ) = default;\n",
    "    Region& operator=( Region const& other ) = default;\n",
    "    Region& operator=( Region&& other ) = default;\n",
    "};"
   ]
  },
  {
   "cell_type": "code",
   "execution_count": null,
   "id": "14d6b12c-1367-496f-8793-55fc90de7c20",
   "metadata": {},
   "outputs": [],
   "source": []
  },
  {
   "cell_type": "code",
   "execution_count": null,
   "id": "5e103c7a-454f-4929-811b-5b93f851de2c",
   "metadata": {},
   "outputs": [],
   "source": []
  },
  {
   "cell_type": "code",
   "execution_count": 11,
   "id": "62dc652b-1e99-4082-bee7-53fc0a7ed29c",
   "metadata": {},
   "outputs": [],
   "source": [
    "Transform transmission_matrix( const Region region ) {\n",
    "    return ( 1.0 / region.transmission_ratio ) * Transform{ { 1.0, region.reflection_ratio }, { region.reflection_ratio, 1.0 } };\n",
    "}"
   ]
  },
  {
   "cell_type": "code",
   "execution_count": 8,
   "id": "353efe28-afe3-4b92-af31-7e27df121e74",
   "metadata": {},
   "outputs": [
    {
     "name": "stderr",
     "output_type": "stream",
     "text": [
      "\u001b[1minput_line_14:2:2: \u001b[0m\u001b[0;1;31merror: \u001b[0m\u001b[1mreference to overloaded function could not be resolved; did you mean to call it?\u001b[0m\n",
      " xt::exp\n",
      "\u001b[0;1;32m ^~~~~~~\n",
      "\u001b[0m\u001b[1m/opt/conda/include/xtensor/xmath.hpp:875:17: \u001b[0m\u001b[0;1;30mnote: \u001b[0mpossible target for call\u001b[0m\n",
      "    inline auto exp(E&& e) noexcept\n",
      "\u001b[0;1;32m                ^\n",
      "\u001b[0m"
     ]
    },
    {
     "ename": "Interpreter Error",
     "evalue": "",
     "output_type": "error",
     "traceback": [
      "Interpreter Error: "
     ]
    }
   ],
   "source": [
    "VerticalMatrixShape make_state_vector( const Region region )\n",
    "{\n",
    "    xt::exp( region.wave_vector * \n",
    "}"
   ]
  },
  {
   "cell_type": "code",
   "execution_count": null,
   "id": "a770f65e-f440-4861-9f37-8c84539b5f56",
   "metadata": {},
   "outputs": [],
   "source": []
  }
 ],
 "metadata": {
  "kernelspec": {
   "display_name": "C++17",
   "language": "C++17",
   "name": "xcpp17"
  },
  "language_info": {
   "codemirror_mode": "text/x-c++src",
   "file_extension": ".cpp",
   "mimetype": "text/x-c++src",
   "name": "c++",
   "version": "17"
  }
 },
 "nbformat": 4,
 "nbformat_minor": 5
}
