{
 "cells": [
  {
   "cell_type": "code",
   "execution_count": 3,
   "id": "eebab224-47a7-484a-ad0e-69a44ef57f1a",
   "metadata": {},
   "outputs": [],
   "source": [
    "#include <iostream>"
   ]
  },
  {
   "cell_type": "code",
   "execution_count": 4,
   "id": "ac483d63-940e-4249-85d4-b0808d6729ad",
   "metadata": {},
   "outputs": [],
   "source": [
    "#include <xtensor/xtensor.hpp>"
   ]
  },
  {
   "cell_type": "code",
   "execution_count": null,
   "id": "51dea086-6d5d-41ab-b3e3-581ef98bddfa",
   "metadata": {},
   "outputs": [],
   "source": []
  },
  {
   "cell_type": "code",
   "execution_count": 8,
   "id": "b4e98a34-fb2c-4375-94a3-d23d39af1fb6",
   "metadata": {},
   "outputs": [],
   "source": [
    "using HorizontalDimensionsType = xt::xshape< 1, 2 >;"
   ]
  },
  {
   "cell_type": "code",
   "execution_count": 9,
   "id": "ff4846b7-e958-4280-aaf8-9743dae26edb",
   "metadata": {},
   "outputs": [],
   "source": [
    "using VerticalDimensionsType = xt::xshape< 2, 1 >;"
   ]
  },
  {
   "cell_type": "code",
   "execution_count": null,
   "id": "120416c6-fece-4778-aa12-01ae98f57a92",
   "metadata": {},
   "outputs": [],
   "source": []
  }
 ],
 "metadata": {
  "kernelspec": {
   "display_name": "C++17",
   "language": "C++17",
   "name": "xcpp17"
  },
  "language_info": {
   "codemirror_mode": "text/x-c++src",
   "file_extension": ".cpp",
   "mimetype": "text/x-c++src",
   "name": "c++",
   "version": "17"
  }
 },
 "nbformat": 4,
 "nbformat_minor": 5
}
