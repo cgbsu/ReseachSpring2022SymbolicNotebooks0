{
 "cells": [
  {
   "cell_type": "code",
   "execution_count": 1,
   "id": "8c69371e-3b59-4f37-a0c0-390f1f253d4f",
   "metadata": {},
   "outputs": [],
   "source": [
    "from new_attempt.stateless import *"
   ]
  },
  {
   "cell_type": "code",
   "execution_count": 2,
   "id": "48b8b2f9-72d7-4b08-be7c-779405f9e25b",
   "metadata": {},
   "outputs": [],
   "source": [
    "preliminaryData = createPreliminaryData(3)"
   ]
  },
  {
   "cell_type": "code",
   "execution_count": 3,
   "id": "175bde70-2ee7-4ceb-8461-7d46afcaf3db",
   "metadata": {
    "tags": []
   },
   "outputs": [
    {
     "data": {
      "text/plain": [
       "{'transmissionReflectionGenerator': <function new_attempt.stateless.makeCoefficentsFromHarmonicConstants(from_: new_attempt.stateless.RegionSymbols, to: new_attempt.stateless.RegionSymbols) -> dict>,\n",
       " 'regionSymbols': [<new_attempt.stateless.RegionSymbols at 0x7f92e4c6f670>,\n",
       "  <new_attempt.stateless.RegionSymbols at 0x7f92363e5300>,\n",
       "  <new_attempt.stateless.RegionSymbols at 0x7f92363e57e0>,\n",
       "  <new_attempt.stateless.RegionSymbols at 0x7f92363e5c30>,\n",
       "  <new_attempt.stateless.RegionSymbols at 0x7f92363e6080>],\n",
       " 'waveEquations': [Eq(V_0*psi_0(x) - hbarX**2*Derivative(psi_0(x), (x, 2))/(2*m), E_{total}*psi_0(x)),\n",
       "  Eq(V_1*psi_1(x) - hbarX**2*Derivative(psi_1(x), (x, 2))/(2*m), E_{total}*psi_1(x)),\n",
       "  Eq(V_2*psi_2(x) - hbarX**2*Derivative(psi_2(x), (x, 2))/(2*m), E_{total}*psi_2(x))],\n",
       " 'normalizations': [Eq(Integral(psi_0(x)*conjugate(psi_0(x)), (x, L_-1, L_0)), N_0),\n",
       "  Eq(Integral(psi_1(x)*conjugate(psi_1(x)), (x, L_0, L_1)), N_1),\n",
       "  Eq(Integral(psi_2(x)*conjugate(psi_2(x)), (x, L_1, L_2)), N_2)],\n",
       " 'generalSolutions': [{'boundries': {psi_0(L_-1): B_0, psi_0(L_0): B_1},\n",
       "   'harmonicConstantEquation': Eq(k_0, sqrt(2)*sqrt(m)*sqrt(-E_{total} + V_0)/hbarX),\n",
       "   'generalSolution': Eq(psi_0(x), (B_0*exp(L_-1*k_0)/(exp(2*L_-1*k_0) - exp(2*L_0*k_0)) - B_1*exp(L_0*k_0)/(exp(2*L_-1*k_0) - exp(2*L_0*k_0)))*exp(k_0*x) + (-B_0*exp(L_-1*k_0)*exp(2*L_0*k_0)/(exp(2*L_-1*k_0) - exp(2*L_0*k_0)) + B_1*exp(2*L_-1*k_0)*exp(L_0*k_0)/(exp(2*L_-1*k_0) - exp(2*L_0*k_0)))*exp(-k_0*x))},\n",
       "  {'boundries': {psi_1(L_0): B_1, psi_1(L_1): B_2},\n",
       "   'harmonicConstantEquation': Eq(k_1, sqrt(2)*sqrt(m)*sqrt(-E_{total} + V_1)/hbarX),\n",
       "   'generalSolution': Eq(psi_1(x), (B_1*exp(L_0*k_1)/(exp(2*L_0*k_1) - exp(2*L_1*k_1)) - B_2*exp(L_1*k_1)/(exp(2*L_0*k_1) - exp(2*L_1*k_1)))*exp(k_1*x) + (-B_1*exp(L_0*k_1)*exp(2*L_1*k_1)/(exp(2*L_0*k_1) - exp(2*L_1*k_1)) + B_2*exp(2*L_0*k_1)*exp(L_1*k_1)/(exp(2*L_0*k_1) - exp(2*L_1*k_1)))*exp(-k_1*x))},\n",
       "  {'boundries': {psi_2(L_1): B_2, psi_2(L_2): B_3},\n",
       "   'harmonicConstantEquation': Eq(k_2, sqrt(2)*sqrt(m)*sqrt(-E_{total} + V_2)/hbarX),\n",
       "   'generalSolution': Eq(psi_2(x), (B_2*exp(L_1*k_2)/(exp(2*L_1*k_2) - exp(2*L_2*k_2)) - B_3*exp(L_2*k_2)/(exp(2*L_1*k_2) - exp(2*L_2*k_2)))*exp(k_2*x) + (-B_2*exp(L_1*k_2)*exp(2*L_2*k_2)/(exp(2*L_1*k_2) - exp(2*L_2*k_2)) + B_3*exp(2*L_1*k_2)*exp(L_2*k_2)/(exp(2*L_1*k_2) - exp(2*L_2*k_2)))*exp(-k_2*x))}]}"
      ]
     },
     "execution_count": 3,
     "metadata": {},
     "output_type": "execute_result"
    }
   ],
   "source": [
    "preliminaryData"
   ]
  },
  {
   "cell_type": "code",
   "execution_count": 4,
   "id": "daeb7e62-70cb-450b-9777-3748320f79a5",
   "metadata": {},
   "outputs": [
    {
     "name": "stdout",
     "output_type": "stream",
     "text": [
      "to:  {'inputs': ['psi_0_tOPL_N1CP', 'psi_0_rOPL_N1CP'], 'matrix': Matrix([\n",
      "[psi_0_t(L_-1)],\n",
      "[psi_0_r(L_-1)]])}\n",
      "from:  {'inputs': ['psi_1_tOPL_0CP', 'psi_1_rOPL_0CP'], 'matrix': Matrix([\n",
      "[psi_1_t(L_0)],\n",
      "[psi_1_r(L_0)]])}\n",
      "to:  {'inputs': ['psi_1_tOPL_0CP', 'psi_1_rOPL_0CP'], 'matrix': Matrix([\n",
      "[psi_1_t(L_0)],\n",
      "[psi_1_r(L_0)]])}\n",
      "from:  {'inputs': ['psi_2_tOPL_1CP', 'psi_2_rOPL_1CP'], 'matrix': Matrix([\n",
      "[psi_2_t(L_1)],\n",
      "[psi_2_r(L_1)]])}\n",
      "to:  {'inputs': ['psi_2_tOPL_1CP', 'psi_2_rOPL_1CP'], 'matrix': Matrix([\n",
      "[psi_2_t(L_1)],\n",
      "[psi_2_r(L_1)]])}\n",
      "from:  {'inputs': ['psi_3_tOPL_2CP', 'psi_3_rOPL_2CP'], 'matrix': Matrix([\n",
      "[psi_3_t(L_2)],\n",
      "[psi_3_r(L_2)]])}\n",
      "Parametes\n"
     ]
    },
    {
     "data": {
      "text/plain": [
       "['B_0', 'B_1', 'L_0', 'L_N1', 'N_0', 'k_0']"
      ]
     },
     "metadata": {},
     "output_type": "display_data"
    },
    {
     "name": "stdout",
     "output_type": "stream",
     "text": [
      "Parametes\n"
     ]
    },
    {
     "data": {
      "text/plain": [
       "[]"
      ]
     },
     "metadata": {},
     "output_type": "display_data"
    },
    {
     "name": "stdout",
     "output_type": "stream",
     "text": [
      "Parametes\n"
     ]
    },
    {
     "data": {
      "text/plain": [
       "['L_0', 'L_N1', 'k_0']"
      ]
     },
     "metadata": {},
     "output_type": "display_data"
    },
    {
     "name": "stdout",
     "output_type": "stream",
     "text": [
      "Parametes\n"
     ]
    },
    {
     "data": {
      "text/plain": [
       "[]"
      ]
     },
     "metadata": {},
     "output_type": "display_data"
    },
    {
     "name": "stdout",
     "output_type": "stream",
     "text": [
      "Parametes\n"
     ]
    },
    {
     "data": {
      "text/plain": [
       "['B_0', 'B_1', 'L_0', 'L_N1', 'N_0', 'k_0']"
      ]
     },
     "metadata": {},
     "output_type": "display_data"
    },
    {
     "name": "stdout",
     "output_type": "stream",
     "text": [
      "Parametes\n"
     ]
    },
    {
     "data": {
      "text/plain": [
       "[]"
      ]
     },
     "metadata": {},
     "output_type": "display_data"
    },
    {
     "name": "stdout",
     "output_type": "stream",
     "text": [
      "Parametes\n"
     ]
    },
    {
     "data": {
      "text/plain": [
       "['L_0', 'L_N1', 'k_0']"
      ]
     },
     "metadata": {},
     "output_type": "display_data"
    },
    {
     "name": "stdout",
     "output_type": "stream",
     "text": [
      "Parametes\n"
     ]
    },
    {
     "data": {
      "text/plain": [
       "[]"
      ]
     },
     "metadata": {},
     "output_type": "display_data"
    },
    {
     "name": "stdout",
     "output_type": "stream",
     "text": [
      "Parametes\n"
     ]
    },
    {
     "data": {
      "text/plain": [
       "['B_0', 'B_1', 'L_0', 'L_N1', 'N_0', 'k_0']"
      ]
     },
     "metadata": {},
     "output_type": "display_data"
    },
    {
     "name": "stdout",
     "output_type": "stream",
     "text": [
      "Parametes\n"
     ]
    },
    {
     "data": {
      "text/plain": [
       "[]"
      ]
     },
     "metadata": {},
     "output_type": "display_data"
    },
    {
     "name": "stdout",
     "output_type": "stream",
     "text": [
      "Parametes\n"
     ]
    },
    {
     "data": {
      "text/plain": [
       "['L_0', 'L_N1', 'k_0']"
      ]
     },
     "metadata": {},
     "output_type": "display_data"
    },
    {
     "name": "stdout",
     "output_type": "stream",
     "text": [
      "Parametes\n"
     ]
    },
    {
     "data": {
      "text/plain": [
       "['L_0', 'L_N1', 'k_0']"
      ]
     },
     "metadata": {},
     "output_type": "display_data"
    },
    {
     "name": "stdout",
     "output_type": "stream",
     "text": [
      "Parametes\n"
     ]
    },
    {
     "data": {
      "text/plain": [
       "['B_0', 'B_1', 'L_0', 'L_N1', 'N_0', 'k_0']"
      ]
     },
     "metadata": {},
     "output_type": "display_data"
    },
    {
     "name": "stdout",
     "output_type": "stream",
     "text": [
      "Parametes\n"
     ]
    },
    {
     "data": {
      "text/plain": [
       "[]"
      ]
     },
     "metadata": {},
     "output_type": "display_data"
    },
    {
     "name": "stdout",
     "output_type": "stream",
     "text": [
      "Parametes\n"
     ]
    },
    {
     "data": {
      "text/plain": [
       "['L_0', 'L_N1', 'k_0']"
      ]
     },
     "metadata": {},
     "output_type": "display_data"
    },
    {
     "name": "stdout",
     "output_type": "stream",
     "text": [
      "Parametes\n"
     ]
    },
    {
     "data": {
      "text/plain": [
       "['L_0', 'L_N1', 'k_0']"
      ]
     },
     "metadata": {},
     "output_type": "display_data"
    },
    {
     "name": "stdout",
     "output_type": "stream",
     "text": [
      "Parametes\n"
     ]
    },
    {
     "data": {
      "text/plain": [
       "['B_1', 'B_2', 'L_0', 'L_1', 'N_1', 'k_1']"
      ]
     },
     "metadata": {},
     "output_type": "display_data"
    },
    {
     "name": "stdout",
     "output_type": "stream",
     "text": [
      "Parametes\n"
     ]
    },
    {
     "data": {
      "text/plain": [
       "[]"
      ]
     },
     "metadata": {},
     "output_type": "display_data"
    },
    {
     "name": "stdout",
     "output_type": "stream",
     "text": [
      "Parametes\n"
     ]
    },
    {
     "data": {
      "text/plain": [
       "['L_0', 'L_1', 'k_1']"
      ]
     },
     "metadata": {},
     "output_type": "display_data"
    },
    {
     "name": "stdout",
     "output_type": "stream",
     "text": [
      "Parametes\n"
     ]
    },
    {
     "data": {
      "text/plain": [
       "[]"
      ]
     },
     "metadata": {},
     "output_type": "display_data"
    },
    {
     "name": "stdout",
     "output_type": "stream",
     "text": [
      "Parametes\n"
     ]
    },
    {
     "data": {
      "text/plain": [
       "['B_1', 'B_2', 'L_0', 'L_1', 'N_1', 'k_1']"
      ]
     },
     "metadata": {},
     "output_type": "display_data"
    },
    {
     "name": "stdout",
     "output_type": "stream",
     "text": [
      "Parametes\n"
     ]
    },
    {
     "data": {
      "text/plain": [
       "[]"
      ]
     },
     "metadata": {},
     "output_type": "display_data"
    },
    {
     "name": "stdout",
     "output_type": "stream",
     "text": [
      "Parametes\n"
     ]
    },
    {
     "data": {
      "text/plain": [
       "['L_0', 'L_1', 'k_1']"
      ]
     },
     "metadata": {},
     "output_type": "display_data"
    },
    {
     "name": "stdout",
     "output_type": "stream",
     "text": [
      "Parametes\n"
     ]
    },
    {
     "data": {
      "text/plain": [
       "[]"
      ]
     },
     "metadata": {},
     "output_type": "display_data"
    },
    {
     "name": "stdout",
     "output_type": "stream",
     "text": [
      "Parametes\n"
     ]
    },
    {
     "data": {
      "text/plain": [
       "['B_1', 'B_2', 'L_0', 'L_1', 'N_1', 'k_1']"
      ]
     },
     "metadata": {},
     "output_type": "display_data"
    },
    {
     "name": "stdout",
     "output_type": "stream",
     "text": [
      "Parametes\n"
     ]
    },
    {
     "data": {
      "text/plain": [
       "[]"
      ]
     },
     "metadata": {},
     "output_type": "display_data"
    },
    {
     "name": "stdout",
     "output_type": "stream",
     "text": [
      "Parametes\n"
     ]
    },
    {
     "data": {
      "text/plain": [
       "['L_0', 'L_1', 'k_1']"
      ]
     },
     "metadata": {},
     "output_type": "display_data"
    },
    {
     "name": "stdout",
     "output_type": "stream",
     "text": [
      "Parametes\n"
     ]
    },
    {
     "data": {
      "text/plain": [
       "['L_0', 'L_1', 'k_1']"
      ]
     },
     "metadata": {},
     "output_type": "display_data"
    },
    {
     "name": "stdout",
     "output_type": "stream",
     "text": [
      "Parametes\n"
     ]
    },
    {
     "data": {
      "text/plain": [
       "['B_1', 'B_2', 'L_0', 'L_1', 'N_1', 'k_1']"
      ]
     },
     "metadata": {},
     "output_type": "display_data"
    },
    {
     "name": "stdout",
     "output_type": "stream",
     "text": [
      "Parametes\n"
     ]
    },
    {
     "data": {
      "text/plain": [
       "[]"
      ]
     },
     "metadata": {},
     "output_type": "display_data"
    },
    {
     "name": "stdout",
     "output_type": "stream",
     "text": [
      "Parametes\n"
     ]
    },
    {
     "data": {
      "text/plain": [
       "['L_0', 'L_1', 'k_1']"
      ]
     },
     "metadata": {},
     "output_type": "display_data"
    },
    {
     "name": "stdout",
     "output_type": "stream",
     "text": [
      "Parametes\n"
     ]
    },
    {
     "data": {
      "text/plain": [
       "['L_0', 'L_1', 'k_1']"
      ]
     },
     "metadata": {},
     "output_type": "display_data"
    },
    {
     "name": "stdout",
     "output_type": "stream",
     "text": [
      "Parametes\n"
     ]
    },
    {
     "data": {
      "text/plain": [
       "['B_2', 'B_3', 'L_1', 'L_2', 'N_2', 'k_2']"
      ]
     },
     "metadata": {},
     "output_type": "display_data"
    },
    {
     "name": "stdout",
     "output_type": "stream",
     "text": [
      "Parametes\n"
     ]
    },
    {
     "data": {
      "text/plain": [
       "[]"
      ]
     },
     "metadata": {},
     "output_type": "display_data"
    },
    {
     "name": "stdout",
     "output_type": "stream",
     "text": [
      "Parametes\n"
     ]
    },
    {
     "data": {
      "text/plain": [
       "['L_1', 'L_2', 'k_2']"
      ]
     },
     "metadata": {},
     "output_type": "display_data"
    },
    {
     "name": "stdout",
     "output_type": "stream",
     "text": [
      "Parametes\n"
     ]
    },
    {
     "data": {
      "text/plain": [
       "[]"
      ]
     },
     "metadata": {},
     "output_type": "display_data"
    },
    {
     "name": "stdout",
     "output_type": "stream",
     "text": [
      "Parametes\n"
     ]
    },
    {
     "data": {
      "text/plain": [
       "['B_2', 'B_3', 'L_1', 'L_2', 'N_2', 'k_2']"
      ]
     },
     "metadata": {},
     "output_type": "display_data"
    },
    {
     "name": "stdout",
     "output_type": "stream",
     "text": [
      "Parametes\n"
     ]
    },
    {
     "data": {
      "text/plain": [
       "[]"
      ]
     },
     "metadata": {},
     "output_type": "display_data"
    },
    {
     "name": "stdout",
     "output_type": "stream",
     "text": [
      "Parametes\n"
     ]
    },
    {
     "data": {
      "text/plain": [
       "['L_1', 'L_2', 'k_2']"
      ]
     },
     "metadata": {},
     "output_type": "display_data"
    },
    {
     "name": "stdout",
     "output_type": "stream",
     "text": [
      "Parametes\n"
     ]
    },
    {
     "data": {
      "text/plain": [
       "[]"
      ]
     },
     "metadata": {},
     "output_type": "display_data"
    },
    {
     "name": "stdout",
     "output_type": "stream",
     "text": [
      "Parametes\n"
     ]
    },
    {
     "data": {
      "text/plain": [
       "['B_2', 'B_3', 'L_1', 'L_2', 'N_2', 'k_2']"
      ]
     },
     "metadata": {},
     "output_type": "display_data"
    },
    {
     "name": "stdout",
     "output_type": "stream",
     "text": [
      "Parametes\n"
     ]
    },
    {
     "data": {
      "text/plain": [
       "[]"
      ]
     },
     "metadata": {},
     "output_type": "display_data"
    },
    {
     "name": "stdout",
     "output_type": "stream",
     "text": [
      "Parametes\n"
     ]
    },
    {
     "data": {
      "text/plain": [
       "['L_1', 'L_2', 'k_2']"
      ]
     },
     "metadata": {},
     "output_type": "display_data"
    },
    {
     "name": "stdout",
     "output_type": "stream",
     "text": [
      "Parametes\n"
     ]
    },
    {
     "data": {
      "text/plain": [
       "['L_1', 'L_2', 'k_2']"
      ]
     },
     "metadata": {},
     "output_type": "display_data"
    },
    {
     "name": "stdout",
     "output_type": "stream",
     "text": [
      "Parametes\n"
     ]
    },
    {
     "data": {
      "text/plain": [
       "['B_2', 'B_3', 'L_1', 'L_2', 'N_2', 'k_2']"
      ]
     },
     "metadata": {},
     "output_type": "display_data"
    },
    {
     "name": "stdout",
     "output_type": "stream",
     "text": [
      "Parametes\n"
     ]
    },
    {
     "data": {
      "text/plain": [
       "[]"
      ]
     },
     "metadata": {},
     "output_type": "display_data"
    },
    {
     "name": "stdout",
     "output_type": "stream",
     "text": [
      "Parametes\n"
     ]
    },
    {
     "data": {
      "text/plain": [
       "['L_1', 'L_2', 'k_2']"
      ]
     },
     "metadata": {},
     "output_type": "display_data"
    },
    {
     "name": "stdout",
     "output_type": "stream",
     "text": [
      "Parametes\n"
     ]
    },
    {
     "data": {
      "text/plain": [
       "['L_1', 'L_2', 'k_2']"
      ]
     },
     "metadata": {},
     "output_type": "display_data"
    }
   ],
   "source": [
    "regionFunctions = generateRegionFunctions(preliminaryData)"
   ]
  },
  {
   "cell_type": "code",
   "execution_count": 5,
   "id": "3d02b0fc-1361-4959-9ae6-ebbe13fa4a83",
   "metadata": {},
   "outputs": [],
   "source": [
    "#regionFunctions"
   ]
  },
  {
   "cell_type": "code",
   "execution_count": null,
   "id": "62356c64-6b91-42ef-9f6d-44f105f3ca03",
   "metadata": {},
   "outputs": [],
   "source": []
  },
  {
   "cell_type": "code",
   "execution_count": 6,
   "id": "fa3504c7-eaf6-4d51-b8fe-6db2829e1005",
   "metadata": {},
   "outputs": [],
   "source": [
    "testBasicParameters = {\n",
    "    \"V_0\" : 1, \n",
    "    \"V_1\" : 1, \n",
    "    \"V_2\" : 1, \n",
    "    \"L_0\" : 1, \n",
    "    \"L_1\" : 1, \n",
    "    \"L_2\" : 2, \n",
    "    \"N_0\" : .1, \n",
    "    \"N_1\" : .2, \n",
    "    \"N_2\" : .7, \n",
    "    \"m\" : 1, \n",
    "    \"E_OCBtotalCCB\" : .5, \n",
    "    \"E_total\" : .5, \n",
    "    \"hbarX\" : 1, \n",
    "    \"k_3\" : 1, ###### FOR TESTING ONLY\n",
    "    \"L_N1\" : 0, \n",
    "    \"B_3\" : 0\n",
    "}"
   ]
  },
  {
   "cell_type": "code",
   "execution_count": null,
   "id": "3a7b6f15-570e-4577-a04d-7144f113fc5b",
   "metadata": {},
   "outputs": [],
   "source": []
  },
  {
   "cell_type": "code",
   "execution_count": null,
   "id": "00ae89c4-b57f-4192-9023-54266004f98d",
   "metadata": {},
   "outputs": [],
   "source": []
  },
  {
   "cell_type": "code",
   "execution_count": null,
   "id": "90905704-0dc0-415b-a45c-139b534098d7",
   "metadata": {},
   "outputs": [],
   "source": []
  },
  {
   "cell_type": "code",
   "execution_count": 7,
   "id": "ded0d542-3707-420e-bac7-40e716db3852",
   "metadata": {},
   "outputs": [
    {
     "name": "stdout",
     "output_type": "stream",
     "text": [
      "{'V_0': 1, 'V_1': 1, 'V_2': 1, 'L_0': 1, 'L_1': 1, 'L_2': 2, 'N_0': 0.1, 'N_1': 0.2, 'N_2': 0.7, 'm': 1, 'E_OCBtotalCCB': 0.5, 'E_total': 0.5, 'hbarX': 1, 'k_3': 1, 'L_N1': 0, 'B_2': nan, 'B_1': nan, 'B_0': nan, 'k_0': 1.0000000000000002, 'k_1': 1.0000000000000002, 'k_2': 1.0000000000000002}\n"
     ]
    },
    {
     "name": "stderr",
     "output_type": "stream",
     "text": [
      "<lambdifygenerated-5>:2: RuntimeWarning: invalid value encountered in sqrt\n",
      "  return sqrt(R_3_2)*psi_3_rOPL_2CP/sqrt(conjugate(T_3_2)) + psi_3_tOPL_2CP*(-sqrt(R_3_2)*sqrt(conjugate(R_3_2))/sqrt(conjugate(T_3_2)) + sqrt(T_3_2))\n",
      "<lambdifygenerated-6>:2: RuntimeWarning: invalid value encountered in sqrt\n",
      "  return psi_3_rOPL_2CP/sqrt(conjugate(T_3_2)) - psi_3_tOPL_2CP*sqrt(conjugate(R_3_2))/sqrt(conjugate(T_3_2))\n"
     ]
    },
    {
     "ename": "KeyError",
     "evalue": "'B_3'",
     "output_type": "error",
     "traceback": [
      "\u001b[0;31m---------------------------------------------------------------------------\u001b[0m",
      "\u001b[0;31mKeyError\u001b[0m                                  Traceback (most recent call last)",
      "Input \u001b[0;32mIn [7]\u001b[0m, in \u001b[0;36m<cell line: 1>\u001b[0;34m()\u001b[0m\n\u001b[0;32m----> 1\u001b[0m constants \u001b[38;5;241m=\u001b[39m \u001b[43mcomputeSimulationConstants\u001b[49m\u001b[43m(\u001b[49m\u001b[43mpreliminaryData\u001b[49m\u001b[43m,\u001b[49m\u001b[43m \u001b[49m\u001b[43mregionFunctions\u001b[49m\u001b[43m,\u001b[49m\u001b[43m \u001b[49m\u001b[43mtestBasicParameters\u001b[49m\u001b[43m,\u001b[49m\u001b[43m \u001b[49m\u001b[38;5;241;43m1\u001b[39;49m\u001b[43m,\u001b[49m\u001b[43m \u001b[49m\u001b[38;5;241;43m1\u001b[39;49m\u001b[43m)\u001b[49m\n",
      "File \u001b[0;32m~/work/numerical_py/new_attempt/stateless.py:1018\u001b[0m, in \u001b[0;36mcomputeSimulationConstants\u001b[0;34m(preliminaryData, regionFunctions, basicArguments, initialTransmission, initialReflection)\u001b[0m\n\u001b[1;32m   1011\u001b[0m boundryIndexedTransfers \u001b[38;5;241m=\u001b[39m makeBoundryMapping(\n\u001b[1;32m   1012\u001b[0m         preliminaryData[\u001b[38;5;124m\"\u001b[39m\u001b[38;5;124mregionSymbols\u001b[39m\u001b[38;5;124m\"\u001b[39m], \n\u001b[1;32m   1013\u001b[0m         transfers\n\u001b[1;32m   1014\u001b[0m     )\n\u001b[1;32m   1015\u001b[0m \u001b[38;5;28mprint\u001b[39m(\n\u001b[1;32m   1016\u001b[0m         basicArguments \u001b[38;5;241m|\u001b[39m boundryIndexedTransfers \u001b[38;5;241m|\u001b[39m harmonicConstants\n\u001b[1;32m   1017\u001b[0m     )\n\u001b[0;32m-> 1018\u001b[0m amplitudeConstants \u001b[38;5;241m=\u001b[39m \u001b[43mcomputeAmplitudeConstants\u001b[49m\u001b[43m(\u001b[49m\n\u001b[1;32m   1019\u001b[0m \u001b[43m        \u001b[49m\u001b[43mregionFunctions\u001b[49m\u001b[43m,\u001b[49m\u001b[43m \u001b[49m\n\u001b[1;32m   1020\u001b[0m \u001b[43m        \u001b[49m\u001b[43mbasicArguments\u001b[49m\u001b[43m \u001b[49m\u001b[38;5;241;43m|\u001b[39;49m\u001b[43m \u001b[49m\u001b[43mboundryIndexedTransfers\u001b[49m\u001b[43m \u001b[49m\u001b[38;5;241;43m|\u001b[39;49m\u001b[43m \u001b[49m\u001b[43mharmonicConstants\u001b[49m\n\u001b[1;32m   1021\u001b[0m \u001b[43m    \u001b[49m\u001b[43m)\u001b[49m\n\u001b[1;32m   1022\u001b[0m \u001b[38;5;28;01mreturn\u001b[39;00m {\n\u001b[1;32m   1023\u001b[0m         \u001b[38;5;124m\"\u001b[39m\u001b[38;5;124mharmonicConstants\u001b[39m\u001b[38;5;124m\"\u001b[39m : harmonicConstants, \n\u001b[1;32m   1024\u001b[0m         \u001b[38;5;124m\"\u001b[39m\u001b[38;5;124mtransfers\u001b[39m\u001b[38;5;124m\"\u001b[39m : transfers, \n\u001b[1;32m   1025\u001b[0m         \u001b[38;5;124m\"\u001b[39m\u001b[38;5;124mboundryIndexedTransfers\u001b[39m\u001b[38;5;124m\"\u001b[39m : boundryIndexedTransfers, \n\u001b[1;32m   1026\u001b[0m         \u001b[38;5;124m\"\u001b[39m\u001b[38;5;124mamplitudeConstants\u001b[39m\u001b[38;5;124m\"\u001b[39m : amplitudeConstants\n\u001b[1;32m   1027\u001b[0m     }\n",
      "File \u001b[0;32m~/work/numerical_py/new_attempt/stateless.py:984\u001b[0m, in \u001b[0;36mcomputeAmplitudeConstants\u001b[0;34m(regionFunctions, arguments)\u001b[0m\n\u001b[1;32m    980\u001b[0m     constantAmplitudeCalculators \\\n\u001b[1;32m    981\u001b[0m             \u001b[38;5;241m=\u001b[39m regionalConstantFunctions[\u001b[38;5;124m\"\u001b[39m\u001b[38;5;124mconstantAmplitudeCalculations\u001b[39m\u001b[38;5;124m\"\u001b[39m]\n\u001b[1;32m    982\u001b[0m     \u001b[38;5;28;01mfor\u001b[39;00m constant, solutions \u001b[38;5;129;01min\u001b[39;00m constantAmplitudeCalculators\u001b[38;5;241m.\u001b[39mitems(): \n\u001b[1;32m    983\u001b[0m          \u001b[38;5;66;03m#newSolution = constantAmplitudeCalculators[symbolicToIdentifier(constant)]\u001b[39;00m\n\u001b[0;32m--> 984\u001b[0m          amplitudeConstantValues[constant] \u001b[38;5;241m=\u001b[39m [\n\u001b[1;32m    985\u001b[0m                 solution[\u001b[38;5;124m\"\u001b[39m\u001b[38;5;124mfunction\u001b[39m\u001b[38;5;124m\"\u001b[39m](\u001b[38;5;241m*\u001b[39m\u001b[38;5;241m*\u001b[39marguments) \\\n\u001b[1;32m    986\u001b[0m                 \u001b[38;5;28;01mfor\u001b[39;00m solution \u001b[38;5;129;01min\u001b[39;00m solutions\n\u001b[1;32m    987\u001b[0m             ]\n\u001b[1;32m    988\u001b[0m \u001b[38;5;28;01mreturn\u001b[39;00m amplitudeConstantValues\n",
      "File \u001b[0;32m~/work/numerical_py/new_attempt/stateless.py:985\u001b[0m, in \u001b[0;36m<listcomp>\u001b[0;34m(.0)\u001b[0m\n\u001b[1;32m    980\u001b[0m     constantAmplitudeCalculators \\\n\u001b[1;32m    981\u001b[0m             \u001b[38;5;241m=\u001b[39m regionalConstantFunctions[\u001b[38;5;124m\"\u001b[39m\u001b[38;5;124mconstantAmplitudeCalculations\u001b[39m\u001b[38;5;124m\"\u001b[39m]\n\u001b[1;32m    982\u001b[0m     \u001b[38;5;28;01mfor\u001b[39;00m constant, solutions \u001b[38;5;129;01min\u001b[39;00m constantAmplitudeCalculators\u001b[38;5;241m.\u001b[39mitems(): \n\u001b[1;32m    983\u001b[0m          \u001b[38;5;66;03m#newSolution = constantAmplitudeCalculators[symbolicToIdentifier(constant)]\u001b[39;00m\n\u001b[1;32m    984\u001b[0m          amplitudeConstantValues[constant] \u001b[38;5;241m=\u001b[39m [\n\u001b[0;32m--> 985\u001b[0m                 \u001b[43msolution\u001b[49m\u001b[43m[\u001b[49m\u001b[38;5;124;43m\"\u001b[39;49m\u001b[38;5;124;43mfunction\u001b[39;49m\u001b[38;5;124;43m\"\u001b[39;49m\u001b[43m]\u001b[49m\u001b[43m(\u001b[49m\u001b[38;5;241;43m*\u001b[39;49m\u001b[38;5;241;43m*\u001b[39;49m\u001b[43marguments\u001b[49m\u001b[43m)\u001b[49m \\\n\u001b[1;32m    986\u001b[0m                 \u001b[38;5;28;01mfor\u001b[39;00m solution \u001b[38;5;129;01min\u001b[39;00m solutions\n\u001b[1;32m    987\u001b[0m             ]\n\u001b[1;32m    988\u001b[0m \u001b[38;5;28;01mreturn\u001b[39;00m amplitudeConstantValues\n",
      "File \u001b[0;32m~/work/numerical_py/new_attempt/stateless.py:765\u001b[0m, in \u001b[0;36mgenerateNumericalFunctionFromGeneralFunctionAndComponents.<locals>.calculate\u001b[0;34m(**kwargs)\u001b[0m\n\u001b[1;32m    763\u001b[0m generalFunctionArguments \u001b[38;5;241m=\u001b[39m {}\n\u001b[1;32m    764\u001b[0m \u001b[38;5;28;01mfor\u001b[39;00m componentName, component \u001b[38;5;129;01min\u001b[39;00m components\u001b[38;5;241m.\u001b[39mitems(): \n\u001b[0;32m--> 765\u001b[0m     componentArguments \u001b[38;5;241m=\u001b[39m {\n\u001b[1;32m    766\u001b[0m             parameter : kwargs[parameter] \\\n\u001b[1;32m    767\u001b[0m             \u001b[38;5;28;01mfor\u001b[39;00m parameter \u001b[38;5;129;01min\u001b[39;00m component[\u001b[38;5;124m\"\u001b[39m\u001b[38;5;124mparameters\u001b[39m\u001b[38;5;124m\"\u001b[39m]\n\u001b[1;32m    768\u001b[0m         }\n\u001b[1;32m    769\u001b[0m     generalFunctionArguments[componentName] \\\n\u001b[1;32m    770\u001b[0m             \u001b[38;5;241m=\u001b[39m component[\u001b[38;5;124m\"\u001b[39m\u001b[38;5;124mfunction\u001b[39m\u001b[38;5;124m\"\u001b[39m](\u001b[38;5;241m*\u001b[39m\u001b[38;5;241m*\u001b[39mcomponentArguments)\n\u001b[1;32m    771\u001b[0m \u001b[38;5;28;01mreturn\u001b[39;00m solution[\u001b[38;5;124m\"\u001b[39m\u001b[38;5;124mgeneralFunction\u001b[39m\u001b[38;5;124m\"\u001b[39m](\u001b[38;5;241m*\u001b[39m\u001b[38;5;241m*\u001b[39mgeneralFunctionArguments)\n",
      "File \u001b[0;32m~/work/numerical_py/new_attempt/stateless.py:766\u001b[0m, in \u001b[0;36m<dictcomp>\u001b[0;34m(.0)\u001b[0m\n\u001b[1;32m    763\u001b[0m generalFunctionArguments \u001b[38;5;241m=\u001b[39m {}\n\u001b[1;32m    764\u001b[0m \u001b[38;5;28;01mfor\u001b[39;00m componentName, component \u001b[38;5;129;01min\u001b[39;00m components\u001b[38;5;241m.\u001b[39mitems(): \n\u001b[1;32m    765\u001b[0m     componentArguments \u001b[38;5;241m=\u001b[39m {\n\u001b[0;32m--> 766\u001b[0m             parameter : \u001b[43mkwargs\u001b[49m\u001b[43m[\u001b[49m\u001b[43mparameter\u001b[49m\u001b[43m]\u001b[49m \\\n\u001b[1;32m    767\u001b[0m             \u001b[38;5;28;01mfor\u001b[39;00m parameter \u001b[38;5;129;01min\u001b[39;00m component[\u001b[38;5;124m\"\u001b[39m\u001b[38;5;124mparameters\u001b[39m\u001b[38;5;124m\"\u001b[39m]\n\u001b[1;32m    768\u001b[0m         }\n\u001b[1;32m    769\u001b[0m     generalFunctionArguments[componentName] \\\n\u001b[1;32m    770\u001b[0m             \u001b[38;5;241m=\u001b[39m component[\u001b[38;5;124m\"\u001b[39m\u001b[38;5;124mfunction\u001b[39m\u001b[38;5;124m\"\u001b[39m](\u001b[38;5;241m*\u001b[39m\u001b[38;5;241m*\u001b[39mcomponentArguments)\n\u001b[1;32m    771\u001b[0m \u001b[38;5;28;01mreturn\u001b[39;00m solution[\u001b[38;5;124m\"\u001b[39m\u001b[38;5;124mgeneralFunction\u001b[39m\u001b[38;5;124m\"\u001b[39m](\u001b[38;5;241m*\u001b[39m\u001b[38;5;241m*\u001b[39mgeneralFunctionArguments)\n",
      "\u001b[0;31mKeyError\u001b[0m: 'B_3'"
     ]
    }
   ],
   "source": [
    "constants = computeSimulationConstants(preliminaryData, regionFunctions, testBasicParameters, 1, 1)"
   ]
  },
  {
   "cell_type": "code",
   "execution_count": null,
   "id": "f6c182dd-b13d-49ae-93b6-f84808cf7700",
   "metadata": {},
   "outputs": [],
   "source": []
  },
  {
   "cell_type": "code",
   "execution_count": null,
   "id": "3f98d3a3-7e24-4b69-be90-f7c890e3ef08",
   "metadata": {},
   "outputs": [],
   "source": []
  },
  {
   "cell_type": "code",
   "execution_count": null,
   "id": "b1002b0e-4cf3-46d3-9a55-26061313e471",
   "metadata": {},
   "outputs": [],
   "source": []
  }
 ],
 "metadata": {
  "kernelspec": {
   "display_name": "Python 3 (ipykernel)",
   "language": "python",
   "name": "python3"
  },
  "language_info": {
   "codemirror_mode": {
    "name": "ipython",
    "version": 3
   },
   "file_extension": ".py",
   "mimetype": "text/x-python",
   "name": "python",
   "nbconvert_exporter": "python",
   "pygments_lexer": "ipython3",
   "version": "3.10.5"
  }
 },
 "nbformat": 4,
 "nbformat_minor": 5
}
