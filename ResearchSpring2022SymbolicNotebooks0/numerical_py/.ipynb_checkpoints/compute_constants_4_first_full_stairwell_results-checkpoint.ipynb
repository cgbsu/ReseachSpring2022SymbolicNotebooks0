{
 "cells": [
  {
   "cell_type": "code",
   "execution_count": 1,
   "id": "8c69371e-3b59-4f37-a0c0-390f1f253d4f",
   "metadata": {},
   "outputs": [],
   "source": [
    "from new_attempt.stateless import *"
   ]
  },
  {
   "cell_type": "code",
   "execution_count": 2,
   "id": "103ce23f-11ca-460a-b2a2-ee9237771a3e",
   "metadata": {},
   "outputs": [],
   "source": [
    "import numpy as np"
   ]
  },
  {
   "cell_type": "code",
   "execution_count": 3,
   "id": "ba03ff64-cf5a-4023-9e69-2853be990392",
   "metadata": {},
   "outputs": [],
   "source": [
    "import inspect"
   ]
  },
  {
   "cell_type": "code",
   "execution_count": 83,
   "id": "d26305ac-843e-45f2-9c56-96bef2aaf89c",
   "metadata": {},
   "outputs": [],
   "source": [
    "from matplotlib import pyplot as plt"
   ]
  },
  {
   "cell_type": "code",
   "execution_count": 4,
   "id": "48b8b2f9-72d7-4b08-be7c-779405f9e25b",
   "metadata": {},
   "outputs": [],
   "source": [
    "preliminaryData = createPreliminaryData(3)"
   ]
  },
  {
   "cell_type": "code",
   "execution_count": 5,
   "id": "175bde70-2ee7-4ceb-8461-7d46afcaf3db",
   "metadata": {
    "tags": []
   },
   "outputs": [
    {
     "data": {
      "text/plain": [
       "{'transmissionReflectionGenerator': <function new_attempt.stateless.makeCoefficentsFromHarmonicConstants(from_: new_attempt.stateless.RegionSymbols, to: new_attempt.stateless.RegionSymbols) -> dict>,\n",
       " 'regionSymbols': [<new_attempt.stateless.RegionSymbols at 0x7faa9b411960>,\n",
       "  <new_attempt.stateless.RegionSymbols at 0x7faa9b411e10>,\n",
       "  <new_attempt.stateless.RegionSymbols at 0x7faa9b412260>,\n",
       "  <new_attempt.stateless.RegionSymbols at 0x7faa9b4126b0>,\n",
       "  <new_attempt.stateless.RegionSymbols at 0x7faa9b412b00>],\n",
       " 'waveEquations': [Eq(V_0*psi_0(x) - hbarX**2*Derivative(psi_0(x), (x, 2))/(2*m), E_{total}*psi_0(x)),\n",
       "  Eq(V_1*psi_1(x) - hbarX**2*Derivative(psi_1(x), (x, 2))/(2*m), E_{total}*psi_1(x)),\n",
       "  Eq(V_2*psi_2(x) - hbarX**2*Derivative(psi_2(x), (x, 2))/(2*m), E_{total}*psi_2(x))],\n",
       " 'normalizations': [Eq(Integral(psi_0(x)*conjugate(psi_0(x)), (x, L_-1, L_0)), N_0),\n",
       "  Eq(Integral(psi_1(x)*conjugate(psi_1(x)), (x, L_0, L_1)), N_1),\n",
       "  Eq(Integral(psi_2(x)*conjugate(psi_2(x)), (x, L_1, L_2)), N_2)],\n",
       " 'generalSolutions': [{'boundries': {psi_0(L_-1): B_0, psi_0(L_0): B_1},\n",
       "   'harmonicConstantEquation': Eq(k_0, sqrt(2)*sqrt(m)*sqrt(-E_{total} + V_0)/hbarX),\n",
       "   'generalSolution': Eq(psi_0(x), (B_0*exp(L_-1*k_0)/(exp(2*L_-1*k_0) - exp(2*L_0*k_0)) - B_1*exp(L_0*k_0)/(exp(2*L_-1*k_0) - exp(2*L_0*k_0)))*exp(k_0*x) + (-B_0*exp(L_-1*k_0)*exp(2*L_0*k_0)/(exp(2*L_-1*k_0) - exp(2*L_0*k_0)) + B_1*exp(2*L_-1*k_0)*exp(L_0*k_0)/(exp(2*L_-1*k_0) - exp(2*L_0*k_0)))*exp(-k_0*x))},\n",
       "  {'boundries': {psi_1(L_0): B_1, psi_1(L_1): B_2},\n",
       "   'harmonicConstantEquation': Eq(k_1, sqrt(2)*sqrt(m)*sqrt(-E_{total} + V_1)/hbarX),\n",
       "   'generalSolution': Eq(psi_1(x), (B_1*exp(L_0*k_1)/(exp(2*L_0*k_1) - exp(2*L_1*k_1)) - B_2*exp(L_1*k_1)/(exp(2*L_0*k_1) - exp(2*L_1*k_1)))*exp(k_1*x) + (-B_1*exp(L_0*k_1)*exp(2*L_1*k_1)/(exp(2*L_0*k_1) - exp(2*L_1*k_1)) + B_2*exp(2*L_0*k_1)*exp(L_1*k_1)/(exp(2*L_0*k_1) - exp(2*L_1*k_1)))*exp(-k_1*x))},\n",
       "  {'boundries': {psi_2(L_1): B_2, psi_2(L_2): B_3},\n",
       "   'harmonicConstantEquation': Eq(k_2, sqrt(2)*sqrt(m)*sqrt(-E_{total} + V_2)/hbarX),\n",
       "   'generalSolution': Eq(psi_2(x), (B_2*exp(L_1*k_2)/(exp(2*L_1*k_2) - exp(2*L_2*k_2)) - B_3*exp(L_2*k_2)/(exp(2*L_1*k_2) - exp(2*L_2*k_2)))*exp(k_2*x) + (-B_2*exp(L_1*k_2)*exp(2*L_2*k_2)/(exp(2*L_1*k_2) - exp(2*L_2*k_2)) + B_3*exp(2*L_1*k_2)*exp(L_2*k_2)/(exp(2*L_1*k_2) - exp(2*L_2*k_2)))*exp(-k_2*x))}]}"
      ]
     },
     "execution_count": 5,
     "metadata": {},
     "output_type": "execute_result"
    }
   ],
   "source": [
    "preliminaryData"
   ]
  },
  {
   "cell_type": "code",
   "execution_count": 6,
   "id": "daeb7e62-70cb-450b-9777-3748320f79a5",
   "metadata": {},
   "outputs": [],
   "source": [
    "regionFunctions = generateRegionFunctions(preliminaryData)"
   ]
  },
  {
   "cell_type": "code",
   "execution_count": 7,
   "id": "3d02b0fc-1361-4959-9ae6-ebbe13fa4a83",
   "metadata": {},
   "outputs": [
    {
     "data": {
      "text/latex": [
       "$\\displaystyle C_{{0}_r} \\overline{C_{{0}_t}} + C_{{0}_r} e^{- 2 k_{0} x} \\overline{C_{{0}_r}} + C_{{0}_t} e^{2 k_{0} x} \\overline{C_{{0}_t}} + C_{{0}_t} \\overline{C_{{0}_r}}$"
      ],
      "text/plain": [
       "C_{{0}_r}*conjugate(C_{{0}_t}) + C_{{0}_r}*exp(-2*k_0*x)*conjugate(C_{{0}_r}) + C_{{0}_t}*exp(2*k_0*x)*conjugate(C_{{0}_t}) + C_{{0}_t}*conjugate(C_{{0}_r})"
      ]
     },
     "execution_count": 7,
     "metadata": {},
     "output_type": "execute_result"
    }
   ],
   "source": [
    "regionFunctions[\"amplitudeConstantFunctions\"][0][\"amplitudeCoefficientEquations\"][\"constarinedParticularSolutions\"][\"unconstrainedParticularSolution\"][\"expandedExponential\"]"
   ]
  },
  {
   "cell_type": "code",
   "execution_count": 8,
   "id": "caffba40-fb14-4747-9337-974338d0d782",
   "metadata": {},
   "outputs": [
    {
     "data": {
      "text/latex": [
       "$\\displaystyle C_{{0}_r} \\overline{C_{{0}_t}} + C_{{0}_r} e^{- 2 k_{0} x} \\overline{C_{{0}_r}} + C_{{0}_t} e^{2 k_{0} x} \\overline{C_{{0}_t}} + C_{{0}_t} \\overline{C_{{0}_r}}$"
      ],
      "text/plain": [
       "C_{{0}_r}*conjugate(C_{{0}_t}) + C_{{0}_r}*exp(-2*k_0*x)*conjugate(C_{{0}_r}) + C_{{0}_t}*exp(2*k_0*x)*conjugate(C_{{0}_t}) + C_{{0}_t}*conjugate(C_{{0}_r})"
      ]
     },
     "execution_count": 8,
     "metadata": {},
     "output_type": "execute_result"
    }
   ],
   "source": [
    "regionFunctions[\"amplitudeConstantFunctions\"][0][\"amplitudeCoefficientEquations\"][\"unconstrainedParticularSolution\"][\"expandedExponential\"]"
   ]
  },
  {
   "cell_type": "code",
   "execution_count": 9,
   "id": "17ebb7e0-4604-4251-bbff-744bdc965ff1",
   "metadata": {},
   "outputs": [
    {
     "data": {
      "text/latex": [
       "$\\displaystyle \\psi_{0}{\\left(x \\right)} = C_{{0}_r} e^{- k_{0} x} + C_{{0}_t} e^{k_{0} x}$"
      ],
      "text/plain": [
       "Eq(psi_0(x), C_{{0}_r}*exp(-k_0*x) + C_{{0}_t}*exp(k_0*x))"
      ]
     },
     "execution_count": 9,
     "metadata": {},
     "output_type": "execute_result"
    }
   ],
   "source": [
    "regionFunctions[\"amplitudeConstantFunctions\"][0][\"amplitudeCoefficientEquations\"][\"unconstrainedParticularSolution\"][\"exponential\"]"
   ]
  },
  {
   "cell_type": "code",
   "execution_count": 10,
   "id": "2f96fae8-3106-4310-8176-1b71c9643dbe",
   "metadata": {},
   "outputs": [],
   "source": [
    "testExpandedExponential = regionFunctions[\"amplitudeConstantFunctions\"][0][\"amplitudeCoefficientEquations\"][\"unconstrainedParticularSolution\"][\"expandedExponential\"]"
   ]
  },
  {
   "cell_type": "code",
   "execution_count": 11,
   "id": "4c8c7f3b-c3c1-4405-bdd4-20671e21b9af",
   "metadata": {},
   "outputs": [
    {
     "data": {
      "text/latex": [
       "$\\displaystyle C_{{0}_r} \\overline{C_{{0}_t}} + C_{{0}_r} e^{- 2 k_{0} x} \\overline{C_{{0}_r}} + C_{{0}_t} e^{2 k_{0} x} \\overline{C_{{0}_t}} + C_{{0}_t} \\overline{C_{{0}_r}}$"
      ],
      "text/plain": [
       "C_{{0}_r}*conjugate(C_{{0}_t}) + C_{{0}_r}*exp(-2*k_0*x)*conjugate(C_{{0}_r}) + C_{{0}_t}*exp(2*k_0*x)*conjugate(C_{{0}_t}) + C_{{0}_t}*conjugate(C_{{0}_r})"
      ]
     },
     "execution_count": 11,
     "metadata": {},
     "output_type": "execute_result"
    }
   ],
   "source": [
    "testExpandedExponential"
   ]
  },
  {
   "cell_type": "code",
   "execution_count": 12,
   "id": "b595726f-35fb-4db8-b807-f389c611acc2",
   "metadata": {},
   "outputs": [],
   "source": [
    "testExponential = regionFunctions[\"amplitudeConstantFunctions\"][0][\"amplitudeCoefficientEquations\"][\"unconstrainedParticularSolution\"][\"exponential\"]"
   ]
  },
  {
   "cell_type": "code",
   "execution_count": 13,
   "id": "f5e15d02-1a0f-4507-9a62-900a97fea553",
   "metadata": {},
   "outputs": [
    {
     "data": {
      "text/latex": [
       "$\\displaystyle \\psi_{0}{\\left(x \\right)} = C_{{0}_r} e^{- k_{0} x} + C_{{0}_t} e^{k_{0} x}$"
      ],
      "text/plain": [
       "Eq(psi_0(x), C_{{0}_r}*exp(-k_0*x) + C_{{0}_t}*exp(k_0*x))"
      ]
     },
     "execution_count": 13,
     "metadata": {},
     "output_type": "execute_result"
    }
   ],
   "source": [
    "testExponential"
   ]
  },
  {
   "cell_type": "code",
   "execution_count": 14,
   "id": "11ad75e1-1eaa-40f5-a0f4-b1554b18d0ef",
   "metadata": {},
   "outputs": [
    {
     "data": {
      "text/plain": [
       "{'generalSolution': {'boundries': {psi_0(L_-1): B_0, psi_0(L_0): B_1},\n",
       "  'harmonicConstantEquation': Eq(k_0, sqrt(2)*sqrt(m)*sqrt(-E_{total} + V_0)/hbarX),\n",
       "  'generalSolution': Eq(psi_0(x), (B_0*exp(L_-1*k_0)/(exp(2*L_-1*k_0) - exp(2*L_0*k_0)) - B_1*exp(L_0*k_0)/(exp(2*L_-1*k_0) - exp(2*L_0*k_0)))*exp(k_0*x) + (-B_0*exp(L_-1*k_0)*exp(2*L_0*k_0)/(exp(2*L_-1*k_0) - exp(2*L_0*k_0)) + B_1*exp(2*L_-1*k_0)*exp(L_0*k_0)/(exp(2*L_-1*k_0) - exp(2*L_0*k_0)))*exp(-k_0*x))},\n",
       " 'exponential': Eq(psi_0(x), C_{{0}_r}*exp(-k_0*x) + C_{{0}_t}*exp(k_0*x)),\n",
       " 'amplitudes': {'transmission': B_0*exp(L_-1*k_0)/(exp(2*L_-1*k_0) - exp(2*L_0*k_0)) - B_1*exp(L_0*k_0)/(exp(2*L_-1*k_0) - exp(2*L_0*k_0)),\n",
       "  'reflection': -B_0*exp(L_-1*k_0)*exp(2*L_0*k_0)/(exp(2*L_-1*k_0) - exp(2*L_0*k_0)) + B_1*exp(2*L_-1*k_0)*exp(L_0*k_0)/(exp(2*L_-1*k_0) - exp(2*L_0*k_0)),\n",
       "  'harmonicConstant': k_0},\n",
       " 'expandedExponential': C_{{0}_r}*conjugate(C_{{0}_t}) + C_{{0}_r}*exp(-2*k_0*x)*conjugate(C_{{0}_r}) + C_{{0}_t}*exp(2*k_0*x)*conjugate(C_{{0}_t}) + C_{{0}_t}*conjugate(C_{{0}_r})}"
      ]
     },
     "execution_count": 14,
     "metadata": {},
     "output_type": "execute_result"
    }
   ],
   "source": [
    "regionFunctions[\"amplitudeConstantFunctions\"][0][\"amplitudeCoefficientEquations\"][\"unconstrainedParticularSolution\"]"
   ]
  },
  {
   "cell_type": "code",
   "execution_count": 15,
   "id": "e4afb505-0ab6-4a2c-90b1-fe093a5992c3",
   "metadata": {},
   "outputs": [
    {
     "data": {
      "text/latex": [
       "$\\displaystyle k_{0}$"
      ],
      "text/plain": [
       "k_0"
      ]
     },
     "execution_count": 15,
     "metadata": {},
     "output_type": "execute_result"
    }
   ],
   "source": [
    "regionFunctions[\"amplitudeConstantFunctions\"][0][\"amplitudeCoefficientEquations\"][\"unconstrainedParticularSolution\"][\"amplitudes\"][\"harmonicConstant\"]"
   ]
  },
  {
   "cell_type": "code",
   "execution_count": 16,
   "id": "563b1dec-63ec-44e4-aec9-ff3e4d30845e",
   "metadata": {},
   "outputs": [
    {
     "data": {
      "text/plain": [
       "{'C_OCBOCB0CCB_tCCB': {'components': [{'C_OCBOCB0CCB_tCCB0radicand': {'component': B_0**2*exp(2*L_0*k_0) - 2*B_0*B_1*exp(k_0*(L_-1 + L_0)) + B_1**2*exp(2*L_-1*k_0) - 2*N_0*k_0*exp(2*L_-1*k_0) + 2*N_0*k_0*exp(2*L_0*k_0),\n",
       "     'canonicalName': 'radicand'},\n",
       "    'C_OCBOCB0CCB_tCCB0offset': {'component': 0, 'canonicalName': 'offset'},\n",
       "    'C_OCBOCB0CCB_tCCB0inverseCoefficent': {'component': exp(2*L_-1*k_0) - exp(2*L_0*k_0),\n",
       "     'canonicalName': 'inverseCoefficent'},\n",
       "    'C_OCBOCB0CCB_tCCB0scalar': {'component': -1, 'canonicalName': 'scalar'},\n",
       "    'componentFunctions': {'C_OCBOCB0CCB_tCCB0radicandFunction': {'function': <function _lambdifygenerated(B_0, B_1, L_0, L_N1, N_0, k_0)>,\n",
       "      'parameters': ['B_0', 'B_1', 'L_0', 'L_N1', 'N_0', 'k_0']},\n",
       "     'C_OCBOCB0CCB_tCCB0offsetFunction': {'function': <function _lambdifygenerated()>,\n",
       "      'parameters': []},\n",
       "     'C_OCBOCB0CCB_tCCB0inverseCoefficentFunction': {'function': <function _lambdifygenerated(L_0, L_N1, k_0)>,\n",
       "      'parameters': ['L_0', 'L_N1', 'k_0']},\n",
       "     'C_OCBOCB0CCB_tCCB0scalarFunction': {'function': <function _lambdifygenerated()>,\n",
       "      'parameters': []}},\n",
       "    'generalFunctionParameters': ['C_OCBOCB0CCB_tCCB0inverseCoefficentFunction',\n",
       "     'C_OCBOCB0CCB_tCCB0offsetFunction',\n",
       "     'C_OCBOCB0CCB_tCCB0radicandFunction',\n",
       "     'C_OCBOCB0CCB_tCCB0scalarFunction'],\n",
       "    'generalFunction': <function _lambdifygenerated(C_OCBOCB0CCB_tCCB0inverseCoefficentFunction, C_OCBOCB0CCB_tCCB0offsetFunction, C_OCBOCB0CCB_tCCB0radicandFunction, C_OCBOCB0CCB_tCCB0scalarFunction)>,\n",
       "    'parameters': ['B_0', 'B_1', 'L_0', 'L_N1', 'N_0', 'k_0'],\n",
       "    'function': <function new_attempt.stateless.generateNumericalFunctionFromGeneralFunctionAndComponents.<locals>.calculate(**kwargs)>,\n",
       "    'numericalSolutionComponents': {'componentFunctions': {'C_OCBOCB0CCB_tCCB0radicandFunction': {'function': <function _lambdifygenerated(B_0, B_1, L_0, L_N1, N_0, k_0)>,\n",
       "       'parameters': ['B_0', 'B_1', 'L_0', 'L_N1', 'N_0', 'k_0']},\n",
       "      'C_OCBOCB0CCB_tCCB0offsetFunction': {'function': <function _lambdifygenerated()>,\n",
       "       'parameters': []},\n",
       "      'C_OCBOCB0CCB_tCCB0inverseCoefficentFunction': {'function': <function _lambdifygenerated(L_0, L_N1, k_0)>,\n",
       "       'parameters': ['L_0', 'L_N1', 'k_0']},\n",
       "      'C_OCBOCB0CCB_tCCB0scalarFunction': {'function': <function _lambdifygenerated()>,\n",
       "       'parameters': []}},\n",
       "     'canoticalParameters': {'radicand': 'C_OCBOCB0CCB_tCCB0radicandFunction',\n",
       "      'offset': 'C_OCBOCB0CCB_tCCB0offsetFunction',\n",
       "      'inverseCoefficent': 'C_OCBOCB0CCB_tCCB0inverseCoefficentFunction',\n",
       "      'scalar': 'C_OCBOCB0CCB_tCCB0scalarFunction'},\n",
       "     'allParameters': {'B_0', 'B_1', 'L_0', 'L_N1', 'N_0', 'k_0'}}},\n",
       "   {'C_OCBOCB0CCB_tCCB1radicand': {'component': B_0**2*exp(2*L_0*k_0) - 2*B_0*B_1*exp(k_0*(L_-1 + L_0)) + B_1**2*exp(2*L_-1*k_0) - 2*N_0*k_0*exp(2*L_-1*k_0) + 2*N_0*k_0*exp(2*L_0*k_0),\n",
       "     'canonicalName': 'radicand'},\n",
       "    'C_OCBOCB0CCB_tCCB1offset': {'component': 0, 'canonicalName': 'offset'},\n",
       "    'C_OCBOCB0CCB_tCCB1inverseCoefficent': {'component': exp(2*L_-1*k_0) - exp(2*L_0*k_0),\n",
       "     'canonicalName': 'inverseCoefficent'},\n",
       "    'C_OCBOCB0CCB_tCCB1scalar': {'component': 1, 'canonicalName': 'scalar'},\n",
       "    'componentFunctions': {'C_OCBOCB0CCB_tCCB1radicandFunction': {'function': <function _lambdifygenerated(B_0, B_1, L_0, L_N1, N_0, k_0)>,\n",
       "      'parameters': ['B_0', 'B_1', 'L_0', 'L_N1', 'N_0', 'k_0']},\n",
       "     'C_OCBOCB0CCB_tCCB1offsetFunction': {'function': <function _lambdifygenerated()>,\n",
       "      'parameters': []},\n",
       "     'C_OCBOCB0CCB_tCCB1inverseCoefficentFunction': {'function': <function _lambdifygenerated(L_0, L_N1, k_0)>,\n",
       "      'parameters': ['L_0', 'L_N1', 'k_0']},\n",
       "     'C_OCBOCB0CCB_tCCB1scalarFunction': {'function': <function _lambdifygenerated()>,\n",
       "      'parameters': []}},\n",
       "    'generalFunctionParameters': ['C_OCBOCB0CCB_tCCB1inverseCoefficentFunction',\n",
       "     'C_OCBOCB0CCB_tCCB1offsetFunction',\n",
       "     'C_OCBOCB0CCB_tCCB1radicandFunction',\n",
       "     'C_OCBOCB0CCB_tCCB1scalarFunction'],\n",
       "    'generalFunction': <function _lambdifygenerated(C_OCBOCB0CCB_tCCB1inverseCoefficentFunction, C_OCBOCB0CCB_tCCB1offsetFunction, C_OCBOCB0CCB_tCCB1radicandFunction, C_OCBOCB0CCB_tCCB1scalarFunction)>,\n",
       "    'parameters': ['B_0', 'B_1', 'L_0', 'L_N1', 'N_0', 'k_0'],\n",
       "    'function': <function new_attempt.stateless.generateNumericalFunctionFromGeneralFunctionAndComponents.<locals>.calculate(**kwargs)>,\n",
       "    'numericalSolutionComponents': {'componentFunctions': {'C_OCBOCB0CCB_tCCB1radicandFunction': {'function': <function _lambdifygenerated(B_0, B_1, L_0, L_N1, N_0, k_0)>,\n",
       "       'parameters': ['B_0', 'B_1', 'L_0', 'L_N1', 'N_0', 'k_0']},\n",
       "      'C_OCBOCB0CCB_tCCB1offsetFunction': {'function': <function _lambdifygenerated()>,\n",
       "       'parameters': []},\n",
       "      'C_OCBOCB0CCB_tCCB1inverseCoefficentFunction': {'function': <function _lambdifygenerated(L_0, L_N1, k_0)>,\n",
       "       'parameters': ['L_0', 'L_N1', 'k_0']},\n",
       "      'C_OCBOCB0CCB_tCCB1scalarFunction': {'function': <function _lambdifygenerated()>,\n",
       "       'parameters': []}},\n",
       "     'canoticalParameters': {'radicand': 'C_OCBOCB0CCB_tCCB1radicandFunction',\n",
       "      'offset': 'C_OCBOCB0CCB_tCCB1offsetFunction',\n",
       "      'inverseCoefficent': 'C_OCBOCB0CCB_tCCB1inverseCoefficentFunction',\n",
       "      'scalar': 'C_OCBOCB0CCB_tCCB1scalarFunction'},\n",
       "     'allParameters': {'B_0', 'B_1', 'L_0', 'L_N1', 'N_0', 'k_0'}}}]},\n",
       " 'C_OCBOCB0CCB_rCCB': {'components': [{'C_OCBOCB0CCB_rCCB0radicand': {'component': B_0**2*exp(2*L_-1*k_0) - 2*B_0*B_1*exp(k_0*(L_-1 + L_0)) + B_1**2*exp(2*L_0*k_0) - 2*N_0*k_0*exp(2*L_-1*k_0) + 2*N_0*k_0*exp(2*L_0*k_0),\n",
       "     'canonicalName': 'radicand'},\n",
       "    'C_OCBOCB0CCB_rCCB0offset': {'component': 0, 'canonicalName': 'offset'},\n",
       "    'C_OCBOCB0CCB_rCCB0inverseCoefficent': {'component': exp(2*L_-1*k_0) - exp(2*L_0*k_0),\n",
       "     'canonicalName': 'inverseCoefficent'},\n",
       "    'C_OCBOCB0CCB_rCCB0scalar': {'component': -exp(k_0*(L_-1 + L_0)),\n",
       "     'canonicalName': 'scalar'},\n",
       "    'componentFunctions': {'C_OCBOCB0CCB_rCCB0radicandFunction': {'function': <function _lambdifygenerated(B_0, B_1, L_0, L_N1, N_0, k_0)>,\n",
       "      'parameters': ['B_0', 'B_1', 'L_0', 'L_N1', 'N_0', 'k_0']},\n",
       "     'C_OCBOCB0CCB_rCCB0offsetFunction': {'function': <function _lambdifygenerated()>,\n",
       "      'parameters': []},\n",
       "     'C_OCBOCB0CCB_rCCB0inverseCoefficentFunction': {'function': <function _lambdifygenerated(L_0, L_N1, k_0)>,\n",
       "      'parameters': ['L_0', 'L_N1', 'k_0']},\n",
       "     'C_OCBOCB0CCB_rCCB0scalarFunction': {'function': <function _lambdifygenerated(L_0, L_N1, k_0)>,\n",
       "      'parameters': ['L_0', 'L_N1', 'k_0']}},\n",
       "    'generalFunctionParameters': ['C_OCBOCB0CCB_rCCB0inverseCoefficentFunction',\n",
       "     'C_OCBOCB0CCB_rCCB0offsetFunction',\n",
       "     'C_OCBOCB0CCB_rCCB0radicandFunction',\n",
       "     'C_OCBOCB0CCB_rCCB0scalarFunction'],\n",
       "    'generalFunction': <function _lambdifygenerated(C_OCBOCB0CCB_rCCB0inverseCoefficentFunction, C_OCBOCB0CCB_rCCB0offsetFunction, C_OCBOCB0CCB_rCCB0radicandFunction, C_OCBOCB0CCB_rCCB0scalarFunction)>,\n",
       "    'parameters': ['B_0', 'B_1', 'L_0', 'L_N1', 'N_0', 'k_0'],\n",
       "    'function': <function new_attempt.stateless.generateNumericalFunctionFromGeneralFunctionAndComponents.<locals>.calculate(**kwargs)>,\n",
       "    'numericalSolutionComponents': {'componentFunctions': {'C_OCBOCB0CCB_rCCB0radicandFunction': {'function': <function _lambdifygenerated(B_0, B_1, L_0, L_N1, N_0, k_0)>,\n",
       "       'parameters': ['B_0', 'B_1', 'L_0', 'L_N1', 'N_0', 'k_0']},\n",
       "      'C_OCBOCB0CCB_rCCB0offsetFunction': {'function': <function _lambdifygenerated()>,\n",
       "       'parameters': []},\n",
       "      'C_OCBOCB0CCB_rCCB0inverseCoefficentFunction': {'function': <function _lambdifygenerated(L_0, L_N1, k_0)>,\n",
       "       'parameters': ['L_0', 'L_N1', 'k_0']},\n",
       "      'C_OCBOCB0CCB_rCCB0scalarFunction': {'function': <function _lambdifygenerated(L_0, L_N1, k_0)>,\n",
       "       'parameters': ['L_0', 'L_N1', 'k_0']}},\n",
       "     'canoticalParameters': {'radicand': 'C_OCBOCB0CCB_rCCB0radicandFunction',\n",
       "      'offset': 'C_OCBOCB0CCB_rCCB0offsetFunction',\n",
       "      'inverseCoefficent': 'C_OCBOCB0CCB_rCCB0inverseCoefficentFunction',\n",
       "      'scalar': 'C_OCBOCB0CCB_rCCB0scalarFunction'},\n",
       "     'allParameters': {'B_0', 'B_1', 'L_0', 'L_N1', 'N_0', 'k_0'}}},\n",
       "   {'C_OCBOCB0CCB_rCCB1radicand': {'component': B_0**2*exp(2*L_-1*k_0) - 2*B_0*B_1*exp(k_0*(L_-1 + L_0)) + B_1**2*exp(2*L_0*k_0) - 2*N_0*k_0*exp(2*L_-1*k_0) + 2*N_0*k_0*exp(2*L_0*k_0),\n",
       "     'canonicalName': 'radicand'},\n",
       "    'C_OCBOCB0CCB_rCCB1offset': {'component': 0, 'canonicalName': 'offset'},\n",
       "    'C_OCBOCB0CCB_rCCB1inverseCoefficent': {'component': exp(2*L_-1*k_0) - exp(2*L_0*k_0),\n",
       "     'canonicalName': 'inverseCoefficent'},\n",
       "    'C_OCBOCB0CCB_rCCB1scalar': {'component': exp(k_0*(L_-1 + L_0)),\n",
       "     'canonicalName': 'scalar'},\n",
       "    'componentFunctions': {'C_OCBOCB0CCB_rCCB1radicandFunction': {'function': <function _lambdifygenerated(B_0, B_1, L_0, L_N1, N_0, k_0)>,\n",
       "      'parameters': ['B_0', 'B_1', 'L_0', 'L_N1', 'N_0', 'k_0']},\n",
       "     'C_OCBOCB0CCB_rCCB1offsetFunction': {'function': <function _lambdifygenerated()>,\n",
       "      'parameters': []},\n",
       "     'C_OCBOCB0CCB_rCCB1inverseCoefficentFunction': {'function': <function _lambdifygenerated(L_0, L_N1, k_0)>,\n",
       "      'parameters': ['L_0', 'L_N1', 'k_0']},\n",
       "     'C_OCBOCB0CCB_rCCB1scalarFunction': {'function': <function _lambdifygenerated(L_0, L_N1, k_0)>,\n",
       "      'parameters': ['L_0', 'L_N1', 'k_0']}},\n",
       "    'generalFunctionParameters': ['C_OCBOCB0CCB_rCCB1inverseCoefficentFunction',\n",
       "     'C_OCBOCB0CCB_rCCB1offsetFunction',\n",
       "     'C_OCBOCB0CCB_rCCB1radicandFunction',\n",
       "     'C_OCBOCB0CCB_rCCB1scalarFunction'],\n",
       "    'generalFunction': <function _lambdifygenerated(C_OCBOCB0CCB_rCCB1inverseCoefficentFunction, C_OCBOCB0CCB_rCCB1offsetFunction, C_OCBOCB0CCB_rCCB1radicandFunction, C_OCBOCB0CCB_rCCB1scalarFunction)>,\n",
       "    'parameters': ['B_0', 'B_1', 'L_0', 'L_N1', 'N_0', 'k_0'],\n",
       "    'function': <function new_attempt.stateless.generateNumericalFunctionFromGeneralFunctionAndComponents.<locals>.calculate(**kwargs)>,\n",
       "    'numericalSolutionComponents': {'componentFunctions': {'C_OCBOCB0CCB_rCCB1radicandFunction': {'function': <function _lambdifygenerated(B_0, B_1, L_0, L_N1, N_0, k_0)>,\n",
       "       'parameters': ['B_0', 'B_1', 'L_0', 'L_N1', 'N_0', 'k_0']},\n",
       "      'C_OCBOCB0CCB_rCCB1offsetFunction': {'function': <function _lambdifygenerated()>,\n",
       "       'parameters': []},\n",
       "      'C_OCBOCB0CCB_rCCB1inverseCoefficentFunction': {'function': <function _lambdifygenerated(L_0, L_N1, k_0)>,\n",
       "       'parameters': ['L_0', 'L_N1', 'k_0']},\n",
       "      'C_OCBOCB0CCB_rCCB1scalarFunction': {'function': <function _lambdifygenerated(L_0, L_N1, k_0)>,\n",
       "       'parameters': ['L_0', 'L_N1', 'k_0']}},\n",
       "     'canoticalParameters': {'radicand': 'C_OCBOCB0CCB_rCCB1radicandFunction',\n",
       "      'offset': 'C_OCBOCB0CCB_rCCB1offsetFunction',\n",
       "      'inverseCoefficent': 'C_OCBOCB0CCB_rCCB1inverseCoefficentFunction',\n",
       "      'scalar': 'C_OCBOCB0CCB_rCCB1scalarFunction'},\n",
       "     'allParameters': {'B_0', 'B_1', 'L_0', 'L_N1', 'N_0', 'k_0'}}}]}}"
      ]
     },
     "execution_count": 16,
     "metadata": {},
     "output_type": "execute_result"
    }
   ],
   "source": [
    "regionFunctions[\"amplitudeConstantFunctions\"][0][\"amplitudeCoefficientEquations\"][\"extrapolatedComponentsOfConstants\"]"
   ]
  },
  {
   "cell_type": "code",
   "execution_count": 17,
   "id": "2aecb425-c892-4e21-aed0-6fd9c4e3a224",
   "metadata": {},
   "outputs": [],
   "source": [
    "#regionFunctions"
   ]
  },
  {
   "cell_type": "code",
   "execution_count": 18,
   "id": "fe40b85a-71de-4f60-bc07-2051b1276f55",
   "metadata": {},
   "outputs": [
    {
     "data": {
      "text/plain": [
       "['C_OCBOCB0CCB_tCCB', 'C_OCBOCB0CCB_rCCB']"
      ]
     },
     "execution_count": 18,
     "metadata": {},
     "output_type": "execute_result"
    }
   ],
   "source": [
    "list(regionFunctions[\"amplitudeConstantFunctions\"][0][\"amplitudeCoefficientEquations\"][\"extrapolatedComponentsOfConstants\"].keys())"
   ]
  },
  {
   "cell_type": "code",
   "execution_count": null,
   "id": "e8189daa-f286-4615-a3bd-4ad27866fa16",
   "metadata": {},
   "outputs": [],
   "source": []
  },
  {
   "cell_type": "code",
   "execution_count": 21,
   "id": "f7b9feff-95bd-45ad-8adb-752c75c69b00",
   "metadata": {},
   "outputs": [
    {
     "data": {
      "text/plain": [
       "{conjugate(A_{3})}"
      ]
     },
     "execution_count": 21,
     "metadata": {},
     "output_type": "execute_result"
    }
   ],
   "source": [
    "wild = sp.Wild(\"W\")\n",
    "ex = (sp.conjugate(sp.Symbol(\"A_{3}\")) * sp.Symbol(\"X\") + 3)\n",
    "ex.find(sp.conjugate(wild))"
   ]
  },
  {
   "cell_type": "code",
   "execution_count": 33,
   "id": "92b0aa3a-fc6a-460e-abde-4146ecad00c4",
   "metadata": {},
   "outputs": [],
   "source": [
    "def matchesToIdentifiers(expression, pattern): \n",
    "    matches = list(expression.find(pattern))\n",
    "    return {match : symbolicToIdentifier(match) for match in matches}\n"
   ]
  },
  {
   "cell_type": "code",
   "execution_count": 34,
   "id": "31e2acbf-e378-4338-bd5d-4139e920c48b",
   "metadata": {},
   "outputs": [
    {
     "data": {
      "text/latex": [
       "$\\displaystyle C_{{0}_r} \\overline{C_{{0}_t}} + C_{{0}_r} e^{- 2 k_{0} x} \\overline{C_{{0}_r}} + C_{{0}_t} e^{2 k_{0} x} \\overline{C_{{0}_t}} + C_{{0}_t} \\overline{C_{{0}_r}}$"
      ],
      "text/plain": [
       "C_{{0}_r}*conjugate(C_{{0}_t}) + C_{{0}_r}*exp(-2*k_0*x)*conjugate(C_{{0}_r}) + C_{{0}_t}*exp(2*k_0*x)*conjugate(C_{{0}_t}) + C_{{0}_t}*conjugate(C_{{0}_r})"
      ]
     },
     "execution_count": 34,
     "metadata": {},
     "output_type": "execute_result"
    }
   ],
   "source": [
    "testExpandedExponential"
   ]
  },
  {
   "cell_type": "code",
   "execution_count": 35,
   "id": "07b81b84-fc3b-4a3e-96c8-5af028c176e5",
   "metadata": {},
   "outputs": [
    {
     "data": {
      "text/plain": [
       "{conjugate(C_{{0}_r}): 'conjugateOPC_OCBOCB0CCB_rCCBCP',\n",
       " conjugate(C_{{0}_t}): 'conjugateOPC_OCBOCB0CCB_tCCBCP'}"
      ]
     },
     "execution_count": 35,
     "metadata": {},
     "output_type": "execute_result"
    }
   ],
   "source": [
    "matchesToIdentifiers(testExpandedExponential, sp.conjugate(wild))"
   ]
  },
  {
   "cell_type": "code",
   "execution_count": 72,
   "id": "ab918a2f-10f9-40ca-aecd-6d1304e8ac96",
   "metadata": {},
   "outputs": [],
   "source": [
    "def lambdifyWaveFunction(amplitudeCoefficientEquations : dict, position : sp.Symbol) -> dict: \n",
    "    unconstrainedParticularSolution = amplitudeCoefficientEquations[\"unconstrainedParticularSolution\"]\n",
    "    harmonicConstant = unconstrainedParticularSolution[\"amplitudes\"][\"harmonicConstant\"]\n",
    "    amplitudeCoefficients = list(amplitudeCoefficientEquations[\"extrapolatedComponentsOfConstants\"].keys())\n",
    "    exponential = unconstrainedParticularSolution[\"expandedExponential\"]\n",
    "    functionSymbol = unconstrainedParticularSolution[\"exponential\"].lhs.func\n",
    "    conjugatedAmplitudeConstants = matchesToIdentifiers(\n",
    "            exponential, \n",
    "            sp.conjugate(sp.Wild(\"C\"))\n",
    "        )\n",
    "    sanitizedFunction = substituteIdentifierAtoms(\n",
    "            exponential.subs(conjugatedAmplitudeConstants)\n",
    "        )\n",
    "    parameters = orderNames(\n",
    "            list(conjugatedAmplitudeConstants.values()) \\\n",
    "                    + amplitudeCoefficients \\\n",
    "                    + [\n",
    "                            symbolicToIdentifier(parameter) \\\n",
    "                            for parameter in [harmonicConstant, position]\n",
    "                        ]\n",
    "        )\n",
    "    \n",
    "    amplitudeCoefficientSubstitutionList = substituteIdentifierAtomsList(exponential)\n",
    "    conjugateMap = {}\n",
    "    print(amplitudeCoefficientSubstitutionList)\n",
    "    for conjugateSymbolic, identifier in conjugatedAmplitudeConstants.items():\n",
    "        cleanSymbol = conjugateSymbolic.args[0]\n",
    "        conjugateMap[amplitudeCoefficientSubstitutionList[cleanSymbol]] = identifier\n",
    "        \n",
    "    functionIdentifier = symbolicToIdentifier(functionSymbol)\n",
    "    baseNumericalFunction =  sp.lambdify(parameters, sanitizedFunction)\n",
    "    def makeFunctionFromConstants(constants : dict) -> float: \n",
    "        amplitudeCoefficeintSolutions_ = {\n",
    "                solutionSetName : solutions \\\n",
    "                for solutionSetName, solutions \\\n",
    "                        in constants[\"amplitudeConstants\"].items() \\\n",
    "                if solutionSetName in amplitudeCoefficients\n",
    "            }\n",
    "        arguments = {}\n",
    "        for solutionSetName, solutions in amplitudeCoefficeintSolutions_.items(): \n",
    "            if len(solutions) == 2: \n",
    "                arguments[solutionSetName] = solutions[0] * 1j\n",
    "                arguments[conjugateMap[solutionSetName]] = solutions[1] * 1j\n",
    "            else: \n",
    "                if type(solutions) is list: \n",
    "                    assert len(solutions) == 1, \"makeExponentialWithConjugates: \" \\\n",
    "                                                \"inproper number of solutions (must be zero or one)\" \\\n",
    "                                                \"for amplitude coefficient!\"\n",
    "                    arguments[solutionSetName] = solutions[0]\n",
    "                else: \n",
    "                    arguments[solutionSetName] = solutions\n",
    "        harmonicConstantIdentifier = symbolicToIdentifier(harmonicConstant)\n",
    "        arguments[harmonicConstantIdentifier] = constants[\"harmonicConstants\"] \\\n",
    "                [harmonicConstantIdentifier]\n",
    "        return lambda position_ : baseNumericalFunction(**(\n",
    "                {symbolicToIdentifier(position) : position_} \n",
    "                | arguments\n",
    "            ))\n",
    "    return {\n",
    "            \"name\" : functionIdentifier, \n",
    "            \"functionFromConstantsBuilder\" : makeFunctionFromConstants, \n",
    "            \"parameters\" : parameters, \n",
    "            \"symbol\" : functionSymbol, \n",
    "            \"position\" : position, \n",
    "            \"harmonicConstant\" : harmonicConstant, \n",
    "            \"amplitudeCoefficientIdentifiers\" : orderNames(amplitudeCoefficients), \n",
    "            \"amplitudeConjugateCoefficientIdentifiers\" : orderNames(list(\n",
    "                    conjugatedAmplitudeConstants.values())\n",
    "                ), \n",
    "        }"
   ]
  },
  {
   "cell_type": "code",
   "execution_count": 73,
   "id": "718a4f52-1cc5-422a-9370-62972d9aa2b1",
   "metadata": {},
   "outputs": [
    {
     "name": "stdout",
     "output_type": "stream",
     "text": [
      "{x: 'x', C_{{0}_r}: 'C_OCBOCB0CCB_rCCB', k_0: 'k_0', C_{{0}_t}: 'C_OCBOCB0CCB_tCCB'}\n"
     ]
    },
    {
     "data": {
      "text/plain": [
       "{'name': 'psi_0',\n",
       " 'functionFromConstantsBuilder': <function __main__.lambdifyWaveFunction.<locals>.makeFunctionFromConstants(constants: dict) -> float>,\n",
       " 'parameters': ['C_OCBOCB0CCB_rCCB',\n",
       "  'C_OCBOCB0CCB_tCCB',\n",
       "  'conjugateOPC_OCBOCB0CCB_rCCBCP',\n",
       "  'conjugateOPC_OCBOCB0CCB_tCCBCP',\n",
       "  'k_0',\n",
       "  'x'],\n",
       " 'symbol': psi_0,\n",
       " 'position': x,\n",
       " 'harmonicConstant': k_0,\n",
       " 'amplitudeCoefficientIdentifiers': ['C_OCBOCB0CCB_rCCB', 'C_OCBOCB0CCB_tCCB'],\n",
       " 'amplitudeConjugateCoefficientIdentifiers': ['conjugateOPC_OCBOCB0CCB_rCCBCP',\n",
       "  'conjugateOPC_OCBOCB0CCB_tCCBCP']}"
      ]
     },
     "execution_count": 73,
     "metadata": {},
     "output_type": "execute_result"
    }
   ],
   "source": [
    "lambdifyWaveFunction(regionFunctions[\"amplitudeConstantFunctions\"][0][\"amplitudeCoefficientEquations\"], POSITION_SYMBOL)"
   ]
  },
  {
   "cell_type": "code",
   "execution_count": 45,
   "id": "62356c64-6b91-42ef-9f6d-44f105f3ca03",
   "metadata": {},
   "outputs": [],
   "source": [
    "k_3 = 3"
   ]
  },
  {
   "cell_type": "code",
   "execution_count": 46,
   "id": "fa3504c7-eaf6-4d51-b8fe-6db2829e1005",
   "metadata": {},
   "outputs": [],
   "source": [
    "testBasicParameters = {\n",
    "    \"V_0\" : 1, \n",
    "    \"V_1\" : 2, \n",
    "    \"V_2\" : 3, \n",
    "    \"L_0\" : 2, \n",
    "    \"L_1\" : 3, \n",
    "    \"L_2\" : 4, \n",
    "    \"N_0\" : .1, \n",
    "    \"N_1\" : .2, \n",
    "    \"N_2\" : .7, \n",
    "    \"m\" : 1, \n",
    "    \"E_OCBtotalCCB\" : .5, \n",
    "    \"E_total\" : .5, \n",
    "    \"hbarX\" : 1, \n",
    "    \"k_3\" : k_3, ###### FOR TESTING ONLY\n",
    "    \"L_N1\" : 0, \n",
    "    \"B_3\" : 0\n",
    "}"
   ]
  },
  {
   "cell_type": "code",
   "execution_count": null,
   "id": "3a7b6f15-570e-4577-a04d-7144f113fc5b",
   "metadata": {},
   "outputs": [],
   "source": []
  },
  {
   "cell_type": "code",
   "execution_count": 47,
   "id": "25835347-4087-47c8-9a77-9b3761cd0640",
   "metadata": {},
   "outputs": [],
   "source": [
    "# Yoinked from computeSimulationConstants\n",
    "harmonicConstants = {\n",
    "        symbolicToIdentifier(functionData[\"equation\"].lhs) \n",
    "                : computeHarmonicConstant(\n",
    "                        functionData, \n",
    "                        testBasicParameters\n",
    "                    ) \\\n",
    "        for functionData in regionFunctions[\"harmonicConstantFunctions\"]\n",
    "    }\n"
   ]
  },
  {
   "cell_type": "code",
   "execution_count": 48,
   "id": "19328837-8d94-4177-b358-2d58549fdbed",
   "metadata": {},
   "outputs": [
    {
     "data": {
      "text/plain": [
       "{'k_0': 1.0000000000000002, 'k_1': 1.7320508075688772, 'k_2': 2.23606797749979}"
      ]
     },
     "execution_count": 48,
     "metadata": {},
     "output_type": "execute_result"
    }
   ],
   "source": [
    "harmonicConstants"
   ]
  },
  {
   "cell_type": "code",
   "execution_count": 49,
   "id": "e101fb79-0d91-42fe-86c5-a7a859b3b391",
   "metadata": {},
   "outputs": [],
   "source": [
    "harmonicConstants[\"k_3\"] = k_3"
   ]
  },
  {
   "cell_type": "code",
   "execution_count": 50,
   "id": "724e12c5-8bf6-4a12-996e-fa81768133ea",
   "metadata": {},
   "outputs": [
    {
     "data": {
      "text/plain": [
       "{'k_0': 1.0000000000000002,\n",
       " 'k_1': 1.7320508075688772,\n",
       " 'k_2': 2.23606797749979,\n",
       " 'k_3': 3}"
      ]
     },
     "execution_count": 50,
     "metadata": {},
     "output_type": "execute_result"
    }
   ],
   "source": [
    "harmonicConstants"
   ]
  },
  {
   "cell_type": "code",
   "execution_count": 51,
   "id": "aa96780b-0577-48ab-a911-5a3dfdcc894f",
   "metadata": {},
   "outputs": [],
   "source": [
    "trValues = {}\n",
    "for trFunctions in regionFunctions[\"transmissionReflectionFunctions\"]: \n",
    "    arguments = {parameter : harmonicConstants[parameter] for parameter in trFunctions[\"inputs\"]}\n",
    "    for name, calculator in trFunctions[\"computations\"].items(): \n",
    "        trValues[name] = calculator(**arguments)"
   ]
  },
  {
   "cell_type": "code",
   "execution_count": 52,
   "id": "6bb6818c-a2b0-4e68-8ee6-f3e795e01b6a",
   "metadata": {},
   "outputs": [
    {
     "data": {
      "text/plain": [
       "{'T_1_0': 1.2679491924311224,\n",
       " 'R_1_0': 0.26794919243112253,\n",
       " 'T_2_1': 1.1270166537925832,\n",
       " 'R_2_1': 0.12701665379258317,\n",
       " 'T_3_2': 1.1458980337503155,\n",
       " 'R_3_2': 0.14589803375031543}"
      ]
     },
     "execution_count": 52,
     "metadata": {},
     "output_type": "execute_result"
    }
   ],
   "source": [
    "trValues"
   ]
  },
  {
   "cell_type": "code",
   "execution_count": null,
   "id": "c1dbbc2a-e7d2-47ca-b494-4dd63ee4cddc",
   "metadata": {},
   "outputs": [],
   "source": []
  },
  {
   "cell_type": "code",
   "execution_count": null,
   "id": "90905704-0dc0-415b-a45c-139b534098d7",
   "metadata": {},
   "outputs": [],
   "source": []
  },
  {
   "cell_type": "code",
   "execution_count": 53,
   "id": "ded0d542-3707-420e-bac7-40e716db3852",
   "metadata": {},
   "outputs": [],
   "source": [
    "constants = computeSimulationConstants(preliminaryData, regionFunctions, testBasicParameters, 1, 1)"
   ]
  },
  {
   "cell_type": "code",
   "execution_count": null,
   "id": "f6c182dd-b13d-49ae-93b6-f84808cf7700",
   "metadata": {},
   "outputs": [],
   "source": []
  },
  {
   "cell_type": "code",
   "execution_count": 54,
   "id": "3f98d3a3-7e24-4b69-be90-f7c890e3ef08",
   "metadata": {},
   "outputs": [
    {
     "data": {
      "text/plain": [
       "{'harmonicConstants': {'k_0': 1.0000000000000002,\n",
       "  'k_1': 1.7320508075688772,\n",
       "  'k_2': 2.23606797749979},\n",
       " 'transfers': [{'from': {'region': <new_attempt.stateless.RegionSymbols at 0x7faa9b412b00>,\n",
       "    'matrix': Matrix([\n",
       "    [psi_2_t(L_1)],\n",
       "    [psi_2_r(L_1)]])},\n",
       "   'to': {'region': <new_attempt.stateless.RegionSymbols at 0x7faa9b4126b0>,\n",
       "    'matrix': Matrix([\n",
       "    [psi_3_t(L_2)],\n",
       "    [psi_3_r(L_2)]])},\n",
       "   'transferValues': {'psi_3_tOPL_2CP': 1, 'psi_3_rOPL_2CP': 1}},\n",
       "  {'from': {'region': <new_attempt.stateless.RegionSymbols at 0x7faa9b412b00>,\n",
       "    'matrix': Matrix([\n",
       "    [psi_2_t(L_1)],\n",
       "    [psi_2_r(L_1)]])},\n",
       "   'to': {'region': <new_attempt.stateless.RegionSymbols at 0x7faa9b4126b0>,\n",
       "    'matrix': Matrix([\n",
       "    [psi_3_t(L_2)],\n",
       "    [psi_3_r(L_2)]])},\n",
       "   'transferValues': {'psi_2_tOPL_1CP': 1.2909944487358058,\n",
       "    'psi_2_rOPL_1CP': 0.5773502691896257}},\n",
       "  {'from': {'region': <new_attempt.stateless.RegionSymbols at 0x7faa9b4126b0>,\n",
       "    'matrix': Matrix([\n",
       "    [psi_1_t(L_0)],\n",
       "    [psi_1_r(L_0)]])},\n",
       "   'to': {'region': <new_attempt.stateless.RegionSymbols at 0x7faa9b412260>,\n",
       "    'matrix': Matrix([\n",
       "    [psi_2_t(L_1)],\n",
       "    [psi_2_r(L_1)]])},\n",
       "   'transferValues': {'psi_1_tOPL_0CP': 1.4098944287730744,\n",
       "    'psi_1_rOPL_0CP': 0.1104431967784617}},\n",
       "  {'from': {'region': <new_attempt.stateless.RegionSymbols at 0x7faa9b412260>,\n",
       "    'matrix': Matrix([\n",
       "    [psi_0_t(L_-1)],\n",
       "    [psi_0_r(L_-1)]])},\n",
       "   'to': {'region': <new_attempt.stateless.RegionSymbols at 0x7faa9b411e10>,\n",
       "    'matrix': Matrix([\n",
       "    [psi_1_t(L_0)],\n",
       "    [psi_1_r(L_0)]])},\n",
       "   'transferValues': {'psi_0_tOPL_N1CP': 1.3028611815682298,\n",
       "    'psi_0_rOPL_N1CP': -0.5500479447853941}}],\n",
       " 'boundryIndexedTransfers': {'B_2': 1.8683447179254316,\n",
       "  'B_1': 1.520337625551536,\n",
       "  'B_0': 0.7528132367828357},\n",
       " 'amplitudeConstants': {'C_OCBOCB0CCB_tCCB': [0.09705297623280645,\n",
       "   -0.09705297623280645],\n",
       "  'C_OCBOCB0CCB_rCCB': [1.513778541392071, -1.513778541392071],\n",
       "  'C_OCBOCB1CCB_tCCB': [0.008258172236487468, -0.008258172236487468],\n",
       "  'C_OCBOCB1CCB_rCCB': [59.264181334475055, -59.264181334475055],\n",
       "  'C_OCBOCB2CCB_tCCB': [0.0003387147991817995, -0.0003387147991817995],\n",
       "  'C_OCBOCB2CCB_rCCB': [1466.9562132186725, -1466.9562132186725]}}"
      ]
     },
     "execution_count": 54,
     "metadata": {},
     "output_type": "execute_result"
    }
   ],
   "source": [
    "constants"
   ]
  },
  {
   "cell_type": "code",
   "execution_count": null,
   "id": "b1002b0e-4cf3-46d3-9a55-26061313e471",
   "metadata": {},
   "outputs": [],
   "source": []
  },
  {
   "cell_type": "code",
   "execution_count": 75,
   "id": "c20f9952-41ad-481e-a804-093a8eb4feaf",
   "metadata": {},
   "outputs": [
    {
     "name": "stdout",
     "output_type": "stream",
     "text": [
      "{x: 'x', C_{{0}_r}: 'C_OCBOCB0CCB_rCCB', k_0: 'k_0', C_{{0}_t}: 'C_OCBOCB0CCB_tCCB'}\n",
      "{C_{{1}_t}: 'C_OCBOCB1CCB_tCCB', k_1: 'k_1', x: 'x', C_{{1}_r}: 'C_OCBOCB1CCB_rCCB'}\n",
      "{x: 'x', C_{{2}_t}: 'C_OCBOCB2CCB_tCCB', C_{{2}_r}: 'C_OCBOCB2CCB_rCCB', k_2: 'k_2'}\n"
     ]
    }
   ],
   "source": [
    "waveFunctionGenerators = [\n",
    "            lambdifyWaveFunction(function[\"amplitudeCoefficientEquations\"], POSITION_SYMBOL)\n",
    "            for function in regionFunctions[\"amplitudeConstantFunctions\"]\n",
    "    ]"
   ]
  },
  {
   "cell_type": "code",
   "execution_count": null,
   "id": "8c5bfe30-a5b6-4cfc-ad06-0f14c932fbf3",
   "metadata": {},
   "outputs": [],
   "source": []
  },
  {
   "cell_type": "code",
   "execution_count": 76,
   "id": "792cd469-0949-453e-ac1d-fc1806df501b",
   "metadata": {},
   "outputs": [],
   "source": [
    "waveFunctions = [\n",
    "        generator[\"functionFromConstantsBuilder\"](constants) \\\n",
    "        for generator in waveFunctionGenerators\n",
    "    ]"
   ]
  },
  {
   "cell_type": "code",
   "execution_count": 77,
   "id": "baf22047-0b46-442b-8243-d50ff39b2f54",
   "metadata": {},
   "outputs": [
    {
     "data": {
      "text/plain": [
       "[<function __main__.lambdifyWaveFunction.<locals>.makeFunctionFromConstants.<locals>.<lambda>(position_)>,\n",
       " <function __main__.lambdifyWaveFunction.<locals>.makeFunctionFromConstants.<locals>.<lambda>(position_)>,\n",
       " <function __main__.lambdifyWaveFunction.<locals>.makeFunctionFromConstants.<locals>.<lambda>(position_)>]"
      ]
     },
     "execution_count": 77,
     "metadata": {},
     "output_type": "execute_result"
    }
   ],
   "source": [
    "waveFunctions"
   ]
  },
  {
   "cell_type": "code",
   "execution_count": 81,
   "id": "dd3721e8-eb57-4e96-b399-09d996f5afdc",
   "metadata": {},
   "outputs": [],
   "source": [
    "L_N1 = testBasicParameters[\"L_N1\"]\n",
    "L_0 = testBasicParameters[\"L_0\"]\n",
    "L_1 = testBasicParameters[\"L_1\"]\n",
    "L_2 = testBasicParameters[\"L_2\"]\n",
    "resolution = .01"
   ]
  },
  {
   "cell_type": "code",
   "execution_count": 82,
   "id": "e456ee6c-8958-490f-8911-2ac253c9efb3",
   "metadata": {},
   "outputs": [],
   "source": [
    "domains = [\n",
    "        np.arange(L_N1, L_0, resolution), \n",
    "        np.arange(L_0, L_1, resolution), \n",
    "        np.arange(L_1, L_2, resolution)\n",
    "    ]"
   ]
  },
  {
   "cell_type": "code",
   "execution_count": 84,
   "id": "0e66010d-cf19-4dad-b119-959e72dcb615",
   "metadata": {},
   "outputs": [],
   "source": [
    "waveFunctionProbabilities = [\n",
    "        waveFunctions[ii](domains[ii])\n",
    "        for ii in range(len(waveFunctions))\n",
    "    ]"
   ]
  },
  {
   "cell_type": "code",
   "execution_count": 85,
   "id": "5e2a449a-dd53-4b76-8111-f8b4ea571741",
   "metadata": {},
   "outputs": [
    {
     "name": "stderr",
     "output_type": "stream",
     "text": [
      "/opt/conda/lib/python3.10/site-packages/matplotlib/cbook/__init__.py:1298: ComplexWarning: Casting complex values to real discards the imaginary part\n",
      "  return np.asarray(x, float)\n"
     ]
    },
    {
     "data": {
      "text/plain": [
       "[<matplotlib.lines.Line2D at 0x7faa958f4f70>]"
      ]
     },
     "execution_count": 85,
     "metadata": {},
     "output_type": "execute_result"
    },
    {
     "data": {
      "image/png": "[encoded data removed]",
      "text/plain": [
       "<Figure size 432x288 with 1 Axes>"
      ]
     },
     "metadata": {
      "needs_background": "light"
     },
     "output_type": "display_data"
    }
   ],
   "source": [
    "plt.plot(domains[0], waveFunctionProbabilities[0])"
   ]
  },
  {
   "cell_type": "code",
   "execution_count": 86,
   "id": "3923dfd3-5d63-4392-9f9d-b8b30193c092",
   "metadata": {},
   "outputs": [
    {
     "data": {
      "text/plain": [
       "[<matplotlib.lines.Line2D at 0x7faa8d5f1300>]"
      ]
     },
     "execution_count": 86,
     "metadata": {},
     "output_type": "execute_result"
    },
    {
     "data": {
      "image/png": "[encoded data removed]",
      "text/plain": [
       "<Figure size 432x288 with 1 Axes>"
      ]
     },
     "metadata": {
      "needs_background": "light"
     },
     "output_type": "display_data"
    }
   ],
   "source": [
    "plt.plot(domains[1], waveFunctionProbabilities[1])"
   ]
  },
  {
   "cell_type": "code",
   "execution_count": 87,
   "id": "4dfd2d37-855d-4b04-b2bf-bef34199baed",
   "metadata": {},
   "outputs": [
    {
     "data": {
      "text/plain": [
       "[<matplotlib.lines.Line2D at 0x7faa8d6704f0>]"
      ]
     },
     "execution_count": 87,
     "metadata": {},
     "output_type": "execute_result"
    },
    {
     "data": {
      "image/png": "[encoded data removed]",
      "text/plain": [
       "<Figure size 432x288 with 1 Axes>"
      ]
     },
     "metadata": {
      "needs_background": "light"
     },
     "output_type": "display_data"
    }
   ],
   "source": [
    "plt.plot(domains[2], waveFunctionProbabilities[2])"
   ]
  },
  {
   "cell_type": "code",
   "execution_count": null,
   "id": "6e24b4b3-e853-4aba-8cbb-3566c4ae93c3",
   "metadata": {},
   "outputs": [],
   "source": []
  }
 ],
 "metadata": {
  "kernelspec": {
   "display_name": "Python 3 (ipykernel)",
   "language": "python",
   "name": "python3"
  },
  "language_info": {
   "codemirror_mode": {
    "name": "ipython",
    "version": 3
   },
   "file_extension": ".py",
   "mimetype": "text/x-python",
   "name": "python",
   "nbconvert_exporter": "python",
   "pygments_lexer": "ipython3",
   "version": "3.10.5"
  }
 },
 "nbformat": 4,
 "nbformat_minor": 5
}
