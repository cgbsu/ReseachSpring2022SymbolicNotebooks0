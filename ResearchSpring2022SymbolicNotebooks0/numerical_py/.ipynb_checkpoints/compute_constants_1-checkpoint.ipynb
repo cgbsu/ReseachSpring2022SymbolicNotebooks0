{
 "cells": [
  {
   "cell_type": "code",
   "execution_count": 1,
   "id": "8c69371e-3b59-4f37-a0c0-390f1f253d4f",
   "metadata": {},
   "outputs": [],
   "source": [
    "from new_attempt.stateless import *"
   ]
  },
  {
   "cell_type": "code",
   "execution_count": 52,
   "id": "103ce23f-11ca-460a-b2a2-ee9237771a3e",
   "metadata": {},
   "outputs": [],
   "source": [
    "import numpy as np"
   ]
  },
  {
   "cell_type": "code",
   "execution_count": 62,
   "id": "ba03ff64-cf5a-4023-9e69-2853be990392",
   "metadata": {},
   "outputs": [],
   "source": [
    "import inspect"
   ]
  },
  {
   "cell_type": "code",
   "execution_count": 2,
   "id": "48b8b2f9-72d7-4b08-be7c-779405f9e25b",
   "metadata": {},
   "outputs": [],
   "source": [
    "preliminaryData = createPreliminaryData(3)"
   ]
  },
  {
   "cell_type": "code",
   "execution_count": 3,
   "id": "175bde70-2ee7-4ceb-8461-7d46afcaf3db",
   "metadata": {
    "tags": []
   },
   "outputs": [
    {
     "data": {
      "text/plain": [
       "{'transmissionReflectionGenerator': <function new_attempt.stateless.makeCoefficentsFromHarmonicConstants(from_: new_attempt.stateless.RegionSymbols, to: new_attempt.stateless.RegionSymbols) -> dict>,\n",
       " 'regionSymbols': [<new_attempt.stateless.RegionSymbols at 0x7f57c83ae4a0>,\n",
       "  <new_attempt.stateless.RegionSymbols at 0x7f571e389390>,\n",
       "  <new_attempt.stateless.RegionSymbols at 0x7f571e3897e0>,\n",
       "  <new_attempt.stateless.RegionSymbols at 0x7f571e389cc0>,\n",
       "  <new_attempt.stateless.RegionSymbols at 0x7f571e38a110>],\n",
       " 'waveEquations': [Eq(V_0*psi_0(x) - hbarX**2*Derivative(psi_0(x), (x, 2))/(2*m), E_{total}*psi_0(x)),\n",
       "  Eq(V_1*psi_1(x) - hbarX**2*Derivative(psi_1(x), (x, 2))/(2*m), E_{total}*psi_1(x)),\n",
       "  Eq(V_2*psi_2(x) - hbarX**2*Derivative(psi_2(x), (x, 2))/(2*m), E_{total}*psi_2(x))],\n",
       " 'normalizations': [Eq(Integral(psi_0(x)*conjugate(psi_0(x)), (x, L_-1, L_0)), N_0),\n",
       "  Eq(Integral(psi_1(x)*conjugate(psi_1(x)), (x, L_0, L_1)), N_1),\n",
       "  Eq(Integral(psi_2(x)*conjugate(psi_2(x)), (x, L_1, L_2)), N_2)],\n",
       " 'generalSolutions': [{'boundries': {psi_0(L_-1): B_0, psi_0(L_0): B_1},\n",
       "   'harmonicConstantEquation': Eq(k_0, sqrt(2)*sqrt(m)*sqrt(-E_{total} + V_0)/hbarX),\n",
       "   'generalSolution': Eq(psi_0(x), (B_0*exp(L_-1*k_0)/(exp(2*L_-1*k_0) - exp(2*L_0*k_0)) - B_1*exp(L_0*k_0)/(exp(2*L_-1*k_0) - exp(2*L_0*k_0)))*exp(k_0*x) + (-B_0*exp(L_-1*k_0)*exp(2*L_0*k_0)/(exp(2*L_-1*k_0) - exp(2*L_0*k_0)) + B_1*exp(2*L_-1*k_0)*exp(L_0*k_0)/(exp(2*L_-1*k_0) - exp(2*L_0*k_0)))*exp(-k_0*x))},\n",
       "  {'boundries': {psi_1(L_0): B_1, psi_1(L_1): B_2},\n",
       "   'harmonicConstantEquation': Eq(k_1, sqrt(2)*sqrt(m)*sqrt(-E_{total} + V_1)/hbarX),\n",
       "   'generalSolution': Eq(psi_1(x), (B_1*exp(L_0*k_1)/(exp(2*L_0*k_1) - exp(2*L_1*k_1)) - B_2*exp(L_1*k_1)/(exp(2*L_0*k_1) - exp(2*L_1*k_1)))*exp(k_1*x) + (-B_1*exp(L_0*k_1)*exp(2*L_1*k_1)/(exp(2*L_0*k_1) - exp(2*L_1*k_1)) + B_2*exp(2*L_0*k_1)*exp(L_1*k_1)/(exp(2*L_0*k_1) - exp(2*L_1*k_1)))*exp(-k_1*x))},\n",
       "  {'boundries': {psi_2(L_1): B_2, psi_2(L_2): B_3},\n",
       "   'harmonicConstantEquation': Eq(k_2, sqrt(2)*sqrt(m)*sqrt(-E_{total} + V_2)/hbarX),\n",
       "   'generalSolution': Eq(psi_2(x), (B_2*exp(L_1*k_2)/(exp(2*L_1*k_2) - exp(2*L_2*k_2)) - B_3*exp(L_2*k_2)/(exp(2*L_1*k_2) - exp(2*L_2*k_2)))*exp(k_2*x) + (-B_2*exp(L_1*k_2)*exp(2*L_2*k_2)/(exp(2*L_1*k_2) - exp(2*L_2*k_2)) + B_3*exp(2*L_1*k_2)*exp(L_2*k_2)/(exp(2*L_1*k_2) - exp(2*L_2*k_2)))*exp(-k_2*x))}]}"
      ]
     },
     "execution_count": 3,
     "metadata": {},
     "output_type": "execute_result"
    }
   ],
   "source": [
    "preliminaryData"
   ]
  },
  {
   "cell_type": "code",
   "execution_count": 4,
   "id": "daeb7e62-70cb-450b-9777-3748320f79a5",
   "metadata": {},
   "outputs": [
    {
     "name": "stdout",
     "output_type": "stream",
     "text": [
      "to:  {'inputs': ['psi_0_tOPL_N1CP', 'psi_0_rOPL_N1CP'], 'matrix': Matrix([\n",
      "[psi_0_t(L_-1)],\n",
      "[psi_0_r(L_-1)]])}\n",
      "from:  {'inputs': ['psi_1_tOPL_0CP', 'psi_1_rOPL_0CP'], 'matrix': Matrix([\n",
      "[psi_1_t(L_0)],\n",
      "[psi_1_r(L_0)]])}\n",
      "to:  {'inputs': ['psi_1_tOPL_0CP', 'psi_1_rOPL_0CP'], 'matrix': Matrix([\n",
      "[psi_1_t(L_0)],\n",
      "[psi_1_r(L_0)]])}\n",
      "from:  {'inputs': ['psi_2_tOPL_1CP', 'psi_2_rOPL_1CP'], 'matrix': Matrix([\n",
      "[psi_2_t(L_1)],\n",
      "[psi_2_r(L_1)]])}\n",
      "to:  {'inputs': ['psi_2_tOPL_1CP', 'psi_2_rOPL_1CP'], 'matrix': Matrix([\n",
      "[psi_2_t(L_1)],\n",
      "[psi_2_r(L_1)]])}\n",
      "from:  {'inputs': ['psi_3_tOPL_2CP', 'psi_3_rOPL_2CP'], 'matrix': Matrix([\n",
      "[psi_3_t(L_2)],\n",
      "[psi_3_r(L_2)]])}\n",
      "Parametes\n"
     ]
    },
    {
     "data": {
      "text/plain": [
       "['B_0', 'B_1', 'L_0', 'L_N1', 'N_0', 'k_0']"
      ]
     },
     "metadata": {},
     "output_type": "display_data"
    },
    {
     "name": "stdout",
     "output_type": "stream",
     "text": [
      "Parametes\n"
     ]
    },
    {
     "data": {
      "text/plain": [
       "[]"
      ]
     },
     "metadata": {},
     "output_type": "display_data"
    },
    {
     "name": "stdout",
     "output_type": "stream",
     "text": [
      "Parametes\n"
     ]
    },
    {
     "data": {
      "text/plain": [
       "['L_0', 'L_N1', 'k_0']"
      ]
     },
     "metadata": {},
     "output_type": "display_data"
    },
    {
     "name": "stdout",
     "output_type": "stream",
     "text": [
      "Parametes\n"
     ]
    },
    {
     "data": {
      "text/plain": [
       "[]"
      ]
     },
     "metadata": {},
     "output_type": "display_data"
    },
    {
     "name": "stdout",
     "output_type": "stream",
     "text": [
      "Parametes\n"
     ]
    },
    {
     "data": {
      "text/plain": [
       "['B_0', 'B_1', 'L_0', 'L_N1', 'N_0', 'k_0']"
      ]
     },
     "metadata": {},
     "output_type": "display_data"
    },
    {
     "name": "stdout",
     "output_type": "stream",
     "text": [
      "Parametes\n"
     ]
    },
    {
     "data": {
      "text/plain": [
       "[]"
      ]
     },
     "metadata": {},
     "output_type": "display_data"
    },
    {
     "name": "stdout",
     "output_type": "stream",
     "text": [
      "Parametes\n"
     ]
    },
    {
     "data": {
      "text/plain": [
       "['L_0', 'L_N1', 'k_0']"
      ]
     },
     "metadata": {},
     "output_type": "display_data"
    },
    {
     "name": "stdout",
     "output_type": "stream",
     "text": [
      "Parametes\n"
     ]
    },
    {
     "data": {
      "text/plain": [
       "[]"
      ]
     },
     "metadata": {},
     "output_type": "display_data"
    },
    {
     "name": "stdout",
     "output_type": "stream",
     "text": [
      "Parametes\n"
     ]
    },
    {
     "data": {
      "text/plain": [
       "['B_0', 'B_1', 'L_0', 'L_N1', 'N_0', 'k_0']"
      ]
     },
     "metadata": {},
     "output_type": "display_data"
    },
    {
     "name": "stdout",
     "output_type": "stream",
     "text": [
      "Parametes\n"
     ]
    },
    {
     "data": {
      "text/plain": [
       "[]"
      ]
     },
     "metadata": {},
     "output_type": "display_data"
    },
    {
     "name": "stdout",
     "output_type": "stream",
     "text": [
      "Parametes\n"
     ]
    },
    {
     "data": {
      "text/plain": [
       "['L_0', 'L_N1', 'k_0']"
      ]
     },
     "metadata": {},
     "output_type": "display_data"
    },
    {
     "name": "stdout",
     "output_type": "stream",
     "text": [
      "Parametes\n"
     ]
    },
    {
     "data": {
      "text/plain": [
       "['L_0', 'L_N1', 'k_0']"
      ]
     },
     "metadata": {},
     "output_type": "display_data"
    },
    {
     "name": "stdout",
     "output_type": "stream",
     "text": [
      "Parametes\n"
     ]
    },
    {
     "data": {
      "text/plain": [
       "['B_0', 'B_1', 'L_0', 'L_N1', 'N_0', 'k_0']"
      ]
     },
     "metadata": {},
     "output_type": "display_data"
    },
    {
     "name": "stdout",
     "output_type": "stream",
     "text": [
      "Parametes\n"
     ]
    },
    {
     "data": {
      "text/plain": [
       "[]"
      ]
     },
     "metadata": {},
     "output_type": "display_data"
    },
    {
     "name": "stdout",
     "output_type": "stream",
     "text": [
      "Parametes\n"
     ]
    },
    {
     "data": {
      "text/plain": [
       "['L_0', 'L_N1', 'k_0']"
      ]
     },
     "metadata": {},
     "output_type": "display_data"
    },
    {
     "name": "stdout",
     "output_type": "stream",
     "text": [
      "Parametes\n"
     ]
    },
    {
     "data": {
      "text/plain": [
       "['L_0', 'L_N1', 'k_0']"
      ]
     },
     "metadata": {},
     "output_type": "display_data"
    },
    {
     "name": "stdout",
     "output_type": "stream",
     "text": [
      "Parametes\n"
     ]
    },
    {
     "data": {
      "text/plain": [
       "['B_1', 'B_2', 'L_0', 'L_1', 'N_1', 'k_1']"
      ]
     },
     "metadata": {},
     "output_type": "display_data"
    },
    {
     "name": "stdout",
     "output_type": "stream",
     "text": [
      "Parametes\n"
     ]
    },
    {
     "data": {
      "text/plain": [
       "[]"
      ]
     },
     "metadata": {},
     "output_type": "display_data"
    },
    {
     "name": "stdout",
     "output_type": "stream",
     "text": [
      "Parametes\n"
     ]
    },
    {
     "data": {
      "text/plain": [
       "['L_0', 'L_1', 'k_1']"
      ]
     },
     "metadata": {},
     "output_type": "display_data"
    },
    {
     "name": "stdout",
     "output_type": "stream",
     "text": [
      "Parametes\n"
     ]
    },
    {
     "data": {
      "text/plain": [
       "[]"
      ]
     },
     "metadata": {},
     "output_type": "display_data"
    },
    {
     "name": "stdout",
     "output_type": "stream",
     "text": [
      "Parametes\n"
     ]
    },
    {
     "data": {
      "text/plain": [
       "['B_1', 'B_2', 'L_0', 'L_1', 'N_1', 'k_1']"
      ]
     },
     "metadata": {},
     "output_type": "display_data"
    },
    {
     "name": "stdout",
     "output_type": "stream",
     "text": [
      "Parametes\n"
     ]
    },
    {
     "data": {
      "text/plain": [
       "[]"
      ]
     },
     "metadata": {},
     "output_type": "display_data"
    },
    {
     "name": "stdout",
     "output_type": "stream",
     "text": [
      "Parametes\n"
     ]
    },
    {
     "data": {
      "text/plain": [
       "['L_0', 'L_1', 'k_1']"
      ]
     },
     "metadata": {},
     "output_type": "display_data"
    },
    {
     "name": "stdout",
     "output_type": "stream",
     "text": [
      "Parametes\n"
     ]
    },
    {
     "data": {
      "text/plain": [
       "[]"
      ]
     },
     "metadata": {},
     "output_type": "display_data"
    },
    {
     "name": "stdout",
     "output_type": "stream",
     "text": [
      "Parametes\n"
     ]
    },
    {
     "data": {
      "text/plain": [
       "['B_1', 'B_2', 'L_0', 'L_1', 'N_1', 'k_1']"
      ]
     },
     "metadata": {},
     "output_type": "display_data"
    },
    {
     "name": "stdout",
     "output_type": "stream",
     "text": [
      "Parametes\n"
     ]
    },
    {
     "data": {
      "text/plain": [
       "[]"
      ]
     },
     "metadata": {},
     "output_type": "display_data"
    },
    {
     "name": "stdout",
     "output_type": "stream",
     "text": [
      "Parametes\n"
     ]
    },
    {
     "data": {
      "text/plain": [
       "['L_0', 'L_1', 'k_1']"
      ]
     },
     "metadata": {},
     "output_type": "display_data"
    },
    {
     "name": "stdout",
     "output_type": "stream",
     "text": [
      "Parametes\n"
     ]
    },
    {
     "data": {
      "text/plain": [
       "['L_0', 'L_1', 'k_1']"
      ]
     },
     "metadata": {},
     "output_type": "display_data"
    },
    {
     "name": "stdout",
     "output_type": "stream",
     "text": [
      "Parametes\n"
     ]
    },
    {
     "data": {
      "text/plain": [
       "['B_1', 'B_2', 'L_0', 'L_1', 'N_1', 'k_1']"
      ]
     },
     "metadata": {},
     "output_type": "display_data"
    },
    {
     "name": "stdout",
     "output_type": "stream",
     "text": [
      "Parametes\n"
     ]
    },
    {
     "data": {
      "text/plain": [
       "[]"
      ]
     },
     "metadata": {},
     "output_type": "display_data"
    },
    {
     "name": "stdout",
     "output_type": "stream",
     "text": [
      "Parametes\n"
     ]
    },
    {
     "data": {
      "text/plain": [
       "['L_0', 'L_1', 'k_1']"
      ]
     },
     "metadata": {},
     "output_type": "display_data"
    },
    {
     "name": "stdout",
     "output_type": "stream",
     "text": [
      "Parametes\n"
     ]
    },
    {
     "data": {
      "text/plain": [
       "['L_0', 'L_1', 'k_1']"
      ]
     },
     "metadata": {},
     "output_type": "display_data"
    },
    {
     "name": "stdout",
     "output_type": "stream",
     "text": [
      "Parametes\n"
     ]
    },
    {
     "data": {
      "text/plain": [
       "['B_2', 'B_3', 'L_1', 'L_2', 'N_2', 'k_2']"
      ]
     },
     "metadata": {},
     "output_type": "display_data"
    },
    {
     "name": "stdout",
     "output_type": "stream",
     "text": [
      "Parametes\n"
     ]
    },
    {
     "data": {
      "text/plain": [
       "[]"
      ]
     },
     "metadata": {},
     "output_type": "display_data"
    },
    {
     "name": "stdout",
     "output_type": "stream",
     "text": [
      "Parametes\n"
     ]
    },
    {
     "data": {
      "text/plain": [
       "['L_1', 'L_2', 'k_2']"
      ]
     },
     "metadata": {},
     "output_type": "display_data"
    },
    {
     "name": "stdout",
     "output_type": "stream",
     "text": [
      "Parametes\n"
     ]
    },
    {
     "data": {
      "text/plain": [
       "[]"
      ]
     },
     "metadata": {},
     "output_type": "display_data"
    },
    {
     "name": "stdout",
     "output_type": "stream",
     "text": [
      "Parametes\n"
     ]
    },
    {
     "data": {
      "text/plain": [
       "['B_2', 'B_3', 'L_1', 'L_2', 'N_2', 'k_2']"
      ]
     },
     "metadata": {},
     "output_type": "display_data"
    },
    {
     "name": "stdout",
     "output_type": "stream",
     "text": [
      "Parametes\n"
     ]
    },
    {
     "data": {
      "text/plain": [
       "[]"
      ]
     },
     "metadata": {},
     "output_type": "display_data"
    },
    {
     "name": "stdout",
     "output_type": "stream",
     "text": [
      "Parametes\n"
     ]
    },
    {
     "data": {
      "text/plain": [
       "['L_1', 'L_2', 'k_2']"
      ]
     },
     "metadata": {},
     "output_type": "display_data"
    },
    {
     "name": "stdout",
     "output_type": "stream",
     "text": [
      "Parametes\n"
     ]
    },
    {
     "data": {
      "text/plain": [
       "[]"
      ]
     },
     "metadata": {},
     "output_type": "display_data"
    },
    {
     "name": "stdout",
     "output_type": "stream",
     "text": [
      "Parametes\n"
     ]
    },
    {
     "data": {
      "text/plain": [
       "['B_2', 'B_3', 'L_1', 'L_2', 'N_2', 'k_2']"
      ]
     },
     "metadata": {},
     "output_type": "display_data"
    },
    {
     "name": "stdout",
     "output_type": "stream",
     "text": [
      "Parametes\n"
     ]
    },
    {
     "data": {
      "text/plain": [
       "[]"
      ]
     },
     "metadata": {},
     "output_type": "display_data"
    },
    {
     "name": "stdout",
     "output_type": "stream",
     "text": [
      "Parametes\n"
     ]
    },
    {
     "data": {
      "text/plain": [
       "['L_1', 'L_2', 'k_2']"
      ]
     },
     "metadata": {},
     "output_type": "display_data"
    },
    {
     "name": "stdout",
     "output_type": "stream",
     "text": [
      "Parametes\n"
     ]
    },
    {
     "data": {
      "text/plain": [
       "['L_1', 'L_2', 'k_2']"
      ]
     },
     "metadata": {},
     "output_type": "display_data"
    },
    {
     "name": "stdout",
     "output_type": "stream",
     "text": [
      "Parametes\n"
     ]
    },
    {
     "data": {
      "text/plain": [
       "['B_2', 'B_3', 'L_1', 'L_2', 'N_2', 'k_2']"
      ]
     },
     "metadata": {},
     "output_type": "display_data"
    },
    {
     "name": "stdout",
     "output_type": "stream",
     "text": [
      "Parametes\n"
     ]
    },
    {
     "data": {
      "text/plain": [
       "[]"
      ]
     },
     "metadata": {},
     "output_type": "display_data"
    },
    {
     "name": "stdout",
     "output_type": "stream",
     "text": [
      "Parametes\n"
     ]
    },
    {
     "data": {
      "text/plain": [
       "['L_1', 'L_2', 'k_2']"
      ]
     },
     "metadata": {},
     "output_type": "display_data"
    },
    {
     "name": "stdout",
     "output_type": "stream",
     "text": [
      "Parametes\n"
     ]
    },
    {
     "data": {
      "text/plain": [
       "['L_1', 'L_2', 'k_2']"
      ]
     },
     "metadata": {},
     "output_type": "display_data"
    }
   ],
   "source": [
    "regionFunctions = generateRegionFunctions(preliminaryData)"
   ]
  },
  {
   "cell_type": "code",
   "execution_count": 5,
   "id": "3d02b0fc-1361-4959-9ae6-ebbe13fa4a83",
   "metadata": {},
   "outputs": [],
   "source": [
    "#regionFunctions"
   ]
  },
  {
   "cell_type": "code",
   "execution_count": 131,
   "id": "62356c64-6b91-42ef-9f6d-44f105f3ca03",
   "metadata": {},
   "outputs": [],
   "source": [
    "k_3 = 1.5"
   ]
  },
  {
   "cell_type": "code",
   "execution_count": 132,
   "id": "fa3504c7-eaf6-4d51-b8fe-6db2829e1005",
   "metadata": {},
   "outputs": [],
   "source": [
    "testBasicParameters = {\n",
    "    \"V_0\" : 1, \n",
    "    \"V_1\" : 1, \n",
    "    \"V_2\" : 1, \n",
    "    \"L_0\" : 1, \n",
    "    \"L_1\" : 2, \n",
    "    \"L_2\" : 3, \n",
    "    \"N_0\" : .1, \n",
    "    \"N_1\" : .2, \n",
    "    \"N_2\" : .7, \n",
    "    \"m\" : 1, \n",
    "    \"E_OCBtotalCCB\" : .5, \n",
    "    \"E_total\" : .5, \n",
    "    \"hbarX\" : 1, \n",
    "    \"k_3\" : k_3, ###### FOR TESTING ONLY\n",
    "    \"L_N1\" : 0, \n",
    "    \"B_3\" : 0\n",
    "}"
   ]
  },
  {
   "cell_type": "code",
   "execution_count": null,
   "id": "3a7b6f15-570e-4577-a04d-7144f113fc5b",
   "metadata": {},
   "outputs": [],
   "source": []
  },
  {
   "cell_type": "code",
   "execution_count": 133,
   "id": "348d9834-d9d2-4fb1-887c-f84133347bfc",
   "metadata": {},
   "outputs": [
    {
     "data": {
      "text/plain": [
       "{'from': <new_attempt.stateless.RegionSymbols at 0x7f571e38a110>,\n",
       " 'to': <new_attempt.stateless.RegionSymbols at 0x7f571e389cc0>,\n",
       " 'inputs': ['k_3', 'k_2'],\n",
       " 'outputs': ['T_3_2', 'R_3_2'],\n",
       " 'computations': {'T_3_2': <function _lambdifygenerated(k_3, k_2)>,\n",
       "  'R_3_2': <function _lambdifygenerated(k_3, k_2)>}}"
      ]
     },
     "execution_count": 133,
     "metadata": {},
     "output_type": "execute_result"
    }
   ],
   "source": [
    "regionFunctions[\"transmissionReflectionFunctions\"][2]"
   ]
  },
  {
   "cell_type": "code",
   "execution_count": 134,
   "id": "ab6d4219-746e-4c55-94bb-b1cbc6e7d951",
   "metadata": {},
   "outputs": [],
   "source": [
    "T_3_2 = regionFunctions[\"transmissionReflectionFunctions\"][2][\"computations\"][\"T_3_2\"](1, 1.0000000000000002)"
   ]
  },
  {
   "cell_type": "code",
   "execution_count": 135,
   "id": "5f80d55e-3a36-4c75-9a57-62e1d68ca71f",
   "metadata": {},
   "outputs": [],
   "source": [
    "R_3_2 = regionFunctions[\"transmissionReflectionFunctions\"][2][\"computations\"][\"R_3_2\"](1, 1.0000000000000002)"
   ]
  },
  {
   "cell_type": "code",
   "execution_count": 136,
   "id": "90a65bc8-a3b5-4184-91e0-cafb31b1ef7d",
   "metadata": {},
   "outputs": [
    {
     "data": {
      "text/plain": [
       "1.0"
      ]
     },
     "execution_count": 136,
     "metadata": {},
     "output_type": "execute_result"
    }
   ],
   "source": [
    "T_3_2"
   ]
  },
  {
   "cell_type": "code",
   "execution_count": 137,
   "id": "12c68091-0bd4-4350-9ce4-68135f016c90",
   "metadata": {},
   "outputs": [
    {
     "data": {
      "text/plain": [
       "-1.1102230246251565e-16"
      ]
     },
     "execution_count": 137,
     "metadata": {},
     "output_type": "execute_result"
    }
   ],
   "source": [
    "R_3_2"
   ]
  },
  {
   "cell_type": "code",
   "execution_count": 138,
   "id": "97f9153e-e61a-4469-a332-8d35b202c5fd",
   "metadata": {},
   "outputs": [
    {
     "data": {
      "text/plain": [
       "(['def _lambdifygenerated(k_3, k_2):\\n',\n",
       "  '    return (-k_2 + k_3)/(k_2 + k_3)\\n'],\n",
       " 0)"
      ]
     },
     "execution_count": 138,
     "metadata": {},
     "output_type": "execute_result"
    }
   ],
   "source": [
    "inspect.findsource(regionFunctions[\"transmissionReflectionFunctions\"][2][\"computations\"][\"R_3_2\"])"
   ]
  },
  {
   "cell_type": "code",
   "execution_count": null,
   "id": "0fb390d2-463e-4f9f-91ed-e1ee06475324",
   "metadata": {},
   "outputs": [],
   "source": []
  },
  {
   "cell_type": "code",
   "execution_count": 139,
   "id": "fd1b9029-5454-4572-b1a7-bcda6ec531d2",
   "metadata": {},
   "outputs": [
    {
     "data": {
      "text/plain": [
       "1.0"
      ]
     },
     "execution_count": 139,
     "metadata": {},
     "output_type": "execute_result"
    }
   ],
   "source": [
    "np.sqrt(T_3_2)"
   ]
  },
  {
   "cell_type": "code",
   "execution_count": 140,
   "id": "4a15f20b-3b44-4526-a6a2-bd36e07c9f45",
   "metadata": {},
   "outputs": [
    {
     "name": "stderr",
     "output_type": "stream",
     "text": [
      "/tmp/ipykernel_633/4030743608.py:1: RuntimeWarning: invalid value encountered in sqrt\n",
      "  np.sqrt(R_3_2)\n"
     ]
    },
    {
     "data": {
      "text/plain": [
       "nan"
      ]
     },
     "execution_count": 140,
     "metadata": {},
     "output_type": "execute_result"
    }
   ],
   "source": [
    "np.sqrt(R_3_2)"
   ]
  },
  {
   "cell_type": "code",
   "execution_count": null,
   "id": "e8c9e02a-34a1-4df7-aef1-469bbbbc2834",
   "metadata": {},
   "outputs": [],
   "source": []
  },
  {
   "cell_type": "code",
   "execution_count": 141,
   "id": "25835347-4087-47c8-9a77-9b3761cd0640",
   "metadata": {},
   "outputs": [],
   "source": [
    "# Yoinked from computeSimulationConstants\n",
    "harmonicConstants = {\n",
    "        symbolicToIdentifier(functionData[\"equation\"].lhs) \n",
    "                : computeHarmonicConstant(\n",
    "                        functionData, \n",
    "                        testBasicParameters\n",
    "                    ) \\\n",
    "        for functionData in regionFunctions[\"harmonicConstantFunctions\"]\n",
    "    }\n"
   ]
  },
  {
   "cell_type": "code",
   "execution_count": 142,
   "id": "19328837-8d94-4177-b358-2d58549fdbed",
   "metadata": {},
   "outputs": [
    {
     "data": {
      "text/plain": [
       "{'k_0': 1.0000000000000002,\n",
       " 'k_1': 1.0000000000000002,\n",
       " 'k_2': 1.0000000000000002}"
      ]
     },
     "execution_count": 142,
     "metadata": {},
     "output_type": "execute_result"
    }
   ],
   "source": [
    "harmonicConstants"
   ]
  },
  {
   "cell_type": "code",
   "execution_count": 143,
   "id": "e101fb79-0d91-42fe-86c5-a7a859b3b391",
   "metadata": {},
   "outputs": [],
   "source": [
    "harmonicConstants[\"k_3\"] = k_3"
   ]
  },
  {
   "cell_type": "code",
   "execution_count": 144,
   "id": "724e12c5-8bf6-4a12-996e-fa81768133ea",
   "metadata": {},
   "outputs": [
    {
     "data": {
      "text/plain": [
       "{'k_0': 1.0000000000000002,\n",
       " 'k_1': 1.0000000000000002,\n",
       " 'k_2': 1.0000000000000002,\n",
       " 'k_3': 1.5}"
      ]
     },
     "execution_count": 144,
     "metadata": {},
     "output_type": "execute_result"
    }
   ],
   "source": [
    "harmonicConstants"
   ]
  },
  {
   "cell_type": "code",
   "execution_count": 145,
   "id": "aa96780b-0577-48ab-a911-5a3dfdcc894f",
   "metadata": {},
   "outputs": [],
   "source": [
    "trValues = {}\n",
    "for trFunctions in regionFunctions[\"transmissionReflectionFunctions\"]: \n",
    "    arguments = {parameter : harmonicConstants[parameter] for parameter in trFunctions[\"inputs\"]}\n",
    "    for name, calculator in trFunctions[\"computations\"].items(): \n",
    "        trValues[name] = calculator(**arguments)"
   ]
  },
  {
   "cell_type": "code",
   "execution_count": 146,
   "id": "6bb6818c-a2b0-4e68-8ee6-f3e795e01b6a",
   "metadata": {},
   "outputs": [
    {
     "data": {
      "text/plain": [
       "{'T_1_0': 1.0,\n",
       " 'R_1_0': 0.0,\n",
       " 'T_2_1': 1.0,\n",
       " 'R_2_1': 0.0,\n",
       " 'T_3_2': 1.2,\n",
       " 'R_3_2': 0.1999999999999999}"
      ]
     },
     "execution_count": 146,
     "metadata": {},
     "output_type": "execute_result"
    }
   ],
   "source": [
    "trValues"
   ]
  },
  {
   "cell_type": "code",
   "execution_count": null,
   "id": "c1dbbc2a-e7d2-47ca-b494-4dd63ee4cddc",
   "metadata": {},
   "outputs": [],
   "source": []
  },
  {
   "cell_type": "code",
   "execution_count": null,
   "id": "90905704-0dc0-415b-a45c-139b534098d7",
   "metadata": {},
   "outputs": [],
   "source": []
  },
  {
   "cell_type": "code",
   "execution_count": 147,
   "id": "ded0d542-3707-420e-bac7-40e716db3852",
   "metadata": {},
   "outputs": [
    {
     "name": "stdout",
     "output_type": "stream",
     "text": [
      "{'V_0': 1, 'V_1': 1, 'V_2': 1, 'L_0': 1, 'L_1': 2, 'L_2': 3, 'N_0': 0.1, 'N_1': 0.2, 'N_2': 0.7, 'm': 1, 'E_OCBtotalCCB': 0.5, 'E_total': 0.5, 'hbarX': 1, 'k_3': 1.5, 'L_N1': 0, 'B_3': 0, 'B_2': 1.8257418583505536, 'B_1': 1.8257418583505536, 'B_0': 1.8257418583505536, 'k_0': 1.0000000000000002, 'k_1': 1.0000000000000002, 'k_2': 1.0000000000000002}\n"
     ]
    }
   ],
   "source": [
    "constants = computeSimulationConstants(preliminaryData, regionFunctions, testBasicParameters, 1, 1)"
   ]
  },
  {
   "cell_type": "code",
   "execution_count": null,
   "id": "f6c182dd-b13d-49ae-93b6-f84808cf7700",
   "metadata": {},
   "outputs": [],
   "source": []
  },
  {
   "cell_type": "code",
   "execution_count": 148,
   "id": "3f98d3a3-7e24-4b69-be90-f7c890e3ef08",
   "metadata": {},
   "outputs": [
    {
     "data": {
      "text/plain": [
       "{'harmonicConstants': {'k_0': 1.0000000000000002,\n",
       "  'k_1': 1.0000000000000002,\n",
       "  'k_2': 1.0000000000000002},\n",
       " 'transfers': [{'from': {'region': <new_attempt.stateless.RegionSymbols at 0x7f571e38a110>,\n",
       "    'matrix': Matrix([\n",
       "    [psi_2_t(L_1)],\n",
       "    [psi_2_r(L_1)]])},\n",
       "   'to': {'region': <new_attempt.stateless.RegionSymbols at 0x7f571e389cc0>,\n",
       "    'matrix': Matrix([\n",
       "    [psi_3_t(L_2)],\n",
       "    [psi_3_r(L_2)]])},\n",
       "   'transferValues': {'psi_3_tOPL_2CP': 1, 'psi_3_rOPL_2CP': 1}},\n",
       "  {'from': {'region': <new_attempt.stateless.RegionSymbols at 0x7f571e38a110>,\n",
       "    'matrix': Matrix([\n",
       "    [psi_2_t(L_1)],\n",
       "    [psi_2_r(L_1)]])},\n",
       "   'to': {'region': <new_attempt.stateless.RegionSymbols at 0x7f571e389cc0>,\n",
       "    'matrix': Matrix([\n",
       "    [psi_3_t(L_2)],\n",
       "    [psi_3_r(L_2)]])},\n",
       "   'transferValues': {'psi_2_tOPL_1CP': 1.3211192196391397,\n",
       "    'psi_2_rOPL_1CP': 0.504622638711414}},\n",
       "  {'from': {'region': <new_attempt.stateless.RegionSymbols at 0x7f571e389cc0>,\n",
       "    'matrix': Matrix([\n",
       "    [psi_1_t(L_0)],\n",
       "    [psi_1_r(L_0)]])},\n",
       "   'to': {'region': <new_attempt.stateless.RegionSymbols at 0x7f571e3897e0>,\n",
       "    'matrix': Matrix([\n",
       "    [psi_2_t(L_1)],\n",
       "    [psi_2_r(L_1)]])},\n",
       "   'transferValues': {'psi_1_tOPL_0CP': 1.3211192196391397,\n",
       "    'psi_1_rOPL_0CP': 0.504622638711414}},\n",
       "  {'from': {'region': <new_attempt.stateless.RegionSymbols at 0x7f571e3897e0>,\n",
       "    'matrix': Matrix([\n",
       "    [psi_0_t(L_-1)],\n",
       "    [psi_0_r(L_-1)]])},\n",
       "   'to': {'region': <new_attempt.stateless.RegionSymbols at 0x7f571e389390>,\n",
       "    'matrix': Matrix([\n",
       "    [psi_1_t(L_0)],\n",
       "    [psi_1_r(L_0)]])},\n",
       "   'transferValues': {'psi_0_tOPL_N1CP': 1.3211192196391397,\n",
       "    'psi_0_rOPL_N1CP': 0.504622638711414}}],\n",
       " 'boundryIndexedTransfers': {'B_2': 1.8257418583505536,\n",
       "  'B_1': 1.8257418583505536,\n",
       "  'B_0': 1.8257418583505536},\n",
       " 'amplitudeConstants': {'C_OCBOCB0CCB_tCCB': [0.5219212798034238,\n",
       "   -0.5219212798034238],\n",
       "  'C_OCBOCB0CCB_rCCB': [1.4187291307757364, -1.4187291307757364],\n",
       "  'C_OCBOCB1CCB_tCCB': [0.20273640442536792, -0.20273640442536792],\n",
       "  'C_OCBOCB1CCB_rCCB': [4.072069536760039, -4.072069536760039],\n",
       "  'C_OCBOCB2CCB_tCCB': [0.12273868774857805, -0.12273868774857805],\n",
       "  'C_OCBOCB2CCB_rCCB': [11.015666235729586, -11.015666235729586]}}"
      ]
     },
     "execution_count": 148,
     "metadata": {},
     "output_type": "execute_result"
    }
   ],
   "source": [
    "constants"
   ]
  },
  {
   "cell_type": "code",
   "execution_count": null,
   "id": "b1002b0e-4cf3-46d3-9a55-26061313e471",
   "metadata": {},
   "outputs": [],
   "source": []
  },
  {
   "cell_type": "code",
   "execution_count": null,
   "id": "c20f9952-41ad-481e-a804-093a8eb4feaf",
   "metadata": {},
   "outputs": [],
   "source": []
  }
 ],
 "metadata": {
  "kernelspec": {
   "display_name": "Python 3 (ipykernel)",
   "language": "python",
   "name": "python3"
  },
  "language_info": {
   "codemirror_mode": {
    "name": "ipython",
    "version": 3
   },
   "file_extension": ".py",
   "mimetype": "text/x-python",
   "name": "python",
   "nbconvert_exporter": "python",
   "pygments_lexer": "ipython3",
   "version": "3.10.5"
  }
 },
 "nbformat": 4,
 "nbformat_minor": 5
}
