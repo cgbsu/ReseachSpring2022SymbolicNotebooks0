{
 "cells": [
  {
   "cell_type": "code",
   "execution_count": 1,
   "id": "3e6126be-2b22-474e-81a7-0e3bcee48536",
   "metadata": {},
   "outputs": [],
   "source": [
    "from enum import Enum"
   ]
  },
  {
   "cell_type": "code",
   "execution_count": 2,
   "id": "7092b3e9-d372-4208-9282-7633e376b33c",
   "metadata": {},
   "outputs": [],
   "source": [
    "from scipy.sparse.linalg import eigs"
   ]
  },
  {
   "cell_type": "code",
   "execution_count": 3,
   "id": "b4c36e88-58f3-4bc7-9adf-aed3ccc1d5d9",
   "metadata": {},
   "outputs": [],
   "source": [
    "from scipy.sparse.linalg import eigsh"
   ]
  },
  {
   "cell_type": "code",
   "execution_count": 4,
   "id": "5706f300-5618-4444-9f77-876f45fc81bb",
   "metadata": {},
   "outputs": [],
   "source": [
    "import matplotlib.pyplot as plt"
   ]
  },
  {
   "cell_type": "code",
   "execution_count": 5,
   "id": "b2be7f42-6468-41d8-ba05-3c2d28a65ebe",
   "metadata": {},
   "outputs": [],
   "source": [
    "from matplotlib import animation"
   ]
  },
  {
   "cell_type": "code",
   "execution_count": 6,
   "id": "8617d256-4a1d-4197-9ea6-9ac731ab3faa",
   "metadata": {},
   "outputs": [],
   "source": [
    "from mpl_toolkits.mplot3d import Axes3D"
   ]
  },
  {
   "cell_type": "code",
   "execution_count": 7,
   "id": "48793f88-ee38-4a14-b05d-3ba9711716a5",
   "metadata": {},
   "outputs": [],
   "source": [
    "from matplotlib.animation import PillowWriter"
   ]
  },
  {
   "cell_type": "code",
   "execution_count": 8,
   "id": "f95b23f2-2bfc-417a-8c54-ca27af7ab3e5",
   "metadata": {},
   "outputs": [],
   "source": [
    "from scipy import sparse"
   ]
  },
  {
   "cell_type": "code",
   "execution_count": 9,
   "id": "ef3378b8-b59e-4157-8e35-8064085a81b3",
   "metadata": {},
   "outputs": [],
   "source": [
    "from numerov2d import *"
   ]
  },
  {
   "cell_type": "code",
   "execution_count": null,
   "id": "bd301c1a-bc68-4969-b1f7-6de08dcbcb15",
   "metadata": {},
   "outputs": [],
   "source": []
  },
  {
   "cell_type": "code",
   "execution_count": 10,
   "id": "572a6fe1-247c-4089-a8b5-d80cfdd9ac02",
   "metadata": {},
   "outputs": [],
   "source": [
    "N = 150"
   ]
  },
  {
   "cell_type": "code",
   "execution_count": 11,
   "id": "26afa9c5-e5a4-40f5-9e8f-1d26ef6a65ba",
   "metadata": {},
   "outputs": [],
   "source": [
    "X, Y = np.meshgrid(\n",
    "        np.linspace(0, 1, N, dtype=float), \n",
    "        np.linspace(0, 1, N, dtype=float)\n",
    "    )"
   ]
  },
  {
   "cell_type": "code",
   "execution_count": 12,
   "id": "49acf909-ba3d-4378-bbd5-9c1a5679d667",
   "metadata": {},
   "outputs": [],
   "source": [
    "V = 0 * X"
   ]
  },
  {
   "cell_type": "code",
   "execution_count": 13,
   "id": "1d1f59fc-4bf6-4224-8d72-048b11a795c9",
   "metadata": {},
   "outputs": [
    {
     "data": {
      "text/plain": [
       "array([[0., 0., 0., ..., 0., 0., 0.],\n",
       "       [0., 0., 0., ..., 0., 0., 0.],\n",
       "       [0., 0., 0., ..., 0., 0., 0.],\n",
       "       ...,\n",
       "       [0., 0., 0., ..., 0., 0., 0.],\n",
       "       [0., 0., 0., ..., 0., 0., 0.],\n",
       "       [0., 0., 0., ..., 0., 0., 0.]])"
      ]
     },
     "execution_count": 13,
     "metadata": {},
     "output_type": "execute_result"
    }
   ],
   "source": [
    "V"
   ]
  },
  {
   "cell_type": "code",
   "execution_count": 14,
   "id": "fe211079-05d8-44d8-a8a2-e14d67262cc6",
   "metadata": {},
   "outputs": [
    {
     "data": {
      "text/plain": [
       "(150, 150)"
      ]
     },
     "execution_count": 14,
     "metadata": {},
     "output_type": "execute_result"
    }
   ],
   "source": [
    "V.shape"
   ]
  },
  {
   "cell_type": "code",
   "execution_count": 15,
   "id": "30685a5a-56db-41f0-aebc-e5acd512f20f",
   "metadata": {},
   "outputs": [],
   "source": [
    "def derivativeOperator(pointCount : int) -> np.ndarray: \n",
    "    ones : np.array = np.ones([pointCount])\n",
    "    oneDimensionalDerivativeOperator = sparse.spdiags(\n",
    "            np.array([ones, -2 * ones, ones]), \n",
    "            np.array([-1, 0, 1]), \n",
    "            pointCount, \n",
    "            pointCount\n",
    "        )\n",
    "    kineticEnegry = (-1.0 / 2.0) * sparse.kronsum(\n",
    "                oneDimensionalDerivativeOperator, \n",
    "                oneDimensionalDerivativeOperator\n",
    "            )\n",
    "    return \\\n",
    "        oneDimensionalDerivativeOperator, \\\n",
    "        kineticEnegry \n"
   ]
  },
  {
   "cell_type": "code",
   "execution_count": 16,
   "id": "ef792e6c-196f-46d7-9603-6d679d33a2f5",
   "metadata": {},
   "outputs": [],
   "source": [
    "def makeHamiltonian(pointCount : int, potential : np.ndarray) -> np.ndarray: \n",
    "    oneDimensionalDerivativeOperator, kineticEnergy, = derivativeOperator(pointCount)\n",
    "    return kineticEnergy + potential "
   ]
  },
  {
   "cell_type": "code",
   "execution_count": 17,
   "id": "cf08dbee-634b-46d4-9f64-fa266ebe89e6",
   "metadata": {},
   "outputs": [],
   "source": [
    "class EigenValueTypes(Enum): \n",
    "    LARGEST_MAGNITUDE = \"LM\"\n",
    "    SMALLEST_MAGNITUDE = \"SM\"\n",
    "    LARGEST_ALGEBRAIC = \"LA\"\n",
    "    SMALLEST_ALGEBRAIC = \"SA\"\n",
    "    HALF_SPECTRUM = \"BE\""
   ]
  },
  {
   "cell_type": "code",
   "execution_count": 18,
   "id": "f37efb42-ca85-409e-a958-66dca03af159",
   "metadata": {},
   "outputs": [],
   "source": [
    "def compute2dWaveFunction(\n",
    "            pointCount : int, \n",
    "            potential : np.ndarray, \n",
    "            eigenValueType : EigenValueTypes = EigenValueTypes.SMALLEST_MAGNITUDE, \n",
    "            energyCount : int = 10\n",
    "        ) -> tuple[np.array, np.ndarray]: \n",
    "    reshapedPotential = sparse.diags(potential.reshape(pointCount ** 2), (0))\n",
    "    hamiltonian : np.ndarray = makeHamiltonian(pointCount, reshapedPotential)\n",
    "    energies, waveFunctions = eigsh(hamiltonian, k = energyCount, which = eigenValueType.value)\n",
    "    waveFunctionGrids = np.array(list(map(\n",
    "            lambda transposedWaveFunction : transposedWaveFunction.reshape((pointCount, pointCount)), \n",
    "            waveFunctions.T\n",
    "        )))\n",
    "    return energies, waveFunctionGrids "
   ]
  },
  {
   "cell_type": "code",
   "execution_count": 19,
   "id": "41726da0-286a-45cf-86f0-39fa0476af33",
   "metadata": {},
   "outputs": [],
   "source": [
    "energies, waveFunctions = compute2dWaveFunction(N, V)"
   ]
  },
  {
   "cell_type": "code",
   "execution_count": 20,
   "id": "4f0db99b-c0dc-4d2d-b446-61f05a491f6b",
   "metadata": {},
   "outputs": [
    {
     "data": {
      "text/plain": [
       "<matplotlib.contour.QuadContourSet at 0x7fbd05cd1990>"
      ]
     },
     "execution_count": 20,
     "metadata": {},
     "output_type": "execute_result"
    },
    {
     "data": {
      "image/png": "[encoded data removed]",
      "text/plain": [
       "<Figure size 648x648 with 1 Axes>"
      ]
     },
     "metadata": {
      "needs_background": "light"
     },
     "output_type": "display_data"
    }
   ],
   "source": [
    "plt.figure(figsize=(9, 9))\n",
    "plt.contourf(X, Y, waveFunctions[0], 20)"
   ]
  },
  {
   "cell_type": "code",
   "execution_count": 21,
   "id": "31c9ac13-9be9-48cf-9bd9-44730c90cb16",
   "metadata": {},
   "outputs": [
    {
     "data": {
      "text/plain": [
       "<matplotlib.contour.QuadContourSet at 0x7fbd05bbd570>"
      ]
     },
     "execution_count": 21,
     "metadata": {},
     "output_type": "execute_result"
    },
    {
     "data": {
      "image/png": "[encoded data removed]",
      "text/plain": [
       "<Figure size 648x648 with 1 Axes>"
      ]
     },
     "metadata": {
      "needs_background": "light"
     },
     "output_type": "display_data"
    }
   ],
   "source": [
    "plt.figure(figsize=(9, 9))\n",
    "plt.contourf(X, Y, waveFunctions[1], 20)"
   ]
  },
  {
   "cell_type": "code",
   "execution_count": 22,
   "id": "221d9d76-0f26-43d8-80b2-36492f826311",
   "metadata": {},
   "outputs": [
    {
     "data": {
      "text/plain": [
       "<matplotlib.contour.QuadContourSet at 0x7fbd05a4b670>"
      ]
     },
     "execution_count": 22,
     "metadata": {},
     "output_type": "execute_result"
    },
    {
     "data": {
      "image/png": "[encoded data removed]",
      "text/plain": [
       "<Figure size 648x648 with 1 Axes>"
      ]
     },
     "metadata": {
      "needs_background": "light"
     },
     "output_type": "display_data"
    }
   ],
   "source": [
    "plt.figure(figsize=(9, 9))\n",
    "plt.contourf(X, Y, waveFunctions[3], 20)"
   ]
  },
  {
   "cell_type": "code",
   "execution_count": null,
   "id": "e09d64a7-e2ca-49b0-8fb7-f9640b96741b",
   "metadata": {},
   "outputs": [],
   "source": []
  },
  {
   "cell_type": "code",
   "execution_count": null,
   "id": "300646ef-764d-4baf-96ab-504c794f7eba",
   "metadata": {},
   "outputs": [],
   "source": []
  },
  {
   "cell_type": "code",
   "execution_count": null,
   "id": "bbf8d717-7615-47be-942b-d7c677cff996",
   "metadata": {},
   "outputs": [],
   "source": []
  }
 ],
 "metadata": {
  "kernelspec": {
   "display_name": "Python 3 (ipykernel)",
   "language": "python",
   "name": "python3"
  },
  "language_info": {
   "codemirror_mode": {
    "name": "ipython",
    "version": 3
   },
   "file_extension": ".py",
   "mimetype": "text/x-python",
   "name": "python",
   "nbconvert_exporter": "python",
   "pygments_lexer": "ipython3",
   "version": "3.10.5"
  }
 },
 "nbformat": 4,
 "nbformat_minor": 5
}
