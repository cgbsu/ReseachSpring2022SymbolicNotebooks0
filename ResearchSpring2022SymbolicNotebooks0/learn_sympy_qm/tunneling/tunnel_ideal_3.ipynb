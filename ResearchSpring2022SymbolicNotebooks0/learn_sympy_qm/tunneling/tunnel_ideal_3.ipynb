{
 "cells": [
  {
   "cell_type": "code",
   "execution_count": 1,
   "id": "8ac3faff-b15a-4620-b3a9-eb59a3f261f8",
   "metadata": {},
   "outputs": [],
   "source": [
    "import sympy as sp"
   ]
  },
  {
   "cell_type": "code",
   "execution_count": 2,
   "id": "02f455bc-1df0-4dce-b8e0-27d83ec266fe",
   "metadata": {},
   "outputs": [],
   "source": [
    "import matplotlib.pyplot as plt"
   ]
  },
  {
   "cell_type": "code",
   "execution_count": 3,
   "id": "62a0e006-8c9d-4479-8a90-b2dcaf056fe9",
   "metadata": {},
   "outputs": [],
   "source": [
    "import sympy.physics.units.quantities as sq"
   ]
  },
  {
   "cell_type": "code",
   "execution_count": 4,
   "id": "edbf158f-5ce5-4d42-9c8b-06dee822119e",
   "metadata": {},
   "outputs": [],
   "source": [
    "from sympy.physics.quantum.constants import hbar"
   ]
  },
  {
   "cell_type": "code",
   "execution_count": null,
   "id": "1cc2604c-dfd2-45e3-9216-5cc3f52d15af",
   "metadata": {},
   "outputs": [],
   "source": []
  },
  {
   "cell_type": "code",
   "execution_count": 5,
   "id": "cb102f2f-3ab8-44d9-84fb-705cb17f9a62",
   "metadata": {},
   "outputs": [],
   "source": [
    "PSI_FUNCTION = sp.Function( \"psi\" )\n",
    "POTENTIAL_FUNCTION = sp.Function( \"V\" )\n",
    "TOTAL_ENERGY_SYMBOL = sq.Symbol( 'E', nonzero = True, positive = True )\n",
    "MASS_SYMBOL = sq.Quantity( 'm', positive = True, nonzero = True )\n",
    "#REDUCED_PLANCK_CONSTANT_SYMBOL = sq.Symbol( \"hbar\" )\n",
    "POSITION_SYMBOL = sp.Symbol( 'x', positive = True )\n",
    "\n",
    "def time_independent_schroedinger_equation( \n",
    "            psi = PSI_FUNCTION, \n",
    "            potential = POTENTIAL_FUNCTION, \n",
    "            total_energy = TOTAL_ENERGY_SYMBOL, \n",
    "            mass = MASS_SYMBOL, \n",
    "            reduced_planck_constant = hbar, #REDUCED_PLANCK_CONSTANT_SYMBOL, \n",
    "            position = POSITION_SYMBOL \n",
    "        ): \n",
    "    return sp.Eq( \n",
    "            ( ( -( reduced_planck_constant ** 2 ) / ( 2 * mass ) ) \\\n",
    "                    * sp.Derivative( psi( position ), ( position, 2 ) ) )\n",
    "                    + ( potential( position ) * psi( position ) ), \n",
    "            total_energy * psi( position ) \n",
    "        )\n"
   ]
  },
  {
   "cell_type": "code",
   "execution_count": 6,
   "id": "4b4f60c2-e854-4e1a-865f-8af0a27c2b92",
   "metadata": {},
   "outputs": [],
   "source": [
    "set_equal = lambda to_set, value : sp.Eq( to_set, value )\n",
    "both_sides = lambda equation, opreation : sp.Eq( opreation( equation.lhs ), opreation( equation.rhs ) )\n",
    "equation_to_dict = lambda equation : { equation.lhs : equation.rhs }"
   ]
  },
  {
   "cell_type": "code",
   "execution_count": 7,
   "id": "0520960e-9f69-45df-95c8-39b208fafb1e",
   "metadata": {},
   "outputs": [],
   "source": [
    "hbar_eq = sp.Eq( hbar, sp.physics.units.planck / ( 2 * sp.pi ) )"
   ]
  },
  {
   "cell_type": "code",
   "execution_count": 8,
   "id": "7f5af676-f83a-4320-9fdc-a138bff58d6d",
   "metadata": {},
   "outputs": [
    {
     "data": {
      "text/latex": [
       "$\\displaystyle \\hbar = \\frac{\\text{h}}{2 \\pi}$"
      ],
      "text/plain": [
       "Eq(hbar, planck/(2*pi))"
      ]
     },
     "execution_count": 8,
     "metadata": {},
     "output_type": "execute_result"
    }
   ],
   "source": [
    "hbar_eq"
   ]
  },
  {
   "cell_type": "code",
   "execution_count": null,
   "id": "117dbcc1-bfc0-4739-bc69-5a371f5b0064",
   "metadata": {},
   "outputs": [],
   "source": []
  },
  {
   "cell_type": "code",
   "execution_count": 9,
   "id": "c8de0c1f-cf01-4af2-b6cb-2518ba73412e",
   "metadata": {},
   "outputs": [],
   "source": [
    "psi = PSI_FUNCTION\n",
    "potential = POTENTIAL_FUNCTION\n",
    "total_energy = TOTAL_ENERGY_SYMBOL\n",
    "mass = MASS_SYMBOL\n",
    "#reduced_planck_constant = REDUCED_PLANCK_CONSTANT_SYMBOL\n",
    "x = POSITION_SYMBOL"
   ]
  },
  {
   "cell_type": "code",
   "execution_count": null,
   "id": "a9ca49b3-22fa-45f3-af7b-240ed1b53861",
   "metadata": {},
   "outputs": [],
   "source": []
  },
  {
   "cell_type": "code",
   "execution_count": 10,
   "id": "63722f78-06f5-41d2-8252-449d6c2c1341",
   "metadata": {},
   "outputs": [],
   "source": [
    "k = sp.Symbol( 'k' )"
   ]
  },
  {
   "cell_type": "code",
   "execution_count": 11,
   "id": "75215216-251e-4c12-bb18-79a0faece9d3",
   "metadata": {},
   "outputs": [],
   "source": [
    "k_squared = sp.Eq( k ** 2, ( ( 2 * total_energy * mass ) / ( hbar ** 2 ) ) )"
   ]
  },
  {
   "cell_type": "code",
   "execution_count": 12,
   "id": "b2693923-d6ef-4991-99e1-9b477a504c4d",
   "metadata": {},
   "outputs": [
    {
     "data": {
      "text/latex": [
       "$\\displaystyle k^{2} = \\frac{2 E \\text{m}}{\\hbar^{2}}$"
      ],
      "text/plain": [
       "Eq(k**2, 2*m*E/hbar**2)"
      ]
     },
     "execution_count": 12,
     "metadata": {},
     "output_type": "execute_result"
    }
   ],
   "source": [
    "k_squared"
   ]
  },
  {
   "cell_type": "code",
   "execution_count": null,
   "id": "1e4e9438-c0fe-41aa-a64e-045b2ae99daf",
   "metadata": {},
   "outputs": [],
   "source": []
  },
  {
   "cell_type": "code",
   "execution_count": 13,
   "id": "eee1357f-abbd-4779-8e8c-8230db509fe3",
   "metadata": {},
   "outputs": [],
   "source": [
    "class ZeroPotential( sp.Function ): \n",
    "    @classmethod\n",
    "    def eval( cls, position ):\n",
    "        return 0"
   ]
  },
  {
   "cell_type": "code",
   "execution_count": 14,
   "id": "069ed962-7243-4ffc-b5a5-e46087389c39",
   "metadata": {},
   "outputs": [],
   "source": [
    "#https://docs.sympy.org/latest/modules/assumptions/index.html#querying\n",
    "#https://docs.sympy.org/latest/modules/codegen.html#module-sympy.codegen.cxxnodes\n",
    "\n",
    "class Potential( sp.Function ): \n",
    "    DEFAULT_POTENTIAL = sp.Symbol( \"V_0\" )\n",
    "    @classmethod\n",
    "    def eval( cls, position, potential = DEFAULT_POTENTIAL ): \n",
    "        return potential"
   ]
  },
  {
   "cell_type": "code",
   "execution_count": 15,
   "id": "3c91b1af-b68c-49b0-bfa1-3f186a3c6b04",
   "metadata": {},
   "outputs": [],
   "source": [
    "class TunnelPotential( sp.Function ): \n",
    "    DEFAULT_WELL_LENGTH = sp.Symbol( 'L' )\n",
    "    DEFAULT_POTENTIAL = Potential.DEFAULT_POTENTIAL\n",
    "    DEFAULT_START = 0\n",
    "    @classmethod\n",
    "    def eval( cls, position, length = DEFAULT_WELL_LENGTH, \n",
    "             start = DEFAULT_START, potential = DEFAULT_POTENTIAL ): \n",
    "        if position < start or position > sp.simplify( length + start ): \n",
    "            return ZeroPotential.eval( position )\n",
    "        return Potential.eval( position, potential )"
   ]
  },
  {
   "cell_type": "code",
   "execution_count": null,
   "id": "9f1b6d08-af41-4313-a53e-d8c7e0035ee7",
   "metadata": {},
   "outputs": [],
   "source": []
  },
  {
   "cell_type": "code",
   "execution_count": 16,
   "id": "313234d9-a63a-4a14-876b-7e42ddb105a1",
   "metadata": {},
   "outputs": [],
   "source": [
    "class Stepper: \n",
    "\n",
    "    LEFT = \"LEFT\", \n",
    "    RIGHT = \"RIGHT\"\n",
    "    \n",
    "    def __init__( self, first_step, new_steps = None ): \n",
    "        self.steps = new_steps if new_steps else []\n",
    "        self.steps.append( first_step )\n",
    "        self.chaining = False\n",
    "    \n",
    "    def step_number( self, step = None ): \n",
    "        return ( len( self.steps ) - 1 ) if not step else step\n",
    "    \n",
    "    def last_step( self, step = None ):\n",
    "        return self.steps[ self.step_number( step ) ]\n",
    "    \n",
    "    def _return_chain( self, step, chain ): \n",
    "        return self if ( chain or self.chaining ) else step        \n",
    "    \n",
    "    def add_step( self, new_step, chain = False ):\n",
    "        self.steps.append( new_step )\n",
    "        return self._return_chain( self.steps[ -1 ], chain )\n",
    "\n",
    "    def operate( self, operation, step = None, chain = False ):\n",
    "        self.steps.append( operation( self.last_step( step ) ) )\n",
    "        return self._return_chain( self.steps[ -1 ], chain )\n",
    "\n",
    "    def manipulate( self, operation, chain = False ): \n",
    "        return self._return_chain( self.add_step( \n",
    "                both_sides( self.last_step(), operation ) ), \n",
    "                chain \n",
    "            )\n",
    "    \n",
    "    def delete_step( self, step ): \n",
    "        old_step = self.steps[ step ]\n",
    "        del self.steps[ step ]\n",
    "        return old_step\n",
    "    \n",
    "    def undo( self, step = None, chain = False ): \n",
    "        return self._return_chain( \n",
    "                self.delete_step( self.step_number( step ) ), \n",
    "                chain \n",
    "            )\n",
    "    \n",
    "    def clone( self, from_step = None ):\n",
    "        return self.branch( lambda blank : blank, from_step )\n",
    "    \n",
    "    def branch( self, operation = None, from_step = None ): \n",
    "        from_step = self.step_number( from_step )\n",
    "        return Stepper( \n",
    "                both_sides( self.last_step( from_step ), operation ), \n",
    "                self.steps[ : self.step_number( from_step ) : ], \n",
    "            )\n",
    "    \n",
    "    def substitute_constant( self, constant, chain = False ):\n",
    "            return self.operate( lambda step : step.subs( { constant.rhs : constant.lhs } ) )\n",
    "    \n",
    "    def negate_add( self, side_to_negate_add, chain = False ): \n",
    "        last_step = self.last_step()\n",
    "        return self.manipulate( \n",
    "                lambda side : side + -( \n",
    "                    last_step.lhs if side_to_negate_add == Stepper.LEFT \n",
    "                            else last_step.rhs \n",
    "                        ), \n",
    "                chain \n",
    "            )\n",
    "    \n",
    "    def rename( self, old_symbol, new_symbol_name, chain = False ): \n",
    "        last_step = self.last_step()\n",
    "        assert old_symbol in last_step.atoms() or old_symbol in last_step.atoms( sp.Function )\n",
    "        return self.add_step( last_step.subs( \n",
    "            old_symbol if type( old_symbol ) == dict \\\n",
    "                    else { old_symbol : new_symbol_name } ), chain \n",
    "                )\n",
    "    \n",
    "    def chain( self, operation ):\n",
    "        self.chaining = True\n",
    "        operation( self )\n",
    "        self.chaining = False\n",
    "        return self\n",
    "    \n",
    "    def begin_chain( self ): \n",
    "        self.chaining = True\n",
    "        return self\n",
    "    \n",
    "    def end_chain( self ): \n",
    "        self.chaining = False\n",
    "        return self\n"
   ]
  },
  {
   "cell_type": "code",
   "execution_count": null,
   "id": "dd6deedd-3ec2-4632-97c1-f5eabf1f7c1c",
   "metadata": {},
   "outputs": [],
   "source": []
  },
  {
   "cell_type": "code",
   "execution_count": 17,
   "id": "d197311f-e70a-4f4a-83b3-c4b9b63b90b6",
   "metadata": {},
   "outputs": [
    {
     "data": {
      "text/latex": [
       "$\\displaystyle k^{2} = \\frac{2 E \\text{m}}{\\hbar^{2}}$"
      ],
      "text/plain": [
       "Eq(k**2, 2*m*E/hbar**2)"
      ]
     },
     "execution_count": 17,
     "metadata": {},
     "output_type": "execute_result"
    }
   ],
   "source": [
    "k_squared"
   ]
  },
  {
   "cell_type": "code",
   "execution_count": null,
   "id": "7c0dc405-11a8-418a-8438-43b74e2a7e30",
   "metadata": {},
   "outputs": [],
   "source": []
  },
  {
   "cell_type": "code",
   "execution_count": 18,
   "id": "bd964d7c-4905-464e-9c60-862b0cab8f64",
   "metadata": {},
   "outputs": [],
   "source": [
    "psi_region = [\n",
    "        Stepper( time_independent_schroedinger_equation( potential = ZeroPotential ) ), \n",
    "        Stepper( time_independent_schroedinger_equation( potential = Potential ) ), \n",
    "        Stepper( time_independent_schroedinger_equation( potential = ZeroPotential ) )\n",
    "    ]"
   ]
  },
  {
   "cell_type": "code",
   "execution_count": null,
   "id": "5c111045-3b70-4c55-9cbc-1e5d85f71eea",
   "metadata": {},
   "outputs": [],
   "source": []
  },
  {
   "cell_type": "code",
   "execution_count": 19,
   "id": "3f054b05-10a4-4704-9d49-01d3f6011169",
   "metadata": {},
   "outputs": [
    {
     "data": {
      "text/latex": [
       "$\\displaystyle - \\frac{\\hbar^{2} \\frac{d^{2}}{d x^{2}} \\psi{\\left(x \\right)}}{2 \\text{m}} = E \\psi{\\left(x \\right)}$"
      ],
      "text/plain": [
       "Eq(-hbar**2*Derivative(psi(x), (x, 2))/(2*m), E*psi(x))"
      ]
     },
     "execution_count": 19,
     "metadata": {},
     "output_type": "execute_result"
    }
   ],
   "source": [
    "psi_region[ 0 ].last_step()"
   ]
  },
  {
   "cell_type": "code",
   "execution_count": 20,
   "id": "dd839724-d545-46c9-ae76-332e3f5b4399",
   "metadata": {},
   "outputs": [
    {
     "data": {
      "text/latex": [
       "$\\displaystyle - E \\psi{\\left(x \\right)} - \\frac{\\hbar^{2} \\frac{d^{2}}{d x^{2}} \\psi{\\left(x \\right)}}{2 \\text{m}} = 0$"
      ],
      "text/plain": [
       "Eq(-E*psi(x) - hbar**2*Derivative(psi(x), (x, 2))/(2*m), 0)"
      ]
     },
     "execution_count": 20,
     "metadata": {},
     "output_type": "execute_result"
    }
   ],
   "source": [
    "psi_region[ 0 ].manipulate( lambda side : ( side - psi_region[ 0 ].last_step().rhs ).simplify() )"
   ]
  },
  {
   "cell_type": "code",
   "execution_count": 21,
   "id": "35f9c7f2-f8cc-40fc-a892-7086385dc1fe",
   "metadata": {},
   "outputs": [
    {
     "data": {
      "text/latex": [
       "$\\displaystyle \\psi{\\left(x \\right)} + \\frac{\\hbar^{2} \\frac{d^{2}}{d x^{2}} \\psi{\\left(x \\right)}}{2 E \\text{m}} = 0$"
      ],
      "text/plain": [
       "Eq(psi(x) + hbar**2*Derivative(psi(x), (x, 2))/(2*m*E), 0)"
      ]
     },
     "execution_count": 21,
     "metadata": {},
     "output_type": "execute_result"
    }
   ],
   "source": [
    "psi_region[ 0 ].manipulate( lambda side : -( side / total_energy ).simplify() )"
   ]
  },
  {
   "cell_type": "code",
   "execution_count": 22,
   "id": "92598874-1476-4de3-a0c2-983217a325a4",
   "metadata": {},
   "outputs": [
    {
     "data": {
      "text/latex": [
       "$\\displaystyle \\frac{\\hbar^{2} \\frac{d^{2}}{d x^{2}} \\psi{\\left(x \\right)}}{2 E \\text{m}} = - \\psi{\\left(x \\right)}$"
      ],
      "text/plain": [
       "Eq(hbar**2*Derivative(psi(x), (x, 2))/(2*m*E), -psi(x))"
      ]
     },
     "execution_count": 22,
     "metadata": {},
     "output_type": "execute_result"
    }
   ],
   "source": [
    "psi_region[ 0 ].manipulate( lambda side : side - psi( x ) )"
   ]
  },
  {
   "cell_type": "code",
   "execution_count": 23,
   "id": "5a42ee71-6557-44cb-8a17-dc7df5480b66",
   "metadata": {},
   "outputs": [
    {
     "data": {
      "text/latex": [
       "$\\displaystyle \\frac{d^{2}}{d x^{2}} \\psi{\\left(x \\right)} = - \\frac{2 E \\psi{\\left(x \\right)} \\text{m}}{\\hbar^{2}}$"
      ],
      "text/plain": [
       "Eq(Derivative(psi(x), (x, 2)), -2*m*E*psi(x)/hbar**2)"
      ]
     },
     "execution_count": 23,
     "metadata": {},
     "output_type": "execute_result"
    }
   ],
   "source": [
    "psi_region[ 0 ].manipulate( lambda side : side * k_squared.rhs )"
   ]
  },
  {
   "cell_type": "code",
   "execution_count": 24,
   "id": "e3df96fc-258d-446e-bc34-7f758ae0bff3",
   "metadata": {},
   "outputs": [
    {
     "data": {
      "text/latex": [
       "$\\displaystyle \\frac{\\frac{d^{2}}{d x^{2}} \\psi{\\left(x \\right)}}{\\psi{\\left(x \\right)}} = - \\frac{2 E \\text{m}}{\\hbar^{2}}$"
      ],
      "text/plain": [
       "Eq(Derivative(psi(x), (x, 2))/psi(x), -2*m*E/hbar**2)"
      ]
     },
     "execution_count": 24,
     "metadata": {},
     "output_type": "execute_result"
    }
   ],
   "source": [
    "psi_region[ 0 ].manipulate( lambda side : side / psi( x ) )"
   ]
  },
  {
   "cell_type": "code",
   "execution_count": null,
   "id": "8a6a0b6a-4446-4cba-a7c0-13329d1261b5",
   "metadata": {},
   "outputs": [],
   "source": []
  },
  {
   "cell_type": "code",
   "execution_count": 25,
   "id": "2d96a310-33a6-4d5c-a8e0-79585e1afffc",
   "metadata": {},
   "outputs": [
    {
     "data": {
      "text/latex": [
       "$\\displaystyle k^{2} = \\frac{2 E \\text{m}}{\\hbar^{2}}$"
      ],
      "text/plain": [
       "Eq(k**2, 2*m*E/hbar**2)"
      ]
     },
     "execution_count": 25,
     "metadata": {},
     "output_type": "execute_result"
    }
   ],
   "source": [
    "k_squared"
   ]
  },
  {
   "cell_type": "code",
   "execution_count": null,
   "id": "190e3b4b-2c27-42c5-a901-311a02ec8430",
   "metadata": {},
   "outputs": [],
   "source": []
  },
  {
   "cell_type": "code",
   "execution_count": 26,
   "id": "76aff0fa-030d-47bf-ba43-6d52020b4b3a",
   "metadata": {},
   "outputs": [
    {
     "data": {
      "text/latex": [
       "$\\displaystyle \\frac{\\frac{d^{2}}{d x^{2}} \\psi{\\left(x \\right)}}{\\psi{\\left(x \\right)}} = - k^{2}$"
      ],
      "text/plain": [
       "Eq(Derivative(psi(x), (x, 2))/psi(x), -k**2)"
      ]
     },
     "execution_count": 26,
     "metadata": {},
     "output_type": "execute_result"
    }
   ],
   "source": [
    "psi_region[ 0 ].substitute_constant( k_squared )"
   ]
  },
  {
   "cell_type": "code",
   "execution_count": 27,
   "id": "191178ae-40ff-4009-a503-ac2b52ed09f2",
   "metadata": {},
   "outputs": [
    {
     "data": {
      "text/latex": [
       "$\\displaystyle \\frac{d^{2}}{d x^{2}} \\psi{\\left(x \\right)} = - k^{2} \\psi{\\left(x \\right)}$"
      ],
      "text/plain": [
       "Eq(Derivative(psi(x), (x, 2)), -k**2*psi(x))"
      ]
     },
     "execution_count": 27,
     "metadata": {},
     "output_type": "execute_result"
    }
   ],
   "source": [
    "psi_region[ 0 ].manipulate( lambda side : side * psi( x ) )"
   ]
  },
  {
   "cell_type": "code",
   "execution_count": 28,
   "id": "d14f60c1-638f-46c9-996f-e4e663ad4c4a",
   "metadata": {},
   "outputs": [
    {
     "data": {
      "text/latex": [
       "$\\displaystyle k^{2} \\psi{\\left(x \\right)} + \\frac{d^{2}}{d x^{2}} \\psi{\\left(x \\right)} = 0$"
      ],
      "text/plain": [
       "Eq(k**2*psi(x) + Derivative(psi(x), (x, 2)), 0)"
      ]
     },
     "execution_count": 28,
     "metadata": {},
     "output_type": "execute_result"
    }
   ],
   "source": [
    "psi_region[ 0 ].negate_add( Stepper.RIGHT )"
   ]
  },
  {
   "cell_type": "code",
   "execution_count": null,
   "id": "7eabac16-5a84-4da1-9e8c-8832225da46c",
   "metadata": {},
   "outputs": [],
   "source": []
  },
  {
   "cell_type": "code",
   "execution_count": 29,
   "id": "a6fc27d2-77cc-429b-b6b5-c7c4347c3f22",
   "metadata": {},
   "outputs": [],
   "source": [
    "# For later\n",
    "\n",
    "psi_region[ 2 ] = psi_region[ 0 ].clone()"
   ]
  },
  {
   "cell_type": "code",
   "execution_count": 30,
   "id": "54ef06be-6b33-4c7a-80c1-17df971d6a83",
   "metadata": {},
   "outputs": [
    {
     "data": {
      "text/latex": [
       "$\\displaystyle k^{2} \\psi{\\left(x \\right)} + \\frac{d^{2}}{d x^{2}} \\psi{\\left(x \\right)} = 0$"
      ],
      "text/plain": [
       "Eq(k**2*psi(x) + Derivative(psi(x), (x, 2)), 0)"
      ]
     },
     "execution_count": 30,
     "metadata": {},
     "output_type": "execute_result"
    }
   ],
   "source": [
    "psi_region[ 2 ].last_step()"
   ]
  },
  {
   "cell_type": "code",
   "execution_count": 31,
   "id": "21c54cd6-1581-41c6-9901-28dff2cc93ab",
   "metadata": {},
   "outputs": [],
   "source": [
    "k_0 = sp.Symbol( \"k_0\" )"
   ]
  },
  {
   "cell_type": "code",
   "execution_count": 32,
   "id": "4a8a16dd-be5e-4767-993a-28eff750c228",
   "metadata": {},
   "outputs": [
    {
     "data": {
      "text/latex": [
       "$\\displaystyle k_{0}^{2} \\psi{\\left(x \\right)} + \\frac{d^{2}}{d x^{2}} \\psi{\\left(x \\right)} = 0$"
      ],
      "text/plain": [
       "Eq(k_0**2*psi(x) + Derivative(psi(x), (x, 2)), 0)"
      ]
     },
     "execution_count": 32,
     "metadata": {},
     "output_type": "execute_result"
    }
   ],
   "source": [
    "psi_region[ 0 ].rename( k, k_0 )"
   ]
  },
  {
   "cell_type": "code",
   "execution_count": null,
   "id": "25675bc6-e28f-4977-9fc7-758a0c5021c8",
   "metadata": {},
   "outputs": [],
   "source": []
  },
  {
   "cell_type": "code",
   "execution_count": 33,
   "id": "bbec0ee7-021c-47b0-b398-613e64297db1",
   "metadata": {},
   "outputs": [],
   "source": [
    "diff_sol = sp.solvers.ode.dsolve( psi_region[ 0 ].last_step().lhs, 0, ivar = x )\n",
    "#ics = { psi( 0 ): 0, psi( well_length ): 0 }"
   ]
  },
  {
   "cell_type": "code",
   "execution_count": 34,
   "id": "4d553082-2589-47eb-9d99-e9f11c847fa0",
   "metadata": {},
   "outputs": [
    {
     "data": {
      "text/latex": [
       "$\\displaystyle \\psi{\\left(x \\right)} = C_{1} e^{- i k_{0} x} + C_{2} e^{i k_{0} x}$"
      ],
      "text/plain": [
       "Eq(psi(x), C1*exp(-I*k_0*x) + C2*exp(I*k_0*x))"
      ]
     },
     "execution_count": 34,
     "metadata": {},
     "output_type": "execute_result"
    }
   ],
   "source": [
    "diff_sol"
   ]
  },
  {
   "cell_type": "code",
   "execution_count": 35,
   "id": "9779f921-7796-41cc-80f6-dab4d1161172",
   "metadata": {},
   "outputs": [
    {
     "data": {
      "text/latex": [
       "$\\displaystyle \\psi{\\left(x \\right)} = C_{1} e^{- i k_{0} x} + C_{2} e^{i k_{0} x}$"
      ],
      "text/plain": [
       "Eq(psi(x), C1*exp(-I*k_0*x) + C2*exp(I*k_0*x))"
      ]
     },
     "execution_count": 35,
     "metadata": {},
     "output_type": "execute_result"
    }
   ],
   "source": [
    "psi_region[ 0 ].add_step( diff_sol )"
   ]
  },
  {
   "cell_type": "code",
   "execution_count": 36,
   "id": "5bdf9dab-a025-489a-84e0-bfe2e21f6fc7",
   "metadata": {},
   "outputs": [
    {
     "data": {
      "text/latex": [
       "$\\displaystyle \\psi{\\left(x \\right)} = A e^{- i k_{0} x} + C_{2} e^{i k_{0} x}$"
      ],
      "text/plain": [
       "Eq(psi(x), A*exp(-I*k_0*x) + C2*exp(I*k_0*x))"
      ]
     },
     "execution_count": 36,
     "metadata": {},
     "output_type": "execute_result"
    }
   ],
   "source": [
    "C1 = sp.Symbol( \"C1\" )\n",
    "C2 = sp.Symbol( \"C2\" )\n",
    "constants = [ [ sp.Symbol( 'A' ), sp.Symbol( 'B' ) ] ]\n",
    "\n",
    "psi_region[ 0 ].rename( C1, constants[ 0 ][ 0 ] )"
   ]
  },
  {
   "cell_type": "code",
   "execution_count": 37,
   "id": "168d8b7a-9a81-45ab-8b5b-74915b036af4",
   "metadata": {},
   "outputs": [
    {
     "data": {
      "text/latex": [
       "$\\displaystyle \\psi{\\left(x \\right)} = A e^{- i k_{0} x} + B e^{i k_{0} x}$"
      ],
      "text/plain": [
       "Eq(psi(x), A*exp(-I*k_0*x) + B*exp(I*k_0*x))"
      ]
     },
     "execution_count": 37,
     "metadata": {},
     "output_type": "execute_result"
    }
   ],
   "source": [
    "psi_region[ 0 ].rename( C2, constants[ 0 ][ 1 ] )"
   ]
  },
  {
   "cell_type": "code",
   "execution_count": null,
   "id": "3bd7b87e-b0c9-4af9-94cc-d9b0a1b42e44",
   "metadata": {},
   "outputs": [],
   "source": []
  },
  {
   "cell_type": "code",
   "execution_count": 38,
   "id": "77574146-baae-4e35-a59f-8dce244318d5",
   "metadata": {},
   "outputs": [
    {
     "data": {
      "text/latex": [
       "$\\displaystyle V_{0} \\psi{\\left(x \\right)} - \\frac{\\hbar^{2} \\frac{d^{2}}{d x^{2}} \\psi{\\left(x \\right)}}{2 \\text{m}} = E \\psi{\\left(x \\right)}$"
      ],
      "text/plain": [
       "Eq(V_0*psi(x) - hbar**2*Derivative(psi(x), (x, 2))/(2*m), E*psi(x))"
      ]
     },
     "execution_count": 38,
     "metadata": {},
     "output_type": "execute_result"
    }
   ],
   "source": [
    "psi_region[ 1 ].last_step()"
   ]
  },
  {
   "cell_type": "code",
   "execution_count": null,
   "id": "7b36de3e-a644-4eb9-a039-76190d63fab9",
   "metadata": {},
   "outputs": [],
   "source": []
  },
  {
   "cell_type": "code",
   "execution_count": 39,
   "id": "d310940f-451e-41a5-b3df-d807bb708629",
   "metadata": {},
   "outputs": [
    {
     "data": {
      "text/latex": [
       "$\\displaystyle \\psi{\\left(x \\right)} = A e^{- i k_{0} x} + B e^{i k_{0} x}$"
      ],
      "text/plain": [
       "Eq(psi(x), A*exp(-I*k_0*x) + B*exp(I*k_0*x))"
      ]
     },
     "execution_count": 39,
     "metadata": {},
     "output_type": "execute_result"
    }
   ],
   "source": [
    "psi_region[ 0 ].last_step()"
   ]
  },
  {
   "cell_type": "code",
   "execution_count": null,
   "id": "20b9ac2f-eb43-45a4-8c8b-8efba67ed624",
   "metadata": {},
   "outputs": [],
   "source": []
  },
  {
   "cell_type": "code",
   "execution_count": 40,
   "id": "8c174cba-dd99-4882-b879-ad90bb93cd0a",
   "metadata": {},
   "outputs": [
    {
     "data": {
      "text/latex": [
       "$\\displaystyle - E \\psi{\\left(x \\right)} + V_{0} \\psi{\\left(x \\right)} - \\frac{\\hbar^{2} \\frac{d^{2}}{d x^{2}} \\psi{\\left(x \\right)}}{2 \\text{m}} = 0$"
      ],
      "text/plain": [
       "Eq(-E*psi(x) + V_0*psi(x) - hbar**2*Derivative(psi(x), (x, 2))/(2*m), 0)"
      ]
     },
     "execution_count": 40,
     "metadata": {},
     "output_type": "execute_result"
    }
   ],
   "source": [
    "psi_region[ 1 ].negate_add( Stepper.RIGHT )"
   ]
  },
  {
   "cell_type": "code",
   "execution_count": 41,
   "id": "0a8f8500-b062-4c2e-a440-d602933afa95",
   "metadata": {},
   "outputs": [
    {
     "data": {
      "text/latex": [
       "$\\displaystyle \\left(- E + V_{0}\\right) \\psi{\\left(x \\right)} - \\frac{\\hbar^{2} \\frac{d^{2}}{d x^{2}} \\psi{\\left(x \\right)}}{2 \\text{m}} = 0$"
      ],
      "text/plain": [
       "Eq((-E + V_0)*psi(x) - hbar**2*Derivative(psi(x), (x, 2))/(2*m), 0)"
      ]
     },
     "execution_count": 41,
     "metadata": {},
     "output_type": "execute_result"
    }
   ],
   "source": [
    "psi_region[ 1 ].manipulate( lambda side : side.collect( psi(x) ) )"
   ]
  },
  {
   "cell_type": "code",
   "execution_count": 42,
   "id": "8d2d62b8-992d-43b9-b4dd-56781edccb67",
   "metadata": {},
   "outputs": [
    {
     "data": {
      "text/latex": [
       "$\\displaystyle - \\frac{\\hbar^{2} \\frac{d^{2}}{d x^{2}} \\psi{\\left(x \\right)}}{2 \\text{m}}$"
      ],
      "text/plain": [
       "-hbar**2*Derivative(psi(x), (x, 2))/(2*m)"
      ]
     },
     "execution_count": 42,
     "metadata": {},
     "output_type": "execute_result"
    }
   ],
   "source": [
    "psi_region[ 1 ].last_step().lhs.as_two_terms()[ 1 ]"
   ]
  },
  {
   "cell_type": "code",
   "execution_count": null,
   "id": "8eb7cb3a-be03-4b9a-abcb-f39c4369e649",
   "metadata": {},
   "outputs": [],
   "source": []
  },
  {
   "cell_type": "code",
   "execution_count": 43,
   "id": "21f7379a-4077-4f3c-8f32-114754d73ba8",
   "metadata": {},
   "outputs": [
    {
     "data": {
      "text/latex": [
       "$\\displaystyle \\left(- E + V_{0}\\right) \\psi{\\left(x \\right)} = \\frac{\\hbar^{2} \\frac{d^{2}}{d x^{2}} \\psi{\\left(x \\right)}}{2 \\text{m}}$"
      ],
      "text/plain": [
       "Eq((-E + V_0)*psi(x), hbar**2*Derivative(psi(x), (x, 2))/(2*m))"
      ]
     },
     "execution_count": 43,
     "metadata": {},
     "output_type": "execute_result"
    }
   ],
   "source": [
    "region_1_clone = psi_region[ 1 ].clone()\n",
    "\n",
    "region_1_clone.manipulate( lambda side : side \n",
    "                - region_1_clone.last_step()\n",
    "                        .lhs.as_two_terms()[ 1 ]\n",
    "        )"
   ]
  },
  {
   "cell_type": "code",
   "execution_count": 44,
   "id": "8c71bb1c-3c1d-4c1a-a295-bd54ed1d4647",
   "metadata": {},
   "outputs": [
    {
     "data": {
      "text/latex": [
       "$\\displaystyle \\psi{\\left(x \\right)} = \\frac{\\hbar^{2} \\frac{d^{2}}{d x^{2}} \\psi{\\left(x \\right)}}{2 \\left(- E + V_{0}\\right) \\text{m}}$"
      ],
      "text/plain": [
       "Eq(psi(x), hbar**2*Derivative(psi(x), (x, 2))/(2*m*(-E + V_0)))"
      ]
     },
     "execution_count": 44,
     "metadata": {},
     "output_type": "execute_result"
    }
   ],
   "source": [
    "region_1_clone.manipulate( lambda side : side / region_1_clone.last_step().lhs.as_two_terms()[ 0 ] )"
   ]
  },
  {
   "cell_type": "code",
   "execution_count": 45,
   "id": "ba5ce71c-238c-49b8-988a-c0e93638263a",
   "metadata": {},
   "outputs": [
    {
     "data": {
      "text/latex": [
       "$\\displaystyle \\frac{2 \\left(- E + V_{0}\\right) \\psi{\\left(x \\right)} \\text{m}}{\\hbar^{2} \\frac{d^{2}}{d x^{2}} \\psi{\\left(x \\right)}} = 1$"
      ],
      "text/plain": [
       "Eq(2*m*(-E + V_0)*psi(x)/(hbar**2*Derivative(psi(x), (x, 2))), 1)"
      ]
     },
     "execution_count": 45,
     "metadata": {},
     "output_type": "execute_result"
    }
   ],
   "source": [
    "region_1_clone.manipulate( lambda side : side / region_1_clone.last_step().rhs )"
   ]
  },
  {
   "cell_type": "code",
   "execution_count": 46,
   "id": "1ae4ccac-98dc-4c2b-865a-c83db72e0524",
   "metadata": {},
   "outputs": [
    {
     "data": {
      "text/latex": [
       "$\\displaystyle \\frac{2 \\left(- E + V_{0}\\right) \\psi{\\left(x \\right)} \\text{m}}{\\hbar^{2}} = \\frac{d^{2}}{d x^{2}} \\psi{\\left(x \\right)}$"
      ],
      "text/plain": [
       "Eq(2*m*(-E + V_0)*psi(x)/hbar**2, Derivative(psi(x), (x, 2)))"
      ]
     },
     "execution_count": 46,
     "metadata": {},
     "output_type": "execute_result"
    }
   ],
   "source": [
    "region_1_clone.manipulate( lambda side : side * sp.Derivative( psi( x ), ( x, 2 ) ) )"
   ]
  },
  {
   "cell_type": "code",
   "execution_count": 47,
   "id": "61295c0c-5eea-4989-8e29-83a326d4a0b0",
   "metadata": {},
   "outputs": [
    {
     "data": {
      "text/latex": [
       "$\\displaystyle \\frac{2 \\left(- E + V_{0}\\right) \\text{m}}{\\hbar^{2}} = \\frac{\\frac{d^{2}}{d x^{2}} \\psi{\\left(x \\right)}}{\\psi{\\left(x \\right)}}$"
      ],
      "text/plain": [
       "Eq(2*m*(-E + V_0)/hbar**2, Derivative(psi(x), (x, 2))/psi(x))"
      ]
     },
     "execution_count": 47,
     "metadata": {},
     "output_type": "execute_result"
    }
   ],
   "source": [
    "region_1_clone.manipulate( lambda side : side / psi( x ) )"
   ]
  },
  {
   "cell_type": "code",
   "execution_count": 48,
   "id": "f85cefbc-6aab-4d22-a4ba-9a15864af5e2",
   "metadata": {},
   "outputs": [],
   "source": [
    "k_1 = sp.Symbol( \"k_1\" )\n",
    "k_1_squared = sp.Eq( k_1 ** 2, region_1_clone.last_step().lhs )"
   ]
  },
  {
   "cell_type": "code",
   "execution_count": 49,
   "id": "d90e733a-b882-432f-8198-297d91218799",
   "metadata": {},
   "outputs": [
    {
     "data": {
      "text/latex": [
       "$\\displaystyle k_{1}^{2} = \\frac{2 \\left(- E + V_{0}\\right) \\text{m}}{\\hbar^{2}}$"
      ],
      "text/plain": [
       "Eq(k_1**2, 2*m*(-E + V_0)/hbar**2)"
      ]
     },
     "execution_count": 49,
     "metadata": {},
     "output_type": "execute_result"
    }
   ],
   "source": [
    "k_1_squared"
   ]
  },
  {
   "cell_type": "code",
   "execution_count": 50,
   "id": "68c3791e-ce2b-44b8-a2b6-8c0dfdaa816f",
   "metadata": {},
   "outputs": [
    {
     "data": {
      "text/latex": [
       "$\\displaystyle k_{1}^{2} = \\frac{\\frac{d^{2}}{d x^{2}} \\psi{\\left(x \\right)}}{\\psi{\\left(x \\right)}}$"
      ],
      "text/plain": [
       "Eq(k_1**2, Derivative(psi(x), (x, 2))/psi(x))"
      ]
     },
     "execution_count": 50,
     "metadata": {},
     "output_type": "execute_result"
    }
   ],
   "source": [
    "region_1_clone.manipulate( lambda side : side.subs( { k_1_squared.rhs : k_1_squared.lhs } ) )"
   ]
  },
  {
   "cell_type": "code",
   "execution_count": 51,
   "id": "62f3fcfb-5967-4d94-a0f3-43ca38ad69be",
   "metadata": {},
   "outputs": [
    {
     "data": {
      "text/latex": [
       "$\\displaystyle k_{1}^{2} \\psi{\\left(x \\right)} = \\frac{d^{2}}{d x^{2}} \\psi{\\left(x \\right)}$"
      ],
      "text/plain": [
       "Eq(k_1**2*psi(x), Derivative(psi(x), (x, 2)))"
      ]
     },
     "execution_count": 51,
     "metadata": {},
     "output_type": "execute_result"
    }
   ],
   "source": [
    "region_1_clone.manipulate( lambda side : side * psi( x ) )"
   ]
  },
  {
   "cell_type": "code",
   "execution_count": 52,
   "id": "b0956a0a-0a73-4073-8dce-86ca5cd27424",
   "metadata": {},
   "outputs": [
    {
     "data": {
      "text/latex": [
       "$\\displaystyle k_{1}^{2} \\psi{\\left(x \\right)} - \\frac{d^{2}}{d x^{2}} \\psi{\\left(x \\right)} = 0$"
      ],
      "text/plain": [
       "Eq(k_1**2*psi(x) - Derivative(psi(x), (x, 2)), 0)"
      ]
     },
     "execution_count": 52,
     "metadata": {},
     "output_type": "execute_result"
    }
   ],
   "source": [
    "region_1_clone.negate_add( Stepper.RIGHT )"
   ]
  },
  {
   "cell_type": "code",
   "execution_count": 53,
   "id": "41d87909-2b2d-4dff-9879-20c5b426759d",
   "metadata": {},
   "outputs": [],
   "source": [
    "psi_region[ 1 ] = region_1_clone"
   ]
  },
  {
   "cell_type": "code",
   "execution_count": 54,
   "id": "bfbcab24-925d-44ea-a132-e6b5bdc282b7",
   "metadata": {},
   "outputs": [
    {
     "data": {
      "text/latex": [
       "$\\displaystyle k_{1}^{2} \\psi{\\left(x \\right)} - \\frac{d^{2}}{d x^{2}} \\psi{\\left(x \\right)} = 0$"
      ],
      "text/plain": [
       "Eq(k_1**2*psi(x) - Derivative(psi(x), (x, 2)), 0)"
      ]
     },
     "execution_count": 54,
     "metadata": {},
     "output_type": "execute_result"
    }
   ],
   "source": [
    "psi_region[ 1 ].last_step()"
   ]
  },
  {
   "cell_type": "code",
   "execution_count": null,
   "id": "43f237cf-c3f6-42aa-b522-76dca9bb12b5",
   "metadata": {},
   "outputs": [],
   "source": []
  },
  {
   "cell_type": "code",
   "execution_count": 55,
   "id": "2be14221-3e1e-4626-bba9-816573c922a1",
   "metadata": {},
   "outputs": [],
   "source": [
    "psi_1 = sp.Function( \"psi_1\" )"
   ]
  },
  {
   "cell_type": "code",
   "execution_count": 56,
   "id": "0e2d3f2e-aa17-4053-84e2-532eafc5b7df",
   "metadata": {},
   "outputs": [],
   "source": [
    "psi_2 = sp.Function( \"psi_2\" )"
   ]
  },
  {
   "cell_type": "code",
   "execution_count": 57,
   "id": "cdd9ead9-4e40-4baa-9d64-0f284b5792de",
   "metadata": {},
   "outputs": [
    {
     "data": {
      "text/latex": [
       "$\\displaystyle k_{1}^{2} \\psi_{1}{\\left(x \\right)} - \\frac{d^{2}}{d x^{2}} \\psi_{1}{\\left(x \\right)} = 0$"
      ],
      "text/plain": [
       "Eq(k_1**2*psi_1(x) - Derivative(psi_1(x), (x, 2)), 0)"
      ]
     },
     "execution_count": 57,
     "metadata": {},
     "output_type": "execute_result"
    }
   ],
   "source": [
    "psi_region[ 1 ].rename( psi( x ), psi_1( x ) )"
   ]
  },
  {
   "cell_type": "code",
   "execution_count": null,
   "id": "b4beefb1-c65d-47bc-ab9e-0148f2b5b487",
   "metadata": {},
   "outputs": [],
   "source": []
  },
  {
   "cell_type": "code",
   "execution_count": 58,
   "id": "f6d9b205-4138-4da5-8414-d0d41c0cc1e9",
   "metadata": {},
   "outputs": [
    {
     "data": {
      "text/latex": [
       "$\\displaystyle \\psi_{1}{\\left(x \\right)} = C_{1} e^{- k_{1} x} + C_{2} e^{k_{1} x}$"
      ],
      "text/plain": [
       "Eq(psi_1(x), C1*exp(-k_1*x) + C2*exp(k_1*x))"
      ]
     },
     "execution_count": 58,
     "metadata": {},
     "output_type": "execute_result"
    }
   ],
   "source": [
    "#JUST NOTICED THAT THE SOLUTION DOES NOT CONTAINER IMAGINARY NUMBERS? WHY?\n",
    "\n",
    "psi_region[ 1 ].add_step( sp.solvers.ode.dsolve( psi_region[ 1 ].last_step() ) )"
   ]
  },
  {
   "cell_type": "code",
   "execution_count": 59,
   "id": "35c1fc7e-e24a-40a4-b1fe-7146b4668d66",
   "metadata": {},
   "outputs": [],
   "source": [
    "constants.append( [ sp.Symbol( 'C' ), sp.Symbol( 'D' ) ] )"
   ]
  },
  {
   "cell_type": "code",
   "execution_count": 60,
   "id": "2ae675c1-3f60-4f2f-b4db-71ed8a6641aa",
   "metadata": {},
   "outputs": [
    {
     "data": {
      "text/latex": [
       "$\\displaystyle \\psi_{1}{\\left(x \\right)} = C e^{- k_{1} x} + C_{2} e^{k_{1} x}$"
      ],
      "text/plain": [
       "Eq(psi_1(x), C*exp(-k_1*x) + C2*exp(k_1*x))"
      ]
     },
     "execution_count": 60,
     "metadata": {},
     "output_type": "execute_result"
    }
   ],
   "source": [
    "psi_region[ 1 ].rename( C1, constants[ 1 ][ 0 ] )"
   ]
  },
  {
   "cell_type": "code",
   "execution_count": 61,
   "id": "54ab4ed0-e146-418a-a328-846287b256a7",
   "metadata": {},
   "outputs": [
    {
     "data": {
      "text/latex": [
       "$\\displaystyle \\psi_{1}{\\left(x \\right)} = C e^{- k_{1} x} + D e^{k_{1} x}$"
      ],
      "text/plain": [
       "Eq(psi_1(x), C*exp(-k_1*x) + D*exp(k_1*x))"
      ]
     },
     "execution_count": 61,
     "metadata": {},
     "output_type": "execute_result"
    }
   ],
   "source": [
    "psi_region[ 1 ].rename( C2, constants[ 1 ][ 1 ] )"
   ]
  },
  {
   "cell_type": "code",
   "execution_count": 62,
   "id": "2c075033-e455-404b-9f2a-64fb824cb700",
   "metadata": {},
   "outputs": [
    {
     "data": {
      "text/latex": [
       "$\\displaystyle k^{2} \\psi_{2}{\\left(x \\right)} + \\frac{d^{2}}{d x^{2}} \\psi_{2}{\\left(x \\right)} = 0$"
      ],
      "text/plain": [
       "Eq(k**2*psi_2(x) + Derivative(psi_2(x), (x, 2)), 0)"
      ]
     },
     "execution_count": 62,
     "metadata": {},
     "output_type": "execute_result"
    }
   ],
   "source": [
    "k_2 = sp.Symbol( \"k_2\" )\n",
    "psi_2_symbol = sp.Function( \"psi_2\" )\n",
    "\n",
    "psi_region[ 2 ].rename( psi( x ), psi_2_symbol( x ) )"
   ]
  },
  {
   "cell_type": "code",
   "execution_count": 63,
   "id": "80a5eede-5abf-4819-99a0-90d16e6446da",
   "metadata": {},
   "outputs": [
    {
     "data": {
      "text/latex": [
       "$\\displaystyle k_{2}^{2} \\psi_{2}{\\left(x \\right)} + \\frac{d^{2}}{d x^{2}} \\psi_{2}{\\left(x \\right)} = 0$"
      ],
      "text/plain": [
       "Eq(k_2**2*psi_2(x) + Derivative(psi_2(x), (x, 2)), 0)"
      ]
     },
     "execution_count": 63,
     "metadata": {},
     "output_type": "execute_result"
    }
   ],
   "source": [
    "psi_region[ 2 ].rename( k, k_2 )"
   ]
  },
  {
   "cell_type": "code",
   "execution_count": 64,
   "id": "76293d23-835b-4641-ba81-09ea37f118a9",
   "metadata": {},
   "outputs": [
    {
     "data": {
      "text/latex": [
       "$\\displaystyle \\psi_{2}{\\left(x \\right)} = C_{1} e^{- i k_{2} x} + C_{2} e^{i k_{2} x}$"
      ],
      "text/plain": [
       "Eq(psi_2(x), C1*exp(-I*k_2*x) + C2*exp(I*k_2*x))"
      ]
     },
     "execution_count": 64,
     "metadata": {},
     "output_type": "execute_result"
    }
   ],
   "source": [
    "psi_region[ 2 ].add_step( sp.solvers.ode.dsolve( psi_region[ 2 ].last_step() ) )"
   ]
  },
  {
   "cell_type": "code",
   "execution_count": 65,
   "id": "52ba7d2f-c0bc-4264-ac90-d05fcb413294",
   "metadata": {},
   "outputs": [
    {
     "data": {
      "text/latex": [
       "$\\displaystyle \\psi_{2}{\\left(x \\right)} = C_{1} e^{- i k_{2} x} + G e^{i k_{2} x}$"
      ],
      "text/plain": [
       "Eq(psi_2(x), C1*exp(-I*k_2*x) + G*exp(I*k_2*x))"
      ]
     },
     "execution_count": 65,
     "metadata": {},
     "output_type": "execute_result"
    }
   ],
   "source": [
    "constants.append( [ sp.Symbol( 'G' ) ] ) #Skipping a letter in the alphabet so there is no confusion with energy\n",
    "\n",
    "psi_region[ 2 ].rename( C2, constants[ 2 ][ 0 ] )"
   ]
  },
  {
   "cell_type": "code",
   "execution_count": 66,
   "id": "3c2a36cf-9568-4f30-95be-a30cd4b6ce74",
   "metadata": {},
   "outputs": [
    {
     "data": {
      "text/latex": [
       "$\\displaystyle \\psi_{2}{\\left(x \\right)} = G e^{i k_{2} x}$"
      ],
      "text/plain": [
       "Eq(psi_2(x), G*exp(I*k_2*x))"
      ]
     },
     "execution_count": 66,
     "metadata": {},
     "output_type": "execute_result"
    }
   ],
   "source": [
    "psi_region[ 2 ].rename( C1, 0 )"
   ]
  },
  {
   "cell_type": "code",
   "execution_count": 67,
   "id": "594452f0-91a0-4dab-ae7d-a2114ff2da91",
   "metadata": {},
   "outputs": [],
   "source": [
    "#diff_sol = sp.solvers.ode.dsolve( psi_region[ 1 ].last_step().lhs, 0, ivar = x, \n",
    "#        ics = { \n",
    "#                psi_1( 0 ) : psi( 0 ), \n",
    "#                psi_1( barrier_length ) : psi_2( barrier_length ), \n",
    "#                psi_1( x ).diff( x, 1 ).subs( x, 0 ) : psi( x ).diff( x, 1 ).subs( x, 0 ), \n",
    "#                psi_1( x ).diff( x, 1 ).subs( x, barrier_length ) : psi_2( x ).diff( x, 1 ).subs( x, barrier_length )\n",
    "#        }\n",
    "#    )"
   ]
  },
  {
   "cell_type": "code",
   "execution_count": 68,
   "id": "f3273b76-6e58-4da3-9d2c-697449fab79c",
   "metadata": {},
   "outputs": [],
   "source": [
    "flat_constants = []\n",
    "for constant_set in constants: \n",
    "    flat_constants += constant_set\n",
    "\n",
    "normalize = lambda expression, from_, to : sp.Eq( sp.integrate( expression * sp.conjugate( expression ), ( x, from_, to ) ), 1, evaluate = False )\n",
    "\n",
    "constants_helpers = sp.solve( \n",
    "        [ equation.last_step() for equation in psi_region ], \n",
    "        flat_constants\n",
    "    )"
   ]
  },
  {
   "cell_type": "code",
   "execution_count": null,
   "id": "8ffbcd90-7eab-494c-8c9d-898c7c39b94c",
   "metadata": {},
   "outputs": [],
   "source": []
  },
  {
   "cell_type": "code",
   "execution_count": 69,
   "id": "fae3f387-449e-43e3-bd5c-70bc599e547b",
   "metadata": {},
   "outputs": [],
   "source": [
    "region = []\n",
    "region.append( Stepper( sp.Eq( psi_region[ 2 ].last_step().rhs, psi_region[ 1 ].last_step().rhs ) ) )"
   ]
  },
  {
   "cell_type": "code",
   "execution_count": 70,
   "id": "d73f4aa7-2496-4af1-86f1-db6e365946a8",
   "metadata": {},
   "outputs": [
    {
     "data": {
      "text/latex": [
       "$\\displaystyle G e^{i L k_{2}} = C e^{- L k_{1}} + D e^{L k_{1}}$"
      ],
      "text/plain": [
       "Eq(G*exp(I*L*k_2), C*exp(-L*k_1) + D*exp(L*k_1))"
      ]
     },
     "execution_count": 70,
     "metadata": {},
     "output_type": "execute_result"
    }
   ],
   "source": [
    "region[ 0 ].rename( x, TunnelPotential.DEFAULT_WELL_LENGTH )"
   ]
  },
  {
   "cell_type": "code",
   "execution_count": 71,
   "id": "53b03143-409d-4ea4-b8d1-0a20807e3c50",
   "metadata": {},
   "outputs": [],
   "source": [
    "region.append( Stepper( sp.Eq( psi_region[ 0 ].last_step().rhs, psi_region[ 1 ].last_step().rhs ) ) )"
   ]
  },
  {
   "cell_type": "code",
   "execution_count": 72,
   "id": "ab73c222-3543-42e0-900e-dfe508429109",
   "metadata": {},
   "outputs": [
    {
     "data": {
      "text/latex": [
       "$\\displaystyle A + B = C + D$"
      ],
      "text/plain": [
       "Eq(A + B, C + D)"
      ]
     },
     "execution_count": 72,
     "metadata": {},
     "output_type": "execute_result"
    }
   ],
   "source": [
    "region[ 1 ].rename( x, 0 )"
   ]
  },
  {
   "cell_type": "code",
   "execution_count": 73,
   "id": "dccff7c2-7471-4e19-ad8d-baafefd876ea",
   "metadata": {},
   "outputs": [],
   "source": [
    "region.append( Stepper( sp.Eq( sp.diff( psi_region[ 0 ].last_step().rhs, x ), sp.diff( psi_region[ 1 ].last_step().rhs, x ) ) ) )"
   ]
  },
  {
   "cell_type": "code",
   "execution_count": 74,
   "id": "cef9849b-cba7-4365-94f4-3cfaea9cc8d7",
   "metadata": {},
   "outputs": [
    {
     "data": {
      "text/latex": [
       "$\\displaystyle - i A k_{0} + i B k_{0} = - C k_{1} + D k_{1}$"
      ],
      "text/plain": [
       "Eq(-I*A*k_0 + I*B*k_0, -C*k_1 + D*k_1)"
      ]
     },
     "execution_count": 74,
     "metadata": {},
     "output_type": "execute_result"
    }
   ],
   "source": [
    "region[ 2 ].rename( x, 0 )"
   ]
  },
  {
   "cell_type": "code",
   "execution_count": 75,
   "id": "083c003a-61ef-4565-9b8f-77686e478c99",
   "metadata": {},
   "outputs": [],
   "source": [
    "region.append( Stepper( sp.Eq( sp.diff( psi_region[ 2 ].last_step().rhs, x ), sp.diff( psi_region[ 1 ].last_step().rhs, x ) ) ) )"
   ]
  },
  {
   "cell_type": "code",
   "execution_count": 76,
   "id": "04d2cdc0-1603-4d64-b967-1f785f57d92d",
   "metadata": {},
   "outputs": [
    {
     "data": {
      "text/latex": [
       "$\\displaystyle i G k_{2} e^{i L k_{2}} = - C k_{1} e^{- L k_{1}} + D k_{1} e^{L k_{1}}$"
      ],
      "text/plain": [
       "Eq(I*G*k_2*exp(I*L*k_2), -C*k_1*exp(-L*k_1) + D*k_1*exp(L*k_1))"
      ]
     },
     "execution_count": 76,
     "metadata": {},
     "output_type": "execute_result"
    }
   ],
   "source": [
    "region[ 3 ].rename( x, TunnelPotential.DEFAULT_WELL_LENGTH )"
   ]
  },
  {
   "cell_type": "code",
   "execution_count": 77,
   "id": "64539bfa-a527-4927-a7f3-5e9d69501a47",
   "metadata": {},
   "outputs": [],
   "source": [
    "constants_system = [ equation.last_step() for equation in region ]"
   ]
  },
  {
   "cell_type": "code",
   "execution_count": 78,
   "id": "09d6d8c0-6338-406b-9fd2-fe7ec9182809",
   "metadata": {},
   "outputs": [
    {
     "data": {
      "text/plain": [
       "[Eq(G*exp(I*L*k_2), C*exp(-L*k_1) + D*exp(L*k_1)),\n",
       " Eq(A + B, C + D),\n",
       " Eq(-I*A*k_0 + I*B*k_0, -C*k_1 + D*k_1),\n",
       " Eq(I*G*k_2*exp(I*L*k_2), -C*k_1*exp(-L*k_1) + D*k_1*exp(L*k_1))]"
      ]
     },
     "execution_count": 78,
     "metadata": {},
     "output_type": "execute_result"
    }
   ],
   "source": [
    "constants_system"
   ]
  },
  {
   "cell_type": "code",
   "execution_count": 79,
   "id": "fe7f5186-408d-4c2c-bf97-6e6a030131a7",
   "metadata": {},
   "outputs": [],
   "source": [
    "constants_solutions = sp.solve( constants_system )"
   ]
  },
  {
   "cell_type": "code",
   "execution_count": 80,
   "id": "35e9c491-db27-478f-a03d-a80ed2e0dc40",
   "metadata": {},
   "outputs": [
    {
     "data": {
      "text/plain": [
       "{A: G*(k_0*(k_1 + I*k_2 + (k_1 - I*k_2)*exp(2*L*k_1)) + I*k_1*(k_1 + I*k_2 + (-k_1 + I*k_2)*exp(2*L*k_1)))*exp(-L*(k_1 - I*k_2))/(4*k_0*k_1),\n",
       " B: G*(k_0*(k_1 + I*k_2 + (k_1 - I*k_2)*exp(2*L*k_1)) + I*k_1*(-k_1 - I*k_2 + (k_1 - I*k_2)*exp(2*L*k_1)))*exp(-L*(k_1 - I*k_2))/(4*k_0*k_1),\n",
       " C: G*(k_1 - I*k_2)*exp(L*(k_1 + I*k_2))/(2*k_1),\n",
       " D: G*(k_1 + I*k_2)*exp(-L*(k_1 - I*k_2))/(2*k_1)}"
      ]
     },
     "execution_count": 80,
     "metadata": {},
     "output_type": "execute_result"
    }
   ],
   "source": [
    "constants_solutions = constants_solutions[ 0 ]\n",
    "constants_solutions"
   ]
  },
  {
   "cell_type": "code",
   "execution_count": 81,
   "id": "0265297f-8c9f-4ce0-bb3c-3a322d4ec161",
   "metadata": {},
   "outputs": [],
   "source": [
    "#solve_g = region[ 3 ].clone()\n",
    "#solve_g.rename( constants[ 1 ][ 0 ], constants_solutions[ constants[ 1 ][ 0 ] ] )\n",
    "#solve_g.rename( constants[ 1 ][ 1 ], constants_solutions[ constants[ 1 ][ 1 ] ] )\n",
    "#solve_g.manipulate( lambda side : side * 2 )\n",
    "#solve_g.manipulate( lambda side : side / sp.exp( sp.I * TunnelPotential.DEFAULT_WELL_LENGTH * k_2 ) )\n",
    "#solve_g.add_step( sp.Eq( solve_g.last_step().lhs, solve_g.last_step().rhs.collect( sp.Symbol( 'G' ) ) ) )\n",
    "#solve_g.negate_add( Stepper.RIGHT )\n",
    "#solve_g.add_step( sp.Eq( solve_g.last_step().lhs.collect( sp.Symbol( 'G' ) ), solve_g.last_step().rhs ) )"
   ]
  },
  {
   "cell_type": "code",
   "execution_count": 82,
   "id": "f325fa34-06ff-43e2-a005-3a41806817e7",
   "metadata": {},
   "outputs": [],
   "source": [
    "G = sp.Symbol( 'G', real = True )"
   ]
  },
  {
   "cell_type": "code",
   "execution_count": 132,
   "id": "046cd7ba-39ad-441a-9942-3d913ae6dfcc",
   "metadata": {},
   "outputs": [],
   "source": [
    "g_normalized = Stepper( normalize( psi_region[ 2 ].last_step().rhs, 0, TunnelPotential.DEFAULT_WELL_LENGTH ) )"
   ]
  },
  {
   "cell_type": "code",
   "execution_count": 142,
   "id": "bd18496f-7bcb-49e6-8c98-80adce5ee9a0",
   "metadata": {},
   "outputs": [
    {
     "data": {
      "text/latex": [
       "$\\displaystyle \\frac{i G e^{i L k_{2}} \\overline{G}}{- k_{2} e^{i L \\overline{k_{2}}} + e^{i L \\overline{k_{2}}} \\overline{k_{2}}} - \\frac{i G \\overline{G}}{- k_{2} + \\overline{k_{2}}} = 1$"
      ],
      "text/plain": [
       "Eq(I*G*exp(I*L*k_2)*conjugate(G)/(-k_2*exp(I*L*conjugate(k_2)) + exp(I*L*conjugate(k_2))*conjugate(k_2)) - I*G*conjugate(G)/(-k_2 + conjugate(k_2)), 1)"
      ]
     },
     "execution_count": 142,
     "metadata": {},
     "output_type": "execute_result"
    }
   ],
   "source": [
    "g_normalized.last_step()"
   ]
  },
  {
   "cell_type": "code",
   "execution_count": 143,
   "id": "6347e1b0-c8c2-4f46-a597-f9a9cfefbade",
   "metadata": {},
   "outputs": [],
   "source": [
    "normalize_no_conjugate = lambda expression, from_, to : sp.Eq( sp.integrate( expression ** 2, ( x, from_, to ) ), 1, evaluate = False )"
   ]
  },
  {
   "cell_type": "code",
   "execution_count": 144,
   "id": "b33356ae-c988-432e-9f97-2e2ff55293ff",
   "metadata": {},
   "outputs": [],
   "source": [
    "g_normalized_no_conjugate = Stepper( normalize_no_conjugate( psi_region[ 2 ].last_step().rhs, 0, TunnelPotential.DEFAULT_WELL_LENGTH ) )"
   ]
  },
  {
   "cell_type": "code",
   "execution_count": 159,
   "id": "f9941920-2acf-408f-b999-242a8014ea22",
   "metadata": {},
   "outputs": [],
   "source": [
    "g_solver = Stepper( sp.Eq( g_normalized_no_conjugate.last_step().lhs.args[ 0 ][ 0 ], 1 ) )"
   ]
  },
  {
   "cell_type": "code",
   "execution_count": 160,
   "id": "f7afc4cb-724e-453f-a38a-4e1807c2801b",
   "metadata": {},
   "outputs": [
    {
     "data": {
      "text/latex": [
       "$\\displaystyle - \\frac{i G^{2} e^{2 i L k_{2}}}{2 k_{2}} + \\frac{i G^{2}}{2 k_{2}} = 1$"
      ],
      "text/plain": [
       "Eq(-I*G**2*exp(2*I*L*k_2)/(2*k_2) + I*G**2/(2*k_2), 1)"
      ]
     },
     "execution_count": 160,
     "metadata": {},
     "output_type": "execute_result"
    }
   ],
   "source": [
    "g_solver.last_step()"
   ]
  },
  {
   "cell_type": "code",
   "execution_count": 166,
   "id": "a7726f04-b663-4050-8adb-8ca54a59b991",
   "metadata": {},
   "outputs": [
    {
     "data": {
      "text/latex": [
       "$\\displaystyle \\frac{k_{2} \\left(- \\frac{i G^{2} e^{2 i L k_{2}}}{k_{2}} + \\frac{i G^{2}}{k_{2}}\\right)}{G^{2}} = \\frac{2 k_{2}}{G^{2}}$"
      ],
      "text/plain": [
       "Eq(k_2*(-I*G**2*exp(2*I*L*k_2)/k_2 + I*G**2/k_2)/G**2, 2*k_2/G**2)"
      ]
     },
     "execution_count": 166,
     "metadata": {},
     "output_type": "execute_result"
    }
   ],
   "source": [
    "g_solver.manipulate( lambda side : side * 2 * k_2 / G**2 )"
   ]
  },
  {
   "cell_type": "code",
   "execution_count": 179,
   "id": "d051fa8e-2450-4538-9bbf-a8932862ac36",
   "metadata": {},
   "outputs": [
    {
     "data": {
      "text/latex": [
       "$\\displaystyle \\frac{i G^{2} \\left(1 - e^{2 i L k_{2}}\\right)}{G^{2}} = \\frac{2 k_{2}}{G^{2}}$"
      ],
      "text/plain": [
       "Eq(I*G**2*(1 - exp(2*I*L*k_2))/G**2, 2*k_2/G**2)"
      ]
     },
     "execution_count": 179,
     "metadata": {},
     "output_type": "execute_result"
    }
   ],
   "source": [
    "g_solver.manipulate( lambda side : side.cancel().simplify() )"
   ]
  },
  {
   "cell_type": "code",
   "execution_count": 213,
   "id": "c3536ed9-ab85-4d89-af02-eedd88e5e00b",
   "metadata": {},
   "outputs": [],
   "source": [
    "g_solver_ordered_factors = g_solver.last_step().lhs.as_ordered_factors()"
   ]
  },
  {
   "cell_type": "code",
   "execution_count": 220,
   "id": "d3fca57b-eea3-47ec-aae3-832a82755703",
   "metadata": {},
   "outputs": [],
   "source": [
    "g_solver_factor = g_solver_ordered_factors[ 0 ] * g_solver_ordered_factors[ 3 ]"
   ]
  },
  {
   "cell_type": "code",
   "execution_count": 223,
   "id": "5d758979-cceb-49bd-b56a-69e11186dccf",
   "metadata": {},
   "outputs": [
    {
     "data": {
      "text/latex": [
       "$\\displaystyle i \\left(1 - e^{2 i L k_{2}}\\right)$"
      ],
      "text/plain": [
       "I*(1 - exp(2*I*L*k_2))"
      ]
     },
     "execution_count": 223,
     "metadata": {},
     "output_type": "execute_result"
    }
   ],
   "source": [
    "g_solver_factor"
   ]
  },
  {
   "cell_type": "code",
   "execution_count": null,
   "id": "61f48669-b464-40c8-9812-8235e2e33810",
   "metadata": {},
   "outputs": [],
   "source": []
  },
  {
   "cell_type": "code",
   "execution_count": 221,
   "id": "930e0890-dcc4-4705-8da5-30e14e516514",
   "metadata": {},
   "outputs": [],
   "source": [
    "g_solver_numer_denom = g_solver.last_step().rhs.as_numer_denom()"
   ]
  },
  {
   "cell_type": "code",
   "execution_count": 225,
   "id": "cff49285-8d11-4dab-accb-6eefad106fbb",
   "metadata": {},
   "outputs": [
    {
     "data": {
      "text/latex": [
       "$\\displaystyle G^{2} = - \\frac{2 i k_{2}}{1 - e^{2 i L k_{2}}}$"
      ],
      "text/plain": [
       "Eq(G**2, -2*I*k_2/(1 - exp(2*I*L*k_2)))"
      ]
     },
     "execution_count": 225,
     "metadata": {},
     "output_type": "execute_result"
    }
   ],
   "source": [
    "sp.Eq( G**2, g_solver_numer_denom[ 0 ] / g_solver_factor )"
   ]
  },
  {
   "cell_type": "code",
   "execution_count": 230,
   "id": "7198977c-b1bd-416f-80aa-069ef8e855be",
   "metadata": {},
   "outputs": [
    {
     "data": {
      "text/latex": [
       "$\\displaystyle \\frac{G^{2}}{G^{2}} = - \\frac{2 i k_{2}}{G^{2} \\left(1 - e^{2 i L k_{2}}\\right)}$"
      ],
      "text/plain": [
       "Eq(G**2/G**2, -2*I*k_2/(G**2*(1 - exp(2*I*L*k_2))))"
      ]
     },
     "execution_count": 230,
     "metadata": {},
     "output_type": "execute_result"
    }
   ],
   "source": [
    "g_solver.manipulate( lambda side : side / g_solver_factor )"
   ]
  },
  {
   "cell_type": "code",
   "execution_count": 235,
   "id": "7716a557-164b-4e35-a4c1-935610ee412c",
   "metadata": {},
   "outputs": [
    {
     "data": {
      "text/latex": [
       "$\\displaystyle 1 = - \\frac{2 i k_{2}}{G^{2} \\left(1 - e^{2 i L k_{2}}\\right)}$"
      ],
      "text/plain": [
       "Eq(1, -2*I*k_2/(G**2*(1 - exp(2*I*L*k_2))))"
      ]
     },
     "execution_count": 235,
     "metadata": {},
     "output_type": "execute_result"
    }
   ],
   "source": [
    "g_solver.manipulate( lambda side : side.subs( { g_solver.last_step().lhs : 1 } ) )"
   ]
  },
  {
   "cell_type": "code",
   "execution_count": 236,
   "id": "e6f17527-fb4b-4f6f-af3e-14d270debc22",
   "metadata": {},
   "outputs": [
    {
     "data": {
      "text/latex": [
       "$\\displaystyle G^{2} = - \\frac{2 i k_{2}}{1 - e^{2 i L k_{2}}}$"
      ],
      "text/plain": [
       "Eq(G**2, -2*I*k_2/(1 - exp(2*I*L*k_2)))"
      ]
     },
     "execution_count": 236,
     "metadata": {},
     "output_type": "execute_result"
    }
   ],
   "source": [
    "g_solver.manipulate( lambda side : side * G ** 2  )"
   ]
  },
  {
   "cell_type": "code",
   "execution_count": 239,
   "id": "a6245fcd-6b1f-40df-ab8f-4a2773b9d4d6",
   "metadata": {},
   "outputs": [],
   "source": []
  },
  {
   "cell_type": "code",
   "execution_count": 240,
   "id": "1933a3cc-5f12-430d-bbdb-0acddb429666",
   "metadata": {},
   "outputs": [
    {
     "data": {
      "text/plain": [
       "{A: G*(k_0*(k_1 + I*k_2 + (k_1 - I*k_2)*exp(2*L*k_1)) + I*k_1*(k_1 + I*k_2 + (-k_1 + I*k_2)*exp(2*L*k_1)))*exp(-L*(k_1 - I*k_2))/(4*k_0*k_1),\n",
       " B: G*(k_0*(k_1 + I*k_2 + (k_1 - I*k_2)*exp(2*L*k_1)) + I*k_1*(-k_1 - I*k_2 + (k_1 - I*k_2)*exp(2*L*k_1)))*exp(-L*(k_1 - I*k_2))/(4*k_0*k_1),\n",
       " C: G*(k_1 - I*k_2)*exp(L*(k_1 + I*k_2))/(2*k_1),\n",
       " D: G*(k_1 + I*k_2)*exp(-L*(k_1 - I*k_2))/(2*k_1)}"
      ]
     },
     "execution_count": 240,
     "metadata": {},
     "output_type": "execute_result"
    }
   ],
   "source": [
    "full_constant_solutions"
   ]
  },
  {
   "cell_type": "code",
   "execution_count": 276,
   "id": "4f38f8e5-89ea-49ab-8636-03b0ab445c62",
   "metadata": {},
   "outputs": [],
   "source": [
    "A = sp.Symbol( 'A' )\n",
    "B = sp.Symbol( 'B' )\n",
    "C = sp.Symbol( 'C' )\n",
    "D = sp.Symbol( 'D' )"
   ]
  },
  {
   "cell_type": "code",
   "execution_count": null,
   "id": "2dbce9b3-51ea-4b01-8b43-eb7552fa69a6",
   "metadata": {},
   "outputs": [],
   "source": []
  },
  {
   "cell_type": "code",
   "execution_count": 277,
   "id": "d6d5df76-24b8-426a-8be5-2830de607023",
   "metadata": {},
   "outputs": [
    {
     "data": {
      "text/latex": [
       "$\\displaystyle - \\frac{i k_{2} \\left(k_{0} \\left(k_{1} + i k_{2} + \\left(k_{1} - i k_{2}\\right) e^{2 L k_{1}}\\right) + i k_{1} \\left(k_{1} + i k_{2} + \\left(- k_{1} + i k_{2}\\right) e^{2 L k_{1}}\\right)\\right) e^{- L \\left(k_{1} - i k_{2}\\right)}}{2 k_{0} k_{1} \\left(1 - e^{2 i L k_{2}}\\right)}$"
      ],
      "text/plain": [
       "-I*k_2*(k_0*(k_1 + I*k_2 + (k_1 - I*k_2)*exp(2*L*k_1)) + I*k_1*(k_1 + I*k_2 + (-k_1 + I*k_2)*exp(2*L*k_1)))*exp(-L*(k_1 - I*k_2))/(2*k_0*k_1*(1 - exp(2*I*L*k_2)))"
      ]
     },
     "execution_count": 277,
     "metadata": {},
     "output_type": "execute_result"
    }
   ],
   "source": [
    "GG = list( constants_solutions[ A ].atoms() )[ 1 ]\n",
    "constants_solutions[ A ].subs( { GG : g_solver.last_step().rhs } )"
   ]
  },
  {
   "cell_type": "code",
   "execution_count": 278,
   "id": "0dda87bb-0702-4e60-b22b-667e7545f61d",
   "metadata": {},
   "outputs": [],
   "source": [
    "full_constant_solutions = { current_constant : constants_solutions[ current_constant ].subs( { GG : g_solver.last_step().rhs } ).simplify() for current_constant in constants_solutions }"
   ]
  },
  {
   "cell_type": "code",
   "execution_count": 279,
   "id": "ea704fb7-6454-49f2-b185-95cd9b7dd73e",
   "metadata": {},
   "outputs": [
    {
     "data": {
      "text/plain": [
       "{A: I*k_2*(k_0*(k_1 + I*k_2 + (k_1 - I*k_2)*exp(2*L*k_1)) + I*k_1*(k_1 + I*k_2 - (k_1 - I*k_2)*exp(2*L*k_1)))*exp(-L*(k_1 - I*k_2))/(2*k_0*k_1*(exp(2*I*L*k_2) - 1)),\n",
       " B: I*k_2*(k_0*(k_1 + I*k_2 + (k_1 - I*k_2)*exp(2*L*k_1)) - I*k_1*(k_1 + I*k_2 - (k_1 - I*k_2)*exp(2*L*k_1)))*exp(-L*(k_1 - I*k_2))/(2*k_0*k_1*(exp(2*I*L*k_2) - 1)),\n",
       " C: I*k_2*(k_1 - I*k_2)*exp(L*(k_1 + I*k_2))/(k_1*(exp(2*I*L*k_2) - 1)),\n",
       " D: I*k_2*(k_1 + I*k_2)*exp(-L*(k_1 - I*k_2))/(k_1*(exp(2*I*L*k_2) - 1))}"
      ]
     },
     "execution_count": 279,
     "metadata": {},
     "output_type": "execute_result"
    }
   ],
   "source": [
    "full_constant_solutions"
   ]
  },
  {
   "cell_type": "code",
   "execution_count": 280,
   "id": "66bfe80c-6c12-41b2-8e07-56487650f1f4",
   "metadata": {},
   "outputs": [
    {
     "data": {
      "text/latex": [
       "$\\displaystyle \\frac{i k_{2} \\left(k_{0} \\left(k_{1} + i k_{2} + \\left(k_{1} - i k_{2}\\right) e^{2 L k_{1}}\\right) + i k_{1} \\left(k_{1} + i k_{2} - \\left(k_{1} - i k_{2}\\right) e^{2 L k_{1}}\\right)\\right) e^{- L \\left(k_{1} - i k_{2}\\right)}}{2 k_{0} k_{1} \\left(e^{2 i L k_{2}} - 1\\right)}$"
      ],
      "text/plain": [
       "I*k_2*(k_0*(k_1 + I*k_2 + (k_1 - I*k_2)*exp(2*L*k_1)) + I*k_1*(k_1 + I*k_2 - (k_1 - I*k_2)*exp(2*L*k_1)))*exp(-L*(k_1 - I*k_2))/(2*k_0*k_1*(exp(2*I*L*k_2) - 1))"
      ]
     },
     "execution_count": 280,
     "metadata": {},
     "output_type": "execute_result"
    }
   ],
   "source": [
    "full_constant_solutions[ A ]"
   ]
  },
  {
   "cell_type": "code",
   "execution_count": 281,
   "id": "1765870a-d7a4-4977-b498-cb86f03d469a",
   "metadata": {},
   "outputs": [
    {
     "data": {
      "text/latex": [
       "$\\displaystyle \\frac{i k_{2} \\left(k_{0} \\left(k_{1} + i k_{2} + \\left(k_{1} - i k_{2}\\right) e^{2 L k_{1}}\\right) - i k_{1} \\left(k_{1} + i k_{2} - \\left(k_{1} - i k_{2}\\right) e^{2 L k_{1}}\\right)\\right) e^{- L \\left(k_{1} - i k_{2}\\right)}}{2 k_{0} k_{1} \\left(e^{2 i L k_{2}} - 1\\right)}$"
      ],
      "text/plain": [
       "I*k_2*(k_0*(k_1 + I*k_2 + (k_1 - I*k_2)*exp(2*L*k_1)) - I*k_1*(k_1 + I*k_2 - (k_1 - I*k_2)*exp(2*L*k_1)))*exp(-L*(k_1 - I*k_2))/(2*k_0*k_1*(exp(2*I*L*k_2) - 1))"
      ]
     },
     "execution_count": 281,
     "metadata": {},
     "output_type": "execute_result"
    }
   ],
   "source": [
    "full_constant_solutions[ B ]"
   ]
  },
  {
   "cell_type": "code",
   "execution_count": 282,
   "id": "28e6535a-f454-46eb-b852-04429de72ee3",
   "metadata": {},
   "outputs": [
    {
     "data": {
      "text/latex": [
       "$\\displaystyle \\frac{i k_{2} \\left(k_{1} - i k_{2}\\right) e^{L \\left(k_{1} + i k_{2}\\right)}}{k_{1} \\left(e^{2 i L k_{2}} - 1\\right)}$"
      ],
      "text/plain": [
       "I*k_2*(k_1 - I*k_2)*exp(L*(k_1 + I*k_2))/(k_1*(exp(2*I*L*k_2) - 1))"
      ]
     },
     "execution_count": 282,
     "metadata": {},
     "output_type": "execute_result"
    }
   ],
   "source": [
    "full_constant_solutions[ C ]"
   ]
  },
  {
   "cell_type": "code",
   "execution_count": 283,
   "id": "f451b7ae-229d-407e-894e-4f2027a2f64f",
   "metadata": {},
   "outputs": [
    {
     "data": {
      "text/latex": [
       "$\\displaystyle \\frac{i k_{2} \\left(k_{1} + i k_{2}\\right) e^{- L \\left(k_{1} - i k_{2}\\right)}}{k_{1} \\left(e^{2 i L k_{2}} - 1\\right)}$"
      ],
      "text/plain": [
       "I*k_2*(k_1 + I*k_2)*exp(-L*(k_1 - I*k_2))/(k_1*(exp(2*I*L*k_2) - 1))"
      ]
     },
     "execution_count": 283,
     "metadata": {},
     "output_type": "execute_result"
    }
   ],
   "source": [
    "full_constant_solutions[ D ]"
   ]
  },
  {
   "cell_type": "code",
   "execution_count": 405,
   "id": "5c5b9ccf-ec5b-4d7a-a9ee-6798b66ebf99",
   "metadata": {},
   "outputs": [],
   "source": [
    "q = psi_region[ 0 ].last_step().subs( full_constant_solutions ).simplify().rhs.cancel().cancel().refine().collect( k_2 ).collect( k_1 ).collect( k_0 )"
   ]
  },
  {
   "cell_type": "code",
   "execution_count": 406,
   "id": "01d6379b-d5b1-4cb5-af42-9b9f03ad4d6a",
   "metadata": {},
   "outputs": [
    {
     "data": {
      "text/latex": [
       "$\\displaystyle \\frac{k_{2}^{2} \\left(k_{0} \\left(e^{2 L k_{1}} e^{i L k_{2}} e^{2 i k_{0} x} + e^{2 L k_{1}} e^{i L k_{2}} - e^{i L k_{2}} e^{2 i k_{0} x} - e^{i L k_{2}}\\right) + k_{1} \\left(i e^{2 L k_{1}} e^{i L k_{2}} e^{2 i k_{0} x} - i e^{2 L k_{1}} e^{i L k_{2}} + i e^{i L k_{2}} e^{2 i k_{0} x} - i e^{i L k_{2}}\\right)\\right) + k_{2} \\left(k_{0} k_{1} \\left(i e^{2 L k_{1}} e^{i L k_{2}} e^{2 i k_{0} x} + i e^{2 L k_{1}} e^{i L k_{2}} + i e^{i L k_{2}} e^{2 i k_{0} x} + i e^{i L k_{2}}\\right) + k_{1}^{2} \\left(- e^{2 L k_{1}} e^{i L k_{2}} e^{2 i k_{0} x} + e^{2 L k_{1}} e^{i L k_{2}} + e^{i L k_{2}} e^{2 i k_{0} x} - e^{i L k_{2}}\\right)\\right)}{k_{0} k_{1} \\left(2 e^{L k_{1}} e^{2 i L k_{2}} e^{i k_{0} x} - 2 e^{L k_{1}} e^{i k_{0} x}\\right)}$"
      ],
      "text/plain": [
       "(k_2**2*(k_0*(exp(2*L*k_1)*exp(I*L*k_2)*exp(2*I*k_0*x) + exp(2*L*k_1)*exp(I*L*k_2) - exp(I*L*k_2)*exp(2*I*k_0*x) - exp(I*L*k_2)) + k_1*(I*exp(2*L*k_1)*exp(I*L*k_2)*exp(2*I*k_0*x) - I*exp(2*L*k_1)*exp(I*L*k_2) + I*exp(I*L*k_2)*exp(2*I*k_0*x) - I*exp(I*L*k_2))) + k_2*(k_0*k_1*(I*exp(2*L*k_1)*exp(I*L*k_2)*exp(2*I*k_0*x) + I*exp(2*L*k_1)*exp(I*L*k_2) + I*exp(I*L*k_2)*exp(2*I*k_0*x) + I*exp(I*L*k_2)) + k_1**2*(-exp(2*L*k_1)*exp(I*L*k_2)*exp(2*I*k_0*x) + exp(2*L*k_1)*exp(I*L*k_2) + exp(I*L*k_2)*exp(2*I*k_0*x) - exp(I*L*k_2))))/(k_0*k_1*(2*exp(L*k_1)*exp(2*I*L*k_2)*exp(I*k_0*x) - 2*exp(L*k_1)*exp(I*k_0*x)))"
      ]
     },
     "execution_count": 406,
     "metadata": {},
     "output_type": "execute_result"
    }
   ],
   "source": [
    "q"
   ]
  },
  {
   "cell_type": "code",
   "execution_count": 407,
   "id": "6b0e8d4c-4529-4fcc-b46a-abaa537698d8",
   "metadata": {},
   "outputs": [],
   "source": [
    "qq = ( q.as_numer_denom()[ 1 ].as_ordered_factors()[ 2 ] / 2 ).as_two_terms()"
   ]
  },
  {
   "cell_type": "code",
   "execution_count": 408,
   "id": "c0edeadd-a7b2-461a-b061-e81c757f05ed",
   "metadata": {},
   "outputs": [],
   "source": [
    "factors_qq = ( q.as_numer_denom()[ 0 ].as_ordered_terms()[ 0 ] / ( k_2 ** 2 ) ).as_ordered_terms()[ 0 ].as_ordered_factors()[ 1 ]"
   ]
  },
  {
   "cell_type": "code",
   "execution_count": 409,
   "id": "a8f23315-8ba1-4da3-9caf-aa7cbf4324bf",
   "metadata": {},
   "outputs": [
    {
     "data": {
      "text/latex": [
       "$\\displaystyle e^{2 L k_{1}} e^{i L k_{2}} e^{2 i k_{0} x} + e^{2 L k_{1}} e^{i L k_{2}} - e^{i L k_{2}} e^{2 i k_{0} x} - e^{i L k_{2}}$"
      ],
      "text/plain": [
       "exp(2*L*k_1)*exp(I*L*k_2)*exp(2*I*k_0*x) + exp(2*L*k_1)*exp(I*L*k_2) - exp(I*L*k_2)*exp(2*I*k_0*x) - exp(I*L*k_2)"
      ]
     },
     "execution_count": 409,
     "metadata": {},
     "output_type": "execute_result"
    }
   ],
   "source": [
    "factors_qq"
   ]
  },
  {
   "cell_type": "code",
   "execution_count": 521,
   "id": "19008368-4a0a-43b7-99d0-9d38443c56e4",
   "metadata": {},
   "outputs": [],
   "source": [
    "to_replace = [ i[ 0 ] for i in factors_qq.as_terms()[ 0 ] ]"
   ]
  },
  {
   "cell_type": "code",
   "execution_count": 522,
   "id": "4082cf84-40b3-4f2e-8c79-681b3170a1af",
   "metadata": {},
   "outputs": [
    {
     "data": {
      "text/plain": [
       "[-exp(I*L*k_2),\n",
       " exp(2*L*k_1)*exp(I*L*k_2),\n",
       " -exp(I*L*k_2)*exp(2*I*k_0*x),\n",
       " exp(2*L*k_1)*exp(I*L*k_2)*exp(2*I*k_0*x)]"
      ]
     },
     "execution_count": 522,
     "metadata": {},
     "output_type": "execute_result"
    }
   ],
   "source": [
    "to_replace"
   ]
  },
  {
   "cell_type": "code",
   "execution_count": 523,
   "id": "9befae24-ed48-48b4-8628-1a0377a780fa",
   "metadata": {},
   "outputs": [],
   "source": [
    "sub_table = { to_replace[ i ] : sp.Symbol( \"M_\" + str( i ) ) for i in range( len( to_replace ) ) }"
   ]
  },
  {
   "cell_type": "code",
   "execution_count": 524,
   "id": "0737f6a6-9649-4eca-a32d-4df87147130c",
   "metadata": {},
   "outputs": [
    {
     "data": {
      "text/plain": [
       "{-exp(I*L*k_2): M_0,\n",
       " exp(2*L*k_1)*exp(I*L*k_2): M_1,\n",
       " -exp(I*L*k_2)*exp(2*I*k_0*x): M_2,\n",
       " exp(2*L*k_1)*exp(I*L*k_2)*exp(2*I*k_0*x): M_3}"
      ]
     },
     "execution_count": 524,
     "metadata": {},
     "output_type": "execute_result"
    }
   ],
   "source": [
    "sub_table"
   ]
  },
  {
   "cell_type": "code",
   "execution_count": 525,
   "id": "dda1c63d-bb3d-4393-811a-14da57f8d4e4",
   "metadata": {},
   "outputs": [],
   "source": [
    "sub_table_invert = { -key : -sub_table[ key ] for key in sub_table }"
   ]
  },
  {
   "cell_type": "code",
   "execution_count": 526,
   "id": "bac5c77a-1212-441e-86d0-a6ccf92fc1af",
   "metadata": {},
   "outputs": [
    {
     "data": {
      "text/plain": [
       "{exp(I*L*k_2): -M_0,\n",
       " -exp(2*L*k_1)*exp(I*L*k_2): -M_1,\n",
       " exp(I*L*k_2)*exp(2*I*k_0*x): -M_2,\n",
       " -exp(2*L*k_1)*exp(I*L*k_2)*exp(2*I*k_0*x): -M_3}"
      ]
     },
     "execution_count": 526,
     "metadata": {},
     "output_type": "execute_result"
    }
   ],
   "source": [
    "sub_table_invert"
   ]
  },
  {
   "cell_type": "code",
   "execution_count": null,
   "id": "47fe72f5-a612-46f8-8a43-3a8bae694d33",
   "metadata": {},
   "outputs": [],
   "source": []
  },
  {
   "cell_type": "code",
   "execution_count": 527,
   "id": "81ae977c-6a70-419f-b2d3-438bb4ca0c1f",
   "metadata": {},
   "outputs": [],
   "source": [
    "sub_table_i = { -sp.I * key : -sp.I * sub_table[ key ] for key in sub_table }"
   ]
  },
  {
   "cell_type": "code",
   "execution_count": 528,
   "id": "a602d551-e92f-47c6-9aab-73756278ff75",
   "metadata": {},
   "outputs": [
    {
     "data": {
      "text/plain": [
       "{I*exp(I*L*k_2): -I*M_0,\n",
       " -I*exp(2*L*k_1)*exp(I*L*k_2): -I*M_1,\n",
       " I*exp(I*L*k_2)*exp(2*I*k_0*x): -I*M_2,\n",
       " -I*exp(2*L*k_1)*exp(I*L*k_2)*exp(2*I*k_0*x): -I*M_3}"
      ]
     },
     "execution_count": 528,
     "metadata": {},
     "output_type": "execute_result"
    }
   ],
   "source": [
    "sub_table_i"
   ]
  },
  {
   "cell_type": "code",
   "execution_count": 529,
   "id": "ec2d3a25-e4ca-451f-a5ab-88277c63f069",
   "metadata": {},
   "outputs": [],
   "source": [
    "e_ik_0x = psi_region[ 0 ].last_step().rhs.as_ordered_terms()[ 1 ].as_ordered_terms()[ 0 ].as_two_terms()[ 1 ]"
   ]
  },
  {
   "cell_type": "code",
   "execution_count": 530,
   "id": "d0e82c77-2536-48c5-8b65-d6015c375c20",
   "metadata": {},
   "outputs": [
    {
     "data": {
      "text/latex": [
       "$\\displaystyle e^{i k_{0} x}$"
      ],
      "text/plain": [
       "exp(I*k_0*x)"
      ]
     },
     "execution_count": 530,
     "metadata": {},
     "output_type": "execute_result"
    }
   ],
   "source": [
    "e_ik_0x"
   ]
  },
  {
   "cell_type": "code",
   "execution_count": 531,
   "id": "b16d7deb-d737-4859-87e3-f77e0da1004f",
   "metadata": {},
   "outputs": [],
   "source": [
    "sub_table_e_ik_0x = { key * e_ik_0x : e_ik_0x * sub_table[ key ]  for key in sub_table }"
   ]
  },
  {
   "cell_type": "code",
   "execution_count": 532,
   "id": "f0613890-9d43-435f-8b47-b855b4e4ce39",
   "metadata": {},
   "outputs": [
    {
     "data": {
      "text/plain": [
       "{-exp(I*L*k_2)*exp(I*k_0*x): M_0*exp(I*k_0*x),\n",
       " exp(2*L*k_1)*exp(I*L*k_2)*exp(I*k_0*x): M_1*exp(I*k_0*x),\n",
       " -exp(I*L*k_2)*exp(3*I*k_0*x): M_2*exp(I*k_0*x),\n",
       " exp(2*L*k_1)*exp(I*L*k_2)*exp(3*I*k_0*x): M_3*exp(I*k_0*x)}"
      ]
     },
     "execution_count": 532,
     "metadata": {},
     "output_type": "execute_result"
    }
   ],
   "source": [
    "sub_table_e_ik_0x"
   ]
  },
  {
   "cell_type": "code",
   "execution_count": null,
   "id": "dca563d3-15cf-4494-ba3c-9ad18cce4d02",
   "metadata": {},
   "outputs": [],
   "source": []
  },
  {
   "cell_type": "code",
   "execution_count": 533,
   "id": "5fec50e3-d628-4ee8-a0e8-dbde84c4f615",
   "metadata": {},
   "outputs": [],
   "source": [
    "e_iLk_1 = e_ik_0x.subs( { k_0 : k_1, x : TunnelPotential.DEFAULT_WELL_LENGTH  } )"
   ]
  },
  {
   "cell_type": "code",
   "execution_count": 534,
   "id": "8c78980c-7bcf-4bc0-8a49-508d14be099e",
   "metadata": {},
   "outputs": [],
   "source": [
    "e_Lk_1 = e_iLk_1.subs( { sp.I : 1 } )"
   ]
  },
  {
   "cell_type": "code",
   "execution_count": null,
   "id": "e22fde82-3cf3-4c3e-97c5-bef11dbeb73c",
   "metadata": {},
   "outputs": [],
   "source": []
  },
  {
   "cell_type": "code",
   "execution_count": 535,
   "id": "557f22d8-46a1-4608-8370-4972caee3c86",
   "metadata": {},
   "outputs": [],
   "source": [
    "e_Lk_2 = e_Lk_1.subs( { k_1 : k_2 } )"
   ]
  },
  {
   "cell_type": "code",
   "execution_count": 536,
   "id": "b59f4cbf-fc1d-444a-a03d-9444c20971b7",
   "metadata": {},
   "outputs": [],
   "source": [
    "e_2iLk_1 = e_iLk_1.subs( { k_1 : k_2 } )"
   ]
  },
  {
   "cell_type": "code",
   "execution_count": null,
   "id": "693ed82d-c4b9-477d-a794-673c0c32284a",
   "metadata": {},
   "outputs": [],
   "source": []
  },
  {
   "cell_type": "code",
   "execution_count": 537,
   "id": "a9e136a7-7e4a-4da4-b9b1-5bc624284e25",
   "metadata": {},
   "outputs": [],
   "source": [
    "full_sub_table = { \n",
    "    **sub_table, \n",
    "    **sub_table_invert, \n",
    "    **sub_table_i, \n",
    "    **sub_table_e_ik_0x, \n",
    "    e_ik_0x : sp.Symbol( \"M_3\" ), \n",
    "    e_iLk_1 : sp.Symbol( \"M_4\" ), \n",
    "    e_Lk_1 : sp.Symbol( \"M_5\" ), \n",
    "    e_Lk_2 : sp.Symbol( \"M_6\" ), \n",
    "    e_2iLk_1 : sp.Symbol( \"M_7\" )\n",
    "}"
   ]
  },
  {
   "cell_type": "code",
   "execution_count": 538,
   "id": "fac2df11-523d-4276-8ba1-4570dcf04037",
   "metadata": {},
   "outputs": [
    {
     "data": {
      "text/plain": [
       "{-exp(I*L*k_2): M_0,\n",
       " exp(2*L*k_1)*exp(I*L*k_2): M_1,\n",
       " -exp(I*L*k_2)*exp(2*I*k_0*x): M_2,\n",
       " exp(2*L*k_1)*exp(I*L*k_2)*exp(2*I*k_0*x): M_3,\n",
       " exp(I*L*k_2): M_7,\n",
       " -exp(2*L*k_1)*exp(I*L*k_2): -M_1,\n",
       " exp(I*L*k_2)*exp(2*I*k_0*x): -M_2,\n",
       " -exp(2*L*k_1)*exp(I*L*k_2)*exp(2*I*k_0*x): -M_3,\n",
       " I*exp(I*L*k_2): -I*M_0,\n",
       " -I*exp(2*L*k_1)*exp(I*L*k_2): -I*M_1,\n",
       " I*exp(I*L*k_2)*exp(2*I*k_0*x): -I*M_2,\n",
       " -I*exp(2*L*k_1)*exp(I*L*k_2)*exp(2*I*k_0*x): -I*M_3,\n",
       " -exp(I*L*k_2)*exp(I*k_0*x): M_0*exp(I*k_0*x),\n",
       " exp(2*L*k_1)*exp(I*L*k_2)*exp(I*k_0*x): M_1*exp(I*k_0*x),\n",
       " -exp(I*L*k_2)*exp(3*I*k_0*x): M_2*exp(I*k_0*x),\n",
       " exp(2*L*k_1)*exp(I*L*k_2)*exp(3*I*k_0*x): M_3*exp(I*k_0*x),\n",
       " exp(I*k_0*x): M_3,\n",
       " exp(I*L*k_1): M_4,\n",
       " exp(L*k_1): M_5,\n",
       " exp(L*k_2): M_6}"
      ]
     },
     "execution_count": 538,
     "metadata": {},
     "output_type": "execute_result"
    }
   ],
   "source": [
    "full_sub_table"
   ]
  },
  {
   "cell_type": "code",
   "execution_count": null,
   "id": "d618ed88-2abc-4e78-8f1b-374548fbf321",
   "metadata": {},
   "outputs": [],
   "source": []
  },
  {
   "cell_type": "code",
   "execution_count": null,
   "id": "10651f6e-8616-4618-a9ce-16c921a94125",
   "metadata": {},
   "outputs": [],
   "source": []
  },
  {
   "cell_type": "code",
   "execution_count": 539,
   "id": "a5cc52da-4be6-4ba7-91cf-9da80505958f",
   "metadata": {},
   "outputs": [],
   "source": [
    "#qqq = q.subs( sub_table ) \\\n",
    "#        .subs( sub_table_invert ) \\\n",
    "#        .subs( sub_table_i ) \\\n",
    "#        .subs( sub_table_e_ik_0x ) \\\n",
    "#        .subs( { e_ik_0x : sp.Symbol( \"M_3\" ) } ) \\\n",
    "#        .subs( { e_iLk_1 : sp.Symbol( \"M_4\" ) } ) \\\n",
    "#        .subs( { e_Lk_1 : sp.Symbol( \"M_5\" ) } ) \\\n",
    "#        .subs( { e_Lk_2 : sp.Symbol( \"M_6\" ) } ) \\\n",
    "#        .subs( { e_2iLk_1 : sp.Symbol( \"M_7\" ) } )\n",
    "qqq = q.subs( full_sub_table )"
   ]
  },
  {
   "cell_type": "code",
   "execution_count": 540,
   "id": "9db9d15c-37f4-4161-8af4-f45075e5501f",
   "metadata": {},
   "outputs": [
    {
     "data": {
      "text/latex": [
       "$\\displaystyle \\frac{k_{2}^{2} \\left(k_{0} \\left(M_{0} + M_{1} + M_{2} + M_{3}\\right) + k_{1} \\left(i M_{0} - i M_{1} - i M_{2} + i M_{3}\\right)\\right) + k_{2} \\left(k_{0} k_{1} \\left(- i M_{0} + i M_{1} - i M_{2} + i M_{3}\\right) + k_{1}^{2} \\left(M_{0} + M_{1} - M_{2} - M_{3}\\right)\\right)}{k_{0} k_{1} \\left(2 M_{3} M_{5} M_{7}^{2} - 2 M_{3} M_{5}\\right)}$"
      ],
      "text/plain": [
       "(k_2**2*(k_0*(M_0 + M_1 + M_2 + M_3) + k_1*(I*M_0 - I*M_1 - I*M_2 + I*M_3)) + k_2*(k_0*k_1*(-I*M_0 + I*M_1 - I*M_2 + I*M_3) + k_1**2*(M_0 + M_1 - M_2 - M_3)))/(k_0*k_1*(2*M_3*M_5*M_7**2 - 2*M_3*M_5))"
      ]
     },
     "execution_count": 540,
     "metadata": {},
     "output_type": "execute_result"
    }
   ],
   "source": [
    "qqq"
   ]
  },
  {
   "cell_type": "code",
   "execution_count": 541,
   "id": "6db49acf-d569-443b-8b09-7a3e8586838b",
   "metadata": {},
   "outputs": [],
   "source": [
    "qqqq = [ qqq.simplify().collect( \"M_\" + str( i ) ) for i in range( 0, 7 ) ][ -1 ]"
   ]
  },
  {
   "cell_type": "code",
   "execution_count": 543,
   "id": "87e1fca0-e062-4303-b6bf-1812e70fcc58",
   "metadata": {},
   "outputs": [
    {
     "data": {
      "text/latex": [
       "$\\displaystyle \\frac{k_{2} \\left(- k_{0} \\left(i k_{1} \\left(M_{0} - M_{1} + M_{2} - M_{3}\\right) - k_{2} \\left(M_{0} + M_{1} + M_{2} + M_{3}\\right)\\right) + k_{1}^{2} \\left(M_{0} + M_{1} - M_{2} - M_{3}\\right) + i k_{1} k_{2} \\left(M_{0} - M_{1} - M_{2} + M_{3}\\right)\\right)}{2 M_{3} M_{5} k_{0} k_{1} \\left(M_{7}^{2} - 1\\right)}$"
      ],
      "text/plain": [
       "k_2*(-k_0*(I*k_1*(M_0 - M_1 + M_2 - M_3) - k_2*(M_0 + M_1 + M_2 + M_3)) + k_1**2*(M_0 + M_1 - M_2 - M_3) + I*k_1*k_2*(M_0 - M_1 - M_2 + M_3))/(2*M_3*M_5*k_0*k_1*(M_7**2 - 1))"
      ]
     },
     "execution_count": 543,
     "metadata": {},
     "output_type": "execute_result"
    }
   ],
   "source": [
    "qqqq.collect( k_2 ).collect( k_1 ).collect( k_0 ).cancel().collect( k_0 ).collect( k_1 ).collect( k_2 ).simplify().refine()"
   ]
  },
  {
   "cell_type": "code",
   "execution_count": 554,
   "id": "90ff17b8-9fff-4e05-9927-0fdac429494e",
   "metadata": {},
   "outputs": [],
   "source": [
    "inverse_sub_table = { full_sub_table[ key ] : key for key in full_sub_table }"
   ]
  },
  {
   "cell_type": "code",
   "execution_count": 568,
   "id": "81054f73-4f75-4f62-b1f9-e63df98c630d",
   "metadata": {},
   "outputs": [],
   "source": [
    "qqqq_ = qqqq.subs( inverse_sub_table )"
   ]
  },
  {
   "cell_type": "code",
   "execution_count": 569,
   "id": "8c16c7c0-8604-44af-a883-586c3a6d4006",
   "metadata": {},
   "outputs": [
    {
     "data": {
      "text/latex": [
       "$\\displaystyle \\frac{k_{2} \\left(- k_{1} \\left(i k_{0} \\left(- e^{2 L k_{1}} e^{i L k_{2}} e^{2 i k_{0} x} - e^{2 L k_{1}} e^{i L k_{2}} - e^{i L k_{2}} e^{2 i k_{0} x} - e^{i L k_{2}}\\right) + k_{1} \\left(e^{2 L k_{1}} e^{i L k_{2}} e^{2 i k_{0} x} - e^{2 L k_{1}} e^{i L k_{2}} - e^{i L k_{2}} e^{2 i k_{0} x} + e^{i L k_{2}}\\right)\\right) + k_{2} \\left(k_{0} \\left(e^{2 L k_{1}} e^{i L k_{2}} - e^{i L k_{2}} e^{2 i k_{0} x} - e^{i L k_{2}} + e^{i k_{0} x}\\right) + i k_{1} \\left(- e^{2 L k_{1}} e^{i L k_{2}} + e^{i L k_{2}} e^{2 i k_{0} x} - e^{i L k_{2}} + e^{i k_{0} x}\\right)\\right)\\right) e^{- L k_{1}} e^{- i k_{0} x}}{2 k_{0} k_{1} \\left(e^{2 i L k_{2}} - 1\\right)}$"
      ],
      "text/plain": [
       "k_2*(-k_1*(I*k_0*(-exp(2*L*k_1)*exp(I*L*k_2)*exp(2*I*k_0*x) - exp(2*L*k_1)*exp(I*L*k_2) - exp(I*L*k_2)*exp(2*I*k_0*x) - exp(I*L*k_2)) + k_1*(exp(2*L*k_1)*exp(I*L*k_2)*exp(2*I*k_0*x) - exp(2*L*k_1)*exp(I*L*k_2) - exp(I*L*k_2)*exp(2*I*k_0*x) + exp(I*L*k_2))) + k_2*(k_0*(exp(2*L*k_1)*exp(I*L*k_2) - exp(I*L*k_2)*exp(2*I*k_0*x) - exp(I*L*k_2) + exp(I*k_0*x)) + I*k_1*(-exp(2*L*k_1)*exp(I*L*k_2) + exp(I*L*k_2)*exp(2*I*k_0*x) - exp(I*L*k_2) + exp(I*k_0*x))))*exp(-L*k_1)*exp(-I*k_0*x)/(2*k_0*k_1*(exp(2*I*L*k_2) - 1))"
      ]
     },
     "execution_count": 569,
     "metadata": {},
     "output_type": "execute_result"
    }
   ],
   "source": [
    "qqqq_"
   ]
  },
  {
   "cell_type": "code",
   "execution_count": 573,
   "id": "b08ecfd5-378a-4e77-9beb-8123fee87e84",
   "metadata": {},
   "outputs": [],
   "source": [
    "psi_0 = sp.lambdify( x, qqqq_, 'numpy' )"
   ]
  },
  {
   "cell_type": "code",
   "execution_count": 563,
   "id": "33e98fac-f95d-4b45-9665-8c015a96d180",
   "metadata": {},
   "outputs": [],
   "source": [
    "from sympy.plotting import plot"
   ]
  },
  {
   "cell_type": "code",
   "execution_count": 580,
   "id": "511ab63b-41cf-4462-935a-0994b56700b2",
   "metadata": {},
   "outputs": [],
   "source": [
    "from matplotlib import pyplot as plt"
   ]
  },
  {
   "cell_type": "code",
   "execution_count": null,
   "id": "2223bc07-29f3-4117-850c-734ab188a1b3",
   "metadata": {},
   "outputs": [],
   "source": [
    "#x_axis = np.linspace( -1, 0 )\n",
    "plt.plot( x_axis, psi_0( x_axis ) )"
   ]
  },
  {
   "cell_type": "code",
   "execution_count": 593,
   "id": "e03f2a39-2ffa-412f-ae43-d615467554b2",
   "metadata": {},
   "outputs": [
    {
     "data": {
      "text/latex": [
       "$\\displaystyle \\frac{k_{2} \\left(- k_{1} \\left(i k_{0} \\left(\\left(- e^{2 L k_{1}} e^{i L k_{2}} - e^{i L k_{2}}\\right) e^{2 i k_{0} x} - e^{2 L k_{1}} e^{i L k_{2}} - e^{i L k_{2}}\\right) + k_{1} \\left(\\left(e^{2 L k_{1}} e^{i L k_{2}} - e^{i L k_{2}}\\right) e^{2 i k_{0} x} - e^{2 L k_{1}} e^{i L k_{2}} + e^{i L k_{2}}\\right)\\right) + k_{2} \\left(k_{0} \\left(e^{2 L k_{1}} e^{i L k_{2}} - e^{i L k_{2}} e^{2 i k_{0} x} - e^{i L k_{2}} + e^{i k_{0} x}\\right) + i k_{1} \\left(- e^{2 L k_{1}} e^{i L k_{2}} + e^{i L k_{2}} e^{2 i k_{0} x} - e^{i L k_{2}} + e^{i k_{0} x}\\right)\\right)\\right) e^{- L k_{1}} e^{- i k_{0} x}}{2 k_{0} k_{1} \\left(e^{2 i L k_{2}} - 1\\right)}$"
      ],
      "text/plain": [
       "k_2*(-k_1*(I*k_0*((-exp(2*L*k_1)*exp(I*L*k_2) - exp(I*L*k_2))*exp(2*I*k_0*x) - exp(2*L*k_1)*exp(I*L*k_2) - exp(I*L*k_2)) + k_1*((exp(2*L*k_1)*exp(I*L*k_2) - exp(I*L*k_2))*exp(2*I*k_0*x) - exp(2*L*k_1)*exp(I*L*k_2) + exp(I*L*k_2))) + k_2*(k_0*(exp(2*L*k_1)*exp(I*L*k_2) - exp(I*L*k_2)*exp(2*I*k_0*x) - exp(I*L*k_2) + exp(I*k_0*x)) + I*k_1*(-exp(2*L*k_1)*exp(I*L*k_2) + exp(I*L*k_2)*exp(2*I*k_0*x) - exp(I*L*k_2) + exp(I*k_0*x))))*exp(-L*k_1)*exp(-I*k_0*x)/(2*k_0*k_1*(exp(2*I*L*k_2) - 1))"
      ]
     },
     "execution_count": 593,
     "metadata": {},
     "output_type": "execute_result"
    }
   ],
   "source": [
    "qqqq_.collect( e_ik_0x ).collect( e_ik_0x )"
   ]
  },
  {
   "cell_type": "code",
   "execution_count": 601,
   "id": "414aa62f-a207-4d49-a28f-c24678df0fe0",
   "metadata": {},
   "outputs": [],
   "source": [
    "k_0_eqn = sp.Eq( k_0, sp.sqrt( k_squared.subs( { k : k_0 } ).rhs ) )"
   ]
  },
  {
   "cell_type": "code",
   "execution_count": 602,
   "id": "24b95c67-0a77-4025-ba73-4eee5e13d2e6",
   "metadata": {},
   "outputs": [
    {
     "data": {
      "text/latex": [
       "$\\displaystyle k_{0} = \\frac{\\sqrt{2} \\sqrt{E} \\sqrt{\\text{m}}}{\\hbar}$"
      ],
      "text/plain": [
       "Eq(k_0, sqrt(2)*sqrt(m)*sqrt(E)/hbar)"
      ]
     },
     "execution_count": 602,
     "metadata": {},
     "output_type": "execute_result"
    }
   ],
   "source": [
    "k_0_eqn"
   ]
  },
  {
   "cell_type": "code",
   "execution_count": 603,
   "id": "7f523c9d-eecc-4ab3-ad66-24b1354f5a95",
   "metadata": {},
   "outputs": [],
   "source": [
    "k_2_eqn = sp.Eq( k_2, sp.sqrt( k_squared.subs( { k : k_2 } ).rhs ) )"
   ]
  },
  {
   "cell_type": "code",
   "execution_count": 604,
   "id": "553d7691-eb5f-408f-babc-34f9142e1a44",
   "metadata": {},
   "outputs": [
    {
     "data": {
      "text/latex": [
       "$\\displaystyle k_{2} = \\frac{\\sqrt{2} \\sqrt{E} \\sqrt{\\text{m}}}{\\hbar}$"
      ],
      "text/plain": [
       "Eq(k_2, sqrt(2)*sqrt(m)*sqrt(E)/hbar)"
      ]
     },
     "execution_count": 604,
     "metadata": {},
     "output_type": "execute_result"
    }
   ],
   "source": [
    "k_2_eqn"
   ]
  },
  {
   "cell_type": "code",
   "execution_count": 610,
   "id": "5b3b0b90-6abc-4403-b20f-c516198761f0",
   "metadata": {},
   "outputs": [],
   "source": [
    "k_1_eqn = sp.Eq( k_1, sp.sqrt( k_1_squared.rhs ) )"
   ]
  },
  {
   "cell_type": "code",
   "execution_count": 611,
   "id": "68e977fe-4ceb-44a5-a2c0-bab292a0121d",
   "metadata": {},
   "outputs": [
    {
     "data": {
      "text/latex": [
       "$\\displaystyle k_{1} = \\frac{\\sqrt{2} \\sqrt{- E + V_{0}} \\sqrt{\\text{m}}}{\\hbar}$"
      ],
      "text/plain": [
       "Eq(k_1, sqrt(2)*sqrt(m)*sqrt(-E + V_0)/hbar)"
      ]
     },
     "execution_count": 611,
     "metadata": {},
     "output_type": "execute_result"
    }
   ],
   "source": [
    "k_1_eqn"
   ]
  },
  {
   "cell_type": "code",
   "execution_count": 620,
   "id": "a6a8adec-be10-483c-9df7-22c1b329ed8a",
   "metadata": {},
   "outputs": [],
   "source": [
    "#k_1_eqn.lhs : k_1_eqn.rhs,\n",
    "qq_qq = qqqq_.subs( { k_0_eqn.lhs : k_0_eqn.rhs,  k_2_eqn.lhs : k_2_eqn.rhs } ).simplify().refine().trigsimp().subs( { k_1_eqn.lhs : k_1_eqn.rhs } ).simplify().refine().trigsimp()"
   ]
  },
  {
   "cell_type": "code",
   "execution_count": 621,
   "id": "eb95c5ee-7d46-4030-8ac3-7e9344190eee",
   "metadata": {},
   "outputs": [
    {
     "data": {
      "text/latex": [
       "$\\displaystyle \\frac{\\sqrt{2} \\left(i \\sqrt{E} \\sqrt{- E + V_{0}} e^{\\frac{\\sqrt{2} \\left(i \\sqrt{E} L + 2 i \\sqrt{E} x + 2 L \\sqrt{- E + V_{0}}\\right) \\sqrt{\\text{m}}}{\\hbar}} + i \\sqrt{E} \\sqrt{- E + V_{0}} e^{\\frac{\\sqrt{2} i \\sqrt{E} x \\sqrt{\\text{m}}}{\\hbar}} + 2 i \\sqrt{E} \\sqrt{- E + V_{0}} e^{\\frac{\\sqrt{2} i \\sqrt{E} \\left(L + 2 x\\right) \\sqrt{\\text{m}}}{\\hbar}} + E e^{\\frac{\\sqrt{2} L \\left(i \\sqrt{E} + 2 \\sqrt{- E + V_{0}}\\right) \\sqrt{\\text{m}}}{\\hbar}} - E e^{\\frac{\\sqrt{2} i \\sqrt{E} L \\sqrt{\\text{m}}}{\\hbar}} + E e^{\\frac{\\sqrt{2} i \\sqrt{E} x \\sqrt{\\text{m}}}{\\hbar}} - E e^{\\frac{\\sqrt{2} i \\sqrt{E} \\left(L + 2 x\\right) \\sqrt{\\text{m}}}{\\hbar}} + \\left(E - V_{0}\\right) e^{\\frac{\\sqrt{2} \\left(i \\sqrt{E} L + 2 i \\sqrt{E} x + 2 L \\sqrt{- E + V_{0}}\\right) \\sqrt{\\text{m}}}{\\hbar}} - \\left(E - V_{0}\\right) e^{\\frac{\\sqrt{2} L \\left(i \\sqrt{E} + 2 \\sqrt{- E + V_{0}}\\right) \\sqrt{\\text{m}}}{\\hbar}} + \\left(E - V_{0}\\right) e^{\\frac{\\sqrt{2} i \\sqrt{E} L \\sqrt{\\text{m}}}{\\hbar}} - \\left(E - V_{0}\\right) e^{\\frac{\\sqrt{2} i \\sqrt{E} \\left(L + 2 x\\right) \\sqrt{\\text{m}}}{\\hbar}}\\right) e^{- \\frac{\\sqrt{2} \\left(i \\sqrt{E} x + L \\sqrt{- E + V_{0}}\\right) \\sqrt{\\text{m}}}{\\hbar}} \\sqrt{\\text{m}}}{2 \\hbar \\sqrt{- E + V_{0}} \\left(e^{\\frac{2 \\sqrt{2} i \\sqrt{E} L \\sqrt{\\text{m}}}{\\hbar}} - 1\\right)}$"
      ],
      "text/plain": [
       "sqrt(2)*sqrt(m)*(I*sqrt(E)*sqrt(-E + V_0)*exp(sqrt(2)*sqrt(m)*(I*sqrt(E)*L + 2*I*sqrt(E)*x + 2*L*sqrt(-E + V_0))/hbar) + I*sqrt(E)*sqrt(-E + V_0)*exp(sqrt(2)*I*sqrt(m)*sqrt(E)*x/hbar) + 2*I*sqrt(E)*sqrt(-E + V_0)*exp(sqrt(2)*I*sqrt(m)*sqrt(E)*(L + 2*x)/hbar) + E*exp(sqrt(2)*sqrt(m)*L*(I*sqrt(E) + 2*sqrt(-E + V_0))/hbar) - E*exp(sqrt(2)*I*sqrt(m)*sqrt(E)*L/hbar) + E*exp(sqrt(2)*I*sqrt(m)*sqrt(E)*x/hbar) - E*exp(sqrt(2)*I*sqrt(m)*sqrt(E)*(L + 2*x)/hbar) + (E - V_0)*exp(sqrt(2)*sqrt(m)*(I*sqrt(E)*L + 2*I*sqrt(E)*x + 2*L*sqrt(-E + V_0))/hbar) - (E - V_0)*exp(sqrt(2)*sqrt(m)*L*(I*sqrt(E) + 2*sqrt(-E + V_0))/hbar) + (E - V_0)*exp(sqrt(2)*I*sqrt(m)*sqrt(E)*L/hbar) - (E - V_0)*exp(sqrt(2)*I*sqrt(m)*sqrt(E)*(L + 2*x)/hbar))*exp(-sqrt(2)*sqrt(m)*(I*sqrt(E)*x + L*sqrt(-E + V_0))/hbar)/(2*hbar*sqrt(-E + V_0)*(exp(2*sqrt(2)*I*sqrt(m)*sqrt(E)*L/hbar) - 1))"
      ]
     },
     "execution_count": 621,
     "metadata": {},
     "output_type": "execute_result"
    }
   ],
   "source": [
    "qq_qq"
   ]
  },
  {
   "cell_type": "code",
   "execution_count": null,
   "id": "0333bb9b-dd1c-4d3c-ae85-b1d12dd995e3",
   "metadata": {},
   "outputs": [],
   "source": []
  },
  {
   "cell_type": "code",
   "execution_count": 626,
   "id": "6f7b4f18-a004-44ce-b236-6f1a9bc4eadf",
   "metadata": {},
   "outputs": [
    {
     "data": {
      "text/latex": [
       "$\\displaystyle \\frac{\\sqrt{2} \\left(i \\sqrt{E} \\sqrt{- E + V_{0}} e^{\\frac{\\sqrt{2} \\left(i \\sqrt{E} L + 2 i \\sqrt{E} x + 2 L \\sqrt{- E + V_{0}}\\right) \\sqrt{\\text{m}}}{\\hbar}} + i \\sqrt{E} \\sqrt{- E + V_{0}} e^{\\frac{\\sqrt{2} i \\sqrt{E} x \\sqrt{\\text{m}}}{\\hbar}} + 2 i \\sqrt{E} \\sqrt{- E + V_{0}} e^{\\frac{\\sqrt{2} i \\sqrt{E} \\left(L + 2 x\\right) \\sqrt{\\text{m}}}{\\hbar}} + E e^{\\frac{\\sqrt{2} L \\left(i \\sqrt{E} + 2 \\sqrt{- E + V_{0}}\\right) \\sqrt{\\text{m}}}{\\hbar}} - E e^{\\frac{\\sqrt{2} i \\sqrt{E} L \\sqrt{\\text{m}}}{\\hbar}} + E e^{\\frac{\\sqrt{2} i \\sqrt{E} x \\sqrt{\\text{m}}}{\\hbar}} - E e^{\\frac{\\sqrt{2} i \\sqrt{E} \\left(L + 2 x\\right) \\sqrt{\\text{m}}}{\\hbar}} + \\left(E - V_{0}\\right) e^{\\frac{\\sqrt{2} \\left(i \\sqrt{E} L + 2 i \\sqrt{E} x + 2 L \\sqrt{- E + V_{0}}\\right) \\sqrt{\\text{m}}}{\\hbar}} - \\left(E - V_{0}\\right) e^{\\frac{\\sqrt{2} L \\left(i \\sqrt{E} + 2 \\sqrt{- E + V_{0}}\\right) \\sqrt{\\text{m}}}{\\hbar}} + \\left(E - V_{0}\\right) e^{\\frac{\\sqrt{2} i \\sqrt{E} L \\sqrt{\\text{m}}}{\\hbar}} - \\left(E - V_{0}\\right) e^{\\frac{\\sqrt{2} i \\sqrt{E} \\left(L + 2 x\\right) \\sqrt{\\text{m}}}{\\hbar}}\\right) e^{- \\frac{\\sqrt{2} \\left(i \\sqrt{E} x + L \\sqrt{- E + V_{0}}\\right) \\sqrt{\\text{m}}}{\\hbar}} \\sqrt{\\text{m}}}{2 \\hbar \\sqrt{- E + V_{0}} \\left(e^{\\frac{2 \\sqrt{2} i \\sqrt{E} L \\sqrt{\\text{m}}}{\\hbar}} - 1\\right)}$"
      ],
      "text/plain": [
       "sqrt(2)*sqrt(m)*(I*sqrt(E)*sqrt(-E + V_0)*exp(sqrt(2)*sqrt(m)*(I*sqrt(E)*L + 2*I*sqrt(E)*x + 2*L*sqrt(-E + V_0))/hbar) + I*sqrt(E)*sqrt(-E + V_0)*exp(sqrt(2)*I*sqrt(m)*sqrt(E)*x/hbar) + 2*I*sqrt(E)*sqrt(-E + V_0)*exp(sqrt(2)*I*sqrt(m)*sqrt(E)*(L + 2*x)/hbar) + E*exp(sqrt(2)*sqrt(m)*L*(I*sqrt(E) + 2*sqrt(-E + V_0))/hbar) - E*exp(sqrt(2)*I*sqrt(m)*sqrt(E)*L/hbar) + E*exp(sqrt(2)*I*sqrt(m)*sqrt(E)*x/hbar) - E*exp(sqrt(2)*I*sqrt(m)*sqrt(E)*(L + 2*x)/hbar) + (E - V_0)*exp(sqrt(2)*sqrt(m)*(I*sqrt(E)*L + 2*I*sqrt(E)*x + 2*L*sqrt(-E + V_0))/hbar) - (E - V_0)*exp(sqrt(2)*sqrt(m)*L*(I*sqrt(E) + 2*sqrt(-E + V_0))/hbar) + (E - V_0)*exp(sqrt(2)*I*sqrt(m)*sqrt(E)*L/hbar) - (E - V_0)*exp(sqrt(2)*I*sqrt(m)*sqrt(E)*(L + 2*x)/hbar))*exp(-sqrt(2)*sqrt(m)*(I*sqrt(E)*x + L*sqrt(-E + V_0))/hbar)/(2*hbar*sqrt(-E + V_0)*(exp(2*sqrt(2)*I*sqrt(m)*sqrt(E)*L/hbar) - 1))"
      ]
     },
     "execution_count": 626,
     "metadata": {},
     "output_type": "execute_result"
    }
   ],
   "source": [
    "qq_qq.collect( k_0_eqn.rhs ).simplify()"
   ]
  },
  {
   "cell_type": "code",
   "execution_count": 630,
   "id": "c23679da-a0c9-49c8-9fee-fc02bbc2c1c2",
   "metadata": {},
   "outputs": [],
   "source": [
    "q2 = qqqq_.simplify().cancel().subs( { k_0_eqn.lhs : k_0_eqn.rhs,  k_2_eqn.lhs : k_2_eqn.rhs } ).simplify().refine().trigsimp().subs( { k_1_eqn.lhs : k_1_eqn.rhs } ).simplify().refine().trigsimp()"
   ]
  },
  {
   "cell_type": "code",
   "execution_count": 631,
   "id": "d3495616-6ee9-4500-92b3-bbe6737e788f",
   "metadata": {},
   "outputs": [
    {
     "data": {
      "text/latex": [
       "$\\displaystyle \\frac{\\sqrt{2} \\left(i \\sqrt{E} \\sqrt{- E + V_{0}} e^{\\frac{\\sqrt{2} \\left(i \\sqrt{E} L + 2 i \\sqrt{E} x + 2 L \\sqrt{- E + V_{0}}\\right) \\sqrt{\\text{m}}}{\\hbar}} + i \\sqrt{E} \\sqrt{- E + V_{0}} e^{\\frac{\\sqrt{2} i \\sqrt{E} x \\sqrt{\\text{m}}}{\\hbar}} + 2 i \\sqrt{E} \\sqrt{- E + V_{0}} e^{\\frac{\\sqrt{2} i \\sqrt{E} \\left(L + 2 x\\right) \\sqrt{\\text{m}}}{\\hbar}} + E e^{\\frac{\\sqrt{2} L \\left(i \\sqrt{E} + 2 \\sqrt{- E + V_{0}}\\right) \\sqrt{\\text{m}}}{\\hbar}} - E e^{\\frac{\\sqrt{2} i \\sqrt{E} L \\sqrt{\\text{m}}}{\\hbar}} + E e^{\\frac{\\sqrt{2} i \\sqrt{E} x \\sqrt{\\text{m}}}{\\hbar}} - E e^{\\frac{\\sqrt{2} i \\sqrt{E} \\left(L + 2 x\\right) \\sqrt{\\text{m}}}{\\hbar}} + \\left(E - V_{0}\\right) e^{\\frac{\\sqrt{2} \\left(i \\sqrt{E} L + 2 i \\sqrt{E} x + 2 L \\sqrt{- E + V_{0}}\\right) \\sqrt{\\text{m}}}{\\hbar}} - \\left(E - V_{0}\\right) e^{\\frac{\\sqrt{2} L \\left(i \\sqrt{E} + 2 \\sqrt{- E + V_{0}}\\right) \\sqrt{\\text{m}}}{\\hbar}} + \\left(E - V_{0}\\right) e^{\\frac{\\sqrt{2} i \\sqrt{E} L \\sqrt{\\text{m}}}{\\hbar}} - \\left(E - V_{0}\\right) e^{\\frac{\\sqrt{2} i \\sqrt{E} \\left(L + 2 x\\right) \\sqrt{\\text{m}}}{\\hbar}}\\right) e^{- \\frac{\\sqrt{2} \\left(i \\sqrt{E} x + L \\sqrt{- E + V_{0}}\\right) \\sqrt{\\text{m}}}{\\hbar}} \\sqrt{\\text{m}}}{2 \\hbar \\sqrt{- E + V_{0}} \\left(e^{\\frac{2 \\sqrt{2} i \\sqrt{E} L \\sqrt{\\text{m}}}{\\hbar}} - 1\\right)}$"
      ],
      "text/plain": [
       "sqrt(2)*sqrt(m)*(I*sqrt(E)*sqrt(-E + V_0)*exp(sqrt(2)*sqrt(m)*(I*sqrt(E)*L + 2*I*sqrt(E)*x + 2*L*sqrt(-E + V_0))/hbar) + I*sqrt(E)*sqrt(-E + V_0)*exp(sqrt(2)*I*sqrt(m)*sqrt(E)*x/hbar) + 2*I*sqrt(E)*sqrt(-E + V_0)*exp(sqrt(2)*I*sqrt(m)*sqrt(E)*(L + 2*x)/hbar) + E*exp(sqrt(2)*sqrt(m)*L*(I*sqrt(E) + 2*sqrt(-E + V_0))/hbar) - E*exp(sqrt(2)*I*sqrt(m)*sqrt(E)*L/hbar) + E*exp(sqrt(2)*I*sqrt(m)*sqrt(E)*x/hbar) - E*exp(sqrt(2)*I*sqrt(m)*sqrt(E)*(L + 2*x)/hbar) + (E - V_0)*exp(sqrt(2)*sqrt(m)*(I*sqrt(E)*L + 2*I*sqrt(E)*x + 2*L*sqrt(-E + V_0))/hbar) - (E - V_0)*exp(sqrt(2)*sqrt(m)*L*(I*sqrt(E) + 2*sqrt(-E + V_0))/hbar) + (E - V_0)*exp(sqrt(2)*I*sqrt(m)*sqrt(E)*L/hbar) - (E - V_0)*exp(sqrt(2)*I*sqrt(m)*sqrt(E)*(L + 2*x)/hbar))*exp(-sqrt(2)*sqrt(m)*(I*sqrt(E)*x + L*sqrt(-E + V_0))/hbar)/(2*hbar*sqrt(-E + V_0)*(exp(2*sqrt(2)*I*sqrt(m)*sqrt(E)*L/hbar) - 1))"
      ]
     },
     "execution_count": 631,
     "metadata": {},
     "output_type": "execute_result"
    }
   ],
   "source": [
    "q2"
   ]
  },
  {
   "cell_type": "code",
   "execution_count": 640,
   "id": "5186745f-a41c-4295-9462-580e56c5e3b7",
   "metadata": {},
   "outputs": [
    {
     "data": {
      "text/latex": [
       "$\\displaystyle i \\sqrt{E} \\sqrt{- E + V_{0}} e^{\\frac{\\sqrt{2} \\left(i \\sqrt{E} L + 2 i \\sqrt{E} x + 2 L \\sqrt{- E + V_{0}}\\right) \\sqrt{\\text{m}}}{\\hbar}} + i \\sqrt{E} \\sqrt{- E + V_{0}} e^{\\frac{\\sqrt{2} i \\sqrt{E} x \\sqrt{\\text{m}}}{\\hbar}} + 2 i \\sqrt{E} \\sqrt{- E + V_{0}} e^{\\frac{\\sqrt{2} i \\sqrt{E} \\left(L + 2 x\\right) \\sqrt{\\text{m}}}{\\hbar}} + E e^{\\frac{\\sqrt{2} L \\left(i \\sqrt{E} + 2 \\sqrt{- E + V_{0}}\\right) \\sqrt{\\text{m}}}{\\hbar}} - E e^{\\frac{\\sqrt{2} i \\sqrt{E} L \\sqrt{\\text{m}}}{\\hbar}} + E e^{\\frac{\\sqrt{2} i \\sqrt{E} x \\sqrt{\\text{m}}}{\\hbar}} - E e^{\\frac{\\sqrt{2} i \\sqrt{E} \\left(L + 2 x\\right) \\sqrt{\\text{m}}}{\\hbar}} + \\left(E - V_{0}\\right) e^{\\frac{\\sqrt{2} \\left(i \\sqrt{E} L + 2 i \\sqrt{E} x + 2 L \\sqrt{- E + V_{0}}\\right) \\sqrt{\\text{m}}}{\\hbar}} - \\left(E - V_{0}\\right) e^{\\frac{\\sqrt{2} L \\left(i \\sqrt{E} + 2 \\sqrt{- E + V_{0}}\\right) \\sqrt{\\text{m}}}{\\hbar}} + \\left(E - V_{0}\\right) e^{\\frac{\\sqrt{2} i \\sqrt{E} L \\sqrt{\\text{m}}}{\\hbar}} - \\left(E - V_{0}\\right) e^{\\frac{\\sqrt{2} i \\sqrt{E} \\left(L + 2 x\\right) \\sqrt{\\text{m}}}{\\hbar}}$"
      ],
      "text/plain": [
       "I*sqrt(E)*sqrt(-E + V_0)*exp(sqrt(2)*sqrt(m)*(I*sqrt(E)*L + 2*I*sqrt(E)*x + 2*L*sqrt(-E + V_0))/hbar) + I*sqrt(E)*sqrt(-E + V_0)*exp(sqrt(2)*I*sqrt(m)*sqrt(E)*x/hbar) + 2*I*sqrt(E)*sqrt(-E + V_0)*exp(sqrt(2)*I*sqrt(m)*sqrt(E)*(L + 2*x)/hbar) + E*exp(sqrt(2)*sqrt(m)*L*(I*sqrt(E) + 2*sqrt(-E + V_0))/hbar) - E*exp(sqrt(2)*I*sqrt(m)*sqrt(E)*L/hbar) + E*exp(sqrt(2)*I*sqrt(m)*sqrt(E)*x/hbar) - E*exp(sqrt(2)*I*sqrt(m)*sqrt(E)*(L + 2*x)/hbar) + (E - V_0)*exp(sqrt(2)*sqrt(m)*(I*sqrt(E)*L + 2*I*sqrt(E)*x + 2*L*sqrt(-E + V_0))/hbar) - (E - V_0)*exp(sqrt(2)*sqrt(m)*L*(I*sqrt(E) + 2*sqrt(-E + V_0))/hbar) + (E - V_0)*exp(sqrt(2)*I*sqrt(m)*sqrt(E)*L/hbar) - (E - V_0)*exp(sqrt(2)*I*sqrt(m)*sqrt(E)*(L + 2*x)/hbar)"
      ]
     },
     "execution_count": 640,
     "metadata": {},
     "output_type": "execute_result"
    }
   ],
   "source": [
    "q2.as_ordered_factors()[ 6]"
   ]
  },
  {
   "cell_type": "code",
   "execution_count": 650,
   "id": "487b1684-efd2-46f0-aaf6-0ea0ac71203e",
   "metadata": {},
   "outputs": [
    {
     "data": {
      "text/latex": [
       "$\\displaystyle C_{1} e^{- i k_{0} x} + C_{2} e^{i k_{0} x}$"
      ],
      "text/plain": [
       "C1*exp(-I*k_0*x) + C2*exp(I*k_0*x)"
      ]
     },
     "execution_count": 650,
     "metadata": {},
     "output_type": "execute_result"
    }
   ],
   "source": [
    "psi_region[ 0 ].last_step( -3 ).rhs.trigsimp()"
   ]
  },
  {
   "cell_type": "code",
   "execution_count": null,
   "id": "67eee935-04a6-4e33-a50b-b6796eab5637",
   "metadata": {},
   "outputs": [],
   "source": []
  }
 ],
 "metadata": {
  "kernelspec": {
   "display_name": "Python 3 (ipykernel)",
   "language": "python",
   "name": "python3"
  },
  "language_info": {
   "codemirror_mode": {
    "name": "ipython",
    "version": 3
   },
   "file_extension": ".py",
   "mimetype": "text/x-python",
   "name": "python",
   "nbconvert_exporter": "python",
   "pygments_lexer": "ipython3",
   "version": "3.9.10"
  }
 },
 "nbformat": 4,
 "nbformat_minor": 5
}
