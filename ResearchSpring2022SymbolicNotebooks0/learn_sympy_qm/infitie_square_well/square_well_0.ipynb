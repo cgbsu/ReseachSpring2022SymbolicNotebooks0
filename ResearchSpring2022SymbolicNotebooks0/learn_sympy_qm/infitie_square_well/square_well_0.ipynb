{
 "cells": [
  {
   "cell_type": "code",
   "execution_count": 1,
   "id": "c5d01658-b6c4-4bb6-b8a2-c9fe364ff7e8",
   "metadata": {},
   "outputs": [],
   "source": [
    "import sympy as sp"
   ]
  },
  {
   "cell_type": "code",
   "execution_count": 2,
   "id": "59f4db7a-098b-42db-8d3d-90d7c974b32a",
   "metadata": {},
   "outputs": [],
   "source": [
    "import matplotlib.pyplot as plt"
   ]
  },
  {
   "cell_type": "code",
   "execution_count": 3,
   "id": "9f9b6f75-3b71-4b8e-af02-c935c7e9ca15",
   "metadata": {},
   "outputs": [],
   "source": [
    "import numpy as np"
   ]
  },
  {
   "cell_type": "code",
   "execution_count": 4,
   "id": "49d502ee-9716-4bf3-a922-4881cc2ebe66",
   "metadata": {},
   "outputs": [],
   "source": [
    "from sympy.abc import x"
   ]
  },
  {
   "cell_type": "code",
   "execution_count": 5,
   "id": "5542e734-2842-41b4-a312-3e0eb36bfda1",
   "metadata": {},
   "outputs": [],
   "source": [
    "import unicodedata as ud"
   ]
  },
  {
   "cell_type": "code",
   "execution_count": 6,
   "id": "8fea5223-63a0-4a6a-b808-79f66f7c0a36",
   "metadata": {},
   "outputs": [],
   "source": [
    "from sympy.solvers.solveset import linsolve"
   ]
  },
  {
   "cell_type": "code",
   "execution_count": 7,
   "id": "f71503c6-c557-4cca-a112-e1d3cd531f8e",
   "metadata": {},
   "outputs": [],
   "source": [
    "import sympy.core.relational as equal"
   ]
  },
  {
   "cell_type": "code",
   "execution_count": 8,
   "id": "5b896a41-0062-4488-9cac-039b75e4a1cd",
   "metadata": {},
   "outputs": [],
   "source": [
    "import sympy.physics.units.quantities as sq"
   ]
  },
  {
   "cell_type": "code",
   "execution_count": null,
   "id": "8d79f2cd-923a-48f6-9ffe-cc1b6ab015df",
   "metadata": {},
   "outputs": [],
   "source": []
  },
  {
   "cell_type": "code",
   "execution_count": 9,
   "id": "97b56d58-cef9-4b4e-9ec5-39a0811aa059",
   "metadata": {},
   "outputs": [],
   "source": [
    "well_length = sq.Quantity( 'L' )"
   ]
  },
  {
   "cell_type": "code",
   "execution_count": 10,
   "id": "e7a5d64e-a1dd-410b-836c-fdf5ddaa71c5",
   "metadata": {},
   "outputs": [],
   "source": [
    "highest_potential = sq.Quantity( 'V_max' )"
   ]
  },
  {
   "cell_type": "code",
   "execution_count": 11,
   "id": "911971cf-b6a4-4a05-910a-282807821d3d",
   "metadata": {},
   "outputs": [],
   "source": [
    "x = sp.Symbol( 'x' )"
   ]
  },
  {
   "cell_type": "code",
   "execution_count": 12,
   "id": "c8cefb40-929a-43cd-bb3e-5948862cf3f8",
   "metadata": {},
   "outputs": [],
   "source": [
    "potential_energy = sp.Piecewise( ( highest_potential, x <= 0 ), ( 0, x < well_length ), ( highest_potential, x >= well_length ) )"
   ]
  },
  {
   "cell_type": "code",
   "execution_count": 13,
   "id": "69c9c6a2-c3e6-4bb8-b689-eb7825082aa1",
   "metadata": {},
   "outputs": [],
   "source": [
    "test = sp.Symbol( 'psi' )"
   ]
  },
  {
   "cell_type": "code",
   "execution_count": 14,
   "id": "75a9e102-b864-452a-aeea-5081134fd5b8",
   "metadata": {},
   "outputs": [],
   "source": [
    "m = sq.Quantity( \"m\" )"
   ]
  },
  {
   "cell_type": "code",
   "execution_count": 15,
   "id": "0d7eddf2-7620-4211-8251-109a36f6dd76",
   "metadata": {},
   "outputs": [],
   "source": [
    "psi_symbol = ud.lookup( \"GREEK SMALL LETTER PSI\" )"
   ]
  },
  {
   "cell_type": "code",
   "execution_count": 16,
   "id": "dfcf7900-166b-4812-a199-8fabdc8860cb",
   "metadata": {},
   "outputs": [],
   "source": [
    "psi = sp.Function( \"psi\" ) # lambda g : test #sp.Function( \"psi\" )"
   ]
  },
  {
   "cell_type": "code",
   "execution_count": 17,
   "id": "f03c3634-c48b-4f5c-a4d0-58889390a555",
   "metadata": {},
   "outputs": [],
   "source": [
    "hbar = sq.Quantity( \"hbar\" )"
   ]
  },
  {
   "cell_type": "code",
   "execution_count": 18,
   "id": "5e45c87d-c705-41c2-83b6-8b5099e44e5a",
   "metadata": {},
   "outputs": [],
   "source": [
    "total_energy = sq.Quantity( \"E\" )\n",
    "\n",
    "inverse_total_energy = 1.0 / total_energy"
   ]
  },
  {
   "cell_type": "code",
   "execution_count": 19,
   "id": "da017710-9530-4401-8252-8470c1b2702a",
   "metadata": {},
   "outputs": [],
   "source": [
    "second_derivative = sp.Derivative( psi( x ), x, 2 )"
   ]
  },
  {
   "cell_type": "code",
   "execution_count": 20,
   "id": "ec55e9c1-a7b1-4464-a084-0c38659a6644",
   "metadata": {},
   "outputs": [],
   "source": [
    "make_shrodinger_left = lambda potential : inverse_total_energy * ( second_derivative + ( psi( x ) * potential ) )"
   ]
  },
  {
   "cell_type": "code",
   "execution_count": 21,
   "id": "0cf1830b-4475-40fe-94b6-fcad04fb1683",
   "metadata": {},
   "outputs": [],
   "source": [
    "shrodinger_left = make_shrodinger_left( potential_energy )"
   ]
  },
  {
   "cell_type": "code",
   "execution_count": 22,
   "id": "73fcfab5-3cf6-40e2-967f-576e072cab86",
   "metadata": {},
   "outputs": [],
   "source": [
    "psi_solved = sp.solvers.ode.dsolve( shrodinger_left, psi( x ) )"
   ]
  },
  {
   "cell_type": "code",
   "execution_count": 23,
   "id": "3c9cb170-cdd9-421c-96b9-7ee0db75e056",
   "metadata": {},
   "outputs": [
    {
     "data": {
      "text/latex": [
       "$\\displaystyle \\psi{\\left(x \\right)} = x^{2} \\left(\\begin{cases} - \\frac{C_{1} \\text{V_max}}{2} & \\text{for}\\: x \\leq 0 \\\\0 & \\text{for}\\: x < \\text{L} \\\\- \\frac{C_{1} \\text{V_max}}{2} & \\text{otherwise} \\end{cases}\\right) + x^{3} \\left(\\begin{cases} - \\frac{C_{2} \\text{V_max}}{6} & \\text{for}\\: x \\leq 0 \\\\0 & \\text{for}\\: x < \\text{L} \\\\- \\frac{C_{2} \\text{V_max}}{6} & \\text{otherwise} \\end{cases}\\right) + x^{4} \\left(\\begin{cases} - \\frac{\\left(\\begin{cases} - \\frac{C_{1} \\text{V_max}}{2} & \\text{for}\\: x \\leq 0 \\\\0 & \\text{for}\\: x < \\text{L} \\\\- \\frac{C_{1} \\text{V_max}}{2} & \\text{otherwise} \\end{cases}\\right) \\text{V_max}}{12} & \\text{for}\\: x \\leq 0 \\\\0 & \\text{for}\\: x < \\text{L} \\\\- \\frac{\\left(\\begin{cases} - \\frac{C_{1} \\text{V_max}}{2} & \\text{for}\\: x \\leq 0 \\\\0 & \\text{for}\\: x < \\text{L} \\\\- \\frac{C_{1} \\text{V_max}}{2} & \\text{otherwise} \\end{cases}\\right) \\text{V_max}}{12} & \\text{otherwise} \\end{cases}\\right) + C_{2} x + C_{1} + O\\left(x^{6}\\right)$"
      ],
      "text/plain": [
       "Eq(psi(x), x**2*Piecewise((-V_max*C1/2, x <= 0), (0, x < L), (-V_max*C1/2, True)) + x**3*Piecewise((-V_max*C2/6, x <= 0), (0, x < L), (-V_max*C2/6, True)) + x**4*Piecewise((-V_max*Piecewise((-V_max*C1/2, x <= 0), (0, x < L), (-V_max*C1/2, True))/12, x <= 0), (0, x < L), (-V_max*Piecewise((-V_max*C1/2, x <= 0), (0, x < L), (-V_max*C1/2, True))/12, True)) + C2*x + C1 + O(x**6))"
      ]
     },
     "execution_count": 23,
     "metadata": {},
     "output_type": "execute_result"
    }
   ],
   "source": [
    "psi_solved"
   ]
  },
  {
   "cell_type": "code",
   "execution_count": null,
   "id": "bce73d7f-06d6-449f-ae42-098ddf196e3e",
   "metadata": {},
   "outputs": [],
   "source": []
  },
  {
   "cell_type": "code",
   "execution_count": 24,
   "id": "0da459e5-8663-41a5-ac8b-f55c28482c24",
   "metadata": {},
   "outputs": [
    {
     "data": {
      "text/latex": [
       "$\\displaystyle \\psi{\\left(0 \\right)} = C_{1}$"
      ],
      "text/plain": [
       "Eq(psi(0), C1)"
      ]
     },
     "execution_count": 24,
     "metadata": {},
     "output_type": "execute_result"
    }
   ],
   "source": [
    "psi_solved.subs( x, 0 )"
   ]
  },
  {
   "cell_type": "code",
   "execution_count": 25,
   "id": "1e5e078c-85db-42fe-8f91-10ac6d955d73",
   "metadata": {},
   "outputs": [
    {
     "data": {
      "text/latex": [
       "$\\displaystyle \\begin{cases} \\frac{1.0 \\left(\\psi{\\left(x \\right)} \\text{V_max} + \\frac{d^{2}}{d x^{2}} \\psi{\\left(x \\right)}\\right)}{\\text{E}} & \\text{for}\\: x \\leq 0 \\\\\\frac{1.0 \\frac{d^{2}}{d x^{2}} \\psi{\\left(x \\right)}}{\\text{E}} & \\text{for}\\: x < \\text{L} \\\\\\frac{1.0 \\left(\\psi{\\left(x \\right)} \\text{V_max} + \\frac{d^{2}}{d x^{2}} \\psi{\\left(x \\right)}\\right)}{\\text{E}} & \\text{otherwise} \\end{cases}$"
      ],
      "text/plain": [
       "Piecewise((1.0*(V_max*psi(x) + Derivative(psi(x), (x, 2)))/E, x <= 0), (1.0*Derivative(psi(x), (x, 2))/E, x < L), (1.0*(V_max*psi(x) + Derivative(psi(x), (x, 2)))/E, True))"
      ]
     },
     "execution_count": 25,
     "metadata": {},
     "output_type": "execute_result"
    }
   ],
   "source": [
    "sp.simplify( shrodinger_left )"
   ]
  },
  {
   "cell_type": "code",
   "execution_count": 26,
   "id": "e3ef66c1-7dea-4e7b-950a-c598493a93e6",
   "metadata": {},
   "outputs": [],
   "source": [
    "shrodinger_left_outside_bounds = make_shrodinger_left( highest_potential )"
   ]
  },
  {
   "cell_type": "code",
   "execution_count": null,
   "id": "dc47f886-0235-4d7d-81e5-d6a6ae5300a6",
   "metadata": {},
   "outputs": [],
   "source": []
  },
  {
   "cell_type": "code",
   "execution_count": 27,
   "id": "d2182231-90cd-4e33-9148-183475f3de3d",
   "metadata": {},
   "outputs": [],
   "source": [
    "shrodinger_left_inside_bounds = make_shrodinger_left( 0 )"
   ]
  },
  {
   "cell_type": "code",
   "execution_count": null,
   "id": "1401e325-2d62-429c-9d58-23846ea77238",
   "metadata": {},
   "outputs": [],
   "source": []
  },
  {
   "cell_type": "code",
   "execution_count": 28,
   "id": "fcce7305-0dca-4482-afac-b96d3a79c372",
   "metadata": {},
   "outputs": [],
   "source": [
    "left_physical_constraints = [\n",
    "    shrodinger_left_outside_bounds.subs( x, well_length ), \n",
    "    shrodinger_left_outside_bounds.subs( x, 0 ), \n",
    "    shrodinger_left_outside_bounds.subs( x, well_length ), \n",
    "    ( shrodinger_left_outside_bounds * total_energy ), \n",
    "    ( shrodinger_left_inside_bounds * total_energy ), \n",
    "    sp.integrate( psi( x ) * sp.conjugate( psi( x ) ), ( x, 0, well_length ) ),  \n",
    "]"
   ]
  },
  {
   "cell_type": "code",
   "execution_count": 29,
   "id": "29cce6f8-14c1-41f4-a3d8-0c86ddf26c05",
   "metadata": {},
   "outputs": [],
   "source": [
    "right_physical_constraints = [ \n",
    "    shrodinger_left_inside_bounds.subs( x, well_length ), \n",
    "    shrodinger_left_inside_bounds.subs( x, 0 ), \n",
    "    shrodinger_left_outside_bounds.subs( x, 0 ), \n",
    "    ( total_energy * psi( x ) ), \n",
    "    ( total_energy * psi( x ) ), \n",
    "    1 \n",
    "]"
   ]
  },
  {
   "cell_type": "code",
   "execution_count": 30,
   "id": "c37e1663-4541-4a10-a306-df9efd352a3d",
   "metadata": {},
   "outputs": [],
   "source": [
    "equations = []\n",
    "#solutions = [ psi( well_length ), psi( 0 ), psi( 0 ), psi( x ), psi( x ), psi( x ) ]\n",
    "solutions = []\n",
    "\n",
    "for i in range( len( right_physical_constraints ) ): \n",
    "    #equations.append( sp.Eq( left_physical_constraints[ i ], right_physical_constraints[ i ] ) )\n",
    "    #solutions.append( psi( x ) )\n",
    "    #equations.append( left_physical_constraints[ i ] - right_physical_constraints[ i ] )\n",
    "    #solutions.append( 1 if i == len( right_physical_constraints ) - 1 else 0 )\n",
    "    equations.append( left_physical_constraints[ i ] ) #.subs( m, 5 ).subs( well_length, 3 ).subs( total_energy, 7 ).subs( highest_potential, 17 ) )\n",
    "    solutions.append( right_physical_constraints[ i ] )#1 if i == len( right_physical_constraints ) - 1 else right_physical_constraints[ i ].subs( m, 5 ).subs( well_length, 3 ).subs( total_energy, 7 ).subs( highest_potential, 17 ) )\n",
    "    #print( equations[ -1 ].is_constant() )\n",
    "    #print( solutions[ -1 ].is_constant() )\n",
    "\n",
    "#solutions[ -1 ] = 1"
   ]
  },
  {
   "cell_type": "code",
   "execution_count": null,
   "id": "882a4672-d50f-451f-941e-3e0ddb65d04a",
   "metadata": {},
   "outputs": [],
   "source": []
  },
  {
   "cell_type": "code",
   "execution_count": 31,
   "id": "5d104410-b7fe-4886-b3f9-3e8c877cea20",
   "metadata": {},
   "outputs": [
    {
     "data": {
      "text/plain": [
       "1"
      ]
     },
     "execution_count": 31,
     "metadata": {},
     "output_type": "execute_result"
    }
   ],
   "source": [
    "solutions[ 5 ]"
   ]
  },
  {
   "cell_type": "code",
   "execution_count": null,
   "id": "ce1e60ee-915c-46ad-b978-ef3ec966aca3",
   "metadata": {},
   "outputs": [],
   "source": []
  },
  {
   "cell_type": "code",
   "execution_count": 32,
   "id": "3716d995-73e9-4f4b-b75f-fb298c1d379d",
   "metadata": {},
   "outputs": [
    {
     "data": {
      "text/plain": [
       "[1.0*(V_max*psi(L) + Derivative(psi(L), (L, 2)))/E,\n",
       " 1.0*(V_max*psi(0) + Subs(Derivative(psi(x), (x, 2)), x, 0))/E,\n",
       " 1.0*(V_max*psi(L) + Derivative(psi(L), (L, 2)))/E,\n",
       " 1.0*V_max*psi(x) + 1.0*Derivative(psi(x), (x, 2)),\n",
       " 1.0*Derivative(psi(x), (x, 2)),\n",
       " Integral(psi(x)*conjugate(psi(x)), (x, 0, L))]"
      ]
     },
     "execution_count": 32,
     "metadata": {},
     "output_type": "execute_result"
    }
   ],
   "source": [
    "equations"
   ]
  },
  {
   "cell_type": "code",
   "execution_count": 33,
   "id": "0733096b-2d2a-4775-bfe4-2d38e56eabb9",
   "metadata": {},
   "outputs": [
    {
     "data": {
      "text/latex": [
       "$\\displaystyle \\emptyset$"
      ],
      "text/plain": [
       "EmptySet"
      ]
     },
     "execution_count": 33,
     "metadata": {},
     "output_type": "execute_result"
    }
   ],
   "source": [
    "linsolve( tuple( equations ), tuple( solutions ) )"
   ]
  },
  {
   "cell_type": "code",
   "execution_count": 34,
   "id": "b645b149-bba4-4c8b-aaba-7d72a82a2b50",
   "metadata": {},
   "outputs": [
    {
     "data": {
      "text/plain": [
       "[]"
      ]
     },
     "execution_count": 34,
     "metadata": {},
     "output_type": "execute_result"
    }
   ],
   "source": [
    "sp.solve( equations, solutions )"
   ]
  },
  {
   "cell_type": "code",
   "execution_count": 35,
   "id": "7c23f566-de38-49e8-bf3f-7678f346d225",
   "metadata": {},
   "outputs": [
    {
     "data": {
      "text/plain": [
       "(1.0*Derivative(psi(L), (L, 2))/E,\n",
       " 1.0*Subs(Derivative(psi(x), (x, 2)), x, 0)/E,\n",
       " 1.0*(V_max*psi(0) + Subs(Derivative(psi(x), (x, 2)), x, 0))/E,\n",
       " E*psi(x),\n",
       " E*psi(x),\n",
       " 1)"
      ]
     },
     "execution_count": 35,
     "metadata": {},
     "output_type": "execute_result"
    }
   ],
   "source": [
    "tuple( solutions )"
   ]
  },
  {
   "cell_type": "code",
   "execution_count": 36,
   "id": "e20eaf46-1b2e-4b42-9257-73dd25adfc8f",
   "metadata": {},
   "outputs": [
    {
     "data": {
      "text/plain": [
       "[1.0*(V_max*psi(L) + Derivative(psi(L), (L, 2)))/E,\n",
       " 1.0*(V_max*psi(0) + Subs(Derivative(psi(x), (x, 2)), x, 0))/E,\n",
       " 1.0*(V_max*psi(L) + Derivative(psi(L), (L, 2)))/E,\n",
       " 1.0*V_max*psi(x) + 1.0*Derivative(psi(x), (x, 2)),\n",
       " 1.0*Derivative(psi(x), (x, 2)),\n",
       " Integral(psi(x)*conjugate(psi(x)), (x, 0, L))]"
      ]
     },
     "execution_count": 36,
     "metadata": {},
     "output_type": "execute_result"
    }
   ],
   "source": [
    "equations"
   ]
  },
  {
   "cell_type": "code",
   "execution_count": 37,
   "id": "318e9b5b-b70a-4e6e-98f0-1dd850a82305",
   "metadata": {},
   "outputs": [
    {
     "ename": "ValueError",
     "evalue": "\ndsolve_system can solve a system of ODEs with only one independent\nvariable.",
     "output_type": "error",
     "traceback": [
      "\u001b[0;31m---------------------------------------------------------------------------\u001b[0m",
      "\u001b[0;31mValueError\u001b[0m                                Traceback (most recent call last)",
      "Input \u001b[0;32mIn [37]\u001b[0m, in \u001b[0;36m<module>\u001b[0;34m\u001b[0m\n\u001b[0;32m----> 1\u001b[0m psi_ode \u001b[38;5;241m=\u001b[39m \u001b[43msp\u001b[49m\u001b[38;5;241;43m.\u001b[39;49m\u001b[43msolvers\u001b[49m\u001b[38;5;241;43m.\u001b[39;49m\u001b[43mode\u001b[49m\u001b[38;5;241;43m.\u001b[39;49m\u001b[43mdsolve\u001b[49m\u001b[43m(\u001b[49m\u001b[43m \u001b[49m\u001b[43mequations\u001b[49m\u001b[43m,\u001b[49m\u001b[43m \u001b[49m\u001b[43msolutions\u001b[49m\u001b[43m \u001b[49m\u001b[43m)\u001b[49m\n",
      "File \u001b[0;32m/opt/conda/lib/python3.9/site-packages/sympy/solvers/ode/ode.py:558\u001b[0m, in \u001b[0;36mdsolve\u001b[0;34m(eq, func, hint, simplify, ics, xi, eta, x0, n, **kwargs)\u001b[0m\n\u001b[1;32m    552\u001b[0m \u001b[38;5;66;03m# This may have to be changed in future\u001b[39;00m\n\u001b[1;32m    553\u001b[0m \u001b[38;5;66;03m# when we have weakly and strongly\u001b[39;00m\n\u001b[1;32m    554\u001b[0m \u001b[38;5;66;03m# connected components. This have to\u001b[39;00m\n\u001b[1;32m    555\u001b[0m \u001b[38;5;66;03m# changed to show the systems that haven't\u001b[39;00m\n\u001b[1;32m    556\u001b[0m \u001b[38;5;66;03m# been solved.\u001b[39;00m\n\u001b[1;32m    557\u001b[0m \u001b[38;5;28;01mtry\u001b[39;00m:\n\u001b[0;32m--> 558\u001b[0m     sol \u001b[38;5;241m=\u001b[39m \u001b[43mdsolve_system\u001b[49m\u001b[43m(\u001b[49m\u001b[43meq\u001b[49m\u001b[43m,\u001b[49m\u001b[43m \u001b[49m\u001b[43mfuncs\u001b[49m\u001b[38;5;241;43m=\u001b[39;49m\u001b[43mfunc\u001b[49m\u001b[43m,\u001b[49m\u001b[43m \u001b[49m\u001b[43mics\u001b[49m\u001b[38;5;241;43m=\u001b[39;49m\u001b[43mics\u001b[49m\u001b[43m,\u001b[49m\u001b[43m \u001b[49m\u001b[43mdoit\u001b[49m\u001b[38;5;241;43m=\u001b[39;49m\u001b[38;5;28;43;01mTrue\u001b[39;49;00m\u001b[43m)\u001b[49m\n\u001b[1;32m    559\u001b[0m     \u001b[38;5;28;01mreturn\u001b[39;00m sol[\u001b[38;5;241m0\u001b[39m] \u001b[38;5;28;01mif\u001b[39;00m \u001b[38;5;28mlen\u001b[39m(sol) \u001b[38;5;241m==\u001b[39m \u001b[38;5;241m1\u001b[39m \u001b[38;5;28;01melse\u001b[39;00m sol\n\u001b[1;32m    560\u001b[0m \u001b[38;5;28;01mexcept\u001b[39;00m \u001b[38;5;167;01mNotImplementedError\u001b[39;00m:\n",
      "File \u001b[0;32m/opt/conda/lib/python3.9/site-packages/sympy/solvers/ode/systems.py:2088\u001b[0m, in \u001b[0;36mdsolve_system\u001b[0;34m(eqs, funcs, t, ics, doit, simplify)\u001b[0m\n\u001b[1;32m   2085\u001b[0m     funcs \u001b[38;5;241m=\u001b[39m _extract_funcs(eqs)\n\u001b[1;32m   2087\u001b[0m \u001b[38;5;28;01mif\u001b[39;00m \u001b[38;5;28many\u001b[39m(\u001b[38;5;28mlen\u001b[39m(func\u001b[38;5;241m.\u001b[39margs) \u001b[38;5;241m!=\u001b[39m \u001b[38;5;241m1\u001b[39m \u001b[38;5;28;01mfor\u001b[39;00m func \u001b[38;5;129;01min\u001b[39;00m funcs):\n\u001b[0;32m-> 2088\u001b[0m     \u001b[38;5;28;01mraise\u001b[39;00m \u001b[38;5;167;01mValueError\u001b[39;00m(filldedent(\u001b[38;5;124m'''\u001b[39m\n\u001b[1;32m   2089\u001b[0m \u001b[38;5;124m        dsolve_system can solve a system of ODEs with only one independent\u001b[39m\n\u001b[1;32m   2090\u001b[0m \u001b[38;5;124m        variable.\u001b[39m\n\u001b[1;32m   2091\u001b[0m \u001b[38;5;124m    \u001b[39m\u001b[38;5;124m'''\u001b[39m))\n\u001b[1;32m   2093\u001b[0m \u001b[38;5;28;01mif\u001b[39;00m \u001b[38;5;28mlen\u001b[39m(eqs) \u001b[38;5;241m!=\u001b[39m \u001b[38;5;28mlen\u001b[39m(funcs):\n\u001b[1;32m   2094\u001b[0m     \u001b[38;5;28;01mraise\u001b[39;00m \u001b[38;5;167;01mValueError\u001b[39;00m(filldedent(\u001b[38;5;124m'''\u001b[39m\n\u001b[1;32m   2095\u001b[0m \u001b[38;5;124m        Number of equations and number of functions don\u001b[39m\u001b[38;5;124m'\u001b[39m\u001b[38;5;124mt match\u001b[39m\n\u001b[1;32m   2096\u001b[0m \u001b[38;5;124m    \u001b[39m\u001b[38;5;124m'''\u001b[39m))\n",
      "\u001b[0;31mValueError\u001b[0m: \ndsolve_system can solve a system of ODEs with only one independent\nvariable."
     ]
    }
   ],
   "source": [
    "psi_ode = sp.solvers.ode.dsolve( equations, solutions )"
   ]
  },
  {
   "cell_type": "code",
   "execution_count": null,
   "id": "e3ac3563-586d-406d-80a2-2b7f384ce012",
   "metadata": {},
   "outputs": [],
   "source": []
  },
  {
   "cell_type": "code",
   "execution_count": null,
   "id": "d0378e2a-6590-4005-9140-3687ccd3ada7",
   "metadata": {},
   "outputs": [],
   "source": []
  },
  {
   "cell_type": "code",
   "execution_count": null,
   "id": "1974dac4-a39f-4f44-8d69-aac4745fc9d5",
   "metadata": {},
   "outputs": [],
   "source": []
  }
 ],
 "metadata": {
  "kernelspec": {
   "display_name": "Python 3 (ipykernel)",
   "language": "python",
   "name": "python3"
  },
  "language_info": {
   "codemirror_mode": {
    "name": "ipython",
    "version": 3
   },
   "file_extension": ".py",
   "mimetype": "text/x-python",
   "name": "python",
   "nbconvert_exporter": "python",
   "pygments_lexer": "ipython3",
   "version": "3.9.10"
  }
 },
 "nbformat": 4,
 "nbformat_minor": 5
}
