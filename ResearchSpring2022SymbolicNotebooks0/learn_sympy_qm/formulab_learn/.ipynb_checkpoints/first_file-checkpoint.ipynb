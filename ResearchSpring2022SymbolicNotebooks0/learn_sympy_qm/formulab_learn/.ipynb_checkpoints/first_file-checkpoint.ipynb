{
 "cells": [
  {
   "cell_type": "code",
   "execution_count": 1,
   "id": "327cc33a-2091-430e-8f21-5b8935ee076e",
   "metadata": {},
   "outputs": [],
   "source": [
    "import numpy as np"
   ]
  },
  {
   "cell_type": "code",
   "execution_count": 2,
   "id": "fff5eac1-d99c-4fbb-9f87-92de542b4fb3",
   "metadata": {},
   "outputs": [],
   "source": [
    "import pandas as pd"
   ]
  },
  {
   "cell_type": "code",
   "execution_count": 3,
   "id": "f29785f4-ca89-47e2-83d1-96ec28ead24b",
   "metadata": {},
   "outputs": [],
   "source": [
    "import sympy as sp"
   ]
  },
  {
   "cell_type": "code",
   "execution_count": 4,
   "id": "0028d03d-d0d5-4ba9-93a7-2aeb7ba4aeef",
   "metadata": {},
   "outputs": [],
   "source": [
    "import FormulaLab as fl"
   ]
  },
  {
   "cell_type": "code",
   "execution_count": null,
   "id": "995c3d9b-ef6f-4ba0-903a-40852cbfcc47",
   "metadata": {},
   "outputs": [],
   "source": []
  },
  {
   "cell_type": "code",
   "execution_count": 5,
   "id": "f0aa15f0-a014-4768-900f-c16e9717c6bb",
   "metadata": {},
   "outputs": [],
   "source": [
    "from cat_lib.d1 import schrodinger_1d"
   ]
  },
  {
   "cell_type": "code",
   "execution_count": null,
   "id": "8269a363-09f3-45a9-8d12-32505bdd43ac",
   "metadata": {},
   "outputs": [],
   "source": []
  },
  {
   "cell_type": "code",
   "execution_count": 13,
   "id": "5ba03b49-e172-4d45-98a9-877d7db41481",
   "metadata": {},
   "outputs": [],
   "source": [
    "x = schrodinger_1d.POSITION_SYMBOL"
   ]
  },
  {
   "cell_type": "code",
   "execution_count": 14,
   "id": "65696d5e-c963-423a-bab0-69fbe6edd21e",
   "metadata": {},
   "outputs": [],
   "source": [
    "psi = schrodinger_1d.PSI_FUNCTION"
   ]
  },
  {
   "cell_type": "code",
   "execution_count": 30,
   "id": "8717b44e-62c9-4e9c-956b-675bb956dd24",
   "metadata": {},
   "outputs": [],
   "source": [
    "potential = schrodinger_1d.POTENTIAL_FUNCTION\n",
    "total_energy = schrodinger_1d.TOTAL_ENERGY_SYMBOL\n",
    "mass = schrodinger_1d.MASS_SYMBOL\n",
    "hbar = schrodinger_1d.REDUCED_PLANCK_CONSTANT_SYMBOL"
   ]
  },
  {
   "cell_type": "code",
   "execution_count": null,
   "id": "c86e3c8c-0c09-4c98-97e0-4cb2bb883644",
   "metadata": {},
   "outputs": [],
   "source": []
  },
  {
   "cell_type": "code",
   "execution_count": null,
   "id": "ea89352e-84ae-4778-b62b-e24c8ab9adc9",
   "metadata": {},
   "outputs": [],
   "source": [
    "#independent"
   ]
  },
  {
   "cell_type": "code",
   "execution_count": 65,
   "id": "179617b9-1aae-490c-8b54-afff0a8da8bf",
   "metadata": {},
   "outputs": [],
   "source": [
    "schrodinger_equation = schrodinger_1d.time_independant_schroedinger_equation()"
   ]
  },
  {
   "cell_type": "code",
   "execution_count": 66,
   "id": "2fcf23ed-87c0-4989-92d5-3bdf4a38ff16",
   "metadata": {},
   "outputs": [
    {
     "data": {
      "text/latex": [
       "$\\displaystyle - \\frac{\\frac{d^{2}}{d x^{2}} \\psi{\\left(x \\right)} \\text{hbar}^{2}}{2 \\text{m}} + V{\\left(x \\right)} \\psi{\\left(x \\right)} = E \\psi{\\left(x \\right)}$"
      ],
      "text/plain": [
       "Eq(-hbar**2*Derivative(psi(x), (x, 2))/(2*m) + V(x)*psi(x), E*psi(x))"
      ]
     },
     "execution_count": 66,
     "metadata": {},
     "output_type": "execute_result"
    }
   ],
   "source": [
    "schrodinger_equation"
   ]
  },
  {
   "cell_type": "code",
   "execution_count": null,
   "id": "790af255-0da3-4fce-98eb-924a9447fc43",
   "metadata": {},
   "outputs": [],
   "source": []
  },
  {
   "cell_type": "code",
   "execution_count": 67,
   "id": "c434d010-d4ad-4bfe-a37c-67ff45f1eefa",
   "metadata": {},
   "outputs": [],
   "source": [
    "phyfos = fl.FormulaSearch( data = [ \n",
    "        str( schrodinger_equation ), \n",
    "        str( schrodinger_equation.subs( schrodinger_1d.POTENTIAL_FUNCTION( x ), 0 ) ), \n",
    "    ] )"
   ]
  },
  {
   "cell_type": "code",
   "execution_count": 68,
   "id": "2224e285-a6de-4b73-9b4a-6677ca5144fe",
   "metadata": {},
   "outputs": [
    {
     "data": {
      "text/html": [
       "<div>\n",
       "<style scoped>\n",
       "    .dataframe tbody tr th:only-of-type {\n",
       "        vertical-align: middle;\n",
       "    }\n",
       "\n",
       "    .dataframe tbody tr th {\n",
       "        vertical-align: top;\n",
       "    }\n",
       "\n",
       "    .dataframe thead th {\n",
       "        text-align: right;\n",
       "    }\n",
       "</style>\n",
       "<table border=\"1\" class=\"dataframe\">\n",
       "  <thead>\n",
       "    <tr style=\"text-align: right;\">\n",
       "      <th></th>\n",
       "      <th>ID</th>\n",
       "      <th>Formula</th>\n",
       "      <th>Args</th>\n",
       "    </tr>\n",
       "  </thead>\n",
       "  <tbody>\n",
       "    <tr>\n",
       "      <th>0</th>\n",
       "      <td>1</td>\n",
       "      <td>Eq(-hbar**2*Derivative(psi(x), (x, 2))/(2*m) +...</td>\n",
       "      <td>[hbar, m, x, E]</td>\n",
       "    </tr>\n",
       "    <tr>\n",
       "      <th>1</th>\n",
       "      <td>2</td>\n",
       "      <td>Eq(-hbar**2*Derivative(psi(x), (x, 2))/(2*m), ...</td>\n",
       "      <td>[hbar, m, x, E]</td>\n",
       "    </tr>\n",
       "  </tbody>\n",
       "</table>\n",
       "</div>"
      ],
      "text/plain": [
       "   ID                                            Formula             Args\n",
       "0   1  Eq(-hbar**2*Derivative(psi(x), (x, 2))/(2*m) +...  [hbar, m, x, E]\n",
       "1   2  Eq(-hbar**2*Derivative(psi(x), (x, 2))/(2*m), ...  [hbar, m, x, E]"
      ]
     },
     "execution_count": 68,
     "metadata": {},
     "output_type": "execute_result"
    }
   ],
   "source": [
    "phyfos.data"
   ]
  },
  {
   "cell_type": "code",
   "execution_count": null,
   "id": "c4427a10-94a9-4780-8b93-2eaf856dea06",
   "metadata": {},
   "outputs": [],
   "source": []
  },
  {
   "cell_type": "code",
   "execution_count": 52,
   "id": "30be6566-ab14-43f0-9bae-e4e7a2a23178",
   "metadata": {},
   "outputs": [
    {
     "data": {
      "text/plain": [
       "[]"
      ]
     },
     "execution_count": 52,
     "metadata": {},
     "output_type": "execute_result"
    }
   ],
   "source": [
    "phyfos.find( sp.dotprint( total_energy ) )"
   ]
  },
  {
   "cell_type": "code",
   "execution_count": 53,
   "id": "6c4ff8c2-e500-437d-ae16-5f03d5b7a903",
   "metadata": {},
   "outputs": [
    {
     "name": "stdout",
     "output_type": "stream",
     "text": [
      "Help on method derive in module FormulaLab.search:\n",
      "\n",
      "derive(func: str, var: str, shortest_path=True) -> list method of FormulaLab.search.FormulaSearch instance\n",
      "    Search for the `func` and `var`, and connects them algabrically.\n",
      "    \n",
      "    Parameters\n",
      "    ----------\n",
      "    func : str\n",
      "        A funciton to solve for.\n",
      "    var : str\n",
      "        A variable to be present in the derived formula.\n",
      "    \n",
      "    Returns\n",
      "    -------\n",
      "    list\n",
      "        All found solutions by different paths.\n",
      "    \n",
      "    See Also\n",
      "    --------\n",
      "    find : For direct search\n",
      "    \n",
      "    \n",
      "    Examples\n",
      "    --------\n",
      "    >>> import FormulaLab as fl\n",
      "    >>> data = ['f = m*a', 'a = v/t', 'v = d/t']\n",
      "    >>> # Say you want to know what is f(d) = ?\n",
      "    >>> phyfos = fl.FormulaSearch(data)\n",
      "    >>> phyfos.data\n",
      "          ID  Formula       Args\n",
      "       0   1  f = m*a  [m, f, a]\n",
      "       1   2  a = v/t  [v, a, t]\n",
      "       2   3  v = d/t  [v, d, t]\n",
      "    >>> f_d = phyfos.derive('f', 'd')\n",
      "    >>> print(f_d)\n",
      "    [d*m/t**2, m*v**2/d]\n",
      "\n"
     ]
    }
   ],
   "source": [
    "help( phyfos.derive )"
   ]
  },
  {
   "cell_type": "code",
   "execution_count": null,
   "id": "7026d971-9e40-449b-86db-fe979a4c8598",
   "metadata": {},
   "outputs": [],
   "source": []
  }
 ],
 "metadata": {
  "kernelspec": {
   "display_name": "Python 3 (ipykernel)",
   "language": "python",
   "name": "python3"
  },
  "language_info": {
   "codemirror_mode": {
    "name": "ipython",
    "version": 3
   },
   "file_extension": ".py",
   "mimetype": "text/x-python",
   "name": "python",
   "nbconvert_exporter": "python",
   "pygments_lexer": "ipython3",
   "version": "3.9.10"
  }
 },
 "nbformat": 4,
 "nbformat_minor": 5
}
