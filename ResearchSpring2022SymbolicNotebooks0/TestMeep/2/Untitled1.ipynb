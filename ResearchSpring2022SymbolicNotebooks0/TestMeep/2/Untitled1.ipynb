{
 "cells": [
  {
   "cell_type": "code",
   "execution_count": 1,
   "id": "03d40645-0652-447f-bf53-f2e698fb1d84",
   "metadata": {},
   "outputs": [
    {
     "name": "stderr",
     "output_type": "stream",
     "text": [
      "Authorization required, but no authorization protocol specified\n",
      "Authorization required, but no authorization protocol specified\n"
     ]
    },
    {
     "ename": "TclError",
     "evalue": "couldn't connect to display \":1\"",
     "output_type": "error",
     "traceback": [
      "\u001b[0;31m---------------------------------------------------------------------------\u001b[0m",
      "\u001b[0;31mTclError\u001b[0m                                  Traceback (most recent call last)",
      "Cell \u001b[0;32mIn[1], line 57\u001b[0m\n\u001b[1;32m     53\u001b[0m tk\u001b[38;5;241m.\u001b[39madd(top, outputPadRout)\n\u001b[1;32m     55\u001b[0m tk\u001b[38;5;241m.\u001b[39mbuild_mask(top, waveGuideTemplate, final_layer \u001b[38;5;241m=\u001b[39m \u001b[38;5;241m3\u001b[39m, final_datatype \u001b[38;5;241m=\u001b[39m \u001b[38;5;241m0\u001b[39m)\n\u001b[0;32m---> 57\u001b[0m \u001b[43mgdspy\u001b[49m\u001b[38;5;241;43m.\u001b[39;49m\u001b[43mLayoutViewer\u001b[49m\u001b[43m(\u001b[49m\u001b[43m)\u001b[49m\n\u001b[1;32m     59\u001b[0m \u001b[38;5;66;03m# Simulate\u001b[39;00m\n\u001b[1;32m     61\u001b[0m ps\u001b[38;5;241m.\u001b[39mcompute_mode(\n\u001b[1;32m     62\u001b[0m         waveGuideTemplate, \n\u001b[1;32m     63\u001b[0m         mstack, \n\u001b[0;32m   (...)\u001b[0m\n\u001b[1;32m     69\u001b[0m         polarization \u001b[38;5;241m=\u001b[39m \u001b[38;5;124m\"\u001b[39m\u001b[38;5;124mTE\u001b[39m\u001b[38;5;124m\"\u001b[39m\n\u001b[1;32m     70\u001b[0m     )\n",
      "File \u001b[0;32m/opt/conda/lib/python3.10/site-packages/gdspy/viewer.py:190\u001b[0m, in \u001b[0;36mLayoutViewer.__init__\u001b[0;34m(self, library, cells, hidden_types, depth, color, pattern, background, width, height)\u001b[0m\n\u001b[1;32m    178\u001b[0m \u001b[38;5;28;01mdef\u001b[39;00m \u001b[38;5;21m__init__\u001b[39m(\n\u001b[1;32m    179\u001b[0m     \u001b[38;5;28mself\u001b[39m,\n\u001b[1;32m    180\u001b[0m     library\u001b[38;5;241m=\u001b[39m\u001b[38;5;28;01mNone\u001b[39;00m,\n\u001b[0;32m   (...)\u001b[0m\n\u001b[1;32m    188\u001b[0m     height\u001b[38;5;241m=\u001b[39m\u001b[38;5;241m600\u001b[39m,\n\u001b[1;32m    189\u001b[0m ):\n\u001b[0;32m--> 190\u001b[0m     \u001b[43mtkinter\u001b[49m\u001b[38;5;241;43m.\u001b[39;49m\u001b[43mFrame\u001b[49m\u001b[38;5;241;43m.\u001b[39;49m\u001b[38;5;21;43m__init__\u001b[39;49m\u001b[43m(\u001b[49m\u001b[38;5;28;43mself\u001b[39;49m\u001b[43m,\u001b[49m\u001b[43m \u001b[49m\u001b[38;5;28;43;01mNone\u001b[39;49;00m\u001b[43m)\u001b[49m\n\u001b[1;32m    192\u001b[0m     \u001b[38;5;28mself\u001b[39m\u001b[38;5;241m.\u001b[39mcells \u001b[38;5;241m=\u001b[39m {} \u001b[38;5;28;01mif\u001b[39;00m library \u001b[38;5;129;01mis\u001b[39;00m \u001b[38;5;28;01mNone\u001b[39;00m \u001b[38;5;28;01melse\u001b[39;00m \u001b[38;5;28mdict\u001b[39m(library\u001b[38;5;241m.\u001b[39mcells)\n\u001b[1;32m    193\u001b[0m     \u001b[38;5;28;01mif\u001b[39;00m cells \u001b[38;5;129;01mis\u001b[39;00m \u001b[38;5;129;01mnot\u001b[39;00m \u001b[38;5;28;01mNone\u001b[39;00m:\n",
      "File \u001b[0;32m/opt/conda/lib/python3.10/tkinter/__init__.py:3153\u001b[0m, in \u001b[0;36mFrame.__init__\u001b[0;34m(self, master, cnf, **kw)\u001b[0m\n\u001b[1;32m   3151\u001b[0m     extra \u001b[38;5;241m=\u001b[39m (\u001b[38;5;124m'\u001b[39m\u001b[38;5;124m-class\u001b[39m\u001b[38;5;124m'\u001b[39m, cnf[\u001b[38;5;124m'\u001b[39m\u001b[38;5;124mclass\u001b[39m\u001b[38;5;124m'\u001b[39m])\n\u001b[1;32m   3152\u001b[0m     \u001b[38;5;28;01mdel\u001b[39;00m cnf[\u001b[38;5;124m'\u001b[39m\u001b[38;5;124mclass\u001b[39m\u001b[38;5;124m'\u001b[39m]\n\u001b[0;32m-> 3153\u001b[0m \u001b[43mWidget\u001b[49m\u001b[38;5;241;43m.\u001b[39;49m\u001b[38;5;21;43m__init__\u001b[39;49m\u001b[43m(\u001b[49m\u001b[38;5;28;43mself\u001b[39;49m\u001b[43m,\u001b[49m\u001b[43m \u001b[49m\u001b[43mmaster\u001b[49m\u001b[43m,\u001b[49m\u001b[43m \u001b[49m\u001b[38;5;124;43m'\u001b[39;49m\u001b[38;5;124;43mframe\u001b[39;49m\u001b[38;5;124;43m'\u001b[39;49m\u001b[43m,\u001b[49m\u001b[43m \u001b[49m\u001b[43mcnf\u001b[49m\u001b[43m,\u001b[49m\u001b[43m \u001b[49m\u001b[43m{\u001b[49m\u001b[43m}\u001b[49m\u001b[43m,\u001b[49m\u001b[43m \u001b[49m\u001b[43mextra\u001b[49m\u001b[43m)\u001b[49m\n",
      "File \u001b[0;32m/opt/conda/lib/python3.10/tkinter/__init__.py:2595\u001b[0m, in \u001b[0;36mBaseWidget.__init__\u001b[0;34m(self, master, widgetName, cnf, kw, extra)\u001b[0m\n\u001b[1;32m   2593\u001b[0m     cnf \u001b[38;5;241m=\u001b[39m _cnfmerge((cnf, kw))\n\u001b[1;32m   2594\u001b[0m \u001b[38;5;28mself\u001b[39m\u001b[38;5;241m.\u001b[39mwidgetName \u001b[38;5;241m=\u001b[39m widgetName\n\u001b[0;32m-> 2595\u001b[0m \u001b[43mBaseWidget\u001b[49m\u001b[38;5;241;43m.\u001b[39;49m\u001b[43m_setup\u001b[49m\u001b[43m(\u001b[49m\u001b[38;5;28;43mself\u001b[39;49m\u001b[43m,\u001b[49m\u001b[43m \u001b[49m\u001b[43mmaster\u001b[49m\u001b[43m,\u001b[49m\u001b[43m \u001b[49m\u001b[43mcnf\u001b[49m\u001b[43m)\u001b[49m\n\u001b[1;32m   2596\u001b[0m \u001b[38;5;28;01mif\u001b[39;00m \u001b[38;5;28mself\u001b[39m\u001b[38;5;241m.\u001b[39m_tclCommands \u001b[38;5;129;01mis\u001b[39;00m \u001b[38;5;28;01mNone\u001b[39;00m:\n\u001b[1;32m   2597\u001b[0m     \u001b[38;5;28mself\u001b[39m\u001b[38;5;241m.\u001b[39m_tclCommands \u001b[38;5;241m=\u001b[39m []\n",
      "File \u001b[0;32m/opt/conda/lib/python3.10/tkinter/__init__.py:2562\u001b[0m, in \u001b[0;36mBaseWidget._setup\u001b[0;34m(self, master, cnf)\u001b[0m\n\u001b[1;32m   2560\u001b[0m \u001b[38;5;124;03m\"\"\"Internal function. Sets up information about children.\"\"\"\u001b[39;00m\n\u001b[1;32m   2561\u001b[0m \u001b[38;5;28;01mif\u001b[39;00m master \u001b[38;5;129;01mis\u001b[39;00m \u001b[38;5;28;01mNone\u001b[39;00m:\n\u001b[0;32m-> 2562\u001b[0m     master \u001b[38;5;241m=\u001b[39m \u001b[43m_get_default_root\u001b[49m\u001b[43m(\u001b[49m\u001b[43m)\u001b[49m\n\u001b[1;32m   2563\u001b[0m \u001b[38;5;28mself\u001b[39m\u001b[38;5;241m.\u001b[39mmaster \u001b[38;5;241m=\u001b[39m master\n\u001b[1;32m   2564\u001b[0m \u001b[38;5;28mself\u001b[39m\u001b[38;5;241m.\u001b[39mtk \u001b[38;5;241m=\u001b[39m master\u001b[38;5;241m.\u001b[39mtk\n",
      "File \u001b[0;32m/opt/conda/lib/python3.10/tkinter/__init__.py:298\u001b[0m, in \u001b[0;36m_get_default_root\u001b[0;34m(what)\u001b[0m\n\u001b[1;32m    296\u001b[0m     \u001b[38;5;28;01mif\u001b[39;00m what:\n\u001b[1;32m    297\u001b[0m         \u001b[38;5;28;01mraise\u001b[39;00m \u001b[38;5;167;01mRuntimeError\u001b[39;00m(\u001b[38;5;124mf\u001b[39m\u001b[38;5;124m\"\u001b[39m\u001b[38;5;124mToo early to \u001b[39m\u001b[38;5;132;01m{\u001b[39;00mwhat\u001b[38;5;132;01m}\u001b[39;00m\u001b[38;5;124m: no default root window\u001b[39m\u001b[38;5;124m\"\u001b[39m)\n\u001b[0;32m--> 298\u001b[0m     root \u001b[38;5;241m=\u001b[39m \u001b[43mTk\u001b[49m\u001b[43m(\u001b[49m\u001b[43m)\u001b[49m\n\u001b[1;32m    299\u001b[0m     \u001b[38;5;28;01massert\u001b[39;00m _default_root \u001b[38;5;129;01mis\u001b[39;00m root\n\u001b[1;32m    300\u001b[0m \u001b[38;5;28;01mreturn\u001b[39;00m _default_root\n",
      "File \u001b[0;32m/opt/conda/lib/python3.10/tkinter/__init__.py:2299\u001b[0m, in \u001b[0;36mTk.__init__\u001b[0;34m(self, screenName, baseName, className, useTk, sync, use)\u001b[0m\n\u001b[1;32m   2297\u001b[0m         baseName \u001b[38;5;241m=\u001b[39m baseName \u001b[38;5;241m+\u001b[39m ext\n\u001b[1;32m   2298\u001b[0m interactive \u001b[38;5;241m=\u001b[39m \u001b[38;5;28;01mFalse\u001b[39;00m\n\u001b[0;32m-> 2299\u001b[0m \u001b[38;5;28mself\u001b[39m\u001b[38;5;241m.\u001b[39mtk \u001b[38;5;241m=\u001b[39m \u001b[43m_tkinter\u001b[49m\u001b[38;5;241;43m.\u001b[39;49m\u001b[43mcreate\u001b[49m\u001b[43m(\u001b[49m\u001b[43mscreenName\u001b[49m\u001b[43m,\u001b[49m\u001b[43m \u001b[49m\u001b[43mbaseName\u001b[49m\u001b[43m,\u001b[49m\u001b[43m \u001b[49m\u001b[43mclassName\u001b[49m\u001b[43m,\u001b[49m\u001b[43m \u001b[49m\u001b[43minteractive\u001b[49m\u001b[43m,\u001b[49m\u001b[43m \u001b[49m\u001b[43mwantobjects\u001b[49m\u001b[43m,\u001b[49m\u001b[43m \u001b[49m\u001b[43museTk\u001b[49m\u001b[43m,\u001b[49m\u001b[43m \u001b[49m\u001b[43msync\u001b[49m\u001b[43m,\u001b[49m\u001b[43m \u001b[49m\u001b[43muse\u001b[49m\u001b[43m)\u001b[49m\n\u001b[1;32m   2300\u001b[0m \u001b[38;5;28;01mif\u001b[39;00m useTk:\n\u001b[1;32m   2301\u001b[0m     \u001b[38;5;28mself\u001b[39m\u001b[38;5;241m.\u001b[39m_loadtk()\n",
      "\u001b[0;31mTclError\u001b[0m: couldn't connect to display \":1\""
     ]
    }
   ],
   "source": [
    "import gdspy\n",
    "from picwriter import toolkit as tk\n",
    "import picwriter.components as pc\n",
    "import picwriter.picsim as ps\n",
    "\n",
    "\n",
    "# Define materials\n",
    "epsSiO2 = 1.444**2\n",
    "epsSi = 3.55**2\n",
    "etch_stack = [(epsSiO2, 1.89), (epsSi, 0.07), (epsSiO2, 2.04)]\n",
    "mstack = ps.MaterialStack(vsize=4.0, default_stack=etch_stack, name=\"Si waveguide\")\n",
    "waveguide_stack = [(epsSiO2, 1.89), (epsSi, 0.22), (epsSiO2, 1.89)]\n",
    "clad_stack = [(epsSiO2, 1.89), (epsSi, 0.05), (epsSiO2, 2.06)]\n",
    "mstack.addVStack(layer=1, datatype=0, stack=waveguide_stack)\n",
    "mstack.addVStack(layer=2, datatype=0, stack=clad_stack)\n",
    "\n",
    "\n",
    "# Define geometry\n",
    "\n",
    "top = gdspy.Cell(\"top\")\n",
    "\n",
    "waveGuideTemplate = pc.WaveguideTemplate(\n",
    "        wg_width = 0.45, \n",
    "        clad_width = 10, \n",
    "        bend_radius = 100, \n",
    "        resist = '+', \n",
    "        fab = \"ETCH\", \n",
    "        wg_layer = 1, \n",
    "        wg_datatype = 0, \n",
    "        clad_layer = 2, \n",
    "        clad_datatype = 0\n",
    "    )\n",
    "\n",
    "metalTemplate = pc.MetalTemplate()\n",
    "\n",
    "paddedWaveGuide = pc.Waveguide([(0, 1000), (1000, 1000)], waveGuideTemplate)\n",
    "\n",
    "inputPadRout = pc.MetalRoute([(500, 0), (500, 700)], metalTemplate)\n",
    "outputPadRout = pc.MetalRoute([(500, 2000), (500, 1300)], metalTemplate)\n",
    "\n",
    "inputPad = pc.Bondpad(metalTemplate, **inputPadRout.portlist[\"input\"])\n",
    "anodePad = pc.Bondpad(metalTemplate, **inputPadRout.portlist[\"output\"])\n",
    "\n",
    "outputPad = pc.Bondpad(metalTemplate, **outputPadRout.portlist[\"input\"])\n",
    "cathodePad = pc.Bondpad(metalTemplate, **outputPadRout.portlist[\"output\"])\n",
    "\n",
    "tk.add(top, paddedWaveGuide)\n",
    "tk.add(top, inputPad)\n",
    "tk.add(top, anodePad)\n",
    "tk.add(top, inputPadRout)\n",
    "tk.add(top, outputPad)\n",
    "tk.add(top, cathodePad)\n",
    "tk.add(top, outputPadRout)\n",
    "\n",
    "tk.build_mask(top, waveGuideTemplate, final_layer = 3, final_datatype = 0)\n",
    "\n",
    "#gdspy.LayoutViewer()\n",
    "\n",
    "# Simulate\n",
    "\n",
    "ps.compute_mode(\n",
    "        waveGuideTemplate, \n",
    "        mstack, \n",
    "        res = 128, \n",
    "        wavelength = 1.55, \n",
    "        sx = 3.0, \n",
    "        sy = 3.0, \n",
    "        plot_mode_number = 1, \n",
    "        polarization = \"TE\"\n",
    "    )\n",
    "\n",
    "\n",
    "\n"
   ]
  },
  {
   "cell_type": "code",
   "execution_count": null,
   "id": "17b1e85e-2188-4b10-ab0c-d5d6b310986b",
   "metadata": {},
   "outputs": [],
   "source": []
  },
  {
   "cell_type": "code",
   "execution_count": null,
   "id": "3de57dc3-728d-45bc-947a-92b01cf019b9",
   "metadata": {},
   "outputs": [],
   "source": []
  }
 ],
 "metadata": {
  "kernelspec": {
   "display_name": "Python 3 (ipykernel)",
   "language": "python",
   "name": "python3"
  },
  "language_info": {
   "codemirror_mode": {
    "name": "ipython",
    "version": 3
   },
   "file_extension": ".py",
   "mimetype": "text/x-python",
   "name": "python",
   "nbconvert_exporter": "python",
   "pygments_lexer": "ipython3",
   "version": "3.10.5"
  }
 },
 "nbformat": 4,
 "nbformat_minor": 5
}
